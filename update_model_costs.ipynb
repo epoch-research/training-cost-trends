{
 "cells": [
  {
   "cell_type": "markdown",
   "metadata": {},
   "source": [
    "# Model Cost Calculator\n",
    "# \n",
    "# This notebook imports functions from the codebase and is NOT fully standalone\n",
    "# Requires: cost.py, data.py, prices.py, hardware.py, energy.py, parameters.py, inflation.py\n",
    "# Also requires data files: All ML Systems - full view.csv, Hardware prices.csv, Chip dataset-Grid view.csv, PCU518210518210.csv, frontier_systems_by_*.json\n",
    "# \n",
    "# Simplified cost estimation for frontier ML models with configurable parameters and real pricing data.\""
   ]
  },
  {
   "cell_type": "code",
   "execution_count": null,
   "metadata": {},
   "outputs": [],
   "source": [
    "# Configuration\n",
    "estimation_method = 'hardware-capex-energy'  # 'hardware-capex-energy', 'hardware-acquisition', 'cloud'\n",
    "compute_threshold_method = 'top_n'  # 'top_n', 'window_percentile', 'backward_window_percentile', 'residual_from_trend'\n",
    "compute_threshold = 10  # e.g. 10 for top 10 models, 75 for top 25%\n",
    "\n",
    "# Output file\n",
    "output_file = 'model_costs.csv'"
   ]
  },
  {
   "cell_type": "code",
   "metadata": {},
   "outputs": [],
   "source": "# Install required packages\nimport subprocess\nimport sys\n\ndef install_package(package):\n    subprocess.check_call([sys.executable, \"-m\", \"pip\", \"install\", package])\n\n# Install core dependencies\ntry:\n    import scipy\nexcept ImportError:\n    install_package(\"scipy\")\n    \ntry:\n    import sklearn\nexcept ImportError:\n    install_package(\"scikit-learn\")\n\nimport json\nimport numpy as np\nimport pandas as pd\n\n# Import core modules - use full module imports to avoid circular dependency issues\nimport cost\nimport data\nimport prices\nimport inflation\nimport energy\nimport hardware\nimport parameters"
  },
  {
   "cell_type": "code",
   "metadata": {},
   "outputs": [],
   "source": "# Load data using existing pipeline\nfrontier_df, hardware_df, price_df = data.load_data_for_cost_estimation(\n    compute_threshold_method=compute_threshold_method, \n    compute_threshold=compute_threshold\n)\n\nprint(f\"Loaded {len(frontier_df)} frontier models for cost estimation\")"
  },
  {
   "cell_type": "code",
   "metadata": {},
   "outputs": [],
   "source": "def get_organization_vendor_mapping():\n    # Get the complete organization to cloud vendor mapping from cost.py\n    return {\n        'google': 'Google Cloud',\n        'deepmind': 'Google Cloud',\n        'microsoft': 'Microsoft Azure', \n        'openai': 'Microsoft Azure',\n        'anthropic': 'Amazon Web Services',  # Common mapping\n        'amazon': 'Amazon Web Services',\n        'meta': 'Meta',  # Meta has their own infrastructure\n        'facebook': 'Meta',\n    }\n\ndef estimate_chip_hours_with_real_specs(row):\n    # Enhanced chip hours estimation using real hardware specifications\n    chip_hours = cost.estimate_chip_hours(row, hardware_df)\n    if chip_hours is not None and not np.isnan(chip_hours):\n        return chip_hours\n    \n    # Check for direct chip-hours data\n    if 'Training chip-hours' in row.index and not pd.isna(row['Training chip-hours']):\n        return row['Training chip-hours']\n    \n    # Calculate from hardware quantity and training time\n    hardware_quantity = row.get('Hardware quantity')\n    training_time = row.get('Training time (hours)')\n    \n    if not pd.isna(hardware_quantity) and not pd.isna(training_time):\n        return hardware_quantity * training_time\n    \n    # Fallback: estimate from compute and real hardware specs\n    flop = row.get('Training compute (FLOP)')\n    hardware_model = row.get('Training hardware')\n    \n    if pd.isna(flop) or pd.isna(hardware_model):\n        return None\n        \n    # Get real FLOP/s performance from hardware database\n    flop_per_second = hardware.get_flop_per_second(hardware_model, hardware_df)\n    if flop_per_second is None:\n        return None\n        \n    # Use real or estimated utilization\n    utilization = row.get('Hardware utilization', parameters.MEDIAN_UTILIZATION)\n    if pd.isna(utilization):\n        utilization = parameters.MEDIAN_UTILIZATION\n        \n    # Calculate training time\n    training_seconds = flop / (flop_per_second * utilization)\n    training_chip_hours = training_seconds / parameters.SECONDS_PER_HOUR\n    \n    return training_chip_hours\n\ndef calculate_cloud_cost(row):\n    # Calculate cloud rental cost using real pricing data with proper vendor selection\n    org_to_cloud_vendor = get_organization_vendor_mapping()\n    \n    # Use real price lookup with 3-year CUD and proper vendor selection\n    price, _ = prices.find_price(\n        row, price_df, hardware_df, \n        'Training hardware', 'Price per chip-hour (3-year CUD)', \n        org_to_cloud_vendor\n    )\n    \n    if price is None:\n        return None\n        \n    # Use enhanced chip hours estimation with real hardware specs\n    chip_hours = estimate_chip_hours_with_real_specs(row)\n    if chip_hours is None or np.isnan(chip_hours):\n        return None\n        \n    return price * chip_hours\n\ndef calculate_hardware_acquisition_cost(row):\n    # Calculate upfront hardware purchase cost using real pricing\n    price, _ = prices.get_hardware_acquisition_price(\n        row, price_df, hardware_df,\n        'Training hardware', 'Price (hardware purchase)'\n    )\n    \n    if price is None:\n        return None\n        \n    hardware_quantity = row.get('Hardware quantity')\n    if pd.isna(hardware_quantity):\n        return None\n        \n    # Base cost\n    total_cost = hardware_quantity * price\n    \n    # Add interconnect cost\n    total_cost *= 1 / (1 - parameters.CLUSTER_INTERCONNECT_COST_FRACTION)\n    \n    return total_cost\n\ndef calculate_hardware_capex_energy_cost(row):\n    # Calculate amortized hardware + energy cost using real pricing and organization-specific PUE\n    price, _ = prices.get_hardware_acquisition_price(\n        row, price_df, hardware_df,\n        'Training hardware', 'Price (hardware purchase)'  \n    )\n    \n    if price is None:\n        return None\n        \n    system_to_price = {row['Model']: price}\n    \n    # Use the real cost calculation with organization-specific energy costs\n    estimated_cost = cost.estimate_hardware_capex_energy_cost(\n        row, system_to_price, frontier_df, hardware_df, separate_components=False\n    )\n    \n    return estimated_cost"
  },
  {
   "cell_type": "code",
   "metadata": {},
   "outputs": [],
   "source": "# Define unified cost calculation function\ndef calculate_cost(row, method):\n    \"\"\"Calculate cost using specified method\"\"\"\n    if method == 'cloud':\n        return calculate_cloud_cost(row)\n    elif method == 'hardware-acquisition':\n        return calculate_hardware_acquisition_cost(row)\n    elif method == 'hardware-capex-energy':\n        return calculate_hardware_capex_energy_cost(row)\n    else:\n        raise ValueError(f\"Unknown estimation method: {method}\")\n\n# Apply cost calculation\nprint(f\"Calculating costs using {estimation_method} method...\")\nfrontier_df['Cost'] = frontier_df.apply(lambda row: calculate_cost(row, estimation_method), axis=1)\n\n# Apply inflation adjustment using existing function\nprint(\"Applying inflation adjustment to 2024 dollars...\")\nfrontier_df = inflation.adjust_column_for_inflation(frontier_df, 'Cost', 'data/PCU518210518210.csv', '2024-12-01')\n\n# Use inflation-adjusted costs\ncost_column = 'Cost (inflation-adjusted)'\n\n# Filter to models with successful cost estimates  \nresults_df = frontier_df[frontier_df[cost_column].notna()][['Model', cost_column]].copy()\nresults_df = results_df.rename(columns={cost_column: 'Cost'})\nresults_df = results_df.sort_values('Cost', ascending=False)\n\nprint(f\"Successfully calculated costs for {len(results_df)} models\")\nprint(f\"Failed to calculate costs for {len(frontier_df) - len(results_df)} models\")"
  },
  {
   "cell_type": "code",
   "execution_count": null,
   "metadata": {},
   "outputs": [],
   "source": [
    "# Save results\n",
    "results_df.to_csv(output_file, index=False)\n",
    "print(f\"\\nResults saved to {output_file}\")\n",
    "print(f\"Total models with cost estimates: {len(results_df)}\")"
   ]
  }
 ],
 "metadata": {
  "kernelspec": {
   "display_name": "Python 3",
   "language": "python",
   "name": "python3"
  },
  "language_info": {
   "codemirror_mode": {
    "name": "ipython",
    "version": 3
   },
   "file_extension": ".py",
   "mimetype": "text/x-python",
   "name": "python",
   "nbconvert_exporter": "python",
   "pygments_lexer": "ipython3",
   "version": "3.8.0"
  }
 },
 "nbformat": 4,
 "nbformat_minor": 4
}