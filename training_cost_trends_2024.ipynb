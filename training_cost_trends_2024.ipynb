{
  "cells": [
    {
      "cell_type": "markdown",
      "metadata": {},
      "source": [
        "# Setup"
      ]
    },
    {
      "cell_type": "code",
      "execution_count": 38,
      "metadata": {
        "id": "qltoZ7TbdkHZ"
      },
      "outputs": [],
      "source": [
        "import numpy as np\n",
        "import pandas as pd"
      ]
    },
    {
      "cell_type": "code",
      "execution_count": 77,
      "metadata": {},
      "outputs": [],
      "source": [
        "SECONDS_PER_HOUR = 60 * 60\n",
        "SECONDS_PER_YEAR = SECONDS_PER_HOUR * 24 * 365.25"
      ]
    },
    {
      "cell_type": "markdown",
      "metadata": {},
      "source": [
        "# Dataset"
      ]
    },
    {
      "cell_type": "markdown",
      "metadata": {},
      "source": [
        "## ML systems"
      ]
    },
    {
      "cell_type": "code",
      "execution_count": 46,
      "metadata": {
        "id": "c8uNf70ve1PM"
      },
      "outputs": [
        {
          "data": {
            "text/html": [
              "<div>\n",
              "<style scoped>\n",
              "    .dataframe tbody tr th:only-of-type {\n",
              "        vertical-align: middle;\n",
              "    }\n",
              "\n",
              "    .dataframe tbody tr th {\n",
              "        vertical-align: top;\n",
              "    }\n",
              "\n",
              "    .dataframe thead th {\n",
              "        text-align: right;\n",
              "    }\n",
              "</style>\n",
              "<table border=\"1\" class=\"dataframe\">\n",
              "  <thead>\n",
              "    <tr style=\"text-align: right;\">\n",
              "      <th></th>\n",
              "      <th>System</th>\n",
              "      <th>Domain</th>\n",
              "      <th>Task</th>\n",
              "      <th>Authors</th>\n",
              "      <th>Notability criteria</th>\n",
              "      <th>Notability criteria notes</th>\n",
              "      <th>Open-source</th>\n",
              "      <th>Link</th>\n",
              "      <th>Citations</th>\n",
              "      <th>Reference</th>\n",
              "      <th>...</th>\n",
              "      <th>Exclude</th>\n",
              "      <th>Country (from Organization)</th>\n",
              "      <th>Organization (from Organization)</th>\n",
              "      <th>Base model</th>\n",
              "      <th>Finetune compute (FLOP)</th>\n",
              "      <th>Finetune compute notes</th>\n",
              "      <th>Authors by country</th>\n",
              "      <th>Hardware quantity</th>\n",
              "      <th>Hardware utilization</th>\n",
              "      <th>Training cost trends</th>\n",
              "    </tr>\n",
              "  </thead>\n",
              "  <tbody>\n",
              "    <tr>\n",
              "      <th>0</th>\n",
              "      <td>Cohere Command</td>\n",
              "      <td>Language</td>\n",
              "      <td>NaN</td>\n",
              "      <td>NaN</td>\n",
              "      <td>NaN</td>\n",
              "      <td>NaN</td>\n",
              "      <td>NaN</td>\n",
              "      <td>https://cohere.com/models/command</td>\n",
              "      <td>NaN</td>\n",
              "      <td>World-class AI, at your command</td>\n",
              "      <td>...</td>\n",
              "      <td>NaN</td>\n",
              "      <td>Canada</td>\n",
              "      <td>Cohere</td>\n",
              "      <td>NaN</td>\n",
              "      <td>NaN</td>\n",
              "      <td>NaN</td>\n",
              "      <td>NaN</td>\n",
              "      <td>NaN</td>\n",
              "      <td>NaN</td>\n",
              "      <td>NaN</td>\n",
              "    </tr>\n",
              "    <tr>\n",
              "      <th>1</th>\n",
              "      <td>NaN</td>\n",
              "      <td>NaN</td>\n",
              "      <td>NaN</td>\n",
              "      <td>NaN</td>\n",
              "      <td>NaN</td>\n",
              "      <td>NaN</td>\n",
              "      <td>NaN</td>\n",
              "      <td>NaN</td>\n",
              "      <td>NaN</td>\n",
              "      <td>NaN</td>\n",
              "      <td>...</td>\n",
              "      <td>NaN</td>\n",
              "      <td>NaN</td>\n",
              "      <td>NaN</td>\n",
              "      <td>NaN</td>\n",
              "      <td>NaN</td>\n",
              "      <td>NaN</td>\n",
              "      <td>NaN</td>\n",
              "      <td>NaN</td>\n",
              "      <td>NaN</td>\n",
              "      <td>NaN</td>\n",
              "    </tr>\n",
              "    <tr>\n",
              "      <th>2</th>\n",
              "      <td>Theseus</td>\n",
              "      <td>Other</td>\n",
              "      <td>Maze solving</td>\n",
              "      <td>Claude Shannon</td>\n",
              "      <td>Historical significance</td>\n",
              "      <td>NaN</td>\n",
              "      <td>NaN</td>\n",
              "      <td>https://www.technologyreview.com/2018/12/19/13...</td>\n",
              "      <td>0.0</td>\n",
              "      <td>Mighty Mouse</td>\n",
              "      <td>...</td>\n",
              "      <td>NaN</td>\n",
              "      <td>United States of America</td>\n",
              "      <td>Bell Laboratories</td>\n",
              "      <td>NaN</td>\n",
              "      <td>NaN</td>\n",
              "      <td>NaN</td>\n",
              "      <td>Theseus</td>\n",
              "      <td>NaN</td>\n",
              "      <td>NaN</td>\n",
              "      <td>NaN</td>\n",
              "    </tr>\n",
              "    <tr>\n",
              "      <th>3</th>\n",
              "      <td>SNARC</td>\n",
              "      <td>Other</td>\n",
              "      <td>Maze solving</td>\n",
              "      <td>Marvin Minsky</td>\n",
              "      <td>Historical significance</td>\n",
              "      <td>NaN</td>\n",
              "      <td>NaN</td>\n",
              "      <td>https://en.wikipedia.org/wiki/Stochastic_neura...</td>\n",
              "      <td>33.0</td>\n",
              "      <td>A Neural-Analogue Calculator Based upon a Prob...</td>\n",
              "      <td>...</td>\n",
              "      <td>NaN</td>\n",
              "      <td>United States of America</td>\n",
              "      <td>Harvard University</td>\n",
              "      <td>NaN</td>\n",
              "      <td>NaN</td>\n",
              "      <td>NaN</td>\n",
              "      <td>SNARC</td>\n",
              "      <td>NaN</td>\n",
              "      <td>NaN</td>\n",
              "      <td>NaN</td>\n",
              "    </tr>\n",
              "    <tr>\n",
              "      <th>4</th>\n",
              "      <td>Genetic algorithm</td>\n",
              "      <td>NaN</td>\n",
              "      <td>NaN</td>\n",
              "      <td>NA Barricelli</td>\n",
              "      <td>Historical significance</td>\n",
              "      <td>Possibly first computer simulation of a geneti...</td>\n",
              "      <td>NaN</td>\n",
              "      <td>https://link.springer.com/article/10.1007/BF01...</td>\n",
              "      <td>266.0</td>\n",
              "      <td>Numerical testing of evolution theories</td>\n",
              "      <td>...</td>\n",
              "      <td>NaN</td>\n",
              "      <td>United States of America</td>\n",
              "      <td>Institute for Advanced Study</td>\n",
              "      <td>NaN</td>\n",
              "      <td>NaN</td>\n",
              "      <td>NaN</td>\n",
              "      <td>Genetic algorithm</td>\n",
              "      <td>NaN</td>\n",
              "      <td>NaN</td>\n",
              "      <td>NaN</td>\n",
              "    </tr>\n",
              "  </tbody>\n",
              "</table>\n",
              "<p>5 rows × 47 columns</p>\n",
              "</div>"
            ],
            "text/plain": [
              "              System    Domain          Task         Authors  \\\n",
              "0     Cohere Command  Language           NaN             NaN   \n",
              "1                NaN       NaN           NaN             NaN   \n",
              "2            Theseus     Other  Maze solving  Claude Shannon   \n",
              "3              SNARC     Other  Maze solving   Marvin Minsky   \n",
              "4  Genetic algorithm       NaN           NaN   NA Barricelli   \n",
              "\n",
              "       Notability criteria                          Notability criteria notes  \\\n",
              "0                      NaN                                                NaN   \n",
              "1                      NaN                                                NaN   \n",
              "2  Historical significance                                                NaN   \n",
              "3  Historical significance                                                NaN   \n",
              "4  Historical significance  Possibly first computer simulation of a geneti...   \n",
              "\n",
              "  Open-source                                               Link  Citations  \\\n",
              "0         NaN                  https://cohere.com/models/command        NaN   \n",
              "1         NaN                                                NaN        NaN   \n",
              "2         NaN  https://www.technologyreview.com/2018/12/19/13...        0.0   \n",
              "3         NaN  https://en.wikipedia.org/wiki/Stochastic_neura...       33.0   \n",
              "4         NaN  https://link.springer.com/article/10.1007/BF01...      266.0   \n",
              "\n",
              "                                           Reference  ... Exclude  \\\n",
              "0                    World-class AI, at your command  ...     NaN   \n",
              "1                                                NaN  ...     NaN   \n",
              "2                                       Mighty Mouse  ...     NaN   \n",
              "3  A Neural-Analogue Calculator Based upon a Prob...  ...     NaN   \n",
              "4            Numerical testing of evolution theories  ...     NaN   \n",
              "\n",
              "  Country (from Organization) Organization (from Organization)  Base model  \\\n",
              "0                      Canada                           Cohere         NaN   \n",
              "1                         NaN                              NaN         NaN   \n",
              "2    United States of America                Bell Laboratories         NaN   \n",
              "3    United States of America               Harvard University         NaN   \n",
              "4    United States of America     Institute for Advanced Study         NaN   \n",
              "\n",
              "  Finetune compute (FLOP)  Finetune compute notes Authors by country  \\\n",
              "0                     NaN                     NaN                NaN   \n",
              "1                     NaN                     NaN                NaN   \n",
              "2                     NaN                     NaN            Theseus   \n",
              "3                     NaN                     NaN              SNARC   \n",
              "4                     NaN                     NaN  Genetic algorithm   \n",
              "\n",
              "  Hardware quantity Hardware utilization  Training cost trends  \n",
              "0               NaN                  NaN                   NaN  \n",
              "1               NaN                  NaN                   NaN  \n",
              "2               NaN                  NaN                   NaN  \n",
              "3               NaN                  NaN                   NaN  \n",
              "4               NaN                  NaN                   NaN  \n",
              "\n",
              "[5 rows x 47 columns]"
            ]
          },
          "execution_count": 46,
          "metadata": {},
          "output_type": "execute_result"
        }
      ],
      "source": [
        "pcd_df = pd.read_csv('data/All ML Systems - full view - 2023-12-14.csv')\n",
        "pcd_df.head()"
      ]
    },
    {
      "cell_type": "code",
      "execution_count": 50,
      "metadata": {},
      "outputs": [],
      "source": [
        "# Publication date in datetime format\n",
        "pcd_df.dropna(subset=['Publication date'], inplace=True)\n",
        "pcd_df['Publication date'] = pd.to_datetime(pcd_df['Publication date'])"
      ]
    },
    {
      "cell_type": "code",
      "execution_count": 51,
      "metadata": {
        "id": "zHTeCty5dqjn"
      },
      "outputs": [],
      "source": [
        "frontier_systems = [\n",
        "    \"PaLM 2\",\n",
        "    \"GPT-4\",\n",
        "    \"Minerva (540B)\",\n",
        "    \"Megatron-Turing NLG 530B\",\n",
        "    \"GPT-3 175B (davinci)\",\n",
        "    \"Meena\",\n",
        "    \"AlphaStar\",\n",
        "    \"AlphaGo Zero\",\n",
        "    \"AlphaGo Master\",\n",
        "    \"GNMT\",\n",
        "    \"Claude 2\",\n",
        "    \"PaLM (540B)\",\n",
        "    \"ERNIE 3.0 Titan\",\n",
        "    \"Gopher (280B)\",\n",
        "    \"OpenAI Five\",\n",
        "    \"T5-11B\",\n",
        "    \"Megatron-BERT\",\n",
        "    \"ResNeXt-101 32x48d\",\n",
        "    \"AlphaZero\",\n",
        "    \"Falcon 180B\",\n",
        "    \"GPT-3.5 (text-davinci-003)\",\n",
        "    \"Chinchilla\",\n",
        "    \"Yuan 1.0\",\n",
        "    \"Turing-NLG\",\n",
        "    \"BigGAN-deep 512x512\",\n",
        "    \"NASv3 (CIFAR-10)\",\n",
        "    \"AlphaGo Lee\",\n",
        "    \"AlphaGo Fan\",\n",
        "    \"OPT-175B\",\n",
        "    \"AlphaCode\",\n",
        "    \"GLaM\",\n",
        "    \"OpenAI Five Rerun\",\n",
        "    \"T5-3B\",\n",
        "    \"Megatron-LM (8.3B)\",\n",
        "    \"FTW\",\n",
        "    \"AmoebaNet-A (F=448)\",\n",
        "    \"OpenAI TI7 DOTA 1v1\",\n",
        "    \"JFT\",\n",
        "    \"Llama 2-70B\",\n",
        "    \"LLaMA-65B\",\n",
        "    \"LaMDA\",\n",
        "    \"ALIGN\",\n",
        "    \"GShard (dense)\",\n",
        "    \"RoBERTa Large\",\n",
        "    \"IMPALA\",\n",
        "]"
      ]
    },
    {
      "cell_type": "code",
      "execution_count": 52,
      "metadata": {
        "id": "Nyzyh8IKe0ZK"
      },
      "outputs": [
        {
          "data": {
            "text/html": [
              "<div>\n",
              "<style scoped>\n",
              "    .dataframe tbody tr th:only-of-type {\n",
              "        vertical-align: middle;\n",
              "    }\n",
              "\n",
              "    .dataframe tbody tr th {\n",
              "        vertical-align: top;\n",
              "    }\n",
              "\n",
              "    .dataframe thead th {\n",
              "        text-align: right;\n",
              "    }\n",
              "</style>\n",
              "<table border=\"1\" class=\"dataframe\">\n",
              "  <thead>\n",
              "    <tr style=\"text-align: right;\">\n",
              "      <th></th>\n",
              "      <th>System</th>\n",
              "      <th>Domain</th>\n",
              "      <th>Task</th>\n",
              "      <th>Authors</th>\n",
              "      <th>Notability criteria</th>\n",
              "      <th>Notability criteria notes</th>\n",
              "      <th>Open-source</th>\n",
              "      <th>Link</th>\n",
              "      <th>Citations</th>\n",
              "      <th>Reference</th>\n",
              "      <th>...</th>\n",
              "      <th>Exclude</th>\n",
              "      <th>Country (from Organization)</th>\n",
              "      <th>Organization (from Organization)</th>\n",
              "      <th>Base model</th>\n",
              "      <th>Finetune compute (FLOP)</th>\n",
              "      <th>Finetune compute notes</th>\n",
              "      <th>Authors by country</th>\n",
              "      <th>Hardware quantity</th>\n",
              "      <th>Hardware utilization</th>\n",
              "      <th>Training cost trends</th>\n",
              "    </tr>\n",
              "  </thead>\n",
              "  <tbody>\n",
              "    <tr>\n",
              "      <th>266</th>\n",
              "      <td>AlphaGo Fan</td>\n",
              "      <td>Games</td>\n",
              "      <td>Go</td>\n",
              "      <td>David Silver, Aja Huang, Chris J. Maddison, Ar...</td>\n",
              "      <td>SOTA improvement</td>\n",
              "      <td>NaN</td>\n",
              "      <td>NaN</td>\n",
              "      <td>https://www.nature.com/articles/nature24270.ep...</td>\n",
              "      <td>14389.0</td>\n",
              "      <td>Mastering the game of Go with deep neural netw...</td>\n",
              "      <td>...</td>\n",
              "      <td>NaN</td>\n",
              "      <td>Multinational</td>\n",
              "      <td>Google DeepMind</td>\n",
              "      <td>NaN</td>\n",
              "      <td>NaN</td>\n",
              "      <td>NaN</td>\n",
              "      <td>AlphaGo Fan</td>\n",
              "      <td>NaN</td>\n",
              "      <td>NaN</td>\n",
              "      <td>AlphaGo Fan</td>\n",
              "    </tr>\n",
              "    <tr>\n",
              "      <th>276</th>\n",
              "      <td>AlphaGo Lee</td>\n",
              "      <td>Games</td>\n",
              "      <td>Go</td>\n",
              "      <td>David Silver, Aja Huang, Chris J. Maddison, Ar...</td>\n",
              "      <td>Highly cited</td>\n",
              "      <td>NaN</td>\n",
              "      <td>NaN</td>\n",
              "      <td>https://www.nature.com/articles/nature16961</td>\n",
              "      <td>14389.0</td>\n",
              "      <td>Mastering the game of Go with deep neural netw...</td>\n",
              "      <td>...</td>\n",
              "      <td>NaN</td>\n",
              "      <td>United Kingdom of Great Britain and Northern I...</td>\n",
              "      <td>DeepMind</td>\n",
              "      <td>NaN</td>\n",
              "      <td>NaN</td>\n",
              "      <td>NaN</td>\n",
              "      <td>AlphaGo Lee</td>\n",
              "      <td>NaN</td>\n",
              "      <td>NaN</td>\n",
              "      <td>AlphaGo Lee</td>\n",
              "    </tr>\n",
              "    <tr>\n",
              "      <th>307</th>\n",
              "      <td>GNMT</td>\n",
              "      <td>Language</td>\n",
              "      <td>Translation</td>\n",
              "      <td>Yonghui Wu, Mike Schuster, Zhifeng Chen, Quoc ...</td>\n",
              "      <td>Highly cited</td>\n",
              "      <td>NaN</td>\n",
              "      <td>NaN</td>\n",
              "      <td>https://arxiv.org/abs/1609.08144</td>\n",
              "      <td>5948.0</td>\n",
              "      <td>Google's Neural Machine Translation System: Br...</td>\n",
              "      <td>...</td>\n",
              "      <td>NaN</td>\n",
              "      <td>Multinational</td>\n",
              "      <td>Google</td>\n",
              "      <td>NaN</td>\n",
              "      <td>NaN</td>\n",
              "      <td>NaN</td>\n",
              "      <td>GNMT</td>\n",
              "      <td>96.0</td>\n",
              "      <td>NaN</td>\n",
              "      <td>GNMT</td>\n",
              "    </tr>\n",
              "    <tr>\n",
              "      <th>318</th>\n",
              "      <td>NASv3 (CIFAR-10)</td>\n",
              "      <td>Vision</td>\n",
              "      <td>NaN</td>\n",
              "      <td>Barret Zoph, Quoc V. Le</td>\n",
              "      <td>Highly cited</td>\n",
              "      <td>NaN</td>\n",
              "      <td>NaN</td>\n",
              "      <td>https://arxiv.org/abs/1611.01578</td>\n",
              "      <td>4569.0</td>\n",
              "      <td>Neural Architecture Search with Reinforcement ...</td>\n",
              "      <td>...</td>\n",
              "      <td>0.0</td>\n",
              "      <td>Multinational</td>\n",
              "      <td>Google Brain</td>\n",
              "      <td>NaN</td>\n",
              "      <td>NaN</td>\n",
              "      <td>NaN</td>\n",
              "      <td>NASv3 (CIFAR-10)</td>\n",
              "      <td>800.0</td>\n",
              "      <td>NaN</td>\n",
              "      <td>NASv3 (CIFAR-10)</td>\n",
              "    </tr>\n",
              "    <tr>\n",
              "      <th>338</th>\n",
              "      <td>AlphaGo Master</td>\n",
              "      <td>Games</td>\n",
              "      <td>Go</td>\n",
              "      <td>D Silver, J Schrittwieser, K Simonyan, I Anton...</td>\n",
              "      <td>Highly cited</td>\n",
              "      <td>NaN</td>\n",
              "      <td>NaN</td>\n",
              "      <td>https://www.researchgate.net/publication/32047...</td>\n",
              "      <td>7831.0</td>\n",
              "      <td>Mastering the game of Go without human knowledge</td>\n",
              "      <td>...</td>\n",
              "      <td>NaN</td>\n",
              "      <td>United Kingdom of Great Britain and Northern I...</td>\n",
              "      <td>DeepMind</td>\n",
              "      <td>NaN</td>\n",
              "      <td>NaN</td>\n",
              "      <td>NaN</td>\n",
              "      <td>AlphaGo Master</td>\n",
              "      <td>NaN</td>\n",
              "      <td>NaN</td>\n",
              "      <td>AlphaGo Master</td>\n",
              "    </tr>\n",
              "  </tbody>\n",
              "</table>\n",
              "<p>5 rows × 47 columns</p>\n",
              "</div>"
            ],
            "text/plain": [
              "               System    Domain         Task  \\\n",
              "266       AlphaGo Fan     Games           Go   \n",
              "276       AlphaGo Lee     Games           Go   \n",
              "307              GNMT  Language  Translation   \n",
              "318  NASv3 (CIFAR-10)    Vision          NaN   \n",
              "338    AlphaGo Master     Games           Go   \n",
              "\n",
              "                                               Authors Notability criteria  \\\n",
              "266  David Silver, Aja Huang, Chris J. Maddison, Ar...    SOTA improvement   \n",
              "276  David Silver, Aja Huang, Chris J. Maddison, Ar...        Highly cited   \n",
              "307  Yonghui Wu, Mike Schuster, Zhifeng Chen, Quoc ...        Highly cited   \n",
              "318                            Barret Zoph, Quoc V. Le        Highly cited   \n",
              "338  D Silver, J Schrittwieser, K Simonyan, I Anton...        Highly cited   \n",
              "\n",
              "    Notability criteria notes Open-source  \\\n",
              "266                       NaN         NaN   \n",
              "276                       NaN         NaN   \n",
              "307                       NaN         NaN   \n",
              "318                       NaN         NaN   \n",
              "338                       NaN         NaN   \n",
              "\n",
              "                                                  Link  Citations  \\\n",
              "266  https://www.nature.com/articles/nature24270.ep...    14389.0   \n",
              "276        https://www.nature.com/articles/nature16961    14389.0   \n",
              "307                   https://arxiv.org/abs/1609.08144     5948.0   \n",
              "318                   https://arxiv.org/abs/1611.01578     4569.0   \n",
              "338  https://www.researchgate.net/publication/32047...     7831.0   \n",
              "\n",
              "                                             Reference  ... Exclude  \\\n",
              "266  Mastering the game of Go with deep neural netw...  ...     NaN   \n",
              "276  Mastering the game of Go with deep neural netw...  ...     NaN   \n",
              "307  Google's Neural Machine Translation System: Br...  ...     NaN   \n",
              "318  Neural Architecture Search with Reinforcement ...  ...     0.0   \n",
              "338   Mastering the game of Go without human knowledge  ...     NaN   \n",
              "\n",
              "                           Country (from Organization)  \\\n",
              "266                                      Multinational   \n",
              "276  United Kingdom of Great Britain and Northern I...   \n",
              "307                                      Multinational   \n",
              "318                                      Multinational   \n",
              "338  United Kingdom of Great Britain and Northern I...   \n",
              "\n",
              "    Organization (from Organization)  Base model Finetune compute (FLOP)  \\\n",
              "266                  Google DeepMind         NaN                     NaN   \n",
              "276                         DeepMind         NaN                     NaN   \n",
              "307                           Google         NaN                     NaN   \n",
              "318                     Google Brain         NaN                     NaN   \n",
              "338                         DeepMind         NaN                     NaN   \n",
              "\n",
              "     Finetune compute notes Authors by country Hardware quantity  \\\n",
              "266                     NaN        AlphaGo Fan               NaN   \n",
              "276                     NaN        AlphaGo Lee               NaN   \n",
              "307                     NaN               GNMT              96.0   \n",
              "318                     NaN   NASv3 (CIFAR-10)             800.0   \n",
              "338                     NaN     AlphaGo Master               NaN   \n",
              "\n",
              "    Hardware utilization  Training cost trends  \n",
              "266                  NaN           AlphaGo Fan  \n",
              "276                  NaN           AlphaGo Lee  \n",
              "307                  NaN                  GNMT  \n",
              "318                  NaN      NASv3 (CIFAR-10)  \n",
              "338                  NaN        AlphaGo Master  \n",
              "\n",
              "[5 rows x 47 columns]"
            ]
          },
          "execution_count": 52,
          "metadata": {},
          "output_type": "execute_result"
        }
      ],
      "source": [
        "frontier_pcd_df = pcd_df[pcd_df['System'].isin(frontier_systems)]\n",
        "frontier_pcd_df.head()"
      ]
    },
    {
      "cell_type": "code",
      "execution_count": 53,
      "metadata": {},
      "outputs": [],
      "source": [
        "assert len(frontier_pcd_df) == len(frontier_systems)"
      ]
    },
    {
      "cell_type": "markdown",
      "metadata": {},
      "source": [
        "## Prices"
      ]
    },
    {
      "cell_type": "code",
      "execution_count": 99,
      "metadata": {},
      "outputs": [
        {
          "data": {
            "text/html": [
              "<div>\n",
              "<style scoped>\n",
              "    .dataframe tbody tr th:only-of-type {\n",
              "        vertical-align: middle;\n",
              "    }\n",
              "\n",
              "    .dataframe tbody tr th {\n",
              "        vertical-align: top;\n",
              "    }\n",
              "\n",
              "    .dataframe thead th {\n",
              "        text-align: right;\n",
              "    }\n",
              "</style>\n",
              "<table border=\"1\" class=\"dataframe\">\n",
              "  <thead>\n",
              "    <tr style=\"text-align: right;\">\n",
              "      <th></th>\n",
              "      <th>Price source</th>\n",
              "      <th>Price date</th>\n",
              "      <th>Hardware model</th>\n",
              "      <th>Manufacturer (from Hardware model)</th>\n",
              "      <th>Vendor</th>\n",
              "      <th>Location</th>\n",
              "      <th>Price per chip-hour (on-demand)</th>\n",
              "      <th>Price per chip-hour (1-year CUD)</th>\n",
              "      <th>Price per chip-hour (3-year CUD)</th>\n",
              "      <th>Price (hardware purchase)</th>\n",
              "    </tr>\n",
              "  </thead>\n",
              "  <tbody>\n",
              "    <tr>\n",
              "      <th>0</th>\n",
              "      <td>https://web.archive.org/web/20181009102635/htt...</td>\n",
              "      <td>2018-10-09</td>\n",
              "      <td>Google TPU v2</td>\n",
              "      <td>Google</td>\n",
              "      <td>Google Cloud</td>\n",
              "      <td>US</td>\n",
              "      <td>$1.13</td>\n",
              "      <td>NaN</td>\n",
              "      <td>NaN</td>\n",
              "      <td>NaN</td>\n",
              "    </tr>\n",
              "    <tr>\n",
              "      <th>1</th>\n",
              "      <td>https://web.archive.org/web/20181011013513/htt...</td>\n",
              "      <td>2018-10-11</td>\n",
              "      <td>Google TPU v3</td>\n",
              "      <td>Google</td>\n",
              "      <td>Google Cloud</td>\n",
              "      <td>US</td>\n",
              "      <td>$2.00</td>\n",
              "      <td>NaN</td>\n",
              "      <td>NaN</td>\n",
              "      <td>NaN</td>\n",
              "    </tr>\n",
              "    <tr>\n",
              "      <th>2</th>\n",
              "      <td>https://web.archive.org/web/20181011013513/htt...</td>\n",
              "      <td>2018-10-11</td>\n",
              "      <td>Google TPU v3</td>\n",
              "      <td>Google</td>\n",
              "      <td>Google Cloud</td>\n",
              "      <td>Europe</td>\n",
              "      <td>$2.20</td>\n",
              "      <td>NaN</td>\n",
              "      <td>NaN</td>\n",
              "      <td>NaN</td>\n",
              "    </tr>\n",
              "    <tr>\n",
              "      <th>3</th>\n",
              "      <td>https://web.archive.org/web/20190701021000/htt...</td>\n",
              "      <td>2019-07-01</td>\n",
              "      <td>Google TPU v3</td>\n",
              "      <td>Google</td>\n",
              "      <td>Google Cloud</td>\n",
              "      <td>Iowa (us-central1)</td>\n",
              "      <td>$2.00</td>\n",
              "      <td>$1.26</td>\n",
              "      <td>$0.90</td>\n",
              "      <td>NaN</td>\n",
              "    </tr>\n",
              "    <tr>\n",
              "      <th>4</th>\n",
              "      <td>https://web.archive.org/web/20190728061708/htt...</td>\n",
              "      <td>2019-07-28</td>\n",
              "      <td>Google TPU v3</td>\n",
              "      <td>Google</td>\n",
              "      <td>Google Cloud</td>\n",
              "      <td>Netherlands (europe-west4)</td>\n",
              "      <td>$2.00</td>\n",
              "      <td>$1.26</td>\n",
              "      <td>$0.90</td>\n",
              "      <td>NaN</td>\n",
              "    </tr>\n",
              "  </tbody>\n",
              "</table>\n",
              "</div>"
            ],
            "text/plain": [
              "                                        Price source  Price date  \\\n",
              "0  https://web.archive.org/web/20181009102635/htt...  2018-10-09   \n",
              "1  https://web.archive.org/web/20181011013513/htt...  2018-10-11   \n",
              "2  https://web.archive.org/web/20181011013513/htt...  2018-10-11   \n",
              "3  https://web.archive.org/web/20190701021000/htt...  2019-07-01   \n",
              "4  https://web.archive.org/web/20190728061708/htt...  2019-07-28   \n",
              "\n",
              "  Hardware model Manufacturer (from Hardware model)        Vendor  \\\n",
              "0  Google TPU v2                             Google  Google Cloud   \n",
              "1  Google TPU v3                             Google  Google Cloud   \n",
              "2  Google TPU v3                             Google  Google Cloud   \n",
              "3  Google TPU v3                             Google  Google Cloud   \n",
              "4  Google TPU v3                             Google  Google Cloud   \n",
              "\n",
              "                     Location Price per chip-hour (on-demand)  \\\n",
              "0                          US                           $1.13   \n",
              "1                          US                           $2.00   \n",
              "2                      Europe                           $2.20   \n",
              "3          Iowa (us-central1)                           $2.00   \n",
              "4  Netherlands (europe-west4)                           $2.00   \n",
              "\n",
              "  Price per chip-hour (1-year CUD) Price per chip-hour (3-year CUD)  \\\n",
              "0                              NaN                              NaN   \n",
              "1                              NaN                              NaN   \n",
              "2                              NaN                              NaN   \n",
              "3                            $1.26                            $0.90   \n",
              "4                            $1.26                            $0.90   \n",
              "\n",
              "   Price (hardware purchase)  \n",
              "0                        NaN  \n",
              "1                        NaN  \n",
              "2                        NaN  \n",
              "3                        NaN  \n",
              "4                        NaN  "
            ]
          },
          "execution_count": 99,
          "metadata": {},
          "output_type": "execute_result"
        }
      ],
      "source": [
        "price_df = pd.read_csv('data/Hardware prices - 2023-12-19.csv')\n",
        "price_df.head()"
      ]
    },
    {
      "cell_type": "code",
      "execution_count": 100,
      "metadata": {},
      "outputs": [],
      "source": [
        "# Price date in datetime format\n",
        "price_df.dropna(subset=['Price date'], inplace=True)\n",
        "price_df['Price date'] = pd.to_datetime(price_df['Price date'])"
      ]
    },
    {
      "cell_type": "code",
      "execution_count": 126,
      "metadata": {},
      "outputs": [],
      "source": [
        "pcd_hardware_model_colname = 'Name of the hardware (from Training hardware)'"
      ]
    },
    {
      "cell_type": "markdown",
      "metadata": {},
      "source": [
        "# Imputation"
      ]
    },
    {
      "cell_type": "markdown",
      "metadata": {},
      "source": [
        "Training hardware: \"best\" available"
      ]
    },
    {
      "cell_type": "code",
      "execution_count": null,
      "metadata": {},
      "outputs": [],
      "source": []
    },
    {
      "cell_type": "markdown",
      "metadata": {},
      "source": [
        "FLOP/second (flops) utilization: mean of known values\n",
        "\n",
        "TODO: random sample from distribution"
      ]
    },
    {
      "cell_type": "code",
      "execution_count": null,
      "metadata": {},
      "outputs": [],
      "source": []
    },
    {
      "cell_type": "markdown",
      "metadata": {},
      "source": [
        "Number of chip-hours\n",
        "\n",
        "If num_chips AND training_time_hours known: chip_hours = num_chips * training_time_hours\n",
        "\n",
        "Else if num_chips unknown: \n",
        "\n",
        "Else if training_time_hours unknown: \n",
        "\n",
        "Else (both unknown): chip_hours = training_compute_flop / (chip_flops * flops_utilization * SECONDS_PER_HOUR)"
      ]
    },
    {
      "cell_type": "code",
      "execution_count": 130,
      "metadata": {},
      "outputs": [
        {
          "name": "stderr",
          "output_type": "stream",
          "text": [
            "/var/folders/s2/stl5t_bn7xg9vdfxxr71rzrc0000gn/T/ipykernel_16096/1143589437.py:9: SettingWithCopyWarning: \n",
            "A value is trying to be set on a copy of a slice from a DataFrame.\n",
            "Try using .loc[row_indexer,col_indexer] = value instead\n",
            "\n",
            "See the caveats in the documentation: https://pandas.pydata.org/pandas-docs/stable/user_guide/indexing.html#returning-a-view-versus-a-copy\n",
            "  frontier_pcd_df['Training time (chip hours)'] = chip_hours\n"
          ]
        }
      ],
      "source": [
        "chip_hours = []\n",
        "for i, row in frontier_pcd_df.iterrows():\n",
        "    if pd.isna(row['Hardware quantity']) or pd.isna(row['Training time (hours)']):\n",
        "        # TODO impute missing values\n",
        "        chip_hours.append(np.nan)\n",
        "    else:\n",
        "        chip_hours.append(row['Hardware quantity'] * row['Training time (hours)'])\n",
        "\n",
        "frontier_pcd_df['Training time (chip hours)'] = chip_hours"
      ]
    },
    {
      "cell_type": "markdown",
      "metadata": {},
      "source": [
        "# Price selection"
      ]
    },
    {
      "cell_type": "markdown",
      "metadata": {},
      "source": [
        "1. If match for the hardware model, use that. Else, discard the ML system from the dataset.\n",
        "2. Use a fixed mapping from Organization to cloud provider. If no mapping found, default to \"Amazon Web Services\".\n",
        "3. Use the price that is nearest to, but prior to, training time + 2 months before the publication date\n",
        "4. If there are no prices prior to that time, use the nearest price after that time\n",
        "5. If there are no prices for that hardware model and cloud provider at all, repeat steps 3 and 4 for \"Microsoft Azure\", then \"Google Cloud\" as the cloud provider.\n",
        "6. If there are no prices found from step 5, discard the ML system from the dataset."
      ]
    },
    {
      "cell_type": "code",
      "execution_count": 105,
      "metadata": {},
      "outputs": [
        {
          "name": "stdout",
          "output_type": "stream",
          "text": [
            "Price date: 2019-07-01 00:00:00\n",
            "Price: $1.26\n"
          ]
        }
      ],
      "source": [
        "def find_closest_price_dates(vendor, hardware_model, date, df):\n",
        "    \"\"\"\n",
        "    Finds the row in the DataFrame with the closest 'Price date' to the given date\n",
        "    which has a 'Vendor' equal to the specified vendor and a 'Hardware model' equal to the specified hardware_model.\n",
        "    \n",
        "    :param vendor: The vendor to match.\n",
        "    :param hardware_model: The hardware model to match.\n",
        "    :param date: The target date to find the closest 'Price date' to.\n",
        "    :param df: The DataFrame containing the hardware price data.\n",
        "    :return: The row from the DataFrame that matches the criteria.\n",
        "    \"\"\"\n",
        "    # Filter the DataFrame based on vendor and hardware model\n",
        "    filtered_df = df[(df['Vendor'] == vendor) & (df['Hardware model'] == hardware_model)]\n",
        "\n",
        "    # Convert the target date to datetime\n",
        "    target_date = pd.to_datetime(date)\n",
        "\n",
        "    # Find the row with the smallest date difference\n",
        "    closest_row_df = filtered_df.iloc[(filtered_df['Price date'] - target_date).abs().argsort()]\n",
        "\n",
        "    return closest_row_df\n",
        "\n",
        "# Example usage\n",
        "example_vendor = \"Google Cloud\"\n",
        "example_hardware_model = \"Google TPU v3\"\n",
        "example_date = \"2019-07-15\" # Example date, format should be YYYY-MM-DD\n",
        "\n",
        "# Find the row\n",
        "closest_row_df = find_closest_price_dates(example_vendor, example_hardware_model, example_date, price_df)\n",
        "\n",
        "for i, row in closest_row_df.iterrows():\n",
        "    if row['Price date'] <= pd.to_datetime(example_date):\n",
        "        print(f\"Price date: {row['Price date']}\")\n",
        "        print(f\"Price: {row['Price per chip-hour (1-year CUD)']}\")\n",
        "        break"
      ]
    },
    {
      "cell_type": "code",
      "execution_count": 110,
      "metadata": {},
      "outputs": [],
      "source": [
        "org_to_cloud_vendor = {\n",
        "    'google': 'Google Cloud',\n",
        "    'deepmind': 'Google Cloud',\n",
        "    'microsoft': 'Microsoft Azure',\n",
        "    'openai': 'Microsoft Azure',\n",
        "}"
      ]
    },
    {
      "cell_type": "code",
      "execution_count": 125,
      "metadata": {},
      "outputs": [
        {
          "name": "stdout",
          "output_type": "stream",
          "text": [
            "GNMT, Google Cloud, NVIDIA Tesla K80, at 2016-01-30 00:00:00\n",
            "Could not find price\n",
            "JFT, Google Cloud, NVIDIA Tesla K80, at 2017-03-12 00:00:00\n",
            "Could not find price\n",
            "AlphaGo Zero, Google Cloud, Google TPU v1, at 2017-07-30 00:00:00\n",
            "Could not find price\n",
            "AmoebaNet-A (F=448), Google Cloud, NVIDIA Tesla K40s, at 2017-11-30 00:00:00\n",
            "Could not find price\n",
            "IMPALA, Google Cloud, NVIDIA P100, at 2017-12-02 20:00:00\n",
            "Could not find price\n",
            "BigGAN-deep 512x512, Google Cloud, Google TPU v3, at 2018-07-28 00:00:00\n",
            "Could not find price\n",
            "RoBERTa Large, Amazon Web Services, NVIDIA Tesla V100 DGXS 32 GB, at 2019-04-27 00:00:00\n",
            "Megatron-BERT, Amazon Web Services, NVIDIA Tesla V100S PCIe 32 GB, at 2019-05-22 00:00:00\n",
            "Could not find price\n",
            "Megatron-LM (8.3B), Amazon Web Services, NVIDIA Tesla V100 DGXS 32 GB, at 2019-07-05 09:00:00\n",
            "T5-11B, Google Cloud, Google TPU v3, at 2019-08-03 23:00:00\n",
            "AlphaStar, Google Cloud, Google TPU v3, at 2019-07-18 00:00:00\n",
            "OpenAI Five, Microsoft Azure, nan, at 2018-12-22 00:00:00\n",
            "Could not find price\n",
            "Meena, Google Cloud, Google TPU v3, at 2019-10-30 00:00:00\n",
            "GPT-3 175B (davinci), Microsoft Azure, NVIDIA Tesla V100 DGXS 32 GB, at 2020-03-14 05:00:00\n",
            "Could not find price\n",
            "GShard (dense), Google Cloud, Google TPU v3, at 2020-03-20 00:00:00\n",
            "ALIGN, Google Cloud, Google TPU v3, at 2021-03-28 13:00:00\n",
            "Megatron-Turing NLG 530B, Microsoft Azure, NVIDIA A100 SXM4 80 GB, at 2021-07-10 22:00:00\n",
            "Gopher (280B), Google Cloud, Google TPU v3, at 2021-08-31 16:00:00\n",
            "GLaM, Google Cloud, Google TPU v4, at 2021-08-18 02:00:00\n",
            "LaMDA, Google Cloud, Google TPU v3, at 2021-10-15 07:00:00\n",
            "PaLM (540B), Google Cloud, Google TPU v4, at 2021-12-08 00:00:00\n",
            "OPT-175B, Amazon Web Services, NVIDIA A100 SXM4 80 GB, at 2022-01-28 23:00:00\n",
            "Minerva (540B), Google Cloud, Google TPU v4, at 2022-04-01 00:00:00\n",
            "LLaMA-65B, Amazon Web Services, NVIDIA A100, at 2022-12-05 04:00:00\n",
            "Could not find price\n",
            "GPT-4, Microsoft Azure, NVIDIA A100 SXM4 40 GB, at 2022-10-11 00:00:00\n",
            "Could not find price\n",
            "Llama 2-70B, Amazon Web Services, NVIDIA A100 SXM4 80 GB, at 2022-11-20 00:00:00\n",
            "Falcon 180B, Amazon Web Services, NVIDIA A100 SXM4 40 GB, at 2023-01-09 00:00:00\n"
          ]
        },
        {
          "data": {
            "text/plain": [
              "{'RoBERTa Large': 1.21,\n",
              " 'Megatron-LM (8.3B)': 1.21,\n",
              " 'T5-11B': 0.9,\n",
              " 'AlphaStar': 0.9,\n",
              " 'Meena': 0.9,\n",
              " 'GShard (dense)': 0.9,\n",
              " 'ALIGN': 0.9,\n",
              " 'Megatron-Turing NLG 530B': 1.8,\n",
              " 'Gopher (280B)': 0.9,\n",
              " 'GLaM': 1.45,\n",
              " 'LaMDA': 0.9,\n",
              " 'PaLM (540B)': 1.45,\n",
              " 'OPT-175B': 1.81,\n",
              " 'Minerva (540B)': 1.45,\n",
              " 'Llama 2-70B': 1.81,\n",
              " 'Falcon 180B': 1.45}"
            ]
          },
          "execution_count": 125,
          "metadata": {},
          "output_type": "execute_result"
        }
      ],
      "source": [
        "price_colname = 'Price per chip-hour (3-year CUD)'\n",
        "system_to_price = {}\n",
        "\n",
        "for i, row in frontier_pcd_df.iterrows():\n",
        "    # Subtract training time plus 2 months from publication date\n",
        "    if pd.isna(row['Training time (hours)']):\n",
        "        continue\n",
        "\n",
        "    training_time_offset = pd.Timedelta(hours=int(row['Training time (hours)']))\n",
        "    low_buffer_time_offset = pd.Timedelta(days=30)\n",
        "    mid_buffer_time_offset = pd.Timedelta(days=60)\n",
        "    high_buffer_time_offset = pd.Timedelta(days=150)\n",
        "\n",
        "    high_purchase_time = row['Publication date'] - (training_time_offset + low_buffer_time_offset)\n",
        "    mid_purchase_time = row['Publication date'] - (training_time_offset + mid_buffer_time_offset)\n",
        "    low_purchase_time = row['Publication date'] - (training_time_offset + high_buffer_time_offset)\n",
        "\n",
        "    hardware_model = row[pcd_hardware_model_colname]\n",
        "\n",
        "    orgs = row['Organization'].split(',')\n",
        "    vendor = None\n",
        "    for org in orgs:\n",
        "        for key in org_to_cloud_vendor:\n",
        "            if key in org.lower():\n",
        "                vendor = org_to_cloud_vendor[key]\n",
        "                break\n",
        "\n",
        "    if vendor is None:\n",
        "        vendor = 'Amazon Web Services'  # default\n",
        "\n",
        "    print(f\"{row['System']}, {vendor}, {hardware_model}, at {mid_purchase_time}\")\n",
        "\n",
        "    # Find the price of the hardware at the time of purchase\n",
        "    closest_price_dates_df = find_closest_price_dates(vendor, hardware_model, mid_purchase_time, price_df)\n",
        "    price_per_chip_hour = None\n",
        "    for i, price_row in closest_price_dates_df.iterrows():\n",
        "        if price_row['Price date'] <= mid_purchase_time:\n",
        "            price_per_chip_hour = price_row[price_colname]\n",
        "            break\n",
        "    if price_per_chip_hour is None:\n",
        "        for i, price_row in closest_price_dates_df.iterrows():\n",
        "            if price_row['Price date'] > mid_purchase_time:\n",
        "                price_per_chip_hour = price_row[price_colname]\n",
        "                break\n",
        "    if type(price_per_chip_hour) is str:\n",
        "        system_to_price[row['System']] = float(price_per_chip_hour.strip('$'))\n",
        "    else:\n",
        "        print(f\"Could not find price\")\n",
        "        continue\n",
        "\n",
        "system_to_price"
      ]
    },
    {
      "cell_type": "markdown",
      "metadata": {},
      "source": [
        "# Cost estimation"
      ]
    },
    {
      "cell_type": "markdown",
      "metadata": {},
      "source": [
        "TODO inflation adjustment"
      ]
    },
    {
      "cell_type": "markdown",
      "metadata": {},
      "source": [
        "cost = price_per_chip_hour * chip_hours"
      ]
    },
    {
      "cell_type": "code",
      "execution_count": 132,
      "metadata": {},
      "outputs": [
        {
          "data": {
            "text/plain": [
              "{'RoBERTa Large': 148684.8,\n",
              " 'Megatron-LM (8.3B)': 202583.04,\n",
              " 'T5-11B': 222059.52,\n",
              " 'AlphaStar': 364953.60000000003,\n",
              " 'Meena': 663552.0,\n",
              " 'GShard (dense)': 928972.8,\n",
              " 'ALIGN': 160035.84,\n",
              " 'Megatron-Turing NLG 530B': 6209280.0,\n",
              " 'Gopher (280B)': 3391488.0,\n",
              " 'GLaM': 2028236.8,\n",
              " 'LaMDA': 1276416.0,\n",
              " 'PaLM (540B)': 12187238.4,\n",
              " 'OPT-175B': 1470704.6400000001,\n",
              " 'Minerva (540B)': 1033420.7999999999,\n",
              " 'Falcon 180B': 25657344.0}"
            ]
          },
          "execution_count": 132,
          "metadata": {},
          "output_type": "execute_result"
        }
      ],
      "source": [
        "system_to_cost = {}\n",
        "for i, row in frontier_pcd_df.iterrows():\n",
        "    system = row['System']\n",
        "    price = system_to_price.get(system)\n",
        "    if price is None:\n",
        "        continue\n",
        "\n",
        "    chip_hours = row['Training time (chip hours)']\n",
        "    if np.isnan(chip_hours):\n",
        "        continue\n",
        "\n",
        "    cost = price * chip_hours\n",
        "    system_to_cost[system] = cost\n",
        "\n",
        "system_to_cost"
      ]
    },
    {
      "cell_type": "markdown",
      "metadata": {},
      "source": [
        "# Regression"
      ]
    },
    {
      "cell_type": "code",
      "execution_count": null,
      "metadata": {},
      "outputs": [],
      "source": []
    },
    {
      "cell_type": "markdown",
      "metadata": {},
      "source": [
        "# Plots"
      ]
    },
    {
      "cell_type": "code",
      "execution_count": 145,
      "metadata": {},
      "outputs": [
        {
          "data": {
            "application/vnd.plotly.v1+json": {
              "config": {
                "plotlyServerURL": "https://plot.ly"
              },
              "data": [
                {
                  "line": {
                    "color": "black"
                  },
                  "mode": "markers+text",
                  "name": "RoBERTa Large",
                  "text": "RoBERTa Large",
                  "textposition": "bottom right",
                  "type": "scatter",
                  "x": [
                    "2019-07-01T00:00:00"
                  ],
                  "y": [
                    148684.8
                  ]
                },
                {
                  "line": {
                    "color": "black"
                  },
                  "mode": "markers+text",
                  "name": "Megatron-LM (8.3B)",
                  "text": "Megatron-LM (8.3B)",
                  "textposition": "bottom right",
                  "type": "scatter",
                  "x": [
                    "2019-09-17T00:00:00"
                  ],
                  "y": [
                    202583.04
                  ]
                },
                {
                  "line": {
                    "color": "black"
                  },
                  "mode": "markers+text",
                  "name": "T5-11B",
                  "text": "T5-11B",
                  "textposition": "bottom right",
                  "type": "scatter",
                  "x": [
                    "2019-10-23T00:00:00"
                  ],
                  "y": [
                    222059.52
                  ]
                },
                {
                  "line": {
                    "color": "black"
                  },
                  "mode": "markers+text",
                  "name": "AlphaStar",
                  "text": "AlphaStar",
                  "textposition": "bottom right",
                  "type": "scatter",
                  "x": [
                    "2019-10-30T00:00:00"
                  ],
                  "y": [
                    364953.60000000003
                  ]
                },
                {
                  "line": {
                    "color": "black"
                  },
                  "mode": "markers+text",
                  "name": "Meena",
                  "text": "Meena",
                  "textposition": "bottom right",
                  "type": "scatter",
                  "x": [
                    "2020-01-28T00:00:00"
                  ],
                  "y": [
                    663552
                  ]
                },
                {
                  "line": {
                    "color": "black"
                  },
                  "mode": "markers+text",
                  "name": "GShard (dense)",
                  "text": "GShard (dense)",
                  "textposition": "bottom right",
                  "type": "scatter",
                  "x": [
                    "2020-06-30T00:00:00"
                  ],
                  "y": [
                    928972.8
                  ]
                },
                {
                  "line": {
                    "color": "black"
                  },
                  "mode": "markers+text",
                  "name": "ALIGN",
                  "text": "ALIGN",
                  "textposition": "bottom right",
                  "type": "scatter",
                  "x": [
                    "2021-06-11T00:00:00"
                  ],
                  "y": [
                    160035.84
                  ]
                },
                {
                  "line": {
                    "color": "black"
                  },
                  "mode": "markers+text",
                  "name": "Megatron-Turing NLG 530B",
                  "text": "Megatron-Turing NLG 530B",
                  "textposition": "bottom right",
                  "type": "scatter",
                  "x": [
                    "2021-10-11T00:00:00"
                  ],
                  "y": [
                    6209280
                  ]
                },
                {
                  "line": {
                    "color": "black"
                  },
                  "mode": "markers+text",
                  "name": "Gopher (280B)",
                  "text": "Gopher (280B)",
                  "textposition": "bottom right",
                  "type": "scatter",
                  "x": [
                    "2021-12-08T00:00:00"
                  ],
                  "y": [
                    3391488
                  ]
                },
                {
                  "line": {
                    "color": "black"
                  },
                  "mode": "markers+text",
                  "name": "GLaM",
                  "text": "GLaM",
                  "textposition": "bottom right",
                  "type": "scatter",
                  "x": [
                    "2021-12-13T00:00:00"
                  ],
                  "y": [
                    2028236.8
                  ]
                },
                {
                  "line": {
                    "color": "black"
                  },
                  "mode": "markers+text",
                  "name": "LaMDA",
                  "text": "LaMDA",
                  "textposition": "bottom right",
                  "type": "scatter",
                  "x": [
                    "2022-02-10T00:00:00"
                  ],
                  "y": [
                    1276416
                  ]
                },
                {
                  "line": {
                    "color": "black"
                  },
                  "mode": "markers+text",
                  "name": "PaLM (540B)",
                  "text": "PaLM (540B)",
                  "textposition": "bottom right",
                  "type": "scatter",
                  "x": [
                    "2022-04-04T00:00:00"
                  ],
                  "y": [
                    12187238.4
                  ]
                },
                {
                  "line": {
                    "color": "black"
                  },
                  "mode": "markers+text",
                  "name": "OPT-175B",
                  "text": "OPT-175B",
                  "textposition": "bottom right",
                  "type": "scatter",
                  "x": [
                    "2022-05-02T00:00:00"
                  ],
                  "y": [
                    1470704.6400000001
                  ]
                },
                {
                  "line": {
                    "color": "black"
                  },
                  "mode": "markers+text",
                  "name": "Minerva (540B)",
                  "text": "Minerva (540B)",
                  "textposition": "bottom right",
                  "type": "scatter",
                  "x": [
                    "2022-06-29T00:00:00"
                  ],
                  "y": [
                    1033420.7999999999
                  ]
                },
                {
                  "line": {
                    "color": "black"
                  },
                  "mode": "markers+text",
                  "name": "Falcon 180B",
                  "text": "Falcon 180B",
                  "textposition": "bottom right",
                  "type": "scatter",
                  "x": [
                    "2023-09-06T00:00:00"
                  ],
                  "y": [
                    25657344
                  ]
                }
              ],
              "layout": {
                "showlegend": false,
                "template": {
                  "data": {
                    "bar": [
                      {
                        "error_x": {
                          "color": "#2a3f5f"
                        },
                        "error_y": {
                          "color": "#2a3f5f"
                        },
                        "marker": {
                          "line": {
                            "color": "#E5ECF6",
                            "width": 0.5
                          },
                          "pattern": {
                            "fillmode": "overlay",
                            "size": 10,
                            "solidity": 0.2
                          }
                        },
                        "type": "bar"
                      }
                    ],
                    "barpolar": [
                      {
                        "marker": {
                          "line": {
                            "color": "#E5ECF6",
                            "width": 0.5
                          },
                          "pattern": {
                            "fillmode": "overlay",
                            "size": 10,
                            "solidity": 0.2
                          }
                        },
                        "type": "barpolar"
                      }
                    ],
                    "carpet": [
                      {
                        "aaxis": {
                          "endlinecolor": "#2a3f5f",
                          "gridcolor": "white",
                          "linecolor": "white",
                          "minorgridcolor": "white",
                          "startlinecolor": "#2a3f5f"
                        },
                        "baxis": {
                          "endlinecolor": "#2a3f5f",
                          "gridcolor": "white",
                          "linecolor": "white",
                          "minorgridcolor": "white",
                          "startlinecolor": "#2a3f5f"
                        },
                        "type": "carpet"
                      }
                    ],
                    "choropleth": [
                      {
                        "colorbar": {
                          "outlinewidth": 0,
                          "ticks": ""
                        },
                        "type": "choropleth"
                      }
                    ],
                    "contour": [
                      {
                        "colorbar": {
                          "outlinewidth": 0,
                          "ticks": ""
                        },
                        "colorscale": [
                          [
                            0,
                            "#0d0887"
                          ],
                          [
                            0.1111111111111111,
                            "#46039f"
                          ],
                          [
                            0.2222222222222222,
                            "#7201a8"
                          ],
                          [
                            0.3333333333333333,
                            "#9c179e"
                          ],
                          [
                            0.4444444444444444,
                            "#bd3786"
                          ],
                          [
                            0.5555555555555556,
                            "#d8576b"
                          ],
                          [
                            0.6666666666666666,
                            "#ed7953"
                          ],
                          [
                            0.7777777777777778,
                            "#fb9f3a"
                          ],
                          [
                            0.8888888888888888,
                            "#fdca26"
                          ],
                          [
                            1,
                            "#f0f921"
                          ]
                        ],
                        "type": "contour"
                      }
                    ],
                    "contourcarpet": [
                      {
                        "colorbar": {
                          "outlinewidth": 0,
                          "ticks": ""
                        },
                        "type": "contourcarpet"
                      }
                    ],
                    "heatmap": [
                      {
                        "colorbar": {
                          "outlinewidth": 0,
                          "ticks": ""
                        },
                        "colorscale": [
                          [
                            0,
                            "#0d0887"
                          ],
                          [
                            0.1111111111111111,
                            "#46039f"
                          ],
                          [
                            0.2222222222222222,
                            "#7201a8"
                          ],
                          [
                            0.3333333333333333,
                            "#9c179e"
                          ],
                          [
                            0.4444444444444444,
                            "#bd3786"
                          ],
                          [
                            0.5555555555555556,
                            "#d8576b"
                          ],
                          [
                            0.6666666666666666,
                            "#ed7953"
                          ],
                          [
                            0.7777777777777778,
                            "#fb9f3a"
                          ],
                          [
                            0.8888888888888888,
                            "#fdca26"
                          ],
                          [
                            1,
                            "#f0f921"
                          ]
                        ],
                        "type": "heatmap"
                      }
                    ],
                    "heatmapgl": [
                      {
                        "colorbar": {
                          "outlinewidth": 0,
                          "ticks": ""
                        },
                        "colorscale": [
                          [
                            0,
                            "#0d0887"
                          ],
                          [
                            0.1111111111111111,
                            "#46039f"
                          ],
                          [
                            0.2222222222222222,
                            "#7201a8"
                          ],
                          [
                            0.3333333333333333,
                            "#9c179e"
                          ],
                          [
                            0.4444444444444444,
                            "#bd3786"
                          ],
                          [
                            0.5555555555555556,
                            "#d8576b"
                          ],
                          [
                            0.6666666666666666,
                            "#ed7953"
                          ],
                          [
                            0.7777777777777778,
                            "#fb9f3a"
                          ],
                          [
                            0.8888888888888888,
                            "#fdca26"
                          ],
                          [
                            1,
                            "#f0f921"
                          ]
                        ],
                        "type": "heatmapgl"
                      }
                    ],
                    "histogram": [
                      {
                        "marker": {
                          "pattern": {
                            "fillmode": "overlay",
                            "size": 10,
                            "solidity": 0.2
                          }
                        },
                        "type": "histogram"
                      }
                    ],
                    "histogram2d": [
                      {
                        "colorbar": {
                          "outlinewidth": 0,
                          "ticks": ""
                        },
                        "colorscale": [
                          [
                            0,
                            "#0d0887"
                          ],
                          [
                            0.1111111111111111,
                            "#46039f"
                          ],
                          [
                            0.2222222222222222,
                            "#7201a8"
                          ],
                          [
                            0.3333333333333333,
                            "#9c179e"
                          ],
                          [
                            0.4444444444444444,
                            "#bd3786"
                          ],
                          [
                            0.5555555555555556,
                            "#d8576b"
                          ],
                          [
                            0.6666666666666666,
                            "#ed7953"
                          ],
                          [
                            0.7777777777777778,
                            "#fb9f3a"
                          ],
                          [
                            0.8888888888888888,
                            "#fdca26"
                          ],
                          [
                            1,
                            "#f0f921"
                          ]
                        ],
                        "type": "histogram2d"
                      }
                    ],
                    "histogram2dcontour": [
                      {
                        "colorbar": {
                          "outlinewidth": 0,
                          "ticks": ""
                        },
                        "colorscale": [
                          [
                            0,
                            "#0d0887"
                          ],
                          [
                            0.1111111111111111,
                            "#46039f"
                          ],
                          [
                            0.2222222222222222,
                            "#7201a8"
                          ],
                          [
                            0.3333333333333333,
                            "#9c179e"
                          ],
                          [
                            0.4444444444444444,
                            "#bd3786"
                          ],
                          [
                            0.5555555555555556,
                            "#d8576b"
                          ],
                          [
                            0.6666666666666666,
                            "#ed7953"
                          ],
                          [
                            0.7777777777777778,
                            "#fb9f3a"
                          ],
                          [
                            0.8888888888888888,
                            "#fdca26"
                          ],
                          [
                            1,
                            "#f0f921"
                          ]
                        ],
                        "type": "histogram2dcontour"
                      }
                    ],
                    "mesh3d": [
                      {
                        "colorbar": {
                          "outlinewidth": 0,
                          "ticks": ""
                        },
                        "type": "mesh3d"
                      }
                    ],
                    "parcoords": [
                      {
                        "line": {
                          "colorbar": {
                            "outlinewidth": 0,
                            "ticks": ""
                          }
                        },
                        "type": "parcoords"
                      }
                    ],
                    "pie": [
                      {
                        "automargin": true,
                        "type": "pie"
                      }
                    ],
                    "scatter": [
                      {
                        "fillpattern": {
                          "fillmode": "overlay",
                          "size": 10,
                          "solidity": 0.2
                        },
                        "type": "scatter"
                      }
                    ],
                    "scatter3d": [
                      {
                        "line": {
                          "colorbar": {
                            "outlinewidth": 0,
                            "ticks": ""
                          }
                        },
                        "marker": {
                          "colorbar": {
                            "outlinewidth": 0,
                            "ticks": ""
                          }
                        },
                        "type": "scatter3d"
                      }
                    ],
                    "scattercarpet": [
                      {
                        "marker": {
                          "colorbar": {
                            "outlinewidth": 0,
                            "ticks": ""
                          }
                        },
                        "type": "scattercarpet"
                      }
                    ],
                    "scattergeo": [
                      {
                        "marker": {
                          "colorbar": {
                            "outlinewidth": 0,
                            "ticks": ""
                          }
                        },
                        "type": "scattergeo"
                      }
                    ],
                    "scattergl": [
                      {
                        "marker": {
                          "colorbar": {
                            "outlinewidth": 0,
                            "ticks": ""
                          }
                        },
                        "type": "scattergl"
                      }
                    ],
                    "scattermapbox": [
                      {
                        "marker": {
                          "colorbar": {
                            "outlinewidth": 0,
                            "ticks": ""
                          }
                        },
                        "type": "scattermapbox"
                      }
                    ],
                    "scatterpolar": [
                      {
                        "marker": {
                          "colorbar": {
                            "outlinewidth": 0,
                            "ticks": ""
                          }
                        },
                        "type": "scatterpolar"
                      }
                    ],
                    "scatterpolargl": [
                      {
                        "marker": {
                          "colorbar": {
                            "outlinewidth": 0,
                            "ticks": ""
                          }
                        },
                        "type": "scatterpolargl"
                      }
                    ],
                    "scatterternary": [
                      {
                        "marker": {
                          "colorbar": {
                            "outlinewidth": 0,
                            "ticks": ""
                          }
                        },
                        "type": "scatterternary"
                      }
                    ],
                    "surface": [
                      {
                        "colorbar": {
                          "outlinewidth": 0,
                          "ticks": ""
                        },
                        "colorscale": [
                          [
                            0,
                            "#0d0887"
                          ],
                          [
                            0.1111111111111111,
                            "#46039f"
                          ],
                          [
                            0.2222222222222222,
                            "#7201a8"
                          ],
                          [
                            0.3333333333333333,
                            "#9c179e"
                          ],
                          [
                            0.4444444444444444,
                            "#bd3786"
                          ],
                          [
                            0.5555555555555556,
                            "#d8576b"
                          ],
                          [
                            0.6666666666666666,
                            "#ed7953"
                          ],
                          [
                            0.7777777777777778,
                            "#fb9f3a"
                          ],
                          [
                            0.8888888888888888,
                            "#fdca26"
                          ],
                          [
                            1,
                            "#f0f921"
                          ]
                        ],
                        "type": "surface"
                      }
                    ],
                    "table": [
                      {
                        "cells": {
                          "fill": {
                            "color": "#EBF0F8"
                          },
                          "line": {
                            "color": "white"
                          }
                        },
                        "header": {
                          "fill": {
                            "color": "#C8D4E3"
                          },
                          "line": {
                            "color": "white"
                          }
                        },
                        "type": "table"
                      }
                    ]
                  },
                  "layout": {
                    "annotationdefaults": {
                      "arrowcolor": "#2a3f5f",
                      "arrowhead": 0,
                      "arrowwidth": 1
                    },
                    "autotypenumbers": "strict",
                    "coloraxis": {
                      "colorbar": {
                        "outlinewidth": 0,
                        "ticks": ""
                      }
                    },
                    "colorscale": {
                      "diverging": [
                        [
                          0,
                          "#8e0152"
                        ],
                        [
                          0.1,
                          "#c51b7d"
                        ],
                        [
                          0.2,
                          "#de77ae"
                        ],
                        [
                          0.3,
                          "#f1b6da"
                        ],
                        [
                          0.4,
                          "#fde0ef"
                        ],
                        [
                          0.5,
                          "#f7f7f7"
                        ],
                        [
                          0.6,
                          "#e6f5d0"
                        ],
                        [
                          0.7,
                          "#b8e186"
                        ],
                        [
                          0.8,
                          "#7fbc41"
                        ],
                        [
                          0.9,
                          "#4d9221"
                        ],
                        [
                          1,
                          "#276419"
                        ]
                      ],
                      "sequential": [
                        [
                          0,
                          "#0d0887"
                        ],
                        [
                          0.1111111111111111,
                          "#46039f"
                        ],
                        [
                          0.2222222222222222,
                          "#7201a8"
                        ],
                        [
                          0.3333333333333333,
                          "#9c179e"
                        ],
                        [
                          0.4444444444444444,
                          "#bd3786"
                        ],
                        [
                          0.5555555555555556,
                          "#d8576b"
                        ],
                        [
                          0.6666666666666666,
                          "#ed7953"
                        ],
                        [
                          0.7777777777777778,
                          "#fb9f3a"
                        ],
                        [
                          0.8888888888888888,
                          "#fdca26"
                        ],
                        [
                          1,
                          "#f0f921"
                        ]
                      ],
                      "sequentialminus": [
                        [
                          0,
                          "#0d0887"
                        ],
                        [
                          0.1111111111111111,
                          "#46039f"
                        ],
                        [
                          0.2222222222222222,
                          "#7201a8"
                        ],
                        [
                          0.3333333333333333,
                          "#9c179e"
                        ],
                        [
                          0.4444444444444444,
                          "#bd3786"
                        ],
                        [
                          0.5555555555555556,
                          "#d8576b"
                        ],
                        [
                          0.6666666666666666,
                          "#ed7953"
                        ],
                        [
                          0.7777777777777778,
                          "#fb9f3a"
                        ],
                        [
                          0.8888888888888888,
                          "#fdca26"
                        ],
                        [
                          1,
                          "#f0f921"
                        ]
                      ]
                    },
                    "colorway": [
                      "#636efa",
                      "#EF553B",
                      "#00cc96",
                      "#ab63fa",
                      "#FFA15A",
                      "#19d3f3",
                      "#FF6692",
                      "#B6E880",
                      "#FF97FF",
                      "#FECB52"
                    ],
                    "font": {
                      "color": "#2a3f5f"
                    },
                    "geo": {
                      "bgcolor": "white",
                      "lakecolor": "white",
                      "landcolor": "#E5ECF6",
                      "showlakes": true,
                      "showland": true,
                      "subunitcolor": "white"
                    },
                    "hoverlabel": {
                      "align": "left"
                    },
                    "hovermode": "closest",
                    "mapbox": {
                      "style": "light"
                    },
                    "paper_bgcolor": "white",
                    "plot_bgcolor": "#E5ECF6",
                    "polar": {
                      "angularaxis": {
                        "gridcolor": "white",
                        "linecolor": "white",
                        "ticks": ""
                      },
                      "bgcolor": "#E5ECF6",
                      "radialaxis": {
                        "gridcolor": "white",
                        "linecolor": "white",
                        "ticks": ""
                      }
                    },
                    "scene": {
                      "xaxis": {
                        "backgroundcolor": "#E5ECF6",
                        "gridcolor": "white",
                        "gridwidth": 2,
                        "linecolor": "white",
                        "showbackground": true,
                        "ticks": "",
                        "zerolinecolor": "white"
                      },
                      "yaxis": {
                        "backgroundcolor": "#E5ECF6",
                        "gridcolor": "white",
                        "gridwidth": 2,
                        "linecolor": "white",
                        "showbackground": true,
                        "ticks": "",
                        "zerolinecolor": "white"
                      },
                      "zaxis": {
                        "backgroundcolor": "#E5ECF6",
                        "gridcolor": "white",
                        "gridwidth": 2,
                        "linecolor": "white",
                        "showbackground": true,
                        "ticks": "",
                        "zerolinecolor": "white"
                      }
                    },
                    "shapedefaults": {
                      "line": {
                        "color": "#2a3f5f"
                      }
                    },
                    "ternary": {
                      "aaxis": {
                        "gridcolor": "white",
                        "linecolor": "white",
                        "ticks": ""
                      },
                      "baxis": {
                        "gridcolor": "white",
                        "linecolor": "white",
                        "ticks": ""
                      },
                      "bgcolor": "#E5ECF6",
                      "caxis": {
                        "gridcolor": "white",
                        "linecolor": "white",
                        "ticks": ""
                      }
                    },
                    "title": {
                      "x": 0.05
                    },
                    "xaxis": {
                      "automargin": true,
                      "gridcolor": "white",
                      "linecolor": "white",
                      "ticks": "",
                      "title": {
                        "standoff": 15
                      },
                      "zerolinecolor": "white",
                      "zerolinewidth": 2
                    },
                    "yaxis": {
                      "automargin": true,
                      "gridcolor": "white",
                      "linecolor": "white",
                      "ticks": "",
                      "title": {
                        "standoff": 15
                      },
                      "zerolinecolor": "white",
                      "zerolinewidth": 2
                    }
                  }
                },
                "xaxis": {
                  "title": {
                    "text": "Publication date"
                  }
                },
                "yaxis": {
                  "title": {
                    "text": "Cost (USD, nominal)"
                  },
                  "type": "log"
                }
              }
            }
          },
          "metadata": {},
          "output_type": "display_data"
        }
      ],
      "source": [
        "import plotly.graph_objects as go\n",
        "\n",
        "fig = go.Figure()\n",
        "for i, row in frontier_pcd_df.iterrows():\n",
        "    system = row['System']\n",
        "    cost = system_to_cost.get(system)\n",
        "    if cost is None:\n",
        "        continue\n",
        "    publication_date = row['Publication date']\n",
        "\n",
        "    fig.add_trace(go.Scatter(\n",
        "        x=[publication_date],\n",
        "        y=[cost],\n",
        "        name=system,\n",
        "        text=system,\n",
        "        textposition='bottom right',\n",
        "        line=dict(color='black'),\n",
        "        mode='markers+text',\n",
        "    ))\n",
        "\n",
        "# log y axis\n",
        "fig.update_yaxes(type=\"log\")\n",
        "# no legend\n",
        "fig.update_layout(showlegend=False)\n",
        "\n",
        "# axis labels\n",
        "fig.update_xaxes(title_text='Publication date')\n",
        "fig.update_yaxes(title_text='Cost (USD, nominal)')\n",
        "\n",
        "fig.show()"
      ]
    },
    {
      "cell_type": "code",
      "execution_count": null,
      "metadata": {},
      "outputs": [],
      "source": []
    }
  ],
  "metadata": {
    "colab": {
      "provenance": []
    },
    "kernelspec": {
      "display_name": "Python 3",
      "name": "python3"
    },
    "language_info": {
      "codemirror_mode": {
        "name": "ipython",
        "version": 3
      },
      "file_extension": ".py",
      "mimetype": "text/x-python",
      "name": "python",
      "nbconvert_exporter": "python",
      "pygments_lexer": "ipython3",
      "version": "3.11.4"
    }
  },
  "nbformat": 4,
  "nbformat_minor": 0
}
