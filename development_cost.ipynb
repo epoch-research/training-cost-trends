{
 "cells": [
  {
   "cell_type": "markdown",
   "metadata": {},
   "source": [
    "# Estimate the total amortized model development cost of a few selected models"
   ]
  },
  {
   "cell_type": "markdown",
   "metadata": {},
   "source": [
    "Note: this code uses random number generation. No random seed is set, meaning the results are not precisely reproducible."
   ]
  },
  {
   "cell_type": "markdown",
   "metadata": {},
   "source": [
    "# Setup"
   ]
  },
  {
   "cell_type": "code",
   "execution_count": 1,
   "metadata": {},
   "outputs": [],
   "source": [
    "from collections import defaultdict\n",
    "from datetime import datetime\n",
    "import json\n",
    "import numpy as np\n",
    "import os\n",
    "import pandas as pd\n",
    "import plotly.graph_objects as go\n",
    "from plotly.subplots import make_subplots\n",
    "\n",
    "from cost import *\n",
    "from data import *\n",
    "from energy import *\n",
    "from inflation import *\n",
    "from parameters import *\n",
    "from plotting import *\n",
    "from utils import *"
   ]
  },
  {
   "cell_type": "markdown",
   "metadata": {},
   "source": [
    "Sample size for distributions"
   ]
  },
  {
   "cell_type": "code",
   "execution_count": 2,
   "metadata": {},
   "outputs": [],
   "source": [
    "N = 10000"
   ]
  },
  {
   "cell_type": "markdown",
   "metadata": {},
   "source": [
    "Flag to include equity in the R&D staff cost calculations"
   ]
  },
  {
   "cell_type": "code",
   "execution_count": 3,
   "metadata": {},
   "outputs": [],
   "source": [
    "INCLUDE_EQUITY = True\n",
    "rnd_staff_cost_name = 'R&D staff cost (including equity)' if INCLUDE_EQUITY else 'R&D staff cost (excluding equity)'"
   ]
  },
  {
   "cell_type": "code",
   "execution_count": 4,
   "metadata": {},
   "outputs": [],
   "source": [
    "results_dir = f'results/development-costs/' if INCLUDE_EQUITY else f'results/development-costs-excluding-equity/'\n",
    "os.makedirs(results_dir, exist_ok=True)"
   ]
  },
  {
   "cell_type": "markdown",
   "metadata": {},
   "source": [
    "Cost of staff compensation\n",
    "\n",
    "levels.fyi - Google Software Engineer in SF Bay Area: https://web.archive.org/web/20240515221234/https://www.levels.fyi/companies/google/salaries/software-engineer/locations/san-francisco-bay-area?dma=807\n",
    "- \"Software Engineer compensation in San Francisco Bay Area at Google ranges from $194K per year for L3 to $1.21M per year for L8. The median compensation in San Francisco Bay Area package totals $316K.\"\n",
    "- Base salary: $148K (level 3) to $335K (level 8)\n",
    "- Equity: $34K (level 3) to $760K (level 8)\n",
    "\n",
    "aipaygrad.es: https://web.archive.org/web/20240415184855/https://aipaygrad.es/\n",
    "\n",
    "- Median overall: $324,350/ year\n",
    "- 134 data points. 5th percentile is ~7th lowest value, which is $191,800. 95th percentile is ~7th highest value, which is $632,250.\n",
    "- There isn't much difference to the overall median for Facebook, Google, Microsoft, DeepMind. So going with the overall distribution seems reasonable.\n",
    "- Base salary: Median $160,000, 5th percentile $132,000, 95th percentile $210,000\n",
    "- Equity: Median $100,000, 5th percentile $37,000, 95th percentile $331,250\n"
   ]
  },
  {
   "cell_type": "code",
   "execution_count": 5,
   "metadata": {},
   "outputs": [
    {
     "name": "stdout",
     "output_type": "stream",
     "text": [
      "Median: 1.9e+05 [90% CI: 1.4e+05, 2.6e+05]\n",
      "Median: 1.3e+05 [90% CI: 3.6e+04, 5.1e+05]\n"
     ]
    }
   ],
   "source": [
    "salary_low = (148000 * 132000)**0.5\n",
    "salary_high = (335000 * 210000)**0.5\n",
    "equity_low = (34000 * 37000)**0.5\n",
    "equity_high = (760000 * 331250)**0.5\n",
    "\n",
    "salary_test_distribution = lognorm_from_90_ci(salary_low, salary_high, N)\n",
    "equity_test_distribution = lognorm_from_90_ci(equity_low, equity_high, N)\n",
    "print_median_and_ci(salary_test_distribution)\n",
    "print_median_and_ci(equity_test_distribution)\n"
   ]
  },
  {
   "cell_type": "code",
   "execution_count": 6,
   "metadata": {},
   "outputs": [
    {
     "name": "stdout",
     "output_type": "stream",
     "text": [
      "Median: 3.4e+05 [90% CI: 2.1e+05, 7e+05]\n",
      "Median: 3.4e+05 [90% CI: 2.1e+05, 7e+05]\n"
     ]
    }
   ],
   "source": [
    "compensation_test_distribution = salary_test_distribution + equity_test_distribution\n",
    "print_median_and_ci(compensation_test_distribution)\n",
    "print_median_and_ci(compensation_test_distribution)"
   ]
  },
  {
   "cell_type": "code",
   "execution_count": 7,
   "metadata": {},
   "outputs": [
    {
     "name": "stdout",
     "output_type": "stream",
     "text": [
      "Median: 4.9e+05 [90% CI: 2e+05, 1.2e+06]\n"
     ]
    }
   ],
   "source": [
    "# Old values for total compensation\n",
    "print_median_and_ci(lognorm_from_90_ci(2e5, 1.2e6, N))"
   ]
  },
  {
   "cell_type": "markdown",
   "metadata": {},
   "source": [
    "Apply 1.25 - 1.4 overhead factor for benefits, payroll taxes, etc. https://www.sba.gov/blog/how-much-does-employee-cost-you "
   ]
  },
  {
   "cell_type": "code",
   "execution_count": 8,
   "metadata": {},
   "outputs": [],
   "source": [
    "compensation_overhead_low = 1.25\n",
    "compensation_overhead_high = 1.4"
   ]
  },
  {
   "cell_type": "code",
   "execution_count": 9,
   "metadata": {},
   "outputs": [],
   "source": [
    "cost_data = {}\n",
    "cost_data_with_hardware_acq = {}"
   ]
  },
  {
   "cell_type": "markdown",
   "metadata": {},
   "source": [
    "Default ratio of total experiment + training compute to final training run compute\n",
    "- Smaller versions of GPT-3 made up ~4.5e22 FLOP (based on the formula compute = 6 * parameters * tokens), compared to 175B using ~3e23 FLOP. See Table 2.1 of the [paper](https://arxiv.org/pdf/2005.14165). That's a factor of ~1.14 to go from 175B to total FLOP. Certainly more than that was needed due to failures and other experiments. So 1.2x seems like a good low-end estimate.\n",
    "- https://arxiv.org/pdf/2111.00364.pdf, p.3, Fig. 3 caption: \"At Facebook, we observe a rough power capacity breakdown of 10:20:70 for AI infrastructures devoted to the three key phases — Experimentation, Training, and Inference\". 10:20 ratio means a 1.5x multiplier from training to training+experiment compute. Note however that the \"training\" category is not just the final training run; it includes additional hyper-parameter tuning and retraining for some models. So the actual multiplier would be higher under our definition.\n",
    "- BLOOM project - https://arxiv.org/abs/2211.02001, p.8, Table 5. ~63% of compute was spent training smaller models than 176B. That's a multiplier of ~2.7x.\n",
    "- https://arxiv.org/abs/2205.01068: \"[...] OPT-175B was developed with an estimated carbon emissions footprint (CO2eq) of 75 tons [...] With ablations, baselines and downtime, our own estimates of total cost is roughly 2× higher.\"\n",
    "- We think the Facebook, BLOOM and OPT-175B cases are the more central examples as they account better for all experiments. A factor close to 2x seems like a reasonable median estimate.\n",
    "- On the high end, it's plausible that several, full iterations of the full-scale training run are necessary before success - say, 4x."
   ]
  },
  {
   "cell_type": "code",
   "execution_count": 10,
   "metadata": {},
   "outputs": [
    {
     "name": "stdout",
     "output_type": "stream",
     "text": [
      "Median: 2.2 [90% CI: 1.2, 4]\n"
     ]
    }
   ],
   "source": [
    "experiment_factor = lognorm_from_90_ci(1.2, 4, N)\n",
    "print_median_and_ci(experiment_factor)"
   ]
  },
  {
   "cell_type": "markdown",
   "metadata": {},
   "source": [
    "Uncertainty in energy prices"
   ]
  },
  {
   "cell_type": "code",
   "execution_count": 11,
   "metadata": {},
   "outputs": [
    {
     "data": {
      "text/plain": [
       "(1.727914785226352, 0.6247539654972791)"
      ]
     },
     "execution_count": 11,
     "metadata": {},
     "output_type": "execute_result"
    }
   ],
   "source": [
    "likely_datacenter_states = ['California', 'Nevada', 'Oregon', 'Washington']\n",
    "energy_prices = [US_STATE_ENERGY_PRICES_PER_KWH[state] for state in likely_datacenter_states]\n",
    "mean = np.mean(energy_prices)\n",
    "np.max(energy_prices) / mean, np.min(energy_prices) / mean"
   ]
  },
  {
   "cell_type": "code",
   "execution_count": 12,
   "metadata": {},
   "outputs": [],
   "source": [
    "energy_price_uncertainty_factor = lognorm_from_90_ci(0.6, 1.7, N)"
   ]
  },
  {
   "cell_type": "code",
   "execution_count": 13,
   "metadata": {},
   "outputs": [],
   "source": [
    "dt2float = lambda x: x.year + x.month/12 + x.day/365.25\n",
    "float2dt = lambda x: datetime(int(x), int((x-int(x))*12), int(((x-int(x))*12-int((x-int(x))*12))*365.25))"
   ]
  },
  {
   "cell_type": "code",
   "execution_count": 14,
   "metadata": {},
   "outputs": [],
   "source": [
    "frontier_pcd_df, hardware_df, price_df = load_data_for_cost_estimation(\n",
    "    compute_threshold_method='top_n', compute_threshold=10,\n",
    ")"
   ]
  },
  {
   "cell_type": "code",
   "execution_count": 15,
   "metadata": {},
   "outputs": [],
   "source": [
    "frontier_pcd_df['Publication date'] = pd.to_datetime(frontier_pcd_df['Publication date'])"
   ]
  },
  {
   "cell_type": "markdown",
   "metadata": {},
   "source": [
    "Models"
   ]
  },
  {
   "cell_type": "code",
   "execution_count": 16,
   "metadata": {},
   "outputs": [],
   "source": [
    "models = ['GPT-3 175B (davinci)', 'OPT-175B', 'GPT-4', 'Gemini 1.0 Ultra']"
   ]
  },
  {
   "cell_type": "code",
   "execution_count": 17,
   "metadata": {},
   "outputs": [],
   "source": [
    "selected_model_df = frontier_pcd_df.loc[[s in models for s in frontier_pcd_df['System']]]"
   ]
  },
  {
   "cell_type": "markdown",
   "metadata": {},
   "source": [
    "## Hardware"
   ]
  },
  {
   "cell_type": "code",
   "execution_count": 18,
   "metadata": {},
   "outputs": [],
   "source": [
    "# Unset index\n",
    "selected_model_df.reset_index(inplace=True)"
   ]
  },
  {
   "cell_type": "code",
   "execution_count": 19,
   "metadata": {},
   "outputs": [
    {
     "name": "stderr",
     "output_type": "stream",
     "text": [
      "/var/folders/s2/stl5t_bn7xg9vdfxxr71rzrc0000gn/T/ipykernel_87140/1294256109.py:4: SettingWithCopyWarning: \n",
      "A value is trying to be set on a copy of a slice from a DataFrame.\n",
      "Try using .loc[row_indexer,col_indexer] = value instead\n",
      "\n",
      "See the caveats in the documentation: https://pandas.pydata.org/pandas-docs/stable/user_guide/indexing.html#returning-a-view-versus-a-copy\n",
      "  selected_model_df['Training chip-hours'] = selected_model_df.apply(_estimate_chip_hours, axis=1)\n"
     ]
    },
    {
     "data": {
      "text/plain": [
       "0    132000000.0\n",
       "1     57000000.0\n",
       "2       812544.0\n",
       "3      3552000.0\n",
       "Name: Training chip-hours, dtype: float64"
      ]
     },
     "execution_count": 19,
     "metadata": {},
     "output_type": "execute_result"
    }
   ],
   "source": [
    "def _estimate_chip_hours(row):\n",
    "    return estimate_chip_hours(row, hardware_df)\n",
    "\n",
    "selected_model_df['Training chip-hours'] = selected_model_df.apply(_estimate_chip_hours, axis=1)\n",
    "selected_model_df['Training chip-hours']"
   ]
  },
  {
   "cell_type": "code",
   "execution_count": 20,
   "metadata": {},
   "outputs": [
    {
     "name": "stdout",
     "output_type": "stream",
     "text": [
      "\n",
      "\n",
      "2.5th percentile of experiments time\n",
      "==== System: Gemini 1.0 Ultra ====\n",
      "Estimated the value of Google TPU v4 server, available from 2021-05-20 00:00:00 and used from 2023-05-10 00:00:00: 4488.559125020449 per chip\n",
      "\n",
      "==== System: GPT-4 ====\n",
      "Estimated the value of NVIDIA A100 SXM4 40 GB server, available from 2020-08-12 00:00:00 and used from 2022-05-12 00:00:00: 14165.054738257799 per chip\n",
      "\n",
      "==== System: OPT-175B ====\n",
      "Estimated the value of NVIDIA A100 SXM4 80 GB server, available from 2021-02-14 00:00:00 and used from 2022-01-28 23:00:00: 18296.79402527096 per chip\n",
      "\n",
      "==== System: GPT-3 175B (davinci) ====\n",
      "Estimated the value of NVIDIA Tesla V100 DGXS 32 GB server, available from 2018-06-25 00:00:00 and used from 2019-10-01 00:00:00: 11463.61551009175 per chip\n",
      "\n",
      "==== System: Gemini 1.0 Ultra ====\n",
      "Estimated cost: {'AI accelerator chip cost': 14193957.56135486, 'Other server components cost': 9084132.839267109, 'Cluster-level interconnect cost': 5460292.810022437, 'Energy cost': 3128439.457785625}\n",
      "==== System: GPT-4 ====\n",
      "Estimated cost: {'AI accelerator chip cost': 19109595.475848652, 'Other server components cost': 12612333.014060106, 'Cluster-level interconnect cost': 7440946.188990942, 'Energy cost': 3738770.0448829597}\n",
      "==== System: OPT-175B ====\n",
      "Estimated cost: {'AI accelerator chip cost': 351868.4012474494, 'Other server components cost': 232233.14482331654, 'Cluster-level interconnect cost': 137011.47376968584, 'Energy cost': 48414.08665113669}\n",
      "==== System: GPT-3 175B (davinci) ====\n",
      "Estimated cost: {'AI accelerator chip cost': 946617.072591598, 'Other server components cost': 653165.7800882027, 'Cluster-level interconnect cost': 375257.70618415077, 'Energy cost': 118649.05476156877}\n",
      "All costs:\n",
      "{'Gemini 1.0 Ultra': {'AI accelerator chip cost': 14193957.56135486, 'Other server components cost': 9084132.839267109, 'Cluster-level interconnect cost': 5460292.810022437, 'Energy cost': 3128439.457785625}, 'GPT-4': {'AI accelerator chip cost': 19109595.475848652, 'Other server components cost': 12612333.014060106, 'Cluster-level interconnect cost': 7440946.188990942, 'Energy cost': 3738770.0448829597}, 'OPT-175B': {'AI accelerator chip cost': 351868.4012474494, 'Other server components cost': 232233.14482331654, 'Cluster-level interconnect cost': 137011.47376968584, 'Energy cost': 48414.08665113669}, 'GPT-3 175B (davinci)': {'AI accelerator chip cost': 946617.072591598, 'Other server components cost': 653165.7800882027, 'Cluster-level interconnect cost': 375257.70618415077, 'Energy cost': 118649.05476156877}}\n",
      "\n",
      "\n",
      "50th percentile of experiments time\n",
      "==== System: Gemini 1.0 Ultra ====\n",
      "Estimated the value of Google TPU v4 server, available from 2021-05-20 00:00:00 and used from 2023-05-10 00:00:00: 4488.559125020449 per chip\n",
      "\n",
      "==== System: GPT-4 ====\n",
      "Estimated the value of NVIDIA A100 SXM4 40 GB server, available from 2020-08-12 00:00:00 and used from 2022-05-12 00:00:00: 14165.054738257799 per chip\n",
      "\n",
      "==== System: OPT-175B ====\n",
      "Estimated the value of NVIDIA A100 SXM4 80 GB server, available from 2021-02-14 00:00:00 and used from 2022-01-28 23:00:00: 18296.79402527096 per chip\n",
      "\n",
      "==== System: GPT-3 175B (davinci) ====\n",
      "Estimated the value of NVIDIA Tesla V100 DGXS 32 GB server, available from 2018-06-25 00:00:00 and used from 2019-10-01 00:00:00: 11463.61551009175 per chip\n",
      "\n",
      "==== System: Gemini 1.0 Ultra ====\n",
      "Estimated cost: {'AI accelerator chip cost': 29025798.746300787, 'Other server components cost': 18576511.1976325, 'Cluster-level interconnect cost': 11165973.937465832, 'Energy cost': 6397472.5652909605}\n",
      "==== System: GPT-4 ====\n",
      "Estimated cost: {'AI accelerator chip cost': 39077985.826544754, 'Other server components cost': 25791470.645519532, 'Cluster-level interconnect cost': 15216292.258879276, 'Energy cost': 7645562.304408643}\n",
      "==== System: OPT-175B ====\n",
      "Estimated cost: {'AI accelerator chip cost': 719549.9462107866, 'Other server components cost': 474902.9644991191, 'Cluster-level interconnect cost': 280180.3123887433, 'Energy cost': 99003.92681515981}\n",
      "==== System: GPT-3 175B (davinci) ====\n",
      "Estimated cost: {'AI accelerator chip cost': 1935775.594656169, 'Other server components cost': 1335685.1603127564, 'Cluster-level interconnect cost': 767379.6832643158, 'Energy cost': 242630.25798559497}\n",
      "All costs:\n",
      "{'Gemini 1.0 Ultra': {'AI accelerator chip cost': 29025798.746300787, 'Other server components cost': 18576511.1976325, 'Cluster-level interconnect cost': 11165973.937465832, 'Energy cost': 6397472.5652909605}, 'GPT-4': {'AI accelerator chip cost': 39077985.826544754, 'Other server components cost': 25791470.645519532, 'Cluster-level interconnect cost': 15216292.258879276, 'Energy cost': 7645562.304408643}, 'OPT-175B': {'AI accelerator chip cost': 719549.9462107866, 'Other server components cost': 474902.9644991191, 'Cluster-level interconnect cost': 280180.3123887433, 'Energy cost': 99003.92681515981}, 'GPT-3 175B (davinci)': {'AI accelerator chip cost': 1935775.594656169, 'Other server components cost': 1335685.1603127564, 'Cluster-level interconnect cost': 767379.6832643158, 'Energy cost': 242630.25798559497}}\n",
      "\n",
      "\n",
      "97.5th percentile of experiments time\n",
      "==== System: Gemini 1.0 Ultra ====\n",
      "Estimated the value of Google TPU v4 server, available from 2021-05-20 00:00:00 and used from 2023-05-10 00:00:00: 4488.559125020449 per chip\n",
      "\n",
      "==== System: GPT-4 ====\n",
      "Estimated the value of NVIDIA A100 SXM4 40 GB server, available from 2020-08-12 00:00:00 and used from 2022-05-12 00:00:00: 14165.054738257799 per chip\n",
      "\n",
      "==== System: OPT-175B ====\n",
      "Estimated the value of NVIDIA A100 SXM4 80 GB server, available from 2021-02-14 00:00:00 and used from 2022-01-28 23:00:00: 18296.79402527096 per chip\n",
      "\n",
      "==== System: GPT-3 175B (davinci) ====\n",
      "Estimated the value of NVIDIA Tesla V100 DGXS 32 GB server, available from 2018-06-25 00:00:00 and used from 2019-10-01 00:00:00: 11463.61551009175 per chip\n",
      "\n",
      "==== System: Gemini 1.0 Ultra ====\n",
      "Estimated cost: {'AI accelerator chip cost': 59203935.21015183, 'Other server components cost': 37890518.534497164, 'Cluster-level interconnect cost': 22775242.236399144, 'Energy cost': 13048927.768524563}\n",
      "==== System: GPT-4 ====\n",
      "Estimated cost: {'AI accelerator chip cost': 79707385.87556843, 'Other server components cost': 52606874.67787516, 'Cluster-level interconnect cost': 31036678.401425038, 'Energy cost': 15594656.99020863}\n",
      "==== System: OPT-175B ====\n",
      "Estimated cost: {'AI accelerator chip cost': 1467666.3601328407, 'Other server components cost': 968659.7976876746, 'Cluster-level interconnect cost': 571483.9135628369, 'Energy cost': 201938.35559692734}\n",
      "==== System: GPT-3 175B (davinci) ====\n",
      "Estimated cost: {'AI accelerator chip cost': 3948402.381244476, 'Other server components cost': 2724397.6430586884, 'Cluster-level interconnect cost': 1565224.6970587668, 'Energy cost': 494893.05012260185}\n",
      "All costs:\n",
      "{'Gemini 1.0 Ultra': {'AI accelerator chip cost': 59203935.21015183, 'Other server components cost': 37890518.534497164, 'Cluster-level interconnect cost': 22775242.236399144, 'Energy cost': 13048927.768524563}, 'GPT-4': {'AI accelerator chip cost': 79707385.87556843, 'Other server components cost': 52606874.67787516, 'Cluster-level interconnect cost': 31036678.401425038, 'Energy cost': 15594656.99020863}, 'OPT-175B': {'AI accelerator chip cost': 1467666.3601328407, 'Other server components cost': 968659.7976876746, 'Cluster-level interconnect cost': 571483.9135628369, 'Energy cost': 201938.35559692734}, 'GPT-3 175B (davinci)': {'AI accelerator chip cost': 3948402.381244476, 'Other server components cost': 2724397.6430586884, 'Cluster-level interconnect cost': 1565224.6970587668, 'Energy cost': 494893.05012260185}}\n"
     ]
    },
    {
     "name": "stderr",
     "output_type": "stream",
     "text": [
      "/var/folders/s2/stl5t_bn7xg9vdfxxr71rzrc0000gn/T/ipykernel_87140/2848712251.py:1: SettingWithCopyWarning: \n",
      "A value is trying to be set on a copy of a slice from a DataFrame.\n",
      "Try using .loc[row_indexer,col_indexer] = value instead\n",
      "\n",
      "See the caveats in the documentation: https://pandas.pydata.org/pandas-docs/stable/user_guide/indexing.html#returning-a-view-versus-a-copy\n",
      "  selected_model_df.loc[:, 'Original training chip-hours'] = selected_model_df.loc[:, 'Training chip-hours']\n",
      "/var/folders/s2/stl5t_bn7xg9vdfxxr71rzrc0000gn/T/ipykernel_87140/2848712251.py:13: SettingWithCopyWarning: \n",
      "A value is trying to be set on a copy of a slice from a DataFrame.\n",
      "Try using .loc[row_indexer,col_indexer] = value instead\n",
      "\n",
      "See the caveats in the documentation: https://pandas.pydata.org/pandas-docs/stable/user_guide/indexing.html#returning-a-view-versus-a-copy\n",
      "  selected_model_df.loc[:, 'Training chip-hours'] = selected_model_df.loc[:, 'Original training chip-hours'] * experiment_factor_value\n",
      "/Users/bencottier/Projects/training_cost_2/training-cost-trends/cost.py:259: SettingWithCopyWarning: \n",
      "A value is trying to be set on a copy of a slice from a DataFrame.\n",
      "Try using .loc[row_indexer,col_indexer] = value instead\n",
      "\n",
      "See the caveats in the documentation: https://pandas.pydata.org/pandas-docs/stable/user_guide/indexing.html#returning-a-view-versus-a-copy\n",
      "  frontier_pcd_df[k] = frontier_pcd_df['System'].map(system_to_component_cost)\n",
      "/Users/bencottier/Projects/training_cost_2/training-cost-trends/cost.py:259: SettingWithCopyWarning: \n",
      "A value is trying to be set on a copy of a slice from a DataFrame.\n",
      "Try using .loc[row_indexer,col_indexer] = value instead\n",
      "\n",
      "See the caveats in the documentation: https://pandas.pydata.org/pandas-docs/stable/user_guide/indexing.html#returning-a-view-versus-a-copy\n",
      "  frontier_pcd_df[k] = frontier_pcd_df['System'].map(system_to_component_cost)\n",
      "/Users/bencottier/Projects/training_cost_2/training-cost-trends/cost.py:259: SettingWithCopyWarning: \n",
      "A value is trying to be set on a copy of a slice from a DataFrame.\n",
      "Try using .loc[row_indexer,col_indexer] = value instead\n",
      "\n",
      "See the caveats in the documentation: https://pandas.pydata.org/pandas-docs/stable/user_guide/indexing.html#returning-a-view-versus-a-copy\n",
      "  frontier_pcd_df[k] = frontier_pcd_df['System'].map(system_to_component_cost)\n",
      "/Users/bencottier/Projects/training_cost_2/training-cost-trends/cost.py:259: SettingWithCopyWarning: \n",
      "A value is trying to be set on a copy of a slice from a DataFrame.\n",
      "Try using .loc[row_indexer,col_indexer] = value instead\n",
      "\n",
      "See the caveats in the documentation: https://pandas.pydata.org/pandas-docs/stable/user_guide/indexing.html#returning-a-view-versus-a-copy\n",
      "  frontier_pcd_df[k] = frontier_pcd_df['System'].map(system_to_component_cost)\n",
      "/Users/bencottier/Projects/training_cost_2/training-cost-trends/cost.py:260: SettingWithCopyWarning: \n",
      "A value is trying to be set on a copy of a slice from a DataFrame.\n",
      "Try using .loc[row_indexer,col_indexer] = value instead\n",
      "\n",
      "See the caveats in the documentation: https://pandas.pydata.org/pandas-docs/stable/user_guide/indexing.html#returning-a-view-versus-a-copy\n",
      "  frontier_pcd_df['Cost'] = frontier_pcd_df[cost_component_names].sum(axis=1)\n",
      "/var/folders/s2/stl5t_bn7xg9vdfxxr71rzrc0000gn/T/ipykernel_87140/2848712251.py:13: SettingWithCopyWarning: \n",
      "A value is trying to be set on a copy of a slice from a DataFrame.\n",
      "Try using .loc[row_indexer,col_indexer] = value instead\n",
      "\n",
      "See the caveats in the documentation: https://pandas.pydata.org/pandas-docs/stable/user_guide/indexing.html#returning-a-view-versus-a-copy\n",
      "  selected_model_df.loc[:, 'Training chip-hours'] = selected_model_df.loc[:, 'Original training chip-hours'] * experiment_factor_value\n",
      "/Users/bencottier/Projects/training_cost_2/training-cost-trends/cost.py:259: SettingWithCopyWarning: \n",
      "A value is trying to be set on a copy of a slice from a DataFrame.\n",
      "Try using .loc[row_indexer,col_indexer] = value instead\n",
      "\n",
      "See the caveats in the documentation: https://pandas.pydata.org/pandas-docs/stable/user_guide/indexing.html#returning-a-view-versus-a-copy\n",
      "  frontier_pcd_df[k] = frontier_pcd_df['System'].map(system_to_component_cost)\n",
      "/Users/bencottier/Projects/training_cost_2/training-cost-trends/cost.py:259: SettingWithCopyWarning: \n",
      "A value is trying to be set on a copy of a slice from a DataFrame.\n",
      "Try using .loc[row_indexer,col_indexer] = value instead\n",
      "\n",
      "See the caveats in the documentation: https://pandas.pydata.org/pandas-docs/stable/user_guide/indexing.html#returning-a-view-versus-a-copy\n",
      "  frontier_pcd_df[k] = frontier_pcd_df['System'].map(system_to_component_cost)\n",
      "/Users/bencottier/Projects/training_cost_2/training-cost-trends/cost.py:259: SettingWithCopyWarning: \n",
      "A value is trying to be set on a copy of a slice from a DataFrame.\n",
      "Try using .loc[row_indexer,col_indexer] = value instead\n",
      "\n",
      "See the caveats in the documentation: https://pandas.pydata.org/pandas-docs/stable/user_guide/indexing.html#returning-a-view-versus-a-copy\n",
      "  frontier_pcd_df[k] = frontier_pcd_df['System'].map(system_to_component_cost)\n",
      "/Users/bencottier/Projects/training_cost_2/training-cost-trends/cost.py:259: SettingWithCopyWarning: \n",
      "A value is trying to be set on a copy of a slice from a DataFrame.\n",
      "Try using .loc[row_indexer,col_indexer] = value instead\n",
      "\n",
      "See the caveats in the documentation: https://pandas.pydata.org/pandas-docs/stable/user_guide/indexing.html#returning-a-view-versus-a-copy\n",
      "  frontier_pcd_df[k] = frontier_pcd_df['System'].map(system_to_component_cost)\n",
      "/Users/bencottier/Projects/training_cost_2/training-cost-trends/cost.py:260: SettingWithCopyWarning: \n",
      "A value is trying to be set on a copy of a slice from a DataFrame.\n",
      "Try using .loc[row_indexer,col_indexer] = value instead\n",
      "\n",
      "See the caveats in the documentation: https://pandas.pydata.org/pandas-docs/stable/user_guide/indexing.html#returning-a-view-versus-a-copy\n",
      "  frontier_pcd_df['Cost'] = frontier_pcd_df[cost_component_names].sum(axis=1)\n",
      "/var/folders/s2/stl5t_bn7xg9vdfxxr71rzrc0000gn/T/ipykernel_87140/2848712251.py:13: SettingWithCopyWarning: \n",
      "A value is trying to be set on a copy of a slice from a DataFrame.\n",
      "Try using .loc[row_indexer,col_indexer] = value instead\n",
      "\n",
      "See the caveats in the documentation: https://pandas.pydata.org/pandas-docs/stable/user_guide/indexing.html#returning-a-view-versus-a-copy\n",
      "  selected_model_df.loc[:, 'Training chip-hours'] = selected_model_df.loc[:, 'Original training chip-hours'] * experiment_factor_value\n",
      "/Users/bencottier/Projects/training_cost_2/training-cost-trends/cost.py:259: SettingWithCopyWarning: \n",
      "A value is trying to be set on a copy of a slice from a DataFrame.\n",
      "Try using .loc[row_indexer,col_indexer] = value instead\n",
      "\n",
      "See the caveats in the documentation: https://pandas.pydata.org/pandas-docs/stable/user_guide/indexing.html#returning-a-view-versus-a-copy\n",
      "  frontier_pcd_df[k] = frontier_pcd_df['System'].map(system_to_component_cost)\n",
      "/Users/bencottier/Projects/training_cost_2/training-cost-trends/cost.py:259: SettingWithCopyWarning: \n",
      "A value is trying to be set on a copy of a slice from a DataFrame.\n",
      "Try using .loc[row_indexer,col_indexer] = value instead\n",
      "\n",
      "See the caveats in the documentation: https://pandas.pydata.org/pandas-docs/stable/user_guide/indexing.html#returning-a-view-versus-a-copy\n",
      "  frontier_pcd_df[k] = frontier_pcd_df['System'].map(system_to_component_cost)\n",
      "/Users/bencottier/Projects/training_cost_2/training-cost-trends/cost.py:259: SettingWithCopyWarning: \n",
      "A value is trying to be set on a copy of a slice from a DataFrame.\n",
      "Try using .loc[row_indexer,col_indexer] = value instead\n",
      "\n",
      "See the caveats in the documentation: https://pandas.pydata.org/pandas-docs/stable/user_guide/indexing.html#returning-a-view-versus-a-copy\n",
      "  frontier_pcd_df[k] = frontier_pcd_df['System'].map(system_to_component_cost)\n",
      "/Users/bencottier/Projects/training_cost_2/training-cost-trends/cost.py:259: SettingWithCopyWarning: \n",
      "A value is trying to be set on a copy of a slice from a DataFrame.\n",
      "Try using .loc[row_indexer,col_indexer] = value instead\n",
      "\n",
      "See the caveats in the documentation: https://pandas.pydata.org/pandas-docs/stable/user_guide/indexing.html#returning-a-view-versus-a-copy\n",
      "  frontier_pcd_df[k] = frontier_pcd_df['System'].map(system_to_component_cost)\n",
      "/Users/bencottier/Projects/training_cost_2/training-cost-trends/cost.py:260: SettingWithCopyWarning: \n",
      "A value is trying to be set on a copy of a slice from a DataFrame.\n",
      "Try using .loc[row_indexer,col_indexer] = value instead\n",
      "\n",
      "See the caveats in the documentation: https://pandas.pydata.org/pandas-docs/stable/user_guide/indexing.html#returning-a-view-versus-a-copy\n",
      "  frontier_pcd_df['Cost'] = frontier_pcd_df[cost_component_names].sum(axis=1)\n"
     ]
    },
    {
     "data": {
      "text/plain": [
       "defaultdict(dict,\n",
       "            {'GPT-3 175B (davinci)': {'2.5': {'AI accelerator chip cost': 946617.072591598,\n",
       "               'Other server components cost': 653165.7800882027,\n",
       "               'Cluster-level interconnect cost': 375257.70618415077,\n",
       "               'Energy cost': 118649.05476156877},\n",
       "              '50': {'AI accelerator chip cost': 1935775.594656169,\n",
       "               'Other server components cost': 1335685.1603127564,\n",
       "               'Cluster-level interconnect cost': 767379.6832643158,\n",
       "               'Energy cost': 242630.25798559497},\n",
       "              '97.5': {'AI accelerator chip cost': 3948402.381244476,\n",
       "               'Other server components cost': 2724397.6430586884,\n",
       "               'Cluster-level interconnect cost': 1565224.6970587668,\n",
       "               'Energy cost': 494893.05012260185}},\n",
       "             'OPT-175B': {'2.5': {'AI accelerator chip cost': 351868.4012474494,\n",
       "               'Other server components cost': 232233.14482331654,\n",
       "               'Cluster-level interconnect cost': 137011.47376968584,\n",
       "               'Energy cost': 48414.08665113669},\n",
       "              '50': {'AI accelerator chip cost': 719549.9462107866,\n",
       "               'Other server components cost': 474902.9644991191,\n",
       "               'Cluster-level interconnect cost': 280180.3123887433,\n",
       "               'Energy cost': 99003.92681515981},\n",
       "              '97.5': {'AI accelerator chip cost': 1467666.3601328407,\n",
       "               'Other server components cost': 968659.7976876746,\n",
       "               'Cluster-level interconnect cost': 571483.9135628369,\n",
       "               'Energy cost': 201938.35559692734}},\n",
       "             'GPT-4': {'2.5': {'AI accelerator chip cost': 19109595.475848652,\n",
       "               'Other server components cost': 12612333.014060106,\n",
       "               'Cluster-level interconnect cost': 7440946.188990942,\n",
       "               'Energy cost': 3738770.0448829597},\n",
       "              '50': {'AI accelerator chip cost': 39077985.826544754,\n",
       "               'Other server components cost': 25791470.645519532,\n",
       "               'Cluster-level interconnect cost': 15216292.258879276,\n",
       "               'Energy cost': 7645562.304408643},\n",
       "              '97.5': {'AI accelerator chip cost': 79707385.87556843,\n",
       "               'Other server components cost': 52606874.67787516,\n",
       "               'Cluster-level interconnect cost': 31036678.401425038,\n",
       "               'Energy cost': 15594656.99020863}},\n",
       "             'Gemini 1.0 Ultra': {'2.5': {'AI accelerator chip cost': 14193957.56135486,\n",
       "               'Other server components cost': 9084132.839267109,\n",
       "               'Cluster-level interconnect cost': 5460292.810022437,\n",
       "               'Energy cost': 3128439.457785625},\n",
       "              '50': {'AI accelerator chip cost': 29025798.746300787,\n",
       "               'Other server components cost': 18576511.1976325,\n",
       "               'Cluster-level interconnect cost': 11165973.937465832,\n",
       "               'Energy cost': 6397472.5652909605},\n",
       "              '97.5': {'AI accelerator chip cost': 59203935.21015183,\n",
       "               'Other server components cost': 37890518.534497164,\n",
       "               'Cluster-level interconnect cost': 22775242.236399144,\n",
       "               'Energy cost': 13048927.768524563}}})"
      ]
     },
     "execution_count": 20,
     "metadata": {},
     "output_type": "execute_result"
    }
   ],
   "source": [
    "selected_model_df.loc[:, 'Original training chip-hours'] = selected_model_df.loc[:, 'Training chip-hours']\n",
    "hardware_costs = defaultdict(dict)\n",
    "cost_component_names = [\n",
    "    'AI accelerator chip cost',\n",
    "    'Other server components cost',\n",
    "    'Cluster-level interconnect cost',\n",
    "    'Energy cost',\n",
    "]\n",
    "\n",
    "for percentile in [2.5, 50, 97.5]:\n",
    "    print(f'\\n\\n{percentile}th percentile of experiments time')\n",
    "    experiment_factor_value = np.percentile(experiment_factor, percentile)\n",
    "    selected_model_df.loc[:, 'Training chip-hours'] = selected_model_df.loc[:, 'Original training chip-hours'] * experiment_factor_value\n",
    "    cost_df = estimate_hardware_capex_energy(selected_model_df, hardware_df, price_df, separate_components=True)\n",
    "    cost_df = cost_df.set_index('System', inplace=False)\n",
    "\n",
    "    for model in models:\n",
    "        cost_components = {}\n",
    "        for cost_component_name in cost_component_names:\n",
    "            cost_components[cost_component_name] = cost_df.loc[model, cost_component_name]\n",
    "        hardware_costs[model][str(percentile)] = cost_components\n",
    "\n",
    "hardware_costs"
   ]
  },
  {
   "cell_type": "markdown",
   "metadata": {},
   "source": [
    "# GPT-3"
   ]
  },
  {
   "cell_type": "markdown",
   "metadata": {},
   "source": [
    "## Project duration"
   ]
  },
  {
   "cell_type": "markdown",
   "metadata": {},
   "source": [
    "Training end time\n",
    "1. Shevlane (2022)\n",
    "https://uploads-ssl.webflow.com/614b70a71b9f71c9c240c7a7/6262a1a55526a373cc93207d_Shevlane%20dissertation%20preprint.pdf\n",
    "p.66 of the PDF: A senior member of OpenAI (specified anonymously on p.27 of the PDF) \n",
    "told the author \"GPT-3 existed for a long time before the paper came out. We delayed the \n",
    "paper. [...] But it's months, it doesn't really count.\"\n",
    "p.67 of the PDF: CAMERON said \"Firstly, [the idea for a commercial API for GPT-3] \n",
    "started out as a research API. It probably was . . . early January 2020.\"\n",
    "\n",
    "1. We think it plausibly could have been produced soon after the Microsoft deal was \n",
    "announced in July 2019. Supposing the announcement coincided with Microsoft giving \n",
    "OpenAI access to the necessary compute, and OpenAI already having almost everything \n",
    "about GPT-3 planned in advance, and it took less than 1 month to train, then GPT-3 could \n",
    "have been produced in August 2019.\n",
    "\n",
    "1. So we estimate August to January as our 90% CI, and halfway between (October) as the\n",
    "central estimate."
   ]
  },
  {
   "cell_type": "code",
   "execution_count": 21,
   "metadata": {},
   "outputs": [],
   "source": [
    "training_end_low = datetime(2019, 8, 1)\n",
    "training_end_high = datetime(2020, 1, 1)"
   ]
  },
  {
   "cell_type": "markdown",
   "metadata": {},
   "source": [
    "\n",
    "Project start time\n",
    "- Lower bound on start time: when GPT-2 was published, 2019-Feb-14\n",
    "  - It could have been earlier than this, but that seems unlikely unless GPT-2 was delayed for months\n",
    "  - The scaling laws paper was only published in January 2020, and GPT-3 was based on the findings of that paper\n",
    "- Upper bound on start time: 2019-Nov-01, two months before the upper bound on training completion\n",
    "  - We think they’d need six weeks at the absolute minimum, to prepare training data and scale up the experiments successfully\n"
   ]
  },
  {
   "cell_type": "code",
   "execution_count": 22,
   "metadata": {},
   "outputs": [],
   "source": [
    "project_start_low = datetime(2019, 2, 14)\n",
    "project_start_high = datetime(2019, 11, 1)\n"
   ]
  },
  {
   "cell_type": "code",
   "execution_count": 23,
   "metadata": {},
   "outputs": [
    {
     "data": {
      "text/plain": [
       "numpy.datetime64('2020-05-28T00:00:00.000000000')"
      ]
     },
     "execution_count": 23,
     "metadata": {},
     "output_type": "execute_result"
    }
   ],
   "source": [
    "publication_date = frontier_pcd_df.loc[frontier_pcd_df['System'] == 'GPT-3 175B (davinci)', 'Publication date'].values[0]\n",
    "publication_date"
   ]
  },
  {
   "cell_type": "code",
   "execution_count": 24,
   "metadata": {},
   "outputs": [
    {
     "name": "stdout",
     "output_type": "stream",
     "text": [
      "Median: 4.3 [90% CI: 1.1, 9.1]\n",
      "Median: 8.3 [90% CI: 4, 13]\n"
     ]
    }
   ],
   "source": [
    "min_project_duration = 15 / 365  # training duration\n",
    "experiments_duration = []\n",
    "while len(experiments_duration) < N:\n",
    "    project_start_sample = lognorm_from_90_ci(dt2float(project_start_low), dt2float(project_start_high), 1)[0]\n",
    "    training_end_sample = lognorm_from_90_ci(dt2float(training_end_low), dt2float(training_end_high), 1)[0]\n",
    "    experiment_duration_sample = training_end_sample - project_start_sample\n",
    "    if experiment_duration_sample > min_project_duration:\n",
    "        experiments_duration.append(experiment_duration_sample)\n",
    "\n",
    "project_duration = []\n",
    "while len(project_duration) < N:\n",
    "    project_start_sample = lognorm_from_90_ci(dt2float(project_start_low), dt2float(project_start_high), 1)[0]\n",
    "    # Paper was delayed by \"months\"\n",
    "    publication_delay_sample = lognorm_from_90_ci(2*30, 4*30, 1)[0]\n",
    "    project_end_sample = dt2float(publication_date - pd.to_timedelta(publication_delay_sample, unit='D'))\n",
    "    project_duration_sample = project_end_sample - project_start_sample\n",
    "    if project_duration_sample > min_project_duration:\n",
    "        project_duration.append(project_duration_sample)\n",
    "\n",
    "experiments_duration = np.array(experiments_duration)\n",
    "project_duration = np.array(project_duration)\n",
    "print_median_and_ci(experiments_duration * 12)  # convert years to months\n",
    "print_median_and_ci(project_duration * 12)"
   ]
  },
  {
   "cell_type": "markdown",
   "metadata": {},
   "source": [
    "## Energy"
   ]
  },
  {
   "cell_type": "markdown",
   "metadata": {},
   "source": [
    "Total energy consumption of training: 1287 MWh ([Patterson et al. 2021](https://arxiv.org/abs/2104.10350), Table 4)"
   ]
  },
  {
   "cell_type": "code",
   "execution_count": 25,
   "metadata": {},
   "outputs": [
    {
     "name": "stdout",
     "output_type": "stream",
     "text": [
      "Median: 1.9e+05 [90% CI: 8.5e+04, 4.3e+05]\n"
     ]
    }
   ],
   "source": [
    "energy_consumption_kwh = 1287e3 * experiment_factor\n",
    "price_per_kwh = energy_price(2020) * energy_price_uncertainty_factor\n",
    "energy_cost = energy_consumption_kwh * price_per_kwh\n",
    "print_median_and_ci(energy_cost)"
   ]
  },
  {
   "cell_type": "markdown",
   "metadata": {},
   "source": [
    "## Personnel"
   ]
  },
  {
   "cell_type": "code",
   "execution_count": 26,
   "metadata": {},
   "outputs": [],
   "source": [
    "num_contributors = 25  # counting listed contributors in paper"
   ]
  },
  {
   "cell_type": "code",
   "execution_count": 27,
   "metadata": {},
   "outputs": [],
   "source": [
    "compensation = lognorm_from_90_ci(salary_low, salary_high, (N, num_contributors))\n",
    "overhead = lognorm_from_90_ci(compensation_overhead_low, compensation_overhead_high, (N, num_contributors))\n",
    "compensation *= overhead\n",
    "if INCLUDE_EQUITY:\n",
    "    equity = lognorm_from_90_ci(equity_low, equity_high, num_contributors)\n",
    "    compensation += equity\n",
    "ftes = lognorm_from_90_ci(0.05, 0.8, (N, num_contributors))\n",
    "compensation *= ftes\n",
    "total_compensation = compensation.sum(axis=1)\n",
    "assert total_compensation.shape == (N,)"
   ]
  },
  {
   "cell_type": "code",
   "execution_count": 28,
   "metadata": {},
   "outputs": [],
   "source": [
    "personnel_cost = total_compensation * project_duration"
   ]
  },
  {
   "cell_type": "code",
   "execution_count": 29,
   "metadata": {},
   "outputs": [
    {
     "name": "stdout",
     "output_type": "stream",
     "text": [
      "Median: 2.2e+06 [95% CI: 7.8e+05, 4.3e+06]\n"
     ]
    }
   ],
   "source": [
    "print_median_and_ci(personnel_cost, ci=[2.5, 97.5])"
   ]
  },
  {
   "cell_type": "markdown",
   "metadata": {},
   "source": [
    "## Overall"
   ]
  },
  {
   "cell_type": "code",
   "execution_count": 30,
   "metadata": {},
   "outputs": [
    {
     "data": {
      "text/plain": [
       "{'AI accelerator chip cost': 946617.072591598,\n",
       " 'Other server components cost': 653165.7800882027,\n",
       " 'Cluster-level interconnect cost': 375257.70618415077,\n",
       " 'Energy cost': 118649.05476156877}"
      ]
     },
     "execution_count": 30,
     "metadata": {},
     "output_type": "execute_result"
    }
   ],
   "source": [
    "hardware_costs['GPT-3 175B (davinci)']['2.5']"
   ]
  },
  {
   "cell_type": "code",
   "execution_count": 31,
   "metadata": {},
   "outputs": [],
   "source": [
    "def get_hardware_cost_dist(model, component, ci=[2.5, 97.5]):\n",
    "    return lognorm_from_ci(\n",
    "        hardware_costs[model][str(ci[0])][component],\n",
    "        hardware_costs[model][str(ci[1])][component],\n",
    "        ci[1] - ci[0],\n",
    "        N\n",
    "    )"
   ]
  },
  {
   "cell_type": "code",
   "execution_count": 32,
   "metadata": {},
   "outputs": [],
   "source": [
    "cost_data['GPT-3 175B (davinci)'] = {\n",
    "    'AI accelerator chip cost': get_hardware_cost_dist('GPT-3 175B (davinci)', 'AI accelerator chip cost'),\n",
    "    'Other server components cost': get_hardware_cost_dist('GPT-3 175B (davinci)', 'Other server components cost'),\n",
    "    'Cluster-level interconnect cost': get_hardware_cost_dist('GPT-3 175B (davinci)', 'Cluster-level interconnect cost'),\n",
    "    'Energy cost': energy_cost,\n",
    "    rnd_staff_cost_name: personnel_cost,\n",
    "}"
   ]
  },
  {
   "cell_type": "markdown",
   "metadata": {},
   "source": [
    "# OPT-175B"
   ]
  },
  {
   "cell_type": "markdown",
   "metadata": {},
   "source": [
    "## Energy"
   ]
  },
  {
   "cell_type": "markdown",
   "metadata": {},
   "source": [
    "https://arxiv.org/abs/2205.01068: \"[...] OPT-175B was developed with an estimated carbon emissions footprint (CO2eq) of 75 tons [...] With ablations, baselines and downtime, our own estimates of total cost is roughly 2× higher.\"\n",
    "\n",
    "- I haven't found numbers for carbon intensity, or how they calculate it\n",
    "- According to https://arxiv.org/pdf/2104.10350.pdf (Table 1), Gross CO2e/KWh (kg/KWh) for the “Google Iowa Council Bluffs” data center in 2020 was 0.478 CO2e/kWh (kg/kWh)\n",
    "- Energy use:\n",
    "  - 992 A100 GPU units\n",
    "  - 300W per unit (https://www.nvidia.com/en-us/data-center/a100/)\n",
    "  - Training time 33 days (https://github.com/facebookresearch/metaseq/blob/d703cf1ae1e0faaff6c20629398dfbe02b98cf77/projects/OPT/chronicles/final_update.md)\n",
    "  - Energy = 992 units * 0.3 kW/unit * 33 days * 24h/day ~= 236000 kWh\n",
    "  - 75000 kg / 236000 kWh ~= 0.318 CO2e/kWh (kg/kWh)\n",
    "  - Sanity check: this is not far from the Google data center gross carbon intensity of 0.478 reported by [Patterson et al. (2021)](https://arxiv.org/abs/2104.10350)"
   ]
  },
  {
   "cell_type": "code",
   "execution_count": 33,
   "metadata": {},
   "outputs": [
    {
     "name": "stdout",
     "output_type": "stream",
     "text": [
      "Median: 4.3e+04 [95% CI: 1.7e+04, 1.2e+05]\n"
     ]
    }
   ],
   "source": [
    "training_time_hours = 33 * 24\n",
    "power_per_gpu = 0.3\n",
    "num_gpus = 992\n",
    "energy_consumption_kwh = training_time_hours * num_gpus * power_per_gpu * experiment_factor\n",
    "price_per_kwh = energy_price(2022) * energy_price_uncertainty_factor\n",
    "energy_cost = energy_consumption_kwh * price_per_kwh\n",
    "print_median_and_ci(energy_cost, ci=[2.5, 97.5])"
   ]
  },
  {
   "cell_type": "markdown",
   "metadata": {},
   "source": [
    "## Personnel"
   ]
  },
  {
   "cell_type": "markdown",
   "metadata": {},
   "source": [
    "2021-Oct-20: First date in [OPT logbook](https://github.com/facebookresearch/metaseq/blob/main/projects/OPT/chronicles/OPT175B_Logbook.pdf)\n",
    "\n",
    "2022-Jan-06: Date in the logbook where the final training run is stated to have completed\n",
    "\n",
    "2022-May-02: Publication on arxiv"
   ]
  },
  {
   "cell_type": "code",
   "execution_count": 34,
   "metadata": {},
   "outputs": [],
   "source": [
    "project_duration = 192 / DAYS_PER_YEAR"
   ]
  },
  {
   "cell_type": "code",
   "execution_count": 35,
   "metadata": {},
   "outputs": [],
   "source": [
    "num_authors = 19\n",
    "num_contributors = num_authors"
   ]
  },
  {
   "cell_type": "code",
   "execution_count": 36,
   "metadata": {},
   "outputs": [],
   "source": [
    "compensation = lognorm_from_90_ci(salary_low, salary_high, (N, num_contributors))\n",
    "overhead = lognorm_from_90_ci(compensation_overhead_low, compensation_overhead_high, (N, num_contributors))\n",
    "compensation *= overhead\n",
    "if INCLUDE_EQUITY:\n",
    "    equity = lognorm_from_90_ci(equity_low, equity_high, num_contributors)\n",
    "    compensation += equity\n",
    "ftes = lognorm_from_90_ci(0.05, 0.8, (N, num_contributors))\n",
    "compensation *= ftes\n",
    "total_compensation = compensation.sum(axis=1)\n",
    "assert total_compensation.shape == (N,)"
   ]
  },
  {
   "cell_type": "code",
   "execution_count": 37,
   "metadata": {},
   "outputs": [],
   "source": [
    "personnel_cost = total_compensation * project_duration"
   ]
  },
  {
   "cell_type": "code",
   "execution_count": 38,
   "metadata": {},
   "outputs": [
    {
     "name": "stdout",
     "output_type": "stream",
     "text": [
      "Median: 1.1e+06 [95% CI: 6.9e+05, 1.7e+06]\n"
     ]
    }
   ],
   "source": [
    "print_median_and_ci(personnel_cost, ci=[2.5, 97.5])"
   ]
  },
  {
   "cell_type": "markdown",
   "metadata": {},
   "source": [
    "## Overall"
   ]
  },
  {
   "cell_type": "code",
   "execution_count": 39,
   "metadata": {},
   "outputs": [],
   "source": [
    "cost_data['OPT-175B'] = {\n",
    "    'AI accelerator chip cost': get_hardware_cost_dist('OPT-175B', 'AI accelerator chip cost'),\n",
    "    'Other server components cost': get_hardware_cost_dist('OPT-175B', 'Other server components cost'),\n",
    "    'Cluster-level interconnect cost': get_hardware_cost_dist('OPT-175B', 'Cluster-level interconnect cost'),\n",
    "    'Energy cost': energy_cost,\n",
    "    rnd_staff_cost_name: personnel_cost,\n",
    "}"
   ]
  },
  {
   "cell_type": "markdown",
   "metadata": {},
   "source": [
    "# GPT-4"
   ]
  },
  {
   "cell_type": "markdown",
   "metadata": {},
   "source": [
    "## Project duration"
   ]
  },
  {
   "cell_type": "markdown",
   "metadata": {},
   "source": [
    "https://arxiv.org/abs/2303.08774\n",
    "\"This system card analyzes GPT-4 [...] Since it finished training in August of 2022 [...]\""
   ]
  },
  {
   "cell_type": "code",
   "execution_count": 40,
   "metadata": {},
   "outputs": [],
   "source": [
    "training_end_low = datetime(2022, 8, 1)\n",
    "training_end_high = datetime(2022, 8, 31)"
   ]
  },
  {
   "cell_type": "markdown",
   "metadata": {},
   "source": [
    "Project start time\n",
    "- We know they started training GPT-3.5 about one year before [announcement](https://openai.com/index/gpt-4-research/) in March 2023, and then trained GPT-4 after that. They built new infrastructure/codebase for and GPT-3.5 was a test run. Maybe some research experiments were going on for a few months in total prior to that.\n",
    "- Indirect source that final training run of GPT-4 took about three months: [SemiAnalysis](https://www.semianalysis.com/p/gpt-4-architecture-infrastructure). So would have started at the end of May at the latest.\n"
   ]
  },
  {
   "cell_type": "code",
   "execution_count": 41,
   "metadata": {},
   "outputs": [],
   "source": [
    "project_start_low = datetime(2022, 1, 1)\n",
    "project_start_high = datetime(2022, 5, 31)"
   ]
  },
  {
   "cell_type": "code",
   "execution_count": 42,
   "metadata": {},
   "outputs": [
    {
     "data": {
      "text/plain": [
       "numpy.datetime64('2023-03-15T00:00:00.000000000')"
      ]
     },
     "execution_count": 42,
     "metadata": {},
     "output_type": "execute_result"
    }
   ],
   "source": [
    "publication_date = frontier_pcd_df.loc[frontier_pcd_df['System'] == 'GPT-4', 'Publication date'].values[0]\n",
    "publication_date"
   ]
  },
  {
   "cell_type": "code",
   "execution_count": 43,
   "metadata": {},
   "outputs": [
    {
     "name": "stdout",
     "output_type": "stream",
     "text": [
      "Median: 5.2 [90% CI: 3.3, 7.6]\n",
      "Median: 12 [90% CI: 9.5, 15]\n"
     ]
    }
   ],
   "source": [
    "min_project_duration = 90 / 365  # training duration\n",
    "experiments_duration = []\n",
    "while len(experiments_duration) < N:\n",
    "    project_start_sample = lognorm_from_90_ci(dt2float(project_start_low), dt2float(project_start_high), 1)[0]\n",
    "    training_end_sample = lognorm_from_90_ci(dt2float(training_end_low), dt2float(training_end_high), 1)[0]\n",
    "    experiment_duration_sample = training_end_sample - project_start_sample\n",
    "    if experiment_duration_sample > min_project_duration:\n",
    "        experiments_duration.append(experiment_duration_sample)\n",
    "\n",
    "project_duration = []\n",
    "while len(project_duration) < N:\n",
    "    project_start_sample = lognorm_from_90_ci(dt2float(project_start_low), dt2float(project_start_high), 1)[0]\n",
    "    # Technical report said six months was spent on safety research, risk assessment, and iteration,\n",
    "    # which covers the time from the end of training to publication\n",
    "    project_duration_sample = dt2float(pd.to_datetime(publication_date)) - project_start_sample\n",
    "    if project_duration_sample > min_project_duration:\n",
    "        project_duration.append(project_duration_sample)\n",
    "\n",
    "experiments_duration = np.array(experiments_duration)\n",
    "project_duration = np.array(project_duration)\n",
    "print_median_and_ci(experiments_duration * 12)  # convert years to months\n",
    "print_median_and_ci(project_duration * 12)"
   ]
  },
  {
   "cell_type": "markdown",
   "metadata": {},
   "source": [
    "## Energy"
   ]
  },
  {
   "cell_type": "code",
   "execution_count": 44,
   "metadata": {},
   "outputs": [
    {
     "name": "stdout",
     "output_type": "stream",
     "text": [
      "Median: 7.8e+06 [95% CI: 3e+06, 2e+07]\n"
     ]
    }
   ],
   "source": [
    "energy_cost = get_hardware_cost_dist('GPT-4', 'Energy cost') * energy_price_uncertainty_factor\n",
    "print_median_and_ci(energy_cost, ci=[2.5, 97.5])"
   ]
  },
  {
   "cell_type": "markdown",
   "metadata": {},
   "source": [
    "## Personnel"
   ]
  },
  {
   "cell_type": "code",
   "execution_count": 45,
   "metadata": {},
   "outputs": [
    {
     "data": {
      "text/plain": [
       "{'Pretraining': {'Core contributors': ['Christopher Berner',\n",
       "   'Greg Brockman',\n",
       "   'Trevor Cai',\n",
       "   'David Farhi',\n",
       "   'Chris Hesse',\n",
       "   'Shantanu Jain',\n",
       "   'Kyle Kosic',\n",
       "   'Jakub Pachocki',\n",
       "   'Alex Paino',\n",
       "   'Mikhail Pavlov',\n",
       "   'Michael Petrov',\n",
       "   'Nick Ryder',\n",
       "   'Szymon Sidor',\n",
       "   'Nikolas Tezak',\n",
       "   'Phil Tillet',\n",
       "   'Amin Tootoonchian',\n",
       "   'Qiming Yuan',\n",
       "   'Wojciech Zaremba'],\n",
       "  'Compute cluster scaling': ['Christopher Berner',\n",
       "   'Oleg Boiko',\n",
       "   'Andrew Cann',\n",
       "   'Ben Chess',\n",
       "   'Christian Gibson',\n",
       "   'Mateusz Litwin',\n",
       "   'Emy Parparita',\n",
       "   'Henri Roussez',\n",
       "   'Eric Sigler',\n",
       "   'Akila Welihinda'],\n",
       "  'Data': ['Sandhini Agarwal',\n",
       "   'Suchir Balaji',\n",
       "   'Mo Bavarian',\n",
       "   'Che Chang',\n",
       "   'Sheila Dunning',\n",
       "   'Leo Gao',\n",
       "   'Jonathan Gordon',\n",
       "   'Peter Hoeschele',\n",
       "   'Shawn Jain',\n",
       "   'Shantanu Jain',\n",
       "   'Roger Jiang',\n",
       "   'Heewoo Jun',\n",
       "   'Łukasz Kaiser',\n",
       "   'Nitish Shirish Keskar',\n",
       "   'Jong Wook Kim',\n",
       "   'Aris Konstantinidis',\n",
       "   'Chak Ming Li',\n",
       "   'Todor Markov',\n",
       "   'Bianca Martin',\n",
       "   'David Mély',\n",
       "   'Oleg Murk',\n",
       "   'Hyeonwoo Noh',\n",
       "   'Long Ouyang',\n",
       "   'Alex Paino',\n",
       "   'Vitchyr Pong',\n",
       "   'Alec Radford',\n",
       "   'Nick Ryder',\n",
       "   'John Schulman',\n",
       "   'Daniel Selsam',\n",
       "   'Ian Sohl',\n",
       "   'Chelsea Voss',\n",
       "   'Lilian Weng',\n",
       "   'Clemens Winter',\n",
       "   'Tao Xu',\n",
       "   'Qiming Yuan',\n",
       "   'Wojciech Zaremba'],\n",
       "  'Distributed training infrastructure': ['Greg Brockman',\n",
       "   'Trevor Cai',\n",
       "   'Chris Hesse',\n",
       "   'Shantanu Jain',\n",
       "   'Yongjik Kim',\n",
       "   'Kyle Kosic',\n",
       "   'Mateusz Litwin',\n",
       "   'Jakub Pachocki',\n",
       "   'Mikhail Pavlov',\n",
       "   'Szymon Sidor',\n",
       "   'Nikolas Tezak',\n",
       "   'Madeleine Thompson',\n",
       "   'Amin Tootoonchian',\n",
       "   'Qiming Yuan'],\n",
       "  'Hardware correctness': ['Greg Brockman',\n",
       "   'Shantanu Jain',\n",
       "   'Kyle Kosic',\n",
       "   'Michael Petrov',\n",
       "   'Nikolas Tezak',\n",
       "   'Amin Tootoonchian',\n",
       "   'Chelsea Voss',\n",
       "   'Qiming Yuan'],\n",
       "  'Optimization & architecture': ['Igor Babuschkin',\n",
       "   'Mo Bavarian',\n",
       "   'Adrien Ecoffet',\n",
       "   'David Farhi',\n",
       "   'Jesse Han',\n",
       "   'Ingmar Kanitscheider',\n",
       "   'Daniel Levy',\n",
       "   'Jakub Pachocki',\n",
       "   'Alex Paino',\n",
       "   'Mikhail Pavlov',\n",
       "   'Nick Ryder',\n",
       "   'Szymon Sidor',\n",
       "   'Jie Tang',\n",
       "   'Jerry Tworek',\n",
       "   'Tao Xu'],\n",
       "  'Training run babysitting': ['Suchir Balaji',\n",
       "   'Mo Bavarian',\n",
       "   'Greg Brockman',\n",
       "   'Trevor Cai',\n",
       "   'Chris Hesse',\n",
       "   'Shantanu Jain',\n",
       "   'Roger Jiang',\n",
       "   'Yongjik Kim',\n",
       "   'Kyle Kosic',\n",
       "   'Mateusz Litwin',\n",
       "   'Jakub Pachocki',\n",
       "   'Alex Paino',\n",
       "   'Mikhail Pavlov',\n",
       "   'Michael Petrov',\n",
       "   'Nick Ryder',\n",
       "   'Szymon Sidor',\n",
       "   'Nikolas Tezak',\n",
       "   'Madeleine Thompson',\n",
       "   'Phil Tillet',\n",
       "   'Amin Tootoonchian',\n",
       "   'Chelsea Voss',\n",
       "   'Ben Wang',\n",
       "   'Tao Xu',\n",
       "   'Qiming Yuan']},\n",
       " 'Long context': {'Core contributors': ['Gabriel Goh',\n",
       "   'Łukasz Kaiser',\n",
       "   'Ben Wang',\n",
       "   'Clemens Winter'],\n",
       "  'Long context research': ['Mo Bavarian',\n",
       "   'Gabriel Goh',\n",
       "   'Heewoo Jun',\n",
       "   'Łukasz Kaiser',\n",
       "   'Chak Ming Li',\n",
       "   'Ben Wang',\n",
       "   'Clemens Winter'],\n",
       "  'Long context kernels': ['Phil Tillet']},\n",
       " 'Vision': {'Core contributors': ['Trevor Cai',\n",
       "   'Mark Chen',\n",
       "   'Casey Chu',\n",
       "   'Chris Hesse',\n",
       "   'Shengli Hu',\n",
       "   'Yongjik Kim',\n",
       "   'Jamie Kiros',\n",
       "   'Daniel Levy',\n",
       "   'Christine McLeavey',\n",
       "   'David Mély',\n",
       "   'Hyeonwoo Noh',\n",
       "   'Mikhail Pavlov',\n",
       "   'Raul Puri',\n",
       "   'Amin Tootoonchian'],\n",
       "  'Architecture research': ['Casey Chu',\n",
       "   'Jamie Kiros',\n",
       "   'Christine McLeavey',\n",
       "   'Hyeonwoo Noh',\n",
       "   'Raul Puri',\n",
       "   'Alec Radford',\n",
       "   'Aditya Ramesh'],\n",
       "  'Compute cluster scaling': ['Andrew Cann',\n",
       "   'Rory Carmichael',\n",
       "   'Christian Gibson',\n",
       "   'Henri Roussez',\n",
       "   'Akila Welihinda'],\n",
       "  'Distributed training infrastructure': ['Trevor Cai',\n",
       "   'Yunxing Dai',\n",
       "   'Chris Hesse',\n",
       "   'Brandon Houghton',\n",
       "   'Yongjik Kim',\n",
       "   'Łukasz Kondraciuk',\n",
       "   'Hyeonwoo Noh',\n",
       "   'Mikhail Pavlov',\n",
       "   'Raul Puri',\n",
       "   'Nikolas Tezak',\n",
       "   'Amin Tootoonchian',\n",
       "   'Tianhao Zheng'],\n",
       "  'Hardware correctness': ['Oleg Boiko',\n",
       "   'Trevor Cai',\n",
       "   'Michael Petrov',\n",
       "   'Alethea Power'],\n",
       "  'Data': ['Jong Wook Kim',\n",
       "   'David Mély',\n",
       "   'Reiichiro Nakano',\n",
       "   'Hyeonwoo Noh',\n",
       "   'Long Ouyang',\n",
       "   'Raul Puri',\n",
       "   'Pranav Shyam',\n",
       "   'Tao Xu'],\n",
       "  'Alignment data': ['Long Ouyang'],\n",
       "  'Training run babysitting': ['Trevor Cai',\n",
       "   'Kyle Kosic',\n",
       "   'Daniel Levy',\n",
       "   'David Mély',\n",
       "   'Reiichiro Nakano',\n",
       "   'Hyeonwoo Noh',\n",
       "   'Mikhail Pavlov',\n",
       "   'Raul Puri',\n",
       "   'Amin Tootoonchian'],\n",
       "  'Deployment & post-training': ['Ilge Akkaya',\n",
       "   'Mark Chen',\n",
       "   'Jamie Kiros',\n",
       "   'Rachel Lim',\n",
       "   'Reiichiro Nakano',\n",
       "   'Raul Puri',\n",
       "   'Jiayi Weng']},\n",
       " 'Reinforcement Learning & Alignment': {'Core contributors': ['Greg Brockman',\n",
       "   'Arka Dhar',\n",
       "   'Liam Fedus',\n",
       "   'Tarun Gogineni',\n",
       "   'Rapha Gontijo-Lopes',\n",
       "   'Joshua Gross',\n",
       "   'Johannes Heidecke',\n",
       "   'Joost Huizinga',\n",
       "   'Teddy Lee',\n",
       "   'Jan Leike',\n",
       "   'Ryan Lowe',\n",
       "   'Luke Metz',\n",
       "   'Long Ouyang',\n",
       "   'John Schulman',\n",
       "   'Jerry Tworek',\n",
       "   'Carroll Wainwright',\n",
       "   'Jonathan Ward',\n",
       "   'Jiayi Weng',\n",
       "   'Sarah Yoo',\n",
       "   'Wojciech Zaremba',\n",
       "   'Chong Zhang',\n",
       "   'Shengjia Zhao',\n",
       "   'Barret Zoph'],\n",
       "  'Dataset contributions': ['Diogo Almeida',\n",
       "   'Mo Bavarian',\n",
       "   'Juan Felipe Cerón Uribe',\n",
       "   'Tyna Eloundou',\n",
       "   'Liam Fedus',\n",
       "   'Tarun Gogineni',\n",
       "   'Rapha Gontijo-Lopes',\n",
       "   'Jonathan Gordon',\n",
       "   'Joost Huizinga',\n",
       "   'Shawn Jain',\n",
       "   'Roger Jiang',\n",
       "   'Łukasz Kaiser',\n",
       "   'Christina Kim',\n",
       "   'Jan Leike',\n",
       "   'Chak Ming Li',\n",
       "   'Stephanie Lin',\n",
       "   'Ryan Lowe',\n",
       "   'Jacob Menick',\n",
       "   'Luke Metz',\n",
       "   'Pamela Mishkin',\n",
       "   'Tong Mu',\n",
       "   'Oleg Murk',\n",
       "   'Ashvin Nair',\n",
       "   'Long Ouyang',\n",
       "   'Alex Passos',\n",
       "   'Michael (Rai) Pokorny',\n",
       "   'Vitchyr Pong',\n",
       "   'Shibani Santurkar',\n",
       "   'Daniel Selsam',\n",
       "   'Sarah Shoker',\n",
       "   'Carroll Wainwright',\n",
       "   'Matt Wiethoff',\n",
       "   'Jeff Wu',\n",
       "   'Kai Xiao',\n",
       "   'Kevin Yu',\n",
       "   'Marvin Zhang',\n",
       "   'Chong Zhang',\n",
       "   'William Zhuk',\n",
       "   'Barret Zoph'],\n",
       "  'Data infrastructure': ['Irwan Bello',\n",
       "   'Lenny Bogdonoff',\n",
       "   'Juan Felipe Cerón Uribe',\n",
       "   'Joshua Gross',\n",
       "   'Shawn Jain',\n",
       "   'Haozhun Jin',\n",
       "   'Christina Kim',\n",
       "   'Aris Konstantinidis',\n",
       "   'Teddy Lee',\n",
       "   'David Medina',\n",
       "   'Jacob Menick',\n",
       "   'Luke Metz',\n",
       "   'Ashvin Nair',\n",
       "   'Long Ouyang',\n",
       "   'Michael (Rai) Pokorny',\n",
       "   'Vitchyr Pong',\n",
       "   'John Schulman',\n",
       "   'Jonathan Ward',\n",
       "   'Jiayi Weng',\n",
       "   'Matt Wiethoff',\n",
       "   'Sarah Yoo',\n",
       "   'Kevin Yu',\n",
       "   'Wojciech Zaremba',\n",
       "   'William Zhuk',\n",
       "   'Barret Zoph'],\n",
       "  'ChatML format': ['Ilge Akkaya',\n",
       "   'Christina Kim',\n",
       "   'Chak Ming Li',\n",
       "   'Rachel Lim',\n",
       "   'Jacob Menick',\n",
       "   'Luke Metz',\n",
       "   'Andrey Mishchenko',\n",
       "   'Vitchyr Pong',\n",
       "   'John Schulman',\n",
       "   'Carroll Wainwright',\n",
       "   'Barret Zoph'],\n",
       "  'Model safety': ['Josh Achiam',\n",
       "   'Steven Adler',\n",
       "   'Juan Felipe Cerón Uribe',\n",
       "   'Hyung Won Chung',\n",
       "   'Tyna Eloundou',\n",
       "   'Rapha Gontijo-Lopes',\n",
       "   'Shixiang Shane Gu',\n",
       "   'Johannes Heidecke',\n",
       "   'Joost Huizinga',\n",
       "   'Teddy Lee',\n",
       "   'Jan Leike',\n",
       "   'Stephanie Lin',\n",
       "   'Ryan Lowe',\n",
       "   'Todor Markov',\n",
       "   'Luke Metz',\n",
       "   'Tong Mu',\n",
       "   'Shibani Santurkar',\n",
       "   'John Schulman',\n",
       "   'Andrea Vallone',\n",
       "   'Carroll Wainwright',\n",
       "   'Jason Wei',\n",
       "   'Lilian Weng',\n",
       "   'Kai Xiao',\n",
       "   'Chong Zhang',\n",
       "   'Marvin Zhang',\n",
       "   'Barret Zoph'],\n",
       "  'Refusals': ['Juan Felipe Cerón Uribe',\n",
       "   'Tyna Eloundou',\n",
       "   'Johannes Heidecke',\n",
       "   'Joost Huizinga',\n",
       "   'Jan Leike',\n",
       "   'Stephanie Lin',\n",
       "   'Ryan Lowe',\n",
       "   'Pamela Mishkin',\n",
       "   'Tong Mu',\n",
       "   'Carroll Wainwright',\n",
       "   'Lilian Weng',\n",
       "   'Kai Xiao',\n",
       "   'Chong Zhang',\n",
       "   'Barret Zoph'],\n",
       "  'Foundational RLHF and InstructGPT work': ['Diogo Almeida',\n",
       "   'Joost Huizinga',\n",
       "   'Roger Jiang',\n",
       "   'Jan Leike',\n",
       "   'Stephanie Lin',\n",
       "   'Ryan Lowe',\n",
       "   'Pamela Mishkin',\n",
       "   'Dan Mossing',\n",
       "   'Long Ouyang',\n",
       "   'Katarina Slama',\n",
       "   'Carroll Wainwright',\n",
       "   'Jeff Wu',\n",
       "   'Kai Xiao',\n",
       "   'Marvin Zhang'],\n",
       "  'Flagship training runs': ['Greg Brockman',\n",
       "   'Liam Fedus',\n",
       "   'Johannes Heidecke',\n",
       "   'Joost Huizinga',\n",
       "   'Roger Jiang',\n",
       "   'Kyle Kosic',\n",
       "   'Luke Metz',\n",
       "   'Ashvin Nair',\n",
       "   'Jiayi Weng',\n",
       "   'Chong Zhang',\n",
       "   'Shengjia Zhao',\n",
       "   'Barret Zoph'],\n",
       "  'Code capability': ['Ilge Akkaya',\n",
       "   'Mo Bavarian',\n",
       "   'Jonathan Gordon',\n",
       "   'Shawn Jain',\n",
       "   'Haozhun Jin',\n",
       "   'Teddy Lee',\n",
       "   'Chak Ming Li',\n",
       "   'Oleg Murk',\n",
       "   'Ashvin Nair',\n",
       "   'Vitchyr Pong',\n",
       "   'Benjamin Sokolowsky',\n",
       "   'Jerry Tworek',\n",
       "   'Matt Wiethoff',\n",
       "   'Sarah Yoo',\n",
       "   'Kevin Yu',\n",
       "   'Wojciech Zaremba',\n",
       "   'William Zhuk']},\n",
       " 'Evaluation & analysis': {'Core contributors': ['Sandhini Agarwal',\n",
       "   'Lama Ahmad',\n",
       "   'Mo Bavarian',\n",
       "   'Tyna Eloundou',\n",
       "   'Andrew Kondrich',\n",
       "   'Gretchen Krueger',\n",
       "   'Michael Lampe',\n",
       "   'Pamela Mishkin',\n",
       "   'Benjamin Sokolowsky',\n",
       "   'Jack Rae',\n",
       "   'Chelsea Voss',\n",
       "   'Alvin Wang',\n",
       "   'Kai Xiao',\n",
       "   'Marvin Zhang'],\n",
       "  'OpenAI Evals library': ['Shixiang Shane Gu',\n",
       "   'Angela Jiang',\n",
       "   'Logan Kilpatrick',\n",
       "   'Andrew Kondrich',\n",
       "   'Pamela Mishkin',\n",
       "   'Jakub Pachocki',\n",
       "   'Ted Sanders',\n",
       "   'Jessica Shieh',\n",
       "   'Alvin Wang',\n",
       "   'Marvin Zhang'],\n",
       "  'Model-graded evaluation infrastructure': ['Liam Fedus',\n",
       "   'Rapha Gontijo-Lopes',\n",
       "   'Shixiang Shane Gu',\n",
       "   'Andrew Kondrich',\n",
       "   'Michael (Rai) Pokorny',\n",
       "   'Wojciech Zaremba',\n",
       "   'Chong Zhang',\n",
       "   'Marvin Zhang',\n",
       "   'Shengjia Zhao',\n",
       "   'Barret Zoph'],\n",
       "  'Acceleration forecasting': ['Alan Hickey',\n",
       "   'Daniel Kokotajlo',\n",
       "   \"Cullen O'Keefe\",\n",
       "   'Sarah Shoker'],\n",
       "  'ChatGPT evaluations': ['Juan Felipe Cerón Uribe',\n",
       "   'Hyung Won Chung',\n",
       "   'Rapha Gontijo-Lopes',\n",
       "   'Liam Fedus',\n",
       "   'Luke Metz',\n",
       "   'Michael Rai Pokorny',\n",
       "   'Jason Wei',\n",
       "   'Shengjia Zhao',\n",
       "   'Barret Zoph'],\n",
       "  'Capability evaluations': ['Sully Chen',\n",
       "   'Tyna Eloundou',\n",
       "   'Shengli Hu',\n",
       "   'Roger Jiang',\n",
       "   'Jamie Kiros',\n",
       "   'Teddy Lee',\n",
       "   'Scott Mayer McKinney',\n",
       "   'Jakub Pachocki',\n",
       "   'Alex Paino',\n",
       "   'Giambattista Parascandolo',\n",
       "   'Boris Power',\n",
       "   'Raul Puri',\n",
       "   'Jack Rae',\n",
       "   'Nick Ryder',\n",
       "   'Ted Sanders',\n",
       "   'Szymon Sidor',\n",
       "   'Benjamin Sokolowsky',\n",
       "   'Chelsea Voss',\n",
       "   'Alvin Wang',\n",
       "   'Rowan Zellers',\n",
       "   'Juntang Zhuang'],\n",
       "  'Coding evaluations': ['Ilge Akkaya',\n",
       "   'Mo Bavarian',\n",
       "   'Jonathan Gordon',\n",
       "   'Shawn Jain',\n",
       "   'Chak Ming Li',\n",
       "   'Oleg Murk',\n",
       "   'Vitchyr Pong',\n",
       "   'Benjamin Sokolowsky',\n",
       "   'Jerry Tworek',\n",
       "   'Kevin Yu',\n",
       "   'Wojciech Zaremba'],\n",
       "  'Real-world use case evaluations': ['Andrew Kondrich',\n",
       "   'Joe Palermo',\n",
       "   'Boris Power',\n",
       "   'Ted Sanders'],\n",
       "  'Contamination investigations': ['Adrien Ecoffet',\n",
       "   'Roger Jiang',\n",
       "   'Ingmar Kanitscheider',\n",
       "   'Scott Mayer McKinney',\n",
       "   'Alex Paino',\n",
       "   'Giambattista Parascandolo',\n",
       "   'Jack Rae',\n",
       "   'Qiming Yuan'],\n",
       "  'Instruction following and API evals': ['Diogo Almeida',\n",
       "   'Carroll Wainwright',\n",
       "   'Marvin Zhang'],\n",
       "  'Novel capability discovery': ['Filipe de Avila Belbute Peres',\n",
       "   'Kevin Button',\n",
       "   'Fotis Chantzis',\n",
       "   'Mike Heaton',\n",
       "   'Wade Hickey',\n",
       "   'Xin Hu',\n",
       "   'Andrew Kondrich',\n",
       "   'Matt Knight',\n",
       "   'Andrew Mayne',\n",
       "   'Jake McNeil',\n",
       "   'Vinnie Monaco',\n",
       "   'Joe Palermo',\n",
       "   'Joel Parish',\n",
       "   'Boris Power',\n",
       "   'Bob Rotsted',\n",
       "   'Ted Sanders'],\n",
       "  'Vision evaluations': ['Shixiang Shane Gu',\n",
       "   'Shengli Hu',\n",
       "   'Jamie Kiros',\n",
       "   'Hyeonwoo Noh',\n",
       "   'Raul Puri',\n",
       "   'Rowan Zellers'],\n",
       "  'Economic impact evaluation': ['Tyna Eloundou',\n",
       "   'Sam Manning',\n",
       "   'Aalok Mehta',\n",
       "   'Pamela Mishkin'],\n",
       "  'Non-proliferation, international humanitarian law & national security red teaming': ['Sarah Shoker'],\n",
       "  'Overreliance analysis': ['Miles Brundage',\n",
       "   'Michael Lampe',\n",
       "   'Pamela Mishkin'],\n",
       "  'Privacy and PII evaluations': ['Michael Lampe',\n",
       "   'Vinnie Monaco',\n",
       "   'Ashley Pantuliano'],\n",
       "  'Safety and policy evaluations': ['Josh Achiam',\n",
       "   'Sandhini Agarwal',\n",
       "   'Lama Ahmad',\n",
       "   'Jeff Belgum',\n",
       "   'Tyna Eloundou',\n",
       "   'Johannes Heidecke',\n",
       "   'Shengli Hu',\n",
       "   'Joost Huizinga',\n",
       "   'Jamie Kiros',\n",
       "   'Gretchen Krueger',\n",
       "   'Michael Lampe',\n",
       "   'Stephanie Lin',\n",
       "   'Ryan Lowe',\n",
       "   'Todor Markov',\n",
       "   'Vinnie Monaco',\n",
       "   'Tong Mu',\n",
       "   'Raul Puri',\n",
       "   'Girish Sastry',\n",
       "   'Andrea Vallone',\n",
       "   'Carroll Wainwright',\n",
       "   'CJ Weinmann',\n",
       "   'Lilian Weng',\n",
       "   'Kai Xiao',\n",
       "   'Chong Zhang'],\n",
       "  'OpenAI adversarial testers': ['Josh Achiam',\n",
       "   'Steven Adler',\n",
       "   'Lama Ahmad',\n",
       "   'Shyamal Anadkat',\n",
       "   'Red Avila',\n",
       "   'Gabriel Bernadett-Shapiro',\n",
       "   'Anna-Luisa Brakman',\n",
       "   'Tim Brooks',\n",
       "   'Miles Brundage',\n",
       "   'Chelsea Carlson',\n",
       "   'Derek Chen',\n",
       "   'Hyung Won Chung',\n",
       "   'Jeremiah Currier',\n",
       "   'Daniel Kokotajlo',\n",
       "   'David Dohan',\n",
       "   'Adrien Ecoffet',\n",
       "   'Vik Goel',\n",
       "   'Ryan Greene',\n",
       "   'Johannes Heidecke',\n",
       "   'Alan Hickey',\n",
       "   'Shengli Hu',\n",
       "   'Joost Huizinga',\n",
       "   'Janko',\n",
       "   'Tomer Kaftan',\n",
       "   'Ali Kamali',\n",
       "   'Nitish Shirish Keskar',\n",
       "   'Tabarak Khan',\n",
       "   'Hendrik Kirchner',\n",
       "   'Daniel Kokotajlo',\n",
       "   'Gretchen Krueger',\n",
       "   'Michael Lampe',\n",
       "   'Teddy Lee',\n",
       "   'Molly Lin',\n",
       "   'Ryan Lowe',\n",
       "   'Todor Markov',\n",
       "   'Jake McNeil',\n",
       "   'Pamela Mishkin',\n",
       "   'Vinnie Monaco',\n",
       "   'Daniel Mossing',\n",
       "   'Tong Mu',\n",
       "   'Oleg Murk',\n",
       "   \"Cullen O'Keefe\",\n",
       "   'Joe Palermo',\n",
       "   'Giambattista Parascandolo',\n",
       "   'Joel Parish',\n",
       "   'Boris Power',\n",
       "   'Alethea Power',\n",
       "   'Cameron Raymond',\n",
       "   'Francis Real',\n",
       "   'Bob Rotsted',\n",
       "   'Mario Salterelli',\n",
       "   'Sam Wolrich',\n",
       "   'Ted Sanders',\n",
       "   'Girish Sastry',\n",
       "   'Sarah Shoker',\n",
       "   'Shyamal Anadkat',\n",
       "   'Yang Song',\n",
       "   'Natalie Staudacher',\n",
       "   'Madeleine Thompson',\n",
       "   'Elizabeth Tseng',\n",
       "   'Chelsea Voss',\n",
       "   'Jason Wei',\n",
       "   'Chong Zhang'],\n",
       "  'System card & broader impacts analysis': ['Steven Adler',\n",
       "   'Sandhini Agarwal',\n",
       "   'Lama Ahmad',\n",
       "   'Janko Altenschmidt',\n",
       "   'Jeff Belgum',\n",
       "   'Gabriel Bernadett-Shapiro',\n",
       "   'Miles Brundage',\n",
       "   'Derek Chen',\n",
       "   'Tyna Eloundou',\n",
       "   'Liam Fedus',\n",
       "   'Leo Gao',\n",
       "   'Vik Goel',\n",
       "   'Johannes Heidecke',\n",
       "   'Alan Hickey',\n",
       "   'Shengli Hu',\n",
       "   'Joost Huizinga',\n",
       "   'Daniel Kokotajlo',\n",
       "   'Gretchen Krueger',\n",
       "   'Michael Lampe',\n",
       "   'Jade Leung',\n",
       "   'Stephanie Lin',\n",
       "   'Ryan Lowe',\n",
       "   'Kim Malfacini',\n",
       "   'Todor Markov',\n",
       "   'Bianca Martin',\n",
       "   'Aalok Mehta',\n",
       "   'Pamela Mishkin',\n",
       "   'Tong Mu',\n",
       "   'Richard Ngo',\n",
       "   \"Cullen O'Keefe\",\n",
       "   'Joel Parish',\n",
       "   'Rai Pokorny',\n",
       "   'Bob Rotsted',\n",
       "   'Girish Sastry',\n",
       "   'Sarah Shoker',\n",
       "   'Andrea Vallone',\n",
       "   'Carroll Wainwright',\n",
       "   'CJ Weinmann',\n",
       "   'Lilian Weng',\n",
       "   'Dave Willner',\n",
       "   'Kai Xiao',\n",
       "   'Chong Zhang']},\n",
       " 'Deployment': {'Core contributors': ['Steven Adler',\n",
       "   'Sandhini Agarwal',\n",
       "   'Derek Chen',\n",
       "   'Atty Eleti',\n",
       "   'Joanne Jang',\n",
       "   'Angela Jiang',\n",
       "   'Tomer Kaftan',\n",
       "   'Rachel Lim',\n",
       "   'Kim Malfacini',\n",
       "   'Bianca Martin',\n",
       "   'Evan Morikawa',\n",
       "   'Henrique Ponde de Oliveira Pinto',\n",
       "   'Heather Schmidt',\n",
       "   'Maddie Simens',\n",
       "   'Felipe Petroski Such',\n",
       "   'Andrea Vallone',\n",
       "   'Lilian Weng',\n",
       "   'Dave Willner',\n",
       "   'Michael Wu'],\n",
       "  'Inference research': ['Paul Baltescu',\n",
       "   'Scott Gray',\n",
       "   'Yuchen He',\n",
       "   'Arvind Neelakantan',\n",
       "   'Michael Wu'],\n",
       "  'GPT-4 API & ChatML deployment': ['Greg Brockman',\n",
       "   'Brooke Chan',\n",
       "   'Chester Cho',\n",
       "   'Atty Eleti',\n",
       "   'Rachel Lim',\n",
       "   'Andrew Peng',\n",
       "   'Michelle Pokrass',\n",
       "   'Sherwin Wu'],\n",
       "  'GPT-4 web experience': ['Valerie Balcom',\n",
       "   'Lenny Bogdonoff',\n",
       "   'Jason Chen',\n",
       "   'Dave Cummings',\n",
       "   'Noah Deutsch',\n",
       "   'Mike Heaton',\n",
       "   'Paul McMillan',\n",
       "   'Rajeev Nayak',\n",
       "   'Joel Parish',\n",
       "   'Adam Perelman',\n",
       "   'Eric Sigler',\n",
       "   'Nick Turley',\n",
       "   'Arun Vijayvergiya',\n",
       "   'Chelsea Voss'],\n",
       "  'Inference infrastructure': ['Brooke Chan',\n",
       "   'Scott Gray',\n",
       "   'Chris Hallacy',\n",
       "   'Kenny Hsu',\n",
       "   'Tomer Kaftan',\n",
       "   'Rachel Lim',\n",
       "   'Henrique Ponde de Oliveira Pinto',\n",
       "   'Raul Puri',\n",
       "   'Heather Schmidt',\n",
       "   'Felipe Petroski Such'],\n",
       "  'Reliability engineering': ['Haiming Bao',\n",
       "   'Madelaine Boyd',\n",
       "   'Ben Chess',\n",
       "   'Damien Deville',\n",
       "   'Yufei Guo',\n",
       "   'Vishal Kuo',\n",
       "   'Ikai Lan',\n",
       "   'Michelle Pokrass',\n",
       "   'Carl Ross',\n",
       "   'David Schnurr',\n",
       "   'Jordan Sitkin',\n",
       "   'Felipe Petroski Such'],\n",
       "  'Trust & safety engineering': ['Jeff Belgum', 'Madelaine Boyd', 'Vik Goel'],\n",
       "  'Trust & safety monitoring and response': ['Janko Altenschmidt',\n",
       "   'Anna-Luisa Brakman',\n",
       "   'Derek Chen',\n",
       "   'Florencia Leoni Aleman',\n",
       "   'Molly Lin',\n",
       "   'Cameron Raymond',\n",
       "   'CJ Weinmann',\n",
       "   'Dave Willner',\n",
       "   'Samuel Wolrich'],\n",
       "  'Trust & safety policy': ['Rosie Campbell',\n",
       "   'Kim Malfacini',\n",
       "   'Andrea Vallone',\n",
       "   'Dave Willner'],\n",
       "  'Deployment compute': ['Peter Hoeschele', 'Evan Morikawa'],\n",
       "  'Product management': ['Jeff Harris', 'Joanne Jang', 'Angela Jiang']},\n",
       " 'Additional contributions': {'General': ['Sam Altman',\n",
       "   'Katie Mayer',\n",
       "   'Bob McGrew',\n",
       "   'Mira Murati',\n",
       "   'Ilya Sutskever',\n",
       "   'Peter Welinder'],\n",
       "  'Blog post & paper content': ['Sandhini Agarwal',\n",
       "   'Greg Brockman',\n",
       "   'Miles Brundage',\n",
       "   'Adrien Ecoffet',\n",
       "   'Tyna Eloundou',\n",
       "   'David Farhi',\n",
       "   'Johannes Heidecke',\n",
       "   'Shengli Hu',\n",
       "   'Joost Huizinga',\n",
       "   'Roger Jiang',\n",
       "   'Gretchen Krueger',\n",
       "   'Jan Leike',\n",
       "   'Daniel Levy',\n",
       "   'Stephanie Lin',\n",
       "   'Ryan Lowe',\n",
       "   'Tong Mu',\n",
       "   'Hyeonwoo Noh',\n",
       "   'Jakub Pachocki',\n",
       "   'Jack Rae',\n",
       "   'Kendra Rimbach',\n",
       "   'Shibani Santurkar',\n",
       "   'Szymon Sidor',\n",
       "   'Benjamin Sokolowsky',\n",
       "   'Jie Tang',\n",
       "   'Chelsea Voss',\n",
       "   'Kai Xiao',\n",
       "   'Rowan Zellers',\n",
       "   'Chong Zhang',\n",
       "   'Marvin Zhang'],\n",
       "  'Communications': ['Ruby Chen',\n",
       "   'Cory Decareaux',\n",
       "   'Thomas Degry',\n",
       "   'Steve Dowling',\n",
       "   'Niko Felix',\n",
       "   'Elie Georges',\n",
       "   'Anna Makanju',\n",
       "   'Andrew Mayne',\n",
       "   'Aalok Mehta',\n",
       "   'Elizabeth Proehl',\n",
       "   'Kendra Rimbach',\n",
       "   'Natalie Summers',\n",
       "   'Justin Jay Wang',\n",
       "   'Hannah Wong'],\n",
       "  'Compute allocation support': ['Theresa Lopez', 'Elizabeth Tseng'],\n",
       "  'Contracting, revenue, pricing, & finance support': ['Brooke Chan',\n",
       "   'Denny Jin',\n",
       "   'Billie Jonn',\n",
       "   'Patricia Lue',\n",
       "   'Kyla Sheppard',\n",
       "   'Lauren Workman'],\n",
       "  'Launch partners & product operations': ['Filipe de Avila Belbute Peres',\n",
       "   'Brittany Carey',\n",
       "   'Simón Posada Fishman',\n",
       "   'Isabella Fulford',\n",
       "   'Teddy Lee',\n",
       "   'Yaniv Markovski',\n",
       "   'Tolly Powell',\n",
       "   'Toki Sherbakov',\n",
       "   'Jessica Shieh',\n",
       "   'Natalie Staudacher',\n",
       "   'Preston Tuggle'],\n",
       "  'Legal': ['Jake Berdine',\n",
       "   'Che Chang',\n",
       "   'Sheila Dunning',\n",
       "   'Ashley Pantuliano'],\n",
       "  'Security & privacy engineering': ['Kevin Button',\n",
       "   'Fotis Chantzis',\n",
       "   'Wade Hickey',\n",
       "   'Xin Hu',\n",
       "   'Shino Jomoto',\n",
       "   'Matt Knight',\n",
       "   'Jake McNeil',\n",
       "   'Vinnie Monaco',\n",
       "   'Joel Parish',\n",
       "   'Bob Rotsted'],\n",
       "  'System administration & on-call support': ['Morgan Grafstein',\n",
       "   'Francis Real',\n",
       "   'Mario Saltarelli'],\n",
       "  'Authorship & credit attribution': ['David Farhi']}}"
      ]
     },
     "execution_count": 45,
     "metadata": {},
     "output_type": "execute_result"
    }
   ],
   "source": [
    "# Load file: data/gpt-4_contributions.json\n",
    "with open('data/gpt-4_contributions.json') as f:\n",
    "    gpt_4_contributions = json.load(f)\n",
    "gpt_4_contributions"
   ]
  },
  {
   "cell_type": "code",
   "execution_count": 46,
   "metadata": {},
   "outputs": [
    {
     "data": {
      "text/plain": [
       "284"
      ]
     },
     "execution_count": 46,
     "metadata": {},
     "output_type": "execute_result"
    }
   ],
   "source": [
    "unique_contributors = set()\n",
    "for category in gpt_4_contributions.values():\n",
    "    for group in category.values():\n",
    "        for contributor in group:\n",
    "            unique_contributors.add(contributor)\n",
    "len(unique_contributors)"
   ]
  },
  {
   "cell_type": "code",
   "execution_count": 47,
   "metadata": {},
   "outputs": [],
   "source": [
    "num_contributors = len(unique_contributors)"
   ]
  },
  {
   "cell_type": "code",
   "execution_count": 48,
   "metadata": {},
   "outputs": [],
   "source": [
    "compensation = lognorm_from_90_ci(salary_low, salary_high, (N, num_contributors))\n",
    "overhead = lognorm_from_90_ci(compensation_overhead_low, compensation_overhead_high, (N, num_contributors))\n",
    "compensation *= overhead\n",
    "if INCLUDE_EQUITY:\n",
    "    equity = lognorm_from_90_ci(equity_low, equity_high, num_contributors)\n",
    "    compensation += equity\n",
    "ftes = lognorm_from_90_ci(0.05, 0.8, (N, num_contributors))\n",
    "compensation *= ftes\n",
    "total_compensation = compensation.sum(axis=1)\n",
    "assert total_compensation.shape == (N,)"
   ]
  },
  {
   "cell_type": "code",
   "execution_count": 49,
   "metadata": {},
   "outputs": [],
   "source": [
    "personnel_cost = total_compensation * project_duration"
   ]
  },
  {
   "cell_type": "code",
   "execution_count": 50,
   "metadata": {},
   "outputs": [
    {
     "name": "stdout",
     "output_type": "stream",
     "text": [
      "Median: 3.6e+07 [95% CI: 2.7e+07, 4.7e+07]\n"
     ]
    }
   ],
   "source": [
    "print_median_and_ci(personnel_cost, ci=[2.5, 97.5])"
   ]
  },
  {
   "cell_type": "markdown",
   "metadata": {},
   "source": [
    "## Overall"
   ]
  },
  {
   "cell_type": "code",
   "execution_count": 51,
   "metadata": {},
   "outputs": [],
   "source": [
    "cost_data['GPT-4'] = {\n",
    "    'AI accelerator chip cost': get_hardware_cost_dist('GPT-4', 'AI accelerator chip cost'),\n",
    "    'Other server components cost': get_hardware_cost_dist('GPT-4', 'Other server components cost'),\n",
    "    'Cluster-level interconnect cost': get_hardware_cost_dist('GPT-4', 'Cluster-level interconnect cost'),\n",
    "    'Energy cost': energy_cost,\n",
    "    rnd_staff_cost_name: personnel_cost,\n",
    "}"
   ]
  },
  {
   "cell_type": "markdown",
   "metadata": {},
   "source": [
    "# Gemini Ultra"
   ]
  },
  {
   "cell_type": "markdown",
   "metadata": {},
   "source": [
    "See https://colab.research.google.com/drive/1XEKlSo-3DCFp686yGOwwfS6_DEHsFimd#scrollTo=yqWMux2iZL8L"
   ]
  },
  {
   "cell_type": "markdown",
   "metadata": {},
   "source": [
    "## Hardware"
   ]
  },
  {
   "cell_type": "code",
   "execution_count": 52,
   "metadata": {},
   "outputs": [],
   "source": [
    "amortized_hardware_cost = lognorm_from_90_ci(5.9e6, 1.1e8, N)\n",
    "server_cost = amortized_hardware_cost / 1.15\n",
    "ai_accelerator_chip_cost = server_cost / 1.64\n",
    "other_server_components_cost = server_cost - ai_accelerator_chip_cost\n",
    "cluster_level_interconnect_cost = amortized_hardware_cost - server_cost"
   ]
  },
  {
   "cell_type": "markdown",
   "metadata": {},
   "source": [
    "## Project duration"
   ]
  },
  {
   "cell_type": "markdown",
   "metadata": {},
   "source": [
    "The project duration for Google Gemini should be at least 7 months. This is based on the fact that on May 10, 2023, at the Google I/O 2023 keynote, Google CEO Sundar Pichai [announced](https://blog.google/technology/ai/google-io-2023-keynote-sundar-pichai/#ai-responsibility:~:text=This%20includes%20our,like%20PaLM%202.) that Google DeepMind is training a new AI model called Gemini. The model was publicy released on Dec 6, 2023 (https://www.metaculus.com/questions/17283/google-deepmind-gemini-release-date/), about 7 months later.\n",
    "\n",
    "An upper bound seems harder to find, but it seems likely that the project did not get well underway until after PaLM was publicly announced in April 2022 (https://arxiv.org/abs/2204.02311), which would bound the project duration at about 20 months.\n",
    "\n",
    "Based on this, we set the 5th percentile estimate for project duration at 7 months, and the 95th percentile estimate at 20 months."
   ]
  },
  {
   "cell_type": "code",
   "execution_count": 53,
   "metadata": {},
   "outputs": [
    {
     "name": "stdout",
     "output_type": "stream",
     "text": [
      "Median: 12 [90% CI: 7, 20]\n"
     ]
    }
   ],
   "source": [
    "# Lognormal distribution parameters for project duration\n",
    "p_5th_project_duration_years = 7 / 12\n",
    "p_95th_project_duration_years = 20 / 12\n",
    "\n",
    "project_duration = lognorm_from_90_ci(p_5th_project_duration_years, p_95th_project_duration_years, N)\n",
    "\n",
    "project_duration_hours = project_duration * HOURS_PER_YEAR\n",
    "\n",
    "print_median_and_ci(project_duration * 12, ci=[5, 95])"
   ]
  },
  {
   "cell_type": "code",
   "execution_count": 54,
   "metadata": {},
   "outputs": [
    {
     "name": "stdout",
     "output_type": "stream",
     "text": [
      "Median: 6.6e+06 [90% CI: 2.7e+06, 1.6e+07]\n",
      "Median: 0.46 [90% CI: 0.16, 1.4]\n"
     ]
    }
   ],
   "source": [
    "# Training time - from Gemini compute notebook\n",
    "percentile_5th = 1*31*24*3600 # 5th percentile in seconds\n",
    "percentile_95th = 6*31*24*3600  # 95th percentile in seconds\n",
    "training_time_seconds = lognorm_from_90_ci(percentile_5th, percentile_95th, N)\n",
    "print_median_and_ci(training_time_seconds)\n",
    "\n",
    "experiments_duration_seconds = training_time_seconds * experiment_factor\n",
    "experiments_duration_hours = experiments_duration_seconds / 3600\n",
    "experiments_duration_years = experiments_duration_hours / (365.25 * 24)\n",
    "print_median_and_ci(experiments_duration_years)"
   ]
  },
  {
   "cell_type": "markdown",
   "metadata": {},
   "source": [
    "## Energy"
   ]
  },
  {
   "cell_type": "code",
   "execution_count": 55,
   "metadata": {},
   "outputs": [
    {
     "name": "stdout",
     "output_type": "stream",
     "text": [
      "Median: 6.3e+04 [90% CI: 5.1e+04, 7.6e+04]\n"
     ]
    }
   ],
   "source": [
    "chips_per_pod = 4096\n",
    "number_of_pods = np.random.uniform(12, 19, N)\n",
    "number_of_chips = number_of_pods * chips_per_pod\n",
    "print_median_and_ci(number_of_chips)"
   ]
  },
  {
   "cell_type": "code",
   "execution_count": 56,
   "metadata": {},
   "outputs": [
    {
     "name": "stdout",
     "output_type": "stream",
     "text": [
      "Median: 5.6e+06 [90% CI: 1.7e+06, 1.9e+07]\n"
     ]
    }
   ],
   "source": [
    "hardware_model = 'Google TPU v4'\n",
    "organization = 'Google'\n",
    "\"\"\"\n",
    "https://cloud.google.com/blog/topics/systems/tpu-v4-enables-performance-energy-and-co2e-efficiency-gains\n",
    "\"Google's Cloud TPU v4 outperforms TPU v3 by 2.1x on average on a per-chip basis and improves performance/Watt by 2.7x.\"\n",
    "TPU v3 performance per Watt: 123 TFLOPS / 450W = 0.273 TFLOPS/W\n",
    "0.273 * 2.7 = 0.738 TFLOPS/W\n",
    "TPU v4 is 275 TFLOPS => 275 / 0.738 = 373W\n",
    "\"\"\"\n",
    "chip_TDP_kw = 373 / 1000\n",
    "# Adjust for whole server power draw (CPUs, memory, cooling)\n",
    "server_TDP_kw = chip_TDP_kw * chip_to_server_power(hardware_model)\n",
    "# Adjust for average power draw\n",
    "server_power_kw = server_TDP_kw * server_TDP_fraction(hardware_model)\n",
    "# Adjust for data center power distribution and cooling\n",
    "adj_server_power_kw = server_power_kw * power_usage_effectiveness(organization)\n",
    "cluster_kwh = adj_server_power_kw * number_of_chips * experiments_duration_hours\n",
    "\n",
    "cost_per_kwh = energy_price(2023) * energy_price_uncertainty_factor\n",
    "energy_cost = cluster_kwh * cost_per_kwh\n",
    "print_median_and_ci(energy_cost)"
   ]
  },
  {
   "cell_type": "markdown",
   "metadata": {},
   "source": [
    "## Personnel"
   ]
  },
  {
   "cell_type": "markdown",
   "metadata": {},
   "source": [
    "Number of FTEs\n",
    "\n",
    "The [technical report](https://storage.googleapis.com/deepmind-media/gemini/gemini_1_report.pdf) lists contributions, decomposed by role.\n",
    "\n",
    "> The roles are defined as below:\n",
    "> \n",
    "> - Lead: Individual(s) responsible for the sub-team throughout the project.\n",
    "> - Core Contributor: Individual that had significant impact throughout the project.\n",
    "> - Contributor: Individual that had contributions to the project and was partially involved with the\n",
    "> effort.\n",
    "> - Program Lead: Responsible for the organizational aspects of the Gemini effort\n",
    "> - Overall Technical Lead: Responsible for the technical direction of the overall Gemini effort\n",
    "> \n",
    "> Within each role, contributions are equal [...]"
   ]
  },
  {
   "cell_type": "markdown",
   "metadata": {},
   "source": [
    "### Raw data (warning: long)"
   ]
  },
  {
   "cell_type": "code",
   "execution_count": 57,
   "metadata": {},
   "outputs": [],
   "source": [
    "leads_raw = \"\"\"\n",
    "Rohan Anil, Co-Lead, Text\n",
    "Sebastian Borgeaud, Co-Lead, Text\n",
    "Yonghui Wu, Co-Lead, Text\n",
    "Jean-Baptiste Alayrac, Co-Lead, MM Vision\n",
    "Jiahui Yu, Co-Lead, MM Vision\n",
    "Radu Soricut, Co-Lead, MM Vision\n",
    "Johan Schalkwyk, Lead, MM Audio\n",
    "Andrew M. Dai, Co-Lead, Data\n",
    "Anja Hauth, Co-Lead, Data\n",
    "Katie Millican, Co-Lead, Data\n",
    "David Silver, Co-Lead, Fine-Tuning\n",
    "Slav Petrov, Co-Lead, Fine-Tuning\n",
    "Melvin Johnson, Lead, Instruction Tuning\n",
    "Ioannis Antonoglou, Co-Lead, RL Techniques\n",
    "Julian Schrittwieser, Co-Lead, RL Techniques\n",
    "Amelia Glaese, Lead, Human Data\n",
    "Jilin Chen, Lead, Safety\n",
    "Emily Pitler, Co-Lead, Tool Use\n",
    "Timothy Lillicrap, Co-Lead, Tool Use\n",
    "Angeliki Lazaridou, Co-Lead, Eval\n",
    "Orhan Firat, Co-Lead, Eval\n",
    "James Molloy, Co-Lead, Infra\n",
    "Michael Isard, Co-Lead, Infra\n",
    "Paul R. Barham, Co-Lead, Infra\n",
    "Tom Hennigan, Co-Lead, Infra\n",
    "Benjamin Lee, Co-Lead, Codebase & Parallelism\n",
    "Fabio Viola, Co-Lead, Codebase & Parallelism\n",
    "Malcolm Reynolds, Co-Lead, Codebase & Parallelism\n",
    "Yuanzhong Xu, Co-Lead, Codebase & Parallelism\n",
    "Ryan Doherty, Lead, Ecosystem\n",
    "Eli Collins, Lead, Product\n",
    "Clemens Meyer, Co-Lead, Operations\n",
    "Eliza Rutherford, Co-Lead, Operations\n",
    "Erica Moreira, Co-Lead, Operations\n",
    "Kareem Ayoub, Co-Lead, Operations\n",
    "Megha Goel, Co-Lead, Operations\n",
    "\"\"\""
   ]
  },
  {
   "cell_type": "code",
   "execution_count": 58,
   "metadata": {},
   "outputs": [],
   "source": [
    "core_contributors_raw = \"\"\"\n",
    "George Tucker\n",
    "Enrique Piqueras\n",
    "Maxim Krikun\n",
    "Iain Barr\n",
    "Nikolay Savinov\n",
    "Ivo Danihelka\n",
    "Becca Roelofs\n",
    "Anaïs White\n",
    "Anders Andreassen\n",
    "Tamara von Glehn\n",
    "Lakshman Yagati\n",
    "Mehran Kazemi\n",
    "Lucas Gonzalez\n",
    "Misha Khalman\n",
    "Jakub Sygnowski\n",
    "Alexandre Frechette\n",
    "Charlotte Smith\n",
    "Laura Culp\n",
    "Lev Proleev\n",
    "Yi Luan\n",
    "Xi Chen\n",
    "James Lottes\n",
    "Nathan Schucher\n",
    "Federico Lebron\n",
    "Alban Rrustemi\n",
    "Natalie Clay\n",
    "Phil Crone\n",
    "Tomas Kocisky\n",
    "Jeffrey Zhao\n",
    "Bartek Perz\n",
    "Dian Yu\n",
    "Heidi Howard\n",
    "Adam Bloniarz\n",
    "Jack W. Rae\n",
    "Han Lu\n",
    "Laurent Sifre\n",
    "Marcello Maggioni\n",
    "Fred Alcober\n",
    "Dan Garrette\n",
    "Megan Barnes\n",
    "Shantanu Thakoor\n",
    "Jacob Austin\n",
    "Gabriel Barth-Maron\n",
    "William Wong\n",
    "Rishabh Joshi\n",
    "Rahma Chaabouni\n",
    "Deeni Fatiha\n",
    "Arun Ahuja\n",
    "Ruibo Liu\n",
    "Yunxuan Li\n",
    "Sarah Cogan\n",
    "Jeremy Chen\n",
    "Chao Jia\n",
    "Chenjie Gu\n",
    "Qiao Zhang\n",
    "Jordan Grimstad\n",
    "Ale Jakse Hartman\n",
    "Martin Chadwick\n",
    "Gaurav Singh Tomar\n",
    "Xavier Garcia\n",
    "Evan Senter\n",
    "Emanuel Taropa\n",
    "Thanumalayan Sankaranarayana Pillai\n",
    "Jacob Devlin\n",
    "Michael Laskin\n",
    "Diego de Las Casas\n",
    "Dasha Valter\n",
    "Connie Tao\n",
    "Lorenzo Blanco\n",
    "Adrià Puigdomènech Badia\n",
    "David Reitter\n",
    "Mianna Chen\n",
    "Jenny Brennan\n",
    "Clara Rivera\n",
    "Sergey Brin\n",
    "Shariq Iqbal\n",
    "Gabriela Surita\n",
    "Jane Labanowski\n",
    "Abhi Rao\n",
    "Stephanie Winkler\n",
    "Emilio Parisotto\n",
    "Yiming Gu\n",
    "Kate Olszewska\n",
    "Yujing Zhang\n",
    "Ravi Addanki\n",
    "Antoine Miech\n",
    "Annie Louis\n",
    "Laurent El Shafey\n",
    "Denis Teplyashin\n",
    "Geoff Brown\n",
    "Elliot Catt\n",
    "Nithya Attaluri\n",
    "Jan Balaguer\n",
    "Jackie Xiang\n",
    "Pidong Wang\n",
    "Zoe Ashwood\n",
    "Anton Briukhov\n",
    "Albert Webson\n",
    "Sanjay Ganapathy\n",
    "Smit Sanghavi\n",
    "Ajay Kannan\n",
    "Ming-Wei Chang\n",
    "Axel Stjerngren\n",
    "Josip Djolonga\n",
    "Yuting Sun\n",
    "Ankur Bapna\n",
    "Matthew Aitchison\n",
    "Pedram Pejman\n",
    "Henryk Michalewski\n",
    "Tianhe Yu\n",
    "Cindy Wang\n",
    "Juliette Love\n",
    "Junwhan Ahn\n",
    "Dawn Bloxwich\n",
    "Kehang Han\n",
    "Peter Humphreys\n",
    "Thibault Sellam\n",
    "James Bradbury\n",
    "Varun Godbole\n",
    "Sina Samangooei\n",
    "Bogdan Damoc\n",
    "Alex Kaskasoli\n",
    "Sébastien M. R. Arnold\n",
    "Vijay Vasudevan\n",
    "Shubham Agrawal\n",
    "Jason Riesa\n",
    "Dmitry Lepikhin\n",
    "Richard Tanburn\n",
    "Srivatsan Srinivasan\n",
    "Hyeontaek Lim\n",
    "Sarah Hodkinson\n",
    "Pranav Shyam\n",
    "Johan Ferret\n",
    "Steven Hand\n",
    "Ankush Garg\n",
    "Tom Le Paine\n",
    "Jian Li\n",
    "Yujia Li\n",
    "Minh Giang\n",
    "Alexander Neitz\n",
    "Zaheer Abbas\n",
    "Sarah York\n",
    "Machel Reid\n",
    "Elizabeth Cole\n",
    "Aakanksha Chowdhery\n",
    "Dipanjan Das\n",
    "Dominika Rogozińska\n",
    "Vitaly Nikolaev\n",
    "Pablo Sprechmann\n",
    "Zachary Nado\n",
    "Lukas Zilka\n",
    "Flavien Prost\n",
    "Luheng He\n",
    "Marianne Monteiro\n",
    "Gaurav Mishra\n",
    "Chris Welty\n",
    "Josh Newlan\n",
    "Dawei Jia\n",
    "Miltiadis Allamanis\n",
    "Clara Huiyi Hu\n",
    "Raoul de Liedekerke\n",
    "Justin Gilmer\n",
    "Carl Saroufim\n",
    "Shruti Rijhwani\n",
    "Shaobo Hou\n",
    "Disha Shrivastava\n",
    "Anirudh Baddepudi\n",
    "Alex Goldin\n",
    "Adnan Ozturel\n",
    "Albin Cassirer\n",
    "Yunhan Xu\n",
    "Daniel Sohn\n",
    "Devendra Sachan\n",
    "Reinald Kim Amplayo\n",
    "Craig Swanson\n",
    "Dessie Petrova\n",
    "Shashi Narayan\n",
    "Arthur Guez\n",
    "Siddhartha Brahma\n",
    "Jessica Landon\n",
    "Miteyan Patel\n",
    "Ruizhe Zhao\n",
    "Kevin Villela\n",
    "Luyu Wang\n",
    "Wenhao Jia\n",
    "Matthew Rahtz\n",
    "Mai Giménez\n",
    "Legg Yeung\n",
    "Hanzhao Lin\n",
    "James Keeling\n",
    "Petko Georgiev\n",
    "Diana Mincu\n",
    "Boxi Wu\n",
    "Salem Haykal\n",
    "Rachel Saputro\n",
    "Kiran Vodrahalli\n",
    "James Qin\n",
    "Zeynep Cankara\n",
    "Abhanshu Sharma\n",
    "Nick Fernando\n",
    "Will Hawkins\n",
    "Behnam Neyshabur\n",
    "Solomon Kim\n",
    "Adrian Hutter\n",
    "Priyanka Agrawal\n",
    "Alex Castro-Ros\n",
    "George van den Driessche\n",
    "Tao Wang\n",
    "Fan Yang\n",
    "Shuo-yiin Chang\n",
    "Paul Komarek\n",
    "Ross McIlroy\n",
    "Mario Lučić\n",
    "Guodong Zhang\n",
    "Wael Farhan\n",
    "Michael Sharman\n",
    "Paul Natsev\n",
    "Paul Michel\n",
    "Yong Cheng\n",
    "Yamini Bansal\n",
    "Siyuan Qiao\n",
    "Kris Cao\n",
    "Siamak Shakeri\n",
    "Christina Butterfield\n",
    "Justin Chung\n",
    "Paul Kishan Rubenstein\n",
    "Shivani Agrawal\n",
    "Arthur Mensch\n",
    "Kedar Soparkar\n",
    "Karel Lenc\n",
    "Timothy Chung\n",
    "Aedan Pope\n",
    "Loren Maggiore\n",
    "Jackie Kay\n",
    "Priya Jhakra\n",
    "Shibo Wang\n",
    "Joshua Maynez\n",
    "Mary Phuong\n",
    "Taylor Tobin\n",
    "Andrea Tacchetti\n",
    "Maja Trebacz\n",
    "Kevin Robinson\n",
    "Yash Katariya\n",
    "Sebastian Riedel\n",
    "Paige Bailey\n",
    "Kefan Xiao\n",
    "Nimesh Ghelani\n",
    "Lora Aroyo\n",
    "Ambrose Slone\n",
    "Neil Houlsby\n",
    "Xuehan Xiong\n",
    "Zhen Yang\n",
    "Elena Gribovskaya\n",
    "Jonas Adler\n",
    "Mateo Wirth\n",
    "Lisa Lee\n",
    "Music Li\n",
    "Thais Kagohara\n",
    "Jay Pavagadhi\n",
    "Sophie Bridgers\n",
    "Anna Bortsova\n",
    "Sanjay Ghemawat\n",
    "Zafarali Ahmed\n",
    "Tianqi Liu\n",
    "Richard Powell\n",
    "Vijay Bolina\n",
    "Mariko Iinuma\n",
    "Polina Zablotskaia\n",
    "James Besley\n",
    "Da-Woon Chung\n",
    "Timothy Dozat\n",
    "Ramona Comanescu\n",
    "Xiance Si\n",
    "Jeremy Greer\n",
    "Guolong Su\n",
    "Martin Polacek\n",
    "Raphaël Lopez Kaufman\n",
    "Simon Tokumine\n",
    "Hexiang Hu\n",
    "Elena Buchatskaya\n",
    "Yingjie Miao\n",
    "Mohamed Elhawaty\n",
    "Aditya Siddhant\n",
    "Nenad Tomasev\n",
    "Jinwei Xing\n",
    "Christina Greer\n",
    "Helen Miller\n",
    "Shereen Ashraf\n",
    "Aurko Roy\n",
    "Zizhao Zhang\n",
    "Ada Ma\n",
    "Angelos Filos\n",
    "Milos Besta\n",
    "Rory Blevins\n",
    "Ted Klimenko\n",
    "Chih-Kuan Yeh\n",
    "Soravit Changpinyo\n",
    "Jiaqi Mu\n",
    "Oscar Chang\n",
    "Mantas Pajarskas\n",
    "Carrie Muir\n",
    "Vered Cohen\n",
    "Charline Le Lan\n",
    "Krishna Haridasan\n",
    "Amit Marathe\n",
    "Steven Hansen\n",
    "Sholto Douglas\n",
    "Rajkumar Samuel\n",
    "Mingqiu Wang\n",
    "Sophia Austin\n",
    "Chang Lan\n",
    "Jiepu Jiang\n",
    "Justin Chiu\n",
    "Jaime Alonso Lorenzo\n",
    "Lars Lowe Sjösund\n",
    "Sébastien Cevey\n",
    "Zach Gleicher\n",
    "Thi Avrahami\n",
    "Anudhyan Boral\n",
    "Hansa Srinivasan\n",
    "Vittorio Selo\n",
    "Rhys May\n",
    "Konstantinos Aisopos\n",
    "Léonard Hussenot\n",
    "Livio Baldini Soares\n",
    "Kate Baumli\n",
    "Michael B. Chang\n",
    "Adrià Recasens\n",
    "Ben Caine\n",
    "Alexander Pritzel\n",
    "Filip Pavetic\n",
    "Fabio Pardo\n",
    "Anita Gergely\n",
    "Justin Frye\n",
    "Vinay Ramasesh\n",
    "Dan Horgan\n",
    "Kartikeya Badola\n",
    "Nora Kassner\n",
    "Subhrajit Roy\n",
    "Ethan Dyer\n",
    "Víctor Campos\n",
    "Alex Tomala\n",
    "Yunhao Tang\n",
    "Dalia El Badawy\n",
    "Elspeth White\n",
    "Basil Mustafa\n",
    "Oran Lang\n",
    "Abhishek Jindal\n",
    "Sharad Vikram\n",
    "Zhitao Gong\n",
    "Sergi Caelles\n",
    "Ross Hemsley\n",
    "Gregory Thornton\n",
    "Fangxiaoyu Feng\n",
    "Wojciech Stokowiec\n",
    "Ce Zheng\n",
    "Phoebe Thacker\n",
    "Çağlar Ünlü\n",
    "Zhishuai Zhang\n",
    "Mohammad Saleh\n",
    "James Svensson\n",
    "Max Bileschi\n",
    "Piyush Patil\n",
    "Ankesh Anand\n",
    "Roman Ring\n",
    "Katerina Tsihlas\n",
    "Arpi Vezer\n",
    "Marco Selvi\n",
    "Toby Shevlane\n",
    "Mikel Rodriguez\n",
    "Tom Kwiatkowski\n",
    "Samira Daruki\n",
    "Keran Rong\n",
    "Allan Dafoe\n",
    "Nicholas FitzGerald\n",
    "Keren Gu-Lemberg\n",
    "Mina Khan\n",
    "Lisa Anne Hendricks\n",
    "Marie Pellat\n",
    "Vladimir Feinberg\n",
    "James Cobon-Kerr\n",
    "Tara Sainath\n",
    "Maribeth Rauh\n",
    "Sayed Hadi Hashemi\n",
    "Richard Ives\n",
    "Yana Hasson\n",
    "YaGuang Li\n",
    "Eric Noland\n",
    "Yuan Cao\n",
    "Nathan Byrd\n",
    "Le Hou\n",
    "Qingze Wang\n",
    "Thibault Sottiaux\n",
    "Michela Paganini\n",
    "Jean-Baptiste Lespiau\n",
    "Alexandre Moufarek\n",
    "Samer Hassan\n",
    "Kaushik Shivakumar\n",
    "Joost van Amersfoort\n",
    "Amol Mandhane\n",
    "Pratik Joshi\n",
    "Anirudh Goyal\n",
    "Matthew Tung\n",
    "Andrew Brock\n",
    "Hannah Sheahan\n",
    "Vedant Misra\n",
    "Cheng Li\n",
    "Nemanja Rakićević\n",
    "Mostafa Dehghani\n",
    "Fangyu Liu\n",
    "Sid Mittal\n",
    "Junhyuk Oh\n",
    "Seb Noury\n",
    "Eren Sezener\n",
    "Fantine Huot\n",
    "Matthew Lamm\n",
    "Nicola De Cao\n",
    "Charlie Chen\n",
    "\"\"\""
   ]
  },
  {
   "cell_type": "code",
   "execution_count": 59,
   "metadata": {},
   "outputs": [],
   "source": [
    "contributors_raw = \"\"\"\n",
    "Gamaleldin Elsayed\n",
    "Ed Chi\n",
    "Mahdis Mahdieh\n",
    "Ian Tenney\n",
    "Nan Hua\n",
    "Ivan Petrychenko\n",
    "Patrick Kane\n",
    "Dylan Scandinaro\n",
    "Rishub Jain\n",
    "Jonathan Uesato\n",
    "Romina Datta\n",
    "Adam Sadovsky\n",
    "Oskar Bunyan\n",
    "Dominik Rabiej\n",
    "Shimu Wu\n",
    "John Zhang\n",
    "Gautam Vasudevan\n",
    "Edouard Leurent\n",
    "Mahmoud Alnahlawi\n",
    "Ionut Georgescu\n",
    "Nan Wei\n",
    "Ivy Zheng\n",
    "Betty Chan\n",
    "Pam G Rabinovitch\n",
    "Piotr Stanczyk\n",
    "Ye Zhang\n",
    "David Steiner\n",
    "Subhajit Naskar\n",
    "Michael Azzam\n",
    "Matthew Johnson\n",
    "Adam Paszke\n",
    "Chung-Cheng Chiu\n",
    "Jaume Sanchez Elias\n",
    "Afroz Mohiuddin\n",
    "Faizan Muhammad\n",
    "Jin Miao\n",
    "Andrew Lee\n",
    "Nino Vieillard\n",
    "Sahitya Potluri\n",
    "Jane Park\n",
    "Elnaz Davoodi\n",
    "Jiageng Zhang\n",
    "Jeff Stanway\n",
    "Drew Garmon\n",
    "Abhijit Karmarkar\n",
    "Zhe Dong\n",
    "Jong Lee\n",
    "Aviral Kumar\n",
    "Luowei Zhou\n",
    "Jonathan Evens\n",
    "William Isaac\n",
    "Zhe Chen\n",
    "Johnson Jia\n",
    "Anselm Levskaya\n",
    "Zhenkai Zhu\n",
    "Chris Gorgolewski\n",
    "Peter Grabowski\n",
    "Yu Mao\n",
    "Alberto Magni\n",
    "Kaisheng Yao\n",
    "Javier Snaider\n",
    "Norman Casagrande\n",
    "Paul Suganthan\n",
    "Evan Palmer\n",
    "Geoffrey Irving\n",
    "Edward Loper\n",
    "Manaal Faruqui\n",
    "Isha Arkatkar\n",
    "Nanxin Chen\n",
    "Izhak Shafran\n",
    "Michael Fink\n",
    "Alfonso Castaño\n",
    "Irene Giannoumis\n",
    "Wooyeol Kim\n",
    "Mikołaj Rybiński\n",
    "Ashwin Sreevatsa\n",
    "Jennifer Prendki\n",
    "David Soergel\n",
    "Adrian Goedeckemeyer\n",
    "Willi Gierke\n",
    "Mohsen Jafari\n",
    "Meenu Gaba\n",
    "Jeremy Wiesner\n",
    "Diana Gage Wright\n",
    "Yawen Wei\n",
    "Harsha Vashisht\n",
    "Yana Kulizhskaya\n",
    "Jay Hoover\n",
    "Maigo Le\n",
    "Lu Li\n",
    "Chimezie Iwuanyanwu\n",
    "Lu Liu\n",
    "Kevin Ramirez\n",
    "Andrey Khorlin\n",
    "Albert Cui\n",
    "Tian LIN\n",
    "Marin Georgiev\n",
    "Marcus Wu\n",
    "Ricardo Aguilar\n",
    "Keith Pallo\n",
    "Abhishek Chakladar\n",
    "Alena Repina\n",
    "Xihui Wu\n",
    "Tom van der Weide\n",
    "Priya Ponnapalli\n",
    "Caroline Kaplan\n",
    "Jiri Simsa\n",
    "Shuangfeng Li\n",
    "Olivier Dousse\n",
    "Fan Yang\n",
    "Jeff Piper\n",
    "Nathan Ie\n",
    "Minnie Lui\n",
    "Rama Pasumarthi\n",
    "Nathan Lintz\n",
    "Anitha Vijayakumar\n",
    "Lam Nguyen Thiet\n",
    "Daniel Andor\n",
    "Pedro Valenzuela\n",
    "Cosmin Paduraru\n",
    "Daiyi Peng\n",
    "Katherine Lee\n",
    "Shuyuan Zhang\n",
    "Somer Greene\n",
    "Duc Dung Nguyen\n",
    "Paula Kurylowicz\n",
    "Sarmishta Velury\n",
    "Sebastian Krause\n",
    "Cassidy Hardin\n",
    "Lucas Dixon\n",
    "Lili Janzer\n",
    "Kiam Choo\n",
    "Ziqiang Feng\n",
    "Biao Zhang\n",
    "Achintya Singhal\n",
    "Tejasi Latkar\n",
    "Mingyang Zhang\n",
    "Quoc Le\n",
    "Elena Allica Abellan\n",
    "Dayou Du\n",
    "Dan McKinnon\n",
    "Natasha Antropova\n",
    "Tolga Bolukbasi\n",
    "Orgad Keller\n",
    "David Reid\n",
    "Daniel Finchelstein\n",
    "Maria Abi Raad\n",
    "Remi Crocker\n",
    "Peter Hawkins\n",
    "Robert Dadashi\n",
    "Colin Gaffney\n",
    "Sid Lall\n",
    "Ken Franko\n",
    "Egor Filonov\n",
    "Anna Bulanova\n",
    "Rémi Leblond\n",
    "Vikas Yadav\n",
    "Shirley Chung\n",
    "Harry Askham\n",
    "Luis C. Cobo\n",
    "Kelvin Xu\n",
    "Felix Fischer\n",
    "Jun Xu\n",
    "Christina Sorokin\n",
    "Chris Alberti\n",
    "Chu-Cheng Lin\n",
    "Colin Evans\n",
    "Hao Zhou\n",
    "Alek Dimitriev\n",
    "Hannah Forbes\n",
    "Dylan Banarse\n",
    "Zora Tung\n",
    "Jeremiah Liu\n",
    "Mark Omernick\n",
    "Colton Bishop\n",
    "Chintu Kumar\n",
    "Rachel Sterneck\n",
    "Ryan Foley\n",
    "Rohan Jain\n",
    "Swaroop Mishra\n",
    "Jiawei Xia\n",
    "Taylor Bos\n",
    "Geoffrey Cideron\n",
    "Ehsan Amid\n",
    "Francesco Piccinno\n",
    "Xingyu Wang\n",
    "Praseem Banzal\n",
    "Petru Gurita\n",
    "Hila Noga\n",
    "Premal Shah\n",
    "Daniel J. Mankowitz\n",
    "Alex Polozov\n",
    "Nate Kushman\n",
    "Victoria Krakovna\n",
    "Sasha Brown\n",
    "MohammadHossein Bateni\n",
    "Dennis Duan\n",
    "Vlad Firoiu\n",
    "Meghana Thotakuri\n",
    "Tom Natan\n",
    "Anhad Mohananey\n",
    "Matthieu Geist\n",
    "Sidharth Mudgal\n",
    "Sertan Girgin\n",
    "Hui Li\n",
    "Jiayu Ye\n",
    "Ofir Roval\n",
    "Reiko Tojo\n",
    "Michael Kwong\n",
    "James Lee-Thorp\n",
    "Christopher Yew\n",
    "Quan Yuan\n",
    "Sumit Bagri\n",
    "Danila Sinopalnikov\n",
    "Sabela Ramos\n",
    "John Mellor\n",
    "Abhishek Sharma\n",
    "Aliaksei Severyn\n",
    "Jonathan Lai\n",
    "Kathy Wu\n",
    "Heng-Tze Cheng\n",
    "David Miller\n",
    "Nicolas Sonnerat\n",
    "Denis Vnukov\n",
    "Rory Greig\n",
    "Jennifer Beattie\n",
    "Emily Caveness\n",
    "Libin Bai\n",
    "Julian Eisenschlos\n",
    "Alex Korchemniy\n",
    "Tomy Tsai\n",
    "Mimi Jasarevic\n",
    "Weize Kong\n",
    "Phuong Dao\n",
    "Zeyu Zheng\n",
    "Frederick Liu\n",
    "Fan Yang\n",
    "Rui Zhu\n",
    "Mark Geller\n",
    "Tian Huey Teh\n",
    "Jason Sanmiya\n",
    "Evgeny Gladchenko\n",
    "Nejc Trdin\n",
    "Andrei Sozanschi\n",
    "Daniel Toyama\n",
    "Evan Rosen\n",
    "Sasan Tavakkol\n",
    "Linting Xue\n",
    "Chen Elkind\n",
    "Oliver Woodman\n",
    "John Carpenter\n",
    "George Papamakarios\n",
    "Rupert Kemp\n",
    "Sushant Kafle\n",
    "Tanya Grunina\n",
    "Rishika Sinha\n",
    "Alice Talbert\n",
    "Abhimanyu Goyal\n",
    "Diane Wu\n",
    "Denese Owusu-Afriyie\n",
    "Cosmo Du\n",
    "Chloe Thornton\n",
    "Jordi Pont-Tuset\n",
    "Pradyumna Narayana\n",
    "Jing Li\n",
    "Saaber Fatehi\n",
    "John Wieting\n",
    "Omar Ajmeri\n",
    "Benigno Uria\n",
    "Tao Zhu\n",
    "Yeongil Ko\n",
    "Laura Knight\n",
    "Amélie Héliou\n",
    "Ning Niu\n",
    "Shane Gu\n",
    "Chenxi Pang\n",
    "Dustin Tran\n",
    "Yeqing Li\n",
    "Nir Levine\n",
    "Ariel Stolovich\n",
    "Norbert Kalb\n",
    "Rebeca Santamaria-Fernandez\n",
    "Sonam Goenka\n",
    "Wenny Yustalim\n",
    "Robin Strudel\n",
    "Ali Elqursh\n",
    "Balaji Lakshminarayanan\n",
    "Charlie Deck\n",
    "Shyam Upadhyay\n",
    "Hyo Lee\n",
    "Mike Dusenberry\n",
    "Zonglin Li\n",
    "Xuezhi Wang\n",
    "Kyle Levin\n",
    "Raphael Hoffmann\n",
    "Dan Holtmann-Rice\n",
    "Olivier Bachem\n",
    "Summer Yue\n",
    "Sho Arora\n",
    "Eric Malmi\n",
    "Daniil Mirylenka\n",
    "Qijun Tan\n",
    "Christy Koh\n",
    "Soheil Hassas Yeganeh\n",
    "Siim Põder\n",
    "Steven Zheng\n",
    "Francesco Pongetti\n",
    "Mukarram Tariq\n",
    "Yanhua Sun\n",
    "Lucian Ionita\n",
    "Mojtaba Seyedhosseini\n",
    "Pouya Tafti\n",
    "Ragha Kotikalapudi\n",
    "Zhiyu Liu\n",
    "Anmol Gulati\n",
    "Jasmine Liu\n",
    "Xinyu Ye\n",
    "Bart Chrzaszcz\n",
    "Lily Wang\n",
    "Nikhil Sethi\n",
    "Tianrun Li\n",
    "Ben Brown\n",
    "Shreya Singh\n",
    "Wei Fan\n",
    "Aaron Parisi\n",
    "Joe Stanton\n",
    "Chenkai Kuang\n",
    "Vinod Koverkathu\n",
    "Christopher A. Choquette-Choo\n",
    "Yunjie Li\n",
    "TJ Lu\n",
    "Abe Ittycheriah\n",
    "Prakash Shroff\n",
    "Pei Sun\n",
    "Mani Varadarajan\n",
    "Sanaz Bahargam\n",
    "Rob Willoughby\n",
    "David Gaddy\n",
    "Ishita Dasgupta\n",
    "Guillaume Desjardins\n",
    "Marco Cornero\n",
    "Brona Robenek\n",
    "Bhavishya Mittal\n",
    "Ben Albrecht\n",
    "Ashish Shenoy\n",
    "Fedor Moiseev\n",
    "Henrik Jacobsson\n",
    "Alireza Ghaffarkhah\n",
    "Morgane Rivière\n",
    "Alanna Walton\n",
    "Clément Crepy\n",
    "Alicia Parrish\n",
    "Yuan Liu\n",
    "Zongwei Zhou\n",
    "Clement Farabet\n",
    "Carey Radebaugh\n",
    "Praveen Srinivasan\n",
    "Claudia van der Salm\n",
    "Andreas Fidjeland\n",
    "Salvatore Scellato\n",
    "Eri Latorre-Chimoto\n",
    "Hanna Klimczak-Plucińska\n",
    "David Bridson\n",
    "Dario de Cesare\n",
    "Tom Hudson\n",
    "Piermaria Mendolicchio\n",
    "Lexi Walker\n",
    "Alex Morris\n",
    "Ivo Penchev\n",
    "Matthew Mauger\n",
    "Alexey Guseynov\n",
    "Alison Reid\n",
    "Seth Odoom\n",
    "Lucia Loher\n",
    "Victor Cotruta\n",
    "Madhavi Yenugula\n",
    "Dominik Grewe\n",
    "Anastasia Petrushkina\n",
    "Tom Duerig\n",
    "Antonio Sanchez\n",
    "Steve Yadlowsky\n",
    "Amy Shen\n",
    "Amir Globerson\n",
    "Adam Kurzrok\n",
    "Lynette Webb\n",
    "Sahil Dua\n",
    "Dong Li\n",
    "Preethi Lahoti\n",
    "Surya Bhupatiraju\n",
    "Dan Hurt\n",
    "Haroon Qureshi\n",
    "Ananth Agarwal\n",
    "Tomer Shani\n",
    "Matan Eyal\n",
    "Anuj Khare\n",
    "Shreyas Rammohan Belle\n",
    "Lei Wang\n",
    "Chetan Tekur\n",
    "Mihir Sanjay Kale\n",
    "Jinliang Wei\n",
    "Ruoxin Sang\n",
    "Brennan Saeta\n",
    "Tyler Liechty\n",
    "Yi Sun\n",
    "Yao Zhao\n",
    "Stephan Lee\n",
    "Pandu Nayak\n",
    "Doug Fritz\n",
    "Manish Reddy Vuyyuru\n",
    "John Aslanides\n",
    "Nidhi Vyas\n",
    "Martin Wicke\n",
    "Xiao Ma\n",
    "Taylan Bilal\n",
    "Evgenii Eltyshev\n",
    "Daniel Balle\n",
    "Nina Martin\n",
    "Hardie Cate\n",
    "James Manyika\n",
    "Keyvan Amiri\n",
    "Yelin Kim\n",
    "Xi Xiong\n",
    "Kai Kang\n",
    "Florian Luisier\n",
    "Nilesh Tripuraneni\n",
    "David Madras\n",
    "Mandy Guo\n",
    "Austin Waters\n",
    "Oliver Wang\n",
    "Joshua Ainslie\n",
    "Jason Baldridge\n",
    "Han Zhang\n",
    "Garima Pruthi\n",
    "Jakob Bauer\n",
    "Feng Yang\n",
    "Riham Mansour\n",
    "Jason Gelman\n",
    "Yang Xu\n",
    "George Polovets\n",
    "Ji Liu\n",
    "Honglong Cai\n",
    "Warren Chen\n",
    "XiangHai Sheng\n",
    "Emily Xue\n",
    "Sherjil Ozair\n",
    "Adams Yu\n",
    "Christof Angermueller\n",
    "Xiaowei Li\n",
    "Weiren Wang\n",
    "Julia Wiesinger\n",
    "Emmanouil Koukoumidis\n",
    "Yuan Tian\n",
    "Anand Iyer\n",
    "Madhu Gurumurthy\n",
    "Mark Goldenson\n",
    "Parashar Shah\n",
    "MK Blake\n",
    "Hongkun Yu\n",
    "Anthony Urbanowicz\n",
    "Jennimaria Palomaki\n",
    "Chrisantha Fernando\n",
    "Kevin Brooks\n",
    "Ken Durden\n",
    "Harsh Mehta\n",
    "Nikola Momchev\n",
    "Elahe Rahimtoroghi\n",
    "Maria Georgaki\n",
    "Amit Raul\n",
    "Sebastian Ruder\n",
    "Morgan Redshaw\n",
    "Jinhyuk Lee\n",
    "Komal Jalan\n",
    "Dinghua Li\n",
    "Ginger Perng\n",
    "Blake Hechtman\n",
    "Parker Schuh\n",
    "Milad Nasr\n",
    "Mia Chen\n",
    "Kieran Milan\n",
    "Vladimir Mikulik\n",
    "Trevor Strohman\n",
    "Juliana Franco\n",
    "Tim Green\n",
    "\"\"\""
   ]
  },
  {
   "cell_type": "code",
   "execution_count": 60,
   "metadata": {},
   "outputs": [],
   "source": [
    "program_leads_raw = \"\"\"\n",
    "Demis Hassabis\n",
    "Koray Kavukcuoglu\n",
    "\"\"\""
   ]
  },
  {
   "cell_type": "code",
   "execution_count": 61,
   "metadata": {},
   "outputs": [],
   "source": [
    "overall_technical_leads_raw = \"\"\"\n",
    "Jeffrey Dean\n",
    "Oriol Vinyals\n",
    "\"\"\""
   ]
  },
  {
   "cell_type": "markdown",
   "metadata": {},
   "source": [
    "### Estimates"
   ]
  },
  {
   "cell_type": "code",
   "execution_count": 62,
   "metadata": {},
   "outputs": [],
   "source": [
    "def raw_contributors_to_list(raw_contributors):\n",
    "  lst = raw_contributors.split('\\n')\n",
    "  lst = lst[1:-1]  # remove empty lines at start and end\n",
    "  return lst"
   ]
  },
  {
   "cell_type": "code",
   "execution_count": 63,
   "metadata": {},
   "outputs": [],
   "source": [
    "contributors_dict = {\n",
    "  'Leads': raw_contributors_to_list(leads_raw),\n",
    "  'Core contributors': raw_contributors_to_list(core_contributors_raw),\n",
    "  'Contributors': raw_contributors_to_list(contributors_raw),\n",
    "  'Program Leads': raw_contributors_to_list(program_leads_raw),\n",
    "  'Overall Technical Leads': raw_contributors_to_list(overall_technical_leads_raw),\n",
    "}"
   ]
  },
  {
   "cell_type": "code",
   "execution_count": 64,
   "metadata": {},
   "outputs": [
    {
     "name": "stdout",
     "output_type": "stream",
     "text": [
      "Leads: 36\n",
      "Core contributors: 418\n",
      "Contributors: 483\n",
      "Program Leads: 2\n",
      "Overall Technical Leads: 2\n",
      "Total: 941\n"
     ]
    }
   ],
   "source": [
    "num_total_contributors = 0\n",
    "for role, contributors in contributors_dict.items():\n",
    "  num_total_contributors += len(contributors)\n",
    "  print(f\"{role}: {len(contributors)}\")\n",
    "print(f\"Total: {num_total_contributors}\")"
   ]
  },
  {
   "cell_type": "markdown",
   "metadata": {},
   "source": [
    "Top engineers / leads could be making \\$3M (may not be credible):\n",
    "\n",
    "http://www.itworld.com/article/2693353/man-or-myth-the-3-million-google-engineer.html\n",
    "\n",
    "“Commenters on the story on BI and Reddit\n",
    "have posited that the \\$3 million Google engineer in question is Jeff Dean, a Senior Fellow in the Knowledge group who, SFGate.com wrote, is \"widely credited by Googlers for the blazing speed of the company's famed search engine.\" It would make a lot of sense that, if any engineer at Google is making \\$3 million - and is a 10x engineer - it would be Jeff Dean, who is clearly exceptional.”\n",
    "\n",
    "Unverified Redditor claims Jeff Dean would make 8 figures: https://www.reddit.com/r/programming/comments/xtjiwd/comment/iqqqy2u/?utm_source=share&utm_medium=web3x&utm_name=web3xcss&utm_term=1&utm_content=share_button"
   ]
  },
  {
   "cell_type": "code",
   "execution_count": 65,
   "metadata": {},
   "outputs": [
    {
     "data": {
      "text/plain": [
       "2613792.4594965545"
      ]
     },
     "execution_count": 65,
     "metadata": {},
     "output_type": "execute_result"
    }
   ],
   "source": [
    "# The default compensation distribution can't model the extreme compensation values well\n",
    "# So we will manually input some numbers\n",
    "np.percentile(compensation_test_distribution, 99.99)"
   ]
  },
  {
   "cell_type": "code",
   "execution_count": 66,
   "metadata": {},
   "outputs": [
    {
     "data": {
      "text/plain": [
       "387428.8876769073"
      ]
     },
     "execution_count": 66,
     "metadata": {},
     "output_type": "execute_result"
    }
   ],
   "source": [
    "np.percentile(salary_test_distribution, 99.99)"
   ]
  },
  {
   "cell_type": "code",
   "execution_count": 67,
   "metadata": {},
   "outputs": [
    {
     "name": "stdout",
     "output_type": "stream",
     "text": [
      "Median: 6.1e+07 [90% CI: 3.5e+07, 1.1e+08]\n"
     ]
    }
   ],
   "source": [
    "# Estimates per role\n",
    "\n",
    "\"\"\"\n",
    "FTEs are rough estimates based on the description of each role.\n",
    "We need to consider not just FTE while they worked on the project,\n",
    "but what time period they worked on the project for.\n",
    "E.g. some people might just be running evaluations and were not involved\n",
    "in the preliminary experiments.\n",
    "Also, most contributors are probably split between multiple projects, especially\n",
    "the most senior leadership.\n",
    "\"\"\"\n",
    "\n",
    "dict_costs_role = {\n",
    "    # Leads averaging about 50% FTE\n",
    "    'Leads': {\n",
    "        'salary_low' : np.percentile(salary_test_distribution, 75),\n",
    "        'salary_high': np.percentile(salary_test_distribution, 99),\n",
    "        'equity_low': np.percentile(equity_test_distribution, 75),\n",
    "        'equity_high': np.percentile(equity_test_distribution, 99),\n",
    "        'FTE_low' : 0.3,  # they had one or more other projects\n",
    "        'FTE_high' : 0.9,  # this was their only assigned project, but admin and other duties took up some time\n",
    "    },\n",
    "    # Core contributors averaging about 25% FTE\n",
    "    'Core contributors': {\n",
    "        'salary_low' : salary_low,\n",
    "        'salary_high': salary_high,\n",
    "        'equity_low': equity_low,\n",
    "        'equity_high': equity_high,\n",
    "        'FTE_low' : 0.01,  # they made an important contribution but only for a few days' work (per year)\n",
    "        'FTE_high' : 0.8,  # this was their main project and they worked on it throughout\n",
    "    },\n",
    "    # We were informed that contributors barely worked on the project\n",
    "    # This plausibly corresponds to somewhere between a few hours and a couple weeks\n",
    "    # i.e. ~0.1% to 5% of a year-long project\n",
    "    'Contributors': {\n",
    "        'salary_low' : salary_low,\n",
    "        'salary_high': salary_high,\n",
    "        'equity_low': equity_low,\n",
    "        'equity_high': equity_high,\n",
    "        'FTE_low' : 0.001,\n",
    "        'FTE_high' : 0.05,\n",
    "    },\n",
    "    # Program and technical leads are very senior and likely split their time between several projects and management duties\n",
    "    'Program Leads': {\n",
    "        'salary_low' : 5e5,\n",
    "        'salary_high': 1e6,\n",
    "        'equity_low': 1e6,\n",
    "        'equity_high': 10e6,\n",
    "        'FTE_low' : 0.05,\n",
    "        'FTE_high' : 0.2\n",
    "    },\n",
    "    'Overall Technical Leads': {\n",
    "        'salary_low' : 5e5,\n",
    "        'salary_high': 1e6,\n",
    "        'equity_low': 1e6,\n",
    "        'equity_high': 10e6,\n",
    "        'FTE_low' : 0.05,\n",
    "        'FTE_high' : 0.2\n",
    "    },\n",
    "}\n",
    "\n",
    "# Compute salaries per role\n",
    "total_personnel_cost = np.zeros(N)\n",
    "for role in contributors_dict:\n",
    "    n_contributors = len(contributors_dict[role])\n",
    "\n",
    "    compensation = lognorm_from_90_ci(dict_costs_role[role]['salary_low'], dict_costs_role[role]['salary_high'], (N, n_contributors))\n",
    "    overhead = lognorm_from_90_ci(compensation_overhead_low, compensation_overhead_high, (N, n_contributors))\n",
    "    compensation *= overhead\n",
    "\n",
    "    if INCLUDE_EQUITY:\n",
    "        equity = lognorm_from_90_ci(dict_costs_role[role]['equity_low'], dict_costs_role[role]['equity_high'], (N, n_contributors))\n",
    "        compensation += equity\n",
    "\n",
    "    ftes = lognorm_from_90_ci(dict_costs_role[role]['FTE_low'], dict_costs_role[role]['FTE_high'], (N, n_contributors))\n",
    "    compensation *= ftes\n",
    "    role_personnel_cost = np.sum(compensation, axis=1)\n",
    "    total_personnel_cost += role_personnel_cost\n",
    "\n",
    "# Adjust for project duration\n",
    "total_personnel_cost *= project_duration\n",
    "personnel_cost = total_personnel_cost\n",
    "print_median_and_ci(personnel_cost)"
   ]
  },
  {
   "cell_type": "markdown",
   "metadata": {},
   "source": [
    "## Overall"
   ]
  },
  {
   "cell_type": "code",
   "execution_count": 68,
   "metadata": {},
   "outputs": [],
   "source": [
    "cost_data['Gemini 1.0 Ultra'] = {\n",
    "    'AI accelerator chip cost': get_hardware_cost_dist('Gemini 1.0 Ultra', 'AI accelerator chip cost'),\n",
    "    'Other server components cost': get_hardware_cost_dist('Gemini 1.0 Ultra', 'Other server components cost'),\n",
    "    'Cluster-level interconnect cost': get_hardware_cost_dist('Gemini 1.0 Ultra', 'Cluster-level interconnect cost'),\n",
    "    # 'AI accelerator chip cost': ai_accelerator_chip_cost,\n",
    "    # 'Other server components cost': other_server_components_cost,\n",
    "    # 'Cluster-level interconnect cost': cluster_level_interconnect_cost,\n",
    "    'Energy cost': energy_cost,\n",
    "    rnd_staff_cost_name: personnel_cost,\n",
    "}"
   ]
  },
  {
   "cell_type": "markdown",
   "metadata": {},
   "source": [
    "# Inflation adjustment"
   ]
  },
  {
   "cell_type": "code",
   "execution_count": 69,
   "metadata": {},
   "outputs": [],
   "source": [
    "def adjust_value_for_inflation(value, path_to_price_index, publication_date, to_year_month):\n",
    "    price_index = pd.read_csv(path_to_price_index)\n",
    "    from_date = str(publication_date)\n",
    "    from_year_month = from_date.rsplit('-', maxsplit=1)[0] + '-01'\n",
    "    from_price_index = price_index[price_index['DATE'] == from_year_month]['PCU518210518210'].values[0]\n",
    "    to_price_index = price_index[price_index['DATE'] == to_year_month]['PCU518210518210'].values[0]\n",
    "    adjust_factor = to_price_index / from_price_index\n",
    "    return value * adjust_factor"
   ]
  },
  {
   "cell_type": "code",
   "execution_count": 70,
   "metadata": {},
   "outputs": [],
   "source": [
    "for model in cost_data:\n",
    "    for cost_component in cost_data[model]:\n",
    "        # Adjust for inflation\n",
    "        publication_date = frontier_pcd_df.loc[frontier_pcd_df['System'] == model, 'Publication date'].values[0]\n",
    "        value = cost_data[model][cost_component]\n",
    "        cost_data[model][cost_component] = adjust_value_for_inflation(value, 'data/PCU518210518210.csv', publication_date, '2023-12-01')"
   ]
  },
  {
   "cell_type": "markdown",
   "metadata": {},
   "source": [
    "# Export data"
   ]
  },
  {
   "cell_type": "code",
   "execution_count": 71,
   "metadata": {},
   "outputs": [],
   "source": [
    "cost_component_names.insert(0, rnd_staff_cost_name)"
   ]
  },
  {
   "cell_type": "code",
   "execution_count": 72,
   "metadata": {},
   "outputs": [
    {
     "data": {
      "text/html": [
       "<div>\n",
       "<style scoped>\n",
       "    .dataframe tbody tr th:only-of-type {\n",
       "        vertical-align: middle;\n",
       "    }\n",
       "\n",
       "    .dataframe tbody tr th {\n",
       "        vertical-align: top;\n",
       "    }\n",
       "\n",
       "    .dataframe thead th {\n",
       "        text-align: right;\n",
       "    }\n",
       "</style>\n",
       "<table border=\"1\" class=\"dataframe\">\n",
       "  <thead>\n",
       "    <tr style=\"text-align: right;\">\n",
       "      <th></th>\n",
       "      <th>System</th>\n",
       "      <th>R&amp;D staff cost (including equity)</th>\n",
       "      <th>R&amp;D staff cost (including equity) (2.5th percentile)</th>\n",
       "      <th>R&amp;D staff cost (including equity) (97.5th percentile)</th>\n",
       "      <th>AI accelerator chip cost</th>\n",
       "      <th>AI accelerator chip cost (2.5th percentile)</th>\n",
       "      <th>AI accelerator chip cost (97.5th percentile)</th>\n",
       "      <th>Other server components cost</th>\n",
       "      <th>Other server components cost (2.5th percentile)</th>\n",
       "      <th>Other server components cost (97.5th percentile)</th>\n",
       "      <th>Cluster-level interconnect cost</th>\n",
       "      <th>Cluster-level interconnect cost (2.5th percentile)</th>\n",
       "      <th>Cluster-level interconnect cost (97.5th percentile)</th>\n",
       "      <th>Energy cost</th>\n",
       "      <th>Energy cost (2.5th percentile)</th>\n",
       "      <th>Energy cost (97.5th percentile)</th>\n",
       "    </tr>\n",
       "  </thead>\n",
       "  <tbody>\n",
       "    <tr>\n",
       "      <th>0</th>\n",
       "      <td>GPT-3 175B (davinci)</td>\n",
       "      <td>2.268185e+06</td>\n",
       "      <td>8.187476e+05</td>\n",
       "      <td>4.465144e+06</td>\n",
       "      <td>2.029576e+06</td>\n",
       "      <td>9.918176e+05</td>\n",
       "      <td>4.122340e+06</td>\n",
       "      <td>1.399620e+06</td>\n",
       "      <td>6.770967e+05</td>\n",
       "      <td>2.851293e+06</td>\n",
       "      <td>8.069507e+05</td>\n",
       "      <td>3.964248e+05</td>\n",
       "      <td>1.652420e+06</td>\n",
       "      <td>1.991047e+05</td>\n",
       "      <td>7.718090e+04</td>\n",
       "      <td>5.286868e+05</td>\n",
       "    </tr>\n",
       "    <tr>\n",
       "      <th>1</th>\n",
       "      <td>OPT-175B</td>\n",
       "      <td>1.082237e+06</td>\n",
       "      <td>6.973195e+05</td>\n",
       "      <td>1.758243e+06</td>\n",
       "      <td>7.267367e+05</td>\n",
       "      <td>3.597334e+05</td>\n",
       "      <td>1.491656e+06</td>\n",
       "      <td>4.821648e+05</td>\n",
       "      <td>2.371118e+05</td>\n",
       "      <td>9.917256e+05</td>\n",
       "      <td>2.825986e+05</td>\n",
       "      <td>1.388908e+05</td>\n",
       "      <td>5.758351e+05</td>\n",
       "      <td>4.401827e+04</td>\n",
       "      <td>1.706323e+04</td>\n",
       "      <td>1.168826e+05</td>\n",
       "    </tr>\n",
       "    <tr>\n",
       "      <th>2</th>\n",
       "      <td>GPT-4</td>\n",
       "      <td>3.644622e+07</td>\n",
       "      <td>2.687045e+07</td>\n",
       "      <td>4.799744e+07</td>\n",
       "      <td>3.966709e+07</td>\n",
       "      <td>1.923215e+07</td>\n",
       "      <td>8.176490e+07</td>\n",
       "      <td>2.596678e+07</td>\n",
       "      <td>1.287298e+07</td>\n",
       "      <td>5.384704e+07</td>\n",
       "      <td>1.526723e+07</td>\n",
       "      <td>7.533327e+06</td>\n",
       "      <td>3.115276e+07</td>\n",
       "      <td>7.849243e+06</td>\n",
       "      <td>3.055104e+06</td>\n",
       "      <td>1.975106e+07</td>\n",
       "    </tr>\n",
       "    <tr>\n",
       "      <th>3</th>\n",
       "      <td>Gemini 1.0 Ultra</td>\n",
       "      <td>6.098103e+07</td>\n",
       "      <td>3.203670e+07</td>\n",
       "      <td>1.174742e+08</td>\n",
       "      <td>2.912545e+07</td>\n",
       "      <td>1.431022e+07</td>\n",
       "      <td>5.874727e+07</td>\n",
       "      <td>1.857418e+07</td>\n",
       "      <td>9.140566e+06</td>\n",
       "      <td>3.760470e+07</td>\n",
       "      <td>1.113009e+07</td>\n",
       "      <td>5.484444e+06</td>\n",
       "      <td>2.277011e+07</td>\n",
       "      <td>5.593612e+06</td>\n",
       "      <td>1.295546e+06</td>\n",
       "      <td>2.390761e+07</td>\n",
       "    </tr>\n",
       "  </tbody>\n",
       "</table>\n",
       "</div>"
      ],
      "text/plain": [
       "                 System  R&D staff cost (including equity)  \\\n",
       "0  GPT-3 175B (davinci)                       2.268185e+06   \n",
       "1              OPT-175B                       1.082237e+06   \n",
       "2                 GPT-4                       3.644622e+07   \n",
       "3      Gemini 1.0 Ultra                       6.098103e+07   \n",
       "\n",
       "   R&D staff cost (including equity) (2.5th percentile)  \\\n",
       "0                                       8.187476e+05      \n",
       "1                                       6.973195e+05      \n",
       "2                                       2.687045e+07      \n",
       "3                                       3.203670e+07      \n",
       "\n",
       "   R&D staff cost (including equity) (97.5th percentile)  \\\n",
       "0                                       4.465144e+06       \n",
       "1                                       1.758243e+06       \n",
       "2                                       4.799744e+07       \n",
       "3                                       1.174742e+08       \n",
       "\n",
       "   AI accelerator chip cost  AI accelerator chip cost (2.5th percentile)  \\\n",
       "0              2.029576e+06                                 9.918176e+05   \n",
       "1              7.267367e+05                                 3.597334e+05   \n",
       "2              3.966709e+07                                 1.923215e+07   \n",
       "3              2.912545e+07                                 1.431022e+07   \n",
       "\n",
       "   AI accelerator chip cost (97.5th percentile)  Other server components cost  \\\n",
       "0                                  4.122340e+06                  1.399620e+06   \n",
       "1                                  1.491656e+06                  4.821648e+05   \n",
       "2                                  8.176490e+07                  2.596678e+07   \n",
       "3                                  5.874727e+07                  1.857418e+07   \n",
       "\n",
       "   Other server components cost (2.5th percentile)  \\\n",
       "0                                     6.770967e+05   \n",
       "1                                     2.371118e+05   \n",
       "2                                     1.287298e+07   \n",
       "3                                     9.140566e+06   \n",
       "\n",
       "   Other server components cost (97.5th percentile)  \\\n",
       "0                                      2.851293e+06   \n",
       "1                                      9.917256e+05   \n",
       "2                                      5.384704e+07   \n",
       "3                                      3.760470e+07   \n",
       "\n",
       "   Cluster-level interconnect cost  \\\n",
       "0                     8.069507e+05   \n",
       "1                     2.825986e+05   \n",
       "2                     1.526723e+07   \n",
       "3                     1.113009e+07   \n",
       "\n",
       "   Cluster-level interconnect cost (2.5th percentile)  \\\n",
       "0                                       3.964248e+05    \n",
       "1                                       1.388908e+05    \n",
       "2                                       7.533327e+06    \n",
       "3                                       5.484444e+06    \n",
       "\n",
       "   Cluster-level interconnect cost (97.5th percentile)   Energy cost  \\\n",
       "0                                       1.652420e+06    1.991047e+05   \n",
       "1                                       5.758351e+05    4.401827e+04   \n",
       "2                                       3.115276e+07    7.849243e+06   \n",
       "3                                       2.277011e+07    5.593612e+06   \n",
       "\n",
       "   Energy cost (2.5th percentile)  Energy cost (97.5th percentile)  \n",
       "0                    7.718090e+04                     5.286868e+05  \n",
       "1                    1.706323e+04                     1.168826e+05  \n",
       "2                    3.055104e+06                     1.975106e+07  \n",
       "3                    1.295546e+06                     2.390761e+07  "
      ]
     },
     "execution_count": 72,
     "metadata": {},
     "output_type": "execute_result"
    }
   ],
   "source": [
    "rows = []\n",
    "for model in models:\n",
    "    component_costs = {'System': model}\n",
    "    for component in cost_component_names:\n",
    "        y = np.median(cost_data[model][component])\n",
    "        y_low = np.percentile(cost_data[model][component], 2.5)\n",
    "        y_high = np.percentile(cost_data[model][component], 97.5)\n",
    "        component_costs.update({\n",
    "            component: y,\n",
    "            component + ' (2.5th percentile)': y_low,\n",
    "            component + ' (97.5th percentile)': y_high\n",
    "        })\n",
    "    rows.append(component_costs)\n",
    "dev_cost_df = pd.DataFrame(rows)\n",
    "dev_cost_df"
   ]
  },
  {
   "cell_type": "code",
   "execution_count": 73,
   "metadata": {},
   "outputs": [],
   "source": [
    "dev_cost_df.to_csv(results_dir + 'cost_dataset.csv', index=False)"
   ]
  },
  {
   "cell_type": "markdown",
   "metadata": {},
   "source": [
    "# Plots"
   ]
  },
  {
   "cell_type": "code",
   "execution_count": 74,
   "metadata": {},
   "outputs": [
    {
     "name": "stdout",
     "output_type": "stream",
     "text": [
      "R&D staff cost (including equity)\n",
      "[2268185.185921816, 1082236.9496533328, 36446218.62141168, 60981025.30973367] [818747.5746855541, 697319.5489399569, 26870453.44706252, 32036698.167836484] [4465144.193242091, 1758243.1083562379, 47997438.58571698, 117474170.79042698]\n",
      "AI accelerator chip cost\n",
      "[2029576.063255539, 726736.717917454, 39667093.52513442, 29125447.554601163] [991817.6053587392, 359733.39559230517, 19232145.705633413, 14310221.065739248] [4122339.5458550337, 1491656.1806901912, 81764900.34150887, 58747274.09572959]\n",
      "Other server components cost\n",
      "[1399619.980221441, 482164.82185827097, 25966779.91605348, 18574179.413552314] [677096.6750432908, 237111.7520942405, 12872982.901050087, 9140565.935649382] [2851293.3593494873, 991725.6024720359, 53847043.5491156, 37604698.52567336]\n",
      "Cluster-level interconnect cost\n",
      "[806950.740662951, 282598.55773356766, 15267225.87836605, 11130089.704741422] [396424.793676565, 138890.77181183794, 7533326.64153027, 5484444.459002921] [1652419.7012906051, 575835.0513308528, 31152756.12695616, 22770114.978902202]\n",
      "Energy cost\n",
      "[199104.689825205, 44018.26591894071, 7849243.467635538, 5593611.841348579] [77180.90252645884, 17063.23188196158, 3055104.0312126363, 1295546.176948343] [528686.7850711455, 116882.60840828027, 19751060.314341772, 23907608.36293388]\n"
     ]
    },
    {
     "data": {
      "application/vnd.plotly.v1+json": {
       "config": {
        "plotlyServerURL": "https://plot.ly"
       },
       "data": [
        {
         "error_y": {
          "array": [
           2196959.0073202746,
           676006.158702905,
           11551219.964305297,
           56493145.48069332
          ],
          "arrayminus": [
           1449437.6112362621,
           384917.4007133759,
           9575765.174349163,
           28944327.141897183
          ],
          "symmetric": false,
          "type": "data",
          "visible": true
         },
         "name": "R&D staff cost (including equity)",
         "type": "bar",
         "x": [
          "GPT-3 175B (davinci)",
          "OPT-175B",
          "GPT-4",
          "Gemini 1.0 Ultra"
         ],
         "y": [
          2268185.185921816,
          1082236.9496533328,
          36446218.62141168,
          60981025.30973367
         ]
        },
        {
         "error_y": {
          "array": [
           2092763.4825994947,
           764919.4627727373,
           42097806.81637444,
           29621826.541128427
          ],
          "arrayminus": [
           1037758.4578967998,
           367003.3223251488,
           20434947.81950101,
           14815226.488861915
          ],
          "symmetric": false,
          "type": "data",
          "visible": true
         },
         "name": "AI accelerator chip cost",
         "type": "bar",
         "x": [
          "GPT-3 175B (davinci)",
          "OPT-175B",
          "GPT-4",
          "Gemini 1.0 Ultra"
         ],
         "y": [
          2029576.063255539,
          726736.717917454,
          39667093.52513442,
          29125447.554601163
         ]
        },
        {
         "error_y": {
          "array": [
           1451673.3791280463,
           509560.78061376495,
           27880263.633062117,
           19030519.112121046
          ],
          "arrayminus": [
           722523.3051781502,
           245053.06976403046,
           13093797.015003394,
           9433613.477902932
          ],
          "symmetric": false,
          "type": "data",
          "visible": true
         },
         "name": "Other server components cost",
         "type": "bar",
         "x": [
          "GPT-3 175B (davinci)",
          "OPT-175B",
          "GPT-4",
          "Gemini 1.0 Ultra"
         ],
         "y": [
          1399619.980221441,
          482164.82185827097,
          25966779.91605348,
          18574179.413552314
         ]
        },
        {
         "error_y": {
          "array": [
           845468.9606276541,
           293236.4935972851,
           15885530.248590112,
           11640025.27416078
          ],
          "arrayminus": [
           410525.946986386,
           143707.78592172972,
           7733899.23683578,
           5645645.245738501
          ],
          "symmetric": false,
          "type": "data",
          "visible": true
         },
         "name": "Cluster-level interconnect cost",
         "type": "bar",
         "x": [
          "GPT-3 175B (davinci)",
          "OPT-175B",
          "GPT-4",
          "Gemini 1.0 Ultra"
         ],
         "y": [
          806950.740662951,
          282598.55773356766,
          15267225.87836605,
          11130089.704741422
         ]
        },
        {
         "error_y": {
          "array": [
           329582.0952459405,
           72864.34248933956,
           11901816.846706234,
           18313996.5215853
          ],
          "arrayminus": [
           121923.78729874615,
           26955.034036979134,
           4794139.436422902,
           4298065.664400237
          ],
          "symmetric": false,
          "type": "data",
          "visible": true
         },
         "name": "Energy cost",
         "type": "bar",
         "x": [
          "GPT-3 175B (davinci)",
          "OPT-175B",
          "GPT-4",
          "Gemini 1.0 Ultra"
         ],
         "y": [
          199104.689825205,
          44018.26591894071,
          7849243.467635538,
          5593611.841348579
         ]
        }
       ],
       "layout": {
        "barmode": "group",
        "height": 600,
        "template": {
         "data": {
          "bar": [
           {
            "error_x": {
             "color": "#2a3f5f"
            },
            "error_y": {
             "color": "#2a3f5f"
            },
            "marker": {
             "line": {
              "color": "#E5ECF6",
              "width": 0.5
             },
             "pattern": {
              "fillmode": "overlay",
              "size": 10,
              "solidity": 0.2
             }
            },
            "type": "bar"
           }
          ],
          "barpolar": [
           {
            "marker": {
             "line": {
              "color": "#E5ECF6",
              "width": 0.5
             },
             "pattern": {
              "fillmode": "overlay",
              "size": 10,
              "solidity": 0.2
             }
            },
            "type": "barpolar"
           }
          ],
          "carpet": [
           {
            "aaxis": {
             "endlinecolor": "#2a3f5f",
             "gridcolor": "white",
             "linecolor": "white",
             "minorgridcolor": "white",
             "startlinecolor": "#2a3f5f"
            },
            "baxis": {
             "endlinecolor": "#2a3f5f",
             "gridcolor": "white",
             "linecolor": "white",
             "minorgridcolor": "white",
             "startlinecolor": "#2a3f5f"
            },
            "type": "carpet"
           }
          ],
          "choropleth": [
           {
            "colorbar": {
             "outlinewidth": 0,
             "ticks": ""
            },
            "type": "choropleth"
           }
          ],
          "contour": [
           {
            "colorbar": {
             "outlinewidth": 0,
             "ticks": ""
            },
            "colorscale": [
             [
              0,
              "#0d0887"
             ],
             [
              0.1111111111111111,
              "#46039f"
             ],
             [
              0.2222222222222222,
              "#7201a8"
             ],
             [
              0.3333333333333333,
              "#9c179e"
             ],
             [
              0.4444444444444444,
              "#bd3786"
             ],
             [
              0.5555555555555556,
              "#d8576b"
             ],
             [
              0.6666666666666666,
              "#ed7953"
             ],
             [
              0.7777777777777778,
              "#fb9f3a"
             ],
             [
              0.8888888888888888,
              "#fdca26"
             ],
             [
              1,
              "#f0f921"
             ]
            ],
            "type": "contour"
           }
          ],
          "contourcarpet": [
           {
            "colorbar": {
             "outlinewidth": 0,
             "ticks": ""
            },
            "type": "contourcarpet"
           }
          ],
          "heatmap": [
           {
            "colorbar": {
             "outlinewidth": 0,
             "ticks": ""
            },
            "colorscale": [
             [
              0,
              "#0d0887"
             ],
             [
              0.1111111111111111,
              "#46039f"
             ],
             [
              0.2222222222222222,
              "#7201a8"
             ],
             [
              0.3333333333333333,
              "#9c179e"
             ],
             [
              0.4444444444444444,
              "#bd3786"
             ],
             [
              0.5555555555555556,
              "#d8576b"
             ],
             [
              0.6666666666666666,
              "#ed7953"
             ],
             [
              0.7777777777777778,
              "#fb9f3a"
             ],
             [
              0.8888888888888888,
              "#fdca26"
             ],
             [
              1,
              "#f0f921"
             ]
            ],
            "type": "heatmap"
           }
          ],
          "heatmapgl": [
           {
            "colorbar": {
             "outlinewidth": 0,
             "ticks": ""
            },
            "colorscale": [
             [
              0,
              "#0d0887"
             ],
             [
              0.1111111111111111,
              "#46039f"
             ],
             [
              0.2222222222222222,
              "#7201a8"
             ],
             [
              0.3333333333333333,
              "#9c179e"
             ],
             [
              0.4444444444444444,
              "#bd3786"
             ],
             [
              0.5555555555555556,
              "#d8576b"
             ],
             [
              0.6666666666666666,
              "#ed7953"
             ],
             [
              0.7777777777777778,
              "#fb9f3a"
             ],
             [
              0.8888888888888888,
              "#fdca26"
             ],
             [
              1,
              "#f0f921"
             ]
            ],
            "type": "heatmapgl"
           }
          ],
          "histogram": [
           {
            "marker": {
             "pattern": {
              "fillmode": "overlay",
              "size": 10,
              "solidity": 0.2
             }
            },
            "type": "histogram"
           }
          ],
          "histogram2d": [
           {
            "colorbar": {
             "outlinewidth": 0,
             "ticks": ""
            },
            "colorscale": [
             [
              0,
              "#0d0887"
             ],
             [
              0.1111111111111111,
              "#46039f"
             ],
             [
              0.2222222222222222,
              "#7201a8"
             ],
             [
              0.3333333333333333,
              "#9c179e"
             ],
             [
              0.4444444444444444,
              "#bd3786"
             ],
             [
              0.5555555555555556,
              "#d8576b"
             ],
             [
              0.6666666666666666,
              "#ed7953"
             ],
             [
              0.7777777777777778,
              "#fb9f3a"
             ],
             [
              0.8888888888888888,
              "#fdca26"
             ],
             [
              1,
              "#f0f921"
             ]
            ],
            "type": "histogram2d"
           }
          ],
          "histogram2dcontour": [
           {
            "colorbar": {
             "outlinewidth": 0,
             "ticks": ""
            },
            "colorscale": [
             [
              0,
              "#0d0887"
             ],
             [
              0.1111111111111111,
              "#46039f"
             ],
             [
              0.2222222222222222,
              "#7201a8"
             ],
             [
              0.3333333333333333,
              "#9c179e"
             ],
             [
              0.4444444444444444,
              "#bd3786"
             ],
             [
              0.5555555555555556,
              "#d8576b"
             ],
             [
              0.6666666666666666,
              "#ed7953"
             ],
             [
              0.7777777777777778,
              "#fb9f3a"
             ],
             [
              0.8888888888888888,
              "#fdca26"
             ],
             [
              1,
              "#f0f921"
             ]
            ],
            "type": "histogram2dcontour"
           }
          ],
          "mesh3d": [
           {
            "colorbar": {
             "outlinewidth": 0,
             "ticks": ""
            },
            "type": "mesh3d"
           }
          ],
          "parcoords": [
           {
            "line": {
             "colorbar": {
              "outlinewidth": 0,
              "ticks": ""
             }
            },
            "type": "parcoords"
           }
          ],
          "pie": [
           {
            "automargin": true,
            "type": "pie"
           }
          ],
          "scatter": [
           {
            "fillpattern": {
             "fillmode": "overlay",
             "size": 10,
             "solidity": 0.2
            },
            "type": "scatter"
           }
          ],
          "scatter3d": [
           {
            "line": {
             "colorbar": {
              "outlinewidth": 0,
              "ticks": ""
             }
            },
            "marker": {
             "colorbar": {
              "outlinewidth": 0,
              "ticks": ""
             }
            },
            "type": "scatter3d"
           }
          ],
          "scattercarpet": [
           {
            "marker": {
             "colorbar": {
              "outlinewidth": 0,
              "ticks": ""
             }
            },
            "type": "scattercarpet"
           }
          ],
          "scattergeo": [
           {
            "marker": {
             "colorbar": {
              "outlinewidth": 0,
              "ticks": ""
             }
            },
            "type": "scattergeo"
           }
          ],
          "scattergl": [
           {
            "marker": {
             "colorbar": {
              "outlinewidth": 0,
              "ticks": ""
             }
            },
            "type": "scattergl"
           }
          ],
          "scattermapbox": [
           {
            "marker": {
             "colorbar": {
              "outlinewidth": 0,
              "ticks": ""
             }
            },
            "type": "scattermapbox"
           }
          ],
          "scatterpolar": [
           {
            "marker": {
             "colorbar": {
              "outlinewidth": 0,
              "ticks": ""
             }
            },
            "type": "scatterpolar"
           }
          ],
          "scatterpolargl": [
           {
            "marker": {
             "colorbar": {
              "outlinewidth": 0,
              "ticks": ""
             }
            },
            "type": "scatterpolargl"
           }
          ],
          "scatterternary": [
           {
            "marker": {
             "colorbar": {
              "outlinewidth": 0,
              "ticks": ""
             }
            },
            "type": "scatterternary"
           }
          ],
          "surface": [
           {
            "colorbar": {
             "outlinewidth": 0,
             "ticks": ""
            },
            "colorscale": [
             [
              0,
              "#0d0887"
             ],
             [
              0.1111111111111111,
              "#46039f"
             ],
             [
              0.2222222222222222,
              "#7201a8"
             ],
             [
              0.3333333333333333,
              "#9c179e"
             ],
             [
              0.4444444444444444,
              "#bd3786"
             ],
             [
              0.5555555555555556,
              "#d8576b"
             ],
             [
              0.6666666666666666,
              "#ed7953"
             ],
             [
              0.7777777777777778,
              "#fb9f3a"
             ],
             [
              0.8888888888888888,
              "#fdca26"
             ],
             [
              1,
              "#f0f921"
             ]
            ],
            "type": "surface"
           }
          ],
          "table": [
           {
            "cells": {
             "fill": {
              "color": "#EBF0F8"
             },
             "line": {
              "color": "white"
             }
            },
            "header": {
             "fill": {
              "color": "#C8D4E3"
             },
             "line": {
              "color": "white"
             }
            },
            "type": "table"
           }
          ]
         },
         "layout": {
          "annotationdefaults": {
           "arrowcolor": "#2a3f5f",
           "arrowhead": 0,
           "arrowwidth": 1
          },
          "autotypenumbers": "strict",
          "coloraxis": {
           "colorbar": {
            "outlinewidth": 0,
            "ticks": ""
           }
          },
          "colorscale": {
           "diverging": [
            [
             0,
             "#8e0152"
            ],
            [
             0.1,
             "#c51b7d"
            ],
            [
             0.2,
             "#de77ae"
            ],
            [
             0.3,
             "#f1b6da"
            ],
            [
             0.4,
             "#fde0ef"
            ],
            [
             0.5,
             "#f7f7f7"
            ],
            [
             0.6,
             "#e6f5d0"
            ],
            [
             0.7,
             "#b8e186"
            ],
            [
             0.8,
             "#7fbc41"
            ],
            [
             0.9,
             "#4d9221"
            ],
            [
             1,
             "#276419"
            ]
           ],
           "sequential": [
            [
             0,
             "#0d0887"
            ],
            [
             0.1111111111111111,
             "#46039f"
            ],
            [
             0.2222222222222222,
             "#7201a8"
            ],
            [
             0.3333333333333333,
             "#9c179e"
            ],
            [
             0.4444444444444444,
             "#bd3786"
            ],
            [
             0.5555555555555556,
             "#d8576b"
            ],
            [
             0.6666666666666666,
             "#ed7953"
            ],
            [
             0.7777777777777778,
             "#fb9f3a"
            ],
            [
             0.8888888888888888,
             "#fdca26"
            ],
            [
             1,
             "#f0f921"
            ]
           ],
           "sequentialminus": [
            [
             0,
             "#0d0887"
            ],
            [
             0.1111111111111111,
             "#46039f"
            ],
            [
             0.2222222222222222,
             "#7201a8"
            ],
            [
             0.3333333333333333,
             "#9c179e"
            ],
            [
             0.4444444444444444,
             "#bd3786"
            ],
            [
             0.5555555555555556,
             "#d8576b"
            ],
            [
             0.6666666666666666,
             "#ed7953"
            ],
            [
             0.7777777777777778,
             "#fb9f3a"
            ],
            [
             0.8888888888888888,
             "#fdca26"
            ],
            [
             1,
             "#f0f921"
            ]
           ]
          },
          "colorway": [
           "#636efa",
           "#EF553B",
           "#00cc96",
           "#ab63fa",
           "#FFA15A",
           "#19d3f3",
           "#FF6692",
           "#B6E880",
           "#FF97FF",
           "#FECB52"
          ],
          "font": {
           "color": "#2a3f5f"
          },
          "geo": {
           "bgcolor": "white",
           "lakecolor": "white",
           "landcolor": "#E5ECF6",
           "showlakes": true,
           "showland": true,
           "subunitcolor": "white"
          },
          "hoverlabel": {
           "align": "left"
          },
          "hovermode": "closest",
          "mapbox": {
           "style": "light"
          },
          "paper_bgcolor": "white",
          "plot_bgcolor": "#E5ECF6",
          "polar": {
           "angularaxis": {
            "gridcolor": "white",
            "linecolor": "white",
            "ticks": ""
           },
           "bgcolor": "#E5ECF6",
           "radialaxis": {
            "gridcolor": "white",
            "linecolor": "white",
            "ticks": ""
           }
          },
          "scene": {
           "xaxis": {
            "backgroundcolor": "#E5ECF6",
            "gridcolor": "white",
            "gridwidth": 2,
            "linecolor": "white",
            "showbackground": true,
            "ticks": "",
            "zerolinecolor": "white"
           },
           "yaxis": {
            "backgroundcolor": "#E5ECF6",
            "gridcolor": "white",
            "gridwidth": 2,
            "linecolor": "white",
            "showbackground": true,
            "ticks": "",
            "zerolinecolor": "white"
           },
           "zaxis": {
            "backgroundcolor": "#E5ECF6",
            "gridcolor": "white",
            "gridwidth": 2,
            "linecolor": "white",
            "showbackground": true,
            "ticks": "",
            "zerolinecolor": "white"
           }
          },
          "shapedefaults": {
           "line": {
            "color": "#2a3f5f"
           }
          },
          "ternary": {
           "aaxis": {
            "gridcolor": "white",
            "linecolor": "white",
            "ticks": ""
           },
           "baxis": {
            "gridcolor": "white",
            "linecolor": "white",
            "ticks": ""
           },
           "bgcolor": "#E5ECF6",
           "caxis": {
            "gridcolor": "white",
            "linecolor": "white",
            "ticks": ""
           }
          },
          "title": {
           "x": 0.05
          },
          "xaxis": {
           "automargin": true,
           "gridcolor": "white",
           "linecolor": "white",
           "ticks": "",
           "title": {
            "standoff": 15
           },
           "zerolinecolor": "white",
           "zerolinewidth": 2
          },
          "yaxis": {
           "automargin": true,
           "gridcolor": "white",
           "linecolor": "white",
           "ticks": "",
           "title": {
            "standoff": 15
           },
           "zerolinecolor": "white",
           "zerolinewidth": 2
          }
         }
        },
        "title": {
         "text": "Amortized hardware CapEx, energy, and R&D staff costs for training and experiments"
        },
        "width": 800,
        "xaxis": {
         "title": {
          "text": "Model"
         }
        },
        "yaxis": {
         "range": [
          4,
          8.5
         ],
         "title": {
          "text": "Cost (2023 USD, log scale)"
         },
         "type": "log"
        }
       }
      }
     },
     "metadata": {},
     "output_type": "display_data"
    }
   ],
   "source": [
    "# Create a grouped bar chart with error bars\n",
    "fig = go.Figure()\n",
    "\n",
    "# Group 1\n",
    "for component in cost_component_names:\n",
    "    y_values = [np.median(cost_data[model][component]) for model in models]\n",
    "    y_lows = [np.percentile(cost_data[model][component], 2.5) for model in models]\n",
    "    y_highs = [np.percentile(cost_data[model][component], 97.5) for model in models]\n",
    "    print(component)\n",
    "    print(y_values, y_lows, y_highs)\n",
    "    fig.add_trace(go.Bar(\n",
    "        x=models,\n",
    "        y=y_values,\n",
    "        error_y=dict(\n",
    "            type='data',\n",
    "            symmetric=False,  # Use asymmetric error bars\n",
    "            array=[y_highs[i] - y_values[i] for i in range(len(y_values))],  # Upper bounds of the error bars\n",
    "            arrayminus=[y_values[i] - y_lows[i] for i in range(len(y_values))],  # Lower bounds\n",
    "            visible=True  # Make error bars visible\n",
    "        ),\n",
    "        name=component\n",
    "    ))\n",
    "\n",
    "# log y axis\n",
    "fig.update_yaxes(type=\"log\")\n",
    "\n",
    "# y limits\n",
    "fig.update_yaxes(range=[4, 8.5])\n",
    "\n",
    "# Customize the layout\n",
    "fig.update_layout(\n",
    "    width=800,\n",
    "    height=600,\n",
    "    barmode='group',  # Group bars together\n",
    "    title='Amortized hardware CapEx, energy, and R&D staff costs for training and experiments',\n",
    "    xaxis=dict(\n",
    "        title='Model'\n",
    "    ),\n",
    "    yaxis=dict(\n",
    "        title='Cost (2023 USD, log scale)'\n",
    "    ),\n",
    ")\n",
    "\n",
    "save_plot(fig, results_dir, 'total_amortized_model_development_costs')\n",
    "\n",
    "# Show the plot\n",
    "fig.show()\n"
   ]
  },
  {
   "cell_type": "code",
   "execution_count": 75,
   "metadata": {},
   "outputs": [
    {
     "data": {
      "text/plain": [
       "{'GPT-3 175B (davinci)': 6703436.6598869525,\n",
       " 'OPT-175B': 2617755.313081566,\n",
       " 'GPT-4': 125196561.40860116,\n",
       " 'Gemini 1.0 Ultra': 125404353.82397713}"
      ]
     },
     "execution_count": 75,
     "metadata": {},
     "output_type": "execute_result"
    }
   ],
   "source": [
    "total_costs = {}\n",
    "for model in models:\n",
    "    total_costs[model] = sum(np.median(cost_data[model][component]) for component in cost_component_names)\n",
    "total_costs"
   ]
  },
  {
   "cell_type": "code",
   "execution_count": 76,
   "metadata": {},
   "outputs": [
    {
     "data": {
      "text/plain": [
       "{'GPT-3 175B (davinci)': 0.5113994548530182,\n",
       " 'OPT-175B': 0.7048023491149307,\n",
       " 'GPT-4': 0.41066003213986957,\n",
       " 'Gemini 1.0 Ultra': 0.9465674425103828}"
      ]
     },
     "execution_count": 76,
     "metadata": {},
     "output_type": "execute_result"
    }
   ],
   "source": [
    "staff_cost_ratio = {}\n",
    "for model in models:\n",
    "    compute_cost = sum(np.median(cost_data[model][component]) for component in cost_component_names if component != rnd_staff_cost_name)\n",
    "    staff_cost = np.median(cost_data[model][rnd_staff_cost_name])\n",
    "    staff_cost_ratio[model] = staff_cost / compute_cost\n",
    "staff_cost_ratio"
   ]
  },
  {
   "cell_type": "code",
   "execution_count": 77,
   "metadata": {},
   "outputs": [
    {
     "name": "stdout",
     "output_type": "stream",
     "text": [
      "GPT-3 175B (davinci)\n",
      "2.5th percentile\n",
      "2142519.9766050535\n",
      "50th percentile\n",
      "4435251.473965136\n",
      "97.5th percentile\n",
      "9154739.391566273\n",
      "OPT-175B\n",
      "2.5th percentile\n",
      "752799.1513803452\n",
      "50th percentile\n",
      "1535518.3634282334\n",
      "97.5th percentile\n",
      "3176099.44290136\n",
      "GPT-4\n",
      "2.5th percentile\n",
      "42693559.2794264\n",
      "50th percentile\n",
      "88750342.7871895\n",
      "97.5th percentile\n",
      "186515760.3319224\n",
      "Gemini 1.0 Ultra\n",
      "2.5th percentile\n",
      "30230777.637339894\n",
      "50th percentile\n",
      "64423328.514243476\n",
      "97.5th percentile\n",
      "143029695.96323904\n"
     ]
    }
   ],
   "source": [
    "for model in models:\n",
    "    print(model)\n",
    "    for percentile in [2.5, 50, 97.5]:\n",
    "        print(f'{percentile}th percentile')\n",
    "        print(sum(np.percentile(cost_data[model][component], percentile) for component in cost_component_names[1:]))"
   ]
  },
  {
   "cell_type": "code",
   "execution_count": 78,
   "metadata": {},
   "outputs": [
    {
     "data": {
      "text/plain": [
       "24"
      ]
     },
     "execution_count": 78,
     "metadata": {},
     "output_type": "execute_result"
    }
   ],
   "source": [
    "len(price_df['Hardware model'].unique())"
   ]
  },
  {
   "cell_type": "code",
   "execution_count": 79,
   "metadata": {},
   "outputs": [
    {
     "name": "stdout",
     "output_type": "stream",
     "text": [
      "2.5th percentile R&D staff cost (including equity) (%): {'GPT-3 175B (davinci)': 14.257873317394049, 'OPT-175B': 26.54826287646047, 'GPT-4': 18.825128016744035, 'Gemini 1.0 Ultra': 28.936964555734086}\n",
      "Median R&D staff cost (including equity) (%): {'GPT-3 175B (davinci)': 32.641574788205006, 'OPT-175B': 40.28153616414315, 'GPT-4': 28.071539339055278, 'Gemini 1.0 Ultra': 47.14697182800469}\n",
      "97.5th percentile R&D staff cost (including equity) (%): {'GPT-3 175B (davinci)': 52.25196198899066, 'OPT-175B': 56.33513541616849, 'GPT-4': 39.133148063633946, 'Gemini 1.0 Ultra': 65.8789682078921}\n"
     ]
    }
   ],
   "source": [
    "# Uncertainty in the proportion of R&D staff cost\n",
    "total_costs_dist = {model: sum(cost_data[model][component] for component in cost_component_names) for model in models}\n",
    "component = rnd_staff_cost_name\n",
    "low_proportions = {model: np.percentile(cost_data[model][component] / total_costs_dist[model], 2.5) * 100 for model in models}\n",
    "median_proportions = {model: np.percentile(cost_data[model][component] / total_costs_dist[model], 50) * 100 for model in models}\n",
    "high_proportions = {model: np.percentile(cost_data[model][component] / total_costs_dist[model], 97.5) * 100 for model in models}\n",
    "print(f'2.5th percentile {rnd_staff_cost_name} (%):', low_proportions)\n",
    "print(f'Median {rnd_staff_cost_name} (%):', median_proportions)\n",
    "print(f'97.5th percentile {rnd_staff_cost_name} (%):', high_proportions)"
   ]
  },
  {
   "cell_type": "code",
   "execution_count": 80,
   "metadata": {},
   "outputs": [
    {
     "data": {
      "application/vnd.plotly.v1+json": {
       "config": {
        "plotlyServerURL": "https://plot.ly"
       },
       "data": [
        {
         "name": "R&D staff cost (including equity)",
         "text": [
          "30%",
          "40%",
          "30%",
          "50%"
         ],
         "textposition": "auto",
         "type": "bar",
         "x": [
          "GPT-3 175B (davinci)",
          "OPT-175B",
          "GPT-4",
          "Gemini 1.0 Ultra"
         ],
         "y": [
          33.836154513020595,
          41.34217374118693,
          29.111197792775624,
          48.62751846345719
         ]
        },
        {
         "name": "AI accelerator chip cost",
         "text": [
          "30%",
          "30%",
          "30%",
          "20%"
         ],
         "textposition": "auto",
         "type": "bar",
         "x": [
          "GPT-3 175B (davinci)",
          "OPT-175B",
          "GPT-4",
          "Gemini 1.0 Ultra"
         ],
         "y": [
          30.276650115908843,
          27.761827634759147,
          31.68385223909931,
          23.225228364465618
         ]
        },
        {
         "name": "Other server components cost",
         "text": [
          "20%",
          "20%",
          "20%",
          "10%"
         ],
         "textposition": "auto",
         "type": "bar",
         "x": [
          "GPT-3 175B (davinci)",
          "OPT-175B",
          "GPT-4",
          "Gemini 1.0 Ultra"
         ],
         "y": [
          20.879140823343654,
          18.41901798265006,
          20.74080919148114,
          14.811431060538633
         ]
        },
        {
         "name": "Cluster-level interconnect cost",
         "text": [
          "10%",
          "10%",
          "10%",
          "10%"
         ],
         "textposition": "auto",
         "type": "bar",
         "x": [
          "GPT-3 175B (davinci)",
          "OPT-175B",
          "GPT-4",
          "Gemini 1.0 Ultra"
         ],
         "y": [
          12.037866270769829,
          10.7954535063439,
          12.194604793129065,
          8.875361472986885
         ]
        },
        {
         "name": "Energy cost",
         "text": [
          "0%",
          "0%",
          "10%",
          "0%"
         ],
         "textposition": "auto",
         "type": "bar",
         "x": [
          "GPT-3 175B (davinci)",
          "OPT-175B",
          "GPT-4",
          "Gemini 1.0 Ultra"
         ],
         "y": [
          2.970188276957072,
          1.6815271350599743,
          6.269535983514868,
          4.46046063855168
         ]
        }
       ],
       "layout": {
        "barmode": "stack",
        "height": 400,
        "legend": {
         "title": {
          "text": "Cost components"
         }
        },
        "template": {
         "data": {
          "bar": [
           {
            "error_x": {
             "color": "#2a3f5f"
            },
            "error_y": {
             "color": "#2a3f5f"
            },
            "marker": {
             "line": {
              "color": "#E5ECF6",
              "width": 0.5
             },
             "pattern": {
              "fillmode": "overlay",
              "size": 10,
              "solidity": 0.2
             }
            },
            "type": "bar"
           }
          ],
          "barpolar": [
           {
            "marker": {
             "line": {
              "color": "#E5ECF6",
              "width": 0.5
             },
             "pattern": {
              "fillmode": "overlay",
              "size": 10,
              "solidity": 0.2
             }
            },
            "type": "barpolar"
           }
          ],
          "carpet": [
           {
            "aaxis": {
             "endlinecolor": "#2a3f5f",
             "gridcolor": "white",
             "linecolor": "white",
             "minorgridcolor": "white",
             "startlinecolor": "#2a3f5f"
            },
            "baxis": {
             "endlinecolor": "#2a3f5f",
             "gridcolor": "white",
             "linecolor": "white",
             "minorgridcolor": "white",
             "startlinecolor": "#2a3f5f"
            },
            "type": "carpet"
           }
          ],
          "choropleth": [
           {
            "colorbar": {
             "outlinewidth": 0,
             "ticks": ""
            },
            "type": "choropleth"
           }
          ],
          "contour": [
           {
            "colorbar": {
             "outlinewidth": 0,
             "ticks": ""
            },
            "colorscale": [
             [
              0,
              "#0d0887"
             ],
             [
              0.1111111111111111,
              "#46039f"
             ],
             [
              0.2222222222222222,
              "#7201a8"
             ],
             [
              0.3333333333333333,
              "#9c179e"
             ],
             [
              0.4444444444444444,
              "#bd3786"
             ],
             [
              0.5555555555555556,
              "#d8576b"
             ],
             [
              0.6666666666666666,
              "#ed7953"
             ],
             [
              0.7777777777777778,
              "#fb9f3a"
             ],
             [
              0.8888888888888888,
              "#fdca26"
             ],
             [
              1,
              "#f0f921"
             ]
            ],
            "type": "contour"
           }
          ],
          "contourcarpet": [
           {
            "colorbar": {
             "outlinewidth": 0,
             "ticks": ""
            },
            "type": "contourcarpet"
           }
          ],
          "heatmap": [
           {
            "colorbar": {
             "outlinewidth": 0,
             "ticks": ""
            },
            "colorscale": [
             [
              0,
              "#0d0887"
             ],
             [
              0.1111111111111111,
              "#46039f"
             ],
             [
              0.2222222222222222,
              "#7201a8"
             ],
             [
              0.3333333333333333,
              "#9c179e"
             ],
             [
              0.4444444444444444,
              "#bd3786"
             ],
             [
              0.5555555555555556,
              "#d8576b"
             ],
             [
              0.6666666666666666,
              "#ed7953"
             ],
             [
              0.7777777777777778,
              "#fb9f3a"
             ],
             [
              0.8888888888888888,
              "#fdca26"
             ],
             [
              1,
              "#f0f921"
             ]
            ],
            "type": "heatmap"
           }
          ],
          "heatmapgl": [
           {
            "colorbar": {
             "outlinewidth": 0,
             "ticks": ""
            },
            "colorscale": [
             [
              0,
              "#0d0887"
             ],
             [
              0.1111111111111111,
              "#46039f"
             ],
             [
              0.2222222222222222,
              "#7201a8"
             ],
             [
              0.3333333333333333,
              "#9c179e"
             ],
             [
              0.4444444444444444,
              "#bd3786"
             ],
             [
              0.5555555555555556,
              "#d8576b"
             ],
             [
              0.6666666666666666,
              "#ed7953"
             ],
             [
              0.7777777777777778,
              "#fb9f3a"
             ],
             [
              0.8888888888888888,
              "#fdca26"
             ],
             [
              1,
              "#f0f921"
             ]
            ],
            "type": "heatmapgl"
           }
          ],
          "histogram": [
           {
            "marker": {
             "pattern": {
              "fillmode": "overlay",
              "size": 10,
              "solidity": 0.2
             }
            },
            "type": "histogram"
           }
          ],
          "histogram2d": [
           {
            "colorbar": {
             "outlinewidth": 0,
             "ticks": ""
            },
            "colorscale": [
             [
              0,
              "#0d0887"
             ],
             [
              0.1111111111111111,
              "#46039f"
             ],
             [
              0.2222222222222222,
              "#7201a8"
             ],
             [
              0.3333333333333333,
              "#9c179e"
             ],
             [
              0.4444444444444444,
              "#bd3786"
             ],
             [
              0.5555555555555556,
              "#d8576b"
             ],
             [
              0.6666666666666666,
              "#ed7953"
             ],
             [
              0.7777777777777778,
              "#fb9f3a"
             ],
             [
              0.8888888888888888,
              "#fdca26"
             ],
             [
              1,
              "#f0f921"
             ]
            ],
            "type": "histogram2d"
           }
          ],
          "histogram2dcontour": [
           {
            "colorbar": {
             "outlinewidth": 0,
             "ticks": ""
            },
            "colorscale": [
             [
              0,
              "#0d0887"
             ],
             [
              0.1111111111111111,
              "#46039f"
             ],
             [
              0.2222222222222222,
              "#7201a8"
             ],
             [
              0.3333333333333333,
              "#9c179e"
             ],
             [
              0.4444444444444444,
              "#bd3786"
             ],
             [
              0.5555555555555556,
              "#d8576b"
             ],
             [
              0.6666666666666666,
              "#ed7953"
             ],
             [
              0.7777777777777778,
              "#fb9f3a"
             ],
             [
              0.8888888888888888,
              "#fdca26"
             ],
             [
              1,
              "#f0f921"
             ]
            ],
            "type": "histogram2dcontour"
           }
          ],
          "mesh3d": [
           {
            "colorbar": {
             "outlinewidth": 0,
             "ticks": ""
            },
            "type": "mesh3d"
           }
          ],
          "parcoords": [
           {
            "line": {
             "colorbar": {
              "outlinewidth": 0,
              "ticks": ""
             }
            },
            "type": "parcoords"
           }
          ],
          "pie": [
           {
            "automargin": true,
            "type": "pie"
           }
          ],
          "scatter": [
           {
            "fillpattern": {
             "fillmode": "overlay",
             "size": 10,
             "solidity": 0.2
            },
            "type": "scatter"
           }
          ],
          "scatter3d": [
           {
            "line": {
             "colorbar": {
              "outlinewidth": 0,
              "ticks": ""
             }
            },
            "marker": {
             "colorbar": {
              "outlinewidth": 0,
              "ticks": ""
             }
            },
            "type": "scatter3d"
           }
          ],
          "scattercarpet": [
           {
            "marker": {
             "colorbar": {
              "outlinewidth": 0,
              "ticks": ""
             }
            },
            "type": "scattercarpet"
           }
          ],
          "scattergeo": [
           {
            "marker": {
             "colorbar": {
              "outlinewidth": 0,
              "ticks": ""
             }
            },
            "type": "scattergeo"
           }
          ],
          "scattergl": [
           {
            "marker": {
             "colorbar": {
              "outlinewidth": 0,
              "ticks": ""
             }
            },
            "type": "scattergl"
           }
          ],
          "scattermapbox": [
           {
            "marker": {
             "colorbar": {
              "outlinewidth": 0,
              "ticks": ""
             }
            },
            "type": "scattermapbox"
           }
          ],
          "scatterpolar": [
           {
            "marker": {
             "colorbar": {
              "outlinewidth": 0,
              "ticks": ""
             }
            },
            "type": "scatterpolar"
           }
          ],
          "scatterpolargl": [
           {
            "marker": {
             "colorbar": {
              "outlinewidth": 0,
              "ticks": ""
             }
            },
            "type": "scatterpolargl"
           }
          ],
          "scatterternary": [
           {
            "marker": {
             "colorbar": {
              "outlinewidth": 0,
              "ticks": ""
             }
            },
            "type": "scatterternary"
           }
          ],
          "surface": [
           {
            "colorbar": {
             "outlinewidth": 0,
             "ticks": ""
            },
            "colorscale": [
             [
              0,
              "#0d0887"
             ],
             [
              0.1111111111111111,
              "#46039f"
             ],
             [
              0.2222222222222222,
              "#7201a8"
             ],
             [
              0.3333333333333333,
              "#9c179e"
             ],
             [
              0.4444444444444444,
              "#bd3786"
             ],
             [
              0.5555555555555556,
              "#d8576b"
             ],
             [
              0.6666666666666666,
              "#ed7953"
             ],
             [
              0.7777777777777778,
              "#fb9f3a"
             ],
             [
              0.8888888888888888,
              "#fdca26"
             ],
             [
              1,
              "#f0f921"
             ]
            ],
            "type": "surface"
           }
          ],
          "table": [
           {
            "cells": {
             "fill": {
              "color": "#EBF0F8"
             },
             "line": {
              "color": "white"
             }
            },
            "header": {
             "fill": {
              "color": "#C8D4E3"
             },
             "line": {
              "color": "white"
             }
            },
            "type": "table"
           }
          ]
         },
         "layout": {
          "annotationdefaults": {
           "arrowcolor": "#2a3f5f",
           "arrowhead": 0,
           "arrowwidth": 1
          },
          "autotypenumbers": "strict",
          "coloraxis": {
           "colorbar": {
            "outlinewidth": 0,
            "ticks": ""
           }
          },
          "colorscale": {
           "diverging": [
            [
             0,
             "#8e0152"
            ],
            [
             0.1,
             "#c51b7d"
            ],
            [
             0.2,
             "#de77ae"
            ],
            [
             0.3,
             "#f1b6da"
            ],
            [
             0.4,
             "#fde0ef"
            ],
            [
             0.5,
             "#f7f7f7"
            ],
            [
             0.6,
             "#e6f5d0"
            ],
            [
             0.7,
             "#b8e186"
            ],
            [
             0.8,
             "#7fbc41"
            ],
            [
             0.9,
             "#4d9221"
            ],
            [
             1,
             "#276419"
            ]
           ],
           "sequential": [
            [
             0,
             "#0d0887"
            ],
            [
             0.1111111111111111,
             "#46039f"
            ],
            [
             0.2222222222222222,
             "#7201a8"
            ],
            [
             0.3333333333333333,
             "#9c179e"
            ],
            [
             0.4444444444444444,
             "#bd3786"
            ],
            [
             0.5555555555555556,
             "#d8576b"
            ],
            [
             0.6666666666666666,
             "#ed7953"
            ],
            [
             0.7777777777777778,
             "#fb9f3a"
            ],
            [
             0.8888888888888888,
             "#fdca26"
            ],
            [
             1,
             "#f0f921"
            ]
           ],
           "sequentialminus": [
            [
             0,
             "#0d0887"
            ],
            [
             0.1111111111111111,
             "#46039f"
            ],
            [
             0.2222222222222222,
             "#7201a8"
            ],
            [
             0.3333333333333333,
             "#9c179e"
            ],
            [
             0.4444444444444444,
             "#bd3786"
            ],
            [
             0.5555555555555556,
             "#d8576b"
            ],
            [
             0.6666666666666666,
             "#ed7953"
            ],
            [
             0.7777777777777778,
             "#fb9f3a"
            ],
            [
             0.8888888888888888,
             "#fdca26"
            ],
            [
             1,
             "#f0f921"
            ]
           ]
          },
          "colorway": [
           "#636efa",
           "#EF553B",
           "#00cc96",
           "#ab63fa",
           "#FFA15A",
           "#19d3f3",
           "#FF6692",
           "#B6E880",
           "#FF97FF",
           "#FECB52"
          ],
          "font": {
           "color": "#2a3f5f"
          },
          "geo": {
           "bgcolor": "white",
           "lakecolor": "white",
           "landcolor": "#E5ECF6",
           "showlakes": true,
           "showland": true,
           "subunitcolor": "white"
          },
          "hoverlabel": {
           "align": "left"
          },
          "hovermode": "closest",
          "mapbox": {
           "style": "light"
          },
          "paper_bgcolor": "white",
          "plot_bgcolor": "#E5ECF6",
          "polar": {
           "angularaxis": {
            "gridcolor": "white",
            "linecolor": "white",
            "ticks": ""
           },
           "bgcolor": "#E5ECF6",
           "radialaxis": {
            "gridcolor": "white",
            "linecolor": "white",
            "ticks": ""
           }
          },
          "scene": {
           "xaxis": {
            "backgroundcolor": "#E5ECF6",
            "gridcolor": "white",
            "gridwidth": 2,
            "linecolor": "white",
            "showbackground": true,
            "ticks": "",
            "zerolinecolor": "white"
           },
           "yaxis": {
            "backgroundcolor": "#E5ECF6",
            "gridcolor": "white",
            "gridwidth": 2,
            "linecolor": "white",
            "showbackground": true,
            "ticks": "",
            "zerolinecolor": "white"
           },
           "zaxis": {
            "backgroundcolor": "#E5ECF6",
            "gridcolor": "white",
            "gridwidth": 2,
            "linecolor": "white",
            "showbackground": true,
            "ticks": "",
            "zerolinecolor": "white"
           }
          },
          "shapedefaults": {
           "line": {
            "color": "#2a3f5f"
           }
          },
          "ternary": {
           "aaxis": {
            "gridcolor": "white",
            "linecolor": "white",
            "ticks": ""
           },
           "baxis": {
            "gridcolor": "white",
            "linecolor": "white",
            "ticks": ""
           },
           "bgcolor": "#E5ECF6",
           "caxis": {
            "gridcolor": "white",
            "linecolor": "white",
            "ticks": ""
           }
          },
          "title": {
           "x": 0.05
          },
          "xaxis": {
           "automargin": true,
           "gridcolor": "white",
           "linecolor": "white",
           "ticks": "",
           "title": {
            "standoff": 15
           },
           "zerolinecolor": "white",
           "zerolinewidth": 2
          },
          "yaxis": {
           "automargin": true,
           "gridcolor": "white",
           "linecolor": "white",
           "ticks": "",
           "title": {
            "standoff": 15
           },
           "zerolinecolor": "white",
           "zerolinewidth": 2
          }
         }
        },
        "title": {
         "text": "Proportions of cost for training and experiments"
        },
        "width": 600,
        "xaxis": {
         "title": {
          "text": "Models"
         }
        },
        "yaxis": {
         "range": [
          0,
          100
         ],
         "title": {
          "text": "Proportion (%)"
         }
        }
       }
      }
     },
     "metadata": {},
     "output_type": "display_data"
    }
   ],
   "source": [
    "# Creating the figure\n",
    "fig = go.Figure()\n",
    "\n",
    "for component in cost_component_names:\n",
    "    proportions = [np.median(cost_data[model][component]) / total_costs[model] * 100 for model in models]\n",
    "    fig.add_trace(go.Bar(\n",
    "        name=component,\n",
    "        x=list(models),\n",
    "        y=proportions,\n",
    "        text=[f'{np.around(pp/100, 1) * 100:.0f}%' for pp in proportions],\n",
    "        textposition='auto',\n",
    "    ))\n",
    "\n",
    "# y ticks\n",
    "fig.update_yaxes(range=[0, 100])\n",
    "\n",
    "# Update the layout\n",
    "fig.update_layout(\n",
    "    barmode='stack',\n",
    "    title='Proportions of cost for training and experiments',\n",
    "    xaxis_title='Models',\n",
    "    yaxis_title='Proportion (%)',\n",
    "    legend_title='Cost components',\n",
    "    width=600,\n",
    "    height=400,\n",
    ")\n",
    "\n",
    "# Save plot\n",
    "save_plot(fig, results_dir, 'cost_proportions_stacked')\n",
    "\n",
    "# Show the figure\n",
    "fig.show()"
   ]
  },
  {
   "cell_type": "code",
   "execution_count": 81,
   "metadata": {},
   "outputs": [
    {
     "name": "stdout",
     "output_type": "stream",
     "text": [
      "R&D staff cost (including equity)\n",
      "['GPT-3 175B (davinci)', 'OPT-175B', 'GPT-4', 'Gemini 1.0 Ultra']\n",
      "[33.836154513020595, 41.34217374118693, 29.111197792775624, 48.62751846345719]\n",
      "AI accelerator chip cost\n",
      "['GPT-3 175B (davinci)', 'OPT-175B', 'GPT-4', 'Gemini 1.0 Ultra']\n",
      "[30.276650115908843, 27.761827634759147, 31.68385223909931, 23.225228364465618]\n",
      "Other server components cost\n",
      "['GPT-3 175B (davinci)', 'OPT-175B', 'GPT-4', 'Gemini 1.0 Ultra']\n",
      "[20.879140823343654, 18.41901798265006, 20.74080919148114, 14.811431060538633]\n",
      "Cluster-level interconnect cost\n",
      "['GPT-3 175B (davinci)', 'OPT-175B', 'GPT-4', 'Gemini 1.0 Ultra']\n",
      "[12.037866270769829, 10.7954535063439, 12.194604793129065, 8.875361472986885]\n",
      "Energy cost\n",
      "['GPT-3 175B (davinci)', 'OPT-175B', 'GPT-4', 'Gemini 1.0 Ultra']\n",
      "[2.970188276957072, 1.6815271350599743, 6.269535983514868, 4.46046063855168]\n"
     ]
    }
   ],
   "source": [
    "for component in cost_component_names:\n",
    "    proportions = [np.median(cost_data[model][component]) / total_costs[model] * 100 for model in models]\n",
    "    print(component)\n",
    "    print(models)\n",
    "    print(proportions)"
   ]
  },
  {
   "cell_type": "code",
   "execution_count": 82,
   "metadata": {},
   "outputs": [
    {
     "name": "stdout",
     "output_type": "stream",
     "text": [
      "63.19365721002232\n",
      "56.97629912375311\n",
      "64.61926622370952\n",
      "46.91202089799114\n"
     ]
    }
   ],
   "source": [
    "for model in models:\n",
    "    proportions = [np.median(cost_data[model][component]) / total_costs[model] * 100 \n",
    "        for component in ['AI accelerator chip cost', 'Other server components cost', 'Cluster-level interconnect cost']]\n",
    "    print(sum(proportions))"
   ]
  },
  {
   "cell_type": "code",
   "execution_count": null,
   "metadata": {},
   "outputs": [],
   "source": []
  }
 ],
 "metadata": {
  "kernelspec": {
   "display_name": "epoch",
   "language": "python",
   "name": "python3"
  },
  "language_info": {
   "codemirror_mode": {
    "name": "ipython",
    "version": 3
   },
   "file_extension": ".py",
   "mimetype": "text/x-python",
   "name": "python",
   "nbconvert_exporter": "python",
   "pygments_lexer": "ipython3",
   "version": "3.11.4"
  }
 },
 "nbformat": 4,
 "nbformat_minor": 2
}
