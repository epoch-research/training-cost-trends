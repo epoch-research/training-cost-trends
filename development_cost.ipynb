{
 "cells": [
  {
   "cell_type": "markdown",
   "metadata": {},
   "source": [
    "# Setup"
   ]
  },
  {
   "cell_type": "code",
   "execution_count": 60,
   "metadata": {},
   "outputs": [],
   "source": [
    "from collections import defaultdict\n",
    "from datetime import datetime\n",
    "import json\n",
    "import numpy as np\n",
    "import os\n",
    "import pandas as pd\n",
    "import plotly.graph_objects as go\n",
    "from plotly.subplots import make_subplots\n",
    "\n",
    "from cost import *\n",
    "from data import *\n",
    "from energy import *\n",
    "from inflation import *\n",
    "from parameters import *\n",
    "from plotting import *\n",
    "from utils import *"
   ]
  },
  {
   "cell_type": "code",
   "execution_count": 61,
   "metadata": {},
   "outputs": [],
   "source": [
    "results_dir = f'results/development-costs/'\n",
    "os.makedirs(results_dir, exist_ok=True)"
   ]
  },
  {
   "cell_type": "markdown",
   "metadata": {},
   "source": [
    "Sample size for distributions"
   ]
  },
  {
   "cell_type": "code",
   "execution_count": 62,
   "metadata": {},
   "outputs": [],
   "source": [
    "N = 1000"
   ]
  },
  {
   "cell_type": "markdown",
   "metadata": {},
   "source": [
    "Cost of staff compensation\n",
    "- Use Google Software Engineer as the reference: https://web.archive.org/web/20240515221234/https://www.levels.fyi/companies/google/salaries/software-engineer/locations/san-francisco-bay-area?dma=807\n",
    "- Approximately 200K to 1.2M\n"
   ]
  },
  {
   "cell_type": "code",
   "execution_count": 63,
   "metadata": {},
   "outputs": [],
   "source": [
    "compensation_low = 2e5\n",
    "compensation_high = 1.2e6\n"
   ]
  },
  {
   "cell_type": "markdown",
   "metadata": {},
   "source": [
    "Apply 1.25 - 1.4 overhead factor for benefits, payroll, etc. https://www.sba.gov/blog/how-much-does-employee-cost-you "
   ]
  },
  {
   "cell_type": "code",
   "execution_count": 64,
   "metadata": {},
   "outputs": [],
   "source": [
    "compensation_overhead_low = 1.25\n",
    "compensation_overhead_high = 1.4"
   ]
  },
  {
   "cell_type": "code",
   "execution_count": 65,
   "metadata": {},
   "outputs": [],
   "source": [
    "cost_data = {}\n",
    "cost_data_with_hardware_acq = {}"
   ]
  },
  {
   "cell_type": "markdown",
   "metadata": {},
   "source": [
    "Default ratio of total experiment + training compute to final training run compute\n",
    "- Smaller versions of GPT-3 made up ~4.5e22 FLOP (based on the formula compute = 6 * parameters * tokens), compared to 175B using ~3e23 FLOP. See Table 2.1 of the [paper](https://arxiv.org/pdf/2005.14165). That's a factor of ~1.14 to go from 175B to total FLOP. Certainly more than that was needed due to failures and other experiments. So 1.2x seems like a good low-end estimate.\n",
    "- https://arxiv.org/pdf/2111.00364.pdf, p.3, Fig. 3 caption: \"At Facebook, we observe a rough power capacity breakdown of 10:20:70 for AI infrastructures devoted to the three key phases — Experimentation, Training, and Inference\". 10:20 ratio means a 1.5x multiplier from training to training+experiment compute. Note however that the \"training\" category is not just the final training run; it includes additional hyper-parameter tuning and retraining for some models. So the actual multiplier would be higher under our definition.\n",
    "- BLOOM project - https://arxiv.org/abs/2211.02001, p.8, Table 5. ~63% of compute was spent training smaller models than 176B. That's a multiplier of ~2.7x.\n",
    "- https://arxiv.org/abs/2205.01068: \"[...] OPT-175B was developed with an estimated carbon emissions footprint (CO2eq) of 75 tons [...] With ablations, baselines and downtime, our own estimates of total cost is roughly 2× higher.\"\n",
    "- We think the Facebook, BLOOM and OPT-175B cases are the more central examples as they account better for all experiments. A factor close to 2x seems like a reasonable median estimate.\n",
    "- On the high end, it's plausible that several, full iterations of the full-scale training run are necessary before success - say, 4x."
   ]
  },
  {
   "cell_type": "code",
   "execution_count": 66,
   "metadata": {},
   "outputs": [
    {
     "name": "stdout",
     "output_type": "stream",
     "text": [
      "Median: 2.2 [90% CI: 1.2, 4]\n"
     ]
    }
   ],
   "source": [
    "experiment_factor = lognorm_from_90_ci(1.2, 4, N)\n",
    "print_median_and_ci(experiment_factor)"
   ]
  },
  {
   "cell_type": "markdown",
   "metadata": {},
   "source": [
    "Uncertainty in energy prices"
   ]
  },
  {
   "cell_type": "code",
   "execution_count": 67,
   "metadata": {},
   "outputs": [
    {
     "data": {
      "text/plain": [
       "(1.727914785226352, 0.6247539654972791)"
      ]
     },
     "execution_count": 67,
     "metadata": {},
     "output_type": "execute_result"
    }
   ],
   "source": [
    "likely_datacenter_states = ['California', 'Nevada', 'Oregon', 'Washington']\n",
    "energy_prices = [US_STATE_ENERGY_PRICES_PER_KWH[state] for state in likely_datacenter_states]\n",
    "mean = np.mean(energy_prices)\n",
    "np.max(energy_prices) / mean, np.min(energy_prices) / mean"
   ]
  },
  {
   "cell_type": "code",
   "execution_count": 68,
   "metadata": {},
   "outputs": [],
   "source": [
    "energy_price_uncertainty_factor = lognorm_from_90_ci(0.6, 1.7, N)"
   ]
  },
  {
   "cell_type": "code",
   "execution_count": 69,
   "metadata": {},
   "outputs": [],
   "source": [
    "dt2float = lambda x: x.year + x.month/12 + x.day/365.25\n",
    "float2dt = lambda x: datetime(int(x), int((x-int(x))*12), int(((x-int(x))*12-int((x-int(x))*12))*365.25))"
   ]
  },
  {
   "cell_type": "code",
   "execution_count": 70,
   "metadata": {},
   "outputs": [],
   "source": [
    "frontier_pcd_df, hardware_df, price_df = load_data_for_cost_estimation(\n",
    "    compute_threshold_method='top_n', compute_threshold=10,\n",
    ")"
   ]
  },
  {
   "cell_type": "code",
   "execution_count": 71,
   "metadata": {},
   "outputs": [],
   "source": [
    "frontier_pcd_df['Publication date'] = pd.to_datetime(frontier_pcd_df['Publication date'])"
   ]
  },
  {
   "cell_type": "markdown",
   "metadata": {},
   "source": [
    "Models"
   ]
  },
  {
   "cell_type": "code",
   "execution_count": 72,
   "metadata": {},
   "outputs": [],
   "source": [
    "models = ['GPT-3 175B (davinci)', 'OPT-175B', 'GPT-4', 'Gemini Ultra']"
   ]
  },
  {
   "cell_type": "code",
   "execution_count": 73,
   "metadata": {},
   "outputs": [],
   "source": [
    "selected_model_df = frontier_pcd_df.loc[[s in models for s in frontier_pcd_df['System']]]"
   ]
  },
  {
   "cell_type": "markdown",
   "metadata": {},
   "source": [
    "## Hardware"
   ]
  },
  {
   "cell_type": "code",
   "execution_count": 74,
   "metadata": {},
   "outputs": [],
   "source": [
    "# Unset index\n",
    "selected_model_df.reset_index(inplace=True)"
   ]
  },
  {
   "cell_type": "code",
   "execution_count": 75,
   "metadata": {},
   "outputs": [
    {
     "name": "stderr",
     "output_type": "stream",
     "text": [
      "/var/folders/s2/stl5t_bn7xg9vdfxxr71rzrc0000gn/T/ipykernel_78652/1294256109.py:4: SettingWithCopyWarning:\n",
      "\n",
      "\n",
      "A value is trying to be set on a copy of a slice from a DataFrame.\n",
      "Try using .loc[row_indexer,col_indexer] = value instead\n",
      "\n",
      "See the caveats in the documentation: https://pandas.pydata.org/pandas-docs/stable/user_guide/indexing.html#returning-a-view-versus-a-copy\n",
      "\n"
     ]
    },
    {
     "data": {
      "text/plain": [
       "0    132000000.0\n",
       "1     57000000.0\n",
       "2       812544.0\n",
       "3      3552000.0\n",
       "Name: Training chip-hours, dtype: float64"
      ]
     },
     "execution_count": 75,
     "metadata": {},
     "output_type": "execute_result"
    }
   ],
   "source": [
    "def _estimate_chip_hours(row):\n",
    "    return estimate_chip_hours(row, hardware_df)\n",
    "\n",
    "selected_model_df['Training chip-hours'] = selected_model_df.apply(_estimate_chip_hours, axis=1)\n",
    "selected_model_df['Training chip-hours']"
   ]
  },
  {
   "cell_type": "code",
   "execution_count": 76,
   "metadata": {},
   "outputs": [
    {
     "name": "stdout",
     "output_type": "stream",
     "text": [
      "\n",
      "\n",
      "2.5th percentile of experiments time\n",
      "==== System: Gemini Ultra ====\n",
      "Estimated the value of Google TPU v4 server, available from 2021-05-20 00:00:00 and used from 2023-05-10 00:00:00: 10527.742991314644\n",
      "\n",
      "==== System: GPT-4 ====\n",
      "Estimated the value of NVIDIA A100 SXM4 40 GB server, available from 2020-08-12 00:00:00 and used from 2022-05-12 00:00:00: 14165.054738257799\n",
      "\n",
      "==== System: OPT-175B ====\n",
      "Estimated the value of NVIDIA A100 SXM4 80 GB server, available from 2021-02-14 00:00:00 and used from 2022-02-27 23:00:00: 17818.700400260856\n",
      "\n",
      "==== System: GPT-3 175B (davinci) ====\n",
      "Estimated the value of NVIDIA Tesla V100 DGXS 32 GB server, available from 2018-06-25 00:00:00 and used from 2019-10-01 00:00:00: 11463.61551009175\n",
      "\n",
      "==== System: Gemini Ultra ====\n",
      "Estimated cost: {'AI accelerator chip cost': 32329800.536104735, 'Other server components cost': 20691072.343107026, 'Cluster-level interconnect cost': 7953130.931881759, 'Energy cost': 3038078.237033786}\n",
      "==== System: GPT-4 ====\n",
      "Estimated cost: {'AI accelerator chip cost': 18557637.735073403, 'Other server components cost': 12248040.905148443, 'Cluster-level interconnect cost': 4620851.796033274, 'Energy cost': 3630780.15729691}\n",
      "==== System: OPT-175B ====\n",
      "Estimated cost: {'AI accelerator chip cost': 332776.3801428871, 'Other server components cost': 219632.41089430545, 'Cluster-level interconnect cost': 82861.31865557884, 'Energy cost': 47015.70383746429}\n",
      "==== System: GPT-3 175B (davinci) ====\n",
      "Estimated cost: {'AI accelerator chip cost': 919275.1740450129, 'Other server components cost': 634299.8700910589, 'Cluster-level interconnect cost': 233036.25662041063, 'Energy cost': 115222.01915037115}\n",
      "All costs:\n",
      "{'Gemini Ultra': {'AI accelerator chip cost': 32329800.536104735, 'Other server components cost': 20691072.343107026, 'Cluster-level interconnect cost': 7953130.931881759, 'Energy cost': 3038078.237033786}, 'GPT-4': {'AI accelerator chip cost': 18557637.735073403, 'Other server components cost': 12248040.905148443, 'Cluster-level interconnect cost': 4620851.796033274, 'Energy cost': 3630780.15729691}, 'OPT-175B': {'AI accelerator chip cost': 332776.3801428871, 'Other server components cost': 219632.41089430545, 'Cluster-level interconnect cost': 82861.31865557884, 'Energy cost': 47015.70383746429}, 'GPT-3 175B (davinci)': {'AI accelerator chip cost': 919275.1740450129, 'Other server components cost': 634299.8700910589, 'Cluster-level interconnect cost': 233036.25662041063, 'Energy cost': 115222.01915037115}}\n",
      "\n",
      "\n",
      "50th percentile of experiments time\n",
      "==== System: Gemini Ultra ====\n",
      "Estimated the value of Google TPU v4 server, available from 2021-05-20 00:00:00 and used from 2023-05-10 00:00:00: 10527.742991314644\n",
      "\n",
      "==== System: GPT-4 ====\n",
      "Estimated the value of NVIDIA A100 SXM4 40 GB server, available from 2020-08-12 00:00:00 and used from 2022-05-12 00:00:00: 14165.054738257799\n",
      "\n",
      "==== System: OPT-175B ====\n",
      "Estimated the value of NVIDIA A100 SXM4 80 GB server, available from 2021-02-14 00:00:00 and used from 2022-02-27 23:00:00: 17818.700400260856\n",
      "\n",
      "==== System: GPT-3 175B (davinci) ====\n",
      "Estimated the value of NVIDIA Tesla V100 DGXS 32 GB server, available from 2018-06-25 00:00:00 and used from 2019-10-01 00:00:00: 11463.61551009175\n",
      "\n",
      "==== System: Gemini Ultra ====\n",
      "Estimated cost: {'AI accelerator chip cost': 68482226.67303959, 'Other server components cost': 43828625.07074532, 'Cluster-level interconnect cost': 16846627.761567727, 'Energy cost': 6435374.144873819}\n",
      "==== System: GPT-4 ====\n",
      "Estimated cost: {'AI accelerator chip cost': 39309501.847071104, 'Other server components cost': 25944271.219066925, 'Cluster-level interconnect cost': 9788065.959920699, 'Energy cost': 7690858.143535555}\n",
      "==== System: OPT-175B ====\n",
      "Estimated cost: {'AI accelerator chip cost': 704899.7246651294, 'Other server components cost': 465233.81827898545, 'Cluster-level interconnect cost': 175520.03144161712, 'Energy cost': 99590.47176285664}\n",
      "==== System: GPT-3 175B (davinci) ====\n",
      "Estimated cost: {'AI accelerator chip cost': 1947244.0225402487, 'Other server components cost': 1343598.3755527714, 'Cluster-level interconnect cost': 493626.3597139527, 'Energy cost': 244067.71159534447}\n",
      "All costs:\n",
      "{'Gemini Ultra': {'AI accelerator chip cost': 68482226.67303959, 'Other server components cost': 43828625.07074532, 'Cluster-level interconnect cost': 16846627.761567727, 'Energy cost': 6435374.144873819}, 'GPT-4': {'AI accelerator chip cost': 39309501.847071104, 'Other server components cost': 25944271.219066925, 'Cluster-level interconnect cost': 9788065.959920699, 'Energy cost': 7690858.143535555}, 'OPT-175B': {'AI accelerator chip cost': 704899.7246651294, 'Other server components cost': 465233.81827898545, 'Cluster-level interconnect cost': 175520.03144161712, 'Energy cost': 99590.47176285664}, 'GPT-3 175B (davinci)': {'AI accelerator chip cost': 1947244.0225402487, 'Other server components cost': 1343598.3755527714, 'Cluster-level interconnect cost': 493626.3597139527, 'Energy cost': 244067.71159534447}}\n",
      "\n",
      "\n",
      "97.5th percentile of experiments time\n",
      "==== System: Gemini Ultra ====\n",
      "Estimated the value of Google TPU v4 server, available from 2021-05-20 00:00:00 and used from 2023-05-10 00:00:00: 10527.742991314644\n",
      "\n",
      "==== System: GPT-4 ====\n",
      "Estimated the value of NVIDIA A100 SXM4 40 GB server, available from 2020-08-12 00:00:00 and used from 2022-05-12 00:00:00: 14165.054738257799\n",
      "\n",
      "==== System: OPT-175B ====\n",
      "Estimated the value of NVIDIA A100 SXM4 80 GB server, available from 2021-02-14 00:00:00 and used from 2022-02-27 23:00:00: 17818.700400260856\n",
      "\n",
      "==== System: GPT-3 175B (davinci) ====\n",
      "Estimated the value of NVIDIA Tesla V100 DGXS 32 GB server, available from 2018-06-25 00:00:00 and used from 2019-10-01 00:00:00: 11463.61551009175\n",
      "\n",
      "==== System: Gemini Ultra ====\n",
      "Estimated cost: {'AI accelerator chip cost': 142059263.9965607, 'Other server components cost': 90917928.95779881, 'Cluster-level interconnect cost': 34946578.9431539, 'Energy cost': 13349515.034434173}\n",
      "==== System: GPT-4 ====\n",
      "Estimated cost: {'AI accelerator chip cost': 81543477.36278865, 'Other server components cost': 53818695.05944049, 'Cluster-level interconnect cost': 20304325.863334358, 'Energy cost': 15953886.146093136}\n",
      "==== System: OPT-175B ====\n",
      "Estimated cost: {'AI accelerator chip cost': 1462241.2404228847, 'Other server components cost': 965079.2186791038, 'Cluster-level interconnect cost': 364098.06886529806, 'Energy cost': 206590.08631901606}\n",
      "==== System: GPT-3 175B (davinci) ====\n",
      "Estimated cost: {'AI accelerator chip cost': 4039355.408002127, 'Other server components cost': 2787155.2315214677, 'Cluster-level interconnect cost': 1023976.5959285386, 'Energy cost': 506293.1093069926}\n",
      "All costs:\n",
      "{'Gemini Ultra': {'AI accelerator chip cost': 142059263.9965607, 'Other server components cost': 90917928.95779881, 'Cluster-level interconnect cost': 34946578.9431539, 'Energy cost': 13349515.034434173}, 'GPT-4': {'AI accelerator chip cost': 81543477.36278865, 'Other server components cost': 53818695.05944049, 'Cluster-level interconnect cost': 20304325.863334358, 'Energy cost': 15953886.146093136}, 'OPT-175B': {'AI accelerator chip cost': 1462241.2404228847, 'Other server components cost': 965079.2186791038, 'Cluster-level interconnect cost': 364098.06886529806, 'Energy cost': 206590.08631901606}, 'GPT-3 175B (davinci)': {'AI accelerator chip cost': 4039355.408002127, 'Other server components cost': 2787155.2315214677, 'Cluster-level interconnect cost': 1023976.5959285386, 'Energy cost': 506293.1093069926}}\n"
     ]
    },
    {
     "name": "stderr",
     "output_type": "stream",
     "text": [
      "/var/folders/s2/stl5t_bn7xg9vdfxxr71rzrc0000gn/T/ipykernel_78652/3550706096.py:1: SettingWithCopyWarning:\n",
      "\n",
      "\n",
      "A value is trying to be set on a copy of a slice from a DataFrame.\n",
      "Try using .loc[row_indexer,col_indexer] = value instead\n",
      "\n",
      "See the caveats in the documentation: https://pandas.pydata.org/pandas-docs/stable/user_guide/indexing.html#returning-a-view-versus-a-copy\n",
      "\n",
      "/var/folders/s2/stl5t_bn7xg9vdfxxr71rzrc0000gn/T/ipykernel_78652/3550706096.py:13: SettingWithCopyWarning:\n",
      "\n",
      "\n",
      "A value is trying to be set on a copy of a slice from a DataFrame.\n",
      "Try using .loc[row_indexer,col_indexer] = value instead\n",
      "\n",
      "See the caveats in the documentation: https://pandas.pydata.org/pandas-docs/stable/user_guide/indexing.html#returning-a-view-versus-a-copy\n",
      "\n",
      "/Users/bencottier/Projects/training_cost_2/training-cost-trends/cost.py:329: SettingWithCopyWarning:\n",
      "\n",
      "\n",
      "A value is trying to be set on a copy of a slice from a DataFrame.\n",
      "Try using .loc[row_indexer,col_indexer] = value instead\n",
      "\n",
      "See the caveats in the documentation: https://pandas.pydata.org/pandas-docs/stable/user_guide/indexing.html#returning-a-view-versus-a-copy\n",
      "\n",
      "/Users/bencottier/Projects/training_cost_2/training-cost-trends/cost.py:329: SettingWithCopyWarning:\n",
      "\n",
      "\n",
      "A value is trying to be set on a copy of a slice from a DataFrame.\n",
      "Try using .loc[row_indexer,col_indexer] = value instead\n",
      "\n",
      "See the caveats in the documentation: https://pandas.pydata.org/pandas-docs/stable/user_guide/indexing.html#returning-a-view-versus-a-copy\n",
      "\n",
      "/Users/bencottier/Projects/training_cost_2/training-cost-trends/cost.py:329: SettingWithCopyWarning:\n",
      "\n",
      "\n",
      "A value is trying to be set on a copy of a slice from a DataFrame.\n",
      "Try using .loc[row_indexer,col_indexer] = value instead\n",
      "\n",
      "See the caveats in the documentation: https://pandas.pydata.org/pandas-docs/stable/user_guide/indexing.html#returning-a-view-versus-a-copy\n",
      "\n",
      "/Users/bencottier/Projects/training_cost_2/training-cost-trends/cost.py:329: SettingWithCopyWarning:\n",
      "\n",
      "\n",
      "A value is trying to be set on a copy of a slice from a DataFrame.\n",
      "Try using .loc[row_indexer,col_indexer] = value instead\n",
      "\n",
      "See the caveats in the documentation: https://pandas.pydata.org/pandas-docs/stable/user_guide/indexing.html#returning-a-view-versus-a-copy\n",
      "\n",
      "/Users/bencottier/Projects/training_cost_2/training-cost-trends/cost.py:330: SettingWithCopyWarning:\n",
      "\n",
      "\n",
      "A value is trying to be set on a copy of a slice from a DataFrame.\n",
      "Try using .loc[row_indexer,col_indexer] = value instead\n",
      "\n",
      "See the caveats in the documentation: https://pandas.pydata.org/pandas-docs/stable/user_guide/indexing.html#returning-a-view-versus-a-copy\n",
      "\n",
      "/var/folders/s2/stl5t_bn7xg9vdfxxr71rzrc0000gn/T/ipykernel_78652/3550706096.py:13: SettingWithCopyWarning:\n",
      "\n",
      "\n",
      "A value is trying to be set on a copy of a slice from a DataFrame.\n",
      "Try using .loc[row_indexer,col_indexer] = value instead\n",
      "\n",
      "See the caveats in the documentation: https://pandas.pydata.org/pandas-docs/stable/user_guide/indexing.html#returning-a-view-versus-a-copy\n",
      "\n",
      "/Users/bencottier/Projects/training_cost_2/training-cost-trends/cost.py:329: SettingWithCopyWarning:\n",
      "\n",
      "\n",
      "A value is trying to be set on a copy of a slice from a DataFrame.\n",
      "Try using .loc[row_indexer,col_indexer] = value instead\n",
      "\n",
      "See the caveats in the documentation: https://pandas.pydata.org/pandas-docs/stable/user_guide/indexing.html#returning-a-view-versus-a-copy\n",
      "\n",
      "/Users/bencottier/Projects/training_cost_2/training-cost-trends/cost.py:329: SettingWithCopyWarning:\n",
      "\n",
      "\n",
      "A value is trying to be set on a copy of a slice from a DataFrame.\n",
      "Try using .loc[row_indexer,col_indexer] = value instead\n",
      "\n",
      "See the caveats in the documentation: https://pandas.pydata.org/pandas-docs/stable/user_guide/indexing.html#returning-a-view-versus-a-copy\n",
      "\n",
      "/Users/bencottier/Projects/training_cost_2/training-cost-trends/cost.py:329: SettingWithCopyWarning:\n",
      "\n",
      "\n",
      "A value is trying to be set on a copy of a slice from a DataFrame.\n",
      "Try using .loc[row_indexer,col_indexer] = value instead\n",
      "\n",
      "See the caveats in the documentation: https://pandas.pydata.org/pandas-docs/stable/user_guide/indexing.html#returning-a-view-versus-a-copy\n",
      "\n",
      "/Users/bencottier/Projects/training_cost_2/training-cost-trends/cost.py:329: SettingWithCopyWarning:\n",
      "\n",
      "\n",
      "A value is trying to be set on a copy of a slice from a DataFrame.\n",
      "Try using .loc[row_indexer,col_indexer] = value instead\n",
      "\n",
      "See the caveats in the documentation: https://pandas.pydata.org/pandas-docs/stable/user_guide/indexing.html#returning-a-view-versus-a-copy\n",
      "\n",
      "/Users/bencottier/Projects/training_cost_2/training-cost-trends/cost.py:330: SettingWithCopyWarning:\n",
      "\n",
      "\n",
      "A value is trying to be set on a copy of a slice from a DataFrame.\n",
      "Try using .loc[row_indexer,col_indexer] = value instead\n",
      "\n",
      "See the caveats in the documentation: https://pandas.pydata.org/pandas-docs/stable/user_guide/indexing.html#returning-a-view-versus-a-copy\n",
      "\n",
      "/var/folders/s2/stl5t_bn7xg9vdfxxr71rzrc0000gn/T/ipykernel_78652/3550706096.py:13: SettingWithCopyWarning:\n",
      "\n",
      "\n",
      "A value is trying to be set on a copy of a slice from a DataFrame.\n",
      "Try using .loc[row_indexer,col_indexer] = value instead\n",
      "\n",
      "See the caveats in the documentation: https://pandas.pydata.org/pandas-docs/stable/user_guide/indexing.html#returning-a-view-versus-a-copy\n",
      "\n",
      "/Users/bencottier/Projects/training_cost_2/training-cost-trends/cost.py:329: SettingWithCopyWarning:\n",
      "\n",
      "\n",
      "A value is trying to be set on a copy of a slice from a DataFrame.\n",
      "Try using .loc[row_indexer,col_indexer] = value instead\n",
      "\n",
      "See the caveats in the documentation: https://pandas.pydata.org/pandas-docs/stable/user_guide/indexing.html#returning-a-view-versus-a-copy\n",
      "\n",
      "/Users/bencottier/Projects/training_cost_2/training-cost-trends/cost.py:329: SettingWithCopyWarning:\n",
      "\n",
      "\n",
      "A value is trying to be set on a copy of a slice from a DataFrame.\n",
      "Try using .loc[row_indexer,col_indexer] = value instead\n",
      "\n",
      "See the caveats in the documentation: https://pandas.pydata.org/pandas-docs/stable/user_guide/indexing.html#returning-a-view-versus-a-copy\n",
      "\n",
      "/Users/bencottier/Projects/training_cost_2/training-cost-trends/cost.py:329: SettingWithCopyWarning:\n",
      "\n",
      "\n",
      "A value is trying to be set on a copy of a slice from a DataFrame.\n",
      "Try using .loc[row_indexer,col_indexer] = value instead\n",
      "\n",
      "See the caveats in the documentation: https://pandas.pydata.org/pandas-docs/stable/user_guide/indexing.html#returning-a-view-versus-a-copy\n",
      "\n",
      "/Users/bencottier/Projects/training_cost_2/training-cost-trends/cost.py:329: SettingWithCopyWarning:\n",
      "\n",
      "\n",
      "A value is trying to be set on a copy of a slice from a DataFrame.\n",
      "Try using .loc[row_indexer,col_indexer] = value instead\n",
      "\n",
      "See the caveats in the documentation: https://pandas.pydata.org/pandas-docs/stable/user_guide/indexing.html#returning-a-view-versus-a-copy\n",
      "\n",
      "/Users/bencottier/Projects/training_cost_2/training-cost-trends/cost.py:330: SettingWithCopyWarning:\n",
      "\n",
      "\n",
      "A value is trying to be set on a copy of a slice from a DataFrame.\n",
      "Try using .loc[row_indexer,col_indexer] = value instead\n",
      "\n",
      "See the caveats in the documentation: https://pandas.pydata.org/pandas-docs/stable/user_guide/indexing.html#returning-a-view-versus-a-copy\n",
      "\n"
     ]
    },
    {
     "data": {
      "text/plain": [
       "defaultdict(dict,\n",
       "            {'GPT-3 175B (davinci)': {'2.5': {'AI accelerator chip cost': 919275.1740450129,\n",
       "               'Other server components cost': 634299.8700910589,\n",
       "               'Cluster-level interconnect cost': 233036.25662041063,\n",
       "               'Energy cost': 115222.01915037115},\n",
       "              '50': {'AI accelerator chip cost': 1947244.0225402487,\n",
       "               'Other server components cost': 1343598.3755527714,\n",
       "               'Cluster-level interconnect cost': 493626.3597139527,\n",
       "               'Energy cost': 244067.71159534447},\n",
       "              '97.5': {'AI accelerator chip cost': 4039355.408002127,\n",
       "               'Other server components cost': 2787155.2315214677,\n",
       "               'Cluster-level interconnect cost': 1023976.5959285386,\n",
       "               'Energy cost': 506293.1093069926}},\n",
       "             'OPT-175B': {'2.5': {'AI accelerator chip cost': 332776.3801428871,\n",
       "               'Other server components cost': 219632.41089430545,\n",
       "               'Cluster-level interconnect cost': 82861.31865557884,\n",
       "               'Energy cost': 47015.70383746429},\n",
       "              '50': {'AI accelerator chip cost': 704899.7246651294,\n",
       "               'Other server components cost': 465233.81827898545,\n",
       "               'Cluster-level interconnect cost': 175520.03144161712,\n",
       "               'Energy cost': 99590.47176285664},\n",
       "              '97.5': {'AI accelerator chip cost': 1462241.2404228847,\n",
       "               'Other server components cost': 965079.2186791038,\n",
       "               'Cluster-level interconnect cost': 364098.06886529806,\n",
       "               'Energy cost': 206590.08631901606}},\n",
       "             'GPT-4': {'2.5': {'AI accelerator chip cost': 18557637.735073403,\n",
       "               'Other server components cost': 12248040.905148443,\n",
       "               'Cluster-level interconnect cost': 4620851.796033274,\n",
       "               'Energy cost': 3630780.15729691},\n",
       "              '50': {'AI accelerator chip cost': 39309501.847071104,\n",
       "               'Other server components cost': 25944271.219066925,\n",
       "               'Cluster-level interconnect cost': 9788065.959920699,\n",
       "               'Energy cost': 7690858.143535555},\n",
       "              '97.5': {'AI accelerator chip cost': 81543477.36278865,\n",
       "               'Other server components cost': 53818695.05944049,\n",
       "               'Cluster-level interconnect cost': 20304325.863334358,\n",
       "               'Energy cost': 15953886.146093136}},\n",
       "             'Gemini Ultra': {'2.5': {'AI accelerator chip cost': 32329800.536104735,\n",
       "               'Other server components cost': 20691072.343107026,\n",
       "               'Cluster-level interconnect cost': 7953130.931881759,\n",
       "               'Energy cost': 3038078.237033786},\n",
       "              '50': {'AI accelerator chip cost': 68482226.67303959,\n",
       "               'Other server components cost': 43828625.07074532,\n",
       "               'Cluster-level interconnect cost': 16846627.761567727,\n",
       "               'Energy cost': 6435374.144873819},\n",
       "              '97.5': {'AI accelerator chip cost': 142059263.9965607,\n",
       "               'Other server components cost': 90917928.95779881,\n",
       "               'Cluster-level interconnect cost': 34946578.9431539,\n",
       "               'Energy cost': 13349515.034434173}}})"
      ]
     },
     "execution_count": 76,
     "metadata": {},
     "output_type": "execute_result"
    }
   ],
   "source": [
    "selected_model_df.loc[:, 'Original training chip-hours'] = selected_model_df.loc[:, 'Training chip-hours']\n",
    "hardware_costs = defaultdict(dict)\n",
    "cost_component_names = [\n",
    "    'AI accelerator chip cost',\n",
    "    'Other server components cost',\n",
    "    'Cluster-level interconnect cost',\n",
    "    'Energy cost',\n",
    "]\n",
    "\n",
    "for percentile in [2.5, 50, 97.5]:\n",
    "    print(f'\\n\\n{percentile}th percentile of experiments time')\n",
    "    experiment_factor_value = np.percentile(experiment_factor, percentile)\n",
    "    selected_model_df.loc[:, 'Training chip-hours'] = selected_model_df.loc[:, 'Original training chip-hours'] * experiment_factor_value\n",
    "    cost_df = estimate_hardware_capex_opex(selected_model_df, hardware_df, price_df, separate_components=True)\n",
    "    cost_df = cost_df.set_index('System', inplace=False)\n",
    "\n",
    "    for model in models:\n",
    "        cost_components = {}\n",
    "        for cost_component_name in cost_component_names:\n",
    "            cost_components[cost_component_name] = cost_df.loc[model, cost_component_name]\n",
    "        hardware_costs[model][str(percentile)] = cost_components\n",
    "\n",
    "hardware_costs"
   ]
  },
  {
   "cell_type": "markdown",
   "metadata": {},
   "source": [
    "# GPT-3"
   ]
  },
  {
   "cell_type": "markdown",
   "metadata": {},
   "source": [
    "## Project duration"
   ]
  },
  {
   "cell_type": "markdown",
   "metadata": {},
   "source": [
    "Training end time\n",
    "1. Shevlane (2022)\n",
    "https://uploads-ssl.webflow.com/614b70a71b9f71c9c240c7a7/6262a1a55526a373cc93207d_Shevlane%20dissertation%20preprint.pdf\n",
    "p.66 of the PDF: A senior member of OpenAI (specified anonymously on p.27 of the PDF) \n",
    "told the author \"GPT-3 existed for a long time before the paper came out. We delayed the \n",
    "paper. [...] But it's months, it doesn't really count.\"\n",
    "p.67 of the PDF: CAMERON said \"Firstly, [the idea for a commercial API for GPT-3] \n",
    "started out as a research API. It probably was . . . early January 2020.\"\n",
    "\n",
    "1. We think it plausibly could have been produced soon after the Microsoft deal was \n",
    "announced in July 2019. Supposing the announcement coincided with Microsoft giving \n",
    "OpenAI access to the necessary compute, and OpenAI already having almost everything \n",
    "about GPT-3 planned in advance, and it took less than 1 month to train, then GPT-3 could \n",
    "have been produced in August 2019.\n",
    "\n",
    "1. So we estimate August to January as our 90% CI, and halfway between (October) as the\n",
    "central estimate."
   ]
  },
  {
   "cell_type": "code",
   "execution_count": 77,
   "metadata": {},
   "outputs": [],
   "source": [
    "training_end_low = datetime(2019, 8, 1)\n",
    "training_end_high = datetime(2020, 1, 1)"
   ]
  },
  {
   "cell_type": "markdown",
   "metadata": {},
   "source": [
    "\n",
    "Project start time\n",
    "- Lower bound on start time: when GPT-2 was published, 2019-Feb-14\n",
    "  - It could have been earlier than this, but that seems unlikely unless GPT-2 was delayed for months\n",
    "  - The scaling laws paper was only published in January 2020, and GPT-3 was based on the findings of that paper\n",
    "- Upper bound on start time: 2019-Nov-01, two months before the upper bound on training completion\n",
    "  - We think they’d need six weeks at the absolute minimum, to prepare training data and scale up the experiments successfully\n"
   ]
  },
  {
   "cell_type": "code",
   "execution_count": 78,
   "metadata": {},
   "outputs": [],
   "source": [
    "project_start_low = datetime(2019, 2, 14)\n",
    "project_start_high = datetime(2019, 11, 1)\n"
   ]
  },
  {
   "cell_type": "code",
   "execution_count": 79,
   "metadata": {},
   "outputs": [
    {
     "data": {
      "text/plain": [
       "numpy.datetime64('2020-05-28T00:00:00.000000000')"
      ]
     },
     "execution_count": 79,
     "metadata": {},
     "output_type": "execute_result"
    }
   ],
   "source": [
    "publication_date = frontier_pcd_df.loc[frontier_pcd_df['System'] == 'GPT-3 175B (davinci)', 'Publication date'].values[0]\n",
    "publication_date"
   ]
  },
  {
   "cell_type": "code",
   "execution_count": 80,
   "metadata": {},
   "outputs": [
    {
     "name": "stdout",
     "output_type": "stream",
     "text": [
      "Median: 4.4 [90% CI: 1.2, 9.1]\n",
      "Median: 8.4 [90% CI: 4, 13]\n"
     ]
    }
   ],
   "source": [
    "min_project_duration = 15 / 365  # training duration\n",
    "experiments_duration = []\n",
    "while len(experiments_duration) < N:\n",
    "    project_start_sample = lognorm_from_90_ci(dt2float(project_start_low), dt2float(project_start_high), 1)[0]\n",
    "    training_end_sample = lognorm_from_90_ci(dt2float(training_end_low), dt2float(training_end_high), 1)[0]\n",
    "    experiment_duration_sample = training_end_sample - project_start_sample\n",
    "    if experiment_duration_sample > min_project_duration:\n",
    "        experiments_duration.append(experiment_duration_sample)\n",
    "\n",
    "project_duration = []\n",
    "while len(project_duration) < N:\n",
    "    project_start_sample = lognorm_from_90_ci(dt2float(project_start_low), dt2float(project_start_high), 1)[0]\n",
    "    # Paper was delayed by \"months\"\n",
    "    publication_delay_sample = lognorm_from_90_ci(2*30, 4*30, 1)[0]\n",
    "    project_end_sample = dt2float(publication_date - pd.to_timedelta(publication_delay_sample, unit='D'))\n",
    "    project_duration_sample = project_end_sample - project_start_sample\n",
    "    if project_duration_sample > min_project_duration:\n",
    "        project_duration.append(project_duration_sample)\n",
    "\n",
    "experiments_duration = np.array(experiments_duration)\n",
    "project_duration = np.array(project_duration)\n",
    "print_median_and_ci(experiments_duration * 12)  # convert years to months\n",
    "print_median_and_ci(project_duration * 12)"
   ]
  },
  {
   "cell_type": "markdown",
   "metadata": {},
   "source": [
    "## Energy"
   ]
  },
  {
   "cell_type": "markdown",
   "metadata": {},
   "source": [
    "Total energy consumption of training: 1287 MWh ([Patterson et al. 2021](https://arxiv.org/abs/2104.10350), Table 4)"
   ]
  },
  {
   "cell_type": "code",
   "execution_count": 81,
   "metadata": {},
   "outputs": [
    {
     "name": "stdout",
     "output_type": "stream",
     "text": [
      "Median: 1.9e+05 [90% CI: 8.5e+04, 4.3e+05]\n"
     ]
    }
   ],
   "source": [
    "energy_consumption_kwh = 1287e3 * experiment_factor\n",
    "price_per_kwh = energy_price(2020) * energy_price_uncertainty_factor\n",
    "energy_cost = energy_consumption_kwh * price_per_kwh\n",
    "print_median_and_ci(energy_cost)"
   ]
  },
  {
   "cell_type": "markdown",
   "metadata": {},
   "source": [
    "## Personnel"
   ]
  },
  {
   "cell_type": "code",
   "execution_count": 82,
   "metadata": {},
   "outputs": [],
   "source": [
    "total_salaries = np.zeros(N)\n",
    "num_authors = 31\n",
    "num_contributors = 25  # counting listed contributors in paper\n",
    "for i in range(N):\n",
    "    ftes = lognorm_from_90_ci(0.05, 0.8, num_contributors)\n",
    "    salary = lognorm_from_90_ci(compensation_low, compensation_high, num_contributors)\n",
    "    salary *= ftes\n",
    "    salary *= lognorm_from_90_ci(compensation_overhead_low, compensation_overhead_high, num_contributors)\n",
    "    total_salaries[i] = salary.sum()"
   ]
  },
  {
   "cell_type": "code",
   "execution_count": 83,
   "metadata": {},
   "outputs": [],
   "source": [
    "personnel_cost = total_salaries * project_duration"
   ]
  },
  {
   "cell_type": "code",
   "execution_count": 84,
   "metadata": {},
   "outputs": [
    {
     "name": "stdout",
     "output_type": "stream",
     "text": [
      "Median: 3.6e+06 [95% CI: 1.3e+06, 7.3e+06]\n"
     ]
    }
   ],
   "source": [
    "print_median_and_ci(personnel_cost, ci=[2.5, 97.5])"
   ]
  },
  {
   "cell_type": "markdown",
   "metadata": {},
   "source": [
    "## Overall"
   ]
  },
  {
   "cell_type": "code",
   "execution_count": 85,
   "metadata": {},
   "outputs": [
    {
     "data": {
      "text/plain": [
       "{'AI accelerator chip cost': 919275.1740450129,\n",
       " 'Other server components cost': 634299.8700910589,\n",
       " 'Cluster-level interconnect cost': 233036.25662041063,\n",
       " 'Energy cost': 115222.01915037115}"
      ]
     },
     "execution_count": 85,
     "metadata": {},
     "output_type": "execute_result"
    }
   ],
   "source": [
    "hardware_costs['GPT-3 175B (davinci)']['2.5']"
   ]
  },
  {
   "cell_type": "code",
   "execution_count": 86,
   "metadata": {},
   "outputs": [],
   "source": [
    "def get_hardware_cost_dist(model, component, ci=[2.5, 97.5]):\n",
    "    return lognorm_from_ci(\n",
    "        hardware_costs[model][str(ci[0])][component],\n",
    "        hardware_costs[model][str(ci[1])][component],\n",
    "        ci[1] - ci[0],\n",
    "        N\n",
    "    )"
   ]
  },
  {
   "cell_type": "code",
   "execution_count": 87,
   "metadata": {},
   "outputs": [],
   "source": [
    "cost_data['GPT-3 175B (davinci)'] = {\n",
    "    'AI accelerator chip cost': get_hardware_cost_dist('GPT-3 175B (davinci)', 'AI accelerator chip cost'),\n",
    "    'Other server components cost': get_hardware_cost_dist('GPT-3 175B (davinci)', 'Other server components cost'),\n",
    "    'Cluster-level interconnect cost': get_hardware_cost_dist('GPT-3 175B (davinci)', 'Cluster-level interconnect cost'),\n",
    "    'Energy cost': energy_cost,\n",
    "    'R&D staff cost': personnel_cost,\n",
    "}"
   ]
  },
  {
   "cell_type": "markdown",
   "metadata": {},
   "source": [
    "# OPT-175B"
   ]
  },
  {
   "cell_type": "markdown",
   "metadata": {},
   "source": [
    "## Energy"
   ]
  },
  {
   "cell_type": "markdown",
   "metadata": {},
   "source": [
    "https://arxiv.org/abs/2205.01068: \"[...] OPT-175B was developed with an estimated carbon emissions footprint (CO2eq) of 75 tons [...] With ablations, baselines and downtime, our own estimates of total cost is roughly 2× higher.\"\n",
    "\n",
    "- I haven't found numbers for carbon intensity, or how they calculate it\n",
    "- According to https://arxiv.org/pdf/2104.10350.pdf (Table 1), Gross CO2e/KWh (kg/KWh) for the “Google Iowa Council Bluffs” data center in 2020 was 0.478 CO2e/kWh (kg/kWh)\n",
    "- Energy use:\n",
    "  - 992 A100 GPU units\n",
    "  - 300W per unit (https://www.nvidia.com/en-us/data-center/a100/)\n",
    "  - Training time 33 days (https://github.com/facebookresearch/metaseq/blob/d703cf1ae1e0faaff6c20629398dfbe02b98cf77/projects/OPT/chronicles/final_update.md)\n",
    "  - Energy = 992 units * 0.3 kW/unit * 33 days * 24h/day ~= 236000 kWh\n",
    "  - 75000 kg / 236000 kWh ~= 0.318 CO2e/kWh (kg/kWh)\n",
    "  - Sanity check: this is not far from the Google data center gross carbon intensity of 0.478 reported by [Patterson et al. (2021)](https://arxiv.org/abs/2104.10350)"
   ]
  },
  {
   "cell_type": "code",
   "execution_count": 88,
   "metadata": {},
   "outputs": [
    {
     "name": "stdout",
     "output_type": "stream",
     "text": [
      "Median: 4.4e+04 [95% CI: 1.7e+04, 1.1e+05]\n"
     ]
    }
   ],
   "source": [
    "training_time_hours = 33 * 24\n",
    "power_per_gpu = 0.3\n",
    "num_gpus = 992\n",
    "energy_consumption_kwh = training_time_hours * num_gpus * power_per_gpu * experiment_factor\n",
    "price_per_kwh = energy_price(2022) * energy_price_uncertainty_factor\n",
    "energy_cost = energy_consumption_kwh * price_per_kwh\n",
    "print_median_and_ci(energy_cost, ci=[2.5, 97.5])"
   ]
  },
  {
   "cell_type": "markdown",
   "metadata": {},
   "source": [
    "## Personnel"
   ]
  },
  {
   "cell_type": "markdown",
   "metadata": {},
   "source": [
    "2021-Oct-20: First date in [OPT logbook](https://github.com/facebookresearch/metaseq/blob/main/projects/OPT/chronicles/OPT175B_Logbook.pdf)\n",
    "\n",
    "2022-Jan-06: Date in the logbook where the final training run is stated to have completed\n",
    "\n",
    "2022-May-02: Publication on arxiv"
   ]
  },
  {
   "cell_type": "code",
   "execution_count": 89,
   "metadata": {},
   "outputs": [],
   "source": [
    "project_duration = 192 / DAYS_PER_YEAR"
   ]
  },
  {
   "cell_type": "code",
   "execution_count": 90,
   "metadata": {},
   "outputs": [],
   "source": [
    "num_authors = 19\n",
    "num_contributors = num_authors"
   ]
  },
  {
   "cell_type": "code",
   "execution_count": 91,
   "metadata": {},
   "outputs": [],
   "source": [
    "total_salaries = np.zeros(N)\n",
    "for i in range(N):\n",
    "    ftes = lognorm_from_90_ci(0.05, 0.8, num_contributors)\n",
    "    salary = lognorm_from_90_ci(compensation_low, compensation_high, num_contributors)\n",
    "    salary *= ftes\n",
    "    salary *= lognorm_from_90_ci(compensation_overhead_low, compensation_overhead_high, num_contributors)\n",
    "    total_salaries[i] = salary.sum()"
   ]
  },
  {
   "cell_type": "code",
   "execution_count": 92,
   "metadata": {},
   "outputs": [],
   "source": [
    "personnel_cost = total_salaries * project_duration"
   ]
  },
  {
   "cell_type": "code",
   "execution_count": 93,
   "metadata": {},
   "outputs": [
    {
     "name": "stdout",
     "output_type": "stream",
     "text": [
      "Median: 2e+06 [95% CI: 1.2e+06, 3.7e+06]\n"
     ]
    }
   ],
   "source": [
    "print_median_and_ci(personnel_cost, ci=[2.5, 97.5])"
   ]
  },
  {
   "cell_type": "markdown",
   "metadata": {},
   "source": [
    "## Overall"
   ]
  },
  {
   "cell_type": "code",
   "execution_count": 94,
   "metadata": {},
   "outputs": [],
   "source": [
    "cost_data['OPT-175B'] = {\n",
    "    'AI accelerator chip cost': get_hardware_cost_dist('OPT-175B', 'AI accelerator chip cost'),\n",
    "    'Other server components cost': get_hardware_cost_dist('OPT-175B', 'Other server components cost'),\n",
    "    'Cluster-level interconnect cost': get_hardware_cost_dist('OPT-175B', 'Cluster-level interconnect cost'),\n",
    "    'Energy cost': energy_cost,\n",
    "    'R&D staff cost': personnel_cost,\n",
    "}"
   ]
  },
  {
   "cell_type": "markdown",
   "metadata": {},
   "source": [
    "# GPT-4"
   ]
  },
  {
   "cell_type": "markdown",
   "metadata": {},
   "source": [
    "## Project duration"
   ]
  },
  {
   "cell_type": "markdown",
   "metadata": {},
   "source": [
    "https://arxiv.org/abs/2303.08774\n",
    "\"This system card analyzes GPT-4 [...] Since it finished training in August of 2022 [...]\""
   ]
  },
  {
   "cell_type": "code",
   "execution_count": 95,
   "metadata": {},
   "outputs": [],
   "source": [
    "training_end_low = datetime(2022, 8, 1)\n",
    "training_end_high = datetime(2022, 8, 31)"
   ]
  },
  {
   "cell_type": "markdown",
   "metadata": {},
   "source": [
    "Project start time\n",
    "- We know they started training GPT-3.5 about one year before [announcement](https://openai.com/index/gpt-4-research/) in March 2023, and then trained GPT-4 after that. They built new infrastructure/codebase for and GPT-3.5 was a test run. Maybe some research experiments were going on for a few months in total prior to that.\n",
    "- Indirect source that final training run of GPT-4 took about three months: [SemiAnalysis](https://www.semianalysis.com/p/gpt-4-architecture-infrastructure). So would have started at the end of May at the latest.\n"
   ]
  },
  {
   "cell_type": "code",
   "execution_count": 96,
   "metadata": {},
   "outputs": [],
   "source": [
    "project_start_low = datetime(2022, 1, 1)\n",
    "project_start_high = datetime(2022, 5, 31)"
   ]
  },
  {
   "cell_type": "code",
   "execution_count": 97,
   "metadata": {},
   "outputs": [
    {
     "data": {
      "text/plain": [
       "numpy.datetime64('2023-03-15T00:00:00.000000000')"
      ]
     },
     "execution_count": 97,
     "metadata": {},
     "output_type": "execute_result"
    }
   ],
   "source": [
    "publication_date = frontier_pcd_df.loc[frontier_pcd_df['System'] == 'GPT-4', 'Publication date'].values[0]\n",
    "publication_date"
   ]
  },
  {
   "cell_type": "code",
   "execution_count": 98,
   "metadata": {},
   "outputs": [
    {
     "name": "stdout",
     "output_type": "stream",
     "text": [
      "Median: 5.2 [90% CI: 3.3, 7.8]\n",
      "Median: 12 [90% CI: 9.6, 14]\n"
     ]
    }
   ],
   "source": [
    "min_project_duration = 90 / 365  # training duration\n",
    "experiments_duration = []\n",
    "while len(experiments_duration) < N:\n",
    "    project_start_sample = lognorm_from_90_ci(dt2float(project_start_low), dt2float(project_start_high), 1)[0]\n",
    "    training_end_sample = lognorm_from_90_ci(dt2float(training_end_low), dt2float(training_end_high), 1)[0]\n",
    "    experiment_duration_sample = training_end_sample - project_start_sample\n",
    "    if experiment_duration_sample > min_project_duration:\n",
    "        experiments_duration.append(experiment_duration_sample)\n",
    "\n",
    "project_duration = []\n",
    "while len(project_duration) < N:\n",
    "    project_start_sample = lognorm_from_90_ci(dt2float(project_start_low), dt2float(project_start_high), 1)[0]\n",
    "    # Technical report said six months was spent on safety research, risk assessment, and iteration,\n",
    "    # which covers the time from the end of training to publication\n",
    "    project_duration_sample = dt2float(pd.to_datetime(publication_date)) - project_start_sample\n",
    "    if project_duration_sample > min_project_duration:\n",
    "        project_duration.append(project_duration_sample)\n",
    "\n",
    "experiments_duration = np.array(experiments_duration)\n",
    "project_duration = np.array(project_duration)\n",
    "print_median_and_ci(experiments_duration * 12)  # convert years to months\n",
    "print_median_and_ci(project_duration * 12)"
   ]
  },
  {
   "cell_type": "markdown",
   "metadata": {},
   "source": [
    "## Energy"
   ]
  },
  {
   "cell_type": "code",
   "execution_count": 99,
   "metadata": {},
   "outputs": [
    {
     "name": "stdout",
     "output_type": "stream",
     "text": [
      "Median: 7.8e+06 [95% CI: 3.1e+06, 2.2e+07]\n"
     ]
    }
   ],
   "source": [
    "energy_cost = get_hardware_cost_dist('GPT-4', 'Energy cost') * energy_price_uncertainty_factor\n",
    "print_median_and_ci(energy_cost, ci=[2.5, 97.5])"
   ]
  },
  {
   "cell_type": "markdown",
   "metadata": {},
   "source": [
    "## Personnel"
   ]
  },
  {
   "cell_type": "code",
   "execution_count": 100,
   "metadata": {},
   "outputs": [
    {
     "data": {
      "text/plain": [
       "{'Pretraining': {'Core contributors': ['Christopher Berner',\n",
       "   'Greg Brockman',\n",
       "   'Trevor Cai',\n",
       "   'David Farhi',\n",
       "   'Chris Hesse',\n",
       "   'Shantanu Jain',\n",
       "   'Kyle Kosic',\n",
       "   'Jakub Pachocki',\n",
       "   'Alex Paino',\n",
       "   'Mikhail Pavlov',\n",
       "   'Michael Petrov',\n",
       "   'Nick Ryder',\n",
       "   'Szymon Sidor',\n",
       "   'Nikolas Tezak',\n",
       "   'Phil Tillet',\n",
       "   'Amin Tootoonchian',\n",
       "   'Qiming Yuan',\n",
       "   'Wojciech Zaremba'],\n",
       "  'Compute cluster scaling': ['Christopher Berner',\n",
       "   'Oleg Boiko',\n",
       "   'Andrew Cann',\n",
       "   'Ben Chess',\n",
       "   'Christian Gibson',\n",
       "   'Mateusz Litwin',\n",
       "   'Emy Parparita',\n",
       "   'Henri Roussez',\n",
       "   'Eric Sigler',\n",
       "   'Akila Welihinda'],\n",
       "  'Data': ['Sandhini Agarwal',\n",
       "   'Suchir Balaji',\n",
       "   'Mo Bavarian',\n",
       "   'Che Chang',\n",
       "   'Sheila Dunning',\n",
       "   'Leo Gao',\n",
       "   'Jonathan Gordon',\n",
       "   'Peter Hoeschele',\n",
       "   'Shawn Jain',\n",
       "   'Shantanu Jain',\n",
       "   'Roger Jiang',\n",
       "   'Heewoo Jun',\n",
       "   'Łukasz Kaiser',\n",
       "   'Nitish Shirish Keskar',\n",
       "   'Jong Wook Kim',\n",
       "   'Aris Konstantinidis',\n",
       "   'Chak Ming Li',\n",
       "   'Todor Markov',\n",
       "   'Bianca Martin',\n",
       "   'David Mély',\n",
       "   'Oleg Murk',\n",
       "   'Hyeonwoo Noh',\n",
       "   'Long Ouyang',\n",
       "   'Alex Paino',\n",
       "   'Vitchyr Pong',\n",
       "   'Alec Radford',\n",
       "   'Nick Ryder',\n",
       "   'John Schulman',\n",
       "   'Daniel Selsam',\n",
       "   'Ian Sohl',\n",
       "   'Chelsea Voss',\n",
       "   'Lilian Weng',\n",
       "   'Clemens Winter',\n",
       "   'Tao Xu',\n",
       "   'Qiming Yuan',\n",
       "   'Wojciech Zaremba'],\n",
       "  'Distributed training infrastructure': ['Greg Brockman',\n",
       "   'Trevor Cai',\n",
       "   'Chris Hesse',\n",
       "   'Shantanu Jain',\n",
       "   'Yongjik Kim',\n",
       "   'Kyle Kosic',\n",
       "   'Mateusz Litwin',\n",
       "   'Jakub Pachocki',\n",
       "   'Mikhail Pavlov',\n",
       "   'Szymon Sidor',\n",
       "   'Nikolas Tezak',\n",
       "   'Madeleine Thompson',\n",
       "   'Amin Tootoonchian',\n",
       "   'Qiming Yuan'],\n",
       "  'Hardware correctness': ['Greg Brockman',\n",
       "   'Shantanu Jain',\n",
       "   'Kyle Kosic',\n",
       "   'Michael Petrov',\n",
       "   'Nikolas Tezak',\n",
       "   'Amin Tootoonchian',\n",
       "   'Chelsea Voss',\n",
       "   'Qiming Yuan'],\n",
       "  'Optimization & architecture': ['Igor Babuschkin',\n",
       "   'Mo Bavarian',\n",
       "   'Adrien Ecoffet',\n",
       "   'David Farhi',\n",
       "   'Jesse Han',\n",
       "   'Ingmar Kanitscheider',\n",
       "   'Daniel Levy',\n",
       "   'Jakub Pachocki',\n",
       "   'Alex Paino',\n",
       "   'Mikhail Pavlov',\n",
       "   'Nick Ryder',\n",
       "   'Szymon Sidor',\n",
       "   'Jie Tang',\n",
       "   'Jerry Tworek',\n",
       "   'Tao Xu'],\n",
       "  'Training run babysitting': ['Suchir Balaji',\n",
       "   'Mo Bavarian',\n",
       "   'Greg Brockman',\n",
       "   'Trevor Cai',\n",
       "   'Chris Hesse',\n",
       "   'Shantanu Jain',\n",
       "   'Roger Jiang',\n",
       "   'Yongjik Kim',\n",
       "   'Kyle Kosic',\n",
       "   'Mateusz Litwin',\n",
       "   'Jakub Pachocki',\n",
       "   'Alex Paino',\n",
       "   'Mikhail Pavlov',\n",
       "   'Michael Petrov',\n",
       "   'Nick Ryder',\n",
       "   'Szymon Sidor',\n",
       "   'Nikolas Tezak',\n",
       "   'Madeleine Thompson',\n",
       "   'Phil Tillet',\n",
       "   'Amin Tootoonchian',\n",
       "   'Chelsea Voss',\n",
       "   'Ben Wang',\n",
       "   'Tao Xu',\n",
       "   'Qiming Yuan']},\n",
       " 'Long context': {'Core contributors': ['Gabriel Goh',\n",
       "   'Łukasz Kaiser',\n",
       "   'Ben Wang',\n",
       "   'Clemens Winter'],\n",
       "  'Long context research': ['Mo Bavarian',\n",
       "   'Gabriel Goh',\n",
       "   'Heewoo Jun',\n",
       "   'Łukasz Kaiser',\n",
       "   'Chak Ming Li',\n",
       "   'Ben Wang',\n",
       "   'Clemens Winter'],\n",
       "  'Long context kernels': ['Phil Tillet']},\n",
       " 'Vision': {'Core contributors': ['Trevor Cai',\n",
       "   'Mark Chen',\n",
       "   'Casey Chu',\n",
       "   'Chris Hesse',\n",
       "   'Shengli Hu',\n",
       "   'Yongjik Kim',\n",
       "   'Jamie Kiros',\n",
       "   'Daniel Levy',\n",
       "   'Christine McLeavey',\n",
       "   'David Mély',\n",
       "   'Hyeonwoo Noh',\n",
       "   'Mikhail Pavlov',\n",
       "   'Raul Puri',\n",
       "   'Amin Tootoonchian'],\n",
       "  'Architecture research': ['Casey Chu',\n",
       "   'Jamie Kiros',\n",
       "   'Christine McLeavey',\n",
       "   'Hyeonwoo Noh',\n",
       "   'Raul Puri',\n",
       "   'Alec Radford',\n",
       "   'Aditya Ramesh'],\n",
       "  'Compute cluster scaling': ['Andrew Cann',\n",
       "   'Rory Carmichael',\n",
       "   'Christian Gibson',\n",
       "   'Henri Roussez',\n",
       "   'Akila Welihinda'],\n",
       "  'Distributed training infrastructure': ['Trevor Cai',\n",
       "   'Yunxing Dai',\n",
       "   'Chris Hesse',\n",
       "   'Brandon Houghton',\n",
       "   'Yongjik Kim',\n",
       "   'Łukasz Kondraciuk',\n",
       "   'Hyeonwoo Noh',\n",
       "   'Mikhail Pavlov',\n",
       "   'Raul Puri',\n",
       "   'Nikolas Tezak',\n",
       "   'Amin Tootoonchian',\n",
       "   'Tianhao Zheng'],\n",
       "  'Hardware correctness': ['Oleg Boiko',\n",
       "   'Trevor Cai',\n",
       "   'Michael Petrov',\n",
       "   'Alethea Power'],\n",
       "  'Data': ['Jong Wook Kim',\n",
       "   'David Mély',\n",
       "   'Reiichiro Nakano',\n",
       "   'Hyeonwoo Noh',\n",
       "   'Long Ouyang',\n",
       "   'Raul Puri',\n",
       "   'Pranav Shyam',\n",
       "   'Tao Xu'],\n",
       "  'Alignment data': ['Long Ouyang'],\n",
       "  'Training run babysitting': ['Trevor Cai',\n",
       "   'Kyle Kosic',\n",
       "   'Daniel Levy',\n",
       "   'David Mély',\n",
       "   'Reiichiro Nakano',\n",
       "   'Hyeonwoo Noh',\n",
       "   'Mikhail Pavlov',\n",
       "   'Raul Puri',\n",
       "   'Amin Tootoonchian'],\n",
       "  'Deployment & post-training': ['Ilge Akkaya',\n",
       "   'Mark Chen',\n",
       "   'Jamie Kiros',\n",
       "   'Rachel Lim',\n",
       "   'Reiichiro Nakano',\n",
       "   'Raul Puri',\n",
       "   'Jiayi Weng']},\n",
       " 'Reinforcement Learning & Alignment': {'Core contributors': ['Greg Brockman',\n",
       "   'Arka Dhar',\n",
       "   'Liam Fedus',\n",
       "   'Tarun Gogineni',\n",
       "   'Rapha Gontijo-Lopes',\n",
       "   'Joshua Gross',\n",
       "   'Johannes Heidecke',\n",
       "   'Joost Huizinga',\n",
       "   'Teddy Lee',\n",
       "   'Jan Leike',\n",
       "   'Ryan Lowe',\n",
       "   'Luke Metz',\n",
       "   'Long Ouyang',\n",
       "   'John Schulman',\n",
       "   'Jerry Tworek',\n",
       "   'Carroll Wainwright',\n",
       "   'Jonathan Ward',\n",
       "   'Jiayi Weng',\n",
       "   'Sarah Yoo',\n",
       "   'Wojciech Zaremba',\n",
       "   'Chong Zhang',\n",
       "   'Shengjia Zhao',\n",
       "   'Barret Zoph'],\n",
       "  'Dataset contributions': ['Diogo Almeida',\n",
       "   'Mo Bavarian',\n",
       "   'Juan Felipe Cerón Uribe',\n",
       "   'Tyna Eloundou',\n",
       "   'Liam Fedus',\n",
       "   'Tarun Gogineni',\n",
       "   'Rapha Gontijo-Lopes',\n",
       "   'Jonathan Gordon',\n",
       "   'Joost Huizinga',\n",
       "   'Shawn Jain',\n",
       "   'Roger Jiang',\n",
       "   'Łukasz Kaiser',\n",
       "   'Christina Kim',\n",
       "   'Jan Leike',\n",
       "   'Chak Ming Li',\n",
       "   'Stephanie Lin',\n",
       "   'Ryan Lowe',\n",
       "   'Jacob Menick',\n",
       "   'Luke Metz',\n",
       "   'Pamela Mishkin',\n",
       "   'Tong Mu',\n",
       "   'Oleg Murk',\n",
       "   'Ashvin Nair',\n",
       "   'Long Ouyang',\n",
       "   'Alex Passos',\n",
       "   'Michael (Rai) Pokorny',\n",
       "   'Vitchyr Pong',\n",
       "   'Shibani Santurkar',\n",
       "   'Daniel Selsam',\n",
       "   'Sarah Shoker',\n",
       "   'Carroll Wainwright',\n",
       "   'Matt Wiethoff',\n",
       "   'Jeff Wu',\n",
       "   'Kai Xiao',\n",
       "   'Kevin Yu',\n",
       "   'Marvin Zhang',\n",
       "   'Chong Zhang',\n",
       "   'William Zhuk',\n",
       "   'Barret Zoph'],\n",
       "  'Data infrastructure': ['Irwan Bello',\n",
       "   'Lenny Bogdonoff',\n",
       "   'Juan Felipe Cerón Uribe',\n",
       "   'Joshua Gross',\n",
       "   'Shawn Jain',\n",
       "   'Haozhun Jin',\n",
       "   'Christina Kim',\n",
       "   'Aris Konstantinidis',\n",
       "   'Teddy Lee',\n",
       "   'David Medina',\n",
       "   'Jacob Menick',\n",
       "   'Luke Metz',\n",
       "   'Ashvin Nair',\n",
       "   'Long Ouyang',\n",
       "   'Michael (Rai) Pokorny',\n",
       "   'Vitchyr Pong',\n",
       "   'John Schulman',\n",
       "   'Jonathan Ward',\n",
       "   'Jiayi Weng',\n",
       "   'Matt Wiethoff',\n",
       "   'Sarah Yoo',\n",
       "   'Kevin Yu',\n",
       "   'Wojciech Zaremba',\n",
       "   'William Zhuk',\n",
       "   'Barret Zoph'],\n",
       "  'ChatML format': ['Ilge Akkaya',\n",
       "   'Christina Kim',\n",
       "   'Chak Ming Li',\n",
       "   'Rachel Lim',\n",
       "   'Jacob Menick',\n",
       "   'Luke Metz',\n",
       "   'Andrey Mishchenko',\n",
       "   'Vitchyr Pong',\n",
       "   'John Schulman',\n",
       "   'Carroll Wainwright',\n",
       "   'Barret Zoph'],\n",
       "  'Model safety': ['Josh Achiam',\n",
       "   'Steven Adler',\n",
       "   'Juan Felipe Cerón Uribe',\n",
       "   'Hyung Won Chung',\n",
       "   'Tyna Eloundou',\n",
       "   'Rapha Gontijo-Lopes',\n",
       "   'Shixiang Shane Gu',\n",
       "   'Johannes Heidecke',\n",
       "   'Joost Huizinga',\n",
       "   'Teddy Lee',\n",
       "   'Jan Leike',\n",
       "   'Stephanie Lin',\n",
       "   'Ryan Lowe',\n",
       "   'Todor Markov',\n",
       "   'Luke Metz',\n",
       "   'Tong Mu',\n",
       "   'Shibani Santurkar',\n",
       "   'John Schulman',\n",
       "   'Andrea Vallone',\n",
       "   'Carroll Wainwright',\n",
       "   'Jason Wei',\n",
       "   'Lilian Weng',\n",
       "   'Kai Xiao',\n",
       "   'Chong Zhang',\n",
       "   'Marvin Zhang',\n",
       "   'Barret Zoph'],\n",
       "  'Refusals': ['Juan Felipe Cerón Uribe',\n",
       "   'Tyna Eloundou',\n",
       "   'Johannes Heidecke',\n",
       "   'Joost Huizinga',\n",
       "   'Jan Leike',\n",
       "   'Stephanie Lin',\n",
       "   'Ryan Lowe',\n",
       "   'Pamela Mishkin',\n",
       "   'Tong Mu',\n",
       "   'Carroll Wainwright',\n",
       "   'Lilian Weng',\n",
       "   'Kai Xiao',\n",
       "   'Chong Zhang',\n",
       "   'Barret Zoph'],\n",
       "  'Foundational RLHF and InstructGPT work': ['Diogo Almeida',\n",
       "   'Joost Huizinga',\n",
       "   'Roger Jiang',\n",
       "   'Jan Leike',\n",
       "   'Stephanie Lin',\n",
       "   'Ryan Lowe',\n",
       "   'Pamela Mishkin',\n",
       "   'Dan Mossing',\n",
       "   'Long Ouyang',\n",
       "   'Katarina Slama',\n",
       "   'Carroll Wainwright',\n",
       "   'Jeff Wu',\n",
       "   'Kai Xiao',\n",
       "   'Marvin Zhang'],\n",
       "  'Flagship training runs': ['Greg Brockman',\n",
       "   'Liam Fedus',\n",
       "   'Johannes Heidecke',\n",
       "   'Joost Huizinga',\n",
       "   'Roger Jiang',\n",
       "   'Kyle Kosic',\n",
       "   'Luke Metz',\n",
       "   'Ashvin Nair',\n",
       "   'Jiayi Weng',\n",
       "   'Chong Zhang',\n",
       "   'Shengjia Zhao',\n",
       "   'Barret Zoph'],\n",
       "  'Code capability': ['Ilge Akkaya',\n",
       "   'Mo Bavarian',\n",
       "   'Jonathan Gordon',\n",
       "   'Shawn Jain',\n",
       "   'Haozhun Jin',\n",
       "   'Teddy Lee',\n",
       "   'Chak Ming Li',\n",
       "   'Oleg Murk',\n",
       "   'Ashvin Nair',\n",
       "   'Vitchyr Pong',\n",
       "   'Benjamin Sokolowsky',\n",
       "   'Jerry Tworek',\n",
       "   'Matt Wiethoff',\n",
       "   'Sarah Yoo',\n",
       "   'Kevin Yu',\n",
       "   'Wojciech Zaremba',\n",
       "   'William Zhuk']},\n",
       " 'Evaluation & analysis': {'Core contributors': ['Sandhini Agarwal',\n",
       "   'Lama Ahmad',\n",
       "   'Mo Bavarian',\n",
       "   'Tyna Eloundou',\n",
       "   'Andrew Kondrich',\n",
       "   'Gretchen Krueger',\n",
       "   'Michael Lampe',\n",
       "   'Pamela Mishkin',\n",
       "   'Benjamin Sokolowsky',\n",
       "   'Jack Rae',\n",
       "   'Chelsea Voss',\n",
       "   'Alvin Wang',\n",
       "   'Kai Xiao',\n",
       "   'Marvin Zhang'],\n",
       "  'OpenAI Evals library': ['Shixiang Shane Gu',\n",
       "   'Angela Jiang',\n",
       "   'Logan Kilpatrick',\n",
       "   'Andrew Kondrich',\n",
       "   'Pamela Mishkin',\n",
       "   'Jakub Pachocki',\n",
       "   'Ted Sanders',\n",
       "   'Jessica Shieh',\n",
       "   'Alvin Wang',\n",
       "   'Marvin Zhang'],\n",
       "  'Model-graded evaluation infrastructure': ['Liam Fedus',\n",
       "   'Rapha Gontijo-Lopes',\n",
       "   'Shixiang Shane Gu',\n",
       "   'Andrew Kondrich',\n",
       "   'Michael (Rai) Pokorny',\n",
       "   'Wojciech Zaremba',\n",
       "   'Chong Zhang',\n",
       "   'Marvin Zhang',\n",
       "   'Shengjia Zhao',\n",
       "   'Barret Zoph'],\n",
       "  'Acceleration forecasting': ['Alan Hickey',\n",
       "   'Daniel Kokotajlo',\n",
       "   \"Cullen O'Keefe\",\n",
       "   'Sarah Shoker'],\n",
       "  'ChatGPT evaluations': ['Juan Felipe Cerón Uribe',\n",
       "   'Hyung Won Chung',\n",
       "   'Rapha Gontijo-Lopes',\n",
       "   'Liam Fedus',\n",
       "   'Luke Metz',\n",
       "   'Michael Rai Pokorny',\n",
       "   'Jason Wei',\n",
       "   'Shengjia Zhao',\n",
       "   'Barret Zoph'],\n",
       "  'Capability evaluations': ['Sully Chen',\n",
       "   'Tyna Eloundou',\n",
       "   'Shengli Hu',\n",
       "   'Roger Jiang',\n",
       "   'Jamie Kiros',\n",
       "   'Teddy Lee',\n",
       "   'Scott Mayer McKinney',\n",
       "   'Jakub Pachocki',\n",
       "   'Alex Paino',\n",
       "   'Giambattista Parascandolo',\n",
       "   'Boris Power',\n",
       "   'Raul Puri',\n",
       "   'Jack Rae',\n",
       "   'Nick Ryder',\n",
       "   'Ted Sanders',\n",
       "   'Szymon Sidor',\n",
       "   'Benjamin Sokolowsky',\n",
       "   'Chelsea Voss',\n",
       "   'Alvin Wang',\n",
       "   'Rowan Zellers',\n",
       "   'Juntang Zhuang'],\n",
       "  'Coding evaluations': ['Ilge Akkaya',\n",
       "   'Mo Bavarian',\n",
       "   'Jonathan Gordon',\n",
       "   'Shawn Jain',\n",
       "   'Chak Ming Li',\n",
       "   'Oleg Murk',\n",
       "   'Vitchyr Pong',\n",
       "   'Benjamin Sokolowsky',\n",
       "   'Jerry Tworek',\n",
       "   'Kevin Yu',\n",
       "   'Wojciech Zaremba'],\n",
       "  'Real-world use case evaluations': ['Andrew Kondrich',\n",
       "   'Joe Palermo',\n",
       "   'Boris Power',\n",
       "   'Ted Sanders'],\n",
       "  'Contamination investigations': ['Adrien Ecoffet',\n",
       "   'Roger Jiang',\n",
       "   'Ingmar Kanitscheider',\n",
       "   'Scott Mayer McKinney',\n",
       "   'Alex Paino',\n",
       "   'Giambattista Parascandolo',\n",
       "   'Jack Rae',\n",
       "   'Qiming Yuan'],\n",
       "  'Instruction following and API evals': ['Diogo Almeida',\n",
       "   'Carroll Wainwright',\n",
       "   'Marvin Zhang'],\n",
       "  'Novel capability discovery': ['Filipe de Avila Belbute Peres',\n",
       "   'Kevin Button',\n",
       "   'Fotis Chantzis',\n",
       "   'Mike Heaton',\n",
       "   'Wade Hickey',\n",
       "   'Xin Hu',\n",
       "   'Andrew Kondrich',\n",
       "   'Matt Knight',\n",
       "   'Andrew Mayne',\n",
       "   'Jake McNeil',\n",
       "   'Vinnie Monaco',\n",
       "   'Joe Palermo',\n",
       "   'Joel Parish',\n",
       "   'Boris Power',\n",
       "   'Bob Rotsted',\n",
       "   'Ted Sanders'],\n",
       "  'Vision evaluations': ['Shixiang Shane Gu',\n",
       "   'Shengli Hu',\n",
       "   'Jamie Kiros',\n",
       "   'Hyeonwoo Noh',\n",
       "   'Raul Puri',\n",
       "   'Rowan Zellers'],\n",
       "  'Economic impact evaluation': ['Tyna Eloundou',\n",
       "   'Sam Manning',\n",
       "   'Aalok Mehta',\n",
       "   'Pamela Mishkin'],\n",
       "  'Non-proliferation, international humanitarian law & national security red teaming': ['Sarah Shoker'],\n",
       "  'Overreliance analysis': ['Miles Brundage',\n",
       "   'Michael Lampe',\n",
       "   'Pamela Mishkin'],\n",
       "  'Privacy and PII evaluations': ['Michael Lampe',\n",
       "   'Vinnie Monaco',\n",
       "   'Ashley Pantuliano'],\n",
       "  'Safety and policy evaluations': ['Josh Achiam',\n",
       "   'Sandhini Agarwal',\n",
       "   'Lama Ahmad',\n",
       "   'Jeff Belgum',\n",
       "   'Tyna Eloundou',\n",
       "   'Johannes Heidecke',\n",
       "   'Shengli Hu',\n",
       "   'Joost Huizinga',\n",
       "   'Jamie Kiros',\n",
       "   'Gretchen Krueger',\n",
       "   'Michael Lampe',\n",
       "   'Stephanie Lin',\n",
       "   'Ryan Lowe',\n",
       "   'Todor Markov',\n",
       "   'Vinnie Monaco',\n",
       "   'Tong Mu',\n",
       "   'Raul Puri',\n",
       "   'Girish Sastry',\n",
       "   'Andrea Vallone',\n",
       "   'Carroll Wainwright',\n",
       "   'CJ Weinmann',\n",
       "   'Lilian Weng',\n",
       "   'Kai Xiao',\n",
       "   'Chong Zhang'],\n",
       "  'OpenAI adversarial testers': ['Josh Achiam',\n",
       "   'Steven Adler',\n",
       "   'Lama Ahmad',\n",
       "   'Shyamal Anadkat',\n",
       "   'Red Avila',\n",
       "   'Gabriel Bernadett-Shapiro',\n",
       "   'Anna-Luisa Brakman',\n",
       "   'Tim Brooks',\n",
       "   'Miles Brundage',\n",
       "   'Chelsea Carlson',\n",
       "   'Derek Chen',\n",
       "   'Hyung Won Chung',\n",
       "   'Jeremiah Currier',\n",
       "   'Daniel Kokotajlo',\n",
       "   'David Dohan',\n",
       "   'Adrien Ecoffet',\n",
       "   'Vik Goel',\n",
       "   'Ryan Greene',\n",
       "   'Johannes Heidecke',\n",
       "   'Alan Hickey',\n",
       "   'Shengli Hu',\n",
       "   'Joost Huizinga',\n",
       "   'Janko',\n",
       "   'Tomer Kaftan',\n",
       "   'Ali Kamali',\n",
       "   'Nitish Shirish Keskar',\n",
       "   'Tabarak Khan',\n",
       "   'Hendrik Kirchner',\n",
       "   'Daniel Kokotajlo',\n",
       "   'Gretchen Krueger',\n",
       "   'Michael Lampe',\n",
       "   'Teddy Lee',\n",
       "   'Molly Lin',\n",
       "   'Ryan Lowe',\n",
       "   'Todor Markov',\n",
       "   'Jake McNeil',\n",
       "   'Pamela Mishkin',\n",
       "   'Vinnie Monaco',\n",
       "   'Daniel Mossing',\n",
       "   'Tong Mu',\n",
       "   'Oleg Murk',\n",
       "   \"Cullen O'Keefe\",\n",
       "   'Joe Palermo',\n",
       "   'Giambattista Parascandolo',\n",
       "   'Joel Parish',\n",
       "   'Boris Power',\n",
       "   'Alethea Power',\n",
       "   'Cameron Raymond',\n",
       "   'Francis Real',\n",
       "   'Bob Rotsted',\n",
       "   'Mario Salterelli',\n",
       "   'Sam Wolrich',\n",
       "   'Ted Sanders',\n",
       "   'Girish Sastry',\n",
       "   'Sarah Shoker',\n",
       "   'Shyamal Anadkat',\n",
       "   'Yang Song',\n",
       "   'Natalie Staudacher',\n",
       "   'Madeleine Thompson',\n",
       "   'Elizabeth Tseng',\n",
       "   'Chelsea Voss',\n",
       "   'Jason Wei',\n",
       "   'Chong Zhang'],\n",
       "  'System card & broader impacts analysis': ['Steven Adler',\n",
       "   'Sandhini Agarwal',\n",
       "   'Lama Ahmad',\n",
       "   'Janko Altenschmidt',\n",
       "   'Jeff Belgum',\n",
       "   'Gabriel Bernadett-Shapiro',\n",
       "   'Miles Brundage',\n",
       "   'Derek Chen',\n",
       "   'Tyna Eloundou',\n",
       "   'Liam Fedus',\n",
       "   'Leo Gao',\n",
       "   'Vik Goel',\n",
       "   'Johannes Heidecke',\n",
       "   'Alan Hickey',\n",
       "   'Shengli Hu',\n",
       "   'Joost Huizinga',\n",
       "   'Daniel Kokotajlo',\n",
       "   'Gretchen Krueger',\n",
       "   'Michael Lampe',\n",
       "   'Jade Leung',\n",
       "   'Stephanie Lin',\n",
       "   'Ryan Lowe',\n",
       "   'Kim Malfacini',\n",
       "   'Todor Markov',\n",
       "   'Bianca Martin',\n",
       "   'Aalok Mehta',\n",
       "   'Pamela Mishkin',\n",
       "   'Tong Mu',\n",
       "   'Richard Ngo',\n",
       "   \"Cullen O'Keefe\",\n",
       "   'Joel Parish',\n",
       "   'Rai Pokorny',\n",
       "   'Bob Rotsted',\n",
       "   'Girish Sastry',\n",
       "   'Sarah Shoker',\n",
       "   'Andrea Vallone',\n",
       "   'Carroll Wainwright',\n",
       "   'CJ Weinmann',\n",
       "   'Lilian Weng',\n",
       "   'Dave Willner',\n",
       "   'Kai Xiao',\n",
       "   'Chong Zhang']},\n",
       " 'Deployment': {'Core contributors': ['Steven Adler',\n",
       "   'Sandhini Agarwal',\n",
       "   'Derek Chen',\n",
       "   'Atty Eleti',\n",
       "   'Joanne Jang',\n",
       "   'Angela Jiang',\n",
       "   'Tomer Kaftan',\n",
       "   'Rachel Lim',\n",
       "   'Kim Malfacini',\n",
       "   'Bianca Martin',\n",
       "   'Evan Morikawa',\n",
       "   'Henrique Ponde de Oliveira Pinto',\n",
       "   'Heather Schmidt',\n",
       "   'Maddie Simens',\n",
       "   'Felipe Petroski Such',\n",
       "   'Andrea Vallone',\n",
       "   'Lilian Weng',\n",
       "   'Dave Willner',\n",
       "   'Michael Wu'],\n",
       "  'Inference research': ['Paul Baltescu',\n",
       "   'Scott Gray',\n",
       "   'Yuchen He',\n",
       "   'Arvind Neelakantan',\n",
       "   'Michael Wu'],\n",
       "  'GPT-4 API & ChatML deployment': ['Greg Brockman',\n",
       "   'Brooke Chan',\n",
       "   'Chester Cho',\n",
       "   'Atty Eleti',\n",
       "   'Rachel Lim',\n",
       "   'Andrew Peng',\n",
       "   'Michelle Pokrass',\n",
       "   'Sherwin Wu'],\n",
       "  'GPT-4 web experience': ['Valerie Balcom',\n",
       "   'Lenny Bogdonoff',\n",
       "   'Jason Chen',\n",
       "   'Dave Cummings',\n",
       "   'Noah Deutsch',\n",
       "   'Mike Heaton',\n",
       "   'Paul McMillan',\n",
       "   'Rajeev Nayak',\n",
       "   'Joel Parish',\n",
       "   'Adam Perelman',\n",
       "   'Eric Sigler',\n",
       "   'Nick Turley',\n",
       "   'Arun Vijayvergiya',\n",
       "   'Chelsea Voss'],\n",
       "  'Inference infrastructure': ['Brooke Chan',\n",
       "   'Scott Gray',\n",
       "   'Chris Hallacy',\n",
       "   'Kenny Hsu',\n",
       "   'Tomer Kaftan',\n",
       "   'Rachel Lim',\n",
       "   'Henrique Ponde de Oliveira Pinto',\n",
       "   'Raul Puri',\n",
       "   'Heather Schmidt',\n",
       "   'Felipe Petroski Such'],\n",
       "  'Reliability engineering': ['Haiming Bao',\n",
       "   'Madelaine Boyd',\n",
       "   'Ben Chess',\n",
       "   'Damien Deville',\n",
       "   'Yufei Guo',\n",
       "   'Vishal Kuo',\n",
       "   'Ikai Lan',\n",
       "   'Michelle Pokrass',\n",
       "   'Carl Ross',\n",
       "   'David Schnurr',\n",
       "   'Jordan Sitkin',\n",
       "   'Felipe Petroski Such'],\n",
       "  'Trust & safety engineering': ['Jeff Belgum', 'Madelaine Boyd', 'Vik Goel'],\n",
       "  'Trust & safety monitoring and response': ['Janko Altenschmidt',\n",
       "   'Anna-Luisa Brakman',\n",
       "   'Derek Chen',\n",
       "   'Florencia Leoni Aleman',\n",
       "   'Molly Lin',\n",
       "   'Cameron Raymond',\n",
       "   'CJ Weinmann',\n",
       "   'Dave Willner',\n",
       "   'Samuel Wolrich'],\n",
       "  'Trust & safety policy': ['Rosie Campbell',\n",
       "   'Kim Malfacini',\n",
       "   'Andrea Vallone',\n",
       "   'Dave Willner'],\n",
       "  'Deployment compute': ['Peter Hoeschele', 'Evan Morikawa'],\n",
       "  'Product management': ['Jeff Harris', 'Joanne Jang', 'Angela Jiang']},\n",
       " 'Additional contributions': {'General': ['Sam Altman',\n",
       "   'Katie Mayer',\n",
       "   'Bob McGrew',\n",
       "   'Mira Murati',\n",
       "   'Ilya Sutskever',\n",
       "   'Peter Welinder'],\n",
       "  'Blog post & paper content': ['Sandhini Agarwal',\n",
       "   'Greg Brockman',\n",
       "   'Miles Brundage',\n",
       "   'Adrien Ecoffet',\n",
       "   'Tyna Eloundou',\n",
       "   'David Farhi',\n",
       "   'Johannes Heidecke',\n",
       "   'Shengli Hu',\n",
       "   'Joost Huizinga',\n",
       "   'Roger Jiang',\n",
       "   'Gretchen Krueger',\n",
       "   'Jan Leike',\n",
       "   'Daniel Levy',\n",
       "   'Stephanie Lin',\n",
       "   'Ryan Lowe',\n",
       "   'Tong Mu',\n",
       "   'Hyeonwoo Noh',\n",
       "   'Jakub Pachocki',\n",
       "   'Jack Rae',\n",
       "   'Kendra Rimbach',\n",
       "   'Shibani Santurkar',\n",
       "   'Szymon Sidor',\n",
       "   'Benjamin Sokolowsky',\n",
       "   'Jie Tang',\n",
       "   'Chelsea Voss',\n",
       "   'Kai Xiao',\n",
       "   'Rowan Zellers',\n",
       "   'Chong Zhang',\n",
       "   'Marvin Zhang'],\n",
       "  'Communications': ['Ruby Chen',\n",
       "   'Cory Decareaux',\n",
       "   'Thomas Degry',\n",
       "   'Steve Dowling',\n",
       "   'Niko Felix',\n",
       "   'Elie Georges',\n",
       "   'Anna Makanju',\n",
       "   'Andrew Mayne',\n",
       "   'Aalok Mehta',\n",
       "   'Elizabeth Proehl',\n",
       "   'Kendra Rimbach',\n",
       "   'Natalie Summers',\n",
       "   'Justin Jay Wang',\n",
       "   'Hannah Wong'],\n",
       "  'Compute allocation support': ['Theresa Lopez', 'Elizabeth Tseng'],\n",
       "  'Contracting, revenue, pricing, & finance support': ['Brooke Chan',\n",
       "   'Denny Jin',\n",
       "   'Billie Jonn',\n",
       "   'Patricia Lue',\n",
       "   'Kyla Sheppard',\n",
       "   'Lauren Workman'],\n",
       "  'Launch partners & product operations': ['Filipe de Avila Belbute Peres',\n",
       "   'Brittany Carey',\n",
       "   'Simón Posada Fishman',\n",
       "   'Isabella Fulford',\n",
       "   'Teddy Lee',\n",
       "   'Yaniv Markovski',\n",
       "   'Tolly Powell',\n",
       "   'Toki Sherbakov',\n",
       "   'Jessica Shieh',\n",
       "   'Natalie Staudacher',\n",
       "   'Preston Tuggle'],\n",
       "  'Legal': ['Jake Berdine',\n",
       "   'Che Chang',\n",
       "   'Sheila Dunning',\n",
       "   'Ashley Pantuliano'],\n",
       "  'Security & privacy engineering': ['Kevin Button',\n",
       "   'Fotis Chantzis',\n",
       "   'Wade Hickey',\n",
       "   'Xin Hu',\n",
       "   'Shino Jomoto',\n",
       "   'Matt Knight',\n",
       "   'Jake McNeil',\n",
       "   'Vinnie Monaco',\n",
       "   'Joel Parish',\n",
       "   'Bob Rotsted'],\n",
       "  'System administration & on-call support': ['Morgan Grafstein',\n",
       "   'Francis Real',\n",
       "   'Mario Saltarelli'],\n",
       "  'Authorship & credit attribution': ['David Farhi']}}"
      ]
     },
     "execution_count": 100,
     "metadata": {},
     "output_type": "execute_result"
    }
   ],
   "source": [
    "# Load file: data/gpt-4_contributions.json\n",
    "with open('data/gpt-4_contributions.json') as f:\n",
    "    gpt_4_contributions = json.load(f)\n",
    "gpt_4_contributions"
   ]
  },
  {
   "cell_type": "code",
   "execution_count": 101,
   "metadata": {},
   "outputs": [
    {
     "data": {
      "text/plain": [
       "284"
      ]
     },
     "execution_count": 101,
     "metadata": {},
     "output_type": "execute_result"
    }
   ],
   "source": [
    "unique_contributors = set()\n",
    "for category in gpt_4_contributions.values():\n",
    "    for group in category.values():\n",
    "        for contributor in group:\n",
    "            unique_contributors.add(contributor)\n",
    "len(unique_contributors)"
   ]
  },
  {
   "cell_type": "code",
   "execution_count": 102,
   "metadata": {},
   "outputs": [],
   "source": [
    "num_contributors = len(unique_contributors)"
   ]
  },
  {
   "cell_type": "code",
   "execution_count": 103,
   "metadata": {},
   "outputs": [],
   "source": [
    "total_salaries = np.zeros(N)\n",
    "for i in range(N):\n",
    "    # For each i, each contributor is assigned a random FTE workload, salary, and overhead\n",
    "    # A given contributor plausibly spent anywhere from 10% to 90% of their time on this\n",
    "    ftes = lognorm_from_90_ci(0.05, 0.8, num_contributors)\n",
    "    salary = lognorm_from_90_ci(compensation_low, compensation_high, num_contributors)\n",
    "    overhead = lognorm_from_90_ci(compensation_overhead_low, compensation_overhead_high, num_contributors)\n",
    "    salary *= ftes\n",
    "    salary *= overhead\n",
    "    total_salaries[i] = salary.sum()"
   ]
  },
  {
   "cell_type": "code",
   "execution_count": 104,
   "metadata": {},
   "outputs": [],
   "source": [
    "personnel_cost = total_salaries * project_duration"
   ]
  },
  {
   "cell_type": "code",
   "execution_count": 105,
   "metadata": {},
   "outputs": [
    {
     "name": "stdout",
     "output_type": "stream",
     "text": [
      "Median: 6.1e+07 [95% CI: 4.5e+07, 7.9e+07]\n"
     ]
    }
   ],
   "source": [
    "print_median_and_ci(personnel_cost, ci=[2.5, 97.5])"
   ]
  },
  {
   "cell_type": "markdown",
   "metadata": {},
   "source": [
    "## Overall"
   ]
  },
  {
   "cell_type": "code",
   "execution_count": 106,
   "metadata": {},
   "outputs": [],
   "source": [
    "cost_data['GPT-4'] = {\n",
    "    'AI accelerator chip cost': get_hardware_cost_dist('GPT-4', 'AI accelerator chip cost'),\n",
    "    'Other server components cost': get_hardware_cost_dist('GPT-4', 'Other server components cost'),\n",
    "    'Cluster-level interconnect cost': get_hardware_cost_dist('GPT-4', 'Cluster-level interconnect cost'),\n",
    "    'Energy cost': energy_cost,\n",
    "    'R&D staff cost': personnel_cost,\n",
    "}"
   ]
  },
  {
   "cell_type": "markdown",
   "metadata": {},
   "source": [
    "# Gemini Ultra"
   ]
  },
  {
   "cell_type": "markdown",
   "metadata": {},
   "source": [
    "See https://colab.research.google.com/drive/1XEKlSo-3DCFp686yGOwwfS6_DEHsFimd#scrollTo=yqWMux2iZL8L"
   ]
  },
  {
   "cell_type": "code",
   "execution_count": 107,
   "metadata": {},
   "outputs": [],
   "source": [
    "amortized_hardware_cost = lognorm_from_90_ci(5.9e6, 1.1e8, N)\n",
    "server_cost = amortized_hardware_cost / 1.15\n",
    "ai_accelerator_chip_cost = server_cost / 1.64\n",
    "other_server_components_cost = server_cost - ai_accelerator_chip_cost\n",
    "cluster_level_interconnect_cost = amortized_hardware_cost - server_cost"
   ]
  },
  {
   "cell_type": "code",
   "execution_count": 108,
   "metadata": {},
   "outputs": [
    {
     "name": "stdout",
     "output_type": "stream",
     "text": [
      "Median: 6.3e+06 [90% CI: 2.8e+06, 1.7e+07]\n",
      "Median: 0.46 [90% CI: 0.16, 1.4]\n"
     ]
    }
   ],
   "source": [
    "# Training time - from Gemini compute notebook\n",
    "percentile_5th = 1*31*24*3600 # 5th percentile in seconds\n",
    "percentile_95th = 6*31*24*3600  # 95th percentile in seconds\n",
    "training_time_seconds = lognorm_from_90_ci(percentile_5th, percentile_95th, N)\n",
    "print_median_and_ci(training_time_seconds)\n",
    "\n",
    "experiments_duration_seconds = training_time_seconds * experiment_factor\n",
    "experiments_duration_hours = experiments_duration_seconds / 3600\n",
    "experiments_duration_years = experiments_duration_hours / (365.25 * 24)\n",
    "print_median_and_ci(experiments_duration_years)"
   ]
  },
  {
   "cell_type": "code",
   "execution_count": 109,
   "metadata": {},
   "outputs": [
    {
     "name": "stdout",
     "output_type": "stream",
     "text": [
      "Median: 6.4e+04 [90% CI: 5.1e+04, 7.6e+04]\n"
     ]
    }
   ],
   "source": [
    "chips_per_pod = 4096\n",
    "number_of_pods = np.random.uniform(12, 19, N)\n",
    "number_of_chips = number_of_pods * chips_per_pod\n",
    "print_median_and_ci(number_of_chips)"
   ]
  },
  {
   "cell_type": "code",
   "execution_count": 110,
   "metadata": {},
   "outputs": [
    {
     "name": "stdout",
     "output_type": "stream",
     "text": [
      "Median: 5.6e+06 [90% CI: 1.8e+06, 2e+07]\n"
     ]
    }
   ],
   "source": [
    "hardware_model = 'Google TPU v4'\n",
    "organization = 'Google'\n",
    "\"\"\"\n",
    "https://cloud.google.com/blog/topics/systems/tpu-v4-enables-performance-energy-and-co2e-efficiency-gains\n",
    "\"Google's Cloud TPU v4 outperforms TPU v3 by 2.1x on average on a per-chip basis and improves performance/Watt by 2.7x.\"\n",
    "TPU v3 performance per Watt: 123 TFLOPS / 450W = 0.273 TFLOPS/W\n",
    "0.273 * 2.7 = 0.738 TFLOPS/W\n",
    "TPU v4 is 275 TFLOPS => 275 / 0.738 = 373W\n",
    "\"\"\"\n",
    "chip_TDP_kw = 373 / 1000\n",
    "# Adjust for whole server power draw (CPUs, memory, cooling)\n",
    "server_TDP_kw = chip_TDP_kw * chip_to_server_power(hardware_model)\n",
    "# Adjust for average power draw\n",
    "server_power_kw = server_TDP_kw * server_TDP_fraction(hardware_model)\n",
    "# Adjust for data center power distribution and cooling\n",
    "adj_server_power_kw = server_power_kw * power_usage_effectiveness(organization)\n",
    "cluster_kwh = adj_server_power_kw * number_of_chips * experiments_duration_hours\n",
    "\n",
    "cost_per_kwh = energy_price(2023) * energy_price_uncertainty_factor\n",
    "energy_cost = cluster_kwh * cost_per_kwh\n",
    "print_median_and_ci(energy_cost)"
   ]
  },
  {
   "cell_type": "code",
   "execution_count": 111,
   "metadata": {},
   "outputs": [],
   "source": [
    "personnel_cost = lognorm_from_90_ci(9.7e7, 2.7e8, N)"
   ]
  },
  {
   "cell_type": "code",
   "execution_count": 112,
   "metadata": {},
   "outputs": [
    {
     "data": {
      "text/plain": [
       "{'AI accelerator chip cost': array([1.55668215e+07, 1.34239912e+07, 1.21213182e+06, 2.26012162e+07,\n",
       "        2.84486104e+06, 1.60009393e+07, 1.23230172e+07, 1.07545499e+07,\n",
       "        3.11059800e+06, 8.01564121e+07, 1.52808965e+07, 4.44503607e+07,\n",
       "        2.13114898e+07, 3.96036149e+06, 5.64193999e+07, 6.56749742e+06,\n",
       "        1.85006880e+07, 1.57101811e+07, 7.81767763e+06, 4.44494873e+06,\n",
       "        4.71991071e+07, 1.27026328e+07, 2.94445911e+07, 1.01102866e+08,\n",
       "        1.64900882e+07, 9.00418584e+06, 9.89778828e+06, 1.79604182e+06,\n",
       "        9.13216918e+06, 1.32279018e+07, 7.16844478e+06, 1.72195616e+07,\n",
       "        2.83071683e+07, 5.08222651e+06, 3.37738711e+07, 1.13552854e+07,\n",
       "        1.26502364e+07, 5.65854971e+06, 1.43676959e+07, 4.46674098e+07,\n",
       "        1.55496001e+07, 3.86481025e+07, 2.23005084e+07, 4.54979434e+07,\n",
       "        3.52389777e+06, 2.54572102e+07, 9.38627170e+06, 1.06564538e+07,\n",
       "        7.30980848e+06, 3.73486543e+07, 9.21958090e+06, 3.16359712e+07,\n",
       "        4.07946004e+07, 5.60716268e+06, 1.85279027e+07, 4.81330910e+07,\n",
       "        1.03415647e+07, 9.84485067e+06, 3.15537238e+07, 6.24161296e+06,\n",
       "        2.88143808e+07, 1.11115614e+07, 2.22117038e+07, 1.46662494e+07,\n",
       "        9.67836746e+06, 6.11954349e+07, 5.38968890e+07, 5.96261231e+06,\n",
       "        1.98559057e+07, 1.68617252e+07, 1.71203580e+07, 1.28758725e+07,\n",
       "        7.34528157e+06, 2.46022300e+07, 4.18999912e+06, 6.25593431e+06,\n",
       "        1.82967702e+07, 2.26432829e+07, 2.56357881e+07, 2.83069133e+07,\n",
       "        4.47705162e+07, 4.39491762e+07, 5.34008875e+06, 9.71633559e+06,\n",
       "        2.75403976e+07, 2.32441201e+07, 3.29510990e+07, 5.38803014e+07,\n",
       "        3.31909426e+07, 1.37748483e+07, 7.16980580e+06, 2.28450727e+07,\n",
       "        3.12042221e+07, 5.04045015e+06, 3.25479419e+07, 4.50103730e+07,\n",
       "        6.38003777e+07, 1.22632894e+07, 3.54142384e+07, 2.13285687e+06,\n",
       "        1.27249487e+07, 3.81204742e+07, 3.74881592e+06, 1.30756524e+07,\n",
       "        1.40492764e+07, 1.19111175e+07, 3.97563630e+07, 2.36358614e+07,\n",
       "        1.23884948e+07, 1.17050177e+07, 6.20503649e+06, 1.47975575e+07,\n",
       "        3.95959587e+06, 1.51060554e+07, 1.31318592e+07, 3.02519798e+06,\n",
       "        2.51390295e+06, 1.19278538e+07, 6.43245508e+07, 1.92533294e+06,\n",
       "        4.98830019e+07, 2.45826452e+06, 4.84613854e+06, 1.67219622e+07,\n",
       "        6.21517971e+07, 8.17258700e+06, 2.80805427e+06, 2.53830757e+07,\n",
       "        3.47141552e+07, 7.26896848e+06, 9.87311634e+06, 2.60257095e+07,\n",
       "        7.49840637e+06, 1.81672832e+07, 8.02585044e+06, 2.73397497e+07,\n",
       "        4.86912905e+06, 7.20535318e+06, 1.07144072e+08, 2.11469569e+07,\n",
       "        3.50997002e+06, 1.24619953e+07, 1.85327801e+07, 2.47233525e+07,\n",
       "        1.40163862e+07, 5.31494617e+06, 7.94696408e+06, 1.13836849e+07,\n",
       "        5.36607520e+06, 1.44556568e+07, 6.55346452e+06, 7.64504061e+06,\n",
       "        8.07240369e+06, 2.29858368e+07, 2.36780449e+06, 2.54792437e+07,\n",
       "        1.32063893e+07, 1.45336358e+06, 1.13165851e+07, 1.11791199e+07,\n",
       "        2.58281082e+07, 5.60946755e+06, 2.13918842e+07, 2.52669412e+07,\n",
       "        1.00282229e+07, 1.04117955e+07, 1.14956466e+07, 8.34516904e+06,\n",
       "        2.46361239e+07, 2.88861908e+07, 2.29775767e+07, 4.67059968e+06,\n",
       "        2.32241600e+06, 8.41214571e+06, 4.02781643e+06, 2.78299756e+06,\n",
       "        6.26433018e+07, 2.65200370e+07, 4.70642973e+06, 1.24667658e+07,\n",
       "        9.49422898e+06, 1.38302545e+07, 7.18504716e+06, 2.90228695e+07,\n",
       "        2.42353027e+06, 6.10441651e+06, 9.93537993e+06, 5.43337704e+06,\n",
       "        2.12476496e+07, 3.77259515e+06, 2.62825825e+07, 7.72289742e+06,\n",
       "        6.91720416e+06, 4.69213281e+06, 1.90693393e+07, 5.30965575e+07,\n",
       "        1.88083854e+07, 1.30438827e+07, 4.13752295e+06, 2.08461901e+07,\n",
       "        6.45365031e+06, 1.16673144e+07, 4.83310116e+06, 2.34593138e+07,\n",
       "        1.78583051e+07, 1.43167899e+07, 5.06522034e+07, 7.25271547e+06,\n",
       "        1.41309782e+07, 1.18335629e+07, 1.77500759e+07, 1.23912083e+07,\n",
       "        7.03085885e+06, 1.38837662e+07, 8.02447545e+06, 1.70794814e+07,\n",
       "        2.79406701e+06, 6.21932707e+06, 4.62225102e+06, 1.49153351e+07,\n",
       "        1.25269174e+07, 4.04919832e+06, 1.55551647e+07, 1.25457644e+07,\n",
       "        2.70871872e+07, 6.75887891e+07, 1.64566529e+08, 5.36421431e+07,\n",
       "        1.04338816e+07, 3.19002586e+07, 1.91442113e+07, 7.94775262e+06,\n",
       "        5.20219392e+06, 5.81902184e+07, 5.77040547e+06, 2.92149745e+06,\n",
       "        5.34418053e+07, 1.46627299e+07, 2.59773938e+07, 5.50958768e+06,\n",
       "        1.98019358e+07, 2.22644800e+07, 2.18059873e+07, 2.87922367e+07,\n",
       "        1.60019286e+07, 9.96562837e+06, 1.51096053e+07, 3.76776631e+07,\n",
       "        7.91493883e+06, 1.11471741e+07, 1.82088564e+07, 6.54011675e+06,\n",
       "        6.47355073e+06, 9.77337631e+06, 1.09639760e+08, 1.33367021e+06,\n",
       "        5.75758011e+06, 1.69226044e+07, 1.19840913e+07, 2.03664183e+07,\n",
       "        8.42194067e+06, 6.81621843e+06, 7.85267536e+06, 4.64191959e+06,\n",
       "        3.76398843e+06, 1.77226980e+07, 3.04167826e+07, 6.36324803e+05,\n",
       "        8.73268521e+06, 5.66854999e+07, 9.23074416e+06, 6.89646944e+06,\n",
       "        2.46269596e+07, 1.45580030e+07, 4.02530720e+07, 1.40953789e+07,\n",
       "        5.72366722e+06, 4.31360009e+07, 1.69649137e+07, 1.00576981e+07,\n",
       "        8.83895444e+06, 1.30055321e+07, 1.59199454e+07, 2.62983787e+07,\n",
       "        9.59309734e+06, 3.51113997e+07, 1.17112139e+07, 8.65942590e+06,\n",
       "        9.88259566e+06, 1.19656386e+07, 1.23819586e+07, 1.17511619e+07,\n",
       "        9.31977944e+06, 2.67511376e+07, 1.86523599e+07, 1.20114319e+07,\n",
       "        2.04728744e+07, 1.02815893e+07, 2.13439391e+07, 1.38702592e+07,\n",
       "        4.17313564e+06, 8.42994141e+06, 3.81452688e+07, 9.65131580e+06,\n",
       "        2.59048003e+07, 5.66476586e+06, 1.46975544e+07, 2.27761447e+07,\n",
       "        3.29100684e+07, 1.63955579e+07, 3.08169040e+07, 3.12057804e+06,\n",
       "        3.77143996e+07, 1.57528871e+07, 3.35721526e+06, 5.02390034e+06,\n",
       "        1.04126476e+07, 9.42651461e+07, 7.93264270e+06, 2.66400754e+07,\n",
       "        2.38697457e+07, 1.64226298e+07, 7.20695605e+06, 1.46181414e+07,\n",
       "        1.30173974e+08, 1.09524951e+07, 8.71646391e+06, 4.61099075e+06,\n",
       "        8.47164058e+06, 1.66437645e+07, 6.21894309e+06, 1.11926875e+08,\n",
       "        5.57162621e+06, 1.83001924e+07, 6.71068607e+06, 4.79108870e+06,\n",
       "        1.05411758e+07, 1.21779136e+07, 6.11052294e+06, 4.29713377e+06,\n",
       "        1.67048486e+07, 1.65984077e+07, 1.50622897e+07, 1.70187893e+07,\n",
       "        1.06818592e+08, 1.37353707e+07, 1.92454946e+06, 1.45885399e+07,\n",
       "        5.07449250e+07, 7.90058631e+07, 2.07992714e+07, 1.10614130e+07,\n",
       "        1.88257929e+07, 4.64259656e+06, 6.06295953e+06, 4.93626225e+06,\n",
       "        4.97004295e+06, 3.07984076e+07, 1.07159430e+07, 2.71974960e+07,\n",
       "        5.32016061e+06, 1.10153204e+07, 3.30876347e+07, 1.19026411e+07,\n",
       "        6.59160692e+06, 1.26092261e+07, 3.07072823e+06, 8.72116835e+06,\n",
       "        1.23455114e+07, 1.42849427e+07, 4.47757538e+06, 1.41924541e+07,\n",
       "        2.50369513e+07, 4.24450234e+07, 1.46535937e+07, 6.05729296e+06,\n",
       "        1.07904564e+07, 3.43058490e+06, 1.04483526e+07, 3.66904597e+06,\n",
       "        1.24223746e+07, 4.97378429e+06, 2.46160983e+06, 3.76723004e+07,\n",
       "        2.28102616e+07, 3.18623853e+07, 1.88271152e+07, 9.16363468e+06,\n",
       "        1.07869626e+07, 4.74365278e+06, 1.27226560e+07, 2.06310710e+07,\n",
       "        7.03164576e+06, 1.30631335e+07, 4.47085296e+07, 4.60033349e+07,\n",
       "        3.34060119e+07, 8.57756534e+06, 3.44378079e+07, 2.17167683e+07,\n",
       "        1.82873575e+07, 5.24115420e+06, 3.19023514e+07, 2.35325758e+07,\n",
       "        3.72545797e+07, 8.77126109e+06, 1.56125179e+07, 1.05875675e+07,\n",
       "        4.22973127e+07, 1.79452279e+07, 2.29140280e+06, 2.97449215e+07,\n",
       "        1.32895825e+07, 1.94821970e+07, 5.23092650e+06, 4.00177851e+06,\n",
       "        7.67478134e+06, 3.48715025e+07, 4.51742841e+07, 3.33548939e+07,\n",
       "        1.37355352e+07, 5.29593286e+06, 2.99007600e+07, 1.31987017e+07,\n",
       "        2.45162838e+07, 1.25548578e+07, 1.07757138e+07, 8.17006412e+07,\n",
       "        3.13521677e+07, 1.26556619e+07, 1.73127816e+07, 8.14419865e+07,\n",
       "        2.32746229e+07, 3.43772648e+06, 6.09800259e+06, 1.72503400e+07,\n",
       "        3.30586622e+07, 1.36915409e+07, 1.83320361e+07, 2.59895849e+07,\n",
       "        5.73792793e+06, 1.79757415e+07, 1.83366562e+07, 6.86978709e+06,\n",
       "        8.45476297e+06, 1.97216951e+06, 5.35501039e+06, 9.35899199e+06,\n",
       "        7.42535397e+06, 4.30426583e+06, 2.25480005e+07, 7.01209943e+06,\n",
       "        1.17348017e+07, 1.03345344e+07, 1.85725829e+07, 3.79126566e+07,\n",
       "        1.11505207e+08, 2.16803978e+07, 7.56289902e+06, 1.49081112e+07,\n",
       "        5.70206381e+07, 1.62812540e+07, 3.85871065e+07, 5.93270085e+06,\n",
       "        1.05500415e+08, 1.18281876e+07, 1.58932429e+07, 1.04085240e+07,\n",
       "        2.59354401e+07, 4.42818729e+07, 1.26351320e+07, 1.16333714e+07,\n",
       "        1.20568652e+07, 1.94430903e+06, 9.41390569e+06, 5.95026358e+06,\n",
       "        7.62513298e+06, 1.17225109e+07, 1.11063505e+07, 2.38010280e+07,\n",
       "        1.32622155e+07, 4.64793883e+06, 2.03397068e+06, 1.77401356e+07,\n",
       "        1.33860991e+07, 8.34071593e+06, 3.04740817e+07, 1.62360895e+07,\n",
       "        1.40239881e+07, 3.28867257e+07, 2.98772916e+07, 1.34002893e+07,\n",
       "        1.95488578e+07, 7.70804684e+06, 4.45891941e+06, 4.44696616e+06,\n",
       "        1.14755460e+07, 2.34284275e+07, 1.78978450e+07, 1.84522393e+07,\n",
       "        8.66693116e+06, 5.31207642e+07, 2.26021353e+07, 1.29342389e+07,\n",
       "        4.90274462e+07, 3.68155520e+06, 1.08757363e+07, 1.99346571e+07,\n",
       "        1.25597135e+07, 1.22558132e+07, 1.48450561e+07, 1.98592207e+07,\n",
       "        1.40199117e+07, 1.08285796e+07, 5.38056872e+06, 6.29831296e+07,\n",
       "        1.26539669e+07, 1.34698380e+07, 5.55807666e+06, 1.64992869e+07,\n",
       "        4.94435965e+07, 3.32670251e+07, 1.54392295e+07, 5.54328046e+06,\n",
       "        6.09854135e+06, 1.15880619e+07, 4.47989712e+06, 6.27024771e+07,\n",
       "        1.56376829e+07, 1.52162769e+07, 6.98683910e+06, 1.04381967e+07,\n",
       "        2.87177529e+06, 2.16511801e+07, 2.39509493e+07, 2.43189464e+07,\n",
       "        6.30440851e+06, 1.11507423e+07, 6.90720527e+06, 7.05162914e+06,\n",
       "        7.45009663e+06, 4.46344632e+06, 3.91060270e+07, 1.04977346e+07,\n",
       "        1.01961637e+07, 4.22012166e+08, 1.58274311e+07, 2.60075526e+07,\n",
       "        1.63865631e+07, 2.05348085e+07, 2.22901991e+07, 1.58413229e+07,\n",
       "        6.39480487e+06, 4.52730170e+07, 3.39126243e+07, 1.68874797e+07,\n",
       "        2.76030157e+07, 1.76726545e+07, 1.82102566e+07, 7.85224061e+06,\n",
       "        3.07419261e+07, 1.95821559e+07, 1.62009434e+07, 1.48212560e+07,\n",
       "        1.73007158e+07, 4.38512925e+06, 1.86024511e+07, 2.82422343e+07,\n",
       "        1.13841841e+07, 4.52540782e+06, 1.18583266e+07, 6.37575949e+06,\n",
       "        6.18363824e+06, 2.33901841e+07, 8.70825200e+06, 3.32404120e+07,\n",
       "        1.37280130e+07, 3.57860411e+07, 1.83509677e+06, 8.12510193e+06,\n",
       "        6.94330605e+06, 7.76121777e+06, 9.76304939e+06, 2.46644021e+07,\n",
       "        6.02081459e+07, 4.06243246e+06, 5.01471668e+06, 1.81204180e+07,\n",
       "        2.46270972e+06, 2.73666600e+07, 1.25469684e+07, 1.26075192e+08,\n",
       "        6.66735322e+06, 1.23517928e+07, 6.82668304e+06, 1.12384880e+07,\n",
       "        3.87443366e+06, 8.20359782e+06, 5.60404983e+06, 4.62562254e+07,\n",
       "        5.68995487e+07, 6.25693964e+06, 4.44203214e+07, 1.02151839e+07,\n",
       "        5.42955846e+06, 1.62301070e+07, 1.40651878e+07, 5.44862043e+07,\n",
       "        6.73508115e+06, 3.00789520e+07, 1.43541601e+07, 4.34863925e+06,\n",
       "        3.08746807e+06, 3.12444597e+07, 4.96622491e+06, 2.92103739e+07,\n",
       "        2.05227514e+07, 2.61684675e+07, 1.38527254e+07, 3.63962577e+06,\n",
       "        3.59512613e+07, 2.46712424e+07, 4.34413907e+06, 9.78018496e+06,\n",
       "        1.32168981e+07, 3.52235494e+07, 2.42662338e+06, 3.09352731e+07,\n",
       "        8.31168006e+06, 1.66957152e+07, 9.17572688e+06, 3.80746978e+06,\n",
       "        2.40634161e+07, 4.97323621e+07, 5.86145684e+06, 2.66849533e+07,\n",
       "        1.96525109e+07, 1.02418317e+07, 1.38084172e+07, 1.14923316e+07,\n",
       "        9.18413965e+06, 2.01918107e+07, 1.59614176e+07, 1.61612486e+07,\n",
       "        5.77944762e+07, 1.59439862e+07, 4.54837271e+06, 4.07173565e+07,\n",
       "        1.84000323e+07, 7.53490791e+07, 1.22682764e+07, 4.77727559e+07,\n",
       "        1.18433553e+07, 1.56715678e+07, 4.63969167e+07, 7.59463275e+06,\n",
       "        2.16003946e+07, 2.44046783e+07, 1.18997785e+07, 8.53203191e+06,\n",
       "        2.06037383e+07, 2.66062422e+07, 8.76626672e+06, 1.77844117e+06,\n",
       "        6.46792739e+06, 6.80754181e+06, 1.79146250e+07, 1.49341902e+07,\n",
       "        3.54591628e+06, 1.56629588e+07, 1.30970721e+07, 6.77967685e+06,\n",
       "        3.36484979e+07, 9.81310661e+07, 1.65614615e+07, 2.54483436e+06,\n",
       "        2.99775800e+07, 6.90157626e+07, 2.13114116e+07, 2.24283250e+07,\n",
       "        1.61422314e+06, 9.92806834e+06, 6.63441333e+07, 8.84770819e+07,\n",
       "        9.14183778e+06, 7.58771824e+07, 1.64855396e+07, 1.32662138e+07,\n",
       "        2.44673367e+06, 5.17483957e+06, 1.01074710e+07, 5.83526689e+07,\n",
       "        2.69187446e+06, 1.41247322e+07, 1.08522397e+07, 9.52150855e+06,\n",
       "        1.10342815e+07, 9.65700702e+06, 7.78178046e+06, 8.49504210e+06,\n",
       "        4.01633870e+07, 9.05791859e+06, 2.27367860e+07, 1.50885013e+07,\n",
       "        2.24236666e+06, 7.36961049e+06, 3.17250004e+06, 1.79213434e+07,\n",
       "        2.00127416e+07, 4.10575242e+07, 1.27441551e+07, 1.73937271e+07,\n",
       "        3.89452464e+07, 1.60335585e+07, 1.49401744e+07, 2.84413151e+07,\n",
       "        1.15149036e+07, 3.00945386e+07, 4.56067331e+06, 2.84929270e+07,\n",
       "        1.08615239e+07, 1.82395314e+07, 9.23651625e+06, 2.78669151e+07,\n",
       "        6.35694590e+07, 4.06524712e+06, 1.08431366e+07, 2.00825926e+07,\n",
       "        5.48644451e+06, 1.77518923e+07, 1.42613642e+07, 3.38991191e+07,\n",
       "        9.58128097e+06, 1.42609819e+07, 2.38151089e+07, 5.39099590e+06,\n",
       "        2.37893738e+07, 1.04512209e+07, 5.51627525e+06, 6.43124074e+06,\n",
       "        1.80034346e+07, 8.98117342e+06, 8.02539200e+06, 2.13686502e+06,\n",
       "        5.83255565e+06, 1.57606447e+07, 2.25476785e+07, 7.93345674e+07,\n",
       "        1.22590262e+07, 3.39132107e+06, 1.52660606e+07, 7.40084937e+06,\n",
       "        2.32892201e+07, 3.09710959e+06, 4.60533892e+06, 2.05525576e+07,\n",
       "        4.32256214e+06, 8.65528056e+06, 4.93488494e+06, 9.49069818e+06,\n",
       "        1.50707081e+07, 3.28749507e+06, 1.38989820e+07, 1.72683964e+07,\n",
       "        6.92747790e+07, 2.28210119e+07, 5.07060530e+07, 5.71142823e+06,\n",
       "        1.11323546e+07, 1.00003461e+07, 1.36869415e+07, 1.10657281e+07,\n",
       "        1.66191864e+07, 9.93956424e+06, 3.44120740e+07, 1.61938683e+07,\n",
       "        4.13984226e+07, 6.15244257e+06, 1.06485378e+07, 1.50220223e+07,\n",
       "        1.07410330e+08, 1.53077242e+07, 1.68507367e+07, 5.89742400e+07,\n",
       "        1.00831335e+07, 9.53478350e+06, 2.07404644e+07, 1.38265835e+07,\n",
       "        2.80627948e+07, 1.00654292e+07, 9.11394709e+06, 8.01194478e+06,\n",
       "        1.39825902e+07, 1.37026117e+07, 1.18057337e+07, 3.79267593e+06,\n",
       "        1.04208506e+07, 5.94586036e+06, 1.71651418e+07, 6.88160322e+07,\n",
       "        6.67445721e+07, 2.88829130e+07, 5.45217689e+06, 1.53582943e+07,\n",
       "        1.34738970e+07, 7.04155812e+06, 1.67305579e+08, 1.48088524e+07,\n",
       "        4.66292707e+06, 5.06493312e+06, 1.56032800e+07, 2.20510326e+07,\n",
       "        7.32773432e+06, 9.45804015e+06, 7.22834911e+06, 8.79562036e+06,\n",
       "        1.38677540e+07, 2.78130138e+07, 7.56235299e+07, 5.36624689e+06,\n",
       "        2.33420372e+07, 2.26530275e+07, 5.13855140e+06, 1.12394424e+07,\n",
       "        1.14543562e+07, 2.18364692e+07, 1.69967587e+06, 1.77699643e+07,\n",
       "        4.13393964e+07, 1.66183581e+07, 2.78704833e+07, 1.07591013e+07,\n",
       "        8.53152626e+07, 7.64272604e+06, 1.84472893e+07, 2.98459991e+07,\n",
       "        2.48713425e+07, 1.32775125e+07, 2.09786197e+07, 2.52456435e+07,\n",
       "        1.99737630e+07, 2.73574135e+06, 3.64937457e+06, 3.24947984e+07,\n",
       "        1.54235424e+07, 5.88554893e+07, 1.12634794e+08, 5.17371340e+06,\n",
       "        1.74938200e+07, 6.19556754e+06, 2.00152785e+06, 1.58891112e+07,\n",
       "        1.22004713e+07, 2.62416179e+07, 3.06582413e+07, 3.15963702e+07,\n",
       "        1.46981653e+07, 6.19283359e+06, 1.02199274e+07, 1.15220353e+07,\n",
       "        6.59383983e+06, 2.76271342e+07, 5.63940502e+07, 3.85682985e+06,\n",
       "        7.05335742e+06, 5.98095653e+07, 1.62722137e+07, 9.41145785e+06,\n",
       "        2.18084473e+07, 2.41098588e+07, 6.16770987e+06, 1.19894968e+07,\n",
       "        5.24600730e+06, 5.75366238e+06, 1.16614651e+06, 2.31653297e+06,\n",
       "        7.97192915e+06, 3.04038650e+07, 8.43994078e+06, 8.24287226e+06,\n",
       "        2.39930270e+07, 3.10466152e+06, 6.50094007e+07, 2.75502184e+07,\n",
       "        3.37479423e+06, 1.65901889e+07, 6.15680158e+06, 1.07369128e+06,\n",
       "        1.61492956e+07, 2.30309433e+07, 5.70849245e+06, 1.27626233e+07,\n",
       "        5.15587956e+06, 1.17313553e+07, 5.65014369e+06, 2.15500677e+07,\n",
       "        1.81637483e+07, 8.62015556e+06, 4.39362523e+06, 2.46642039e+07,\n",
       "        2.07648370e+07, 1.13065118e+07, 1.12857032e+07, 1.91205508e+07,\n",
       "        6.05903034e+06, 3.94242550e+06, 1.94295747e+07, 3.95279856e+06,\n",
       "        5.30402605e+06, 3.69599150e+07, 1.97593426e+07, 1.10945876e+07,\n",
       "        2.38376138e+07, 3.98291613e+06, 1.94878238e+07, 1.47887033e+07,\n",
       "        1.61544662e+07, 1.83312486e+07, 9.94971647e+06, 4.97708356e+06,\n",
       "        4.36660067e+07, 1.91114548e+07, 1.58821990e+07, 8.74250393e+06,\n",
       "        1.05805994e+08, 2.63546519e+07, 4.74621370e+07, 3.82484117e+06,\n",
       "        2.24933685e+06, 9.70334447e+06, 3.19785488e+07, 1.45650917e+07,\n",
       "        1.80925915e+07, 2.39983986e+07, 2.28750452e+07, 1.40503605e+07,\n",
       "        2.61828411e+07, 1.19497154e+07, 1.76910301e+07, 6.04659843e+07,\n",
       "        1.05501228e+07, 3.40853244e+06, 3.60135764e+07, 1.12733414e+07,\n",
       "        2.84591348e+07, 1.48221605e+07, 3.47525538e+07, 7.15609404e+06,\n",
       "        4.56299436e+07, 8.03658226e+07, 1.27986679e+07, 1.49864036e+07,\n",
       "        1.34738265e+07, 4.55701227e+07, 1.09671673e+07, 6.78322382e+07,\n",
       "        2.79857027e+07, 1.53349461e+07, 8.46508240e+06, 1.36767026e+07,\n",
       "        9.49717235e+06, 2.47390475e+07, 7.64947280e+06, 3.65887142e+07,\n",
       "        9.67878431e+06, 8.56876053e+06, 8.98623843e+06, 7.15727744e+06,\n",
       "        8.04549612e+06, 4.67878196e+06, 9.53411650e+07, 1.63468228e+07,\n",
       "        5.91994104e+07, 1.93296434e+07, 1.22861914e+08, 2.26513336e+07,\n",
       "        3.10412126e+07, 2.22502965e+07, 2.51181872e+07, 1.97346930e+07,\n",
       "        4.20045126e+07, 6.76224731e+06, 1.90871201e+07, 1.77696310e+07,\n",
       "        7.52969228e+07, 9.27640689e+06, 8.05836934e+06, 5.26851076e+06,\n",
       "        4.42912455e+07, 1.20391633e+07, 3.03393732e+06, 3.28659270e+07,\n",
       "        5.02171649e+06, 2.02082408e+06, 6.03117328e+07, 2.83131946e+06,\n",
       "        8.39551703e+07, 3.47296825e+07, 1.62329232e+07, 1.11418830e+07]),\n",
       " 'Other server components cost': array([9.96276578e+06, 8.59135434e+06, 7.75764365e+05, 1.44647783e+07,\n",
       "        1.82071107e+06, 1.02406011e+07, 7.88673099e+06, 6.88291194e+06,\n",
       "        1.99078272e+06, 5.13001037e+07, 9.77977375e+06, 2.84482309e+07,\n",
       "        1.36393535e+07, 2.53463136e+06, 3.61084159e+07, 4.20319835e+06,\n",
       "        1.18404404e+07, 1.00545159e+07, 5.00331368e+06, 2.84476719e+06,\n",
       "        3.02074285e+07, 8.12968501e+06, 1.88445383e+07, 6.47058341e+07,\n",
       "        1.05536564e+07, 5.76267894e+06, 6.33458450e+06, 1.14946676e+06,\n",
       "        5.84458827e+06, 8.46585714e+06, 4.58780466e+06, 1.10205194e+07,\n",
       "        1.81165877e+07, 3.25262497e+06, 2.16152775e+07, 7.26738269e+06,\n",
       "        8.09615127e+06, 3.62147181e+06, 9.19532540e+06, 2.85871423e+07,\n",
       "        9.95174408e+06, 2.47347856e+07, 1.42723254e+07, 2.91186838e+07,\n",
       "        2.25529457e+06, 1.62926145e+07, 6.00721389e+06, 6.82013041e+06,\n",
       "        4.67827743e+06, 2.39031388e+07, 5.90053178e+06, 2.02470216e+07,\n",
       "        2.61085443e+07, 3.58858412e+06, 1.18578577e+07, 3.08051782e+07,\n",
       "        6.61860139e+06, 6.30070443e+06, 2.01943832e+07, 3.99463229e+06,\n",
       "        1.84412037e+07, 7.11139930e+06, 1.42154904e+07, 9.38639962e+06,\n",
       "        6.19415518e+06, 3.91650784e+07, 3.44940089e+07, 3.81607188e+06,\n",
       "        1.27077797e+07, 1.07915041e+07, 1.09570291e+07, 8.24055842e+06,\n",
       "        4.70098020e+06, 1.57454272e+07, 2.68159944e+06, 4.00379796e+06,\n",
       "        1.17099329e+07, 1.44917010e+07, 1.64069044e+07, 1.81164245e+07,\n",
       "        2.86531304e+07, 2.81274728e+07, 3.41765680e+06, 6.21845478e+06,\n",
       "        1.76258545e+07, 1.48762369e+07, 2.10887033e+07, 3.44833929e+07,\n",
       "        2.12422033e+07, 8.81590291e+06, 4.58867571e+06, 1.46208466e+07,\n",
       "        1.99707021e+07, 3.22588809e+06, 2.08306828e+07, 2.88066387e+07,\n",
       "        4.08322418e+07, 7.84850519e+06, 2.26651125e+07, 1.36502840e+06,\n",
       "        8.14396714e+06, 2.43971035e+07, 2.39924219e+06, 8.36841754e+06,\n",
       "        8.99153689e+06, 7.62311517e+06, 2.54440723e+07, 1.51269513e+07,\n",
       "        7.92863668e+06, 7.49121136e+06, 3.97122336e+06, 9.47043680e+06,\n",
       "        2.53414136e+06, 9.66787547e+06, 8.40438987e+06, 1.93612670e+06,\n",
       "        1.60889789e+06, 7.63382645e+06, 4.11677125e+07, 1.23221308e+06,\n",
       "        3.19251212e+07, 1.57328930e+06, 3.10152867e+06, 1.07020558e+07,\n",
       "        3.97771501e+07, 5.23045568e+06, 1.79715473e+06, 1.62451684e+07,\n",
       "        2.22170593e+07, 4.65213983e+06, 6.31879445e+06, 1.66564541e+07,\n",
       "        4.79898008e+06, 1.16270613e+07, 5.13654428e+06, 1.74974398e+07,\n",
       "        3.11624259e+06, 4.61142604e+06, 6.85722059e+07, 1.35340524e+07,\n",
       "        2.24638081e+06, 7.97567699e+06, 1.18609793e+07, 1.58229456e+07,\n",
       "        8.97048717e+06, 3.40156555e+06, 5.08605701e+06, 7.28555834e+06,\n",
       "        3.43428812e+06, 9.25162034e+06, 4.19421730e+06, 4.89282599e+06,\n",
       "        5.16633836e+06, 1.47109356e+07, 1.51539487e+06, 1.63067160e+07,\n",
       "        8.45208916e+06, 9.30152689e+05, 7.24261444e+06, 7.15463676e+06,\n",
       "        1.65299893e+07, 3.59005923e+06, 1.36908059e+07, 1.61708423e+07,\n",
       "        6.41806269e+06, 6.66354914e+06, 7.35721383e+06, 5.34090819e+06,\n",
       "        1.57671193e+07, 1.84871621e+07, 1.47056491e+07, 2.98918379e+06,\n",
       "        1.48634624e+06, 5.38377325e+06, 2.57780251e+06, 1.78111844e+06,\n",
       "        4.00917132e+07, 1.69728237e+07, 3.01211503e+06, 7.97873011e+06,\n",
       "        6.07630655e+06, 8.85136288e+06, 4.59843019e+06, 1.85746365e+07,\n",
       "        1.55105937e+06, 3.90682657e+06, 6.35864316e+06, 3.47736131e+06,\n",
       "        1.35984957e+07, 2.41446090e+06, 1.68208528e+07, 4.94265435e+06,\n",
       "        4.42701067e+06, 3.00296500e+06, 1.22043771e+07, 3.39817968e+07,\n",
       "        1.20373667e+07, 8.34808490e+06, 2.64801469e+06, 1.33415616e+07,\n",
       "        4.13033620e+06, 7.46708121e+06, 3.09318474e+06, 1.50139608e+07,\n",
       "        1.14293153e+07, 9.16274553e+06, 3.24174102e+07, 4.64173790e+06,\n",
       "        9.04382604e+06, 7.57348027e+06, 1.13600486e+07, 7.93037328e+06,\n",
       "        4.49974967e+06, 8.88561036e+06, 5.13566429e+06, 1.09308681e+07,\n",
       "        1.78820289e+06, 3.98036932e+06, 2.95824065e+06, 9.54581444e+06,\n",
       "        8.01722711e+06, 2.59148693e+06, 9.95530543e+06, 8.02928919e+06,\n",
       "        1.73357998e+07, 4.32568250e+07, 1.05322579e+08, 3.43309716e+07,\n",
       "        6.67768423e+06, 2.04161655e+07, 1.22522952e+07, 5.08656168e+06,\n",
       "        3.32940411e+06, 3.72417398e+07, 3.69305950e+06, 1.86975837e+06,\n",
       "        3.42027554e+07, 9.38414714e+06, 1.66255320e+07, 3.52613612e+06,\n",
       "        1.26732389e+07, 1.42492672e+07, 1.39558319e+07, 1.84270315e+07,\n",
       "        1.02412343e+07, 6.37800216e+06, 9.67014737e+06, 2.41137044e+07,\n",
       "        5.06556085e+06, 7.13419141e+06, 1.16536681e+07, 4.18567472e+06,\n",
       "        4.14307247e+06, 6.25496084e+06, 7.01694462e+07, 8.53548932e+05,\n",
       "        3.68485127e+06, 1.08304668e+07, 7.66981844e+06, 1.30345077e+07,\n",
       "        5.39004203e+06, 4.36237979e+06, 5.02571223e+06, 2.97082854e+06,\n",
       "        2.40895259e+06, 1.13425267e+07, 1.94667409e+07, 4.07247874e+05,\n",
       "        5.58891854e+06, 3.62787199e+07, 5.90767626e+06, 4.41374044e+06,\n",
       "        1.57612542e+07, 9.31712189e+06, 2.57619661e+07, 9.02104248e+06,\n",
       "        3.66314702e+06, 2.76070406e+07, 1.08575448e+07, 6.43692681e+06,\n",
       "        5.65693084e+06, 8.32354056e+06, 1.01887650e+07, 1.68309624e+07,\n",
       "        6.13958230e+06, 2.24712958e+07, 7.49517691e+06, 5.54203258e+06,\n",
       "        6.32486122e+06, 7.65800870e+06, 7.92445352e+06, 7.52074364e+06,\n",
       "        5.96465884e+06, 1.71207281e+07, 1.19375104e+07, 7.68731638e+06,\n",
       "        1.31026396e+07, 6.58021717e+06, 1.36601211e+07, 8.87696590e+06,\n",
       "        2.67080681e+06, 5.39516250e+06, 2.44129720e+07, 6.17684211e+06,\n",
       "        1.65790722e+07, 3.62545015e+06, 9.40643484e+06, 1.45767326e+07,\n",
       "        2.10624438e+07, 1.04931570e+07, 1.97228186e+07, 1.99716994e+06,\n",
       "        2.41372157e+07, 1.00818478e+07, 2.14861777e+06, 3.21529622e+06,\n",
       "        6.66409446e+06, 6.03296935e+07, 5.07689133e+06, 1.70496483e+07,\n",
       "        1.52766372e+07, 1.05104831e+07, 4.61245187e+06, 9.35561050e+06,\n",
       "        8.33113433e+07, 7.00959685e+06, 5.57853690e+06, 2.95103408e+06,\n",
       "        5.42184997e+06, 1.06520093e+07, 3.98012358e+06, 7.16332002e+07,\n",
       "        3.56584078e+06, 1.17121231e+07, 4.29483909e+06, 3.06629677e+06,\n",
       "        6.74635254e+06, 7.79386471e+06, 3.91073468e+06, 2.75016561e+06,\n",
       "        1.06911031e+07, 1.06229810e+07, 9.63986538e+06, 1.08920252e+07,\n",
       "        6.83638990e+07, 8.79063723e+06, 1.23171166e+06, 9.33666555e+06,\n",
       "        3.24767520e+07, 5.05637524e+07, 1.33115337e+07, 7.07930430e+06,\n",
       "        1.20485075e+07, 2.97126180e+06, 3.88029410e+06, 3.15920784e+06,\n",
       "        3.18082749e+06, 1.97109809e+07, 6.85820353e+06, 1.74063974e+07,\n",
       "        3.40490279e+06, 7.04980505e+06, 2.11760862e+07, 7.61769033e+06,\n",
       "        4.21862843e+06, 8.06990472e+06, 1.96526607e+06, 5.58154774e+06,\n",
       "        7.90112732e+06, 9.14236334e+06, 2.86564825e+06, 9.08317062e+06,\n",
       "        1.60236488e+07, 2.71648150e+07, 9.37829996e+06, 3.87666749e+06,\n",
       "        6.90589212e+06, 2.19557434e+06, 6.68694568e+06, 2.34818942e+06,\n",
       "        7.95031972e+06, 3.18322195e+06, 1.57543029e+06, 2.41102723e+07,\n",
       "        1.45985674e+07, 2.03919266e+07, 1.20493537e+07, 5.86472620e+06,\n",
       "        6.90365605e+06, 3.03593778e+06, 8.14249984e+06, 1.32038855e+07,\n",
       "        4.50025328e+06, 8.36040547e+06, 2.86134590e+07, 2.94421343e+07,\n",
       "        2.13798476e+07, 5.48964182e+06, 2.20401970e+07, 1.38987317e+07,\n",
       "        1.17039088e+07, 3.35433869e+06, 2.04175049e+07, 1.50608485e+07,\n",
       "        2.38429310e+07, 5.61360709e+06, 9.99201143e+06, 6.77604319e+06,\n",
       "        2.70702801e+07, 1.14849458e+07, 1.46649779e+06, 1.90367498e+07,\n",
       "        8.50533283e+06, 1.24686061e+07, 3.34779296e+06, 2.56113824e+06,\n",
       "        4.91186006e+06, 2.23177616e+07, 2.89115418e+07, 2.13471321e+07,\n",
       "        8.79074255e+06, 3.38939703e+06, 1.91364864e+07, 8.44716910e+06,\n",
       "        1.56904216e+07, 8.03510899e+06, 6.89645680e+06, 5.22884104e+07,\n",
       "        2.00653873e+07, 8.09962361e+06, 1.10801803e+07, 5.21228714e+07,\n",
       "        1.48957586e+07, 2.20014495e+06, 3.90272166e+06, 1.10402176e+07,\n",
       "        2.11575438e+07, 8.76258619e+06, 1.17325031e+07, 1.66333343e+07,\n",
       "        3.67227387e+06, 1.15044746e+07, 1.17354600e+07, 4.39666374e+06,\n",
       "        5.41104830e+06, 1.26218849e+06, 3.42720665e+06, 5.98975487e+06,\n",
       "        4.75222654e+06, 2.75473013e+06, 1.44307203e+07, 4.48774364e+06,\n",
       "        7.51027306e+06, 6.61410204e+06, 1.18864530e+07, 2.42641002e+07,\n",
       "        7.13633325e+07, 1.38754546e+07, 4.84025537e+06, 9.54119115e+06,\n",
       "        3.64932084e+07, 1.04200026e+07, 2.46957482e+07, 3.79692854e+06,\n",
       "        6.75202658e+07, 7.57004006e+06, 1.01716754e+07, 6.66145536e+06,\n",
       "        1.65986817e+07, 2.83403986e+07, 8.08648451e+06, 7.44535767e+06,\n",
       "        7.71639370e+06, 1.24435778e+06, 6.02489964e+06, 3.80816869e+06,\n",
       "        4.88008511e+06, 7.50240695e+06, 7.10806433e+06, 1.52326579e+07,\n",
       "        8.48781790e+06, 2.97468085e+06, 1.30174124e+06, 1.13536868e+07,\n",
       "        8.56710340e+06, 5.33805819e+06, 1.95034123e+07, 1.03910973e+07,\n",
       "        8.97535238e+06, 2.10475045e+07, 1.91214666e+07, 8.57618518e+06,\n",
       "        1.25112690e+07, 4.93314998e+06, 2.85370843e+06, 2.84605834e+06,\n",
       "        7.34434943e+06, 1.49941936e+07, 1.14546208e+07, 1.18094332e+07,\n",
       "        5.54683595e+06, 3.39972891e+07, 1.44653666e+07, 8.27791292e+06,\n",
       "        3.13775655e+07, 2.35619533e+06, 6.96047125e+06, 1.27581806e+07,\n",
       "        8.03821663e+06, 7.84372044e+06, 9.50083587e+06, 1.27099012e+07,\n",
       "        8.97274349e+06, 6.93029097e+06, 3.44356398e+06, 4.03092030e+07,\n",
       "        8.09853879e+06, 8.62069632e+06, 3.55716906e+06, 1.05595436e+07,\n",
       "        3.16439018e+07, 2.12908961e+07, 9.88110686e+06, 3.54769949e+06,\n",
       "        3.90306646e+06, 7.41635964e+06, 2.86713416e+06, 4.01295854e+07,\n",
       "        1.00081171e+07, 9.73841718e+06, 4.47157703e+06, 6.68044590e+06,\n",
       "        1.83793618e+06, 1.38567552e+07, 1.53286075e+07, 1.55641257e+07,\n",
       "        4.03482144e+06, 7.13647507e+06, 4.42061138e+06, 4.51304265e+06,\n",
       "        4.76806184e+06, 2.85660565e+06, 2.50278572e+07, 6.71855015e+06,\n",
       "        6.52554475e+06, 2.70087786e+08, 1.01295559e+07, 1.66448337e+07,\n",
       "        1.04874004e+07, 1.31422774e+07, 1.42657275e+07, 1.01384467e+07,\n",
       "        4.09267512e+06, 2.89747309e+07, 2.17040796e+07, 1.08079870e+07,\n",
       "        1.76659300e+07, 1.13104989e+07, 1.16545642e+07, 5.02543399e+06,\n",
       "        1.96748327e+07, 1.25325797e+07, 1.03686038e+07, 9.48560387e+06,\n",
       "        1.10724581e+07, 2.80648272e+06, 1.19055687e+07, 1.80750300e+07,\n",
       "        7.28587784e+06, 2.89626100e+06, 7.58932903e+06, 4.08048607e+06,\n",
       "        3.95752847e+06, 1.49697178e+07, 5.57328128e+06, 2.12738637e+07,\n",
       "        8.78592829e+06, 2.29030663e+07, 1.17446193e+06, 5.20006524e+06,\n",
       "        4.44371587e+06, 4.96717937e+06, 6.24835161e+06, 1.57852174e+07,\n",
       "        3.85332134e+07, 2.59995678e+06, 3.20941867e+06, 1.15970676e+07,\n",
       "        1.57613422e+06, 1.75146624e+07, 8.03005979e+06, 8.06881228e+07,\n",
       "        4.26710606e+06, 7.90514736e+06, 4.36907715e+06, 7.19263233e+06,\n",
       "        2.47963754e+06, 5.25030261e+06, 3.58659189e+06, 2.96039843e+07,\n",
       "        3.64157112e+07, 4.00444137e+06, 2.84290057e+07, 6.53771769e+06,\n",
       "        3.47491741e+06, 1.03872685e+07, 9.00172021e+06, 3.48711707e+07,\n",
       "        4.31045194e+06, 1.92505293e+07, 9.18666249e+06, 2.78312912e+06,\n",
       "        1.97597957e+06, 1.99964542e+07, 3.17838394e+06, 1.86946393e+07,\n",
       "        1.31345609e+07, 1.67478192e+07, 8.86574424e+06, 2.32936049e+06,\n",
       "        2.30088072e+07, 1.57895952e+07, 2.78024900e+06, 6.25931837e+06,\n",
       "        8.45881476e+06, 2.25430716e+07, 1.55303897e+06, 1.97985748e+07,\n",
       "        5.31947524e+06, 1.06852577e+07, 5.87246520e+06, 2.43678066e+06,\n",
       "        1.54005863e+07, 3.18287117e+07, 3.75133238e+06, 1.70783701e+07,\n",
       "        1.25776070e+07, 6.55477228e+06, 8.83738701e+06, 7.35509219e+06,\n",
       "        5.87784938e+06, 1.29227589e+07, 1.02153072e+07, 1.03431991e+07,\n",
       "        3.69884648e+07, 1.02041512e+07, 2.91095853e+06, 2.60591082e+07,\n",
       "        1.17760207e+07, 4.82234106e+07, 7.85169691e+06, 3.05745637e+07,\n",
       "        7.57974738e+06, 1.00298034e+07, 2.96940267e+07, 4.86056496e+06,\n",
       "        1.38242526e+07, 1.56189941e+07, 7.61585823e+06, 5.46050042e+06,\n",
       "        1.31863925e+07, 1.70279950e+07, 5.61041070e+06, 1.13820235e+06,\n",
       "        4.13947353e+06, 4.35682676e+06, 1.14653600e+07, 9.55788173e+06,\n",
       "        2.26938642e+06, 1.00242936e+07, 8.38212614e+06, 4.33899318e+06,\n",
       "        2.15350387e+07, 6.28038823e+07, 1.05993354e+07, 1.62869399e+06,\n",
       "        1.91856512e+07, 4.41700880e+07, 1.36393034e+07, 1.43541280e+07,\n",
       "        1.03310281e+06, 6.35396374e+06, 4.24602453e+07, 5.66253324e+07,\n",
       "        5.85077618e+06, 4.85613967e+07, 1.05507453e+07, 8.49037686e+06,\n",
       "        1.56590955e+06, 3.31189732e+06, 6.46878147e+06, 3.73457081e+07,\n",
       "        1.72279965e+06, 9.03982861e+06, 6.94543343e+06, 6.09376547e+06,\n",
       "        7.06194017e+06, 6.18048449e+06, 4.98033949e+06, 5.43682694e+06,\n",
       "        2.57045677e+07, 5.79706790e+06, 1.45515431e+07, 9.65664086e+06,\n",
       "        1.43511466e+06, 4.71655071e+06, 2.03040003e+06, 1.14696598e+07,\n",
       "        1.28081546e+07, 2.62768155e+07, 8.15625926e+06, 1.11319854e+07,\n",
       "        2.49249577e+07, 1.02614774e+07, 9.56171159e+06, 1.82024417e+07,\n",
       "        7.36953829e+06, 1.92605047e+07, 2.91883092e+06, 1.82354733e+07,\n",
       "        6.95137531e+06, 1.16733001e+07, 5.91137040e+06, 1.78348257e+07,\n",
       "        4.06844537e+07, 2.60175816e+06, 6.93960742e+06, 1.28528593e+07,\n",
       "        3.51132449e+06, 1.13612111e+07, 9.12727309e+06, 2.16954363e+07,\n",
       "        6.13201982e+06, 9.12702842e+06, 1.52416697e+07, 3.45023738e+06,\n",
       "        1.52251992e+07, 6.68878139e+06, 3.53041616e+06, 4.11599408e+06,\n",
       "        1.15221982e+07, 5.74795099e+06, 5.13625088e+06, 1.36759361e+06,\n",
       "        3.73283562e+06, 1.00868126e+07, 1.44305143e+07, 5.07741231e+07,\n",
       "        7.84577679e+06, 2.17044549e+06, 9.77027877e+06, 4.73654360e+06,\n",
       "        1.49051008e+07, 1.98215014e+06, 2.94741691e+06, 1.31536369e+07,\n",
       "        2.76643977e+06, 5.53937956e+06, 3.15832636e+06, 6.07404684e+06,\n",
       "        9.64525319e+06, 2.10399684e+06, 8.89534851e+06, 1.10517737e+07,\n",
       "        4.43358586e+07, 1.46054476e+07, 3.24518739e+07, 3.65531407e+06,\n",
       "        7.12470697e+06, 6.40022149e+06, 8.75964258e+06, 7.08206600e+06,\n",
       "        1.06362793e+07, 6.36132111e+06, 2.20237274e+07, 1.03640757e+07,\n",
       "        2.64949905e+07, 3.93756325e+06, 6.81506418e+06, 9.61409426e+06,\n",
       "        6.87426110e+07, 9.79694351e+06, 1.07844715e+07, 3.77435136e+07,\n",
       "        6.45320545e+06, 6.10226144e+06, 1.32738972e+07, 8.84901343e+06,\n",
       "        1.79601887e+07, 6.44187466e+06, 5.83292614e+06, 5.12764466e+06,\n",
       "        8.94885774e+06, 8.76967150e+06, 7.55566957e+06, 2.42731260e+06,\n",
       "        6.66934439e+06, 3.80535063e+06, 1.09856908e+07, 4.40422606e+07,\n",
       "        4.27165261e+07, 1.84850643e+07, 3.48939321e+06, 9.82930835e+06,\n",
       "        8.62329407e+06, 4.50659720e+06, 1.07075571e+08, 9.47766555e+06,\n",
       "        2.98427332e+06, 3.24155719e+06, 9.98609920e+06, 1.41126608e+07,\n",
       "        4.68974996e+06, 6.05314570e+06, 4.62614343e+06, 5.62919703e+06,\n",
       "        8.87536258e+06, 1.78003289e+07, 4.83990592e+07, 3.43439801e+06,\n",
       "        1.49389038e+07, 1.44979376e+07, 3.28867290e+06, 7.19324316e+06,\n",
       "        7.33078795e+06, 1.39753403e+07, 1.08779256e+06, 1.13727772e+07,\n",
       "        2.64572137e+07, 1.06357492e+07, 1.78371093e+07, 6.88582484e+06,\n",
       "        5.46017680e+07, 4.89134467e+06, 1.18062652e+07, 1.91014394e+07,\n",
       "        1.59176592e+07, 8.49760799e+06, 1.34263166e+07, 1.61572118e+07,\n",
       "        1.27832083e+07, 1.75087447e+06, 2.33559973e+06, 2.07966710e+07,\n",
       "        9.87106715e+06, 3.76675132e+07, 7.20862682e+07, 3.31117658e+06,\n",
       "        1.11960448e+07, 3.96516323e+06, 1.28097782e+06, 1.01690311e+07,\n",
       "        7.80830164e+06, 1.67946355e+07, 1.96212744e+07, 2.02216769e+07,\n",
       "        9.40682581e+06, 3.96341350e+06, 6.54075357e+06, 7.37410262e+06,\n",
       "        4.22005749e+06, 1.76813659e+07, 3.60921921e+07, 2.46837110e+06,\n",
       "        4.51414875e+06, 3.82781218e+07, 1.04142168e+07, 6.02333303e+06,\n",
       "        1.39574063e+07, 1.54303096e+07, 3.94733432e+06, 7.67327795e+06,\n",
       "        3.35744467e+06, 3.68234392e+06, 7.46333765e+05, 1.48258110e+06,\n",
       "        5.10203465e+06, 1.94584736e+07, 5.40156210e+06, 5.27543825e+06,\n",
       "        1.53555373e+07, 1.98698337e+06, 4.16060164e+07, 1.76321398e+07,\n",
       "        2.15986831e+06, 1.06177209e+07, 3.94035301e+06, 6.87162418e+05,\n",
       "        1.03355492e+07, 1.47398037e+07, 3.65343517e+06, 8.16807893e+06,\n",
       "        3.29976292e+06, 7.50806740e+06, 3.61609196e+06, 1.37920433e+07,\n",
       "        1.16247989e+07, 5.51689956e+06, 2.81192015e+06, 1.57850905e+07,\n",
       "        1.32894957e+07, 7.23616752e+06, 7.22285005e+06, 1.22371525e+07,\n",
       "        3.87777942e+06, 2.52315232e+06, 1.24349278e+07, 2.52979108e+06,\n",
       "        3.39457667e+06, 2.36543456e+07, 1.26459792e+07, 7.10053604e+06,\n",
       "        1.52560728e+07, 2.54906632e+06, 1.24722072e+07, 9.46477012e+06,\n",
       "        1.03388584e+07, 1.17319991e+07, 6.36781854e+06, 3.18533348e+06,\n",
       "        2.79462443e+07, 1.22313311e+07, 1.01646073e+07, 5.59520252e+06,\n",
       "        6.77158360e+07, 1.68669772e+07, 3.03757677e+07, 2.44789835e+06,\n",
       "        1.43957558e+06, 6.21014046e+06, 2.04662713e+07, 9.32165871e+06,\n",
       "        1.15792586e+07, 1.53589751e+07, 1.46400289e+07, 8.99223074e+06,\n",
       "        1.67570183e+07, 7.64781788e+06, 1.13222593e+07, 3.86982300e+07,\n",
       "        6.75207857e+06, 2.18146076e+06, 2.30486889e+07, 7.21493847e+06,\n",
       "        1.82138463e+07, 9.48618272e+06, 2.22416345e+07, 4.57990018e+06,\n",
       "        2.92031639e+07, 5.14341265e+07, 8.19114744e+06, 9.59129827e+06,\n",
       "        8.62324894e+06, 2.91648785e+07, 7.01898705e+06, 4.34126325e+07,\n",
       "        1.79108497e+07, 9.81436553e+06, 5.41765274e+06, 8.75308965e+06,\n",
       "        6.07819030e+06, 1.58329904e+07, 4.89566259e+06, 2.34167771e+07,\n",
       "        6.19442196e+06, 5.48400674e+06, 5.75119260e+06, 4.58065756e+06,\n",
       "        5.14911752e+06, 2.99442046e+06, 6.10183456e+07, 1.04619666e+07,\n",
       "        3.78876226e+07, 1.23709718e+07, 7.86316252e+07, 1.44968535e+07,\n",
       "        1.98663761e+07, 1.42401897e+07, 1.60756398e+07, 1.26302036e+07,\n",
       "        2.68828881e+07, 4.32783828e+06, 1.22157569e+07, 1.13725638e+07,\n",
       "        4.81900306e+07, 5.93690041e+06, 5.15735638e+06, 3.37184689e+06,\n",
       "        2.83463971e+07, 7.70506449e+06, 1.94171989e+06, 2.10341933e+07,\n",
       "        3.21389855e+06, 1.29332741e+06, 3.85995090e+07, 1.81204446e+06,\n",
       "        5.37313090e+07, 2.22269968e+07, 1.03890709e+07, 7.13080514e+06]),\n",
       " 'Cluster-level interconnect cost': array([3.82943810e+06, 3.30230182e+06, 2.98184428e+05, 5.55989918e+06,\n",
       "        6.99835817e+05, 3.93623106e+06, 3.03146223e+06, 2.64561928e+06,\n",
       "        7.65207109e+05, 1.97184774e+07, 3.75910054e+06, 1.09347887e+07,\n",
       "        5.24262649e+06, 9.74248928e+05, 1.38791724e+07, 1.61560437e+06,\n",
       "        4.55116926e+06, 3.86470455e+06, 1.92314870e+06, 1.09345739e+06,\n",
       "        1.16109803e+07, 3.12484767e+06, 7.24336942e+06, 2.48713050e+07,\n",
       "        4.05656170e+06, 2.21502972e+06, 2.43485592e+06, 4.41826288e+05,\n",
       "        2.24651362e+06, 3.25406384e+06, 1.76343742e+06, 4.23601216e+06,\n",
       "        6.96356341e+06, 1.25022772e+06, 8.30837229e+06, 2.79340022e+06,\n",
       "        3.11195814e+06, 1.39200323e+06, 3.53445320e+06, 1.09881828e+07,\n",
       "        3.82520163e+06, 9.50743320e+06, 5.48592508e+06, 1.11924941e+07,\n",
       "        8.66878852e+05, 6.26247370e+06, 2.30902284e+06, 2.62148763e+06,\n",
       "        1.79821289e+06, 9.18776896e+06, 2.26801690e+06, 7.78244892e+06,\n",
       "        1.00354717e+07, 1.37936202e+06, 4.55786406e+06, 1.18407404e+07,\n",
       "        2.54402491e+06, 2.42183326e+06, 7.76221606e+06, 1.53543679e+06,\n",
       "        7.08833768e+06, 2.73344411e+06, 5.46407914e+06, 3.60789736e+06,\n",
       "        2.38087840e+06, 1.50540770e+07, 1.32586347e+07, 1.46680263e+06,\n",
       "        4.88455281e+06, 4.14798439e+06, 4.21160807e+06, 3.16746464e+06,\n",
       "        1.80693927e+06, 6.05214859e+06, 1.03073978e+06, 1.53895984e+06,\n",
       "        4.50100548e+06, 5.57024759e+06, 6.30640388e+06, 6.96350066e+06,\n",
       "        1.10135470e+07, 1.08114974e+07, 1.31366183e+06, 2.39021855e+06,\n",
       "        6.77493781e+06, 5.71805354e+06, 8.10597034e+06, 1.32545541e+07,\n",
       "        8.16497188e+06, 3.38861268e+06, 1.76377223e+06, 5.61988789e+06,\n",
       "        7.67623863e+06, 1.23995074e+06, 8.00679371e+06, 1.10725518e+07,\n",
       "        1.56948929e+07, 3.01676918e+06, 8.71190263e+06, 5.24682790e+05,\n",
       "        3.13033737e+06, 9.37763667e+06, 9.22208716e+05, 3.21661049e+06,\n",
       "        3.45612199e+06, 2.93013489e+06, 9.78006530e+06, 5.81442190e+06,\n",
       "        3.04756972e+06, 2.87943437e+06, 1.52643898e+06, 3.64019914e+06,\n",
       "        9.74060584e+05, 3.71608963e+06, 3.23043736e+06, 7.44198702e+05,\n",
       "        6.18420126e+05, 2.93425204e+06, 1.58238395e+07, 4.73631903e+05,\n",
       "        1.22712185e+07, 6.04733073e+05, 1.19215008e+06, 4.11360269e+06,\n",
       "        1.52893421e+07, 2.01045640e+06, 6.90781350e+05, 6.24423662e+06,\n",
       "        8.53968218e+06, 1.78816625e+06, 2.42878662e+06, 6.40232453e+06,\n",
       "        1.84460797e+06, 4.46915167e+06, 1.97435921e+06, 6.72557842e+06,\n",
       "        1.19780575e+06, 1.77251688e+06, 2.63574417e+07, 5.20215140e+06,\n",
       "        8.63452625e+05, 3.06565084e+06, 4.55906390e+06, 6.08194472e+06,\n",
       "        3.44803100e+06, 1.30747676e+06, 1.95495316e+06, 2.80038649e+06,\n",
       "        1.32005450e+06, 3.55609157e+06, 1.61215227e+06, 1.88067999e+06,\n",
       "        1.98581131e+06, 5.65451586e+06, 5.82479904e+05, 6.26789396e+06,\n",
       "        3.24877177e+06, 3.57527440e+05, 2.78387993e+06, 2.75006350e+06,\n",
       "        6.35371462e+06, 1.37992902e+06, 5.26240351e+06, 6.21566753e+06,\n",
       "        2.46694285e+06, 2.56130170e+06, 2.82792907e+06, 2.05291158e+06,\n",
       "        6.06048648e+06, 7.10600293e+06, 5.65248387e+06, 1.14896752e+06,\n",
       "        5.71314335e+05, 2.06938784e+06, 9.90842841e+05, 6.84617399e+05,\n",
       "        1.54102522e+07, 6.52392909e+06, 1.15778171e+06, 3.06682439e+06,\n",
       "        2.33558033e+06, 3.40224261e+06, 1.76752160e+06, 7.13962590e+06,\n",
       "        5.96188447e+05, 1.50168646e+06, 2.44410346e+06, 1.33661075e+06,\n",
       "        5.22692179e+06, 9.28058408e+05, 6.46551529e+06, 1.89983277e+06,\n",
       "        1.70163222e+06, 1.15426467e+06, 4.69105746e+06, 1.30617531e+07,\n",
       "        4.62686281e+06, 3.20879513e+06, 1.01783065e+06, 5.12816275e+06,\n",
       "        1.58759798e+06, 2.87015934e+06, 1.18894289e+06, 5.77099119e+06,\n",
       "        4.39314306e+06, 3.52193031e+06, 1.24604420e+07, 1.78416801e+06,\n",
       "        3.47622063e+06, 2.91105648e+06, 4.36651867e+06, 3.04823723e+06,\n",
       "        1.72959128e+06, 3.41540648e+06, 1.97402096e+06, 4.20155242e+06,\n",
       "        6.87340486e+05, 1.52995446e+06, 1.13707375e+06, 3.66917242e+06,\n",
       "        3.08162167e+06, 9.96102787e+05, 3.82657052e+06, 3.08625803e+06,\n",
       "        6.66344805e+06, 1.66268421e+07, 4.04833661e+07, 1.31959672e+07,\n",
       "        2.56673487e+06, 7.84746361e+06, 4.70947598e+06, 1.95514714e+06,\n",
       "        1.27973970e+06, 1.43147937e+07, 1.41951974e+06, 7.18688373e+05,\n",
       "        1.31466841e+07, 3.60703156e+06, 6.39043887e+06, 1.35535857e+06,\n",
       "        4.87127621e+06, 5.47706207e+06, 5.36427288e+06, 7.08289022e+06,\n",
       "        3.93647445e+06, 2.45154458e+06, 3.71696290e+06, 9.26870512e+06,\n",
       "        1.94707495e+06, 2.74220482e+06, 4.47937868e+06, 1.60886872e+06,\n",
       "        1.59249348e+06, 2.40425057e+06, 2.69713809e+07, 3.28082871e+05,\n",
       "        1.41636471e+06, 4.16296069e+06, 2.94808646e+06, 5.01013889e+06,\n",
       "        2.07179741e+06, 1.67678973e+06, 1.93175814e+06, 1.14191222e+06,\n",
       "        9.25941153e+05, 4.35978372e+06, 7.48252852e+06, 1.56535901e+05,\n",
       "        2.14824056e+06, 1.39446330e+07, 2.27076306e+06, 1.69653148e+06,\n",
       "        6.05823207e+06, 3.58126873e+06, 9.90225571e+06, 3.46746320e+06,\n",
       "        1.40802214e+06, 1.06114562e+07, 4.17336878e+06, 2.47419374e+06,\n",
       "        2.17438279e+06, 3.19936090e+06, 3.91630656e+06, 6.46940115e+06,\n",
       "        2.35990194e+06, 8.63740432e+06, 2.88095862e+06, 2.13021877e+06,\n",
       "        2.43111853e+06, 2.94354709e+06, 3.04596182e+06, 2.89078584e+06,\n",
       "        2.29266574e+06, 6.58077985e+06, 4.58848054e+06, 2.95481224e+06,\n",
       "        5.03632711e+06, 2.52927097e+06, 5.25060903e+06, 3.41208377e+06,\n",
       "        1.02659137e+06, 2.07376559e+06, 9.38373612e+06, 2.37422369e+06,\n",
       "        6.37258088e+06, 1.39353240e+06, 3.61559839e+06, 5.60293159e+06,\n",
       "        8.09587682e+06, 4.03330724e+06, 7.58095839e+06, 7.67662197e+05,\n",
       "        9.27774230e+06, 3.87521024e+06, 8.25874955e+05, 1.23587948e+06,\n",
       "        2.56151131e+06, 2.31892259e+07, 1.95143010e+06, 6.55345856e+06,\n",
       "        5.87195744e+06, 4.03996692e+06, 1.77291119e+06, 3.59606278e+06,\n",
       "        3.20227976e+07, 2.69431379e+06, 2.14425012e+06, 1.13430372e+06,\n",
       "        2.08402358e+06, 4.09436607e+06, 1.52986000e+06, 2.75340113e+07,\n",
       "        1.37062005e+06, 4.50184733e+06, 1.65082877e+06, 1.17860782e+06,\n",
       "        2.59312926e+06, 2.99576675e+06, 1.50318864e+06, 1.05709491e+06,\n",
       "        4.10939276e+06, 4.08320830e+06, 3.70532326e+06, 4.18662217e+06,\n",
       "        2.62773737e+07, 3.37890119e+06, 4.73439168e+05, 3.58878082e+06,\n",
       "        1.24832516e+07, 1.94354423e+07, 5.11662076e+06, 2.72110759e+06,\n",
       "        4.63114506e+06, 1.14207875e+06, 1.49148805e+06, 1.21432051e+06,\n",
       "        1.22263057e+06, 7.57640827e+06, 2.63612198e+06, 6.69058401e+06,\n",
       "        1.30875951e+06, 2.70976882e+06, 8.13955813e+06, 2.92804972e+06,\n",
       "        1.62153530e+06, 3.10186963e+06, 7.55399144e+05, 2.14540741e+06,\n",
       "        3.03699582e+06, 3.51409591e+06, 1.10148354e+06, 3.49134371e+06,\n",
       "        6.15909003e+06, 1.04414758e+07, 3.60478405e+06, 1.49009407e+06,\n",
       "        2.65445228e+06, 8.43923885e+05, 2.57029475e+06, 9.02585310e+05,\n",
       "        3.05590414e+06, 1.22355094e+06, 6.05556018e+05, 9.26738590e+06,\n",
       "        5.61132434e+06, 7.83814678e+06, 4.63147035e+06, 2.25425413e+06,\n",
       "        2.65359279e+06, 1.16693858e+06, 3.12977338e+06, 5.07524348e+06,\n",
       "        1.72978486e+06, 3.21353085e+06, 1.09982983e+07, 1.13168204e+07,\n",
       "        8.21787893e+06, 2.11008107e+06, 8.47170074e+06, 5.34232501e+06,\n",
       "        4.49868995e+06, 1.28932393e+06, 7.84797845e+06, 5.78901365e+06,\n",
       "        9.16462660e+06, 2.15773023e+06, 3.84067939e+06, 2.60454160e+06,\n",
       "        1.04051389e+07, 4.41452606e+06, 5.63685088e+05, 7.31725070e+06,\n",
       "        3.26923731e+06, 4.79262046e+06, 1.28680792e+06, 9.84437513e+05,\n",
       "        1.88799621e+06, 8.57838960e+06, 1.11128739e+07, 8.20530391e+06,\n",
       "        3.37894167e+06, 1.30279948e+06, 7.35558697e+06, 3.24688062e+06,\n",
       "        6.03100582e+06, 3.08849502e+06, 2.65082558e+06, 2.00983577e+07,\n",
       "        7.71263325e+06, 3.11329282e+06, 4.25894428e+06, 2.00347287e+07,\n",
       "        5.72555722e+06, 8.45680714e+05, 1.50010864e+06, 4.24358364e+06,\n",
       "        8.13243090e+06, 3.36811907e+06, 4.50968087e+06, 6.39343788e+06,\n",
       "        1.41153027e+06, 4.42203241e+06, 4.51081742e+06, 1.68996762e+06,\n",
       "        2.07987169e+06, 4.85153700e+05, 1.31733256e+06, 2.30231203e+06,\n",
       "        1.82663708e+06, 1.05884939e+06, 5.54680812e+06, 1.72497646e+06,\n",
       "        2.88676121e+06, 2.54229547e+06, 4.56885538e+06, 9.32651352e+06,\n",
       "        2.74302809e+07, 5.33337786e+06, 1.86047316e+06, 3.66739535e+06,\n",
       "        1.40270770e+07, 4.00518849e+06, 9.49242820e+06, 1.45944441e+06,\n",
       "        2.59531022e+07, 2.90973415e+06, 3.90973775e+06, 2.56049691e+06,\n",
       "        6.38011827e+06, 1.08933407e+07, 3.10824248e+06, 2.86180935e+06,\n",
       "        2.96598883e+06, 4.78300020e+05, 2.31582080e+06, 1.46376484e+06,\n",
       "        1.87578271e+06, 2.88373767e+06, 2.73216223e+06, 5.85505290e+06,\n",
       "        3.26250500e+06, 1.14339295e+06, 5.00356788e+05, 4.36407335e+06,\n",
       "        3.29298037e+06, 2.05181612e+06, 7.49662409e+06, 3.99407801e+06,\n",
       "        3.44990107e+06, 8.09013452e+06, 7.34981374e+06, 3.29647118e+06,\n",
       "        4.80901903e+06, 1.89617952e+06, 1.09689418e+06, 1.09395368e+06,\n",
       "        2.82298431e+06, 5.76339317e+06, 4.40286987e+06, 4.53925088e+06,\n",
       "        2.13206507e+06, 1.30677080e+07, 5.56012527e+06, 3.18182278e+06,\n",
       "        1.20607518e+07, 9.05662579e+05, 2.67543114e+06, 4.90392565e+06,\n",
       "        3.08968952e+06, 3.01493004e+06, 3.65188379e+06, 4.88536829e+06,\n",
       "        3.44889828e+06, 2.66383059e+06, 1.32361990e+06, 1.54938499e+07,\n",
       "        3.11287585e+06, 3.31358015e+06, 1.36728686e+06, 4.05882457e+06,\n",
       "        1.21631247e+07, 8.18368817e+06, 3.79805045e+06, 1.36364699e+06,\n",
       "        1.50024117e+06, 2.85066324e+06, 1.10205469e+06, 1.54248094e+07,\n",
       "        3.84687001e+06, 3.74320411e+06, 1.71876242e+06, 2.56779639e+06,\n",
       "        7.06456721e+05, 5.32619029e+06, 5.89193353e+06, 5.98246082e+06,\n",
       "        1.55088449e+06, 2.74308261e+06, 1.69917250e+06, 1.73470077e+06,\n",
       "        1.83272377e+06, 1.09800780e+06, 9.62008263e+06, 2.58244272e+06,\n",
       "        2.50825626e+06, 1.03814993e+08, 3.89354804e+06, 6.39785795e+06,\n",
       "        4.03109452e+06, 5.05156289e+06, 5.48338899e+06, 3.89696544e+06,\n",
       "        1.57312200e+06, 1.11371622e+07, 8.34250559e+06, 4.15432002e+06,\n",
       "        6.79034186e+06, 4.34747302e+06, 4.47972311e+06, 1.93165119e+06,\n",
       "        7.56251383e+06, 4.81721034e+06, 3.98543208e+06, 3.64602899e+06,\n",
       "        4.25597608e+06, 1.07874180e+06, 4.57620297e+06, 6.94758964e+06,\n",
       "        2.80050929e+06, 1.11325032e+06, 2.91714835e+06, 1.56843683e+06,\n",
       "        1.52117501e+06, 5.75398528e+06, 2.14222999e+06, 8.17714134e+06,\n",
       "        3.37709119e+06, 8.80336611e+06, 4.51433805e+05, 1.99877508e+06,\n",
       "        1.70805329e+06, 1.90925957e+06, 2.40171015e+06, 6.06744293e+06,\n",
       "        1.48112039e+07, 9.99358386e+05, 1.23362030e+06, 4.45762284e+06,\n",
       "        6.05826591e+05, 6.73219835e+06, 3.08655423e+06, 3.10144972e+07,\n",
       "        1.64016889e+06, 3.03854102e+06, 1.67936403e+06, 2.76466805e+06,\n",
       "        9.53110681e+05, 2.01808506e+06, 1.37859626e+06, 1.13790315e+07,\n",
       "        1.39972890e+07, 1.53920715e+06, 1.09273991e+07, 2.51293524e+06,\n",
       "        1.33567138e+06, 3.99260632e+06, 3.46003621e+06, 1.34036062e+07,\n",
       "        1.65682996e+06, 7.39942219e+06, 3.53112339e+06, 1.06976526e+06,\n",
       "        7.59517146e+05, 7.68613708e+06, 1.22169133e+06, 7.18575199e+06,\n",
       "        5.04859685e+06, 6.43744300e+06, 3.40777044e+06, 8.95347939e+05,\n",
       "        8.84401028e+06, 6.06912564e+06, 1.06865821e+06, 2.40592550e+06,\n",
       "        3.25135692e+06, 8.66499315e+06, 5.96949353e+05, 7.61007717e+06,\n",
       "        2.04467329e+06, 4.10714593e+06, 2.25722881e+06, 9.36637565e+05,\n",
       "        5.91960036e+06, 1.22341611e+07, 1.44191838e+06, 6.56449851e+06,\n",
       "        4.83451767e+06, 2.51949059e+06, 3.39687063e+06, 2.82711356e+06,\n",
       "        2.25929835e+06, 4.96718544e+06, 3.92650872e+06, 3.97566715e+06,\n",
       "        1.42174411e+07, 3.92222062e+06, 1.11889969e+06, 1.00164697e+07,\n",
       "        4.52640795e+06, 1.85358735e+07, 3.01799600e+06, 1.17520979e+07,\n",
       "        2.91346540e+06, 3.85520567e+06, 1.14136415e+07, 1.86827966e+06,\n",
       "        5.31369707e+06, 6.00355087e+06, 2.92734551e+06, 2.09887985e+06,\n",
       "        5.06851962e+06, 6.54513557e+06, 2.15650161e+06, 4.37496528e+05,\n",
       "        1.59111014e+06, 1.67465529e+06, 4.40699775e+06, 3.67381079e+06,\n",
       "        8.72295406e+05, 3.85308787e+06, 3.22187974e+06, 1.66780051e+06,\n",
       "        8.27753049e+06, 2.41402422e+07, 4.07411954e+06, 6.26029252e+05,\n",
       "        7.37448468e+06, 1.69778776e+07, 5.24260725e+06, 5.51736794e+06,\n",
       "        3.97098892e+05, 2.44230481e+06, 1.63206568e+07, 2.17653622e+07,\n",
       "        2.24889209e+06, 1.86657869e+07, 4.05544274e+06, 3.26348860e+06,\n",
       "        6.01896483e+05, 1.27301053e+06, 2.48643788e+06, 1.43547566e+07,\n",
       "        6.62201117e+05, 3.47468412e+06, 2.66965097e+06, 2.34229110e+06,\n",
       "        2.71443325e+06, 2.37562373e+06, 1.91431799e+06, 2.08978036e+06,\n",
       "        9.88019320e+06, 2.22824797e+06, 5.59324936e+06, 3.71177133e+06,\n",
       "        5.51622197e+05, 1.81292418e+06, 7.80435010e+05, 4.40865049e+06,\n",
       "        4.92313443e+06, 1.01001509e+07, 3.13506215e+06, 4.27885687e+06,\n",
       "        9.58053061e+06, 3.94425539e+06, 3.67528289e+06, 6.99656351e+06,\n",
       "        2.83266628e+06, 7.40325648e+06, 1.12192563e+06, 7.00926004e+06,\n",
       "        2.67193488e+06, 4.48692472e+06, 2.27218300e+06, 6.85526112e+06,\n",
       "        1.56380869e+07, 1.00005079e+06, 2.66741160e+06, 4.94031779e+06,\n",
       "        1.34966535e+06, 4.36696551e+06, 3.50829559e+06, 8.33918331e+06,\n",
       "        2.35699512e+06, 3.50820155e+06, 5.85851679e+06, 1.32618499e+06,\n",
       "        5.85218595e+06, 2.57100035e+06, 1.35700371e+06, 1.58208522e+06,\n",
       "        4.42884492e+06, 2.20936866e+06, 1.97424643e+06, 5.25668794e+05,\n",
       "        1.43480869e+06, 3.87711861e+06, 5.54672892e+06, 1.95163036e+07,\n",
       "        3.01572045e+06, 8.34264984e+05, 3.75545090e+06, 1.82060894e+06,\n",
       "        5.72914814e+06, 7.61888960e+05, 1.13291337e+06, 5.05592918e+06,\n",
       "        1.06335029e+06, 2.12919902e+06, 1.21398170e+06, 2.33471175e+06,\n",
       "        3.70739420e+06, 8.08723787e+05, 3.41914958e+06, 4.24802553e+06,\n",
       "        1.70415956e+07, 5.61396893e+06, 1.24736890e+07, 1.40501134e+06,\n",
       "        2.73855924e+06, 2.46008513e+06, 3.36698762e+06, 2.72216912e+06,\n",
       "        4.08831984e+06, 2.44513280e+06, 8.46537021e+06, 3.98369160e+06,\n",
       "        1.01840120e+07, 1.51350087e+06, 2.61954029e+06, 3.69541748e+06,\n",
       "        2.64229411e+07, 3.76570016e+06, 4.14528123e+06, 1.45076631e+07,\n",
       "        2.48045084e+06, 2.34555674e+06, 5.10215424e+06, 3.40133954e+06,\n",
       "        6.90344753e+06, 2.47609557e+06, 2.24203098e+06, 1.97093842e+06,\n",
       "        3.43971719e+06, 3.37084248e+06, 2.90421049e+06, 9.32998279e+05,\n",
       "        2.56352925e+06, 1.46268165e+06, 4.22262489e+06, 1.69287439e+07,\n",
       "        1.64191647e+07, 7.10519660e+06, 1.34123551e+06, 3.77814040e+06,\n",
       "        3.31457866e+06, 1.73222330e+06, 4.11571725e+07, 3.64297769e+06,\n",
       "        1.14708006e+06, 1.24597355e+06, 3.83840688e+06, 5.42455401e+06,\n",
       "        1.80262264e+06, 2.32667788e+06, 1.77817388e+06, 2.16372261e+06,\n",
       "        3.41146749e+06, 6.84200140e+06, 1.86033884e+07, 1.32009673e+06,\n",
       "        5.74214116e+06, 5.57264477e+06, 1.26408364e+06, 2.76490284e+06,\n",
       "        2.81777162e+06, 5.37177143e+06, 4.18120264e+05, 4.37141123e+06,\n",
       "        1.01694915e+07, 4.08811609e+06, 6.85613889e+06, 2.64673892e+06,\n",
       "        2.09875546e+07, 1.88011061e+06, 4.53803317e+06, 7.34211577e+06,\n",
       "        6.11835024e+06, 3.26626807e+06, 5.16074045e+06, 6.21042829e+06,\n",
       "        4.91354569e+06, 6.72992373e+05, 8.97746145e+05, 7.99372040e+06,\n",
       "        3.79419144e+06, 1.44784504e+07, 2.77081593e+07, 1.27273350e+06,\n",
       "        4.30347972e+06, 1.52410961e+06, 4.92375851e+05, 3.90872135e+06,\n",
       "        3.00131594e+06, 6.45543800e+06, 7.54192736e+06, 7.77270707e+06,\n",
       "        3.61574867e+06, 1.52343706e+06, 2.51410215e+06, 2.83442069e+06,\n",
       "        1.62208460e+06, 6.79627502e+06, 1.38729363e+07, 9.48780143e+05,\n",
       "        1.73512593e+06, 1.47131531e+07, 4.00296458e+06, 2.31521863e+06,\n",
       "        5.36487803e+06, 5.93102526e+06, 1.51725663e+06, 2.94941621e+06,\n",
       "        1.29051780e+06, 1.41540095e+06, 2.86872041e+05, 5.69867110e+05,\n",
       "        1.96109457e+06, 7.47935080e+06, 2.07622543e+06, 2.02774658e+06,\n",
       "        5.90228464e+06, 7.63746735e+05, 1.59923126e+07, 6.77735373e+06,\n",
       "        8.30199380e+05, 4.08118647e+06, 1.51457319e+06, 2.64128054e+05,\n",
       "        3.97272672e+06, 5.66561206e+06, 1.40428914e+06, 3.13960534e+06,\n",
       "        1.26834637e+06, 2.88591341e+06, 1.38993535e+06, 5.30131665e+06,\n",
       "        4.46828209e+06, 2.12055827e+06, 1.08083181e+06, 6.06739415e+06,\n",
       "        5.10814990e+06, 2.78140189e+06, 2.77628299e+06, 4.70365549e+06,\n",
       "        1.49052146e+06, 9.69836674e+05, 4.77967538e+06, 9.72388447e+05,\n",
       "        1.30479041e+06, 9.09213908e+06, 4.86079827e+06, 2.72926854e+06,\n",
       "        5.86405299e+06, 9.79797368e+05, 4.79400465e+06, 3.63802101e+06,\n",
       "        3.97399868e+06, 4.50948716e+06, 2.44763025e+06, 1.22436256e+06,\n",
       "        1.07418377e+07, 4.70141789e+06, 3.90702095e+06, 2.15065597e+06,\n",
       "        2.60282745e+07, 6.48324437e+06, 1.16756857e+07, 9.40910928e+05,\n",
       "        5.53336864e+05, 2.38702274e+06, 7.86672301e+06, 3.58301257e+06,\n",
       "        4.45077751e+06, 5.90360605e+06, 5.62726112e+06, 3.45638869e+06,\n",
       "        6.44097890e+06, 2.93963000e+06, 4.35199340e+06, 1.48746321e+07,\n",
       "        2.59533020e+06, 8.38498979e+05, 8.85933981e+06, 2.77324197e+06,\n",
       "        7.00094716e+06, 3.64625148e+06, 8.54912825e+06, 1.76039913e+06,\n",
       "        1.12249661e+07, 1.97699924e+07, 3.14847230e+06, 3.68665527e+06,\n",
       "        3.31456131e+06, 1.12102502e+07, 2.69792315e+06, 1.66867306e+07,\n",
       "        6.88448287e+06, 3.77239675e+06, 2.08241027e+06, 3.36446884e+06,\n",
       "        2.33630440e+06, 6.08580569e+06, 1.88177031e+06, 9.00082368e+06,\n",
       "        2.38098094e+06, 2.10791509e+06, 2.21061465e+06, 1.76069025e+06,\n",
       "        1.97919205e+06, 1.15098036e+06, 2.34539266e+07, 4.02131841e+06,\n",
       "        1.45630549e+07, 4.75509228e+06, 3.02240309e+07, 5.57222807e+06,\n",
       "        7.63613831e+06, 5.47357293e+06, 6.17907405e+06, 4.85473449e+06,\n",
       "        1.03331101e+07, 1.66351284e+06, 4.69543155e+06, 4.37132922e+06,\n",
       "        1.85230430e+07, 2.28199610e+06, 1.98235886e+06, 1.29605365e+06,\n",
       "        1.08956464e+07, 2.96163416e+06, 7.46348582e+05, 8.08501804e+06,\n",
       "        1.23534226e+06, 4.97122725e+05, 1.48366863e+07, 6.96504588e+05,\n",
       "        2.06529719e+07, 8.54350190e+06, 3.99329912e+06, 2.74090322e+06]),\n",
       " 'Energy cost': array([ 6230452.00088026,  6543606.85783238,  3631568.16861336,\n",
       "        18684739.42715751,  5596933.92846693,  6558575.91268829,\n",
       "         3485396.54173819,  2736689.51271635,  2067878.97872889,\n",
       "        10400541.44659849, 16605587.543751  ,  1669455.36083021,\n",
       "         2041074.26347949,  4822253.41257388,  4718332.60080292,\n",
       "         2490009.39849756,  6118177.03558379,  3449925.4418659 ,\n",
       "         3924647.01612025,  2044882.33710505,  8365689.5087513 ,\n",
       "         9713115.28042542,  5872185.2125956 ,  5480394.42686847,\n",
       "        10026450.60155116,  6228975.973618  ,  9305446.93629043,\n",
       "         6356866.69799669,  5390012.17716056, 14685533.44939815,\n",
       "         4787390.87279821,  4373677.24597682,  5630057.33280443,\n",
       "         8476852.15915546,  3136344.7139403 ,  3480832.56648502,\n",
       "        16519818.67852364, 11811145.77945928,  2008201.42526833,\n",
       "         6224610.43073808,  6727280.37657049,  3846119.53221248,\n",
       "         3547112.40557364,  2303155.27657563,  2913736.52798751,\n",
       "        13382451.99750743,  2926642.24699789,  5437232.04908444,\n",
       "          917156.27567639, 44437744.05322515,  1510138.9274861 ,\n",
       "         3465144.46840055,  3927457.49698831,  2723667.83017628,\n",
       "         2601451.99001946, 10443520.07898838,  1214086.41651921,\n",
       "        17018274.96437668, 16703951.01229315,  7368527.59459193,\n",
       "        10129524.60250287,  4916074.89064769,  1999018.39304317,\n",
       "        92455527.68944599,  1051303.08030724, 19351943.7709143 ,\n",
       "         4024344.89428176,  2354774.25577001,  6923243.6913774 ,\n",
       "         4478267.1402949 ,  8965981.01988848,  4739028.94638824,\n",
       "        25777347.62015118,  1036617.73585392,  8402773.39418541,\n",
       "         6731933.12894366,  9816303.63943208,  2287879.58112547,\n",
       "         4221966.81022763,  8341831.25601045,  6243646.50556796,\n",
       "         3460907.23541965, 23168279.32991201,  5240919.51259455,\n",
       "         7400449.17009548,  3396136.48017033,  1814837.85806075,\n",
       "         5912342.94807101, 17120029.89027108,  3743372.45305282,\n",
       "         5556795.95743034,  3676856.24044005, 13316599.79755629,\n",
       "         2597880.89069094,  6642391.54029533,  2744641.5978297 ,\n",
       "         7336271.80388389,  7808863.62835254,  2985367.61476069,\n",
       "        17065533.7005887 , 14143950.27665941,  4051342.58911142,\n",
       "         5259005.55905478, 10986330.12022247,  3315706.5566622 ,\n",
       "         8264906.73445497,  8733532.52590672,  3066061.69308804,\n",
       "        21142365.57030826, 12368927.02448417,  2930981.50541377,\n",
       "        13458714.42790103,  7951004.62842207, 22560446.49939225,\n",
       "         8560160.9119745 ,  6169099.8312513 , 20401520.36291676,\n",
       "         3291598.13639197,  3016991.27039082, 17583557.44174179,\n",
       "        11261731.85185401,  2474266.76228164, 35163701.85670912,\n",
       "         4020181.48568636,  5465198.95143585,  5575788.74061779,\n",
       "         4926888.12143464,  2889873.29369177,  1631126.12412312,\n",
       "         3994695.51459919, 13452973.39470494,  3466233.83020561,\n",
       "        17436373.23208999,  3047355.60463045,  2355688.41900374,\n",
       "         4212378.45938706, 19153200.81094553,  6658937.02404505,\n",
       "         6597945.25297614,  3498400.26646493,  2260170.45144932,\n",
       "         6579158.30549483,  7311085.38969945,  5675853.2671331 ,\n",
       "         3787963.45228019,  4771931.12114821,  4831096.63970166,\n",
       "         4958602.82878843,  9321690.40713713,  3165674.91942218,\n",
       "         4032517.38560512,  5153757.45257584,  3015489.30553564,\n",
       "         6044019.41640142,  5994671.02932937, 10354736.94465608,\n",
       "        33081197.14240515, 12718786.04879058,  2637381.41392754,\n",
       "         1298578.62930413,  8187903.06936348,  3131251.52491786,\n",
       "         1962026.45680483,  8097039.93764296,  1748229.57934266,\n",
       "         2843336.72225713,  4553847.77025119, 12972653.07343983,\n",
       "         9811113.05127418,  6658164.68508375, 15755866.0404851 ,\n",
       "        22900995.72665221,  4177855.21600881, 35687799.54344597,\n",
       "         2867988.56541214,  6725366.46560697,  4924858.82959822,\n",
       "         4395639.11833458,  7850452.97431995,  9807800.39511425,\n",
       "         2356015.33613967,  2928557.95887292,  7836372.98248551,\n",
       "        13195827.98283956,  7836223.58038893,  8955434.59026966,\n",
       "        13259893.78941352,  7222218.29672521,  2467458.19841961,\n",
       "         2225596.17687717,  3310952.40212177,  3521359.0248101 ,\n",
       "         9075216.13418257,  2238043.05919698, 15025439.31943218,\n",
       "         3064570.34499787,  6854038.39542557,  1262582.370285  ,\n",
       "         8137745.04345145,  6481386.87992094, 11751680.0471432 ,\n",
       "         1277888.09255784,  3541495.3762423 ,  4332517.246061  ,\n",
       "         3680588.09003407,  9111808.7638841 ,  1623345.73340849,\n",
       "         5703674.07702597, 14404956.28049381, 24975912.29281263,\n",
       "        16813246.26832952,  5964412.49002151,  1410478.39931736,\n",
       "         1890244.14298559, 10519744.05489311,  6446960.52990972,\n",
       "         4640812.87588564,  7967145.68550754,  4775559.41843302,\n",
       "         6829946.37678922,  7810099.9051711 ,  5002716.58591464,\n",
       "         2592317.08330837,  6216849.05895493, 19867115.32413001,\n",
       "        15103378.04584518,  1867335.70521566,  7101593.28794233,\n",
       "         2873154.08697166,  4447265.56367369,  3531843.02910927,\n",
       "        10337661.01940986,  7238656.44617013, 15051826.94525897,\n",
       "         4564477.2167964 , 15210648.20364634,  1898467.16349715,\n",
       "         7875762.96953486, 23789806.48916526,  2803104.18547159,\n",
       "         6483146.86008413,  2766865.35192615,  2050193.8955672 ,\n",
       "         8359850.04224115,  4182503.01282092, 17243244.29836249,\n",
       "         1606680.18094144, 13283288.60236472, 13930592.61145912,\n",
       "         3941297.83373054,  3062915.86749572,  8591963.60662272,\n",
       "         9675885.45170498,  2307279.43464132,  9744995.5828422 ,\n",
       "         2134563.64759519,  3921630.01630828, 13004824.20390462,\n",
       "         1892642.73251372,  7442224.49393725,  6723683.75287696,\n",
       "         7204963.55998935,  4358730.21959256,  4545481.60627008,\n",
       "         3483335.35858541,  3702228.2301961 ,  4383834.34785985,\n",
       "        25997351.7235398 ,  3541052.21914147,  1899539.33346347,\n",
       "         3283138.313117  ,  6391500.67343121, 11718598.90969953,\n",
       "        10521768.73077809,  5777463.02389003,  2792654.49756851,\n",
       "         4010744.24526401,  5579513.45243579,  5450932.4961946 ,\n",
       "         3105561.64798183,  2580684.38331574, 16675075.77646847,\n",
       "         5578950.67864176,  5729810.52943375,  1863928.70396426,\n",
       "        11320717.95481121,  2542532.72535721, 15299343.08119343,\n",
       "        22612847.57035723,  1196411.24415623,  7935799.6712523 ,\n",
       "         2306919.61957104,  3562783.32435545,  4709547.6879883 ,\n",
       "         4599949.45615151,  6240724.41403101, 21884704.49544365,\n",
       "         2573018.8107102 ,  2325168.06219268,  3159240.16882867,\n",
       "         9457130.58170559,  3752007.53186832, 19962265.59471233,\n",
       "         2694903.01707175,  2092248.1704594 ,  3295891.1637497 ,\n",
       "         6233496.85223441,  4569649.98246666,  6557851.93316293,\n",
       "         5015495.4274909 , 14420695.40818394,  2114097.25093272,\n",
       "         2621756.3625581 ,  5158908.66096473,  5868137.04479152,\n",
       "         4113199.72708423, 27268210.32106166,  4705091.4162364 ,\n",
       "         6739956.41737106,  3669855.08209371,  3218010.38802236,\n",
       "        15337624.52251217,  4524152.96607211,  5862275.5926185 ,\n",
       "         9048239.63006484,  6979962.92416298,  2777904.91009649,\n",
       "        11742102.35223578,  3096431.0355144 ,  5022782.67055838,\n",
       "        12846991.80491708,  3365506.7144192 ,  2269552.4382838 ,\n",
       "         1087781.78745086,  6242505.41357728, 12201884.38681389,\n",
       "        12197676.02385302, 16076755.05940329,  3096559.31249109,\n",
       "         5092720.05840061, 19080486.05988936,  3680835.94740054,\n",
       "        12149222.76960329, 15223146.46585567,  3309111.57585967,\n",
       "         3947760.66927813,  2783934.20724774,  5161173.2073674 ,\n",
       "         3683623.0573741 ,  5034828.30111415,  6306824.95368513,\n",
       "         2995779.3794135 ,  1625257.54821694, 34431629.07729849,\n",
       "         7996313.91754361,  4943697.65288587, 11454985.41973718,\n",
       "         3425563.62083302,  6532059.63611481,  1992512.55260552,\n",
       "        10919932.32955395,  9523616.10938156,  5289488.06682397,\n",
       "         1680511.30822019,  5342002.77244301,  4463388.67913614,\n",
       "         3536567.64023889, 10617392.7486164 ,  7251785.28482325,\n",
       "         2435004.62677615,  5252860.57449705,  2521715.83845726,\n",
       "         4416316.83618923,  7104219.05253666,  4485380.71632313,\n",
       "        11140107.4458516 ,  3692068.78063491,  4870721.88642847,\n",
       "         6885768.26628674,  1766886.1472241 ,  9105817.88031647,\n",
       "         3300654.73511656, 11284855.0332995 ,  1531750.36257035,\n",
       "         2456745.51712116,  4563600.07123379,  9885445.90578038,\n",
       "         2460005.26136475,  1696927.50107135,  4293712.38584966,\n",
       "         6373978.4281843 ,  5060314.68284378, 17054319.8020102 ,\n",
       "         5692321.16425124, 10265169.01226815,  2656810.84408163,\n",
       "         9756792.12852934, 10406984.37475163, 49020749.34436245,\n",
       "         8986164.25442345,  4857472.79119252, 18648827.44289787,\n",
       "         5168657.62601313, 10727819.75357951, 15797412.18962883,\n",
       "         3492979.76278657, 10570077.61880598,  7399025.81251494,\n",
       "         2779266.39374001,  3215535.24144265,  1982614.63914508,\n",
       "        13590660.63943325, 16946667.10363976,  3962818.17081814,\n",
       "         3121159.02769828,  7862193.89461306,  3382573.0450668 ,\n",
       "         8149860.04420058, 13610387.4335827 ,  9830017.66202767,\n",
       "         7797590.80146216,  1011052.78190032,  3015405.64337251,\n",
       "         5034018.12517202,  2830002.05776807,  5203036.04386935,\n",
       "         3467478.58163554,  4816483.09553941, 27875913.70581916,\n",
       "         5322467.56897375, 14705405.83016284,  1979417.5792913 ,\n",
       "         2372081.6901799 ,  6141013.6339853 ,  8165855.44692976,\n",
       "         8054405.02647791, 14237711.96048906,  5908574.32351659,\n",
       "         4319253.62885839,  4262428.50797643,  4062820.82067911,\n",
       "        23550674.85047323,  6162052.05942515, 13695205.85244021,\n",
       "         6659246.78069342,  3814579.98551443,  8498888.91112243,\n",
       "         4468021.85485984,  4144422.42389624,  7078037.14420142,\n",
       "         6597159.97021334,  3256413.26921904, 10817125.03329313,\n",
       "         5450730.79751001,  7855882.3279098 , 12387163.90790489,\n",
       "         5374460.44540353,  4054723.75362128,  8993574.76305729,\n",
       "         6290462.78798715,  2503163.69369576,  6317950.63754317,\n",
       "         4959046.94536218,  4571339.20497544, 10025182.37590999,\n",
       "         6330332.48115933,  3030375.93712525, 10412156.64485264,\n",
       "         2865210.84008589, 25143093.21583024,  1859606.9692419 ,\n",
       "         4428167.80175984,  3048046.97695724,  9101835.77346728,\n",
       "        16985853.19925055, 23094231.06555777,  7092192.34795827,\n",
       "        17587957.89870581, 10898024.85423206, 10362146.75957298,\n",
       "         4827719.44429782,  5365252.07216339, 15649945.11801943,\n",
       "         5161463.67106991, 14268839.83632541,  4565715.72865443,\n",
       "        17917518.46506817,  4522348.5844255 ,  2690688.46303819,\n",
       "         8817258.54206321,  2327289.49655963,  1684893.50276222,\n",
       "         6140963.22631733,  9361086.05932172,  5098074.9830447 ,\n",
       "        11080811.61390917,  7840032.34700454,  6851487.4255994 ,\n",
       "        15984463.28847141, 14783790.63079261,  8188554.9403872 ,\n",
       "         7479424.79322821,  5705262.03139707, 16923239.6066433 ,\n",
       "        16538465.42485282,  1432614.74855532,  7975088.88270281,\n",
       "         4589175.17587478,  9538941.72408894,  3823947.53689871,\n",
       "         4177698.01954391, 14710434.47022048, 24991390.0527283 ,\n",
       "         6165027.21359689,  5411834.98062704,  7610613.89123879,\n",
       "        20889829.3242516 ,  4719144.6026547 ,  5017671.16045843,\n",
       "         2868020.89015393,  1609575.30598927,  6821684.34780791,\n",
       "         7236684.1549195 ,  7117117.21626096,  6616033.73995248,\n",
       "         4878480.80532002,  1804807.28588539,  4041109.06334117,\n",
       "         4480922.82148538,  8113748.66270032,  4700089.08687262,\n",
       "        15435598.37534884,  6722109.57504111,  2878629.19531818,\n",
       "         3028790.06127565, 19931879.91398846,  4925968.54820269,\n",
       "         1969254.46863815,  8904523.11963207, 11719038.87990009,\n",
       "         4436717.10751696,  6889064.44736676, 16591408.15496027,\n",
       "         7849754.27285642,  3567873.19132223,  5552882.14153973,\n",
       "         8868531.78495416,  5199324.16393019, 17221863.18688045,\n",
       "        51038677.46175689, 10102363.10842794, 35031650.83982072,\n",
       "         8611835.92939895,  2994978.64841008,  8612830.21652425,\n",
       "         3697169.77588365,  4338408.50033771,  4229003.97663813,\n",
       "         4347678.81674819, 11229363.98194011,  5481092.75635575,\n",
       "         4821657.49707891,  4349842.49988636, 14959523.1878729 ,\n",
       "          760028.74951281,  5235277.63976316,  4896111.84941294,\n",
       "         2726964.51922261,  1051599.44592877,  9847593.60587123,\n",
       "         3856883.09047852, 11121302.8984214 ,  2433208.80034322,\n",
       "        11495824.06094591,  2568628.91472555,  4184933.98332293,\n",
       "        23275058.84231798,  7409298.05786111,  4499445.83441253,\n",
       "        19876784.35101368,  2393978.29460987,  4226334.81056713,\n",
       "         6610895.48654397,  5292292.59361132,  1384253.96043575,\n",
       "         6326878.84343029,  4852618.6261174 ,  2683779.91060942,\n",
       "         7426431.73398847,  2270817.65127607,  4980594.12537087,\n",
       "         5991888.60323958,  1317850.00244789,  6041141.16104153,\n",
       "        11917110.63062352, 11629733.99480441,  6108755.08263507,\n",
       "         3926979.17964232,  2066641.75528245, 16307767.35678445,\n",
       "         4848186.63561358,  4935528.15147175,  3503938.8664305 ,\n",
       "         3039541.22476596, 12590098.67984151, 20751663.14656957,\n",
       "         5293832.55187756,  7253650.83901323, 11538863.40500308,\n",
       "         2634356.97461348,  3808047.57621765, 23249262.95274157,\n",
       "         2452039.83113284, 24443236.41860314,  2131900.20870273,\n",
       "        16264568.49759175,  6807572.07654504,  8545643.32085073,\n",
       "         8002625.70273644,  4023490.66205664,  1423889.63073006,\n",
       "        12621663.42900977,  3472257.39912708,  7244779.4571626 ,\n",
       "        11894065.24405461,  4102757.60794837,  6186218.79730896,\n",
       "        17995551.28111174,  5272163.73407856,  6205481.53200875,\n",
       "         6411470.69448128,  4741386.00219299,  1335719.52415406,\n",
       "         4172045.26786391,  3483932.90826779,  4016162.90776115,\n",
       "         4814359.36163548,  5889739.03230201,  3189975.39867819,\n",
       "         4287125.93639471,  2888032.6349309 ,  8925939.14447219,\n",
       "         2118395.44982596,  1858023.09908471,  3119330.23607093,\n",
       "        13415247.27229156,  3243313.34941767, 13822048.41301215,\n",
       "        24942976.94597365,  9336676.53081775,  8056377.62040173,\n",
       "        14522230.55848287, 12085813.29437897,  2191981.59503865,\n",
       "         1412179.94075928, 33173678.73122794,  3370747.07475705,\n",
       "        19148186.15722382,  4881173.00850929,  2816526.95195742,\n",
       "         4389251.81471055,  6583064.59846507,  6150808.04650225,\n",
       "         2607594.80289024,  4544203.24959778,  7274335.35454053,\n",
       "         9791815.72307843,  3541812.95218027, 16024150.30411575,\n",
       "         7410036.68068363,  9085520.24698762,  5394520.47904981,\n",
       "         1514742.13822226,  2244316.49208134,  3371268.32541467,\n",
       "         3562878.98394886,  3591188.47845069,  9302572.9184522 ,\n",
       "         5529565.5660273 ,  1217366.54142665,  6697072.98651822,\n",
       "         7729457.25080182,  4333875.03485796,  1639264.18423432,\n",
       "         5929413.89746625,  5090517.52311945,  6055441.39692428,\n",
       "         6656886.16999228,  6999874.61482964,  9662358.57979158,\n",
       "         3318381.57726273,  2338719.51037683, 14388934.74208626,\n",
       "         8646614.20933715,  5077008.86978582, 12006221.78449181,\n",
       "         2952836.44910664,  7834149.84922533,  9049972.72583801,\n",
       "         8510276.489492  , 12335433.35450986, 13529174.47499484,\n",
       "         8088259.33942633,  3447130.85274929,  4299122.72996159,\n",
       "         4728818.9342714 ,  9575794.31969088,  3442585.13605472,\n",
       "         4923747.64085638,  7022885.47738317,  2010364.40833027,\n",
       "         7158367.93720751,   759158.78517098,  7652958.40742433,\n",
       "         3600476.05650725,  8989155.47124783,  3116452.41417669,\n",
       "         3763829.90568713,  6150555.16868188, 10084872.55792115,\n",
       "         5786872.57224535,  9175260.25790777,  1944048.11257004,\n",
       "        13030051.38271967,  5279764.75831971,  6887887.45355092,\n",
       "         4625878.88543101,  7832610.23509985,  2140174.799831  ,\n",
       "         8941508.44941346,  1284028.44247315,  5044044.42206975,\n",
       "        19916865.63460642,  8776451.1508963 ,  4829554.95191067,\n",
       "         7034988.57133478,  3497496.80230096,  6089626.92547447,\n",
       "         2606279.35128459, 13135940.27091481,  9144892.64152645,\n",
       "        16266852.97443975, 12487915.62133636,  1729676.90795597,\n",
       "         3645042.69553768, 12406777.96625853,  3744707.42701212,\n",
       "         6966999.52269461,  7979014.05428783,  1956571.47225997,\n",
       "         6144897.33921032,  6675445.55775044, 13350412.38399398,\n",
       "        11215814.15886908,  9137017.94823036,  6202967.88841102,\n",
       "         5829248.82064313,  5811661.77829635, 11792655.70230249,\n",
       "         4915577.89137064, 20240146.12510436,  3845632.43890715,\n",
       "         4387384.02002161, 17627204.67578567,  2730395.69471467,\n",
       "         5278017.34195934,  8947208.33405276,  9316389.93242516,\n",
       "         3510979.34985809,  4448947.98276796,  4042671.14218043,\n",
       "         6382735.19338269, 62277101.7892511 ,  1216691.92813412,\n",
       "        11477758.29945129,  8321542.30828833,  4070657.40177632,\n",
       "         2193227.35591124, 17898713.0945684 , 10909007.30959865,\n",
       "         7263358.10886326, 10660808.02383661,  5954541.7017742 ,\n",
       "         2348421.22496779,  6675451.70557691,  3382101.62573739,\n",
       "         3444622.4082529 , 10709367.07139739,  9773873.23942627,\n",
       "         3562490.62949782,  1662915.19623676,  2010273.58963271,\n",
       "        20297534.85499881,  4052050.0359393 ,   961518.575152  ,\n",
       "         5936029.09966185,  5089067.93662967, 13011066.9813302 ,\n",
       "         4969907.33440884,  9403856.97550925,  3112059.42816628,\n",
       "         7722598.90987037,  1789039.93858816,  8621295.55972095,\n",
       "         2853619.47490517,  3223438.63865567,  9509514.26640865,\n",
       "         1989961.44278723,  5993139.45814039,  6221124.22724209,\n",
       "         6195933.98130427,  2976803.61511998,  2824527.44010872,\n",
       "         2634616.11844888,  9314939.27257369, 14171966.79323603,\n",
       "         3796793.98706444,  3108190.80215771,  9334413.69915869,\n",
       "         5066536.88619984, 15782441.64604564,  2982566.75202383,\n",
       "         4341893.36722382, 13117834.52720939,  2581565.04555058,\n",
       "         4053618.08795491,  4627833.93231377,  4796199.25035492,\n",
       "         4760917.45246657,  9338815.59965269,  4185984.82243663,\n",
       "         6659782.42543767, 19955944.71457792, 15856907.77917211,\n",
       "        25020782.16407137,  4820829.37428787, 10513351.55649693,\n",
       "         9055537.61151768,  8799308.53608809,  1970821.42966233,\n",
       "         3196450.51852314,  6334574.18038219,  6188135.35748533,\n",
       "        16433380.55106365,  3882883.31632849,  3870216.92704544,\n",
       "         1242378.33108846,  1621246.13437394, 11615527.27540422,\n",
       "        11011000.96686637, 17189385.06163045,  3763272.19672661,\n",
       "         3286099.67515   ,  5583135.91612818,  4262316.19952906,\n",
       "        29022532.12300545,  8946378.98754175,  8912114.67436613,\n",
       "         5015349.32141883,  5537869.9347797 ,  8999991.03591841,\n",
       "         1774951.78987126,  3573202.0669279 ,  4215877.58047761,\n",
       "         6194941.8130092 ,  4625470.28989898,  1992953.98926633,\n",
       "         8602737.56603128, 22657406.35468759,  7097914.01538545,\n",
       "         2234449.49570522, 16343693.07657055, 27620929.80047577,\n",
       "         5326243.5063949 , 13160511.72141506,  2106708.83382189,\n",
       "         3956095.96371962,  3019746.47985921,  8067105.49563936,\n",
       "         2558062.07070451, 13320285.28438711, 10990719.29579289,\n",
       "         7121181.40024799,  5787389.70995969,  7734364.86899398,\n",
       "         5074275.04428967, 20446139.98317827,  9233889.0630453 ,\n",
       "         3719297.96852345,  5997485.73725108,  6618335.25480166,\n",
       "         7122377.2321439 ,  4996054.75542475,  2238871.91657217,\n",
       "         2243937.34506267,  2420285.64630223,  5499749.15018862,\n",
       "         8571087.60066824,  6564097.37901886,  5529465.30569098,\n",
       "         7585442.04019935, 18081863.20444883,  4555096.69715407,\n",
       "         5827595.12007925,  9667708.96344892, 14165579.40848393,\n",
       "        10015603.55792437,  6925356.44728711,  8350679.81071943,\n",
       "         3903562.71874161,  7327179.67964394,  3748471.16700064,\n",
       "         3386725.46049584,  2496648.07802757,  5014619.91581512,\n",
       "         5385772.49879618,  2855954.63609366,  4822336.50047404,\n",
       "        11774007.87808038,  6449842.74330789,  2265402.41662976,\n",
       "         2921242.57093952,  6530025.75280755,  2994928.28766244,\n",
       "         3938944.75060996, 10790118.51324766,  3392826.43047885,\n",
       "         3270221.9667061 ,  6018085.38589671,  2475345.76824041,\n",
       "        17685180.78209924,  8463431.72010832,  7789145.72520277,\n",
       "         2275768.70898672,  6221344.62860612, 22335493.32547865,\n",
       "        10861773.74836349,  9785221.09535695,  7935567.56220754,\n",
       "         4228939.35246894,  5175943.24426755,  3821494.8680052 ,\n",
       "         8666090.0132556 ,  2402188.87553166, 25590992.06033179,\n",
       "         3343826.46633882,  4048514.19107902,  2833229.95336484,\n",
       "         1392696.18724038, 36783153.14806378,  3077478.61574173,\n",
       "         4303848.32399791,  4423862.35758728,  2610425.74233528,\n",
       "         8577100.94913195,  5628412.7042556 , 16408738.10476551,\n",
       "         9252082.60784721,  6739034.96748535,  1276016.55048843,\n",
       "         3105435.90947839,  1651378.96640442,  8843377.1554927 ,\n",
       "         3859004.45307085,  5568481.02778542,  7632125.47794187,\n",
       "         2396423.73911493, 10003126.64402212,  5286227.00756649,\n",
       "        16844108.97228789,  4577063.43229796,  7151575.88144344,\n",
       "        16154603.84958269,  5169246.97850204,  4755738.62547651,\n",
       "         6581529.41477133,  4835240.54101567, 12984488.85255038,\n",
       "         1970722.41110491,  7689353.36075227,  5279108.59670029,\n",
       "        10878114.16485449,  4524146.03033637,  1675180.43785831,\n",
       "         2765912.811689  ,  3908011.73470126,  2855089.89902468,\n",
       "         6636578.3513574 ,  3582183.50314111,  9678801.27445121,\n",
       "        41346865.3525739 ,  9109592.93186346,  2723535.10779532,\n",
       "         1007089.49822657,  6318367.39007679, 11187456.86224249,\n",
       "        17630347.49944013,  7325497.3658158 ,  4351517.38164003,\n",
       "         7220666.79669777]),\n",
       " 'R&D staff cost': array([1.40714593e+08, 2.05778762e+08, 1.45313006e+08, 1.12975837e+08,\n",
       "        2.97076736e+08, 1.75269765e+08, 2.50737699e+08, 1.48863880e+08,\n",
       "        9.93064382e+07, 3.00134678e+08, 1.69918895e+08, 2.48644464e+08,\n",
       "        9.79039262e+07, 1.12402596e+08, 1.61541355e+08, 1.81193548e+08,\n",
       "        2.57754650e+08, 1.94212301e+08, 2.09433885e+08, 8.23030230e+07,\n",
       "        1.74602109e+08, 1.13396991e+08, 1.11983060e+08, 1.63483766e+08,\n",
       "        1.15479900e+08, 1.54455570e+08, 9.57496204e+07, 1.54690678e+08,\n",
       "        2.14824614e+08, 1.61670290e+08, 1.30628374e+08, 1.61565621e+08,\n",
       "        1.66385798e+08, 1.40632743e+08, 1.11567271e+08, 1.32409690e+08,\n",
       "        1.63477576e+08, 1.59833642e+08, 1.34349475e+08, 1.73269603e+08,\n",
       "        2.08750298e+08, 2.53152772e+08, 2.71059891e+08, 2.03566773e+08,\n",
       "        1.38939038e+08, 1.26259132e+08, 1.35524963e+08, 1.47661351e+08,\n",
       "        1.42236346e+08, 1.58370717e+08, 2.39360467e+08, 1.89041032e+08,\n",
       "        1.37146855e+08, 9.78949174e+07, 1.42750533e+08, 2.43311427e+08,\n",
       "        1.61253295e+08, 1.57022266e+08, 2.18677723e+08, 1.29127826e+08,\n",
       "        2.98010220e+08, 1.27168576e+08, 1.58677505e+08, 2.29600930e+08,\n",
       "        8.43804596e+07, 1.17912499e+08, 1.17758612e+08, 1.73577707e+08,\n",
       "        1.12209039e+08, 1.63766103e+08, 1.62218737e+08, 1.53611984e+08,\n",
       "        1.51061087e+08, 2.10985329e+08, 1.93190964e+08, 1.60729326e+08,\n",
       "        1.59892841e+08, 1.13352615e+08, 1.86037790e+08, 1.20778635e+08,\n",
       "        1.25518317e+08, 1.17905129e+08, 1.56685177e+08, 1.59973719e+08,\n",
       "        2.05318663e+08, 1.32472195e+08, 1.40206148e+08, 9.35451213e+07,\n",
       "        1.56086958e+08, 1.59029518e+08, 1.11424196e+08, 1.38673179e+08,\n",
       "        1.12654281e+08, 1.84708354e+08, 1.43882682e+08, 1.81234280e+08,\n",
       "        1.09521823e+08, 8.49899521e+07, 2.25695382e+08, 1.33660504e+08,\n",
       "        2.94988477e+08, 8.64157663e+07, 1.45433373e+08, 1.73989436e+08,\n",
       "        2.53855677e+08, 6.37212876e+07, 1.04992220e+08, 3.21381552e+08,\n",
       "        1.03534001e+08, 1.44619678e+08, 8.71617791e+07, 9.24398399e+07,\n",
       "        1.29305048e+08, 8.00708977e+07, 2.54949012e+08, 1.39683309e+08,\n",
       "        2.21682407e+08, 1.83521038e+08, 9.19054827e+07, 2.36171217e+08,\n",
       "        9.06454275e+07, 1.39553030e+08, 2.07555308e+08, 1.46478742e+08,\n",
       "        2.05379429e+08, 1.84845119e+08, 1.98073409e+08, 1.44462814e+08,\n",
       "        1.42379777e+08, 2.21827278e+08, 1.33202830e+08, 2.17099782e+08,\n",
       "        3.40484876e+08, 1.67522798e+08, 9.37095676e+07, 2.29594199e+08,\n",
       "        1.24681438e+08, 1.86735032e+08, 2.21879907e+08, 2.49386427e+08,\n",
       "        1.72703288e+08, 1.74081622e+08, 9.00456746e+07, 1.09672962e+08,\n",
       "        1.52507808e+08, 3.35729246e+08, 1.60917227e+08, 2.22396026e+08,\n",
       "        1.32929444e+08, 1.51979315e+08, 2.50804250e+08, 2.08624415e+08,\n",
       "        1.67158862e+08, 1.52599599e+08, 9.93061305e+07, 1.21080412e+08,\n",
       "        1.06118495e+08, 9.01890573e+07, 1.76229406e+08, 1.28226214e+08,\n",
       "        1.98686485e+08, 2.63084607e+08, 1.91421194e+08, 2.39818742e+08,\n",
       "        2.55112343e+08, 9.33531222e+07, 1.44000753e+08, 1.02922063e+08,\n",
       "        3.11630725e+08, 1.59811688e+08, 8.73644241e+07, 2.49151402e+08,\n",
       "        2.07012008e+08, 9.35988208e+07, 1.18705847e+08, 1.39309826e+08,\n",
       "        1.19101823e+08, 2.31017325e+08, 1.56834196e+08, 6.99181136e+07,\n",
       "        1.58803299e+08, 1.44188705e+08, 2.13866957e+08, 1.69686597e+08,\n",
       "        2.69373100e+08, 1.42989636e+08, 1.41681522e+08, 1.96013468e+08,\n",
       "        2.60231717e+08, 1.92611618e+08, 1.27560017e+08, 1.56388311e+08,\n",
       "        1.89451509e+08, 8.48576823e+07, 2.34846557e+08, 1.13355600e+08,\n",
       "        7.36819352e+07, 1.83750866e+08, 1.37394267e+08, 2.11942055e+08,\n",
       "        1.12038430e+08, 1.19045046e+08, 1.32277705e+08, 2.18378601e+08,\n",
       "        8.36174538e+07, 9.88570728e+07, 3.06089949e+08, 1.40915454e+08,\n",
       "        2.53015652e+08, 1.82833153e+08, 1.83431013e+08, 2.25573721e+08,\n",
       "        1.42579319e+08, 1.71721123e+08, 1.93590605e+08, 9.18336940e+07,\n",
       "        1.79316128e+08, 1.15160192e+08, 1.47372187e+08, 1.11319021e+08,\n",
       "        1.14045225e+08, 2.17188952e+08, 1.46127908e+08, 1.36488156e+08,\n",
       "        1.11010746e+08, 2.13443972e+08, 2.97639484e+08, 2.11594233e+08,\n",
       "        1.61507799e+08, 1.54940818e+08, 1.57308988e+08, 9.76806884e+07,\n",
       "        2.33193611e+08, 1.53886549e+08, 1.71253347e+08, 1.43237326e+08,\n",
       "        1.52954621e+08, 2.52760259e+08, 1.05817322e+08, 1.06990084e+08,\n",
       "        1.42424127e+08, 1.51318072e+08, 2.49041292e+08, 1.14143224e+08,\n",
       "        1.10885725e+08, 1.23862332e+08, 1.44611105e+08, 1.38516572e+08,\n",
       "        1.64437365e+08, 2.02324654e+08, 9.40747790e+07, 9.02994453e+07,\n",
       "        1.10097599e+08, 1.44383589e+08, 2.14469191e+08, 1.80393878e+08,\n",
       "        1.72829279e+08, 1.33216153e+08, 1.94321263e+08, 1.99930288e+08,\n",
       "        1.63785876e+08, 1.58804011e+08, 1.26670478e+08, 1.70008004e+08,\n",
       "        2.31583129e+08, 1.27759076e+08, 2.03261821e+08, 1.67393452e+08,\n",
       "        1.38788200e+08, 1.98876515e+08, 2.01875937e+08, 2.64774184e+08,\n",
       "        1.73200205e+08, 1.82961666e+08, 9.46471168e+07, 1.50513849e+08,\n",
       "        3.81341516e+08, 1.65523669e+08, 2.63168627e+08, 2.13732275e+08,\n",
       "        2.36318903e+08, 2.82004306e+08, 1.59763473e+08, 2.30338572e+08,\n",
       "        2.83971472e+08, 1.70647832e+08, 1.82425377e+08, 1.86682979e+08,\n",
       "        1.80221289e+08, 1.12774680e+08, 1.73736981e+08, 1.38392705e+08,\n",
       "        1.72087943e+08, 1.30135390e+08, 1.26232462e+08, 9.61385180e+07,\n",
       "        2.02087100e+08, 1.26463703e+08, 1.14137285e+08, 2.81747336e+08,\n",
       "        2.40547089e+08, 1.07041138e+08, 1.04888955e+08, 1.38380161e+08,\n",
       "        1.15029159e+08, 2.79348617e+08, 1.73437546e+08, 1.28376189e+08,\n",
       "        1.64305163e+08, 1.30281871e+08, 1.30147333e+08, 2.62349496e+08,\n",
       "        1.51742460e+08, 1.84436572e+08, 9.13851675e+07, 1.05832424e+08,\n",
       "        2.03067658e+08, 2.05932852e+08, 1.60461775e+08, 1.10241669e+08,\n",
       "        1.01430510e+08, 1.58906415e+08, 1.36049392e+08, 7.72493198e+07,\n",
       "        2.05729640e+08, 1.92981516e+08, 2.34721498e+08, 1.55392858e+08,\n",
       "        1.98484212e+08, 1.23789272e+08, 1.69851943e+08, 1.50402153e+08,\n",
       "        1.07588162e+08, 1.65932072e+08, 1.73806341e+08, 8.76111718e+07,\n",
       "        1.55094483e+08, 1.86427473e+08, 1.55301842e+08, 1.48337729e+08,\n",
       "        1.52415467e+08, 2.53062296e+08, 1.92742040e+08, 1.91928227e+08,\n",
       "        3.56883524e+08, 2.49671040e+08, 1.45868031e+08, 1.48799202e+08,\n",
       "        3.06644798e+08, 2.21029501e+08, 1.64017735e+08, 3.48316201e+08,\n",
       "        9.50571844e+07, 2.56166464e+08, 1.77710087e+08, 1.39003840e+08,\n",
       "        1.08461314e+08, 2.43859242e+08, 2.28232532e+08, 1.27792371e+08,\n",
       "        1.75085674e+08, 1.97392024e+08, 9.71329491e+07, 1.21480525e+08,\n",
       "        1.29823349e+08, 1.78832290e+08, 1.03237676e+08, 1.70475615e+08,\n",
       "        1.27490051e+08, 1.70936955e+08, 1.54714900e+08, 1.18362894e+08,\n",
       "        1.47852740e+08, 1.15388798e+08, 2.12749561e+08, 1.80391542e+08,\n",
       "        1.65393915e+08, 1.42982348e+08, 1.61728178e+08, 1.62848771e+08,\n",
       "        2.39953075e+08, 9.82732460e+07, 1.20777961e+08, 8.47095471e+07,\n",
       "        1.38293621e+08, 2.13000106e+08, 1.82409859e+08, 2.52311819e+08,\n",
       "        1.13550283e+08, 1.87863455e+08, 1.62519800e+08, 1.77510228e+08,\n",
       "        1.41995200e+08, 1.76317840e+08, 1.48785416e+08, 1.96840327e+08,\n",
       "        1.49732626e+08, 2.64677502e+08, 1.38712819e+08, 1.93999897e+08,\n",
       "        1.87378495e+08, 2.32112179e+08, 1.42117096e+08, 1.29091252e+08,\n",
       "        1.88551754e+08, 1.80858348e+08, 1.23842709e+08, 1.13539473e+08,\n",
       "        1.90213904e+08, 1.15759282e+08, 2.28806489e+08, 4.34719577e+08,\n",
       "        1.23739926e+08, 1.70328879e+08, 1.31000495e+08, 1.19702540e+08,\n",
       "        1.13291972e+08, 2.14373132e+08, 2.35272458e+08, 2.77233104e+08,\n",
       "        1.47990551e+08, 1.51610504e+08, 1.63930618e+08, 1.28309522e+08,\n",
       "        1.13902715e+08, 2.67438701e+08, 1.97195971e+08, 1.97907595e+08,\n",
       "        2.07501216e+08, 1.50722341e+08, 1.97411471e+08, 1.41420409e+08,\n",
       "        1.41344334e+08, 1.44541614e+08, 2.10369855e+08, 1.99381798e+08,\n",
       "        1.38183433e+08, 1.47860906e+08, 8.68497041e+07, 2.12481758e+08,\n",
       "        1.06354150e+08, 2.30438140e+08, 1.46497511e+08, 2.00274515e+08,\n",
       "        9.94412236e+07, 1.18134861e+08, 1.02278269e+08, 3.13891877e+08,\n",
       "        2.61964110e+08, 1.65306093e+08, 1.29618615e+08, 1.23052342e+08,\n",
       "        2.09647735e+08, 2.36125607e+08, 1.78518100e+08, 2.06939729e+08,\n",
       "        2.36968190e+08, 2.98590700e+08, 1.55022045e+08, 2.05005591e+08,\n",
       "        1.32807172e+08, 2.12714194e+08, 2.54989799e+08, 1.08026647e+08,\n",
       "        1.17722047e+08, 1.58289341e+08, 1.48980925e+08, 1.72658997e+08,\n",
       "        1.75902526e+08, 1.61736531e+08, 1.50276330e+08, 1.14376337e+08,\n",
       "        2.23631285e+08, 1.95150895e+08, 2.11517530e+08, 1.77792318e+08,\n",
       "        1.38911692e+08, 1.71673608e+08, 2.48421189e+08, 1.79276377e+08,\n",
       "        1.62014032e+08, 1.37201573e+08, 9.42046383e+07, 1.51410693e+08,\n",
       "        1.63642942e+08, 2.88139032e+08, 1.14156767e+08, 1.35974309e+08,\n",
       "        1.25538071e+08, 1.78076346e+08, 1.06882054e+08, 1.68968533e+08,\n",
       "        1.22441204e+08, 1.35924080e+08, 1.11399523e+08, 1.97094954e+08,\n",
       "        2.22973240e+08, 1.57139752e+08, 1.95799125e+08, 1.11911995e+08,\n",
       "        4.06047517e+08, 1.83187094e+08, 1.27778099e+08, 1.97870640e+08,\n",
       "        1.37743382e+08, 1.41119259e+08, 2.02872814e+08, 2.18388712e+08,\n",
       "        2.38621460e+08, 1.64646577e+08, 1.44709453e+08, 1.62452942e+08,\n",
       "        1.20401515e+08, 2.33575897e+08, 1.62319580e+08, 1.02406759e+08,\n",
       "        1.63974437e+08, 1.81082296e+08, 1.36030682e+08, 1.04989929e+08,\n",
       "        2.17375123e+08, 1.68051340e+08, 2.48524789e+08, 1.39534487e+08,\n",
       "        1.18207206e+08, 1.31690109e+08, 1.37352452e+08, 1.26235550e+08,\n",
       "        1.43743313e+08, 9.73394779e+07, 1.67138392e+08, 1.93189799e+08,\n",
       "        1.95336839e+08, 1.85106136e+08, 1.20630659e+08, 2.53551481e+08,\n",
       "        1.61444856e+08, 1.71511676e+08, 1.39284000e+08, 1.11490798e+08,\n",
       "        1.42029701e+08, 1.29630043e+08, 1.85719914e+08, 1.12116368e+08,\n",
       "        2.60071441e+08, 1.93035473e+08, 1.15648366e+08, 2.06168989e+08,\n",
       "        1.51133615e+08, 1.38226563e+08, 2.02821600e+08, 1.66393904e+08,\n",
       "        1.02704648e+08, 1.73489120e+08, 2.30879659e+08, 1.44269445e+08,\n",
       "        1.28613694e+08, 9.53487036e+07, 1.15811890e+08, 1.29805531e+08,\n",
       "        1.42234203e+08, 1.53269458e+08, 1.19014244e+08, 1.89797971e+08,\n",
       "        2.70690154e+08, 2.30703068e+08, 1.30725955e+08, 3.67741709e+08,\n",
       "        1.07004100e+08, 1.78453639e+08, 1.66251143e+08, 1.59909066e+08,\n",
       "        1.24105852e+08, 1.45032878e+08, 1.37658607e+08, 1.32667523e+08,\n",
       "        1.92800112e+08, 1.73752787e+08, 3.12931993e+08, 1.56432461e+08,\n",
       "        1.19306795e+08, 1.23758274e+08, 1.66496885e+08, 1.39416373e+08,\n",
       "        1.65043495e+08, 9.86942876e+07, 1.79616491e+08, 2.61292693e+08,\n",
       "        1.46972730e+08, 2.63659203e+08, 1.16569447e+08, 1.53991934e+08,\n",
       "        1.56804899e+08, 2.62273418e+08, 1.25126753e+08, 1.65824764e+08,\n",
       "        1.64962521e+08, 1.42850198e+08, 1.58883221e+08, 1.88608349e+08,\n",
       "        2.14884995e+08, 1.77433096e+08, 1.51031861e+08, 1.96380344e+08,\n",
       "        8.81495895e+07, 1.32975642e+08, 1.58291054e+08, 1.64003878e+08,\n",
       "        8.40145113e+07, 1.57109914e+08, 1.51108559e+08, 1.36189624e+08,\n",
       "        1.75228885e+08, 2.56826531e+08, 2.97651647e+08, 2.04539914e+08,\n",
       "        1.26740597e+08, 1.79988864e+08, 1.33520239e+08, 1.84888191e+08,\n",
       "        1.80410285e+08, 2.74546998e+08, 1.35770816e+08, 1.92163319e+08,\n",
       "        1.28253211e+08, 1.45450463e+08, 2.86010272e+08, 1.64646775e+08,\n",
       "        1.20054038e+08, 1.58027232e+08, 1.98405334e+08, 1.10890948e+08,\n",
       "        1.60040282e+08, 1.76438973e+08, 2.37328226e+08, 2.03463237e+08,\n",
       "        1.53856748e+08, 8.53286839e+07, 1.24510401e+08, 2.87550846e+08,\n",
       "        2.82398274e+08, 2.61405470e+08, 2.73034336e+08, 1.95324614e+08,\n",
       "        9.53769789e+07, 1.14196061e+08, 2.68705775e+08, 2.22465668e+08,\n",
       "        1.13631335e+08, 1.61806970e+08, 2.40274777e+08, 1.70247137e+08,\n",
       "        1.03879576e+08, 1.19512555e+08, 1.16680359e+08, 1.11256598e+08,\n",
       "        1.81632508e+08, 7.81602778e+07, 1.24421059e+08, 1.58618839e+08,\n",
       "        1.20658625e+08, 1.02254981e+08, 7.69194161e+07, 1.43873646e+08,\n",
       "        1.25303965e+08, 1.52476712e+08, 2.24028046e+08, 1.10390463e+08,\n",
       "        1.98850419e+08, 1.60926770e+08, 1.42292246e+08, 1.50305165e+08,\n",
       "        3.35331840e+08, 1.70399389e+08, 1.56687527e+08, 2.58227239e+08,\n",
       "        1.87935988e+08, 2.12845098e+08, 2.72792939e+08, 1.22723710e+08,\n",
       "        2.09300416e+08, 1.47381270e+08, 1.48387820e+08, 1.22644875e+08,\n",
       "        2.07661218e+08, 1.42379185e+08, 2.52400849e+08, 3.29031487e+08,\n",
       "        1.62634978e+08, 2.16844365e+08, 1.74089999e+08, 1.80352279e+08,\n",
       "        1.37125757e+08, 1.18452123e+08, 2.41426678e+08, 2.48256375e+08,\n",
       "        1.69131711e+08, 1.73328640e+08, 1.38914123e+08, 1.83398982e+08,\n",
       "        1.73549556e+08, 1.40613942e+08, 1.46794096e+08, 2.45542077e+08,\n",
       "        1.23172202e+08, 1.06945072e+08, 1.55763072e+08, 9.20275558e+07,\n",
       "        1.56351352e+08, 1.18628712e+08, 1.19690824e+08, 1.95087290e+08,\n",
       "        1.71120113e+08, 1.18158664e+08, 1.19128760e+08, 1.47175554e+08,\n",
       "        2.19722428e+08, 1.07442779e+08, 1.89107745e+08, 8.76117957e+07,\n",
       "        1.18051847e+08, 1.61916698e+08, 1.11649865e+08, 1.96566775e+08,\n",
       "        1.33445080e+08, 1.63105545e+08, 1.44072439e+08, 1.36087440e+08,\n",
       "        1.83546996e+08, 3.52116828e+08, 1.72544662e+08, 1.30613050e+08,\n",
       "        1.98037736e+08, 1.16088781e+08, 1.96834121e+08, 1.08660878e+08,\n",
       "        1.49979702e+08, 1.54718976e+08, 1.75511277e+08, 1.57928046e+08,\n",
       "        1.26206331e+08, 2.39290372e+08, 1.69154846e+08, 1.36454303e+08,\n",
       "        1.55365177e+08, 1.21860633e+08, 1.12744115e+08, 2.23621278e+08,\n",
       "        1.69801701e+08, 6.56598015e+07, 2.09705643e+08, 1.20377458e+08,\n",
       "        2.07452739e+08, 1.92035381e+08, 1.31066467e+08, 2.09926738e+08,\n",
       "        1.90910469e+08, 4.39849614e+08, 1.60709704e+08, 1.72098462e+08,\n",
       "        1.47887025e+08, 9.76274398e+07, 1.18608006e+08, 1.01782200e+08,\n",
       "        2.06414915e+08, 3.47015244e+08, 2.23187941e+08, 1.55049645e+08,\n",
       "        1.36187533e+08, 2.84711469e+08, 1.28799749e+08, 1.73435631e+08,\n",
       "        1.70168519e+08, 1.36813785e+08, 1.79656548e+08, 1.41012630e+08,\n",
       "        1.33548803e+08, 9.03518909e+07, 1.69498676e+08, 1.54237964e+08,\n",
       "        1.53039453e+08, 2.35425721e+08, 1.32203612e+08, 2.95242021e+08,\n",
       "        1.74985146e+08, 1.20250708e+08, 1.75264806e+08, 1.73369218e+08,\n",
       "        1.13592199e+08, 2.28429755e+08, 1.36410401e+08, 1.43818030e+08,\n",
       "        1.62054254e+08, 1.55646308e+08, 1.65907201e+08, 1.21659116e+08,\n",
       "        1.39365757e+08, 1.69138205e+08, 1.40661264e+08, 1.61330369e+08,\n",
       "        2.01615624e+08, 8.94038102e+07, 8.58707976e+07, 1.24077641e+08,\n",
       "        2.45418734e+08, 8.22539858e+07, 1.58385363e+08, 1.09058766e+08,\n",
       "        1.09872506e+08, 2.92282898e+08, 1.00470779e+08, 2.19555951e+08,\n",
       "        2.20305919e+08, 8.69050250e+07, 2.15080527e+08, 1.06691967e+08,\n",
       "        1.78095497e+08, 1.50774631e+08, 1.88051883e+08, 8.65448429e+07,\n",
       "        1.83249099e+08, 1.32773606e+08, 2.91518986e+08, 1.64927751e+08,\n",
       "        1.94037731e+08, 2.54495663e+08, 2.06654685e+08, 1.28018538e+08,\n",
       "        1.86459753e+08, 1.72117384e+08, 2.28554134e+08, 1.29103234e+08,\n",
       "        1.87177077e+08, 8.98979206e+07, 1.21033110e+08, 1.03122400e+08,\n",
       "        2.28005237e+08, 1.73107874e+08, 1.29737407e+08, 1.75038779e+08,\n",
       "        1.24769745e+08, 1.08266633e+08, 1.81958815e+08, 1.64027770e+08,\n",
       "        2.41982931e+08, 1.93216865e+08, 1.12731273e+08, 1.35028142e+08,\n",
       "        1.73316437e+08, 1.15746862e+08, 1.42704922e+08, 1.25646313e+08,\n",
       "        1.12138508e+08, 1.46187471e+08, 8.24734920e+07, 1.38712093e+08,\n",
       "        2.28917277e+08, 9.95549796e+07, 1.91522061e+08, 1.89734378e+08,\n",
       "        1.61541525e+08, 9.87009542e+07, 1.28258266e+08, 1.74682719e+08,\n",
       "        2.35987864e+08, 2.84894514e+08, 1.90747481e+08, 1.39166687e+08,\n",
       "        2.38796232e+08, 1.32915872e+08, 2.02516556e+08, 1.53103054e+08,\n",
       "        1.87763716e+08, 1.82165890e+08, 2.80100130e+08, 1.78920496e+08,\n",
       "        1.93667789e+08, 1.43342508e+08, 2.41128845e+08, 1.69565404e+08,\n",
       "        2.00042928e+08, 1.10558949e+08, 1.50540844e+08, 1.58063914e+08,\n",
       "        1.49265320e+08, 1.26442748e+08, 1.48488486e+08, 9.03234791e+07,\n",
       "        1.64816146e+08, 2.65991787e+08, 1.63947364e+08, 2.37257319e+08,\n",
       "        1.62105459e+08, 1.25509579e+08, 1.87928267e+08, 1.36864420e+08,\n",
       "        1.58514753e+08, 1.49228563e+08, 1.57488508e+08, 2.53209515e+08,\n",
       "        1.42694995e+08, 2.44087799e+08, 1.35332240e+08, 1.53533165e+08,\n",
       "        9.68829497e+07, 2.09269631e+08, 1.25879240e+08, 1.71746038e+08,\n",
       "        1.10447330e+08, 1.90996620e+08, 1.38738586e+08, 1.28809238e+08,\n",
       "        1.51256154e+08, 1.28804291e+08, 1.95691385e+08, 1.27970694e+08,\n",
       "        2.07906702e+08, 1.65359726e+08, 1.24729965e+08, 1.52296790e+08,\n",
       "        1.45253880e+08, 3.08167318e+08, 1.76738432e+08, 1.51052541e+08,\n",
       "        1.98983539e+08, 1.39409365e+08, 1.12923178e+08, 1.34960354e+08,\n",
       "        1.44502774e+08, 1.73889921e+08, 1.76566145e+08, 1.04587773e+08,\n",
       "        8.94349428e+07, 1.65080713e+08, 3.10535137e+08, 1.49442717e+08,\n",
       "        1.61454896e+08, 1.15807270e+08, 1.54770189e+08, 1.79004244e+08,\n",
       "        1.69165504e+08, 1.18950170e+08, 1.75465223e+08, 2.06070190e+08,\n",
       "        1.08870988e+08, 1.66969272e+08, 1.82838508e+08, 2.18505827e+08,\n",
       "        9.05112560e+07, 1.34956564e+08, 1.74899541e+08, 2.28593707e+08,\n",
       "        9.06545072e+07, 1.11695249e+08, 1.38757083e+08, 1.11095820e+08,\n",
       "        1.51584398e+08, 1.88652704e+08, 9.02464050e+07, 1.58906856e+08,\n",
       "        2.44723991e+08, 1.51136086e+08, 2.04376234e+08, 1.00091273e+08,\n",
       "        1.62309791e+08, 3.33654027e+08, 2.55465132e+08, 2.11543984e+08,\n",
       "        1.22440549e+08, 1.76935280e+08, 1.52150847e+08, 1.44603623e+08,\n",
       "        2.14347176e+08, 1.57961977e+08, 2.37447769e+08, 1.07796428e+08,\n",
       "        1.65111423e+08, 2.49884021e+08, 1.52013926e+08, 2.57811894e+08,\n",
       "        1.48416280e+08, 1.60675788e+08, 1.41409585e+08, 1.67869500e+08,\n",
       "        1.43708532e+08, 1.11430098e+08, 8.21406736e+07, 1.93835480e+08,\n",
       "        1.51452199e+08, 1.68435352e+08, 1.81328757e+08, 1.70149644e+08,\n",
       "        1.58767639e+08, 1.76319803e+08, 1.73101615e+08, 2.15902348e+08,\n",
       "        1.53646144e+08, 9.79016085e+07, 1.34196863e+08, 1.64685122e+08])}"
      ]
     },
     "execution_count": 112,
     "metadata": {},
     "output_type": "execute_result"
    }
   ],
   "source": [
    "cost_data['Gemini Ultra'] = {\n",
    "    'AI accelerator chip cost': ai_accelerator_chip_cost,\n",
    "    'Other server components cost': other_server_components_cost,\n",
    "    'Cluster-level interconnect cost': cluster_level_interconnect_cost,\n",
    "    'Energy cost': energy_cost,\n",
    "    'R&D staff cost': personnel_cost,\n",
    "}\n",
    "cost_data['Gemini Ultra']"
   ]
  },
  {
   "cell_type": "markdown",
   "metadata": {},
   "source": [
    "# Inflation adjustment"
   ]
  },
  {
   "cell_type": "code",
   "execution_count": 113,
   "metadata": {},
   "outputs": [],
   "source": [
    "def adjust_value_for_inflation(value, path_to_price_index, publication_date, to_year_month):\n",
    "    price_index = pd.read_csv(path_to_price_index)\n",
    "    from_date = str(publication_date)\n",
    "    from_year_month = from_date.rsplit('-', maxsplit=1)[0] + '-01'\n",
    "    from_price_index = price_index[price_index['DATE'] == from_year_month]['PCU518210518210'].values[0]\n",
    "    to_price_index = price_index[price_index['DATE'] == to_year_month]['PCU518210518210'].values[0]\n",
    "    adjust_factor = to_price_index / from_price_index\n",
    "    return value * adjust_factor"
   ]
  },
  {
   "cell_type": "code",
   "execution_count": 114,
   "metadata": {},
   "outputs": [],
   "source": [
    "for model in cost_data:\n",
    "    for cost_component in cost_data[model]:\n",
    "        # Adjust for inflation\n",
    "        publication_date = frontier_pcd_df.loc[frontier_pcd_df['System'] == model, 'Publication date'].values[0]\n",
    "        value = cost_data[model][cost_component]\n",
    "        cost_data[model][cost_component] = adjust_value_for_inflation(value, 'data/PCU518210518210.csv', publication_date, '2023-12-01')"
   ]
  },
  {
   "cell_type": "markdown",
   "metadata": {},
   "source": [
    "# Plots"
   ]
  },
  {
   "cell_type": "code",
   "execution_count": 115,
   "metadata": {},
   "outputs": [],
   "source": [
    "cost_component_names.insert(0, 'R&D staff cost')"
   ]
  },
  {
   "cell_type": "code",
   "execution_count": 116,
   "metadata": {},
   "outputs": [
    {
     "name": "stdout",
     "output_type": "stream",
     "text": [
      "R&D staff cost\n",
      "[3757841.6131360503, 2045944.820176219, 61152477.35018039, 158785469.312556] [1330571.0129236374, 1234948.4455840557, 45414474.08403853, 87359357.9673737] [7650089.824576888, 3802232.215486266, 79833320.80398265, 297660611.0727263]\n",
      "AI accelerator chip cost\n",
      "[2017614.2771118195, 719986.5515647877, 39707233.525022686, 13735452.950561639] [1022745.1598188258, 338333.07332985103, 18508768.66550913, 2366669.7749186666] [4055715.8940830408, 1572122.5007177645, 85861835.0295855, 80161647.3192577]\n",
      "Other server components cost\n",
      "[1394995.4891950218, 465760.6075330295, 25461923.86908875, 8790689.88835945] [685637.3403533946, 209165.4881885643, 11952882.845666656, 1514668.655947946] [2909377.9837108734, 962342.1385738804, 52484041.00710645, 51303454.28432492]\n",
      "Cluster-level interconnect cost\n",
      "[503848.13948079065, 180252.90289342968, 9435210.666533062, 3378921.4258381613] [250847.73105057405, 86715.62269602774, 4621705.95230547, 582200.7646299917] [1097952.787201815, 395455.15470257966, 20054985.037531666, 19719765.24053739]\n",
      "Energy cost\n",
      "[203737.8050164276, 45042.55970478455, 7885774.227934123, 5572134.884201603] [76079.22136443727, 16819.671097982424, 3107047.7997623086, 1412137.4022232296] [524414.8840489289, 115938.17221574049, 22512205.48612595, 24455729.93178739]\n"
     ]
    },
    {
     "data": {
      "application/vnd.plotly.v1+json": {
       "config": {
        "plotlyServerURL": "https://plot.ly"
       },
       "data": [
        {
         "error_y": {
          "array": [
           3892248.211440838,
           1756287.395310047,
           18680843.453802258,
           138875141.7601703
          ],
          "arrayminus": [
           2427270.600212413,
           810996.3745921634,
           15738003.266141854,
           71426111.3451823
          ],
          "symmetric": false,
          "type": "data",
          "visible": true
         },
         "name": "R&D staff cost",
         "type": "bar",
         "x": [
          "GPT-3 175B (davinci)",
          "OPT-175B",
          "GPT-4",
          "Gemini Ultra"
         ],
         "y": [
          3757841.6131360503,
          2045944.820176219,
          61152477.35018039,
          158785469.312556
         ]
        },
        {
         "error_y": {
          "array": [
           2038101.6169712213,
           852135.9491529767,
           46154601.50456281,
           66426194.368696064
          ],
          "arrayminus": [
           994869.1172929937,
           381653.4782349367,
           21198464.859513555,
           11368783.175642973
          ],
          "symmetric": false,
          "type": "data",
          "visible": true
         },
         "name": "AI accelerator chip cost",
         "type": "bar",
         "x": [
          "GPT-3 175B (davinci)",
          "OPT-175B",
          "GPT-4",
          "Gemini Ultra"
         ],
         "y": [
          2017614.2771118195,
          719986.5515647877,
          39707233.525022686,
          13735452.950561639
         ]
        },
        {
         "error_y": {
          "array": [
           1514382.4945158516,
           496581.5310408509,
           27022117.138017703,
           42512764.39596547
          ],
          "arrayminus": [
           709358.1488416272,
           256595.1193444652,
           13509041.023422094,
           7276021.232411504
          ],
          "symmetric": false,
          "type": "data",
          "visible": true
         },
         "name": "Other server components cost",
         "type": "bar",
         "x": [
          "GPT-3 175B (davinci)",
          "OPT-175B",
          "GPT-4",
          "Gemini Ultra"
         ],
         "y": [
          1394995.4891950218,
          465760.6075330295,
          25461923.86908875,
          8790689.88835945
         ]
        },
        {
         "error_y": {
          "array": [
           594104.6477210245,
           215202.25180914998,
           10619774.370998604,
           16340843.814699229
          ],
          "arrayminus": [
           253000.4084302166,
           93537.28019740194,
           4813504.714227593,
           2796720.6612081695
          ],
          "symmetric": false,
          "type": "data",
          "visible": true
         },
         "name": "Cluster-level interconnect cost",
         "type": "bar",
         "x": [
          "GPT-3 175B (davinci)",
          "OPT-175B",
          "GPT-4",
          "Gemini Ultra"
         ],
         "y": [
          503848.13948079065,
          180252.90289342968,
          9435210.666533062,
          3378921.4258381613
         ]
        },
        {
         "error_y": {
          "array": [
           320677.07903250126,
           70895.61251095594,
           14626431.258191828,
           18883595.047585785
          ],
          "arrayminus": [
           127658.58365199032,
           28222.888606802127,
           4778726.428171814,
           4159997.4819783736
          ],
          "symmetric": false,
          "type": "data",
          "visible": true
         },
         "name": "Energy cost",
         "type": "bar",
         "x": [
          "GPT-3 175B (davinci)",
          "OPT-175B",
          "GPT-4",
          "Gemini Ultra"
         ],
         "y": [
          203737.8050164276,
          45042.55970478455,
          7885774.227934123,
          5572134.884201603
         ]
        }
       ],
       "layout": {
        "barmode": "group",
        "height": 600,
        "template": {
         "data": {
          "bar": [
           {
            "error_x": {
             "color": "#2a3f5f"
            },
            "error_y": {
             "color": "#2a3f5f"
            },
            "marker": {
             "line": {
              "color": "#E5ECF6",
              "width": 0.5
             },
             "pattern": {
              "fillmode": "overlay",
              "size": 10,
              "solidity": 0.2
             }
            },
            "type": "bar"
           }
          ],
          "barpolar": [
           {
            "marker": {
             "line": {
              "color": "#E5ECF6",
              "width": 0.5
             },
             "pattern": {
              "fillmode": "overlay",
              "size": 10,
              "solidity": 0.2
             }
            },
            "type": "barpolar"
           }
          ],
          "carpet": [
           {
            "aaxis": {
             "endlinecolor": "#2a3f5f",
             "gridcolor": "white",
             "linecolor": "white",
             "minorgridcolor": "white",
             "startlinecolor": "#2a3f5f"
            },
            "baxis": {
             "endlinecolor": "#2a3f5f",
             "gridcolor": "white",
             "linecolor": "white",
             "minorgridcolor": "white",
             "startlinecolor": "#2a3f5f"
            },
            "type": "carpet"
           }
          ],
          "choropleth": [
           {
            "colorbar": {
             "outlinewidth": 0,
             "ticks": ""
            },
            "type": "choropleth"
           }
          ],
          "contour": [
           {
            "colorbar": {
             "outlinewidth": 0,
             "ticks": ""
            },
            "colorscale": [
             [
              0,
              "#0d0887"
             ],
             [
              0.1111111111111111,
              "#46039f"
             ],
             [
              0.2222222222222222,
              "#7201a8"
             ],
             [
              0.3333333333333333,
              "#9c179e"
             ],
             [
              0.4444444444444444,
              "#bd3786"
             ],
             [
              0.5555555555555556,
              "#d8576b"
             ],
             [
              0.6666666666666666,
              "#ed7953"
             ],
             [
              0.7777777777777778,
              "#fb9f3a"
             ],
             [
              0.8888888888888888,
              "#fdca26"
             ],
             [
              1,
              "#f0f921"
             ]
            ],
            "type": "contour"
           }
          ],
          "contourcarpet": [
           {
            "colorbar": {
             "outlinewidth": 0,
             "ticks": ""
            },
            "type": "contourcarpet"
           }
          ],
          "heatmap": [
           {
            "colorbar": {
             "outlinewidth": 0,
             "ticks": ""
            },
            "colorscale": [
             [
              0,
              "#0d0887"
             ],
             [
              0.1111111111111111,
              "#46039f"
             ],
             [
              0.2222222222222222,
              "#7201a8"
             ],
             [
              0.3333333333333333,
              "#9c179e"
             ],
             [
              0.4444444444444444,
              "#bd3786"
             ],
             [
              0.5555555555555556,
              "#d8576b"
             ],
             [
              0.6666666666666666,
              "#ed7953"
             ],
             [
              0.7777777777777778,
              "#fb9f3a"
             ],
             [
              0.8888888888888888,
              "#fdca26"
             ],
             [
              1,
              "#f0f921"
             ]
            ],
            "type": "heatmap"
           }
          ],
          "heatmapgl": [
           {
            "colorbar": {
             "outlinewidth": 0,
             "ticks": ""
            },
            "colorscale": [
             [
              0,
              "#0d0887"
             ],
             [
              0.1111111111111111,
              "#46039f"
             ],
             [
              0.2222222222222222,
              "#7201a8"
             ],
             [
              0.3333333333333333,
              "#9c179e"
             ],
             [
              0.4444444444444444,
              "#bd3786"
             ],
             [
              0.5555555555555556,
              "#d8576b"
             ],
             [
              0.6666666666666666,
              "#ed7953"
             ],
             [
              0.7777777777777778,
              "#fb9f3a"
             ],
             [
              0.8888888888888888,
              "#fdca26"
             ],
             [
              1,
              "#f0f921"
             ]
            ],
            "type": "heatmapgl"
           }
          ],
          "histogram": [
           {
            "marker": {
             "pattern": {
              "fillmode": "overlay",
              "size": 10,
              "solidity": 0.2
             }
            },
            "type": "histogram"
           }
          ],
          "histogram2d": [
           {
            "colorbar": {
             "outlinewidth": 0,
             "ticks": ""
            },
            "colorscale": [
             [
              0,
              "#0d0887"
             ],
             [
              0.1111111111111111,
              "#46039f"
             ],
             [
              0.2222222222222222,
              "#7201a8"
             ],
             [
              0.3333333333333333,
              "#9c179e"
             ],
             [
              0.4444444444444444,
              "#bd3786"
             ],
             [
              0.5555555555555556,
              "#d8576b"
             ],
             [
              0.6666666666666666,
              "#ed7953"
             ],
             [
              0.7777777777777778,
              "#fb9f3a"
             ],
             [
              0.8888888888888888,
              "#fdca26"
             ],
             [
              1,
              "#f0f921"
             ]
            ],
            "type": "histogram2d"
           }
          ],
          "histogram2dcontour": [
           {
            "colorbar": {
             "outlinewidth": 0,
             "ticks": ""
            },
            "colorscale": [
             [
              0,
              "#0d0887"
             ],
             [
              0.1111111111111111,
              "#46039f"
             ],
             [
              0.2222222222222222,
              "#7201a8"
             ],
             [
              0.3333333333333333,
              "#9c179e"
             ],
             [
              0.4444444444444444,
              "#bd3786"
             ],
             [
              0.5555555555555556,
              "#d8576b"
             ],
             [
              0.6666666666666666,
              "#ed7953"
             ],
             [
              0.7777777777777778,
              "#fb9f3a"
             ],
             [
              0.8888888888888888,
              "#fdca26"
             ],
             [
              1,
              "#f0f921"
             ]
            ],
            "type": "histogram2dcontour"
           }
          ],
          "mesh3d": [
           {
            "colorbar": {
             "outlinewidth": 0,
             "ticks": ""
            },
            "type": "mesh3d"
           }
          ],
          "parcoords": [
           {
            "line": {
             "colorbar": {
              "outlinewidth": 0,
              "ticks": ""
             }
            },
            "type": "parcoords"
           }
          ],
          "pie": [
           {
            "automargin": true,
            "type": "pie"
           }
          ],
          "scatter": [
           {
            "fillpattern": {
             "fillmode": "overlay",
             "size": 10,
             "solidity": 0.2
            },
            "type": "scatter"
           }
          ],
          "scatter3d": [
           {
            "line": {
             "colorbar": {
              "outlinewidth": 0,
              "ticks": ""
             }
            },
            "marker": {
             "colorbar": {
              "outlinewidth": 0,
              "ticks": ""
             }
            },
            "type": "scatter3d"
           }
          ],
          "scattercarpet": [
           {
            "marker": {
             "colorbar": {
              "outlinewidth": 0,
              "ticks": ""
             }
            },
            "type": "scattercarpet"
           }
          ],
          "scattergeo": [
           {
            "marker": {
             "colorbar": {
              "outlinewidth": 0,
              "ticks": ""
             }
            },
            "type": "scattergeo"
           }
          ],
          "scattergl": [
           {
            "marker": {
             "colorbar": {
              "outlinewidth": 0,
              "ticks": ""
             }
            },
            "type": "scattergl"
           }
          ],
          "scattermapbox": [
           {
            "marker": {
             "colorbar": {
              "outlinewidth": 0,
              "ticks": ""
             }
            },
            "type": "scattermapbox"
           }
          ],
          "scatterpolar": [
           {
            "marker": {
             "colorbar": {
              "outlinewidth": 0,
              "ticks": ""
             }
            },
            "type": "scatterpolar"
           }
          ],
          "scatterpolargl": [
           {
            "marker": {
             "colorbar": {
              "outlinewidth": 0,
              "ticks": ""
             }
            },
            "type": "scatterpolargl"
           }
          ],
          "scatterternary": [
           {
            "marker": {
             "colorbar": {
              "outlinewidth": 0,
              "ticks": ""
             }
            },
            "type": "scatterternary"
           }
          ],
          "surface": [
           {
            "colorbar": {
             "outlinewidth": 0,
             "ticks": ""
            },
            "colorscale": [
             [
              0,
              "#0d0887"
             ],
             [
              0.1111111111111111,
              "#46039f"
             ],
             [
              0.2222222222222222,
              "#7201a8"
             ],
             [
              0.3333333333333333,
              "#9c179e"
             ],
             [
              0.4444444444444444,
              "#bd3786"
             ],
             [
              0.5555555555555556,
              "#d8576b"
             ],
             [
              0.6666666666666666,
              "#ed7953"
             ],
             [
              0.7777777777777778,
              "#fb9f3a"
             ],
             [
              0.8888888888888888,
              "#fdca26"
             ],
             [
              1,
              "#f0f921"
             ]
            ],
            "type": "surface"
           }
          ],
          "table": [
           {
            "cells": {
             "fill": {
              "color": "#EBF0F8"
             },
             "line": {
              "color": "white"
             }
            },
            "header": {
             "fill": {
              "color": "#C8D4E3"
             },
             "line": {
              "color": "white"
             }
            },
            "type": "table"
           }
          ]
         },
         "layout": {
          "annotationdefaults": {
           "arrowcolor": "#2a3f5f",
           "arrowhead": 0,
           "arrowwidth": 1
          },
          "autotypenumbers": "strict",
          "coloraxis": {
           "colorbar": {
            "outlinewidth": 0,
            "ticks": ""
           }
          },
          "colorscale": {
           "diverging": [
            [
             0,
             "#8e0152"
            ],
            [
             0.1,
             "#c51b7d"
            ],
            [
             0.2,
             "#de77ae"
            ],
            [
             0.3,
             "#f1b6da"
            ],
            [
             0.4,
             "#fde0ef"
            ],
            [
             0.5,
             "#f7f7f7"
            ],
            [
             0.6,
             "#e6f5d0"
            ],
            [
             0.7,
             "#b8e186"
            ],
            [
             0.8,
             "#7fbc41"
            ],
            [
             0.9,
             "#4d9221"
            ],
            [
             1,
             "#276419"
            ]
           ],
           "sequential": [
            [
             0,
             "#0d0887"
            ],
            [
             0.1111111111111111,
             "#46039f"
            ],
            [
             0.2222222222222222,
             "#7201a8"
            ],
            [
             0.3333333333333333,
             "#9c179e"
            ],
            [
             0.4444444444444444,
             "#bd3786"
            ],
            [
             0.5555555555555556,
             "#d8576b"
            ],
            [
             0.6666666666666666,
             "#ed7953"
            ],
            [
             0.7777777777777778,
             "#fb9f3a"
            ],
            [
             0.8888888888888888,
             "#fdca26"
            ],
            [
             1,
             "#f0f921"
            ]
           ],
           "sequentialminus": [
            [
             0,
             "#0d0887"
            ],
            [
             0.1111111111111111,
             "#46039f"
            ],
            [
             0.2222222222222222,
             "#7201a8"
            ],
            [
             0.3333333333333333,
             "#9c179e"
            ],
            [
             0.4444444444444444,
             "#bd3786"
            ],
            [
             0.5555555555555556,
             "#d8576b"
            ],
            [
             0.6666666666666666,
             "#ed7953"
            ],
            [
             0.7777777777777778,
             "#fb9f3a"
            ],
            [
             0.8888888888888888,
             "#fdca26"
            ],
            [
             1,
             "#f0f921"
            ]
           ]
          },
          "colorway": [
           "#636efa",
           "#EF553B",
           "#00cc96",
           "#ab63fa",
           "#FFA15A",
           "#19d3f3",
           "#FF6692",
           "#B6E880",
           "#FF97FF",
           "#FECB52"
          ],
          "font": {
           "color": "#2a3f5f"
          },
          "geo": {
           "bgcolor": "white",
           "lakecolor": "white",
           "landcolor": "#E5ECF6",
           "showlakes": true,
           "showland": true,
           "subunitcolor": "white"
          },
          "hoverlabel": {
           "align": "left"
          },
          "hovermode": "closest",
          "mapbox": {
           "style": "light"
          },
          "paper_bgcolor": "white",
          "plot_bgcolor": "#E5ECF6",
          "polar": {
           "angularaxis": {
            "gridcolor": "white",
            "linecolor": "white",
            "ticks": ""
           },
           "bgcolor": "#E5ECF6",
           "radialaxis": {
            "gridcolor": "white",
            "linecolor": "white",
            "ticks": ""
           }
          },
          "scene": {
           "xaxis": {
            "backgroundcolor": "#E5ECF6",
            "gridcolor": "white",
            "gridwidth": 2,
            "linecolor": "white",
            "showbackground": true,
            "ticks": "",
            "zerolinecolor": "white"
           },
           "yaxis": {
            "backgroundcolor": "#E5ECF6",
            "gridcolor": "white",
            "gridwidth": 2,
            "linecolor": "white",
            "showbackground": true,
            "ticks": "",
            "zerolinecolor": "white"
           },
           "zaxis": {
            "backgroundcolor": "#E5ECF6",
            "gridcolor": "white",
            "gridwidth": 2,
            "linecolor": "white",
            "showbackground": true,
            "ticks": "",
            "zerolinecolor": "white"
           }
          },
          "shapedefaults": {
           "line": {
            "color": "#2a3f5f"
           }
          },
          "ternary": {
           "aaxis": {
            "gridcolor": "white",
            "linecolor": "white",
            "ticks": ""
           },
           "baxis": {
            "gridcolor": "white",
            "linecolor": "white",
            "ticks": ""
           },
           "bgcolor": "#E5ECF6",
           "caxis": {
            "gridcolor": "white",
            "linecolor": "white",
            "ticks": ""
           }
          },
          "title": {
           "x": 0.05
          },
          "xaxis": {
           "automargin": true,
           "gridcolor": "white",
           "linecolor": "white",
           "ticks": "",
           "title": {
            "standoff": 15
           },
           "zerolinecolor": "white",
           "zerolinewidth": 2
          },
          "yaxis": {
           "automargin": true,
           "gridcolor": "white",
           "linecolor": "white",
           "ticks": "",
           "title": {
            "standoff": 15
           },
           "zerolinecolor": "white",
           "zerolinewidth": 2
          }
         }
        },
        "title": {
         "text": "Total amortized model development costs"
        },
        "width": 800,
        "xaxis": {
         "title": {
          "text": "Model"
         }
        },
        "yaxis": {
         "title": {
          "text": "Cost (2023 USD, log scale)"
         },
         "type": "log"
        }
       }
      }
     },
     "metadata": {},
     "output_type": "display_data"
    }
   ],
   "source": [
    "# Create a grouped bar chart with error bars\n",
    "fig = go.Figure()\n",
    "\n",
    "# Group 1\n",
    "for component in cost_component_names:\n",
    "    y_values = [np.median(cost_data[model][component]) for model in models]\n",
    "    y_lows = [np.percentile(cost_data[model][component], 2.5) for model in models]\n",
    "    y_highs = [np.percentile(cost_data[model][component], 97.5) for model in models]\n",
    "    print(component)\n",
    "    print(y_values, y_lows, y_highs)\n",
    "    fig.add_trace(go.Bar(\n",
    "        x=models,\n",
    "        y=y_values,\n",
    "        error_y=dict(\n",
    "            type='data',\n",
    "            symmetric=False,  # Use asymmetric error bars\n",
    "            array=[y_highs[i] - y_values[i] for i in range(len(y_values))],  # Upper bounds of the error bars\n",
    "            arrayminus=[y_values[i] - y_lows[i] for i in range(len(y_values))],  # Lower bounds\n",
    "            visible=True  # Make error bars visible\n",
    "        ),\n",
    "        name=component\n",
    "    ))\n",
    "\n",
    "# log y axis\n",
    "fig.update_yaxes(type=\"log\")\n",
    "\n",
    "# Customize the layout\n",
    "fig.update_layout(\n",
    "    width=800,\n",
    "    height=600,\n",
    "    barmode='group',  # Group bars together\n",
    "    title='Total amortized model development costs',\n",
    "    xaxis=dict(\n",
    "        title='Model'\n",
    "    ),\n",
    "    yaxis=dict(\n",
    "        title='Cost (2023 USD, log scale)'\n",
    "    ),\n",
    ")\n",
    "\n",
    "save_plot(fig, results_dir, 'total_amortized_model_development_costs')\n",
    "\n",
    "# Show the plot\n",
    "fig.show()\n"
   ]
  },
  {
   "cell_type": "code",
   "execution_count": 117,
   "metadata": {},
   "outputs": [
    {
     "data": {
      "text/plain": [
       "{'GPT-3 175B (davinci)': 7878037.32394011,\n",
       " 'OPT-175B': 3456987.4418722508,\n",
       " 'GPT-4': 143642619.63875902,\n",
       " 'Gemini Ultra': 190262668.4615169}"
      ]
     },
     "execution_count": 117,
     "metadata": {},
     "output_type": "execute_result"
    }
   ],
   "source": [
    "total_costs = {}\n",
    "for model in models:\n",
    "    total_costs[model] = sum(np.median(cost_data[model][component]) for component in cost_component_names)\n",
    "total_costs"
   ]
  },
  {
   "cell_type": "code",
   "execution_count": 118,
   "metadata": {},
   "outputs": [
    {
     "data": {
      "application/vnd.plotly.v1+json": {
       "config": {
        "plotlyServerURL": "https://plot.ly"
       },
       "data": [
        {
         "name": "R&D staff cost",
         "text": [
          "50%",
          "60%",
          "40%",
          "80%"
         ],
         "textposition": "auto",
         "type": "bar",
         "x": [
          "GPT-3 175B (davinci)",
          "OPT-175B",
          "GPT-4",
          "Gemini Ultra"
         ],
         "y": [
          47.70022606666972,
          59.18288262766055,
          42.57265531913179,
          83.45592469427203
         ]
        },
        {
         "name": "AI accelerator chip cost",
         "text": [
          "30%",
          "20%",
          "30%",
          "10%"
         ],
         "textposition": "auto",
         "type": "bar",
         "x": [
          "GPT-3 175B (davinci)",
          "OPT-175B",
          "GPT-4",
          "Gemini Ultra"
         ],
         "y": [
          25.610620947181967,
          20.826993550628988,
          27.643072526023815,
          7.219205460339591
         ]
        },
        {
         "name": "Other server components cost",
         "text": [
          "20%",
          "10%",
          "20%",
          "0%"
         ],
         "textposition": "auto",
         "type": "bar",
         "x": [
          "GPT-3 175B (davinci)",
          "OPT-175B",
          "GPT-4",
          "Gemini Ultra"
         ],
         "y": [
          17.707398833410586,
          13.473019944810122,
          17.725883817158103,
          4.620291494617338
         ]
        },
        {
         "name": "Cluster-level interconnect cost",
         "text": [
          "10%",
          "10%",
          "10%",
          "0%"
         ],
         "textposition": "auto",
         "type": "bar",
         "x": [
          "GPT-3 175B (davinci)",
          "OPT-175B",
          "GPT-4",
          "Gemini Ultra"
         ],
         "y": [
          6.395604879272097,
          5.21416134493701,
          6.568531463893717,
          1.7759245432435382
         ]
        },
        {
         "name": "Energy cost",
         "text": [
          "0%",
          "0%",
          "10%",
          "0%"
         ],
         "textposition": "auto",
         "type": "bar",
         "x": [
          "GPT-3 175B (davinci)",
          "OPT-175B",
          "GPT-4",
          "Gemini Ultra"
         ],
         "y": [
          2.5861492734656206,
          1.302942531963327,
          5.489856873792567,
          2.9286538075274815
         ]
        }
       ],
       "layout": {
        "barmode": "stack",
        "height": 400,
        "legend": {
         "title": {
          "text": "Cost components"
         }
        },
        "template": {
         "data": {
          "bar": [
           {
            "error_x": {
             "color": "#2a3f5f"
            },
            "error_y": {
             "color": "#2a3f5f"
            },
            "marker": {
             "line": {
              "color": "#E5ECF6",
              "width": 0.5
             },
             "pattern": {
              "fillmode": "overlay",
              "size": 10,
              "solidity": 0.2
             }
            },
            "type": "bar"
           }
          ],
          "barpolar": [
           {
            "marker": {
             "line": {
              "color": "#E5ECF6",
              "width": 0.5
             },
             "pattern": {
              "fillmode": "overlay",
              "size": 10,
              "solidity": 0.2
             }
            },
            "type": "barpolar"
           }
          ],
          "carpet": [
           {
            "aaxis": {
             "endlinecolor": "#2a3f5f",
             "gridcolor": "white",
             "linecolor": "white",
             "minorgridcolor": "white",
             "startlinecolor": "#2a3f5f"
            },
            "baxis": {
             "endlinecolor": "#2a3f5f",
             "gridcolor": "white",
             "linecolor": "white",
             "minorgridcolor": "white",
             "startlinecolor": "#2a3f5f"
            },
            "type": "carpet"
           }
          ],
          "choropleth": [
           {
            "colorbar": {
             "outlinewidth": 0,
             "ticks": ""
            },
            "type": "choropleth"
           }
          ],
          "contour": [
           {
            "colorbar": {
             "outlinewidth": 0,
             "ticks": ""
            },
            "colorscale": [
             [
              0,
              "#0d0887"
             ],
             [
              0.1111111111111111,
              "#46039f"
             ],
             [
              0.2222222222222222,
              "#7201a8"
             ],
             [
              0.3333333333333333,
              "#9c179e"
             ],
             [
              0.4444444444444444,
              "#bd3786"
             ],
             [
              0.5555555555555556,
              "#d8576b"
             ],
             [
              0.6666666666666666,
              "#ed7953"
             ],
             [
              0.7777777777777778,
              "#fb9f3a"
             ],
             [
              0.8888888888888888,
              "#fdca26"
             ],
             [
              1,
              "#f0f921"
             ]
            ],
            "type": "contour"
           }
          ],
          "contourcarpet": [
           {
            "colorbar": {
             "outlinewidth": 0,
             "ticks": ""
            },
            "type": "contourcarpet"
           }
          ],
          "heatmap": [
           {
            "colorbar": {
             "outlinewidth": 0,
             "ticks": ""
            },
            "colorscale": [
             [
              0,
              "#0d0887"
             ],
             [
              0.1111111111111111,
              "#46039f"
             ],
             [
              0.2222222222222222,
              "#7201a8"
             ],
             [
              0.3333333333333333,
              "#9c179e"
             ],
             [
              0.4444444444444444,
              "#bd3786"
             ],
             [
              0.5555555555555556,
              "#d8576b"
             ],
             [
              0.6666666666666666,
              "#ed7953"
             ],
             [
              0.7777777777777778,
              "#fb9f3a"
             ],
             [
              0.8888888888888888,
              "#fdca26"
             ],
             [
              1,
              "#f0f921"
             ]
            ],
            "type": "heatmap"
           }
          ],
          "heatmapgl": [
           {
            "colorbar": {
             "outlinewidth": 0,
             "ticks": ""
            },
            "colorscale": [
             [
              0,
              "#0d0887"
             ],
             [
              0.1111111111111111,
              "#46039f"
             ],
             [
              0.2222222222222222,
              "#7201a8"
             ],
             [
              0.3333333333333333,
              "#9c179e"
             ],
             [
              0.4444444444444444,
              "#bd3786"
             ],
             [
              0.5555555555555556,
              "#d8576b"
             ],
             [
              0.6666666666666666,
              "#ed7953"
             ],
             [
              0.7777777777777778,
              "#fb9f3a"
             ],
             [
              0.8888888888888888,
              "#fdca26"
             ],
             [
              1,
              "#f0f921"
             ]
            ],
            "type": "heatmapgl"
           }
          ],
          "histogram": [
           {
            "marker": {
             "pattern": {
              "fillmode": "overlay",
              "size": 10,
              "solidity": 0.2
             }
            },
            "type": "histogram"
           }
          ],
          "histogram2d": [
           {
            "colorbar": {
             "outlinewidth": 0,
             "ticks": ""
            },
            "colorscale": [
             [
              0,
              "#0d0887"
             ],
             [
              0.1111111111111111,
              "#46039f"
             ],
             [
              0.2222222222222222,
              "#7201a8"
             ],
             [
              0.3333333333333333,
              "#9c179e"
             ],
             [
              0.4444444444444444,
              "#bd3786"
             ],
             [
              0.5555555555555556,
              "#d8576b"
             ],
             [
              0.6666666666666666,
              "#ed7953"
             ],
             [
              0.7777777777777778,
              "#fb9f3a"
             ],
             [
              0.8888888888888888,
              "#fdca26"
             ],
             [
              1,
              "#f0f921"
             ]
            ],
            "type": "histogram2d"
           }
          ],
          "histogram2dcontour": [
           {
            "colorbar": {
             "outlinewidth": 0,
             "ticks": ""
            },
            "colorscale": [
             [
              0,
              "#0d0887"
             ],
             [
              0.1111111111111111,
              "#46039f"
             ],
             [
              0.2222222222222222,
              "#7201a8"
             ],
             [
              0.3333333333333333,
              "#9c179e"
             ],
             [
              0.4444444444444444,
              "#bd3786"
             ],
             [
              0.5555555555555556,
              "#d8576b"
             ],
             [
              0.6666666666666666,
              "#ed7953"
             ],
             [
              0.7777777777777778,
              "#fb9f3a"
             ],
             [
              0.8888888888888888,
              "#fdca26"
             ],
             [
              1,
              "#f0f921"
             ]
            ],
            "type": "histogram2dcontour"
           }
          ],
          "mesh3d": [
           {
            "colorbar": {
             "outlinewidth": 0,
             "ticks": ""
            },
            "type": "mesh3d"
           }
          ],
          "parcoords": [
           {
            "line": {
             "colorbar": {
              "outlinewidth": 0,
              "ticks": ""
             }
            },
            "type": "parcoords"
           }
          ],
          "pie": [
           {
            "automargin": true,
            "type": "pie"
           }
          ],
          "scatter": [
           {
            "fillpattern": {
             "fillmode": "overlay",
             "size": 10,
             "solidity": 0.2
            },
            "type": "scatter"
           }
          ],
          "scatter3d": [
           {
            "line": {
             "colorbar": {
              "outlinewidth": 0,
              "ticks": ""
             }
            },
            "marker": {
             "colorbar": {
              "outlinewidth": 0,
              "ticks": ""
             }
            },
            "type": "scatter3d"
           }
          ],
          "scattercarpet": [
           {
            "marker": {
             "colorbar": {
              "outlinewidth": 0,
              "ticks": ""
             }
            },
            "type": "scattercarpet"
           }
          ],
          "scattergeo": [
           {
            "marker": {
             "colorbar": {
              "outlinewidth": 0,
              "ticks": ""
             }
            },
            "type": "scattergeo"
           }
          ],
          "scattergl": [
           {
            "marker": {
             "colorbar": {
              "outlinewidth": 0,
              "ticks": ""
             }
            },
            "type": "scattergl"
           }
          ],
          "scattermapbox": [
           {
            "marker": {
             "colorbar": {
              "outlinewidth": 0,
              "ticks": ""
             }
            },
            "type": "scattermapbox"
           }
          ],
          "scatterpolar": [
           {
            "marker": {
             "colorbar": {
              "outlinewidth": 0,
              "ticks": ""
             }
            },
            "type": "scatterpolar"
           }
          ],
          "scatterpolargl": [
           {
            "marker": {
             "colorbar": {
              "outlinewidth": 0,
              "ticks": ""
             }
            },
            "type": "scatterpolargl"
           }
          ],
          "scatterternary": [
           {
            "marker": {
             "colorbar": {
              "outlinewidth": 0,
              "ticks": ""
             }
            },
            "type": "scatterternary"
           }
          ],
          "surface": [
           {
            "colorbar": {
             "outlinewidth": 0,
             "ticks": ""
            },
            "colorscale": [
             [
              0,
              "#0d0887"
             ],
             [
              0.1111111111111111,
              "#46039f"
             ],
             [
              0.2222222222222222,
              "#7201a8"
             ],
             [
              0.3333333333333333,
              "#9c179e"
             ],
             [
              0.4444444444444444,
              "#bd3786"
             ],
             [
              0.5555555555555556,
              "#d8576b"
             ],
             [
              0.6666666666666666,
              "#ed7953"
             ],
             [
              0.7777777777777778,
              "#fb9f3a"
             ],
             [
              0.8888888888888888,
              "#fdca26"
             ],
             [
              1,
              "#f0f921"
             ]
            ],
            "type": "surface"
           }
          ],
          "table": [
           {
            "cells": {
             "fill": {
              "color": "#EBF0F8"
             },
             "line": {
              "color": "white"
             }
            },
            "header": {
             "fill": {
              "color": "#C8D4E3"
             },
             "line": {
              "color": "white"
             }
            },
            "type": "table"
           }
          ]
         },
         "layout": {
          "annotationdefaults": {
           "arrowcolor": "#2a3f5f",
           "arrowhead": 0,
           "arrowwidth": 1
          },
          "autotypenumbers": "strict",
          "coloraxis": {
           "colorbar": {
            "outlinewidth": 0,
            "ticks": ""
           }
          },
          "colorscale": {
           "diverging": [
            [
             0,
             "#8e0152"
            ],
            [
             0.1,
             "#c51b7d"
            ],
            [
             0.2,
             "#de77ae"
            ],
            [
             0.3,
             "#f1b6da"
            ],
            [
             0.4,
             "#fde0ef"
            ],
            [
             0.5,
             "#f7f7f7"
            ],
            [
             0.6,
             "#e6f5d0"
            ],
            [
             0.7,
             "#b8e186"
            ],
            [
             0.8,
             "#7fbc41"
            ],
            [
             0.9,
             "#4d9221"
            ],
            [
             1,
             "#276419"
            ]
           ],
           "sequential": [
            [
             0,
             "#0d0887"
            ],
            [
             0.1111111111111111,
             "#46039f"
            ],
            [
             0.2222222222222222,
             "#7201a8"
            ],
            [
             0.3333333333333333,
             "#9c179e"
            ],
            [
             0.4444444444444444,
             "#bd3786"
            ],
            [
             0.5555555555555556,
             "#d8576b"
            ],
            [
             0.6666666666666666,
             "#ed7953"
            ],
            [
             0.7777777777777778,
             "#fb9f3a"
            ],
            [
             0.8888888888888888,
             "#fdca26"
            ],
            [
             1,
             "#f0f921"
            ]
           ],
           "sequentialminus": [
            [
             0,
             "#0d0887"
            ],
            [
             0.1111111111111111,
             "#46039f"
            ],
            [
             0.2222222222222222,
             "#7201a8"
            ],
            [
             0.3333333333333333,
             "#9c179e"
            ],
            [
             0.4444444444444444,
             "#bd3786"
            ],
            [
             0.5555555555555556,
             "#d8576b"
            ],
            [
             0.6666666666666666,
             "#ed7953"
            ],
            [
             0.7777777777777778,
             "#fb9f3a"
            ],
            [
             0.8888888888888888,
             "#fdca26"
            ],
            [
             1,
             "#f0f921"
            ]
           ]
          },
          "colorway": [
           "#636efa",
           "#EF553B",
           "#00cc96",
           "#ab63fa",
           "#FFA15A",
           "#19d3f3",
           "#FF6692",
           "#B6E880",
           "#FF97FF",
           "#FECB52"
          ],
          "font": {
           "color": "#2a3f5f"
          },
          "geo": {
           "bgcolor": "white",
           "lakecolor": "white",
           "landcolor": "#E5ECF6",
           "showlakes": true,
           "showland": true,
           "subunitcolor": "white"
          },
          "hoverlabel": {
           "align": "left"
          },
          "hovermode": "closest",
          "mapbox": {
           "style": "light"
          },
          "paper_bgcolor": "white",
          "plot_bgcolor": "#E5ECF6",
          "polar": {
           "angularaxis": {
            "gridcolor": "white",
            "linecolor": "white",
            "ticks": ""
           },
           "bgcolor": "#E5ECF6",
           "radialaxis": {
            "gridcolor": "white",
            "linecolor": "white",
            "ticks": ""
           }
          },
          "scene": {
           "xaxis": {
            "backgroundcolor": "#E5ECF6",
            "gridcolor": "white",
            "gridwidth": 2,
            "linecolor": "white",
            "showbackground": true,
            "ticks": "",
            "zerolinecolor": "white"
           },
           "yaxis": {
            "backgroundcolor": "#E5ECF6",
            "gridcolor": "white",
            "gridwidth": 2,
            "linecolor": "white",
            "showbackground": true,
            "ticks": "",
            "zerolinecolor": "white"
           },
           "zaxis": {
            "backgroundcolor": "#E5ECF6",
            "gridcolor": "white",
            "gridwidth": 2,
            "linecolor": "white",
            "showbackground": true,
            "ticks": "",
            "zerolinecolor": "white"
           }
          },
          "shapedefaults": {
           "line": {
            "color": "#2a3f5f"
           }
          },
          "ternary": {
           "aaxis": {
            "gridcolor": "white",
            "linecolor": "white",
            "ticks": ""
           },
           "baxis": {
            "gridcolor": "white",
            "linecolor": "white",
            "ticks": ""
           },
           "bgcolor": "#E5ECF6",
           "caxis": {
            "gridcolor": "white",
            "linecolor": "white",
            "ticks": ""
           }
          },
          "title": {
           "x": 0.05
          },
          "xaxis": {
           "automargin": true,
           "gridcolor": "white",
           "linecolor": "white",
           "ticks": "",
           "title": {
            "standoff": 15
           },
           "zerolinecolor": "white",
           "zerolinewidth": 2
          },
          "yaxis": {
           "automargin": true,
           "gridcolor": "white",
           "linecolor": "white",
           "ticks": "",
           "title": {
            "standoff": 15
           },
           "zerolinecolor": "white",
           "zerolinewidth": 2
          }
         }
        },
        "title": {
         "text": "Proportions of total amortized model development cost"
        },
        "width": 600,
        "xaxis": {
         "title": {
          "text": "Models"
         }
        },
        "yaxis": {
         "range": [
          0,
          100
         ],
         "title": {
          "text": "Proportion (%)"
         }
        }
       }
      }
     },
     "metadata": {},
     "output_type": "display_data"
    }
   ],
   "source": [
    "# Creating the figure\n",
    "fig = go.Figure()\n",
    "\n",
    "for component in cost_component_names:\n",
    "    proportions = [np.median(cost_data[model][component]) / total_costs[model] * 100 for model in models]\n",
    "    fig.add_trace(go.Bar(\n",
    "        name=component,\n",
    "        x=list(models),\n",
    "        y=proportions,\n",
    "        text=[f'{np.around(pp/100, 1) * 100:.0f}%' for pp in proportions],\n",
    "        textposition='auto',\n",
    "    ))\n",
    "\n",
    "# y ticks\n",
    "fig.update_yaxes(range=[0, 100])\n",
    "\n",
    "# Update the layout\n",
    "fig.update_layout(\n",
    "    barmode='stack',\n",
    "    title='Proportions of total amortized model development cost',\n",
    "    xaxis_title='Models',\n",
    "    yaxis_title='Proportion (%)',\n",
    "    legend_title='Cost components',\n",
    "    width=600,\n",
    "    height=400,\n",
    ")\n",
    "\n",
    "# Save plot\n",
    "save_plot(fig, results_dir, 'cost_proportions_stacked')\n",
    "\n",
    "# Show the figure\n",
    "fig.show()"
   ]
  },
  {
   "cell_type": "code",
   "execution_count": null,
   "metadata": {},
   "outputs": [],
   "source": []
  }
 ],
 "metadata": {
  "kernelspec": {
   "display_name": "epoch",
   "language": "python",
   "name": "python3"
  },
  "language_info": {
   "codemirror_mode": {
    "name": "ipython",
    "version": 3
   },
   "file_extension": ".py",
   "mimetype": "text/x-python",
   "name": "python",
   "nbconvert_exporter": "python",
   "pygments_lexer": "ipython3",
   "version": "3.11.4"
  }
 },
 "nbformat": 4,
 "nbformat_minor": 2
}
