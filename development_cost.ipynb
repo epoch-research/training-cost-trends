{
 "cells": [
  {
   "cell_type": "markdown",
   "metadata": {},
   "source": [
    "# Setup"
   ]
  },
  {
   "cell_type": "code",
   "execution_count": 1,
   "metadata": {},
   "outputs": [],
   "source": [
    "from collections import defaultdict\n",
    "from datetime import datetime\n",
    "import numpy as np\n",
    "import os\n",
    "import pandas as pd\n",
    "import plotly.graph_objects as go\n",
    "from plotly.subplots import make_subplots\n",
    "\n",
    "from cost import *\n",
    "from data import *\n",
    "from energy import *\n",
    "from inflation import *\n",
    "from parameters import *\n",
    "from plotting import *\n",
    "from utils import *"
   ]
  },
  {
   "cell_type": "code",
   "execution_count": 2,
   "metadata": {},
   "outputs": [],
   "source": [
    "results_dir = f'results/development-costs/'\n",
    "os.makedirs(results_dir, exist_ok=True)"
   ]
  },
  {
   "cell_type": "markdown",
   "metadata": {},
   "source": [
    "Sample size for distributions"
   ]
  },
  {
   "cell_type": "code",
   "execution_count": 3,
   "metadata": {},
   "outputs": [],
   "source": [
    "N = 1000"
   ]
  },
  {
   "cell_type": "markdown",
   "metadata": {},
   "source": [
    "Cost of staff compensation\n",
    "- Use Google Software Engineer as the reference: https://web.archive.org/web/20240515221234/https://www.levels.fyi/companies/google/salaries/software-engineer/locations/san-francisco-bay-area?dma=807\n",
    "- Approximately 200K to 1.2M\n"
   ]
  },
  {
   "cell_type": "code",
   "execution_count": 4,
   "metadata": {},
   "outputs": [],
   "source": [
    "compensation_low = 2e5\n",
    "compensation_high = 1.2e6\n"
   ]
  },
  {
   "cell_type": "markdown",
   "metadata": {},
   "source": [
    "Apply 1.25 - 1.4 overhead factor for benefits, payroll, etc. https://www.sba.gov/blog/how-much-does-employee-cost-you "
   ]
  },
  {
   "cell_type": "code",
   "execution_count": 5,
   "metadata": {},
   "outputs": [],
   "source": [
    "compensation_overhead_low = 1.25\n",
    "compensation_overhead_high = 1.4"
   ]
  },
  {
   "cell_type": "markdown",
   "metadata": {},
   "source": [
    "Anchor number of FTEs to the author count on the paper.\n",
    "For models we consider here, the author list is a decent anchor point for the actual contributors, because e.g. engineers are included."
   ]
  },
  {
   "cell_type": "code",
   "execution_count": 6,
   "metadata": {},
   "outputs": [],
   "source": [
    "author_factor_low = 0.3\n",
    "author_factor_high = 1.5"
   ]
  },
  {
   "cell_type": "code",
   "execution_count": 7,
   "metadata": {},
   "outputs": [],
   "source": [
    "cost_data = {}\n",
    "cost_data_with_hardware_acq = {}"
   ]
  },
  {
   "cell_type": "markdown",
   "metadata": {},
   "source": [
    "Default ratio of total experiment + training compute to final training run compute\n",
    "- Smaller versions of GPT-3 made up ~4.5e22 FLOP (based on the formula compute = 6 * parameters * tokens), compared to 175B using ~3e23 FLOP. See Table 2.1 of the [paper](https://arxiv.org/pdf/2005.14165). That's a factor of ~1.14 to go from 175B to total FLOP. Certainly more than that was needed due to failures and other experiments. So 1.2x seems like a good low-end estimate.\n",
    "- https://arxiv.org/pdf/2111.00364.pdf, p.3, Fig. 3 caption: \"At Facebook, we observe a rough power capacity breakdown of 10:20:70 for AI infrastructures devoted to the three key phases — Experimentation, Training, and Inference\". 10:20 ratio means a 1.5x multiplier from training to training+experiment compute. Note however that the \"training\" category is not just the final training run; it includes additional hyper-parameter tuning and retraining for some models. So the actual multiplier would be higher under our definition.\n",
    "- BLOOM project - https://arxiv.org/abs/2211.02001, p.8, Table 5. ~63% of compute was spent training smaller models than 176B. That's a multiplier of ~2.7x.\n",
    "- We think the Facebook and BLOOM cases are more central examples as they account better for all experiments. A factor close to 2x seems like a reasonable median estimate.\n",
    "- On the high end, it's plausible that several, full iterations of the full-scale training run are necessary before success - say, 5x."
   ]
  },
  {
   "cell_type": "code",
   "execution_count": 8,
   "metadata": {},
   "outputs": [
    {
     "name": "stdout",
     "output_type": "stream",
     "text": [
      "Median: 2.5 [90% CI: 1.2, 5.1]\n"
     ]
    }
   ],
   "source": [
    "experiment_factor = lognorm_from_90_ci(1.2, 5, N)\n",
    "print_median_and_ci(experiment_factor)"
   ]
  },
  {
   "cell_type": "markdown",
   "metadata": {},
   "source": [
    "Uncertainty in energy prices"
   ]
  },
  {
   "cell_type": "code",
   "execution_count": 9,
   "metadata": {},
   "outputs": [
    {
     "data": {
      "text/plain": [
       "(1.727914785226352, 0.6247539654972791)"
      ]
     },
     "execution_count": 9,
     "metadata": {},
     "output_type": "execute_result"
    }
   ],
   "source": [
    "likely_datacenter_states = ['California', 'Nevada', 'Oregon', 'Washington']\n",
    "energy_prices = [US_STATE_ENERGY_PRICES_PER_KWH[state] for state in likely_datacenter_states]\n",
    "mean = np.mean(energy_prices)\n",
    "np.max(energy_prices) / mean, np.min(energy_prices) / mean"
   ]
  },
  {
   "cell_type": "code",
   "execution_count": 10,
   "metadata": {},
   "outputs": [],
   "source": [
    "energy_price_uncertainty_factor = lognorm_from_90_ci(0.6, 1.7, N)"
   ]
  },
  {
   "cell_type": "code",
   "execution_count": 11,
   "metadata": {},
   "outputs": [],
   "source": [
    "dt2float = lambda x: x.year + x.month/12 + x.day/365.25\n",
    "float2dt = lambda x: datetime(int(x), int((x-int(x))*12), int(((x-int(x))*12-int((x-int(x))*12))*365.25))"
   ]
  },
  {
   "cell_type": "code",
   "execution_count": 12,
   "metadata": {},
   "outputs": [],
   "source": [
    "frontier_pcd_df, hardware_df, price_df = load_data_for_cost_estimation(\n",
    "    compute_threshold_method='top_n', compute_threshold=10,\n",
    ")"
   ]
  },
  {
   "cell_type": "markdown",
   "metadata": {},
   "source": [
    "Models"
   ]
  },
  {
   "cell_type": "code",
   "execution_count": 13,
   "metadata": {},
   "outputs": [],
   "source": [
    "models = ['GPT-3 175B (davinci)', 'OPT-175B', 'GPT-4', 'Gemini Ultra']"
   ]
  },
  {
   "cell_type": "code",
   "execution_count": 14,
   "metadata": {},
   "outputs": [],
   "source": [
    "selected_model_df = frontier_pcd_df.loc[[s in models for s in frontier_pcd_df['System']]]"
   ]
  },
  {
   "cell_type": "markdown",
   "metadata": {},
   "source": [
    "## Hardware"
   ]
  },
  {
   "cell_type": "code",
   "execution_count": 15,
   "metadata": {},
   "outputs": [],
   "source": [
    "# Unset index\n",
    "selected_model_df.reset_index(inplace=True)"
   ]
  },
  {
   "cell_type": "code",
   "execution_count": 16,
   "metadata": {},
   "outputs": [
    {
     "name": "stderr",
     "output_type": "stream",
     "text": [
      "/var/folders/s2/stl5t_bn7xg9vdfxxr71rzrc0000gn/T/ipykernel_72042/1294256109.py:4: SettingWithCopyWarning: \n",
      "A value is trying to be set on a copy of a slice from a DataFrame.\n",
      "Try using .loc[row_indexer,col_indexer] = value instead\n",
      "\n",
      "See the caveats in the documentation: https://pandas.pydata.org/pandas-docs/stable/user_guide/indexing.html#returning-a-view-versus-a-copy\n",
      "  selected_model_df['Training chip-hours'] = selected_model_df.apply(_estimate_chip_hours, axis=1)\n"
     ]
    },
    {
     "data": {
      "text/plain": [
       "0    132000000.0\n",
       "1     57000000.0\n",
       "2       812544.0\n",
       "3      3552000.0\n",
       "Name: Training chip-hours, dtype: float64"
      ]
     },
     "execution_count": 16,
     "metadata": {},
     "output_type": "execute_result"
    }
   ],
   "source": [
    "def _estimate_chip_hours(row):\n",
    "    return estimate_chip_hours(row, hardware_df)\n",
    "\n",
    "selected_model_df['Training chip-hours'] = selected_model_df.apply(_estimate_chip_hours, axis=1)\n",
    "selected_model_df['Training chip-hours']"
   ]
  },
  {
   "cell_type": "code",
   "execution_count": 17,
   "metadata": {},
   "outputs": [
    {
     "name": "stdout",
     "output_type": "stream",
     "text": [
      "\n",
      "\n",
      "2.5th percentile of experiments time\n",
      "==== System: Gemini Ultra ====\n",
      "Estimated the value of Google TPU v4 server, available from 2021-05-20 00:00:00 and used from 2023-05-10 00:00:00: 10527.742991314644\n",
      "\n",
      "==== System: GPT-4 ====\n",
      "Estimated the value of NVIDIA A100 SXM4 40 GB server, available from 2020-08-12 00:00:00 and used from 2022-05-12 00:00:00: 14165.054738257799\n",
      "\n",
      "==== System: OPT-175B ====\n",
      "Estimated the value of NVIDIA A100 SXM4 80 GB server, available from 2021-02-14 00:00:00 and used from 2022-02-27 23:00:00: 17818.700400260856\n",
      "\n",
      "==== System: GPT-3 175B (davinci) ====\n",
      "Estimated the value of NVIDIA Tesla V100 DGXS 32 GB server, available from 2018-06-25 00:00:00 and used from 2019-10-01 00:00:00: 11463.61551009175\n",
      "\n",
      "==== System: Gemini Ultra ====\n",
      "Estimated cost: {'AI accelerator chip cost': 32870212.285350483, 'Other server components cost': 21036935.862624306, 'Cluster-level interconnect cost': 8086072.222196214, 'Energy cost': 3088861.5127483187}\n",
      "==== System: GPT-4 ====\n",
      "Estimated cost: {'AI accelerator chip cost': 18867839.63251722, 'Other server components cost': 12452774.157461364, 'Cluster-level interconnect cost': 4698092.068496784, 'Energy cost': 3691470.7963789646}\n",
      "==== System: OPT-175B ====\n",
      "Estimated cost: {'AI accelerator chip cost': 338338.9342792743, 'Other server components cost': 223303.69662432105, 'Cluster-level interconnect cost': 84246.39463553925, 'Energy cost': 47801.59915174096}\n",
      "==== System: GPT-3 175B (davinci) ====\n",
      "Estimated cost: {'AI accelerator chip cost': 934641.4026206905, 'Other server components cost': 644902.5678082764, 'Cluster-level interconnect cost': 236931.5955643449, 'Energy cost': 117148.02339067386}\n",
      "All costs:\n",
      "{'Gemini Ultra': {'AI accelerator chip cost': 32870212.285350483, 'Other server components cost': 21036935.862624306, 'Cluster-level interconnect cost': 8086072.222196214, 'Energy cost': 3088861.5127483187}, 'GPT-4': {'AI accelerator chip cost': 18867839.63251722, 'Other server components cost': 12452774.157461364, 'Cluster-level interconnect cost': 4698092.068496784, 'Energy cost': 3691470.7963789646}, 'OPT-175B': {'AI accelerator chip cost': 338338.9342792743, 'Other server components cost': 223303.69662432105, 'Cluster-level interconnect cost': 84246.39463553925, 'Energy cost': 47801.59915174096}, 'GPT-3 175B (davinci)': {'AI accelerator chip cost': 934641.4026206905, 'Other server components cost': 644902.5678082764, 'Cluster-level interconnect cost': 236931.5955643449, 'Energy cost': 117148.02339067386}}\n",
      "\n",
      "\n",
      "50th percentile of experiments time\n",
      "==== System: Gemini Ultra ====\n",
      "Estimated the value of Google TPU v4 server, available from 2021-05-20 00:00:00 and used from 2023-05-10 00:00:00: 10527.742991314644\n",
      "\n",
      "==== System: GPT-4 ====\n",
      "Estimated the value of NVIDIA A100 SXM4 40 GB server, available from 2020-08-12 00:00:00 and used from 2022-05-12 00:00:00: 14165.054738257799\n",
      "\n",
      "==== System: OPT-175B ====\n",
      "Estimated the value of NVIDIA A100 SXM4 80 GB server, available from 2021-02-14 00:00:00 and used from 2022-02-27 23:00:00: 17818.700400260856\n",
      "\n",
      "==== System: GPT-3 175B (davinci) ====\n",
      "Estimated the value of NVIDIA Tesla V100 DGXS 32 GB server, available from 2018-06-25 00:00:00 and used from 2019-10-01 00:00:00: 11463.61551009175\n",
      "\n",
      "==== System: Gemini Ultra ====\n",
      "Estimated cost: {'AI accelerator chip cost': 76361770.73082577, 'Other server components cost': 48871533.26772848, 'Cluster-level interconnect cost': 18784995.599783126, 'Energy cost': 7175826.3259188365}\n",
      "==== System: GPT-4 ====\n",
      "Estimated cost: {'AI accelerator chip cost': 43832441.10797519, 'Other server components cost': 28929411.13126362, 'Cluster-level interconnect cost': 10914277.835885815, 'Energy cost': 8575765.929514855}\n",
      "==== System: OPT-175B ====\n",
      "Estimated cost: {'AI accelerator chip cost': 786005.2714128795, 'Other server components cost': 518763.4791325005, 'Cluster-level interconnect cost': 195715.31258180688, 'Energy cost': 111049.32098716311}\n",
      "==== System: GPT-3 175B (davinci) ====\n",
      "Estimated cost: {'AI accelerator chip cost': 2171293.3242681543, 'Other server components cost': 1498192.393745026, 'Cluster-level interconnect cost': 550422.8577019768, 'Energy cost': 272150.0678507914}\n",
      "All costs:\n",
      "{'Gemini Ultra': {'AI accelerator chip cost': 76361770.73082577, 'Other server components cost': 48871533.26772848, 'Cluster-level interconnect cost': 18784995.599783126, 'Energy cost': 7175826.3259188365}, 'GPT-4': {'AI accelerator chip cost': 43832441.10797519, 'Other server components cost': 28929411.13126362, 'Cluster-level interconnect cost': 10914277.835885815, 'Energy cost': 8575765.929514855}, 'OPT-175B': {'AI accelerator chip cost': 786005.2714128795, 'Other server components cost': 518763.4791325005, 'Cluster-level interconnect cost': 195715.31258180688, 'Energy cost': 111049.32098716311}, 'GPT-3 175B (davinci)': {'AI accelerator chip cost': 2171293.3242681543, 'Other server components cost': 1498192.393745026, 'Cluster-level interconnect cost': 550422.8577019768, 'Energy cost': 272150.0678507914}}\n",
      "\n",
      "\n",
      "97.5th percentile of experiments time\n",
      "==== System: Gemini Ultra ====\n",
      "Estimated the value of Google TPU v4 server, available from 2021-05-20 00:00:00 and used from 2023-05-10 00:00:00: 10527.742991314644\n",
      "\n",
      "==== System: GPT-4 ====\n",
      "Estimated the value of NVIDIA A100 SXM4 40 GB server, available from 2020-08-12 00:00:00 and used from 2022-05-12 00:00:00: 14165.054738257799\n",
      "\n",
      "==== System: OPT-175B ====\n",
      "Estimated the value of NVIDIA A100 SXM4 80 GB server, available from 2021-02-14 00:00:00 and used from 2022-02-27 23:00:00: 17818.700400260856\n",
      "\n",
      "==== System: GPT-3 175B (davinci) ====\n",
      "Estimated the value of NVIDIA Tesla V100 DGXS 32 GB server, available from 2018-06-25 00:00:00 and used from 2019-10-01 00:00:00: 11463.61551009175\n",
      "\n",
      "==== System: Gemini Ultra ====\n",
      "Estimated cost: {'AI accelerator chip cost': 185558899.13768435, 'Other server components cost': 118757695.44811797, 'Cluster-level interconnect cost': 45647489.18787032, 'Energy cost': 17437238.82640659}\n",
      "==== System: GPT-4 ====\n",
      "Estimated cost: {'AI accelerator chip cost': 106512714.94454649, 'Other server components cost': 70298391.86340067, 'Cluster-level interconnect cost': 26521666.02119206, 'Energy cost': 20839088.32801406}\n",
      "==== System: OPT-175B ====\n",
      "Estimated cost: {'AI accelerator chip cost': 1909990.7124195828, 'Other server components cost': 1260593.8701969243, 'Cluster-level interconnect cost': 475587.6873924758, 'Energy cost': 269849.55371192057}\n",
      "==== System: GPT-3 175B (davinci) ====\n",
      "Estimated cost: {'AI accelerator chip cost': 5276236.984818345, 'Other server components cost': 3640603.519524658, 'Cluster-level interconnect cost': 1337526.0756514496, 'Energy cost': 661323.9387631585}\n",
      "All costs:\n",
      "{'Gemini Ultra': {'AI accelerator chip cost': 185558899.13768435, 'Other server components cost': 118757695.44811797, 'Cluster-level interconnect cost': 45647489.18787032, 'Energy cost': 17437238.82640659}, 'GPT-4': {'AI accelerator chip cost': 106512714.94454649, 'Other server components cost': 70298391.86340067, 'Cluster-level interconnect cost': 26521666.02119206, 'Energy cost': 20839088.32801406}, 'OPT-175B': {'AI accelerator chip cost': 1909990.7124195828, 'Other server components cost': 1260593.8701969243, 'Cluster-level interconnect cost': 475587.6873924758, 'Energy cost': 269849.55371192057}, 'GPT-3 175B (davinci)': {'AI accelerator chip cost': 5276236.984818345, 'Other server components cost': 3640603.519524658, 'Cluster-level interconnect cost': 1337526.0756514496, 'Energy cost': 661323.9387631585}}\n"
     ]
    },
    {
     "name": "stderr",
     "output_type": "stream",
     "text": [
      "/var/folders/s2/stl5t_bn7xg9vdfxxr71rzrc0000gn/T/ipykernel_72042/3550706096.py:1: SettingWithCopyWarning: \n",
      "A value is trying to be set on a copy of a slice from a DataFrame.\n",
      "Try using .loc[row_indexer,col_indexer] = value instead\n",
      "\n",
      "See the caveats in the documentation: https://pandas.pydata.org/pandas-docs/stable/user_guide/indexing.html#returning-a-view-versus-a-copy\n",
      "  selected_model_df.loc[:, 'Original training chip-hours'] = selected_model_df.loc[:, 'Training chip-hours']\n",
      "/var/folders/s2/stl5t_bn7xg9vdfxxr71rzrc0000gn/T/ipykernel_72042/3550706096.py:13: SettingWithCopyWarning: \n",
      "A value is trying to be set on a copy of a slice from a DataFrame.\n",
      "Try using .loc[row_indexer,col_indexer] = value instead\n",
      "\n",
      "See the caveats in the documentation: https://pandas.pydata.org/pandas-docs/stable/user_guide/indexing.html#returning-a-view-versus-a-copy\n",
      "  selected_model_df.loc[:, 'Training chip-hours'] = selected_model_df.loc[:, 'Original training chip-hours'] * experiment_factor_value\n",
      "/Users/bencottier/Projects/training_cost_2/training-cost-trends/cost.py:329: SettingWithCopyWarning: \n",
      "A value is trying to be set on a copy of a slice from a DataFrame.\n",
      "Try using .loc[row_indexer,col_indexer] = value instead\n",
      "\n",
      "See the caveats in the documentation: https://pandas.pydata.org/pandas-docs/stable/user_guide/indexing.html#returning-a-view-versus-a-copy\n",
      "  frontier_pcd_df[k] = frontier_pcd_df['System'].map(system_to_component_cost)\n",
      "/Users/bencottier/Projects/training_cost_2/training-cost-trends/cost.py:329: SettingWithCopyWarning: \n",
      "A value is trying to be set on a copy of a slice from a DataFrame.\n",
      "Try using .loc[row_indexer,col_indexer] = value instead\n",
      "\n",
      "See the caveats in the documentation: https://pandas.pydata.org/pandas-docs/stable/user_guide/indexing.html#returning-a-view-versus-a-copy\n",
      "  frontier_pcd_df[k] = frontier_pcd_df['System'].map(system_to_component_cost)\n",
      "/Users/bencottier/Projects/training_cost_2/training-cost-trends/cost.py:329: SettingWithCopyWarning: \n",
      "A value is trying to be set on a copy of a slice from a DataFrame.\n",
      "Try using .loc[row_indexer,col_indexer] = value instead\n",
      "\n",
      "See the caveats in the documentation: https://pandas.pydata.org/pandas-docs/stable/user_guide/indexing.html#returning-a-view-versus-a-copy\n",
      "  frontier_pcd_df[k] = frontier_pcd_df['System'].map(system_to_component_cost)\n",
      "/Users/bencottier/Projects/training_cost_2/training-cost-trends/cost.py:329: SettingWithCopyWarning: \n",
      "A value is trying to be set on a copy of a slice from a DataFrame.\n",
      "Try using .loc[row_indexer,col_indexer] = value instead\n",
      "\n",
      "See the caveats in the documentation: https://pandas.pydata.org/pandas-docs/stable/user_guide/indexing.html#returning-a-view-versus-a-copy\n",
      "  frontier_pcd_df[k] = frontier_pcd_df['System'].map(system_to_component_cost)\n",
      "/Users/bencottier/Projects/training_cost_2/training-cost-trends/cost.py:330: SettingWithCopyWarning: \n",
      "A value is trying to be set on a copy of a slice from a DataFrame.\n",
      "Try using .loc[row_indexer,col_indexer] = value instead\n",
      "\n",
      "See the caveats in the documentation: https://pandas.pydata.org/pandas-docs/stable/user_guide/indexing.html#returning-a-view-versus-a-copy\n",
      "  frontier_pcd_df['Cost'] = frontier_pcd_df[cost_component_names].sum(axis=1)\n",
      "/var/folders/s2/stl5t_bn7xg9vdfxxr71rzrc0000gn/T/ipykernel_72042/3550706096.py:13: SettingWithCopyWarning: \n",
      "A value is trying to be set on a copy of a slice from a DataFrame.\n",
      "Try using .loc[row_indexer,col_indexer] = value instead\n",
      "\n",
      "See the caveats in the documentation: https://pandas.pydata.org/pandas-docs/stable/user_guide/indexing.html#returning-a-view-versus-a-copy\n",
      "  selected_model_df.loc[:, 'Training chip-hours'] = selected_model_df.loc[:, 'Original training chip-hours'] * experiment_factor_value\n",
      "/Users/bencottier/Projects/training_cost_2/training-cost-trends/cost.py:329: SettingWithCopyWarning: \n",
      "A value is trying to be set on a copy of a slice from a DataFrame.\n",
      "Try using .loc[row_indexer,col_indexer] = value instead\n",
      "\n",
      "See the caveats in the documentation: https://pandas.pydata.org/pandas-docs/stable/user_guide/indexing.html#returning-a-view-versus-a-copy\n",
      "  frontier_pcd_df[k] = frontier_pcd_df['System'].map(system_to_component_cost)\n",
      "/Users/bencottier/Projects/training_cost_2/training-cost-trends/cost.py:329: SettingWithCopyWarning: \n",
      "A value is trying to be set on a copy of a slice from a DataFrame.\n",
      "Try using .loc[row_indexer,col_indexer] = value instead\n",
      "\n",
      "See the caveats in the documentation: https://pandas.pydata.org/pandas-docs/stable/user_guide/indexing.html#returning-a-view-versus-a-copy\n",
      "  frontier_pcd_df[k] = frontier_pcd_df['System'].map(system_to_component_cost)\n",
      "/Users/bencottier/Projects/training_cost_2/training-cost-trends/cost.py:329: SettingWithCopyWarning: \n",
      "A value is trying to be set on a copy of a slice from a DataFrame.\n",
      "Try using .loc[row_indexer,col_indexer] = value instead\n",
      "\n",
      "See the caveats in the documentation: https://pandas.pydata.org/pandas-docs/stable/user_guide/indexing.html#returning-a-view-versus-a-copy\n",
      "  frontier_pcd_df[k] = frontier_pcd_df['System'].map(system_to_component_cost)\n",
      "/Users/bencottier/Projects/training_cost_2/training-cost-trends/cost.py:329: SettingWithCopyWarning: \n",
      "A value is trying to be set on a copy of a slice from a DataFrame.\n",
      "Try using .loc[row_indexer,col_indexer] = value instead\n",
      "\n",
      "See the caveats in the documentation: https://pandas.pydata.org/pandas-docs/stable/user_guide/indexing.html#returning-a-view-versus-a-copy\n",
      "  frontier_pcd_df[k] = frontier_pcd_df['System'].map(system_to_component_cost)\n",
      "/Users/bencottier/Projects/training_cost_2/training-cost-trends/cost.py:330: SettingWithCopyWarning: \n",
      "A value is trying to be set on a copy of a slice from a DataFrame.\n",
      "Try using .loc[row_indexer,col_indexer] = value instead\n",
      "\n",
      "See the caveats in the documentation: https://pandas.pydata.org/pandas-docs/stable/user_guide/indexing.html#returning-a-view-versus-a-copy\n",
      "  frontier_pcd_df['Cost'] = frontier_pcd_df[cost_component_names].sum(axis=1)\n",
      "/var/folders/s2/stl5t_bn7xg9vdfxxr71rzrc0000gn/T/ipykernel_72042/3550706096.py:13: SettingWithCopyWarning: \n",
      "A value is trying to be set on a copy of a slice from a DataFrame.\n",
      "Try using .loc[row_indexer,col_indexer] = value instead\n",
      "\n",
      "See the caveats in the documentation: https://pandas.pydata.org/pandas-docs/stable/user_guide/indexing.html#returning-a-view-versus-a-copy\n",
      "  selected_model_df.loc[:, 'Training chip-hours'] = selected_model_df.loc[:, 'Original training chip-hours'] * experiment_factor_value\n",
      "/Users/bencottier/Projects/training_cost_2/training-cost-trends/cost.py:329: SettingWithCopyWarning: \n",
      "A value is trying to be set on a copy of a slice from a DataFrame.\n",
      "Try using .loc[row_indexer,col_indexer] = value instead\n",
      "\n",
      "See the caveats in the documentation: https://pandas.pydata.org/pandas-docs/stable/user_guide/indexing.html#returning-a-view-versus-a-copy\n",
      "  frontier_pcd_df[k] = frontier_pcd_df['System'].map(system_to_component_cost)\n",
      "/Users/bencottier/Projects/training_cost_2/training-cost-trends/cost.py:329: SettingWithCopyWarning: \n",
      "A value is trying to be set on a copy of a slice from a DataFrame.\n",
      "Try using .loc[row_indexer,col_indexer] = value instead\n",
      "\n",
      "See the caveats in the documentation: https://pandas.pydata.org/pandas-docs/stable/user_guide/indexing.html#returning-a-view-versus-a-copy\n",
      "  frontier_pcd_df[k] = frontier_pcd_df['System'].map(system_to_component_cost)\n",
      "/Users/bencottier/Projects/training_cost_2/training-cost-trends/cost.py:329: SettingWithCopyWarning: \n",
      "A value is trying to be set on a copy of a slice from a DataFrame.\n",
      "Try using .loc[row_indexer,col_indexer] = value instead\n",
      "\n",
      "See the caveats in the documentation: https://pandas.pydata.org/pandas-docs/stable/user_guide/indexing.html#returning-a-view-versus-a-copy\n",
      "  frontier_pcd_df[k] = frontier_pcd_df['System'].map(system_to_component_cost)\n",
      "/Users/bencottier/Projects/training_cost_2/training-cost-trends/cost.py:329: SettingWithCopyWarning: \n",
      "A value is trying to be set on a copy of a slice from a DataFrame.\n",
      "Try using .loc[row_indexer,col_indexer] = value instead\n",
      "\n",
      "See the caveats in the documentation: https://pandas.pydata.org/pandas-docs/stable/user_guide/indexing.html#returning-a-view-versus-a-copy\n",
      "  frontier_pcd_df[k] = frontier_pcd_df['System'].map(system_to_component_cost)\n",
      "/Users/bencottier/Projects/training_cost_2/training-cost-trends/cost.py:330: SettingWithCopyWarning: \n",
      "A value is trying to be set on a copy of a slice from a DataFrame.\n",
      "Try using .loc[row_indexer,col_indexer] = value instead\n",
      "\n",
      "See the caveats in the documentation: https://pandas.pydata.org/pandas-docs/stable/user_guide/indexing.html#returning-a-view-versus-a-copy\n",
      "  frontier_pcd_df['Cost'] = frontier_pcd_df[cost_component_names].sum(axis=1)\n"
     ]
    },
    {
     "data": {
      "text/plain": [
       "defaultdict(dict,\n",
       "            {'GPT-3 175B (davinci)': {'2.5': {'AI accelerator chip cost': 934641.4026206905,\n",
       "               'Other server components cost': 644902.5678082764,\n",
       "               'Cluster-level interconnect cost': 236931.5955643449,\n",
       "               'Energy cost': 117148.02339067386},\n",
       "              '50': {'AI accelerator chip cost': 2171293.3242681543,\n",
       "               'Other server components cost': 1498192.393745026,\n",
       "               'Cluster-level interconnect cost': 550422.8577019768,\n",
       "               'Energy cost': 272150.0678507914},\n",
       "              '97.5': {'AI accelerator chip cost': 5276236.984818345,\n",
       "               'Other server components cost': 3640603.519524658,\n",
       "               'Cluster-level interconnect cost': 1337526.0756514496,\n",
       "               'Energy cost': 661323.9387631585}},\n",
       "             'OPT-175B': {'2.5': {'AI accelerator chip cost': 338338.9342792743,\n",
       "               'Other server components cost': 223303.69662432105,\n",
       "               'Cluster-level interconnect cost': 84246.39463553925,\n",
       "               'Energy cost': 47801.59915174096},\n",
       "              '50': {'AI accelerator chip cost': 786005.2714128795,\n",
       "               'Other server components cost': 518763.4791325005,\n",
       "               'Cluster-level interconnect cost': 195715.31258180688,\n",
       "               'Energy cost': 111049.32098716311},\n",
       "              '97.5': {'AI accelerator chip cost': 1909990.7124195828,\n",
       "               'Other server components cost': 1260593.8701969243,\n",
       "               'Cluster-level interconnect cost': 475587.6873924758,\n",
       "               'Energy cost': 269849.55371192057}},\n",
       "             'GPT-4': {'2.5': {'AI accelerator chip cost': 18867839.63251722,\n",
       "               'Other server components cost': 12452774.157461364,\n",
       "               'Cluster-level interconnect cost': 4698092.068496784,\n",
       "               'Energy cost': 3691470.7963789646},\n",
       "              '50': {'AI accelerator chip cost': 43832441.10797519,\n",
       "               'Other server components cost': 28929411.13126362,\n",
       "               'Cluster-level interconnect cost': 10914277.835885815,\n",
       "               'Energy cost': 8575765.929514855},\n",
       "              '97.5': {'AI accelerator chip cost': 106512714.94454649,\n",
       "               'Other server components cost': 70298391.86340067,\n",
       "               'Cluster-level interconnect cost': 26521666.02119206,\n",
       "               'Energy cost': 20839088.32801406}},\n",
       "             'Gemini Ultra': {'2.5': {'AI accelerator chip cost': 32870212.285350483,\n",
       "               'Other server components cost': 21036935.862624306,\n",
       "               'Cluster-level interconnect cost': 8086072.222196214,\n",
       "               'Energy cost': 3088861.5127483187},\n",
       "              '50': {'AI accelerator chip cost': 76361770.73082577,\n",
       "               'Other server components cost': 48871533.26772848,\n",
       "               'Cluster-level interconnect cost': 18784995.599783126,\n",
       "               'Energy cost': 7175826.3259188365},\n",
       "              '97.5': {'AI accelerator chip cost': 185558899.13768435,\n",
       "               'Other server components cost': 118757695.44811797,\n",
       "               'Cluster-level interconnect cost': 45647489.18787032,\n",
       "               'Energy cost': 17437238.82640659}}})"
      ]
     },
     "execution_count": 17,
     "metadata": {},
     "output_type": "execute_result"
    }
   ],
   "source": [
    "selected_model_df.loc[:, 'Original training chip-hours'] = selected_model_df.loc[:, 'Training chip-hours']\n",
    "hardware_costs = defaultdict(dict)\n",
    "cost_component_names = [\n",
    "    'AI accelerator chip cost',\n",
    "    'Other server components cost',\n",
    "    'Cluster-level interconnect cost',\n",
    "    'Energy cost',\n",
    "]\n",
    "\n",
    "for percentile in [2.5, 50, 97.5]:\n",
    "    print(f'\\n\\n{percentile}th percentile of experiments time')\n",
    "    experiment_factor_value = np.percentile(experiment_factor, percentile)\n",
    "    selected_model_df.loc[:, 'Training chip-hours'] = selected_model_df.loc[:, 'Original training chip-hours'] * experiment_factor_value\n",
    "    cost_df = estimate_hardware_capex_opex(selected_model_df, hardware_df, price_df, separate_components=True)\n",
    "    cost_df = cost_df.set_index('System', inplace=False)\n",
    "\n",
    "    for model in models:\n",
    "        cost_components = {}\n",
    "        for cost_component_name in cost_component_names:\n",
    "            cost_components[cost_component_name] = cost_df.loc[model, cost_component_name]\n",
    "        hardware_costs[model][str(percentile)] = cost_components\n",
    "\n",
    "hardware_costs"
   ]
  },
  {
   "cell_type": "markdown",
   "metadata": {},
   "source": [
    "# GPT-3"
   ]
  },
  {
   "cell_type": "markdown",
   "metadata": {},
   "source": [
    "## Project duration"
   ]
  },
  {
   "cell_type": "markdown",
   "metadata": {},
   "source": [
    "Training end time\n",
    "1. Shevlane (2022)\n",
    "https://uploads-ssl.webflow.com/614b70a71b9f71c9c240c7a7/6262a1a55526a373cc93207d_Shevlane%20dissertation%20preprint.pdf\n",
    "p.66 of the PDF: A senior member of OpenAI (specified anonymously on p.27 of the PDF) \n",
    "told the author \"GPT-3 existed for a long time before the paper came out. We delayed the \n",
    "paper. [...] But it's months, it doesn't really count.\"\n",
    "p.67 of the PDF: CAMERON said \"Firstly, [the idea for a commercial API for GPT-3] \n",
    "started out as a research API. It probably was . . . early January 2020.\"\n",
    "\n",
    "1. We think it plausibly could have been produced soon after the Microsoft deal was \n",
    "announced in July 2019. Supposing the announcement coincided with Microsoft giving \n",
    "OpenAI access to the necessary compute, and OpenAI already having almost everything \n",
    "about GPT-3 planned in advance, and it took less than 1 month to train, then GPT-3 could \n",
    "have been produced in August 2019.\n",
    "\n",
    "1. So we estimate August to January as our 90% CI, and halfway between (October) as the\n",
    "central estimate."
   ]
  },
  {
   "cell_type": "code",
   "execution_count": 18,
   "metadata": {},
   "outputs": [],
   "source": [
    "training_end_low = datetime(2019, 8, 1)\n",
    "training_end_high = datetime(2020, 1, 1)"
   ]
  },
  {
   "cell_type": "markdown",
   "metadata": {},
   "source": [
    "\n",
    "Project start time\n",
    "- Lower bound on start time: when GPT-2 was published, 2019-Feb-14\n",
    "  - It could have been earlier than this, but that seems unlikely unless GPT-2 was delayed for months\n",
    "  - The scaling laws paper was only published in January 2020, and GPT-3 was based on the findings of that paper\n",
    "- Upper bound on start time: 2019-Nov-01, two months before the upper bound on training completion\n",
    "  - We think they’d need six weeks at the absolute minimum, to prepare training data and scale up the experiments successfully\n"
   ]
  },
  {
   "cell_type": "code",
   "execution_count": 19,
   "metadata": {},
   "outputs": [],
   "source": [
    "project_start_low = datetime(2019, 2, 14)\n",
    "project_start_high = datetime(2019, 11, 1)\n"
   ]
  },
  {
   "cell_type": "code",
   "execution_count": 20,
   "metadata": {},
   "outputs": [],
   "source": [
    "frontier_pcd_df['Publication date'] = pd.to_datetime(frontier_pcd_df['Publication date'])"
   ]
  },
  {
   "cell_type": "code",
   "execution_count": 21,
   "metadata": {},
   "outputs": [
    {
     "data": {
      "text/plain": [
       "numpy.datetime64('2020-05-28T00:00:00.000000000')"
      ]
     },
     "execution_count": 21,
     "metadata": {},
     "output_type": "execute_result"
    }
   ],
   "source": [
    "publication_date = frontier_pcd_df.loc[frontier_pcd_df['System'] == 'GPT-3 175B (davinci)', 'Publication date'].values[0]\n",
    "publication_date"
   ]
  },
  {
   "cell_type": "code",
   "execution_count": 22,
   "metadata": {},
   "outputs": [
    {
     "name": "stdout",
     "output_type": "stream",
     "text": [
      "Median: 4.3 [90% CI: 1, 9.2]\n",
      "Median: 8.2 [90% CI: 3.8, 13]\n"
     ]
    }
   ],
   "source": [
    "min_project_duration = 15 / 365  # training duration\n",
    "experiments_duration = []\n",
    "while len(experiments_duration) < N:\n",
    "    project_start_sample = lognorm_from_90_ci(dt2float(project_start_low), dt2float(project_start_high), 1)[0]\n",
    "    training_end_sample = lognorm_from_90_ci(dt2float(training_end_low), dt2float(training_end_high), 1)[0]\n",
    "    experiment_duration_sample = training_end_sample - project_start_sample\n",
    "    if experiment_duration_sample > min_project_duration:\n",
    "        experiments_duration.append(experiment_duration_sample)\n",
    "\n",
    "project_duration = []\n",
    "while len(project_duration) < N:\n",
    "    project_start_sample = lognorm_from_90_ci(dt2float(project_start_low), dt2float(project_start_high), 1)[0]\n",
    "    # Paper was delayed by \"months\"\n",
    "    publication_delay_sample = lognorm_from_90_ci(2*30, 4*30, 1)[0]\n",
    "    project_end_sample = dt2float(publication_date - pd.to_timedelta(publication_delay_sample, unit='D'))\n",
    "    project_duration_sample = project_end_sample - project_start_sample\n",
    "    if project_duration_sample > min_project_duration:\n",
    "        project_duration.append(project_duration_sample)\n",
    "\n",
    "experiments_duration = np.array(experiments_duration)\n",
    "project_duration = np.array(project_duration)\n",
    "print_median_and_ci(experiments_duration * 12)  # convert years to months\n",
    "print_median_and_ci(project_duration * 12)"
   ]
  },
  {
   "cell_type": "markdown",
   "metadata": {},
   "source": [
    "## Energy"
   ]
  },
  {
   "cell_type": "markdown",
   "metadata": {},
   "source": [
    "- Total energy consumption of training: 1287 MWh (Patterson et al. 2021)"
   ]
  },
  {
   "cell_type": "code",
   "execution_count": 23,
   "metadata": {},
   "outputs": [
    {
     "name": "stdout",
     "output_type": "stream",
     "text": [
      "Median: 2.1e+05 [90% CI: 8.4e+04, 5e+05]\n"
     ]
    }
   ],
   "source": [
    "energy_consumption_kwh = 1287e3 * experiment_factor\n",
    "price_per_kwh = energy_price(2020) * energy_price_uncertainty_factor\n",
    "energy_cost = energy_consumption_kwh * price_per_kwh\n",
    "print_median_and_ci(energy_cost)"
   ]
  },
  {
   "cell_type": "markdown",
   "metadata": {},
   "source": [
    "## Personnel"
   ]
  },
  {
   "cell_type": "code",
   "execution_count": 24,
   "metadata": {},
   "outputs": [],
   "source": [
    "total_salaries = np.zeros(N)\n",
    "num_authors = 31\n",
    "for i in range(N):\n",
    "    ftes = int(lognorm_from_90_ci(author_factor_low * num_authors, author_factor_high * num_authors, 1)[0])\n",
    "    salary = lognorm_from_90_ci(compensation_low, compensation_high, ftes)\n",
    "    total_salaries[i] = salary.sum()"
   ]
  },
  {
   "cell_type": "code",
   "execution_count": 25,
   "metadata": {},
   "outputs": [],
   "source": [
    "personnel_cost = total_salaries * project_duration"
   ]
  },
  {
   "cell_type": "code",
   "execution_count": 26,
   "metadata": {},
   "outputs": [
    {
     "name": "stdout",
     "output_type": "stream",
     "text": [
      "Median: 7.5e+06 [95% CI: 1.8e+06, 2.4e+07]\n"
     ]
    }
   ],
   "source": [
    "print_median_and_ci(personnel_cost, ci=[2.5, 97.5])"
   ]
  },
  {
   "cell_type": "markdown",
   "metadata": {},
   "source": [
    "## Overall"
   ]
  },
  {
   "cell_type": "code",
   "execution_count": 27,
   "metadata": {},
   "outputs": [
    {
     "data": {
      "text/plain": [
       "{'AI accelerator chip cost': 934641.4026206905,\n",
       " 'Other server components cost': 644902.5678082764,\n",
       " 'Cluster-level interconnect cost': 236931.5955643449,\n",
       " 'Energy cost': 117148.02339067386}"
      ]
     },
     "execution_count": 27,
     "metadata": {},
     "output_type": "execute_result"
    }
   ],
   "source": [
    "hardware_costs['GPT-3 175B (davinci)']['2.5']"
   ]
  },
  {
   "cell_type": "code",
   "execution_count": 28,
   "metadata": {},
   "outputs": [],
   "source": [
    "def get_hardware_cost_dist(model, component, ci=[2.5, 97.5]):\n",
    "    return lognorm_from_ci(\n",
    "        hardware_costs[model][str(ci[0])][component],\n",
    "        hardware_costs[model][str(ci[1])][component],\n",
    "        ci[1] - ci[0],\n",
    "        N\n",
    "    )"
   ]
  },
  {
   "cell_type": "code",
   "execution_count": 29,
   "metadata": {},
   "outputs": [],
   "source": [
    "cost_data['GPT-3 175B (davinci)'] = {\n",
    "    'AI accelerator chip cost': get_hardware_cost_dist('GPT-3 175B (davinci)', 'AI accelerator chip cost'),\n",
    "    'Other server components cost': get_hardware_cost_dist('GPT-3 175B (davinci)', 'Other server components cost'),\n",
    "    'Cluster-level interconnect cost': get_hardware_cost_dist('GPT-3 175B (davinci)', 'Cluster-level interconnect cost'),\n",
    "    'Energy cost': energy_cost,\n",
    "    'R&D staff cost': personnel_cost,\n",
    "}"
   ]
  },
  {
   "cell_type": "markdown",
   "metadata": {},
   "source": [
    "# OPT-175B"
   ]
  },
  {
   "cell_type": "markdown",
   "metadata": {},
   "source": [
    "## GPU hardware"
   ]
  },
  {
   "cell_type": "markdown",
   "metadata": {},
   "source": [
    "$167000 for DGX A100, 8 GPU, 640GB. In Jan 2022. From a reseller.\n",
    "https://web.archive.org/web/20220120191032/https://www.dihuni.com/product/dgx-a100-comparable-dihuni-optiready-ai-a100-sxm4-8nve-8-x-ampere-a100-sxm4-nvlink-epyc-deep-learning-server/"
   ]
  },
  {
   "cell_type": "code",
   "execution_count": 30,
   "metadata": {},
   "outputs": [
    {
     "name": "stdout",
     "output_type": "stream",
     "text": [
      "2.0708e+07\n"
     ]
    }
   ],
   "source": [
    "num_gpus = 992\n",
    "price_per_server = 167e3\n",
    "gpus_per_server = 8\n",
    "num_servers = num_gpus / gpus_per_server\n",
    "gpu_hardware_cost = price_per_server * num_servers\n",
    "printg(gpu_hardware_cost)"
   ]
  },
  {
   "cell_type": "markdown",
   "metadata": {},
   "source": [
    "## Other hardware"
   ]
  },
  {
   "cell_type": "markdown",
   "metadata": {},
   "source": [
    "The NVIDIA DGX A100 server already covers CPUs and node-level interconnect\n",
    "We assume that the biggest cost on top of that is cluster-level interconnect (transceivers, switches, and cables). \n",
    "Assume $11 per Gbps of server-level interconnect\n",
    "How fast is A100 interconnect? With NVLink it’s 600 Gbps per GPU (https://www.nvidia.com/en-gb/data-center/tesla-v100/).\n"
   ]
  },
  {
   "cell_type": "code",
   "execution_count": 31,
   "metadata": {},
   "outputs": [
    {
     "name": "stdout",
     "output_type": "stream",
     "text": [
      "6.5472e+06\n"
     ]
    }
   ],
   "source": [
    "cluster_interconnect_cost_per_gbps = 11\n",
    "cluster_interconnect_bandwidth = 600\n",
    "cluster_interconnect_cost = cluster_interconnect_cost_per_gbps * cluster_interconnect_bandwidth * num_gpus\n",
    "printg(cluster_interconnect_cost)"
   ]
  },
  {
   "cell_type": "markdown",
   "metadata": {},
   "source": [
    "## Energy"
   ]
  },
  {
   "cell_type": "markdown",
   "metadata": {},
   "source": [
    "https://arxiv.org/abs/2205.01068: \"[...] OPT-175B was developed with an estimated carbon emissions footprint (CO2eq) of 75 tons [...] With ablations, baselines and downtime, our own estimates of total cost is roughly 2× higher.\"\n",
    "\n",
    "- I haven't found numbers for carbon intensity, or how they calculate it\n",
    "- According to https://arxiv.org/pdf/2104.10350.pdf (Table 1), Gross CO2e/KWh (kg/KWh) for the “Google Iowa Council Bluffs” data center in 2020 was 0.478 CO2e/kWh (kg/kWh)\n",
    "- Energy use:\n",
    "  - 992 A100 GPU units\n",
    "  - 300W per unit (https://www.nvidia.com/en-us/data-center/a100/)\n",
    "  - Training time 33 days (https://github.com/facebookresearch/metaseq/blob/d703cf1ae1e0faaff6c20629398dfbe02b98cf77/projects/OPT/chronicles/final_update.md)\n",
    "  - Energy = 992 units * 0.3 kW/unit * 33 days * 24h/day ~= 236000 kWh\n",
    "  - 75000 kg / 236000 kWh ~= 0.318 CO2e/kWh (kg/kWh)\n",
    "  - Sanity check: this is similar to the Google data center figure of 0.478"
   ]
  },
  {
   "cell_type": "code",
   "execution_count": 32,
   "metadata": {},
   "outputs": [
    {
     "data": {
      "text/plain": [
       "39126.0672"
      ]
     },
     "execution_count": 32,
     "metadata": {},
     "output_type": "execute_result"
    }
   ],
   "source": [
    "training_time = 33 * 24\n",
    "power_per_gpu = 0.3\n",
    "experiment_factor = 2.0\n",
    "energy_consumption_kwh = training_time * num_gpus * power_per_gpu * experiment_factor\n",
    "price_per_kwh = 0.083\n",
    "energy_cost = energy_consumption_kwh * price_per_kwh\n",
    "energy_cost"
   ]
  },
  {
   "cell_type": "markdown",
   "metadata": {},
   "source": [
    "## Personnel"
   ]
  },
  {
   "cell_type": "markdown",
   "metadata": {},
   "source": [
    "2021-Oct-20: First date in [OPT logbook](https://github.com/facebookresearch/metaseq/blob/main/projects/OPT/chronicles/OPT175B_Logbook.pdf)\n",
    "\n",
    "2022-Jan-06: Date in the logbook where the final training run is stated to have completed"
   ]
  },
  {
   "cell_type": "code",
   "execution_count": 33,
   "metadata": {},
   "outputs": [],
   "source": [
    "experiments_duration = 78 / DAYS_PER_YEAR"
   ]
  },
  {
   "cell_type": "code",
   "execution_count": 34,
   "metadata": {},
   "outputs": [],
   "source": [
    "num_authors = 19"
   ]
  },
  {
   "cell_type": "code",
   "execution_count": 35,
   "metadata": {},
   "outputs": [],
   "source": [
    "total_salaries = np.zeros(N)\n",
    "for i in range(N):\n",
    "    ftes = int(lognorm_from_90_ci(0.3 * num_authors, 1.5 * num_authors, 1)[0])\n",
    "    salary = lognorm_from_90_ci(3e5, 2e6, ftes)\n",
    "    total_salaries[i] = salary.sum()"
   ]
  },
  {
   "cell_type": "code",
   "execution_count": 36,
   "metadata": {},
   "outputs": [],
   "source": [
    "personnel_cost = total_salaries * experiments_duration"
   ]
  },
  {
   "cell_type": "code",
   "execution_count": 37,
   "metadata": {},
   "outputs": [
    {
     "name": "stdout",
     "output_type": "stream",
     "text": [
      "Median: 2.3e+06 [90% CI: 8.9e+05, 5.4e+06]\n"
     ]
    }
   ],
   "source": [
    "print_median_and_ci(personnel_cost)"
   ]
  },
  {
   "cell_type": "markdown",
   "metadata": {},
   "source": [
    "## Overall"
   ]
  },
  {
   "cell_type": "code",
   "execution_count": 38,
   "metadata": {},
   "outputs": [
    {
     "ename": "NameError",
     "evalue": "name 'cost_data_upfront_capex' is not defined",
     "output_type": "error",
     "traceback": [
      "\u001b[0;31m---------------------------------------------------------------------------\u001b[0m",
      "\u001b[0;31mNameError\u001b[0m                                 Traceback (most recent call last)",
      "Cell \u001b[0;32mIn[38], line 1\u001b[0m\n\u001b[0;32m----> 1\u001b[0m cost_data_upfront_capex[\u001b[38;5;124m'\u001b[39m\u001b[38;5;124mOPT-175B\u001b[39m\u001b[38;5;124m'\u001b[39m] \u001b[38;5;241m=\u001b[39m {\n\u001b[1;32m      2\u001b[0m     \u001b[38;5;124m'\u001b[39m\u001b[38;5;124mGPU servers\u001b[39m\u001b[38;5;124m'\u001b[39m: gpu_hardware_cost,\n\u001b[1;32m      3\u001b[0m     \u001b[38;5;124m'\u001b[39m\u001b[38;5;124mOther hardware\u001b[39m\u001b[38;5;124m'\u001b[39m: cluster_interconnect_cost,\n\u001b[1;32m      4\u001b[0m     \u001b[38;5;124m'\u001b[39m\u001b[38;5;124mEnergy\u001b[39m\u001b[38;5;124m'\u001b[39m: energy_cost,\n\u001b[1;32m      5\u001b[0m     \u001b[38;5;124m'\u001b[39m\u001b[38;5;124mPersonnel\u001b[39m\u001b[38;5;124m'\u001b[39m: personnel_cost\u001b[38;5;241m.\u001b[39mmean(),\n\u001b[1;32m      6\u001b[0m }\n",
      "\u001b[0;31mNameError\u001b[0m: name 'cost_data_upfront_capex' is not defined"
     ]
    }
   ],
   "source": [
    "cost_data_upfront_capex['OPT-175B'] = {\n",
    "    'GPU servers': gpu_hardware_cost,\n",
    "    'Other hardware': cluster_interconnect_cost,\n",
    "    'Energy': energy_cost,\n",
    "    'Personnel': personnel_cost.mean(),\n",
    "}"
   ]
  },
  {
   "cell_type": "code",
   "execution_count": null,
   "metadata": {},
   "outputs": [],
   "source": [
    "a100_server_lifetime = lognorm_from_90_ci(2, 7, N)  # years"
   ]
  },
  {
   "cell_type": "code",
   "execution_count": null,
   "metadata": {},
   "outputs": [
    {
     "data": {
      "text/plain": [
       "{'GPU servers': 1251889.3745022374,\n",
       " 'Other hardware': 395806.9399623841,\n",
       " 'Energy': 39126.0672,\n",
       " 'Personnel': 2621423.5046858904}"
      ]
     },
     "execution_count": 32,
     "metadata": {},
     "output_type": "execute_result"
    }
   ],
   "source": [
    "cost_data_amortized_capex['OPT-175B'] = {\n",
    "    'GPU servers': np.mean(gpu_hardware_cost * experiments_duration / a100_server_lifetime),\n",
    "    'Other hardware': np.mean(cluster_interconnect_cost * experiments_duration / a100_server_lifetime),\n",
    "    'Energy': energy_cost,\n",
    "    'Personnel': personnel_cost.mean(),\n",
    "}\n",
    "cost_data_amortized_capex['OPT-175B']"
   ]
  },
  {
   "cell_type": "markdown",
   "metadata": {},
   "source": [
    "# GPT-4"
   ]
  },
  {
   "cell_type": "markdown",
   "metadata": {},
   "source": [
    "Use the [estimate by Yafah Edelman](https://www.lesswrong.com/posts/nXcHe7t4rqHMjhzau/report-on-frontier-model-training#Cost_Breakdown_of_ML_Training) as a placeholder"
   ]
  },
  {
   "cell_type": "code",
   "execution_count": null,
   "metadata": {},
   "outputs": [],
   "source": [
    "total_cost = 5e8\n",
    "cost_data_upfront_capex['GPT-4'] = {\n",
    "    'GPU servers': 0.569 * total_cost,\n",
    "    'Other hardware': 0.244 * total_cost,\n",
    "    'Energy': 0.01 * total_cost,\n",
    "    'Personnel': 0.178 * total_cost,\n",
    "}"
   ]
  },
  {
   "cell_type": "code",
   "execution_count": null,
   "metadata": {},
   "outputs": [
    {
     "name": "stdout",
     "output_type": "stream",
     "text": [
      "Median: 5.5e+07 [90% CI: 2.9e+07, 1e+08]\n",
      "Median: 1.5e+08 [90% CI: 1.2e+08, 2e+08]\n"
     ]
    }
   ],
   "source": [
    "# Amortized capex\n",
    "upfront_hardware_capex = (0.569 + 0.244) * total_cost\n",
    "training_time = 2280 / HOURS_PER_YEAR  # in years, from PCD database\n",
    "experiment_factor = 2\n",
    "amortized_server_capex = upfront_hardware_capex * (training_time * experiment_factor) / a100_server_lifetime\n",
    "print_median_and_ci(amortized_server_capex)\n",
    "print_median_and_ci(amortized_server_capex + 0.01 * total_cost + 0.178 * total_cost)"
   ]
  },
  {
   "cell_type": "code",
   "execution_count": null,
   "metadata": {},
   "outputs": [
    {
     "data": {
      "text/plain": [
       "46297056.81040383"
      ]
     },
     "execution_count": 35,
     "metadata": {},
     "output_type": "execute_result"
    }
   ],
   "source": [
    "# Yafah's labour cost estimate was based on 1 year of spending, but we're only counting 6 months of training + experiments\n",
    "adjusted_personnel_cost = (training_time * experiment_factor) * 0.178 * total_cost\n",
    "adjusted_personnel_cost"
   ]
  },
  {
   "cell_type": "code",
   "execution_count": null,
   "metadata": {},
   "outputs": [],
   "source": [
    "cost_data_amortized_capex['GPT-4'] = {\n",
    "    'GPU servers': amortized_server_capex.mean() * 0.569,\n",
    "    'Other hardware': amortized_server_capex.mean() * 0.244,\n",
    "    'Energy': 0.01 * total_cost,\n",
    "    'Personnel': adjusted_personnel_cost,\n",
    "}"
   ]
  },
  {
   "cell_type": "markdown",
   "metadata": {},
   "source": [
    "# Gemini Ultra"
   ]
  },
  {
   "cell_type": "markdown",
   "metadata": {},
   "source": [
    "See https://colab.research.google.com/drive/1XEKlSo-3DCFp686yGOwwfS6_DEHsFimd#scrollTo=yqWMux2iZL8L"
   ]
  },
  {
   "cell_type": "code",
   "execution_count": null,
   "metadata": {},
   "outputs": [
    {
     "name": "stdout",
     "output_type": "stream",
     "text": [
      "Median: 0.98 [90% CI: 0.57, 1.7]\n"
     ]
    }
   ],
   "source": [
    "# Lognormal distribution parameters for project duration\n",
    "p_5th_project_duration_years = 7 / 12\n",
    "p_95th_project_duration_years = 20 / 12\n",
    "\n",
    "experiments_duration = lognorm_from_90_ci(p_5th_project_duration_years, p_95th_project_duration_years, N)\n",
    "\n",
    "project_duration_hours = experiments_duration * HOURS_PER_YEAR\n",
    "\n",
    "print_median_and_ci(experiments_duration, ci=[5, 95])"
   ]
  },
  {
   "cell_type": "code",
   "execution_count": null,
   "metadata": {},
   "outputs": [
    {
     "name": "stdout",
     "output_type": "stream",
     "text": [
      "Median: 6.4e+04 [90% CI: 5e+04, 7.7e+04]\n"
     ]
    }
   ],
   "source": [
    "chips_per_pod = 4096\n",
    "number_of_pods = np.random.uniform(12, 19, N)\n",
    "number_of_chips = number_of_pods * chips_per_pod\n",
    "print_median_and_ci(number_of_chips)"
   ]
  },
  {
   "cell_type": "code",
   "execution_count": null,
   "metadata": {},
   "outputs": [
    {
     "name": "stdout",
     "output_type": "stream",
     "text": [
      "Median: 1.3e+07 [90% CI: 7.5e+06, 2.3e+07]\n"
     ]
    }
   ],
   "source": [
    "cost_per_kwh = 0.083  # default assumption for US data centers\n",
    "power_per_chip = 0.3  # Unsure - TPUv3 is under 300W for most models in https://arxiv.org/pdf/2104.10350.pdf, but this is TPUv4. See also https://cloud.google.com/tpu/docs/v4.\n",
    "energy_cost = number_of_chips * power_per_chip * project_duration_hours * cost_per_kwh\n",
    "print_median_and_ci(energy_cost)"
   ]
  },
  {
   "cell_type": "code",
   "execution_count": null,
   "metadata": {},
   "outputs": [],
   "source": [
    "hardware_cost = 6.7e8\n",
    "# Use GPU/non-GPU fractions from Yafah Edelman as a placeholder\n",
    "cost_data_upfront_capex['Gemini Ultra'] = {\n",
    "    'GPU servers': 0.7 * hardware_cost,\n",
    "    'Other hardware': 0.3 * hardware_cost,\n",
    "    'Energy': energy_cost.mean(),\n",
    "    'Personnel': 1.6e8,\n",
    "}"
   ]
  },
  {
   "cell_type": "code",
   "execution_count": null,
   "metadata": {},
   "outputs": [],
   "source": [
    "tpuv4_server_lifetime = lognorm_from_90_ci(3, 8, N)  # years"
   ]
  },
  {
   "cell_type": "code",
   "execution_count": null,
   "metadata": {},
   "outputs": [],
   "source": [
    "cost_data_amortized_capex['Gemini Ultra'] = {\n",
    "    'GPU servers': 0.7 * np.mean(hardware_cost * experiments_duration / tpuv4_server_lifetime),\n",
    "    'Other hardware': 0.3 * np.mean(hardware_cost * experiments_duration / tpuv4_server_lifetime),\n",
    "    'Energy': energy_cost.mean(),\n",
    "    'Personnel': 1.6e8,\n",
    "}"
   ]
  },
  {
   "cell_type": "code",
   "execution_count": null,
   "metadata": {},
   "outputs": [
    {
     "data": {
      "text/plain": [
       "{'GPT-3': {'GPU servers': 21101057.56614471,\n",
       "  'Other hardware': 3738710.870780002,\n",
       "  'Energy': 213642.0,\n",
       "  'Personnel': 8326041.174462708},\n",
       " 'OPT-175B': {'GPU servers': 1251889.3745022374,\n",
       "  'Other hardware': 395806.9399623841,\n",
       "  'Energy': 39126.0672,\n",
       "  'Personnel': 2621423.5046858904},\n",
       " 'GPT-4': {'GPU servers': 34061173.90082,\n",
       "  'Other hardware': 14606197.595430722,\n",
       "  'Energy': 5000000.0,\n",
       "  'Personnel': 46297056.81040383},\n",
       " 'Gemini Ultra': {'GPU servers': 104527413.47373964,\n",
       "  'Other hardware': 44797462.91731699,\n",
       "  'Energy': 14313389.058145,\n",
       "  'Personnel': 160000000.0}}"
      ]
     },
     "execution_count": 43,
     "metadata": {},
     "output_type": "execute_result"
    }
   ],
   "source": [
    "cost_data_amortized_capex"
   ]
  },
  {
   "cell_type": "markdown",
   "metadata": {},
   "source": [
    "# Plots"
   ]
  },
  {
   "cell_type": "code",
   "execution_count": 39,
   "metadata": {},
   "outputs": [],
   "source": [
    "cost_component_names.insert(0, 'R&D staff cost')"
   ]
  },
  {
   "cell_type": "code",
   "execution_count": 40,
   "metadata": {},
   "outputs": [
    {
     "data": {
      "text/plain": [
       "24331637.241142347"
      ]
     },
     "execution_count": 40,
     "metadata": {},
     "output_type": "execute_result"
    }
   ],
   "source": [
    "np.percentile(cost_data['GPT-3 175B (davinci)']['R&D staff cost'], 97.5)"
   ]
  },
  {
   "cell_type": "code",
   "execution_count": 41,
   "metadata": {},
   "outputs": [
    {
     "data": {
      "text/plain": [
       "[24331637.241142347]"
      ]
     },
     "execution_count": 41,
     "metadata": {},
     "output_type": "execute_result"
    }
   ],
   "source": [
    "component = 'R&D staff cost'\n",
    "[np.percentile(cost_data[model][component], 97.5) for model in models[:1]]"
   ]
  },
  {
   "cell_type": "code",
   "execution_count": 46,
   "metadata": {},
   "outputs": [
    {
     "name": "stdout",
     "output_type": "stream",
     "text": [
      "R&D staff cost\n",
      "[7473965.076211616] [1784993.886001776] [24331637.241142347]\n",
      "AI accelerator chip cost\n",
      "[2291881.0206765337] [960833.8873991987] [5457968.581023566]\n",
      "Other server components cost\n",
      "[1499862.804680364] [649013.697432466] [3669268.553191867]\n",
      "Cluster-level interconnect cost\n",
      "[544418.6871672975] [231516.39255564148] [1228530.5068792806]\n",
      "Energy cost\n",
      "[210948.3858575925] [72267.74916077894] [585662.2279505869]\n"
     ]
    },
    {
     "data": {
      "application/vnd.plotly.v1+json": {
       "config": {
        "plotlyServerURL": "https://plot.ly"
       },
       "data": [
        {
         "error_y": {
          "array": [
           16857672.16493073
          ],
          "arrayminus": [
           5688971.19020984
          ],
          "symmetric": false,
          "type": "data",
          "visible": true
         },
         "name": "R&D staff cost",
         "type": "bar",
         "x": [
          "GPT-3 175B (davinci)"
         ],
         "y": [
          7473965.076211616
         ]
        },
        {
         "error_y": {
          "array": [
           3166087.5603470327
          ],
          "arrayminus": [
           1331047.133277335
          ],
          "symmetric": false,
          "type": "data",
          "visible": true
         },
         "name": "AI accelerator chip cost",
         "type": "bar",
         "x": [
          "GPT-3 175B (davinci)"
         ],
         "y": [
          2291881.0206765337
         ]
        },
        {
         "error_y": {
          "array": [
           2169405.7485115035
          ],
          "arrayminus": [
           850849.107247898
          ],
          "symmetric": false,
          "type": "data",
          "visible": true
         },
         "name": "Other server components cost",
         "type": "bar",
         "x": [
          "GPT-3 175B (davinci)"
         ],
         "y": [
          1499862.804680364
         ]
        },
        {
         "error_y": {
          "array": [
           684111.8197119831
          ],
          "arrayminus": [
           312902.294611656
          ],
          "symmetric": false,
          "type": "data",
          "visible": true
         },
         "name": "Cluster-level interconnect cost",
         "type": "bar",
         "x": [
          "GPT-3 175B (davinci)"
         ],
         "y": [
          544418.6871672975
         ]
        },
        {
         "error_y": {
          "array": [
           374713.8420929944
          ],
          "arrayminus": [
           138680.63669681357
          ],
          "symmetric": false,
          "type": "data",
          "visible": true
         },
         "name": "Energy cost",
         "type": "bar",
         "x": [
          "GPT-3 175B (davinci)"
         ],
         "y": [
          210948.3858575925
         ]
        }
       ],
       "layout": {
        "barmode": "group",
        "template": {
         "data": {
          "bar": [
           {
            "error_x": {
             "color": "#2a3f5f"
            },
            "error_y": {
             "color": "#2a3f5f"
            },
            "marker": {
             "line": {
              "color": "white",
              "width": 0.5
             },
             "pattern": {
              "fillmode": "overlay",
              "size": 10,
              "solidity": 0.2
             }
            },
            "type": "bar"
           }
          ],
          "barpolar": [
           {
            "marker": {
             "line": {
              "color": "white",
              "width": 0.5
             },
             "pattern": {
              "fillmode": "overlay",
              "size": 10,
              "solidity": 0.2
             }
            },
            "type": "barpolar"
           }
          ],
          "carpet": [
           {
            "aaxis": {
             "endlinecolor": "#2a3f5f",
             "gridcolor": "#C8D4E3",
             "linecolor": "#C8D4E3",
             "minorgridcolor": "#C8D4E3",
             "startlinecolor": "#2a3f5f"
            },
            "baxis": {
             "endlinecolor": "#2a3f5f",
             "gridcolor": "#C8D4E3",
             "linecolor": "#C8D4E3",
             "minorgridcolor": "#C8D4E3",
             "startlinecolor": "#2a3f5f"
            },
            "type": "carpet"
           }
          ],
          "choropleth": [
           {
            "colorbar": {
             "outlinewidth": 0,
             "ticks": ""
            },
            "type": "choropleth"
           }
          ],
          "contour": [
           {
            "colorbar": {
             "outlinewidth": 0,
             "ticks": ""
            },
            "colorscale": [
             [
              0,
              "#0d0887"
             ],
             [
              0.1111111111111111,
              "#46039f"
             ],
             [
              0.2222222222222222,
              "#7201a8"
             ],
             [
              0.3333333333333333,
              "#9c179e"
             ],
             [
              0.4444444444444444,
              "#bd3786"
             ],
             [
              0.5555555555555556,
              "#d8576b"
             ],
             [
              0.6666666666666666,
              "#ed7953"
             ],
             [
              0.7777777777777778,
              "#fb9f3a"
             ],
             [
              0.8888888888888888,
              "#fdca26"
             ],
             [
              1,
              "#f0f921"
             ]
            ],
            "type": "contour"
           }
          ],
          "contourcarpet": [
           {
            "colorbar": {
             "outlinewidth": 0,
             "ticks": ""
            },
            "type": "contourcarpet"
           }
          ],
          "heatmap": [
           {
            "colorbar": {
             "outlinewidth": 0,
             "ticks": ""
            },
            "colorscale": [
             [
              0,
              "#0d0887"
             ],
             [
              0.1111111111111111,
              "#46039f"
             ],
             [
              0.2222222222222222,
              "#7201a8"
             ],
             [
              0.3333333333333333,
              "#9c179e"
             ],
             [
              0.4444444444444444,
              "#bd3786"
             ],
             [
              0.5555555555555556,
              "#d8576b"
             ],
             [
              0.6666666666666666,
              "#ed7953"
             ],
             [
              0.7777777777777778,
              "#fb9f3a"
             ],
             [
              0.8888888888888888,
              "#fdca26"
             ],
             [
              1,
              "#f0f921"
             ]
            ],
            "type": "heatmap"
           }
          ],
          "heatmapgl": [
           {
            "colorbar": {
             "outlinewidth": 0,
             "ticks": ""
            },
            "colorscale": [
             [
              0,
              "#0d0887"
             ],
             [
              0.1111111111111111,
              "#46039f"
             ],
             [
              0.2222222222222222,
              "#7201a8"
             ],
             [
              0.3333333333333333,
              "#9c179e"
             ],
             [
              0.4444444444444444,
              "#bd3786"
             ],
             [
              0.5555555555555556,
              "#d8576b"
             ],
             [
              0.6666666666666666,
              "#ed7953"
             ],
             [
              0.7777777777777778,
              "#fb9f3a"
             ],
             [
              0.8888888888888888,
              "#fdca26"
             ],
             [
              1,
              "#f0f921"
             ]
            ],
            "type": "heatmapgl"
           }
          ],
          "histogram": [
           {
            "marker": {
             "pattern": {
              "fillmode": "overlay",
              "size": 10,
              "solidity": 0.2
             }
            },
            "type": "histogram"
           }
          ],
          "histogram2d": [
           {
            "colorbar": {
             "outlinewidth": 0,
             "ticks": ""
            },
            "colorscale": [
             [
              0,
              "#0d0887"
             ],
             [
              0.1111111111111111,
              "#46039f"
             ],
             [
              0.2222222222222222,
              "#7201a8"
             ],
             [
              0.3333333333333333,
              "#9c179e"
             ],
             [
              0.4444444444444444,
              "#bd3786"
             ],
             [
              0.5555555555555556,
              "#d8576b"
             ],
             [
              0.6666666666666666,
              "#ed7953"
             ],
             [
              0.7777777777777778,
              "#fb9f3a"
             ],
             [
              0.8888888888888888,
              "#fdca26"
             ],
             [
              1,
              "#f0f921"
             ]
            ],
            "type": "histogram2d"
           }
          ],
          "histogram2dcontour": [
           {
            "colorbar": {
             "outlinewidth": 0,
             "ticks": ""
            },
            "colorscale": [
             [
              0,
              "#0d0887"
             ],
             [
              0.1111111111111111,
              "#46039f"
             ],
             [
              0.2222222222222222,
              "#7201a8"
             ],
             [
              0.3333333333333333,
              "#9c179e"
             ],
             [
              0.4444444444444444,
              "#bd3786"
             ],
             [
              0.5555555555555556,
              "#d8576b"
             ],
             [
              0.6666666666666666,
              "#ed7953"
             ],
             [
              0.7777777777777778,
              "#fb9f3a"
             ],
             [
              0.8888888888888888,
              "#fdca26"
             ],
             [
              1,
              "#f0f921"
             ]
            ],
            "type": "histogram2dcontour"
           }
          ],
          "mesh3d": [
           {
            "colorbar": {
             "outlinewidth": 0,
             "ticks": ""
            },
            "type": "mesh3d"
           }
          ],
          "parcoords": [
           {
            "line": {
             "colorbar": {
              "outlinewidth": 0,
              "ticks": ""
             }
            },
            "type": "parcoords"
           }
          ],
          "pie": [
           {
            "automargin": true,
            "type": "pie"
           }
          ],
          "scatter": [
           {
            "fillpattern": {
             "fillmode": "overlay",
             "size": 10,
             "solidity": 0.2
            },
            "type": "scatter"
           }
          ],
          "scatter3d": [
           {
            "line": {
             "colorbar": {
              "outlinewidth": 0,
              "ticks": ""
             }
            },
            "marker": {
             "colorbar": {
              "outlinewidth": 0,
              "ticks": ""
             }
            },
            "type": "scatter3d"
           }
          ],
          "scattercarpet": [
           {
            "marker": {
             "colorbar": {
              "outlinewidth": 0,
              "ticks": ""
             }
            },
            "type": "scattercarpet"
           }
          ],
          "scattergeo": [
           {
            "marker": {
             "colorbar": {
              "outlinewidth": 0,
              "ticks": ""
             }
            },
            "type": "scattergeo"
           }
          ],
          "scattergl": [
           {
            "marker": {
             "colorbar": {
              "outlinewidth": 0,
              "ticks": ""
             }
            },
            "type": "scattergl"
           }
          ],
          "scattermapbox": [
           {
            "marker": {
             "colorbar": {
              "outlinewidth": 0,
              "ticks": ""
             }
            },
            "type": "scattermapbox"
           }
          ],
          "scatterpolar": [
           {
            "marker": {
             "colorbar": {
              "outlinewidth": 0,
              "ticks": ""
             }
            },
            "type": "scatterpolar"
           }
          ],
          "scatterpolargl": [
           {
            "marker": {
             "colorbar": {
              "outlinewidth": 0,
              "ticks": ""
             }
            },
            "type": "scatterpolargl"
           }
          ],
          "scatterternary": [
           {
            "marker": {
             "colorbar": {
              "outlinewidth": 0,
              "ticks": ""
             }
            },
            "type": "scatterternary"
           }
          ],
          "surface": [
           {
            "colorbar": {
             "outlinewidth": 0,
             "ticks": ""
            },
            "colorscale": [
             [
              0,
              "#0d0887"
             ],
             [
              0.1111111111111111,
              "#46039f"
             ],
             [
              0.2222222222222222,
              "#7201a8"
             ],
             [
              0.3333333333333333,
              "#9c179e"
             ],
             [
              0.4444444444444444,
              "#bd3786"
             ],
             [
              0.5555555555555556,
              "#d8576b"
             ],
             [
              0.6666666666666666,
              "#ed7953"
             ],
             [
              0.7777777777777778,
              "#fb9f3a"
             ],
             [
              0.8888888888888888,
              "#fdca26"
             ],
             [
              1,
              "#f0f921"
             ]
            ],
            "type": "surface"
           }
          ],
          "table": [
           {
            "cells": {
             "fill": {
              "color": "#EBF0F8"
             },
             "line": {
              "color": "white"
             }
            },
            "header": {
             "fill": {
              "color": "#C8D4E3"
             },
             "line": {
              "color": "white"
             }
            },
            "type": "table"
           }
          ]
         },
         "layout": {
          "annotationdefaults": {
           "arrowcolor": "#2a3f5f",
           "arrowhead": 0,
           "arrowwidth": 1
          },
          "autotypenumbers": "strict",
          "coloraxis": {
           "colorbar": {
            "outlinewidth": 0,
            "ticks": ""
           }
          },
          "colorscale": {
           "diverging": [
            [
             0,
             "#8e0152"
            ],
            [
             0.1,
             "#c51b7d"
            ],
            [
             0.2,
             "#de77ae"
            ],
            [
             0.3,
             "#f1b6da"
            ],
            [
             0.4,
             "#fde0ef"
            ],
            [
             0.5,
             "#f7f7f7"
            ],
            [
             0.6,
             "#e6f5d0"
            ],
            [
             0.7,
             "#b8e186"
            ],
            [
             0.8,
             "#7fbc41"
            ],
            [
             0.9,
             "#4d9221"
            ],
            [
             1,
             "#276419"
            ]
           ],
           "sequential": [
            [
             0,
             "#0d0887"
            ],
            [
             0.1111111111111111,
             "#46039f"
            ],
            [
             0.2222222222222222,
             "#7201a8"
            ],
            [
             0.3333333333333333,
             "#9c179e"
            ],
            [
             0.4444444444444444,
             "#bd3786"
            ],
            [
             0.5555555555555556,
             "#d8576b"
            ],
            [
             0.6666666666666666,
             "#ed7953"
            ],
            [
             0.7777777777777778,
             "#fb9f3a"
            ],
            [
             0.8888888888888888,
             "#fdca26"
            ],
            [
             1,
             "#f0f921"
            ]
           ],
           "sequentialminus": [
            [
             0,
             "#0d0887"
            ],
            [
             0.1111111111111111,
             "#46039f"
            ],
            [
             0.2222222222222222,
             "#7201a8"
            ],
            [
             0.3333333333333333,
             "#9c179e"
            ],
            [
             0.4444444444444444,
             "#bd3786"
            ],
            [
             0.5555555555555556,
             "#d8576b"
            ],
            [
             0.6666666666666666,
             "#ed7953"
            ],
            [
             0.7777777777777778,
             "#fb9f3a"
            ],
            [
             0.8888888888888888,
             "#fdca26"
            ],
            [
             1,
             "#f0f921"
            ]
           ]
          },
          "colorway": [
           "#636efa",
           "#EF553B",
           "#00cc96",
           "#ab63fa",
           "#FFA15A",
           "#19d3f3",
           "#FF6692",
           "#B6E880",
           "#FF97FF",
           "#FECB52"
          ],
          "font": {
           "color": "#2a3f5f"
          },
          "geo": {
           "bgcolor": "white",
           "lakecolor": "white",
           "landcolor": "white",
           "showlakes": true,
           "showland": true,
           "subunitcolor": "#C8D4E3"
          },
          "hoverlabel": {
           "align": "left"
          },
          "hovermode": "closest",
          "mapbox": {
           "style": "light"
          },
          "paper_bgcolor": "white",
          "plot_bgcolor": "white",
          "polar": {
           "angularaxis": {
            "gridcolor": "#EBF0F8",
            "linecolor": "#EBF0F8",
            "ticks": ""
           },
           "bgcolor": "white",
           "radialaxis": {
            "gridcolor": "#EBF0F8",
            "linecolor": "#EBF0F8",
            "ticks": ""
           }
          },
          "scene": {
           "xaxis": {
            "backgroundcolor": "white",
            "gridcolor": "#DFE8F3",
            "gridwidth": 2,
            "linecolor": "#EBF0F8",
            "showbackground": true,
            "ticks": "",
            "zerolinecolor": "#EBF0F8"
           },
           "yaxis": {
            "backgroundcolor": "white",
            "gridcolor": "#DFE8F3",
            "gridwidth": 2,
            "linecolor": "#EBF0F8",
            "showbackground": true,
            "ticks": "",
            "zerolinecolor": "#EBF0F8"
           },
           "zaxis": {
            "backgroundcolor": "white",
            "gridcolor": "#DFE8F3",
            "gridwidth": 2,
            "linecolor": "#EBF0F8",
            "showbackground": true,
            "ticks": "",
            "zerolinecolor": "#EBF0F8"
           }
          },
          "shapedefaults": {
           "line": {
            "color": "#2a3f5f"
           }
          },
          "ternary": {
           "aaxis": {
            "gridcolor": "#DFE8F3",
            "linecolor": "#A2B1C6",
            "ticks": ""
           },
           "baxis": {
            "gridcolor": "#DFE8F3",
            "linecolor": "#A2B1C6",
            "ticks": ""
           },
           "bgcolor": "white",
           "caxis": {
            "gridcolor": "#DFE8F3",
            "linecolor": "#A2B1C6",
            "ticks": ""
           }
          },
          "title": {
           "x": 0.05
          },
          "xaxis": {
           "automargin": true,
           "gridcolor": "#EBF0F8",
           "linecolor": "#EBF0F8",
           "ticks": "",
           "title": {
            "standoff": 15
           },
           "zerolinecolor": "#EBF0F8",
           "zerolinewidth": 2
          },
          "yaxis": {
           "automargin": true,
           "gridcolor": "#EBF0F8",
           "linecolor": "#EBF0F8",
           "ticks": "",
           "title": {
            "standoff": 15
           },
           "zerolinecolor": "#EBF0F8",
           "zerolinewidth": 2
          }
         }
        },
        "title": {
         "text": "Total amortized model development costs"
        },
        "xaxis": {
         "title": {
          "text": "Model"
         }
        },
        "yaxis": {
         "title": {
          "text": "Cost (2023 USD, log scale)"
         },
         "type": "log"
        }
       }
      }
     },
     "metadata": {},
     "output_type": "display_data"
    }
   ],
   "source": [
    "# Sample data\n",
    "categories = ['Category A', 'Category B', 'Category C', 'Category D']\n",
    "group1_values = [20, 14, 23, 25]\n",
    "group2_values = [15, 18, 19, 22]\n",
    "\n",
    "# Absolute error bars for group 1\n",
    "group1_error_lower = [18, 12, 20, 22]  # Lower bounds\n",
    "group1_error_upper = [22, 16, 26, 28]  # Upper bounds\n",
    "\n",
    "# Absolute error bars for group 2\n",
    "group2_error_lower = [14, 16, 17, 20]  # Lower bounds\n",
    "group2_error_upper = [16, 20, 21, 24]  # Upper bounds\n",
    "\n",
    "# Create a grouped bar chart with error bars\n",
    "fig = go.Figure()\n",
    "\n",
    "# Group 1\n",
    "for component in cost_component_names:\n",
    "    y_values = [np.median(cost_data[model][component]) for model in models[:2]]\n",
    "    y_lows = [np.percentile(cost_data[model][component], 2.5) for model in models[:2]]\n",
    "    y_highs = [np.percentile(cost_data[model][component], 97.5) for model in models[:2]]\n",
    "    print(component)\n",
    "    print(y_values, y_lows, y_highs)\n",
    "    fig.add_trace(go.Bar(\n",
    "        x=models[:1],\n",
    "        y=y_values,\n",
    "        error_y=dict(\n",
    "            type='data',\n",
    "            symmetric=False,  # Use asymmetric error bars\n",
    "            array=[y_highs[i] - y_values[i] for i in range(len(y_values))],  # Upper bounds of the error bars\n",
    "            arrayminus=[y_values[i] - y_lows[i] for i in range(len(y_values))],  # Lower bounds\n",
    "            visible=True  # Make error bars visible\n",
    "        ),\n",
    "        name=component\n",
    "    ))\n",
    "\n",
    "# log y axis\n",
    "fig.update_yaxes(type=\"log\")\n",
    "\n",
    "# Customize the layout\n",
    "fig.update_layout(\n",
    "    barmode='group',  # Group bars together\n",
    "    title='Total amortized model development costs',\n",
    "    xaxis=dict(\n",
    "        title='Model'\n",
    "    ),\n",
    "    yaxis=dict(\n",
    "        title='Cost (2023 USD, log scale)'\n",
    "    ),\n",
    "    template='plotly_white'  # Choose a template (optional)\n",
    ")\n",
    "\n",
    "# Show the plot\n",
    "fig.show()\n"
   ]
  },
  {
   "cell_type": "code",
   "execution_count": null,
   "metadata": {},
   "outputs": [],
   "source": []
  },
  {
   "cell_type": "code",
   "execution_count": null,
   "metadata": {},
   "outputs": [],
   "source": [
    "# Prepare data for Plotly\n",
    "categories = list(next(iter(cost_data_amortized_capex.values())).keys())\n",
    "models = [k for k in cost_data_amortized_capex.keys()] # if 'OPT' not in k]"
   ]
  },
  {
   "cell_type": "code",
   "execution_count": null,
   "metadata": {},
   "outputs": [
    {
     "data": {
      "text/plain": [
       "{'GPT-3': 33379451.611387417,\n",
       " 'OPT-175B': 4308245.886350512,\n",
       " 'GPT-4': 99964428.30665456,\n",
       " 'Gemini Ultra': 323638265.4492016}"
      ]
     },
     "execution_count": 45,
     "metadata": {},
     "output_type": "execute_result"
    }
   ],
   "source": [
    "total_costs = {model:sum([cost_data_amortized_capex[model][category] for category in categories]) for model in models}\n",
    "total_costs"
   ]
  },
  {
   "cell_type": "code",
   "execution_count": null,
   "metadata": {},
   "outputs": [
    {
     "data": {
      "application/vnd.plotly.v1+json": {
       "config": {
        "plotlyServerURL": "https://plot.ly"
       },
       "data": [
        {
         "name": "GPU servers",
         "textposition": "auto",
         "type": "bar",
         "x": [
          "GPT-3",
          "OPT-175B",
          "GPT-4",
          "Gemini Ultra"
         ],
         "y": [
          21101057.56614471,
          1251889.3745022374,
          34061173.90082,
          104527413.47373964
         ]
        },
        {
         "name": "Other hardware",
         "textposition": "auto",
         "type": "bar",
         "x": [
          "GPT-3",
          "OPT-175B",
          "GPT-4",
          "Gemini Ultra"
         ],
         "y": [
          3738710.870780002,
          395806.9399623841,
          14606197.595430722,
          44797462.91731699
         ]
        },
        {
         "name": "Personnel",
         "textposition": "auto",
         "type": "bar",
         "x": [
          "GPT-3",
          "OPT-175B",
          "GPT-4",
          "Gemini Ultra"
         ],
         "y": [
          8326041.174462708,
          2621423.5046858904,
          46297056.81040383,
          160000000
         ]
        },
        {
         "name": "Energy",
         "textposition": "auto",
         "type": "bar",
         "x": [
          "GPT-3",
          "OPT-175B",
          "GPT-4",
          "Gemini Ultra"
         ],
         "y": [
          213642,
          39126.0672,
          5000000,
          14313389.058145
         ]
        }
       ],
       "layout": {
        "barmode": "stack",
        "height": 400,
        "legend": {
         "title": {
          "text": "Cost Components"
         }
        },
        "template": {
         "data": {
          "bar": [
           {
            "error_x": {
             "color": "#2a3f5f"
            },
            "error_y": {
             "color": "#2a3f5f"
            },
            "marker": {
             "line": {
              "color": "#E5ECF6",
              "width": 0.5
             },
             "pattern": {
              "fillmode": "overlay",
              "size": 10,
              "solidity": 0.2
             }
            },
            "type": "bar"
           }
          ],
          "barpolar": [
           {
            "marker": {
             "line": {
              "color": "#E5ECF6",
              "width": 0.5
             },
             "pattern": {
              "fillmode": "overlay",
              "size": 10,
              "solidity": 0.2
             }
            },
            "type": "barpolar"
           }
          ],
          "carpet": [
           {
            "aaxis": {
             "endlinecolor": "#2a3f5f",
             "gridcolor": "white",
             "linecolor": "white",
             "minorgridcolor": "white",
             "startlinecolor": "#2a3f5f"
            },
            "baxis": {
             "endlinecolor": "#2a3f5f",
             "gridcolor": "white",
             "linecolor": "white",
             "minorgridcolor": "white",
             "startlinecolor": "#2a3f5f"
            },
            "type": "carpet"
           }
          ],
          "choropleth": [
           {
            "colorbar": {
             "outlinewidth": 0,
             "ticks": ""
            },
            "type": "choropleth"
           }
          ],
          "contour": [
           {
            "colorbar": {
             "outlinewidth": 0,
             "ticks": ""
            },
            "colorscale": [
             [
              0,
              "#0d0887"
             ],
             [
              0.1111111111111111,
              "#46039f"
             ],
             [
              0.2222222222222222,
              "#7201a8"
             ],
             [
              0.3333333333333333,
              "#9c179e"
             ],
             [
              0.4444444444444444,
              "#bd3786"
             ],
             [
              0.5555555555555556,
              "#d8576b"
             ],
             [
              0.6666666666666666,
              "#ed7953"
             ],
             [
              0.7777777777777778,
              "#fb9f3a"
             ],
             [
              0.8888888888888888,
              "#fdca26"
             ],
             [
              1,
              "#f0f921"
             ]
            ],
            "type": "contour"
           }
          ],
          "contourcarpet": [
           {
            "colorbar": {
             "outlinewidth": 0,
             "ticks": ""
            },
            "type": "contourcarpet"
           }
          ],
          "heatmap": [
           {
            "colorbar": {
             "outlinewidth": 0,
             "ticks": ""
            },
            "colorscale": [
             [
              0,
              "#0d0887"
             ],
             [
              0.1111111111111111,
              "#46039f"
             ],
             [
              0.2222222222222222,
              "#7201a8"
             ],
             [
              0.3333333333333333,
              "#9c179e"
             ],
             [
              0.4444444444444444,
              "#bd3786"
             ],
             [
              0.5555555555555556,
              "#d8576b"
             ],
             [
              0.6666666666666666,
              "#ed7953"
             ],
             [
              0.7777777777777778,
              "#fb9f3a"
             ],
             [
              0.8888888888888888,
              "#fdca26"
             ],
             [
              1,
              "#f0f921"
             ]
            ],
            "type": "heatmap"
           }
          ],
          "heatmapgl": [
           {
            "colorbar": {
             "outlinewidth": 0,
             "ticks": ""
            },
            "colorscale": [
             [
              0,
              "#0d0887"
             ],
             [
              0.1111111111111111,
              "#46039f"
             ],
             [
              0.2222222222222222,
              "#7201a8"
             ],
             [
              0.3333333333333333,
              "#9c179e"
             ],
             [
              0.4444444444444444,
              "#bd3786"
             ],
             [
              0.5555555555555556,
              "#d8576b"
             ],
             [
              0.6666666666666666,
              "#ed7953"
             ],
             [
              0.7777777777777778,
              "#fb9f3a"
             ],
             [
              0.8888888888888888,
              "#fdca26"
             ],
             [
              1,
              "#f0f921"
             ]
            ],
            "type": "heatmapgl"
           }
          ],
          "histogram": [
           {
            "marker": {
             "pattern": {
              "fillmode": "overlay",
              "size": 10,
              "solidity": 0.2
             }
            },
            "type": "histogram"
           }
          ],
          "histogram2d": [
           {
            "colorbar": {
             "outlinewidth": 0,
             "ticks": ""
            },
            "colorscale": [
             [
              0,
              "#0d0887"
             ],
             [
              0.1111111111111111,
              "#46039f"
             ],
             [
              0.2222222222222222,
              "#7201a8"
             ],
             [
              0.3333333333333333,
              "#9c179e"
             ],
             [
              0.4444444444444444,
              "#bd3786"
             ],
             [
              0.5555555555555556,
              "#d8576b"
             ],
             [
              0.6666666666666666,
              "#ed7953"
             ],
             [
              0.7777777777777778,
              "#fb9f3a"
             ],
             [
              0.8888888888888888,
              "#fdca26"
             ],
             [
              1,
              "#f0f921"
             ]
            ],
            "type": "histogram2d"
           }
          ],
          "histogram2dcontour": [
           {
            "colorbar": {
             "outlinewidth": 0,
             "ticks": ""
            },
            "colorscale": [
             [
              0,
              "#0d0887"
             ],
             [
              0.1111111111111111,
              "#46039f"
             ],
             [
              0.2222222222222222,
              "#7201a8"
             ],
             [
              0.3333333333333333,
              "#9c179e"
             ],
             [
              0.4444444444444444,
              "#bd3786"
             ],
             [
              0.5555555555555556,
              "#d8576b"
             ],
             [
              0.6666666666666666,
              "#ed7953"
             ],
             [
              0.7777777777777778,
              "#fb9f3a"
             ],
             [
              0.8888888888888888,
              "#fdca26"
             ],
             [
              1,
              "#f0f921"
             ]
            ],
            "type": "histogram2dcontour"
           }
          ],
          "mesh3d": [
           {
            "colorbar": {
             "outlinewidth": 0,
             "ticks": ""
            },
            "type": "mesh3d"
           }
          ],
          "parcoords": [
           {
            "line": {
             "colorbar": {
              "outlinewidth": 0,
              "ticks": ""
             }
            },
            "type": "parcoords"
           }
          ],
          "pie": [
           {
            "automargin": true,
            "type": "pie"
           }
          ],
          "scatter": [
           {
            "fillpattern": {
             "fillmode": "overlay",
             "size": 10,
             "solidity": 0.2
            },
            "type": "scatter"
           }
          ],
          "scatter3d": [
           {
            "line": {
             "colorbar": {
              "outlinewidth": 0,
              "ticks": ""
             }
            },
            "marker": {
             "colorbar": {
              "outlinewidth": 0,
              "ticks": ""
             }
            },
            "type": "scatter3d"
           }
          ],
          "scattercarpet": [
           {
            "marker": {
             "colorbar": {
              "outlinewidth": 0,
              "ticks": ""
             }
            },
            "type": "scattercarpet"
           }
          ],
          "scattergeo": [
           {
            "marker": {
             "colorbar": {
              "outlinewidth": 0,
              "ticks": ""
             }
            },
            "type": "scattergeo"
           }
          ],
          "scattergl": [
           {
            "marker": {
             "colorbar": {
              "outlinewidth": 0,
              "ticks": ""
             }
            },
            "type": "scattergl"
           }
          ],
          "scattermapbox": [
           {
            "marker": {
             "colorbar": {
              "outlinewidth": 0,
              "ticks": ""
             }
            },
            "type": "scattermapbox"
           }
          ],
          "scatterpolar": [
           {
            "marker": {
             "colorbar": {
              "outlinewidth": 0,
              "ticks": ""
             }
            },
            "type": "scatterpolar"
           }
          ],
          "scatterpolargl": [
           {
            "marker": {
             "colorbar": {
              "outlinewidth": 0,
              "ticks": ""
             }
            },
            "type": "scatterpolargl"
           }
          ],
          "scatterternary": [
           {
            "marker": {
             "colorbar": {
              "outlinewidth": 0,
              "ticks": ""
             }
            },
            "type": "scatterternary"
           }
          ],
          "surface": [
           {
            "colorbar": {
             "outlinewidth": 0,
             "ticks": ""
            },
            "colorscale": [
             [
              0,
              "#0d0887"
             ],
             [
              0.1111111111111111,
              "#46039f"
             ],
             [
              0.2222222222222222,
              "#7201a8"
             ],
             [
              0.3333333333333333,
              "#9c179e"
             ],
             [
              0.4444444444444444,
              "#bd3786"
             ],
             [
              0.5555555555555556,
              "#d8576b"
             ],
             [
              0.6666666666666666,
              "#ed7953"
             ],
             [
              0.7777777777777778,
              "#fb9f3a"
             ],
             [
              0.8888888888888888,
              "#fdca26"
             ],
             [
              1,
              "#f0f921"
             ]
            ],
            "type": "surface"
           }
          ],
          "table": [
           {
            "cells": {
             "fill": {
              "color": "#EBF0F8"
             },
             "line": {
              "color": "white"
             }
            },
            "header": {
             "fill": {
              "color": "#C8D4E3"
             },
             "line": {
              "color": "white"
             }
            },
            "type": "table"
           }
          ]
         },
         "layout": {
          "annotationdefaults": {
           "arrowcolor": "#2a3f5f",
           "arrowhead": 0,
           "arrowwidth": 1
          },
          "autotypenumbers": "strict",
          "coloraxis": {
           "colorbar": {
            "outlinewidth": 0,
            "ticks": ""
           }
          },
          "colorscale": {
           "diverging": [
            [
             0,
             "#8e0152"
            ],
            [
             0.1,
             "#c51b7d"
            ],
            [
             0.2,
             "#de77ae"
            ],
            [
             0.3,
             "#f1b6da"
            ],
            [
             0.4,
             "#fde0ef"
            ],
            [
             0.5,
             "#f7f7f7"
            ],
            [
             0.6,
             "#e6f5d0"
            ],
            [
             0.7,
             "#b8e186"
            ],
            [
             0.8,
             "#7fbc41"
            ],
            [
             0.9,
             "#4d9221"
            ],
            [
             1,
             "#276419"
            ]
           ],
           "sequential": [
            [
             0,
             "#0d0887"
            ],
            [
             0.1111111111111111,
             "#46039f"
            ],
            [
             0.2222222222222222,
             "#7201a8"
            ],
            [
             0.3333333333333333,
             "#9c179e"
            ],
            [
             0.4444444444444444,
             "#bd3786"
            ],
            [
             0.5555555555555556,
             "#d8576b"
            ],
            [
             0.6666666666666666,
             "#ed7953"
            ],
            [
             0.7777777777777778,
             "#fb9f3a"
            ],
            [
             0.8888888888888888,
             "#fdca26"
            ],
            [
             1,
             "#f0f921"
            ]
           ],
           "sequentialminus": [
            [
             0,
             "#0d0887"
            ],
            [
             0.1111111111111111,
             "#46039f"
            ],
            [
             0.2222222222222222,
             "#7201a8"
            ],
            [
             0.3333333333333333,
             "#9c179e"
            ],
            [
             0.4444444444444444,
             "#bd3786"
            ],
            [
             0.5555555555555556,
             "#d8576b"
            ],
            [
             0.6666666666666666,
             "#ed7953"
            ],
            [
             0.7777777777777778,
             "#fb9f3a"
            ],
            [
             0.8888888888888888,
             "#fdca26"
            ],
            [
             1,
             "#f0f921"
            ]
           ]
          },
          "colorway": [
           "#636efa",
           "#EF553B",
           "#00cc96",
           "#ab63fa",
           "#FFA15A",
           "#19d3f3",
           "#FF6692",
           "#B6E880",
           "#FF97FF",
           "#FECB52"
          ],
          "font": {
           "color": "#2a3f5f"
          },
          "geo": {
           "bgcolor": "white",
           "lakecolor": "white",
           "landcolor": "#E5ECF6",
           "showlakes": true,
           "showland": true,
           "subunitcolor": "white"
          },
          "hoverlabel": {
           "align": "left"
          },
          "hovermode": "closest",
          "mapbox": {
           "style": "light"
          },
          "paper_bgcolor": "white",
          "plot_bgcolor": "#E5ECF6",
          "polar": {
           "angularaxis": {
            "gridcolor": "white",
            "linecolor": "white",
            "ticks": ""
           },
           "bgcolor": "#E5ECF6",
           "radialaxis": {
            "gridcolor": "white",
            "linecolor": "white",
            "ticks": ""
           }
          },
          "scene": {
           "xaxis": {
            "backgroundcolor": "#E5ECF6",
            "gridcolor": "white",
            "gridwidth": 2,
            "linecolor": "white",
            "showbackground": true,
            "ticks": "",
            "zerolinecolor": "white"
           },
           "yaxis": {
            "backgroundcolor": "#E5ECF6",
            "gridcolor": "white",
            "gridwidth": 2,
            "linecolor": "white",
            "showbackground": true,
            "ticks": "",
            "zerolinecolor": "white"
           },
           "zaxis": {
            "backgroundcolor": "#E5ECF6",
            "gridcolor": "white",
            "gridwidth": 2,
            "linecolor": "white",
            "showbackground": true,
            "ticks": "",
            "zerolinecolor": "white"
           }
          },
          "shapedefaults": {
           "line": {
            "color": "#2a3f5f"
           }
          },
          "ternary": {
           "aaxis": {
            "gridcolor": "white",
            "linecolor": "white",
            "ticks": ""
           },
           "baxis": {
            "gridcolor": "white",
            "linecolor": "white",
            "ticks": ""
           },
           "bgcolor": "#E5ECF6",
           "caxis": {
            "gridcolor": "white",
            "linecolor": "white",
            "ticks": ""
           }
          },
          "title": {
           "x": 0.05
          },
          "xaxis": {
           "automargin": true,
           "gridcolor": "white",
           "linecolor": "white",
           "ticks": "",
           "title": {
            "standoff": 15
           },
           "zerolinecolor": "white",
           "zerolinewidth": 2
          },
          "yaxis": {
           "automargin": true,
           "gridcolor": "white",
           "linecolor": "white",
           "ticks": "",
           "title": {
            "standoff": 15
           },
           "zerolinecolor": "white",
           "zerolinewidth": 2
          }
         }
        },
        "title": {
         "text": "Full capital and operational costs of experiments and training"
        },
        "width": 600,
        "xaxis": {
         "title": {
          "text": "Models"
         }
        },
        "yaxis": {
         "range": [
          0,
          1000000000
         ],
         "ticktext": [
          "0",
          "200M",
          "400M",
          "600M",
          "800M",
          "1B"
         ],
         "tickvals": [
          0,
          200000000,
          400000000,
          600000000,
          800000000,
          1000000000
         ],
         "title": {
          "text": "Cost"
         }
        }
       }
      }
     },
     "metadata": {},
     "output_type": "display_data"
    }
   ],
   "source": [
    "# Creating the figure\n",
    "fig = go.Figure()\n",
    "\n",
    "for category in ['GPU servers', 'Other hardware', 'Personnel', 'Energy']:\n",
    "    fig.add_trace(go.Bar(\n",
    "        name=category,\n",
    "        x=list(models),\n",
    "        y=[cost_data_amortized_capex[model][category] for model in models],\n",
    "        # text=[human_format(cost_data[model][category]) for model in models],\n",
    "        # text=[f'{cost_data_amortized_capex[model][category] / total_costs[model] * 100:.1f}%' for model in models],\n",
    "        textposition='auto',\n",
    "    ))\n",
    "\n",
    "# Log y axis\n",
    "# fig.update_yaxes(type='log')\n",
    "# fig.update_yaxes(range=[7, 9])\n",
    "\n",
    "# y ticks\n",
    "fig.update_yaxes(range=[0, 1e9])\n",
    "fig.update_yaxes(tickvals=[0, 2e8, 4e8, 6e8, 8e8, 1e9], ticktext=['0', '200M', '400M', '600M', '800M', '1B'])\n",
    "\n",
    "# Update the layout\n",
    "fig.update_layout(\n",
    "    barmode='stack',\n",
    "    title='Full capital and operational costs of experiments and training',\n",
    "    xaxis_title='Models',\n",
    "    yaxis_title='Cost',\n",
    "    legend_title='Cost Components',\n",
    "    width=600,\n",
    "    height=400,\n",
    ")\n",
    "\n",
    "# Save plot\n",
    "save_plot(fig, results_dir, 'full_costs_stacked')\n",
    "\n",
    "# Show the figure\n",
    "fig.show()"
   ]
  },
  {
   "cell_type": "code",
   "execution_count": null,
   "metadata": {},
   "outputs": [
    {
     "data": {
      "application/vnd.plotly.v1+json": {
       "config": {
        "plotlyServerURL": "https://plot.ly"
       },
       "data": [
        {
         "name": "GPU servers",
         "textposition": "auto",
         "type": "bar",
         "x": [
          "GPT-3",
          "OPT-175B",
          "GPT-4",
          "Gemini Ultra"
         ],
         "y": [
          63.21571070672135,
          29.057983400355663,
          34.073294348598374,
          32.29760650479889
         ]
        },
        {
         "name": "Other hardware",
         "textposition": "auto",
         "type": "bar",
         "x": [
          "GPT-3",
          "OPT-175B",
          "GPT-4",
          "Gemini Ultra"
         ],
         "y": [
          11.200635990989555,
          9.187194751729217,
          14.611395116094911,
          13.841831359199524
         ]
        },
        {
         "name": "Personnel",
         "textposition": "auto",
         "type": "bar",
         "x": [
          "GPT-3",
          "OPT-175B",
          "GPT-4",
          "Gemini Ultra"
         ],
         "y": [
          24.943612829224175,
          60.84665485299128,
          46.31353131774162,
          49.43791173084064
         ]
        },
        {
         "name": "Energy",
         "textposition": "auto",
         "type": "bar",
         "x": [
          "GPT-3",
          "OPT-175B",
          "GPT-4",
          "Gemini Ultra"
         ],
         "y": [
          0.6400404730649197,
          0.9081669949238539,
          5.001779217565088,
          4.4226504051609545
         ]
        }
       ],
       "layout": {
        "barmode": "stack",
        "height": 400,
        "legend": {
         "title": {
          "text": "Cost Components"
         }
        },
        "template": {
         "data": {
          "bar": [
           {
            "error_x": {
             "color": "#2a3f5f"
            },
            "error_y": {
             "color": "#2a3f5f"
            },
            "marker": {
             "line": {
              "color": "#E5ECF6",
              "width": 0.5
             },
             "pattern": {
              "fillmode": "overlay",
              "size": 10,
              "solidity": 0.2
             }
            },
            "type": "bar"
           }
          ],
          "barpolar": [
           {
            "marker": {
             "line": {
              "color": "#E5ECF6",
              "width": 0.5
             },
             "pattern": {
              "fillmode": "overlay",
              "size": 10,
              "solidity": 0.2
             }
            },
            "type": "barpolar"
           }
          ],
          "carpet": [
           {
            "aaxis": {
             "endlinecolor": "#2a3f5f",
             "gridcolor": "white",
             "linecolor": "white",
             "minorgridcolor": "white",
             "startlinecolor": "#2a3f5f"
            },
            "baxis": {
             "endlinecolor": "#2a3f5f",
             "gridcolor": "white",
             "linecolor": "white",
             "minorgridcolor": "white",
             "startlinecolor": "#2a3f5f"
            },
            "type": "carpet"
           }
          ],
          "choropleth": [
           {
            "colorbar": {
             "outlinewidth": 0,
             "ticks": ""
            },
            "type": "choropleth"
           }
          ],
          "contour": [
           {
            "colorbar": {
             "outlinewidth": 0,
             "ticks": ""
            },
            "colorscale": [
             [
              0,
              "#0d0887"
             ],
             [
              0.1111111111111111,
              "#46039f"
             ],
             [
              0.2222222222222222,
              "#7201a8"
             ],
             [
              0.3333333333333333,
              "#9c179e"
             ],
             [
              0.4444444444444444,
              "#bd3786"
             ],
             [
              0.5555555555555556,
              "#d8576b"
             ],
             [
              0.6666666666666666,
              "#ed7953"
             ],
             [
              0.7777777777777778,
              "#fb9f3a"
             ],
             [
              0.8888888888888888,
              "#fdca26"
             ],
             [
              1,
              "#f0f921"
             ]
            ],
            "type": "contour"
           }
          ],
          "contourcarpet": [
           {
            "colorbar": {
             "outlinewidth": 0,
             "ticks": ""
            },
            "type": "contourcarpet"
           }
          ],
          "heatmap": [
           {
            "colorbar": {
             "outlinewidth": 0,
             "ticks": ""
            },
            "colorscale": [
             [
              0,
              "#0d0887"
             ],
             [
              0.1111111111111111,
              "#46039f"
             ],
             [
              0.2222222222222222,
              "#7201a8"
             ],
             [
              0.3333333333333333,
              "#9c179e"
             ],
             [
              0.4444444444444444,
              "#bd3786"
             ],
             [
              0.5555555555555556,
              "#d8576b"
             ],
             [
              0.6666666666666666,
              "#ed7953"
             ],
             [
              0.7777777777777778,
              "#fb9f3a"
             ],
             [
              0.8888888888888888,
              "#fdca26"
             ],
             [
              1,
              "#f0f921"
             ]
            ],
            "type": "heatmap"
           }
          ],
          "heatmapgl": [
           {
            "colorbar": {
             "outlinewidth": 0,
             "ticks": ""
            },
            "colorscale": [
             [
              0,
              "#0d0887"
             ],
             [
              0.1111111111111111,
              "#46039f"
             ],
             [
              0.2222222222222222,
              "#7201a8"
             ],
             [
              0.3333333333333333,
              "#9c179e"
             ],
             [
              0.4444444444444444,
              "#bd3786"
             ],
             [
              0.5555555555555556,
              "#d8576b"
             ],
             [
              0.6666666666666666,
              "#ed7953"
             ],
             [
              0.7777777777777778,
              "#fb9f3a"
             ],
             [
              0.8888888888888888,
              "#fdca26"
             ],
             [
              1,
              "#f0f921"
             ]
            ],
            "type": "heatmapgl"
           }
          ],
          "histogram": [
           {
            "marker": {
             "pattern": {
              "fillmode": "overlay",
              "size": 10,
              "solidity": 0.2
             }
            },
            "type": "histogram"
           }
          ],
          "histogram2d": [
           {
            "colorbar": {
             "outlinewidth": 0,
             "ticks": ""
            },
            "colorscale": [
             [
              0,
              "#0d0887"
             ],
             [
              0.1111111111111111,
              "#46039f"
             ],
             [
              0.2222222222222222,
              "#7201a8"
             ],
             [
              0.3333333333333333,
              "#9c179e"
             ],
             [
              0.4444444444444444,
              "#bd3786"
             ],
             [
              0.5555555555555556,
              "#d8576b"
             ],
             [
              0.6666666666666666,
              "#ed7953"
             ],
             [
              0.7777777777777778,
              "#fb9f3a"
             ],
             [
              0.8888888888888888,
              "#fdca26"
             ],
             [
              1,
              "#f0f921"
             ]
            ],
            "type": "histogram2d"
           }
          ],
          "histogram2dcontour": [
           {
            "colorbar": {
             "outlinewidth": 0,
             "ticks": ""
            },
            "colorscale": [
             [
              0,
              "#0d0887"
             ],
             [
              0.1111111111111111,
              "#46039f"
             ],
             [
              0.2222222222222222,
              "#7201a8"
             ],
             [
              0.3333333333333333,
              "#9c179e"
             ],
             [
              0.4444444444444444,
              "#bd3786"
             ],
             [
              0.5555555555555556,
              "#d8576b"
             ],
             [
              0.6666666666666666,
              "#ed7953"
             ],
             [
              0.7777777777777778,
              "#fb9f3a"
             ],
             [
              0.8888888888888888,
              "#fdca26"
             ],
             [
              1,
              "#f0f921"
             ]
            ],
            "type": "histogram2dcontour"
           }
          ],
          "mesh3d": [
           {
            "colorbar": {
             "outlinewidth": 0,
             "ticks": ""
            },
            "type": "mesh3d"
           }
          ],
          "parcoords": [
           {
            "line": {
             "colorbar": {
              "outlinewidth": 0,
              "ticks": ""
             }
            },
            "type": "parcoords"
           }
          ],
          "pie": [
           {
            "automargin": true,
            "type": "pie"
           }
          ],
          "scatter": [
           {
            "fillpattern": {
             "fillmode": "overlay",
             "size": 10,
             "solidity": 0.2
            },
            "type": "scatter"
           }
          ],
          "scatter3d": [
           {
            "line": {
             "colorbar": {
              "outlinewidth": 0,
              "ticks": ""
             }
            },
            "marker": {
             "colorbar": {
              "outlinewidth": 0,
              "ticks": ""
             }
            },
            "type": "scatter3d"
           }
          ],
          "scattercarpet": [
           {
            "marker": {
             "colorbar": {
              "outlinewidth": 0,
              "ticks": ""
             }
            },
            "type": "scattercarpet"
           }
          ],
          "scattergeo": [
           {
            "marker": {
             "colorbar": {
              "outlinewidth": 0,
              "ticks": ""
             }
            },
            "type": "scattergeo"
           }
          ],
          "scattergl": [
           {
            "marker": {
             "colorbar": {
              "outlinewidth": 0,
              "ticks": ""
             }
            },
            "type": "scattergl"
           }
          ],
          "scattermapbox": [
           {
            "marker": {
             "colorbar": {
              "outlinewidth": 0,
              "ticks": ""
             }
            },
            "type": "scattermapbox"
           }
          ],
          "scatterpolar": [
           {
            "marker": {
             "colorbar": {
              "outlinewidth": 0,
              "ticks": ""
             }
            },
            "type": "scatterpolar"
           }
          ],
          "scatterpolargl": [
           {
            "marker": {
             "colorbar": {
              "outlinewidth": 0,
              "ticks": ""
             }
            },
            "type": "scatterpolargl"
           }
          ],
          "scatterternary": [
           {
            "marker": {
             "colorbar": {
              "outlinewidth": 0,
              "ticks": ""
             }
            },
            "type": "scatterternary"
           }
          ],
          "surface": [
           {
            "colorbar": {
             "outlinewidth": 0,
             "ticks": ""
            },
            "colorscale": [
             [
              0,
              "#0d0887"
             ],
             [
              0.1111111111111111,
              "#46039f"
             ],
             [
              0.2222222222222222,
              "#7201a8"
             ],
             [
              0.3333333333333333,
              "#9c179e"
             ],
             [
              0.4444444444444444,
              "#bd3786"
             ],
             [
              0.5555555555555556,
              "#d8576b"
             ],
             [
              0.6666666666666666,
              "#ed7953"
             ],
             [
              0.7777777777777778,
              "#fb9f3a"
             ],
             [
              0.8888888888888888,
              "#fdca26"
             ],
             [
              1,
              "#f0f921"
             ]
            ],
            "type": "surface"
           }
          ],
          "table": [
           {
            "cells": {
             "fill": {
              "color": "#EBF0F8"
             },
             "line": {
              "color": "white"
             }
            },
            "header": {
             "fill": {
              "color": "#C8D4E3"
             },
             "line": {
              "color": "white"
             }
            },
            "type": "table"
           }
          ]
         },
         "layout": {
          "annotationdefaults": {
           "arrowcolor": "#2a3f5f",
           "arrowhead": 0,
           "arrowwidth": 1
          },
          "autotypenumbers": "strict",
          "coloraxis": {
           "colorbar": {
            "outlinewidth": 0,
            "ticks": ""
           }
          },
          "colorscale": {
           "diverging": [
            [
             0,
             "#8e0152"
            ],
            [
             0.1,
             "#c51b7d"
            ],
            [
             0.2,
             "#de77ae"
            ],
            [
             0.3,
             "#f1b6da"
            ],
            [
             0.4,
             "#fde0ef"
            ],
            [
             0.5,
             "#f7f7f7"
            ],
            [
             0.6,
             "#e6f5d0"
            ],
            [
             0.7,
             "#b8e186"
            ],
            [
             0.8,
             "#7fbc41"
            ],
            [
             0.9,
             "#4d9221"
            ],
            [
             1,
             "#276419"
            ]
           ],
           "sequential": [
            [
             0,
             "#0d0887"
            ],
            [
             0.1111111111111111,
             "#46039f"
            ],
            [
             0.2222222222222222,
             "#7201a8"
            ],
            [
             0.3333333333333333,
             "#9c179e"
            ],
            [
             0.4444444444444444,
             "#bd3786"
            ],
            [
             0.5555555555555556,
             "#d8576b"
            ],
            [
             0.6666666666666666,
             "#ed7953"
            ],
            [
             0.7777777777777778,
             "#fb9f3a"
            ],
            [
             0.8888888888888888,
             "#fdca26"
            ],
            [
             1,
             "#f0f921"
            ]
           ],
           "sequentialminus": [
            [
             0,
             "#0d0887"
            ],
            [
             0.1111111111111111,
             "#46039f"
            ],
            [
             0.2222222222222222,
             "#7201a8"
            ],
            [
             0.3333333333333333,
             "#9c179e"
            ],
            [
             0.4444444444444444,
             "#bd3786"
            ],
            [
             0.5555555555555556,
             "#d8576b"
            ],
            [
             0.6666666666666666,
             "#ed7953"
            ],
            [
             0.7777777777777778,
             "#fb9f3a"
            ],
            [
             0.8888888888888888,
             "#fdca26"
            ],
            [
             1,
             "#f0f921"
            ]
           ]
          },
          "colorway": [
           "#636efa",
           "#EF553B",
           "#00cc96",
           "#ab63fa",
           "#FFA15A",
           "#19d3f3",
           "#FF6692",
           "#B6E880",
           "#FF97FF",
           "#FECB52"
          ],
          "font": {
           "color": "#2a3f5f"
          },
          "geo": {
           "bgcolor": "white",
           "lakecolor": "white",
           "landcolor": "#E5ECF6",
           "showlakes": true,
           "showland": true,
           "subunitcolor": "white"
          },
          "hoverlabel": {
           "align": "left"
          },
          "hovermode": "closest",
          "mapbox": {
           "style": "light"
          },
          "paper_bgcolor": "white",
          "plot_bgcolor": "#E5ECF6",
          "polar": {
           "angularaxis": {
            "gridcolor": "white",
            "linecolor": "white",
            "ticks": ""
           },
           "bgcolor": "#E5ECF6",
           "radialaxis": {
            "gridcolor": "white",
            "linecolor": "white",
            "ticks": ""
           }
          },
          "scene": {
           "xaxis": {
            "backgroundcolor": "#E5ECF6",
            "gridcolor": "white",
            "gridwidth": 2,
            "linecolor": "white",
            "showbackground": true,
            "ticks": "",
            "zerolinecolor": "white"
           },
           "yaxis": {
            "backgroundcolor": "#E5ECF6",
            "gridcolor": "white",
            "gridwidth": 2,
            "linecolor": "white",
            "showbackground": true,
            "ticks": "",
            "zerolinecolor": "white"
           },
           "zaxis": {
            "backgroundcolor": "#E5ECF6",
            "gridcolor": "white",
            "gridwidth": 2,
            "linecolor": "white",
            "showbackground": true,
            "ticks": "",
            "zerolinecolor": "white"
           }
          },
          "shapedefaults": {
           "line": {
            "color": "#2a3f5f"
           }
          },
          "ternary": {
           "aaxis": {
            "gridcolor": "white",
            "linecolor": "white",
            "ticks": ""
           },
           "baxis": {
            "gridcolor": "white",
            "linecolor": "white",
            "ticks": ""
           },
           "bgcolor": "#E5ECF6",
           "caxis": {
            "gridcolor": "white",
            "linecolor": "white",
            "ticks": ""
           }
          },
          "title": {
           "x": 0.05
          },
          "xaxis": {
           "automargin": true,
           "gridcolor": "white",
           "linecolor": "white",
           "ticks": "",
           "title": {
            "standoff": 15
           },
           "zerolinecolor": "white",
           "zerolinewidth": 2
          },
          "yaxis": {
           "automargin": true,
           "gridcolor": "white",
           "linecolor": "white",
           "ticks": "",
           "title": {
            "standoff": 15
           },
           "zerolinecolor": "white",
           "zerolinewidth": 2
          }
         }
        },
        "title": {
         "text": "Proportions of cost for experiments and training"
        },
        "width": 600,
        "xaxis": {
         "title": {
          "text": "Models"
         }
        },
        "yaxis": {
         "range": [
          0,
          100
         ],
         "title": {
          "text": "Proportion (%)"
         }
        }
       }
      }
     },
     "metadata": {},
     "output_type": "display_data"
    }
   ],
   "source": [
    "# Creating the figure\n",
    "fig = go.Figure()\n",
    "\n",
    "for category in ['GPU servers', 'Other hardware', 'Personnel', 'Energy']:\n",
    "    proportions = [cost_data_amortized_capex[model][category] / total_costs[model] * 100 for model in models]\n",
    "    fig.add_trace(go.Bar(\n",
    "        name=category,\n",
    "        x=list(models),\n",
    "        y=proportions,\n",
    "        # text=[human_format(cost_data[model][category]) for model in models],\n",
    "        # text=[f'{pp:.1f}%' for pp in proportions],\n",
    "        textposition='auto',\n",
    "    ))\n",
    "\n",
    "# y ticks\n",
    "fig.update_yaxes(range=[0, 100])\n",
    "\n",
    "# Update the layout\n",
    "fig.update_layout(\n",
    "    barmode='stack',\n",
    "    title='Proportions of cost for experiments and training',\n",
    "    xaxis_title='Models',\n",
    "    yaxis_title='Proportion (%)',\n",
    "    legend_title='Cost Components',\n",
    "    width=600,\n",
    "    height=400,\n",
    ")\n",
    "\n",
    "# Save plot\n",
    "save_plot(fig, results_dir, 'cost_proportions_stacked')\n",
    "\n",
    "# Show the figure\n",
    "fig.show()"
   ]
  },
  {
   "cell_type": "code",
   "execution_count": null,
   "metadata": {},
   "outputs": [],
   "source": []
  }
 ],
 "metadata": {
  "kernelspec": {
   "display_name": "epoch",
   "language": "python",
   "name": "python3"
  },
  "language_info": {
   "codemirror_mode": {
    "name": "ipython",
    "version": 3
   },
   "file_extension": ".py",
   "mimetype": "text/x-python",
   "name": "python",
   "nbconvert_exporter": "python",
   "pygments_lexer": "ipython3",
   "version": "3.11.4"
  }
 },
 "nbformat": 4,
 "nbformat_minor": 2
}
