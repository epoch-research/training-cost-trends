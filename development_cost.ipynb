{
 "cells": [
  {
   "cell_type": "markdown",
   "metadata": {},
   "source": [
    "# Setup"
   ]
  },
  {
   "cell_type": "code",
   "execution_count": 53,
   "metadata": {},
   "outputs": [],
   "source": [
    "from collections import defaultdict\n",
    "from datetime import datetime\n",
    "import json\n",
    "import numpy as np\n",
    "import os\n",
    "import pandas as pd\n",
    "import plotly.graph_objects as go\n",
    "from plotly.subplots import make_subplots\n",
    "\n",
    "from cost import *\n",
    "from data import *\n",
    "from energy import *\n",
    "from inflation import *\n",
    "from parameters import *\n",
    "from plotting import *\n",
    "from utils import *"
   ]
  },
  {
   "cell_type": "code",
   "execution_count": 54,
   "metadata": {},
   "outputs": [],
   "source": [
    "results_dir = f'results/development-costs/'\n",
    "os.makedirs(results_dir, exist_ok=True)"
   ]
  },
  {
   "cell_type": "markdown",
   "metadata": {},
   "source": [
    "Sample size for distributions"
   ]
  },
  {
   "cell_type": "code",
   "execution_count": 55,
   "metadata": {},
   "outputs": [],
   "source": [
    "N = 1000"
   ]
  },
  {
   "cell_type": "markdown",
   "metadata": {},
   "source": [
    "Cost of staff compensation\n",
    "- Use Google Software Engineer as the reference: https://web.archive.org/web/20240515221234/https://www.levels.fyi/companies/google/salaries/software-engineer/locations/san-francisco-bay-area?dma=807\n",
    "- Approximately 200K to 1.2M\n"
   ]
  },
  {
   "cell_type": "code",
   "execution_count": 56,
   "metadata": {},
   "outputs": [],
   "source": [
    "compensation_low = 2e5\n",
    "compensation_high = 1.2e6\n"
   ]
  },
  {
   "cell_type": "markdown",
   "metadata": {},
   "source": [
    "Apply 1.25 - 1.4 overhead factor for benefits, payroll, etc. https://www.sba.gov/blog/how-much-does-employee-cost-you "
   ]
  },
  {
   "cell_type": "code",
   "execution_count": 57,
   "metadata": {},
   "outputs": [],
   "source": [
    "compensation_overhead_low = 1.25\n",
    "compensation_overhead_high = 1.4"
   ]
  },
  {
   "cell_type": "markdown",
   "metadata": {},
   "source": [
    "Anchor number of FTEs to the author count on the paper.\n",
    "For models we consider here, the author list is a decent anchor point for the actual contributors, because e.g. engineers are included."
   ]
  },
  {
   "cell_type": "code",
   "execution_count": 58,
   "metadata": {},
   "outputs": [],
   "source": [
    "author_factor_low = 0.3\n",
    "author_factor_high = 1.5"
   ]
  },
  {
   "cell_type": "code",
   "execution_count": 59,
   "metadata": {},
   "outputs": [],
   "source": [
    "cost_data = {}\n",
    "cost_data_with_hardware_acq = {}"
   ]
  },
  {
   "cell_type": "markdown",
   "metadata": {},
   "source": [
    "Default ratio of total experiment + training compute to final training run compute\n",
    "- Smaller versions of GPT-3 made up ~4.5e22 FLOP (based on the formula compute = 6 * parameters * tokens), compared to 175B using ~3e23 FLOP. See Table 2.1 of the [paper](https://arxiv.org/pdf/2005.14165). That's a factor of ~1.14 to go from 175B to total FLOP. Certainly more than that was needed due to failures and other experiments. So 1.2x seems like a good low-end estimate.\n",
    "- https://arxiv.org/pdf/2111.00364.pdf, p.3, Fig. 3 caption: \"At Facebook, we observe a rough power capacity breakdown of 10:20:70 for AI infrastructures devoted to the three key phases — Experimentation, Training, and Inference\". 10:20 ratio means a 1.5x multiplier from training to training+experiment compute. Note however that the \"training\" category is not just the final training run; it includes additional hyper-parameter tuning and retraining for some models. So the actual multiplier would be higher under our definition.\n",
    "- BLOOM project - https://arxiv.org/abs/2211.02001, p.8, Table 5. ~63% of compute was spent training smaller models than 176B. That's a multiplier of ~2.7x.\n",
    "- https://arxiv.org/abs/2205.01068: \"[...] OPT-175B was developed with an estimated carbon emissions footprint (CO2eq) of 75 tons [...] With ablations, baselines and downtime, our own estimates of total cost is roughly 2× higher.\"\n",
    "- We think the Facebook, BLOOM and OPT-175B cases are the more central examples as they account better for all experiments. A factor close to 2x seems like a reasonable median estimate.\n",
    "- On the high end, it's plausible that several, full iterations of the full-scale training run are necessary before success - say, 4x."
   ]
  },
  {
   "cell_type": "code",
   "execution_count": 60,
   "metadata": {},
   "outputs": [
    {
     "name": "stdout",
     "output_type": "stream",
     "text": [
      "Median: 2.2 [90% CI: 1.2, 4.2]\n"
     ]
    }
   ],
   "source": [
    "experiment_factor = lognorm_from_90_ci(1.2, 4, N)\n",
    "print_median_and_ci(experiment_factor)"
   ]
  },
  {
   "cell_type": "markdown",
   "metadata": {},
   "source": [
    "Uncertainty in energy prices"
   ]
  },
  {
   "cell_type": "code",
   "execution_count": 61,
   "metadata": {},
   "outputs": [
    {
     "data": {
      "text/plain": [
       "(1.727914785226352, 0.6247539654972791)"
      ]
     },
     "execution_count": 61,
     "metadata": {},
     "output_type": "execute_result"
    }
   ],
   "source": [
    "likely_datacenter_states = ['California', 'Nevada', 'Oregon', 'Washington']\n",
    "energy_prices = [US_STATE_ENERGY_PRICES_PER_KWH[state] for state in likely_datacenter_states]\n",
    "mean = np.mean(energy_prices)\n",
    "np.max(energy_prices) / mean, np.min(energy_prices) / mean"
   ]
  },
  {
   "cell_type": "code",
   "execution_count": 62,
   "metadata": {},
   "outputs": [],
   "source": [
    "energy_price_uncertainty_factor = lognorm_from_90_ci(0.6, 1.7, N)"
   ]
  },
  {
   "cell_type": "code",
   "execution_count": 63,
   "metadata": {},
   "outputs": [],
   "source": [
    "dt2float = lambda x: x.year + x.month/12 + x.day/365.25\n",
    "float2dt = lambda x: datetime(int(x), int((x-int(x))*12), int(((x-int(x))*12-int((x-int(x))*12))*365.25))"
   ]
  },
  {
   "cell_type": "code",
   "execution_count": 64,
   "metadata": {},
   "outputs": [],
   "source": [
    "frontier_pcd_df, hardware_df, price_df = load_data_for_cost_estimation(\n",
    "    compute_threshold_method='top_n', compute_threshold=10,\n",
    ")"
   ]
  },
  {
   "cell_type": "code",
   "execution_count": 65,
   "metadata": {},
   "outputs": [],
   "source": [
    "frontier_pcd_df['Publication date'] = pd.to_datetime(frontier_pcd_df['Publication date'])"
   ]
  },
  {
   "cell_type": "markdown",
   "metadata": {},
   "source": [
    "Models"
   ]
  },
  {
   "cell_type": "code",
   "execution_count": 66,
   "metadata": {},
   "outputs": [],
   "source": [
    "models = ['GPT-3 175B (davinci)', 'OPT-175B', 'GPT-4', 'Gemini Ultra']"
   ]
  },
  {
   "cell_type": "code",
   "execution_count": 67,
   "metadata": {},
   "outputs": [],
   "source": [
    "selected_model_df = frontier_pcd_df.loc[[s in models for s in frontier_pcd_df['System']]]"
   ]
  },
  {
   "cell_type": "markdown",
   "metadata": {},
   "source": [
    "## Hardware"
   ]
  },
  {
   "cell_type": "code",
   "execution_count": 68,
   "metadata": {},
   "outputs": [],
   "source": [
    "# Unset index\n",
    "selected_model_df.reset_index(inplace=True)"
   ]
  },
  {
   "cell_type": "code",
   "execution_count": 69,
   "metadata": {},
   "outputs": [
    {
     "name": "stderr",
     "output_type": "stream",
     "text": [
      "/var/folders/s2/stl5t_bn7xg9vdfxxr71rzrc0000gn/T/ipykernel_73828/1294256109.py:4: SettingWithCopyWarning: \n",
      "A value is trying to be set on a copy of a slice from a DataFrame.\n",
      "Try using .loc[row_indexer,col_indexer] = value instead\n",
      "\n",
      "See the caveats in the documentation: https://pandas.pydata.org/pandas-docs/stable/user_guide/indexing.html#returning-a-view-versus-a-copy\n",
      "  selected_model_df['Training chip-hours'] = selected_model_df.apply(_estimate_chip_hours, axis=1)\n"
     ]
    },
    {
     "data": {
      "text/plain": [
       "0    132000000.0\n",
       "1     57000000.0\n",
       "2       812544.0\n",
       "3      3552000.0\n",
       "Name: Training chip-hours, dtype: float64"
      ]
     },
     "execution_count": 69,
     "metadata": {},
     "output_type": "execute_result"
    }
   ],
   "source": [
    "def _estimate_chip_hours(row):\n",
    "    return estimate_chip_hours(row, hardware_df)\n",
    "\n",
    "selected_model_df['Training chip-hours'] = selected_model_df.apply(_estimate_chip_hours, axis=1)\n",
    "selected_model_df['Training chip-hours']"
   ]
  },
  {
   "cell_type": "code",
   "execution_count": 70,
   "metadata": {},
   "outputs": [
    {
     "name": "stdout",
     "output_type": "stream",
     "text": [
      "\n",
      "\n",
      "2.5th percentile of experiments time\n",
      "==== System: Gemini Ultra ====\n",
      "Estimated the value of Google TPU v4 server, available from 2021-05-20 00:00:00 and used from 2023-05-10 00:00:00: 10527.742991314644\n",
      "\n",
      "==== System: GPT-4 ====\n",
      "Estimated the value of NVIDIA A100 SXM4 40 GB server, available from 2020-08-12 00:00:00 and used from 2022-05-12 00:00:00: 14165.054738257799\n",
      "\n",
      "==== System: OPT-175B ====\n",
      "Estimated the value of NVIDIA A100 SXM4 80 GB server, available from 2021-02-14 00:00:00 and used from 2022-02-27 23:00:00: 17818.700400260856\n",
      "\n",
      "==== System: GPT-3 175B (davinci) ====\n",
      "Estimated the value of NVIDIA Tesla V100 DGXS 32 GB server, available from 2018-06-25 00:00:00 and used from 2019-10-01 00:00:00: 11463.61551009175\n",
      "\n",
      "==== System: Gemini Ultra ====\n",
      "Estimated cost: {'AI accelerator chip cost': 33947393.76762005, 'Other server components cost': 21726332.011276826, 'Cluster-level interconnect cost': 8351058.866834526, 'Energy cost': 3190085.818631811}\n",
      "==== System: GPT-4 ====\n",
      "Estimated cost: {'AI accelerator chip cost': 19486152.8726674, 'Other server components cost': 12860860.89596048, 'Cluster-level interconnect cost': 4852052.065294179, 'Energy cost': 3812443.0599493613}\n",
      "==== System: OPT-175B ====\n",
      "Estimated cost: {'AI accelerator chip cost': 349426.55463209096, 'Other server components cost': 230621.52605718002, 'Cluster-level interconnect cost': 87007.2121033906, 'Energy cost': 49368.09336790627}\n",
      "==== System: GPT-3 175B (davinci) ====\n",
      "Estimated cost: {'AI accelerator chip cost': 965270.3015984484, 'Other server components cost': 666036.5081029293, 'Cluster-level interconnect cost': 244696.02145520653, 'Energy cost': 120987.05188204613}\n",
      "All costs:\n",
      "{'Gemini Ultra': {'AI accelerator chip cost': 33947393.76762005, 'Other server components cost': 21726332.011276826, 'Cluster-level interconnect cost': 8351058.866834526, 'Energy cost': 3190085.818631811}, 'GPT-4': {'AI accelerator chip cost': 19486152.8726674, 'Other server components cost': 12860860.89596048, 'Cluster-level interconnect cost': 4852052.065294179, 'Energy cost': 3812443.0599493613}, 'OPT-175B': {'AI accelerator chip cost': 349426.55463209096, 'Other server components cost': 230621.52605718002, 'Cluster-level interconnect cost': 87007.2121033906, 'Energy cost': 49368.09336790627}, 'GPT-3 175B (davinci)': {'AI accelerator chip cost': 965270.3015984484, 'Other server components cost': 666036.5081029293, 'Cluster-level interconnect cost': 244696.02145520653, 'Energy cost': 120987.05188204613}}\n",
      "\n",
      "\n",
      "50th percentile of experiments time\n",
      "==== System: Gemini Ultra ====\n",
      "Estimated the value of Google TPU v4 server, available from 2021-05-20 00:00:00 and used from 2023-05-10 00:00:00: 10527.742991314644\n",
      "\n",
      "==== System: GPT-4 ====\n",
      "Estimated the value of NVIDIA A100 SXM4 40 GB server, available from 2020-08-12 00:00:00 and used from 2022-05-12 00:00:00: 14165.054738257799\n",
      "\n",
      "==== System: OPT-175B ====\n",
      "Estimated the value of NVIDIA A100 SXM4 80 GB server, available from 2021-02-14 00:00:00 and used from 2022-02-27 23:00:00: 17818.700400260856\n",
      "\n",
      "==== System: GPT-3 175B (davinci) ====\n",
      "Estimated the value of NVIDIA Tesla V100 DGXS 32 GB server, available from 2018-06-25 00:00:00 and used from 2019-10-01 00:00:00: 11463.61551009175\n",
      "\n",
      "==== System: Gemini Ultra ====\n",
      "Estimated cost: {'AI accelerator chip cost': 68226386.85235953, 'Other server components cost': 43664887.585510105, 'Cluster-level interconnect cost': 16783691.165680435, 'Energy cost': 6411332.505937425}\n",
      "==== System: GPT-4 ====\n",
      "Estimated cost: {'AI accelerator chip cost': 39162647.16094076, 'Other server components cost': 25847347.126220897, 'Cluster-level interconnect cost': 9751499.143074242, 'Energy cost': 7662126.195643266}\n",
      "==== System: OPT-175B ====\n",
      "Estimated cost: {'AI accelerator chip cost': 702266.3199422258, 'Other server components cost': 463495.77116186905, 'Cluster-level interconnect cost': 174864.3136656141, 'Energy cost': 99218.4159802826}\n",
      "==== System: GPT-3 175B (davinci) ====\n",
      "Estimated cost: {'AI accelerator chip cost': 1939969.396907448, 'Other server components cost': 1338578.883866139, 'Cluster-level interconnect cost': 491782.24211603776, 'Energy cost': 243155.90947380333}\n",
      "All costs:\n",
      "{'Gemini Ultra': {'AI accelerator chip cost': 68226386.85235953, 'Other server components cost': 43664887.585510105, 'Cluster-level interconnect cost': 16783691.165680435, 'Energy cost': 6411332.505937425}, 'GPT-4': {'AI accelerator chip cost': 39162647.16094076, 'Other server components cost': 25847347.126220897, 'Cluster-level interconnect cost': 9751499.143074242, 'Energy cost': 7662126.195643266}, 'OPT-175B': {'AI accelerator chip cost': 702266.3199422258, 'Other server components cost': 463495.77116186905, 'Cluster-level interconnect cost': 174864.3136656141, 'Energy cost': 99218.4159802826}, 'GPT-3 175B (davinci)': {'AI accelerator chip cost': 1939969.396907448, 'Other server components cost': 1338578.883866139, 'Cluster-level interconnect cost': 491782.24211603776, 'Energy cost': 243155.90947380333}}\n",
      "\n",
      "\n",
      "97.5th percentile of experiments time\n",
      "==== System: Gemini Ultra ====\n",
      "Estimated the value of Google TPU v4 server, available from 2021-05-20 00:00:00 and used from 2023-05-10 00:00:00: 10527.742991314644\n",
      "\n",
      "==== System: GPT-4 ====\n",
      "Estimated the value of NVIDIA A100 SXM4 40 GB server, available from 2020-08-12 00:00:00 and used from 2022-05-12 00:00:00: 14165.054738257799\n",
      "\n",
      "==== System: OPT-175B ====\n",
      "Estimated the value of NVIDIA A100 SXM4 80 GB server, available from 2021-02-14 00:00:00 and used from 2022-02-27 23:00:00: 17818.700400260856\n",
      "\n",
      "==== System: GPT-3 175B (davinci) ====\n",
      "Estimated the value of NVIDIA Tesla V100 DGXS 32 GB server, available from 2018-06-25 00:00:00 and used from 2019-10-01 00:00:00: 11463.61551009175\n",
      "\n",
      "==== System: Gemini Ultra ====\n",
      "Estimated cost: {'AI accelerator chip cost': 147053960.2068587, 'Other server components cost': 94114534.53238955, 'Cluster-level interconnect cost': 36175274.210887216, 'Energy cost': 13818873.880003156}\n",
      "==== System: GPT-4 ====\n",
      "Estimated cost: {'AI accelerator chip cost': 84410484.3139742, 'Other server components cost': 55710919.647222966, 'Cluster-level interconnect cost': 21018210.594179563, 'Energy cost': 16514812.708934873}\n",
      "==== System: OPT-175B ====\n",
      "Estimated cost: {'AI accelerator chip cost': 1513652.5357978803, 'Other server components cost': 999010.673626601, 'Cluster-level interconnect cost': 376899.481413672, 'Energy cost': 213853.63740462298}\n",
      "==== System: GPT-3 175B (davinci) ====\n",
      "Estimated cost: {'AI accelerator chip cost': 4181376.0871243533, 'Other server components cost': 2885149.5001158034, 'Cluster-level interconnect cost': 1059978.838086023, 'Energy cost': 524093.9918627186}\n",
      "All costs:\n",
      "{'Gemini Ultra': {'AI accelerator chip cost': 147053960.2068587, 'Other server components cost': 94114534.53238955, 'Cluster-level interconnect cost': 36175274.210887216, 'Energy cost': 13818873.880003156}, 'GPT-4': {'AI accelerator chip cost': 84410484.3139742, 'Other server components cost': 55710919.647222966, 'Cluster-level interconnect cost': 21018210.594179563, 'Energy cost': 16514812.708934873}, 'OPT-175B': {'AI accelerator chip cost': 1513652.5357978803, 'Other server components cost': 999010.673626601, 'Cluster-level interconnect cost': 376899.481413672, 'Energy cost': 213853.63740462298}, 'GPT-3 175B (davinci)': {'AI accelerator chip cost': 4181376.0871243533, 'Other server components cost': 2885149.5001158034, 'Cluster-level interconnect cost': 1059978.838086023, 'Energy cost': 524093.9918627186}}\n"
     ]
    },
    {
     "name": "stderr",
     "output_type": "stream",
     "text": [
      "/var/folders/s2/stl5t_bn7xg9vdfxxr71rzrc0000gn/T/ipykernel_73828/3550706096.py:1: SettingWithCopyWarning: \n",
      "A value is trying to be set on a copy of a slice from a DataFrame.\n",
      "Try using .loc[row_indexer,col_indexer] = value instead\n",
      "\n",
      "See the caveats in the documentation: https://pandas.pydata.org/pandas-docs/stable/user_guide/indexing.html#returning-a-view-versus-a-copy\n",
      "  selected_model_df.loc[:, 'Original training chip-hours'] = selected_model_df.loc[:, 'Training chip-hours']\n",
      "/var/folders/s2/stl5t_bn7xg9vdfxxr71rzrc0000gn/T/ipykernel_73828/3550706096.py:13: SettingWithCopyWarning: \n",
      "A value is trying to be set on a copy of a slice from a DataFrame.\n",
      "Try using .loc[row_indexer,col_indexer] = value instead\n",
      "\n",
      "See the caveats in the documentation: https://pandas.pydata.org/pandas-docs/stable/user_guide/indexing.html#returning-a-view-versus-a-copy\n",
      "  selected_model_df.loc[:, 'Training chip-hours'] = selected_model_df.loc[:, 'Original training chip-hours'] * experiment_factor_value\n",
      "/Users/bencottier/Projects/training_cost_2/training-cost-trends/cost.py:329: SettingWithCopyWarning: \n",
      "A value is trying to be set on a copy of a slice from a DataFrame.\n",
      "Try using .loc[row_indexer,col_indexer] = value instead\n",
      "\n",
      "See the caveats in the documentation: https://pandas.pydata.org/pandas-docs/stable/user_guide/indexing.html#returning-a-view-versus-a-copy\n",
      "  frontier_pcd_df[k] = frontier_pcd_df['System'].map(system_to_component_cost)\n",
      "/Users/bencottier/Projects/training_cost_2/training-cost-trends/cost.py:329: SettingWithCopyWarning: \n",
      "A value is trying to be set on a copy of a slice from a DataFrame.\n",
      "Try using .loc[row_indexer,col_indexer] = value instead\n",
      "\n",
      "See the caveats in the documentation: https://pandas.pydata.org/pandas-docs/stable/user_guide/indexing.html#returning-a-view-versus-a-copy\n",
      "  frontier_pcd_df[k] = frontier_pcd_df['System'].map(system_to_component_cost)\n",
      "/Users/bencottier/Projects/training_cost_2/training-cost-trends/cost.py:329: SettingWithCopyWarning: \n",
      "A value is trying to be set on a copy of a slice from a DataFrame.\n",
      "Try using .loc[row_indexer,col_indexer] = value instead\n",
      "\n",
      "See the caveats in the documentation: https://pandas.pydata.org/pandas-docs/stable/user_guide/indexing.html#returning-a-view-versus-a-copy\n",
      "  frontier_pcd_df[k] = frontier_pcd_df['System'].map(system_to_component_cost)\n",
      "/Users/bencottier/Projects/training_cost_2/training-cost-trends/cost.py:329: SettingWithCopyWarning: \n",
      "A value is trying to be set on a copy of a slice from a DataFrame.\n",
      "Try using .loc[row_indexer,col_indexer] = value instead\n",
      "\n",
      "See the caveats in the documentation: https://pandas.pydata.org/pandas-docs/stable/user_guide/indexing.html#returning-a-view-versus-a-copy\n",
      "  frontier_pcd_df[k] = frontier_pcd_df['System'].map(system_to_component_cost)\n",
      "/Users/bencottier/Projects/training_cost_2/training-cost-trends/cost.py:330: SettingWithCopyWarning: \n",
      "A value is trying to be set on a copy of a slice from a DataFrame.\n",
      "Try using .loc[row_indexer,col_indexer] = value instead\n",
      "\n",
      "See the caveats in the documentation: https://pandas.pydata.org/pandas-docs/stable/user_guide/indexing.html#returning-a-view-versus-a-copy\n",
      "  frontier_pcd_df['Cost'] = frontier_pcd_df[cost_component_names].sum(axis=1)\n",
      "/var/folders/s2/stl5t_bn7xg9vdfxxr71rzrc0000gn/T/ipykernel_73828/3550706096.py:13: SettingWithCopyWarning: \n",
      "A value is trying to be set on a copy of a slice from a DataFrame.\n",
      "Try using .loc[row_indexer,col_indexer] = value instead\n",
      "\n",
      "See the caveats in the documentation: https://pandas.pydata.org/pandas-docs/stable/user_guide/indexing.html#returning-a-view-versus-a-copy\n",
      "  selected_model_df.loc[:, 'Training chip-hours'] = selected_model_df.loc[:, 'Original training chip-hours'] * experiment_factor_value\n",
      "/Users/bencottier/Projects/training_cost_2/training-cost-trends/cost.py:329: SettingWithCopyWarning: \n",
      "A value is trying to be set on a copy of a slice from a DataFrame.\n",
      "Try using .loc[row_indexer,col_indexer] = value instead\n",
      "\n",
      "See the caveats in the documentation: https://pandas.pydata.org/pandas-docs/stable/user_guide/indexing.html#returning-a-view-versus-a-copy\n",
      "  frontier_pcd_df[k] = frontier_pcd_df['System'].map(system_to_component_cost)\n",
      "/Users/bencottier/Projects/training_cost_2/training-cost-trends/cost.py:329: SettingWithCopyWarning: \n",
      "A value is trying to be set on a copy of a slice from a DataFrame.\n",
      "Try using .loc[row_indexer,col_indexer] = value instead\n",
      "\n",
      "See the caveats in the documentation: https://pandas.pydata.org/pandas-docs/stable/user_guide/indexing.html#returning-a-view-versus-a-copy\n",
      "  frontier_pcd_df[k] = frontier_pcd_df['System'].map(system_to_component_cost)\n",
      "/Users/bencottier/Projects/training_cost_2/training-cost-trends/cost.py:329: SettingWithCopyWarning: \n",
      "A value is trying to be set on a copy of a slice from a DataFrame.\n",
      "Try using .loc[row_indexer,col_indexer] = value instead\n",
      "\n",
      "See the caveats in the documentation: https://pandas.pydata.org/pandas-docs/stable/user_guide/indexing.html#returning-a-view-versus-a-copy\n",
      "  frontier_pcd_df[k] = frontier_pcd_df['System'].map(system_to_component_cost)\n",
      "/Users/bencottier/Projects/training_cost_2/training-cost-trends/cost.py:329: SettingWithCopyWarning: \n",
      "A value is trying to be set on a copy of a slice from a DataFrame.\n",
      "Try using .loc[row_indexer,col_indexer] = value instead\n",
      "\n",
      "See the caveats in the documentation: https://pandas.pydata.org/pandas-docs/stable/user_guide/indexing.html#returning-a-view-versus-a-copy\n",
      "  frontier_pcd_df[k] = frontier_pcd_df['System'].map(system_to_component_cost)\n",
      "/Users/bencottier/Projects/training_cost_2/training-cost-trends/cost.py:330: SettingWithCopyWarning: \n",
      "A value is trying to be set on a copy of a slice from a DataFrame.\n",
      "Try using .loc[row_indexer,col_indexer] = value instead\n",
      "\n",
      "See the caveats in the documentation: https://pandas.pydata.org/pandas-docs/stable/user_guide/indexing.html#returning-a-view-versus-a-copy\n",
      "  frontier_pcd_df['Cost'] = frontier_pcd_df[cost_component_names].sum(axis=1)\n",
      "/var/folders/s2/stl5t_bn7xg9vdfxxr71rzrc0000gn/T/ipykernel_73828/3550706096.py:13: SettingWithCopyWarning: \n",
      "A value is trying to be set on a copy of a slice from a DataFrame.\n",
      "Try using .loc[row_indexer,col_indexer] = value instead\n",
      "\n",
      "See the caveats in the documentation: https://pandas.pydata.org/pandas-docs/stable/user_guide/indexing.html#returning-a-view-versus-a-copy\n",
      "  selected_model_df.loc[:, 'Training chip-hours'] = selected_model_df.loc[:, 'Original training chip-hours'] * experiment_factor_value\n",
      "/Users/bencottier/Projects/training_cost_2/training-cost-trends/cost.py:329: SettingWithCopyWarning: \n",
      "A value is trying to be set on a copy of a slice from a DataFrame.\n",
      "Try using .loc[row_indexer,col_indexer] = value instead\n",
      "\n",
      "See the caveats in the documentation: https://pandas.pydata.org/pandas-docs/stable/user_guide/indexing.html#returning-a-view-versus-a-copy\n",
      "  frontier_pcd_df[k] = frontier_pcd_df['System'].map(system_to_component_cost)\n",
      "/Users/bencottier/Projects/training_cost_2/training-cost-trends/cost.py:329: SettingWithCopyWarning: \n",
      "A value is trying to be set on a copy of a slice from a DataFrame.\n",
      "Try using .loc[row_indexer,col_indexer] = value instead\n",
      "\n",
      "See the caveats in the documentation: https://pandas.pydata.org/pandas-docs/stable/user_guide/indexing.html#returning-a-view-versus-a-copy\n",
      "  frontier_pcd_df[k] = frontier_pcd_df['System'].map(system_to_component_cost)\n",
      "/Users/bencottier/Projects/training_cost_2/training-cost-trends/cost.py:329: SettingWithCopyWarning: \n",
      "A value is trying to be set on a copy of a slice from a DataFrame.\n",
      "Try using .loc[row_indexer,col_indexer] = value instead\n",
      "\n",
      "See the caveats in the documentation: https://pandas.pydata.org/pandas-docs/stable/user_guide/indexing.html#returning-a-view-versus-a-copy\n",
      "  frontier_pcd_df[k] = frontier_pcd_df['System'].map(system_to_component_cost)\n",
      "/Users/bencottier/Projects/training_cost_2/training-cost-trends/cost.py:329: SettingWithCopyWarning: \n",
      "A value is trying to be set on a copy of a slice from a DataFrame.\n",
      "Try using .loc[row_indexer,col_indexer] = value instead\n",
      "\n",
      "See the caveats in the documentation: https://pandas.pydata.org/pandas-docs/stable/user_guide/indexing.html#returning-a-view-versus-a-copy\n",
      "  frontier_pcd_df[k] = frontier_pcd_df['System'].map(system_to_component_cost)\n",
      "/Users/bencottier/Projects/training_cost_2/training-cost-trends/cost.py:330: SettingWithCopyWarning: \n",
      "A value is trying to be set on a copy of a slice from a DataFrame.\n",
      "Try using .loc[row_indexer,col_indexer] = value instead\n",
      "\n",
      "See the caveats in the documentation: https://pandas.pydata.org/pandas-docs/stable/user_guide/indexing.html#returning-a-view-versus-a-copy\n",
      "  frontier_pcd_df['Cost'] = frontier_pcd_df[cost_component_names].sum(axis=1)\n"
     ]
    },
    {
     "data": {
      "text/plain": [
       "defaultdict(dict,\n",
       "            {'GPT-3 175B (davinci)': {'2.5': {'AI accelerator chip cost': 965270.3015984484,\n",
       "               'Other server components cost': 666036.5081029293,\n",
       "               'Cluster-level interconnect cost': 244696.02145520653,\n",
       "               'Energy cost': 120987.05188204613},\n",
       "              '50': {'AI accelerator chip cost': 1939969.396907448,\n",
       "               'Other server components cost': 1338578.883866139,\n",
       "               'Cluster-level interconnect cost': 491782.24211603776,\n",
       "               'Energy cost': 243155.90947380333},\n",
       "              '97.5': {'AI accelerator chip cost': 4181376.0871243533,\n",
       "               'Other server components cost': 2885149.5001158034,\n",
       "               'Cluster-level interconnect cost': 1059978.838086023,\n",
       "               'Energy cost': 524093.9918627186}},\n",
       "             'OPT-175B': {'2.5': {'AI accelerator chip cost': 349426.55463209096,\n",
       "               'Other server components cost': 230621.52605718002,\n",
       "               'Cluster-level interconnect cost': 87007.2121033906,\n",
       "               'Energy cost': 49368.09336790627},\n",
       "              '50': {'AI accelerator chip cost': 702266.3199422258,\n",
       "               'Other server components cost': 463495.77116186905,\n",
       "               'Cluster-level interconnect cost': 174864.3136656141,\n",
       "               'Energy cost': 99218.4159802826},\n",
       "              '97.5': {'AI accelerator chip cost': 1513652.5357978803,\n",
       "               'Other server components cost': 999010.673626601,\n",
       "               'Cluster-level interconnect cost': 376899.481413672,\n",
       "               'Energy cost': 213853.63740462298}},\n",
       "             'GPT-4': {'2.5': {'AI accelerator chip cost': 19486152.8726674,\n",
       "               'Other server components cost': 12860860.89596048,\n",
       "               'Cluster-level interconnect cost': 4852052.065294179,\n",
       "               'Energy cost': 3812443.0599493613},\n",
       "              '50': {'AI accelerator chip cost': 39162647.16094076,\n",
       "               'Other server components cost': 25847347.126220897,\n",
       "               'Cluster-level interconnect cost': 9751499.143074242,\n",
       "               'Energy cost': 7662126.195643266},\n",
       "              '97.5': {'AI accelerator chip cost': 84410484.3139742,\n",
       "               'Other server components cost': 55710919.647222966,\n",
       "               'Cluster-level interconnect cost': 21018210.594179563,\n",
       "               'Energy cost': 16514812.708934873}},\n",
       "             'Gemini Ultra': {'2.5': {'AI accelerator chip cost': 33947393.76762005,\n",
       "               'Other server components cost': 21726332.011276826,\n",
       "               'Cluster-level interconnect cost': 8351058.866834526,\n",
       "               'Energy cost': 3190085.818631811},\n",
       "              '50': {'AI accelerator chip cost': 68226386.85235953,\n",
       "               'Other server components cost': 43664887.585510105,\n",
       "               'Cluster-level interconnect cost': 16783691.165680435,\n",
       "               'Energy cost': 6411332.505937425},\n",
       "              '97.5': {'AI accelerator chip cost': 147053960.2068587,\n",
       "               'Other server components cost': 94114534.53238955,\n",
       "               'Cluster-level interconnect cost': 36175274.210887216,\n",
       "               'Energy cost': 13818873.880003156}}})"
      ]
     },
     "execution_count": 70,
     "metadata": {},
     "output_type": "execute_result"
    }
   ],
   "source": [
    "selected_model_df.loc[:, 'Original training chip-hours'] = selected_model_df.loc[:, 'Training chip-hours']\n",
    "hardware_costs = defaultdict(dict)\n",
    "cost_component_names = [\n",
    "    'AI accelerator chip cost',\n",
    "    'Other server components cost',\n",
    "    'Cluster-level interconnect cost',\n",
    "    'Energy cost',\n",
    "]\n",
    "\n",
    "for percentile in [2.5, 50, 97.5]:\n",
    "    print(f'\\n\\n{percentile}th percentile of experiments time')\n",
    "    experiment_factor_value = np.percentile(experiment_factor, percentile)\n",
    "    selected_model_df.loc[:, 'Training chip-hours'] = selected_model_df.loc[:, 'Original training chip-hours'] * experiment_factor_value\n",
    "    cost_df = estimate_hardware_capex_opex(selected_model_df, hardware_df, price_df, separate_components=True)\n",
    "    cost_df = cost_df.set_index('System', inplace=False)\n",
    "\n",
    "    for model in models:\n",
    "        cost_components = {}\n",
    "        for cost_component_name in cost_component_names:\n",
    "            cost_components[cost_component_name] = cost_df.loc[model, cost_component_name]\n",
    "        hardware_costs[model][str(percentile)] = cost_components\n",
    "\n",
    "hardware_costs"
   ]
  },
  {
   "cell_type": "markdown",
   "metadata": {},
   "source": [
    "# GPT-3"
   ]
  },
  {
   "cell_type": "markdown",
   "metadata": {},
   "source": [
    "## Project duration"
   ]
  },
  {
   "cell_type": "markdown",
   "metadata": {},
   "source": [
    "Training end time\n",
    "1. Shevlane (2022)\n",
    "https://uploads-ssl.webflow.com/614b70a71b9f71c9c240c7a7/6262a1a55526a373cc93207d_Shevlane%20dissertation%20preprint.pdf\n",
    "p.66 of the PDF: A senior member of OpenAI (specified anonymously on p.27 of the PDF) \n",
    "told the author \"GPT-3 existed for a long time before the paper came out. We delayed the \n",
    "paper. [...] But it's months, it doesn't really count.\"\n",
    "p.67 of the PDF: CAMERON said \"Firstly, [the idea for a commercial API for GPT-3] \n",
    "started out as a research API. It probably was . . . early January 2020.\"\n",
    "\n",
    "1. We think it plausibly could have been produced soon after the Microsoft deal was \n",
    "announced in July 2019. Supposing the announcement coincided with Microsoft giving \n",
    "OpenAI access to the necessary compute, and OpenAI already having almost everything \n",
    "about GPT-3 planned in advance, and it took less than 1 month to train, then GPT-3 could \n",
    "have been produced in August 2019.\n",
    "\n",
    "1. So we estimate August to January as our 90% CI, and halfway between (October) as the\n",
    "central estimate."
   ]
  },
  {
   "cell_type": "code",
   "execution_count": 71,
   "metadata": {},
   "outputs": [],
   "source": [
    "training_end_low = datetime(2019, 8, 1)\n",
    "training_end_high = datetime(2020, 1, 1)"
   ]
  },
  {
   "cell_type": "markdown",
   "metadata": {},
   "source": [
    "\n",
    "Project start time\n",
    "- Lower bound on start time: when GPT-2 was published, 2019-Feb-14\n",
    "  - It could have been earlier than this, but that seems unlikely unless GPT-2 was delayed for months\n",
    "  - The scaling laws paper was only published in January 2020, and GPT-3 was based on the findings of that paper\n",
    "- Upper bound on start time: 2019-Nov-01, two months before the upper bound on training completion\n",
    "  - We think they’d need six weeks at the absolute minimum, to prepare training data and scale up the experiments successfully\n"
   ]
  },
  {
   "cell_type": "code",
   "execution_count": 72,
   "metadata": {},
   "outputs": [],
   "source": [
    "project_start_low = datetime(2019, 2, 14)\n",
    "project_start_high = datetime(2019, 11, 1)\n"
   ]
  },
  {
   "cell_type": "code",
   "execution_count": 73,
   "metadata": {},
   "outputs": [
    {
     "data": {
      "text/plain": [
       "numpy.datetime64('2020-05-28T00:00:00.000000000')"
      ]
     },
     "execution_count": 73,
     "metadata": {},
     "output_type": "execute_result"
    }
   ],
   "source": [
    "publication_date = frontier_pcd_df.loc[frontier_pcd_df['System'] == 'GPT-3 175B (davinci)', 'Publication date'].values[0]\n",
    "publication_date"
   ]
  },
  {
   "cell_type": "code",
   "execution_count": 74,
   "metadata": {},
   "outputs": [
    {
     "name": "stdout",
     "output_type": "stream",
     "text": [
      "Median: 8.3 [90% CI: 3.9, 13]\n",
      "Median: 8.3 [90% CI: 3.9, 13]\n"
     ]
    }
   ],
   "source": [
    "min_project_duration = 15 / 365  # training duration\n",
    "project_duration = []\n",
    "while len(project_duration) < N:\n",
    "    project_start_sample = lognorm_from_90_ci(dt2float(project_start_low), dt2float(project_start_high), 1)[0]\n",
    "    training_end_sample = lognorm_from_90_ci(dt2float(training_end_low), dt2float(training_end_high), 1)[0]\n",
    "    experiment_duration_sample = training_end_sample - project_start_sample\n",
    "    if experiment_duration_sample > min_project_duration:\n",
    "        project_duration.append(experiment_duration_sample)\n",
    "\n",
    "project_duration = []\n",
    "while len(project_duration) < N:\n",
    "    project_start_sample = lognorm_from_90_ci(dt2float(project_start_low), dt2float(project_start_high), 1)[0]\n",
    "    # Paper was delayed by \"months\"\n",
    "    publication_delay_sample = lognorm_from_90_ci(2*30, 4*30, 1)[0]\n",
    "    project_end_sample = dt2float(publication_date - pd.to_timedelta(publication_delay_sample, unit='D'))\n",
    "    project_duration_sample = project_end_sample - project_start_sample\n",
    "    if project_duration_sample > min_project_duration:\n",
    "        project_duration.append(project_duration_sample)\n",
    "\n",
    "project_duration = np.array(project_duration)\n",
    "project_duration = np.array(project_duration)\n",
    "print_median_and_ci(project_duration * 12)  # convert years to months\n",
    "print_median_and_ci(project_duration * 12)"
   ]
  },
  {
   "cell_type": "markdown",
   "metadata": {},
   "source": [
    "## Energy"
   ]
  },
  {
   "cell_type": "markdown",
   "metadata": {},
   "source": [
    "Total energy consumption of training: 1287 MWh ([Patterson et al. 2021](https://arxiv.org/abs/2104.10350), Table 4)"
   ]
  },
  {
   "cell_type": "code",
   "execution_count": 75,
   "metadata": {},
   "outputs": [
    {
     "name": "stdout",
     "output_type": "stream",
     "text": [
      "Median: 1.9e+05 [90% CI: 8.5e+04, 4.1e+05]\n"
     ]
    }
   ],
   "source": [
    "energy_consumption_kwh = 1287e3 * experiment_factor\n",
    "price_per_kwh = energy_price(2020) * energy_price_uncertainty_factor\n",
    "energy_cost = energy_consumption_kwh * price_per_kwh\n",
    "print_median_and_ci(energy_cost)"
   ]
  },
  {
   "cell_type": "markdown",
   "metadata": {},
   "source": [
    "## Personnel"
   ]
  },
  {
   "cell_type": "code",
   "execution_count": 76,
   "metadata": {},
   "outputs": [],
   "source": [
    "total_salaries = np.zeros(N)\n",
    "num_authors = 31\n",
    "for i in range(N):\n",
    "    ftes = int(lognorm_from_90_ci(author_factor_low * num_authors, author_factor_high * num_authors, 1)[0])\n",
    "    salary = lognorm_from_90_ci(compensation_low, compensation_high, ftes)\n",
    "    total_salaries[i] = salary.sum()"
   ]
  },
  {
   "cell_type": "code",
   "execution_count": 77,
   "metadata": {},
   "outputs": [],
   "source": [
    "personnel_cost = total_salaries * project_duration"
   ]
  },
  {
   "cell_type": "code",
   "execution_count": 78,
   "metadata": {},
   "outputs": [
    {
     "name": "stdout",
     "output_type": "stream",
     "text": [
      "Median: 7.8e+06 [95% CI: 2.2e+06, 2.5e+07]\n"
     ]
    }
   ],
   "source": [
    "print_median_and_ci(personnel_cost, ci=[2.5, 97.5])"
   ]
  },
  {
   "cell_type": "markdown",
   "metadata": {},
   "source": [
    "## Overall"
   ]
  },
  {
   "cell_type": "code",
   "execution_count": 79,
   "metadata": {},
   "outputs": [
    {
     "data": {
      "text/plain": [
       "{'AI accelerator chip cost': 965270.3015984484,\n",
       " 'Other server components cost': 666036.5081029293,\n",
       " 'Cluster-level interconnect cost': 244696.02145520653,\n",
       " 'Energy cost': 120987.05188204613}"
      ]
     },
     "execution_count": 79,
     "metadata": {},
     "output_type": "execute_result"
    }
   ],
   "source": [
    "hardware_costs['GPT-3 175B (davinci)']['2.5']"
   ]
  },
  {
   "cell_type": "code",
   "execution_count": 80,
   "metadata": {},
   "outputs": [],
   "source": [
    "def get_hardware_cost_dist(model, component, ci=[2.5, 97.5]):\n",
    "    return lognorm_from_ci(\n",
    "        hardware_costs[model][str(ci[0])][component],\n",
    "        hardware_costs[model][str(ci[1])][component],\n",
    "        ci[1] - ci[0],\n",
    "        N\n",
    "    )"
   ]
  },
  {
   "cell_type": "code",
   "execution_count": 81,
   "metadata": {},
   "outputs": [],
   "source": [
    "cost_data['GPT-3 175B (davinci)'] = {\n",
    "    'AI accelerator chip cost': get_hardware_cost_dist('GPT-3 175B (davinci)', 'AI accelerator chip cost'),\n",
    "    'Other server components cost': get_hardware_cost_dist('GPT-3 175B (davinci)', 'Other server components cost'),\n",
    "    'Cluster-level interconnect cost': get_hardware_cost_dist('GPT-3 175B (davinci)', 'Cluster-level interconnect cost'),\n",
    "    'Energy cost': energy_cost,\n",
    "    'R&D staff cost': personnel_cost,\n",
    "}"
   ]
  },
  {
   "cell_type": "markdown",
   "metadata": {},
   "source": [
    "# OPT-175B"
   ]
  },
  {
   "cell_type": "markdown",
   "metadata": {},
   "source": [
    "## Energy"
   ]
  },
  {
   "cell_type": "markdown",
   "metadata": {},
   "source": [
    "https://arxiv.org/abs/2205.01068: \"[...] OPT-175B was developed with an estimated carbon emissions footprint (CO2eq) of 75 tons [...] With ablations, baselines and downtime, our own estimates of total cost is roughly 2× higher.\"\n",
    "\n",
    "- I haven't found numbers for carbon intensity, or how they calculate it\n",
    "- According to https://arxiv.org/pdf/2104.10350.pdf (Table 1), Gross CO2e/KWh (kg/KWh) for the “Google Iowa Council Bluffs” data center in 2020 was 0.478 CO2e/kWh (kg/kWh)\n",
    "- Energy use:\n",
    "  - 992 A100 GPU units\n",
    "  - 300W per unit (https://www.nvidia.com/en-us/data-center/a100/)\n",
    "  - Training time 33 days (https://github.com/facebookresearch/metaseq/blob/d703cf1ae1e0faaff6c20629398dfbe02b98cf77/projects/OPT/chronicles/final_update.md)\n",
    "  - Energy = 992 units * 0.3 kW/unit * 33 days * 24h/day ~= 236000 kWh\n",
    "  - 75000 kg / 236000 kWh ~= 0.318 CO2e/kWh (kg/kWh)\n",
    "  - Sanity check: this is not far from the Google data center gross carbon intensity of 0.478 reported by [Patterson et al. (2021)](https://arxiv.org/abs/2104.10350)"
   ]
  },
  {
   "cell_type": "code",
   "execution_count": 82,
   "metadata": {},
   "outputs": [
    {
     "name": "stdout",
     "output_type": "stream",
     "text": [
      "Median: 4.3e+04 [95% CI: 1.7e+04, 1.2e+05]\n"
     ]
    }
   ],
   "source": [
    "training_time_hours = 33 * 24\n",
    "power_per_gpu = 0.3\n",
    "num_gpus = 992\n",
    "energy_consumption_kwh = training_time_hours * num_gpus * power_per_gpu * experiment_factor\n",
    "price_per_kwh = energy_price(2022) * energy_price_uncertainty_factor\n",
    "energy_cost = energy_consumption_kwh * price_per_kwh\n",
    "print_median_and_ci(energy_cost, ci=[2.5, 97.5])"
   ]
  },
  {
   "cell_type": "markdown",
   "metadata": {},
   "source": [
    "## Personnel"
   ]
  },
  {
   "cell_type": "markdown",
   "metadata": {},
   "source": [
    "2021-Oct-20: First date in [OPT logbook](https://github.com/facebookresearch/metaseq/blob/main/projects/OPT/chronicles/OPT175B_Logbook.pdf)\n",
    "\n",
    "2022-Jan-06: Date in the logbook where the final training run is stated to have completed\n",
    "\n",
    "2022-May-02: Publication on arxiv"
   ]
  },
  {
   "cell_type": "code",
   "execution_count": 83,
   "metadata": {},
   "outputs": [],
   "source": [
    "project_duration = 192 / DAYS_PER_YEAR"
   ]
  },
  {
   "cell_type": "code",
   "execution_count": 84,
   "metadata": {},
   "outputs": [],
   "source": [
    "num_authors = 19"
   ]
  },
  {
   "cell_type": "code",
   "execution_count": 85,
   "metadata": {},
   "outputs": [],
   "source": [
    "total_salaries = np.zeros(N)\n",
    "for i in range(N):\n",
    "    ftes = int(lognorm_from_90_ci(author_factor_low * num_authors, author_factor_high * num_authors, 1)[0])\n",
    "    salary = lognorm_from_90_ci(compensation_low, compensation_high, ftes)\n",
    "    total_salaries[i] = salary.sum()"
   ]
  },
  {
   "cell_type": "code",
   "execution_count": 86,
   "metadata": {},
   "outputs": [],
   "source": [
    "personnel_cost = total_salaries * project_duration"
   ]
  },
  {
   "cell_type": "code",
   "execution_count": 87,
   "metadata": {},
   "outputs": [
    {
     "name": "stdout",
     "output_type": "stream",
     "text": [
      "Median: 3.7e+06 [90% CI: 1.4e+06, 8.7e+06]\n"
     ]
    }
   ],
   "source": [
    "print_median_and_ci(personnel_cost)"
   ]
  },
  {
   "cell_type": "markdown",
   "metadata": {},
   "source": [
    "## Overall"
   ]
  },
  {
   "cell_type": "code",
   "execution_count": 88,
   "metadata": {},
   "outputs": [],
   "source": [
    "cost_data['OPT-175B'] = {\n",
    "    'AI accelerator chip cost': get_hardware_cost_dist('OPT-175B', 'AI accelerator chip cost'),\n",
    "    'Other server components cost': get_hardware_cost_dist('OPT-175B', 'Other server components cost'),\n",
    "    'Cluster-level interconnect cost': get_hardware_cost_dist('OPT-175B', 'Cluster-level interconnect cost'),\n",
    "    'Energy cost': energy_cost,\n",
    "    'R&D staff cost': personnel_cost,\n",
    "}"
   ]
  },
  {
   "cell_type": "markdown",
   "metadata": {},
   "source": [
    "# GPT-4"
   ]
  },
  {
   "cell_type": "markdown",
   "metadata": {},
   "source": [
    "## Project duration"
   ]
  },
  {
   "cell_type": "markdown",
   "metadata": {},
   "source": [
    "https://arxiv.org/abs/2303.08774\n",
    "\"This system card analyzes GPT-4 [...] Since it finished training in August of 2022 [...]\""
   ]
  },
  {
   "cell_type": "code",
   "execution_count": 89,
   "metadata": {},
   "outputs": [],
   "source": [
    "training_end_low = datetime(2022, 8, 1)\n",
    "training_end_high = datetime(2022, 8, 31)"
   ]
  },
  {
   "cell_type": "markdown",
   "metadata": {},
   "source": [
    "Project start time\n",
    "- We know they started training GPT-3.5 about one year before [announcement](https://openai.com/index/gpt-4-research/) in March 2023, and then trained GPT-4 after that. They built new infrastructure/codebase for and GPT-3.5 was a test run. Maybe some research experiments were going on for a few months in total prior to that.\n",
    "- Indirect source that final training run of GPT-4 took about three months: [SemiAnalysis](https://www.semianalysis.com/p/gpt-4-architecture-infrastructure). So would have started at the end of May at the latest.\n"
   ]
  },
  {
   "cell_type": "code",
   "execution_count": 90,
   "metadata": {},
   "outputs": [],
   "source": [
    "project_start_low = datetime(2022, 1, 1)\n",
    "project_start_high = datetime(2022, 5, 31)"
   ]
  },
  {
   "cell_type": "code",
   "execution_count": 91,
   "metadata": {},
   "outputs": [
    {
     "data": {
      "text/plain": [
       "numpy.datetime64('2023-03-15T00:00:00.000000000')"
      ]
     },
     "execution_count": 91,
     "metadata": {},
     "output_type": "execute_result"
    }
   ],
   "source": [
    "publication_date = frontier_pcd_df.loc[frontier_pcd_df['System'] == 'GPT-4', 'Publication date'].values[0]\n",
    "publication_date"
   ]
  },
  {
   "cell_type": "code",
   "execution_count": 92,
   "metadata": {},
   "outputs": [
    {
     "name": "stdout",
     "output_type": "stream",
     "text": [
      "Median: 12 [90% CI: 9.4, 14]\n",
      "Median: 12 [90% CI: 9.4, 14]\n"
     ]
    }
   ],
   "source": [
    "min_project_duration = 90 / 365  # training duration\n",
    "project_duration = []\n",
    "while len(project_duration) < N:\n",
    "    project_start_sample = lognorm_from_90_ci(dt2float(project_start_low), dt2float(project_start_high), 1)[0]\n",
    "    training_end_sample = lognorm_from_90_ci(dt2float(training_end_low), dt2float(training_end_high), 1)[0]\n",
    "    experiment_duration_sample = training_end_sample - project_start_sample\n",
    "    if experiment_duration_sample > min_project_duration:\n",
    "        project_duration.append(experiment_duration_sample)\n",
    "\n",
    "project_duration = []\n",
    "while len(project_duration) < N:\n",
    "    project_start_sample = lognorm_from_90_ci(dt2float(project_start_low), dt2float(project_start_high), 1)[0]\n",
    "    # Technical report said six months was spent on safety research, risk assessment, and iteration,\n",
    "    # which covers the time from the end of training to publication\n",
    "    project_duration_sample = dt2float(pd.to_datetime(publication_date)) - project_start_sample\n",
    "    if project_duration_sample > min_project_duration:\n",
    "        project_duration.append(project_duration_sample)\n",
    "\n",
    "project_duration = np.array(project_duration)\n",
    "project_duration = np.array(project_duration)\n",
    "print_median_and_ci(project_duration * 12)  # convert years to months\n",
    "print_median_and_ci(project_duration * 12)"
   ]
  },
  {
   "cell_type": "markdown",
   "metadata": {},
   "source": [
    "## Energy"
   ]
  },
  {
   "cell_type": "code",
   "execution_count": 93,
   "metadata": {},
   "outputs": [
    {
     "name": "stdout",
     "output_type": "stream",
     "text": [
      "Median: 7.9e+06 [95% CI: 3.2e+06, 2.1e+07]\n"
     ]
    }
   ],
   "source": [
    "energy_cost = get_hardware_cost_dist('GPT-4', 'Energy cost') * energy_price_uncertainty_factor\n",
    "print_median_and_ci(energy_cost, ci=[2.5, 97.5])"
   ]
  },
  {
   "cell_type": "markdown",
   "metadata": {},
   "source": [
    "## Personnel"
   ]
  },
  {
   "cell_type": "code",
   "execution_count": 94,
   "metadata": {},
   "outputs": [
    {
     "data": {
      "text/plain": [
       "{'Pretraining': {'Core contributors': ['Christopher Berner',\n",
       "   'Greg Brockman',\n",
       "   'Trevor Cai',\n",
       "   'David Farhi',\n",
       "   'Chris Hesse',\n",
       "   'Shantanu Jain',\n",
       "   'Kyle Kosic',\n",
       "   'Jakub Pachocki',\n",
       "   'Alex Paino',\n",
       "   'Mikhail Pavlov',\n",
       "   'Michael Petrov',\n",
       "   'Nick Ryder',\n",
       "   'Szymon Sidor',\n",
       "   'Nikolas Tezak',\n",
       "   'Phil Tillet',\n",
       "   'Amin Tootoonchian',\n",
       "   'Qiming Yuan',\n",
       "   'Wojciech Zaremba'],\n",
       "  'Compute cluster scaling': ['Christopher Berner',\n",
       "   'Oleg Boiko',\n",
       "   'Andrew Cann',\n",
       "   'Ben Chess',\n",
       "   'Christian Gibson',\n",
       "   'Mateusz Litwin',\n",
       "   'Emy Parparita',\n",
       "   'Henri Roussez',\n",
       "   'Eric Sigler',\n",
       "   'Akila Welihinda'],\n",
       "  'Data': ['Sandhini Agarwal',\n",
       "   'Suchir Balaji',\n",
       "   'Mo Bavarian',\n",
       "   'Che Chang',\n",
       "   'Sheila Dunning',\n",
       "   'Leo Gao',\n",
       "   'Jonathan Gordon',\n",
       "   'Peter Hoeschele',\n",
       "   'Shawn Jain',\n",
       "   'Shantanu Jain',\n",
       "   'Roger Jiang',\n",
       "   'Heewoo Jun',\n",
       "   'Łukasz Kaiser',\n",
       "   'Nitish Shirish Keskar',\n",
       "   'Jong Wook Kim',\n",
       "   'Aris Konstantinidis',\n",
       "   'Chak Ming Li',\n",
       "   'Todor Markov',\n",
       "   'Bianca Martin',\n",
       "   'David Mély',\n",
       "   'Oleg Murk',\n",
       "   'Hyeonwoo Noh',\n",
       "   'Long Ouyang',\n",
       "   'Alex Paino',\n",
       "   'Vitchyr Pong',\n",
       "   'Alec Radford',\n",
       "   'Nick Ryder',\n",
       "   'John Schulman',\n",
       "   'Daniel Selsam',\n",
       "   'Ian Sohl',\n",
       "   'Chelsea Voss',\n",
       "   'Lilian Weng',\n",
       "   'Clemens Winter',\n",
       "   'Tao Xu',\n",
       "   'Qiming Yuan',\n",
       "   'Wojciech Zaremba'],\n",
       "  'Distributed training infrastructure': ['Greg Brockman',\n",
       "   'Trevor Cai',\n",
       "   'Chris Hesse',\n",
       "   'Shantanu Jain',\n",
       "   'Yongjik Kim',\n",
       "   'Kyle Kosic',\n",
       "   'Mateusz Litwin',\n",
       "   'Jakub Pachocki',\n",
       "   'Mikhail Pavlov',\n",
       "   'Szymon Sidor',\n",
       "   'Nikolas Tezak',\n",
       "   'Madeleine Thompson',\n",
       "   'Amin Tootoonchian',\n",
       "   'Qiming Yuan'],\n",
       "  'Hardware correctness': ['Greg Brockman',\n",
       "   'Shantanu Jain',\n",
       "   'Kyle Kosic',\n",
       "   'Michael Petrov',\n",
       "   'Nikolas Tezak',\n",
       "   'Amin Tootoonchian',\n",
       "   'Chelsea Voss',\n",
       "   'Qiming Yuan'],\n",
       "  'Optimization & architecture': ['Igor Babuschkin',\n",
       "   'Mo Bavarian',\n",
       "   'Adrien Ecoffet',\n",
       "   'David Farhi',\n",
       "   'Jesse Han',\n",
       "   'Ingmar Kanitscheider',\n",
       "   'Daniel Levy',\n",
       "   'Jakub Pachocki',\n",
       "   'Alex Paino',\n",
       "   'Mikhail Pavlov',\n",
       "   'Nick Ryder',\n",
       "   'Szymon Sidor',\n",
       "   'Jie Tang',\n",
       "   'Jerry Tworek',\n",
       "   'Tao Xu'],\n",
       "  'Training run babysitting': ['Suchir Balaji',\n",
       "   'Mo Bavarian',\n",
       "   'Greg Brockman',\n",
       "   'Trevor Cai',\n",
       "   'Chris Hesse',\n",
       "   'Shantanu Jain',\n",
       "   'Roger Jiang',\n",
       "   'Yongjik Kim',\n",
       "   'Kyle Kosic',\n",
       "   'Mateusz Litwin',\n",
       "   'Jakub Pachocki',\n",
       "   'Alex Paino',\n",
       "   'Mikhail Pavlov',\n",
       "   'Michael Petrov',\n",
       "   'Nick Ryder',\n",
       "   'Szymon Sidor',\n",
       "   'Nikolas Tezak',\n",
       "   'Madeleine Thompson',\n",
       "   'Phil Tillet',\n",
       "   'Amin Tootoonchian',\n",
       "   'Chelsea Voss',\n",
       "   'Ben Wang',\n",
       "   'Tao Xu',\n",
       "   'Qiming Yuan']},\n",
       " 'Long context': {'Core contributors': ['Gabriel Goh',\n",
       "   'Łukasz Kaiser',\n",
       "   'Ben Wang',\n",
       "   'Clemens Winter'],\n",
       "  'Long context research': ['Mo Bavarian',\n",
       "   'Gabriel Goh',\n",
       "   'Heewoo Jun',\n",
       "   'Łukasz Kaiser',\n",
       "   'Chak Ming Li',\n",
       "   'Ben Wang',\n",
       "   'Clemens Winter'],\n",
       "  'Long context kernels': ['Phil Tillet']},\n",
       " 'Vision': {'Core contributors': ['Trevor Cai',\n",
       "   'Mark Chen',\n",
       "   'Casey Chu',\n",
       "   'Chris Hesse',\n",
       "   'Shengli Hu',\n",
       "   'Yongjik Kim',\n",
       "   'Jamie Kiros',\n",
       "   'Daniel Levy',\n",
       "   'Christine McLeavey',\n",
       "   'David Mély',\n",
       "   'Hyeonwoo Noh',\n",
       "   'Mikhail Pavlov',\n",
       "   'Raul Puri',\n",
       "   'Amin Tootoonchian'],\n",
       "  'Architecture research': ['Casey Chu',\n",
       "   'Jamie Kiros',\n",
       "   'Christine McLeavey',\n",
       "   'Hyeonwoo Noh',\n",
       "   'Raul Puri',\n",
       "   'Alec Radford',\n",
       "   'Aditya Ramesh'],\n",
       "  'Compute cluster scaling': ['Andrew Cann',\n",
       "   'Rory Carmichael',\n",
       "   'Christian Gibson',\n",
       "   'Henri Roussez',\n",
       "   'Akila Welihinda'],\n",
       "  'Distributed training infrastructure': ['Trevor Cai',\n",
       "   'Yunxing Dai',\n",
       "   'Chris Hesse',\n",
       "   'Brandon Houghton',\n",
       "   'Yongjik Kim',\n",
       "   'Łukasz Kondraciuk',\n",
       "   'Hyeonwoo Noh',\n",
       "   'Mikhail Pavlov',\n",
       "   'Raul Puri',\n",
       "   'Nikolas Tezak',\n",
       "   'Amin Tootoonchian',\n",
       "   'Tianhao Zheng'],\n",
       "  'Hardware correctness': ['Oleg Boiko',\n",
       "   'Trevor Cai',\n",
       "   'Michael Petrov',\n",
       "   'Alethea Power'],\n",
       "  'Data': ['Jong Wook Kim',\n",
       "   'David Mély',\n",
       "   'Reiichiro Nakano',\n",
       "   'Hyeonwoo Noh',\n",
       "   'Long Ouyang',\n",
       "   'Raul Puri',\n",
       "   'Pranav Shyam',\n",
       "   'Tao Xu'],\n",
       "  'Alignment data': ['Long Ouyang'],\n",
       "  'Training run babysitting': ['Trevor Cai',\n",
       "   'Kyle Kosic',\n",
       "   'Daniel Levy',\n",
       "   'David Mély',\n",
       "   'Reiichiro Nakano',\n",
       "   'Hyeonwoo Noh',\n",
       "   'Mikhail Pavlov',\n",
       "   'Raul Puri',\n",
       "   'Amin Tootoonchian'],\n",
       "  'Deployment & post-training': ['Ilge Akkaya',\n",
       "   'Mark Chen',\n",
       "   'Jamie Kiros',\n",
       "   'Rachel Lim',\n",
       "   'Reiichiro Nakano',\n",
       "   'Raul Puri',\n",
       "   'Jiayi Weng']},\n",
       " 'Reinforcement Learning & Alignment': {'Core contributors': ['Greg Brockman',\n",
       "   'Arka Dhar',\n",
       "   'Liam Fedus',\n",
       "   'Tarun Gogineni',\n",
       "   'Rapha Gontijo-Lopes',\n",
       "   'Joshua Gross',\n",
       "   'Johannes Heidecke',\n",
       "   'Joost Huizinga',\n",
       "   'Teddy Lee',\n",
       "   'Jan Leike',\n",
       "   'Ryan Lowe',\n",
       "   'Luke Metz',\n",
       "   'Long Ouyang',\n",
       "   'John Schulman',\n",
       "   'Jerry Tworek',\n",
       "   'Carroll Wainwright',\n",
       "   'Jonathan Ward',\n",
       "   'Jiayi Weng',\n",
       "   'Sarah Yoo',\n",
       "   'Wojciech Zaremba',\n",
       "   'Chong Zhang',\n",
       "   'Shengjia Zhao',\n",
       "   'Barret Zoph'],\n",
       "  'Dataset contributions': ['Diogo Almeida',\n",
       "   'Mo Bavarian',\n",
       "   'Juan Felipe Cerón Uribe',\n",
       "   'Tyna Eloundou',\n",
       "   'Liam Fedus',\n",
       "   'Tarun Gogineni',\n",
       "   'Rapha Gontijo-Lopes',\n",
       "   'Jonathan Gordon',\n",
       "   'Joost Huizinga',\n",
       "   'Shawn Jain',\n",
       "   'Roger Jiang',\n",
       "   'Łukasz Kaiser',\n",
       "   'Christina Kim',\n",
       "   'Jan Leike',\n",
       "   'Chak Ming Li',\n",
       "   'Stephanie Lin',\n",
       "   'Ryan Lowe',\n",
       "   'Jacob Menick',\n",
       "   'Luke Metz',\n",
       "   'Pamela Mishkin',\n",
       "   'Tong Mu',\n",
       "   'Oleg Murk',\n",
       "   'Ashvin Nair',\n",
       "   'Long Ouyang',\n",
       "   'Alex Passos',\n",
       "   'Michael (Rai) Pokorny',\n",
       "   'Vitchyr Pong',\n",
       "   'Shibani Santurkar',\n",
       "   'Daniel Selsam',\n",
       "   'Sarah Shoker',\n",
       "   'Carroll Wainwright',\n",
       "   'Matt Wiethoff',\n",
       "   'Jeff Wu',\n",
       "   'Kai Xiao',\n",
       "   'Kevin Yu',\n",
       "   'Marvin Zhang',\n",
       "   'Chong Zhang',\n",
       "   'William Zhuk',\n",
       "   'Barret Zoph'],\n",
       "  'Data infrastructure': ['Irwan Bello',\n",
       "   'Lenny Bogdonoff',\n",
       "   'Juan Felipe Cerón Uribe',\n",
       "   'Joshua Gross',\n",
       "   'Shawn Jain',\n",
       "   'Haozhun Jin',\n",
       "   'Christina Kim',\n",
       "   'Aris Konstantinidis',\n",
       "   'Teddy Lee',\n",
       "   'David Medina',\n",
       "   'Jacob Menick',\n",
       "   'Luke Metz',\n",
       "   'Ashvin Nair',\n",
       "   'Long Ouyang',\n",
       "   'Michael (Rai) Pokorny',\n",
       "   'Vitchyr Pong',\n",
       "   'John Schulman',\n",
       "   'Jonathan Ward',\n",
       "   'Jiayi Weng',\n",
       "   'Matt Wiethoff',\n",
       "   'Sarah Yoo',\n",
       "   'Kevin Yu',\n",
       "   'Wojciech Zaremba',\n",
       "   'William Zhuk',\n",
       "   'Barret Zoph'],\n",
       "  'ChatML format': ['Ilge Akkaya',\n",
       "   'Christina Kim',\n",
       "   'Chak Ming Li',\n",
       "   'Rachel Lim',\n",
       "   'Jacob Menick',\n",
       "   'Luke Metz',\n",
       "   'Andrey Mishchenko',\n",
       "   'Vitchyr Pong',\n",
       "   'John Schulman',\n",
       "   'Carroll Wainwright',\n",
       "   'Barret Zoph'],\n",
       "  'Model safety': ['Josh Achiam',\n",
       "   'Steven Adler',\n",
       "   'Juan Felipe Cerón Uribe',\n",
       "   'Hyung Won Chung',\n",
       "   'Tyna Eloundou',\n",
       "   'Rapha Gontijo-Lopes',\n",
       "   'Shixiang Shane Gu',\n",
       "   'Johannes Heidecke',\n",
       "   'Joost Huizinga',\n",
       "   'Teddy Lee',\n",
       "   'Jan Leike',\n",
       "   'Stephanie Lin',\n",
       "   'Ryan Lowe',\n",
       "   'Todor Markov',\n",
       "   'Luke Metz',\n",
       "   'Tong Mu',\n",
       "   'Shibani Santurkar',\n",
       "   'John Schulman',\n",
       "   'Andrea Vallone',\n",
       "   'Carroll Wainwright',\n",
       "   'Jason Wei',\n",
       "   'Lilian Weng',\n",
       "   'Kai Xiao',\n",
       "   'Chong Zhang',\n",
       "   'Marvin Zhang',\n",
       "   'Barret Zoph'],\n",
       "  'Refusals': ['Juan Felipe Cerón Uribe',\n",
       "   'Tyna Eloundou',\n",
       "   'Johannes Heidecke',\n",
       "   'Joost Huizinga',\n",
       "   'Jan Leike',\n",
       "   'Stephanie Lin',\n",
       "   'Ryan Lowe',\n",
       "   'Pamela Mishkin',\n",
       "   'Tong Mu',\n",
       "   'Carroll Wainwright',\n",
       "   'Lilian Weng',\n",
       "   'Kai Xiao',\n",
       "   'Chong Zhang',\n",
       "   'Barret Zoph'],\n",
       "  'Foundational RLHF and InstructGPT work': ['Diogo Almeida',\n",
       "   'Joost Huizinga',\n",
       "   'Roger Jiang',\n",
       "   'Jan Leike',\n",
       "   'Stephanie Lin',\n",
       "   'Ryan Lowe',\n",
       "   'Pamela Mishkin',\n",
       "   'Dan Mossing',\n",
       "   'Long Ouyang',\n",
       "   'Katarina Slama',\n",
       "   'Carroll Wainwright',\n",
       "   'Jeff Wu',\n",
       "   'Kai Xiao',\n",
       "   'Marvin Zhang'],\n",
       "  'Flagship training runs': ['Greg Brockman',\n",
       "   'Liam Fedus',\n",
       "   'Johannes Heidecke',\n",
       "   'Joost Huizinga',\n",
       "   'Roger Jiang',\n",
       "   'Kyle Kosic',\n",
       "   'Luke Metz',\n",
       "   'Ashvin Nair',\n",
       "   'Jiayi Weng',\n",
       "   'Chong Zhang',\n",
       "   'Shengjia Zhao',\n",
       "   'Barret Zoph'],\n",
       "  'Code capability': ['Ilge Akkaya',\n",
       "   'Mo Bavarian',\n",
       "   'Jonathan Gordon',\n",
       "   'Shawn Jain',\n",
       "   'Haozhun Jin',\n",
       "   'Teddy Lee',\n",
       "   'Chak Ming Li',\n",
       "   'Oleg Murk',\n",
       "   'Ashvin Nair',\n",
       "   'Vitchyr Pong',\n",
       "   'Benjamin Sokolowsky',\n",
       "   'Jerry Tworek',\n",
       "   'Matt Wiethoff',\n",
       "   'Sarah Yoo',\n",
       "   'Kevin Yu',\n",
       "   'Wojciech Zaremba',\n",
       "   'William Zhuk']},\n",
       " 'Evaluation & analysis': {'Core contributors': ['Sandhini Agarwal',\n",
       "   'Lama Ahmad',\n",
       "   'Mo Bavarian',\n",
       "   'Tyna Eloundou',\n",
       "   'Andrew Kondrich',\n",
       "   'Gretchen Krueger',\n",
       "   'Michael Lampe',\n",
       "   'Pamela Mishkin',\n",
       "   'Benjamin Sokolowsky',\n",
       "   'Jack Rae',\n",
       "   'Chelsea Voss',\n",
       "   'Alvin Wang',\n",
       "   'Kai Xiao',\n",
       "   'Marvin Zhang'],\n",
       "  'OpenAI Evals library': ['Shixiang Shane Gu',\n",
       "   'Angela Jiang',\n",
       "   'Logan Kilpatrick',\n",
       "   'Andrew Kondrich',\n",
       "   'Pamela Mishkin',\n",
       "   'Jakub Pachocki',\n",
       "   'Ted Sanders',\n",
       "   'Jessica Shieh',\n",
       "   'Alvin Wang',\n",
       "   'Marvin Zhang'],\n",
       "  'Model-graded evaluation infrastructure': ['Liam Fedus',\n",
       "   'Rapha Gontijo-Lopes',\n",
       "   'Shixiang Shane Gu',\n",
       "   'Andrew Kondrich',\n",
       "   'Michael (Rai) Pokorny',\n",
       "   'Wojciech Zaremba',\n",
       "   'Chong Zhang',\n",
       "   'Marvin Zhang',\n",
       "   'Shengjia Zhao',\n",
       "   'Barret Zoph'],\n",
       "  'Acceleration forecasting': ['Alan Hickey',\n",
       "   'Daniel Kokotajlo',\n",
       "   \"Cullen O'Keefe\",\n",
       "   'Sarah Shoker'],\n",
       "  'ChatGPT evaluations': ['Juan Felipe Cerón Uribe',\n",
       "   'Hyung Won Chung',\n",
       "   'Rapha Gontijo-Lopes',\n",
       "   'Liam Fedus',\n",
       "   'Luke Metz',\n",
       "   'Michael Rai Pokorny',\n",
       "   'Jason Wei',\n",
       "   'Shengjia Zhao',\n",
       "   'Barret Zoph'],\n",
       "  'Capability evaluations': ['Sully Chen',\n",
       "   'Tyna Eloundou',\n",
       "   'Shengli Hu',\n",
       "   'Roger Jiang',\n",
       "   'Jamie Kiros',\n",
       "   'Teddy Lee',\n",
       "   'Scott Mayer McKinney',\n",
       "   'Jakub Pachocki',\n",
       "   'Alex Paino',\n",
       "   'Giambattista Parascandolo',\n",
       "   'Boris Power',\n",
       "   'Raul Puri',\n",
       "   'Jack Rae',\n",
       "   'Nick Ryder',\n",
       "   'Ted Sanders',\n",
       "   'Szymon Sidor',\n",
       "   'Benjamin Sokolowsky',\n",
       "   'Chelsea Voss',\n",
       "   'Alvin Wang',\n",
       "   'Rowan Zellers',\n",
       "   'Juntang Zhuang'],\n",
       "  'Coding evaluations': ['Ilge Akkaya',\n",
       "   'Mo Bavarian',\n",
       "   'Jonathan Gordon',\n",
       "   'Shawn Jain',\n",
       "   'Chak Ming Li',\n",
       "   'Oleg Murk',\n",
       "   'Vitchyr Pong',\n",
       "   'Benjamin Sokolowsky',\n",
       "   'Jerry Tworek',\n",
       "   'Kevin Yu',\n",
       "   'Wojciech Zaremba'],\n",
       "  'Real-world use case evaluations': ['Andrew Kondrich',\n",
       "   'Joe Palermo',\n",
       "   'Boris Power',\n",
       "   'Ted Sanders'],\n",
       "  'Contamination investigations': ['Adrien Ecoffet',\n",
       "   'Roger Jiang',\n",
       "   'Ingmar Kanitscheider',\n",
       "   'Scott Mayer McKinney',\n",
       "   'Alex Paino',\n",
       "   'Giambattista Parascandolo',\n",
       "   'Jack Rae',\n",
       "   'Qiming Yuan'],\n",
       "  'Instruction following and API evals': ['Diogo Almeida',\n",
       "   'Carroll Wainwright',\n",
       "   'Marvin Zhang'],\n",
       "  'Novel capability discovery': ['Filipe de Avila Belbute Peres',\n",
       "   'Kevin Button',\n",
       "   'Fotis Chantzis',\n",
       "   'Mike Heaton',\n",
       "   'Wade Hickey',\n",
       "   'Xin Hu',\n",
       "   'Andrew Kondrich',\n",
       "   'Matt Knight',\n",
       "   'Andrew Mayne',\n",
       "   'Jake McNeil',\n",
       "   'Vinnie Monaco',\n",
       "   'Joe Palermo',\n",
       "   'Joel Parish',\n",
       "   'Boris Power',\n",
       "   'Bob Rotsted',\n",
       "   'Ted Sanders'],\n",
       "  'Vision evaluations': ['Shixiang Shane Gu',\n",
       "   'Shengli Hu',\n",
       "   'Jamie Kiros',\n",
       "   'Hyeonwoo Noh',\n",
       "   'Raul Puri',\n",
       "   'Rowan Zellers'],\n",
       "  'Economic impact evaluation': ['Tyna Eloundou',\n",
       "   'Sam Manning',\n",
       "   'Aalok Mehta',\n",
       "   'Pamela Mishkin'],\n",
       "  'Non-proliferation, international humanitarian law & national security red teaming': ['Sarah Shoker'],\n",
       "  'Overreliance analysis': ['Miles Brundage',\n",
       "   'Michael Lampe',\n",
       "   'Pamela Mishkin'],\n",
       "  'Privacy and PII evaluations': ['Michael Lampe',\n",
       "   'Vinnie Monaco',\n",
       "   'Ashley Pantuliano'],\n",
       "  'Safety and policy evaluations': ['Josh Achiam',\n",
       "   'Sandhini Agarwal',\n",
       "   'Lama Ahmad',\n",
       "   'Jeff Belgum',\n",
       "   'Tyna Eloundou',\n",
       "   'Johannes Heidecke',\n",
       "   'Shengli Hu',\n",
       "   'Joost Huizinga',\n",
       "   'Jamie Kiros',\n",
       "   'Gretchen Krueger',\n",
       "   'Michael Lampe',\n",
       "   'Stephanie Lin',\n",
       "   'Ryan Lowe',\n",
       "   'Todor Markov',\n",
       "   'Vinnie Monaco',\n",
       "   'Tong Mu',\n",
       "   'Raul Puri',\n",
       "   'Girish Sastry',\n",
       "   'Andrea Vallone',\n",
       "   'Carroll Wainwright',\n",
       "   'CJ Weinmann',\n",
       "   'Lilian Weng',\n",
       "   'Kai Xiao',\n",
       "   'Chong Zhang'],\n",
       "  'OpenAI adversarial testers': ['Josh Achiam',\n",
       "   'Steven Adler',\n",
       "   'Lama Ahmad',\n",
       "   'Shyamal Anadkat',\n",
       "   'Red Avila',\n",
       "   'Gabriel Bernadett-Shapiro',\n",
       "   'Anna-Luisa Brakman',\n",
       "   'Tim Brooks',\n",
       "   'Miles Brundage',\n",
       "   'Chelsea Carlson',\n",
       "   'Derek Chen',\n",
       "   'Hyung Won Chung',\n",
       "   'Jeremiah Currier',\n",
       "   'Daniel Kokotajlo',\n",
       "   'David Dohan',\n",
       "   'Adrien Ecoffet',\n",
       "   'Vik Goel',\n",
       "   'Ryan Greene',\n",
       "   'Johannes Heidecke',\n",
       "   'Alan Hickey',\n",
       "   'Shengli Hu',\n",
       "   'Joost Huizinga',\n",
       "   'Janko',\n",
       "   'Tomer Kaftan',\n",
       "   'Ali Kamali',\n",
       "   'Nitish Shirish Keskar',\n",
       "   'Tabarak Khan',\n",
       "   'Hendrik Kirchner',\n",
       "   'Daniel Kokotajlo',\n",
       "   'Gretchen Krueger',\n",
       "   'Michael Lampe',\n",
       "   'Teddy Lee',\n",
       "   'Molly Lin',\n",
       "   'Ryan Lowe',\n",
       "   'Todor Markov',\n",
       "   'Jake McNeil',\n",
       "   'Pamela Mishkin',\n",
       "   'Vinnie Monaco',\n",
       "   'Daniel Mossing',\n",
       "   'Tong Mu',\n",
       "   'Oleg Murk',\n",
       "   \"Cullen O'Keefe\",\n",
       "   'Joe Palermo',\n",
       "   'Giambattista Parascandolo',\n",
       "   'Joel Parish',\n",
       "   'Boris Power',\n",
       "   'Alethea Power',\n",
       "   'Cameron Raymond',\n",
       "   'Francis Real',\n",
       "   'Bob Rotsted',\n",
       "   'Mario Salterelli',\n",
       "   'Sam Wolrich',\n",
       "   'Ted Sanders',\n",
       "   'Girish Sastry',\n",
       "   'Sarah Shoker',\n",
       "   'Shyamal Anadkat',\n",
       "   'Yang Song',\n",
       "   'Natalie Staudacher',\n",
       "   'Madeleine Thompson',\n",
       "   'Elizabeth Tseng',\n",
       "   'Chelsea Voss',\n",
       "   'Jason Wei',\n",
       "   'Chong Zhang'],\n",
       "  'System card & broader impacts analysis': ['Steven Adler',\n",
       "   'Sandhini Agarwal',\n",
       "   'Lama Ahmad',\n",
       "   'Janko Altenschmidt',\n",
       "   'Jeff Belgum',\n",
       "   'Gabriel Bernadett-Shapiro',\n",
       "   'Miles Brundage',\n",
       "   'Derek Chen',\n",
       "   'Tyna Eloundou',\n",
       "   'Liam Fedus',\n",
       "   'Leo Gao',\n",
       "   'Vik Goel',\n",
       "   'Johannes Heidecke',\n",
       "   'Alan Hickey',\n",
       "   'Shengli Hu',\n",
       "   'Joost Huizinga',\n",
       "   'Daniel Kokotajlo',\n",
       "   'Gretchen Krueger',\n",
       "   'Michael Lampe',\n",
       "   'Jade Leung',\n",
       "   'Stephanie Lin',\n",
       "   'Ryan Lowe',\n",
       "   'Kim Malfacini',\n",
       "   'Todor Markov',\n",
       "   'Bianca Martin',\n",
       "   'Aalok Mehta',\n",
       "   'Pamela Mishkin',\n",
       "   'Tong Mu',\n",
       "   'Richard Ngo',\n",
       "   \"Cullen O'Keefe\",\n",
       "   'Joel Parish',\n",
       "   'Rai Pokorny',\n",
       "   'Bob Rotsted',\n",
       "   'Girish Sastry',\n",
       "   'Sarah Shoker',\n",
       "   'Andrea Vallone',\n",
       "   'Carroll Wainwright',\n",
       "   'CJ Weinmann',\n",
       "   'Lilian Weng',\n",
       "   'Dave Willner',\n",
       "   'Kai Xiao',\n",
       "   'Chong Zhang']},\n",
       " 'Deployment': {'Core contributors': ['Steven Adler',\n",
       "   'Sandhini Agarwal',\n",
       "   'Derek Chen',\n",
       "   'Atty Eleti',\n",
       "   'Joanne Jang',\n",
       "   'Angela Jiang',\n",
       "   'Tomer Kaftan',\n",
       "   'Rachel Lim',\n",
       "   'Kim Malfacini',\n",
       "   'Bianca Martin',\n",
       "   'Evan Morikawa',\n",
       "   'Henrique Ponde de Oliveira Pinto',\n",
       "   'Heather Schmidt',\n",
       "   'Maddie Simens',\n",
       "   'Felipe Petroski Such',\n",
       "   'Andrea Vallone',\n",
       "   'Lilian Weng',\n",
       "   'Dave Willner',\n",
       "   'Michael Wu'],\n",
       "  'Inference research': ['Paul Baltescu',\n",
       "   'Scott Gray',\n",
       "   'Yuchen He',\n",
       "   'Arvind Neelakantan',\n",
       "   'Michael Wu'],\n",
       "  'GPT-4 API & ChatML deployment': ['Greg Brockman',\n",
       "   'Brooke Chan',\n",
       "   'Chester Cho',\n",
       "   'Atty Eleti',\n",
       "   'Rachel Lim',\n",
       "   'Andrew Peng',\n",
       "   'Michelle Pokrass',\n",
       "   'Sherwin Wu'],\n",
       "  'GPT-4 web experience': ['Valerie Balcom',\n",
       "   'Lenny Bogdonoff',\n",
       "   'Jason Chen',\n",
       "   'Dave Cummings',\n",
       "   'Noah Deutsch',\n",
       "   'Mike Heaton',\n",
       "   'Paul McMillan',\n",
       "   'Rajeev Nayak',\n",
       "   'Joel Parish',\n",
       "   'Adam Perelman',\n",
       "   'Eric Sigler',\n",
       "   'Nick Turley',\n",
       "   'Arun Vijayvergiya',\n",
       "   'Chelsea Voss'],\n",
       "  'Inference infrastructure': ['Brooke Chan',\n",
       "   'Scott Gray',\n",
       "   'Chris Hallacy',\n",
       "   'Kenny Hsu',\n",
       "   'Tomer Kaftan',\n",
       "   'Rachel Lim',\n",
       "   'Henrique Ponde de Oliveira Pinto',\n",
       "   'Raul Puri',\n",
       "   'Heather Schmidt',\n",
       "   'Felipe Petroski Such'],\n",
       "  'Reliability engineering': ['Haiming Bao',\n",
       "   'Madelaine Boyd',\n",
       "   'Ben Chess',\n",
       "   'Damien Deville',\n",
       "   'Yufei Guo',\n",
       "   'Vishal Kuo',\n",
       "   'Ikai Lan',\n",
       "   'Michelle Pokrass',\n",
       "   'Carl Ross',\n",
       "   'David Schnurr',\n",
       "   'Jordan Sitkin',\n",
       "   'Felipe Petroski Such'],\n",
       "  'Trust & safety engineering': ['Jeff Belgum', 'Madelaine Boyd', 'Vik Goel'],\n",
       "  'Trust & safety monitoring and response': ['Janko Altenschmidt',\n",
       "   'Anna-Luisa Brakman',\n",
       "   'Derek Chen',\n",
       "   'Florencia Leoni Aleman',\n",
       "   'Molly Lin',\n",
       "   'Cameron Raymond',\n",
       "   'CJ Weinmann',\n",
       "   'Dave Willner',\n",
       "   'Samuel Wolrich'],\n",
       "  'Trust & safety policy': ['Rosie Campbell',\n",
       "   'Kim Malfacini',\n",
       "   'Andrea Vallone',\n",
       "   'Dave Willner'],\n",
       "  'Deployment compute': ['Peter Hoeschele', 'Evan Morikawa'],\n",
       "  'Product management': ['Jeff Harris', 'Joanne Jang', 'Angela Jiang']},\n",
       " 'Additional contributions': {'General': ['Sam Altman',\n",
       "   'Katie Mayer',\n",
       "   'Bob McGrew',\n",
       "   'Mira Murati',\n",
       "   'Ilya Sutskever',\n",
       "   'Peter Welinder'],\n",
       "  'Blog post & paper content': ['Sandhini Agarwal',\n",
       "   'Greg Brockman',\n",
       "   'Miles Brundage',\n",
       "   'Adrien Ecoffet',\n",
       "   'Tyna Eloundou',\n",
       "   'David Farhi',\n",
       "   'Johannes Heidecke',\n",
       "   'Shengli Hu',\n",
       "   'Joost Huizinga',\n",
       "   'Roger Jiang',\n",
       "   'Gretchen Krueger',\n",
       "   'Jan Leike',\n",
       "   'Daniel Levy',\n",
       "   'Stephanie Lin',\n",
       "   'Ryan Lowe',\n",
       "   'Tong Mu',\n",
       "   'Hyeonwoo Noh',\n",
       "   'Jakub Pachocki',\n",
       "   'Jack Rae',\n",
       "   'Kendra Rimbach',\n",
       "   'Shibani Santurkar',\n",
       "   'Szymon Sidor',\n",
       "   'Benjamin Sokolowsky',\n",
       "   'Jie Tang',\n",
       "   'Chelsea Voss',\n",
       "   'Kai Xiao',\n",
       "   'Rowan Zellers',\n",
       "   'Chong Zhang',\n",
       "   'Marvin Zhang'],\n",
       "  'Communications': ['Ruby Chen',\n",
       "   'Cory Decareaux',\n",
       "   'Thomas Degry',\n",
       "   'Steve Dowling',\n",
       "   'Niko Felix',\n",
       "   'Elie Georges',\n",
       "   'Anna Makanju',\n",
       "   'Andrew Mayne',\n",
       "   'Aalok Mehta',\n",
       "   'Elizabeth Proehl',\n",
       "   'Kendra Rimbach',\n",
       "   'Natalie Summers',\n",
       "   'Justin Jay Wang',\n",
       "   'Hannah Wong'],\n",
       "  'Compute allocation support': ['Theresa Lopez', 'Elizabeth Tseng'],\n",
       "  'Contracting, revenue, pricing, & finance support': ['Brooke Chan',\n",
       "   'Denny Jin',\n",
       "   'Billie Jonn',\n",
       "   'Patricia Lue',\n",
       "   'Kyla Sheppard',\n",
       "   'Lauren Workman'],\n",
       "  'Launch partners & product operations': ['Filipe de Avila Belbute Peres',\n",
       "   'Brittany Carey',\n",
       "   'Simón Posada Fishman',\n",
       "   'Isabella Fulford',\n",
       "   'Teddy Lee',\n",
       "   'Yaniv Markovski',\n",
       "   'Tolly Powell',\n",
       "   'Toki Sherbakov',\n",
       "   'Jessica Shieh',\n",
       "   'Natalie Staudacher',\n",
       "   'Preston Tuggle'],\n",
       "  'Legal': ['Jake Berdine',\n",
       "   'Che Chang',\n",
       "   'Sheila Dunning',\n",
       "   'Ashley Pantuliano'],\n",
       "  'Security & privacy engineering': ['Kevin Button',\n",
       "   'Fotis Chantzis',\n",
       "   'Wade Hickey',\n",
       "   'Xin Hu',\n",
       "   'Shino Jomoto',\n",
       "   'Matt Knight',\n",
       "   'Jake McNeil',\n",
       "   'Vinnie Monaco',\n",
       "   'Joel Parish',\n",
       "   'Bob Rotsted'],\n",
       "  'System administration & on-call support': ['Morgan Grafstein',\n",
       "   'Francis Real',\n",
       "   'Mario Saltarelli'],\n",
       "  'Authorship & credit attribution': ['David Farhi']}}"
      ]
     },
     "execution_count": 94,
     "metadata": {},
     "output_type": "execute_result"
    }
   ],
   "source": [
    "# Load file: data/gpt-4_contributions.json\n",
    "with open('data/gpt-4_contributions.json') as f:\n",
    "    gpt_4_contributions = json.load(f)\n",
    "gpt_4_contributions"
   ]
  },
  {
   "cell_type": "code",
   "execution_count": 95,
   "metadata": {},
   "outputs": [
    {
     "data": {
      "text/plain": [
       "284"
      ]
     },
     "execution_count": 95,
     "metadata": {},
     "output_type": "execute_result"
    }
   ],
   "source": [
    "unique_contributors = set()\n",
    "for category in gpt_4_contributions.values():\n",
    "    for group in category.values():\n",
    "        for contributor in group:\n",
    "            unique_contributors.add(contributor)\n",
    "len(unique_contributors)"
   ]
  },
  {
   "cell_type": "code",
   "execution_count": 96,
   "metadata": {},
   "outputs": [],
   "source": [
    "num_contributors = len(unique_contributors)"
   ]
  },
  {
   "cell_type": "code",
   "execution_count": 97,
   "metadata": {},
   "outputs": [],
   "source": [
    "total_salaries = np.zeros(N)\n",
    "for i in range(N):\n",
    "    # A given contributor plausibly spent anywhere from 10% to 90% of their time on this\n",
    "    ftes = lognorm_from_90_ci(0.1, 0.9, num_contributors)\n",
    "    salary = lognorm_from_90_ci(compensation_low, compensation_high, num_contributors)\n",
    "    salary *= ftes\n",
    "    salary *= lognorm_from_90_ci(compensation_overhead_low, compensation_overhead_high, num_contributors)\n",
    "    total_salaries[i] = salary.sum()"
   ]
  },
  {
   "cell_type": "code",
   "execution_count": 98,
   "metadata": {},
   "outputs": [],
   "source": [
    "personnel_cost = total_salaries * project_duration"
   ]
  },
  {
   "cell_type": "code",
   "execution_count": 99,
   "metadata": {},
   "outputs": [
    {
     "name": "stdout",
     "output_type": "stream",
     "text": [
      "Median: 7.9e+07 [90% CI: 6.1e+07, 1e+08]\n"
     ]
    }
   ],
   "source": [
    "print_median_and_ci(personnel_cost)"
   ]
  },
  {
   "cell_type": "markdown",
   "metadata": {},
   "source": [
    "## Overall"
   ]
  },
  {
   "cell_type": "code",
   "execution_count": 100,
   "metadata": {},
   "outputs": [],
   "source": [
    "cost_data['GPT-4'] = {\n",
    "    'AI accelerator chip cost': get_hardware_cost_dist('GPT-4', 'AI accelerator chip cost'),\n",
    "    'Other server components cost': get_hardware_cost_dist('GPT-4', 'Other server components cost'),\n",
    "    'Cluster-level interconnect cost': get_hardware_cost_dist('GPT-4', 'Cluster-level interconnect cost'),\n",
    "    'Energy cost': energy_cost,\n",
    "    'R&D staff cost': personnel_cost,\n",
    "}"
   ]
  },
  {
   "cell_type": "markdown",
   "metadata": {},
   "source": [
    "# Gemini Ultra"
   ]
  },
  {
   "cell_type": "markdown",
   "metadata": {},
   "source": [
    "See https://colab.research.google.com/drive/1XEKlSo-3DCFp686yGOwwfS6_DEHsFimd#scrollTo=yqWMux2iZL8L"
   ]
  },
  {
   "cell_type": "code",
   "execution_count": 101,
   "metadata": {},
   "outputs": [
    {
     "name": "stdout",
     "output_type": "stream",
     "text": [
      "Median: 0.99 [90% CI: 0.61, 1.7]\n"
     ]
    }
   ],
   "source": [
    "# Lognormal distribution parameters for project duration\n",
    "p_5th_project_duration_years = 7 / 12\n",
    "p_95th_project_duration_years = 20 / 12\n",
    "\n",
    "project_duration = lognorm_from_90_ci(p_5th_project_duration_years, p_95th_project_duration_years, N)\n",
    "\n",
    "project_duration_hours = project_duration * HOURS_PER_YEAR\n",
    "\n",
    "print_median_and_ci(project_duration, ci=[5, 95])"
   ]
  },
  {
   "cell_type": "code",
   "execution_count": 102,
   "metadata": {},
   "outputs": [
    {
     "name": "stdout",
     "output_type": "stream",
     "text": [
      "Median: 6.3e+04 [90% CI: 5.1e+04, 7.6e+04]\n"
     ]
    }
   ],
   "source": [
    "chips_per_pod = 4096\n",
    "number_of_pods = np.random.uniform(12, 19, N)\n",
    "number_of_chips = number_of_pods * chips_per_pod\n",
    "print_median_and_ci(number_of_chips)"
   ]
  },
  {
   "cell_type": "code",
   "execution_count": 103,
   "metadata": {},
   "outputs": [
    {
     "name": "stdout",
     "output_type": "stream",
     "text": [
      "Median: 1.4e+07 [90% CI: 8e+06, 2.4e+07]\n"
     ]
    }
   ],
   "source": [
    "cost_per_kwh = 0.083  # default assumption for US data centers\n",
    "power_per_chip = 0.3  # Unsure - TPUv3 is under 300W for most models in https://arxiv.org/pdf/2104.10350.pdf, but this is TPUv4. See also https://cloud.google.com/tpu/docs/v4.\n",
    "energy_cost = number_of_chips * power_per_chip * project_duration_hours * cost_per_kwh\n",
    "print_median_and_ci(energy_cost)"
   ]
  },
  {
   "cell_type": "code",
   "execution_count": 104,
   "metadata": {},
   "outputs": [
    {
     "ename": "NameError",
     "evalue": "name 'cost_data_upfront_capex' is not defined",
     "output_type": "error",
     "traceback": [
      "\u001b[0;31m---------------------------------------------------------------------------\u001b[0m",
      "\u001b[0;31mNameError\u001b[0m                                 Traceback (most recent call last)",
      "Cell \u001b[0;32mIn[104], line 3\u001b[0m\n\u001b[1;32m      1\u001b[0m hardware_cost \u001b[38;5;241m=\u001b[39m \u001b[38;5;241m6.7e8\u001b[39m\n\u001b[1;32m      2\u001b[0m \u001b[38;5;66;03m# Use GPU/non-GPU fractions from Yafah Edelman as a placeholder\u001b[39;00m\n\u001b[0;32m----> 3\u001b[0m cost_data_upfront_capex[\u001b[38;5;124m'\u001b[39m\u001b[38;5;124mGemini Ultra\u001b[39m\u001b[38;5;124m'\u001b[39m] \u001b[38;5;241m=\u001b[39m {\n\u001b[1;32m      4\u001b[0m     \u001b[38;5;124m'\u001b[39m\u001b[38;5;124mGPU servers\u001b[39m\u001b[38;5;124m'\u001b[39m: \u001b[38;5;241m0.7\u001b[39m \u001b[38;5;241m*\u001b[39m hardware_cost,\n\u001b[1;32m      5\u001b[0m     \u001b[38;5;124m'\u001b[39m\u001b[38;5;124mOther hardware\u001b[39m\u001b[38;5;124m'\u001b[39m: \u001b[38;5;241m0.3\u001b[39m \u001b[38;5;241m*\u001b[39m hardware_cost,\n\u001b[1;32m      6\u001b[0m     \u001b[38;5;124m'\u001b[39m\u001b[38;5;124mEnergy\u001b[39m\u001b[38;5;124m'\u001b[39m: energy_cost\u001b[38;5;241m.\u001b[39mmean(),\n\u001b[1;32m      7\u001b[0m     \u001b[38;5;124m'\u001b[39m\u001b[38;5;124mPersonnel\u001b[39m\u001b[38;5;124m'\u001b[39m: \u001b[38;5;241m1.6e8\u001b[39m,\n\u001b[1;32m      8\u001b[0m }\n",
      "\u001b[0;31mNameError\u001b[0m: name 'cost_data_upfront_capex' is not defined"
     ]
    }
   ],
   "source": [
    "hardware_cost = 6.7e8\n",
    "# Use GPU/non-GPU fractions from Yafah Edelman as a placeholder\n",
    "cost_data_upfront_capex['Gemini Ultra'] = {\n",
    "    'GPU servers': 0.7 * hardware_cost,\n",
    "    'Other hardware': 0.3 * hardware_cost,\n",
    "    'Energy': energy_cost.mean(),\n",
    "    'Personnel': 1.6e8,\n",
    "}"
   ]
  },
  {
   "cell_type": "code",
   "execution_count": null,
   "metadata": {},
   "outputs": [],
   "source": [
    "tpuv4_server_lifetime = lognorm_from_90_ci(3, 8, N)  # years"
   ]
  },
  {
   "cell_type": "code",
   "execution_count": null,
   "metadata": {},
   "outputs": [],
   "source": [
    "cost_data_amortized_capex['Gemini Ultra'] = {\n",
    "    'GPU servers': 0.7 * np.mean(hardware_cost * project_duration / tpuv4_server_lifetime),\n",
    "    'Other hardware': 0.3 * np.mean(hardware_cost * project_duration / tpuv4_server_lifetime),\n",
    "    'Energy': energy_cost.mean(),\n",
    "    'Personnel': 1.6e8,\n",
    "}"
   ]
  },
  {
   "cell_type": "code",
   "execution_count": null,
   "metadata": {},
   "outputs": [
    {
     "data": {
      "text/plain": [
       "{'GPT-3': {'GPU servers': 21101057.56614471,\n",
       "  'Other hardware': 3738710.870780002,\n",
       "  'Energy': 213642.0,\n",
       "  'Personnel': 8326041.174462708},\n",
       " 'OPT-175B': {'GPU servers': 1251889.3745022374,\n",
       "  'Other hardware': 395806.9399623841,\n",
       "  'Energy': 39126.0672,\n",
       "  'Personnel': 2621423.5046858904},\n",
       " 'GPT-4': {'GPU servers': 34061173.90082,\n",
       "  'Other hardware': 14606197.595430722,\n",
       "  'Energy': 5000000.0,\n",
       "  'Personnel': 46297056.81040383},\n",
       " 'Gemini Ultra': {'GPU servers': 104527413.47373964,\n",
       "  'Other hardware': 44797462.91731699,\n",
       "  'Energy': 14313389.058145,\n",
       "  'Personnel': 160000000.0}}"
      ]
     },
     "execution_count": 43,
     "metadata": {},
     "output_type": "execute_result"
    }
   ],
   "source": [
    "cost_data_amortized_capex"
   ]
  },
  {
   "cell_type": "markdown",
   "metadata": {},
   "source": [
    "# Plots"
   ]
  },
  {
   "cell_type": "code",
   "execution_count": null,
   "metadata": {},
   "outputs": [],
   "source": [
    "cost_component_names.insert(0, 'R&D staff cost')"
   ]
  },
  {
   "cell_type": "code",
   "execution_count": null,
   "metadata": {},
   "outputs": [
    {
     "name": "stdout",
     "output_type": "stream",
     "text": [
      "R&D staff cost\n",
      "[7551285.066947095, 3549416.132660362, 79979768.47244003] [2063527.2665873237, 1160041.5896891947, 57688982.88919383] [25254180.101036076, 9480133.618856251, 103507732.32652797]\n",
      "AI accelerator chip cost\n",
      "[1962125.4273683922, 716160.9422062889, 39554705.98455888] [949015.3253523274, 354565.645839486, 19390688.184284717] [3994536.232585356, 1432287.6967039572, 86703737.67547105]\n",
      "Other server components cost\n",
      "[1355652.9834082732, 473059.9414767102, 26989831.642662495] [671583.8228633152, 238663.77271750377, 13058409.646629605] [2781528.9606980523, 971121.4656579593, 56573208.66963568]\n",
      "Cluster-level interconnect cost\n",
      "[512000.39184307214, 178300.0822160283, 10101705.515745563] [246202.37735644972, 82167.72118769035, 4607323.713346146] [1024343.4824198956, 376570.787157555, 20145542.536439896]\n",
      "Energy cost\n",
      "[187204.84389297687, 42765.55728603531, 7617954.038204856] [70265.0027469286, 16051.518420618899, 2839244.964465217] [556057.5915326377, 127027.23012134609, 19221653.343449485]\n"
     ]
    },
    {
     "data": {
      "application/vnd.plotly.v1+json": {
       "config": {
        "plotlyServerURL": "https://plot.ly"
       },
       "data": [
        {
         "error_y": {
          "array": [
           17702895.03408898,
           5930717.486195889,
           23527963.854087934
          ],
          "arrayminus": [
           5487757.800359772,
           2389374.5429711672,
           22290785.5832462
          ],
          "symmetric": false,
          "type": "data",
          "visible": true
         },
         "name": "R&D staff cost",
         "type": "bar",
         "x": [
          "GPT-3 175B (davinci)",
          "OPT-175B",
          "GPT-4"
         ],
         "y": [
          7551285.066947095,
          3549416.132660362,
          79979768.47244003
         ]
        },
        {
         "error_y": {
          "array": [
           2032410.8052169639,
           716126.7544976682,
           47149031.69091217
          ],
          "arrayminus": [
           1013110.1020160648,
           361595.29636680294,
           20164017.800274163
          ],
          "symmetric": false,
          "type": "data",
          "visible": true
         },
         "name": "AI accelerator chip cost",
         "type": "bar",
         "x": [
          "GPT-3 175B (davinci)",
          "OPT-175B",
          "GPT-4"
         ],
         "y": [
          1962125.4273683922,
          716160.9422062889,
          39554705.98455888
         ]
        },
        {
         "error_y": {
          "array": [
           1425875.977289779,
           498061.52418124914,
           29583377.026973188
          ],
          "arrayminus": [
           684069.160544958,
           234396.16875920643,
           13931421.99603289
          ],
          "symmetric": false,
          "type": "data",
          "visible": true
         },
         "name": "Other server components cost",
         "type": "bar",
         "x": [
          "GPT-3 175B (davinci)",
          "OPT-175B",
          "GPT-4"
         ],
         "y": [
          1355652.9834082732,
          473059.9414767102,
          26989831.642662495
         ]
        },
        {
         "error_y": {
          "array": [
           512343.09057682345,
           198270.7049415267,
           10043837.020694332
          ],
          "arrayminus": [
           265798.0144866224,
           96132.36102833795,
           5494381.802399417
          ],
          "symmetric": false,
          "type": "data",
          "visible": true
         },
         "name": "Cluster-level interconnect cost",
         "type": "bar",
         "x": [
          "GPT-3 175B (davinci)",
          "OPT-175B",
          "GPT-4"
         ],
         "y": [
          512000.39184307214,
          178300.0822160283,
          10101705.515745563
         ]
        },
        {
         "error_y": {
          "array": [
           368852.74763966084,
           84261.67283531078,
           11603699.305244628
          ],
          "arrayminus": [
           116939.84114604827,
           26714.038865416413,
           4778709.073739639
          ],
          "symmetric": false,
          "type": "data",
          "visible": true
         },
         "name": "Energy cost",
         "type": "bar",
         "x": [
          "GPT-3 175B (davinci)",
          "OPT-175B",
          "GPT-4"
         ],
         "y": [
          187204.84389297687,
          42765.55728603531,
          7617954.038204856
         ]
        }
       ],
       "layout": {
        "barmode": "group",
        "height": 600,
        "template": {
         "data": {
          "bar": [
           {
            "error_x": {
             "color": "#2a3f5f"
            },
            "error_y": {
             "color": "#2a3f5f"
            },
            "marker": {
             "line": {
              "color": "#E5ECF6",
              "width": 0.5
             },
             "pattern": {
              "fillmode": "overlay",
              "size": 10,
              "solidity": 0.2
             }
            },
            "type": "bar"
           }
          ],
          "barpolar": [
           {
            "marker": {
             "line": {
              "color": "#E5ECF6",
              "width": 0.5
             },
             "pattern": {
              "fillmode": "overlay",
              "size": 10,
              "solidity": 0.2
             }
            },
            "type": "barpolar"
           }
          ],
          "carpet": [
           {
            "aaxis": {
             "endlinecolor": "#2a3f5f",
             "gridcolor": "white",
             "linecolor": "white",
             "minorgridcolor": "white",
             "startlinecolor": "#2a3f5f"
            },
            "baxis": {
             "endlinecolor": "#2a3f5f",
             "gridcolor": "white",
             "linecolor": "white",
             "minorgridcolor": "white",
             "startlinecolor": "#2a3f5f"
            },
            "type": "carpet"
           }
          ],
          "choropleth": [
           {
            "colorbar": {
             "outlinewidth": 0,
             "ticks": ""
            },
            "type": "choropleth"
           }
          ],
          "contour": [
           {
            "colorbar": {
             "outlinewidth": 0,
             "ticks": ""
            },
            "colorscale": [
             [
              0,
              "#0d0887"
             ],
             [
              0.1111111111111111,
              "#46039f"
             ],
             [
              0.2222222222222222,
              "#7201a8"
             ],
             [
              0.3333333333333333,
              "#9c179e"
             ],
             [
              0.4444444444444444,
              "#bd3786"
             ],
             [
              0.5555555555555556,
              "#d8576b"
             ],
             [
              0.6666666666666666,
              "#ed7953"
             ],
             [
              0.7777777777777778,
              "#fb9f3a"
             ],
             [
              0.8888888888888888,
              "#fdca26"
             ],
             [
              1,
              "#f0f921"
             ]
            ],
            "type": "contour"
           }
          ],
          "contourcarpet": [
           {
            "colorbar": {
             "outlinewidth": 0,
             "ticks": ""
            },
            "type": "contourcarpet"
           }
          ],
          "heatmap": [
           {
            "colorbar": {
             "outlinewidth": 0,
             "ticks": ""
            },
            "colorscale": [
             [
              0,
              "#0d0887"
             ],
             [
              0.1111111111111111,
              "#46039f"
             ],
             [
              0.2222222222222222,
              "#7201a8"
             ],
             [
              0.3333333333333333,
              "#9c179e"
             ],
             [
              0.4444444444444444,
              "#bd3786"
             ],
             [
              0.5555555555555556,
              "#d8576b"
             ],
             [
              0.6666666666666666,
              "#ed7953"
             ],
             [
              0.7777777777777778,
              "#fb9f3a"
             ],
             [
              0.8888888888888888,
              "#fdca26"
             ],
             [
              1,
              "#f0f921"
             ]
            ],
            "type": "heatmap"
           }
          ],
          "heatmapgl": [
           {
            "colorbar": {
             "outlinewidth": 0,
             "ticks": ""
            },
            "colorscale": [
             [
              0,
              "#0d0887"
             ],
             [
              0.1111111111111111,
              "#46039f"
             ],
             [
              0.2222222222222222,
              "#7201a8"
             ],
             [
              0.3333333333333333,
              "#9c179e"
             ],
             [
              0.4444444444444444,
              "#bd3786"
             ],
             [
              0.5555555555555556,
              "#d8576b"
             ],
             [
              0.6666666666666666,
              "#ed7953"
             ],
             [
              0.7777777777777778,
              "#fb9f3a"
             ],
             [
              0.8888888888888888,
              "#fdca26"
             ],
             [
              1,
              "#f0f921"
             ]
            ],
            "type": "heatmapgl"
           }
          ],
          "histogram": [
           {
            "marker": {
             "pattern": {
              "fillmode": "overlay",
              "size": 10,
              "solidity": 0.2
             }
            },
            "type": "histogram"
           }
          ],
          "histogram2d": [
           {
            "colorbar": {
             "outlinewidth": 0,
             "ticks": ""
            },
            "colorscale": [
             [
              0,
              "#0d0887"
             ],
             [
              0.1111111111111111,
              "#46039f"
             ],
             [
              0.2222222222222222,
              "#7201a8"
             ],
             [
              0.3333333333333333,
              "#9c179e"
             ],
             [
              0.4444444444444444,
              "#bd3786"
             ],
             [
              0.5555555555555556,
              "#d8576b"
             ],
             [
              0.6666666666666666,
              "#ed7953"
             ],
             [
              0.7777777777777778,
              "#fb9f3a"
             ],
             [
              0.8888888888888888,
              "#fdca26"
             ],
             [
              1,
              "#f0f921"
             ]
            ],
            "type": "histogram2d"
           }
          ],
          "histogram2dcontour": [
           {
            "colorbar": {
             "outlinewidth": 0,
             "ticks": ""
            },
            "colorscale": [
             [
              0,
              "#0d0887"
             ],
             [
              0.1111111111111111,
              "#46039f"
             ],
             [
              0.2222222222222222,
              "#7201a8"
             ],
             [
              0.3333333333333333,
              "#9c179e"
             ],
             [
              0.4444444444444444,
              "#bd3786"
             ],
             [
              0.5555555555555556,
              "#d8576b"
             ],
             [
              0.6666666666666666,
              "#ed7953"
             ],
             [
              0.7777777777777778,
              "#fb9f3a"
             ],
             [
              0.8888888888888888,
              "#fdca26"
             ],
             [
              1,
              "#f0f921"
             ]
            ],
            "type": "histogram2dcontour"
           }
          ],
          "mesh3d": [
           {
            "colorbar": {
             "outlinewidth": 0,
             "ticks": ""
            },
            "type": "mesh3d"
           }
          ],
          "parcoords": [
           {
            "line": {
             "colorbar": {
              "outlinewidth": 0,
              "ticks": ""
             }
            },
            "type": "parcoords"
           }
          ],
          "pie": [
           {
            "automargin": true,
            "type": "pie"
           }
          ],
          "scatter": [
           {
            "fillpattern": {
             "fillmode": "overlay",
             "size": 10,
             "solidity": 0.2
            },
            "type": "scatter"
           }
          ],
          "scatter3d": [
           {
            "line": {
             "colorbar": {
              "outlinewidth": 0,
              "ticks": ""
             }
            },
            "marker": {
             "colorbar": {
              "outlinewidth": 0,
              "ticks": ""
             }
            },
            "type": "scatter3d"
           }
          ],
          "scattercarpet": [
           {
            "marker": {
             "colorbar": {
              "outlinewidth": 0,
              "ticks": ""
             }
            },
            "type": "scattercarpet"
           }
          ],
          "scattergeo": [
           {
            "marker": {
             "colorbar": {
              "outlinewidth": 0,
              "ticks": ""
             }
            },
            "type": "scattergeo"
           }
          ],
          "scattergl": [
           {
            "marker": {
             "colorbar": {
              "outlinewidth": 0,
              "ticks": ""
             }
            },
            "type": "scattergl"
           }
          ],
          "scattermapbox": [
           {
            "marker": {
             "colorbar": {
              "outlinewidth": 0,
              "ticks": ""
             }
            },
            "type": "scattermapbox"
           }
          ],
          "scatterpolar": [
           {
            "marker": {
             "colorbar": {
              "outlinewidth": 0,
              "ticks": ""
             }
            },
            "type": "scatterpolar"
           }
          ],
          "scatterpolargl": [
           {
            "marker": {
             "colorbar": {
              "outlinewidth": 0,
              "ticks": ""
             }
            },
            "type": "scatterpolargl"
           }
          ],
          "scatterternary": [
           {
            "marker": {
             "colorbar": {
              "outlinewidth": 0,
              "ticks": ""
             }
            },
            "type": "scatterternary"
           }
          ],
          "surface": [
           {
            "colorbar": {
             "outlinewidth": 0,
             "ticks": ""
            },
            "colorscale": [
             [
              0,
              "#0d0887"
             ],
             [
              0.1111111111111111,
              "#46039f"
             ],
             [
              0.2222222222222222,
              "#7201a8"
             ],
             [
              0.3333333333333333,
              "#9c179e"
             ],
             [
              0.4444444444444444,
              "#bd3786"
             ],
             [
              0.5555555555555556,
              "#d8576b"
             ],
             [
              0.6666666666666666,
              "#ed7953"
             ],
             [
              0.7777777777777778,
              "#fb9f3a"
             ],
             [
              0.8888888888888888,
              "#fdca26"
             ],
             [
              1,
              "#f0f921"
             ]
            ],
            "type": "surface"
           }
          ],
          "table": [
           {
            "cells": {
             "fill": {
              "color": "#EBF0F8"
             },
             "line": {
              "color": "white"
             }
            },
            "header": {
             "fill": {
              "color": "#C8D4E3"
             },
             "line": {
              "color": "white"
             }
            },
            "type": "table"
           }
          ]
         },
         "layout": {
          "annotationdefaults": {
           "arrowcolor": "#2a3f5f",
           "arrowhead": 0,
           "arrowwidth": 1
          },
          "autotypenumbers": "strict",
          "coloraxis": {
           "colorbar": {
            "outlinewidth": 0,
            "ticks": ""
           }
          },
          "colorscale": {
           "diverging": [
            [
             0,
             "#8e0152"
            ],
            [
             0.1,
             "#c51b7d"
            ],
            [
             0.2,
             "#de77ae"
            ],
            [
             0.3,
             "#f1b6da"
            ],
            [
             0.4,
             "#fde0ef"
            ],
            [
             0.5,
             "#f7f7f7"
            ],
            [
             0.6,
             "#e6f5d0"
            ],
            [
             0.7,
             "#b8e186"
            ],
            [
             0.8,
             "#7fbc41"
            ],
            [
             0.9,
             "#4d9221"
            ],
            [
             1,
             "#276419"
            ]
           ],
           "sequential": [
            [
             0,
             "#0d0887"
            ],
            [
             0.1111111111111111,
             "#46039f"
            ],
            [
             0.2222222222222222,
             "#7201a8"
            ],
            [
             0.3333333333333333,
             "#9c179e"
            ],
            [
             0.4444444444444444,
             "#bd3786"
            ],
            [
             0.5555555555555556,
             "#d8576b"
            ],
            [
             0.6666666666666666,
             "#ed7953"
            ],
            [
             0.7777777777777778,
             "#fb9f3a"
            ],
            [
             0.8888888888888888,
             "#fdca26"
            ],
            [
             1,
             "#f0f921"
            ]
           ],
           "sequentialminus": [
            [
             0,
             "#0d0887"
            ],
            [
             0.1111111111111111,
             "#46039f"
            ],
            [
             0.2222222222222222,
             "#7201a8"
            ],
            [
             0.3333333333333333,
             "#9c179e"
            ],
            [
             0.4444444444444444,
             "#bd3786"
            ],
            [
             0.5555555555555556,
             "#d8576b"
            ],
            [
             0.6666666666666666,
             "#ed7953"
            ],
            [
             0.7777777777777778,
             "#fb9f3a"
            ],
            [
             0.8888888888888888,
             "#fdca26"
            ],
            [
             1,
             "#f0f921"
            ]
           ]
          },
          "colorway": [
           "#636efa",
           "#EF553B",
           "#00cc96",
           "#ab63fa",
           "#FFA15A",
           "#19d3f3",
           "#FF6692",
           "#B6E880",
           "#FF97FF",
           "#FECB52"
          ],
          "font": {
           "color": "#2a3f5f"
          },
          "geo": {
           "bgcolor": "white",
           "lakecolor": "white",
           "landcolor": "#E5ECF6",
           "showlakes": true,
           "showland": true,
           "subunitcolor": "white"
          },
          "hoverlabel": {
           "align": "left"
          },
          "hovermode": "closest",
          "mapbox": {
           "style": "light"
          },
          "paper_bgcolor": "white",
          "plot_bgcolor": "#E5ECF6",
          "polar": {
           "angularaxis": {
            "gridcolor": "white",
            "linecolor": "white",
            "ticks": ""
           },
           "bgcolor": "#E5ECF6",
           "radialaxis": {
            "gridcolor": "white",
            "linecolor": "white",
            "ticks": ""
           }
          },
          "scene": {
           "xaxis": {
            "backgroundcolor": "#E5ECF6",
            "gridcolor": "white",
            "gridwidth": 2,
            "linecolor": "white",
            "showbackground": true,
            "ticks": "",
            "zerolinecolor": "white"
           },
           "yaxis": {
            "backgroundcolor": "#E5ECF6",
            "gridcolor": "white",
            "gridwidth": 2,
            "linecolor": "white",
            "showbackground": true,
            "ticks": "",
            "zerolinecolor": "white"
           },
           "zaxis": {
            "backgroundcolor": "#E5ECF6",
            "gridcolor": "white",
            "gridwidth": 2,
            "linecolor": "white",
            "showbackground": true,
            "ticks": "",
            "zerolinecolor": "white"
           }
          },
          "shapedefaults": {
           "line": {
            "color": "#2a3f5f"
           }
          },
          "ternary": {
           "aaxis": {
            "gridcolor": "white",
            "linecolor": "white",
            "ticks": ""
           },
           "baxis": {
            "gridcolor": "white",
            "linecolor": "white",
            "ticks": ""
           },
           "bgcolor": "#E5ECF6",
           "caxis": {
            "gridcolor": "white",
            "linecolor": "white",
            "ticks": ""
           }
          },
          "title": {
           "x": 0.05
          },
          "xaxis": {
           "automargin": true,
           "gridcolor": "white",
           "linecolor": "white",
           "ticks": "",
           "title": {
            "standoff": 15
           },
           "zerolinecolor": "white",
           "zerolinewidth": 2
          },
          "yaxis": {
           "automargin": true,
           "gridcolor": "white",
           "linecolor": "white",
           "ticks": "",
           "title": {
            "standoff": 15
           },
           "zerolinecolor": "white",
           "zerolinewidth": 2
          }
         }
        },
        "title": {
         "text": "Total amortized model development costs"
        },
        "width": 800,
        "xaxis": {
         "title": {
          "text": "Model"
         }
        },
        "yaxis": {
         "title": {
          "text": "Cost (2023 USD, log scale)"
         },
         "type": "log"
        }
       }
      }
     },
     "metadata": {},
     "output_type": "display_data"
    }
   ],
   "source": [
    "# Create a grouped bar chart with error bars\n",
    "fig = go.Figure()\n",
    "\n",
    "# Group 1\n",
    "for component in cost_component_names:\n",
    "    y_values = [np.median(cost_data[model][component]) for model in models[:3]]\n",
    "    y_lows = [np.percentile(cost_data[model][component], 2.5) for model in models[:3]]\n",
    "    y_highs = [np.percentile(cost_data[model][component], 97.5) for model in models[:3]]\n",
    "    print(component)\n",
    "    print(y_values, y_lows, y_highs)\n",
    "    fig.add_trace(go.Bar(\n",
    "        x=models[:3],\n",
    "        y=y_values,\n",
    "        error_y=dict(\n",
    "            type='data',\n",
    "            symmetric=False,  # Use asymmetric error bars\n",
    "            array=[y_highs[i] - y_values[i] for i in range(len(y_values))],  # Upper bounds of the error bars\n",
    "            arrayminus=[y_values[i] - y_lows[i] for i in range(len(y_values))],  # Lower bounds\n",
    "            visible=True  # Make error bars visible\n",
    "        ),\n",
    "        name=component\n",
    "    ))\n",
    "\n",
    "# log y axis\n",
    "fig.update_yaxes(type=\"log\")\n",
    "\n",
    "# Customize the layout\n",
    "fig.update_layout(\n",
    "    width=800,\n",
    "    height=600,\n",
    "    barmode='group',  # Group bars together\n",
    "    title='Total amortized model development costs',\n",
    "    xaxis=dict(\n",
    "        title='Model'\n",
    "    ),\n",
    "    yaxis=dict(\n",
    "        title='Cost (2023 USD, log scale)'\n",
    "    ),\n",
    ")\n",
    "\n",
    "save_plot(fig, results_dir, 'total_amortized_model_development_costs')\n",
    "\n",
    "# Show the plot\n",
    "fig.show()\n"
   ]
  },
  {
   "cell_type": "code",
   "execution_count": null,
   "metadata": {},
   "outputs": [],
   "source": []
  },
  {
   "cell_type": "code",
   "execution_count": null,
   "metadata": {},
   "outputs": [],
   "source": [
    "# Prepare data for Plotly\n",
    "categories = list(next(iter(cost_data_amortized_capex.values())).keys())\n",
    "models = [k for k in cost_data_amortized_capex.keys()] # if 'OPT' not in k]"
   ]
  },
  {
   "cell_type": "code",
   "execution_count": null,
   "metadata": {},
   "outputs": [
    {
     "data": {
      "text/plain": [
       "{'GPT-3': 33379451.611387417,\n",
       " 'OPT-175B': 4308245.886350512,\n",
       " 'GPT-4': 99964428.30665456,\n",
       " 'Gemini Ultra': 323638265.4492016}"
      ]
     },
     "execution_count": 45,
     "metadata": {},
     "output_type": "execute_result"
    }
   ],
   "source": [
    "total_costs = {model:sum([cost_data[model][category] for category in categories]) for model in models}\n",
    "total_costs"
   ]
  },
  {
   "cell_type": "code",
   "execution_count": null,
   "metadata": {},
   "outputs": [
    {
     "data": {
      "application/vnd.plotly.v1+json": {
       "config": {
        "plotlyServerURL": "https://plot.ly"
       },
       "data": [
        {
         "name": "GPU servers",
         "textposition": "auto",
         "type": "bar",
         "x": [
          "GPT-3",
          "OPT-175B",
          "GPT-4",
          "Gemini Ultra"
         ],
         "y": [
          63.21571070672135,
          29.057983400355663,
          34.073294348598374,
          32.29760650479889
         ]
        },
        {
         "name": "Other hardware",
         "textposition": "auto",
         "type": "bar",
         "x": [
          "GPT-3",
          "OPT-175B",
          "GPT-4",
          "Gemini Ultra"
         ],
         "y": [
          11.200635990989555,
          9.187194751729217,
          14.611395116094911,
          13.841831359199524
         ]
        },
        {
         "name": "Personnel",
         "textposition": "auto",
         "type": "bar",
         "x": [
          "GPT-3",
          "OPT-175B",
          "GPT-4",
          "Gemini Ultra"
         ],
         "y": [
          24.943612829224175,
          60.84665485299128,
          46.31353131774162,
          49.43791173084064
         ]
        },
        {
         "name": "Energy",
         "textposition": "auto",
         "type": "bar",
         "x": [
          "GPT-3",
          "OPT-175B",
          "GPT-4",
          "Gemini Ultra"
         ],
         "y": [
          0.6400404730649197,
          0.9081669949238539,
          5.001779217565088,
          4.4226504051609545
         ]
        }
       ],
       "layout": {
        "barmode": "stack",
        "height": 400,
        "legend": {
         "title": {
          "text": "Cost Components"
         }
        },
        "template": {
         "data": {
          "bar": [
           {
            "error_x": {
             "color": "#2a3f5f"
            },
            "error_y": {
             "color": "#2a3f5f"
            },
            "marker": {
             "line": {
              "color": "#E5ECF6",
              "width": 0.5
             },
             "pattern": {
              "fillmode": "overlay",
              "size": 10,
              "solidity": 0.2
             }
            },
            "type": "bar"
           }
          ],
          "barpolar": [
           {
            "marker": {
             "line": {
              "color": "#E5ECF6",
              "width": 0.5
             },
             "pattern": {
              "fillmode": "overlay",
              "size": 10,
              "solidity": 0.2
             }
            },
            "type": "barpolar"
           }
          ],
          "carpet": [
           {
            "aaxis": {
             "endlinecolor": "#2a3f5f",
             "gridcolor": "white",
             "linecolor": "white",
             "minorgridcolor": "white",
             "startlinecolor": "#2a3f5f"
            },
            "baxis": {
             "endlinecolor": "#2a3f5f",
             "gridcolor": "white",
             "linecolor": "white",
             "minorgridcolor": "white",
             "startlinecolor": "#2a3f5f"
            },
            "type": "carpet"
           }
          ],
          "choropleth": [
           {
            "colorbar": {
             "outlinewidth": 0,
             "ticks": ""
            },
            "type": "choropleth"
           }
          ],
          "contour": [
           {
            "colorbar": {
             "outlinewidth": 0,
             "ticks": ""
            },
            "colorscale": [
             [
              0,
              "#0d0887"
             ],
             [
              0.1111111111111111,
              "#46039f"
             ],
             [
              0.2222222222222222,
              "#7201a8"
             ],
             [
              0.3333333333333333,
              "#9c179e"
             ],
             [
              0.4444444444444444,
              "#bd3786"
             ],
             [
              0.5555555555555556,
              "#d8576b"
             ],
             [
              0.6666666666666666,
              "#ed7953"
             ],
             [
              0.7777777777777778,
              "#fb9f3a"
             ],
             [
              0.8888888888888888,
              "#fdca26"
             ],
             [
              1,
              "#f0f921"
             ]
            ],
            "type": "contour"
           }
          ],
          "contourcarpet": [
           {
            "colorbar": {
             "outlinewidth": 0,
             "ticks": ""
            },
            "type": "contourcarpet"
           }
          ],
          "heatmap": [
           {
            "colorbar": {
             "outlinewidth": 0,
             "ticks": ""
            },
            "colorscale": [
             [
              0,
              "#0d0887"
             ],
             [
              0.1111111111111111,
              "#46039f"
             ],
             [
              0.2222222222222222,
              "#7201a8"
             ],
             [
              0.3333333333333333,
              "#9c179e"
             ],
             [
              0.4444444444444444,
              "#bd3786"
             ],
             [
              0.5555555555555556,
              "#d8576b"
             ],
             [
              0.6666666666666666,
              "#ed7953"
             ],
             [
              0.7777777777777778,
              "#fb9f3a"
             ],
             [
              0.8888888888888888,
              "#fdca26"
             ],
             [
              1,
              "#f0f921"
             ]
            ],
            "type": "heatmap"
           }
          ],
          "heatmapgl": [
           {
            "colorbar": {
             "outlinewidth": 0,
             "ticks": ""
            },
            "colorscale": [
             [
              0,
              "#0d0887"
             ],
             [
              0.1111111111111111,
              "#46039f"
             ],
             [
              0.2222222222222222,
              "#7201a8"
             ],
             [
              0.3333333333333333,
              "#9c179e"
             ],
             [
              0.4444444444444444,
              "#bd3786"
             ],
             [
              0.5555555555555556,
              "#d8576b"
             ],
             [
              0.6666666666666666,
              "#ed7953"
             ],
             [
              0.7777777777777778,
              "#fb9f3a"
             ],
             [
              0.8888888888888888,
              "#fdca26"
             ],
             [
              1,
              "#f0f921"
             ]
            ],
            "type": "heatmapgl"
           }
          ],
          "histogram": [
           {
            "marker": {
             "pattern": {
              "fillmode": "overlay",
              "size": 10,
              "solidity": 0.2
             }
            },
            "type": "histogram"
           }
          ],
          "histogram2d": [
           {
            "colorbar": {
             "outlinewidth": 0,
             "ticks": ""
            },
            "colorscale": [
             [
              0,
              "#0d0887"
             ],
             [
              0.1111111111111111,
              "#46039f"
             ],
             [
              0.2222222222222222,
              "#7201a8"
             ],
             [
              0.3333333333333333,
              "#9c179e"
             ],
             [
              0.4444444444444444,
              "#bd3786"
             ],
             [
              0.5555555555555556,
              "#d8576b"
             ],
             [
              0.6666666666666666,
              "#ed7953"
             ],
             [
              0.7777777777777778,
              "#fb9f3a"
             ],
             [
              0.8888888888888888,
              "#fdca26"
             ],
             [
              1,
              "#f0f921"
             ]
            ],
            "type": "histogram2d"
           }
          ],
          "histogram2dcontour": [
           {
            "colorbar": {
             "outlinewidth": 0,
             "ticks": ""
            },
            "colorscale": [
             [
              0,
              "#0d0887"
             ],
             [
              0.1111111111111111,
              "#46039f"
             ],
             [
              0.2222222222222222,
              "#7201a8"
             ],
             [
              0.3333333333333333,
              "#9c179e"
             ],
             [
              0.4444444444444444,
              "#bd3786"
             ],
             [
              0.5555555555555556,
              "#d8576b"
             ],
             [
              0.6666666666666666,
              "#ed7953"
             ],
             [
              0.7777777777777778,
              "#fb9f3a"
             ],
             [
              0.8888888888888888,
              "#fdca26"
             ],
             [
              1,
              "#f0f921"
             ]
            ],
            "type": "histogram2dcontour"
           }
          ],
          "mesh3d": [
           {
            "colorbar": {
             "outlinewidth": 0,
             "ticks": ""
            },
            "type": "mesh3d"
           }
          ],
          "parcoords": [
           {
            "line": {
             "colorbar": {
              "outlinewidth": 0,
              "ticks": ""
             }
            },
            "type": "parcoords"
           }
          ],
          "pie": [
           {
            "automargin": true,
            "type": "pie"
           }
          ],
          "scatter": [
           {
            "fillpattern": {
             "fillmode": "overlay",
             "size": 10,
             "solidity": 0.2
            },
            "type": "scatter"
           }
          ],
          "scatter3d": [
           {
            "line": {
             "colorbar": {
              "outlinewidth": 0,
              "ticks": ""
             }
            },
            "marker": {
             "colorbar": {
              "outlinewidth": 0,
              "ticks": ""
             }
            },
            "type": "scatter3d"
           }
          ],
          "scattercarpet": [
           {
            "marker": {
             "colorbar": {
              "outlinewidth": 0,
              "ticks": ""
             }
            },
            "type": "scattercarpet"
           }
          ],
          "scattergeo": [
           {
            "marker": {
             "colorbar": {
              "outlinewidth": 0,
              "ticks": ""
             }
            },
            "type": "scattergeo"
           }
          ],
          "scattergl": [
           {
            "marker": {
             "colorbar": {
              "outlinewidth": 0,
              "ticks": ""
             }
            },
            "type": "scattergl"
           }
          ],
          "scattermapbox": [
           {
            "marker": {
             "colorbar": {
              "outlinewidth": 0,
              "ticks": ""
             }
            },
            "type": "scattermapbox"
           }
          ],
          "scatterpolar": [
           {
            "marker": {
             "colorbar": {
              "outlinewidth": 0,
              "ticks": ""
             }
            },
            "type": "scatterpolar"
           }
          ],
          "scatterpolargl": [
           {
            "marker": {
             "colorbar": {
              "outlinewidth": 0,
              "ticks": ""
             }
            },
            "type": "scatterpolargl"
           }
          ],
          "scatterternary": [
           {
            "marker": {
             "colorbar": {
              "outlinewidth": 0,
              "ticks": ""
             }
            },
            "type": "scatterternary"
           }
          ],
          "surface": [
           {
            "colorbar": {
             "outlinewidth": 0,
             "ticks": ""
            },
            "colorscale": [
             [
              0,
              "#0d0887"
             ],
             [
              0.1111111111111111,
              "#46039f"
             ],
             [
              0.2222222222222222,
              "#7201a8"
             ],
             [
              0.3333333333333333,
              "#9c179e"
             ],
             [
              0.4444444444444444,
              "#bd3786"
             ],
             [
              0.5555555555555556,
              "#d8576b"
             ],
             [
              0.6666666666666666,
              "#ed7953"
             ],
             [
              0.7777777777777778,
              "#fb9f3a"
             ],
             [
              0.8888888888888888,
              "#fdca26"
             ],
             [
              1,
              "#f0f921"
             ]
            ],
            "type": "surface"
           }
          ],
          "table": [
           {
            "cells": {
             "fill": {
              "color": "#EBF0F8"
             },
             "line": {
              "color": "white"
             }
            },
            "header": {
             "fill": {
              "color": "#C8D4E3"
             },
             "line": {
              "color": "white"
             }
            },
            "type": "table"
           }
          ]
         },
         "layout": {
          "annotationdefaults": {
           "arrowcolor": "#2a3f5f",
           "arrowhead": 0,
           "arrowwidth": 1
          },
          "autotypenumbers": "strict",
          "coloraxis": {
           "colorbar": {
            "outlinewidth": 0,
            "ticks": ""
           }
          },
          "colorscale": {
           "diverging": [
            [
             0,
             "#8e0152"
            ],
            [
             0.1,
             "#c51b7d"
            ],
            [
             0.2,
             "#de77ae"
            ],
            [
             0.3,
             "#f1b6da"
            ],
            [
             0.4,
             "#fde0ef"
            ],
            [
             0.5,
             "#f7f7f7"
            ],
            [
             0.6,
             "#e6f5d0"
            ],
            [
             0.7,
             "#b8e186"
            ],
            [
             0.8,
             "#7fbc41"
            ],
            [
             0.9,
             "#4d9221"
            ],
            [
             1,
             "#276419"
            ]
           ],
           "sequential": [
            [
             0,
             "#0d0887"
            ],
            [
             0.1111111111111111,
             "#46039f"
            ],
            [
             0.2222222222222222,
             "#7201a8"
            ],
            [
             0.3333333333333333,
             "#9c179e"
            ],
            [
             0.4444444444444444,
             "#bd3786"
            ],
            [
             0.5555555555555556,
             "#d8576b"
            ],
            [
             0.6666666666666666,
             "#ed7953"
            ],
            [
             0.7777777777777778,
             "#fb9f3a"
            ],
            [
             0.8888888888888888,
             "#fdca26"
            ],
            [
             1,
             "#f0f921"
            ]
           ],
           "sequentialminus": [
            [
             0,
             "#0d0887"
            ],
            [
             0.1111111111111111,
             "#46039f"
            ],
            [
             0.2222222222222222,
             "#7201a8"
            ],
            [
             0.3333333333333333,
             "#9c179e"
            ],
            [
             0.4444444444444444,
             "#bd3786"
            ],
            [
             0.5555555555555556,
             "#d8576b"
            ],
            [
             0.6666666666666666,
             "#ed7953"
            ],
            [
             0.7777777777777778,
             "#fb9f3a"
            ],
            [
             0.8888888888888888,
             "#fdca26"
            ],
            [
             1,
             "#f0f921"
            ]
           ]
          },
          "colorway": [
           "#636efa",
           "#EF553B",
           "#00cc96",
           "#ab63fa",
           "#FFA15A",
           "#19d3f3",
           "#FF6692",
           "#B6E880",
           "#FF97FF",
           "#FECB52"
          ],
          "font": {
           "color": "#2a3f5f"
          },
          "geo": {
           "bgcolor": "white",
           "lakecolor": "white",
           "landcolor": "#E5ECF6",
           "showlakes": true,
           "showland": true,
           "subunitcolor": "white"
          },
          "hoverlabel": {
           "align": "left"
          },
          "hovermode": "closest",
          "mapbox": {
           "style": "light"
          },
          "paper_bgcolor": "white",
          "plot_bgcolor": "#E5ECF6",
          "polar": {
           "angularaxis": {
            "gridcolor": "white",
            "linecolor": "white",
            "ticks": ""
           },
           "bgcolor": "#E5ECF6",
           "radialaxis": {
            "gridcolor": "white",
            "linecolor": "white",
            "ticks": ""
           }
          },
          "scene": {
           "xaxis": {
            "backgroundcolor": "#E5ECF6",
            "gridcolor": "white",
            "gridwidth": 2,
            "linecolor": "white",
            "showbackground": true,
            "ticks": "",
            "zerolinecolor": "white"
           },
           "yaxis": {
            "backgroundcolor": "#E5ECF6",
            "gridcolor": "white",
            "gridwidth": 2,
            "linecolor": "white",
            "showbackground": true,
            "ticks": "",
            "zerolinecolor": "white"
           },
           "zaxis": {
            "backgroundcolor": "#E5ECF6",
            "gridcolor": "white",
            "gridwidth": 2,
            "linecolor": "white",
            "showbackground": true,
            "ticks": "",
            "zerolinecolor": "white"
           }
          },
          "shapedefaults": {
           "line": {
            "color": "#2a3f5f"
           }
          },
          "ternary": {
           "aaxis": {
            "gridcolor": "white",
            "linecolor": "white",
            "ticks": ""
           },
           "baxis": {
            "gridcolor": "white",
            "linecolor": "white",
            "ticks": ""
           },
           "bgcolor": "#E5ECF6",
           "caxis": {
            "gridcolor": "white",
            "linecolor": "white",
            "ticks": ""
           }
          },
          "title": {
           "x": 0.05
          },
          "xaxis": {
           "automargin": true,
           "gridcolor": "white",
           "linecolor": "white",
           "ticks": "",
           "title": {
            "standoff": 15
           },
           "zerolinecolor": "white",
           "zerolinewidth": 2
          },
          "yaxis": {
           "automargin": true,
           "gridcolor": "white",
           "linecolor": "white",
           "ticks": "",
           "title": {
            "standoff": 15
           },
           "zerolinecolor": "white",
           "zerolinewidth": 2
          }
         }
        },
        "title": {
         "text": "Proportions of cost for experiments and training"
        },
        "width": 600,
        "xaxis": {
         "title": {
          "text": "Models"
         }
        },
        "yaxis": {
         "range": [
          0,
          100
         ],
         "title": {
          "text": "Proportion (%)"
         }
        }
       }
      }
     },
     "metadata": {},
     "output_type": "display_data"
    }
   ],
   "source": [
    "# Creating the figure\n",
    "fig = go.Figure()\n",
    "\n",
    "for category in ['GPU servers', 'Other hardware', 'Personnel', 'Energy']:\n",
    "    proportions = [cost_data_amortized_capex[model][category] / total_costs[model] * 100 for model in models]\n",
    "    fig.add_trace(go.Bar(\n",
    "        name=category,\n",
    "        x=list(models),\n",
    "        y=proportions,\n",
    "        # text=[human_format(cost_data[model][category]) for model in models],\n",
    "        # text=[f'{pp:.1f}%' for pp in proportions],\n",
    "        textposition='auto',\n",
    "    ))\n",
    "\n",
    "# y ticks\n",
    "fig.update_yaxes(range=[0, 100])\n",
    "\n",
    "# Update the layout\n",
    "fig.update_layout(\n",
    "    barmode='stack',\n",
    "    title='Proportions of cost for experiments and training',\n",
    "    xaxis_title='Models',\n",
    "    yaxis_title='Proportion (%)',\n",
    "    legend_title='Cost Components',\n",
    "    width=600,\n",
    "    height=400,\n",
    ")\n",
    "\n",
    "# Save plot\n",
    "save_plot(fig, results_dir, 'cost_proportions_stacked')\n",
    "\n",
    "# Show the figure\n",
    "fig.show()"
   ]
  },
  {
   "cell_type": "code",
   "execution_count": null,
   "metadata": {},
   "outputs": [],
   "source": []
  }
 ],
 "metadata": {
  "kernelspec": {
   "display_name": "epoch",
   "language": "python",
   "name": "python3"
  },
  "language_info": {
   "codemirror_mode": {
    "name": "ipython",
    "version": 3
   },
   "file_extension": ".py",
   "mimetype": "text/x-python",
   "name": "python",
   "nbconvert_exporter": "python",
   "pygments_lexer": "ipython3",
   "version": "3.11.4"
  }
 },
 "nbformat": 4,
 "nbformat_minor": 2
}
