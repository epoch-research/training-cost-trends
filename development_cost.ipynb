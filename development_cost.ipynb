{
 "cells": [
  {
   "cell_type": "markdown",
   "metadata": {},
   "source": [
    "# Setup"
   ]
  },
  {
   "cell_type": "code",
   "execution_count": 1,
   "metadata": {},
   "outputs": [],
   "source": [
    "from collections import defaultdict\n",
    "from datetime import datetime\n",
    "import json\n",
    "import numpy as np\n",
    "import os\n",
    "import pandas as pd\n",
    "import plotly.graph_objects as go\n",
    "from plotly.subplots import make_subplots\n",
    "\n",
    "from cost import *\n",
    "from data import *\n",
    "from energy import *\n",
    "from inflation import *\n",
    "from parameters import *\n",
    "from plotting import *\n",
    "from utils import *"
   ]
  },
  {
   "cell_type": "code",
   "execution_count": 2,
   "metadata": {},
   "outputs": [],
   "source": [
    "results_dir = f'results/development-costs/'\n",
    "os.makedirs(results_dir, exist_ok=True)"
   ]
  },
  {
   "cell_type": "markdown",
   "metadata": {},
   "source": [
    "Sample size for distributions"
   ]
  },
  {
   "cell_type": "code",
   "execution_count": 3,
   "metadata": {},
   "outputs": [],
   "source": [
    "N = 1000"
   ]
  },
  {
   "cell_type": "markdown",
   "metadata": {},
   "source": [
    "Cost of staff compensation\n",
    "- Use Google Software Engineer as the reference: https://web.archive.org/web/20240515221234/https://www.levels.fyi/companies/google/salaries/software-engineer/locations/san-francisco-bay-area?dma=807\n",
    "- Approximately 200K to 1.2M\n"
   ]
  },
  {
   "cell_type": "code",
   "execution_count": 4,
   "metadata": {},
   "outputs": [],
   "source": [
    "compensation_low = 2e5\n",
    "compensation_high = 1.2e6\n"
   ]
  },
  {
   "cell_type": "markdown",
   "metadata": {},
   "source": [
    "Apply 1.25 - 1.4 overhead factor for benefits, payroll, etc. https://www.sba.gov/blog/how-much-does-employee-cost-you "
   ]
  },
  {
   "cell_type": "code",
   "execution_count": 5,
   "metadata": {},
   "outputs": [],
   "source": [
    "compensation_overhead_low = 1.25\n",
    "compensation_overhead_high = 1.4"
   ]
  },
  {
   "cell_type": "code",
   "execution_count": 6,
   "metadata": {},
   "outputs": [],
   "source": [
    "cost_data = {}\n",
    "cost_data_with_hardware_acq = {}"
   ]
  },
  {
   "cell_type": "markdown",
   "metadata": {},
   "source": [
    "Default ratio of total experiment + training compute to final training run compute\n",
    "- Smaller versions of GPT-3 made up ~4.5e22 FLOP (based on the formula compute = 6 * parameters * tokens), compared to 175B using ~3e23 FLOP. See Table 2.1 of the [paper](https://arxiv.org/pdf/2005.14165). That's a factor of ~1.14 to go from 175B to total FLOP. Certainly more than that was needed due to failures and other experiments. So 1.2x seems like a good low-end estimate.\n",
    "- https://arxiv.org/pdf/2111.00364.pdf, p.3, Fig. 3 caption: \"At Facebook, we observe a rough power capacity breakdown of 10:20:70 for AI infrastructures devoted to the three key phases — Experimentation, Training, and Inference\". 10:20 ratio means a 1.5x multiplier from training to training+experiment compute. Note however that the \"training\" category is not just the final training run; it includes additional hyper-parameter tuning and retraining for some models. So the actual multiplier would be higher under our definition.\n",
    "- BLOOM project - https://arxiv.org/abs/2211.02001, p.8, Table 5. ~63% of compute was spent training smaller models than 176B. That's a multiplier of ~2.7x.\n",
    "- https://arxiv.org/abs/2205.01068: \"[...] OPT-175B was developed with an estimated carbon emissions footprint (CO2eq) of 75 tons [...] With ablations, baselines and downtime, our own estimates of total cost is roughly 2× higher.\"\n",
    "- We think the Facebook, BLOOM and OPT-175B cases are the more central examples as they account better for all experiments. A factor close to 2x seems like a reasonable median estimate.\n",
    "- On the high end, it's plausible that several, full iterations of the full-scale training run are necessary before success - say, 4x."
   ]
  },
  {
   "cell_type": "code",
   "execution_count": 7,
   "metadata": {},
   "outputs": [
    {
     "name": "stdout",
     "output_type": "stream",
     "text": [
      "Median: 2.2 [90% CI: 1.2, 3.9]\n"
     ]
    }
   ],
   "source": [
    "experiment_factor = lognorm_from_90_ci(1.2, 4, N)\n",
    "print_median_and_ci(experiment_factor)"
   ]
  },
  {
   "cell_type": "markdown",
   "metadata": {},
   "source": [
    "Uncertainty in energy prices"
   ]
  },
  {
   "cell_type": "code",
   "execution_count": 8,
   "metadata": {},
   "outputs": [
    {
     "data": {
      "text/plain": [
       "(1.727914785226352, 0.6247539654972791)"
      ]
     },
     "execution_count": 8,
     "metadata": {},
     "output_type": "execute_result"
    }
   ],
   "source": [
    "likely_datacenter_states = ['California', 'Nevada', 'Oregon', 'Washington']\n",
    "energy_prices = [US_STATE_ENERGY_PRICES_PER_KWH[state] for state in likely_datacenter_states]\n",
    "mean = np.mean(energy_prices)\n",
    "np.max(energy_prices) / mean, np.min(energy_prices) / mean"
   ]
  },
  {
   "cell_type": "code",
   "execution_count": 9,
   "metadata": {},
   "outputs": [],
   "source": [
    "energy_price_uncertainty_factor = lognorm_from_90_ci(0.6, 1.7, N)"
   ]
  },
  {
   "cell_type": "code",
   "execution_count": 10,
   "metadata": {},
   "outputs": [],
   "source": [
    "dt2float = lambda x: x.year + x.month/12 + x.day/365.25\n",
    "float2dt = lambda x: datetime(int(x), int((x-int(x))*12), int(((x-int(x))*12-int((x-int(x))*12))*365.25))"
   ]
  },
  {
   "cell_type": "code",
   "execution_count": 11,
   "metadata": {},
   "outputs": [],
   "source": [
    "frontier_pcd_df, hardware_df, price_df = load_data_for_cost_estimation(\n",
    "    compute_threshold_method='top_n', compute_threshold=10,\n",
    ")"
   ]
  },
  {
   "cell_type": "code",
   "execution_count": 12,
   "metadata": {},
   "outputs": [],
   "source": [
    "frontier_pcd_df['Publication date'] = pd.to_datetime(frontier_pcd_df['Publication date'])"
   ]
  },
  {
   "cell_type": "markdown",
   "metadata": {},
   "source": [
    "Models"
   ]
  },
  {
   "cell_type": "code",
   "execution_count": 13,
   "metadata": {},
   "outputs": [],
   "source": [
    "models = ['GPT-3 175B (davinci)', 'OPT-175B', 'GPT-4', 'Gemini Ultra']"
   ]
  },
  {
   "cell_type": "code",
   "execution_count": 14,
   "metadata": {},
   "outputs": [],
   "source": [
    "selected_model_df = frontier_pcd_df.loc[[s in models for s in frontier_pcd_df['System']]]"
   ]
  },
  {
   "cell_type": "markdown",
   "metadata": {},
   "source": [
    "## Hardware"
   ]
  },
  {
   "cell_type": "code",
   "execution_count": 15,
   "metadata": {},
   "outputs": [],
   "source": [
    "# Unset index\n",
    "selected_model_df.reset_index(inplace=True)"
   ]
  },
  {
   "cell_type": "code",
   "execution_count": 16,
   "metadata": {},
   "outputs": [
    {
     "name": "stderr",
     "output_type": "stream",
     "text": [
      "/var/folders/s2/stl5t_bn7xg9vdfxxr71rzrc0000gn/T/ipykernel_12686/1294256109.py:4: SettingWithCopyWarning: \n",
      "A value is trying to be set on a copy of a slice from a DataFrame.\n",
      "Try using .loc[row_indexer,col_indexer] = value instead\n",
      "\n",
      "See the caveats in the documentation: https://pandas.pydata.org/pandas-docs/stable/user_guide/indexing.html#returning-a-view-versus-a-copy\n",
      "  selected_model_df['Training chip-hours'] = selected_model_df.apply(_estimate_chip_hours, axis=1)\n"
     ]
    },
    {
     "data": {
      "text/plain": [
       "0    132000000.0\n",
       "1     57000000.0\n",
       "2       812544.0\n",
       "3      3552000.0\n",
       "Name: Training chip-hours, dtype: float64"
      ]
     },
     "execution_count": 16,
     "metadata": {},
     "output_type": "execute_result"
    }
   ],
   "source": [
    "def _estimate_chip_hours(row):\n",
    "    return estimate_chip_hours(row, hardware_df)\n",
    "\n",
    "selected_model_df['Training chip-hours'] = selected_model_df.apply(_estimate_chip_hours, axis=1)\n",
    "selected_model_df['Training chip-hours']"
   ]
  },
  {
   "cell_type": "code",
   "execution_count": 17,
   "metadata": {},
   "outputs": [
    {
     "name": "stdout",
     "output_type": "stream",
     "text": [
      "\n",
      "\n",
      "2.5th percentile of experiments time\n",
      "==== System: Gemini Ultra ====\n",
      "Estimated the value of Google TPU v4 server, available from 2021-05-20 00:00:00 and used from 2023-05-10 00:00:00: 10527.742991314644\n",
      "\n",
      "==== System: GPT-4 ====\n",
      "Estimated the value of NVIDIA A100 SXM4 40 GB server, available from 2020-08-12 00:00:00 and used from 2022-05-12 00:00:00: 14165.054738257799\n",
      "\n",
      "==== System: OPT-175B ====\n",
      "Estimated the value of NVIDIA A100 SXM4 80 GB server, available from 2021-02-14 00:00:00 and used from 2022-02-27 23:00:00: 17818.700400260856\n",
      "\n",
      "==== System: GPT-3 175B (davinci) ====\n",
      "Estimated the value of NVIDIA Tesla V100 DGXS 32 GB server, available from 2018-06-25 00:00:00 and used from 2019-10-01 00:00:00: 11463.61551009175\n",
      "\n",
      "==== System: Gemini Ultra ====\n",
      "Estimated cost: {'AI accelerator chip cost': 34478142.80448855, 'Other server components cost': 22066011.394872673, 'Cluster-level interconnect cost': 10743389.297878629, 'Energy cost': 3239961.0752525907}\n",
      "==== System: GPT-4 ====\n",
      "Estimated cost: {'AI accelerator chip cost': 19790808.27391076, 'Other server components cost': 13061933.460781101, 'Cluster-level interconnect cost': 6242020.929591452, 'Energy cost': 3872048.5335251903}\n",
      "==== System: OPT-175B ====\n",
      "Estimated cost: {'AI accelerator chip cost': 354889.6487534476, 'Other server components cost': 234227.16817727534, 'Cluster-level interconnect cost': 111932.19521683732, 'Energy cost': 50139.936655388425}\n",
      "==== System: GPT-3 175B (davinci) ====\n",
      "Estimated cost: {'AI accelerator chip cost': 980361.7777334974, 'Other server components cost': 676449.6266361132, 'Cluster-level interconnect cost': 314794.1668302259, 'Energy cost': 122878.61863086693}\n",
      "All costs:\n",
      "{'Gemini Ultra': {'AI accelerator chip cost': 34478142.80448855, 'Other server components cost': 22066011.394872673, 'Cluster-level interconnect cost': 10743389.297878629, 'Energy cost': 3239961.0752525907}, 'GPT-4': {'AI accelerator chip cost': 19790808.27391076, 'Other server components cost': 13061933.460781101, 'Cluster-level interconnect cost': 6242020.929591452, 'Energy cost': 3872048.5335251903}, 'OPT-175B': {'AI accelerator chip cost': 354889.6487534476, 'Other server components cost': 234227.16817727534, 'Cluster-level interconnect cost': 111932.19521683732, 'Energy cost': 50139.936655388425}, 'GPT-3 175B (davinci)': {'AI accelerator chip cost': 980361.7777334974, 'Other server components cost': 676449.6266361132, 'Cluster-level interconnect cost': 314794.1668302259, 'Energy cost': 122878.61863086693}}\n",
      "\n",
      "\n",
      "50th percentile of experiments time\n",
      "==== System: Gemini Ultra ====\n",
      "Estimated the value of Google TPU v4 server, available from 2021-05-20 00:00:00 and used from 2023-05-10 00:00:00: 10527.742991314644\n",
      "\n",
      "==== System: GPT-4 ====\n",
      "Estimated the value of NVIDIA A100 SXM4 40 GB server, available from 2020-08-12 00:00:00 and used from 2022-05-12 00:00:00: 14165.054738257799\n",
      "\n",
      "==== System: OPT-175B ====\n",
      "Estimated the value of NVIDIA A100 SXM4 80 GB server, available from 2021-02-14 00:00:00 and used from 2022-02-27 23:00:00: 17818.700400260856\n",
      "\n",
      "==== System: GPT-3 175B (davinci) ====\n",
      "Estimated the value of NVIDIA Tesla V100 DGXS 32 GB server, available from 2018-06-25 00:00:00 and used from 2019-10-01 00:00:00: 11463.61551009175\n",
      "\n",
      "==== System: Gemini Ultra ====\n",
      "Estimated cost: {'AI accelerator chip cost': 69366222.26971366, 'Other server components cost': 44394382.25261673, 'Cluster-level interconnect cost': 21614514.859242767, 'Energy cost': 6518444.492953759}\n",
      "==== System: GPT-4 ====\n",
      "Estimated cost: {'AI accelerator chip cost': 39816924.40367355, 'Other server components cost': 26279170.10642454, 'Cluster-level interconnect cost': 12558257.956918634, 'Energy cost': 7790134.774331893}\n",
      "==== System: OPT-175B ====\n",
      "Estimated cost: {'AI accelerator chip cost': 713998.8483790209, 'Other server components cost': 471239.2399301537, 'Cluster-level interconnect cost': 225195.23677874313, 'Energy cost': 100876.02485868958}\n",
      "==== System: GPT-3 175B (davinci) ====\n",
      "Estimated cost: {'AI accelerator chip cost': 1972379.8165294528, 'Other server components cost': 1360942.0734053222, 'Cluster-level interconnect cost': 633331.159087607, 'Energy cost': 247218.23389612624}\n",
      "All costs:\n",
      "{'Gemini Ultra': {'AI accelerator chip cost': 69366222.26971366, 'Other server components cost': 44394382.25261673, 'Cluster-level interconnect cost': 21614514.859242767, 'Energy cost': 6518444.492953759}, 'GPT-4': {'AI accelerator chip cost': 39816924.40367355, 'Other server components cost': 26279170.10642454, 'Cluster-level interconnect cost': 12558257.956918634, 'Energy cost': 7790134.774331893}, 'OPT-175B': {'AI accelerator chip cost': 713998.8483790209, 'Other server components cost': 471239.2399301537, 'Cluster-level interconnect cost': 225195.23677874313, 'Energy cost': 100876.02485868958}, 'GPT-3 175B (davinci)': {'AI accelerator chip cost': 1972379.8165294528, 'Other server components cost': 1360942.0734053222, 'Cluster-level interconnect cost': 633331.159087607, 'Energy cost': 247218.23389612624}}\n",
      "\n",
      "\n",
      "97.5th percentile of experiments time\n",
      "==== System: Gemini Ultra ====\n",
      "Estimated the value of Google TPU v4 server, available from 2021-05-20 00:00:00 and used from 2023-05-10 00:00:00: 10527.742991314644\n",
      "\n",
      "==== System: GPT-4 ====\n",
      "Estimated the value of NVIDIA A100 SXM4 40 GB server, available from 2020-08-12 00:00:00 and used from 2022-05-12 00:00:00: 14165.054738257799\n",
      "\n",
      "==== System: OPT-175B ====\n",
      "Estimated the value of NVIDIA A100 SXM4 80 GB server, available from 2021-02-14 00:00:00 and used from 2022-02-27 23:00:00: 17818.700400260856\n",
      "\n",
      "==== System: GPT-3 175B (davinci) ====\n",
      "Estimated the value of NVIDIA Tesla V100 DGXS 32 GB server, available from 2018-06-25 00:00:00 and used from 2019-10-01 00:00:00: 11463.61551009175\n",
      "\n",
      "==== System: Gemini Ultra ====\n",
      "Estimated cost: {'AI accelerator chip cost': 135222563.44291055, 'Other server components cost': 86542440.60346273, 'Cluster-level interconnect cost': 42135350.76881091, 'Energy cost': 12707060.36967478}\n",
      "==== System: GPT-4 ====\n",
      "Estimated cost: {'AI accelerator chip cost': 77619140.98972231, 'Other server components cost': 51228633.053216726, 'Cluster-level interconnect cost': 24481077.06815841, 'Energy cost': 15186094.316265643}\n",
      "==== System: OPT-175B ====\n",
      "Estimated cost: {'AI accelerator chip cost': 1391869.8671190555, 'Other server components cost': 918634.1122985764, 'Cluster-level interconnect cost': 438995.7560893499, 'Energy cost': 196647.79520908862}\n",
      "==== System: GPT-3 175B (davinci) ====\n",
      "Estimated cost: {'AI accelerator chip cost': 3844958.628958232, 'Other server components cost': 2653021.4539811797, 'Cluster-level interconnect cost': 1234616.2157584878, 'Energy cost': 481927.40246514836}\n",
      "All costs:\n",
      "{'Gemini Ultra': {'AI accelerator chip cost': 135222563.44291055, 'Other server components cost': 86542440.60346273, 'Cluster-level interconnect cost': 42135350.76881091, 'Energy cost': 12707060.36967478}, 'GPT-4': {'AI accelerator chip cost': 77619140.98972231, 'Other server components cost': 51228633.053216726, 'Cluster-level interconnect cost': 24481077.06815841, 'Energy cost': 15186094.316265643}, 'OPT-175B': {'AI accelerator chip cost': 1391869.8671190555, 'Other server components cost': 918634.1122985764, 'Cluster-level interconnect cost': 438995.7560893499, 'Energy cost': 196647.79520908862}, 'GPT-3 175B (davinci)': {'AI accelerator chip cost': 3844958.628958232, 'Other server components cost': 2653021.4539811797, 'Cluster-level interconnect cost': 1234616.2157584878, 'Energy cost': 481927.40246514836}}\n"
     ]
    },
    {
     "name": "stderr",
     "output_type": "stream",
     "text": [
      "/var/folders/s2/stl5t_bn7xg9vdfxxr71rzrc0000gn/T/ipykernel_12686/2848712251.py:1: SettingWithCopyWarning: \n",
      "A value is trying to be set on a copy of a slice from a DataFrame.\n",
      "Try using .loc[row_indexer,col_indexer] = value instead\n",
      "\n",
      "See the caveats in the documentation: https://pandas.pydata.org/pandas-docs/stable/user_guide/indexing.html#returning-a-view-versus-a-copy\n",
      "  selected_model_df.loc[:, 'Original training chip-hours'] = selected_model_df.loc[:, 'Training chip-hours']\n",
      "/var/folders/s2/stl5t_bn7xg9vdfxxr71rzrc0000gn/T/ipykernel_12686/2848712251.py:13: SettingWithCopyWarning: \n",
      "A value is trying to be set on a copy of a slice from a DataFrame.\n",
      "Try using .loc[row_indexer,col_indexer] = value instead\n",
      "\n",
      "See the caveats in the documentation: https://pandas.pydata.org/pandas-docs/stable/user_guide/indexing.html#returning-a-view-versus-a-copy\n",
      "  selected_model_df.loc[:, 'Training chip-hours'] = selected_model_df.loc[:, 'Original training chip-hours'] * experiment_factor_value\n",
      "/Users/bencottier/Projects/training_cost_2/training-cost-trends/cost.py:329: SettingWithCopyWarning: \n",
      "A value is trying to be set on a copy of a slice from a DataFrame.\n",
      "Try using .loc[row_indexer,col_indexer] = value instead\n",
      "\n",
      "See the caveats in the documentation: https://pandas.pydata.org/pandas-docs/stable/user_guide/indexing.html#returning-a-view-versus-a-copy\n",
      "  frontier_pcd_df[k] = frontier_pcd_df['System'].map(system_to_component_cost)\n",
      "/Users/bencottier/Projects/training_cost_2/training-cost-trends/cost.py:329: SettingWithCopyWarning: \n",
      "A value is trying to be set on a copy of a slice from a DataFrame.\n",
      "Try using .loc[row_indexer,col_indexer] = value instead\n",
      "\n",
      "See the caveats in the documentation: https://pandas.pydata.org/pandas-docs/stable/user_guide/indexing.html#returning-a-view-versus-a-copy\n",
      "  frontier_pcd_df[k] = frontier_pcd_df['System'].map(system_to_component_cost)\n",
      "/Users/bencottier/Projects/training_cost_2/training-cost-trends/cost.py:329: SettingWithCopyWarning: \n",
      "A value is trying to be set on a copy of a slice from a DataFrame.\n",
      "Try using .loc[row_indexer,col_indexer] = value instead\n",
      "\n",
      "See the caveats in the documentation: https://pandas.pydata.org/pandas-docs/stable/user_guide/indexing.html#returning-a-view-versus-a-copy\n",
      "  frontier_pcd_df[k] = frontier_pcd_df['System'].map(system_to_component_cost)\n",
      "/Users/bencottier/Projects/training_cost_2/training-cost-trends/cost.py:329: SettingWithCopyWarning: \n",
      "A value is trying to be set on a copy of a slice from a DataFrame.\n",
      "Try using .loc[row_indexer,col_indexer] = value instead\n",
      "\n",
      "See the caveats in the documentation: https://pandas.pydata.org/pandas-docs/stable/user_guide/indexing.html#returning-a-view-versus-a-copy\n",
      "  frontier_pcd_df[k] = frontier_pcd_df['System'].map(system_to_component_cost)\n",
      "/Users/bencottier/Projects/training_cost_2/training-cost-trends/cost.py:330: SettingWithCopyWarning: \n",
      "A value is trying to be set on a copy of a slice from a DataFrame.\n",
      "Try using .loc[row_indexer,col_indexer] = value instead\n",
      "\n",
      "See the caveats in the documentation: https://pandas.pydata.org/pandas-docs/stable/user_guide/indexing.html#returning-a-view-versus-a-copy\n",
      "  frontier_pcd_df['Cost'] = frontier_pcd_df[cost_component_names].sum(axis=1)\n",
      "/var/folders/s2/stl5t_bn7xg9vdfxxr71rzrc0000gn/T/ipykernel_12686/2848712251.py:13: SettingWithCopyWarning: \n",
      "A value is trying to be set on a copy of a slice from a DataFrame.\n",
      "Try using .loc[row_indexer,col_indexer] = value instead\n",
      "\n",
      "See the caveats in the documentation: https://pandas.pydata.org/pandas-docs/stable/user_guide/indexing.html#returning-a-view-versus-a-copy\n",
      "  selected_model_df.loc[:, 'Training chip-hours'] = selected_model_df.loc[:, 'Original training chip-hours'] * experiment_factor_value\n",
      "/Users/bencottier/Projects/training_cost_2/training-cost-trends/cost.py:329: SettingWithCopyWarning: \n",
      "A value is trying to be set on a copy of a slice from a DataFrame.\n",
      "Try using .loc[row_indexer,col_indexer] = value instead\n",
      "\n",
      "See the caveats in the documentation: https://pandas.pydata.org/pandas-docs/stable/user_guide/indexing.html#returning-a-view-versus-a-copy\n",
      "  frontier_pcd_df[k] = frontier_pcd_df['System'].map(system_to_component_cost)\n",
      "/Users/bencottier/Projects/training_cost_2/training-cost-trends/cost.py:329: SettingWithCopyWarning: \n",
      "A value is trying to be set on a copy of a slice from a DataFrame.\n",
      "Try using .loc[row_indexer,col_indexer] = value instead\n",
      "\n",
      "See the caveats in the documentation: https://pandas.pydata.org/pandas-docs/stable/user_guide/indexing.html#returning-a-view-versus-a-copy\n",
      "  frontier_pcd_df[k] = frontier_pcd_df['System'].map(system_to_component_cost)\n",
      "/Users/bencottier/Projects/training_cost_2/training-cost-trends/cost.py:329: SettingWithCopyWarning: \n",
      "A value is trying to be set on a copy of a slice from a DataFrame.\n",
      "Try using .loc[row_indexer,col_indexer] = value instead\n",
      "\n",
      "See the caveats in the documentation: https://pandas.pydata.org/pandas-docs/stable/user_guide/indexing.html#returning-a-view-versus-a-copy\n",
      "  frontier_pcd_df[k] = frontier_pcd_df['System'].map(system_to_component_cost)\n",
      "/Users/bencottier/Projects/training_cost_2/training-cost-trends/cost.py:329: SettingWithCopyWarning: \n",
      "A value is trying to be set on a copy of a slice from a DataFrame.\n",
      "Try using .loc[row_indexer,col_indexer] = value instead\n",
      "\n",
      "See the caveats in the documentation: https://pandas.pydata.org/pandas-docs/stable/user_guide/indexing.html#returning-a-view-versus-a-copy\n",
      "  frontier_pcd_df[k] = frontier_pcd_df['System'].map(system_to_component_cost)\n",
      "/Users/bencottier/Projects/training_cost_2/training-cost-trends/cost.py:330: SettingWithCopyWarning: \n",
      "A value is trying to be set on a copy of a slice from a DataFrame.\n",
      "Try using .loc[row_indexer,col_indexer] = value instead\n",
      "\n",
      "See the caveats in the documentation: https://pandas.pydata.org/pandas-docs/stable/user_guide/indexing.html#returning-a-view-versus-a-copy\n",
      "  frontier_pcd_df['Cost'] = frontier_pcd_df[cost_component_names].sum(axis=1)\n",
      "/var/folders/s2/stl5t_bn7xg9vdfxxr71rzrc0000gn/T/ipykernel_12686/2848712251.py:13: SettingWithCopyWarning: \n",
      "A value is trying to be set on a copy of a slice from a DataFrame.\n",
      "Try using .loc[row_indexer,col_indexer] = value instead\n",
      "\n",
      "See the caveats in the documentation: https://pandas.pydata.org/pandas-docs/stable/user_guide/indexing.html#returning-a-view-versus-a-copy\n",
      "  selected_model_df.loc[:, 'Training chip-hours'] = selected_model_df.loc[:, 'Original training chip-hours'] * experiment_factor_value\n",
      "/Users/bencottier/Projects/training_cost_2/training-cost-trends/cost.py:329: SettingWithCopyWarning: \n",
      "A value is trying to be set on a copy of a slice from a DataFrame.\n",
      "Try using .loc[row_indexer,col_indexer] = value instead\n",
      "\n",
      "See the caveats in the documentation: https://pandas.pydata.org/pandas-docs/stable/user_guide/indexing.html#returning-a-view-versus-a-copy\n",
      "  frontier_pcd_df[k] = frontier_pcd_df['System'].map(system_to_component_cost)\n",
      "/Users/bencottier/Projects/training_cost_2/training-cost-trends/cost.py:329: SettingWithCopyWarning: \n",
      "A value is trying to be set on a copy of a slice from a DataFrame.\n",
      "Try using .loc[row_indexer,col_indexer] = value instead\n",
      "\n",
      "See the caveats in the documentation: https://pandas.pydata.org/pandas-docs/stable/user_guide/indexing.html#returning-a-view-versus-a-copy\n",
      "  frontier_pcd_df[k] = frontier_pcd_df['System'].map(system_to_component_cost)\n",
      "/Users/bencottier/Projects/training_cost_2/training-cost-trends/cost.py:329: SettingWithCopyWarning: \n",
      "A value is trying to be set on a copy of a slice from a DataFrame.\n",
      "Try using .loc[row_indexer,col_indexer] = value instead\n",
      "\n",
      "See the caveats in the documentation: https://pandas.pydata.org/pandas-docs/stable/user_guide/indexing.html#returning-a-view-versus-a-copy\n",
      "  frontier_pcd_df[k] = frontier_pcd_df['System'].map(system_to_component_cost)\n",
      "/Users/bencottier/Projects/training_cost_2/training-cost-trends/cost.py:329: SettingWithCopyWarning: \n",
      "A value is trying to be set on a copy of a slice from a DataFrame.\n",
      "Try using .loc[row_indexer,col_indexer] = value instead\n",
      "\n",
      "See the caveats in the documentation: https://pandas.pydata.org/pandas-docs/stable/user_guide/indexing.html#returning-a-view-versus-a-copy\n",
      "  frontier_pcd_df[k] = frontier_pcd_df['System'].map(system_to_component_cost)\n",
      "/Users/bencottier/Projects/training_cost_2/training-cost-trends/cost.py:330: SettingWithCopyWarning: \n",
      "A value is trying to be set on a copy of a slice from a DataFrame.\n",
      "Try using .loc[row_indexer,col_indexer] = value instead\n",
      "\n",
      "See the caveats in the documentation: https://pandas.pydata.org/pandas-docs/stable/user_guide/indexing.html#returning-a-view-versus-a-copy\n",
      "  frontier_pcd_df['Cost'] = frontier_pcd_df[cost_component_names].sum(axis=1)\n"
     ]
    },
    {
     "data": {
      "text/plain": [
       "defaultdict(dict,\n",
       "            {'GPT-3 175B (davinci)': {'2.5': {'AI accelerator chip cost': 980361.7777334974,\n",
       "               'Other server components cost': 676449.6266361132,\n",
       "               'Cluster-level interconnect cost': 314794.1668302259,\n",
       "               'Energy cost': 122878.61863086693},\n",
       "              '50': {'AI accelerator chip cost': 1972379.8165294528,\n",
       "               'Other server components cost': 1360942.0734053222,\n",
       "               'Cluster-level interconnect cost': 633331.159087607,\n",
       "               'Energy cost': 247218.23389612624},\n",
       "              '97.5': {'AI accelerator chip cost': 3844958.628958232,\n",
       "               'Other server components cost': 2653021.4539811797,\n",
       "               'Cluster-level interconnect cost': 1234616.2157584878,\n",
       "               'Energy cost': 481927.40246514836}},\n",
       "             'OPT-175B': {'2.5': {'AI accelerator chip cost': 354889.6487534476,\n",
       "               'Other server components cost': 234227.16817727534,\n",
       "               'Cluster-level interconnect cost': 111932.19521683732,\n",
       "               'Energy cost': 50139.936655388425},\n",
       "              '50': {'AI accelerator chip cost': 713998.8483790209,\n",
       "               'Other server components cost': 471239.2399301537,\n",
       "               'Cluster-level interconnect cost': 225195.23677874313,\n",
       "               'Energy cost': 100876.02485868958},\n",
       "              '97.5': {'AI accelerator chip cost': 1391869.8671190555,\n",
       "               'Other server components cost': 918634.1122985764,\n",
       "               'Cluster-level interconnect cost': 438995.7560893499,\n",
       "               'Energy cost': 196647.79520908862}},\n",
       "             'GPT-4': {'2.5': {'AI accelerator chip cost': 19790808.27391076,\n",
       "               'Other server components cost': 13061933.460781101,\n",
       "               'Cluster-level interconnect cost': 6242020.929591452,\n",
       "               'Energy cost': 3872048.5335251903},\n",
       "              '50': {'AI accelerator chip cost': 39816924.40367355,\n",
       "               'Other server components cost': 26279170.10642454,\n",
       "               'Cluster-level interconnect cost': 12558257.956918634,\n",
       "               'Energy cost': 7790134.774331893},\n",
       "              '97.5': {'AI accelerator chip cost': 77619140.98972231,\n",
       "               'Other server components cost': 51228633.053216726,\n",
       "               'Cluster-level interconnect cost': 24481077.06815841,\n",
       "               'Energy cost': 15186094.316265643}},\n",
       "             'Gemini Ultra': {'2.5': {'AI accelerator chip cost': 34478142.80448855,\n",
       "               'Other server components cost': 22066011.394872673,\n",
       "               'Cluster-level interconnect cost': 10743389.297878629,\n",
       "               'Energy cost': 3239961.0752525907},\n",
       "              '50': {'AI accelerator chip cost': 69366222.26971366,\n",
       "               'Other server components cost': 44394382.25261673,\n",
       "               'Cluster-level interconnect cost': 21614514.859242767,\n",
       "               'Energy cost': 6518444.492953759},\n",
       "              '97.5': {'AI accelerator chip cost': 135222563.44291055,\n",
       "               'Other server components cost': 86542440.60346273,\n",
       "               'Cluster-level interconnect cost': 42135350.76881091,\n",
       "               'Energy cost': 12707060.36967478}}})"
      ]
     },
     "execution_count": 17,
     "metadata": {},
     "output_type": "execute_result"
    }
   ],
   "source": [
    "selected_model_df.loc[:, 'Original training chip-hours'] = selected_model_df.loc[:, 'Training chip-hours']\n",
    "hardware_costs = defaultdict(dict)\n",
    "cost_component_names = [\n",
    "    'AI accelerator chip cost',\n",
    "    'Other server components cost',\n",
    "    'Cluster-level interconnect cost',\n",
    "    'Energy cost',\n",
    "]\n",
    "\n",
    "for percentile in [2.5, 50, 97.5]:\n",
    "    print(f'\\n\\n{percentile}th percentile of experiments time')\n",
    "    experiment_factor_value = np.percentile(experiment_factor, percentile)\n",
    "    selected_model_df.loc[:, 'Training chip-hours'] = selected_model_df.loc[:, 'Original training chip-hours'] * experiment_factor_value\n",
    "    cost_df = estimate_hardware_capex_energy(selected_model_df, hardware_df, price_df, separate_components=True)\n",
    "    cost_df = cost_df.set_index('System', inplace=False)\n",
    "\n",
    "    for model in models:\n",
    "        cost_components = {}\n",
    "        for cost_component_name in cost_component_names:\n",
    "            cost_components[cost_component_name] = cost_df.loc[model, cost_component_name]\n",
    "        hardware_costs[model][str(percentile)] = cost_components\n",
    "\n",
    "hardware_costs"
   ]
  },
  {
   "cell_type": "markdown",
   "metadata": {},
   "source": [
    "# GPT-3"
   ]
  },
  {
   "cell_type": "markdown",
   "metadata": {},
   "source": [
    "## Project duration"
   ]
  },
  {
   "cell_type": "markdown",
   "metadata": {},
   "source": [
    "Training end time\n",
    "1. Shevlane (2022)\n",
    "https://uploads-ssl.webflow.com/614b70a71b9f71c9c240c7a7/6262a1a55526a373cc93207d_Shevlane%20dissertation%20preprint.pdf\n",
    "p.66 of the PDF: A senior member of OpenAI (specified anonymously on p.27 of the PDF) \n",
    "told the author \"GPT-3 existed for a long time before the paper came out. We delayed the \n",
    "paper. [...] But it's months, it doesn't really count.\"\n",
    "p.67 of the PDF: CAMERON said \"Firstly, [the idea for a commercial API for GPT-3] \n",
    "started out as a research API. It probably was . . . early January 2020.\"\n",
    "\n",
    "1. We think it plausibly could have been produced soon after the Microsoft deal was \n",
    "announced in July 2019. Supposing the announcement coincided with Microsoft giving \n",
    "OpenAI access to the necessary compute, and OpenAI already having almost everything \n",
    "about GPT-3 planned in advance, and it took less than 1 month to train, then GPT-3 could \n",
    "have been produced in August 2019.\n",
    "\n",
    "1. So we estimate August to January as our 90% CI, and halfway between (October) as the\n",
    "central estimate."
   ]
  },
  {
   "cell_type": "code",
   "execution_count": 18,
   "metadata": {},
   "outputs": [],
   "source": [
    "training_end_low = datetime(2019, 8, 1)\n",
    "training_end_high = datetime(2020, 1, 1)"
   ]
  },
  {
   "cell_type": "markdown",
   "metadata": {},
   "source": [
    "\n",
    "Project start time\n",
    "- Lower bound on start time: when GPT-2 was published, 2019-Feb-14\n",
    "  - It could have been earlier than this, but that seems unlikely unless GPT-2 was delayed for months\n",
    "  - The scaling laws paper was only published in January 2020, and GPT-3 was based on the findings of that paper\n",
    "- Upper bound on start time: 2019-Nov-01, two months before the upper bound on training completion\n",
    "  - We think they’d need six weeks at the absolute minimum, to prepare training data and scale up the experiments successfully\n"
   ]
  },
  {
   "cell_type": "code",
   "execution_count": 19,
   "metadata": {},
   "outputs": [],
   "source": [
    "project_start_low = datetime(2019, 2, 14)\n",
    "project_start_high = datetime(2019, 11, 1)\n"
   ]
  },
  {
   "cell_type": "code",
   "execution_count": 20,
   "metadata": {},
   "outputs": [
    {
     "data": {
      "text/plain": [
       "numpy.datetime64('2020-05-28T00:00:00.000000000')"
      ]
     },
     "execution_count": 20,
     "metadata": {},
     "output_type": "execute_result"
    }
   ],
   "source": [
    "publication_date = frontier_pcd_df.loc[frontier_pcd_df['System'] == 'GPT-3 175B (davinci)', 'Publication date'].values[0]\n",
    "publication_date"
   ]
  },
  {
   "cell_type": "code",
   "execution_count": 21,
   "metadata": {},
   "outputs": [
    {
     "name": "stdout",
     "output_type": "stream",
     "text": [
      "Median: 4.3 [90% CI: 0.97, 8.9]\n",
      "Median: 8.4 [90% CI: 4, 13]\n"
     ]
    }
   ],
   "source": [
    "min_project_duration = 15 / 365  # training duration\n",
    "experiments_duration = []\n",
    "while len(experiments_duration) < N:\n",
    "    project_start_sample = lognorm_from_90_ci(dt2float(project_start_low), dt2float(project_start_high), 1)[0]\n",
    "    training_end_sample = lognorm_from_90_ci(dt2float(training_end_low), dt2float(training_end_high), 1)[0]\n",
    "    experiment_duration_sample = training_end_sample - project_start_sample\n",
    "    if experiment_duration_sample > min_project_duration:\n",
    "        experiments_duration.append(experiment_duration_sample)\n",
    "\n",
    "project_duration = []\n",
    "while len(project_duration) < N:\n",
    "    project_start_sample = lognorm_from_90_ci(dt2float(project_start_low), dt2float(project_start_high), 1)[0]\n",
    "    # Paper was delayed by \"months\"\n",
    "    publication_delay_sample = lognorm_from_90_ci(2*30, 4*30, 1)[0]\n",
    "    project_end_sample = dt2float(publication_date - pd.to_timedelta(publication_delay_sample, unit='D'))\n",
    "    project_duration_sample = project_end_sample - project_start_sample\n",
    "    if project_duration_sample > min_project_duration:\n",
    "        project_duration.append(project_duration_sample)\n",
    "\n",
    "experiments_duration = np.array(experiments_duration)\n",
    "project_duration = np.array(project_duration)\n",
    "print_median_and_ci(experiments_duration * 12)  # convert years to months\n",
    "print_median_and_ci(project_duration * 12)"
   ]
  },
  {
   "cell_type": "markdown",
   "metadata": {},
   "source": [
    "## Energy"
   ]
  },
  {
   "cell_type": "markdown",
   "metadata": {},
   "source": [
    "Total energy consumption of training: 1287 MWh ([Patterson et al. 2021](https://arxiv.org/abs/2104.10350), Table 4)"
   ]
  },
  {
   "cell_type": "code",
   "execution_count": 22,
   "metadata": {},
   "outputs": [
    {
     "name": "stdout",
     "output_type": "stream",
     "text": [
      "Median: 1.9e+05 [90% CI: 8.8e+04, 4.2e+05]\n"
     ]
    }
   ],
   "source": [
    "energy_consumption_kwh = 1287e3 * experiment_factor\n",
    "price_per_kwh = energy_price(2020) * energy_price_uncertainty_factor\n",
    "energy_cost = energy_consumption_kwh * price_per_kwh\n",
    "print_median_and_ci(energy_cost)"
   ]
  },
  {
   "cell_type": "markdown",
   "metadata": {},
   "source": [
    "## Personnel"
   ]
  },
  {
   "cell_type": "code",
   "execution_count": 23,
   "metadata": {},
   "outputs": [],
   "source": [
    "total_salaries = np.zeros(N)\n",
    "num_authors = 31\n",
    "num_contributors = 25  # counting listed contributors in paper\n",
    "for i in range(N):\n",
    "    ftes = lognorm_from_90_ci(0.05, 0.8, num_contributors)\n",
    "    salary = lognorm_from_90_ci(compensation_low, compensation_high, num_contributors)\n",
    "    salary *= ftes\n",
    "    salary *= lognorm_from_90_ci(compensation_overhead_low, compensation_overhead_high, num_contributors)\n",
    "    total_salaries[i] = salary.sum()"
   ]
  },
  {
   "cell_type": "code",
   "execution_count": 24,
   "metadata": {},
   "outputs": [],
   "source": [
    "personnel_cost = total_salaries * project_duration"
   ]
  },
  {
   "cell_type": "code",
   "execution_count": 25,
   "metadata": {},
   "outputs": [
    {
     "name": "stdout",
     "output_type": "stream",
     "text": [
      "Median: 3.5e+06 [95% CI: 1.2e+06, 7.2e+06]\n"
     ]
    }
   ],
   "source": [
    "print_median_and_ci(personnel_cost, ci=[2.5, 97.5])"
   ]
  },
  {
   "cell_type": "markdown",
   "metadata": {},
   "source": [
    "## Overall"
   ]
  },
  {
   "cell_type": "code",
   "execution_count": 26,
   "metadata": {},
   "outputs": [
    {
     "data": {
      "text/plain": [
       "{'AI accelerator chip cost': 980361.7777334974,\n",
       " 'Other server components cost': 676449.6266361132,\n",
       " 'Cluster-level interconnect cost': 314794.1668302259,\n",
       " 'Energy cost': 122878.61863086693}"
      ]
     },
     "execution_count": 26,
     "metadata": {},
     "output_type": "execute_result"
    }
   ],
   "source": [
    "hardware_costs['GPT-3 175B (davinci)']['2.5']"
   ]
  },
  {
   "cell_type": "code",
   "execution_count": 27,
   "metadata": {},
   "outputs": [],
   "source": [
    "def get_hardware_cost_dist(model, component, ci=[2.5, 97.5]):\n",
    "    return lognorm_from_ci(\n",
    "        hardware_costs[model][str(ci[0])][component],\n",
    "        hardware_costs[model][str(ci[1])][component],\n",
    "        ci[1] - ci[0],\n",
    "        N\n",
    "    )"
   ]
  },
  {
   "cell_type": "code",
   "execution_count": 28,
   "metadata": {},
   "outputs": [],
   "source": [
    "cost_data['GPT-3 175B (davinci)'] = {\n",
    "    'AI accelerator chip cost': get_hardware_cost_dist('GPT-3 175B (davinci)', 'AI accelerator chip cost'),\n",
    "    'Other server components cost': get_hardware_cost_dist('GPT-3 175B (davinci)', 'Other server components cost'),\n",
    "    'Cluster-level interconnect cost': get_hardware_cost_dist('GPT-3 175B (davinci)', 'Cluster-level interconnect cost'),\n",
    "    'Energy cost': energy_cost,\n",
    "    'R&D staff cost': personnel_cost,\n",
    "}"
   ]
  },
  {
   "cell_type": "markdown",
   "metadata": {},
   "source": [
    "# OPT-175B"
   ]
  },
  {
   "cell_type": "markdown",
   "metadata": {},
   "source": [
    "## Energy"
   ]
  },
  {
   "cell_type": "markdown",
   "metadata": {},
   "source": [
    "https://arxiv.org/abs/2205.01068: \"[...] OPT-175B was developed with an estimated carbon emissions footprint (CO2eq) of 75 tons [...] With ablations, baselines and downtime, our own estimates of total cost is roughly 2× higher.\"\n",
    "\n",
    "- I haven't found numbers for carbon intensity, or how they calculate it\n",
    "- According to https://arxiv.org/pdf/2104.10350.pdf (Table 1), Gross CO2e/KWh (kg/KWh) for the “Google Iowa Council Bluffs” data center in 2020 was 0.478 CO2e/kWh (kg/kWh)\n",
    "- Energy use:\n",
    "  - 992 A100 GPU units\n",
    "  - 300W per unit (https://www.nvidia.com/en-us/data-center/a100/)\n",
    "  - Training time 33 days (https://github.com/facebookresearch/metaseq/blob/d703cf1ae1e0faaff6c20629398dfbe02b98cf77/projects/OPT/chronicles/final_update.md)\n",
    "  - Energy = 992 units * 0.3 kW/unit * 33 days * 24h/day ~= 236000 kWh\n",
    "  - 75000 kg / 236000 kWh ~= 0.318 CO2e/kWh (kg/kWh)\n",
    "  - Sanity check: this is not far from the Google data center gross carbon intensity of 0.478 reported by [Patterson et al. (2021)](https://arxiv.org/abs/2104.10350)"
   ]
  },
  {
   "cell_type": "code",
   "execution_count": 29,
   "metadata": {},
   "outputs": [
    {
     "name": "stdout",
     "output_type": "stream",
     "text": [
      "Median: 4.3e+04 [95% CI: 1.7e+04, 1.1e+05]\n"
     ]
    }
   ],
   "source": [
    "training_time_hours = 33 * 24\n",
    "power_per_gpu = 0.3\n",
    "num_gpus = 992\n",
    "energy_consumption_kwh = training_time_hours * num_gpus * power_per_gpu * experiment_factor\n",
    "price_per_kwh = energy_price(2022) * energy_price_uncertainty_factor\n",
    "energy_cost = energy_consumption_kwh * price_per_kwh\n",
    "print_median_and_ci(energy_cost, ci=[2.5, 97.5])"
   ]
  },
  {
   "cell_type": "markdown",
   "metadata": {},
   "source": [
    "## Personnel"
   ]
  },
  {
   "cell_type": "markdown",
   "metadata": {},
   "source": [
    "2021-Oct-20: First date in [OPT logbook](https://github.com/facebookresearch/metaseq/blob/main/projects/OPT/chronicles/OPT175B_Logbook.pdf)\n",
    "\n",
    "2022-Jan-06: Date in the logbook where the final training run is stated to have completed\n",
    "\n",
    "2022-May-02: Publication on arxiv"
   ]
  },
  {
   "cell_type": "code",
   "execution_count": 30,
   "metadata": {},
   "outputs": [],
   "source": [
    "project_duration = 192 / DAYS_PER_YEAR"
   ]
  },
  {
   "cell_type": "code",
   "execution_count": 31,
   "metadata": {},
   "outputs": [],
   "source": [
    "num_authors = 19\n",
    "num_contributors = num_authors"
   ]
  },
  {
   "cell_type": "code",
   "execution_count": 32,
   "metadata": {},
   "outputs": [],
   "source": [
    "total_salaries = np.zeros(N)\n",
    "for i in range(N):\n",
    "    ftes = lognorm_from_90_ci(0.05, 0.8, num_contributors)\n",
    "    salary = lognorm_from_90_ci(compensation_low, compensation_high, num_contributors)\n",
    "    salary *= ftes\n",
    "    salary *= lognorm_from_90_ci(compensation_overhead_low, compensation_overhead_high, num_contributors)\n",
    "    total_salaries[i] = salary.sum()"
   ]
  },
  {
   "cell_type": "code",
   "execution_count": 33,
   "metadata": {},
   "outputs": [],
   "source": [
    "personnel_cost = total_salaries * project_duration"
   ]
  },
  {
   "cell_type": "code",
   "execution_count": 34,
   "metadata": {},
   "outputs": [
    {
     "name": "stdout",
     "output_type": "stream",
     "text": [
      "Median: 2e+06 [95% CI: 1.2e+06, 3.5e+06]\n"
     ]
    }
   ],
   "source": [
    "print_median_and_ci(personnel_cost, ci=[2.5, 97.5])"
   ]
  },
  {
   "cell_type": "markdown",
   "metadata": {},
   "source": [
    "## Overall"
   ]
  },
  {
   "cell_type": "code",
   "execution_count": 35,
   "metadata": {},
   "outputs": [],
   "source": [
    "cost_data['OPT-175B'] = {\n",
    "    'AI accelerator chip cost': get_hardware_cost_dist('OPT-175B', 'AI accelerator chip cost'),\n",
    "    'Other server components cost': get_hardware_cost_dist('OPT-175B', 'Other server components cost'),\n",
    "    'Cluster-level interconnect cost': get_hardware_cost_dist('OPT-175B', 'Cluster-level interconnect cost'),\n",
    "    'Energy cost': energy_cost,\n",
    "    'R&D staff cost': personnel_cost,\n",
    "}"
   ]
  },
  {
   "cell_type": "markdown",
   "metadata": {},
   "source": [
    "# GPT-4"
   ]
  },
  {
   "cell_type": "markdown",
   "metadata": {},
   "source": [
    "## Project duration"
   ]
  },
  {
   "cell_type": "markdown",
   "metadata": {},
   "source": [
    "https://arxiv.org/abs/2303.08774\n",
    "\"This system card analyzes GPT-4 [...] Since it finished training in August of 2022 [...]\""
   ]
  },
  {
   "cell_type": "code",
   "execution_count": 36,
   "metadata": {},
   "outputs": [],
   "source": [
    "training_end_low = datetime(2022, 8, 1)\n",
    "training_end_high = datetime(2022, 8, 31)"
   ]
  },
  {
   "cell_type": "markdown",
   "metadata": {},
   "source": [
    "Project start time\n",
    "- We know they started training GPT-3.5 about one year before [announcement](https://openai.com/index/gpt-4-research/) in March 2023, and then trained GPT-4 after that. They built new infrastructure/codebase for and GPT-3.5 was a test run. Maybe some research experiments were going on for a few months in total prior to that.\n",
    "- Indirect source that final training run of GPT-4 took about three months: [SemiAnalysis](https://www.semianalysis.com/p/gpt-4-architecture-infrastructure). So would have started at the end of May at the latest.\n"
   ]
  },
  {
   "cell_type": "code",
   "execution_count": 37,
   "metadata": {},
   "outputs": [],
   "source": [
    "project_start_low = datetime(2022, 1, 1)\n",
    "project_start_high = datetime(2022, 5, 31)"
   ]
  },
  {
   "cell_type": "code",
   "execution_count": 38,
   "metadata": {},
   "outputs": [
    {
     "data": {
      "text/plain": [
       "numpy.datetime64('2023-03-15T00:00:00.000000000')"
      ]
     },
     "execution_count": 38,
     "metadata": {},
     "output_type": "execute_result"
    }
   ],
   "source": [
    "publication_date = frontier_pcd_df.loc[frontier_pcd_df['System'] == 'GPT-4', 'Publication date'].values[0]\n",
    "publication_date"
   ]
  },
  {
   "cell_type": "code",
   "execution_count": 39,
   "metadata": {},
   "outputs": [
    {
     "name": "stdout",
     "output_type": "stream",
     "text": [
      "Median: 5.3 [90% CI: 3.4, 7.5]\n",
      "Median: 12 [90% CI: 9.5, 14]\n"
     ]
    }
   ],
   "source": [
    "min_project_duration = 90 / 365  # training duration\n",
    "experiments_duration = []\n",
    "while len(experiments_duration) < N:\n",
    "    project_start_sample = lognorm_from_90_ci(dt2float(project_start_low), dt2float(project_start_high), 1)[0]\n",
    "    training_end_sample = lognorm_from_90_ci(dt2float(training_end_low), dt2float(training_end_high), 1)[0]\n",
    "    experiment_duration_sample = training_end_sample - project_start_sample\n",
    "    if experiment_duration_sample > min_project_duration:\n",
    "        experiments_duration.append(experiment_duration_sample)\n",
    "\n",
    "project_duration = []\n",
    "while len(project_duration) < N:\n",
    "    project_start_sample = lognorm_from_90_ci(dt2float(project_start_low), dt2float(project_start_high), 1)[0]\n",
    "    # Technical report said six months was spent on safety research, risk assessment, and iteration,\n",
    "    # which covers the time from the end of training to publication\n",
    "    project_duration_sample = dt2float(pd.to_datetime(publication_date)) - project_start_sample\n",
    "    if project_duration_sample > min_project_duration:\n",
    "        project_duration.append(project_duration_sample)\n",
    "\n",
    "experiments_duration = np.array(experiments_duration)\n",
    "project_duration = np.array(project_duration)\n",
    "print_median_and_ci(experiments_duration * 12)  # convert years to months\n",
    "print_median_and_ci(project_duration * 12)"
   ]
  },
  {
   "cell_type": "markdown",
   "metadata": {},
   "source": [
    "## Energy"
   ]
  },
  {
   "cell_type": "code",
   "execution_count": 40,
   "metadata": {},
   "outputs": [
    {
     "name": "stdout",
     "output_type": "stream",
     "text": [
      "Median: 7.6e+06 [95% CI: 3e+06, 1.9e+07]\n"
     ]
    }
   ],
   "source": [
    "energy_cost = get_hardware_cost_dist('GPT-4', 'Energy cost') * energy_price_uncertainty_factor\n",
    "print_median_and_ci(energy_cost, ci=[2.5, 97.5])"
   ]
  },
  {
   "cell_type": "markdown",
   "metadata": {},
   "source": [
    "## Personnel"
   ]
  },
  {
   "cell_type": "code",
   "execution_count": 41,
   "metadata": {},
   "outputs": [
    {
     "data": {
      "text/plain": [
       "{'Pretraining': {'Core contributors': ['Christopher Berner',\n",
       "   'Greg Brockman',\n",
       "   'Trevor Cai',\n",
       "   'David Farhi',\n",
       "   'Chris Hesse',\n",
       "   'Shantanu Jain',\n",
       "   'Kyle Kosic',\n",
       "   'Jakub Pachocki',\n",
       "   'Alex Paino',\n",
       "   'Mikhail Pavlov',\n",
       "   'Michael Petrov',\n",
       "   'Nick Ryder',\n",
       "   'Szymon Sidor',\n",
       "   'Nikolas Tezak',\n",
       "   'Phil Tillet',\n",
       "   'Amin Tootoonchian',\n",
       "   'Qiming Yuan',\n",
       "   'Wojciech Zaremba'],\n",
       "  'Compute cluster scaling': ['Christopher Berner',\n",
       "   'Oleg Boiko',\n",
       "   'Andrew Cann',\n",
       "   'Ben Chess',\n",
       "   'Christian Gibson',\n",
       "   'Mateusz Litwin',\n",
       "   'Emy Parparita',\n",
       "   'Henri Roussez',\n",
       "   'Eric Sigler',\n",
       "   'Akila Welihinda'],\n",
       "  'Data': ['Sandhini Agarwal',\n",
       "   'Suchir Balaji',\n",
       "   'Mo Bavarian',\n",
       "   'Che Chang',\n",
       "   'Sheila Dunning',\n",
       "   'Leo Gao',\n",
       "   'Jonathan Gordon',\n",
       "   'Peter Hoeschele',\n",
       "   'Shawn Jain',\n",
       "   'Shantanu Jain',\n",
       "   'Roger Jiang',\n",
       "   'Heewoo Jun',\n",
       "   'Łukasz Kaiser',\n",
       "   'Nitish Shirish Keskar',\n",
       "   'Jong Wook Kim',\n",
       "   'Aris Konstantinidis',\n",
       "   'Chak Ming Li',\n",
       "   'Todor Markov',\n",
       "   'Bianca Martin',\n",
       "   'David Mély',\n",
       "   'Oleg Murk',\n",
       "   'Hyeonwoo Noh',\n",
       "   'Long Ouyang',\n",
       "   'Alex Paino',\n",
       "   'Vitchyr Pong',\n",
       "   'Alec Radford',\n",
       "   'Nick Ryder',\n",
       "   'John Schulman',\n",
       "   'Daniel Selsam',\n",
       "   'Ian Sohl',\n",
       "   'Chelsea Voss',\n",
       "   'Lilian Weng',\n",
       "   'Clemens Winter',\n",
       "   'Tao Xu',\n",
       "   'Qiming Yuan',\n",
       "   'Wojciech Zaremba'],\n",
       "  'Distributed training infrastructure': ['Greg Brockman',\n",
       "   'Trevor Cai',\n",
       "   'Chris Hesse',\n",
       "   'Shantanu Jain',\n",
       "   'Yongjik Kim',\n",
       "   'Kyle Kosic',\n",
       "   'Mateusz Litwin',\n",
       "   'Jakub Pachocki',\n",
       "   'Mikhail Pavlov',\n",
       "   'Szymon Sidor',\n",
       "   'Nikolas Tezak',\n",
       "   'Madeleine Thompson',\n",
       "   'Amin Tootoonchian',\n",
       "   'Qiming Yuan'],\n",
       "  'Hardware correctness': ['Greg Brockman',\n",
       "   'Shantanu Jain',\n",
       "   'Kyle Kosic',\n",
       "   'Michael Petrov',\n",
       "   'Nikolas Tezak',\n",
       "   'Amin Tootoonchian',\n",
       "   'Chelsea Voss',\n",
       "   'Qiming Yuan'],\n",
       "  'Optimization & architecture': ['Igor Babuschkin',\n",
       "   'Mo Bavarian',\n",
       "   'Adrien Ecoffet',\n",
       "   'David Farhi',\n",
       "   'Jesse Han',\n",
       "   'Ingmar Kanitscheider',\n",
       "   'Daniel Levy',\n",
       "   'Jakub Pachocki',\n",
       "   'Alex Paino',\n",
       "   'Mikhail Pavlov',\n",
       "   'Nick Ryder',\n",
       "   'Szymon Sidor',\n",
       "   'Jie Tang',\n",
       "   'Jerry Tworek',\n",
       "   'Tao Xu'],\n",
       "  'Training run babysitting': ['Suchir Balaji',\n",
       "   'Mo Bavarian',\n",
       "   'Greg Brockman',\n",
       "   'Trevor Cai',\n",
       "   'Chris Hesse',\n",
       "   'Shantanu Jain',\n",
       "   'Roger Jiang',\n",
       "   'Yongjik Kim',\n",
       "   'Kyle Kosic',\n",
       "   'Mateusz Litwin',\n",
       "   'Jakub Pachocki',\n",
       "   'Alex Paino',\n",
       "   'Mikhail Pavlov',\n",
       "   'Michael Petrov',\n",
       "   'Nick Ryder',\n",
       "   'Szymon Sidor',\n",
       "   'Nikolas Tezak',\n",
       "   'Madeleine Thompson',\n",
       "   'Phil Tillet',\n",
       "   'Amin Tootoonchian',\n",
       "   'Chelsea Voss',\n",
       "   'Ben Wang',\n",
       "   'Tao Xu',\n",
       "   'Qiming Yuan']},\n",
       " 'Long context': {'Core contributors': ['Gabriel Goh',\n",
       "   'Łukasz Kaiser',\n",
       "   'Ben Wang',\n",
       "   'Clemens Winter'],\n",
       "  'Long context research': ['Mo Bavarian',\n",
       "   'Gabriel Goh',\n",
       "   'Heewoo Jun',\n",
       "   'Łukasz Kaiser',\n",
       "   'Chak Ming Li',\n",
       "   'Ben Wang',\n",
       "   'Clemens Winter'],\n",
       "  'Long context kernels': ['Phil Tillet']},\n",
       " 'Vision': {'Core contributors': ['Trevor Cai',\n",
       "   'Mark Chen',\n",
       "   'Casey Chu',\n",
       "   'Chris Hesse',\n",
       "   'Shengli Hu',\n",
       "   'Yongjik Kim',\n",
       "   'Jamie Kiros',\n",
       "   'Daniel Levy',\n",
       "   'Christine McLeavey',\n",
       "   'David Mély',\n",
       "   'Hyeonwoo Noh',\n",
       "   'Mikhail Pavlov',\n",
       "   'Raul Puri',\n",
       "   'Amin Tootoonchian'],\n",
       "  'Architecture research': ['Casey Chu',\n",
       "   'Jamie Kiros',\n",
       "   'Christine McLeavey',\n",
       "   'Hyeonwoo Noh',\n",
       "   'Raul Puri',\n",
       "   'Alec Radford',\n",
       "   'Aditya Ramesh'],\n",
       "  'Compute cluster scaling': ['Andrew Cann',\n",
       "   'Rory Carmichael',\n",
       "   'Christian Gibson',\n",
       "   'Henri Roussez',\n",
       "   'Akila Welihinda'],\n",
       "  'Distributed training infrastructure': ['Trevor Cai',\n",
       "   'Yunxing Dai',\n",
       "   'Chris Hesse',\n",
       "   'Brandon Houghton',\n",
       "   'Yongjik Kim',\n",
       "   'Łukasz Kondraciuk',\n",
       "   'Hyeonwoo Noh',\n",
       "   'Mikhail Pavlov',\n",
       "   'Raul Puri',\n",
       "   'Nikolas Tezak',\n",
       "   'Amin Tootoonchian',\n",
       "   'Tianhao Zheng'],\n",
       "  'Hardware correctness': ['Oleg Boiko',\n",
       "   'Trevor Cai',\n",
       "   'Michael Petrov',\n",
       "   'Alethea Power'],\n",
       "  'Data': ['Jong Wook Kim',\n",
       "   'David Mély',\n",
       "   'Reiichiro Nakano',\n",
       "   'Hyeonwoo Noh',\n",
       "   'Long Ouyang',\n",
       "   'Raul Puri',\n",
       "   'Pranav Shyam',\n",
       "   'Tao Xu'],\n",
       "  'Alignment data': ['Long Ouyang'],\n",
       "  'Training run babysitting': ['Trevor Cai',\n",
       "   'Kyle Kosic',\n",
       "   'Daniel Levy',\n",
       "   'David Mély',\n",
       "   'Reiichiro Nakano',\n",
       "   'Hyeonwoo Noh',\n",
       "   'Mikhail Pavlov',\n",
       "   'Raul Puri',\n",
       "   'Amin Tootoonchian'],\n",
       "  'Deployment & post-training': ['Ilge Akkaya',\n",
       "   'Mark Chen',\n",
       "   'Jamie Kiros',\n",
       "   'Rachel Lim',\n",
       "   'Reiichiro Nakano',\n",
       "   'Raul Puri',\n",
       "   'Jiayi Weng']},\n",
       " 'Reinforcement Learning & Alignment': {'Core contributors': ['Greg Brockman',\n",
       "   'Arka Dhar',\n",
       "   'Liam Fedus',\n",
       "   'Tarun Gogineni',\n",
       "   'Rapha Gontijo-Lopes',\n",
       "   'Joshua Gross',\n",
       "   'Johannes Heidecke',\n",
       "   'Joost Huizinga',\n",
       "   'Teddy Lee',\n",
       "   'Jan Leike',\n",
       "   'Ryan Lowe',\n",
       "   'Luke Metz',\n",
       "   'Long Ouyang',\n",
       "   'John Schulman',\n",
       "   'Jerry Tworek',\n",
       "   'Carroll Wainwright',\n",
       "   'Jonathan Ward',\n",
       "   'Jiayi Weng',\n",
       "   'Sarah Yoo',\n",
       "   'Wojciech Zaremba',\n",
       "   'Chong Zhang',\n",
       "   'Shengjia Zhao',\n",
       "   'Barret Zoph'],\n",
       "  'Dataset contributions': ['Diogo Almeida',\n",
       "   'Mo Bavarian',\n",
       "   'Juan Felipe Cerón Uribe',\n",
       "   'Tyna Eloundou',\n",
       "   'Liam Fedus',\n",
       "   'Tarun Gogineni',\n",
       "   'Rapha Gontijo-Lopes',\n",
       "   'Jonathan Gordon',\n",
       "   'Joost Huizinga',\n",
       "   'Shawn Jain',\n",
       "   'Roger Jiang',\n",
       "   'Łukasz Kaiser',\n",
       "   'Christina Kim',\n",
       "   'Jan Leike',\n",
       "   'Chak Ming Li',\n",
       "   'Stephanie Lin',\n",
       "   'Ryan Lowe',\n",
       "   'Jacob Menick',\n",
       "   'Luke Metz',\n",
       "   'Pamela Mishkin',\n",
       "   'Tong Mu',\n",
       "   'Oleg Murk',\n",
       "   'Ashvin Nair',\n",
       "   'Long Ouyang',\n",
       "   'Alex Passos',\n",
       "   'Michael (Rai) Pokorny',\n",
       "   'Vitchyr Pong',\n",
       "   'Shibani Santurkar',\n",
       "   'Daniel Selsam',\n",
       "   'Sarah Shoker',\n",
       "   'Carroll Wainwright',\n",
       "   'Matt Wiethoff',\n",
       "   'Jeff Wu',\n",
       "   'Kai Xiao',\n",
       "   'Kevin Yu',\n",
       "   'Marvin Zhang',\n",
       "   'Chong Zhang',\n",
       "   'William Zhuk',\n",
       "   'Barret Zoph'],\n",
       "  'Data infrastructure': ['Irwan Bello',\n",
       "   'Lenny Bogdonoff',\n",
       "   'Juan Felipe Cerón Uribe',\n",
       "   'Joshua Gross',\n",
       "   'Shawn Jain',\n",
       "   'Haozhun Jin',\n",
       "   'Christina Kim',\n",
       "   'Aris Konstantinidis',\n",
       "   'Teddy Lee',\n",
       "   'David Medina',\n",
       "   'Jacob Menick',\n",
       "   'Luke Metz',\n",
       "   'Ashvin Nair',\n",
       "   'Long Ouyang',\n",
       "   'Michael (Rai) Pokorny',\n",
       "   'Vitchyr Pong',\n",
       "   'John Schulman',\n",
       "   'Jonathan Ward',\n",
       "   'Jiayi Weng',\n",
       "   'Matt Wiethoff',\n",
       "   'Sarah Yoo',\n",
       "   'Kevin Yu',\n",
       "   'Wojciech Zaremba',\n",
       "   'William Zhuk',\n",
       "   'Barret Zoph'],\n",
       "  'ChatML format': ['Ilge Akkaya',\n",
       "   'Christina Kim',\n",
       "   'Chak Ming Li',\n",
       "   'Rachel Lim',\n",
       "   'Jacob Menick',\n",
       "   'Luke Metz',\n",
       "   'Andrey Mishchenko',\n",
       "   'Vitchyr Pong',\n",
       "   'John Schulman',\n",
       "   'Carroll Wainwright',\n",
       "   'Barret Zoph'],\n",
       "  'Model safety': ['Josh Achiam',\n",
       "   'Steven Adler',\n",
       "   'Juan Felipe Cerón Uribe',\n",
       "   'Hyung Won Chung',\n",
       "   'Tyna Eloundou',\n",
       "   'Rapha Gontijo-Lopes',\n",
       "   'Shixiang Shane Gu',\n",
       "   'Johannes Heidecke',\n",
       "   'Joost Huizinga',\n",
       "   'Teddy Lee',\n",
       "   'Jan Leike',\n",
       "   'Stephanie Lin',\n",
       "   'Ryan Lowe',\n",
       "   'Todor Markov',\n",
       "   'Luke Metz',\n",
       "   'Tong Mu',\n",
       "   'Shibani Santurkar',\n",
       "   'John Schulman',\n",
       "   'Andrea Vallone',\n",
       "   'Carroll Wainwright',\n",
       "   'Jason Wei',\n",
       "   'Lilian Weng',\n",
       "   'Kai Xiao',\n",
       "   'Chong Zhang',\n",
       "   'Marvin Zhang',\n",
       "   'Barret Zoph'],\n",
       "  'Refusals': ['Juan Felipe Cerón Uribe',\n",
       "   'Tyna Eloundou',\n",
       "   'Johannes Heidecke',\n",
       "   'Joost Huizinga',\n",
       "   'Jan Leike',\n",
       "   'Stephanie Lin',\n",
       "   'Ryan Lowe',\n",
       "   'Pamela Mishkin',\n",
       "   'Tong Mu',\n",
       "   'Carroll Wainwright',\n",
       "   'Lilian Weng',\n",
       "   'Kai Xiao',\n",
       "   'Chong Zhang',\n",
       "   'Barret Zoph'],\n",
       "  'Foundational RLHF and InstructGPT work': ['Diogo Almeida',\n",
       "   'Joost Huizinga',\n",
       "   'Roger Jiang',\n",
       "   'Jan Leike',\n",
       "   'Stephanie Lin',\n",
       "   'Ryan Lowe',\n",
       "   'Pamela Mishkin',\n",
       "   'Dan Mossing',\n",
       "   'Long Ouyang',\n",
       "   'Katarina Slama',\n",
       "   'Carroll Wainwright',\n",
       "   'Jeff Wu',\n",
       "   'Kai Xiao',\n",
       "   'Marvin Zhang'],\n",
       "  'Flagship training runs': ['Greg Brockman',\n",
       "   'Liam Fedus',\n",
       "   'Johannes Heidecke',\n",
       "   'Joost Huizinga',\n",
       "   'Roger Jiang',\n",
       "   'Kyle Kosic',\n",
       "   'Luke Metz',\n",
       "   'Ashvin Nair',\n",
       "   'Jiayi Weng',\n",
       "   'Chong Zhang',\n",
       "   'Shengjia Zhao',\n",
       "   'Barret Zoph'],\n",
       "  'Code capability': ['Ilge Akkaya',\n",
       "   'Mo Bavarian',\n",
       "   'Jonathan Gordon',\n",
       "   'Shawn Jain',\n",
       "   'Haozhun Jin',\n",
       "   'Teddy Lee',\n",
       "   'Chak Ming Li',\n",
       "   'Oleg Murk',\n",
       "   'Ashvin Nair',\n",
       "   'Vitchyr Pong',\n",
       "   'Benjamin Sokolowsky',\n",
       "   'Jerry Tworek',\n",
       "   'Matt Wiethoff',\n",
       "   'Sarah Yoo',\n",
       "   'Kevin Yu',\n",
       "   'Wojciech Zaremba',\n",
       "   'William Zhuk']},\n",
       " 'Evaluation & analysis': {'Core contributors': ['Sandhini Agarwal',\n",
       "   'Lama Ahmad',\n",
       "   'Mo Bavarian',\n",
       "   'Tyna Eloundou',\n",
       "   'Andrew Kondrich',\n",
       "   'Gretchen Krueger',\n",
       "   'Michael Lampe',\n",
       "   'Pamela Mishkin',\n",
       "   'Benjamin Sokolowsky',\n",
       "   'Jack Rae',\n",
       "   'Chelsea Voss',\n",
       "   'Alvin Wang',\n",
       "   'Kai Xiao',\n",
       "   'Marvin Zhang'],\n",
       "  'OpenAI Evals library': ['Shixiang Shane Gu',\n",
       "   'Angela Jiang',\n",
       "   'Logan Kilpatrick',\n",
       "   'Andrew Kondrich',\n",
       "   'Pamela Mishkin',\n",
       "   'Jakub Pachocki',\n",
       "   'Ted Sanders',\n",
       "   'Jessica Shieh',\n",
       "   'Alvin Wang',\n",
       "   'Marvin Zhang'],\n",
       "  'Model-graded evaluation infrastructure': ['Liam Fedus',\n",
       "   'Rapha Gontijo-Lopes',\n",
       "   'Shixiang Shane Gu',\n",
       "   'Andrew Kondrich',\n",
       "   'Michael (Rai) Pokorny',\n",
       "   'Wojciech Zaremba',\n",
       "   'Chong Zhang',\n",
       "   'Marvin Zhang',\n",
       "   'Shengjia Zhao',\n",
       "   'Barret Zoph'],\n",
       "  'Acceleration forecasting': ['Alan Hickey',\n",
       "   'Daniel Kokotajlo',\n",
       "   \"Cullen O'Keefe\",\n",
       "   'Sarah Shoker'],\n",
       "  'ChatGPT evaluations': ['Juan Felipe Cerón Uribe',\n",
       "   'Hyung Won Chung',\n",
       "   'Rapha Gontijo-Lopes',\n",
       "   'Liam Fedus',\n",
       "   'Luke Metz',\n",
       "   'Michael Rai Pokorny',\n",
       "   'Jason Wei',\n",
       "   'Shengjia Zhao',\n",
       "   'Barret Zoph'],\n",
       "  'Capability evaluations': ['Sully Chen',\n",
       "   'Tyna Eloundou',\n",
       "   'Shengli Hu',\n",
       "   'Roger Jiang',\n",
       "   'Jamie Kiros',\n",
       "   'Teddy Lee',\n",
       "   'Scott Mayer McKinney',\n",
       "   'Jakub Pachocki',\n",
       "   'Alex Paino',\n",
       "   'Giambattista Parascandolo',\n",
       "   'Boris Power',\n",
       "   'Raul Puri',\n",
       "   'Jack Rae',\n",
       "   'Nick Ryder',\n",
       "   'Ted Sanders',\n",
       "   'Szymon Sidor',\n",
       "   'Benjamin Sokolowsky',\n",
       "   'Chelsea Voss',\n",
       "   'Alvin Wang',\n",
       "   'Rowan Zellers',\n",
       "   'Juntang Zhuang'],\n",
       "  'Coding evaluations': ['Ilge Akkaya',\n",
       "   'Mo Bavarian',\n",
       "   'Jonathan Gordon',\n",
       "   'Shawn Jain',\n",
       "   'Chak Ming Li',\n",
       "   'Oleg Murk',\n",
       "   'Vitchyr Pong',\n",
       "   'Benjamin Sokolowsky',\n",
       "   'Jerry Tworek',\n",
       "   'Kevin Yu',\n",
       "   'Wojciech Zaremba'],\n",
       "  'Real-world use case evaluations': ['Andrew Kondrich',\n",
       "   'Joe Palermo',\n",
       "   'Boris Power',\n",
       "   'Ted Sanders'],\n",
       "  'Contamination investigations': ['Adrien Ecoffet',\n",
       "   'Roger Jiang',\n",
       "   'Ingmar Kanitscheider',\n",
       "   'Scott Mayer McKinney',\n",
       "   'Alex Paino',\n",
       "   'Giambattista Parascandolo',\n",
       "   'Jack Rae',\n",
       "   'Qiming Yuan'],\n",
       "  'Instruction following and API evals': ['Diogo Almeida',\n",
       "   'Carroll Wainwright',\n",
       "   'Marvin Zhang'],\n",
       "  'Novel capability discovery': ['Filipe de Avila Belbute Peres',\n",
       "   'Kevin Button',\n",
       "   'Fotis Chantzis',\n",
       "   'Mike Heaton',\n",
       "   'Wade Hickey',\n",
       "   'Xin Hu',\n",
       "   'Andrew Kondrich',\n",
       "   'Matt Knight',\n",
       "   'Andrew Mayne',\n",
       "   'Jake McNeil',\n",
       "   'Vinnie Monaco',\n",
       "   'Joe Palermo',\n",
       "   'Joel Parish',\n",
       "   'Boris Power',\n",
       "   'Bob Rotsted',\n",
       "   'Ted Sanders'],\n",
       "  'Vision evaluations': ['Shixiang Shane Gu',\n",
       "   'Shengli Hu',\n",
       "   'Jamie Kiros',\n",
       "   'Hyeonwoo Noh',\n",
       "   'Raul Puri',\n",
       "   'Rowan Zellers'],\n",
       "  'Economic impact evaluation': ['Tyna Eloundou',\n",
       "   'Sam Manning',\n",
       "   'Aalok Mehta',\n",
       "   'Pamela Mishkin'],\n",
       "  'Non-proliferation, international humanitarian law & national security red teaming': ['Sarah Shoker'],\n",
       "  'Overreliance analysis': ['Miles Brundage',\n",
       "   'Michael Lampe',\n",
       "   'Pamela Mishkin'],\n",
       "  'Privacy and PII evaluations': ['Michael Lampe',\n",
       "   'Vinnie Monaco',\n",
       "   'Ashley Pantuliano'],\n",
       "  'Safety and policy evaluations': ['Josh Achiam',\n",
       "   'Sandhini Agarwal',\n",
       "   'Lama Ahmad',\n",
       "   'Jeff Belgum',\n",
       "   'Tyna Eloundou',\n",
       "   'Johannes Heidecke',\n",
       "   'Shengli Hu',\n",
       "   'Joost Huizinga',\n",
       "   'Jamie Kiros',\n",
       "   'Gretchen Krueger',\n",
       "   'Michael Lampe',\n",
       "   'Stephanie Lin',\n",
       "   'Ryan Lowe',\n",
       "   'Todor Markov',\n",
       "   'Vinnie Monaco',\n",
       "   'Tong Mu',\n",
       "   'Raul Puri',\n",
       "   'Girish Sastry',\n",
       "   'Andrea Vallone',\n",
       "   'Carroll Wainwright',\n",
       "   'CJ Weinmann',\n",
       "   'Lilian Weng',\n",
       "   'Kai Xiao',\n",
       "   'Chong Zhang'],\n",
       "  'OpenAI adversarial testers': ['Josh Achiam',\n",
       "   'Steven Adler',\n",
       "   'Lama Ahmad',\n",
       "   'Shyamal Anadkat',\n",
       "   'Red Avila',\n",
       "   'Gabriel Bernadett-Shapiro',\n",
       "   'Anna-Luisa Brakman',\n",
       "   'Tim Brooks',\n",
       "   'Miles Brundage',\n",
       "   'Chelsea Carlson',\n",
       "   'Derek Chen',\n",
       "   'Hyung Won Chung',\n",
       "   'Jeremiah Currier',\n",
       "   'Daniel Kokotajlo',\n",
       "   'David Dohan',\n",
       "   'Adrien Ecoffet',\n",
       "   'Vik Goel',\n",
       "   'Ryan Greene',\n",
       "   'Johannes Heidecke',\n",
       "   'Alan Hickey',\n",
       "   'Shengli Hu',\n",
       "   'Joost Huizinga',\n",
       "   'Janko',\n",
       "   'Tomer Kaftan',\n",
       "   'Ali Kamali',\n",
       "   'Nitish Shirish Keskar',\n",
       "   'Tabarak Khan',\n",
       "   'Hendrik Kirchner',\n",
       "   'Daniel Kokotajlo',\n",
       "   'Gretchen Krueger',\n",
       "   'Michael Lampe',\n",
       "   'Teddy Lee',\n",
       "   'Molly Lin',\n",
       "   'Ryan Lowe',\n",
       "   'Todor Markov',\n",
       "   'Jake McNeil',\n",
       "   'Pamela Mishkin',\n",
       "   'Vinnie Monaco',\n",
       "   'Daniel Mossing',\n",
       "   'Tong Mu',\n",
       "   'Oleg Murk',\n",
       "   \"Cullen O'Keefe\",\n",
       "   'Joe Palermo',\n",
       "   'Giambattista Parascandolo',\n",
       "   'Joel Parish',\n",
       "   'Boris Power',\n",
       "   'Alethea Power',\n",
       "   'Cameron Raymond',\n",
       "   'Francis Real',\n",
       "   'Bob Rotsted',\n",
       "   'Mario Salterelli',\n",
       "   'Sam Wolrich',\n",
       "   'Ted Sanders',\n",
       "   'Girish Sastry',\n",
       "   'Sarah Shoker',\n",
       "   'Shyamal Anadkat',\n",
       "   'Yang Song',\n",
       "   'Natalie Staudacher',\n",
       "   'Madeleine Thompson',\n",
       "   'Elizabeth Tseng',\n",
       "   'Chelsea Voss',\n",
       "   'Jason Wei',\n",
       "   'Chong Zhang'],\n",
       "  'System card & broader impacts analysis': ['Steven Adler',\n",
       "   'Sandhini Agarwal',\n",
       "   'Lama Ahmad',\n",
       "   'Janko Altenschmidt',\n",
       "   'Jeff Belgum',\n",
       "   'Gabriel Bernadett-Shapiro',\n",
       "   'Miles Brundage',\n",
       "   'Derek Chen',\n",
       "   'Tyna Eloundou',\n",
       "   'Liam Fedus',\n",
       "   'Leo Gao',\n",
       "   'Vik Goel',\n",
       "   'Johannes Heidecke',\n",
       "   'Alan Hickey',\n",
       "   'Shengli Hu',\n",
       "   'Joost Huizinga',\n",
       "   'Daniel Kokotajlo',\n",
       "   'Gretchen Krueger',\n",
       "   'Michael Lampe',\n",
       "   'Jade Leung',\n",
       "   'Stephanie Lin',\n",
       "   'Ryan Lowe',\n",
       "   'Kim Malfacini',\n",
       "   'Todor Markov',\n",
       "   'Bianca Martin',\n",
       "   'Aalok Mehta',\n",
       "   'Pamela Mishkin',\n",
       "   'Tong Mu',\n",
       "   'Richard Ngo',\n",
       "   \"Cullen O'Keefe\",\n",
       "   'Joel Parish',\n",
       "   'Rai Pokorny',\n",
       "   'Bob Rotsted',\n",
       "   'Girish Sastry',\n",
       "   'Sarah Shoker',\n",
       "   'Andrea Vallone',\n",
       "   'Carroll Wainwright',\n",
       "   'CJ Weinmann',\n",
       "   'Lilian Weng',\n",
       "   'Dave Willner',\n",
       "   'Kai Xiao',\n",
       "   'Chong Zhang']},\n",
       " 'Deployment': {'Core contributors': ['Steven Adler',\n",
       "   'Sandhini Agarwal',\n",
       "   'Derek Chen',\n",
       "   'Atty Eleti',\n",
       "   'Joanne Jang',\n",
       "   'Angela Jiang',\n",
       "   'Tomer Kaftan',\n",
       "   'Rachel Lim',\n",
       "   'Kim Malfacini',\n",
       "   'Bianca Martin',\n",
       "   'Evan Morikawa',\n",
       "   'Henrique Ponde de Oliveira Pinto',\n",
       "   'Heather Schmidt',\n",
       "   'Maddie Simens',\n",
       "   'Felipe Petroski Such',\n",
       "   'Andrea Vallone',\n",
       "   'Lilian Weng',\n",
       "   'Dave Willner',\n",
       "   'Michael Wu'],\n",
       "  'Inference research': ['Paul Baltescu',\n",
       "   'Scott Gray',\n",
       "   'Yuchen He',\n",
       "   'Arvind Neelakantan',\n",
       "   'Michael Wu'],\n",
       "  'GPT-4 API & ChatML deployment': ['Greg Brockman',\n",
       "   'Brooke Chan',\n",
       "   'Chester Cho',\n",
       "   'Atty Eleti',\n",
       "   'Rachel Lim',\n",
       "   'Andrew Peng',\n",
       "   'Michelle Pokrass',\n",
       "   'Sherwin Wu'],\n",
       "  'GPT-4 web experience': ['Valerie Balcom',\n",
       "   'Lenny Bogdonoff',\n",
       "   'Jason Chen',\n",
       "   'Dave Cummings',\n",
       "   'Noah Deutsch',\n",
       "   'Mike Heaton',\n",
       "   'Paul McMillan',\n",
       "   'Rajeev Nayak',\n",
       "   'Joel Parish',\n",
       "   'Adam Perelman',\n",
       "   'Eric Sigler',\n",
       "   'Nick Turley',\n",
       "   'Arun Vijayvergiya',\n",
       "   'Chelsea Voss'],\n",
       "  'Inference infrastructure': ['Brooke Chan',\n",
       "   'Scott Gray',\n",
       "   'Chris Hallacy',\n",
       "   'Kenny Hsu',\n",
       "   'Tomer Kaftan',\n",
       "   'Rachel Lim',\n",
       "   'Henrique Ponde de Oliveira Pinto',\n",
       "   'Raul Puri',\n",
       "   'Heather Schmidt',\n",
       "   'Felipe Petroski Such'],\n",
       "  'Reliability engineering': ['Haiming Bao',\n",
       "   'Madelaine Boyd',\n",
       "   'Ben Chess',\n",
       "   'Damien Deville',\n",
       "   'Yufei Guo',\n",
       "   'Vishal Kuo',\n",
       "   'Ikai Lan',\n",
       "   'Michelle Pokrass',\n",
       "   'Carl Ross',\n",
       "   'David Schnurr',\n",
       "   'Jordan Sitkin',\n",
       "   'Felipe Petroski Such'],\n",
       "  'Trust & safety engineering': ['Jeff Belgum', 'Madelaine Boyd', 'Vik Goel'],\n",
       "  'Trust & safety monitoring and response': ['Janko Altenschmidt',\n",
       "   'Anna-Luisa Brakman',\n",
       "   'Derek Chen',\n",
       "   'Florencia Leoni Aleman',\n",
       "   'Molly Lin',\n",
       "   'Cameron Raymond',\n",
       "   'CJ Weinmann',\n",
       "   'Dave Willner',\n",
       "   'Samuel Wolrich'],\n",
       "  'Trust & safety policy': ['Rosie Campbell',\n",
       "   'Kim Malfacini',\n",
       "   'Andrea Vallone',\n",
       "   'Dave Willner'],\n",
       "  'Deployment compute': ['Peter Hoeschele', 'Evan Morikawa'],\n",
       "  'Product management': ['Jeff Harris', 'Joanne Jang', 'Angela Jiang']},\n",
       " 'Additional contributions': {'General': ['Sam Altman',\n",
       "   'Katie Mayer',\n",
       "   'Bob McGrew',\n",
       "   'Mira Murati',\n",
       "   'Ilya Sutskever',\n",
       "   'Peter Welinder'],\n",
       "  'Blog post & paper content': ['Sandhini Agarwal',\n",
       "   'Greg Brockman',\n",
       "   'Miles Brundage',\n",
       "   'Adrien Ecoffet',\n",
       "   'Tyna Eloundou',\n",
       "   'David Farhi',\n",
       "   'Johannes Heidecke',\n",
       "   'Shengli Hu',\n",
       "   'Joost Huizinga',\n",
       "   'Roger Jiang',\n",
       "   'Gretchen Krueger',\n",
       "   'Jan Leike',\n",
       "   'Daniel Levy',\n",
       "   'Stephanie Lin',\n",
       "   'Ryan Lowe',\n",
       "   'Tong Mu',\n",
       "   'Hyeonwoo Noh',\n",
       "   'Jakub Pachocki',\n",
       "   'Jack Rae',\n",
       "   'Kendra Rimbach',\n",
       "   'Shibani Santurkar',\n",
       "   'Szymon Sidor',\n",
       "   'Benjamin Sokolowsky',\n",
       "   'Jie Tang',\n",
       "   'Chelsea Voss',\n",
       "   'Kai Xiao',\n",
       "   'Rowan Zellers',\n",
       "   'Chong Zhang',\n",
       "   'Marvin Zhang'],\n",
       "  'Communications': ['Ruby Chen',\n",
       "   'Cory Decareaux',\n",
       "   'Thomas Degry',\n",
       "   'Steve Dowling',\n",
       "   'Niko Felix',\n",
       "   'Elie Georges',\n",
       "   'Anna Makanju',\n",
       "   'Andrew Mayne',\n",
       "   'Aalok Mehta',\n",
       "   'Elizabeth Proehl',\n",
       "   'Kendra Rimbach',\n",
       "   'Natalie Summers',\n",
       "   'Justin Jay Wang',\n",
       "   'Hannah Wong'],\n",
       "  'Compute allocation support': ['Theresa Lopez', 'Elizabeth Tseng'],\n",
       "  'Contracting, revenue, pricing, & finance support': ['Brooke Chan',\n",
       "   'Denny Jin',\n",
       "   'Billie Jonn',\n",
       "   'Patricia Lue',\n",
       "   'Kyla Sheppard',\n",
       "   'Lauren Workman'],\n",
       "  'Launch partners & product operations': ['Filipe de Avila Belbute Peres',\n",
       "   'Brittany Carey',\n",
       "   'Simón Posada Fishman',\n",
       "   'Isabella Fulford',\n",
       "   'Teddy Lee',\n",
       "   'Yaniv Markovski',\n",
       "   'Tolly Powell',\n",
       "   'Toki Sherbakov',\n",
       "   'Jessica Shieh',\n",
       "   'Natalie Staudacher',\n",
       "   'Preston Tuggle'],\n",
       "  'Legal': ['Jake Berdine',\n",
       "   'Che Chang',\n",
       "   'Sheila Dunning',\n",
       "   'Ashley Pantuliano'],\n",
       "  'Security & privacy engineering': ['Kevin Button',\n",
       "   'Fotis Chantzis',\n",
       "   'Wade Hickey',\n",
       "   'Xin Hu',\n",
       "   'Shino Jomoto',\n",
       "   'Matt Knight',\n",
       "   'Jake McNeil',\n",
       "   'Vinnie Monaco',\n",
       "   'Joel Parish',\n",
       "   'Bob Rotsted'],\n",
       "  'System administration & on-call support': ['Morgan Grafstein',\n",
       "   'Francis Real',\n",
       "   'Mario Saltarelli'],\n",
       "  'Authorship & credit attribution': ['David Farhi']}}"
      ]
     },
     "execution_count": 41,
     "metadata": {},
     "output_type": "execute_result"
    }
   ],
   "source": [
    "# Load file: data/gpt-4_contributions.json\n",
    "with open('data/gpt-4_contributions.json') as f:\n",
    "    gpt_4_contributions = json.load(f)\n",
    "gpt_4_contributions"
   ]
  },
  {
   "cell_type": "code",
   "execution_count": 42,
   "metadata": {},
   "outputs": [
    {
     "data": {
      "text/plain": [
       "284"
      ]
     },
     "execution_count": 42,
     "metadata": {},
     "output_type": "execute_result"
    }
   ],
   "source": [
    "unique_contributors = set()\n",
    "for category in gpt_4_contributions.values():\n",
    "    for group in category.values():\n",
    "        for contributor in group:\n",
    "            unique_contributors.add(contributor)\n",
    "len(unique_contributors)"
   ]
  },
  {
   "cell_type": "code",
   "execution_count": 43,
   "metadata": {},
   "outputs": [],
   "source": [
    "num_contributors = len(unique_contributors)"
   ]
  },
  {
   "cell_type": "code",
   "execution_count": 44,
   "metadata": {},
   "outputs": [],
   "source": [
    "total_salaries = np.zeros(N)\n",
    "for i in range(N):\n",
    "    # For each i, each contributor is assigned a random FTE workload, salary, and overhead\n",
    "    # A given contributor plausibly spent anywhere from 10% to 90% of their time on this\n",
    "    ftes = lognorm_from_90_ci(0.05, 0.8, num_contributors)\n",
    "    salary = lognorm_from_90_ci(compensation_low, compensation_high, num_contributors)\n",
    "    overhead = lognorm_from_90_ci(compensation_overhead_low, compensation_overhead_high, num_contributors)\n",
    "    salary *= ftes\n",
    "    salary *= overhead\n",
    "    total_salaries[i] = salary.sum()"
   ]
  },
  {
   "cell_type": "code",
   "execution_count": 45,
   "metadata": {},
   "outputs": [],
   "source": [
    "personnel_cost = total_salaries * project_duration"
   ]
  },
  {
   "cell_type": "code",
   "execution_count": 46,
   "metadata": {},
   "outputs": [
    {
     "name": "stdout",
     "output_type": "stream",
     "text": [
      "Median: 6e+07 [95% CI: 4.5e+07, 8e+07]\n"
     ]
    }
   ],
   "source": [
    "print_median_and_ci(personnel_cost, ci=[2.5, 97.5])"
   ]
  },
  {
   "cell_type": "markdown",
   "metadata": {},
   "source": [
    "## Overall"
   ]
  },
  {
   "cell_type": "code",
   "execution_count": 47,
   "metadata": {},
   "outputs": [],
   "source": [
    "cost_data['GPT-4'] = {\n",
    "    'AI accelerator chip cost': get_hardware_cost_dist('GPT-4', 'AI accelerator chip cost'),\n",
    "    'Other server components cost': get_hardware_cost_dist('GPT-4', 'Other server components cost'),\n",
    "    'Cluster-level interconnect cost': get_hardware_cost_dist('GPT-4', 'Cluster-level interconnect cost'),\n",
    "    'Energy cost': energy_cost,\n",
    "    'R&D staff cost': personnel_cost,\n",
    "}"
   ]
  },
  {
   "cell_type": "markdown",
   "metadata": {},
   "source": [
    "# Gemini Ultra"
   ]
  },
  {
   "cell_type": "markdown",
   "metadata": {},
   "source": [
    "See https://colab.research.google.com/drive/1XEKlSo-3DCFp686yGOwwfS6_DEHsFimd#scrollTo=yqWMux2iZL8L"
   ]
  },
  {
   "cell_type": "markdown",
   "metadata": {},
   "source": [
    "## Project duration"
   ]
  },
  {
   "cell_type": "code",
   "execution_count": 48,
   "metadata": {},
   "outputs": [],
   "source": [
    "amortized_hardware_cost = lognorm_from_90_ci(5.9e6, 1.1e8, N)\n",
    "server_cost = amortized_hardware_cost / 1.15\n",
    "ai_accelerator_chip_cost = server_cost / 1.64\n",
    "other_server_components_cost = server_cost - ai_accelerator_chip_cost\n",
    "cluster_level_interconnect_cost = amortized_hardware_cost - server_cost"
   ]
  },
  {
   "cell_type": "code",
   "execution_count": 49,
   "metadata": {},
   "outputs": [
    {
     "name": "stdout",
     "output_type": "stream",
     "text": [
      "Median: 6.3e+06 [90% CI: 2.7e+06, 1.6e+07]\n",
      "Median: 0.46 [90% CI: 0.16, 1.3]\n"
     ]
    }
   ],
   "source": [
    "# Training time - from Gemini compute notebook\n",
    "percentile_5th = 1*31*24*3600 # 5th percentile in seconds\n",
    "percentile_95th = 6*31*24*3600  # 95th percentile in seconds\n",
    "training_time_seconds = lognorm_from_90_ci(percentile_5th, percentile_95th, N)\n",
    "print_median_and_ci(training_time_seconds)\n",
    "\n",
    "experiments_duration_seconds = training_time_seconds * experiment_factor\n",
    "experiments_duration_hours = experiments_duration_seconds / 3600\n",
    "experiments_duration_years = experiments_duration_hours / (365.25 * 24)\n",
    "print_median_and_ci(experiments_duration_years)"
   ]
  },
  {
   "cell_type": "markdown",
   "metadata": {},
   "source": [
    "## Energy"
   ]
  },
  {
   "cell_type": "code",
   "execution_count": 50,
   "metadata": {},
   "outputs": [
    {
     "name": "stdout",
     "output_type": "stream",
     "text": [
      "Median: 6.3e+04 [90% CI: 5.1e+04, 7.6e+04]\n"
     ]
    }
   ],
   "source": [
    "chips_per_pod = 4096\n",
    "number_of_pods = np.random.uniform(12, 19, N)\n",
    "number_of_chips = number_of_pods * chips_per_pod\n",
    "print_median_and_ci(number_of_chips)"
   ]
  },
  {
   "cell_type": "code",
   "execution_count": 51,
   "metadata": {},
   "outputs": [
    {
     "name": "stdout",
     "output_type": "stream",
     "text": [
      "Median: 5.5e+06 [90% CI: 1.8e+06, 1.9e+07]\n"
     ]
    }
   ],
   "source": [
    "hardware_model = 'Google TPU v4'\n",
    "organization = 'Google'\n",
    "\"\"\"\n",
    "https://cloud.google.com/blog/topics/systems/tpu-v4-enables-performance-energy-and-co2e-efficiency-gains\n",
    "\"Google's Cloud TPU v4 outperforms TPU v3 by 2.1x on average on a per-chip basis and improves performance/Watt by 2.7x.\"\n",
    "TPU v3 performance per Watt: 123 TFLOPS / 450W = 0.273 TFLOPS/W\n",
    "0.273 * 2.7 = 0.738 TFLOPS/W\n",
    "TPU v4 is 275 TFLOPS => 275 / 0.738 = 373W\n",
    "\"\"\"\n",
    "chip_TDP_kw = 373 / 1000\n",
    "# Adjust for whole server power draw (CPUs, memory, cooling)\n",
    "server_TDP_kw = chip_TDP_kw * chip_to_server_power(hardware_model)\n",
    "# Adjust for average power draw\n",
    "server_power_kw = server_TDP_kw * server_TDP_fraction(hardware_model)\n",
    "# Adjust for data center power distribution and cooling\n",
    "adj_server_power_kw = server_power_kw * power_usage_effectiveness(organization)\n",
    "cluster_kwh = adj_server_power_kw * number_of_chips * experiments_duration_hours\n",
    "\n",
    "cost_per_kwh = energy_price(2023) * energy_price_uncertainty_factor\n",
    "energy_cost = cluster_kwh * cost_per_kwh\n",
    "print_median_and_ci(energy_cost)"
   ]
  },
  {
   "cell_type": "markdown",
   "metadata": {},
   "source": [
    "## Personnel"
   ]
  },
  {
   "cell_type": "code",
   "execution_count": 52,
   "metadata": {},
   "outputs": [
    {
     "name": "stdout",
     "output_type": "stream",
     "text": [
      "Median: 2.1e+08 [95% CI: 1.6e+08, 2.7e+08]\n"
     ]
    }
   ],
   "source": [
    "# Testing personnel cost using the same method as other models (rather than the method in the Gemini Ultra cost notebook)\n",
    "num_contributors = 984\n",
    "total_salaries = np.zeros(N)\n",
    "for i in range(N):\n",
    "    # For each i, each contributor is assigned a random FTE workload, salary, and overhead\n",
    "    # A given contributor plausibly spent anywhere from 10% to 90% of their time on this\n",
    "    ftes = lognorm_from_90_ci(0.05, 0.8, num_contributors)\n",
    "    salary = lognorm_from_90_ci(compensation_low, compensation_high, num_contributors)\n",
    "    overhead = lognorm_from_90_ci(compensation_overhead_low, compensation_overhead_high, num_contributors)\n",
    "    salary *= ftes\n",
    "    salary *= overhead\n",
    "    total_salaries[i] = salary.sum()\n",
    "personnel_cost = total_salaries * project_duration\n",
    "print_median_and_ci(personnel_cost, ci=[2.5, 97.5])"
   ]
  },
  {
   "cell_type": "code",
   "execution_count": 53,
   "metadata": {},
   "outputs": [
    {
     "name": "stdout",
     "output_type": "stream",
     "text": [
      "Median: 1.6e+08 [90% CI: 9.4e+07, 2.7e+08]\n"
     ]
    }
   ],
   "source": [
    "personnel_cost = lognorm_from_90_ci(9.7e7, 2.7e8, N)\n",
    "print_median_and_ci(personnel_cost)"
   ]
  },
  {
   "cell_type": "markdown",
   "metadata": {},
   "source": [
    "## Overall"
   ]
  },
  {
   "cell_type": "code",
   "execution_count": 54,
   "metadata": {},
   "outputs": [],
   "source": [
    "cost_data['Gemini Ultra'] = {\n",
    "    'AI accelerator chip cost': ai_accelerator_chip_cost,\n",
    "    'Other server components cost': other_server_components_cost,\n",
    "    'Cluster-level interconnect cost': cluster_level_interconnect_cost,\n",
    "    'Energy cost': energy_cost,\n",
    "    'R&D staff cost': personnel_cost,\n",
    "}"
   ]
  },
  {
   "cell_type": "markdown",
   "metadata": {},
   "source": [
    "# Inflation adjustment"
   ]
  },
  {
   "cell_type": "code",
   "execution_count": 55,
   "metadata": {},
   "outputs": [],
   "source": [
    "def adjust_value_for_inflation(value, path_to_price_index, publication_date, to_year_month):\n",
    "    price_index = pd.read_csv(path_to_price_index)\n",
    "    from_date = str(publication_date)\n",
    "    from_year_month = from_date.rsplit('-', maxsplit=1)[0] + '-01'\n",
    "    from_price_index = price_index[price_index['DATE'] == from_year_month]['PCU518210518210'].values[0]\n",
    "    to_price_index = price_index[price_index['DATE'] == to_year_month]['PCU518210518210'].values[0]\n",
    "    adjust_factor = to_price_index / from_price_index\n",
    "    return value * adjust_factor"
   ]
  },
  {
   "cell_type": "code",
   "execution_count": 56,
   "metadata": {},
   "outputs": [],
   "source": [
    "for model in cost_data:\n",
    "    for cost_component in cost_data[model]:\n",
    "        # Adjust for inflation\n",
    "        publication_date = frontier_pcd_df.loc[frontier_pcd_df['System'] == model, 'Publication date'].values[0]\n",
    "        value = cost_data[model][cost_component]\n",
    "        cost_data[model][cost_component] = adjust_value_for_inflation(value, 'data/PCU518210518210.csv', publication_date, '2023-12-01')"
   ]
  },
  {
   "cell_type": "markdown",
   "metadata": {},
   "source": [
    "# Plots"
   ]
  },
  {
   "cell_type": "code",
   "execution_count": 57,
   "metadata": {},
   "outputs": [],
   "source": [
    "cost_component_names.insert(0, 'R&D staff cost')"
   ]
  },
  {
   "cell_type": "code",
   "execution_count": 58,
   "metadata": {},
   "outputs": [
    {
     "name": "stdout",
     "output_type": "stream",
     "text": [
      "R&D staff cost\n",
      "[3699812.137482164, 2058461.0466851594, 61136073.66507499, 162115489.99744642] [1267815.5628886884, 1215633.2492341765, 45295091.48163555, 82225245.33071743] [7539275.771880239, 3560786.8746570437, 80427187.91315024, 298569971.04345375]\n",
      "AI accelerator chip cost\n",
      "[2001657.3159939395, 723141.5698171624, 38741591.7180551, 13171215.616312604] [975722.0685038089, 371290.71878062835, 20299174.67752671, 2448561.077633404] [3897079.3335759593, 1437471.8235095749, 80852614.60041523, 74810581.06949915]\n",
      "Other server components cost\n",
      "[1422302.4023819866, 476465.8893585418, 26342273.202573247, 8429577.994440064] [704670.1666631859, 234539.29188845266, 13422120.797472958, 1567079.0896853781] [2738921.461380745, 954824.2018584389, 51356187.17463251, 47878771.88447944]\n",
      "Cluster-level interconnect cost\n",
      "[659275.3315497236, 232346.01601526455, 12522680.66992208, 3240119.041612897] [320191.21767572634, 112767.64822757158, 6424407.682242967, 602346.0250978172] [1239108.8789019284, 456318.7594315321, 26682206.821664855, 18403402.94309678]\n",
      "Energy cost\n",
      "[198459.0876076402, 43875.53552863414, 7661212.825189481, 5541555.933372164] [78877.12248695566, 17438.233903981814, 3049640.1601951313, 1376859.3410137936] [495175.83452619804, 109473.97361630746, 19120257.63531616, 24829635.291620176]\n"
     ]
    },
    {
     "data": {
      "application/vnd.plotly.v1+json": {
       "config": {
        "plotlyServerURL": "https://plot.ly"
       },
       "data": [
        {
         "error_y": {
          "array": [
           3839463.6343980753,
           1502325.8279718843,
           19291114.248075247,
           136454481.04600734
          ],
          "arrayminus": [
           2431996.5745934756,
           842827.797450983,
           15840982.183439441,
           79890244.66672899
          ],
          "symmetric": false,
          "type": "data",
          "visible": true
         },
         "name": "R&D staff cost",
         "type": "bar",
         "x": [
          "GPT-3 175B (davinci)",
          "OPT-175B",
          "GPT-4",
          "Gemini Ultra"
         ],
         "y": [
          3699812.137482164,
          2058461.0466851594,
          61136073.66507499,
          162115489.99744642
         ]
        },
        {
         "error_y": {
          "array": [
           1895422.0175820198,
           714330.2536924125,
           42111022.88236013,
           61639365.45318654
          ],
          "arrayminus": [
           1025935.2474901306,
           351850.851036534,
           18442417.04052839,
           10722654.538679201
          ],
          "symmetric": false,
          "type": "data",
          "visible": true
         },
         "name": "AI accelerator chip cost",
         "type": "bar",
         "x": [
          "GPT-3 175B (davinci)",
          "OPT-175B",
          "GPT-4",
          "Gemini Ultra"
         ],
         "y": [
          2001657.3159939395,
          723141.5698171624,
          38741591.7180551,
          13171215.616312604
         ]
        },
        {
         "error_y": {
          "array": [
           1316619.0589987582,
           478358.3124998971,
           25013913.972059265,
           39449193.89003938
          ],
          "arrayminus": [
           717632.2357188007,
           241926.59747008915,
           12920152.40510029,
           6862498.904754685
          ],
          "symmetric": false,
          "type": "data",
          "visible": true
         },
         "name": "Other server components cost",
         "type": "bar",
         "x": [
          "GPT-3 175B (davinci)",
          "OPT-175B",
          "GPT-4",
          "Gemini Ultra"
         ],
         "y": [
          1422302.4023819866,
          476465.8893585418,
          26342273.202573247,
          8429577.994440064
         ]
        },
        {
         "error_y": {
          "array": [
           579833.5473522048,
           223972.74341626756,
           14159526.151742775,
           15163283.901483882
          ],
          "arrayminus": [
           339084.1138739973,
           119578.36778769297,
           6098272.987679113,
           2637773.01651508
          ],
          "symmetric": false,
          "type": "data",
          "visible": true
         },
         "name": "Cluster-level interconnect cost",
         "type": "bar",
         "x": [
          "GPT-3 175B (davinci)",
          "OPT-175B",
          "GPT-4",
          "Gemini Ultra"
         ],
         "y": [
          659275.3315497236,
          232346.01601526455,
          12522680.66992208,
          3240119.041612897
         ]
        },
        {
         "error_y": {
          "array": [
           296716.74691855785,
           65598.43808767332,
           11459044.810126679,
           19288079.35824801
          ],
          "arrayminus": [
           119581.96512068453,
           26437.301624652322,
           4611572.66499435,
           4164696.5923583703
          ],
          "symmetric": false,
          "type": "data",
          "visible": true
         },
         "name": "Energy cost",
         "type": "bar",
         "x": [
          "GPT-3 175B (davinci)",
          "OPT-175B",
          "GPT-4",
          "Gemini Ultra"
         ],
         "y": [
          198459.0876076402,
          43875.53552863414,
          7661212.825189481,
          5541555.933372164
         ]
        }
       ],
       "layout": {
        "barmode": "group",
        "height": 600,
        "template": {
         "data": {
          "bar": [
           {
            "error_x": {
             "color": "#2a3f5f"
            },
            "error_y": {
             "color": "#2a3f5f"
            },
            "marker": {
             "line": {
              "color": "#E5ECF6",
              "width": 0.5
             },
             "pattern": {
              "fillmode": "overlay",
              "size": 10,
              "solidity": 0.2
             }
            },
            "type": "bar"
           }
          ],
          "barpolar": [
           {
            "marker": {
             "line": {
              "color": "#E5ECF6",
              "width": 0.5
             },
             "pattern": {
              "fillmode": "overlay",
              "size": 10,
              "solidity": 0.2
             }
            },
            "type": "barpolar"
           }
          ],
          "carpet": [
           {
            "aaxis": {
             "endlinecolor": "#2a3f5f",
             "gridcolor": "white",
             "linecolor": "white",
             "minorgridcolor": "white",
             "startlinecolor": "#2a3f5f"
            },
            "baxis": {
             "endlinecolor": "#2a3f5f",
             "gridcolor": "white",
             "linecolor": "white",
             "minorgridcolor": "white",
             "startlinecolor": "#2a3f5f"
            },
            "type": "carpet"
           }
          ],
          "choropleth": [
           {
            "colorbar": {
             "outlinewidth": 0,
             "ticks": ""
            },
            "type": "choropleth"
           }
          ],
          "contour": [
           {
            "colorbar": {
             "outlinewidth": 0,
             "ticks": ""
            },
            "colorscale": [
             [
              0,
              "#0d0887"
             ],
             [
              0.1111111111111111,
              "#46039f"
             ],
             [
              0.2222222222222222,
              "#7201a8"
             ],
             [
              0.3333333333333333,
              "#9c179e"
             ],
             [
              0.4444444444444444,
              "#bd3786"
             ],
             [
              0.5555555555555556,
              "#d8576b"
             ],
             [
              0.6666666666666666,
              "#ed7953"
             ],
             [
              0.7777777777777778,
              "#fb9f3a"
             ],
             [
              0.8888888888888888,
              "#fdca26"
             ],
             [
              1,
              "#f0f921"
             ]
            ],
            "type": "contour"
           }
          ],
          "contourcarpet": [
           {
            "colorbar": {
             "outlinewidth": 0,
             "ticks": ""
            },
            "type": "contourcarpet"
           }
          ],
          "heatmap": [
           {
            "colorbar": {
             "outlinewidth": 0,
             "ticks": ""
            },
            "colorscale": [
             [
              0,
              "#0d0887"
             ],
             [
              0.1111111111111111,
              "#46039f"
             ],
             [
              0.2222222222222222,
              "#7201a8"
             ],
             [
              0.3333333333333333,
              "#9c179e"
             ],
             [
              0.4444444444444444,
              "#bd3786"
             ],
             [
              0.5555555555555556,
              "#d8576b"
             ],
             [
              0.6666666666666666,
              "#ed7953"
             ],
             [
              0.7777777777777778,
              "#fb9f3a"
             ],
             [
              0.8888888888888888,
              "#fdca26"
             ],
             [
              1,
              "#f0f921"
             ]
            ],
            "type": "heatmap"
           }
          ],
          "heatmapgl": [
           {
            "colorbar": {
             "outlinewidth": 0,
             "ticks": ""
            },
            "colorscale": [
             [
              0,
              "#0d0887"
             ],
             [
              0.1111111111111111,
              "#46039f"
             ],
             [
              0.2222222222222222,
              "#7201a8"
             ],
             [
              0.3333333333333333,
              "#9c179e"
             ],
             [
              0.4444444444444444,
              "#bd3786"
             ],
             [
              0.5555555555555556,
              "#d8576b"
             ],
             [
              0.6666666666666666,
              "#ed7953"
             ],
             [
              0.7777777777777778,
              "#fb9f3a"
             ],
             [
              0.8888888888888888,
              "#fdca26"
             ],
             [
              1,
              "#f0f921"
             ]
            ],
            "type": "heatmapgl"
           }
          ],
          "histogram": [
           {
            "marker": {
             "pattern": {
              "fillmode": "overlay",
              "size": 10,
              "solidity": 0.2
             }
            },
            "type": "histogram"
           }
          ],
          "histogram2d": [
           {
            "colorbar": {
             "outlinewidth": 0,
             "ticks": ""
            },
            "colorscale": [
             [
              0,
              "#0d0887"
             ],
             [
              0.1111111111111111,
              "#46039f"
             ],
             [
              0.2222222222222222,
              "#7201a8"
             ],
             [
              0.3333333333333333,
              "#9c179e"
             ],
             [
              0.4444444444444444,
              "#bd3786"
             ],
             [
              0.5555555555555556,
              "#d8576b"
             ],
             [
              0.6666666666666666,
              "#ed7953"
             ],
             [
              0.7777777777777778,
              "#fb9f3a"
             ],
             [
              0.8888888888888888,
              "#fdca26"
             ],
             [
              1,
              "#f0f921"
             ]
            ],
            "type": "histogram2d"
           }
          ],
          "histogram2dcontour": [
           {
            "colorbar": {
             "outlinewidth": 0,
             "ticks": ""
            },
            "colorscale": [
             [
              0,
              "#0d0887"
             ],
             [
              0.1111111111111111,
              "#46039f"
             ],
             [
              0.2222222222222222,
              "#7201a8"
             ],
             [
              0.3333333333333333,
              "#9c179e"
             ],
             [
              0.4444444444444444,
              "#bd3786"
             ],
             [
              0.5555555555555556,
              "#d8576b"
             ],
             [
              0.6666666666666666,
              "#ed7953"
             ],
             [
              0.7777777777777778,
              "#fb9f3a"
             ],
             [
              0.8888888888888888,
              "#fdca26"
             ],
             [
              1,
              "#f0f921"
             ]
            ],
            "type": "histogram2dcontour"
           }
          ],
          "mesh3d": [
           {
            "colorbar": {
             "outlinewidth": 0,
             "ticks": ""
            },
            "type": "mesh3d"
           }
          ],
          "parcoords": [
           {
            "line": {
             "colorbar": {
              "outlinewidth": 0,
              "ticks": ""
             }
            },
            "type": "parcoords"
           }
          ],
          "pie": [
           {
            "automargin": true,
            "type": "pie"
           }
          ],
          "scatter": [
           {
            "fillpattern": {
             "fillmode": "overlay",
             "size": 10,
             "solidity": 0.2
            },
            "type": "scatter"
           }
          ],
          "scatter3d": [
           {
            "line": {
             "colorbar": {
              "outlinewidth": 0,
              "ticks": ""
             }
            },
            "marker": {
             "colorbar": {
              "outlinewidth": 0,
              "ticks": ""
             }
            },
            "type": "scatter3d"
           }
          ],
          "scattercarpet": [
           {
            "marker": {
             "colorbar": {
              "outlinewidth": 0,
              "ticks": ""
             }
            },
            "type": "scattercarpet"
           }
          ],
          "scattergeo": [
           {
            "marker": {
             "colorbar": {
              "outlinewidth": 0,
              "ticks": ""
             }
            },
            "type": "scattergeo"
           }
          ],
          "scattergl": [
           {
            "marker": {
             "colorbar": {
              "outlinewidth": 0,
              "ticks": ""
             }
            },
            "type": "scattergl"
           }
          ],
          "scattermapbox": [
           {
            "marker": {
             "colorbar": {
              "outlinewidth": 0,
              "ticks": ""
             }
            },
            "type": "scattermapbox"
           }
          ],
          "scatterpolar": [
           {
            "marker": {
             "colorbar": {
              "outlinewidth": 0,
              "ticks": ""
             }
            },
            "type": "scatterpolar"
           }
          ],
          "scatterpolargl": [
           {
            "marker": {
             "colorbar": {
              "outlinewidth": 0,
              "ticks": ""
             }
            },
            "type": "scatterpolargl"
           }
          ],
          "scatterternary": [
           {
            "marker": {
             "colorbar": {
              "outlinewidth": 0,
              "ticks": ""
             }
            },
            "type": "scatterternary"
           }
          ],
          "surface": [
           {
            "colorbar": {
             "outlinewidth": 0,
             "ticks": ""
            },
            "colorscale": [
             [
              0,
              "#0d0887"
             ],
             [
              0.1111111111111111,
              "#46039f"
             ],
             [
              0.2222222222222222,
              "#7201a8"
             ],
             [
              0.3333333333333333,
              "#9c179e"
             ],
             [
              0.4444444444444444,
              "#bd3786"
             ],
             [
              0.5555555555555556,
              "#d8576b"
             ],
             [
              0.6666666666666666,
              "#ed7953"
             ],
             [
              0.7777777777777778,
              "#fb9f3a"
             ],
             [
              0.8888888888888888,
              "#fdca26"
             ],
             [
              1,
              "#f0f921"
             ]
            ],
            "type": "surface"
           }
          ],
          "table": [
           {
            "cells": {
             "fill": {
              "color": "#EBF0F8"
             },
             "line": {
              "color": "white"
             }
            },
            "header": {
             "fill": {
              "color": "#C8D4E3"
             },
             "line": {
              "color": "white"
             }
            },
            "type": "table"
           }
          ]
         },
         "layout": {
          "annotationdefaults": {
           "arrowcolor": "#2a3f5f",
           "arrowhead": 0,
           "arrowwidth": 1
          },
          "autotypenumbers": "strict",
          "coloraxis": {
           "colorbar": {
            "outlinewidth": 0,
            "ticks": ""
           }
          },
          "colorscale": {
           "diverging": [
            [
             0,
             "#8e0152"
            ],
            [
             0.1,
             "#c51b7d"
            ],
            [
             0.2,
             "#de77ae"
            ],
            [
             0.3,
             "#f1b6da"
            ],
            [
             0.4,
             "#fde0ef"
            ],
            [
             0.5,
             "#f7f7f7"
            ],
            [
             0.6,
             "#e6f5d0"
            ],
            [
             0.7,
             "#b8e186"
            ],
            [
             0.8,
             "#7fbc41"
            ],
            [
             0.9,
             "#4d9221"
            ],
            [
             1,
             "#276419"
            ]
           ],
           "sequential": [
            [
             0,
             "#0d0887"
            ],
            [
             0.1111111111111111,
             "#46039f"
            ],
            [
             0.2222222222222222,
             "#7201a8"
            ],
            [
             0.3333333333333333,
             "#9c179e"
            ],
            [
             0.4444444444444444,
             "#bd3786"
            ],
            [
             0.5555555555555556,
             "#d8576b"
            ],
            [
             0.6666666666666666,
             "#ed7953"
            ],
            [
             0.7777777777777778,
             "#fb9f3a"
            ],
            [
             0.8888888888888888,
             "#fdca26"
            ],
            [
             1,
             "#f0f921"
            ]
           ],
           "sequentialminus": [
            [
             0,
             "#0d0887"
            ],
            [
             0.1111111111111111,
             "#46039f"
            ],
            [
             0.2222222222222222,
             "#7201a8"
            ],
            [
             0.3333333333333333,
             "#9c179e"
            ],
            [
             0.4444444444444444,
             "#bd3786"
            ],
            [
             0.5555555555555556,
             "#d8576b"
            ],
            [
             0.6666666666666666,
             "#ed7953"
            ],
            [
             0.7777777777777778,
             "#fb9f3a"
            ],
            [
             0.8888888888888888,
             "#fdca26"
            ],
            [
             1,
             "#f0f921"
            ]
           ]
          },
          "colorway": [
           "#636efa",
           "#EF553B",
           "#00cc96",
           "#ab63fa",
           "#FFA15A",
           "#19d3f3",
           "#FF6692",
           "#B6E880",
           "#FF97FF",
           "#FECB52"
          ],
          "font": {
           "color": "#2a3f5f"
          },
          "geo": {
           "bgcolor": "white",
           "lakecolor": "white",
           "landcolor": "#E5ECF6",
           "showlakes": true,
           "showland": true,
           "subunitcolor": "white"
          },
          "hoverlabel": {
           "align": "left"
          },
          "hovermode": "closest",
          "mapbox": {
           "style": "light"
          },
          "paper_bgcolor": "white",
          "plot_bgcolor": "#E5ECF6",
          "polar": {
           "angularaxis": {
            "gridcolor": "white",
            "linecolor": "white",
            "ticks": ""
           },
           "bgcolor": "#E5ECF6",
           "radialaxis": {
            "gridcolor": "white",
            "linecolor": "white",
            "ticks": ""
           }
          },
          "scene": {
           "xaxis": {
            "backgroundcolor": "#E5ECF6",
            "gridcolor": "white",
            "gridwidth": 2,
            "linecolor": "white",
            "showbackground": true,
            "ticks": "",
            "zerolinecolor": "white"
           },
           "yaxis": {
            "backgroundcolor": "#E5ECF6",
            "gridcolor": "white",
            "gridwidth": 2,
            "linecolor": "white",
            "showbackground": true,
            "ticks": "",
            "zerolinecolor": "white"
           },
           "zaxis": {
            "backgroundcolor": "#E5ECF6",
            "gridcolor": "white",
            "gridwidth": 2,
            "linecolor": "white",
            "showbackground": true,
            "ticks": "",
            "zerolinecolor": "white"
           }
          },
          "shapedefaults": {
           "line": {
            "color": "#2a3f5f"
           }
          },
          "ternary": {
           "aaxis": {
            "gridcolor": "white",
            "linecolor": "white",
            "ticks": ""
           },
           "baxis": {
            "gridcolor": "white",
            "linecolor": "white",
            "ticks": ""
           },
           "bgcolor": "#E5ECF6",
           "caxis": {
            "gridcolor": "white",
            "linecolor": "white",
            "ticks": ""
           }
          },
          "title": {
           "x": 0.05
          },
          "xaxis": {
           "automargin": true,
           "gridcolor": "white",
           "linecolor": "white",
           "ticks": "",
           "title": {
            "standoff": 15
           },
           "zerolinecolor": "white",
           "zerolinewidth": 2
          },
          "yaxis": {
           "automargin": true,
           "gridcolor": "white",
           "linecolor": "white",
           "ticks": "",
           "title": {
            "standoff": 15
           },
           "zerolinecolor": "white",
           "zerolinewidth": 2
          }
         }
        },
        "title": {
         "text": "Amortized hardware CapEx, energy, and R&D staff costs for training and experiments"
        },
        "width": 800,
        "xaxis": {
         "title": {
          "text": "Model"
         }
        },
        "yaxis": {
         "title": {
          "text": "Cost (2023 USD, log scale)"
         },
         "type": "log"
        }
       }
      }
     },
     "metadata": {},
     "output_type": "display_data"
    }
   ],
   "source": [
    "# Create a grouped bar chart with error bars\n",
    "fig = go.Figure()\n",
    "\n",
    "# Group 1\n",
    "for component in cost_component_names:\n",
    "    y_values = [np.median(cost_data[model][component]) for model in models]\n",
    "    y_lows = [np.percentile(cost_data[model][component], 2.5) for model in models]\n",
    "    y_highs = [np.percentile(cost_data[model][component], 97.5) for model in models]\n",
    "    print(component)\n",
    "    print(y_values, y_lows, y_highs)\n",
    "    fig.add_trace(go.Bar(\n",
    "        x=models,\n",
    "        y=y_values,\n",
    "        error_y=dict(\n",
    "            type='data',\n",
    "            symmetric=False,  # Use asymmetric error bars\n",
    "            array=[y_highs[i] - y_values[i] for i in range(len(y_values))],  # Upper bounds of the error bars\n",
    "            arrayminus=[y_values[i] - y_lows[i] for i in range(len(y_values))],  # Lower bounds\n",
    "            visible=True  # Make error bars visible\n",
    "        ),\n",
    "        name=component\n",
    "    ))\n",
    "\n",
    "# log y axis\n",
    "fig.update_yaxes(type=\"log\")\n",
    "\n",
    "# Customize the layout\n",
    "fig.update_layout(\n",
    "    width=800,\n",
    "    height=600,\n",
    "    barmode='group',  # Group bars together\n",
    "    title='Amortized hardware CapEx, energy, and R&D staff costs for training and experiments',\n",
    "    xaxis=dict(\n",
    "        title='Model'\n",
    "    ),\n",
    "    yaxis=dict(\n",
    "        title='Cost (2023 USD, log scale)'\n",
    "    ),\n",
    ")\n",
    "\n",
    "save_plot(fig, results_dir, 'total_amortized_model_development_costs')\n",
    "\n",
    "# Show the plot\n",
    "fig.show()\n"
   ]
  },
  {
   "cell_type": "code",
   "execution_count": 59,
   "metadata": {},
   "outputs": [
    {
     "data": {
      "text/plain": [
       "{'GPT-3 175B (davinci)': 7981506.275015453,\n",
       " 'OPT-175B': 3534290.0574047626,\n",
       " 'GPT-4': 146403832.0808149,\n",
       " 'Gemini Ultra': 192497958.58318412}"
      ]
     },
     "execution_count": 59,
     "metadata": {},
     "output_type": "execute_result"
    }
   ],
   "source": [
    "total_costs = {}\n",
    "for model in models:\n",
    "    total_costs[model] = sum(np.median(cost_data[model][component]) for component in cost_component_names)\n",
    "total_costs"
   ]
  },
  {
   "cell_type": "code",
   "execution_count": 60,
   "metadata": {},
   "outputs": [
    {
     "name": "stdout",
     "output_type": "stream",
     "text": [
      "GPT-3 175B (davinci)\n",
      "2.5th percentile\n",
      "2079460.575329677\n",
      "50th percentile\n",
      "4281694.137533289\n",
      "97.5th percentile\n",
      "8370285.508384831\n",
      "OPT-175B\n",
      "2.5th percentile\n",
      "736035.8928006345\n",
      "50th percentile\n",
      "1475829.010719603\n",
      "97.5th percentile\n",
      "2958088.7584158536\n",
      "GPT-4\n",
      "2.5th percentile\n",
      "43195343.31743777\n",
      "50th percentile\n",
      "85267758.41573991\n",
      "97.5th percentile\n",
      "178011266.23202875\n",
      "Gemini Ultra\n",
      "2.5th percentile\n",
      "5994845.533430393\n",
      "50th percentile\n",
      "30382468.585737728\n",
      "97.5th percentile\n",
      "165922391.18869555\n"
     ]
    }
   ],
   "source": [
    "for model in models:\n",
    "    print(model)\n",
    "    for percentile in [2.5, 50, 97.5]:\n",
    "        print(f'{percentile}th percentile')\n",
    "        print(sum(np.percentile(cost_data[model][component], percentile) for component in cost_component_names[1:]))"
   ]
  },
  {
   "cell_type": "code",
   "execution_count": 61,
   "metadata": {},
   "outputs": [
    {
     "data": {
      "text/plain": [
       "24"
      ]
     },
     "execution_count": 61,
     "metadata": {},
     "output_type": "execute_result"
    }
   ],
   "source": [
    "len(price_df['Hardware model'].unique())"
   ]
  },
  {
   "cell_type": "code",
   "execution_count": 62,
   "metadata": {},
   "outputs": [
    {
     "data": {
      "application/vnd.plotly.v1+json": {
       "config": {
        "plotlyServerURL": "https://plot.ly"
       },
       "data": [
        {
         "name": "R&D staff cost",
         "text": [
          "50%",
          "60%",
          "40%",
          "80%"
         ],
         "textposition": "auto",
         "type": "bar",
         "x": [
          "GPT-3 175B (davinci)",
          "OPT-175B",
          "GPT-4",
          "Gemini Ultra"
         ],
         "y": [
          46.35481085899416,
          58.242561115560854,
          41.75852011259369,
          84.21673205816957
         ]
        },
        {
         "name": "AI accelerator chip cost",
         "text": [
          "30%",
          "20%",
          "30%",
          "10%"
         ],
         "textposition": "auto",
         "type": "bar",
         "x": [
          "GPT-3 175B (davinci)",
          "OPT-175B",
          "GPT-4",
          "Gemini Ultra"
         ],
         "y": [
          25.07869125229829,
          20.460730672121656,
          26.462143215397354,
          6.8422624911219145
         ]
        },
        {
         "name": "Other server components cost",
         "text": [
          "20%",
          "10%",
          "20%",
          "0%"
         ],
         "textposition": "auto",
         "type": "bar",
         "x": [
          "GPT-3 175B (davinci)",
          "OPT-175B",
          "GPT-4",
          "Gemini Ultra"
         ],
         "y": [
          17.819974743792745,
          13.48123333455013,
          17.9928850414464,
          4.379047994318023
         ]
        },
        {
         "name": "Cluster-level interconnect cost",
         "text": [
          "10%",
          "10%",
          "10%",
          "0%"
         ],
         "textposition": "auto",
         "type": "bar",
         "x": [
          "GPT-3 175B (davinci)",
          "OPT-175B",
          "GPT-4",
          "Gemini Ultra"
         ],
         "y": [
          8.260036499795238,
          6.574050579931087,
          8.55351973506374,
          1.683196572815989
         ]
        },
        {
         "name": "Energy cost",
         "text": [
          "0%",
          "0%",
          "10%",
          "0%"
         ],
         "textposition": "auto",
         "type": "bar",
         "x": [
          "GPT-3 175B (davinci)",
          "OPT-175B",
          "GPT-4",
          "Gemini Ultra"
         ],
         "y": [
          2.486486645119576,
          1.2414242978362688,
          5.232931895498809,
          2.8787608835745093
         ]
        }
       ],
       "layout": {
        "barmode": "stack",
        "height": 400,
        "legend": {
         "title": {
          "text": "Cost components"
         }
        },
        "template": {
         "data": {
          "bar": [
           {
            "error_x": {
             "color": "#2a3f5f"
            },
            "error_y": {
             "color": "#2a3f5f"
            },
            "marker": {
             "line": {
              "color": "#E5ECF6",
              "width": 0.5
             },
             "pattern": {
              "fillmode": "overlay",
              "size": 10,
              "solidity": 0.2
             }
            },
            "type": "bar"
           }
          ],
          "barpolar": [
           {
            "marker": {
             "line": {
              "color": "#E5ECF6",
              "width": 0.5
             },
             "pattern": {
              "fillmode": "overlay",
              "size": 10,
              "solidity": 0.2
             }
            },
            "type": "barpolar"
           }
          ],
          "carpet": [
           {
            "aaxis": {
             "endlinecolor": "#2a3f5f",
             "gridcolor": "white",
             "linecolor": "white",
             "minorgridcolor": "white",
             "startlinecolor": "#2a3f5f"
            },
            "baxis": {
             "endlinecolor": "#2a3f5f",
             "gridcolor": "white",
             "linecolor": "white",
             "minorgridcolor": "white",
             "startlinecolor": "#2a3f5f"
            },
            "type": "carpet"
           }
          ],
          "choropleth": [
           {
            "colorbar": {
             "outlinewidth": 0,
             "ticks": ""
            },
            "type": "choropleth"
           }
          ],
          "contour": [
           {
            "colorbar": {
             "outlinewidth": 0,
             "ticks": ""
            },
            "colorscale": [
             [
              0,
              "#0d0887"
             ],
             [
              0.1111111111111111,
              "#46039f"
             ],
             [
              0.2222222222222222,
              "#7201a8"
             ],
             [
              0.3333333333333333,
              "#9c179e"
             ],
             [
              0.4444444444444444,
              "#bd3786"
             ],
             [
              0.5555555555555556,
              "#d8576b"
             ],
             [
              0.6666666666666666,
              "#ed7953"
             ],
             [
              0.7777777777777778,
              "#fb9f3a"
             ],
             [
              0.8888888888888888,
              "#fdca26"
             ],
             [
              1,
              "#f0f921"
             ]
            ],
            "type": "contour"
           }
          ],
          "contourcarpet": [
           {
            "colorbar": {
             "outlinewidth": 0,
             "ticks": ""
            },
            "type": "contourcarpet"
           }
          ],
          "heatmap": [
           {
            "colorbar": {
             "outlinewidth": 0,
             "ticks": ""
            },
            "colorscale": [
             [
              0,
              "#0d0887"
             ],
             [
              0.1111111111111111,
              "#46039f"
             ],
             [
              0.2222222222222222,
              "#7201a8"
             ],
             [
              0.3333333333333333,
              "#9c179e"
             ],
             [
              0.4444444444444444,
              "#bd3786"
             ],
             [
              0.5555555555555556,
              "#d8576b"
             ],
             [
              0.6666666666666666,
              "#ed7953"
             ],
             [
              0.7777777777777778,
              "#fb9f3a"
             ],
             [
              0.8888888888888888,
              "#fdca26"
             ],
             [
              1,
              "#f0f921"
             ]
            ],
            "type": "heatmap"
           }
          ],
          "heatmapgl": [
           {
            "colorbar": {
             "outlinewidth": 0,
             "ticks": ""
            },
            "colorscale": [
             [
              0,
              "#0d0887"
             ],
             [
              0.1111111111111111,
              "#46039f"
             ],
             [
              0.2222222222222222,
              "#7201a8"
             ],
             [
              0.3333333333333333,
              "#9c179e"
             ],
             [
              0.4444444444444444,
              "#bd3786"
             ],
             [
              0.5555555555555556,
              "#d8576b"
             ],
             [
              0.6666666666666666,
              "#ed7953"
             ],
             [
              0.7777777777777778,
              "#fb9f3a"
             ],
             [
              0.8888888888888888,
              "#fdca26"
             ],
             [
              1,
              "#f0f921"
             ]
            ],
            "type": "heatmapgl"
           }
          ],
          "histogram": [
           {
            "marker": {
             "pattern": {
              "fillmode": "overlay",
              "size": 10,
              "solidity": 0.2
             }
            },
            "type": "histogram"
           }
          ],
          "histogram2d": [
           {
            "colorbar": {
             "outlinewidth": 0,
             "ticks": ""
            },
            "colorscale": [
             [
              0,
              "#0d0887"
             ],
             [
              0.1111111111111111,
              "#46039f"
             ],
             [
              0.2222222222222222,
              "#7201a8"
             ],
             [
              0.3333333333333333,
              "#9c179e"
             ],
             [
              0.4444444444444444,
              "#bd3786"
             ],
             [
              0.5555555555555556,
              "#d8576b"
             ],
             [
              0.6666666666666666,
              "#ed7953"
             ],
             [
              0.7777777777777778,
              "#fb9f3a"
             ],
             [
              0.8888888888888888,
              "#fdca26"
             ],
             [
              1,
              "#f0f921"
             ]
            ],
            "type": "histogram2d"
           }
          ],
          "histogram2dcontour": [
           {
            "colorbar": {
             "outlinewidth": 0,
             "ticks": ""
            },
            "colorscale": [
             [
              0,
              "#0d0887"
             ],
             [
              0.1111111111111111,
              "#46039f"
             ],
             [
              0.2222222222222222,
              "#7201a8"
             ],
             [
              0.3333333333333333,
              "#9c179e"
             ],
             [
              0.4444444444444444,
              "#bd3786"
             ],
             [
              0.5555555555555556,
              "#d8576b"
             ],
             [
              0.6666666666666666,
              "#ed7953"
             ],
             [
              0.7777777777777778,
              "#fb9f3a"
             ],
             [
              0.8888888888888888,
              "#fdca26"
             ],
             [
              1,
              "#f0f921"
             ]
            ],
            "type": "histogram2dcontour"
           }
          ],
          "mesh3d": [
           {
            "colorbar": {
             "outlinewidth": 0,
             "ticks": ""
            },
            "type": "mesh3d"
           }
          ],
          "parcoords": [
           {
            "line": {
             "colorbar": {
              "outlinewidth": 0,
              "ticks": ""
             }
            },
            "type": "parcoords"
           }
          ],
          "pie": [
           {
            "automargin": true,
            "type": "pie"
           }
          ],
          "scatter": [
           {
            "fillpattern": {
             "fillmode": "overlay",
             "size": 10,
             "solidity": 0.2
            },
            "type": "scatter"
           }
          ],
          "scatter3d": [
           {
            "line": {
             "colorbar": {
              "outlinewidth": 0,
              "ticks": ""
             }
            },
            "marker": {
             "colorbar": {
              "outlinewidth": 0,
              "ticks": ""
             }
            },
            "type": "scatter3d"
           }
          ],
          "scattercarpet": [
           {
            "marker": {
             "colorbar": {
              "outlinewidth": 0,
              "ticks": ""
             }
            },
            "type": "scattercarpet"
           }
          ],
          "scattergeo": [
           {
            "marker": {
             "colorbar": {
              "outlinewidth": 0,
              "ticks": ""
             }
            },
            "type": "scattergeo"
           }
          ],
          "scattergl": [
           {
            "marker": {
             "colorbar": {
              "outlinewidth": 0,
              "ticks": ""
             }
            },
            "type": "scattergl"
           }
          ],
          "scattermapbox": [
           {
            "marker": {
             "colorbar": {
              "outlinewidth": 0,
              "ticks": ""
             }
            },
            "type": "scattermapbox"
           }
          ],
          "scatterpolar": [
           {
            "marker": {
             "colorbar": {
              "outlinewidth": 0,
              "ticks": ""
             }
            },
            "type": "scatterpolar"
           }
          ],
          "scatterpolargl": [
           {
            "marker": {
             "colorbar": {
              "outlinewidth": 0,
              "ticks": ""
             }
            },
            "type": "scatterpolargl"
           }
          ],
          "scatterternary": [
           {
            "marker": {
             "colorbar": {
              "outlinewidth": 0,
              "ticks": ""
             }
            },
            "type": "scatterternary"
           }
          ],
          "surface": [
           {
            "colorbar": {
             "outlinewidth": 0,
             "ticks": ""
            },
            "colorscale": [
             [
              0,
              "#0d0887"
             ],
             [
              0.1111111111111111,
              "#46039f"
             ],
             [
              0.2222222222222222,
              "#7201a8"
             ],
             [
              0.3333333333333333,
              "#9c179e"
             ],
             [
              0.4444444444444444,
              "#bd3786"
             ],
             [
              0.5555555555555556,
              "#d8576b"
             ],
             [
              0.6666666666666666,
              "#ed7953"
             ],
             [
              0.7777777777777778,
              "#fb9f3a"
             ],
             [
              0.8888888888888888,
              "#fdca26"
             ],
             [
              1,
              "#f0f921"
             ]
            ],
            "type": "surface"
           }
          ],
          "table": [
           {
            "cells": {
             "fill": {
              "color": "#EBF0F8"
             },
             "line": {
              "color": "white"
             }
            },
            "header": {
             "fill": {
              "color": "#C8D4E3"
             },
             "line": {
              "color": "white"
             }
            },
            "type": "table"
           }
          ]
         },
         "layout": {
          "annotationdefaults": {
           "arrowcolor": "#2a3f5f",
           "arrowhead": 0,
           "arrowwidth": 1
          },
          "autotypenumbers": "strict",
          "coloraxis": {
           "colorbar": {
            "outlinewidth": 0,
            "ticks": ""
           }
          },
          "colorscale": {
           "diverging": [
            [
             0,
             "#8e0152"
            ],
            [
             0.1,
             "#c51b7d"
            ],
            [
             0.2,
             "#de77ae"
            ],
            [
             0.3,
             "#f1b6da"
            ],
            [
             0.4,
             "#fde0ef"
            ],
            [
             0.5,
             "#f7f7f7"
            ],
            [
             0.6,
             "#e6f5d0"
            ],
            [
             0.7,
             "#b8e186"
            ],
            [
             0.8,
             "#7fbc41"
            ],
            [
             0.9,
             "#4d9221"
            ],
            [
             1,
             "#276419"
            ]
           ],
           "sequential": [
            [
             0,
             "#0d0887"
            ],
            [
             0.1111111111111111,
             "#46039f"
            ],
            [
             0.2222222222222222,
             "#7201a8"
            ],
            [
             0.3333333333333333,
             "#9c179e"
            ],
            [
             0.4444444444444444,
             "#bd3786"
            ],
            [
             0.5555555555555556,
             "#d8576b"
            ],
            [
             0.6666666666666666,
             "#ed7953"
            ],
            [
             0.7777777777777778,
             "#fb9f3a"
            ],
            [
             0.8888888888888888,
             "#fdca26"
            ],
            [
             1,
             "#f0f921"
            ]
           ],
           "sequentialminus": [
            [
             0,
             "#0d0887"
            ],
            [
             0.1111111111111111,
             "#46039f"
            ],
            [
             0.2222222222222222,
             "#7201a8"
            ],
            [
             0.3333333333333333,
             "#9c179e"
            ],
            [
             0.4444444444444444,
             "#bd3786"
            ],
            [
             0.5555555555555556,
             "#d8576b"
            ],
            [
             0.6666666666666666,
             "#ed7953"
            ],
            [
             0.7777777777777778,
             "#fb9f3a"
            ],
            [
             0.8888888888888888,
             "#fdca26"
            ],
            [
             1,
             "#f0f921"
            ]
           ]
          },
          "colorway": [
           "#636efa",
           "#EF553B",
           "#00cc96",
           "#ab63fa",
           "#FFA15A",
           "#19d3f3",
           "#FF6692",
           "#B6E880",
           "#FF97FF",
           "#FECB52"
          ],
          "font": {
           "color": "#2a3f5f"
          },
          "geo": {
           "bgcolor": "white",
           "lakecolor": "white",
           "landcolor": "#E5ECF6",
           "showlakes": true,
           "showland": true,
           "subunitcolor": "white"
          },
          "hoverlabel": {
           "align": "left"
          },
          "hovermode": "closest",
          "mapbox": {
           "style": "light"
          },
          "paper_bgcolor": "white",
          "plot_bgcolor": "#E5ECF6",
          "polar": {
           "angularaxis": {
            "gridcolor": "white",
            "linecolor": "white",
            "ticks": ""
           },
           "bgcolor": "#E5ECF6",
           "radialaxis": {
            "gridcolor": "white",
            "linecolor": "white",
            "ticks": ""
           }
          },
          "scene": {
           "xaxis": {
            "backgroundcolor": "#E5ECF6",
            "gridcolor": "white",
            "gridwidth": 2,
            "linecolor": "white",
            "showbackground": true,
            "ticks": "",
            "zerolinecolor": "white"
           },
           "yaxis": {
            "backgroundcolor": "#E5ECF6",
            "gridcolor": "white",
            "gridwidth": 2,
            "linecolor": "white",
            "showbackground": true,
            "ticks": "",
            "zerolinecolor": "white"
           },
           "zaxis": {
            "backgroundcolor": "#E5ECF6",
            "gridcolor": "white",
            "gridwidth": 2,
            "linecolor": "white",
            "showbackground": true,
            "ticks": "",
            "zerolinecolor": "white"
           }
          },
          "shapedefaults": {
           "line": {
            "color": "#2a3f5f"
           }
          },
          "ternary": {
           "aaxis": {
            "gridcolor": "white",
            "linecolor": "white",
            "ticks": ""
           },
           "baxis": {
            "gridcolor": "white",
            "linecolor": "white",
            "ticks": ""
           },
           "bgcolor": "#E5ECF6",
           "caxis": {
            "gridcolor": "white",
            "linecolor": "white",
            "ticks": ""
           }
          },
          "title": {
           "x": 0.05
          },
          "xaxis": {
           "automargin": true,
           "gridcolor": "white",
           "linecolor": "white",
           "ticks": "",
           "title": {
            "standoff": 15
           },
           "zerolinecolor": "white",
           "zerolinewidth": 2
          },
          "yaxis": {
           "automargin": true,
           "gridcolor": "white",
           "linecolor": "white",
           "ticks": "",
           "title": {
            "standoff": 15
           },
           "zerolinecolor": "white",
           "zerolinewidth": 2
          }
         }
        },
        "title": {
         "text": "Proportions of cost for training and experiments"
        },
        "width": 600,
        "xaxis": {
         "title": {
          "text": "Models"
         }
        },
        "yaxis": {
         "range": [
          0,
          100
         ],
         "title": {
          "text": "Proportion (%)"
         }
        }
       }
      }
     },
     "metadata": {},
     "output_type": "display_data"
    }
   ],
   "source": [
    "# Creating the figure\n",
    "fig = go.Figure()\n",
    "\n",
    "for component in cost_component_names:\n",
    "    proportions = [np.median(cost_data[model][component]) / total_costs[model] * 100 for model in models]\n",
    "    fig.add_trace(go.Bar(\n",
    "        name=component,\n",
    "        x=list(models),\n",
    "        y=proportions,\n",
    "        text=[f'{np.around(pp/100, 1) * 100:.0f}%' for pp in proportions],\n",
    "        textposition='auto',\n",
    "    ))\n",
    "\n",
    "# y ticks\n",
    "fig.update_yaxes(range=[0, 100])\n",
    "\n",
    "# Update the layout\n",
    "fig.update_layout(\n",
    "    barmode='stack',\n",
    "    title='Proportions of cost for training and experiments',\n",
    "    xaxis_title='Models',\n",
    "    yaxis_title='Proportion (%)',\n",
    "    legend_title='Cost components',\n",
    "    width=600,\n",
    "    height=400,\n",
    ")\n",
    "\n",
    "# Save plot\n",
    "save_plot(fig, results_dir, 'cost_proportions_stacked')\n",
    "\n",
    "# Show the figure\n",
    "fig.show()"
   ]
  },
  {
   "cell_type": "code",
   "execution_count": null,
   "metadata": {},
   "outputs": [],
   "source": []
  }
 ],
 "metadata": {
  "kernelspec": {
   "display_name": "epoch",
   "language": "python",
   "name": "python3"
  },
  "language_info": {
   "codemirror_mode": {
    "name": "ipython",
    "version": 3
   },
   "file_extension": ".py",
   "mimetype": "text/x-python",
   "name": "python",
   "nbconvert_exporter": "python",
   "pygments_lexer": "ipython3",
   "version": "3.11.4"
  }
 },
 "nbformat": 4,
 "nbformat_minor": 2
}
