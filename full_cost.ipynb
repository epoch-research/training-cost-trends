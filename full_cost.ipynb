{
 "cells": [
  {
   "cell_type": "markdown",
   "metadata": {},
   "source": [
    "# Setup"
   ]
  },
  {
   "cell_type": "code",
   "execution_count": 1,
   "metadata": {},
   "outputs": [],
   "source": [
    "from datetime import datetime\n",
    "import numpy as np\n",
    "import os\n",
    "import pandas as pd\n",
    "import plotly.graph_objects as go\n",
    "from plotly.subplots import make_subplots\n",
    "\n",
    "from parameters import *\n",
    "from plotting import *\n",
    "from utils import *"
   ]
  },
  {
   "cell_type": "code",
   "execution_count": 2,
   "metadata": {},
   "outputs": [],
   "source": [
    "results_dir = f'results/full-costs-amortized-hardware/'\n",
    "os.makedirs(results_dir, exist_ok=True)"
   ]
  },
  {
   "cell_type": "markdown",
   "metadata": {},
   "source": [
    "Sample size for Monte Carlo"
   ]
  },
  {
   "cell_type": "code",
   "execution_count": 3,
   "metadata": {},
   "outputs": [],
   "source": [
    "N = 1000"
   ]
  },
  {
   "cell_type": "code",
   "execution_count": 4,
   "metadata": {},
   "outputs": [],
   "source": [
    "cost_data_upfront_capex = {}\n",
    "cost_data_amortized_capex = {}"
   ]
  },
  {
   "cell_type": "markdown",
   "metadata": {},
   "source": [
    "# GPT-3"
   ]
  },
  {
   "cell_type": "markdown",
   "metadata": {},
   "source": [
    "## Project duration"
   ]
  },
  {
   "cell_type": "markdown",
   "metadata": {},
   "source": [
    "Training end time\n",
    "- [Shelvane (2022, Ch. 2 p.3, or p.66)](https://uploads-ssl.webflow.com/614b70a71b9f71c9c240c7a7/6262a1a55526a373cc93207d_Shevlane%20dissertation%20preprint.pdf): “[An OpenAI staff member] told me: ‘GPT-3 existed for a long time before the paper came out. We delayed the paper. That was one of the things we could do for AGI stuff. But it’s months, it doesn't really count.’”\n",
    "- Paper publication date: 2020-May-28\n",
    "- [Shevlane (2022)](https://uploads-ssl.webflow.com/614b70a71b9f71c9c240c7a7/6262a1a55526a373cc93207d_Shevlane%20dissertation%20preprint.pdf). Ch.2 p.4 or p. 67: CAMERON said \"Firstly, [the idea for a commercial API for GPT-3] started out as a research API. It probably was . . . early January 2020.\" This is a strong indication that GPT-3 had finished training by early January 2020\n",
    "- It’s plausible that GPT-3 was produced soon after the Microsoft deal was announced in July 2019. Supposing the announcement coincided with Microsoft giving OpenAI access to the necessary compute, and OpenAI already having almost everything about GPT-3 planned in advance, and it took less than 1 month to train (reported training time is ~15 days), then GPT-3 could have been produced in August 2019.\n",
    "- So I take August to January as the 90% CI."
   ]
  },
  {
   "cell_type": "code",
   "execution_count": 5,
   "metadata": {},
   "outputs": [],
   "source": [
    "training_end_low = datetime(2019, 8, 1)\n",
    "training_end_high = datetime(2020, 1, 1)"
   ]
  },
  {
   "cell_type": "markdown",
   "metadata": {},
   "source": [
    "\n",
    "Project start time\n",
    "- Lower bound on start time: when GPT-2 was published, 2019-Feb-14\n",
    "  - It could have been earlier than this, but that seems unlikely\n",
    "- Upper bound on start time: 2019-Nov-01, two months before the upper bound on training completion\n",
    "  - I think they’d need six weeks at the absolute minimum, to prepare training data and scale up the experiments successfully\n"
   ]
  },
  {
   "cell_type": "code",
   "execution_count": 6,
   "metadata": {},
   "outputs": [],
   "source": [
    "project_start_low = datetime(2019, 2, 14)\n",
    "project_start_high = datetime(2019, 11, 1)\n"
   ]
  },
  {
   "cell_type": "code",
   "execution_count": 7,
   "metadata": {},
   "outputs": [],
   "source": [
    "dt2float = lambda x: x.year + x.month/12 + x.day/365\n",
    "float2dt = lambda x: datetime(int(x), int((x-int(x))*12), int(((x-int(x))*12-int((x-int(x))*12))*365))"
   ]
  },
  {
   "cell_type": "code",
   "execution_count": 8,
   "metadata": {},
   "outputs": [
    {
     "name": "stdout",
     "output_type": "stream",
     "text": [
      "Median: 4.3 [90% CI: 1, 8.9]\n"
     ]
    }
   ],
   "source": [
    "min_project_duration = 15 / 365  # training duration\n",
    "project_duration = []\n",
    "while len(project_duration) < N:\n",
    "    project_start = lognorm_from_90_ci(dt2float(project_start_low), dt2float(project_start_high), 1)\n",
    "    training_end = lognorm_from_90_ci(dt2float(training_end_low), dt2float(training_end_high), 1)\n",
    "    project_duration_sample = training_end[0] - project_start[0]\n",
    "    if project_duration_sample > min_project_duration:\n",
    "        project_duration.append(project_duration_sample)\n",
    "project_duration = np.array(project_duration)\n",
    "print_median_and_ci(project_duration * 12)"
   ]
  },
  {
   "cell_type": "markdown",
   "metadata": {},
   "source": [
    "## GPU hardware"
   ]
  },
  {
   "cell_type": "markdown",
   "metadata": {},
   "source": [
    "Price at release (2017 Q3) for a NVIDIA DGX-1 with 8x V100 GPUs was $149,000. This includes CPUs, node-level interconnect hardware, and cooling equipment inside the server.\n",
    "The cluster used to train GPT-3 was reportedly 10,000 V100 GPUs. Assume that they used DGX-1 servers. 10,000 / 8 = 1250 DGX-1 servers.\n",
    "1250 * $149,000 = $186,250,000.\n"
   ]
  },
  {
   "cell_type": "code",
   "execution_count": 9,
   "metadata": {},
   "outputs": [
    {
     "name": "stdout",
     "output_type": "stream",
     "text": [
      "1.8625e+08\n"
     ]
    }
   ],
   "source": [
    "num_gpus = 10000\n",
    "price_per_server = 149e3\n",
    "gpus_per_server = 8\n",
    "num_servers = num_gpus / gpus_per_server\n",
    "gpu_hardware_cost = price_per_server * num_servers\n",
    "printg(gpu_hardware_cost)"
   ]
  },
  {
   "cell_type": "markdown",
   "metadata": {},
   "source": [
    "## Other hardware"
   ]
  },
  {
   "cell_type": "markdown",
   "metadata": {},
   "source": [
    "The NVIDIA DGX-1 server already covers CPUs and node-level interconnect\n",
    "We assume that the biggest cost on top of that is cluster-level interconnect (transceivers, switches, and cables). \n",
    "Assume $11 per Gbps of server-level interconnect\n",
    "Unsure if $11 is accurate for V100. $11 may only be accurate for current generation hardware.\n",
    "How fast is V100 interconnect? With NVLink it’s 300 Gbps per GPU (https://www.nvidia.com/en-gb/data-center/tesla-v100/). It’s likely that OpenAI was using NVLink by the time they trained GPT-3.\n",
    "$11/Gbps * 10000 GPUs * 300 Gbps = $33M\n"
   ]
  },
  {
   "cell_type": "code",
   "execution_count": 10,
   "metadata": {},
   "outputs": [
    {
     "name": "stdout",
     "output_type": "stream",
     "text": [
      "3.3e+07\n"
     ]
    }
   ],
   "source": [
    "cluster_interconnect_cost_per_gbps = 11\n",
    "cluster_interconnect_bandwidth = 300\n",
    "cluster_interconnect_cost = cluster_interconnect_cost_per_gbps * cluster_interconnect_bandwidth * num_gpus\n",
    "printg(cluster_interconnect_cost)"
   ]
  },
  {
   "cell_type": "markdown",
   "metadata": {},
   "source": [
    "## Energy"
   ]
  },
  {
   "cell_type": "markdown",
   "metadata": {},
   "source": [
    "- Total energy consumption of training: 1287 MWh (Patterson et al. 2021)\n",
    "- I don’t see the location of the Microsoft datacenter. Will assume it was Washington.\n",
    "- According to this [2018 Industrial Energy Data Book](https://www.nrel.gov/docs/fy20osti/73901.pdf), industrial energy retailed for $0.046/kWh in Washington, the cheapest rate of any state in the US\n",
    "- In the most expensive state, Hawaii, energy prices are 4x higher."
   ]
  },
  {
   "cell_type": "code",
   "execution_count": 11,
   "metadata": {},
   "outputs": [
    {
     "name": "stdout",
     "output_type": "stream",
     "text": [
      "213642\n"
     ]
    }
   ],
   "source": [
    "experiment_factor = 2.0\n",
    "energy_consumption_kwh = 1287e3 * experiment_factor\n",
    "price_per_kwh = 0.083\n",
    "energy_cost = energy_consumption_kwh * price_per_kwh\n",
    "printg(energy_cost)"
   ]
  },
  {
   "cell_type": "markdown",
   "metadata": {},
   "source": [
    "## Personnel"
   ]
  },
  {
   "cell_type": "markdown",
   "metadata": {},
   "source": [
    "Full-time equivalents (FTEs)\n",
    "- 31 authors\n",
    "- Guess: lognormal, 90% CI: 30% to 150% of #authors FTEs (i.e. ~10 to 46 people)\n",
    "\n",
    "Salary\n",
    "- Current data at https://www.levels.fyi/companies/openai/salaries/software-engineer?country=254 suggests - $500k to $1M is typical (including stock). Given recent investments in OpenAI, this may have increased a lot since 2019-2020, especially the stock component.\n",
    "- Guess at the salary distribution: lognormal, 90% CI: $300K to $2M\n"
   ]
  },
  {
   "cell_type": "code",
   "execution_count": 12,
   "metadata": {},
   "outputs": [],
   "source": [
    "total_salaries = np.zeros(N)\n",
    "for i in range(N):\n",
    "    ftes = int(lognorm_from_90_ci(0.3 * 31, 1.5 * 31, 1)[0])\n",
    "    salary = lognorm_from_90_ci(3e5, 2e6, ftes)\n",
    "    total_salaries[i] = salary.sum()"
   ]
  },
  {
   "cell_type": "code",
   "execution_count": 13,
   "metadata": {},
   "outputs": [],
   "source": [
    "personnel_cost = total_salaries * project_duration"
   ]
  },
  {
   "cell_type": "code",
   "execution_count": 14,
   "metadata": {},
   "outputs": [
    {
     "name": "stdout",
     "output_type": "stream",
     "text": [
      "Median: 6.1e+06 [90% CI: 1.3e+06, 2.1e+07]\n"
     ]
    }
   ],
   "source": [
    "print_median_and_ci(personnel_cost)"
   ]
  },
  {
   "cell_type": "markdown",
   "metadata": {},
   "source": [
    "## Overall"
   ]
  },
  {
   "cell_type": "code",
   "execution_count": 15,
   "metadata": {},
   "outputs": [],
   "source": [
    "cost_data_upfront_capex['GPT-3'] = {\n",
    "    'GPU servers': gpu_hardware_cost,\n",
    "    'Other hardware': cluster_interconnect_cost,\n",
    "    'Energy': energy_cost,\n",
    "    'Personnel': personnel_cost.mean(),\n",
    "}"
   ]
  },
  {
   "cell_type": "code",
   "execution_count": 16,
   "metadata": {},
   "outputs": [],
   "source": [
    "v100_server_lifetime = lognorm_from_90_ci(2, 7, N)  # years"
   ]
  },
  {
   "cell_type": "code",
   "execution_count": 17,
   "metadata": {},
   "outputs": [],
   "source": [
    "cost_data_amortized_capex['GPT-3'] = {\n",
    "    'GPU servers': np.mean(gpu_hardware_cost * project_duration / v100_server_lifetime),\n",
    "    'Other hardware': np.mean(cluster_interconnect_cost * project_duration / v100_server_lifetime),  # assume same lifetime for interconnect\n",
    "    'Energy': energy_cost,\n",
    "    'Personnel': personnel_cost.mean(),\n",
    "}"
   ]
  },
  {
   "cell_type": "markdown",
   "metadata": {},
   "source": [
    "# OPT-175B"
   ]
  },
  {
   "cell_type": "markdown",
   "metadata": {},
   "source": [
    "## GPU hardware"
   ]
  },
  {
   "cell_type": "markdown",
   "metadata": {},
   "source": [
    "$167000 for DGX A100, 8 GPU, 640GB. In Jan 2022. From a reseller.\n",
    "https://web.archive.org/web/20220120191032/https://www.dihuni.com/product/dgx-a100-comparable-dihuni-optiready-ai-a100-sxm4-8nve-8-x-ampere-a100-sxm4-nvlink-epyc-deep-learning-server/"
   ]
  },
  {
   "cell_type": "code",
   "execution_count": 18,
   "metadata": {},
   "outputs": [
    {
     "name": "stdout",
     "output_type": "stream",
     "text": [
      "2.0708e+07\n"
     ]
    }
   ],
   "source": [
    "num_gpus = 992\n",
    "price_per_server = 167e3\n",
    "gpus_per_server = 8\n",
    "num_servers = num_gpus / gpus_per_server\n",
    "gpu_hardware_cost = price_per_server * num_servers\n",
    "printg(gpu_hardware_cost)"
   ]
  },
  {
   "cell_type": "markdown",
   "metadata": {},
   "source": [
    "## Other hardware"
   ]
  },
  {
   "cell_type": "markdown",
   "metadata": {},
   "source": [
    "The NVIDIA DGX A100 server already covers CPUs and node-level interconnect\n",
    "We assume that the biggest cost on top of that is cluster-level interconnect (transceivers, switches, and cables). \n",
    "Assume $11 per Gbps of server-level interconnect\n",
    "How fast is A100 interconnect? With NVLink it’s 600 Gbps per GPU (https://www.nvidia.com/en-gb/data-center/tesla-v100/).\n"
   ]
  },
  {
   "cell_type": "code",
   "execution_count": 19,
   "metadata": {},
   "outputs": [
    {
     "name": "stdout",
     "output_type": "stream",
     "text": [
      "6.5472e+06\n"
     ]
    }
   ],
   "source": [
    "cluster_interconnect_cost_per_gbps = 11\n",
    "cluster_interconnect_bandwidth = 600\n",
    "cluster_interconnect_cost = cluster_interconnect_cost_per_gbps * cluster_interconnect_bandwidth * num_gpus\n",
    "printg(cluster_interconnect_cost)"
   ]
  },
  {
   "cell_type": "markdown",
   "metadata": {},
   "source": [
    "## Energy"
   ]
  },
  {
   "cell_type": "markdown",
   "metadata": {},
   "source": [
    "https://arxiv.org/abs/2205.01068: \"[...] OPT-175B was developed with an estimated carbon emissions footprint (CO2eq) of 75 tons [...] With ablations, baselines and downtime, our own estimates of total cost is roughly 2× higher.\"\n",
    "\n",
    "- I haven't found numbers for carbon intensity, or how they calculate it\n",
    "- According to https://arxiv.org/pdf/2104.10350.pdf (Table 1), Gross CO2e/KWh (kg/KWh) for the “Google Iowa Council Bluffs” data center in 2020 was 0.478 CO2e/kWh (kg/kWh)\n",
    "- Energy use:\n",
    "  - 992 A100 GPU units\n",
    "  - 300W per unit (https://www.nvidia.com/en-us/data-center/a100/)\n",
    "  - Training time 33 days (https://github.com/facebookresearch/metaseq/blob/d703cf1ae1e0faaff6c20629398dfbe02b98cf77/projects/OPT/chronicles/final_update.md)\n",
    "  - Energy = 992 units * 0.3 kW/unit * 33 days * 24h/day ~= 236000 kWh\n",
    "  - 75000 kg / 236000 kWh ~= 0.318 CO2e/kWh (kg/kWh)\n",
    "  - Sanity check: this is similar to the Google data center figure of 0.478"
   ]
  },
  {
   "cell_type": "code",
   "execution_count": 20,
   "metadata": {},
   "outputs": [
    {
     "data": {
      "text/plain": [
       "39126.0672"
      ]
     },
     "execution_count": 20,
     "metadata": {},
     "output_type": "execute_result"
    }
   ],
   "source": [
    "training_time = 33 * 24\n",
    "power_per_gpu = 0.3\n",
    "experiment_factor = 2.0\n",
    "energy_consumption_kwh = training_time * num_gpus * power_per_gpu * experiment_factor\n",
    "price_per_kwh = 0.083\n",
    "energy_cost = energy_consumption_kwh * price_per_kwh\n",
    "energy_cost"
   ]
  },
  {
   "cell_type": "markdown",
   "metadata": {},
   "source": [
    "## Personnel"
   ]
  },
  {
   "cell_type": "markdown",
   "metadata": {},
   "source": [
    "2021-Oct-20: First date in [OPT logbook](https://github.com/facebookresearch/metaseq/blob/main/projects/OPT/chronicles/OPT175B_Logbook.pdf)\n",
    "\n",
    "2022-Jan-06: Date in the logbook where the final training run is stated to have completed"
   ]
  },
  {
   "cell_type": "code",
   "execution_count": 21,
   "metadata": {},
   "outputs": [],
   "source": [
    "project_duration = 78 / DAYS_PER_YEAR"
   ]
  },
  {
   "cell_type": "code",
   "execution_count": 22,
   "metadata": {},
   "outputs": [],
   "source": [
    "num_authors = 19"
   ]
  },
  {
   "cell_type": "code",
   "execution_count": 23,
   "metadata": {},
   "outputs": [],
   "source": [
    "total_salaries = np.zeros(N)\n",
    "for i in range(N):\n",
    "    ftes = int(lognorm_from_90_ci(0.3 * num_authors, 1.5 * num_authors, 1)[0])\n",
    "    salary = lognorm_from_90_ci(3e5, 2e6, ftes)\n",
    "    total_salaries[i] = salary.sum()"
   ]
  },
  {
   "cell_type": "code",
   "execution_count": 24,
   "metadata": {},
   "outputs": [],
   "source": [
    "personnel_cost = total_salaries * project_duration"
   ]
  },
  {
   "cell_type": "code",
   "execution_count": 25,
   "metadata": {},
   "outputs": [
    {
     "name": "stdout",
     "output_type": "stream",
     "text": [
      "Median: 2.3e+06 [90% CI: 8.6e+05, 5.8e+06]\n"
     ]
    }
   ],
   "source": [
    "print_median_and_ci(personnel_cost)"
   ]
  },
  {
   "cell_type": "markdown",
   "metadata": {},
   "source": [
    "## Overall"
   ]
  },
  {
   "cell_type": "code",
   "execution_count": 26,
   "metadata": {},
   "outputs": [],
   "source": [
    "cost_data_upfront_capex['OPT-175B'] = {\n",
    "    'GPU servers': gpu_hardware_cost,\n",
    "    'Other hardware': cluster_interconnect_cost,\n",
    "    'Energy': energy_cost,\n",
    "    'Personnel': personnel_cost.mean(),\n",
    "}"
   ]
  },
  {
   "cell_type": "code",
   "execution_count": 27,
   "metadata": {},
   "outputs": [],
   "source": [
    "a100_server_lifetime = lognorm_from_90_ci(2, 7, N)  # years"
   ]
  },
  {
   "cell_type": "code",
   "execution_count": 28,
   "metadata": {},
   "outputs": [
    {
     "data": {
      "text/plain": [
       "{'GPU servers': 1269351.2408554377,\n",
       " 'Other hardware': 401327.8174680666,\n",
       " 'Energy': 39126.0672,\n",
       " 'Personnel': 2676758.3713047686}"
      ]
     },
     "execution_count": 28,
     "metadata": {},
     "output_type": "execute_result"
    }
   ],
   "source": [
    "cost_data_amortized_capex['OPT-175B'] = {\n",
    "    'GPU servers': np.mean(gpu_hardware_cost * project_duration / a100_server_lifetime),\n",
    "    'Other hardware': np.mean(cluster_interconnect_cost * project_duration / a100_server_lifetime),\n",
    "    'Energy': energy_cost,\n",
    "    'Personnel': personnel_cost.mean(),\n",
    "}\n",
    "cost_data_amortized_capex['OPT-175B']"
   ]
  },
  {
   "cell_type": "markdown",
   "metadata": {},
   "source": [
    "# GPT-4"
   ]
  },
  {
   "cell_type": "markdown",
   "metadata": {},
   "source": [
    "Use the [estimate by Yafah Edelman](https://www.lesswrong.com/posts/nXcHe7t4rqHMjhzau/report-on-frontier-model-training#Cost_Breakdown_of_ML_Training) as a placeholder"
   ]
  },
  {
   "cell_type": "code",
   "execution_count": 29,
   "metadata": {},
   "outputs": [],
   "source": [
    "total_cost = 5e8\n",
    "cost_data_upfront_capex['GPT-4'] = {\n",
    "    'GPU servers': 0.569 * total_cost,\n",
    "    'Other hardware': 0.244 * total_cost,\n",
    "    'Energy': 0.01 * total_cost,\n",
    "    'Personnel': 0.178 * total_cost,\n",
    "}"
   ]
  },
  {
   "cell_type": "code",
   "execution_count": 30,
   "metadata": {},
   "outputs": [
    {
     "name": "stdout",
     "output_type": "stream",
     "text": [
      "Median: 5.6e+07 [90% CI: 3.1e+07, 1e+08]\n",
      "Median: 1.5e+08 [90% CI: 1.2e+08, 2e+08]\n"
     ]
    }
   ],
   "source": [
    "# Amortized capex\n",
    "upfront_hardware_capex = (0.569 + 0.244) * total_cost\n",
    "training_time = 2280 / HOURS_PER_YEAR  # in years, from PCD database\n",
    "experiment_factor = 2\n",
    "amortized_server_capex = upfront_hardware_capex * (training_time * experiment_factor) / a100_server_lifetime\n",
    "print_median_and_ci(amortized_server_capex)\n",
    "print_median_and_ci(amortized_server_capex + 0.01 * total_cost + 0.178 * total_cost)"
   ]
  },
  {
   "cell_type": "code",
   "execution_count": 31,
   "metadata": {},
   "outputs": [
    {
     "data": {
      "text/plain": [
       "46297056.81040383"
      ]
     },
     "execution_count": 31,
     "metadata": {},
     "output_type": "execute_result"
    }
   ],
   "source": [
    "# Yafah's labour cost estimate was based on 1 year of spending, but we're only counting 6 months of training + experiments\n",
    "adjusted_personnel_cost = (training_time * experiment_factor) * 0.178 * total_cost\n",
    "adjusted_personnel_cost"
   ]
  },
  {
   "cell_type": "code",
   "execution_count": 32,
   "metadata": {},
   "outputs": [],
   "source": [
    "cost_data_amortized_capex['GPT-4'] = {\n",
    "    'GPU servers': amortized_server_capex.mean() * 0.569,\n",
    "    'Other hardware': amortized_server_capex.mean() * 0.244,\n",
    "    'Energy': 0.01 * total_cost,\n",
    "    'Personnel': adjusted_personnel_cost,\n",
    "}"
   ]
  },
  {
   "cell_type": "markdown",
   "metadata": {},
   "source": [
    "# Gemini Ultra"
   ]
  },
  {
   "cell_type": "markdown",
   "metadata": {},
   "source": [
    "See https://colab.research.google.com/drive/1XEKlSo-3DCFp686yGOwwfS6_DEHsFimd#scrollTo=yqWMux2iZL8L"
   ]
  },
  {
   "cell_type": "code",
   "execution_count": 33,
   "metadata": {},
   "outputs": [
    {
     "name": "stdout",
     "output_type": "stream",
     "text": [
      "Median: 1 [90% CI: 0.58, 1.7]\n"
     ]
    }
   ],
   "source": [
    "# Lognormal distribution parameters for project duration\n",
    "p_5th_project_duration_years = 7 / 12\n",
    "p_95th_project_duration_years = 20 / 12\n",
    "\n",
    "project_duration = lognorm_from_90_ci(p_5th_project_duration_years, p_95th_project_duration_years, N)\n",
    "\n",
    "project_duration_hours = project_duration * HOURS_PER_YEAR\n",
    "\n",
    "print_median_and_ci(project_duration, ci=[5, 95])"
   ]
  },
  {
   "cell_type": "code",
   "execution_count": 34,
   "metadata": {},
   "outputs": [
    {
     "name": "stdout",
     "output_type": "stream",
     "text": [
      "Median: 6.4e+04 [90% CI: 5.1e+04, 7.6e+04]\n"
     ]
    }
   ],
   "source": [
    "chips_per_pod = 4096\n",
    "number_of_pods = np.random.uniform(12, 19, N)\n",
    "number_of_chips = number_of_pods * chips_per_pod\n",
    "print_median_and_ci(number_of_chips)"
   ]
  },
  {
   "cell_type": "code",
   "execution_count": 35,
   "metadata": {},
   "outputs": [
    {
     "name": "stdout",
     "output_type": "stream",
     "text": [
      "Median: 1.4e+07 [90% CI: 7.5e+06, 2.4e+07]\n"
     ]
    }
   ],
   "source": [
    "cost_per_kwh = 0.083  # default assumption for US data centers\n",
    "power_per_chip = 0.3  # Unsure - TPUv3 is under 300W for most models in https://arxiv.org/pdf/2104.10350.pdf, but this is TPUv4. See also https://cloud.google.com/tpu/docs/v4.\n",
    "energy_cost = number_of_chips * power_per_chip * project_duration_hours * cost_per_kwh\n",
    "print_median_and_ci(energy_cost)"
   ]
  },
  {
   "cell_type": "code",
   "execution_count": 36,
   "metadata": {},
   "outputs": [],
   "source": [
    "hardware_cost = 6.7e8\n",
    "# Use GPU/non-GPU fractions from Yafah Edelman as a placeholder\n",
    "cost_data_upfront_capex['Gemini Ultra'] = {\n",
    "    'GPU servers': 0.7 * hardware_cost,\n",
    "    'Other hardware': 0.3 * hardware_cost,\n",
    "    'Energy': energy_cost.mean(),\n",
    "    'Personnel': 1.6e8,\n",
    "}"
   ]
  },
  {
   "cell_type": "code",
   "execution_count": 37,
   "metadata": {},
   "outputs": [],
   "source": [
    "tpuv4_server_lifetime = lognorm_from_90_ci(3, 8, N)  # years"
   ]
  },
  {
   "cell_type": "code",
   "execution_count": 38,
   "metadata": {},
   "outputs": [],
   "source": [
    "cost_data_amortized_capex['Gemini Ultra'] = {\n",
    "    'GPU servers': 0.7 * np.mean(hardware_cost * project_duration / tpuv4_server_lifetime),\n",
    "    'Other hardware': 0.3 * np.mean(hardware_cost * project_duration / tpuv4_server_lifetime),\n",
    "    'Energy': energy_cost.mean(),\n",
    "    'Personnel': 1.6e8,\n",
    "}"
   ]
  },
  {
   "cell_type": "code",
   "execution_count": 39,
   "metadata": {},
   "outputs": [
    {
     "data": {
      "text/plain": [
       "{'GPT-3': {'GPU servers': 19873148.362262834,\n",
       "  'Other hardware': 3521148.434655965,\n",
       "  'Energy': 213642.0,\n",
       "  'Personnel': 7908516.951958606},\n",
       " 'OPT-175B': {'GPU servers': 1269351.2408554377,\n",
       "  'Other hardware': 401327.8174680666,\n",
       "  'Energy': 39126.0672,\n",
       "  'Personnel': 2676758.3713047686},\n",
       " 'GPT-4': {'GPU servers': 34536273.121728174,\n",
       "  'Other hardware': 14809930.829001185,\n",
       "  'Energy': 5000000.0,\n",
       "  'Personnel': 46297056.81040383},\n",
       " 'Gemini Ultra': {'GPU servers': 104630802.00613347,\n",
       "  'Other hardware': 44841772.288342915,\n",
       "  'Energy': 14454554.150147015,\n",
       "  'Personnel': 160000000.0}}"
      ]
     },
     "execution_count": 39,
     "metadata": {},
     "output_type": "execute_result"
    }
   ],
   "source": [
    "cost_data_amortized_capex"
   ]
  },
  {
   "cell_type": "markdown",
   "metadata": {},
   "source": [
    "# Plots"
   ]
  },
  {
   "cell_type": "code",
   "execution_count": 40,
   "metadata": {},
   "outputs": [],
   "source": [
    "# Prepare data for Plotly\n",
    "categories = list(next(iter(cost_data_amortized_capex.values())).keys())\n",
    "models = [k for k in cost_data_amortized_capex.keys()] # if 'OPT' not in k]"
   ]
  },
  {
   "cell_type": "code",
   "execution_count": 41,
   "metadata": {},
   "outputs": [
    {
     "data": {
      "text/plain": [
       "{'GPT-3': 31516455.748877406,\n",
       " 'OPT-175B': 4386563.496828273,\n",
       " 'GPT-4': 100643260.7611332,\n",
       " 'Gemini Ultra': 323927128.4446234}"
      ]
     },
     "execution_count": 41,
     "metadata": {},
     "output_type": "execute_result"
    }
   ],
   "source": [
    "total_costs = {model:sum([cost_data_amortized_capex[model][category] for category in categories]) for model in models}\n",
    "total_costs"
   ]
  },
  {
   "cell_type": "code",
   "execution_count": 42,
   "metadata": {},
   "outputs": [
    {
     "data": {
      "application/vnd.plotly.v1+json": {
       "config": {
        "plotlyServerURL": "https://plot.ly"
       },
       "data": [
        {
         "name": "GPU servers",
         "textposition": "auto",
         "type": "bar",
         "x": [
          "GPT-3",
          "OPT-175B",
          "GPT-4",
          "Gemini Ultra"
         ],
         "y": [
          19873148.362262834,
          1269351.2408554377,
          34536273.121728174,
          104630802.00613347
         ]
        },
        {
         "name": "Other hardware",
         "textposition": "auto",
         "type": "bar",
         "x": [
          "GPT-3",
          "OPT-175B",
          "GPT-4",
          "Gemini Ultra"
         ],
         "y": [
          3521148.434655965,
          401327.8174680666,
          14809930.829001185,
          44841772.288342915
         ]
        },
        {
         "name": "Personnel",
         "textposition": "auto",
         "type": "bar",
         "x": [
          "GPT-3",
          "OPT-175B",
          "GPT-4",
          "Gemini Ultra"
         ],
         "y": [
          7908516.951958606,
          2676758.3713047686,
          46297056.81040383,
          160000000
         ]
        },
        {
         "name": "Energy",
         "textposition": "auto",
         "type": "bar",
         "x": [
          "GPT-3",
          "OPT-175B",
          "GPT-4",
          "Gemini Ultra"
         ],
         "y": [
          213642,
          39126.0672,
          5000000,
          14454554.150147015
         ]
        }
       ],
       "layout": {
        "barmode": "stack",
        "height": 400,
        "legend": {
         "title": {
          "text": "Cost Components"
         }
        },
        "template": {
         "data": {
          "bar": [
           {
            "error_x": {
             "color": "#2a3f5f"
            },
            "error_y": {
             "color": "#2a3f5f"
            },
            "marker": {
             "line": {
              "color": "#E5ECF6",
              "width": 0.5
             },
             "pattern": {
              "fillmode": "overlay",
              "size": 10,
              "solidity": 0.2
             }
            },
            "type": "bar"
           }
          ],
          "barpolar": [
           {
            "marker": {
             "line": {
              "color": "#E5ECF6",
              "width": 0.5
             },
             "pattern": {
              "fillmode": "overlay",
              "size": 10,
              "solidity": 0.2
             }
            },
            "type": "barpolar"
           }
          ],
          "carpet": [
           {
            "aaxis": {
             "endlinecolor": "#2a3f5f",
             "gridcolor": "white",
             "linecolor": "white",
             "minorgridcolor": "white",
             "startlinecolor": "#2a3f5f"
            },
            "baxis": {
             "endlinecolor": "#2a3f5f",
             "gridcolor": "white",
             "linecolor": "white",
             "minorgridcolor": "white",
             "startlinecolor": "#2a3f5f"
            },
            "type": "carpet"
           }
          ],
          "choropleth": [
           {
            "colorbar": {
             "outlinewidth": 0,
             "ticks": ""
            },
            "type": "choropleth"
           }
          ],
          "contour": [
           {
            "colorbar": {
             "outlinewidth": 0,
             "ticks": ""
            },
            "colorscale": [
             [
              0,
              "#0d0887"
             ],
             [
              0.1111111111111111,
              "#46039f"
             ],
             [
              0.2222222222222222,
              "#7201a8"
             ],
             [
              0.3333333333333333,
              "#9c179e"
             ],
             [
              0.4444444444444444,
              "#bd3786"
             ],
             [
              0.5555555555555556,
              "#d8576b"
             ],
             [
              0.6666666666666666,
              "#ed7953"
             ],
             [
              0.7777777777777778,
              "#fb9f3a"
             ],
             [
              0.8888888888888888,
              "#fdca26"
             ],
             [
              1,
              "#f0f921"
             ]
            ],
            "type": "contour"
           }
          ],
          "contourcarpet": [
           {
            "colorbar": {
             "outlinewidth": 0,
             "ticks": ""
            },
            "type": "contourcarpet"
           }
          ],
          "heatmap": [
           {
            "colorbar": {
             "outlinewidth": 0,
             "ticks": ""
            },
            "colorscale": [
             [
              0,
              "#0d0887"
             ],
             [
              0.1111111111111111,
              "#46039f"
             ],
             [
              0.2222222222222222,
              "#7201a8"
             ],
             [
              0.3333333333333333,
              "#9c179e"
             ],
             [
              0.4444444444444444,
              "#bd3786"
             ],
             [
              0.5555555555555556,
              "#d8576b"
             ],
             [
              0.6666666666666666,
              "#ed7953"
             ],
             [
              0.7777777777777778,
              "#fb9f3a"
             ],
             [
              0.8888888888888888,
              "#fdca26"
             ],
             [
              1,
              "#f0f921"
             ]
            ],
            "type": "heatmap"
           }
          ],
          "heatmapgl": [
           {
            "colorbar": {
             "outlinewidth": 0,
             "ticks": ""
            },
            "colorscale": [
             [
              0,
              "#0d0887"
             ],
             [
              0.1111111111111111,
              "#46039f"
             ],
             [
              0.2222222222222222,
              "#7201a8"
             ],
             [
              0.3333333333333333,
              "#9c179e"
             ],
             [
              0.4444444444444444,
              "#bd3786"
             ],
             [
              0.5555555555555556,
              "#d8576b"
             ],
             [
              0.6666666666666666,
              "#ed7953"
             ],
             [
              0.7777777777777778,
              "#fb9f3a"
             ],
             [
              0.8888888888888888,
              "#fdca26"
             ],
             [
              1,
              "#f0f921"
             ]
            ],
            "type": "heatmapgl"
           }
          ],
          "histogram": [
           {
            "marker": {
             "pattern": {
              "fillmode": "overlay",
              "size": 10,
              "solidity": 0.2
             }
            },
            "type": "histogram"
           }
          ],
          "histogram2d": [
           {
            "colorbar": {
             "outlinewidth": 0,
             "ticks": ""
            },
            "colorscale": [
             [
              0,
              "#0d0887"
             ],
             [
              0.1111111111111111,
              "#46039f"
             ],
             [
              0.2222222222222222,
              "#7201a8"
             ],
             [
              0.3333333333333333,
              "#9c179e"
             ],
             [
              0.4444444444444444,
              "#bd3786"
             ],
             [
              0.5555555555555556,
              "#d8576b"
             ],
             [
              0.6666666666666666,
              "#ed7953"
             ],
             [
              0.7777777777777778,
              "#fb9f3a"
             ],
             [
              0.8888888888888888,
              "#fdca26"
             ],
             [
              1,
              "#f0f921"
             ]
            ],
            "type": "histogram2d"
           }
          ],
          "histogram2dcontour": [
           {
            "colorbar": {
             "outlinewidth": 0,
             "ticks": ""
            },
            "colorscale": [
             [
              0,
              "#0d0887"
             ],
             [
              0.1111111111111111,
              "#46039f"
             ],
             [
              0.2222222222222222,
              "#7201a8"
             ],
             [
              0.3333333333333333,
              "#9c179e"
             ],
             [
              0.4444444444444444,
              "#bd3786"
             ],
             [
              0.5555555555555556,
              "#d8576b"
             ],
             [
              0.6666666666666666,
              "#ed7953"
             ],
             [
              0.7777777777777778,
              "#fb9f3a"
             ],
             [
              0.8888888888888888,
              "#fdca26"
             ],
             [
              1,
              "#f0f921"
             ]
            ],
            "type": "histogram2dcontour"
           }
          ],
          "mesh3d": [
           {
            "colorbar": {
             "outlinewidth": 0,
             "ticks": ""
            },
            "type": "mesh3d"
           }
          ],
          "parcoords": [
           {
            "line": {
             "colorbar": {
              "outlinewidth": 0,
              "ticks": ""
             }
            },
            "type": "parcoords"
           }
          ],
          "pie": [
           {
            "automargin": true,
            "type": "pie"
           }
          ],
          "scatter": [
           {
            "fillpattern": {
             "fillmode": "overlay",
             "size": 10,
             "solidity": 0.2
            },
            "type": "scatter"
           }
          ],
          "scatter3d": [
           {
            "line": {
             "colorbar": {
              "outlinewidth": 0,
              "ticks": ""
             }
            },
            "marker": {
             "colorbar": {
              "outlinewidth": 0,
              "ticks": ""
             }
            },
            "type": "scatter3d"
           }
          ],
          "scattercarpet": [
           {
            "marker": {
             "colorbar": {
              "outlinewidth": 0,
              "ticks": ""
             }
            },
            "type": "scattercarpet"
           }
          ],
          "scattergeo": [
           {
            "marker": {
             "colorbar": {
              "outlinewidth": 0,
              "ticks": ""
             }
            },
            "type": "scattergeo"
           }
          ],
          "scattergl": [
           {
            "marker": {
             "colorbar": {
              "outlinewidth": 0,
              "ticks": ""
             }
            },
            "type": "scattergl"
           }
          ],
          "scattermapbox": [
           {
            "marker": {
             "colorbar": {
              "outlinewidth": 0,
              "ticks": ""
             }
            },
            "type": "scattermapbox"
           }
          ],
          "scatterpolar": [
           {
            "marker": {
             "colorbar": {
              "outlinewidth": 0,
              "ticks": ""
             }
            },
            "type": "scatterpolar"
           }
          ],
          "scatterpolargl": [
           {
            "marker": {
             "colorbar": {
              "outlinewidth": 0,
              "ticks": ""
             }
            },
            "type": "scatterpolargl"
           }
          ],
          "scatterternary": [
           {
            "marker": {
             "colorbar": {
              "outlinewidth": 0,
              "ticks": ""
             }
            },
            "type": "scatterternary"
           }
          ],
          "surface": [
           {
            "colorbar": {
             "outlinewidth": 0,
             "ticks": ""
            },
            "colorscale": [
             [
              0,
              "#0d0887"
             ],
             [
              0.1111111111111111,
              "#46039f"
             ],
             [
              0.2222222222222222,
              "#7201a8"
             ],
             [
              0.3333333333333333,
              "#9c179e"
             ],
             [
              0.4444444444444444,
              "#bd3786"
             ],
             [
              0.5555555555555556,
              "#d8576b"
             ],
             [
              0.6666666666666666,
              "#ed7953"
             ],
             [
              0.7777777777777778,
              "#fb9f3a"
             ],
             [
              0.8888888888888888,
              "#fdca26"
             ],
             [
              1,
              "#f0f921"
             ]
            ],
            "type": "surface"
           }
          ],
          "table": [
           {
            "cells": {
             "fill": {
              "color": "#EBF0F8"
             },
             "line": {
              "color": "white"
             }
            },
            "header": {
             "fill": {
              "color": "#C8D4E3"
             },
             "line": {
              "color": "white"
             }
            },
            "type": "table"
           }
          ]
         },
         "layout": {
          "annotationdefaults": {
           "arrowcolor": "#2a3f5f",
           "arrowhead": 0,
           "arrowwidth": 1
          },
          "autotypenumbers": "strict",
          "coloraxis": {
           "colorbar": {
            "outlinewidth": 0,
            "ticks": ""
           }
          },
          "colorscale": {
           "diverging": [
            [
             0,
             "#8e0152"
            ],
            [
             0.1,
             "#c51b7d"
            ],
            [
             0.2,
             "#de77ae"
            ],
            [
             0.3,
             "#f1b6da"
            ],
            [
             0.4,
             "#fde0ef"
            ],
            [
             0.5,
             "#f7f7f7"
            ],
            [
             0.6,
             "#e6f5d0"
            ],
            [
             0.7,
             "#b8e186"
            ],
            [
             0.8,
             "#7fbc41"
            ],
            [
             0.9,
             "#4d9221"
            ],
            [
             1,
             "#276419"
            ]
           ],
           "sequential": [
            [
             0,
             "#0d0887"
            ],
            [
             0.1111111111111111,
             "#46039f"
            ],
            [
             0.2222222222222222,
             "#7201a8"
            ],
            [
             0.3333333333333333,
             "#9c179e"
            ],
            [
             0.4444444444444444,
             "#bd3786"
            ],
            [
             0.5555555555555556,
             "#d8576b"
            ],
            [
             0.6666666666666666,
             "#ed7953"
            ],
            [
             0.7777777777777778,
             "#fb9f3a"
            ],
            [
             0.8888888888888888,
             "#fdca26"
            ],
            [
             1,
             "#f0f921"
            ]
           ],
           "sequentialminus": [
            [
             0,
             "#0d0887"
            ],
            [
             0.1111111111111111,
             "#46039f"
            ],
            [
             0.2222222222222222,
             "#7201a8"
            ],
            [
             0.3333333333333333,
             "#9c179e"
            ],
            [
             0.4444444444444444,
             "#bd3786"
            ],
            [
             0.5555555555555556,
             "#d8576b"
            ],
            [
             0.6666666666666666,
             "#ed7953"
            ],
            [
             0.7777777777777778,
             "#fb9f3a"
            ],
            [
             0.8888888888888888,
             "#fdca26"
            ],
            [
             1,
             "#f0f921"
            ]
           ]
          },
          "colorway": [
           "#636efa",
           "#EF553B",
           "#00cc96",
           "#ab63fa",
           "#FFA15A",
           "#19d3f3",
           "#FF6692",
           "#B6E880",
           "#FF97FF",
           "#FECB52"
          ],
          "font": {
           "color": "#2a3f5f"
          },
          "geo": {
           "bgcolor": "white",
           "lakecolor": "white",
           "landcolor": "#E5ECF6",
           "showlakes": true,
           "showland": true,
           "subunitcolor": "white"
          },
          "hoverlabel": {
           "align": "left"
          },
          "hovermode": "closest",
          "mapbox": {
           "style": "light"
          },
          "paper_bgcolor": "white",
          "plot_bgcolor": "#E5ECF6",
          "polar": {
           "angularaxis": {
            "gridcolor": "white",
            "linecolor": "white",
            "ticks": ""
           },
           "bgcolor": "#E5ECF6",
           "radialaxis": {
            "gridcolor": "white",
            "linecolor": "white",
            "ticks": ""
           }
          },
          "scene": {
           "xaxis": {
            "backgroundcolor": "#E5ECF6",
            "gridcolor": "white",
            "gridwidth": 2,
            "linecolor": "white",
            "showbackground": true,
            "ticks": "",
            "zerolinecolor": "white"
           },
           "yaxis": {
            "backgroundcolor": "#E5ECF6",
            "gridcolor": "white",
            "gridwidth": 2,
            "linecolor": "white",
            "showbackground": true,
            "ticks": "",
            "zerolinecolor": "white"
           },
           "zaxis": {
            "backgroundcolor": "#E5ECF6",
            "gridcolor": "white",
            "gridwidth": 2,
            "linecolor": "white",
            "showbackground": true,
            "ticks": "",
            "zerolinecolor": "white"
           }
          },
          "shapedefaults": {
           "line": {
            "color": "#2a3f5f"
           }
          },
          "ternary": {
           "aaxis": {
            "gridcolor": "white",
            "linecolor": "white",
            "ticks": ""
           },
           "baxis": {
            "gridcolor": "white",
            "linecolor": "white",
            "ticks": ""
           },
           "bgcolor": "#E5ECF6",
           "caxis": {
            "gridcolor": "white",
            "linecolor": "white",
            "ticks": ""
           }
          },
          "title": {
           "x": 0.05
          },
          "xaxis": {
           "automargin": true,
           "gridcolor": "white",
           "linecolor": "white",
           "ticks": "",
           "title": {
            "standoff": 15
           },
           "zerolinecolor": "white",
           "zerolinewidth": 2
          },
          "yaxis": {
           "automargin": true,
           "gridcolor": "white",
           "linecolor": "white",
           "ticks": "",
           "title": {
            "standoff": 15
           },
           "zerolinecolor": "white",
           "zerolinewidth": 2
          }
         }
        },
        "title": {
         "text": "Full capital and operational costs of experiments and training"
        },
        "width": 600,
        "xaxis": {
         "title": {
          "text": "Models"
         }
        },
        "yaxis": {
         "range": [
          0,
          1000000000
         ],
         "ticktext": [
          "0",
          "200M",
          "400M",
          "600M",
          "800M",
          "1B"
         ],
         "tickvals": [
          0,
          200000000,
          400000000,
          600000000,
          800000000,
          1000000000
         ],
         "title": {
          "text": "Cost"
         }
        }
       }
      }
     },
     "metadata": {},
     "output_type": "display_data"
    }
   ],
   "source": [
    "# Creating the figure\n",
    "fig = go.Figure()\n",
    "\n",
    "for category in ['GPU servers', 'Other hardware', 'Personnel', 'Energy']:\n",
    "    fig.add_trace(go.Bar(\n",
    "        name=category,\n",
    "        x=list(models),\n",
    "        y=[cost_data_amortized_capex[model][category] for model in models],\n",
    "        # text=[human_format(cost_data[model][category]) for model in models],\n",
    "        # text=[f'{cost_data_amortized_capex[model][category] / total_costs[model] * 100:.1f}%' for model in models],\n",
    "        textposition='auto',\n",
    "    ))\n",
    "\n",
    "# Log y axis\n",
    "# fig.update_yaxes(type='log')\n",
    "# fig.update_yaxes(range=[7, 9])\n",
    "\n",
    "# y ticks\n",
    "fig.update_yaxes(range=[0, 1e9])\n",
    "fig.update_yaxes(tickvals=[0, 2e8, 4e8, 6e8, 8e8, 1e9], ticktext=['0', '200M', '400M', '600M', '800M', '1B'])\n",
    "\n",
    "# Update the layout\n",
    "fig.update_layout(\n",
    "    barmode='stack',\n",
    "    title='Full capital and operational costs of experiments and training',\n",
    "    xaxis_title='Models',\n",
    "    yaxis_title='Cost',\n",
    "    legend_title='Cost Components',\n",
    "    width=600,\n",
    "    height=400,\n",
    ")\n",
    "\n",
    "# Save plot\n",
    "save_plot(fig, results_dir, 'full_costs_stacked')\n",
    "\n",
    "# Show the figure\n",
    "fig.show()"
   ]
  },
  {
   "cell_type": "code",
   "execution_count": 43,
   "metadata": {},
   "outputs": [
    {
     "data": {
      "application/vnd.plotly.v1+json": {
       "config": {
        "plotlyServerURL": "https://plot.ly"
       },
       "data": [
        {
         "name": "GPU servers",
         "textposition": "auto",
         "type": "bar",
         "x": [
          "GPT-3",
          "OPT-175B",
          "GPT-4",
          "Gemini Ultra"
         ],
         "y": [
          63.05641890893998,
          28.937259013194467,
          34.31553475169748,
          32.30072223605702
         ]
        },
        {
         "name": "Other hardware",
         "textposition": "auto",
         "type": "bar",
         "x": [
          "GPT-3",
          "OPT-175B",
          "GPT-4",
          "Gemini Ultra"
         ],
         "y": [
          11.172412477825606,
          9.149025604171666,
          14.715273250288549,
          13.843166672595867
         ]
        },
        {
         "name": "Personnel",
         "textposition": "auto",
         "type": "bar",
         "x": [
          "GPT-3",
          "OPT-175B",
          "GPT-4",
          "Gemini Ultra"
         ],
         "y": [
          25.093294166620566,
          61.02176278173591,
          46.00114946621742,
          49.39382532369548
         ]
        },
        {
         "name": "Energy",
         "textposition": "auto",
         "type": "bar",
         "x": [
          "GPT-3",
          "OPT-175B",
          "GPT-4",
          "Gemini Ultra"
         ],
         "y": [
          0.6778744466138448,
          0.8919526008979535,
          4.968042531796544,
          4.462285767651621
         ]
        }
       ],
       "layout": {
        "barmode": "stack",
        "height": 400,
        "legend": {
         "title": {
          "text": "Cost Components"
         }
        },
        "template": {
         "data": {
          "bar": [
           {
            "error_x": {
             "color": "#2a3f5f"
            },
            "error_y": {
             "color": "#2a3f5f"
            },
            "marker": {
             "line": {
              "color": "#E5ECF6",
              "width": 0.5
             },
             "pattern": {
              "fillmode": "overlay",
              "size": 10,
              "solidity": 0.2
             }
            },
            "type": "bar"
           }
          ],
          "barpolar": [
           {
            "marker": {
             "line": {
              "color": "#E5ECF6",
              "width": 0.5
             },
             "pattern": {
              "fillmode": "overlay",
              "size": 10,
              "solidity": 0.2
             }
            },
            "type": "barpolar"
           }
          ],
          "carpet": [
           {
            "aaxis": {
             "endlinecolor": "#2a3f5f",
             "gridcolor": "white",
             "linecolor": "white",
             "minorgridcolor": "white",
             "startlinecolor": "#2a3f5f"
            },
            "baxis": {
             "endlinecolor": "#2a3f5f",
             "gridcolor": "white",
             "linecolor": "white",
             "minorgridcolor": "white",
             "startlinecolor": "#2a3f5f"
            },
            "type": "carpet"
           }
          ],
          "choropleth": [
           {
            "colorbar": {
             "outlinewidth": 0,
             "ticks": ""
            },
            "type": "choropleth"
           }
          ],
          "contour": [
           {
            "colorbar": {
             "outlinewidth": 0,
             "ticks": ""
            },
            "colorscale": [
             [
              0,
              "#0d0887"
             ],
             [
              0.1111111111111111,
              "#46039f"
             ],
             [
              0.2222222222222222,
              "#7201a8"
             ],
             [
              0.3333333333333333,
              "#9c179e"
             ],
             [
              0.4444444444444444,
              "#bd3786"
             ],
             [
              0.5555555555555556,
              "#d8576b"
             ],
             [
              0.6666666666666666,
              "#ed7953"
             ],
             [
              0.7777777777777778,
              "#fb9f3a"
             ],
             [
              0.8888888888888888,
              "#fdca26"
             ],
             [
              1,
              "#f0f921"
             ]
            ],
            "type": "contour"
           }
          ],
          "contourcarpet": [
           {
            "colorbar": {
             "outlinewidth": 0,
             "ticks": ""
            },
            "type": "contourcarpet"
           }
          ],
          "heatmap": [
           {
            "colorbar": {
             "outlinewidth": 0,
             "ticks": ""
            },
            "colorscale": [
             [
              0,
              "#0d0887"
             ],
             [
              0.1111111111111111,
              "#46039f"
             ],
             [
              0.2222222222222222,
              "#7201a8"
             ],
             [
              0.3333333333333333,
              "#9c179e"
             ],
             [
              0.4444444444444444,
              "#bd3786"
             ],
             [
              0.5555555555555556,
              "#d8576b"
             ],
             [
              0.6666666666666666,
              "#ed7953"
             ],
             [
              0.7777777777777778,
              "#fb9f3a"
             ],
             [
              0.8888888888888888,
              "#fdca26"
             ],
             [
              1,
              "#f0f921"
             ]
            ],
            "type": "heatmap"
           }
          ],
          "heatmapgl": [
           {
            "colorbar": {
             "outlinewidth": 0,
             "ticks": ""
            },
            "colorscale": [
             [
              0,
              "#0d0887"
             ],
             [
              0.1111111111111111,
              "#46039f"
             ],
             [
              0.2222222222222222,
              "#7201a8"
             ],
             [
              0.3333333333333333,
              "#9c179e"
             ],
             [
              0.4444444444444444,
              "#bd3786"
             ],
             [
              0.5555555555555556,
              "#d8576b"
             ],
             [
              0.6666666666666666,
              "#ed7953"
             ],
             [
              0.7777777777777778,
              "#fb9f3a"
             ],
             [
              0.8888888888888888,
              "#fdca26"
             ],
             [
              1,
              "#f0f921"
             ]
            ],
            "type": "heatmapgl"
           }
          ],
          "histogram": [
           {
            "marker": {
             "pattern": {
              "fillmode": "overlay",
              "size": 10,
              "solidity": 0.2
             }
            },
            "type": "histogram"
           }
          ],
          "histogram2d": [
           {
            "colorbar": {
             "outlinewidth": 0,
             "ticks": ""
            },
            "colorscale": [
             [
              0,
              "#0d0887"
             ],
             [
              0.1111111111111111,
              "#46039f"
             ],
             [
              0.2222222222222222,
              "#7201a8"
             ],
             [
              0.3333333333333333,
              "#9c179e"
             ],
             [
              0.4444444444444444,
              "#bd3786"
             ],
             [
              0.5555555555555556,
              "#d8576b"
             ],
             [
              0.6666666666666666,
              "#ed7953"
             ],
             [
              0.7777777777777778,
              "#fb9f3a"
             ],
             [
              0.8888888888888888,
              "#fdca26"
             ],
             [
              1,
              "#f0f921"
             ]
            ],
            "type": "histogram2d"
           }
          ],
          "histogram2dcontour": [
           {
            "colorbar": {
             "outlinewidth": 0,
             "ticks": ""
            },
            "colorscale": [
             [
              0,
              "#0d0887"
             ],
             [
              0.1111111111111111,
              "#46039f"
             ],
             [
              0.2222222222222222,
              "#7201a8"
             ],
             [
              0.3333333333333333,
              "#9c179e"
             ],
             [
              0.4444444444444444,
              "#bd3786"
             ],
             [
              0.5555555555555556,
              "#d8576b"
             ],
             [
              0.6666666666666666,
              "#ed7953"
             ],
             [
              0.7777777777777778,
              "#fb9f3a"
             ],
             [
              0.8888888888888888,
              "#fdca26"
             ],
             [
              1,
              "#f0f921"
             ]
            ],
            "type": "histogram2dcontour"
           }
          ],
          "mesh3d": [
           {
            "colorbar": {
             "outlinewidth": 0,
             "ticks": ""
            },
            "type": "mesh3d"
           }
          ],
          "parcoords": [
           {
            "line": {
             "colorbar": {
              "outlinewidth": 0,
              "ticks": ""
             }
            },
            "type": "parcoords"
           }
          ],
          "pie": [
           {
            "automargin": true,
            "type": "pie"
           }
          ],
          "scatter": [
           {
            "fillpattern": {
             "fillmode": "overlay",
             "size": 10,
             "solidity": 0.2
            },
            "type": "scatter"
           }
          ],
          "scatter3d": [
           {
            "line": {
             "colorbar": {
              "outlinewidth": 0,
              "ticks": ""
             }
            },
            "marker": {
             "colorbar": {
              "outlinewidth": 0,
              "ticks": ""
             }
            },
            "type": "scatter3d"
           }
          ],
          "scattercarpet": [
           {
            "marker": {
             "colorbar": {
              "outlinewidth": 0,
              "ticks": ""
             }
            },
            "type": "scattercarpet"
           }
          ],
          "scattergeo": [
           {
            "marker": {
             "colorbar": {
              "outlinewidth": 0,
              "ticks": ""
             }
            },
            "type": "scattergeo"
           }
          ],
          "scattergl": [
           {
            "marker": {
             "colorbar": {
              "outlinewidth": 0,
              "ticks": ""
             }
            },
            "type": "scattergl"
           }
          ],
          "scattermapbox": [
           {
            "marker": {
             "colorbar": {
              "outlinewidth": 0,
              "ticks": ""
             }
            },
            "type": "scattermapbox"
           }
          ],
          "scatterpolar": [
           {
            "marker": {
             "colorbar": {
              "outlinewidth": 0,
              "ticks": ""
             }
            },
            "type": "scatterpolar"
           }
          ],
          "scatterpolargl": [
           {
            "marker": {
             "colorbar": {
              "outlinewidth": 0,
              "ticks": ""
             }
            },
            "type": "scatterpolargl"
           }
          ],
          "scatterternary": [
           {
            "marker": {
             "colorbar": {
              "outlinewidth": 0,
              "ticks": ""
             }
            },
            "type": "scatterternary"
           }
          ],
          "surface": [
           {
            "colorbar": {
             "outlinewidth": 0,
             "ticks": ""
            },
            "colorscale": [
             [
              0,
              "#0d0887"
             ],
             [
              0.1111111111111111,
              "#46039f"
             ],
             [
              0.2222222222222222,
              "#7201a8"
             ],
             [
              0.3333333333333333,
              "#9c179e"
             ],
             [
              0.4444444444444444,
              "#bd3786"
             ],
             [
              0.5555555555555556,
              "#d8576b"
             ],
             [
              0.6666666666666666,
              "#ed7953"
             ],
             [
              0.7777777777777778,
              "#fb9f3a"
             ],
             [
              0.8888888888888888,
              "#fdca26"
             ],
             [
              1,
              "#f0f921"
             ]
            ],
            "type": "surface"
           }
          ],
          "table": [
           {
            "cells": {
             "fill": {
              "color": "#EBF0F8"
             },
             "line": {
              "color": "white"
             }
            },
            "header": {
             "fill": {
              "color": "#C8D4E3"
             },
             "line": {
              "color": "white"
             }
            },
            "type": "table"
           }
          ]
         },
         "layout": {
          "annotationdefaults": {
           "arrowcolor": "#2a3f5f",
           "arrowhead": 0,
           "arrowwidth": 1
          },
          "autotypenumbers": "strict",
          "coloraxis": {
           "colorbar": {
            "outlinewidth": 0,
            "ticks": ""
           }
          },
          "colorscale": {
           "diverging": [
            [
             0,
             "#8e0152"
            ],
            [
             0.1,
             "#c51b7d"
            ],
            [
             0.2,
             "#de77ae"
            ],
            [
             0.3,
             "#f1b6da"
            ],
            [
             0.4,
             "#fde0ef"
            ],
            [
             0.5,
             "#f7f7f7"
            ],
            [
             0.6,
             "#e6f5d0"
            ],
            [
             0.7,
             "#b8e186"
            ],
            [
             0.8,
             "#7fbc41"
            ],
            [
             0.9,
             "#4d9221"
            ],
            [
             1,
             "#276419"
            ]
           ],
           "sequential": [
            [
             0,
             "#0d0887"
            ],
            [
             0.1111111111111111,
             "#46039f"
            ],
            [
             0.2222222222222222,
             "#7201a8"
            ],
            [
             0.3333333333333333,
             "#9c179e"
            ],
            [
             0.4444444444444444,
             "#bd3786"
            ],
            [
             0.5555555555555556,
             "#d8576b"
            ],
            [
             0.6666666666666666,
             "#ed7953"
            ],
            [
             0.7777777777777778,
             "#fb9f3a"
            ],
            [
             0.8888888888888888,
             "#fdca26"
            ],
            [
             1,
             "#f0f921"
            ]
           ],
           "sequentialminus": [
            [
             0,
             "#0d0887"
            ],
            [
             0.1111111111111111,
             "#46039f"
            ],
            [
             0.2222222222222222,
             "#7201a8"
            ],
            [
             0.3333333333333333,
             "#9c179e"
            ],
            [
             0.4444444444444444,
             "#bd3786"
            ],
            [
             0.5555555555555556,
             "#d8576b"
            ],
            [
             0.6666666666666666,
             "#ed7953"
            ],
            [
             0.7777777777777778,
             "#fb9f3a"
            ],
            [
             0.8888888888888888,
             "#fdca26"
            ],
            [
             1,
             "#f0f921"
            ]
           ]
          },
          "colorway": [
           "#636efa",
           "#EF553B",
           "#00cc96",
           "#ab63fa",
           "#FFA15A",
           "#19d3f3",
           "#FF6692",
           "#B6E880",
           "#FF97FF",
           "#FECB52"
          ],
          "font": {
           "color": "#2a3f5f"
          },
          "geo": {
           "bgcolor": "white",
           "lakecolor": "white",
           "landcolor": "#E5ECF6",
           "showlakes": true,
           "showland": true,
           "subunitcolor": "white"
          },
          "hoverlabel": {
           "align": "left"
          },
          "hovermode": "closest",
          "mapbox": {
           "style": "light"
          },
          "paper_bgcolor": "white",
          "plot_bgcolor": "#E5ECF6",
          "polar": {
           "angularaxis": {
            "gridcolor": "white",
            "linecolor": "white",
            "ticks": ""
           },
           "bgcolor": "#E5ECF6",
           "radialaxis": {
            "gridcolor": "white",
            "linecolor": "white",
            "ticks": ""
           }
          },
          "scene": {
           "xaxis": {
            "backgroundcolor": "#E5ECF6",
            "gridcolor": "white",
            "gridwidth": 2,
            "linecolor": "white",
            "showbackground": true,
            "ticks": "",
            "zerolinecolor": "white"
           },
           "yaxis": {
            "backgroundcolor": "#E5ECF6",
            "gridcolor": "white",
            "gridwidth": 2,
            "linecolor": "white",
            "showbackground": true,
            "ticks": "",
            "zerolinecolor": "white"
           },
           "zaxis": {
            "backgroundcolor": "#E5ECF6",
            "gridcolor": "white",
            "gridwidth": 2,
            "linecolor": "white",
            "showbackground": true,
            "ticks": "",
            "zerolinecolor": "white"
           }
          },
          "shapedefaults": {
           "line": {
            "color": "#2a3f5f"
           }
          },
          "ternary": {
           "aaxis": {
            "gridcolor": "white",
            "linecolor": "white",
            "ticks": ""
           },
           "baxis": {
            "gridcolor": "white",
            "linecolor": "white",
            "ticks": ""
           },
           "bgcolor": "#E5ECF6",
           "caxis": {
            "gridcolor": "white",
            "linecolor": "white",
            "ticks": ""
           }
          },
          "title": {
           "x": 0.05
          },
          "xaxis": {
           "automargin": true,
           "gridcolor": "white",
           "linecolor": "white",
           "ticks": "",
           "title": {
            "standoff": 15
           },
           "zerolinecolor": "white",
           "zerolinewidth": 2
          },
          "yaxis": {
           "automargin": true,
           "gridcolor": "white",
           "linecolor": "white",
           "ticks": "",
           "title": {
            "standoff": 15
           },
           "zerolinecolor": "white",
           "zerolinewidth": 2
          }
         }
        },
        "title": {
         "text": "Proportions of cost for experiments and training"
        },
        "width": 600,
        "xaxis": {
         "title": {
          "text": "Models"
         }
        },
        "yaxis": {
         "range": [
          0,
          100
         ],
         "title": {
          "text": "Proportion (%)"
         }
        }
       }
      }
     },
     "metadata": {},
     "output_type": "display_data"
    }
   ],
   "source": [
    "# Creating the figure\n",
    "fig = go.Figure()\n",
    "\n",
    "for category in ['GPU servers', 'Other hardware', 'Personnel', 'Energy']:\n",
    "    proportions = [cost_data_amortized_capex[model][category] / total_costs[model] * 100 for model in models]\n",
    "    fig.add_trace(go.Bar(\n",
    "        name=category,\n",
    "        x=list(models),\n",
    "        y=proportions,\n",
    "        # text=[human_format(cost_data[model][category]) for model in models],\n",
    "        # text=[f'{pp:.1f}%' for pp in proportions],\n",
    "        textposition='auto',\n",
    "    ))\n",
    "\n",
    "# y ticks\n",
    "fig.update_yaxes(range=[0, 100])\n",
    "\n",
    "# Update the layout\n",
    "fig.update_layout(\n",
    "    barmode='stack',\n",
    "    title='Proportions of cost for experiments and training',\n",
    "    xaxis_title='Models',\n",
    "    yaxis_title='Proportion (%)',\n",
    "    legend_title='Cost Components',\n",
    "    width=600,\n",
    "    height=400,\n",
    ")\n",
    "\n",
    "# Save plot\n",
    "save_plot(fig, results_dir, 'cost_proportions_stacked')\n",
    "\n",
    "# Show the figure\n",
    "fig.show()"
   ]
  },
  {
   "cell_type": "code",
   "execution_count": null,
   "metadata": {},
   "outputs": [],
   "source": []
  }
 ],
 "metadata": {
  "kernelspec": {
   "display_name": "epoch",
   "language": "python",
   "name": "python3"
  },
  "language_info": {
   "codemirror_mode": {
    "name": "ipython",
    "version": 3
   },
   "file_extension": ".py",
   "mimetype": "text/x-python",
   "name": "python",
   "nbconvert_exporter": "python",
   "pygments_lexer": "ipython3",
   "version": "3.11.4"
  }
 },
 "nbformat": 4,
 "nbformat_minor": 2
}
