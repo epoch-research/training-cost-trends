{
 "cells": [
  {
   "cell_type": "code",
   "execution_count": 1,
   "metadata": {},
   "outputs": [],
   "source": [
    "from collections import defaultdict\n",
    "import numpy as np\n",
    "import pandas as pd\n",
    "import plotly.graph_objects as go\n",
    "\n",
    "from data import *\n",
    "from hardware import *\n",
    "from parameters import *\n",
    "from regression import *"
   ]
  },
  {
   "cell_type": "code",
   "execution_count": 2,
   "metadata": {},
   "outputs": [
    {
     "data": {
      "text/html": [
       "<div>\n",
       "<style scoped>\n",
       "    .dataframe tbody tr th:only-of-type {\n",
       "        vertical-align: middle;\n",
       "    }\n",
       "\n",
       "    .dataframe tbody tr th {\n",
       "        vertical-align: top;\n",
       "    }\n",
       "\n",
       "    .dataframe thead th {\n",
       "        text-align: right;\n",
       "    }\n",
       "</style>\n",
       "<table border=\"1\" class=\"dataframe\">\n",
       "  <thead>\n",
       "    <tr style=\"text-align: right;\">\n",
       "      <th></th>\n",
       "      <th>System</th>\n",
       "      <th>Domain</th>\n",
       "      <th>Task</th>\n",
       "      <th>Authors</th>\n",
       "      <th>Notability criteria</th>\n",
       "      <th>Notability criteria notes</th>\n",
       "      <th>Model accessibility</th>\n",
       "      <th>Link</th>\n",
       "      <th>Citations</th>\n",
       "      <th>Reference</th>\n",
       "      <th>...</th>\n",
       "      <th>Organization categorization</th>\n",
       "      <th>Foundation model</th>\n",
       "      <th>Training compute lower bound</th>\n",
       "      <th>Training compute upper bound</th>\n",
       "      <th>Training chip-hours</th>\n",
       "      <th>Code accessibility</th>\n",
       "      <th>Dataset accessibility</th>\n",
       "      <th>Accessibility notes</th>\n",
       "      <th>Organization categorization (from Organization)</th>\n",
       "      <th>Possibly over 1e23 FLOP</th>\n",
       "    </tr>\n",
       "  </thead>\n",
       "  <tbody>\n",
       "    <tr>\n",
       "      <th>65</th>\n",
       "      <td>CogAgent</td>\n",
       "      <td>Vision,Language</td>\n",
       "      <td>Instruction interpretation,Visual question ans...</td>\n",
       "      <td>Wenyi Hong, Weihan Wang, Qingsong Lv, Jiazheng...</td>\n",
       "      <td>SOTA improvement</td>\n",
       "      <td>See Table 1</td>\n",
       "      <td>Open access (restricted use)</td>\n",
       "      <td>https://arxiv.org/abs/2312.08914Wenyi Hong, We...</td>\n",
       "      <td>50.0</td>\n",
       "      <td>CogAgent: A Visual Language Model for GUI Agents</td>\n",
       "      <td>...</td>\n",
       "      <td>NaN</td>\n",
       "      <td>NaN</td>\n",
       "      <td>NaN</td>\n",
       "      <td>NaN</td>\n",
       "      <td>NaN</td>\n",
       "      <td>Open source</td>\n",
       "      <td>NaN</td>\n",
       "      <td>Code is Apache License 2.0; model is under a m...</td>\n",
       "      <td>NaN</td>\n",
       "      <td>NaN</td>\n",
       "    </tr>\n",
       "    <tr>\n",
       "      <th>66</th>\n",
       "      <td>FunSearch</td>\n",
       "      <td>Language,Search</td>\n",
       "      <td>Code generation</td>\n",
       "      <td>Bernardino Romera-Paredes, Mohammadamin Bareka...</td>\n",
       "      <td>SOTA improvement,Historical significance</td>\n",
       "      <td>Improved SOTA for the cap set problem. Can pla...</td>\n",
       "      <td>Open source</td>\n",
       "      <td>https://www.nature.com/articles/s41586-023-069...</td>\n",
       "      <td>67.0</td>\n",
       "      <td>Mathematical discoveries from program search w...</td>\n",
       "      <td>...</td>\n",
       "      <td>Industry</td>\n",
       "      <td>NaN</td>\n",
       "      <td>NaN</td>\n",
       "      <td>NaN</td>\n",
       "      <td>NaN</td>\n",
       "      <td>NaN</td>\n",
       "      <td>NaN</td>\n",
       "      <td>Code to run FunSearch with an LLM of your choi...</td>\n",
       "      <td>Industry</td>\n",
       "      <td>NaN</td>\n",
       "    </tr>\n",
       "    <tr>\n",
       "      <th>75</th>\n",
       "      <td>Gemini Ultra</td>\n",
       "      <td>Multimodal</td>\n",
       "      <td>Language modelling,Visual question answering,C...</td>\n",
       "      <td>Gemini Team</td>\n",
       "      <td>SOTA improvement</td>\n",
       "      <td>\" Evaluation on a broad range of benchmarks sh...</td>\n",
       "      <td>Hosted access (no API)</td>\n",
       "      <td>https://storage.googleapis.com/deepmind-media/...</td>\n",
       "      <td>633.0</td>\n",
       "      <td>Gemini: A Family of Highly Capable Multimodal ...</td>\n",
       "      <td>...</td>\n",
       "      <td>Industry</td>\n",
       "      <td>NaN</td>\n",
       "      <td>NaN</td>\n",
       "      <td>NaN</td>\n",
       "      <td>132000000.0</td>\n",
       "      <td>NaN</td>\n",
       "      <td>NaN</td>\n",
       "      <td>NaN</td>\n",
       "      <td>Industry</td>\n",
       "      <td>NaN</td>\n",
       "    </tr>\n",
       "    <tr>\n",
       "      <th>83</th>\n",
       "      <td>Qwen-72B</td>\n",
       "      <td>Language</td>\n",
       "      <td>Chat,Code generation</td>\n",
       "      <td>Jinze Bai, Shuai Bai, Yunfei Chu, Zeyu Cui, Ka...</td>\n",
       "      <td>SOTA improvement</td>\n",
       "      <td>SOTA on several Chinese benchmarks, with highe...</td>\n",
       "      <td>Open access (restricted use)</td>\n",
       "      <td>https://huggingface.co/Qwen/Qwen-72B</td>\n",
       "      <td>NaN</td>\n",
       "      <td>NaN</td>\n",
       "      <td>...</td>\n",
       "      <td>Industry</td>\n",
       "      <td>NaN</td>\n",
       "      <td>NaN</td>\n",
       "      <td>NaN</td>\n",
       "      <td>NaN</td>\n",
       "      <td>Unreleased</td>\n",
       "      <td>Unreleased</td>\n",
       "      <td>up to 100m active users:\\nhttps://github.com/Q...</td>\n",
       "      <td>Industry</td>\n",
       "      <td>NaN</td>\n",
       "    </tr>\n",
       "    <tr>\n",
       "      <th>91</th>\n",
       "      <td>Inflection-2</td>\n",
       "      <td>Language</td>\n",
       "      <td>Language modelling</td>\n",
       "      <td>NaN</td>\n",
       "      <td>Significant use</td>\n",
       "      <td>Inflection-2 either already powers Pi or soon ...</td>\n",
       "      <td>Hosted access (no API)</td>\n",
       "      <td>https://inflection.ai/inflection-2</td>\n",
       "      <td>NaN</td>\n",
       "      <td>Inflection-2: The Next Step Up</td>\n",
       "      <td>...</td>\n",
       "      <td>Industry</td>\n",
       "      <td>checked</td>\n",
       "      <td>NaN</td>\n",
       "      <td>NaN</td>\n",
       "      <td>NaN</td>\n",
       "      <td>NaN</td>\n",
       "      <td>NaN</td>\n",
       "      <td>via Pi, no API</td>\n",
       "      <td>Industry</td>\n",
       "      <td>NaN</td>\n",
       "    </tr>\n",
       "    <tr>\n",
       "      <th>...</th>\n",
       "      <td>...</td>\n",
       "      <td>...</td>\n",
       "      <td>...</td>\n",
       "      <td>...</td>\n",
       "      <td>...</td>\n",
       "      <td>...</td>\n",
       "      <td>...</td>\n",
       "      <td>...</td>\n",
       "      <td>...</td>\n",
       "      <td>...</td>\n",
       "      <td>...</td>\n",
       "      <td>...</td>\n",
       "      <td>...</td>\n",
       "      <td>...</td>\n",
       "      <td>...</td>\n",
       "      <td>...</td>\n",
       "      <td>...</td>\n",
       "      <td>...</td>\n",
       "      <td>...</td>\n",
       "      <td>...</td>\n",
       "      <td>...</td>\n",
       "    </tr>\n",
       "    <tr>\n",
       "      <th>1182</th>\n",
       "      <td>AlphaGo Lee</td>\n",
       "      <td>Games</td>\n",
       "      <td>Go</td>\n",
       "      <td>David Silver, Aja Huang, Chris J. Maddison, Ar...</td>\n",
       "      <td>Highly cited</td>\n",
       "      <td>NaN</td>\n",
       "      <td>NaN</td>\n",
       "      <td>https://www.nature.com/articles/nature16961</td>\n",
       "      <td>14887.0</td>\n",
       "      <td>Mastering the game of Go with deep neural netw...</td>\n",
       "      <td>...</td>\n",
       "      <td>Industry</td>\n",
       "      <td>NaN</td>\n",
       "      <td>NaN</td>\n",
       "      <td>NaN</td>\n",
       "      <td>NaN</td>\n",
       "      <td>NaN</td>\n",
       "      <td>NaN</td>\n",
       "      <td>NaN</td>\n",
       "      <td>Industry</td>\n",
       "      <td>NaN</td>\n",
       "    </tr>\n",
       "    <tr>\n",
       "      <th>1183</th>\n",
       "      <td>Variational (untied weights, MC) LSTM (Large)</td>\n",
       "      <td>Language</td>\n",
       "      <td>NaN</td>\n",
       "      <td>Yarin Gal, Zoubin Ghahramani</td>\n",
       "      <td>Highly cited,SOTA improvement</td>\n",
       "      <td>\"The new approach outperforms existing techniq...</td>\n",
       "      <td>NaN</td>\n",
       "      <td>https://arxiv.org/abs/1512.05287?context=stat</td>\n",
       "      <td>1838.0</td>\n",
       "      <td>A Theoretically Grounded Application of Dropou...</td>\n",
       "      <td>...</td>\n",
       "      <td>Academia</td>\n",
       "      <td>NaN</td>\n",
       "      <td>NaN</td>\n",
       "      <td>NaN</td>\n",
       "      <td>NaN</td>\n",
       "      <td>NaN</td>\n",
       "      <td>NaN</td>\n",
       "      <td>NaN</td>\n",
       "      <td>Academia</td>\n",
       "      <td>NaN</td>\n",
       "    </tr>\n",
       "    <tr>\n",
       "      <th>1186</th>\n",
       "      <td>ResNet-152 (ImageNet)</td>\n",
       "      <td>Vision</td>\n",
       "      <td>Image classification</td>\n",
       "      <td>Kaiming He, Xiangyu Zhang, Shaoqing Ren, Jian Sun</td>\n",
       "      <td>Highly cited</td>\n",
       "      <td>NaN</td>\n",
       "      <td>NaN</td>\n",
       "      <td>https://arxiv.org/abs/1512.03385</td>\n",
       "      <td>156882.0</td>\n",
       "      <td>Deep Residual Learning for Image Recognition</td>\n",
       "      <td>...</td>\n",
       "      <td>Industry</td>\n",
       "      <td>NaN</td>\n",
       "      <td>NaN</td>\n",
       "      <td>NaN</td>\n",
       "      <td>NaN</td>\n",
       "      <td>NaN</td>\n",
       "      <td>NaN</td>\n",
       "      <td>NaN</td>\n",
       "      <td>Industry</td>\n",
       "      <td>NaN</td>\n",
       "    </tr>\n",
       "    <tr>\n",
       "      <th>1188</th>\n",
       "      <td>DeepSpeech2 (English)</td>\n",
       "      <td>Speech</td>\n",
       "      <td>Speech recognition</td>\n",
       "      <td>Dario Amodei, Rishita Anubhai, Eric Battenberg...</td>\n",
       "      <td>Highly cited</td>\n",
       "      <td>NaN</td>\n",
       "      <td>NaN</td>\n",
       "      <td>https://arxiv.org/abs/1512.02595</td>\n",
       "      <td>2749.0</td>\n",
       "      <td>Deep Speech 2: End-to-End Speech Recognition i...</td>\n",
       "      <td>...</td>\n",
       "      <td>Industry</td>\n",
       "      <td>NaN</td>\n",
       "      <td>NaN</td>\n",
       "      <td>NaN</td>\n",
       "      <td>301.0</td>\n",
       "      <td>NaN</td>\n",
       "      <td>NaN</td>\n",
       "      <td>NaN</td>\n",
       "      <td>Industry</td>\n",
       "      <td>NaN</td>\n",
       "    </tr>\n",
       "    <tr>\n",
       "      <th>1192</th>\n",
       "      <td>AlphaGo Fan</td>\n",
       "      <td>Games</td>\n",
       "      <td>Go</td>\n",
       "      <td>David Silver, Aja Huang, Chris J. Maddison, Ar...</td>\n",
       "      <td>Highly cited,SOTA improvement</td>\n",
       "      <td>NaN</td>\n",
       "      <td>NaN</td>\n",
       "      <td>https://www.nature.com/articles/nature24270.ep...</td>\n",
       "      <td>14887.0</td>\n",
       "      <td>Mastering the game of Go with deep neural netw...</td>\n",
       "      <td>...</td>\n",
       "      <td>Industry</td>\n",
       "      <td>NaN</td>\n",
       "      <td>NaN</td>\n",
       "      <td>NaN</td>\n",
       "      <td>NaN</td>\n",
       "      <td>NaN</td>\n",
       "      <td>NaN</td>\n",
       "      <td>NaN</td>\n",
       "      <td>Industry</td>\n",
       "      <td>NaN</td>\n",
       "    </tr>\n",
       "  </tbody>\n",
       "</table>\n",
       "<p>290 rows × 58 columns</p>\n",
       "</div>"
      ],
      "text/plain": [
       "                                             System           Domain  \\\n",
       "65                                         CogAgent  Vision,Language   \n",
       "66                                        FunSearch  Language,Search   \n",
       "75                                     Gemini Ultra       Multimodal   \n",
       "83                                         Qwen-72B         Language   \n",
       "91                                     Inflection-2         Language   \n",
       "...                                             ...              ...   \n",
       "1182                                    AlphaGo Lee            Games   \n",
       "1183  Variational (untied weights, MC) LSTM (Large)         Language   \n",
       "1186                          ResNet-152 (ImageNet)           Vision   \n",
       "1188                          DeepSpeech2 (English)           Speech   \n",
       "1192                                    AlphaGo Fan            Games   \n",
       "\n",
       "                                                   Task  \\\n",
       "65    Instruction interpretation,Visual question ans...   \n",
       "66                                      Code generation   \n",
       "75    Language modelling,Visual question answering,C...   \n",
       "83                                 Chat,Code generation   \n",
       "91                                   Language modelling   \n",
       "...                                                 ...   \n",
       "1182                                                 Go   \n",
       "1183                                                NaN   \n",
       "1186                               Image classification   \n",
       "1188                                 Speech recognition   \n",
       "1192                                                 Go   \n",
       "\n",
       "                                                Authors  \\\n",
       "65    Wenyi Hong, Weihan Wang, Qingsong Lv, Jiazheng...   \n",
       "66    Bernardino Romera-Paredes, Mohammadamin Bareka...   \n",
       "75                                          Gemini Team   \n",
       "83    Jinze Bai, Shuai Bai, Yunfei Chu, Zeyu Cui, Ka...   \n",
       "91                                                  NaN   \n",
       "...                                                 ...   \n",
       "1182  David Silver, Aja Huang, Chris J. Maddison, Ar...   \n",
       "1183                       Yarin Gal, Zoubin Ghahramani   \n",
       "1186  Kaiming He, Xiangyu Zhang, Shaoqing Ren, Jian Sun   \n",
       "1188  Dario Amodei, Rishita Anubhai, Eric Battenberg...   \n",
       "1192  David Silver, Aja Huang, Chris J. Maddison, Ar...   \n",
       "\n",
       "                           Notability criteria  \\\n",
       "65                            SOTA improvement   \n",
       "66    SOTA improvement,Historical significance   \n",
       "75                            SOTA improvement   \n",
       "83                            SOTA improvement   \n",
       "91                             Significant use   \n",
       "...                                        ...   \n",
       "1182                              Highly cited   \n",
       "1183             Highly cited,SOTA improvement   \n",
       "1186                              Highly cited   \n",
       "1188                              Highly cited   \n",
       "1192             Highly cited,SOTA improvement   \n",
       "\n",
       "                              Notability criteria notes  \\\n",
       "65                                          See Table 1   \n",
       "66    Improved SOTA for the cap set problem. Can pla...   \n",
       "75    \" Evaluation on a broad range of benchmarks sh...   \n",
       "83    SOTA on several Chinese benchmarks, with highe...   \n",
       "91    Inflection-2 either already powers Pi or soon ...   \n",
       "...                                                 ...   \n",
       "1182                                                NaN   \n",
       "1183  \"The new approach outperforms existing techniq...   \n",
       "1186                                                NaN   \n",
       "1188                                                NaN   \n",
       "1192                                                NaN   \n",
       "\n",
       "               Model accessibility  \\\n",
       "65    Open access (restricted use)   \n",
       "66                     Open source   \n",
       "75          Hosted access (no API)   \n",
       "83    Open access (restricted use)   \n",
       "91          Hosted access (no API)   \n",
       "...                            ...   \n",
       "1182                           NaN   \n",
       "1183                           NaN   \n",
       "1186                           NaN   \n",
       "1188                           NaN   \n",
       "1192                           NaN   \n",
       "\n",
       "                                                   Link  Citations  \\\n",
       "65    https://arxiv.org/abs/2312.08914Wenyi Hong, We...       50.0   \n",
       "66    https://www.nature.com/articles/s41586-023-069...       67.0   \n",
       "75    https://storage.googleapis.com/deepmind-media/...      633.0   \n",
       "83                 https://huggingface.co/Qwen/Qwen-72B        NaN   \n",
       "91                   https://inflection.ai/inflection-2        NaN   \n",
       "...                                                 ...        ...   \n",
       "1182        https://www.nature.com/articles/nature16961    14887.0   \n",
       "1183      https://arxiv.org/abs/1512.05287?context=stat     1838.0   \n",
       "1186                   https://arxiv.org/abs/1512.03385   156882.0   \n",
       "1188                   https://arxiv.org/abs/1512.02595     2749.0   \n",
       "1192  https://www.nature.com/articles/nature24270.ep...    14887.0   \n",
       "\n",
       "                                              Reference  ...  \\\n",
       "65     CogAgent: A Visual Language Model for GUI Agents  ...   \n",
       "66    Mathematical discoveries from program search w...  ...   \n",
       "75    Gemini: A Family of Highly Capable Multimodal ...  ...   \n",
       "83                                                  NaN  ...   \n",
       "91                       Inflection-2: The Next Step Up  ...   \n",
       "...                                                 ...  ...   \n",
       "1182  Mastering the game of Go with deep neural netw...  ...   \n",
       "1183  A Theoretically Grounded Application of Dropou...  ...   \n",
       "1186       Deep Residual Learning for Image Recognition  ...   \n",
       "1188  Deep Speech 2: End-to-End Speech Recognition i...  ...   \n",
       "1192  Mastering the game of Go with deep neural netw...  ...   \n",
       "\n",
       "     Organization categorization Foundation model  \\\n",
       "65                           NaN              NaN   \n",
       "66                      Industry              NaN   \n",
       "75                      Industry              NaN   \n",
       "83                      Industry              NaN   \n",
       "91                      Industry          checked   \n",
       "...                          ...              ...   \n",
       "1182                    Industry              NaN   \n",
       "1183                    Academia              NaN   \n",
       "1186                    Industry              NaN   \n",
       "1188                    Industry              NaN   \n",
       "1192                    Industry              NaN   \n",
       "\n",
       "      Training compute lower bound Training compute upper bound  \\\n",
       "65                             NaN                          NaN   \n",
       "66                             NaN                          NaN   \n",
       "75                             NaN                          NaN   \n",
       "83                             NaN                          NaN   \n",
       "91                             NaN                          NaN   \n",
       "...                            ...                          ...   \n",
       "1182                           NaN                          NaN   \n",
       "1183                           NaN                          NaN   \n",
       "1186                           NaN                          NaN   \n",
       "1188                           NaN                          NaN   \n",
       "1192                           NaN                          NaN   \n",
       "\n",
       "      Training chip-hours Code accessibility Dataset accessibility  \\\n",
       "65                    NaN        Open source                   NaN   \n",
       "66                    NaN                NaN                   NaN   \n",
       "75            132000000.0                NaN                   NaN   \n",
       "83                    NaN         Unreleased            Unreleased   \n",
       "91                    NaN                NaN                   NaN   \n",
       "...                   ...                ...                   ...   \n",
       "1182                  NaN                NaN                   NaN   \n",
       "1183                  NaN                NaN                   NaN   \n",
       "1186                  NaN                NaN                   NaN   \n",
       "1188                301.0                NaN                   NaN   \n",
       "1192                  NaN                NaN                   NaN   \n",
       "\n",
       "                                    Accessibility notes  \\\n",
       "65    Code is Apache License 2.0; model is under a m...   \n",
       "66    Code to run FunSearch with an LLM of your choi...   \n",
       "75                                                  NaN   \n",
       "83    up to 100m active users:\\nhttps://github.com/Q...   \n",
       "91                                       via Pi, no API   \n",
       "...                                                 ...   \n",
       "1182                                                NaN   \n",
       "1183                                                NaN   \n",
       "1186                                                NaN   \n",
       "1188                                                NaN   \n",
       "1192                                                NaN   \n",
       "\n",
       "      Organization categorization (from Organization) Possibly over 1e23 FLOP  \n",
       "65                                                NaN                     NaN  \n",
       "66                                           Industry                     NaN  \n",
       "75                                           Industry                     NaN  \n",
       "83                                           Industry                     NaN  \n",
       "91                                           Industry                     NaN  \n",
       "...                                               ...                     ...  \n",
       "1182                                         Industry                     NaN  \n",
       "1183                                         Academia                     NaN  \n",
       "1186                                         Industry                     NaN  \n",
       "1188                                         Industry                     NaN  \n",
       "1192                                         Industry                     NaN  \n",
       "\n",
       "[290 rows x 58 columns]"
      ]
     },
     "execution_count": 2,
     "metadata": {},
     "output_type": "execute_result"
    }
   ],
   "source": [
    "frontier_pcd_df, hardware_df, price_df = load_data_for_cost_estimation(compute_threshold_method=\"window_percentile\", compute_threshold=0)\n",
    "frontier_pcd_df"
   ]
  },
  {
   "cell_type": "code",
   "execution_count": 6,
   "metadata": {},
   "outputs": [
    {
     "name": "stdout",
     "output_type": "stream",
     "text": [
      "A100: 47\n",
      "V100: 42\n",
      "TPU v3: 38\n",
      "TPU v4: 16\n",
      "TPU v2: 4\n",
      "P100: 4\n",
      "K80: 3\n",
      "NVIDIA GTX Titan X: 3\n",
      "NVIDIA Geforce GTX1080 Ti: 2\n",
      "K40: 2\n",
      "TPU v1: 2\n",
      "NVIDIA M40: 2\n",
      "NVIDIA GeForce GTX TITAN X: 2\n",
      "H100: 1\n",
      "NVIDIA A800: 1\n",
      "Huawei Ascend 910: 1\n",
      "NVIDIA Quadro RTX 4000: 1\n",
      "NVIDIA RTX A6000: 1\n",
      "NVIDIA Quadro RTX 8000: 1\n",
      "NVIDIA Quadro RTX 5000: 1\n",
      "NVIDIA GeForce RTX 2080 Ti: 1\n",
      "NVIDIA TITAN Xp: 1\n",
      "NVIDIA GeForce GTX 1080 Ti: 1\n",
      "NVIDIA Quadro P600: 1\n"
     ]
    }
   ],
   "source": [
    "hardware_aliases = ['A100', 'H100', 'P100', 'V100', 'TPU v4', 'TPU v3', 'TPU v2', 'TPU v1', 'K80', 'K40']\n",
    "hardware_counts = defaultdict(int)\n",
    "hardware_release_dates = {}\n",
    "for hardware in frontier_pcd_df['Training hardware'].dropna():\n",
    "    if \",\" in hardware: continue\n",
    "    alias_found = False\n",
    "    for alias in hardware_aliases:\n",
    "        if alias in hardware:\n",
    "            hardware_release_dates[alias] = get_release_date(hardware, hardware_df)\n",
    "            hardware_counts[alias] += 1\n",
    "            alias_found = True\n",
    "    if not alias_found:\n",
    "        hardware_counts[hardware] += 1\n",
    "\n",
    "# Print counts in descending order\n",
    "for hardware, count in sorted(hardware_counts.items(), key=lambda x: x[1], reverse=True):\n",
    "    print(f'{hardware}: {count}')"
   ]
  },
  {
   "cell_type": "code",
   "execution_count": 7,
   "metadata": {},
   "outputs": [
    {
     "data": {
      "text/plain": [
       "{'TPU v4': Timestamp('2021-05-20 00:00:00'),\n",
       " 'H100': Timestamp('2022-09-20 00:00:00'),\n",
       " 'A100': Timestamp('2020-03-01 00:00:00'),\n",
       " 'V100': Timestamp('2017-06-21 00:00:00'),\n",
       " 'TPU v3': Timestamp('2018-01-01 00:00:00'),\n",
       " 'TPU v2': Timestamp('2017-05-01 00:00:00'),\n",
       " 'P100': Timestamp('2016-04-05 00:00:00'),\n",
       " 'K40': Timestamp('2013-11-22 00:00:00'),\n",
       " 'TPU v1': Timestamp('2015-05-15 00:00:00'),\n",
       " 'K80': Timestamp('2014-11-17 00:00:00')}"
      ]
     },
     "execution_count": 7,
     "metadata": {},
     "output_type": "execute_result"
    }
   ],
   "source": [
    "hardware_release_dates"
   ]
  },
  {
   "cell_type": "code",
   "execution_count": null,
   "metadata": {},
   "outputs": [
    {
     "name": "stdout",
     "output_type": "stream",
     "text": [
      "A100: 47\n",
      "V100: 43\n",
      "P100: 4\n",
      "Titan X: 4\n",
      "K80: 3\n",
      "NVIDIA Geforce GTX1080 Ti: 2\n",
      "K40: 2\n",
      "NVIDIA M40: 2\n",
      "NVIDIA GeForce GTX TITAN X: 2\n",
      "H100: 1\n",
      "NVIDIA A800: 1\n",
      "Huawei Ascend 910: 1\n",
      "NVIDIA Quadro RTX 4000: 1\n",
      "NVIDIA RTX A6000: 1\n",
      "NVIDIA Quadro RTX 8000: 1\n",
      "NVIDIA Quadro RTX 5000: 1\n",
      "NVIDIA GeForce RTX 2080 Ti: 1\n",
      "NVIDIA TITAN Xp: 1\n",
      "NVIDIA GeForce GTX 1080 Ti: 1\n",
      "NVIDIA Quadro P600: 1\n"
     ]
    }
   ],
   "source": [
    "# No TPUs\n",
    "hardware_aliases = ['A100', 'H100', 'P100', 'V100', 'TPU v4', 'TPU v3', 'TPU v2', 'TPU v1', 'K80', 'K40', 'Titan X']\n",
    "hardware_counts = defaultdict(int)\n",
    "for hardware in frontier_pcd_df['Training hardware'].dropna():\n",
    "    if 'TPU' in hardware:\n",
    "        continue\n",
    "    alias_found = False\n",
    "    for alias in hardware_aliases:\n",
    "        if alias in hardware:\n",
    "            hardware_counts[alias] += 1\n",
    "            alias_found = True\n",
    "    if not alias_found:\n",
    "        hardware_counts[hardware] += 1\n",
    "\n",
    "# Print counts in descending order\n",
    "for hardware, count in sorted(hardware_counts.items(), key=lambda x: x[1], reverse=True):\n",
    "    print(f'{hardware}: {count}')"
   ]
  },
  {
   "cell_type": "markdown",
   "metadata": {},
   "source": [
    "# Purchase prices"
   ]
  },
  {
   "cell_type": "code",
   "execution_count": null,
   "metadata": {},
   "outputs": [
    {
     "data": {
      "text/html": [
       "<div>\n",
       "<style scoped>\n",
       "    .dataframe tbody tr th:only-of-type {\n",
       "        vertical-align: middle;\n",
       "    }\n",
       "\n",
       "    .dataframe tbody tr th {\n",
       "        vertical-align: top;\n",
       "    }\n",
       "\n",
       "    .dataframe thead th {\n",
       "        text-align: right;\n",
       "    }\n",
       "</style>\n",
       "<table border=\"1\" class=\"dataframe\">\n",
       "  <thead>\n",
       "    <tr style=\"text-align: right;\">\n",
       "      <th></th>\n",
       "      <th>Price source</th>\n",
       "      <th>Price date</th>\n",
       "      <th>Hardware model</th>\n",
       "      <th>Manufacturer (from Hardware model)</th>\n",
       "      <th>Vendor</th>\n",
       "      <th>Location</th>\n",
       "      <th>Price per chip-hour (on-demand)</th>\n",
       "      <th>Price per chip-hour (1-year CUD)</th>\n",
       "      <th>Price per chip-hour (3-year CUD)</th>\n",
       "      <th>Price (hardware purchase)</th>\n",
       "      <th>Notes</th>\n",
       "    </tr>\n",
       "  </thead>\n",
       "  <tbody>\n",
       "    <tr>\n",
       "      <th>25</th>\n",
       "      <td>https://www.nextplatform.com/2022/05/09/how-mu...</td>\n",
       "      <td>2020-07-01</td>\n",
       "      <td>NVIDIA A100 PCIe</td>\n",
       "      <td>NVIDIA</td>\n",
       "      <td>NaN</td>\n",
       "      <td>NaN</td>\n",
       "      <td>NaN</td>\n",
       "      <td>NaN</td>\n",
       "      <td>NaN</td>\n",
       "      <td>15000.00</td>\n",
       "      <td>Single-unit list price</td>\n",
       "    </tr>\n",
       "    <tr>\n",
       "      <th>26</th>\n",
       "      <td>https://www.nextplatform.com/2022/05/09/how-mu...</td>\n",
       "      <td>2022-07-01</td>\n",
       "      <td>NVIDIA A100 PCIe</td>\n",
       "      <td>NVIDIA</td>\n",
       "      <td>NaN</td>\n",
       "      <td>NaN</td>\n",
       "      <td>NaN</td>\n",
       "      <td>NaN</td>\n",
       "      <td>NaN</td>\n",
       "      <td>12500.00</td>\n",
       "      <td>Single-unit list price</td>\n",
       "    </tr>\n",
       "    <tr>\n",
       "      <th>38</th>\n",
       "      <td>https://web.archive.org/web/20200521074015/htt...</td>\n",
       "      <td>2020-05-21</td>\n",
       "      <td>NVIDIA A100 SXM4 40 GB</td>\n",
       "      <td>NVIDIA</td>\n",
       "      <td>NaN</td>\n",
       "      <td>NaN</td>\n",
       "      <td>NaN</td>\n",
       "      <td>NaN</td>\n",
       "      <td>NaN</td>\n",
       "      <td>24875.00</td>\n",
       "      <td>DGX A100, 8 GPU, 320GB. Release price.</td>\n",
       "    </tr>\n",
       "    <tr>\n",
       "      <th>39</th>\n",
       "      <td>https://www.nextplatform.com/2022/05/09/how-mu...</td>\n",
       "      <td>2020-07-01</td>\n",
       "      <td>NVIDIA A100 SXM4 40 GB</td>\n",
       "      <td>NVIDIA</td>\n",
       "      <td>NaN</td>\n",
       "      <td>NaN</td>\n",
       "      <td>NaN</td>\n",
       "      <td>NaN</td>\n",
       "      <td>NaN</td>\n",
       "      <td>15000.00</td>\n",
       "      <td>Single-unit list price</td>\n",
       "    </tr>\n",
       "    <tr>\n",
       "      <th>40</th>\n",
       "      <td>https://www.nextplatform.com/2022/05/09/how-mu...</td>\n",
       "      <td>2022-07-01</td>\n",
       "      <td>NVIDIA A100 SXM4 40 GB</td>\n",
       "      <td>NVIDIA</td>\n",
       "      <td>NaN</td>\n",
       "      <td>NaN</td>\n",
       "      <td>NaN</td>\n",
       "      <td>NaN</td>\n",
       "      <td>NaN</td>\n",
       "      <td>12500.00</td>\n",
       "      <td>Single-unit list price</td>\n",
       "    </tr>\n",
       "    <tr>\n",
       "      <th>48</th>\n",
       "      <td>https://web.archive.org/web/20210630170623/htt...</td>\n",
       "      <td>2021-06-30</td>\n",
       "      <td>NVIDIA A100 SXM4 80 GB</td>\n",
       "      <td>NVIDIA</td>\n",
       "      <td>NaN</td>\n",
       "      <td>NaN</td>\n",
       "      <td>NaN</td>\n",
       "      <td>NaN</td>\n",
       "      <td>NaN</td>\n",
       "      <td>37500.00</td>\n",
       "      <td>DGX A100, 8 GPU, 640GB</td>\n",
       "    </tr>\n",
       "    <tr>\n",
       "      <th>49</th>\n",
       "      <td>https://web.archive.org/web/20220120191032/htt...</td>\n",
       "      <td>2022-01-20</td>\n",
       "      <td>NVIDIA A100 SXM4 80 GB</td>\n",
       "      <td>NVIDIA</td>\n",
       "      <td>NaN</td>\n",
       "      <td>NaN</td>\n",
       "      <td>NaN</td>\n",
       "      <td>NaN</td>\n",
       "      <td>NaN</td>\n",
       "      <td>20875.00</td>\n",
       "      <td>DGX A100, 8 GPU, 640GB</td>\n",
       "    </tr>\n",
       "    <tr>\n",
       "      <th>50</th>\n",
       "      <td>https://web.archive.org/web/20230923154035/htt...</td>\n",
       "      <td>2023-09-23</td>\n",
       "      <td>NVIDIA A100 SXM4 80 GB</td>\n",
       "      <td>NVIDIA</td>\n",
       "      <td>NaN</td>\n",
       "      <td>NaN</td>\n",
       "      <td>NaN</td>\n",
       "      <td>NaN</td>\n",
       "      <td>NaN</td>\n",
       "      <td>18548.75</td>\n",
       "      <td>HGX A100, 8 GPU, 640GB</td>\n",
       "    </tr>\n",
       "    <tr>\n",
       "      <th>57</th>\n",
       "      <td>https://www.techpowerup.com/gpu-specs/geforce-...</td>\n",
       "      <td>2015-03-17</td>\n",
       "      <td>NVIDIA GTX Titan X</td>\n",
       "      <td>NVIDIA</td>\n",
       "      <td>NaN</td>\n",
       "      <td>NaN</td>\n",
       "      <td>NaN</td>\n",
       "      <td>NaN</td>\n",
       "      <td>NaN</td>\n",
       "      <td>999.00</td>\n",
       "      <td>Single-unit release price</td>\n",
       "    </tr>\n",
       "    <tr>\n",
       "      <th>59</th>\n",
       "      <td>https://web.archive.org/web/20220929115124/htt...</td>\n",
       "      <td>2022-09-29</td>\n",
       "      <td>NVIDIA H100 SXM5</td>\n",
       "      <td>NVIDIA</td>\n",
       "      <td>NaN</td>\n",
       "      <td>NaN</td>\n",
       "      <td>NaN</td>\n",
       "      <td>NaN</td>\n",
       "      <td>NaN</td>\n",
       "      <td>44489.88</td>\n",
       "      <td>DGX, 8 GPU, 640GB. Convert Euro to USD: https:...</td>\n",
       "    </tr>\n",
       "    <tr>\n",
       "      <th>60</th>\n",
       "      <td>https://web.archive.org/web/20230529125834/htt...</td>\n",
       "      <td>2023-05-29</td>\n",
       "      <td>NVIDIA H100 SXM5</td>\n",
       "      <td>NVIDIA</td>\n",
       "      <td>NaN</td>\n",
       "      <td>NaN</td>\n",
       "      <td>NaN</td>\n",
       "      <td>NaN</td>\n",
       "      <td>NaN</td>\n",
       "      <td>33750.00</td>\n",
       "      <td>DGX, 8 GPU, 640GB. “Nvidia sells DGX H100’s at...</td>\n",
       "    </tr>\n",
       "    <tr>\n",
       "      <th>61</th>\n",
       "      <td>https://web.archive.org/web/20231211031623/htt...</td>\n",
       "      <td>2023-12-11</td>\n",
       "      <td>NVIDIA H100 SXM5</td>\n",
       "      <td>NVIDIA</td>\n",
       "      <td>NaN</td>\n",
       "      <td>NaN</td>\n",
       "      <td>NaN</td>\n",
       "      <td>NaN</td>\n",
       "      <td>NaN</td>\n",
       "      <td>41197.50</td>\n",
       "      <td>DGX, 8 GPU, 640GB. Convert Euro to USD: https:...</td>\n",
       "    </tr>\n",
       "    <tr>\n",
       "      <th>62</th>\n",
       "      <td>https://web.archive.org/web/20240320115454/htt...</td>\n",
       "      <td>2024-03-20</td>\n",
       "      <td>NVIDIA H100 SXM5</td>\n",
       "      <td>NVIDIA</td>\n",
       "      <td>NaN</td>\n",
       "      <td>NaN</td>\n",
       "      <td>NaN</td>\n",
       "      <td>NaN</td>\n",
       "      <td>NaN</td>\n",
       "      <td>41217.00</td>\n",
       "      <td>DGX, 8 GPU, 640GB. Convert Euro to USD: https:...</td>\n",
       "    </tr>\n",
       "    <tr>\n",
       "      <th>63</th>\n",
       "      <td>https://web.archive.org/web/20240321212632/htt...</td>\n",
       "      <td>2024-03-21</td>\n",
       "      <td>NVIDIA H100 SXM5</td>\n",
       "      <td>NVIDIA</td>\n",
       "      <td>NaN</td>\n",
       "      <td>NaN</td>\n",
       "      <td>NaN</td>\n",
       "      <td>NaN</td>\n",
       "      <td>NaN</td>\n",
       "      <td>37080.50</td>\n",
       "      <td>HGX, 8 GPU, 640GB</td>\n",
       "    </tr>\n",
       "    <tr>\n",
       "      <th>74</th>\n",
       "      <td>https://www.nextplatform.com/2022/05/09/how-mu...</td>\n",
       "      <td>2012-07-01</td>\n",
       "      <td>NVIDIA Tesla K40s</td>\n",
       "      <td>NVIDIA</td>\n",
       "      <td>NaN</td>\n",
       "      <td>NaN</td>\n",
       "      <td>NaN</td>\n",
       "      <td>NaN</td>\n",
       "      <td>NaN</td>\n",
       "      <td>5400.00</td>\n",
       "      <td>Single-unit release price</td>\n",
       "    </tr>\n",
       "    <tr>\n",
       "      <th>75</th>\n",
       "      <td>https://www.techpowerup.com/gpu-specs/tesla-k4...</td>\n",
       "      <td>2013-11-22</td>\n",
       "      <td>NVIDIA Tesla K40s</td>\n",
       "      <td>NVIDIA</td>\n",
       "      <td>NaN</td>\n",
       "      <td>NaN</td>\n",
       "      <td>NaN</td>\n",
       "      <td>NaN</td>\n",
       "      <td>NaN</td>\n",
       "      <td>7699.00</td>\n",
       "      <td>Single-unit release price</td>\n",
       "    </tr>\n",
       "    <tr>\n",
       "      <th>76</th>\n",
       "      <td>https://www.nextplatform.com/2022/05/09/how-mu...</td>\n",
       "      <td>2014-07-01</td>\n",
       "      <td>NVIDIA Tesla K40s</td>\n",
       "      <td>NVIDIA</td>\n",
       "      <td>NaN</td>\n",
       "      <td>NaN</td>\n",
       "      <td>NaN</td>\n",
       "      <td>NaN</td>\n",
       "      <td>NaN</td>\n",
       "      <td>4200.00</td>\n",
       "      <td>Single-unit list price</td>\n",
       "    </tr>\n",
       "    <tr>\n",
       "      <th>77</th>\n",
       "      <td>https://www.nextplatform.com/2022/05/09/how-mu...</td>\n",
       "      <td>2016-07-01</td>\n",
       "      <td>NVIDIA Tesla K40s</td>\n",
       "      <td>NVIDIA</td>\n",
       "      <td>NaN</td>\n",
       "      <td>NaN</td>\n",
       "      <td>NaN</td>\n",
       "      <td>NaN</td>\n",
       "      <td>NaN</td>\n",
       "      <td>2900.00</td>\n",
       "      <td>Single-unit list price</td>\n",
       "    </tr>\n",
       "    <tr>\n",
       "      <th>78</th>\n",
       "      <td>https://www.nextplatform.com/2022/05/09/how-mu...</td>\n",
       "      <td>2018-07-01</td>\n",
       "      <td>NVIDIA Tesla K40s</td>\n",
       "      <td>NVIDIA</td>\n",
       "      <td>NaN</td>\n",
       "      <td>NaN</td>\n",
       "      <td>NaN</td>\n",
       "      <td>NaN</td>\n",
       "      <td>NaN</td>\n",
       "      <td>2300.00</td>\n",
       "      <td>Single-unit list price</td>\n",
       "    </tr>\n",
       "    <tr>\n",
       "      <th>79</th>\n",
       "      <td>https://www.nextplatform.com/2022/05/09/how-mu...</td>\n",
       "      <td>2020-07-01</td>\n",
       "      <td>NVIDIA Tesla K40s</td>\n",
       "      <td>NVIDIA</td>\n",
       "      <td>NaN</td>\n",
       "      <td>NaN</td>\n",
       "      <td>NaN</td>\n",
       "      <td>NaN</td>\n",
       "      <td>NaN</td>\n",
       "      <td>540.00</td>\n",
       "      <td>Single-unit list price</td>\n",
       "    </tr>\n",
       "    <tr>\n",
       "      <th>80</th>\n",
       "      <td>https://www.nextplatform.com/2022/05/09/how-mu...</td>\n",
       "      <td>2022-07-01</td>\n",
       "      <td>NVIDIA Tesla K40s</td>\n",
       "      <td>NVIDIA</td>\n",
       "      <td>NaN</td>\n",
       "      <td>NaN</td>\n",
       "      <td>NaN</td>\n",
       "      <td>NaN</td>\n",
       "      <td>NaN</td>\n",
       "      <td>290.00</td>\n",
       "      <td>Single-unit list price</td>\n",
       "    </tr>\n",
       "    <tr>\n",
       "      <th>81</th>\n",
       "      <td>https://www.anandtech.com/show/8729/nvidia-lau...</td>\n",
       "      <td>2014-11-17</td>\n",
       "      <td>NVIDIA Tesla K80</td>\n",
       "      <td>NVIDIA</td>\n",
       "      <td>NaN</td>\n",
       "      <td>NaN</td>\n",
       "      <td>NaN</td>\n",
       "      <td>NaN</td>\n",
       "      <td>NaN</td>\n",
       "      <td>5000.00</td>\n",
       "      <td>Single-unit release price</td>\n",
       "    </tr>\n",
       "    <tr>\n",
       "      <th>82</th>\n",
       "      <td>https://www.nextplatform.com/2022/05/09/how-mu...</td>\n",
       "      <td>2016-07-01</td>\n",
       "      <td>NVIDIA Tesla K80</td>\n",
       "      <td>NVIDIA</td>\n",
       "      <td>NaN</td>\n",
       "      <td>NaN</td>\n",
       "      <td>NaN</td>\n",
       "      <td>NaN</td>\n",
       "      <td>NaN</td>\n",
       "      <td>3700.00</td>\n",
       "      <td>Single-unit list price</td>\n",
       "    </tr>\n",
       "    <tr>\n",
       "      <th>83</th>\n",
       "      <td>https://www.nextplatform.com/2022/05/09/how-mu...</td>\n",
       "      <td>2018-07-01</td>\n",
       "      <td>NVIDIA Tesla K80</td>\n",
       "      <td>NVIDIA</td>\n",
       "      <td>NaN</td>\n",
       "      <td>NaN</td>\n",
       "      <td>NaN</td>\n",
       "      <td>NaN</td>\n",
       "      <td>NaN</td>\n",
       "      <td>2500.00</td>\n",
       "      <td>Single-unit list price</td>\n",
       "    </tr>\n",
       "    <tr>\n",
       "      <th>84</th>\n",
       "      <td>https://www.nextplatform.com/2022/05/09/how-mu...</td>\n",
       "      <td>2020-07-01</td>\n",
       "      <td>NVIDIA Tesla K80</td>\n",
       "      <td>NVIDIA</td>\n",
       "      <td>NaN</td>\n",
       "      <td>NaN</td>\n",
       "      <td>NaN</td>\n",
       "      <td>NaN</td>\n",
       "      <td>NaN</td>\n",
       "      <td>940.00</td>\n",
       "      <td>Single-unit list price</td>\n",
       "    </tr>\n",
       "    <tr>\n",
       "      <th>85</th>\n",
       "      <td>https://www.nextplatform.com/2022/05/09/how-mu...</td>\n",
       "      <td>2022-07-01</td>\n",
       "      <td>NVIDIA Tesla K80</td>\n",
       "      <td>NVIDIA</td>\n",
       "      <td>NaN</td>\n",
       "      <td>NaN</td>\n",
       "      <td>NaN</td>\n",
       "      <td>NaN</td>\n",
       "      <td>NaN</td>\n",
       "      <td>435.00</td>\n",
       "      <td>Single-unit list price</td>\n",
       "    </tr>\n",
       "    <tr>\n",
       "      <th>97</th>\n",
       "      <td>https://www.techpowerup.com/gpu-specs/tesla-p1...</td>\n",
       "      <td>2016-06-20</td>\n",
       "      <td>NVIDIA Tesla P100 PCIe 16 GB</td>\n",
       "      <td>NVIDIA</td>\n",
       "      <td>NaN</td>\n",
       "      <td>NaN</td>\n",
       "      <td>NaN</td>\n",
       "      <td>NaN</td>\n",
       "      <td>NaN</td>\n",
       "      <td>5699.00</td>\n",
       "      <td>Single-unit release price</td>\n",
       "    </tr>\n",
       "    <tr>\n",
       "      <th>98</th>\n",
       "      <td>https://web.archive.org/web/20160621002700/htt...</td>\n",
       "      <td>2016-06-21</td>\n",
       "      <td>NVIDIA Tesla P100 PCIe 16 GB</td>\n",
       "      <td>NVIDIA</td>\n",
       "      <td>NaN</td>\n",
       "      <td>NaN</td>\n",
       "      <td>NaN</td>\n",
       "      <td>NaN</td>\n",
       "      <td>NaN</td>\n",
       "      <td>16125.00</td>\n",
       "      <td>DGX-1, 8 GPU, 128GB</td>\n",
       "    </tr>\n",
       "    <tr>\n",
       "      <th>99</th>\n",
       "      <td>https://www.nextplatform.com/2022/05/09/how-mu...</td>\n",
       "      <td>2016-07-01</td>\n",
       "      <td>NVIDIA Tesla P100 PCIe 16 GB</td>\n",
       "      <td>NVIDIA</td>\n",
       "      <td>NaN</td>\n",
       "      <td>NaN</td>\n",
       "      <td>NaN</td>\n",
       "      <td>NaN</td>\n",
       "      <td>NaN</td>\n",
       "      <td>5500.00</td>\n",
       "      <td>Single-unit list price</td>\n",
       "    </tr>\n",
       "    <tr>\n",
       "      <th>100</th>\n",
       "      <td>https://web.archive.org/web/20170312174101/htt...</td>\n",
       "      <td>2017-03-12</td>\n",
       "      <td>NVIDIA Tesla P100 PCIe 16 GB</td>\n",
       "      <td>NVIDIA</td>\n",
       "      <td>NaN</td>\n",
       "      <td>NaN</td>\n",
       "      <td>NaN</td>\n",
       "      <td>NaN</td>\n",
       "      <td>NaN</td>\n",
       "      <td>18543.75</td>\n",
       "      <td>DGX-1, 8 GPU, 128GB</td>\n",
       "    </tr>\n",
       "    <tr>\n",
       "      <th>101</th>\n",
       "      <td>https://www.nextplatform.com/2022/05/09/how-mu...</td>\n",
       "      <td>2018-07-01</td>\n",
       "      <td>NVIDIA Tesla P100 PCIe 16 GB</td>\n",
       "      <td>NVIDIA</td>\n",
       "      <td>NaN</td>\n",
       "      <td>NaN</td>\n",
       "      <td>NaN</td>\n",
       "      <td>NaN</td>\n",
       "      <td>NaN</td>\n",
       "      <td>5900.00</td>\n",
       "      <td>Single-unit list price</td>\n",
       "    </tr>\n",
       "    <tr>\n",
       "      <th>102</th>\n",
       "      <td>https://www.nextplatform.com/2022/05/09/how-mu...</td>\n",
       "      <td>2020-07-01</td>\n",
       "      <td>NVIDIA Tesla P100 PCIe 16 GB</td>\n",
       "      <td>NVIDIA</td>\n",
       "      <td>NaN</td>\n",
       "      <td>NaN</td>\n",
       "      <td>NaN</td>\n",
       "      <td>NaN</td>\n",
       "      <td>NaN</td>\n",
       "      <td>3500.00</td>\n",
       "      <td>Single-unit list price</td>\n",
       "    </tr>\n",
       "    <tr>\n",
       "      <th>103</th>\n",
       "      <td>https://www.nextplatform.com/2022/05/09/how-mu...</td>\n",
       "      <td>2022-07-01</td>\n",
       "      <td>NVIDIA Tesla P100 PCIe 16 GB</td>\n",
       "      <td>NVIDIA</td>\n",
       "      <td>NaN</td>\n",
       "      <td>NaN</td>\n",
       "      <td>NaN</td>\n",
       "      <td>NaN</td>\n",
       "      <td>NaN</td>\n",
       "      <td>2200.00</td>\n",
       "      <td>Single-unit list price</td>\n",
       "    </tr>\n",
       "    <tr>\n",
       "      <th>104</th>\n",
       "      <td>https://www.nextplatform.com/2022/05/09/how-mu...</td>\n",
       "      <td>2016-07-01</td>\n",
       "      <td>NVIDIA Tesla P100 SXM2</td>\n",
       "      <td>NVIDIA</td>\n",
       "      <td>NaN</td>\n",
       "      <td>NaN</td>\n",
       "      <td>NaN</td>\n",
       "      <td>NaN</td>\n",
       "      <td>NaN</td>\n",
       "      <td>10500.00</td>\n",
       "      <td>Single-unit list price</td>\n",
       "    </tr>\n",
       "    <tr>\n",
       "      <th>105</th>\n",
       "      <td>https://www.nextplatform.com/2022/05/09/how-mu...</td>\n",
       "      <td>2018-07-01</td>\n",
       "      <td>NVIDIA Tesla P100 SXM2</td>\n",
       "      <td>NVIDIA</td>\n",
       "      <td>NaN</td>\n",
       "      <td>NaN</td>\n",
       "      <td>NaN</td>\n",
       "      <td>NaN</td>\n",
       "      <td>NaN</td>\n",
       "      <td>7400.00</td>\n",
       "      <td>Single-unit list price</td>\n",
       "    </tr>\n",
       "    <tr>\n",
       "      <th>106</th>\n",
       "      <td>https://www.nextplatform.com/2022/05/09/how-mu...</td>\n",
       "      <td>2020-07-01</td>\n",
       "      <td>NVIDIA Tesla P100 SXM2</td>\n",
       "      <td>NVIDIA</td>\n",
       "      <td>NaN</td>\n",
       "      <td>NaN</td>\n",
       "      <td>NaN</td>\n",
       "      <td>NaN</td>\n",
       "      <td>NaN</td>\n",
       "      <td>4400.00</td>\n",
       "      <td>Single-unit list price</td>\n",
       "    </tr>\n",
       "    <tr>\n",
       "      <th>107</th>\n",
       "      <td>https://www.nextplatform.com/2022/05/09/how-mu...</td>\n",
       "      <td>2022-07-01</td>\n",
       "      <td>NVIDIA Tesla P100 SXM2</td>\n",
       "      <td>NVIDIA</td>\n",
       "      <td>NaN</td>\n",
       "      <td>NaN</td>\n",
       "      <td>NaN</td>\n",
       "      <td>NaN</td>\n",
       "      <td>NaN</td>\n",
       "      <td>1100.00</td>\n",
       "      <td>Single-unit list price</td>\n",
       "    </tr>\n",
       "    <tr>\n",
       "      <th>109</th>\n",
       "      <td>https://web.archive.org/web/20190111090822/htt...</td>\n",
       "      <td>2019-01-11</td>\n",
       "      <td>NVIDIA Tesla V100 DGXS 32 GB</td>\n",
       "      <td>NVIDIA</td>\n",
       "      <td>NaN</td>\n",
       "      <td>NaN</td>\n",
       "      <td>NaN</td>\n",
       "      <td>NaN</td>\n",
       "      <td>NaN</td>\n",
       "      <td>18457.50</td>\n",
       "      <td>DGX, 4 GPU, 128GB</td>\n",
       "    </tr>\n",
       "    <tr>\n",
       "      <th>110</th>\n",
       "      <td>https://web.archive.org/web/20190111061033/htt...</td>\n",
       "      <td>2019-01-11</td>\n",
       "      <td>NVIDIA Tesla V100 DGXS 32 GB</td>\n",
       "      <td>NVIDIA</td>\n",
       "      <td>NaN</td>\n",
       "      <td>NaN</td>\n",
       "      <td>NaN</td>\n",
       "      <td>NaN</td>\n",
       "      <td>NaN</td>\n",
       "      <td>19928.75</td>\n",
       "      <td>DGX-1, 8 GPU, 256GB</td>\n",
       "    </tr>\n",
       "    <tr>\n",
       "      <th>111</th>\n",
       "      <td>https://web.archive.org/web/20190111101112/htt...</td>\n",
       "      <td>2019-01-11</td>\n",
       "      <td>NVIDIA Tesla V100 DGXS 32 GB</td>\n",
       "      <td>NVIDIA</td>\n",
       "      <td>NaN</td>\n",
       "      <td>NaN</td>\n",
       "      <td>NaN</td>\n",
       "      <td>NaN</td>\n",
       "      <td>NaN</td>\n",
       "      <td>26995.63</td>\n",
       "      <td>DGX-2, 16 GPU, 512 GB</td>\n",
       "    </tr>\n",
       "    <tr>\n",
       "      <th>118</th>\n",
       "      <td>https://web.archive.org/web/20190118082125/htt...</td>\n",
       "      <td>2018-05-08</td>\n",
       "      <td>NVIDIA Tesla V100 PCIe 16 GB</td>\n",
       "      <td>NVIDIA</td>\n",
       "      <td>NaN</td>\n",
       "      <td>NaN</td>\n",
       "      <td>NaN</td>\n",
       "      <td>NaN</td>\n",
       "      <td>NaN</td>\n",
       "      <td>10664.00</td>\n",
       "      <td>Single-unit list price</td>\n",
       "    </tr>\n",
       "    <tr>\n",
       "      <th>119</th>\n",
       "      <td>https://www.nextplatform.com/2022/05/09/how-mu...</td>\n",
       "      <td>2018-07-01</td>\n",
       "      <td>NVIDIA Tesla V100 PCIe 32 GB</td>\n",
       "      <td>NVIDIA</td>\n",
       "      <td>NaN</td>\n",
       "      <td>NaN</td>\n",
       "      <td>NaN</td>\n",
       "      <td>NaN</td>\n",
       "      <td>NaN</td>\n",
       "      <td>8500.00</td>\n",
       "      <td>Single-unit list price</td>\n",
       "    </tr>\n",
       "    <tr>\n",
       "      <th>120</th>\n",
       "      <td>https://www.nextplatform.com/2022/05/09/how-mu...</td>\n",
       "      <td>2020-07-01</td>\n",
       "      <td>NVIDIA Tesla V100 PCIe 32 GB</td>\n",
       "      <td>NVIDIA</td>\n",
       "      <td>NaN</td>\n",
       "      <td>NaN</td>\n",
       "      <td>NaN</td>\n",
       "      <td>NaN</td>\n",
       "      <td>NaN</td>\n",
       "      <td>10500.00</td>\n",
       "      <td>Single-unit list price</td>\n",
       "    </tr>\n",
       "    <tr>\n",
       "      <th>121</th>\n",
       "      <td>https://www.nextplatform.com/2022/05/09/how-mu...</td>\n",
       "      <td>2022-07-01</td>\n",
       "      <td>NVIDIA Tesla V100 PCIe 32 GB</td>\n",
       "      <td>NVIDIA</td>\n",
       "      <td>NaN</td>\n",
       "      <td>NaN</td>\n",
       "      <td>NaN</td>\n",
       "      <td>NaN</td>\n",
       "      <td>NaN</td>\n",
       "      <td>7500.00</td>\n",
       "      <td>Single-unit list price</td>\n",
       "    </tr>\n",
       "    <tr>\n",
       "      <th>122</th>\n",
       "      <td>https://web.archive.org/web/20190118082125/htt...</td>\n",
       "      <td>2018-05-08</td>\n",
       "      <td>NVIDIA Tesla V100 SXM2 16 GB</td>\n",
       "      <td>NVIDIA</td>\n",
       "      <td>NaN</td>\n",
       "      <td>NaN</td>\n",
       "      <td>NaN</td>\n",
       "      <td>NaN</td>\n",
       "      <td>NaN</td>\n",
       "      <td>10664.00</td>\n",
       "      <td>Single-unit list price</td>\n",
       "    </tr>\n",
       "    <tr>\n",
       "      <th>123</th>\n",
       "      <td>https://web.archive.org/web/20190118082125/htt...</td>\n",
       "      <td>2018-05-08</td>\n",
       "      <td>NVIDIA Tesla V100 SXM2 32 GB</td>\n",
       "      <td>NVIDIA</td>\n",
       "      <td>NaN</td>\n",
       "      <td>NaN</td>\n",
       "      <td>NaN</td>\n",
       "      <td>NaN</td>\n",
       "      <td>NaN</td>\n",
       "      <td>11458.00</td>\n",
       "      <td>Single-unit list price</td>\n",
       "    </tr>\n",
       "    <tr>\n",
       "      <th>124</th>\n",
       "      <td>https://web.archive.org/web/20190118082125/htt...</td>\n",
       "      <td>2018-05-08</td>\n",
       "      <td>NVIDIA Tesla V100 SXM2 32 GB</td>\n",
       "      <td>NVIDIA</td>\n",
       "      <td>NaN</td>\n",
       "      <td>NaN</td>\n",
       "      <td>NaN</td>\n",
       "      <td>NaN</td>\n",
       "      <td>NaN</td>\n",
       "      <td>11458.00</td>\n",
       "      <td>Single-unit list price</td>\n",
       "    </tr>\n",
       "    <tr>\n",
       "      <th>125</th>\n",
       "      <td>https://www.nextplatform.com/2022/05/09/how-mu...</td>\n",
       "      <td>2018-07-01</td>\n",
       "      <td>NVIDIA Tesla V100 SXM3 32 GB</td>\n",
       "      <td>NVIDIA</td>\n",
       "      <td>NaN</td>\n",
       "      <td>NaN</td>\n",
       "      <td>NaN</td>\n",
       "      <td>NaN</td>\n",
       "      <td>NaN</td>\n",
       "      <td>11500.00</td>\n",
       "      <td>Single-unit list price</td>\n",
       "    </tr>\n",
       "    <tr>\n",
       "      <th>126</th>\n",
       "      <td>https://www.nextplatform.com/2022/05/09/how-mu...</td>\n",
       "      <td>2020-07-01</td>\n",
       "      <td>NVIDIA Tesla V100 SXM3 32 GB</td>\n",
       "      <td>NVIDIA</td>\n",
       "      <td>NaN</td>\n",
       "      <td>NaN</td>\n",
       "      <td>NaN</td>\n",
       "      <td>NaN</td>\n",
       "      <td>NaN</td>\n",
       "      <td>13700.00</td>\n",
       "      <td>Single-unit list price</td>\n",
       "    </tr>\n",
       "    <tr>\n",
       "      <th>127</th>\n",
       "      <td>https://www.nextplatform.com/2022/05/09/how-mu...</td>\n",
       "      <td>2022-07-01</td>\n",
       "      <td>NVIDIA Tesla V100 SXM3 32 GB</td>\n",
       "      <td>NVIDIA</td>\n",
       "      <td>NaN</td>\n",
       "      <td>NaN</td>\n",
       "      <td>NaN</td>\n",
       "      <td>NaN</td>\n",
       "      <td>NaN</td>\n",
       "      <td>2500.00</td>\n",
       "      <td>Single-unit list price</td>\n",
       "    </tr>\n",
       "    <tr>\n",
       "      <th>128</th>\n",
       "      <td>https://web.archive.org/web/20170513081017/htt...</td>\n",
       "      <td>2017-07-01</td>\n",
       "      <td>NVIDIA V100</td>\n",
       "      <td>NVIDIA</td>\n",
       "      <td>NaN</td>\n",
       "      <td>NaN</td>\n",
       "      <td>NaN</td>\n",
       "      <td>NaN</td>\n",
       "      <td>NaN</td>\n",
       "      <td>18625.00</td>\n",
       "      <td>Price at release (2017 Q3) for a DGX-1 with 8x...</td>\n",
       "    </tr>\n",
       "    <tr>\n",
       "      <th>129</th>\n",
       "      <td>https://web.archive.org/web/20170513081017/htt...</td>\n",
       "      <td>2017-07-01</td>\n",
       "      <td>NVIDIA V100</td>\n",
       "      <td>NVIDIA</td>\n",
       "      <td>NaN</td>\n",
       "      <td>NaN</td>\n",
       "      <td>NaN</td>\n",
       "      <td>NaN</td>\n",
       "      <td>NaN</td>\n",
       "      <td>17250.00</td>\n",
       "      <td>Price at release (2017 Q3) for a DGXS with 4x ...</td>\n",
       "    </tr>\n",
       "  </tbody>\n",
       "</table>\n",
       "</div>"
      ],
      "text/plain": [
       "                                          Price source Price date  \\\n",
       "25   https://www.nextplatform.com/2022/05/09/how-mu... 2020-07-01   \n",
       "26   https://www.nextplatform.com/2022/05/09/how-mu... 2022-07-01   \n",
       "38   https://web.archive.org/web/20200521074015/htt... 2020-05-21   \n",
       "39   https://www.nextplatform.com/2022/05/09/how-mu... 2020-07-01   \n",
       "40   https://www.nextplatform.com/2022/05/09/how-mu... 2022-07-01   \n",
       "48   https://web.archive.org/web/20210630170623/htt... 2021-06-30   \n",
       "49   https://web.archive.org/web/20220120191032/htt... 2022-01-20   \n",
       "50   https://web.archive.org/web/20230923154035/htt... 2023-09-23   \n",
       "57   https://www.techpowerup.com/gpu-specs/geforce-... 2015-03-17   \n",
       "59   https://web.archive.org/web/20220929115124/htt... 2022-09-29   \n",
       "60   https://web.archive.org/web/20230529125834/htt... 2023-05-29   \n",
       "61   https://web.archive.org/web/20231211031623/htt... 2023-12-11   \n",
       "62   https://web.archive.org/web/20240320115454/htt... 2024-03-20   \n",
       "63   https://web.archive.org/web/20240321212632/htt... 2024-03-21   \n",
       "74   https://www.nextplatform.com/2022/05/09/how-mu... 2012-07-01   \n",
       "75   https://www.techpowerup.com/gpu-specs/tesla-k4... 2013-11-22   \n",
       "76   https://www.nextplatform.com/2022/05/09/how-mu... 2014-07-01   \n",
       "77   https://www.nextplatform.com/2022/05/09/how-mu... 2016-07-01   \n",
       "78   https://www.nextplatform.com/2022/05/09/how-mu... 2018-07-01   \n",
       "79   https://www.nextplatform.com/2022/05/09/how-mu... 2020-07-01   \n",
       "80   https://www.nextplatform.com/2022/05/09/how-mu... 2022-07-01   \n",
       "81   https://www.anandtech.com/show/8729/nvidia-lau... 2014-11-17   \n",
       "82   https://www.nextplatform.com/2022/05/09/how-mu... 2016-07-01   \n",
       "83   https://www.nextplatform.com/2022/05/09/how-mu... 2018-07-01   \n",
       "84   https://www.nextplatform.com/2022/05/09/how-mu... 2020-07-01   \n",
       "85   https://www.nextplatform.com/2022/05/09/how-mu... 2022-07-01   \n",
       "97   https://www.techpowerup.com/gpu-specs/tesla-p1... 2016-06-20   \n",
       "98   https://web.archive.org/web/20160621002700/htt... 2016-06-21   \n",
       "99   https://www.nextplatform.com/2022/05/09/how-mu... 2016-07-01   \n",
       "100  https://web.archive.org/web/20170312174101/htt... 2017-03-12   \n",
       "101  https://www.nextplatform.com/2022/05/09/how-mu... 2018-07-01   \n",
       "102  https://www.nextplatform.com/2022/05/09/how-mu... 2020-07-01   \n",
       "103  https://www.nextplatform.com/2022/05/09/how-mu... 2022-07-01   \n",
       "104  https://www.nextplatform.com/2022/05/09/how-mu... 2016-07-01   \n",
       "105  https://www.nextplatform.com/2022/05/09/how-mu... 2018-07-01   \n",
       "106  https://www.nextplatform.com/2022/05/09/how-mu... 2020-07-01   \n",
       "107  https://www.nextplatform.com/2022/05/09/how-mu... 2022-07-01   \n",
       "109  https://web.archive.org/web/20190111090822/htt... 2019-01-11   \n",
       "110  https://web.archive.org/web/20190111061033/htt... 2019-01-11   \n",
       "111  https://web.archive.org/web/20190111101112/htt... 2019-01-11   \n",
       "118  https://web.archive.org/web/20190118082125/htt... 2018-05-08   \n",
       "119  https://www.nextplatform.com/2022/05/09/how-mu... 2018-07-01   \n",
       "120  https://www.nextplatform.com/2022/05/09/how-mu... 2020-07-01   \n",
       "121  https://www.nextplatform.com/2022/05/09/how-mu... 2022-07-01   \n",
       "122  https://web.archive.org/web/20190118082125/htt... 2018-05-08   \n",
       "123  https://web.archive.org/web/20190118082125/htt... 2018-05-08   \n",
       "124  https://web.archive.org/web/20190118082125/htt... 2018-05-08   \n",
       "125  https://www.nextplatform.com/2022/05/09/how-mu... 2018-07-01   \n",
       "126  https://www.nextplatform.com/2022/05/09/how-mu... 2020-07-01   \n",
       "127  https://www.nextplatform.com/2022/05/09/how-mu... 2022-07-01   \n",
       "128  https://web.archive.org/web/20170513081017/htt... 2017-07-01   \n",
       "129  https://web.archive.org/web/20170513081017/htt... 2017-07-01   \n",
       "\n",
       "                   Hardware model Manufacturer (from Hardware model) Vendor  \\\n",
       "25               NVIDIA A100 PCIe                             NVIDIA    NaN   \n",
       "26               NVIDIA A100 PCIe                             NVIDIA    NaN   \n",
       "38         NVIDIA A100 SXM4 40 GB                             NVIDIA    NaN   \n",
       "39         NVIDIA A100 SXM4 40 GB                             NVIDIA    NaN   \n",
       "40         NVIDIA A100 SXM4 40 GB                             NVIDIA    NaN   \n",
       "48         NVIDIA A100 SXM4 80 GB                             NVIDIA    NaN   \n",
       "49         NVIDIA A100 SXM4 80 GB                             NVIDIA    NaN   \n",
       "50         NVIDIA A100 SXM4 80 GB                             NVIDIA    NaN   \n",
       "57             NVIDIA GTX Titan X                             NVIDIA    NaN   \n",
       "59               NVIDIA H100 SXM5                             NVIDIA    NaN   \n",
       "60               NVIDIA H100 SXM5                             NVIDIA    NaN   \n",
       "61               NVIDIA H100 SXM5                             NVIDIA    NaN   \n",
       "62               NVIDIA H100 SXM5                             NVIDIA    NaN   \n",
       "63               NVIDIA H100 SXM5                             NVIDIA    NaN   \n",
       "74              NVIDIA Tesla K40s                             NVIDIA    NaN   \n",
       "75              NVIDIA Tesla K40s                             NVIDIA    NaN   \n",
       "76              NVIDIA Tesla K40s                             NVIDIA    NaN   \n",
       "77              NVIDIA Tesla K40s                             NVIDIA    NaN   \n",
       "78              NVIDIA Tesla K40s                             NVIDIA    NaN   \n",
       "79              NVIDIA Tesla K40s                             NVIDIA    NaN   \n",
       "80              NVIDIA Tesla K40s                             NVIDIA    NaN   \n",
       "81               NVIDIA Tesla K80                             NVIDIA    NaN   \n",
       "82               NVIDIA Tesla K80                             NVIDIA    NaN   \n",
       "83               NVIDIA Tesla K80                             NVIDIA    NaN   \n",
       "84               NVIDIA Tesla K80                             NVIDIA    NaN   \n",
       "85               NVIDIA Tesla K80                             NVIDIA    NaN   \n",
       "97   NVIDIA Tesla P100 PCIe 16 GB                             NVIDIA    NaN   \n",
       "98   NVIDIA Tesla P100 PCIe 16 GB                             NVIDIA    NaN   \n",
       "99   NVIDIA Tesla P100 PCIe 16 GB                             NVIDIA    NaN   \n",
       "100  NVIDIA Tesla P100 PCIe 16 GB                             NVIDIA    NaN   \n",
       "101  NVIDIA Tesla P100 PCIe 16 GB                             NVIDIA    NaN   \n",
       "102  NVIDIA Tesla P100 PCIe 16 GB                             NVIDIA    NaN   \n",
       "103  NVIDIA Tesla P100 PCIe 16 GB                             NVIDIA    NaN   \n",
       "104        NVIDIA Tesla P100 SXM2                             NVIDIA    NaN   \n",
       "105        NVIDIA Tesla P100 SXM2                             NVIDIA    NaN   \n",
       "106        NVIDIA Tesla P100 SXM2                             NVIDIA    NaN   \n",
       "107        NVIDIA Tesla P100 SXM2                             NVIDIA    NaN   \n",
       "109  NVIDIA Tesla V100 DGXS 32 GB                             NVIDIA    NaN   \n",
       "110  NVIDIA Tesla V100 DGXS 32 GB                             NVIDIA    NaN   \n",
       "111  NVIDIA Tesla V100 DGXS 32 GB                             NVIDIA    NaN   \n",
       "118  NVIDIA Tesla V100 PCIe 16 GB                             NVIDIA    NaN   \n",
       "119  NVIDIA Tesla V100 PCIe 32 GB                             NVIDIA    NaN   \n",
       "120  NVIDIA Tesla V100 PCIe 32 GB                             NVIDIA    NaN   \n",
       "121  NVIDIA Tesla V100 PCIe 32 GB                             NVIDIA    NaN   \n",
       "122  NVIDIA Tesla V100 SXM2 16 GB                             NVIDIA    NaN   \n",
       "123  NVIDIA Tesla V100 SXM2 32 GB                             NVIDIA    NaN   \n",
       "124  NVIDIA Tesla V100 SXM2 32 GB                             NVIDIA    NaN   \n",
       "125  NVIDIA Tesla V100 SXM3 32 GB                             NVIDIA    NaN   \n",
       "126  NVIDIA Tesla V100 SXM3 32 GB                             NVIDIA    NaN   \n",
       "127  NVIDIA Tesla V100 SXM3 32 GB                             NVIDIA    NaN   \n",
       "128                   NVIDIA V100                             NVIDIA    NaN   \n",
       "129                   NVIDIA V100                             NVIDIA    NaN   \n",
       "\n",
       "    Location  Price per chip-hour (on-demand)  \\\n",
       "25       NaN                              NaN   \n",
       "26       NaN                              NaN   \n",
       "38       NaN                              NaN   \n",
       "39       NaN                              NaN   \n",
       "40       NaN                              NaN   \n",
       "48       NaN                              NaN   \n",
       "49       NaN                              NaN   \n",
       "50       NaN                              NaN   \n",
       "57       NaN                              NaN   \n",
       "59       NaN                              NaN   \n",
       "60       NaN                              NaN   \n",
       "61       NaN                              NaN   \n",
       "62       NaN                              NaN   \n",
       "63       NaN                              NaN   \n",
       "74       NaN                              NaN   \n",
       "75       NaN                              NaN   \n",
       "76       NaN                              NaN   \n",
       "77       NaN                              NaN   \n",
       "78       NaN                              NaN   \n",
       "79       NaN                              NaN   \n",
       "80       NaN                              NaN   \n",
       "81       NaN                              NaN   \n",
       "82       NaN                              NaN   \n",
       "83       NaN                              NaN   \n",
       "84       NaN                              NaN   \n",
       "85       NaN                              NaN   \n",
       "97       NaN                              NaN   \n",
       "98       NaN                              NaN   \n",
       "99       NaN                              NaN   \n",
       "100      NaN                              NaN   \n",
       "101      NaN                              NaN   \n",
       "102      NaN                              NaN   \n",
       "103      NaN                              NaN   \n",
       "104      NaN                              NaN   \n",
       "105      NaN                              NaN   \n",
       "106      NaN                              NaN   \n",
       "107      NaN                              NaN   \n",
       "109      NaN                              NaN   \n",
       "110      NaN                              NaN   \n",
       "111      NaN                              NaN   \n",
       "118      NaN                              NaN   \n",
       "119      NaN                              NaN   \n",
       "120      NaN                              NaN   \n",
       "121      NaN                              NaN   \n",
       "122      NaN                              NaN   \n",
       "123      NaN                              NaN   \n",
       "124      NaN                              NaN   \n",
       "125      NaN                              NaN   \n",
       "126      NaN                              NaN   \n",
       "127      NaN                              NaN   \n",
       "128      NaN                              NaN   \n",
       "129      NaN                              NaN   \n",
       "\n",
       "     Price per chip-hour (1-year CUD)  Price per chip-hour (3-year CUD)  \\\n",
       "25                                NaN                               NaN   \n",
       "26                                NaN                               NaN   \n",
       "38                                NaN                               NaN   \n",
       "39                                NaN                               NaN   \n",
       "40                                NaN                               NaN   \n",
       "48                                NaN                               NaN   \n",
       "49                                NaN                               NaN   \n",
       "50                                NaN                               NaN   \n",
       "57                                NaN                               NaN   \n",
       "59                                NaN                               NaN   \n",
       "60                                NaN                               NaN   \n",
       "61                                NaN                               NaN   \n",
       "62                                NaN                               NaN   \n",
       "63                                NaN                               NaN   \n",
       "74                                NaN                               NaN   \n",
       "75                                NaN                               NaN   \n",
       "76                                NaN                               NaN   \n",
       "77                                NaN                               NaN   \n",
       "78                                NaN                               NaN   \n",
       "79                                NaN                               NaN   \n",
       "80                                NaN                               NaN   \n",
       "81                                NaN                               NaN   \n",
       "82                                NaN                               NaN   \n",
       "83                                NaN                               NaN   \n",
       "84                                NaN                               NaN   \n",
       "85                                NaN                               NaN   \n",
       "97                                NaN                               NaN   \n",
       "98                                NaN                               NaN   \n",
       "99                                NaN                               NaN   \n",
       "100                               NaN                               NaN   \n",
       "101                               NaN                               NaN   \n",
       "102                               NaN                               NaN   \n",
       "103                               NaN                               NaN   \n",
       "104                               NaN                               NaN   \n",
       "105                               NaN                               NaN   \n",
       "106                               NaN                               NaN   \n",
       "107                               NaN                               NaN   \n",
       "109                               NaN                               NaN   \n",
       "110                               NaN                               NaN   \n",
       "111                               NaN                               NaN   \n",
       "118                               NaN                               NaN   \n",
       "119                               NaN                               NaN   \n",
       "120                               NaN                               NaN   \n",
       "121                               NaN                               NaN   \n",
       "122                               NaN                               NaN   \n",
       "123                               NaN                               NaN   \n",
       "124                               NaN                               NaN   \n",
       "125                               NaN                               NaN   \n",
       "126                               NaN                               NaN   \n",
       "127                               NaN                               NaN   \n",
       "128                               NaN                               NaN   \n",
       "129                               NaN                               NaN   \n",
       "\n",
       "     Price (hardware purchase)  \\\n",
       "25                    15000.00   \n",
       "26                    12500.00   \n",
       "38                    24875.00   \n",
       "39                    15000.00   \n",
       "40                    12500.00   \n",
       "48                    37500.00   \n",
       "49                    20875.00   \n",
       "50                    18548.75   \n",
       "57                      999.00   \n",
       "59                    44489.88   \n",
       "60                    33750.00   \n",
       "61                    41197.50   \n",
       "62                    41217.00   \n",
       "63                    37080.50   \n",
       "74                     5400.00   \n",
       "75                     7699.00   \n",
       "76                     4200.00   \n",
       "77                     2900.00   \n",
       "78                     2300.00   \n",
       "79                      540.00   \n",
       "80                      290.00   \n",
       "81                     5000.00   \n",
       "82                     3700.00   \n",
       "83                     2500.00   \n",
       "84                      940.00   \n",
       "85                      435.00   \n",
       "97                     5699.00   \n",
       "98                    16125.00   \n",
       "99                     5500.00   \n",
       "100                   18543.75   \n",
       "101                    5900.00   \n",
       "102                    3500.00   \n",
       "103                    2200.00   \n",
       "104                   10500.00   \n",
       "105                    7400.00   \n",
       "106                    4400.00   \n",
       "107                    1100.00   \n",
       "109                   18457.50   \n",
       "110                   19928.75   \n",
       "111                   26995.63   \n",
       "118                   10664.00   \n",
       "119                    8500.00   \n",
       "120                   10500.00   \n",
       "121                    7500.00   \n",
       "122                   10664.00   \n",
       "123                   11458.00   \n",
       "124                   11458.00   \n",
       "125                   11500.00   \n",
       "126                   13700.00   \n",
       "127                    2500.00   \n",
       "128                   18625.00   \n",
       "129                   17250.00   \n",
       "\n",
       "                                                 Notes  \n",
       "25                              Single-unit list price  \n",
       "26                              Single-unit list price  \n",
       "38              DGX A100, 8 GPU, 320GB. Release price.  \n",
       "39                              Single-unit list price  \n",
       "40                              Single-unit list price  \n",
       "48                              DGX A100, 8 GPU, 640GB  \n",
       "49                              DGX A100, 8 GPU, 640GB  \n",
       "50                              HGX A100, 8 GPU, 640GB  \n",
       "57                           Single-unit release price  \n",
       "59   DGX, 8 GPU, 640GB. Convert Euro to USD: https:...  \n",
       "60   DGX, 8 GPU, 640GB. “Nvidia sells DGX H100’s at...  \n",
       "61   DGX, 8 GPU, 640GB. Convert Euro to USD: https:...  \n",
       "62   DGX, 8 GPU, 640GB. Convert Euro to USD: https:...  \n",
       "63                                   HGX, 8 GPU, 640GB  \n",
       "74                           Single-unit release price  \n",
       "75                           Single-unit release price  \n",
       "76                              Single-unit list price  \n",
       "77                              Single-unit list price  \n",
       "78                              Single-unit list price  \n",
       "79                              Single-unit list price  \n",
       "80                              Single-unit list price  \n",
       "81                           Single-unit release price  \n",
       "82                              Single-unit list price  \n",
       "83                              Single-unit list price  \n",
       "84                              Single-unit list price  \n",
       "85                              Single-unit list price  \n",
       "97                           Single-unit release price  \n",
       "98                                 DGX-1, 8 GPU, 128GB  \n",
       "99                              Single-unit list price  \n",
       "100                                DGX-1, 8 GPU, 128GB  \n",
       "101                             Single-unit list price  \n",
       "102                             Single-unit list price  \n",
       "103                             Single-unit list price  \n",
       "104                             Single-unit list price  \n",
       "105                             Single-unit list price  \n",
       "106                             Single-unit list price  \n",
       "107                             Single-unit list price  \n",
       "109                                  DGX, 4 GPU, 128GB  \n",
       "110                                DGX-1, 8 GPU, 256GB  \n",
       "111                              DGX-2, 16 GPU, 512 GB  \n",
       "118                             Single-unit list price  \n",
       "119                             Single-unit list price  \n",
       "120                             Single-unit list price  \n",
       "121                             Single-unit list price  \n",
       "122                             Single-unit list price  \n",
       "123                             Single-unit list price  \n",
       "124                             Single-unit list price  \n",
       "125                             Single-unit list price  \n",
       "126                             Single-unit list price  \n",
       "127                             Single-unit list price  \n",
       "128  Price at release (2017 Q3) for a DGX-1 with 8x...  \n",
       "129  Price at release (2017 Q3) for a DGXS with 4x ...  "
      ]
     },
     "execution_count": 5,
     "metadata": {},
     "output_type": "execute_result"
    }
   ],
   "source": [
    "price_colname = 'Price (hardware purchase)'\n",
    "purchase_price_df = price_df.dropna(subset=[price_colname])\n",
    "purchase_price_df"
   ]
  },
  {
   "cell_type": "code",
   "execution_count": null,
   "metadata": {},
   "outputs": [
    {
     "data": {
      "text/html": [
       "<div>\n",
       "<style scoped>\n",
       "    .dataframe tbody tr th:only-of-type {\n",
       "        vertical-align: middle;\n",
       "    }\n",
       "\n",
       "    .dataframe tbody tr th {\n",
       "        vertical-align: top;\n",
       "    }\n",
       "\n",
       "    .dataframe thead th {\n",
       "        text-align: right;\n",
       "    }\n",
       "</style>\n",
       "<table border=\"1\" class=\"dataframe\">\n",
       "  <thead>\n",
       "    <tr style=\"text-align: right;\">\n",
       "      <th></th>\n",
       "      <th>Price source</th>\n",
       "      <th>Price date</th>\n",
       "      <th>Hardware model</th>\n",
       "      <th>Manufacturer (from Hardware model)</th>\n",
       "      <th>Vendor</th>\n",
       "      <th>Location</th>\n",
       "      <th>Price per chip-hour (on-demand)</th>\n",
       "      <th>Price per chip-hour (1-year CUD)</th>\n",
       "      <th>Price per chip-hour (3-year CUD)</th>\n",
       "      <th>Price (hardware purchase)</th>\n",
       "      <th>Notes</th>\n",
       "    </tr>\n",
       "  </thead>\n",
       "  <tbody>\n",
       "    <tr>\n",
       "      <th>25</th>\n",
       "      <td>https://www.nextplatform.com/2022/05/09/how-mu...</td>\n",
       "      <td>2020-07-01</td>\n",
       "      <td>NVIDIA A100 PCIe</td>\n",
       "      <td>NVIDIA</td>\n",
       "      <td>NaN</td>\n",
       "      <td>NaN</td>\n",
       "      <td>NaN</td>\n",
       "      <td>NaN</td>\n",
       "      <td>NaN</td>\n",
       "      <td>24900.0</td>\n",
       "      <td>server-equivalent list price</td>\n",
       "    </tr>\n",
       "    <tr>\n",
       "      <th>26</th>\n",
       "      <td>https://www.nextplatform.com/2022/05/09/how-mu...</td>\n",
       "      <td>2022-07-01</td>\n",
       "      <td>NVIDIA A100 PCIe</td>\n",
       "      <td>NVIDIA</td>\n",
       "      <td>NaN</td>\n",
       "      <td>NaN</td>\n",
       "      <td>NaN</td>\n",
       "      <td>NaN</td>\n",
       "      <td>NaN</td>\n",
       "      <td>20750.0</td>\n",
       "      <td>server-equivalent list price</td>\n",
       "    </tr>\n",
       "    <tr>\n",
       "      <th>38</th>\n",
       "      <td>https://web.archive.org/web/20200521074015/htt...</td>\n",
       "      <td>2020-05-21</td>\n",
       "      <td>NVIDIA A100 SXM4 40 GB</td>\n",
       "      <td>NVIDIA</td>\n",
       "      <td>NaN</td>\n",
       "      <td>NaN</td>\n",
       "      <td>NaN</td>\n",
       "      <td>NaN</td>\n",
       "      <td>NaN</td>\n",
       "      <td>24875.0</td>\n",
       "      <td>DGX A100, 8 GPU, 320GB. Release price.</td>\n",
       "    </tr>\n",
       "    <tr>\n",
       "      <th>39</th>\n",
       "      <td>https://www.nextplatform.com/2022/05/09/how-mu...</td>\n",
       "      <td>2020-07-01</td>\n",
       "      <td>NVIDIA A100 SXM4 40 GB</td>\n",
       "      <td>NVIDIA</td>\n",
       "      <td>NaN</td>\n",
       "      <td>NaN</td>\n",
       "      <td>NaN</td>\n",
       "      <td>NaN</td>\n",
       "      <td>NaN</td>\n",
       "      <td>24900.0</td>\n",
       "      <td>server-equivalent list price</td>\n",
       "    </tr>\n",
       "    <tr>\n",
       "      <th>40</th>\n",
       "      <td>https://www.nextplatform.com/2022/05/09/how-mu...</td>\n",
       "      <td>2022-07-01</td>\n",
       "      <td>NVIDIA A100 SXM4 40 GB</td>\n",
       "      <td>NVIDIA</td>\n",
       "      <td>NaN</td>\n",
       "      <td>NaN</td>\n",
       "      <td>NaN</td>\n",
       "      <td>NaN</td>\n",
       "      <td>NaN</td>\n",
       "      <td>20750.0</td>\n",
       "      <td>server-equivalent list price</td>\n",
       "    </tr>\n",
       "    <tr>\n",
       "      <th>48</th>\n",
       "      <td>https://web.archive.org/web/20210630170623/htt...</td>\n",
       "      <td>2021-06-30</td>\n",
       "      <td>NVIDIA A100 SXM4 80 GB</td>\n",
       "      <td>NVIDIA</td>\n",
       "      <td>NaN</td>\n",
       "      <td>NaN</td>\n",
       "      <td>NaN</td>\n",
       "      <td>NaN</td>\n",
       "      <td>NaN</td>\n",
       "      <td>37500.0</td>\n",
       "      <td>DGX A100, 8 GPU, 640GB</td>\n",
       "    </tr>\n",
       "    <tr>\n",
       "      <th>49</th>\n",
       "      <td>https://web.archive.org/web/20220120191032/htt...</td>\n",
       "      <td>2022-01-20</td>\n",
       "      <td>NVIDIA A100 SXM4 80 GB</td>\n",
       "      <td>NVIDIA</td>\n",
       "      <td>NaN</td>\n",
       "      <td>NaN</td>\n",
       "      <td>NaN</td>\n",
       "      <td>NaN</td>\n",
       "      <td>NaN</td>\n",
       "      <td>20875.0</td>\n",
       "      <td>DGX A100, 8 GPU, 640GB</td>\n",
       "    </tr>\n",
       "    <tr>\n",
       "      <th>50</th>\n",
       "      <td>https://web.archive.org/web/20230923154035/htt...</td>\n",
       "      <td>2023-09-23</td>\n",
       "      <td>NVIDIA A100 SXM4 80 GB</td>\n",
       "      <td>NVIDIA</td>\n",
       "      <td>NaN</td>\n",
       "      <td>NaN</td>\n",
       "      <td>NaN</td>\n",
       "      <td>NaN</td>\n",
       "      <td>NaN</td>\n",
       "      <td>18548.75</td>\n",
       "      <td>HGX A100, 8 GPU, 640GB</td>\n",
       "    </tr>\n",
       "    <tr>\n",
       "      <th>57</th>\n",
       "      <td>https://www.techpowerup.com/gpu-specs/geforce-...</td>\n",
       "      <td>2015-03-17</td>\n",
       "      <td>NVIDIA GTX Titan X</td>\n",
       "      <td>NVIDIA</td>\n",
       "      <td>NaN</td>\n",
       "      <td>NaN</td>\n",
       "      <td>NaN</td>\n",
       "      <td>NaN</td>\n",
       "      <td>NaN</td>\n",
       "      <td>1638.36</td>\n",
       "      <td>server-equivalent release price</td>\n",
       "    </tr>\n",
       "    <tr>\n",
       "      <th>59</th>\n",
       "      <td>https://web.archive.org/web/20220929115124/htt...</td>\n",
       "      <td>2022-09-29</td>\n",
       "      <td>NVIDIA H100 SXM5</td>\n",
       "      <td>NVIDIA</td>\n",
       "      <td>NaN</td>\n",
       "      <td>NaN</td>\n",
       "      <td>NaN</td>\n",
       "      <td>NaN</td>\n",
       "      <td>NaN</td>\n",
       "      <td>44489.88</td>\n",
       "      <td>DGX, 8 GPU, 640GB. Convert Euro to USD: https:...</td>\n",
       "    </tr>\n",
       "    <tr>\n",
       "      <th>60</th>\n",
       "      <td>https://web.archive.org/web/20230529125834/htt...</td>\n",
       "      <td>2023-05-29</td>\n",
       "      <td>NVIDIA H100 SXM5</td>\n",
       "      <td>NVIDIA</td>\n",
       "      <td>NaN</td>\n",
       "      <td>NaN</td>\n",
       "      <td>NaN</td>\n",
       "      <td>NaN</td>\n",
       "      <td>NaN</td>\n",
       "      <td>33750.0</td>\n",
       "      <td>DGX, 8 GPU, 640GB. “Nvidia sells DGX H100’s at...</td>\n",
       "    </tr>\n",
       "    <tr>\n",
       "      <th>61</th>\n",
       "      <td>https://web.archive.org/web/20231211031623/htt...</td>\n",
       "      <td>2023-12-11</td>\n",
       "      <td>NVIDIA H100 SXM5</td>\n",
       "      <td>NVIDIA</td>\n",
       "      <td>NaN</td>\n",
       "      <td>NaN</td>\n",
       "      <td>NaN</td>\n",
       "      <td>NaN</td>\n",
       "      <td>NaN</td>\n",
       "      <td>41197.5</td>\n",
       "      <td>DGX, 8 GPU, 640GB. Convert Euro to USD: https:...</td>\n",
       "    </tr>\n",
       "    <tr>\n",
       "      <th>62</th>\n",
       "      <td>https://web.archive.org/web/20240320115454/htt...</td>\n",
       "      <td>2024-03-20</td>\n",
       "      <td>NVIDIA H100 SXM5</td>\n",
       "      <td>NVIDIA</td>\n",
       "      <td>NaN</td>\n",
       "      <td>NaN</td>\n",
       "      <td>NaN</td>\n",
       "      <td>NaN</td>\n",
       "      <td>NaN</td>\n",
       "      <td>41217.0</td>\n",
       "      <td>DGX, 8 GPU, 640GB. Convert Euro to USD: https:...</td>\n",
       "    </tr>\n",
       "    <tr>\n",
       "      <th>63</th>\n",
       "      <td>https://web.archive.org/web/20240321212632/htt...</td>\n",
       "      <td>2024-03-21</td>\n",
       "      <td>NVIDIA H100 SXM5</td>\n",
       "      <td>NVIDIA</td>\n",
       "      <td>NaN</td>\n",
       "      <td>NaN</td>\n",
       "      <td>NaN</td>\n",
       "      <td>NaN</td>\n",
       "      <td>NaN</td>\n",
       "      <td>37080.5</td>\n",
       "      <td>HGX, 8 GPU, 640GB</td>\n",
       "    </tr>\n",
       "    <tr>\n",
       "      <th>74</th>\n",
       "      <td>https://www.nextplatform.com/2022/05/09/how-mu...</td>\n",
       "      <td>2012-07-01</td>\n",
       "      <td>NVIDIA Tesla K40s</td>\n",
       "      <td>NVIDIA</td>\n",
       "      <td>NaN</td>\n",
       "      <td>NaN</td>\n",
       "      <td>NaN</td>\n",
       "      <td>NaN</td>\n",
       "      <td>NaN</td>\n",
       "      <td>8856.0</td>\n",
       "      <td>server-equivalent release price</td>\n",
       "    </tr>\n",
       "    <tr>\n",
       "      <th>75</th>\n",
       "      <td>https://www.techpowerup.com/gpu-specs/tesla-k4...</td>\n",
       "      <td>2013-11-22</td>\n",
       "      <td>NVIDIA Tesla K40s</td>\n",
       "      <td>NVIDIA</td>\n",
       "      <td>NaN</td>\n",
       "      <td>NaN</td>\n",
       "      <td>NaN</td>\n",
       "      <td>NaN</td>\n",
       "      <td>NaN</td>\n",
       "      <td>12626.36</td>\n",
       "      <td>server-equivalent release price</td>\n",
       "    </tr>\n",
       "    <tr>\n",
       "      <th>76</th>\n",
       "      <td>https://www.nextplatform.com/2022/05/09/how-mu...</td>\n",
       "      <td>2014-07-01</td>\n",
       "      <td>NVIDIA Tesla K40s</td>\n",
       "      <td>NVIDIA</td>\n",
       "      <td>NaN</td>\n",
       "      <td>NaN</td>\n",
       "      <td>NaN</td>\n",
       "      <td>NaN</td>\n",
       "      <td>NaN</td>\n",
       "      <td>6888.0</td>\n",
       "      <td>server-equivalent list price</td>\n",
       "    </tr>\n",
       "    <tr>\n",
       "      <th>77</th>\n",
       "      <td>https://www.nextplatform.com/2022/05/09/how-mu...</td>\n",
       "      <td>2016-07-01</td>\n",
       "      <td>NVIDIA Tesla K40s</td>\n",
       "      <td>NVIDIA</td>\n",
       "      <td>NaN</td>\n",
       "      <td>NaN</td>\n",
       "      <td>NaN</td>\n",
       "      <td>NaN</td>\n",
       "      <td>NaN</td>\n",
       "      <td>4756.0</td>\n",
       "      <td>server-equivalent list price</td>\n",
       "    </tr>\n",
       "    <tr>\n",
       "      <th>78</th>\n",
       "      <td>https://www.nextplatform.com/2022/05/09/how-mu...</td>\n",
       "      <td>2018-07-01</td>\n",
       "      <td>NVIDIA Tesla K40s</td>\n",
       "      <td>NVIDIA</td>\n",
       "      <td>NaN</td>\n",
       "      <td>NaN</td>\n",
       "      <td>NaN</td>\n",
       "      <td>NaN</td>\n",
       "      <td>NaN</td>\n",
       "      <td>3772.0</td>\n",
       "      <td>server-equivalent list price</td>\n",
       "    </tr>\n",
       "    <tr>\n",
       "      <th>79</th>\n",
       "      <td>https://www.nextplatform.com/2022/05/09/how-mu...</td>\n",
       "      <td>2020-07-01</td>\n",
       "      <td>NVIDIA Tesla K40s</td>\n",
       "      <td>NVIDIA</td>\n",
       "      <td>NaN</td>\n",
       "      <td>NaN</td>\n",
       "      <td>NaN</td>\n",
       "      <td>NaN</td>\n",
       "      <td>NaN</td>\n",
       "      <td>885.6</td>\n",
       "      <td>server-equivalent list price</td>\n",
       "    </tr>\n",
       "    <tr>\n",
       "      <th>80</th>\n",
       "      <td>https://www.nextplatform.com/2022/05/09/how-mu...</td>\n",
       "      <td>2022-07-01</td>\n",
       "      <td>NVIDIA Tesla K40s</td>\n",
       "      <td>NVIDIA</td>\n",
       "      <td>NaN</td>\n",
       "      <td>NaN</td>\n",
       "      <td>NaN</td>\n",
       "      <td>NaN</td>\n",
       "      <td>NaN</td>\n",
       "      <td>475.6</td>\n",
       "      <td>server-equivalent list price</td>\n",
       "    </tr>\n",
       "    <tr>\n",
       "      <th>81</th>\n",
       "      <td>https://www.anandtech.com/show/8729/nvidia-lau...</td>\n",
       "      <td>2014-11-17</td>\n",
       "      <td>NVIDIA Tesla K80</td>\n",
       "      <td>NVIDIA</td>\n",
       "      <td>NaN</td>\n",
       "      <td>NaN</td>\n",
       "      <td>NaN</td>\n",
       "      <td>NaN</td>\n",
       "      <td>NaN</td>\n",
       "      <td>8200.0</td>\n",
       "      <td>server-equivalent release price</td>\n",
       "    </tr>\n",
       "    <tr>\n",
       "      <th>82</th>\n",
       "      <td>https://www.nextplatform.com/2022/05/09/how-mu...</td>\n",
       "      <td>2016-07-01</td>\n",
       "      <td>NVIDIA Tesla K80</td>\n",
       "      <td>NVIDIA</td>\n",
       "      <td>NaN</td>\n",
       "      <td>NaN</td>\n",
       "      <td>NaN</td>\n",
       "      <td>NaN</td>\n",
       "      <td>NaN</td>\n",
       "      <td>6068.0</td>\n",
       "      <td>server-equivalent list price</td>\n",
       "    </tr>\n",
       "    <tr>\n",
       "      <th>83</th>\n",
       "      <td>https://www.nextplatform.com/2022/05/09/how-mu...</td>\n",
       "      <td>2018-07-01</td>\n",
       "      <td>NVIDIA Tesla K80</td>\n",
       "      <td>NVIDIA</td>\n",
       "      <td>NaN</td>\n",
       "      <td>NaN</td>\n",
       "      <td>NaN</td>\n",
       "      <td>NaN</td>\n",
       "      <td>NaN</td>\n",
       "      <td>4100.0</td>\n",
       "      <td>server-equivalent list price</td>\n",
       "    </tr>\n",
       "    <tr>\n",
       "      <th>84</th>\n",
       "      <td>https://www.nextplatform.com/2022/05/09/how-mu...</td>\n",
       "      <td>2020-07-01</td>\n",
       "      <td>NVIDIA Tesla K80</td>\n",
       "      <td>NVIDIA</td>\n",
       "      <td>NaN</td>\n",
       "      <td>NaN</td>\n",
       "      <td>NaN</td>\n",
       "      <td>NaN</td>\n",
       "      <td>NaN</td>\n",
       "      <td>1541.6</td>\n",
       "      <td>server-equivalent list price</td>\n",
       "    </tr>\n",
       "    <tr>\n",
       "      <th>85</th>\n",
       "      <td>https://www.nextplatform.com/2022/05/09/how-mu...</td>\n",
       "      <td>2022-07-01</td>\n",
       "      <td>NVIDIA Tesla K80</td>\n",
       "      <td>NVIDIA</td>\n",
       "      <td>NaN</td>\n",
       "      <td>NaN</td>\n",
       "      <td>NaN</td>\n",
       "      <td>NaN</td>\n",
       "      <td>NaN</td>\n",
       "      <td>713.4</td>\n",
       "      <td>server-equivalent list price</td>\n",
       "    </tr>\n",
       "    <tr>\n",
       "      <th>97</th>\n",
       "      <td>https://www.techpowerup.com/gpu-specs/tesla-p1...</td>\n",
       "      <td>2016-06-20</td>\n",
       "      <td>NVIDIA Tesla P100 PCIe 16 GB</td>\n",
       "      <td>NVIDIA</td>\n",
       "      <td>NaN</td>\n",
       "      <td>NaN</td>\n",
       "      <td>NaN</td>\n",
       "      <td>NaN</td>\n",
       "      <td>NaN</td>\n",
       "      <td>8776.46</td>\n",
       "      <td>server-equivalent release price</td>\n",
       "    </tr>\n",
       "    <tr>\n",
       "      <th>98</th>\n",
       "      <td>https://web.archive.org/web/20160621002700/htt...</td>\n",
       "      <td>2016-06-21</td>\n",
       "      <td>NVIDIA Tesla P100 PCIe 16 GB</td>\n",
       "      <td>NVIDIA</td>\n",
       "      <td>NaN</td>\n",
       "      <td>NaN</td>\n",
       "      <td>NaN</td>\n",
       "      <td>NaN</td>\n",
       "      <td>NaN</td>\n",
       "      <td>16125.0</td>\n",
       "      <td>DGX-1, 8 GPU, 128GB</td>\n",
       "    </tr>\n",
       "    <tr>\n",
       "      <th>99</th>\n",
       "      <td>https://www.nextplatform.com/2022/05/09/how-mu...</td>\n",
       "      <td>2016-07-01</td>\n",
       "      <td>NVIDIA Tesla P100 PCIe 16 GB</td>\n",
       "      <td>NVIDIA</td>\n",
       "      <td>NaN</td>\n",
       "      <td>NaN</td>\n",
       "      <td>NaN</td>\n",
       "      <td>NaN</td>\n",
       "      <td>NaN</td>\n",
       "      <td>8470.0</td>\n",
       "      <td>server-equivalent list price</td>\n",
       "    </tr>\n",
       "    <tr>\n",
       "      <th>100</th>\n",
       "      <td>https://web.archive.org/web/20170312174101/htt...</td>\n",
       "      <td>2017-03-12</td>\n",
       "      <td>NVIDIA Tesla P100 PCIe 16 GB</td>\n",
       "      <td>NVIDIA</td>\n",
       "      <td>NaN</td>\n",
       "      <td>NaN</td>\n",
       "      <td>NaN</td>\n",
       "      <td>NaN</td>\n",
       "      <td>NaN</td>\n",
       "      <td>18543.75</td>\n",
       "      <td>DGX-1, 8 GPU, 128GB</td>\n",
       "    </tr>\n",
       "    <tr>\n",
       "      <th>101</th>\n",
       "      <td>https://www.nextplatform.com/2022/05/09/how-mu...</td>\n",
       "      <td>2018-07-01</td>\n",
       "      <td>NVIDIA Tesla P100 PCIe 16 GB</td>\n",
       "      <td>NVIDIA</td>\n",
       "      <td>NaN</td>\n",
       "      <td>NaN</td>\n",
       "      <td>NaN</td>\n",
       "      <td>NaN</td>\n",
       "      <td>NaN</td>\n",
       "      <td>9086.0</td>\n",
       "      <td>server-equivalent list price</td>\n",
       "    </tr>\n",
       "    <tr>\n",
       "      <th>102</th>\n",
       "      <td>https://www.nextplatform.com/2022/05/09/how-mu...</td>\n",
       "      <td>2020-07-01</td>\n",
       "      <td>NVIDIA Tesla P100 PCIe 16 GB</td>\n",
       "      <td>NVIDIA</td>\n",
       "      <td>NaN</td>\n",
       "      <td>NaN</td>\n",
       "      <td>NaN</td>\n",
       "      <td>NaN</td>\n",
       "      <td>NaN</td>\n",
       "      <td>5390.0</td>\n",
       "      <td>server-equivalent list price</td>\n",
       "    </tr>\n",
       "    <tr>\n",
       "      <th>103</th>\n",
       "      <td>https://www.nextplatform.com/2022/05/09/how-mu...</td>\n",
       "      <td>2022-07-01</td>\n",
       "      <td>NVIDIA Tesla P100 PCIe 16 GB</td>\n",
       "      <td>NVIDIA</td>\n",
       "      <td>NaN</td>\n",
       "      <td>NaN</td>\n",
       "      <td>NaN</td>\n",
       "      <td>NaN</td>\n",
       "      <td>NaN</td>\n",
       "      <td>3388.0</td>\n",
       "      <td>server-equivalent list price</td>\n",
       "    </tr>\n",
       "    <tr>\n",
       "      <th>104</th>\n",
       "      <td>https://www.nextplatform.com/2022/05/09/how-mu...</td>\n",
       "      <td>2016-07-01</td>\n",
       "      <td>NVIDIA Tesla P100 SXM2</td>\n",
       "      <td>NVIDIA</td>\n",
       "      <td>NaN</td>\n",
       "      <td>NaN</td>\n",
       "      <td>NaN</td>\n",
       "      <td>NaN</td>\n",
       "      <td>NaN</td>\n",
       "      <td>16170.0</td>\n",
       "      <td>server-equivalent list price</td>\n",
       "    </tr>\n",
       "    <tr>\n",
       "      <th>105</th>\n",
       "      <td>https://www.nextplatform.com/2022/05/09/how-mu...</td>\n",
       "      <td>2018-07-01</td>\n",
       "      <td>NVIDIA Tesla P100 SXM2</td>\n",
       "      <td>NVIDIA</td>\n",
       "      <td>NaN</td>\n",
       "      <td>NaN</td>\n",
       "      <td>NaN</td>\n",
       "      <td>NaN</td>\n",
       "      <td>NaN</td>\n",
       "      <td>11396.0</td>\n",
       "      <td>server-equivalent list price</td>\n",
       "    </tr>\n",
       "    <tr>\n",
       "      <th>106</th>\n",
       "      <td>https://www.nextplatform.com/2022/05/09/how-mu...</td>\n",
       "      <td>2020-07-01</td>\n",
       "      <td>NVIDIA Tesla P100 SXM2</td>\n",
       "      <td>NVIDIA</td>\n",
       "      <td>NaN</td>\n",
       "      <td>NaN</td>\n",
       "      <td>NaN</td>\n",
       "      <td>NaN</td>\n",
       "      <td>NaN</td>\n",
       "      <td>6776.0</td>\n",
       "      <td>server-equivalent list price</td>\n",
       "    </tr>\n",
       "    <tr>\n",
       "      <th>107</th>\n",
       "      <td>https://www.nextplatform.com/2022/05/09/how-mu...</td>\n",
       "      <td>2022-07-01</td>\n",
       "      <td>NVIDIA Tesla P100 SXM2</td>\n",
       "      <td>NVIDIA</td>\n",
       "      <td>NaN</td>\n",
       "      <td>NaN</td>\n",
       "      <td>NaN</td>\n",
       "      <td>NaN</td>\n",
       "      <td>NaN</td>\n",
       "      <td>1694.0</td>\n",
       "      <td>server-equivalent list price</td>\n",
       "    </tr>\n",
       "    <tr>\n",
       "      <th>109</th>\n",
       "      <td>https://web.archive.org/web/20190111090822/htt...</td>\n",
       "      <td>2019-01-11</td>\n",
       "      <td>NVIDIA Tesla V100 DGXS 32 GB</td>\n",
       "      <td>NVIDIA</td>\n",
       "      <td>NaN</td>\n",
       "      <td>NaN</td>\n",
       "      <td>NaN</td>\n",
       "      <td>NaN</td>\n",
       "      <td>NaN</td>\n",
       "      <td>18457.5</td>\n",
       "      <td>DGX, 4 GPU, 128GB</td>\n",
       "    </tr>\n",
       "    <tr>\n",
       "      <th>110</th>\n",
       "      <td>https://web.archive.org/web/20190111061033/htt...</td>\n",
       "      <td>2019-01-11</td>\n",
       "      <td>NVIDIA Tesla V100 DGXS 32 GB</td>\n",
       "      <td>NVIDIA</td>\n",
       "      <td>NaN</td>\n",
       "      <td>NaN</td>\n",
       "      <td>NaN</td>\n",
       "      <td>NaN</td>\n",
       "      <td>NaN</td>\n",
       "      <td>19928.75</td>\n",
       "      <td>DGX-1, 8 GPU, 256GB</td>\n",
       "    </tr>\n",
       "    <tr>\n",
       "      <th>111</th>\n",
       "      <td>https://web.archive.org/web/20190111101112/htt...</td>\n",
       "      <td>2019-01-11</td>\n",
       "      <td>NVIDIA Tesla V100 DGXS 32 GB</td>\n",
       "      <td>NVIDIA</td>\n",
       "      <td>NaN</td>\n",
       "      <td>NaN</td>\n",
       "      <td>NaN</td>\n",
       "      <td>NaN</td>\n",
       "      <td>NaN</td>\n",
       "      <td>26995.63</td>\n",
       "      <td>DGX-2, 16 GPU, 512 GB</td>\n",
       "    </tr>\n",
       "    <tr>\n",
       "      <th>118</th>\n",
       "      <td>https://web.archive.org/web/20190118082125/htt...</td>\n",
       "      <td>2018-05-08</td>\n",
       "      <td>NVIDIA Tesla V100 PCIe 16 GB</td>\n",
       "      <td>NVIDIA</td>\n",
       "      <td>NaN</td>\n",
       "      <td>NaN</td>\n",
       "      <td>NaN</td>\n",
       "      <td>NaN</td>\n",
       "      <td>NaN</td>\n",
       "      <td>18022.16</td>\n",
       "      <td>server-equivalent list price</td>\n",
       "    </tr>\n",
       "    <tr>\n",
       "      <th>119</th>\n",
       "      <td>https://www.nextplatform.com/2022/05/09/how-mu...</td>\n",
       "      <td>2018-07-01</td>\n",
       "      <td>NVIDIA Tesla V100 PCIe 32 GB</td>\n",
       "      <td>NVIDIA</td>\n",
       "      <td>NaN</td>\n",
       "      <td>NaN</td>\n",
       "      <td>NaN</td>\n",
       "      <td>NaN</td>\n",
       "      <td>NaN</td>\n",
       "      <td>14365.0</td>\n",
       "      <td>server-equivalent list price</td>\n",
       "    </tr>\n",
       "    <tr>\n",
       "      <th>120</th>\n",
       "      <td>https://www.nextplatform.com/2022/05/09/how-mu...</td>\n",
       "      <td>2020-07-01</td>\n",
       "      <td>NVIDIA Tesla V100 PCIe 32 GB</td>\n",
       "      <td>NVIDIA</td>\n",
       "      <td>NaN</td>\n",
       "      <td>NaN</td>\n",
       "      <td>NaN</td>\n",
       "      <td>NaN</td>\n",
       "      <td>NaN</td>\n",
       "      <td>17745.0</td>\n",
       "      <td>server-equivalent list price</td>\n",
       "    </tr>\n",
       "    <tr>\n",
       "      <th>121</th>\n",
       "      <td>https://www.nextplatform.com/2022/05/09/how-mu...</td>\n",
       "      <td>2022-07-01</td>\n",
       "      <td>NVIDIA Tesla V100 PCIe 32 GB</td>\n",
       "      <td>NVIDIA</td>\n",
       "      <td>NaN</td>\n",
       "      <td>NaN</td>\n",
       "      <td>NaN</td>\n",
       "      <td>NaN</td>\n",
       "      <td>NaN</td>\n",
       "      <td>12675.0</td>\n",
       "      <td>server-equivalent list price</td>\n",
       "    </tr>\n",
       "    <tr>\n",
       "      <th>122</th>\n",
       "      <td>https://web.archive.org/web/20190118082125/htt...</td>\n",
       "      <td>2018-05-08</td>\n",
       "      <td>NVIDIA Tesla V100 SXM2 16 GB</td>\n",
       "      <td>NVIDIA</td>\n",
       "      <td>NaN</td>\n",
       "      <td>NaN</td>\n",
       "      <td>NaN</td>\n",
       "      <td>NaN</td>\n",
       "      <td>NaN</td>\n",
       "      <td>18022.16</td>\n",
       "      <td>server-equivalent list price</td>\n",
       "    </tr>\n",
       "    <tr>\n",
       "      <th>123</th>\n",
       "      <td>https://web.archive.org/web/20190118082125/htt...</td>\n",
       "      <td>2018-05-08</td>\n",
       "      <td>NVIDIA Tesla V100 SXM2 32 GB</td>\n",
       "      <td>NVIDIA</td>\n",
       "      <td>NaN</td>\n",
       "      <td>NaN</td>\n",
       "      <td>NaN</td>\n",
       "      <td>NaN</td>\n",
       "      <td>NaN</td>\n",
       "      <td>19364.02</td>\n",
       "      <td>server-equivalent list price</td>\n",
       "    </tr>\n",
       "    <tr>\n",
       "      <th>124</th>\n",
       "      <td>https://web.archive.org/web/20190118082125/htt...</td>\n",
       "      <td>2018-05-08</td>\n",
       "      <td>NVIDIA Tesla V100 SXM2 32 GB</td>\n",
       "      <td>NVIDIA</td>\n",
       "      <td>NaN</td>\n",
       "      <td>NaN</td>\n",
       "      <td>NaN</td>\n",
       "      <td>NaN</td>\n",
       "      <td>NaN</td>\n",
       "      <td>19364.02</td>\n",
       "      <td>server-equivalent list price</td>\n",
       "    </tr>\n",
       "    <tr>\n",
       "      <th>125</th>\n",
       "      <td>https://www.nextplatform.com/2022/05/09/how-mu...</td>\n",
       "      <td>2018-07-01</td>\n",
       "      <td>NVIDIA Tesla V100 SXM3 32 GB</td>\n",
       "      <td>NVIDIA</td>\n",
       "      <td>NaN</td>\n",
       "      <td>NaN</td>\n",
       "      <td>NaN</td>\n",
       "      <td>NaN</td>\n",
       "      <td>NaN</td>\n",
       "      <td>19435.0</td>\n",
       "      <td>server-equivalent list price</td>\n",
       "    </tr>\n",
       "    <tr>\n",
       "      <th>126</th>\n",
       "      <td>https://www.nextplatform.com/2022/05/09/how-mu...</td>\n",
       "      <td>2020-07-01</td>\n",
       "      <td>NVIDIA Tesla V100 SXM3 32 GB</td>\n",
       "      <td>NVIDIA</td>\n",
       "      <td>NaN</td>\n",
       "      <td>NaN</td>\n",
       "      <td>NaN</td>\n",
       "      <td>NaN</td>\n",
       "      <td>NaN</td>\n",
       "      <td>23153.0</td>\n",
       "      <td>server-equivalent list price</td>\n",
       "    </tr>\n",
       "    <tr>\n",
       "      <th>127</th>\n",
       "      <td>https://www.nextplatform.com/2022/05/09/how-mu...</td>\n",
       "      <td>2022-07-01</td>\n",
       "      <td>NVIDIA Tesla V100 SXM3 32 GB</td>\n",
       "      <td>NVIDIA</td>\n",
       "      <td>NaN</td>\n",
       "      <td>NaN</td>\n",
       "      <td>NaN</td>\n",
       "      <td>NaN</td>\n",
       "      <td>NaN</td>\n",
       "      <td>4225.0</td>\n",
       "      <td>server-equivalent list price</td>\n",
       "    </tr>\n",
       "    <tr>\n",
       "      <th>128</th>\n",
       "      <td>https://web.archive.org/web/20170513081017/htt...</td>\n",
       "      <td>2017-07-01</td>\n",
       "      <td>NVIDIA V100</td>\n",
       "      <td>NVIDIA</td>\n",
       "      <td>NaN</td>\n",
       "      <td>NaN</td>\n",
       "      <td>NaN</td>\n",
       "      <td>NaN</td>\n",
       "      <td>NaN</td>\n",
       "      <td>18625.0</td>\n",
       "      <td>Price at release (2017 Q3) for a DGX-1 with 8x...</td>\n",
       "    </tr>\n",
       "    <tr>\n",
       "      <th>129</th>\n",
       "      <td>https://web.archive.org/web/20170513081017/htt...</td>\n",
       "      <td>2017-07-01</td>\n",
       "      <td>NVIDIA V100</td>\n",
       "      <td>NVIDIA</td>\n",
       "      <td>NaN</td>\n",
       "      <td>NaN</td>\n",
       "      <td>NaN</td>\n",
       "      <td>NaN</td>\n",
       "      <td>NaN</td>\n",
       "      <td>17250.0</td>\n",
       "      <td>Price at release (2017 Q3) for a DGXS with 4x ...</td>\n",
       "    </tr>\n",
       "  </tbody>\n",
       "</table>\n",
       "</div>"
      ],
      "text/plain": [
       "                                          Price source Price date  \\\n",
       "25   https://www.nextplatform.com/2022/05/09/how-mu... 2020-07-01   \n",
       "26   https://www.nextplatform.com/2022/05/09/how-mu... 2022-07-01   \n",
       "38   https://web.archive.org/web/20200521074015/htt... 2020-05-21   \n",
       "39   https://www.nextplatform.com/2022/05/09/how-mu... 2020-07-01   \n",
       "40   https://www.nextplatform.com/2022/05/09/how-mu... 2022-07-01   \n",
       "48   https://web.archive.org/web/20210630170623/htt... 2021-06-30   \n",
       "49   https://web.archive.org/web/20220120191032/htt... 2022-01-20   \n",
       "50   https://web.archive.org/web/20230923154035/htt... 2023-09-23   \n",
       "57   https://www.techpowerup.com/gpu-specs/geforce-... 2015-03-17   \n",
       "59   https://web.archive.org/web/20220929115124/htt... 2022-09-29   \n",
       "60   https://web.archive.org/web/20230529125834/htt... 2023-05-29   \n",
       "61   https://web.archive.org/web/20231211031623/htt... 2023-12-11   \n",
       "62   https://web.archive.org/web/20240320115454/htt... 2024-03-20   \n",
       "63   https://web.archive.org/web/20240321212632/htt... 2024-03-21   \n",
       "74   https://www.nextplatform.com/2022/05/09/how-mu... 2012-07-01   \n",
       "75   https://www.techpowerup.com/gpu-specs/tesla-k4... 2013-11-22   \n",
       "76   https://www.nextplatform.com/2022/05/09/how-mu... 2014-07-01   \n",
       "77   https://www.nextplatform.com/2022/05/09/how-mu... 2016-07-01   \n",
       "78   https://www.nextplatform.com/2022/05/09/how-mu... 2018-07-01   \n",
       "79   https://www.nextplatform.com/2022/05/09/how-mu... 2020-07-01   \n",
       "80   https://www.nextplatform.com/2022/05/09/how-mu... 2022-07-01   \n",
       "81   https://www.anandtech.com/show/8729/nvidia-lau... 2014-11-17   \n",
       "82   https://www.nextplatform.com/2022/05/09/how-mu... 2016-07-01   \n",
       "83   https://www.nextplatform.com/2022/05/09/how-mu... 2018-07-01   \n",
       "84   https://www.nextplatform.com/2022/05/09/how-mu... 2020-07-01   \n",
       "85   https://www.nextplatform.com/2022/05/09/how-mu... 2022-07-01   \n",
       "97   https://www.techpowerup.com/gpu-specs/tesla-p1... 2016-06-20   \n",
       "98   https://web.archive.org/web/20160621002700/htt... 2016-06-21   \n",
       "99   https://www.nextplatform.com/2022/05/09/how-mu... 2016-07-01   \n",
       "100  https://web.archive.org/web/20170312174101/htt... 2017-03-12   \n",
       "101  https://www.nextplatform.com/2022/05/09/how-mu... 2018-07-01   \n",
       "102  https://www.nextplatform.com/2022/05/09/how-mu... 2020-07-01   \n",
       "103  https://www.nextplatform.com/2022/05/09/how-mu... 2022-07-01   \n",
       "104  https://www.nextplatform.com/2022/05/09/how-mu... 2016-07-01   \n",
       "105  https://www.nextplatform.com/2022/05/09/how-mu... 2018-07-01   \n",
       "106  https://www.nextplatform.com/2022/05/09/how-mu... 2020-07-01   \n",
       "107  https://www.nextplatform.com/2022/05/09/how-mu... 2022-07-01   \n",
       "109  https://web.archive.org/web/20190111090822/htt... 2019-01-11   \n",
       "110  https://web.archive.org/web/20190111061033/htt... 2019-01-11   \n",
       "111  https://web.archive.org/web/20190111101112/htt... 2019-01-11   \n",
       "118  https://web.archive.org/web/20190118082125/htt... 2018-05-08   \n",
       "119  https://www.nextplatform.com/2022/05/09/how-mu... 2018-07-01   \n",
       "120  https://www.nextplatform.com/2022/05/09/how-mu... 2020-07-01   \n",
       "121  https://www.nextplatform.com/2022/05/09/how-mu... 2022-07-01   \n",
       "122  https://web.archive.org/web/20190118082125/htt... 2018-05-08   \n",
       "123  https://web.archive.org/web/20190118082125/htt... 2018-05-08   \n",
       "124  https://web.archive.org/web/20190118082125/htt... 2018-05-08   \n",
       "125  https://www.nextplatform.com/2022/05/09/how-mu... 2018-07-01   \n",
       "126  https://www.nextplatform.com/2022/05/09/how-mu... 2020-07-01   \n",
       "127  https://www.nextplatform.com/2022/05/09/how-mu... 2022-07-01   \n",
       "128  https://web.archive.org/web/20170513081017/htt... 2017-07-01   \n",
       "129  https://web.archive.org/web/20170513081017/htt... 2017-07-01   \n",
       "\n",
       "                   Hardware model Manufacturer (from Hardware model) Vendor  \\\n",
       "25               NVIDIA A100 PCIe                             NVIDIA    NaN   \n",
       "26               NVIDIA A100 PCIe                             NVIDIA    NaN   \n",
       "38         NVIDIA A100 SXM4 40 GB                             NVIDIA    NaN   \n",
       "39         NVIDIA A100 SXM4 40 GB                             NVIDIA    NaN   \n",
       "40         NVIDIA A100 SXM4 40 GB                             NVIDIA    NaN   \n",
       "48         NVIDIA A100 SXM4 80 GB                             NVIDIA    NaN   \n",
       "49         NVIDIA A100 SXM4 80 GB                             NVIDIA    NaN   \n",
       "50         NVIDIA A100 SXM4 80 GB                             NVIDIA    NaN   \n",
       "57             NVIDIA GTX Titan X                             NVIDIA    NaN   \n",
       "59               NVIDIA H100 SXM5                             NVIDIA    NaN   \n",
       "60               NVIDIA H100 SXM5                             NVIDIA    NaN   \n",
       "61               NVIDIA H100 SXM5                             NVIDIA    NaN   \n",
       "62               NVIDIA H100 SXM5                             NVIDIA    NaN   \n",
       "63               NVIDIA H100 SXM5                             NVIDIA    NaN   \n",
       "74              NVIDIA Tesla K40s                             NVIDIA    NaN   \n",
       "75              NVIDIA Tesla K40s                             NVIDIA    NaN   \n",
       "76              NVIDIA Tesla K40s                             NVIDIA    NaN   \n",
       "77              NVIDIA Tesla K40s                             NVIDIA    NaN   \n",
       "78              NVIDIA Tesla K40s                             NVIDIA    NaN   \n",
       "79              NVIDIA Tesla K40s                             NVIDIA    NaN   \n",
       "80              NVIDIA Tesla K40s                             NVIDIA    NaN   \n",
       "81               NVIDIA Tesla K80                             NVIDIA    NaN   \n",
       "82               NVIDIA Tesla K80                             NVIDIA    NaN   \n",
       "83               NVIDIA Tesla K80                             NVIDIA    NaN   \n",
       "84               NVIDIA Tesla K80                             NVIDIA    NaN   \n",
       "85               NVIDIA Tesla K80                             NVIDIA    NaN   \n",
       "97   NVIDIA Tesla P100 PCIe 16 GB                             NVIDIA    NaN   \n",
       "98   NVIDIA Tesla P100 PCIe 16 GB                             NVIDIA    NaN   \n",
       "99   NVIDIA Tesla P100 PCIe 16 GB                             NVIDIA    NaN   \n",
       "100  NVIDIA Tesla P100 PCIe 16 GB                             NVIDIA    NaN   \n",
       "101  NVIDIA Tesla P100 PCIe 16 GB                             NVIDIA    NaN   \n",
       "102  NVIDIA Tesla P100 PCIe 16 GB                             NVIDIA    NaN   \n",
       "103  NVIDIA Tesla P100 PCIe 16 GB                             NVIDIA    NaN   \n",
       "104        NVIDIA Tesla P100 SXM2                             NVIDIA    NaN   \n",
       "105        NVIDIA Tesla P100 SXM2                             NVIDIA    NaN   \n",
       "106        NVIDIA Tesla P100 SXM2                             NVIDIA    NaN   \n",
       "107        NVIDIA Tesla P100 SXM2                             NVIDIA    NaN   \n",
       "109  NVIDIA Tesla V100 DGXS 32 GB                             NVIDIA    NaN   \n",
       "110  NVIDIA Tesla V100 DGXS 32 GB                             NVIDIA    NaN   \n",
       "111  NVIDIA Tesla V100 DGXS 32 GB                             NVIDIA    NaN   \n",
       "118  NVIDIA Tesla V100 PCIe 16 GB                             NVIDIA    NaN   \n",
       "119  NVIDIA Tesla V100 PCIe 32 GB                             NVIDIA    NaN   \n",
       "120  NVIDIA Tesla V100 PCIe 32 GB                             NVIDIA    NaN   \n",
       "121  NVIDIA Tesla V100 PCIe 32 GB                             NVIDIA    NaN   \n",
       "122  NVIDIA Tesla V100 SXM2 16 GB                             NVIDIA    NaN   \n",
       "123  NVIDIA Tesla V100 SXM2 32 GB                             NVIDIA    NaN   \n",
       "124  NVIDIA Tesla V100 SXM2 32 GB                             NVIDIA    NaN   \n",
       "125  NVIDIA Tesla V100 SXM3 32 GB                             NVIDIA    NaN   \n",
       "126  NVIDIA Tesla V100 SXM3 32 GB                             NVIDIA    NaN   \n",
       "127  NVIDIA Tesla V100 SXM3 32 GB                             NVIDIA    NaN   \n",
       "128                   NVIDIA V100                             NVIDIA    NaN   \n",
       "129                   NVIDIA V100                             NVIDIA    NaN   \n",
       "\n",
       "    Location Price per chip-hour (on-demand) Price per chip-hour (1-year CUD)  \\\n",
       "25       NaN                             NaN                              NaN   \n",
       "26       NaN                             NaN                              NaN   \n",
       "38       NaN                             NaN                              NaN   \n",
       "39       NaN                             NaN                              NaN   \n",
       "40       NaN                             NaN                              NaN   \n",
       "48       NaN                             NaN                              NaN   \n",
       "49       NaN                             NaN                              NaN   \n",
       "50       NaN                             NaN                              NaN   \n",
       "57       NaN                             NaN                              NaN   \n",
       "59       NaN                             NaN                              NaN   \n",
       "60       NaN                             NaN                              NaN   \n",
       "61       NaN                             NaN                              NaN   \n",
       "62       NaN                             NaN                              NaN   \n",
       "63       NaN                             NaN                              NaN   \n",
       "74       NaN                             NaN                              NaN   \n",
       "75       NaN                             NaN                              NaN   \n",
       "76       NaN                             NaN                              NaN   \n",
       "77       NaN                             NaN                              NaN   \n",
       "78       NaN                             NaN                              NaN   \n",
       "79       NaN                             NaN                              NaN   \n",
       "80       NaN                             NaN                              NaN   \n",
       "81       NaN                             NaN                              NaN   \n",
       "82       NaN                             NaN                              NaN   \n",
       "83       NaN                             NaN                              NaN   \n",
       "84       NaN                             NaN                              NaN   \n",
       "85       NaN                             NaN                              NaN   \n",
       "97       NaN                             NaN                              NaN   \n",
       "98       NaN                             NaN                              NaN   \n",
       "99       NaN                             NaN                              NaN   \n",
       "100      NaN                             NaN                              NaN   \n",
       "101      NaN                             NaN                              NaN   \n",
       "102      NaN                             NaN                              NaN   \n",
       "103      NaN                             NaN                              NaN   \n",
       "104      NaN                             NaN                              NaN   \n",
       "105      NaN                             NaN                              NaN   \n",
       "106      NaN                             NaN                              NaN   \n",
       "107      NaN                             NaN                              NaN   \n",
       "109      NaN                             NaN                              NaN   \n",
       "110      NaN                             NaN                              NaN   \n",
       "111      NaN                             NaN                              NaN   \n",
       "118      NaN                             NaN                              NaN   \n",
       "119      NaN                             NaN                              NaN   \n",
       "120      NaN                             NaN                              NaN   \n",
       "121      NaN                             NaN                              NaN   \n",
       "122      NaN                             NaN                              NaN   \n",
       "123      NaN                             NaN                              NaN   \n",
       "124      NaN                             NaN                              NaN   \n",
       "125      NaN                             NaN                              NaN   \n",
       "126      NaN                             NaN                              NaN   \n",
       "127      NaN                             NaN                              NaN   \n",
       "128      NaN                             NaN                              NaN   \n",
       "129      NaN                             NaN                              NaN   \n",
       "\n",
       "    Price per chip-hour (3-year CUD) Price (hardware purchase)  \\\n",
       "25                               NaN                   24900.0   \n",
       "26                               NaN                   20750.0   \n",
       "38                               NaN                   24875.0   \n",
       "39                               NaN                   24900.0   \n",
       "40                               NaN                   20750.0   \n",
       "48                               NaN                   37500.0   \n",
       "49                               NaN                   20875.0   \n",
       "50                               NaN                  18548.75   \n",
       "57                               NaN                   1638.36   \n",
       "59                               NaN                  44489.88   \n",
       "60                               NaN                   33750.0   \n",
       "61                               NaN                   41197.5   \n",
       "62                               NaN                   41217.0   \n",
       "63                               NaN                   37080.5   \n",
       "74                               NaN                    8856.0   \n",
       "75                               NaN                  12626.36   \n",
       "76                               NaN                    6888.0   \n",
       "77                               NaN                    4756.0   \n",
       "78                               NaN                    3772.0   \n",
       "79                               NaN                     885.6   \n",
       "80                               NaN                     475.6   \n",
       "81                               NaN                    8200.0   \n",
       "82                               NaN                    6068.0   \n",
       "83                               NaN                    4100.0   \n",
       "84                               NaN                    1541.6   \n",
       "85                               NaN                     713.4   \n",
       "97                               NaN                   8776.46   \n",
       "98                               NaN                   16125.0   \n",
       "99                               NaN                    8470.0   \n",
       "100                              NaN                  18543.75   \n",
       "101                              NaN                    9086.0   \n",
       "102                              NaN                    5390.0   \n",
       "103                              NaN                    3388.0   \n",
       "104                              NaN                   16170.0   \n",
       "105                              NaN                   11396.0   \n",
       "106                              NaN                    6776.0   \n",
       "107                              NaN                    1694.0   \n",
       "109                              NaN                   18457.5   \n",
       "110                              NaN                  19928.75   \n",
       "111                              NaN                  26995.63   \n",
       "118                              NaN                  18022.16   \n",
       "119                              NaN                   14365.0   \n",
       "120                              NaN                   17745.0   \n",
       "121                              NaN                   12675.0   \n",
       "122                              NaN                  18022.16   \n",
       "123                              NaN                  19364.02   \n",
       "124                              NaN                  19364.02   \n",
       "125                              NaN                   19435.0   \n",
       "126                              NaN                   23153.0   \n",
       "127                              NaN                    4225.0   \n",
       "128                              NaN                   18625.0   \n",
       "129                              NaN                   17250.0   \n",
       "\n",
       "                                                 Notes  \n",
       "25                        server-equivalent list price  \n",
       "26                        server-equivalent list price  \n",
       "38              DGX A100, 8 GPU, 320GB. Release price.  \n",
       "39                        server-equivalent list price  \n",
       "40                        server-equivalent list price  \n",
       "48                              DGX A100, 8 GPU, 640GB  \n",
       "49                              DGX A100, 8 GPU, 640GB  \n",
       "50                              HGX A100, 8 GPU, 640GB  \n",
       "57                     server-equivalent release price  \n",
       "59   DGX, 8 GPU, 640GB. Convert Euro to USD: https:...  \n",
       "60   DGX, 8 GPU, 640GB. “Nvidia sells DGX H100’s at...  \n",
       "61   DGX, 8 GPU, 640GB. Convert Euro to USD: https:...  \n",
       "62   DGX, 8 GPU, 640GB. Convert Euro to USD: https:...  \n",
       "63                                   HGX, 8 GPU, 640GB  \n",
       "74                     server-equivalent release price  \n",
       "75                     server-equivalent release price  \n",
       "76                        server-equivalent list price  \n",
       "77                        server-equivalent list price  \n",
       "78                        server-equivalent list price  \n",
       "79                        server-equivalent list price  \n",
       "80                        server-equivalent list price  \n",
       "81                     server-equivalent release price  \n",
       "82                        server-equivalent list price  \n",
       "83                        server-equivalent list price  \n",
       "84                        server-equivalent list price  \n",
       "85                        server-equivalent list price  \n",
       "97                     server-equivalent release price  \n",
       "98                                 DGX-1, 8 GPU, 128GB  \n",
       "99                        server-equivalent list price  \n",
       "100                                DGX-1, 8 GPU, 128GB  \n",
       "101                       server-equivalent list price  \n",
       "102                       server-equivalent list price  \n",
       "103                       server-equivalent list price  \n",
       "104                       server-equivalent list price  \n",
       "105                       server-equivalent list price  \n",
       "106                       server-equivalent list price  \n",
       "107                       server-equivalent list price  \n",
       "109                                  DGX, 4 GPU, 128GB  \n",
       "110                                DGX-1, 8 GPU, 256GB  \n",
       "111                              DGX-2, 16 GPU, 512 GB  \n",
       "118                       server-equivalent list price  \n",
       "119                       server-equivalent list price  \n",
       "120                       server-equivalent list price  \n",
       "121                       server-equivalent list price  \n",
       "122                       server-equivalent list price  \n",
       "123                       server-equivalent list price  \n",
       "124                       server-equivalent list price  \n",
       "125                       server-equivalent list price  \n",
       "126                       server-equivalent list price  \n",
       "127                       server-equivalent list price  \n",
       "128  Price at release (2017 Q3) for a DGX-1 with 8x...  \n",
       "129  Price at release (2017 Q3) for a DGXS with 4x ...  "
      ]
     },
     "execution_count": 6,
     "metadata": {},
     "output_type": "execute_result"
    }
   ],
   "source": [
    "# Multiply single unit prices by overhead factor\n",
    "server_adjusted_purchase_price_df = pd.DataFrame(columns=purchase_price_df.columns)\n",
    "for i, row in purchase_price_df.iterrows():\n",
    "    if 'single-unit' in row['Notes'].lower():\n",
    "        row[price_colname] *= get_server_cost_overhead(row['Hardware model'])\n",
    "        row['Notes'] = row['Notes'].lower().replace('single-unit', 'server-equivalent')\n",
    "    server_adjusted_purchase_price_df.loc[i] = row\n",
    "server_adjusted_purchase_price_df"
   ]
  },
  {
   "cell_type": "code",
   "execution_count": null,
   "metadata": {},
   "outputs": [],
   "source": [
    "# Log-linear contours decaying at -0.14 OOMs per year\n",
    "t = np.arange(2012, 2026)\n",
    "contours = []\n",
    "for initial_price in np.arange(3, 10, 0.1):\n",
    "    contours.append(10**initial_price * 10**(-0.1 * (t - 2012)))"
   ]
  },
  {
   "cell_type": "code",
   "execution_count": null,
   "metadata": {},
   "outputs": [
    {
     "name": "stdout",
     "output_type": "stream",
     "text": [
      "A100\n",
      "H100\n",
      "P100\n",
      "V100\n",
      "TPU v4\n",
      "TPU v3\n",
      "TPU v2\n",
      "TPU v1\n",
      "K80\n",
      "K40\n",
      "Titan X\n"
     ]
    },
    {
     "data": {
      "application/vnd.plotly.v1+json": {
       "config": {
        "plotlyServerURL": "https://plot.ly"
       },
       "data": [
        {
         "mode": "markers",
         "name": "A100",
         "text": [
          "NVIDIA A100 PCIe | server-equivalent list price",
          "NVIDIA A100 PCIe | server-equivalent list price",
          "NVIDIA A100 SXM4 40 GB | DGX A100, 8 GPU, 320GB. Release price.",
          "NVIDIA A100 SXM4 40 GB | server-equivalent list price",
          "NVIDIA A100 SXM4 40 GB | server-equivalent list price",
          "NVIDIA A100 SXM4 80 GB | DGX A100, 8 GPU, 640GB",
          "NVIDIA A100 SXM4 80 GB | DGX A100, 8 GPU, 640GB",
          "NVIDIA A100 SXM4 80 GB | HGX A100, 8 GPU, 640GB"
         ],
         "type": "scatter",
         "x": [
          "2020-07-01T00:00:00",
          "2022-07-01T00:00:00",
          "2020-05-21T00:00:00",
          "2020-07-01T00:00:00",
          "2022-07-01T00:00:00",
          "2021-06-30T00:00:00",
          "2022-01-20T00:00:00",
          "2023-09-23T00:00:00"
         ],
         "y": [
          24900,
          20750,
          24875,
          24900,
          20750,
          37500,
          20875,
          18548.75
         ]
        },
        {
         "mode": "markers",
         "name": "H100",
         "text": [
          "NVIDIA H100 SXM5 | DGX, 8 GPU, 640GB. Convert Euro to USD: https://www.oanda.com/currency-converter/en/?from=EUR&to=USD&amount=https://www.oanda.com/currency-converter/en/?from=EUR&to=USD&amount=369855.51",
          "NVIDIA H100 SXM5 | DGX, 8 GPU, 640GB. “Nvidia sells DGX H100’s at around $270,000”.",
          "NVIDIA H100 SXM5 | DGX, 8 GPU, 640GB. Convert Euro to USD: https://www.oanda.com/currency-converter/en/?from=EUR&to=USD&amount=306403.66",
          "NVIDIA H100 SXM5 | DGX, 8 GPU, 640GB. Convert Euro to USD: https://www.oanda.com/currency-converter/en/?from=EUR&to=USD&amount=303610.2",
          "NVIDIA H100 SXM5 | HGX, 8 GPU, 640GB"
         ],
         "type": "scatter",
         "x": [
          "2022-09-29T00:00:00",
          "2023-05-29T00:00:00",
          "2023-12-11T00:00:00",
          "2024-03-20T00:00:00",
          "2024-03-21T00:00:00"
         ],
         "y": [
          44489.88,
          33750,
          41197.5,
          41217,
          37080.5
         ]
        },
        {
         "mode": "markers",
         "name": "P100",
         "text": [
          "NVIDIA Tesla P100 PCIe 16 GB | server-equivalent release price",
          "NVIDIA Tesla P100 PCIe 16 GB | DGX-1, 8 GPU, 128GB",
          "NVIDIA Tesla P100 PCIe 16 GB | server-equivalent list price",
          "NVIDIA Tesla P100 PCIe 16 GB | DGX-1, 8 GPU, 128GB",
          "NVIDIA Tesla P100 PCIe 16 GB | server-equivalent list price",
          "NVIDIA Tesla P100 PCIe 16 GB | server-equivalent list price",
          "NVIDIA Tesla P100 PCIe 16 GB | server-equivalent list price",
          "NVIDIA Tesla P100 SXM2 | server-equivalent list price",
          "NVIDIA Tesla P100 SXM2 | server-equivalent list price",
          "NVIDIA Tesla P100 SXM2 | server-equivalent list price",
          "NVIDIA Tesla P100 SXM2 | server-equivalent list price"
         ],
         "type": "scatter",
         "x": [
          "2016-06-20T00:00:00",
          "2016-06-21T00:00:00",
          "2016-07-01T00:00:00",
          "2017-03-12T00:00:00",
          "2018-07-01T00:00:00",
          "2020-07-01T00:00:00",
          "2022-07-01T00:00:00",
          "2016-07-01T00:00:00",
          "2018-07-01T00:00:00",
          "2020-07-01T00:00:00",
          "2022-07-01T00:00:00"
         ],
         "y": [
          8776.460000000001,
          16125,
          8470,
          18543.75,
          9086,
          5390,
          3388,
          16170,
          11396,
          6776,
          1694
         ]
        },
        {
         "mode": "markers",
         "name": "V100",
         "text": [
          "NVIDIA Tesla V100 DGXS 32 GB | DGX, 4 GPU, 128GB",
          "NVIDIA Tesla V100 DGXS 32 GB | DGX-1, 8 GPU, 256GB",
          "NVIDIA Tesla V100 DGXS 32 GB | DGX-2, 16 GPU, 512 GB",
          "NVIDIA Tesla V100 PCIe 16 GB | server-equivalent list price",
          "NVIDIA Tesla V100 PCIe 32 GB | server-equivalent list price",
          "NVIDIA Tesla V100 PCIe 32 GB | server-equivalent list price",
          "NVIDIA Tesla V100 PCIe 32 GB | server-equivalent list price",
          "NVIDIA Tesla V100 SXM2 16 GB | server-equivalent list price",
          "NVIDIA Tesla V100 SXM2 32 GB | server-equivalent list price",
          "NVIDIA Tesla V100 SXM2 32 GB | server-equivalent list price",
          "NVIDIA Tesla V100 SXM3 32 GB | server-equivalent list price",
          "NVIDIA Tesla V100 SXM3 32 GB | server-equivalent list price",
          "NVIDIA Tesla V100 SXM3 32 GB | server-equivalent list price",
          "NVIDIA V100 | Price at release (2017 Q3) for a DGX-1 with 8x V100 GPUs was $149,000. Dividing by 8, the price per GPU is $18,625 including interconnect hardware.",
          "NVIDIA V100 | Price at release (2017 Q3) for a DGXS with 4x V100 GPUs was $69,000. Dividing by 4, the price per GPU is $17250 including interconnect hardware."
         ],
         "type": "scatter",
         "x": [
          "2019-01-11T00:00:00",
          "2019-01-11T00:00:00",
          "2019-01-11T00:00:00",
          "2018-05-08T00:00:00",
          "2018-07-01T00:00:00",
          "2020-07-01T00:00:00",
          "2022-07-01T00:00:00",
          "2018-05-08T00:00:00",
          "2018-05-08T00:00:00",
          "2018-05-08T00:00:00",
          "2018-07-01T00:00:00",
          "2020-07-01T00:00:00",
          "2022-07-01T00:00:00",
          "2017-07-01T00:00:00",
          "2017-07-01T00:00:00"
         ],
         "y": [
          18457.5,
          19928.75,
          26995.63,
          18022.16,
          14365,
          17745,
          12675,
          18022.16,
          19364.02,
          19364.02,
          19435,
          23153,
          4225,
          18625,
          17250
         ]
        },
        {
         "mode": "markers",
         "name": "TPU v4",
         "text": [],
         "type": "scatter",
         "x": [],
         "y": []
        },
        {
         "mode": "markers",
         "name": "TPU v3",
         "text": [],
         "type": "scatter",
         "x": [],
         "y": []
        },
        {
         "mode": "markers",
         "name": "TPU v2",
         "text": [],
         "type": "scatter",
         "x": [],
         "y": []
        },
        {
         "mode": "markers",
         "name": "TPU v1",
         "text": [],
         "type": "scatter",
         "x": [],
         "y": []
        },
        {
         "mode": "markers",
         "name": "K80",
         "text": [
          "NVIDIA Tesla K80 | server-equivalent release price",
          "NVIDIA Tesla K80 | server-equivalent list price",
          "NVIDIA Tesla K80 | server-equivalent list price",
          "NVIDIA Tesla K80 | server-equivalent list price",
          "NVIDIA Tesla K80 | server-equivalent list price"
         ],
         "type": "scatter",
         "x": [
          "2014-11-17T00:00:00",
          "2016-07-01T00:00:00",
          "2018-07-01T00:00:00",
          "2020-07-01T00:00:00",
          "2022-07-01T00:00:00"
         ],
         "y": [
          8200,
          6068,
          4100,
          1541.6,
          713.4
         ]
        },
        {
         "mode": "markers",
         "name": "K40",
         "text": [
          "NVIDIA Tesla K40s | server-equivalent release price",
          "NVIDIA Tesla K40s | server-equivalent release price",
          "NVIDIA Tesla K40s | server-equivalent list price",
          "NVIDIA Tesla K40s | server-equivalent list price",
          "NVIDIA Tesla K40s | server-equivalent list price",
          "NVIDIA Tesla K40s | server-equivalent list price",
          "NVIDIA Tesla K40s | server-equivalent list price"
         ],
         "type": "scatter",
         "x": [
          "2012-07-01T00:00:00",
          "2013-11-22T00:00:00",
          "2014-07-01T00:00:00",
          "2016-07-01T00:00:00",
          "2018-07-01T00:00:00",
          "2020-07-01T00:00:00",
          "2022-07-01T00:00:00"
         ],
         "y": [
          8856,
          12626.359999999999,
          6888,
          4756,
          3772,
          885.5999999999999,
          475.59999999999997
         ]
        },
        {
         "mode": "markers",
         "name": "Titan X",
         "text": [
          "NVIDIA GTX Titan X | server-equivalent release price"
         ],
         "type": "scatter",
         "x": [
          "2015-03-17T00:00:00"
         ],
         "y": [
          1638.36
         ]
        },
        {
         "line": {
          "color": "rgb(200, 200, 200)",
          "width": 1
         },
         "mode": "lines",
         "name": "-0.1 OOMs/year",
         "showlegend": true,
         "type": "scatter",
         "x": [
          "2012-01-01T00:00:00",
          "2013-01-01T00:00:00",
          "2014-01-01T00:00:00",
          "2015-01-01T00:00:00",
          "2016-01-01T00:00:00",
          "2017-01-01T00:00:00",
          "2018-01-01T00:00:00",
          "2019-01-01T00:00:00",
          "2020-01-01T00:00:00",
          "2021-01-01T00:00:00",
          "2022-01-01T00:00:00",
          "2023-01-01T00:00:00",
          "2024-01-01T00:00:00",
          "2025-01-01T00:00:00"
         ],
         "y": [
          1000,
          794.3282347242815,
          630.9573444801932,
          501.18723362727224,
          398.1071705534972,
          316.22776601683796,
          251.18864315095794,
          199.52623149688793,
          158.48931924611134,
          125.89254117941672,
          100,
          79.43282347242814,
          63.0957344480193,
          50.11872336272722
         ]
        },
        {
         "line": {
          "color": "rgb(200, 200, 200)",
          "width": 1
         },
         "mode": "lines",
         "name": "-0.1 OOMs/year",
         "showlegend": false,
         "type": "scatter",
         "x": [
          "2012-01-01T00:00:00",
          "2013-01-01T00:00:00",
          "2014-01-01T00:00:00",
          "2015-01-01T00:00:00",
          "2016-01-01T00:00:00",
          "2017-01-01T00:00:00",
          "2018-01-01T00:00:00",
          "2019-01-01T00:00:00",
          "2020-01-01T00:00:00",
          "2021-01-01T00:00:00",
          "2022-01-01T00:00:00",
          "2023-01-01T00:00:00",
          "2024-01-01T00:00:00",
          "2025-01-01T00:00:00"
         ],
         "y": [
          1258.9254117941675,
          1000.0000000000002,
          794.3282347242817,
          630.9573444801933,
          501.18723362727235,
          398.1071705534974,
          316.22776601683796,
          251.18864315095803,
          199.52623149688802,
          158.4893192461114,
          125.89254117941675,
          100.00000000000001,
          79.43282347242814,
          63.09573444801933
         ]
        },
        {
         "line": {
          "color": "rgb(200, 200, 200)",
          "width": 1
         },
         "mode": "lines",
         "name": "-0.1 OOMs/year",
         "showlegend": false,
         "type": "scatter",
         "x": [
          "2012-01-01T00:00:00",
          "2013-01-01T00:00:00",
          "2014-01-01T00:00:00",
          "2015-01-01T00:00:00",
          "2016-01-01T00:00:00",
          "2017-01-01T00:00:00",
          "2018-01-01T00:00:00",
          "2019-01-01T00:00:00",
          "2020-01-01T00:00:00",
          "2021-01-01T00:00:00",
          "2022-01-01T00:00:00",
          "2023-01-01T00:00:00",
          "2024-01-01T00:00:00",
          "2025-01-01T00:00:00"
         ],
         "y": [
          1584.893192461114,
          1258.9254117941675,
          1000.0000000000003,
          794.3282347242817,
          630.9573444801933,
          501.18723362727246,
          398.1071705534973,
          316.22776601683796,
          251.1886431509581,
          199.52623149688804,
          158.48931924611142,
          125.89254117941674,
          100,
          79.43282347242817
         ]
        },
        {
         "line": {
          "color": "rgb(200, 200, 200)",
          "width": 1
         },
         "mode": "lines",
         "name": "-0.1 OOMs/year",
         "showlegend": false,
         "type": "scatter",
         "x": [
          "2012-01-01T00:00:00",
          "2013-01-01T00:00:00",
          "2014-01-01T00:00:00",
          "2015-01-01T00:00:00",
          "2016-01-01T00:00:00",
          "2017-01-01T00:00:00",
          "2018-01-01T00:00:00",
          "2019-01-01T00:00:00",
          "2020-01-01T00:00:00",
          "2021-01-01T00:00:00",
          "2022-01-01T00:00:00",
          "2023-01-01T00:00:00",
          "2024-01-01T00:00:00",
          "2025-01-01T00:00:00"
         ],
         "y": [
          1995.262314968881,
          1584.8931924611145,
          1258.925411794168,
          1000.0000000000006,
          794.328234724282,
          630.9573444801937,
          501.1872336272725,
          398.10717055349744,
          316.22776601683813,
          251.1886431509582,
          199.5262314968881,
          158.48931924611142,
          125.89254117941675,
          100.00000000000004
         ]
        },
        {
         "line": {
          "color": "rgb(200, 200, 200)",
          "width": 1
         },
         "mode": "lines",
         "name": "-0.1 OOMs/year",
         "showlegend": false,
         "type": "scatter",
         "x": [
          "2012-01-01T00:00:00",
          "2013-01-01T00:00:00",
          "2014-01-01T00:00:00",
          "2015-01-01T00:00:00",
          "2016-01-01T00:00:00",
          "2017-01-01T00:00:00",
          "2018-01-01T00:00:00",
          "2019-01-01T00:00:00",
          "2020-01-01T00:00:00",
          "2021-01-01T00:00:00",
          "2022-01-01T00:00:00",
          "2023-01-01T00:00:00",
          "2024-01-01T00:00:00",
          "2025-01-01T00:00:00"
         ],
         "y": [
          2511.886431509582,
          1995.2623149688811,
          1584.8931924611147,
          1258.925411794168,
          1000.0000000000007,
          794.3282347242821,
          630.9573444801936,
          501.1872336272726,
          398.10717055349755,
          316.2277660168382,
          251.18864315095823,
          199.52623149688807,
          158.48931924611142,
          125.8925411794168
         ]
        },
        {
         "line": {
          "color": "rgb(200, 200, 200)",
          "width": 1
         },
         "mode": "lines",
         "name": "-0.1 OOMs/year",
         "showlegend": false,
         "type": "scatter",
         "x": [
          "2012-01-01T00:00:00",
          "2013-01-01T00:00:00",
          "2014-01-01T00:00:00",
          "2015-01-01T00:00:00",
          "2016-01-01T00:00:00",
          "2017-01-01T00:00:00",
          "2018-01-01T00:00:00",
          "2019-01-01T00:00:00",
          "2020-01-01T00:00:00",
          "2021-01-01T00:00:00",
          "2022-01-01T00:00:00",
          "2023-01-01T00:00:00",
          "2024-01-01T00:00:00",
          "2025-01-01T00:00:00"
         ],
         "y": [
          3162.2776601683827,
          2511.8864315095825,
          1995.2623149688818,
          1584.893192461115,
          1258.9254117941684,
          1000.0000000000011,
          794.3282347242822,
          630.9573444801938,
          501.1872336272728,
          398.10717055349767,
          316.2277660168383,
          251.18864315095823,
          199.5262314968881,
          158.48931924611148
         ]
        },
        {
         "line": {
          "color": "rgb(200, 200, 200)",
          "width": 1
         },
         "mode": "lines",
         "name": "-0.1 OOMs/year",
         "showlegend": false,
         "type": "scatter",
         "x": [
          "2012-01-01T00:00:00",
          "2013-01-01T00:00:00",
          "2014-01-01T00:00:00",
          "2015-01-01T00:00:00",
          "2016-01-01T00:00:00",
          "2017-01-01T00:00:00",
          "2018-01-01T00:00:00",
          "2019-01-01T00:00:00",
          "2020-01-01T00:00:00",
          "2021-01-01T00:00:00",
          "2022-01-01T00:00:00",
          "2023-01-01T00:00:00",
          "2024-01-01T00:00:00",
          "2025-01-01T00:00:00"
         ],
         "y": [
          3981.0717055349774,
          3162.277660168383,
          2511.886431509583,
          1995.2623149688818,
          1584.8931924611152,
          1258.9254117941687,
          1000.000000000001,
          794.3282347242823,
          630.957344480194,
          501.1872336272729,
          398.1071705534978,
          316.22776601683825,
          251.18864315095823,
          199.52623149688816
         ]
        },
        {
         "line": {
          "color": "rgb(200, 200, 200)",
          "width": 1
         },
         "mode": "lines",
         "name": "-0.1 OOMs/year",
         "showlegend": false,
         "type": "scatter",
         "x": [
          "2012-01-01T00:00:00",
          "2013-01-01T00:00:00",
          "2014-01-01T00:00:00",
          "2015-01-01T00:00:00",
          "2016-01-01T00:00:00",
          "2017-01-01T00:00:00",
          "2018-01-01T00:00:00",
          "2019-01-01T00:00:00",
          "2020-01-01T00:00:00",
          "2021-01-01T00:00:00",
          "2022-01-01T00:00:00",
          "2023-01-01T00:00:00",
          "2024-01-01T00:00:00",
          "2025-01-01T00:00:00"
         ],
         "y": [
          5011.87233627273,
          3981.071705534978,
          3162.2776601683836,
          2511.8864315095834,
          1995.262314968882,
          1584.8931924611156,
          1258.9254117941687,
          1000.0000000000011,
          794.3282347242825,
          630.9573444801941,
          501.187233627273,
          398.1071705534977,
          316.22776601683825,
          251.1886431509583
         ]
        },
        {
         "line": {
          "color": "rgb(200, 200, 200)",
          "width": 1
         },
         "mode": "lines",
         "name": "-0.1 OOMs/year",
         "showlegend": false,
         "type": "scatter",
         "x": [
          "2012-01-01T00:00:00",
          "2013-01-01T00:00:00",
          "2014-01-01T00:00:00",
          "2015-01-01T00:00:00",
          "2016-01-01T00:00:00",
          "2017-01-01T00:00:00",
          "2018-01-01T00:00:00",
          "2019-01-01T00:00:00",
          "2020-01-01T00:00:00",
          "2021-01-01T00:00:00",
          "2022-01-01T00:00:00",
          "2023-01-01T00:00:00",
          "2024-01-01T00:00:00",
          "2025-01-01T00:00:00"
         ],
         "y": [
          6309.573444801943,
          5011.872336272731,
          3981.071705534979,
          3162.2776601683845,
          2511.886431509584,
          1995.262314968883,
          1584.8931924611159,
          1258.9254117941691,
          1000.0000000000016,
          794.3282347242829,
          630.9573444801944,
          501.18723362727303,
          398.1071705534978,
          316.2277660168384
         ]
        },
        {
         "line": {
          "color": "rgb(200, 200, 200)",
          "width": 1
         },
         "mode": "lines",
         "name": "-0.1 OOMs/year",
         "showlegend": false,
         "type": "scatter",
         "x": [
          "2012-01-01T00:00:00",
          "2013-01-01T00:00:00",
          "2014-01-01T00:00:00",
          "2015-01-01T00:00:00",
          "2016-01-01T00:00:00",
          "2017-01-01T00:00:00",
          "2018-01-01T00:00:00",
          "2019-01-01T00:00:00",
          "2020-01-01T00:00:00",
          "2021-01-01T00:00:00",
          "2022-01-01T00:00:00",
          "2023-01-01T00:00:00",
          "2024-01-01T00:00:00",
          "2025-01-01T00:00:00"
         ],
         "y": [
          7943.28234724283,
          6309.573444801944,
          5011.872336272732,
          3981.0717055349796,
          3162.277660168385,
          2511.886431509585,
          1995.262314968883,
          1584.893192461116,
          1258.9254117941696,
          1000.0000000000019,
          794.328234724283,
          630.9573444801944,
          501.18723362727303,
          398.10717055349795
         ]
        },
        {
         "line": {
          "color": "rgb(200, 200, 200)",
          "width": 1
         },
         "mode": "lines",
         "name": "-0.1 OOMs/year",
         "showlegend": false,
         "type": "scatter",
         "x": [
          "2012-01-01T00:00:00",
          "2013-01-01T00:00:00",
          "2014-01-01T00:00:00",
          "2015-01-01T00:00:00",
          "2016-01-01T00:00:00",
          "2017-01-01T00:00:00",
          "2018-01-01T00:00:00",
          "2019-01-01T00:00:00",
          "2020-01-01T00:00:00",
          "2021-01-01T00:00:00",
          "2022-01-01T00:00:00",
          "2023-01-01T00:00:00",
          "2024-01-01T00:00:00",
          "2025-01-01T00:00:00"
         ],
         "y": [
          10000.00000000002,
          7943.282347242831,
          6309.573444801945,
          5011.872336272732,
          3981.07170553498,
          3162.277660168386,
          2511.886431509585,
          1995.2623149688832,
          1584.8931924611165,
          1258.9254117941698,
          1000.000000000002,
          794.328234724283,
          630.9573444801943,
          501.1872336272732
         ]
        },
        {
         "line": {
          "color": "rgb(200, 200, 200)",
          "width": 1
         },
         "mode": "lines",
         "name": "-0.1 OOMs/year",
         "showlegend": false,
         "type": "scatter",
         "x": [
          "2012-01-01T00:00:00",
          "2013-01-01T00:00:00",
          "2014-01-01T00:00:00",
          "2015-01-01T00:00:00",
          "2016-01-01T00:00:00",
          "2017-01-01T00:00:00",
          "2018-01-01T00:00:00",
          "2019-01-01T00:00:00",
          "2020-01-01T00:00:00",
          "2021-01-01T00:00:00",
          "2022-01-01T00:00:00",
          "2023-01-01T00:00:00",
          "2024-01-01T00:00:00",
          "2025-01-01T00:00:00"
         ],
         "y": [
          12589.254117941713,
          10000.000000000033,
          7943.282347242841,
          6309.573444801952,
          5011.872336272739,
          3981.0717055349855,
          3162.277660168389,
          2511.886431509588,
          1995.2623149688861,
          1584.8931924611188,
          1258.9254117941714,
          1000.0000000000031,
          794.3282347242838,
          630.9573444801952
         ]
        },
        {
         "line": {
          "color": "rgb(200, 200, 200)",
          "width": 1
         },
         "mode": "lines",
         "name": "-0.1 OOMs/year",
         "showlegend": false,
         "type": "scatter",
         "x": [
          "2012-01-01T00:00:00",
          "2013-01-01T00:00:00",
          "2014-01-01T00:00:00",
          "2015-01-01T00:00:00",
          "2016-01-01T00:00:00",
          "2017-01-01T00:00:00",
          "2018-01-01T00:00:00",
          "2019-01-01T00:00:00",
          "2020-01-01T00:00:00",
          "2021-01-01T00:00:00",
          "2022-01-01T00:00:00",
          "2023-01-01T00:00:00",
          "2024-01-01T00:00:00",
          "2025-01-01T00:00:00"
         ],
         "y": [
          15848.931924611174,
          12589.254117941702,
          10000.000000000024,
          7943.282347242834,
          6309.5734448019475,
          5011.872336272735,
          3981.0717055349814,
          3162.2776601683863,
          2511.886431509586,
          1995.2623149688845,
          1584.8931924611175,
          1258.92541179417,
          1000.000000000002,
          794.3282347242833
         ]
        },
        {
         "line": {
          "color": "rgb(200, 200, 200)",
          "width": 1
         },
         "mode": "lines",
         "name": "-0.1 OOMs/year",
         "showlegend": false,
         "type": "scatter",
         "x": [
          "2012-01-01T00:00:00",
          "2013-01-01T00:00:00",
          "2014-01-01T00:00:00",
          "2015-01-01T00:00:00",
          "2016-01-01T00:00:00",
          "2017-01-01T00:00:00",
          "2018-01-01T00:00:00",
          "2019-01-01T00:00:00",
          "2020-01-01T00:00:00",
          "2021-01-01T00:00:00",
          "2022-01-01T00:00:00",
          "2023-01-01T00:00:00",
          "2024-01-01T00:00:00",
          "2025-01-01T00:00:00"
         ],
         "y": [
          19952.62314968883,
          15848.93192461116,
          12589.254117941693,
          10000.000000000016,
          7943.282347242827,
          6309.573444801943,
          5011.87233627273,
          3981.0717055349783,
          3162.2776601683845,
          2511.8864315095843,
          1995.262314968883,
          1584.8931924611159,
          1258.925411794169,
          1000.0000000000015
         ]
        },
        {
         "line": {
          "color": "rgb(200, 200, 200)",
          "width": 1
         },
         "mode": "lines",
         "name": "-0.1 OOMs/year",
         "showlegend": false,
         "type": "scatter",
         "x": [
          "2012-01-01T00:00:00",
          "2013-01-01T00:00:00",
          "2014-01-01T00:00:00",
          "2015-01-01T00:00:00",
          "2016-01-01T00:00:00",
          "2017-01-01T00:00:00",
          "2018-01-01T00:00:00",
          "2019-01-01T00:00:00",
          "2020-01-01T00:00:00",
          "2021-01-01T00:00:00",
          "2022-01-01T00:00:00",
          "2023-01-01T00:00:00",
          "2024-01-01T00:00:00",
          "2025-01-01T00:00:00"
         ],
         "y": [
          25118.864315095874,
          19952.623149688854,
          15848.93192461118,
          12589.254117941708,
          10000.000000000027,
          7943.282347242838,
          6309.573444801949,
          5011.872336272736,
          3981.071705534984,
          3162.2776601683886,
          2511.8864315095875,
          1995.262314968885,
          1584.8931924611175,
          1258.9254117941707
         ]
        },
        {
         "line": {
          "color": "rgb(200, 200, 200)",
          "width": 1
         },
         "mode": "lines",
         "name": "-0.1 OOMs/year",
         "showlegend": false,
         "type": "scatter",
         "x": [
          "2012-01-01T00:00:00",
          "2013-01-01T00:00:00",
          "2014-01-01T00:00:00",
          "2015-01-01T00:00:00",
          "2016-01-01T00:00:00",
          "2017-01-01T00:00:00",
          "2018-01-01T00:00:00",
          "2019-01-01T00:00:00",
          "2020-01-01T00:00:00",
          "2021-01-01T00:00:00",
          "2022-01-01T00:00:00",
          "2023-01-01T00:00:00",
          "2024-01-01T00:00:00",
          "2025-01-01T00:00:00"
         ],
         "y": [
          31622.776601683923,
          25118.864315095903,
          19952.62314968888,
          15848.931924611199,
          12589.254117941722,
          10000.000000000042,
          7943.282347242846,
          6309.5734448019575,
          5011.872336272743,
          3981.071705534989,
          3162.2776601683927,
          2511.8864315095902,
          1995.262314968887,
          1584.8931924611197
         ]
        },
        {
         "line": {
          "color": "rgb(200, 200, 200)",
          "width": 1
         },
         "mode": "lines",
         "name": "-0.1 OOMs/year",
         "showlegend": false,
         "type": "scatter",
         "x": [
          "2012-01-01T00:00:00",
          "2013-01-01T00:00:00",
          "2014-01-01T00:00:00",
          "2015-01-01T00:00:00",
          "2016-01-01T00:00:00",
          "2017-01-01T00:00:00",
          "2018-01-01T00:00:00",
          "2019-01-01T00:00:00",
          "2020-01-01T00:00:00",
          "2021-01-01T00:00:00",
          "2022-01-01T00:00:00",
          "2023-01-01T00:00:00",
          "2024-01-01T00:00:00",
          "2025-01-01T00:00:00"
         ],
         "y": [
          39810.71705534986,
          31622.776601683898,
          25118.864315095885,
          19952.62314968886,
          15848.931924611186,
          12589.254117941715,
          10000.000000000031,
          7943.28234724284,
          6309.573444801953,
          5011.87233627274,
          3981.071705534986,
          3162.2776601683895,
          2511.8864315095875,
          1995.262314968886
         ]
        },
        {
         "line": {
          "color": "rgb(200, 200, 200)",
          "width": 1
         },
         "mode": "lines",
         "name": "-0.1 OOMs/year",
         "showlegend": false,
         "type": "scatter",
         "x": [
          "2012-01-01T00:00:00",
          "2013-01-01T00:00:00",
          "2014-01-01T00:00:00",
          "2015-01-01T00:00:00",
          "2016-01-01T00:00:00",
          "2017-01-01T00:00:00",
          "2018-01-01T00:00:00",
          "2019-01-01T00:00:00",
          "2020-01-01T00:00:00",
          "2021-01-01T00:00:00",
          "2022-01-01T00:00:00",
          "2023-01-01T00:00:00",
          "2024-01-01T00:00:00",
          "2025-01-01T00:00:00"
         ],
         "y": [
          50118.72336272735,
          39810.71705534982,
          31622.776601683872,
          25118.86431509586,
          19952.623149688843,
          15848.931924611175,
          12589.2541179417,
          10000.000000000022,
          7943.2823472428345,
          6309.573444801948,
          5011.872336272736,
          3981.071705534982,
          3162.277660168386,
          2511.886431509586
         ]
        },
        {
         "line": {
          "color": "rgb(200, 200, 200)",
          "width": 1
         },
         "mode": "lines",
         "name": "-0.1 OOMs/year",
         "showlegend": false,
         "type": "scatter",
         "x": [
          "2012-01-01T00:00:00",
          "2013-01-01T00:00:00",
          "2014-01-01T00:00:00",
          "2015-01-01T00:00:00",
          "2016-01-01T00:00:00",
          "2017-01-01T00:00:00",
          "2018-01-01T00:00:00",
          "2019-01-01T00:00:00",
          "2020-01-01T00:00:00",
          "2021-01-01T00:00:00",
          "2022-01-01T00:00:00",
          "2023-01-01T00:00:00",
          "2024-01-01T00:00:00",
          "2025-01-01T00:00:00"
         ],
         "y": [
          63095.73444801956,
          50118.72336272742,
          39810.71705534987,
          31622.77660168391,
          25118.864315095892,
          19952.623149688872,
          15848.93192461119,
          12589.254117941717,
          10000.000000000036,
          7943.282347242845,
          6309.573444801957,
          5011.8723362727405,
          3981.071705534986,
          3162.2776601683904
         ]
        },
        {
         "line": {
          "color": "rgb(200, 200, 200)",
          "width": 1
         },
         "mode": "lines",
         "name": "-0.1 OOMs/year",
         "showlegend": false,
         "type": "scatter",
         "x": [
          "2012-01-01T00:00:00",
          "2013-01-01T00:00:00",
          "2014-01-01T00:00:00",
          "2015-01-01T00:00:00",
          "2016-01-01T00:00:00",
          "2017-01-01T00:00:00",
          "2018-01-01T00:00:00",
          "2019-01-01T00:00:00",
          "2020-01-01T00:00:00",
          "2021-01-01T00:00:00",
          "2022-01-01T00:00:00",
          "2023-01-01T00:00:00",
          "2024-01-01T00:00:00",
          "2025-01-01T00:00:00"
         ],
         "y": [
          79432.82347242854,
          63095.73444801963,
          50118.723362727476,
          39810.717055349916,
          31622.776601683945,
          25118.864315095925,
          19952.62314968889,
          15848.93192461121,
          12589.254117941733,
          10000.00000000005,
          7943.2823472428545,
          6309.573444801963,
          5011.872336272746,
          3981.0717055349915
         ]
        },
        {
         "line": {
          "color": "rgb(200, 200, 200)",
          "width": 1
         },
         "mode": "lines",
         "name": "-0.1 OOMs/year",
         "showlegend": false,
         "type": "scatter",
         "x": [
          "2012-01-01T00:00:00",
          "2013-01-01T00:00:00",
          "2014-01-01T00:00:00",
          "2015-01-01T00:00:00",
          "2016-01-01T00:00:00",
          "2017-01-01T00:00:00",
          "2018-01-01T00:00:00",
          "2019-01-01T00:00:00",
          "2020-01-01T00:00:00",
          "2021-01-01T00:00:00",
          "2022-01-01T00:00:00",
          "2023-01-01T00:00:00",
          "2024-01-01T00:00:00",
          "2025-01-01T00:00:00"
         ],
         "y": [
          100000.00000000041,
          79432.82347242847,
          63095.73444801958,
          50118.723362727425,
          39810.71705534988,
          31622.776601683923,
          25118.8643150959,
          19952.623149688872,
          15848.931924611199,
          12589.254117941724,
          10000.000000000042,
          7943.282347242846,
          6309.573444801956,
          5011.872336272742
         ]
        },
        {
         "line": {
          "color": "rgb(200, 200, 200)",
          "width": 1
         },
         "mode": "lines",
         "name": "-0.1 OOMs/year",
         "showlegend": false,
         "type": "scatter",
         "x": [
          "2012-01-01T00:00:00",
          "2013-01-01T00:00:00",
          "2014-01-01T00:00:00",
          "2015-01-01T00:00:00",
          "2016-01-01T00:00:00",
          "2017-01-01T00:00:00",
          "2018-01-01T00:00:00",
          "2019-01-01T00:00:00",
          "2020-01-01T00:00:00",
          "2021-01-01T00:00:00",
          "2022-01-01T00:00:00",
          "2023-01-01T00:00:00",
          "2024-01-01T00:00:00",
          "2025-01-01T00:00:00"
         ],
         "y": [
          125892.54117941714,
          100000.00000000033,
          79432.82347242841,
          63095.73444801953,
          50118.72336272739,
          39810.71705534986,
          31622.77660168389,
          25118.864315095878,
          19952.62314968886,
          15848.931924611188,
          12589.254117941715,
          10000.000000000031,
          7943.282347242838,
          6309.573444801952
         ]
        },
        {
         "line": {
          "color": "rgb(200, 200, 200)",
          "width": 1
         },
         "mode": "lines",
         "name": "-0.1 OOMs/year",
         "showlegend": false,
         "type": "scatter",
         "x": [
          "2012-01-01T00:00:00",
          "2013-01-01T00:00:00",
          "2014-01-01T00:00:00",
          "2015-01-01T00:00:00",
          "2016-01-01T00:00:00",
          "2017-01-01T00:00:00",
          "2018-01-01T00:00:00",
          "2019-01-01T00:00:00",
          "2020-01-01T00:00:00",
          "2021-01-01T00:00:00",
          "2022-01-01T00:00:00",
          "2023-01-01T00:00:00",
          "2024-01-01T00:00:00",
          "2025-01-01T00:00:00"
         ],
         "y": [
          158489.31924611205,
          125892.54117941727,
          100000.00000000044,
          79432.8234724285,
          63095.7344480196,
          50118.723362727455,
          39810.717055349895,
          31622.776601683927,
          25118.86431509591,
          19952.623149688887,
          15848.931924611206,
          12589.254117941726,
          10000.00000000004,
          7943.282347242849
         ]
        },
        {
         "line": {
          "color": "rgb(200, 200, 200)",
          "width": 1
         },
         "mode": "lines",
         "name": "-0.1 OOMs/year",
         "showlegend": false,
         "type": "scatter",
         "x": [
          "2012-01-01T00:00:00",
          "2013-01-01T00:00:00",
          "2014-01-01T00:00:00",
          "2015-01-01T00:00:00",
          "2016-01-01T00:00:00",
          "2017-01-01T00:00:00",
          "2018-01-01T00:00:00",
          "2019-01-01T00:00:00",
          "2020-01-01T00:00:00",
          "2021-01-01T00:00:00",
          "2022-01-01T00:00:00",
          "2023-01-01T00:00:00",
          "2024-01-01T00:00:00",
          "2025-01-01T00:00:00"
         ],
         "y": [
          199526.23149688912,
          158489.31924611225,
          125892.54117941744,
          100000.00000000057,
          79432.8234724286,
          63095.73444801969,
          50118.723362727505,
          39810.717055349945,
          31622.776601683974,
          25118.864315095947,
          19952.623149688912,
          15848.931924611225,
          12589.25411794174,
          10000.000000000056
         ]
        },
        {
         "line": {
          "color": "rgb(200, 200, 200)",
          "width": 1
         },
         "mode": "lines",
         "name": "-0.1 OOMs/year",
         "showlegend": false,
         "type": "scatter",
         "x": [
          "2012-01-01T00:00:00",
          "2013-01-01T00:00:00",
          "2014-01-01T00:00:00",
          "2015-01-01T00:00:00",
          "2016-01-01T00:00:00",
          "2017-01-01T00:00:00",
          "2018-01-01T00:00:00",
          "2019-01-01T00:00:00",
          "2020-01-01T00:00:00",
          "2021-01-01T00:00:00",
          "2022-01-01T00:00:00",
          "2023-01-01T00:00:00",
          "2024-01-01T00:00:00",
          "2025-01-01T00:00:00"
         ],
         "y": [
          251188.64315095925,
          199526.23149688894,
          158489.31924611214,
          125892.54117941733,
          100000.00000000048,
          79432.82347242854,
          63095.734448019626,
          50118.72336272746,
          39810.71705534992,
          31622.776601683952,
          25118.864315095925,
          19952.62314968889,
          15848.931924611208,
          12589.254117941733
         ]
        },
        {
         "line": {
          "color": "rgb(200, 200, 200)",
          "width": 1
         },
         "mode": "lines",
         "name": "-0.1 OOMs/year",
         "showlegend": false,
         "type": "scatter",
         "x": [
          "2012-01-01T00:00:00",
          "2013-01-01T00:00:00",
          "2014-01-01T00:00:00",
          "2015-01-01T00:00:00",
          "2016-01-01T00:00:00",
          "2017-01-01T00:00:00",
          "2018-01-01T00:00:00",
          "2019-01-01T00:00:00",
          "2020-01-01T00:00:00",
          "2021-01-01T00:00:00",
          "2022-01-01T00:00:00",
          "2023-01-01T00:00:00",
          "2024-01-01T00:00:00",
          "2025-01-01T00:00:00"
         ],
         "y": [
          316227.76601683925,
          251188.64315095905,
          199526.2314968888,
          158489.319246112,
          125892.54117941723,
          100000.00000000042,
          79432.82347242847,
          63095.734448019575,
          50118.72336272743,
          39810.717055349895,
          31622.776601683927,
          25118.864315095903,
          19952.623149688872,
          15848.931924611197
         ]
        },
        {
         "line": {
          "color": "rgb(200, 200, 200)",
          "width": 1
         },
         "mode": "lines",
         "name": "-0.1 OOMs/year",
         "showlegend": false,
         "type": "scatter",
         "x": [
          "2012-01-01T00:00:00",
          "2013-01-01T00:00:00",
          "2014-01-01T00:00:00",
          "2015-01-01T00:00:00",
          "2016-01-01T00:00:00",
          "2017-01-01T00:00:00",
          "2018-01-01T00:00:00",
          "2019-01-01T00:00:00",
          "2020-01-01T00:00:00",
          "2021-01-01T00:00:00",
          "2022-01-01T00:00:00",
          "2023-01-01T00:00:00",
          "2024-01-01T00:00:00",
          "2025-01-01T00:00:00"
         ],
         "y": [
          398107.17055349937,
          316227.7660168396,
          251188.64315095934,
          199526.231496889,
          158489.31924611217,
          125892.5411794174,
          100000.00000000051,
          79432.82347242856,
          63095.734448019655,
          50118.7233627275,
          39810.71705534994,
          31622.776601683956,
          25118.864315095925,
          19952.623149688898
         ]
        },
        {
         "line": {
          "color": "rgb(200, 200, 200)",
          "width": 1
         },
         "mode": "lines",
         "name": "-0.1 OOMs/year",
         "showlegend": false,
         "type": "scatter",
         "x": [
          "2012-01-01T00:00:00",
          "2013-01-01T00:00:00",
          "2014-01-01T00:00:00",
          "2015-01-01T00:00:00",
          "2016-01-01T00:00:00",
          "2017-01-01T00:00:00",
          "2018-01-01T00:00:00",
          "2019-01-01T00:00:00",
          "2020-01-01T00:00:00",
          "2021-01-01T00:00:00",
          "2022-01-01T00:00:00",
          "2023-01-01T00:00:00",
          "2024-01-01T00:00:00",
          "2025-01-01T00:00:00"
         ],
         "y": [
          501187.23362727556,
          398107.17055349983,
          316227.76601684,
          251188.64315095963,
          199526.23149688923,
          158489.3192461124,
          125892.54117941752,
          100000.00000000064,
          79432.82347242867,
          63095.73444801974,
          50118.72336272756,
          39810.71705534998,
          31622.77660168399,
          25118.86431509596
         ]
        },
        {
         "line": {
          "color": "rgb(200, 200, 200)",
          "width": 1
         },
         "mode": "lines",
         "name": "-0.1 OOMs/year",
         "showlegend": false,
         "type": "scatter",
         "x": [
          "2012-01-01T00:00:00",
          "2013-01-01T00:00:00",
          "2014-01-01T00:00:00",
          "2015-01-01T00:00:00",
          "2016-01-01T00:00:00",
          "2017-01-01T00:00:00",
          "2018-01-01T00:00:00",
          "2019-01-01T00:00:00",
          "2020-01-01T00:00:00",
          "2021-01-01T00:00:00",
          "2022-01-01T00:00:00",
          "2023-01-01T00:00:00",
          "2024-01-01T00:00:00",
          "2025-01-01T00:00:00"
         ],
         "y": [
          630957.3444801968,
          501187.2336272751,
          398107.1705534995,
          316227.7660168397,
          251188.6431509594,
          199526.2314968891,
          158489.31924611222,
          125892.54117941741,
          100000.00000000057,
          79432.8234724286,
          63095.734448019684,
          50118.723362727505,
          39810.71705534994,
          31622.776601683967
         ]
        },
        {
         "line": {
          "color": "rgb(200, 200, 200)",
          "width": 1
         },
         "mode": "lines",
         "name": "-0.1 OOMs/year",
         "showlegend": false,
         "type": "scatter",
         "x": [
          "2012-01-01T00:00:00",
          "2013-01-01T00:00:00",
          "2014-01-01T00:00:00",
          "2015-01-01T00:00:00",
          "2016-01-01T00:00:00",
          "2017-01-01T00:00:00",
          "2018-01-01T00:00:00",
          "2019-01-01T00:00:00",
          "2020-01-01T00:00:00",
          "2021-01-01T00:00:00",
          "2022-01-01T00:00:00",
          "2023-01-01T00:00:00",
          "2024-01-01T00:00:00",
          "2025-01-01T00:00:00"
         ],
         "y": [
          794328.2347242854,
          630957.3444801964,
          501187.23362727475,
          398107.1705534992,
          316227.7660168395,
          251188.64315095925,
          199526.2314968889,
          158489.3192461121,
          125892.54117941734,
          100000.0000000005,
          79432.82347242854,
          63095.734448019626,
          50118.72336272746,
          39810.717055349916
         ]
        },
        {
         "line": {
          "color": "rgb(200, 200, 200)",
          "width": 1
         },
         "mode": "lines",
         "name": "-0.1 OOMs/year",
         "showlegend": false,
         "type": "scatter",
         "x": [
          "2012-01-01T00:00:00",
          "2013-01-01T00:00:00",
          "2014-01-01T00:00:00",
          "2015-01-01T00:00:00",
          "2016-01-01T00:00:00",
          "2017-01-01T00:00:00",
          "2018-01-01T00:00:00",
          "2019-01-01T00:00:00",
          "2020-01-01T00:00:00",
          "2021-01-01T00:00:00",
          "2022-01-01T00:00:00",
          "2023-01-01T00:00:00",
          "2024-01-01T00:00:00",
          "2025-01-01T00:00:00"
         ],
         "y": [
          1000000.0000000062,
          794328.2347242864,
          630957.3444801972,
          501187.23362727533,
          398107.17055349966,
          316227.7660168399,
          251188.6431509595,
          199526.23149688914,
          158489.3192461123,
          125892.5411794175,
          100000.00000000063,
          79432.82347242863,
          63095.73444801969,
          50118.72336272753
         ]
        },
        {
         "line": {
          "color": "rgb(200, 200, 200)",
          "width": 1
         },
         "mode": "lines",
         "name": "-0.1 OOMs/year",
         "showlegend": false,
         "type": "scatter",
         "x": [
          "2012-01-01T00:00:00",
          "2013-01-01T00:00:00",
          "2014-01-01T00:00:00",
          "2015-01-01T00:00:00",
          "2016-01-01T00:00:00",
          "2017-01-01T00:00:00",
          "2018-01-01T00:00:00",
          "2019-01-01T00:00:00",
          "2020-01-01T00:00:00",
          "2021-01-01T00:00:00",
          "2022-01-01T00:00:00",
          "2023-01-01T00:00:00",
          "2024-01-01T00:00:00",
          "2025-01-01T00:00:00"
         ],
         "y": [
          1258925.4117941766,
          1000000.0000000075,
          794328.2347242874,
          630957.3444801979,
          501187.233627276,
          398107.17055350024,
          316227.76601684024,
          251188.64315095983,
          199526.23149688944,
          158489.31924611254,
          125892.54117941766,
          100000.00000000073,
          79432.82347242872,
          63095.734448019786
         ]
        },
        {
         "line": {
          "color": "rgb(200, 200, 200)",
          "width": 1
         },
         "mode": "lines",
         "name": "-0.1 OOMs/year",
         "showlegend": false,
         "type": "scatter",
         "x": [
          "2012-01-01T00:00:00",
          "2013-01-01T00:00:00",
          "2014-01-01T00:00:00",
          "2015-01-01T00:00:00",
          "2016-01-01T00:00:00",
          "2017-01-01T00:00:00",
          "2018-01-01T00:00:00",
          "2019-01-01T00:00:00",
          "2020-01-01T00:00:00",
          "2021-01-01T00:00:00",
          "2022-01-01T00:00:00",
          "2023-01-01T00:00:00",
          "2024-01-01T00:00:00",
          "2025-01-01T00:00:00"
         ],
         "y": [
          1584893.192461124,
          1258925.4117941754,
          1000000.0000000066,
          794328.2347242867,
          630957.3444801973,
          501187.2336272756,
          398107.1705534998,
          316227.76601683995,
          251188.64315095966,
          199526.2314968893,
          158489.3192461124,
          125892.54117941753,
          100000.00000000063,
          79432.82347242866
         ]
        },
        {
         "line": {
          "color": "rgb(200, 200, 200)",
          "width": 1
         },
         "mode": "lines",
         "name": "-0.1 OOMs/year",
         "showlegend": false,
         "type": "scatter",
         "x": [
          "2012-01-01T00:00:00",
          "2013-01-01T00:00:00",
          "2014-01-01T00:00:00",
          "2015-01-01T00:00:00",
          "2016-01-01T00:00:00",
          "2017-01-01T00:00:00",
          "2018-01-01T00:00:00",
          "2019-01-01T00:00:00",
          "2020-01-01T00:00:00",
          "2021-01-01T00:00:00",
          "2022-01-01T00:00:00",
          "2023-01-01T00:00:00",
          "2024-01-01T00:00:00",
          "2025-01-01T00:00:00"
         ],
         "y": [
          1995262.314968891,
          1584893.1924611225,
          1258925.4117941745,
          1000000.0000000056,
          794328.2347242859,
          630957.3444801968,
          501187.23362727504,
          398107.1705534994,
          316227.7660168397,
          251188.64315095945,
          199526.23149688912,
          158489.31924611222,
          125892.5411794174,
          100000.00000000055
         ]
        },
        {
         "line": {
          "color": "rgb(200, 200, 200)",
          "width": 1
         },
         "mode": "lines",
         "name": "-0.1 OOMs/year",
         "showlegend": false,
         "type": "scatter",
         "x": [
          "2012-01-01T00:00:00",
          "2013-01-01T00:00:00",
          "2014-01-01T00:00:00",
          "2015-01-01T00:00:00",
          "2016-01-01T00:00:00",
          "2017-01-01T00:00:00",
          "2018-01-01T00:00:00",
          "2019-01-01T00:00:00",
          "2020-01-01T00:00:00",
          "2021-01-01T00:00:00",
          "2022-01-01T00:00:00",
          "2023-01-01T00:00:00",
          "2024-01-01T00:00:00",
          "2025-01-01T00:00:00"
         ],
         "y": [
          2511886.4315095977,
          1995262.3149688935,
          1584893.1924611246,
          1258925.4117941759,
          1000000.0000000069,
          794328.2347242871,
          630957.3444801975,
          501187.2336272757,
          398107.1705535,
          316227.7660168402,
          251188.64315095978,
          199526.23149688932,
          158489.3192461124,
          125892.54117941757
         ]
        },
        {
         "line": {
          "color": "rgb(200, 200, 200)",
          "width": 1
         },
         "mode": "lines",
         "name": "-0.1 OOMs/year",
         "showlegend": false,
         "type": "scatter",
         "x": [
          "2012-01-01T00:00:00",
          "2013-01-01T00:00:00",
          "2014-01-01T00:00:00",
          "2015-01-01T00:00:00",
          "2016-01-01T00:00:00",
          "2017-01-01T00:00:00",
          "2018-01-01T00:00:00",
          "2019-01-01T00:00:00",
          "2020-01-01T00:00:00",
          "2021-01-01T00:00:00",
          "2022-01-01T00:00:00",
          "2023-01-01T00:00:00",
          "2024-01-01T00:00:00",
          "2025-01-01T00:00:00"
         ],
         "y": [
          3162277.660168405,
          2511886.4315096005,
          1995262.3149688959,
          1584893.1924611263,
          1258925.4117941773,
          1000000.0000000081,
          794328.2347242879,
          630957.3444801982,
          501187.2336272764,
          398107.17055350053,
          316227.7660168405,
          251188.64315096004,
          199526.23149688952,
          158489.31924611263
         ]
        },
        {
         "line": {
          "color": "rgb(200, 200, 200)",
          "width": 1
         },
         "mode": "lines",
         "name": "-0.1 OOMs/year",
         "showlegend": false,
         "type": "scatter",
         "x": [
          "2012-01-01T00:00:00",
          "2013-01-01T00:00:00",
          "2014-01-01T00:00:00",
          "2015-01-01T00:00:00",
          "2016-01-01T00:00:00",
          "2017-01-01T00:00:00",
          "2018-01-01T00:00:00",
          "2019-01-01T00:00:00",
          "2020-01-01T00:00:00",
          "2021-01-01T00:00:00",
          "2022-01-01T00:00:00",
          "2023-01-01T00:00:00",
          "2024-01-01T00:00:00",
          "2025-01-01T00:00:00"
         ],
         "y": [
          3981071.7055350016,
          3162277.6601684024,
          2511886.4315095986,
          1995262.314968894,
          1584893.1924611249,
          1258925.4117941763,
          1000000.0000000071,
          794328.2347242872,
          630957.3444801979,
          501187.233627276,
          398107.1705535002,
          316227.7660168402,
          251188.64315095975,
          199526.23149688938
         ]
        },
        {
         "line": {
          "color": "rgb(200, 200, 200)",
          "width": 1
         },
         "mode": "lines",
         "name": "-0.1 OOMs/year",
         "showlegend": false,
         "type": "scatter",
         "x": [
          "2012-01-01T00:00:00",
          "2013-01-01T00:00:00",
          "2014-01-01T00:00:00",
          "2015-01-01T00:00:00",
          "2016-01-01T00:00:00",
          "2017-01-01T00:00:00",
          "2018-01-01T00:00:00",
          "2019-01-01T00:00:00",
          "2020-01-01T00:00:00",
          "2021-01-01T00:00:00",
          "2022-01-01T00:00:00",
          "2023-01-01T00:00:00",
          "2024-01-01T00:00:00",
          "2025-01-01T00:00:00"
         ],
         "y": [
          5011872.336272756,
          3981071.7055349983,
          3162277.6601684,
          2511886.4315095963,
          1995262.3149688924,
          1584893.192461124,
          1258925.4117941752,
          1000000.0000000063,
          794328.2347242867,
          630957.3444801974,
          501187.23362727556,
          398107.1705534998,
          316227.7660168399,
          251188.6431509596
         ]
        },
        {
         "line": {
          "color": "rgb(200, 200, 200)",
          "width": 1
         },
         "mode": "lines",
         "name": "-0.1 OOMs/year",
         "showlegend": false,
         "type": "scatter",
         "x": [
          "2012-01-01T00:00:00",
          "2013-01-01T00:00:00",
          "2014-01-01T00:00:00",
          "2015-01-01T00:00:00",
          "2016-01-01T00:00:00",
          "2017-01-01T00:00:00",
          "2018-01-01T00:00:00",
          "2019-01-01T00:00:00",
          "2020-01-01T00:00:00",
          "2021-01-01T00:00:00",
          "2022-01-01T00:00:00",
          "2023-01-01T00:00:00",
          "2024-01-01T00:00:00",
          "2025-01-01T00:00:00"
         ],
         "y": [
          6309573.444801982,
          5011872.336272762,
          3981071.7055350034,
          3162277.6601684038,
          2511886.4315095996,
          1995262.3149688952,
          1584893.1924611256,
          1258925.4117941768,
          1000000.0000000078,
          794328.2347242878,
          630957.3444801982,
          501187.2336272761,
          398107.1705535002,
          316227.76601684035
         ]
        },
        {
         "line": {
          "color": "rgb(200, 200, 200)",
          "width": 1
         },
         "mode": "lines",
         "name": "-0.1 OOMs/year",
         "showlegend": false,
         "type": "scatter",
         "x": [
          "2012-01-01T00:00:00",
          "2013-01-01T00:00:00",
          "2014-01-01T00:00:00",
          "2015-01-01T00:00:00",
          "2016-01-01T00:00:00",
          "2017-01-01T00:00:00",
          "2018-01-01T00:00:00",
          "2019-01-01T00:00:00",
          "2020-01-01T00:00:00",
          "2021-01-01T00:00:00",
          "2022-01-01T00:00:00",
          "2023-01-01T00:00:00",
          "2024-01-01T00:00:00",
          "2025-01-01T00:00:00"
         ],
         "y": [
          7943282.347242886,
          6309573.444801989,
          5011872.336272768,
          3981071.7055350076,
          3162277.6601684075,
          2511886.431509603,
          1995262.314968897,
          1584893.1924611274,
          1258925.4117941784,
          1000000.000000009,
          794328.2347242887,
          630957.3444801988,
          501187.2336272766,
          398107.17055350076
         ]
        },
        {
         "line": {
          "color": "rgb(200, 200, 200)",
          "width": 1
         },
         "mode": "lines",
         "name": "-0.1 OOMs/year",
         "showlegend": false,
         "type": "scatter",
         "x": [
          "2012-01-01T00:00:00",
          "2013-01-01T00:00:00",
          "2014-01-01T00:00:00",
          "2015-01-01T00:00:00",
          "2016-01-01T00:00:00",
          "2017-01-01T00:00:00",
          "2018-01-01T00:00:00",
          "2019-01-01T00:00:00",
          "2020-01-01T00:00:00",
          "2021-01-01T00:00:00",
          "2022-01-01T00:00:00",
          "2023-01-01T00:00:00",
          "2024-01-01T00:00:00",
          "2025-01-01T00:00:00"
         ],
         "y": [
          10000000.000000082,
          7943282.34724288,
          6309573.444801984,
          5011872.336272763,
          3981071.705535005,
          3162277.660168405,
          2511886.4315096,
          1995262.3149688956,
          1584893.1924611265,
          1258925.4117941775,
          1000000.0000000083,
          794328.2347242879,
          630957.3444801982,
          501187.2336272763
         ]
        },
        {
         "line": {
          "color": "rgb(200, 200, 200)",
          "width": 1
         },
         "mode": "lines",
         "name": "-0.1 OOMs/year",
         "showlegend": false,
         "type": "scatter",
         "x": [
          "2012-01-01T00:00:00",
          "2013-01-01T00:00:00",
          "2014-01-01T00:00:00",
          "2015-01-01T00:00:00",
          "2016-01-01T00:00:00",
          "2017-01-01T00:00:00",
          "2018-01-01T00:00:00",
          "2019-01-01T00:00:00",
          "2020-01-01T00:00:00",
          "2021-01-01T00:00:00",
          "2022-01-01T00:00:00",
          "2023-01-01T00:00:00",
          "2024-01-01T00:00:00",
          "2025-01-01T00:00:00"
         ],
         "y": [
          12589254.117941765,
          10000000.000000075,
          7943282.347242874,
          6309573.444801979,
          5011872.336272759,
          3981071.705535002,
          3162277.660168402,
          2511886.431509598,
          1995262.3149688942,
          1584893.1924611253,
          1258925.4117941766,
          1000000.0000000072,
          794328.2347242871,
          630957.3444801978
         ]
        },
        {
         "line": {
          "color": "rgb(200, 200, 200)",
          "width": 1
         },
         "mode": "lines",
         "name": "-0.1 OOMs/year",
         "showlegend": false,
         "type": "scatter",
         "x": [
          "2012-01-01T00:00:00",
          "2013-01-01T00:00:00",
          "2014-01-01T00:00:00",
          "2015-01-01T00:00:00",
          "2016-01-01T00:00:00",
          "2017-01-01T00:00:00",
          "2018-01-01T00:00:00",
          "2019-01-01T00:00:00",
          "2020-01-01T00:00:00",
          "2021-01-01T00:00:00",
          "2022-01-01T00:00:00",
          "2023-01-01T00:00:00",
          "2024-01-01T00:00:00",
          "2025-01-01T00:00:00"
         ],
         "y": [
          15848931.92461127,
          12589254.11794178,
          10000000.000000086,
          7943282.3472428825,
          6309573.444801985,
          5011872.336272766,
          3981071.705535006,
          3162277.6601684056,
          2511886.4315096014,
          1995262.3149688968,
          1584893.1924611272,
          1258925.4117941777,
          1000000.0000000081,
          794328.2347242881
         ]
        },
        {
         "line": {
          "color": "rgb(200, 200, 200)",
          "width": 1
         },
         "mode": "lines",
         "name": "-0.1 OOMs/year",
         "showlegend": false,
         "type": "scatter",
         "x": [
          "2012-01-01T00:00:00",
          "2013-01-01T00:00:00",
          "2014-01-01T00:00:00",
          "2015-01-01T00:00:00",
          "2016-01-01T00:00:00",
          "2017-01-01T00:00:00",
          "2018-01-01T00:00:00",
          "2019-01-01T00:00:00",
          "2020-01-01T00:00:00",
          "2021-01-01T00:00:00",
          "2022-01-01T00:00:00",
          "2023-01-01T00:00:00",
          "2024-01-01T00:00:00",
          "2025-01-01T00:00:00"
         ],
         "y": [
          19952623.149688993,
          15848931.92461129,
          12589254.117941797,
          10000000.000000097,
          7943282.347242893,
          6309573.444801995,
          5011872.3362727715,
          3981071.705535011,
          3162277.6601684103,
          2511886.431509605,
          1995262.3149688994,
          1584893.1924611288,
          1258925.4117941791,
          1000000.0000000097
         ]
        },
        {
         "line": {
          "color": "rgb(200, 200, 200)",
          "width": 1
         },
         "mode": "lines",
         "name": "-0.1 OOMs/year",
         "showlegend": false,
         "type": "scatter",
         "x": [
          "2012-01-01T00:00:00",
          "2013-01-01T00:00:00",
          "2014-01-01T00:00:00",
          "2015-01-01T00:00:00",
          "2016-01-01T00:00:00",
          "2017-01-01T00:00:00",
          "2018-01-01T00:00:00",
          "2019-01-01T00:00:00",
          "2020-01-01T00:00:00",
          "2021-01-01T00:00:00",
          "2022-01-01T00:00:00",
          "2023-01-01T00:00:00",
          "2024-01-01T00:00:00",
          "2025-01-01T00:00:00"
         ],
         "y": [
          25118864.31509603,
          19952623.149688978,
          15848931.924611278,
          12589254.117941786,
          10000000.00000009,
          7943282.347242887,
          6309573.444801988,
          5011872.336272767,
          3981071.7055350086,
          3162277.660168408,
          2511886.431509603,
          1995262.3149688973,
          1584893.1924611272,
          1258925.4117941784
         ]
        },
        {
         "line": {
          "color": "rgb(200, 200, 200)",
          "width": 1
         },
         "mode": "lines",
         "name": "-0.1 OOMs/year",
         "showlegend": false,
         "type": "scatter",
         "x": [
          "2012-01-01T00:00:00",
          "2013-01-01T00:00:00",
          "2014-01-01T00:00:00",
          "2015-01-01T00:00:00",
          "2016-01-01T00:00:00",
          "2017-01-01T00:00:00",
          "2018-01-01T00:00:00",
          "2019-01-01T00:00:00",
          "2020-01-01T00:00:00",
          "2021-01-01T00:00:00",
          "2022-01-01T00:00:00",
          "2023-01-01T00:00:00",
          "2024-01-01T00:00:00",
          "2025-01-01T00:00:00"
         ],
         "y": [
          31622776.601684052,
          25118864.315096006,
          19952623.14968896,
          15848931.924611263,
          12589254.117941774,
          10000000.000000082,
          7943282.347242879,
          6309573.4448019825,
          5011872.336272764,
          3981071.7055350053,
          3162277.6601684056,
          2511886.4315096005,
          1995262.3149688952,
          1584893.1924611263
         ]
        },
        {
         "line": {
          "color": "rgb(200, 200, 200)",
          "width": 1
         },
         "mode": "lines",
         "name": "-0.1 OOMs/year",
         "showlegend": false,
         "type": "scatter",
         "x": [
          "2012-01-01T00:00:00",
          "2013-01-01T00:00:00",
          "2014-01-01T00:00:00",
          "2015-01-01T00:00:00",
          "2016-01-01T00:00:00",
          "2017-01-01T00:00:00",
          "2018-01-01T00:00:00",
          "2019-01-01T00:00:00",
          "2020-01-01T00:00:00",
          "2021-01-01T00:00:00",
          "2022-01-01T00:00:00",
          "2023-01-01T00:00:00",
          "2024-01-01T00:00:00",
          "2025-01-01T00:00:00"
         ],
         "y": [
          39810717.0553501,
          31622776.601684093,
          25118864.31509604,
          19952623.149688985,
          15848931.924611283,
          12589254.117941791,
          10000000.000000093,
          7943282.347242889,
          6309573.444801992,
          5011872.336272771,
          3981071.7055350104,
          3162277.660168409,
          2511886.431509603,
          1995262.3149688982
         ]
        },
        {
         "line": {
          "color": "rgb(200, 200, 200)",
          "width": 1
         },
         "mode": "lines",
         "name": "-0.1 OOMs/year",
         "showlegend": false,
         "type": "scatter",
         "x": [
          "2012-01-01T00:00:00",
          "2013-01-01T00:00:00",
          "2014-01-01T00:00:00",
          "2015-01-01T00:00:00",
          "2016-01-01T00:00:00",
          "2017-01-01T00:00:00",
          "2018-01-01T00:00:00",
          "2019-01-01T00:00:00",
          "2020-01-01T00:00:00",
          "2021-01-01T00:00:00",
          "2022-01-01T00:00:00",
          "2023-01-01T00:00:00",
          "2024-01-01T00:00:00",
          "2025-01-01T00:00:00"
         ],
         "y": [
          50118723.36272776,
          39810717.05535015,
          31622776.60168413,
          25118864.315096065,
          19952623.149689008,
          15848931.924611304,
          12589254.117941802,
          10000000.000000104,
          7943282.347242899,
          6309573.444802,
          5011872.336272776,
          3981071.705535014,
          3162277.6601684117,
          2511886.4315096065
         ]
        },
        {
         "line": {
          "color": "rgb(200, 200, 200)",
          "width": 1
         },
         "mode": "lines",
         "name": "-0.1 OOMs/year",
         "showlegend": false,
         "type": "scatter",
         "x": [
          "2012-01-01T00:00:00",
          "2013-01-01T00:00:00",
          "2014-01-01T00:00:00",
          "2015-01-01T00:00:00",
          "2016-01-01T00:00:00",
          "2017-01-01T00:00:00",
          "2018-01-01T00:00:00",
          "2019-01-01T00:00:00",
          "2020-01-01T00:00:00",
          "2021-01-01T00:00:00",
          "2022-01-01T00:00:00",
          "2023-01-01T00:00:00",
          "2024-01-01T00:00:00",
          "2025-01-01T00:00:00"
         ],
         "y": [
          63095734.448019944,
          50118723.36272772,
          39810717.05535012,
          31622776.6016841,
          25118864.315096043,
          19952623.149688993,
          15848931.924611287,
          12589254.117941793,
          10000000.000000099,
          7943282.347242894,
          6309573.444801995,
          5011872.3362727715,
          3981071.70553501,
          3162277.66016841
         ]
        },
        {
         "line": {
          "color": "rgb(200, 200, 200)",
          "width": 1
         },
         "mode": "lines",
         "name": "-0.1 OOMs/year",
         "showlegend": false,
         "type": "scatter",
         "x": [
          "2012-01-01T00:00:00",
          "2013-01-01T00:00:00",
          "2014-01-01T00:00:00",
          "2015-01-01T00:00:00",
          "2016-01-01T00:00:00",
          "2017-01-01T00:00:00",
          "2018-01-01T00:00:00",
          "2019-01-01T00:00:00",
          "2020-01-01T00:00:00",
          "2021-01-01T00:00:00",
          "2022-01-01T00:00:00",
          "2023-01-01T00:00:00",
          "2024-01-01T00:00:00",
          "2025-01-01T00:00:00"
         ],
         "y": [
          79432823.47242886,
          63095734.448019885,
          50118723.36272767,
          39810717.05535008,
          31622776.60168407,
          25118864.315096024,
          19952623.14968897,
          15848931.924611272,
          12589254.117941784,
          10000000.00000009,
          7943282.347242886,
          6309573.444801988,
          5011872.336272766,
          3981071.705535007
         ]
        },
        {
         "line": {
          "color": "rgb(200, 200, 200)",
          "width": 1
         },
         "mode": "lines",
         "name": "-0.1 OOMs/year",
         "showlegend": false,
         "type": "scatter",
         "x": [
          "2012-01-01T00:00:00",
          "2013-01-01T00:00:00",
          "2014-01-01T00:00:00",
          "2015-01-01T00:00:00",
          "2016-01-01T00:00:00",
          "2017-01-01T00:00:00",
          "2018-01-01T00:00:00",
          "2019-01-01T00:00:00",
          "2020-01-01T00:00:00",
          "2021-01-01T00:00:00",
          "2022-01-01T00:00:00",
          "2023-01-01T00:00:00",
          "2024-01-01T00:00:00",
          "2025-01-01T00:00:00"
         ],
         "y": [
          100000000.00000082,
          79432823.4724288,
          63095734.44801984,
          50118723.362727635,
          39810717.05535004,
          31622776.601684052,
          25118864.315096002,
          19952623.149688955,
          15848931.924611265,
          12589254.117941776,
          10000000.000000082,
          7943282.347242879,
          6309573.444801982,
          5011872.336272763
         ]
        },
        {
         "line": {
          "color": "rgb(200, 200, 200)",
          "width": 1
         },
         "mode": "lines",
         "name": "-0.1 OOMs/year",
         "showlegend": false,
         "type": "scatter",
         "x": [
          "2012-01-01T00:00:00",
          "2013-01-01T00:00:00",
          "2014-01-01T00:00:00",
          "2015-01-01T00:00:00",
          "2016-01-01T00:00:00",
          "2017-01-01T00:00:00",
          "2018-01-01T00:00:00",
          "2019-01-01T00:00:00",
          "2020-01-01T00:00:00",
          "2021-01-01T00:00:00",
          "2022-01-01T00:00:00",
          "2023-01-01T00:00:00",
          "2024-01-01T00:00:00",
          "2025-01-01T00:00:00"
         ],
         "y": [
          125892541.17941816,
          100000000.00000115,
          79432823.47242905,
          63095734.44802004,
          50118723.3627278,
          39810717.055350184,
          31622776.60168415,
          25118864.315096084,
          19952623.149689022,
          15848931.924611317,
          12589254.117941817,
          10000000.000000114,
          7943282.347242903,
          6309573.444802004
         ]
        },
        {
         "line": {
          "color": "rgb(200, 200, 200)",
          "width": 1
         },
         "mode": "lines",
         "name": "-0.1 OOMs/year",
         "showlegend": false,
         "type": "scatter",
         "x": [
          "2012-01-01T00:00:00",
          "2013-01-01T00:00:00",
          "2014-01-01T00:00:00",
          "2015-01-01T00:00:00",
          "2016-01-01T00:00:00",
          "2017-01-01T00:00:00",
          "2018-01-01T00:00:00",
          "2019-01-01T00:00:00",
          "2020-01-01T00:00:00",
          "2021-01-01T00:00:00",
          "2022-01-01T00:00:00",
          "2023-01-01T00:00:00",
          "2024-01-01T00:00:00",
          "2025-01-01T00:00:00"
         ],
         "y": [
          158489319.24611303,
          125892541.17941806,
          100000000.00000106,
          79432823.47242899,
          63095734.44801999,
          50118723.36272776,
          39810717.05535014,
          31622776.601684123,
          25118864.315096065,
          19952623.149689008,
          15848931.924611304,
          12589254.117941804,
          10000000.000000102,
          7943282.347242898
         ]
        },
        {
         "line": {
          "color": "rgb(200, 200, 200)",
          "width": 1
         },
         "mode": "lines",
         "name": "-0.1 OOMs/year",
         "showlegend": false,
         "type": "scatter",
         "x": [
          "2012-01-01T00:00:00",
          "2013-01-01T00:00:00",
          "2014-01-01T00:00:00",
          "2015-01-01T00:00:00",
          "2016-01-01T00:00:00",
          "2017-01-01T00:00:00",
          "2018-01-01T00:00:00",
          "2019-01-01T00:00:00",
          "2020-01-01T00:00:00",
          "2021-01-01T00:00:00",
          "2022-01-01T00:00:00",
          "2023-01-01T00:00:00",
          "2024-01-01T00:00:00",
          "2025-01-01T00:00:00"
         ],
         "y": [
          199526231.49688992,
          158489319.2461129,
          125892541.17941795,
          100000000.00000097,
          79432823.47242892,
          63095734.448019944,
          50118723.36272771,
          39810717.05535011,
          31622776.6016841,
          25118864.31509605,
          19952623.149688993,
          15848931.924611287,
          12589254.117941791,
          10000000.000000097
         ]
        },
        {
         "line": {
          "color": "rgb(200, 200, 200)",
          "width": 1
         },
         "mode": "lines",
         "name": "-0.1 OOMs/year",
         "showlegend": false,
         "type": "scatter",
         "x": [
          "2012-01-01T00:00:00",
          "2013-01-01T00:00:00",
          "2014-01-01T00:00:00",
          "2015-01-01T00:00:00",
          "2016-01-01T00:00:00",
          "2017-01-01T00:00:00",
          "2018-01-01T00:00:00",
          "2019-01-01T00:00:00",
          "2020-01-01T00:00:00",
          "2021-01-01T00:00:00",
          "2022-01-01T00:00:00",
          "2023-01-01T00:00:00",
          "2024-01-01T00:00:00",
          "2025-01-01T00:00:00"
         ],
         "y": [
          251188643.1509613,
          199526231.49689057,
          158489319.24611342,
          125892541.17941837,
          100000000.0000013,
          79432823.4724292,
          63095734.44802014,
          50118723.36272787,
          39810717.055350244,
          31622776.60168421,
          25118864.315096132,
          19952623.149689056,
          15848931.924611337,
          12589254.117941836
         ]
        },
        {
         "line": {
          "color": "rgb(200, 200, 200)",
          "width": 1
         },
         "mode": "lines",
         "name": "-0.1 OOMs/year",
         "showlegend": false,
         "type": "scatter",
         "x": [
          "2012-01-01T00:00:00",
          "2013-01-01T00:00:00",
          "2014-01-01T00:00:00",
          "2015-01-01T00:00:00",
          "2016-01-01T00:00:00",
          "2017-01-01T00:00:00",
          "2018-01-01T00:00:00",
          "2019-01-01T00:00:00",
          "2020-01-01T00:00:00",
          "2021-01-01T00:00:00",
          "2022-01-01T00:00:00",
          "2023-01-01T00:00:00",
          "2024-01-01T00:00:00",
          "2025-01-01T00:00:00"
         ],
         "y": [
          316227766.0168418,
          251188643.1509611,
          199526231.49689043,
          158489319.2461133,
          125892541.17941825,
          100000000.00000124,
          79432823.47242911,
          63095734.448020086,
          50118723.36272784,
          39810717.055350214,
          31622776.601684183,
          25118864.315096106,
          19952623.149689034,
          15848931.924611328
         ]
        },
        {
         "line": {
          "color": "rgb(200, 200, 200)",
          "width": 1
         },
         "mode": "lines",
         "name": "-0.1 OOMs/year",
         "showlegend": false,
         "type": "scatter",
         "x": [
          "2012-01-01T00:00:00",
          "2013-01-01T00:00:00",
          "2014-01-01T00:00:00",
          "2015-01-01T00:00:00",
          "2016-01-01T00:00:00",
          "2017-01-01T00:00:00",
          "2018-01-01T00:00:00",
          "2019-01-01T00:00:00",
          "2020-01-01T00:00:00",
          "2021-01-01T00:00:00",
          "2022-01-01T00:00:00",
          "2023-01-01T00:00:00",
          "2024-01-01T00:00:00",
          "2025-01-01T00:00:00"
         ],
         "y": [
          398107170.5535018,
          316227766.01684153,
          251188643.15096086,
          199526231.49689022,
          158489319.24611312,
          125892541.17941816,
          100000000.00000112,
          79432823.47242904,
          63095734.44802004,
          50118723.3627278,
          39810717.05535018,
          31622776.60168415,
          25118864.315096077,
          19952623.14968902
         ]
        },
        {
         "line": {
          "color": "rgb(200, 200, 200)",
          "width": 1
         },
         "mode": "lines",
         "name": "-0.1 OOMs/year",
         "showlegend": false,
         "type": "scatter",
         "x": [
          "2012-01-01T00:00:00",
          "2013-01-01T00:00:00",
          "2014-01-01T00:00:00",
          "2015-01-01T00:00:00",
          "2016-01-01T00:00:00",
          "2017-01-01T00:00:00",
          "2018-01-01T00:00:00",
          "2019-01-01T00:00:00",
          "2020-01-01T00:00:00",
          "2021-01-01T00:00:00",
          "2022-01-01T00:00:00",
          "2023-01-01T00:00:00",
          "2024-01-01T00:00:00",
          "2025-01-01T00:00:00"
         ],
         "y": [
          501187233.6272776,
          398107170.5535015,
          316227766.0168413,
          251188643.15096065,
          199526231.49689007,
          158489319.24611303,
          125892541.17941803,
          100000000.00000104,
          79432823.47242899,
          63095734.44802,
          50118723.36272776,
          39810717.05535014,
          31622776.60168412,
          25118864.315096065
         ]
        },
        {
         "line": {
          "color": "rgb(200, 200, 200)",
          "width": 1
         },
         "mode": "lines",
         "name": "-0.1 OOMs/year",
         "showlegend": false,
         "type": "scatter",
         "x": [
          "2012-01-01T00:00:00",
          "2013-01-01T00:00:00",
          "2014-01-01T00:00:00",
          "2015-01-01T00:00:00",
          "2016-01-01T00:00:00",
          "2017-01-01T00:00:00",
          "2018-01-01T00:00:00",
          "2019-01-01T00:00:00",
          "2020-01-01T00:00:00",
          "2021-01-01T00:00:00",
          "2022-01-01T00:00:00",
          "2023-01-01T00:00:00",
          "2024-01-01T00:00:00",
          "2025-01-01T00:00:00"
         ],
         "y": [
          630957344.4801995,
          501187233.6272772,
          398107170.5535012,
          316227766.016841,
          251188643.15096045,
          199526231.49688992,
          158489319.24611288,
          125892541.17941794,
          100000000.00000098,
          79432823.47242893,
          63095734.44801995,
          50118723.36272772,
          39810717.0553501,
          31622776.6016841
         ]
        },
        {
         "line": {
          "color": "rgb(200, 200, 200)",
          "width": 1
         },
         "mode": "lines",
         "name": "-0.1 OOMs/year",
         "showlegend": false,
         "type": "scatter",
         "x": [
          "2012-01-01T00:00:00",
          "2013-01-01T00:00:00",
          "2014-01-01T00:00:00",
          "2015-01-01T00:00:00",
          "2016-01-01T00:00:00",
          "2017-01-01T00:00:00",
          "2018-01-01T00:00:00",
          "2019-01-01T00:00:00",
          "2020-01-01T00:00:00",
          "2021-01-01T00:00:00",
          "2022-01-01T00:00:00",
          "2023-01-01T00:00:00",
          "2024-01-01T00:00:00",
          "2025-01-01T00:00:00"
         ],
         "y": [
          794328234.7242919,
          630957344.4802015,
          501187233.62727886,
          398107170.55350244,
          316227766.01684207,
          251188643.1509613,
          199526231.49689054,
          158489319.2461134,
          125892541.17941837,
          100000000.00000131,
          79432823.4724292,
          63095734.448020145,
          50118723.362727866,
          39810717.055350244
         ]
        },
        {
         "line": {
          "color": "rgb(200, 200, 200)",
          "width": 1
         },
         "mode": "lines",
         "name": "-0.1 OOMs/year",
         "showlegend": false,
         "type": "scatter",
         "x": [
          "2012-01-01T00:00:00",
          "2013-01-01T00:00:00",
          "2014-01-01T00:00:00",
          "2015-01-01T00:00:00",
          "2016-01-01T00:00:00",
          "2017-01-01T00:00:00",
          "2018-01-01T00:00:00",
          "2019-01-01T00:00:00",
          "2020-01-01T00:00:00",
          "2021-01-01T00:00:00",
          "2022-01-01T00:00:00",
          "2023-01-01T00:00:00",
          "2024-01-01T00:00:00",
          "2025-01-01T00:00:00"
         ],
         "y": [
          1000000000.0000123,
          794328234.7242912,
          630957344.480201,
          501187233.6272784,
          398107170.5535021,
          316227766.0168418,
          251188643.15096104,
          199526231.49689037,
          158489319.2461133,
          125892541.17941828,
          100000000.00000124,
          79432823.47242911,
          63095734.44802008,
          50118723.362727836
         ]
        },
        {
         "line": {
          "color": "rgb(200, 200, 200)",
          "width": 1
         },
         "mode": "lines",
         "name": "-0.1 OOMs/year",
         "showlegend": false,
         "type": "scatter",
         "x": [
          "2012-01-01T00:00:00",
          "2013-01-01T00:00:00",
          "2014-01-01T00:00:00",
          "2015-01-01T00:00:00",
          "2016-01-01T00:00:00",
          "2017-01-01T00:00:00",
          "2018-01-01T00:00:00",
          "2019-01-01T00:00:00",
          "2020-01-01T00:00:00",
          "2021-01-01T00:00:00",
          "2022-01-01T00:00:00",
          "2023-01-01T00:00:00",
          "2024-01-01T00:00:00",
          "2025-01-01T00:00:00"
         ],
         "y": [
          1258925411.7941816,
          1000000000.0000114,
          794328234.7242906,
          630957344.4802004,
          501187233.627278,
          398107170.5535018,
          316227766.0168415,
          251188643.15096083,
          199526231.49689022,
          158489319.24611318,
          125892541.17941816,
          100000000.00000113,
          79432823.47242902,
          63095734.44802003
         ]
        },
        {
         "line": {
          "color": "rgb(200, 200, 200)",
          "width": 1
         },
         "mode": "lines",
         "name": "-0.1 OOMs/year",
         "showlegend": false,
         "type": "scatter",
         "x": [
          "2012-01-01T00:00:00",
          "2013-01-01T00:00:00",
          "2014-01-01T00:00:00",
          "2015-01-01T00:00:00",
          "2016-01-01T00:00:00",
          "2017-01-01T00:00:00",
          "2018-01-01T00:00:00",
          "2019-01-01T00:00:00",
          "2020-01-01T00:00:00",
          "2021-01-01T00:00:00",
          "2022-01-01T00:00:00",
          "2023-01-01T00:00:00",
          "2024-01-01T00:00:00",
          "2025-01-01T00:00:00"
         ],
         "y": [
          1584893192.4611368,
          1258925411.7941856,
          1000000000.0000147,
          794328234.7242931,
          630957344.4802024,
          501187233.6272797,
          398107170.55350304,
          316227766.01684254,
          251188643.1509617,
          199526231.4968909,
          158489319.2461137,
          125892541.17941855,
          100000000.00000143,
          79432823.4724293
         ]
        },
        {
         "line": {
          "color": "rgb(200, 200, 200)",
          "width": 1
         },
         "mode": "lines",
         "name": "-0.1 OOMs/year",
         "showlegend": false,
         "type": "scatter",
         "x": [
          "2012-01-01T00:00:00",
          "2013-01-01T00:00:00",
          "2014-01-01T00:00:00",
          "2015-01-01T00:00:00",
          "2016-01-01T00:00:00",
          "2017-01-01T00:00:00",
          "2018-01-01T00:00:00",
          "2019-01-01T00:00:00",
          "2020-01-01T00:00:00",
          "2021-01-01T00:00:00",
          "2022-01-01T00:00:00",
          "2023-01-01T00:00:00",
          "2024-01-01T00:00:00",
          "2025-01-01T00:00:00"
         ],
         "y": [
          1995262314.9689074,
          1584893192.4611356,
          1258925411.7941847,
          1000000000.0000138,
          794328234.7242924,
          630957344.4802021,
          501187233.62727916,
          398107170.5535027,
          316227766.0168423,
          251188643.15096152,
          199526231.49689075,
          158489319.24611354,
          125892541.17941843,
          100000000.00000137
         ]
        },
        {
         "line": {
          "color": "rgb(200, 200, 200)",
          "width": 1
         },
         "mode": "lines",
         "name": "-0.1 OOMs/year",
         "showlegend": false,
         "type": "scatter",
         "x": [
          "2012-01-01T00:00:00",
          "2013-01-01T00:00:00",
          "2014-01-01T00:00:00",
          "2015-01-01T00:00:00",
          "2016-01-01T00:00:00",
          "2017-01-01T00:00:00",
          "2018-01-01T00:00:00",
          "2019-01-01T00:00:00",
          "2020-01-01T00:00:00",
          "2021-01-01T00:00:00",
          "2022-01-01T00:00:00",
          "2023-01-01T00:00:00",
          "2024-01-01T00:00:00",
          "2025-01-01T00:00:00"
         ],
         "y": [
          2511886431.509613,
          1995262314.9689057,
          1584893192.4611342,
          1258925411.7941835,
          1000000000.000013,
          794328234.7242919,
          630957344.4802014,
          501187233.62727875,
          398107170.55350244,
          316227766.01684207,
          251188643.1509613,
          199526231.49689054,
          158489319.24611336,
          125892541.17941836
         ]
        },
        {
         "line": {
          "color": "rgb(200, 200, 200)",
          "width": 1
         },
         "mode": "lines",
         "name": "-0.1 OOMs/year",
         "showlegend": false,
         "type": "scatter",
         "x": [
          "2012-01-01T00:00:00",
          "2013-01-01T00:00:00",
          "2014-01-01T00:00:00",
          "2015-01-01T00:00:00",
          "2016-01-01T00:00:00",
          "2017-01-01T00:00:00",
          "2018-01-01T00:00:00",
          "2019-01-01T00:00:00",
          "2020-01-01T00:00:00",
          "2021-01-01T00:00:00",
          "2022-01-01T00:00:00",
          "2023-01-01T00:00:00",
          "2024-01-01T00:00:00",
          "2025-01-01T00:00:00"
         ],
         "y": [
          3162277660.168418,
          2511886431.5096107,
          1995262314.968904,
          1584893192.4611328,
          1258925411.7941825,
          1000000000.0000123,
          794328234.7242911,
          630957344.4802008,
          501187233.6272784,
          398107170.55350214,
          316227766.0168418,
          251188643.15096104,
          199526231.49689034,
          158489319.24611327
         ]
        },
        {
         "line": {
          "color": "rgb(200, 200, 200)",
          "width": 1
         },
         "mode": "lines",
         "name": "-0.1 OOMs/year",
         "showlegend": false,
         "type": "scatter",
         "x": [
          "2012-01-01T00:00:00",
          "2013-01-01T00:00:00",
          "2014-01-01T00:00:00",
          "2015-01-01T00:00:00",
          "2016-01-01T00:00:00",
          "2017-01-01T00:00:00",
          "2018-01-01T00:00:00",
          "2019-01-01T00:00:00",
          "2020-01-01T00:00:00",
          "2021-01-01T00:00:00",
          "2022-01-01T00:00:00",
          "2023-01-01T00:00:00",
          "2024-01-01T00:00:00",
          "2025-01-01T00:00:00"
         ],
         "y": [
          3981071705.535018,
          3162277660.1684155,
          2511886431.5096087,
          1995262314.968902,
          1584893192.4611313,
          1258925411.7941816,
          1000000000.0000112,
          794328234.7242904,
          630957344.4802004,
          501187233.62727803,
          398107170.55350184,
          316227766.0168415,
          251188643.1509608,
          199526231.49689022
         ]
        },
        {
         "line": {
          "color": "rgb(200, 200, 200)",
          "width": 1
         },
         "mode": "lines",
         "name": "-0.1 OOMs/year",
         "showlegend": false,
         "type": "scatter",
         "x": [
          "2012-01-01T00:00:00",
          "2013-01-01T00:00:00",
          "2014-01-01T00:00:00",
          "2015-01-01T00:00:00",
          "2016-01-01T00:00:00",
          "2017-01-01T00:00:00",
          "2018-01-01T00:00:00",
          "2019-01-01T00:00:00",
          "2020-01-01T00:00:00",
          "2021-01-01T00:00:00",
          "2022-01-01T00:00:00",
          "2023-01-01T00:00:00",
          "2024-01-01T00:00:00",
          "2025-01-01T00:00:00"
         ],
         "y": [
          5011872336.272797,
          3981071705.535031,
          3162277660.168426,
          2511886431.509617,
          1995262314.9689088,
          1584893192.4611368,
          1258925411.7941854,
          1000000000.0000145,
          794328234.7242931,
          630957344.4802026,
          501187233.6272797,
          398107170.55350304,
          316227766.0168425,
          251188643.15096167
         ]
        },
        {
         "line": {
          "color": "rgb(200, 200, 200)",
          "width": 1
         },
         "mode": "lines",
         "name": "-0.1 OOMs/year",
         "showlegend": false,
         "type": "scatter",
         "x": [
          "2012-01-01T00:00:00",
          "2013-01-01T00:00:00",
          "2014-01-01T00:00:00",
          "2015-01-01T00:00:00",
          "2016-01-01T00:00:00",
          "2017-01-01T00:00:00",
          "2018-01-01T00:00:00",
          "2019-01-01T00:00:00",
          "2020-01-01T00:00:00",
          "2021-01-01T00:00:00",
          "2022-01-01T00:00:00",
          "2023-01-01T00:00:00",
          "2024-01-01T00:00:00",
          "2025-01-01T00:00:00"
         ],
         "y": [
          6309573444.80202,
          5011872336.272793,
          3981071705.535028,
          3162277660.168423,
          2511886431.5096145,
          1995262314.9689074,
          1584893192.4611351,
          1258925411.7941844,
          1000000000.0000138,
          794328234.7242925,
          630957344.4802021,
          501187233.62727916,
          398107170.5535026,
          316227766.01684225
         ]
        },
        {
         "line": {
          "color": "rgb(200, 200, 200)",
          "width": 1
         },
         "mode": "lines",
         "name": "-0.1 OOMs/year",
         "showlegend": false,
         "type": "scatter",
         "x": [
          "2012-01-01T00:00:00",
          "2013-01-01T00:00:00",
          "2014-01-01T00:00:00",
          "2015-01-01T00:00:00",
          "2016-01-01T00:00:00",
          "2017-01-01T00:00:00",
          "2018-01-01T00:00:00",
          "2019-01-01T00:00:00",
          "2020-01-01T00:00:00",
          "2021-01-01T00:00:00",
          "2022-01-01T00:00:00",
          "2023-01-01T00:00:00",
          "2024-01-01T00:00:00",
          "2025-01-01T00:00:00"
         ],
         "y": [
          7943282347.242919,
          6309573444.802015,
          5011872336.272788,
          3981071705.535024,
          3162277660.1684203,
          2511886431.509613,
          1995262314.9689052,
          1584893192.461134,
          1258925411.7941837,
          1000000000.0000131,
          794328234.7242919,
          630957344.4802014,
          501187233.6272787,
          398107170.5535024
         ]
        }
       ],
       "layout": {
        "height": 600,
        "template": {
         "data": {
          "bar": [
           {
            "error_x": {
             "color": "#2a3f5f"
            },
            "error_y": {
             "color": "#2a3f5f"
            },
            "marker": {
             "line": {
              "color": "#E5ECF6",
              "width": 0.5
             },
             "pattern": {
              "fillmode": "overlay",
              "size": 10,
              "solidity": 0.2
             }
            },
            "type": "bar"
           }
          ],
          "barpolar": [
           {
            "marker": {
             "line": {
              "color": "#E5ECF6",
              "width": 0.5
             },
             "pattern": {
              "fillmode": "overlay",
              "size": 10,
              "solidity": 0.2
             }
            },
            "type": "barpolar"
           }
          ],
          "carpet": [
           {
            "aaxis": {
             "endlinecolor": "#2a3f5f",
             "gridcolor": "white",
             "linecolor": "white",
             "minorgridcolor": "white",
             "startlinecolor": "#2a3f5f"
            },
            "baxis": {
             "endlinecolor": "#2a3f5f",
             "gridcolor": "white",
             "linecolor": "white",
             "minorgridcolor": "white",
             "startlinecolor": "#2a3f5f"
            },
            "type": "carpet"
           }
          ],
          "choropleth": [
           {
            "colorbar": {
             "outlinewidth": 0,
             "ticks": ""
            },
            "type": "choropleth"
           }
          ],
          "contour": [
           {
            "colorbar": {
             "outlinewidth": 0,
             "ticks": ""
            },
            "colorscale": [
             [
              0,
              "#0d0887"
             ],
             [
              0.1111111111111111,
              "#46039f"
             ],
             [
              0.2222222222222222,
              "#7201a8"
             ],
             [
              0.3333333333333333,
              "#9c179e"
             ],
             [
              0.4444444444444444,
              "#bd3786"
             ],
             [
              0.5555555555555556,
              "#d8576b"
             ],
             [
              0.6666666666666666,
              "#ed7953"
             ],
             [
              0.7777777777777778,
              "#fb9f3a"
             ],
             [
              0.8888888888888888,
              "#fdca26"
             ],
             [
              1,
              "#f0f921"
             ]
            ],
            "type": "contour"
           }
          ],
          "contourcarpet": [
           {
            "colorbar": {
             "outlinewidth": 0,
             "ticks": ""
            },
            "type": "contourcarpet"
           }
          ],
          "heatmap": [
           {
            "colorbar": {
             "outlinewidth": 0,
             "ticks": ""
            },
            "colorscale": [
             [
              0,
              "#0d0887"
             ],
             [
              0.1111111111111111,
              "#46039f"
             ],
             [
              0.2222222222222222,
              "#7201a8"
             ],
             [
              0.3333333333333333,
              "#9c179e"
             ],
             [
              0.4444444444444444,
              "#bd3786"
             ],
             [
              0.5555555555555556,
              "#d8576b"
             ],
             [
              0.6666666666666666,
              "#ed7953"
             ],
             [
              0.7777777777777778,
              "#fb9f3a"
             ],
             [
              0.8888888888888888,
              "#fdca26"
             ],
             [
              1,
              "#f0f921"
             ]
            ],
            "type": "heatmap"
           }
          ],
          "heatmapgl": [
           {
            "colorbar": {
             "outlinewidth": 0,
             "ticks": ""
            },
            "colorscale": [
             [
              0,
              "#0d0887"
             ],
             [
              0.1111111111111111,
              "#46039f"
             ],
             [
              0.2222222222222222,
              "#7201a8"
             ],
             [
              0.3333333333333333,
              "#9c179e"
             ],
             [
              0.4444444444444444,
              "#bd3786"
             ],
             [
              0.5555555555555556,
              "#d8576b"
             ],
             [
              0.6666666666666666,
              "#ed7953"
             ],
             [
              0.7777777777777778,
              "#fb9f3a"
             ],
             [
              0.8888888888888888,
              "#fdca26"
             ],
             [
              1,
              "#f0f921"
             ]
            ],
            "type": "heatmapgl"
           }
          ],
          "histogram": [
           {
            "marker": {
             "pattern": {
              "fillmode": "overlay",
              "size": 10,
              "solidity": 0.2
             }
            },
            "type": "histogram"
           }
          ],
          "histogram2d": [
           {
            "colorbar": {
             "outlinewidth": 0,
             "ticks": ""
            },
            "colorscale": [
             [
              0,
              "#0d0887"
             ],
             [
              0.1111111111111111,
              "#46039f"
             ],
             [
              0.2222222222222222,
              "#7201a8"
             ],
             [
              0.3333333333333333,
              "#9c179e"
             ],
             [
              0.4444444444444444,
              "#bd3786"
             ],
             [
              0.5555555555555556,
              "#d8576b"
             ],
             [
              0.6666666666666666,
              "#ed7953"
             ],
             [
              0.7777777777777778,
              "#fb9f3a"
             ],
             [
              0.8888888888888888,
              "#fdca26"
             ],
             [
              1,
              "#f0f921"
             ]
            ],
            "type": "histogram2d"
           }
          ],
          "histogram2dcontour": [
           {
            "colorbar": {
             "outlinewidth": 0,
             "ticks": ""
            },
            "colorscale": [
             [
              0,
              "#0d0887"
             ],
             [
              0.1111111111111111,
              "#46039f"
             ],
             [
              0.2222222222222222,
              "#7201a8"
             ],
             [
              0.3333333333333333,
              "#9c179e"
             ],
             [
              0.4444444444444444,
              "#bd3786"
             ],
             [
              0.5555555555555556,
              "#d8576b"
             ],
             [
              0.6666666666666666,
              "#ed7953"
             ],
             [
              0.7777777777777778,
              "#fb9f3a"
             ],
             [
              0.8888888888888888,
              "#fdca26"
             ],
             [
              1,
              "#f0f921"
             ]
            ],
            "type": "histogram2dcontour"
           }
          ],
          "mesh3d": [
           {
            "colorbar": {
             "outlinewidth": 0,
             "ticks": ""
            },
            "type": "mesh3d"
           }
          ],
          "parcoords": [
           {
            "line": {
             "colorbar": {
              "outlinewidth": 0,
              "ticks": ""
             }
            },
            "type": "parcoords"
           }
          ],
          "pie": [
           {
            "automargin": true,
            "type": "pie"
           }
          ],
          "scatter": [
           {
            "fillpattern": {
             "fillmode": "overlay",
             "size": 10,
             "solidity": 0.2
            },
            "type": "scatter"
           }
          ],
          "scatter3d": [
           {
            "line": {
             "colorbar": {
              "outlinewidth": 0,
              "ticks": ""
             }
            },
            "marker": {
             "colorbar": {
              "outlinewidth": 0,
              "ticks": ""
             }
            },
            "type": "scatter3d"
           }
          ],
          "scattercarpet": [
           {
            "marker": {
             "colorbar": {
              "outlinewidth": 0,
              "ticks": ""
             }
            },
            "type": "scattercarpet"
           }
          ],
          "scattergeo": [
           {
            "marker": {
             "colorbar": {
              "outlinewidth": 0,
              "ticks": ""
             }
            },
            "type": "scattergeo"
           }
          ],
          "scattergl": [
           {
            "marker": {
             "colorbar": {
              "outlinewidth": 0,
              "ticks": ""
             }
            },
            "type": "scattergl"
           }
          ],
          "scattermapbox": [
           {
            "marker": {
             "colorbar": {
              "outlinewidth": 0,
              "ticks": ""
             }
            },
            "type": "scattermapbox"
           }
          ],
          "scatterpolar": [
           {
            "marker": {
             "colorbar": {
              "outlinewidth": 0,
              "ticks": ""
             }
            },
            "type": "scatterpolar"
           }
          ],
          "scatterpolargl": [
           {
            "marker": {
             "colorbar": {
              "outlinewidth": 0,
              "ticks": ""
             }
            },
            "type": "scatterpolargl"
           }
          ],
          "scatterternary": [
           {
            "marker": {
             "colorbar": {
              "outlinewidth": 0,
              "ticks": ""
             }
            },
            "type": "scatterternary"
           }
          ],
          "surface": [
           {
            "colorbar": {
             "outlinewidth": 0,
             "ticks": ""
            },
            "colorscale": [
             [
              0,
              "#0d0887"
             ],
             [
              0.1111111111111111,
              "#46039f"
             ],
             [
              0.2222222222222222,
              "#7201a8"
             ],
             [
              0.3333333333333333,
              "#9c179e"
             ],
             [
              0.4444444444444444,
              "#bd3786"
             ],
             [
              0.5555555555555556,
              "#d8576b"
             ],
             [
              0.6666666666666666,
              "#ed7953"
             ],
             [
              0.7777777777777778,
              "#fb9f3a"
             ],
             [
              0.8888888888888888,
              "#fdca26"
             ],
             [
              1,
              "#f0f921"
             ]
            ],
            "type": "surface"
           }
          ],
          "table": [
           {
            "cells": {
             "fill": {
              "color": "#EBF0F8"
             },
             "line": {
              "color": "white"
             }
            },
            "header": {
             "fill": {
              "color": "#C8D4E3"
             },
             "line": {
              "color": "white"
             }
            },
            "type": "table"
           }
          ]
         },
         "layout": {
          "annotationdefaults": {
           "arrowcolor": "#2a3f5f",
           "arrowhead": 0,
           "arrowwidth": 1
          },
          "autotypenumbers": "strict",
          "coloraxis": {
           "colorbar": {
            "outlinewidth": 0,
            "ticks": ""
           }
          },
          "colorscale": {
           "diverging": [
            [
             0,
             "#8e0152"
            ],
            [
             0.1,
             "#c51b7d"
            ],
            [
             0.2,
             "#de77ae"
            ],
            [
             0.3,
             "#f1b6da"
            ],
            [
             0.4,
             "#fde0ef"
            ],
            [
             0.5,
             "#f7f7f7"
            ],
            [
             0.6,
             "#e6f5d0"
            ],
            [
             0.7,
             "#b8e186"
            ],
            [
             0.8,
             "#7fbc41"
            ],
            [
             0.9,
             "#4d9221"
            ],
            [
             1,
             "#276419"
            ]
           ],
           "sequential": [
            [
             0,
             "#0d0887"
            ],
            [
             0.1111111111111111,
             "#46039f"
            ],
            [
             0.2222222222222222,
             "#7201a8"
            ],
            [
             0.3333333333333333,
             "#9c179e"
            ],
            [
             0.4444444444444444,
             "#bd3786"
            ],
            [
             0.5555555555555556,
             "#d8576b"
            ],
            [
             0.6666666666666666,
             "#ed7953"
            ],
            [
             0.7777777777777778,
             "#fb9f3a"
            ],
            [
             0.8888888888888888,
             "#fdca26"
            ],
            [
             1,
             "#f0f921"
            ]
           ],
           "sequentialminus": [
            [
             0,
             "#0d0887"
            ],
            [
             0.1111111111111111,
             "#46039f"
            ],
            [
             0.2222222222222222,
             "#7201a8"
            ],
            [
             0.3333333333333333,
             "#9c179e"
            ],
            [
             0.4444444444444444,
             "#bd3786"
            ],
            [
             0.5555555555555556,
             "#d8576b"
            ],
            [
             0.6666666666666666,
             "#ed7953"
            ],
            [
             0.7777777777777778,
             "#fb9f3a"
            ],
            [
             0.8888888888888888,
             "#fdca26"
            ],
            [
             1,
             "#f0f921"
            ]
           ]
          },
          "colorway": [
           "#636efa",
           "#EF553B",
           "#00cc96",
           "#ab63fa",
           "#FFA15A",
           "#19d3f3",
           "#FF6692",
           "#B6E880",
           "#FF97FF",
           "#FECB52"
          ],
          "font": {
           "color": "#2a3f5f"
          },
          "geo": {
           "bgcolor": "white",
           "lakecolor": "white",
           "landcolor": "#E5ECF6",
           "showlakes": true,
           "showland": true,
           "subunitcolor": "white"
          },
          "hoverlabel": {
           "align": "left"
          },
          "hovermode": "closest",
          "mapbox": {
           "style": "light"
          },
          "paper_bgcolor": "white",
          "plot_bgcolor": "#E5ECF6",
          "polar": {
           "angularaxis": {
            "gridcolor": "white",
            "linecolor": "white",
            "ticks": ""
           },
           "bgcolor": "#E5ECF6",
           "radialaxis": {
            "gridcolor": "white",
            "linecolor": "white",
            "ticks": ""
           }
          },
          "scene": {
           "xaxis": {
            "backgroundcolor": "#E5ECF6",
            "gridcolor": "white",
            "gridwidth": 2,
            "linecolor": "white",
            "showbackground": true,
            "ticks": "",
            "zerolinecolor": "white"
           },
           "yaxis": {
            "backgroundcolor": "#E5ECF6",
            "gridcolor": "white",
            "gridwidth": 2,
            "linecolor": "white",
            "showbackground": true,
            "ticks": "",
            "zerolinecolor": "white"
           },
           "zaxis": {
            "backgroundcolor": "#E5ECF6",
            "gridcolor": "white",
            "gridwidth": 2,
            "linecolor": "white",
            "showbackground": true,
            "ticks": "",
            "zerolinecolor": "white"
           }
          },
          "shapedefaults": {
           "line": {
            "color": "#2a3f5f"
           }
          },
          "ternary": {
           "aaxis": {
            "gridcolor": "white",
            "linecolor": "white",
            "ticks": ""
           },
           "baxis": {
            "gridcolor": "white",
            "linecolor": "white",
            "ticks": ""
           },
           "bgcolor": "#E5ECF6",
           "caxis": {
            "gridcolor": "white",
            "linecolor": "white",
            "ticks": ""
           }
          },
          "title": {
           "x": 0.05
          },
          "xaxis": {
           "automargin": true,
           "gridcolor": "white",
           "linecolor": "white",
           "ticks": "",
           "title": {
            "standoff": 15
           },
           "zerolinecolor": "white",
           "zerolinewidth": 2
          },
          "yaxis": {
           "automargin": true,
           "gridcolor": "white",
           "linecolor": "white",
           "ticks": "",
           "title": {
            "standoff": 15
           },
           "zerolinecolor": "white",
           "zerolinewidth": 2
          }
         }
        },
        "title": {
         "text": "Server-equivalent purchase price vs. performance"
        },
        "width": 800,
        "xaxis": {
         "title": {
          "text": "Price date"
         }
        },
        "yaxis": {
         "range": [
          3,
          5
         ],
         "title": {
          "text": "Server-equivalent purchase price ($)"
         },
         "type": "log"
        }
       }
      }
     },
     "metadata": {},
     "output_type": "display_data"
    }
   ],
   "source": [
    "fig = go.Figure()\n",
    "for hardware_alias in hardware_aliases:\n",
    "    print(hardware_alias)\n",
    "    _hardware_df = server_adjusted_purchase_price_df[server_adjusted_purchase_price_df['Hardware model'].str.contains(hardware_alias)]\n",
    "    fig.add_trace(go.Scatter(\n",
    "        x=_hardware_df['Price date'],\n",
    "        y=_hardware_df[price_colname],\n",
    "        mode='markers',\n",
    "        name=hardware_alias,\n",
    "        text=_hardware_df['Hardware model'] + ' | ' + _hardware_df['Notes'],\n",
    "    ))\n",
    "\n",
    "for i in range(len(contours)):\n",
    "    fig.add_trace(go.Scatter(\n",
    "        x=[pd.to_datetime(f\"{year}-01-01\") for year in t],\n",
    "        y=contours[i],\n",
    "        mode='lines',\n",
    "        line=dict(color='rgb(200, 200, 200)', width=1),\n",
    "        name=f'-0.1 OOMs/year',\n",
    "        showlegend=True if i == 0 else False,\n",
    "    ))\n",
    "\n",
    "# y limits\n",
    "fig.update_yaxes(range=[3, 5])\n",
    "\n",
    "fig.update_layout(\n",
    "    title='Server-equivalent purchase price vs. performance',\n",
    "    xaxis_title='Price date',\n",
    "    yaxis_title='Server-equivalent purchase price ($)',\n",
    "    yaxis_type='log',\n",
    "    width=800,\n",
    "    height=600,\n",
    ")\n",
    "fig.show()"
   ]
  },
  {
   "cell_type": "code",
   "execution_count": null,
   "metadata": {},
   "outputs": [],
   "source": [
    "# Drop thenextplatform rows\n",
    "no_nextplatform_df = server_adjusted_purchase_price_df[~server_adjusted_purchase_price_df['Price source'].str.contains('nextplatform')]"
   ]
  },
  {
   "cell_type": "code",
   "execution_count": null,
   "metadata": {},
   "outputs": [
    {
     "data": {
      "application/vnd.plotly.v1+json": {
       "config": {
        "plotlyServerURL": "https://plot.ly"
       },
       "data": [
        {
         "mode": "markers",
         "name": "A100",
         "text": [
          "NVIDIA A100 SXM4 40 GB | DGX A100, 8 GPU, 320GB. Release price.",
          "NVIDIA A100 SXM4 80 GB | DGX A100, 8 GPU, 640GB",
          "NVIDIA A100 SXM4 80 GB | DGX A100, 8 GPU, 640GB",
          "NVIDIA A100 SXM4 80 GB | HGX A100, 8 GPU, 640GB",
          null,
          null,
          null,
          null,
          null,
          null,
          null,
          null,
          null,
          null,
          null,
          null,
          null,
          null,
          null,
          null,
          null,
          null,
          null,
          null
         ],
         "type": "scatter",
         "x": [
          "2020-05-21T00:00:00",
          "2021-06-30T00:00:00",
          "2022-01-20T00:00:00",
          "2023-09-23T00:00:00"
         ],
         "y": [
          24875,
          37500,
          20875,
          18548.75
         ]
        },
        {
         "mode": "markers",
         "name": "H100",
         "text": [
          null,
          null,
          null,
          null,
          null,
          "NVIDIA H100 SXM5 | DGX, 8 GPU, 640GB. Convert Euro to USD: https://www.oanda.com/currency-converter/en/?from=EUR&to=USD&amount=https://www.oanda.com/currency-converter/en/?from=EUR&to=USD&amount=369855.51",
          "NVIDIA H100 SXM5 | DGX, 8 GPU, 640GB. “Nvidia sells DGX H100’s at around $270,000”.",
          "NVIDIA H100 SXM5 | DGX, 8 GPU, 640GB. Convert Euro to USD: https://www.oanda.com/currency-converter/en/?from=EUR&to=USD&amount=306403.66",
          "NVIDIA H100 SXM5 | DGX, 8 GPU, 640GB. Convert Euro to USD: https://www.oanda.com/currency-converter/en/?from=EUR&to=USD&amount=303610.2",
          "NVIDIA H100 SXM5 | HGX, 8 GPU, 640GB",
          null,
          null,
          null,
          null,
          null,
          null,
          null,
          null,
          null,
          null,
          null,
          null,
          null,
          null
         ],
         "type": "scatter",
         "x": [
          "2022-09-29T00:00:00",
          "2023-05-29T00:00:00",
          "2023-12-11T00:00:00",
          "2024-03-20T00:00:00",
          "2024-03-21T00:00:00"
         ],
         "y": [
          44489.88,
          33750,
          41197.5,
          41217,
          37080.5
         ]
        },
        {
         "mode": "markers",
         "name": "P100",
         "text": [
          null,
          null,
          null,
          null,
          null,
          null,
          null,
          null,
          null,
          null,
          null,
          null,
          "NVIDIA Tesla P100 PCIe 16 GB | server-equivalent release price",
          "NVIDIA Tesla P100 PCIe 16 GB | DGX-1, 8 GPU, 128GB",
          "NVIDIA Tesla P100 PCIe 16 GB | DGX-1, 8 GPU, 128GB",
          null,
          null,
          null,
          null,
          null,
          null,
          null,
          null,
          null
         ],
         "type": "scatter",
         "x": [
          "2016-06-20T00:00:00",
          "2016-06-21T00:00:00",
          "2017-03-12T00:00:00"
         ],
         "y": [
          8776.460000000001,
          16125,
          18543.75
         ]
        },
        {
         "mode": "markers",
         "name": "V100",
         "text": [
          null,
          null,
          null,
          null,
          null,
          null,
          null,
          null,
          null,
          null,
          null,
          null,
          null,
          null,
          null,
          "NVIDIA Tesla V100 DGXS 32 GB | DGX, 4 GPU, 128GB",
          "NVIDIA Tesla V100 DGXS 32 GB | DGX-1, 8 GPU, 256GB",
          "NVIDIA Tesla V100 DGXS 32 GB | DGX-2, 16 GPU, 512 GB",
          "NVIDIA Tesla V100 PCIe 16 GB | server-equivalent list price",
          "NVIDIA Tesla V100 SXM2 16 GB | server-equivalent list price",
          "NVIDIA Tesla V100 SXM2 32 GB | server-equivalent list price",
          "NVIDIA Tesla V100 SXM2 32 GB | server-equivalent list price",
          "NVIDIA V100 | Price at release (2017 Q3) for a DGX-1 with 8x V100 GPUs was $149,000. Dividing by 8, the price per GPU is $18,625 including interconnect hardware.",
          "NVIDIA V100 | Price at release (2017 Q3) for a DGXS with 4x V100 GPUs was $69,000. Dividing by 4, the price per GPU is $17250 including interconnect hardware."
         ],
         "type": "scatter",
         "x": [
          "2019-01-11T00:00:00",
          "2019-01-11T00:00:00",
          "2019-01-11T00:00:00",
          "2018-05-08T00:00:00",
          "2018-05-08T00:00:00",
          "2018-05-08T00:00:00",
          "2018-05-08T00:00:00",
          "2017-07-01T00:00:00",
          "2017-07-01T00:00:00"
         ],
         "y": [
          18457.5,
          19928.75,
          26995.63,
          18022.16,
          18022.16,
          19364.02,
          19364.02,
          18625,
          17250
         ]
        },
        {
         "mode": "markers",
         "name": "TPU v4",
         "text": [
          null,
          null,
          null,
          null,
          null,
          null,
          null,
          null,
          null,
          null,
          null,
          null,
          null,
          null,
          null,
          null,
          null,
          null,
          null,
          null,
          null,
          null,
          null,
          null
         ],
         "type": "scatter",
         "x": [],
         "y": []
        },
        {
         "mode": "markers",
         "name": "TPU v3",
         "text": [
          null,
          null,
          null,
          null,
          null,
          null,
          null,
          null,
          null,
          null,
          null,
          null,
          null,
          null,
          null,
          null,
          null,
          null,
          null,
          null,
          null,
          null,
          null,
          null
         ],
         "type": "scatter",
         "x": [],
         "y": []
        },
        {
         "mode": "markers",
         "name": "TPU v2",
         "text": [
          null,
          null,
          null,
          null,
          null,
          null,
          null,
          null,
          null,
          null,
          null,
          null,
          null,
          null,
          null,
          null,
          null,
          null,
          null,
          null,
          null,
          null,
          null,
          null
         ],
         "type": "scatter",
         "x": [],
         "y": []
        },
        {
         "mode": "markers",
         "name": "TPU v1",
         "text": [
          null,
          null,
          null,
          null,
          null,
          null,
          null,
          null,
          null,
          null,
          null,
          null,
          null,
          null,
          null,
          null,
          null,
          null,
          null,
          null,
          null,
          null,
          null,
          null
         ],
         "type": "scatter",
         "x": [],
         "y": []
        },
        {
         "mode": "markers",
         "name": "K80",
         "text": [
          null,
          null,
          null,
          null,
          null,
          null,
          null,
          null,
          null,
          null,
          null,
          "NVIDIA Tesla K80 | server-equivalent release price",
          null,
          null,
          null,
          null,
          null,
          null,
          null,
          null,
          null,
          null,
          null,
          null
         ],
         "type": "scatter",
         "x": [
          "2014-11-17T00:00:00"
         ],
         "y": [
          8200
         ]
        },
        {
         "mode": "markers",
         "name": "K40",
         "text": [
          null,
          null,
          null,
          null,
          null,
          null,
          null,
          null,
          null,
          null,
          "NVIDIA Tesla K40s | server-equivalent release price",
          null,
          null,
          null,
          null,
          null,
          null,
          null,
          null,
          null,
          null,
          null,
          null,
          null
         ],
         "type": "scatter",
         "x": [
          "2013-11-22T00:00:00"
         ],
         "y": [
          12626.359999999999
         ]
        },
        {
         "mode": "markers",
         "name": "Titan X",
         "text": [
          null,
          null,
          null,
          null,
          "NVIDIA GTX Titan X | server-equivalent release price",
          null,
          null,
          null,
          null,
          null,
          null,
          null,
          null,
          null,
          null,
          null,
          null,
          null,
          null,
          null,
          null,
          null,
          null,
          null
         ],
         "type": "scatter",
         "x": [
          "2015-03-17T00:00:00"
         ],
         "y": [
          1638.36
         ]
        }
       ],
       "layout": {
        "height": 600,
        "template": {
         "data": {
          "bar": [
           {
            "error_x": {
             "color": "#2a3f5f"
            },
            "error_y": {
             "color": "#2a3f5f"
            },
            "marker": {
             "line": {
              "color": "#E5ECF6",
              "width": 0.5
             },
             "pattern": {
              "fillmode": "overlay",
              "size": 10,
              "solidity": 0.2
             }
            },
            "type": "bar"
           }
          ],
          "barpolar": [
           {
            "marker": {
             "line": {
              "color": "#E5ECF6",
              "width": 0.5
             },
             "pattern": {
              "fillmode": "overlay",
              "size": 10,
              "solidity": 0.2
             }
            },
            "type": "barpolar"
           }
          ],
          "carpet": [
           {
            "aaxis": {
             "endlinecolor": "#2a3f5f",
             "gridcolor": "white",
             "linecolor": "white",
             "minorgridcolor": "white",
             "startlinecolor": "#2a3f5f"
            },
            "baxis": {
             "endlinecolor": "#2a3f5f",
             "gridcolor": "white",
             "linecolor": "white",
             "minorgridcolor": "white",
             "startlinecolor": "#2a3f5f"
            },
            "type": "carpet"
           }
          ],
          "choropleth": [
           {
            "colorbar": {
             "outlinewidth": 0,
             "ticks": ""
            },
            "type": "choropleth"
           }
          ],
          "contour": [
           {
            "colorbar": {
             "outlinewidth": 0,
             "ticks": ""
            },
            "colorscale": [
             [
              0,
              "#0d0887"
             ],
             [
              0.1111111111111111,
              "#46039f"
             ],
             [
              0.2222222222222222,
              "#7201a8"
             ],
             [
              0.3333333333333333,
              "#9c179e"
             ],
             [
              0.4444444444444444,
              "#bd3786"
             ],
             [
              0.5555555555555556,
              "#d8576b"
             ],
             [
              0.6666666666666666,
              "#ed7953"
             ],
             [
              0.7777777777777778,
              "#fb9f3a"
             ],
             [
              0.8888888888888888,
              "#fdca26"
             ],
             [
              1,
              "#f0f921"
             ]
            ],
            "type": "contour"
           }
          ],
          "contourcarpet": [
           {
            "colorbar": {
             "outlinewidth": 0,
             "ticks": ""
            },
            "type": "contourcarpet"
           }
          ],
          "heatmap": [
           {
            "colorbar": {
             "outlinewidth": 0,
             "ticks": ""
            },
            "colorscale": [
             [
              0,
              "#0d0887"
             ],
             [
              0.1111111111111111,
              "#46039f"
             ],
             [
              0.2222222222222222,
              "#7201a8"
             ],
             [
              0.3333333333333333,
              "#9c179e"
             ],
             [
              0.4444444444444444,
              "#bd3786"
             ],
             [
              0.5555555555555556,
              "#d8576b"
             ],
             [
              0.6666666666666666,
              "#ed7953"
             ],
             [
              0.7777777777777778,
              "#fb9f3a"
             ],
             [
              0.8888888888888888,
              "#fdca26"
             ],
             [
              1,
              "#f0f921"
             ]
            ],
            "type": "heatmap"
           }
          ],
          "heatmapgl": [
           {
            "colorbar": {
             "outlinewidth": 0,
             "ticks": ""
            },
            "colorscale": [
             [
              0,
              "#0d0887"
             ],
             [
              0.1111111111111111,
              "#46039f"
             ],
             [
              0.2222222222222222,
              "#7201a8"
             ],
             [
              0.3333333333333333,
              "#9c179e"
             ],
             [
              0.4444444444444444,
              "#bd3786"
             ],
             [
              0.5555555555555556,
              "#d8576b"
             ],
             [
              0.6666666666666666,
              "#ed7953"
             ],
             [
              0.7777777777777778,
              "#fb9f3a"
             ],
             [
              0.8888888888888888,
              "#fdca26"
             ],
             [
              1,
              "#f0f921"
             ]
            ],
            "type": "heatmapgl"
           }
          ],
          "histogram": [
           {
            "marker": {
             "pattern": {
              "fillmode": "overlay",
              "size": 10,
              "solidity": 0.2
             }
            },
            "type": "histogram"
           }
          ],
          "histogram2d": [
           {
            "colorbar": {
             "outlinewidth": 0,
             "ticks": ""
            },
            "colorscale": [
             [
              0,
              "#0d0887"
             ],
             [
              0.1111111111111111,
              "#46039f"
             ],
             [
              0.2222222222222222,
              "#7201a8"
             ],
             [
              0.3333333333333333,
              "#9c179e"
             ],
             [
              0.4444444444444444,
              "#bd3786"
             ],
             [
              0.5555555555555556,
              "#d8576b"
             ],
             [
              0.6666666666666666,
              "#ed7953"
             ],
             [
              0.7777777777777778,
              "#fb9f3a"
             ],
             [
              0.8888888888888888,
              "#fdca26"
             ],
             [
              1,
              "#f0f921"
             ]
            ],
            "type": "histogram2d"
           }
          ],
          "histogram2dcontour": [
           {
            "colorbar": {
             "outlinewidth": 0,
             "ticks": ""
            },
            "colorscale": [
             [
              0,
              "#0d0887"
             ],
             [
              0.1111111111111111,
              "#46039f"
             ],
             [
              0.2222222222222222,
              "#7201a8"
             ],
             [
              0.3333333333333333,
              "#9c179e"
             ],
             [
              0.4444444444444444,
              "#bd3786"
             ],
             [
              0.5555555555555556,
              "#d8576b"
             ],
             [
              0.6666666666666666,
              "#ed7953"
             ],
             [
              0.7777777777777778,
              "#fb9f3a"
             ],
             [
              0.8888888888888888,
              "#fdca26"
             ],
             [
              1,
              "#f0f921"
             ]
            ],
            "type": "histogram2dcontour"
           }
          ],
          "mesh3d": [
           {
            "colorbar": {
             "outlinewidth": 0,
             "ticks": ""
            },
            "type": "mesh3d"
           }
          ],
          "parcoords": [
           {
            "line": {
             "colorbar": {
              "outlinewidth": 0,
              "ticks": ""
             }
            },
            "type": "parcoords"
           }
          ],
          "pie": [
           {
            "automargin": true,
            "type": "pie"
           }
          ],
          "scatter": [
           {
            "fillpattern": {
             "fillmode": "overlay",
             "size": 10,
             "solidity": 0.2
            },
            "type": "scatter"
           }
          ],
          "scatter3d": [
           {
            "line": {
             "colorbar": {
              "outlinewidth": 0,
              "ticks": ""
             }
            },
            "marker": {
             "colorbar": {
              "outlinewidth": 0,
              "ticks": ""
             }
            },
            "type": "scatter3d"
           }
          ],
          "scattercarpet": [
           {
            "marker": {
             "colorbar": {
              "outlinewidth": 0,
              "ticks": ""
             }
            },
            "type": "scattercarpet"
           }
          ],
          "scattergeo": [
           {
            "marker": {
             "colorbar": {
              "outlinewidth": 0,
              "ticks": ""
             }
            },
            "type": "scattergeo"
           }
          ],
          "scattergl": [
           {
            "marker": {
             "colorbar": {
              "outlinewidth": 0,
              "ticks": ""
             }
            },
            "type": "scattergl"
           }
          ],
          "scattermapbox": [
           {
            "marker": {
             "colorbar": {
              "outlinewidth": 0,
              "ticks": ""
             }
            },
            "type": "scattermapbox"
           }
          ],
          "scatterpolar": [
           {
            "marker": {
             "colorbar": {
              "outlinewidth": 0,
              "ticks": ""
             }
            },
            "type": "scatterpolar"
           }
          ],
          "scatterpolargl": [
           {
            "marker": {
             "colorbar": {
              "outlinewidth": 0,
              "ticks": ""
             }
            },
            "type": "scatterpolargl"
           }
          ],
          "scatterternary": [
           {
            "marker": {
             "colorbar": {
              "outlinewidth": 0,
              "ticks": ""
             }
            },
            "type": "scatterternary"
           }
          ],
          "surface": [
           {
            "colorbar": {
             "outlinewidth": 0,
             "ticks": ""
            },
            "colorscale": [
             [
              0,
              "#0d0887"
             ],
             [
              0.1111111111111111,
              "#46039f"
             ],
             [
              0.2222222222222222,
              "#7201a8"
             ],
             [
              0.3333333333333333,
              "#9c179e"
             ],
             [
              0.4444444444444444,
              "#bd3786"
             ],
             [
              0.5555555555555556,
              "#d8576b"
             ],
             [
              0.6666666666666666,
              "#ed7953"
             ],
             [
              0.7777777777777778,
              "#fb9f3a"
             ],
             [
              0.8888888888888888,
              "#fdca26"
             ],
             [
              1,
              "#f0f921"
             ]
            ],
            "type": "surface"
           }
          ],
          "table": [
           {
            "cells": {
             "fill": {
              "color": "#EBF0F8"
             },
             "line": {
              "color": "white"
             }
            },
            "header": {
             "fill": {
              "color": "#C8D4E3"
             },
             "line": {
              "color": "white"
             }
            },
            "type": "table"
           }
          ]
         },
         "layout": {
          "annotationdefaults": {
           "arrowcolor": "#2a3f5f",
           "arrowhead": 0,
           "arrowwidth": 1
          },
          "autotypenumbers": "strict",
          "coloraxis": {
           "colorbar": {
            "outlinewidth": 0,
            "ticks": ""
           }
          },
          "colorscale": {
           "diverging": [
            [
             0,
             "#8e0152"
            ],
            [
             0.1,
             "#c51b7d"
            ],
            [
             0.2,
             "#de77ae"
            ],
            [
             0.3,
             "#f1b6da"
            ],
            [
             0.4,
             "#fde0ef"
            ],
            [
             0.5,
             "#f7f7f7"
            ],
            [
             0.6,
             "#e6f5d0"
            ],
            [
             0.7,
             "#b8e186"
            ],
            [
             0.8,
             "#7fbc41"
            ],
            [
             0.9,
             "#4d9221"
            ],
            [
             1,
             "#276419"
            ]
           ],
           "sequential": [
            [
             0,
             "#0d0887"
            ],
            [
             0.1111111111111111,
             "#46039f"
            ],
            [
             0.2222222222222222,
             "#7201a8"
            ],
            [
             0.3333333333333333,
             "#9c179e"
            ],
            [
             0.4444444444444444,
             "#bd3786"
            ],
            [
             0.5555555555555556,
             "#d8576b"
            ],
            [
             0.6666666666666666,
             "#ed7953"
            ],
            [
             0.7777777777777778,
             "#fb9f3a"
            ],
            [
             0.8888888888888888,
             "#fdca26"
            ],
            [
             1,
             "#f0f921"
            ]
           ],
           "sequentialminus": [
            [
             0,
             "#0d0887"
            ],
            [
             0.1111111111111111,
             "#46039f"
            ],
            [
             0.2222222222222222,
             "#7201a8"
            ],
            [
             0.3333333333333333,
             "#9c179e"
            ],
            [
             0.4444444444444444,
             "#bd3786"
            ],
            [
             0.5555555555555556,
             "#d8576b"
            ],
            [
             0.6666666666666666,
             "#ed7953"
            ],
            [
             0.7777777777777778,
             "#fb9f3a"
            ],
            [
             0.8888888888888888,
             "#fdca26"
            ],
            [
             1,
             "#f0f921"
            ]
           ]
          },
          "colorway": [
           "#636efa",
           "#EF553B",
           "#00cc96",
           "#ab63fa",
           "#FFA15A",
           "#19d3f3",
           "#FF6692",
           "#B6E880",
           "#FF97FF",
           "#FECB52"
          ],
          "font": {
           "color": "#2a3f5f"
          },
          "geo": {
           "bgcolor": "white",
           "lakecolor": "white",
           "landcolor": "#E5ECF6",
           "showlakes": true,
           "showland": true,
           "subunitcolor": "white"
          },
          "hoverlabel": {
           "align": "left"
          },
          "hovermode": "closest",
          "mapbox": {
           "style": "light"
          },
          "paper_bgcolor": "white",
          "plot_bgcolor": "#E5ECF6",
          "polar": {
           "angularaxis": {
            "gridcolor": "white",
            "linecolor": "white",
            "ticks": ""
           },
           "bgcolor": "#E5ECF6",
           "radialaxis": {
            "gridcolor": "white",
            "linecolor": "white",
            "ticks": ""
           }
          },
          "scene": {
           "xaxis": {
            "backgroundcolor": "#E5ECF6",
            "gridcolor": "white",
            "gridwidth": 2,
            "linecolor": "white",
            "showbackground": true,
            "ticks": "",
            "zerolinecolor": "white"
           },
           "yaxis": {
            "backgroundcolor": "#E5ECF6",
            "gridcolor": "white",
            "gridwidth": 2,
            "linecolor": "white",
            "showbackground": true,
            "ticks": "",
            "zerolinecolor": "white"
           },
           "zaxis": {
            "backgroundcolor": "#E5ECF6",
            "gridcolor": "white",
            "gridwidth": 2,
            "linecolor": "white",
            "showbackground": true,
            "ticks": "",
            "zerolinecolor": "white"
           }
          },
          "shapedefaults": {
           "line": {
            "color": "#2a3f5f"
           }
          },
          "ternary": {
           "aaxis": {
            "gridcolor": "white",
            "linecolor": "white",
            "ticks": ""
           },
           "baxis": {
            "gridcolor": "white",
            "linecolor": "white",
            "ticks": ""
           },
           "bgcolor": "#E5ECF6",
           "caxis": {
            "gridcolor": "white",
            "linecolor": "white",
            "ticks": ""
           }
          },
          "title": {
           "x": 0.05
          },
          "xaxis": {
           "automargin": true,
           "gridcolor": "white",
           "linecolor": "white",
           "ticks": "",
           "title": {
            "standoff": 15
           },
           "zerolinecolor": "white",
           "zerolinewidth": 2
          },
          "yaxis": {
           "automargin": true,
           "gridcolor": "white",
           "linecolor": "white",
           "ticks": "",
           "title": {
            "standoff": 15
           },
           "zerolinecolor": "white",
           "zerolinewidth": 2
          }
         }
        },
        "title": {
         "text": "Server-equivalent purchase price vs. performance"
        },
        "width": 800,
        "xaxis": {
         "title": {
          "text": "Price date"
         }
        },
        "yaxis": {
         "title": {
          "text": "Server-equivalent purchase price ($)"
         }
        }
       }
      }
     },
     "metadata": {},
     "output_type": "display_data"
    }
   ],
   "source": [
    "fig = go.Figure()\n",
    "for hardware_alias in hardware_aliases:\n",
    "    _hardware_df = no_nextplatform_df[no_nextplatform_df['Hardware model'].str.contains(hardware_alias)]\n",
    "    fig.add_trace(go.Scatter(\n",
    "        x=_hardware_df['Price date'],\n",
    "        y=_hardware_df[price_colname],\n",
    "        mode='markers',\n",
    "        name=hardware_alias,\n",
    "        text=no_nextplatform_df['Hardware model'] + ' | ' + _hardware_df['Notes'],\n",
    "    ))\n",
    "fig.update_layout(\n",
    "    title='Server-equivalent purchase price vs. performance',\n",
    "    xaxis_title='Price date',\n",
    "    yaxis_title='Server-equivalent purchase price ($)',\n",
    "    # yaxis_type='log',\n",
    "    width=800,\n",
    "    height=600,\n",
    ")\n",
    "fig.show()"
   ]
  },
  {
   "cell_type": "markdown",
   "metadata": {},
   "source": [
    "# Training time"
   ]
  },
  {
   "cell_type": "code",
   "execution_count": null,
   "metadata": {},
   "outputs": [
    {
     "data": {
      "text/html": [
       "<div>\n",
       "<style scoped>\n",
       "    .dataframe tbody tr th:only-of-type {\n",
       "        vertical-align: middle;\n",
       "    }\n",
       "\n",
       "    .dataframe tbody tr th {\n",
       "        vertical-align: top;\n",
       "    }\n",
       "\n",
       "    .dataframe thead th {\n",
       "        text-align: right;\n",
       "    }\n",
       "</style>\n",
       "<table border=\"1\" class=\"dataframe\">\n",
       "  <thead>\n",
       "    <tr style=\"text-align: right;\">\n",
       "      <th></th>\n",
       "      <th>System</th>\n",
       "      <th>Domain</th>\n",
       "      <th>Task</th>\n",
       "      <th>Authors</th>\n",
       "      <th>Notability criteria</th>\n",
       "      <th>Notability criteria notes</th>\n",
       "      <th>Model accessibility</th>\n",
       "      <th>Link</th>\n",
       "      <th>Citations</th>\n",
       "      <th>Reference</th>\n",
       "      <th>...</th>\n",
       "      <th>Organization categorization</th>\n",
       "      <th>Foundation model</th>\n",
       "      <th>Training compute lower bound</th>\n",
       "      <th>Training compute upper bound</th>\n",
       "      <th>Training chip-hours</th>\n",
       "      <th>Code accessibility</th>\n",
       "      <th>Dataset accessibility</th>\n",
       "      <th>Accessibility notes</th>\n",
       "      <th>Organization categorization (from Organization)</th>\n",
       "      <th>Possibly over 1e23 FLOP</th>\n",
       "    </tr>\n",
       "  </thead>\n",
       "  <tbody>\n",
       "    <tr>\n",
       "      <th>65</th>\n",
       "      <td>CogAgent</td>\n",
       "      <td>Vision,Language</td>\n",
       "      <td>Instruction interpretation,Visual question ans...</td>\n",
       "      <td>Wenyi Hong, Weihan Wang, Qingsong Lv, Jiazheng...</td>\n",
       "      <td>SOTA improvement</td>\n",
       "      <td>See Table 1</td>\n",
       "      <td>Open access (restricted use)</td>\n",
       "      <td>https://arxiv.org/abs/2312.08914Wenyi Hong, We...</td>\n",
       "      <td>50.0</td>\n",
       "      <td>CogAgent: A Visual Language Model for GUI Agents</td>\n",
       "      <td>...</td>\n",
       "      <td>NaN</td>\n",
       "      <td>NaN</td>\n",
       "      <td>NaN</td>\n",
       "      <td>NaN</td>\n",
       "      <td>NaN</td>\n",
       "      <td>Open source</td>\n",
       "      <td>NaN</td>\n",
       "      <td>Code is Apache License 2.0; model is under a m...</td>\n",
       "      <td>NaN</td>\n",
       "      <td>NaN</td>\n",
       "    </tr>\n",
       "    <tr>\n",
       "      <th>66</th>\n",
       "      <td>FunSearch</td>\n",
       "      <td>Language,Search</td>\n",
       "      <td>Code generation</td>\n",
       "      <td>Bernardino Romera-Paredes, Mohammadamin Bareka...</td>\n",
       "      <td>SOTA improvement,Historical significance</td>\n",
       "      <td>Improved SOTA for the cap set problem. Can pla...</td>\n",
       "      <td>Open source</td>\n",
       "      <td>https://www.nature.com/articles/s41586-023-069...</td>\n",
       "      <td>67.0</td>\n",
       "      <td>Mathematical discoveries from program search w...</td>\n",
       "      <td>...</td>\n",
       "      <td>Industry</td>\n",
       "      <td>NaN</td>\n",
       "      <td>NaN</td>\n",
       "      <td>NaN</td>\n",
       "      <td>NaN</td>\n",
       "      <td>NaN</td>\n",
       "      <td>NaN</td>\n",
       "      <td>Code to run FunSearch with an LLM of your choi...</td>\n",
       "      <td>Industry</td>\n",
       "      <td>NaN</td>\n",
       "    </tr>\n",
       "    <tr>\n",
       "      <th>75</th>\n",
       "      <td>Gemini Ultra</td>\n",
       "      <td>Multimodal</td>\n",
       "      <td>Language modelling,Visual question answering,C...</td>\n",
       "      <td>Gemini Team</td>\n",
       "      <td>SOTA improvement</td>\n",
       "      <td>\" Evaluation on a broad range of benchmarks sh...</td>\n",
       "      <td>Hosted access (no API)</td>\n",
       "      <td>https://storage.googleapis.com/deepmind-media/...</td>\n",
       "      <td>633.0</td>\n",
       "      <td>Gemini: A Family of Highly Capable Multimodal ...</td>\n",
       "      <td>...</td>\n",
       "      <td>Industry</td>\n",
       "      <td>NaN</td>\n",
       "      <td>NaN</td>\n",
       "      <td>NaN</td>\n",
       "      <td>132000000.0</td>\n",
       "      <td>NaN</td>\n",
       "      <td>NaN</td>\n",
       "      <td>NaN</td>\n",
       "      <td>Industry</td>\n",
       "      <td>NaN</td>\n",
       "    </tr>\n",
       "    <tr>\n",
       "      <th>83</th>\n",
       "      <td>Qwen-72B</td>\n",
       "      <td>Language</td>\n",
       "      <td>Chat,Code generation</td>\n",
       "      <td>Jinze Bai, Shuai Bai, Yunfei Chu, Zeyu Cui, Ka...</td>\n",
       "      <td>SOTA improvement</td>\n",
       "      <td>SOTA on several Chinese benchmarks, with highe...</td>\n",
       "      <td>Open access (restricted use)</td>\n",
       "      <td>https://huggingface.co/Qwen/Qwen-72B</td>\n",
       "      <td>NaN</td>\n",
       "      <td>NaN</td>\n",
       "      <td>...</td>\n",
       "      <td>Industry</td>\n",
       "      <td>NaN</td>\n",
       "      <td>NaN</td>\n",
       "      <td>NaN</td>\n",
       "      <td>NaN</td>\n",
       "      <td>Unreleased</td>\n",
       "      <td>Unreleased</td>\n",
       "      <td>up to 100m active users:\\nhttps://github.com/Q...</td>\n",
       "      <td>Industry</td>\n",
       "      <td>NaN</td>\n",
       "    </tr>\n",
       "    <tr>\n",
       "      <th>91</th>\n",
       "      <td>Inflection-2</td>\n",
       "      <td>Language</td>\n",
       "      <td>Language modelling</td>\n",
       "      <td>NaN</td>\n",
       "      <td>Significant use</td>\n",
       "      <td>Inflection-2 either already powers Pi or soon ...</td>\n",
       "      <td>Hosted access (no API)</td>\n",
       "      <td>https://inflection.ai/inflection-2</td>\n",
       "      <td>NaN</td>\n",
       "      <td>Inflection-2: The Next Step Up</td>\n",
       "      <td>...</td>\n",
       "      <td>Industry</td>\n",
       "      <td>checked</td>\n",
       "      <td>NaN</td>\n",
       "      <td>NaN</td>\n",
       "      <td>NaN</td>\n",
       "      <td>NaN</td>\n",
       "      <td>NaN</td>\n",
       "      <td>via Pi, no API</td>\n",
       "      <td>Industry</td>\n",
       "      <td>NaN</td>\n",
       "    </tr>\n",
       "    <tr>\n",
       "      <th>...</th>\n",
       "      <td>...</td>\n",
       "      <td>...</td>\n",
       "      <td>...</td>\n",
       "      <td>...</td>\n",
       "      <td>...</td>\n",
       "      <td>...</td>\n",
       "      <td>...</td>\n",
       "      <td>...</td>\n",
       "      <td>...</td>\n",
       "      <td>...</td>\n",
       "      <td>...</td>\n",
       "      <td>...</td>\n",
       "      <td>...</td>\n",
       "      <td>...</td>\n",
       "      <td>...</td>\n",
       "      <td>...</td>\n",
       "      <td>...</td>\n",
       "      <td>...</td>\n",
       "      <td>...</td>\n",
       "      <td>...</td>\n",
       "      <td>...</td>\n",
       "    </tr>\n",
       "    <tr>\n",
       "      <th>1182</th>\n",
       "      <td>AlphaGo Lee</td>\n",
       "      <td>Games</td>\n",
       "      <td>Go</td>\n",
       "      <td>David Silver, Aja Huang, Chris J. Maddison, Ar...</td>\n",
       "      <td>Highly cited</td>\n",
       "      <td>NaN</td>\n",
       "      <td>NaN</td>\n",
       "      <td>https://www.nature.com/articles/nature16961</td>\n",
       "      <td>14887.0</td>\n",
       "      <td>Mastering the game of Go with deep neural netw...</td>\n",
       "      <td>...</td>\n",
       "      <td>Industry</td>\n",
       "      <td>NaN</td>\n",
       "      <td>NaN</td>\n",
       "      <td>NaN</td>\n",
       "      <td>NaN</td>\n",
       "      <td>NaN</td>\n",
       "      <td>NaN</td>\n",
       "      <td>NaN</td>\n",
       "      <td>Industry</td>\n",
       "      <td>NaN</td>\n",
       "    </tr>\n",
       "    <tr>\n",
       "      <th>1183</th>\n",
       "      <td>Variational (untied weights, MC) LSTM (Large)</td>\n",
       "      <td>Language</td>\n",
       "      <td>NaN</td>\n",
       "      <td>Yarin Gal, Zoubin Ghahramani</td>\n",
       "      <td>Highly cited,SOTA improvement</td>\n",
       "      <td>\"The new approach outperforms existing techniq...</td>\n",
       "      <td>NaN</td>\n",
       "      <td>https://arxiv.org/abs/1512.05287?context=stat</td>\n",
       "      <td>1838.0</td>\n",
       "      <td>A Theoretically Grounded Application of Dropou...</td>\n",
       "      <td>...</td>\n",
       "      <td>Academia</td>\n",
       "      <td>NaN</td>\n",
       "      <td>NaN</td>\n",
       "      <td>NaN</td>\n",
       "      <td>NaN</td>\n",
       "      <td>NaN</td>\n",
       "      <td>NaN</td>\n",
       "      <td>NaN</td>\n",
       "      <td>Academia</td>\n",
       "      <td>NaN</td>\n",
       "    </tr>\n",
       "    <tr>\n",
       "      <th>1186</th>\n",
       "      <td>ResNet-152 (ImageNet)</td>\n",
       "      <td>Vision</td>\n",
       "      <td>Image classification</td>\n",
       "      <td>Kaiming He, Xiangyu Zhang, Shaoqing Ren, Jian Sun</td>\n",
       "      <td>Highly cited</td>\n",
       "      <td>NaN</td>\n",
       "      <td>NaN</td>\n",
       "      <td>https://arxiv.org/abs/1512.03385</td>\n",
       "      <td>156882.0</td>\n",
       "      <td>Deep Residual Learning for Image Recognition</td>\n",
       "      <td>...</td>\n",
       "      <td>Industry</td>\n",
       "      <td>NaN</td>\n",
       "      <td>NaN</td>\n",
       "      <td>NaN</td>\n",
       "      <td>NaN</td>\n",
       "      <td>NaN</td>\n",
       "      <td>NaN</td>\n",
       "      <td>NaN</td>\n",
       "      <td>Industry</td>\n",
       "      <td>NaN</td>\n",
       "    </tr>\n",
       "    <tr>\n",
       "      <th>1188</th>\n",
       "      <td>DeepSpeech2 (English)</td>\n",
       "      <td>Speech</td>\n",
       "      <td>Speech recognition</td>\n",
       "      <td>Dario Amodei, Rishita Anubhai, Eric Battenberg...</td>\n",
       "      <td>Highly cited</td>\n",
       "      <td>NaN</td>\n",
       "      <td>NaN</td>\n",
       "      <td>https://arxiv.org/abs/1512.02595</td>\n",
       "      <td>2749.0</td>\n",
       "      <td>Deep Speech 2: End-to-End Speech Recognition i...</td>\n",
       "      <td>...</td>\n",
       "      <td>Industry</td>\n",
       "      <td>NaN</td>\n",
       "      <td>NaN</td>\n",
       "      <td>NaN</td>\n",
       "      <td>301.0</td>\n",
       "      <td>NaN</td>\n",
       "      <td>NaN</td>\n",
       "      <td>NaN</td>\n",
       "      <td>Industry</td>\n",
       "      <td>NaN</td>\n",
       "    </tr>\n",
       "    <tr>\n",
       "      <th>1192</th>\n",
       "      <td>AlphaGo Fan</td>\n",
       "      <td>Games</td>\n",
       "      <td>Go</td>\n",
       "      <td>David Silver, Aja Huang, Chris J. Maddison, Ar...</td>\n",
       "      <td>Highly cited,SOTA improvement</td>\n",
       "      <td>NaN</td>\n",
       "      <td>NaN</td>\n",
       "      <td>https://www.nature.com/articles/nature24270.ep...</td>\n",
       "      <td>14887.0</td>\n",
       "      <td>Mastering the game of Go with deep neural netw...</td>\n",
       "      <td>...</td>\n",
       "      <td>Industry</td>\n",
       "      <td>NaN</td>\n",
       "      <td>NaN</td>\n",
       "      <td>NaN</td>\n",
       "      <td>NaN</td>\n",
       "      <td>NaN</td>\n",
       "      <td>NaN</td>\n",
       "      <td>NaN</td>\n",
       "      <td>Industry</td>\n",
       "      <td>NaN</td>\n",
       "    </tr>\n",
       "  </tbody>\n",
       "</table>\n",
       "<p>290 rows × 58 columns</p>\n",
       "</div>"
      ],
      "text/plain": [
       "                                             System           Domain  \\\n",
       "65                                         CogAgent  Vision,Language   \n",
       "66                                        FunSearch  Language,Search   \n",
       "75                                     Gemini Ultra       Multimodal   \n",
       "83                                         Qwen-72B         Language   \n",
       "91                                     Inflection-2         Language   \n",
       "...                                             ...              ...   \n",
       "1182                                    AlphaGo Lee            Games   \n",
       "1183  Variational (untied weights, MC) LSTM (Large)         Language   \n",
       "1186                          ResNet-152 (ImageNet)           Vision   \n",
       "1188                          DeepSpeech2 (English)           Speech   \n",
       "1192                                    AlphaGo Fan            Games   \n",
       "\n",
       "                                                   Task  \\\n",
       "65    Instruction interpretation,Visual question ans...   \n",
       "66                                      Code generation   \n",
       "75    Language modelling,Visual question answering,C...   \n",
       "83                                 Chat,Code generation   \n",
       "91                                   Language modelling   \n",
       "...                                                 ...   \n",
       "1182                                                 Go   \n",
       "1183                                                NaN   \n",
       "1186                               Image classification   \n",
       "1188                                 Speech recognition   \n",
       "1192                                                 Go   \n",
       "\n",
       "                                                Authors  \\\n",
       "65    Wenyi Hong, Weihan Wang, Qingsong Lv, Jiazheng...   \n",
       "66    Bernardino Romera-Paredes, Mohammadamin Bareka...   \n",
       "75                                          Gemini Team   \n",
       "83    Jinze Bai, Shuai Bai, Yunfei Chu, Zeyu Cui, Ka...   \n",
       "91                                                  NaN   \n",
       "...                                                 ...   \n",
       "1182  David Silver, Aja Huang, Chris J. Maddison, Ar...   \n",
       "1183                       Yarin Gal, Zoubin Ghahramani   \n",
       "1186  Kaiming He, Xiangyu Zhang, Shaoqing Ren, Jian Sun   \n",
       "1188  Dario Amodei, Rishita Anubhai, Eric Battenberg...   \n",
       "1192  David Silver, Aja Huang, Chris J. Maddison, Ar...   \n",
       "\n",
       "                           Notability criteria  \\\n",
       "65                            SOTA improvement   \n",
       "66    SOTA improvement,Historical significance   \n",
       "75                            SOTA improvement   \n",
       "83                            SOTA improvement   \n",
       "91                             Significant use   \n",
       "...                                        ...   \n",
       "1182                              Highly cited   \n",
       "1183             Highly cited,SOTA improvement   \n",
       "1186                              Highly cited   \n",
       "1188                              Highly cited   \n",
       "1192             Highly cited,SOTA improvement   \n",
       "\n",
       "                              Notability criteria notes  \\\n",
       "65                                          See Table 1   \n",
       "66    Improved SOTA for the cap set problem. Can pla...   \n",
       "75    \" Evaluation on a broad range of benchmarks sh...   \n",
       "83    SOTA on several Chinese benchmarks, with highe...   \n",
       "91    Inflection-2 either already powers Pi or soon ...   \n",
       "...                                                 ...   \n",
       "1182                                                NaN   \n",
       "1183  \"The new approach outperforms existing techniq...   \n",
       "1186                                                NaN   \n",
       "1188                                                NaN   \n",
       "1192                                                NaN   \n",
       "\n",
       "               Model accessibility  \\\n",
       "65    Open access (restricted use)   \n",
       "66                     Open source   \n",
       "75          Hosted access (no API)   \n",
       "83    Open access (restricted use)   \n",
       "91          Hosted access (no API)   \n",
       "...                            ...   \n",
       "1182                           NaN   \n",
       "1183                           NaN   \n",
       "1186                           NaN   \n",
       "1188                           NaN   \n",
       "1192                           NaN   \n",
       "\n",
       "                                                   Link  Citations  \\\n",
       "65    https://arxiv.org/abs/2312.08914Wenyi Hong, We...       50.0   \n",
       "66    https://www.nature.com/articles/s41586-023-069...       67.0   \n",
       "75    https://storage.googleapis.com/deepmind-media/...      633.0   \n",
       "83                 https://huggingface.co/Qwen/Qwen-72B        NaN   \n",
       "91                   https://inflection.ai/inflection-2        NaN   \n",
       "...                                                 ...        ...   \n",
       "1182        https://www.nature.com/articles/nature16961    14887.0   \n",
       "1183      https://arxiv.org/abs/1512.05287?context=stat     1838.0   \n",
       "1186                   https://arxiv.org/abs/1512.03385   156882.0   \n",
       "1188                   https://arxiv.org/abs/1512.02595     2749.0   \n",
       "1192  https://www.nature.com/articles/nature24270.ep...    14887.0   \n",
       "\n",
       "                                              Reference  ...  \\\n",
       "65     CogAgent: A Visual Language Model for GUI Agents  ...   \n",
       "66    Mathematical discoveries from program search w...  ...   \n",
       "75    Gemini: A Family of Highly Capable Multimodal ...  ...   \n",
       "83                                                  NaN  ...   \n",
       "91                       Inflection-2: The Next Step Up  ...   \n",
       "...                                                 ...  ...   \n",
       "1182  Mastering the game of Go with deep neural netw...  ...   \n",
       "1183  A Theoretically Grounded Application of Dropou...  ...   \n",
       "1186       Deep Residual Learning for Image Recognition  ...   \n",
       "1188  Deep Speech 2: End-to-End Speech Recognition i...  ...   \n",
       "1192  Mastering the game of Go with deep neural netw...  ...   \n",
       "\n",
       "     Organization categorization Foundation model  \\\n",
       "65                           NaN              NaN   \n",
       "66                      Industry              NaN   \n",
       "75                      Industry              NaN   \n",
       "83                      Industry              NaN   \n",
       "91                      Industry          checked   \n",
       "...                          ...              ...   \n",
       "1182                    Industry              NaN   \n",
       "1183                    Academia              NaN   \n",
       "1186                    Industry              NaN   \n",
       "1188                    Industry              NaN   \n",
       "1192                    Industry              NaN   \n",
       "\n",
       "      Training compute lower bound Training compute upper bound  \\\n",
       "65                             NaN                          NaN   \n",
       "66                             NaN                          NaN   \n",
       "75                             NaN                          NaN   \n",
       "83                             NaN                          NaN   \n",
       "91                             NaN                          NaN   \n",
       "...                            ...                          ...   \n",
       "1182                           NaN                          NaN   \n",
       "1183                           NaN                          NaN   \n",
       "1186                           NaN                          NaN   \n",
       "1188                           NaN                          NaN   \n",
       "1192                           NaN                          NaN   \n",
       "\n",
       "      Training chip-hours Code accessibility Dataset accessibility  \\\n",
       "65                    NaN        Open source                   NaN   \n",
       "66                    NaN                NaN                   NaN   \n",
       "75            132000000.0                NaN                   NaN   \n",
       "83                    NaN         Unreleased            Unreleased   \n",
       "91                    NaN                NaN                   NaN   \n",
       "...                   ...                ...                   ...   \n",
       "1182                  NaN                NaN                   NaN   \n",
       "1183                  NaN                NaN                   NaN   \n",
       "1186                  NaN                NaN                   NaN   \n",
       "1188                301.0                NaN                   NaN   \n",
       "1192                  NaN                NaN                   NaN   \n",
       "\n",
       "                                    Accessibility notes  \\\n",
       "65    Code is Apache License 2.0; model is under a m...   \n",
       "66    Code to run FunSearch with an LLM of your choi...   \n",
       "75                                                  NaN   \n",
       "83    up to 100m active users:\\nhttps://github.com/Q...   \n",
       "91                                       via Pi, no API   \n",
       "...                                                 ...   \n",
       "1182                                                NaN   \n",
       "1183                                                NaN   \n",
       "1186                                                NaN   \n",
       "1188                                                NaN   \n",
       "1192                                                NaN   \n",
       "\n",
       "      Organization categorization (from Organization) Possibly over 1e23 FLOP  \n",
       "65                                                NaN                     NaN  \n",
       "66                                           Industry                     NaN  \n",
       "75                                           Industry                     NaN  \n",
       "83                                           Industry                     NaN  \n",
       "91                                           Industry                     NaN  \n",
       "...                                               ...                     ...  \n",
       "1182                                         Industry                     NaN  \n",
       "1183                                         Academia                     NaN  \n",
       "1186                                         Industry                     NaN  \n",
       "1188                                         Industry                     NaN  \n",
       "1192                                         Industry                     NaN  \n",
       "\n",
       "[290 rows x 58 columns]"
      ]
     },
     "execution_count": 12,
     "metadata": {},
     "output_type": "execute_result"
    }
   ],
   "source": [
    "frontier_pcd_df, hardware_df, price_df = load_data_for_cost_estimation(compute_threshold_method=\"window_percentile\", compute_threshold=0)\n",
    "frontier_pcd_df"
   ]
  },
  {
   "cell_type": "code",
   "execution_count": null,
   "metadata": {},
   "outputs": [
    {
     "data": {
      "text/html": [
       "<div>\n",
       "<style scoped>\n",
       "    .dataframe tbody tr th:only-of-type {\n",
       "        vertical-align: middle;\n",
       "    }\n",
       "\n",
       "    .dataframe tbody tr th {\n",
       "        vertical-align: top;\n",
       "    }\n",
       "\n",
       "    .dataframe thead th {\n",
       "        text-align: right;\n",
       "    }\n",
       "</style>\n",
       "<table border=\"1\" class=\"dataframe\">\n",
       "  <thead>\n",
       "    <tr style=\"text-align: right;\">\n",
       "      <th></th>\n",
       "      <th>System</th>\n",
       "      <th>Domain</th>\n",
       "      <th>Task</th>\n",
       "      <th>Authors</th>\n",
       "      <th>Notability criteria</th>\n",
       "      <th>Notability criteria notes</th>\n",
       "      <th>Model accessibility</th>\n",
       "      <th>Link</th>\n",
       "      <th>Citations</th>\n",
       "      <th>Reference</th>\n",
       "      <th>...</th>\n",
       "      <th>Organization categorization</th>\n",
       "      <th>Foundation model</th>\n",
       "      <th>Training compute lower bound</th>\n",
       "      <th>Training compute upper bound</th>\n",
       "      <th>Training chip-hours</th>\n",
       "      <th>Code accessibility</th>\n",
       "      <th>Dataset accessibility</th>\n",
       "      <th>Accessibility notes</th>\n",
       "      <th>Organization categorization (from Organization)</th>\n",
       "      <th>Possibly over 1e23 FLOP</th>\n",
       "    </tr>\n",
       "  </thead>\n",
       "  <tbody>\n",
       "    <tr>\n",
       "      <th>66</th>\n",
       "      <td>FunSearch</td>\n",
       "      <td>Language,Search</td>\n",
       "      <td>Code generation</td>\n",
       "      <td>Bernardino Romera-Paredes, Mohammadamin Bareka...</td>\n",
       "      <td>SOTA improvement,Historical significance</td>\n",
       "      <td>Improved SOTA for the cap set problem. Can pla...</td>\n",
       "      <td>Open source</td>\n",
       "      <td>https://www.nature.com/articles/s41586-023-069...</td>\n",
       "      <td>67.0</td>\n",
       "      <td>Mathematical discoveries from program search w...</td>\n",
       "      <td>...</td>\n",
       "      <td>Industry</td>\n",
       "      <td>NaN</td>\n",
       "      <td>NaN</td>\n",
       "      <td>NaN</td>\n",
       "      <td>NaN</td>\n",
       "      <td>NaN</td>\n",
       "      <td>NaN</td>\n",
       "      <td>Code to run FunSearch with an LLM of your choi...</td>\n",
       "      <td>Industry</td>\n",
       "      <td>NaN</td>\n",
       "    </tr>\n",
       "    <tr>\n",
       "      <th>75</th>\n",
       "      <td>Gemini Ultra</td>\n",
       "      <td>Multimodal</td>\n",
       "      <td>Language modelling,Visual question answering,C...</td>\n",
       "      <td>Gemini Team</td>\n",
       "      <td>SOTA improvement</td>\n",
       "      <td>\" Evaluation on a broad range of benchmarks sh...</td>\n",
       "      <td>Hosted access (no API)</td>\n",
       "      <td>https://storage.googleapis.com/deepmind-media/...</td>\n",
       "      <td>633.0</td>\n",
       "      <td>Gemini: A Family of Highly Capable Multimodal ...</td>\n",
       "      <td>...</td>\n",
       "      <td>Industry</td>\n",
       "      <td>NaN</td>\n",
       "      <td>NaN</td>\n",
       "      <td>NaN</td>\n",
       "      <td>132000000.0</td>\n",
       "      <td>NaN</td>\n",
       "      <td>NaN</td>\n",
       "      <td>NaN</td>\n",
       "      <td>Industry</td>\n",
       "      <td>NaN</td>\n",
       "    </tr>\n",
       "    <tr>\n",
       "      <th>96</th>\n",
       "      <td>Nemotron-3-8B</td>\n",
       "      <td>Language</td>\n",
       "      <td>Chat,Language generation</td>\n",
       "      <td>NaN</td>\n",
       "      <td>SOTA improvement</td>\n",
       "      <td>\"The Nemotron-3-8B-QA model offers state-of-th...</td>\n",
       "      <td>Open access (restricted use)</td>\n",
       "      <td>https://developer.nvidia.com/blog/nvidia-ai-fo...</td>\n",
       "      <td>NaN</td>\n",
       "      <td>NVIDIA AI Foundation Models: Build Custom Ente...</td>\n",
       "      <td>...</td>\n",
       "      <td>Industry</td>\n",
       "      <td>NaN</td>\n",
       "      <td>NaN</td>\n",
       "      <td>NaN</td>\n",
       "      <td>NaN</td>\n",
       "      <td>NaN</td>\n",
       "      <td>NaN</td>\n",
       "      <td>can't use to train other models:\\n\\nhttps://de...</td>\n",
       "      <td>Industry</td>\n",
       "      <td>NaN</td>\n",
       "    </tr>\n",
       "    <tr>\n",
       "      <th>102</th>\n",
       "      <td>MultiBand Diffusion</td>\n",
       "      <td>Audio</td>\n",
       "      <td>Audio generation</td>\n",
       "      <td>Robin San Roman, Yossi Adi, Antoine Deleforge,...</td>\n",
       "      <td>SOTA improvement</td>\n",
       "      <td>\"At equal bit rate, the proposed approach outp...</td>\n",
       "      <td>Open source</td>\n",
       "      <td>https://arxiv.org/abs/2308.02560</td>\n",
       "      <td>2.0</td>\n",
       "      <td>From Discrete Tokens to High-Fidelity Audio Us...</td>\n",
       "      <td>...</td>\n",
       "      <td>Industry,Academia,Academia</td>\n",
       "      <td>NaN</td>\n",
       "      <td>NaN</td>\n",
       "      <td>NaN</td>\n",
       "      <td>NaN</td>\n",
       "      <td>Open source</td>\n",
       "      <td>NaN</td>\n",
       "      <td>MIT for weights and code</td>\n",
       "      <td>Industry,Academia,Academia</td>\n",
       "      <td>NaN</td>\n",
       "    </tr>\n",
       "    <tr>\n",
       "      <th>115</th>\n",
       "      <td>LLaVA 1.5</td>\n",
       "      <td>Multimodal,Language,Vision</td>\n",
       "      <td>Chat,Question answering,Visual question answering</td>\n",
       "      <td>Haotian Liu, Chunyuan Li, Yuheng Li, Yong Jae Lee</td>\n",
       "      <td>SOTA improvement</td>\n",
       "      <td>from abstract: \"we establish stronger baseline...</td>\n",
       "      <td>Open access (restricted use)</td>\n",
       "      <td>https://arxiv.org/abs/2310.03744,\\nhttps://hug...</td>\n",
       "      <td>504.0</td>\n",
       "      <td>Improved Baselines with Visual Instruction Tuning</td>\n",
       "      <td>...</td>\n",
       "      <td>Academia,Industry</td>\n",
       "      <td>NaN</td>\n",
       "      <td>NaN</td>\n",
       "      <td>NaN</td>\n",
       "      <td>192.0</td>\n",
       "      <td>NaN</td>\n",
       "      <td>NaN</td>\n",
       "      <td>Llama 2 license</td>\n",
       "      <td>Academia,Industry</td>\n",
       "      <td>NaN</td>\n",
       "    </tr>\n",
       "    <tr>\n",
       "      <th>...</th>\n",
       "      <td>...</td>\n",
       "      <td>...</td>\n",
       "      <td>...</td>\n",
       "      <td>...</td>\n",
       "      <td>...</td>\n",
       "      <td>...</td>\n",
       "      <td>...</td>\n",
       "      <td>...</td>\n",
       "      <td>...</td>\n",
       "      <td>...</td>\n",
       "      <td>...</td>\n",
       "      <td>...</td>\n",
       "      <td>...</td>\n",
       "      <td>...</td>\n",
       "      <td>...</td>\n",
       "      <td>...</td>\n",
       "      <td>...</td>\n",
       "      <td>...</td>\n",
       "      <td>...</td>\n",
       "      <td>...</td>\n",
       "      <td>...</td>\n",
       "    </tr>\n",
       "    <tr>\n",
       "      <th>1139</th>\n",
       "      <td>BIDAF</td>\n",
       "      <td>Language</td>\n",
       "      <td>Question answering</td>\n",
       "      <td>Minjoon Seo, Aniruddha Kembhavi, Ali Farhadi, ...</td>\n",
       "      <td>Highly cited,SOTA improvement</td>\n",
       "      <td>\"Our experimental evaluations show that our mo...</td>\n",
       "      <td>Open source</td>\n",
       "      <td>https://arxiv.org/abs/1611.01603v6</td>\n",
       "      <td>2246.0</td>\n",
       "      <td>Bidirectional Attention Flow for Machine Compr...</td>\n",
       "      <td>...</td>\n",
       "      <td>Academia,Research collective</td>\n",
       "      <td>NaN</td>\n",
       "      <td>NaN</td>\n",
       "      <td>NaN</td>\n",
       "      <td>480.0</td>\n",
       "      <td>Open source</td>\n",
       "      <td>Open source</td>\n",
       "      <td>apache 2.0: https://github.com/allenai/bi-att-...</td>\n",
       "      <td>Academia,Research collective</td>\n",
       "      <td>NaN</td>\n",
       "    </tr>\n",
       "    <tr>\n",
       "      <th>1145</th>\n",
       "      <td>Xception</td>\n",
       "      <td>Vision</td>\n",
       "      <td>Image classification</td>\n",
       "      <td>François Chollet</td>\n",
       "      <td>Highly cited</td>\n",
       "      <td>NaN</td>\n",
       "      <td>NaN</td>\n",
       "      <td>https://arxiv.org/abs/1610.02357</td>\n",
       "      <td>11578.0</td>\n",
       "      <td>Xception: Deep Learning with Depthwise Separab...</td>\n",
       "      <td>...</td>\n",
       "      <td>Industry</td>\n",
       "      <td>NaN</td>\n",
       "      <td>NaN</td>\n",
       "      <td>NaN</td>\n",
       "      <td>43200.0</td>\n",
       "      <td>NaN</td>\n",
       "      <td>NaN</td>\n",
       "      <td>NaN</td>\n",
       "      <td>Industry</td>\n",
       "      <td>NaN</td>\n",
       "    </tr>\n",
       "    <tr>\n",
       "      <th>1146</th>\n",
       "      <td>GNMT</td>\n",
       "      <td>Language</td>\n",
       "      <td>Translation</td>\n",
       "      <td>Yonghui Wu, Mike Schuster, Zhifeng Chen, Quoc ...</td>\n",
       "      <td>Highly cited</td>\n",
       "      <td>NaN</td>\n",
       "      <td>Hosted access (no API)</td>\n",
       "      <td>https://arxiv.org/abs/1609.08144</td>\n",
       "      <td>6196.0</td>\n",
       "      <td>Google's Neural Machine Translation System: Br...</td>\n",
       "      <td>...</td>\n",
       "      <td>Industry</td>\n",
       "      <td>NaN</td>\n",
       "      <td>NaN</td>\n",
       "      <td>NaN</td>\n",
       "      <td>414720.0</td>\n",
       "      <td>NaN</td>\n",
       "      <td>NaN</td>\n",
       "      <td>presumably deployed via Google translate</td>\n",
       "      <td>Industry</td>\n",
       "      <td>NaN</td>\n",
       "    </tr>\n",
       "    <tr>\n",
       "      <th>1172</th>\n",
       "      <td>Part-of-sentence tagging model</td>\n",
       "      <td>Language</td>\n",
       "      <td>Part-of-speech tagging</td>\n",
       "      <td>Xuehe Ma, Eduard Hovy</td>\n",
       "      <td>Highly cited</td>\n",
       "      <td>NaN</td>\n",
       "      <td>NaN</td>\n",
       "      <td>https://arxiv.org/abs/1603.01354</td>\n",
       "      <td>3193.0</td>\n",
       "      <td>End-to-end Sequence Labeling via Bi-directiona...</td>\n",
       "      <td>...</td>\n",
       "      <td>Academia</td>\n",
       "      <td>NaN</td>\n",
       "      <td>NaN</td>\n",
       "      <td>NaN</td>\n",
       "      <td>12.0</td>\n",
       "      <td>NaN</td>\n",
       "      <td>NaN</td>\n",
       "      <td>NaN</td>\n",
       "      <td>Academia</td>\n",
       "      <td>NaN</td>\n",
       "    </tr>\n",
       "    <tr>\n",
       "      <th>1173</th>\n",
       "      <td>Named Entity Recognition model</td>\n",
       "      <td>Language</td>\n",
       "      <td>Named entity recognition</td>\n",
       "      <td>Xuezhe Ma, Eduard Hovy</td>\n",
       "      <td>Highly cited</td>\n",
       "      <td>NaN</td>\n",
       "      <td>NaN</td>\n",
       "      <td>https://arxiv.org/abs/1603.01354</td>\n",
       "      <td>3100.0</td>\n",
       "      <td>Layer Normalization</td>\n",
       "      <td>...</td>\n",
       "      <td>Academia</td>\n",
       "      <td>NaN</td>\n",
       "      <td>NaN</td>\n",
       "      <td>NaN</td>\n",
       "      <td>8.0</td>\n",
       "      <td>NaN</td>\n",
       "      <td>NaN</td>\n",
       "      <td>NaN</td>\n",
       "      <td>Academia</td>\n",
       "      <td>NaN</td>\n",
       "    </tr>\n",
       "  </tbody>\n",
       "</table>\n",
       "<p>132 rows × 58 columns</p>\n",
       "</div>"
      ],
      "text/plain": [
       "                              System                      Domain  \\\n",
       "66                         FunSearch             Language,Search   \n",
       "75                      Gemini Ultra                  Multimodal   \n",
       "96                     Nemotron-3-8B                    Language   \n",
       "102              MultiBand Diffusion                       Audio   \n",
       "115                        LLaVA 1.5  Multimodal,Language,Vision   \n",
       "...                              ...                         ...   \n",
       "1139                           BIDAF                    Language   \n",
       "1145                        Xception                      Vision   \n",
       "1146                            GNMT                    Language   \n",
       "1172  Part-of-sentence tagging model                    Language   \n",
       "1173  Named Entity Recognition model                    Language   \n",
       "\n",
       "                                                   Task  \\\n",
       "66                                      Code generation   \n",
       "75    Language modelling,Visual question answering,C...   \n",
       "96                             Chat,Language generation   \n",
       "102                                    Audio generation   \n",
       "115   Chat,Question answering,Visual question answering   \n",
       "...                                                 ...   \n",
       "1139                                 Question answering   \n",
       "1145                               Image classification   \n",
       "1146                                        Translation   \n",
       "1172                             Part-of-speech tagging   \n",
       "1173                           Named entity recognition   \n",
       "\n",
       "                                                Authors  \\\n",
       "66    Bernardino Romera-Paredes, Mohammadamin Bareka...   \n",
       "75                                          Gemini Team   \n",
       "96                                                  NaN   \n",
       "102   Robin San Roman, Yossi Adi, Antoine Deleforge,...   \n",
       "115   Haotian Liu, Chunyuan Li, Yuheng Li, Yong Jae Lee   \n",
       "...                                                 ...   \n",
       "1139  Minjoon Seo, Aniruddha Kembhavi, Ali Farhadi, ...   \n",
       "1145                                   François Chollet   \n",
       "1146  Yonghui Wu, Mike Schuster, Zhifeng Chen, Quoc ...   \n",
       "1172                              Xuehe Ma, Eduard Hovy   \n",
       "1173                             Xuezhe Ma, Eduard Hovy   \n",
       "\n",
       "                           Notability criteria  \\\n",
       "66    SOTA improvement,Historical significance   \n",
       "75                            SOTA improvement   \n",
       "96                            SOTA improvement   \n",
       "102                           SOTA improvement   \n",
       "115                           SOTA improvement   \n",
       "...                                        ...   \n",
       "1139             Highly cited,SOTA improvement   \n",
       "1145                              Highly cited   \n",
       "1146                              Highly cited   \n",
       "1172                              Highly cited   \n",
       "1173                              Highly cited   \n",
       "\n",
       "                              Notability criteria notes  \\\n",
       "66    Improved SOTA for the cap set problem. Can pla...   \n",
       "75    \" Evaluation on a broad range of benchmarks sh...   \n",
       "96    \"The Nemotron-3-8B-QA model offers state-of-th...   \n",
       "102   \"At equal bit rate, the proposed approach outp...   \n",
       "115   from abstract: \"we establish stronger baseline...   \n",
       "...                                                 ...   \n",
       "1139  \"Our experimental evaluations show that our mo...   \n",
       "1145                                                NaN   \n",
       "1146                                                NaN   \n",
       "1172                                                NaN   \n",
       "1173                                                NaN   \n",
       "\n",
       "               Model accessibility  \\\n",
       "66                     Open source   \n",
       "75          Hosted access (no API)   \n",
       "96    Open access (restricted use)   \n",
       "102                    Open source   \n",
       "115   Open access (restricted use)   \n",
       "...                            ...   \n",
       "1139                   Open source   \n",
       "1145                           NaN   \n",
       "1146        Hosted access (no API)   \n",
       "1172                           NaN   \n",
       "1173                           NaN   \n",
       "\n",
       "                                                   Link  Citations  \\\n",
       "66    https://www.nature.com/articles/s41586-023-069...       67.0   \n",
       "75    https://storage.googleapis.com/deepmind-media/...      633.0   \n",
       "96    https://developer.nvidia.com/blog/nvidia-ai-fo...        NaN   \n",
       "102                    https://arxiv.org/abs/2308.02560        2.0   \n",
       "115   https://arxiv.org/abs/2310.03744,\\nhttps://hug...      504.0   \n",
       "...                                                 ...        ...   \n",
       "1139                 https://arxiv.org/abs/1611.01603v6     2246.0   \n",
       "1145                   https://arxiv.org/abs/1610.02357    11578.0   \n",
       "1146                   https://arxiv.org/abs/1609.08144     6196.0   \n",
       "1172                   https://arxiv.org/abs/1603.01354     3193.0   \n",
       "1173                   https://arxiv.org/abs/1603.01354     3100.0   \n",
       "\n",
       "                                              Reference  ...  \\\n",
       "66    Mathematical discoveries from program search w...  ...   \n",
       "75    Gemini: A Family of Highly Capable Multimodal ...  ...   \n",
       "96    NVIDIA AI Foundation Models: Build Custom Ente...  ...   \n",
       "102   From Discrete Tokens to High-Fidelity Audio Us...  ...   \n",
       "115   Improved Baselines with Visual Instruction Tuning  ...   \n",
       "...                                                 ...  ...   \n",
       "1139  Bidirectional Attention Flow for Machine Compr...  ...   \n",
       "1145  Xception: Deep Learning with Depthwise Separab...  ...   \n",
       "1146  Google's Neural Machine Translation System: Br...  ...   \n",
       "1172  End-to-end Sequence Labeling via Bi-directiona...  ...   \n",
       "1173                                Layer Normalization  ...   \n",
       "\n",
       "       Organization categorization Foundation model  \\\n",
       "66                        Industry              NaN   \n",
       "75                        Industry              NaN   \n",
       "96                        Industry              NaN   \n",
       "102     Industry,Academia,Academia              NaN   \n",
       "115              Academia,Industry              NaN   \n",
       "...                            ...              ...   \n",
       "1139  Academia,Research collective              NaN   \n",
       "1145                      Industry              NaN   \n",
       "1146                      Industry              NaN   \n",
       "1172                      Academia              NaN   \n",
       "1173                      Academia              NaN   \n",
       "\n",
       "      Training compute lower bound Training compute upper bound  \\\n",
       "66                             NaN                          NaN   \n",
       "75                             NaN                          NaN   \n",
       "96                             NaN                          NaN   \n",
       "102                            NaN                          NaN   \n",
       "115                            NaN                          NaN   \n",
       "...                            ...                          ...   \n",
       "1139                           NaN                          NaN   \n",
       "1145                           NaN                          NaN   \n",
       "1146                           NaN                          NaN   \n",
       "1172                           NaN                          NaN   \n",
       "1173                           NaN                          NaN   \n",
       "\n",
       "      Training chip-hours Code accessibility Dataset accessibility  \\\n",
       "66                    NaN                NaN                   NaN   \n",
       "75            132000000.0                NaN                   NaN   \n",
       "96                    NaN                NaN                   NaN   \n",
       "102                   NaN        Open source                   NaN   \n",
       "115                 192.0                NaN                   NaN   \n",
       "...                   ...                ...                   ...   \n",
       "1139                480.0        Open source           Open source   \n",
       "1145              43200.0                NaN                   NaN   \n",
       "1146             414720.0                NaN                   NaN   \n",
       "1172                 12.0                NaN                   NaN   \n",
       "1173                  8.0                NaN                   NaN   \n",
       "\n",
       "                                    Accessibility notes  \\\n",
       "66    Code to run FunSearch with an LLM of your choi...   \n",
       "75                                                  NaN   \n",
       "96    can't use to train other models:\\n\\nhttps://de...   \n",
       "102                            MIT for weights and code   \n",
       "115                                     Llama 2 license   \n",
       "...                                                 ...   \n",
       "1139  apache 2.0: https://github.com/allenai/bi-att-...   \n",
       "1145                                                NaN   \n",
       "1146           presumably deployed via Google translate   \n",
       "1172                                                NaN   \n",
       "1173                                                NaN   \n",
       "\n",
       "      Organization categorization (from Organization) Possibly over 1e23 FLOP  \n",
       "66                                           Industry                     NaN  \n",
       "75                                           Industry                     NaN  \n",
       "96                                           Industry                     NaN  \n",
       "102                        Industry,Academia,Academia                     NaN  \n",
       "115                                 Academia,Industry                     NaN  \n",
       "...                                               ...                     ...  \n",
       "1139                     Academia,Research collective                     NaN  \n",
       "1145                                         Industry                     NaN  \n",
       "1146                                         Industry                     NaN  \n",
       "1172                                         Academia                     NaN  \n",
       "1173                                         Academia                     NaN  \n",
       "\n",
       "[132 rows x 58 columns]"
      ]
     },
     "execution_count": 13,
     "metadata": {},
     "output_type": "execute_result"
    }
   ],
   "source": [
    "training_time_df = frontier_pcd_df.dropna(subset=['Training time (hours)'])\n",
    "training_time_df"
   ]
  },
  {
   "cell_type": "code",
   "execution_count": null,
   "metadata": {},
   "outputs": [
    {
     "name": "stderr",
     "output_type": "stream",
     "text": [
      "/var/folders/s2/stl5t_bn7xg9vdfxxr71rzrc0000gn/T/ipykernel_10737/1688430577.py:1: SettingWithCopyWarning:\n",
      "\n",
      "\n",
      "A value is trying to be set on a copy of a slice from a DataFrame.\n",
      "Try using .loc[row_indexer,col_indexer] = value instead\n",
      "\n",
      "See the caveats in the documentation: https://pandas.pydata.org/pandas-docs/stable/user_guide/indexing.html#returning-a-view-versus-a-copy\n",
      "\n"
     ]
    },
    {
     "data": {
      "text/html": [
       "<table class=\"simpletable\">\n",
       "<caption>OLS Regression Results</caption>\n",
       "<tr>\n",
       "  <th>Dep. Variable:</th>            <td>y</td>        <th>  R-squared:         </th> <td>   0.043</td>\n",
       "</tr>\n",
       "<tr>\n",
       "  <th>Model:</th>                   <td>OLS</td>       <th>  Adj. R-squared:    </th> <td>   0.036</td>\n",
       "</tr>\n",
       "<tr>\n",
       "  <th>Method:</th>             <td>Least Squares</td>  <th>  F-statistic:       </th> <td>   5.875</td>\n",
       "</tr>\n",
       "<tr>\n",
       "  <th>Date:</th>             <td>Fri, 10 May 2024</td> <th>  Prob (F-statistic):</th>  <td>0.0167</td> \n",
       "</tr>\n",
       "<tr>\n",
       "  <th>Time:</th>                 <td>15:00:28</td>     <th>  Log-Likelihood:    </th> <td> -139.44</td>\n",
       "</tr>\n",
       "<tr>\n",
       "  <th>No. Observations:</th>      <td>   132</td>      <th>  AIC:               </th> <td>   282.9</td>\n",
       "</tr>\n",
       "<tr>\n",
       "  <th>Df Residuals:</th>          <td>   130</td>      <th>  BIC:               </th> <td>   288.6</td>\n",
       "</tr>\n",
       "<tr>\n",
       "  <th>Df Model:</th>              <td>     1</td>      <th>                     </th>     <td> </td>   \n",
       "</tr>\n",
       "<tr>\n",
       "  <th>Covariance Type:</th>      <td>nonrobust</td>    <th>                     </th>     <td> </td>   \n",
       "</tr>\n",
       "</table>\n",
       "<table class=\"simpletable\">\n",
       "<tr>\n",
       "    <td></td>       <th>coef</th>     <th>std err</th>      <th>t</th>      <th>P>|t|</th>  <th>[0.025</th>    <th>0.975]</th>  \n",
       "</tr>\n",
       "<tr>\n",
       "  <th>const</th> <td> -148.6952</td> <td>   62.329</td> <td>   -2.386</td> <td> 0.018</td> <td> -272.005</td> <td>  -25.385</td>\n",
       "</tr>\n",
       "<tr>\n",
       "  <th>x1</th>    <td>    0.0747</td> <td>    0.031</td> <td>    2.424</td> <td> 0.017</td> <td>    0.014</td> <td>    0.136</td>\n",
       "</tr>\n",
       "</table>\n",
       "<table class=\"simpletable\">\n",
       "<tr>\n",
       "  <th>Omnibus:</th>       <td>35.341</td> <th>  Durbin-Watson:     </th> <td>   1.977</td>\n",
       "</tr>\n",
       "<tr>\n",
       "  <th>Prob(Omnibus):</th> <td> 0.000</td> <th>  Jarque-Bera (JB):  </th> <td>  86.651</td>\n",
       "</tr>\n",
       "<tr>\n",
       "  <th>Skew:</th>          <td>-1.052</td> <th>  Prob(JB):          </th> <td>1.53e-19</td>\n",
       "</tr>\n",
       "<tr>\n",
       "  <th>Kurtosis:</th>      <td> 6.366</td> <th>  Cond. No.          </th> <td>2.06e+06</td>\n",
       "</tr>\n",
       "</table><br/><br/>Notes:<br/>[1] Standard Errors assume that the covariance matrix of the errors is correctly specified.<br/>[2] The condition number is large, 2.06e+06. This might indicate that there are<br/>strong multicollinearity or other numerical problems."
      ],
      "text/latex": [
       "\\begin{center}\n",
       "\\begin{tabular}{lclc}\n",
       "\\toprule\n",
       "\\textbf{Dep. Variable:}    &        y         & \\textbf{  R-squared:         } &     0.043   \\\\\n",
       "\\textbf{Model:}            &       OLS        & \\textbf{  Adj. R-squared:    } &     0.036   \\\\\n",
       "\\textbf{Method:}           &  Least Squares   & \\textbf{  F-statistic:       } &     5.875   \\\\\n",
       "\\textbf{Date:}             & Fri, 10 May 2024 & \\textbf{  Prob (F-statistic):} &   0.0167    \\\\\n",
       "\\textbf{Time:}             &     15:00:28     & \\textbf{  Log-Likelihood:    } &   -139.44   \\\\\n",
       "\\textbf{No. Observations:} &         132      & \\textbf{  AIC:               } &     282.9   \\\\\n",
       "\\textbf{Df Residuals:}     &         130      & \\textbf{  BIC:               } &     288.6   \\\\\n",
       "\\textbf{Df Model:}         &           1      & \\textbf{                     } &             \\\\\n",
       "\\textbf{Covariance Type:}  &    nonrobust     & \\textbf{                     } &             \\\\\n",
       "\\bottomrule\n",
       "\\end{tabular}\n",
       "\\begin{tabular}{lcccccc}\n",
       "               & \\textbf{coef} & \\textbf{std err} & \\textbf{t} & \\textbf{P$> |$t$|$} & \\textbf{[0.025} & \\textbf{0.975]}  \\\\\n",
       "\\midrule\n",
       "\\textbf{const} &    -148.6952  &       62.329     &    -2.386  &         0.018        &     -272.005    &      -25.385     \\\\\n",
       "\\textbf{x1}    &       0.0747  &        0.031     &     2.424  &         0.017        &        0.014    &        0.136     \\\\\n",
       "\\bottomrule\n",
       "\\end{tabular}\n",
       "\\begin{tabular}{lclc}\n",
       "\\textbf{Omnibus:}       & 35.341 & \\textbf{  Durbin-Watson:     } &    1.977  \\\\\n",
       "\\textbf{Prob(Omnibus):} &  0.000 & \\textbf{  Jarque-Bera (JB):  } &   86.651  \\\\\n",
       "\\textbf{Skew:}          & -1.052 & \\textbf{  Prob(JB):          } & 1.53e-19  \\\\\n",
       "\\textbf{Kurtosis:}      &  6.366 & \\textbf{  Cond. No.          } & 2.06e+06  \\\\\n",
       "\\bottomrule\n",
       "\\end{tabular}\n",
       "%\\caption{OLS Regression Results}\n",
       "\\end{center}\n",
       "\n",
       "Notes: \\newline\n",
       " [1] Standard Errors assume that the covariance matrix of the errors is correctly specified. \\newline\n",
       " [2] The condition number is large, 2.06e+06. This might indicate that there are \\newline\n",
       " strong multicollinearity or other numerical problems."
      ],
      "text/plain": [
       "<class 'statsmodels.iolib.summary.Summary'>\n",
       "\"\"\"\n",
       "                            OLS Regression Results                            \n",
       "==============================================================================\n",
       "Dep. Variable:                      y   R-squared:                       0.043\n",
       "Model:                            OLS   Adj. R-squared:                  0.036\n",
       "Method:                 Least Squares   F-statistic:                     5.875\n",
       "Date:                Fri, 10 May 2024   Prob (F-statistic):             0.0167\n",
       "Time:                        15:00:28   Log-Likelihood:                -139.44\n",
       "No. Observations:                 132   AIC:                             282.9\n",
       "Df Residuals:                     130   BIC:                             288.6\n",
       "Df Model:                           1                                         \n",
       "Covariance Type:            nonrobust                                         \n",
       "==============================================================================\n",
       "                 coef    std err          t      P>|t|      [0.025      0.975]\n",
       "------------------------------------------------------------------------------\n",
       "const       -148.6952     62.329     -2.386      0.018    -272.005     -25.385\n",
       "x1             0.0747      0.031      2.424      0.017       0.014       0.136\n",
       "==============================================================================\n",
       "Omnibus:                       35.341   Durbin-Watson:                   1.977\n",
       "Prob(Omnibus):                  0.000   Jarque-Bera (JB):               86.651\n",
       "Skew:                          -1.052   Prob(JB):                     1.53e-19\n",
       "Kurtosis:                       6.366   Cond. No.                     2.06e+06\n",
       "==============================================================================\n",
       "\n",
       "Notes:\n",
       "[1] Standard Errors assume that the covariance matrix of the errors is correctly specified.\n",
       "[2] The condition number is large, 2.06e+06. This might indicate that there are\n",
       "strong multicollinearity or other numerical problems.\n",
       "\"\"\""
      ]
     },
     "execution_count": 14,
     "metadata": {},
     "output_type": "execute_result"
    }
   ],
   "source": [
    "training_time_df['Publication date (float)'] = datetime_to_float_year(pd.to_datetime(training_time_df['Publication date']))\n",
    "reg_results = fit_ols_regression(training_time_df, ['Publication date (float)'], 'Training time (hours)', logy=True)\n",
    "reg_results.summary()"
   ]
  },
  {
   "cell_type": "code",
   "execution_count": null,
   "metadata": {},
   "outputs": [
    {
     "data": {
      "application/vnd.plotly.v1+json": {
       "config": {
        "plotlyServerURL": "https://plot.ly"
       },
       "data": [
        {
         "mode": "markers",
         "text": [
          "FunSearch",
          "Gemini Ultra",
          "Nemotron-3-8B",
          "MultiBand Diffusion",
          "LLaVA 1.5",
          "Skywork-13B",
          "CODEFUSION (Python)",
          "Falcon-180B",
          "Jais",
          "PeptideBERT",
          "Llama 2-70B",
          "xTrimoPGLM -100B",
          "Pangu-Weather",
          "StarCoder",
          "WizardLM-7B",
          "LLaVA",
          "Incoder-6.7B",
          "Segment Anything Model",
          "BloombergGPT",
          "VideoMAE V2",
          "PanGu-Σ",
          "GPT-4",
          "Falcon-40B",
          "AudioGen",
          "LLaMA-65B",
          "Flan T5-XXL + BLIP-2",
          "BLIP-2 (Q-Former)",
          "DDPM-IP (CelebA)",
          "Nucleotide Transformer",
          "CaLM",
          "Discriminator Guidance",
          "AR-LDM",
          "Fusion in Encoder",
          "EVA-01",
          "BLOOM-176B",
          "Taiyi-Stable Diffusion",
          "U-PaLM (540B)",
          "DiffDock",
          "PaLI",
          "GLM-130B",
          "AlexaTM 20B",
          "ESM2-15B",
          "CodeT5-large",
          "Minerva (540B)",
          "CoCa",
          "Tranception",
          "Imagen",
          "Gato",
          "UL2",
          "OPT-175B",
          "Flamingo",
          "Sparse all-MLP",
          "Stable Diffusion (LDM-KL-8-G)",
          "PaLM (540B)",
          "PolyCoder",
          "LaMDA",
          "ProteinBERT",
          "GPT-NeoX-20B",
          "Detic",
          "XGLM-7.5B",
          "GLaM",
          "Gopher (280B)",
          "Florence",
          "Masked Autoencoders",
          "CodeT5-base",
          "T0-XXL",
          "Megatron-Turing NLG 530B",
          "AlphaFold-Multimer",
          "HyperCLOVA",
          "FLAN 137B",
          "DNABERT",
          "SEER",
          "EfficientNetV2",
          "ALIGN",
          "DeBERTa",
          "EMDR",
          "ConSERT",
          "MedBERT",
          "PLUG",
          "Meta Pseudo Labels",
          "Switch",
          "CLIP (ViT L/14@336px)",
          "DensePhrases",
          "CPM-Large",
          "AlphaFold 2",
          "GBERT-Large",
          "German ELECTRA Large",
          "Conformer + Wav2vec 2.0 + Noisy Student",
          "LUKE",
          "ProBERTa",
          "GShard (dense)",
          "GPT-3 175B (davinci)",
          "ATLAS",
          "ALBERT-xxlarge",
          "Meena",
          "ContextNet + Noisy Student",
          "AlphaFold",
          "DD-PPO",
          "OpenAI Five",
          "Noisy Student (L2)",
          "CamemBERT",
          "AlphaStar",
          "T5-11B",
          "Megatron-BERT",
          "Megatron-LM (8.3B)",
          "RoBERTa Large",
          "MnasNet-A3",
          "MnasNet-A1 + SSDLite",
          "SciBERT",
          "KataGo",
          "Mesh-TensorFlow Transformer 4.9B (language modelling)",
          "Mesh-TensorFlow Transformer 2.9B (translation)",
          "BERT-Large",
          "BigGAN-deep 512x512",
          "Transformer (Adaptive Input Embeddings)",
          "Big Transformer for Back-Translation",
          "QT-Opt",
          "GPT",
          "LSTM (Hebbian, Cache, MbPA)",
          "AmoebaNet-A (F=448)",
          "IMPALA",
          "AlphaGo Zero",
          "RetinaNet-R101",
          "JFT",
          "Transformer",
          "MoE",
          "DeepStack",
          "BIDAF",
          "Xception",
          "GNMT",
          "Part-of-sentence tagging model",
          "Named Entity Recognition model"
         ],
         "type": "scatter",
         "x": [
          "2023-12-14T00:00:00",
          "2023-12-06T00:00:00",
          "2023-11-15T00:00:00",
          "2023-11-08T00:00:00",
          "2023-11-05T00:00:00",
          "2023-10-30T00:00:00",
          "2023-10-26T00:00:00",
          "2023-09-06T00:00:00",
          "2023-08-29T00:00:00",
          "2023-08-28T00:00:00",
          "2023-07-18T00:00:00",
          "2023-07-06T00:00:00",
          "2023-07-05T00:00:00",
          "2023-05-09T00:00:00",
          "2023-04-24T00:00:00",
          "2023-04-17T00:00:00",
          "2023-04-09T00:00:00",
          "2023-04-05T00:00:00",
          "2023-03-30T00:00:00",
          "2023-03-29T00:00:00",
          "2023-03-20T00:00:00",
          "2023-03-15T00:00:00",
          "2023-03-15T00:00:00",
          "2023-03-05T00:00:00",
          "2023-02-24T00:00:00",
          "2023-01-30T00:00:00",
          "2023-01-30T00:00:00",
          "2023-01-27T00:00:00",
          "2023-01-15T00:00:00",
          "2022-12-19T00:00:00",
          "2022-11-28T00:00:00",
          "2022-11-20T00:00:00",
          "2022-11-18T00:00:00",
          "2022-11-14T00:00:00",
          "2022-11-08T00:00:00",
          "2022-10-31T00:00:00",
          "2022-10-20T00:00:00",
          "2022-10-04T00:00:00",
          "2022-09-14T00:00:00",
          "2022-08-04T00:00:00",
          "2022-08-02T00:00:00",
          "2022-07-21T00:00:00",
          "2022-07-05T00:00:00",
          "2022-06-29T00:00:00",
          "2022-06-14T00:00:00",
          "2022-05-27T00:00:00",
          "2022-05-23T00:00:00",
          "2022-05-12T00:00:00",
          "2022-05-10T00:00:00",
          "2022-05-02T00:00:00",
          "2022-04-29T00:00:00",
          "2022-04-14T00:00:00",
          "2022-04-13T00:00:00",
          "2022-04-04T00:00:00",
          "2022-02-26T00:00:00",
          "2022-02-10T00:00:00",
          "2022-02-10T00:00:00",
          "2022-02-09T00:00:00",
          "2022-01-07T00:00:00",
          "2021-12-20T00:00:00",
          "2021-12-13T00:00:00",
          "2021-12-08T00:00:00",
          "2021-11-22T00:00:00",
          "2021-11-11T00:00:00",
          "2021-11-01T00:00:00",
          "2021-10-15T00:00:00",
          "2021-10-11T00:00:00",
          "2021-10-04T00:00:00",
          "2021-09-10T00:00:00",
          "2021-09-03T00:00:00",
          "2021-08-15T00:00:00",
          "2021-07-29T00:00:00",
          "2021-06-23T00:00:00",
          "2021-06-11T00:00:00",
          "2021-06-10T00:00:00",
          "2021-06-09T00:00:00",
          "2021-05-25T00:00:00",
          "2021-05-20T00:00:00",
          "2021-04-19T00:00:00",
          "2021-03-01T00:00:00",
          "2021-01-11T00:00:00",
          "2021-01-05T00:00:00",
          "2020-12-23T00:00:00",
          "2020-12-01T00:00:00",
          "2020-11-30T00:00:00",
          "2020-10-21T00:00:00",
          "2020-10-21T00:00:00",
          "2020-10-20T00:00:00",
          "2020-10-02T00:00:00",
          "2020-09-01T00:00:00",
          "2020-06-30T00:00:00",
          "2020-05-28T00:00:00",
          "2020-05-02T00:00:00",
          "2020-02-09T00:00:00",
          "2020-01-28T00:00:00",
          "2020-01-19T00:00:00",
          "2020-01-15T00:00:00",
          "2019-12-19T00:00:00",
          "2019-12-13T00:00:00",
          "2019-11-11T00:00:00",
          "2019-11-10T00:00:00",
          "2019-10-30T00:00:00",
          "2019-10-23T00:00:00",
          "2019-09-17T00:00:00",
          "2019-09-17T00:00:00",
          "2019-07-01T00:00:00",
          "2019-05-29T00:00:00",
          "2019-05-29T00:00:00",
          "2019-03-26T00:00:00",
          "2019-02-27T00:00:00",
          "2018-11-05T00:00:00",
          "2018-11-05T00:00:00",
          "2018-10-11T00:00:00",
          "2018-09-28T00:00:00",
          "2018-09-28T00:00:00",
          "2018-08-28T00:00:00",
          "2018-06-27T00:00:00",
          "2018-06-01T00:00:00",
          "2018-03-27T00:00:00",
          "2018-02-05T00:00:00",
          "2018-02-05T00:00:00",
          "2017-10-18T00:00:00",
          "2017-08-07T00:00:00",
          "2017-07-10T00:00:00",
          "2017-06-12T00:00:00",
          "2017-01-23T00:00:00",
          "2017-01-06T00:00:00",
          "2016-11-05T00:00:00",
          "2016-10-07T00:00:00",
          "2016-09-26T00:00:00",
          "2016-05-29T00:00:00",
          "2016-05-29T00:00:00"
         ],
         "y": [
          48,
          2400,
          456,
          48,
          24,
          940,
          11,
          4320,
          600,
          4.1,
          1728,
          3912,
          1536,
          625.5,
          70,
          10,
          576,
          68,
          1270,
          330,
          2400,
          2280,
          1440,
          168,
          500,
          200,
          200,
          120,
          672,
          960,
          481,
          194,
          48,
          348,
          2808,
          100,
          120,
          432,
          168,
          1440,
          2880,
          1440,
          504,
          696,
          120,
          336,
          96,
          96,
          744,
          793.5,
          360,
          112,
          585.9,
          1368,
          1000,
          1385,
          672,
          2160,
          24,
          504,
          1366,
          920,
          240,
          69,
          288,
          270,
          770,
          384,
          643.2,
          60,
          600,
          192,
          45,
          347.3,
          240,
          230,
          0.1,
          168,
          840,
          264,
          648,
          288,
          20,
          336,
          264,
          264,
          168,
          168,
          720,
          18,
          1008,
          355.2,
          36,
          32,
          720,
          240,
          120,
          66,
          7104,
          144,
          24,
          1056,
          481.9,
          1392,
          327,
          120,
          108,
          108,
          168,
          456,
          13,
          22,
          96,
          48,
          67,
          27.7,
          104.2,
          720,
          144,
          168,
          100,
          480,
          35,
          1440,
          84,
          288,
          218,
          60,
          720,
          4320,
          12,
          8
         ]
        }
       ],
       "layout": {
        "height": 600,
        "template": {
         "data": {
          "bar": [
           {
            "error_x": {
             "color": "#2a3f5f"
            },
            "error_y": {
             "color": "#2a3f5f"
            },
            "marker": {
             "line": {
              "color": "#E5ECF6",
              "width": 0.5
             },
             "pattern": {
              "fillmode": "overlay",
              "size": 10,
              "solidity": 0.2
             }
            },
            "type": "bar"
           }
          ],
          "barpolar": [
           {
            "marker": {
             "line": {
              "color": "#E5ECF6",
              "width": 0.5
             },
             "pattern": {
              "fillmode": "overlay",
              "size": 10,
              "solidity": 0.2
             }
            },
            "type": "barpolar"
           }
          ],
          "carpet": [
           {
            "aaxis": {
             "endlinecolor": "#2a3f5f",
             "gridcolor": "white",
             "linecolor": "white",
             "minorgridcolor": "white",
             "startlinecolor": "#2a3f5f"
            },
            "baxis": {
             "endlinecolor": "#2a3f5f",
             "gridcolor": "white",
             "linecolor": "white",
             "minorgridcolor": "white",
             "startlinecolor": "#2a3f5f"
            },
            "type": "carpet"
           }
          ],
          "choropleth": [
           {
            "colorbar": {
             "outlinewidth": 0,
             "ticks": ""
            },
            "type": "choropleth"
           }
          ],
          "contour": [
           {
            "colorbar": {
             "outlinewidth": 0,
             "ticks": ""
            },
            "colorscale": [
             [
              0,
              "#0d0887"
             ],
             [
              0.1111111111111111,
              "#46039f"
             ],
             [
              0.2222222222222222,
              "#7201a8"
             ],
             [
              0.3333333333333333,
              "#9c179e"
             ],
             [
              0.4444444444444444,
              "#bd3786"
             ],
             [
              0.5555555555555556,
              "#d8576b"
             ],
             [
              0.6666666666666666,
              "#ed7953"
             ],
             [
              0.7777777777777778,
              "#fb9f3a"
             ],
             [
              0.8888888888888888,
              "#fdca26"
             ],
             [
              1,
              "#f0f921"
             ]
            ],
            "type": "contour"
           }
          ],
          "contourcarpet": [
           {
            "colorbar": {
             "outlinewidth": 0,
             "ticks": ""
            },
            "type": "contourcarpet"
           }
          ],
          "heatmap": [
           {
            "colorbar": {
             "outlinewidth": 0,
             "ticks": ""
            },
            "colorscale": [
             [
              0,
              "#0d0887"
             ],
             [
              0.1111111111111111,
              "#46039f"
             ],
             [
              0.2222222222222222,
              "#7201a8"
             ],
             [
              0.3333333333333333,
              "#9c179e"
             ],
             [
              0.4444444444444444,
              "#bd3786"
             ],
             [
              0.5555555555555556,
              "#d8576b"
             ],
             [
              0.6666666666666666,
              "#ed7953"
             ],
             [
              0.7777777777777778,
              "#fb9f3a"
             ],
             [
              0.8888888888888888,
              "#fdca26"
             ],
             [
              1,
              "#f0f921"
             ]
            ],
            "type": "heatmap"
           }
          ],
          "heatmapgl": [
           {
            "colorbar": {
             "outlinewidth": 0,
             "ticks": ""
            },
            "colorscale": [
             [
              0,
              "#0d0887"
             ],
             [
              0.1111111111111111,
              "#46039f"
             ],
             [
              0.2222222222222222,
              "#7201a8"
             ],
             [
              0.3333333333333333,
              "#9c179e"
             ],
             [
              0.4444444444444444,
              "#bd3786"
             ],
             [
              0.5555555555555556,
              "#d8576b"
             ],
             [
              0.6666666666666666,
              "#ed7953"
             ],
             [
              0.7777777777777778,
              "#fb9f3a"
             ],
             [
              0.8888888888888888,
              "#fdca26"
             ],
             [
              1,
              "#f0f921"
             ]
            ],
            "type": "heatmapgl"
           }
          ],
          "histogram": [
           {
            "marker": {
             "pattern": {
              "fillmode": "overlay",
              "size": 10,
              "solidity": 0.2
             }
            },
            "type": "histogram"
           }
          ],
          "histogram2d": [
           {
            "colorbar": {
             "outlinewidth": 0,
             "ticks": ""
            },
            "colorscale": [
             [
              0,
              "#0d0887"
             ],
             [
              0.1111111111111111,
              "#46039f"
             ],
             [
              0.2222222222222222,
              "#7201a8"
             ],
             [
              0.3333333333333333,
              "#9c179e"
             ],
             [
              0.4444444444444444,
              "#bd3786"
             ],
             [
              0.5555555555555556,
              "#d8576b"
             ],
             [
              0.6666666666666666,
              "#ed7953"
             ],
             [
              0.7777777777777778,
              "#fb9f3a"
             ],
             [
              0.8888888888888888,
              "#fdca26"
             ],
             [
              1,
              "#f0f921"
             ]
            ],
            "type": "histogram2d"
           }
          ],
          "histogram2dcontour": [
           {
            "colorbar": {
             "outlinewidth": 0,
             "ticks": ""
            },
            "colorscale": [
             [
              0,
              "#0d0887"
             ],
             [
              0.1111111111111111,
              "#46039f"
             ],
             [
              0.2222222222222222,
              "#7201a8"
             ],
             [
              0.3333333333333333,
              "#9c179e"
             ],
             [
              0.4444444444444444,
              "#bd3786"
             ],
             [
              0.5555555555555556,
              "#d8576b"
             ],
             [
              0.6666666666666666,
              "#ed7953"
             ],
             [
              0.7777777777777778,
              "#fb9f3a"
             ],
             [
              0.8888888888888888,
              "#fdca26"
             ],
             [
              1,
              "#f0f921"
             ]
            ],
            "type": "histogram2dcontour"
           }
          ],
          "mesh3d": [
           {
            "colorbar": {
             "outlinewidth": 0,
             "ticks": ""
            },
            "type": "mesh3d"
           }
          ],
          "parcoords": [
           {
            "line": {
             "colorbar": {
              "outlinewidth": 0,
              "ticks": ""
             }
            },
            "type": "parcoords"
           }
          ],
          "pie": [
           {
            "automargin": true,
            "type": "pie"
           }
          ],
          "scatter": [
           {
            "fillpattern": {
             "fillmode": "overlay",
             "size": 10,
             "solidity": 0.2
            },
            "type": "scatter"
           }
          ],
          "scatter3d": [
           {
            "line": {
             "colorbar": {
              "outlinewidth": 0,
              "ticks": ""
             }
            },
            "marker": {
             "colorbar": {
              "outlinewidth": 0,
              "ticks": ""
             }
            },
            "type": "scatter3d"
           }
          ],
          "scattercarpet": [
           {
            "marker": {
             "colorbar": {
              "outlinewidth": 0,
              "ticks": ""
             }
            },
            "type": "scattercarpet"
           }
          ],
          "scattergeo": [
           {
            "marker": {
             "colorbar": {
              "outlinewidth": 0,
              "ticks": ""
             }
            },
            "type": "scattergeo"
           }
          ],
          "scattergl": [
           {
            "marker": {
             "colorbar": {
              "outlinewidth": 0,
              "ticks": ""
             }
            },
            "type": "scattergl"
           }
          ],
          "scattermapbox": [
           {
            "marker": {
             "colorbar": {
              "outlinewidth": 0,
              "ticks": ""
             }
            },
            "type": "scattermapbox"
           }
          ],
          "scatterpolar": [
           {
            "marker": {
             "colorbar": {
              "outlinewidth": 0,
              "ticks": ""
             }
            },
            "type": "scatterpolar"
           }
          ],
          "scatterpolargl": [
           {
            "marker": {
             "colorbar": {
              "outlinewidth": 0,
              "ticks": ""
             }
            },
            "type": "scatterpolargl"
           }
          ],
          "scatterternary": [
           {
            "marker": {
             "colorbar": {
              "outlinewidth": 0,
              "ticks": ""
             }
            },
            "type": "scatterternary"
           }
          ],
          "surface": [
           {
            "colorbar": {
             "outlinewidth": 0,
             "ticks": ""
            },
            "colorscale": [
             [
              0,
              "#0d0887"
             ],
             [
              0.1111111111111111,
              "#46039f"
             ],
             [
              0.2222222222222222,
              "#7201a8"
             ],
             [
              0.3333333333333333,
              "#9c179e"
             ],
             [
              0.4444444444444444,
              "#bd3786"
             ],
             [
              0.5555555555555556,
              "#d8576b"
             ],
             [
              0.6666666666666666,
              "#ed7953"
             ],
             [
              0.7777777777777778,
              "#fb9f3a"
             ],
             [
              0.8888888888888888,
              "#fdca26"
             ],
             [
              1,
              "#f0f921"
             ]
            ],
            "type": "surface"
           }
          ],
          "table": [
           {
            "cells": {
             "fill": {
              "color": "#EBF0F8"
             },
             "line": {
              "color": "white"
             }
            },
            "header": {
             "fill": {
              "color": "#C8D4E3"
             },
             "line": {
              "color": "white"
             }
            },
            "type": "table"
           }
          ]
         },
         "layout": {
          "annotationdefaults": {
           "arrowcolor": "#2a3f5f",
           "arrowhead": 0,
           "arrowwidth": 1
          },
          "autotypenumbers": "strict",
          "coloraxis": {
           "colorbar": {
            "outlinewidth": 0,
            "ticks": ""
           }
          },
          "colorscale": {
           "diverging": [
            [
             0,
             "#8e0152"
            ],
            [
             0.1,
             "#c51b7d"
            ],
            [
             0.2,
             "#de77ae"
            ],
            [
             0.3,
             "#f1b6da"
            ],
            [
             0.4,
             "#fde0ef"
            ],
            [
             0.5,
             "#f7f7f7"
            ],
            [
             0.6,
             "#e6f5d0"
            ],
            [
             0.7,
             "#b8e186"
            ],
            [
             0.8,
             "#7fbc41"
            ],
            [
             0.9,
             "#4d9221"
            ],
            [
             1,
             "#276419"
            ]
           ],
           "sequential": [
            [
             0,
             "#0d0887"
            ],
            [
             0.1111111111111111,
             "#46039f"
            ],
            [
             0.2222222222222222,
             "#7201a8"
            ],
            [
             0.3333333333333333,
             "#9c179e"
            ],
            [
             0.4444444444444444,
             "#bd3786"
            ],
            [
             0.5555555555555556,
             "#d8576b"
            ],
            [
             0.6666666666666666,
             "#ed7953"
            ],
            [
             0.7777777777777778,
             "#fb9f3a"
            ],
            [
             0.8888888888888888,
             "#fdca26"
            ],
            [
             1,
             "#f0f921"
            ]
           ],
           "sequentialminus": [
            [
             0,
             "#0d0887"
            ],
            [
             0.1111111111111111,
             "#46039f"
            ],
            [
             0.2222222222222222,
             "#7201a8"
            ],
            [
             0.3333333333333333,
             "#9c179e"
            ],
            [
             0.4444444444444444,
             "#bd3786"
            ],
            [
             0.5555555555555556,
             "#d8576b"
            ],
            [
             0.6666666666666666,
             "#ed7953"
            ],
            [
             0.7777777777777778,
             "#fb9f3a"
            ],
            [
             0.8888888888888888,
             "#fdca26"
            ],
            [
             1,
             "#f0f921"
            ]
           ]
          },
          "colorway": [
           "#636efa",
           "#EF553B",
           "#00cc96",
           "#ab63fa",
           "#FFA15A",
           "#19d3f3",
           "#FF6692",
           "#B6E880",
           "#FF97FF",
           "#FECB52"
          ],
          "font": {
           "color": "#2a3f5f"
          },
          "geo": {
           "bgcolor": "white",
           "lakecolor": "white",
           "landcolor": "#E5ECF6",
           "showlakes": true,
           "showland": true,
           "subunitcolor": "white"
          },
          "hoverlabel": {
           "align": "left"
          },
          "hovermode": "closest",
          "mapbox": {
           "style": "light"
          },
          "paper_bgcolor": "white",
          "plot_bgcolor": "#E5ECF6",
          "polar": {
           "angularaxis": {
            "gridcolor": "white",
            "linecolor": "white",
            "ticks": ""
           },
           "bgcolor": "#E5ECF6",
           "radialaxis": {
            "gridcolor": "white",
            "linecolor": "white",
            "ticks": ""
           }
          },
          "scene": {
           "xaxis": {
            "backgroundcolor": "#E5ECF6",
            "gridcolor": "white",
            "gridwidth": 2,
            "linecolor": "white",
            "showbackground": true,
            "ticks": "",
            "zerolinecolor": "white"
           },
           "yaxis": {
            "backgroundcolor": "#E5ECF6",
            "gridcolor": "white",
            "gridwidth": 2,
            "linecolor": "white",
            "showbackground": true,
            "ticks": "",
            "zerolinecolor": "white"
           },
           "zaxis": {
            "backgroundcolor": "#E5ECF6",
            "gridcolor": "white",
            "gridwidth": 2,
            "linecolor": "white",
            "showbackground": true,
            "ticks": "",
            "zerolinecolor": "white"
           }
          },
          "shapedefaults": {
           "line": {
            "color": "#2a3f5f"
           }
          },
          "ternary": {
           "aaxis": {
            "gridcolor": "white",
            "linecolor": "white",
            "ticks": ""
           },
           "baxis": {
            "gridcolor": "white",
            "linecolor": "white",
            "ticks": ""
           },
           "bgcolor": "#E5ECF6",
           "caxis": {
            "gridcolor": "white",
            "linecolor": "white",
            "ticks": ""
           }
          },
          "title": {
           "x": 0.05
          },
          "xaxis": {
           "automargin": true,
           "gridcolor": "white",
           "linecolor": "white",
           "ticks": "",
           "title": {
            "standoff": 15
           },
           "zerolinecolor": "white",
           "zerolinewidth": 2
          },
          "yaxis": {
           "automargin": true,
           "gridcolor": "white",
           "linecolor": "white",
           "ticks": "",
           "title": {
            "standoff": 15
           },
           "zerolinecolor": "white",
           "zerolinewidth": 2
          }
         }
        },
        "title": {
         "text": "Training times of notable models"
        },
        "width": 800,
        "xaxis": {
         "title": {
          "text": "Publication date"
         }
        },
        "yaxis": {
         "title": {
          "text": "Training time (hours)"
         },
         "type": "log"
        }
       }
      }
     },
     "metadata": {},
     "output_type": "display_data"
    }
   ],
   "source": [
    "# Plot training time\n",
    "fig = go.Figure()\n",
    "fig.add_trace(go.Scatter(\n",
    "    x=training_time_df['Publication date'],\n",
    "    y=training_time_df['Training time (hours)'],\n",
    "    mode='markers',\n",
    "    text=training_time_df['System']\n",
    "))\n",
    "fig.update_layout(\n",
    "    title='Training times of notable models',\n",
    "    xaxis_title='Publication date',\n",
    "    yaxis_title='Training time (hours)',\n",
    "    yaxis_type='log',\n",
    "    width=800,\n",
    "    height=600,\n",
    ")\n",
    "fig.show()"
   ]
  },
  {
   "cell_type": "code",
   "execution_count": null,
   "metadata": {},
   "outputs": [
    {
     "data": {
      "text/plain": [
       "279.0"
      ]
     },
     "execution_count": 16,
     "metadata": {},
     "output_type": "execute_result"
    }
   ],
   "source": [
    "np.median(training_time_df['Training time (hours)'])"
   ]
  },
  {
   "cell_type": "code",
   "execution_count": null,
   "metadata": {},
   "outputs": [
    {
     "data": {
      "text/plain": [
       "28.130000000000006"
      ]
     },
     "execution_count": 17,
     "metadata": {},
     "output_type": "execute_result"
    }
   ],
   "source": [
    "np.percentile(training_time_df['Training time (hours)'], 10)"
   ]
  },
  {
   "cell_type": "code",
   "execution_count": null,
   "metadata": {},
   "outputs": [
    {
     "data": {
      "text/plain": [
       "1440.0"
      ]
     },
     "execution_count": 18,
     "metadata": {},
     "output_type": "execute_result"
    }
   ],
   "source": [
    "np.percentile(training_time_df['Training time (hours)'], 90)"
   ]
  },
  {
   "cell_type": "code",
   "execution_count": null,
   "metadata": {},
   "outputs": [
    {
     "data": {
      "text/plain": [
       "132"
      ]
     },
     "execution_count": 19,
     "metadata": {},
     "output_type": "execute_result"
    }
   ],
   "source": [
    "training_time_df['Training time (hours)'].notna().sum()"
   ]
  },
  {
   "cell_type": "markdown",
   "metadata": {},
   "source": [
    "# Hardware depreciation"
   ]
  },
  {
   "cell_type": "code",
   "execution_count": null,
   "metadata": {},
   "outputs": [
    {
     "data": {
      "application/vnd.plotly.v1+json": {
       "config": {
        "plotlyServerURL": "https://plot.ly"
       },
       "data": [
        {
         "mode": "lines",
         "name": "Exponential: price performance trend",
         "type": "scatter",
         "x": [
          0,
          0.1,
          0.2,
          0.30000000000000004,
          0.4,
          0.5,
          0.6000000000000001,
          0.7000000000000001,
          0.8,
          0.9,
          1,
          1.1,
          1.2000000000000002,
          1.3,
          1.4000000000000001,
          1.5,
          1.6,
          1.7000000000000002,
          1.8,
          1.9000000000000001,
          2,
          2.1,
          2.2,
          2.3000000000000003,
          2.4000000000000004,
          2.5,
          2.6,
          2.7,
          2.8000000000000003,
          2.9000000000000004,
          3,
          3.1,
          3.2,
          3.3000000000000003,
          3.4000000000000004,
          3.5,
          3.6,
          3.7,
          3.8000000000000003,
          3.9000000000000004,
          4,
          4.1000000000000005,
          4.2,
          4.3,
          4.4,
          4.5,
          4.6000000000000005,
          4.7,
          4.800000000000001,
          4.9,
          5,
          5.1000000000000005,
          5.2,
          5.300000000000001,
          5.4,
          5.5,
          5.6000000000000005,
          5.7,
          5.800000000000001,
          5.9,
          6
         ],
         "y": [
          1,
          0.9682778562612492,
          0.9375620069258802,
          0.9078205301781858,
          0.8790225168308843,
          0.8511380382023764,
          0.8241381150130023,
          0.7979946872679766,
          0.7726805850957023,
          0.7481695005111543,
          0.72443596007499,
          0.7014552984199712,
          0.6792036326171845,
          0.6576578373554205,
          0.6367955209079158,
          0.6165950018614821,
          0.5970352865838369,
          0.5780960474057181,
          0.5597576014951101,
          0.5420008904016238,
          0.5248074602497725,
          0.5081594425605604,
          0.49203953568145087,
          0.4764309868054156,
          0.4613175745603793,
          0.4466835921509631,
          0.4325138310350087,
          0.4187935651179183,
          0.4055085354483838,
          0.39264493539959977,
          0.38018939632056115,
          0.3681289736425314,
          0.3564511334262442,
          0.3451437393358562,
          0.33419504002611417,
          0.3235936569296282,
          0.3133285724315585,
          0.30338911841942695,
          0.29376496519615297,
          0.2844461107447915,
          0.2754228703338166,
          0.26668586645214787,
          0.2582260190634596,
          0.25003453616964316,
          0.24210290467361775,
          0.23442288153199214,
          0.22698648518838213,
          0.21978598727848242,
          0.21281390459827113,
          0.20606299132699996,
          0.19952623149688792,
          0.19319683170169233,
          0.18706821403658003,
          0.18113400926196016,
          0.17538805018417608,
          0.16982436524617442,
          0.1644371723214931,
          0.15922087270511695,
          0.15417004529495587,
          0.14927944095789955,
          0.1445439770745927
         ]
        },
        {
         "line": {
          "width": 0
         },
         "mode": "lines",
         "showlegend": false,
         "type": "scatter",
         "x": [
          0,
          0.1,
          0.2,
          0.30000000000000004,
          0.4,
          0.5,
          0.6000000000000001,
          0.7000000000000001,
          0.8,
          0.9,
          1,
          1.1,
          1.2000000000000002,
          1.3,
          1.4000000000000001,
          1.5,
          1.6,
          1.7000000000000002,
          1.8,
          1.9000000000000001,
          2,
          2.1,
          2.2,
          2.3000000000000003,
          2.4000000000000004,
          2.5,
          2.6,
          2.7,
          2.8000000000000003,
          2.9000000000000004,
          3,
          3.1,
          3.2,
          3.3000000000000003,
          3.4000000000000004,
          3.5,
          3.6,
          3.7,
          3.8000000000000003,
          3.9000000000000004,
          4,
          4.1000000000000005,
          4.2,
          4.3,
          4.4,
          4.5,
          4.6000000000000005,
          4.7,
          4.800000000000001,
          4.9,
          5,
          5.1000000000000005,
          5.2,
          5.300000000000001,
          5.4,
          5.5,
          5.6000000000000005,
          5.7,
          5.800000000000001,
          5.9,
          6
         ],
         "y": [
          1,
          0.9594006315159331,
          0.9204495717531713,
          0.8830799004185628,
          0.8472274141405964,
          0.8128305161640993,
          0.7798301105232587,
          0.7481695005111544,
          0.7177942912713617,
          0.688652296344276,
          0.660693448007596,
          0.6338697112569269,
          0.6081350012787179,
          0.5834451042737447,
          0.5597576014951101,
          0.5370317963702527,
          0.5152286445817565,
          0.49431068698683545,
          0.47424198526024464,
          0.45498806015004856,
          0.436515832240166,
          0.4187935651179184,
          0.4017908108489399,
          0.38547835766577176,
          0.36982817978026616,
          0.35481338923357547,
          0.3404081897010009,
          0.32658783217233583,
          0.31332857243155854,
          0.30060763026282306,
          0.28840315031266056,
          0.2766941645411512,
          0.265460556197554,
          0.2546830252585041,
          0.2443430552693972,
          0.2344228815319922,
          0.2249054605835781,
          0.21577444091526662,
          0.2070141348791042,
          0.1986094917357371,
          0.19054607179632474,
          0.18281002161427423,
          0.1753880501841761,
          0.16826740610704677,
          0.16143585568264862,
          0.15488166189124816,
          0.14859356422870068,
          0.14256075936021884,
          0.13677288255958486,
          0.13121998990192033,
          0.12589254117941676,
          0.120781383510678,
          0.11587773561551262,
          0.11117317272815912,
          0.10665961212302578,
          0.10232929922807542,
          0.09817479430199844,
          0.09418895965228413,
          0.09036494737223014,
          0.08669618757582165,
          0.08317637711026708
         ]
        },
        {
         "fill": "tonexty",
         "fillcolor": "rgba(0,100,200,0.2)",
         "line": {
          "width": 0
         },
         "mode": "lines",
         "name": "90% CI",
         "type": "scatter",
         "x": [
          0,
          0.1,
          0.2,
          0.30000000000000004,
          0.4,
          0.5,
          0.6000000000000001,
          0.7000000000000001,
          0.8,
          0.9,
          1,
          1.1,
          1.2000000000000002,
          1.3,
          1.4000000000000001,
          1.5,
          1.6,
          1.7000000000000002,
          1.8,
          1.9000000000000001,
          2,
          2.1,
          2.2,
          2.3000000000000003,
          2.4000000000000004,
          2.5,
          2.6,
          2.7,
          2.8000000000000003,
          2.9000000000000004,
          3,
          3.1,
          3.2,
          3.3000000000000003,
          3.4000000000000004,
          3.5,
          3.6,
          3.7,
          3.8000000000000003,
          3.9000000000000004,
          4,
          4.1000000000000005,
          4.2,
          4.3,
          4.4,
          4.5,
          4.6000000000000005,
          4.7,
          4.800000000000001,
          4.9,
          5,
          5.1000000000000005,
          5.2,
          5.300000000000001,
          5.4,
          5.5,
          5.6000000000000005,
          5.7,
          5.800000000000001,
          5.9,
          6
         ],
         "y": [
          1,
          0.9772372209558107,
          0.954992586021436,
          0.933254300796991,
          0.9120108393559098,
          0.8912509381337456,
          0.8709635899560806,
          0.8511380382023764,
          0.831763771102671,
          0.8128305161640992,
          0.7943282347242815,
          0.7762471166286917,
          0.7585775750291838,
          0.7413102413009175,
          0.72443596007499,
          0.7079457843841379,
          0.6918309709189364,
          0.6760829753919817,
          0.660693448007596,
          0.6456542290346555,
          0.6309573444801932,
          0.6165950018614821,
          0.6025595860743577,
          0.5888436553555889,
          0.5754399373371568,
          0.5623413251903491,
          0.5495408738576245,
          0.5370317963702527,
          0.5248074602497725,
          0.5128613839913648,
          0.5011872336272722,
          0.48977881936844614,
          0.47863009232263826,
          0.4677351412871981,
          0.45708818961487496,
          0.4466835921509631,
          0.43651583224016594,
          0.4265795188015926,
          0.41686938347033536,
          0.4073802778041127,
          0.3981071705534972,
          0.3890451449942805,
          0.38018939632056115,
          0.37153522909717257,
          0.3630780547701013,
          0.35481338923357547,
          0.34673685045253155,
          0.33884415613920255,
          0.33113112148259105,
          0.3235936569296282,
          0.31622776601683794,
          0.30902954325135895,
          0.3019951720402016,
          0.2951209226666385,
          0.28840315031266056,
          0.28183829312644537,
          0.2754228703338166,
          0.26915348039269155,
          0.26302679918953814,
          0.25703957827688634,
          0.25118864315095796
         ]
        },
        {
         "line": {
          "dash": "dot"
         },
         "mode": "lines",
         "name": "Linear: 3-year lifetime",
         "type": "scatter",
         "x": [
          0,
          0.1,
          0.2,
          0.30000000000000004,
          0.4,
          0.5,
          0.6000000000000001,
          0.7000000000000001,
          0.8,
          0.9,
          1,
          1.1,
          1.2000000000000002,
          1.3,
          1.4000000000000001,
          1.5,
          1.6,
          1.7000000000000002,
          1.8,
          1.9000000000000001,
          2,
          2.1,
          2.2,
          2.3000000000000003,
          2.4000000000000004,
          2.5,
          2.6,
          2.7,
          2.8000000000000003,
          2.9000000000000004,
          3,
          3.1,
          3.2,
          3.3000000000000003,
          3.4000000000000004,
          3.5,
          3.6,
          3.7,
          3.8000000000000003,
          3.9000000000000004,
          4,
          4.1000000000000005,
          4.2,
          4.3,
          4.4,
          4.5,
          4.6000000000000005,
          4.7,
          4.800000000000001,
          4.9,
          5,
          5.1000000000000005,
          5.2,
          5.300000000000001,
          5.4,
          5.5,
          5.6000000000000005,
          5.7,
          5.800000000000001,
          5.9,
          6
         ],
         "y": [
          1,
          0.9666666666666667,
          0.9333333333333333,
          0.9,
          0.8666666666666667,
          0.8333333333333334,
          0.7999999999999999,
          0.7666666666666666,
          0.7333333333333334,
          0.7,
          0.6666666666666667,
          0.6333333333333333,
          0.5999999999999999,
          0.5666666666666667,
          0.5333333333333332,
          0.5,
          0.4666666666666667,
          0.43333333333333324,
          0.4,
          0.3666666666666666,
          0.33333333333333337,
          0.29999999999999993,
          0.2666666666666666,
          0.23333333333333328,
          0.19999999999999984,
          0.16666666666666663,
          0.1333333333333333,
          0.09999999999999998,
          0.06666666666666654,
          0.033333333333333215,
          0,
          -0.03333333333333344,
          -0.06666666666666665,
          -0.10000000000000009,
          -0.13333333333333353,
          -0.16666666666666674,
          -0.19999999999999996,
          -0.2333333333333334,
          -0.26666666666666683,
          -0.30000000000000004,
          -0.33333333333333326,
          -0.3666666666666669,
          -0.40000000000000013,
          -0.43333333333333335,
          -0.4666666666666668,
          -0.5,
          -0.5333333333333334,
          -0.5666666666666667,
          -0.6000000000000003,
          -0.6333333333333335,
          -0.6666666666666667,
          -0.7000000000000002,
          -0.7333333333333334,
          -0.7666666666666668,
          -0.8,
          -0.8333333333333333,
          -0.8666666666666669,
          -0.9000000000000001,
          -0.9333333333333336,
          -0.9666666666666668,
          -1
         ]
        },
        {
         "line": {
          "dash": "dot"
         },
         "mode": "lines",
         "name": "Linear: 4-year lifetime",
         "type": "scatter",
         "x": [
          0,
          0.1,
          0.2,
          0.30000000000000004,
          0.4,
          0.5,
          0.6000000000000001,
          0.7000000000000001,
          0.8,
          0.9,
          1,
          1.1,
          1.2000000000000002,
          1.3,
          1.4000000000000001,
          1.5,
          1.6,
          1.7000000000000002,
          1.8,
          1.9000000000000001,
          2,
          2.1,
          2.2,
          2.3000000000000003,
          2.4000000000000004,
          2.5,
          2.6,
          2.7,
          2.8000000000000003,
          2.9000000000000004,
          3,
          3.1,
          3.2,
          3.3000000000000003,
          3.4000000000000004,
          3.5,
          3.6,
          3.7,
          3.8000000000000003,
          3.9000000000000004,
          4,
          4.1000000000000005,
          4.2,
          4.3,
          4.4,
          4.5,
          4.6000000000000005,
          4.7,
          4.800000000000001,
          4.9,
          5,
          5.1000000000000005,
          5.2,
          5.300000000000001,
          5.4,
          5.5,
          5.6000000000000005,
          5.7,
          5.800000000000001,
          5.9,
          6
         ],
         "y": [
          1,
          0.975,
          0.95,
          0.925,
          0.9,
          0.875,
          0.85,
          0.825,
          0.8,
          0.775,
          0.75,
          0.725,
          0.7,
          0.675,
          0.6499999999999999,
          0.625,
          0.6,
          0.575,
          0.55,
          0.5249999999999999,
          0.5,
          0.475,
          0.44999999999999996,
          0.42499999999999993,
          0.3999999999999999,
          0.375,
          0.35,
          0.32499999999999996,
          0.29999999999999993,
          0.2749999999999999,
          0.25,
          0.22499999999999998,
          0.19999999999999996,
          0.17499999999999993,
          0.1499999999999999,
          0.125,
          0.09999999999999998,
          0.07499999999999996,
          0.04999999999999993,
          0.02499999999999991,
          0,
          -0.025000000000000133,
          -0.050000000000000044,
          -0.07499999999999996,
          -0.10000000000000009,
          -0.125,
          -0.15000000000000013,
          -0.17500000000000004,
          -0.20000000000000018,
          -0.2250000000000001,
          -0.25,
          -0.27500000000000013,
          -0.30000000000000004,
          -0.3250000000000002,
          -0.3500000000000001,
          -0.375,
          -0.40000000000000013,
          -0.42500000000000004,
          -0.4500000000000002,
          -0.4750000000000001,
          -0.5
         ]
        },
        {
         "line": {
          "dash": "dot"
         },
         "mode": "lines",
         "name": "Linear: 5-year lifetime",
         "type": "scatter",
         "x": [
          0,
          0.1,
          0.2,
          0.30000000000000004,
          0.4,
          0.5,
          0.6000000000000001,
          0.7000000000000001,
          0.8,
          0.9,
          1,
          1.1,
          1.2000000000000002,
          1.3,
          1.4000000000000001,
          1.5,
          1.6,
          1.7000000000000002,
          1.8,
          1.9000000000000001,
          2,
          2.1,
          2.2,
          2.3000000000000003,
          2.4000000000000004,
          2.5,
          2.6,
          2.7,
          2.8000000000000003,
          2.9000000000000004,
          3,
          3.1,
          3.2,
          3.3000000000000003,
          3.4000000000000004,
          3.5,
          3.6,
          3.7,
          3.8000000000000003,
          3.9000000000000004,
          4,
          4.1000000000000005,
          4.2,
          4.3,
          4.4,
          4.5,
          4.6000000000000005,
          4.7,
          4.800000000000001,
          4.9,
          5,
          5.1000000000000005,
          5.2,
          5.300000000000001,
          5.4,
          5.5,
          5.6000000000000005,
          5.7,
          5.800000000000001,
          5.9,
          6
         ],
         "y": [
          1,
          0.98,
          0.96,
          0.94,
          0.92,
          0.9,
          0.88,
          0.86,
          0.84,
          0.8200000000000001,
          0.8,
          0.78,
          0.76,
          0.74,
          0.72,
          0.7,
          0.6799999999999999,
          0.6599999999999999,
          0.64,
          0.62,
          0.6,
          0.58,
          0.5599999999999999,
          0.5399999999999999,
          0.5199999999999999,
          0.5,
          0.48,
          0.45999999999999996,
          0.43999999999999995,
          0.41999999999999993,
          0.4,
          0.38,
          0.36,
          0.33999999999999997,
          0.31999999999999995,
          0.30000000000000004,
          0.28,
          0.26,
          0.24,
          0.21999999999999997,
          0.19999999999999996,
          0.17999999999999994,
          0.15999999999999992,
          0.14,
          0.11999999999999988,
          0.09999999999999998,
          0.07999999999999985,
          0.05999999999999994,
          0.039999999999999813,
          0.019999999999999907,
          0,
          -0.020000000000000018,
          -0.040000000000000036,
          -0.06000000000000005,
          -0.08000000000000007,
          -0.10000000000000009,
          -0.1200000000000001,
          -0.14000000000000012,
          -0.16000000000000014,
          -0.18000000000000016,
          -0.19999999999999996
         ]
        },
        {
         "line": {
          "dash": "dot"
         },
         "mode": "lines",
         "name": "Linear: 6-year lifetime",
         "type": "scatter",
         "x": [
          0,
          0.1,
          0.2,
          0.30000000000000004,
          0.4,
          0.5,
          0.6000000000000001,
          0.7000000000000001,
          0.8,
          0.9,
          1,
          1.1,
          1.2000000000000002,
          1.3,
          1.4000000000000001,
          1.5,
          1.6,
          1.7000000000000002,
          1.8,
          1.9000000000000001,
          2,
          2.1,
          2.2,
          2.3000000000000003,
          2.4000000000000004,
          2.5,
          2.6,
          2.7,
          2.8000000000000003,
          2.9000000000000004,
          3,
          3.1,
          3.2,
          3.3000000000000003,
          3.4000000000000004,
          3.5,
          3.6,
          3.7,
          3.8000000000000003,
          3.9000000000000004,
          4,
          4.1000000000000005,
          4.2,
          4.3,
          4.4,
          4.5,
          4.6000000000000005,
          4.7,
          4.800000000000001,
          4.9,
          5,
          5.1000000000000005,
          5.2,
          5.300000000000001,
          5.4,
          5.5,
          5.6000000000000005,
          5.7,
          5.800000000000001,
          5.9,
          6
         ],
         "y": [
          1,
          0.9833333333333333,
          0.9666666666666667,
          0.95,
          0.9333333333333333,
          0.9166666666666666,
          0.9,
          0.8833333333333333,
          0.8666666666666667,
          0.85,
          0.8333333333333334,
          0.8166666666666667,
          0.7999999999999999,
          0.7833333333333333,
          0.7666666666666666,
          0.75,
          0.7333333333333334,
          0.7166666666666666,
          0.7,
          0.6833333333333333,
          0.6666666666666667,
          0.6499999999999999,
          0.6333333333333333,
          0.6166666666666667,
          0.5999999999999999,
          0.5833333333333333,
          0.5666666666666667,
          0.55,
          0.5333333333333332,
          0.5166666666666666,
          0.5,
          0.4833333333333333,
          0.4666666666666667,
          0.44999999999999996,
          0.43333333333333324,
          0.41666666666666663,
          0.4,
          0.3833333333333333,
          0.3666666666666666,
          0.35,
          0.33333333333333337,
          0.31666666666666654,
          0.29999999999999993,
          0.2833333333333333,
          0.2666666666666666,
          0.25,
          0.23333333333333328,
          0.21666666666666667,
          0.19999999999999984,
          0.18333333333333324,
          0.16666666666666663,
          0.1499999999999999,
          0.1333333333333333,
          0.11666666666666659,
          0.09999999999999998,
          0.08333333333333337,
          0.06666666666666654,
          0.04999999999999993,
          0.033333333333333215,
          0.016666666666666607,
          0
         ]
        }
       ],
       "layout": {
        "height": 600,
        "template": {
         "data": {
          "bar": [
           {
            "error_x": {
             "color": "#2a3f5f"
            },
            "error_y": {
             "color": "#2a3f5f"
            },
            "marker": {
             "line": {
              "color": "#E5ECF6",
              "width": 0.5
             },
             "pattern": {
              "fillmode": "overlay",
              "size": 10,
              "solidity": 0.2
             }
            },
            "type": "bar"
           }
          ],
          "barpolar": [
           {
            "marker": {
             "line": {
              "color": "#E5ECF6",
              "width": 0.5
             },
             "pattern": {
              "fillmode": "overlay",
              "size": 10,
              "solidity": 0.2
             }
            },
            "type": "barpolar"
           }
          ],
          "carpet": [
           {
            "aaxis": {
             "endlinecolor": "#2a3f5f",
             "gridcolor": "white",
             "linecolor": "white",
             "minorgridcolor": "white",
             "startlinecolor": "#2a3f5f"
            },
            "baxis": {
             "endlinecolor": "#2a3f5f",
             "gridcolor": "white",
             "linecolor": "white",
             "minorgridcolor": "white",
             "startlinecolor": "#2a3f5f"
            },
            "type": "carpet"
           }
          ],
          "choropleth": [
           {
            "colorbar": {
             "outlinewidth": 0,
             "ticks": ""
            },
            "type": "choropleth"
           }
          ],
          "contour": [
           {
            "colorbar": {
             "outlinewidth": 0,
             "ticks": ""
            },
            "colorscale": [
             [
              0,
              "#0d0887"
             ],
             [
              0.1111111111111111,
              "#46039f"
             ],
             [
              0.2222222222222222,
              "#7201a8"
             ],
             [
              0.3333333333333333,
              "#9c179e"
             ],
             [
              0.4444444444444444,
              "#bd3786"
             ],
             [
              0.5555555555555556,
              "#d8576b"
             ],
             [
              0.6666666666666666,
              "#ed7953"
             ],
             [
              0.7777777777777778,
              "#fb9f3a"
             ],
             [
              0.8888888888888888,
              "#fdca26"
             ],
             [
              1,
              "#f0f921"
             ]
            ],
            "type": "contour"
           }
          ],
          "contourcarpet": [
           {
            "colorbar": {
             "outlinewidth": 0,
             "ticks": ""
            },
            "type": "contourcarpet"
           }
          ],
          "heatmap": [
           {
            "colorbar": {
             "outlinewidth": 0,
             "ticks": ""
            },
            "colorscale": [
             [
              0,
              "#0d0887"
             ],
             [
              0.1111111111111111,
              "#46039f"
             ],
             [
              0.2222222222222222,
              "#7201a8"
             ],
             [
              0.3333333333333333,
              "#9c179e"
             ],
             [
              0.4444444444444444,
              "#bd3786"
             ],
             [
              0.5555555555555556,
              "#d8576b"
             ],
             [
              0.6666666666666666,
              "#ed7953"
             ],
             [
              0.7777777777777778,
              "#fb9f3a"
             ],
             [
              0.8888888888888888,
              "#fdca26"
             ],
             [
              1,
              "#f0f921"
             ]
            ],
            "type": "heatmap"
           }
          ],
          "heatmapgl": [
           {
            "colorbar": {
             "outlinewidth": 0,
             "ticks": ""
            },
            "colorscale": [
             [
              0,
              "#0d0887"
             ],
             [
              0.1111111111111111,
              "#46039f"
             ],
             [
              0.2222222222222222,
              "#7201a8"
             ],
             [
              0.3333333333333333,
              "#9c179e"
             ],
             [
              0.4444444444444444,
              "#bd3786"
             ],
             [
              0.5555555555555556,
              "#d8576b"
             ],
             [
              0.6666666666666666,
              "#ed7953"
             ],
             [
              0.7777777777777778,
              "#fb9f3a"
             ],
             [
              0.8888888888888888,
              "#fdca26"
             ],
             [
              1,
              "#f0f921"
             ]
            ],
            "type": "heatmapgl"
           }
          ],
          "histogram": [
           {
            "marker": {
             "pattern": {
              "fillmode": "overlay",
              "size": 10,
              "solidity": 0.2
             }
            },
            "type": "histogram"
           }
          ],
          "histogram2d": [
           {
            "colorbar": {
             "outlinewidth": 0,
             "ticks": ""
            },
            "colorscale": [
             [
              0,
              "#0d0887"
             ],
             [
              0.1111111111111111,
              "#46039f"
             ],
             [
              0.2222222222222222,
              "#7201a8"
             ],
             [
              0.3333333333333333,
              "#9c179e"
             ],
             [
              0.4444444444444444,
              "#bd3786"
             ],
             [
              0.5555555555555556,
              "#d8576b"
             ],
             [
              0.6666666666666666,
              "#ed7953"
             ],
             [
              0.7777777777777778,
              "#fb9f3a"
             ],
             [
              0.8888888888888888,
              "#fdca26"
             ],
             [
              1,
              "#f0f921"
             ]
            ],
            "type": "histogram2d"
           }
          ],
          "histogram2dcontour": [
           {
            "colorbar": {
             "outlinewidth": 0,
             "ticks": ""
            },
            "colorscale": [
             [
              0,
              "#0d0887"
             ],
             [
              0.1111111111111111,
              "#46039f"
             ],
             [
              0.2222222222222222,
              "#7201a8"
             ],
             [
              0.3333333333333333,
              "#9c179e"
             ],
             [
              0.4444444444444444,
              "#bd3786"
             ],
             [
              0.5555555555555556,
              "#d8576b"
             ],
             [
              0.6666666666666666,
              "#ed7953"
             ],
             [
              0.7777777777777778,
              "#fb9f3a"
             ],
             [
              0.8888888888888888,
              "#fdca26"
             ],
             [
              1,
              "#f0f921"
             ]
            ],
            "type": "histogram2dcontour"
           }
          ],
          "mesh3d": [
           {
            "colorbar": {
             "outlinewidth": 0,
             "ticks": ""
            },
            "type": "mesh3d"
           }
          ],
          "parcoords": [
           {
            "line": {
             "colorbar": {
              "outlinewidth": 0,
              "ticks": ""
             }
            },
            "type": "parcoords"
           }
          ],
          "pie": [
           {
            "automargin": true,
            "type": "pie"
           }
          ],
          "scatter": [
           {
            "fillpattern": {
             "fillmode": "overlay",
             "size": 10,
             "solidity": 0.2
            },
            "type": "scatter"
           }
          ],
          "scatter3d": [
           {
            "line": {
             "colorbar": {
              "outlinewidth": 0,
              "ticks": ""
             }
            },
            "marker": {
             "colorbar": {
              "outlinewidth": 0,
              "ticks": ""
             }
            },
            "type": "scatter3d"
           }
          ],
          "scattercarpet": [
           {
            "marker": {
             "colorbar": {
              "outlinewidth": 0,
              "ticks": ""
             }
            },
            "type": "scattercarpet"
           }
          ],
          "scattergeo": [
           {
            "marker": {
             "colorbar": {
              "outlinewidth": 0,
              "ticks": ""
             }
            },
            "type": "scattergeo"
           }
          ],
          "scattergl": [
           {
            "marker": {
             "colorbar": {
              "outlinewidth": 0,
              "ticks": ""
             }
            },
            "type": "scattergl"
           }
          ],
          "scattermapbox": [
           {
            "marker": {
             "colorbar": {
              "outlinewidth": 0,
              "ticks": ""
             }
            },
            "type": "scattermapbox"
           }
          ],
          "scatterpolar": [
           {
            "marker": {
             "colorbar": {
              "outlinewidth": 0,
              "ticks": ""
             }
            },
            "type": "scatterpolar"
           }
          ],
          "scatterpolargl": [
           {
            "marker": {
             "colorbar": {
              "outlinewidth": 0,
              "ticks": ""
             }
            },
            "type": "scatterpolargl"
           }
          ],
          "scatterternary": [
           {
            "marker": {
             "colorbar": {
              "outlinewidth": 0,
              "ticks": ""
             }
            },
            "type": "scatterternary"
           }
          ],
          "surface": [
           {
            "colorbar": {
             "outlinewidth": 0,
             "ticks": ""
            },
            "colorscale": [
             [
              0,
              "#0d0887"
             ],
             [
              0.1111111111111111,
              "#46039f"
             ],
             [
              0.2222222222222222,
              "#7201a8"
             ],
             [
              0.3333333333333333,
              "#9c179e"
             ],
             [
              0.4444444444444444,
              "#bd3786"
             ],
             [
              0.5555555555555556,
              "#d8576b"
             ],
             [
              0.6666666666666666,
              "#ed7953"
             ],
             [
              0.7777777777777778,
              "#fb9f3a"
             ],
             [
              0.8888888888888888,
              "#fdca26"
             ],
             [
              1,
              "#f0f921"
             ]
            ],
            "type": "surface"
           }
          ],
          "table": [
           {
            "cells": {
             "fill": {
              "color": "#EBF0F8"
             },
             "line": {
              "color": "white"
             }
            },
            "header": {
             "fill": {
              "color": "#C8D4E3"
             },
             "line": {
              "color": "white"
             }
            },
            "type": "table"
           }
          ]
         },
         "layout": {
          "annotationdefaults": {
           "arrowcolor": "#2a3f5f",
           "arrowhead": 0,
           "arrowwidth": 1
          },
          "autotypenumbers": "strict",
          "coloraxis": {
           "colorbar": {
            "outlinewidth": 0,
            "ticks": ""
           }
          },
          "colorscale": {
           "diverging": [
            [
             0,
             "#8e0152"
            ],
            [
             0.1,
             "#c51b7d"
            ],
            [
             0.2,
             "#de77ae"
            ],
            [
             0.3,
             "#f1b6da"
            ],
            [
             0.4,
             "#fde0ef"
            ],
            [
             0.5,
             "#f7f7f7"
            ],
            [
             0.6,
             "#e6f5d0"
            ],
            [
             0.7,
             "#b8e186"
            ],
            [
             0.8,
             "#7fbc41"
            ],
            [
             0.9,
             "#4d9221"
            ],
            [
             1,
             "#276419"
            ]
           ],
           "sequential": [
            [
             0,
             "#0d0887"
            ],
            [
             0.1111111111111111,
             "#46039f"
            ],
            [
             0.2222222222222222,
             "#7201a8"
            ],
            [
             0.3333333333333333,
             "#9c179e"
            ],
            [
             0.4444444444444444,
             "#bd3786"
            ],
            [
             0.5555555555555556,
             "#d8576b"
            ],
            [
             0.6666666666666666,
             "#ed7953"
            ],
            [
             0.7777777777777778,
             "#fb9f3a"
            ],
            [
             0.8888888888888888,
             "#fdca26"
            ],
            [
             1,
             "#f0f921"
            ]
           ],
           "sequentialminus": [
            [
             0,
             "#0d0887"
            ],
            [
             0.1111111111111111,
             "#46039f"
            ],
            [
             0.2222222222222222,
             "#7201a8"
            ],
            [
             0.3333333333333333,
             "#9c179e"
            ],
            [
             0.4444444444444444,
             "#bd3786"
            ],
            [
             0.5555555555555556,
             "#d8576b"
            ],
            [
             0.6666666666666666,
             "#ed7953"
            ],
            [
             0.7777777777777778,
             "#fb9f3a"
            ],
            [
             0.8888888888888888,
             "#fdca26"
            ],
            [
             1,
             "#f0f921"
            ]
           ]
          },
          "colorway": [
           "#636efa",
           "#EF553B",
           "#00cc96",
           "#ab63fa",
           "#FFA15A",
           "#19d3f3",
           "#FF6692",
           "#B6E880",
           "#FF97FF",
           "#FECB52"
          ],
          "font": {
           "color": "#2a3f5f"
          },
          "geo": {
           "bgcolor": "white",
           "lakecolor": "white",
           "landcolor": "#E5ECF6",
           "showlakes": true,
           "showland": true,
           "subunitcolor": "white"
          },
          "hoverlabel": {
           "align": "left"
          },
          "hovermode": "closest",
          "mapbox": {
           "style": "light"
          },
          "paper_bgcolor": "white",
          "plot_bgcolor": "#E5ECF6",
          "polar": {
           "angularaxis": {
            "gridcolor": "white",
            "linecolor": "white",
            "ticks": ""
           },
           "bgcolor": "#E5ECF6",
           "radialaxis": {
            "gridcolor": "white",
            "linecolor": "white",
            "ticks": ""
           }
          },
          "scene": {
           "xaxis": {
            "backgroundcolor": "#E5ECF6",
            "gridcolor": "white",
            "gridwidth": 2,
            "linecolor": "white",
            "showbackground": true,
            "ticks": "",
            "zerolinecolor": "white"
           },
           "yaxis": {
            "backgroundcolor": "#E5ECF6",
            "gridcolor": "white",
            "gridwidth": 2,
            "linecolor": "white",
            "showbackground": true,
            "ticks": "",
            "zerolinecolor": "white"
           },
           "zaxis": {
            "backgroundcolor": "#E5ECF6",
            "gridcolor": "white",
            "gridwidth": 2,
            "linecolor": "white",
            "showbackground": true,
            "ticks": "",
            "zerolinecolor": "white"
           }
          },
          "shapedefaults": {
           "line": {
            "color": "#2a3f5f"
           }
          },
          "ternary": {
           "aaxis": {
            "gridcolor": "white",
            "linecolor": "white",
            "ticks": ""
           },
           "baxis": {
            "gridcolor": "white",
            "linecolor": "white",
            "ticks": ""
           },
           "bgcolor": "#E5ECF6",
           "caxis": {
            "gridcolor": "white",
            "linecolor": "white",
            "ticks": ""
           }
          },
          "title": {
           "x": 0.05
          },
          "xaxis": {
           "automargin": true,
           "gridcolor": "white",
           "linecolor": "white",
           "ticks": "",
           "title": {
            "standoff": 15
           },
           "zerolinecolor": "white",
           "zerolinewidth": 2
          },
          "yaxis": {
           "automargin": true,
           "gridcolor": "white",
           "linecolor": "white",
           "ticks": "",
           "title": {
            "standoff": 15
           },
           "zerolinecolor": "white",
           "zerolinewidth": 2
          }
         }
        },
        "title": {
         "text": "Comparison of exponential and linear depreciation functions"
        },
        "width": 800,
        "xaxis": {
         "range": [
          0,
          6
         ],
         "title": {
          "text": "Years"
         }
        },
        "yaxis": {
         "range": [
          0,
          1
         ],
         "title": {
          "text": "Value (normalized to 1 at year 0)"
         }
        }
       }
      }
     },
     "metadata": {},
     "output_type": "display_data"
    }
   ],
   "source": [
    "import plotly.graph_objects as go\n",
    "\n",
    "# Values of x\n",
    "x_values = [x * 0.1 for x in range(0, 61)]\n",
    "\n",
    "# Calculating the values of each function\n",
    "exponential_values = [10**(-0.14*x) for x in x_values]\n",
    "exponential_slow = [10**(-0.10*x) for x in x_values]\n",
    "exponential_fast = [10**(-0.18*x) for x in x_values]\n",
    "linear_3_values = [1 - x/3 for x in x_values]\n",
    "linear_4_values = [1 - x/4 for x in x_values]\n",
    "linear_5_values = [1 - x/5 for x in x_values]\n",
    "linear_6_values = [1 - x/6 for x in x_values]\n",
    "\n",
    "# Creating the plot\n",
    "fig = go.Figure()\n",
    "\n",
    "# Adding each line plot to the figure\n",
    "fig.add_trace(go.Scatter(x=x_values, y=exponential_values, mode='lines', name='Exponential: price performance trend'))\n",
    "fig.add_trace(go.Scatter(x=x_values, y=exponential_fast, mode='lines', line=dict(width=0), showlegend=False,))\n",
    "fig.add_trace(go.Scatter(x=x_values, y=exponential_slow, mode='lines', name='90% CI', line=dict(width=0), fill='tonexty', fillcolor='rgba(0,100,200,0.2)',))\n",
    "fig.add_trace(go.Scatter(x=x_values, y=linear_3_values, mode='lines', line=dict(dash='dot'), name='Linear: 3-year lifetime'))\n",
    "fig.add_trace(go.Scatter(x=x_values, y=linear_4_values, mode='lines', line=dict(dash='dot'), name='Linear: 4-year lifetime'))\n",
    "fig.add_trace(go.Scatter(x=x_values, y=linear_5_values, mode='lines', line=dict(dash='dot'), name='Linear: 5-year lifetime'))\n",
    "fig.add_trace(go.Scatter(x=x_values, y=linear_6_values, mode='lines', line=dict(dash='dot'), name='Linear: 6-year lifetime'))\n",
    "\n",
    "# Setting the axes limits\n",
    "fig.update_layout(\n",
    "    width=800,\n",
    "    height=600,\n",
    "    xaxis=dict(range=[0, 6]),\n",
    "    yaxis=dict(range=[0, 1]),\n",
    "    title='Comparison of exponential and linear depreciation functions',\n",
    "    xaxis_title='Years',\n",
    "    yaxis_title='Value (normalized to 1 at year 0)'\n",
    ")\n",
    "\n",
    "# Display the plot\n",
    "fig.show()"
   ]
  },
  {
   "cell_type": "code",
   "execution_count": null,
   "metadata": {},
   "outputs": [],
   "source": [
    "frontier_pcd_df, _hardware_df, price_df = load_data_for_cost_estimation(compute_threshold_method=\"top_n\", compute_threshold=10)"
   ]
  },
  {
   "cell_type": "code",
   "execution_count": null,
   "metadata": {},
   "outputs": [
    {
     "name": "stdout",
     "output_type": "stream",
     "text": [
      "Gemini Ultra, Google TPU v4: 930 days\n",
      "Inflection-2, NVIDIA H100 SXM5: 610 days\n",
      "Falcon-180B, NVIDIA A100 SXM4 40 GB: 1210 days\n",
      "Llama 2-70B, NVIDIA A100 SXM4 80 GB: 974 days\n",
      "xTrimoPGLM -100B, NVIDIA A100 SXM4 40 GB: 1148 days\n",
      "PaLM 2, Google TPU v4: 720 days\n",
      "GPT-4, NVIDIA A100 SXM4 40 GB: 1035 days\n",
      "LLaMA-65B, NVIDIA A100: 1090 days\n",
      "GPT-3.5 (text-davinci-003), NVIDIA A100 SXM4 40 GB: 928 days\n",
      "BLOOM-176B, NVIDIA A100 SXM4 80 GB: 722 days\n",
      "U-PaLM (540B), Google TPU v4: 518 days\n",
      "BlenderBot 3, NVIDIA A100 SXM4 40 GB: 818 days\n",
      "GLM-130B, NVIDIA A100 SXM4 40 GB: 812 days\n",
      "Minerva (540B), Google TPU v4: 405 days\n",
      "Parti, Google TPU v4: 398 days\n",
      "OPT-175B, NVIDIA A100 SXM4 80 GB: 532 days\n",
      "PaLM (540B), Google TPU v4: 319 days\n",
      "LaMDA, Google TPU v3: 1501 days\n",
      "GLaM, Google TPU v4: 207 days\n",
      "Gopher (280B), Google TPU v3: 1437 days\n",
      "Megatron-Turing NLG 530B, NVIDIA A100 SXM4 80 GB: 329 days\n",
      "HyperCLOVA, NVIDIA A100: 558 days\n",
      "GOAT, Google TPU v3: 1303 days\n",
      "ByT5-XXL, Google TPU v3: 1243 days\n",
      "ProtT5-XXL, Google TPU v3: 1219 days\n",
      "Meta Pseudo Labels, Google TPU v3: 1155 days\n",
      "Switch, Google TPU v3: 1106 days\n",
      "DALL-E, NVIDIA Tesla V100 DGXS 16 GB: 1015 days\n",
      "iGPT-XL, NVIDIA Tesla V100 DGXS 32 GB: 813 days\n",
      "GPT-3 175B (davinci), NVIDIA Tesla V100 DGXS 32 GB: 793 days\n",
      "Turing-NLG, NVIDIA Tesla V100 DGXS 32 GB: 688 days\n",
      "Meena, Google TPU v3: 757 days\n",
      "AlphaStar, Google TPU v3: 667 days\n",
      "T5-11B, Google TPU v3: 660 days\n",
      "Megatron-BERT, NVIDIA Tesla V100S PCIe 32 GB: -70 days\n",
      "Megatron-LM (8.3B), NVIDIA Tesla V100 DGXS 32 GB: 539 days\n",
      "RoBERTa Large, NVIDIA Tesla V100 DGXS 32 GB: 461 days\n",
      "BigGAN-deep 512x512, Google TPU v3: 270 days\n",
      "AlphaZero, Google TPU v2: 218 days\n",
      "AlphaGo Zero, Google TPU v1: 887 days\n",
      "JFT, NVIDIA Tesla K80: 966 days\n",
      "MoE, NVIDIA Tesla K40t: 1158 days\n",
      "AlphaGo Master, Google TPU v1: 597 days\n",
      "PolyNet, NVIDIA GTX Titan X: 611 days\n",
      "Xception, NVIDIA Tesla K80: 690 days\n",
      "GNMT, NVIDIA Tesla K80: 679 days\n",
      "DeepSpeech2 (English), NVIDIA GTX Titan X: 266 days\n"
     ]
    }
   ],
   "source": [
    "gaps = []\n",
    "for _, row in frontier_pcd_df.iterrows():\n",
    "    hardware_model = row['Training hardware']\n",
    "    try:\n",
    "        hardware_release_date = get_release_date(hardware_model, _hardware_df)\n",
    "    except:\n",
    "        continue\n",
    "    pub_date = pd.to_datetime(row['Publication date'])\n",
    "    gap = pub_date - hardware_release_date\n",
    "    gaps.append(gap.days)\n",
    "    print(f\"{row['System']}, {hardware_model}: {gap.days} days\")\n"
   ]
  },
  {
   "cell_type": "code",
   "execution_count": null,
   "metadata": {},
   "outputs": [
    {
     "data": {
      "text/plain": [
       "763.6595744680851"
      ]
     },
     "execution_count": 23,
     "metadata": {},
     "output_type": "execute_result"
    }
   ],
   "source": [
    "gaps = np.array(gaps)\n",
    "gaps.mean()"
   ]
  },
  {
   "cell_type": "code",
   "execution_count": null,
   "metadata": {},
   "outputs": [
    {
     "data": {
      "text/plain": [
       "47"
      ]
     },
     "execution_count": 24,
     "metadata": {},
     "output_type": "execute_result"
    }
   ],
   "source": [
    "len(gaps)"
   ]
  },
  {
   "cell_type": "code",
   "execution_count": null,
   "metadata": {},
   "outputs": [
    {
     "data": {
      "text/plain": [
       "24"
      ]
     },
     "execution_count": 25,
     "metadata": {},
     "output_type": "execute_result"
    }
   ],
   "source": [
    "len(gaps[gaps < 2 * DAYS_PER_YEAR])"
   ]
  },
  {
   "cell_type": "code",
   "execution_count": null,
   "metadata": {},
   "outputs": [
    {
     "data": {
      "text/plain": [
       "37"
      ]
     },
     "execution_count": 26,
     "metadata": {},
     "output_type": "execute_result"
    }
   ],
   "source": [
    "len(gaps[gaps < 3 * DAYS_PER_YEAR])"
   ]
  },
  {
   "cell_type": "code",
   "execution_count": null,
   "metadata": {},
   "outputs": [
    {
     "data": {
      "text/plain": [
       "46"
      ]
     },
     "execution_count": 27,
     "metadata": {},
     "output_type": "execute_result"
    }
   ],
   "source": [
    "len(gaps[gaps < 4 * DAYS_PER_YEAR])"
   ]
  },
  {
   "cell_type": "code",
   "execution_count": null,
   "metadata": {},
   "outputs": [],
   "source": []
  }
 ],
 "metadata": {
  "kernelspec": {
   "display_name": "epoch",
   "language": "python",
   "name": "python3"
  },
  "language_info": {
   "codemirror_mode": {
    "name": "ipython",
    "version": 3
   },
   "file_extension": ".py",
   "mimetype": "text/x-python",
   "name": "python",
   "nbconvert_exporter": "python",
   "pygments_lexer": "ipython3",
   "version": "3.11.4"
  }
 },
 "nbformat": 4,
 "nbformat_minor": 2
}
