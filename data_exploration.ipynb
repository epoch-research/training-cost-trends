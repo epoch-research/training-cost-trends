{
 "cells": [
  {
   "cell_type": "code",
   "execution_count": 40,
   "metadata": {},
   "outputs": [],
   "source": [
    "from collections import defaultdict\n",
    "import numpy as np\n",
    "import pandas as pd\n",
    "import plotly.graph_objects as go\n",
    "\n",
    "from data import *\n",
    "from hardware import *\n",
    "from parameters import *\n",
    "from regression import *"
   ]
  },
  {
   "cell_type": "code",
   "execution_count": 24,
   "metadata": {},
   "outputs": [
    {
     "data": {
      "text/html": [
       "<div>\n",
       "<style scoped>\n",
       "    .dataframe tbody tr th:only-of-type {\n",
       "        vertical-align: middle;\n",
       "    }\n",
       "\n",
       "    .dataframe tbody tr th {\n",
       "        vertical-align: top;\n",
       "    }\n",
       "\n",
       "    .dataframe thead th {\n",
       "        text-align: right;\n",
       "    }\n",
       "</style>\n",
       "<table border=\"1\" class=\"dataframe\">\n",
       "  <thead>\n",
       "    <tr style=\"text-align: right;\">\n",
       "      <th></th>\n",
       "      <th>System</th>\n",
       "      <th>Domain</th>\n",
       "      <th>Task</th>\n",
       "      <th>Authors</th>\n",
       "      <th>Notability criteria</th>\n",
       "      <th>Notability criteria notes</th>\n",
       "      <th>Model accessibility</th>\n",
       "      <th>Link</th>\n",
       "      <th>Citations</th>\n",
       "      <th>Reference</th>\n",
       "      <th>...</th>\n",
       "      <th>Organization categorization</th>\n",
       "      <th>Foundation model</th>\n",
       "      <th>Training compute lower bound</th>\n",
       "      <th>Training compute upper bound</th>\n",
       "      <th>Training chip-hours</th>\n",
       "      <th>Code accessibility</th>\n",
       "      <th>Dataset accessibility</th>\n",
       "      <th>Accessibility notes</th>\n",
       "      <th>Organization categorization (from Organization)</th>\n",
       "      <th>Possibly over 1e23 FLOP</th>\n",
       "    </tr>\n",
       "  </thead>\n",
       "  <tbody>\n",
       "    <tr>\n",
       "      <th>65</th>\n",
       "      <td>CogAgent</td>\n",
       "      <td>Vision,Language</td>\n",
       "      <td>Instruction interpretation,Visual question ans...</td>\n",
       "      <td>Wenyi Hong, Weihan Wang, Qingsong Lv, Jiazheng...</td>\n",
       "      <td>SOTA improvement</td>\n",
       "      <td>See Table 1</td>\n",
       "      <td>Open access (restricted use)</td>\n",
       "      <td>https://arxiv.org/abs/2312.08914Wenyi Hong, We...</td>\n",
       "      <td>50.0</td>\n",
       "      <td>CogAgent: A Visual Language Model for GUI Agents</td>\n",
       "      <td>...</td>\n",
       "      <td>NaN</td>\n",
       "      <td>NaN</td>\n",
       "      <td>NaN</td>\n",
       "      <td>NaN</td>\n",
       "      <td>NaN</td>\n",
       "      <td>Open source</td>\n",
       "      <td>NaN</td>\n",
       "      <td>Code is Apache License 2.0; model is under a m...</td>\n",
       "      <td>NaN</td>\n",
       "      <td>NaN</td>\n",
       "    </tr>\n",
       "    <tr>\n",
       "      <th>66</th>\n",
       "      <td>FunSearch</td>\n",
       "      <td>Language,Search</td>\n",
       "      <td>Code generation</td>\n",
       "      <td>Bernardino Romera-Paredes, Mohammadamin Bareka...</td>\n",
       "      <td>SOTA improvement,Historical significance</td>\n",
       "      <td>Improved SOTA for the cap set problem. Can pla...</td>\n",
       "      <td>Open source</td>\n",
       "      <td>https://www.nature.com/articles/s41586-023-069...</td>\n",
       "      <td>67.0</td>\n",
       "      <td>Mathematical discoveries from program search w...</td>\n",
       "      <td>...</td>\n",
       "      <td>Industry</td>\n",
       "      <td>NaN</td>\n",
       "      <td>NaN</td>\n",
       "      <td>NaN</td>\n",
       "      <td>NaN</td>\n",
       "      <td>NaN</td>\n",
       "      <td>NaN</td>\n",
       "      <td>Code to run FunSearch with an LLM of your choi...</td>\n",
       "      <td>Industry</td>\n",
       "      <td>NaN</td>\n",
       "    </tr>\n",
       "    <tr>\n",
       "      <th>75</th>\n",
       "      <td>Gemini Ultra</td>\n",
       "      <td>Multimodal</td>\n",
       "      <td>Language modelling,Visual question answering,C...</td>\n",
       "      <td>Gemini Team</td>\n",
       "      <td>SOTA improvement</td>\n",
       "      <td>\" Evaluation on a broad range of benchmarks sh...</td>\n",
       "      <td>Hosted access (no API)</td>\n",
       "      <td>https://storage.googleapis.com/deepmind-media/...</td>\n",
       "      <td>633.0</td>\n",
       "      <td>Gemini: A Family of Highly Capable Multimodal ...</td>\n",
       "      <td>...</td>\n",
       "      <td>Industry</td>\n",
       "      <td>NaN</td>\n",
       "      <td>NaN</td>\n",
       "      <td>NaN</td>\n",
       "      <td>132000000.0</td>\n",
       "      <td>NaN</td>\n",
       "      <td>NaN</td>\n",
       "      <td>NaN</td>\n",
       "      <td>Industry</td>\n",
       "      <td>NaN</td>\n",
       "    </tr>\n",
       "    <tr>\n",
       "      <th>83</th>\n",
       "      <td>Qwen-72B</td>\n",
       "      <td>Language</td>\n",
       "      <td>Chat,Code generation</td>\n",
       "      <td>Jinze Bai, Shuai Bai, Yunfei Chu, Zeyu Cui, Ka...</td>\n",
       "      <td>SOTA improvement</td>\n",
       "      <td>SOTA on several Chinese benchmarks, with highe...</td>\n",
       "      <td>Open access (restricted use)</td>\n",
       "      <td>https://huggingface.co/Qwen/Qwen-72B</td>\n",
       "      <td>NaN</td>\n",
       "      <td>NaN</td>\n",
       "      <td>...</td>\n",
       "      <td>Industry</td>\n",
       "      <td>NaN</td>\n",
       "      <td>NaN</td>\n",
       "      <td>NaN</td>\n",
       "      <td>NaN</td>\n",
       "      <td>Unreleased</td>\n",
       "      <td>Unreleased</td>\n",
       "      <td>up to 100m active users:\\nhttps://github.com/Q...</td>\n",
       "      <td>Industry</td>\n",
       "      <td>NaN</td>\n",
       "    </tr>\n",
       "    <tr>\n",
       "      <th>91</th>\n",
       "      <td>Inflection-2</td>\n",
       "      <td>Language</td>\n",
       "      <td>Language modelling</td>\n",
       "      <td>NaN</td>\n",
       "      <td>Significant use</td>\n",
       "      <td>Inflection-2 either already powers Pi or soon ...</td>\n",
       "      <td>Hosted access (no API)</td>\n",
       "      <td>https://inflection.ai/inflection-2</td>\n",
       "      <td>NaN</td>\n",
       "      <td>Inflection-2: The Next Step Up</td>\n",
       "      <td>...</td>\n",
       "      <td>Industry</td>\n",
       "      <td>checked</td>\n",
       "      <td>NaN</td>\n",
       "      <td>NaN</td>\n",
       "      <td>NaN</td>\n",
       "      <td>NaN</td>\n",
       "      <td>NaN</td>\n",
       "      <td>via Pi, no API</td>\n",
       "      <td>Industry</td>\n",
       "      <td>NaN</td>\n",
       "    </tr>\n",
       "    <tr>\n",
       "      <th>...</th>\n",
       "      <td>...</td>\n",
       "      <td>...</td>\n",
       "      <td>...</td>\n",
       "      <td>...</td>\n",
       "      <td>...</td>\n",
       "      <td>...</td>\n",
       "      <td>...</td>\n",
       "      <td>...</td>\n",
       "      <td>...</td>\n",
       "      <td>...</td>\n",
       "      <td>...</td>\n",
       "      <td>...</td>\n",
       "      <td>...</td>\n",
       "      <td>...</td>\n",
       "      <td>...</td>\n",
       "      <td>...</td>\n",
       "      <td>...</td>\n",
       "      <td>...</td>\n",
       "      <td>...</td>\n",
       "      <td>...</td>\n",
       "      <td>...</td>\n",
       "    </tr>\n",
       "    <tr>\n",
       "      <th>1182</th>\n",
       "      <td>AlphaGo Lee</td>\n",
       "      <td>Games</td>\n",
       "      <td>Go</td>\n",
       "      <td>David Silver, Aja Huang, Chris J. Maddison, Ar...</td>\n",
       "      <td>Highly cited</td>\n",
       "      <td>NaN</td>\n",
       "      <td>NaN</td>\n",
       "      <td>https://www.nature.com/articles/nature16961</td>\n",
       "      <td>14887.0</td>\n",
       "      <td>Mastering the game of Go with deep neural netw...</td>\n",
       "      <td>...</td>\n",
       "      <td>Industry</td>\n",
       "      <td>NaN</td>\n",
       "      <td>NaN</td>\n",
       "      <td>NaN</td>\n",
       "      <td>NaN</td>\n",
       "      <td>NaN</td>\n",
       "      <td>NaN</td>\n",
       "      <td>NaN</td>\n",
       "      <td>Industry</td>\n",
       "      <td>NaN</td>\n",
       "    </tr>\n",
       "    <tr>\n",
       "      <th>1183</th>\n",
       "      <td>Variational (untied weights, MC) LSTM (Large)</td>\n",
       "      <td>Language</td>\n",
       "      <td>NaN</td>\n",
       "      <td>Yarin Gal, Zoubin Ghahramani</td>\n",
       "      <td>Highly cited,SOTA improvement</td>\n",
       "      <td>\"The new approach outperforms existing techniq...</td>\n",
       "      <td>NaN</td>\n",
       "      <td>https://arxiv.org/abs/1512.05287?context=stat</td>\n",
       "      <td>1838.0</td>\n",
       "      <td>A Theoretically Grounded Application of Dropou...</td>\n",
       "      <td>...</td>\n",
       "      <td>Academia</td>\n",
       "      <td>NaN</td>\n",
       "      <td>NaN</td>\n",
       "      <td>NaN</td>\n",
       "      <td>NaN</td>\n",
       "      <td>NaN</td>\n",
       "      <td>NaN</td>\n",
       "      <td>NaN</td>\n",
       "      <td>Academia</td>\n",
       "      <td>NaN</td>\n",
       "    </tr>\n",
       "    <tr>\n",
       "      <th>1186</th>\n",
       "      <td>ResNet-152 (ImageNet)</td>\n",
       "      <td>Vision</td>\n",
       "      <td>Image classification</td>\n",
       "      <td>Kaiming He, Xiangyu Zhang, Shaoqing Ren, Jian Sun</td>\n",
       "      <td>Highly cited</td>\n",
       "      <td>NaN</td>\n",
       "      <td>NaN</td>\n",
       "      <td>https://arxiv.org/abs/1512.03385</td>\n",
       "      <td>156882.0</td>\n",
       "      <td>Deep Residual Learning for Image Recognition</td>\n",
       "      <td>...</td>\n",
       "      <td>Industry</td>\n",
       "      <td>NaN</td>\n",
       "      <td>NaN</td>\n",
       "      <td>NaN</td>\n",
       "      <td>NaN</td>\n",
       "      <td>NaN</td>\n",
       "      <td>NaN</td>\n",
       "      <td>NaN</td>\n",
       "      <td>Industry</td>\n",
       "      <td>NaN</td>\n",
       "    </tr>\n",
       "    <tr>\n",
       "      <th>1188</th>\n",
       "      <td>DeepSpeech2 (English)</td>\n",
       "      <td>Speech</td>\n",
       "      <td>Speech recognition</td>\n",
       "      <td>Dario Amodei, Rishita Anubhai, Eric Battenberg...</td>\n",
       "      <td>Highly cited</td>\n",
       "      <td>NaN</td>\n",
       "      <td>NaN</td>\n",
       "      <td>https://arxiv.org/abs/1512.02595</td>\n",
       "      <td>2749.0</td>\n",
       "      <td>Deep Speech 2: End-to-End Speech Recognition i...</td>\n",
       "      <td>...</td>\n",
       "      <td>Industry</td>\n",
       "      <td>NaN</td>\n",
       "      <td>NaN</td>\n",
       "      <td>NaN</td>\n",
       "      <td>301.0</td>\n",
       "      <td>NaN</td>\n",
       "      <td>NaN</td>\n",
       "      <td>NaN</td>\n",
       "      <td>Industry</td>\n",
       "      <td>NaN</td>\n",
       "    </tr>\n",
       "    <tr>\n",
       "      <th>1192</th>\n",
       "      <td>AlphaGo Fan</td>\n",
       "      <td>Games</td>\n",
       "      <td>Go</td>\n",
       "      <td>David Silver, Aja Huang, Chris J. Maddison, Ar...</td>\n",
       "      <td>Highly cited,SOTA improvement</td>\n",
       "      <td>NaN</td>\n",
       "      <td>NaN</td>\n",
       "      <td>https://www.nature.com/articles/nature24270.ep...</td>\n",
       "      <td>14887.0</td>\n",
       "      <td>Mastering the game of Go with deep neural netw...</td>\n",
       "      <td>...</td>\n",
       "      <td>Industry</td>\n",
       "      <td>NaN</td>\n",
       "      <td>NaN</td>\n",
       "      <td>NaN</td>\n",
       "      <td>NaN</td>\n",
       "      <td>NaN</td>\n",
       "      <td>NaN</td>\n",
       "      <td>NaN</td>\n",
       "      <td>Industry</td>\n",
       "      <td>NaN</td>\n",
       "    </tr>\n",
       "  </tbody>\n",
       "</table>\n",
       "<p>290 rows × 58 columns</p>\n",
       "</div>"
      ],
      "text/plain": [
       "                                             System           Domain  \\\n",
       "65                                         CogAgent  Vision,Language   \n",
       "66                                        FunSearch  Language,Search   \n",
       "75                                     Gemini Ultra       Multimodal   \n",
       "83                                         Qwen-72B         Language   \n",
       "91                                     Inflection-2         Language   \n",
       "...                                             ...              ...   \n",
       "1182                                    AlphaGo Lee            Games   \n",
       "1183  Variational (untied weights, MC) LSTM (Large)         Language   \n",
       "1186                          ResNet-152 (ImageNet)           Vision   \n",
       "1188                          DeepSpeech2 (English)           Speech   \n",
       "1192                                    AlphaGo Fan            Games   \n",
       "\n",
       "                                                   Task  \\\n",
       "65    Instruction interpretation,Visual question ans...   \n",
       "66                                      Code generation   \n",
       "75    Language modelling,Visual question answering,C...   \n",
       "83                                 Chat,Code generation   \n",
       "91                                   Language modelling   \n",
       "...                                                 ...   \n",
       "1182                                                 Go   \n",
       "1183                                                NaN   \n",
       "1186                               Image classification   \n",
       "1188                                 Speech recognition   \n",
       "1192                                                 Go   \n",
       "\n",
       "                                                Authors  \\\n",
       "65    Wenyi Hong, Weihan Wang, Qingsong Lv, Jiazheng...   \n",
       "66    Bernardino Romera-Paredes, Mohammadamin Bareka...   \n",
       "75                                          Gemini Team   \n",
       "83    Jinze Bai, Shuai Bai, Yunfei Chu, Zeyu Cui, Ka...   \n",
       "91                                                  NaN   \n",
       "...                                                 ...   \n",
       "1182  David Silver, Aja Huang, Chris J. Maddison, Ar...   \n",
       "1183                       Yarin Gal, Zoubin Ghahramani   \n",
       "1186  Kaiming He, Xiangyu Zhang, Shaoqing Ren, Jian Sun   \n",
       "1188  Dario Amodei, Rishita Anubhai, Eric Battenberg...   \n",
       "1192  David Silver, Aja Huang, Chris J. Maddison, Ar...   \n",
       "\n",
       "                           Notability criteria  \\\n",
       "65                            SOTA improvement   \n",
       "66    SOTA improvement,Historical significance   \n",
       "75                            SOTA improvement   \n",
       "83                            SOTA improvement   \n",
       "91                             Significant use   \n",
       "...                                        ...   \n",
       "1182                              Highly cited   \n",
       "1183             Highly cited,SOTA improvement   \n",
       "1186                              Highly cited   \n",
       "1188                              Highly cited   \n",
       "1192             Highly cited,SOTA improvement   \n",
       "\n",
       "                              Notability criteria notes  \\\n",
       "65                                          See Table 1   \n",
       "66    Improved SOTA for the cap set problem. Can pla...   \n",
       "75    \" Evaluation on a broad range of benchmarks sh...   \n",
       "83    SOTA on several Chinese benchmarks, with highe...   \n",
       "91    Inflection-2 either already powers Pi or soon ...   \n",
       "...                                                 ...   \n",
       "1182                                                NaN   \n",
       "1183  \"The new approach outperforms existing techniq...   \n",
       "1186                                                NaN   \n",
       "1188                                                NaN   \n",
       "1192                                                NaN   \n",
       "\n",
       "               Model accessibility  \\\n",
       "65    Open access (restricted use)   \n",
       "66                     Open source   \n",
       "75          Hosted access (no API)   \n",
       "83    Open access (restricted use)   \n",
       "91          Hosted access (no API)   \n",
       "...                            ...   \n",
       "1182                           NaN   \n",
       "1183                           NaN   \n",
       "1186                           NaN   \n",
       "1188                           NaN   \n",
       "1192                           NaN   \n",
       "\n",
       "                                                   Link  Citations  \\\n",
       "65    https://arxiv.org/abs/2312.08914Wenyi Hong, We...       50.0   \n",
       "66    https://www.nature.com/articles/s41586-023-069...       67.0   \n",
       "75    https://storage.googleapis.com/deepmind-media/...      633.0   \n",
       "83                 https://huggingface.co/Qwen/Qwen-72B        NaN   \n",
       "91                   https://inflection.ai/inflection-2        NaN   \n",
       "...                                                 ...        ...   \n",
       "1182        https://www.nature.com/articles/nature16961    14887.0   \n",
       "1183      https://arxiv.org/abs/1512.05287?context=stat     1838.0   \n",
       "1186                   https://arxiv.org/abs/1512.03385   156882.0   \n",
       "1188                   https://arxiv.org/abs/1512.02595     2749.0   \n",
       "1192  https://www.nature.com/articles/nature24270.ep...    14887.0   \n",
       "\n",
       "                                              Reference  ...  \\\n",
       "65     CogAgent: A Visual Language Model for GUI Agents  ...   \n",
       "66    Mathematical discoveries from program search w...  ...   \n",
       "75    Gemini: A Family of Highly Capable Multimodal ...  ...   \n",
       "83                                                  NaN  ...   \n",
       "91                       Inflection-2: The Next Step Up  ...   \n",
       "...                                                 ...  ...   \n",
       "1182  Mastering the game of Go with deep neural netw...  ...   \n",
       "1183  A Theoretically Grounded Application of Dropou...  ...   \n",
       "1186       Deep Residual Learning for Image Recognition  ...   \n",
       "1188  Deep Speech 2: End-to-End Speech Recognition i...  ...   \n",
       "1192  Mastering the game of Go with deep neural netw...  ...   \n",
       "\n",
       "     Organization categorization Foundation model  \\\n",
       "65                           NaN              NaN   \n",
       "66                      Industry              NaN   \n",
       "75                      Industry              NaN   \n",
       "83                      Industry              NaN   \n",
       "91                      Industry          checked   \n",
       "...                          ...              ...   \n",
       "1182                    Industry              NaN   \n",
       "1183                    Academia              NaN   \n",
       "1186                    Industry              NaN   \n",
       "1188                    Industry              NaN   \n",
       "1192                    Industry              NaN   \n",
       "\n",
       "      Training compute lower bound Training compute upper bound  \\\n",
       "65                             NaN                          NaN   \n",
       "66                             NaN                          NaN   \n",
       "75                             NaN                          NaN   \n",
       "83                             NaN                          NaN   \n",
       "91                             NaN                          NaN   \n",
       "...                            ...                          ...   \n",
       "1182                           NaN                          NaN   \n",
       "1183                           NaN                          NaN   \n",
       "1186                           NaN                          NaN   \n",
       "1188                           NaN                          NaN   \n",
       "1192                           NaN                          NaN   \n",
       "\n",
       "      Training chip-hours Code accessibility Dataset accessibility  \\\n",
       "65                    NaN        Open source                   NaN   \n",
       "66                    NaN                NaN                   NaN   \n",
       "75            132000000.0                NaN                   NaN   \n",
       "83                    NaN         Unreleased            Unreleased   \n",
       "91                    NaN                NaN                   NaN   \n",
       "...                   ...                ...                   ...   \n",
       "1182                  NaN                NaN                   NaN   \n",
       "1183                  NaN                NaN                   NaN   \n",
       "1186                  NaN                NaN                   NaN   \n",
       "1188                301.0                NaN                   NaN   \n",
       "1192                  NaN                NaN                   NaN   \n",
       "\n",
       "                                    Accessibility notes  \\\n",
       "65    Code is Apache License 2.0; model is under a m...   \n",
       "66    Code to run FunSearch with an LLM of your choi...   \n",
       "75                                                  NaN   \n",
       "83    up to 100m active users:\\nhttps://github.com/Q...   \n",
       "91                                       via Pi, no API   \n",
       "...                                                 ...   \n",
       "1182                                                NaN   \n",
       "1183                                                NaN   \n",
       "1186                                                NaN   \n",
       "1188                                                NaN   \n",
       "1192                                                NaN   \n",
       "\n",
       "      Organization categorization (from Organization) Possibly over 1e23 FLOP  \n",
       "65                                                NaN                     NaN  \n",
       "66                                           Industry                     NaN  \n",
       "75                                           Industry                     NaN  \n",
       "83                                           Industry                     NaN  \n",
       "91                                           Industry                     NaN  \n",
       "...                                               ...                     ...  \n",
       "1182                                         Industry                     NaN  \n",
       "1183                                         Academia                     NaN  \n",
       "1186                                         Industry                     NaN  \n",
       "1188                                         Industry                     NaN  \n",
       "1192                                         Industry                     NaN  \n",
       "\n",
       "[290 rows x 58 columns]"
      ]
     },
     "execution_count": 24,
     "metadata": {},
     "output_type": "execute_result"
    }
   ],
   "source": [
    "frontier_pcd_df, hardware_df, price_df = load_data_for_cost_estimation(compute_threshold_method=\"window_percentile\", compute_threshold=0)\n",
    "frontier_pcd_df"
   ]
  },
  {
   "cell_type": "code",
   "execution_count": 25,
   "metadata": {},
   "outputs": [
    {
     "name": "stdout",
     "output_type": "stream",
     "text": [
      "A100: 47\n",
      "V100: 43\n",
      "TPU v3: 39\n",
      "TPU v4: 18\n",
      "TPU v2: 4\n",
      "P100: 4\n",
      "K80: 3\n",
      "NVIDIA GTX Titan X: 3\n",
      "NVIDIA Geforce GTX1080 Ti: 2\n",
      "K40: 2\n",
      "TPU v1: 2\n",
      "NVIDIA M40: 2\n",
      "NVIDIA GeForce GTX TITAN X: 2\n",
      "H100: 1\n",
      "NVIDIA A800: 1\n",
      "Huawei Ascend 910: 1\n",
      "NVIDIA Quadro RTX 4000: 1\n",
      "NVIDIA RTX A6000: 1\n",
      "NVIDIA Quadro RTX 8000: 1\n",
      "NVIDIA Quadro RTX 5000: 1\n",
      "NVIDIA GeForce RTX 2080 Ti: 1\n",
      "NVIDIA TITAN Xp: 1\n",
      "NVIDIA GeForce GTX 1080 Ti: 1\n",
      "NVIDIA Quadro P600: 1\n",
      "NVIDIA M40,NVIDIA GTX Titan X: 1\n"
     ]
    }
   ],
   "source": [
    "hardware_aliases = ['A100', 'H100', 'P100', 'V100', 'TPU v4', 'TPU v3', 'TPU v2', 'TPU v1', 'K80', 'K40']\n",
    "hardware_counts = defaultdict(int)\n",
    "for hardware in frontier_pcd_df['Training hardware'].dropna():\n",
    "    alias_found = False\n",
    "    for alias in hardware_aliases:\n",
    "        if alias in hardware:\n",
    "            hardware_counts[alias] += 1\n",
    "            alias_found = True\n",
    "    if not alias_found:\n",
    "        hardware_counts[hardware] += 1\n",
    "\n",
    "# Print counts in descending order\n",
    "for hardware, count in sorted(hardware_counts.items(), key=lambda x: x[1], reverse=True):\n",
    "    print(f'{hardware}: {count}')"
   ]
  },
  {
   "cell_type": "code",
   "execution_count": 26,
   "metadata": {},
   "outputs": [
    {
     "name": "stdout",
     "output_type": "stream",
     "text": [
      "A100: 47\n",
      "V100: 43\n",
      "P100: 4\n",
      "K80: 3\n",
      "NVIDIA GTX Titan X: 3\n",
      "NVIDIA Geforce GTX1080 Ti: 2\n",
      "K40: 2\n",
      "NVIDIA M40: 2\n",
      "NVIDIA GeForce GTX TITAN X: 2\n",
      "H100: 1\n",
      "NVIDIA A800: 1\n",
      "Huawei Ascend 910: 1\n",
      "NVIDIA Quadro RTX 4000: 1\n",
      "NVIDIA RTX A6000: 1\n",
      "NVIDIA Quadro RTX 8000: 1\n",
      "NVIDIA Quadro RTX 5000: 1\n",
      "NVIDIA GeForce RTX 2080 Ti: 1\n",
      "NVIDIA TITAN Xp: 1\n",
      "NVIDIA GeForce GTX 1080 Ti: 1\n",
      "NVIDIA Quadro P600: 1\n",
      "NVIDIA M40,NVIDIA GTX Titan X: 1\n"
     ]
    }
   ],
   "source": [
    "# No TPUs\n",
    "hardware_aliases = ['A100', 'H100', 'P100', 'V100', 'TPU v4', 'TPU v3', 'TPU v2', 'TPU v1', 'K80', 'K40']\n",
    "hardware_counts = defaultdict(int)\n",
    "for hardware in frontier_pcd_df['Training hardware'].dropna():\n",
    "    if 'TPU' in hardware:\n",
    "        continue\n",
    "    alias_found = False\n",
    "    for alias in hardware_aliases:\n",
    "        if alias in hardware:\n",
    "            hardware_counts[alias] += 1\n",
    "            alias_found = True\n",
    "    if not alias_found:\n",
    "        hardware_counts[hardware] += 1\n",
    "\n",
    "# Print counts in descending order\n",
    "for hardware, count in sorted(hardware_counts.items(), key=lambda x: x[1], reverse=True):\n",
    "    print(f'{hardware}: {count}')"
   ]
  },
  {
   "cell_type": "markdown",
   "metadata": {},
   "source": [
    "# Purchase prices"
   ]
  },
  {
   "cell_type": "code",
   "execution_count": 27,
   "metadata": {},
   "outputs": [
    {
     "data": {
      "text/html": [
       "<div>\n",
       "<style scoped>\n",
       "    .dataframe tbody tr th:only-of-type {\n",
       "        vertical-align: middle;\n",
       "    }\n",
       "\n",
       "    .dataframe tbody tr th {\n",
       "        vertical-align: top;\n",
       "    }\n",
       "\n",
       "    .dataframe thead th {\n",
       "        text-align: right;\n",
       "    }\n",
       "</style>\n",
       "<table border=\"1\" class=\"dataframe\">\n",
       "  <thead>\n",
       "    <tr style=\"text-align: right;\">\n",
       "      <th></th>\n",
       "      <th>Price source</th>\n",
       "      <th>Price date</th>\n",
       "      <th>Hardware model</th>\n",
       "      <th>Manufacturer (from Hardware model)</th>\n",
       "      <th>Vendor</th>\n",
       "      <th>Location</th>\n",
       "      <th>Price per chip-hour (on-demand)</th>\n",
       "      <th>Price per chip-hour (1-year CUD)</th>\n",
       "      <th>Price per chip-hour (3-year CUD)</th>\n",
       "      <th>Price (hardware purchase)</th>\n",
       "      <th>Notes</th>\n",
       "    </tr>\n",
       "  </thead>\n",
       "  <tbody>\n",
       "    <tr>\n",
       "      <th>25</th>\n",
       "      <td>https://www.nextplatform.com/2022/05/09/how-mu...</td>\n",
       "      <td>2020-07-01</td>\n",
       "      <td>NVIDIA A100 PCIe</td>\n",
       "      <td>NVIDIA</td>\n",
       "      <td>NaN</td>\n",
       "      <td>NaN</td>\n",
       "      <td>NaN</td>\n",
       "      <td>NaN</td>\n",
       "      <td>NaN</td>\n",
       "      <td>15000.00</td>\n",
       "      <td>Single-unit list price</td>\n",
       "    </tr>\n",
       "    <tr>\n",
       "      <th>26</th>\n",
       "      <td>https://www.nextplatform.com/2022/05/09/how-mu...</td>\n",
       "      <td>2022-07-01</td>\n",
       "      <td>NVIDIA A100 PCIe</td>\n",
       "      <td>NVIDIA</td>\n",
       "      <td>NaN</td>\n",
       "      <td>NaN</td>\n",
       "      <td>NaN</td>\n",
       "      <td>NaN</td>\n",
       "      <td>NaN</td>\n",
       "      <td>12500.00</td>\n",
       "      <td>Single-unit list price</td>\n",
       "    </tr>\n",
       "    <tr>\n",
       "      <th>38</th>\n",
       "      <td>https://web.archive.org/web/20200521074015/htt...</td>\n",
       "      <td>2020-05-21</td>\n",
       "      <td>NVIDIA A100 SXM4 40 GB</td>\n",
       "      <td>NVIDIA</td>\n",
       "      <td>NaN</td>\n",
       "      <td>NaN</td>\n",
       "      <td>NaN</td>\n",
       "      <td>NaN</td>\n",
       "      <td>NaN</td>\n",
       "      <td>24875.00</td>\n",
       "      <td>DGX A100, 8 GPU, 320GB. Release price.</td>\n",
       "    </tr>\n",
       "    <tr>\n",
       "      <th>39</th>\n",
       "      <td>https://www.nextplatform.com/2022/05/09/how-mu...</td>\n",
       "      <td>2020-07-01</td>\n",
       "      <td>NVIDIA A100 SXM4 40 GB</td>\n",
       "      <td>NVIDIA</td>\n",
       "      <td>NaN</td>\n",
       "      <td>NaN</td>\n",
       "      <td>NaN</td>\n",
       "      <td>NaN</td>\n",
       "      <td>NaN</td>\n",
       "      <td>15000.00</td>\n",
       "      <td>Single-unit list price</td>\n",
       "    </tr>\n",
       "    <tr>\n",
       "      <th>40</th>\n",
       "      <td>https://www.nextplatform.com/2022/05/09/how-mu...</td>\n",
       "      <td>2022-07-01</td>\n",
       "      <td>NVIDIA A100 SXM4 40 GB</td>\n",
       "      <td>NVIDIA</td>\n",
       "      <td>NaN</td>\n",
       "      <td>NaN</td>\n",
       "      <td>NaN</td>\n",
       "      <td>NaN</td>\n",
       "      <td>NaN</td>\n",
       "      <td>12500.00</td>\n",
       "      <td>Single-unit list price</td>\n",
       "    </tr>\n",
       "    <tr>\n",
       "      <th>48</th>\n",
       "      <td>https://web.archive.org/web/20210630170623/htt...</td>\n",
       "      <td>2021-06-30</td>\n",
       "      <td>NVIDIA A100 SXM4 80 GB</td>\n",
       "      <td>NVIDIA</td>\n",
       "      <td>NaN</td>\n",
       "      <td>NaN</td>\n",
       "      <td>NaN</td>\n",
       "      <td>NaN</td>\n",
       "      <td>NaN</td>\n",
       "      <td>37500.00</td>\n",
       "      <td>DGX A100, 8 GPU, 640GB</td>\n",
       "    </tr>\n",
       "    <tr>\n",
       "      <th>49</th>\n",
       "      <td>https://web.archive.org/web/20220120191032/htt...</td>\n",
       "      <td>2022-01-20</td>\n",
       "      <td>NVIDIA A100 SXM4 80 GB</td>\n",
       "      <td>NVIDIA</td>\n",
       "      <td>NaN</td>\n",
       "      <td>NaN</td>\n",
       "      <td>NaN</td>\n",
       "      <td>NaN</td>\n",
       "      <td>NaN</td>\n",
       "      <td>20875.00</td>\n",
       "      <td>DGX A100, 8 GPU, 640GB</td>\n",
       "    </tr>\n",
       "    <tr>\n",
       "      <th>50</th>\n",
       "      <td>https://web.archive.org/web/20230923154035/htt...</td>\n",
       "      <td>2023-09-23</td>\n",
       "      <td>NVIDIA A100 SXM4 80 GB</td>\n",
       "      <td>NVIDIA</td>\n",
       "      <td>NaN</td>\n",
       "      <td>NaN</td>\n",
       "      <td>NaN</td>\n",
       "      <td>NaN</td>\n",
       "      <td>NaN</td>\n",
       "      <td>18548.75</td>\n",
       "      <td>HGX A100, 8 GPU, 640GB</td>\n",
       "    </tr>\n",
       "    <tr>\n",
       "      <th>57</th>\n",
       "      <td>https://www.techpowerup.com/gpu-specs/geforce-...</td>\n",
       "      <td>2015-03-17</td>\n",
       "      <td>NVIDIA GTX Titan X</td>\n",
       "      <td>NVIDIA</td>\n",
       "      <td>NaN</td>\n",
       "      <td>NaN</td>\n",
       "      <td>NaN</td>\n",
       "      <td>NaN</td>\n",
       "      <td>NaN</td>\n",
       "      <td>999.00</td>\n",
       "      <td>Single-unit release price</td>\n",
       "    </tr>\n",
       "    <tr>\n",
       "      <th>59</th>\n",
       "      <td>https://web.archive.org/web/20220929115124/htt...</td>\n",
       "      <td>2022-09-29</td>\n",
       "      <td>NVIDIA H100 SXM5</td>\n",
       "      <td>NVIDIA</td>\n",
       "      <td>NaN</td>\n",
       "      <td>NaN</td>\n",
       "      <td>NaN</td>\n",
       "      <td>NaN</td>\n",
       "      <td>NaN</td>\n",
       "      <td>44489.88</td>\n",
       "      <td>DGX, 8 GPU, 640GB. Convert Euro to USD: https:...</td>\n",
       "    </tr>\n",
       "    <tr>\n",
       "      <th>60</th>\n",
       "      <td>https://web.archive.org/web/20230529125834/htt...</td>\n",
       "      <td>2023-05-29</td>\n",
       "      <td>NVIDIA H100 SXM5</td>\n",
       "      <td>NVIDIA</td>\n",
       "      <td>NaN</td>\n",
       "      <td>NaN</td>\n",
       "      <td>NaN</td>\n",
       "      <td>NaN</td>\n",
       "      <td>NaN</td>\n",
       "      <td>33750.00</td>\n",
       "      <td>DGX, 8 GPU, 640GB. “Nvidia sells DGX H100’s at...</td>\n",
       "    </tr>\n",
       "    <tr>\n",
       "      <th>61</th>\n",
       "      <td>https://web.archive.org/web/20231211031623/htt...</td>\n",
       "      <td>2023-12-11</td>\n",
       "      <td>NVIDIA H100 SXM5</td>\n",
       "      <td>NVIDIA</td>\n",
       "      <td>NaN</td>\n",
       "      <td>NaN</td>\n",
       "      <td>NaN</td>\n",
       "      <td>NaN</td>\n",
       "      <td>NaN</td>\n",
       "      <td>41197.50</td>\n",
       "      <td>DGX, 8 GPU, 640GB. Convert Euro to USD: https:...</td>\n",
       "    </tr>\n",
       "    <tr>\n",
       "      <th>62</th>\n",
       "      <td>https://web.archive.org/web/20240320115454/htt...</td>\n",
       "      <td>2024-03-20</td>\n",
       "      <td>NVIDIA H100 SXM5</td>\n",
       "      <td>NVIDIA</td>\n",
       "      <td>NaN</td>\n",
       "      <td>NaN</td>\n",
       "      <td>NaN</td>\n",
       "      <td>NaN</td>\n",
       "      <td>NaN</td>\n",
       "      <td>41217.00</td>\n",
       "      <td>DGX, 8 GPU, 640GB. Convert Euro to USD: https:...</td>\n",
       "    </tr>\n",
       "    <tr>\n",
       "      <th>63</th>\n",
       "      <td>https://web.archive.org/web/20240321212632/htt...</td>\n",
       "      <td>2024-03-21</td>\n",
       "      <td>NVIDIA H100 SXM5</td>\n",
       "      <td>NVIDIA</td>\n",
       "      <td>NaN</td>\n",
       "      <td>NaN</td>\n",
       "      <td>NaN</td>\n",
       "      <td>NaN</td>\n",
       "      <td>NaN</td>\n",
       "      <td>37080.50</td>\n",
       "      <td>HGX, 8 GPU, 640GB</td>\n",
       "    </tr>\n",
       "    <tr>\n",
       "      <th>74</th>\n",
       "      <td>https://www.nextplatform.com/2022/05/09/how-mu...</td>\n",
       "      <td>2012-07-01</td>\n",
       "      <td>NVIDIA Tesla K40s</td>\n",
       "      <td>NVIDIA</td>\n",
       "      <td>NaN</td>\n",
       "      <td>NaN</td>\n",
       "      <td>NaN</td>\n",
       "      <td>NaN</td>\n",
       "      <td>NaN</td>\n",
       "      <td>5400.00</td>\n",
       "      <td>Single-unit release price</td>\n",
       "    </tr>\n",
       "    <tr>\n",
       "      <th>75</th>\n",
       "      <td>https://www.techpowerup.com/gpu-specs/tesla-k4...</td>\n",
       "      <td>2013-11-22</td>\n",
       "      <td>NVIDIA Tesla K40s</td>\n",
       "      <td>NVIDIA</td>\n",
       "      <td>NaN</td>\n",
       "      <td>NaN</td>\n",
       "      <td>NaN</td>\n",
       "      <td>NaN</td>\n",
       "      <td>NaN</td>\n",
       "      <td>7699.00</td>\n",
       "      <td>Single-unit release price</td>\n",
       "    </tr>\n",
       "    <tr>\n",
       "      <th>76</th>\n",
       "      <td>https://www.nextplatform.com/2022/05/09/how-mu...</td>\n",
       "      <td>2014-07-01</td>\n",
       "      <td>NVIDIA Tesla K40s</td>\n",
       "      <td>NVIDIA</td>\n",
       "      <td>NaN</td>\n",
       "      <td>NaN</td>\n",
       "      <td>NaN</td>\n",
       "      <td>NaN</td>\n",
       "      <td>NaN</td>\n",
       "      <td>4200.00</td>\n",
       "      <td>Single-unit list price</td>\n",
       "    </tr>\n",
       "    <tr>\n",
       "      <th>77</th>\n",
       "      <td>https://www.nextplatform.com/2022/05/09/how-mu...</td>\n",
       "      <td>2016-07-01</td>\n",
       "      <td>NVIDIA Tesla K40s</td>\n",
       "      <td>NVIDIA</td>\n",
       "      <td>NaN</td>\n",
       "      <td>NaN</td>\n",
       "      <td>NaN</td>\n",
       "      <td>NaN</td>\n",
       "      <td>NaN</td>\n",
       "      <td>2900.00</td>\n",
       "      <td>Single-unit list price</td>\n",
       "    </tr>\n",
       "    <tr>\n",
       "      <th>78</th>\n",
       "      <td>https://www.nextplatform.com/2022/05/09/how-mu...</td>\n",
       "      <td>2018-07-01</td>\n",
       "      <td>NVIDIA Tesla K40s</td>\n",
       "      <td>NVIDIA</td>\n",
       "      <td>NaN</td>\n",
       "      <td>NaN</td>\n",
       "      <td>NaN</td>\n",
       "      <td>NaN</td>\n",
       "      <td>NaN</td>\n",
       "      <td>2300.00</td>\n",
       "      <td>Single-unit list price</td>\n",
       "    </tr>\n",
       "    <tr>\n",
       "      <th>79</th>\n",
       "      <td>https://www.nextplatform.com/2022/05/09/how-mu...</td>\n",
       "      <td>2020-07-01</td>\n",
       "      <td>NVIDIA Tesla K40s</td>\n",
       "      <td>NVIDIA</td>\n",
       "      <td>NaN</td>\n",
       "      <td>NaN</td>\n",
       "      <td>NaN</td>\n",
       "      <td>NaN</td>\n",
       "      <td>NaN</td>\n",
       "      <td>540.00</td>\n",
       "      <td>Single-unit list price</td>\n",
       "    </tr>\n",
       "    <tr>\n",
       "      <th>80</th>\n",
       "      <td>https://www.nextplatform.com/2022/05/09/how-mu...</td>\n",
       "      <td>2022-07-01</td>\n",
       "      <td>NVIDIA Tesla K40s</td>\n",
       "      <td>NVIDIA</td>\n",
       "      <td>NaN</td>\n",
       "      <td>NaN</td>\n",
       "      <td>NaN</td>\n",
       "      <td>NaN</td>\n",
       "      <td>NaN</td>\n",
       "      <td>290.00</td>\n",
       "      <td>Single-unit list price</td>\n",
       "    </tr>\n",
       "    <tr>\n",
       "      <th>81</th>\n",
       "      <td>https://www.anandtech.com/show/8729/nvidia-lau...</td>\n",
       "      <td>2014-11-17</td>\n",
       "      <td>NVIDIA Tesla K80</td>\n",
       "      <td>NVIDIA</td>\n",
       "      <td>NaN</td>\n",
       "      <td>NaN</td>\n",
       "      <td>NaN</td>\n",
       "      <td>NaN</td>\n",
       "      <td>NaN</td>\n",
       "      <td>5000.00</td>\n",
       "      <td>Single-unit release price</td>\n",
       "    </tr>\n",
       "    <tr>\n",
       "      <th>82</th>\n",
       "      <td>https://www.nextplatform.com/2022/05/09/how-mu...</td>\n",
       "      <td>2016-07-01</td>\n",
       "      <td>NVIDIA Tesla K80</td>\n",
       "      <td>NVIDIA</td>\n",
       "      <td>NaN</td>\n",
       "      <td>NaN</td>\n",
       "      <td>NaN</td>\n",
       "      <td>NaN</td>\n",
       "      <td>NaN</td>\n",
       "      <td>3700.00</td>\n",
       "      <td>Single-unit list price</td>\n",
       "    </tr>\n",
       "    <tr>\n",
       "      <th>83</th>\n",
       "      <td>https://www.nextplatform.com/2022/05/09/how-mu...</td>\n",
       "      <td>2018-07-01</td>\n",
       "      <td>NVIDIA Tesla K80</td>\n",
       "      <td>NVIDIA</td>\n",
       "      <td>NaN</td>\n",
       "      <td>NaN</td>\n",
       "      <td>NaN</td>\n",
       "      <td>NaN</td>\n",
       "      <td>NaN</td>\n",
       "      <td>2500.00</td>\n",
       "      <td>Single-unit list price</td>\n",
       "    </tr>\n",
       "    <tr>\n",
       "      <th>84</th>\n",
       "      <td>https://www.nextplatform.com/2022/05/09/how-mu...</td>\n",
       "      <td>2020-07-01</td>\n",
       "      <td>NVIDIA Tesla K80</td>\n",
       "      <td>NVIDIA</td>\n",
       "      <td>NaN</td>\n",
       "      <td>NaN</td>\n",
       "      <td>NaN</td>\n",
       "      <td>NaN</td>\n",
       "      <td>NaN</td>\n",
       "      <td>940.00</td>\n",
       "      <td>Single-unit list price</td>\n",
       "    </tr>\n",
       "    <tr>\n",
       "      <th>85</th>\n",
       "      <td>https://www.nextplatform.com/2022/05/09/how-mu...</td>\n",
       "      <td>2022-07-01</td>\n",
       "      <td>NVIDIA Tesla K80</td>\n",
       "      <td>NVIDIA</td>\n",
       "      <td>NaN</td>\n",
       "      <td>NaN</td>\n",
       "      <td>NaN</td>\n",
       "      <td>NaN</td>\n",
       "      <td>NaN</td>\n",
       "      <td>435.00</td>\n",
       "      <td>Single-unit list price</td>\n",
       "    </tr>\n",
       "    <tr>\n",
       "      <th>97</th>\n",
       "      <td>https://www.techpowerup.com/gpu-specs/tesla-p1...</td>\n",
       "      <td>2016-06-20</td>\n",
       "      <td>NVIDIA Tesla P100 PCIe 16 GB</td>\n",
       "      <td>NVIDIA</td>\n",
       "      <td>NaN</td>\n",
       "      <td>NaN</td>\n",
       "      <td>NaN</td>\n",
       "      <td>NaN</td>\n",
       "      <td>NaN</td>\n",
       "      <td>5699.00</td>\n",
       "      <td>Single-unit release price</td>\n",
       "    </tr>\n",
       "    <tr>\n",
       "      <th>98</th>\n",
       "      <td>https://web.archive.org/web/20160621002700/htt...</td>\n",
       "      <td>2016-06-21</td>\n",
       "      <td>NVIDIA Tesla P100 PCIe 16 GB</td>\n",
       "      <td>NVIDIA</td>\n",
       "      <td>NaN</td>\n",
       "      <td>NaN</td>\n",
       "      <td>NaN</td>\n",
       "      <td>NaN</td>\n",
       "      <td>NaN</td>\n",
       "      <td>16125.00</td>\n",
       "      <td>DGX-1, 8 GPU, 128GB</td>\n",
       "    </tr>\n",
       "    <tr>\n",
       "      <th>99</th>\n",
       "      <td>https://www.nextplatform.com/2022/05/09/how-mu...</td>\n",
       "      <td>2016-07-01</td>\n",
       "      <td>NVIDIA Tesla P100 PCIe 16 GB</td>\n",
       "      <td>NVIDIA</td>\n",
       "      <td>NaN</td>\n",
       "      <td>NaN</td>\n",
       "      <td>NaN</td>\n",
       "      <td>NaN</td>\n",
       "      <td>NaN</td>\n",
       "      <td>5500.00</td>\n",
       "      <td>Single-unit list price</td>\n",
       "    </tr>\n",
       "    <tr>\n",
       "      <th>100</th>\n",
       "      <td>https://web.archive.org/web/20170312174101/htt...</td>\n",
       "      <td>2017-03-12</td>\n",
       "      <td>NVIDIA Tesla P100 PCIe 16 GB</td>\n",
       "      <td>NVIDIA</td>\n",
       "      <td>NaN</td>\n",
       "      <td>NaN</td>\n",
       "      <td>NaN</td>\n",
       "      <td>NaN</td>\n",
       "      <td>NaN</td>\n",
       "      <td>18543.75</td>\n",
       "      <td>DGX-1, 8 GPU, 128GB</td>\n",
       "    </tr>\n",
       "    <tr>\n",
       "      <th>101</th>\n",
       "      <td>https://www.nextplatform.com/2022/05/09/how-mu...</td>\n",
       "      <td>2018-07-01</td>\n",
       "      <td>NVIDIA Tesla P100 PCIe 16 GB</td>\n",
       "      <td>NVIDIA</td>\n",
       "      <td>NaN</td>\n",
       "      <td>NaN</td>\n",
       "      <td>NaN</td>\n",
       "      <td>NaN</td>\n",
       "      <td>NaN</td>\n",
       "      <td>5900.00</td>\n",
       "      <td>Single-unit list price</td>\n",
       "    </tr>\n",
       "    <tr>\n",
       "      <th>102</th>\n",
       "      <td>https://www.nextplatform.com/2022/05/09/how-mu...</td>\n",
       "      <td>2020-07-01</td>\n",
       "      <td>NVIDIA Tesla P100 PCIe 16 GB</td>\n",
       "      <td>NVIDIA</td>\n",
       "      <td>NaN</td>\n",
       "      <td>NaN</td>\n",
       "      <td>NaN</td>\n",
       "      <td>NaN</td>\n",
       "      <td>NaN</td>\n",
       "      <td>3500.00</td>\n",
       "      <td>Single-unit list price</td>\n",
       "    </tr>\n",
       "    <tr>\n",
       "      <th>103</th>\n",
       "      <td>https://www.nextplatform.com/2022/05/09/how-mu...</td>\n",
       "      <td>2022-07-01</td>\n",
       "      <td>NVIDIA Tesla P100 PCIe 16 GB</td>\n",
       "      <td>NVIDIA</td>\n",
       "      <td>NaN</td>\n",
       "      <td>NaN</td>\n",
       "      <td>NaN</td>\n",
       "      <td>NaN</td>\n",
       "      <td>NaN</td>\n",
       "      <td>2200.00</td>\n",
       "      <td>Single-unit list price</td>\n",
       "    </tr>\n",
       "    <tr>\n",
       "      <th>104</th>\n",
       "      <td>https://www.nextplatform.com/2022/05/09/how-mu...</td>\n",
       "      <td>2016-07-01</td>\n",
       "      <td>NVIDIA Tesla P100 SXM2</td>\n",
       "      <td>NVIDIA</td>\n",
       "      <td>NaN</td>\n",
       "      <td>NaN</td>\n",
       "      <td>NaN</td>\n",
       "      <td>NaN</td>\n",
       "      <td>NaN</td>\n",
       "      <td>10500.00</td>\n",
       "      <td>Single-unit list price</td>\n",
       "    </tr>\n",
       "    <tr>\n",
       "      <th>105</th>\n",
       "      <td>https://www.nextplatform.com/2022/05/09/how-mu...</td>\n",
       "      <td>2018-07-01</td>\n",
       "      <td>NVIDIA Tesla P100 SXM2</td>\n",
       "      <td>NVIDIA</td>\n",
       "      <td>NaN</td>\n",
       "      <td>NaN</td>\n",
       "      <td>NaN</td>\n",
       "      <td>NaN</td>\n",
       "      <td>NaN</td>\n",
       "      <td>7400.00</td>\n",
       "      <td>Single-unit list price</td>\n",
       "    </tr>\n",
       "    <tr>\n",
       "      <th>106</th>\n",
       "      <td>https://www.nextplatform.com/2022/05/09/how-mu...</td>\n",
       "      <td>2020-07-01</td>\n",
       "      <td>NVIDIA Tesla P100 SXM2</td>\n",
       "      <td>NVIDIA</td>\n",
       "      <td>NaN</td>\n",
       "      <td>NaN</td>\n",
       "      <td>NaN</td>\n",
       "      <td>NaN</td>\n",
       "      <td>NaN</td>\n",
       "      <td>4400.00</td>\n",
       "      <td>Single-unit list price</td>\n",
       "    </tr>\n",
       "    <tr>\n",
       "      <th>107</th>\n",
       "      <td>https://www.nextplatform.com/2022/05/09/how-mu...</td>\n",
       "      <td>2022-07-01</td>\n",
       "      <td>NVIDIA Tesla P100 SXM2</td>\n",
       "      <td>NVIDIA</td>\n",
       "      <td>NaN</td>\n",
       "      <td>NaN</td>\n",
       "      <td>NaN</td>\n",
       "      <td>NaN</td>\n",
       "      <td>NaN</td>\n",
       "      <td>1100.00</td>\n",
       "      <td>Single-unit list price</td>\n",
       "    </tr>\n",
       "    <tr>\n",
       "      <th>109</th>\n",
       "      <td>https://web.archive.org/web/20190111090822/htt...</td>\n",
       "      <td>2019-01-11</td>\n",
       "      <td>NVIDIA Tesla V100 DGXS 32 GB</td>\n",
       "      <td>NVIDIA</td>\n",
       "      <td>NaN</td>\n",
       "      <td>NaN</td>\n",
       "      <td>NaN</td>\n",
       "      <td>NaN</td>\n",
       "      <td>NaN</td>\n",
       "      <td>18457.50</td>\n",
       "      <td>DGX, 4 GPU, 128GB</td>\n",
       "    </tr>\n",
       "    <tr>\n",
       "      <th>110</th>\n",
       "      <td>https://web.archive.org/web/20190111061033/htt...</td>\n",
       "      <td>2019-01-11</td>\n",
       "      <td>NVIDIA Tesla V100 DGXS 32 GB</td>\n",
       "      <td>NVIDIA</td>\n",
       "      <td>NaN</td>\n",
       "      <td>NaN</td>\n",
       "      <td>NaN</td>\n",
       "      <td>NaN</td>\n",
       "      <td>NaN</td>\n",
       "      <td>19928.75</td>\n",
       "      <td>DGX-1, 8 GPU, 256GB</td>\n",
       "    </tr>\n",
       "    <tr>\n",
       "      <th>111</th>\n",
       "      <td>https://web.archive.org/web/20190111101112/htt...</td>\n",
       "      <td>2019-01-11</td>\n",
       "      <td>NVIDIA Tesla V100 DGXS 32 GB</td>\n",
       "      <td>NVIDIA</td>\n",
       "      <td>NaN</td>\n",
       "      <td>NaN</td>\n",
       "      <td>NaN</td>\n",
       "      <td>NaN</td>\n",
       "      <td>NaN</td>\n",
       "      <td>26995.63</td>\n",
       "      <td>DGX-2, 16 GPU, 512 GB</td>\n",
       "    </tr>\n",
       "    <tr>\n",
       "      <th>118</th>\n",
       "      <td>https://web.archive.org/web/20190118082125/htt...</td>\n",
       "      <td>2018-05-08</td>\n",
       "      <td>NVIDIA Tesla V100 PCIe 16 GB</td>\n",
       "      <td>NVIDIA</td>\n",
       "      <td>NaN</td>\n",
       "      <td>NaN</td>\n",
       "      <td>NaN</td>\n",
       "      <td>NaN</td>\n",
       "      <td>NaN</td>\n",
       "      <td>10664.00</td>\n",
       "      <td>Single-unit list price</td>\n",
       "    </tr>\n",
       "    <tr>\n",
       "      <th>119</th>\n",
       "      <td>https://www.nextplatform.com/2022/05/09/how-mu...</td>\n",
       "      <td>2018-07-01</td>\n",
       "      <td>NVIDIA Tesla V100 PCIe 32 GB</td>\n",
       "      <td>NVIDIA</td>\n",
       "      <td>NaN</td>\n",
       "      <td>NaN</td>\n",
       "      <td>NaN</td>\n",
       "      <td>NaN</td>\n",
       "      <td>NaN</td>\n",
       "      <td>8500.00</td>\n",
       "      <td>Single-unit list price</td>\n",
       "    </tr>\n",
       "    <tr>\n",
       "      <th>120</th>\n",
       "      <td>https://www.nextplatform.com/2022/05/09/how-mu...</td>\n",
       "      <td>2020-07-01</td>\n",
       "      <td>NVIDIA Tesla V100 PCIe 32 GB</td>\n",
       "      <td>NVIDIA</td>\n",
       "      <td>NaN</td>\n",
       "      <td>NaN</td>\n",
       "      <td>NaN</td>\n",
       "      <td>NaN</td>\n",
       "      <td>NaN</td>\n",
       "      <td>10500.00</td>\n",
       "      <td>Single-unit list price</td>\n",
       "    </tr>\n",
       "    <tr>\n",
       "      <th>121</th>\n",
       "      <td>https://www.nextplatform.com/2022/05/09/how-mu...</td>\n",
       "      <td>2022-07-01</td>\n",
       "      <td>NVIDIA Tesla V100 PCIe 32 GB</td>\n",
       "      <td>NVIDIA</td>\n",
       "      <td>NaN</td>\n",
       "      <td>NaN</td>\n",
       "      <td>NaN</td>\n",
       "      <td>NaN</td>\n",
       "      <td>NaN</td>\n",
       "      <td>7500.00</td>\n",
       "      <td>Single-unit list price</td>\n",
       "    </tr>\n",
       "    <tr>\n",
       "      <th>122</th>\n",
       "      <td>https://web.archive.org/web/20190118082125/htt...</td>\n",
       "      <td>2018-05-08</td>\n",
       "      <td>NVIDIA Tesla V100 SXM2 16 GB</td>\n",
       "      <td>NVIDIA</td>\n",
       "      <td>NaN</td>\n",
       "      <td>NaN</td>\n",
       "      <td>NaN</td>\n",
       "      <td>NaN</td>\n",
       "      <td>NaN</td>\n",
       "      <td>10664.00</td>\n",
       "      <td>Single-unit list price</td>\n",
       "    </tr>\n",
       "    <tr>\n",
       "      <th>123</th>\n",
       "      <td>https://web.archive.org/web/20190118082125/htt...</td>\n",
       "      <td>2018-05-08</td>\n",
       "      <td>NVIDIA Tesla V100 SXM2 32 GB</td>\n",
       "      <td>NVIDIA</td>\n",
       "      <td>NaN</td>\n",
       "      <td>NaN</td>\n",
       "      <td>NaN</td>\n",
       "      <td>NaN</td>\n",
       "      <td>NaN</td>\n",
       "      <td>11458.00</td>\n",
       "      <td>Single-unit list price</td>\n",
       "    </tr>\n",
       "    <tr>\n",
       "      <th>124</th>\n",
       "      <td>https://web.archive.org/web/20190118082125/htt...</td>\n",
       "      <td>2018-05-08</td>\n",
       "      <td>NVIDIA Tesla V100 SXM2 32 GB</td>\n",
       "      <td>NVIDIA</td>\n",
       "      <td>NaN</td>\n",
       "      <td>NaN</td>\n",
       "      <td>NaN</td>\n",
       "      <td>NaN</td>\n",
       "      <td>NaN</td>\n",
       "      <td>11458.00</td>\n",
       "      <td>Single-unit list price</td>\n",
       "    </tr>\n",
       "    <tr>\n",
       "      <th>125</th>\n",
       "      <td>https://www.nextplatform.com/2022/05/09/how-mu...</td>\n",
       "      <td>2018-07-01</td>\n",
       "      <td>NVIDIA Tesla V100 SXM3 32 GB</td>\n",
       "      <td>NVIDIA</td>\n",
       "      <td>NaN</td>\n",
       "      <td>NaN</td>\n",
       "      <td>NaN</td>\n",
       "      <td>NaN</td>\n",
       "      <td>NaN</td>\n",
       "      <td>11500.00</td>\n",
       "      <td>Single-unit list price</td>\n",
       "    </tr>\n",
       "    <tr>\n",
       "      <th>126</th>\n",
       "      <td>https://www.nextplatform.com/2022/05/09/how-mu...</td>\n",
       "      <td>2020-07-01</td>\n",
       "      <td>NVIDIA Tesla V100 SXM3 32 GB</td>\n",
       "      <td>NVIDIA</td>\n",
       "      <td>NaN</td>\n",
       "      <td>NaN</td>\n",
       "      <td>NaN</td>\n",
       "      <td>NaN</td>\n",
       "      <td>NaN</td>\n",
       "      <td>13700.00</td>\n",
       "      <td>Single-unit list price</td>\n",
       "    </tr>\n",
       "    <tr>\n",
       "      <th>127</th>\n",
       "      <td>https://www.nextplatform.com/2022/05/09/how-mu...</td>\n",
       "      <td>2022-07-01</td>\n",
       "      <td>NVIDIA Tesla V100 SXM3 32 GB</td>\n",
       "      <td>NVIDIA</td>\n",
       "      <td>NaN</td>\n",
       "      <td>NaN</td>\n",
       "      <td>NaN</td>\n",
       "      <td>NaN</td>\n",
       "      <td>NaN</td>\n",
       "      <td>2500.00</td>\n",
       "      <td>Single-unit list price</td>\n",
       "    </tr>\n",
       "    <tr>\n",
       "      <th>128</th>\n",
       "      <td>https://web.archive.org/web/20170513081017/htt...</td>\n",
       "      <td>2017-07-01</td>\n",
       "      <td>NVIDIA V100</td>\n",
       "      <td>NVIDIA</td>\n",
       "      <td>NaN</td>\n",
       "      <td>NaN</td>\n",
       "      <td>NaN</td>\n",
       "      <td>NaN</td>\n",
       "      <td>NaN</td>\n",
       "      <td>18625.00</td>\n",
       "      <td>Price at release (2017 Q3) for a DGX-1 with 8x...</td>\n",
       "    </tr>\n",
       "    <tr>\n",
       "      <th>129</th>\n",
       "      <td>https://web.archive.org/web/20170513081017/htt...</td>\n",
       "      <td>2017-07-01</td>\n",
       "      <td>NVIDIA V100</td>\n",
       "      <td>NVIDIA</td>\n",
       "      <td>NaN</td>\n",
       "      <td>NaN</td>\n",
       "      <td>NaN</td>\n",
       "      <td>NaN</td>\n",
       "      <td>NaN</td>\n",
       "      <td>17250.00</td>\n",
       "      <td>Price at release (2017 Q3) for a DGXS with 4x ...</td>\n",
       "    </tr>\n",
       "  </tbody>\n",
       "</table>\n",
       "</div>"
      ],
      "text/plain": [
       "                                          Price source Price date  \\\n",
       "25   https://www.nextplatform.com/2022/05/09/how-mu... 2020-07-01   \n",
       "26   https://www.nextplatform.com/2022/05/09/how-mu... 2022-07-01   \n",
       "38   https://web.archive.org/web/20200521074015/htt... 2020-05-21   \n",
       "39   https://www.nextplatform.com/2022/05/09/how-mu... 2020-07-01   \n",
       "40   https://www.nextplatform.com/2022/05/09/how-mu... 2022-07-01   \n",
       "48   https://web.archive.org/web/20210630170623/htt... 2021-06-30   \n",
       "49   https://web.archive.org/web/20220120191032/htt... 2022-01-20   \n",
       "50   https://web.archive.org/web/20230923154035/htt... 2023-09-23   \n",
       "57   https://www.techpowerup.com/gpu-specs/geforce-... 2015-03-17   \n",
       "59   https://web.archive.org/web/20220929115124/htt... 2022-09-29   \n",
       "60   https://web.archive.org/web/20230529125834/htt... 2023-05-29   \n",
       "61   https://web.archive.org/web/20231211031623/htt... 2023-12-11   \n",
       "62   https://web.archive.org/web/20240320115454/htt... 2024-03-20   \n",
       "63   https://web.archive.org/web/20240321212632/htt... 2024-03-21   \n",
       "74   https://www.nextplatform.com/2022/05/09/how-mu... 2012-07-01   \n",
       "75   https://www.techpowerup.com/gpu-specs/tesla-k4... 2013-11-22   \n",
       "76   https://www.nextplatform.com/2022/05/09/how-mu... 2014-07-01   \n",
       "77   https://www.nextplatform.com/2022/05/09/how-mu... 2016-07-01   \n",
       "78   https://www.nextplatform.com/2022/05/09/how-mu... 2018-07-01   \n",
       "79   https://www.nextplatform.com/2022/05/09/how-mu... 2020-07-01   \n",
       "80   https://www.nextplatform.com/2022/05/09/how-mu... 2022-07-01   \n",
       "81   https://www.anandtech.com/show/8729/nvidia-lau... 2014-11-17   \n",
       "82   https://www.nextplatform.com/2022/05/09/how-mu... 2016-07-01   \n",
       "83   https://www.nextplatform.com/2022/05/09/how-mu... 2018-07-01   \n",
       "84   https://www.nextplatform.com/2022/05/09/how-mu... 2020-07-01   \n",
       "85   https://www.nextplatform.com/2022/05/09/how-mu... 2022-07-01   \n",
       "97   https://www.techpowerup.com/gpu-specs/tesla-p1... 2016-06-20   \n",
       "98   https://web.archive.org/web/20160621002700/htt... 2016-06-21   \n",
       "99   https://www.nextplatform.com/2022/05/09/how-mu... 2016-07-01   \n",
       "100  https://web.archive.org/web/20170312174101/htt... 2017-03-12   \n",
       "101  https://www.nextplatform.com/2022/05/09/how-mu... 2018-07-01   \n",
       "102  https://www.nextplatform.com/2022/05/09/how-mu... 2020-07-01   \n",
       "103  https://www.nextplatform.com/2022/05/09/how-mu... 2022-07-01   \n",
       "104  https://www.nextplatform.com/2022/05/09/how-mu... 2016-07-01   \n",
       "105  https://www.nextplatform.com/2022/05/09/how-mu... 2018-07-01   \n",
       "106  https://www.nextplatform.com/2022/05/09/how-mu... 2020-07-01   \n",
       "107  https://www.nextplatform.com/2022/05/09/how-mu... 2022-07-01   \n",
       "109  https://web.archive.org/web/20190111090822/htt... 2019-01-11   \n",
       "110  https://web.archive.org/web/20190111061033/htt... 2019-01-11   \n",
       "111  https://web.archive.org/web/20190111101112/htt... 2019-01-11   \n",
       "118  https://web.archive.org/web/20190118082125/htt... 2018-05-08   \n",
       "119  https://www.nextplatform.com/2022/05/09/how-mu... 2018-07-01   \n",
       "120  https://www.nextplatform.com/2022/05/09/how-mu... 2020-07-01   \n",
       "121  https://www.nextplatform.com/2022/05/09/how-mu... 2022-07-01   \n",
       "122  https://web.archive.org/web/20190118082125/htt... 2018-05-08   \n",
       "123  https://web.archive.org/web/20190118082125/htt... 2018-05-08   \n",
       "124  https://web.archive.org/web/20190118082125/htt... 2018-05-08   \n",
       "125  https://www.nextplatform.com/2022/05/09/how-mu... 2018-07-01   \n",
       "126  https://www.nextplatform.com/2022/05/09/how-mu... 2020-07-01   \n",
       "127  https://www.nextplatform.com/2022/05/09/how-mu... 2022-07-01   \n",
       "128  https://web.archive.org/web/20170513081017/htt... 2017-07-01   \n",
       "129  https://web.archive.org/web/20170513081017/htt... 2017-07-01   \n",
       "\n",
       "                   Hardware model Manufacturer (from Hardware model) Vendor  \\\n",
       "25               NVIDIA A100 PCIe                             NVIDIA    NaN   \n",
       "26               NVIDIA A100 PCIe                             NVIDIA    NaN   \n",
       "38         NVIDIA A100 SXM4 40 GB                             NVIDIA    NaN   \n",
       "39         NVIDIA A100 SXM4 40 GB                             NVIDIA    NaN   \n",
       "40         NVIDIA A100 SXM4 40 GB                             NVIDIA    NaN   \n",
       "48         NVIDIA A100 SXM4 80 GB                             NVIDIA    NaN   \n",
       "49         NVIDIA A100 SXM4 80 GB                             NVIDIA    NaN   \n",
       "50         NVIDIA A100 SXM4 80 GB                             NVIDIA    NaN   \n",
       "57             NVIDIA GTX Titan X                             NVIDIA    NaN   \n",
       "59               NVIDIA H100 SXM5                             NVIDIA    NaN   \n",
       "60               NVIDIA H100 SXM5                             NVIDIA    NaN   \n",
       "61               NVIDIA H100 SXM5                             NVIDIA    NaN   \n",
       "62               NVIDIA H100 SXM5                             NVIDIA    NaN   \n",
       "63               NVIDIA H100 SXM5                             NVIDIA    NaN   \n",
       "74              NVIDIA Tesla K40s                             NVIDIA    NaN   \n",
       "75              NVIDIA Tesla K40s                             NVIDIA    NaN   \n",
       "76              NVIDIA Tesla K40s                             NVIDIA    NaN   \n",
       "77              NVIDIA Tesla K40s                             NVIDIA    NaN   \n",
       "78              NVIDIA Tesla K40s                             NVIDIA    NaN   \n",
       "79              NVIDIA Tesla K40s                             NVIDIA    NaN   \n",
       "80              NVIDIA Tesla K40s                             NVIDIA    NaN   \n",
       "81               NVIDIA Tesla K80                             NVIDIA    NaN   \n",
       "82               NVIDIA Tesla K80                             NVIDIA    NaN   \n",
       "83               NVIDIA Tesla K80                             NVIDIA    NaN   \n",
       "84               NVIDIA Tesla K80                             NVIDIA    NaN   \n",
       "85               NVIDIA Tesla K80                             NVIDIA    NaN   \n",
       "97   NVIDIA Tesla P100 PCIe 16 GB                             NVIDIA    NaN   \n",
       "98   NVIDIA Tesla P100 PCIe 16 GB                             NVIDIA    NaN   \n",
       "99   NVIDIA Tesla P100 PCIe 16 GB                             NVIDIA    NaN   \n",
       "100  NVIDIA Tesla P100 PCIe 16 GB                             NVIDIA    NaN   \n",
       "101  NVIDIA Tesla P100 PCIe 16 GB                             NVIDIA    NaN   \n",
       "102  NVIDIA Tesla P100 PCIe 16 GB                             NVIDIA    NaN   \n",
       "103  NVIDIA Tesla P100 PCIe 16 GB                             NVIDIA    NaN   \n",
       "104        NVIDIA Tesla P100 SXM2                             NVIDIA    NaN   \n",
       "105        NVIDIA Tesla P100 SXM2                             NVIDIA    NaN   \n",
       "106        NVIDIA Tesla P100 SXM2                             NVIDIA    NaN   \n",
       "107        NVIDIA Tesla P100 SXM2                             NVIDIA    NaN   \n",
       "109  NVIDIA Tesla V100 DGXS 32 GB                             NVIDIA    NaN   \n",
       "110  NVIDIA Tesla V100 DGXS 32 GB                             NVIDIA    NaN   \n",
       "111  NVIDIA Tesla V100 DGXS 32 GB                             NVIDIA    NaN   \n",
       "118  NVIDIA Tesla V100 PCIe 16 GB                             NVIDIA    NaN   \n",
       "119  NVIDIA Tesla V100 PCIe 32 GB                             NVIDIA    NaN   \n",
       "120  NVIDIA Tesla V100 PCIe 32 GB                             NVIDIA    NaN   \n",
       "121  NVIDIA Tesla V100 PCIe 32 GB                             NVIDIA    NaN   \n",
       "122  NVIDIA Tesla V100 SXM2 16 GB                             NVIDIA    NaN   \n",
       "123  NVIDIA Tesla V100 SXM2 32 GB                             NVIDIA    NaN   \n",
       "124  NVIDIA Tesla V100 SXM2 32 GB                             NVIDIA    NaN   \n",
       "125  NVIDIA Tesla V100 SXM3 32 GB                             NVIDIA    NaN   \n",
       "126  NVIDIA Tesla V100 SXM3 32 GB                             NVIDIA    NaN   \n",
       "127  NVIDIA Tesla V100 SXM3 32 GB                             NVIDIA    NaN   \n",
       "128                   NVIDIA V100                             NVIDIA    NaN   \n",
       "129                   NVIDIA V100                             NVIDIA    NaN   \n",
       "\n",
       "    Location  Price per chip-hour (on-demand)  \\\n",
       "25       NaN                              NaN   \n",
       "26       NaN                              NaN   \n",
       "38       NaN                              NaN   \n",
       "39       NaN                              NaN   \n",
       "40       NaN                              NaN   \n",
       "48       NaN                              NaN   \n",
       "49       NaN                              NaN   \n",
       "50       NaN                              NaN   \n",
       "57       NaN                              NaN   \n",
       "59       NaN                              NaN   \n",
       "60       NaN                              NaN   \n",
       "61       NaN                              NaN   \n",
       "62       NaN                              NaN   \n",
       "63       NaN                              NaN   \n",
       "74       NaN                              NaN   \n",
       "75       NaN                              NaN   \n",
       "76       NaN                              NaN   \n",
       "77       NaN                              NaN   \n",
       "78       NaN                              NaN   \n",
       "79       NaN                              NaN   \n",
       "80       NaN                              NaN   \n",
       "81       NaN                              NaN   \n",
       "82       NaN                              NaN   \n",
       "83       NaN                              NaN   \n",
       "84       NaN                              NaN   \n",
       "85       NaN                              NaN   \n",
       "97       NaN                              NaN   \n",
       "98       NaN                              NaN   \n",
       "99       NaN                              NaN   \n",
       "100      NaN                              NaN   \n",
       "101      NaN                              NaN   \n",
       "102      NaN                              NaN   \n",
       "103      NaN                              NaN   \n",
       "104      NaN                              NaN   \n",
       "105      NaN                              NaN   \n",
       "106      NaN                              NaN   \n",
       "107      NaN                              NaN   \n",
       "109      NaN                              NaN   \n",
       "110      NaN                              NaN   \n",
       "111      NaN                              NaN   \n",
       "118      NaN                              NaN   \n",
       "119      NaN                              NaN   \n",
       "120      NaN                              NaN   \n",
       "121      NaN                              NaN   \n",
       "122      NaN                              NaN   \n",
       "123      NaN                              NaN   \n",
       "124      NaN                              NaN   \n",
       "125      NaN                              NaN   \n",
       "126      NaN                              NaN   \n",
       "127      NaN                              NaN   \n",
       "128      NaN                              NaN   \n",
       "129      NaN                              NaN   \n",
       "\n",
       "     Price per chip-hour (1-year CUD)  Price per chip-hour (3-year CUD)  \\\n",
       "25                                NaN                               NaN   \n",
       "26                                NaN                               NaN   \n",
       "38                                NaN                               NaN   \n",
       "39                                NaN                               NaN   \n",
       "40                                NaN                               NaN   \n",
       "48                                NaN                               NaN   \n",
       "49                                NaN                               NaN   \n",
       "50                                NaN                               NaN   \n",
       "57                                NaN                               NaN   \n",
       "59                                NaN                               NaN   \n",
       "60                                NaN                               NaN   \n",
       "61                                NaN                               NaN   \n",
       "62                                NaN                               NaN   \n",
       "63                                NaN                               NaN   \n",
       "74                                NaN                               NaN   \n",
       "75                                NaN                               NaN   \n",
       "76                                NaN                               NaN   \n",
       "77                                NaN                               NaN   \n",
       "78                                NaN                               NaN   \n",
       "79                                NaN                               NaN   \n",
       "80                                NaN                               NaN   \n",
       "81                                NaN                               NaN   \n",
       "82                                NaN                               NaN   \n",
       "83                                NaN                               NaN   \n",
       "84                                NaN                               NaN   \n",
       "85                                NaN                               NaN   \n",
       "97                                NaN                               NaN   \n",
       "98                                NaN                               NaN   \n",
       "99                                NaN                               NaN   \n",
       "100                               NaN                               NaN   \n",
       "101                               NaN                               NaN   \n",
       "102                               NaN                               NaN   \n",
       "103                               NaN                               NaN   \n",
       "104                               NaN                               NaN   \n",
       "105                               NaN                               NaN   \n",
       "106                               NaN                               NaN   \n",
       "107                               NaN                               NaN   \n",
       "109                               NaN                               NaN   \n",
       "110                               NaN                               NaN   \n",
       "111                               NaN                               NaN   \n",
       "118                               NaN                               NaN   \n",
       "119                               NaN                               NaN   \n",
       "120                               NaN                               NaN   \n",
       "121                               NaN                               NaN   \n",
       "122                               NaN                               NaN   \n",
       "123                               NaN                               NaN   \n",
       "124                               NaN                               NaN   \n",
       "125                               NaN                               NaN   \n",
       "126                               NaN                               NaN   \n",
       "127                               NaN                               NaN   \n",
       "128                               NaN                               NaN   \n",
       "129                               NaN                               NaN   \n",
       "\n",
       "     Price (hardware purchase)  \\\n",
       "25                    15000.00   \n",
       "26                    12500.00   \n",
       "38                    24875.00   \n",
       "39                    15000.00   \n",
       "40                    12500.00   \n",
       "48                    37500.00   \n",
       "49                    20875.00   \n",
       "50                    18548.75   \n",
       "57                      999.00   \n",
       "59                    44489.88   \n",
       "60                    33750.00   \n",
       "61                    41197.50   \n",
       "62                    41217.00   \n",
       "63                    37080.50   \n",
       "74                     5400.00   \n",
       "75                     7699.00   \n",
       "76                     4200.00   \n",
       "77                     2900.00   \n",
       "78                     2300.00   \n",
       "79                      540.00   \n",
       "80                      290.00   \n",
       "81                     5000.00   \n",
       "82                     3700.00   \n",
       "83                     2500.00   \n",
       "84                      940.00   \n",
       "85                      435.00   \n",
       "97                     5699.00   \n",
       "98                    16125.00   \n",
       "99                     5500.00   \n",
       "100                   18543.75   \n",
       "101                    5900.00   \n",
       "102                    3500.00   \n",
       "103                    2200.00   \n",
       "104                   10500.00   \n",
       "105                    7400.00   \n",
       "106                    4400.00   \n",
       "107                    1100.00   \n",
       "109                   18457.50   \n",
       "110                   19928.75   \n",
       "111                   26995.63   \n",
       "118                   10664.00   \n",
       "119                    8500.00   \n",
       "120                   10500.00   \n",
       "121                    7500.00   \n",
       "122                   10664.00   \n",
       "123                   11458.00   \n",
       "124                   11458.00   \n",
       "125                   11500.00   \n",
       "126                   13700.00   \n",
       "127                    2500.00   \n",
       "128                   18625.00   \n",
       "129                   17250.00   \n",
       "\n",
       "                                                 Notes  \n",
       "25                              Single-unit list price  \n",
       "26                              Single-unit list price  \n",
       "38              DGX A100, 8 GPU, 320GB. Release price.  \n",
       "39                              Single-unit list price  \n",
       "40                              Single-unit list price  \n",
       "48                              DGX A100, 8 GPU, 640GB  \n",
       "49                              DGX A100, 8 GPU, 640GB  \n",
       "50                              HGX A100, 8 GPU, 640GB  \n",
       "57                           Single-unit release price  \n",
       "59   DGX, 8 GPU, 640GB. Convert Euro to USD: https:...  \n",
       "60   DGX, 8 GPU, 640GB. “Nvidia sells DGX H100’s at...  \n",
       "61   DGX, 8 GPU, 640GB. Convert Euro to USD: https:...  \n",
       "62   DGX, 8 GPU, 640GB. Convert Euro to USD: https:...  \n",
       "63                                   HGX, 8 GPU, 640GB  \n",
       "74                           Single-unit release price  \n",
       "75                           Single-unit release price  \n",
       "76                              Single-unit list price  \n",
       "77                              Single-unit list price  \n",
       "78                              Single-unit list price  \n",
       "79                              Single-unit list price  \n",
       "80                              Single-unit list price  \n",
       "81                           Single-unit release price  \n",
       "82                              Single-unit list price  \n",
       "83                              Single-unit list price  \n",
       "84                              Single-unit list price  \n",
       "85                              Single-unit list price  \n",
       "97                           Single-unit release price  \n",
       "98                                 DGX-1, 8 GPU, 128GB  \n",
       "99                              Single-unit list price  \n",
       "100                                DGX-1, 8 GPU, 128GB  \n",
       "101                             Single-unit list price  \n",
       "102                             Single-unit list price  \n",
       "103                             Single-unit list price  \n",
       "104                             Single-unit list price  \n",
       "105                             Single-unit list price  \n",
       "106                             Single-unit list price  \n",
       "107                             Single-unit list price  \n",
       "109                                  DGX, 4 GPU, 128GB  \n",
       "110                                DGX-1, 8 GPU, 256GB  \n",
       "111                              DGX-2, 16 GPU, 512 GB  \n",
       "118                             Single-unit list price  \n",
       "119                             Single-unit list price  \n",
       "120                             Single-unit list price  \n",
       "121                             Single-unit list price  \n",
       "122                             Single-unit list price  \n",
       "123                             Single-unit list price  \n",
       "124                             Single-unit list price  \n",
       "125                             Single-unit list price  \n",
       "126                             Single-unit list price  \n",
       "127                             Single-unit list price  \n",
       "128  Price at release (2017 Q3) for a DGX-1 with 8x...  \n",
       "129  Price at release (2017 Q3) for a DGXS with 4x ...  "
      ]
     },
     "execution_count": 27,
     "metadata": {},
     "output_type": "execute_result"
    }
   ],
   "source": [
    "price_colname = 'Price (hardware purchase)'\n",
    "purchase_price_df = price_df.dropna(subset=[price_colname])\n",
    "purchase_price_df"
   ]
  },
  {
   "cell_type": "code",
   "execution_count": 42,
   "metadata": {},
   "outputs": [
    {
     "data": {
      "text/html": [
       "<div>\n",
       "<style scoped>\n",
       "    .dataframe tbody tr th:only-of-type {\n",
       "        vertical-align: middle;\n",
       "    }\n",
       "\n",
       "    .dataframe tbody tr th {\n",
       "        vertical-align: top;\n",
       "    }\n",
       "\n",
       "    .dataframe thead th {\n",
       "        text-align: right;\n",
       "    }\n",
       "</style>\n",
       "<table border=\"1\" class=\"dataframe\">\n",
       "  <thead>\n",
       "    <tr style=\"text-align: right;\">\n",
       "      <th></th>\n",
       "      <th>Price source</th>\n",
       "      <th>Price date</th>\n",
       "      <th>Hardware model</th>\n",
       "      <th>Manufacturer (from Hardware model)</th>\n",
       "      <th>Vendor</th>\n",
       "      <th>Location</th>\n",
       "      <th>Price per chip-hour (on-demand)</th>\n",
       "      <th>Price per chip-hour (1-year CUD)</th>\n",
       "      <th>Price per chip-hour (3-year CUD)</th>\n",
       "      <th>Price (hardware purchase)</th>\n",
       "      <th>Notes</th>\n",
       "    </tr>\n",
       "  </thead>\n",
       "  <tbody>\n",
       "    <tr>\n",
       "      <th>25</th>\n",
       "      <td>https://www.nextplatform.com/2022/05/09/how-mu...</td>\n",
       "      <td>2020-07-01</td>\n",
       "      <td>NVIDIA A100 PCIe</td>\n",
       "      <td>NVIDIA</td>\n",
       "      <td>NaN</td>\n",
       "      <td>NaN</td>\n",
       "      <td>NaN</td>\n",
       "      <td>NaN</td>\n",
       "      <td>NaN</td>\n",
       "      <td>24900.0</td>\n",
       "      <td>server-equivalent list price</td>\n",
       "    </tr>\n",
       "    <tr>\n",
       "      <th>26</th>\n",
       "      <td>https://www.nextplatform.com/2022/05/09/how-mu...</td>\n",
       "      <td>2022-07-01</td>\n",
       "      <td>NVIDIA A100 PCIe</td>\n",
       "      <td>NVIDIA</td>\n",
       "      <td>NaN</td>\n",
       "      <td>NaN</td>\n",
       "      <td>NaN</td>\n",
       "      <td>NaN</td>\n",
       "      <td>NaN</td>\n",
       "      <td>20750.0</td>\n",
       "      <td>server-equivalent list price</td>\n",
       "    </tr>\n",
       "    <tr>\n",
       "      <th>38</th>\n",
       "      <td>https://web.archive.org/web/20200521074015/htt...</td>\n",
       "      <td>2020-05-21</td>\n",
       "      <td>NVIDIA A100 SXM4 40 GB</td>\n",
       "      <td>NVIDIA</td>\n",
       "      <td>NaN</td>\n",
       "      <td>NaN</td>\n",
       "      <td>NaN</td>\n",
       "      <td>NaN</td>\n",
       "      <td>NaN</td>\n",
       "      <td>24875.0</td>\n",
       "      <td>DGX A100, 8 GPU, 320GB. Release price.</td>\n",
       "    </tr>\n",
       "    <tr>\n",
       "      <th>39</th>\n",
       "      <td>https://www.nextplatform.com/2022/05/09/how-mu...</td>\n",
       "      <td>2020-07-01</td>\n",
       "      <td>NVIDIA A100 SXM4 40 GB</td>\n",
       "      <td>NVIDIA</td>\n",
       "      <td>NaN</td>\n",
       "      <td>NaN</td>\n",
       "      <td>NaN</td>\n",
       "      <td>NaN</td>\n",
       "      <td>NaN</td>\n",
       "      <td>24900.0</td>\n",
       "      <td>server-equivalent list price</td>\n",
       "    </tr>\n",
       "    <tr>\n",
       "      <th>40</th>\n",
       "      <td>https://www.nextplatform.com/2022/05/09/how-mu...</td>\n",
       "      <td>2022-07-01</td>\n",
       "      <td>NVIDIA A100 SXM4 40 GB</td>\n",
       "      <td>NVIDIA</td>\n",
       "      <td>NaN</td>\n",
       "      <td>NaN</td>\n",
       "      <td>NaN</td>\n",
       "      <td>NaN</td>\n",
       "      <td>NaN</td>\n",
       "      <td>20750.0</td>\n",
       "      <td>server-equivalent list price</td>\n",
       "    </tr>\n",
       "    <tr>\n",
       "      <th>48</th>\n",
       "      <td>https://web.archive.org/web/20210630170623/htt...</td>\n",
       "      <td>2021-06-30</td>\n",
       "      <td>NVIDIA A100 SXM4 80 GB</td>\n",
       "      <td>NVIDIA</td>\n",
       "      <td>NaN</td>\n",
       "      <td>NaN</td>\n",
       "      <td>NaN</td>\n",
       "      <td>NaN</td>\n",
       "      <td>NaN</td>\n",
       "      <td>37500.0</td>\n",
       "      <td>DGX A100, 8 GPU, 640GB</td>\n",
       "    </tr>\n",
       "    <tr>\n",
       "      <th>49</th>\n",
       "      <td>https://web.archive.org/web/20220120191032/htt...</td>\n",
       "      <td>2022-01-20</td>\n",
       "      <td>NVIDIA A100 SXM4 80 GB</td>\n",
       "      <td>NVIDIA</td>\n",
       "      <td>NaN</td>\n",
       "      <td>NaN</td>\n",
       "      <td>NaN</td>\n",
       "      <td>NaN</td>\n",
       "      <td>NaN</td>\n",
       "      <td>20875.0</td>\n",
       "      <td>DGX A100, 8 GPU, 640GB</td>\n",
       "    </tr>\n",
       "    <tr>\n",
       "      <th>50</th>\n",
       "      <td>https://web.archive.org/web/20230923154035/htt...</td>\n",
       "      <td>2023-09-23</td>\n",
       "      <td>NVIDIA A100 SXM4 80 GB</td>\n",
       "      <td>NVIDIA</td>\n",
       "      <td>NaN</td>\n",
       "      <td>NaN</td>\n",
       "      <td>NaN</td>\n",
       "      <td>NaN</td>\n",
       "      <td>NaN</td>\n",
       "      <td>18548.75</td>\n",
       "      <td>HGX A100, 8 GPU, 640GB</td>\n",
       "    </tr>\n",
       "    <tr>\n",
       "      <th>57</th>\n",
       "      <td>https://www.techpowerup.com/gpu-specs/geforce-...</td>\n",
       "      <td>2015-03-17</td>\n",
       "      <td>NVIDIA GTX Titan X</td>\n",
       "      <td>NVIDIA</td>\n",
       "      <td>NaN</td>\n",
       "      <td>NaN</td>\n",
       "      <td>NaN</td>\n",
       "      <td>NaN</td>\n",
       "      <td>NaN</td>\n",
       "      <td>1638.36</td>\n",
       "      <td>server-equivalent release price</td>\n",
       "    </tr>\n",
       "    <tr>\n",
       "      <th>59</th>\n",
       "      <td>https://web.archive.org/web/20220929115124/htt...</td>\n",
       "      <td>2022-09-29</td>\n",
       "      <td>NVIDIA H100 SXM5</td>\n",
       "      <td>NVIDIA</td>\n",
       "      <td>NaN</td>\n",
       "      <td>NaN</td>\n",
       "      <td>NaN</td>\n",
       "      <td>NaN</td>\n",
       "      <td>NaN</td>\n",
       "      <td>44489.88</td>\n",
       "      <td>DGX, 8 GPU, 640GB. Convert Euro to USD: https:...</td>\n",
       "    </tr>\n",
       "    <tr>\n",
       "      <th>60</th>\n",
       "      <td>https://web.archive.org/web/20230529125834/htt...</td>\n",
       "      <td>2023-05-29</td>\n",
       "      <td>NVIDIA H100 SXM5</td>\n",
       "      <td>NVIDIA</td>\n",
       "      <td>NaN</td>\n",
       "      <td>NaN</td>\n",
       "      <td>NaN</td>\n",
       "      <td>NaN</td>\n",
       "      <td>NaN</td>\n",
       "      <td>33750.0</td>\n",
       "      <td>DGX, 8 GPU, 640GB. “Nvidia sells DGX H100’s at...</td>\n",
       "    </tr>\n",
       "    <tr>\n",
       "      <th>61</th>\n",
       "      <td>https://web.archive.org/web/20231211031623/htt...</td>\n",
       "      <td>2023-12-11</td>\n",
       "      <td>NVIDIA H100 SXM5</td>\n",
       "      <td>NVIDIA</td>\n",
       "      <td>NaN</td>\n",
       "      <td>NaN</td>\n",
       "      <td>NaN</td>\n",
       "      <td>NaN</td>\n",
       "      <td>NaN</td>\n",
       "      <td>41197.5</td>\n",
       "      <td>DGX, 8 GPU, 640GB. Convert Euro to USD: https:...</td>\n",
       "    </tr>\n",
       "    <tr>\n",
       "      <th>62</th>\n",
       "      <td>https://web.archive.org/web/20240320115454/htt...</td>\n",
       "      <td>2024-03-20</td>\n",
       "      <td>NVIDIA H100 SXM5</td>\n",
       "      <td>NVIDIA</td>\n",
       "      <td>NaN</td>\n",
       "      <td>NaN</td>\n",
       "      <td>NaN</td>\n",
       "      <td>NaN</td>\n",
       "      <td>NaN</td>\n",
       "      <td>41217.0</td>\n",
       "      <td>DGX, 8 GPU, 640GB. Convert Euro to USD: https:...</td>\n",
       "    </tr>\n",
       "    <tr>\n",
       "      <th>63</th>\n",
       "      <td>https://web.archive.org/web/20240321212632/htt...</td>\n",
       "      <td>2024-03-21</td>\n",
       "      <td>NVIDIA H100 SXM5</td>\n",
       "      <td>NVIDIA</td>\n",
       "      <td>NaN</td>\n",
       "      <td>NaN</td>\n",
       "      <td>NaN</td>\n",
       "      <td>NaN</td>\n",
       "      <td>NaN</td>\n",
       "      <td>37080.5</td>\n",
       "      <td>HGX, 8 GPU, 640GB</td>\n",
       "    </tr>\n",
       "    <tr>\n",
       "      <th>74</th>\n",
       "      <td>https://www.nextplatform.com/2022/05/09/how-mu...</td>\n",
       "      <td>2012-07-01</td>\n",
       "      <td>NVIDIA Tesla K40s</td>\n",
       "      <td>NVIDIA</td>\n",
       "      <td>NaN</td>\n",
       "      <td>NaN</td>\n",
       "      <td>NaN</td>\n",
       "      <td>NaN</td>\n",
       "      <td>NaN</td>\n",
       "      <td>8856.0</td>\n",
       "      <td>server-equivalent release price</td>\n",
       "    </tr>\n",
       "    <tr>\n",
       "      <th>75</th>\n",
       "      <td>https://www.techpowerup.com/gpu-specs/tesla-k4...</td>\n",
       "      <td>2013-11-22</td>\n",
       "      <td>NVIDIA Tesla K40s</td>\n",
       "      <td>NVIDIA</td>\n",
       "      <td>NaN</td>\n",
       "      <td>NaN</td>\n",
       "      <td>NaN</td>\n",
       "      <td>NaN</td>\n",
       "      <td>NaN</td>\n",
       "      <td>12626.36</td>\n",
       "      <td>server-equivalent release price</td>\n",
       "    </tr>\n",
       "    <tr>\n",
       "      <th>76</th>\n",
       "      <td>https://www.nextplatform.com/2022/05/09/how-mu...</td>\n",
       "      <td>2014-07-01</td>\n",
       "      <td>NVIDIA Tesla K40s</td>\n",
       "      <td>NVIDIA</td>\n",
       "      <td>NaN</td>\n",
       "      <td>NaN</td>\n",
       "      <td>NaN</td>\n",
       "      <td>NaN</td>\n",
       "      <td>NaN</td>\n",
       "      <td>6888.0</td>\n",
       "      <td>server-equivalent list price</td>\n",
       "    </tr>\n",
       "    <tr>\n",
       "      <th>77</th>\n",
       "      <td>https://www.nextplatform.com/2022/05/09/how-mu...</td>\n",
       "      <td>2016-07-01</td>\n",
       "      <td>NVIDIA Tesla K40s</td>\n",
       "      <td>NVIDIA</td>\n",
       "      <td>NaN</td>\n",
       "      <td>NaN</td>\n",
       "      <td>NaN</td>\n",
       "      <td>NaN</td>\n",
       "      <td>NaN</td>\n",
       "      <td>4756.0</td>\n",
       "      <td>server-equivalent list price</td>\n",
       "    </tr>\n",
       "    <tr>\n",
       "      <th>78</th>\n",
       "      <td>https://www.nextplatform.com/2022/05/09/how-mu...</td>\n",
       "      <td>2018-07-01</td>\n",
       "      <td>NVIDIA Tesla K40s</td>\n",
       "      <td>NVIDIA</td>\n",
       "      <td>NaN</td>\n",
       "      <td>NaN</td>\n",
       "      <td>NaN</td>\n",
       "      <td>NaN</td>\n",
       "      <td>NaN</td>\n",
       "      <td>3772.0</td>\n",
       "      <td>server-equivalent list price</td>\n",
       "    </tr>\n",
       "    <tr>\n",
       "      <th>79</th>\n",
       "      <td>https://www.nextplatform.com/2022/05/09/how-mu...</td>\n",
       "      <td>2020-07-01</td>\n",
       "      <td>NVIDIA Tesla K40s</td>\n",
       "      <td>NVIDIA</td>\n",
       "      <td>NaN</td>\n",
       "      <td>NaN</td>\n",
       "      <td>NaN</td>\n",
       "      <td>NaN</td>\n",
       "      <td>NaN</td>\n",
       "      <td>885.6</td>\n",
       "      <td>server-equivalent list price</td>\n",
       "    </tr>\n",
       "    <tr>\n",
       "      <th>80</th>\n",
       "      <td>https://www.nextplatform.com/2022/05/09/how-mu...</td>\n",
       "      <td>2022-07-01</td>\n",
       "      <td>NVIDIA Tesla K40s</td>\n",
       "      <td>NVIDIA</td>\n",
       "      <td>NaN</td>\n",
       "      <td>NaN</td>\n",
       "      <td>NaN</td>\n",
       "      <td>NaN</td>\n",
       "      <td>NaN</td>\n",
       "      <td>475.6</td>\n",
       "      <td>server-equivalent list price</td>\n",
       "    </tr>\n",
       "    <tr>\n",
       "      <th>81</th>\n",
       "      <td>https://www.anandtech.com/show/8729/nvidia-lau...</td>\n",
       "      <td>2014-11-17</td>\n",
       "      <td>NVIDIA Tesla K80</td>\n",
       "      <td>NVIDIA</td>\n",
       "      <td>NaN</td>\n",
       "      <td>NaN</td>\n",
       "      <td>NaN</td>\n",
       "      <td>NaN</td>\n",
       "      <td>NaN</td>\n",
       "      <td>8200.0</td>\n",
       "      <td>server-equivalent release price</td>\n",
       "    </tr>\n",
       "    <tr>\n",
       "      <th>82</th>\n",
       "      <td>https://www.nextplatform.com/2022/05/09/how-mu...</td>\n",
       "      <td>2016-07-01</td>\n",
       "      <td>NVIDIA Tesla K80</td>\n",
       "      <td>NVIDIA</td>\n",
       "      <td>NaN</td>\n",
       "      <td>NaN</td>\n",
       "      <td>NaN</td>\n",
       "      <td>NaN</td>\n",
       "      <td>NaN</td>\n",
       "      <td>6068.0</td>\n",
       "      <td>server-equivalent list price</td>\n",
       "    </tr>\n",
       "    <tr>\n",
       "      <th>83</th>\n",
       "      <td>https://www.nextplatform.com/2022/05/09/how-mu...</td>\n",
       "      <td>2018-07-01</td>\n",
       "      <td>NVIDIA Tesla K80</td>\n",
       "      <td>NVIDIA</td>\n",
       "      <td>NaN</td>\n",
       "      <td>NaN</td>\n",
       "      <td>NaN</td>\n",
       "      <td>NaN</td>\n",
       "      <td>NaN</td>\n",
       "      <td>4100.0</td>\n",
       "      <td>server-equivalent list price</td>\n",
       "    </tr>\n",
       "    <tr>\n",
       "      <th>84</th>\n",
       "      <td>https://www.nextplatform.com/2022/05/09/how-mu...</td>\n",
       "      <td>2020-07-01</td>\n",
       "      <td>NVIDIA Tesla K80</td>\n",
       "      <td>NVIDIA</td>\n",
       "      <td>NaN</td>\n",
       "      <td>NaN</td>\n",
       "      <td>NaN</td>\n",
       "      <td>NaN</td>\n",
       "      <td>NaN</td>\n",
       "      <td>1541.6</td>\n",
       "      <td>server-equivalent list price</td>\n",
       "    </tr>\n",
       "    <tr>\n",
       "      <th>85</th>\n",
       "      <td>https://www.nextplatform.com/2022/05/09/how-mu...</td>\n",
       "      <td>2022-07-01</td>\n",
       "      <td>NVIDIA Tesla K80</td>\n",
       "      <td>NVIDIA</td>\n",
       "      <td>NaN</td>\n",
       "      <td>NaN</td>\n",
       "      <td>NaN</td>\n",
       "      <td>NaN</td>\n",
       "      <td>NaN</td>\n",
       "      <td>713.4</td>\n",
       "      <td>server-equivalent list price</td>\n",
       "    </tr>\n",
       "    <tr>\n",
       "      <th>97</th>\n",
       "      <td>https://www.techpowerup.com/gpu-specs/tesla-p1...</td>\n",
       "      <td>2016-06-20</td>\n",
       "      <td>NVIDIA Tesla P100 PCIe 16 GB</td>\n",
       "      <td>NVIDIA</td>\n",
       "      <td>NaN</td>\n",
       "      <td>NaN</td>\n",
       "      <td>NaN</td>\n",
       "      <td>NaN</td>\n",
       "      <td>NaN</td>\n",
       "      <td>8776.46</td>\n",
       "      <td>server-equivalent release price</td>\n",
       "    </tr>\n",
       "    <tr>\n",
       "      <th>98</th>\n",
       "      <td>https://web.archive.org/web/20160621002700/htt...</td>\n",
       "      <td>2016-06-21</td>\n",
       "      <td>NVIDIA Tesla P100 PCIe 16 GB</td>\n",
       "      <td>NVIDIA</td>\n",
       "      <td>NaN</td>\n",
       "      <td>NaN</td>\n",
       "      <td>NaN</td>\n",
       "      <td>NaN</td>\n",
       "      <td>NaN</td>\n",
       "      <td>16125.0</td>\n",
       "      <td>DGX-1, 8 GPU, 128GB</td>\n",
       "    </tr>\n",
       "    <tr>\n",
       "      <th>99</th>\n",
       "      <td>https://www.nextplatform.com/2022/05/09/how-mu...</td>\n",
       "      <td>2016-07-01</td>\n",
       "      <td>NVIDIA Tesla P100 PCIe 16 GB</td>\n",
       "      <td>NVIDIA</td>\n",
       "      <td>NaN</td>\n",
       "      <td>NaN</td>\n",
       "      <td>NaN</td>\n",
       "      <td>NaN</td>\n",
       "      <td>NaN</td>\n",
       "      <td>8470.0</td>\n",
       "      <td>server-equivalent list price</td>\n",
       "    </tr>\n",
       "    <tr>\n",
       "      <th>100</th>\n",
       "      <td>https://web.archive.org/web/20170312174101/htt...</td>\n",
       "      <td>2017-03-12</td>\n",
       "      <td>NVIDIA Tesla P100 PCIe 16 GB</td>\n",
       "      <td>NVIDIA</td>\n",
       "      <td>NaN</td>\n",
       "      <td>NaN</td>\n",
       "      <td>NaN</td>\n",
       "      <td>NaN</td>\n",
       "      <td>NaN</td>\n",
       "      <td>18543.75</td>\n",
       "      <td>DGX-1, 8 GPU, 128GB</td>\n",
       "    </tr>\n",
       "    <tr>\n",
       "      <th>101</th>\n",
       "      <td>https://www.nextplatform.com/2022/05/09/how-mu...</td>\n",
       "      <td>2018-07-01</td>\n",
       "      <td>NVIDIA Tesla P100 PCIe 16 GB</td>\n",
       "      <td>NVIDIA</td>\n",
       "      <td>NaN</td>\n",
       "      <td>NaN</td>\n",
       "      <td>NaN</td>\n",
       "      <td>NaN</td>\n",
       "      <td>NaN</td>\n",
       "      <td>9086.0</td>\n",
       "      <td>server-equivalent list price</td>\n",
       "    </tr>\n",
       "    <tr>\n",
       "      <th>102</th>\n",
       "      <td>https://www.nextplatform.com/2022/05/09/how-mu...</td>\n",
       "      <td>2020-07-01</td>\n",
       "      <td>NVIDIA Tesla P100 PCIe 16 GB</td>\n",
       "      <td>NVIDIA</td>\n",
       "      <td>NaN</td>\n",
       "      <td>NaN</td>\n",
       "      <td>NaN</td>\n",
       "      <td>NaN</td>\n",
       "      <td>NaN</td>\n",
       "      <td>5390.0</td>\n",
       "      <td>server-equivalent list price</td>\n",
       "    </tr>\n",
       "    <tr>\n",
       "      <th>103</th>\n",
       "      <td>https://www.nextplatform.com/2022/05/09/how-mu...</td>\n",
       "      <td>2022-07-01</td>\n",
       "      <td>NVIDIA Tesla P100 PCIe 16 GB</td>\n",
       "      <td>NVIDIA</td>\n",
       "      <td>NaN</td>\n",
       "      <td>NaN</td>\n",
       "      <td>NaN</td>\n",
       "      <td>NaN</td>\n",
       "      <td>NaN</td>\n",
       "      <td>3388.0</td>\n",
       "      <td>server-equivalent list price</td>\n",
       "    </tr>\n",
       "    <tr>\n",
       "      <th>104</th>\n",
       "      <td>https://www.nextplatform.com/2022/05/09/how-mu...</td>\n",
       "      <td>2016-07-01</td>\n",
       "      <td>NVIDIA Tesla P100 SXM2</td>\n",
       "      <td>NVIDIA</td>\n",
       "      <td>NaN</td>\n",
       "      <td>NaN</td>\n",
       "      <td>NaN</td>\n",
       "      <td>NaN</td>\n",
       "      <td>NaN</td>\n",
       "      <td>16170.0</td>\n",
       "      <td>server-equivalent list price</td>\n",
       "    </tr>\n",
       "    <tr>\n",
       "      <th>105</th>\n",
       "      <td>https://www.nextplatform.com/2022/05/09/how-mu...</td>\n",
       "      <td>2018-07-01</td>\n",
       "      <td>NVIDIA Tesla P100 SXM2</td>\n",
       "      <td>NVIDIA</td>\n",
       "      <td>NaN</td>\n",
       "      <td>NaN</td>\n",
       "      <td>NaN</td>\n",
       "      <td>NaN</td>\n",
       "      <td>NaN</td>\n",
       "      <td>11396.0</td>\n",
       "      <td>server-equivalent list price</td>\n",
       "    </tr>\n",
       "    <tr>\n",
       "      <th>106</th>\n",
       "      <td>https://www.nextplatform.com/2022/05/09/how-mu...</td>\n",
       "      <td>2020-07-01</td>\n",
       "      <td>NVIDIA Tesla P100 SXM2</td>\n",
       "      <td>NVIDIA</td>\n",
       "      <td>NaN</td>\n",
       "      <td>NaN</td>\n",
       "      <td>NaN</td>\n",
       "      <td>NaN</td>\n",
       "      <td>NaN</td>\n",
       "      <td>6776.0</td>\n",
       "      <td>server-equivalent list price</td>\n",
       "    </tr>\n",
       "    <tr>\n",
       "      <th>107</th>\n",
       "      <td>https://www.nextplatform.com/2022/05/09/how-mu...</td>\n",
       "      <td>2022-07-01</td>\n",
       "      <td>NVIDIA Tesla P100 SXM2</td>\n",
       "      <td>NVIDIA</td>\n",
       "      <td>NaN</td>\n",
       "      <td>NaN</td>\n",
       "      <td>NaN</td>\n",
       "      <td>NaN</td>\n",
       "      <td>NaN</td>\n",
       "      <td>1694.0</td>\n",
       "      <td>server-equivalent list price</td>\n",
       "    </tr>\n",
       "    <tr>\n",
       "      <th>109</th>\n",
       "      <td>https://web.archive.org/web/20190111090822/htt...</td>\n",
       "      <td>2019-01-11</td>\n",
       "      <td>NVIDIA Tesla V100 DGXS 32 GB</td>\n",
       "      <td>NVIDIA</td>\n",
       "      <td>NaN</td>\n",
       "      <td>NaN</td>\n",
       "      <td>NaN</td>\n",
       "      <td>NaN</td>\n",
       "      <td>NaN</td>\n",
       "      <td>18457.5</td>\n",
       "      <td>DGX, 4 GPU, 128GB</td>\n",
       "    </tr>\n",
       "    <tr>\n",
       "      <th>110</th>\n",
       "      <td>https://web.archive.org/web/20190111061033/htt...</td>\n",
       "      <td>2019-01-11</td>\n",
       "      <td>NVIDIA Tesla V100 DGXS 32 GB</td>\n",
       "      <td>NVIDIA</td>\n",
       "      <td>NaN</td>\n",
       "      <td>NaN</td>\n",
       "      <td>NaN</td>\n",
       "      <td>NaN</td>\n",
       "      <td>NaN</td>\n",
       "      <td>19928.75</td>\n",
       "      <td>DGX-1, 8 GPU, 256GB</td>\n",
       "    </tr>\n",
       "    <tr>\n",
       "      <th>111</th>\n",
       "      <td>https://web.archive.org/web/20190111101112/htt...</td>\n",
       "      <td>2019-01-11</td>\n",
       "      <td>NVIDIA Tesla V100 DGXS 32 GB</td>\n",
       "      <td>NVIDIA</td>\n",
       "      <td>NaN</td>\n",
       "      <td>NaN</td>\n",
       "      <td>NaN</td>\n",
       "      <td>NaN</td>\n",
       "      <td>NaN</td>\n",
       "      <td>26995.63</td>\n",
       "      <td>DGX-2, 16 GPU, 512 GB</td>\n",
       "    </tr>\n",
       "    <tr>\n",
       "      <th>118</th>\n",
       "      <td>https://web.archive.org/web/20190118082125/htt...</td>\n",
       "      <td>2018-05-08</td>\n",
       "      <td>NVIDIA Tesla V100 PCIe 16 GB</td>\n",
       "      <td>NVIDIA</td>\n",
       "      <td>NaN</td>\n",
       "      <td>NaN</td>\n",
       "      <td>NaN</td>\n",
       "      <td>NaN</td>\n",
       "      <td>NaN</td>\n",
       "      <td>18022.16</td>\n",
       "      <td>server-equivalent list price</td>\n",
       "    </tr>\n",
       "    <tr>\n",
       "      <th>119</th>\n",
       "      <td>https://www.nextplatform.com/2022/05/09/how-mu...</td>\n",
       "      <td>2018-07-01</td>\n",
       "      <td>NVIDIA Tesla V100 PCIe 32 GB</td>\n",
       "      <td>NVIDIA</td>\n",
       "      <td>NaN</td>\n",
       "      <td>NaN</td>\n",
       "      <td>NaN</td>\n",
       "      <td>NaN</td>\n",
       "      <td>NaN</td>\n",
       "      <td>14365.0</td>\n",
       "      <td>server-equivalent list price</td>\n",
       "    </tr>\n",
       "    <tr>\n",
       "      <th>120</th>\n",
       "      <td>https://www.nextplatform.com/2022/05/09/how-mu...</td>\n",
       "      <td>2020-07-01</td>\n",
       "      <td>NVIDIA Tesla V100 PCIe 32 GB</td>\n",
       "      <td>NVIDIA</td>\n",
       "      <td>NaN</td>\n",
       "      <td>NaN</td>\n",
       "      <td>NaN</td>\n",
       "      <td>NaN</td>\n",
       "      <td>NaN</td>\n",
       "      <td>17745.0</td>\n",
       "      <td>server-equivalent list price</td>\n",
       "    </tr>\n",
       "    <tr>\n",
       "      <th>121</th>\n",
       "      <td>https://www.nextplatform.com/2022/05/09/how-mu...</td>\n",
       "      <td>2022-07-01</td>\n",
       "      <td>NVIDIA Tesla V100 PCIe 32 GB</td>\n",
       "      <td>NVIDIA</td>\n",
       "      <td>NaN</td>\n",
       "      <td>NaN</td>\n",
       "      <td>NaN</td>\n",
       "      <td>NaN</td>\n",
       "      <td>NaN</td>\n",
       "      <td>12675.0</td>\n",
       "      <td>server-equivalent list price</td>\n",
       "    </tr>\n",
       "    <tr>\n",
       "      <th>122</th>\n",
       "      <td>https://web.archive.org/web/20190118082125/htt...</td>\n",
       "      <td>2018-05-08</td>\n",
       "      <td>NVIDIA Tesla V100 SXM2 16 GB</td>\n",
       "      <td>NVIDIA</td>\n",
       "      <td>NaN</td>\n",
       "      <td>NaN</td>\n",
       "      <td>NaN</td>\n",
       "      <td>NaN</td>\n",
       "      <td>NaN</td>\n",
       "      <td>18022.16</td>\n",
       "      <td>server-equivalent list price</td>\n",
       "    </tr>\n",
       "    <tr>\n",
       "      <th>123</th>\n",
       "      <td>https://web.archive.org/web/20190118082125/htt...</td>\n",
       "      <td>2018-05-08</td>\n",
       "      <td>NVIDIA Tesla V100 SXM2 32 GB</td>\n",
       "      <td>NVIDIA</td>\n",
       "      <td>NaN</td>\n",
       "      <td>NaN</td>\n",
       "      <td>NaN</td>\n",
       "      <td>NaN</td>\n",
       "      <td>NaN</td>\n",
       "      <td>19364.02</td>\n",
       "      <td>server-equivalent list price</td>\n",
       "    </tr>\n",
       "    <tr>\n",
       "      <th>124</th>\n",
       "      <td>https://web.archive.org/web/20190118082125/htt...</td>\n",
       "      <td>2018-05-08</td>\n",
       "      <td>NVIDIA Tesla V100 SXM2 32 GB</td>\n",
       "      <td>NVIDIA</td>\n",
       "      <td>NaN</td>\n",
       "      <td>NaN</td>\n",
       "      <td>NaN</td>\n",
       "      <td>NaN</td>\n",
       "      <td>NaN</td>\n",
       "      <td>19364.02</td>\n",
       "      <td>server-equivalent list price</td>\n",
       "    </tr>\n",
       "    <tr>\n",
       "      <th>125</th>\n",
       "      <td>https://www.nextplatform.com/2022/05/09/how-mu...</td>\n",
       "      <td>2018-07-01</td>\n",
       "      <td>NVIDIA Tesla V100 SXM3 32 GB</td>\n",
       "      <td>NVIDIA</td>\n",
       "      <td>NaN</td>\n",
       "      <td>NaN</td>\n",
       "      <td>NaN</td>\n",
       "      <td>NaN</td>\n",
       "      <td>NaN</td>\n",
       "      <td>19435.0</td>\n",
       "      <td>server-equivalent list price</td>\n",
       "    </tr>\n",
       "    <tr>\n",
       "      <th>126</th>\n",
       "      <td>https://www.nextplatform.com/2022/05/09/how-mu...</td>\n",
       "      <td>2020-07-01</td>\n",
       "      <td>NVIDIA Tesla V100 SXM3 32 GB</td>\n",
       "      <td>NVIDIA</td>\n",
       "      <td>NaN</td>\n",
       "      <td>NaN</td>\n",
       "      <td>NaN</td>\n",
       "      <td>NaN</td>\n",
       "      <td>NaN</td>\n",
       "      <td>23153.0</td>\n",
       "      <td>server-equivalent list price</td>\n",
       "    </tr>\n",
       "    <tr>\n",
       "      <th>127</th>\n",
       "      <td>https://www.nextplatform.com/2022/05/09/how-mu...</td>\n",
       "      <td>2022-07-01</td>\n",
       "      <td>NVIDIA Tesla V100 SXM3 32 GB</td>\n",
       "      <td>NVIDIA</td>\n",
       "      <td>NaN</td>\n",
       "      <td>NaN</td>\n",
       "      <td>NaN</td>\n",
       "      <td>NaN</td>\n",
       "      <td>NaN</td>\n",
       "      <td>4225.0</td>\n",
       "      <td>server-equivalent list price</td>\n",
       "    </tr>\n",
       "    <tr>\n",
       "      <th>128</th>\n",
       "      <td>https://web.archive.org/web/20170513081017/htt...</td>\n",
       "      <td>2017-07-01</td>\n",
       "      <td>NVIDIA V100</td>\n",
       "      <td>NVIDIA</td>\n",
       "      <td>NaN</td>\n",
       "      <td>NaN</td>\n",
       "      <td>NaN</td>\n",
       "      <td>NaN</td>\n",
       "      <td>NaN</td>\n",
       "      <td>18625.0</td>\n",
       "      <td>Price at release (2017 Q3) for a DGX-1 with 8x...</td>\n",
       "    </tr>\n",
       "    <tr>\n",
       "      <th>129</th>\n",
       "      <td>https://web.archive.org/web/20170513081017/htt...</td>\n",
       "      <td>2017-07-01</td>\n",
       "      <td>NVIDIA V100</td>\n",
       "      <td>NVIDIA</td>\n",
       "      <td>NaN</td>\n",
       "      <td>NaN</td>\n",
       "      <td>NaN</td>\n",
       "      <td>NaN</td>\n",
       "      <td>NaN</td>\n",
       "      <td>17250.0</td>\n",
       "      <td>Price at release (2017 Q3) for a DGXS with 4x ...</td>\n",
       "    </tr>\n",
       "  </tbody>\n",
       "</table>\n",
       "</div>"
      ],
      "text/plain": [
       "                                          Price source Price date  \\\n",
       "25   https://www.nextplatform.com/2022/05/09/how-mu... 2020-07-01   \n",
       "26   https://www.nextplatform.com/2022/05/09/how-mu... 2022-07-01   \n",
       "38   https://web.archive.org/web/20200521074015/htt... 2020-05-21   \n",
       "39   https://www.nextplatform.com/2022/05/09/how-mu... 2020-07-01   \n",
       "40   https://www.nextplatform.com/2022/05/09/how-mu... 2022-07-01   \n",
       "48   https://web.archive.org/web/20210630170623/htt... 2021-06-30   \n",
       "49   https://web.archive.org/web/20220120191032/htt... 2022-01-20   \n",
       "50   https://web.archive.org/web/20230923154035/htt... 2023-09-23   \n",
       "57   https://www.techpowerup.com/gpu-specs/geforce-... 2015-03-17   \n",
       "59   https://web.archive.org/web/20220929115124/htt... 2022-09-29   \n",
       "60   https://web.archive.org/web/20230529125834/htt... 2023-05-29   \n",
       "61   https://web.archive.org/web/20231211031623/htt... 2023-12-11   \n",
       "62   https://web.archive.org/web/20240320115454/htt... 2024-03-20   \n",
       "63   https://web.archive.org/web/20240321212632/htt... 2024-03-21   \n",
       "74   https://www.nextplatform.com/2022/05/09/how-mu... 2012-07-01   \n",
       "75   https://www.techpowerup.com/gpu-specs/tesla-k4... 2013-11-22   \n",
       "76   https://www.nextplatform.com/2022/05/09/how-mu... 2014-07-01   \n",
       "77   https://www.nextplatform.com/2022/05/09/how-mu... 2016-07-01   \n",
       "78   https://www.nextplatform.com/2022/05/09/how-mu... 2018-07-01   \n",
       "79   https://www.nextplatform.com/2022/05/09/how-mu... 2020-07-01   \n",
       "80   https://www.nextplatform.com/2022/05/09/how-mu... 2022-07-01   \n",
       "81   https://www.anandtech.com/show/8729/nvidia-lau... 2014-11-17   \n",
       "82   https://www.nextplatform.com/2022/05/09/how-mu... 2016-07-01   \n",
       "83   https://www.nextplatform.com/2022/05/09/how-mu... 2018-07-01   \n",
       "84   https://www.nextplatform.com/2022/05/09/how-mu... 2020-07-01   \n",
       "85   https://www.nextplatform.com/2022/05/09/how-mu... 2022-07-01   \n",
       "97   https://www.techpowerup.com/gpu-specs/tesla-p1... 2016-06-20   \n",
       "98   https://web.archive.org/web/20160621002700/htt... 2016-06-21   \n",
       "99   https://www.nextplatform.com/2022/05/09/how-mu... 2016-07-01   \n",
       "100  https://web.archive.org/web/20170312174101/htt... 2017-03-12   \n",
       "101  https://www.nextplatform.com/2022/05/09/how-mu... 2018-07-01   \n",
       "102  https://www.nextplatform.com/2022/05/09/how-mu... 2020-07-01   \n",
       "103  https://www.nextplatform.com/2022/05/09/how-mu... 2022-07-01   \n",
       "104  https://www.nextplatform.com/2022/05/09/how-mu... 2016-07-01   \n",
       "105  https://www.nextplatform.com/2022/05/09/how-mu... 2018-07-01   \n",
       "106  https://www.nextplatform.com/2022/05/09/how-mu... 2020-07-01   \n",
       "107  https://www.nextplatform.com/2022/05/09/how-mu... 2022-07-01   \n",
       "109  https://web.archive.org/web/20190111090822/htt... 2019-01-11   \n",
       "110  https://web.archive.org/web/20190111061033/htt... 2019-01-11   \n",
       "111  https://web.archive.org/web/20190111101112/htt... 2019-01-11   \n",
       "118  https://web.archive.org/web/20190118082125/htt... 2018-05-08   \n",
       "119  https://www.nextplatform.com/2022/05/09/how-mu... 2018-07-01   \n",
       "120  https://www.nextplatform.com/2022/05/09/how-mu... 2020-07-01   \n",
       "121  https://www.nextplatform.com/2022/05/09/how-mu... 2022-07-01   \n",
       "122  https://web.archive.org/web/20190118082125/htt... 2018-05-08   \n",
       "123  https://web.archive.org/web/20190118082125/htt... 2018-05-08   \n",
       "124  https://web.archive.org/web/20190118082125/htt... 2018-05-08   \n",
       "125  https://www.nextplatform.com/2022/05/09/how-mu... 2018-07-01   \n",
       "126  https://www.nextplatform.com/2022/05/09/how-mu... 2020-07-01   \n",
       "127  https://www.nextplatform.com/2022/05/09/how-mu... 2022-07-01   \n",
       "128  https://web.archive.org/web/20170513081017/htt... 2017-07-01   \n",
       "129  https://web.archive.org/web/20170513081017/htt... 2017-07-01   \n",
       "\n",
       "                   Hardware model Manufacturer (from Hardware model) Vendor  \\\n",
       "25               NVIDIA A100 PCIe                             NVIDIA    NaN   \n",
       "26               NVIDIA A100 PCIe                             NVIDIA    NaN   \n",
       "38         NVIDIA A100 SXM4 40 GB                             NVIDIA    NaN   \n",
       "39         NVIDIA A100 SXM4 40 GB                             NVIDIA    NaN   \n",
       "40         NVIDIA A100 SXM4 40 GB                             NVIDIA    NaN   \n",
       "48         NVIDIA A100 SXM4 80 GB                             NVIDIA    NaN   \n",
       "49         NVIDIA A100 SXM4 80 GB                             NVIDIA    NaN   \n",
       "50         NVIDIA A100 SXM4 80 GB                             NVIDIA    NaN   \n",
       "57             NVIDIA GTX Titan X                             NVIDIA    NaN   \n",
       "59               NVIDIA H100 SXM5                             NVIDIA    NaN   \n",
       "60               NVIDIA H100 SXM5                             NVIDIA    NaN   \n",
       "61               NVIDIA H100 SXM5                             NVIDIA    NaN   \n",
       "62               NVIDIA H100 SXM5                             NVIDIA    NaN   \n",
       "63               NVIDIA H100 SXM5                             NVIDIA    NaN   \n",
       "74              NVIDIA Tesla K40s                             NVIDIA    NaN   \n",
       "75              NVIDIA Tesla K40s                             NVIDIA    NaN   \n",
       "76              NVIDIA Tesla K40s                             NVIDIA    NaN   \n",
       "77              NVIDIA Tesla K40s                             NVIDIA    NaN   \n",
       "78              NVIDIA Tesla K40s                             NVIDIA    NaN   \n",
       "79              NVIDIA Tesla K40s                             NVIDIA    NaN   \n",
       "80              NVIDIA Tesla K40s                             NVIDIA    NaN   \n",
       "81               NVIDIA Tesla K80                             NVIDIA    NaN   \n",
       "82               NVIDIA Tesla K80                             NVIDIA    NaN   \n",
       "83               NVIDIA Tesla K80                             NVIDIA    NaN   \n",
       "84               NVIDIA Tesla K80                             NVIDIA    NaN   \n",
       "85               NVIDIA Tesla K80                             NVIDIA    NaN   \n",
       "97   NVIDIA Tesla P100 PCIe 16 GB                             NVIDIA    NaN   \n",
       "98   NVIDIA Tesla P100 PCIe 16 GB                             NVIDIA    NaN   \n",
       "99   NVIDIA Tesla P100 PCIe 16 GB                             NVIDIA    NaN   \n",
       "100  NVIDIA Tesla P100 PCIe 16 GB                             NVIDIA    NaN   \n",
       "101  NVIDIA Tesla P100 PCIe 16 GB                             NVIDIA    NaN   \n",
       "102  NVIDIA Tesla P100 PCIe 16 GB                             NVIDIA    NaN   \n",
       "103  NVIDIA Tesla P100 PCIe 16 GB                             NVIDIA    NaN   \n",
       "104        NVIDIA Tesla P100 SXM2                             NVIDIA    NaN   \n",
       "105        NVIDIA Tesla P100 SXM2                             NVIDIA    NaN   \n",
       "106        NVIDIA Tesla P100 SXM2                             NVIDIA    NaN   \n",
       "107        NVIDIA Tesla P100 SXM2                             NVIDIA    NaN   \n",
       "109  NVIDIA Tesla V100 DGXS 32 GB                             NVIDIA    NaN   \n",
       "110  NVIDIA Tesla V100 DGXS 32 GB                             NVIDIA    NaN   \n",
       "111  NVIDIA Tesla V100 DGXS 32 GB                             NVIDIA    NaN   \n",
       "118  NVIDIA Tesla V100 PCIe 16 GB                             NVIDIA    NaN   \n",
       "119  NVIDIA Tesla V100 PCIe 32 GB                             NVIDIA    NaN   \n",
       "120  NVIDIA Tesla V100 PCIe 32 GB                             NVIDIA    NaN   \n",
       "121  NVIDIA Tesla V100 PCIe 32 GB                             NVIDIA    NaN   \n",
       "122  NVIDIA Tesla V100 SXM2 16 GB                             NVIDIA    NaN   \n",
       "123  NVIDIA Tesla V100 SXM2 32 GB                             NVIDIA    NaN   \n",
       "124  NVIDIA Tesla V100 SXM2 32 GB                             NVIDIA    NaN   \n",
       "125  NVIDIA Tesla V100 SXM3 32 GB                             NVIDIA    NaN   \n",
       "126  NVIDIA Tesla V100 SXM3 32 GB                             NVIDIA    NaN   \n",
       "127  NVIDIA Tesla V100 SXM3 32 GB                             NVIDIA    NaN   \n",
       "128                   NVIDIA V100                             NVIDIA    NaN   \n",
       "129                   NVIDIA V100                             NVIDIA    NaN   \n",
       "\n",
       "    Location Price per chip-hour (on-demand) Price per chip-hour (1-year CUD)  \\\n",
       "25       NaN                             NaN                              NaN   \n",
       "26       NaN                             NaN                              NaN   \n",
       "38       NaN                             NaN                              NaN   \n",
       "39       NaN                             NaN                              NaN   \n",
       "40       NaN                             NaN                              NaN   \n",
       "48       NaN                             NaN                              NaN   \n",
       "49       NaN                             NaN                              NaN   \n",
       "50       NaN                             NaN                              NaN   \n",
       "57       NaN                             NaN                              NaN   \n",
       "59       NaN                             NaN                              NaN   \n",
       "60       NaN                             NaN                              NaN   \n",
       "61       NaN                             NaN                              NaN   \n",
       "62       NaN                             NaN                              NaN   \n",
       "63       NaN                             NaN                              NaN   \n",
       "74       NaN                             NaN                              NaN   \n",
       "75       NaN                             NaN                              NaN   \n",
       "76       NaN                             NaN                              NaN   \n",
       "77       NaN                             NaN                              NaN   \n",
       "78       NaN                             NaN                              NaN   \n",
       "79       NaN                             NaN                              NaN   \n",
       "80       NaN                             NaN                              NaN   \n",
       "81       NaN                             NaN                              NaN   \n",
       "82       NaN                             NaN                              NaN   \n",
       "83       NaN                             NaN                              NaN   \n",
       "84       NaN                             NaN                              NaN   \n",
       "85       NaN                             NaN                              NaN   \n",
       "97       NaN                             NaN                              NaN   \n",
       "98       NaN                             NaN                              NaN   \n",
       "99       NaN                             NaN                              NaN   \n",
       "100      NaN                             NaN                              NaN   \n",
       "101      NaN                             NaN                              NaN   \n",
       "102      NaN                             NaN                              NaN   \n",
       "103      NaN                             NaN                              NaN   \n",
       "104      NaN                             NaN                              NaN   \n",
       "105      NaN                             NaN                              NaN   \n",
       "106      NaN                             NaN                              NaN   \n",
       "107      NaN                             NaN                              NaN   \n",
       "109      NaN                             NaN                              NaN   \n",
       "110      NaN                             NaN                              NaN   \n",
       "111      NaN                             NaN                              NaN   \n",
       "118      NaN                             NaN                              NaN   \n",
       "119      NaN                             NaN                              NaN   \n",
       "120      NaN                             NaN                              NaN   \n",
       "121      NaN                             NaN                              NaN   \n",
       "122      NaN                             NaN                              NaN   \n",
       "123      NaN                             NaN                              NaN   \n",
       "124      NaN                             NaN                              NaN   \n",
       "125      NaN                             NaN                              NaN   \n",
       "126      NaN                             NaN                              NaN   \n",
       "127      NaN                             NaN                              NaN   \n",
       "128      NaN                             NaN                              NaN   \n",
       "129      NaN                             NaN                              NaN   \n",
       "\n",
       "    Price per chip-hour (3-year CUD) Price (hardware purchase)  \\\n",
       "25                               NaN                   24900.0   \n",
       "26                               NaN                   20750.0   \n",
       "38                               NaN                   24875.0   \n",
       "39                               NaN                   24900.0   \n",
       "40                               NaN                   20750.0   \n",
       "48                               NaN                   37500.0   \n",
       "49                               NaN                   20875.0   \n",
       "50                               NaN                  18548.75   \n",
       "57                               NaN                   1638.36   \n",
       "59                               NaN                  44489.88   \n",
       "60                               NaN                   33750.0   \n",
       "61                               NaN                   41197.5   \n",
       "62                               NaN                   41217.0   \n",
       "63                               NaN                   37080.5   \n",
       "74                               NaN                    8856.0   \n",
       "75                               NaN                  12626.36   \n",
       "76                               NaN                    6888.0   \n",
       "77                               NaN                    4756.0   \n",
       "78                               NaN                    3772.0   \n",
       "79                               NaN                     885.6   \n",
       "80                               NaN                     475.6   \n",
       "81                               NaN                    8200.0   \n",
       "82                               NaN                    6068.0   \n",
       "83                               NaN                    4100.0   \n",
       "84                               NaN                    1541.6   \n",
       "85                               NaN                     713.4   \n",
       "97                               NaN                   8776.46   \n",
       "98                               NaN                   16125.0   \n",
       "99                               NaN                    8470.0   \n",
       "100                              NaN                  18543.75   \n",
       "101                              NaN                    9086.0   \n",
       "102                              NaN                    5390.0   \n",
       "103                              NaN                    3388.0   \n",
       "104                              NaN                   16170.0   \n",
       "105                              NaN                   11396.0   \n",
       "106                              NaN                    6776.0   \n",
       "107                              NaN                    1694.0   \n",
       "109                              NaN                   18457.5   \n",
       "110                              NaN                  19928.75   \n",
       "111                              NaN                  26995.63   \n",
       "118                              NaN                  18022.16   \n",
       "119                              NaN                   14365.0   \n",
       "120                              NaN                   17745.0   \n",
       "121                              NaN                   12675.0   \n",
       "122                              NaN                  18022.16   \n",
       "123                              NaN                  19364.02   \n",
       "124                              NaN                  19364.02   \n",
       "125                              NaN                   19435.0   \n",
       "126                              NaN                   23153.0   \n",
       "127                              NaN                    4225.0   \n",
       "128                              NaN                   18625.0   \n",
       "129                              NaN                   17250.0   \n",
       "\n",
       "                                                 Notes  \n",
       "25                        server-equivalent list price  \n",
       "26                        server-equivalent list price  \n",
       "38              DGX A100, 8 GPU, 320GB. Release price.  \n",
       "39                        server-equivalent list price  \n",
       "40                        server-equivalent list price  \n",
       "48                              DGX A100, 8 GPU, 640GB  \n",
       "49                              DGX A100, 8 GPU, 640GB  \n",
       "50                              HGX A100, 8 GPU, 640GB  \n",
       "57                     server-equivalent release price  \n",
       "59   DGX, 8 GPU, 640GB. Convert Euro to USD: https:...  \n",
       "60   DGX, 8 GPU, 640GB. “Nvidia sells DGX H100’s at...  \n",
       "61   DGX, 8 GPU, 640GB. Convert Euro to USD: https:...  \n",
       "62   DGX, 8 GPU, 640GB. Convert Euro to USD: https:...  \n",
       "63                                   HGX, 8 GPU, 640GB  \n",
       "74                     server-equivalent release price  \n",
       "75                     server-equivalent release price  \n",
       "76                        server-equivalent list price  \n",
       "77                        server-equivalent list price  \n",
       "78                        server-equivalent list price  \n",
       "79                        server-equivalent list price  \n",
       "80                        server-equivalent list price  \n",
       "81                     server-equivalent release price  \n",
       "82                        server-equivalent list price  \n",
       "83                        server-equivalent list price  \n",
       "84                        server-equivalent list price  \n",
       "85                        server-equivalent list price  \n",
       "97                     server-equivalent release price  \n",
       "98                                 DGX-1, 8 GPU, 128GB  \n",
       "99                        server-equivalent list price  \n",
       "100                                DGX-1, 8 GPU, 128GB  \n",
       "101                       server-equivalent list price  \n",
       "102                       server-equivalent list price  \n",
       "103                       server-equivalent list price  \n",
       "104                       server-equivalent list price  \n",
       "105                       server-equivalent list price  \n",
       "106                       server-equivalent list price  \n",
       "107                       server-equivalent list price  \n",
       "109                                  DGX, 4 GPU, 128GB  \n",
       "110                                DGX-1, 8 GPU, 256GB  \n",
       "111                              DGX-2, 16 GPU, 512 GB  \n",
       "118                       server-equivalent list price  \n",
       "119                       server-equivalent list price  \n",
       "120                       server-equivalent list price  \n",
       "121                       server-equivalent list price  \n",
       "122                       server-equivalent list price  \n",
       "123                       server-equivalent list price  \n",
       "124                       server-equivalent list price  \n",
       "125                       server-equivalent list price  \n",
       "126                       server-equivalent list price  \n",
       "127                       server-equivalent list price  \n",
       "128  Price at release (2017 Q3) for a DGX-1 with 8x...  \n",
       "129  Price at release (2017 Q3) for a DGXS with 4x ...  "
      ]
     },
     "execution_count": 42,
     "metadata": {},
     "output_type": "execute_result"
    }
   ],
   "source": [
    "# Multiply single unit prices by overhead factor\n",
    "server_adjusted_purchase_price_df = pd.DataFrame(columns=purchase_price_df.columns)\n",
    "for i, row in purchase_price_df.iterrows():\n",
    "    if 'single-unit' in row['Notes'].lower():\n",
    "        row[price_colname] *= get_server_cost_overhead(row['Hardware model'])\n",
    "        row['Notes'] = row['Notes'].lower().replace('single-unit', 'server-equivalent')\n",
    "    server_adjusted_purchase_price_df.loc[i] = row\n",
    "server_adjusted_purchase_price_df"
   ]
  },
  {
   "cell_type": "code",
   "execution_count": 29,
   "metadata": {},
   "outputs": [
    {
     "data": {
      "application/vnd.plotly.v1+json": {
       "config": {
        "plotlyServerURL": "https://plot.ly"
       },
       "data": [
        {
         "mode": "markers",
         "name": "A100",
         "text": [
          "NVIDIA A100 PCIe | server-equivalent list price",
          "NVIDIA A100 PCIe | server-equivalent list price",
          "NVIDIA A100 SXM4 40 GB | DGX A100, 8 GPU, 320GB. Release price.",
          "NVIDIA A100 SXM4 40 GB | server-equivalent list price",
          "NVIDIA A100 SXM4 40 GB | server-equivalent list price",
          "NVIDIA A100 SXM4 80 GB | DGX A100, 8 GPU, 640GB",
          "NVIDIA A100 SXM4 80 GB | DGX A100, 8 GPU, 640GB",
          "NVIDIA A100 SXM4 80 GB | HGX A100, 8 GPU, 640GB",
          null,
          null,
          null,
          null,
          null,
          null,
          null,
          null,
          null,
          null,
          null,
          null,
          null,
          null,
          null,
          null,
          null,
          null,
          null,
          null,
          null,
          null,
          null,
          null,
          null,
          null,
          null,
          null,
          null,
          null,
          null,
          null,
          null,
          null,
          null,
          null,
          null,
          null,
          null,
          null,
          null,
          null,
          null,
          null
         ],
         "type": "scatter",
         "x": [
          "2020-07-01T00:00:00",
          "2022-07-01T00:00:00",
          "2020-05-21T00:00:00",
          "2020-07-01T00:00:00",
          "2022-07-01T00:00:00",
          "2021-06-30T00:00:00",
          "2022-01-20T00:00:00",
          "2023-09-23T00:00:00"
         ],
         "y": [
          24000,
          20000,
          24875,
          24000,
          20000,
          37500,
          20875,
          18548.75
         ]
        },
        {
         "mode": "markers",
         "name": "H100",
         "text": [
          null,
          null,
          null,
          null,
          null,
          null,
          null,
          null,
          null,
          "NVIDIA H100 SXM5 | DGX, 8 GPU, 640GB. Convert Euro to USD: https://www.oanda.com/currency-converter/en/?from=EUR&to=USD&amount=https://www.oanda.com/currency-converter/en/?from=EUR&to=USD&amount=369855.51",
          "NVIDIA H100 SXM5 | DGX, 8 GPU, 640GB. “Nvidia sells DGX H100’s at around $270,000”.",
          "NVIDIA H100 SXM5 | DGX, 8 GPU, 640GB. Convert Euro to USD: https://www.oanda.com/currency-converter/en/?from=EUR&to=USD&amount=306403.66",
          "NVIDIA H100 SXM5 | DGX, 8 GPU, 640GB. Convert Euro to USD: https://www.oanda.com/currency-converter/en/?from=EUR&to=USD&amount=303610.2",
          "NVIDIA H100 SXM5 | HGX, 8 GPU, 640GB",
          null,
          null,
          null,
          null,
          null,
          null,
          null,
          null,
          null,
          null,
          null,
          null,
          null,
          null,
          null,
          null,
          null,
          null,
          null,
          null,
          null,
          null,
          null,
          null,
          null,
          null,
          null,
          null,
          null,
          null,
          null,
          null,
          null,
          null,
          null,
          null,
          null,
          null
         ],
         "type": "scatter",
         "x": [
          "2022-09-29T00:00:00",
          "2023-05-29T00:00:00",
          "2023-12-11T00:00:00",
          "2024-03-20T00:00:00",
          "2024-03-21T00:00:00"
         ],
         "y": [
          44489.88,
          33750,
          41197.5,
          41217,
          37080.5
         ]
        },
        {
         "mode": "markers",
         "name": "P100",
         "text": [
          null,
          null,
          null,
          null,
          null,
          null,
          null,
          null,
          null,
          null,
          null,
          null,
          null,
          null,
          null,
          null,
          null,
          null,
          null,
          null,
          null,
          null,
          null,
          null,
          null,
          null,
          "NVIDIA Tesla P100 PCIe 16 GB | server-equivalent release price",
          "NVIDIA Tesla P100 PCIe 16 GB | DGX-1, 8 GPU, 128GB",
          "NVIDIA Tesla P100 PCIe 16 GB | server-equivalent list price",
          "NVIDIA Tesla P100 PCIe 16 GB | DGX-1, 8 GPU, 128GB",
          "NVIDIA Tesla P100 PCIe 16 GB | server-equivalent list price",
          "NVIDIA Tesla P100 PCIe 16 GB | server-equivalent list price",
          "NVIDIA Tesla P100 PCIe 16 GB | server-equivalent list price",
          "NVIDIA Tesla P100 SXM2 | server-equivalent list price",
          "NVIDIA Tesla P100 SXM2 | server-equivalent list price",
          "NVIDIA Tesla P100 SXM2 | server-equivalent list price",
          "NVIDIA Tesla P100 SXM2 | server-equivalent list price",
          null,
          null,
          null,
          null,
          null,
          null,
          null,
          null,
          null,
          null,
          null,
          null,
          null,
          null,
          null
         ],
         "type": "scatter",
         "x": [
          "2016-06-20T00:00:00",
          "2016-06-21T00:00:00",
          "2016-07-01T00:00:00",
          "2017-03-12T00:00:00",
          "2018-07-01T00:00:00",
          "2020-07-01T00:00:00",
          "2022-07-01T00:00:00",
          "2016-07-01T00:00:00",
          "2018-07-01T00:00:00",
          "2020-07-01T00:00:00",
          "2022-07-01T00:00:00"
         ],
         "y": [
          9118.4,
          16125,
          8800,
          18543.75,
          9440,
          5600,
          3520,
          16800,
          11840,
          7040,
          1760
         ]
        },
        {
         "mode": "markers",
         "name": "V100",
         "text": [
          null,
          null,
          null,
          null,
          null,
          null,
          null,
          null,
          null,
          null,
          null,
          null,
          null,
          null,
          null,
          null,
          null,
          null,
          null,
          null,
          null,
          null,
          null,
          null,
          null,
          null,
          null,
          null,
          null,
          null,
          null,
          null,
          null,
          null,
          null,
          null,
          null,
          "NVIDIA Tesla V100 DGXS 32 GB | DGX, 4 GPU, 128GB",
          "NVIDIA Tesla V100 DGXS 32 GB | DGX-1, 8 GPU, 256GB",
          "NVIDIA Tesla V100 DGXS 32 GB | DGX-2, 16 GPU, 512 GB",
          "NVIDIA Tesla V100 PCIe 16 GB | server-equivalent list price",
          "NVIDIA Tesla V100 PCIe 32 GB | server-equivalent list price",
          "NVIDIA Tesla V100 PCIe 32 GB | server-equivalent list price",
          "NVIDIA Tesla V100 PCIe 32 GB | server-equivalent list price",
          "NVIDIA Tesla V100 SXM2 16 GB | server-equivalent list price",
          "NVIDIA Tesla V100 SXM2 32 GB | server-equivalent list price",
          "NVIDIA Tesla V100 SXM2 32 GB | server-equivalent list price",
          "NVIDIA Tesla V100 SXM3 32 GB | server-equivalent list price",
          "NVIDIA Tesla V100 SXM3 32 GB | server-equivalent list price",
          "NVIDIA Tesla V100 SXM3 32 GB | server-equivalent list price",
          "NVIDIA V100 | Price at release (2017 Q3) for a DGX-1 with 8x V100 GPUs was $149,000. Dividing by 8, the price per GPU is $18,625 including interconnect hardware.",
          "NVIDIA V100 | Price at release (2017 Q3) for a DGXS with 4x V100 GPUs was $69,000. Dividing by 4, the price per GPU is $17250 including interconnect hardware."
         ],
         "type": "scatter",
         "x": [
          "2019-01-11T00:00:00",
          "2019-01-11T00:00:00",
          "2019-01-11T00:00:00",
          "2018-05-08T00:00:00",
          "2018-07-01T00:00:00",
          "2020-07-01T00:00:00",
          "2022-07-01T00:00:00",
          "2018-05-08T00:00:00",
          "2018-05-08T00:00:00",
          "2018-05-08T00:00:00",
          "2018-07-01T00:00:00",
          "2020-07-01T00:00:00",
          "2022-07-01T00:00:00",
          "2017-07-01T00:00:00",
          "2017-07-01T00:00:00"
         ],
         "y": [
          18457.5,
          19928.75,
          26995.63,
          17062.4,
          13600,
          16800,
          12000,
          17062.4,
          18332.8,
          18332.8,
          18400,
          21920,
          4000,
          18625,
          17250
         ]
        },
        {
         "mode": "markers",
         "name": "TPU v4",
         "text": [
          null,
          null,
          null,
          null,
          null,
          null,
          null,
          null,
          null,
          null,
          null,
          null,
          null,
          null,
          null,
          null,
          null,
          null,
          null,
          null,
          null,
          null,
          null,
          null,
          null,
          null,
          null,
          null,
          null,
          null,
          null,
          null,
          null,
          null,
          null,
          null,
          null,
          null,
          null,
          null,
          null,
          null,
          null,
          null,
          null,
          null,
          null,
          null,
          null,
          null,
          null,
          null
         ],
         "type": "scatter",
         "x": [],
         "y": []
        },
        {
         "mode": "markers",
         "name": "TPU v3",
         "text": [
          null,
          null,
          null,
          null,
          null,
          null,
          null,
          null,
          null,
          null,
          null,
          null,
          null,
          null,
          null,
          null,
          null,
          null,
          null,
          null,
          null,
          null,
          null,
          null,
          null,
          null,
          null,
          null,
          null,
          null,
          null,
          null,
          null,
          null,
          null,
          null,
          null,
          null,
          null,
          null,
          null,
          null,
          null,
          null,
          null,
          null,
          null,
          null,
          null,
          null,
          null,
          null
         ],
         "type": "scatter",
         "x": [],
         "y": []
        },
        {
         "mode": "markers",
         "name": "TPU v2",
         "text": [
          null,
          null,
          null,
          null,
          null,
          null,
          null,
          null,
          null,
          null,
          null,
          null,
          null,
          null,
          null,
          null,
          null,
          null,
          null,
          null,
          null,
          null,
          null,
          null,
          null,
          null,
          null,
          null,
          null,
          null,
          null,
          null,
          null,
          null,
          null,
          null,
          null,
          null,
          null,
          null,
          null,
          null,
          null,
          null,
          null,
          null,
          null,
          null,
          null,
          null,
          null,
          null
         ],
         "type": "scatter",
         "x": [],
         "y": []
        },
        {
         "mode": "markers",
         "name": "TPU v1",
         "text": [
          null,
          null,
          null,
          null,
          null,
          null,
          null,
          null,
          null,
          null,
          null,
          null,
          null,
          null,
          null,
          null,
          null,
          null,
          null,
          null,
          null,
          null,
          null,
          null,
          null,
          null,
          null,
          null,
          null,
          null,
          null,
          null,
          null,
          null,
          null,
          null,
          null,
          null,
          null,
          null,
          null,
          null,
          null,
          null,
          null,
          null,
          null,
          null,
          null,
          null,
          null,
          null
         ],
         "type": "scatter",
         "x": [],
         "y": []
        },
        {
         "mode": "markers",
         "name": "K80",
         "text": [
          null,
          null,
          null,
          null,
          null,
          null,
          null,
          null,
          null,
          null,
          null,
          null,
          null,
          null,
          null,
          null,
          null,
          null,
          null,
          null,
          null,
          "NVIDIA Tesla K80 | server-equivalent release price",
          "NVIDIA Tesla K80 | server-equivalent list price",
          "NVIDIA Tesla K80 | server-equivalent list price",
          "NVIDIA Tesla K80 | server-equivalent list price",
          "NVIDIA Tesla K80 | server-equivalent list price",
          null,
          null,
          null,
          null,
          null,
          null,
          null,
          null,
          null,
          null,
          null,
          null,
          null,
          null,
          null,
          null,
          null,
          null,
          null,
          null,
          null,
          null,
          null,
          null,
          null,
          null
         ],
         "type": "scatter",
         "x": [
          "2014-11-17T00:00:00",
          "2016-07-01T00:00:00",
          "2018-07-01T00:00:00",
          "2020-07-01T00:00:00",
          "2022-07-01T00:00:00"
         ],
         "y": [
          8000,
          5920,
          4000,
          1504,
          696
         ]
        },
        {
         "mode": "markers",
         "name": "K40",
         "text": [
          null,
          null,
          null,
          null,
          null,
          null,
          null,
          null,
          null,
          null,
          null,
          null,
          null,
          null,
          "NVIDIA Tesla K40s | server-equivalent release price",
          "NVIDIA Tesla K40s | server-equivalent release price",
          "NVIDIA Tesla K40s | server-equivalent list price",
          "NVIDIA Tesla K40s | server-equivalent list price",
          "NVIDIA Tesla K40s | server-equivalent list price",
          "NVIDIA Tesla K40s | server-equivalent list price",
          "NVIDIA Tesla K40s | server-equivalent list price",
          null,
          null,
          null,
          null,
          null,
          null,
          null,
          null,
          null,
          null,
          null,
          null,
          null,
          null,
          null,
          null,
          null,
          null,
          null,
          null,
          null,
          null,
          null,
          null,
          null,
          null,
          null,
          null,
          null,
          null,
          null
         ],
         "type": "scatter",
         "x": [
          "2012-07-01T00:00:00",
          "2013-11-22T00:00:00",
          "2014-07-01T00:00:00",
          "2016-07-01T00:00:00",
          "2018-07-01T00:00:00",
          "2020-07-01T00:00:00",
          "2022-07-01T00:00:00"
         ],
         "y": [
          8640,
          12318.400000000001,
          6720,
          4640,
          3680,
          864,
          464
         ]
        }
       ],
       "layout": {
        "height": 600,
        "template": {
         "data": {
          "bar": [
           {
            "error_x": {
             "color": "#2a3f5f"
            },
            "error_y": {
             "color": "#2a3f5f"
            },
            "marker": {
             "line": {
              "color": "#E5ECF6",
              "width": 0.5
             },
             "pattern": {
              "fillmode": "overlay",
              "size": 10,
              "solidity": 0.2
             }
            },
            "type": "bar"
           }
          ],
          "barpolar": [
           {
            "marker": {
             "line": {
              "color": "#E5ECF6",
              "width": 0.5
             },
             "pattern": {
              "fillmode": "overlay",
              "size": 10,
              "solidity": 0.2
             }
            },
            "type": "barpolar"
           }
          ],
          "carpet": [
           {
            "aaxis": {
             "endlinecolor": "#2a3f5f",
             "gridcolor": "white",
             "linecolor": "white",
             "minorgridcolor": "white",
             "startlinecolor": "#2a3f5f"
            },
            "baxis": {
             "endlinecolor": "#2a3f5f",
             "gridcolor": "white",
             "linecolor": "white",
             "minorgridcolor": "white",
             "startlinecolor": "#2a3f5f"
            },
            "type": "carpet"
           }
          ],
          "choropleth": [
           {
            "colorbar": {
             "outlinewidth": 0,
             "ticks": ""
            },
            "type": "choropleth"
           }
          ],
          "contour": [
           {
            "colorbar": {
             "outlinewidth": 0,
             "ticks": ""
            },
            "colorscale": [
             [
              0,
              "#0d0887"
             ],
             [
              0.1111111111111111,
              "#46039f"
             ],
             [
              0.2222222222222222,
              "#7201a8"
             ],
             [
              0.3333333333333333,
              "#9c179e"
             ],
             [
              0.4444444444444444,
              "#bd3786"
             ],
             [
              0.5555555555555556,
              "#d8576b"
             ],
             [
              0.6666666666666666,
              "#ed7953"
             ],
             [
              0.7777777777777778,
              "#fb9f3a"
             ],
             [
              0.8888888888888888,
              "#fdca26"
             ],
             [
              1,
              "#f0f921"
             ]
            ],
            "type": "contour"
           }
          ],
          "contourcarpet": [
           {
            "colorbar": {
             "outlinewidth": 0,
             "ticks": ""
            },
            "type": "contourcarpet"
           }
          ],
          "heatmap": [
           {
            "colorbar": {
             "outlinewidth": 0,
             "ticks": ""
            },
            "colorscale": [
             [
              0,
              "#0d0887"
             ],
             [
              0.1111111111111111,
              "#46039f"
             ],
             [
              0.2222222222222222,
              "#7201a8"
             ],
             [
              0.3333333333333333,
              "#9c179e"
             ],
             [
              0.4444444444444444,
              "#bd3786"
             ],
             [
              0.5555555555555556,
              "#d8576b"
             ],
             [
              0.6666666666666666,
              "#ed7953"
             ],
             [
              0.7777777777777778,
              "#fb9f3a"
             ],
             [
              0.8888888888888888,
              "#fdca26"
             ],
             [
              1,
              "#f0f921"
             ]
            ],
            "type": "heatmap"
           }
          ],
          "heatmapgl": [
           {
            "colorbar": {
             "outlinewidth": 0,
             "ticks": ""
            },
            "colorscale": [
             [
              0,
              "#0d0887"
             ],
             [
              0.1111111111111111,
              "#46039f"
             ],
             [
              0.2222222222222222,
              "#7201a8"
             ],
             [
              0.3333333333333333,
              "#9c179e"
             ],
             [
              0.4444444444444444,
              "#bd3786"
             ],
             [
              0.5555555555555556,
              "#d8576b"
             ],
             [
              0.6666666666666666,
              "#ed7953"
             ],
             [
              0.7777777777777778,
              "#fb9f3a"
             ],
             [
              0.8888888888888888,
              "#fdca26"
             ],
             [
              1,
              "#f0f921"
             ]
            ],
            "type": "heatmapgl"
           }
          ],
          "histogram": [
           {
            "marker": {
             "pattern": {
              "fillmode": "overlay",
              "size": 10,
              "solidity": 0.2
             }
            },
            "type": "histogram"
           }
          ],
          "histogram2d": [
           {
            "colorbar": {
             "outlinewidth": 0,
             "ticks": ""
            },
            "colorscale": [
             [
              0,
              "#0d0887"
             ],
             [
              0.1111111111111111,
              "#46039f"
             ],
             [
              0.2222222222222222,
              "#7201a8"
             ],
             [
              0.3333333333333333,
              "#9c179e"
             ],
             [
              0.4444444444444444,
              "#bd3786"
             ],
             [
              0.5555555555555556,
              "#d8576b"
             ],
             [
              0.6666666666666666,
              "#ed7953"
             ],
             [
              0.7777777777777778,
              "#fb9f3a"
             ],
             [
              0.8888888888888888,
              "#fdca26"
             ],
             [
              1,
              "#f0f921"
             ]
            ],
            "type": "histogram2d"
           }
          ],
          "histogram2dcontour": [
           {
            "colorbar": {
             "outlinewidth": 0,
             "ticks": ""
            },
            "colorscale": [
             [
              0,
              "#0d0887"
             ],
             [
              0.1111111111111111,
              "#46039f"
             ],
             [
              0.2222222222222222,
              "#7201a8"
             ],
             [
              0.3333333333333333,
              "#9c179e"
             ],
             [
              0.4444444444444444,
              "#bd3786"
             ],
             [
              0.5555555555555556,
              "#d8576b"
             ],
             [
              0.6666666666666666,
              "#ed7953"
             ],
             [
              0.7777777777777778,
              "#fb9f3a"
             ],
             [
              0.8888888888888888,
              "#fdca26"
             ],
             [
              1,
              "#f0f921"
             ]
            ],
            "type": "histogram2dcontour"
           }
          ],
          "mesh3d": [
           {
            "colorbar": {
             "outlinewidth": 0,
             "ticks": ""
            },
            "type": "mesh3d"
           }
          ],
          "parcoords": [
           {
            "line": {
             "colorbar": {
              "outlinewidth": 0,
              "ticks": ""
             }
            },
            "type": "parcoords"
           }
          ],
          "pie": [
           {
            "automargin": true,
            "type": "pie"
           }
          ],
          "scatter": [
           {
            "fillpattern": {
             "fillmode": "overlay",
             "size": 10,
             "solidity": 0.2
            },
            "type": "scatter"
           }
          ],
          "scatter3d": [
           {
            "line": {
             "colorbar": {
              "outlinewidth": 0,
              "ticks": ""
             }
            },
            "marker": {
             "colorbar": {
              "outlinewidth": 0,
              "ticks": ""
             }
            },
            "type": "scatter3d"
           }
          ],
          "scattercarpet": [
           {
            "marker": {
             "colorbar": {
              "outlinewidth": 0,
              "ticks": ""
             }
            },
            "type": "scattercarpet"
           }
          ],
          "scattergeo": [
           {
            "marker": {
             "colorbar": {
              "outlinewidth": 0,
              "ticks": ""
             }
            },
            "type": "scattergeo"
           }
          ],
          "scattergl": [
           {
            "marker": {
             "colorbar": {
              "outlinewidth": 0,
              "ticks": ""
             }
            },
            "type": "scattergl"
           }
          ],
          "scattermapbox": [
           {
            "marker": {
             "colorbar": {
              "outlinewidth": 0,
              "ticks": ""
             }
            },
            "type": "scattermapbox"
           }
          ],
          "scatterpolar": [
           {
            "marker": {
             "colorbar": {
              "outlinewidth": 0,
              "ticks": ""
             }
            },
            "type": "scatterpolar"
           }
          ],
          "scatterpolargl": [
           {
            "marker": {
             "colorbar": {
              "outlinewidth": 0,
              "ticks": ""
             }
            },
            "type": "scatterpolargl"
           }
          ],
          "scatterternary": [
           {
            "marker": {
             "colorbar": {
              "outlinewidth": 0,
              "ticks": ""
             }
            },
            "type": "scatterternary"
           }
          ],
          "surface": [
           {
            "colorbar": {
             "outlinewidth": 0,
             "ticks": ""
            },
            "colorscale": [
             [
              0,
              "#0d0887"
             ],
             [
              0.1111111111111111,
              "#46039f"
             ],
             [
              0.2222222222222222,
              "#7201a8"
             ],
             [
              0.3333333333333333,
              "#9c179e"
             ],
             [
              0.4444444444444444,
              "#bd3786"
             ],
             [
              0.5555555555555556,
              "#d8576b"
             ],
             [
              0.6666666666666666,
              "#ed7953"
             ],
             [
              0.7777777777777778,
              "#fb9f3a"
             ],
             [
              0.8888888888888888,
              "#fdca26"
             ],
             [
              1,
              "#f0f921"
             ]
            ],
            "type": "surface"
           }
          ],
          "table": [
           {
            "cells": {
             "fill": {
              "color": "#EBF0F8"
             },
             "line": {
              "color": "white"
             }
            },
            "header": {
             "fill": {
              "color": "#C8D4E3"
             },
             "line": {
              "color": "white"
             }
            },
            "type": "table"
           }
          ]
         },
         "layout": {
          "annotationdefaults": {
           "arrowcolor": "#2a3f5f",
           "arrowhead": 0,
           "arrowwidth": 1
          },
          "autotypenumbers": "strict",
          "coloraxis": {
           "colorbar": {
            "outlinewidth": 0,
            "ticks": ""
           }
          },
          "colorscale": {
           "diverging": [
            [
             0,
             "#8e0152"
            ],
            [
             0.1,
             "#c51b7d"
            ],
            [
             0.2,
             "#de77ae"
            ],
            [
             0.3,
             "#f1b6da"
            ],
            [
             0.4,
             "#fde0ef"
            ],
            [
             0.5,
             "#f7f7f7"
            ],
            [
             0.6,
             "#e6f5d0"
            ],
            [
             0.7,
             "#b8e186"
            ],
            [
             0.8,
             "#7fbc41"
            ],
            [
             0.9,
             "#4d9221"
            ],
            [
             1,
             "#276419"
            ]
           ],
           "sequential": [
            [
             0,
             "#0d0887"
            ],
            [
             0.1111111111111111,
             "#46039f"
            ],
            [
             0.2222222222222222,
             "#7201a8"
            ],
            [
             0.3333333333333333,
             "#9c179e"
            ],
            [
             0.4444444444444444,
             "#bd3786"
            ],
            [
             0.5555555555555556,
             "#d8576b"
            ],
            [
             0.6666666666666666,
             "#ed7953"
            ],
            [
             0.7777777777777778,
             "#fb9f3a"
            ],
            [
             0.8888888888888888,
             "#fdca26"
            ],
            [
             1,
             "#f0f921"
            ]
           ],
           "sequentialminus": [
            [
             0,
             "#0d0887"
            ],
            [
             0.1111111111111111,
             "#46039f"
            ],
            [
             0.2222222222222222,
             "#7201a8"
            ],
            [
             0.3333333333333333,
             "#9c179e"
            ],
            [
             0.4444444444444444,
             "#bd3786"
            ],
            [
             0.5555555555555556,
             "#d8576b"
            ],
            [
             0.6666666666666666,
             "#ed7953"
            ],
            [
             0.7777777777777778,
             "#fb9f3a"
            ],
            [
             0.8888888888888888,
             "#fdca26"
            ],
            [
             1,
             "#f0f921"
            ]
           ]
          },
          "colorway": [
           "#636efa",
           "#EF553B",
           "#00cc96",
           "#ab63fa",
           "#FFA15A",
           "#19d3f3",
           "#FF6692",
           "#B6E880",
           "#FF97FF",
           "#FECB52"
          ],
          "font": {
           "color": "#2a3f5f"
          },
          "geo": {
           "bgcolor": "white",
           "lakecolor": "white",
           "landcolor": "#E5ECF6",
           "showlakes": true,
           "showland": true,
           "subunitcolor": "white"
          },
          "hoverlabel": {
           "align": "left"
          },
          "hovermode": "closest",
          "mapbox": {
           "style": "light"
          },
          "paper_bgcolor": "white",
          "plot_bgcolor": "#E5ECF6",
          "polar": {
           "angularaxis": {
            "gridcolor": "white",
            "linecolor": "white",
            "ticks": ""
           },
           "bgcolor": "#E5ECF6",
           "radialaxis": {
            "gridcolor": "white",
            "linecolor": "white",
            "ticks": ""
           }
          },
          "scene": {
           "xaxis": {
            "backgroundcolor": "#E5ECF6",
            "gridcolor": "white",
            "gridwidth": 2,
            "linecolor": "white",
            "showbackground": true,
            "ticks": "",
            "zerolinecolor": "white"
           },
           "yaxis": {
            "backgroundcolor": "#E5ECF6",
            "gridcolor": "white",
            "gridwidth": 2,
            "linecolor": "white",
            "showbackground": true,
            "ticks": "",
            "zerolinecolor": "white"
           },
           "zaxis": {
            "backgroundcolor": "#E5ECF6",
            "gridcolor": "white",
            "gridwidth": 2,
            "linecolor": "white",
            "showbackground": true,
            "ticks": "",
            "zerolinecolor": "white"
           }
          },
          "shapedefaults": {
           "line": {
            "color": "#2a3f5f"
           }
          },
          "ternary": {
           "aaxis": {
            "gridcolor": "white",
            "linecolor": "white",
            "ticks": ""
           },
           "baxis": {
            "gridcolor": "white",
            "linecolor": "white",
            "ticks": ""
           },
           "bgcolor": "#E5ECF6",
           "caxis": {
            "gridcolor": "white",
            "linecolor": "white",
            "ticks": ""
           }
          },
          "title": {
           "x": 0.05
          },
          "xaxis": {
           "automargin": true,
           "gridcolor": "white",
           "linecolor": "white",
           "ticks": "",
           "title": {
            "standoff": 15
           },
           "zerolinecolor": "white",
           "zerolinewidth": 2
          },
          "yaxis": {
           "automargin": true,
           "gridcolor": "white",
           "linecolor": "white",
           "ticks": "",
           "title": {
            "standoff": 15
           },
           "zerolinecolor": "white",
           "zerolinewidth": 2
          }
         }
        },
        "title": {
         "text": "Server-equivalent purchase price vs. performance"
        },
        "width": 800,
        "xaxis": {
         "title": {
          "text": "Price date"
         }
        },
        "yaxis": {
         "title": {
          "text": "Server-equivalent purchase price ($)"
         }
        }
       }
      }
     },
     "metadata": {},
     "output_type": "display_data"
    }
   ],
   "source": [
    "fig = go.Figure()\n",
    "for hardware_alias in hardware_aliases:\n",
    "    hardware_df = server_adjusted_purchase_price_df[server_adjusted_purchase_price_df['Hardware model'].str.contains(hardware_alias)]\n",
    "    fig.add_trace(go.Scatter(\n",
    "        x=hardware_df['Price date'],\n",
    "        y=hardware_df[price_colname],\n",
    "        mode='markers',\n",
    "        name=hardware_alias,\n",
    "        text=server_adjusted_purchase_price_df['Hardware model'] + ' | ' + hardware_df['Notes'],\n",
    "    ))\n",
    "fig.update_layout(\n",
    "    title='Server-equivalent purchase price vs. performance',\n",
    "    xaxis_title='Price date',\n",
    "    yaxis_title='Server-equivalent purchase price ($)',\n",
    "    # yaxis_type='log',\n",
    "    width=800,\n",
    "    height=600,\n",
    ")\n",
    "fig.show()"
   ]
  },
  {
   "cell_type": "code",
   "execution_count": 30,
   "metadata": {},
   "outputs": [],
   "source": [
    "# Drop thenextplatform rows\n",
    "server_adjusted_purchase_price_df = server_adjusted_purchase_price_df[~server_adjusted_purchase_price_df['Price source'].str.contains('nextplatform')]"
   ]
  },
  {
   "cell_type": "code",
   "execution_count": 31,
   "metadata": {},
   "outputs": [
    {
     "data": {
      "application/vnd.plotly.v1+json": {
       "config": {
        "plotlyServerURL": "https://plot.ly"
       },
       "data": [
        {
         "mode": "markers",
         "name": "A100",
         "text": [
          "NVIDIA A100 SXM4 40 GB | DGX A100, 8 GPU, 320GB. Release price.",
          "NVIDIA A100 SXM4 80 GB | DGX A100, 8 GPU, 640GB",
          "NVIDIA A100 SXM4 80 GB | DGX A100, 8 GPU, 640GB",
          "NVIDIA A100 SXM4 80 GB | HGX A100, 8 GPU, 640GB",
          null,
          null,
          null,
          null,
          null,
          null,
          null,
          null,
          null,
          null,
          null,
          null,
          null,
          null,
          null,
          null,
          null,
          null,
          null,
          null
         ],
         "type": "scatter",
         "x": [
          "2020-05-21T00:00:00",
          "2021-06-30T00:00:00",
          "2022-01-20T00:00:00",
          "2023-09-23T00:00:00"
         ],
         "y": [
          24875,
          37500,
          20875,
          18548.75
         ]
        },
        {
         "mode": "markers",
         "name": "H100",
         "text": [
          null,
          null,
          null,
          null,
          null,
          "NVIDIA H100 SXM5 | DGX, 8 GPU, 640GB. Convert Euro to USD: https://www.oanda.com/currency-converter/en/?from=EUR&to=USD&amount=https://www.oanda.com/currency-converter/en/?from=EUR&to=USD&amount=369855.51",
          "NVIDIA H100 SXM5 | DGX, 8 GPU, 640GB. “Nvidia sells DGX H100’s at around $270,000”.",
          "NVIDIA H100 SXM5 | DGX, 8 GPU, 640GB. Convert Euro to USD: https://www.oanda.com/currency-converter/en/?from=EUR&to=USD&amount=306403.66",
          "NVIDIA H100 SXM5 | DGX, 8 GPU, 640GB. Convert Euro to USD: https://www.oanda.com/currency-converter/en/?from=EUR&to=USD&amount=303610.2",
          "NVIDIA H100 SXM5 | HGX, 8 GPU, 640GB",
          null,
          null,
          null,
          null,
          null,
          null,
          null,
          null,
          null,
          null,
          null,
          null,
          null,
          null
         ],
         "type": "scatter",
         "x": [
          "2022-09-29T00:00:00",
          "2023-05-29T00:00:00",
          "2023-12-11T00:00:00",
          "2024-03-20T00:00:00",
          "2024-03-21T00:00:00"
         ],
         "y": [
          44489.88,
          33750,
          41197.5,
          41217,
          37080.5
         ]
        },
        {
         "mode": "markers",
         "name": "P100",
         "text": [
          null,
          null,
          null,
          null,
          null,
          null,
          null,
          null,
          null,
          null,
          null,
          null,
          "NVIDIA Tesla P100 PCIe 16 GB | server-equivalent release price",
          "NVIDIA Tesla P100 PCIe 16 GB | DGX-1, 8 GPU, 128GB",
          "NVIDIA Tesla P100 PCIe 16 GB | DGX-1, 8 GPU, 128GB",
          null,
          null,
          null,
          null,
          null,
          null,
          null,
          null,
          null
         ],
         "type": "scatter",
         "x": [
          "2016-06-20T00:00:00",
          "2016-06-21T00:00:00",
          "2017-03-12T00:00:00"
         ],
         "y": [
          9118.4,
          16125,
          18543.75
         ]
        },
        {
         "mode": "markers",
         "name": "V100",
         "text": [
          null,
          null,
          null,
          null,
          null,
          null,
          null,
          null,
          null,
          null,
          null,
          null,
          null,
          null,
          null,
          "NVIDIA Tesla V100 DGXS 32 GB | DGX, 4 GPU, 128GB",
          "NVIDIA Tesla V100 DGXS 32 GB | DGX-1, 8 GPU, 256GB",
          "NVIDIA Tesla V100 DGXS 32 GB | DGX-2, 16 GPU, 512 GB",
          "NVIDIA Tesla V100 PCIe 16 GB | server-equivalent list price",
          "NVIDIA Tesla V100 SXM2 16 GB | server-equivalent list price",
          "NVIDIA Tesla V100 SXM2 32 GB | server-equivalent list price",
          "NVIDIA Tesla V100 SXM2 32 GB | server-equivalent list price",
          "NVIDIA V100 | Price at release (2017 Q3) for a DGX-1 with 8x V100 GPUs was $149,000. Dividing by 8, the price per GPU is $18,625 including interconnect hardware.",
          "NVIDIA V100 | Price at release (2017 Q3) for a DGXS with 4x V100 GPUs was $69,000. Dividing by 4, the price per GPU is $17250 including interconnect hardware."
         ],
         "type": "scatter",
         "x": [
          "2019-01-11T00:00:00",
          "2019-01-11T00:00:00",
          "2019-01-11T00:00:00",
          "2018-05-08T00:00:00",
          "2018-05-08T00:00:00",
          "2018-05-08T00:00:00",
          "2018-05-08T00:00:00",
          "2017-07-01T00:00:00",
          "2017-07-01T00:00:00"
         ],
         "y": [
          18457.5,
          19928.75,
          26995.63,
          17062.4,
          17062.4,
          18332.8,
          18332.8,
          18625,
          17250
         ]
        },
        {
         "mode": "markers",
         "name": "TPU v4",
         "text": [
          null,
          null,
          null,
          null,
          null,
          null,
          null,
          null,
          null,
          null,
          null,
          null,
          null,
          null,
          null,
          null,
          null,
          null,
          null,
          null,
          null,
          null,
          null,
          null
         ],
         "type": "scatter",
         "x": [],
         "y": []
        },
        {
         "mode": "markers",
         "name": "TPU v3",
         "text": [
          null,
          null,
          null,
          null,
          null,
          null,
          null,
          null,
          null,
          null,
          null,
          null,
          null,
          null,
          null,
          null,
          null,
          null,
          null,
          null,
          null,
          null,
          null,
          null
         ],
         "type": "scatter",
         "x": [],
         "y": []
        },
        {
         "mode": "markers",
         "name": "TPU v2",
         "text": [
          null,
          null,
          null,
          null,
          null,
          null,
          null,
          null,
          null,
          null,
          null,
          null,
          null,
          null,
          null,
          null,
          null,
          null,
          null,
          null,
          null,
          null,
          null,
          null
         ],
         "type": "scatter",
         "x": [],
         "y": []
        },
        {
         "mode": "markers",
         "name": "TPU v1",
         "text": [
          null,
          null,
          null,
          null,
          null,
          null,
          null,
          null,
          null,
          null,
          null,
          null,
          null,
          null,
          null,
          null,
          null,
          null,
          null,
          null,
          null,
          null,
          null,
          null
         ],
         "type": "scatter",
         "x": [],
         "y": []
        },
        {
         "mode": "markers",
         "name": "K80",
         "text": [
          null,
          null,
          null,
          null,
          null,
          null,
          null,
          null,
          null,
          null,
          null,
          "NVIDIA Tesla K80 | server-equivalent release price",
          null,
          null,
          null,
          null,
          null,
          null,
          null,
          null,
          null,
          null,
          null,
          null
         ],
         "type": "scatter",
         "x": [
          "2014-11-17T00:00:00"
         ],
         "y": [
          8000
         ]
        },
        {
         "mode": "markers",
         "name": "K40",
         "text": [
          null,
          null,
          null,
          null,
          null,
          null,
          null,
          null,
          null,
          null,
          "NVIDIA Tesla K40s | server-equivalent release price",
          null,
          null,
          null,
          null,
          null,
          null,
          null,
          null,
          null,
          null,
          null,
          null,
          null
         ],
         "type": "scatter",
         "x": [
          "2013-11-22T00:00:00"
         ],
         "y": [
          12318.400000000001
         ]
        }
       ],
       "layout": {
        "height": 600,
        "template": {
         "data": {
          "bar": [
           {
            "error_x": {
             "color": "#2a3f5f"
            },
            "error_y": {
             "color": "#2a3f5f"
            },
            "marker": {
             "line": {
              "color": "#E5ECF6",
              "width": 0.5
             },
             "pattern": {
              "fillmode": "overlay",
              "size": 10,
              "solidity": 0.2
             }
            },
            "type": "bar"
           }
          ],
          "barpolar": [
           {
            "marker": {
             "line": {
              "color": "#E5ECF6",
              "width": 0.5
             },
             "pattern": {
              "fillmode": "overlay",
              "size": 10,
              "solidity": 0.2
             }
            },
            "type": "barpolar"
           }
          ],
          "carpet": [
           {
            "aaxis": {
             "endlinecolor": "#2a3f5f",
             "gridcolor": "white",
             "linecolor": "white",
             "minorgridcolor": "white",
             "startlinecolor": "#2a3f5f"
            },
            "baxis": {
             "endlinecolor": "#2a3f5f",
             "gridcolor": "white",
             "linecolor": "white",
             "minorgridcolor": "white",
             "startlinecolor": "#2a3f5f"
            },
            "type": "carpet"
           }
          ],
          "choropleth": [
           {
            "colorbar": {
             "outlinewidth": 0,
             "ticks": ""
            },
            "type": "choropleth"
           }
          ],
          "contour": [
           {
            "colorbar": {
             "outlinewidth": 0,
             "ticks": ""
            },
            "colorscale": [
             [
              0,
              "#0d0887"
             ],
             [
              0.1111111111111111,
              "#46039f"
             ],
             [
              0.2222222222222222,
              "#7201a8"
             ],
             [
              0.3333333333333333,
              "#9c179e"
             ],
             [
              0.4444444444444444,
              "#bd3786"
             ],
             [
              0.5555555555555556,
              "#d8576b"
             ],
             [
              0.6666666666666666,
              "#ed7953"
             ],
             [
              0.7777777777777778,
              "#fb9f3a"
             ],
             [
              0.8888888888888888,
              "#fdca26"
             ],
             [
              1,
              "#f0f921"
             ]
            ],
            "type": "contour"
           }
          ],
          "contourcarpet": [
           {
            "colorbar": {
             "outlinewidth": 0,
             "ticks": ""
            },
            "type": "contourcarpet"
           }
          ],
          "heatmap": [
           {
            "colorbar": {
             "outlinewidth": 0,
             "ticks": ""
            },
            "colorscale": [
             [
              0,
              "#0d0887"
             ],
             [
              0.1111111111111111,
              "#46039f"
             ],
             [
              0.2222222222222222,
              "#7201a8"
             ],
             [
              0.3333333333333333,
              "#9c179e"
             ],
             [
              0.4444444444444444,
              "#bd3786"
             ],
             [
              0.5555555555555556,
              "#d8576b"
             ],
             [
              0.6666666666666666,
              "#ed7953"
             ],
             [
              0.7777777777777778,
              "#fb9f3a"
             ],
             [
              0.8888888888888888,
              "#fdca26"
             ],
             [
              1,
              "#f0f921"
             ]
            ],
            "type": "heatmap"
           }
          ],
          "heatmapgl": [
           {
            "colorbar": {
             "outlinewidth": 0,
             "ticks": ""
            },
            "colorscale": [
             [
              0,
              "#0d0887"
             ],
             [
              0.1111111111111111,
              "#46039f"
             ],
             [
              0.2222222222222222,
              "#7201a8"
             ],
             [
              0.3333333333333333,
              "#9c179e"
             ],
             [
              0.4444444444444444,
              "#bd3786"
             ],
             [
              0.5555555555555556,
              "#d8576b"
             ],
             [
              0.6666666666666666,
              "#ed7953"
             ],
             [
              0.7777777777777778,
              "#fb9f3a"
             ],
             [
              0.8888888888888888,
              "#fdca26"
             ],
             [
              1,
              "#f0f921"
             ]
            ],
            "type": "heatmapgl"
           }
          ],
          "histogram": [
           {
            "marker": {
             "pattern": {
              "fillmode": "overlay",
              "size": 10,
              "solidity": 0.2
             }
            },
            "type": "histogram"
           }
          ],
          "histogram2d": [
           {
            "colorbar": {
             "outlinewidth": 0,
             "ticks": ""
            },
            "colorscale": [
             [
              0,
              "#0d0887"
             ],
             [
              0.1111111111111111,
              "#46039f"
             ],
             [
              0.2222222222222222,
              "#7201a8"
             ],
             [
              0.3333333333333333,
              "#9c179e"
             ],
             [
              0.4444444444444444,
              "#bd3786"
             ],
             [
              0.5555555555555556,
              "#d8576b"
             ],
             [
              0.6666666666666666,
              "#ed7953"
             ],
             [
              0.7777777777777778,
              "#fb9f3a"
             ],
             [
              0.8888888888888888,
              "#fdca26"
             ],
             [
              1,
              "#f0f921"
             ]
            ],
            "type": "histogram2d"
           }
          ],
          "histogram2dcontour": [
           {
            "colorbar": {
             "outlinewidth": 0,
             "ticks": ""
            },
            "colorscale": [
             [
              0,
              "#0d0887"
             ],
             [
              0.1111111111111111,
              "#46039f"
             ],
             [
              0.2222222222222222,
              "#7201a8"
             ],
             [
              0.3333333333333333,
              "#9c179e"
             ],
             [
              0.4444444444444444,
              "#bd3786"
             ],
             [
              0.5555555555555556,
              "#d8576b"
             ],
             [
              0.6666666666666666,
              "#ed7953"
             ],
             [
              0.7777777777777778,
              "#fb9f3a"
             ],
             [
              0.8888888888888888,
              "#fdca26"
             ],
             [
              1,
              "#f0f921"
             ]
            ],
            "type": "histogram2dcontour"
           }
          ],
          "mesh3d": [
           {
            "colorbar": {
             "outlinewidth": 0,
             "ticks": ""
            },
            "type": "mesh3d"
           }
          ],
          "parcoords": [
           {
            "line": {
             "colorbar": {
              "outlinewidth": 0,
              "ticks": ""
             }
            },
            "type": "parcoords"
           }
          ],
          "pie": [
           {
            "automargin": true,
            "type": "pie"
           }
          ],
          "scatter": [
           {
            "fillpattern": {
             "fillmode": "overlay",
             "size": 10,
             "solidity": 0.2
            },
            "type": "scatter"
           }
          ],
          "scatter3d": [
           {
            "line": {
             "colorbar": {
              "outlinewidth": 0,
              "ticks": ""
             }
            },
            "marker": {
             "colorbar": {
              "outlinewidth": 0,
              "ticks": ""
             }
            },
            "type": "scatter3d"
           }
          ],
          "scattercarpet": [
           {
            "marker": {
             "colorbar": {
              "outlinewidth": 0,
              "ticks": ""
             }
            },
            "type": "scattercarpet"
           }
          ],
          "scattergeo": [
           {
            "marker": {
             "colorbar": {
              "outlinewidth": 0,
              "ticks": ""
             }
            },
            "type": "scattergeo"
           }
          ],
          "scattergl": [
           {
            "marker": {
             "colorbar": {
              "outlinewidth": 0,
              "ticks": ""
             }
            },
            "type": "scattergl"
           }
          ],
          "scattermapbox": [
           {
            "marker": {
             "colorbar": {
              "outlinewidth": 0,
              "ticks": ""
             }
            },
            "type": "scattermapbox"
           }
          ],
          "scatterpolar": [
           {
            "marker": {
             "colorbar": {
              "outlinewidth": 0,
              "ticks": ""
             }
            },
            "type": "scatterpolar"
           }
          ],
          "scatterpolargl": [
           {
            "marker": {
             "colorbar": {
              "outlinewidth": 0,
              "ticks": ""
             }
            },
            "type": "scatterpolargl"
           }
          ],
          "scatterternary": [
           {
            "marker": {
             "colorbar": {
              "outlinewidth": 0,
              "ticks": ""
             }
            },
            "type": "scatterternary"
           }
          ],
          "surface": [
           {
            "colorbar": {
             "outlinewidth": 0,
             "ticks": ""
            },
            "colorscale": [
             [
              0,
              "#0d0887"
             ],
             [
              0.1111111111111111,
              "#46039f"
             ],
             [
              0.2222222222222222,
              "#7201a8"
             ],
             [
              0.3333333333333333,
              "#9c179e"
             ],
             [
              0.4444444444444444,
              "#bd3786"
             ],
             [
              0.5555555555555556,
              "#d8576b"
             ],
             [
              0.6666666666666666,
              "#ed7953"
             ],
             [
              0.7777777777777778,
              "#fb9f3a"
             ],
             [
              0.8888888888888888,
              "#fdca26"
             ],
             [
              1,
              "#f0f921"
             ]
            ],
            "type": "surface"
           }
          ],
          "table": [
           {
            "cells": {
             "fill": {
              "color": "#EBF0F8"
             },
             "line": {
              "color": "white"
             }
            },
            "header": {
             "fill": {
              "color": "#C8D4E3"
             },
             "line": {
              "color": "white"
             }
            },
            "type": "table"
           }
          ]
         },
         "layout": {
          "annotationdefaults": {
           "arrowcolor": "#2a3f5f",
           "arrowhead": 0,
           "arrowwidth": 1
          },
          "autotypenumbers": "strict",
          "coloraxis": {
           "colorbar": {
            "outlinewidth": 0,
            "ticks": ""
           }
          },
          "colorscale": {
           "diverging": [
            [
             0,
             "#8e0152"
            ],
            [
             0.1,
             "#c51b7d"
            ],
            [
             0.2,
             "#de77ae"
            ],
            [
             0.3,
             "#f1b6da"
            ],
            [
             0.4,
             "#fde0ef"
            ],
            [
             0.5,
             "#f7f7f7"
            ],
            [
             0.6,
             "#e6f5d0"
            ],
            [
             0.7,
             "#b8e186"
            ],
            [
             0.8,
             "#7fbc41"
            ],
            [
             0.9,
             "#4d9221"
            ],
            [
             1,
             "#276419"
            ]
           ],
           "sequential": [
            [
             0,
             "#0d0887"
            ],
            [
             0.1111111111111111,
             "#46039f"
            ],
            [
             0.2222222222222222,
             "#7201a8"
            ],
            [
             0.3333333333333333,
             "#9c179e"
            ],
            [
             0.4444444444444444,
             "#bd3786"
            ],
            [
             0.5555555555555556,
             "#d8576b"
            ],
            [
             0.6666666666666666,
             "#ed7953"
            ],
            [
             0.7777777777777778,
             "#fb9f3a"
            ],
            [
             0.8888888888888888,
             "#fdca26"
            ],
            [
             1,
             "#f0f921"
            ]
           ],
           "sequentialminus": [
            [
             0,
             "#0d0887"
            ],
            [
             0.1111111111111111,
             "#46039f"
            ],
            [
             0.2222222222222222,
             "#7201a8"
            ],
            [
             0.3333333333333333,
             "#9c179e"
            ],
            [
             0.4444444444444444,
             "#bd3786"
            ],
            [
             0.5555555555555556,
             "#d8576b"
            ],
            [
             0.6666666666666666,
             "#ed7953"
            ],
            [
             0.7777777777777778,
             "#fb9f3a"
            ],
            [
             0.8888888888888888,
             "#fdca26"
            ],
            [
             1,
             "#f0f921"
            ]
           ]
          },
          "colorway": [
           "#636efa",
           "#EF553B",
           "#00cc96",
           "#ab63fa",
           "#FFA15A",
           "#19d3f3",
           "#FF6692",
           "#B6E880",
           "#FF97FF",
           "#FECB52"
          ],
          "font": {
           "color": "#2a3f5f"
          },
          "geo": {
           "bgcolor": "white",
           "lakecolor": "white",
           "landcolor": "#E5ECF6",
           "showlakes": true,
           "showland": true,
           "subunitcolor": "white"
          },
          "hoverlabel": {
           "align": "left"
          },
          "hovermode": "closest",
          "mapbox": {
           "style": "light"
          },
          "paper_bgcolor": "white",
          "plot_bgcolor": "#E5ECF6",
          "polar": {
           "angularaxis": {
            "gridcolor": "white",
            "linecolor": "white",
            "ticks": ""
           },
           "bgcolor": "#E5ECF6",
           "radialaxis": {
            "gridcolor": "white",
            "linecolor": "white",
            "ticks": ""
           }
          },
          "scene": {
           "xaxis": {
            "backgroundcolor": "#E5ECF6",
            "gridcolor": "white",
            "gridwidth": 2,
            "linecolor": "white",
            "showbackground": true,
            "ticks": "",
            "zerolinecolor": "white"
           },
           "yaxis": {
            "backgroundcolor": "#E5ECF6",
            "gridcolor": "white",
            "gridwidth": 2,
            "linecolor": "white",
            "showbackground": true,
            "ticks": "",
            "zerolinecolor": "white"
           },
           "zaxis": {
            "backgroundcolor": "#E5ECF6",
            "gridcolor": "white",
            "gridwidth": 2,
            "linecolor": "white",
            "showbackground": true,
            "ticks": "",
            "zerolinecolor": "white"
           }
          },
          "shapedefaults": {
           "line": {
            "color": "#2a3f5f"
           }
          },
          "ternary": {
           "aaxis": {
            "gridcolor": "white",
            "linecolor": "white",
            "ticks": ""
           },
           "baxis": {
            "gridcolor": "white",
            "linecolor": "white",
            "ticks": ""
           },
           "bgcolor": "#E5ECF6",
           "caxis": {
            "gridcolor": "white",
            "linecolor": "white",
            "ticks": ""
           }
          },
          "title": {
           "x": 0.05
          },
          "xaxis": {
           "automargin": true,
           "gridcolor": "white",
           "linecolor": "white",
           "ticks": "",
           "title": {
            "standoff": 15
           },
           "zerolinecolor": "white",
           "zerolinewidth": 2
          },
          "yaxis": {
           "automargin": true,
           "gridcolor": "white",
           "linecolor": "white",
           "ticks": "",
           "title": {
            "standoff": 15
           },
           "zerolinecolor": "white",
           "zerolinewidth": 2
          }
         }
        },
        "title": {
         "text": "Server-equivalent purchase price vs. performance"
        },
        "width": 800,
        "xaxis": {
         "title": {
          "text": "Price date"
         }
        },
        "yaxis": {
         "title": {
          "text": "Server-equivalent purchase price ($)"
         }
        }
       }
      }
     },
     "metadata": {},
     "output_type": "display_data"
    }
   ],
   "source": [
    "fig = go.Figure()\n",
    "for hardware_alias in hardware_aliases:\n",
    "    hardware_df = server_adjusted_purchase_price_df[server_adjusted_purchase_price_df['Hardware model'].str.contains(hardware_alias)]\n",
    "    fig.add_trace(go.Scatter(\n",
    "        x=hardware_df['Price date'],\n",
    "        y=hardware_df[price_colname],\n",
    "        mode='markers',\n",
    "        name=hardware_alias,\n",
    "        text=server_adjusted_purchase_price_df['Hardware model'] + ' | ' + hardware_df['Notes'],\n",
    "    ))\n",
    "fig.update_layout(\n",
    "    title='Server-equivalent purchase price vs. performance',\n",
    "    xaxis_title='Price date',\n",
    "    yaxis_title='Server-equivalent purchase price ($)',\n",
    "    # yaxis_type='log',\n",
    "    width=800,\n",
    "    height=600,\n",
    ")\n",
    "fig.show()"
   ]
  },
  {
   "cell_type": "markdown",
   "metadata": {},
   "source": [
    "# Training time"
   ]
  },
  {
   "cell_type": "code",
   "execution_count": 32,
   "metadata": {},
   "outputs": [
    {
     "data": {
      "text/html": [
       "<div>\n",
       "<style scoped>\n",
       "    .dataframe tbody tr th:only-of-type {\n",
       "        vertical-align: middle;\n",
       "    }\n",
       "\n",
       "    .dataframe tbody tr th {\n",
       "        vertical-align: top;\n",
       "    }\n",
       "\n",
       "    .dataframe thead th {\n",
       "        text-align: right;\n",
       "    }\n",
       "</style>\n",
       "<table border=\"1\" class=\"dataframe\">\n",
       "  <thead>\n",
       "    <tr style=\"text-align: right;\">\n",
       "      <th></th>\n",
       "      <th>System</th>\n",
       "      <th>Domain</th>\n",
       "      <th>Task</th>\n",
       "      <th>Authors</th>\n",
       "      <th>Notability criteria</th>\n",
       "      <th>Notability criteria notes</th>\n",
       "      <th>Model accessibility</th>\n",
       "      <th>Link</th>\n",
       "      <th>Citations</th>\n",
       "      <th>Reference</th>\n",
       "      <th>...</th>\n",
       "      <th>Organization categorization</th>\n",
       "      <th>Foundation model</th>\n",
       "      <th>Training compute lower bound</th>\n",
       "      <th>Training compute upper bound</th>\n",
       "      <th>Training chip-hours</th>\n",
       "      <th>Code accessibility</th>\n",
       "      <th>Dataset accessibility</th>\n",
       "      <th>Accessibility notes</th>\n",
       "      <th>Organization categorization (from Organization)</th>\n",
       "      <th>Possibly over 1e23 FLOP</th>\n",
       "    </tr>\n",
       "  </thead>\n",
       "  <tbody>\n",
       "    <tr>\n",
       "      <th>75</th>\n",
       "      <td>Gemini Ultra</td>\n",
       "      <td>Multimodal</td>\n",
       "      <td>Language modelling,Visual question answering,C...</td>\n",
       "      <td>Gemini Team</td>\n",
       "      <td>SOTA improvement</td>\n",
       "      <td>\" Evaluation on a broad range of benchmarks sh...</td>\n",
       "      <td>Hosted access (no API)</td>\n",
       "      <td>https://storage.googleapis.com/deepmind-media/...</td>\n",
       "      <td>633.0</td>\n",
       "      <td>Gemini: A Family of Highly Capable Multimodal ...</td>\n",
       "      <td>...</td>\n",
       "      <td>Industry</td>\n",
       "      <td>NaN</td>\n",
       "      <td>NaN</td>\n",
       "      <td>NaN</td>\n",
       "      <td>132000000.0</td>\n",
       "      <td>NaN</td>\n",
       "      <td>NaN</td>\n",
       "      <td>NaN</td>\n",
       "      <td>Industry</td>\n",
       "      <td>NaN</td>\n",
       "    </tr>\n",
       "    <tr>\n",
       "      <th>91</th>\n",
       "      <td>Inflection-2</td>\n",
       "      <td>Language</td>\n",
       "      <td>Language modelling</td>\n",
       "      <td>NaN</td>\n",
       "      <td>Significant use</td>\n",
       "      <td>Inflection-2 either already powers Pi or soon ...</td>\n",
       "      <td>Hosted access (no API)</td>\n",
       "      <td>https://inflection.ai/inflection-2</td>\n",
       "      <td>NaN</td>\n",
       "      <td>Inflection-2: The Next Step Up</td>\n",
       "      <td>...</td>\n",
       "      <td>Industry</td>\n",
       "      <td>checked</td>\n",
       "      <td>NaN</td>\n",
       "      <td>NaN</td>\n",
       "      <td>NaN</td>\n",
       "      <td>NaN</td>\n",
       "      <td>NaN</td>\n",
       "      <td>via Pi, no API</td>\n",
       "      <td>Industry</td>\n",
       "      <td>NaN</td>\n",
       "    </tr>\n",
       "    <tr>\n",
       "      <th>116</th>\n",
       "      <td>Grok-1</td>\n",
       "      <td>Language</td>\n",
       "      <td>Language modelling,Chat</td>\n",
       "      <td>NaN</td>\n",
       "      <td>SOTA improvement</td>\n",
       "      <td>\"On these benchmarks, Grok-1 displayed strong ...</td>\n",
       "      <td>Open source</td>\n",
       "      <td>https://x.ai/model-card/, https://x.ai/blog/gr...</td>\n",
       "      <td>NaN</td>\n",
       "      <td>Announcing Grok</td>\n",
       "      <td>...</td>\n",
       "      <td>Industry</td>\n",
       "      <td>checked</td>\n",
       "      <td>2</td>\n",
       "      <td>7.0</td>\n",
       "      <td>NaN</td>\n",
       "      <td>Unreleased</td>\n",
       "      <td>Unreleased</td>\n",
       "      <td>apache 2.0</td>\n",
       "      <td>Industry</td>\n",
       "      <td>checked</td>\n",
       "    </tr>\n",
       "    <tr>\n",
       "      <th>130</th>\n",
       "      <td>ChatGLM3</td>\n",
       "      <td>Multimodal</td>\n",
       "      <td>Chat,Visual question answering</td>\n",
       "      <td>NaN</td>\n",
       "      <td>SOTA improvement</td>\n",
       "      <td>Aiming at GPT-4V, ChatGLM3 has implemented ite...</td>\n",
       "      <td>NaN</td>\n",
       "      <td>https://www.zhipuai.cn/en/news/76</td>\n",
       "      <td>NaN</td>\n",
       "      <td>Zhipu AI launches third-generation base model</td>\n",
       "      <td>...</td>\n",
       "      <td>Industry</td>\n",
       "      <td>checked</td>\n",
       "      <td>NaN</td>\n",
       "      <td>NaN</td>\n",
       "      <td>NaN</td>\n",
       "      <td>NaN</td>\n",
       "      <td>NaN</td>\n",
       "      <td>NaN</td>\n",
       "      <td>Industry</td>\n",
       "      <td>NaN</td>\n",
       "    </tr>\n",
       "    <tr>\n",
       "      <th>176</th>\n",
       "      <td>Falcon-180B</td>\n",
       "      <td>Language</td>\n",
       "      <td>Language modelling</td>\n",
       "      <td>Ebtesam Almazrouei, Hamza Alobeidli, Abdulaziz...</td>\n",
       "      <td>SOTA improvement</td>\n",
       "      <td>\"It's currently at the top of the Hugging Face...</td>\n",
       "      <td>Open access (restricted use)</td>\n",
       "      <td>https://falconllm.tii.ae/falcon-180b.html; htt...</td>\n",
       "      <td>86.0</td>\n",
       "      <td>The Falcon Series of Open Language Models</td>\n",
       "      <td>...</td>\n",
       "      <td>Government</td>\n",
       "      <td>NaN</td>\n",
       "      <td>NaN</td>\n",
       "      <td>NaN</td>\n",
       "      <td>17694720.0</td>\n",
       "      <td>NaN</td>\n",
       "      <td>NaN</td>\n",
       "      <td>\"Falcon 180b can be commercially used but unde...</td>\n",
       "      <td>Government</td>\n",
       "      <td>NaN</td>\n",
       "    </tr>\n",
       "    <tr>\n",
       "      <th>...</th>\n",
       "      <td>...</td>\n",
       "      <td>...</td>\n",
       "      <td>...</td>\n",
       "      <td>...</td>\n",
       "      <td>...</td>\n",
       "      <td>...</td>\n",
       "      <td>...</td>\n",
       "      <td>...</td>\n",
       "      <td>...</td>\n",
       "      <td>...</td>\n",
       "      <td>...</td>\n",
       "      <td>...</td>\n",
       "      <td>...</td>\n",
       "      <td>...</td>\n",
       "      <td>...</td>\n",
       "      <td>...</td>\n",
       "      <td>...</td>\n",
       "      <td>...</td>\n",
       "      <td>...</td>\n",
       "      <td>...</td>\n",
       "      <td>...</td>\n",
       "    </tr>\n",
       "    <tr>\n",
       "      <th>1145</th>\n",
       "      <td>Xception</td>\n",
       "      <td>Vision</td>\n",
       "      <td>Image classification</td>\n",
       "      <td>François Chollet</td>\n",
       "      <td>Highly cited</td>\n",
       "      <td>NaN</td>\n",
       "      <td>NaN</td>\n",
       "      <td>https://arxiv.org/abs/1610.02357</td>\n",
       "      <td>11578.0</td>\n",
       "      <td>Xception: Deep Learning with Depthwise Separab...</td>\n",
       "      <td>...</td>\n",
       "      <td>Industry</td>\n",
       "      <td>NaN</td>\n",
       "      <td>NaN</td>\n",
       "      <td>NaN</td>\n",
       "      <td>43200.0</td>\n",
       "      <td>NaN</td>\n",
       "      <td>NaN</td>\n",
       "      <td>NaN</td>\n",
       "      <td>Industry</td>\n",
       "      <td>NaN</td>\n",
       "    </tr>\n",
       "    <tr>\n",
       "      <th>1146</th>\n",
       "      <td>GNMT</td>\n",
       "      <td>Language</td>\n",
       "      <td>Translation</td>\n",
       "      <td>Yonghui Wu, Mike Schuster, Zhifeng Chen, Quoc ...</td>\n",
       "      <td>Highly cited</td>\n",
       "      <td>NaN</td>\n",
       "      <td>Hosted access (no API)</td>\n",
       "      <td>https://arxiv.org/abs/1609.08144</td>\n",
       "      <td>6196.0</td>\n",
       "      <td>Google's Neural Machine Translation System: Br...</td>\n",
       "      <td>...</td>\n",
       "      <td>Industry</td>\n",
       "      <td>NaN</td>\n",
       "      <td>NaN</td>\n",
       "      <td>NaN</td>\n",
       "      <td>414720.0</td>\n",
       "      <td>NaN</td>\n",
       "      <td>NaN</td>\n",
       "      <td>presumably deployed via Google translate</td>\n",
       "      <td>Industry</td>\n",
       "      <td>NaN</td>\n",
       "    </tr>\n",
       "    <tr>\n",
       "      <th>1182</th>\n",
       "      <td>AlphaGo Lee</td>\n",
       "      <td>Games</td>\n",
       "      <td>Go</td>\n",
       "      <td>David Silver, Aja Huang, Chris J. Maddison, Ar...</td>\n",
       "      <td>Highly cited</td>\n",
       "      <td>NaN</td>\n",
       "      <td>NaN</td>\n",
       "      <td>https://www.nature.com/articles/nature16961</td>\n",
       "      <td>14887.0</td>\n",
       "      <td>Mastering the game of Go with deep neural netw...</td>\n",
       "      <td>...</td>\n",
       "      <td>Industry</td>\n",
       "      <td>NaN</td>\n",
       "      <td>NaN</td>\n",
       "      <td>NaN</td>\n",
       "      <td>NaN</td>\n",
       "      <td>NaN</td>\n",
       "      <td>NaN</td>\n",
       "      <td>NaN</td>\n",
       "      <td>Industry</td>\n",
       "      <td>NaN</td>\n",
       "    </tr>\n",
       "    <tr>\n",
       "      <th>1186</th>\n",
       "      <td>ResNet-152 (ImageNet)</td>\n",
       "      <td>Vision</td>\n",
       "      <td>Image classification</td>\n",
       "      <td>Kaiming He, Xiangyu Zhang, Shaoqing Ren, Jian Sun</td>\n",
       "      <td>Highly cited</td>\n",
       "      <td>NaN</td>\n",
       "      <td>NaN</td>\n",
       "      <td>https://arxiv.org/abs/1512.03385</td>\n",
       "      <td>156882.0</td>\n",
       "      <td>Deep Residual Learning for Image Recognition</td>\n",
       "      <td>...</td>\n",
       "      <td>Industry</td>\n",
       "      <td>NaN</td>\n",
       "      <td>NaN</td>\n",
       "      <td>NaN</td>\n",
       "      <td>NaN</td>\n",
       "      <td>NaN</td>\n",
       "      <td>NaN</td>\n",
       "      <td>NaN</td>\n",
       "      <td>Industry</td>\n",
       "      <td>NaN</td>\n",
       "    </tr>\n",
       "    <tr>\n",
       "      <th>1188</th>\n",
       "      <td>DeepSpeech2 (English)</td>\n",
       "      <td>Speech</td>\n",
       "      <td>Speech recognition</td>\n",
       "      <td>Dario Amodei, Rishita Anubhai, Eric Battenberg...</td>\n",
       "      <td>Highly cited</td>\n",
       "      <td>NaN</td>\n",
       "      <td>NaN</td>\n",
       "      <td>https://arxiv.org/abs/1512.02595</td>\n",
       "      <td>2749.0</td>\n",
       "      <td>Deep Speech 2: End-to-End Speech Recognition i...</td>\n",
       "      <td>...</td>\n",
       "      <td>Industry</td>\n",
       "      <td>NaN</td>\n",
       "      <td>NaN</td>\n",
       "      <td>NaN</td>\n",
       "      <td>301.0</td>\n",
       "      <td>NaN</td>\n",
       "      <td>NaN</td>\n",
       "      <td>NaN</td>\n",
       "      <td>Industry</td>\n",
       "      <td>NaN</td>\n",
       "    </tr>\n",
       "  </tbody>\n",
       "</table>\n",
       "<p>67 rows × 58 columns</p>\n",
       "</div>"
      ],
      "text/plain": [
       "                     System      Domain  \\\n",
       "75             Gemini Ultra  Multimodal   \n",
       "91             Inflection-2    Language   \n",
       "116                  Grok-1    Language   \n",
       "130                ChatGLM3  Multimodal   \n",
       "176             Falcon-180B    Language   \n",
       "...                     ...         ...   \n",
       "1145               Xception      Vision   \n",
       "1146                   GNMT    Language   \n",
       "1182            AlphaGo Lee       Games   \n",
       "1186  ResNet-152 (ImageNet)      Vision   \n",
       "1188  DeepSpeech2 (English)      Speech   \n",
       "\n",
       "                                                   Task  \\\n",
       "75    Language modelling,Visual question answering,C...   \n",
       "91                                   Language modelling   \n",
       "116                             Language modelling,Chat   \n",
       "130                      Chat,Visual question answering   \n",
       "176                                  Language modelling   \n",
       "...                                                 ...   \n",
       "1145                               Image classification   \n",
       "1146                                        Translation   \n",
       "1182                                                 Go   \n",
       "1186                               Image classification   \n",
       "1188                                 Speech recognition   \n",
       "\n",
       "                                                Authors Notability criteria  \\\n",
       "75                                          Gemini Team    SOTA improvement   \n",
       "91                                                  NaN     Significant use   \n",
       "116                                                 NaN    SOTA improvement   \n",
       "130                                                 NaN    SOTA improvement   \n",
       "176   Ebtesam Almazrouei, Hamza Alobeidli, Abdulaziz...    SOTA improvement   \n",
       "...                                                 ...                 ...   \n",
       "1145                                   François Chollet        Highly cited   \n",
       "1146  Yonghui Wu, Mike Schuster, Zhifeng Chen, Quoc ...        Highly cited   \n",
       "1182  David Silver, Aja Huang, Chris J. Maddison, Ar...        Highly cited   \n",
       "1186  Kaiming He, Xiangyu Zhang, Shaoqing Ren, Jian Sun        Highly cited   \n",
       "1188  Dario Amodei, Rishita Anubhai, Eric Battenberg...        Highly cited   \n",
       "\n",
       "                              Notability criteria notes  \\\n",
       "75    \" Evaluation on a broad range of benchmarks sh...   \n",
       "91    Inflection-2 either already powers Pi or soon ...   \n",
       "116   \"On these benchmarks, Grok-1 displayed strong ...   \n",
       "130   Aiming at GPT-4V, ChatGLM3 has implemented ite...   \n",
       "176   \"It's currently at the top of the Hugging Face...   \n",
       "...                                                 ...   \n",
       "1145                                                NaN   \n",
       "1146                                                NaN   \n",
       "1182                                                NaN   \n",
       "1186                                                NaN   \n",
       "1188                                                NaN   \n",
       "\n",
       "               Model accessibility  \\\n",
       "75          Hosted access (no API)   \n",
       "91          Hosted access (no API)   \n",
       "116                    Open source   \n",
       "130                            NaN   \n",
       "176   Open access (restricted use)   \n",
       "...                            ...   \n",
       "1145                           NaN   \n",
       "1146        Hosted access (no API)   \n",
       "1182                           NaN   \n",
       "1186                           NaN   \n",
       "1188                           NaN   \n",
       "\n",
       "                                                   Link  Citations  \\\n",
       "75    https://storage.googleapis.com/deepmind-media/...      633.0   \n",
       "91                   https://inflection.ai/inflection-2        NaN   \n",
       "116   https://x.ai/model-card/, https://x.ai/blog/gr...        NaN   \n",
       "130                   https://www.zhipuai.cn/en/news/76        NaN   \n",
       "176   https://falconllm.tii.ae/falcon-180b.html; htt...       86.0   \n",
       "...                                                 ...        ...   \n",
       "1145                   https://arxiv.org/abs/1610.02357    11578.0   \n",
       "1146                   https://arxiv.org/abs/1609.08144     6196.0   \n",
       "1182        https://www.nature.com/articles/nature16961    14887.0   \n",
       "1186                   https://arxiv.org/abs/1512.03385   156882.0   \n",
       "1188                   https://arxiv.org/abs/1512.02595     2749.0   \n",
       "\n",
       "                                              Reference  ...  \\\n",
       "75    Gemini: A Family of Highly Capable Multimodal ...  ...   \n",
       "91                       Inflection-2: The Next Step Up  ...   \n",
       "116                                     Announcing Grok  ...   \n",
       "130       Zhipu AI launches third-generation base model  ...   \n",
       "176           The Falcon Series of Open Language Models  ...   \n",
       "...                                                 ...  ...   \n",
       "1145  Xception: Deep Learning with Depthwise Separab...  ...   \n",
       "1146  Google's Neural Machine Translation System: Br...  ...   \n",
       "1182  Mastering the game of Go with deep neural netw...  ...   \n",
       "1186       Deep Residual Learning for Image Recognition  ...   \n",
       "1188  Deep Speech 2: End-to-End Speech Recognition i...  ...   \n",
       "\n",
       "     Organization categorization Foundation model  \\\n",
       "75                      Industry              NaN   \n",
       "91                      Industry          checked   \n",
       "116                     Industry          checked   \n",
       "130                     Industry          checked   \n",
       "176                   Government              NaN   \n",
       "...                          ...              ...   \n",
       "1145                    Industry              NaN   \n",
       "1146                    Industry              NaN   \n",
       "1182                    Industry              NaN   \n",
       "1186                    Industry              NaN   \n",
       "1188                    Industry              NaN   \n",
       "\n",
       "      Training compute lower bound Training compute upper bound  \\\n",
       "75                             NaN                          NaN   \n",
       "91                             NaN                          NaN   \n",
       "116                              2                          7.0   \n",
       "130                            NaN                          NaN   \n",
       "176                            NaN                          NaN   \n",
       "...                            ...                          ...   \n",
       "1145                           NaN                          NaN   \n",
       "1146                           NaN                          NaN   \n",
       "1182                           NaN                          NaN   \n",
       "1186                           NaN                          NaN   \n",
       "1188                           NaN                          NaN   \n",
       "\n",
       "      Training chip-hours Code accessibility Dataset accessibility  \\\n",
       "75            132000000.0                NaN                   NaN   \n",
       "91                    NaN                NaN                   NaN   \n",
       "116                   NaN         Unreleased            Unreleased   \n",
       "130                   NaN                NaN                   NaN   \n",
       "176            17694720.0                NaN                   NaN   \n",
       "...                   ...                ...                   ...   \n",
       "1145              43200.0                NaN                   NaN   \n",
       "1146             414720.0                NaN                   NaN   \n",
       "1182                  NaN                NaN                   NaN   \n",
       "1186                  NaN                NaN                   NaN   \n",
       "1188                301.0                NaN                   NaN   \n",
       "\n",
       "                                    Accessibility notes  \\\n",
       "75                                                  NaN   \n",
       "91                                       via Pi, no API   \n",
       "116                                          apache 2.0   \n",
       "130                                                 NaN   \n",
       "176   \"Falcon 180b can be commercially used but unde...   \n",
       "...                                                 ...   \n",
       "1145                                                NaN   \n",
       "1146           presumably deployed via Google translate   \n",
       "1182                                                NaN   \n",
       "1186                                                NaN   \n",
       "1188                                                NaN   \n",
       "\n",
       "      Organization categorization (from Organization) Possibly over 1e23 FLOP  \n",
       "75                                           Industry                     NaN  \n",
       "91                                           Industry                     NaN  \n",
       "116                                          Industry                 checked  \n",
       "130                                          Industry                     NaN  \n",
       "176                                        Government                     NaN  \n",
       "...                                               ...                     ...  \n",
       "1145                                         Industry                     NaN  \n",
       "1146                                         Industry                     NaN  \n",
       "1182                                         Industry                     NaN  \n",
       "1186                                         Industry                     NaN  \n",
       "1188                                         Industry                     NaN  \n",
       "\n",
       "[67 rows x 58 columns]"
      ]
     },
     "execution_count": 32,
     "metadata": {},
     "output_type": "execute_result"
    }
   ],
   "source": [
    "frontier_pcd_df, hardware_df, price_df = load_data_for_cost_estimation(compute_threshold_method=\"top_n\", compute_threshold=10)\n",
    "frontier_pcd_df"
   ]
  },
  {
   "cell_type": "code",
   "execution_count": 33,
   "metadata": {},
   "outputs": [
    {
     "data": {
      "text/html": [
       "<div>\n",
       "<style scoped>\n",
       "    .dataframe tbody tr th:only-of-type {\n",
       "        vertical-align: middle;\n",
       "    }\n",
       "\n",
       "    .dataframe tbody tr th {\n",
       "        vertical-align: top;\n",
       "    }\n",
       "\n",
       "    .dataframe thead th {\n",
       "        text-align: right;\n",
       "    }\n",
       "</style>\n",
       "<table border=\"1\" class=\"dataframe\">\n",
       "  <thead>\n",
       "    <tr style=\"text-align: right;\">\n",
       "      <th></th>\n",
       "      <th>System</th>\n",
       "      <th>Domain</th>\n",
       "      <th>Task</th>\n",
       "      <th>Authors</th>\n",
       "      <th>Notability criteria</th>\n",
       "      <th>Notability criteria notes</th>\n",
       "      <th>Model accessibility</th>\n",
       "      <th>Link</th>\n",
       "      <th>Citations</th>\n",
       "      <th>Reference</th>\n",
       "      <th>...</th>\n",
       "      <th>Organization categorization</th>\n",
       "      <th>Foundation model</th>\n",
       "      <th>Training compute lower bound</th>\n",
       "      <th>Training compute upper bound</th>\n",
       "      <th>Training chip-hours</th>\n",
       "      <th>Code accessibility</th>\n",
       "      <th>Dataset accessibility</th>\n",
       "      <th>Accessibility notes</th>\n",
       "      <th>Organization categorization (from Organization)</th>\n",
       "      <th>Possibly over 1e23 FLOP</th>\n",
       "    </tr>\n",
       "  </thead>\n",
       "  <tbody>\n",
       "    <tr>\n",
       "      <th>75</th>\n",
       "      <td>Gemini Ultra</td>\n",
       "      <td>Multimodal</td>\n",
       "      <td>Language modelling,Visual question answering,C...</td>\n",
       "      <td>Gemini Team</td>\n",
       "      <td>SOTA improvement</td>\n",
       "      <td>\" Evaluation on a broad range of benchmarks sh...</td>\n",
       "      <td>Hosted access (no API)</td>\n",
       "      <td>https://storage.googleapis.com/deepmind-media/...</td>\n",
       "      <td>633.0</td>\n",
       "      <td>Gemini: A Family of Highly Capable Multimodal ...</td>\n",
       "      <td>...</td>\n",
       "      <td>Industry</td>\n",
       "      <td>NaN</td>\n",
       "      <td>NaN</td>\n",
       "      <td>NaN</td>\n",
       "      <td>132000000.0</td>\n",
       "      <td>NaN</td>\n",
       "      <td>NaN</td>\n",
       "      <td>NaN</td>\n",
       "      <td>Industry</td>\n",
       "      <td>NaN</td>\n",
       "    </tr>\n",
       "    <tr>\n",
       "      <th>176</th>\n",
       "      <td>Falcon-180B</td>\n",
       "      <td>Language</td>\n",
       "      <td>Language modelling</td>\n",
       "      <td>Ebtesam Almazrouei, Hamza Alobeidli, Abdulaziz...</td>\n",
       "      <td>SOTA improvement</td>\n",
       "      <td>\"It's currently at the top of the Hugging Face...</td>\n",
       "      <td>Open access (restricted use)</td>\n",
       "      <td>https://falconllm.tii.ae/falcon-180b.html; htt...</td>\n",
       "      <td>86.0</td>\n",
       "      <td>The Falcon Series of Open Language Models</td>\n",
       "      <td>...</td>\n",
       "      <td>Government</td>\n",
       "      <td>NaN</td>\n",
       "      <td>NaN</td>\n",
       "      <td>NaN</td>\n",
       "      <td>17694720.0</td>\n",
       "      <td>NaN</td>\n",
       "      <td>NaN</td>\n",
       "      <td>\"Falcon 180b can be commercially used but unde...</td>\n",
       "      <td>Government</td>\n",
       "      <td>NaN</td>\n",
       "    </tr>\n",
       "    <tr>\n",
       "      <th>215</th>\n",
       "      <td>Llama 2-70B</td>\n",
       "      <td>Language</td>\n",
       "      <td>Language modelling</td>\n",
       "      <td>Hugo Touvron, Louis Martin, Kevin Stone, Peter...</td>\n",
       "      <td>Historical significance,Significant use,Highly...</td>\n",
       "      <td>Model has been open-sourced and frequently dow...</td>\n",
       "      <td>Open access (restricted use)</td>\n",
       "      <td>https://ai.meta.com/research/publications/llam...</td>\n",
       "      <td>3131.0</td>\n",
       "      <td>Llama 2: Open Foundation and Fine-Tuned Chat M...</td>\n",
       "      <td>...</td>\n",
       "      <td>Industry</td>\n",
       "      <td>NaN</td>\n",
       "      <td>NaN</td>\n",
       "      <td>NaN</td>\n",
       "      <td>1720320.0</td>\n",
       "      <td>NaN</td>\n",
       "      <td>NaN</td>\n",
       "      <td>Llama 2 license. can't use outputs to train mo...</td>\n",
       "      <td>Industry</td>\n",
       "      <td>NaN</td>\n",
       "    </tr>\n",
       "    <tr>\n",
       "      <th>227</th>\n",
       "      <td>xTrimoPGLM -100B</td>\n",
       "      <td>Biology</td>\n",
       "      <td>Proteins</td>\n",
       "      <td>Bo Chen, Xingyi Cheng, Yangli-ao Geng, Shen Li...</td>\n",
       "      <td>SOTA improvement</td>\n",
       "      <td>\"Our extensive experiments reveal that xTrimoP...</td>\n",
       "      <td>Unreleased</td>\n",
       "      <td>https://www.biorxiv.org/content/10.1101/2023.0...</td>\n",
       "      <td>32.0</td>\n",
       "      <td>xTrimoPGLM: Unified 100B-Scale Pre-trained Tra...</td>\n",
       "      <td>...</td>\n",
       "      <td>Academia,Industry</td>\n",
       "      <td>NaN</td>\n",
       "      <td>NaN</td>\n",
       "      <td>NaN</td>\n",
       "      <td>2352.0</td>\n",
       "      <td>Unreleased</td>\n",
       "      <td>NaN</td>\n",
       "      <td>NaN</td>\n",
       "      <td>Academia,Industry</td>\n",
       "      <td>NaN</td>\n",
       "    </tr>\n",
       "    <tr>\n",
       "      <th>309</th>\n",
       "      <td>GPT-4</td>\n",
       "      <td>Multimodal</td>\n",
       "      <td>Language modelling</td>\n",
       "      <td>OpenAI</td>\n",
       "      <td>Highly cited,SOTA improvement</td>\n",
       "      <td>See the paper, p.1: \"On a suite of traditional...</td>\n",
       "      <td>API access</td>\n",
       "      <td>https://arxiv.org/abs/2303.08774</td>\n",
       "      <td>3280.0</td>\n",
       "      <td>GPT-4 Technical Report</td>\n",
       "      <td>...</td>\n",
       "      <td>Industry</td>\n",
       "      <td>checked</td>\n",
       "      <td>NaN</td>\n",
       "      <td>NaN</td>\n",
       "      <td>57000000.0</td>\n",
       "      <td>NaN</td>\n",
       "      <td>NaN</td>\n",
       "      <td>NaN</td>\n",
       "      <td>Industry</td>\n",
       "      <td>NaN</td>\n",
       "    </tr>\n",
       "    <tr>\n",
       "      <th>325</th>\n",
       "      <td>LLaMA-65B</td>\n",
       "      <td>Language</td>\n",
       "      <td>Language modelling</td>\n",
       "      <td>Hugo Touvron, Thibaut Lavril, Gautier Izacard,...</td>\n",
       "      <td>Historical significance,Highly cited</td>\n",
       "      <td>Widely-used foundation model that has been ada...</td>\n",
       "      <td>Open access (non-commercial)</td>\n",
       "      <td>https://arxiv.org/abs/2302.13971</td>\n",
       "      <td>4640.0</td>\n",
       "      <td>LLaMA: Open and Efficient Foundation Language ...</td>\n",
       "      <td>...</td>\n",
       "      <td>Industry</td>\n",
       "      <td>checked</td>\n",
       "      <td>NaN</td>\n",
       "      <td>NaN</td>\n",
       "      <td>1024000.0</td>\n",
       "      <td>Unreleased</td>\n",
       "      <td>NaN</td>\n",
       "      <td>\"we are releasing our model under a noncommerc...</td>\n",
       "      <td>Industry</td>\n",
       "      <td>NaN</td>\n",
       "    </tr>\n",
       "    <tr>\n",
       "      <th>380</th>\n",
       "      <td>BLOOM-176B</td>\n",
       "      <td>Language</td>\n",
       "      <td>Language modelling</td>\n",
       "      <td>Margaret Mitchell, Giada Pistilli, Yacine Jern...</td>\n",
       "      <td>Historical significance,Highly cited</td>\n",
       "      <td>Was the largest open-source model at the time....</td>\n",
       "      <td>Open access (restricted use)</td>\n",
       "      <td>https://arxiv.org/abs/2211.05100</td>\n",
       "      <td>1313.0</td>\n",
       "      <td>BLOOM: A 176B-Parameter Open-Access Multilingu...</td>\n",
       "      <td>...</td>\n",
       "      <td>Industry,Research collective</td>\n",
       "      <td>checked</td>\n",
       "      <td>NaN</td>\n",
       "      <td>NaN</td>\n",
       "      <td>1078272.0</td>\n",
       "      <td>NaN</td>\n",
       "      <td>NaN</td>\n",
       "      <td>responsible use restrictions: https://bigscien...</td>\n",
       "      <td>Industry,Research collective</td>\n",
       "      <td>NaN</td>\n",
       "    </tr>\n",
       "    <tr>\n",
       "      <th>395</th>\n",
       "      <td>U-PaLM (540B)</td>\n",
       "      <td>Language</td>\n",
       "      <td>Language generation</td>\n",
       "      <td>Yi Tay, Jason Wei, Hyung Won Chung, Vinh Q. Tr...</td>\n",
       "      <td>SOTA improvement</td>\n",
       "      <td>\"We show that U-PaLM 540B outperforms PaLM 540...</td>\n",
       "      <td>Unreleased</td>\n",
       "      <td>https://arxiv.org/abs/2210.11399</td>\n",
       "      <td>45.0</td>\n",
       "      <td>Transcending Scaling Laws with 0.1% Extra Compute</td>\n",
       "      <td>...</td>\n",
       "      <td>Industry</td>\n",
       "      <td>NaN</td>\n",
       "      <td>NaN</td>\n",
       "      <td>NaN</td>\n",
       "      <td>61440.0</td>\n",
       "      <td>NaN</td>\n",
       "      <td>NaN</td>\n",
       "      <td>NaN</td>\n",
       "      <td>Industry</td>\n",
       "      <td>NaN</td>\n",
       "    </tr>\n",
       "    <tr>\n",
       "      <th>421</th>\n",
       "      <td>GLM-130B</td>\n",
       "      <td>Language</td>\n",
       "      <td>NaN</td>\n",
       "      <td>Aohan Zeng, Xiao Liu, Zhengxiao Du, Zihan Wang...</td>\n",
       "      <td>SOTA improvement</td>\n",
       "      <td>\"GLM-130B achieves an accuracy of 80.2% on zer...</td>\n",
       "      <td>Open access (non-commercial)</td>\n",
       "      <td>https://keg.cs.tsinghua.edu.cn/glm-130b/posts/...</td>\n",
       "      <td>641.0</td>\n",
       "      <td>GLM-130B: An Open Bilingual Pre-trained Model</td>\n",
       "      <td>...</td>\n",
       "      <td>Academia</td>\n",
       "      <td>checked</td>\n",
       "      <td>NaN</td>\n",
       "      <td>NaN</td>\n",
       "      <td>1105920.0</td>\n",
       "      <td>NaN</td>\n",
       "      <td>NaN</td>\n",
       "      <td>non commercial: https://github.com/THUDM/GLM-1...</td>\n",
       "      <td>Academia</td>\n",
       "      <td>NaN</td>\n",
       "    </tr>\n",
       "    <tr>\n",
       "      <th>442</th>\n",
       "      <td>Minerva (540B)</td>\n",
       "      <td>Language</td>\n",
       "      <td>Quantitative reasoning</td>\n",
       "      <td>Aitor Lewkowycz, Anders Andreassen, David Doha...</td>\n",
       "      <td>SOTA improvement</td>\n",
       "      <td>NaN</td>\n",
       "      <td>Unreleased</td>\n",
       "      <td>https://arxiv.org/abs/2206.14858</td>\n",
       "      <td>427.0</td>\n",
       "      <td>Solving Quantitative Reasoning Problems with L...</td>\n",
       "      <td>...</td>\n",
       "      <td>Industry</td>\n",
       "      <td>checked</td>\n",
       "      <td>NaN</td>\n",
       "      <td>NaN</td>\n",
       "      <td>712704.0</td>\n",
       "      <td>Unreleased</td>\n",
       "      <td>Unreleased</td>\n",
       "      <td>NaN</td>\n",
       "      <td>Industry</td>\n",
       "      <td>NaN</td>\n",
       "    </tr>\n",
       "    <tr>\n",
       "      <th>485</th>\n",
       "      <td>OPT-175B</td>\n",
       "      <td>Language</td>\n",
       "      <td>Language modelling</td>\n",
       "      <td>Susan Zhang∗ , Stephen Roller∗ , Naman Goyal∗ ...</td>\n",
       "      <td>Significant use,Highly cited</td>\n",
       "      <td>https://ai.meta.com/blog/opt-175b-large-langua...</td>\n",
       "      <td>Open access (non-commercial)</td>\n",
       "      <td>https://ai.facebook.com/blog/democratizing-acc...</td>\n",
       "      <td>1987.0</td>\n",
       "      <td>OPT: Open Pre-trained Transformer Language Models</td>\n",
       "      <td>...</td>\n",
       "      <td>Industry</td>\n",
       "      <td>NaN</td>\n",
       "      <td>NaN</td>\n",
       "      <td>NaN</td>\n",
       "      <td>812544.0</td>\n",
       "      <td>Open source</td>\n",
       "      <td>NaN</td>\n",
       "      <td>non-commercial for weights:\\nhttps://github.co...</td>\n",
       "      <td>Industry</td>\n",
       "      <td>NaN</td>\n",
       "    </tr>\n",
       "    <tr>\n",
       "      <th>495</th>\n",
       "      <td>PaLM (540B)</td>\n",
       "      <td>Language</td>\n",
       "      <td>Language modelling</td>\n",
       "      <td>Aakanksha Chowdhery, Sharan Narang, Jacob Devl...</td>\n",
       "      <td>Highly cited,SOTA improvement</td>\n",
       "      <td>Demonstrates continued benefits of scaling, as...</td>\n",
       "      <td>Unreleased</td>\n",
       "      <td>https://arxiv.org/abs/2204.02311</td>\n",
       "      <td>3532.0</td>\n",
       "      <td>PaLM: Scaling Language Modeling with Pathways</td>\n",
       "      <td>...</td>\n",
       "      <td>Industry</td>\n",
       "      <td>checked</td>\n",
       "      <td>NaN</td>\n",
       "      <td>NaN</td>\n",
       "      <td>8404992.0</td>\n",
       "      <td>NaN</td>\n",
       "      <td>NaN</td>\n",
       "      <td>NaN</td>\n",
       "      <td>Industry</td>\n",
       "      <td>NaN</td>\n",
       "    </tr>\n",
       "    <tr>\n",
       "      <th>517</th>\n",
       "      <td>LaMDA</td>\n",
       "      <td>Language</td>\n",
       "      <td>Language modelling</td>\n",
       "      <td>Romal Thoppilan, Daniel De Freitas, Jamie Hall...</td>\n",
       "      <td>Historical significance</td>\n",
       "      <td>NaN</td>\n",
       "      <td>Unreleased</td>\n",
       "      <td>https://arxiv.org/abs/2201.08239</td>\n",
       "      <td>1082.0</td>\n",
       "      <td>LaMDA: Language Models for Dialog Applications</td>\n",
       "      <td>...</td>\n",
       "      <td>Industry</td>\n",
       "      <td>checked</td>\n",
       "      <td>NaN</td>\n",
       "      <td>NaN</td>\n",
       "      <td>1418240.0</td>\n",
       "      <td>NaN</td>\n",
       "      <td>NaN</td>\n",
       "      <td>NaN</td>\n",
       "      <td>Industry</td>\n",
       "      <td>NaN</td>\n",
       "    </tr>\n",
       "    <tr>\n",
       "      <th>546</th>\n",
       "      <td>GLaM</td>\n",
       "      <td>Language</td>\n",
       "      <td>NaN</td>\n",
       "      <td>Nan Du, Yanping Huang, Andrew M. Dai, Simon To...</td>\n",
       "      <td>SOTA improvement</td>\n",
       "      <td>\"As shown in Table 5, GLaM (64B/64E) is better...</td>\n",
       "      <td>Unreleased</td>\n",
       "      <td>https://arxiv.org/abs/2112.06905</td>\n",
       "      <td>440.0</td>\n",
       "      <td>GLaM: Efficient Scaling of Language Models wit...</td>\n",
       "      <td>...</td>\n",
       "      <td>Industry</td>\n",
       "      <td>checked</td>\n",
       "      <td>NaN</td>\n",
       "      <td>NaN</td>\n",
       "      <td>1398784.0</td>\n",
       "      <td>Unreleased</td>\n",
       "      <td>Unreleased</td>\n",
       "      <td>NaN</td>\n",
       "      <td>Industry</td>\n",
       "      <td>NaN</td>\n",
       "    </tr>\n",
       "    <tr>\n",
       "      <th>550</th>\n",
       "      <td>Gopher (280B)</td>\n",
       "      <td>Language</td>\n",
       "      <td>Language modelling</td>\n",
       "      <td>Jack W. Rae, Sebastian Borgeaud, Trevor Cai, K...</td>\n",
       "      <td>SOTA improvement</td>\n",
       "      <td>\"These models are evaluated on 152 diverse tas...</td>\n",
       "      <td>Unreleased</td>\n",
       "      <td>https://arxiv.org/abs/2112.11446</td>\n",
       "      <td>917.0</td>\n",
       "      <td>\"Scaling Language Models: Methods, Analysis &amp; ...</td>\n",
       "      <td>...</td>\n",
       "      <td>Industry</td>\n",
       "      <td>NaN</td>\n",
       "      <td>NaN</td>\n",
       "      <td>NaN</td>\n",
       "      <td>3768320.0</td>\n",
       "      <td>Unreleased</td>\n",
       "      <td>Unreleased</td>\n",
       "      <td>NaN</td>\n",
       "      <td>Industry</td>\n",
       "      <td>NaN</td>\n",
       "    </tr>\n",
       "    <tr>\n",
       "      <th>590</th>\n",
       "      <td>Megatron-Turing NLG 530B</td>\n",
       "      <td>Language</td>\n",
       "      <td>Language modelling</td>\n",
       "      <td>Shaden Smith, Mostofa Patwary, Brandon Norick,...</td>\n",
       "      <td>SOTA improvement</td>\n",
       "      <td>The 105-layer, transformer-based MT-NLG improv...</td>\n",
       "      <td>Unreleased</td>\n",
       "      <td>https://arxiv.org/abs/2201.11990</td>\n",
       "      <td>544.0</td>\n",
       "      <td>Using DeepSpeed and Megatron to Train Megatron...</td>\n",
       "      <td>...</td>\n",
       "      <td>Industry,Industry</td>\n",
       "      <td>checked</td>\n",
       "      <td>NaN</td>\n",
       "      <td>NaN</td>\n",
       "      <td>3449600.0</td>\n",
       "      <td>Unreleased</td>\n",
       "      <td>NaN</td>\n",
       "      <td>NaN</td>\n",
       "      <td>Industry,Industry</td>\n",
       "      <td>NaN</td>\n",
       "    </tr>\n",
       "    <tr>\n",
       "      <th>597</th>\n",
       "      <td>HyperCLOVA</td>\n",
       "      <td>Language</td>\n",
       "      <td>NaN</td>\n",
       "      <td>Boseop Kim, HyoungSeok Kim, Sang-Woo Lee, Gich...</td>\n",
       "      <td>SOTA improvement</td>\n",
       "      <td>\"HyperCLOVA with our training configuration sh...</td>\n",
       "      <td>API access</td>\n",
       "      <td>https://arxiv.org/abs/2109.04650</td>\n",
       "      <td>92.0</td>\n",
       "      <td>What Changes Can Large-scale Language Models B...</td>\n",
       "      <td>...</td>\n",
       "      <td>Industry,Industry</td>\n",
       "      <td>checked</td>\n",
       "      <td>NaN</td>\n",
       "      <td>NaN</td>\n",
       "      <td>658637.0</td>\n",
       "      <td>Unreleased</td>\n",
       "      <td>NaN</td>\n",
       "      <td>\"We introduce HyperCLOVA Studio, an interactiv...</td>\n",
       "      <td>Industry,Industry</td>\n",
       "      <td>NaN</td>\n",
       "    </tr>\n",
       "    <tr>\n",
       "      <th>684</th>\n",
       "      <td>Meta Pseudo Labels</td>\n",
       "      <td>Vision</td>\n",
       "      <td>Image classification</td>\n",
       "      <td>Hieu Pham, Zihang Dai, Qizhe Xie, Minh-Thang L...</td>\n",
       "      <td>SOTA improvement</td>\n",
       "      <td>NaN</td>\n",
       "      <td>Unreleased</td>\n",
       "      <td>https://arxiv.org/abs/2003.10580</td>\n",
       "      <td>535.0</td>\n",
       "      <td>Meta pseudo labels</td>\n",
       "      <td>...</td>\n",
       "      <td>Industry,Industry</td>\n",
       "      <td>NaN</td>\n",
       "      <td>NaN</td>\n",
       "      <td>NaN</td>\n",
       "      <td>270336.0</td>\n",
       "      <td>Open source</td>\n",
       "      <td>NaN</td>\n",
       "      <td>Apache-2.0 license\\nhttps://github.com/google-...</td>\n",
       "      <td>Industry,Industry</td>\n",
       "      <td>NaN</td>\n",
       "    </tr>\n",
       "    <tr>\n",
       "      <th>700</th>\n",
       "      <td>Switch</td>\n",
       "      <td>Language</td>\n",
       "      <td>Text autocompletion</td>\n",
       "      <td>William Fedus, Barret Zoph, Noam Shazeer</td>\n",
       "      <td>Highly cited,SOTA improvement</td>\n",
       "      <td>\" On ANLI (Nie et al., 2019), Switch XXL impro...</td>\n",
       "      <td>Open source</td>\n",
       "      <td>https://arxiv.org/abs/2101.03961</td>\n",
       "      <td>1163.0</td>\n",
       "      <td>Switch Transformers: Scaling to Trillion Param...</td>\n",
       "      <td>...</td>\n",
       "      <td>Industry</td>\n",
       "      <td>NaN</td>\n",
       "      <td>NaN</td>\n",
       "      <td>NaN</td>\n",
       "      <td>663552.0</td>\n",
       "      <td>Open source</td>\n",
       "      <td>NaN</td>\n",
       "      <td>Apache 2\\nhttps://github.com/google-research/t...</td>\n",
       "      <td>Industry</td>\n",
       "      <td>NaN</td>\n",
       "    </tr>\n",
       "    <tr>\n",
       "      <th>772</th>\n",
       "      <td>GPT-3 175B (davinci)</td>\n",
       "      <td>Language</td>\n",
       "      <td>Text autocompletion</td>\n",
       "      <td>Tom B. Brown, Benjamin Mann, Nick Ryder, Melan...</td>\n",
       "      <td>Highly cited</td>\n",
       "      <td>NaN</td>\n",
       "      <td>API access</td>\n",
       "      <td>https://arxiv.org/abs/2005.14165</td>\n",
       "      <td>23023.0</td>\n",
       "      <td>Language Models are Few-Shot Learners</td>\n",
       "      <td>...</td>\n",
       "      <td>Industry</td>\n",
       "      <td>checked</td>\n",
       "      <td>NaN</td>\n",
       "      <td>NaN</td>\n",
       "      <td>3552000.0</td>\n",
       "      <td>Unreleased</td>\n",
       "      <td>NaN</td>\n",
       "      <td>https://openai.com/blog/openai-api\\n</td>\n",
       "      <td>Industry</td>\n",
       "      <td>NaN</td>\n",
       "    </tr>\n",
       "    <tr>\n",
       "      <th>812</th>\n",
       "      <td>Meena</td>\n",
       "      <td>Language</td>\n",
       "      <td>Text autocompletion</td>\n",
       "      <td>Dongling Xiao, Han Zhang, Yukun Li, Yu Sun, Ha...</td>\n",
       "      <td>SOTA improvement</td>\n",
       "      <td>\"We also propose a human evaluation metric cal...</td>\n",
       "      <td>Unreleased</td>\n",
       "      <td>https://arxiv.org/abs/2001.09977</td>\n",
       "      <td>805.0</td>\n",
       "      <td>Towards a Human-like Open-Domain Chatbot</td>\n",
       "      <td>...</td>\n",
       "      <td>Industry</td>\n",
       "      <td>NaN</td>\n",
       "      <td>NaN</td>\n",
       "      <td>NaN</td>\n",
       "      <td>737280.0</td>\n",
       "      <td>NaN</td>\n",
       "      <td>NaN</td>\n",
       "      <td>NaN</td>\n",
       "      <td>Industry</td>\n",
       "      <td>NaN</td>\n",
       "    </tr>\n",
       "    <tr>\n",
       "      <th>819</th>\n",
       "      <td>OpenAI Five</td>\n",
       "      <td>Games</td>\n",
       "      <td>Dota 2</td>\n",
       "      <td>Christopher Berner, Greg Brockman, Brooke Chan...</td>\n",
       "      <td>Highly cited,SOTA improvement</td>\n",
       "      <td>\"On April 13th, 2019, OpenAI Five became the f...</td>\n",
       "      <td>Unreleased</td>\n",
       "      <td>https://arxiv.org/abs/1912.06680</td>\n",
       "      <td>1420.0</td>\n",
       "      <td>Dota 2 with Large Scale Deep Reinforcement Lea...</td>\n",
       "      <td>...</td>\n",
       "      <td>Industry</td>\n",
       "      <td>NaN</td>\n",
       "      <td>NaN</td>\n",
       "      <td>NaN</td>\n",
       "      <td>10911744.0</td>\n",
       "      <td>Unreleased</td>\n",
       "      <td>Unreleased</td>\n",
       "      <td>NaN</td>\n",
       "      <td>Industry</td>\n",
       "      <td>NaN</td>\n",
       "    </tr>\n",
       "    <tr>\n",
       "      <th>839</th>\n",
       "      <td>AlphaStar</td>\n",
       "      <td>Games</td>\n",
       "      <td>StarCraft</td>\n",
       "      <td>Oriol Vinyals,Igor Babuschkin,Wojciech M. Czar...</td>\n",
       "      <td>Highly cited</td>\n",
       "      <td>NaN</td>\n",
       "      <td>Unreleased</td>\n",
       "      <td>https://www.deepmind.com/blog/alphastar-grandm...</td>\n",
       "      <td>2870.0</td>\n",
       "      <td>Grandmaster level in StarCraft II using multi-...</td>\n",
       "      <td>...</td>\n",
       "      <td>Industry</td>\n",
       "      <td>NaN</td>\n",
       "      <td>NaN</td>\n",
       "      <td>NaN</td>\n",
       "      <td>405504.0</td>\n",
       "      <td>Open source</td>\n",
       "      <td>Unreleased</td>\n",
       "      <td>Apache 2.0, training tools only: https://githu...</td>\n",
       "      <td>Industry</td>\n",
       "      <td>NaN</td>\n",
       "    </tr>\n",
       "    <tr>\n",
       "      <th>843</th>\n",
       "      <td>T5-11B</td>\n",
       "      <td>Language</td>\n",
       "      <td>Text autocompletion</td>\n",
       "      <td>Colin Raffel, Noam Shazeer, Adam Roberts, Kath...</td>\n",
       "      <td>Highly cited</td>\n",
       "      <td>NaN</td>\n",
       "      <td>Open source</td>\n",
       "      <td>https://arxiv.org/abs/1910.10683</td>\n",
       "      <td>12884.0</td>\n",
       "      <td>Exploring the Limits of Transfer Learning with...</td>\n",
       "      <td>...</td>\n",
       "      <td>Industry</td>\n",
       "      <td>NaN</td>\n",
       "      <td>NaN</td>\n",
       "      <td>NaN</td>\n",
       "      <td>246733.0</td>\n",
       "      <td>Open source</td>\n",
       "      <td>Open source</td>\n",
       "      <td>Apache for code and weights:\\nhttps://github.c...</td>\n",
       "      <td>Industry</td>\n",
       "      <td>NaN</td>\n",
       "    </tr>\n",
       "    <tr>\n",
       "      <th>857</th>\n",
       "      <td>Megatron-BERT</td>\n",
       "      <td>Language</td>\n",
       "      <td>NaN</td>\n",
       "      <td>Mohammad Shoeybi, Mostofa Patwary, Raul Puri, ...</td>\n",
       "      <td>Highly cited,SOTA improvement</td>\n",
       "      <td>\"Our BERT model achieves SOTA results on the R...</td>\n",
       "      <td>Unreleased</td>\n",
       "      <td>https://arxiv.org/abs/1909.08053</td>\n",
       "      <td>1152.0</td>\n",
       "      <td>Megatron-LM: Training Multi-Billion Parameter ...</td>\n",
       "      <td>...</td>\n",
       "      <td>Industry</td>\n",
       "      <td>NaN</td>\n",
       "      <td>NaN</td>\n",
       "      <td>NaN</td>\n",
       "      <td>712704.0</td>\n",
       "      <td>NaN</td>\n",
       "      <td>NaN</td>\n",
       "      <td>NaN</td>\n",
       "      <td>Industry</td>\n",
       "      <td>NaN</td>\n",
       "    </tr>\n",
       "    <tr>\n",
       "      <th>858</th>\n",
       "      <td>Megatron-LM (8.3B)</td>\n",
       "      <td>Language</td>\n",
       "      <td>NaN</td>\n",
       "      <td>Mohammad Shoeybi, Mostofa Patwary, Raul Puri, ...</td>\n",
       "      <td>Highly cited,SOTA improvement</td>\n",
       "      <td>\"Using the GPT-2 model we achieve SOTA results...</td>\n",
       "      <td>Unreleased</td>\n",
       "      <td>https://arxiv.org/abs/1909.08053</td>\n",
       "      <td>1152.0</td>\n",
       "      <td>Megatron-LM: Training Multi-Billion Parameter ...</td>\n",
       "      <td>...</td>\n",
       "      <td>Industry</td>\n",
       "      <td>NaN</td>\n",
       "      <td>NaN</td>\n",
       "      <td>NaN</td>\n",
       "      <td>167424.0</td>\n",
       "      <td>NaN</td>\n",
       "      <td>NaN</td>\n",
       "      <td>NaN</td>\n",
       "      <td>Industry</td>\n",
       "      <td>NaN</td>\n",
       "    </tr>\n",
       "    <tr>\n",
       "      <th>883</th>\n",
       "      <td>RoBERTa Large</td>\n",
       "      <td>Language</td>\n",
       "      <td>NaN</td>\n",
       "      <td>Yinhan Liu, Myle Ott, Naman Goyal, Jingfei Du,...</td>\n",
       "      <td>Highly cited</td>\n",
       "      <td>NaN</td>\n",
       "      <td>Open source</td>\n",
       "      <td>https://arxiv.org/abs/1907.11692</td>\n",
       "      <td>17972.0</td>\n",
       "      <td>RoBERTa: A Robustly Optimized BERT Pretraining...</td>\n",
       "      <td>...</td>\n",
       "      <td>Industry,Academia</td>\n",
       "      <td>NaN</td>\n",
       "      <td>NaN</td>\n",
       "      <td>NaN</td>\n",
       "      <td>122880.0</td>\n",
       "      <td>Open source</td>\n",
       "      <td>Unreleased</td>\n",
       "      <td>code and weights: https://github.com/facebookr...</td>\n",
       "      <td>Industry,Academia</td>\n",
       "      <td>NaN</td>\n",
       "    </tr>\n",
       "    <tr>\n",
       "      <th>969</th>\n",
       "      <td>BigGAN-deep 512x512</td>\n",
       "      <td>Image generation</td>\n",
       "      <td>Image generation</td>\n",
       "      <td>A Brock, J Donahue, K Simonyan</td>\n",
       "      <td>Highly cited</td>\n",
       "      <td>NaN</td>\n",
       "      <td>Open source</td>\n",
       "      <td>https://arxiv.org/abs/1809.11096</td>\n",
       "      <td>4398.0</td>\n",
       "      <td>Large Scale GAN Training for High Fidelity Nat...</td>\n",
       "      <td>...</td>\n",
       "      <td>Academia,Industry</td>\n",
       "      <td>NaN</td>\n",
       "      <td>NaN</td>\n",
       "      <td>NaN</td>\n",
       "      <td>12288.0</td>\n",
       "      <td>Unreleased</td>\n",
       "      <td>NaN</td>\n",
       "      <td>repo license is Apache:\\n\\nhttps://github.com/...</td>\n",
       "      <td>Academia,Industry</td>\n",
       "      <td>NaN</td>\n",
       "    </tr>\n",
       "    <tr>\n",
       "      <th>1058</th>\n",
       "      <td>AlphaGo Zero</td>\n",
       "      <td>Games</td>\n",
       "      <td>Go</td>\n",
       "      <td>D Silver, J Schrittwieser, K Simonyan, I Anton...</td>\n",
       "      <td>Highly cited</td>\n",
       "      <td>NaN</td>\n",
       "      <td>NaN</td>\n",
       "      <td>https://www.nature.com/articles/nature24270</td>\n",
       "      <td>8103.0</td>\n",
       "      <td>Mastering the game of Go without human knowledge</td>\n",
       "      <td>...</td>\n",
       "      <td>Industry</td>\n",
       "      <td>NaN</td>\n",
       "      <td>NaN</td>\n",
       "      <td>NaN</td>\n",
       "      <td>NaN</td>\n",
       "      <td>NaN</td>\n",
       "      <td>NaN</td>\n",
       "      <td>NaN</td>\n",
       "      <td>Industry</td>\n",
       "      <td>NaN</td>\n",
       "    </tr>\n",
       "    <tr>\n",
       "      <th>1092</th>\n",
       "      <td>JFT</td>\n",
       "      <td>Vision</td>\n",
       "      <td>Image classification,Object detection,Semantic...</td>\n",
       "      <td>Chen Sun, Abhinav Shrivastava, Saurabh Singh, ...</td>\n",
       "      <td>Highly cited</td>\n",
       "      <td>NaN</td>\n",
       "      <td>NaN</td>\n",
       "      <td>https://arxiv.org/abs/1707.02968</td>\n",
       "      <td>2022.0</td>\n",
       "      <td>Revisiting Unreasonable Effectiveness of Data ...</td>\n",
       "      <td>...</td>\n",
       "      <td>Industry,Academia</td>\n",
       "      <td>NaN</td>\n",
       "      <td>NaN</td>\n",
       "      <td>NaN</td>\n",
       "      <td>72000.0</td>\n",
       "      <td>NaN</td>\n",
       "      <td>NaN</td>\n",
       "      <td>NaN</td>\n",
       "      <td>Industry,Academia</td>\n",
       "      <td>NaN</td>\n",
       "    </tr>\n",
       "    <tr>\n",
       "      <th>1114</th>\n",
       "      <td>MoE</td>\n",
       "      <td>Language</td>\n",
       "      <td>Language modelling,Translation</td>\n",
       "      <td>N Shazeer, A Mirhoseini, K Maziarz, A Davis</td>\n",
       "      <td>Highly cited,SOTA improvement</td>\n",
       "      <td>\"On large language modeling and machine transl...</td>\n",
       "      <td>Unreleased</td>\n",
       "      <td>https://arxiv.org/abs/1701.06538</td>\n",
       "      <td>1531.0</td>\n",
       "      <td>Outrageously Large Neural Networks: The Sparse...</td>\n",
       "      <td>...</td>\n",
       "      <td>Academia,Industry</td>\n",
       "      <td>NaN</td>\n",
       "      <td>NaN</td>\n",
       "      <td>NaN</td>\n",
       "      <td>NaN</td>\n",
       "      <td>NaN</td>\n",
       "      <td>NaN</td>\n",
       "      <td>NaN</td>\n",
       "      <td>Academia,Industry</td>\n",
       "      <td>NaN</td>\n",
       "    </tr>\n",
       "    <tr>\n",
       "      <th>1145</th>\n",
       "      <td>Xception</td>\n",
       "      <td>Vision</td>\n",
       "      <td>Image classification</td>\n",
       "      <td>François Chollet</td>\n",
       "      <td>Highly cited</td>\n",
       "      <td>NaN</td>\n",
       "      <td>NaN</td>\n",
       "      <td>https://arxiv.org/abs/1610.02357</td>\n",
       "      <td>11578.0</td>\n",
       "      <td>Xception: Deep Learning with Depthwise Separab...</td>\n",
       "      <td>...</td>\n",
       "      <td>Industry</td>\n",
       "      <td>NaN</td>\n",
       "      <td>NaN</td>\n",
       "      <td>NaN</td>\n",
       "      <td>43200.0</td>\n",
       "      <td>NaN</td>\n",
       "      <td>NaN</td>\n",
       "      <td>NaN</td>\n",
       "      <td>Industry</td>\n",
       "      <td>NaN</td>\n",
       "    </tr>\n",
       "    <tr>\n",
       "      <th>1146</th>\n",
       "      <td>GNMT</td>\n",
       "      <td>Language</td>\n",
       "      <td>Translation</td>\n",
       "      <td>Yonghui Wu, Mike Schuster, Zhifeng Chen, Quoc ...</td>\n",
       "      <td>Highly cited</td>\n",
       "      <td>NaN</td>\n",
       "      <td>Hosted access (no API)</td>\n",
       "      <td>https://arxiv.org/abs/1609.08144</td>\n",
       "      <td>6196.0</td>\n",
       "      <td>Google's Neural Machine Translation System: Br...</td>\n",
       "      <td>...</td>\n",
       "      <td>Industry</td>\n",
       "      <td>NaN</td>\n",
       "      <td>NaN</td>\n",
       "      <td>NaN</td>\n",
       "      <td>414720.0</td>\n",
       "      <td>NaN</td>\n",
       "      <td>NaN</td>\n",
       "      <td>presumably deployed via Google translate</td>\n",
       "      <td>Industry</td>\n",
       "      <td>NaN</td>\n",
       "    </tr>\n",
       "  </tbody>\n",
       "</table>\n",
       "<p>33 rows × 58 columns</p>\n",
       "</div>"
      ],
      "text/plain": [
       "                        System            Domain  \\\n",
       "75                Gemini Ultra        Multimodal   \n",
       "176                Falcon-180B          Language   \n",
       "215                Llama 2-70B          Language   \n",
       "227           xTrimoPGLM -100B           Biology   \n",
       "309                      GPT-4        Multimodal   \n",
       "325                  LLaMA-65B          Language   \n",
       "380                 BLOOM-176B          Language   \n",
       "395              U-PaLM (540B)          Language   \n",
       "421                   GLM-130B          Language   \n",
       "442             Minerva (540B)          Language   \n",
       "485                   OPT-175B          Language   \n",
       "495                PaLM (540B)          Language   \n",
       "517                      LaMDA          Language   \n",
       "546                       GLaM          Language   \n",
       "550              Gopher (280B)          Language   \n",
       "590   Megatron-Turing NLG 530B          Language   \n",
       "597                 HyperCLOVA          Language   \n",
       "684         Meta Pseudo Labels            Vision   \n",
       "700                     Switch          Language   \n",
       "772       GPT-3 175B (davinci)          Language   \n",
       "812                      Meena          Language   \n",
       "819                OpenAI Five             Games   \n",
       "839                  AlphaStar             Games   \n",
       "843                     T5-11B          Language   \n",
       "857              Megatron-BERT          Language   \n",
       "858         Megatron-LM (8.3B)          Language   \n",
       "883              RoBERTa Large          Language   \n",
       "969        BigGAN-deep 512x512  Image generation   \n",
       "1058              AlphaGo Zero             Games   \n",
       "1092                       JFT            Vision   \n",
       "1114                       MoE          Language   \n",
       "1145                  Xception            Vision   \n",
       "1146                      GNMT          Language   \n",
       "\n",
       "                                                   Task  \\\n",
       "75    Language modelling,Visual question answering,C...   \n",
       "176                                  Language modelling   \n",
       "215                                  Language modelling   \n",
       "227                                            Proteins   \n",
       "309                                  Language modelling   \n",
       "325                                  Language modelling   \n",
       "380                                  Language modelling   \n",
       "395                                 Language generation   \n",
       "421                                                 NaN   \n",
       "442                              Quantitative reasoning   \n",
       "485                                  Language modelling   \n",
       "495                                  Language modelling   \n",
       "517                                  Language modelling   \n",
       "546                                                 NaN   \n",
       "550                                  Language modelling   \n",
       "590                                  Language modelling   \n",
       "597                                                 NaN   \n",
       "684                                Image classification   \n",
       "700                                 Text autocompletion   \n",
       "772                                 Text autocompletion   \n",
       "812                                 Text autocompletion   \n",
       "819                                              Dota 2   \n",
       "839                                           StarCraft   \n",
       "843                                 Text autocompletion   \n",
       "857                                                 NaN   \n",
       "858                                                 NaN   \n",
       "883                                                 NaN   \n",
       "969                                    Image generation   \n",
       "1058                                                 Go   \n",
       "1092  Image classification,Object detection,Semantic...   \n",
       "1114                     Language modelling,Translation   \n",
       "1145                               Image classification   \n",
       "1146                                        Translation   \n",
       "\n",
       "                                                Authors  \\\n",
       "75                                          Gemini Team   \n",
       "176   Ebtesam Almazrouei, Hamza Alobeidli, Abdulaziz...   \n",
       "215   Hugo Touvron, Louis Martin, Kevin Stone, Peter...   \n",
       "227   Bo Chen, Xingyi Cheng, Yangli-ao Geng, Shen Li...   \n",
       "309                                              OpenAI   \n",
       "325   Hugo Touvron, Thibaut Lavril, Gautier Izacard,...   \n",
       "380   Margaret Mitchell, Giada Pistilli, Yacine Jern...   \n",
       "395   Yi Tay, Jason Wei, Hyung Won Chung, Vinh Q. Tr...   \n",
       "421   Aohan Zeng, Xiao Liu, Zhengxiao Du, Zihan Wang...   \n",
       "442   Aitor Lewkowycz, Anders Andreassen, David Doha...   \n",
       "485   Susan Zhang∗ , Stephen Roller∗ , Naman Goyal∗ ...   \n",
       "495   Aakanksha Chowdhery, Sharan Narang, Jacob Devl...   \n",
       "517   Romal Thoppilan, Daniel De Freitas, Jamie Hall...   \n",
       "546   Nan Du, Yanping Huang, Andrew M. Dai, Simon To...   \n",
       "550   Jack W. Rae, Sebastian Borgeaud, Trevor Cai, K...   \n",
       "590   Shaden Smith, Mostofa Patwary, Brandon Norick,...   \n",
       "597   Boseop Kim, HyoungSeok Kim, Sang-Woo Lee, Gich...   \n",
       "684   Hieu Pham, Zihang Dai, Qizhe Xie, Minh-Thang L...   \n",
       "700            William Fedus, Barret Zoph, Noam Shazeer   \n",
       "772   Tom B. Brown, Benjamin Mann, Nick Ryder, Melan...   \n",
       "812   Dongling Xiao, Han Zhang, Yukun Li, Yu Sun, Ha...   \n",
       "819   Christopher Berner, Greg Brockman, Brooke Chan...   \n",
       "839   Oriol Vinyals,Igor Babuschkin,Wojciech M. Czar...   \n",
       "843   Colin Raffel, Noam Shazeer, Adam Roberts, Kath...   \n",
       "857   Mohammad Shoeybi, Mostofa Patwary, Raul Puri, ...   \n",
       "858   Mohammad Shoeybi, Mostofa Patwary, Raul Puri, ...   \n",
       "883   Yinhan Liu, Myle Ott, Naman Goyal, Jingfei Du,...   \n",
       "969                      A Brock, J Donahue, K Simonyan   \n",
       "1058  D Silver, J Schrittwieser, K Simonyan, I Anton...   \n",
       "1092  Chen Sun, Abhinav Shrivastava, Saurabh Singh, ...   \n",
       "1114        N Shazeer, A Mirhoseini, K Maziarz, A Davis   \n",
       "1145                                   François Chollet   \n",
       "1146  Yonghui Wu, Mike Schuster, Zhifeng Chen, Quoc ...   \n",
       "\n",
       "                                    Notability criteria  \\\n",
       "75                                     SOTA improvement   \n",
       "176                                    SOTA improvement   \n",
       "215   Historical significance,Significant use,Highly...   \n",
       "227                                    SOTA improvement   \n",
       "309                       Highly cited,SOTA improvement   \n",
       "325                Historical significance,Highly cited   \n",
       "380                Historical significance,Highly cited   \n",
       "395                                    SOTA improvement   \n",
       "421                                    SOTA improvement   \n",
       "442                                    SOTA improvement   \n",
       "485                        Significant use,Highly cited   \n",
       "495                       Highly cited,SOTA improvement   \n",
       "517                             Historical significance   \n",
       "546                                    SOTA improvement   \n",
       "550                                    SOTA improvement   \n",
       "590                                    SOTA improvement   \n",
       "597                                    SOTA improvement   \n",
       "684                                    SOTA improvement   \n",
       "700                       Highly cited,SOTA improvement   \n",
       "772                                        Highly cited   \n",
       "812                                    SOTA improvement   \n",
       "819                       Highly cited,SOTA improvement   \n",
       "839                                        Highly cited   \n",
       "843                                        Highly cited   \n",
       "857                       Highly cited,SOTA improvement   \n",
       "858                       Highly cited,SOTA improvement   \n",
       "883                                        Highly cited   \n",
       "969                                        Highly cited   \n",
       "1058                                       Highly cited   \n",
       "1092                                       Highly cited   \n",
       "1114                      Highly cited,SOTA improvement   \n",
       "1145                                       Highly cited   \n",
       "1146                                       Highly cited   \n",
       "\n",
       "                              Notability criteria notes  \\\n",
       "75    \" Evaluation on a broad range of benchmarks sh...   \n",
       "176   \"It's currently at the top of the Hugging Face...   \n",
       "215   Model has been open-sourced and frequently dow...   \n",
       "227   \"Our extensive experiments reveal that xTrimoP...   \n",
       "309   See the paper, p.1: \"On a suite of traditional...   \n",
       "325   Widely-used foundation model that has been ada...   \n",
       "380   Was the largest open-source model at the time....   \n",
       "395   \"We show that U-PaLM 540B outperforms PaLM 540...   \n",
       "421   \"GLM-130B achieves an accuracy of 80.2% on zer...   \n",
       "442                                                 NaN   \n",
       "485   https://ai.meta.com/blog/opt-175b-large-langua...   \n",
       "495   Demonstrates continued benefits of scaling, as...   \n",
       "517                                                 NaN   \n",
       "546   \"As shown in Table 5, GLaM (64B/64E) is better...   \n",
       "550   \"These models are evaluated on 152 diverse tas...   \n",
       "590   The 105-layer, transformer-based MT-NLG improv...   \n",
       "597   \"HyperCLOVA with our training configuration sh...   \n",
       "684                                                 NaN   \n",
       "700   \" On ANLI (Nie et al., 2019), Switch XXL impro...   \n",
       "772                                                 NaN   \n",
       "812   \"We also propose a human evaluation metric cal...   \n",
       "819   \"On April 13th, 2019, OpenAI Five became the f...   \n",
       "839                                                 NaN   \n",
       "843                                                 NaN   \n",
       "857   \"Our BERT model achieves SOTA results on the R...   \n",
       "858   \"Using the GPT-2 model we achieve SOTA results...   \n",
       "883                                                 NaN   \n",
       "969                                                 NaN   \n",
       "1058                                                NaN   \n",
       "1092                                                NaN   \n",
       "1114  \"On large language modeling and machine transl...   \n",
       "1145                                                NaN   \n",
       "1146                                                NaN   \n",
       "\n",
       "               Model accessibility  \\\n",
       "75          Hosted access (no API)   \n",
       "176   Open access (restricted use)   \n",
       "215   Open access (restricted use)   \n",
       "227                     Unreleased   \n",
       "309                     API access   \n",
       "325   Open access (non-commercial)   \n",
       "380   Open access (restricted use)   \n",
       "395                     Unreleased   \n",
       "421   Open access (non-commercial)   \n",
       "442                     Unreleased   \n",
       "485   Open access (non-commercial)   \n",
       "495                     Unreleased   \n",
       "517                     Unreleased   \n",
       "546                     Unreleased   \n",
       "550                     Unreleased   \n",
       "590                     Unreleased   \n",
       "597                     API access   \n",
       "684                     Unreleased   \n",
       "700                    Open source   \n",
       "772                     API access   \n",
       "812                     Unreleased   \n",
       "819                     Unreleased   \n",
       "839                     Unreleased   \n",
       "843                    Open source   \n",
       "857                     Unreleased   \n",
       "858                     Unreleased   \n",
       "883                    Open source   \n",
       "969                    Open source   \n",
       "1058                           NaN   \n",
       "1092                           NaN   \n",
       "1114                    Unreleased   \n",
       "1145                           NaN   \n",
       "1146        Hosted access (no API)   \n",
       "\n",
       "                                                   Link  Citations  \\\n",
       "75    https://storage.googleapis.com/deepmind-media/...      633.0   \n",
       "176   https://falconllm.tii.ae/falcon-180b.html; htt...       86.0   \n",
       "215   https://ai.meta.com/research/publications/llam...     3131.0   \n",
       "227   https://www.biorxiv.org/content/10.1101/2023.0...       32.0   \n",
       "309                    https://arxiv.org/abs/2303.08774     3280.0   \n",
       "325                    https://arxiv.org/abs/2302.13971     4640.0   \n",
       "380                    https://arxiv.org/abs/2211.05100     1313.0   \n",
       "395                    https://arxiv.org/abs/2210.11399       45.0   \n",
       "421   https://keg.cs.tsinghua.edu.cn/glm-130b/posts/...      641.0   \n",
       "442                    https://arxiv.org/abs/2206.14858      427.0   \n",
       "485   https://ai.facebook.com/blog/democratizing-acc...     1987.0   \n",
       "495                    https://arxiv.org/abs/2204.02311     3532.0   \n",
       "517                    https://arxiv.org/abs/2201.08239     1082.0   \n",
       "546                    https://arxiv.org/abs/2112.06905      440.0   \n",
       "550                    https://arxiv.org/abs/2112.11446      917.0   \n",
       "590                    https://arxiv.org/abs/2201.11990      544.0   \n",
       "597                    https://arxiv.org/abs/2109.04650       92.0   \n",
       "684                    https://arxiv.org/abs/2003.10580      535.0   \n",
       "700                    https://arxiv.org/abs/2101.03961     1163.0   \n",
       "772                    https://arxiv.org/abs/2005.14165    23023.0   \n",
       "812                    https://arxiv.org/abs/2001.09977      805.0   \n",
       "819                    https://arxiv.org/abs/1912.06680     1420.0   \n",
       "839   https://www.deepmind.com/blog/alphastar-grandm...     2870.0   \n",
       "843                    https://arxiv.org/abs/1910.10683    12884.0   \n",
       "857                    https://arxiv.org/abs/1909.08053     1152.0   \n",
       "858                    https://arxiv.org/abs/1909.08053     1152.0   \n",
       "883                    https://arxiv.org/abs/1907.11692    17972.0   \n",
       "969                    https://arxiv.org/abs/1809.11096     4398.0   \n",
       "1058        https://www.nature.com/articles/nature24270     8103.0   \n",
       "1092                   https://arxiv.org/abs/1707.02968     2022.0   \n",
       "1114                   https://arxiv.org/abs/1701.06538     1531.0   \n",
       "1145                   https://arxiv.org/abs/1610.02357    11578.0   \n",
       "1146                   https://arxiv.org/abs/1609.08144     6196.0   \n",
       "\n",
       "                                              Reference  ...  \\\n",
       "75    Gemini: A Family of Highly Capable Multimodal ...  ...   \n",
       "176           The Falcon Series of Open Language Models  ...   \n",
       "215   Llama 2: Open Foundation and Fine-Tuned Chat M...  ...   \n",
       "227   xTrimoPGLM: Unified 100B-Scale Pre-trained Tra...  ...   \n",
       "309                              GPT-4 Technical Report  ...   \n",
       "325   LLaMA: Open and Efficient Foundation Language ...  ...   \n",
       "380   BLOOM: A 176B-Parameter Open-Access Multilingu...  ...   \n",
       "395   Transcending Scaling Laws with 0.1% Extra Compute  ...   \n",
       "421       GLM-130B: An Open Bilingual Pre-trained Model  ...   \n",
       "442   Solving Quantitative Reasoning Problems with L...  ...   \n",
       "485   OPT: Open Pre-trained Transformer Language Models  ...   \n",
       "495       PaLM: Scaling Language Modeling with Pathways  ...   \n",
       "517      LaMDA: Language Models for Dialog Applications  ...   \n",
       "546   GLaM: Efficient Scaling of Language Models wit...  ...   \n",
       "550   \"Scaling Language Models: Methods, Analysis & ...  ...   \n",
       "590   Using DeepSpeed and Megatron to Train Megatron...  ...   \n",
       "597   What Changes Can Large-scale Language Models B...  ...   \n",
       "684                                  Meta pseudo labels  ...   \n",
       "700   Switch Transformers: Scaling to Trillion Param...  ...   \n",
       "772               Language Models are Few-Shot Learners  ...   \n",
       "812            Towards a Human-like Open-Domain Chatbot  ...   \n",
       "819   Dota 2 with Large Scale Deep Reinforcement Lea...  ...   \n",
       "839   Grandmaster level in StarCraft II using multi-...  ...   \n",
       "843   Exploring the Limits of Transfer Learning with...  ...   \n",
       "857   Megatron-LM: Training Multi-Billion Parameter ...  ...   \n",
       "858   Megatron-LM: Training Multi-Billion Parameter ...  ...   \n",
       "883   RoBERTa: A Robustly Optimized BERT Pretraining...  ...   \n",
       "969   Large Scale GAN Training for High Fidelity Nat...  ...   \n",
       "1058   Mastering the game of Go without human knowledge  ...   \n",
       "1092  Revisiting Unreasonable Effectiveness of Data ...  ...   \n",
       "1114  Outrageously Large Neural Networks: The Sparse...  ...   \n",
       "1145  Xception: Deep Learning with Depthwise Separab...  ...   \n",
       "1146  Google's Neural Machine Translation System: Br...  ...   \n",
       "\n",
       "       Organization categorization Foundation model  \\\n",
       "75                        Industry              NaN   \n",
       "176                     Government              NaN   \n",
       "215                       Industry              NaN   \n",
       "227              Academia,Industry              NaN   \n",
       "309                       Industry          checked   \n",
       "325                       Industry          checked   \n",
       "380   Industry,Research collective          checked   \n",
       "395                       Industry              NaN   \n",
       "421                       Academia          checked   \n",
       "442                       Industry          checked   \n",
       "485                       Industry              NaN   \n",
       "495                       Industry          checked   \n",
       "517                       Industry          checked   \n",
       "546                       Industry          checked   \n",
       "550                       Industry              NaN   \n",
       "590              Industry,Industry          checked   \n",
       "597              Industry,Industry          checked   \n",
       "684              Industry,Industry              NaN   \n",
       "700                       Industry              NaN   \n",
       "772                       Industry          checked   \n",
       "812                       Industry              NaN   \n",
       "819                       Industry              NaN   \n",
       "839                       Industry              NaN   \n",
       "843                       Industry              NaN   \n",
       "857                       Industry              NaN   \n",
       "858                       Industry              NaN   \n",
       "883              Industry,Academia              NaN   \n",
       "969              Academia,Industry              NaN   \n",
       "1058                      Industry              NaN   \n",
       "1092             Industry,Academia              NaN   \n",
       "1114             Academia,Industry              NaN   \n",
       "1145                      Industry              NaN   \n",
       "1146                      Industry              NaN   \n",
       "\n",
       "      Training compute lower bound Training compute upper bound  \\\n",
       "75                             NaN                          NaN   \n",
       "176                            NaN                          NaN   \n",
       "215                            NaN                          NaN   \n",
       "227                            NaN                          NaN   \n",
       "309                            NaN                          NaN   \n",
       "325                            NaN                          NaN   \n",
       "380                            NaN                          NaN   \n",
       "395                            NaN                          NaN   \n",
       "421                            NaN                          NaN   \n",
       "442                            NaN                          NaN   \n",
       "485                            NaN                          NaN   \n",
       "495                            NaN                          NaN   \n",
       "517                            NaN                          NaN   \n",
       "546                            NaN                          NaN   \n",
       "550                            NaN                          NaN   \n",
       "590                            NaN                          NaN   \n",
       "597                            NaN                          NaN   \n",
       "684                            NaN                          NaN   \n",
       "700                            NaN                          NaN   \n",
       "772                            NaN                          NaN   \n",
       "812                            NaN                          NaN   \n",
       "819                            NaN                          NaN   \n",
       "839                            NaN                          NaN   \n",
       "843                            NaN                          NaN   \n",
       "857                            NaN                          NaN   \n",
       "858                            NaN                          NaN   \n",
       "883                            NaN                          NaN   \n",
       "969                            NaN                          NaN   \n",
       "1058                           NaN                          NaN   \n",
       "1092                           NaN                          NaN   \n",
       "1114                           NaN                          NaN   \n",
       "1145                           NaN                          NaN   \n",
       "1146                           NaN                          NaN   \n",
       "\n",
       "      Training chip-hours Code accessibility Dataset accessibility  \\\n",
       "75            132000000.0                NaN                   NaN   \n",
       "176            17694720.0                NaN                   NaN   \n",
       "215             1720320.0                NaN                   NaN   \n",
       "227                2352.0         Unreleased                   NaN   \n",
       "309            57000000.0                NaN                   NaN   \n",
       "325             1024000.0         Unreleased                   NaN   \n",
       "380             1078272.0                NaN                   NaN   \n",
       "395               61440.0                NaN                   NaN   \n",
       "421             1105920.0                NaN                   NaN   \n",
       "442              712704.0         Unreleased            Unreleased   \n",
       "485              812544.0        Open source                   NaN   \n",
       "495             8404992.0                NaN                   NaN   \n",
       "517             1418240.0                NaN                   NaN   \n",
       "546             1398784.0         Unreleased            Unreleased   \n",
       "550             3768320.0         Unreleased            Unreleased   \n",
       "590             3449600.0         Unreleased                   NaN   \n",
       "597              658637.0         Unreleased                   NaN   \n",
       "684              270336.0        Open source                   NaN   \n",
       "700              663552.0        Open source                   NaN   \n",
       "772             3552000.0         Unreleased                   NaN   \n",
       "812              737280.0                NaN                   NaN   \n",
       "819            10911744.0         Unreleased            Unreleased   \n",
       "839              405504.0        Open source            Unreleased   \n",
       "843              246733.0        Open source           Open source   \n",
       "857              712704.0                NaN                   NaN   \n",
       "858              167424.0                NaN                   NaN   \n",
       "883              122880.0        Open source            Unreleased   \n",
       "969               12288.0         Unreleased                   NaN   \n",
       "1058                  NaN                NaN                   NaN   \n",
       "1092              72000.0                NaN                   NaN   \n",
       "1114                  NaN                NaN                   NaN   \n",
       "1145              43200.0                NaN                   NaN   \n",
       "1146             414720.0                NaN                   NaN   \n",
       "\n",
       "                                    Accessibility notes  \\\n",
       "75                                                  NaN   \n",
       "176   \"Falcon 180b can be commercially used but unde...   \n",
       "215   Llama 2 license. can't use outputs to train mo...   \n",
       "227                                                 NaN   \n",
       "309                                                 NaN   \n",
       "325   \"we are releasing our model under a noncommerc...   \n",
       "380   responsible use restrictions: https://bigscien...   \n",
       "395                                                 NaN   \n",
       "421   non commercial: https://github.com/THUDM/GLM-1...   \n",
       "442                                                 NaN   \n",
       "485   non-commercial for weights:\\nhttps://github.co...   \n",
       "495                                                 NaN   \n",
       "517                                                 NaN   \n",
       "546                                                 NaN   \n",
       "550                                                 NaN   \n",
       "590                                                 NaN   \n",
       "597   \"We introduce HyperCLOVA Studio, an interactiv...   \n",
       "684   Apache-2.0 license\\nhttps://github.com/google-...   \n",
       "700   Apache 2\\nhttps://github.com/google-research/t...   \n",
       "772                https://openai.com/blog/openai-api\\n   \n",
       "812                                                 NaN   \n",
       "819                                                 NaN   \n",
       "839   Apache 2.0, training tools only: https://githu...   \n",
       "843   Apache for code and weights:\\nhttps://github.c...   \n",
       "857                                                 NaN   \n",
       "858                                                 NaN   \n",
       "883   code and weights: https://github.com/facebookr...   \n",
       "969   repo license is Apache:\\n\\nhttps://github.com/...   \n",
       "1058                                                NaN   \n",
       "1092                                                NaN   \n",
       "1114                                                NaN   \n",
       "1145                                                NaN   \n",
       "1146           presumably deployed via Google translate   \n",
       "\n",
       "      Organization categorization (from Organization) Possibly over 1e23 FLOP  \n",
       "75                                           Industry                     NaN  \n",
       "176                                        Government                     NaN  \n",
       "215                                          Industry                     NaN  \n",
       "227                                 Academia,Industry                     NaN  \n",
       "309                                          Industry                     NaN  \n",
       "325                                          Industry                     NaN  \n",
       "380                      Industry,Research collective                     NaN  \n",
       "395                                          Industry                     NaN  \n",
       "421                                          Academia                     NaN  \n",
       "442                                          Industry                     NaN  \n",
       "485                                          Industry                     NaN  \n",
       "495                                          Industry                     NaN  \n",
       "517                                          Industry                     NaN  \n",
       "546                                          Industry                     NaN  \n",
       "550                                          Industry                     NaN  \n",
       "590                                 Industry,Industry                     NaN  \n",
       "597                                 Industry,Industry                     NaN  \n",
       "684                                 Industry,Industry                     NaN  \n",
       "700                                          Industry                     NaN  \n",
       "772                                          Industry                     NaN  \n",
       "812                                          Industry                     NaN  \n",
       "819                                          Industry                     NaN  \n",
       "839                                          Industry                     NaN  \n",
       "843                                          Industry                     NaN  \n",
       "857                                          Industry                     NaN  \n",
       "858                                          Industry                     NaN  \n",
       "883                                 Industry,Academia                     NaN  \n",
       "969                                 Academia,Industry                     NaN  \n",
       "1058                                         Industry                     NaN  \n",
       "1092                                Industry,Academia                     NaN  \n",
       "1114                                Academia,Industry                     NaN  \n",
       "1145                                         Industry                     NaN  \n",
       "1146                                         Industry                     NaN  \n",
       "\n",
       "[33 rows x 58 columns]"
      ]
     },
     "execution_count": 33,
     "metadata": {},
     "output_type": "execute_result"
    }
   ],
   "source": [
    "training_time_df = frontier_pcd_df.dropna(subset=['Training time (hours)'])\n",
    "training_time_df"
   ]
  },
  {
   "cell_type": "code",
   "execution_count": 34,
   "metadata": {},
   "outputs": [
    {
     "name": "stderr",
     "output_type": "stream",
     "text": [
      "/var/folders/s2/stl5t_bn7xg9vdfxxr71rzrc0000gn/T/ipykernel_99250/1688430577.py:1: SettingWithCopyWarning:\n",
      "\n",
      "\n",
      "A value is trying to be set on a copy of a slice from a DataFrame.\n",
      "Try using .loc[row_indexer,col_indexer] = value instead\n",
      "\n",
      "See the caveats in the documentation: https://pandas.pydata.org/pandas-docs/stable/user_guide/indexing.html#returning-a-view-versus-a-copy\n",
      "\n"
     ]
    },
    {
     "data": {
      "text/html": [
       "<table class=\"simpletable\">\n",
       "<caption>OLS Regression Results</caption>\n",
       "<tr>\n",
       "  <th>Dep. Variable:</th>            <td>y</td>        <th>  R-squared:         </th> <td>   0.080</td>\n",
       "</tr>\n",
       "<tr>\n",
       "  <th>Model:</th>                   <td>OLS</td>       <th>  Adj. R-squared:    </th> <td>   0.050</td>\n",
       "</tr>\n",
       "<tr>\n",
       "  <th>Method:</th>             <td>Least Squares</td>  <th>  F-statistic:       </th> <td>   2.683</td>\n",
       "</tr>\n",
       "<tr>\n",
       "  <th>Date:</th>             <td>Mon, 06 May 2024</td> <th>  Prob (F-statistic):</th>  <td> 0.112</td> \n",
       "</tr>\n",
       "<tr>\n",
       "  <th>Time:</th>                 <td>18:16:08</td>     <th>  Log-Likelihood:    </th> <td> -20.678</td>\n",
       "</tr>\n",
       "<tr>\n",
       "  <th>No. Observations:</th>      <td>    33</td>      <th>  AIC:               </th> <td>   45.36</td>\n",
       "</tr>\n",
       "<tr>\n",
       "  <th>Df Residuals:</th>          <td>    31</td>      <th>  BIC:               </th> <td>   48.35</td>\n",
       "</tr>\n",
       "<tr>\n",
       "  <th>Df Model:</th>              <td>     1</td>      <th>                     </th>     <td> </td>   \n",
       "</tr>\n",
       "<tr>\n",
       "  <th>Covariance Type:</th>      <td>nonrobust</td>    <th>                     </th>     <td> </td>   \n",
       "</tr>\n",
       "</table>\n",
       "<table class=\"simpletable\">\n",
       "<tr>\n",
       "    <td></td>       <th>coef</th>     <th>std err</th>      <th>t</th>      <th>P>|t|</th>  <th>[0.025</th>    <th>0.975]</th>  \n",
       "</tr>\n",
       "<tr>\n",
       "  <th>const</th> <td> -124.7684</td> <td>   77.959</td> <td>   -1.600</td> <td> 0.120</td> <td> -283.767</td> <td>   34.230</td>\n",
       "</tr>\n",
       "<tr>\n",
       "  <th>x1</th>    <td>    0.0632</td> <td>    0.039</td> <td>    1.638</td> <td> 0.112</td> <td>   -0.015</td> <td>    0.142</td>\n",
       "</tr>\n",
       "</table>\n",
       "<table class=\"simpletable\">\n",
       "<tr>\n",
       "  <th>Omnibus:</th>       <td> 1.691</td> <th>  Durbin-Watson:     </th> <td>   1.540</td>\n",
       "</tr>\n",
       "<tr>\n",
       "  <th>Prob(Omnibus):</th> <td> 0.429</td> <th>  Jarque-Bera (JB):  </th> <td>   0.688</td>\n",
       "</tr>\n",
       "<tr>\n",
       "  <th>Skew:</th>          <td>-0.224</td> <th>  Prob(JB):          </th> <td>   0.709</td>\n",
       "</tr>\n",
       "<tr>\n",
       "  <th>Kurtosis:</th>      <td> 3.547</td> <th>  Cond. No.          </th> <td>1.94e+06</td>\n",
       "</tr>\n",
       "</table><br/><br/>Notes:<br/>[1] Standard Errors assume that the covariance matrix of the errors is correctly specified.<br/>[2] The condition number is large, 1.94e+06. This might indicate that there are<br/>strong multicollinearity or other numerical problems."
      ],
      "text/latex": [
       "\\begin{center}\n",
       "\\begin{tabular}{lclc}\n",
       "\\toprule\n",
       "\\textbf{Dep. Variable:}    &        y         & \\textbf{  R-squared:         } &     0.080   \\\\\n",
       "\\textbf{Model:}            &       OLS        & \\textbf{  Adj. R-squared:    } &     0.050   \\\\\n",
       "\\textbf{Method:}           &  Least Squares   & \\textbf{  F-statistic:       } &     2.683   \\\\\n",
       "\\textbf{Date:}             & Mon, 06 May 2024 & \\textbf{  Prob (F-statistic):} &    0.112    \\\\\n",
       "\\textbf{Time:}             &     18:16:08     & \\textbf{  Log-Likelihood:    } &   -20.678   \\\\\n",
       "\\textbf{No. Observations:} &          33      & \\textbf{  AIC:               } &     45.36   \\\\\n",
       "\\textbf{Df Residuals:}     &          31      & \\textbf{  BIC:               } &     48.35   \\\\\n",
       "\\textbf{Df Model:}         &           1      & \\textbf{                     } &             \\\\\n",
       "\\textbf{Covariance Type:}  &    nonrobust     & \\textbf{                     } &             \\\\\n",
       "\\bottomrule\n",
       "\\end{tabular}\n",
       "\\begin{tabular}{lcccccc}\n",
       "               & \\textbf{coef} & \\textbf{std err} & \\textbf{t} & \\textbf{P$> |$t$|$} & \\textbf{[0.025} & \\textbf{0.975]}  \\\\\n",
       "\\midrule\n",
       "\\textbf{const} &    -124.7684  &       77.959     &    -1.600  &         0.120        &     -283.767    &       34.230     \\\\\n",
       "\\textbf{x1}    &       0.0632  &        0.039     &     1.638  &         0.112        &       -0.015    &        0.142     \\\\\n",
       "\\bottomrule\n",
       "\\end{tabular}\n",
       "\\begin{tabular}{lclc}\n",
       "\\textbf{Omnibus:}       &  1.691 & \\textbf{  Durbin-Watson:     } &    1.540  \\\\\n",
       "\\textbf{Prob(Omnibus):} &  0.429 & \\textbf{  Jarque-Bera (JB):  } &    0.688  \\\\\n",
       "\\textbf{Skew:}          & -0.224 & \\textbf{  Prob(JB):          } &    0.709  \\\\\n",
       "\\textbf{Kurtosis:}      &  3.547 & \\textbf{  Cond. No.          } & 1.94e+06  \\\\\n",
       "\\bottomrule\n",
       "\\end{tabular}\n",
       "%\\caption{OLS Regression Results}\n",
       "\\end{center}\n",
       "\n",
       "Notes: \\newline\n",
       " [1] Standard Errors assume that the covariance matrix of the errors is correctly specified. \\newline\n",
       " [2] The condition number is large, 1.94e+06. This might indicate that there are \\newline\n",
       " strong multicollinearity or other numerical problems."
      ],
      "text/plain": [
       "<class 'statsmodels.iolib.summary.Summary'>\n",
       "\"\"\"\n",
       "                            OLS Regression Results                            \n",
       "==============================================================================\n",
       "Dep. Variable:                      y   R-squared:                       0.080\n",
       "Model:                            OLS   Adj. R-squared:                  0.050\n",
       "Method:                 Least Squares   F-statistic:                     2.683\n",
       "Date:                Mon, 06 May 2024   Prob (F-statistic):              0.112\n",
       "Time:                        18:16:08   Log-Likelihood:                -20.678\n",
       "No. Observations:                  33   AIC:                             45.36\n",
       "Df Residuals:                      31   BIC:                             48.35\n",
       "Df Model:                           1                                         \n",
       "Covariance Type:            nonrobust                                         \n",
       "==============================================================================\n",
       "                 coef    std err          t      P>|t|      [0.025      0.975]\n",
       "------------------------------------------------------------------------------\n",
       "const       -124.7684     77.959     -1.600      0.120    -283.767      34.230\n",
       "x1             0.0632      0.039      1.638      0.112      -0.015       0.142\n",
       "==============================================================================\n",
       "Omnibus:                        1.691   Durbin-Watson:                   1.540\n",
       "Prob(Omnibus):                  0.429   Jarque-Bera (JB):                0.688\n",
       "Skew:                          -0.224   Prob(JB):                        0.709\n",
       "Kurtosis:                       3.547   Cond. No.                     1.94e+06\n",
       "==============================================================================\n",
       "\n",
       "Notes:\n",
       "[1] Standard Errors assume that the covariance matrix of the errors is correctly specified.\n",
       "[2] The condition number is large, 1.94e+06. This might indicate that there are\n",
       "strong multicollinearity or other numerical problems.\n",
       "\"\"\""
      ]
     },
     "execution_count": 34,
     "metadata": {},
     "output_type": "execute_result"
    }
   ],
   "source": [
    "training_time_df['Publication date (float)'] = datetime_to_float_year(pd.to_datetime(training_time_df['Publication date']))\n",
    "reg_results = fit_ols_regression(training_time_df, ['Publication date (float)'], 'Training time (hours)', logy=True)\n",
    "reg_results.summary()"
   ]
  },
  {
   "cell_type": "code",
   "execution_count": 35,
   "metadata": {},
   "outputs": [
    {
     "data": {
      "application/vnd.plotly.v1+json": {
       "config": {
        "plotlyServerURL": "https://plot.ly"
       },
       "data": [
        {
         "mode": "markers",
         "text": [
          "Gemini Ultra",
          "Falcon-180B",
          "Llama 2-70B",
          "xTrimoPGLM -100B",
          "GPT-4",
          "LLaMA-65B",
          "BLOOM-176B",
          "U-PaLM (540B)",
          "GLM-130B",
          "Minerva (540B)",
          "OPT-175B",
          "PaLM (540B)",
          "LaMDA",
          "GLaM",
          "Gopher (280B)",
          "Megatron-Turing NLG 530B",
          "HyperCLOVA",
          "Meta Pseudo Labels",
          "Switch",
          "GPT-3 175B (davinci)",
          "Meena",
          "OpenAI Five",
          "AlphaStar",
          "T5-11B",
          "Megatron-BERT",
          "Megatron-LM (8.3B)",
          "RoBERTa Large",
          "BigGAN-deep 512x512",
          "AlphaGo Zero",
          "JFT",
          "MoE",
          "Xception",
          "GNMT"
         ],
         "type": "scatter",
         "x": [
          "2023-12-06T00:00:00",
          "2023-09-06T00:00:00",
          "2023-07-18T00:00:00",
          "2023-07-06T00:00:00",
          "2023-03-15T00:00:00",
          "2023-02-24T00:00:00",
          "2022-11-08T00:00:00",
          "2022-10-20T00:00:00",
          "2022-08-04T00:00:00",
          "2022-06-29T00:00:00",
          "2022-05-02T00:00:00",
          "2022-04-04T00:00:00",
          "2022-02-10T00:00:00",
          "2021-12-13T00:00:00",
          "2021-12-08T00:00:00",
          "2021-10-11T00:00:00",
          "2021-09-10T00:00:00",
          "2021-03-01T00:00:00",
          "2021-01-11T00:00:00",
          "2020-05-28T00:00:00",
          "2020-01-28T00:00:00",
          "2019-12-13T00:00:00",
          "2019-10-30T00:00:00",
          "2019-10-23T00:00:00",
          "2019-09-17T00:00:00",
          "2019-09-17T00:00:00",
          "2019-07-01T00:00:00",
          "2018-09-28T00:00:00",
          "2017-10-18T00:00:00",
          "2017-07-10T00:00:00",
          "2017-01-23T00:00:00",
          "2016-10-07T00:00:00",
          "2016-09-26T00:00:00"
         ],
         "y": [
          2400,
          4320,
          1728,
          3912,
          2280,
          500,
          2808,
          120,
          1440,
          696,
          793.5,
          1368,
          1385,
          1366,
          920,
          770,
          643.2,
          264,
          648,
          355.2,
          720,
          7104,
          1056,
          481.9,
          1392,
          327,
          120,
          48,
          480,
          1440,
          288,
          720,
          4320
         ]
        }
       ],
       "layout": {
        "height": 600,
        "template": {
         "data": {
          "bar": [
           {
            "error_x": {
             "color": "#2a3f5f"
            },
            "error_y": {
             "color": "#2a3f5f"
            },
            "marker": {
             "line": {
              "color": "#E5ECF6",
              "width": 0.5
             },
             "pattern": {
              "fillmode": "overlay",
              "size": 10,
              "solidity": 0.2
             }
            },
            "type": "bar"
           }
          ],
          "barpolar": [
           {
            "marker": {
             "line": {
              "color": "#E5ECF6",
              "width": 0.5
             },
             "pattern": {
              "fillmode": "overlay",
              "size": 10,
              "solidity": 0.2
             }
            },
            "type": "barpolar"
           }
          ],
          "carpet": [
           {
            "aaxis": {
             "endlinecolor": "#2a3f5f",
             "gridcolor": "white",
             "linecolor": "white",
             "minorgridcolor": "white",
             "startlinecolor": "#2a3f5f"
            },
            "baxis": {
             "endlinecolor": "#2a3f5f",
             "gridcolor": "white",
             "linecolor": "white",
             "minorgridcolor": "white",
             "startlinecolor": "#2a3f5f"
            },
            "type": "carpet"
           }
          ],
          "choropleth": [
           {
            "colorbar": {
             "outlinewidth": 0,
             "ticks": ""
            },
            "type": "choropleth"
           }
          ],
          "contour": [
           {
            "colorbar": {
             "outlinewidth": 0,
             "ticks": ""
            },
            "colorscale": [
             [
              0,
              "#0d0887"
             ],
             [
              0.1111111111111111,
              "#46039f"
             ],
             [
              0.2222222222222222,
              "#7201a8"
             ],
             [
              0.3333333333333333,
              "#9c179e"
             ],
             [
              0.4444444444444444,
              "#bd3786"
             ],
             [
              0.5555555555555556,
              "#d8576b"
             ],
             [
              0.6666666666666666,
              "#ed7953"
             ],
             [
              0.7777777777777778,
              "#fb9f3a"
             ],
             [
              0.8888888888888888,
              "#fdca26"
             ],
             [
              1,
              "#f0f921"
             ]
            ],
            "type": "contour"
           }
          ],
          "contourcarpet": [
           {
            "colorbar": {
             "outlinewidth": 0,
             "ticks": ""
            },
            "type": "contourcarpet"
           }
          ],
          "heatmap": [
           {
            "colorbar": {
             "outlinewidth": 0,
             "ticks": ""
            },
            "colorscale": [
             [
              0,
              "#0d0887"
             ],
             [
              0.1111111111111111,
              "#46039f"
             ],
             [
              0.2222222222222222,
              "#7201a8"
             ],
             [
              0.3333333333333333,
              "#9c179e"
             ],
             [
              0.4444444444444444,
              "#bd3786"
             ],
             [
              0.5555555555555556,
              "#d8576b"
             ],
             [
              0.6666666666666666,
              "#ed7953"
             ],
             [
              0.7777777777777778,
              "#fb9f3a"
             ],
             [
              0.8888888888888888,
              "#fdca26"
             ],
             [
              1,
              "#f0f921"
             ]
            ],
            "type": "heatmap"
           }
          ],
          "heatmapgl": [
           {
            "colorbar": {
             "outlinewidth": 0,
             "ticks": ""
            },
            "colorscale": [
             [
              0,
              "#0d0887"
             ],
             [
              0.1111111111111111,
              "#46039f"
             ],
             [
              0.2222222222222222,
              "#7201a8"
             ],
             [
              0.3333333333333333,
              "#9c179e"
             ],
             [
              0.4444444444444444,
              "#bd3786"
             ],
             [
              0.5555555555555556,
              "#d8576b"
             ],
             [
              0.6666666666666666,
              "#ed7953"
             ],
             [
              0.7777777777777778,
              "#fb9f3a"
             ],
             [
              0.8888888888888888,
              "#fdca26"
             ],
             [
              1,
              "#f0f921"
             ]
            ],
            "type": "heatmapgl"
           }
          ],
          "histogram": [
           {
            "marker": {
             "pattern": {
              "fillmode": "overlay",
              "size": 10,
              "solidity": 0.2
             }
            },
            "type": "histogram"
           }
          ],
          "histogram2d": [
           {
            "colorbar": {
             "outlinewidth": 0,
             "ticks": ""
            },
            "colorscale": [
             [
              0,
              "#0d0887"
             ],
             [
              0.1111111111111111,
              "#46039f"
             ],
             [
              0.2222222222222222,
              "#7201a8"
             ],
             [
              0.3333333333333333,
              "#9c179e"
             ],
             [
              0.4444444444444444,
              "#bd3786"
             ],
             [
              0.5555555555555556,
              "#d8576b"
             ],
             [
              0.6666666666666666,
              "#ed7953"
             ],
             [
              0.7777777777777778,
              "#fb9f3a"
             ],
             [
              0.8888888888888888,
              "#fdca26"
             ],
             [
              1,
              "#f0f921"
             ]
            ],
            "type": "histogram2d"
           }
          ],
          "histogram2dcontour": [
           {
            "colorbar": {
             "outlinewidth": 0,
             "ticks": ""
            },
            "colorscale": [
             [
              0,
              "#0d0887"
             ],
             [
              0.1111111111111111,
              "#46039f"
             ],
             [
              0.2222222222222222,
              "#7201a8"
             ],
             [
              0.3333333333333333,
              "#9c179e"
             ],
             [
              0.4444444444444444,
              "#bd3786"
             ],
             [
              0.5555555555555556,
              "#d8576b"
             ],
             [
              0.6666666666666666,
              "#ed7953"
             ],
             [
              0.7777777777777778,
              "#fb9f3a"
             ],
             [
              0.8888888888888888,
              "#fdca26"
             ],
             [
              1,
              "#f0f921"
             ]
            ],
            "type": "histogram2dcontour"
           }
          ],
          "mesh3d": [
           {
            "colorbar": {
             "outlinewidth": 0,
             "ticks": ""
            },
            "type": "mesh3d"
           }
          ],
          "parcoords": [
           {
            "line": {
             "colorbar": {
              "outlinewidth": 0,
              "ticks": ""
             }
            },
            "type": "parcoords"
           }
          ],
          "pie": [
           {
            "automargin": true,
            "type": "pie"
           }
          ],
          "scatter": [
           {
            "fillpattern": {
             "fillmode": "overlay",
             "size": 10,
             "solidity": 0.2
            },
            "type": "scatter"
           }
          ],
          "scatter3d": [
           {
            "line": {
             "colorbar": {
              "outlinewidth": 0,
              "ticks": ""
             }
            },
            "marker": {
             "colorbar": {
              "outlinewidth": 0,
              "ticks": ""
             }
            },
            "type": "scatter3d"
           }
          ],
          "scattercarpet": [
           {
            "marker": {
             "colorbar": {
              "outlinewidth": 0,
              "ticks": ""
             }
            },
            "type": "scattercarpet"
           }
          ],
          "scattergeo": [
           {
            "marker": {
             "colorbar": {
              "outlinewidth": 0,
              "ticks": ""
             }
            },
            "type": "scattergeo"
           }
          ],
          "scattergl": [
           {
            "marker": {
             "colorbar": {
              "outlinewidth": 0,
              "ticks": ""
             }
            },
            "type": "scattergl"
           }
          ],
          "scattermapbox": [
           {
            "marker": {
             "colorbar": {
              "outlinewidth": 0,
              "ticks": ""
             }
            },
            "type": "scattermapbox"
           }
          ],
          "scatterpolar": [
           {
            "marker": {
             "colorbar": {
              "outlinewidth": 0,
              "ticks": ""
             }
            },
            "type": "scatterpolar"
           }
          ],
          "scatterpolargl": [
           {
            "marker": {
             "colorbar": {
              "outlinewidth": 0,
              "ticks": ""
             }
            },
            "type": "scatterpolargl"
           }
          ],
          "scatterternary": [
           {
            "marker": {
             "colorbar": {
              "outlinewidth": 0,
              "ticks": ""
             }
            },
            "type": "scatterternary"
           }
          ],
          "surface": [
           {
            "colorbar": {
             "outlinewidth": 0,
             "ticks": ""
            },
            "colorscale": [
             [
              0,
              "#0d0887"
             ],
             [
              0.1111111111111111,
              "#46039f"
             ],
             [
              0.2222222222222222,
              "#7201a8"
             ],
             [
              0.3333333333333333,
              "#9c179e"
             ],
             [
              0.4444444444444444,
              "#bd3786"
             ],
             [
              0.5555555555555556,
              "#d8576b"
             ],
             [
              0.6666666666666666,
              "#ed7953"
             ],
             [
              0.7777777777777778,
              "#fb9f3a"
             ],
             [
              0.8888888888888888,
              "#fdca26"
             ],
             [
              1,
              "#f0f921"
             ]
            ],
            "type": "surface"
           }
          ],
          "table": [
           {
            "cells": {
             "fill": {
              "color": "#EBF0F8"
             },
             "line": {
              "color": "white"
             }
            },
            "header": {
             "fill": {
              "color": "#C8D4E3"
             },
             "line": {
              "color": "white"
             }
            },
            "type": "table"
           }
          ]
         },
         "layout": {
          "annotationdefaults": {
           "arrowcolor": "#2a3f5f",
           "arrowhead": 0,
           "arrowwidth": 1
          },
          "autotypenumbers": "strict",
          "coloraxis": {
           "colorbar": {
            "outlinewidth": 0,
            "ticks": ""
           }
          },
          "colorscale": {
           "diverging": [
            [
             0,
             "#8e0152"
            ],
            [
             0.1,
             "#c51b7d"
            ],
            [
             0.2,
             "#de77ae"
            ],
            [
             0.3,
             "#f1b6da"
            ],
            [
             0.4,
             "#fde0ef"
            ],
            [
             0.5,
             "#f7f7f7"
            ],
            [
             0.6,
             "#e6f5d0"
            ],
            [
             0.7,
             "#b8e186"
            ],
            [
             0.8,
             "#7fbc41"
            ],
            [
             0.9,
             "#4d9221"
            ],
            [
             1,
             "#276419"
            ]
           ],
           "sequential": [
            [
             0,
             "#0d0887"
            ],
            [
             0.1111111111111111,
             "#46039f"
            ],
            [
             0.2222222222222222,
             "#7201a8"
            ],
            [
             0.3333333333333333,
             "#9c179e"
            ],
            [
             0.4444444444444444,
             "#bd3786"
            ],
            [
             0.5555555555555556,
             "#d8576b"
            ],
            [
             0.6666666666666666,
             "#ed7953"
            ],
            [
             0.7777777777777778,
             "#fb9f3a"
            ],
            [
             0.8888888888888888,
             "#fdca26"
            ],
            [
             1,
             "#f0f921"
            ]
           ],
           "sequentialminus": [
            [
             0,
             "#0d0887"
            ],
            [
             0.1111111111111111,
             "#46039f"
            ],
            [
             0.2222222222222222,
             "#7201a8"
            ],
            [
             0.3333333333333333,
             "#9c179e"
            ],
            [
             0.4444444444444444,
             "#bd3786"
            ],
            [
             0.5555555555555556,
             "#d8576b"
            ],
            [
             0.6666666666666666,
             "#ed7953"
            ],
            [
             0.7777777777777778,
             "#fb9f3a"
            ],
            [
             0.8888888888888888,
             "#fdca26"
            ],
            [
             1,
             "#f0f921"
            ]
           ]
          },
          "colorway": [
           "#636efa",
           "#EF553B",
           "#00cc96",
           "#ab63fa",
           "#FFA15A",
           "#19d3f3",
           "#FF6692",
           "#B6E880",
           "#FF97FF",
           "#FECB52"
          ],
          "font": {
           "color": "#2a3f5f"
          },
          "geo": {
           "bgcolor": "white",
           "lakecolor": "white",
           "landcolor": "#E5ECF6",
           "showlakes": true,
           "showland": true,
           "subunitcolor": "white"
          },
          "hoverlabel": {
           "align": "left"
          },
          "hovermode": "closest",
          "mapbox": {
           "style": "light"
          },
          "paper_bgcolor": "white",
          "plot_bgcolor": "#E5ECF6",
          "polar": {
           "angularaxis": {
            "gridcolor": "white",
            "linecolor": "white",
            "ticks": ""
           },
           "bgcolor": "#E5ECF6",
           "radialaxis": {
            "gridcolor": "white",
            "linecolor": "white",
            "ticks": ""
           }
          },
          "scene": {
           "xaxis": {
            "backgroundcolor": "#E5ECF6",
            "gridcolor": "white",
            "gridwidth": 2,
            "linecolor": "white",
            "showbackground": true,
            "ticks": "",
            "zerolinecolor": "white"
           },
           "yaxis": {
            "backgroundcolor": "#E5ECF6",
            "gridcolor": "white",
            "gridwidth": 2,
            "linecolor": "white",
            "showbackground": true,
            "ticks": "",
            "zerolinecolor": "white"
           },
           "zaxis": {
            "backgroundcolor": "#E5ECF6",
            "gridcolor": "white",
            "gridwidth": 2,
            "linecolor": "white",
            "showbackground": true,
            "ticks": "",
            "zerolinecolor": "white"
           }
          },
          "shapedefaults": {
           "line": {
            "color": "#2a3f5f"
           }
          },
          "ternary": {
           "aaxis": {
            "gridcolor": "white",
            "linecolor": "white",
            "ticks": ""
           },
           "baxis": {
            "gridcolor": "white",
            "linecolor": "white",
            "ticks": ""
           },
           "bgcolor": "#E5ECF6",
           "caxis": {
            "gridcolor": "white",
            "linecolor": "white",
            "ticks": ""
           }
          },
          "title": {
           "x": 0.05
          },
          "xaxis": {
           "automargin": true,
           "gridcolor": "white",
           "linecolor": "white",
           "ticks": "",
           "title": {
            "standoff": 15
           },
           "zerolinecolor": "white",
           "zerolinewidth": 2
          },
          "yaxis": {
           "automargin": true,
           "gridcolor": "white",
           "linecolor": "white",
           "ticks": "",
           "title": {
            "standoff": 15
           },
           "zerolinecolor": "white",
           "zerolinewidth": 2
          }
         }
        },
        "title": {
         "text": "Training times of notable models"
        },
        "width": 800,
        "xaxis": {
         "title": {
          "text": "Publication date"
         }
        },
        "yaxis": {
         "title": {
          "text": "Training time (hours)"
         },
         "type": "log"
        }
       }
      }
     },
     "metadata": {},
     "output_type": "display_data"
    }
   ],
   "source": [
    "# Plot training time\n",
    "fig = go.Figure()\n",
    "fig.add_trace(go.Scatter(\n",
    "    x=training_time_df['Publication date'],\n",
    "    y=training_time_df['Training time (hours)'],\n",
    "    mode='markers',\n",
    "    text=training_time_df['System']\n",
    "))\n",
    "fig.update_layout(\n",
    "    title='Training times of notable models',\n",
    "    xaxis_title='Publication date',\n",
    "    yaxis_title='Training time (hours)',\n",
    "    yaxis_type='log',\n",
    "    width=800,\n",
    "    height=600,\n",
    ")\n",
    "fig.show()"
   ]
  },
  {
   "cell_type": "code",
   "execution_count": 36,
   "metadata": {},
   "outputs": [
    {
     "data": {
      "text/plain": [
       "793.5"
      ]
     },
     "execution_count": 36,
     "metadata": {},
     "output_type": "execute_result"
    }
   ],
   "source": [
    "np.median(training_time_df['Training time (hours)'])"
   ]
  },
  {
   "cell_type": "code",
   "execution_count": 37,
   "metadata": {},
   "outputs": [
    {
     "data": {
      "text/plain": [
       "120.0"
      ]
     },
     "execution_count": 37,
     "metadata": {},
     "output_type": "execute_result"
    }
   ],
   "source": [
    "np.percentile(training_time_df['Training time (hours)'], 5)"
   ]
  },
  {
   "cell_type": "code",
   "execution_count": 38,
   "metadata": {},
   "outputs": [
    {
     "data": {
      "text/plain": [
       "4320.0"
      ]
     },
     "execution_count": 38,
     "metadata": {},
     "output_type": "execute_result"
    }
   ],
   "source": [
    "np.percentile(training_time_df['Training time (hours)'], 95)"
   ]
  },
  {
   "cell_type": "code",
   "execution_count": null,
   "metadata": {},
   "outputs": [],
   "source": []
  }
 ],
 "metadata": {
  "kernelspec": {
   "display_name": "epoch",
   "language": "python",
   "name": "python3"
  },
  "language_info": {
   "codemirror_mode": {
    "name": "ipython",
    "version": 3
   },
   "file_extension": ".py",
   "mimetype": "text/x-python",
   "name": "python",
   "nbconvert_exporter": "python",
   "pygments_lexer": "ipython3",
   "version": "3.11.4"
  }
 },
 "nbformat": 4,
 "nbformat_minor": 2
}
