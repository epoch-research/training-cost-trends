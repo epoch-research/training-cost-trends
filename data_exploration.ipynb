{
 "cells": [
  {
   "cell_type": "markdown",
   "metadata": {},
   "source": [
    "# Miscellaneous data exploration"
   ]
  },
  {
   "cell_type": "code",
   "execution_count": 1,
   "metadata": {},
   "outputs": [],
   "source": [
    "from collections import defaultdict\n",
    "import numpy as np\n",
    "import pandas as pd\n",
    "import plotly.graph_objects as go\n",
    "\n",
    "from data import *\n",
    "from hardware import *\n",
    "from parameters import *\n",
    "from regression import *"
   ]
  },
  {
   "cell_type": "code",
   "execution_count": 2,
   "metadata": {},
   "outputs": [
    {
     "data": {
      "text/html": [
       "<div>\n",
       "<style scoped>\n",
       "    .dataframe tbody tr th:only-of-type {\n",
       "        vertical-align: middle;\n",
       "    }\n",
       "\n",
       "    .dataframe tbody tr th {\n",
       "        vertical-align: top;\n",
       "    }\n",
       "\n",
       "    .dataframe thead th {\n",
       "        text-align: right;\n",
       "    }\n",
       "</style>\n",
       "<table border=\"1\" class=\"dataframe\">\n",
       "  <thead>\n",
       "    <tr style=\"text-align: right;\">\n",
       "      <th></th>\n",
       "      <th>System</th>\n",
       "      <th>Domain</th>\n",
       "      <th>Task</th>\n",
       "      <th>Authors</th>\n",
       "      <th>Notability criteria</th>\n",
       "      <th>Notability criteria notes</th>\n",
       "      <th>Model accessibility</th>\n",
       "      <th>Link</th>\n",
       "      <th>Citations</th>\n",
       "      <th>Reference</th>\n",
       "      <th>...</th>\n",
       "      <th>Training compute lower bound</th>\n",
       "      <th>Training compute upper bound</th>\n",
       "      <th>Training chip-hours</th>\n",
       "      <th>Code accessibility</th>\n",
       "      <th>Dataset accessibility</th>\n",
       "      <th>Accessibility notes</th>\n",
       "      <th>Organization categorization (from Organization)</th>\n",
       "      <th>Possibly over 1e23 FLOP</th>\n",
       "      <th>Training cost trends 2</th>\n",
       "      <th>Training cost trends 3</th>\n",
       "    </tr>\n",
       "  </thead>\n",
       "  <tbody>\n",
       "    <tr>\n",
       "      <th>77</th>\n",
       "      <td>CogAgent</td>\n",
       "      <td>Vision,Language</td>\n",
       "      <td>Instruction interpretation,Visual question ans...</td>\n",
       "      <td>Wenyi Hong, Weihan Wang, Qingsong Lv, Jiazheng...</td>\n",
       "      <td>SOTA improvement</td>\n",
       "      <td>See Table 1</td>\n",
       "      <td>Open access (restricted use)</td>\n",
       "      <td>https://arxiv.org/abs/2312.08914</td>\n",
       "      <td>50.0</td>\n",
       "      <td>CogAgent: A Visual Language Model for GUI Agents</td>\n",
       "      <td>...</td>\n",
       "      <td>NaN</td>\n",
       "      <td>NaN</td>\n",
       "      <td>NaN</td>\n",
       "      <td>Open source</td>\n",
       "      <td>NaN</td>\n",
       "      <td>Code is Apache License 2.0; model is under a m...</td>\n",
       "      <td>Academia,Industry</td>\n",
       "      <td>NaN</td>\n",
       "      <td>NaN</td>\n",
       "      <td>NaN</td>\n",
       "    </tr>\n",
       "    <tr>\n",
       "      <th>78</th>\n",
       "      <td>FunSearch</td>\n",
       "      <td>Language,Search</td>\n",
       "      <td>Code generation</td>\n",
       "      <td>Bernardino Romera-Paredes, Mohammadamin Bareka...</td>\n",
       "      <td>SOTA improvement,Historical significance</td>\n",
       "      <td>Improved SOTA for the cap set problem. Can pla...</td>\n",
       "      <td>Open source</td>\n",
       "      <td>https://www.nature.com/articles/s41586-023-069...</td>\n",
       "      <td>67.0</td>\n",
       "      <td>Mathematical discoveries from program search w...</td>\n",
       "      <td>...</td>\n",
       "      <td>NaN</td>\n",
       "      <td>NaN</td>\n",
       "      <td>NaN</td>\n",
       "      <td>NaN</td>\n",
       "      <td>NaN</td>\n",
       "      <td>Code to run FunSearch with an LLM of your choi...</td>\n",
       "      <td>Industry</td>\n",
       "      <td>NaN</td>\n",
       "      <td>NaN</td>\n",
       "      <td>NaN</td>\n",
       "    </tr>\n",
       "    <tr>\n",
       "      <th>88</th>\n",
       "      <td>Gemini 1.0 Ultra</td>\n",
       "      <td>Multimodal,Language,Vision</td>\n",
       "      <td>Language modelling,Visual question answering,C...</td>\n",
       "      <td>Gemini Team</td>\n",
       "      <td>SOTA improvement</td>\n",
       "      <td>\" Evaluation on a broad range of benchmarks sh...</td>\n",
       "      <td>Hosted access (no API)</td>\n",
       "      <td>https://storage.googleapis.com/deepmind-media/...</td>\n",
       "      <td>633.0</td>\n",
       "      <td>Gemini: A Family of Highly Capable Multimodal ...</td>\n",
       "      <td>...</td>\n",
       "      <td>NaN</td>\n",
       "      <td>NaN</td>\n",
       "      <td>132000000.0</td>\n",
       "      <td>NaN</td>\n",
       "      <td>NaN</td>\n",
       "      <td>NaN</td>\n",
       "      <td>Industry</td>\n",
       "      <td>NaN</td>\n",
       "      <td>NaN</td>\n",
       "      <td>NaN</td>\n",
       "    </tr>\n",
       "    <tr>\n",
       "      <th>96</th>\n",
       "      <td>Qwen-72B</td>\n",
       "      <td>Language</td>\n",
       "      <td>Chat,Code generation</td>\n",
       "      <td>Jinze Bai, Shuai Bai, Yunfei Chu, Zeyu Cui, Ka...</td>\n",
       "      <td>SOTA improvement</td>\n",
       "      <td>SOTA on several Chinese benchmarks, with highe...</td>\n",
       "      <td>Open access (restricted use)</td>\n",
       "      <td>https://huggingface.co/Qwen/Qwen-72B</td>\n",
       "      <td>NaN</td>\n",
       "      <td>NaN</td>\n",
       "      <td>...</td>\n",
       "      <td>NaN</td>\n",
       "      <td>NaN</td>\n",
       "      <td>NaN</td>\n",
       "      <td>Unreleased</td>\n",
       "      <td>Unreleased</td>\n",
       "      <td>up to 100m active users:\\nhttps://github.com/Q...</td>\n",
       "      <td>Industry</td>\n",
       "      <td>NaN</td>\n",
       "      <td>NaN</td>\n",
       "      <td>NaN</td>\n",
       "    </tr>\n",
       "    <tr>\n",
       "      <th>104</th>\n",
       "      <td>Inflection-2</td>\n",
       "      <td>Language</td>\n",
       "      <td>Language modelling</td>\n",
       "      <td>NaN</td>\n",
       "      <td>Significant use</td>\n",
       "      <td>Inflection-2 either already powers Pi or soon ...</td>\n",
       "      <td>Hosted access (no API)</td>\n",
       "      <td>https://inflection.ai/inflection-2</td>\n",
       "      <td>NaN</td>\n",
       "      <td>Inflection-2: The Next Step Up</td>\n",
       "      <td>...</td>\n",
       "      <td>NaN</td>\n",
       "      <td>NaN</td>\n",
       "      <td>NaN</td>\n",
       "      <td>NaN</td>\n",
       "      <td>NaN</td>\n",
       "      <td>via Pi, no API</td>\n",
       "      <td>Industry</td>\n",
       "      <td>NaN</td>\n",
       "      <td>NaN</td>\n",
       "      <td>NaN</td>\n",
       "    </tr>\n",
       "    <tr>\n",
       "      <th>...</th>\n",
       "      <td>...</td>\n",
       "      <td>...</td>\n",
       "      <td>...</td>\n",
       "      <td>...</td>\n",
       "      <td>...</td>\n",
       "      <td>...</td>\n",
       "      <td>...</td>\n",
       "      <td>...</td>\n",
       "      <td>...</td>\n",
       "      <td>...</td>\n",
       "      <td>...</td>\n",
       "      <td>...</td>\n",
       "      <td>...</td>\n",
       "      <td>...</td>\n",
       "      <td>...</td>\n",
       "      <td>...</td>\n",
       "      <td>...</td>\n",
       "      <td>...</td>\n",
       "      <td>...</td>\n",
       "      <td>...</td>\n",
       "      <td>...</td>\n",
       "    </tr>\n",
       "    <tr>\n",
       "      <th>1222</th>\n",
       "      <td>AlphaGo Lee</td>\n",
       "      <td>Games</td>\n",
       "      <td>Go</td>\n",
       "      <td>David Silver, Aja Huang, Chris J. Maddison, Ar...</td>\n",
       "      <td>Highly cited</td>\n",
       "      <td>NaN</td>\n",
       "      <td>NaN</td>\n",
       "      <td>https://www.nature.com/articles/nature16961</td>\n",
       "      <td>14887.0</td>\n",
       "      <td>Mastering the game of Go with deep neural netw...</td>\n",
       "      <td>...</td>\n",
       "      <td>NaN</td>\n",
       "      <td>NaN</td>\n",
       "      <td>NaN</td>\n",
       "      <td>NaN</td>\n",
       "      <td>NaN</td>\n",
       "      <td>NaN</td>\n",
       "      <td>Industry</td>\n",
       "      <td>NaN</td>\n",
       "      <td>NaN</td>\n",
       "      <td>NaN</td>\n",
       "    </tr>\n",
       "    <tr>\n",
       "      <th>1223</th>\n",
       "      <td>Variational (untied weights, MC) LSTM (Large)</td>\n",
       "      <td>Language</td>\n",
       "      <td>NaN</td>\n",
       "      <td>Yarin Gal, Zoubin Ghahramani</td>\n",
       "      <td>Highly cited,SOTA improvement</td>\n",
       "      <td>\"The new approach outperforms existing techniq...</td>\n",
       "      <td>NaN</td>\n",
       "      <td>https://arxiv.org/abs/1512.05287?context=stat</td>\n",
       "      <td>1838.0</td>\n",
       "      <td>A Theoretically Grounded Application of Dropou...</td>\n",
       "      <td>...</td>\n",
       "      <td>NaN</td>\n",
       "      <td>NaN</td>\n",
       "      <td>NaN</td>\n",
       "      <td>NaN</td>\n",
       "      <td>NaN</td>\n",
       "      <td>NaN</td>\n",
       "      <td>Academia</td>\n",
       "      <td>NaN</td>\n",
       "      <td>NaN</td>\n",
       "      <td>NaN</td>\n",
       "    </tr>\n",
       "    <tr>\n",
       "      <th>1226</th>\n",
       "      <td>ResNet-152 (ImageNet)</td>\n",
       "      <td>Vision</td>\n",
       "      <td>Image classification</td>\n",
       "      <td>Kaiming He, Xiangyu Zhang, Shaoqing Ren, Jian Sun</td>\n",
       "      <td>Highly cited</td>\n",
       "      <td>NaN</td>\n",
       "      <td>NaN</td>\n",
       "      <td>https://arxiv.org/abs/1512.03385</td>\n",
       "      <td>156882.0</td>\n",
       "      <td>Deep Residual Learning for Image Recognition</td>\n",
       "      <td>...</td>\n",
       "      <td>NaN</td>\n",
       "      <td>NaN</td>\n",
       "      <td>NaN</td>\n",
       "      <td>NaN</td>\n",
       "      <td>NaN</td>\n",
       "      <td>NaN</td>\n",
       "      <td>Industry</td>\n",
       "      <td>NaN</td>\n",
       "      <td>NaN</td>\n",
       "      <td>NaN</td>\n",
       "    </tr>\n",
       "    <tr>\n",
       "      <th>1228</th>\n",
       "      <td>DeepSpeech2 (English)</td>\n",
       "      <td>Speech</td>\n",
       "      <td>Speech recognition</td>\n",
       "      <td>Dario Amodei, Rishita Anubhai, Eric Battenberg...</td>\n",
       "      <td>Highly cited</td>\n",
       "      <td>NaN</td>\n",
       "      <td>NaN</td>\n",
       "      <td>https://arxiv.org/abs/1512.02595</td>\n",
       "      <td>2749.0</td>\n",
       "      <td>Deep Speech 2: End-to-End Speech Recognition i...</td>\n",
       "      <td>...</td>\n",
       "      <td>NaN</td>\n",
       "      <td>NaN</td>\n",
       "      <td>1920.0</td>\n",
       "      <td>NaN</td>\n",
       "      <td>NaN</td>\n",
       "      <td>NaN</td>\n",
       "      <td>Industry</td>\n",
       "      <td>NaN</td>\n",
       "      <td>NaN</td>\n",
       "      <td>NaN</td>\n",
       "    </tr>\n",
       "    <tr>\n",
       "      <th>1233</th>\n",
       "      <td>AlphaGo Fan</td>\n",
       "      <td>Games</td>\n",
       "      <td>Go</td>\n",
       "      <td>David Silver, Aja Huang, Chris J. Maddison, Ar...</td>\n",
       "      <td>Highly cited,SOTA improvement</td>\n",
       "      <td>NaN</td>\n",
       "      <td>NaN</td>\n",
       "      <td>https://www.nature.com/articles/nature24270.ep...</td>\n",
       "      <td>14887.0</td>\n",
       "      <td>Mastering the game of Go with deep neural netw...</td>\n",
       "      <td>...</td>\n",
       "      <td>NaN</td>\n",
       "      <td>NaN</td>\n",
       "      <td>NaN</td>\n",
       "      <td>NaN</td>\n",
       "      <td>NaN</td>\n",
       "      <td>NaN</td>\n",
       "      <td>Industry</td>\n",
       "      <td>NaN</td>\n",
       "      <td>NaN</td>\n",
       "      <td>NaN</td>\n",
       "    </tr>\n",
       "  </tbody>\n",
       "</table>\n",
       "<p>311 rows × 60 columns</p>\n",
       "</div>"
      ],
      "text/plain": [
       "                                             System  \\\n",
       "77                                         CogAgent   \n",
       "78                                        FunSearch   \n",
       "88                                 Gemini 1.0 Ultra   \n",
       "96                                         Qwen-72B   \n",
       "104                                    Inflection-2   \n",
       "...                                             ...   \n",
       "1222                                    AlphaGo Lee   \n",
       "1223  Variational (untied weights, MC) LSTM (Large)   \n",
       "1226                          ResNet-152 (ImageNet)   \n",
       "1228                          DeepSpeech2 (English)   \n",
       "1233                                    AlphaGo Fan   \n",
       "\n",
       "                          Domain  \\\n",
       "77               Vision,Language   \n",
       "78               Language,Search   \n",
       "88    Multimodal,Language,Vision   \n",
       "96                      Language   \n",
       "104                     Language   \n",
       "...                          ...   \n",
       "1222                       Games   \n",
       "1223                    Language   \n",
       "1226                      Vision   \n",
       "1228                      Speech   \n",
       "1233                       Games   \n",
       "\n",
       "                                                   Task  \\\n",
       "77    Instruction interpretation,Visual question ans...   \n",
       "78                                      Code generation   \n",
       "88    Language modelling,Visual question answering,C...   \n",
       "96                                 Chat,Code generation   \n",
       "104                                  Language modelling   \n",
       "...                                                 ...   \n",
       "1222                                                 Go   \n",
       "1223                                                NaN   \n",
       "1226                               Image classification   \n",
       "1228                                 Speech recognition   \n",
       "1233                                                 Go   \n",
       "\n",
       "                                                Authors  \\\n",
       "77    Wenyi Hong, Weihan Wang, Qingsong Lv, Jiazheng...   \n",
       "78    Bernardino Romera-Paredes, Mohammadamin Bareka...   \n",
       "88                                          Gemini Team   \n",
       "96    Jinze Bai, Shuai Bai, Yunfei Chu, Zeyu Cui, Ka...   \n",
       "104                                                 NaN   \n",
       "...                                                 ...   \n",
       "1222  David Silver, Aja Huang, Chris J. Maddison, Ar...   \n",
       "1223                       Yarin Gal, Zoubin Ghahramani   \n",
       "1226  Kaiming He, Xiangyu Zhang, Shaoqing Ren, Jian Sun   \n",
       "1228  Dario Amodei, Rishita Anubhai, Eric Battenberg...   \n",
       "1233  David Silver, Aja Huang, Chris J. Maddison, Ar...   \n",
       "\n",
       "                           Notability criteria  \\\n",
       "77                            SOTA improvement   \n",
       "78    SOTA improvement,Historical significance   \n",
       "88                            SOTA improvement   \n",
       "96                            SOTA improvement   \n",
       "104                            Significant use   \n",
       "...                                        ...   \n",
       "1222                              Highly cited   \n",
       "1223             Highly cited,SOTA improvement   \n",
       "1226                              Highly cited   \n",
       "1228                              Highly cited   \n",
       "1233             Highly cited,SOTA improvement   \n",
       "\n",
       "                              Notability criteria notes  \\\n",
       "77                                          See Table 1   \n",
       "78    Improved SOTA for the cap set problem. Can pla...   \n",
       "88    \" Evaluation on a broad range of benchmarks sh...   \n",
       "96    SOTA on several Chinese benchmarks, with highe...   \n",
       "104   Inflection-2 either already powers Pi or soon ...   \n",
       "...                                                 ...   \n",
       "1222                                                NaN   \n",
       "1223  \"The new approach outperforms existing techniq...   \n",
       "1226                                                NaN   \n",
       "1228                                                NaN   \n",
       "1233                                                NaN   \n",
       "\n",
       "               Model accessibility  \\\n",
       "77    Open access (restricted use)   \n",
       "78                     Open source   \n",
       "88          Hosted access (no API)   \n",
       "96    Open access (restricted use)   \n",
       "104         Hosted access (no API)   \n",
       "...                            ...   \n",
       "1222                           NaN   \n",
       "1223                           NaN   \n",
       "1226                           NaN   \n",
       "1228                           NaN   \n",
       "1233                           NaN   \n",
       "\n",
       "                                                   Link  Citations  \\\n",
       "77                     https://arxiv.org/abs/2312.08914       50.0   \n",
       "78    https://www.nature.com/articles/s41586-023-069...       67.0   \n",
       "88    https://storage.googleapis.com/deepmind-media/...      633.0   \n",
       "96                 https://huggingface.co/Qwen/Qwen-72B        NaN   \n",
       "104                  https://inflection.ai/inflection-2        NaN   \n",
       "...                                                 ...        ...   \n",
       "1222        https://www.nature.com/articles/nature16961    14887.0   \n",
       "1223      https://arxiv.org/abs/1512.05287?context=stat     1838.0   \n",
       "1226                   https://arxiv.org/abs/1512.03385   156882.0   \n",
       "1228                   https://arxiv.org/abs/1512.02595     2749.0   \n",
       "1233  https://www.nature.com/articles/nature24270.ep...    14887.0   \n",
       "\n",
       "                                              Reference  ...  \\\n",
       "77     CogAgent: A Visual Language Model for GUI Agents  ...   \n",
       "78    Mathematical discoveries from program search w...  ...   \n",
       "88    Gemini: A Family of Highly Capable Multimodal ...  ...   \n",
       "96                                                  NaN  ...   \n",
       "104                      Inflection-2: The Next Step Up  ...   \n",
       "...                                                 ...  ...   \n",
       "1222  Mastering the game of Go with deep neural netw...  ...   \n",
       "1223  A Theoretically Grounded Application of Dropou...  ...   \n",
       "1226       Deep Residual Learning for Image Recognition  ...   \n",
       "1228  Deep Speech 2: End-to-End Speech Recognition i...  ...   \n",
       "1233  Mastering the game of Go with deep neural netw...  ...   \n",
       "\n",
       "     Training compute lower bound Training compute upper bound  \\\n",
       "77                            NaN                          NaN   \n",
       "78                            NaN                          NaN   \n",
       "88                            NaN                          NaN   \n",
       "96                            NaN                          NaN   \n",
       "104                           NaN                          NaN   \n",
       "...                           ...                          ...   \n",
       "1222                          NaN                          NaN   \n",
       "1223                          NaN                          NaN   \n",
       "1226                          NaN                          NaN   \n",
       "1228                          NaN                          NaN   \n",
       "1233                          NaN                          NaN   \n",
       "\n",
       "      Training chip-hours Code accessibility  Dataset accessibility  \\\n",
       "77                    NaN        Open source                    NaN   \n",
       "78                    NaN                NaN                    NaN   \n",
       "88            132000000.0                NaN                    NaN   \n",
       "96                    NaN         Unreleased             Unreleased   \n",
       "104                   NaN                NaN                    NaN   \n",
       "...                   ...                ...                    ...   \n",
       "1222                  NaN                NaN                    NaN   \n",
       "1223                  NaN                NaN                    NaN   \n",
       "1226                  NaN                NaN                    NaN   \n",
       "1228               1920.0                NaN                    NaN   \n",
       "1233                  NaN                NaN                    NaN   \n",
       "\n",
       "                                    Accessibility notes  \\\n",
       "77    Code is Apache License 2.0; model is under a m...   \n",
       "78    Code to run FunSearch with an LLM of your choi...   \n",
       "88                                                  NaN   \n",
       "96    up to 100m active users:\\nhttps://github.com/Q...   \n",
       "104                                      via Pi, no API   \n",
       "...                                                 ...   \n",
       "1222                                                NaN   \n",
       "1223                                                NaN   \n",
       "1226                                                NaN   \n",
       "1228                                                NaN   \n",
       "1233                                                NaN   \n",
       "\n",
       "     Organization categorization (from Organization) Possibly over 1e23 FLOP  \\\n",
       "77                                 Academia,Industry                     NaN   \n",
       "78                                          Industry                     NaN   \n",
       "88                                          Industry                     NaN   \n",
       "96                                          Industry                     NaN   \n",
       "104                                         Industry                     NaN   \n",
       "...                                              ...                     ...   \n",
       "1222                                        Industry                     NaN   \n",
       "1223                                        Academia                     NaN   \n",
       "1226                                        Industry                     NaN   \n",
       "1228                                        Industry                     NaN   \n",
       "1233                                        Industry                     NaN   \n",
       "\n",
       "      Training cost trends 2 Training cost trends 3  \n",
       "77                       NaN                    NaN  \n",
       "78                       NaN                    NaN  \n",
       "88                       NaN                    NaN  \n",
       "96                       NaN                    NaN  \n",
       "104                      NaN                    NaN  \n",
       "...                      ...                    ...  \n",
       "1222                     NaN                    NaN  \n",
       "1223                     NaN                    NaN  \n",
       "1226                     NaN                    NaN  \n",
       "1228                     NaN                    NaN  \n",
       "1233                     NaN                    NaN  \n",
       "\n",
       "[311 rows x 60 columns]"
      ]
     },
     "execution_count": 2,
     "metadata": {},
     "output_type": "execute_result"
    }
   ],
   "source": [
    "frontier_pcd_df, hardware_df, price_df = load_data_for_cost_estimation(compute_threshold_method=\"window_percentile\", compute_threshold=0)\n",
    "frontier_pcd_df"
   ]
  },
  {
   "cell_type": "code",
   "execution_count": 3,
   "metadata": {},
   "outputs": [
    {
     "name": "stdout",
     "output_type": "stream",
     "text": [
      "A100: 52\n",
      "V100: 48\n",
      "TPU v3: 38\n",
      "TPU v4: 18\n",
      "TPU v2: 4\n",
      "P100: 4\n",
      "K80: 3\n",
      "NVIDIA GTX Titan X: 3\n",
      "NVIDIA Geforce GTX 1080 Ti: 2\n",
      "K40: 2\n",
      "TPU v1: 2\n",
      "NVIDIA M40: 2\n",
      "NVIDIA GeForce GTX TITAN X: 2\n",
      "H100: 1\n",
      "NVIDIA A800: 1\n",
      "NVIDIA GeForce RTX 3090: 1\n",
      "Huawei Ascend 910: 1\n",
      "NVIDIA Quadro RTX 4000: 1\n",
      "NVIDIA RTX A6000: 1\n",
      "NVIDIA Quadro RTX 8000: 1\n",
      "NVIDIA Quadro RTX 5000: 1\n",
      "NVIDIA GeForce RTX 2080 Ti: 1\n",
      "NVIDIA TITAN Xp: 1\n",
      "NVIDIA GeForce GTX 1080 Ti: 1\n",
      "NVIDIA Quadro P600: 1\n"
     ]
    }
   ],
   "source": [
    "hardware_aliases = ['A100', 'H100', 'P100', 'V100', 'TPU v4', 'TPU v3', 'TPU v2', 'TPU v1', 'K80', 'K40']\n",
    "hardware_counts = defaultdict(int)\n",
    "hardware_release_dates = {}\n",
    "for hardware in frontier_pcd_df['Training hardware'].dropna():\n",
    "    if \",\" in hardware: continue\n",
    "    alias_found = False\n",
    "    for alias in hardware_aliases:\n",
    "        if alias in hardware:\n",
    "            hardware_release_dates[alias] = get_release_date(hardware, hardware_df)\n",
    "            hardware_counts[alias] += 1\n",
    "            alias_found = True\n",
    "    if not alias_found:\n",
    "        hardware_counts[hardware] += 1\n",
    "\n",
    "# Print counts in descending order\n",
    "for hardware, count in sorted(hardware_counts.items(), key=lambda x: x[1], reverse=True):\n",
    "    print(f'{hardware}: {count}')"
   ]
  },
  {
   "cell_type": "code",
   "execution_count": 4,
   "metadata": {},
   "outputs": [
    {
     "data": {
      "text/plain": [
       "{'TPU v4': Timestamp('2021-05-20 00:00:00'),\n",
       " 'H100': Timestamp('2022-09-20 00:00:00'),\n",
       " 'A100': Timestamp('2020-03-01 00:00:00'),\n",
       " 'V100': Timestamp('2017-06-21 00:00:00'),\n",
       " 'TPU v3': Timestamp('2018-05-18 00:00:00'),\n",
       " 'TPU v2': Timestamp('2017-05-01 00:00:00'),\n",
       " 'P100': Timestamp('2016-04-05 00:00:00'),\n",
       " 'K40': Timestamp('2013-11-22 00:00:00'),\n",
       " 'TPU v1': Timestamp('2015-05-15 00:00:00'),\n",
       " 'K80': Timestamp('2014-11-17 00:00:00')}"
      ]
     },
     "execution_count": 4,
     "metadata": {},
     "output_type": "execute_result"
    }
   ],
   "source": [
    "hardware_release_dates"
   ]
  },
  {
   "cell_type": "code",
   "execution_count": 5,
   "metadata": {},
   "outputs": [
    {
     "name": "stdout",
     "output_type": "stream",
     "text": [
      "A100: 52\n",
      "V100: 49\n",
      "P100: 4\n",
      "Titan X: 4\n",
      "K80: 3\n",
      "NVIDIA Geforce GTX 1080 Ti: 2\n",
      "K40: 2\n",
      "NVIDIA M40: 2\n",
      "NVIDIA GeForce GTX TITAN X: 2\n",
      "H100: 1\n",
      "NVIDIA A800: 1\n",
      "NVIDIA GeForce RTX 3090: 1\n",
      "Huawei Ascend 910: 1\n",
      "NVIDIA Quadro RTX 4000: 1\n",
      "NVIDIA RTX A6000: 1\n",
      "NVIDIA Quadro RTX 8000: 1\n",
      "NVIDIA Quadro RTX 5000: 1\n",
      "NVIDIA GeForce RTX 2080 Ti: 1\n",
      "NVIDIA TITAN Xp: 1\n",
      "NVIDIA GeForce GTX 1080 Ti: 1\n",
      "NVIDIA Quadro P600: 1\n"
     ]
    }
   ],
   "source": [
    "# No TPUs\n",
    "hardware_aliases = ['A100', 'H100', 'P100', 'V100', 'TPU v4', 'TPU v3', 'TPU v2', 'TPU v1', 'K80', 'K40', 'Titan X']\n",
    "hardware_counts = defaultdict(int)\n",
    "for hardware in frontier_pcd_df['Training hardware'].dropna():\n",
    "    if 'TPU' in hardware:\n",
    "        continue\n",
    "    alias_found = False\n",
    "    for alias in hardware_aliases:\n",
    "        if alias in hardware:\n",
    "            hardware_counts[alias] += 1\n",
    "            alias_found = True\n",
    "    if not alias_found:\n",
    "        hardware_counts[hardware] += 1\n",
    "\n",
    "# Print counts in descending order\n",
    "for hardware, count in sorted(hardware_counts.items(), key=lambda x: x[1], reverse=True):\n",
    "    print(f'{hardware}: {count}')"
   ]
  },
  {
   "cell_type": "markdown",
   "metadata": {},
   "source": [
    "# Purchase prices"
   ]
  },
  {
   "cell_type": "code",
   "execution_count": 6,
   "metadata": {},
   "outputs": [
    {
     "data": {
      "text/html": [
       "<div>\n",
       "<style scoped>\n",
       "    .dataframe tbody tr th:only-of-type {\n",
       "        vertical-align: middle;\n",
       "    }\n",
       "\n",
       "    .dataframe tbody tr th {\n",
       "        vertical-align: top;\n",
       "    }\n",
       "\n",
       "    .dataframe thead th {\n",
       "        text-align: right;\n",
       "    }\n",
       "</style>\n",
       "<table border=\"1\" class=\"dataframe\">\n",
       "  <thead>\n",
       "    <tr style=\"text-align: right;\">\n",
       "      <th></th>\n",
       "      <th>Price source</th>\n",
       "      <th>Price date</th>\n",
       "      <th>Hardware model</th>\n",
       "      <th>Manufacturer (from Hardware model)</th>\n",
       "      <th>Vendor</th>\n",
       "      <th>Location</th>\n",
       "      <th>Price per chip-hour (on-demand)</th>\n",
       "      <th>Price per chip-hour (1-year CUD)</th>\n",
       "      <th>Price per chip-hour (3-year CUD)</th>\n",
       "      <th>Price (hardware purchase)</th>\n",
       "      <th>Notes</th>\n",
       "    </tr>\n",
       "  </thead>\n",
       "  <tbody>\n",
       "    <tr>\n",
       "      <th>25</th>\n",
       "      <td>https://www.nextplatform.com/2022/05/09/how-mu...</td>\n",
       "      <td>2020-07-01</td>\n",
       "      <td>NVIDIA A100 PCIe</td>\n",
       "      <td>NVIDIA</td>\n",
       "      <td>NaN</td>\n",
       "      <td>NaN</td>\n",
       "      <td>NaN</td>\n",
       "      <td>NaN</td>\n",
       "      <td>NaN</td>\n",
       "      <td>15000.00</td>\n",
       "      <td>Single-unit list price</td>\n",
       "    </tr>\n",
       "    <tr>\n",
       "      <th>26</th>\n",
       "      <td>https://www.nextplatform.com/2022/05/09/how-mu...</td>\n",
       "      <td>2022-07-01</td>\n",
       "      <td>NVIDIA A100 PCIe</td>\n",
       "      <td>NVIDIA</td>\n",
       "      <td>NaN</td>\n",
       "      <td>NaN</td>\n",
       "      <td>NaN</td>\n",
       "      <td>NaN</td>\n",
       "      <td>NaN</td>\n",
       "      <td>12500.00</td>\n",
       "      <td>Single-unit list price</td>\n",
       "    </tr>\n",
       "    <tr>\n",
       "      <th>38</th>\n",
       "      <td>https://web.archive.org/web/20200521074015/htt...</td>\n",
       "      <td>2020-05-21</td>\n",
       "      <td>NVIDIA A100 SXM4 40 GB</td>\n",
       "      <td>NVIDIA</td>\n",
       "      <td>NaN</td>\n",
       "      <td>NaN</td>\n",
       "      <td>NaN</td>\n",
       "      <td>NaN</td>\n",
       "      <td>NaN</td>\n",
       "      <td>24875.00</td>\n",
       "      <td>DGX A100, 8 GPU, 320GB. Release price.</td>\n",
       "    </tr>\n",
       "    <tr>\n",
       "      <th>39</th>\n",
       "      <td>https://www.nextplatform.com/2022/05/09/how-mu...</td>\n",
       "      <td>2020-07-01</td>\n",
       "      <td>NVIDIA A100 SXM4 40 GB</td>\n",
       "      <td>NVIDIA</td>\n",
       "      <td>NaN</td>\n",
       "      <td>NaN</td>\n",
       "      <td>NaN</td>\n",
       "      <td>NaN</td>\n",
       "      <td>NaN</td>\n",
       "      <td>15000.00</td>\n",
       "      <td>Single-unit list price</td>\n",
       "    </tr>\n",
       "    <tr>\n",
       "      <th>40</th>\n",
       "      <td>https://www.nextplatform.com/2022/05/09/how-mu...</td>\n",
       "      <td>2022-07-01</td>\n",
       "      <td>NVIDIA A100 SXM4 40 GB</td>\n",
       "      <td>NVIDIA</td>\n",
       "      <td>NaN</td>\n",
       "      <td>NaN</td>\n",
       "      <td>NaN</td>\n",
       "      <td>NaN</td>\n",
       "      <td>NaN</td>\n",
       "      <td>12500.00</td>\n",
       "      <td>Single-unit list price</td>\n",
       "    </tr>\n",
       "    <tr>\n",
       "      <th>48</th>\n",
       "      <td>https://web.archive.org/web/20210630170623/htt...</td>\n",
       "      <td>2021-06-30</td>\n",
       "      <td>NVIDIA A100 SXM4 80 GB</td>\n",
       "      <td>NVIDIA</td>\n",
       "      <td>NaN</td>\n",
       "      <td>NaN</td>\n",
       "      <td>NaN</td>\n",
       "      <td>NaN</td>\n",
       "      <td>NaN</td>\n",
       "      <td>37500.00</td>\n",
       "      <td>DGX A100, 8 GPU, 640GB</td>\n",
       "    </tr>\n",
       "    <tr>\n",
       "      <th>49</th>\n",
       "      <td>https://web.archive.org/web/20220120191032/htt...</td>\n",
       "      <td>2022-01-20</td>\n",
       "      <td>NVIDIA A100 SXM4 80 GB</td>\n",
       "      <td>NVIDIA</td>\n",
       "      <td>NaN</td>\n",
       "      <td>NaN</td>\n",
       "      <td>NaN</td>\n",
       "      <td>NaN</td>\n",
       "      <td>NaN</td>\n",
       "      <td>20875.00</td>\n",
       "      <td>DGX A100, 8 GPU, 640GB</td>\n",
       "    </tr>\n",
       "    <tr>\n",
       "      <th>50</th>\n",
       "      <td>https://web.archive.org/web/20230923154035/htt...</td>\n",
       "      <td>2023-09-23</td>\n",
       "      <td>NVIDIA A100 SXM4 80 GB</td>\n",
       "      <td>NVIDIA</td>\n",
       "      <td>NaN</td>\n",
       "      <td>NaN</td>\n",
       "      <td>NaN</td>\n",
       "      <td>NaN</td>\n",
       "      <td>NaN</td>\n",
       "      <td>18548.75</td>\n",
       "      <td>HGX A100, 8 GPU, 640GB</td>\n",
       "    </tr>\n",
       "    <tr>\n",
       "      <th>57</th>\n",
       "      <td>https://www.techpowerup.com/gpu-specs/geforce-...</td>\n",
       "      <td>2015-03-17</td>\n",
       "      <td>NVIDIA GTX Titan X</td>\n",
       "      <td>NVIDIA</td>\n",
       "      <td>NaN</td>\n",
       "      <td>NaN</td>\n",
       "      <td>NaN</td>\n",
       "      <td>NaN</td>\n",
       "      <td>NaN</td>\n",
       "      <td>999.00</td>\n",
       "      <td>Single-unit release price</td>\n",
       "    </tr>\n",
       "    <tr>\n",
       "      <th>59</th>\n",
       "      <td>https://web.archive.org/web/20220929115124/htt...</td>\n",
       "      <td>2022-09-29</td>\n",
       "      <td>NVIDIA H100 SXM5</td>\n",
       "      <td>NVIDIA</td>\n",
       "      <td>NaN</td>\n",
       "      <td>NaN</td>\n",
       "      <td>NaN</td>\n",
       "      <td>NaN</td>\n",
       "      <td>NaN</td>\n",
       "      <td>44489.88</td>\n",
       "      <td>DGX, 8 GPU, 640GB. Convert Euro to USD: https:...</td>\n",
       "    </tr>\n",
       "    <tr>\n",
       "      <th>60</th>\n",
       "      <td>https://web.archive.org/web/20230529125834/htt...</td>\n",
       "      <td>2023-05-29</td>\n",
       "      <td>NVIDIA H100 SXM5</td>\n",
       "      <td>NVIDIA</td>\n",
       "      <td>NaN</td>\n",
       "      <td>NaN</td>\n",
       "      <td>NaN</td>\n",
       "      <td>NaN</td>\n",
       "      <td>NaN</td>\n",
       "      <td>33750.00</td>\n",
       "      <td>DGX, 8 GPU, 640GB. “Nvidia sells DGX H100’s at...</td>\n",
       "    </tr>\n",
       "    <tr>\n",
       "      <th>61</th>\n",
       "      <td>https://web.archive.org/web/20231211031623/htt...</td>\n",
       "      <td>2023-12-11</td>\n",
       "      <td>NVIDIA H100 SXM5</td>\n",
       "      <td>NVIDIA</td>\n",
       "      <td>NaN</td>\n",
       "      <td>NaN</td>\n",
       "      <td>NaN</td>\n",
       "      <td>NaN</td>\n",
       "      <td>NaN</td>\n",
       "      <td>41197.50</td>\n",
       "      <td>DGX, 8 GPU, 640GB. Convert Euro to USD: https:...</td>\n",
       "    </tr>\n",
       "    <tr>\n",
       "      <th>62</th>\n",
       "      <td>https://web.archive.org/web/20240320115454/htt...</td>\n",
       "      <td>2024-03-20</td>\n",
       "      <td>NVIDIA H100 SXM5</td>\n",
       "      <td>NVIDIA</td>\n",
       "      <td>NaN</td>\n",
       "      <td>NaN</td>\n",
       "      <td>NaN</td>\n",
       "      <td>NaN</td>\n",
       "      <td>NaN</td>\n",
       "      <td>41217.00</td>\n",
       "      <td>DGX, 8 GPU, 640GB. Convert Euro to USD: https:...</td>\n",
       "    </tr>\n",
       "    <tr>\n",
       "      <th>63</th>\n",
       "      <td>https://web.archive.org/web/20240321212632/htt...</td>\n",
       "      <td>2024-03-21</td>\n",
       "      <td>NVIDIA H100 SXM5</td>\n",
       "      <td>NVIDIA</td>\n",
       "      <td>NaN</td>\n",
       "      <td>NaN</td>\n",
       "      <td>NaN</td>\n",
       "      <td>NaN</td>\n",
       "      <td>NaN</td>\n",
       "      <td>37080.50</td>\n",
       "      <td>HGX, 8 GPU, 640GB</td>\n",
       "    </tr>\n",
       "    <tr>\n",
       "      <th>74</th>\n",
       "      <td>https://www.nextplatform.com/2022/05/09/how-mu...</td>\n",
       "      <td>2012-07-01</td>\n",
       "      <td>NVIDIA Tesla K40s</td>\n",
       "      <td>NVIDIA</td>\n",
       "      <td>NaN</td>\n",
       "      <td>NaN</td>\n",
       "      <td>NaN</td>\n",
       "      <td>NaN</td>\n",
       "      <td>NaN</td>\n",
       "      <td>5400.00</td>\n",
       "      <td>Single-unit release price</td>\n",
       "    </tr>\n",
       "    <tr>\n",
       "      <th>75</th>\n",
       "      <td>https://www.techpowerup.com/gpu-specs/tesla-k4...</td>\n",
       "      <td>2013-11-22</td>\n",
       "      <td>NVIDIA Tesla K40s</td>\n",
       "      <td>NVIDIA</td>\n",
       "      <td>NaN</td>\n",
       "      <td>NaN</td>\n",
       "      <td>NaN</td>\n",
       "      <td>NaN</td>\n",
       "      <td>NaN</td>\n",
       "      <td>7699.00</td>\n",
       "      <td>Single-unit release price</td>\n",
       "    </tr>\n",
       "    <tr>\n",
       "      <th>76</th>\n",
       "      <td>https://www.nextplatform.com/2022/05/09/how-mu...</td>\n",
       "      <td>2014-07-01</td>\n",
       "      <td>NVIDIA Tesla K40s</td>\n",
       "      <td>NVIDIA</td>\n",
       "      <td>NaN</td>\n",
       "      <td>NaN</td>\n",
       "      <td>NaN</td>\n",
       "      <td>NaN</td>\n",
       "      <td>NaN</td>\n",
       "      <td>4200.00</td>\n",
       "      <td>Single-unit list price</td>\n",
       "    </tr>\n",
       "    <tr>\n",
       "      <th>77</th>\n",
       "      <td>https://www.nextplatform.com/2022/05/09/how-mu...</td>\n",
       "      <td>2016-07-01</td>\n",
       "      <td>NVIDIA Tesla K40s</td>\n",
       "      <td>NVIDIA</td>\n",
       "      <td>NaN</td>\n",
       "      <td>NaN</td>\n",
       "      <td>NaN</td>\n",
       "      <td>NaN</td>\n",
       "      <td>NaN</td>\n",
       "      <td>2900.00</td>\n",
       "      <td>Single-unit list price</td>\n",
       "    </tr>\n",
       "    <tr>\n",
       "      <th>78</th>\n",
       "      <td>https://www.nextplatform.com/2022/05/09/how-mu...</td>\n",
       "      <td>2018-07-01</td>\n",
       "      <td>NVIDIA Tesla K40s</td>\n",
       "      <td>NVIDIA</td>\n",
       "      <td>NaN</td>\n",
       "      <td>NaN</td>\n",
       "      <td>NaN</td>\n",
       "      <td>NaN</td>\n",
       "      <td>NaN</td>\n",
       "      <td>2300.00</td>\n",
       "      <td>Single-unit list price</td>\n",
       "    </tr>\n",
       "    <tr>\n",
       "      <th>79</th>\n",
       "      <td>https://www.nextplatform.com/2022/05/09/how-mu...</td>\n",
       "      <td>2020-07-01</td>\n",
       "      <td>NVIDIA Tesla K40s</td>\n",
       "      <td>NVIDIA</td>\n",
       "      <td>NaN</td>\n",
       "      <td>NaN</td>\n",
       "      <td>NaN</td>\n",
       "      <td>NaN</td>\n",
       "      <td>NaN</td>\n",
       "      <td>540.00</td>\n",
       "      <td>Single-unit list price</td>\n",
       "    </tr>\n",
       "    <tr>\n",
       "      <th>80</th>\n",
       "      <td>https://www.nextplatform.com/2022/05/09/how-mu...</td>\n",
       "      <td>2022-07-01</td>\n",
       "      <td>NVIDIA Tesla K40s</td>\n",
       "      <td>NVIDIA</td>\n",
       "      <td>NaN</td>\n",
       "      <td>NaN</td>\n",
       "      <td>NaN</td>\n",
       "      <td>NaN</td>\n",
       "      <td>NaN</td>\n",
       "      <td>290.00</td>\n",
       "      <td>Single-unit list price</td>\n",
       "    </tr>\n",
       "    <tr>\n",
       "      <th>81</th>\n",
       "      <td>https://www.anandtech.com/show/8729/nvidia-lau...</td>\n",
       "      <td>2014-11-17</td>\n",
       "      <td>NVIDIA Tesla K80</td>\n",
       "      <td>NVIDIA</td>\n",
       "      <td>NaN</td>\n",
       "      <td>NaN</td>\n",
       "      <td>NaN</td>\n",
       "      <td>NaN</td>\n",
       "      <td>NaN</td>\n",
       "      <td>5000.00</td>\n",
       "      <td>Single-unit release price</td>\n",
       "    </tr>\n",
       "    <tr>\n",
       "      <th>82</th>\n",
       "      <td>https://www.nextplatform.com/2022/05/09/how-mu...</td>\n",
       "      <td>2016-07-01</td>\n",
       "      <td>NVIDIA Tesla K80</td>\n",
       "      <td>NVIDIA</td>\n",
       "      <td>NaN</td>\n",
       "      <td>NaN</td>\n",
       "      <td>NaN</td>\n",
       "      <td>NaN</td>\n",
       "      <td>NaN</td>\n",
       "      <td>3700.00</td>\n",
       "      <td>Single-unit list price</td>\n",
       "    </tr>\n",
       "    <tr>\n",
       "      <th>83</th>\n",
       "      <td>https://www.nextplatform.com/2022/05/09/how-mu...</td>\n",
       "      <td>2018-07-01</td>\n",
       "      <td>NVIDIA Tesla K80</td>\n",
       "      <td>NVIDIA</td>\n",
       "      <td>NaN</td>\n",
       "      <td>NaN</td>\n",
       "      <td>NaN</td>\n",
       "      <td>NaN</td>\n",
       "      <td>NaN</td>\n",
       "      <td>2500.00</td>\n",
       "      <td>Single-unit list price</td>\n",
       "    </tr>\n",
       "    <tr>\n",
       "      <th>84</th>\n",
       "      <td>https://www.nextplatform.com/2022/05/09/how-mu...</td>\n",
       "      <td>2020-07-01</td>\n",
       "      <td>NVIDIA Tesla K80</td>\n",
       "      <td>NVIDIA</td>\n",
       "      <td>NaN</td>\n",
       "      <td>NaN</td>\n",
       "      <td>NaN</td>\n",
       "      <td>NaN</td>\n",
       "      <td>NaN</td>\n",
       "      <td>940.00</td>\n",
       "      <td>Single-unit list price</td>\n",
       "    </tr>\n",
       "    <tr>\n",
       "      <th>85</th>\n",
       "      <td>https://www.nextplatform.com/2022/05/09/how-mu...</td>\n",
       "      <td>2022-07-01</td>\n",
       "      <td>NVIDIA Tesla K80</td>\n",
       "      <td>NVIDIA</td>\n",
       "      <td>NaN</td>\n",
       "      <td>NaN</td>\n",
       "      <td>NaN</td>\n",
       "      <td>NaN</td>\n",
       "      <td>NaN</td>\n",
       "      <td>435.00</td>\n",
       "      <td>Single-unit list price</td>\n",
       "    </tr>\n",
       "    <tr>\n",
       "      <th>97</th>\n",
       "      <td>https://www.techpowerup.com/gpu-specs/tesla-p1...</td>\n",
       "      <td>2016-06-20</td>\n",
       "      <td>NVIDIA Tesla P100 PCIe 16 GB</td>\n",
       "      <td>NVIDIA</td>\n",
       "      <td>NaN</td>\n",
       "      <td>NaN</td>\n",
       "      <td>NaN</td>\n",
       "      <td>NaN</td>\n",
       "      <td>NaN</td>\n",
       "      <td>5699.00</td>\n",
       "      <td>Single-unit release price</td>\n",
       "    </tr>\n",
       "    <tr>\n",
       "      <th>98</th>\n",
       "      <td>https://web.archive.org/web/20160621002700/htt...</td>\n",
       "      <td>2016-06-21</td>\n",
       "      <td>NVIDIA Tesla P100 PCIe 16 GB</td>\n",
       "      <td>NVIDIA</td>\n",
       "      <td>NaN</td>\n",
       "      <td>NaN</td>\n",
       "      <td>NaN</td>\n",
       "      <td>NaN</td>\n",
       "      <td>NaN</td>\n",
       "      <td>16125.00</td>\n",
       "      <td>DGX-1, 8 GPU, 128GB</td>\n",
       "    </tr>\n",
       "    <tr>\n",
       "      <th>99</th>\n",
       "      <td>https://www.nextplatform.com/2022/05/09/how-mu...</td>\n",
       "      <td>2016-07-01</td>\n",
       "      <td>NVIDIA Tesla P100 PCIe 16 GB</td>\n",
       "      <td>NVIDIA</td>\n",
       "      <td>NaN</td>\n",
       "      <td>NaN</td>\n",
       "      <td>NaN</td>\n",
       "      <td>NaN</td>\n",
       "      <td>NaN</td>\n",
       "      <td>5500.00</td>\n",
       "      <td>Single-unit list price</td>\n",
       "    </tr>\n",
       "    <tr>\n",
       "      <th>100</th>\n",
       "      <td>https://web.archive.org/web/20170312174101/htt...</td>\n",
       "      <td>2017-03-12</td>\n",
       "      <td>NVIDIA Tesla P100 PCIe 16 GB</td>\n",
       "      <td>NVIDIA</td>\n",
       "      <td>NaN</td>\n",
       "      <td>NaN</td>\n",
       "      <td>NaN</td>\n",
       "      <td>NaN</td>\n",
       "      <td>NaN</td>\n",
       "      <td>18543.75</td>\n",
       "      <td>DGX-1, 8 GPU, 128GB</td>\n",
       "    </tr>\n",
       "    <tr>\n",
       "      <th>101</th>\n",
       "      <td>https://www.nextplatform.com/2022/05/09/how-mu...</td>\n",
       "      <td>2018-07-01</td>\n",
       "      <td>NVIDIA Tesla P100 PCIe 16 GB</td>\n",
       "      <td>NVIDIA</td>\n",
       "      <td>NaN</td>\n",
       "      <td>NaN</td>\n",
       "      <td>NaN</td>\n",
       "      <td>NaN</td>\n",
       "      <td>NaN</td>\n",
       "      <td>5900.00</td>\n",
       "      <td>Single-unit list price</td>\n",
       "    </tr>\n",
       "    <tr>\n",
       "      <th>102</th>\n",
       "      <td>https://www.nextplatform.com/2022/05/09/how-mu...</td>\n",
       "      <td>2020-07-01</td>\n",
       "      <td>NVIDIA Tesla P100 PCIe 16 GB</td>\n",
       "      <td>NVIDIA</td>\n",
       "      <td>NaN</td>\n",
       "      <td>NaN</td>\n",
       "      <td>NaN</td>\n",
       "      <td>NaN</td>\n",
       "      <td>NaN</td>\n",
       "      <td>3500.00</td>\n",
       "      <td>Single-unit list price</td>\n",
       "    </tr>\n",
       "    <tr>\n",
       "      <th>103</th>\n",
       "      <td>https://www.nextplatform.com/2022/05/09/how-mu...</td>\n",
       "      <td>2022-07-01</td>\n",
       "      <td>NVIDIA Tesla P100 PCIe 16 GB</td>\n",
       "      <td>NVIDIA</td>\n",
       "      <td>NaN</td>\n",
       "      <td>NaN</td>\n",
       "      <td>NaN</td>\n",
       "      <td>NaN</td>\n",
       "      <td>NaN</td>\n",
       "      <td>2200.00</td>\n",
       "      <td>Single-unit list price</td>\n",
       "    </tr>\n",
       "    <tr>\n",
       "      <th>104</th>\n",
       "      <td>https://www.nextplatform.com/2022/05/09/how-mu...</td>\n",
       "      <td>2016-07-01</td>\n",
       "      <td>NVIDIA Tesla P100 SXM2</td>\n",
       "      <td>NVIDIA</td>\n",
       "      <td>NaN</td>\n",
       "      <td>NaN</td>\n",
       "      <td>NaN</td>\n",
       "      <td>NaN</td>\n",
       "      <td>NaN</td>\n",
       "      <td>10500.00</td>\n",
       "      <td>Single-unit list price</td>\n",
       "    </tr>\n",
       "    <tr>\n",
       "      <th>105</th>\n",
       "      <td>https://www.nextplatform.com/2022/05/09/how-mu...</td>\n",
       "      <td>2018-07-01</td>\n",
       "      <td>NVIDIA Tesla P100 SXM2</td>\n",
       "      <td>NVIDIA</td>\n",
       "      <td>NaN</td>\n",
       "      <td>NaN</td>\n",
       "      <td>NaN</td>\n",
       "      <td>NaN</td>\n",
       "      <td>NaN</td>\n",
       "      <td>7400.00</td>\n",
       "      <td>Single-unit list price</td>\n",
       "    </tr>\n",
       "    <tr>\n",
       "      <th>106</th>\n",
       "      <td>https://www.nextplatform.com/2022/05/09/how-mu...</td>\n",
       "      <td>2020-07-01</td>\n",
       "      <td>NVIDIA Tesla P100 SXM2</td>\n",
       "      <td>NVIDIA</td>\n",
       "      <td>NaN</td>\n",
       "      <td>NaN</td>\n",
       "      <td>NaN</td>\n",
       "      <td>NaN</td>\n",
       "      <td>NaN</td>\n",
       "      <td>4400.00</td>\n",
       "      <td>Single-unit list price</td>\n",
       "    </tr>\n",
       "    <tr>\n",
       "      <th>107</th>\n",
       "      <td>https://www.nextplatform.com/2022/05/09/how-mu...</td>\n",
       "      <td>2022-07-01</td>\n",
       "      <td>NVIDIA Tesla P100 SXM2</td>\n",
       "      <td>NVIDIA</td>\n",
       "      <td>NaN</td>\n",
       "      <td>NaN</td>\n",
       "      <td>NaN</td>\n",
       "      <td>NaN</td>\n",
       "      <td>NaN</td>\n",
       "      <td>1100.00</td>\n",
       "      <td>Single-unit list price</td>\n",
       "    </tr>\n",
       "    <tr>\n",
       "      <th>109</th>\n",
       "      <td>https://web.archive.org/web/20190111090822/htt...</td>\n",
       "      <td>2019-01-11</td>\n",
       "      <td>NVIDIA Tesla V100 DGXS 32 GB</td>\n",
       "      <td>NVIDIA</td>\n",
       "      <td>NaN</td>\n",
       "      <td>NaN</td>\n",
       "      <td>NaN</td>\n",
       "      <td>NaN</td>\n",
       "      <td>NaN</td>\n",
       "      <td>18457.50</td>\n",
       "      <td>DGX, 4 GPU, 128GB</td>\n",
       "    </tr>\n",
       "    <tr>\n",
       "      <th>110</th>\n",
       "      <td>https://web.archive.org/web/20190111061033/htt...</td>\n",
       "      <td>2019-01-11</td>\n",
       "      <td>NVIDIA Tesla V100 DGXS 32 GB</td>\n",
       "      <td>NVIDIA</td>\n",
       "      <td>NaN</td>\n",
       "      <td>NaN</td>\n",
       "      <td>NaN</td>\n",
       "      <td>NaN</td>\n",
       "      <td>NaN</td>\n",
       "      <td>19928.75</td>\n",
       "      <td>DGX-1, 8 GPU, 256GB</td>\n",
       "    </tr>\n",
       "    <tr>\n",
       "      <th>111</th>\n",
       "      <td>https://web.archive.org/web/20190111101112/htt...</td>\n",
       "      <td>2019-01-11</td>\n",
       "      <td>NVIDIA Tesla V100 DGXS 32 GB</td>\n",
       "      <td>NVIDIA</td>\n",
       "      <td>NaN</td>\n",
       "      <td>NaN</td>\n",
       "      <td>NaN</td>\n",
       "      <td>NaN</td>\n",
       "      <td>NaN</td>\n",
       "      <td>26995.63</td>\n",
       "      <td>DGX-2, 16 GPU, 512 GB</td>\n",
       "    </tr>\n",
       "    <tr>\n",
       "      <th>118</th>\n",
       "      <td>https://web.archive.org/web/20190118082125/htt...</td>\n",
       "      <td>2018-05-08</td>\n",
       "      <td>NVIDIA Tesla V100 PCIe 16 GB</td>\n",
       "      <td>NVIDIA</td>\n",
       "      <td>NaN</td>\n",
       "      <td>NaN</td>\n",
       "      <td>NaN</td>\n",
       "      <td>NaN</td>\n",
       "      <td>NaN</td>\n",
       "      <td>10664.00</td>\n",
       "      <td>Single-unit list price</td>\n",
       "    </tr>\n",
       "    <tr>\n",
       "      <th>119</th>\n",
       "      <td>https://www.nextplatform.com/2022/05/09/how-mu...</td>\n",
       "      <td>2018-07-01</td>\n",
       "      <td>NVIDIA Tesla V100 PCIe 32 GB</td>\n",
       "      <td>NVIDIA</td>\n",
       "      <td>NaN</td>\n",
       "      <td>NaN</td>\n",
       "      <td>NaN</td>\n",
       "      <td>NaN</td>\n",
       "      <td>NaN</td>\n",
       "      <td>8500.00</td>\n",
       "      <td>Single-unit list price</td>\n",
       "    </tr>\n",
       "    <tr>\n",
       "      <th>120</th>\n",
       "      <td>https://www.nextplatform.com/2022/05/09/how-mu...</td>\n",
       "      <td>2020-07-01</td>\n",
       "      <td>NVIDIA Tesla V100 PCIe 32 GB</td>\n",
       "      <td>NVIDIA</td>\n",
       "      <td>NaN</td>\n",
       "      <td>NaN</td>\n",
       "      <td>NaN</td>\n",
       "      <td>NaN</td>\n",
       "      <td>NaN</td>\n",
       "      <td>10500.00</td>\n",
       "      <td>Single-unit list price</td>\n",
       "    </tr>\n",
       "    <tr>\n",
       "      <th>121</th>\n",
       "      <td>https://www.nextplatform.com/2022/05/09/how-mu...</td>\n",
       "      <td>2022-07-01</td>\n",
       "      <td>NVIDIA Tesla V100 PCIe 32 GB</td>\n",
       "      <td>NVIDIA</td>\n",
       "      <td>NaN</td>\n",
       "      <td>NaN</td>\n",
       "      <td>NaN</td>\n",
       "      <td>NaN</td>\n",
       "      <td>NaN</td>\n",
       "      <td>7500.00</td>\n",
       "      <td>Single-unit list price</td>\n",
       "    </tr>\n",
       "    <tr>\n",
       "      <th>122</th>\n",
       "      <td>https://web.archive.org/web/20190118082125/htt...</td>\n",
       "      <td>2018-05-08</td>\n",
       "      <td>NVIDIA Tesla V100 SXM2 16 GB</td>\n",
       "      <td>NVIDIA</td>\n",
       "      <td>NaN</td>\n",
       "      <td>NaN</td>\n",
       "      <td>NaN</td>\n",
       "      <td>NaN</td>\n",
       "      <td>NaN</td>\n",
       "      <td>10664.00</td>\n",
       "      <td>Single-unit list price</td>\n",
       "    </tr>\n",
       "    <tr>\n",
       "      <th>123</th>\n",
       "      <td>https://web.archive.org/web/20190118082125/htt...</td>\n",
       "      <td>2018-05-08</td>\n",
       "      <td>NVIDIA Tesla V100 SXM2 32 GB</td>\n",
       "      <td>NVIDIA</td>\n",
       "      <td>NaN</td>\n",
       "      <td>NaN</td>\n",
       "      <td>NaN</td>\n",
       "      <td>NaN</td>\n",
       "      <td>NaN</td>\n",
       "      <td>11458.00</td>\n",
       "      <td>Single-unit list price</td>\n",
       "    </tr>\n",
       "    <tr>\n",
       "      <th>124</th>\n",
       "      <td>https://web.archive.org/web/20190118082125/htt...</td>\n",
       "      <td>2018-05-08</td>\n",
       "      <td>NVIDIA Tesla V100 SXM2 32 GB</td>\n",
       "      <td>NVIDIA</td>\n",
       "      <td>NaN</td>\n",
       "      <td>NaN</td>\n",
       "      <td>NaN</td>\n",
       "      <td>NaN</td>\n",
       "      <td>NaN</td>\n",
       "      <td>11458.00</td>\n",
       "      <td>Single-unit list price</td>\n",
       "    </tr>\n",
       "    <tr>\n",
       "      <th>125</th>\n",
       "      <td>https://www.nextplatform.com/2022/05/09/how-mu...</td>\n",
       "      <td>2018-07-01</td>\n",
       "      <td>NVIDIA Tesla V100 SXM3 32 GB</td>\n",
       "      <td>NVIDIA</td>\n",
       "      <td>NaN</td>\n",
       "      <td>NaN</td>\n",
       "      <td>NaN</td>\n",
       "      <td>NaN</td>\n",
       "      <td>NaN</td>\n",
       "      <td>11500.00</td>\n",
       "      <td>Single-unit list price</td>\n",
       "    </tr>\n",
       "    <tr>\n",
       "      <th>126</th>\n",
       "      <td>https://www.nextplatform.com/2022/05/09/how-mu...</td>\n",
       "      <td>2020-07-01</td>\n",
       "      <td>NVIDIA Tesla V100 SXM3 32 GB</td>\n",
       "      <td>NVIDIA</td>\n",
       "      <td>NaN</td>\n",
       "      <td>NaN</td>\n",
       "      <td>NaN</td>\n",
       "      <td>NaN</td>\n",
       "      <td>NaN</td>\n",
       "      <td>13700.00</td>\n",
       "      <td>Single-unit list price</td>\n",
       "    </tr>\n",
       "    <tr>\n",
       "      <th>127</th>\n",
       "      <td>https://www.nextplatform.com/2022/05/09/how-mu...</td>\n",
       "      <td>2022-07-01</td>\n",
       "      <td>NVIDIA Tesla V100 SXM3 32 GB</td>\n",
       "      <td>NVIDIA</td>\n",
       "      <td>NaN</td>\n",
       "      <td>NaN</td>\n",
       "      <td>NaN</td>\n",
       "      <td>NaN</td>\n",
       "      <td>NaN</td>\n",
       "      <td>2500.00</td>\n",
       "      <td>Single-unit list price</td>\n",
       "    </tr>\n",
       "    <tr>\n",
       "      <th>128</th>\n",
       "      <td>https://web.archive.org/web/20170513081017/htt...</td>\n",
       "      <td>2017-07-01</td>\n",
       "      <td>NVIDIA V100</td>\n",
       "      <td>NVIDIA</td>\n",
       "      <td>NaN</td>\n",
       "      <td>NaN</td>\n",
       "      <td>NaN</td>\n",
       "      <td>NaN</td>\n",
       "      <td>NaN</td>\n",
       "      <td>18625.00</td>\n",
       "      <td>Price at release (2017 Q3) for a DGX-1 with 8x...</td>\n",
       "    </tr>\n",
       "    <tr>\n",
       "      <th>129</th>\n",
       "      <td>https://web.archive.org/web/20170513081017/htt...</td>\n",
       "      <td>2017-07-01</td>\n",
       "      <td>NVIDIA V100</td>\n",
       "      <td>NVIDIA</td>\n",
       "      <td>NaN</td>\n",
       "      <td>NaN</td>\n",
       "      <td>NaN</td>\n",
       "      <td>NaN</td>\n",
       "      <td>NaN</td>\n",
       "      <td>17250.00</td>\n",
       "      <td>Price at release (2017 Q3) for a DGXS with 4x ...</td>\n",
       "    </tr>\n",
       "  </tbody>\n",
       "</table>\n",
       "</div>"
      ],
      "text/plain": [
       "                                          Price source Price date  \\\n",
       "25   https://www.nextplatform.com/2022/05/09/how-mu... 2020-07-01   \n",
       "26   https://www.nextplatform.com/2022/05/09/how-mu... 2022-07-01   \n",
       "38   https://web.archive.org/web/20200521074015/htt... 2020-05-21   \n",
       "39   https://www.nextplatform.com/2022/05/09/how-mu... 2020-07-01   \n",
       "40   https://www.nextplatform.com/2022/05/09/how-mu... 2022-07-01   \n",
       "48   https://web.archive.org/web/20210630170623/htt... 2021-06-30   \n",
       "49   https://web.archive.org/web/20220120191032/htt... 2022-01-20   \n",
       "50   https://web.archive.org/web/20230923154035/htt... 2023-09-23   \n",
       "57   https://www.techpowerup.com/gpu-specs/geforce-... 2015-03-17   \n",
       "59   https://web.archive.org/web/20220929115124/htt... 2022-09-29   \n",
       "60   https://web.archive.org/web/20230529125834/htt... 2023-05-29   \n",
       "61   https://web.archive.org/web/20231211031623/htt... 2023-12-11   \n",
       "62   https://web.archive.org/web/20240320115454/htt... 2024-03-20   \n",
       "63   https://web.archive.org/web/20240321212632/htt... 2024-03-21   \n",
       "74   https://www.nextplatform.com/2022/05/09/how-mu... 2012-07-01   \n",
       "75   https://www.techpowerup.com/gpu-specs/tesla-k4... 2013-11-22   \n",
       "76   https://www.nextplatform.com/2022/05/09/how-mu... 2014-07-01   \n",
       "77   https://www.nextplatform.com/2022/05/09/how-mu... 2016-07-01   \n",
       "78   https://www.nextplatform.com/2022/05/09/how-mu... 2018-07-01   \n",
       "79   https://www.nextplatform.com/2022/05/09/how-mu... 2020-07-01   \n",
       "80   https://www.nextplatform.com/2022/05/09/how-mu... 2022-07-01   \n",
       "81   https://www.anandtech.com/show/8729/nvidia-lau... 2014-11-17   \n",
       "82   https://www.nextplatform.com/2022/05/09/how-mu... 2016-07-01   \n",
       "83   https://www.nextplatform.com/2022/05/09/how-mu... 2018-07-01   \n",
       "84   https://www.nextplatform.com/2022/05/09/how-mu... 2020-07-01   \n",
       "85   https://www.nextplatform.com/2022/05/09/how-mu... 2022-07-01   \n",
       "97   https://www.techpowerup.com/gpu-specs/tesla-p1... 2016-06-20   \n",
       "98   https://web.archive.org/web/20160621002700/htt... 2016-06-21   \n",
       "99   https://www.nextplatform.com/2022/05/09/how-mu... 2016-07-01   \n",
       "100  https://web.archive.org/web/20170312174101/htt... 2017-03-12   \n",
       "101  https://www.nextplatform.com/2022/05/09/how-mu... 2018-07-01   \n",
       "102  https://www.nextplatform.com/2022/05/09/how-mu... 2020-07-01   \n",
       "103  https://www.nextplatform.com/2022/05/09/how-mu... 2022-07-01   \n",
       "104  https://www.nextplatform.com/2022/05/09/how-mu... 2016-07-01   \n",
       "105  https://www.nextplatform.com/2022/05/09/how-mu... 2018-07-01   \n",
       "106  https://www.nextplatform.com/2022/05/09/how-mu... 2020-07-01   \n",
       "107  https://www.nextplatform.com/2022/05/09/how-mu... 2022-07-01   \n",
       "109  https://web.archive.org/web/20190111090822/htt... 2019-01-11   \n",
       "110  https://web.archive.org/web/20190111061033/htt... 2019-01-11   \n",
       "111  https://web.archive.org/web/20190111101112/htt... 2019-01-11   \n",
       "118  https://web.archive.org/web/20190118082125/htt... 2018-05-08   \n",
       "119  https://www.nextplatform.com/2022/05/09/how-mu... 2018-07-01   \n",
       "120  https://www.nextplatform.com/2022/05/09/how-mu... 2020-07-01   \n",
       "121  https://www.nextplatform.com/2022/05/09/how-mu... 2022-07-01   \n",
       "122  https://web.archive.org/web/20190118082125/htt... 2018-05-08   \n",
       "123  https://web.archive.org/web/20190118082125/htt... 2018-05-08   \n",
       "124  https://web.archive.org/web/20190118082125/htt... 2018-05-08   \n",
       "125  https://www.nextplatform.com/2022/05/09/how-mu... 2018-07-01   \n",
       "126  https://www.nextplatform.com/2022/05/09/how-mu... 2020-07-01   \n",
       "127  https://www.nextplatform.com/2022/05/09/how-mu... 2022-07-01   \n",
       "128  https://web.archive.org/web/20170513081017/htt... 2017-07-01   \n",
       "129  https://web.archive.org/web/20170513081017/htt... 2017-07-01   \n",
       "\n",
       "                   Hardware model Manufacturer (from Hardware model) Vendor  \\\n",
       "25               NVIDIA A100 PCIe                             NVIDIA    NaN   \n",
       "26               NVIDIA A100 PCIe                             NVIDIA    NaN   \n",
       "38         NVIDIA A100 SXM4 40 GB                             NVIDIA    NaN   \n",
       "39         NVIDIA A100 SXM4 40 GB                             NVIDIA    NaN   \n",
       "40         NVIDIA A100 SXM4 40 GB                             NVIDIA    NaN   \n",
       "48         NVIDIA A100 SXM4 80 GB                             NVIDIA    NaN   \n",
       "49         NVIDIA A100 SXM4 80 GB                             NVIDIA    NaN   \n",
       "50         NVIDIA A100 SXM4 80 GB                             NVIDIA    NaN   \n",
       "57             NVIDIA GTX Titan X                             NVIDIA    NaN   \n",
       "59               NVIDIA H100 SXM5                             NVIDIA    NaN   \n",
       "60               NVIDIA H100 SXM5                             NVIDIA    NaN   \n",
       "61               NVIDIA H100 SXM5                             NVIDIA    NaN   \n",
       "62               NVIDIA H100 SXM5                             NVIDIA    NaN   \n",
       "63               NVIDIA H100 SXM5                             NVIDIA    NaN   \n",
       "74              NVIDIA Tesla K40s                             NVIDIA    NaN   \n",
       "75              NVIDIA Tesla K40s                             NVIDIA    NaN   \n",
       "76              NVIDIA Tesla K40s                             NVIDIA    NaN   \n",
       "77              NVIDIA Tesla K40s                             NVIDIA    NaN   \n",
       "78              NVIDIA Tesla K40s                             NVIDIA    NaN   \n",
       "79              NVIDIA Tesla K40s                             NVIDIA    NaN   \n",
       "80              NVIDIA Tesla K40s                             NVIDIA    NaN   \n",
       "81               NVIDIA Tesla K80                             NVIDIA    NaN   \n",
       "82               NVIDIA Tesla K80                             NVIDIA    NaN   \n",
       "83               NVIDIA Tesla K80                             NVIDIA    NaN   \n",
       "84               NVIDIA Tesla K80                             NVIDIA    NaN   \n",
       "85               NVIDIA Tesla K80                             NVIDIA    NaN   \n",
       "97   NVIDIA Tesla P100 PCIe 16 GB                             NVIDIA    NaN   \n",
       "98   NVIDIA Tesla P100 PCIe 16 GB                             NVIDIA    NaN   \n",
       "99   NVIDIA Tesla P100 PCIe 16 GB                             NVIDIA    NaN   \n",
       "100  NVIDIA Tesla P100 PCIe 16 GB                             NVIDIA    NaN   \n",
       "101  NVIDIA Tesla P100 PCIe 16 GB                             NVIDIA    NaN   \n",
       "102  NVIDIA Tesla P100 PCIe 16 GB                             NVIDIA    NaN   \n",
       "103  NVIDIA Tesla P100 PCIe 16 GB                             NVIDIA    NaN   \n",
       "104        NVIDIA Tesla P100 SXM2                             NVIDIA    NaN   \n",
       "105        NVIDIA Tesla P100 SXM2                             NVIDIA    NaN   \n",
       "106        NVIDIA Tesla P100 SXM2                             NVIDIA    NaN   \n",
       "107        NVIDIA Tesla P100 SXM2                             NVIDIA    NaN   \n",
       "109  NVIDIA Tesla V100 DGXS 32 GB                             NVIDIA    NaN   \n",
       "110  NVIDIA Tesla V100 DGXS 32 GB                             NVIDIA    NaN   \n",
       "111  NVIDIA Tesla V100 DGXS 32 GB                             NVIDIA    NaN   \n",
       "118  NVIDIA Tesla V100 PCIe 16 GB                             NVIDIA    NaN   \n",
       "119  NVIDIA Tesla V100 PCIe 32 GB                             NVIDIA    NaN   \n",
       "120  NVIDIA Tesla V100 PCIe 32 GB                             NVIDIA    NaN   \n",
       "121  NVIDIA Tesla V100 PCIe 32 GB                             NVIDIA    NaN   \n",
       "122  NVIDIA Tesla V100 SXM2 16 GB                             NVIDIA    NaN   \n",
       "123  NVIDIA Tesla V100 SXM2 32 GB                             NVIDIA    NaN   \n",
       "124  NVIDIA Tesla V100 SXM2 32 GB                             NVIDIA    NaN   \n",
       "125  NVIDIA Tesla V100 SXM3 32 GB                             NVIDIA    NaN   \n",
       "126  NVIDIA Tesla V100 SXM3 32 GB                             NVIDIA    NaN   \n",
       "127  NVIDIA Tesla V100 SXM3 32 GB                             NVIDIA    NaN   \n",
       "128                   NVIDIA V100                             NVIDIA    NaN   \n",
       "129                   NVIDIA V100                             NVIDIA    NaN   \n",
       "\n",
       "    Location  Price per chip-hour (on-demand)  \\\n",
       "25       NaN                              NaN   \n",
       "26       NaN                              NaN   \n",
       "38       NaN                              NaN   \n",
       "39       NaN                              NaN   \n",
       "40       NaN                              NaN   \n",
       "48       NaN                              NaN   \n",
       "49       NaN                              NaN   \n",
       "50       NaN                              NaN   \n",
       "57       NaN                              NaN   \n",
       "59       NaN                              NaN   \n",
       "60       NaN                              NaN   \n",
       "61       NaN                              NaN   \n",
       "62       NaN                              NaN   \n",
       "63       NaN                              NaN   \n",
       "74       NaN                              NaN   \n",
       "75       NaN                              NaN   \n",
       "76       NaN                              NaN   \n",
       "77       NaN                              NaN   \n",
       "78       NaN                              NaN   \n",
       "79       NaN                              NaN   \n",
       "80       NaN                              NaN   \n",
       "81       NaN                              NaN   \n",
       "82       NaN                              NaN   \n",
       "83       NaN                              NaN   \n",
       "84       NaN                              NaN   \n",
       "85       NaN                              NaN   \n",
       "97       NaN                              NaN   \n",
       "98       NaN                              NaN   \n",
       "99       NaN                              NaN   \n",
       "100      NaN                              NaN   \n",
       "101      NaN                              NaN   \n",
       "102      NaN                              NaN   \n",
       "103      NaN                              NaN   \n",
       "104      NaN                              NaN   \n",
       "105      NaN                              NaN   \n",
       "106      NaN                              NaN   \n",
       "107      NaN                              NaN   \n",
       "109      NaN                              NaN   \n",
       "110      NaN                              NaN   \n",
       "111      NaN                              NaN   \n",
       "118      NaN                              NaN   \n",
       "119      NaN                              NaN   \n",
       "120      NaN                              NaN   \n",
       "121      NaN                              NaN   \n",
       "122      NaN                              NaN   \n",
       "123      NaN                              NaN   \n",
       "124      NaN                              NaN   \n",
       "125      NaN                              NaN   \n",
       "126      NaN                              NaN   \n",
       "127      NaN                              NaN   \n",
       "128      NaN                              NaN   \n",
       "129      NaN                              NaN   \n",
       "\n",
       "     Price per chip-hour (1-year CUD)  Price per chip-hour (3-year CUD)  \\\n",
       "25                                NaN                               NaN   \n",
       "26                                NaN                               NaN   \n",
       "38                                NaN                               NaN   \n",
       "39                                NaN                               NaN   \n",
       "40                                NaN                               NaN   \n",
       "48                                NaN                               NaN   \n",
       "49                                NaN                               NaN   \n",
       "50                                NaN                               NaN   \n",
       "57                                NaN                               NaN   \n",
       "59                                NaN                               NaN   \n",
       "60                                NaN                               NaN   \n",
       "61                                NaN                               NaN   \n",
       "62                                NaN                               NaN   \n",
       "63                                NaN                               NaN   \n",
       "74                                NaN                               NaN   \n",
       "75                                NaN                               NaN   \n",
       "76                                NaN                               NaN   \n",
       "77                                NaN                               NaN   \n",
       "78                                NaN                               NaN   \n",
       "79                                NaN                               NaN   \n",
       "80                                NaN                               NaN   \n",
       "81                                NaN                               NaN   \n",
       "82                                NaN                               NaN   \n",
       "83                                NaN                               NaN   \n",
       "84                                NaN                               NaN   \n",
       "85                                NaN                               NaN   \n",
       "97                                NaN                               NaN   \n",
       "98                                NaN                               NaN   \n",
       "99                                NaN                               NaN   \n",
       "100                               NaN                               NaN   \n",
       "101                               NaN                               NaN   \n",
       "102                               NaN                               NaN   \n",
       "103                               NaN                               NaN   \n",
       "104                               NaN                               NaN   \n",
       "105                               NaN                               NaN   \n",
       "106                               NaN                               NaN   \n",
       "107                               NaN                               NaN   \n",
       "109                               NaN                               NaN   \n",
       "110                               NaN                               NaN   \n",
       "111                               NaN                               NaN   \n",
       "118                               NaN                               NaN   \n",
       "119                               NaN                               NaN   \n",
       "120                               NaN                               NaN   \n",
       "121                               NaN                               NaN   \n",
       "122                               NaN                               NaN   \n",
       "123                               NaN                               NaN   \n",
       "124                               NaN                               NaN   \n",
       "125                               NaN                               NaN   \n",
       "126                               NaN                               NaN   \n",
       "127                               NaN                               NaN   \n",
       "128                               NaN                               NaN   \n",
       "129                               NaN                               NaN   \n",
       "\n",
       "     Price (hardware purchase)  \\\n",
       "25                    15000.00   \n",
       "26                    12500.00   \n",
       "38                    24875.00   \n",
       "39                    15000.00   \n",
       "40                    12500.00   \n",
       "48                    37500.00   \n",
       "49                    20875.00   \n",
       "50                    18548.75   \n",
       "57                      999.00   \n",
       "59                    44489.88   \n",
       "60                    33750.00   \n",
       "61                    41197.50   \n",
       "62                    41217.00   \n",
       "63                    37080.50   \n",
       "74                     5400.00   \n",
       "75                     7699.00   \n",
       "76                     4200.00   \n",
       "77                     2900.00   \n",
       "78                     2300.00   \n",
       "79                      540.00   \n",
       "80                      290.00   \n",
       "81                     5000.00   \n",
       "82                     3700.00   \n",
       "83                     2500.00   \n",
       "84                      940.00   \n",
       "85                      435.00   \n",
       "97                     5699.00   \n",
       "98                    16125.00   \n",
       "99                     5500.00   \n",
       "100                   18543.75   \n",
       "101                    5900.00   \n",
       "102                    3500.00   \n",
       "103                    2200.00   \n",
       "104                   10500.00   \n",
       "105                    7400.00   \n",
       "106                    4400.00   \n",
       "107                    1100.00   \n",
       "109                   18457.50   \n",
       "110                   19928.75   \n",
       "111                   26995.63   \n",
       "118                   10664.00   \n",
       "119                    8500.00   \n",
       "120                   10500.00   \n",
       "121                    7500.00   \n",
       "122                   10664.00   \n",
       "123                   11458.00   \n",
       "124                   11458.00   \n",
       "125                   11500.00   \n",
       "126                   13700.00   \n",
       "127                    2500.00   \n",
       "128                   18625.00   \n",
       "129                   17250.00   \n",
       "\n",
       "                                                 Notes  \n",
       "25                              Single-unit list price  \n",
       "26                              Single-unit list price  \n",
       "38              DGX A100, 8 GPU, 320GB. Release price.  \n",
       "39                              Single-unit list price  \n",
       "40                              Single-unit list price  \n",
       "48                              DGX A100, 8 GPU, 640GB  \n",
       "49                              DGX A100, 8 GPU, 640GB  \n",
       "50                              HGX A100, 8 GPU, 640GB  \n",
       "57                           Single-unit release price  \n",
       "59   DGX, 8 GPU, 640GB. Convert Euro to USD: https:...  \n",
       "60   DGX, 8 GPU, 640GB. “Nvidia sells DGX H100’s at...  \n",
       "61   DGX, 8 GPU, 640GB. Convert Euro to USD: https:...  \n",
       "62   DGX, 8 GPU, 640GB. Convert Euro to USD: https:...  \n",
       "63                                   HGX, 8 GPU, 640GB  \n",
       "74                           Single-unit release price  \n",
       "75                           Single-unit release price  \n",
       "76                              Single-unit list price  \n",
       "77                              Single-unit list price  \n",
       "78                              Single-unit list price  \n",
       "79                              Single-unit list price  \n",
       "80                              Single-unit list price  \n",
       "81                           Single-unit release price  \n",
       "82                              Single-unit list price  \n",
       "83                              Single-unit list price  \n",
       "84                              Single-unit list price  \n",
       "85                              Single-unit list price  \n",
       "97                           Single-unit release price  \n",
       "98                                 DGX-1, 8 GPU, 128GB  \n",
       "99                              Single-unit list price  \n",
       "100                                DGX-1, 8 GPU, 128GB  \n",
       "101                             Single-unit list price  \n",
       "102                             Single-unit list price  \n",
       "103                             Single-unit list price  \n",
       "104                             Single-unit list price  \n",
       "105                             Single-unit list price  \n",
       "106                             Single-unit list price  \n",
       "107                             Single-unit list price  \n",
       "109                                  DGX, 4 GPU, 128GB  \n",
       "110                                DGX-1, 8 GPU, 256GB  \n",
       "111                              DGX-2, 16 GPU, 512 GB  \n",
       "118                             Single-unit list price  \n",
       "119                             Single-unit list price  \n",
       "120                             Single-unit list price  \n",
       "121                             Single-unit list price  \n",
       "122                             Single-unit list price  \n",
       "123                             Single-unit list price  \n",
       "124                             Single-unit list price  \n",
       "125                             Single-unit list price  \n",
       "126                             Single-unit list price  \n",
       "127                             Single-unit list price  \n",
       "128  Price at release (2017 Q3) for a DGX-1 with 8x...  \n",
       "129  Price at release (2017 Q3) for a DGXS with 4x ...  "
      ]
     },
     "execution_count": 6,
     "metadata": {},
     "output_type": "execute_result"
    }
   ],
   "source": [
    "price_colname = 'Price (hardware purchase)'\n",
    "purchase_price_df = price_df.dropna(subset=[price_colname])\n",
    "purchase_price_df"
   ]
  },
  {
   "cell_type": "code",
   "execution_count": 7,
   "metadata": {},
   "outputs": [
    {
     "data": {
      "text/html": [
       "<div>\n",
       "<style scoped>\n",
       "    .dataframe tbody tr th:only-of-type {\n",
       "        vertical-align: middle;\n",
       "    }\n",
       "\n",
       "    .dataframe tbody tr th {\n",
       "        vertical-align: top;\n",
       "    }\n",
       "\n",
       "    .dataframe thead th {\n",
       "        text-align: right;\n",
       "    }\n",
       "</style>\n",
       "<table border=\"1\" class=\"dataframe\">\n",
       "  <thead>\n",
       "    <tr style=\"text-align: right;\">\n",
       "      <th></th>\n",
       "      <th>Price source</th>\n",
       "      <th>Price date</th>\n",
       "      <th>Hardware model</th>\n",
       "      <th>Manufacturer (from Hardware model)</th>\n",
       "      <th>Vendor</th>\n",
       "      <th>Location</th>\n",
       "      <th>Price per chip-hour (on-demand)</th>\n",
       "      <th>Price per chip-hour (1-year CUD)</th>\n",
       "      <th>Price per chip-hour (3-year CUD)</th>\n",
       "      <th>Price (hardware purchase)</th>\n",
       "      <th>Notes</th>\n",
       "    </tr>\n",
       "  </thead>\n",
       "  <tbody>\n",
       "    <tr>\n",
       "      <th>25</th>\n",
       "      <td>https://www.nextplatform.com/2022/05/09/how-mu...</td>\n",
       "      <td>2020-07-01</td>\n",
       "      <td>NVIDIA A100 PCIe</td>\n",
       "      <td>NVIDIA</td>\n",
       "      <td>NaN</td>\n",
       "      <td>NaN</td>\n",
       "      <td>NaN</td>\n",
       "      <td>NaN</td>\n",
       "      <td>NaN</td>\n",
       "      <td>24900.0</td>\n",
       "      <td>server-equivalent list price</td>\n",
       "    </tr>\n",
       "    <tr>\n",
       "      <th>26</th>\n",
       "      <td>https://www.nextplatform.com/2022/05/09/how-mu...</td>\n",
       "      <td>2022-07-01</td>\n",
       "      <td>NVIDIA A100 PCIe</td>\n",
       "      <td>NVIDIA</td>\n",
       "      <td>NaN</td>\n",
       "      <td>NaN</td>\n",
       "      <td>NaN</td>\n",
       "      <td>NaN</td>\n",
       "      <td>NaN</td>\n",
       "      <td>20750.0</td>\n",
       "      <td>server-equivalent list price</td>\n",
       "    </tr>\n",
       "    <tr>\n",
       "      <th>38</th>\n",
       "      <td>https://web.archive.org/web/20200521074015/htt...</td>\n",
       "      <td>2020-05-21</td>\n",
       "      <td>NVIDIA A100 SXM4 40 GB</td>\n",
       "      <td>NVIDIA</td>\n",
       "      <td>NaN</td>\n",
       "      <td>NaN</td>\n",
       "      <td>NaN</td>\n",
       "      <td>NaN</td>\n",
       "      <td>NaN</td>\n",
       "      <td>24875.0</td>\n",
       "      <td>DGX A100, 8 GPU, 320GB. Release price.</td>\n",
       "    </tr>\n",
       "    <tr>\n",
       "      <th>39</th>\n",
       "      <td>https://www.nextplatform.com/2022/05/09/how-mu...</td>\n",
       "      <td>2020-07-01</td>\n",
       "      <td>NVIDIA A100 SXM4 40 GB</td>\n",
       "      <td>NVIDIA</td>\n",
       "      <td>NaN</td>\n",
       "      <td>NaN</td>\n",
       "      <td>NaN</td>\n",
       "      <td>NaN</td>\n",
       "      <td>NaN</td>\n",
       "      <td>24900.0</td>\n",
       "      <td>server-equivalent list price</td>\n",
       "    </tr>\n",
       "    <tr>\n",
       "      <th>40</th>\n",
       "      <td>https://www.nextplatform.com/2022/05/09/how-mu...</td>\n",
       "      <td>2022-07-01</td>\n",
       "      <td>NVIDIA A100 SXM4 40 GB</td>\n",
       "      <td>NVIDIA</td>\n",
       "      <td>NaN</td>\n",
       "      <td>NaN</td>\n",
       "      <td>NaN</td>\n",
       "      <td>NaN</td>\n",
       "      <td>NaN</td>\n",
       "      <td>20750.0</td>\n",
       "      <td>server-equivalent list price</td>\n",
       "    </tr>\n",
       "    <tr>\n",
       "      <th>48</th>\n",
       "      <td>https://web.archive.org/web/20210630170623/htt...</td>\n",
       "      <td>2021-06-30</td>\n",
       "      <td>NVIDIA A100 SXM4 80 GB</td>\n",
       "      <td>NVIDIA</td>\n",
       "      <td>NaN</td>\n",
       "      <td>NaN</td>\n",
       "      <td>NaN</td>\n",
       "      <td>NaN</td>\n",
       "      <td>NaN</td>\n",
       "      <td>37500.0</td>\n",
       "      <td>DGX A100, 8 GPU, 640GB</td>\n",
       "    </tr>\n",
       "    <tr>\n",
       "      <th>49</th>\n",
       "      <td>https://web.archive.org/web/20220120191032/htt...</td>\n",
       "      <td>2022-01-20</td>\n",
       "      <td>NVIDIA A100 SXM4 80 GB</td>\n",
       "      <td>NVIDIA</td>\n",
       "      <td>NaN</td>\n",
       "      <td>NaN</td>\n",
       "      <td>NaN</td>\n",
       "      <td>NaN</td>\n",
       "      <td>NaN</td>\n",
       "      <td>20875.0</td>\n",
       "      <td>DGX A100, 8 GPU, 640GB</td>\n",
       "    </tr>\n",
       "    <tr>\n",
       "      <th>50</th>\n",
       "      <td>https://web.archive.org/web/20230923154035/htt...</td>\n",
       "      <td>2023-09-23</td>\n",
       "      <td>NVIDIA A100 SXM4 80 GB</td>\n",
       "      <td>NVIDIA</td>\n",
       "      <td>NaN</td>\n",
       "      <td>NaN</td>\n",
       "      <td>NaN</td>\n",
       "      <td>NaN</td>\n",
       "      <td>NaN</td>\n",
       "      <td>18548.75</td>\n",
       "      <td>HGX A100, 8 GPU, 640GB</td>\n",
       "    </tr>\n",
       "    <tr>\n",
       "      <th>57</th>\n",
       "      <td>https://www.techpowerup.com/gpu-specs/geforce-...</td>\n",
       "      <td>2015-03-17</td>\n",
       "      <td>NVIDIA GTX Titan X</td>\n",
       "      <td>NVIDIA</td>\n",
       "      <td>NaN</td>\n",
       "      <td>NaN</td>\n",
       "      <td>NaN</td>\n",
       "      <td>NaN</td>\n",
       "      <td>NaN</td>\n",
       "      <td>1638.36</td>\n",
       "      <td>server-equivalent release price</td>\n",
       "    </tr>\n",
       "    <tr>\n",
       "      <th>59</th>\n",
       "      <td>https://web.archive.org/web/20220929115124/htt...</td>\n",
       "      <td>2022-09-29</td>\n",
       "      <td>NVIDIA H100 SXM5</td>\n",
       "      <td>NVIDIA</td>\n",
       "      <td>NaN</td>\n",
       "      <td>NaN</td>\n",
       "      <td>NaN</td>\n",
       "      <td>NaN</td>\n",
       "      <td>NaN</td>\n",
       "      <td>44489.88</td>\n",
       "      <td>DGX, 8 GPU, 640GB. Convert Euro to USD: https:...</td>\n",
       "    </tr>\n",
       "    <tr>\n",
       "      <th>60</th>\n",
       "      <td>https://web.archive.org/web/20230529125834/htt...</td>\n",
       "      <td>2023-05-29</td>\n",
       "      <td>NVIDIA H100 SXM5</td>\n",
       "      <td>NVIDIA</td>\n",
       "      <td>NaN</td>\n",
       "      <td>NaN</td>\n",
       "      <td>NaN</td>\n",
       "      <td>NaN</td>\n",
       "      <td>NaN</td>\n",
       "      <td>33750.0</td>\n",
       "      <td>DGX, 8 GPU, 640GB. “Nvidia sells DGX H100’s at...</td>\n",
       "    </tr>\n",
       "    <tr>\n",
       "      <th>61</th>\n",
       "      <td>https://web.archive.org/web/20231211031623/htt...</td>\n",
       "      <td>2023-12-11</td>\n",
       "      <td>NVIDIA H100 SXM5</td>\n",
       "      <td>NVIDIA</td>\n",
       "      <td>NaN</td>\n",
       "      <td>NaN</td>\n",
       "      <td>NaN</td>\n",
       "      <td>NaN</td>\n",
       "      <td>NaN</td>\n",
       "      <td>41197.5</td>\n",
       "      <td>DGX, 8 GPU, 640GB. Convert Euro to USD: https:...</td>\n",
       "    </tr>\n",
       "    <tr>\n",
       "      <th>62</th>\n",
       "      <td>https://web.archive.org/web/20240320115454/htt...</td>\n",
       "      <td>2024-03-20</td>\n",
       "      <td>NVIDIA H100 SXM5</td>\n",
       "      <td>NVIDIA</td>\n",
       "      <td>NaN</td>\n",
       "      <td>NaN</td>\n",
       "      <td>NaN</td>\n",
       "      <td>NaN</td>\n",
       "      <td>NaN</td>\n",
       "      <td>41217.0</td>\n",
       "      <td>DGX, 8 GPU, 640GB. Convert Euro to USD: https:...</td>\n",
       "    </tr>\n",
       "    <tr>\n",
       "      <th>63</th>\n",
       "      <td>https://web.archive.org/web/20240321212632/htt...</td>\n",
       "      <td>2024-03-21</td>\n",
       "      <td>NVIDIA H100 SXM5</td>\n",
       "      <td>NVIDIA</td>\n",
       "      <td>NaN</td>\n",
       "      <td>NaN</td>\n",
       "      <td>NaN</td>\n",
       "      <td>NaN</td>\n",
       "      <td>NaN</td>\n",
       "      <td>37080.5</td>\n",
       "      <td>HGX, 8 GPU, 640GB</td>\n",
       "    </tr>\n",
       "    <tr>\n",
       "      <th>74</th>\n",
       "      <td>https://www.nextplatform.com/2022/05/09/how-mu...</td>\n",
       "      <td>2012-07-01</td>\n",
       "      <td>NVIDIA Tesla K40s</td>\n",
       "      <td>NVIDIA</td>\n",
       "      <td>NaN</td>\n",
       "      <td>NaN</td>\n",
       "      <td>NaN</td>\n",
       "      <td>NaN</td>\n",
       "      <td>NaN</td>\n",
       "      <td>8856.0</td>\n",
       "      <td>server-equivalent release price</td>\n",
       "    </tr>\n",
       "    <tr>\n",
       "      <th>75</th>\n",
       "      <td>https://www.techpowerup.com/gpu-specs/tesla-k4...</td>\n",
       "      <td>2013-11-22</td>\n",
       "      <td>NVIDIA Tesla K40s</td>\n",
       "      <td>NVIDIA</td>\n",
       "      <td>NaN</td>\n",
       "      <td>NaN</td>\n",
       "      <td>NaN</td>\n",
       "      <td>NaN</td>\n",
       "      <td>NaN</td>\n",
       "      <td>12626.36</td>\n",
       "      <td>server-equivalent release price</td>\n",
       "    </tr>\n",
       "    <tr>\n",
       "      <th>76</th>\n",
       "      <td>https://www.nextplatform.com/2022/05/09/how-mu...</td>\n",
       "      <td>2014-07-01</td>\n",
       "      <td>NVIDIA Tesla K40s</td>\n",
       "      <td>NVIDIA</td>\n",
       "      <td>NaN</td>\n",
       "      <td>NaN</td>\n",
       "      <td>NaN</td>\n",
       "      <td>NaN</td>\n",
       "      <td>NaN</td>\n",
       "      <td>6888.0</td>\n",
       "      <td>server-equivalent list price</td>\n",
       "    </tr>\n",
       "    <tr>\n",
       "      <th>77</th>\n",
       "      <td>https://www.nextplatform.com/2022/05/09/how-mu...</td>\n",
       "      <td>2016-07-01</td>\n",
       "      <td>NVIDIA Tesla K40s</td>\n",
       "      <td>NVIDIA</td>\n",
       "      <td>NaN</td>\n",
       "      <td>NaN</td>\n",
       "      <td>NaN</td>\n",
       "      <td>NaN</td>\n",
       "      <td>NaN</td>\n",
       "      <td>4756.0</td>\n",
       "      <td>server-equivalent list price</td>\n",
       "    </tr>\n",
       "    <tr>\n",
       "      <th>78</th>\n",
       "      <td>https://www.nextplatform.com/2022/05/09/how-mu...</td>\n",
       "      <td>2018-07-01</td>\n",
       "      <td>NVIDIA Tesla K40s</td>\n",
       "      <td>NVIDIA</td>\n",
       "      <td>NaN</td>\n",
       "      <td>NaN</td>\n",
       "      <td>NaN</td>\n",
       "      <td>NaN</td>\n",
       "      <td>NaN</td>\n",
       "      <td>3772.0</td>\n",
       "      <td>server-equivalent list price</td>\n",
       "    </tr>\n",
       "    <tr>\n",
       "      <th>79</th>\n",
       "      <td>https://www.nextplatform.com/2022/05/09/how-mu...</td>\n",
       "      <td>2020-07-01</td>\n",
       "      <td>NVIDIA Tesla K40s</td>\n",
       "      <td>NVIDIA</td>\n",
       "      <td>NaN</td>\n",
       "      <td>NaN</td>\n",
       "      <td>NaN</td>\n",
       "      <td>NaN</td>\n",
       "      <td>NaN</td>\n",
       "      <td>885.6</td>\n",
       "      <td>server-equivalent list price</td>\n",
       "    </tr>\n",
       "    <tr>\n",
       "      <th>80</th>\n",
       "      <td>https://www.nextplatform.com/2022/05/09/how-mu...</td>\n",
       "      <td>2022-07-01</td>\n",
       "      <td>NVIDIA Tesla K40s</td>\n",
       "      <td>NVIDIA</td>\n",
       "      <td>NaN</td>\n",
       "      <td>NaN</td>\n",
       "      <td>NaN</td>\n",
       "      <td>NaN</td>\n",
       "      <td>NaN</td>\n",
       "      <td>475.6</td>\n",
       "      <td>server-equivalent list price</td>\n",
       "    </tr>\n",
       "    <tr>\n",
       "      <th>81</th>\n",
       "      <td>https://www.anandtech.com/show/8729/nvidia-lau...</td>\n",
       "      <td>2014-11-17</td>\n",
       "      <td>NVIDIA Tesla K80</td>\n",
       "      <td>NVIDIA</td>\n",
       "      <td>NaN</td>\n",
       "      <td>NaN</td>\n",
       "      <td>NaN</td>\n",
       "      <td>NaN</td>\n",
       "      <td>NaN</td>\n",
       "      <td>8200.0</td>\n",
       "      <td>server-equivalent release price</td>\n",
       "    </tr>\n",
       "    <tr>\n",
       "      <th>82</th>\n",
       "      <td>https://www.nextplatform.com/2022/05/09/how-mu...</td>\n",
       "      <td>2016-07-01</td>\n",
       "      <td>NVIDIA Tesla K80</td>\n",
       "      <td>NVIDIA</td>\n",
       "      <td>NaN</td>\n",
       "      <td>NaN</td>\n",
       "      <td>NaN</td>\n",
       "      <td>NaN</td>\n",
       "      <td>NaN</td>\n",
       "      <td>6068.0</td>\n",
       "      <td>server-equivalent list price</td>\n",
       "    </tr>\n",
       "    <tr>\n",
       "      <th>83</th>\n",
       "      <td>https://www.nextplatform.com/2022/05/09/how-mu...</td>\n",
       "      <td>2018-07-01</td>\n",
       "      <td>NVIDIA Tesla K80</td>\n",
       "      <td>NVIDIA</td>\n",
       "      <td>NaN</td>\n",
       "      <td>NaN</td>\n",
       "      <td>NaN</td>\n",
       "      <td>NaN</td>\n",
       "      <td>NaN</td>\n",
       "      <td>4100.0</td>\n",
       "      <td>server-equivalent list price</td>\n",
       "    </tr>\n",
       "    <tr>\n",
       "      <th>84</th>\n",
       "      <td>https://www.nextplatform.com/2022/05/09/how-mu...</td>\n",
       "      <td>2020-07-01</td>\n",
       "      <td>NVIDIA Tesla K80</td>\n",
       "      <td>NVIDIA</td>\n",
       "      <td>NaN</td>\n",
       "      <td>NaN</td>\n",
       "      <td>NaN</td>\n",
       "      <td>NaN</td>\n",
       "      <td>NaN</td>\n",
       "      <td>1541.6</td>\n",
       "      <td>server-equivalent list price</td>\n",
       "    </tr>\n",
       "    <tr>\n",
       "      <th>85</th>\n",
       "      <td>https://www.nextplatform.com/2022/05/09/how-mu...</td>\n",
       "      <td>2022-07-01</td>\n",
       "      <td>NVIDIA Tesla K80</td>\n",
       "      <td>NVIDIA</td>\n",
       "      <td>NaN</td>\n",
       "      <td>NaN</td>\n",
       "      <td>NaN</td>\n",
       "      <td>NaN</td>\n",
       "      <td>NaN</td>\n",
       "      <td>713.4</td>\n",
       "      <td>server-equivalent list price</td>\n",
       "    </tr>\n",
       "    <tr>\n",
       "      <th>97</th>\n",
       "      <td>https://www.techpowerup.com/gpu-specs/tesla-p1...</td>\n",
       "      <td>2016-06-20</td>\n",
       "      <td>NVIDIA Tesla P100 PCIe 16 GB</td>\n",
       "      <td>NVIDIA</td>\n",
       "      <td>NaN</td>\n",
       "      <td>NaN</td>\n",
       "      <td>NaN</td>\n",
       "      <td>NaN</td>\n",
       "      <td>NaN</td>\n",
       "      <td>8776.46</td>\n",
       "      <td>server-equivalent release price</td>\n",
       "    </tr>\n",
       "    <tr>\n",
       "      <th>98</th>\n",
       "      <td>https://web.archive.org/web/20160621002700/htt...</td>\n",
       "      <td>2016-06-21</td>\n",
       "      <td>NVIDIA Tesla P100 PCIe 16 GB</td>\n",
       "      <td>NVIDIA</td>\n",
       "      <td>NaN</td>\n",
       "      <td>NaN</td>\n",
       "      <td>NaN</td>\n",
       "      <td>NaN</td>\n",
       "      <td>NaN</td>\n",
       "      <td>16125.0</td>\n",
       "      <td>DGX-1, 8 GPU, 128GB</td>\n",
       "    </tr>\n",
       "    <tr>\n",
       "      <th>99</th>\n",
       "      <td>https://www.nextplatform.com/2022/05/09/how-mu...</td>\n",
       "      <td>2016-07-01</td>\n",
       "      <td>NVIDIA Tesla P100 PCIe 16 GB</td>\n",
       "      <td>NVIDIA</td>\n",
       "      <td>NaN</td>\n",
       "      <td>NaN</td>\n",
       "      <td>NaN</td>\n",
       "      <td>NaN</td>\n",
       "      <td>NaN</td>\n",
       "      <td>8470.0</td>\n",
       "      <td>server-equivalent list price</td>\n",
       "    </tr>\n",
       "    <tr>\n",
       "      <th>100</th>\n",
       "      <td>https://web.archive.org/web/20170312174101/htt...</td>\n",
       "      <td>2017-03-12</td>\n",
       "      <td>NVIDIA Tesla P100 PCIe 16 GB</td>\n",
       "      <td>NVIDIA</td>\n",
       "      <td>NaN</td>\n",
       "      <td>NaN</td>\n",
       "      <td>NaN</td>\n",
       "      <td>NaN</td>\n",
       "      <td>NaN</td>\n",
       "      <td>18543.75</td>\n",
       "      <td>DGX-1, 8 GPU, 128GB</td>\n",
       "    </tr>\n",
       "    <tr>\n",
       "      <th>101</th>\n",
       "      <td>https://www.nextplatform.com/2022/05/09/how-mu...</td>\n",
       "      <td>2018-07-01</td>\n",
       "      <td>NVIDIA Tesla P100 PCIe 16 GB</td>\n",
       "      <td>NVIDIA</td>\n",
       "      <td>NaN</td>\n",
       "      <td>NaN</td>\n",
       "      <td>NaN</td>\n",
       "      <td>NaN</td>\n",
       "      <td>NaN</td>\n",
       "      <td>9086.0</td>\n",
       "      <td>server-equivalent list price</td>\n",
       "    </tr>\n",
       "    <tr>\n",
       "      <th>102</th>\n",
       "      <td>https://www.nextplatform.com/2022/05/09/how-mu...</td>\n",
       "      <td>2020-07-01</td>\n",
       "      <td>NVIDIA Tesla P100 PCIe 16 GB</td>\n",
       "      <td>NVIDIA</td>\n",
       "      <td>NaN</td>\n",
       "      <td>NaN</td>\n",
       "      <td>NaN</td>\n",
       "      <td>NaN</td>\n",
       "      <td>NaN</td>\n",
       "      <td>5390.0</td>\n",
       "      <td>server-equivalent list price</td>\n",
       "    </tr>\n",
       "    <tr>\n",
       "      <th>103</th>\n",
       "      <td>https://www.nextplatform.com/2022/05/09/how-mu...</td>\n",
       "      <td>2022-07-01</td>\n",
       "      <td>NVIDIA Tesla P100 PCIe 16 GB</td>\n",
       "      <td>NVIDIA</td>\n",
       "      <td>NaN</td>\n",
       "      <td>NaN</td>\n",
       "      <td>NaN</td>\n",
       "      <td>NaN</td>\n",
       "      <td>NaN</td>\n",
       "      <td>3388.0</td>\n",
       "      <td>server-equivalent list price</td>\n",
       "    </tr>\n",
       "    <tr>\n",
       "      <th>104</th>\n",
       "      <td>https://www.nextplatform.com/2022/05/09/how-mu...</td>\n",
       "      <td>2016-07-01</td>\n",
       "      <td>NVIDIA Tesla P100 SXM2</td>\n",
       "      <td>NVIDIA</td>\n",
       "      <td>NaN</td>\n",
       "      <td>NaN</td>\n",
       "      <td>NaN</td>\n",
       "      <td>NaN</td>\n",
       "      <td>NaN</td>\n",
       "      <td>16170.0</td>\n",
       "      <td>server-equivalent list price</td>\n",
       "    </tr>\n",
       "    <tr>\n",
       "      <th>105</th>\n",
       "      <td>https://www.nextplatform.com/2022/05/09/how-mu...</td>\n",
       "      <td>2018-07-01</td>\n",
       "      <td>NVIDIA Tesla P100 SXM2</td>\n",
       "      <td>NVIDIA</td>\n",
       "      <td>NaN</td>\n",
       "      <td>NaN</td>\n",
       "      <td>NaN</td>\n",
       "      <td>NaN</td>\n",
       "      <td>NaN</td>\n",
       "      <td>11396.0</td>\n",
       "      <td>server-equivalent list price</td>\n",
       "    </tr>\n",
       "    <tr>\n",
       "      <th>106</th>\n",
       "      <td>https://www.nextplatform.com/2022/05/09/how-mu...</td>\n",
       "      <td>2020-07-01</td>\n",
       "      <td>NVIDIA Tesla P100 SXM2</td>\n",
       "      <td>NVIDIA</td>\n",
       "      <td>NaN</td>\n",
       "      <td>NaN</td>\n",
       "      <td>NaN</td>\n",
       "      <td>NaN</td>\n",
       "      <td>NaN</td>\n",
       "      <td>6776.0</td>\n",
       "      <td>server-equivalent list price</td>\n",
       "    </tr>\n",
       "    <tr>\n",
       "      <th>107</th>\n",
       "      <td>https://www.nextplatform.com/2022/05/09/how-mu...</td>\n",
       "      <td>2022-07-01</td>\n",
       "      <td>NVIDIA Tesla P100 SXM2</td>\n",
       "      <td>NVIDIA</td>\n",
       "      <td>NaN</td>\n",
       "      <td>NaN</td>\n",
       "      <td>NaN</td>\n",
       "      <td>NaN</td>\n",
       "      <td>NaN</td>\n",
       "      <td>1694.0</td>\n",
       "      <td>server-equivalent list price</td>\n",
       "    </tr>\n",
       "    <tr>\n",
       "      <th>109</th>\n",
       "      <td>https://web.archive.org/web/20190111090822/htt...</td>\n",
       "      <td>2019-01-11</td>\n",
       "      <td>NVIDIA Tesla V100 DGXS 32 GB</td>\n",
       "      <td>NVIDIA</td>\n",
       "      <td>NaN</td>\n",
       "      <td>NaN</td>\n",
       "      <td>NaN</td>\n",
       "      <td>NaN</td>\n",
       "      <td>NaN</td>\n",
       "      <td>18457.5</td>\n",
       "      <td>DGX, 4 GPU, 128GB</td>\n",
       "    </tr>\n",
       "    <tr>\n",
       "      <th>110</th>\n",
       "      <td>https://web.archive.org/web/20190111061033/htt...</td>\n",
       "      <td>2019-01-11</td>\n",
       "      <td>NVIDIA Tesla V100 DGXS 32 GB</td>\n",
       "      <td>NVIDIA</td>\n",
       "      <td>NaN</td>\n",
       "      <td>NaN</td>\n",
       "      <td>NaN</td>\n",
       "      <td>NaN</td>\n",
       "      <td>NaN</td>\n",
       "      <td>19928.75</td>\n",
       "      <td>DGX-1, 8 GPU, 256GB</td>\n",
       "    </tr>\n",
       "    <tr>\n",
       "      <th>111</th>\n",
       "      <td>https://web.archive.org/web/20190111101112/htt...</td>\n",
       "      <td>2019-01-11</td>\n",
       "      <td>NVIDIA Tesla V100 DGXS 32 GB</td>\n",
       "      <td>NVIDIA</td>\n",
       "      <td>NaN</td>\n",
       "      <td>NaN</td>\n",
       "      <td>NaN</td>\n",
       "      <td>NaN</td>\n",
       "      <td>NaN</td>\n",
       "      <td>26995.63</td>\n",
       "      <td>DGX-2, 16 GPU, 512 GB</td>\n",
       "    </tr>\n",
       "    <tr>\n",
       "      <th>118</th>\n",
       "      <td>https://web.archive.org/web/20190118082125/htt...</td>\n",
       "      <td>2018-05-08</td>\n",
       "      <td>NVIDIA Tesla V100 PCIe 16 GB</td>\n",
       "      <td>NVIDIA</td>\n",
       "      <td>NaN</td>\n",
       "      <td>NaN</td>\n",
       "      <td>NaN</td>\n",
       "      <td>NaN</td>\n",
       "      <td>NaN</td>\n",
       "      <td>18022.16</td>\n",
       "      <td>server-equivalent list price</td>\n",
       "    </tr>\n",
       "    <tr>\n",
       "      <th>119</th>\n",
       "      <td>https://www.nextplatform.com/2022/05/09/how-mu...</td>\n",
       "      <td>2018-07-01</td>\n",
       "      <td>NVIDIA Tesla V100 PCIe 32 GB</td>\n",
       "      <td>NVIDIA</td>\n",
       "      <td>NaN</td>\n",
       "      <td>NaN</td>\n",
       "      <td>NaN</td>\n",
       "      <td>NaN</td>\n",
       "      <td>NaN</td>\n",
       "      <td>14365.0</td>\n",
       "      <td>server-equivalent list price</td>\n",
       "    </tr>\n",
       "    <tr>\n",
       "      <th>120</th>\n",
       "      <td>https://www.nextplatform.com/2022/05/09/how-mu...</td>\n",
       "      <td>2020-07-01</td>\n",
       "      <td>NVIDIA Tesla V100 PCIe 32 GB</td>\n",
       "      <td>NVIDIA</td>\n",
       "      <td>NaN</td>\n",
       "      <td>NaN</td>\n",
       "      <td>NaN</td>\n",
       "      <td>NaN</td>\n",
       "      <td>NaN</td>\n",
       "      <td>17745.0</td>\n",
       "      <td>server-equivalent list price</td>\n",
       "    </tr>\n",
       "    <tr>\n",
       "      <th>121</th>\n",
       "      <td>https://www.nextplatform.com/2022/05/09/how-mu...</td>\n",
       "      <td>2022-07-01</td>\n",
       "      <td>NVIDIA Tesla V100 PCIe 32 GB</td>\n",
       "      <td>NVIDIA</td>\n",
       "      <td>NaN</td>\n",
       "      <td>NaN</td>\n",
       "      <td>NaN</td>\n",
       "      <td>NaN</td>\n",
       "      <td>NaN</td>\n",
       "      <td>12675.0</td>\n",
       "      <td>server-equivalent list price</td>\n",
       "    </tr>\n",
       "    <tr>\n",
       "      <th>122</th>\n",
       "      <td>https://web.archive.org/web/20190118082125/htt...</td>\n",
       "      <td>2018-05-08</td>\n",
       "      <td>NVIDIA Tesla V100 SXM2 16 GB</td>\n",
       "      <td>NVIDIA</td>\n",
       "      <td>NaN</td>\n",
       "      <td>NaN</td>\n",
       "      <td>NaN</td>\n",
       "      <td>NaN</td>\n",
       "      <td>NaN</td>\n",
       "      <td>18022.16</td>\n",
       "      <td>server-equivalent list price</td>\n",
       "    </tr>\n",
       "    <tr>\n",
       "      <th>123</th>\n",
       "      <td>https://web.archive.org/web/20190118082125/htt...</td>\n",
       "      <td>2018-05-08</td>\n",
       "      <td>NVIDIA Tesla V100 SXM2 32 GB</td>\n",
       "      <td>NVIDIA</td>\n",
       "      <td>NaN</td>\n",
       "      <td>NaN</td>\n",
       "      <td>NaN</td>\n",
       "      <td>NaN</td>\n",
       "      <td>NaN</td>\n",
       "      <td>19364.02</td>\n",
       "      <td>server-equivalent list price</td>\n",
       "    </tr>\n",
       "    <tr>\n",
       "      <th>124</th>\n",
       "      <td>https://web.archive.org/web/20190118082125/htt...</td>\n",
       "      <td>2018-05-08</td>\n",
       "      <td>NVIDIA Tesla V100 SXM2 32 GB</td>\n",
       "      <td>NVIDIA</td>\n",
       "      <td>NaN</td>\n",
       "      <td>NaN</td>\n",
       "      <td>NaN</td>\n",
       "      <td>NaN</td>\n",
       "      <td>NaN</td>\n",
       "      <td>19364.02</td>\n",
       "      <td>server-equivalent list price</td>\n",
       "    </tr>\n",
       "    <tr>\n",
       "      <th>125</th>\n",
       "      <td>https://www.nextplatform.com/2022/05/09/how-mu...</td>\n",
       "      <td>2018-07-01</td>\n",
       "      <td>NVIDIA Tesla V100 SXM3 32 GB</td>\n",
       "      <td>NVIDIA</td>\n",
       "      <td>NaN</td>\n",
       "      <td>NaN</td>\n",
       "      <td>NaN</td>\n",
       "      <td>NaN</td>\n",
       "      <td>NaN</td>\n",
       "      <td>19435.0</td>\n",
       "      <td>server-equivalent list price</td>\n",
       "    </tr>\n",
       "    <tr>\n",
       "      <th>126</th>\n",
       "      <td>https://www.nextplatform.com/2022/05/09/how-mu...</td>\n",
       "      <td>2020-07-01</td>\n",
       "      <td>NVIDIA Tesla V100 SXM3 32 GB</td>\n",
       "      <td>NVIDIA</td>\n",
       "      <td>NaN</td>\n",
       "      <td>NaN</td>\n",
       "      <td>NaN</td>\n",
       "      <td>NaN</td>\n",
       "      <td>NaN</td>\n",
       "      <td>23153.0</td>\n",
       "      <td>server-equivalent list price</td>\n",
       "    </tr>\n",
       "    <tr>\n",
       "      <th>127</th>\n",
       "      <td>https://www.nextplatform.com/2022/05/09/how-mu...</td>\n",
       "      <td>2022-07-01</td>\n",
       "      <td>NVIDIA Tesla V100 SXM3 32 GB</td>\n",
       "      <td>NVIDIA</td>\n",
       "      <td>NaN</td>\n",
       "      <td>NaN</td>\n",
       "      <td>NaN</td>\n",
       "      <td>NaN</td>\n",
       "      <td>NaN</td>\n",
       "      <td>4225.0</td>\n",
       "      <td>server-equivalent list price</td>\n",
       "    </tr>\n",
       "    <tr>\n",
       "      <th>128</th>\n",
       "      <td>https://web.archive.org/web/20170513081017/htt...</td>\n",
       "      <td>2017-07-01</td>\n",
       "      <td>NVIDIA V100</td>\n",
       "      <td>NVIDIA</td>\n",
       "      <td>NaN</td>\n",
       "      <td>NaN</td>\n",
       "      <td>NaN</td>\n",
       "      <td>NaN</td>\n",
       "      <td>NaN</td>\n",
       "      <td>18625.0</td>\n",
       "      <td>Price at release (2017 Q3) for a DGX-1 with 8x...</td>\n",
       "    </tr>\n",
       "    <tr>\n",
       "      <th>129</th>\n",
       "      <td>https://web.archive.org/web/20170513081017/htt...</td>\n",
       "      <td>2017-07-01</td>\n",
       "      <td>NVIDIA V100</td>\n",
       "      <td>NVIDIA</td>\n",
       "      <td>NaN</td>\n",
       "      <td>NaN</td>\n",
       "      <td>NaN</td>\n",
       "      <td>NaN</td>\n",
       "      <td>NaN</td>\n",
       "      <td>17250.0</td>\n",
       "      <td>Price at release (2017 Q3) for a DGXS with 4x ...</td>\n",
       "    </tr>\n",
       "  </tbody>\n",
       "</table>\n",
       "</div>"
      ],
      "text/plain": [
       "                                          Price source Price date  \\\n",
       "25   https://www.nextplatform.com/2022/05/09/how-mu... 2020-07-01   \n",
       "26   https://www.nextplatform.com/2022/05/09/how-mu... 2022-07-01   \n",
       "38   https://web.archive.org/web/20200521074015/htt... 2020-05-21   \n",
       "39   https://www.nextplatform.com/2022/05/09/how-mu... 2020-07-01   \n",
       "40   https://www.nextplatform.com/2022/05/09/how-mu... 2022-07-01   \n",
       "48   https://web.archive.org/web/20210630170623/htt... 2021-06-30   \n",
       "49   https://web.archive.org/web/20220120191032/htt... 2022-01-20   \n",
       "50   https://web.archive.org/web/20230923154035/htt... 2023-09-23   \n",
       "57   https://www.techpowerup.com/gpu-specs/geforce-... 2015-03-17   \n",
       "59   https://web.archive.org/web/20220929115124/htt... 2022-09-29   \n",
       "60   https://web.archive.org/web/20230529125834/htt... 2023-05-29   \n",
       "61   https://web.archive.org/web/20231211031623/htt... 2023-12-11   \n",
       "62   https://web.archive.org/web/20240320115454/htt... 2024-03-20   \n",
       "63   https://web.archive.org/web/20240321212632/htt... 2024-03-21   \n",
       "74   https://www.nextplatform.com/2022/05/09/how-mu... 2012-07-01   \n",
       "75   https://www.techpowerup.com/gpu-specs/tesla-k4... 2013-11-22   \n",
       "76   https://www.nextplatform.com/2022/05/09/how-mu... 2014-07-01   \n",
       "77   https://www.nextplatform.com/2022/05/09/how-mu... 2016-07-01   \n",
       "78   https://www.nextplatform.com/2022/05/09/how-mu... 2018-07-01   \n",
       "79   https://www.nextplatform.com/2022/05/09/how-mu... 2020-07-01   \n",
       "80   https://www.nextplatform.com/2022/05/09/how-mu... 2022-07-01   \n",
       "81   https://www.anandtech.com/show/8729/nvidia-lau... 2014-11-17   \n",
       "82   https://www.nextplatform.com/2022/05/09/how-mu... 2016-07-01   \n",
       "83   https://www.nextplatform.com/2022/05/09/how-mu... 2018-07-01   \n",
       "84   https://www.nextplatform.com/2022/05/09/how-mu... 2020-07-01   \n",
       "85   https://www.nextplatform.com/2022/05/09/how-mu... 2022-07-01   \n",
       "97   https://www.techpowerup.com/gpu-specs/tesla-p1... 2016-06-20   \n",
       "98   https://web.archive.org/web/20160621002700/htt... 2016-06-21   \n",
       "99   https://www.nextplatform.com/2022/05/09/how-mu... 2016-07-01   \n",
       "100  https://web.archive.org/web/20170312174101/htt... 2017-03-12   \n",
       "101  https://www.nextplatform.com/2022/05/09/how-mu... 2018-07-01   \n",
       "102  https://www.nextplatform.com/2022/05/09/how-mu... 2020-07-01   \n",
       "103  https://www.nextplatform.com/2022/05/09/how-mu... 2022-07-01   \n",
       "104  https://www.nextplatform.com/2022/05/09/how-mu... 2016-07-01   \n",
       "105  https://www.nextplatform.com/2022/05/09/how-mu... 2018-07-01   \n",
       "106  https://www.nextplatform.com/2022/05/09/how-mu... 2020-07-01   \n",
       "107  https://www.nextplatform.com/2022/05/09/how-mu... 2022-07-01   \n",
       "109  https://web.archive.org/web/20190111090822/htt... 2019-01-11   \n",
       "110  https://web.archive.org/web/20190111061033/htt... 2019-01-11   \n",
       "111  https://web.archive.org/web/20190111101112/htt... 2019-01-11   \n",
       "118  https://web.archive.org/web/20190118082125/htt... 2018-05-08   \n",
       "119  https://www.nextplatform.com/2022/05/09/how-mu... 2018-07-01   \n",
       "120  https://www.nextplatform.com/2022/05/09/how-mu... 2020-07-01   \n",
       "121  https://www.nextplatform.com/2022/05/09/how-mu... 2022-07-01   \n",
       "122  https://web.archive.org/web/20190118082125/htt... 2018-05-08   \n",
       "123  https://web.archive.org/web/20190118082125/htt... 2018-05-08   \n",
       "124  https://web.archive.org/web/20190118082125/htt... 2018-05-08   \n",
       "125  https://www.nextplatform.com/2022/05/09/how-mu... 2018-07-01   \n",
       "126  https://www.nextplatform.com/2022/05/09/how-mu... 2020-07-01   \n",
       "127  https://www.nextplatform.com/2022/05/09/how-mu... 2022-07-01   \n",
       "128  https://web.archive.org/web/20170513081017/htt... 2017-07-01   \n",
       "129  https://web.archive.org/web/20170513081017/htt... 2017-07-01   \n",
       "\n",
       "                   Hardware model Manufacturer (from Hardware model) Vendor  \\\n",
       "25               NVIDIA A100 PCIe                             NVIDIA    NaN   \n",
       "26               NVIDIA A100 PCIe                             NVIDIA    NaN   \n",
       "38         NVIDIA A100 SXM4 40 GB                             NVIDIA    NaN   \n",
       "39         NVIDIA A100 SXM4 40 GB                             NVIDIA    NaN   \n",
       "40         NVIDIA A100 SXM4 40 GB                             NVIDIA    NaN   \n",
       "48         NVIDIA A100 SXM4 80 GB                             NVIDIA    NaN   \n",
       "49         NVIDIA A100 SXM4 80 GB                             NVIDIA    NaN   \n",
       "50         NVIDIA A100 SXM4 80 GB                             NVIDIA    NaN   \n",
       "57             NVIDIA GTX Titan X                             NVIDIA    NaN   \n",
       "59               NVIDIA H100 SXM5                             NVIDIA    NaN   \n",
       "60               NVIDIA H100 SXM5                             NVIDIA    NaN   \n",
       "61               NVIDIA H100 SXM5                             NVIDIA    NaN   \n",
       "62               NVIDIA H100 SXM5                             NVIDIA    NaN   \n",
       "63               NVIDIA H100 SXM5                             NVIDIA    NaN   \n",
       "74              NVIDIA Tesla K40s                             NVIDIA    NaN   \n",
       "75              NVIDIA Tesla K40s                             NVIDIA    NaN   \n",
       "76              NVIDIA Tesla K40s                             NVIDIA    NaN   \n",
       "77              NVIDIA Tesla K40s                             NVIDIA    NaN   \n",
       "78              NVIDIA Tesla K40s                             NVIDIA    NaN   \n",
       "79              NVIDIA Tesla K40s                             NVIDIA    NaN   \n",
       "80              NVIDIA Tesla K40s                             NVIDIA    NaN   \n",
       "81               NVIDIA Tesla K80                             NVIDIA    NaN   \n",
       "82               NVIDIA Tesla K80                             NVIDIA    NaN   \n",
       "83               NVIDIA Tesla K80                             NVIDIA    NaN   \n",
       "84               NVIDIA Tesla K80                             NVIDIA    NaN   \n",
       "85               NVIDIA Tesla K80                             NVIDIA    NaN   \n",
       "97   NVIDIA Tesla P100 PCIe 16 GB                             NVIDIA    NaN   \n",
       "98   NVIDIA Tesla P100 PCIe 16 GB                             NVIDIA    NaN   \n",
       "99   NVIDIA Tesla P100 PCIe 16 GB                             NVIDIA    NaN   \n",
       "100  NVIDIA Tesla P100 PCIe 16 GB                             NVIDIA    NaN   \n",
       "101  NVIDIA Tesla P100 PCIe 16 GB                             NVIDIA    NaN   \n",
       "102  NVIDIA Tesla P100 PCIe 16 GB                             NVIDIA    NaN   \n",
       "103  NVIDIA Tesla P100 PCIe 16 GB                             NVIDIA    NaN   \n",
       "104        NVIDIA Tesla P100 SXM2                             NVIDIA    NaN   \n",
       "105        NVIDIA Tesla P100 SXM2                             NVIDIA    NaN   \n",
       "106        NVIDIA Tesla P100 SXM2                             NVIDIA    NaN   \n",
       "107        NVIDIA Tesla P100 SXM2                             NVIDIA    NaN   \n",
       "109  NVIDIA Tesla V100 DGXS 32 GB                             NVIDIA    NaN   \n",
       "110  NVIDIA Tesla V100 DGXS 32 GB                             NVIDIA    NaN   \n",
       "111  NVIDIA Tesla V100 DGXS 32 GB                             NVIDIA    NaN   \n",
       "118  NVIDIA Tesla V100 PCIe 16 GB                             NVIDIA    NaN   \n",
       "119  NVIDIA Tesla V100 PCIe 32 GB                             NVIDIA    NaN   \n",
       "120  NVIDIA Tesla V100 PCIe 32 GB                             NVIDIA    NaN   \n",
       "121  NVIDIA Tesla V100 PCIe 32 GB                             NVIDIA    NaN   \n",
       "122  NVIDIA Tesla V100 SXM2 16 GB                             NVIDIA    NaN   \n",
       "123  NVIDIA Tesla V100 SXM2 32 GB                             NVIDIA    NaN   \n",
       "124  NVIDIA Tesla V100 SXM2 32 GB                             NVIDIA    NaN   \n",
       "125  NVIDIA Tesla V100 SXM3 32 GB                             NVIDIA    NaN   \n",
       "126  NVIDIA Tesla V100 SXM3 32 GB                             NVIDIA    NaN   \n",
       "127  NVIDIA Tesla V100 SXM3 32 GB                             NVIDIA    NaN   \n",
       "128                   NVIDIA V100                             NVIDIA    NaN   \n",
       "129                   NVIDIA V100                             NVIDIA    NaN   \n",
       "\n",
       "    Location Price per chip-hour (on-demand) Price per chip-hour (1-year CUD)  \\\n",
       "25       NaN                             NaN                              NaN   \n",
       "26       NaN                             NaN                              NaN   \n",
       "38       NaN                             NaN                              NaN   \n",
       "39       NaN                             NaN                              NaN   \n",
       "40       NaN                             NaN                              NaN   \n",
       "48       NaN                             NaN                              NaN   \n",
       "49       NaN                             NaN                              NaN   \n",
       "50       NaN                             NaN                              NaN   \n",
       "57       NaN                             NaN                              NaN   \n",
       "59       NaN                             NaN                              NaN   \n",
       "60       NaN                             NaN                              NaN   \n",
       "61       NaN                             NaN                              NaN   \n",
       "62       NaN                             NaN                              NaN   \n",
       "63       NaN                             NaN                              NaN   \n",
       "74       NaN                             NaN                              NaN   \n",
       "75       NaN                             NaN                              NaN   \n",
       "76       NaN                             NaN                              NaN   \n",
       "77       NaN                             NaN                              NaN   \n",
       "78       NaN                             NaN                              NaN   \n",
       "79       NaN                             NaN                              NaN   \n",
       "80       NaN                             NaN                              NaN   \n",
       "81       NaN                             NaN                              NaN   \n",
       "82       NaN                             NaN                              NaN   \n",
       "83       NaN                             NaN                              NaN   \n",
       "84       NaN                             NaN                              NaN   \n",
       "85       NaN                             NaN                              NaN   \n",
       "97       NaN                             NaN                              NaN   \n",
       "98       NaN                             NaN                              NaN   \n",
       "99       NaN                             NaN                              NaN   \n",
       "100      NaN                             NaN                              NaN   \n",
       "101      NaN                             NaN                              NaN   \n",
       "102      NaN                             NaN                              NaN   \n",
       "103      NaN                             NaN                              NaN   \n",
       "104      NaN                             NaN                              NaN   \n",
       "105      NaN                             NaN                              NaN   \n",
       "106      NaN                             NaN                              NaN   \n",
       "107      NaN                             NaN                              NaN   \n",
       "109      NaN                             NaN                              NaN   \n",
       "110      NaN                             NaN                              NaN   \n",
       "111      NaN                             NaN                              NaN   \n",
       "118      NaN                             NaN                              NaN   \n",
       "119      NaN                             NaN                              NaN   \n",
       "120      NaN                             NaN                              NaN   \n",
       "121      NaN                             NaN                              NaN   \n",
       "122      NaN                             NaN                              NaN   \n",
       "123      NaN                             NaN                              NaN   \n",
       "124      NaN                             NaN                              NaN   \n",
       "125      NaN                             NaN                              NaN   \n",
       "126      NaN                             NaN                              NaN   \n",
       "127      NaN                             NaN                              NaN   \n",
       "128      NaN                             NaN                              NaN   \n",
       "129      NaN                             NaN                              NaN   \n",
       "\n",
       "    Price per chip-hour (3-year CUD) Price (hardware purchase)  \\\n",
       "25                               NaN                   24900.0   \n",
       "26                               NaN                   20750.0   \n",
       "38                               NaN                   24875.0   \n",
       "39                               NaN                   24900.0   \n",
       "40                               NaN                   20750.0   \n",
       "48                               NaN                   37500.0   \n",
       "49                               NaN                   20875.0   \n",
       "50                               NaN                  18548.75   \n",
       "57                               NaN                   1638.36   \n",
       "59                               NaN                  44489.88   \n",
       "60                               NaN                   33750.0   \n",
       "61                               NaN                   41197.5   \n",
       "62                               NaN                   41217.0   \n",
       "63                               NaN                   37080.5   \n",
       "74                               NaN                    8856.0   \n",
       "75                               NaN                  12626.36   \n",
       "76                               NaN                    6888.0   \n",
       "77                               NaN                    4756.0   \n",
       "78                               NaN                    3772.0   \n",
       "79                               NaN                     885.6   \n",
       "80                               NaN                     475.6   \n",
       "81                               NaN                    8200.0   \n",
       "82                               NaN                    6068.0   \n",
       "83                               NaN                    4100.0   \n",
       "84                               NaN                    1541.6   \n",
       "85                               NaN                     713.4   \n",
       "97                               NaN                   8776.46   \n",
       "98                               NaN                   16125.0   \n",
       "99                               NaN                    8470.0   \n",
       "100                              NaN                  18543.75   \n",
       "101                              NaN                    9086.0   \n",
       "102                              NaN                    5390.0   \n",
       "103                              NaN                    3388.0   \n",
       "104                              NaN                   16170.0   \n",
       "105                              NaN                   11396.0   \n",
       "106                              NaN                    6776.0   \n",
       "107                              NaN                    1694.0   \n",
       "109                              NaN                   18457.5   \n",
       "110                              NaN                  19928.75   \n",
       "111                              NaN                  26995.63   \n",
       "118                              NaN                  18022.16   \n",
       "119                              NaN                   14365.0   \n",
       "120                              NaN                   17745.0   \n",
       "121                              NaN                   12675.0   \n",
       "122                              NaN                  18022.16   \n",
       "123                              NaN                  19364.02   \n",
       "124                              NaN                  19364.02   \n",
       "125                              NaN                   19435.0   \n",
       "126                              NaN                   23153.0   \n",
       "127                              NaN                    4225.0   \n",
       "128                              NaN                   18625.0   \n",
       "129                              NaN                   17250.0   \n",
       "\n",
       "                                                 Notes  \n",
       "25                        server-equivalent list price  \n",
       "26                        server-equivalent list price  \n",
       "38              DGX A100, 8 GPU, 320GB. Release price.  \n",
       "39                        server-equivalent list price  \n",
       "40                        server-equivalent list price  \n",
       "48                              DGX A100, 8 GPU, 640GB  \n",
       "49                              DGX A100, 8 GPU, 640GB  \n",
       "50                              HGX A100, 8 GPU, 640GB  \n",
       "57                     server-equivalent release price  \n",
       "59   DGX, 8 GPU, 640GB. Convert Euro to USD: https:...  \n",
       "60   DGX, 8 GPU, 640GB. “Nvidia sells DGX H100’s at...  \n",
       "61   DGX, 8 GPU, 640GB. Convert Euro to USD: https:...  \n",
       "62   DGX, 8 GPU, 640GB. Convert Euro to USD: https:...  \n",
       "63                                   HGX, 8 GPU, 640GB  \n",
       "74                     server-equivalent release price  \n",
       "75                     server-equivalent release price  \n",
       "76                        server-equivalent list price  \n",
       "77                        server-equivalent list price  \n",
       "78                        server-equivalent list price  \n",
       "79                        server-equivalent list price  \n",
       "80                        server-equivalent list price  \n",
       "81                     server-equivalent release price  \n",
       "82                        server-equivalent list price  \n",
       "83                        server-equivalent list price  \n",
       "84                        server-equivalent list price  \n",
       "85                        server-equivalent list price  \n",
       "97                     server-equivalent release price  \n",
       "98                                 DGX-1, 8 GPU, 128GB  \n",
       "99                        server-equivalent list price  \n",
       "100                                DGX-1, 8 GPU, 128GB  \n",
       "101                       server-equivalent list price  \n",
       "102                       server-equivalent list price  \n",
       "103                       server-equivalent list price  \n",
       "104                       server-equivalent list price  \n",
       "105                       server-equivalent list price  \n",
       "106                       server-equivalent list price  \n",
       "107                       server-equivalent list price  \n",
       "109                                  DGX, 4 GPU, 128GB  \n",
       "110                                DGX-1, 8 GPU, 256GB  \n",
       "111                              DGX-2, 16 GPU, 512 GB  \n",
       "118                       server-equivalent list price  \n",
       "119                       server-equivalent list price  \n",
       "120                       server-equivalent list price  \n",
       "121                       server-equivalent list price  \n",
       "122                       server-equivalent list price  \n",
       "123                       server-equivalent list price  \n",
       "124                       server-equivalent list price  \n",
       "125                       server-equivalent list price  \n",
       "126                       server-equivalent list price  \n",
       "127                       server-equivalent list price  \n",
       "128  Price at release (2017 Q3) for a DGX-1 with 8x...  \n",
       "129  Price at release (2017 Q3) for a DGXS with 4x ...  "
      ]
     },
     "execution_count": 7,
     "metadata": {},
     "output_type": "execute_result"
    }
   ],
   "source": [
    "# Multiply single unit prices by overhead factor\n",
    "server_adjusted_purchase_price_df = pd.DataFrame(columns=purchase_price_df.columns)\n",
    "for i, row in purchase_price_df.iterrows():\n",
    "    if 'single-unit' in row['Notes'].lower():\n",
    "        row[price_colname] *= get_server_cost_overhead(row['Hardware model'])\n",
    "        row['Notes'] = row['Notes'].lower().replace('single-unit', 'server-equivalent')\n",
    "    server_adjusted_purchase_price_df.loc[i] = row\n",
    "server_adjusted_purchase_price_df"
   ]
  },
  {
   "cell_type": "code",
   "execution_count": 8,
   "metadata": {},
   "outputs": [],
   "source": [
    "# Log-linear contours decaying at -0.14 OOMs per year\n",
    "t = np.arange(2012, 2026)\n",
    "contours = []\n",
    "for initial_price in np.arange(3, 10, 0.1):\n",
    "    contours.append(10**initial_price * 10**(-0.1 * (t - 2012)))"
   ]
  },
  {
   "cell_type": "code",
   "execution_count": 9,
   "metadata": {},
   "outputs": [
    {
     "name": "stdout",
     "output_type": "stream",
     "text": [
      "A100\n",
      "H100\n",
      "P100\n",
      "V100\n",
      "TPU v4\n",
      "TPU v3\n",
      "TPU v2\n",
      "TPU v1\n",
      "K80\n",
      "K40\n",
      "Titan X\n"
     ]
    },
    {
     "data": {
      "application/vnd.plotly.v1+json": {
       "config": {
        "plotlyServerURL": "https://plot.ly"
       },
       "data": [
        {
         "mode": "markers",
         "name": "A100",
         "text": [
          "NVIDIA A100 PCIe | server-equivalent list price",
          "NVIDIA A100 PCIe | server-equivalent list price",
          "NVIDIA A100 SXM4 40 GB | DGX A100, 8 GPU, 320GB. Release price.",
          "NVIDIA A100 SXM4 40 GB | server-equivalent list price",
          "NVIDIA A100 SXM4 40 GB | server-equivalent list price",
          "NVIDIA A100 SXM4 80 GB | DGX A100, 8 GPU, 640GB",
          "NVIDIA A100 SXM4 80 GB | DGX A100, 8 GPU, 640GB",
          "NVIDIA A100 SXM4 80 GB | HGX A100, 8 GPU, 640GB"
         ],
         "type": "scatter",
         "x": [
          "2020-07-01T00:00:00",
          "2022-07-01T00:00:00",
          "2020-05-21T00:00:00",
          "2020-07-01T00:00:00",
          "2022-07-01T00:00:00",
          "2021-06-30T00:00:00",
          "2022-01-20T00:00:00",
          "2023-09-23T00:00:00"
         ],
         "y": [
          24900,
          20750,
          24875,
          24900,
          20750,
          37500,
          20875,
          18548.75
         ]
        },
        {
         "mode": "markers",
         "name": "H100",
         "text": [
          "NVIDIA H100 SXM5 | DGX, 8 GPU, 640GB. Convert Euro to USD: https://www.oanda.com/currency-converter/en/?from=EUR&to=USD&amount=https://www.oanda.com/currency-converter/en/?from=EUR&to=USD&amount=369855.51",
          "NVIDIA H100 SXM5 | DGX, 8 GPU, 640GB. “Nvidia sells DGX H100’s at around $270,000”.",
          "NVIDIA H100 SXM5 | DGX, 8 GPU, 640GB. Convert Euro to USD: https://www.oanda.com/currency-converter/en/?from=EUR&to=USD&amount=306403.66",
          "NVIDIA H100 SXM5 | DGX, 8 GPU, 640GB. Convert Euro to USD: https://www.oanda.com/currency-converter/en/?from=EUR&to=USD&amount=303610.2",
          "NVIDIA H100 SXM5 | HGX, 8 GPU, 640GB"
         ],
         "type": "scatter",
         "x": [
          "2022-09-29T00:00:00",
          "2023-05-29T00:00:00",
          "2023-12-11T00:00:00",
          "2024-03-20T00:00:00",
          "2024-03-21T00:00:00"
         ],
         "y": [
          44489.88,
          33750,
          41197.5,
          41217,
          37080.5
         ]
        },
        {
         "mode": "markers",
         "name": "P100",
         "text": [
          "NVIDIA Tesla P100 PCIe 16 GB | server-equivalent release price",
          "NVIDIA Tesla P100 PCIe 16 GB | DGX-1, 8 GPU, 128GB",
          "NVIDIA Tesla P100 PCIe 16 GB | server-equivalent list price",
          "NVIDIA Tesla P100 PCIe 16 GB | DGX-1, 8 GPU, 128GB",
          "NVIDIA Tesla P100 PCIe 16 GB | server-equivalent list price",
          "NVIDIA Tesla P100 PCIe 16 GB | server-equivalent list price",
          "NVIDIA Tesla P100 PCIe 16 GB | server-equivalent list price",
          "NVIDIA Tesla P100 SXM2 | server-equivalent list price",
          "NVIDIA Tesla P100 SXM2 | server-equivalent list price",
          "NVIDIA Tesla P100 SXM2 | server-equivalent list price",
          "NVIDIA Tesla P100 SXM2 | server-equivalent list price"
         ],
         "type": "scatter",
         "x": [
          "2016-06-20T00:00:00",
          "2016-06-21T00:00:00",
          "2016-07-01T00:00:00",
          "2017-03-12T00:00:00",
          "2018-07-01T00:00:00",
          "2020-07-01T00:00:00",
          "2022-07-01T00:00:00",
          "2016-07-01T00:00:00",
          "2018-07-01T00:00:00",
          "2020-07-01T00:00:00",
          "2022-07-01T00:00:00"
         ],
         "y": [
          8776.460000000001,
          16125,
          8470,
          18543.75,
          9086,
          5390,
          3388,
          16170,
          11396,
          6776,
          1694
         ]
        },
        {
         "mode": "markers",
         "name": "V100",
         "text": [
          "NVIDIA Tesla V100 DGXS 32 GB | DGX, 4 GPU, 128GB",
          "NVIDIA Tesla V100 DGXS 32 GB | DGX-1, 8 GPU, 256GB",
          "NVIDIA Tesla V100 DGXS 32 GB | DGX-2, 16 GPU, 512 GB",
          "NVIDIA Tesla V100 PCIe 16 GB | server-equivalent list price",
          "NVIDIA Tesla V100 PCIe 32 GB | server-equivalent list price",
          "NVIDIA Tesla V100 PCIe 32 GB | server-equivalent list price",
          "NVIDIA Tesla V100 PCIe 32 GB | server-equivalent list price",
          "NVIDIA Tesla V100 SXM2 16 GB | server-equivalent list price",
          "NVIDIA Tesla V100 SXM2 32 GB | server-equivalent list price",
          "NVIDIA Tesla V100 SXM2 32 GB | server-equivalent list price",
          "NVIDIA Tesla V100 SXM3 32 GB | server-equivalent list price",
          "NVIDIA Tesla V100 SXM3 32 GB | server-equivalent list price",
          "NVIDIA Tesla V100 SXM3 32 GB | server-equivalent list price",
          "NVIDIA V100 | Price at release (2017 Q3) for a DGX-1 with 8x V100 GPUs was $149,000. Dividing by 8, the price per GPU is $18,625 including interconnect hardware.",
          "NVIDIA V100 | Price at release (2017 Q3) for a DGXS with 4x V100 GPUs was $69,000. Dividing by 4, the price per GPU is $17250 including interconnect hardware."
         ],
         "type": "scatter",
         "x": [
          "2019-01-11T00:00:00",
          "2019-01-11T00:00:00",
          "2019-01-11T00:00:00",
          "2018-05-08T00:00:00",
          "2018-07-01T00:00:00",
          "2020-07-01T00:00:00",
          "2022-07-01T00:00:00",
          "2018-05-08T00:00:00",
          "2018-05-08T00:00:00",
          "2018-05-08T00:00:00",
          "2018-07-01T00:00:00",
          "2020-07-01T00:00:00",
          "2022-07-01T00:00:00",
          "2017-07-01T00:00:00",
          "2017-07-01T00:00:00"
         ],
         "y": [
          18457.5,
          19928.75,
          26995.63,
          18022.16,
          14365,
          17745,
          12675,
          18022.16,
          19364.02,
          19364.02,
          19435,
          23153,
          4225,
          18625,
          17250
         ]
        },
        {
         "mode": "markers",
         "name": "TPU v4",
         "text": [],
         "type": "scatter",
         "x": [],
         "y": []
        },
        {
         "mode": "markers",
         "name": "TPU v3",
         "text": [],
         "type": "scatter",
         "x": [],
         "y": []
        },
        {
         "mode": "markers",
         "name": "TPU v2",
         "text": [],
         "type": "scatter",
         "x": [],
         "y": []
        },
        {
         "mode": "markers",
         "name": "TPU v1",
         "text": [],
         "type": "scatter",
         "x": [],
         "y": []
        },
        {
         "mode": "markers",
         "name": "K80",
         "text": [
          "NVIDIA Tesla K80 | server-equivalent release price",
          "NVIDIA Tesla K80 | server-equivalent list price",
          "NVIDIA Tesla K80 | server-equivalent list price",
          "NVIDIA Tesla K80 | server-equivalent list price",
          "NVIDIA Tesla K80 | server-equivalent list price"
         ],
         "type": "scatter",
         "x": [
          "2014-11-17T00:00:00",
          "2016-07-01T00:00:00",
          "2018-07-01T00:00:00",
          "2020-07-01T00:00:00",
          "2022-07-01T00:00:00"
         ],
         "y": [
          8200,
          6068,
          4100,
          1541.6,
          713.4
         ]
        },
        {
         "mode": "markers",
         "name": "K40",
         "text": [
          "NVIDIA Tesla K40s | server-equivalent release price",
          "NVIDIA Tesla K40s | server-equivalent release price",
          "NVIDIA Tesla K40s | server-equivalent list price",
          "NVIDIA Tesla K40s | server-equivalent list price",
          "NVIDIA Tesla K40s | server-equivalent list price",
          "NVIDIA Tesla K40s | server-equivalent list price",
          "NVIDIA Tesla K40s | server-equivalent list price"
         ],
         "type": "scatter",
         "x": [
          "2012-07-01T00:00:00",
          "2013-11-22T00:00:00",
          "2014-07-01T00:00:00",
          "2016-07-01T00:00:00",
          "2018-07-01T00:00:00",
          "2020-07-01T00:00:00",
          "2022-07-01T00:00:00"
         ],
         "y": [
          8856,
          12626.359999999999,
          6888,
          4756,
          3772,
          885.5999999999999,
          475.59999999999997
         ]
        },
        {
         "mode": "markers",
         "name": "Titan X",
         "text": [
          "NVIDIA GTX Titan X | server-equivalent release price"
         ],
         "type": "scatter",
         "x": [
          "2015-03-17T00:00:00"
         ],
         "y": [
          1638.36
         ]
        },
        {
         "line": {
          "color": "rgb(200, 200, 200)",
          "width": 1
         },
         "mode": "lines",
         "name": "-0.1 OOMs/year",
         "showlegend": true,
         "type": "scatter",
         "x": [
          "2012-01-01T00:00:00",
          "2013-01-01T00:00:00",
          "2014-01-01T00:00:00",
          "2015-01-01T00:00:00",
          "2016-01-01T00:00:00",
          "2017-01-01T00:00:00",
          "2018-01-01T00:00:00",
          "2019-01-01T00:00:00",
          "2020-01-01T00:00:00",
          "2021-01-01T00:00:00",
          "2022-01-01T00:00:00",
          "2023-01-01T00:00:00",
          "2024-01-01T00:00:00",
          "2025-01-01T00:00:00"
         ],
         "y": [
          1000,
          794.3282347242815,
          630.9573444801932,
          501.18723362727224,
          398.1071705534972,
          316.22776601683796,
          251.18864315095794,
          199.52623149688793,
          158.48931924611134,
          125.89254117941672,
          100,
          79.43282347242814,
          63.0957344480193,
          50.11872336272722
         ]
        },
        {
         "line": {
          "color": "rgb(200, 200, 200)",
          "width": 1
         },
         "mode": "lines",
         "name": "-0.1 OOMs/year",
         "showlegend": false,
         "type": "scatter",
         "x": [
          "2012-01-01T00:00:00",
          "2013-01-01T00:00:00",
          "2014-01-01T00:00:00",
          "2015-01-01T00:00:00",
          "2016-01-01T00:00:00",
          "2017-01-01T00:00:00",
          "2018-01-01T00:00:00",
          "2019-01-01T00:00:00",
          "2020-01-01T00:00:00",
          "2021-01-01T00:00:00",
          "2022-01-01T00:00:00",
          "2023-01-01T00:00:00",
          "2024-01-01T00:00:00",
          "2025-01-01T00:00:00"
         ],
         "y": [
          1258.9254117941675,
          1000.0000000000002,
          794.3282347242817,
          630.9573444801933,
          501.18723362727235,
          398.1071705534974,
          316.22776601683796,
          251.18864315095803,
          199.52623149688802,
          158.4893192461114,
          125.89254117941675,
          100.00000000000001,
          79.43282347242814,
          63.09573444801933
         ]
        },
        {
         "line": {
          "color": "rgb(200, 200, 200)",
          "width": 1
         },
         "mode": "lines",
         "name": "-0.1 OOMs/year",
         "showlegend": false,
         "type": "scatter",
         "x": [
          "2012-01-01T00:00:00",
          "2013-01-01T00:00:00",
          "2014-01-01T00:00:00",
          "2015-01-01T00:00:00",
          "2016-01-01T00:00:00",
          "2017-01-01T00:00:00",
          "2018-01-01T00:00:00",
          "2019-01-01T00:00:00",
          "2020-01-01T00:00:00",
          "2021-01-01T00:00:00",
          "2022-01-01T00:00:00",
          "2023-01-01T00:00:00",
          "2024-01-01T00:00:00",
          "2025-01-01T00:00:00"
         ],
         "y": [
          1584.893192461114,
          1258.9254117941675,
          1000.0000000000003,
          794.3282347242817,
          630.9573444801933,
          501.18723362727246,
          398.1071705534973,
          316.22776601683796,
          251.1886431509581,
          199.52623149688804,
          158.48931924611142,
          125.89254117941674,
          100,
          79.43282347242817
         ]
        },
        {
         "line": {
          "color": "rgb(200, 200, 200)",
          "width": 1
         },
         "mode": "lines",
         "name": "-0.1 OOMs/year",
         "showlegend": false,
         "type": "scatter",
         "x": [
          "2012-01-01T00:00:00",
          "2013-01-01T00:00:00",
          "2014-01-01T00:00:00",
          "2015-01-01T00:00:00",
          "2016-01-01T00:00:00",
          "2017-01-01T00:00:00",
          "2018-01-01T00:00:00",
          "2019-01-01T00:00:00",
          "2020-01-01T00:00:00",
          "2021-01-01T00:00:00",
          "2022-01-01T00:00:00",
          "2023-01-01T00:00:00",
          "2024-01-01T00:00:00",
          "2025-01-01T00:00:00"
         ],
         "y": [
          1995.262314968881,
          1584.8931924611145,
          1258.925411794168,
          1000.0000000000006,
          794.328234724282,
          630.9573444801937,
          501.1872336272725,
          398.10717055349744,
          316.22776601683813,
          251.1886431509582,
          199.5262314968881,
          158.48931924611142,
          125.89254117941675,
          100.00000000000004
         ]
        },
        {
         "line": {
          "color": "rgb(200, 200, 200)",
          "width": 1
         },
         "mode": "lines",
         "name": "-0.1 OOMs/year",
         "showlegend": false,
         "type": "scatter",
         "x": [
          "2012-01-01T00:00:00",
          "2013-01-01T00:00:00",
          "2014-01-01T00:00:00",
          "2015-01-01T00:00:00",
          "2016-01-01T00:00:00",
          "2017-01-01T00:00:00",
          "2018-01-01T00:00:00",
          "2019-01-01T00:00:00",
          "2020-01-01T00:00:00",
          "2021-01-01T00:00:00",
          "2022-01-01T00:00:00",
          "2023-01-01T00:00:00",
          "2024-01-01T00:00:00",
          "2025-01-01T00:00:00"
         ],
         "y": [
          2511.886431509582,
          1995.2623149688811,
          1584.8931924611147,
          1258.925411794168,
          1000.0000000000007,
          794.3282347242821,
          630.9573444801936,
          501.1872336272726,
          398.10717055349755,
          316.2277660168382,
          251.18864315095823,
          199.52623149688807,
          158.48931924611142,
          125.8925411794168
         ]
        },
        {
         "line": {
          "color": "rgb(200, 200, 200)",
          "width": 1
         },
         "mode": "lines",
         "name": "-0.1 OOMs/year",
         "showlegend": false,
         "type": "scatter",
         "x": [
          "2012-01-01T00:00:00",
          "2013-01-01T00:00:00",
          "2014-01-01T00:00:00",
          "2015-01-01T00:00:00",
          "2016-01-01T00:00:00",
          "2017-01-01T00:00:00",
          "2018-01-01T00:00:00",
          "2019-01-01T00:00:00",
          "2020-01-01T00:00:00",
          "2021-01-01T00:00:00",
          "2022-01-01T00:00:00",
          "2023-01-01T00:00:00",
          "2024-01-01T00:00:00",
          "2025-01-01T00:00:00"
         ],
         "y": [
          3162.2776601683827,
          2511.8864315095825,
          1995.2623149688818,
          1584.893192461115,
          1258.9254117941684,
          1000.0000000000011,
          794.3282347242822,
          630.9573444801938,
          501.1872336272728,
          398.10717055349767,
          316.2277660168383,
          251.18864315095823,
          199.5262314968881,
          158.48931924611148
         ]
        },
        {
         "line": {
          "color": "rgb(200, 200, 200)",
          "width": 1
         },
         "mode": "lines",
         "name": "-0.1 OOMs/year",
         "showlegend": false,
         "type": "scatter",
         "x": [
          "2012-01-01T00:00:00",
          "2013-01-01T00:00:00",
          "2014-01-01T00:00:00",
          "2015-01-01T00:00:00",
          "2016-01-01T00:00:00",
          "2017-01-01T00:00:00",
          "2018-01-01T00:00:00",
          "2019-01-01T00:00:00",
          "2020-01-01T00:00:00",
          "2021-01-01T00:00:00",
          "2022-01-01T00:00:00",
          "2023-01-01T00:00:00",
          "2024-01-01T00:00:00",
          "2025-01-01T00:00:00"
         ],
         "y": [
          3981.0717055349774,
          3162.277660168383,
          2511.886431509583,
          1995.2623149688818,
          1584.8931924611152,
          1258.9254117941687,
          1000.000000000001,
          794.3282347242823,
          630.957344480194,
          501.1872336272729,
          398.1071705534978,
          316.22776601683825,
          251.18864315095823,
          199.52623149688816
         ]
        },
        {
         "line": {
          "color": "rgb(200, 200, 200)",
          "width": 1
         },
         "mode": "lines",
         "name": "-0.1 OOMs/year",
         "showlegend": false,
         "type": "scatter",
         "x": [
          "2012-01-01T00:00:00",
          "2013-01-01T00:00:00",
          "2014-01-01T00:00:00",
          "2015-01-01T00:00:00",
          "2016-01-01T00:00:00",
          "2017-01-01T00:00:00",
          "2018-01-01T00:00:00",
          "2019-01-01T00:00:00",
          "2020-01-01T00:00:00",
          "2021-01-01T00:00:00",
          "2022-01-01T00:00:00",
          "2023-01-01T00:00:00",
          "2024-01-01T00:00:00",
          "2025-01-01T00:00:00"
         ],
         "y": [
          5011.87233627273,
          3981.071705534978,
          3162.2776601683836,
          2511.8864315095834,
          1995.262314968882,
          1584.8931924611156,
          1258.9254117941687,
          1000.0000000000011,
          794.3282347242825,
          630.9573444801941,
          501.187233627273,
          398.1071705534977,
          316.22776601683825,
          251.1886431509583
         ]
        },
        {
         "line": {
          "color": "rgb(200, 200, 200)",
          "width": 1
         },
         "mode": "lines",
         "name": "-0.1 OOMs/year",
         "showlegend": false,
         "type": "scatter",
         "x": [
          "2012-01-01T00:00:00",
          "2013-01-01T00:00:00",
          "2014-01-01T00:00:00",
          "2015-01-01T00:00:00",
          "2016-01-01T00:00:00",
          "2017-01-01T00:00:00",
          "2018-01-01T00:00:00",
          "2019-01-01T00:00:00",
          "2020-01-01T00:00:00",
          "2021-01-01T00:00:00",
          "2022-01-01T00:00:00",
          "2023-01-01T00:00:00",
          "2024-01-01T00:00:00",
          "2025-01-01T00:00:00"
         ],
         "y": [
          6309.573444801943,
          5011.872336272731,
          3981.071705534979,
          3162.2776601683845,
          2511.886431509584,
          1995.262314968883,
          1584.8931924611159,
          1258.9254117941691,
          1000.0000000000016,
          794.3282347242829,
          630.9573444801944,
          501.18723362727303,
          398.1071705534978,
          316.2277660168384
         ]
        },
        {
         "line": {
          "color": "rgb(200, 200, 200)",
          "width": 1
         },
         "mode": "lines",
         "name": "-0.1 OOMs/year",
         "showlegend": false,
         "type": "scatter",
         "x": [
          "2012-01-01T00:00:00",
          "2013-01-01T00:00:00",
          "2014-01-01T00:00:00",
          "2015-01-01T00:00:00",
          "2016-01-01T00:00:00",
          "2017-01-01T00:00:00",
          "2018-01-01T00:00:00",
          "2019-01-01T00:00:00",
          "2020-01-01T00:00:00",
          "2021-01-01T00:00:00",
          "2022-01-01T00:00:00",
          "2023-01-01T00:00:00",
          "2024-01-01T00:00:00",
          "2025-01-01T00:00:00"
         ],
         "y": [
          7943.28234724283,
          6309.573444801944,
          5011.872336272732,
          3981.0717055349796,
          3162.277660168385,
          2511.886431509585,
          1995.262314968883,
          1584.893192461116,
          1258.9254117941696,
          1000.0000000000019,
          794.328234724283,
          630.9573444801944,
          501.18723362727303,
          398.10717055349795
         ]
        },
        {
         "line": {
          "color": "rgb(200, 200, 200)",
          "width": 1
         },
         "mode": "lines",
         "name": "-0.1 OOMs/year",
         "showlegend": false,
         "type": "scatter",
         "x": [
          "2012-01-01T00:00:00",
          "2013-01-01T00:00:00",
          "2014-01-01T00:00:00",
          "2015-01-01T00:00:00",
          "2016-01-01T00:00:00",
          "2017-01-01T00:00:00",
          "2018-01-01T00:00:00",
          "2019-01-01T00:00:00",
          "2020-01-01T00:00:00",
          "2021-01-01T00:00:00",
          "2022-01-01T00:00:00",
          "2023-01-01T00:00:00",
          "2024-01-01T00:00:00",
          "2025-01-01T00:00:00"
         ],
         "y": [
          10000.00000000002,
          7943.282347242831,
          6309.573444801945,
          5011.872336272732,
          3981.07170553498,
          3162.277660168386,
          2511.886431509585,
          1995.2623149688832,
          1584.8931924611165,
          1258.9254117941698,
          1000.000000000002,
          794.328234724283,
          630.9573444801943,
          501.1872336272732
         ]
        },
        {
         "line": {
          "color": "rgb(200, 200, 200)",
          "width": 1
         },
         "mode": "lines",
         "name": "-0.1 OOMs/year",
         "showlegend": false,
         "type": "scatter",
         "x": [
          "2012-01-01T00:00:00",
          "2013-01-01T00:00:00",
          "2014-01-01T00:00:00",
          "2015-01-01T00:00:00",
          "2016-01-01T00:00:00",
          "2017-01-01T00:00:00",
          "2018-01-01T00:00:00",
          "2019-01-01T00:00:00",
          "2020-01-01T00:00:00",
          "2021-01-01T00:00:00",
          "2022-01-01T00:00:00",
          "2023-01-01T00:00:00",
          "2024-01-01T00:00:00",
          "2025-01-01T00:00:00"
         ],
         "y": [
          12589.254117941713,
          10000.000000000033,
          7943.282347242841,
          6309.573444801952,
          5011.872336272739,
          3981.0717055349855,
          3162.277660168389,
          2511.886431509588,
          1995.2623149688861,
          1584.8931924611188,
          1258.9254117941714,
          1000.0000000000031,
          794.3282347242838,
          630.9573444801952
         ]
        },
        {
         "line": {
          "color": "rgb(200, 200, 200)",
          "width": 1
         },
         "mode": "lines",
         "name": "-0.1 OOMs/year",
         "showlegend": false,
         "type": "scatter",
         "x": [
          "2012-01-01T00:00:00",
          "2013-01-01T00:00:00",
          "2014-01-01T00:00:00",
          "2015-01-01T00:00:00",
          "2016-01-01T00:00:00",
          "2017-01-01T00:00:00",
          "2018-01-01T00:00:00",
          "2019-01-01T00:00:00",
          "2020-01-01T00:00:00",
          "2021-01-01T00:00:00",
          "2022-01-01T00:00:00",
          "2023-01-01T00:00:00",
          "2024-01-01T00:00:00",
          "2025-01-01T00:00:00"
         ],
         "y": [
          15848.931924611174,
          12589.254117941702,
          10000.000000000024,
          7943.282347242834,
          6309.5734448019475,
          5011.872336272735,
          3981.0717055349814,
          3162.2776601683863,
          2511.886431509586,
          1995.2623149688845,
          1584.8931924611175,
          1258.92541179417,
          1000.000000000002,
          794.3282347242833
         ]
        },
        {
         "line": {
          "color": "rgb(200, 200, 200)",
          "width": 1
         },
         "mode": "lines",
         "name": "-0.1 OOMs/year",
         "showlegend": false,
         "type": "scatter",
         "x": [
          "2012-01-01T00:00:00",
          "2013-01-01T00:00:00",
          "2014-01-01T00:00:00",
          "2015-01-01T00:00:00",
          "2016-01-01T00:00:00",
          "2017-01-01T00:00:00",
          "2018-01-01T00:00:00",
          "2019-01-01T00:00:00",
          "2020-01-01T00:00:00",
          "2021-01-01T00:00:00",
          "2022-01-01T00:00:00",
          "2023-01-01T00:00:00",
          "2024-01-01T00:00:00",
          "2025-01-01T00:00:00"
         ],
         "y": [
          19952.62314968883,
          15848.93192461116,
          12589.254117941693,
          10000.000000000016,
          7943.282347242827,
          6309.573444801943,
          5011.87233627273,
          3981.0717055349783,
          3162.2776601683845,
          2511.8864315095843,
          1995.262314968883,
          1584.8931924611159,
          1258.925411794169,
          1000.0000000000015
         ]
        },
        {
         "line": {
          "color": "rgb(200, 200, 200)",
          "width": 1
         },
         "mode": "lines",
         "name": "-0.1 OOMs/year",
         "showlegend": false,
         "type": "scatter",
         "x": [
          "2012-01-01T00:00:00",
          "2013-01-01T00:00:00",
          "2014-01-01T00:00:00",
          "2015-01-01T00:00:00",
          "2016-01-01T00:00:00",
          "2017-01-01T00:00:00",
          "2018-01-01T00:00:00",
          "2019-01-01T00:00:00",
          "2020-01-01T00:00:00",
          "2021-01-01T00:00:00",
          "2022-01-01T00:00:00",
          "2023-01-01T00:00:00",
          "2024-01-01T00:00:00",
          "2025-01-01T00:00:00"
         ],
         "y": [
          25118.864315095874,
          19952.623149688854,
          15848.93192461118,
          12589.254117941708,
          10000.000000000027,
          7943.282347242838,
          6309.573444801949,
          5011.872336272736,
          3981.071705534984,
          3162.2776601683886,
          2511.8864315095875,
          1995.262314968885,
          1584.8931924611175,
          1258.9254117941707
         ]
        },
        {
         "line": {
          "color": "rgb(200, 200, 200)",
          "width": 1
         },
         "mode": "lines",
         "name": "-0.1 OOMs/year",
         "showlegend": false,
         "type": "scatter",
         "x": [
          "2012-01-01T00:00:00",
          "2013-01-01T00:00:00",
          "2014-01-01T00:00:00",
          "2015-01-01T00:00:00",
          "2016-01-01T00:00:00",
          "2017-01-01T00:00:00",
          "2018-01-01T00:00:00",
          "2019-01-01T00:00:00",
          "2020-01-01T00:00:00",
          "2021-01-01T00:00:00",
          "2022-01-01T00:00:00",
          "2023-01-01T00:00:00",
          "2024-01-01T00:00:00",
          "2025-01-01T00:00:00"
         ],
         "y": [
          31622.776601683923,
          25118.864315095903,
          19952.62314968888,
          15848.931924611199,
          12589.254117941722,
          10000.000000000042,
          7943.282347242846,
          6309.5734448019575,
          5011.872336272743,
          3981.071705534989,
          3162.2776601683927,
          2511.8864315095902,
          1995.262314968887,
          1584.8931924611197
         ]
        },
        {
         "line": {
          "color": "rgb(200, 200, 200)",
          "width": 1
         },
         "mode": "lines",
         "name": "-0.1 OOMs/year",
         "showlegend": false,
         "type": "scatter",
         "x": [
          "2012-01-01T00:00:00",
          "2013-01-01T00:00:00",
          "2014-01-01T00:00:00",
          "2015-01-01T00:00:00",
          "2016-01-01T00:00:00",
          "2017-01-01T00:00:00",
          "2018-01-01T00:00:00",
          "2019-01-01T00:00:00",
          "2020-01-01T00:00:00",
          "2021-01-01T00:00:00",
          "2022-01-01T00:00:00",
          "2023-01-01T00:00:00",
          "2024-01-01T00:00:00",
          "2025-01-01T00:00:00"
         ],
         "y": [
          39810.71705534986,
          31622.776601683898,
          25118.864315095885,
          19952.62314968886,
          15848.931924611186,
          12589.254117941715,
          10000.000000000031,
          7943.28234724284,
          6309.573444801953,
          5011.87233627274,
          3981.071705534986,
          3162.2776601683895,
          2511.8864315095875,
          1995.262314968886
         ]
        },
        {
         "line": {
          "color": "rgb(200, 200, 200)",
          "width": 1
         },
         "mode": "lines",
         "name": "-0.1 OOMs/year",
         "showlegend": false,
         "type": "scatter",
         "x": [
          "2012-01-01T00:00:00",
          "2013-01-01T00:00:00",
          "2014-01-01T00:00:00",
          "2015-01-01T00:00:00",
          "2016-01-01T00:00:00",
          "2017-01-01T00:00:00",
          "2018-01-01T00:00:00",
          "2019-01-01T00:00:00",
          "2020-01-01T00:00:00",
          "2021-01-01T00:00:00",
          "2022-01-01T00:00:00",
          "2023-01-01T00:00:00",
          "2024-01-01T00:00:00",
          "2025-01-01T00:00:00"
         ],
         "y": [
          50118.72336272735,
          39810.71705534982,
          31622.776601683872,
          25118.86431509586,
          19952.623149688843,
          15848.931924611175,
          12589.2541179417,
          10000.000000000022,
          7943.2823472428345,
          6309.573444801948,
          5011.872336272736,
          3981.071705534982,
          3162.277660168386,
          2511.886431509586
         ]
        },
        {
         "line": {
          "color": "rgb(200, 200, 200)",
          "width": 1
         },
         "mode": "lines",
         "name": "-0.1 OOMs/year",
         "showlegend": false,
         "type": "scatter",
         "x": [
          "2012-01-01T00:00:00",
          "2013-01-01T00:00:00",
          "2014-01-01T00:00:00",
          "2015-01-01T00:00:00",
          "2016-01-01T00:00:00",
          "2017-01-01T00:00:00",
          "2018-01-01T00:00:00",
          "2019-01-01T00:00:00",
          "2020-01-01T00:00:00",
          "2021-01-01T00:00:00",
          "2022-01-01T00:00:00",
          "2023-01-01T00:00:00",
          "2024-01-01T00:00:00",
          "2025-01-01T00:00:00"
         ],
         "y": [
          63095.73444801956,
          50118.72336272742,
          39810.71705534987,
          31622.77660168391,
          25118.864315095892,
          19952.623149688872,
          15848.93192461119,
          12589.254117941717,
          10000.000000000036,
          7943.282347242845,
          6309.573444801957,
          5011.8723362727405,
          3981.071705534986,
          3162.2776601683904
         ]
        },
        {
         "line": {
          "color": "rgb(200, 200, 200)",
          "width": 1
         },
         "mode": "lines",
         "name": "-0.1 OOMs/year",
         "showlegend": false,
         "type": "scatter",
         "x": [
          "2012-01-01T00:00:00",
          "2013-01-01T00:00:00",
          "2014-01-01T00:00:00",
          "2015-01-01T00:00:00",
          "2016-01-01T00:00:00",
          "2017-01-01T00:00:00",
          "2018-01-01T00:00:00",
          "2019-01-01T00:00:00",
          "2020-01-01T00:00:00",
          "2021-01-01T00:00:00",
          "2022-01-01T00:00:00",
          "2023-01-01T00:00:00",
          "2024-01-01T00:00:00",
          "2025-01-01T00:00:00"
         ],
         "y": [
          79432.82347242854,
          63095.73444801963,
          50118.723362727476,
          39810.717055349916,
          31622.776601683945,
          25118.864315095925,
          19952.62314968889,
          15848.93192461121,
          12589.254117941733,
          10000.00000000005,
          7943.2823472428545,
          6309.573444801963,
          5011.872336272746,
          3981.0717055349915
         ]
        },
        {
         "line": {
          "color": "rgb(200, 200, 200)",
          "width": 1
         },
         "mode": "lines",
         "name": "-0.1 OOMs/year",
         "showlegend": false,
         "type": "scatter",
         "x": [
          "2012-01-01T00:00:00",
          "2013-01-01T00:00:00",
          "2014-01-01T00:00:00",
          "2015-01-01T00:00:00",
          "2016-01-01T00:00:00",
          "2017-01-01T00:00:00",
          "2018-01-01T00:00:00",
          "2019-01-01T00:00:00",
          "2020-01-01T00:00:00",
          "2021-01-01T00:00:00",
          "2022-01-01T00:00:00",
          "2023-01-01T00:00:00",
          "2024-01-01T00:00:00",
          "2025-01-01T00:00:00"
         ],
         "y": [
          100000.00000000041,
          79432.82347242847,
          63095.73444801958,
          50118.723362727425,
          39810.71705534988,
          31622.776601683923,
          25118.8643150959,
          19952.623149688872,
          15848.931924611199,
          12589.254117941724,
          10000.000000000042,
          7943.282347242846,
          6309.573444801956,
          5011.872336272742
         ]
        },
        {
         "line": {
          "color": "rgb(200, 200, 200)",
          "width": 1
         },
         "mode": "lines",
         "name": "-0.1 OOMs/year",
         "showlegend": false,
         "type": "scatter",
         "x": [
          "2012-01-01T00:00:00",
          "2013-01-01T00:00:00",
          "2014-01-01T00:00:00",
          "2015-01-01T00:00:00",
          "2016-01-01T00:00:00",
          "2017-01-01T00:00:00",
          "2018-01-01T00:00:00",
          "2019-01-01T00:00:00",
          "2020-01-01T00:00:00",
          "2021-01-01T00:00:00",
          "2022-01-01T00:00:00",
          "2023-01-01T00:00:00",
          "2024-01-01T00:00:00",
          "2025-01-01T00:00:00"
         ],
         "y": [
          125892.54117941714,
          100000.00000000033,
          79432.82347242841,
          63095.73444801953,
          50118.72336272739,
          39810.71705534986,
          31622.77660168389,
          25118.864315095878,
          19952.62314968886,
          15848.931924611188,
          12589.254117941715,
          10000.000000000031,
          7943.282347242838,
          6309.573444801952
         ]
        },
        {
         "line": {
          "color": "rgb(200, 200, 200)",
          "width": 1
         },
         "mode": "lines",
         "name": "-0.1 OOMs/year",
         "showlegend": false,
         "type": "scatter",
         "x": [
          "2012-01-01T00:00:00",
          "2013-01-01T00:00:00",
          "2014-01-01T00:00:00",
          "2015-01-01T00:00:00",
          "2016-01-01T00:00:00",
          "2017-01-01T00:00:00",
          "2018-01-01T00:00:00",
          "2019-01-01T00:00:00",
          "2020-01-01T00:00:00",
          "2021-01-01T00:00:00",
          "2022-01-01T00:00:00",
          "2023-01-01T00:00:00",
          "2024-01-01T00:00:00",
          "2025-01-01T00:00:00"
         ],
         "y": [
          158489.31924611205,
          125892.54117941727,
          100000.00000000044,
          79432.8234724285,
          63095.7344480196,
          50118.723362727455,
          39810.717055349895,
          31622.776601683927,
          25118.86431509591,
          19952.623149688887,
          15848.931924611206,
          12589.254117941726,
          10000.00000000004,
          7943.282347242849
         ]
        },
        {
         "line": {
          "color": "rgb(200, 200, 200)",
          "width": 1
         },
         "mode": "lines",
         "name": "-0.1 OOMs/year",
         "showlegend": false,
         "type": "scatter",
         "x": [
          "2012-01-01T00:00:00",
          "2013-01-01T00:00:00",
          "2014-01-01T00:00:00",
          "2015-01-01T00:00:00",
          "2016-01-01T00:00:00",
          "2017-01-01T00:00:00",
          "2018-01-01T00:00:00",
          "2019-01-01T00:00:00",
          "2020-01-01T00:00:00",
          "2021-01-01T00:00:00",
          "2022-01-01T00:00:00",
          "2023-01-01T00:00:00",
          "2024-01-01T00:00:00",
          "2025-01-01T00:00:00"
         ],
         "y": [
          199526.23149688912,
          158489.31924611225,
          125892.54117941744,
          100000.00000000057,
          79432.8234724286,
          63095.73444801969,
          50118.723362727505,
          39810.717055349945,
          31622.776601683974,
          25118.864315095947,
          19952.623149688912,
          15848.931924611225,
          12589.25411794174,
          10000.000000000056
         ]
        },
        {
         "line": {
          "color": "rgb(200, 200, 200)",
          "width": 1
         },
         "mode": "lines",
         "name": "-0.1 OOMs/year",
         "showlegend": false,
         "type": "scatter",
         "x": [
          "2012-01-01T00:00:00",
          "2013-01-01T00:00:00",
          "2014-01-01T00:00:00",
          "2015-01-01T00:00:00",
          "2016-01-01T00:00:00",
          "2017-01-01T00:00:00",
          "2018-01-01T00:00:00",
          "2019-01-01T00:00:00",
          "2020-01-01T00:00:00",
          "2021-01-01T00:00:00",
          "2022-01-01T00:00:00",
          "2023-01-01T00:00:00",
          "2024-01-01T00:00:00",
          "2025-01-01T00:00:00"
         ],
         "y": [
          251188.64315095925,
          199526.23149688894,
          158489.31924611214,
          125892.54117941733,
          100000.00000000048,
          79432.82347242854,
          63095.734448019626,
          50118.72336272746,
          39810.71705534992,
          31622.776601683952,
          25118.864315095925,
          19952.62314968889,
          15848.931924611208,
          12589.254117941733
         ]
        },
        {
         "line": {
          "color": "rgb(200, 200, 200)",
          "width": 1
         },
         "mode": "lines",
         "name": "-0.1 OOMs/year",
         "showlegend": false,
         "type": "scatter",
         "x": [
          "2012-01-01T00:00:00",
          "2013-01-01T00:00:00",
          "2014-01-01T00:00:00",
          "2015-01-01T00:00:00",
          "2016-01-01T00:00:00",
          "2017-01-01T00:00:00",
          "2018-01-01T00:00:00",
          "2019-01-01T00:00:00",
          "2020-01-01T00:00:00",
          "2021-01-01T00:00:00",
          "2022-01-01T00:00:00",
          "2023-01-01T00:00:00",
          "2024-01-01T00:00:00",
          "2025-01-01T00:00:00"
         ],
         "y": [
          316227.76601683925,
          251188.64315095905,
          199526.2314968888,
          158489.319246112,
          125892.54117941723,
          100000.00000000042,
          79432.82347242847,
          63095.734448019575,
          50118.72336272743,
          39810.717055349895,
          31622.776601683927,
          25118.864315095903,
          19952.623149688872,
          15848.931924611197
         ]
        },
        {
         "line": {
          "color": "rgb(200, 200, 200)",
          "width": 1
         },
         "mode": "lines",
         "name": "-0.1 OOMs/year",
         "showlegend": false,
         "type": "scatter",
         "x": [
          "2012-01-01T00:00:00",
          "2013-01-01T00:00:00",
          "2014-01-01T00:00:00",
          "2015-01-01T00:00:00",
          "2016-01-01T00:00:00",
          "2017-01-01T00:00:00",
          "2018-01-01T00:00:00",
          "2019-01-01T00:00:00",
          "2020-01-01T00:00:00",
          "2021-01-01T00:00:00",
          "2022-01-01T00:00:00",
          "2023-01-01T00:00:00",
          "2024-01-01T00:00:00",
          "2025-01-01T00:00:00"
         ],
         "y": [
          398107.17055349937,
          316227.7660168396,
          251188.64315095934,
          199526.231496889,
          158489.31924611217,
          125892.5411794174,
          100000.00000000051,
          79432.82347242856,
          63095.734448019655,
          50118.7233627275,
          39810.71705534994,
          31622.776601683956,
          25118.864315095925,
          19952.623149688898
         ]
        },
        {
         "line": {
          "color": "rgb(200, 200, 200)",
          "width": 1
         },
         "mode": "lines",
         "name": "-0.1 OOMs/year",
         "showlegend": false,
         "type": "scatter",
         "x": [
          "2012-01-01T00:00:00",
          "2013-01-01T00:00:00",
          "2014-01-01T00:00:00",
          "2015-01-01T00:00:00",
          "2016-01-01T00:00:00",
          "2017-01-01T00:00:00",
          "2018-01-01T00:00:00",
          "2019-01-01T00:00:00",
          "2020-01-01T00:00:00",
          "2021-01-01T00:00:00",
          "2022-01-01T00:00:00",
          "2023-01-01T00:00:00",
          "2024-01-01T00:00:00",
          "2025-01-01T00:00:00"
         ],
         "y": [
          501187.23362727556,
          398107.17055349983,
          316227.76601684,
          251188.64315095963,
          199526.23149688923,
          158489.3192461124,
          125892.54117941752,
          100000.00000000064,
          79432.82347242867,
          63095.73444801974,
          50118.72336272756,
          39810.71705534998,
          31622.77660168399,
          25118.86431509596
         ]
        },
        {
         "line": {
          "color": "rgb(200, 200, 200)",
          "width": 1
         },
         "mode": "lines",
         "name": "-0.1 OOMs/year",
         "showlegend": false,
         "type": "scatter",
         "x": [
          "2012-01-01T00:00:00",
          "2013-01-01T00:00:00",
          "2014-01-01T00:00:00",
          "2015-01-01T00:00:00",
          "2016-01-01T00:00:00",
          "2017-01-01T00:00:00",
          "2018-01-01T00:00:00",
          "2019-01-01T00:00:00",
          "2020-01-01T00:00:00",
          "2021-01-01T00:00:00",
          "2022-01-01T00:00:00",
          "2023-01-01T00:00:00",
          "2024-01-01T00:00:00",
          "2025-01-01T00:00:00"
         ],
         "y": [
          630957.3444801968,
          501187.2336272751,
          398107.1705534995,
          316227.7660168397,
          251188.6431509594,
          199526.2314968891,
          158489.31924611222,
          125892.54117941741,
          100000.00000000057,
          79432.8234724286,
          63095.734448019684,
          50118.723362727505,
          39810.71705534994,
          31622.776601683967
         ]
        },
        {
         "line": {
          "color": "rgb(200, 200, 200)",
          "width": 1
         },
         "mode": "lines",
         "name": "-0.1 OOMs/year",
         "showlegend": false,
         "type": "scatter",
         "x": [
          "2012-01-01T00:00:00",
          "2013-01-01T00:00:00",
          "2014-01-01T00:00:00",
          "2015-01-01T00:00:00",
          "2016-01-01T00:00:00",
          "2017-01-01T00:00:00",
          "2018-01-01T00:00:00",
          "2019-01-01T00:00:00",
          "2020-01-01T00:00:00",
          "2021-01-01T00:00:00",
          "2022-01-01T00:00:00",
          "2023-01-01T00:00:00",
          "2024-01-01T00:00:00",
          "2025-01-01T00:00:00"
         ],
         "y": [
          794328.2347242854,
          630957.3444801964,
          501187.23362727475,
          398107.1705534992,
          316227.7660168395,
          251188.64315095925,
          199526.2314968889,
          158489.3192461121,
          125892.54117941734,
          100000.0000000005,
          79432.82347242854,
          63095.734448019626,
          50118.72336272746,
          39810.717055349916
         ]
        },
        {
         "line": {
          "color": "rgb(200, 200, 200)",
          "width": 1
         },
         "mode": "lines",
         "name": "-0.1 OOMs/year",
         "showlegend": false,
         "type": "scatter",
         "x": [
          "2012-01-01T00:00:00",
          "2013-01-01T00:00:00",
          "2014-01-01T00:00:00",
          "2015-01-01T00:00:00",
          "2016-01-01T00:00:00",
          "2017-01-01T00:00:00",
          "2018-01-01T00:00:00",
          "2019-01-01T00:00:00",
          "2020-01-01T00:00:00",
          "2021-01-01T00:00:00",
          "2022-01-01T00:00:00",
          "2023-01-01T00:00:00",
          "2024-01-01T00:00:00",
          "2025-01-01T00:00:00"
         ],
         "y": [
          1000000.0000000062,
          794328.2347242864,
          630957.3444801972,
          501187.23362727533,
          398107.17055349966,
          316227.7660168399,
          251188.6431509595,
          199526.23149688914,
          158489.3192461123,
          125892.5411794175,
          100000.00000000063,
          79432.82347242863,
          63095.73444801969,
          50118.72336272753
         ]
        },
        {
         "line": {
          "color": "rgb(200, 200, 200)",
          "width": 1
         },
         "mode": "lines",
         "name": "-0.1 OOMs/year",
         "showlegend": false,
         "type": "scatter",
         "x": [
          "2012-01-01T00:00:00",
          "2013-01-01T00:00:00",
          "2014-01-01T00:00:00",
          "2015-01-01T00:00:00",
          "2016-01-01T00:00:00",
          "2017-01-01T00:00:00",
          "2018-01-01T00:00:00",
          "2019-01-01T00:00:00",
          "2020-01-01T00:00:00",
          "2021-01-01T00:00:00",
          "2022-01-01T00:00:00",
          "2023-01-01T00:00:00",
          "2024-01-01T00:00:00",
          "2025-01-01T00:00:00"
         ],
         "y": [
          1258925.4117941766,
          1000000.0000000075,
          794328.2347242874,
          630957.3444801979,
          501187.233627276,
          398107.17055350024,
          316227.76601684024,
          251188.64315095983,
          199526.23149688944,
          158489.31924611254,
          125892.54117941766,
          100000.00000000073,
          79432.82347242872,
          63095.734448019786
         ]
        },
        {
         "line": {
          "color": "rgb(200, 200, 200)",
          "width": 1
         },
         "mode": "lines",
         "name": "-0.1 OOMs/year",
         "showlegend": false,
         "type": "scatter",
         "x": [
          "2012-01-01T00:00:00",
          "2013-01-01T00:00:00",
          "2014-01-01T00:00:00",
          "2015-01-01T00:00:00",
          "2016-01-01T00:00:00",
          "2017-01-01T00:00:00",
          "2018-01-01T00:00:00",
          "2019-01-01T00:00:00",
          "2020-01-01T00:00:00",
          "2021-01-01T00:00:00",
          "2022-01-01T00:00:00",
          "2023-01-01T00:00:00",
          "2024-01-01T00:00:00",
          "2025-01-01T00:00:00"
         ],
         "y": [
          1584893.192461124,
          1258925.4117941754,
          1000000.0000000066,
          794328.2347242867,
          630957.3444801973,
          501187.2336272756,
          398107.1705534998,
          316227.76601683995,
          251188.64315095966,
          199526.2314968893,
          158489.3192461124,
          125892.54117941753,
          100000.00000000063,
          79432.82347242866
         ]
        },
        {
         "line": {
          "color": "rgb(200, 200, 200)",
          "width": 1
         },
         "mode": "lines",
         "name": "-0.1 OOMs/year",
         "showlegend": false,
         "type": "scatter",
         "x": [
          "2012-01-01T00:00:00",
          "2013-01-01T00:00:00",
          "2014-01-01T00:00:00",
          "2015-01-01T00:00:00",
          "2016-01-01T00:00:00",
          "2017-01-01T00:00:00",
          "2018-01-01T00:00:00",
          "2019-01-01T00:00:00",
          "2020-01-01T00:00:00",
          "2021-01-01T00:00:00",
          "2022-01-01T00:00:00",
          "2023-01-01T00:00:00",
          "2024-01-01T00:00:00",
          "2025-01-01T00:00:00"
         ],
         "y": [
          1995262.314968891,
          1584893.1924611225,
          1258925.4117941745,
          1000000.0000000056,
          794328.2347242859,
          630957.3444801968,
          501187.23362727504,
          398107.1705534994,
          316227.7660168397,
          251188.64315095945,
          199526.23149688912,
          158489.31924611222,
          125892.5411794174,
          100000.00000000055
         ]
        },
        {
         "line": {
          "color": "rgb(200, 200, 200)",
          "width": 1
         },
         "mode": "lines",
         "name": "-0.1 OOMs/year",
         "showlegend": false,
         "type": "scatter",
         "x": [
          "2012-01-01T00:00:00",
          "2013-01-01T00:00:00",
          "2014-01-01T00:00:00",
          "2015-01-01T00:00:00",
          "2016-01-01T00:00:00",
          "2017-01-01T00:00:00",
          "2018-01-01T00:00:00",
          "2019-01-01T00:00:00",
          "2020-01-01T00:00:00",
          "2021-01-01T00:00:00",
          "2022-01-01T00:00:00",
          "2023-01-01T00:00:00",
          "2024-01-01T00:00:00",
          "2025-01-01T00:00:00"
         ],
         "y": [
          2511886.4315095977,
          1995262.3149688935,
          1584893.1924611246,
          1258925.4117941759,
          1000000.0000000069,
          794328.2347242871,
          630957.3444801975,
          501187.2336272757,
          398107.1705535,
          316227.7660168402,
          251188.64315095978,
          199526.23149688932,
          158489.3192461124,
          125892.54117941757
         ]
        },
        {
         "line": {
          "color": "rgb(200, 200, 200)",
          "width": 1
         },
         "mode": "lines",
         "name": "-0.1 OOMs/year",
         "showlegend": false,
         "type": "scatter",
         "x": [
          "2012-01-01T00:00:00",
          "2013-01-01T00:00:00",
          "2014-01-01T00:00:00",
          "2015-01-01T00:00:00",
          "2016-01-01T00:00:00",
          "2017-01-01T00:00:00",
          "2018-01-01T00:00:00",
          "2019-01-01T00:00:00",
          "2020-01-01T00:00:00",
          "2021-01-01T00:00:00",
          "2022-01-01T00:00:00",
          "2023-01-01T00:00:00",
          "2024-01-01T00:00:00",
          "2025-01-01T00:00:00"
         ],
         "y": [
          3162277.660168405,
          2511886.4315096005,
          1995262.3149688959,
          1584893.1924611263,
          1258925.4117941773,
          1000000.0000000081,
          794328.2347242879,
          630957.3444801982,
          501187.2336272764,
          398107.17055350053,
          316227.7660168405,
          251188.64315096004,
          199526.23149688952,
          158489.31924611263
         ]
        },
        {
         "line": {
          "color": "rgb(200, 200, 200)",
          "width": 1
         },
         "mode": "lines",
         "name": "-0.1 OOMs/year",
         "showlegend": false,
         "type": "scatter",
         "x": [
          "2012-01-01T00:00:00",
          "2013-01-01T00:00:00",
          "2014-01-01T00:00:00",
          "2015-01-01T00:00:00",
          "2016-01-01T00:00:00",
          "2017-01-01T00:00:00",
          "2018-01-01T00:00:00",
          "2019-01-01T00:00:00",
          "2020-01-01T00:00:00",
          "2021-01-01T00:00:00",
          "2022-01-01T00:00:00",
          "2023-01-01T00:00:00",
          "2024-01-01T00:00:00",
          "2025-01-01T00:00:00"
         ],
         "y": [
          3981071.7055350016,
          3162277.6601684024,
          2511886.4315095986,
          1995262.314968894,
          1584893.1924611249,
          1258925.4117941763,
          1000000.0000000071,
          794328.2347242872,
          630957.3444801979,
          501187.233627276,
          398107.1705535002,
          316227.7660168402,
          251188.64315095975,
          199526.23149688938
         ]
        },
        {
         "line": {
          "color": "rgb(200, 200, 200)",
          "width": 1
         },
         "mode": "lines",
         "name": "-0.1 OOMs/year",
         "showlegend": false,
         "type": "scatter",
         "x": [
          "2012-01-01T00:00:00",
          "2013-01-01T00:00:00",
          "2014-01-01T00:00:00",
          "2015-01-01T00:00:00",
          "2016-01-01T00:00:00",
          "2017-01-01T00:00:00",
          "2018-01-01T00:00:00",
          "2019-01-01T00:00:00",
          "2020-01-01T00:00:00",
          "2021-01-01T00:00:00",
          "2022-01-01T00:00:00",
          "2023-01-01T00:00:00",
          "2024-01-01T00:00:00",
          "2025-01-01T00:00:00"
         ],
         "y": [
          5011872.336272756,
          3981071.7055349983,
          3162277.6601684,
          2511886.4315095963,
          1995262.3149688924,
          1584893.192461124,
          1258925.4117941752,
          1000000.0000000063,
          794328.2347242867,
          630957.3444801974,
          501187.23362727556,
          398107.1705534998,
          316227.7660168399,
          251188.6431509596
         ]
        },
        {
         "line": {
          "color": "rgb(200, 200, 200)",
          "width": 1
         },
         "mode": "lines",
         "name": "-0.1 OOMs/year",
         "showlegend": false,
         "type": "scatter",
         "x": [
          "2012-01-01T00:00:00",
          "2013-01-01T00:00:00",
          "2014-01-01T00:00:00",
          "2015-01-01T00:00:00",
          "2016-01-01T00:00:00",
          "2017-01-01T00:00:00",
          "2018-01-01T00:00:00",
          "2019-01-01T00:00:00",
          "2020-01-01T00:00:00",
          "2021-01-01T00:00:00",
          "2022-01-01T00:00:00",
          "2023-01-01T00:00:00",
          "2024-01-01T00:00:00",
          "2025-01-01T00:00:00"
         ],
         "y": [
          6309573.444801982,
          5011872.336272762,
          3981071.7055350034,
          3162277.6601684038,
          2511886.4315095996,
          1995262.3149688952,
          1584893.1924611256,
          1258925.4117941768,
          1000000.0000000078,
          794328.2347242878,
          630957.3444801982,
          501187.2336272761,
          398107.1705535002,
          316227.76601684035
         ]
        },
        {
         "line": {
          "color": "rgb(200, 200, 200)",
          "width": 1
         },
         "mode": "lines",
         "name": "-0.1 OOMs/year",
         "showlegend": false,
         "type": "scatter",
         "x": [
          "2012-01-01T00:00:00",
          "2013-01-01T00:00:00",
          "2014-01-01T00:00:00",
          "2015-01-01T00:00:00",
          "2016-01-01T00:00:00",
          "2017-01-01T00:00:00",
          "2018-01-01T00:00:00",
          "2019-01-01T00:00:00",
          "2020-01-01T00:00:00",
          "2021-01-01T00:00:00",
          "2022-01-01T00:00:00",
          "2023-01-01T00:00:00",
          "2024-01-01T00:00:00",
          "2025-01-01T00:00:00"
         ],
         "y": [
          7943282.347242886,
          6309573.444801989,
          5011872.336272768,
          3981071.7055350076,
          3162277.6601684075,
          2511886.431509603,
          1995262.314968897,
          1584893.1924611274,
          1258925.4117941784,
          1000000.000000009,
          794328.2347242887,
          630957.3444801988,
          501187.2336272766,
          398107.17055350076
         ]
        },
        {
         "line": {
          "color": "rgb(200, 200, 200)",
          "width": 1
         },
         "mode": "lines",
         "name": "-0.1 OOMs/year",
         "showlegend": false,
         "type": "scatter",
         "x": [
          "2012-01-01T00:00:00",
          "2013-01-01T00:00:00",
          "2014-01-01T00:00:00",
          "2015-01-01T00:00:00",
          "2016-01-01T00:00:00",
          "2017-01-01T00:00:00",
          "2018-01-01T00:00:00",
          "2019-01-01T00:00:00",
          "2020-01-01T00:00:00",
          "2021-01-01T00:00:00",
          "2022-01-01T00:00:00",
          "2023-01-01T00:00:00",
          "2024-01-01T00:00:00",
          "2025-01-01T00:00:00"
         ],
         "y": [
          10000000.000000082,
          7943282.34724288,
          6309573.444801984,
          5011872.336272763,
          3981071.705535005,
          3162277.660168405,
          2511886.4315096,
          1995262.3149688956,
          1584893.1924611265,
          1258925.4117941775,
          1000000.0000000083,
          794328.2347242879,
          630957.3444801982,
          501187.2336272763
         ]
        },
        {
         "line": {
          "color": "rgb(200, 200, 200)",
          "width": 1
         },
         "mode": "lines",
         "name": "-0.1 OOMs/year",
         "showlegend": false,
         "type": "scatter",
         "x": [
          "2012-01-01T00:00:00",
          "2013-01-01T00:00:00",
          "2014-01-01T00:00:00",
          "2015-01-01T00:00:00",
          "2016-01-01T00:00:00",
          "2017-01-01T00:00:00",
          "2018-01-01T00:00:00",
          "2019-01-01T00:00:00",
          "2020-01-01T00:00:00",
          "2021-01-01T00:00:00",
          "2022-01-01T00:00:00",
          "2023-01-01T00:00:00",
          "2024-01-01T00:00:00",
          "2025-01-01T00:00:00"
         ],
         "y": [
          12589254.117941765,
          10000000.000000075,
          7943282.347242874,
          6309573.444801979,
          5011872.336272759,
          3981071.705535002,
          3162277.660168402,
          2511886.431509598,
          1995262.3149688942,
          1584893.1924611253,
          1258925.4117941766,
          1000000.0000000072,
          794328.2347242871,
          630957.3444801978
         ]
        },
        {
         "line": {
          "color": "rgb(200, 200, 200)",
          "width": 1
         },
         "mode": "lines",
         "name": "-0.1 OOMs/year",
         "showlegend": false,
         "type": "scatter",
         "x": [
          "2012-01-01T00:00:00",
          "2013-01-01T00:00:00",
          "2014-01-01T00:00:00",
          "2015-01-01T00:00:00",
          "2016-01-01T00:00:00",
          "2017-01-01T00:00:00",
          "2018-01-01T00:00:00",
          "2019-01-01T00:00:00",
          "2020-01-01T00:00:00",
          "2021-01-01T00:00:00",
          "2022-01-01T00:00:00",
          "2023-01-01T00:00:00",
          "2024-01-01T00:00:00",
          "2025-01-01T00:00:00"
         ],
         "y": [
          15848931.92461127,
          12589254.11794178,
          10000000.000000086,
          7943282.3472428825,
          6309573.444801985,
          5011872.336272766,
          3981071.705535006,
          3162277.6601684056,
          2511886.4315096014,
          1995262.3149688968,
          1584893.1924611272,
          1258925.4117941777,
          1000000.0000000081,
          794328.2347242881
         ]
        },
        {
         "line": {
          "color": "rgb(200, 200, 200)",
          "width": 1
         },
         "mode": "lines",
         "name": "-0.1 OOMs/year",
         "showlegend": false,
         "type": "scatter",
         "x": [
          "2012-01-01T00:00:00",
          "2013-01-01T00:00:00",
          "2014-01-01T00:00:00",
          "2015-01-01T00:00:00",
          "2016-01-01T00:00:00",
          "2017-01-01T00:00:00",
          "2018-01-01T00:00:00",
          "2019-01-01T00:00:00",
          "2020-01-01T00:00:00",
          "2021-01-01T00:00:00",
          "2022-01-01T00:00:00",
          "2023-01-01T00:00:00",
          "2024-01-01T00:00:00",
          "2025-01-01T00:00:00"
         ],
         "y": [
          19952623.149688993,
          15848931.92461129,
          12589254.117941797,
          10000000.000000097,
          7943282.347242893,
          6309573.444801995,
          5011872.3362727715,
          3981071.705535011,
          3162277.6601684103,
          2511886.431509605,
          1995262.3149688994,
          1584893.1924611288,
          1258925.4117941791,
          1000000.0000000097
         ]
        },
        {
         "line": {
          "color": "rgb(200, 200, 200)",
          "width": 1
         },
         "mode": "lines",
         "name": "-0.1 OOMs/year",
         "showlegend": false,
         "type": "scatter",
         "x": [
          "2012-01-01T00:00:00",
          "2013-01-01T00:00:00",
          "2014-01-01T00:00:00",
          "2015-01-01T00:00:00",
          "2016-01-01T00:00:00",
          "2017-01-01T00:00:00",
          "2018-01-01T00:00:00",
          "2019-01-01T00:00:00",
          "2020-01-01T00:00:00",
          "2021-01-01T00:00:00",
          "2022-01-01T00:00:00",
          "2023-01-01T00:00:00",
          "2024-01-01T00:00:00",
          "2025-01-01T00:00:00"
         ],
         "y": [
          25118864.31509603,
          19952623.149688978,
          15848931.924611278,
          12589254.117941786,
          10000000.00000009,
          7943282.347242887,
          6309573.444801988,
          5011872.336272767,
          3981071.7055350086,
          3162277.660168408,
          2511886.431509603,
          1995262.3149688973,
          1584893.1924611272,
          1258925.4117941784
         ]
        },
        {
         "line": {
          "color": "rgb(200, 200, 200)",
          "width": 1
         },
         "mode": "lines",
         "name": "-0.1 OOMs/year",
         "showlegend": false,
         "type": "scatter",
         "x": [
          "2012-01-01T00:00:00",
          "2013-01-01T00:00:00",
          "2014-01-01T00:00:00",
          "2015-01-01T00:00:00",
          "2016-01-01T00:00:00",
          "2017-01-01T00:00:00",
          "2018-01-01T00:00:00",
          "2019-01-01T00:00:00",
          "2020-01-01T00:00:00",
          "2021-01-01T00:00:00",
          "2022-01-01T00:00:00",
          "2023-01-01T00:00:00",
          "2024-01-01T00:00:00",
          "2025-01-01T00:00:00"
         ],
         "y": [
          31622776.601684052,
          25118864.315096006,
          19952623.14968896,
          15848931.924611263,
          12589254.117941774,
          10000000.000000082,
          7943282.347242879,
          6309573.4448019825,
          5011872.336272764,
          3981071.7055350053,
          3162277.6601684056,
          2511886.4315096005,
          1995262.3149688952,
          1584893.1924611263
         ]
        },
        {
         "line": {
          "color": "rgb(200, 200, 200)",
          "width": 1
         },
         "mode": "lines",
         "name": "-0.1 OOMs/year",
         "showlegend": false,
         "type": "scatter",
         "x": [
          "2012-01-01T00:00:00",
          "2013-01-01T00:00:00",
          "2014-01-01T00:00:00",
          "2015-01-01T00:00:00",
          "2016-01-01T00:00:00",
          "2017-01-01T00:00:00",
          "2018-01-01T00:00:00",
          "2019-01-01T00:00:00",
          "2020-01-01T00:00:00",
          "2021-01-01T00:00:00",
          "2022-01-01T00:00:00",
          "2023-01-01T00:00:00",
          "2024-01-01T00:00:00",
          "2025-01-01T00:00:00"
         ],
         "y": [
          39810717.0553501,
          31622776.601684093,
          25118864.31509604,
          19952623.149688985,
          15848931.924611283,
          12589254.117941791,
          10000000.000000093,
          7943282.347242889,
          6309573.444801992,
          5011872.336272771,
          3981071.7055350104,
          3162277.660168409,
          2511886.431509603,
          1995262.3149688982
         ]
        },
        {
         "line": {
          "color": "rgb(200, 200, 200)",
          "width": 1
         },
         "mode": "lines",
         "name": "-0.1 OOMs/year",
         "showlegend": false,
         "type": "scatter",
         "x": [
          "2012-01-01T00:00:00",
          "2013-01-01T00:00:00",
          "2014-01-01T00:00:00",
          "2015-01-01T00:00:00",
          "2016-01-01T00:00:00",
          "2017-01-01T00:00:00",
          "2018-01-01T00:00:00",
          "2019-01-01T00:00:00",
          "2020-01-01T00:00:00",
          "2021-01-01T00:00:00",
          "2022-01-01T00:00:00",
          "2023-01-01T00:00:00",
          "2024-01-01T00:00:00",
          "2025-01-01T00:00:00"
         ],
         "y": [
          50118723.36272776,
          39810717.05535015,
          31622776.60168413,
          25118864.315096065,
          19952623.149689008,
          15848931.924611304,
          12589254.117941802,
          10000000.000000104,
          7943282.347242899,
          6309573.444802,
          5011872.336272776,
          3981071.705535014,
          3162277.6601684117,
          2511886.4315096065
         ]
        },
        {
         "line": {
          "color": "rgb(200, 200, 200)",
          "width": 1
         },
         "mode": "lines",
         "name": "-0.1 OOMs/year",
         "showlegend": false,
         "type": "scatter",
         "x": [
          "2012-01-01T00:00:00",
          "2013-01-01T00:00:00",
          "2014-01-01T00:00:00",
          "2015-01-01T00:00:00",
          "2016-01-01T00:00:00",
          "2017-01-01T00:00:00",
          "2018-01-01T00:00:00",
          "2019-01-01T00:00:00",
          "2020-01-01T00:00:00",
          "2021-01-01T00:00:00",
          "2022-01-01T00:00:00",
          "2023-01-01T00:00:00",
          "2024-01-01T00:00:00",
          "2025-01-01T00:00:00"
         ],
         "y": [
          63095734.448019944,
          50118723.36272772,
          39810717.05535012,
          31622776.6016841,
          25118864.315096043,
          19952623.149688993,
          15848931.924611287,
          12589254.117941793,
          10000000.000000099,
          7943282.347242894,
          6309573.444801995,
          5011872.3362727715,
          3981071.70553501,
          3162277.66016841
         ]
        },
        {
         "line": {
          "color": "rgb(200, 200, 200)",
          "width": 1
         },
         "mode": "lines",
         "name": "-0.1 OOMs/year",
         "showlegend": false,
         "type": "scatter",
         "x": [
          "2012-01-01T00:00:00",
          "2013-01-01T00:00:00",
          "2014-01-01T00:00:00",
          "2015-01-01T00:00:00",
          "2016-01-01T00:00:00",
          "2017-01-01T00:00:00",
          "2018-01-01T00:00:00",
          "2019-01-01T00:00:00",
          "2020-01-01T00:00:00",
          "2021-01-01T00:00:00",
          "2022-01-01T00:00:00",
          "2023-01-01T00:00:00",
          "2024-01-01T00:00:00",
          "2025-01-01T00:00:00"
         ],
         "y": [
          79432823.47242886,
          63095734.448019885,
          50118723.36272767,
          39810717.05535008,
          31622776.60168407,
          25118864.315096024,
          19952623.14968897,
          15848931.924611272,
          12589254.117941784,
          10000000.00000009,
          7943282.347242886,
          6309573.444801988,
          5011872.336272766,
          3981071.705535007
         ]
        },
        {
         "line": {
          "color": "rgb(200, 200, 200)",
          "width": 1
         },
         "mode": "lines",
         "name": "-0.1 OOMs/year",
         "showlegend": false,
         "type": "scatter",
         "x": [
          "2012-01-01T00:00:00",
          "2013-01-01T00:00:00",
          "2014-01-01T00:00:00",
          "2015-01-01T00:00:00",
          "2016-01-01T00:00:00",
          "2017-01-01T00:00:00",
          "2018-01-01T00:00:00",
          "2019-01-01T00:00:00",
          "2020-01-01T00:00:00",
          "2021-01-01T00:00:00",
          "2022-01-01T00:00:00",
          "2023-01-01T00:00:00",
          "2024-01-01T00:00:00",
          "2025-01-01T00:00:00"
         ],
         "y": [
          100000000.00000082,
          79432823.4724288,
          63095734.44801984,
          50118723.362727635,
          39810717.05535004,
          31622776.601684052,
          25118864.315096002,
          19952623.149688955,
          15848931.924611265,
          12589254.117941776,
          10000000.000000082,
          7943282.347242879,
          6309573.444801982,
          5011872.336272763
         ]
        },
        {
         "line": {
          "color": "rgb(200, 200, 200)",
          "width": 1
         },
         "mode": "lines",
         "name": "-0.1 OOMs/year",
         "showlegend": false,
         "type": "scatter",
         "x": [
          "2012-01-01T00:00:00",
          "2013-01-01T00:00:00",
          "2014-01-01T00:00:00",
          "2015-01-01T00:00:00",
          "2016-01-01T00:00:00",
          "2017-01-01T00:00:00",
          "2018-01-01T00:00:00",
          "2019-01-01T00:00:00",
          "2020-01-01T00:00:00",
          "2021-01-01T00:00:00",
          "2022-01-01T00:00:00",
          "2023-01-01T00:00:00",
          "2024-01-01T00:00:00",
          "2025-01-01T00:00:00"
         ],
         "y": [
          125892541.17941816,
          100000000.00000115,
          79432823.47242905,
          63095734.44802004,
          50118723.3627278,
          39810717.055350184,
          31622776.60168415,
          25118864.315096084,
          19952623.149689022,
          15848931.924611317,
          12589254.117941817,
          10000000.000000114,
          7943282.347242903,
          6309573.444802004
         ]
        },
        {
         "line": {
          "color": "rgb(200, 200, 200)",
          "width": 1
         },
         "mode": "lines",
         "name": "-0.1 OOMs/year",
         "showlegend": false,
         "type": "scatter",
         "x": [
          "2012-01-01T00:00:00",
          "2013-01-01T00:00:00",
          "2014-01-01T00:00:00",
          "2015-01-01T00:00:00",
          "2016-01-01T00:00:00",
          "2017-01-01T00:00:00",
          "2018-01-01T00:00:00",
          "2019-01-01T00:00:00",
          "2020-01-01T00:00:00",
          "2021-01-01T00:00:00",
          "2022-01-01T00:00:00",
          "2023-01-01T00:00:00",
          "2024-01-01T00:00:00",
          "2025-01-01T00:00:00"
         ],
         "y": [
          158489319.24611303,
          125892541.17941806,
          100000000.00000106,
          79432823.47242899,
          63095734.44801999,
          50118723.36272776,
          39810717.05535014,
          31622776.601684123,
          25118864.315096065,
          19952623.149689008,
          15848931.924611304,
          12589254.117941804,
          10000000.000000102,
          7943282.347242898
         ]
        },
        {
         "line": {
          "color": "rgb(200, 200, 200)",
          "width": 1
         },
         "mode": "lines",
         "name": "-0.1 OOMs/year",
         "showlegend": false,
         "type": "scatter",
         "x": [
          "2012-01-01T00:00:00",
          "2013-01-01T00:00:00",
          "2014-01-01T00:00:00",
          "2015-01-01T00:00:00",
          "2016-01-01T00:00:00",
          "2017-01-01T00:00:00",
          "2018-01-01T00:00:00",
          "2019-01-01T00:00:00",
          "2020-01-01T00:00:00",
          "2021-01-01T00:00:00",
          "2022-01-01T00:00:00",
          "2023-01-01T00:00:00",
          "2024-01-01T00:00:00",
          "2025-01-01T00:00:00"
         ],
         "y": [
          199526231.49688992,
          158489319.2461129,
          125892541.17941795,
          100000000.00000097,
          79432823.47242892,
          63095734.448019944,
          50118723.36272771,
          39810717.05535011,
          31622776.6016841,
          25118864.31509605,
          19952623.149688993,
          15848931.924611287,
          12589254.117941791,
          10000000.000000097
         ]
        },
        {
         "line": {
          "color": "rgb(200, 200, 200)",
          "width": 1
         },
         "mode": "lines",
         "name": "-0.1 OOMs/year",
         "showlegend": false,
         "type": "scatter",
         "x": [
          "2012-01-01T00:00:00",
          "2013-01-01T00:00:00",
          "2014-01-01T00:00:00",
          "2015-01-01T00:00:00",
          "2016-01-01T00:00:00",
          "2017-01-01T00:00:00",
          "2018-01-01T00:00:00",
          "2019-01-01T00:00:00",
          "2020-01-01T00:00:00",
          "2021-01-01T00:00:00",
          "2022-01-01T00:00:00",
          "2023-01-01T00:00:00",
          "2024-01-01T00:00:00",
          "2025-01-01T00:00:00"
         ],
         "y": [
          251188643.1509613,
          199526231.49689057,
          158489319.24611342,
          125892541.17941837,
          100000000.0000013,
          79432823.4724292,
          63095734.44802014,
          50118723.36272787,
          39810717.055350244,
          31622776.60168421,
          25118864.315096132,
          19952623.149689056,
          15848931.924611337,
          12589254.117941836
         ]
        },
        {
         "line": {
          "color": "rgb(200, 200, 200)",
          "width": 1
         },
         "mode": "lines",
         "name": "-0.1 OOMs/year",
         "showlegend": false,
         "type": "scatter",
         "x": [
          "2012-01-01T00:00:00",
          "2013-01-01T00:00:00",
          "2014-01-01T00:00:00",
          "2015-01-01T00:00:00",
          "2016-01-01T00:00:00",
          "2017-01-01T00:00:00",
          "2018-01-01T00:00:00",
          "2019-01-01T00:00:00",
          "2020-01-01T00:00:00",
          "2021-01-01T00:00:00",
          "2022-01-01T00:00:00",
          "2023-01-01T00:00:00",
          "2024-01-01T00:00:00",
          "2025-01-01T00:00:00"
         ],
         "y": [
          316227766.0168418,
          251188643.1509611,
          199526231.49689043,
          158489319.2461133,
          125892541.17941825,
          100000000.00000124,
          79432823.47242911,
          63095734.448020086,
          50118723.36272784,
          39810717.055350214,
          31622776.601684183,
          25118864.315096106,
          19952623.149689034,
          15848931.924611328
         ]
        },
        {
         "line": {
          "color": "rgb(200, 200, 200)",
          "width": 1
         },
         "mode": "lines",
         "name": "-0.1 OOMs/year",
         "showlegend": false,
         "type": "scatter",
         "x": [
          "2012-01-01T00:00:00",
          "2013-01-01T00:00:00",
          "2014-01-01T00:00:00",
          "2015-01-01T00:00:00",
          "2016-01-01T00:00:00",
          "2017-01-01T00:00:00",
          "2018-01-01T00:00:00",
          "2019-01-01T00:00:00",
          "2020-01-01T00:00:00",
          "2021-01-01T00:00:00",
          "2022-01-01T00:00:00",
          "2023-01-01T00:00:00",
          "2024-01-01T00:00:00",
          "2025-01-01T00:00:00"
         ],
         "y": [
          398107170.5535018,
          316227766.01684153,
          251188643.15096086,
          199526231.49689022,
          158489319.24611312,
          125892541.17941816,
          100000000.00000112,
          79432823.47242904,
          63095734.44802004,
          50118723.3627278,
          39810717.05535018,
          31622776.60168415,
          25118864.315096077,
          19952623.14968902
         ]
        },
        {
         "line": {
          "color": "rgb(200, 200, 200)",
          "width": 1
         },
         "mode": "lines",
         "name": "-0.1 OOMs/year",
         "showlegend": false,
         "type": "scatter",
         "x": [
          "2012-01-01T00:00:00",
          "2013-01-01T00:00:00",
          "2014-01-01T00:00:00",
          "2015-01-01T00:00:00",
          "2016-01-01T00:00:00",
          "2017-01-01T00:00:00",
          "2018-01-01T00:00:00",
          "2019-01-01T00:00:00",
          "2020-01-01T00:00:00",
          "2021-01-01T00:00:00",
          "2022-01-01T00:00:00",
          "2023-01-01T00:00:00",
          "2024-01-01T00:00:00",
          "2025-01-01T00:00:00"
         ],
         "y": [
          501187233.6272776,
          398107170.5535015,
          316227766.0168413,
          251188643.15096065,
          199526231.49689007,
          158489319.24611303,
          125892541.17941803,
          100000000.00000104,
          79432823.47242899,
          63095734.44802,
          50118723.36272776,
          39810717.05535014,
          31622776.60168412,
          25118864.315096065
         ]
        },
        {
         "line": {
          "color": "rgb(200, 200, 200)",
          "width": 1
         },
         "mode": "lines",
         "name": "-0.1 OOMs/year",
         "showlegend": false,
         "type": "scatter",
         "x": [
          "2012-01-01T00:00:00",
          "2013-01-01T00:00:00",
          "2014-01-01T00:00:00",
          "2015-01-01T00:00:00",
          "2016-01-01T00:00:00",
          "2017-01-01T00:00:00",
          "2018-01-01T00:00:00",
          "2019-01-01T00:00:00",
          "2020-01-01T00:00:00",
          "2021-01-01T00:00:00",
          "2022-01-01T00:00:00",
          "2023-01-01T00:00:00",
          "2024-01-01T00:00:00",
          "2025-01-01T00:00:00"
         ],
         "y": [
          630957344.4801995,
          501187233.6272772,
          398107170.5535012,
          316227766.016841,
          251188643.15096045,
          199526231.49688992,
          158489319.24611288,
          125892541.17941794,
          100000000.00000098,
          79432823.47242893,
          63095734.44801995,
          50118723.36272772,
          39810717.0553501,
          31622776.6016841
         ]
        },
        {
         "line": {
          "color": "rgb(200, 200, 200)",
          "width": 1
         },
         "mode": "lines",
         "name": "-0.1 OOMs/year",
         "showlegend": false,
         "type": "scatter",
         "x": [
          "2012-01-01T00:00:00",
          "2013-01-01T00:00:00",
          "2014-01-01T00:00:00",
          "2015-01-01T00:00:00",
          "2016-01-01T00:00:00",
          "2017-01-01T00:00:00",
          "2018-01-01T00:00:00",
          "2019-01-01T00:00:00",
          "2020-01-01T00:00:00",
          "2021-01-01T00:00:00",
          "2022-01-01T00:00:00",
          "2023-01-01T00:00:00",
          "2024-01-01T00:00:00",
          "2025-01-01T00:00:00"
         ],
         "y": [
          794328234.7242919,
          630957344.4802015,
          501187233.62727886,
          398107170.55350244,
          316227766.01684207,
          251188643.1509613,
          199526231.49689054,
          158489319.2461134,
          125892541.17941837,
          100000000.00000131,
          79432823.4724292,
          63095734.448020145,
          50118723.362727866,
          39810717.055350244
         ]
        },
        {
         "line": {
          "color": "rgb(200, 200, 200)",
          "width": 1
         },
         "mode": "lines",
         "name": "-0.1 OOMs/year",
         "showlegend": false,
         "type": "scatter",
         "x": [
          "2012-01-01T00:00:00",
          "2013-01-01T00:00:00",
          "2014-01-01T00:00:00",
          "2015-01-01T00:00:00",
          "2016-01-01T00:00:00",
          "2017-01-01T00:00:00",
          "2018-01-01T00:00:00",
          "2019-01-01T00:00:00",
          "2020-01-01T00:00:00",
          "2021-01-01T00:00:00",
          "2022-01-01T00:00:00",
          "2023-01-01T00:00:00",
          "2024-01-01T00:00:00",
          "2025-01-01T00:00:00"
         ],
         "y": [
          1000000000.0000123,
          794328234.7242912,
          630957344.480201,
          501187233.6272784,
          398107170.5535021,
          316227766.0168418,
          251188643.15096104,
          199526231.49689037,
          158489319.2461133,
          125892541.17941828,
          100000000.00000124,
          79432823.47242911,
          63095734.44802008,
          50118723.362727836
         ]
        },
        {
         "line": {
          "color": "rgb(200, 200, 200)",
          "width": 1
         },
         "mode": "lines",
         "name": "-0.1 OOMs/year",
         "showlegend": false,
         "type": "scatter",
         "x": [
          "2012-01-01T00:00:00",
          "2013-01-01T00:00:00",
          "2014-01-01T00:00:00",
          "2015-01-01T00:00:00",
          "2016-01-01T00:00:00",
          "2017-01-01T00:00:00",
          "2018-01-01T00:00:00",
          "2019-01-01T00:00:00",
          "2020-01-01T00:00:00",
          "2021-01-01T00:00:00",
          "2022-01-01T00:00:00",
          "2023-01-01T00:00:00",
          "2024-01-01T00:00:00",
          "2025-01-01T00:00:00"
         ],
         "y": [
          1258925411.7941816,
          1000000000.0000114,
          794328234.7242906,
          630957344.4802004,
          501187233.627278,
          398107170.5535018,
          316227766.0168415,
          251188643.15096083,
          199526231.49689022,
          158489319.24611318,
          125892541.17941816,
          100000000.00000113,
          79432823.47242902,
          63095734.44802003
         ]
        },
        {
         "line": {
          "color": "rgb(200, 200, 200)",
          "width": 1
         },
         "mode": "lines",
         "name": "-0.1 OOMs/year",
         "showlegend": false,
         "type": "scatter",
         "x": [
          "2012-01-01T00:00:00",
          "2013-01-01T00:00:00",
          "2014-01-01T00:00:00",
          "2015-01-01T00:00:00",
          "2016-01-01T00:00:00",
          "2017-01-01T00:00:00",
          "2018-01-01T00:00:00",
          "2019-01-01T00:00:00",
          "2020-01-01T00:00:00",
          "2021-01-01T00:00:00",
          "2022-01-01T00:00:00",
          "2023-01-01T00:00:00",
          "2024-01-01T00:00:00",
          "2025-01-01T00:00:00"
         ],
         "y": [
          1584893192.4611368,
          1258925411.7941856,
          1000000000.0000147,
          794328234.7242931,
          630957344.4802024,
          501187233.6272797,
          398107170.55350304,
          316227766.01684254,
          251188643.1509617,
          199526231.4968909,
          158489319.2461137,
          125892541.17941855,
          100000000.00000143,
          79432823.4724293
         ]
        },
        {
         "line": {
          "color": "rgb(200, 200, 200)",
          "width": 1
         },
         "mode": "lines",
         "name": "-0.1 OOMs/year",
         "showlegend": false,
         "type": "scatter",
         "x": [
          "2012-01-01T00:00:00",
          "2013-01-01T00:00:00",
          "2014-01-01T00:00:00",
          "2015-01-01T00:00:00",
          "2016-01-01T00:00:00",
          "2017-01-01T00:00:00",
          "2018-01-01T00:00:00",
          "2019-01-01T00:00:00",
          "2020-01-01T00:00:00",
          "2021-01-01T00:00:00",
          "2022-01-01T00:00:00",
          "2023-01-01T00:00:00",
          "2024-01-01T00:00:00",
          "2025-01-01T00:00:00"
         ],
         "y": [
          1995262314.9689074,
          1584893192.4611356,
          1258925411.7941847,
          1000000000.0000138,
          794328234.7242924,
          630957344.4802021,
          501187233.62727916,
          398107170.5535027,
          316227766.0168423,
          251188643.15096152,
          199526231.49689075,
          158489319.24611354,
          125892541.17941843,
          100000000.00000137
         ]
        },
        {
         "line": {
          "color": "rgb(200, 200, 200)",
          "width": 1
         },
         "mode": "lines",
         "name": "-0.1 OOMs/year",
         "showlegend": false,
         "type": "scatter",
         "x": [
          "2012-01-01T00:00:00",
          "2013-01-01T00:00:00",
          "2014-01-01T00:00:00",
          "2015-01-01T00:00:00",
          "2016-01-01T00:00:00",
          "2017-01-01T00:00:00",
          "2018-01-01T00:00:00",
          "2019-01-01T00:00:00",
          "2020-01-01T00:00:00",
          "2021-01-01T00:00:00",
          "2022-01-01T00:00:00",
          "2023-01-01T00:00:00",
          "2024-01-01T00:00:00",
          "2025-01-01T00:00:00"
         ],
         "y": [
          2511886431.509613,
          1995262314.9689057,
          1584893192.4611342,
          1258925411.7941835,
          1000000000.000013,
          794328234.7242919,
          630957344.4802014,
          501187233.62727875,
          398107170.55350244,
          316227766.01684207,
          251188643.1509613,
          199526231.49689054,
          158489319.24611336,
          125892541.17941836
         ]
        },
        {
         "line": {
          "color": "rgb(200, 200, 200)",
          "width": 1
         },
         "mode": "lines",
         "name": "-0.1 OOMs/year",
         "showlegend": false,
         "type": "scatter",
         "x": [
          "2012-01-01T00:00:00",
          "2013-01-01T00:00:00",
          "2014-01-01T00:00:00",
          "2015-01-01T00:00:00",
          "2016-01-01T00:00:00",
          "2017-01-01T00:00:00",
          "2018-01-01T00:00:00",
          "2019-01-01T00:00:00",
          "2020-01-01T00:00:00",
          "2021-01-01T00:00:00",
          "2022-01-01T00:00:00",
          "2023-01-01T00:00:00",
          "2024-01-01T00:00:00",
          "2025-01-01T00:00:00"
         ],
         "y": [
          3162277660.168418,
          2511886431.5096107,
          1995262314.968904,
          1584893192.4611328,
          1258925411.7941825,
          1000000000.0000123,
          794328234.7242911,
          630957344.4802008,
          501187233.6272784,
          398107170.55350214,
          316227766.0168418,
          251188643.15096104,
          199526231.49689034,
          158489319.24611327
         ]
        },
        {
         "line": {
          "color": "rgb(200, 200, 200)",
          "width": 1
         },
         "mode": "lines",
         "name": "-0.1 OOMs/year",
         "showlegend": false,
         "type": "scatter",
         "x": [
          "2012-01-01T00:00:00",
          "2013-01-01T00:00:00",
          "2014-01-01T00:00:00",
          "2015-01-01T00:00:00",
          "2016-01-01T00:00:00",
          "2017-01-01T00:00:00",
          "2018-01-01T00:00:00",
          "2019-01-01T00:00:00",
          "2020-01-01T00:00:00",
          "2021-01-01T00:00:00",
          "2022-01-01T00:00:00",
          "2023-01-01T00:00:00",
          "2024-01-01T00:00:00",
          "2025-01-01T00:00:00"
         ],
         "y": [
          3981071705.535018,
          3162277660.1684155,
          2511886431.5096087,
          1995262314.968902,
          1584893192.4611313,
          1258925411.7941816,
          1000000000.0000112,
          794328234.7242904,
          630957344.4802004,
          501187233.62727803,
          398107170.55350184,
          316227766.0168415,
          251188643.1509608,
          199526231.49689022
         ]
        },
        {
         "line": {
          "color": "rgb(200, 200, 200)",
          "width": 1
         },
         "mode": "lines",
         "name": "-0.1 OOMs/year",
         "showlegend": false,
         "type": "scatter",
         "x": [
          "2012-01-01T00:00:00",
          "2013-01-01T00:00:00",
          "2014-01-01T00:00:00",
          "2015-01-01T00:00:00",
          "2016-01-01T00:00:00",
          "2017-01-01T00:00:00",
          "2018-01-01T00:00:00",
          "2019-01-01T00:00:00",
          "2020-01-01T00:00:00",
          "2021-01-01T00:00:00",
          "2022-01-01T00:00:00",
          "2023-01-01T00:00:00",
          "2024-01-01T00:00:00",
          "2025-01-01T00:00:00"
         ],
         "y": [
          5011872336.272797,
          3981071705.535031,
          3162277660.168426,
          2511886431.509617,
          1995262314.9689088,
          1584893192.4611368,
          1258925411.7941854,
          1000000000.0000145,
          794328234.7242931,
          630957344.4802026,
          501187233.6272797,
          398107170.55350304,
          316227766.0168425,
          251188643.15096167
         ]
        },
        {
         "line": {
          "color": "rgb(200, 200, 200)",
          "width": 1
         },
         "mode": "lines",
         "name": "-0.1 OOMs/year",
         "showlegend": false,
         "type": "scatter",
         "x": [
          "2012-01-01T00:00:00",
          "2013-01-01T00:00:00",
          "2014-01-01T00:00:00",
          "2015-01-01T00:00:00",
          "2016-01-01T00:00:00",
          "2017-01-01T00:00:00",
          "2018-01-01T00:00:00",
          "2019-01-01T00:00:00",
          "2020-01-01T00:00:00",
          "2021-01-01T00:00:00",
          "2022-01-01T00:00:00",
          "2023-01-01T00:00:00",
          "2024-01-01T00:00:00",
          "2025-01-01T00:00:00"
         ],
         "y": [
          6309573444.80202,
          5011872336.272793,
          3981071705.535028,
          3162277660.168423,
          2511886431.5096145,
          1995262314.9689074,
          1584893192.4611351,
          1258925411.7941844,
          1000000000.0000138,
          794328234.7242925,
          630957344.4802021,
          501187233.62727916,
          398107170.5535026,
          316227766.01684225
         ]
        },
        {
         "line": {
          "color": "rgb(200, 200, 200)",
          "width": 1
         },
         "mode": "lines",
         "name": "-0.1 OOMs/year",
         "showlegend": false,
         "type": "scatter",
         "x": [
          "2012-01-01T00:00:00",
          "2013-01-01T00:00:00",
          "2014-01-01T00:00:00",
          "2015-01-01T00:00:00",
          "2016-01-01T00:00:00",
          "2017-01-01T00:00:00",
          "2018-01-01T00:00:00",
          "2019-01-01T00:00:00",
          "2020-01-01T00:00:00",
          "2021-01-01T00:00:00",
          "2022-01-01T00:00:00",
          "2023-01-01T00:00:00",
          "2024-01-01T00:00:00",
          "2025-01-01T00:00:00"
         ],
         "y": [
          7943282347.242919,
          6309573444.802015,
          5011872336.272788,
          3981071705.535024,
          3162277660.1684203,
          2511886431.509613,
          1995262314.9689052,
          1584893192.461134,
          1258925411.7941837,
          1000000000.0000131,
          794328234.7242919,
          630957344.4802014,
          501187233.6272787,
          398107170.5535024
         ]
        }
       ],
       "layout": {
        "height": 600,
        "template": {
         "data": {
          "bar": [
           {
            "error_x": {
             "color": "#2a3f5f"
            },
            "error_y": {
             "color": "#2a3f5f"
            },
            "marker": {
             "line": {
              "color": "#E5ECF6",
              "width": 0.5
             },
             "pattern": {
              "fillmode": "overlay",
              "size": 10,
              "solidity": 0.2
             }
            },
            "type": "bar"
           }
          ],
          "barpolar": [
           {
            "marker": {
             "line": {
              "color": "#E5ECF6",
              "width": 0.5
             },
             "pattern": {
              "fillmode": "overlay",
              "size": 10,
              "solidity": 0.2
             }
            },
            "type": "barpolar"
           }
          ],
          "carpet": [
           {
            "aaxis": {
             "endlinecolor": "#2a3f5f",
             "gridcolor": "white",
             "linecolor": "white",
             "minorgridcolor": "white",
             "startlinecolor": "#2a3f5f"
            },
            "baxis": {
             "endlinecolor": "#2a3f5f",
             "gridcolor": "white",
             "linecolor": "white",
             "minorgridcolor": "white",
             "startlinecolor": "#2a3f5f"
            },
            "type": "carpet"
           }
          ],
          "choropleth": [
           {
            "colorbar": {
             "outlinewidth": 0,
             "ticks": ""
            },
            "type": "choropleth"
           }
          ],
          "contour": [
           {
            "colorbar": {
             "outlinewidth": 0,
             "ticks": ""
            },
            "colorscale": [
             [
              0,
              "#0d0887"
             ],
             [
              0.1111111111111111,
              "#46039f"
             ],
             [
              0.2222222222222222,
              "#7201a8"
             ],
             [
              0.3333333333333333,
              "#9c179e"
             ],
             [
              0.4444444444444444,
              "#bd3786"
             ],
             [
              0.5555555555555556,
              "#d8576b"
             ],
             [
              0.6666666666666666,
              "#ed7953"
             ],
             [
              0.7777777777777778,
              "#fb9f3a"
             ],
             [
              0.8888888888888888,
              "#fdca26"
             ],
             [
              1,
              "#f0f921"
             ]
            ],
            "type": "contour"
           }
          ],
          "contourcarpet": [
           {
            "colorbar": {
             "outlinewidth": 0,
             "ticks": ""
            },
            "type": "contourcarpet"
           }
          ],
          "heatmap": [
           {
            "colorbar": {
             "outlinewidth": 0,
             "ticks": ""
            },
            "colorscale": [
             [
              0,
              "#0d0887"
             ],
             [
              0.1111111111111111,
              "#46039f"
             ],
             [
              0.2222222222222222,
              "#7201a8"
             ],
             [
              0.3333333333333333,
              "#9c179e"
             ],
             [
              0.4444444444444444,
              "#bd3786"
             ],
             [
              0.5555555555555556,
              "#d8576b"
             ],
             [
              0.6666666666666666,
              "#ed7953"
             ],
             [
              0.7777777777777778,
              "#fb9f3a"
             ],
             [
              0.8888888888888888,
              "#fdca26"
             ],
             [
              1,
              "#f0f921"
             ]
            ],
            "type": "heatmap"
           }
          ],
          "heatmapgl": [
           {
            "colorbar": {
             "outlinewidth": 0,
             "ticks": ""
            },
            "colorscale": [
             [
              0,
              "#0d0887"
             ],
             [
              0.1111111111111111,
              "#46039f"
             ],
             [
              0.2222222222222222,
              "#7201a8"
             ],
             [
              0.3333333333333333,
              "#9c179e"
             ],
             [
              0.4444444444444444,
              "#bd3786"
             ],
             [
              0.5555555555555556,
              "#d8576b"
             ],
             [
              0.6666666666666666,
              "#ed7953"
             ],
             [
              0.7777777777777778,
              "#fb9f3a"
             ],
             [
              0.8888888888888888,
              "#fdca26"
             ],
             [
              1,
              "#f0f921"
             ]
            ],
            "type": "heatmapgl"
           }
          ],
          "histogram": [
           {
            "marker": {
             "pattern": {
              "fillmode": "overlay",
              "size": 10,
              "solidity": 0.2
             }
            },
            "type": "histogram"
           }
          ],
          "histogram2d": [
           {
            "colorbar": {
             "outlinewidth": 0,
             "ticks": ""
            },
            "colorscale": [
             [
              0,
              "#0d0887"
             ],
             [
              0.1111111111111111,
              "#46039f"
             ],
             [
              0.2222222222222222,
              "#7201a8"
             ],
             [
              0.3333333333333333,
              "#9c179e"
             ],
             [
              0.4444444444444444,
              "#bd3786"
             ],
             [
              0.5555555555555556,
              "#d8576b"
             ],
             [
              0.6666666666666666,
              "#ed7953"
             ],
             [
              0.7777777777777778,
              "#fb9f3a"
             ],
             [
              0.8888888888888888,
              "#fdca26"
             ],
             [
              1,
              "#f0f921"
             ]
            ],
            "type": "histogram2d"
           }
          ],
          "histogram2dcontour": [
           {
            "colorbar": {
             "outlinewidth": 0,
             "ticks": ""
            },
            "colorscale": [
             [
              0,
              "#0d0887"
             ],
             [
              0.1111111111111111,
              "#46039f"
             ],
             [
              0.2222222222222222,
              "#7201a8"
             ],
             [
              0.3333333333333333,
              "#9c179e"
             ],
             [
              0.4444444444444444,
              "#bd3786"
             ],
             [
              0.5555555555555556,
              "#d8576b"
             ],
             [
              0.6666666666666666,
              "#ed7953"
             ],
             [
              0.7777777777777778,
              "#fb9f3a"
             ],
             [
              0.8888888888888888,
              "#fdca26"
             ],
             [
              1,
              "#f0f921"
             ]
            ],
            "type": "histogram2dcontour"
           }
          ],
          "mesh3d": [
           {
            "colorbar": {
             "outlinewidth": 0,
             "ticks": ""
            },
            "type": "mesh3d"
           }
          ],
          "parcoords": [
           {
            "line": {
             "colorbar": {
              "outlinewidth": 0,
              "ticks": ""
             }
            },
            "type": "parcoords"
           }
          ],
          "pie": [
           {
            "automargin": true,
            "type": "pie"
           }
          ],
          "scatter": [
           {
            "fillpattern": {
             "fillmode": "overlay",
             "size": 10,
             "solidity": 0.2
            },
            "type": "scatter"
           }
          ],
          "scatter3d": [
           {
            "line": {
             "colorbar": {
              "outlinewidth": 0,
              "ticks": ""
             }
            },
            "marker": {
             "colorbar": {
              "outlinewidth": 0,
              "ticks": ""
             }
            },
            "type": "scatter3d"
           }
          ],
          "scattercarpet": [
           {
            "marker": {
             "colorbar": {
              "outlinewidth": 0,
              "ticks": ""
             }
            },
            "type": "scattercarpet"
           }
          ],
          "scattergeo": [
           {
            "marker": {
             "colorbar": {
              "outlinewidth": 0,
              "ticks": ""
             }
            },
            "type": "scattergeo"
           }
          ],
          "scattergl": [
           {
            "marker": {
             "colorbar": {
              "outlinewidth": 0,
              "ticks": ""
             }
            },
            "type": "scattergl"
           }
          ],
          "scattermapbox": [
           {
            "marker": {
             "colorbar": {
              "outlinewidth": 0,
              "ticks": ""
             }
            },
            "type": "scattermapbox"
           }
          ],
          "scatterpolar": [
           {
            "marker": {
             "colorbar": {
              "outlinewidth": 0,
              "ticks": ""
             }
            },
            "type": "scatterpolar"
           }
          ],
          "scatterpolargl": [
           {
            "marker": {
             "colorbar": {
              "outlinewidth": 0,
              "ticks": ""
             }
            },
            "type": "scatterpolargl"
           }
          ],
          "scatterternary": [
           {
            "marker": {
             "colorbar": {
              "outlinewidth": 0,
              "ticks": ""
             }
            },
            "type": "scatterternary"
           }
          ],
          "surface": [
           {
            "colorbar": {
             "outlinewidth": 0,
             "ticks": ""
            },
            "colorscale": [
             [
              0,
              "#0d0887"
             ],
             [
              0.1111111111111111,
              "#46039f"
             ],
             [
              0.2222222222222222,
              "#7201a8"
             ],
             [
              0.3333333333333333,
              "#9c179e"
             ],
             [
              0.4444444444444444,
              "#bd3786"
             ],
             [
              0.5555555555555556,
              "#d8576b"
             ],
             [
              0.6666666666666666,
              "#ed7953"
             ],
             [
              0.7777777777777778,
              "#fb9f3a"
             ],
             [
              0.8888888888888888,
              "#fdca26"
             ],
             [
              1,
              "#f0f921"
             ]
            ],
            "type": "surface"
           }
          ],
          "table": [
           {
            "cells": {
             "fill": {
              "color": "#EBF0F8"
             },
             "line": {
              "color": "white"
             }
            },
            "header": {
             "fill": {
              "color": "#C8D4E3"
             },
             "line": {
              "color": "white"
             }
            },
            "type": "table"
           }
          ]
         },
         "layout": {
          "annotationdefaults": {
           "arrowcolor": "#2a3f5f",
           "arrowhead": 0,
           "arrowwidth": 1
          },
          "autotypenumbers": "strict",
          "coloraxis": {
           "colorbar": {
            "outlinewidth": 0,
            "ticks": ""
           }
          },
          "colorscale": {
           "diverging": [
            [
             0,
             "#8e0152"
            ],
            [
             0.1,
             "#c51b7d"
            ],
            [
             0.2,
             "#de77ae"
            ],
            [
             0.3,
             "#f1b6da"
            ],
            [
             0.4,
             "#fde0ef"
            ],
            [
             0.5,
             "#f7f7f7"
            ],
            [
             0.6,
             "#e6f5d0"
            ],
            [
             0.7,
             "#b8e186"
            ],
            [
             0.8,
             "#7fbc41"
            ],
            [
             0.9,
             "#4d9221"
            ],
            [
             1,
             "#276419"
            ]
           ],
           "sequential": [
            [
             0,
             "#0d0887"
            ],
            [
             0.1111111111111111,
             "#46039f"
            ],
            [
             0.2222222222222222,
             "#7201a8"
            ],
            [
             0.3333333333333333,
             "#9c179e"
            ],
            [
             0.4444444444444444,
             "#bd3786"
            ],
            [
             0.5555555555555556,
             "#d8576b"
            ],
            [
             0.6666666666666666,
             "#ed7953"
            ],
            [
             0.7777777777777778,
             "#fb9f3a"
            ],
            [
             0.8888888888888888,
             "#fdca26"
            ],
            [
             1,
             "#f0f921"
            ]
           ],
           "sequentialminus": [
            [
             0,
             "#0d0887"
            ],
            [
             0.1111111111111111,
             "#46039f"
            ],
            [
             0.2222222222222222,
             "#7201a8"
            ],
            [
             0.3333333333333333,
             "#9c179e"
            ],
            [
             0.4444444444444444,
             "#bd3786"
            ],
            [
             0.5555555555555556,
             "#d8576b"
            ],
            [
             0.6666666666666666,
             "#ed7953"
            ],
            [
             0.7777777777777778,
             "#fb9f3a"
            ],
            [
             0.8888888888888888,
             "#fdca26"
            ],
            [
             1,
             "#f0f921"
            ]
           ]
          },
          "colorway": [
           "#636efa",
           "#EF553B",
           "#00cc96",
           "#ab63fa",
           "#FFA15A",
           "#19d3f3",
           "#FF6692",
           "#B6E880",
           "#FF97FF",
           "#FECB52"
          ],
          "font": {
           "color": "#2a3f5f"
          },
          "geo": {
           "bgcolor": "white",
           "lakecolor": "white",
           "landcolor": "#E5ECF6",
           "showlakes": true,
           "showland": true,
           "subunitcolor": "white"
          },
          "hoverlabel": {
           "align": "left"
          },
          "hovermode": "closest",
          "mapbox": {
           "style": "light"
          },
          "paper_bgcolor": "white",
          "plot_bgcolor": "#E5ECF6",
          "polar": {
           "angularaxis": {
            "gridcolor": "white",
            "linecolor": "white",
            "ticks": ""
           },
           "bgcolor": "#E5ECF6",
           "radialaxis": {
            "gridcolor": "white",
            "linecolor": "white",
            "ticks": ""
           }
          },
          "scene": {
           "xaxis": {
            "backgroundcolor": "#E5ECF6",
            "gridcolor": "white",
            "gridwidth": 2,
            "linecolor": "white",
            "showbackground": true,
            "ticks": "",
            "zerolinecolor": "white"
           },
           "yaxis": {
            "backgroundcolor": "#E5ECF6",
            "gridcolor": "white",
            "gridwidth": 2,
            "linecolor": "white",
            "showbackground": true,
            "ticks": "",
            "zerolinecolor": "white"
           },
           "zaxis": {
            "backgroundcolor": "#E5ECF6",
            "gridcolor": "white",
            "gridwidth": 2,
            "linecolor": "white",
            "showbackground": true,
            "ticks": "",
            "zerolinecolor": "white"
           }
          },
          "shapedefaults": {
           "line": {
            "color": "#2a3f5f"
           }
          },
          "ternary": {
           "aaxis": {
            "gridcolor": "white",
            "linecolor": "white",
            "ticks": ""
           },
           "baxis": {
            "gridcolor": "white",
            "linecolor": "white",
            "ticks": ""
           },
           "bgcolor": "#E5ECF6",
           "caxis": {
            "gridcolor": "white",
            "linecolor": "white",
            "ticks": ""
           }
          },
          "title": {
           "x": 0.05
          },
          "xaxis": {
           "automargin": true,
           "gridcolor": "white",
           "linecolor": "white",
           "ticks": "",
           "title": {
            "standoff": 15
           },
           "zerolinecolor": "white",
           "zerolinewidth": 2
          },
          "yaxis": {
           "automargin": true,
           "gridcolor": "white",
           "linecolor": "white",
           "ticks": "",
           "title": {
            "standoff": 15
           },
           "zerolinecolor": "white",
           "zerolinewidth": 2
          }
         }
        },
        "title": {
         "text": "Server-equivalent purchase price vs. performance"
        },
        "width": 800,
        "xaxis": {
         "title": {
          "text": "Price date"
         }
        },
        "yaxis": {
         "range": [
          3,
          5
         ],
         "title": {
          "text": "Server-equivalent purchase price ($)"
         },
         "type": "log"
        }
       }
      }
     },
     "metadata": {},
     "output_type": "display_data"
    }
   ],
   "source": [
    "fig = go.Figure()\n",
    "for hardware_alias in hardware_aliases:\n",
    "    print(hardware_alias)\n",
    "    _hardware_df = server_adjusted_purchase_price_df[server_adjusted_purchase_price_df['Hardware model'].str.contains(hardware_alias)]\n",
    "    fig.add_trace(go.Scatter(\n",
    "        x=_hardware_df['Price date'],\n",
    "        y=_hardware_df[price_colname],\n",
    "        mode='markers',\n",
    "        name=hardware_alias,\n",
    "        text=_hardware_df['Hardware model'] + ' | ' + _hardware_df['Notes'],\n",
    "    ))\n",
    "\n",
    "for i in range(len(contours)):\n",
    "    fig.add_trace(go.Scatter(\n",
    "        x=[pd.to_datetime(f\"{year}-01-01\") for year in t],\n",
    "        y=contours[i],\n",
    "        mode='lines',\n",
    "        line=dict(color='rgb(200, 200, 200)', width=1),\n",
    "        name=f'-0.1 OOMs/year',\n",
    "        showlegend=True if i == 0 else False,\n",
    "    ))\n",
    "\n",
    "# y limits\n",
    "fig.update_yaxes(range=[3, 5])\n",
    "\n",
    "fig.update_layout(\n",
    "    title='Server-equivalent purchase price vs. performance',\n",
    "    xaxis_title='Price date',\n",
    "    yaxis_title='Server-equivalent purchase price ($)',\n",
    "    yaxis_type='log',\n",
    "    width=800,\n",
    "    height=600,\n",
    ")\n",
    "fig.show()"
   ]
  },
  {
   "cell_type": "code",
   "execution_count": 10,
   "metadata": {},
   "outputs": [],
   "source": [
    "# Drop thenextplatform rows\n",
    "no_nextplatform_df = server_adjusted_purchase_price_df[~server_adjusted_purchase_price_df['Price source'].str.contains('nextplatform')]"
   ]
  },
  {
   "cell_type": "code",
   "execution_count": 11,
   "metadata": {},
   "outputs": [
    {
     "data": {
      "application/vnd.plotly.v1+json": {
       "config": {
        "plotlyServerURL": "https://plot.ly"
       },
       "data": [
        {
         "mode": "markers",
         "name": "A100",
         "text": [
          "NVIDIA A100 SXM4 40 GB | DGX A100, 8 GPU, 320GB. Release price.",
          "NVIDIA A100 SXM4 80 GB | DGX A100, 8 GPU, 640GB",
          "NVIDIA A100 SXM4 80 GB | DGX A100, 8 GPU, 640GB",
          "NVIDIA A100 SXM4 80 GB | HGX A100, 8 GPU, 640GB",
          null,
          null,
          null,
          null,
          null,
          null,
          null,
          null,
          null,
          null,
          null,
          null,
          null,
          null,
          null,
          null,
          null,
          null,
          null,
          null
         ],
         "type": "scatter",
         "x": [
          "2020-05-21T00:00:00",
          "2021-06-30T00:00:00",
          "2022-01-20T00:00:00",
          "2023-09-23T00:00:00"
         ],
         "y": [
          24875,
          37500,
          20875,
          18548.75
         ]
        },
        {
         "mode": "markers",
         "name": "H100",
         "text": [
          null,
          null,
          null,
          null,
          null,
          "NVIDIA H100 SXM5 | DGX, 8 GPU, 640GB. Convert Euro to USD: https://www.oanda.com/currency-converter/en/?from=EUR&to=USD&amount=https://www.oanda.com/currency-converter/en/?from=EUR&to=USD&amount=369855.51",
          "NVIDIA H100 SXM5 | DGX, 8 GPU, 640GB. “Nvidia sells DGX H100’s at around $270,000”.",
          "NVIDIA H100 SXM5 | DGX, 8 GPU, 640GB. Convert Euro to USD: https://www.oanda.com/currency-converter/en/?from=EUR&to=USD&amount=306403.66",
          "NVIDIA H100 SXM5 | DGX, 8 GPU, 640GB. Convert Euro to USD: https://www.oanda.com/currency-converter/en/?from=EUR&to=USD&amount=303610.2",
          "NVIDIA H100 SXM5 | HGX, 8 GPU, 640GB",
          null,
          null,
          null,
          null,
          null,
          null,
          null,
          null,
          null,
          null,
          null,
          null,
          null,
          null
         ],
         "type": "scatter",
         "x": [
          "2022-09-29T00:00:00",
          "2023-05-29T00:00:00",
          "2023-12-11T00:00:00",
          "2024-03-20T00:00:00",
          "2024-03-21T00:00:00"
         ],
         "y": [
          44489.88,
          33750,
          41197.5,
          41217,
          37080.5
         ]
        },
        {
         "mode": "markers",
         "name": "P100",
         "text": [
          null,
          null,
          null,
          null,
          null,
          null,
          null,
          null,
          null,
          null,
          null,
          null,
          "NVIDIA Tesla P100 PCIe 16 GB | server-equivalent release price",
          "NVIDIA Tesla P100 PCIe 16 GB | DGX-1, 8 GPU, 128GB",
          "NVIDIA Tesla P100 PCIe 16 GB | DGX-1, 8 GPU, 128GB",
          null,
          null,
          null,
          null,
          null,
          null,
          null,
          null,
          null
         ],
         "type": "scatter",
         "x": [
          "2016-06-20T00:00:00",
          "2016-06-21T00:00:00",
          "2017-03-12T00:00:00"
         ],
         "y": [
          8776.460000000001,
          16125,
          18543.75
         ]
        },
        {
         "mode": "markers",
         "name": "V100",
         "text": [
          null,
          null,
          null,
          null,
          null,
          null,
          null,
          null,
          null,
          null,
          null,
          null,
          null,
          null,
          null,
          "NVIDIA Tesla V100 DGXS 32 GB | DGX, 4 GPU, 128GB",
          "NVIDIA Tesla V100 DGXS 32 GB | DGX-1, 8 GPU, 256GB",
          "NVIDIA Tesla V100 DGXS 32 GB | DGX-2, 16 GPU, 512 GB",
          "NVIDIA Tesla V100 PCIe 16 GB | server-equivalent list price",
          "NVIDIA Tesla V100 SXM2 16 GB | server-equivalent list price",
          "NVIDIA Tesla V100 SXM2 32 GB | server-equivalent list price",
          "NVIDIA Tesla V100 SXM2 32 GB | server-equivalent list price",
          "NVIDIA V100 | Price at release (2017 Q3) for a DGX-1 with 8x V100 GPUs was $149,000. Dividing by 8, the price per GPU is $18,625 including interconnect hardware.",
          "NVIDIA V100 | Price at release (2017 Q3) for a DGXS with 4x V100 GPUs was $69,000. Dividing by 4, the price per GPU is $17250 including interconnect hardware."
         ],
         "type": "scatter",
         "x": [
          "2019-01-11T00:00:00",
          "2019-01-11T00:00:00",
          "2019-01-11T00:00:00",
          "2018-05-08T00:00:00",
          "2018-05-08T00:00:00",
          "2018-05-08T00:00:00",
          "2018-05-08T00:00:00",
          "2017-07-01T00:00:00",
          "2017-07-01T00:00:00"
         ],
         "y": [
          18457.5,
          19928.75,
          26995.63,
          18022.16,
          18022.16,
          19364.02,
          19364.02,
          18625,
          17250
         ]
        },
        {
         "mode": "markers",
         "name": "TPU v4",
         "text": [
          null,
          null,
          null,
          null,
          null,
          null,
          null,
          null,
          null,
          null,
          null,
          null,
          null,
          null,
          null,
          null,
          null,
          null,
          null,
          null,
          null,
          null,
          null,
          null
         ],
         "type": "scatter",
         "x": [],
         "y": []
        },
        {
         "mode": "markers",
         "name": "TPU v3",
         "text": [
          null,
          null,
          null,
          null,
          null,
          null,
          null,
          null,
          null,
          null,
          null,
          null,
          null,
          null,
          null,
          null,
          null,
          null,
          null,
          null,
          null,
          null,
          null,
          null
         ],
         "type": "scatter",
         "x": [],
         "y": []
        },
        {
         "mode": "markers",
         "name": "TPU v2",
         "text": [
          null,
          null,
          null,
          null,
          null,
          null,
          null,
          null,
          null,
          null,
          null,
          null,
          null,
          null,
          null,
          null,
          null,
          null,
          null,
          null,
          null,
          null,
          null,
          null
         ],
         "type": "scatter",
         "x": [],
         "y": []
        },
        {
         "mode": "markers",
         "name": "TPU v1",
         "text": [
          null,
          null,
          null,
          null,
          null,
          null,
          null,
          null,
          null,
          null,
          null,
          null,
          null,
          null,
          null,
          null,
          null,
          null,
          null,
          null,
          null,
          null,
          null,
          null
         ],
         "type": "scatter",
         "x": [],
         "y": []
        },
        {
         "mode": "markers",
         "name": "K80",
         "text": [
          null,
          null,
          null,
          null,
          null,
          null,
          null,
          null,
          null,
          null,
          null,
          "NVIDIA Tesla K80 | server-equivalent release price",
          null,
          null,
          null,
          null,
          null,
          null,
          null,
          null,
          null,
          null,
          null,
          null
         ],
         "type": "scatter",
         "x": [
          "2014-11-17T00:00:00"
         ],
         "y": [
          8200
         ]
        },
        {
         "mode": "markers",
         "name": "K40",
         "text": [
          null,
          null,
          null,
          null,
          null,
          null,
          null,
          null,
          null,
          null,
          "NVIDIA Tesla K40s | server-equivalent release price",
          null,
          null,
          null,
          null,
          null,
          null,
          null,
          null,
          null,
          null,
          null,
          null,
          null
         ],
         "type": "scatter",
         "x": [
          "2013-11-22T00:00:00"
         ],
         "y": [
          12626.359999999999
         ]
        },
        {
         "mode": "markers",
         "name": "Titan X",
         "text": [
          null,
          null,
          null,
          null,
          "NVIDIA GTX Titan X | server-equivalent release price",
          null,
          null,
          null,
          null,
          null,
          null,
          null,
          null,
          null,
          null,
          null,
          null,
          null,
          null,
          null,
          null,
          null,
          null,
          null
         ],
         "type": "scatter",
         "x": [
          "2015-03-17T00:00:00"
         ],
         "y": [
          1638.36
         ]
        }
       ],
       "layout": {
        "height": 600,
        "template": {
         "data": {
          "bar": [
           {
            "error_x": {
             "color": "#2a3f5f"
            },
            "error_y": {
             "color": "#2a3f5f"
            },
            "marker": {
             "line": {
              "color": "#E5ECF6",
              "width": 0.5
             },
             "pattern": {
              "fillmode": "overlay",
              "size": 10,
              "solidity": 0.2
             }
            },
            "type": "bar"
           }
          ],
          "barpolar": [
           {
            "marker": {
             "line": {
              "color": "#E5ECF6",
              "width": 0.5
             },
             "pattern": {
              "fillmode": "overlay",
              "size": 10,
              "solidity": 0.2
             }
            },
            "type": "barpolar"
           }
          ],
          "carpet": [
           {
            "aaxis": {
             "endlinecolor": "#2a3f5f",
             "gridcolor": "white",
             "linecolor": "white",
             "minorgridcolor": "white",
             "startlinecolor": "#2a3f5f"
            },
            "baxis": {
             "endlinecolor": "#2a3f5f",
             "gridcolor": "white",
             "linecolor": "white",
             "minorgridcolor": "white",
             "startlinecolor": "#2a3f5f"
            },
            "type": "carpet"
           }
          ],
          "choropleth": [
           {
            "colorbar": {
             "outlinewidth": 0,
             "ticks": ""
            },
            "type": "choropleth"
           }
          ],
          "contour": [
           {
            "colorbar": {
             "outlinewidth": 0,
             "ticks": ""
            },
            "colorscale": [
             [
              0,
              "#0d0887"
             ],
             [
              0.1111111111111111,
              "#46039f"
             ],
             [
              0.2222222222222222,
              "#7201a8"
             ],
             [
              0.3333333333333333,
              "#9c179e"
             ],
             [
              0.4444444444444444,
              "#bd3786"
             ],
             [
              0.5555555555555556,
              "#d8576b"
             ],
             [
              0.6666666666666666,
              "#ed7953"
             ],
             [
              0.7777777777777778,
              "#fb9f3a"
             ],
             [
              0.8888888888888888,
              "#fdca26"
             ],
             [
              1,
              "#f0f921"
             ]
            ],
            "type": "contour"
           }
          ],
          "contourcarpet": [
           {
            "colorbar": {
             "outlinewidth": 0,
             "ticks": ""
            },
            "type": "contourcarpet"
           }
          ],
          "heatmap": [
           {
            "colorbar": {
             "outlinewidth": 0,
             "ticks": ""
            },
            "colorscale": [
             [
              0,
              "#0d0887"
             ],
             [
              0.1111111111111111,
              "#46039f"
             ],
             [
              0.2222222222222222,
              "#7201a8"
             ],
             [
              0.3333333333333333,
              "#9c179e"
             ],
             [
              0.4444444444444444,
              "#bd3786"
             ],
             [
              0.5555555555555556,
              "#d8576b"
             ],
             [
              0.6666666666666666,
              "#ed7953"
             ],
             [
              0.7777777777777778,
              "#fb9f3a"
             ],
             [
              0.8888888888888888,
              "#fdca26"
             ],
             [
              1,
              "#f0f921"
             ]
            ],
            "type": "heatmap"
           }
          ],
          "heatmapgl": [
           {
            "colorbar": {
             "outlinewidth": 0,
             "ticks": ""
            },
            "colorscale": [
             [
              0,
              "#0d0887"
             ],
             [
              0.1111111111111111,
              "#46039f"
             ],
             [
              0.2222222222222222,
              "#7201a8"
             ],
             [
              0.3333333333333333,
              "#9c179e"
             ],
             [
              0.4444444444444444,
              "#bd3786"
             ],
             [
              0.5555555555555556,
              "#d8576b"
             ],
             [
              0.6666666666666666,
              "#ed7953"
             ],
             [
              0.7777777777777778,
              "#fb9f3a"
             ],
             [
              0.8888888888888888,
              "#fdca26"
             ],
             [
              1,
              "#f0f921"
             ]
            ],
            "type": "heatmapgl"
           }
          ],
          "histogram": [
           {
            "marker": {
             "pattern": {
              "fillmode": "overlay",
              "size": 10,
              "solidity": 0.2
             }
            },
            "type": "histogram"
           }
          ],
          "histogram2d": [
           {
            "colorbar": {
             "outlinewidth": 0,
             "ticks": ""
            },
            "colorscale": [
             [
              0,
              "#0d0887"
             ],
             [
              0.1111111111111111,
              "#46039f"
             ],
             [
              0.2222222222222222,
              "#7201a8"
             ],
             [
              0.3333333333333333,
              "#9c179e"
             ],
             [
              0.4444444444444444,
              "#bd3786"
             ],
             [
              0.5555555555555556,
              "#d8576b"
             ],
             [
              0.6666666666666666,
              "#ed7953"
             ],
             [
              0.7777777777777778,
              "#fb9f3a"
             ],
             [
              0.8888888888888888,
              "#fdca26"
             ],
             [
              1,
              "#f0f921"
             ]
            ],
            "type": "histogram2d"
           }
          ],
          "histogram2dcontour": [
           {
            "colorbar": {
             "outlinewidth": 0,
             "ticks": ""
            },
            "colorscale": [
             [
              0,
              "#0d0887"
             ],
             [
              0.1111111111111111,
              "#46039f"
             ],
             [
              0.2222222222222222,
              "#7201a8"
             ],
             [
              0.3333333333333333,
              "#9c179e"
             ],
             [
              0.4444444444444444,
              "#bd3786"
             ],
             [
              0.5555555555555556,
              "#d8576b"
             ],
             [
              0.6666666666666666,
              "#ed7953"
             ],
             [
              0.7777777777777778,
              "#fb9f3a"
             ],
             [
              0.8888888888888888,
              "#fdca26"
             ],
             [
              1,
              "#f0f921"
             ]
            ],
            "type": "histogram2dcontour"
           }
          ],
          "mesh3d": [
           {
            "colorbar": {
             "outlinewidth": 0,
             "ticks": ""
            },
            "type": "mesh3d"
           }
          ],
          "parcoords": [
           {
            "line": {
             "colorbar": {
              "outlinewidth": 0,
              "ticks": ""
             }
            },
            "type": "parcoords"
           }
          ],
          "pie": [
           {
            "automargin": true,
            "type": "pie"
           }
          ],
          "scatter": [
           {
            "fillpattern": {
             "fillmode": "overlay",
             "size": 10,
             "solidity": 0.2
            },
            "type": "scatter"
           }
          ],
          "scatter3d": [
           {
            "line": {
             "colorbar": {
              "outlinewidth": 0,
              "ticks": ""
             }
            },
            "marker": {
             "colorbar": {
              "outlinewidth": 0,
              "ticks": ""
             }
            },
            "type": "scatter3d"
           }
          ],
          "scattercarpet": [
           {
            "marker": {
             "colorbar": {
              "outlinewidth": 0,
              "ticks": ""
             }
            },
            "type": "scattercarpet"
           }
          ],
          "scattergeo": [
           {
            "marker": {
             "colorbar": {
              "outlinewidth": 0,
              "ticks": ""
             }
            },
            "type": "scattergeo"
           }
          ],
          "scattergl": [
           {
            "marker": {
             "colorbar": {
              "outlinewidth": 0,
              "ticks": ""
             }
            },
            "type": "scattergl"
           }
          ],
          "scattermapbox": [
           {
            "marker": {
             "colorbar": {
              "outlinewidth": 0,
              "ticks": ""
             }
            },
            "type": "scattermapbox"
           }
          ],
          "scatterpolar": [
           {
            "marker": {
             "colorbar": {
              "outlinewidth": 0,
              "ticks": ""
             }
            },
            "type": "scatterpolar"
           }
          ],
          "scatterpolargl": [
           {
            "marker": {
             "colorbar": {
              "outlinewidth": 0,
              "ticks": ""
             }
            },
            "type": "scatterpolargl"
           }
          ],
          "scatterternary": [
           {
            "marker": {
             "colorbar": {
              "outlinewidth": 0,
              "ticks": ""
             }
            },
            "type": "scatterternary"
           }
          ],
          "surface": [
           {
            "colorbar": {
             "outlinewidth": 0,
             "ticks": ""
            },
            "colorscale": [
             [
              0,
              "#0d0887"
             ],
             [
              0.1111111111111111,
              "#46039f"
             ],
             [
              0.2222222222222222,
              "#7201a8"
             ],
             [
              0.3333333333333333,
              "#9c179e"
             ],
             [
              0.4444444444444444,
              "#bd3786"
             ],
             [
              0.5555555555555556,
              "#d8576b"
             ],
             [
              0.6666666666666666,
              "#ed7953"
             ],
             [
              0.7777777777777778,
              "#fb9f3a"
             ],
             [
              0.8888888888888888,
              "#fdca26"
             ],
             [
              1,
              "#f0f921"
             ]
            ],
            "type": "surface"
           }
          ],
          "table": [
           {
            "cells": {
             "fill": {
              "color": "#EBF0F8"
             },
             "line": {
              "color": "white"
             }
            },
            "header": {
             "fill": {
              "color": "#C8D4E3"
             },
             "line": {
              "color": "white"
             }
            },
            "type": "table"
           }
          ]
         },
         "layout": {
          "annotationdefaults": {
           "arrowcolor": "#2a3f5f",
           "arrowhead": 0,
           "arrowwidth": 1
          },
          "autotypenumbers": "strict",
          "coloraxis": {
           "colorbar": {
            "outlinewidth": 0,
            "ticks": ""
           }
          },
          "colorscale": {
           "diverging": [
            [
             0,
             "#8e0152"
            ],
            [
             0.1,
             "#c51b7d"
            ],
            [
             0.2,
             "#de77ae"
            ],
            [
             0.3,
             "#f1b6da"
            ],
            [
             0.4,
             "#fde0ef"
            ],
            [
             0.5,
             "#f7f7f7"
            ],
            [
             0.6,
             "#e6f5d0"
            ],
            [
             0.7,
             "#b8e186"
            ],
            [
             0.8,
             "#7fbc41"
            ],
            [
             0.9,
             "#4d9221"
            ],
            [
             1,
             "#276419"
            ]
           ],
           "sequential": [
            [
             0,
             "#0d0887"
            ],
            [
             0.1111111111111111,
             "#46039f"
            ],
            [
             0.2222222222222222,
             "#7201a8"
            ],
            [
             0.3333333333333333,
             "#9c179e"
            ],
            [
             0.4444444444444444,
             "#bd3786"
            ],
            [
             0.5555555555555556,
             "#d8576b"
            ],
            [
             0.6666666666666666,
             "#ed7953"
            ],
            [
             0.7777777777777778,
             "#fb9f3a"
            ],
            [
             0.8888888888888888,
             "#fdca26"
            ],
            [
             1,
             "#f0f921"
            ]
           ],
           "sequentialminus": [
            [
             0,
             "#0d0887"
            ],
            [
             0.1111111111111111,
             "#46039f"
            ],
            [
             0.2222222222222222,
             "#7201a8"
            ],
            [
             0.3333333333333333,
             "#9c179e"
            ],
            [
             0.4444444444444444,
             "#bd3786"
            ],
            [
             0.5555555555555556,
             "#d8576b"
            ],
            [
             0.6666666666666666,
             "#ed7953"
            ],
            [
             0.7777777777777778,
             "#fb9f3a"
            ],
            [
             0.8888888888888888,
             "#fdca26"
            ],
            [
             1,
             "#f0f921"
            ]
           ]
          },
          "colorway": [
           "#636efa",
           "#EF553B",
           "#00cc96",
           "#ab63fa",
           "#FFA15A",
           "#19d3f3",
           "#FF6692",
           "#B6E880",
           "#FF97FF",
           "#FECB52"
          ],
          "font": {
           "color": "#2a3f5f"
          },
          "geo": {
           "bgcolor": "white",
           "lakecolor": "white",
           "landcolor": "#E5ECF6",
           "showlakes": true,
           "showland": true,
           "subunitcolor": "white"
          },
          "hoverlabel": {
           "align": "left"
          },
          "hovermode": "closest",
          "mapbox": {
           "style": "light"
          },
          "paper_bgcolor": "white",
          "plot_bgcolor": "#E5ECF6",
          "polar": {
           "angularaxis": {
            "gridcolor": "white",
            "linecolor": "white",
            "ticks": ""
           },
           "bgcolor": "#E5ECF6",
           "radialaxis": {
            "gridcolor": "white",
            "linecolor": "white",
            "ticks": ""
           }
          },
          "scene": {
           "xaxis": {
            "backgroundcolor": "#E5ECF6",
            "gridcolor": "white",
            "gridwidth": 2,
            "linecolor": "white",
            "showbackground": true,
            "ticks": "",
            "zerolinecolor": "white"
           },
           "yaxis": {
            "backgroundcolor": "#E5ECF6",
            "gridcolor": "white",
            "gridwidth": 2,
            "linecolor": "white",
            "showbackground": true,
            "ticks": "",
            "zerolinecolor": "white"
           },
           "zaxis": {
            "backgroundcolor": "#E5ECF6",
            "gridcolor": "white",
            "gridwidth": 2,
            "linecolor": "white",
            "showbackground": true,
            "ticks": "",
            "zerolinecolor": "white"
           }
          },
          "shapedefaults": {
           "line": {
            "color": "#2a3f5f"
           }
          },
          "ternary": {
           "aaxis": {
            "gridcolor": "white",
            "linecolor": "white",
            "ticks": ""
           },
           "baxis": {
            "gridcolor": "white",
            "linecolor": "white",
            "ticks": ""
           },
           "bgcolor": "#E5ECF6",
           "caxis": {
            "gridcolor": "white",
            "linecolor": "white",
            "ticks": ""
           }
          },
          "title": {
           "x": 0.05
          },
          "xaxis": {
           "automargin": true,
           "gridcolor": "white",
           "linecolor": "white",
           "ticks": "",
           "title": {
            "standoff": 15
           },
           "zerolinecolor": "white",
           "zerolinewidth": 2
          },
          "yaxis": {
           "automargin": true,
           "gridcolor": "white",
           "linecolor": "white",
           "ticks": "",
           "title": {
            "standoff": 15
           },
           "zerolinecolor": "white",
           "zerolinewidth": 2
          }
         }
        },
        "title": {
         "text": "Server-equivalent purchase price vs. performance"
        },
        "width": 800,
        "xaxis": {
         "title": {
          "text": "Price date"
         }
        },
        "yaxis": {
         "title": {
          "text": "Server-equivalent purchase price ($)"
         }
        }
       }
      }
     },
     "metadata": {},
     "output_type": "display_data"
    }
   ],
   "source": [
    "fig = go.Figure()\n",
    "for hardware_alias in hardware_aliases:\n",
    "    _hardware_df = no_nextplatform_df[no_nextplatform_df['Hardware model'].str.contains(hardware_alias)]\n",
    "    fig.add_trace(go.Scatter(\n",
    "        x=_hardware_df['Price date'],\n",
    "        y=_hardware_df[price_colname],\n",
    "        mode='markers',\n",
    "        name=hardware_alias,\n",
    "        text=no_nextplatform_df['Hardware model'] + ' | ' + _hardware_df['Notes'],\n",
    "    ))\n",
    "fig.update_layout(\n",
    "    title='Server-equivalent purchase price vs. performance',\n",
    "    xaxis_title='Price date',\n",
    "    yaxis_title='Server-equivalent purchase price ($)',\n",
    "    # yaxis_type='log',\n",
    "    width=800,\n",
    "    height=600,\n",
    ")\n",
    "fig.show()"
   ]
  },
  {
   "cell_type": "code",
   "execution_count": 12,
   "metadata": {},
   "outputs": [
    {
     "data": {
      "text/html": [
       "<div>\n",
       "<style scoped>\n",
       "    .dataframe tbody tr th:only-of-type {\n",
       "        vertical-align: middle;\n",
       "    }\n",
       "\n",
       "    .dataframe tbody tr th {\n",
       "        vertical-align: top;\n",
       "    }\n",
       "\n",
       "    .dataframe thead th {\n",
       "        text-align: right;\n",
       "    }\n",
       "</style>\n",
       "<table border=\"1\" class=\"dataframe\">\n",
       "  <thead>\n",
       "    <tr style=\"text-align: right;\">\n",
       "      <th></th>\n",
       "      <th>Price source</th>\n",
       "      <th>Price date</th>\n",
       "      <th>Hardware model</th>\n",
       "      <th>Manufacturer (from Hardware model)</th>\n",
       "      <th>Vendor</th>\n",
       "      <th>Location</th>\n",
       "      <th>Price per chip-hour (on-demand)</th>\n",
       "      <th>Price per chip-hour (1-year CUD)</th>\n",
       "      <th>Price per chip-hour (3-year CUD)</th>\n",
       "      <th>Price (hardware purchase)</th>\n",
       "      <th>Notes</th>\n",
       "    </tr>\n",
       "  </thead>\n",
       "  <tbody>\n",
       "    <tr>\n",
       "      <th>74</th>\n",
       "      <td>https://www.nextplatform.com/2022/05/09/how-mu...</td>\n",
       "      <td>2012-07-01</td>\n",
       "      <td>NVIDIA Tesla K40s</td>\n",
       "      <td>NVIDIA</td>\n",
       "      <td>NaN</td>\n",
       "      <td>NaN</td>\n",
       "      <td>NaN</td>\n",
       "      <td>NaN</td>\n",
       "      <td>NaN</td>\n",
       "      <td>5400.000000</td>\n",
       "      <td>Single-unit release price</td>\n",
       "    </tr>\n",
       "    <tr>\n",
       "      <th>81</th>\n",
       "      <td>https://www.anandtech.com/show/8729/nvidia-lau...</td>\n",
       "      <td>2014-11-17</td>\n",
       "      <td>NVIDIA Tesla K80</td>\n",
       "      <td>NVIDIA</td>\n",
       "      <td>NaN</td>\n",
       "      <td>NaN</td>\n",
       "      <td>NaN</td>\n",
       "      <td>NaN</td>\n",
       "      <td>NaN</td>\n",
       "      <td>5000.000000</td>\n",
       "      <td>Single-unit release price</td>\n",
       "    </tr>\n",
       "    <tr>\n",
       "      <th>57</th>\n",
       "      <td>https://www.techpowerup.com/gpu-specs/geforce-...</td>\n",
       "      <td>2015-03-17</td>\n",
       "      <td>NVIDIA GTX Titan X</td>\n",
       "      <td>NVIDIA</td>\n",
       "      <td>NaN</td>\n",
       "      <td>NaN</td>\n",
       "      <td>NaN</td>\n",
       "      <td>NaN</td>\n",
       "      <td>NaN</td>\n",
       "      <td>999.000000</td>\n",
       "      <td>Single-unit release price</td>\n",
       "    </tr>\n",
       "    <tr>\n",
       "      <th>97</th>\n",
       "      <td>https://www.techpowerup.com/gpu-specs/tesla-p1...</td>\n",
       "      <td>2016-06-20</td>\n",
       "      <td>NVIDIA Tesla P100 PCIe 16 GB</td>\n",
       "      <td>NVIDIA</td>\n",
       "      <td>NaN</td>\n",
       "      <td>NaN</td>\n",
       "      <td>NaN</td>\n",
       "      <td>NaN</td>\n",
       "      <td>NaN</td>\n",
       "      <td>5699.000000</td>\n",
       "      <td>Single-unit release price</td>\n",
       "    </tr>\n",
       "    <tr>\n",
       "      <th>104</th>\n",
       "      <td>https://www.nextplatform.com/2022/05/09/how-mu...</td>\n",
       "      <td>2016-07-01</td>\n",
       "      <td>NVIDIA Tesla P100 SXM2</td>\n",
       "      <td>NVIDIA</td>\n",
       "      <td>NaN</td>\n",
       "      <td>NaN</td>\n",
       "      <td>NaN</td>\n",
       "      <td>NaN</td>\n",
       "      <td>NaN</td>\n",
       "      <td>10500.000000</td>\n",
       "      <td>Single-unit list price</td>\n",
       "    </tr>\n",
       "    <tr>\n",
       "      <th>128</th>\n",
       "      <td>https://web.archive.org/web/20170513081017/htt...</td>\n",
       "      <td>2017-07-01</td>\n",
       "      <td>NVIDIA V100</td>\n",
       "      <td>NVIDIA</td>\n",
       "      <td>NaN</td>\n",
       "      <td>NaN</td>\n",
       "      <td>NaN</td>\n",
       "      <td>NaN</td>\n",
       "      <td>NaN</td>\n",
       "      <td>11020.710059</td>\n",
       "      <td>Price at release (2017 Q3) for a DGX-1 with 8x...</td>\n",
       "    </tr>\n",
       "    <tr>\n",
       "      <th>122</th>\n",
       "      <td>https://web.archive.org/web/20190118082125/htt...</td>\n",
       "      <td>2018-05-08</td>\n",
       "      <td>NVIDIA Tesla V100 SXM2 16 GB</td>\n",
       "      <td>NVIDIA</td>\n",
       "      <td>NaN</td>\n",
       "      <td>NaN</td>\n",
       "      <td>NaN</td>\n",
       "      <td>NaN</td>\n",
       "      <td>NaN</td>\n",
       "      <td>10664.000000</td>\n",
       "      <td>Single-unit list price</td>\n",
       "    </tr>\n",
       "    <tr>\n",
       "      <th>118</th>\n",
       "      <td>https://web.archive.org/web/20190118082125/htt...</td>\n",
       "      <td>2018-05-08</td>\n",
       "      <td>NVIDIA Tesla V100 PCIe 16 GB</td>\n",
       "      <td>NVIDIA</td>\n",
       "      <td>NaN</td>\n",
       "      <td>NaN</td>\n",
       "      <td>NaN</td>\n",
       "      <td>NaN</td>\n",
       "      <td>NaN</td>\n",
       "      <td>10664.000000</td>\n",
       "      <td>Single-unit list price</td>\n",
       "    </tr>\n",
       "    <tr>\n",
       "      <th>124</th>\n",
       "      <td>https://web.archive.org/web/20190118082125/htt...</td>\n",
       "      <td>2018-05-08</td>\n",
       "      <td>NVIDIA Tesla V100 SXM2 32 GB</td>\n",
       "      <td>NVIDIA</td>\n",
       "      <td>NaN</td>\n",
       "      <td>NaN</td>\n",
       "      <td>NaN</td>\n",
       "      <td>NaN</td>\n",
       "      <td>NaN</td>\n",
       "      <td>11458.000000</td>\n",
       "      <td>Single-unit list price</td>\n",
       "    </tr>\n",
       "    <tr>\n",
       "      <th>125</th>\n",
       "      <td>https://www.nextplatform.com/2022/05/09/how-mu...</td>\n",
       "      <td>2018-07-01</td>\n",
       "      <td>NVIDIA Tesla V100 SXM3 32 GB</td>\n",
       "      <td>NVIDIA</td>\n",
       "      <td>NaN</td>\n",
       "      <td>NaN</td>\n",
       "      <td>NaN</td>\n",
       "      <td>NaN</td>\n",
       "      <td>NaN</td>\n",
       "      <td>11500.000000</td>\n",
       "      <td>Single-unit list price</td>\n",
       "    </tr>\n",
       "    <tr>\n",
       "      <th>119</th>\n",
       "      <td>https://www.nextplatform.com/2022/05/09/how-mu...</td>\n",
       "      <td>2018-07-01</td>\n",
       "      <td>NVIDIA Tesla V100 PCIe 32 GB</td>\n",
       "      <td>NVIDIA</td>\n",
       "      <td>NaN</td>\n",
       "      <td>NaN</td>\n",
       "      <td>NaN</td>\n",
       "      <td>NaN</td>\n",
       "      <td>NaN</td>\n",
       "      <td>8500.000000</td>\n",
       "      <td>Single-unit list price</td>\n",
       "    </tr>\n",
       "    <tr>\n",
       "      <th>109</th>\n",
       "      <td>https://web.archive.org/web/20190111090822/htt...</td>\n",
       "      <td>2019-01-11</td>\n",
       "      <td>NVIDIA Tesla V100 DGXS 32 GB</td>\n",
       "      <td>NVIDIA</td>\n",
       "      <td>NaN</td>\n",
       "      <td>NaN</td>\n",
       "      <td>NaN</td>\n",
       "      <td>NaN</td>\n",
       "      <td>NaN</td>\n",
       "      <td>10921.597633</td>\n",
       "      <td>DGX, 4 GPU, 128GB</td>\n",
       "    </tr>\n",
       "    <tr>\n",
       "      <th>38</th>\n",
       "      <td>https://web.archive.org/web/20200521074015/htt...</td>\n",
       "      <td>2020-05-21</td>\n",
       "      <td>NVIDIA A100 SXM4 40 GB</td>\n",
       "      <td>NVIDIA</td>\n",
       "      <td>NaN</td>\n",
       "      <td>NaN</td>\n",
       "      <td>NaN</td>\n",
       "      <td>NaN</td>\n",
       "      <td>NaN</td>\n",
       "      <td>14984.939759</td>\n",
       "      <td>DGX A100, 8 GPU, 320GB. Release price.</td>\n",
       "    </tr>\n",
       "    <tr>\n",
       "      <th>25</th>\n",
       "      <td>https://www.nextplatform.com/2022/05/09/how-mu...</td>\n",
       "      <td>2020-07-01</td>\n",
       "      <td>NVIDIA A100 PCIe</td>\n",
       "      <td>NVIDIA</td>\n",
       "      <td>NaN</td>\n",
       "      <td>NaN</td>\n",
       "      <td>NaN</td>\n",
       "      <td>NaN</td>\n",
       "      <td>NaN</td>\n",
       "      <td>15000.000000</td>\n",
       "      <td>Single-unit list price</td>\n",
       "    </tr>\n",
       "    <tr>\n",
       "      <th>48</th>\n",
       "      <td>https://web.archive.org/web/20210630170623/htt...</td>\n",
       "      <td>2021-06-30</td>\n",
       "      <td>NVIDIA A100 SXM4 80 GB</td>\n",
       "      <td>NVIDIA</td>\n",
       "      <td>NaN</td>\n",
       "      <td>NaN</td>\n",
       "      <td>NaN</td>\n",
       "      <td>NaN</td>\n",
       "      <td>NaN</td>\n",
       "      <td>22590.361446</td>\n",
       "      <td>DGX A100, 8 GPU, 640GB</td>\n",
       "    </tr>\n",
       "    <tr>\n",
       "      <th>59</th>\n",
       "      <td>https://web.archive.org/web/20220929115124/htt...</td>\n",
       "      <td>2022-09-29</td>\n",
       "      <td>NVIDIA H100 SXM5</td>\n",
       "      <td>NVIDIA</td>\n",
       "      <td>NaN</td>\n",
       "      <td>NaN</td>\n",
       "      <td>NaN</td>\n",
       "      <td>NaN</td>\n",
       "      <td>NaN</td>\n",
       "      <td>27127.975610</td>\n",
       "      <td>DGX, 8 GPU, 640GB. Convert Euro to USD: https:...</td>\n",
       "    </tr>\n",
       "  </tbody>\n",
       "</table>\n",
       "</div>"
      ],
      "text/plain": [
       "                                          Price source Price date  \\\n",
       "74   https://www.nextplatform.com/2022/05/09/how-mu... 2012-07-01   \n",
       "81   https://www.anandtech.com/show/8729/nvidia-lau... 2014-11-17   \n",
       "57   https://www.techpowerup.com/gpu-specs/geforce-... 2015-03-17   \n",
       "97   https://www.techpowerup.com/gpu-specs/tesla-p1... 2016-06-20   \n",
       "104  https://www.nextplatform.com/2022/05/09/how-mu... 2016-07-01   \n",
       "128  https://web.archive.org/web/20170513081017/htt... 2017-07-01   \n",
       "122  https://web.archive.org/web/20190118082125/htt... 2018-05-08   \n",
       "118  https://web.archive.org/web/20190118082125/htt... 2018-05-08   \n",
       "124  https://web.archive.org/web/20190118082125/htt... 2018-05-08   \n",
       "125  https://www.nextplatform.com/2022/05/09/how-mu... 2018-07-01   \n",
       "119  https://www.nextplatform.com/2022/05/09/how-mu... 2018-07-01   \n",
       "109  https://web.archive.org/web/20190111090822/htt... 2019-01-11   \n",
       "38   https://web.archive.org/web/20200521074015/htt... 2020-05-21   \n",
       "25   https://www.nextplatform.com/2022/05/09/how-mu... 2020-07-01   \n",
       "48   https://web.archive.org/web/20210630170623/htt... 2021-06-30   \n",
       "59   https://web.archive.org/web/20220929115124/htt... 2022-09-29   \n",
       "\n",
       "                   Hardware model Manufacturer (from Hardware model) Vendor  \\\n",
       "74              NVIDIA Tesla K40s                             NVIDIA    NaN   \n",
       "81               NVIDIA Tesla K80                             NVIDIA    NaN   \n",
       "57             NVIDIA GTX Titan X                             NVIDIA    NaN   \n",
       "97   NVIDIA Tesla P100 PCIe 16 GB                             NVIDIA    NaN   \n",
       "104        NVIDIA Tesla P100 SXM2                             NVIDIA    NaN   \n",
       "128                   NVIDIA V100                             NVIDIA    NaN   \n",
       "122  NVIDIA Tesla V100 SXM2 16 GB                             NVIDIA    NaN   \n",
       "118  NVIDIA Tesla V100 PCIe 16 GB                             NVIDIA    NaN   \n",
       "124  NVIDIA Tesla V100 SXM2 32 GB                             NVIDIA    NaN   \n",
       "125  NVIDIA Tesla V100 SXM3 32 GB                             NVIDIA    NaN   \n",
       "119  NVIDIA Tesla V100 PCIe 32 GB                             NVIDIA    NaN   \n",
       "109  NVIDIA Tesla V100 DGXS 32 GB                             NVIDIA    NaN   \n",
       "38         NVIDIA A100 SXM4 40 GB                             NVIDIA    NaN   \n",
       "25               NVIDIA A100 PCIe                             NVIDIA    NaN   \n",
       "48         NVIDIA A100 SXM4 80 GB                             NVIDIA    NaN   \n",
       "59               NVIDIA H100 SXM5                             NVIDIA    NaN   \n",
       "\n",
       "    Location Price per chip-hour (on-demand) Price per chip-hour (1-year CUD)  \\\n",
       "74       NaN                             NaN                              NaN   \n",
       "81       NaN                             NaN                              NaN   \n",
       "57       NaN                             NaN                              NaN   \n",
       "97       NaN                             NaN                              NaN   \n",
       "104      NaN                             NaN                              NaN   \n",
       "128      NaN                             NaN                              NaN   \n",
       "122      NaN                             NaN                              NaN   \n",
       "118      NaN                             NaN                              NaN   \n",
       "124      NaN                             NaN                              NaN   \n",
       "125      NaN                             NaN                              NaN   \n",
       "119      NaN                             NaN                              NaN   \n",
       "109      NaN                             NaN                              NaN   \n",
       "38       NaN                             NaN                              NaN   \n",
       "25       NaN                             NaN                              NaN   \n",
       "48       NaN                             NaN                              NaN   \n",
       "59       NaN                             NaN                              NaN   \n",
       "\n",
       "    Price per chip-hour (3-year CUD)  Price (hardware purchase)  \\\n",
       "74                               NaN                5400.000000   \n",
       "81                               NaN                5000.000000   \n",
       "57                               NaN                 999.000000   \n",
       "97                               NaN                5699.000000   \n",
       "104                              NaN               10500.000000   \n",
       "128                              NaN               11020.710059   \n",
       "122                              NaN               10664.000000   \n",
       "118                              NaN               10664.000000   \n",
       "124                              NaN               11458.000000   \n",
       "125                              NaN               11500.000000   \n",
       "119                              NaN                8500.000000   \n",
       "109                              NaN               10921.597633   \n",
       "38                               NaN               14984.939759   \n",
       "25                               NaN               15000.000000   \n",
       "48                               NaN               22590.361446   \n",
       "59                               NaN               27127.975610   \n",
       "\n",
       "                                                 Notes  \n",
       "74                           Single-unit release price  \n",
       "81                           Single-unit release price  \n",
       "57                           Single-unit release price  \n",
       "97                           Single-unit release price  \n",
       "104                             Single-unit list price  \n",
       "128  Price at release (2017 Q3) for a DGX-1 with 8x...  \n",
       "122                             Single-unit list price  \n",
       "118                             Single-unit list price  \n",
       "124                             Single-unit list price  \n",
       "125                             Single-unit list price  \n",
       "119                             Single-unit list price  \n",
       "109                                  DGX, 4 GPU, 128GB  \n",
       "38              DGX A100, 8 GPU, 320GB. Release price.  \n",
       "25                              Single-unit list price  \n",
       "48                              DGX A100, 8 GPU, 640GB  \n",
       "59   DGX, 8 GPU, 640GB. Convert Euro to USD: https:...  "
      ]
     },
     "execution_count": 12,
     "metadata": {},
     "output_type": "execute_result"
    }
   ],
   "source": [
    "release_price_df = pd.DataFrame(columns=purchase_price_df.columns)\n",
    "release_price_set = set()\n",
    "for i, row in purchase_price_df.sort_values(by='Price date').iterrows():\n",
    "    hardware_model = row['Hardware model']\n",
    "    if all(alias not in hardware_model for alias in hardware_aliases):\n",
    "        continue\n",
    "    if hardware_model in release_price_set:\n",
    "        continue\n",
    "    else:\n",
    "        release_price_set.add(hardware_model)\n",
    "        if 'single-unit' not in row['Notes'].lower():\n",
    "            row[price_colname] /= get_server_cost_overhead(row['Hardware model'])\n",
    "        release_price_df.loc[i] = row\n",
    "release_price_df[price_colname] = release_price_df[price_colname].astype(float)\n",
    "release_price_df\n",
    "\n",
    "# hardware_aliases = ['A100', 'H100', 'P100', 'V100', 'K80', 'K40']\n",
    "# release_price_df = pd.DataFrame(columns=purchase_price_df.columns)\n",
    "# release_price_set = set()\n",
    "# for i, row in purchase_price_df.sort_values(by='Price date').iterrows():\n",
    "#     this_hardware_alias = None\n",
    "#     for hardware_alias in hardware_aliases:\n",
    "#         if hardware_alias in row['Hardware model']:\n",
    "#             this_hardware_alias = hardware_alias\n",
    "#     if this_hardware_alias is None or this_hardware_alias in release_price_set:\n",
    "#         continue\n",
    "#     else:\n",
    "#         release_price_set.add(this_hardware_alias)\n",
    "#         if 'single-unit' not in row['Notes'].lower():\n",
    "#             row[price_colname] /= get_server_cost_overhead(row['Hardware model'])\n",
    "#         release_price_df.loc[i] = row\n",
    "# release_price_df"
   ]
  },
  {
   "cell_type": "code",
   "execution_count": 13,
   "metadata": {},
   "outputs": [
    {
     "name": "stderr",
     "output_type": "stream",
     "text": [
      "/Users/bencottier/miniconda3/envs/epoch/lib/python3.11/site-packages/scipy/stats/_stats_py.py:1806: UserWarning:\n",
      "\n",
      "kurtosistest only valid for n>=20 ... continuing anyway, n=16\n",
      "\n"
     ]
    },
    {
     "data": {
      "text/html": [
       "<table class=\"simpletable\">\n",
       "<caption>OLS Regression Results</caption>\n",
       "<tr>\n",
       "  <th>Dep. Variable:</th>            <td>y</td>        <th>  R-squared:         </th> <td>   0.592</td>\n",
       "</tr>\n",
       "<tr>\n",
       "  <th>Model:</th>                   <td>OLS</td>       <th>  Adj. R-squared:    </th> <td>   0.562</td>\n",
       "</tr>\n",
       "<tr>\n",
       "  <th>Method:</th>             <td>Least Squares</td>  <th>  F-statistic:       </th> <td>   20.28</td>\n",
       "</tr>\n",
       "<tr>\n",
       "  <th>Date:</th>             <td>Thu, 06 Jun 2024</td> <th>  Prob (F-statistic):</th> <td>0.000496</td>\n",
       "</tr>\n",
       "<tr>\n",
       "  <th>Time:</th>                 <td>17:04:51</td>     <th>  Log-Likelihood:    </th> <td>  2.8745</td>\n",
       "</tr>\n",
       "<tr>\n",
       "  <th>No. Observations:</th>      <td>    16</td>      <th>  AIC:               </th> <td>  -1.749</td>\n",
       "</tr>\n",
       "<tr>\n",
       "  <th>Df Residuals:</th>          <td>    14</td>      <th>  BIC:               </th> <td> -0.2039</td>\n",
       "</tr>\n",
       "<tr>\n",
       "  <th>Df Model:</th>              <td>     1</td>      <th>                     </th>     <td> </td>   \n",
       "</tr>\n",
       "<tr>\n",
       "  <th>Covariance Type:</th>      <td>nonrobust</td>    <th>                     </th>     <td> </td>   \n",
       "</tr>\n",
       "</table>\n",
       "<table class=\"simpletable\">\n",
       "<tr>\n",
       "    <td></td>       <th>coef</th>     <th>std err</th>      <th>t</th>      <th>P>|t|</th>  <th>[0.025</th>    <th>0.975]</th>  \n",
       "</tr>\n",
       "<tr>\n",
       "  <th>const</th> <td> -191.3604</td> <td>   43.374</td> <td>   -4.412</td> <td> 0.001</td> <td> -284.388</td> <td>  -98.332</td>\n",
       "</tr>\n",
       "<tr>\n",
       "  <th>x1</th>    <td>    0.0968</td> <td>    0.021</td> <td>    4.503</td> <td> 0.000</td> <td>    0.051</td> <td>    0.143</td>\n",
       "</tr>\n",
       "</table>\n",
       "<table class=\"simpletable\">\n",
       "<tr>\n",
       "  <th>Omnibus:</th>       <td>25.779</td> <th>  Durbin-Watson:     </th> <td>   1.715</td>\n",
       "</tr>\n",
       "<tr>\n",
       "  <th>Prob(Omnibus):</th> <td> 0.000</td> <th>  Jarque-Bera (JB):  </th> <td>  37.681</td>\n",
       "</tr>\n",
       "<tr>\n",
       "  <th>Skew:</th>          <td>-2.238</td> <th>  Prob(JB):          </th> <td>6.57e-09</td>\n",
       "</tr>\n",
       "<tr>\n",
       "  <th>Kurtosis:</th>      <td> 9.041</td> <th>  Cond. No.          </th> <td>1.62e+06</td>\n",
       "</tr>\n",
       "</table><br/><br/>Notes:<br/>[1] Standard Errors assume that the covariance matrix of the errors is correctly specified.<br/>[2] The condition number is large, 1.62e+06. This might indicate that there are<br/>strong multicollinearity or other numerical problems."
      ],
      "text/latex": [
       "\\begin{center}\n",
       "\\begin{tabular}{lclc}\n",
       "\\toprule\n",
       "\\textbf{Dep. Variable:}    &        y         & \\textbf{  R-squared:         } &     0.592   \\\\\n",
       "\\textbf{Model:}            &       OLS        & \\textbf{  Adj. R-squared:    } &     0.562   \\\\\n",
       "\\textbf{Method:}           &  Least Squares   & \\textbf{  F-statistic:       } &     20.28   \\\\\n",
       "\\textbf{Date:}             & Thu, 06 Jun 2024 & \\textbf{  Prob (F-statistic):} &  0.000496   \\\\\n",
       "\\textbf{Time:}             &     17:04:51     & \\textbf{  Log-Likelihood:    } &    2.8745   \\\\\n",
       "\\textbf{No. Observations:} &          16      & \\textbf{  AIC:               } &    -1.749   \\\\\n",
       "\\textbf{Df Residuals:}     &          14      & \\textbf{  BIC:               } &   -0.2039   \\\\\n",
       "\\textbf{Df Model:}         &           1      & \\textbf{                     } &             \\\\\n",
       "\\textbf{Covariance Type:}  &    nonrobust     & \\textbf{                     } &             \\\\\n",
       "\\bottomrule\n",
       "\\end{tabular}\n",
       "\\begin{tabular}{lcccccc}\n",
       "               & \\textbf{coef} & \\textbf{std err} & \\textbf{t} & \\textbf{P$> |$t$|$} & \\textbf{[0.025} & \\textbf{0.975]}  \\\\\n",
       "\\midrule\n",
       "\\textbf{const} &    -191.3604  &       43.374     &    -4.412  &         0.001        &     -284.388    &      -98.332     \\\\\n",
       "\\textbf{x1}    &       0.0968  &        0.021     &     4.503  &         0.000        &        0.051    &        0.143     \\\\\n",
       "\\bottomrule\n",
       "\\end{tabular}\n",
       "\\begin{tabular}{lclc}\n",
       "\\textbf{Omnibus:}       & 25.779 & \\textbf{  Durbin-Watson:     } &    1.715  \\\\\n",
       "\\textbf{Prob(Omnibus):} &  0.000 & \\textbf{  Jarque-Bera (JB):  } &   37.681  \\\\\n",
       "\\textbf{Skew:}          & -2.238 & \\textbf{  Prob(JB):          } & 6.57e-09  \\\\\n",
       "\\textbf{Kurtosis:}      &  9.041 & \\textbf{  Cond. No.          } & 1.62e+06  \\\\\n",
       "\\bottomrule\n",
       "\\end{tabular}\n",
       "%\\caption{OLS Regression Results}\n",
       "\\end{center}\n",
       "\n",
       "Notes: \\newline\n",
       " [1] Standard Errors assume that the covariance matrix of the errors is correctly specified. \\newline\n",
       " [2] The condition number is large, 1.62e+06. This might indicate that there are \\newline\n",
       " strong multicollinearity or other numerical problems."
      ],
      "text/plain": [
       "<class 'statsmodels.iolib.summary.Summary'>\n",
       "\"\"\"\n",
       "                            OLS Regression Results                            \n",
       "==============================================================================\n",
       "Dep. Variable:                      y   R-squared:                       0.592\n",
       "Model:                            OLS   Adj. R-squared:                  0.562\n",
       "Method:                 Least Squares   F-statistic:                     20.28\n",
       "Date:                Thu, 06 Jun 2024   Prob (F-statistic):           0.000496\n",
       "Time:                        17:04:51   Log-Likelihood:                 2.8745\n",
       "No. Observations:                  16   AIC:                            -1.749\n",
       "Df Residuals:                      14   BIC:                           -0.2039\n",
       "Df Model:                           1                                         \n",
       "Covariance Type:            nonrobust                                         \n",
       "==============================================================================\n",
       "                 coef    std err          t      P>|t|      [0.025      0.975]\n",
       "------------------------------------------------------------------------------\n",
       "const       -191.3604     43.374     -4.412      0.001    -284.388     -98.332\n",
       "x1             0.0968      0.021      4.503      0.000       0.051       0.143\n",
       "==============================================================================\n",
       "Omnibus:                       25.779   Durbin-Watson:                   1.715\n",
       "Prob(Omnibus):                  0.000   Jarque-Bera (JB):               37.681\n",
       "Skew:                          -2.238   Prob(JB):                     6.57e-09\n",
       "Kurtosis:                       9.041   Cond. No.                     1.62e+06\n",
       "==============================================================================\n",
       "\n",
       "Notes:\n",
       "[1] Standard Errors assume that the covariance matrix of the errors is correctly specified.\n",
       "[2] The condition number is large, 1.62e+06. This might indicate that there are\n",
       "strong multicollinearity or other numerical problems.\n",
       "\"\"\""
      ]
     },
     "execution_count": 13,
     "metadata": {},
     "output_type": "execute_result"
    }
   ],
   "source": [
    "release_price_df['Price date (float)'] = datetime_to_float_year(release_price_df['Price date'])\n",
    "log_release_price_reg_results = fit_ols_regression(release_price_df, ['Price date (float)'], 'Price (hardware purchase)', logy=True)\n",
    "log_release_price_reg_results.summary()"
   ]
  },
  {
   "cell_type": "code",
   "execution_count": 14,
   "metadata": {},
   "outputs": [
    {
     "name": "stderr",
     "output_type": "stream",
     "text": [
      "/Users/bencottier/miniconda3/envs/epoch/lib/python3.11/site-packages/scipy/stats/_stats_py.py:1806: UserWarning:\n",
      "\n",
      "kurtosistest only valid for n>=20 ... continuing anyway, n=16\n",
      "\n"
     ]
    },
    {
     "data": {
      "text/html": [
       "<table class=\"simpletable\">\n",
       "<caption>OLS Regression Results</caption>\n",
       "<tr>\n",
       "  <th>Dep. Variable:</th>            <td>y</td>        <th>  R-squared:         </th> <td>   0.772</td>\n",
       "</tr>\n",
       "<tr>\n",
       "  <th>Model:</th>                   <td>OLS</td>       <th>  Adj. R-squared:    </th> <td>   0.756</td>\n",
       "</tr>\n",
       "<tr>\n",
       "  <th>Method:</th>             <td>Least Squares</td>  <th>  F-statistic:       </th> <td>   47.39</td>\n",
       "</tr>\n",
       "<tr>\n",
       "  <th>Date:</th>             <td>Thu, 06 Jun 2024</td> <th>  Prob (F-statistic):</th> <td>7.51e-06</td>\n",
       "</tr>\n",
       "<tr>\n",
       "  <th>Time:</th>                 <td>17:04:51</td>     <th>  Log-Likelihood:    </th> <td> -150.74</td>\n",
       "</tr>\n",
       "<tr>\n",
       "  <th>No. Observations:</th>      <td>    16</td>      <th>  AIC:               </th> <td>   305.5</td>\n",
       "</tr>\n",
       "<tr>\n",
       "  <th>Df Residuals:</th>          <td>    14</td>      <th>  BIC:               </th> <td>   307.0</td>\n",
       "</tr>\n",
       "<tr>\n",
       "  <th>Df Model:</th>              <td>     1</td>      <th>                     </th>     <td> </td>   \n",
       "</tr>\n",
       "<tr>\n",
       "  <th>Covariance Type:</th>      <td>nonrobust</td>    <th>                     </th>     <td> </td>   \n",
       "</tr>\n",
       "</table>\n",
       "<table class=\"simpletable\">\n",
       "<tr>\n",
       "    <td></td>       <th>coef</th>     <th>std err</th>      <th>t</th>      <th>P>|t|</th>  <th>[0.025</th>    <th>0.975]</th>  \n",
       "</tr>\n",
       "<tr>\n",
       "  <th>const</th> <td>-4.403e+06</td> <td> 6.41e+05</td> <td>   -6.866</td> <td> 0.000</td> <td>-5.78e+06</td> <td>-3.03e+06</td>\n",
       "</tr>\n",
       "<tr>\n",
       "  <th>x1</th>    <td> 2187.2154</td> <td>  317.721</td> <td>    6.884</td> <td> 0.000</td> <td> 1505.773</td> <td> 2868.658</td>\n",
       "</tr>\n",
       "</table>\n",
       "<table class=\"simpletable\">\n",
       "<tr>\n",
       "  <th>Omnibus:</th>       <td> 2.237</td> <th>  Durbin-Watson:     </th> <td>   0.929</td>\n",
       "</tr>\n",
       "<tr>\n",
       "  <th>Prob(Omnibus):</th> <td> 0.327</td> <th>  Jarque-Bera (JB):  </th> <td>   1.627</td>\n",
       "</tr>\n",
       "<tr>\n",
       "  <th>Skew:</th>          <td> 0.749</td> <th>  Prob(JB):          </th> <td>   0.443</td>\n",
       "</tr>\n",
       "<tr>\n",
       "  <th>Kurtosis:</th>      <td> 2.557</td> <th>  Cond. No.          </th> <td>1.62e+06</td>\n",
       "</tr>\n",
       "</table><br/><br/>Notes:<br/>[1] Standard Errors assume that the covariance matrix of the errors is correctly specified.<br/>[2] The condition number is large, 1.62e+06. This might indicate that there are<br/>strong multicollinearity or other numerical problems."
      ],
      "text/latex": [
       "\\begin{center}\n",
       "\\begin{tabular}{lclc}\n",
       "\\toprule\n",
       "\\textbf{Dep. Variable:}    &        y         & \\textbf{  R-squared:         } &     0.772   \\\\\n",
       "\\textbf{Model:}            &       OLS        & \\textbf{  Adj. R-squared:    } &     0.756   \\\\\n",
       "\\textbf{Method:}           &  Least Squares   & \\textbf{  F-statistic:       } &     47.39   \\\\\n",
       "\\textbf{Date:}             & Thu, 06 Jun 2024 & \\textbf{  Prob (F-statistic):} &  7.51e-06   \\\\\n",
       "\\textbf{Time:}             &     17:04:51     & \\textbf{  Log-Likelihood:    } &   -150.74   \\\\\n",
       "\\textbf{No. Observations:} &          16      & \\textbf{  AIC:               } &     305.5   \\\\\n",
       "\\textbf{Df Residuals:}     &          14      & \\textbf{  BIC:               } &     307.0   \\\\\n",
       "\\textbf{Df Model:}         &           1      & \\textbf{                     } &             \\\\\n",
       "\\textbf{Covariance Type:}  &    nonrobust     & \\textbf{                     } &             \\\\\n",
       "\\bottomrule\n",
       "\\end{tabular}\n",
       "\\begin{tabular}{lcccccc}\n",
       "               & \\textbf{coef} & \\textbf{std err} & \\textbf{t} & \\textbf{P$> |$t$|$} & \\textbf{[0.025} & \\textbf{0.975]}  \\\\\n",
       "\\midrule\n",
       "\\textbf{const} &   -4.403e+06  &     6.41e+05     &    -6.866  &         0.000        &    -5.78e+06    &    -3.03e+06     \\\\\n",
       "\\textbf{x1}    &    2187.2154  &      317.721     &     6.884  &         0.000        &     1505.773    &     2868.658     \\\\\n",
       "\\bottomrule\n",
       "\\end{tabular}\n",
       "\\begin{tabular}{lclc}\n",
       "\\textbf{Omnibus:}       &  2.237 & \\textbf{  Durbin-Watson:     } &    0.929  \\\\\n",
       "\\textbf{Prob(Omnibus):} &  0.327 & \\textbf{  Jarque-Bera (JB):  } &    1.627  \\\\\n",
       "\\textbf{Skew:}          &  0.749 & \\textbf{  Prob(JB):          } &    0.443  \\\\\n",
       "\\textbf{Kurtosis:}      &  2.557 & \\textbf{  Cond. No.          } & 1.62e+06  \\\\\n",
       "\\bottomrule\n",
       "\\end{tabular}\n",
       "%\\caption{OLS Regression Results}\n",
       "\\end{center}\n",
       "\n",
       "Notes: \\newline\n",
       " [1] Standard Errors assume that the covariance matrix of the errors is correctly specified. \\newline\n",
       " [2] The condition number is large, 1.62e+06. This might indicate that there are \\newline\n",
       " strong multicollinearity or other numerical problems."
      ],
      "text/plain": [
       "<class 'statsmodels.iolib.summary.Summary'>\n",
       "\"\"\"\n",
       "                            OLS Regression Results                            \n",
       "==============================================================================\n",
       "Dep. Variable:                      y   R-squared:                       0.772\n",
       "Model:                            OLS   Adj. R-squared:                  0.756\n",
       "Method:                 Least Squares   F-statistic:                     47.39\n",
       "Date:                Thu, 06 Jun 2024   Prob (F-statistic):           7.51e-06\n",
       "Time:                        17:04:51   Log-Likelihood:                -150.74\n",
       "No. Observations:                  16   AIC:                             305.5\n",
       "Df Residuals:                      14   BIC:                             307.0\n",
       "Df Model:                           1                                         \n",
       "Covariance Type:            nonrobust                                         \n",
       "==============================================================================\n",
       "                 coef    std err          t      P>|t|      [0.025      0.975]\n",
       "------------------------------------------------------------------------------\n",
       "const      -4.403e+06   6.41e+05     -6.866      0.000   -5.78e+06   -3.03e+06\n",
       "x1          2187.2154    317.721      6.884      0.000    1505.773    2868.658\n",
       "==============================================================================\n",
       "Omnibus:                        2.237   Durbin-Watson:                   0.929\n",
       "Prob(Omnibus):                  0.327   Jarque-Bera (JB):                1.627\n",
       "Skew:                           0.749   Prob(JB):                        0.443\n",
       "Kurtosis:                       2.557   Cond. No.                     1.62e+06\n",
       "==============================================================================\n",
       "\n",
       "Notes:\n",
       "[1] Standard Errors assume that the covariance matrix of the errors is correctly specified.\n",
       "[2] The condition number is large, 1.62e+06. This might indicate that there are\n",
       "strong multicollinearity or other numerical problems.\n",
       "\"\"\""
      ]
     },
     "execution_count": 14,
     "metadata": {},
     "output_type": "execute_result"
    }
   ],
   "source": [
    "release_price_df['Price date (float)'] = datetime_to_float_year(release_price_df['Price date'])\n",
    "linear_release_price_reg_results = fit_ols_regression(release_price_df, ['Price date (float)'], 'Price (hardware purchase)', logy=False)\n",
    "linear_release_price_reg_results.summary()"
   ]
  },
  {
   "cell_type": "markdown",
   "metadata": {},
   "source": [
    "Exponential model has lower BIC so we'll go with that."
   ]
  },
  {
   "cell_type": "code",
   "execution_count": 15,
   "metadata": {},
   "outputs": [],
   "source": [
    "datacenter_gpu_price_reg_results = log_release_price_reg_results"
   ]
  },
  {
   "cell_type": "code",
   "execution_count": 16,
   "metadata": {},
   "outputs": [
    {
     "data": {
      "application/vnd.plotly.v1+json": {
       "config": {
        "plotlyServerURL": "https://plot.ly"
       },
       "data": [
        {
         "mode": "markers",
         "name": "A100",
         "text": [
          "NVIDIA A100 PCIe | Single-unit list price",
          "NVIDIA A100 SXM4 40 GB | DGX A100, 8 GPU, 320GB. Release price.",
          "NVIDIA A100 SXM4 80 GB | DGX A100, 8 GPU, 640GB",
          null,
          null,
          null,
          null,
          null,
          null,
          null,
          null,
          null,
          null,
          null,
          null,
          null
         ],
         "type": "scatter",
         "x": [
          "2020-05-21T00:00:00",
          "2020-07-01T00:00:00",
          "2021-06-30T00:00:00"
         ],
         "y": [
          14984.939759036146,
          15000,
          22590.361445783135
         ]
        },
        {
         "mode": "markers",
         "name": "H100",
         "text": [
          null,
          null,
          null,
          null,
          "NVIDIA H100 SXM5 | DGX, 8 GPU, 640GB. Convert Euro to USD: https://www.oanda.com/currency-converter/en/?from=EUR&to=USD&amount=https://www.oanda.com/currency-converter/en/?from=EUR&to=USD&amount=369855.51",
          null,
          null,
          null,
          null,
          null,
          null,
          null,
          null,
          null,
          null,
          null
         ],
         "type": "scatter",
         "x": [
          "2022-09-29T00:00:00"
         ],
         "y": [
          27127.975609756097
         ]
        },
        {
         "mode": "markers",
         "name": "P100",
         "text": [
          null,
          null,
          null,
          null,
          null,
          null,
          null,
          "NVIDIA Tesla P100 PCIe 16 GB | Single-unit release price",
          "NVIDIA Tesla P100 SXM2 | Single-unit list price",
          null,
          null,
          null,
          null,
          null,
          null,
          null
         ],
         "type": "scatter",
         "x": [
          "2016-06-20T00:00:00",
          "2016-07-01T00:00:00"
         ],
         "y": [
          5699,
          10500
         ]
        },
        {
         "mode": "markers",
         "name": "V100",
         "text": [
          null,
          null,
          null,
          null,
          null,
          null,
          null,
          null,
          null,
          "NVIDIA Tesla V100 DGXS 32 GB | DGX, 4 GPU, 128GB",
          "NVIDIA Tesla V100 PCIe 16 GB | Single-unit list price",
          "NVIDIA Tesla V100 PCIe 32 GB | Single-unit list price",
          "NVIDIA Tesla V100 SXM2 16 GB | Single-unit list price",
          "NVIDIA Tesla V100 SXM2 32 GB | Single-unit list price",
          "NVIDIA Tesla V100 SXM3 32 GB | Single-unit list price",
          "NVIDIA V100 | Price at release (2017 Q3) for a DGX-1 with 8x V100 GPUs was $149,000. Dividing by 8, the price per GPU is $18,625 including interconnect hardware."
         ],
         "type": "scatter",
         "x": [
          "2017-07-01T00:00:00",
          "2018-05-08T00:00:00",
          "2018-05-08T00:00:00",
          "2018-05-08T00:00:00",
          "2018-07-01T00:00:00",
          "2018-07-01T00:00:00",
          "2019-01-11T00:00:00"
         ],
         "y": [
          11020.710059171597,
          10664,
          10664,
          11458,
          11500,
          8500,
          10921.597633136094
         ]
        },
        {
         "mode": "markers",
         "name": "TPU v4",
         "text": [
          null,
          null,
          null,
          null,
          null,
          null,
          null,
          null,
          null,
          null,
          null,
          null,
          null,
          null,
          null,
          null
         ],
         "type": "scatter",
         "x": [],
         "y": []
        },
        {
         "mode": "markers",
         "name": "TPU v3",
         "text": [
          null,
          null,
          null,
          null,
          null,
          null,
          null,
          null,
          null,
          null,
          null,
          null,
          null,
          null,
          null,
          null
         ],
         "type": "scatter",
         "x": [],
         "y": []
        },
        {
         "mode": "markers",
         "name": "TPU v2",
         "text": [
          null,
          null,
          null,
          null,
          null,
          null,
          null,
          null,
          null,
          null,
          null,
          null,
          null,
          null,
          null,
          null
         ],
         "type": "scatter",
         "x": [],
         "y": []
        },
        {
         "mode": "markers",
         "name": "TPU v1",
         "text": [
          null,
          null,
          null,
          null,
          null,
          null,
          null,
          null,
          null,
          null,
          null,
          null,
          null,
          null,
          null,
          null
         ],
         "type": "scatter",
         "x": [],
         "y": []
        },
        {
         "mode": "markers",
         "name": "K80",
         "text": [
          null,
          null,
          null,
          null,
          null,
          null,
          "NVIDIA Tesla K80 | Single-unit release price",
          null,
          null,
          null,
          null,
          null,
          null,
          null,
          null,
          null
         ],
         "type": "scatter",
         "x": [
          "2014-11-17T00:00:00"
         ],
         "y": [
          5000
         ]
        },
        {
         "mode": "markers",
         "name": "K40",
         "text": [
          null,
          null,
          null,
          null,
          null,
          "NVIDIA Tesla K40s | Single-unit release price",
          null,
          null,
          null,
          null,
          null,
          null,
          null,
          null,
          null,
          null
         ],
         "type": "scatter",
         "x": [
          "2012-07-01T00:00:00"
         ],
         "y": [
          5400
         ]
        },
        {
         "mode": "markers",
         "name": "Titan X",
         "text": [
          null,
          null,
          null,
          "NVIDIA GTX Titan X | Single-unit release price",
          null,
          null,
          null,
          null,
          null,
          null,
          null,
          null,
          null,
          null,
          null,
          null
         ],
         "type": "scatter",
         "x": [
          "2015-03-17T00:00:00"
         ],
         "y": [
          999
         ]
        }
       ],
       "layout": {
        "height": 600,
        "template": {
         "data": {
          "bar": [
           {
            "error_x": {
             "color": "#2a3f5f"
            },
            "error_y": {
             "color": "#2a3f5f"
            },
            "marker": {
             "line": {
              "color": "#E5ECF6",
              "width": 0.5
             },
             "pattern": {
              "fillmode": "overlay",
              "size": 10,
              "solidity": 0.2
             }
            },
            "type": "bar"
           }
          ],
          "barpolar": [
           {
            "marker": {
             "line": {
              "color": "#E5ECF6",
              "width": 0.5
             },
             "pattern": {
              "fillmode": "overlay",
              "size": 10,
              "solidity": 0.2
             }
            },
            "type": "barpolar"
           }
          ],
          "carpet": [
           {
            "aaxis": {
             "endlinecolor": "#2a3f5f",
             "gridcolor": "white",
             "linecolor": "white",
             "minorgridcolor": "white",
             "startlinecolor": "#2a3f5f"
            },
            "baxis": {
             "endlinecolor": "#2a3f5f",
             "gridcolor": "white",
             "linecolor": "white",
             "minorgridcolor": "white",
             "startlinecolor": "#2a3f5f"
            },
            "type": "carpet"
           }
          ],
          "choropleth": [
           {
            "colorbar": {
             "outlinewidth": 0,
             "ticks": ""
            },
            "type": "choropleth"
           }
          ],
          "contour": [
           {
            "colorbar": {
             "outlinewidth": 0,
             "ticks": ""
            },
            "colorscale": [
             [
              0,
              "#0d0887"
             ],
             [
              0.1111111111111111,
              "#46039f"
             ],
             [
              0.2222222222222222,
              "#7201a8"
             ],
             [
              0.3333333333333333,
              "#9c179e"
             ],
             [
              0.4444444444444444,
              "#bd3786"
             ],
             [
              0.5555555555555556,
              "#d8576b"
             ],
             [
              0.6666666666666666,
              "#ed7953"
             ],
             [
              0.7777777777777778,
              "#fb9f3a"
             ],
             [
              0.8888888888888888,
              "#fdca26"
             ],
             [
              1,
              "#f0f921"
             ]
            ],
            "type": "contour"
           }
          ],
          "contourcarpet": [
           {
            "colorbar": {
             "outlinewidth": 0,
             "ticks": ""
            },
            "type": "contourcarpet"
           }
          ],
          "heatmap": [
           {
            "colorbar": {
             "outlinewidth": 0,
             "ticks": ""
            },
            "colorscale": [
             [
              0,
              "#0d0887"
             ],
             [
              0.1111111111111111,
              "#46039f"
             ],
             [
              0.2222222222222222,
              "#7201a8"
             ],
             [
              0.3333333333333333,
              "#9c179e"
             ],
             [
              0.4444444444444444,
              "#bd3786"
             ],
             [
              0.5555555555555556,
              "#d8576b"
             ],
             [
              0.6666666666666666,
              "#ed7953"
             ],
             [
              0.7777777777777778,
              "#fb9f3a"
             ],
             [
              0.8888888888888888,
              "#fdca26"
             ],
             [
              1,
              "#f0f921"
             ]
            ],
            "type": "heatmap"
           }
          ],
          "heatmapgl": [
           {
            "colorbar": {
             "outlinewidth": 0,
             "ticks": ""
            },
            "colorscale": [
             [
              0,
              "#0d0887"
             ],
             [
              0.1111111111111111,
              "#46039f"
             ],
             [
              0.2222222222222222,
              "#7201a8"
             ],
             [
              0.3333333333333333,
              "#9c179e"
             ],
             [
              0.4444444444444444,
              "#bd3786"
             ],
             [
              0.5555555555555556,
              "#d8576b"
             ],
             [
              0.6666666666666666,
              "#ed7953"
             ],
             [
              0.7777777777777778,
              "#fb9f3a"
             ],
             [
              0.8888888888888888,
              "#fdca26"
             ],
             [
              1,
              "#f0f921"
             ]
            ],
            "type": "heatmapgl"
           }
          ],
          "histogram": [
           {
            "marker": {
             "pattern": {
              "fillmode": "overlay",
              "size": 10,
              "solidity": 0.2
             }
            },
            "type": "histogram"
           }
          ],
          "histogram2d": [
           {
            "colorbar": {
             "outlinewidth": 0,
             "ticks": ""
            },
            "colorscale": [
             [
              0,
              "#0d0887"
             ],
             [
              0.1111111111111111,
              "#46039f"
             ],
             [
              0.2222222222222222,
              "#7201a8"
             ],
             [
              0.3333333333333333,
              "#9c179e"
             ],
             [
              0.4444444444444444,
              "#bd3786"
             ],
             [
              0.5555555555555556,
              "#d8576b"
             ],
             [
              0.6666666666666666,
              "#ed7953"
             ],
             [
              0.7777777777777778,
              "#fb9f3a"
             ],
             [
              0.8888888888888888,
              "#fdca26"
             ],
             [
              1,
              "#f0f921"
             ]
            ],
            "type": "histogram2d"
           }
          ],
          "histogram2dcontour": [
           {
            "colorbar": {
             "outlinewidth": 0,
             "ticks": ""
            },
            "colorscale": [
             [
              0,
              "#0d0887"
             ],
             [
              0.1111111111111111,
              "#46039f"
             ],
             [
              0.2222222222222222,
              "#7201a8"
             ],
             [
              0.3333333333333333,
              "#9c179e"
             ],
             [
              0.4444444444444444,
              "#bd3786"
             ],
             [
              0.5555555555555556,
              "#d8576b"
             ],
             [
              0.6666666666666666,
              "#ed7953"
             ],
             [
              0.7777777777777778,
              "#fb9f3a"
             ],
             [
              0.8888888888888888,
              "#fdca26"
             ],
             [
              1,
              "#f0f921"
             ]
            ],
            "type": "histogram2dcontour"
           }
          ],
          "mesh3d": [
           {
            "colorbar": {
             "outlinewidth": 0,
             "ticks": ""
            },
            "type": "mesh3d"
           }
          ],
          "parcoords": [
           {
            "line": {
             "colorbar": {
              "outlinewidth": 0,
              "ticks": ""
             }
            },
            "type": "parcoords"
           }
          ],
          "pie": [
           {
            "automargin": true,
            "type": "pie"
           }
          ],
          "scatter": [
           {
            "fillpattern": {
             "fillmode": "overlay",
             "size": 10,
             "solidity": 0.2
            },
            "type": "scatter"
           }
          ],
          "scatter3d": [
           {
            "line": {
             "colorbar": {
              "outlinewidth": 0,
              "ticks": ""
             }
            },
            "marker": {
             "colorbar": {
              "outlinewidth": 0,
              "ticks": ""
             }
            },
            "type": "scatter3d"
           }
          ],
          "scattercarpet": [
           {
            "marker": {
             "colorbar": {
              "outlinewidth": 0,
              "ticks": ""
             }
            },
            "type": "scattercarpet"
           }
          ],
          "scattergeo": [
           {
            "marker": {
             "colorbar": {
              "outlinewidth": 0,
              "ticks": ""
             }
            },
            "type": "scattergeo"
           }
          ],
          "scattergl": [
           {
            "marker": {
             "colorbar": {
              "outlinewidth": 0,
              "ticks": ""
             }
            },
            "type": "scattergl"
           }
          ],
          "scattermapbox": [
           {
            "marker": {
             "colorbar": {
              "outlinewidth": 0,
              "ticks": ""
             }
            },
            "type": "scattermapbox"
           }
          ],
          "scatterpolar": [
           {
            "marker": {
             "colorbar": {
              "outlinewidth": 0,
              "ticks": ""
             }
            },
            "type": "scatterpolar"
           }
          ],
          "scatterpolargl": [
           {
            "marker": {
             "colorbar": {
              "outlinewidth": 0,
              "ticks": ""
             }
            },
            "type": "scatterpolargl"
           }
          ],
          "scatterternary": [
           {
            "marker": {
             "colorbar": {
              "outlinewidth": 0,
              "ticks": ""
             }
            },
            "type": "scatterternary"
           }
          ],
          "surface": [
           {
            "colorbar": {
             "outlinewidth": 0,
             "ticks": ""
            },
            "colorscale": [
             [
              0,
              "#0d0887"
             ],
             [
              0.1111111111111111,
              "#46039f"
             ],
             [
              0.2222222222222222,
              "#7201a8"
             ],
             [
              0.3333333333333333,
              "#9c179e"
             ],
             [
              0.4444444444444444,
              "#bd3786"
             ],
             [
              0.5555555555555556,
              "#d8576b"
             ],
             [
              0.6666666666666666,
              "#ed7953"
             ],
             [
              0.7777777777777778,
              "#fb9f3a"
             ],
             [
              0.8888888888888888,
              "#fdca26"
             ],
             [
              1,
              "#f0f921"
             ]
            ],
            "type": "surface"
           }
          ],
          "table": [
           {
            "cells": {
             "fill": {
              "color": "#EBF0F8"
             },
             "line": {
              "color": "white"
             }
            },
            "header": {
             "fill": {
              "color": "#C8D4E3"
             },
             "line": {
              "color": "white"
             }
            },
            "type": "table"
           }
          ]
         },
         "layout": {
          "annotationdefaults": {
           "arrowcolor": "#2a3f5f",
           "arrowhead": 0,
           "arrowwidth": 1
          },
          "autotypenumbers": "strict",
          "coloraxis": {
           "colorbar": {
            "outlinewidth": 0,
            "ticks": ""
           }
          },
          "colorscale": {
           "diverging": [
            [
             0,
             "#8e0152"
            ],
            [
             0.1,
             "#c51b7d"
            ],
            [
             0.2,
             "#de77ae"
            ],
            [
             0.3,
             "#f1b6da"
            ],
            [
             0.4,
             "#fde0ef"
            ],
            [
             0.5,
             "#f7f7f7"
            ],
            [
             0.6,
             "#e6f5d0"
            ],
            [
             0.7,
             "#b8e186"
            ],
            [
             0.8,
             "#7fbc41"
            ],
            [
             0.9,
             "#4d9221"
            ],
            [
             1,
             "#276419"
            ]
           ],
           "sequential": [
            [
             0,
             "#0d0887"
            ],
            [
             0.1111111111111111,
             "#46039f"
            ],
            [
             0.2222222222222222,
             "#7201a8"
            ],
            [
             0.3333333333333333,
             "#9c179e"
            ],
            [
             0.4444444444444444,
             "#bd3786"
            ],
            [
             0.5555555555555556,
             "#d8576b"
            ],
            [
             0.6666666666666666,
             "#ed7953"
            ],
            [
             0.7777777777777778,
             "#fb9f3a"
            ],
            [
             0.8888888888888888,
             "#fdca26"
            ],
            [
             1,
             "#f0f921"
            ]
           ],
           "sequentialminus": [
            [
             0,
             "#0d0887"
            ],
            [
             0.1111111111111111,
             "#46039f"
            ],
            [
             0.2222222222222222,
             "#7201a8"
            ],
            [
             0.3333333333333333,
             "#9c179e"
            ],
            [
             0.4444444444444444,
             "#bd3786"
            ],
            [
             0.5555555555555556,
             "#d8576b"
            ],
            [
             0.6666666666666666,
             "#ed7953"
            ],
            [
             0.7777777777777778,
             "#fb9f3a"
            ],
            [
             0.8888888888888888,
             "#fdca26"
            ],
            [
             1,
             "#f0f921"
            ]
           ]
          },
          "colorway": [
           "#636efa",
           "#EF553B",
           "#00cc96",
           "#ab63fa",
           "#FFA15A",
           "#19d3f3",
           "#FF6692",
           "#B6E880",
           "#FF97FF",
           "#FECB52"
          ],
          "font": {
           "color": "#2a3f5f"
          },
          "geo": {
           "bgcolor": "white",
           "lakecolor": "white",
           "landcolor": "#E5ECF6",
           "showlakes": true,
           "showland": true,
           "subunitcolor": "white"
          },
          "hoverlabel": {
           "align": "left"
          },
          "hovermode": "closest",
          "mapbox": {
           "style": "light"
          },
          "paper_bgcolor": "white",
          "plot_bgcolor": "#E5ECF6",
          "polar": {
           "angularaxis": {
            "gridcolor": "white",
            "linecolor": "white",
            "ticks": ""
           },
           "bgcolor": "#E5ECF6",
           "radialaxis": {
            "gridcolor": "white",
            "linecolor": "white",
            "ticks": ""
           }
          },
          "scene": {
           "xaxis": {
            "backgroundcolor": "#E5ECF6",
            "gridcolor": "white",
            "gridwidth": 2,
            "linecolor": "white",
            "showbackground": true,
            "ticks": "",
            "zerolinecolor": "white"
           },
           "yaxis": {
            "backgroundcolor": "#E5ECF6",
            "gridcolor": "white",
            "gridwidth": 2,
            "linecolor": "white",
            "showbackground": true,
            "ticks": "",
            "zerolinecolor": "white"
           },
           "zaxis": {
            "backgroundcolor": "#E5ECF6",
            "gridcolor": "white",
            "gridwidth": 2,
            "linecolor": "white",
            "showbackground": true,
            "ticks": "",
            "zerolinecolor": "white"
           }
          },
          "shapedefaults": {
           "line": {
            "color": "#2a3f5f"
           }
          },
          "ternary": {
           "aaxis": {
            "gridcolor": "white",
            "linecolor": "white",
            "ticks": ""
           },
           "baxis": {
            "gridcolor": "white",
            "linecolor": "white",
            "ticks": ""
           },
           "bgcolor": "#E5ECF6",
           "caxis": {
            "gridcolor": "white",
            "linecolor": "white",
            "ticks": ""
           }
          },
          "title": {
           "x": 0.05
          },
          "xaxis": {
           "automargin": true,
           "gridcolor": "white",
           "linecolor": "white",
           "ticks": "",
           "title": {
            "standoff": 15
           },
           "zerolinecolor": "white",
           "zerolinewidth": 2
          },
          "yaxis": {
           "automargin": true,
           "gridcolor": "white",
           "linecolor": "white",
           "ticks": "",
           "title": {
            "standoff": 15
           },
           "zerolinecolor": "white",
           "zerolinewidth": 2
          }
         }
        },
        "title": {
         "text": "ML datacenter GPU prices over time (earliest price for each GPU model)"
        },
        "width": 800,
        "xaxis": {
         "title": {
          "text": "Price date"
         }
        },
        "yaxis": {
         "title": {
          "text": "Price ($)"
         },
         "type": "log"
        }
       }
      }
     },
     "metadata": {},
     "output_type": "display_data"
    }
   ],
   "source": [
    "fig = go.Figure()\n",
    "for hardware_alias in hardware_aliases:\n",
    "    _hardware_df = release_price_df[release_price_df['Hardware model'].str.contains(hardware_alias)]\n",
    "    fig.add_trace(go.Scatter(\n",
    "        x=_hardware_df['Price date'],\n",
    "        y=_hardware_df[price_colname],\n",
    "        mode='markers',\n",
    "        name=hardware_alias,\n",
    "        text=release_price_df['Hardware model'] + ' | ' + _hardware_df['Notes'],\n",
    "    ))\n",
    "fig.update_layout(\n",
    "    title='ML datacenter GPU prices over time (earliest price for each GPU model)',\n",
    "    xaxis_title='Price date',\n",
    "    yaxis_title='Price ($)',\n",
    "    yaxis_type='log',\n",
    "    width=800,\n",
    "    height=600,\n",
    ")\n",
    "fig.show()"
   ]
  },
  {
   "cell_type": "code",
   "execution_count": 17,
   "metadata": {},
   "outputs": [
    {
     "data": {
      "text/plain": [
       "['NVIDIA GeForce 2 GTS Pro',\n",
       " 'NVIDIA GeForce 3 Ti500',\n",
       " 'NVIDIA GeForce FX 5200 Ultra',\n",
       " 'NVIDIA GeForce FX 5800',\n",
       " 'NVIDIA GeForce FX 5800 Ultra',\n",
       " 'ATI Xbox 360 GPU 90nm',\n",
       " 'NVIDIA GeForce 8800 GTX',\n",
       " 'NVIDIA Quadro FX 5600 Mac Edition',\n",
       " 'NVIDIA GeForce 8800 Ultra',\n",
       " 'ATI Radeon HD 2900 XT',\n",
       " 'AMD FireStream 9170',\n",
       " 'ATI Radeon HD 3870 X2',\n",
       " 'Radeon HD 3870 X2',\n",
       " 'ATI Radeon HD 4870',\n",
       " 'Radeon HD 4870 X2',\n",
       " 'Radeon HD 5870',\n",
       " 'Radeon HD 5970',\n",
       " 'Radeon HD 6990',\n",
       " 'Radeon HD 7990',\n",
       " 'AMD Radeon R9 FURY X',\n",
       " 'NVIDIA TESLA M60',\n",
       " 'NVIDIA Tesla P100 DGXS',\n",
       " 'NVIDIA TITAN X Pascal',\n",
       " 'NVIDIA P40',\n",
       " 'NVIDIA Quadro P6000',\n",
       " 'NVIDIA Tesla V100 PCIe 16 GB',\n",
       " 'NVIDIA Tesla V100 SXM2 16 GB',\n",
       " 'NVIDIA Quadro GV100',\n",
       " 'NVIDIA A100',\n",
       " 'NVIDIA GeForce RTX 3080',\n",
       " 'NVIDIA GeForce RTX 3090',\n",
       " 'NVIDIA RTX A6000',\n",
       " 'NVIDIA GeForce RTX 3090 Ti',\n",
       " 'NVIDIA H100 PCIe',\n",
       " 'NVIDIA GeForce RTX 4090']"
      ]
     },
     "execution_count": 17,
     "metadata": {},
     "output_type": "execute_result"
    }
   ],
   "source": [
    "# Get a list of the 'Hardware name' with the highest 'FP32 (single precision) Performance (FLOP/s)' over time\n",
    "perf_col = 'FP32 (single precision) Performance (FLOP/s)'\n",
    "best_gpu = None\n",
    "best_gpus = []\n",
    "best_perf = 0\n",
    "for i, row in hardware_df.dropna(subset=['Release date', perf_col]).sort_values(by='Release date').iterrows():\n",
    "    if row[perf_col] > best_perf:\n",
    "        best_gpu = row['Hardware name']\n",
    "        best_gpus.append(best_gpu)\n",
    "        best_perf = row[perf_col]\n",
    "best_gpus"
   ]
  },
  {
   "cell_type": "code",
   "execution_count": 18,
   "metadata": {},
   "outputs": [],
   "source": [
    "best_gpu_df = hardware_df[hardware_df['Hardware name'].isin(best_gpus)].dropna(subset=['Release price (USD)'])"
   ]
  },
  {
   "cell_type": "code",
   "execution_count": 19,
   "metadata": {},
   "outputs": [
    {
     "data": {
      "text/html": [
       "<table class=\"simpletable\">\n",
       "<caption>OLS Regression Results</caption>\n",
       "<tr>\n",
       "  <th>Dep. Variable:</th>            <td>y</td>        <th>  R-squared:         </th> <td>   0.588</td>\n",
       "</tr>\n",
       "<tr>\n",
       "  <th>Model:</th>                   <td>OLS</td>       <th>  Adj. R-squared:    </th> <td>   0.566</td>\n",
       "</tr>\n",
       "<tr>\n",
       "  <th>Method:</th>             <td>Least Squares</td>  <th>  F-statistic:       </th> <td>   27.06</td>\n",
       "</tr>\n",
       "<tr>\n",
       "  <th>Date:</th>             <td>Thu, 06 Jun 2024</td> <th>  Prob (F-statistic):</th> <td>5.07e-05</td>\n",
       "</tr>\n",
       "<tr>\n",
       "  <th>Time:</th>                 <td>17:04:51</td>     <th>  Log-Likelihood:    </th> <td> -1.9904</td>\n",
       "</tr>\n",
       "<tr>\n",
       "  <th>No. Observations:</th>      <td>    21</td>      <th>  AIC:               </th> <td>   7.981</td>\n",
       "</tr>\n",
       "<tr>\n",
       "  <th>Df Residuals:</th>          <td>    19</td>      <th>  BIC:               </th> <td>   10.07</td>\n",
       "</tr>\n",
       "<tr>\n",
       "  <th>Df Model:</th>              <td>     1</td>      <th>                     </th>     <td> </td>   \n",
       "</tr>\n",
       "<tr>\n",
       "  <th>Covariance Type:</th>      <td>nonrobust</td>    <th>                     </th>     <td> </td>   \n",
       "</tr>\n",
       "</table>\n",
       "<table class=\"simpletable\">\n",
       "<tr>\n",
       "    <td></td>       <th>coef</th>     <th>std err</th>      <th>t</th>      <th>P>|t|</th>  <th>[0.025</th>    <th>0.975]</th>  \n",
       "</tr>\n",
       "<tr>\n",
       "  <th>const</th> <td>  -87.4992</td> <td>   17.380</td> <td>   -5.034</td> <td> 0.000</td> <td> -123.876</td> <td>  -51.122</td>\n",
       "</tr>\n",
       "<tr>\n",
       "  <th>x1</th>    <td>    0.0449</td> <td>    0.009</td> <td>    5.202</td> <td> 0.000</td> <td>    0.027</td> <td>    0.063</td>\n",
       "</tr>\n",
       "</table>\n",
       "<table class=\"simpletable\">\n",
       "<tr>\n",
       "  <th>Omnibus:</th>       <td> 5.262</td> <th>  Durbin-Watson:     </th> <td>   1.989</td>\n",
       "</tr>\n",
       "<tr>\n",
       "  <th>Prob(Omnibus):</th> <td> 0.072</td> <th>  Jarque-Bera (JB):  </th> <td>   3.206</td>\n",
       "</tr>\n",
       "<tr>\n",
       "  <th>Skew:</th>          <td> 0.901</td> <th>  Prob(JB):          </th> <td>   0.201</td>\n",
       "</tr>\n",
       "<tr>\n",
       "  <th>Kurtosis:</th>      <td> 3.648</td> <th>  Cond. No.          </th> <td>5.73e+05</td>\n",
       "</tr>\n",
       "</table><br/><br/>Notes:<br/>[1] Standard Errors assume that the covariance matrix of the errors is correctly specified.<br/>[2] The condition number is large, 5.73e+05. This might indicate that there are<br/>strong multicollinearity or other numerical problems."
      ],
      "text/latex": [
       "\\begin{center}\n",
       "\\begin{tabular}{lclc}\n",
       "\\toprule\n",
       "\\textbf{Dep. Variable:}    &        y         & \\textbf{  R-squared:         } &     0.588   \\\\\n",
       "\\textbf{Model:}            &       OLS        & \\textbf{  Adj. R-squared:    } &     0.566   \\\\\n",
       "\\textbf{Method:}           &  Least Squares   & \\textbf{  F-statistic:       } &     27.06   \\\\\n",
       "\\textbf{Date:}             & Thu, 06 Jun 2024 & \\textbf{  Prob (F-statistic):} &  5.07e-05   \\\\\n",
       "\\textbf{Time:}             &     17:04:51     & \\textbf{  Log-Likelihood:    } &   -1.9904   \\\\\n",
       "\\textbf{No. Observations:} &          21      & \\textbf{  AIC:               } &     7.981   \\\\\n",
       "\\textbf{Df Residuals:}     &          19      & \\textbf{  BIC:               } &     10.07   \\\\\n",
       "\\textbf{Df Model:}         &           1      & \\textbf{                     } &             \\\\\n",
       "\\textbf{Covariance Type:}  &    nonrobust     & \\textbf{                     } &             \\\\\n",
       "\\bottomrule\n",
       "\\end{tabular}\n",
       "\\begin{tabular}{lcccccc}\n",
       "               & \\textbf{coef} & \\textbf{std err} & \\textbf{t} & \\textbf{P$> |$t$|$} & \\textbf{[0.025} & \\textbf{0.975]}  \\\\\n",
       "\\midrule\n",
       "\\textbf{const} &     -87.4992  &       17.380     &    -5.034  &         0.000        &     -123.876    &      -51.122     \\\\\n",
       "\\textbf{x1}    &       0.0449  &        0.009     &     5.202  &         0.000        &        0.027    &        0.063     \\\\\n",
       "\\bottomrule\n",
       "\\end{tabular}\n",
       "\\begin{tabular}{lclc}\n",
       "\\textbf{Omnibus:}       &  5.262 & \\textbf{  Durbin-Watson:     } &    1.989  \\\\\n",
       "\\textbf{Prob(Omnibus):} &  0.072 & \\textbf{  Jarque-Bera (JB):  } &    3.206  \\\\\n",
       "\\textbf{Skew:}          &  0.901 & \\textbf{  Prob(JB):          } &    0.201  \\\\\n",
       "\\textbf{Kurtosis:}      &  3.648 & \\textbf{  Cond. No.          } & 5.73e+05  \\\\\n",
       "\\bottomrule\n",
       "\\end{tabular}\n",
       "%\\caption{OLS Regression Results}\n",
       "\\end{center}\n",
       "\n",
       "Notes: \\newline\n",
       " [1] Standard Errors assume that the covariance matrix of the errors is correctly specified. \\newline\n",
       " [2] The condition number is large, 5.73e+05. This might indicate that there are \\newline\n",
       " strong multicollinearity or other numerical problems."
      ],
      "text/plain": [
       "<class 'statsmodels.iolib.summary.Summary'>\n",
       "\"\"\"\n",
       "                            OLS Regression Results                            \n",
       "==============================================================================\n",
       "Dep. Variable:                      y   R-squared:                       0.588\n",
       "Model:                            OLS   Adj. R-squared:                  0.566\n",
       "Method:                 Least Squares   F-statistic:                     27.06\n",
       "Date:                Thu, 06 Jun 2024   Prob (F-statistic):           5.07e-05\n",
       "Time:                        17:04:51   Log-Likelihood:                -1.9904\n",
       "No. Observations:                  21   AIC:                             7.981\n",
       "Df Residuals:                      19   BIC:                             10.07\n",
       "Df Model:                           1                                         \n",
       "Covariance Type:            nonrobust                                         \n",
       "==============================================================================\n",
       "                 coef    std err          t      P>|t|      [0.025      0.975]\n",
       "------------------------------------------------------------------------------\n",
       "const        -87.4992     17.380     -5.034      0.000    -123.876     -51.122\n",
       "x1             0.0449      0.009      5.202      0.000       0.027       0.063\n",
       "==============================================================================\n",
       "Omnibus:                        5.262   Durbin-Watson:                   1.989\n",
       "Prob(Omnibus):                  0.072   Jarque-Bera (JB):                3.206\n",
       "Skew:                           0.901   Prob(JB):                        0.201\n",
       "Kurtosis:                       3.648   Cond. No.                     5.73e+05\n",
       "==============================================================================\n",
       "\n",
       "Notes:\n",
       "[1] Standard Errors assume that the covariance matrix of the errors is correctly specified.\n",
       "[2] The condition number is large, 5.73e+05. This might indicate that there are\n",
       "strong multicollinearity or other numerical problems.\n",
       "\"\"\""
      ]
     },
     "execution_count": 19,
     "metadata": {},
     "output_type": "execute_result"
    }
   ],
   "source": [
    "best_gpu_df['Release date (float)'] = datetime_to_float_year(pd.to_datetime(best_gpu_df['Release date']))\n",
    "best_gpu_df['Release price (USD)'] = [float(price[1:]) for price in best_gpu_df['Release price (USD)'] if '$' in price]\n",
    "best_gpu_price_reg_results = fit_ols_regression(best_gpu_df, ['Release date (float)'], 'Release price (USD)', logy=True)\n",
    "best_gpu_price_reg_results.summary()"
   ]
  },
  {
   "cell_type": "code",
   "execution_count": 20,
   "metadata": {},
   "outputs": [
    {
     "data": {
      "application/vnd.plotly.v1+json": {
       "config": {
        "plotlyServerURL": "https://plot.ly"
       },
       "data": [
        {
         "mode": "markers",
         "text": [
          "NVIDIA GeForce 2 GTS Pro",
          "NVIDIA GeForce 3 Ti500",
          "NVIDIA GeForce FX 5800 Ultra",
          "NVIDIA GeForce FX 5200 Ultra",
          "NVIDIA GeForce FX 5800",
          "NVIDIA GeForce 8800 GTX",
          "NVIDIA GeForce 8800 Ultra",
          "Radeon HD 3870 X2",
          "Radeon HD 4870 X2",
          "Radeon HD 5870",
          "Radeon HD 5970",
          "Radeon HD 6990",
          "Radeon HD 7990",
          "AMD Radeon R9 FURY X",
          "NVIDIA P40",
          "NVIDIA Quadro P6000",
          "NVIDIA GeForce RTX 3080",
          "NVIDIA GeForce RTX 3090",
          "NVIDIA RTX A6000",
          "NVIDIA GeForce RTX 3090 Ti",
          "NVIDIA GeForce RTX 4090"
         ],
         "type": "scatter",
         "x": [
          "2000-12-05",
          "2001-10-01",
          "2003-03-06",
          "2003-03-06",
          "2003-03-06",
          "2006-11-08",
          "2007-05-02",
          "2008-01-28",
          "2008-08-12",
          "2009-09-23",
          "2009-11-18",
          "2011-03-08",
          "2013-04-01",
          "2015-06-24",
          "2016-09-13",
          "2016-10-01",
          "2020-09-01",
          "2020-09-01",
          "2020-10-05",
          "2022-03-29",
          "2022-09-20"
         ],
         "y": [
          329,
          349,
          399,
          199,
          299,
          599,
          829,
          449,
          449,
          379,
          599,
          699,
          1000,
          649,
          5699,
          5999,
          699,
          1499,
          4649,
          1999,
          1599
         ]
        }
       ],
       "layout": {
        "height": 600,
        "template": {
         "data": {
          "bar": [
           {
            "error_x": {
             "color": "#2a3f5f"
            },
            "error_y": {
             "color": "#2a3f5f"
            },
            "marker": {
             "line": {
              "color": "#E5ECF6",
              "width": 0.5
             },
             "pattern": {
              "fillmode": "overlay",
              "size": 10,
              "solidity": 0.2
             }
            },
            "type": "bar"
           }
          ],
          "barpolar": [
           {
            "marker": {
             "line": {
              "color": "#E5ECF6",
              "width": 0.5
             },
             "pattern": {
              "fillmode": "overlay",
              "size": 10,
              "solidity": 0.2
             }
            },
            "type": "barpolar"
           }
          ],
          "carpet": [
           {
            "aaxis": {
             "endlinecolor": "#2a3f5f",
             "gridcolor": "white",
             "linecolor": "white",
             "minorgridcolor": "white",
             "startlinecolor": "#2a3f5f"
            },
            "baxis": {
             "endlinecolor": "#2a3f5f",
             "gridcolor": "white",
             "linecolor": "white",
             "minorgridcolor": "white",
             "startlinecolor": "#2a3f5f"
            },
            "type": "carpet"
           }
          ],
          "choropleth": [
           {
            "colorbar": {
             "outlinewidth": 0,
             "ticks": ""
            },
            "type": "choropleth"
           }
          ],
          "contour": [
           {
            "colorbar": {
             "outlinewidth": 0,
             "ticks": ""
            },
            "colorscale": [
             [
              0,
              "#0d0887"
             ],
             [
              0.1111111111111111,
              "#46039f"
             ],
             [
              0.2222222222222222,
              "#7201a8"
             ],
             [
              0.3333333333333333,
              "#9c179e"
             ],
             [
              0.4444444444444444,
              "#bd3786"
             ],
             [
              0.5555555555555556,
              "#d8576b"
             ],
             [
              0.6666666666666666,
              "#ed7953"
             ],
             [
              0.7777777777777778,
              "#fb9f3a"
             ],
             [
              0.8888888888888888,
              "#fdca26"
             ],
             [
              1,
              "#f0f921"
             ]
            ],
            "type": "contour"
           }
          ],
          "contourcarpet": [
           {
            "colorbar": {
             "outlinewidth": 0,
             "ticks": ""
            },
            "type": "contourcarpet"
           }
          ],
          "heatmap": [
           {
            "colorbar": {
             "outlinewidth": 0,
             "ticks": ""
            },
            "colorscale": [
             [
              0,
              "#0d0887"
             ],
             [
              0.1111111111111111,
              "#46039f"
             ],
             [
              0.2222222222222222,
              "#7201a8"
             ],
             [
              0.3333333333333333,
              "#9c179e"
             ],
             [
              0.4444444444444444,
              "#bd3786"
             ],
             [
              0.5555555555555556,
              "#d8576b"
             ],
             [
              0.6666666666666666,
              "#ed7953"
             ],
             [
              0.7777777777777778,
              "#fb9f3a"
             ],
             [
              0.8888888888888888,
              "#fdca26"
             ],
             [
              1,
              "#f0f921"
             ]
            ],
            "type": "heatmap"
           }
          ],
          "heatmapgl": [
           {
            "colorbar": {
             "outlinewidth": 0,
             "ticks": ""
            },
            "colorscale": [
             [
              0,
              "#0d0887"
             ],
             [
              0.1111111111111111,
              "#46039f"
             ],
             [
              0.2222222222222222,
              "#7201a8"
             ],
             [
              0.3333333333333333,
              "#9c179e"
             ],
             [
              0.4444444444444444,
              "#bd3786"
             ],
             [
              0.5555555555555556,
              "#d8576b"
             ],
             [
              0.6666666666666666,
              "#ed7953"
             ],
             [
              0.7777777777777778,
              "#fb9f3a"
             ],
             [
              0.8888888888888888,
              "#fdca26"
             ],
             [
              1,
              "#f0f921"
             ]
            ],
            "type": "heatmapgl"
           }
          ],
          "histogram": [
           {
            "marker": {
             "pattern": {
              "fillmode": "overlay",
              "size": 10,
              "solidity": 0.2
             }
            },
            "type": "histogram"
           }
          ],
          "histogram2d": [
           {
            "colorbar": {
             "outlinewidth": 0,
             "ticks": ""
            },
            "colorscale": [
             [
              0,
              "#0d0887"
             ],
             [
              0.1111111111111111,
              "#46039f"
             ],
             [
              0.2222222222222222,
              "#7201a8"
             ],
             [
              0.3333333333333333,
              "#9c179e"
             ],
             [
              0.4444444444444444,
              "#bd3786"
             ],
             [
              0.5555555555555556,
              "#d8576b"
             ],
             [
              0.6666666666666666,
              "#ed7953"
             ],
             [
              0.7777777777777778,
              "#fb9f3a"
             ],
             [
              0.8888888888888888,
              "#fdca26"
             ],
             [
              1,
              "#f0f921"
             ]
            ],
            "type": "histogram2d"
           }
          ],
          "histogram2dcontour": [
           {
            "colorbar": {
             "outlinewidth": 0,
             "ticks": ""
            },
            "colorscale": [
             [
              0,
              "#0d0887"
             ],
             [
              0.1111111111111111,
              "#46039f"
             ],
             [
              0.2222222222222222,
              "#7201a8"
             ],
             [
              0.3333333333333333,
              "#9c179e"
             ],
             [
              0.4444444444444444,
              "#bd3786"
             ],
             [
              0.5555555555555556,
              "#d8576b"
             ],
             [
              0.6666666666666666,
              "#ed7953"
             ],
             [
              0.7777777777777778,
              "#fb9f3a"
             ],
             [
              0.8888888888888888,
              "#fdca26"
             ],
             [
              1,
              "#f0f921"
             ]
            ],
            "type": "histogram2dcontour"
           }
          ],
          "mesh3d": [
           {
            "colorbar": {
             "outlinewidth": 0,
             "ticks": ""
            },
            "type": "mesh3d"
           }
          ],
          "parcoords": [
           {
            "line": {
             "colorbar": {
              "outlinewidth": 0,
              "ticks": ""
             }
            },
            "type": "parcoords"
           }
          ],
          "pie": [
           {
            "automargin": true,
            "type": "pie"
           }
          ],
          "scatter": [
           {
            "fillpattern": {
             "fillmode": "overlay",
             "size": 10,
             "solidity": 0.2
            },
            "type": "scatter"
           }
          ],
          "scatter3d": [
           {
            "line": {
             "colorbar": {
              "outlinewidth": 0,
              "ticks": ""
             }
            },
            "marker": {
             "colorbar": {
              "outlinewidth": 0,
              "ticks": ""
             }
            },
            "type": "scatter3d"
           }
          ],
          "scattercarpet": [
           {
            "marker": {
             "colorbar": {
              "outlinewidth": 0,
              "ticks": ""
             }
            },
            "type": "scattercarpet"
           }
          ],
          "scattergeo": [
           {
            "marker": {
             "colorbar": {
              "outlinewidth": 0,
              "ticks": ""
             }
            },
            "type": "scattergeo"
           }
          ],
          "scattergl": [
           {
            "marker": {
             "colorbar": {
              "outlinewidth": 0,
              "ticks": ""
             }
            },
            "type": "scattergl"
           }
          ],
          "scattermapbox": [
           {
            "marker": {
             "colorbar": {
              "outlinewidth": 0,
              "ticks": ""
             }
            },
            "type": "scattermapbox"
           }
          ],
          "scatterpolar": [
           {
            "marker": {
             "colorbar": {
              "outlinewidth": 0,
              "ticks": ""
             }
            },
            "type": "scatterpolar"
           }
          ],
          "scatterpolargl": [
           {
            "marker": {
             "colorbar": {
              "outlinewidth": 0,
              "ticks": ""
             }
            },
            "type": "scatterpolargl"
           }
          ],
          "scatterternary": [
           {
            "marker": {
             "colorbar": {
              "outlinewidth": 0,
              "ticks": ""
             }
            },
            "type": "scatterternary"
           }
          ],
          "surface": [
           {
            "colorbar": {
             "outlinewidth": 0,
             "ticks": ""
            },
            "colorscale": [
             [
              0,
              "#0d0887"
             ],
             [
              0.1111111111111111,
              "#46039f"
             ],
             [
              0.2222222222222222,
              "#7201a8"
             ],
             [
              0.3333333333333333,
              "#9c179e"
             ],
             [
              0.4444444444444444,
              "#bd3786"
             ],
             [
              0.5555555555555556,
              "#d8576b"
             ],
             [
              0.6666666666666666,
              "#ed7953"
             ],
             [
              0.7777777777777778,
              "#fb9f3a"
             ],
             [
              0.8888888888888888,
              "#fdca26"
             ],
             [
              1,
              "#f0f921"
             ]
            ],
            "type": "surface"
           }
          ],
          "table": [
           {
            "cells": {
             "fill": {
              "color": "#EBF0F8"
             },
             "line": {
              "color": "white"
             }
            },
            "header": {
             "fill": {
              "color": "#C8D4E3"
             },
             "line": {
              "color": "white"
             }
            },
            "type": "table"
           }
          ]
         },
         "layout": {
          "annotationdefaults": {
           "arrowcolor": "#2a3f5f",
           "arrowhead": 0,
           "arrowwidth": 1
          },
          "autotypenumbers": "strict",
          "coloraxis": {
           "colorbar": {
            "outlinewidth": 0,
            "ticks": ""
           }
          },
          "colorscale": {
           "diverging": [
            [
             0,
             "#8e0152"
            ],
            [
             0.1,
             "#c51b7d"
            ],
            [
             0.2,
             "#de77ae"
            ],
            [
             0.3,
             "#f1b6da"
            ],
            [
             0.4,
             "#fde0ef"
            ],
            [
             0.5,
             "#f7f7f7"
            ],
            [
             0.6,
             "#e6f5d0"
            ],
            [
             0.7,
             "#b8e186"
            ],
            [
             0.8,
             "#7fbc41"
            ],
            [
             0.9,
             "#4d9221"
            ],
            [
             1,
             "#276419"
            ]
           ],
           "sequential": [
            [
             0,
             "#0d0887"
            ],
            [
             0.1111111111111111,
             "#46039f"
            ],
            [
             0.2222222222222222,
             "#7201a8"
            ],
            [
             0.3333333333333333,
             "#9c179e"
            ],
            [
             0.4444444444444444,
             "#bd3786"
            ],
            [
             0.5555555555555556,
             "#d8576b"
            ],
            [
             0.6666666666666666,
             "#ed7953"
            ],
            [
             0.7777777777777778,
             "#fb9f3a"
            ],
            [
             0.8888888888888888,
             "#fdca26"
            ],
            [
             1,
             "#f0f921"
            ]
           ],
           "sequentialminus": [
            [
             0,
             "#0d0887"
            ],
            [
             0.1111111111111111,
             "#46039f"
            ],
            [
             0.2222222222222222,
             "#7201a8"
            ],
            [
             0.3333333333333333,
             "#9c179e"
            ],
            [
             0.4444444444444444,
             "#bd3786"
            ],
            [
             0.5555555555555556,
             "#d8576b"
            ],
            [
             0.6666666666666666,
             "#ed7953"
            ],
            [
             0.7777777777777778,
             "#fb9f3a"
            ],
            [
             0.8888888888888888,
             "#fdca26"
            ],
            [
             1,
             "#f0f921"
            ]
           ]
          },
          "colorway": [
           "#636efa",
           "#EF553B",
           "#00cc96",
           "#ab63fa",
           "#FFA15A",
           "#19d3f3",
           "#FF6692",
           "#B6E880",
           "#FF97FF",
           "#FECB52"
          ],
          "font": {
           "color": "#2a3f5f"
          },
          "geo": {
           "bgcolor": "white",
           "lakecolor": "white",
           "landcolor": "#E5ECF6",
           "showlakes": true,
           "showland": true,
           "subunitcolor": "white"
          },
          "hoverlabel": {
           "align": "left"
          },
          "hovermode": "closest",
          "mapbox": {
           "style": "light"
          },
          "paper_bgcolor": "white",
          "plot_bgcolor": "#E5ECF6",
          "polar": {
           "angularaxis": {
            "gridcolor": "white",
            "linecolor": "white",
            "ticks": ""
           },
           "bgcolor": "#E5ECF6",
           "radialaxis": {
            "gridcolor": "white",
            "linecolor": "white",
            "ticks": ""
           }
          },
          "scene": {
           "xaxis": {
            "backgroundcolor": "#E5ECF6",
            "gridcolor": "white",
            "gridwidth": 2,
            "linecolor": "white",
            "showbackground": true,
            "ticks": "",
            "zerolinecolor": "white"
           },
           "yaxis": {
            "backgroundcolor": "#E5ECF6",
            "gridcolor": "white",
            "gridwidth": 2,
            "linecolor": "white",
            "showbackground": true,
            "ticks": "",
            "zerolinecolor": "white"
           },
           "zaxis": {
            "backgroundcolor": "#E5ECF6",
            "gridcolor": "white",
            "gridwidth": 2,
            "linecolor": "white",
            "showbackground": true,
            "ticks": "",
            "zerolinecolor": "white"
           }
          },
          "shapedefaults": {
           "line": {
            "color": "#2a3f5f"
           }
          },
          "ternary": {
           "aaxis": {
            "gridcolor": "white",
            "linecolor": "white",
            "ticks": ""
           },
           "baxis": {
            "gridcolor": "white",
            "linecolor": "white",
            "ticks": ""
           },
           "bgcolor": "#E5ECF6",
           "caxis": {
            "gridcolor": "white",
            "linecolor": "white",
            "ticks": ""
           }
          },
          "title": {
           "x": 0.05
          },
          "xaxis": {
           "automargin": true,
           "gridcolor": "white",
           "linecolor": "white",
           "ticks": "",
           "title": {
            "standoff": 15
           },
           "zerolinecolor": "white",
           "zerolinewidth": 2
          },
          "yaxis": {
           "automargin": true,
           "gridcolor": "white",
           "linecolor": "white",
           "ticks": "",
           "title": {
            "standoff": 15
           },
           "zerolinecolor": "white",
           "zerolinewidth": 2
          }
         }
        },
        "title": {
         "text": "Release price of the best GPUs (by FP32 FLOP/s) over time"
        },
        "width": 800,
        "xaxis": {
         "title": {
          "text": "Price date"
         }
        },
        "yaxis": {
         "title": {
          "text": "Price ($)"
         },
         "type": "log"
        }
       }
      }
     },
     "metadata": {},
     "output_type": "display_data"
    }
   ],
   "source": [
    "# Plot the 'Release price (USD)' of the best GPUs over time\n",
    "fig = go.Figure()\n",
    "\n",
    "fig.add_trace(go.Scatter(\n",
    "    x=best_gpu_df['Release date'],\n",
    "    y=best_gpu_df['Release price (USD)'],\n",
    "    mode='markers',\n",
    "    text=best_gpu_df['Hardware name'],\n",
    "))\n",
    "fig.update_layout(\n",
    "    title='Release price of the best GPUs (by FP32 FLOP/s) over time',\n",
    "    xaxis_title='Price date',\n",
    "    yaxis_title='Price ($)',\n",
    "    yaxis_type='log',\n",
    "    width=800,\n",
    "    height=600,\n",
    ")\n",
    "fig.show()"
   ]
  },
  {
   "cell_type": "code",
   "execution_count": 26,
   "metadata": {},
   "outputs": [
    {
     "name": "stdout",
     "output_type": "stream",
     "text": [
      "Median: 0.06 [80% CI: 0.037, 0.11]\n"
     ]
    }
   ],
   "source": [
    "num_samples = 1000\n",
    "gpu_price_growth = np.zeros(num_samples)\n",
    "datacenter_gpu_weight = 0.5\n",
    "for i in range(num_samples):\n",
    "    # generate uniform random number between 0 and 1\n",
    "    rand = np.random.rand()\n",
    "    if rand < datacenter_gpu_weight:\n",
    "        growth_ci = datacenter_gpu_price_reg_results.conf_int()[1]\n",
    "    else:\n",
    "        growth_ci = best_gpu_price_reg_results.conf_int()[1]\n",
    "    gpu_price_growth[i] = norm_from_ci(growth_ci[0], growth_ci[1], 95, num_samples=1)[0]\n",
    "print_median_and_ci(gpu_price_growth, ci=[10, 90])"
   ]
  },
  {
   "cell_type": "code",
   "execution_count": 27,
   "metadata": {},
   "outputs": [
    {
     "data": {
      "text/plain": [
       "0.0708330371221071"
      ]
     },
     "execution_count": 27,
     "metadata": {},
     "output_type": "execute_result"
    }
   ],
   "source": [
    "gpu_price_growth.mean()"
   ]
  },
  {
   "cell_type": "markdown",
   "metadata": {},
   "source": [
    "# Training time"
   ]
  },
  {
   "cell_type": "code",
   "execution_count": null,
   "metadata": {},
   "outputs": [
    {
     "data": {
      "text/html": [
       "<div>\n",
       "<style scoped>\n",
       "    .dataframe tbody tr th:only-of-type {\n",
       "        vertical-align: middle;\n",
       "    }\n",
       "\n",
       "    .dataframe tbody tr th {\n",
       "        vertical-align: top;\n",
       "    }\n",
       "\n",
       "    .dataframe thead th {\n",
       "        text-align: right;\n",
       "    }\n",
       "</style>\n",
       "<table border=\"1\" class=\"dataframe\">\n",
       "  <thead>\n",
       "    <tr style=\"text-align: right;\">\n",
       "      <th></th>\n",
       "      <th>System</th>\n",
       "      <th>Domain</th>\n",
       "      <th>Task</th>\n",
       "      <th>Authors</th>\n",
       "      <th>Notability criteria</th>\n",
       "      <th>Notability criteria notes</th>\n",
       "      <th>Model accessibility</th>\n",
       "      <th>Link</th>\n",
       "      <th>Citations</th>\n",
       "      <th>Reference</th>\n",
       "      <th>...</th>\n",
       "      <th>Training compute lower bound</th>\n",
       "      <th>Training compute upper bound</th>\n",
       "      <th>Training chip-hours</th>\n",
       "      <th>Code accessibility</th>\n",
       "      <th>Dataset accessibility</th>\n",
       "      <th>Accessibility notes</th>\n",
       "      <th>Organization categorization (from Organization)</th>\n",
       "      <th>Possibly over 1e23 FLOP</th>\n",
       "      <th>Training cost trends 2</th>\n",
       "      <th>Training cost trends 3</th>\n",
       "    </tr>\n",
       "  </thead>\n",
       "  <tbody>\n",
       "    <tr>\n",
       "      <th>88</th>\n",
       "      <td>Gemini 1.0 Ultra</td>\n",
       "      <td>Multimodal,Language,Vision</td>\n",
       "      <td>Language modelling,Visual question answering,C...</td>\n",
       "      <td>Gemini Team</td>\n",
       "      <td>SOTA improvement</td>\n",
       "      <td>\" Evaluation on a broad range of benchmarks sh...</td>\n",
       "      <td>Hosted access (no API)</td>\n",
       "      <td>https://storage.googleapis.com/deepmind-media/...</td>\n",
       "      <td>633.0</td>\n",
       "      <td>Gemini: A Family of Highly Capable Multimodal ...</td>\n",
       "      <td>...</td>\n",
       "      <td>NaN</td>\n",
       "      <td>NaN</td>\n",
       "      <td>132000000.0</td>\n",
       "      <td>NaN</td>\n",
       "      <td>NaN</td>\n",
       "      <td>NaN</td>\n",
       "      <td>Industry</td>\n",
       "      <td>NaN</td>\n",
       "      <td>NaN</td>\n",
       "      <td>NaN</td>\n",
       "    </tr>\n",
       "    <tr>\n",
       "      <th>104</th>\n",
       "      <td>Inflection-2</td>\n",
       "      <td>Language</td>\n",
       "      <td>Language modelling</td>\n",
       "      <td>NaN</td>\n",
       "      <td>Significant use</td>\n",
       "      <td>Inflection-2 either already powers Pi or soon ...</td>\n",
       "      <td>Hosted access (no API)</td>\n",
       "      <td>https://inflection.ai/inflection-2</td>\n",
       "      <td>NaN</td>\n",
       "      <td>Inflection-2: The Next Step Up</td>\n",
       "      <td>...</td>\n",
       "      <td>NaN</td>\n",
       "      <td>NaN</td>\n",
       "      <td>NaN</td>\n",
       "      <td>NaN</td>\n",
       "      <td>NaN</td>\n",
       "      <td>via Pi, no API</td>\n",
       "      <td>Industry</td>\n",
       "      <td>NaN</td>\n",
       "      <td>NaN</td>\n",
       "      <td>NaN</td>\n",
       "    </tr>\n",
       "    <tr>\n",
       "      <th>130</th>\n",
       "      <td>Grok-1</td>\n",
       "      <td>Language</td>\n",
       "      <td>Language modelling,Chat</td>\n",
       "      <td>NaN</td>\n",
       "      <td>SOTA improvement</td>\n",
       "      <td>\"On these benchmarks, Grok-1 displayed strong ...</td>\n",
       "      <td>Open source</td>\n",
       "      <td>https://x.ai/model-card/, https://x.ai/blog/gr...</td>\n",
       "      <td>NaN</td>\n",
       "      <td>Announcing Grok</td>\n",
       "      <td>...</td>\n",
       "      <td>2</td>\n",
       "      <td>7.0</td>\n",
       "      <td>NaN</td>\n",
       "      <td>Unreleased</td>\n",
       "      <td>Unreleased</td>\n",
       "      <td>apache 2.0</td>\n",
       "      <td>Industry</td>\n",
       "      <td>checked</td>\n",
       "      <td>NaN</td>\n",
       "      <td>NaN</td>\n",
       "    </tr>\n",
       "    <tr>\n",
       "      <th>193</th>\n",
       "      <td>Falcon-180B</td>\n",
       "      <td>Language</td>\n",
       "      <td>Language modelling</td>\n",
       "      <td>Ebtesam Almazrouei, Hamza Alobeidli, Abdulaziz...</td>\n",
       "      <td>SOTA improvement</td>\n",
       "      <td>\"It's currently at the top of the Hugging Face...</td>\n",
       "      <td>Open access (restricted use)</td>\n",
       "      <td>https://falconllm.tii.ae/falcon-180b.html; htt...</td>\n",
       "      <td>86.0</td>\n",
       "      <td>The Falcon Series of Open Language Models</td>\n",
       "      <td>...</td>\n",
       "      <td>NaN</td>\n",
       "      <td>NaN</td>\n",
       "      <td>17694720.0</td>\n",
       "      <td>NaN</td>\n",
       "      <td>NaN</td>\n",
       "      <td>\"Falcon 180b can be commercially used but unde...</td>\n",
       "      <td>Government</td>\n",
       "      <td>checked</td>\n",
       "      <td>NaN</td>\n",
       "      <td>NaN</td>\n",
       "    </tr>\n",
       "    <tr>\n",
       "      <th>243</th>\n",
       "      <td>Claude 2</td>\n",
       "      <td>Language</td>\n",
       "      <td>Language modelling,Chat</td>\n",
       "      <td>NaN</td>\n",
       "      <td>Historical significance</td>\n",
       "      <td>NaN</td>\n",
       "      <td>API access</td>\n",
       "      <td>https://www.anthropic.com/index/claude-2, http...</td>\n",
       "      <td>0.0</td>\n",
       "      <td>NaN</td>\n",
       "      <td>...</td>\n",
       "      <td>NaN</td>\n",
       "      <td>NaN</td>\n",
       "      <td>NaN</td>\n",
       "      <td>NaN</td>\n",
       "      <td>NaN</td>\n",
       "      <td>NaN</td>\n",
       "      <td>Industry</td>\n",
       "      <td>NaN</td>\n",
       "      <td>NaN</td>\n",
       "      <td>NaN</td>\n",
       "    </tr>\n",
       "    <tr>\n",
       "      <th>...</th>\n",
       "      <td>...</td>\n",
       "      <td>...</td>\n",
       "      <td>...</td>\n",
       "      <td>...</td>\n",
       "      <td>...</td>\n",
       "      <td>...</td>\n",
       "      <td>...</td>\n",
       "      <td>...</td>\n",
       "      <td>...</td>\n",
       "      <td>...</td>\n",
       "      <td>...</td>\n",
       "      <td>...</td>\n",
       "      <td>...</td>\n",
       "      <td>...</td>\n",
       "      <td>...</td>\n",
       "      <td>...</td>\n",
       "      <td>...</td>\n",
       "      <td>...</td>\n",
       "      <td>...</td>\n",
       "      <td>...</td>\n",
       "      <td>...</td>\n",
       "    </tr>\n",
       "    <tr>\n",
       "      <th>1179</th>\n",
       "      <td>Xception</td>\n",
       "      <td>Vision</td>\n",
       "      <td>Image classification</td>\n",
       "      <td>François Chollet</td>\n",
       "      <td>Highly cited</td>\n",
       "      <td>NaN</td>\n",
       "      <td>NaN</td>\n",
       "      <td>https://arxiv.org/abs/1610.02357</td>\n",
       "      <td>11578.0</td>\n",
       "      <td>Xception: Deep Learning with Depthwise Separab...</td>\n",
       "      <td>...</td>\n",
       "      <td>NaN</td>\n",
       "      <td>NaN</td>\n",
       "      <td>43200.0</td>\n",
       "      <td>NaN</td>\n",
       "      <td>NaN</td>\n",
       "      <td>NaN</td>\n",
       "      <td>Industry</td>\n",
       "      <td>NaN</td>\n",
       "      <td>NaN</td>\n",
       "      <td>NaN</td>\n",
       "    </tr>\n",
       "    <tr>\n",
       "      <th>1180</th>\n",
       "      <td>GNMT</td>\n",
       "      <td>Language</td>\n",
       "      <td>Translation</td>\n",
       "      <td>Yonghui Wu, Mike Schuster, Zhifeng Chen, Quoc ...</td>\n",
       "      <td>Highly cited</td>\n",
       "      <td>NaN</td>\n",
       "      <td>Hosted access (no API)</td>\n",
       "      <td>https://arxiv.org/abs/1609.08144</td>\n",
       "      <td>6196.0</td>\n",
       "      <td>Google's Neural Machine Translation System: Br...</td>\n",
       "      <td>...</td>\n",
       "      <td>NaN</td>\n",
       "      <td>NaN</td>\n",
       "      <td>655730.0</td>\n",
       "      <td>NaN</td>\n",
       "      <td>NaN</td>\n",
       "      <td>presumably deployed via Google translate</td>\n",
       "      <td>Industry</td>\n",
       "      <td>NaN</td>\n",
       "      <td>NaN</td>\n",
       "      <td>NaN</td>\n",
       "    </tr>\n",
       "    <tr>\n",
       "      <th>1222</th>\n",
       "      <td>AlphaGo Lee</td>\n",
       "      <td>Games</td>\n",
       "      <td>Go</td>\n",
       "      <td>David Silver, Aja Huang, Chris J. Maddison, Ar...</td>\n",
       "      <td>Highly cited</td>\n",
       "      <td>NaN</td>\n",
       "      <td>NaN</td>\n",
       "      <td>https://www.nature.com/articles/nature16961</td>\n",
       "      <td>14887.0</td>\n",
       "      <td>Mastering the game of Go with deep neural netw...</td>\n",
       "      <td>...</td>\n",
       "      <td>NaN</td>\n",
       "      <td>NaN</td>\n",
       "      <td>NaN</td>\n",
       "      <td>NaN</td>\n",
       "      <td>NaN</td>\n",
       "      <td>NaN</td>\n",
       "      <td>Industry</td>\n",
       "      <td>NaN</td>\n",
       "      <td>NaN</td>\n",
       "      <td>NaN</td>\n",
       "    </tr>\n",
       "    <tr>\n",
       "      <th>1226</th>\n",
       "      <td>ResNet-152 (ImageNet)</td>\n",
       "      <td>Vision</td>\n",
       "      <td>Image classification</td>\n",
       "      <td>Kaiming He, Xiangyu Zhang, Shaoqing Ren, Jian Sun</td>\n",
       "      <td>Highly cited</td>\n",
       "      <td>NaN</td>\n",
       "      <td>NaN</td>\n",
       "      <td>https://arxiv.org/abs/1512.03385</td>\n",
       "      <td>156882.0</td>\n",
       "      <td>Deep Residual Learning for Image Recognition</td>\n",
       "      <td>...</td>\n",
       "      <td>NaN</td>\n",
       "      <td>NaN</td>\n",
       "      <td>NaN</td>\n",
       "      <td>NaN</td>\n",
       "      <td>NaN</td>\n",
       "      <td>NaN</td>\n",
       "      <td>Industry</td>\n",
       "      <td>NaN</td>\n",
       "      <td>NaN</td>\n",
       "      <td>NaN</td>\n",
       "    </tr>\n",
       "    <tr>\n",
       "      <th>1228</th>\n",
       "      <td>DeepSpeech2 (English)</td>\n",
       "      <td>Speech</td>\n",
       "      <td>Speech recognition</td>\n",
       "      <td>Dario Amodei, Rishita Anubhai, Eric Battenberg...</td>\n",
       "      <td>Highly cited</td>\n",
       "      <td>NaN</td>\n",
       "      <td>NaN</td>\n",
       "      <td>https://arxiv.org/abs/1512.02595</td>\n",
       "      <td>2749.0</td>\n",
       "      <td>Deep Speech 2: End-to-End Speech Recognition i...</td>\n",
       "      <td>...</td>\n",
       "      <td>NaN</td>\n",
       "      <td>NaN</td>\n",
       "      <td>1920.0</td>\n",
       "      <td>NaN</td>\n",
       "      <td>NaN</td>\n",
       "      <td>NaN</td>\n",
       "      <td>Industry</td>\n",
       "      <td>NaN</td>\n",
       "      <td>NaN</td>\n",
       "      <td>NaN</td>\n",
       "    </tr>\n",
       "  </tbody>\n",
       "</table>\n",
       "<p>64 rows × 60 columns</p>\n",
       "</div>"
      ],
      "text/plain": [
       "                     System                      Domain  \\\n",
       "88         Gemini 1.0 Ultra  Multimodal,Language,Vision   \n",
       "104            Inflection-2                    Language   \n",
       "130                  Grok-1                    Language   \n",
       "193             Falcon-180B                    Language   \n",
       "243                Claude 2                    Language   \n",
       "...                     ...                         ...   \n",
       "1179               Xception                      Vision   \n",
       "1180                   GNMT                    Language   \n",
       "1222            AlphaGo Lee                       Games   \n",
       "1226  ResNet-152 (ImageNet)                      Vision   \n",
       "1228  DeepSpeech2 (English)                      Speech   \n",
       "\n",
       "                                                   Task  \\\n",
       "88    Language modelling,Visual question answering,C...   \n",
       "104                                  Language modelling   \n",
       "130                             Language modelling,Chat   \n",
       "193                                  Language modelling   \n",
       "243                             Language modelling,Chat   \n",
       "...                                                 ...   \n",
       "1179                               Image classification   \n",
       "1180                                        Translation   \n",
       "1222                                                 Go   \n",
       "1226                               Image classification   \n",
       "1228                                 Speech recognition   \n",
       "\n",
       "                                                Authors  \\\n",
       "88                                          Gemini Team   \n",
       "104                                                 NaN   \n",
       "130                                                 NaN   \n",
       "193   Ebtesam Almazrouei, Hamza Alobeidli, Abdulaziz...   \n",
       "243                                                 NaN   \n",
       "...                                                 ...   \n",
       "1179                                   François Chollet   \n",
       "1180  Yonghui Wu, Mike Schuster, Zhifeng Chen, Quoc ...   \n",
       "1222  David Silver, Aja Huang, Chris J. Maddison, Ar...   \n",
       "1226  Kaiming He, Xiangyu Zhang, Shaoqing Ren, Jian Sun   \n",
       "1228  Dario Amodei, Rishita Anubhai, Eric Battenberg...   \n",
       "\n",
       "          Notability criteria  \\\n",
       "88           SOTA improvement   \n",
       "104           Significant use   \n",
       "130          SOTA improvement   \n",
       "193          SOTA improvement   \n",
       "243   Historical significance   \n",
       "...                       ...   \n",
       "1179             Highly cited   \n",
       "1180             Highly cited   \n",
       "1222             Highly cited   \n",
       "1226             Highly cited   \n",
       "1228             Highly cited   \n",
       "\n",
       "                              Notability criteria notes  \\\n",
       "88    \" Evaluation on a broad range of benchmarks sh...   \n",
       "104   Inflection-2 either already powers Pi or soon ...   \n",
       "130   \"On these benchmarks, Grok-1 displayed strong ...   \n",
       "193   \"It's currently at the top of the Hugging Face...   \n",
       "243                                                 NaN   \n",
       "...                                                 ...   \n",
       "1179                                                NaN   \n",
       "1180                                                NaN   \n",
       "1222                                                NaN   \n",
       "1226                                                NaN   \n",
       "1228                                                NaN   \n",
       "\n",
       "               Model accessibility  \\\n",
       "88          Hosted access (no API)   \n",
       "104         Hosted access (no API)   \n",
       "130                    Open source   \n",
       "193   Open access (restricted use)   \n",
       "243                     API access   \n",
       "...                            ...   \n",
       "1179                           NaN   \n",
       "1180        Hosted access (no API)   \n",
       "1222                           NaN   \n",
       "1226                           NaN   \n",
       "1228                           NaN   \n",
       "\n",
       "                                                   Link  Citations  \\\n",
       "88    https://storage.googleapis.com/deepmind-media/...      633.0   \n",
       "104                  https://inflection.ai/inflection-2        NaN   \n",
       "130   https://x.ai/model-card/, https://x.ai/blog/gr...        NaN   \n",
       "193   https://falconllm.tii.ae/falcon-180b.html; htt...       86.0   \n",
       "243   https://www.anthropic.com/index/claude-2, http...        0.0   \n",
       "...                                                 ...        ...   \n",
       "1179                   https://arxiv.org/abs/1610.02357    11578.0   \n",
       "1180                   https://arxiv.org/abs/1609.08144     6196.0   \n",
       "1222        https://www.nature.com/articles/nature16961    14887.0   \n",
       "1226                   https://arxiv.org/abs/1512.03385   156882.0   \n",
       "1228                   https://arxiv.org/abs/1512.02595     2749.0   \n",
       "\n",
       "                                              Reference  ...  \\\n",
       "88    Gemini: A Family of Highly Capable Multimodal ...  ...   \n",
       "104                      Inflection-2: The Next Step Up  ...   \n",
       "130                                     Announcing Grok  ...   \n",
       "193           The Falcon Series of Open Language Models  ...   \n",
       "243                                                 NaN  ...   \n",
       "...                                                 ...  ...   \n",
       "1179  Xception: Deep Learning with Depthwise Separab...  ...   \n",
       "1180  Google's Neural Machine Translation System: Br...  ...   \n",
       "1222  Mastering the game of Go with deep neural netw...  ...   \n",
       "1226       Deep Residual Learning for Image Recognition  ...   \n",
       "1228  Deep Speech 2: End-to-End Speech Recognition i...  ...   \n",
       "\n",
       "     Training compute lower bound Training compute upper bound  \\\n",
       "88                            NaN                          NaN   \n",
       "104                           NaN                          NaN   \n",
       "130                             2                          7.0   \n",
       "193                           NaN                          NaN   \n",
       "243                           NaN                          NaN   \n",
       "...                           ...                          ...   \n",
       "1179                          NaN                          NaN   \n",
       "1180                          NaN                          NaN   \n",
       "1222                          NaN                          NaN   \n",
       "1226                          NaN                          NaN   \n",
       "1228                          NaN                          NaN   \n",
       "\n",
       "      Training chip-hours Code accessibility  Dataset accessibility  \\\n",
       "88            132000000.0                NaN                    NaN   \n",
       "104                   NaN                NaN                    NaN   \n",
       "130                   NaN         Unreleased             Unreleased   \n",
       "193            17694720.0                NaN                    NaN   \n",
       "243                   NaN                NaN                    NaN   \n",
       "...                   ...                ...                    ...   \n",
       "1179              43200.0                NaN                    NaN   \n",
       "1180             655730.0                NaN                    NaN   \n",
       "1222                  NaN                NaN                    NaN   \n",
       "1226                  NaN                NaN                    NaN   \n",
       "1228               1920.0                NaN                    NaN   \n",
       "\n",
       "                                    Accessibility notes  \\\n",
       "88                                                  NaN   \n",
       "104                                      via Pi, no API   \n",
       "130                                          apache 2.0   \n",
       "193   \"Falcon 180b can be commercially used but unde...   \n",
       "243                                                 NaN   \n",
       "...                                                 ...   \n",
       "1179                                                NaN   \n",
       "1180           presumably deployed via Google translate   \n",
       "1222                                                NaN   \n",
       "1226                                                NaN   \n",
       "1228                                                NaN   \n",
       "\n",
       "     Organization categorization (from Organization) Possibly over 1e23 FLOP  \\\n",
       "88                                          Industry                     NaN   \n",
       "104                                         Industry                     NaN   \n",
       "130                                         Industry                 checked   \n",
       "193                                       Government                 checked   \n",
       "243                                         Industry                     NaN   \n",
       "...                                              ...                     ...   \n",
       "1179                                        Industry                     NaN   \n",
       "1180                                        Industry                     NaN   \n",
       "1222                                        Industry                     NaN   \n",
       "1226                                        Industry                     NaN   \n",
       "1228                                        Industry                     NaN   \n",
       "\n",
       "      Training cost trends 2 Training cost trends 3  \n",
       "88                       NaN                    NaN  \n",
       "104                      NaN                    NaN  \n",
       "130                      NaN                    NaN  \n",
       "193                      NaN                    NaN  \n",
       "243                      NaN                    NaN  \n",
       "...                      ...                    ...  \n",
       "1179                     NaN                    NaN  \n",
       "1180                     NaN                    NaN  \n",
       "1222                     NaN                    NaN  \n",
       "1226                     NaN                    NaN  \n",
       "1228                     NaN                    NaN  \n",
       "\n",
       "[64 rows x 60 columns]"
      ]
     },
     "execution_count": 12,
     "metadata": {},
     "output_type": "execute_result"
    }
   ],
   "source": [
    "frontier_pcd_df, hardware_df, price_df = load_data_for_cost_estimation(compute_threshold_method=\"top_n\", compute_threshold=10)\n",
    "frontier_pcd_df"
   ]
  },
  {
   "cell_type": "code",
   "execution_count": null,
   "metadata": {},
   "outputs": [
    {
     "data": {
      "text/html": [
       "<div>\n",
       "<style scoped>\n",
       "    .dataframe tbody tr th:only-of-type {\n",
       "        vertical-align: middle;\n",
       "    }\n",
       "\n",
       "    .dataframe tbody tr th {\n",
       "        vertical-align: top;\n",
       "    }\n",
       "\n",
       "    .dataframe thead th {\n",
       "        text-align: right;\n",
       "    }\n",
       "</style>\n",
       "<table border=\"1\" class=\"dataframe\">\n",
       "  <thead>\n",
       "    <tr style=\"text-align: right;\">\n",
       "      <th></th>\n",
       "      <th>System</th>\n",
       "      <th>Domain</th>\n",
       "      <th>Task</th>\n",
       "      <th>Authors</th>\n",
       "      <th>Notability criteria</th>\n",
       "      <th>Notability criteria notes</th>\n",
       "      <th>Model accessibility</th>\n",
       "      <th>Link</th>\n",
       "      <th>Citations</th>\n",
       "      <th>Reference</th>\n",
       "      <th>...</th>\n",
       "      <th>Training compute lower bound</th>\n",
       "      <th>Training compute upper bound</th>\n",
       "      <th>Training chip-hours</th>\n",
       "      <th>Code accessibility</th>\n",
       "      <th>Dataset accessibility</th>\n",
       "      <th>Accessibility notes</th>\n",
       "      <th>Organization categorization (from Organization)</th>\n",
       "      <th>Possibly over 1e23 FLOP</th>\n",
       "      <th>Training cost trends 2</th>\n",
       "      <th>Training cost trends 3</th>\n",
       "    </tr>\n",
       "  </thead>\n",
       "  <tbody>\n",
       "    <tr>\n",
       "      <th>88</th>\n",
       "      <td>Gemini 1.0 Ultra</td>\n",
       "      <td>Multimodal,Language,Vision</td>\n",
       "      <td>Language modelling,Visual question answering,C...</td>\n",
       "      <td>Gemini Team</td>\n",
       "      <td>SOTA improvement</td>\n",
       "      <td>\" Evaluation on a broad range of benchmarks sh...</td>\n",
       "      <td>Hosted access (no API)</td>\n",
       "      <td>https://storage.googleapis.com/deepmind-media/...</td>\n",
       "      <td>633.0</td>\n",
       "      <td>Gemini: A Family of Highly Capable Multimodal ...</td>\n",
       "      <td>...</td>\n",
       "      <td>NaN</td>\n",
       "      <td>NaN</td>\n",
       "      <td>132000000.0</td>\n",
       "      <td>NaN</td>\n",
       "      <td>NaN</td>\n",
       "      <td>NaN</td>\n",
       "      <td>Industry</td>\n",
       "      <td>NaN</td>\n",
       "      <td>NaN</td>\n",
       "      <td>NaN</td>\n",
       "    </tr>\n",
       "    <tr>\n",
       "      <th>193</th>\n",
       "      <td>Falcon-180B</td>\n",
       "      <td>Language</td>\n",
       "      <td>Language modelling</td>\n",
       "      <td>Ebtesam Almazrouei, Hamza Alobeidli, Abdulaziz...</td>\n",
       "      <td>SOTA improvement</td>\n",
       "      <td>\"It's currently at the top of the Hugging Face...</td>\n",
       "      <td>Open access (restricted use)</td>\n",
       "      <td>https://falconllm.tii.ae/falcon-180b.html; htt...</td>\n",
       "      <td>86.0</td>\n",
       "      <td>The Falcon Series of Open Language Models</td>\n",
       "      <td>...</td>\n",
       "      <td>NaN</td>\n",
       "      <td>NaN</td>\n",
       "      <td>17694720.0</td>\n",
       "      <td>NaN</td>\n",
       "      <td>NaN</td>\n",
       "      <td>\"Falcon 180b can be commercially used but unde...</td>\n",
       "      <td>Government</td>\n",
       "      <td>checked</td>\n",
       "      <td>NaN</td>\n",
       "      <td>NaN</td>\n",
       "    </tr>\n",
       "    <tr>\n",
       "      <th>336</th>\n",
       "      <td>GPT-4</td>\n",
       "      <td>Multimodal,Language,Vision,Image generation</td>\n",
       "      <td>Language modelling</td>\n",
       "      <td>OpenAI, Josh Achiam, Steven Adler, Sandhini Ag...</td>\n",
       "      <td>Highly cited,SOTA improvement</td>\n",
       "      <td>See the paper, p.1: \"On a suite of traditional...</td>\n",
       "      <td>API access</td>\n",
       "      <td>https://arxiv.org/abs/2303.08774</td>\n",
       "      <td>3280.0</td>\n",
       "      <td>GPT-4 Technical Report</td>\n",
       "      <td>...</td>\n",
       "      <td>NaN</td>\n",
       "      <td>NaN</td>\n",
       "      <td>57000000.0</td>\n",
       "      <td>NaN</td>\n",
       "      <td>NaN</td>\n",
       "      <td>NaN</td>\n",
       "      <td>Industry</td>\n",
       "      <td>NaN</td>\n",
       "      <td>NaN</td>\n",
       "      <td>NaN</td>\n",
       "    </tr>\n",
       "    <tr>\n",
       "      <th>408</th>\n",
       "      <td>BLOOM-176B</td>\n",
       "      <td>Language</td>\n",
       "      <td>Language modelling</td>\n",
       "      <td>Margaret Mitchell, Giada Pistilli, Yacine Jern...</td>\n",
       "      <td>Historical significance,Highly cited</td>\n",
       "      <td>Was the largest open-source model at the time....</td>\n",
       "      <td>Open access (restricted use)</td>\n",
       "      <td>https://arxiv.org/abs/2211.05100</td>\n",
       "      <td>1313.0</td>\n",
       "      <td>BLOOM: A 176B-Parameter Open-Access Multilingu...</td>\n",
       "      <td>...</td>\n",
       "      <td>NaN</td>\n",
       "      <td>NaN</td>\n",
       "      <td>1078272.0</td>\n",
       "      <td>NaN</td>\n",
       "      <td>NaN</td>\n",
       "      <td>responsible use restrictions: https://bigscien...</td>\n",
       "      <td>Industry,Research collective</td>\n",
       "      <td>NaN</td>\n",
       "      <td>NaN</td>\n",
       "      <td>NaN</td>\n",
       "    </tr>\n",
       "    <tr>\n",
       "      <th>423</th>\n",
       "      <td>U-PaLM (540B)</td>\n",
       "      <td>Language</td>\n",
       "      <td>Language generation</td>\n",
       "      <td>Yi Tay, Jason Wei, Hyung Won Chung, Vinh Q. Tr...</td>\n",
       "      <td>SOTA improvement</td>\n",
       "      <td>\"We show that U-PaLM 540B outperforms PaLM 540...</td>\n",
       "      <td>Unreleased</td>\n",
       "      <td>https://arxiv.org/abs/2210.11399</td>\n",
       "      <td>45.0</td>\n",
       "      <td>Transcending Scaling Laws with 0.1% Extra Compute</td>\n",
       "      <td>...</td>\n",
       "      <td>NaN</td>\n",
       "      <td>NaN</td>\n",
       "      <td>61440.0</td>\n",
       "      <td>NaN</td>\n",
       "      <td>NaN</td>\n",
       "      <td>NaN</td>\n",
       "      <td>Industry</td>\n",
       "      <td>NaN</td>\n",
       "      <td>NaN</td>\n",
       "      <td>NaN</td>\n",
       "    </tr>\n",
       "    <tr>\n",
       "      <th>425</th>\n",
       "      <td>Flan-PaLM 540B</td>\n",
       "      <td>Language</td>\n",
       "      <td>Language modelling/generation</td>\n",
       "      <td>Hyung Won Chung, Le Hou, Shayne Longpre, Barre...</td>\n",
       "      <td>Highly cited,SOTA improvement</td>\n",
       "      <td>&gt;1k cites\\n\\n\"Flan-PaLM 540B achieves state-of...</td>\n",
       "      <td>Unreleased</td>\n",
       "      <td>https://arxiv.org/abs/2210.11416</td>\n",
       "      <td>1615.0</td>\n",
       "      <td>Scaling Instruction-Finetuned Language Models</td>\n",
       "      <td>...</td>\n",
       "      <td>NaN</td>\n",
       "      <td>NaN</td>\n",
       "      <td>18944.0</td>\n",
       "      <td>NaN</td>\n",
       "      <td>NaN</td>\n",
       "      <td>NaN</td>\n",
       "      <td>Industry</td>\n",
       "      <td>NaN</td>\n",
       "      <td>NaN</td>\n",
       "      <td>NaN</td>\n",
       "    </tr>\n",
       "    <tr>\n",
       "      <th>449</th>\n",
       "      <td>GLM-130B</td>\n",
       "      <td>Language</td>\n",
       "      <td>NaN</td>\n",
       "      <td>Aohan Zeng, Xiao Liu, Zhengxiao Du, Zihan Wang...</td>\n",
       "      <td>SOTA improvement</td>\n",
       "      <td>\"GLM-130B achieves an accuracy of 80.2% on zer...</td>\n",
       "      <td>Open access (non-commercial)</td>\n",
       "      <td>https://keg.cs.tsinghua.edu.cn/glm-130b/posts/...</td>\n",
       "      <td>641.0</td>\n",
       "      <td>GLM-130B: An Open Bilingual Pre-trained Model</td>\n",
       "      <td>...</td>\n",
       "      <td>NaN</td>\n",
       "      <td>NaN</td>\n",
       "      <td>1105920.0</td>\n",
       "      <td>NaN</td>\n",
       "      <td>NaN</td>\n",
       "      <td>non commercial: https://github.com/THUDM/GLM-1...</td>\n",
       "      <td>Academia</td>\n",
       "      <td>NaN</td>\n",
       "      <td>NaN</td>\n",
       "      <td>NaN</td>\n",
       "    </tr>\n",
       "    <tr>\n",
       "      <th>471</th>\n",
       "      <td>Minerva (540B)</td>\n",
       "      <td>Language</td>\n",
       "      <td>Quantitative reasoning</td>\n",
       "      <td>Aitor Lewkowycz, Anders Andreassen, David Doha...</td>\n",
       "      <td>SOTA improvement</td>\n",
       "      <td>NaN</td>\n",
       "      <td>Unreleased</td>\n",
       "      <td>https://arxiv.org/abs/2206.14858</td>\n",
       "      <td>427.0</td>\n",
       "      <td>Solving Quantitative Reasoning Problems with L...</td>\n",
       "      <td>...</td>\n",
       "      <td>NaN</td>\n",
       "      <td>NaN</td>\n",
       "      <td>712704.0</td>\n",
       "      <td>Unreleased</td>\n",
       "      <td>Unreleased</td>\n",
       "      <td>NaN</td>\n",
       "      <td>Industry</td>\n",
       "      <td>NaN</td>\n",
       "      <td>NaN</td>\n",
       "      <td>NaN</td>\n",
       "    </tr>\n",
       "    <tr>\n",
       "      <th>514</th>\n",
       "      <td>OPT-175B</td>\n",
       "      <td>Language</td>\n",
       "      <td>Language modelling</td>\n",
       "      <td>Susan Zhang∗ , Stephen Roller∗ , Naman Goyal∗ ...</td>\n",
       "      <td>Significant use,Highly cited</td>\n",
       "      <td>https://ai.meta.com/blog/opt-175b-large-langua...</td>\n",
       "      <td>Open access (non-commercial)</td>\n",
       "      <td>https://ai.facebook.com/blog/democratizing-acc...</td>\n",
       "      <td>1987.0</td>\n",
       "      <td>OPT: Open Pre-trained Transformer Language Models</td>\n",
       "      <td>...</td>\n",
       "      <td>NaN</td>\n",
       "      <td>NaN</td>\n",
       "      <td>812544.0</td>\n",
       "      <td>Open source</td>\n",
       "      <td>NaN</td>\n",
       "      <td>non-commercial for weights:\\nhttps://github.co...</td>\n",
       "      <td>Industry</td>\n",
       "      <td>NaN</td>\n",
       "      <td>NaN</td>\n",
       "      <td>NaN</td>\n",
       "    </tr>\n",
       "    <tr>\n",
       "      <th>524</th>\n",
       "      <td>PaLM (540B)</td>\n",
       "      <td>Language</td>\n",
       "      <td>Language modelling</td>\n",
       "      <td>Aakanksha Chowdhery, Sharan Narang, Jacob Devl...</td>\n",
       "      <td>Highly cited,SOTA improvement</td>\n",
       "      <td>Demonstrates continued benefits of scaling, as...</td>\n",
       "      <td>Unreleased</td>\n",
       "      <td>https://arxiv.org/abs/2204.02311</td>\n",
       "      <td>3532.0</td>\n",
       "      <td>PaLM: Scaling Language Modeling with Pathways</td>\n",
       "      <td>...</td>\n",
       "      <td>NaN</td>\n",
       "      <td>NaN</td>\n",
       "      <td>8404992.0</td>\n",
       "      <td>NaN</td>\n",
       "      <td>NaN</td>\n",
       "      <td>NaN</td>\n",
       "      <td>Industry</td>\n",
       "      <td>NaN</td>\n",
       "      <td>NaN</td>\n",
       "      <td>NaN</td>\n",
       "    </tr>\n",
       "    <tr>\n",
       "      <th>546</th>\n",
       "      <td>LaMDA</td>\n",
       "      <td>Language</td>\n",
       "      <td>Language modelling</td>\n",
       "      <td>Romal Thoppilan, Daniel De Freitas, Jamie Hall...</td>\n",
       "      <td>Historical significance</td>\n",
       "      <td>NaN</td>\n",
       "      <td>Unreleased</td>\n",
       "      <td>https://arxiv.org/abs/2201.08239</td>\n",
       "      <td>1082.0</td>\n",
       "      <td>LaMDA: Language Models for Dialog Applications</td>\n",
       "      <td>...</td>\n",
       "      <td>NaN</td>\n",
       "      <td>NaN</td>\n",
       "      <td>1418240.0</td>\n",
       "      <td>NaN</td>\n",
       "      <td>NaN</td>\n",
       "      <td>NaN</td>\n",
       "      <td>Industry</td>\n",
       "      <td>NaN</td>\n",
       "      <td>NaN</td>\n",
       "      <td>NaN</td>\n",
       "    </tr>\n",
       "    <tr>\n",
       "      <th>576</th>\n",
       "      <td>GLaM</td>\n",
       "      <td>Language</td>\n",
       "      <td>NaN</td>\n",
       "      <td>Nan Du, Yanping Huang, Andrew M. Dai, Simon To...</td>\n",
       "      <td>SOTA improvement</td>\n",
       "      <td>\"As shown in Table 5, GLaM (64B/64E) is better...</td>\n",
       "      <td>Unreleased</td>\n",
       "      <td>https://arxiv.org/abs/2112.06905</td>\n",
       "      <td>440.0</td>\n",
       "      <td>GLaM: Efficient Scaling of Language Models wit...</td>\n",
       "      <td>...</td>\n",
       "      <td>NaN</td>\n",
       "      <td>NaN</td>\n",
       "      <td>1398784.0</td>\n",
       "      <td>Unreleased</td>\n",
       "      <td>Unreleased</td>\n",
       "      <td>NaN</td>\n",
       "      <td>Industry</td>\n",
       "      <td>NaN</td>\n",
       "      <td>NaN</td>\n",
       "      <td>NaN</td>\n",
       "    </tr>\n",
       "    <tr>\n",
       "      <th>580</th>\n",
       "      <td>Gopher (280B)</td>\n",
       "      <td>Language</td>\n",
       "      <td>Language modelling</td>\n",
       "      <td>Jack W. Rae, Sebastian Borgeaud, Trevor Cai, K...</td>\n",
       "      <td>SOTA improvement</td>\n",
       "      <td>\"These models are evaluated on 152 diverse tas...</td>\n",
       "      <td>Unreleased</td>\n",
       "      <td>https://arxiv.org/abs/2112.11446</td>\n",
       "      <td>917.0</td>\n",
       "      <td>\"Scaling Language Models: Methods, Analysis &amp; ...</td>\n",
       "      <td>...</td>\n",
       "      <td>NaN</td>\n",
       "      <td>NaN</td>\n",
       "      <td>3768320.0</td>\n",
       "      <td>Unreleased</td>\n",
       "      <td>Unreleased</td>\n",
       "      <td>NaN</td>\n",
       "      <td>Industry</td>\n",
       "      <td>NaN</td>\n",
       "      <td>NaN</td>\n",
       "      <td>NaN</td>\n",
       "    </tr>\n",
       "    <tr>\n",
       "      <th>622</th>\n",
       "      <td>Megatron-Turing NLG 530B</td>\n",
       "      <td>Language</td>\n",
       "      <td>Language modelling</td>\n",
       "      <td>Shaden Smith, Mostofa Patwary, Brandon Norick,...</td>\n",
       "      <td>SOTA improvement</td>\n",
       "      <td>The 105-layer, transformer-based MT-NLG improv...</td>\n",
       "      <td>Unreleased</td>\n",
       "      <td>https://arxiv.org/abs/2201.11990</td>\n",
       "      <td>544.0</td>\n",
       "      <td>Using DeepSpeed and Megatron to Train Megatron...</td>\n",
       "      <td>...</td>\n",
       "      <td>NaN</td>\n",
       "      <td>NaN</td>\n",
       "      <td>3449600.0</td>\n",
       "      <td>Unreleased</td>\n",
       "      <td>NaN</td>\n",
       "      <td>NaN</td>\n",
       "      <td>Industry,Industry</td>\n",
       "      <td>checked</td>\n",
       "      <td>NaN</td>\n",
       "      <td>NaN</td>\n",
       "    </tr>\n",
       "    <tr>\n",
       "      <th>629</th>\n",
       "      <td>HyperCLOVA 82B</td>\n",
       "      <td>Language</td>\n",
       "      <td>NaN</td>\n",
       "      <td>Boseop Kim, HyoungSeok Kim, Sang-Woo Lee, Gich...</td>\n",
       "      <td>SOTA improvement</td>\n",
       "      <td>\"HyperCLOVA with our training configuration sh...</td>\n",
       "      <td>API access</td>\n",
       "      <td>https://arxiv.org/abs/2109.04650</td>\n",
       "      <td>92.0</td>\n",
       "      <td>What Changes Can Large-scale Language Models B...</td>\n",
       "      <td>...</td>\n",
       "      <td>NaN</td>\n",
       "      <td>NaN</td>\n",
       "      <td>658637.0</td>\n",
       "      <td>Unreleased</td>\n",
       "      <td>NaN</td>\n",
       "      <td>\"We introduce HyperCLOVA Studio, an interactiv...</td>\n",
       "      <td>Industry,Industry</td>\n",
       "      <td>checked</td>\n",
       "      <td>NaN</td>\n",
       "      <td>NaN</td>\n",
       "    </tr>\n",
       "    <tr>\n",
       "      <th>718</th>\n",
       "      <td>Meta Pseudo Labels</td>\n",
       "      <td>Vision</td>\n",
       "      <td>Image classification</td>\n",
       "      <td>Hieu Pham, Zihang Dai, Qizhe Xie, Minh-Thang L...</td>\n",
       "      <td>SOTA improvement</td>\n",
       "      <td>NaN</td>\n",
       "      <td>Unreleased</td>\n",
       "      <td>https://arxiv.org/abs/2003.10580</td>\n",
       "      <td>535.0</td>\n",
       "      <td>Meta pseudo labels</td>\n",
       "      <td>...</td>\n",
       "      <td>NaN</td>\n",
       "      <td>NaN</td>\n",
       "      <td>270336.0</td>\n",
       "      <td>Open source</td>\n",
       "      <td>NaN</td>\n",
       "      <td>Apache-2.0 license\\nhttps://github.com/google-...</td>\n",
       "      <td>Industry,Industry</td>\n",
       "      <td>NaN</td>\n",
       "      <td>NaN</td>\n",
       "      <td>NaN</td>\n",
       "    </tr>\n",
       "    <tr>\n",
       "      <th>734</th>\n",
       "      <td>Switch</td>\n",
       "      <td>Language</td>\n",
       "      <td>Text autocompletion</td>\n",
       "      <td>William Fedus, Barret Zoph, Noam Shazeer</td>\n",
       "      <td>Highly cited,SOTA improvement</td>\n",
       "      <td>\" On ANLI (Nie et al., 2019), Switch XXL impro...</td>\n",
       "      <td>Open source</td>\n",
       "      <td>https://arxiv.org/abs/2101.03961</td>\n",
       "      <td>1163.0</td>\n",
       "      <td>Switch Transformers: Scaling to Trillion Param...</td>\n",
       "      <td>...</td>\n",
       "      <td>NaN</td>\n",
       "      <td>NaN</td>\n",
       "      <td>663552.0</td>\n",
       "      <td>Open source</td>\n",
       "      <td>NaN</td>\n",
       "      <td>Apache 2\\nhttps://github.com/google-research/t...</td>\n",
       "      <td>Industry</td>\n",
       "      <td>NaN</td>\n",
       "      <td>NaN</td>\n",
       "      <td>NaN</td>\n",
       "    </tr>\n",
       "    <tr>\n",
       "      <th>806</th>\n",
       "      <td>GPT-3 175B (davinci)</td>\n",
       "      <td>Language</td>\n",
       "      <td>Text autocompletion</td>\n",
       "      <td>Tom B. Brown, Benjamin Mann, Nick Ryder, Melan...</td>\n",
       "      <td>Highly cited</td>\n",
       "      <td>NaN</td>\n",
       "      <td>API access</td>\n",
       "      <td>https://arxiv.org/abs/2005.14165</td>\n",
       "      <td>23023.0</td>\n",
       "      <td>Language Models are Few-Shot Learners</td>\n",
       "      <td>...</td>\n",
       "      <td>NaN</td>\n",
       "      <td>NaN</td>\n",
       "      <td>3552000.0</td>\n",
       "      <td>Unreleased</td>\n",
       "      <td>NaN</td>\n",
       "      <td>https://openai.com/blog/openai-api\\n</td>\n",
       "      <td>Industry</td>\n",
       "      <td>NaN</td>\n",
       "      <td>NaN</td>\n",
       "      <td>NaN</td>\n",
       "    </tr>\n",
       "    <tr>\n",
       "      <th>846</th>\n",
       "      <td>Meena</td>\n",
       "      <td>Language</td>\n",
       "      <td>Text autocompletion</td>\n",
       "      <td>Dongling Xiao, Han Zhang, Yukun Li, Yu Sun, Ha...</td>\n",
       "      <td>SOTA improvement</td>\n",
       "      <td>\"We also propose a human evaluation metric cal...</td>\n",
       "      <td>Unreleased</td>\n",
       "      <td>https://arxiv.org/abs/2001.09977</td>\n",
       "      <td>805.0</td>\n",
       "      <td>Towards a Human-like Open-Domain Chatbot</td>\n",
       "      <td>...</td>\n",
       "      <td>NaN</td>\n",
       "      <td>NaN</td>\n",
       "      <td>737280.0</td>\n",
       "      <td>NaN</td>\n",
       "      <td>NaN</td>\n",
       "      <td>NaN</td>\n",
       "      <td>Industry</td>\n",
       "      <td>NaN</td>\n",
       "      <td>NaN</td>\n",
       "      <td>NaN</td>\n",
       "    </tr>\n",
       "    <tr>\n",
       "      <th>853</th>\n",
       "      <td>OpenAI Five</td>\n",
       "      <td>Games</td>\n",
       "      <td>Dota 2</td>\n",
       "      <td>Christopher Berner, Greg Brockman, Brooke Chan...</td>\n",
       "      <td>Highly cited,SOTA improvement</td>\n",
       "      <td>\"On April 13th, 2019, OpenAI Five became the f...</td>\n",
       "      <td>Unreleased</td>\n",
       "      <td>https://arxiv.org/abs/1912.06680</td>\n",
       "      <td>1420.0</td>\n",
       "      <td>Dota 2 with Large Scale Deep Reinforcement Lea...</td>\n",
       "      <td>...</td>\n",
       "      <td>NaN</td>\n",
       "      <td>NaN</td>\n",
       "      <td>10911744.0</td>\n",
       "      <td>Unreleased</td>\n",
       "      <td>Unreleased</td>\n",
       "      <td>NaN</td>\n",
       "      <td>Industry</td>\n",
       "      <td>NaN</td>\n",
       "      <td>NaN</td>\n",
       "      <td>NaN</td>\n",
       "    </tr>\n",
       "    <tr>\n",
       "      <th>873</th>\n",
       "      <td>AlphaStar</td>\n",
       "      <td>Games</td>\n",
       "      <td>StarCraft</td>\n",
       "      <td>Oriol Vinyals,Igor Babuschkin,Wojciech M. Czar...</td>\n",
       "      <td>Highly cited</td>\n",
       "      <td>NaN</td>\n",
       "      <td>Unreleased</td>\n",
       "      <td>https://www.deepmind.com/blog/alphastar-grandm...</td>\n",
       "      <td>2870.0</td>\n",
       "      <td>Grandmaster level in StarCraft II using multi-...</td>\n",
       "      <td>...</td>\n",
       "      <td>NaN</td>\n",
       "      <td>NaN</td>\n",
       "      <td>405504.0</td>\n",
       "      <td>Open source</td>\n",
       "      <td>Unreleased</td>\n",
       "      <td>Apache 2.0, training tools only: https://githu...</td>\n",
       "      <td>Industry</td>\n",
       "      <td>NaN</td>\n",
       "      <td>NaN</td>\n",
       "      <td>NaN</td>\n",
       "    </tr>\n",
       "    <tr>\n",
       "      <th>877</th>\n",
       "      <td>T5-11B</td>\n",
       "      <td>Language</td>\n",
       "      <td>Text autocompletion</td>\n",
       "      <td>Colin Raffel, Noam Shazeer, Adam Roberts, Kath...</td>\n",
       "      <td>Highly cited</td>\n",
       "      <td>NaN</td>\n",
       "      <td>Open source</td>\n",
       "      <td>https://arxiv.org/abs/1910.10683</td>\n",
       "      <td>12884.0</td>\n",
       "      <td>Exploring the Limits of Transfer Learning with...</td>\n",
       "      <td>...</td>\n",
       "      <td>NaN</td>\n",
       "      <td>NaN</td>\n",
       "      <td>246733.0</td>\n",
       "      <td>Open source</td>\n",
       "      <td>Open source</td>\n",
       "      <td>Apache for code and weights:\\nhttps://github.c...</td>\n",
       "      <td>Industry</td>\n",
       "      <td>NaN</td>\n",
       "      <td>NaN</td>\n",
       "      <td>NaN</td>\n",
       "    </tr>\n",
       "    <tr>\n",
       "      <th>891</th>\n",
       "      <td>Megatron-BERT</td>\n",
       "      <td>Language</td>\n",
       "      <td>NaN</td>\n",
       "      <td>Mohammad Shoeybi, Mostofa Patwary, Raul Puri, ...</td>\n",
       "      <td>Highly cited,SOTA improvement</td>\n",
       "      <td>\"Our BERT model achieves SOTA results on the R...</td>\n",
       "      <td>Unreleased</td>\n",
       "      <td>https://arxiv.org/abs/1909.08053</td>\n",
       "      <td>1152.0</td>\n",
       "      <td>Megatron-LM: Training Multi-Billion Parameter ...</td>\n",
       "      <td>...</td>\n",
       "      <td>NaN</td>\n",
       "      <td>NaN</td>\n",
       "      <td>712704.0</td>\n",
       "      <td>NaN</td>\n",
       "      <td>NaN</td>\n",
       "      <td>NaN</td>\n",
       "      <td>Industry</td>\n",
       "      <td>NaN</td>\n",
       "      <td>NaN</td>\n",
       "      <td>NaN</td>\n",
       "    </tr>\n",
       "    <tr>\n",
       "      <th>892</th>\n",
       "      <td>Megatron-LM (8.3B)</td>\n",
       "      <td>Language</td>\n",
       "      <td>NaN</td>\n",
       "      <td>Mohammad Shoeybi, Mostofa Patwary, Raul Puri, ...</td>\n",
       "      <td>Highly cited,SOTA improvement</td>\n",
       "      <td>\"Using the GPT-2 model we achieve SOTA results...</td>\n",
       "      <td>Unreleased</td>\n",
       "      <td>https://arxiv.org/abs/1909.08053</td>\n",
       "      <td>1152.0</td>\n",
       "      <td>Megatron-LM: Training Multi-Billion Parameter ...</td>\n",
       "      <td>...</td>\n",
       "      <td>NaN</td>\n",
       "      <td>NaN</td>\n",
       "      <td>167424.0</td>\n",
       "      <td>Open source</td>\n",
       "      <td>NaN</td>\n",
       "      <td>code (2.5B model is a GPT model): https://gith...</td>\n",
       "      <td>Industry</td>\n",
       "      <td>NaN</td>\n",
       "      <td>NaN</td>\n",
       "      <td>NaN</td>\n",
       "    </tr>\n",
       "    <tr>\n",
       "      <th>917</th>\n",
       "      <td>RoBERTa Large</td>\n",
       "      <td>Language</td>\n",
       "      <td>NaN</td>\n",
       "      <td>Yinhan Liu, Myle Ott, Naman Goyal, Jingfei Du,...</td>\n",
       "      <td>Highly cited</td>\n",
       "      <td>NaN</td>\n",
       "      <td>Open source</td>\n",
       "      <td>https://arxiv.org/abs/1907.11692</td>\n",
       "      <td>17972.0</td>\n",
       "      <td>RoBERTa: A Robustly Optimized BERT Pretraining...</td>\n",
       "      <td>...</td>\n",
       "      <td>NaN</td>\n",
       "      <td>NaN</td>\n",
       "      <td>122880.0</td>\n",
       "      <td>Open source</td>\n",
       "      <td>Unreleased</td>\n",
       "      <td>code and weights: https://github.com/facebookr...</td>\n",
       "      <td>Industry,Academia</td>\n",
       "      <td>NaN</td>\n",
       "      <td>NaN</td>\n",
       "      <td>NaN</td>\n",
       "    </tr>\n",
       "    <tr>\n",
       "      <th>1003</th>\n",
       "      <td>BigGAN-deep 512x512</td>\n",
       "      <td>Image generation</td>\n",
       "      <td>Image generation</td>\n",
       "      <td>A Brock, J Donahue, K Simonyan</td>\n",
       "      <td>Highly cited</td>\n",
       "      <td>NaN</td>\n",
       "      <td>Open source</td>\n",
       "      <td>https://arxiv.org/abs/1809.11096</td>\n",
       "      <td>4398.0</td>\n",
       "      <td>Large Scale GAN Training for High Fidelity Nat...</td>\n",
       "      <td>...</td>\n",
       "      <td>NaN</td>\n",
       "      <td>NaN</td>\n",
       "      <td>12288.0</td>\n",
       "      <td>Unreleased</td>\n",
       "      <td>NaN</td>\n",
       "      <td>repo license is Apache:\\n\\nhttps://github.com/...</td>\n",
       "      <td>Academia,Industry</td>\n",
       "      <td>NaN</td>\n",
       "      <td>NaN</td>\n",
       "      <td>NaN</td>\n",
       "    </tr>\n",
       "    <tr>\n",
       "      <th>1092</th>\n",
       "      <td>AlphaGo Zero</td>\n",
       "      <td>Games</td>\n",
       "      <td>Go</td>\n",
       "      <td>D Silver, J Schrittwieser, K Simonyan, I Anton...</td>\n",
       "      <td>Highly cited</td>\n",
       "      <td>NaN</td>\n",
       "      <td>NaN</td>\n",
       "      <td>https://www.nature.com/articles/nature24270</td>\n",
       "      <td>8103.0</td>\n",
       "      <td>Mastering the game of Go without human knowledge</td>\n",
       "      <td>...</td>\n",
       "      <td>NaN</td>\n",
       "      <td>NaN</td>\n",
       "      <td>NaN</td>\n",
       "      <td>NaN</td>\n",
       "      <td>NaN</td>\n",
       "      <td>NaN</td>\n",
       "      <td>Industry</td>\n",
       "      <td>NaN</td>\n",
       "      <td>NaN</td>\n",
       "      <td>NaN</td>\n",
       "    </tr>\n",
       "    <tr>\n",
       "      <th>1126</th>\n",
       "      <td>JFT</td>\n",
       "      <td>Vision</td>\n",
       "      <td>Image classification,Object detection,Semantic...</td>\n",
       "      <td>Chen Sun, Abhinav Shrivastava, Saurabh Singh, ...</td>\n",
       "      <td>Highly cited</td>\n",
       "      <td>NaN</td>\n",
       "      <td>NaN</td>\n",
       "      <td>https://arxiv.org/abs/1707.02968</td>\n",
       "      <td>2022.0</td>\n",
       "      <td>Revisiting Unreasonable Effectiveness of Data ...</td>\n",
       "      <td>...</td>\n",
       "      <td>NaN</td>\n",
       "      <td>NaN</td>\n",
       "      <td>72000.0</td>\n",
       "      <td>NaN</td>\n",
       "      <td>NaN</td>\n",
       "      <td>NaN</td>\n",
       "      <td>Industry,Academia</td>\n",
       "      <td>NaN</td>\n",
       "      <td>NaN</td>\n",
       "      <td>NaN</td>\n",
       "    </tr>\n",
       "    <tr>\n",
       "      <th>1148</th>\n",
       "      <td>MoE</td>\n",
       "      <td>Language</td>\n",
       "      <td>Language modelling,Translation</td>\n",
       "      <td>N Shazeer, A Mirhoseini, K Maziarz, A Davis</td>\n",
       "      <td>Highly cited,SOTA improvement</td>\n",
       "      <td>\"On large language modeling and machine transl...</td>\n",
       "      <td>Unreleased</td>\n",
       "      <td>https://arxiv.org/abs/1701.06538</td>\n",
       "      <td>1531.0</td>\n",
       "      <td>Outrageously Large Neural Networks: The Sparse...</td>\n",
       "      <td>...</td>\n",
       "      <td>NaN</td>\n",
       "      <td>NaN</td>\n",
       "      <td>NaN</td>\n",
       "      <td>NaN</td>\n",
       "      <td>NaN</td>\n",
       "      <td>NaN</td>\n",
       "      <td>Academia,Industry</td>\n",
       "      <td>NaN</td>\n",
       "      <td>NaN</td>\n",
       "      <td>NaN</td>\n",
       "    </tr>\n",
       "    <tr>\n",
       "      <th>1179</th>\n",
       "      <td>Xception</td>\n",
       "      <td>Vision</td>\n",
       "      <td>Image classification</td>\n",
       "      <td>François Chollet</td>\n",
       "      <td>Highly cited</td>\n",
       "      <td>NaN</td>\n",
       "      <td>NaN</td>\n",
       "      <td>https://arxiv.org/abs/1610.02357</td>\n",
       "      <td>11578.0</td>\n",
       "      <td>Xception: Deep Learning with Depthwise Separab...</td>\n",
       "      <td>...</td>\n",
       "      <td>NaN</td>\n",
       "      <td>NaN</td>\n",
       "      <td>43200.0</td>\n",
       "      <td>NaN</td>\n",
       "      <td>NaN</td>\n",
       "      <td>NaN</td>\n",
       "      <td>Industry</td>\n",
       "      <td>NaN</td>\n",
       "      <td>NaN</td>\n",
       "      <td>NaN</td>\n",
       "    </tr>\n",
       "    <tr>\n",
       "      <th>1228</th>\n",
       "      <td>DeepSpeech2 (English)</td>\n",
       "      <td>Speech</td>\n",
       "      <td>Speech recognition</td>\n",
       "      <td>Dario Amodei, Rishita Anubhai, Eric Battenberg...</td>\n",
       "      <td>Highly cited</td>\n",
       "      <td>NaN</td>\n",
       "      <td>NaN</td>\n",
       "      <td>https://arxiv.org/abs/1512.02595</td>\n",
       "      <td>2749.0</td>\n",
       "      <td>Deep Speech 2: End-to-End Speech Recognition i...</td>\n",
       "      <td>...</td>\n",
       "      <td>NaN</td>\n",
       "      <td>NaN</td>\n",
       "      <td>1920.0</td>\n",
       "      <td>NaN</td>\n",
       "      <td>NaN</td>\n",
       "      <td>NaN</td>\n",
       "      <td>Industry</td>\n",
       "      <td>NaN</td>\n",
       "      <td>NaN</td>\n",
       "      <td>NaN</td>\n",
       "    </tr>\n",
       "  </tbody>\n",
       "</table>\n",
       "<p>31 rows × 60 columns</p>\n",
       "</div>"
      ],
      "text/plain": [
       "                        System                                       Domain  \\\n",
       "88            Gemini 1.0 Ultra                   Multimodal,Language,Vision   \n",
       "193                Falcon-180B                                     Language   \n",
       "336                      GPT-4  Multimodal,Language,Vision,Image generation   \n",
       "408                 BLOOM-176B                                     Language   \n",
       "423              U-PaLM (540B)                                     Language   \n",
       "425             Flan-PaLM 540B                                     Language   \n",
       "449                   GLM-130B                                     Language   \n",
       "471             Minerva (540B)                                     Language   \n",
       "514                   OPT-175B                                     Language   \n",
       "524                PaLM (540B)                                     Language   \n",
       "546                      LaMDA                                     Language   \n",
       "576                       GLaM                                     Language   \n",
       "580              Gopher (280B)                                     Language   \n",
       "622   Megatron-Turing NLG 530B                                     Language   \n",
       "629             HyperCLOVA 82B                                     Language   \n",
       "718         Meta Pseudo Labels                                       Vision   \n",
       "734                     Switch                                     Language   \n",
       "806       GPT-3 175B (davinci)                                     Language   \n",
       "846                      Meena                                     Language   \n",
       "853                OpenAI Five                                        Games   \n",
       "873                  AlphaStar                                        Games   \n",
       "877                     T5-11B                                     Language   \n",
       "891              Megatron-BERT                                     Language   \n",
       "892         Megatron-LM (8.3B)                                     Language   \n",
       "917              RoBERTa Large                                     Language   \n",
       "1003       BigGAN-deep 512x512                             Image generation   \n",
       "1092              AlphaGo Zero                                        Games   \n",
       "1126                       JFT                                       Vision   \n",
       "1148                       MoE                                     Language   \n",
       "1179                  Xception                                       Vision   \n",
       "1228     DeepSpeech2 (English)                                       Speech   \n",
       "\n",
       "                                                   Task  \\\n",
       "88    Language modelling,Visual question answering,C...   \n",
       "193                                  Language modelling   \n",
       "336                                  Language modelling   \n",
       "408                                  Language modelling   \n",
       "423                                 Language generation   \n",
       "425                       Language modelling/generation   \n",
       "449                                                 NaN   \n",
       "471                              Quantitative reasoning   \n",
       "514                                  Language modelling   \n",
       "524                                  Language modelling   \n",
       "546                                  Language modelling   \n",
       "576                                                 NaN   \n",
       "580                                  Language modelling   \n",
       "622                                  Language modelling   \n",
       "629                                                 NaN   \n",
       "718                                Image classification   \n",
       "734                                 Text autocompletion   \n",
       "806                                 Text autocompletion   \n",
       "846                                 Text autocompletion   \n",
       "853                                              Dota 2   \n",
       "873                                           StarCraft   \n",
       "877                                 Text autocompletion   \n",
       "891                                                 NaN   \n",
       "892                                                 NaN   \n",
       "917                                                 NaN   \n",
       "1003                                   Image generation   \n",
       "1092                                                 Go   \n",
       "1126  Image classification,Object detection,Semantic...   \n",
       "1148                     Language modelling,Translation   \n",
       "1179                               Image classification   \n",
       "1228                                 Speech recognition   \n",
       "\n",
       "                                                Authors  \\\n",
       "88                                          Gemini Team   \n",
       "193   Ebtesam Almazrouei, Hamza Alobeidli, Abdulaziz...   \n",
       "336   OpenAI, Josh Achiam, Steven Adler, Sandhini Ag...   \n",
       "408   Margaret Mitchell, Giada Pistilli, Yacine Jern...   \n",
       "423   Yi Tay, Jason Wei, Hyung Won Chung, Vinh Q. Tr...   \n",
       "425   Hyung Won Chung, Le Hou, Shayne Longpre, Barre...   \n",
       "449   Aohan Zeng, Xiao Liu, Zhengxiao Du, Zihan Wang...   \n",
       "471   Aitor Lewkowycz, Anders Andreassen, David Doha...   \n",
       "514   Susan Zhang∗ , Stephen Roller∗ , Naman Goyal∗ ...   \n",
       "524   Aakanksha Chowdhery, Sharan Narang, Jacob Devl...   \n",
       "546   Romal Thoppilan, Daniel De Freitas, Jamie Hall...   \n",
       "576   Nan Du, Yanping Huang, Andrew M. Dai, Simon To...   \n",
       "580   Jack W. Rae, Sebastian Borgeaud, Trevor Cai, K...   \n",
       "622   Shaden Smith, Mostofa Patwary, Brandon Norick,...   \n",
       "629   Boseop Kim, HyoungSeok Kim, Sang-Woo Lee, Gich...   \n",
       "718   Hieu Pham, Zihang Dai, Qizhe Xie, Minh-Thang L...   \n",
       "734            William Fedus, Barret Zoph, Noam Shazeer   \n",
       "806   Tom B. Brown, Benjamin Mann, Nick Ryder, Melan...   \n",
       "846   Dongling Xiao, Han Zhang, Yukun Li, Yu Sun, Ha...   \n",
       "853   Christopher Berner, Greg Brockman, Brooke Chan...   \n",
       "873   Oriol Vinyals,Igor Babuschkin,Wojciech M. Czar...   \n",
       "877   Colin Raffel, Noam Shazeer, Adam Roberts, Kath...   \n",
       "891   Mohammad Shoeybi, Mostofa Patwary, Raul Puri, ...   \n",
       "892   Mohammad Shoeybi, Mostofa Patwary, Raul Puri, ...   \n",
       "917   Yinhan Liu, Myle Ott, Naman Goyal, Jingfei Du,...   \n",
       "1003                     A Brock, J Donahue, K Simonyan   \n",
       "1092  D Silver, J Schrittwieser, K Simonyan, I Anton...   \n",
       "1126  Chen Sun, Abhinav Shrivastava, Saurabh Singh, ...   \n",
       "1148        N Shazeer, A Mirhoseini, K Maziarz, A Davis   \n",
       "1179                                   François Chollet   \n",
       "1228  Dario Amodei, Rishita Anubhai, Eric Battenberg...   \n",
       "\n",
       "                       Notability criteria  \\\n",
       "88                        SOTA improvement   \n",
       "193                       SOTA improvement   \n",
       "336          Highly cited,SOTA improvement   \n",
       "408   Historical significance,Highly cited   \n",
       "423                       SOTA improvement   \n",
       "425          Highly cited,SOTA improvement   \n",
       "449                       SOTA improvement   \n",
       "471                       SOTA improvement   \n",
       "514           Significant use,Highly cited   \n",
       "524          Highly cited,SOTA improvement   \n",
       "546                Historical significance   \n",
       "576                       SOTA improvement   \n",
       "580                       SOTA improvement   \n",
       "622                       SOTA improvement   \n",
       "629                       SOTA improvement   \n",
       "718                       SOTA improvement   \n",
       "734          Highly cited,SOTA improvement   \n",
       "806                           Highly cited   \n",
       "846                       SOTA improvement   \n",
       "853          Highly cited,SOTA improvement   \n",
       "873                           Highly cited   \n",
       "877                           Highly cited   \n",
       "891          Highly cited,SOTA improvement   \n",
       "892          Highly cited,SOTA improvement   \n",
       "917                           Highly cited   \n",
       "1003                          Highly cited   \n",
       "1092                          Highly cited   \n",
       "1126                          Highly cited   \n",
       "1148         Highly cited,SOTA improvement   \n",
       "1179                          Highly cited   \n",
       "1228                          Highly cited   \n",
       "\n",
       "                              Notability criteria notes  \\\n",
       "88    \" Evaluation on a broad range of benchmarks sh...   \n",
       "193   \"It's currently at the top of the Hugging Face...   \n",
       "336   See the paper, p.1: \"On a suite of traditional...   \n",
       "408   Was the largest open-source model at the time....   \n",
       "423   \"We show that U-PaLM 540B outperforms PaLM 540...   \n",
       "425   >1k cites\\n\\n\"Flan-PaLM 540B achieves state-of...   \n",
       "449   \"GLM-130B achieves an accuracy of 80.2% on zer...   \n",
       "471                                                 NaN   \n",
       "514   https://ai.meta.com/blog/opt-175b-large-langua...   \n",
       "524   Demonstrates continued benefits of scaling, as...   \n",
       "546                                                 NaN   \n",
       "576   \"As shown in Table 5, GLaM (64B/64E) is better...   \n",
       "580   \"These models are evaluated on 152 diverse tas...   \n",
       "622   The 105-layer, transformer-based MT-NLG improv...   \n",
       "629   \"HyperCLOVA with our training configuration sh...   \n",
       "718                                                 NaN   \n",
       "734   \" On ANLI (Nie et al., 2019), Switch XXL impro...   \n",
       "806                                                 NaN   \n",
       "846   \"We also propose a human evaluation metric cal...   \n",
       "853   \"On April 13th, 2019, OpenAI Five became the f...   \n",
       "873                                                 NaN   \n",
       "877                                                 NaN   \n",
       "891   \"Our BERT model achieves SOTA results on the R...   \n",
       "892   \"Using the GPT-2 model we achieve SOTA results...   \n",
       "917                                                 NaN   \n",
       "1003                                                NaN   \n",
       "1092                                                NaN   \n",
       "1126                                                NaN   \n",
       "1148  \"On large language modeling and machine transl...   \n",
       "1179                                                NaN   \n",
       "1228                                                NaN   \n",
       "\n",
       "               Model accessibility  \\\n",
       "88          Hosted access (no API)   \n",
       "193   Open access (restricted use)   \n",
       "336                     API access   \n",
       "408   Open access (restricted use)   \n",
       "423                     Unreleased   \n",
       "425                     Unreleased   \n",
       "449   Open access (non-commercial)   \n",
       "471                     Unreleased   \n",
       "514   Open access (non-commercial)   \n",
       "524                     Unreleased   \n",
       "546                     Unreleased   \n",
       "576                     Unreleased   \n",
       "580                     Unreleased   \n",
       "622                     Unreleased   \n",
       "629                     API access   \n",
       "718                     Unreleased   \n",
       "734                    Open source   \n",
       "806                     API access   \n",
       "846                     Unreleased   \n",
       "853                     Unreleased   \n",
       "873                     Unreleased   \n",
       "877                    Open source   \n",
       "891                     Unreleased   \n",
       "892                     Unreleased   \n",
       "917                    Open source   \n",
       "1003                   Open source   \n",
       "1092                           NaN   \n",
       "1126                           NaN   \n",
       "1148                    Unreleased   \n",
       "1179                           NaN   \n",
       "1228                           NaN   \n",
       "\n",
       "                                                   Link  Citations  \\\n",
       "88    https://storage.googleapis.com/deepmind-media/...      633.0   \n",
       "193   https://falconllm.tii.ae/falcon-180b.html; htt...       86.0   \n",
       "336                    https://arxiv.org/abs/2303.08774     3280.0   \n",
       "408                    https://arxiv.org/abs/2211.05100     1313.0   \n",
       "423                    https://arxiv.org/abs/2210.11399       45.0   \n",
       "425                    https://arxiv.org/abs/2210.11416     1615.0   \n",
       "449   https://keg.cs.tsinghua.edu.cn/glm-130b/posts/...      641.0   \n",
       "471                    https://arxiv.org/abs/2206.14858      427.0   \n",
       "514   https://ai.facebook.com/blog/democratizing-acc...     1987.0   \n",
       "524                    https://arxiv.org/abs/2204.02311     3532.0   \n",
       "546                    https://arxiv.org/abs/2201.08239     1082.0   \n",
       "576                    https://arxiv.org/abs/2112.06905      440.0   \n",
       "580                    https://arxiv.org/abs/2112.11446      917.0   \n",
       "622                    https://arxiv.org/abs/2201.11990      544.0   \n",
       "629                    https://arxiv.org/abs/2109.04650       92.0   \n",
       "718                    https://arxiv.org/abs/2003.10580      535.0   \n",
       "734                    https://arxiv.org/abs/2101.03961     1163.0   \n",
       "806                    https://arxiv.org/abs/2005.14165    23023.0   \n",
       "846                    https://arxiv.org/abs/2001.09977      805.0   \n",
       "853                    https://arxiv.org/abs/1912.06680     1420.0   \n",
       "873   https://www.deepmind.com/blog/alphastar-grandm...     2870.0   \n",
       "877                    https://arxiv.org/abs/1910.10683    12884.0   \n",
       "891                    https://arxiv.org/abs/1909.08053     1152.0   \n",
       "892                    https://arxiv.org/abs/1909.08053     1152.0   \n",
       "917                    https://arxiv.org/abs/1907.11692    17972.0   \n",
       "1003                   https://arxiv.org/abs/1809.11096     4398.0   \n",
       "1092        https://www.nature.com/articles/nature24270     8103.0   \n",
       "1126                   https://arxiv.org/abs/1707.02968     2022.0   \n",
       "1148                   https://arxiv.org/abs/1701.06538     1531.0   \n",
       "1179                   https://arxiv.org/abs/1610.02357    11578.0   \n",
       "1228                   https://arxiv.org/abs/1512.02595     2749.0   \n",
       "\n",
       "                                              Reference  ...  \\\n",
       "88    Gemini: A Family of Highly Capable Multimodal ...  ...   \n",
       "193           The Falcon Series of Open Language Models  ...   \n",
       "336                              GPT-4 Technical Report  ...   \n",
       "408   BLOOM: A 176B-Parameter Open-Access Multilingu...  ...   \n",
       "423   Transcending Scaling Laws with 0.1% Extra Compute  ...   \n",
       "425       Scaling Instruction-Finetuned Language Models  ...   \n",
       "449       GLM-130B: An Open Bilingual Pre-trained Model  ...   \n",
       "471   Solving Quantitative Reasoning Problems with L...  ...   \n",
       "514   OPT: Open Pre-trained Transformer Language Models  ...   \n",
       "524       PaLM: Scaling Language Modeling with Pathways  ...   \n",
       "546      LaMDA: Language Models for Dialog Applications  ...   \n",
       "576   GLaM: Efficient Scaling of Language Models wit...  ...   \n",
       "580   \"Scaling Language Models: Methods, Analysis & ...  ...   \n",
       "622   Using DeepSpeed and Megatron to Train Megatron...  ...   \n",
       "629   What Changes Can Large-scale Language Models B...  ...   \n",
       "718                                  Meta pseudo labels  ...   \n",
       "734   Switch Transformers: Scaling to Trillion Param...  ...   \n",
       "806               Language Models are Few-Shot Learners  ...   \n",
       "846            Towards a Human-like Open-Domain Chatbot  ...   \n",
       "853   Dota 2 with Large Scale Deep Reinforcement Lea...  ...   \n",
       "873   Grandmaster level in StarCraft II using multi-...  ...   \n",
       "877   Exploring the Limits of Transfer Learning with...  ...   \n",
       "891   Megatron-LM: Training Multi-Billion Parameter ...  ...   \n",
       "892   Megatron-LM: Training Multi-Billion Parameter ...  ...   \n",
       "917   RoBERTa: A Robustly Optimized BERT Pretraining...  ...   \n",
       "1003  Large Scale GAN Training for High Fidelity Nat...  ...   \n",
       "1092   Mastering the game of Go without human knowledge  ...   \n",
       "1126  Revisiting Unreasonable Effectiveness of Data ...  ...   \n",
       "1148  Outrageously Large Neural Networks: The Sparse...  ...   \n",
       "1179  Xception: Deep Learning with Depthwise Separab...  ...   \n",
       "1228  Deep Speech 2: End-to-End Speech Recognition i...  ...   \n",
       "\n",
       "     Training compute lower bound Training compute upper bound  \\\n",
       "88                            NaN                          NaN   \n",
       "193                           NaN                          NaN   \n",
       "336                           NaN                          NaN   \n",
       "408                           NaN                          NaN   \n",
       "423                           NaN                          NaN   \n",
       "425                           NaN                          NaN   \n",
       "449                           NaN                          NaN   \n",
       "471                           NaN                          NaN   \n",
       "514                           NaN                          NaN   \n",
       "524                           NaN                          NaN   \n",
       "546                           NaN                          NaN   \n",
       "576                           NaN                          NaN   \n",
       "580                           NaN                          NaN   \n",
       "622                           NaN                          NaN   \n",
       "629                           NaN                          NaN   \n",
       "718                           NaN                          NaN   \n",
       "734                           NaN                          NaN   \n",
       "806                           NaN                          NaN   \n",
       "846                           NaN                          NaN   \n",
       "853                           NaN                          NaN   \n",
       "873                           NaN                          NaN   \n",
       "877                           NaN                          NaN   \n",
       "891                           NaN                          NaN   \n",
       "892                           NaN                          NaN   \n",
       "917                           NaN                          NaN   \n",
       "1003                          NaN                          NaN   \n",
       "1092                          NaN                          NaN   \n",
       "1126                          NaN                          NaN   \n",
       "1148                          NaN                          NaN   \n",
       "1179                          NaN                          NaN   \n",
       "1228                          NaN                          NaN   \n",
       "\n",
       "      Training chip-hours Code accessibility  Dataset accessibility  \\\n",
       "88            132000000.0                NaN                    NaN   \n",
       "193            17694720.0                NaN                    NaN   \n",
       "336            57000000.0                NaN                    NaN   \n",
       "408             1078272.0                NaN                    NaN   \n",
       "423               61440.0                NaN                    NaN   \n",
       "425               18944.0                NaN                    NaN   \n",
       "449             1105920.0                NaN                    NaN   \n",
       "471              712704.0         Unreleased             Unreleased   \n",
       "514              812544.0        Open source                    NaN   \n",
       "524             8404992.0                NaN                    NaN   \n",
       "546             1418240.0                NaN                    NaN   \n",
       "576             1398784.0         Unreleased             Unreleased   \n",
       "580             3768320.0         Unreleased             Unreleased   \n",
       "622             3449600.0         Unreleased                    NaN   \n",
       "629              658637.0         Unreleased                    NaN   \n",
       "718              270336.0        Open source                    NaN   \n",
       "734              663552.0        Open source                    NaN   \n",
       "806             3552000.0         Unreleased                    NaN   \n",
       "846              737280.0                NaN                    NaN   \n",
       "853            10911744.0         Unreleased             Unreleased   \n",
       "873              405504.0        Open source             Unreleased   \n",
       "877              246733.0        Open source            Open source   \n",
       "891              712704.0                NaN                    NaN   \n",
       "892              167424.0        Open source                    NaN   \n",
       "917              122880.0        Open source             Unreleased   \n",
       "1003              12288.0         Unreleased                    NaN   \n",
       "1092                  NaN                NaN                    NaN   \n",
       "1126              72000.0                NaN                    NaN   \n",
       "1148                  NaN                NaN                    NaN   \n",
       "1179              43200.0                NaN                    NaN   \n",
       "1228               1920.0                NaN                    NaN   \n",
       "\n",
       "                                    Accessibility notes  \\\n",
       "88                                                  NaN   \n",
       "193   \"Falcon 180b can be commercially used but unde...   \n",
       "336                                                 NaN   \n",
       "408   responsible use restrictions: https://bigscien...   \n",
       "423                                                 NaN   \n",
       "425                                                 NaN   \n",
       "449   non commercial: https://github.com/THUDM/GLM-1...   \n",
       "471                                                 NaN   \n",
       "514   non-commercial for weights:\\nhttps://github.co...   \n",
       "524                                                 NaN   \n",
       "546                                                 NaN   \n",
       "576                                                 NaN   \n",
       "580                                                 NaN   \n",
       "622                                                 NaN   \n",
       "629   \"We introduce HyperCLOVA Studio, an interactiv...   \n",
       "718   Apache-2.0 license\\nhttps://github.com/google-...   \n",
       "734   Apache 2\\nhttps://github.com/google-research/t...   \n",
       "806                https://openai.com/blog/openai-api\\n   \n",
       "846                                                 NaN   \n",
       "853                                                 NaN   \n",
       "873   Apache 2.0, training tools only: https://githu...   \n",
       "877   Apache for code and weights:\\nhttps://github.c...   \n",
       "891                                                 NaN   \n",
       "892   code (2.5B model is a GPT model): https://gith...   \n",
       "917   code and weights: https://github.com/facebookr...   \n",
       "1003  repo license is Apache:\\n\\nhttps://github.com/...   \n",
       "1092                                                NaN   \n",
       "1126                                                NaN   \n",
       "1148                                                NaN   \n",
       "1179                                                NaN   \n",
       "1228                                                NaN   \n",
       "\n",
       "     Organization categorization (from Organization) Possibly over 1e23 FLOP  \\\n",
       "88                                          Industry                     NaN   \n",
       "193                                       Government                 checked   \n",
       "336                                         Industry                     NaN   \n",
       "408                     Industry,Research collective                     NaN   \n",
       "423                                         Industry                     NaN   \n",
       "425                                         Industry                     NaN   \n",
       "449                                         Academia                     NaN   \n",
       "471                                         Industry                     NaN   \n",
       "514                                         Industry                     NaN   \n",
       "524                                         Industry                     NaN   \n",
       "546                                         Industry                     NaN   \n",
       "576                                         Industry                     NaN   \n",
       "580                                         Industry                     NaN   \n",
       "622                                Industry,Industry                 checked   \n",
       "629                                Industry,Industry                 checked   \n",
       "718                                Industry,Industry                     NaN   \n",
       "734                                         Industry                     NaN   \n",
       "806                                         Industry                     NaN   \n",
       "846                                         Industry                     NaN   \n",
       "853                                         Industry                     NaN   \n",
       "873                                         Industry                     NaN   \n",
       "877                                         Industry                     NaN   \n",
       "891                                         Industry                     NaN   \n",
       "892                                         Industry                     NaN   \n",
       "917                                Industry,Academia                     NaN   \n",
       "1003                               Academia,Industry                     NaN   \n",
       "1092                                        Industry                     NaN   \n",
       "1126                               Industry,Academia                     NaN   \n",
       "1148                               Academia,Industry                     NaN   \n",
       "1179                                        Industry                     NaN   \n",
       "1228                                        Industry                     NaN   \n",
       "\n",
       "      Training cost trends 2 Training cost trends 3  \n",
       "88                       NaN                    NaN  \n",
       "193                      NaN                    NaN  \n",
       "336                      NaN                    NaN  \n",
       "408                      NaN                    NaN  \n",
       "423                      NaN                    NaN  \n",
       "425                      NaN                    NaN  \n",
       "449                      NaN                    NaN  \n",
       "471                      NaN                    NaN  \n",
       "514                      NaN                    NaN  \n",
       "524                      NaN                    NaN  \n",
       "546                      NaN                    NaN  \n",
       "576                      NaN                    NaN  \n",
       "580                      NaN                    NaN  \n",
       "622                      NaN                    NaN  \n",
       "629                      NaN                    NaN  \n",
       "718                      NaN                    NaN  \n",
       "734                      NaN                    NaN  \n",
       "806                      NaN                    NaN  \n",
       "846                      NaN                    NaN  \n",
       "853                      NaN                    NaN  \n",
       "873                      NaN                    NaN  \n",
       "877                      NaN                    NaN  \n",
       "891                      NaN                    NaN  \n",
       "892                      NaN                    NaN  \n",
       "917                      NaN                    NaN  \n",
       "1003                     NaN                    NaN  \n",
       "1092                     NaN                    NaN  \n",
       "1126                     NaN                    NaN  \n",
       "1148                     NaN                    NaN  \n",
       "1179                     NaN                    NaN  \n",
       "1228                     NaN                    NaN  \n",
       "\n",
       "[31 rows x 60 columns]"
      ]
     },
     "execution_count": 13,
     "metadata": {},
     "output_type": "execute_result"
    }
   ],
   "source": [
    "training_time_df = frontier_pcd_df.dropna(subset=['Training time (hours)'])\n",
    "training_time_df"
   ]
  },
  {
   "cell_type": "code",
   "execution_count": null,
   "metadata": {},
   "outputs": [
    {
     "name": "stderr",
     "output_type": "stream",
     "text": [
      "/var/folders/s2/stl5t_bn7xg9vdfxxr71rzrc0000gn/T/ipykernel_66337/1688430577.py:1: SettingWithCopyWarning:\n",
      "\n",
      "\n",
      "A value is trying to be set on a copy of a slice from a DataFrame.\n",
      "Try using .loc[row_indexer,col_indexer] = value instead\n",
      "\n",
      "See the caveats in the documentation: https://pandas.pydata.org/pandas-docs/stable/user_guide/indexing.html#returning-a-view-versus-a-copy\n",
      "\n"
     ]
    },
    {
     "data": {
      "text/html": [
       "<table class=\"simpletable\">\n",
       "<caption>OLS Regression Results</caption>\n",
       "<tr>\n",
       "  <th>Dep. Variable:</th>            <td>y</td>        <th>  R-squared:         </th> <td>   0.110</td>\n",
       "</tr>\n",
       "<tr>\n",
       "  <th>Model:</th>                   <td>OLS</td>       <th>  Adj. R-squared:    </th> <td>   0.079</td>\n",
       "</tr>\n",
       "<tr>\n",
       "  <th>Method:</th>             <td>Least Squares</td>  <th>  F-statistic:       </th> <td>   3.572</td>\n",
       "</tr>\n",
       "<tr>\n",
       "  <th>Date:</th>             <td>Thu, 06 Jun 2024</td> <th>  Prob (F-statistic):</th>  <td>0.0688</td> \n",
       "</tr>\n",
       "<tr>\n",
       "  <th>Time:</th>                 <td>16:02:21</td>     <th>  Log-Likelihood:    </th> <td> -22.026</td>\n",
       "</tr>\n",
       "<tr>\n",
       "  <th>No. Observations:</th>      <td>    31</td>      <th>  AIC:               </th> <td>   48.05</td>\n",
       "</tr>\n",
       "<tr>\n",
       "  <th>Df Residuals:</th>          <td>    29</td>      <th>  BIC:               </th> <td>   50.92</td>\n",
       "</tr>\n",
       "<tr>\n",
       "  <th>Df Model:</th>              <td>     1</td>      <th>                     </th>     <td> </td>   \n",
       "</tr>\n",
       "<tr>\n",
       "  <th>Covariance Type:</th>      <td>nonrobust</td>    <th>                     </th>     <td> </td>   \n",
       "</tr>\n",
       "</table>\n",
       "<table class=\"simpletable\">\n",
       "<tr>\n",
       "    <td></td>       <th>coef</th>     <th>std err</th>      <th>t</th>      <th>P>|t|</th>  <th>[0.025</th>    <th>0.975]</th>  \n",
       "</tr>\n",
       "<tr>\n",
       "  <th>const</th> <td> -162.5951</td> <td>   87.525</td> <td>   -1.858</td> <td> 0.073</td> <td> -341.603</td> <td>   16.413</td>\n",
       "</tr>\n",
       "<tr>\n",
       "  <th>x1</th>    <td>    0.0819</td> <td>    0.043</td> <td>    1.890</td> <td> 0.069</td> <td>   -0.007</td> <td>    0.170</td>\n",
       "</tr>\n",
       "</table>\n",
       "<table class=\"simpletable\">\n",
       "<tr>\n",
       "  <th>Omnibus:</th>       <td> 6.392</td> <th>  Durbin-Watson:     </th> <td>   1.425</td>\n",
       "</tr>\n",
       "<tr>\n",
       "  <th>Prob(Omnibus):</th> <td> 0.041</td> <th>  Jarque-Bera (JB):  </th> <td>   4.739</td>\n",
       "</tr>\n",
       "<tr>\n",
       "  <th>Skew:</th>          <td>-0.752</td> <th>  Prob(JB):          </th> <td>  0.0935</td>\n",
       "</tr>\n",
       "<tr>\n",
       "  <th>Kurtosis:</th>      <td> 4.186</td> <th>  Cond. No.          </th> <td>1.93e+06</td>\n",
       "</tr>\n",
       "</table><br/><br/>Notes:<br/>[1] Standard Errors assume that the covariance matrix of the errors is correctly specified.<br/>[2] The condition number is large, 1.93e+06. This might indicate that there are<br/>strong multicollinearity or other numerical problems."
      ],
      "text/latex": [
       "\\begin{center}\n",
       "\\begin{tabular}{lclc}\n",
       "\\toprule\n",
       "\\textbf{Dep. Variable:}    &        y         & \\textbf{  R-squared:         } &     0.110   \\\\\n",
       "\\textbf{Model:}            &       OLS        & \\textbf{  Adj. R-squared:    } &     0.079   \\\\\n",
       "\\textbf{Method:}           &  Least Squares   & \\textbf{  F-statistic:       } &     3.572   \\\\\n",
       "\\textbf{Date:}             & Thu, 06 Jun 2024 & \\textbf{  Prob (F-statistic):} &   0.0688    \\\\\n",
       "\\textbf{Time:}             &     16:02:21     & \\textbf{  Log-Likelihood:    } &   -22.026   \\\\\n",
       "\\textbf{No. Observations:} &          31      & \\textbf{  AIC:               } &     48.05   \\\\\n",
       "\\textbf{Df Residuals:}     &          29      & \\textbf{  BIC:               } &     50.92   \\\\\n",
       "\\textbf{Df Model:}         &           1      & \\textbf{                     } &             \\\\\n",
       "\\textbf{Covariance Type:}  &    nonrobust     & \\textbf{                     } &             \\\\\n",
       "\\bottomrule\n",
       "\\end{tabular}\n",
       "\\begin{tabular}{lcccccc}\n",
       "               & \\textbf{coef} & \\textbf{std err} & \\textbf{t} & \\textbf{P$> |$t$|$} & \\textbf{[0.025} & \\textbf{0.975]}  \\\\\n",
       "\\midrule\n",
       "\\textbf{const} &    -162.5951  &       87.525     &    -1.858  &         0.073        &     -341.603    &       16.413     \\\\\n",
       "\\textbf{x1}    &       0.0819  &        0.043     &     1.890  &         0.069        &       -0.007    &        0.170     \\\\\n",
       "\\bottomrule\n",
       "\\end{tabular}\n",
       "\\begin{tabular}{lclc}\n",
       "\\textbf{Omnibus:}       &  6.392 & \\textbf{  Durbin-Watson:     } &    1.425  \\\\\n",
       "\\textbf{Prob(Omnibus):} &  0.041 & \\textbf{  Jarque-Bera (JB):  } &    4.739  \\\\\n",
       "\\textbf{Skew:}          & -0.752 & \\textbf{  Prob(JB):          } &   0.0935  \\\\\n",
       "\\textbf{Kurtosis:}      &  4.186 & \\textbf{  Cond. No.          } & 1.93e+06  \\\\\n",
       "\\bottomrule\n",
       "\\end{tabular}\n",
       "%\\caption{OLS Regression Results}\n",
       "\\end{center}\n",
       "\n",
       "Notes: \\newline\n",
       " [1] Standard Errors assume that the covariance matrix of the errors is correctly specified. \\newline\n",
       " [2] The condition number is large, 1.93e+06. This might indicate that there are \\newline\n",
       " strong multicollinearity or other numerical problems."
      ],
      "text/plain": [
       "<class 'statsmodels.iolib.summary.Summary'>\n",
       "\"\"\"\n",
       "                            OLS Regression Results                            \n",
       "==============================================================================\n",
       "Dep. Variable:                      y   R-squared:                       0.110\n",
       "Model:                            OLS   Adj. R-squared:                  0.079\n",
       "Method:                 Least Squares   F-statistic:                     3.572\n",
       "Date:                Thu, 06 Jun 2024   Prob (F-statistic):             0.0688\n",
       "Time:                        16:02:21   Log-Likelihood:                -22.026\n",
       "No. Observations:                  31   AIC:                             48.05\n",
       "Df Residuals:                      29   BIC:                             50.92\n",
       "Df Model:                           1                                         \n",
       "Covariance Type:            nonrobust                                         \n",
       "==============================================================================\n",
       "                 coef    std err          t      P>|t|      [0.025      0.975]\n",
       "------------------------------------------------------------------------------\n",
       "const       -162.5951     87.525     -1.858      0.073    -341.603      16.413\n",
       "x1             0.0819      0.043      1.890      0.069      -0.007       0.170\n",
       "==============================================================================\n",
       "Omnibus:                        6.392   Durbin-Watson:                   1.425\n",
       "Prob(Omnibus):                  0.041   Jarque-Bera (JB):                4.739\n",
       "Skew:                          -0.752   Prob(JB):                       0.0935\n",
       "Kurtosis:                       4.186   Cond. No.                     1.93e+06\n",
       "==============================================================================\n",
       "\n",
       "Notes:\n",
       "[1] Standard Errors assume that the covariance matrix of the errors is correctly specified.\n",
       "[2] The condition number is large, 1.93e+06. This might indicate that there are\n",
       "strong multicollinearity or other numerical problems.\n",
       "\"\"\""
      ]
     },
     "execution_count": 14,
     "metadata": {},
     "output_type": "execute_result"
    }
   ],
   "source": [
    "training_time_df['Publication date (float)'] = datetime_to_float_year(pd.to_datetime(training_time_df['Publication date']))\n",
    "reg_results = fit_ols_regression(training_time_df, ['Publication date (float)'], 'Training time (hours)', logy=True)\n",
    "reg_results.summary()"
   ]
  },
  {
   "cell_type": "code",
   "execution_count": null,
   "metadata": {},
   "outputs": [
    {
     "data": {
      "application/vnd.plotly.v1+json": {
       "config": {
        "plotlyServerURL": "https://plot.ly"
       },
       "data": [
        {
         "mode": "markers",
         "text": [
          "Gemini 1.0 Ultra",
          "Falcon-180B",
          "GPT-4",
          "BLOOM-176B",
          "U-PaLM (540B)",
          "Flan-PaLM 540B",
          "GLM-130B",
          "Minerva (540B)",
          "OPT-175B",
          "PaLM (540B)",
          "LaMDA",
          "GLaM",
          "Gopher (280B)",
          "Megatron-Turing NLG 530B",
          "HyperCLOVA 82B",
          "Meta Pseudo Labels",
          "Switch",
          "GPT-3 175B (davinci)",
          "Meena",
          "OpenAI Five",
          "AlphaStar",
          "T5-11B",
          "Megatron-BERT",
          "Megatron-LM (8.3B)",
          "RoBERTa Large",
          "BigGAN-deep 512x512",
          "AlphaGo Zero",
          "JFT",
          "MoE",
          "Xception",
          "DeepSpeech2 (English)"
         ],
         "type": "scatter",
         "x": [
          "2023-12-06T00:00:00",
          "2023-09-06T00:00:00",
          "2023-03-15T00:00:00",
          "2022-11-08T00:00:00",
          "2022-10-20T00:00:00",
          "2022-10-20T00:00:00",
          "2022-08-04T00:00:00",
          "2022-06-29T00:00:00",
          "2022-05-02T00:00:00",
          "2022-04-04T00:00:00",
          "2022-02-10T00:00:00",
          "2021-12-13T00:00:00",
          "2021-12-08T00:00:00",
          "2021-10-11T00:00:00",
          "2021-09-10T00:00:00",
          "2021-03-01T00:00:00",
          "2021-01-11T00:00:00",
          "2020-05-28T00:00:00",
          "2020-01-28T00:00:00",
          "2019-12-13T00:00:00",
          "2019-10-30T00:00:00",
          "2019-10-23T00:00:00",
          "2019-09-17T00:00:00",
          "2019-09-17T00:00:00",
          "2019-07-01T00:00:00",
          "2018-09-28T00:00:00",
          "2017-10-18T00:00:00",
          "2017-07-10T00:00:00",
          "2017-01-23T00:00:00",
          "2016-10-07T00:00:00",
          "2015-12-08T00:00:00"
         ],
         "y": [
          2400,
          4320,
          2280,
          2808,
          120,
          37,
          1440,
          696,
          793.5,
          1368,
          1385,
          1366,
          920,
          770,
          643.2,
          264,
          648,
          355.2,
          720,
          7104,
          1056,
          481.9,
          1392,
          327,
          120,
          48,
          480,
          1440,
          288,
          720,
          120
         ]
        }
       ],
       "layout": {
        "height": 600,
        "template": {
         "data": {
          "bar": [
           {
            "error_x": {
             "color": "#2a3f5f"
            },
            "error_y": {
             "color": "#2a3f5f"
            },
            "marker": {
             "line": {
              "color": "#E5ECF6",
              "width": 0.5
             },
             "pattern": {
              "fillmode": "overlay",
              "size": 10,
              "solidity": 0.2
             }
            },
            "type": "bar"
           }
          ],
          "barpolar": [
           {
            "marker": {
             "line": {
              "color": "#E5ECF6",
              "width": 0.5
             },
             "pattern": {
              "fillmode": "overlay",
              "size": 10,
              "solidity": 0.2
             }
            },
            "type": "barpolar"
           }
          ],
          "carpet": [
           {
            "aaxis": {
             "endlinecolor": "#2a3f5f",
             "gridcolor": "white",
             "linecolor": "white",
             "minorgridcolor": "white",
             "startlinecolor": "#2a3f5f"
            },
            "baxis": {
             "endlinecolor": "#2a3f5f",
             "gridcolor": "white",
             "linecolor": "white",
             "minorgridcolor": "white",
             "startlinecolor": "#2a3f5f"
            },
            "type": "carpet"
           }
          ],
          "choropleth": [
           {
            "colorbar": {
             "outlinewidth": 0,
             "ticks": ""
            },
            "type": "choropleth"
           }
          ],
          "contour": [
           {
            "colorbar": {
             "outlinewidth": 0,
             "ticks": ""
            },
            "colorscale": [
             [
              0,
              "#0d0887"
             ],
             [
              0.1111111111111111,
              "#46039f"
             ],
             [
              0.2222222222222222,
              "#7201a8"
             ],
             [
              0.3333333333333333,
              "#9c179e"
             ],
             [
              0.4444444444444444,
              "#bd3786"
             ],
             [
              0.5555555555555556,
              "#d8576b"
             ],
             [
              0.6666666666666666,
              "#ed7953"
             ],
             [
              0.7777777777777778,
              "#fb9f3a"
             ],
             [
              0.8888888888888888,
              "#fdca26"
             ],
             [
              1,
              "#f0f921"
             ]
            ],
            "type": "contour"
           }
          ],
          "contourcarpet": [
           {
            "colorbar": {
             "outlinewidth": 0,
             "ticks": ""
            },
            "type": "contourcarpet"
           }
          ],
          "heatmap": [
           {
            "colorbar": {
             "outlinewidth": 0,
             "ticks": ""
            },
            "colorscale": [
             [
              0,
              "#0d0887"
             ],
             [
              0.1111111111111111,
              "#46039f"
             ],
             [
              0.2222222222222222,
              "#7201a8"
             ],
             [
              0.3333333333333333,
              "#9c179e"
             ],
             [
              0.4444444444444444,
              "#bd3786"
             ],
             [
              0.5555555555555556,
              "#d8576b"
             ],
             [
              0.6666666666666666,
              "#ed7953"
             ],
             [
              0.7777777777777778,
              "#fb9f3a"
             ],
             [
              0.8888888888888888,
              "#fdca26"
             ],
             [
              1,
              "#f0f921"
             ]
            ],
            "type": "heatmap"
           }
          ],
          "heatmapgl": [
           {
            "colorbar": {
             "outlinewidth": 0,
             "ticks": ""
            },
            "colorscale": [
             [
              0,
              "#0d0887"
             ],
             [
              0.1111111111111111,
              "#46039f"
             ],
             [
              0.2222222222222222,
              "#7201a8"
             ],
             [
              0.3333333333333333,
              "#9c179e"
             ],
             [
              0.4444444444444444,
              "#bd3786"
             ],
             [
              0.5555555555555556,
              "#d8576b"
             ],
             [
              0.6666666666666666,
              "#ed7953"
             ],
             [
              0.7777777777777778,
              "#fb9f3a"
             ],
             [
              0.8888888888888888,
              "#fdca26"
             ],
             [
              1,
              "#f0f921"
             ]
            ],
            "type": "heatmapgl"
           }
          ],
          "histogram": [
           {
            "marker": {
             "pattern": {
              "fillmode": "overlay",
              "size": 10,
              "solidity": 0.2
             }
            },
            "type": "histogram"
           }
          ],
          "histogram2d": [
           {
            "colorbar": {
             "outlinewidth": 0,
             "ticks": ""
            },
            "colorscale": [
             [
              0,
              "#0d0887"
             ],
             [
              0.1111111111111111,
              "#46039f"
             ],
             [
              0.2222222222222222,
              "#7201a8"
             ],
             [
              0.3333333333333333,
              "#9c179e"
             ],
             [
              0.4444444444444444,
              "#bd3786"
             ],
             [
              0.5555555555555556,
              "#d8576b"
             ],
             [
              0.6666666666666666,
              "#ed7953"
             ],
             [
              0.7777777777777778,
              "#fb9f3a"
             ],
             [
              0.8888888888888888,
              "#fdca26"
             ],
             [
              1,
              "#f0f921"
             ]
            ],
            "type": "histogram2d"
           }
          ],
          "histogram2dcontour": [
           {
            "colorbar": {
             "outlinewidth": 0,
             "ticks": ""
            },
            "colorscale": [
             [
              0,
              "#0d0887"
             ],
             [
              0.1111111111111111,
              "#46039f"
             ],
             [
              0.2222222222222222,
              "#7201a8"
             ],
             [
              0.3333333333333333,
              "#9c179e"
             ],
             [
              0.4444444444444444,
              "#bd3786"
             ],
             [
              0.5555555555555556,
              "#d8576b"
             ],
             [
              0.6666666666666666,
              "#ed7953"
             ],
             [
              0.7777777777777778,
              "#fb9f3a"
             ],
             [
              0.8888888888888888,
              "#fdca26"
             ],
             [
              1,
              "#f0f921"
             ]
            ],
            "type": "histogram2dcontour"
           }
          ],
          "mesh3d": [
           {
            "colorbar": {
             "outlinewidth": 0,
             "ticks": ""
            },
            "type": "mesh3d"
           }
          ],
          "parcoords": [
           {
            "line": {
             "colorbar": {
              "outlinewidth": 0,
              "ticks": ""
             }
            },
            "type": "parcoords"
           }
          ],
          "pie": [
           {
            "automargin": true,
            "type": "pie"
           }
          ],
          "scatter": [
           {
            "fillpattern": {
             "fillmode": "overlay",
             "size": 10,
             "solidity": 0.2
            },
            "type": "scatter"
           }
          ],
          "scatter3d": [
           {
            "line": {
             "colorbar": {
              "outlinewidth": 0,
              "ticks": ""
             }
            },
            "marker": {
             "colorbar": {
              "outlinewidth": 0,
              "ticks": ""
             }
            },
            "type": "scatter3d"
           }
          ],
          "scattercarpet": [
           {
            "marker": {
             "colorbar": {
              "outlinewidth": 0,
              "ticks": ""
             }
            },
            "type": "scattercarpet"
           }
          ],
          "scattergeo": [
           {
            "marker": {
             "colorbar": {
              "outlinewidth": 0,
              "ticks": ""
             }
            },
            "type": "scattergeo"
           }
          ],
          "scattergl": [
           {
            "marker": {
             "colorbar": {
              "outlinewidth": 0,
              "ticks": ""
             }
            },
            "type": "scattergl"
           }
          ],
          "scattermapbox": [
           {
            "marker": {
             "colorbar": {
              "outlinewidth": 0,
              "ticks": ""
             }
            },
            "type": "scattermapbox"
           }
          ],
          "scatterpolar": [
           {
            "marker": {
             "colorbar": {
              "outlinewidth": 0,
              "ticks": ""
             }
            },
            "type": "scatterpolar"
           }
          ],
          "scatterpolargl": [
           {
            "marker": {
             "colorbar": {
              "outlinewidth": 0,
              "ticks": ""
             }
            },
            "type": "scatterpolargl"
           }
          ],
          "scatterternary": [
           {
            "marker": {
             "colorbar": {
              "outlinewidth": 0,
              "ticks": ""
             }
            },
            "type": "scatterternary"
           }
          ],
          "surface": [
           {
            "colorbar": {
             "outlinewidth": 0,
             "ticks": ""
            },
            "colorscale": [
             [
              0,
              "#0d0887"
             ],
             [
              0.1111111111111111,
              "#46039f"
             ],
             [
              0.2222222222222222,
              "#7201a8"
             ],
             [
              0.3333333333333333,
              "#9c179e"
             ],
             [
              0.4444444444444444,
              "#bd3786"
             ],
             [
              0.5555555555555556,
              "#d8576b"
             ],
             [
              0.6666666666666666,
              "#ed7953"
             ],
             [
              0.7777777777777778,
              "#fb9f3a"
             ],
             [
              0.8888888888888888,
              "#fdca26"
             ],
             [
              1,
              "#f0f921"
             ]
            ],
            "type": "surface"
           }
          ],
          "table": [
           {
            "cells": {
             "fill": {
              "color": "#EBF0F8"
             },
             "line": {
              "color": "white"
             }
            },
            "header": {
             "fill": {
              "color": "#C8D4E3"
             },
             "line": {
              "color": "white"
             }
            },
            "type": "table"
           }
          ]
         },
         "layout": {
          "annotationdefaults": {
           "arrowcolor": "#2a3f5f",
           "arrowhead": 0,
           "arrowwidth": 1
          },
          "autotypenumbers": "strict",
          "coloraxis": {
           "colorbar": {
            "outlinewidth": 0,
            "ticks": ""
           }
          },
          "colorscale": {
           "diverging": [
            [
             0,
             "#8e0152"
            ],
            [
             0.1,
             "#c51b7d"
            ],
            [
             0.2,
             "#de77ae"
            ],
            [
             0.3,
             "#f1b6da"
            ],
            [
             0.4,
             "#fde0ef"
            ],
            [
             0.5,
             "#f7f7f7"
            ],
            [
             0.6,
             "#e6f5d0"
            ],
            [
             0.7,
             "#b8e186"
            ],
            [
             0.8,
             "#7fbc41"
            ],
            [
             0.9,
             "#4d9221"
            ],
            [
             1,
             "#276419"
            ]
           ],
           "sequential": [
            [
             0,
             "#0d0887"
            ],
            [
             0.1111111111111111,
             "#46039f"
            ],
            [
             0.2222222222222222,
             "#7201a8"
            ],
            [
             0.3333333333333333,
             "#9c179e"
            ],
            [
             0.4444444444444444,
             "#bd3786"
            ],
            [
             0.5555555555555556,
             "#d8576b"
            ],
            [
             0.6666666666666666,
             "#ed7953"
            ],
            [
             0.7777777777777778,
             "#fb9f3a"
            ],
            [
             0.8888888888888888,
             "#fdca26"
            ],
            [
             1,
             "#f0f921"
            ]
           ],
           "sequentialminus": [
            [
             0,
             "#0d0887"
            ],
            [
             0.1111111111111111,
             "#46039f"
            ],
            [
             0.2222222222222222,
             "#7201a8"
            ],
            [
             0.3333333333333333,
             "#9c179e"
            ],
            [
             0.4444444444444444,
             "#bd3786"
            ],
            [
             0.5555555555555556,
             "#d8576b"
            ],
            [
             0.6666666666666666,
             "#ed7953"
            ],
            [
             0.7777777777777778,
             "#fb9f3a"
            ],
            [
             0.8888888888888888,
             "#fdca26"
            ],
            [
             1,
             "#f0f921"
            ]
           ]
          },
          "colorway": [
           "#636efa",
           "#EF553B",
           "#00cc96",
           "#ab63fa",
           "#FFA15A",
           "#19d3f3",
           "#FF6692",
           "#B6E880",
           "#FF97FF",
           "#FECB52"
          ],
          "font": {
           "color": "#2a3f5f"
          },
          "geo": {
           "bgcolor": "white",
           "lakecolor": "white",
           "landcolor": "#E5ECF6",
           "showlakes": true,
           "showland": true,
           "subunitcolor": "white"
          },
          "hoverlabel": {
           "align": "left"
          },
          "hovermode": "closest",
          "mapbox": {
           "style": "light"
          },
          "paper_bgcolor": "white",
          "plot_bgcolor": "#E5ECF6",
          "polar": {
           "angularaxis": {
            "gridcolor": "white",
            "linecolor": "white",
            "ticks": ""
           },
           "bgcolor": "#E5ECF6",
           "radialaxis": {
            "gridcolor": "white",
            "linecolor": "white",
            "ticks": ""
           }
          },
          "scene": {
           "xaxis": {
            "backgroundcolor": "#E5ECF6",
            "gridcolor": "white",
            "gridwidth": 2,
            "linecolor": "white",
            "showbackground": true,
            "ticks": "",
            "zerolinecolor": "white"
           },
           "yaxis": {
            "backgroundcolor": "#E5ECF6",
            "gridcolor": "white",
            "gridwidth": 2,
            "linecolor": "white",
            "showbackground": true,
            "ticks": "",
            "zerolinecolor": "white"
           },
           "zaxis": {
            "backgroundcolor": "#E5ECF6",
            "gridcolor": "white",
            "gridwidth": 2,
            "linecolor": "white",
            "showbackground": true,
            "ticks": "",
            "zerolinecolor": "white"
           }
          },
          "shapedefaults": {
           "line": {
            "color": "#2a3f5f"
           }
          },
          "ternary": {
           "aaxis": {
            "gridcolor": "white",
            "linecolor": "white",
            "ticks": ""
           },
           "baxis": {
            "gridcolor": "white",
            "linecolor": "white",
            "ticks": ""
           },
           "bgcolor": "#E5ECF6",
           "caxis": {
            "gridcolor": "white",
            "linecolor": "white",
            "ticks": ""
           }
          },
          "title": {
           "x": 0.05
          },
          "xaxis": {
           "automargin": true,
           "gridcolor": "white",
           "linecolor": "white",
           "ticks": "",
           "title": {
            "standoff": 15
           },
           "zerolinecolor": "white",
           "zerolinewidth": 2
          },
          "yaxis": {
           "automargin": true,
           "gridcolor": "white",
           "linecolor": "white",
           "ticks": "",
           "title": {
            "standoff": 15
           },
           "zerolinecolor": "white",
           "zerolinewidth": 2
          }
         }
        },
        "title": {
         "text": "Training times of notable models"
        },
        "width": 800,
        "xaxis": {
         "title": {
          "text": "Publication date"
         }
        },
        "yaxis": {
         "title": {
          "text": "Training time (hours)"
         },
         "type": "log"
        }
       }
      }
     },
     "metadata": {},
     "output_type": "display_data"
    }
   ],
   "source": [
    "# Plot training time\n",
    "fig = go.Figure()\n",
    "fig.add_trace(go.Scatter(\n",
    "    x=training_time_df['Publication date'],\n",
    "    y=training_time_df['Training time (hours)'],\n",
    "    mode='markers',\n",
    "    text=training_time_df['Model']\n",
    "))\n",
    "fig.update_layout(\n",
    "    title='Training times of notable models',\n",
    "    xaxis_title='Publication date',\n",
    "    yaxis_title='Training time (hours)',\n",
    "    yaxis_type='log',\n",
    "    width=800,\n",
    "    height=600,\n",
    ")\n",
    "fig.show()"
   ]
  },
  {
   "cell_type": "code",
   "execution_count": null,
   "metadata": {},
   "outputs": [
    {
     "data": {
      "text/plain": [
       "720.0"
      ]
     },
     "execution_count": 16,
     "metadata": {},
     "output_type": "execute_result"
    }
   ],
   "source": [
    "np.median(training_time_df['Training time (hours)'])"
   ]
  },
  {
   "cell_type": "code",
   "execution_count": null,
   "metadata": {},
   "outputs": [
    {
     "data": {
      "text/plain": [
       "341.1"
      ]
     },
     "execution_count": 17,
     "metadata": {},
     "output_type": "execute_result"
    }
   ],
   "source": [
    "np.percentile(training_time_df['Training time (hours)'], 25)"
   ]
  },
  {
   "cell_type": "code",
   "execution_count": null,
   "metadata": {},
   "outputs": [
    {
     "data": {
      "text/plain": [
       "1388.5"
      ]
     },
     "execution_count": 18,
     "metadata": {},
     "output_type": "execute_result"
    }
   ],
   "source": [
    "np.percentile(training_time_df['Training time (hours)'], 75)"
   ]
  },
  {
   "cell_type": "code",
   "execution_count": null,
   "metadata": {},
   "outputs": [
    {
     "data": {
      "text/plain": [
       "31"
      ]
     },
     "execution_count": 19,
     "metadata": {},
     "output_type": "execute_result"
    }
   ],
   "source": [
    "training_time_df['Training time (hours)'].notna().sum()"
   ]
  },
  {
   "cell_type": "code",
   "execution_count": null,
   "metadata": {},
   "outputs": [
    {
     "data": {
      "text/plain": [
       "0.25345"
      ]
     },
     "execution_count": 20,
     "metadata": {},
     "output_type": "execute_result"
    }
   ],
   "source": [
    "np.percentile(frontier_pcd_df['Hardware utilization'].dropna(), 25)"
   ]
  },
  {
   "cell_type": "code",
   "execution_count": null,
   "metadata": {},
   "outputs": [
    {
     "data": {
      "text/plain": [
       "0.45"
      ]
     },
     "execution_count": 21,
     "metadata": {},
     "output_type": "execute_result"
    }
   ],
   "source": [
    "np.percentile(frontier_pcd_df['Hardware utilization'].dropna(), 75)"
   ]
  },
  {
   "cell_type": "markdown",
   "metadata": {},
   "source": [
    "# Hardware depreciation"
   ]
  },
  {
   "cell_type": "code",
   "execution_count": null,
   "metadata": {},
   "outputs": [
    {
     "data": {
      "application/vnd.plotly.v1+json": {
       "config": {
        "plotlyServerURL": "https://plot.ly"
       },
       "data": [
        {
         "mode": "lines",
         "name": "Exponential: price performance trend",
         "type": "scatter",
         "x": [
          0,
          0.1,
          0.2,
          0.30000000000000004,
          0.4,
          0.5,
          0.6000000000000001,
          0.7000000000000001,
          0.8,
          0.9,
          1,
          1.1,
          1.2000000000000002,
          1.3,
          1.4000000000000001,
          1.5,
          1.6,
          1.7000000000000002,
          1.8,
          1.9000000000000001,
          2,
          2.1,
          2.2,
          2.3000000000000003,
          2.4000000000000004,
          2.5,
          2.6,
          2.7,
          2.8000000000000003,
          2.9000000000000004,
          3,
          3.1,
          3.2,
          3.3000000000000003,
          3.4000000000000004,
          3.5,
          3.6,
          3.7,
          3.8000000000000003,
          3.9000000000000004,
          4,
          4.1000000000000005,
          4.2,
          4.3,
          4.4,
          4.5,
          4.6000000000000005,
          4.7,
          4.800000000000001,
          4.9,
          5,
          5.1000000000000005,
          5.2,
          5.300000000000001,
          5.4,
          5.5,
          5.6000000000000005,
          5.7,
          5.800000000000001,
          5.9,
          6
         ],
         "y": [
          1,
          0.9682778562612492,
          0.9375620069258802,
          0.9078205301781858,
          0.8790225168308843,
          0.8511380382023764,
          0.8241381150130023,
          0.7979946872679766,
          0.7726805850957023,
          0.7481695005111543,
          0.72443596007499,
          0.7014552984199712,
          0.6792036326171845,
          0.6576578373554205,
          0.6367955209079158,
          0.6165950018614821,
          0.5970352865838369,
          0.5780960474057181,
          0.5597576014951101,
          0.5420008904016238,
          0.5248074602497725,
          0.5081594425605604,
          0.49203953568145087,
          0.4764309868054156,
          0.4613175745603793,
          0.4466835921509631,
          0.4325138310350087,
          0.4187935651179183,
          0.4055085354483838,
          0.39264493539959977,
          0.38018939632056115,
          0.3681289736425314,
          0.3564511334262442,
          0.3451437393358562,
          0.33419504002611417,
          0.3235936569296282,
          0.3133285724315585,
          0.30338911841942695,
          0.29376496519615297,
          0.2844461107447915,
          0.2754228703338166,
          0.26668586645214787,
          0.2582260190634596,
          0.25003453616964316,
          0.24210290467361775,
          0.23442288153199214,
          0.22698648518838213,
          0.21978598727848242,
          0.21281390459827113,
          0.20606299132699996,
          0.19952623149688792,
          0.19319683170169233,
          0.18706821403658003,
          0.18113400926196016,
          0.17538805018417608,
          0.16982436524617442,
          0.1644371723214931,
          0.15922087270511695,
          0.15417004529495587,
          0.14927944095789955,
          0.1445439770745927
         ]
        },
        {
         "line": {
          "width": 0
         },
         "mode": "lines",
         "showlegend": false,
         "type": "scatter",
         "x": [
          0,
          0.1,
          0.2,
          0.30000000000000004,
          0.4,
          0.5,
          0.6000000000000001,
          0.7000000000000001,
          0.8,
          0.9,
          1,
          1.1,
          1.2000000000000002,
          1.3,
          1.4000000000000001,
          1.5,
          1.6,
          1.7000000000000002,
          1.8,
          1.9000000000000001,
          2,
          2.1,
          2.2,
          2.3000000000000003,
          2.4000000000000004,
          2.5,
          2.6,
          2.7,
          2.8000000000000003,
          2.9000000000000004,
          3,
          3.1,
          3.2,
          3.3000000000000003,
          3.4000000000000004,
          3.5,
          3.6,
          3.7,
          3.8000000000000003,
          3.9000000000000004,
          4,
          4.1000000000000005,
          4.2,
          4.3,
          4.4,
          4.5,
          4.6000000000000005,
          4.7,
          4.800000000000001,
          4.9,
          5,
          5.1000000000000005,
          5.2,
          5.300000000000001,
          5.4,
          5.5,
          5.6000000000000005,
          5.7,
          5.800000000000001,
          5.9,
          6
         ],
         "y": [
          1,
          0.9594006315159331,
          0.9204495717531713,
          0.8830799004185628,
          0.8472274141405964,
          0.8128305161640993,
          0.7798301105232587,
          0.7481695005111544,
          0.7177942912713617,
          0.688652296344276,
          0.660693448007596,
          0.6338697112569269,
          0.6081350012787179,
          0.5834451042737447,
          0.5597576014951101,
          0.5370317963702527,
          0.5152286445817565,
          0.49431068698683545,
          0.47424198526024464,
          0.45498806015004856,
          0.436515832240166,
          0.4187935651179184,
          0.4017908108489399,
          0.38547835766577176,
          0.36982817978026616,
          0.35481338923357547,
          0.3404081897010009,
          0.32658783217233583,
          0.31332857243155854,
          0.30060763026282306,
          0.28840315031266056,
          0.2766941645411512,
          0.265460556197554,
          0.2546830252585041,
          0.2443430552693972,
          0.2344228815319922,
          0.2249054605835781,
          0.21577444091526662,
          0.2070141348791042,
          0.1986094917357371,
          0.19054607179632474,
          0.18281002161427423,
          0.1753880501841761,
          0.16826740610704677,
          0.16143585568264862,
          0.15488166189124816,
          0.14859356422870068,
          0.14256075936021884,
          0.13677288255958486,
          0.13121998990192033,
          0.12589254117941676,
          0.120781383510678,
          0.11587773561551262,
          0.11117317272815912,
          0.10665961212302578,
          0.10232929922807542,
          0.09817479430199844,
          0.09418895965228413,
          0.09036494737223014,
          0.08669618757582165,
          0.08317637711026708
         ]
        },
        {
         "fill": "tonexty",
         "fillcolor": "rgba(0,100,200,0.2)",
         "line": {
          "width": 0
         },
         "mode": "lines",
         "name": "90% CI",
         "type": "scatter",
         "x": [
          0,
          0.1,
          0.2,
          0.30000000000000004,
          0.4,
          0.5,
          0.6000000000000001,
          0.7000000000000001,
          0.8,
          0.9,
          1,
          1.1,
          1.2000000000000002,
          1.3,
          1.4000000000000001,
          1.5,
          1.6,
          1.7000000000000002,
          1.8,
          1.9000000000000001,
          2,
          2.1,
          2.2,
          2.3000000000000003,
          2.4000000000000004,
          2.5,
          2.6,
          2.7,
          2.8000000000000003,
          2.9000000000000004,
          3,
          3.1,
          3.2,
          3.3000000000000003,
          3.4000000000000004,
          3.5,
          3.6,
          3.7,
          3.8000000000000003,
          3.9000000000000004,
          4,
          4.1000000000000005,
          4.2,
          4.3,
          4.4,
          4.5,
          4.6000000000000005,
          4.7,
          4.800000000000001,
          4.9,
          5,
          5.1000000000000005,
          5.2,
          5.300000000000001,
          5.4,
          5.5,
          5.6000000000000005,
          5.7,
          5.800000000000001,
          5.9,
          6
         ],
         "y": [
          1,
          0.9772372209558107,
          0.954992586021436,
          0.933254300796991,
          0.9120108393559098,
          0.8912509381337456,
          0.8709635899560806,
          0.8511380382023764,
          0.831763771102671,
          0.8128305161640992,
          0.7943282347242815,
          0.7762471166286917,
          0.7585775750291838,
          0.7413102413009175,
          0.72443596007499,
          0.7079457843841379,
          0.6918309709189364,
          0.6760829753919817,
          0.660693448007596,
          0.6456542290346555,
          0.6309573444801932,
          0.6165950018614821,
          0.6025595860743577,
          0.5888436553555889,
          0.5754399373371568,
          0.5623413251903491,
          0.5495408738576245,
          0.5370317963702527,
          0.5248074602497725,
          0.5128613839913648,
          0.5011872336272722,
          0.48977881936844614,
          0.47863009232263826,
          0.4677351412871981,
          0.45708818961487496,
          0.4466835921509631,
          0.43651583224016594,
          0.4265795188015926,
          0.41686938347033536,
          0.4073802778041127,
          0.3981071705534972,
          0.3890451449942805,
          0.38018939632056115,
          0.37153522909717257,
          0.3630780547701013,
          0.35481338923357547,
          0.34673685045253155,
          0.33884415613920255,
          0.33113112148259105,
          0.3235936569296282,
          0.31622776601683794,
          0.30902954325135895,
          0.3019951720402016,
          0.2951209226666385,
          0.28840315031266056,
          0.28183829312644537,
          0.2754228703338166,
          0.26915348039269155,
          0.26302679918953814,
          0.25703957827688634,
          0.25118864315095796
         ]
        },
        {
         "line": {
          "dash": "dot"
         },
         "mode": "lines",
         "name": "Linear: 3-year lifetime",
         "type": "scatter",
         "x": [
          0,
          0.1,
          0.2,
          0.30000000000000004,
          0.4,
          0.5,
          0.6000000000000001,
          0.7000000000000001,
          0.8,
          0.9,
          1,
          1.1,
          1.2000000000000002,
          1.3,
          1.4000000000000001,
          1.5,
          1.6,
          1.7000000000000002,
          1.8,
          1.9000000000000001,
          2,
          2.1,
          2.2,
          2.3000000000000003,
          2.4000000000000004,
          2.5,
          2.6,
          2.7,
          2.8000000000000003,
          2.9000000000000004,
          3,
          3.1,
          3.2,
          3.3000000000000003,
          3.4000000000000004,
          3.5,
          3.6,
          3.7,
          3.8000000000000003,
          3.9000000000000004,
          4,
          4.1000000000000005,
          4.2,
          4.3,
          4.4,
          4.5,
          4.6000000000000005,
          4.7,
          4.800000000000001,
          4.9,
          5,
          5.1000000000000005,
          5.2,
          5.300000000000001,
          5.4,
          5.5,
          5.6000000000000005,
          5.7,
          5.800000000000001,
          5.9,
          6
         ],
         "y": [
          1,
          0.9666666666666667,
          0.9333333333333333,
          0.9,
          0.8666666666666667,
          0.8333333333333334,
          0.7999999999999999,
          0.7666666666666666,
          0.7333333333333334,
          0.7,
          0.6666666666666667,
          0.6333333333333333,
          0.5999999999999999,
          0.5666666666666667,
          0.5333333333333332,
          0.5,
          0.4666666666666667,
          0.43333333333333324,
          0.4,
          0.3666666666666666,
          0.33333333333333337,
          0.29999999999999993,
          0.2666666666666666,
          0.23333333333333328,
          0.19999999999999984,
          0.16666666666666663,
          0.1333333333333333,
          0.09999999999999998,
          0.06666666666666654,
          0.033333333333333215,
          0,
          -0.03333333333333344,
          -0.06666666666666665,
          -0.10000000000000009,
          -0.13333333333333353,
          -0.16666666666666674,
          -0.19999999999999996,
          -0.2333333333333334,
          -0.26666666666666683,
          -0.30000000000000004,
          -0.33333333333333326,
          -0.3666666666666669,
          -0.40000000000000013,
          -0.43333333333333335,
          -0.4666666666666668,
          -0.5,
          -0.5333333333333334,
          -0.5666666666666667,
          -0.6000000000000003,
          -0.6333333333333335,
          -0.6666666666666667,
          -0.7000000000000002,
          -0.7333333333333334,
          -0.7666666666666668,
          -0.8,
          -0.8333333333333333,
          -0.8666666666666669,
          -0.9000000000000001,
          -0.9333333333333336,
          -0.9666666666666668,
          -1
         ]
        },
        {
         "line": {
          "dash": "dot"
         },
         "mode": "lines",
         "name": "Linear: 4-year lifetime",
         "type": "scatter",
         "x": [
          0,
          0.1,
          0.2,
          0.30000000000000004,
          0.4,
          0.5,
          0.6000000000000001,
          0.7000000000000001,
          0.8,
          0.9,
          1,
          1.1,
          1.2000000000000002,
          1.3,
          1.4000000000000001,
          1.5,
          1.6,
          1.7000000000000002,
          1.8,
          1.9000000000000001,
          2,
          2.1,
          2.2,
          2.3000000000000003,
          2.4000000000000004,
          2.5,
          2.6,
          2.7,
          2.8000000000000003,
          2.9000000000000004,
          3,
          3.1,
          3.2,
          3.3000000000000003,
          3.4000000000000004,
          3.5,
          3.6,
          3.7,
          3.8000000000000003,
          3.9000000000000004,
          4,
          4.1000000000000005,
          4.2,
          4.3,
          4.4,
          4.5,
          4.6000000000000005,
          4.7,
          4.800000000000001,
          4.9,
          5,
          5.1000000000000005,
          5.2,
          5.300000000000001,
          5.4,
          5.5,
          5.6000000000000005,
          5.7,
          5.800000000000001,
          5.9,
          6
         ],
         "y": [
          1,
          0.975,
          0.95,
          0.925,
          0.9,
          0.875,
          0.85,
          0.825,
          0.8,
          0.775,
          0.75,
          0.725,
          0.7,
          0.675,
          0.6499999999999999,
          0.625,
          0.6,
          0.575,
          0.55,
          0.5249999999999999,
          0.5,
          0.475,
          0.44999999999999996,
          0.42499999999999993,
          0.3999999999999999,
          0.375,
          0.35,
          0.32499999999999996,
          0.29999999999999993,
          0.2749999999999999,
          0.25,
          0.22499999999999998,
          0.19999999999999996,
          0.17499999999999993,
          0.1499999999999999,
          0.125,
          0.09999999999999998,
          0.07499999999999996,
          0.04999999999999993,
          0.02499999999999991,
          0,
          -0.025000000000000133,
          -0.050000000000000044,
          -0.07499999999999996,
          -0.10000000000000009,
          -0.125,
          -0.15000000000000013,
          -0.17500000000000004,
          -0.20000000000000018,
          -0.2250000000000001,
          -0.25,
          -0.27500000000000013,
          -0.30000000000000004,
          -0.3250000000000002,
          -0.3500000000000001,
          -0.375,
          -0.40000000000000013,
          -0.42500000000000004,
          -0.4500000000000002,
          -0.4750000000000001,
          -0.5
         ]
        },
        {
         "line": {
          "dash": "dot"
         },
         "mode": "lines",
         "name": "Linear: 5-year lifetime",
         "type": "scatter",
         "x": [
          0,
          0.1,
          0.2,
          0.30000000000000004,
          0.4,
          0.5,
          0.6000000000000001,
          0.7000000000000001,
          0.8,
          0.9,
          1,
          1.1,
          1.2000000000000002,
          1.3,
          1.4000000000000001,
          1.5,
          1.6,
          1.7000000000000002,
          1.8,
          1.9000000000000001,
          2,
          2.1,
          2.2,
          2.3000000000000003,
          2.4000000000000004,
          2.5,
          2.6,
          2.7,
          2.8000000000000003,
          2.9000000000000004,
          3,
          3.1,
          3.2,
          3.3000000000000003,
          3.4000000000000004,
          3.5,
          3.6,
          3.7,
          3.8000000000000003,
          3.9000000000000004,
          4,
          4.1000000000000005,
          4.2,
          4.3,
          4.4,
          4.5,
          4.6000000000000005,
          4.7,
          4.800000000000001,
          4.9,
          5,
          5.1000000000000005,
          5.2,
          5.300000000000001,
          5.4,
          5.5,
          5.6000000000000005,
          5.7,
          5.800000000000001,
          5.9,
          6
         ],
         "y": [
          1,
          0.98,
          0.96,
          0.94,
          0.92,
          0.9,
          0.88,
          0.86,
          0.84,
          0.8200000000000001,
          0.8,
          0.78,
          0.76,
          0.74,
          0.72,
          0.7,
          0.6799999999999999,
          0.6599999999999999,
          0.64,
          0.62,
          0.6,
          0.58,
          0.5599999999999999,
          0.5399999999999999,
          0.5199999999999999,
          0.5,
          0.48,
          0.45999999999999996,
          0.43999999999999995,
          0.41999999999999993,
          0.4,
          0.38,
          0.36,
          0.33999999999999997,
          0.31999999999999995,
          0.30000000000000004,
          0.28,
          0.26,
          0.24,
          0.21999999999999997,
          0.19999999999999996,
          0.17999999999999994,
          0.15999999999999992,
          0.14,
          0.11999999999999988,
          0.09999999999999998,
          0.07999999999999985,
          0.05999999999999994,
          0.039999999999999813,
          0.019999999999999907,
          0,
          -0.020000000000000018,
          -0.040000000000000036,
          -0.06000000000000005,
          -0.08000000000000007,
          -0.10000000000000009,
          -0.1200000000000001,
          -0.14000000000000012,
          -0.16000000000000014,
          -0.18000000000000016,
          -0.19999999999999996
         ]
        },
        {
         "line": {
          "dash": "dot"
         },
         "mode": "lines",
         "name": "Linear: 6-year lifetime",
         "type": "scatter",
         "x": [
          0,
          0.1,
          0.2,
          0.30000000000000004,
          0.4,
          0.5,
          0.6000000000000001,
          0.7000000000000001,
          0.8,
          0.9,
          1,
          1.1,
          1.2000000000000002,
          1.3,
          1.4000000000000001,
          1.5,
          1.6,
          1.7000000000000002,
          1.8,
          1.9000000000000001,
          2,
          2.1,
          2.2,
          2.3000000000000003,
          2.4000000000000004,
          2.5,
          2.6,
          2.7,
          2.8000000000000003,
          2.9000000000000004,
          3,
          3.1,
          3.2,
          3.3000000000000003,
          3.4000000000000004,
          3.5,
          3.6,
          3.7,
          3.8000000000000003,
          3.9000000000000004,
          4,
          4.1000000000000005,
          4.2,
          4.3,
          4.4,
          4.5,
          4.6000000000000005,
          4.7,
          4.800000000000001,
          4.9,
          5,
          5.1000000000000005,
          5.2,
          5.300000000000001,
          5.4,
          5.5,
          5.6000000000000005,
          5.7,
          5.800000000000001,
          5.9,
          6
         ],
         "y": [
          1,
          0.9833333333333333,
          0.9666666666666667,
          0.95,
          0.9333333333333333,
          0.9166666666666666,
          0.9,
          0.8833333333333333,
          0.8666666666666667,
          0.85,
          0.8333333333333334,
          0.8166666666666667,
          0.7999999999999999,
          0.7833333333333333,
          0.7666666666666666,
          0.75,
          0.7333333333333334,
          0.7166666666666666,
          0.7,
          0.6833333333333333,
          0.6666666666666667,
          0.6499999999999999,
          0.6333333333333333,
          0.6166666666666667,
          0.5999999999999999,
          0.5833333333333333,
          0.5666666666666667,
          0.55,
          0.5333333333333332,
          0.5166666666666666,
          0.5,
          0.4833333333333333,
          0.4666666666666667,
          0.44999999999999996,
          0.43333333333333324,
          0.41666666666666663,
          0.4,
          0.3833333333333333,
          0.3666666666666666,
          0.35,
          0.33333333333333337,
          0.31666666666666654,
          0.29999999999999993,
          0.2833333333333333,
          0.2666666666666666,
          0.25,
          0.23333333333333328,
          0.21666666666666667,
          0.19999999999999984,
          0.18333333333333324,
          0.16666666666666663,
          0.1499999999999999,
          0.1333333333333333,
          0.11666666666666659,
          0.09999999999999998,
          0.08333333333333337,
          0.06666666666666654,
          0.04999999999999993,
          0.033333333333333215,
          0.016666666666666607,
          0
         ]
        }
       ],
       "layout": {
        "height": 600,
        "template": {
         "data": {
          "bar": [
           {
            "error_x": {
             "color": "#2a3f5f"
            },
            "error_y": {
             "color": "#2a3f5f"
            },
            "marker": {
             "line": {
              "color": "#E5ECF6",
              "width": 0.5
             },
             "pattern": {
              "fillmode": "overlay",
              "size": 10,
              "solidity": 0.2
             }
            },
            "type": "bar"
           }
          ],
          "barpolar": [
           {
            "marker": {
             "line": {
              "color": "#E5ECF6",
              "width": 0.5
             },
             "pattern": {
              "fillmode": "overlay",
              "size": 10,
              "solidity": 0.2
             }
            },
            "type": "barpolar"
           }
          ],
          "carpet": [
           {
            "aaxis": {
             "endlinecolor": "#2a3f5f",
             "gridcolor": "white",
             "linecolor": "white",
             "minorgridcolor": "white",
             "startlinecolor": "#2a3f5f"
            },
            "baxis": {
             "endlinecolor": "#2a3f5f",
             "gridcolor": "white",
             "linecolor": "white",
             "minorgridcolor": "white",
             "startlinecolor": "#2a3f5f"
            },
            "type": "carpet"
           }
          ],
          "choropleth": [
           {
            "colorbar": {
             "outlinewidth": 0,
             "ticks": ""
            },
            "type": "choropleth"
           }
          ],
          "contour": [
           {
            "colorbar": {
             "outlinewidth": 0,
             "ticks": ""
            },
            "colorscale": [
             [
              0,
              "#0d0887"
             ],
             [
              0.1111111111111111,
              "#46039f"
             ],
             [
              0.2222222222222222,
              "#7201a8"
             ],
             [
              0.3333333333333333,
              "#9c179e"
             ],
             [
              0.4444444444444444,
              "#bd3786"
             ],
             [
              0.5555555555555556,
              "#d8576b"
             ],
             [
              0.6666666666666666,
              "#ed7953"
             ],
             [
              0.7777777777777778,
              "#fb9f3a"
             ],
             [
              0.8888888888888888,
              "#fdca26"
             ],
             [
              1,
              "#f0f921"
             ]
            ],
            "type": "contour"
           }
          ],
          "contourcarpet": [
           {
            "colorbar": {
             "outlinewidth": 0,
             "ticks": ""
            },
            "type": "contourcarpet"
           }
          ],
          "heatmap": [
           {
            "colorbar": {
             "outlinewidth": 0,
             "ticks": ""
            },
            "colorscale": [
             [
              0,
              "#0d0887"
             ],
             [
              0.1111111111111111,
              "#46039f"
             ],
             [
              0.2222222222222222,
              "#7201a8"
             ],
             [
              0.3333333333333333,
              "#9c179e"
             ],
             [
              0.4444444444444444,
              "#bd3786"
             ],
             [
              0.5555555555555556,
              "#d8576b"
             ],
             [
              0.6666666666666666,
              "#ed7953"
             ],
             [
              0.7777777777777778,
              "#fb9f3a"
             ],
             [
              0.8888888888888888,
              "#fdca26"
             ],
             [
              1,
              "#f0f921"
             ]
            ],
            "type": "heatmap"
           }
          ],
          "heatmapgl": [
           {
            "colorbar": {
             "outlinewidth": 0,
             "ticks": ""
            },
            "colorscale": [
             [
              0,
              "#0d0887"
             ],
             [
              0.1111111111111111,
              "#46039f"
             ],
             [
              0.2222222222222222,
              "#7201a8"
             ],
             [
              0.3333333333333333,
              "#9c179e"
             ],
             [
              0.4444444444444444,
              "#bd3786"
             ],
             [
              0.5555555555555556,
              "#d8576b"
             ],
             [
              0.6666666666666666,
              "#ed7953"
             ],
             [
              0.7777777777777778,
              "#fb9f3a"
             ],
             [
              0.8888888888888888,
              "#fdca26"
             ],
             [
              1,
              "#f0f921"
             ]
            ],
            "type": "heatmapgl"
           }
          ],
          "histogram": [
           {
            "marker": {
             "pattern": {
              "fillmode": "overlay",
              "size": 10,
              "solidity": 0.2
             }
            },
            "type": "histogram"
           }
          ],
          "histogram2d": [
           {
            "colorbar": {
             "outlinewidth": 0,
             "ticks": ""
            },
            "colorscale": [
             [
              0,
              "#0d0887"
             ],
             [
              0.1111111111111111,
              "#46039f"
             ],
             [
              0.2222222222222222,
              "#7201a8"
             ],
             [
              0.3333333333333333,
              "#9c179e"
             ],
             [
              0.4444444444444444,
              "#bd3786"
             ],
             [
              0.5555555555555556,
              "#d8576b"
             ],
             [
              0.6666666666666666,
              "#ed7953"
             ],
             [
              0.7777777777777778,
              "#fb9f3a"
             ],
             [
              0.8888888888888888,
              "#fdca26"
             ],
             [
              1,
              "#f0f921"
             ]
            ],
            "type": "histogram2d"
           }
          ],
          "histogram2dcontour": [
           {
            "colorbar": {
             "outlinewidth": 0,
             "ticks": ""
            },
            "colorscale": [
             [
              0,
              "#0d0887"
             ],
             [
              0.1111111111111111,
              "#46039f"
             ],
             [
              0.2222222222222222,
              "#7201a8"
             ],
             [
              0.3333333333333333,
              "#9c179e"
             ],
             [
              0.4444444444444444,
              "#bd3786"
             ],
             [
              0.5555555555555556,
              "#d8576b"
             ],
             [
              0.6666666666666666,
              "#ed7953"
             ],
             [
              0.7777777777777778,
              "#fb9f3a"
             ],
             [
              0.8888888888888888,
              "#fdca26"
             ],
             [
              1,
              "#f0f921"
             ]
            ],
            "type": "histogram2dcontour"
           }
          ],
          "mesh3d": [
           {
            "colorbar": {
             "outlinewidth": 0,
             "ticks": ""
            },
            "type": "mesh3d"
           }
          ],
          "parcoords": [
           {
            "line": {
             "colorbar": {
              "outlinewidth": 0,
              "ticks": ""
             }
            },
            "type": "parcoords"
           }
          ],
          "pie": [
           {
            "automargin": true,
            "type": "pie"
           }
          ],
          "scatter": [
           {
            "fillpattern": {
             "fillmode": "overlay",
             "size": 10,
             "solidity": 0.2
            },
            "type": "scatter"
           }
          ],
          "scatter3d": [
           {
            "line": {
             "colorbar": {
              "outlinewidth": 0,
              "ticks": ""
             }
            },
            "marker": {
             "colorbar": {
              "outlinewidth": 0,
              "ticks": ""
             }
            },
            "type": "scatter3d"
           }
          ],
          "scattercarpet": [
           {
            "marker": {
             "colorbar": {
              "outlinewidth": 0,
              "ticks": ""
             }
            },
            "type": "scattercarpet"
           }
          ],
          "scattergeo": [
           {
            "marker": {
             "colorbar": {
              "outlinewidth": 0,
              "ticks": ""
             }
            },
            "type": "scattergeo"
           }
          ],
          "scattergl": [
           {
            "marker": {
             "colorbar": {
              "outlinewidth": 0,
              "ticks": ""
             }
            },
            "type": "scattergl"
           }
          ],
          "scattermapbox": [
           {
            "marker": {
             "colorbar": {
              "outlinewidth": 0,
              "ticks": ""
             }
            },
            "type": "scattermapbox"
           }
          ],
          "scatterpolar": [
           {
            "marker": {
             "colorbar": {
              "outlinewidth": 0,
              "ticks": ""
             }
            },
            "type": "scatterpolar"
           }
          ],
          "scatterpolargl": [
           {
            "marker": {
             "colorbar": {
              "outlinewidth": 0,
              "ticks": ""
             }
            },
            "type": "scatterpolargl"
           }
          ],
          "scatterternary": [
           {
            "marker": {
             "colorbar": {
              "outlinewidth": 0,
              "ticks": ""
             }
            },
            "type": "scatterternary"
           }
          ],
          "surface": [
           {
            "colorbar": {
             "outlinewidth": 0,
             "ticks": ""
            },
            "colorscale": [
             [
              0,
              "#0d0887"
             ],
             [
              0.1111111111111111,
              "#46039f"
             ],
             [
              0.2222222222222222,
              "#7201a8"
             ],
             [
              0.3333333333333333,
              "#9c179e"
             ],
             [
              0.4444444444444444,
              "#bd3786"
             ],
             [
              0.5555555555555556,
              "#d8576b"
             ],
             [
              0.6666666666666666,
              "#ed7953"
             ],
             [
              0.7777777777777778,
              "#fb9f3a"
             ],
             [
              0.8888888888888888,
              "#fdca26"
             ],
             [
              1,
              "#f0f921"
             ]
            ],
            "type": "surface"
           }
          ],
          "table": [
           {
            "cells": {
             "fill": {
              "color": "#EBF0F8"
             },
             "line": {
              "color": "white"
             }
            },
            "header": {
             "fill": {
              "color": "#C8D4E3"
             },
             "line": {
              "color": "white"
             }
            },
            "type": "table"
           }
          ]
         },
         "layout": {
          "annotationdefaults": {
           "arrowcolor": "#2a3f5f",
           "arrowhead": 0,
           "arrowwidth": 1
          },
          "autotypenumbers": "strict",
          "coloraxis": {
           "colorbar": {
            "outlinewidth": 0,
            "ticks": ""
           }
          },
          "colorscale": {
           "diverging": [
            [
             0,
             "#8e0152"
            ],
            [
             0.1,
             "#c51b7d"
            ],
            [
             0.2,
             "#de77ae"
            ],
            [
             0.3,
             "#f1b6da"
            ],
            [
             0.4,
             "#fde0ef"
            ],
            [
             0.5,
             "#f7f7f7"
            ],
            [
             0.6,
             "#e6f5d0"
            ],
            [
             0.7,
             "#b8e186"
            ],
            [
             0.8,
             "#7fbc41"
            ],
            [
             0.9,
             "#4d9221"
            ],
            [
             1,
             "#276419"
            ]
           ],
           "sequential": [
            [
             0,
             "#0d0887"
            ],
            [
             0.1111111111111111,
             "#46039f"
            ],
            [
             0.2222222222222222,
             "#7201a8"
            ],
            [
             0.3333333333333333,
             "#9c179e"
            ],
            [
             0.4444444444444444,
             "#bd3786"
            ],
            [
             0.5555555555555556,
             "#d8576b"
            ],
            [
             0.6666666666666666,
             "#ed7953"
            ],
            [
             0.7777777777777778,
             "#fb9f3a"
            ],
            [
             0.8888888888888888,
             "#fdca26"
            ],
            [
             1,
             "#f0f921"
            ]
           ],
           "sequentialminus": [
            [
             0,
             "#0d0887"
            ],
            [
             0.1111111111111111,
             "#46039f"
            ],
            [
             0.2222222222222222,
             "#7201a8"
            ],
            [
             0.3333333333333333,
             "#9c179e"
            ],
            [
             0.4444444444444444,
             "#bd3786"
            ],
            [
             0.5555555555555556,
             "#d8576b"
            ],
            [
             0.6666666666666666,
             "#ed7953"
            ],
            [
             0.7777777777777778,
             "#fb9f3a"
            ],
            [
             0.8888888888888888,
             "#fdca26"
            ],
            [
             1,
             "#f0f921"
            ]
           ]
          },
          "colorway": [
           "#636efa",
           "#EF553B",
           "#00cc96",
           "#ab63fa",
           "#FFA15A",
           "#19d3f3",
           "#FF6692",
           "#B6E880",
           "#FF97FF",
           "#FECB52"
          ],
          "font": {
           "color": "#2a3f5f"
          },
          "geo": {
           "bgcolor": "white",
           "lakecolor": "white",
           "landcolor": "#E5ECF6",
           "showlakes": true,
           "showland": true,
           "subunitcolor": "white"
          },
          "hoverlabel": {
           "align": "left"
          },
          "hovermode": "closest",
          "mapbox": {
           "style": "light"
          },
          "paper_bgcolor": "white",
          "plot_bgcolor": "#E5ECF6",
          "polar": {
           "angularaxis": {
            "gridcolor": "white",
            "linecolor": "white",
            "ticks": ""
           },
           "bgcolor": "#E5ECF6",
           "radialaxis": {
            "gridcolor": "white",
            "linecolor": "white",
            "ticks": ""
           }
          },
          "scene": {
           "xaxis": {
            "backgroundcolor": "#E5ECF6",
            "gridcolor": "white",
            "gridwidth": 2,
            "linecolor": "white",
            "showbackground": true,
            "ticks": "",
            "zerolinecolor": "white"
           },
           "yaxis": {
            "backgroundcolor": "#E5ECF6",
            "gridcolor": "white",
            "gridwidth": 2,
            "linecolor": "white",
            "showbackground": true,
            "ticks": "",
            "zerolinecolor": "white"
           },
           "zaxis": {
            "backgroundcolor": "#E5ECF6",
            "gridcolor": "white",
            "gridwidth": 2,
            "linecolor": "white",
            "showbackground": true,
            "ticks": "",
            "zerolinecolor": "white"
           }
          },
          "shapedefaults": {
           "line": {
            "color": "#2a3f5f"
           }
          },
          "ternary": {
           "aaxis": {
            "gridcolor": "white",
            "linecolor": "white",
            "ticks": ""
           },
           "baxis": {
            "gridcolor": "white",
            "linecolor": "white",
            "ticks": ""
           },
           "bgcolor": "#E5ECF6",
           "caxis": {
            "gridcolor": "white",
            "linecolor": "white",
            "ticks": ""
           }
          },
          "title": {
           "x": 0.05
          },
          "xaxis": {
           "automargin": true,
           "gridcolor": "white",
           "linecolor": "white",
           "ticks": "",
           "title": {
            "standoff": 15
           },
           "zerolinecolor": "white",
           "zerolinewidth": 2
          },
          "yaxis": {
           "automargin": true,
           "gridcolor": "white",
           "linecolor": "white",
           "ticks": "",
           "title": {
            "standoff": 15
           },
           "zerolinecolor": "white",
           "zerolinewidth": 2
          }
         }
        },
        "title": {
         "text": "Comparison of exponential and linear depreciation functions"
        },
        "width": 800,
        "xaxis": {
         "range": [
          0,
          6
         ],
         "title": {
          "text": "Years"
         }
        },
        "yaxis": {
         "range": [
          0,
          1
         ],
         "title": {
          "text": "Value (normalized to 1 at year 0)"
         }
        }
       }
      }
     },
     "metadata": {},
     "output_type": "display_data"
    }
   ],
   "source": [
    "import plotly.graph_objects as go\n",
    "\n",
    "# Values of x\n",
    "x_values = [x * 0.1 for x in range(0, 61)]\n",
    "\n",
    "# Calculating the values of each function\n",
    "exponential_values = [10**(-0.14*x) for x in x_values]\n",
    "exponential_slow = [10**(-0.10*x) for x in x_values]\n",
    "exponential_fast = [10**(-0.18*x) for x in x_values]\n",
    "linear_3_values = [1 - x/3 for x in x_values]\n",
    "linear_4_values = [1 - x/4 for x in x_values]\n",
    "linear_5_values = [1 - x/5 for x in x_values]\n",
    "linear_6_values = [1 - x/6 for x in x_values]\n",
    "\n",
    "# Creating the plot\n",
    "fig = go.Figure()\n",
    "\n",
    "# Adding each line plot to the figure\n",
    "fig.add_trace(go.Scatter(x=x_values, y=exponential_values, mode='lines', name='Exponential: price performance trend'))\n",
    "fig.add_trace(go.Scatter(x=x_values, y=exponential_fast, mode='lines', line=dict(width=0), showlegend=False,))\n",
    "fig.add_trace(go.Scatter(x=x_values, y=exponential_slow, mode='lines', name='90% CI', line=dict(width=0), fill='tonexty', fillcolor='rgba(0,100,200,0.2)',))\n",
    "fig.add_trace(go.Scatter(x=x_values, y=linear_3_values, mode='lines', line=dict(dash='dot'), name='Linear: 3-year lifetime'))\n",
    "fig.add_trace(go.Scatter(x=x_values, y=linear_4_values, mode='lines', line=dict(dash='dot'), name='Linear: 4-year lifetime'))\n",
    "fig.add_trace(go.Scatter(x=x_values, y=linear_5_values, mode='lines', line=dict(dash='dot'), name='Linear: 5-year lifetime'))\n",
    "fig.add_trace(go.Scatter(x=x_values, y=linear_6_values, mode='lines', line=dict(dash='dot'), name='Linear: 6-year lifetime'))\n",
    "\n",
    "# Setting the axes limits\n",
    "fig.update_layout(\n",
    "    width=800,\n",
    "    height=600,\n",
    "    xaxis=dict(range=[0, 6]),\n",
    "    yaxis=dict(range=[0, 1]),\n",
    "    title='Comparison of exponential and linear depreciation functions',\n",
    "    xaxis_title='Years',\n",
    "    yaxis_title='Value (normalized to 1 at year 0)'\n",
    ")\n",
    "\n",
    "# Display the plot\n",
    "fig.show()"
   ]
  },
  {
   "cell_type": "code",
   "execution_count": null,
   "metadata": {},
   "outputs": [],
   "source": [
    "frontier_pcd_df, _hardware_df, price_df = load_data_for_cost_estimation(compute_threshold_method=\"top_n\", compute_threshold=10)"
   ]
  },
  {
   "cell_type": "code",
   "execution_count": null,
   "metadata": {},
   "outputs": [
    {
     "name": "stdout",
     "output_type": "stream",
     "text": [
      "Gemini 1.0 Ultra, Google TPU v4: 930 days\n",
      "Inflection-2, NVIDIA H100 SXM5: 428 days\n",
      "Falcon-180B, NVIDIA A100 SXM4 40 GB: 1210 days\n",
      "PaLM 2, Google TPU v4: 720 days\n",
      "GPT-4, NVIDIA A100 SXM4 40 GB: 1035 days\n",
      "GPT-3.5 (text-davinci-003), NVIDIA A100 SXM4 40 GB: 928 days\n",
      "BLOOM-176B, NVIDIA A100 SXM4 80 GB: 722 days\n",
      "U-PaLM (540B), Google TPU v4: 518 days\n",
      "Flan-PaLM 540B, Google TPU v4: 518 days\n",
      "BlenderBot 3, NVIDIA A100 SXM4 40 GB: 818 days\n",
      "GLM-130B, NVIDIA A100 SXM4 40 GB: 812 days\n",
      "Minerva (540B), Google TPU v4: 405 days\n",
      "Parti, Google TPU v4: 398 days\n",
      "OPT-175B, NVIDIA A100 SXM4 80 GB: 532 days\n",
      "PaLM (540B), Google TPU v4: 319 days\n",
      "LaMDA, Google TPU v3: 1364 days\n",
      "GLaM, Google TPU v4: 207 days\n",
      "Gopher (280B), Google TPU v3: 1300 days\n",
      "Megatron-Turing NLG 530B, NVIDIA A100 SXM4 80 GB: 329 days\n",
      "HyperCLOVA 82B, NVIDIA A100: 558 days\n",
      "GOAT, Google TPU v3: 1166 days\n",
      "ByT5-XXL, Google TPU v3: 1106 days\n",
      "ProtT5-XXL, Google TPU v3: 1082 days\n",
      "Meta Pseudo Labels, Google TPU v3: 1018 days\n",
      "Switch, Google TPU v3: 969 days\n",
      "DALL-E, NVIDIA Tesla V100 DGXS 16 GB: 1015 days\n",
      "iGPT-XL, NVIDIA Tesla V100 DGXS 32 GB: 813 days\n",
      "GPT-3 175B (davinci), NVIDIA Tesla V100 DGXS 32 GB: 793 days\n",
      "Turing-NLG, NVIDIA Tesla V100 DGXS 32 GB: 688 days\n",
      "Meena, Google TPU v3: 620 days\n",
      "AlphaStar, Google TPU v3: 530 days\n",
      "T5-11B, Google TPU v3: 523 days\n",
      "Megatron-BERT, NVIDIA Tesla V100S PCIe 32 GB: -70 days\n",
      "Megatron-LM (8.3B), NVIDIA Tesla V100 DGXS 32 GB: 539 days\n",
      "RoBERTa Large, NVIDIA Tesla V100 DGXS 32 GB: 461 days\n",
      "BigGAN-deep 512x512, Google TPU v3: 133 days\n",
      "AlphaZero, Google TPU v2: 218 days\n",
      "AlphaGo Zero, Google TPU v1: 887 days\n",
      "JFT, NVIDIA Tesla K80: 966 days\n",
      "MoE, NVIDIA Tesla K40t: 1158 days\n",
      "AlphaGo Master, Google TPU v1: 597 days\n",
      "PolyNet, NVIDIA GTX Titan X: 611 days\n",
      "Xception, NVIDIA Tesla K80: 690 days\n",
      "GNMT, NVIDIA Tesla K80: 679 days\n",
      "DeepSpeech2 (English), NVIDIA GTX Titan X: 266 days\n"
     ]
    }
   ],
   "source": [
    "gaps = []\n",
    "for _, row in frontier_pcd_df.iterrows():\n",
    "    hardware_model = row['Training hardware']\n",
    "    try:\n",
    "        hardware_release_date = get_release_date(hardware_model, _hardware_df)\n",
    "    except:\n",
    "        continue\n",
    "    pub_date = pd.to_datetime(row['Publication date'])\n",
    "    gap = pub_date - hardware_release_date\n",
    "    gaps.append(gap.days)\n",
    "    print(f\"{row['Model']}, {hardware_model}: {gap.days} days\")\n"
   ]
  },
  {
   "cell_type": "code",
   "execution_count": null,
   "metadata": {},
   "outputs": [
    {
     "data": {
      "text/plain": [
       "700.2"
      ]
     },
     "execution_count": 25,
     "metadata": {},
     "output_type": "execute_result"
    }
   ],
   "source": [
    "gaps = np.array(gaps)\n",
    "gaps.mean()"
   ]
  },
  {
   "cell_type": "code",
   "execution_count": null,
   "metadata": {},
   "outputs": [
    {
     "data": {
      "text/plain": [
       "45"
      ]
     },
     "execution_count": 26,
     "metadata": {},
     "output_type": "execute_result"
    }
   ],
   "source": [
    "len(gaps)"
   ]
  },
  {
   "cell_type": "code",
   "execution_count": null,
   "metadata": {},
   "outputs": [
    {
     "data": {
      "text/plain": [
       "26"
      ]
     },
     "execution_count": 27,
     "metadata": {},
     "output_type": "execute_result"
    }
   ],
   "source": [
    "len(gaps[gaps < 2 * DAYS_PER_YEAR])"
   ]
  },
  {
   "cell_type": "code",
   "execution_count": null,
   "metadata": {},
   "outputs": [
    {
     "data": {
      "text/plain": [
       "39"
      ]
     },
     "execution_count": 28,
     "metadata": {},
     "output_type": "execute_result"
    }
   ],
   "source": [
    "len(gaps[gaps < 3 * DAYS_PER_YEAR])"
   ]
  },
  {
   "cell_type": "code",
   "execution_count": null,
   "metadata": {},
   "outputs": [
    {
     "data": {
      "text/plain": [
       "45"
      ]
     },
     "execution_count": 29,
     "metadata": {},
     "output_type": "execute_result"
    }
   ],
   "source": [
    "len(gaps[gaps < 4 * DAYS_PER_YEAR])"
   ]
  },
  {
   "cell_type": "code",
   "execution_count": null,
   "metadata": {},
   "outputs": [],
   "source": []
  }
 ],
 "metadata": {
  "kernelspec": {
   "display_name": "epoch",
   "language": "python",
   "name": "python3"
  },
  "language_info": {
   "codemirror_mode": {
    "name": "ipython",
    "version": 3
   },
   "file_extension": ".py",
   "mimetype": "text/x-python",
   "name": "python",
   "nbconvert_exporter": "python",
   "pygments_lexer": "ipython3",
   "version": "3.12.3"
  }
 },
 "nbformat": 4,
 "nbformat_minor": 2
}
