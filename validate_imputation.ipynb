{
 "cells": [
  {
   "cell_type": "markdown",
   "metadata": {
    "collapsed": false
   },
   "source": [
    "# Check accuracy of kNN imputation"
   ]
  },
  {
   "cell_type": "markdown",
   "metadata": {},
   "source": [
    "Note: kNN imputation is no longer used in the cost estimation pipeline."
   ]
  },
  {
   "cell_type": "code",
   "execution_count": 1,
   "metadata": {},
   "outputs": [],
   "source": [
    "%load_ext autoreload\n",
    "%autoreload 2"
   ]
  },
  {
   "cell_type": "code",
   "execution_count": 2,
   "metadata": {
    "ExecuteTime": {
     "end_time": "2024-02-02T07:32:35.261929500Z",
     "start_time": "2024-02-02T07:32:31.505808800Z"
    },
    "collapsed": true
   },
   "outputs": [],
   "source": [
    "import numpy as np\n",
    "import pandas as pd\n",
    "from pprint import pprint\n",
    "from sklearn.impute import KNNImputer\n",
    "from tqdm.notebook import tqdm\n",
    "\n",
    "from imputation import *\n",
    "from plotting import *"
   ]
  },
  {
   "cell_type": "code",
   "execution_count": 3,
   "metadata": {
    "ExecuteTime": {
     "end_time": "2024-02-02T07:32:35.277787700Z",
     "start_time": "2024-02-02T07:32:35.261929500Z"
    },
    "collapsed": false
   },
   "outputs": [],
   "source": [
    "import warnings\n",
    "warnings.filterwarnings(action='ignore', category=FutureWarning, module='sklearn.neighbors')"
   ]
  },
  {
   "cell_type": "markdown",
   "metadata": {
    "collapsed": false
   },
   "source": [
    "## Load the known data"
   ]
  },
  {
   "cell_type": "code",
   "execution_count": 4,
   "metadata": {
    "ExecuteTime": {
     "end_time": "2024-02-02T07:32:35.356182800Z",
     "start_time": "2024-02-02T07:32:35.293705900Z"
    },
    "collapsed": false
   },
   "outputs": [
    {
     "data": {
      "text/html": [
       "<div>\n",
       "<style scoped>\n",
       "    .dataframe tbody tr th:only-of-type {\n",
       "        vertical-align: middle;\n",
       "    }\n",
       "\n",
       "    .dataframe tbody tr th {\n",
       "        vertical-align: top;\n",
       "    }\n",
       "\n",
       "    .dataframe thead th {\n",
       "        text-align: right;\n",
       "    }\n",
       "</style>\n",
       "<table border=\"1\" class=\"dataframe\">\n",
       "  <thead>\n",
       "    <tr style=\"text-align: right;\">\n",
       "      <th></th>\n",
       "      <th>System</th>\n",
       "      <th>Domain</th>\n",
       "      <th>Task</th>\n",
       "      <th>Authors</th>\n",
       "      <th>Notability criteria</th>\n",
       "      <th>Notability criteria notes</th>\n",
       "      <th>Open-source</th>\n",
       "      <th>Link</th>\n",
       "      <th>Citations</th>\n",
       "      <th>Reference</th>\n",
       "      <th>...</th>\n",
       "      <th>Organization (from Organization)</th>\n",
       "      <th>Base model</th>\n",
       "      <th>Finetune compute (FLOP)</th>\n",
       "      <th>Finetune compute notes</th>\n",
       "      <th>Authors by country</th>\n",
       "      <th>Hardware quantity</th>\n",
       "      <th>Hardware utilization</th>\n",
       "      <th>Training cost trends</th>\n",
       "      <th>Training cloud compute vendor</th>\n",
       "      <th>Training data center</th>\n",
       "    </tr>\n",
       "  </thead>\n",
       "  <tbody>\n",
       "    <tr>\n",
       "      <th>0</th>\n",
       "      <td>Cohere Command</td>\n",
       "      <td>Language</td>\n",
       "      <td>NaN</td>\n",
       "      <td>NaN</td>\n",
       "      <td>NaN</td>\n",
       "      <td>NaN</td>\n",
       "      <td>NaN</td>\n",
       "      <td>https://cohere.com/models/command</td>\n",
       "      <td>NaN</td>\n",
       "      <td>World-class AI, at your command</td>\n",
       "      <td>...</td>\n",
       "      <td>Cohere</td>\n",
       "      <td>NaN</td>\n",
       "      <td>NaN</td>\n",
       "      <td>NaN</td>\n",
       "      <td>NaN</td>\n",
       "      <td>NaN</td>\n",
       "      <td>NaN</td>\n",
       "      <td>NaN</td>\n",
       "      <td>NaN</td>\n",
       "      <td>NaN</td>\n",
       "    </tr>\n",
       "    <tr>\n",
       "      <th>1</th>\n",
       "      <td>Theseus</td>\n",
       "      <td>Other</td>\n",
       "      <td>Maze solving</td>\n",
       "      <td>Claude Shannon</td>\n",
       "      <td>Historical significance</td>\n",
       "      <td>NaN</td>\n",
       "      <td>NaN</td>\n",
       "      <td>https://www.technologyreview.com/2018/12/19/13...</td>\n",
       "      <td>0.0</td>\n",
       "      <td>Mighty Mouse</td>\n",
       "      <td>...</td>\n",
       "      <td>Bell Laboratories</td>\n",
       "      <td>NaN</td>\n",
       "      <td>NaN</td>\n",
       "      <td>NaN</td>\n",
       "      <td>Theseus</td>\n",
       "      <td>NaN</td>\n",
       "      <td>NaN</td>\n",
       "      <td>NaN</td>\n",
       "      <td>NaN</td>\n",
       "      <td>NaN</td>\n",
       "    </tr>\n",
       "    <tr>\n",
       "      <th>2</th>\n",
       "      <td>SNARC</td>\n",
       "      <td>Other</td>\n",
       "      <td>Maze solving</td>\n",
       "      <td>Marvin Minsky</td>\n",
       "      <td>Historical significance</td>\n",
       "      <td>NaN</td>\n",
       "      <td>NaN</td>\n",
       "      <td>https://en.wikipedia.org/wiki/Stochastic_neura...</td>\n",
       "      <td>33.0</td>\n",
       "      <td>A Neural-Analogue Calculator Based upon a Prob...</td>\n",
       "      <td>...</td>\n",
       "      <td>Harvard University</td>\n",
       "      <td>NaN</td>\n",
       "      <td>NaN</td>\n",
       "      <td>NaN</td>\n",
       "      <td>SNARC</td>\n",
       "      <td>NaN</td>\n",
       "      <td>NaN</td>\n",
       "      <td>NaN</td>\n",
       "      <td>NaN</td>\n",
       "      <td>NaN</td>\n",
       "    </tr>\n",
       "    <tr>\n",
       "      <th>3</th>\n",
       "      <td>Genetic algorithm</td>\n",
       "      <td>NaN</td>\n",
       "      <td>NaN</td>\n",
       "      <td>NA Barricelli</td>\n",
       "      <td>Historical significance</td>\n",
       "      <td>Possibly first computer simulation of a geneti...</td>\n",
       "      <td>NaN</td>\n",
       "      <td>https://link.springer.com/article/10.1007/BF01...</td>\n",
       "      <td>266.0</td>\n",
       "      <td>Numerical testing of evolution theories</td>\n",
       "      <td>...</td>\n",
       "      <td>Institute for Advanced Study</td>\n",
       "      <td>NaN</td>\n",
       "      <td>NaN</td>\n",
       "      <td>NaN</td>\n",
       "      <td>Genetic algorithm</td>\n",
       "      <td>NaN</td>\n",
       "      <td>NaN</td>\n",
       "      <td>NaN</td>\n",
       "      <td>NaN</td>\n",
       "      <td>NaN</td>\n",
       "    </tr>\n",
       "    <tr>\n",
       "      <th>4</th>\n",
       "      <td>Sequence-based pattern recognition</td>\n",
       "      <td>Vision</td>\n",
       "      <td>Character recognition</td>\n",
       "      <td>O. G. Selfridge</td>\n",
       "      <td>Historical significance</td>\n",
       "      <td>NaN</td>\n",
       "      <td>NaN</td>\n",
       "      <td>https://dl.acm.org/doi/10.1145/1455292.1455310</td>\n",
       "      <td>290.0</td>\n",
       "      <td>Pattern recognition and modern computers</td>\n",
       "      <td>...</td>\n",
       "      <td>Massachusetts Institute of Technology (MIT)</td>\n",
       "      <td>NaN</td>\n",
       "      <td>NaN</td>\n",
       "      <td>NaN</td>\n",
       "      <td>Sequence-based pattern recognition</td>\n",
       "      <td>NaN</td>\n",
       "      <td>NaN</td>\n",
       "      <td>NaN</td>\n",
       "      <td>NaN</td>\n",
       "      <td>NaN</td>\n",
       "    </tr>\n",
       "  </tbody>\n",
       "</table>\n",
       "<p>5 rows × 49 columns</p>\n",
       "</div>"
      ],
      "text/plain": [
       "                               System    Domain                   Task  \\\n",
       "0                      Cohere Command  Language                    NaN   \n",
       "1                             Theseus     Other           Maze solving   \n",
       "2                               SNARC     Other           Maze solving   \n",
       "3                   Genetic algorithm       NaN                    NaN   \n",
       "4  Sequence-based pattern recognition    Vision  Character recognition   \n",
       "\n",
       "           Authors      Notability criteria  \\\n",
       "0              NaN                      NaN   \n",
       "1   Claude Shannon  Historical significance   \n",
       "2    Marvin Minsky  Historical significance   \n",
       "3    NA Barricelli  Historical significance   \n",
       "4  O. G. Selfridge  Historical significance   \n",
       "\n",
       "                           Notability criteria notes Open-source  \\\n",
       "0                                                NaN         NaN   \n",
       "1                                                NaN         NaN   \n",
       "2                                                NaN         NaN   \n",
       "3  Possibly first computer simulation of a geneti...         NaN   \n",
       "4                                                NaN         NaN   \n",
       "\n",
       "                                                Link  Citations  \\\n",
       "0                  https://cohere.com/models/command        NaN   \n",
       "1  https://www.technologyreview.com/2018/12/19/13...        0.0   \n",
       "2  https://en.wikipedia.org/wiki/Stochastic_neura...       33.0   \n",
       "3  https://link.springer.com/article/10.1007/BF01...      266.0   \n",
       "4     https://dl.acm.org/doi/10.1145/1455292.1455310      290.0   \n",
       "\n",
       "                                           Reference  ...  \\\n",
       "0                    World-class AI, at your command  ...   \n",
       "1                                       Mighty Mouse  ...   \n",
       "2  A Neural-Analogue Calculator Based upon a Prob...  ...   \n",
       "3            Numerical testing of evolution theories  ...   \n",
       "4           Pattern recognition and modern computers  ...   \n",
       "\n",
       "              Organization (from Organization) Base model  \\\n",
       "0                                       Cohere        NaN   \n",
       "1                            Bell Laboratories        NaN   \n",
       "2                           Harvard University        NaN   \n",
       "3                 Institute for Advanced Study        NaN   \n",
       "4  Massachusetts Institute of Technology (MIT)        NaN   \n",
       "\n",
       "  Finetune compute (FLOP)  Finetune compute notes  \\\n",
       "0                     NaN                     NaN   \n",
       "1                     NaN                     NaN   \n",
       "2                     NaN                     NaN   \n",
       "3                     NaN                     NaN   \n",
       "4                     NaN                     NaN   \n",
       "\n",
       "                   Authors by country  Hardware quantity Hardware utilization  \\\n",
       "0                                 NaN                NaN                  NaN   \n",
       "1                             Theseus                NaN                  NaN   \n",
       "2                               SNARC                NaN                  NaN   \n",
       "3                   Genetic algorithm                NaN                  NaN   \n",
       "4  Sequence-based pattern recognition                NaN                  NaN   \n",
       "\n",
       "  Training cost trends Training cloud compute vendor  Training data center  \n",
       "0                  NaN                           NaN                   NaN  \n",
       "1                  NaN                           NaN                   NaN  \n",
       "2                  NaN                           NaN                   NaN  \n",
       "3                  NaN                           NaN                   NaN  \n",
       "4                  NaN                           NaN                   NaN  \n",
       "\n",
       "[5 rows x 49 columns]"
      ]
     },
     "execution_count": 4,
     "metadata": {},
     "output_type": "execute_result"
    }
   ],
   "source": [
    "pcd_df = pd.read_csv('data/All ML Systems - full view.csv')\n",
    "pcd_df.head()"
   ]
  },
  {
   "cell_type": "code",
   "execution_count": 5,
   "metadata": {
    "ExecuteTime": {
     "end_time": "2024-02-02T07:32:35.403203500Z",
     "start_time": "2024-02-02T07:32:35.356182800Z"
    },
    "collapsed": false
   },
   "outputs": [],
   "source": [
    "# Publication date in float format\n",
    "pcd_df.dropna(subset=['Publication date'], inplace=True)\n",
    "pcd_df['Publication date'] = pd.to_datetime(pcd_df['Publication date'])\n",
    "pcd_df['Publication date'] = pcd_df['Publication date'].dt.year + (pcd_df['Publication date'].dt.month-1)/12 + (pcd_df['Publication date'].dt.day-1)/365"
   ]
  },
  {
   "cell_type": "code",
   "execution_count": 6,
   "metadata": {
    "ExecuteTime": {
     "end_time": "2024-02-02T07:32:35.434746600Z",
     "start_time": "2024-02-02T07:32:35.387435200Z"
    },
    "collapsed": false
   },
   "outputs": [],
   "source": [
    "# Manually copied from \"Training cost trends\" Airtable\n",
    "frontier_systems = [\n",
    "    \"PaLM 2\",\n",
    "    \"GPT-4\",\n",
    "    \"Minerva (540B)\",\n",
    "    \"Megatron-Turing NLG 530B\",\n",
    "    \"GPT-3 175B (davinci)\",\n",
    "    \"Meena\",\n",
    "    \"AlphaStar\",\n",
    "    \"AlphaGo Zero\",\n",
    "    \"AlphaGo Master\",\n",
    "    \"GNMT\",\n",
    "    \"Claude 2\",\n",
    "    \"PaLM (540B)\",\n",
    "    \"ERNIE 3.0 Titan\",\n",
    "    \"Gopher (280B)\",\n",
    "    \"OpenAI Five\",\n",
    "    \"T5-11B\",\n",
    "    \"Megatron-BERT\",\n",
    "    \"ResNeXt-101 32x48d\",\n",
    "    \"AlphaZero\",\n",
    "    \"Falcon 180B\",\n",
    "    \"GPT-3.5 (text-davinci-003)\",\n",
    "    \"Chinchilla\",\n",
    "    \"Yuan 1.0\",\n",
    "    \"Turing-NLG\",\n",
    "    \"BigGAN-deep 512x512\",\n",
    "    \"NASv3 (CIFAR-10)\",\n",
    "    \"AlphaGo Lee\",\n",
    "    \"AlphaGo Fan\",\n",
    "    \"OPT-175B\",\n",
    "    \"AlphaCode\",\n",
    "    \"GLaM\",\n",
    "    \"OpenAI Five Rerun\",\n",
    "    \"T5-3B\",\n",
    "    \"Megatron-LM (8.3B)\",\n",
    "    \"FTW\",\n",
    "    \"AmoebaNet-A (F=448)\",\n",
    "    \"OpenAI TI7 DOTA 1v1\",\n",
    "    \"JFT\",\n",
    "    \"Llama 2-70B\",\n",
    "    \"LLaMA-65B\",\n",
    "    \"LaMDA\",\n",
    "    \"ALIGN\",\n",
    "    \"GShard (dense)\",\n",
    "    \"RoBERTa Large\",\n",
    "    \"IMPALA\",\n",
    "]"
   ]
  },
  {
   "cell_type": "code",
   "execution_count": 7,
   "metadata": {
    "ExecuteTime": {
     "end_time": "2024-02-02T07:32:35.508687800Z",
     "start_time": "2024-02-02T07:32:35.403203500Z"
    },
    "collapsed": false
   },
   "outputs": [
    {
     "data": {
      "text/html": [
       "<div>\n",
       "<style scoped>\n",
       "    .dataframe tbody tr th:only-of-type {\n",
       "        vertical-align: middle;\n",
       "    }\n",
       "\n",
       "    .dataframe tbody tr th {\n",
       "        vertical-align: top;\n",
       "    }\n",
       "\n",
       "    .dataframe thead th {\n",
       "        text-align: right;\n",
       "    }\n",
       "</style>\n",
       "<table border=\"1\" class=\"dataframe\">\n",
       "  <thead>\n",
       "    <tr style=\"text-align: right;\">\n",
       "      <th></th>\n",
       "      <th>System</th>\n",
       "      <th>Domain</th>\n",
       "      <th>Task</th>\n",
       "      <th>Authors</th>\n",
       "      <th>Notability criteria</th>\n",
       "      <th>Notability criteria notes</th>\n",
       "      <th>Open-source</th>\n",
       "      <th>Link</th>\n",
       "      <th>Citations</th>\n",
       "      <th>Reference</th>\n",
       "      <th>...</th>\n",
       "      <th>Organization (from Organization)</th>\n",
       "      <th>Base model</th>\n",
       "      <th>Finetune compute (FLOP)</th>\n",
       "      <th>Finetune compute notes</th>\n",
       "      <th>Authors by country</th>\n",
       "      <th>Hardware quantity</th>\n",
       "      <th>Hardware utilization</th>\n",
       "      <th>Training cost trends</th>\n",
       "      <th>Training cloud compute vendor</th>\n",
       "      <th>Training data center</th>\n",
       "    </tr>\n",
       "  </thead>\n",
       "  <tbody>\n",
       "    <tr>\n",
       "      <th>265</th>\n",
       "      <td>AlphaGo Fan</td>\n",
       "      <td>Games</td>\n",
       "      <td>Go</td>\n",
       "      <td>David Silver, Aja Huang, Chris J. Maddison, Ar...</td>\n",
       "      <td>SOTA improvement</td>\n",
       "      <td>NaN</td>\n",
       "      <td>NaN</td>\n",
       "      <td>https://www.nature.com/articles/nature24270.ep...</td>\n",
       "      <td>14389.0</td>\n",
       "      <td>Mastering the game of Go with deep neural netw...</td>\n",
       "      <td>...</td>\n",
       "      <td>Google DeepMind</td>\n",
       "      <td>NaN</td>\n",
       "      <td>NaN</td>\n",
       "      <td>NaN</td>\n",
       "      <td>AlphaGo Fan</td>\n",
       "      <td>NaN</td>\n",
       "      <td>NaN</td>\n",
       "      <td>AlphaGo Fan</td>\n",
       "      <td>NaN</td>\n",
       "      <td>NaN</td>\n",
       "    </tr>\n",
       "    <tr>\n",
       "      <th>275</th>\n",
       "      <td>AlphaGo Lee</td>\n",
       "      <td>Games</td>\n",
       "      <td>Go</td>\n",
       "      <td>David Silver, Aja Huang, Chris J. Maddison, Ar...</td>\n",
       "      <td>Highly cited</td>\n",
       "      <td>NaN</td>\n",
       "      <td>NaN</td>\n",
       "      <td>https://www.nature.com/articles/nature16961</td>\n",
       "      <td>14389.0</td>\n",
       "      <td>Mastering the game of Go with deep neural netw...</td>\n",
       "      <td>...</td>\n",
       "      <td>DeepMind</td>\n",
       "      <td>NaN</td>\n",
       "      <td>NaN</td>\n",
       "      <td>NaN</td>\n",
       "      <td>AlphaGo Lee</td>\n",
       "      <td>NaN</td>\n",
       "      <td>NaN</td>\n",
       "      <td>AlphaGo Lee</td>\n",
       "      <td>NaN</td>\n",
       "      <td>NaN</td>\n",
       "    </tr>\n",
       "    <tr>\n",
       "      <th>306</th>\n",
       "      <td>GNMT</td>\n",
       "      <td>Language</td>\n",
       "      <td>Translation</td>\n",
       "      <td>Yonghui Wu, Mike Schuster, Zhifeng Chen, Quoc ...</td>\n",
       "      <td>Highly cited</td>\n",
       "      <td>NaN</td>\n",
       "      <td>NaN</td>\n",
       "      <td>https://arxiv.org/abs/1609.08144</td>\n",
       "      <td>5948.0</td>\n",
       "      <td>Google's Neural Machine Translation System: Br...</td>\n",
       "      <td>...</td>\n",
       "      <td>Google</td>\n",
       "      <td>NaN</td>\n",
       "      <td>NaN</td>\n",
       "      <td>NaN</td>\n",
       "      <td>GNMT</td>\n",
       "      <td>96.0</td>\n",
       "      <td>NaN</td>\n",
       "      <td>GNMT</td>\n",
       "      <td>NaN</td>\n",
       "      <td>NaN</td>\n",
       "    </tr>\n",
       "    <tr>\n",
       "      <th>317</th>\n",
       "      <td>NASv3 (CIFAR-10)</td>\n",
       "      <td>Vision</td>\n",
       "      <td>NaN</td>\n",
       "      <td>Barret Zoph, Quoc V. Le</td>\n",
       "      <td>Highly cited</td>\n",
       "      <td>NaN</td>\n",
       "      <td>NaN</td>\n",
       "      <td>https://arxiv.org/abs/1611.01578</td>\n",
       "      <td>4569.0</td>\n",
       "      <td>Neural Architecture Search with Reinforcement ...</td>\n",
       "      <td>...</td>\n",
       "      <td>Google Brain</td>\n",
       "      <td>NaN</td>\n",
       "      <td>NaN</td>\n",
       "      <td>NaN</td>\n",
       "      <td>NASv3 (CIFAR-10)</td>\n",
       "      <td>800.0</td>\n",
       "      <td>NaN</td>\n",
       "      <td>NASv3 (CIFAR-10)</td>\n",
       "      <td>NaN</td>\n",
       "      <td>NaN</td>\n",
       "    </tr>\n",
       "    <tr>\n",
       "      <th>337</th>\n",
       "      <td>AlphaGo Master</td>\n",
       "      <td>Games</td>\n",
       "      <td>Go</td>\n",
       "      <td>D Silver, J Schrittwieser, K Simonyan, I Anton...</td>\n",
       "      <td>Highly cited</td>\n",
       "      <td>NaN</td>\n",
       "      <td>NaN</td>\n",
       "      <td>https://www.researchgate.net/publication/32047...</td>\n",
       "      <td>7831.0</td>\n",
       "      <td>Mastering the game of Go without human knowledge</td>\n",
       "      <td>...</td>\n",
       "      <td>DeepMind</td>\n",
       "      <td>NaN</td>\n",
       "      <td>NaN</td>\n",
       "      <td>NaN</td>\n",
       "      <td>AlphaGo Master</td>\n",
       "      <td>NaN</td>\n",
       "      <td>NaN</td>\n",
       "      <td>AlphaGo Master</td>\n",
       "      <td>NaN</td>\n",
       "      <td>NaN</td>\n",
       "    </tr>\n",
       "  </tbody>\n",
       "</table>\n",
       "<p>5 rows × 49 columns</p>\n",
       "</div>"
      ],
      "text/plain": [
       "               System    Domain         Task  \\\n",
       "265       AlphaGo Fan     Games           Go   \n",
       "275       AlphaGo Lee     Games           Go   \n",
       "306              GNMT  Language  Translation   \n",
       "317  NASv3 (CIFAR-10)    Vision          NaN   \n",
       "337    AlphaGo Master     Games           Go   \n",
       "\n",
       "                                               Authors Notability criteria  \\\n",
       "265  David Silver, Aja Huang, Chris J. Maddison, Ar...    SOTA improvement   \n",
       "275  David Silver, Aja Huang, Chris J. Maddison, Ar...        Highly cited   \n",
       "306  Yonghui Wu, Mike Schuster, Zhifeng Chen, Quoc ...        Highly cited   \n",
       "317                            Barret Zoph, Quoc V. Le        Highly cited   \n",
       "337  D Silver, J Schrittwieser, K Simonyan, I Anton...        Highly cited   \n",
       "\n",
       "    Notability criteria notes Open-source  \\\n",
       "265                       NaN         NaN   \n",
       "275                       NaN         NaN   \n",
       "306                       NaN         NaN   \n",
       "317                       NaN         NaN   \n",
       "337                       NaN         NaN   \n",
       "\n",
       "                                                  Link  Citations  \\\n",
       "265  https://www.nature.com/articles/nature24270.ep...    14389.0   \n",
       "275        https://www.nature.com/articles/nature16961    14389.0   \n",
       "306                   https://arxiv.org/abs/1609.08144     5948.0   \n",
       "317                   https://arxiv.org/abs/1611.01578     4569.0   \n",
       "337  https://www.researchgate.net/publication/32047...     7831.0   \n",
       "\n",
       "                                             Reference  ...  \\\n",
       "265  Mastering the game of Go with deep neural netw...  ...   \n",
       "275  Mastering the game of Go with deep neural netw...  ...   \n",
       "306  Google's Neural Machine Translation System: Br...  ...   \n",
       "317  Neural Architecture Search with Reinforcement ...  ...   \n",
       "337   Mastering the game of Go without human knowledge  ...   \n",
       "\n",
       "     Organization (from Organization) Base model Finetune compute (FLOP)  \\\n",
       "265                   Google DeepMind        NaN                     NaN   \n",
       "275                          DeepMind        NaN                     NaN   \n",
       "306                            Google        NaN                     NaN   \n",
       "317                      Google Brain        NaN                     NaN   \n",
       "337                          DeepMind        NaN                     NaN   \n",
       "\n",
       "     Finetune compute notes Authors by country  Hardware quantity  \\\n",
       "265                     NaN        AlphaGo Fan                NaN   \n",
       "275                     NaN        AlphaGo Lee                NaN   \n",
       "306                     NaN               GNMT               96.0   \n",
       "317                     NaN   NASv3 (CIFAR-10)              800.0   \n",
       "337                     NaN     AlphaGo Master                NaN   \n",
       "\n",
       "    Hardware utilization Training cost trends Training cloud compute vendor  \\\n",
       "265                  NaN          AlphaGo Fan                           NaN   \n",
       "275                  NaN          AlphaGo Lee                           NaN   \n",
       "306                  NaN                 GNMT                           NaN   \n",
       "317                  NaN     NASv3 (CIFAR-10)                           NaN   \n",
       "337                  NaN       AlphaGo Master                           NaN   \n",
       "\n",
       "     Training data center  \n",
       "265                   NaN  \n",
       "275                   NaN  \n",
       "306                   NaN  \n",
       "317                   NaN  \n",
       "337                   NaN  \n",
       "\n",
       "[5 rows x 49 columns]"
      ]
     },
     "execution_count": 7,
     "metadata": {},
     "output_type": "execute_result"
    }
   ],
   "source": [
    "frontier_pcd_df = pcd_df[pcd_df['System'].isin(frontier_systems)]\n",
    "frontier_pcd_df.head()"
   ]
  },
  {
   "cell_type": "code",
   "execution_count": 8,
   "metadata": {
    "ExecuteTime": {
     "end_time": "2024-02-02T07:32:35.508687800Z",
     "start_time": "2024-02-02T07:32:35.460381Z"
    },
    "collapsed": false
   },
   "outputs": [],
   "source": [
    "pcd_hardware_model_colname = 'Name of the hardware (from Training hardware)'"
   ]
  },
  {
   "cell_type": "markdown",
   "metadata": {
    "collapsed": false
   },
   "source": [
    "## Prepare for imputation"
   ]
  },
  {
   "cell_type": "code",
   "execution_count": 9,
   "metadata": {
    "ExecuteTime": {
     "end_time": "2024-02-02T07:32:35.530170500Z",
     "start_time": "2024-02-02T07:32:35.508687800Z"
    },
    "collapsed": false
   },
   "outputs": [],
   "source": [
    "frontier_pcd_df = frontier_pcd_df.set_index('System')"
   ]
  },
  {
   "cell_type": "code",
   "execution_count": 10,
   "metadata": {
    "ExecuteTime": {
     "end_time": "2024-02-02T07:32:35.593114100Z",
     "start_time": "2024-02-02T07:32:35.514410700Z"
    },
    "collapsed": false
   },
   "outputs": [],
   "source": [
    "# drop unneeded columns from frontier_pcd_df\n",
    "irrelevant_columns = ['Notability criteria', 'Notability criteria notes', 'Link', 'Citations', 'Parameters notes',\n",
    "                      'Training compute notes', 'Training dataset notes', 'Dataset size notes',\n",
    "                      'Inference compute notes', 'Approach', 'Confidence', 'Last modified', 'Created By', 'Benchmark data',\n",
    "                      'Exclude', 'Authors by country', 'Training cost trends', 'Abstract', 'Compute cost notes',\n",
    "                      'Training time notes', 'Authors', 'Name of the hardware (from Training hardware)',\n",
    "                      'Training compute cost (2020 USD)', 'Organization categorization',\n",
    "                      'Training dataset', 'Inference compute (FLOP)', 'Compute sponsor categorization',\n",
    "                      'Finetune compute notes']\n",
    "frontier_pcd_df = frontier_pcd_df.drop(columns=irrelevant_columns)"
   ]
  },
  {
   "cell_type": "code",
   "execution_count": 11,
   "metadata": {},
   "outputs": [],
   "source": [
    "# fill column 'Training cloud compute vendor' using org_to_cloud_vendor dictionary\n",
    "org_to_cloud_vendor = {\n",
    "    'Google': 'Google Cloud',\n",
    "    'DeepMind': 'Google Cloud',\n",
    "    'Google DeepMind': 'Google Cloud',\n",
    "    'Google Brain': 'Google Cloud',\n",
    "    'Microsoft': 'Microsoft Azure',\n",
    "    'OpenAI': 'Microsoft Azure',\n",
    "}\n",
    "frontier_pcd_df['Training cloud compute vendor'] = frontier_pcd_df['Organization (from Organization)'].map(org_to_cloud_vendor)\n",
    "frontier_pcd_df['Training cloud compute vendor'] = frontier_pcd_df['Training cloud compute vendor'].fillna('Amazon Web Services')"
   ]
  },
  {
   "cell_type": "code",
   "execution_count": 12,
   "metadata": {
    "ExecuteTime": {
     "end_time": "2024-02-02T07:32:35.625098Z",
     "start_time": "2024-02-02T07:32:35.558503300Z"
    },
    "collapsed": false
   },
   "outputs": [],
   "source": [
    "# convert large number columns to logarithmic\n",
    "frontier_pcd_df['log_params'] = np.log10(frontier_pcd_df['Parameters'])\n",
    "frontier_pcd_df['log_compute'] = np.log10(frontier_pcd_df['Training compute (FLOP)'])\n",
    "frontier_pcd_df['log_dataset'] = np.log10(frontier_pcd_df['Training dataset size (datapoints)'])\n",
    "# drop raw columns\n",
    "raw_columns = ['Parameters', 'Training compute (FLOP)', 'Training dataset size (datapoints)']\n",
    "frontier_pcd_df.drop(columns=raw_columns, inplace=True)"
   ]
  },
  {
   "cell_type": "code",
   "execution_count": 13,
   "metadata": {
    "ExecuteTime": {
     "end_time": "2024-02-02T07:32:35.645806600Z",
     "start_time": "2024-02-02T07:32:35.570892100Z"
    },
    "collapsed": false
   },
   "outputs": [
    {
     "data": {
      "text/plain": [
       "Index(['Domain', 'Task', 'Open-source', 'Reference', 'Publication date',\n",
       "       'Organization', 'Epochs', 'Training time (hours)', 'Training hardware',\n",
       "       'Country (from Organization)', 'Organization (from Organization)',\n",
       "       'Base model', 'Finetune compute (FLOP)', 'Hardware quantity',\n",
       "       'Hardware utilization', 'Training cloud compute vendor',\n",
       "       'Training data center', 'log_params', 'log_compute', 'log_dataset'],\n",
       "      dtype='object')"
      ]
     },
     "execution_count": 13,
     "metadata": {},
     "output_type": "execute_result"
    }
   ],
   "source": [
    "frontier_pcd_df.columns"
   ]
  },
  {
   "cell_type": "code",
   "execution_count": 14,
   "metadata": {},
   "outputs": [],
   "source": [
    "num_known_hardware_models = frontier_pcd_df['Training hardware'].notna().sum()"
   ]
  },
  {
   "cell_type": "code",
   "execution_count": 15,
   "metadata": {
    "ExecuteTime": {
     "end_time": "2024-02-02T07:32:35.673500800Z",
     "start_time": "2024-02-02T07:32:35.577398100Z"
    },
    "collapsed": false
   },
   "outputs": [
    {
     "name": "stdout",
     "output_type": "stream",
     "text": [
      "Total rows: 45\n",
      "Known hardware models: 35\n",
      "Known hardware utilization: 14\n",
      "Known hardware quantity: 33\n",
      "Known training time: 27\n"
     ]
    }
   ],
   "source": [
    "print(\n",
    "    \"Total rows: \", frontier_pcd_df.shape[0], \"\\n\",\n",
    "    \"Known hardware models: \", num_known_hardware_models, \"\\n\",\n",
    "    \"Known hardware utilization: \", frontier_pcd_df['Hardware utilization'].notna().sum(), \"\\n\",\n",
    "    \"Known hardware quantity: \", frontier_pcd_df['Hardware quantity'].notna().sum(), \"\\n\",\n",
    "    \"Known training time: \", frontier_pcd_df['Training time (hours)'].notna().sum(),\n",
    "    sep=\"\",\n",
    ")"
   ]
  },
  {
   "cell_type": "markdown",
   "metadata": {
    "collapsed": false
   },
   "source": [
    "Next, for different values of k, perform imputation and calculate the MSE for imputed quantitative data and accuracy for categorical data."
   ]
  },
  {
   "cell_type": "markdown",
   "metadata": {
    "collapsed": false
   },
   "source": [
    "## Run imputation many times and evaluate"
   ]
  },
  {
   "cell_type": "code",
   "execution_count": 16,
   "metadata": {
    "ExecuteTime": {
     "end_time": "2024-02-02T07:42:48.692583300Z",
     "start_time": "2024-02-02T07:42:48.550548600Z"
    },
    "collapsed": false
   },
   "outputs": [],
   "source": [
    "num_trials = 1000\n",
    "num_held_out = 5\n",
    "k_values = [1, 2, 4, 9, 16, 25, num_known_hardware_models - num_held_out]\n",
    "results = {k: [] for k in k_values}"
   ]
  },
  {
   "cell_type": "code",
   "execution_count": 18,
   "metadata": {},
   "outputs": [
    {
     "data": {
      "text/plain": [
       "Index(['Domain', 'Task', 'Open-source', 'Reference', 'Publication date',\n",
       "       'Organization', 'Epochs', 'Training time (hours)', 'Training hardware',\n",
       "       'Country (from Organization)', 'Organization (from Organization)',\n",
       "       'Base model', 'Finetune compute (FLOP)', 'Hardware quantity',\n",
       "       'Hardware utilization', 'Training cloud compute vendor',\n",
       "       'Training data center', 'log_params', 'log_compute', 'log_dataset'],\n",
       "      dtype='object')"
      ]
     },
     "execution_count": 18,
     "metadata": {},
     "output_type": "execute_result"
    }
   ],
   "source": [
    "frontier_pcd_df.columns"
   ]
  },
  {
   "cell_type": "code",
   "execution_count": 19,
   "metadata": {
    "collapsed": false
   },
   "outputs": [
    {
     "data": {
      "application/vnd.jupyter.widget-view+json": {
       "model_id": "b3206c942a0b45a6a9d9afbd8f7e7e28",
       "version_major": 2,
       "version_minor": 0
      },
      "text/plain": [
       "  0%|          | 0/1000 [00:00<?, ?it/s]"
      ]
     },
     "metadata": {},
     "output_type": "display_data"
    }
   ],
   "source": [
    "for i in tqdm(range(num_trials)):\n",
    "    for k in k_values:\n",
    "        # TODO: put some of this block in a function to avoid code duplication between here and cost notebook\n",
    "\n",
    "        # Drop 5 random rows with known hardware model\n",
    "        train_df, holdout_models = drop_random_values(frontier_pcd_df, 'Training hardware', num_held_out)\n",
    "\n",
    "        # Robi: TODO I think we should download the latest CSV now that \"name of the hardware\" redundant column is removed\n",
    "        # Then adjust the names of the cols we're dropping so it reflects the current structure of the table\n",
    "\n",
    "        # TODO The best k value might be different for utilization and hardware\n",
    "        # So might be best to have different cells tuning k for each\n",
    "\n",
    "        # TODO: should we be using imputed numerical values as features for imputing training hardware?\n",
    "        # It could be garbage in, garbage out\n",
    "        imputed_pcd_df = knn_impute_numerical_pcd_data(train_df, num_neighbors=k)\n",
    "\n",
    "        # Impute training hardware separately, because it is a categorical variable\n",
    "        # There could be a better solution to this, but it seems complicated no matter what - see https://stackoverflow.com/questions/64900801/implementing-knn-imputation-on-categorical-variables-in-an-sklearn-pipeline\n",
    "        imputed_pcd_df = knn_impute_categorical_column(\n",
    "            imputed_pcd_df,\n",
    "            num_neighbors=k,\n",
    "            target_col='Training hardware'\n",
    "        )\n",
    "\n",
    "        # Restore the System column\n",
    "        imputed_pcd_df['System'] = train_df.index\n",
    "\n",
    "        # set the System column as the index\n",
    "        imputed_pcd_df = imputed_pcd_df.set_index('System')\n",
    "\n",
    "        # insert imputed values into train_df\n",
    "        train_df['Training hardware'] = imputed_pcd_df['Training hardware']\n",
    "        train_df['Hardware quantity'] = imputed_pcd_df['Hardware quantity']\n",
    "        train_df['Hardware utilization'] = imputed_pcd_df['Hardware utilization']\n",
    "        train_df['Training time (hours)'] = imputed_pcd_df['Training time (hours)']\n",
    "\n",
    "        # calculate accuracy\n",
    "        true_hardware = holdout_models['Training hardware']\n",
    "        imputed_hardware = train_df.loc[holdout_models.index, 'Training hardware']\n",
    "        accuracy = np.sum(true_hardware == imputed_hardware)/num_held_out\n",
    "        results[k].append(accuracy)"
   ]
  },
  {
   "cell_type": "code",
   "execution_count": 20,
   "metadata": {
    "ExecuteTime": {
     "end_time": "2024-02-02T08:10:20.417640300Z",
     "start_time": "2024-02-02T08:10:20.387177700Z"
    },
    "collapsed": false
   },
   "outputs": [
    {
     "name": "stdout",
     "output_type": "stream",
     "text": [
      "{1: 0.1214, 2: 0.1362, 4: 0.1608, 9: 0.2462, 16: 0.247, 25: 0.2612, 30: 0.251}\n"
     ]
    }
   ],
   "source": [
    "results = {k: round(np.mean(v), 4) for k, v in results.items()}\n",
    "print(results)"
   ]
  },
  {
   "cell_type": "code",
   "execution_count": null,
   "metadata": {},
   "outputs": [],
   "source": []
  }
 ],
 "metadata": {
  "kernelspec": {
   "display_name": "Python 3",
   "language": "python",
   "name": "python3"
  },
  "language_info": {
   "codemirror_mode": {
    "name": "ipython",
    "version": 3
   },
   "file_extension": ".py",
   "mimetype": "text/x-python",
   "name": "python",
   "nbconvert_exporter": "python",
   "pygments_lexer": "ipython3",
   "version": "3.11.4"
  }
 },
 "nbformat": 4,
 "nbformat_minor": 0
}
