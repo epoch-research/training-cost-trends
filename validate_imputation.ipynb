{
 "cells": [
  {
   "cell_type": "markdown",
   "source": [
    "# Check accuracy of kNN imputation"
   ],
   "metadata": {
    "collapsed": false
   }
  },
  {
   "cell_type": "code",
   "execution_count": 11,
   "metadata": {
    "collapsed": true,
    "ExecuteTime": {
     "end_time": "2024-01-31T15:36:09.111449500Z",
     "start_time": "2024-01-31T15:36:07.278931200Z"
    }
   },
   "outputs": [],
   "source": [
    "import numpy as np\n",
    "import pandas as pd\n",
    "\n",
    "from plotting import *\n",
    "from pprint import pprint\n",
    "\n",
    "from sklearn.impute import KNNImputer"
   ]
  },
  {
   "cell_type": "markdown",
   "source": [
    "## Load the known data"
   ],
   "metadata": {
    "collapsed": false
   }
  },
  {
   "cell_type": "code",
   "execution_count": 12,
   "outputs": [
    {
     "data": {
      "text/plain": "                               System    Domain                   Task  \\\n0                      Cohere Command  Language                    NaN   \n1                             Theseus     Other           Maze solving   \n2                               SNARC     Other           Maze solving   \n3                   Genetic algorithm       NaN                    NaN   \n4  Sequence-based pattern recognition    Vision  Character recognition   \n\n           Authors      Notability criteria  \\\n0              NaN                      NaN   \n1   Claude Shannon  Historical significance   \n2    Marvin Minsky  Historical significance   \n3    NA Barricelli  Historical significance   \n4  O. G. Selfridge  Historical significance   \n\n                           Notability criteria notes Open-source  \\\n0                                                NaN         NaN   \n1                                                NaN         NaN   \n2                                                NaN         NaN   \n3  Possibly first computer simulation of a geneti...         NaN   \n4                                                NaN         NaN   \n\n                                                Link  Citations  \\\n0                  https://cohere.com/models/command        NaN   \n1  https://www.technologyreview.com/2018/12/19/13...        0.0   \n2  https://en.wikipedia.org/wiki/Stochastic_neura...       33.0   \n3  https://link.springer.com/article/10.1007/BF01...      266.0   \n4     https://dl.acm.org/doi/10.1145/1455292.1455310      290.0   \n\n                                           Reference  ...  \\\n0                    World-class AI, at your command  ...   \n1                                       Mighty Mouse  ...   \n2  A Neural-Analogue Calculator Based upon a Prob...  ...   \n3            Numerical testing of evolution theories  ...   \n4           Pattern recognition and modern computers  ...   \n\n              Organization (from Organization) Base model  \\\n0                                       Cohere        NaN   \n1                            Bell Laboratories        NaN   \n2                           Harvard University        NaN   \n3                 Institute for Advanced Study        NaN   \n4  Massachusetts Institute of Technology (MIT)        NaN   \n\n  Finetune compute (FLOP)  Finetune compute notes  \\\n0                     NaN                     NaN   \n1                     NaN                     NaN   \n2                     NaN                     NaN   \n3                     NaN                     NaN   \n4                     NaN                     NaN   \n\n                   Authors by country  Hardware quantity Hardware utilization  \\\n0                                 NaN                NaN                  NaN   \n1                             Theseus                NaN                  NaN   \n2                               SNARC                NaN                  NaN   \n3                   Genetic algorithm                NaN                  NaN   \n4  Sequence-based pattern recognition                NaN                  NaN   \n\n  Training cost trends Training cloud compute vendor  Training data center  \n0                  NaN                           NaN                   NaN  \n1                  NaN                           NaN                   NaN  \n2                  NaN                           NaN                   NaN  \n3                  NaN                           NaN                   NaN  \n4                  NaN                           NaN                   NaN  \n\n[5 rows x 49 columns]",
      "text/html": "<div>\n<style scoped>\n    .dataframe tbody tr th:only-of-type {\n        vertical-align: middle;\n    }\n\n    .dataframe tbody tr th {\n        vertical-align: top;\n    }\n\n    .dataframe thead th {\n        text-align: right;\n    }\n</style>\n<table border=\"1\" class=\"dataframe\">\n  <thead>\n    <tr style=\"text-align: right;\">\n      <th></th>\n      <th>System</th>\n      <th>Domain</th>\n      <th>Task</th>\n      <th>Authors</th>\n      <th>Notability criteria</th>\n      <th>Notability criteria notes</th>\n      <th>Open-source</th>\n      <th>Link</th>\n      <th>Citations</th>\n      <th>Reference</th>\n      <th>...</th>\n      <th>Organization (from Organization)</th>\n      <th>Base model</th>\n      <th>Finetune compute (FLOP)</th>\n      <th>Finetune compute notes</th>\n      <th>Authors by country</th>\n      <th>Hardware quantity</th>\n      <th>Hardware utilization</th>\n      <th>Training cost trends</th>\n      <th>Training cloud compute vendor</th>\n      <th>Training data center</th>\n    </tr>\n  </thead>\n  <tbody>\n    <tr>\n      <th>0</th>\n      <td>Cohere Command</td>\n      <td>Language</td>\n      <td>NaN</td>\n      <td>NaN</td>\n      <td>NaN</td>\n      <td>NaN</td>\n      <td>NaN</td>\n      <td>https://cohere.com/models/command</td>\n      <td>NaN</td>\n      <td>World-class AI, at your command</td>\n      <td>...</td>\n      <td>Cohere</td>\n      <td>NaN</td>\n      <td>NaN</td>\n      <td>NaN</td>\n      <td>NaN</td>\n      <td>NaN</td>\n      <td>NaN</td>\n      <td>NaN</td>\n      <td>NaN</td>\n      <td>NaN</td>\n    </tr>\n    <tr>\n      <th>1</th>\n      <td>Theseus</td>\n      <td>Other</td>\n      <td>Maze solving</td>\n      <td>Claude Shannon</td>\n      <td>Historical significance</td>\n      <td>NaN</td>\n      <td>NaN</td>\n      <td>https://www.technologyreview.com/2018/12/19/13...</td>\n      <td>0.0</td>\n      <td>Mighty Mouse</td>\n      <td>...</td>\n      <td>Bell Laboratories</td>\n      <td>NaN</td>\n      <td>NaN</td>\n      <td>NaN</td>\n      <td>Theseus</td>\n      <td>NaN</td>\n      <td>NaN</td>\n      <td>NaN</td>\n      <td>NaN</td>\n      <td>NaN</td>\n    </tr>\n    <tr>\n      <th>2</th>\n      <td>SNARC</td>\n      <td>Other</td>\n      <td>Maze solving</td>\n      <td>Marvin Minsky</td>\n      <td>Historical significance</td>\n      <td>NaN</td>\n      <td>NaN</td>\n      <td>https://en.wikipedia.org/wiki/Stochastic_neura...</td>\n      <td>33.0</td>\n      <td>A Neural-Analogue Calculator Based upon a Prob...</td>\n      <td>...</td>\n      <td>Harvard University</td>\n      <td>NaN</td>\n      <td>NaN</td>\n      <td>NaN</td>\n      <td>SNARC</td>\n      <td>NaN</td>\n      <td>NaN</td>\n      <td>NaN</td>\n      <td>NaN</td>\n      <td>NaN</td>\n    </tr>\n    <tr>\n      <th>3</th>\n      <td>Genetic algorithm</td>\n      <td>NaN</td>\n      <td>NaN</td>\n      <td>NA Barricelli</td>\n      <td>Historical significance</td>\n      <td>Possibly first computer simulation of a geneti...</td>\n      <td>NaN</td>\n      <td>https://link.springer.com/article/10.1007/BF01...</td>\n      <td>266.0</td>\n      <td>Numerical testing of evolution theories</td>\n      <td>...</td>\n      <td>Institute for Advanced Study</td>\n      <td>NaN</td>\n      <td>NaN</td>\n      <td>NaN</td>\n      <td>Genetic algorithm</td>\n      <td>NaN</td>\n      <td>NaN</td>\n      <td>NaN</td>\n      <td>NaN</td>\n      <td>NaN</td>\n    </tr>\n    <tr>\n      <th>4</th>\n      <td>Sequence-based pattern recognition</td>\n      <td>Vision</td>\n      <td>Character recognition</td>\n      <td>O. G. Selfridge</td>\n      <td>Historical significance</td>\n      <td>NaN</td>\n      <td>NaN</td>\n      <td>https://dl.acm.org/doi/10.1145/1455292.1455310</td>\n      <td>290.0</td>\n      <td>Pattern recognition and modern computers</td>\n      <td>...</td>\n      <td>Massachusetts Institute of Technology (MIT)</td>\n      <td>NaN</td>\n      <td>NaN</td>\n      <td>NaN</td>\n      <td>Sequence-based pattern recognition</td>\n      <td>NaN</td>\n      <td>NaN</td>\n      <td>NaN</td>\n      <td>NaN</td>\n      <td>NaN</td>\n    </tr>\n  </tbody>\n</table>\n<p>5 rows × 49 columns</p>\n</div>"
     },
     "execution_count": 12,
     "metadata": {},
     "output_type": "execute_result"
    }
   ],
   "source": [
    "pcd_df = pd.read_csv('data/All ML Systems - full view.csv')\n",
    "pcd_df.head()"
   ],
   "metadata": {
    "collapsed": false,
    "ExecuteTime": {
     "end_time": "2024-01-31T15:36:09.178191600Z",
     "start_time": "2024-01-31T15:36:09.118541900Z"
    }
   }
  },
  {
   "cell_type": "code",
   "execution_count": 13,
   "outputs": [],
   "source": [
    "# Publication date in datetime format\n",
    "pcd_df.dropna(subset=['Publication date'], inplace=True)\n",
    "pcd_df['Publication date'] = pd.to_datetime(pcd_df['Publication date'])"
   ],
   "metadata": {
    "collapsed": false,
    "ExecuteTime": {
     "end_time": "2024-01-31T15:36:09.209753300Z",
     "start_time": "2024-01-31T15:36:09.178191600Z"
    }
   }
  },
  {
   "cell_type": "code",
   "execution_count": 14,
   "outputs": [],
   "source": [
    "# Manually copied from \"Training cost trends\" Airtable\n",
    "frontier_systems = [\n",
    "    \"PaLM 2\",\n",
    "    \"GPT-4\",\n",
    "    \"Minerva (540B)\",\n",
    "    \"Megatron-Turing NLG 530B\",\n",
    "    \"GPT-3 175B (davinci)\",\n",
    "    \"Meena\",\n",
    "    \"AlphaStar\",\n",
    "    \"AlphaGo Zero\",\n",
    "    \"AlphaGo Master\",\n",
    "    \"GNMT\",\n",
    "    \"Claude 2\",\n",
    "    \"PaLM (540B)\",\n",
    "    \"ERNIE 3.0 Titan\",\n",
    "    \"Gopher (280B)\",\n",
    "    \"OpenAI Five\",\n",
    "    \"T5-11B\",\n",
    "    \"Megatron-BERT\",\n",
    "    \"ResNeXt-101 32x48d\",\n",
    "    \"AlphaZero\",\n",
    "    \"Falcon 180B\",\n",
    "    \"GPT-3.5 (text-davinci-003)\",\n",
    "    \"Chinchilla\",\n",
    "    \"Yuan 1.0\",\n",
    "    \"Turing-NLG\",\n",
    "    \"BigGAN-deep 512x512\",\n",
    "    \"NASv3 (CIFAR-10)\",\n",
    "    \"AlphaGo Lee\",\n",
    "    \"AlphaGo Fan\",\n",
    "    \"OPT-175B\",\n",
    "    \"AlphaCode\",\n",
    "    \"GLaM\",\n",
    "    \"OpenAI Five Rerun\",\n",
    "    \"T5-3B\",\n",
    "    \"Megatron-LM (8.3B)\",\n",
    "    \"FTW\",\n",
    "    \"AmoebaNet-A (F=448)\",\n",
    "    \"OpenAI TI7 DOTA 1v1\",\n",
    "    \"JFT\",\n",
    "    \"Llama 2-70B\",\n",
    "    \"LLaMA-65B\",\n",
    "    \"LaMDA\",\n",
    "    \"ALIGN\",\n",
    "    \"GShard (dense)\",\n",
    "    \"RoBERTa Large\",\n",
    "    \"IMPALA\",\n",
    "]"
   ],
   "metadata": {
    "collapsed": false,
    "ExecuteTime": {
     "end_time": "2024-01-31T15:36:09.257188Z",
     "start_time": "2024-01-31T15:36:09.194129400Z"
    }
   }
  },
  {
   "cell_type": "code",
   "execution_count": 15,
   "outputs": [
    {
     "data": {
      "text/plain": "               System    Domain         Task  \\\n265       AlphaGo Fan     Games           Go   \n275       AlphaGo Lee     Games           Go   \n306              GNMT  Language  Translation   \n317  NASv3 (CIFAR-10)    Vision          NaN   \n337    AlphaGo Master     Games           Go   \n\n                                               Authors Notability criteria  \\\n265  David Silver, Aja Huang, Chris J. Maddison, Ar...    SOTA improvement   \n275  David Silver, Aja Huang, Chris J. Maddison, Ar...        Highly cited   \n306  Yonghui Wu, Mike Schuster, Zhifeng Chen, Quoc ...        Highly cited   \n317                            Barret Zoph, Quoc V. Le        Highly cited   \n337  D Silver, J Schrittwieser, K Simonyan, I Anton...        Highly cited   \n\n    Notability criteria notes Open-source  \\\n265                       NaN         NaN   \n275                       NaN         NaN   \n306                       NaN         NaN   \n317                       NaN         NaN   \n337                       NaN         NaN   \n\n                                                  Link  Citations  \\\n265  https://www.nature.com/articles/nature24270.ep...    14389.0   \n275        https://www.nature.com/articles/nature16961    14389.0   \n306                   https://arxiv.org/abs/1609.08144     5948.0   \n317                   https://arxiv.org/abs/1611.01578     4569.0   \n337  https://www.researchgate.net/publication/32047...     7831.0   \n\n                                             Reference  ...  \\\n265  Mastering the game of Go with deep neural netw...  ...   \n275  Mastering the game of Go with deep neural netw...  ...   \n306  Google's Neural Machine Translation System: Br...  ...   \n317  Neural Architecture Search with Reinforcement ...  ...   \n337   Mastering the game of Go without human knowledge  ...   \n\n    Organization (from Organization) Base model Finetune compute (FLOP)  \\\n265                  Google DeepMind        NaN                     NaN   \n275                         DeepMind        NaN                     NaN   \n306                           Google        NaN                     NaN   \n317                     Google Brain        NaN                     NaN   \n337                         DeepMind        NaN                     NaN   \n\n     Finetune compute notes Authors by country  Hardware quantity  \\\n265                     NaN        AlphaGo Fan                NaN   \n275                     NaN        AlphaGo Lee                NaN   \n306                     NaN               GNMT               96.0   \n317                     NaN   NASv3 (CIFAR-10)              800.0   \n337                     NaN     AlphaGo Master                NaN   \n\n    Hardware utilization Training cost trends Training cloud compute vendor  \\\n265                  NaN          AlphaGo Fan                           NaN   \n275                  NaN          AlphaGo Lee                           NaN   \n306                  NaN                 GNMT                           NaN   \n317                  NaN     NASv3 (CIFAR-10)                           NaN   \n337                  NaN       AlphaGo Master                           NaN   \n\n     Training data center  \n265                   NaN  \n275                   NaN  \n306                   NaN  \n317                   NaN  \n337                   NaN  \n\n[5 rows x 49 columns]",
      "text/html": "<div>\n<style scoped>\n    .dataframe tbody tr th:only-of-type {\n        vertical-align: middle;\n    }\n\n    .dataframe tbody tr th {\n        vertical-align: top;\n    }\n\n    .dataframe thead th {\n        text-align: right;\n    }\n</style>\n<table border=\"1\" class=\"dataframe\">\n  <thead>\n    <tr style=\"text-align: right;\">\n      <th></th>\n      <th>System</th>\n      <th>Domain</th>\n      <th>Task</th>\n      <th>Authors</th>\n      <th>Notability criteria</th>\n      <th>Notability criteria notes</th>\n      <th>Open-source</th>\n      <th>Link</th>\n      <th>Citations</th>\n      <th>Reference</th>\n      <th>...</th>\n      <th>Organization (from Organization)</th>\n      <th>Base model</th>\n      <th>Finetune compute (FLOP)</th>\n      <th>Finetune compute notes</th>\n      <th>Authors by country</th>\n      <th>Hardware quantity</th>\n      <th>Hardware utilization</th>\n      <th>Training cost trends</th>\n      <th>Training cloud compute vendor</th>\n      <th>Training data center</th>\n    </tr>\n  </thead>\n  <tbody>\n    <tr>\n      <th>265</th>\n      <td>AlphaGo Fan</td>\n      <td>Games</td>\n      <td>Go</td>\n      <td>David Silver, Aja Huang, Chris J. Maddison, Ar...</td>\n      <td>SOTA improvement</td>\n      <td>NaN</td>\n      <td>NaN</td>\n      <td>https://www.nature.com/articles/nature24270.ep...</td>\n      <td>14389.0</td>\n      <td>Mastering the game of Go with deep neural netw...</td>\n      <td>...</td>\n      <td>Google DeepMind</td>\n      <td>NaN</td>\n      <td>NaN</td>\n      <td>NaN</td>\n      <td>AlphaGo Fan</td>\n      <td>NaN</td>\n      <td>NaN</td>\n      <td>AlphaGo Fan</td>\n      <td>NaN</td>\n      <td>NaN</td>\n    </tr>\n    <tr>\n      <th>275</th>\n      <td>AlphaGo Lee</td>\n      <td>Games</td>\n      <td>Go</td>\n      <td>David Silver, Aja Huang, Chris J. Maddison, Ar...</td>\n      <td>Highly cited</td>\n      <td>NaN</td>\n      <td>NaN</td>\n      <td>https://www.nature.com/articles/nature16961</td>\n      <td>14389.0</td>\n      <td>Mastering the game of Go with deep neural netw...</td>\n      <td>...</td>\n      <td>DeepMind</td>\n      <td>NaN</td>\n      <td>NaN</td>\n      <td>NaN</td>\n      <td>AlphaGo Lee</td>\n      <td>NaN</td>\n      <td>NaN</td>\n      <td>AlphaGo Lee</td>\n      <td>NaN</td>\n      <td>NaN</td>\n    </tr>\n    <tr>\n      <th>306</th>\n      <td>GNMT</td>\n      <td>Language</td>\n      <td>Translation</td>\n      <td>Yonghui Wu, Mike Schuster, Zhifeng Chen, Quoc ...</td>\n      <td>Highly cited</td>\n      <td>NaN</td>\n      <td>NaN</td>\n      <td>https://arxiv.org/abs/1609.08144</td>\n      <td>5948.0</td>\n      <td>Google's Neural Machine Translation System: Br...</td>\n      <td>...</td>\n      <td>Google</td>\n      <td>NaN</td>\n      <td>NaN</td>\n      <td>NaN</td>\n      <td>GNMT</td>\n      <td>96.0</td>\n      <td>NaN</td>\n      <td>GNMT</td>\n      <td>NaN</td>\n      <td>NaN</td>\n    </tr>\n    <tr>\n      <th>317</th>\n      <td>NASv3 (CIFAR-10)</td>\n      <td>Vision</td>\n      <td>NaN</td>\n      <td>Barret Zoph, Quoc V. Le</td>\n      <td>Highly cited</td>\n      <td>NaN</td>\n      <td>NaN</td>\n      <td>https://arxiv.org/abs/1611.01578</td>\n      <td>4569.0</td>\n      <td>Neural Architecture Search with Reinforcement ...</td>\n      <td>...</td>\n      <td>Google Brain</td>\n      <td>NaN</td>\n      <td>NaN</td>\n      <td>NaN</td>\n      <td>NASv3 (CIFAR-10)</td>\n      <td>800.0</td>\n      <td>NaN</td>\n      <td>NASv3 (CIFAR-10)</td>\n      <td>NaN</td>\n      <td>NaN</td>\n    </tr>\n    <tr>\n      <th>337</th>\n      <td>AlphaGo Master</td>\n      <td>Games</td>\n      <td>Go</td>\n      <td>D Silver, J Schrittwieser, K Simonyan, I Anton...</td>\n      <td>Highly cited</td>\n      <td>NaN</td>\n      <td>NaN</td>\n      <td>https://www.researchgate.net/publication/32047...</td>\n      <td>7831.0</td>\n      <td>Mastering the game of Go without human knowledge</td>\n      <td>...</td>\n      <td>DeepMind</td>\n      <td>NaN</td>\n      <td>NaN</td>\n      <td>NaN</td>\n      <td>AlphaGo Master</td>\n      <td>NaN</td>\n      <td>NaN</td>\n      <td>AlphaGo Master</td>\n      <td>NaN</td>\n      <td>NaN</td>\n    </tr>\n  </tbody>\n</table>\n<p>5 rows × 49 columns</p>\n</div>"
     },
     "execution_count": 15,
     "metadata": {},
     "output_type": "execute_result"
    }
   ],
   "source": [
    "frontier_pcd_df = pcd_df[pcd_df['System'].isin(frontier_systems)]\n",
    "frontier_pcd_df.head()"
   ],
   "metadata": {
    "collapsed": false,
    "ExecuteTime": {
     "end_time": "2024-01-31T15:36:09.353291900Z",
     "start_time": "2024-01-31T15:36:09.210634200Z"
    }
   }
  },
  {
   "cell_type": "code",
   "execution_count": 16,
   "outputs": [],
   "source": [
    "pcd_hardware_model_colname = 'Name of the hardware (from Training hardware)'"
   ],
   "metadata": {
    "collapsed": false,
    "ExecuteTime": {
     "end_time": "2024-01-31T15:36:09.353291900Z",
     "start_time": "2024-01-31T15:36:09.257188Z"
    }
   }
  },
  {
   "cell_type": "code",
   "execution_count": 17,
   "outputs": [
    {
     "name": "stderr",
     "output_type": "stream",
     "text": [
      "C:\\Users\\robir\\AppData\\Local\\Temp\\ipykernel_22536\\3951382658.py:9: SettingWithCopyWarning: \n",
      "A value is trying to be set on a copy of a slice from a DataFrame.\n",
      "Try using .loc[row_indexer,col_indexer] = value instead\n",
      "\n",
      "See the caveats in the documentation: https://pandas.pydata.org/pandas-docs/stable/user_guide/indexing.html#returning-a-view-versus-a-copy\n",
      "  frontier_pcd_df['Training time (chip hours)'] = chip_hours\n"
     ]
    }
   ],
   "source": [
    "chip_hours = []\n",
    "for i, row in frontier_pcd_df.iterrows():\n",
    "    if pd.isna(row['Hardware quantity']) or pd.isna(row['Training time (hours)']):\n",
    "        # TODO impute missing values\n",
    "        chip_hours.append(np.nan)\n",
    "    else:\n",
    "        chip_hours.append(row['Hardware quantity'] * row['Training time (hours)'])\n",
    "\n",
    "frontier_pcd_df['Training time (chip hours)'] = chip_hours"
   ],
   "metadata": {
    "collapsed": false,
    "ExecuteTime": {
     "end_time": "2024-01-31T15:36:09.353291900Z",
     "start_time": "2024-01-31T15:36:09.260245800Z"
    }
   }
  },
  {
   "cell_type": "markdown",
   "source": [
    "## Prepare for imputation"
   ],
   "metadata": {
    "collapsed": false
   }
  },
  {
   "cell_type": "code",
   "execution_count": 18,
   "outputs": [],
   "source": [
    "# drop unneeded columns from frontier_pcd_df\n",
    "irrelevant_columns = ['Notability criteria', 'Notability criteria notes', 'Link', 'Citations', 'Parameters notes',\n",
    "                      'Training compute notes', 'Training dataset notes', 'Dataset size notes',\n",
    "                      'Inference compute notes', 'Approach', 'Confidence', 'Last modified', 'Created By', 'Benchmark data',\n",
    "                      'Exclude', 'Authors by country', 'Training cost trends', 'Abstract', 'Compute cost notes',\n",
    "                      'Training time notes', 'Authors', 'Name of the hardware (from Training hardware)',\n",
    "                      'Training time (chip hours)', 'Training compute cost (2020 USD)', 'Organization categorization',\n",
    "                      'Training dataset', 'Inference compute (FLOP)', 'Compute sponsor categorization',\n",
    "                      'Finetune compute (FLOP)', 'Finetune compute notes', ]\n",
    "frontier_pcd_df = frontier_pcd_df.drop(columns=irrelevant_columns)\n",
    "\n",
    "# fill column 'Training cloud compute vendor' using org_to_cloud_vendor dictionary\n",
    "org_to_cloud_vendor = {\n",
    "    'Google': 'Google Cloud',\n",
    "    'DeepMind': 'Google Cloud',\n",
    "    'Google DeepMind': 'Google Cloud',\n",
    "    'Google Brain': 'Google Cloud',\n",
    "    'Microsoft': 'Microsoft Azure',\n",
    "    'OpenAI': 'Microsoft Azure',\n",
    "}\n",
    "frontier_pcd_df['Training cloud compute vendor'] = frontier_pcd_df['Organization (from Organization)'].map(org_to_cloud_vendor)\n",
    "frontier_pcd_df['Training cloud compute vendor'] = frontier_pcd_df['Training cloud compute vendor'].fillna('Amazon Web Services')"
   ],
   "metadata": {
    "collapsed": false,
    "ExecuteTime": {
     "end_time": "2024-01-31T15:36:09.354293300Z",
     "start_time": "2024-01-31T15:36:09.278503300Z"
    }
   }
  },
  {
   "cell_type": "code",
   "execution_count": 19,
   "outputs": [],
   "source": [
    "# convert large number columns to logarithmic\n",
    "frontier_pcd_df['log_params'] = np.log10(frontier_pcd_df['Parameters'])\n",
    "frontier_pcd_df['log_compute'] = np.log10(frontier_pcd_df['Training compute (FLOP)'])\n",
    "frontier_pcd_df['log_dataset'] = np.log10(frontier_pcd_df['Training dataset size (datapoints)'])\n",
    "# drop raw columns\n",
    "raw_columns = ['Parameters', 'Training compute (FLOP)', 'Training dataset size (datapoints)']\n",
    "frontier_pcd_df.drop(columns=raw_columns, inplace=True)"
   ],
   "metadata": {
    "collapsed": false,
    "ExecuteTime": {
     "end_time": "2024-01-31T15:36:09.354293300Z",
     "start_time": "2024-01-31T15:36:09.307023800Z"
    }
   }
  },
  {
   "cell_type": "code",
   "execution_count": 20,
   "outputs": [
    {
     "data": {
      "text/plain": "Index(['System', 'Domain', 'Task', 'Open-source', 'Reference',\n       'Publication date', 'Organization', 'Epochs', 'Training time (hours)',\n       'Training hardware', 'Country (from Organization)',\n       'Organization (from Organization)', 'Base model', 'Hardware quantity',\n       'Hardware utilization', 'Training cloud compute vendor',\n       'Training data center', 'log_params', 'log_compute', 'log_dataset'],\n      dtype='object')"
     },
     "execution_count": 20,
     "metadata": {},
     "output_type": "execute_result"
    }
   ],
   "source": [
    "frontier_pcd_df.columns"
   ],
   "metadata": {
    "collapsed": false,
    "ExecuteTime": {
     "end_time": "2024-01-31T15:36:09.354293300Z",
     "start_time": "2024-01-31T15:36:09.316529800Z"
    }
   }
  },
  {
   "cell_type": "code",
   "execution_count": 25,
   "outputs": [
    {
     "name": "stdout",
     "output_type": "stream",
     "text": [
      "Known hardware models: 35 \n",
      " Known hardware utilization: 14 \n",
      " Known hardware quantity: 33 \n",
      " Known training time: 27\n"
     ]
    }
   ],
   "source": [
    "print(\n",
    "    \"Known hardware models:\", frontier_pcd_df['Training hardware'].notna().sum(), \"\\n\",\n",
    "    \"Known hardware utilization:\", frontier_pcd_df['Hardware utilization'].notna().sum(), \"\\n\",\n",
    "    \"Known hardware quantity:\", frontier_pcd_df['Hardware quantity'].notna().sum(), \"\\n\",\n",
    "    \"Known training time:\", frontier_pcd_df['Training time (hours)'].notna().sum()\n",
    ")"
   ],
   "metadata": {
    "collapsed": false,
    "ExecuteTime": {
     "end_time": "2024-01-31T15:40:25.556827Z",
     "start_time": "2024-01-31T15:40:25.556827Z"
    }
   }
  },
  {
   "cell_type": "markdown",
   "source": [
    "Next, for different values of k, perform imputation and calculate the "
   ],
   "metadata": {
    "collapsed": false
   }
  },
  {
   "cell_type": "markdown",
   "source": [
    "## Run imputation many times and evaluate"
   ],
   "metadata": {
    "collapsed": false
   }
  }
 ],
 "metadata": {
  "kernelspec": {
   "display_name": "Python 3",
   "language": "python",
   "name": "python3"
  },
  "language_info": {
   "codemirror_mode": {
    "name": "ipython",
    "version": 2
   },
   "file_extension": ".py",
   "mimetype": "text/x-python",
   "name": "python",
   "nbconvert_exporter": "python",
   "pygments_lexer": "ipython2",
   "version": "2.7.6"
  }
 },
 "nbformat": 4,
 "nbformat_minor": 0
}
