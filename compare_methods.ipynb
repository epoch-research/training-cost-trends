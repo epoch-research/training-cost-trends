{
 "cells": [
  {
   "cell_type": "code",
   "execution_count": 14,
   "metadata": {},
   "outputs": [],
   "source": [
    "import numpy as np\n",
    "import pandas as pd"
   ]
  },
  {
   "cell_type": "code",
   "execution_count": 15,
   "metadata": {},
   "outputs": [],
   "source": [
    "amortized_results_dir = 'results/amortized-hardware-costs/'\n",
    "cloud_results_dir = 'results/cloud-check/'"
   ]
  },
  {
   "cell_type": "code",
   "execution_count": 16,
   "metadata": {},
   "outputs": [],
   "source": [
    "amortized_cost_df = pd.read_csv(amortized_results_dir + 'price dataset.csv')\n",
    "cloud_cost_df = pd.read_csv(cloud_results_dir + 'price dataset.csv')"
   ]
  },
  {
   "cell_type": "code",
   "execution_count": 17,
   "metadata": {},
   "outputs": [
    {
     "data": {
      "text/plain": [
       "array(['AlexaTM 20B', 'BLOOM-176B',\n",
       "       'Big Transformer for Back-Translation', 'BloombergGPT',\n",
       "       'CLIP (ViT L/14@336px)', 'DD-PPO', 'DeBERTa', 'ESM2-15B',\n",
       "       'Falcon 180B', 'Falcon-40B', 'Florence', 'GLM-130B',\n",
       "       'GPT-3 175B (davinci)', 'GPT-4', 'GPT-NeoX-20B', 'HyperCLOVA',\n",
       "       'LLaMA-65B', 'Llama 2-70B', 'Megatron-LM (8.3B)',\n",
       "       'Megatron-Turing NLG 530B', 'Nemotron-3-8B', 'OPT-175B', 'PLUG',\n",
       "       'Pangu-Weather', 'RoBERTa Large', 'Stable Diffusion (LDM-KL-8-G)',\n",
       "       'StarCoder', 'Taiyi-Stable Diffusion',\n",
       "       'Transformer (Adaptive Input Embeddings)', 'WizardLM-7B',\n",
       "       'XGLM-7.5B'], dtype=object)"
      ]
     },
     "execution_count": 17,
     "metadata": {},
     "output_type": "execute_result"
    }
   ],
   "source": [
    "# Compare non-NaN 'Cost (inflation-adjusted)' for overlapping 'System' values\n",
    "amortized_cost_df = amortized_cost_df.set_index('System')\n",
    "cloud_cost_df = cloud_cost_df.set_index('System')\n",
    "amortized_idxs = amortized_cost_df.dropna(subset=['Cost (inflation-adjusted)']).index\n",
    "cloud_idxs = cloud_cost_df.dropna(subset=['Cost (inflation-adjusted)']).index\n",
    "overlapping_idxs = np.intersect1d(amortized_idxs, cloud_idxs)\n",
    "overlapping_idxs"
   ]
  },
  {
   "cell_type": "code",
   "execution_count": 32,
   "metadata": {},
   "outputs": [],
   "source": [
    "overlapping_amortized_costs = amortized_cost_df.loc[overlapping_idxs, 'Cost (inflation-adjusted)']\n",
    "overlapping_cloud_costs = cloud_cost_df.loc[overlapping_idxs, 'Cost (inflation-adjusted)']"
   ]
  },
  {
   "cell_type": "code",
   "execution_count": 33,
   "metadata": {},
   "outputs": [
    {
     "data": {
      "text/plain": [
       "(0.6129243801608012, 0.13791920662425655)"
      ]
     },
     "execution_count": 33,
     "metadata": {},
     "output_type": "execute_result"
    }
   ],
   "source": [
    "relative_errors = (overlapping_cloud_costs - overlapping_amortized_costs) / overlapping_amortized_costs\n",
    "mean_error = np.mean(relative_errors)\n",
    "std_error = np.std(relative_errors)\n",
    "mean_error, std_error"
   ]
  },
  {
   "cell_type": "code",
   "execution_count": 29,
   "metadata": {},
   "outputs": [
    {
     "name": "stdout",
     "output_type": "stream",
     "text": [
      "Cloud vs. Amortized Cost Comparison:\n",
      "AlexaTM 20B: $545191 vs. $355648\n",
      "BLOOM-176B: $1990912 vs. $1072482\n",
      "Big Transformer for Back-Translation: $4434 vs. $2607\n",
      "BloombergGPT: $952968 vs. $621657\n",
      "CLIP (ViT L/14@336px): $88753 vs. $52187\n",
      "DD-PPO: $5207 vs. $3062\n",
      "DeBERTa: $27639 vs. $16252\n",
      "ESM2-15B: $871738 vs. $512586\n",
      "Falcon 180B: $25816324 vs. $16840957\n",
      "Falcon-40B: $810398 vs. $528653\n",
      "Florence: $172411 vs. $119913\n",
      "GLM-130B: $1635573 vs. $1066945\n",
      "GPT-3 175B (davinci): $4324883 vs. $3089796\n",
      "GPT-4: $78352034 vs. $54494382\n",
      "GPT-NeoX-20B: $310841 vs. $202773\n",
      "HyperCLOVA: $986972 vs. $643839\n",
      "LLaMA-65B: $1503763 vs. $980961\n",
      "Llama 2-70B: $3931897 vs. $2118069\n",
      "Megatron-LM (8.3B): $216070 vs. $147987\n",
      "Megatron-Turing NLG 530B: $6405653 vs. $3469823\n",
      "Nemotron-3-8B: $678654 vs. $442711\n",
      "OPT-175B: $1493975 vs. $804787\n",
      "PLUG: $161227 vs. $105175\n",
      "Pangu-Weather: $344049 vs. $202303\n",
      "RoBERTa Large: $160018 vs. $109596\n",
      "Stable Diffusion (LDM-KL-8-G): $221088 vs. $144224\n",
      "StarCoder: $585626 vs. $315470\n",
      "Taiyi-Stable Diffusion: $4734 vs. $3088\n",
      "Transformer (Adaptive Input Embeddings): $670 vs. $394\n",
      "WizardLM-7B: $657 vs. $386\n",
      "XGLM-7.5B: $193060 vs. $125940\n"
     ]
    }
   ],
   "source": [
    "print('Cloud vs. Amortized Cost Comparison:')\n",
    "for idx in overlapping_idxs:\n",
    "    print(f'{idx}: ${cloud_cost_df.loc[idx, \"Cost (inflation-adjusted)\"]:.0f} vs. ${amortized_cost_df.loc[idx, \"Cost (inflation-adjusted)\"]:.0f}')"
   ]
  },
  {
   "cell_type": "code",
   "execution_count": null,
   "metadata": {},
   "outputs": [],
   "source": []
  }
 ],
 "metadata": {
  "kernelspec": {
   "display_name": "epoch",
   "language": "python",
   "name": "python3"
  },
  "language_info": {
   "codemirror_mode": {
    "name": "ipython",
    "version": 3
   },
   "file_extension": ".py",
   "mimetype": "text/x-python",
   "name": "python",
   "nbconvert_exporter": "python",
   "pygments_lexer": "ipython3",
   "version": "3.11.4"
  }
 },
 "nbformat": 4,
 "nbformat_minor": 2
}
