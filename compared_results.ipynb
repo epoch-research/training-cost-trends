{
 "cells": [
  {
   "cell_type": "code",
   "execution_count": 1,
   "metadata": {},
   "outputs": [],
   "source": [
    "import numpy as np\n",
    "import os\n",
    "import pandas as pd\n",
    "import plotly.express as px\n",
    "\n",
    "from plotting import *\n",
    "from utils import *"
   ]
  },
  {
   "cell_type": "code",
   "execution_count": 2,
   "metadata": {},
   "outputs": [],
   "source": [
    "# Load two results CSVs\n",
    "estimation_method = 'hardware-capex-opex'\n",
    "compute_threshold_method = 'top_n'  # top_n, window_percentile\n",
    "compute_threshold = 10  # e.g. 10 to select top 10; 75 to select top 25%\n",
    "variant1 = 'original'\n",
    "variant2 = 'depreciation-update'\n",
    "\n",
    "results_dir1 = f'results/{estimation_method}-{compute_threshold_method}={compute_threshold}-{variant1}/'\n",
    "results_dir2 = f'results/{estimation_method}-{compute_threshold_method}={compute_threshold}-{variant2}/'\n",
    "\n",
    "results_dir = f'results/{estimation_method}-{compute_threshold_method}={compute_threshold}-{variant1}-vs-{variant2}/'\n",
    "os.makedirs(results_dir, exist_ok=True)"
   ]
  },
  {
   "cell_type": "code",
   "execution_count": 3,
   "metadata": {},
   "outputs": [],
   "source": [
    "cost_df = pd.read_csv(results_dir1 + 'price dataset.csv')\n",
    "cost_df2 = pd.read_csv(results_dir2 + 'price dataset.csv')"
   ]
  },
  {
   "cell_type": "code",
   "execution_count": 4,
   "metadata": {},
   "outputs": [
    {
     "data": {
      "text/html": [
       "<div>\n",
       "<style scoped>\n",
       "    .dataframe tbody tr th:only-of-type {\n",
       "        vertical-align: middle;\n",
       "    }\n",
       "\n",
       "    .dataframe tbody tr th {\n",
       "        vertical-align: top;\n",
       "    }\n",
       "\n",
       "    .dataframe thead th {\n",
       "        text-align: right;\n",
       "    }\n",
       "</style>\n",
       "<table border=\"1\" class=\"dataframe\">\n",
       "  <thead>\n",
       "    <tr style=\"text-align: right;\">\n",
       "      <th></th>\n",
       "      <th>System</th>\n",
       "      <th>Domain</th>\n",
       "      <th>Task</th>\n",
       "      <th>Model accessibility</th>\n",
       "      <th>Reference</th>\n",
       "      <th>Publication date</th>\n",
       "      <th>Organization</th>\n",
       "      <th>Parameters</th>\n",
       "      <th>Training compute (FLOP)</th>\n",
       "      <th>Training dataset size (datapoints)</th>\n",
       "      <th>...</th>\n",
       "      <th>Base model</th>\n",
       "      <th>Finetune compute (FLOP)</th>\n",
       "      <th>Hardware quantity</th>\n",
       "      <th>Hardware utilization</th>\n",
       "      <th>Training cloud compute vendor</th>\n",
       "      <th>Training data center</th>\n",
       "      <th>Cost</th>\n",
       "      <th>Cost (inflation-adjusted)</th>\n",
       "      <th>original</th>\n",
       "      <th>depreciation-update</th>\n",
       "    </tr>\n",
       "  </thead>\n",
       "  <tbody>\n",
       "    <tr>\n",
       "      <th>0</th>\n",
       "      <td>Gemini Ultra</td>\n",
       "      <td>Multimodal</td>\n",
       "      <td>Language modelling,Visual question answering,C...</td>\n",
       "      <td>Hosted access (no API)</td>\n",
       "      <td>Gemini: A Family of Highly Capable Multimodal ...</td>\n",
       "      <td>2023-12-06</td>\n",
       "      <td>Google DeepMind</td>\n",
       "      <td>NaN</td>\n",
       "      <td>5.000000e+25</td>\n",
       "      <td>NaN</td>\n",
       "      <td>...</td>\n",
       "      <td>NaN</td>\n",
       "      <td>NaN</td>\n",
       "      <td>55000.0</td>\n",
       "      <td>NaN</td>\n",
       "      <td>NaN</td>\n",
       "      <td>NaN</td>\n",
       "      <td>8.897229e+07</td>\n",
       "      <td>8.897229e+07</td>\n",
       "      <td>8.897229e+07</td>\n",
       "      <td>9.590527e+07</td>\n",
       "    </tr>\n",
       "    <tr>\n",
       "      <th>1</th>\n",
       "      <td>Inflection-2</td>\n",
       "      <td>Language</td>\n",
       "      <td>Language modelling</td>\n",
       "      <td>Hosted access (no API)</td>\n",
       "      <td>Inflection-2: The Next Step Up</td>\n",
       "      <td>2023-11-22</td>\n",
       "      <td>Inflection AI</td>\n",
       "      <td>NaN</td>\n",
       "      <td>1.001000e+25</td>\n",
       "      <td>NaN</td>\n",
       "      <td>...</td>\n",
       "      <td>NaN</td>\n",
       "      <td>NaN</td>\n",
       "      <td>5000.0</td>\n",
       "      <td>NaN</td>\n",
       "      <td>NaN</td>\n",
       "      <td>NaN</td>\n",
       "      <td>1.166191e+07</td>\n",
       "      <td>1.168921e+07</td>\n",
       "      <td>1.168921e+07</td>\n",
       "      <td>1.828799e+07</td>\n",
       "    </tr>\n",
       "    <tr>\n",
       "      <th>2</th>\n",
       "      <td>Grok-1</td>\n",
       "      <td>Language</td>\n",
       "      <td>Language modelling,Chat</td>\n",
       "      <td>Open source</td>\n",
       "      <td>Announcing Grok</td>\n",
       "      <td>2023-11-04</td>\n",
       "      <td>xAI</td>\n",
       "      <td>3.140000e+11</td>\n",
       "      <td>2.900000e+24</td>\n",
       "      <td>NaN</td>\n",
       "      <td>...</td>\n",
       "      <td>NaN</td>\n",
       "      <td>NaN</td>\n",
       "      <td>NaN</td>\n",
       "      <td>NaN</td>\n",
       "      <td>NaN</td>\n",
       "      <td>NaN</td>\n",
       "      <td>NaN</td>\n",
       "      <td>NaN</td>\n",
       "      <td>NaN</td>\n",
       "      <td>NaN</td>\n",
       "    </tr>\n",
       "    <tr>\n",
       "      <th>3</th>\n",
       "      <td>ChatGLM3</td>\n",
       "      <td>Multimodal</td>\n",
       "      <td>Chat,Visual question answering</td>\n",
       "      <td>NaN</td>\n",
       "      <td>Zhipu AI launches third-generation base model</td>\n",
       "      <td>2023-10-27</td>\n",
       "      <td>Zhipu AI</td>\n",
       "      <td>1.300000e+11</td>\n",
       "      <td>1.092000e+24</td>\n",
       "      <td>1.050000e+12</td>\n",
       "      <td>...</td>\n",
       "      <td>NaN</td>\n",
       "      <td>NaN</td>\n",
       "      <td>NaN</td>\n",
       "      <td>NaN</td>\n",
       "      <td>NaN</td>\n",
       "      <td>NaN</td>\n",
       "      <td>NaN</td>\n",
       "      <td>NaN</td>\n",
       "      <td>NaN</td>\n",
       "      <td>NaN</td>\n",
       "    </tr>\n",
       "    <tr>\n",
       "      <th>4</th>\n",
       "      <td>Falcon-180B</td>\n",
       "      <td>Language</td>\n",
       "      <td>Language modelling</td>\n",
       "      <td>Open access (restricted use)</td>\n",
       "      <td>The Falcon Series of Open Language Models</td>\n",
       "      <td>2023-09-06</td>\n",
       "      <td>Technology Innovation Institute</td>\n",
       "      <td>1.800000e+11</td>\n",
       "      <td>3.760000e+24</td>\n",
       "      <td>2.625000e+12</td>\n",
       "      <td>...</td>\n",
       "      <td>NaN</td>\n",
       "      <td>NaN</td>\n",
       "      <td>4096.0</td>\n",
       "      <td>0.1876</td>\n",
       "      <td>Amazon Web Services</td>\n",
       "      <td>NaN</td>\n",
       "      <td>2.033419e+07</td>\n",
       "      <td>2.046019e+07</td>\n",
       "      <td>2.046019e+07</td>\n",
       "      <td>1.436562e+07</td>\n",
       "    </tr>\n",
       "    <tr>\n",
       "      <th>...</th>\n",
       "      <td>...</td>\n",
       "      <td>...</td>\n",
       "      <td>...</td>\n",
       "      <td>...</td>\n",
       "      <td>...</td>\n",
       "      <td>...</td>\n",
       "      <td>...</td>\n",
       "      <td>...</td>\n",
       "      <td>...</td>\n",
       "      <td>...</td>\n",
       "      <td>...</td>\n",
       "      <td>...</td>\n",
       "      <td>...</td>\n",
       "      <td>...</td>\n",
       "      <td>...</td>\n",
       "      <td>...</td>\n",
       "      <td>...</td>\n",
       "      <td>...</td>\n",
       "      <td>...</td>\n",
       "      <td>...</td>\n",
       "      <td>...</td>\n",
       "    </tr>\n",
       "    <tr>\n",
       "      <th>62</th>\n",
       "      <td>Xception</td>\n",
       "      <td>Vision</td>\n",
       "      <td>Image classification</td>\n",
       "      <td>NaN</td>\n",
       "      <td>Xception: Deep Learning with Depthwise Separab...</td>\n",
       "      <td>2016-10-07</td>\n",
       "      <td>Google</td>\n",
       "      <td>2.285595e+07</td>\n",
       "      <td>4.360000e+20</td>\n",
       "      <td>3.500000e+08</td>\n",
       "      <td>...</td>\n",
       "      <td>NaN</td>\n",
       "      <td>NaN</td>\n",
       "      <td>60.0</td>\n",
       "      <td>NaN</td>\n",
       "      <td>NaN</td>\n",
       "      <td>NaN</td>\n",
       "      <td>1.679176e+04</td>\n",
       "      <td>1.833691e+04</td>\n",
       "      <td>1.833691e+04</td>\n",
       "      <td>1.749060e+04</td>\n",
       "    </tr>\n",
       "    <tr>\n",
       "      <th>63</th>\n",
       "      <td>GNMT</td>\n",
       "      <td>Language</td>\n",
       "      <td>Translation</td>\n",
       "      <td>Hosted access (no API)</td>\n",
       "      <td>Google's Neural Machine Translation System: Br...</td>\n",
       "      <td>2016-09-26</td>\n",
       "      <td>Google</td>\n",
       "      <td>2.780000e+08</td>\n",
       "      <td>6.900000e+21</td>\n",
       "      <td>3.600000e+08</td>\n",
       "      <td>...</td>\n",
       "      <td>NaN</td>\n",
       "      <td>NaN</td>\n",
       "      <td>96.0</td>\n",
       "      <td>NaN</td>\n",
       "      <td>NaN</td>\n",
       "      <td>NaN</td>\n",
       "      <td>1.612009e+05</td>\n",
       "      <td>1.760344e+05</td>\n",
       "      <td>1.760344e+05</td>\n",
       "      <td>1.914648e+05</td>\n",
       "    </tr>\n",
       "    <tr>\n",
       "      <th>64</th>\n",
       "      <td>AlphaGo Lee</td>\n",
       "      <td>Games</td>\n",
       "      <td>Go</td>\n",
       "      <td>NaN</td>\n",
       "      <td>Mastering the game of Go with deep neural netw...</td>\n",
       "      <td>2016-01-27</td>\n",
       "      <td>DeepMind</td>\n",
       "      <td>NaN</td>\n",
       "      <td>1.900000e+21</td>\n",
       "      <td>2.940000e+07</td>\n",
       "      <td>...</td>\n",
       "      <td>NaN</td>\n",
       "      <td>NaN</td>\n",
       "      <td>NaN</td>\n",
       "      <td>NaN</td>\n",
       "      <td>NaN</td>\n",
       "      <td>NaN</td>\n",
       "      <td>NaN</td>\n",
       "      <td>NaN</td>\n",
       "      <td>NaN</td>\n",
       "      <td>NaN</td>\n",
       "    </tr>\n",
       "    <tr>\n",
       "      <th>65</th>\n",
       "      <td>ResNet-152 (ImageNet)</td>\n",
       "      <td>Vision</td>\n",
       "      <td>Image classification</td>\n",
       "      <td>NaN</td>\n",
       "      <td>Deep Residual Learning for Image Recognition</td>\n",
       "      <td>2015-12-10</td>\n",
       "      <td>Microsoft</td>\n",
       "      <td>6.000000e+07</td>\n",
       "      <td>1.210000e+19</td>\n",
       "      <td>1.280000e+06</td>\n",
       "      <td>...</td>\n",
       "      <td>NaN</td>\n",
       "      <td>NaN</td>\n",
       "      <td>NaN</td>\n",
       "      <td>NaN</td>\n",
       "      <td>NaN</td>\n",
       "      <td>NaN</td>\n",
       "      <td>NaN</td>\n",
       "      <td>NaN</td>\n",
       "      <td>NaN</td>\n",
       "      <td>NaN</td>\n",
       "    </tr>\n",
       "    <tr>\n",
       "      <th>66</th>\n",
       "      <td>DeepSpeech2 (English)</td>\n",
       "      <td>Speech</td>\n",
       "      <td>Speech recognition</td>\n",
       "      <td>NaN</td>\n",
       "      <td>Deep Speech 2: End-to-End Speech Recognition i...</td>\n",
       "      <td>2015-12-08</td>\n",
       "      <td>Baidu Research - Silicon Valley AI Lab</td>\n",
       "      <td>3.800000e+07</td>\n",
       "      <td>2.600000e+19</td>\n",
       "      <td>1.633392e+08</td>\n",
       "      <td>...</td>\n",
       "      <td>NaN</td>\n",
       "      <td>NaN</td>\n",
       "      <td>NaN</td>\n",
       "      <td>0.4500</td>\n",
       "      <td>NaN</td>\n",
       "      <td>NaN</td>\n",
       "      <td>2.418115e+02</td>\n",
       "      <td>2.689983e+02</td>\n",
       "      <td>2.689983e+02</td>\n",
       "      <td>3.428010e+02</td>\n",
       "    </tr>\n",
       "  </tbody>\n",
       "</table>\n",
       "<p>67 rows × 24 columns</p>\n",
       "</div>"
      ],
      "text/plain": [
       "                   System      Domain  \\\n",
       "0            Gemini Ultra  Multimodal   \n",
       "1            Inflection-2    Language   \n",
       "2                  Grok-1    Language   \n",
       "3                ChatGLM3  Multimodal   \n",
       "4             Falcon-180B    Language   \n",
       "..                    ...         ...   \n",
       "62               Xception      Vision   \n",
       "63                   GNMT    Language   \n",
       "64            AlphaGo Lee       Games   \n",
       "65  ResNet-152 (ImageNet)      Vision   \n",
       "66  DeepSpeech2 (English)      Speech   \n",
       "\n",
       "                                                 Task  \\\n",
       "0   Language modelling,Visual question answering,C...   \n",
       "1                                  Language modelling   \n",
       "2                             Language modelling,Chat   \n",
       "3                      Chat,Visual question answering   \n",
       "4                                  Language modelling   \n",
       "..                                                ...   \n",
       "62                               Image classification   \n",
       "63                                        Translation   \n",
       "64                                                 Go   \n",
       "65                               Image classification   \n",
       "66                                 Speech recognition   \n",
       "\n",
       "             Model accessibility  \\\n",
       "0         Hosted access (no API)   \n",
       "1         Hosted access (no API)   \n",
       "2                    Open source   \n",
       "3                            NaN   \n",
       "4   Open access (restricted use)   \n",
       "..                           ...   \n",
       "62                           NaN   \n",
       "63        Hosted access (no API)   \n",
       "64                           NaN   \n",
       "65                           NaN   \n",
       "66                           NaN   \n",
       "\n",
       "                                            Reference Publication date  \\\n",
       "0   Gemini: A Family of Highly Capable Multimodal ...       2023-12-06   \n",
       "1                      Inflection-2: The Next Step Up       2023-11-22   \n",
       "2                                     Announcing Grok       2023-11-04   \n",
       "3       Zhipu AI launches third-generation base model       2023-10-27   \n",
       "4           The Falcon Series of Open Language Models       2023-09-06   \n",
       "..                                                ...              ...   \n",
       "62  Xception: Deep Learning with Depthwise Separab...       2016-10-07   \n",
       "63  Google's Neural Machine Translation System: Br...       2016-09-26   \n",
       "64  Mastering the game of Go with deep neural netw...       2016-01-27   \n",
       "65       Deep Residual Learning for Image Recognition       2015-12-10   \n",
       "66  Deep Speech 2: End-to-End Speech Recognition i...       2015-12-08   \n",
       "\n",
       "                              Organization    Parameters  \\\n",
       "0                          Google DeepMind           NaN   \n",
       "1                            Inflection AI           NaN   \n",
       "2                                      xAI  3.140000e+11   \n",
       "3                                 Zhipu AI  1.300000e+11   \n",
       "4          Technology Innovation Institute  1.800000e+11   \n",
       "..                                     ...           ...   \n",
       "62                                  Google  2.285595e+07   \n",
       "63                                  Google  2.780000e+08   \n",
       "64                                DeepMind           NaN   \n",
       "65                               Microsoft  6.000000e+07   \n",
       "66  Baidu Research - Silicon Valley AI Lab  3.800000e+07   \n",
       "\n",
       "    Training compute (FLOP)  Training dataset size (datapoints)  ...  \\\n",
       "0              5.000000e+25                                 NaN  ...   \n",
       "1              1.001000e+25                                 NaN  ...   \n",
       "2              2.900000e+24                                 NaN  ...   \n",
       "3              1.092000e+24                        1.050000e+12  ...   \n",
       "4              3.760000e+24                        2.625000e+12  ...   \n",
       "..                      ...                                 ...  ...   \n",
       "62             4.360000e+20                        3.500000e+08  ...   \n",
       "63             6.900000e+21                        3.600000e+08  ...   \n",
       "64             1.900000e+21                        2.940000e+07  ...   \n",
       "65             1.210000e+19                        1.280000e+06  ...   \n",
       "66             2.600000e+19                        1.633392e+08  ...   \n",
       "\n",
       "    Base model  Finetune compute (FLOP) Hardware quantity  \\\n",
       "0          NaN                      NaN           55000.0   \n",
       "1          NaN                      NaN            5000.0   \n",
       "2          NaN                      NaN               NaN   \n",
       "3          NaN                      NaN               NaN   \n",
       "4          NaN                      NaN            4096.0   \n",
       "..         ...                      ...               ...   \n",
       "62         NaN                      NaN              60.0   \n",
       "63         NaN                      NaN              96.0   \n",
       "64         NaN                      NaN               NaN   \n",
       "65         NaN                      NaN               NaN   \n",
       "66         NaN                      NaN               NaN   \n",
       "\n",
       "   Hardware utilization Training cloud compute vendor  Training data center  \\\n",
       "0                   NaN                           NaN                   NaN   \n",
       "1                   NaN                           NaN                   NaN   \n",
       "2                   NaN                           NaN                   NaN   \n",
       "3                   NaN                           NaN                   NaN   \n",
       "4                0.1876           Amazon Web Services                   NaN   \n",
       "..                  ...                           ...                   ...   \n",
       "62                  NaN                           NaN                   NaN   \n",
       "63                  NaN                           NaN                   NaN   \n",
       "64                  NaN                           NaN                   NaN   \n",
       "65                  NaN                           NaN                   NaN   \n",
       "66               0.4500                           NaN                   NaN   \n",
       "\n",
       "            Cost  Cost (inflation-adjusted)      original depreciation-update  \n",
       "0   8.897229e+07               8.897229e+07  8.897229e+07        9.590527e+07  \n",
       "1   1.166191e+07               1.168921e+07  1.168921e+07        1.828799e+07  \n",
       "2            NaN                        NaN           NaN                 NaN  \n",
       "3            NaN                        NaN           NaN                 NaN  \n",
       "4   2.033419e+07               2.046019e+07  2.046019e+07        1.436562e+07  \n",
       "..           ...                        ...           ...                 ...  \n",
       "62  1.679176e+04               1.833691e+04  1.833691e+04        1.749060e+04  \n",
       "63  1.612009e+05               1.760344e+05  1.760344e+05        1.914648e+05  \n",
       "64           NaN                        NaN           NaN                 NaN  \n",
       "65           NaN                        NaN           NaN                 NaN  \n",
       "66  2.418115e+02               2.689983e+02  2.689983e+02        3.428010e+02  \n",
       "\n",
       "[67 rows x 24 columns]"
      ]
     },
     "execution_count": 4,
     "metadata": {},
     "output_type": "execute_result"
    }
   ],
   "source": [
    "cost_df[variant1] = cost_df['Cost (inflation-adjusted)']\n",
    "cost_df[variant2] = cost_df2['Cost (inflation-adjusted)']\n",
    "cost_df"
   ]
  },
  {
   "cell_type": "code",
   "execution_count": 22,
   "metadata": {},
   "outputs": [
    {
     "name": "stdout",
     "output_type": "stream",
     "text": [
      "Median: 1 [90% CI: 0.61, 1.7]\n",
      "1.0889389484755478\n"
     ]
    }
   ],
   "source": [
    "# Relative error stats\n",
    "ratios = cost_df[variant1] / cost_df[variant2]\n",
    "print_median_and_ci(ratios.dropna())\n",
    "print(ratios.mean())"
   ]
  },
  {
   "cell_type": "code",
   "execution_count": 20,
   "metadata": {},
   "outputs": [
    {
     "data": {
      "text/plain": [
       "System                                                                    Megatron-BERT\n",
       "Domain                                                                         Language\n",
       "Task                                                                                NaN\n",
       "Model accessibility                                                          Unreleased\n",
       "Reference                             Megatron-LM: Training Multi-Billion Parameter ...\n",
       "Publication date                                                             2019-09-17\n",
       "Organization                                                                     NVIDIA\n",
       "Parameters                                                                 3900000000.0\n",
       "Training compute (FLOP)                                       60270000000000000524288.0\n",
       "Training dataset size (datapoints)                                        34800000000.0\n",
       "Epochs                                                                              NaN\n",
       "Training time (hours)                                                            1392.0\n",
       "Training hardware                                         NVIDIA Tesla V100S PCIe 32 GB\n",
       "Country (from Organization)                                    United States of America\n",
       "Base model                                                                          NaN\n",
       "Finetune compute (FLOP)                                                             NaN\n",
       "Hardware quantity                                                                 512.0\n",
       "Hardware utilization                                                             0.2269\n",
       "Training cloud compute vendor                                                       NaN\n",
       "Training data center                                                                NaN\n",
       "Cost                                                                      556576.562245\n",
       "Cost (inflation-adjusted)                                                 593631.793943\n",
       "original                                                                  593631.793943\n",
       "depreciation-update                                                      1112202.735336\n",
       "Name: 45, dtype: object"
      ]
     },
     "execution_count": 20,
     "metadata": {},
     "output_type": "execute_result"
    }
   ],
   "source": [
    "cost_df.iloc[ratios.argmin()]"
   ]
  },
  {
   "cell_type": "code",
   "execution_count": 21,
   "metadata": {},
   "outputs": [
    {
     "data": {
      "application/vnd.plotly.v1+json": {
       "config": {
        "plotlyServerURL": "https://plot.ly"
       },
       "data": [
        {
         "hovertemplate": "variable=original<br>Publication date=%{x}<br>value=%{y}<extra></extra>",
         "legendgroup": "original",
         "marker": {
          "color": "#636efa",
          "symbol": "circle"
         },
         "mode": "markers",
         "name": "original",
         "orientation": "v",
         "showlegend": true,
         "textposition": "top center",
         "type": "scatter",
         "x": [
          "2023-12-06",
          "2023-11-22",
          "2023-11-04",
          "2023-10-27",
          "2023-09-06",
          "2023-07-18",
          "2023-07-11",
          "2023-07-06",
          "2023-05-10",
          "2023-03-15",
          "2023-02-24",
          "2022-11-28",
          "2022-11-08",
          "2022-10-20",
          "2022-08-10",
          "2022-08-04",
          "2022-06-29",
          "2022-06-22",
          "2022-05-02",
          "2022-04-04",
          "2022-03-29",
          "2022-02-17",
          "2022-02-10",
          "2022-02-02",
          "2021-12-23",
          "2021-12-13",
          "2021-12-08",
          "2021-10-12",
          "2021-10-11",
          "2021-09-10",
          "2021-07-27",
          "2021-05-28",
          "2021-05-04",
          "2021-03-01",
          "2021-01-11",
          "2021-01-05",
          "2020-10-20",
          "2020-06-17",
          "2020-05-28",
          "2020-02-13",
          "2020-01-28",
          "2019-12-13",
          "2019-12-13",
          "2019-10-30",
          "2019-10-23",
          "2019-09-17",
          "2019-09-17",
          "2019-07-01",
          "2019-06-01",
          "2019-02-14",
          "2018-09-28",
          "2018-07-03",
          "2018-05-02",
          "2017-12-05",
          "2017-10-18",
          "2017-08-11",
          "2017-07-10",
          "2017-01-23",
          "2017-01-01",
          "2017-01-01",
          "2016-11-17",
          "2016-11-05",
          "2016-10-07",
          "2016-09-26",
          "2016-01-27",
          "2015-12-10",
          "2015-12-08"
         ],
         "xaxis": "x",
         "y": [
          88972289.42986575,
          11689210.350165673,
          null,
          null,
          20460190.903813697,
          1984282.987823893,
          null,
          3472267.491038586,
          13463414.595642127,
          66205588.35015195,
          1184135.486303097,
          7187382.805720318,
          1266206.543866906,
          5827865.858990843,
          2138437.1423731307,
          1298473.0722393622,
          6268265.98477978,
          733851.9512044179,
          943880.6646487798,
          5765166.945297968,
          null,
          null,
          1167702.4406585216,
          null,
          null,
          969442.4090416802,
          3083112.403180513,
          null,
          4042327.16342936,
          777641.2310629479,
          384237.21257612744,
          399958.50551760674,
          363912.8624277485,
          221460.1175175415,
          545953.5147234375,
          227755.2773219187,
          null,
          160266.4914159275,
          2928991.5446347236,
          76284.99998532908,
          612874.6958293942,
          null,
          null,
          342098.74543348927,
          208153.26442474555,
          593631.7939428927,
          140402.34780580047,
          103472.72416563888,
          null,
          null,
          10483.763163235257,
          null,
          null,
          879672.33271686,
          2418816.7657544105,
          null,
          30270.302975024588,
          8298.811388317374,
          null,
          1433049.2695302938,
          775.1032807266176,
          null,
          18336.91255217455,
          176034.3605008757,
          null,
          null,
          268.99832491225726
         ],
         "yaxis": "y"
        },
        {
         "hovertemplate": "variable=depreciation-update<br>Publication date=%{x}<br>value=%{y}<extra></extra>",
         "legendgroup": "depreciation-update",
         "marker": {
          "color": "#EF553B",
          "symbol": "circle"
         },
         "mode": "markers",
         "name": "depreciation-update",
         "orientation": "v",
         "showlegend": true,
         "textposition": "top center",
         "type": "scatter",
         "x": [
          "2023-12-06",
          "2023-11-22",
          "2023-11-04",
          "2023-10-27",
          "2023-09-06",
          "2023-07-18",
          "2023-07-11",
          "2023-07-06",
          "2023-05-10",
          "2023-03-15",
          "2023-02-24",
          "2022-11-28",
          "2022-11-08",
          "2022-10-20",
          "2022-08-10",
          "2022-08-04",
          "2022-06-29",
          "2022-06-22",
          "2022-05-02",
          "2022-04-04",
          "2022-03-29",
          "2022-02-17",
          "2022-02-10",
          "2022-02-02",
          "2021-12-23",
          "2021-12-13",
          "2021-12-08",
          "2021-10-12",
          "2021-10-11",
          "2021-09-10",
          "2021-07-27",
          "2021-05-28",
          "2021-05-04",
          "2021-03-01",
          "2021-01-11",
          "2021-01-05",
          "2020-10-20",
          "2020-06-17",
          "2020-05-28",
          "2020-02-13",
          "2020-01-28",
          "2019-12-13",
          "2019-12-13",
          "2019-10-30",
          "2019-10-23",
          "2019-09-17",
          "2019-09-17",
          "2019-07-01",
          "2019-06-01",
          "2019-02-14",
          "2018-09-28",
          "2018-07-03",
          "2018-05-02",
          "2017-12-05",
          "2017-10-18",
          "2017-08-11",
          "2017-07-10",
          "2017-01-23",
          "2017-01-01",
          "2017-01-01",
          "2016-11-17",
          "2016-11-05",
          "2016-10-07",
          "2016-09-26",
          "2016-01-27",
          "2015-12-10",
          "2015-12-08"
         ],
         "xaxis": "x",
         "y": [
          95905267.40175684,
          18287992.44826791,
          null,
          null,
          14365624.41282087,
          1544343.2098948697,
          null,
          2529227.0853557154,
          15330107.91552251,
          58137492.55741121,
          802977.9932099717,
          6629295.206374288,
          1262881.3322990355,
          9543075.638135424,
          2056759.2629437945,
          1146183.8261201354,
          10203427.887628544,
          1101920.6800386377,
          1030060.0623560318,
          9453756.82866238,
          null,
          null,
          598572.462356243,
          null,
          null,
          1755101.426287877,
          1633882.578662987,
          null,
          5241880.521859002,
          825415.8029581235,
          226866.5424905455,
          248374.84392600047,
          230607.6588075495,
          145276.85125369395,
          378376.2449795508,
          165748.454194765,
          null,
          137992.4655631247,
          2976163.895478865,
          72974.0034683148,
          573103.2219195894,
          null,
          null,
          349779.8717635828,
          209921.211256588,
          1112202.7353358762,
          149855.2260193919,
          117176.7522012692,
          null,
          null,
          14557.70558101322,
          null,
          null,
          1171581.9407704712,
          1773674.1311772496,
          null,
          23705.00242177865,
          5325.989824618207,
          null,
          1370345.5633572685,
          787.395439265613,
          null,
          17490.59614177853,
          191464.77458264775,
          null,
          null,
          342.8009763616995
         ],
         "yaxis": "y"
        }
       ],
       "layout": {
        "autosize": false,
        "font": {
         "size": 14
        },
        "height": 600,
        "legend": {
         "orientation": "h",
         "title": {
          "text": "Estimate"
         },
         "tracegroupgap": 0,
         "x": 0.95,
         "xanchor": "right",
         "y": 0.05,
         "yanchor": "bottom"
        },
        "margin": {
         "b": 10,
         "l": 10,
         "r": 10,
         "t": 40
        },
        "template": {
         "data": {
          "bar": [
           {
            "error_x": {
             "color": "#2a3f5f"
            },
            "error_y": {
             "color": "#2a3f5f"
            },
            "marker": {
             "line": {
              "color": "#E5ECF6",
              "width": 0.5
             },
             "pattern": {
              "fillmode": "overlay",
              "size": 10,
              "solidity": 0.2
             }
            },
            "type": "bar"
           }
          ],
          "barpolar": [
           {
            "marker": {
             "line": {
              "color": "#E5ECF6",
              "width": 0.5
             },
             "pattern": {
              "fillmode": "overlay",
              "size": 10,
              "solidity": 0.2
             }
            },
            "type": "barpolar"
           }
          ],
          "carpet": [
           {
            "aaxis": {
             "endlinecolor": "#2a3f5f",
             "gridcolor": "white",
             "linecolor": "white",
             "minorgridcolor": "white",
             "startlinecolor": "#2a3f5f"
            },
            "baxis": {
             "endlinecolor": "#2a3f5f",
             "gridcolor": "white",
             "linecolor": "white",
             "minorgridcolor": "white",
             "startlinecolor": "#2a3f5f"
            },
            "type": "carpet"
           }
          ],
          "choropleth": [
           {
            "colorbar": {
             "outlinewidth": 0,
             "ticks": ""
            },
            "type": "choropleth"
           }
          ],
          "contour": [
           {
            "colorbar": {
             "outlinewidth": 0,
             "ticks": ""
            },
            "colorscale": [
             [
              0,
              "#0d0887"
             ],
             [
              0.1111111111111111,
              "#46039f"
             ],
             [
              0.2222222222222222,
              "#7201a8"
             ],
             [
              0.3333333333333333,
              "#9c179e"
             ],
             [
              0.4444444444444444,
              "#bd3786"
             ],
             [
              0.5555555555555556,
              "#d8576b"
             ],
             [
              0.6666666666666666,
              "#ed7953"
             ],
             [
              0.7777777777777778,
              "#fb9f3a"
             ],
             [
              0.8888888888888888,
              "#fdca26"
             ],
             [
              1,
              "#f0f921"
             ]
            ],
            "type": "contour"
           }
          ],
          "contourcarpet": [
           {
            "colorbar": {
             "outlinewidth": 0,
             "ticks": ""
            },
            "type": "contourcarpet"
           }
          ],
          "heatmap": [
           {
            "colorbar": {
             "outlinewidth": 0,
             "ticks": ""
            },
            "colorscale": [
             [
              0,
              "#0d0887"
             ],
             [
              0.1111111111111111,
              "#46039f"
             ],
             [
              0.2222222222222222,
              "#7201a8"
             ],
             [
              0.3333333333333333,
              "#9c179e"
             ],
             [
              0.4444444444444444,
              "#bd3786"
             ],
             [
              0.5555555555555556,
              "#d8576b"
             ],
             [
              0.6666666666666666,
              "#ed7953"
             ],
             [
              0.7777777777777778,
              "#fb9f3a"
             ],
             [
              0.8888888888888888,
              "#fdca26"
             ],
             [
              1,
              "#f0f921"
             ]
            ],
            "type": "heatmap"
           }
          ],
          "heatmapgl": [
           {
            "colorbar": {
             "outlinewidth": 0,
             "ticks": ""
            },
            "colorscale": [
             [
              0,
              "#0d0887"
             ],
             [
              0.1111111111111111,
              "#46039f"
             ],
             [
              0.2222222222222222,
              "#7201a8"
             ],
             [
              0.3333333333333333,
              "#9c179e"
             ],
             [
              0.4444444444444444,
              "#bd3786"
             ],
             [
              0.5555555555555556,
              "#d8576b"
             ],
             [
              0.6666666666666666,
              "#ed7953"
             ],
             [
              0.7777777777777778,
              "#fb9f3a"
             ],
             [
              0.8888888888888888,
              "#fdca26"
             ],
             [
              1,
              "#f0f921"
             ]
            ],
            "type": "heatmapgl"
           }
          ],
          "histogram": [
           {
            "marker": {
             "pattern": {
              "fillmode": "overlay",
              "size": 10,
              "solidity": 0.2
             }
            },
            "type": "histogram"
           }
          ],
          "histogram2d": [
           {
            "colorbar": {
             "outlinewidth": 0,
             "ticks": ""
            },
            "colorscale": [
             [
              0,
              "#0d0887"
             ],
             [
              0.1111111111111111,
              "#46039f"
             ],
             [
              0.2222222222222222,
              "#7201a8"
             ],
             [
              0.3333333333333333,
              "#9c179e"
             ],
             [
              0.4444444444444444,
              "#bd3786"
             ],
             [
              0.5555555555555556,
              "#d8576b"
             ],
             [
              0.6666666666666666,
              "#ed7953"
             ],
             [
              0.7777777777777778,
              "#fb9f3a"
             ],
             [
              0.8888888888888888,
              "#fdca26"
             ],
             [
              1,
              "#f0f921"
             ]
            ],
            "type": "histogram2d"
           }
          ],
          "histogram2dcontour": [
           {
            "colorbar": {
             "outlinewidth": 0,
             "ticks": ""
            },
            "colorscale": [
             [
              0,
              "#0d0887"
             ],
             [
              0.1111111111111111,
              "#46039f"
             ],
             [
              0.2222222222222222,
              "#7201a8"
             ],
             [
              0.3333333333333333,
              "#9c179e"
             ],
             [
              0.4444444444444444,
              "#bd3786"
             ],
             [
              0.5555555555555556,
              "#d8576b"
             ],
             [
              0.6666666666666666,
              "#ed7953"
             ],
             [
              0.7777777777777778,
              "#fb9f3a"
             ],
             [
              0.8888888888888888,
              "#fdca26"
             ],
             [
              1,
              "#f0f921"
             ]
            ],
            "type": "histogram2dcontour"
           }
          ],
          "mesh3d": [
           {
            "colorbar": {
             "outlinewidth": 0,
             "ticks": ""
            },
            "type": "mesh3d"
           }
          ],
          "parcoords": [
           {
            "line": {
             "colorbar": {
              "outlinewidth": 0,
              "ticks": ""
             }
            },
            "type": "parcoords"
           }
          ],
          "pie": [
           {
            "automargin": true,
            "type": "pie"
           }
          ],
          "scatter": [
           {
            "fillpattern": {
             "fillmode": "overlay",
             "size": 10,
             "solidity": 0.2
            },
            "type": "scatter"
           }
          ],
          "scatter3d": [
           {
            "line": {
             "colorbar": {
              "outlinewidth": 0,
              "ticks": ""
             }
            },
            "marker": {
             "colorbar": {
              "outlinewidth": 0,
              "ticks": ""
             }
            },
            "type": "scatter3d"
           }
          ],
          "scattercarpet": [
           {
            "marker": {
             "colorbar": {
              "outlinewidth": 0,
              "ticks": ""
             }
            },
            "type": "scattercarpet"
           }
          ],
          "scattergeo": [
           {
            "marker": {
             "colorbar": {
              "outlinewidth": 0,
              "ticks": ""
             }
            },
            "type": "scattergeo"
           }
          ],
          "scattergl": [
           {
            "marker": {
             "colorbar": {
              "outlinewidth": 0,
              "ticks": ""
             }
            },
            "type": "scattergl"
           }
          ],
          "scattermapbox": [
           {
            "marker": {
             "colorbar": {
              "outlinewidth": 0,
              "ticks": ""
             }
            },
            "type": "scattermapbox"
           }
          ],
          "scatterpolar": [
           {
            "marker": {
             "colorbar": {
              "outlinewidth": 0,
              "ticks": ""
             }
            },
            "type": "scatterpolar"
           }
          ],
          "scatterpolargl": [
           {
            "marker": {
             "colorbar": {
              "outlinewidth": 0,
              "ticks": ""
             }
            },
            "type": "scatterpolargl"
           }
          ],
          "scatterternary": [
           {
            "marker": {
             "colorbar": {
              "outlinewidth": 0,
              "ticks": ""
             }
            },
            "type": "scatterternary"
           }
          ],
          "surface": [
           {
            "colorbar": {
             "outlinewidth": 0,
             "ticks": ""
            },
            "colorscale": [
             [
              0,
              "#0d0887"
             ],
             [
              0.1111111111111111,
              "#46039f"
             ],
             [
              0.2222222222222222,
              "#7201a8"
             ],
             [
              0.3333333333333333,
              "#9c179e"
             ],
             [
              0.4444444444444444,
              "#bd3786"
             ],
             [
              0.5555555555555556,
              "#d8576b"
             ],
             [
              0.6666666666666666,
              "#ed7953"
             ],
             [
              0.7777777777777778,
              "#fb9f3a"
             ],
             [
              0.8888888888888888,
              "#fdca26"
             ],
             [
              1,
              "#f0f921"
             ]
            ],
            "type": "surface"
           }
          ],
          "table": [
           {
            "cells": {
             "fill": {
              "color": "#EBF0F8"
             },
             "line": {
              "color": "white"
             }
            },
            "header": {
             "fill": {
              "color": "#C8D4E3"
             },
             "line": {
              "color": "white"
             }
            },
            "type": "table"
           }
          ]
         },
         "layout": {
          "annotationdefaults": {
           "arrowcolor": "#2a3f5f",
           "arrowhead": 0,
           "arrowwidth": 1
          },
          "autotypenumbers": "strict",
          "coloraxis": {
           "colorbar": {
            "outlinewidth": 0,
            "ticks": ""
           }
          },
          "colorscale": {
           "diverging": [
            [
             0,
             "#8e0152"
            ],
            [
             0.1,
             "#c51b7d"
            ],
            [
             0.2,
             "#de77ae"
            ],
            [
             0.3,
             "#f1b6da"
            ],
            [
             0.4,
             "#fde0ef"
            ],
            [
             0.5,
             "#f7f7f7"
            ],
            [
             0.6,
             "#e6f5d0"
            ],
            [
             0.7,
             "#b8e186"
            ],
            [
             0.8,
             "#7fbc41"
            ],
            [
             0.9,
             "#4d9221"
            ],
            [
             1,
             "#276419"
            ]
           ],
           "sequential": [
            [
             0,
             "#0d0887"
            ],
            [
             0.1111111111111111,
             "#46039f"
            ],
            [
             0.2222222222222222,
             "#7201a8"
            ],
            [
             0.3333333333333333,
             "#9c179e"
            ],
            [
             0.4444444444444444,
             "#bd3786"
            ],
            [
             0.5555555555555556,
             "#d8576b"
            ],
            [
             0.6666666666666666,
             "#ed7953"
            ],
            [
             0.7777777777777778,
             "#fb9f3a"
            ],
            [
             0.8888888888888888,
             "#fdca26"
            ],
            [
             1,
             "#f0f921"
            ]
           ],
           "sequentialminus": [
            [
             0,
             "#0d0887"
            ],
            [
             0.1111111111111111,
             "#46039f"
            ],
            [
             0.2222222222222222,
             "#7201a8"
            ],
            [
             0.3333333333333333,
             "#9c179e"
            ],
            [
             0.4444444444444444,
             "#bd3786"
            ],
            [
             0.5555555555555556,
             "#d8576b"
            ],
            [
             0.6666666666666666,
             "#ed7953"
            ],
            [
             0.7777777777777778,
             "#fb9f3a"
            ],
            [
             0.8888888888888888,
             "#fdca26"
            ],
            [
             1,
             "#f0f921"
            ]
           ]
          },
          "colorway": [
           "#636efa",
           "#EF553B",
           "#00cc96",
           "#ab63fa",
           "#FFA15A",
           "#19d3f3",
           "#FF6692",
           "#B6E880",
           "#FF97FF",
           "#FECB52"
          ],
          "font": {
           "color": "#2a3f5f"
          },
          "geo": {
           "bgcolor": "white",
           "lakecolor": "white",
           "landcolor": "#E5ECF6",
           "showlakes": true,
           "showland": true,
           "subunitcolor": "white"
          },
          "hoverlabel": {
           "align": "left"
          },
          "hovermode": "closest",
          "mapbox": {
           "style": "light"
          },
          "paper_bgcolor": "white",
          "plot_bgcolor": "#E5ECF6",
          "polar": {
           "angularaxis": {
            "gridcolor": "white",
            "linecolor": "white",
            "ticks": ""
           },
           "bgcolor": "#E5ECF6",
           "radialaxis": {
            "gridcolor": "white",
            "linecolor": "white",
            "ticks": ""
           }
          },
          "scene": {
           "xaxis": {
            "backgroundcolor": "#E5ECF6",
            "gridcolor": "white",
            "gridwidth": 2,
            "linecolor": "white",
            "showbackground": true,
            "ticks": "",
            "zerolinecolor": "white"
           },
           "yaxis": {
            "backgroundcolor": "#E5ECF6",
            "gridcolor": "white",
            "gridwidth": 2,
            "linecolor": "white",
            "showbackground": true,
            "ticks": "",
            "zerolinecolor": "white"
           },
           "zaxis": {
            "backgroundcolor": "#E5ECF6",
            "gridcolor": "white",
            "gridwidth": 2,
            "linecolor": "white",
            "showbackground": true,
            "ticks": "",
            "zerolinecolor": "white"
           }
          },
          "shapedefaults": {
           "line": {
            "color": "#2a3f5f"
           }
          },
          "ternary": {
           "aaxis": {
            "gridcolor": "white",
            "linecolor": "white",
            "ticks": ""
           },
           "baxis": {
            "gridcolor": "white",
            "linecolor": "white",
            "ticks": ""
           },
           "bgcolor": "#E5ECF6",
           "caxis": {
            "gridcolor": "white",
            "linecolor": "white",
            "ticks": ""
           }
          },
          "title": {
           "x": 0.05
          },
          "xaxis": {
           "automargin": true,
           "gridcolor": "white",
           "linecolor": "white",
           "ticks": "",
           "title": {
            "standoff": 15
           },
           "zerolinecolor": "white",
           "zerolinewidth": 2
          },
          "yaxis": {
           "automargin": true,
           "gridcolor": "white",
           "linecolor": "white",
           "ticks": "",
           "title": {
            "standoff": 15
           },
           "zerolinecolor": "white",
           "zerolinewidth": 2
          }
         }
        },
        "title": {
         "font": {
          "size": 16
         },
         "text": "Hardware CapEx + OpEx to train the running top-10 most compute-intensive ML models"
        },
        "width": 800,
        "xaxis": {
         "anchor": "y",
         "domain": [
          0,
          1
         ],
         "range": [
          "2015-01-01",
          "2025-01-01"
         ],
         "title": {
          "text": "Publication date"
         }
        },
        "yaxis": {
         "anchor": "x",
         "domain": [
          0,
          1
         ],
         "title": {
          "text": "Cost (2023 USD)"
         },
         "type": "log"
        }
       }
      }
     },
     "metadata": {},
     "output_type": "display_data"
    }
   ],
   "source": [
    "fig = px.scatter(\n",
    "    cost_df,\n",
    "    x='Publication date',\n",
    "    y=[variant1, variant2],\n",
    "    # text='System',\n",
    "    log_y=True,\n",
    ")\n",
    "fig.update_traces(textposition='top center')\n",
    "\n",
    "# legend\n",
    "fig.update_layout(\n",
    "    legend_title_text='Estimate',\n",
    "    legend=dict(\n",
    "        orientation='h',\n",
    "        yanchor='bottom',\n",
    "        y=0.05,\n",
    "        xanchor='right',\n",
    "        x=0.95,\n",
    "    ),\n",
    ")\n",
    "\n",
    "# axis labels\n",
    "fig.update_xaxes(title_text='Publication date')\n",
    "fig.update_yaxes(title_text='Cost (2023 USD)')\n",
    "\n",
    "# title\n",
    "fig.update_layout(title_text=get_cost_plot_title(estimation_method, compute_threshold_method, compute_threshold))\n",
    "\n",
    "# update size\n",
    "fig.update_layout(\n",
    "    autosize=False,\n",
    "    width=800,\n",
    "    height=600,\n",
    "    title_font=dict(\n",
    "        size=16,\n",
    "    )\n",
    ")\n",
    "\n",
    "# font size\n",
    "fig.update_layout(\n",
    "    font=dict(\n",
    "        size=14,\n",
    "    )\n",
    ")\n",
    "\n",
    "# axis limits\n",
    "fig.update_xaxes(range=['2015-01-01', '2025-01-01'])\n",
    "\n",
    "# margins\n",
    "fig.update_layout(margin=dict(l=10, r=10, t=40, b=10))\n",
    "\n",
    "save_plot(fig, results_dir, 'cost_scatter_comparison')\n",
    "\n",
    "fig.show()"
   ]
  },
  {
   "cell_type": "code",
   "execution_count": null,
   "metadata": {},
   "outputs": [],
   "source": []
  }
 ],
 "metadata": {
  "kernelspec": {
   "display_name": "epoch",
   "language": "python",
   "name": "python3"
  },
  "language_info": {
   "codemirror_mode": {
    "name": "ipython",
    "version": 3
   },
   "file_extension": ".py",
   "mimetype": "text/x-python",
   "name": "python",
   "nbconvert_exporter": "python",
   "pygments_lexer": "ipython3",
   "version": "3.11.4"
  }
 },
 "nbformat": 4,
 "nbformat_minor": 2
}
