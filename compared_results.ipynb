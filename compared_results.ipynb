{
 "cells": [
  {
   "cell_type": "markdown",
   "metadata": {},
   "source": [
    "# Compare cost estimates and regression results"
   ]
  },
  {
   "cell_type": "markdown",
   "metadata": {},
   "source": [
    "This notebook is used for sensitivity analysis.\n",
    "\n",
    "Example usage:\n",
    "- Run `cost_analysis.ipynb` using the default settings\n",
    "- Run `cost_analysis.ipynb`, setting `estimation_method = 'cloud'`\n",
    "- Set `results_name1` and `results_name2` to the folders containing results from the above\n",
    "- Run this notebook to compare the distributions of cost estimates, and test if the slope of the regressions is significantly different.\n",
    "\n",
    "The end of the notebook compares regression results for different N in top-N model selection, and other model selection methods."
   ]
  },
  {
   "cell_type": "code",
   "execution_count": 1,
   "metadata": {},
   "outputs": [],
   "source": [
    "%load_ext autoreload\n",
    "%autoreload 2"
   ]
  },
  {
   "cell_type": "code",
   "execution_count": 2,
   "metadata": {},
   "outputs": [],
   "source": [
    "from contextlib import redirect_stdout\n",
    "import numpy as np\n",
    "import os\n",
    "import pandas as pd\n",
    "import plotly.express as px\n",
    "\n",
    "from plotting import *\n",
    "from regression import *\n",
    "from utils import *"
   ]
  },
  {
   "cell_type": "code",
   "execution_count": 3,
   "metadata": {},
   "outputs": [],
   "source": [
    "# Load two results CSVs\n",
    "results_name1 = 'hardware-capex-energy-top_n=10-original'\n",
    "results_name2 = 'hardware-acquisition-top_n=10-original'\n",
    "results_dir1 = f'results/{results_name1}/'\n",
    "results_dir2 = f'results/{results_name2}/'\n",
    "results_dir = f'results/{results_name1}-vs-{results_name2}/'\n",
    "os.makedirs(results_dir, exist_ok=True)"
   ]
  },
  {
   "cell_type": "code",
   "execution_count": 4,
   "metadata": {},
   "outputs": [],
   "source": [
    "cost_df1 = pd.read_csv(results_dir1 + 'cost_dataset.csv')\n",
    "cost_df2 = pd.read_csv(results_dir2 + 'cost_dataset.csv')"
   ]
  },
  {
   "cell_type": "code",
   "execution_count": 5,
   "metadata": {},
   "outputs": [],
   "source": [
    "col = 'Cost (inflation-adjusted)'"
   ]
  },
  {
   "cell_type": "code",
   "execution_count": 7,
   "metadata": {},
   "outputs": [
    {
     "name": "stdout",
     "output_type": "stream",
     "text": [
      "Ratio stats: hardware-acquisition-top_n=10-original / hardware-capex-energy-top_n=10-original\n",
      "Median: 53 [80% CI: 14, 2e+02]\n",
      "Mean: 88\n"
     ]
    }
   ],
   "source": [
    "# Relative error stats\n",
    "ratios = cost_df2[col] / cost_df1[col]\n",
    "print(f'Ratio stats: {results_name2} / {results_name1}')\n",
    "print_median_and_ci(ratios.dropna(), ci=[10, 90])\n",
    "print(f'Mean: {ratios.mean():.2g}')"
   ]
  },
  {
   "cell_type": "code",
   "execution_count": 8,
   "metadata": {},
   "outputs": [
    {
     "data": {
      "text/plain": [
       "33"
      ]
     },
     "execution_count": 8,
     "metadata": {},
     "output_type": "execute_result"
    }
   ],
   "source": [
    "len(ratios.dropna())"
   ]
  },
  {
   "cell_type": "code",
   "execution_count": 9,
   "metadata": {},
   "outputs": [
    {
     "data": {
      "text/plain": [
       "1    0.047088\n",
       "Name: Cost (inflation-adjusted), dtype: float64"
      ]
     },
     "execution_count": 9,
     "metadata": {},
     "output_type": "execute_result"
    }
   ],
   "source": [
    "cost_df1[cost_df1['System'] == 'Inflection-2'][col] / cost_df2[cost_df2['System'] == 'Inflection-2'][col]"
   ]
  },
  {
   "cell_type": "code",
   "execution_count": 13,
   "metadata": {},
   "outputs": [
    {
     "name": "stdout",
     "output_type": "stream",
     "text": [
      "AlphaZero: 229918.61469698732\n",
      "AlphaZero: 708010.1874542783\n"
     ]
    }
   ],
   "source": [
    "print(f\"{cost_df1.iloc[ratios.argmin()]['System']}: {cost_df1.iloc[ratios.argmin()][col]}\")\n",
    "print(f\"{cost_df2.iloc[ratios.argmin()]['System']}: {cost_df2.iloc[ratios.argmin()][col]}\")"
   ]
  },
  {
   "cell_type": "code",
   "execution_count": 12,
   "metadata": {},
   "outputs": [
    {
     "name": "stdout",
     "output_type": "stream",
     "text": [
      "BigGAN-deep 512x512: 5170.456705747183\n",
      "BigGAN-deep 512x512: 2945737.804137869\n"
     ]
    }
   ],
   "source": [
    "print(f\"{cost_df1.iloc[ratios.argmax()]['System']}: {cost_df1.iloc[ratios.argmax()][col]}\")\n",
    "print(f\"{cost_df2.iloc[ratios.argmax()]['System']}: {cost_df2.iloc[ratios.argmax()][col]}\")"
   ]
  },
  {
   "cell_type": "markdown",
   "metadata": {},
   "source": [
    "## Difference in regression"
   ]
  },
  {
   "cell_type": "code",
   "execution_count": 31,
   "metadata": {},
   "outputs": [],
   "source": [
    "cost_df1['Publication date (float)'] = datetime_to_float_year(pd.to_datetime(cost_df1['Publication date']))\n",
    "cost_df2['Publication date (float)'] = datetime_to_float_year(pd.to_datetime(cost_df2['Publication date']))"
   ]
  },
  {
   "cell_type": "code",
   "execution_count": 32,
   "metadata": {},
   "outputs": [],
   "source": [
    "# Compare slopes\n",
    "with open(f'{results_dir}/regression_comparison.out', 'w') as f:\n",
    "    with redirect_stdout(f):\n",
    "        print(results_dir)\n",
    "        regression_slope_t_test(cost_df1, cost_df2, ['Publication date (float)'], col, logy=True, adj_corr=True)"
   ]
  },
  {
   "cell_type": "markdown",
   "metadata": {},
   "source": [
    "## Plots"
   ]
  },
  {
   "cell_type": "code",
   "execution_count": 33,
   "metadata": {},
   "outputs": [],
   "source": [
    "# Add a new column to differentiate the DataFrames\n",
    "cost_df1['Source'] = results_name1\n",
    "cost_df2['Source'] = results_name2\n",
    "\n",
    "# Combine the DataFrames\n",
    "combined_cost_df = pd.concat([cost_df1, cost_df2])"
   ]
  },
  {
   "cell_type": "code",
   "execution_count": 34,
   "metadata": {},
   "outputs": [
    {
     "data": {
      "application/vnd.plotly.v1+json": {
       "config": {
        "plotlyServerURL": "https://plot.ly"
       },
       "data": [
        {
         "customdata": [
          [
           "Gemini 1.0 Ultra"
          ],
          [
           "Inflection-2"
          ],
          [
           "Grok-1"
          ],
          [
           "Falcon-180B"
          ],
          [
           "Claude 2"
          ],
          [
           "PaLM 2"
          ],
          [
           "GPT-4"
          ],
          [
           "GPT-3.5 (text-davinci-003)"
          ],
          [
           "BLOOM-176B"
          ],
          [
           "U-PaLM (540B)"
          ],
          [
           "Flan-PaLM 540B"
          ],
          [
           "BlenderBot 3"
          ],
          [
           "GLM-130B"
          ],
          [
           "Minerva (540B)"
          ],
          [
           "Parti"
          ],
          [
           "OPT-175B"
          ],
          [
           "PaLM (540B)"
          ],
          [
           "Chinchilla"
          ],
          [
           "ST-MoE"
          ],
          [
           "LaMDA"
          ],
          [
           "AlphaCode"
          ],
          [
           "ERNIE 3.0 Titan"
          ],
          [
           "GLaM"
          ],
          [
           "Gopher (280B)"
          ],
          [
           "Yuan 1.0"
          ],
          [
           "Megatron-Turing NLG 530B"
          ],
          [
           "HyperCLOVA 82B"
          ],
          [
           "GOAT"
          ],
          [
           "ByT5-XXL"
          ],
          [
           "ProtT5-XXL"
          ],
          [
           "Meta Pseudo Labels"
          ],
          [
           "Switch"
          ],
          [
           "DALL-E"
          ],
          [
           "mT5-XXL"
          ],
          [
           "iGPT-XL"
          ],
          [
           "GPT-3 175B (davinci)"
          ],
          [
           "Turing-NLG"
          ],
          [
           "Meena"
          ],
          [
           "OpenAI Five"
          ],
          [
           "OpenAI Five Rerun"
          ],
          [
           "AlphaStar"
          ],
          [
           "T5-11B"
          ],
          [
           "Megatron-BERT"
          ],
          [
           "Megatron-LM (8.3B)"
          ],
          [
           "RoBERTa Large"
          ],
          [
           "XLNet"
          ],
          [
           "GPT-2 (1.5B)"
          ],
          [
           "BigGAN-deep 512x512"
          ],
          [
           "FTW"
          ],
          [
           "ResNeXt-101 32x48d"
          ],
          [
           "AlphaZero"
          ],
          [
           "AlphaGo Zero"
          ],
          [
           "OpenAI TI7 DOTA 1v1"
          ],
          [
           "JFT"
          ],
          [
           "MoE"
          ],
          [
           "Libratus"
          ],
          [
           "AlphaGo Master"
          ],
          [
           "PolyNet"
          ],
          [
           "NASv3 (CIFAR-10)"
          ],
          [
           "Xception"
          ],
          [
           "GNMT"
          ],
          [
           "AlphaGo Lee"
          ],
          [
           "ResNet-152 (ImageNet)"
          ],
          [
           "DeepSpeech2 (English)"
          ]
         ],
         "hovertemplate": "Source=hardware-capex-energy-top_n=10-original<br>Publication date=%{x}<br>Cost (inflation-adjusted)=%{y}<br>System=%{customdata[0]}<extra></extra>",
         "legendgroup": "hardware-capex-energy-top_n=10-original",
         "marker": {
          "color": "#636efa",
          "symbol": "circle"
         },
         "mode": "markers",
         "name": "hardware-capex-energy-top_n=10-original",
         "orientation": "v",
         "showlegend": true,
         "textposition": "top center",
         "type": "scatter",
         "x": [
          "2023-12-06",
          "2023-11-22",
          "2023-11-04",
          "2023-09-06",
          "2023-07-11",
          "2023-05-10",
          "2023-03-15",
          "2022-11-28",
          "2022-11-08",
          "2022-10-20",
          "2022-10-20",
          "2022-08-10",
          "2022-08-04",
          "2022-06-29",
          "2022-06-22",
          "2022-05-02",
          "2022-04-04",
          "2022-03-29",
          "2022-02-17",
          "2022-02-10",
          "2022-02-02",
          "2021-12-23",
          "2021-12-13",
          "2021-12-08",
          "2021-10-12",
          "2021-10-11",
          "2021-09-10",
          "2021-07-27",
          "2021-05-28",
          "2021-05-04",
          "2021-03-01",
          "2021-01-11",
          "2021-01-05",
          "2020-10-20",
          "2020-06-17",
          "2020-05-28",
          "2020-02-13",
          "2020-01-28",
          "2019-12-13",
          "2019-12-13",
          "2019-10-30",
          "2019-10-23",
          "2019-09-17",
          "2019-09-17",
          "2019-07-01",
          "2019-06-01",
          "2019-02-14",
          "2018-09-28",
          "2018-07-03",
          "2018-05-02",
          "2017-12-05",
          "2017-10-18",
          "2017-08-11",
          "2017-07-10",
          "2017-01-23",
          "2017-01-01",
          "2017-01-01",
          "2016-11-17",
          "2016-11-05",
          "2016-10-07",
          "2016-09-26",
          "2016-01-27",
          "2015-12-10",
          "2015-12-08"
         ],
         "xaxis": "x",
         "y": [
          29827341.919963885,
          12961959.001361668,
          null,
          10340911.710964862,
          null,
          4865570.06395341,
          40586592.57781653,
          4625550.747400068,
          901068.6599742996,
          2973979.3313555312,
          2961791.490037434,
          1464700.5362480818,
          820296.6313095269,
          3180655.520142922,
          344852.94872144435,
          731667.6068059877,
          2945949.763287097,
          null,
          null,
          229949.98625999544,
          null,
          null,
          541437.4162400038,
          616611.1391817601,
          null,
          3704291.3087597536,
          586408.7810520589,
          84799.78517435073,
          92453.37635669748,
          85701.26256441118,
          53844.28059190435,
          139663.55942731188,
          118437.35864214256,
          null,
          98082.33822642289,
          2056969.3385324872,
          51659.713290894986,
          206760.3812904988,
          null,
          null,
          125758.09814850632,
          75524.39074218823,
          615532.4058320685,
          106142.2892017932,
          82771.07593250347,
          null,
          null,
          5170.456705747183,
          null,
          null,
          229918.61469698732,
          613480.6258010615,
          null,
          17239.593034773116,
          3863.735305110515,
          null,
          471445.3247973037,
          615.5480459425461,
          null,
          12617.626833005994,
          193787.11043815003,
          null,
          null,
          206.30577788417415
         ],
         "yaxis": "y"
        },
        {
         "customdata": [
          [
           "Gemini 1.0 Ultra"
          ],
          [
           "Inflection-2"
          ],
          [
           "Grok-1"
          ],
          [
           "Falcon-180B"
          ],
          [
           "Claude 2"
          ],
          [
           "PaLM 2"
          ],
          [
           "GPT-4"
          ],
          [
           "GPT-3.5 (text-davinci-003)"
          ],
          [
           "BLOOM-176B"
          ],
          [
           "U-PaLM (540B)"
          ],
          [
           "Flan-PaLM 540B"
          ],
          [
           "BlenderBot 3"
          ],
          [
           "GLM-130B"
          ],
          [
           "Minerva (540B)"
          ],
          [
           "Parti"
          ],
          [
           "OPT-175B"
          ],
          [
           "PaLM (540B)"
          ],
          [
           "Chinchilla"
          ],
          [
           "ST-MoE"
          ],
          [
           "LaMDA"
          ],
          [
           "AlphaCode"
          ],
          [
           "ERNIE 3.0 Titan"
          ],
          [
           "GLaM"
          ],
          [
           "Gopher (280B)"
          ],
          [
           "Yuan 1.0"
          ],
          [
           "Megatron-Turing NLG 530B"
          ],
          [
           "HyperCLOVA 82B"
          ],
          [
           "GOAT"
          ],
          [
           "ByT5-XXL"
          ],
          [
           "ProtT5-XXL"
          ],
          [
           "Meta Pseudo Labels"
          ],
          [
           "Switch"
          ],
          [
           "DALL-E"
          ],
          [
           "mT5-XXL"
          ],
          [
           "iGPT-XL"
          ],
          [
           "GPT-3 175B (davinci)"
          ],
          [
           "Turing-NLG"
          ],
          [
           "Meena"
          ],
          [
           "OpenAI Five"
          ],
          [
           "OpenAI Five Rerun"
          ],
          [
           "AlphaStar"
          ],
          [
           "T5-11B"
          ],
          [
           "Megatron-BERT"
          ],
          [
           "Megatron-LM (8.3B)"
          ],
          [
           "RoBERTa Large"
          ],
          [
           "XLNet"
          ],
          [
           "GPT-2 (1.5B)"
          ],
          [
           "BigGAN-deep 512x512"
          ],
          [
           "FTW"
          ],
          [
           "ResNeXt-101 32x48d"
          ],
          [
           "AlphaZero"
          ],
          [
           "AlphaGo Zero"
          ],
          [
           "OpenAI TI7 DOTA 1v1"
          ],
          [
           "JFT"
          ],
          [
           "MoE"
          ],
          [
           "Libratus"
          ],
          [
           "AlphaGo Master"
          ],
          [
           "PolyNet"
          ],
          [
           "NASv3 (CIFAR-10)"
          ],
          [
           "Xception"
          ],
          [
           "GNMT"
          ],
          [
           "AlphaGo Lee"
          ],
          [
           "ResNet-152 (ImageNet)"
          ],
          [
           "DeepSpeech2 (English)"
          ]
         ],
         "hovertemplate": "Source=hardware-capex-energy-top_n=10-no-TPUs<br>Publication date=%{x}<br>Cost (inflation-adjusted)=%{y}<br>System=%{customdata[0]}<extra></extra>",
         "legendgroup": "hardware-capex-energy-top_n=10-no-TPUs",
         "marker": {
          "color": "#EF553B",
          "symbol": "circle"
         },
         "mode": "markers",
         "name": "hardware-capex-energy-top_n=10-no-TPUs",
         "orientation": "v",
         "showlegend": true,
         "textposition": "top center",
         "type": "scatter",
         "x": [
          "2023-12-06",
          "2023-11-22",
          "2023-11-04",
          "2023-09-06",
          "2023-07-11",
          "2023-05-10",
          "2023-03-15",
          "2022-11-28",
          "2022-11-08",
          "2022-10-20",
          "2022-10-20",
          "2022-08-10",
          "2022-08-04",
          "2022-06-29",
          "2022-06-22",
          "2022-05-02",
          "2022-04-04",
          "2022-03-29",
          "2022-02-17",
          "2022-02-10",
          "2022-02-02",
          "2021-12-23",
          "2021-12-13",
          "2021-12-08",
          "2021-10-12",
          "2021-10-11",
          "2021-09-10",
          "2021-07-27",
          "2021-05-28",
          "2021-05-04",
          "2021-03-01",
          "2021-01-11",
          "2021-01-05",
          "2020-10-20",
          "2020-06-17",
          "2020-05-28",
          "2020-02-13",
          "2020-01-28",
          "2019-12-13",
          "2019-12-13",
          "2019-10-30",
          "2019-10-23",
          "2019-09-17",
          "2019-09-17",
          "2019-07-01",
          "2019-06-01",
          "2019-02-14",
          "2018-09-28",
          "2018-07-03",
          "2018-05-02",
          "2017-12-05",
          "2017-10-18",
          "2017-08-11",
          "2017-07-10",
          "2017-01-23",
          "2017-01-01",
          "2017-01-01",
          "2016-11-17",
          "2016-11-05",
          "2016-10-07",
          "2016-09-26",
          "2016-01-27",
          "2015-12-10",
          "2015-12-08"
         ],
         "xaxis": "x",
         "y": [
          null,
          12961959.001361668,
          null,
          10340911.710964862,
          null,
          null,
          40586592.57781653,
          4625550.747400068,
          901068.6599742996,
          null,
          null,
          1464700.5362480818,
          820296.6313095269,
          null,
          null,
          731667.6068059877,
          null,
          null,
          null,
          null,
          null,
          null,
          null,
          null,
          null,
          3704291.3087597536,
          586408.7810520589,
          null,
          null,
          null,
          null,
          null,
          118437.35864214256,
          null,
          98082.33822642289,
          2056969.3385324872,
          51659.713290894986,
          null,
          null,
          null,
          null,
          null,
          615532.4058320685,
          106142.2892017932,
          82771.07593250347,
          null,
          null,
          null,
          null,
          null,
          null,
          null,
          null,
          17239.593034773116,
          3863.735305110515,
          null,
          null,
          615.5480459425461,
          null,
          12617.626833005994,
          193787.11043815003,
          null,
          null,
          206.30577788417415
         ],
         "yaxis": "y"
        }
       ],
       "layout": {
        "autosize": false,
        "font": {
         "size": 14
        },
        "height": 600,
        "legend": {
         "orientation": "h",
         "title": {
          "text": ""
         },
         "tracegroupgap": 0,
         "x": 0.95,
         "xanchor": "right",
         "y": 0.05,
         "yanchor": "bottom"
        },
        "margin": {
         "b": 10,
         "l": 10,
         "r": 10,
         "t": 40
        },
        "template": {
         "data": {
          "bar": [
           {
            "error_x": {
             "color": "#2a3f5f"
            },
            "error_y": {
             "color": "#2a3f5f"
            },
            "marker": {
             "line": {
              "color": "#E5ECF6",
              "width": 0.5
             },
             "pattern": {
              "fillmode": "overlay",
              "size": 10,
              "solidity": 0.2
             }
            },
            "type": "bar"
           }
          ],
          "barpolar": [
           {
            "marker": {
             "line": {
              "color": "#E5ECF6",
              "width": 0.5
             },
             "pattern": {
              "fillmode": "overlay",
              "size": 10,
              "solidity": 0.2
             }
            },
            "type": "barpolar"
           }
          ],
          "carpet": [
           {
            "aaxis": {
             "endlinecolor": "#2a3f5f",
             "gridcolor": "white",
             "linecolor": "white",
             "minorgridcolor": "white",
             "startlinecolor": "#2a3f5f"
            },
            "baxis": {
             "endlinecolor": "#2a3f5f",
             "gridcolor": "white",
             "linecolor": "white",
             "minorgridcolor": "white",
             "startlinecolor": "#2a3f5f"
            },
            "type": "carpet"
           }
          ],
          "choropleth": [
           {
            "colorbar": {
             "outlinewidth": 0,
             "ticks": ""
            },
            "type": "choropleth"
           }
          ],
          "contour": [
           {
            "colorbar": {
             "outlinewidth": 0,
             "ticks": ""
            },
            "colorscale": [
             [
              0,
              "#0d0887"
             ],
             [
              0.1111111111111111,
              "#46039f"
             ],
             [
              0.2222222222222222,
              "#7201a8"
             ],
             [
              0.3333333333333333,
              "#9c179e"
             ],
             [
              0.4444444444444444,
              "#bd3786"
             ],
             [
              0.5555555555555556,
              "#d8576b"
             ],
             [
              0.6666666666666666,
              "#ed7953"
             ],
             [
              0.7777777777777778,
              "#fb9f3a"
             ],
             [
              0.8888888888888888,
              "#fdca26"
             ],
             [
              1,
              "#f0f921"
             ]
            ],
            "type": "contour"
           }
          ],
          "contourcarpet": [
           {
            "colorbar": {
             "outlinewidth": 0,
             "ticks": ""
            },
            "type": "contourcarpet"
           }
          ],
          "heatmap": [
           {
            "colorbar": {
             "outlinewidth": 0,
             "ticks": ""
            },
            "colorscale": [
             [
              0,
              "#0d0887"
             ],
             [
              0.1111111111111111,
              "#46039f"
             ],
             [
              0.2222222222222222,
              "#7201a8"
             ],
             [
              0.3333333333333333,
              "#9c179e"
             ],
             [
              0.4444444444444444,
              "#bd3786"
             ],
             [
              0.5555555555555556,
              "#d8576b"
             ],
             [
              0.6666666666666666,
              "#ed7953"
             ],
             [
              0.7777777777777778,
              "#fb9f3a"
             ],
             [
              0.8888888888888888,
              "#fdca26"
             ],
             [
              1,
              "#f0f921"
             ]
            ],
            "type": "heatmap"
           }
          ],
          "heatmapgl": [
           {
            "colorbar": {
             "outlinewidth": 0,
             "ticks": ""
            },
            "colorscale": [
             [
              0,
              "#0d0887"
             ],
             [
              0.1111111111111111,
              "#46039f"
             ],
             [
              0.2222222222222222,
              "#7201a8"
             ],
             [
              0.3333333333333333,
              "#9c179e"
             ],
             [
              0.4444444444444444,
              "#bd3786"
             ],
             [
              0.5555555555555556,
              "#d8576b"
             ],
             [
              0.6666666666666666,
              "#ed7953"
             ],
             [
              0.7777777777777778,
              "#fb9f3a"
             ],
             [
              0.8888888888888888,
              "#fdca26"
             ],
             [
              1,
              "#f0f921"
             ]
            ],
            "type": "heatmapgl"
           }
          ],
          "histogram": [
           {
            "marker": {
             "pattern": {
              "fillmode": "overlay",
              "size": 10,
              "solidity": 0.2
             }
            },
            "type": "histogram"
           }
          ],
          "histogram2d": [
           {
            "colorbar": {
             "outlinewidth": 0,
             "ticks": ""
            },
            "colorscale": [
             [
              0,
              "#0d0887"
             ],
             [
              0.1111111111111111,
              "#46039f"
             ],
             [
              0.2222222222222222,
              "#7201a8"
             ],
             [
              0.3333333333333333,
              "#9c179e"
             ],
             [
              0.4444444444444444,
              "#bd3786"
             ],
             [
              0.5555555555555556,
              "#d8576b"
             ],
             [
              0.6666666666666666,
              "#ed7953"
             ],
             [
              0.7777777777777778,
              "#fb9f3a"
             ],
             [
              0.8888888888888888,
              "#fdca26"
             ],
             [
              1,
              "#f0f921"
             ]
            ],
            "type": "histogram2d"
           }
          ],
          "histogram2dcontour": [
           {
            "colorbar": {
             "outlinewidth": 0,
             "ticks": ""
            },
            "colorscale": [
             [
              0,
              "#0d0887"
             ],
             [
              0.1111111111111111,
              "#46039f"
             ],
             [
              0.2222222222222222,
              "#7201a8"
             ],
             [
              0.3333333333333333,
              "#9c179e"
             ],
             [
              0.4444444444444444,
              "#bd3786"
             ],
             [
              0.5555555555555556,
              "#d8576b"
             ],
             [
              0.6666666666666666,
              "#ed7953"
             ],
             [
              0.7777777777777778,
              "#fb9f3a"
             ],
             [
              0.8888888888888888,
              "#fdca26"
             ],
             [
              1,
              "#f0f921"
             ]
            ],
            "type": "histogram2dcontour"
           }
          ],
          "mesh3d": [
           {
            "colorbar": {
             "outlinewidth": 0,
             "ticks": ""
            },
            "type": "mesh3d"
           }
          ],
          "parcoords": [
           {
            "line": {
             "colorbar": {
              "outlinewidth": 0,
              "ticks": ""
             }
            },
            "type": "parcoords"
           }
          ],
          "pie": [
           {
            "automargin": true,
            "type": "pie"
           }
          ],
          "scatter": [
           {
            "fillpattern": {
             "fillmode": "overlay",
             "size": 10,
             "solidity": 0.2
            },
            "type": "scatter"
           }
          ],
          "scatter3d": [
           {
            "line": {
             "colorbar": {
              "outlinewidth": 0,
              "ticks": ""
             }
            },
            "marker": {
             "colorbar": {
              "outlinewidth": 0,
              "ticks": ""
             }
            },
            "type": "scatter3d"
           }
          ],
          "scattercarpet": [
           {
            "marker": {
             "colorbar": {
              "outlinewidth": 0,
              "ticks": ""
             }
            },
            "type": "scattercarpet"
           }
          ],
          "scattergeo": [
           {
            "marker": {
             "colorbar": {
              "outlinewidth": 0,
              "ticks": ""
             }
            },
            "type": "scattergeo"
           }
          ],
          "scattergl": [
           {
            "marker": {
             "colorbar": {
              "outlinewidth": 0,
              "ticks": ""
             }
            },
            "type": "scattergl"
           }
          ],
          "scattermapbox": [
           {
            "marker": {
             "colorbar": {
              "outlinewidth": 0,
              "ticks": ""
             }
            },
            "type": "scattermapbox"
           }
          ],
          "scatterpolar": [
           {
            "marker": {
             "colorbar": {
              "outlinewidth": 0,
              "ticks": ""
             }
            },
            "type": "scatterpolar"
           }
          ],
          "scatterpolargl": [
           {
            "marker": {
             "colorbar": {
              "outlinewidth": 0,
              "ticks": ""
             }
            },
            "type": "scatterpolargl"
           }
          ],
          "scatterternary": [
           {
            "marker": {
             "colorbar": {
              "outlinewidth": 0,
              "ticks": ""
             }
            },
            "type": "scatterternary"
           }
          ],
          "surface": [
           {
            "colorbar": {
             "outlinewidth": 0,
             "ticks": ""
            },
            "colorscale": [
             [
              0,
              "#0d0887"
             ],
             [
              0.1111111111111111,
              "#46039f"
             ],
             [
              0.2222222222222222,
              "#7201a8"
             ],
             [
              0.3333333333333333,
              "#9c179e"
             ],
             [
              0.4444444444444444,
              "#bd3786"
             ],
             [
              0.5555555555555556,
              "#d8576b"
             ],
             [
              0.6666666666666666,
              "#ed7953"
             ],
             [
              0.7777777777777778,
              "#fb9f3a"
             ],
             [
              0.8888888888888888,
              "#fdca26"
             ],
             [
              1,
              "#f0f921"
             ]
            ],
            "type": "surface"
           }
          ],
          "table": [
           {
            "cells": {
             "fill": {
              "color": "#EBF0F8"
             },
             "line": {
              "color": "white"
             }
            },
            "header": {
             "fill": {
              "color": "#C8D4E3"
             },
             "line": {
              "color": "white"
             }
            },
            "type": "table"
           }
          ]
         },
         "layout": {
          "annotationdefaults": {
           "arrowcolor": "#2a3f5f",
           "arrowhead": 0,
           "arrowwidth": 1
          },
          "autotypenumbers": "strict",
          "coloraxis": {
           "colorbar": {
            "outlinewidth": 0,
            "ticks": ""
           }
          },
          "colorscale": {
           "diverging": [
            [
             0,
             "#8e0152"
            ],
            [
             0.1,
             "#c51b7d"
            ],
            [
             0.2,
             "#de77ae"
            ],
            [
             0.3,
             "#f1b6da"
            ],
            [
             0.4,
             "#fde0ef"
            ],
            [
             0.5,
             "#f7f7f7"
            ],
            [
             0.6,
             "#e6f5d0"
            ],
            [
             0.7,
             "#b8e186"
            ],
            [
             0.8,
             "#7fbc41"
            ],
            [
             0.9,
             "#4d9221"
            ],
            [
             1,
             "#276419"
            ]
           ],
           "sequential": [
            [
             0,
             "#0d0887"
            ],
            [
             0.1111111111111111,
             "#46039f"
            ],
            [
             0.2222222222222222,
             "#7201a8"
            ],
            [
             0.3333333333333333,
             "#9c179e"
            ],
            [
             0.4444444444444444,
             "#bd3786"
            ],
            [
             0.5555555555555556,
             "#d8576b"
            ],
            [
             0.6666666666666666,
             "#ed7953"
            ],
            [
             0.7777777777777778,
             "#fb9f3a"
            ],
            [
             0.8888888888888888,
             "#fdca26"
            ],
            [
             1,
             "#f0f921"
            ]
           ],
           "sequentialminus": [
            [
             0,
             "#0d0887"
            ],
            [
             0.1111111111111111,
             "#46039f"
            ],
            [
             0.2222222222222222,
             "#7201a8"
            ],
            [
             0.3333333333333333,
             "#9c179e"
            ],
            [
             0.4444444444444444,
             "#bd3786"
            ],
            [
             0.5555555555555556,
             "#d8576b"
            ],
            [
             0.6666666666666666,
             "#ed7953"
            ],
            [
             0.7777777777777778,
             "#fb9f3a"
            ],
            [
             0.8888888888888888,
             "#fdca26"
            ],
            [
             1,
             "#f0f921"
            ]
           ]
          },
          "colorway": [
           "#636efa",
           "#EF553B",
           "#00cc96",
           "#ab63fa",
           "#FFA15A",
           "#19d3f3",
           "#FF6692",
           "#B6E880",
           "#FF97FF",
           "#FECB52"
          ],
          "font": {
           "color": "#2a3f5f"
          },
          "geo": {
           "bgcolor": "white",
           "lakecolor": "white",
           "landcolor": "#E5ECF6",
           "showlakes": true,
           "showland": true,
           "subunitcolor": "white"
          },
          "hoverlabel": {
           "align": "left"
          },
          "hovermode": "closest",
          "mapbox": {
           "style": "light"
          },
          "paper_bgcolor": "white",
          "plot_bgcolor": "#E5ECF6",
          "polar": {
           "angularaxis": {
            "gridcolor": "white",
            "linecolor": "white",
            "ticks": ""
           },
           "bgcolor": "#E5ECF6",
           "radialaxis": {
            "gridcolor": "white",
            "linecolor": "white",
            "ticks": ""
           }
          },
          "scene": {
           "xaxis": {
            "backgroundcolor": "#E5ECF6",
            "gridcolor": "white",
            "gridwidth": 2,
            "linecolor": "white",
            "showbackground": true,
            "ticks": "",
            "zerolinecolor": "white"
           },
           "yaxis": {
            "backgroundcolor": "#E5ECF6",
            "gridcolor": "white",
            "gridwidth": 2,
            "linecolor": "white",
            "showbackground": true,
            "ticks": "",
            "zerolinecolor": "white"
           },
           "zaxis": {
            "backgroundcolor": "#E5ECF6",
            "gridcolor": "white",
            "gridwidth": 2,
            "linecolor": "white",
            "showbackground": true,
            "ticks": "",
            "zerolinecolor": "white"
           }
          },
          "shapedefaults": {
           "line": {
            "color": "#2a3f5f"
           }
          },
          "ternary": {
           "aaxis": {
            "gridcolor": "white",
            "linecolor": "white",
            "ticks": ""
           },
           "baxis": {
            "gridcolor": "white",
            "linecolor": "white",
            "ticks": ""
           },
           "bgcolor": "#E5ECF6",
           "caxis": {
            "gridcolor": "white",
            "linecolor": "white",
            "ticks": ""
           }
          },
          "title": {
           "x": 0.05
          },
          "xaxis": {
           "automargin": true,
           "gridcolor": "white",
           "linecolor": "white",
           "ticks": "",
           "title": {
            "standoff": 15
           },
           "zerolinecolor": "white",
           "zerolinewidth": 2
          },
          "yaxis": {
           "automargin": true,
           "gridcolor": "white",
           "linecolor": "white",
           "ticks": "",
           "title": {
            "standoff": 15
           },
           "zerolinecolor": "white",
           "zerolinewidth": 2
          }
         }
        },
        "title": {
         "font": {
          "size": 16
         },
         "text": ""
        },
        "width": 800,
        "xaxis": {
         "anchor": "y",
         "domain": [
          0,
          1
         ],
         "range": [
          "2015-01-01",
          "2025-01-01"
         ],
         "title": {
          "text": "Publication date"
         }
        },
        "yaxis": {
         "anchor": "x",
         "domain": [
          0,
          1
         ],
         "title": {
          "text": "Cost (2023 USD)"
         },
         "type": "log"
        }
       }
      }
     },
     "metadata": {},
     "output_type": "display_data"
    }
   ],
   "source": [
    "fig = px.scatter(\n",
    "    combined_cost_df,\n",
    "    x='Publication date',\n",
    "    y=col,\n",
    "    color='Source',\n",
    "    hover_data=['System'],\n",
    "    log_y=True,\n",
    ")\n",
    "fig.update_traces(textposition='top center')\n",
    "\n",
    "# legend\n",
    "fig.update_layout(\n",
    "    legend_title_text='',\n",
    "    legend=dict(\n",
    "        orientation='h',\n",
    "        yanchor='bottom',\n",
    "        y=0.05,\n",
    "        xanchor='right',\n",
    "        x=0.95,\n",
    "    ),\n",
    ")\n",
    "\n",
    "# axis labels\n",
    "fig.update_xaxes(title_text='Publication date')\n",
    "fig.update_yaxes(title_text='Cost (2023 USD)')\n",
    "\n",
    "# title\n",
    "fig.update_layout(title_text='')\n",
    "\n",
    "# update size\n",
    "fig.update_layout(\n",
    "    autosize=False,\n",
    "    width=800,\n",
    "    height=600,\n",
    "    title_font=dict(\n",
    "        size=16,\n",
    "    )\n",
    ")\n",
    "\n",
    "# font size\n",
    "fig.update_layout(\n",
    "    font=dict(\n",
    "        size=14,\n",
    "    )\n",
    ")\n",
    "\n",
    "# axis limits\n",
    "fig.update_xaxes(range=['2015-01-01', '2025-01-01'])\n",
    "\n",
    "# margins\n",
    "fig.update_layout(margin=dict(l=10, r=10, t=40, b=10))\n",
    "\n",
    "save_plot(fig, results_dir, 'cost_scatter_comparison')\n",
    "\n",
    "fig.show()"
   ]
  },
  {
   "cell_type": "markdown",
   "metadata": {},
   "source": [
    "# Top-N comparison"
   ]
  },
  {
   "cell_type": "code",
   "execution_count": 35,
   "metadata": {},
   "outputs": [],
   "source": [
    "import os\n",
    "import plotly.graph_objects as go\n",
    "from plotly.subplots import make_subplots\n",
    "\n",
    "from plotting import *"
   ]
  },
  {
   "cell_type": "code",
   "execution_count": 36,
   "metadata": {},
   "outputs": [],
   "source": [
    "results_dir = 'results/other-comparisons/'\n",
    "os.makedirs(results_dir, exist_ok=True)"
   ]
  },
  {
   "cell_type": "code",
   "execution_count": 37,
   "metadata": {},
   "outputs": [
    {
     "data": {
      "application/vnd.plotly.v1+json": {
       "config": {
        "plotlyServerURL": "https://plot.ly"
       },
       "data": [
        {
         "marker": {
          "color": "#00a5a6",
          "line": {
           "color": "DarkSlateGrey",
           "width": 1
          },
          "size": 8,
          "symbol": "circle-open"
         },
         "mode": "markers",
         "name": "Top 3",
         "type": "scatter",
         "x": [
          "2023-12-06",
          "2023-11-22",
          "2023-07-11",
          "2023-05-10",
          "2023-03-15",
          "2022-11-28",
          "2022-10-20",
          "2022-06-29",
          "2022-04-04",
          "2021-12-23",
          "2021-12-13",
          "2021-12-08",
          "2021-10-12",
          "2021-10-11",
          "2020-05-28",
          "2020-01-28",
          "2019-12-13",
          "2019-09-17",
          "2017-12-05",
          "2017-10-18",
          "2017-01-01",
          "2016-11-05",
          "2016-10-07",
          "2016-09-26",
          "2016-01-27",
          "2015-12-08"
         ],
         "xaxis": "x",
         "y": [
          29827341.919963885,
          12961959.001361668,
          null,
          4865570.06395341,
          40586592.57781653,
          4625550.747400068,
          2973979.3313555312,
          3180655.520142922,
          2945949.763287097,
          null,
          541437.4162400038,
          616611.1391817601,
          null,
          3704291.3087597536,
          2056969.3385324872,
          206760.3812904988,
          null,
          615532.4058320685,
          229918.61469698732,
          613480.6258010615,
          471445.3247973037,
          null,
          12617.626833005994,
          193787.11043815003,
          null,
          206.30577788417415
         ],
         "yaxis": "y"
        },
        {
         "marker": {
          "color": "#00a5a6"
         },
         "mode": "lines",
         "name": "Predicted",
         "type": "scatter",
         "x": [
          "2015-01-01",
          "2015-02-06",
          "2015-03-15",
          "2015-04-21",
          "2015-05-28",
          "2015-07-04",
          "2015-08-10",
          "2015-09-16",
          "2015-10-22",
          "2015-11-28",
          "2016-01-04",
          "2016-02-10",
          "2016-03-18",
          "2016-04-24",
          "2016-05-31",
          "2016-07-07",
          "2016-08-13",
          "2016-09-19",
          "2016-10-26",
          "2016-12-02",
          "2017-01-08",
          "2017-02-14",
          "2017-03-23",
          "2017-04-28",
          "2017-06-04",
          "2017-07-11",
          "2017-08-17",
          "2017-09-23",
          "2017-10-30",
          "2017-12-06",
          "2018-01-12",
          "2018-02-17",
          "2018-03-26",
          "2018-05-02",
          "2018-06-08",
          "2018-07-15",
          "2018-08-21",
          "2018-09-27",
          "2018-11-03",
          "2018-12-09",
          "2019-01-15",
          "2019-02-21",
          "2019-03-30",
          "2019-05-06",
          "2019-06-12",
          "2019-07-19",
          "2019-08-24",
          "2019-09-30",
          "2019-11-06",
          "2019-12-13",
          "2020-01-19",
          "2020-02-25",
          "2020-04-02",
          "2020-05-09",
          "2020-06-15",
          "2020-07-22",
          "2020-08-28",
          "2020-10-04",
          "2020-11-10",
          "2020-12-17",
          "2021-01-23",
          "2021-02-28",
          "2021-04-06",
          "2021-05-13",
          "2021-06-19",
          "2021-07-26",
          "2021-09-01",
          "2021-10-08",
          "2021-11-14",
          "2021-12-20",
          "2022-01-26",
          "2022-03-04",
          "2022-04-10",
          "2022-05-17",
          "2022-06-23",
          "2022-07-30",
          "2022-09-05",
          "2022-10-11",
          "2022-11-17",
          "2022-12-24",
          "2023-01-30",
          "2023-03-08",
          "2023-04-14",
          "2023-05-21",
          "2023-06-26",
          "2023-08-02",
          "2023-09-08",
          "2023-10-15",
          "2023-11-21",
          "2023-12-28",
          "2024-02-03",
          "2024-03-11",
          "2024-04-17",
          "2024-05-24",
          "2024-06-30",
          "2024-08-06",
          "2024-09-12",
          "2024-10-19",
          "2024-11-25",
          "2025-01-01"
         ],
         "xaxis": "x",
         "y": [
          7963.842618238757,
          8666.088154742085,
          9430.25716426772,
          10261.81001119603,
          11166.688550646775,
          12151.358585970584,
          13222.856070097945,
          14388.837380902109,
          15657.63402977976,
          17038.3121944177,
          18540.737501096846,
          20175.645519470574,
          21954.718473483164,
          23890.66871663352,
          25997.329568001063,
          28289.75415815099,
          30784.322991146244,
          33498.860991344685,
          36452.76487126142,
          39667.14173067123,
          43164.95987720414,
          46971.212946246334,
          51113.098492817226,
          55620.2123314598,
          60524.7600129624,
          65861.7869488786,
          71669.42882832236,
          77989.18411619899,
          84866.21058024636,
          92349.6479655232,
          100492.96912218661,
          109354.36209527231,
          118997.14590703404,
          129490.22300253966,
          140908.57159171146,
          153333.7814054661,
          166854.6366946654,
          181567.75063731006,
          197578.255687471,
          215000.55479831444,
          233959.13888769838,
          254589.47638730874,
          277038.9812311455,
          301468.0662009366,
          328051.2891544575,
          356978.60032774456,
          388456.69962283096,
          422710.51358070556,
          459984.80259221146,
          500545.90983207035,
          544683.6644116932,
          592713.4523514222,
          644978.4701689557,
          701852.1771881756,
          763740.9640894585,
          831087.056771935,
          904371.6762753096,
          984118.4773421562,
          1070897.2901882606,
          1165328.192221144,
          1268085.9387984916,
          1379904.784688844,
          1501583.7306825835,
          1633992.2328471546,
          1778076.4152203836,
          1934865.8303314622,
          2105480.815862599,
          2291140.500013464,
          2493171.5127750174,
          2713017.4653524533,
          2952249.2654807,
          3212576.3423337904,
          3495858.8612416023,
          3804121.015484853,
          4139565.490156492,
          4504589.201431395,
          4901800.423717682,
          5334037.4270585505,
          5804388.757974469,
          6316215.30864901,
          6873174.3321654145,
          7479245.575376368,
          8138759.716160517,
          8856429.30825634,
          9637382.454773396,
          10487199.451023474,
          11411952.658478584,
          12418249.894796409,
          13513281.649923207,
          14704872.465698201,
          16001536.84605817,
          17412540.09737843,
          18947964.533637945,
          20618781.519535784,
          22436929.866294466,
          24415401.14036993,
          26568332.49457525,
          28911107.68502442,
          31460466.995645452,
          34234626.855786934
         ],
         "yaxis": "y"
        },
        {
         "marker": {
          "color": "#00a5a6",
          "line": {
           "color": "DarkSlateGrey",
           "width": 1
          },
          "size": 8,
          "symbol": "circle-open"
         },
         "mode": "markers",
         "name": "Top 5",
         "type": "scatter",
         "x": [
          "2023-12-06",
          "2023-11-22",
          "2023-11-04",
          "2023-09-06",
          "2023-07-11",
          "2023-05-10",
          "2023-03-15",
          "2022-11-28",
          "2022-10-20",
          "2022-10-20",
          "2022-06-29",
          "2022-04-04",
          "2022-03-29",
          "2022-02-10",
          "2021-12-23",
          "2021-12-13",
          "2021-12-08",
          "2021-10-12",
          "2021-10-11",
          "2021-09-10",
          "2021-01-11",
          "2020-10-20",
          "2020-05-28",
          "2020-01-28",
          "2019-12-13",
          "2019-10-30",
          "2019-10-23",
          "2019-09-17",
          "2019-09-17",
          "2018-07-03",
          "2018-05-02",
          "2017-12-05",
          "2017-10-18",
          "2017-07-10",
          "2017-01-01",
          "2017-01-01",
          "2016-11-05",
          "2016-10-07",
          "2016-09-26",
          "2016-01-27",
          "2015-12-10",
          "2015-12-08"
         ],
         "xaxis": "x2",
         "y": [
          29827341.919963885,
          12961959.001361668,
          null,
          10340911.710964862,
          null,
          4865570.06395341,
          40586592.57781653,
          4625550.747400068,
          2973979.3313555312,
          2961791.490037434,
          3180655.520142922,
          2945949.763287097,
          null,
          229949.98625999544,
          null,
          541437.4162400038,
          616611.1391817601,
          null,
          3704291.3087597536,
          586408.7810520589,
          139663.55942731188,
          null,
          2056969.3385324872,
          206760.3812904988,
          null,
          125758.09814850632,
          75524.39074218823,
          615532.4058320685,
          106142.2892017932,
          null,
          null,
          229918.61469698732,
          613480.6258010615,
          17239.593034773116,
          null,
          471445.3247973037,
          null,
          12617.626833005994,
          193787.11043815003,
          null,
          null,
          206.30577788417415
         ],
         "yaxis": "y2"
        },
        {
         "marker": {
          "color": "#00a5a6"
         },
         "mode": "lines",
         "name": "Predicted",
         "type": "scatter",
         "x": [
          "2015-01-01",
          "2015-02-06",
          "2015-03-15",
          "2015-04-21",
          "2015-05-28",
          "2015-07-04",
          "2015-08-10",
          "2015-09-16",
          "2015-10-22",
          "2015-11-28",
          "2016-01-04",
          "2016-02-10",
          "2016-03-18",
          "2016-04-24",
          "2016-05-31",
          "2016-07-07",
          "2016-08-13",
          "2016-09-19",
          "2016-10-26",
          "2016-12-02",
          "2017-01-08",
          "2017-02-14",
          "2017-03-23",
          "2017-04-28",
          "2017-06-04",
          "2017-07-11",
          "2017-08-17",
          "2017-09-23",
          "2017-10-30",
          "2017-12-06",
          "2018-01-12",
          "2018-02-17",
          "2018-03-26",
          "2018-05-02",
          "2018-06-08",
          "2018-07-15",
          "2018-08-21",
          "2018-09-27",
          "2018-11-03",
          "2018-12-09",
          "2019-01-15",
          "2019-02-21",
          "2019-03-30",
          "2019-05-06",
          "2019-06-12",
          "2019-07-19",
          "2019-08-24",
          "2019-09-30",
          "2019-11-06",
          "2019-12-13",
          "2020-01-19",
          "2020-02-25",
          "2020-04-02",
          "2020-05-09",
          "2020-06-15",
          "2020-07-22",
          "2020-08-28",
          "2020-10-04",
          "2020-11-10",
          "2020-12-17",
          "2021-01-23",
          "2021-02-28",
          "2021-04-06",
          "2021-05-13",
          "2021-06-19",
          "2021-07-26",
          "2021-09-01",
          "2021-10-08",
          "2021-11-14",
          "2021-12-20",
          "2022-01-26",
          "2022-03-04",
          "2022-04-10",
          "2022-05-17",
          "2022-06-23",
          "2022-07-30",
          "2022-09-05",
          "2022-10-11",
          "2022-11-17",
          "2022-12-24",
          "2023-01-30",
          "2023-03-08",
          "2023-04-14",
          "2023-05-21",
          "2023-06-26",
          "2023-08-02",
          "2023-09-08",
          "2023-10-15",
          "2023-11-21",
          "2023-12-28",
          "2024-02-03",
          "2024-03-11",
          "2024-04-17",
          "2024-05-24",
          "2024-06-30",
          "2024-08-06",
          "2024-09-12",
          "2024-10-19",
          "2024-11-25",
          "2025-01-01"
         ],
         "xaxis": "x2",
         "y": [
          4929.533651726974,
          5368.790815231428,
          5847.188974480345,
          6368.215875778587,
          6935.670048892613,
          7553.688500113071,
          8226.776872962628,
          8959.84229645062,
          9758.229160329181,
          10627.758078199748,
          11574.768322504513,
          12606.164040795893,
          13729.464590188023,
          14952.859356994813,
          16285.267461180933,
          17736.40278092939,
          19316.844771338376,
          21038.115593608032,
          22912.76411697652,
          24954.457405862708,
          27178.080359131713,
          29599.844227979178,
          32237.404803552276,
          35109.99113589066,
          38238.54572271546,
          41645.87719001799,
          45356.82657764073,
          49398.44844202912,
          53800.208096629445,
          58594.196427785246,
          63815.36385234988,
          69501.77512250465,
          75694.88683564612,
          82439.84967234172,
          89785.83756596723,
          97786.40620358715,
          106499.88347201668,
          115989.79469535797,
          126325.32576440711,
          137581.8275340236,
          149841.3651661566,
          163193.3164233433,
          177735.0232742314,
          193572.50156215968,
          210821.21391016582,
          229606.91149766554,
          250066.55084512147,
          272349.29229127977,
          296617.5874416988,
          323048.3635171452,
          351834.31323544815,
          383185.2996317373,
          417329.88605797593,
          454517.0025170033,
          495017.7604781989,
          539127.429407186,
          587167.5894181294,
          639488.4757435925,
          696471.5321125275,
          758532.1916538551,
          826122.9055979976,
          899736.4418585543,
          979909.4775399145,
          1067226.511564728,
          1162324.1259450333,
          1265895.6267616544,
          1378696.098690519,
          1501547.9099225737,
          1635346.7076136197,
          1781067.9475692608,
          1939774.0057749657,
          2112621.923613175,
          2300871.8432376264,
          2505896.194596652,
          2729189.701090825,
          2972380.2768045957,
          3237240.8947635335,
          3525702.5127334734,
          3839868.150807828,
          4182028.223406195,
          4554677.237469705,
          4960531.978578595,
          5402551.317591551,
          5883957.782201261,
          6408261.050662417,
          6979283.538991281,
          7601188.268163659,
          8278509.214490341,
          9016184.36441624,
          9819591.714756422,
          10694588.480804352,
          11647553.798178686,
          12685435.22969324,
          13815799.41634654,
          15046887.241668643,
          16387673.91162699,
          17847934.38805873,
          19438314.652724497,
          21170409.321487203,
          23056846.174500015
         ],
         "yaxis": "y2"
        },
        {
         "marker": {
          "color": "#00a5a6",
          "line": {
           "color": "DarkSlateGrey",
           "width": 1
          },
          "size": 8,
          "symbol": "circle-open"
         },
         "mode": "markers",
         "name": "Top 10",
         "type": "scatter",
         "x": [
          "2023-12-06",
          "2023-11-22",
          "2023-11-04",
          "2023-09-06",
          "2023-07-11",
          "2023-05-10",
          "2023-03-15",
          "2022-11-28",
          "2022-11-08",
          "2022-10-20",
          "2022-10-20",
          "2022-08-10",
          "2022-08-04",
          "2022-06-29",
          "2022-06-22",
          "2022-05-02",
          "2022-04-04",
          "2022-03-29",
          "2022-02-17",
          "2022-02-10",
          "2022-02-02",
          "2021-12-23",
          "2021-12-13",
          "2021-12-08",
          "2021-10-12",
          "2021-10-11",
          "2021-09-10",
          "2021-07-27",
          "2021-05-28",
          "2021-05-04",
          "2021-03-01",
          "2021-01-11",
          "2021-01-05",
          "2020-10-20",
          "2020-06-17",
          "2020-05-28",
          "2020-02-13",
          "2020-01-28",
          "2019-12-13",
          "2019-12-13",
          "2019-10-30",
          "2019-10-23",
          "2019-09-17",
          "2019-09-17",
          "2019-07-01",
          "2019-06-01",
          "2019-02-14",
          "2018-09-28",
          "2018-07-03",
          "2018-05-02",
          "2017-12-05",
          "2017-10-18",
          "2017-08-11",
          "2017-07-10",
          "2017-01-23",
          "2017-01-01",
          "2017-01-01",
          "2016-11-17",
          "2016-11-05",
          "2016-10-07",
          "2016-09-26",
          "2016-01-27",
          "2015-12-10",
          "2015-12-08"
         ],
         "xaxis": "x3",
         "y": [
          29827341.919963885,
          12961959.001361668,
          null,
          10340911.710964862,
          null,
          4865570.06395341,
          40586592.57781653,
          4625550.747400068,
          901068.6599742996,
          2973979.3313555312,
          2961791.490037434,
          1464700.5362480818,
          820296.6313095269,
          3180655.520142922,
          344852.94872144435,
          731667.6068059877,
          2945949.763287097,
          null,
          null,
          229949.98625999544,
          null,
          null,
          541437.4162400038,
          616611.1391817601,
          null,
          3704291.3087597536,
          586408.7810520589,
          84799.78517435073,
          92453.37635669748,
          85701.26256441118,
          53844.28059190435,
          139663.55942731188,
          118437.35864214256,
          null,
          98082.33822642289,
          2056969.3385324872,
          51659.713290894986,
          206760.3812904988,
          null,
          null,
          125758.09814850632,
          75524.39074218823,
          615532.4058320685,
          106142.2892017932,
          82771.07593250347,
          null,
          null,
          5170.456705747183,
          null,
          null,
          229918.61469698732,
          613480.6258010615,
          null,
          17239.593034773116,
          3863.735305110515,
          null,
          471445.3247973037,
          615.5480459425461,
          null,
          12617.626833005994,
          193787.11043815003,
          null,
          null,
          206.30577788417415
         ],
         "yaxis": "y3"
        },
        {
         "marker": {
          "color": "#00a5a6"
         },
         "mode": "lines",
         "name": "Predicted",
         "type": "scatter",
         "x": [
          "2015-01-01",
          "2015-02-06",
          "2015-03-15",
          "2015-04-21",
          "2015-05-28",
          "2015-07-04",
          "2015-08-10",
          "2015-09-16",
          "2015-10-22",
          "2015-11-28",
          "2016-01-04",
          "2016-02-10",
          "2016-03-18",
          "2016-04-24",
          "2016-05-31",
          "2016-07-07",
          "2016-08-13",
          "2016-09-19",
          "2016-10-26",
          "2016-12-02",
          "2017-01-08",
          "2017-02-14",
          "2017-03-23",
          "2017-04-28",
          "2017-06-04",
          "2017-07-11",
          "2017-08-17",
          "2017-09-23",
          "2017-10-30",
          "2017-12-06",
          "2018-01-12",
          "2018-02-17",
          "2018-03-26",
          "2018-05-02",
          "2018-06-08",
          "2018-07-15",
          "2018-08-21",
          "2018-09-27",
          "2018-11-03",
          "2018-12-09",
          "2019-01-15",
          "2019-02-21",
          "2019-03-30",
          "2019-05-06",
          "2019-06-12",
          "2019-07-19",
          "2019-08-24",
          "2019-09-30",
          "2019-11-06",
          "2019-12-13",
          "2020-01-19",
          "2020-02-25",
          "2020-04-02",
          "2020-05-09",
          "2020-06-15",
          "2020-07-22",
          "2020-08-28",
          "2020-10-04",
          "2020-11-10",
          "2020-12-17",
          "2021-01-23",
          "2021-02-28",
          "2021-04-06",
          "2021-05-13",
          "2021-06-19",
          "2021-07-26",
          "2021-09-01",
          "2021-10-08",
          "2021-11-14",
          "2021-12-20",
          "2022-01-26",
          "2022-03-04",
          "2022-04-10",
          "2022-05-17",
          "2022-06-23",
          "2022-07-30",
          "2022-09-05",
          "2022-10-11",
          "2022-11-17",
          "2022-12-24",
          "2023-01-30",
          "2023-03-08",
          "2023-04-14",
          "2023-05-21",
          "2023-06-26",
          "2023-08-02",
          "2023-09-08",
          "2023-10-15",
          "2023-11-21",
          "2023-12-28",
          "2024-02-03",
          "2024-03-11",
          "2024-04-17",
          "2024-05-24",
          "2024-06-30",
          "2024-08-06",
          "2024-09-12",
          "2024-10-19",
          "2024-11-25",
          "2025-01-01"
         ],
         "xaxis": "x3",
         "y": [
          1795.4893304098364,
          1965.4204492438482,
          2151.434417838266,
          2355.053370916538,
          2577.943503124848,
          2821.9287033470564,
          3089.0054794139974,
          3381.3592953408215,
          3701.3824547688396,
          4051.6936769624467,
          4435.15952553986,
          4854.917865295787,
          5314.403539047266,
          5817.376474631127,
          6367.952452035998,
          6970.636782445944,
          7630.361174768672,
          8352.524091348128,
          9143.034923068584,
          10008.362345348976,
          10955.5872506917,
          11992.460690961238,
          13127.467303516718,
          14369.894740183436,
          15729.909667238971,
          17218.640958276737,
          18848.27076074026,
          20632.1341812641,
          22584.828405604287,
          24722.332146021083,
          27062.13639359104,
          29623.387545304548,
          32427.044077241808,
          35496.04804578935,
          38855.51282034753,
          42532.92858361678,
          46558.38728119168,
          50964.8288610899,
          55788.31081827436,
          61068.30324966627,
          66848.01183424325,
          73174.73138106977,
          80100.23283817116,
          87681.1869293595,
          95979.62788537685,
          105063.46106421926,
          115007.01861414967,
          125891.66772671543,
          137806.47645673834,
          150848.94255789943,
          165125.79129747953,
          180753.84877924,
          197860.99792031938,
          216587.22490521584,
          237085.76467927045,
          259524.3548558938,
          284086.608297504,
          310973.5156024535,
          340405.0897917628,
          372622.1666550954,
          407888.3754871199,
          446492.2963414375,
          488749.8214534079,
          535006.7401566496,
          585641.5684448278,
          641068.646331622,
          701741.5283563086,
          768156.6949774197,
          840857.6152260272,
          920439.1938605496,
          1007552.6394167528,
          1102910.7929852658,
          1207293.9613237353,
          1321556.3020319687,
          1446632.8130436903,
          1583546.9836257107,
          1733419.1694951279,
          1897475.7605824156,
          2077059.2164654934,
          2273639.051588814,
          2488823.8601629725,
          2724374.4791364344,
          2982218.3969589476,
          3264465.5260393186,
          3573425.4679557057,
          3911626.412709338,
          4281835.826662849,
          4687083.098459389,
          5130684.3282185085,
          5616269.462873306,
          6147811.999680955,
          6729661.500980121,
          7366579.18624128,
          8063776.892680229,
          8826959.723226484,
          9662372.730848333,
          10576852.021220688,
          11577880.691938313,
          12673650.065991938,
          13873126.720600154
         ],
         "yaxis": "y3"
        },
        {
         "marker": {
          "color": "#00a5a6",
          "line": {
           "color": "DarkSlateGrey",
           "width": 1
          },
          "size": 8,
          "symbol": "circle-open"
         },
         "mode": "markers",
         "name": "Top 20",
         "type": "scatter",
         "x": [
          "2023-12-06",
          "2023-11-30",
          "2023-11-22",
          "2023-11-04",
          "2023-11-02",
          "2023-10-27",
          "2023-09-06",
          "2023-07-18",
          "2023-07-18",
          "2023-07-11",
          "2023-07-06",
          "2023-05-10",
          "2023-03-20",
          "2023-03-15",
          "2023-02-24",
          "2023-02-10",
          "2022-11-28",
          "2022-11-16",
          "2022-11-08",
          "2022-10-20",
          "2022-10-20",
          "2022-08-10",
          "2022-08-04",
          "2022-08-02",
          "2022-06-29",
          "2022-06-22",
          "2022-05-10",
          "2022-05-02",
          "2022-04-29",
          "2022-04-04",
          "2022-03-29",
          "2022-02-17",
          "2022-02-10",
          "2022-02-09",
          "2022-02-02",
          "2021-12-23",
          "2021-12-13",
          "2021-12-08",
          "2021-11-22",
          "2021-11-19",
          "2021-10-12",
          "2021-10-11",
          "2021-09-10",
          "2021-09-03",
          "2021-07-27",
          "2021-06-09",
          "2021-05-28",
          "2021-05-26",
          "2021-05-04",
          "2021-05-04",
          "2021-05-04",
          "2021-04-19",
          "2021-03-01",
          "2021-01-11",
          "2021-01-05",
          "2021-01-05",
          "2020-10-20",
          "2020-10-20",
          "2020-06-30",
          "2020-06-17",
          "2020-06-17",
          "2020-05-28",
          "2020-03-23",
          "2020-02-13",
          "2020-02-09",
          "2020-01-28",
          "2020-01-19",
          "2019-12-13",
          "2019-12-13",
          "2019-11-11",
          "2019-10-30",
          "2019-10-23",
          "2019-10-23",
          "2019-09-17",
          "2019-09-17",
          "2019-07-01",
          "2019-06-01",
          "2019-05-29",
          "2019-05-29",
          "2019-04-20",
          "2019-02-14",
          "2018-11-05",
          "2018-10-11",
          "2018-09-28",
          "2018-09-28",
          "2018-08-28",
          "2018-07-03",
          "2018-05-02",
          "2018-04-08",
          "2018-03-27",
          "2018-02-05",
          "2018-02-05",
          "2017-12-05",
          "2017-12-02",
          "2017-10-18",
          "2017-08-11",
          "2017-07-25",
          "2017-07-10",
          "2017-06-12",
          "2017-01-23",
          "2017-01-06",
          "2017-01-01",
          "2017-01-01",
          "2016-11-17",
          "2016-11-05",
          "2016-11-05",
          "2016-10-07",
          "2016-09-26",
          "2016-05-29",
          "2016-05-29",
          "2016-01-27",
          "2015-12-10",
          "2015-12-08"
         ],
         "xaxis": "x4",
         "y": [
          29827341.919963885,
          null,
          12961959.001361668,
          null,
          null,
          null,
          10340911.710964862,
          1099604.9936612176,
          600469.8720490151,
          null,
          1818526.294987458,
          4865570.06395341,
          null,
          40586592.57781653,
          576476.4930991895,
          285555.57016183576,
          4625550.747400068,
          591076.8943544837,
          901068.6599742996,
          2973979.3313555312,
          2961791.490037434,
          1464700.5362480818,
          820296.6313095269,
          267943.21130997164,
          3180655.520142922,
          344852.94872144435,
          126785.76203549476,
          731667.6068059877,
          183423.16330597224,
          2945949.763287097,
          null,
          null,
          229949.98625999544,
          184272.80736002637,
          null,
          null,
          541437.4162400038,
          616611.1391817601,
          106950.61569328008,
          1684.770712126102,
          null,
          3704291.3087597536,
          586408.7810520589,
          230526.76439336664,
          84799.78517435073,
          1887.1635925610951,
          92453.37635669748,
          60071.706664791694,
          85701.26256441118,
          43025.05718973151,
          45350.73595674403,
          108672.69136370042,
          53844.28059190435,
          139663.55942731188,
          118437.35864214256,
          24638.51841340951,
          9449.541661137231,
          null,
          256224.76861369325,
          98082.33822642289,
          30093.444683107013,
          2056969.3385324872,
          null,
          51659.713290894986,
          4439.921298510215,
          206760.3812904988,
          14226.054462994534,
          null,
          null,
          43900.60644295845,
          125758.09814850632,
          1613.1944624436098,
          75524.39074218823,
          615532.4058320685,
          106142.2892017932,
          82771.07593250347,
          null,
          9551.591619865148,
          9551.591619865148,
          null,
          null,
          935.3300509163912,
          1751.4770087736404,
          5170.456705747183,
          2880.917278699733,
          2442.1618775733145,
          null,
          null,
          null,
          590.5320553042133,
          11766.339677271537,
          53.42846804494412,
          229918.61469698732,
          null,
          613480.6258010615,
          null,
          null,
          17239.593034773116,
          438.0356518424336,
          3863.735305110515,
          null,
          null,
          471445.3247973037,
          615.5480459425461,
          null,
          41.25014556779628,
          12617.626833005994,
          193787.11043815003,
          null,
          null,
          null,
          null,
          206.30577788417415
         ],
         "yaxis": "y4"
        },
        {
         "marker": {
          "color": "#00a5a6"
         },
         "mode": "lines",
         "name": "Predicted",
         "type": "scatter",
         "x": [
          "2015-01-01",
          "2015-02-06",
          "2015-03-15",
          "2015-04-21",
          "2015-05-28",
          "2015-07-04",
          "2015-08-10",
          "2015-09-16",
          "2015-10-22",
          "2015-11-28",
          "2016-01-04",
          "2016-02-10",
          "2016-03-18",
          "2016-04-24",
          "2016-05-31",
          "2016-07-07",
          "2016-08-13",
          "2016-09-19",
          "2016-10-26",
          "2016-12-02",
          "2017-01-08",
          "2017-02-14",
          "2017-03-23",
          "2017-04-28",
          "2017-06-04",
          "2017-07-11",
          "2017-08-17",
          "2017-09-23",
          "2017-10-30",
          "2017-12-06",
          "2018-01-12",
          "2018-02-17",
          "2018-03-26",
          "2018-05-02",
          "2018-06-08",
          "2018-07-15",
          "2018-08-21",
          "2018-09-27",
          "2018-11-03",
          "2018-12-09",
          "2019-01-15",
          "2019-02-21",
          "2019-03-30",
          "2019-05-06",
          "2019-06-12",
          "2019-07-19",
          "2019-08-24",
          "2019-09-30",
          "2019-11-06",
          "2019-12-13",
          "2020-01-19",
          "2020-02-25",
          "2020-04-02",
          "2020-05-09",
          "2020-06-15",
          "2020-07-22",
          "2020-08-28",
          "2020-10-04",
          "2020-11-10",
          "2020-12-17",
          "2021-01-23",
          "2021-02-28",
          "2021-04-06",
          "2021-05-13",
          "2021-06-19",
          "2021-07-26",
          "2021-09-01",
          "2021-10-08",
          "2021-11-14",
          "2021-12-20",
          "2022-01-26",
          "2022-03-04",
          "2022-04-10",
          "2022-05-17",
          "2022-06-23",
          "2022-07-30",
          "2022-09-05",
          "2022-10-11",
          "2022-11-17",
          "2022-12-24",
          "2023-01-30",
          "2023-03-08",
          "2023-04-14",
          "2023-05-21",
          "2023-06-26",
          "2023-08-02",
          "2023-09-08",
          "2023-10-15",
          "2023-11-21",
          "2023-12-28",
          "2024-02-03",
          "2024-03-11",
          "2024-04-17",
          "2024-05-24",
          "2024-06-30",
          "2024-08-06",
          "2024-09-12",
          "2024-10-19",
          "2024-11-25",
          "2025-01-01"
         ],
         "xaxis": "x4",
         "y": [
          244.73531543523316,
          271.6653019557016,
          301.55858853233684,
          334.74124837799513,
          371.57523488555245,
          412.46232978238936,
          457.8485257282454,
          508.228891162432,
          564.1529704640919,
          626.2307783319997,
          695.1394537683658,
          771.6306462492554,
          856.5387146468137,
          950.7898283394843,
          1055.4120697817746,
          1171.5466487338035,
          1300.4603504706918,
          1443.559353760421,
          1602.404569331524,
          1778.7286661448213,
          1974.4549711844686,
          2191.718448932184,
          2432.8889893645696,
          2700.597258491433,
          2997.7633934199025,
          3327.628854939388,
          3693.791785079945,
          4100.24625530921,
          4551.425833498441,
          5052.251944870052,
          5608.187554454637,
          6225.296756602819,
          6910.310921571561,
          7670.702120687147,
          8514.764631016998,
          9451.705408568701,
          10491.744516923502,
          11646.2266067429,
          12927.744662182293,
          14350.277363985026,
          15929.341567648944,
          17682.16155986722,
          19627.85693943734,
          21787.651172095244,
          24185.10309411291,
          26846.363889933556,
          29800.462346847216,
          33079.62149834573,
          36719.610109986395,
          40760.13284182106,
          45245.26334311648,
          50223.92500368758,
          55750.42460569964,
          61885.04469709058,
          68694.70114796872,
          76253.67306280026,
          84644.41300999837,
          93958.44640701113,
          104297.36987102007,
          115773.95942554303,
          128513.40065084815,
          142654.6541968358,
          158351.97155281637,
          175776.57760859976,
          195118.53835993388,
          216588.83413061913,
          240421.660926575,
          266876.98502416874,
          296243.37865862594,
          328841.1677429972,
          365025.9259539036,
          405192.35329625517,
          449778.5814548665,
          499270.9528939219,
          554209.3258360685,
          615192.9629858835,
          682887.0682327449,
          758030.042632681,
          841441.5388195093,
          934031.4016998198,
          1036809.5929581487,
          1150897.2076246324,
          1277538.7028766926,
          1418115.4724641235,
          1574160.9148229852,
          1747377.159245417,
          1939653.632548245,
          2153087.6687681843,
          2390007.386685472,
          2652997.084730471,
          2944925.430271478,
          3268976.750776473,
          3628685.7681595087,
          4027976.1552038407,
          4471203.334621094,
          4963201.987604564,
          5509338.790079733,
          6115570.951914197,
          6788511.197610821,
          7535499.897302951
         ],
         "yaxis": "y4"
        }
       ],
       "layout": {
        "annotations": [
         {
          "font": {
           "size": 16
          },
          "showarrow": false,
          "text": "Top 3",
          "x": 0.225,
          "xanchor": "center",
          "xref": "paper",
          "y": 1,
          "yanchor": "bottom",
          "yref": "paper"
         },
         {
          "font": {
           "size": 16
          },
          "showarrow": false,
          "text": "Top 5",
          "x": 0.775,
          "xanchor": "center",
          "xref": "paper",
          "y": 1,
          "yanchor": "bottom",
          "yref": "paper"
         },
         {
          "font": {
           "size": 16
          },
          "showarrow": false,
          "text": "Top 10",
          "x": 0.225,
          "xanchor": "center",
          "xref": "paper",
          "y": 0.375,
          "yanchor": "bottom",
          "yref": "paper"
         },
         {
          "font": {
           "size": 16
          },
          "showarrow": false,
          "text": "Top 20",
          "x": 0.775,
          "xanchor": "center",
          "xref": "paper",
          "y": 0.375,
          "yanchor": "bottom",
          "yref": "paper"
         },
         {
          "font": {
           "size": 12
          },
          "showarrow": false,
          "text": "2.3x per year",
          "x": "2023-08-02",
          "xref": "x",
          "y": 2.5,
          "yref": "y"
         },
         {
          "font": {
           "size": 12
          },
          "showarrow": false,
          "text": "2.3x per year",
          "x": "2023-08-02",
          "xref": "x2",
          "y": 2.5,
          "yref": "y2"
         },
         {
          "font": {
           "size": 12
          },
          "showarrow": false,
          "text": "2.4x per year",
          "x": "2023-08-02",
          "xref": "x3",
          "y": 2.5,
          "yref": "y3"
         },
         {
          "font": {
           "size": 12
          },
          "showarrow": false,
          "text": "2.8x per year",
          "x": "2023-08-02",
          "xref": "x4",
          "y": 2.5,
          "yref": "y4"
         }
        ],
        "height": 600,
        "margin": {
         "b": 10,
         "l": 10,
         "r": 10,
         "t": 40
        },
        "showlegend": false,
        "template": {
         "data": {
          "bar": [
           {
            "error_x": {
             "color": "#2a3f5f"
            },
            "error_y": {
             "color": "#2a3f5f"
            },
            "marker": {
             "line": {
              "color": "white",
              "width": 0.5
             },
             "pattern": {
              "fillmode": "overlay",
              "size": 10,
              "solidity": 0.2
             }
            },
            "type": "bar"
           }
          ],
          "barpolar": [
           {
            "marker": {
             "line": {
              "color": "white",
              "width": 0.5
             },
             "pattern": {
              "fillmode": "overlay",
              "size": 10,
              "solidity": 0.2
             }
            },
            "type": "barpolar"
           }
          ],
          "carpet": [
           {
            "aaxis": {
             "endlinecolor": "#2a3f5f",
             "gridcolor": "#C8D4E3",
             "linecolor": "#C8D4E3",
             "minorgridcolor": "#C8D4E3",
             "startlinecolor": "#2a3f5f"
            },
            "baxis": {
             "endlinecolor": "#2a3f5f",
             "gridcolor": "#C8D4E3",
             "linecolor": "#C8D4E3",
             "minorgridcolor": "#C8D4E3",
             "startlinecolor": "#2a3f5f"
            },
            "type": "carpet"
           }
          ],
          "choropleth": [
           {
            "colorbar": {
             "outlinewidth": 0,
             "ticks": ""
            },
            "type": "choropleth"
           }
          ],
          "contour": [
           {
            "colorbar": {
             "outlinewidth": 0,
             "ticks": ""
            },
            "colorscale": [
             [
              0,
              "#0d0887"
             ],
             [
              0.1111111111111111,
              "#46039f"
             ],
             [
              0.2222222222222222,
              "#7201a8"
             ],
             [
              0.3333333333333333,
              "#9c179e"
             ],
             [
              0.4444444444444444,
              "#bd3786"
             ],
             [
              0.5555555555555556,
              "#d8576b"
             ],
             [
              0.6666666666666666,
              "#ed7953"
             ],
             [
              0.7777777777777778,
              "#fb9f3a"
             ],
             [
              0.8888888888888888,
              "#fdca26"
             ],
             [
              1,
              "#f0f921"
             ]
            ],
            "type": "contour"
           }
          ],
          "contourcarpet": [
           {
            "colorbar": {
             "outlinewidth": 0,
             "ticks": ""
            },
            "type": "contourcarpet"
           }
          ],
          "heatmap": [
           {
            "colorbar": {
             "outlinewidth": 0,
             "ticks": ""
            },
            "colorscale": [
             [
              0,
              "#0d0887"
             ],
             [
              0.1111111111111111,
              "#46039f"
             ],
             [
              0.2222222222222222,
              "#7201a8"
             ],
             [
              0.3333333333333333,
              "#9c179e"
             ],
             [
              0.4444444444444444,
              "#bd3786"
             ],
             [
              0.5555555555555556,
              "#d8576b"
             ],
             [
              0.6666666666666666,
              "#ed7953"
             ],
             [
              0.7777777777777778,
              "#fb9f3a"
             ],
             [
              0.8888888888888888,
              "#fdca26"
             ],
             [
              1,
              "#f0f921"
             ]
            ],
            "type": "heatmap"
           }
          ],
          "heatmapgl": [
           {
            "colorbar": {
             "outlinewidth": 0,
             "ticks": ""
            },
            "colorscale": [
             [
              0,
              "#0d0887"
             ],
             [
              0.1111111111111111,
              "#46039f"
             ],
             [
              0.2222222222222222,
              "#7201a8"
             ],
             [
              0.3333333333333333,
              "#9c179e"
             ],
             [
              0.4444444444444444,
              "#bd3786"
             ],
             [
              0.5555555555555556,
              "#d8576b"
             ],
             [
              0.6666666666666666,
              "#ed7953"
             ],
             [
              0.7777777777777778,
              "#fb9f3a"
             ],
             [
              0.8888888888888888,
              "#fdca26"
             ],
             [
              1,
              "#f0f921"
             ]
            ],
            "type": "heatmapgl"
           }
          ],
          "histogram": [
           {
            "marker": {
             "pattern": {
              "fillmode": "overlay",
              "size": 10,
              "solidity": 0.2
             }
            },
            "type": "histogram"
           }
          ],
          "histogram2d": [
           {
            "colorbar": {
             "outlinewidth": 0,
             "ticks": ""
            },
            "colorscale": [
             [
              0,
              "#0d0887"
             ],
             [
              0.1111111111111111,
              "#46039f"
             ],
             [
              0.2222222222222222,
              "#7201a8"
             ],
             [
              0.3333333333333333,
              "#9c179e"
             ],
             [
              0.4444444444444444,
              "#bd3786"
             ],
             [
              0.5555555555555556,
              "#d8576b"
             ],
             [
              0.6666666666666666,
              "#ed7953"
             ],
             [
              0.7777777777777778,
              "#fb9f3a"
             ],
             [
              0.8888888888888888,
              "#fdca26"
             ],
             [
              1,
              "#f0f921"
             ]
            ],
            "type": "histogram2d"
           }
          ],
          "histogram2dcontour": [
           {
            "colorbar": {
             "outlinewidth": 0,
             "ticks": ""
            },
            "colorscale": [
             [
              0,
              "#0d0887"
             ],
             [
              0.1111111111111111,
              "#46039f"
             ],
             [
              0.2222222222222222,
              "#7201a8"
             ],
             [
              0.3333333333333333,
              "#9c179e"
             ],
             [
              0.4444444444444444,
              "#bd3786"
             ],
             [
              0.5555555555555556,
              "#d8576b"
             ],
             [
              0.6666666666666666,
              "#ed7953"
             ],
             [
              0.7777777777777778,
              "#fb9f3a"
             ],
             [
              0.8888888888888888,
              "#fdca26"
             ],
             [
              1,
              "#f0f921"
             ]
            ],
            "type": "histogram2dcontour"
           }
          ],
          "mesh3d": [
           {
            "colorbar": {
             "outlinewidth": 0,
             "ticks": ""
            },
            "type": "mesh3d"
           }
          ],
          "parcoords": [
           {
            "line": {
             "colorbar": {
              "outlinewidth": 0,
              "ticks": ""
             }
            },
            "type": "parcoords"
           }
          ],
          "pie": [
           {
            "automargin": true,
            "type": "pie"
           }
          ],
          "scatter": [
           {
            "fillpattern": {
             "fillmode": "overlay",
             "size": 10,
             "solidity": 0.2
            },
            "type": "scatter"
           }
          ],
          "scatter3d": [
           {
            "line": {
             "colorbar": {
              "outlinewidth": 0,
              "ticks": ""
             }
            },
            "marker": {
             "colorbar": {
              "outlinewidth": 0,
              "ticks": ""
             }
            },
            "type": "scatter3d"
           }
          ],
          "scattercarpet": [
           {
            "marker": {
             "colorbar": {
              "outlinewidth": 0,
              "ticks": ""
             }
            },
            "type": "scattercarpet"
           }
          ],
          "scattergeo": [
           {
            "marker": {
             "colorbar": {
              "outlinewidth": 0,
              "ticks": ""
             }
            },
            "type": "scattergeo"
           }
          ],
          "scattergl": [
           {
            "marker": {
             "colorbar": {
              "outlinewidth": 0,
              "ticks": ""
             }
            },
            "type": "scattergl"
           }
          ],
          "scattermapbox": [
           {
            "marker": {
             "colorbar": {
              "outlinewidth": 0,
              "ticks": ""
             }
            },
            "type": "scattermapbox"
           }
          ],
          "scatterpolar": [
           {
            "marker": {
             "colorbar": {
              "outlinewidth": 0,
              "ticks": ""
             }
            },
            "type": "scatterpolar"
           }
          ],
          "scatterpolargl": [
           {
            "marker": {
             "colorbar": {
              "outlinewidth": 0,
              "ticks": ""
             }
            },
            "type": "scatterpolargl"
           }
          ],
          "scatterternary": [
           {
            "marker": {
             "colorbar": {
              "outlinewidth": 0,
              "ticks": ""
             }
            },
            "type": "scatterternary"
           }
          ],
          "surface": [
           {
            "colorbar": {
             "outlinewidth": 0,
             "ticks": ""
            },
            "colorscale": [
             [
              0,
              "#0d0887"
             ],
             [
              0.1111111111111111,
              "#46039f"
             ],
             [
              0.2222222222222222,
              "#7201a8"
             ],
             [
              0.3333333333333333,
              "#9c179e"
             ],
             [
              0.4444444444444444,
              "#bd3786"
             ],
             [
              0.5555555555555556,
              "#d8576b"
             ],
             [
              0.6666666666666666,
              "#ed7953"
             ],
             [
              0.7777777777777778,
              "#fb9f3a"
             ],
             [
              0.8888888888888888,
              "#fdca26"
             ],
             [
              1,
              "#f0f921"
             ]
            ],
            "type": "surface"
           }
          ],
          "table": [
           {
            "cells": {
             "fill": {
              "color": "#EBF0F8"
             },
             "line": {
              "color": "white"
             }
            },
            "header": {
             "fill": {
              "color": "#C8D4E3"
             },
             "line": {
              "color": "white"
             }
            },
            "type": "table"
           }
          ]
         },
         "layout": {
          "annotationdefaults": {
           "arrowcolor": "#2a3f5f",
           "arrowhead": 0,
           "arrowwidth": 1
          },
          "autotypenumbers": "strict",
          "coloraxis": {
           "colorbar": {
            "outlinewidth": 0,
            "ticks": ""
           }
          },
          "colorscale": {
           "diverging": [
            [
             0,
             "#8e0152"
            ],
            [
             0.1,
             "#c51b7d"
            ],
            [
             0.2,
             "#de77ae"
            ],
            [
             0.3,
             "#f1b6da"
            ],
            [
             0.4,
             "#fde0ef"
            ],
            [
             0.5,
             "#f7f7f7"
            ],
            [
             0.6,
             "#e6f5d0"
            ],
            [
             0.7,
             "#b8e186"
            ],
            [
             0.8,
             "#7fbc41"
            ],
            [
             0.9,
             "#4d9221"
            ],
            [
             1,
             "#276419"
            ]
           ],
           "sequential": [
            [
             0,
             "#0d0887"
            ],
            [
             0.1111111111111111,
             "#46039f"
            ],
            [
             0.2222222222222222,
             "#7201a8"
            ],
            [
             0.3333333333333333,
             "#9c179e"
            ],
            [
             0.4444444444444444,
             "#bd3786"
            ],
            [
             0.5555555555555556,
             "#d8576b"
            ],
            [
             0.6666666666666666,
             "#ed7953"
            ],
            [
             0.7777777777777778,
             "#fb9f3a"
            ],
            [
             0.8888888888888888,
             "#fdca26"
            ],
            [
             1,
             "#f0f921"
            ]
           ],
           "sequentialminus": [
            [
             0,
             "#0d0887"
            ],
            [
             0.1111111111111111,
             "#46039f"
            ],
            [
             0.2222222222222222,
             "#7201a8"
            ],
            [
             0.3333333333333333,
             "#9c179e"
            ],
            [
             0.4444444444444444,
             "#bd3786"
            ],
            [
             0.5555555555555556,
             "#d8576b"
            ],
            [
             0.6666666666666666,
             "#ed7953"
            ],
            [
             0.7777777777777778,
             "#fb9f3a"
            ],
            [
             0.8888888888888888,
             "#fdca26"
            ],
            [
             1,
             "#f0f921"
            ]
           ]
          },
          "colorway": [
           "#636efa",
           "#EF553B",
           "#00cc96",
           "#ab63fa",
           "#FFA15A",
           "#19d3f3",
           "#FF6692",
           "#B6E880",
           "#FF97FF",
           "#FECB52"
          ],
          "font": {
           "color": "#2a3f5f"
          },
          "geo": {
           "bgcolor": "white",
           "lakecolor": "white",
           "landcolor": "white",
           "showlakes": true,
           "showland": true,
           "subunitcolor": "#C8D4E3"
          },
          "hoverlabel": {
           "align": "left"
          },
          "hovermode": "closest",
          "mapbox": {
           "style": "light"
          },
          "paper_bgcolor": "white",
          "plot_bgcolor": "white",
          "polar": {
           "angularaxis": {
            "gridcolor": "#EBF0F8",
            "linecolor": "#EBF0F8",
            "ticks": ""
           },
           "bgcolor": "white",
           "radialaxis": {
            "gridcolor": "#EBF0F8",
            "linecolor": "#EBF0F8",
            "ticks": ""
           }
          },
          "scene": {
           "xaxis": {
            "backgroundcolor": "white",
            "gridcolor": "#DFE8F3",
            "gridwidth": 2,
            "linecolor": "#EBF0F8",
            "showbackground": true,
            "ticks": "",
            "zerolinecolor": "#EBF0F8"
           },
           "yaxis": {
            "backgroundcolor": "white",
            "gridcolor": "#DFE8F3",
            "gridwidth": 2,
            "linecolor": "#EBF0F8",
            "showbackground": true,
            "ticks": "",
            "zerolinecolor": "#EBF0F8"
           },
           "zaxis": {
            "backgroundcolor": "white",
            "gridcolor": "#DFE8F3",
            "gridwidth": 2,
            "linecolor": "#EBF0F8",
            "showbackground": true,
            "ticks": "",
            "zerolinecolor": "#EBF0F8"
           }
          },
          "shapedefaults": {
           "line": {
            "color": "#2a3f5f"
           }
          },
          "ternary": {
           "aaxis": {
            "gridcolor": "#DFE8F3",
            "linecolor": "#A2B1C6",
            "ticks": ""
           },
           "baxis": {
            "gridcolor": "#DFE8F3",
            "linecolor": "#A2B1C6",
            "ticks": ""
           },
           "bgcolor": "white",
           "caxis": {
            "gridcolor": "#DFE8F3",
            "linecolor": "#A2B1C6",
            "ticks": ""
           }
          },
          "title": {
           "x": 0.05
          },
          "xaxis": {
           "automargin": true,
           "gridcolor": "#EBF0F8",
           "linecolor": "#EBF0F8",
           "ticks": "",
           "title": {
            "standoff": 15
           },
           "zerolinecolor": "#EBF0F8",
           "zerolinewidth": 2
          },
          "yaxis": {
           "automargin": true,
           "gridcolor": "#EBF0F8",
           "linecolor": "#EBF0F8",
           "ticks": "",
           "title": {
            "standoff": 15
           },
           "zerolinecolor": "#EBF0F8",
           "zerolinewidth": 2
          }
         }
        },
        "width": 800,
        "xaxis": {
         "anchor": "y",
         "domain": [
          0,
          0.45
         ]
        },
        "xaxis2": {
         "anchor": "y2",
         "domain": [
          0.55,
          1
         ]
        },
        "xaxis3": {
         "anchor": "y3",
         "domain": [
          0,
          0.45
         ],
         "title": {
          "text": "Publication date"
         }
        },
        "xaxis4": {
         "anchor": "y4",
         "domain": [
          0.55,
          1
         ],
         "title": {
          "text": "Publication date"
         }
        },
        "yaxis": {
         "anchor": "x",
         "domain": [
          0.625,
          1
         ],
         "range": [
          1,
          9
         ],
         "title": {
          "text": "Cost (2023 USD, log scale)"
         },
         "type": "log"
        },
        "yaxis2": {
         "anchor": "x2",
         "domain": [
          0.625,
          1
         ],
         "range": [
          1,
          9
         ],
         "type": "log"
        },
        "yaxis3": {
         "anchor": "x3",
         "domain": [
          0,
          0.375
         ],
         "range": [
          1,
          9
         ],
         "title": {
          "text": "Cost (2023 USD, log scale)"
         },
         "type": "log"
        },
        "yaxis4": {
         "anchor": "x4",
         "domain": [
          0,
          0.375
         ],
         "range": [
          1,
          9
         ],
         "type": "log"
        }
       }
      }
     },
     "metadata": {},
     "output_type": "display_data"
    }
   ],
   "source": [
    "ns = [3, 5, 10, 20]\n",
    "subplot_titles = [f'Top {n}' for n in ns]\n",
    "# Create figure with subplots\n",
    "fig = make_subplots(rows=2, cols=2, subplot_titles=subplot_titles)\n",
    "\n",
    "for i, n in enumerate(ns):\n",
    "    results_name = f'hardware-capex-energy-top_n={n}-original'\n",
    "    top_n_results_dir = f'results/{results_name}/'\n",
    "    cost_df = pd.read_csv(top_n_results_dir + 'cost_dataset.csv')\n",
    "    col = 'Cost (inflation-adjusted)'\n",
    "\n",
    "    fig.add_trace(\n",
    "        go.Scatter(\n",
    "            x=cost_df['Publication date'],\n",
    "            y=cost_df[col],\n",
    "            mode='markers',\n",
    "            # open circles\n",
    "            marker=dict(\n",
    "                size=8,\n",
    "                line=dict(width=1, color='DarkSlateGrey'),\n",
    "                symbol='circle-open',\n",
    "            ),\n",
    "            name=f'Top {n}',\n",
    "        ),\n",
    "        row=i // 2 + 1,\n",
    "        col=i % 2 + 1,\n",
    "    )\n",
    "\n",
    "    # predictions\n",
    "    predicted_cost_df = pd.read_csv(top_n_results_dir + 'predicted_cost_dataset.csv')\n",
    "    fig.add_trace(\n",
    "        go.Scatter(\n",
    "            x=predicted_cost_df['Publication date'],\n",
    "            y=10**predicted_cost_df['mean'],\n",
    "            mode='lines',\n",
    "            name='Predicted',\n",
    "        ),\n",
    "        row=i // 2 + 1,\n",
    "        col=i % 2 + 1,\n",
    "    )\n",
    "\n",
    "    slope = predicted_cost_df['mean'].diff().iloc[1] / predicted_cost_df['Publication date (float)'].diff().iloc[1]\n",
    "    # annotate slope\n",
    "    fig.add_annotation(\n",
    "        x=predicted_cost_df['Publication date'].iloc[-15],\n",
    "        y=2.5,\n",
    "        text=f'{10**slope:.2g}x per year',\n",
    "        showarrow=False,\n",
    "        font=dict(\n",
    "            size=12,\n",
    "        ),\n",
    "        row=i // 2 + 1,\n",
    "        col=i % 2 + 1,\n",
    "    )\n",
    "\n",
    "    # log y axis\n",
    "    fig.update_yaxes(type='log', row=i // 2 + 1, col=i % 2 + 1)\n",
    "    # y limits\n",
    "    fig.update_yaxes(range=[1, 9], row=i // 2 + 1, col=i % 2 + 1)\n",
    "    # Same color for all traces: #00a5a6\n",
    "    fig.update_traces(marker=dict(color='#00a5a6'), row=i // 2 + 1, col=i % 2 + 1)\n",
    "    # axis labels\n",
    "    if i % 2 == 0:\n",
    "        fig.update_yaxes(title_text='Cost (2023 USD, log scale)', row=i // 2 + 1, col=i % 2 + 1)\n",
    "    if i // 2 == 1:\n",
    "        fig.update_xaxes(title_text='Publication date', row=i // 2 + 1, col=i % 2 + 1)\n",
    "\n",
    "# Update layout\n",
    "fig.update_layout(\n",
    "    width=800,\n",
    "    height=600,\n",
    "    showlegend=False,\n",
    ")\n",
    "\n",
    "# plotly white style\n",
    "fig.update_layout(template='plotly_white')\n",
    "# no grid\n",
    "# fig.update_xaxes(showgrid=False)\n",
    "# fig.update_yaxes(showgrid=False)\n",
    "\n",
    "# margins\n",
    "fig.update_layout(margin=dict(l=10, r=10, t=40, b=10))\n",
    "\n",
    "save_plot(fig, results_dir, 'top_n_comparison')\n",
    "\n",
    "# Show the figure\n",
    "fig.show()"
   ]
  },
  {
   "cell_type": "markdown",
   "metadata": {},
   "source": [
    "# Model selection method comparison"
   ]
  },
  {
   "cell_type": "code",
   "execution_count": 38,
   "metadata": {},
   "outputs": [],
   "source": [
    "import os\n",
    "import plotly.graph_objects as go\n",
    "from plotly.subplots import make_subplots\n",
    "\n",
    "from plotting import *"
   ]
  },
  {
   "cell_type": "code",
   "execution_count": 39,
   "metadata": {},
   "outputs": [],
   "source": [
    "results_dir = 'results/other-comparisons/'\n",
    "os.makedirs(results_dir, exist_ok=True)"
   ]
  },
  {
   "cell_type": "code",
   "execution_count": 40,
   "metadata": {},
   "outputs": [
    {
     "data": {
      "application/vnd.plotly.v1+json": {
       "config": {
        "plotlyServerURL": "https://plot.ly"
       },
       "data": [
        {
         "marker": {
          "color": "#00a5a6",
          "line": {
           "color": "DarkSlateGrey",
           "width": 1
          },
          "size": 8,
          "symbol": "circle-open"
         },
         "mode": "markers",
         "name": "Top 20",
         "type": "scatter",
         "x": [
          "2023-12-06",
          "2023-11-22",
          "2023-11-04",
          "2023-09-06",
          "2023-07-11",
          "2023-05-10",
          "2023-03-15",
          "2022-11-28",
          "2022-11-08",
          "2022-10-20",
          "2022-10-20",
          "2022-08-10",
          "2022-08-04",
          "2022-06-29",
          "2022-06-22",
          "2022-05-02",
          "2022-04-04",
          "2022-03-29",
          "2022-02-17",
          "2022-02-10",
          "2022-02-02",
          "2021-12-23",
          "2021-12-13",
          "2021-12-08",
          "2021-10-12",
          "2021-10-11",
          "2021-09-10",
          "2021-07-27",
          "2021-05-28",
          "2021-05-04",
          "2021-03-01",
          "2021-01-11",
          "2021-01-05",
          "2020-10-20",
          "2020-06-17",
          "2020-05-28",
          "2020-02-13",
          "2020-01-28",
          "2019-12-13",
          "2019-12-13",
          "2019-10-30",
          "2019-10-23",
          "2019-09-17",
          "2019-09-17",
          "2019-07-01",
          "2019-06-01",
          "2019-02-14",
          "2018-09-28",
          "2018-07-03",
          "2018-05-02",
          "2017-12-05",
          "2017-10-18",
          "2017-08-11",
          "2017-07-10",
          "2017-01-23",
          "2017-01-01",
          "2017-01-01",
          "2016-11-17",
          "2016-11-05",
          "2016-10-07",
          "2016-09-26",
          "2016-01-27",
          "2015-12-10",
          "2015-12-08"
         ],
         "xaxis": "x",
         "y": [
          29827341.919963885,
          12961959.001361668,
          null,
          10340911.710964862,
          null,
          4865570.06395341,
          40586592.57781653,
          4625550.747400068,
          901068.6599742996,
          2973979.3313555312,
          2961791.490037434,
          1464700.5362480818,
          820296.6313095269,
          3180655.520142922,
          344852.94872144435,
          731667.6068059877,
          2945949.763287097,
          null,
          null,
          229949.98625999544,
          null,
          null,
          541437.4162400038,
          616611.1391817601,
          null,
          3704291.3087597536,
          586408.7810520589,
          84799.78517435073,
          92453.37635669748,
          85701.26256441118,
          53844.28059190435,
          139663.55942731188,
          118437.35864214256,
          null,
          98082.33822642289,
          2056969.3385324872,
          51659.713290894986,
          206760.3812904988,
          null,
          null,
          125758.09814850632,
          75524.39074218823,
          615532.4058320685,
          106142.2892017932,
          82771.07593250347,
          null,
          null,
          5170.456705747183,
          null,
          null,
          229918.61469698732,
          613480.6258010615,
          null,
          17239.593034773116,
          3863.735305110515,
          null,
          471445.3247973037,
          615.5480459425461,
          null,
          12617.626833005994,
          193787.11043815003,
          null,
          null,
          206.30577788417415
         ],
         "yaxis": "y"
        },
        {
         "marker": {
          "color": "#00a5a6"
         },
         "mode": "lines",
         "name": "Predicted",
         "type": "scatter",
         "x": [
          "2015-01-01",
          "2015-02-06",
          "2015-03-15",
          "2015-04-21",
          "2015-05-28",
          "2015-07-04",
          "2015-08-10",
          "2015-09-16",
          "2015-10-22",
          "2015-11-28",
          "2016-01-04",
          "2016-02-10",
          "2016-03-18",
          "2016-04-24",
          "2016-05-31",
          "2016-07-07",
          "2016-08-13",
          "2016-09-19",
          "2016-10-26",
          "2016-12-02",
          "2017-01-08",
          "2017-02-14",
          "2017-03-23",
          "2017-04-28",
          "2017-06-04",
          "2017-07-11",
          "2017-08-17",
          "2017-09-23",
          "2017-10-30",
          "2017-12-06",
          "2018-01-12",
          "2018-02-17",
          "2018-03-26",
          "2018-05-02",
          "2018-06-08",
          "2018-07-15",
          "2018-08-21",
          "2018-09-27",
          "2018-11-03",
          "2018-12-09",
          "2019-01-15",
          "2019-02-21",
          "2019-03-30",
          "2019-05-06",
          "2019-06-12",
          "2019-07-19",
          "2019-08-24",
          "2019-09-30",
          "2019-11-06",
          "2019-12-13",
          "2020-01-19",
          "2020-02-25",
          "2020-04-02",
          "2020-05-09",
          "2020-06-15",
          "2020-07-22",
          "2020-08-28",
          "2020-10-04",
          "2020-11-10",
          "2020-12-17",
          "2021-01-23",
          "2021-02-28",
          "2021-04-06",
          "2021-05-13",
          "2021-06-19",
          "2021-07-26",
          "2021-09-01",
          "2021-10-08",
          "2021-11-14",
          "2021-12-20",
          "2022-01-26",
          "2022-03-04",
          "2022-04-10",
          "2022-05-17",
          "2022-06-23",
          "2022-07-30",
          "2022-09-05",
          "2022-10-11",
          "2022-11-17",
          "2022-12-24",
          "2023-01-30",
          "2023-03-08",
          "2023-04-14",
          "2023-05-21",
          "2023-06-26",
          "2023-08-02",
          "2023-09-08",
          "2023-10-15",
          "2023-11-21",
          "2023-12-28",
          "2024-02-03",
          "2024-03-11",
          "2024-04-17",
          "2024-05-24",
          "2024-06-30",
          "2024-08-06",
          "2024-09-12",
          "2024-10-19",
          "2024-11-25",
          "2025-01-01"
         ],
         "xaxis": "x",
         "y": [
          1795.4893304098364,
          1965.4204492438482,
          2151.434417838266,
          2355.053370916538,
          2577.943503124848,
          2821.9287033470564,
          3089.0054794139974,
          3381.3592953408215,
          3701.3824547688396,
          4051.6936769624467,
          4435.15952553986,
          4854.917865295787,
          5314.403539047266,
          5817.376474631127,
          6367.952452035998,
          6970.636782445944,
          7630.361174768672,
          8352.524091348128,
          9143.034923068584,
          10008.362345348976,
          10955.5872506917,
          11992.460690961238,
          13127.467303516718,
          14369.894740183436,
          15729.909667238971,
          17218.640958276737,
          18848.27076074026,
          20632.1341812641,
          22584.828405604287,
          24722.332146021083,
          27062.13639359104,
          29623.387545304548,
          32427.044077241808,
          35496.04804578935,
          38855.51282034753,
          42532.92858361678,
          46558.38728119168,
          50964.8288610899,
          55788.31081827436,
          61068.30324966627,
          66848.01183424325,
          73174.73138106977,
          80100.23283817116,
          87681.1869293595,
          95979.62788537685,
          105063.46106421926,
          115007.01861414967,
          125891.66772671543,
          137806.47645673834,
          150848.94255789943,
          165125.79129747953,
          180753.84877924,
          197860.99792031938,
          216587.22490521584,
          237085.76467927045,
          259524.3548558938,
          284086.608297504,
          310973.5156024535,
          340405.0897917628,
          372622.1666550954,
          407888.3754871199,
          446492.2963414375,
          488749.8214534079,
          535006.7401566496,
          585641.5684448278,
          641068.646331622,
          701741.5283563086,
          768156.6949774197,
          840857.6152260272,
          920439.1938605496,
          1007552.6394167528,
          1102910.7929852658,
          1207293.9613237353,
          1321556.3020319687,
          1446632.8130436903,
          1583546.9836257107,
          1733419.1694951279,
          1897475.7605824156,
          2077059.2164654934,
          2273639.051588814,
          2488823.8601629725,
          2724374.4791364344,
          2982218.3969589476,
          3264465.5260393186,
          3573425.4679557057,
          3911626.412709338,
          4281835.826662849,
          4687083.098459389,
          5130684.3282185085,
          5616269.462873306,
          6147811.999680955,
          6729661.500980121,
          7366579.18624128,
          8063776.892680229,
          8826959.723226484,
          9662372.730848333,
          10576852.021220688,
          11577880.691938313,
          12673650.065991938,
          13873126.720600154
         ],
         "yaxis": "y"
        },
        {
         "marker": {
          "color": "#00a5a6",
          "line": {
           "color": "DarkSlateGrey",
           "width": 1
          },
          "size": 8,
          "symbol": "circle-open"
         },
         "mode": "markers",
         "name": "Top 20",
         "type": "scatter",
         "x": [
          "2023-12-06",
          "2023-11-30",
          "2023-11-22",
          "2023-11-04",
          "2023-10-27",
          "2023-09-06",
          "2023-07-18",
          "2023-07-11",
          "2023-05-10",
          "2023-03-15",
          "2023-02-24",
          "2022-11-28",
          "2022-11-08",
          "2022-10-20",
          "2022-10-20",
          "2022-08-10",
          "2022-08-04",
          "2022-06-29",
          "2022-06-22",
          "2022-05-02",
          "2022-04-29",
          "2022-04-04",
          "2022-03-29",
          "2022-02-17",
          "2022-02-10",
          "2022-02-02",
          "2021-12-23",
          "2021-12-13",
          "2021-12-08",
          "2021-10-12",
          "2021-10-11",
          "2021-09-10",
          "2021-07-27",
          "2021-05-28",
          "2021-05-04",
          "2021-03-01",
          "2021-01-11",
          "2021-01-05",
          "2020-10-20",
          "2020-06-17",
          "2020-05-28",
          "2020-02-13",
          "2020-01-28",
          "2020-01-19",
          "2019-12-13",
          "2019-12-13",
          "2019-10-30",
          "2019-10-23",
          "2019-09-17",
          "2019-09-17",
          "2019-06-01",
          "2019-02-14",
          "2018-09-28",
          "2018-07-03",
          "2018-05-02",
          "2018-02-05",
          "2018-02-05",
          "2017-12-05",
          "2017-10-18",
          "2017-08-11",
          "2017-07-10",
          "2017-01-01",
          "2016-11-05",
          "2016-09-26",
          "2016-01-27",
          "2015-10-01"
         ],
         "xaxis": "x2",
         "y": [
          29827341.919963885,
          null,
          12961959.001361668,
          null,
          null,
          10340911.710964862,
          1099604.9936612176,
          null,
          4865570.06395341,
          40586592.57781653,
          576476.4930991895,
          4625550.747400068,
          901068.6599742996,
          2973979.3313555312,
          2961791.490037434,
          1464700.5362480818,
          820296.6313095269,
          3180655.520142922,
          344852.94872144435,
          731667.6068059877,
          183423.16330597224,
          2945949.763287097,
          null,
          null,
          229949.98625999544,
          null,
          null,
          541437.4162400038,
          616611.1391817601,
          null,
          3704291.3087597536,
          586408.7810520589,
          84799.78517435073,
          92453.37635669748,
          85701.26256441118,
          53844.28059190435,
          139663.55942731188,
          118437.35864214256,
          null,
          98082.33822642289,
          2056969.3385324872,
          51659.713290894986,
          206760.3812904988,
          14226.054462994534,
          null,
          null,
          125758.09814850632,
          75524.39074218823,
          615532.4058320685,
          106142.2892017932,
          null,
          null,
          5170.456705747183,
          null,
          null,
          11766.339677271537,
          53.42846804494412,
          229918.61469698732,
          613480.6258010615,
          null,
          17239.593034773116,
          471445.3247973037,
          null,
          193787.11043815003,
          null,
          null
         ],
         "yaxis": "y2"
        },
        {
         "marker": {
          "color": "#00a5a6"
         },
         "mode": "lines",
         "name": "Predicted",
         "type": "scatter",
         "x": [
          "2015-01-01",
          "2015-02-06",
          "2015-03-15",
          "2015-04-21",
          "2015-05-28",
          "2015-07-04",
          "2015-08-10",
          "2015-09-16",
          "2015-10-22",
          "2015-11-28",
          "2016-01-04",
          "2016-02-10",
          "2016-03-18",
          "2016-04-24",
          "2016-05-31",
          "2016-07-07",
          "2016-08-13",
          "2016-09-19",
          "2016-10-26",
          "2016-12-02",
          "2017-01-08",
          "2017-02-14",
          "2017-03-23",
          "2017-04-28",
          "2017-06-04",
          "2017-07-11",
          "2017-08-17",
          "2017-09-23",
          "2017-10-30",
          "2017-12-06",
          "2018-01-12",
          "2018-02-17",
          "2018-03-26",
          "2018-05-02",
          "2018-06-08",
          "2018-07-15",
          "2018-08-21",
          "2018-09-27",
          "2018-11-03",
          "2018-12-09",
          "2019-01-15",
          "2019-02-21",
          "2019-03-30",
          "2019-05-06",
          "2019-06-12",
          "2019-07-19",
          "2019-08-24",
          "2019-09-30",
          "2019-11-06",
          "2019-12-13",
          "2020-01-19",
          "2020-02-25",
          "2020-04-02",
          "2020-05-09",
          "2020-06-15",
          "2020-07-22",
          "2020-08-28",
          "2020-10-04",
          "2020-11-10",
          "2020-12-17",
          "2021-01-23",
          "2021-02-28",
          "2021-04-06",
          "2021-05-13",
          "2021-06-19",
          "2021-07-26",
          "2021-09-01",
          "2021-10-08",
          "2021-11-14",
          "2021-12-20",
          "2022-01-26",
          "2022-03-04",
          "2022-04-10",
          "2022-05-17",
          "2022-06-23",
          "2022-07-30",
          "2022-09-05",
          "2022-10-11",
          "2022-11-17",
          "2022-12-24",
          "2023-01-30",
          "2023-03-08",
          "2023-04-14",
          "2023-05-21",
          "2023-06-26",
          "2023-08-02",
          "2023-09-08",
          "2023-10-15",
          "2023-11-21",
          "2023-12-28",
          "2024-02-03",
          "2024-03-11",
          "2024-04-17",
          "2024-05-24",
          "2024-06-30",
          "2024-08-06",
          "2024-09-12",
          "2024-10-19",
          "2024-11-25",
          "2025-01-01"
         ],
         "xaxis": "x2",
         "y": [
          2508.077000647171,
          2722.919005511931,
          2956.164387562089,
          3209.3895810349227,
          3484.3060576038956,
          3782.771893694606,
          4106.804328654057,
          4458.593398657738,
          4840.5167384903,
          5255.1556512550715,
          5705.312554610918,
          6194.029921460658,
          6724.610843089272,
          7300.641353752148,
          7926.014667581917,
          8604.957491638506,
          9342.058592921512,
          10142.299812449222,
          11011.08973599571,
          11954.300249076708,
          12978.306223217136,
          14090.028601763997,
          15296.981176435209,
          16607.321370725807,
          18029.905373449572,
          19574.347995005894,
          21251.08765095839,
          23071.45691207378,
          25047.759097717117,
          27193.351430218034,
          29522.73531227287,
          32051.654337463737,
          34797.200696413594,
          37777.93069766649,
          41013.99018413132,
          44527.25069263587,
          48341.457276984394,
          52482.38899350146,
          56978.03313383147,
          61858.7743824312,
          67157.6001773879,
          72910.32366246943,
          79155.82573714312,
          85936.31784073685,
          93297.62724662504,
          101289.50679482776,
          109965.97115614823,
          119385.66190088645,
          129612.24383924574,
          140714.83531241745,
          152768.47534218256,
          165854.63079681084,
          180061.74700066444,
          195485.8455092395,
          212231.17308931387,
          230410.90629110238,
          250147.9163738854,
          271575.5997554721,
          294838.7795975421,
          320094.6846212991,
          347514.01176822744,
          377282.07988878916,
          409600.08225551783,
          444686.4463669996,
          482778.3102328293,
          524133.1251164542,
          569030.3955698707,
          617773.5685192592,
          670692.0841704477,
          728143.6025938935,
          790516.4210401985,
          858232.0983222616,
          931748.3040030539,
          1011561.9116433698,
          1098212.3570189346,
          1192285.2840015437,
          1294416.502747835,
          1405296.286944498,
          1525674.039157947,
          1656363.3558166712,
          1798247.5260619817,
          1952285.5016275474,
          2119518.3781017717,
          2301076.4313758877,
          2498186.7568309167,
          2712181.5629017227,
          2944507.175065667,
          3196733.8111165287,
          3470566.1937834146,
          3767855.072432628,
          4090609.7317156103,
          4441011.571712667,
          4821428.851344888,
          5234432.694715102,
          5682814.468547973,
          6169604.648188494,
          6698093.299652433,
          7271852.316180701,
          7894759.559571521,
          8571025.069468506
         ],
         "yaxis": "y2"
        },
        {
         "marker": {
          "color": "#00a5a6",
          "line": {
           "color": "DarkSlateGrey",
           "width": 1
          },
          "size": 8,
          "symbol": "circle-open"
         },
         "mode": "markers",
         "name": "Top 20",
         "type": "scatter",
         "x": [
          "2023-12-06",
          "2023-11-30",
          "2023-11-22",
          "2023-11-04",
          "2023-11-02",
          "2023-10-27",
          "2023-09-06",
          "2023-07-18",
          "2023-07-11",
          "2023-07-06",
          "2023-05-10",
          "2023-03-15",
          "2023-02-24",
          "2022-11-28",
          "2022-11-08",
          "2022-10-20",
          "2022-10-20",
          "2022-08-10",
          "2022-06-29",
          "2022-06-22",
          "2022-05-02",
          "2022-04-04",
          "2022-03-29",
          "2022-02-17",
          "2022-02-10",
          "2022-02-09",
          "2022-02-02",
          "2021-12-23",
          "2021-12-13",
          "2021-12-08",
          "2021-10-12",
          "2021-10-11",
          "2021-09-10",
          "2021-09-03",
          "2021-07-27",
          "2021-06-09",
          "2021-05-28",
          "2021-05-04",
          "2021-03-01",
          "2021-01-11",
          "2021-01-05",
          "2020-10-20",
          "2020-05-28",
          "2020-02-13",
          "2020-01-28",
          "2019-12-13",
          "2019-12-13",
          "2019-10-30",
          "2019-10-23",
          "2019-09-17",
          "2019-09-17",
          "2019-07-01",
          "2019-06-01",
          "2019-05-29",
          "2019-05-29",
          "2019-04-20",
          "2019-02-14",
          "2018-09-28",
          "2018-07-03",
          "2018-05-02",
          "2017-12-05",
          "2017-10-18",
          "2017-01-01",
          "2016-11-05",
          "2016-09-26",
          "2016-01-27",
          "2015-12-08",
          "2015-10-01"
         ],
         "xaxis": "x3",
         "y": [
          29827341.919963885,
          null,
          12961959.001361668,
          null,
          null,
          null,
          10340911.710964862,
          1099604.9936612176,
          null,
          1818526.294987458,
          4865570.06395341,
          40586592.57781653,
          576476.4930991895,
          4625550.747400068,
          901068.6599742996,
          2973979.3313555312,
          2961791.490037434,
          1464700.5362480818,
          3180655.520142922,
          344852.94872144435,
          731667.6068059877,
          2945949.763287097,
          null,
          null,
          229949.98625999544,
          184272.80736002637,
          null,
          null,
          541437.4162400038,
          616611.1391817601,
          null,
          3704291.3087597536,
          586408.7810520589,
          230526.76439336664,
          84799.78517435073,
          1887.1635925610951,
          92453.37635669748,
          85701.26256441118,
          53844.28059190435,
          139663.55942731188,
          118437.35864214256,
          null,
          2056969.3385324872,
          51659.713290894986,
          206760.3812904988,
          null,
          null,
          125758.09814850632,
          75524.39074218823,
          615532.4058320685,
          106142.2892017932,
          82771.07593250347,
          null,
          9551.591619865148,
          9551.591619865148,
          null,
          null,
          5170.456705747183,
          null,
          null,
          229918.61469698732,
          613480.6258010615,
          471445.3247973037,
          null,
          193787.11043815003,
          null,
          206.30577788417415,
          null
         ],
         "yaxis": "y3"
        },
        {
         "marker": {
          "color": "#00a5a6"
         },
         "mode": "lines",
         "name": "Predicted",
         "type": "scatter",
         "x": [
          "2015-01-01",
          "2015-02-06",
          "2015-03-15",
          "2015-04-21",
          "2015-05-28",
          "2015-07-04",
          "2015-08-10",
          "2015-09-16",
          "2015-10-22",
          "2015-11-28",
          "2016-01-04",
          "2016-02-10",
          "2016-03-18",
          "2016-04-24",
          "2016-05-31",
          "2016-07-07",
          "2016-08-13",
          "2016-09-19",
          "2016-10-26",
          "2016-12-02",
          "2017-01-08",
          "2017-02-14",
          "2017-03-23",
          "2017-04-28",
          "2017-06-04",
          "2017-07-11",
          "2017-08-17",
          "2017-09-23",
          "2017-10-30",
          "2017-12-06",
          "2018-01-12",
          "2018-02-17",
          "2018-03-26",
          "2018-05-02",
          "2018-06-08",
          "2018-07-15",
          "2018-08-21",
          "2018-09-27",
          "2018-11-03",
          "2018-12-09",
          "2019-01-15",
          "2019-02-21",
          "2019-03-30",
          "2019-05-06",
          "2019-06-12",
          "2019-07-19",
          "2019-08-24",
          "2019-09-30",
          "2019-11-06",
          "2019-12-13",
          "2020-01-19",
          "2020-02-25",
          "2020-04-02",
          "2020-05-09",
          "2020-06-15",
          "2020-07-22",
          "2020-08-28",
          "2020-10-04",
          "2020-11-10",
          "2020-12-17",
          "2021-01-23",
          "2021-02-28",
          "2021-04-06",
          "2021-05-13",
          "2021-06-19",
          "2021-07-26",
          "2021-09-01",
          "2021-10-08",
          "2021-11-14",
          "2021-12-20",
          "2022-01-26",
          "2022-03-04",
          "2022-04-10",
          "2022-05-17",
          "2022-06-23",
          "2022-07-30",
          "2022-09-05",
          "2022-10-11",
          "2022-11-17",
          "2022-12-24",
          "2023-01-30",
          "2023-03-08",
          "2023-04-14",
          "2023-05-21",
          "2023-06-26",
          "2023-08-02",
          "2023-09-08",
          "2023-10-15",
          "2023-11-21",
          "2023-12-28",
          "2024-02-03",
          "2024-03-11",
          "2024-04-17",
          "2024-05-24",
          "2024-06-30",
          "2024-08-06",
          "2024-09-12",
          "2024-10-19",
          "2024-11-25",
          "2025-01-01"
         ],
         "xaxis": "x3",
         "y": [
          2539.622657099402,
          2753.247497522237,
          2984.841768292026,
          3235.9169997467116,
          3508.111867263742,
          3803.2028862915886,
          4123.116007009191,
          4469.939184294968,
          4845.936005033444,
          5253.560461714291,
          5695.472968733984,
          6174.557725942757,
          6693.941542746711,
          7257.01424564277,
          7867.450802362842,
          8529.23530703758,
          9246.686982900224,
          10024.488372268055,
          10867.715897764752,
          11781.872994265172,
          12772.926027772368,
          13847.343235691607,
          15012.136942636796,
          16274.909327271009,
          17643.902038930475,
          19128.049987822527,
          20737.03965990065,
          22481.372336963715,
          24372.43263465981,
          26422.562805663227,
          28645.143293021483,
          31054.680059341707,
          33666.89926187315,
          36498.84989132094,
          39569.01504434239,
          42897.4325558599,
          46505.82577863941,
          50417.7453635819,
          54658.722966166184,
          59256.43788208962,
          64240.897699838715,
          69644.6341491827,
          75502.91542370016,
          81853.97636330778,
          88739.26799892278,
          96203.72808810811,
          104296.07440713815,
          113069.12271400739,
          122580.1314573537,
          132891.17548130953,
          144069.55116497164,
          156188.21564111765,
          169326.262960435,
          183569.44030932197,
          199010.70764994982,
          215750.84443574765,
          233899.10736163074,
          253573.9434422953,
          274903.763071924,
          298027.7781116028,
          323096.9104736634,
          350274.7771335397,
          379738.75799704273,
          411681.1535936958,
          446310.44015156035,
          483852.63024420914,
          524552.7478916637,
          568676.4277415816,
          616511.6487689732,
          668370.6138081,
          724591.7871855407,
          785542.1037517186,
          851619.3637297975,
          923254.8290101247,
          1000916.0378379594,
          1085109.8562627397,
          1176385.7862665006,
          1275339.5521593809,
          1382616.988653096,
          1498918.2559852926,
          1625002.4096081175,
          1761692.3542614442,
          1909880.214769109,
          2070533.1586095,
          2244699.708258779,
          2433516.584511427,
          2638216.1254365793,
          2860134.329395677,
          3100719.574607994,
          3361542.072182545,
          3644304.1143054273,
          3950851.1844752673,
          4283184.002289174,
          4643471.581403664,
          5034065.385884826,
          5457514.6773500405,
          5916583.153052545,
          6414266.983516889,
          6953814.367436146,
          7538746.731470966
         ],
         "yaxis": "y3"
        },
        {
         "marker": {
          "color": "#00a5a6",
          "line": {
           "color": "DarkSlateGrey",
           "width": 1
          },
          "size": 8,
          "symbol": "circle-open"
         },
         "mode": "markers",
         "name": "Top 20",
         "type": "scatter",
         "x": [
          "2024-04-18",
          "2024-03-14",
          "2024-03-07",
          "2024-02-23",
          "2023-12-14",
          "2023-12-06",
          "2023-11-30",
          "2023-11-22",
          "2023-11-04",
          "2023-11-02",
          "2023-10-27",
          "2023-09-06",
          "2023-07-18",
          "2023-07-11",
          "2023-07-06",
          "2023-05-10",
          "2023-03-30",
          "2023-03-20",
          "2023-03-15",
          "2023-03-15",
          "2023-02-24",
          "2023-02-10",
          "2022-11-28",
          "2022-11-16",
          "2022-11-08",
          "2022-10-20",
          "2022-10-20",
          "2022-08-10",
          "2022-08-04",
          "2022-08-02",
          "2022-06-29",
          "2022-06-22",
          "2022-05-10",
          "2022-05-02",
          "2022-04-29",
          "2022-04-04",
          "2022-03-29",
          "2022-02-17",
          "2022-02-10",
          "2022-02-09",
          "2022-02-02",
          "2021-12-23",
          "2021-12-13",
          "2021-12-08",
          "2021-10-12",
          "2021-10-11",
          "2021-09-10",
          "2021-07-27",
          "2021-05-28",
          "2021-05-04",
          "2021-03-01",
          "2021-01-11",
          "2021-01-05",
          "2020-10-20",
          "2020-06-17",
          "2020-05-28",
          "2020-01-28",
          "2019-12-13",
          "2019-10-30",
          "2019-10-23",
          "2019-09-17",
          "2018-05-02",
          "2017-12-05",
          "2017-10-18",
          "2017-01-01",
          "2016-09-26",
          "2016-01-27",
          "1963-01-01",
          "1962-06-01",
          "1960-03-30",
          "1959-07-01",
          "1959-02-01",
          "1957-01-01"
         ],
         "xaxis": "x4",
         "y": [
          9628146.322479265,
          null,
          11808687.02410704,
          2623453.852903984,
          null,
          29827341.919963885,
          null,
          12961959.001361668,
          null,
          null,
          null,
          10340911.710964862,
          1099604.9936612176,
          null,
          1818526.294987458,
          4865570.06395341,
          369586.1352802876,
          null,
          40586592.57781653,
          319783.157242365,
          576476.4930991895,
          285555.57016183576,
          4625550.747400068,
          591076.8943544837,
          901068.6599742996,
          2973979.3313555312,
          2961791.490037434,
          1464700.5362480818,
          820296.6313095269,
          267943.21130997164,
          3180655.520142922,
          344852.94872144435,
          126785.76203549476,
          731667.6068059877,
          183423.16330597224,
          2945949.763287097,
          null,
          null,
          229949.98625999544,
          184272.80736002637,
          null,
          null,
          541437.4162400038,
          616611.1391817601,
          null,
          3704291.3087597536,
          586408.7810520589,
          84799.78517435073,
          92453.37635669748,
          85701.26256441118,
          53844.28059190435,
          139663.55942731188,
          118437.35864214256,
          null,
          98082.33822642289,
          2056969.3385324872,
          206760.3812904988,
          null,
          125758.09814850632,
          75524.39074218823,
          615532.4058320685,
          null,
          229918.61469698732,
          613480.6258010615,
          471445.3247973037,
          193787.11043815003,
          null,
          null,
          null,
          null,
          null,
          null,
          null
         ],
         "yaxis": "y4"
        },
        {
         "marker": {
          "color": "#00a5a6"
         },
         "mode": "lines",
         "name": "Predicted",
         "type": "scatter",
         "x": [
          "2015-01-01",
          "2015-02-06",
          "2015-03-15",
          "2015-04-21",
          "2015-05-28",
          "2015-07-04",
          "2015-08-10",
          "2015-09-16",
          "2015-10-22",
          "2015-11-28",
          "2016-01-04",
          "2016-02-10",
          "2016-03-18",
          "2016-04-24",
          "2016-05-31",
          "2016-07-07",
          "2016-08-13",
          "2016-09-19",
          "2016-10-26",
          "2016-12-02",
          "2017-01-08",
          "2017-02-14",
          "2017-03-23",
          "2017-04-28",
          "2017-06-04",
          "2017-07-11",
          "2017-08-17",
          "2017-09-23",
          "2017-10-30",
          "2017-12-06",
          "2018-01-12",
          "2018-02-17",
          "2018-03-26",
          "2018-05-02",
          "2018-06-08",
          "2018-07-15",
          "2018-08-21",
          "2018-09-27",
          "2018-11-03",
          "2018-12-09",
          "2019-01-15",
          "2019-02-21",
          "2019-03-30",
          "2019-05-06",
          "2019-06-12",
          "2019-07-19",
          "2019-08-24",
          "2019-09-30",
          "2019-11-06",
          "2019-12-13",
          "2020-01-19",
          "2020-02-25",
          "2020-04-02",
          "2020-05-09",
          "2020-06-15",
          "2020-07-22",
          "2020-08-28",
          "2020-10-04",
          "2020-11-10",
          "2020-12-17",
          "2021-01-23",
          "2021-02-28",
          "2021-04-06",
          "2021-05-13",
          "2021-06-19",
          "2021-07-26",
          "2021-09-01",
          "2021-10-08",
          "2021-11-14",
          "2021-12-20",
          "2022-01-26",
          "2022-03-04",
          "2022-04-10",
          "2022-05-17",
          "2022-06-23",
          "2022-07-30",
          "2022-09-05",
          "2022-10-11",
          "2022-11-17",
          "2022-12-24",
          "2023-01-30",
          "2023-03-08",
          "2023-04-14",
          "2023-05-21",
          "2023-06-26",
          "2023-08-02",
          "2023-09-08",
          "2023-10-15",
          "2023-11-21",
          "2023-12-28",
          "2024-02-03",
          "2024-03-11",
          "2024-04-17",
          "2024-05-24",
          "2024-06-30",
          "2024-08-06",
          "2024-09-12",
          "2024-10-19",
          "2024-11-25",
          "2025-01-01"
         ],
         "xaxis": "x4",
         "y": [
          24163.742394043216,
          25400.272952411884,
          26700.08045674253,
          28066.40297654406,
          29502.64428296278,
          31012.38232823996,
          32599.37815906979,
          34267.5852861017,
          36021.15953287131,
          37864.46938876716,
          39802.10689176668,
          41838.89906810019,
          43979.919957271806,
          46230.50325248112,
          48596.255587865024,
          51083.070505719086,
          53697.14313840839,
          56444.98564165022,
          59333.44341752959,
          62369.71216773361,
          65561.3558193839,
          68916.32536824596,
          72442.97868620724,
          76150.10134229166,
          80046.92848922513,
          84143.16786995326,
          88449.02400152628,
          92975.22359645047,
          97733.0422850205,
          102734.33270505401,
          107991.55402912875,
          113517.80300270072,
          119326.84657065058,
          125433.15617335566,
          131851.94379787607,
          138599.19987384608,
          145691.73310875232,
          153147.21236161224,
          160984.21065955772,
          169222.2514667,
          177881.85732086693,
          186984.60095923854,
          196553.15906005108,
          206611.36873462392,
          217184.28691012677,
          228298.2527512824,
          239980.9532761285,
          252261.4923297781,
          265170.4630876202,
          278740.02426889836,
          293003.9802500664,
          307997.86527808144,
          323759.0319929554,
          340326.7444804813,
          357742.2760863795,
          376049.01223624917,
          395292.5585168961,
          415520.8542887618,
          436784.2921117942,
          459135.84328313934,
          482631.18979869457,
          507328.86306784156,
          533290.3897260826,
          560580.4449098223,
          589267.0133747212,
          619421.5588583755,
          651119.2021104222,
          684438.9080325802,
          719463.6823956524,
          756280.7786223522,
          794981.9151525911,
          835663.5039315167,
          878426.890590509,
          923378.6069180139,
          970630.6362509986,
          1020300.692446693,
          1072512.513130813,
          1127396.167951018,
          1185088.3826057657,
          1245732.8794539687,
          1309480.7355554788,
          1376490.759032165,
          1446929.8846897457,
          1520973.5898848807,
          1598806.3316719304,
          1680622.006321442,
          1766624.4323525531,
          1857027.8582847526,
          1952057.4963708252,
          2051950.0836444837,
          2156954.4716772404,
          2267332.2465163046,
          2383358.380344119,
          2505321.916487679,
          2633526.689480305,
          2768292.081972846,
          2909953.8203753084,
          3058864.811216808,
          3215396.020302693,
          3379937.3968628664
         ],
         "yaxis": "y4"
        }
       ],
       "layout": {
        "annotations": [
         {
          "font": {
           "size": 16
          },
          "showarrow": false,
          "text": "Top-N=10",
          "x": 0.225,
          "xanchor": "center",
          "xref": "paper",
          "y": 1,
          "yanchor": "bottom",
          "yref": "paper"
         },
         {
          "font": {
           "size": 16
          },
          "showarrow": false,
          "text": "Top 20% of models in year before/after",
          "x": 0.775,
          "xanchor": "center",
          "xref": "paper",
          "y": 1,
          "yanchor": "bottom",
          "yref": "paper"
         },
         {
          "font": {
           "size": 16
          },
          "showarrow": false,
          "text": "Top 15% of models in year before",
          "x": 0.225,
          "xanchor": "center",
          "xref": "paper",
          "y": 0.375,
          "yanchor": "bottom",
          "yref": "paper"
         },
         {
          "font": {
           "size": 16
          },
          "showarrow": false,
          "text": "Top 20% of residuals from trend",
          "x": 0.775,
          "xanchor": "center",
          "xref": "paper",
          "y": 0.375,
          "yanchor": "bottom",
          "yref": "paper"
         },
         {
          "font": {
           "size": 12
          },
          "showarrow": false,
          "text": "2.4x per year",
          "x": "2023-08-02",
          "xref": "x",
          "y": 2.5,
          "yref": "y"
         },
         {
          "font": {
           "size": 12
          },
          "showarrow": false,
          "text": "2.3x per year",
          "x": "2023-08-02",
          "xref": "x2",
          "y": 2.5,
          "yref": "y2"
         },
         {
          "font": {
           "size": 12
          },
          "showarrow": false,
          "text": "2.2x per year",
          "x": "2023-08-02",
          "xref": "x3",
          "y": 2.5,
          "yref": "y3"
         },
         {
          "font": {
           "size": 12
          },
          "showarrow": false,
          "text": "1.6x per year",
          "x": "2023-08-02",
          "xref": "x4",
          "y": 2.5,
          "yref": "y4"
         }
        ],
        "height": 600,
        "margin": {
         "b": 10,
         "l": 10,
         "r": 10,
         "t": 40
        },
        "showlegend": false,
        "template": {
         "data": {
          "bar": [
           {
            "error_x": {
             "color": "#2a3f5f"
            },
            "error_y": {
             "color": "#2a3f5f"
            },
            "marker": {
             "line": {
              "color": "white",
              "width": 0.5
             },
             "pattern": {
              "fillmode": "overlay",
              "size": 10,
              "solidity": 0.2
             }
            },
            "type": "bar"
           }
          ],
          "barpolar": [
           {
            "marker": {
             "line": {
              "color": "white",
              "width": 0.5
             },
             "pattern": {
              "fillmode": "overlay",
              "size": 10,
              "solidity": 0.2
             }
            },
            "type": "barpolar"
           }
          ],
          "carpet": [
           {
            "aaxis": {
             "endlinecolor": "#2a3f5f",
             "gridcolor": "#C8D4E3",
             "linecolor": "#C8D4E3",
             "minorgridcolor": "#C8D4E3",
             "startlinecolor": "#2a3f5f"
            },
            "baxis": {
             "endlinecolor": "#2a3f5f",
             "gridcolor": "#C8D4E3",
             "linecolor": "#C8D4E3",
             "minorgridcolor": "#C8D4E3",
             "startlinecolor": "#2a3f5f"
            },
            "type": "carpet"
           }
          ],
          "choropleth": [
           {
            "colorbar": {
             "outlinewidth": 0,
             "ticks": ""
            },
            "type": "choropleth"
           }
          ],
          "contour": [
           {
            "colorbar": {
             "outlinewidth": 0,
             "ticks": ""
            },
            "colorscale": [
             [
              0,
              "#0d0887"
             ],
             [
              0.1111111111111111,
              "#46039f"
             ],
             [
              0.2222222222222222,
              "#7201a8"
             ],
             [
              0.3333333333333333,
              "#9c179e"
             ],
             [
              0.4444444444444444,
              "#bd3786"
             ],
             [
              0.5555555555555556,
              "#d8576b"
             ],
             [
              0.6666666666666666,
              "#ed7953"
             ],
             [
              0.7777777777777778,
              "#fb9f3a"
             ],
             [
              0.8888888888888888,
              "#fdca26"
             ],
             [
              1,
              "#f0f921"
             ]
            ],
            "type": "contour"
           }
          ],
          "contourcarpet": [
           {
            "colorbar": {
             "outlinewidth": 0,
             "ticks": ""
            },
            "type": "contourcarpet"
           }
          ],
          "heatmap": [
           {
            "colorbar": {
             "outlinewidth": 0,
             "ticks": ""
            },
            "colorscale": [
             [
              0,
              "#0d0887"
             ],
             [
              0.1111111111111111,
              "#46039f"
             ],
             [
              0.2222222222222222,
              "#7201a8"
             ],
             [
              0.3333333333333333,
              "#9c179e"
             ],
             [
              0.4444444444444444,
              "#bd3786"
             ],
             [
              0.5555555555555556,
              "#d8576b"
             ],
             [
              0.6666666666666666,
              "#ed7953"
             ],
             [
              0.7777777777777778,
              "#fb9f3a"
             ],
             [
              0.8888888888888888,
              "#fdca26"
             ],
             [
              1,
              "#f0f921"
             ]
            ],
            "type": "heatmap"
           }
          ],
          "heatmapgl": [
           {
            "colorbar": {
             "outlinewidth": 0,
             "ticks": ""
            },
            "colorscale": [
             [
              0,
              "#0d0887"
             ],
             [
              0.1111111111111111,
              "#46039f"
             ],
             [
              0.2222222222222222,
              "#7201a8"
             ],
             [
              0.3333333333333333,
              "#9c179e"
             ],
             [
              0.4444444444444444,
              "#bd3786"
             ],
             [
              0.5555555555555556,
              "#d8576b"
             ],
             [
              0.6666666666666666,
              "#ed7953"
             ],
             [
              0.7777777777777778,
              "#fb9f3a"
             ],
             [
              0.8888888888888888,
              "#fdca26"
             ],
             [
              1,
              "#f0f921"
             ]
            ],
            "type": "heatmapgl"
           }
          ],
          "histogram": [
           {
            "marker": {
             "pattern": {
              "fillmode": "overlay",
              "size": 10,
              "solidity": 0.2
             }
            },
            "type": "histogram"
           }
          ],
          "histogram2d": [
           {
            "colorbar": {
             "outlinewidth": 0,
             "ticks": ""
            },
            "colorscale": [
             [
              0,
              "#0d0887"
             ],
             [
              0.1111111111111111,
              "#46039f"
             ],
             [
              0.2222222222222222,
              "#7201a8"
             ],
             [
              0.3333333333333333,
              "#9c179e"
             ],
             [
              0.4444444444444444,
              "#bd3786"
             ],
             [
              0.5555555555555556,
              "#d8576b"
             ],
             [
              0.6666666666666666,
              "#ed7953"
             ],
             [
              0.7777777777777778,
              "#fb9f3a"
             ],
             [
              0.8888888888888888,
              "#fdca26"
             ],
             [
              1,
              "#f0f921"
             ]
            ],
            "type": "histogram2d"
           }
          ],
          "histogram2dcontour": [
           {
            "colorbar": {
             "outlinewidth": 0,
             "ticks": ""
            },
            "colorscale": [
             [
              0,
              "#0d0887"
             ],
             [
              0.1111111111111111,
              "#46039f"
             ],
             [
              0.2222222222222222,
              "#7201a8"
             ],
             [
              0.3333333333333333,
              "#9c179e"
             ],
             [
              0.4444444444444444,
              "#bd3786"
             ],
             [
              0.5555555555555556,
              "#d8576b"
             ],
             [
              0.6666666666666666,
              "#ed7953"
             ],
             [
              0.7777777777777778,
              "#fb9f3a"
             ],
             [
              0.8888888888888888,
              "#fdca26"
             ],
             [
              1,
              "#f0f921"
             ]
            ],
            "type": "histogram2dcontour"
           }
          ],
          "mesh3d": [
           {
            "colorbar": {
             "outlinewidth": 0,
             "ticks": ""
            },
            "type": "mesh3d"
           }
          ],
          "parcoords": [
           {
            "line": {
             "colorbar": {
              "outlinewidth": 0,
              "ticks": ""
             }
            },
            "type": "parcoords"
           }
          ],
          "pie": [
           {
            "automargin": true,
            "type": "pie"
           }
          ],
          "scatter": [
           {
            "fillpattern": {
             "fillmode": "overlay",
             "size": 10,
             "solidity": 0.2
            },
            "type": "scatter"
           }
          ],
          "scatter3d": [
           {
            "line": {
             "colorbar": {
              "outlinewidth": 0,
              "ticks": ""
             }
            },
            "marker": {
             "colorbar": {
              "outlinewidth": 0,
              "ticks": ""
             }
            },
            "type": "scatter3d"
           }
          ],
          "scattercarpet": [
           {
            "marker": {
             "colorbar": {
              "outlinewidth": 0,
              "ticks": ""
             }
            },
            "type": "scattercarpet"
           }
          ],
          "scattergeo": [
           {
            "marker": {
             "colorbar": {
              "outlinewidth": 0,
              "ticks": ""
             }
            },
            "type": "scattergeo"
           }
          ],
          "scattergl": [
           {
            "marker": {
             "colorbar": {
              "outlinewidth": 0,
              "ticks": ""
             }
            },
            "type": "scattergl"
           }
          ],
          "scattermapbox": [
           {
            "marker": {
             "colorbar": {
              "outlinewidth": 0,
              "ticks": ""
             }
            },
            "type": "scattermapbox"
           }
          ],
          "scatterpolar": [
           {
            "marker": {
             "colorbar": {
              "outlinewidth": 0,
              "ticks": ""
             }
            },
            "type": "scatterpolar"
           }
          ],
          "scatterpolargl": [
           {
            "marker": {
             "colorbar": {
              "outlinewidth": 0,
              "ticks": ""
             }
            },
            "type": "scatterpolargl"
           }
          ],
          "scatterternary": [
           {
            "marker": {
             "colorbar": {
              "outlinewidth": 0,
              "ticks": ""
             }
            },
            "type": "scatterternary"
           }
          ],
          "surface": [
           {
            "colorbar": {
             "outlinewidth": 0,
             "ticks": ""
            },
            "colorscale": [
             [
              0,
              "#0d0887"
             ],
             [
              0.1111111111111111,
              "#46039f"
             ],
             [
              0.2222222222222222,
              "#7201a8"
             ],
             [
              0.3333333333333333,
              "#9c179e"
             ],
             [
              0.4444444444444444,
              "#bd3786"
             ],
             [
              0.5555555555555556,
              "#d8576b"
             ],
             [
              0.6666666666666666,
              "#ed7953"
             ],
             [
              0.7777777777777778,
              "#fb9f3a"
             ],
             [
              0.8888888888888888,
              "#fdca26"
             ],
             [
              1,
              "#f0f921"
             ]
            ],
            "type": "surface"
           }
          ],
          "table": [
           {
            "cells": {
             "fill": {
              "color": "#EBF0F8"
             },
             "line": {
              "color": "white"
             }
            },
            "header": {
             "fill": {
              "color": "#C8D4E3"
             },
             "line": {
              "color": "white"
             }
            },
            "type": "table"
           }
          ]
         },
         "layout": {
          "annotationdefaults": {
           "arrowcolor": "#2a3f5f",
           "arrowhead": 0,
           "arrowwidth": 1
          },
          "autotypenumbers": "strict",
          "coloraxis": {
           "colorbar": {
            "outlinewidth": 0,
            "ticks": ""
           }
          },
          "colorscale": {
           "diverging": [
            [
             0,
             "#8e0152"
            ],
            [
             0.1,
             "#c51b7d"
            ],
            [
             0.2,
             "#de77ae"
            ],
            [
             0.3,
             "#f1b6da"
            ],
            [
             0.4,
             "#fde0ef"
            ],
            [
             0.5,
             "#f7f7f7"
            ],
            [
             0.6,
             "#e6f5d0"
            ],
            [
             0.7,
             "#b8e186"
            ],
            [
             0.8,
             "#7fbc41"
            ],
            [
             0.9,
             "#4d9221"
            ],
            [
             1,
             "#276419"
            ]
           ],
           "sequential": [
            [
             0,
             "#0d0887"
            ],
            [
             0.1111111111111111,
             "#46039f"
            ],
            [
             0.2222222222222222,
             "#7201a8"
            ],
            [
             0.3333333333333333,
             "#9c179e"
            ],
            [
             0.4444444444444444,
             "#bd3786"
            ],
            [
             0.5555555555555556,
             "#d8576b"
            ],
            [
             0.6666666666666666,
             "#ed7953"
            ],
            [
             0.7777777777777778,
             "#fb9f3a"
            ],
            [
             0.8888888888888888,
             "#fdca26"
            ],
            [
             1,
             "#f0f921"
            ]
           ],
           "sequentialminus": [
            [
             0,
             "#0d0887"
            ],
            [
             0.1111111111111111,
             "#46039f"
            ],
            [
             0.2222222222222222,
             "#7201a8"
            ],
            [
             0.3333333333333333,
             "#9c179e"
            ],
            [
             0.4444444444444444,
             "#bd3786"
            ],
            [
             0.5555555555555556,
             "#d8576b"
            ],
            [
             0.6666666666666666,
             "#ed7953"
            ],
            [
             0.7777777777777778,
             "#fb9f3a"
            ],
            [
             0.8888888888888888,
             "#fdca26"
            ],
            [
             1,
             "#f0f921"
            ]
           ]
          },
          "colorway": [
           "#636efa",
           "#EF553B",
           "#00cc96",
           "#ab63fa",
           "#FFA15A",
           "#19d3f3",
           "#FF6692",
           "#B6E880",
           "#FF97FF",
           "#FECB52"
          ],
          "font": {
           "color": "#2a3f5f"
          },
          "geo": {
           "bgcolor": "white",
           "lakecolor": "white",
           "landcolor": "white",
           "showlakes": true,
           "showland": true,
           "subunitcolor": "#C8D4E3"
          },
          "hoverlabel": {
           "align": "left"
          },
          "hovermode": "closest",
          "mapbox": {
           "style": "light"
          },
          "paper_bgcolor": "white",
          "plot_bgcolor": "white",
          "polar": {
           "angularaxis": {
            "gridcolor": "#EBF0F8",
            "linecolor": "#EBF0F8",
            "ticks": ""
           },
           "bgcolor": "white",
           "radialaxis": {
            "gridcolor": "#EBF0F8",
            "linecolor": "#EBF0F8",
            "ticks": ""
           }
          },
          "scene": {
           "xaxis": {
            "backgroundcolor": "white",
            "gridcolor": "#DFE8F3",
            "gridwidth": 2,
            "linecolor": "#EBF0F8",
            "showbackground": true,
            "ticks": "",
            "zerolinecolor": "#EBF0F8"
           },
           "yaxis": {
            "backgroundcolor": "white",
            "gridcolor": "#DFE8F3",
            "gridwidth": 2,
            "linecolor": "#EBF0F8",
            "showbackground": true,
            "ticks": "",
            "zerolinecolor": "#EBF0F8"
           },
           "zaxis": {
            "backgroundcolor": "white",
            "gridcolor": "#DFE8F3",
            "gridwidth": 2,
            "linecolor": "#EBF0F8",
            "showbackground": true,
            "ticks": "",
            "zerolinecolor": "#EBF0F8"
           }
          },
          "shapedefaults": {
           "line": {
            "color": "#2a3f5f"
           }
          },
          "ternary": {
           "aaxis": {
            "gridcolor": "#DFE8F3",
            "linecolor": "#A2B1C6",
            "ticks": ""
           },
           "baxis": {
            "gridcolor": "#DFE8F3",
            "linecolor": "#A2B1C6",
            "ticks": ""
           },
           "bgcolor": "white",
           "caxis": {
            "gridcolor": "#DFE8F3",
            "linecolor": "#A2B1C6",
            "ticks": ""
           }
          },
          "title": {
           "x": 0.05
          },
          "xaxis": {
           "automargin": true,
           "gridcolor": "#EBF0F8",
           "linecolor": "#EBF0F8",
           "ticks": "",
           "title": {
            "standoff": 15
           },
           "zerolinecolor": "#EBF0F8",
           "zerolinewidth": 2
          },
          "yaxis": {
           "automargin": true,
           "gridcolor": "#EBF0F8",
           "linecolor": "#EBF0F8",
           "ticks": "",
           "title": {
            "standoff": 15
           },
           "zerolinecolor": "#EBF0F8",
           "zerolinewidth": 2
          }
         }
        },
        "width": 800,
        "xaxis": {
         "anchor": "y",
         "domain": [
          0,
          0.45
         ],
         "range": [
          "2015-01-01",
          "2025-01-01"
         ]
        },
        "xaxis2": {
         "anchor": "y2",
         "domain": [
          0.55,
          1
         ],
         "range": [
          "2015-01-01",
          "2025-01-01"
         ]
        },
        "xaxis3": {
         "anchor": "y3",
         "domain": [
          0,
          0.45
         ],
         "range": [
          "2015-01-01",
          "2025-01-01"
         ],
         "title": {
          "text": "Publication date"
         }
        },
        "xaxis4": {
         "anchor": "y4",
         "domain": [
          0.55,
          1
         ],
         "range": [
          "2015-01-01",
          "2025-01-01"
         ],
         "title": {
          "text": "Publication date"
         }
        },
        "yaxis": {
         "anchor": "x",
         "domain": [
          0.625,
          1
         ],
         "range": [
          1,
          9
         ],
         "title": {
          "text": "Cost (2023 USD, log scale)"
         },
         "type": "log"
        },
        "yaxis2": {
         "anchor": "x2",
         "domain": [
          0.625,
          1
         ],
         "range": [
          1,
          9
         ],
         "type": "log"
        },
        "yaxis3": {
         "anchor": "x3",
         "domain": [
          0,
          0.375
         ],
         "range": [
          1,
          9
         ],
         "title": {
          "text": "Cost (2023 USD, log scale)"
         },
         "type": "log"
        },
        "yaxis4": {
         "anchor": "x4",
         "domain": [
          0,
          0.375
         ],
         "range": [
          1,
          9
         ],
         "type": "log"
        }
       }
      }
     },
     "metadata": {},
     "output_type": "display_data"
    }
   ],
   "source": [
    "selection_methods = ['top_n=10', 'window_percentile=80', 'backward_window_percentile=85', 'residual_from_trend=80']\n",
    "subplot_titles = ['Top-N=10', 'Top 20% of models in year before/after', 'Top 15% of models in year before', 'Top 20% of residuals from trend']\n",
    "# Create figure with subplots\n",
    "fig = make_subplots(rows=2, cols=2, subplot_titles=subplot_titles)\n",
    "\n",
    "for i, selection_method in enumerate(selection_methods):\n",
    "    results_name = f'hardware-capex-energy-{selection_method}-original'\n",
    "    method_results_dir = f'results/{results_name}/'\n",
    "    cost_df = pd.read_csv(method_results_dir + 'cost_dataset.csv')\n",
    "    col = 'Cost (inflation-adjusted)'\n",
    "\n",
    "    fig.add_trace(\n",
    "        go.Scatter(\n",
    "            x=cost_df['Publication date'],\n",
    "            y=cost_df[col],\n",
    "            mode='markers',\n",
    "            # open circles\n",
    "            marker=dict(\n",
    "                size=8,\n",
    "                line=dict(width=1, color='DarkSlateGrey'),\n",
    "                symbol='circle-open',\n",
    "            ),\n",
    "            name=f'Top {n}',\n",
    "        ),\n",
    "        row=i // 2 + 1,\n",
    "        col=i % 2 + 1,\n",
    "    )\n",
    "\n",
    "    # predictions\n",
    "    predicted_cost_df = pd.read_csv(method_results_dir + 'predicted_cost_dataset.csv')\n",
    "    fig.add_trace(\n",
    "        go.Scatter(\n",
    "            x=predicted_cost_df['Publication date'],\n",
    "            y=10**predicted_cost_df['mean'],\n",
    "            mode='lines',\n",
    "            name='Predicted',\n",
    "        ),\n",
    "        row=i // 2 + 1,\n",
    "        col=i % 2 + 1,\n",
    "    )\n",
    "\n",
    "    slope = predicted_cost_df['mean'].diff().iloc[1] / predicted_cost_df['Publication date (float)'].diff().iloc[1]\n",
    "    # annotate slope\n",
    "    fig.add_annotation(\n",
    "        x=predicted_cost_df['Publication date'].iloc[-15],\n",
    "        y=2.5,\n",
    "        text=f'{10**slope:.2g}x per year',\n",
    "        showarrow=False,\n",
    "        font=dict(\n",
    "            size=12,\n",
    "        ),\n",
    "        row=i // 2 + 1,\n",
    "        col=i % 2 + 1,\n",
    "    )\n",
    "\n",
    "    # log y axis\n",
    "    fig.update_yaxes(type='log', row=i // 2 + 1, col=i % 2 + 1)\n",
    "    # y limits\n",
    "    fig.update_yaxes(range=[1, 9], row=i // 2 + 1, col=i % 2 + 1)\n",
    "    fig.update_xaxes(range=['2015-01-01', '2025-01-01'], row=i // 2 + 1, col=i % 2 + 1)\n",
    "    # Same color for all traces: #00a5a6\n",
    "    fig.update_traces(marker=dict(color='#00a5a6'), row=i // 2 + 1, col=i % 2 + 1)\n",
    "    # axis labels\n",
    "    if i % 2 == 0:\n",
    "        fig.update_yaxes(title_text='Cost (2023 USD, log scale)', row=i // 2 + 1, col=i % 2 + 1)\n",
    "    if i // 2 == 1:\n",
    "        fig.update_xaxes(title_text='Publication date', row=i // 2 + 1, col=i % 2 + 1)\n",
    "\n",
    "# Update layout\n",
    "fig.update_layout(\n",
    "    width=800,\n",
    "    height=600,\n",
    "    showlegend=False,\n",
    ")\n",
    "\n",
    "# plotly white style\n",
    "fig.update_layout(template='plotly_white')\n",
    "# no grid\n",
    "# fig.update_xaxes(showgrid=False)\n",
    "# fig.update_yaxes(showgrid=False)\n",
    "\n",
    "# margins\n",
    "fig.update_layout(margin=dict(l=10, r=10, t=40, b=10))\n",
    "\n",
    "save_plot(fig, results_dir, 'model_selection_comparison')\n",
    "\n",
    "# Show the figure\n",
    "fig.show()"
   ]
  },
  {
   "cell_type": "code",
   "execution_count": null,
   "metadata": {},
   "outputs": [],
   "source": []
  }
 ],
 "metadata": {
  "kernelspec": {
   "display_name": "epoch",
   "language": "python",
   "name": "python3"
  },
  "language_info": {
   "codemirror_mode": {
    "name": "ipython",
    "version": 3
   },
   "file_extension": ".py",
   "mimetype": "text/x-python",
   "name": "python",
   "nbconvert_exporter": "python",
   "pygments_lexer": "ipython3",
   "version": "3.12.3"
  }
 },
 "nbformat": 4,
 "nbformat_minor": 2
}
