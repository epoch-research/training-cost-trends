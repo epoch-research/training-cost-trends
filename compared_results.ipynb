{
 "cells": [
  {
   "cell_type": "code",
   "execution_count": 15,
   "metadata": {},
   "outputs": [
    {
     "name": "stdout",
     "output_type": "stream",
     "text": [
      "The autoreload extension is already loaded. To reload it, use:\n",
      "  %reload_ext autoreload\n"
     ]
    }
   ],
   "source": [
    "%load_ext autoreload\n",
    "%autoreload 2"
   ]
  },
  {
   "cell_type": "code",
   "execution_count": 16,
   "metadata": {},
   "outputs": [],
   "source": [
    "import numpy as np\n",
    "import os\n",
    "import pandas as pd\n",
    "import plotly.express as px\n",
    "import statsmodels.api as sm\n",
    "from statsmodels.stats.diagnostic import breaks_cusumolsresid\n",
    "\n",
    "from plotting import *\n",
    "from regression import *\n",
    "from utils import *"
   ]
  },
  {
   "cell_type": "code",
   "execution_count": 17,
   "metadata": {},
   "outputs": [],
   "source": [
    "# Load two results CSVs\n",
    "results_name1 = 'hardware-capex-opex-top_n=10-clip-training-start-date'\n",
    "results_name2 = 'hardware-capex-opex-top_n=10-long-depreciation-time'\n",
    "results_dir1 = f'results/{results_name1}/'\n",
    "results_dir2 = f'results/{results_name2}/'\n",
    "results_dir = f'results/{results_name1}-vs-{results_name2}/'\n",
    "os.makedirs(results_dir, exist_ok=True)"
   ]
  },
  {
   "cell_type": "code",
   "execution_count": 18,
   "metadata": {},
   "outputs": [],
   "source": [
    "cost_df1 = pd.read_csv(results_dir1 + 'price dataset.csv')\n",
    "cost_df2 = pd.read_csv(results_dir2 + 'price dataset.csv')"
   ]
  },
  {
   "cell_type": "code",
   "execution_count": 19,
   "metadata": {},
   "outputs": [],
   "source": [
    "col = 'Cost (inflation-adjusted)'"
   ]
  },
  {
   "cell_type": "code",
   "execution_count": 20,
   "metadata": {},
   "outputs": [
    {
     "name": "stdout",
     "output_type": "stream",
     "text": [
      "Ratio stats: hardware-capex-opex-top_n=10-long-depreciation-time / hardware-capex-opex-top_n=10-clip-training-start-date\n",
      "Median: 0.98 [95% CI: 0.92, 1]\n",
      "Mean: 0.96\n"
     ]
    }
   ],
   "source": [
    "# Relative error stats\n",
    "ratios = cost_df2[col] / cost_df1[col]\n",
    "print(f'Ratio stats: {results_name2} / {results_name1}')\n",
    "print_median_and_ci(ratios.dropna(), ci=[2.5, 97.5])\n",
    "print(f'Mean: {ratios.mean():.2g}')"
   ]
  },
  {
   "cell_type": "code",
   "execution_count": 21,
   "metadata": {},
   "outputs": [
    {
     "data": {
      "text/plain": [
       "47"
      ]
     },
     "execution_count": 21,
     "metadata": {},
     "output_type": "execute_result"
    }
   ],
   "source": [
    "len(ratios.dropna())"
   ]
  },
  {
   "cell_type": "code",
   "execution_count": 22,
   "metadata": {},
   "outputs": [
    {
     "data": {
      "text/plain": [
       "(75432.13544543555, 69084.70145319075)"
      ]
     },
     "execution_count": 22,
     "metadata": {},
     "output_type": "execute_result"
    }
   ],
   "source": [
    "cost_df1.iloc[ratios.argmin()][col], cost_df2.iloc[ratios.argmin()][col]"
   ]
  },
  {
   "cell_type": "code",
   "execution_count": 23,
   "metadata": {},
   "outputs": [
    {
     "data": {
      "text/plain": [
       "(61697354.64033398, 61697354.64033398)"
      ]
     },
     "execution_count": 23,
     "metadata": {},
     "output_type": "execute_result"
    }
   ],
   "source": [
    "cost_df1.iloc[ratios.argmax()][col], cost_df2.iloc[ratios.argmax()][col]"
   ]
  },
  {
   "cell_type": "markdown",
   "metadata": {},
   "source": [
    "# Difference in regression"
   ]
  },
  {
   "cell_type": "code",
   "execution_count": 24,
   "metadata": {},
   "outputs": [],
   "source": [
    "cost_df1['Publication date (float)'] = datetime_to_float_year(pd.to_datetime(cost_df1['Publication date']))\n",
    "cost_df2['Publication date (float)'] = datetime_to_float_year(pd.to_datetime(cost_df2['Publication date']))"
   ]
  },
  {
   "cell_type": "code",
   "execution_count": 25,
   "metadata": {},
   "outputs": [
    {
     "name": "stdout",
     "output_type": "stream",
     "text": [
      "Slope 1: 0.38 (SE: 0.05)\n",
      "Slope 2: 0.38 (SE: 0.05)\n",
      "Test statistic: -0.01\n",
      "p-value: 1.00\n"
     ]
    },
    {
     "data": {
      "text/plain": [
       "(-0.006117921703975701, 0.9951321757698937)"
      ]
     },
     "execution_count": 25,
     "metadata": {},
     "output_type": "execute_result"
    }
   ],
   "source": [
    "# Compare slopes\n",
    "regression_slope_t_test(cost_df1, cost_df2, ['Publication date (float)'], col, logy=True)"
   ]
  },
  {
   "cell_type": "code",
   "execution_count": 26,
   "metadata": {},
   "outputs": [
    {
     "name": "stdout",
     "output_type": "stream",
     "text": [
      "Chow Test F-statistic: 0.008307776359542725\n",
      "p-value: 0.9917273982881428\n"
     ]
    },
    {
     "data": {
      "text/plain": [
       "(0.008307776359542725, 0.9917273982881428)"
      ]
     },
     "execution_count": 26,
     "metadata": {},
     "output_type": "execute_result"
    }
   ],
   "source": [
    "# Compare slopes and intercepts\n",
    "chow_test(cost_df1, cost_df2, ['Publication date (float)'], col, logy=True)"
   ]
  },
  {
   "cell_type": "markdown",
   "metadata": {},
   "source": [
    "# Plots"
   ]
  },
  {
   "cell_type": "code",
   "execution_count": 27,
   "metadata": {},
   "outputs": [],
   "source": [
    "# Add a new column to differentiate the DataFrames\n",
    "cost_df1['Source'] = results_name1\n",
    "cost_df2['Source'] = results_name2\n",
    "\n",
    "# Combine the DataFrames\n",
    "combined_cost_df = pd.concat([cost_df1, cost_df2])"
   ]
  },
  {
   "cell_type": "code",
   "execution_count": 28,
   "metadata": {},
   "outputs": [
    {
     "data": {
      "application/vnd.plotly.v1+json": {
       "config": {
        "plotlyServerURL": "https://plot.ly"
       },
       "data": [
        {
         "customdata": [
          [
           "Gemini Ultra"
          ],
          [
           "Inflection-2"
          ],
          [
           "Grok-1"
          ],
          [
           "ChatGLM3"
          ],
          [
           "Falcon-180B"
          ],
          [
           "Llama 2-70B"
          ],
          [
           "Claude 2"
          ],
          [
           "xTrimoPGLM -100B"
          ],
          [
           "PaLM 2"
          ],
          [
           "GPT-4"
          ],
          [
           "LLaMA-65B"
          ],
          [
           "GPT-3.5 (text-davinci-003)"
          ],
          [
           "BLOOM-176B"
          ],
          [
           "U-PaLM (540B)"
          ],
          [
           "BlenderBot 3"
          ],
          [
           "GLM-130B"
          ],
          [
           "Minerva (540B)"
          ],
          [
           "Parti"
          ],
          [
           "OPT-175B"
          ],
          [
           "PaLM (540B)"
          ],
          [
           "Chinchilla"
          ],
          [
           "ST-MoE"
          ],
          [
           "LaMDA"
          ],
          [
           "AlphaCode"
          ],
          [
           "ERNIE 3.0 Titan"
          ],
          [
           "GLaM"
          ],
          [
           "Gopher (280B)"
          ],
          [
           "Yuan 1.0"
          ],
          [
           "Megatron-Turing NLG 530B"
          ],
          [
           "HyperCLOVA"
          ],
          [
           "GOAT"
          ],
          [
           "ByT5-XXL"
          ],
          [
           "ProtT5-XXL"
          ],
          [
           "Meta Pseudo Labels"
          ],
          [
           "Switch"
          ],
          [
           "DALL-E"
          ],
          [
           "mT5-XXL"
          ],
          [
           "iGPT-XL"
          ],
          [
           "GPT-3 175B (davinci)"
          ],
          [
           "Turing-NLG"
          ],
          [
           "Meena"
          ],
          [
           "OpenAI Five"
          ],
          [
           "OpenAI Five Rerun"
          ],
          [
           "AlphaStar"
          ],
          [
           "T5-11B"
          ],
          [
           "Megatron-BERT"
          ],
          [
           "Megatron-LM (8.3B)"
          ],
          [
           "RoBERTa Large"
          ],
          [
           "XLNet"
          ],
          [
           "GPT-2 (1.5B)"
          ],
          [
           "BigGAN-deep 512x512"
          ],
          [
           "FTW"
          ],
          [
           "ResNeXt-101 32x48d"
          ],
          [
           "AlphaZero"
          ],
          [
           "AlphaGo Zero"
          ],
          [
           "OpenAI TI7 DOTA 1v1"
          ],
          [
           "JFT"
          ],
          [
           "MoE"
          ],
          [
           "Libratus"
          ],
          [
           "AlphaGo Master"
          ],
          [
           "PolyNet"
          ],
          [
           "NASv3 (CIFAR-10)"
          ],
          [
           "Xception"
          ],
          [
           "GNMT"
          ],
          [
           "AlphaGo Lee"
          ],
          [
           "ResNet-152 (ImageNet)"
          ],
          [
           "DeepSpeech2 (English)"
          ]
         ],
         "hovertemplate": "Source=hardware-capex-opex-top_n=10-clip-training-start-date<br>Publication date=%{x}<br>Cost (inflation-adjusted)=%{y}<br>System=%{customdata[0]}<extra></extra>",
         "legendgroup": "hardware-capex-opex-top_n=10-clip-training-start-date",
         "marker": {
          "color": "#636efa",
          "symbol": "circle"
         },
         "mode": "markers",
         "name": "hardware-capex-opex-top_n=10-clip-training-start-date",
         "orientation": "v",
         "showlegend": true,
         "textposition": "top center",
         "type": "scatter",
         "x": [
          "2023-12-06",
          "2023-11-22",
          "2023-11-04",
          "2023-10-27",
          "2023-09-06",
          "2023-07-18",
          "2023-07-11",
          "2023-07-06",
          "2023-05-10",
          "2023-03-15",
          "2023-02-24",
          "2022-11-28",
          "2022-11-08",
          "2022-10-20",
          "2022-08-10",
          "2022-08-04",
          "2022-06-29",
          "2022-06-22",
          "2022-05-02",
          "2022-04-04",
          "2022-03-29",
          "2022-02-17",
          "2022-02-10",
          "2022-02-02",
          "2021-12-23",
          "2021-12-13",
          "2021-12-08",
          "2021-10-12",
          "2021-10-11",
          "2021-09-10",
          "2021-07-27",
          "2021-05-28",
          "2021-05-04",
          "2021-03-01",
          "2021-01-11",
          "2021-01-05",
          "2020-10-20",
          "2020-06-17",
          "2020-05-28",
          "2020-02-13",
          "2020-01-28",
          "2019-12-13",
          "2019-12-13",
          "2019-10-30",
          "2019-10-23",
          "2019-09-17",
          "2019-09-17",
          "2019-07-01",
          "2019-06-01",
          "2019-02-14",
          "2018-09-28",
          "2018-07-03",
          "2018-05-02",
          "2017-12-05",
          "2017-10-18",
          "2017-08-11",
          "2017-07-10",
          "2017-01-23",
          "2017-01-01",
          "2017-01-01",
          "2016-11-17",
          "2016-11-05",
          "2016-10-07",
          "2016-09-26",
          "2016-01-27",
          "2015-12-10",
          "2015-12-08"
         ],
         "xaxis": "x",
         "y": [
          61697354.64033398,
          11825885.11729019,
          null,
          null,
          9482422.669286696,
          1006204.1710690864,
          null,
          1666930.5926409296,
          9852913.29624476,
          38049016.45322569,
          528162.6642013838,
          4335841.64553766,
          823892.1236865582,
          6104775.43282803,
          1338411.212051327,
          750783.27602691,
          6527671.206932123,
          705667.3822525932,
          668018.8178263025,
          6047535.739461981,
          null,
          null,
          392389.9969413064,
          null,
          null,
          1119863.1451616385,
          1064889.698085767,
          null,
          3376314.209922377,
          535427.1892226561,
          147403.99530966743,
          161162.90484373935,
          149556.80570478877,
          94135.64421868997,
          244856.480875858,
          108345.66063594005,
          null,
          89569.2858615167,
          1924068.0198088563,
          47113.24916804382,
          368195.7280143115,
          null,
          null,
          224477.18726342724,
          134748.7615157698,
          574758.4105663693,
          96818.06329558624,
          75432.13544543555,
          null,
          null,
          9307.110651726472,
          null,
          null,
          744124.841662127,
          1128917.458673364,
          null,
          15860.498980348557,
          3551.831028402652,
          null,
          870797.9060010354,
          578.8940097623396,
          null,
          11578.201892052892,
          126039.46659899356,
          null,
          null,
          192.9344923808294
         ],
         "yaxis": "y"
        },
        {
         "customdata": [
          [
           "Gemini Ultra"
          ],
          [
           "Inflection-2"
          ],
          [
           "Grok-1"
          ],
          [
           "ChatGLM3"
          ],
          [
           "Falcon-180B"
          ],
          [
           "Llama 2-70B"
          ],
          [
           "Claude 2"
          ],
          [
           "xTrimoPGLM -100B"
          ],
          [
           "PaLM 2"
          ],
          [
           "GPT-4"
          ],
          [
           "LLaMA-65B"
          ],
          [
           "GPT-3.5 (text-davinci-003)"
          ],
          [
           "BLOOM-176B"
          ],
          [
           "U-PaLM (540B)"
          ],
          [
           "BlenderBot 3"
          ],
          [
           "GLM-130B"
          ],
          [
           "Minerva (540B)"
          ],
          [
           "Parti"
          ],
          [
           "OPT-175B"
          ],
          [
           "PaLM (540B)"
          ],
          [
           "Chinchilla"
          ],
          [
           "ST-MoE"
          ],
          [
           "LaMDA"
          ],
          [
           "AlphaCode"
          ],
          [
           "ERNIE 3.0 Titan"
          ],
          [
           "GLaM"
          ],
          [
           "Gopher (280B)"
          ],
          [
           "Yuan 1.0"
          ],
          [
           "Megatron-Turing NLG 530B"
          ],
          [
           "HyperCLOVA"
          ],
          [
           "GOAT"
          ],
          [
           "ByT5-XXL"
          ],
          [
           "ProtT5-XXL"
          ],
          [
           "Meta Pseudo Labels"
          ],
          [
           "Switch"
          ],
          [
           "DALL-E"
          ],
          [
           "mT5-XXL"
          ],
          [
           "iGPT-XL"
          ],
          [
           "GPT-3 175B (davinci)"
          ],
          [
           "Turing-NLG"
          ],
          [
           "Meena"
          ],
          [
           "OpenAI Five"
          ],
          [
           "OpenAI Five Rerun"
          ],
          [
           "AlphaStar"
          ],
          [
           "T5-11B"
          ],
          [
           "Megatron-BERT"
          ],
          [
           "Megatron-LM (8.3B)"
          ],
          [
           "RoBERTa Large"
          ],
          [
           "XLNet"
          ],
          [
           "GPT-2 (1.5B)"
          ],
          [
           "BigGAN-deep 512x512"
          ],
          [
           "FTW"
          ],
          [
           "ResNeXt-101 32x48d"
          ],
          [
           "AlphaZero"
          ],
          [
           "AlphaGo Zero"
          ],
          [
           "OpenAI TI7 DOTA 1v1"
          ],
          [
           "JFT"
          ],
          [
           "MoE"
          ],
          [
           "Libratus"
          ],
          [
           "AlphaGo Master"
          ],
          [
           "PolyNet"
          ],
          [
           "NASv3 (CIFAR-10)"
          ],
          [
           "Xception"
          ],
          [
           "GNMT"
          ],
          [
           "AlphaGo Lee"
          ],
          [
           "ResNet-152 (ImageNet)"
          ],
          [
           "DeepSpeech2 (English)"
          ]
         ],
         "hovertemplate": "Source=hardware-capex-opex-top_n=10-long-depreciation-time<br>Publication date=%{x}<br>Cost (inflation-adjusted)=%{y}<br>System=%{customdata[0]}<extra></extra>",
         "legendgroup": "hardware-capex-opex-top_n=10-long-depreciation-time",
         "marker": {
          "color": "#EF553B",
          "symbol": "circle"
         },
         "mode": "markers",
         "name": "hardware-capex-opex-top_n=10-long-depreciation-time",
         "orientation": "v",
         "showlegend": true,
         "textposition": "top center",
         "type": "scatter",
         "x": [
          "2023-12-06",
          "2023-11-22",
          "2023-11-04",
          "2023-10-27",
          "2023-09-06",
          "2023-07-18",
          "2023-07-11",
          "2023-07-06",
          "2023-05-10",
          "2023-03-15",
          "2023-02-24",
          "2022-11-28",
          "2022-11-08",
          "2022-10-20",
          "2022-08-10",
          "2022-08-04",
          "2022-06-29",
          "2022-06-22",
          "2022-05-02",
          "2022-04-04",
          "2022-03-29",
          "2022-02-17",
          "2022-02-10",
          "2022-02-02",
          "2021-12-23",
          "2021-12-13",
          "2021-12-08",
          "2021-10-12",
          "2021-10-11",
          "2021-09-10",
          "2021-07-27",
          "2021-05-28",
          "2021-05-04",
          "2021-03-01",
          "2021-01-11",
          "2021-01-05",
          "2020-10-20",
          "2020-06-17",
          "2020-05-28",
          "2020-02-13",
          "2020-01-28",
          "2019-12-13",
          "2019-12-13",
          "2019-10-30",
          "2019-10-23",
          "2019-09-17",
          "2019-09-17",
          "2019-07-01",
          "2019-06-01",
          "2019-02-14",
          "2018-09-28",
          "2018-07-03",
          "2018-05-02",
          "2017-12-05",
          "2017-10-18",
          "2017-08-11",
          "2017-07-10",
          "2017-01-23",
          "2017-01-01",
          "2017-01-01",
          "2016-11-17",
          "2016-11-05",
          "2016-10-07",
          "2016-09-26",
          "2016-01-27",
          "2015-12-10",
          "2015-12-08"
         ],
         "xaxis": "x",
         "y": [
          61697354.64033398,
          10923995.958196642,
          null,
          null,
          8787301.237907454,
          925421.6629317224,
          null,
          1544183.099547312,
          9729160.765896749,
          35611253.35205354,
          518267.18221245374,
          4057528.0275278543,
          757142.0792131915,
          6027089.97885397,
          1232627.0361716005,
          694498.1969365624,
          6444620.626881752,
          696714.3777186348,
          612969.0154634271,
          5970575.085694143,
          null,
          null,
          387731.48038637405,
          null,
          null,
          1105510.4792208266,
          1052033.790341755,
          null,
          3092647.477695916,
          524985.3423474967,
          145608.60698314704,
          159192.4256316259,
          147725.53096369604,
          92980.15236281216,
          241839.71594273977,
          99617.33896475882,
          null,
          82206.34997331945,
          1786048.738178568,
          43181.01925033368,
          363566.01835075463,
          null,
          null,
          221646.0802197379,
          133050.3004289631,
          574758.4105663693,
          88753.55305000453,
          69084.70145319075,
          null,
          null,
          9188.477947669418,
          null,
          null,
          734466.8139112612,
          1114349.7328159905,
          null,
          14667.711223123391,
          3282.06317027122,
          null,
          859511.0537117869,
          547.1905432099543,
          null,
          10679.198974963783,
          116091.28989689228,
          null,
          null,
          181.36929279622743
         ],
         "yaxis": "y"
        }
       ],
       "layout": {
        "autosize": false,
        "font": {
         "size": 14
        },
        "height": 600,
        "legend": {
         "orientation": "h",
         "title": {
          "text": ""
         },
         "tracegroupgap": 0,
         "x": 0.95,
         "xanchor": "right",
         "y": 0.05,
         "yanchor": "bottom"
        },
        "margin": {
         "b": 10,
         "l": 10,
         "r": 10,
         "t": 40
        },
        "template": {
         "data": {
          "bar": [
           {
            "error_x": {
             "color": "#2a3f5f"
            },
            "error_y": {
             "color": "#2a3f5f"
            },
            "marker": {
             "line": {
              "color": "#E5ECF6",
              "width": 0.5
             },
             "pattern": {
              "fillmode": "overlay",
              "size": 10,
              "solidity": 0.2
             }
            },
            "type": "bar"
           }
          ],
          "barpolar": [
           {
            "marker": {
             "line": {
              "color": "#E5ECF6",
              "width": 0.5
             },
             "pattern": {
              "fillmode": "overlay",
              "size": 10,
              "solidity": 0.2
             }
            },
            "type": "barpolar"
           }
          ],
          "carpet": [
           {
            "aaxis": {
             "endlinecolor": "#2a3f5f",
             "gridcolor": "white",
             "linecolor": "white",
             "minorgridcolor": "white",
             "startlinecolor": "#2a3f5f"
            },
            "baxis": {
             "endlinecolor": "#2a3f5f",
             "gridcolor": "white",
             "linecolor": "white",
             "minorgridcolor": "white",
             "startlinecolor": "#2a3f5f"
            },
            "type": "carpet"
           }
          ],
          "choropleth": [
           {
            "colorbar": {
             "outlinewidth": 0,
             "ticks": ""
            },
            "type": "choropleth"
           }
          ],
          "contour": [
           {
            "colorbar": {
             "outlinewidth": 0,
             "ticks": ""
            },
            "colorscale": [
             [
              0,
              "#0d0887"
             ],
             [
              0.1111111111111111,
              "#46039f"
             ],
             [
              0.2222222222222222,
              "#7201a8"
             ],
             [
              0.3333333333333333,
              "#9c179e"
             ],
             [
              0.4444444444444444,
              "#bd3786"
             ],
             [
              0.5555555555555556,
              "#d8576b"
             ],
             [
              0.6666666666666666,
              "#ed7953"
             ],
             [
              0.7777777777777778,
              "#fb9f3a"
             ],
             [
              0.8888888888888888,
              "#fdca26"
             ],
             [
              1,
              "#f0f921"
             ]
            ],
            "type": "contour"
           }
          ],
          "contourcarpet": [
           {
            "colorbar": {
             "outlinewidth": 0,
             "ticks": ""
            },
            "type": "contourcarpet"
           }
          ],
          "heatmap": [
           {
            "colorbar": {
             "outlinewidth": 0,
             "ticks": ""
            },
            "colorscale": [
             [
              0,
              "#0d0887"
             ],
             [
              0.1111111111111111,
              "#46039f"
             ],
             [
              0.2222222222222222,
              "#7201a8"
             ],
             [
              0.3333333333333333,
              "#9c179e"
             ],
             [
              0.4444444444444444,
              "#bd3786"
             ],
             [
              0.5555555555555556,
              "#d8576b"
             ],
             [
              0.6666666666666666,
              "#ed7953"
             ],
             [
              0.7777777777777778,
              "#fb9f3a"
             ],
             [
              0.8888888888888888,
              "#fdca26"
             ],
             [
              1,
              "#f0f921"
             ]
            ],
            "type": "heatmap"
           }
          ],
          "heatmapgl": [
           {
            "colorbar": {
             "outlinewidth": 0,
             "ticks": ""
            },
            "colorscale": [
             [
              0,
              "#0d0887"
             ],
             [
              0.1111111111111111,
              "#46039f"
             ],
             [
              0.2222222222222222,
              "#7201a8"
             ],
             [
              0.3333333333333333,
              "#9c179e"
             ],
             [
              0.4444444444444444,
              "#bd3786"
             ],
             [
              0.5555555555555556,
              "#d8576b"
             ],
             [
              0.6666666666666666,
              "#ed7953"
             ],
             [
              0.7777777777777778,
              "#fb9f3a"
             ],
             [
              0.8888888888888888,
              "#fdca26"
             ],
             [
              1,
              "#f0f921"
             ]
            ],
            "type": "heatmapgl"
           }
          ],
          "histogram": [
           {
            "marker": {
             "pattern": {
              "fillmode": "overlay",
              "size": 10,
              "solidity": 0.2
             }
            },
            "type": "histogram"
           }
          ],
          "histogram2d": [
           {
            "colorbar": {
             "outlinewidth": 0,
             "ticks": ""
            },
            "colorscale": [
             [
              0,
              "#0d0887"
             ],
             [
              0.1111111111111111,
              "#46039f"
             ],
             [
              0.2222222222222222,
              "#7201a8"
             ],
             [
              0.3333333333333333,
              "#9c179e"
             ],
             [
              0.4444444444444444,
              "#bd3786"
             ],
             [
              0.5555555555555556,
              "#d8576b"
             ],
             [
              0.6666666666666666,
              "#ed7953"
             ],
             [
              0.7777777777777778,
              "#fb9f3a"
             ],
             [
              0.8888888888888888,
              "#fdca26"
             ],
             [
              1,
              "#f0f921"
             ]
            ],
            "type": "histogram2d"
           }
          ],
          "histogram2dcontour": [
           {
            "colorbar": {
             "outlinewidth": 0,
             "ticks": ""
            },
            "colorscale": [
             [
              0,
              "#0d0887"
             ],
             [
              0.1111111111111111,
              "#46039f"
             ],
             [
              0.2222222222222222,
              "#7201a8"
             ],
             [
              0.3333333333333333,
              "#9c179e"
             ],
             [
              0.4444444444444444,
              "#bd3786"
             ],
             [
              0.5555555555555556,
              "#d8576b"
             ],
             [
              0.6666666666666666,
              "#ed7953"
             ],
             [
              0.7777777777777778,
              "#fb9f3a"
             ],
             [
              0.8888888888888888,
              "#fdca26"
             ],
             [
              1,
              "#f0f921"
             ]
            ],
            "type": "histogram2dcontour"
           }
          ],
          "mesh3d": [
           {
            "colorbar": {
             "outlinewidth": 0,
             "ticks": ""
            },
            "type": "mesh3d"
           }
          ],
          "parcoords": [
           {
            "line": {
             "colorbar": {
              "outlinewidth": 0,
              "ticks": ""
             }
            },
            "type": "parcoords"
           }
          ],
          "pie": [
           {
            "automargin": true,
            "type": "pie"
           }
          ],
          "scatter": [
           {
            "fillpattern": {
             "fillmode": "overlay",
             "size": 10,
             "solidity": 0.2
            },
            "type": "scatter"
           }
          ],
          "scatter3d": [
           {
            "line": {
             "colorbar": {
              "outlinewidth": 0,
              "ticks": ""
             }
            },
            "marker": {
             "colorbar": {
              "outlinewidth": 0,
              "ticks": ""
             }
            },
            "type": "scatter3d"
           }
          ],
          "scattercarpet": [
           {
            "marker": {
             "colorbar": {
              "outlinewidth": 0,
              "ticks": ""
             }
            },
            "type": "scattercarpet"
           }
          ],
          "scattergeo": [
           {
            "marker": {
             "colorbar": {
              "outlinewidth": 0,
              "ticks": ""
             }
            },
            "type": "scattergeo"
           }
          ],
          "scattergl": [
           {
            "marker": {
             "colorbar": {
              "outlinewidth": 0,
              "ticks": ""
             }
            },
            "type": "scattergl"
           }
          ],
          "scattermapbox": [
           {
            "marker": {
             "colorbar": {
              "outlinewidth": 0,
              "ticks": ""
             }
            },
            "type": "scattermapbox"
           }
          ],
          "scatterpolar": [
           {
            "marker": {
             "colorbar": {
              "outlinewidth": 0,
              "ticks": ""
             }
            },
            "type": "scatterpolar"
           }
          ],
          "scatterpolargl": [
           {
            "marker": {
             "colorbar": {
              "outlinewidth": 0,
              "ticks": ""
             }
            },
            "type": "scatterpolargl"
           }
          ],
          "scatterternary": [
           {
            "marker": {
             "colorbar": {
              "outlinewidth": 0,
              "ticks": ""
             }
            },
            "type": "scatterternary"
           }
          ],
          "surface": [
           {
            "colorbar": {
             "outlinewidth": 0,
             "ticks": ""
            },
            "colorscale": [
             [
              0,
              "#0d0887"
             ],
             [
              0.1111111111111111,
              "#46039f"
             ],
             [
              0.2222222222222222,
              "#7201a8"
             ],
             [
              0.3333333333333333,
              "#9c179e"
             ],
             [
              0.4444444444444444,
              "#bd3786"
             ],
             [
              0.5555555555555556,
              "#d8576b"
             ],
             [
              0.6666666666666666,
              "#ed7953"
             ],
             [
              0.7777777777777778,
              "#fb9f3a"
             ],
             [
              0.8888888888888888,
              "#fdca26"
             ],
             [
              1,
              "#f0f921"
             ]
            ],
            "type": "surface"
           }
          ],
          "table": [
           {
            "cells": {
             "fill": {
              "color": "#EBF0F8"
             },
             "line": {
              "color": "white"
             }
            },
            "header": {
             "fill": {
              "color": "#C8D4E3"
             },
             "line": {
              "color": "white"
             }
            },
            "type": "table"
           }
          ]
         },
         "layout": {
          "annotationdefaults": {
           "arrowcolor": "#2a3f5f",
           "arrowhead": 0,
           "arrowwidth": 1
          },
          "autotypenumbers": "strict",
          "coloraxis": {
           "colorbar": {
            "outlinewidth": 0,
            "ticks": ""
           }
          },
          "colorscale": {
           "diverging": [
            [
             0,
             "#8e0152"
            ],
            [
             0.1,
             "#c51b7d"
            ],
            [
             0.2,
             "#de77ae"
            ],
            [
             0.3,
             "#f1b6da"
            ],
            [
             0.4,
             "#fde0ef"
            ],
            [
             0.5,
             "#f7f7f7"
            ],
            [
             0.6,
             "#e6f5d0"
            ],
            [
             0.7,
             "#b8e186"
            ],
            [
             0.8,
             "#7fbc41"
            ],
            [
             0.9,
             "#4d9221"
            ],
            [
             1,
             "#276419"
            ]
           ],
           "sequential": [
            [
             0,
             "#0d0887"
            ],
            [
             0.1111111111111111,
             "#46039f"
            ],
            [
             0.2222222222222222,
             "#7201a8"
            ],
            [
             0.3333333333333333,
             "#9c179e"
            ],
            [
             0.4444444444444444,
             "#bd3786"
            ],
            [
             0.5555555555555556,
             "#d8576b"
            ],
            [
             0.6666666666666666,
             "#ed7953"
            ],
            [
             0.7777777777777778,
             "#fb9f3a"
            ],
            [
             0.8888888888888888,
             "#fdca26"
            ],
            [
             1,
             "#f0f921"
            ]
           ],
           "sequentialminus": [
            [
             0,
             "#0d0887"
            ],
            [
             0.1111111111111111,
             "#46039f"
            ],
            [
             0.2222222222222222,
             "#7201a8"
            ],
            [
             0.3333333333333333,
             "#9c179e"
            ],
            [
             0.4444444444444444,
             "#bd3786"
            ],
            [
             0.5555555555555556,
             "#d8576b"
            ],
            [
             0.6666666666666666,
             "#ed7953"
            ],
            [
             0.7777777777777778,
             "#fb9f3a"
            ],
            [
             0.8888888888888888,
             "#fdca26"
            ],
            [
             1,
             "#f0f921"
            ]
           ]
          },
          "colorway": [
           "#636efa",
           "#EF553B",
           "#00cc96",
           "#ab63fa",
           "#FFA15A",
           "#19d3f3",
           "#FF6692",
           "#B6E880",
           "#FF97FF",
           "#FECB52"
          ],
          "font": {
           "color": "#2a3f5f"
          },
          "geo": {
           "bgcolor": "white",
           "lakecolor": "white",
           "landcolor": "#E5ECF6",
           "showlakes": true,
           "showland": true,
           "subunitcolor": "white"
          },
          "hoverlabel": {
           "align": "left"
          },
          "hovermode": "closest",
          "mapbox": {
           "style": "light"
          },
          "paper_bgcolor": "white",
          "plot_bgcolor": "#E5ECF6",
          "polar": {
           "angularaxis": {
            "gridcolor": "white",
            "linecolor": "white",
            "ticks": ""
           },
           "bgcolor": "#E5ECF6",
           "radialaxis": {
            "gridcolor": "white",
            "linecolor": "white",
            "ticks": ""
           }
          },
          "scene": {
           "xaxis": {
            "backgroundcolor": "#E5ECF6",
            "gridcolor": "white",
            "gridwidth": 2,
            "linecolor": "white",
            "showbackground": true,
            "ticks": "",
            "zerolinecolor": "white"
           },
           "yaxis": {
            "backgroundcolor": "#E5ECF6",
            "gridcolor": "white",
            "gridwidth": 2,
            "linecolor": "white",
            "showbackground": true,
            "ticks": "",
            "zerolinecolor": "white"
           },
           "zaxis": {
            "backgroundcolor": "#E5ECF6",
            "gridcolor": "white",
            "gridwidth": 2,
            "linecolor": "white",
            "showbackground": true,
            "ticks": "",
            "zerolinecolor": "white"
           }
          },
          "shapedefaults": {
           "line": {
            "color": "#2a3f5f"
           }
          },
          "ternary": {
           "aaxis": {
            "gridcolor": "white",
            "linecolor": "white",
            "ticks": ""
           },
           "baxis": {
            "gridcolor": "white",
            "linecolor": "white",
            "ticks": ""
           },
           "bgcolor": "#E5ECF6",
           "caxis": {
            "gridcolor": "white",
            "linecolor": "white",
            "ticks": ""
           }
          },
          "title": {
           "x": 0.05
          },
          "xaxis": {
           "automargin": true,
           "gridcolor": "white",
           "linecolor": "white",
           "ticks": "",
           "title": {
            "standoff": 15
           },
           "zerolinecolor": "white",
           "zerolinewidth": 2
          },
          "yaxis": {
           "automargin": true,
           "gridcolor": "white",
           "linecolor": "white",
           "ticks": "",
           "title": {
            "standoff": 15
           },
           "zerolinecolor": "white",
           "zerolinewidth": 2
          }
         }
        },
        "title": {
         "font": {
          "size": 16
         },
         "text": ""
        },
        "width": 800,
        "xaxis": {
         "anchor": "y",
         "domain": [
          0,
          1
         ],
         "range": [
          "2015-01-01",
          "2025-01-01"
         ],
         "title": {
          "text": "Publication date"
         }
        },
        "yaxis": {
         "anchor": "x",
         "domain": [
          0,
          1
         ],
         "title": {
          "text": "Cost (2023 USD)"
         },
         "type": "log"
        }
       }
      }
     },
     "metadata": {},
     "output_type": "display_data"
    }
   ],
   "source": [
    "fig = px.scatter(\n",
    "    combined_cost_df,\n",
    "    x='Publication date',\n",
    "    y=col,\n",
    "    color='Source',\n",
    "    hover_data=['System'],\n",
    "    log_y=True,\n",
    ")\n",
    "fig.update_traces(textposition='top center')\n",
    "\n",
    "# legend\n",
    "fig.update_layout(\n",
    "    legend_title_text='',\n",
    "    legend=dict(\n",
    "        orientation='h',\n",
    "        yanchor='bottom',\n",
    "        y=0.05,\n",
    "        xanchor='right',\n",
    "        x=0.95,\n",
    "    ),\n",
    ")\n",
    "\n",
    "# axis labels\n",
    "fig.update_xaxes(title_text='Publication date')\n",
    "fig.update_yaxes(title_text='Cost (2023 USD)')\n",
    "\n",
    "# title\n",
    "fig.update_layout(title_text='')\n",
    "\n",
    "# update size\n",
    "fig.update_layout(\n",
    "    autosize=False,\n",
    "    width=800,\n",
    "    height=600,\n",
    "    title_font=dict(\n",
    "        size=16,\n",
    "    )\n",
    ")\n",
    "\n",
    "# font size\n",
    "fig.update_layout(\n",
    "    font=dict(\n",
    "        size=14,\n",
    "    )\n",
    ")\n",
    "\n",
    "# axis limits\n",
    "fig.update_xaxes(range=['2015-01-01', '2025-01-01'])\n",
    "\n",
    "# margins\n",
    "fig.update_layout(margin=dict(l=10, r=10, t=40, b=10))\n",
    "\n",
    "save_plot(fig, results_dir, 'cost_scatter_comparison')\n",
    "\n",
    "fig.show()"
   ]
  },
  {
   "cell_type": "code",
   "execution_count": null,
   "metadata": {},
   "outputs": [],
   "source": []
  }
 ],
 "metadata": {
  "kernelspec": {
   "display_name": "epoch",
   "language": "python",
   "name": "python3"
  },
  "language_info": {
   "codemirror_mode": {
    "name": "ipython",
    "version": 3
   },
   "file_extension": ".py",
   "mimetype": "text/x-python",
   "name": "python",
   "nbconvert_exporter": "python",
   "pygments_lexer": "ipython3",
   "version": "3.11.4"
  }
 },
 "nbformat": 4,
 "nbformat_minor": 2
}
