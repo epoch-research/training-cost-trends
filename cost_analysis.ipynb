{
 "cells": [
  {
   "cell_type": "markdown",
   "metadata": {},
   "source": [
    "# Setup"
   ]
  },
  {
   "cell_type": "code",
   "execution_count": 1,
   "metadata": {
    "ExecuteTime": {
     "end_time": "2024-03-08T01:54:49.691298800Z",
     "start_time": "2024-03-08T01:54:49.634206900Z"
    }
   },
   "outputs": [],
   "source": [
    "%load_ext autoreload\n",
    "%autoreload 2"
   ]
  },
  {
   "cell_type": "code",
   "execution_count": 2,
   "metadata": {
    "ExecuteTime": {
     "end_time": "2024-03-08T01:54:56.468786200Z",
     "start_time": "2024-03-08T01:54:49.695864500Z"
    },
    "id": "qltoZ7TbdkHZ"
   },
   "outputs": [],
   "source": [
    "import numpy as np\n",
    "import os\n",
    "import pandas as pd\n",
    "import plotly.express as px\n",
    "\n",
    "from cost import *\n",
    "from plotting import *\n",
    "from prices import *\n",
    "from imputation import *\n",
    "from inflation import *\n",
    "from regression import *\n",
    "from utils import *"
   ]
  },
  {
   "cell_type": "code",
   "execution_count": 3,
   "metadata": {
    "ExecuteTime": {
     "end_time": "2024-03-08T01:54:56.578403700Z",
     "start_time": "2024-03-08T01:54:56.468786200Z"
    }
   },
   "outputs": [],
   "source": [
    "estimation_method = 'hardware-capex-opex'\n",
    "compute_percentile_threshold = 75  # select systems >= this percentile of training compute\n",
    "variant = 'TPU-equivalent_prices'\n",
    "\n",
    "estimation_method_lookup = {\n",
    "    'cloud': estimate_costs,\n",
    "    'amortized': estimate_amortized_hardware_costs,\n",
    "    'up-front-server-capex': estimate_upfront_server_capex,\n",
    "    'hardware-capex-opex': estimate_hardware_capex_opex,\n",
    "}\n",
    "cost_estimation_function = estimation_method_lookup[estimation_method]\n",
    "\n",
    "results_dir = f'results/{estimation_method}-{compute_percentile_threshold}th-{variant}/'\n",
    "os.makedirs(results_dir, exist_ok=True)"
   ]
  },
  {
   "cell_type": "markdown",
   "metadata": {},
   "source": [
    "# Load data"
   ]
  },
  {
   "cell_type": "code",
   "execution_count": 4,
   "metadata": {
    "ExecuteTime": {
     "end_time": "2024-03-08T01:54:57.129865300Z",
     "start_time": "2024-03-08T01:54:56.872275900Z"
    }
   },
   "outputs": [],
   "source": [
    "frontier_pcd_df, hardware_df, price_df = load_data_for_cost_estimation(\n",
    "    compute_percentile_threshold=compute_percentile_threshold\n",
    ")"
   ]
  },
  {
   "cell_type": "code",
   "execution_count": 5,
   "metadata": {
    "ExecuteTime": {
     "end_time": "2024-03-08T01:54:57.278230500Z",
     "start_time": "2024-03-08T01:54:57.129865300Z"
    }
   },
   "outputs": [
    {
     "data": {
      "text/plain": [
       "(76, 5510, 142)"
      ]
     },
     "execution_count": 5,
     "metadata": {},
     "output_type": "execute_result"
    }
   ],
   "source": [
    "len(frontier_pcd_df), len(hardware_df), len(price_df)"
   ]
  },
  {
   "cell_type": "markdown",
   "metadata": {},
   "source": [
    "# Cost estimation"
   ]
  },
  {
   "cell_type": "code",
   "execution_count": 8,
   "metadata": {
    "ExecuteTime": {
     "end_time": "2024-03-08T01:54:57.807954200Z",
     "start_time": "2024-03-08T01:54:57.278230500Z"
    }
   },
   "outputs": [
    {
     "name": "stdout",
     "output_type": "stream",
     "text": [
      "==== System: Gemini Ultra ====\n",
      "Found price for Google TPU v4 at 2023-06-29 00:00:00: 9731.077107505513\n",
      "\n",
      "==== System: Qwen-72B ====\n",
      "Could not find hardware model for Qwen-72B\n",
      "\n",
      "\n",
      "==== System: Inflection-2 ====\n",
      "No training time found, assuming 32.083333333333336\n",
      "\n",
      "Found price for NVIDIA H100 SXM5 at 2023-05-29 00:00:00: 33750.0\n",
      "\n",
      "==== System: Yi-34B ====\n",
      "Could not find hardware model for Yi-34B\n",
      "\n",
      "\n",
      "==== System: ChatGLM3 ====\n",
      "Could not find hardware model for ChatGLM3\n",
      "\n",
      "\n",
      "==== System: Falcon 180B ====\n",
      "Found price for NVIDIA A100 SXM4 40 GB at 2022-01-01 00:00:00: 20000.0\n",
      "\n",
      "==== System: Llama 2-70B ====\n",
      "Found price for NVIDIA A100 SXM4 80 GB at 2022-01-20 00:00:00: 20875.0\n",
      "\n",
      "==== System: Llama 2-34B ====\n",
      "No training time found, assuming 32.083333333333336\n",
      "\n",
      "Found price for NVIDIA A100 SXM4 80 GB at 2022-01-20 00:00:00: 20875.0\n",
      "\n",
      "==== System: Claude 2 ====\n",
      "Could not find hardware model for Claude 2\n",
      "\n",
      "\n",
      "==== System: xTrimoPGLM -100B ====\n",
      "Found price for NVIDIA A100 SXM4 40 GB at 2022-01-01 00:00:00: 20000.0\n",
      "\n",
      "==== System: PaLM 2 ====\n",
      "No training time found, assuming 32.083333333333336\n",
      "\n",
      "Found price for Google TPU v4 at 2023-04-07 22:00:00: 10470.676453639757\n",
      "\n",
      "==== System: PanGu-Σ ====\n",
      "Could not find hardware model after soft matching: Huawei Ascend 910\n",
      "\n",
      "==== System: GPT-4 ====\n",
      "Found price for NVIDIA A100 SXM4 40 GB at 2022-01-01 00:00:00: 20000.0\n",
      "\n",
      "==== System: LLaMA-65B ====\n",
      "Soft matching NVIDIA A100 to NVIDIA A100\n",
      "Soft matching NVIDIA A100 to NVIDIA A100 PCIe\n",
      "Found price for NVIDIA A100 at 2022-01-01 00:00:00: 20000.0\n",
      "\n",
      "==== System: ViT-22B ====\n",
      "No training time found, assuming 32.083333333333336\n",
      "\n",
      "Found price for Google TPU v4 at 2023-01-08 22:00:00: 11326.307828963289\n",
      "\n",
      "==== System: GPT-3.5 (text-davinci-003) ====\n",
      "No training time found, assuming 32.083333333333336\n",
      "\n",
      "Found price for NVIDIA A100 SXM4 40 GB at 2022-01-01 00:00:00: 20000.0\n",
      "\n",
      "==== System: Galactica ====\n",
      "No training time found, assuming 32.083333333333336\n",
      "\n",
      "Found price for NVIDIA A100 SXM4 80 GB at 2022-01-20 00:00:00: 20875.0\n",
      "\n",
      "==== System: BLOOM-176B ====\n",
      "Found price for NVIDIA A100 SXM4 80 GB at 2022-01-20 00:00:00: 20875.0\n",
      "\n",
      "==== System: U-PaLM (540B) ====\n",
      "Found price for Google TPU v4 at 2022-08-16 00:00:00: 12872.613559871266\n",
      "\n",
      "==== System: BlenderBot 3 ====\n",
      "No training time found, assuming 32.083333333333336\n",
      "\n",
      "Found price for NVIDIA A100 SXM4 40 GB at 2022-01-01 00:00:00: 20000.0\n",
      "\n",
      "==== System: GLM-130B ====\n",
      "Found price for NVIDIA A100 SXM4 40 GB at 2022-01-01 00:00:00: 20000.0\n",
      "\n",
      "==== System: Minerva (540B) ====\n",
      "Found price for Google TPU v4 at 2022-04-01 00:00:00: 14527.092767915305\n",
      "\n",
      "==== System: Parti ====\n",
      "No training time found, assuming 32.083333333333336\n",
      "\n",
      "Found price for Google TPU v4 at 2022-05-20 22:00:00: 13912.239756840017\n",
      "\n",
      "==== System: UL2 ====\n",
      "Found price for Google TPU v4 at 2022-02-08 00:00:00: 15209.336326055087\n",
      "\n",
      "==== System: OPT-175B ====\n",
      "Found price for NVIDIA A100 SXM4 80 GB at 2022-01-20 00:00:00: 20875.0\n",
      "\n",
      "==== System: Flamingo ====\n",
      "Found price for Google TPU v4 at 2022-02-13 00:00:00: 15142.367008652505\n",
      "\n",
      "==== System: PaLM (540B) ====\n",
      "Found price for Google TPU v4 at 2021-12-08 00:00:00: 16064.780961180366\n",
      "\n",
      "==== System: Chinchilla ====\n",
      "No training time found, assuming 32.083333333333336\n",
      "\n",
      "Could not find price for Google TPU v4,Google TPU v3\n",
      "\n",
      "==== System: LaMDA ====\n",
      "Found price for Google TPU v3 at 2021-10-15 07:00:00: 5664.982326511103\n",
      "\n",
      "==== System: GPT-NeoX-20B ====\n",
      "Found price for NVIDIA A100 SXM4 40 GB at 2020-05-21 00:00:00: 24875.0\n",
      "\n",
      "==== System: AlphaCode ====\n",
      "No training time found, assuming 32.083333333333336\n",
      "\n",
      "Could not find price for Google TPU v4,Google TPU v4i\n",
      "\n",
      "==== System: ERNIE 3.0 Titan ====\n",
      "No training time found, assuming 32.083333333333336\n",
      "\n",
      "Could not find hardware model after soft matching: Huawei Ascend 910,NVIDIA Tesla V100 DGXS 32 GB\n",
      "\n",
      "==== System: GLaM ====\n",
      "Found price for Google TPU v4 at 2021-08-18 02:00:00: 17733.90218872677\n",
      "\n",
      "==== System: Gopher (280B) ====\n",
      "Found price for Google TPU v3 at 2021-08-31 16:00:00: 5894.500640938723\n",
      "\n",
      "==== System: Yuan 1.0 ====\n",
      "Could not find hardware model for Yuan 1.0\n",
      "\n",
      "\n",
      "==== System: Megatron-Turing NLG 530B ====\n",
      "Found price for NVIDIA A100 SXM4 80 GB at 2021-06-30 00:00:00: 37500.0\n",
      "\n",
      "==== System: HyperCLOVA ====\n",
      "Soft matching NVIDIA A100 to NVIDIA A100\n",
      "Soft matching NVIDIA A100 to NVIDIA A100 PCIe\n",
      "Found price for NVIDIA A100 at 2020-01-01 00:00:00: 24000.0\n",
      "\n",
      "==== System: GOAT ====\n",
      "No training time found, assuming 32.083333333333336\n",
      "\n",
      "Found price for Google TPU v3 at 2021-06-24 22:00:00: 6259.092340452871\n",
      "\n",
      "==== System: ByT5-XXL ====\n",
      "No training time found, assuming 32.083333333333336\n",
      "\n",
      "Found price for Google TPU v3 at 2021-04-25 22:00:00: 6599.4737440255\n",
      "\n",
      "==== System: ProtT5-XXL ====\n",
      "No training time found, assuming 32.083333333333336\n",
      "\n",
      "Found price for Google TPU v3 at 2021-04-01 22:00:00: 6740.754091750612\n",
      "\n",
      "==== System: Meta Pseudo Labels ====\n",
      "Found price for Google TPU v3 at 2020-12-20 00:00:00: 7375.729710143326\n",
      "\n",
      "==== System: Switch ====\n",
      "Found price for Google TPU v3 at 2020-10-16 00:00:00: 7811.230174626854\n",
      "\n",
      "==== System: DALL-E ====\n",
      "No training time found, assuming 32.083333333333336\n",
      "\n",
      "Soft matching NVIDIA Tesla V100 DGXS 16 GB to NVIDIA V100\n",
      "Found price for NVIDIA Tesla V100 DGXS 16 GB at 2017-07-01 00:00:00: 18625.0\n",
      "\n",
      "==== System: mT5-XXL ====\n",
      "Could not find hardware model for mT5-XXL\n",
      "\n",
      "\n",
      "==== System: GShard (dense) ====\n",
      "Found price for Google TPU v3 at 2020-03-20 00:00:00: 9401.826847173126\n",
      "\n",
      "==== System: iGPT-XL ====\n",
      "No training time found, assuming 32.083333333333336\n",
      "\n",
      "Found price for NVIDIA Tesla V100 DGXS 32 GB at 2019-01-11 00:00:00: 18457.5\n",
      "\n",
      "==== System: GPT-3 175B (davinci) ====\n",
      "Found price for NVIDIA Tesla V100 DGXS 32 GB at 2019-01-11 00:00:00: 18457.5\n",
      "\n",
      "==== System: Turing-NLG ====\n",
      "No training time found, assuming 32.083333333333336\n",
      "\n",
      "Found price for NVIDIA Tesla V100 DGXS 32 GB at 2019-01-11 00:00:00: 18457.5\n",
      "\n",
      "==== System: Meena ====\n",
      "Found price for Google TPU v3 at 2019-10-30 00:00:00: 10657.14125579654\n",
      "\n",
      "==== System: ContextNet + Noisy Student ====\n",
      "Found price for Google TPU v3 at 2019-11-10 00:00:00: 10554.178426590286\n",
      "\n",
      "==== System: OpenAI Five ====\n",
      "Could not find hardware model for OpenAI Five\n",
      "\n",
      "\n",
      "==== System: OpenAI Five Rerun ====\n",
      "Could not find hardware model for OpenAI Five Rerun\n",
      "\n",
      "\n",
      "==== System: AlphaStar ====\n",
      "Found price for Google TPU v3 at 2019-07-18 00:00:00: 11681.640308290405\n",
      "\n",
      "==== System: T5-11B ====\n",
      "Found price for Google TPU v3 at 2019-08-03 23:00:00: 11517.84007059366\n",
      "\n",
      "==== System: Megatron-BERT ====\n",
      "Soft matching NVIDIA Tesla V100S PCIe 32 GB to NVIDIA V100\n",
      "Found price for NVIDIA Tesla V100S PCIe 32 GB at 2017-07-01 00:00:00: 18625.0\n",
      "\n",
      "==== System: Megatron-LM (8.3B) ====\n",
      "Found price for NVIDIA Tesla V100 DGXS 32 GB at 2019-01-11 00:00:00: 18457.5\n",
      "\n",
      "==== System: RoBERTa Large ====\n",
      "Found price for NVIDIA Tesla V100 DGXS 32 GB at 2019-01-11 00:00:00: 18457.5\n",
      "\n",
      "==== System: GPT-2 (1.5B) ====\n",
      "Could not find hardware model for GPT-2 (1.5B)\n",
      "\n",
      "\n",
      "==== System: BERT-Large ====\n",
      "Found price for Google TPU v2 at 2018-08-08 00:00:00: 12748.246182204934\n",
      "\n",
      "==== System: BigGAN-deep 512x512 ====\n",
      "Found price for Google TPU v3 at 2018-07-28 00:00:00: 15979.935196389644\n",
      "\n",
      "==== System: FTW ====\n",
      "Could not find hardware model for FTW\n",
      "\n",
      "\n",
      "==== System: ResNeXt-101 32x48d ====\n",
      "Could not find hardware model for ResNeXt-101 32x48d\n",
      "\n",
      "\n",
      "==== System: AmoebaNet-A (F=448) ====\n",
      "Found price for NVIDIA Tesla K40s at 2016-01-01 00:00:00: 4640.0\n",
      "\n",
      "==== System: IMPALA ====\n",
      "Could not find hardware model after soft matching: NVIDIA P100\n",
      "\n",
      "==== System: AlphaZero ====\n",
      "No training time found, assuming 32.083333333333336\n",
      "\n",
      "Found price for Google TPU v2 at 2017-11-02 22:00:00: 16307.631653342663\n",
      "\n",
      "==== System: AlphaGo Zero ====\n",
      "Found price for Google TPU v1 at 2017-07-30 00:00:00: 9418.437209252488\n",
      "\n",
      "==== System: OpenAI TI7 DOTA 1v1 ====\n",
      "Could not find hardware model for OpenAI TI7 DOTA 1v1\n",
      "\n",
      "\n",
      "==== System: JFT ====\n",
      "Found price for NVIDIA Tesla K80 at 2016-01-01 00:00:00: 5920.0\n",
      "\n",
      "==== System: Libratus ====\n",
      "Could not find hardware model for Libratus\n",
      "\n",
      "\n",
      "==== System: AlphaGo Master ====\n",
      "No training time found, assuming 32.083333333333336\n",
      "\n",
      "Found price for Google TPU v1 at 2016-11-29 22:00:00: 11671.334888344583\n",
      "\n",
      "==== System: NASv3 (CIFAR-10) ====\n",
      "Could not find hardware model for NASv3 (CIFAR-10)\n",
      "\n",
      "\n",
      "==== System: Xception ====\n",
      "Found price for NVIDIA Tesla K80 at 2016-01-01 00:00:00: 5920.0\n",
      "\n",
      "==== System: GNMT ====\n",
      "Found price for NVIDIA Tesla K80 at 2016-01-01 00:00:00: 5920.0\n",
      "\n",
      "==== System: AlphaGo Lee ====\n",
      "Could not find hardware model for AlphaGo Lee\n",
      "\n",
      "\n",
      "==== System: DeepSpeech2 (English) ====\n",
      "No training time found, assuming 32.083333333333336\n",
      "\n",
      "Found price for NVIDIA GTX Titan X at 2015-03-17 00:00:00: 1598.4\n",
      "\n",
      "==== System: AlphaGo Fan ====\n",
      "Could not find hardware model for AlphaGo Fan\n",
      "\n",
      "\n",
      "==== System: Gemini Ultra ====\n",
      "Estimated cost: 59098935.521558546\n",
      "==== System: Qwen-72B ====\n",
      "Unable to estimate cost\n",
      "==== System: Inflection-2 ====\n",
      "Imputing training time from compute and hardware\n",
      "Found NVIDIA H100 SXM5 at 989000000000000.0 FLOP/s\n",
      "Estimated cost: 11787342.937616272\n",
      "==== System: Yi-34B ====\n",
      "Unable to estimate cost\n",
      "==== System: ChatGLM3 ====\n",
      "Unable to estimate cost\n",
      "==== System: Falcon 180B ====\n",
      "Estimated cost: 16562005.857248459\n",
      "==== System: Llama 2-70B ====\n",
      "Estimated cost: 2088464.6387577\n",
      "==== System: Llama 2-34B ====\n",
      "Imputing training time from compute and hardware\n",
      "Found NVIDIA A100 SXM4 80 GB at 312000000000000.0 FLOP/s\n",
      "Estimated cost: 936580.6388857471\n",
      "==== System: Claude 2 ====\n",
      "Unable to estimate cost\n",
      "==== System: xTrimoPGLM -100B ====\n",
      "Estimated cost: 2812090.5778453113\n",
      "==== System: PaLM 2 ====\n",
      "Imputing training time from compute and hardware\n",
      "Found Google TPU v4 at 275000000000000.0 FLOP/s\n",
      "Estimated cost: 9491318.181879621\n",
      "==== System: PanGu-Σ ====\n",
      "Unable to estimate cost\n",
      "==== System: GPT-4 ====\n",
      "Estimated cost: 53351188.030280344\n",
      "==== System: LLaMA-65B ====\n",
      "Estimated cost: 950905.2530352117\n",
      "==== System: ViT-22B ====\n",
      "Imputing training time from compute and hardware\n",
      "Found Google TPU v4 at 275000000000000.0 FLOP/s\n",
      "Estimated cost: 557565.9365720322\n",
      "==== System: GPT-3.5 (text-davinci-003) ====\n",
      "Imputing training time from compute and hardware\n",
      "Found NVIDIA A100 SXM4 40 GB at 312000000000000.0 FLOP/s\n",
      "Estimated cost: 5740923.372777871\n",
      "==== System: Galactica ====\n",
      "Imputing training time from compute and hardware\n",
      "Found NVIDIA A100 SXM4 80 GB at 312000000000000.0 FLOP/s\n",
      "Estimated cost: 745095.8382327992\n",
      "==== System: BLOOM-176B ====\n",
      "Estimated cost: 1052641.0321478439\n",
      "==== System: U-PaLM (540B) ====\n",
      "Estimated cost: 6133014.67613005\n",
      "==== System: BlenderBot 3 ====\n",
      "Imputing training time from compute and hardware\n",
      "Found NVIDIA A100 SXM4 40 GB at 312000000000000.0 FLOP/s\n",
      "Estimated cost: 1736849.0686459572\n",
      "==== System: GLM-130B ====\n",
      "Estimated cost: 1037315.6060780287\n",
      "==== System: Minerva (540B) ====\n",
      "Estimated cost: 6566097.358072747\n",
      "==== System: Parti ====\n",
      "Imputing training time from compute and hardware\n",
      "Found Google TPU v4 at 275000000000000.0 FLOP/s\n",
      "Estimated cost: 673852.5576764337\n",
      "==== System: UL2 ====\n",
      "Estimated cost: 262077.19787018985\n",
      "==== System: OPT-175B ====\n",
      "Estimated cost: 787050.098615341\n",
      "==== System: Flamingo ====\n",
      "Estimated cost: 378815.2772200765\n",
      "==== System: PaLM (540B) ====\n",
      "Estimated cost: 6097022.336774967\n",
      "==== System: Chinchilla ====\n",
      "Unable to estimate cost\n",
      "==== System: LaMDA ====\n",
      "Estimated cost: 388256.8117708808\n",
      "==== System: GPT-NeoX-20B ====\n",
      "Estimated cost: 238702.0149486653\n",
      "==== System: AlphaCode ====\n",
      "Unable to estimate cost\n",
      "==== System: ERNIE 3.0 Titan ====\n",
      "Unable to estimate cost\n",
      "==== System: GLaM ====\n",
      "Estimated cost: 1112393.0755193275\n",
      "==== System: Gopher (280B) ====\n",
      "Estimated cost: 1055994.024433343\n",
      "==== System: Yuan 1.0 ====\n",
      "Unable to estimate cost\n",
      "==== System: Megatron-Turing NLG 530B ====\n",
      "Estimated cost: 5822879.892679443\n",
      "==== System: HyperCLOVA ====\n",
      "Estimated cost: 727267.3306370979\n",
      "==== System: GOAT ====\n",
      "Imputing training time from compute and hardware\n",
      "Found Google TPU v3 at 123000000000000.0 FLOP/s\n",
      "Estimated cost: 139123.6407661693\n",
      "==== System: ByT5-XXL ====\n",
      "Imputing training time from compute and hardware\n",
      "Found Google TPU v3 at 123000000000000.0 FLOP/s\n",
      "Estimated cost: 151735.3936426052\n",
      "==== System: ProtT5-XXL ====\n",
      "Imputing training time from compute and hardware\n",
      "Found Google TPU v3 at 123000000000000.0 FLOP/s\n",
      "Estimated cost: 140802.5893004461\n",
      "==== System: Meta Pseudo Labels ====\n",
      "Estimated cost: 93266.70119849217\n",
      "==== System: Switch ====\n",
      "Estimated cost: 241564.2038192607\n",
      "==== System: DALL-E ====\n",
      "Imputing training time from compute and hardware\n",
      "Found NVIDIA Tesla V100 DGXS 16 GB at 125000000000000.0 FLOP/s\n",
      "Estimated cost: 236216.93849412573\n",
      "==== System: mT5-XXL ====\n",
      "Unable to estimate cost\n",
      "==== System: GShard (dense) ====\n",
      "Estimated cost: 445914.67718123924\n",
      "==== System: iGPT-XL ====\n",
      "Imputing training time from compute and hardware\n",
      "Found NVIDIA Tesla V100 DGXS 32 GB at 125000000000000.0 FLOP/s\n",
      "Estimated cost: 163954.56010596495\n",
      "==== System: GPT-3 175B (davinci) ====\n",
      "Estimated cost: 2978011.009924709\n",
      "==== System: Turing-NLG ====\n",
      "Imputing training time from compute and hardware\n",
      "Found NVIDIA Tesla V100 DGXS 32 GB at 125000000000000.0 FLOP/s\n",
      "Estimated cost: 77653.56071708028\n",
      "==== System: Meena ====\n",
      "Estimated cost: 358982.9887685082\n",
      "==== System: ContextNet + Noisy Student ====\n",
      "Imputing training time from compute and hardware\n",
      "Found Google TPU v3 at 123000000000000.0 FLOP/s\n",
      "Estimated cost: 15687.782793355367\n",
      "==== System: OpenAI Five ====\n",
      "Unable to estimate cost\n",
      "==== System: OpenAI Five Rerun ====\n",
      "Unable to estimate cost\n",
      "==== System: AlphaStar ====\n",
      "Estimated cost: 215785.21466390742\n",
      "==== System: T5-11B ====\n",
      "Estimated cost: 129529.25906717652\n",
      "==== System: Megatron-BERT ====\n",
      "Estimated cost: 599430.1328587725\n",
      "==== System: Megatron-LM (8.3B) ====\n",
      "Estimated cost: 140478.82338672143\n",
      "==== System: RoBERTa Large ====\n",
      "Estimated cost: 102633.01638658451\n",
      "==== System: GPT-2 (1.5B) ====\n",
      "Unable to estimate cost\n",
      "==== System: BERT-Large ====\n",
      "Estimated cost: 3517.4741736976316\n",
      "==== System: BigGAN-deep 512x512 ====\n",
      "Estimated cost: 8852.85896941545\n",
      "==== System: FTW ====\n",
      "Unable to estimate cost\n",
      "==== System: ResNeXt-101 32x48d ====\n",
      "Unable to estimate cost\n",
      "==== System: AmoebaNet-A (F=448) ====\n",
      "Estimated cost: 17242.988154143735\n",
      "==== System: IMPALA ====\n",
      "Unable to estimate cost\n",
      "==== System: AlphaZero ====\n",
      "Imputing training time from compute and hardware\n",
      "Found Google TPU v2 at 45000000000000.0 FLOP/s\n",
      "Estimated cost: 439589.1903305752\n",
      "==== System: AlphaGo Zero ====\n",
      "Imputing training time from compute and hardware\n",
      "Estimated cost: 1150436.5832562917\n",
      "==== System: OpenAI TI7 DOTA 1v1 ====\n",
      "Unable to estimate cost\n",
      "==== System: JFT ====\n",
      "Estimated cost: 20846.116958795345\n",
      "==== System: Libratus ====\n",
      "Unable to estimate cost\n",
      "==== System: AlphaGo Master ====\n",
      "Imputing training time from compute and hardware\n",
      "Estimated cost: 625040.5138784396\n",
      "==== System: NASv3 (CIFAR-10) ====\n",
      "Unable to estimate cost\n",
      "==== System: Xception ====\n",
      "Estimated cost: 12484.575455277207\n",
      "==== System: GNMT ====\n",
      "Estimated cost: 119851.92437066117\n",
      "==== System: AlphaGo Lee ====\n",
      "Unable to estimate cost\n",
      "==== System: DeepSpeech2 (English) ====\n",
      "Imputing training time from compute and hardware\n",
      "Found NVIDIA GTX Titan X at 6690000000000.0 FLOP/s\n",
      "Estimated cost: 237.619371134598\n",
      "==== System: AlphaGo Fan ====\n",
      "Unable to estimate cost\n",
      "{'Gemini Ultra': 59098935.521558546, 'Inflection-2': 11787342.937616272, 'Falcon 180B': 16562005.857248459, 'Llama 2-70B': 2088464.6387577, 'Llama 2-34B': 936580.6388857471, 'xTrimoPGLM -100B': 2812090.5778453113, 'PaLM 2': 9491318.181879621, 'GPT-4': 53351188.030280344, 'LLaMA-65B': 950905.2530352117, 'ViT-22B': 557565.9365720322, 'GPT-3.5 (text-davinci-003)': 5740923.372777871, 'Galactica': 745095.8382327992, 'BLOOM-176B': 1052641.0321478439, 'U-PaLM (540B)': 6133014.67613005, 'BlenderBot 3': 1736849.0686459572, 'GLM-130B': 1037315.6060780287, 'Minerva (540B)': 6566097.358072747, 'Parti': 673852.5576764337, 'UL2': 262077.19787018985, 'OPT-175B': 787050.098615341, 'Flamingo': 378815.2772200765, 'PaLM (540B)': 6097022.336774967, 'LaMDA': 388256.8117708808, 'GPT-NeoX-20B': 238702.0149486653, 'GLaM': 1112393.0755193275, 'Gopher (280B)': 1055994.024433343, 'Megatron-Turing NLG 530B': 5822879.892679443, 'HyperCLOVA': 727267.3306370979, 'GOAT': 139123.6407661693, 'ByT5-XXL': 151735.3936426052, 'ProtT5-XXL': 140802.5893004461, 'Meta Pseudo Labels': 93266.70119849217, 'Switch': 241564.2038192607, 'DALL-E': 236216.93849412573, 'GShard (dense)': 445914.67718123924, 'iGPT-XL': 163954.56010596495, 'GPT-3 175B (davinci)': 2978011.009924709, 'Turing-NLG': 77653.56071708028, 'Meena': 358982.9887685082, 'ContextNet + Noisy Student': 15687.782793355367, 'AlphaStar': 215785.21466390742, 'T5-11B': 129529.25906717652, 'Megatron-BERT': 599430.1328587725, 'Megatron-LM (8.3B)': 140478.82338672143, 'RoBERTa Large': 102633.01638658451, 'BERT-Large': 3517.4741736976316, 'BigGAN-deep 512x512': 8852.85896941545, 'AmoebaNet-A (F=448)': 17242.988154143735, 'AlphaZero': 439589.1903305752, 'AlphaGo Zero': 1150436.5832562917, 'JFT': 20846.116958795345, 'AlphaGo Master': 625040.5138784396, 'Xception': 12484.575455277207, 'GNMT': 119851.92437066117, 'DeepSpeech2 (English)': 237.619371134598}\n"
     ]
    }
   ],
   "source": [
    "cost_df = cost_estimation_function(frontier_pcd_df, hardware_df, price_df)"
   ]
  },
  {
   "cell_type": "code",
   "execution_count": 59,
   "metadata": {
    "ExecuteTime": {
     "end_time": "2024-03-08T01:54:57.967995500Z",
     "start_time": "2024-03-08T01:54:57.807954200Z"
    }
   },
   "outputs": [
    {
     "data": {
      "text/html": [
       "<div>\n",
       "<style scoped>\n",
       "    .dataframe tbody tr th:only-of-type {\n",
       "        vertical-align: middle;\n",
       "    }\n",
       "\n",
       "    .dataframe tbody tr th {\n",
       "        vertical-align: top;\n",
       "    }\n",
       "\n",
       "    .dataframe thead th {\n",
       "        text-align: right;\n",
       "    }\n",
       "</style>\n",
       "<table border=\"1\" class=\"dataframe\">\n",
       "  <thead>\n",
       "    <tr style=\"text-align: right;\">\n",
       "      <th></th>\n",
       "      <th>System</th>\n",
       "      <th>Domain</th>\n",
       "      <th>Task</th>\n",
       "      <th>Authors</th>\n",
       "      <th>Notability criteria</th>\n",
       "      <th>Notability criteria notes</th>\n",
       "      <th>Model accessibility</th>\n",
       "      <th>Link</th>\n",
       "      <th>Citations</th>\n",
       "      <th>Reference</th>\n",
       "      <th>...</th>\n",
       "      <th>Batch size notes</th>\n",
       "      <th>Organization categorization</th>\n",
       "      <th>Foundation model</th>\n",
       "      <th>Training compute lower bound</th>\n",
       "      <th>Training compute upper bound</th>\n",
       "      <th>Training chip-hours</th>\n",
       "      <th>Code accessibility</th>\n",
       "      <th>Dataset accessibility</th>\n",
       "      <th>Accessibility notes</th>\n",
       "      <th>Cost</th>\n",
       "    </tr>\n",
       "  </thead>\n",
       "  <tbody>\n",
       "    <tr>\n",
       "      <th>39</th>\n",
       "      <td>Gemini Ultra</td>\n",
       "      <td>Multimodal</td>\n",
       "      <td>Language modelling,Visual question answering,C...</td>\n",
       "      <td>Gemini Team</td>\n",
       "      <td>SOTA improvement</td>\n",
       "      <td>\" Evaluation on a broad range of benchmarks sh...</td>\n",
       "      <td>Hosted access (no API)</td>\n",
       "      <td>https://storage.googleapis.com/deepmind-media/...</td>\n",
       "      <td>252.0</td>\n",
       "      <td>Gemini: A Family of Highly Capable Multimodal ...</td>\n",
       "      <td>...</td>\n",
       "      <td>NaN</td>\n",
       "      <td>Industry</td>\n",
       "      <td>NaN</td>\n",
       "      <td>NaN</td>\n",
       "      <td>NaN</td>\n",
       "      <td>132000000.0</td>\n",
       "      <td>NaN</td>\n",
       "      <td>NaN</td>\n",
       "      <td>NaN</td>\n",
       "      <td>5.909894e+07</td>\n",
       "    </tr>\n",
       "    <tr>\n",
       "      <th>46</th>\n",
       "      <td>Qwen-72B</td>\n",
       "      <td>Language</td>\n",
       "      <td>Chat,Code generation</td>\n",
       "      <td>Jinze Bai, Shuai Bai, Yunfei Chu, Zeyu Cui, Ka...</td>\n",
       "      <td>SOTA improvement</td>\n",
       "      <td>SOTA on several Chinese benchmarks, with highe...</td>\n",
       "      <td>Permissive license (depr.)</td>\n",
       "      <td>https://huggingface.co/Qwen/Qwen-72B</td>\n",
       "      <td>NaN</td>\n",
       "      <td>NaN</td>\n",
       "      <td>...</td>\n",
       "      <td>Table 1 https://arxiv.org/abs/2309.16609\\n(thi...</td>\n",
       "      <td>Industry</td>\n",
       "      <td>NaN</td>\n",
       "      <td>NaN</td>\n",
       "      <td>NaN</td>\n",
       "      <td>NaN</td>\n",
       "      <td>NaN</td>\n",
       "      <td>NaN</td>\n",
       "      <td>NaN</td>\n",
       "      <td>NaN</td>\n",
       "    </tr>\n",
       "    <tr>\n",
       "      <th>54</th>\n",
       "      <td>Inflection-2</td>\n",
       "      <td>Language</td>\n",
       "      <td>Language modelling</td>\n",
       "      <td>NaN</td>\n",
       "      <td>Significant use</td>\n",
       "      <td>Inflection-2 either already powers Pi or soon ...</td>\n",
       "      <td>API access</td>\n",
       "      <td>https://inflection.ai/inflection-2</td>\n",
       "      <td>NaN</td>\n",
       "      <td>Inflection-2: The Next Step Up</td>\n",
       "      <td>...</td>\n",
       "      <td>NaN</td>\n",
       "      <td>Industry</td>\n",
       "      <td>checked</td>\n",
       "      <td>NaN</td>\n",
       "      <td>NaN</td>\n",
       "      <td>NaN</td>\n",
       "      <td>NaN</td>\n",
       "      <td>NaN</td>\n",
       "      <td>NaN</td>\n",
       "      <td>1.178734e+07</td>\n",
       "    </tr>\n",
       "    <tr>\n",
       "      <th>83</th>\n",
       "      <td>Yi-34B</td>\n",
       "      <td>Language</td>\n",
       "      <td>Chat</td>\n",
       "      <td>NaN</td>\n",
       "      <td>Significant use</td>\n",
       "      <td>2nd most popular model on HuggingFace: https:/...</td>\n",
       "      <td>Permissive license (depr.)</td>\n",
       "      <td>https://arxiv.org/abs/2403.04652</td>\n",
       "      <td>NaN</td>\n",
       "      <td>NaN</td>\n",
       "      <td>...</td>\n",
       "      <td>NaN</td>\n",
       "      <td>Industry</td>\n",
       "      <td>NaN</td>\n",
       "      <td>NaN</td>\n",
       "      <td>NaN</td>\n",
       "      <td>NaN</td>\n",
       "      <td>NaN</td>\n",
       "      <td>NaN</td>\n",
       "      <td>NaN</td>\n",
       "      <td>NaN</td>\n",
       "    </tr>\n",
       "    <tr>\n",
       "      <th>92</th>\n",
       "      <td>ChatGLM3</td>\n",
       "      <td>Multimodal</td>\n",
       "      <td>Chat,Visual question answering</td>\n",
       "      <td>NaN</td>\n",
       "      <td>SOTA improvement</td>\n",
       "      <td>Aiming at GPT-4V, ChatGLM3 has implemented ite...</td>\n",
       "      <td>NaN</td>\n",
       "      <td>https://www.zhipuai.cn/en/news/76</td>\n",
       "      <td>NaN</td>\n",
       "      <td>Zhipu AI launches third-generation base model</td>\n",
       "      <td>...</td>\n",
       "      <td>NaN</td>\n",
       "      <td>Industry</td>\n",
       "      <td>checked</td>\n",
       "      <td>NaN</td>\n",
       "      <td>NaN</td>\n",
       "      <td>NaN</td>\n",
       "      <td>NaN</td>\n",
       "      <td>NaN</td>\n",
       "      <td>NaN</td>\n",
       "      <td>NaN</td>\n",
       "    </tr>\n",
       "    <tr>\n",
       "      <th>...</th>\n",
       "      <td>...</td>\n",
       "      <td>...</td>\n",
       "      <td>...</td>\n",
       "      <td>...</td>\n",
       "      <td>...</td>\n",
       "      <td>...</td>\n",
       "      <td>...</td>\n",
       "      <td>...</td>\n",
       "      <td>...</td>\n",
       "      <td>...</td>\n",
       "      <td>...</td>\n",
       "      <td>...</td>\n",
       "      <td>...</td>\n",
       "      <td>...</td>\n",
       "      <td>...</td>\n",
       "      <td>...</td>\n",
       "      <td>...</td>\n",
       "      <td>...</td>\n",
       "      <td>...</td>\n",
       "      <td>...</td>\n",
       "      <td>...</td>\n",
       "    </tr>\n",
       "    <tr>\n",
       "      <th>1094</th>\n",
       "      <td>Xception</td>\n",
       "      <td>Vision</td>\n",
       "      <td>Image classification</td>\n",
       "      <td>François Chollet</td>\n",
       "      <td>Highly cited</td>\n",
       "      <td>NaN</td>\n",
       "      <td>NaN</td>\n",
       "      <td>https://arxiv.org/abs/1610.02357</td>\n",
       "      <td>11338.0</td>\n",
       "      <td>Xception: Deep Learning with Depthwise Separab...</td>\n",
       "      <td>...</td>\n",
       "      <td>NaN</td>\n",
       "      <td>Industry</td>\n",
       "      <td>NaN</td>\n",
       "      <td>NaN</td>\n",
       "      <td>NaN</td>\n",
       "      <td>43200.0</td>\n",
       "      <td>NaN</td>\n",
       "      <td>NaN</td>\n",
       "      <td>NaN</td>\n",
       "      <td>1.248458e+04</td>\n",
       "    </tr>\n",
       "    <tr>\n",
       "      <th>1095</th>\n",
       "      <td>GNMT</td>\n",
       "      <td>Language</td>\n",
       "      <td>Translation</td>\n",
       "      <td>Yonghui Wu, Mike Schuster, Zhifeng Chen, Quoc ...</td>\n",
       "      <td>Highly cited</td>\n",
       "      <td>NaN</td>\n",
       "      <td>NaN</td>\n",
       "      <td>https://arxiv.org/abs/1609.08144</td>\n",
       "      <td>6105.0</td>\n",
       "      <td>Google's Neural Machine Translation System: Br...</td>\n",
       "      <td>...</td>\n",
       "      <td>NaN</td>\n",
       "      <td>Industry</td>\n",
       "      <td>NaN</td>\n",
       "      <td>NaN</td>\n",
       "      <td>NaN</td>\n",
       "      <td>414720.0</td>\n",
       "      <td>NaN</td>\n",
       "      <td>NaN</td>\n",
       "      <td>NaN</td>\n",
       "      <td>1.198519e+05</td>\n",
       "    </tr>\n",
       "    <tr>\n",
       "      <th>1131</th>\n",
       "      <td>AlphaGo Lee</td>\n",
       "      <td>Games</td>\n",
       "      <td>Go</td>\n",
       "      <td>David Silver, Aja Huang, Chris J. Maddison, Ar...</td>\n",
       "      <td>Highly cited</td>\n",
       "      <td>NaN</td>\n",
       "      <td>NaN</td>\n",
       "      <td>https://www.nature.com/articles/nature16961</td>\n",
       "      <td>14733.0</td>\n",
       "      <td>Mastering the game of Go with deep neural netw...</td>\n",
       "      <td>...</td>\n",
       "      <td>NaN</td>\n",
       "      <td>Industry</td>\n",
       "      <td>NaN</td>\n",
       "      <td>NaN</td>\n",
       "      <td>NaN</td>\n",
       "      <td>NaN</td>\n",
       "      <td>NaN</td>\n",
       "      <td>NaN</td>\n",
       "      <td>NaN</td>\n",
       "      <td>NaN</td>\n",
       "    </tr>\n",
       "    <tr>\n",
       "      <th>1137</th>\n",
       "      <td>DeepSpeech2 (English)</td>\n",
       "      <td>Speech</td>\n",
       "      <td>Speech recognition</td>\n",
       "      <td>Dario Amodei, Rishita Anubhai, Eric Battenberg...</td>\n",
       "      <td>Highly cited</td>\n",
       "      <td>NaN</td>\n",
       "      <td>NaN</td>\n",
       "      <td>https://arxiv.org/abs/1512.02595</td>\n",
       "      <td>2741.0</td>\n",
       "      <td>Deep Speech 2: End-to-End Speech Recognition i...</td>\n",
       "      <td>...</td>\n",
       "      <td>NaN</td>\n",
       "      <td>Industry</td>\n",
       "      <td>NaN</td>\n",
       "      <td>NaN</td>\n",
       "      <td>NaN</td>\n",
       "      <td>301.0</td>\n",
       "      <td>NaN</td>\n",
       "      <td>NaN</td>\n",
       "      <td>NaN</td>\n",
       "      <td>2.376194e+02</td>\n",
       "    </tr>\n",
       "    <tr>\n",
       "      <th>1141</th>\n",
       "      <td>AlphaGo Fan</td>\n",
       "      <td>Games</td>\n",
       "      <td>Go</td>\n",
       "      <td>David Silver, Aja Huang, Chris J. Maddison, Ar...</td>\n",
       "      <td>Highly cited,SOTA improvement</td>\n",
       "      <td>NaN</td>\n",
       "      <td>NaN</td>\n",
       "      <td>https://www.nature.com/articles/nature24270.ep...</td>\n",
       "      <td>14733.0</td>\n",
       "      <td>Mastering the game of Go with deep neural netw...</td>\n",
       "      <td>...</td>\n",
       "      <td>NaN</td>\n",
       "      <td>Industry</td>\n",
       "      <td>NaN</td>\n",
       "      <td>NaN</td>\n",
       "      <td>NaN</td>\n",
       "      <td>NaN</td>\n",
       "      <td>NaN</td>\n",
       "      <td>NaN</td>\n",
       "      <td>NaN</td>\n",
       "      <td>NaN</td>\n",
       "    </tr>\n",
       "  </tbody>\n",
       "</table>\n",
       "<p>76 rows × 57 columns</p>\n",
       "</div>"
      ],
      "text/plain": [
       "                     System      Domain  \\\n",
       "39             Gemini Ultra  Multimodal   \n",
       "46                 Qwen-72B    Language   \n",
       "54             Inflection-2    Language   \n",
       "83                   Yi-34B    Language   \n",
       "92                 ChatGLM3  Multimodal   \n",
       "...                     ...         ...   \n",
       "1094               Xception      Vision   \n",
       "1095                   GNMT    Language   \n",
       "1131            AlphaGo Lee       Games   \n",
       "1137  DeepSpeech2 (English)      Speech   \n",
       "1141            AlphaGo Fan       Games   \n",
       "\n",
       "                                                   Task  \\\n",
       "39    Language modelling,Visual question answering,C...   \n",
       "46                                 Chat,Code generation   \n",
       "54                                   Language modelling   \n",
       "83                                                 Chat   \n",
       "92                       Chat,Visual question answering   \n",
       "...                                                 ...   \n",
       "1094                               Image classification   \n",
       "1095                                        Translation   \n",
       "1131                                                 Go   \n",
       "1137                                 Speech recognition   \n",
       "1141                                                 Go   \n",
       "\n",
       "                                                Authors  \\\n",
       "39                                          Gemini Team   \n",
       "46    Jinze Bai, Shuai Bai, Yunfei Chu, Zeyu Cui, Ka...   \n",
       "54                                                  NaN   \n",
       "83                                                  NaN   \n",
       "92                                                  NaN   \n",
       "...                                                 ...   \n",
       "1094                                   François Chollet   \n",
       "1095  Yonghui Wu, Mike Schuster, Zhifeng Chen, Quoc ...   \n",
       "1131  David Silver, Aja Huang, Chris J. Maddison, Ar...   \n",
       "1137  Dario Amodei, Rishita Anubhai, Eric Battenberg...   \n",
       "1141  David Silver, Aja Huang, Chris J. Maddison, Ar...   \n",
       "\n",
       "                Notability criteria  \\\n",
       "39                 SOTA improvement   \n",
       "46                 SOTA improvement   \n",
       "54                  Significant use   \n",
       "83                  Significant use   \n",
       "92                 SOTA improvement   \n",
       "...                             ...   \n",
       "1094                   Highly cited   \n",
       "1095                   Highly cited   \n",
       "1131                   Highly cited   \n",
       "1137                   Highly cited   \n",
       "1141  Highly cited,SOTA improvement   \n",
       "\n",
       "                              Notability criteria notes  \\\n",
       "39    \" Evaluation on a broad range of benchmarks sh...   \n",
       "46    SOTA on several Chinese benchmarks, with highe...   \n",
       "54    Inflection-2 either already powers Pi or soon ...   \n",
       "83    2nd most popular model on HuggingFace: https:/...   \n",
       "92    Aiming at GPT-4V, ChatGLM3 has implemented ite...   \n",
       "...                                                 ...   \n",
       "1094                                                NaN   \n",
       "1095                                                NaN   \n",
       "1131                                                NaN   \n",
       "1137                                                NaN   \n",
       "1141                                                NaN   \n",
       "\n",
       "             Model accessibility  \\\n",
       "39        Hosted access (no API)   \n",
       "46    Permissive license (depr.)   \n",
       "54                    API access   \n",
       "83    Permissive license (depr.)   \n",
       "92                           NaN   \n",
       "...                          ...   \n",
       "1094                         NaN   \n",
       "1095                         NaN   \n",
       "1131                         NaN   \n",
       "1137                         NaN   \n",
       "1141                         NaN   \n",
       "\n",
       "                                                   Link  Citations  \\\n",
       "39    https://storage.googleapis.com/deepmind-media/...      252.0   \n",
       "46                 https://huggingface.co/Qwen/Qwen-72B        NaN   \n",
       "54                   https://inflection.ai/inflection-2        NaN   \n",
       "83                     https://arxiv.org/abs/2403.04652        NaN   \n",
       "92                    https://www.zhipuai.cn/en/news/76        NaN   \n",
       "...                                                 ...        ...   \n",
       "1094                   https://arxiv.org/abs/1610.02357    11338.0   \n",
       "1095                   https://arxiv.org/abs/1609.08144     6105.0   \n",
       "1131        https://www.nature.com/articles/nature16961    14733.0   \n",
       "1137                   https://arxiv.org/abs/1512.02595     2741.0   \n",
       "1141  https://www.nature.com/articles/nature24270.ep...    14733.0   \n",
       "\n",
       "                                              Reference  ...  \\\n",
       "39    Gemini: A Family of Highly Capable Multimodal ...  ...   \n",
       "46                                                  NaN  ...   \n",
       "54                       Inflection-2: The Next Step Up  ...   \n",
       "83                                                  NaN  ...   \n",
       "92        Zhipu AI launches third-generation base model  ...   \n",
       "...                                                 ...  ...   \n",
       "1094  Xception: Deep Learning with Depthwise Separab...  ...   \n",
       "1095  Google's Neural Machine Translation System: Br...  ...   \n",
       "1131  Mastering the game of Go with deep neural netw...  ...   \n",
       "1137  Deep Speech 2: End-to-End Speech Recognition i...  ...   \n",
       "1141  Mastering the game of Go with deep neural netw...  ...   \n",
       "\n",
       "                                       Batch size notes  \\\n",
       "39                                                  NaN   \n",
       "46    Table 1 https://arxiv.org/abs/2309.16609\\n(thi...   \n",
       "54                                                  NaN   \n",
       "83                                                  NaN   \n",
       "92                                                  NaN   \n",
       "...                                                 ...   \n",
       "1094                                                NaN   \n",
       "1095                                                NaN   \n",
       "1131                                                NaN   \n",
       "1137                                                NaN   \n",
       "1141                                                NaN   \n",
       "\n",
       "     Organization categorization  Foundation model  \\\n",
       "39                      Industry               NaN   \n",
       "46                      Industry               NaN   \n",
       "54                      Industry           checked   \n",
       "83                      Industry               NaN   \n",
       "92                      Industry           checked   \n",
       "...                          ...               ...   \n",
       "1094                    Industry               NaN   \n",
       "1095                    Industry               NaN   \n",
       "1131                    Industry               NaN   \n",
       "1137                    Industry               NaN   \n",
       "1141                    Industry               NaN   \n",
       "\n",
       "     Training compute lower bound  Training compute upper bound  \\\n",
       "39                            NaN                           NaN   \n",
       "46                            NaN                           NaN   \n",
       "54                            NaN                           NaN   \n",
       "83                            NaN                           NaN   \n",
       "92                            NaN                           NaN   \n",
       "...                           ...                           ...   \n",
       "1094                          NaN                           NaN   \n",
       "1095                          NaN                           NaN   \n",
       "1131                          NaN                           NaN   \n",
       "1137                          NaN                           NaN   \n",
       "1141                          NaN                           NaN   \n",
       "\n",
       "     Training chip-hours Code accessibility Dataset accessibility  \\\n",
       "39           132000000.0                NaN                   NaN   \n",
       "46                   NaN                NaN                   NaN   \n",
       "54                   NaN                NaN                   NaN   \n",
       "83                   NaN                NaN                   NaN   \n",
       "92                   NaN                NaN                   NaN   \n",
       "...                  ...                ...                   ...   \n",
       "1094             43200.0                NaN                   NaN   \n",
       "1095            414720.0                NaN                   NaN   \n",
       "1131                 NaN                NaN                   NaN   \n",
       "1137               301.0                NaN                   NaN   \n",
       "1141                 NaN                NaN                   NaN   \n",
       "\n",
       "      Accessibility notes          Cost  \n",
       "39                    NaN  5.909894e+07  \n",
       "46                    NaN           NaN  \n",
       "54                    NaN  1.178734e+07  \n",
       "83                    NaN           NaN  \n",
       "92                    NaN           NaN  \n",
       "...                   ...           ...  \n",
       "1094                  NaN  1.248458e+04  \n",
       "1095                  NaN  1.198519e+05  \n",
       "1131                  NaN           NaN  \n",
       "1137                  NaN  2.376194e+02  \n",
       "1141                  NaN           NaN  \n",
       "\n",
       "[76 rows x 57 columns]"
      ]
     },
     "execution_count": 59,
     "metadata": {},
     "output_type": "execute_result"
    }
   ],
   "source": [
    "cost_df"
   ]
  },
  {
   "cell_type": "code",
   "execution_count": 60,
   "metadata": {
    "ExecuteTime": {
     "end_time": "2024-03-08T01:54:58.104807Z",
     "start_time": "2024-03-08T01:54:57.967995500Z"
    }
   },
   "outputs": [
    {
     "data": {
      "text/plain": [
       "55"
      ]
     },
     "execution_count": 60,
     "metadata": {},
     "output_type": "execute_result"
    }
   ],
   "source": [
    "cost_df['Cost'].notna().sum()"
   ]
  },
  {
   "cell_type": "markdown",
   "metadata": {},
   "source": [
    "Use the below to check data availability for specific systems"
   ]
  },
  {
   "cell_type": "code",
   "execution_count": 61,
   "metadata": {
    "ExecuteTime": {
     "end_time": "2024-03-08T01:54:58.418907200Z",
     "start_time": "2024-03-08T01:54:58.109807800Z"
    }
   },
   "outputs": [],
   "source": [
    "# system = 'WizardLM-7B'\n",
    "# row = cost_df.loc[cost_df['System'] == system]\n",
    "# print('Cost:', row['Cost'].values[0])\n",
    "# print('Training hardware:', row['Training hardware'].values[0])\n",
    "# print('Training time (hours):', row['Training time (hours)'].values[0])\n",
    "# print('Hardware quantity:', row['Hardware quantity'].values[0])\n",
    "# print('Hardware utilization:', row['Hardware utilization'].values[0])"
   ]
  },
  {
   "cell_type": "markdown",
   "metadata": {},
   "source": [
    "# Apply inflation adjustment"
   ]
  },
  {
   "cell_type": "code",
   "execution_count": 62,
   "metadata": {
    "ExecuteTime": {
     "end_time": "2024-03-08T01:54:58.434584400Z",
     "start_time": "2024-03-08T01:54:58.277972800Z"
    }
   },
   "outputs": [],
   "source": [
    "# TODO move to function"
   ]
  },
  {
   "cell_type": "code",
   "execution_count": 63,
   "metadata": {
    "ExecuteTime": {
     "end_time": "2024-03-08T01:54:58.565500700Z",
     "start_time": "2024-03-08T01:54:58.403286900Z"
    }
   },
   "outputs": [
    {
     "data": {
      "text/plain": [
       "39     2023-12-06\n",
       "46     2023-11-30\n",
       "54     2023-11-22\n",
       "83     2023-11-02\n",
       "92     2023-10-27\n",
       "          ...    \n",
       "1094   2016-10-07\n",
       "1095   2016-09-26\n",
       "1131   2016-01-27\n",
       "1137   2015-12-08\n",
       "1141   2015-10-01\n",
       "Name: Publication date, Length: 76, dtype: datetime64[ns]"
      ]
     },
     "execution_count": 63,
     "metadata": {},
     "output_type": "execute_result"
    }
   ],
   "source": [
    "cost_df['Publication date']"
   ]
  },
  {
   "cell_type": "code",
   "execution_count": 64,
   "metadata": {
    "ExecuteTime": {
     "end_time": "2024-03-08T01:54:58.726981500Z",
     "start_time": "2024-03-08T01:54:58.565500700Z"
    }
   },
   "outputs": [],
   "source": [
    "from_year_month = cost_df['Publication date'].apply(str)\n",
    "cost_df['Publication date'] = from_year_month"
   ]
  },
  {
   "cell_type": "code",
   "execution_count": 65,
   "metadata": {
    "ExecuteTime": {
     "end_time": "2024-03-08T01:54:58.913441700Z",
     "start_time": "2024-03-08T01:54:58.711492Z"
    }
   },
   "outputs": [
    {
     "data": {
      "text/plain": [
       "39      2023-12-06 00:00:00\n",
       "46      2023-11-30 00:00:00\n",
       "54      2023-11-22 00:00:00\n",
       "83      2023-11-02 00:00:00\n",
       "92      2023-10-27 00:00:00\n",
       "               ...         \n",
       "1094    2016-10-07 00:00:00\n",
       "1095    2016-09-26 00:00:00\n",
       "1131    2016-01-27 00:00:00\n",
       "1137    2015-12-08 00:00:00\n",
       "1141    2015-10-01 00:00:00\n",
       "Name: Publication date, Length: 76, dtype: object"
      ]
     },
     "execution_count": 65,
     "metadata": {},
     "output_type": "execute_result"
    }
   ],
   "source": [
    "cost_df['Publication date']"
   ]
  },
  {
   "cell_type": "code",
   "execution_count": 66,
   "metadata": {
    "ExecuteTime": {
     "end_time": "2024-03-08T01:54:59.049781600Z",
     "start_time": "2024-03-08T01:54:58.881981400Z"
    }
   },
   "outputs": [],
   "source": [
    "cost_df = adjust_column_for_inflation(cost_df, 'Cost', 'data/PCU518210518210.csv', '2023-12-01')"
   ]
  },
  {
   "cell_type": "code",
   "execution_count": 67,
   "metadata": {
    "ExecuteTime": {
     "end_time": "2024-03-08T01:54:59.177190500Z",
     "start_time": "2024-03-08T01:54:59.049781600Z"
    }
   },
   "outputs": [
    {
     "data": {
      "text/plain": [
       "39      5.909894e+07\n",
       "54      1.181494e+07\n",
       "135     1.666463e+07\n",
       "174     2.100376e+06\n",
       "175     9.419221e+05\n",
       "186     2.828128e+06\n",
       "224     9.588956e+06\n",
       "263     5.392381e+07\n",
       "279     9.630496e+05\n",
       "285     5.646868e+05\n",
       "323     5.856348e+06\n",
       "329     7.600764e+05\n",
       "334     1.073805e+06\n",
       "349     6.256644e+06\n",
       "374     1.771496e+06\n",
       "375     1.058008e+06\n",
       "396     6.690028e+06\n",
       "402     6.865711e+05\n",
       "436     2.662239e+05\n",
       "439     7.995031e+05\n",
       "440     3.850884e+05\n",
       "448     6.197988e+06\n",
       "470     4.013880e+05\n",
       "472     2.467751e+05\n",
       "499     1.147921e+06\n",
       "503     1.089721e+06\n",
       "542     6.007032e+06\n",
       "549     7.515965e+05\n",
       "569     1.435347e+05\n",
       "591     1.569163e+05\n",
       "599     1.456102e+05\n",
       "637     9.636750e+04\n",
       "652     2.506834e+05\n",
       "655     2.451343e+05\n",
       "715     4.651816e+05\n",
       "717     1.710387e+05\n",
       "724     3.125861e+06\n",
       "759     8.143703e+04\n",
       "764     3.771381e+05\n",
       "765     1.648117e+04\n",
       "791     2.299455e+05\n",
       "795     1.380293e+05\n",
       "809     6.393384e+05\n",
       "810     1.498315e+05\n",
       "835     1.104558e+05\n",
       "918     3.785578e+03\n",
       "921     9.536252e+03\n",
       "982     1.860773e+04\n",
       "992     4.752434e+05\n",
       "1008    1.243746e+06\n",
       "1041    2.251645e+04\n",
       "1067    6.825557e+05\n",
       "1094    1.363339e+04\n",
       "1095    1.308805e+05\n",
       "1137    2.643349e+02\n",
       "Name: Cost (inflation-adjusted), dtype: float64"
      ]
     },
     "execution_count": 67,
     "metadata": {},
     "output_type": "execute_result"
    }
   ],
   "source": [
    "cost_df['Cost (inflation-adjusted)'].dropna()"
   ]
  },
  {
   "cell_type": "code",
   "execution_count": 68,
   "metadata": {
    "ExecuteTime": {
     "end_time": "2024-03-08T01:54:59.344452300Z",
     "start_time": "2024-03-08T01:54:59.182457200Z"
    }
   },
   "outputs": [
    {
     "data": {
      "text/plain": [
       "55"
      ]
     },
     "execution_count": 68,
     "metadata": {},
     "output_type": "execute_result"
    }
   ],
   "source": [
    "cost_df['Cost (inflation-adjusted)'].notna().sum()"
   ]
  },
  {
   "cell_type": "markdown",
   "metadata": {},
   "source": [
    "# Regression"
   ]
  },
  {
   "cell_type": "code",
   "execution_count": 69,
   "metadata": {
    "ExecuteTime": {
     "end_time": "2024-03-08T01:54:59.490722200Z",
     "start_time": "2024-03-08T01:54:59.337705700Z"
    }
   },
   "outputs": [],
   "source": [
    "cost_df['Publication date (float)'] = datetime_to_float_year(pd.to_datetime(cost_df['Publication date']))"
   ]
  },
  {
   "cell_type": "code",
   "execution_count": 70,
   "metadata": {
    "ExecuteTime": {
     "end_time": "2024-03-08T01:54:59.700207700Z",
     "start_time": "2024-03-08T01:54:59.462346300Z"
    }
   },
   "outputs": [
    {
     "data": {
      "text/html": [
       "<table class=\"simpletable\">\n",
       "<caption>OLS Regression Results</caption>\n",
       "<tr>\n",
       "  <th>Dep. Variable:</th>            <td>y</td>        <th>  R-squared:         </th> <td>   0.529</td>\n",
       "</tr>\n",
       "<tr>\n",
       "  <th>Model:</th>                   <td>OLS</td>       <th>  Adj. R-squared:    </th> <td>   0.520</td>\n",
       "</tr>\n",
       "<tr>\n",
       "  <th>Method:</th>             <td>Least Squares</td>  <th>  F-statistic:       </th> <td>   59.42</td>\n",
       "</tr>\n",
       "<tr>\n",
       "  <th>Date:</th>             <td>Fri, 03 May 2024</td> <th>  Prob (F-statistic):</th> <td>3.28e-10</td>\n",
       "</tr>\n",
       "<tr>\n",
       "  <th>Time:</th>                 <td>12:22:53</td>     <th>  Log-Likelihood:    </th> <td> -56.757</td>\n",
       "</tr>\n",
       "<tr>\n",
       "  <th>No. Observations:</th>      <td>    55</td>      <th>  AIC:               </th> <td>   117.5</td>\n",
       "</tr>\n",
       "<tr>\n",
       "  <th>Df Residuals:</th>          <td>    53</td>      <th>  BIC:               </th> <td>   121.5</td>\n",
       "</tr>\n",
       "<tr>\n",
       "  <th>Df Model:</th>              <td>     1</td>      <th>                     </th>     <td> </td>   \n",
       "</tr>\n",
       "<tr>\n",
       "  <th>Covariance Type:</th>      <td>nonrobust</td>    <th>                     </th>     <td> </td>   \n",
       "</tr>\n",
       "</table>\n",
       "<table class=\"simpletable\">\n",
       "<tr>\n",
       "    <td></td>       <th>coef</th>     <th>std err</th>      <th>t</th>      <th>P>|t|</th>  <th>[0.025</th>    <th>0.975]</th>  \n",
       "</tr>\n",
       "<tr>\n",
       "  <th>const</th> <td> -692.2288</td> <td>   90.541</td> <td>   -7.645</td> <td> 0.000</td> <td> -873.832</td> <td> -510.626</td>\n",
       "</tr>\n",
       "<tr>\n",
       "  <th>x1</th>    <td>    0.3453</td> <td>    0.045</td> <td>    7.708</td> <td> 0.000</td> <td>    0.255</td> <td>    0.435</td>\n",
       "</tr>\n",
       "</table>\n",
       "<table class=\"simpletable\">\n",
       "<tr>\n",
       "  <th>Omnibus:</th>       <td> 1.576</td> <th>  Durbin-Watson:     </th> <td>   1.744</td>\n",
       "</tr>\n",
       "<tr>\n",
       "  <th>Prob(Omnibus):</th> <td> 0.455</td> <th>  Jarque-Bera (JB):  </th> <td>   1.440</td>\n",
       "</tr>\n",
       "<tr>\n",
       "  <th>Skew:</th>          <td> 0.384</td> <th>  Prob(JB):          </th> <td>   0.487</td>\n",
       "</tr>\n",
       "<tr>\n",
       "  <th>Kurtosis:</th>      <td> 2.802</td> <th>  Cond. No.          </th> <td>1.96e+06</td>\n",
       "</tr>\n",
       "</table><br/><br/>Notes:<br/>[1] Standard Errors assume that the covariance matrix of the errors is correctly specified.<br/>[2] The condition number is large, 1.96e+06. This might indicate that there are<br/>strong multicollinearity or other numerical problems."
      ],
      "text/latex": [
       "\\begin{center}\n",
       "\\begin{tabular}{lclc}\n",
       "\\toprule\n",
       "\\textbf{Dep. Variable:}    &        y         & \\textbf{  R-squared:         } &     0.529   \\\\\n",
       "\\textbf{Model:}            &       OLS        & \\textbf{  Adj. R-squared:    } &     0.520   \\\\\n",
       "\\textbf{Method:}           &  Least Squares   & \\textbf{  F-statistic:       } &     59.42   \\\\\n",
       "\\textbf{Date:}             & Fri, 03 May 2024 & \\textbf{  Prob (F-statistic):} &  3.28e-10   \\\\\n",
       "\\textbf{Time:}             &     12:22:53     & \\textbf{  Log-Likelihood:    } &   -56.757   \\\\\n",
       "\\textbf{No. Observations:} &          55      & \\textbf{  AIC:               } &     117.5   \\\\\n",
       "\\textbf{Df Residuals:}     &          53      & \\textbf{  BIC:               } &     121.5   \\\\\n",
       "\\textbf{Df Model:}         &           1      & \\textbf{                     } &             \\\\\n",
       "\\textbf{Covariance Type:}  &    nonrobust     & \\textbf{                     } &             \\\\\n",
       "\\bottomrule\n",
       "\\end{tabular}\n",
       "\\begin{tabular}{lcccccc}\n",
       "               & \\textbf{coef} & \\textbf{std err} & \\textbf{t} & \\textbf{P$> |$t$|$} & \\textbf{[0.025} & \\textbf{0.975]}  \\\\\n",
       "\\midrule\n",
       "\\textbf{const} &    -692.2288  &       90.541     &    -7.645  &         0.000        &     -873.832    &     -510.626     \\\\\n",
       "\\textbf{x1}    &       0.3453  &        0.045     &     7.708  &         0.000        &        0.255    &        0.435     \\\\\n",
       "\\bottomrule\n",
       "\\end{tabular}\n",
       "\\begin{tabular}{lclc}\n",
       "\\textbf{Omnibus:}       &  1.576 & \\textbf{  Durbin-Watson:     } &    1.744  \\\\\n",
       "\\textbf{Prob(Omnibus):} &  0.455 & \\textbf{  Jarque-Bera (JB):  } &    1.440  \\\\\n",
       "\\textbf{Skew:}          &  0.384 & \\textbf{  Prob(JB):          } &    0.487  \\\\\n",
       "\\textbf{Kurtosis:}      &  2.802 & \\textbf{  Cond. No.          } & 1.96e+06  \\\\\n",
       "\\bottomrule\n",
       "\\end{tabular}\n",
       "%\\caption{OLS Regression Results}\n",
       "\\end{center}\n",
       "\n",
       "Notes: \\newline\n",
       " [1] Standard Errors assume that the covariance matrix of the errors is correctly specified. \\newline\n",
       " [2] The condition number is large, 1.96e+06. This might indicate that there are \\newline\n",
       " strong multicollinearity or other numerical problems."
      ],
      "text/plain": [
       "<class 'statsmodels.iolib.summary.Summary'>\n",
       "\"\"\"\n",
       "                            OLS Regression Results                            \n",
       "==============================================================================\n",
       "Dep. Variable:                      y   R-squared:                       0.529\n",
       "Model:                            OLS   Adj. R-squared:                  0.520\n",
       "Method:                 Least Squares   F-statistic:                     59.42\n",
       "Date:                Fri, 03 May 2024   Prob (F-statistic):           3.28e-10\n",
       "Time:                        12:22:53   Log-Likelihood:                -56.757\n",
       "No. Observations:                  55   AIC:                             117.5\n",
       "Df Residuals:                      53   BIC:                             121.5\n",
       "Df Model:                           1                                         \n",
       "Covariance Type:            nonrobust                                         \n",
       "==============================================================================\n",
       "                 coef    std err          t      P>|t|      [0.025      0.975]\n",
       "------------------------------------------------------------------------------\n",
       "const       -692.2288     90.541     -7.645      0.000    -873.832    -510.626\n",
       "x1             0.3453      0.045      7.708      0.000       0.255       0.435\n",
       "==============================================================================\n",
       "Omnibus:                        1.576   Durbin-Watson:                   1.744\n",
       "Prob(Omnibus):                  0.455   Jarque-Bera (JB):                1.440\n",
       "Skew:                           0.384   Prob(JB):                        0.487\n",
       "Kurtosis:                       2.802   Cond. No.                     1.96e+06\n",
       "==============================================================================\n",
       "\n",
       "Notes:\n",
       "[1] Standard Errors assume that the covariance matrix of the errors is correctly specified.\n",
       "[2] The condition number is large, 1.96e+06. This might indicate that there are\n",
       "strong multicollinearity or other numerical problems.\n",
       "\"\"\""
      ]
     },
     "execution_count": 70,
     "metadata": {},
     "output_type": "execute_result"
    }
   ],
   "source": [
    "reg_results = fit_ols_regression(cost_df, ['Publication date (float)'], 'Cost (inflation-adjusted)', logy=True)\n",
    "reg_results.summary()"
   ]
  },
  {
   "cell_type": "code",
   "execution_count": 71,
   "metadata": {
    "ExecuteTime": {
     "end_time": "2024-03-08T01:55:00.548785500Z",
     "start_time": "2024-03-08T01:54:59.700207700Z"
    }
   },
   "outputs": [
    {
     "name": "stdout",
     "output_type": "stream",
     "text": [
      "0.35 OOMs/year (95% CI: 0.26, 0.44)\n",
      "2.2x/year (95% CI: 1.8x, 2.7x)\n",
      "doubling time of 10 months (95% CI: 8, 14)\n"
     ]
    }
   ],
   "source": [
    "print_growth_rates(reg_results)"
   ]
  },
  {
   "cell_type": "code",
   "execution_count": 72,
   "metadata": {
    "ExecuteTime": {
     "end_time": "2024-03-08T01:55:00.548785500Z",
     "start_time": "2024-03-08T01:54:59.809703300Z"
    }
   },
   "outputs": [
    {
     "data": {
      "text/html": [
       "<div>\n",
       "<style scoped>\n",
       "    .dataframe tbody tr th:only-of-type {\n",
       "        vertical-align: middle;\n",
       "    }\n",
       "\n",
       "    .dataframe tbody tr th {\n",
       "        vertical-align: top;\n",
       "    }\n",
       "\n",
       "    .dataframe thead th {\n",
       "        text-align: right;\n",
       "    }\n",
       "</style>\n",
       "<table border=\"1\" class=\"dataframe\">\n",
       "  <thead>\n",
       "    <tr style=\"text-align: right;\">\n",
       "      <th></th>\n",
       "      <th>Publication date (float)</th>\n",
       "    </tr>\n",
       "  </thead>\n",
       "  <tbody>\n",
       "    <tr>\n",
       "      <th>0</th>\n",
       "      <td>2015.00000</td>\n",
       "    </tr>\n",
       "    <tr>\n",
       "      <th>1</th>\n",
       "      <td>2015.10101</td>\n",
       "    </tr>\n",
       "    <tr>\n",
       "      <th>2</th>\n",
       "      <td>2015.20202</td>\n",
       "    </tr>\n",
       "    <tr>\n",
       "      <th>3</th>\n",
       "      <td>2015.30303</td>\n",
       "    </tr>\n",
       "    <tr>\n",
       "      <th>4</th>\n",
       "      <td>2015.40404</td>\n",
       "    </tr>\n",
       "    <tr>\n",
       "      <th>...</th>\n",
       "      <td>...</td>\n",
       "    </tr>\n",
       "    <tr>\n",
       "      <th>95</th>\n",
       "      <td>2024.59596</td>\n",
       "    </tr>\n",
       "    <tr>\n",
       "      <th>96</th>\n",
       "      <td>2024.69697</td>\n",
       "    </tr>\n",
       "    <tr>\n",
       "      <th>97</th>\n",
       "      <td>2024.79798</td>\n",
       "    </tr>\n",
       "    <tr>\n",
       "      <th>98</th>\n",
       "      <td>2024.89899</td>\n",
       "    </tr>\n",
       "    <tr>\n",
       "      <th>99</th>\n",
       "      <td>2025.00000</td>\n",
       "    </tr>\n",
       "  </tbody>\n",
       "</table>\n",
       "<p>100 rows × 1 columns</p>\n",
       "</div>"
      ],
      "text/plain": [
       "    Publication date (float)\n",
       "0                 2015.00000\n",
       "1                 2015.10101\n",
       "2                 2015.20202\n",
       "3                 2015.30303\n",
       "4                 2015.40404\n",
       "..                       ...\n",
       "95                2024.59596\n",
       "96                2024.69697\n",
       "97                2024.79798\n",
       "98                2024.89899\n",
       "99                2025.00000\n",
       "\n",
       "[100 rows x 1 columns]"
      ]
     },
     "execution_count": 72,
     "metadata": {},
     "output_type": "execute_result"
    }
   ],
   "source": [
    "pred_start_year = 2015\n",
    "pred_end_year = 2025\n",
    "pred_start_date = f'{pred_start_year}-01-01'\n",
    "pred_end_date = f'{pred_end_year}-01-01'\n",
    "\n",
    "pred_years = pd.DataFrame({'Publication date (float)': np.linspace(pred_start_year, pred_end_year, 100)})\n",
    "pred_years"
   ]
  },
  {
   "cell_type": "code",
   "execution_count": 73,
   "metadata": {
    "ExecuteTime": {
     "end_time": "2024-03-08T01:55:00.564420400Z",
     "start_time": "2024-03-08T01:54:59.920051200Z"
    }
   },
   "outputs": [
    {
     "data": {
      "text/html": [
       "<div>\n",
       "<style scoped>\n",
       "    .dataframe tbody tr th:only-of-type {\n",
       "        vertical-align: middle;\n",
       "    }\n",
       "\n",
       "    .dataframe tbody tr th {\n",
       "        vertical-align: top;\n",
       "    }\n",
       "\n",
       "    .dataframe thead th {\n",
       "        text-align: right;\n",
       "    }\n",
       "</style>\n",
       "<table border=\"1\" class=\"dataframe\">\n",
       "  <thead>\n",
       "    <tr style=\"text-align: right;\">\n",
       "      <th></th>\n",
       "      <th>mean</th>\n",
       "      <th>mean_se</th>\n",
       "      <th>mean_ci_lower</th>\n",
       "      <th>mean_ci_upper</th>\n",
       "      <th>obs_ci_lower</th>\n",
       "      <th>obs_ci_upper</th>\n",
       "      <th>Publication date (float)</th>\n",
       "      <th>Publication date</th>\n",
       "    </tr>\n",
       "  </thead>\n",
       "  <tbody>\n",
       "    <tr>\n",
       "      <th>0</th>\n",
       "      <td>3.576276</td>\n",
       "      <td>0.288646</td>\n",
       "      <td>2.997327</td>\n",
       "      <td>4.155226</td>\n",
       "      <td>2.072793</td>\n",
       "      <td>5.079759</td>\n",
       "      <td>2015.00000</td>\n",
       "      <td>2015-01-01</td>\n",
       "    </tr>\n",
       "    <tr>\n",
       "      <th>1</th>\n",
       "      <td>3.611156</td>\n",
       "      <td>0.284367</td>\n",
       "      <td>3.040788</td>\n",
       "      <td>4.181524</td>\n",
       "      <td>2.110957</td>\n",
       "      <td>5.111355</td>\n",
       "      <td>2015.10101</td>\n",
       "      <td>2015-02-06</td>\n",
       "    </tr>\n",
       "    <tr>\n",
       "      <th>2</th>\n",
       "      <td>3.646036</td>\n",
       "      <td>0.280096</td>\n",
       "      <td>3.084234</td>\n",
       "      <td>4.207838</td>\n",
       "      <td>2.149073</td>\n",
       "      <td>5.143000</td>\n",
       "      <td>2015.20202</td>\n",
       "      <td>2015-03-15</td>\n",
       "    </tr>\n",
       "    <tr>\n",
       "      <th>3</th>\n",
       "      <td>3.680916</td>\n",
       "      <td>0.275834</td>\n",
       "      <td>3.127664</td>\n",
       "      <td>4.234168</td>\n",
       "      <td>2.187141</td>\n",
       "      <td>5.174692</td>\n",
       "      <td>2015.30303</td>\n",
       "      <td>2015-04-21</td>\n",
       "    </tr>\n",
       "    <tr>\n",
       "      <th>4</th>\n",
       "      <td>3.715796</td>\n",
       "      <td>0.271579</td>\n",
       "      <td>3.171077</td>\n",
       "      <td>4.260516</td>\n",
       "      <td>2.225160</td>\n",
       "      <td>5.206433</td>\n",
       "      <td>2015.40404</td>\n",
       "      <td>2015-05-28</td>\n",
       "    </tr>\n",
       "    <tr>\n",
       "      <th>...</th>\n",
       "      <td>...</td>\n",
       "      <td>...</td>\n",
       "      <td>...</td>\n",
       "      <td>...</td>\n",
       "      <td>...</td>\n",
       "      <td>...</td>\n",
       "      <td>...</td>\n",
       "      <td>...</td>\n",
       "    </tr>\n",
       "    <tr>\n",
       "      <th>95</th>\n",
       "      <td>6.889883</td>\n",
       "      <td>0.182383</td>\n",
       "      <td>6.524069</td>\n",
       "      <td>7.255697</td>\n",
       "      <td>5.454927</td>\n",
       "      <td>8.324838</td>\n",
       "      <td>2024.59596</td>\n",
       "      <td>2024-08-06</td>\n",
       "    </tr>\n",
       "    <tr>\n",
       "      <th>96</th>\n",
       "      <td>6.924763</td>\n",
       "      <td>0.186286</td>\n",
       "      <td>6.551121</td>\n",
       "      <td>7.298405</td>\n",
       "      <td>5.487792</td>\n",
       "      <td>8.361734</td>\n",
       "      <td>2024.69697</td>\n",
       "      <td>2024-09-12</td>\n",
       "    </tr>\n",
       "    <tr>\n",
       "      <th>97</th>\n",
       "      <td>6.959643</td>\n",
       "      <td>0.190216</td>\n",
       "      <td>6.578118</td>\n",
       "      <td>7.341168</td>\n",
       "      <td>5.520602</td>\n",
       "      <td>8.398684</td>\n",
       "      <td>2024.79798</td>\n",
       "      <td>2024-10-19</td>\n",
       "    </tr>\n",
       "    <tr>\n",
       "      <th>98</th>\n",
       "      <td>6.994523</td>\n",
       "      <td>0.194172</td>\n",
       "      <td>6.605063</td>\n",
       "      <td>7.383984</td>\n",
       "      <td>5.553358</td>\n",
       "      <td>8.435688</td>\n",
       "      <td>2024.89899</td>\n",
       "      <td>2024-11-25</td>\n",
       "    </tr>\n",
       "    <tr>\n",
       "      <th>99</th>\n",
       "      <td>7.029403</td>\n",
       "      <td>0.198153</td>\n",
       "      <td>6.631958</td>\n",
       "      <td>7.426848</td>\n",
       "      <td>5.586060</td>\n",
       "      <td>8.472747</td>\n",
       "      <td>2025.00000</td>\n",
       "      <td>2025-01-01</td>\n",
       "    </tr>\n",
       "  </tbody>\n",
       "</table>\n",
       "<p>100 rows × 8 columns</p>\n",
       "</div>"
      ],
      "text/plain": [
       "        mean   mean_se  mean_ci_lower  mean_ci_upper  obs_ci_lower  \\\n",
       "0   3.576276  0.288646       2.997327       4.155226      2.072793   \n",
       "1   3.611156  0.284367       3.040788       4.181524      2.110957   \n",
       "2   3.646036  0.280096       3.084234       4.207838      2.149073   \n",
       "3   3.680916  0.275834       3.127664       4.234168      2.187141   \n",
       "4   3.715796  0.271579       3.171077       4.260516      2.225160   \n",
       "..       ...       ...            ...            ...           ...   \n",
       "95  6.889883  0.182383       6.524069       7.255697      5.454927   \n",
       "96  6.924763  0.186286       6.551121       7.298405      5.487792   \n",
       "97  6.959643  0.190216       6.578118       7.341168      5.520602   \n",
       "98  6.994523  0.194172       6.605063       7.383984      5.553358   \n",
       "99  7.029403  0.198153       6.631958       7.426848      5.586060   \n",
       "\n",
       "    obs_ci_upper  Publication date (float) Publication date  \n",
       "0       5.079759                2015.00000       2015-01-01  \n",
       "1       5.111355                2015.10101       2015-02-06  \n",
       "2       5.143000                2015.20202       2015-03-15  \n",
       "3       5.174692                2015.30303       2015-04-21  \n",
       "4       5.206433                2015.40404       2015-05-28  \n",
       "..           ...                       ...              ...  \n",
       "95      8.324838                2024.59596       2024-08-06  \n",
       "96      8.361734                2024.69697       2024-09-12  \n",
       "97      8.398684                2024.79798       2024-10-19  \n",
       "98      8.435688                2024.89899       2024-11-25  \n",
       "99      8.472747                2025.00000       2025-01-01  \n",
       "\n",
       "[100 rows x 8 columns]"
      ]
     },
     "execution_count": 73,
     "metadata": {},
     "output_type": "execute_result"
    }
   ],
   "source": [
    "\n",
    "predicted_cost_df = get_predictions(reg_results, pred_years, ['Publication date (float)'])\n",
    "predicted_cost_df['Publication date'] = predicted_cost_df['Publication date (float)'].apply(float_year_to_datetime)\n",
    "predicted_cost_df"
   ]
  },
  {
   "cell_type": "markdown",
   "metadata": {},
   "source": [
    "# Plots"
   ]
  },
  {
   "cell_type": "code",
   "execution_count": 74,
   "metadata": {},
   "outputs": [],
   "source": [
    "title_suffix = f' to train top {100 - compute_percentile_threshold}% most compute-intensive ML systems'\n",
    "plot_title_lookup = {\n",
    "    'cloud': 'Cloud compute cost' + title_suffix,\n",
    "    'amortized': 'Amortized cost of hardware' + title_suffix,\n",
    "    'up-front-server-capex': 'Acquisition cost of hardware' + title_suffix,\n",
    "    'hardware-capex-opex': 'Hardware CapEx + OpEx' + title_suffix,\n",
    "}"
   ]
  },
  {
   "cell_type": "code",
   "execution_count": 75,
   "metadata": {
    "ExecuteTime": {
     "end_time": "2024-03-08T01:55:04.230921600Z",
     "start_time": "2024-03-08T01:55:00.065485900Z"
    }
   },
   "outputs": [
    {
     "data": {
      "application/vnd.plotly.v1+json": {
       "config": {
        "plotlyServerURL": "https://plot.ly"
       },
       "data": [
        {
         "hovertemplate": "Publication date=%{x}<br>Cost (inflation-adjusted)=%{y}<br>System=%{text}<extra></extra>",
         "legendgroup": "",
         "marker": {
          "color": "#636efa",
          "symbol": "circle"
         },
         "mode": "markers+text",
         "name": "",
         "orientation": "v",
         "showlegend": false,
         "text": [
          "Gemini Ultra",
          "Qwen-72B",
          "Inflection-2",
          "Yi-34B",
          "ChatGLM3",
          "Falcon 180B",
          "Llama 2-70B",
          "Llama 2-34B",
          "Claude 2",
          "xTrimoPGLM -100B",
          "PaLM 2",
          "PanGu-Σ",
          "GPT-4",
          "LLaMA-65B",
          "ViT-22B",
          "GPT-3.5 (text-davinci-003)",
          "Galactica",
          "BLOOM-176B",
          "U-PaLM (540B)",
          "BlenderBot 3",
          "GLM-130B",
          "Minerva (540B)",
          "Parti",
          "UL2",
          "OPT-175B",
          "Flamingo",
          "PaLM (540B)",
          "Chinchilla",
          "LaMDA",
          "GPT-NeoX-20B",
          "AlphaCode",
          "ERNIE 3.0 Titan",
          "GLaM",
          "Gopher (280B)",
          "Yuan 1.0",
          "Megatron-Turing NLG 530B",
          "HyperCLOVA",
          "GOAT",
          "ByT5-XXL",
          "ProtT5-XXL",
          "Meta Pseudo Labels",
          "Switch",
          "DALL-E",
          "mT5-XXL",
          "GShard (dense)",
          "iGPT-XL",
          "GPT-3 175B (davinci)",
          "Turing-NLG",
          "Meena",
          "ContextNet + Noisy Student",
          "OpenAI Five",
          "OpenAI Five Rerun",
          "AlphaStar",
          "T5-11B",
          "Megatron-BERT",
          "Megatron-LM (8.3B)",
          "RoBERTa Large",
          "GPT-2 (1.5B)",
          "BERT-Large",
          "BigGAN-deep 512x512",
          "FTW",
          "ResNeXt-101 32x48d",
          "AmoebaNet-A (F=448)",
          "IMPALA",
          "AlphaZero",
          "AlphaGo Zero",
          "OpenAI TI7 DOTA 1v1",
          "JFT",
          "Libratus",
          "AlphaGo Master",
          "NASv3 (CIFAR-10)",
          "Xception",
          "GNMT",
          "AlphaGo Lee",
          "DeepSpeech2 (English)",
          "AlphaGo Fan"
         ],
         "textposition": "top center",
         "type": "scatter",
         "x": [
          "2023-12-06 00:00:00",
          "2023-11-30 00:00:00",
          "2023-11-22 00:00:00",
          "2023-11-02 00:00:00",
          "2023-10-27 00:00:00",
          "2023-09-06 00:00:00",
          "2023-07-18 00:00:00",
          "2023-07-18 00:00:00",
          "2023-07-11 00:00:00",
          "2023-07-06 00:00:00",
          "2023-05-10 00:00:00",
          "2023-03-20 00:00:00",
          "2023-03-15 00:00:00",
          "2023-02-24 00:00:00",
          "2023-02-10 00:00:00",
          "2022-11-28 00:00:00",
          "2022-11-16 00:00:00",
          "2022-11-08 00:00:00",
          "2022-10-20 00:00:00",
          "2022-08-10 00:00:00",
          "2022-08-04 00:00:00",
          "2022-06-29 00:00:00",
          "2022-06-22 00:00:00",
          "2022-05-10 00:00:00",
          "2022-05-02 00:00:00",
          "2022-04-29 00:00:00",
          "2022-04-04 00:00:00",
          "2022-03-29 00:00:00",
          "2022-02-10 00:00:00",
          "2022-02-09 00:00:00",
          "2022-02-02 00:00:00",
          "2021-12-23 00:00:00",
          "2021-12-13 00:00:00",
          "2021-12-08 00:00:00",
          "2021-10-12 00:00:00",
          "2021-10-11 00:00:00",
          "2021-09-10 00:00:00",
          "2021-07-27 00:00:00",
          "2021-05-28 00:00:00",
          "2021-05-04 00:00:00",
          "2021-03-01 00:00:00",
          "2021-01-11 00:00:00",
          "2021-01-05 00:00:00",
          "2020-10-20 00:00:00",
          "2020-06-30 00:00:00",
          "2020-06-17 00:00:00",
          "2020-05-28 00:00:00",
          "2020-02-13 00:00:00",
          "2020-01-28 00:00:00",
          "2020-01-19 00:00:00",
          "2019-12-13 00:00:00",
          "2019-12-13 00:00:00",
          "2019-10-30 00:00:00",
          "2019-10-23 00:00:00",
          "2019-09-17 00:00:00",
          "2019-09-17 00:00:00",
          "2019-07-01 00:00:00",
          "2019-02-14 00:00:00",
          "2018-10-11 00:00:00",
          "2018-09-28 00:00:00",
          "2018-07-03 00:00:00",
          "2018-05-02 00:00:00",
          "2018-02-05 00:00:00",
          "2018-02-05 00:00:00",
          "2017-12-05 00:00:00",
          "2017-10-18 00:00:00",
          "2017-08-11 00:00:00",
          "2017-07-10 00:00:00",
          "2017-01-01 00:00:00",
          "2017-01-01 00:00:00",
          "2016-11-05 00:00:00",
          "2016-10-07 00:00:00",
          "2016-09-26 00:00:00",
          "2016-01-27 00:00:00",
          "2015-12-08 00:00:00",
          "2015-10-01 00:00:00"
         ],
         "xaxis": "x",
         "y": [
          59098935.521558546,
          null,
          11814937.263073169,
          null,
          null,
          16664628.495974407,
          2100375.53082953,
          941922.1278912632,
          null,
          2828128.439701976,
          9588955.87422237,
          null,
          53923814.26934998,
          963049.5645226391,
          564686.7873475397,
          5856347.991684807,
          760076.4254297941,
          1073804.9951712135,
          6256644.242271549,
          1771496.1580857935,
          1058008.2311482902,
          6690028.406003843,
          686571.1101239109,
          266223.8757295752,
          799503.0828683693,
          385088.37098927936,
          6197987.622843125,
          null,
          401387.99597943254,
          246775.12541116273,
          null,
          null,
          1147921.4517977699,
          1089721.0889697156,
          null,
          6007032.298434179,
          751596.502476482,
          143534.71345211257,
          156916.28067141003,
          145610.1842261694,
          96367.49517062954,
          250683.41046736357,
          245134.28237973657,
          null,
          465181.630367072,
          171038.66160747598,
          3125861.1156202652,
          81437.03376347196,
          377138.08608222,
          16481.171984934594,
          null,
          null,
          229945.51567990062,
          138029.2543130351,
          639338.4293385277,
          149831.49057098074,
          110455.76799724372,
          null,
          3785.5782178592144,
          9536.251612031865,
          null,
          null,
          18607.73236616255,
          null,
          475243.42711215594,
          1243746.2897819837,
          null,
          22516.454642517332,
          null,
          682555.7097885382,
          null,
          13633.385471941707,
          130880.50053064038,
          null,
          264.33489482384294,
          null
         ],
         "yaxis": "y"
        }
       ],
       "layout": {
        "autosize": false,
        "font": {
         "size": 14
        },
        "height": 600,
        "legend": {
         "tracegroupgap": 0
        },
        "margin": {
         "b": 10,
         "l": 10,
         "r": 10,
         "t": 40
        },
        "showlegend": false,
        "template": {
         "data": {
          "bar": [
           {
            "error_x": {
             "color": "#2a3f5f"
            },
            "error_y": {
             "color": "#2a3f5f"
            },
            "marker": {
             "line": {
              "color": "#E5ECF6",
              "width": 0.5
             },
             "pattern": {
              "fillmode": "overlay",
              "size": 10,
              "solidity": 0.2
             }
            },
            "type": "bar"
           }
          ],
          "barpolar": [
           {
            "marker": {
             "line": {
              "color": "#E5ECF6",
              "width": 0.5
             },
             "pattern": {
              "fillmode": "overlay",
              "size": 10,
              "solidity": 0.2
             }
            },
            "type": "barpolar"
           }
          ],
          "carpet": [
           {
            "aaxis": {
             "endlinecolor": "#2a3f5f",
             "gridcolor": "white",
             "linecolor": "white",
             "minorgridcolor": "white",
             "startlinecolor": "#2a3f5f"
            },
            "baxis": {
             "endlinecolor": "#2a3f5f",
             "gridcolor": "white",
             "linecolor": "white",
             "minorgridcolor": "white",
             "startlinecolor": "#2a3f5f"
            },
            "type": "carpet"
           }
          ],
          "choropleth": [
           {
            "colorbar": {
             "outlinewidth": 0,
             "ticks": ""
            },
            "type": "choropleth"
           }
          ],
          "contour": [
           {
            "colorbar": {
             "outlinewidth": 0,
             "ticks": ""
            },
            "colorscale": [
             [
              0,
              "#0d0887"
             ],
             [
              0.1111111111111111,
              "#46039f"
             ],
             [
              0.2222222222222222,
              "#7201a8"
             ],
             [
              0.3333333333333333,
              "#9c179e"
             ],
             [
              0.4444444444444444,
              "#bd3786"
             ],
             [
              0.5555555555555556,
              "#d8576b"
             ],
             [
              0.6666666666666666,
              "#ed7953"
             ],
             [
              0.7777777777777778,
              "#fb9f3a"
             ],
             [
              0.8888888888888888,
              "#fdca26"
             ],
             [
              1,
              "#f0f921"
             ]
            ],
            "type": "contour"
           }
          ],
          "contourcarpet": [
           {
            "colorbar": {
             "outlinewidth": 0,
             "ticks": ""
            },
            "type": "contourcarpet"
           }
          ],
          "heatmap": [
           {
            "colorbar": {
             "outlinewidth": 0,
             "ticks": ""
            },
            "colorscale": [
             [
              0,
              "#0d0887"
             ],
             [
              0.1111111111111111,
              "#46039f"
             ],
             [
              0.2222222222222222,
              "#7201a8"
             ],
             [
              0.3333333333333333,
              "#9c179e"
             ],
             [
              0.4444444444444444,
              "#bd3786"
             ],
             [
              0.5555555555555556,
              "#d8576b"
             ],
             [
              0.6666666666666666,
              "#ed7953"
             ],
             [
              0.7777777777777778,
              "#fb9f3a"
             ],
             [
              0.8888888888888888,
              "#fdca26"
             ],
             [
              1,
              "#f0f921"
             ]
            ],
            "type": "heatmap"
           }
          ],
          "heatmapgl": [
           {
            "colorbar": {
             "outlinewidth": 0,
             "ticks": ""
            },
            "colorscale": [
             [
              0,
              "#0d0887"
             ],
             [
              0.1111111111111111,
              "#46039f"
             ],
             [
              0.2222222222222222,
              "#7201a8"
             ],
             [
              0.3333333333333333,
              "#9c179e"
             ],
             [
              0.4444444444444444,
              "#bd3786"
             ],
             [
              0.5555555555555556,
              "#d8576b"
             ],
             [
              0.6666666666666666,
              "#ed7953"
             ],
             [
              0.7777777777777778,
              "#fb9f3a"
             ],
             [
              0.8888888888888888,
              "#fdca26"
             ],
             [
              1,
              "#f0f921"
             ]
            ],
            "type": "heatmapgl"
           }
          ],
          "histogram": [
           {
            "marker": {
             "pattern": {
              "fillmode": "overlay",
              "size": 10,
              "solidity": 0.2
             }
            },
            "type": "histogram"
           }
          ],
          "histogram2d": [
           {
            "colorbar": {
             "outlinewidth": 0,
             "ticks": ""
            },
            "colorscale": [
             [
              0,
              "#0d0887"
             ],
             [
              0.1111111111111111,
              "#46039f"
             ],
             [
              0.2222222222222222,
              "#7201a8"
             ],
             [
              0.3333333333333333,
              "#9c179e"
             ],
             [
              0.4444444444444444,
              "#bd3786"
             ],
             [
              0.5555555555555556,
              "#d8576b"
             ],
             [
              0.6666666666666666,
              "#ed7953"
             ],
             [
              0.7777777777777778,
              "#fb9f3a"
             ],
             [
              0.8888888888888888,
              "#fdca26"
             ],
             [
              1,
              "#f0f921"
             ]
            ],
            "type": "histogram2d"
           }
          ],
          "histogram2dcontour": [
           {
            "colorbar": {
             "outlinewidth": 0,
             "ticks": ""
            },
            "colorscale": [
             [
              0,
              "#0d0887"
             ],
             [
              0.1111111111111111,
              "#46039f"
             ],
             [
              0.2222222222222222,
              "#7201a8"
             ],
             [
              0.3333333333333333,
              "#9c179e"
             ],
             [
              0.4444444444444444,
              "#bd3786"
             ],
             [
              0.5555555555555556,
              "#d8576b"
             ],
             [
              0.6666666666666666,
              "#ed7953"
             ],
             [
              0.7777777777777778,
              "#fb9f3a"
             ],
             [
              0.8888888888888888,
              "#fdca26"
             ],
             [
              1,
              "#f0f921"
             ]
            ],
            "type": "histogram2dcontour"
           }
          ],
          "mesh3d": [
           {
            "colorbar": {
             "outlinewidth": 0,
             "ticks": ""
            },
            "type": "mesh3d"
           }
          ],
          "parcoords": [
           {
            "line": {
             "colorbar": {
              "outlinewidth": 0,
              "ticks": ""
             }
            },
            "type": "parcoords"
           }
          ],
          "pie": [
           {
            "automargin": true,
            "type": "pie"
           }
          ],
          "scatter": [
           {
            "fillpattern": {
             "fillmode": "overlay",
             "size": 10,
             "solidity": 0.2
            },
            "type": "scatter"
           }
          ],
          "scatter3d": [
           {
            "line": {
             "colorbar": {
              "outlinewidth": 0,
              "ticks": ""
             }
            },
            "marker": {
             "colorbar": {
              "outlinewidth": 0,
              "ticks": ""
             }
            },
            "type": "scatter3d"
           }
          ],
          "scattercarpet": [
           {
            "marker": {
             "colorbar": {
              "outlinewidth": 0,
              "ticks": ""
             }
            },
            "type": "scattercarpet"
           }
          ],
          "scattergeo": [
           {
            "marker": {
             "colorbar": {
              "outlinewidth": 0,
              "ticks": ""
             }
            },
            "type": "scattergeo"
           }
          ],
          "scattergl": [
           {
            "marker": {
             "colorbar": {
              "outlinewidth": 0,
              "ticks": ""
             }
            },
            "type": "scattergl"
           }
          ],
          "scattermapbox": [
           {
            "marker": {
             "colorbar": {
              "outlinewidth": 0,
              "ticks": ""
             }
            },
            "type": "scattermapbox"
           }
          ],
          "scatterpolar": [
           {
            "marker": {
             "colorbar": {
              "outlinewidth": 0,
              "ticks": ""
             }
            },
            "type": "scatterpolar"
           }
          ],
          "scatterpolargl": [
           {
            "marker": {
             "colorbar": {
              "outlinewidth": 0,
              "ticks": ""
             }
            },
            "type": "scatterpolargl"
           }
          ],
          "scatterternary": [
           {
            "marker": {
             "colorbar": {
              "outlinewidth": 0,
              "ticks": ""
             }
            },
            "type": "scatterternary"
           }
          ],
          "surface": [
           {
            "colorbar": {
             "outlinewidth": 0,
             "ticks": ""
            },
            "colorscale": [
             [
              0,
              "#0d0887"
             ],
             [
              0.1111111111111111,
              "#46039f"
             ],
             [
              0.2222222222222222,
              "#7201a8"
             ],
             [
              0.3333333333333333,
              "#9c179e"
             ],
             [
              0.4444444444444444,
              "#bd3786"
             ],
             [
              0.5555555555555556,
              "#d8576b"
             ],
             [
              0.6666666666666666,
              "#ed7953"
             ],
             [
              0.7777777777777778,
              "#fb9f3a"
             ],
             [
              0.8888888888888888,
              "#fdca26"
             ],
             [
              1,
              "#f0f921"
             ]
            ],
            "type": "surface"
           }
          ],
          "table": [
           {
            "cells": {
             "fill": {
              "color": "#EBF0F8"
             },
             "line": {
              "color": "white"
             }
            },
            "header": {
             "fill": {
              "color": "#C8D4E3"
             },
             "line": {
              "color": "white"
             }
            },
            "type": "table"
           }
          ]
         },
         "layout": {
          "annotationdefaults": {
           "arrowcolor": "#2a3f5f",
           "arrowhead": 0,
           "arrowwidth": 1
          },
          "autotypenumbers": "strict",
          "coloraxis": {
           "colorbar": {
            "outlinewidth": 0,
            "ticks": ""
           }
          },
          "colorscale": {
           "diverging": [
            [
             0,
             "#8e0152"
            ],
            [
             0.1,
             "#c51b7d"
            ],
            [
             0.2,
             "#de77ae"
            ],
            [
             0.3,
             "#f1b6da"
            ],
            [
             0.4,
             "#fde0ef"
            ],
            [
             0.5,
             "#f7f7f7"
            ],
            [
             0.6,
             "#e6f5d0"
            ],
            [
             0.7,
             "#b8e186"
            ],
            [
             0.8,
             "#7fbc41"
            ],
            [
             0.9,
             "#4d9221"
            ],
            [
             1,
             "#276419"
            ]
           ],
           "sequential": [
            [
             0,
             "#0d0887"
            ],
            [
             0.1111111111111111,
             "#46039f"
            ],
            [
             0.2222222222222222,
             "#7201a8"
            ],
            [
             0.3333333333333333,
             "#9c179e"
            ],
            [
             0.4444444444444444,
             "#bd3786"
            ],
            [
             0.5555555555555556,
             "#d8576b"
            ],
            [
             0.6666666666666666,
             "#ed7953"
            ],
            [
             0.7777777777777778,
             "#fb9f3a"
            ],
            [
             0.8888888888888888,
             "#fdca26"
            ],
            [
             1,
             "#f0f921"
            ]
           ],
           "sequentialminus": [
            [
             0,
             "#0d0887"
            ],
            [
             0.1111111111111111,
             "#46039f"
            ],
            [
             0.2222222222222222,
             "#7201a8"
            ],
            [
             0.3333333333333333,
             "#9c179e"
            ],
            [
             0.4444444444444444,
             "#bd3786"
            ],
            [
             0.5555555555555556,
             "#d8576b"
            ],
            [
             0.6666666666666666,
             "#ed7953"
            ],
            [
             0.7777777777777778,
             "#fb9f3a"
            ],
            [
             0.8888888888888888,
             "#fdca26"
            ],
            [
             1,
             "#f0f921"
            ]
           ]
          },
          "colorway": [
           "#636efa",
           "#EF553B",
           "#00cc96",
           "#ab63fa",
           "#FFA15A",
           "#19d3f3",
           "#FF6692",
           "#B6E880",
           "#FF97FF",
           "#FECB52"
          ],
          "font": {
           "color": "#2a3f5f"
          },
          "geo": {
           "bgcolor": "white",
           "lakecolor": "white",
           "landcolor": "#E5ECF6",
           "showlakes": true,
           "showland": true,
           "subunitcolor": "white"
          },
          "hoverlabel": {
           "align": "left"
          },
          "hovermode": "closest",
          "mapbox": {
           "style": "light"
          },
          "paper_bgcolor": "white",
          "plot_bgcolor": "#E5ECF6",
          "polar": {
           "angularaxis": {
            "gridcolor": "white",
            "linecolor": "white",
            "ticks": ""
           },
           "bgcolor": "#E5ECF6",
           "radialaxis": {
            "gridcolor": "white",
            "linecolor": "white",
            "ticks": ""
           }
          },
          "scene": {
           "xaxis": {
            "backgroundcolor": "#E5ECF6",
            "gridcolor": "white",
            "gridwidth": 2,
            "linecolor": "white",
            "showbackground": true,
            "ticks": "",
            "zerolinecolor": "white"
           },
           "yaxis": {
            "backgroundcolor": "#E5ECF6",
            "gridcolor": "white",
            "gridwidth": 2,
            "linecolor": "white",
            "showbackground": true,
            "ticks": "",
            "zerolinecolor": "white"
           },
           "zaxis": {
            "backgroundcolor": "#E5ECF6",
            "gridcolor": "white",
            "gridwidth": 2,
            "linecolor": "white",
            "showbackground": true,
            "ticks": "",
            "zerolinecolor": "white"
           }
          },
          "shapedefaults": {
           "line": {
            "color": "#2a3f5f"
           }
          },
          "ternary": {
           "aaxis": {
            "gridcolor": "white",
            "linecolor": "white",
            "ticks": ""
           },
           "baxis": {
            "gridcolor": "white",
            "linecolor": "white",
            "ticks": ""
           },
           "bgcolor": "#E5ECF6",
           "caxis": {
            "gridcolor": "white",
            "linecolor": "white",
            "ticks": ""
           }
          },
          "title": {
           "x": 0.05
          },
          "xaxis": {
           "automargin": true,
           "gridcolor": "white",
           "linecolor": "white",
           "ticks": "",
           "title": {
            "standoff": 15
           },
           "zerolinecolor": "white",
           "zerolinewidth": 2
          },
          "yaxis": {
           "automargin": true,
           "gridcolor": "white",
           "linecolor": "white",
           "ticks": "",
           "title": {
            "standoff": 15
           },
           "zerolinecolor": "white",
           "zerolinewidth": 2
          }
         }
        },
        "title": {
         "text": "Hardware CapEx + OpEx to train top 25% most compute-intensive ML systems"
        },
        "width": 800,
        "xaxis": {
         "anchor": "y",
         "domain": [
          0,
          1
         ],
         "range": [
          "2015-01-01",
          "2025-01-01"
         ],
         "title": {
          "text": "Publication date"
         }
        },
        "yaxis": {
         "anchor": "x",
         "domain": [
          0,
          1
         ],
         "title": {
          "text": "Cost (2023 USD)"
         },
         "type": "log"
        }
       }
      }
     },
     "metadata": {},
     "output_type": "display_data"
    }
   ],
   "source": [
    "fig = px.scatter(\n",
    "    cost_df,\n",
    "    x='Publication date',\n",
    "    y='Cost (inflation-adjusted)',\n",
    "    text='System',\n",
    "    log_y=True,\n",
    ")\n",
    "fig.update_traces(textposition='top center')\n",
    "\n",
    "# no legend\n",
    "fig.update_layout(showlegend=False)\n",
    "\n",
    "# axis labels\n",
    "fig.update_xaxes(title_text='Publication date')\n",
    "fig.update_yaxes(title_text='Cost (2023 USD)')\n",
    "\n",
    "# title\n",
    "fig.update_layout(title_text=plot_title_lookup[estimation_method])\n",
    "\n",
    "# update size\n",
    "fig.update_layout(\n",
    "    autosize=False,\n",
    "    width=800,\n",
    "    height=600,\n",
    ")\n",
    "\n",
    "# font size\n",
    "fig.update_layout(\n",
    "    font=dict(\n",
    "        size=14,\n",
    "    )\n",
    ")\n",
    "\n",
    "# axis limits\n",
    "fig.update_xaxes(range=['2015-01-01', '2025-01-01'])\n",
    "\n",
    "# margins\n",
    "fig.update_layout(margin=dict(l=10, r=10, t=40, b=10))\n",
    "\n",
    "save_plot(fig, results_dir, 'cost_scatter')\n",
    "\n",
    "fig.show()"
   ]
  },
  {
   "cell_type": "code",
   "execution_count": 86,
   "metadata": {},
   "outputs": [
    {
     "data": {
      "text/plain": [
       "39       True\n",
       "46      False\n",
       "54      False\n",
       "83      False\n",
       "92      False\n",
       "        ...  \n",
       "1094    False\n",
       "1095    False\n",
       "1131    False\n",
       "1137    False\n",
       "1141    False\n",
       "Name: Training hardware, Length: 76, dtype: bool"
      ]
     },
     "execution_count": 86,
     "metadata": {},
     "output_type": "execute_result"
    }
   ],
   "source": [
    "cost_df['Training hardware'].str.contains('TPU', na=False)"
   ]
  },
  {
   "cell_type": "code",
   "execution_count": 141,
   "metadata": {
    "ExecuteTime": {
     "end_time": "2024-03-08T01:55:04.855981900Z",
     "start_time": "2024-03-08T01:55:04.230921600Z"
    }
   },
   "outputs": [
    {
     "data": {
      "application/vnd.plotly.v1+json": {
       "config": {
        "plotlyServerURL": "https://plot.ly"
       },
       "data": [
        {
         "hovertemplate": "Publication date=%{x}<br>Cost (inflation-adjusted)=%{y}<extra></extra>",
         "legendgroup": "",
         "marker": {
          "color": "rgb(0,100,200)",
          "symbol": "circle"
         },
         "mode": "markers",
         "name": "",
         "orientation": "v",
         "showlegend": false,
         "textposition": "top center",
         "type": "scatter",
         "x": [
          "2023-11-30 00:00:00",
          "2023-11-22 00:00:00",
          "2023-11-02 00:00:00",
          "2023-10-27 00:00:00",
          "2023-09-06 00:00:00",
          "2023-07-18 00:00:00",
          "2023-07-18 00:00:00",
          "2023-07-11 00:00:00",
          "2023-07-06 00:00:00",
          "2023-03-20 00:00:00",
          "2023-03-15 00:00:00",
          "2023-02-24 00:00:00",
          "2022-11-28 00:00:00",
          "2022-11-16 00:00:00",
          "2022-11-08 00:00:00",
          "2022-08-10 00:00:00",
          "2022-08-04 00:00:00",
          "2022-05-02 00:00:00",
          "2022-02-09 00:00:00",
          "2021-12-23 00:00:00",
          "2021-10-12 00:00:00",
          "2021-10-11 00:00:00",
          "2021-09-10 00:00:00",
          "2021-01-05 00:00:00",
          "2020-10-20 00:00:00",
          "2020-06-17 00:00:00",
          "2020-05-28 00:00:00",
          "2020-02-13 00:00:00",
          "2019-12-13 00:00:00",
          "2019-12-13 00:00:00",
          "2019-09-17 00:00:00",
          "2019-09-17 00:00:00",
          "2019-07-01 00:00:00",
          "2019-02-14 00:00:00",
          "2018-07-03 00:00:00",
          "2018-05-02 00:00:00",
          "2018-02-05 00:00:00",
          "2018-02-05 00:00:00",
          "2017-08-11 00:00:00",
          "2017-07-10 00:00:00",
          "2017-01-01 00:00:00",
          "2016-11-05 00:00:00",
          "2016-10-07 00:00:00",
          "2016-09-26 00:00:00",
          "2016-01-27 00:00:00",
          "2015-12-08 00:00:00",
          "2015-10-01 00:00:00"
         ],
         "xaxis": "x",
         "y": [
          null,
          11814937.263073169,
          null,
          null,
          16664628.495974407,
          2100375.53082953,
          941922.1278912632,
          null,
          2828128.439701976,
          null,
          53923814.26934998,
          963049.5645226391,
          5856347.991684807,
          760076.4254297941,
          1073804.9951712135,
          1771496.1580857935,
          1058008.2311482902,
          799503.0828683693,
          246775.12541116273,
          null,
          null,
          6007032.298434179,
          751596.502476482,
          245134.28237973657,
          null,
          171038.66160747598,
          3125861.1156202652,
          81437.03376347196,
          null,
          null,
          639338.4293385277,
          149831.49057098074,
          110455.76799724372,
          null,
          null,
          null,
          18607.73236616255,
          null,
          null,
          22516.454642517332,
          null,
          null,
          13633.385471941707,
          130880.50053064038,
          null,
          264.33489482384294,
          null
         ],
         "yaxis": "y"
        },
        {
         "marker": {
          "color": "rgb(0,100,200)",
          "symbol": "circle-open"
         },
         "mode": "markers",
         "name": "Using equivalent price of TPU",
         "textposition": "top center",
         "type": "scatter",
         "x": [
          "2023-12-06 00:00:00",
          "2023-05-10 00:00:00",
          "2023-02-10 00:00:00",
          "2022-10-20 00:00:00",
          "2022-06-29 00:00:00",
          "2022-06-22 00:00:00",
          "2022-05-10 00:00:00",
          "2022-04-29 00:00:00",
          "2022-04-04 00:00:00",
          "2022-03-29 00:00:00",
          "2022-02-10 00:00:00",
          "2022-02-02 00:00:00",
          "2021-12-13 00:00:00",
          "2021-12-08 00:00:00",
          "2021-07-27 00:00:00",
          "2021-05-28 00:00:00",
          "2021-05-04 00:00:00",
          "2021-03-01 00:00:00",
          "2021-01-11 00:00:00",
          "2020-06-30 00:00:00",
          "2020-01-28 00:00:00",
          "2020-01-19 00:00:00",
          "2019-10-30 00:00:00",
          "2019-10-23 00:00:00",
          "2018-10-11 00:00:00",
          "2018-09-28 00:00:00",
          "2017-12-05 00:00:00",
          "2017-10-18 00:00:00",
          "2017-01-01 00:00:00"
         ],
         "y": [
          59098935.521558546,
          9588955.87422237,
          564686.7873475397,
          6256644.242271549,
          6690028.406003843,
          686571.1101239109,
          266223.8757295752,
          385088.37098927936,
          6197987.622843125,
          null,
          401387.99597943254,
          null,
          1147921.4517977699,
          1089721.0889697156,
          143534.71345211257,
          156916.28067141003,
          145610.1842261694,
          96367.49517062954,
          250683.41046736357,
          465181.630367072,
          377138.08608222,
          16481.171984934594,
          229945.51567990062,
          138029.2543130351,
          3785.5782178592144,
          9536.251612031865,
          475243.42711215594,
          1243746.2897819837,
          682555.7097885382
         ]
        },
        {
         "mode": "text",
         "showlegend": false,
         "text": [
          "Falcon 180B",
          "Llama 2-70B",
          "GPT-4",
          "DALL-E",
          "GPT-3 175B (davinci)",
          "GNMT"
         ],
         "textposition": "top center",
         "type": "scatter",
         "x": [
          "2023-09-06 00:00:00",
          "2023-07-18 00:00:00",
          "2023-03-15 00:00:00",
          "2021-01-05 00:00:00",
          "2020-05-28 00:00:00",
          "2016-09-26 00:00:00"
         ],
         "y": [
          16664628.495974407,
          2100375.53082953,
          53923814.26934998,
          245134.28237973657,
          3125861.1156202652,
          130880.50053064038
         ]
        },
        {
         "mode": "text",
         "showlegend": false,
         "text": [
          "Gemini Ultra",
          "PaLM (540B)"
         ],
         "textposition": "top center",
         "type": "scatter",
         "x": [
          "2023-12-06 00:00:00",
          "2022-04-04 00:00:00"
         ],
         "y": [
          59098935.521558546,
          6197987.622843125
         ]
        },
        {
         "line": {
          "width": 0
         },
         "mode": "lines",
         "showlegend": false,
         "textposition": "top center",
         "type": "scatter",
         "x": [
          "2015-01-01T00:00:00",
          "2015-02-06T00:00:00",
          "2015-03-15T00:00:00",
          "2015-04-21T00:00:00",
          "2015-05-28T00:00:00",
          "2015-07-04T00:00:00",
          "2015-08-10T00:00:00",
          "2015-09-16T00:00:00",
          "2015-10-22T00:00:00",
          "2015-11-28T00:00:00",
          "2016-01-04T00:00:00",
          "2016-02-10T00:00:00",
          "2016-03-18T00:00:00",
          "2016-04-24T00:00:00",
          "2016-05-31T00:00:00",
          "2016-07-07T00:00:00",
          "2016-08-13T00:00:00",
          "2016-09-19T00:00:00",
          "2016-10-26T00:00:00",
          "2016-12-02T00:00:00",
          "2017-01-08T00:00:00",
          "2017-02-14T00:00:00",
          "2017-03-23T00:00:00",
          "2017-04-28T00:00:00",
          "2017-06-04T00:00:00",
          "2017-07-11T00:00:00",
          "2017-08-17T00:00:00",
          "2017-09-23T00:00:00",
          "2017-10-30T00:00:00",
          "2017-12-06T00:00:00",
          "2018-01-12T00:00:00",
          "2018-02-17T00:00:00",
          "2018-03-26T00:00:00",
          "2018-05-02T00:00:00",
          "2018-06-08T00:00:00",
          "2018-07-15T00:00:00",
          "2018-08-21T00:00:00",
          "2018-09-27T00:00:00",
          "2018-11-03T00:00:00",
          "2018-12-09T00:00:00",
          "2019-01-15T00:00:00",
          "2019-02-21T00:00:00",
          "2019-03-30T00:00:00",
          "2019-05-06T00:00:00",
          "2019-06-12T00:00:00",
          "2019-07-19T00:00:00",
          "2019-08-24T00:00:00",
          "2019-09-30T00:00:00",
          "2019-11-06T00:00:00",
          "2019-12-13T00:00:00",
          "2020-01-19T00:00:00",
          "2020-02-25T00:00:00",
          "2020-04-02T00:00:00",
          "2020-05-09T00:00:00",
          "2020-06-15T00:00:00",
          "2020-07-22T00:00:00",
          "2020-08-28T00:00:00",
          "2020-10-04T00:00:00",
          "2020-11-10T00:00:00",
          "2020-12-17T00:00:00",
          "2021-01-23T00:00:00",
          "2021-02-28T00:00:00",
          "2021-04-06T00:00:00",
          "2021-05-13T00:00:00",
          "2021-06-19T00:00:00",
          "2021-07-26T00:00:00",
          "2021-09-01T00:00:00",
          "2021-10-08T00:00:00",
          "2021-11-14T00:00:00",
          "2021-12-20T00:00:00",
          "2022-01-26T00:00:00",
          "2022-03-04T00:00:00",
          "2022-04-10T00:00:00",
          "2022-05-17T00:00:00",
          "2022-06-23T00:00:00",
          "2022-07-30T00:00:00",
          "2022-09-05T00:00:00",
          "2022-10-11T00:00:00",
          "2022-11-17T00:00:00",
          "2022-12-24T00:00:00",
          "2023-01-30T00:00:00",
          "2023-03-08T00:00:00",
          "2023-04-14T00:00:00",
          "2023-05-21T00:00:00",
          "2023-06-26T00:00:00",
          "2023-08-02T00:00:00",
          "2023-09-08T00:00:00",
          "2023-10-15T00:00:00",
          "2023-11-21T00:00:00",
          "2023-12-28T00:00:00",
          "2024-02-03T00:00:00",
          "2024-03-11T00:00:00",
          "2024-04-17T00:00:00",
          "2024-05-24T00:00:00",
          "2024-06-30T00:00:00",
          "2024-08-06T00:00:00",
          "2024-09-12T00:00:00",
          "2024-10-19T00:00:00",
          "2024-11-25T00:00:00",
          "2025-01-01T00:00:00"
         ],
         "y": [
          993.8629586200076,
          1098.4699096829095,
          1214.0435918912833,
          1341.7269128663163,
          1482.7807845656305,
          1638.5961215802072,
          1810.7070269528442,
          2000.8052771335535,
          2210.7562270230796,
          2442.6162659674774,
          2698.651965964618,
          2981.361074260681,
          3293.4955138097075,
          3638.0865667337125,
          4018.472427738905,
          4438.328326326282,
          4901.699428281677,
          5413.036738144794,
          5977.236234652359,
          6599.681480189141,
          7286.289952355417,
          8043.5633503113595,
          8878.64212952375,
          9799.36451500259,
          10814.33023377056,
          11932.969190491995,
          13165.615284279289,
          14523.585527346084,
          16019.264575167548,
          17666.194710002575,
          19479.17123220529,
          21474.343102887044,
          23669.31854393724,
          26083.275132864,
          28737.073727468847,
          31653.375315363995,
          34856.759604831655,
          38373.84385558143,
          42233.40009488821,
          46466.4684828092,
          51106.46419474741,
          56189.27480108197,
          61753.34477559768,
          67839.74350216163,
          74492.21303169733,
          81757.19194551304,
          89683.8120939037,
          98323.86579982618,
          107731.74244005294,
          117964.33522012287,
          129080.92147822627,
          141143.02295284788,
          154214.25598714044,
          168360.1853518316,
          183648.19883500392,
          200147.4224410312,
          217928.6973658708,
          237064.63932515436,
          257629.7979332592,
          279700.9286232203,
          303357.38242814917,
          328681.6106249347,
          355759.77289398113,
          384682.43051780976,
          415545.301295706,
          448450.05096227524,
          483505.0970827537,
          520826.40522042435,
          560538.262807718,
          602774.0225821447,
          647676.8137217613,
          695400.2241876067,
          746108.9618385168,
          799979.5044925899,
          857200.7503954631,
          917974.6807631342,
          982517.0455251449,
          1051058.082397356,
          1123843.2782297025,
          1201134.1803771663,
          1283209.2647705786,
          1370364.8664694894,
          1462916.1778067425,
          1561198.3187573643,
          1665567.4838861255,
          1776402.1701121172,
          1894104.4895464492,
          2019101.5717881583,
          2151847.060274172,
          2292822.7075716755,
          2442540.074827036,
          2601542.3409731975,
          2770406.227702003,
          2949744.0466665193,
          3140205.8758351305,
          3342481.872426354,
          3557304.7303668936,
          3785452.2907762234,
          4027750.3145428197,
          4285075.4266728405
         ]
        },
        {
         "fill": "tonexty",
         "fillcolor": "rgba(0,100,200,0.2)",
         "line": {
          "width": 0
         },
         "mode": "lines",
         "name": "95% CI of mean",
         "textposition": "top center",
         "type": "scatter",
         "x": [
          "2015-01-01T00:00:00",
          "2015-02-06T00:00:00",
          "2015-03-15T00:00:00",
          "2015-04-21T00:00:00",
          "2015-05-28T00:00:00",
          "2015-07-04T00:00:00",
          "2015-08-10T00:00:00",
          "2015-09-16T00:00:00",
          "2015-10-22T00:00:00",
          "2015-11-28T00:00:00",
          "2016-01-04T00:00:00",
          "2016-02-10T00:00:00",
          "2016-03-18T00:00:00",
          "2016-04-24T00:00:00",
          "2016-05-31T00:00:00",
          "2016-07-07T00:00:00",
          "2016-08-13T00:00:00",
          "2016-09-19T00:00:00",
          "2016-10-26T00:00:00",
          "2016-12-02T00:00:00",
          "2017-01-08T00:00:00",
          "2017-02-14T00:00:00",
          "2017-03-23T00:00:00",
          "2017-04-28T00:00:00",
          "2017-06-04T00:00:00",
          "2017-07-11T00:00:00",
          "2017-08-17T00:00:00",
          "2017-09-23T00:00:00",
          "2017-10-30T00:00:00",
          "2017-12-06T00:00:00",
          "2018-01-12T00:00:00",
          "2018-02-17T00:00:00",
          "2018-03-26T00:00:00",
          "2018-05-02T00:00:00",
          "2018-06-08T00:00:00",
          "2018-07-15T00:00:00",
          "2018-08-21T00:00:00",
          "2018-09-27T00:00:00",
          "2018-11-03T00:00:00",
          "2018-12-09T00:00:00",
          "2019-01-15T00:00:00",
          "2019-02-21T00:00:00",
          "2019-03-30T00:00:00",
          "2019-05-06T00:00:00",
          "2019-06-12T00:00:00",
          "2019-07-19T00:00:00",
          "2019-08-24T00:00:00",
          "2019-09-30T00:00:00",
          "2019-11-06T00:00:00",
          "2019-12-13T00:00:00",
          "2020-01-19T00:00:00",
          "2020-02-25T00:00:00",
          "2020-04-02T00:00:00",
          "2020-05-09T00:00:00",
          "2020-06-15T00:00:00",
          "2020-07-22T00:00:00",
          "2020-08-28T00:00:00",
          "2020-10-04T00:00:00",
          "2020-11-10T00:00:00",
          "2020-12-17T00:00:00",
          "2021-01-23T00:00:00",
          "2021-02-28T00:00:00",
          "2021-04-06T00:00:00",
          "2021-05-13T00:00:00",
          "2021-06-19T00:00:00",
          "2021-07-26T00:00:00",
          "2021-09-01T00:00:00",
          "2021-10-08T00:00:00",
          "2021-11-14T00:00:00",
          "2021-12-20T00:00:00",
          "2022-01-26T00:00:00",
          "2022-03-04T00:00:00",
          "2022-04-10T00:00:00",
          "2022-05-17T00:00:00",
          "2022-06-23T00:00:00",
          "2022-07-30T00:00:00",
          "2022-09-05T00:00:00",
          "2022-10-11T00:00:00",
          "2022-11-17T00:00:00",
          "2022-12-24T00:00:00",
          "2023-01-30T00:00:00",
          "2023-03-08T00:00:00",
          "2023-04-14T00:00:00",
          "2023-05-21T00:00:00",
          "2023-06-26T00:00:00",
          "2023-08-02T00:00:00",
          "2023-09-08T00:00:00",
          "2023-10-15T00:00:00",
          "2023-11-21T00:00:00",
          "2023-12-28T00:00:00",
          "2024-02-03T00:00:00",
          "2024-03-11T00:00:00",
          "2024-04-17T00:00:00",
          "2024-05-24T00:00:00",
          "2024-06-30T00:00:00",
          "2024-08-06T00:00:00",
          "2024-09-12T00:00:00",
          "2024-10-19T00:00:00",
          "2024-11-25T00:00:00",
          "2025-01-01T00:00:00"
         ],
         "y": [
          14296.364699659167,
          15188.822294620024,
          16137.569568559147,
          17146.221114284555,
          18218.631195908336,
          19358.910580625638,
          20571.444674817085,
          21860.913081888142,
          23232.310711948507,
          24690.970587888198,
          26242.588508661953,
          27893.24974909903,
          29649.45799655104,
          31518.166748742053,
          33506.81342440132,
          35623.35646965627,
          37876.31577887318,
          40274.81678992342,
          42828.63866100761,
          45548.266990753065,
          48444.95160602983,
          51530.77001463971,
          54818.69720393121,
          58322.682563425915,
          62057.73482244453,
          66040.01602400107,
          70286.94570792158,
          74817.31665153797,
          79651.42372039384,
          84811.2076171128,
          90320.4155900693,
          96204.7814788681,
          102492.2278377259,
          109213.09329540179,
          116400.38878831326,
          124090.08684697856,
          132321.44873017192,
          141137.39488882263,
          150584.92500362074,
          160715.59467275187,
          171586.0567201915,
          183258.67603308306,
          195802.22779137854,
          209292.68988693604,
          223814.14118585573,
          239459.7780026691,
          256333.06164419636,
          274549.0100593896,
          294235.6464092384,
          315535.6166859029,
          338607.9873345782,
          363630.2322203075,
          390800.41638296016,
          420339.5821310936,
          452494.3415603338,
          487539.6791063971,
          525781.9688618269,
          567562.2146837814,
          613259.5269840064,
          663294.8586083144,
          718135.0330283473,
          778297.1104271694,
          844353.1500626199,
          916935.4393590048,
          996742.2704679095,
          1084544.3529502866,
          1181191.9567121938,
          1287622.8828564251,
          1404871.3626200184,
          1534077.9871250407,
          1676500.7743531154,
          1833527.485364446,
          2006689.3098898795,
          2197676.0522435484,
          2408352.96209411,
          2640779.3708372945,
          2897229.313036672,
          3180214.333464167,
          3492508.70369157,
          3837177.2979164175,
          4217606.405956029,
          4637537.792244422,
          5101106.343578951,
          5612881.685544784,
          6177914.188418446,
          6801785.828428518,
          7490666.419838687,
          8251375.788167944,
          9091452.515338697,
          10019229.954494903,
          11043920.286135873,
          12175707.469046071,
          13425850.029903743,
          14806794.735584889,
          16332302.302792553,
          18017586.422160525,
          19879467.509331856,
          21936542.74549724,
          24209374.135511678,
          26720696.495206397
         ]
        },
        {
         "line": {
          "color": "rgb(0,100,200)"
         },
         "mode": "lines",
         "name": "Regression mean (growth rate: 2.2x per year)",
         "textposition": "top center",
         "type": "scatter",
         "x": [
          "2015-01-01T00:00:00",
          "2015-02-06T00:00:00",
          "2015-03-15T00:00:00",
          "2015-04-21T00:00:00",
          "2015-05-28T00:00:00",
          "2015-07-04T00:00:00",
          "2015-08-10T00:00:00",
          "2015-09-16T00:00:00",
          "2015-10-22T00:00:00",
          "2015-11-28T00:00:00",
          "2016-01-04T00:00:00",
          "2016-02-10T00:00:00",
          "2016-03-18T00:00:00",
          "2016-04-24T00:00:00",
          "2016-05-31T00:00:00",
          "2016-07-07T00:00:00",
          "2016-08-13T00:00:00",
          "2016-09-19T00:00:00",
          "2016-10-26T00:00:00",
          "2016-12-02T00:00:00",
          "2017-01-08T00:00:00",
          "2017-02-14T00:00:00",
          "2017-03-23T00:00:00",
          "2017-04-28T00:00:00",
          "2017-06-04T00:00:00",
          "2017-07-11T00:00:00",
          "2017-08-17T00:00:00",
          "2017-09-23T00:00:00",
          "2017-10-30T00:00:00",
          "2017-12-06T00:00:00",
          "2018-01-12T00:00:00",
          "2018-02-17T00:00:00",
          "2018-03-26T00:00:00",
          "2018-05-02T00:00:00",
          "2018-06-08T00:00:00",
          "2018-07-15T00:00:00",
          "2018-08-21T00:00:00",
          "2018-09-27T00:00:00",
          "2018-11-03T00:00:00",
          "2018-12-09T00:00:00",
          "2019-01-15T00:00:00",
          "2019-02-21T00:00:00",
          "2019-03-30T00:00:00",
          "2019-05-06T00:00:00",
          "2019-06-12T00:00:00",
          "2019-07-19T00:00:00",
          "2019-08-24T00:00:00",
          "2019-09-30T00:00:00",
          "2019-11-06T00:00:00",
          "2019-12-13T00:00:00",
          "2020-01-19T00:00:00",
          "2020-02-25T00:00:00",
          "2020-04-02T00:00:00",
          "2020-05-09T00:00:00",
          "2020-06-15T00:00:00",
          "2020-07-22T00:00:00",
          "2020-08-28T00:00:00",
          "2020-10-04T00:00:00",
          "2020-11-10T00:00:00",
          "2020-12-17T00:00:00",
          "2021-01-23T00:00:00",
          "2021-02-28T00:00:00",
          "2021-04-06T00:00:00",
          "2021-05-13T00:00:00",
          "2021-06-19T00:00:00",
          "2021-07-26T00:00:00",
          "2021-09-01T00:00:00",
          "2021-10-08T00:00:00",
          "2021-11-14T00:00:00",
          "2021-12-20T00:00:00",
          "2022-01-26T00:00:00",
          "2022-03-04T00:00:00",
          "2022-04-10T00:00:00",
          "2022-05-17T00:00:00",
          "2022-06-23T00:00:00",
          "2022-07-30T00:00:00",
          "2022-09-05T00:00:00",
          "2022-10-11T00:00:00",
          "2022-11-17T00:00:00",
          "2022-12-24T00:00:00",
          "2023-01-30T00:00:00",
          "2023-03-08T00:00:00",
          "2023-04-14T00:00:00",
          "2023-05-21T00:00:00",
          "2023-06-26T00:00:00",
          "2023-08-02T00:00:00",
          "2023-09-08T00:00:00",
          "2023-10-15T00:00:00",
          "2023-11-21T00:00:00",
          "2023-12-28T00:00:00",
          "2024-02-03T00:00:00",
          "2024-03-11T00:00:00",
          "2024-04-17T00:00:00",
          "2024-05-24T00:00:00",
          "2024-06-30T00:00:00",
          "2024-08-06T00:00:00",
          "2024-09-12T00:00:00",
          "2024-10-19T00:00:00",
          "2024-11-25T00:00:00",
          "2025-01-01T00:00:00"
         ],
         "y": [
          3769.4332886939246,
          4084.6620734353314,
          4426.252695385682,
          4796.409732601279,
          5197.522126781264,
          5632.1786011659115,
          6103.184367792191,
          6613.579231943904,
          7166.65721062304,
          7765.98779167855,
          8415.438970778716,
          9119.202214919645,
          9881.819513557728,
          10708.21269197953,
          11603.715176069623,
          12574.106413502877,
          13625.64917347863,
          14765.12996576415,
          15999.902839873976,
          17337.93684708718,
          18787.867471572168,
          20359.052362599778,
          22061.63172751348,
          23906.593775186728,
          25905.84563239884,
          28072.290190755768,
          30419.909380166155,
          32963.85440623026,
          35720.54353401926,
          38707.768049247796,
          41944.8070807687,
          45452.552025331715,
          49253.64137775933,
          53372.60683660777,
          57836.031628352546,
          62672.722071755634,
          67913.89348984977,
          73593.37166924217,
          79747.81116705743,
          86416.93187424188,
          93643.77536221169,
          101474.98266718432,
          109961.0953047991,
          119156.88145804756,
          129121.68944342058,
          139919.83073672638,
          151620.99503021716,
          164300.70000019643,
          178040.7786874753,
          192929.90763648864,
          209064.1792011126,
          226547.72171138748,
          245493.37150310777,
          266023.401147911,
          288270.3085830838,
          312377.67223486514,
          338501.0776534113,
          366809.1216403928,
          397484.5003488006,
          430725.18837856833,
          466745.71647678985,
          505778.5560894557,
          548075.619699139,
          593909.8866330966,
          643577.1648339875,
          697397.9999622912,
          755719.7441535434,
          818918.797780141,
          887403.0386872342,
          961614.4545783827,
          1042031.995542887,
          1129174.6651322702,
          1223604.8699373454,
          1325932.049280439,
          1436816.6084522435,
          1556974.1808746334,
          1687180.2466996927,
          1828275.137648443,
          1981169.4603951734,
          2146849.9734948194,
          2326385.955786038,
          2520936.1073649283,
          2731756.027674186,
          2960206.318967737,
          3207761.3674443597,
          3476018.858731676,
          3766710.0891243657,
          4081711.1391308242,
          4423054.98143012,
          4792944.601395706,
          5193767.214853023,
          5628109.674839942,
          6098775.1667886935,
          6608801.29989582,
          7161479.711424504,
          7760377.310475745,
          8409359.298312873,
          9112614.113834355,
          9874680.465169087,
          10700476.621870263
         ]
        }
       ],
       "layout": {
        "autosize": false,
        "font": {
         "size": 14
        },
        "height": 600,
        "legend": {
         "orientation": "h",
         "tracegroupgap": 0,
         "x": 0.5,
         "xanchor": "center",
         "y": -0.15,
         "yanchor": "top"
        },
        "margin": {
         "b": 10,
         "l": 10,
         "r": 10,
         "t": 40
        },
        "template": {
         "data": {
          "bar": [
           {
            "error_x": {
             "color": "#2a3f5f"
            },
            "error_y": {
             "color": "#2a3f5f"
            },
            "marker": {
             "line": {
              "color": "#E5ECF6",
              "width": 0.5
             },
             "pattern": {
              "fillmode": "overlay",
              "size": 10,
              "solidity": 0.2
             }
            },
            "type": "bar"
           }
          ],
          "barpolar": [
           {
            "marker": {
             "line": {
              "color": "#E5ECF6",
              "width": 0.5
             },
             "pattern": {
              "fillmode": "overlay",
              "size": 10,
              "solidity": 0.2
             }
            },
            "type": "barpolar"
           }
          ],
          "carpet": [
           {
            "aaxis": {
             "endlinecolor": "#2a3f5f",
             "gridcolor": "white",
             "linecolor": "white",
             "minorgridcolor": "white",
             "startlinecolor": "#2a3f5f"
            },
            "baxis": {
             "endlinecolor": "#2a3f5f",
             "gridcolor": "white",
             "linecolor": "white",
             "minorgridcolor": "white",
             "startlinecolor": "#2a3f5f"
            },
            "type": "carpet"
           }
          ],
          "choropleth": [
           {
            "colorbar": {
             "outlinewidth": 0,
             "ticks": ""
            },
            "type": "choropleth"
           }
          ],
          "contour": [
           {
            "colorbar": {
             "outlinewidth": 0,
             "ticks": ""
            },
            "colorscale": [
             [
              0,
              "#0d0887"
             ],
             [
              0.1111111111111111,
              "#46039f"
             ],
             [
              0.2222222222222222,
              "#7201a8"
             ],
             [
              0.3333333333333333,
              "#9c179e"
             ],
             [
              0.4444444444444444,
              "#bd3786"
             ],
             [
              0.5555555555555556,
              "#d8576b"
             ],
             [
              0.6666666666666666,
              "#ed7953"
             ],
             [
              0.7777777777777778,
              "#fb9f3a"
             ],
             [
              0.8888888888888888,
              "#fdca26"
             ],
             [
              1,
              "#f0f921"
             ]
            ],
            "type": "contour"
           }
          ],
          "contourcarpet": [
           {
            "colorbar": {
             "outlinewidth": 0,
             "ticks": ""
            },
            "type": "contourcarpet"
           }
          ],
          "heatmap": [
           {
            "colorbar": {
             "outlinewidth": 0,
             "ticks": ""
            },
            "colorscale": [
             [
              0,
              "#0d0887"
             ],
             [
              0.1111111111111111,
              "#46039f"
             ],
             [
              0.2222222222222222,
              "#7201a8"
             ],
             [
              0.3333333333333333,
              "#9c179e"
             ],
             [
              0.4444444444444444,
              "#bd3786"
             ],
             [
              0.5555555555555556,
              "#d8576b"
             ],
             [
              0.6666666666666666,
              "#ed7953"
             ],
             [
              0.7777777777777778,
              "#fb9f3a"
             ],
             [
              0.8888888888888888,
              "#fdca26"
             ],
             [
              1,
              "#f0f921"
             ]
            ],
            "type": "heatmap"
           }
          ],
          "heatmapgl": [
           {
            "colorbar": {
             "outlinewidth": 0,
             "ticks": ""
            },
            "colorscale": [
             [
              0,
              "#0d0887"
             ],
             [
              0.1111111111111111,
              "#46039f"
             ],
             [
              0.2222222222222222,
              "#7201a8"
             ],
             [
              0.3333333333333333,
              "#9c179e"
             ],
             [
              0.4444444444444444,
              "#bd3786"
             ],
             [
              0.5555555555555556,
              "#d8576b"
             ],
             [
              0.6666666666666666,
              "#ed7953"
             ],
             [
              0.7777777777777778,
              "#fb9f3a"
             ],
             [
              0.8888888888888888,
              "#fdca26"
             ],
             [
              1,
              "#f0f921"
             ]
            ],
            "type": "heatmapgl"
           }
          ],
          "histogram": [
           {
            "marker": {
             "pattern": {
              "fillmode": "overlay",
              "size": 10,
              "solidity": 0.2
             }
            },
            "type": "histogram"
           }
          ],
          "histogram2d": [
           {
            "colorbar": {
             "outlinewidth": 0,
             "ticks": ""
            },
            "colorscale": [
             [
              0,
              "#0d0887"
             ],
             [
              0.1111111111111111,
              "#46039f"
             ],
             [
              0.2222222222222222,
              "#7201a8"
             ],
             [
              0.3333333333333333,
              "#9c179e"
             ],
             [
              0.4444444444444444,
              "#bd3786"
             ],
             [
              0.5555555555555556,
              "#d8576b"
             ],
             [
              0.6666666666666666,
              "#ed7953"
             ],
             [
              0.7777777777777778,
              "#fb9f3a"
             ],
             [
              0.8888888888888888,
              "#fdca26"
             ],
             [
              1,
              "#f0f921"
             ]
            ],
            "type": "histogram2d"
           }
          ],
          "histogram2dcontour": [
           {
            "colorbar": {
             "outlinewidth": 0,
             "ticks": ""
            },
            "colorscale": [
             [
              0,
              "#0d0887"
             ],
             [
              0.1111111111111111,
              "#46039f"
             ],
             [
              0.2222222222222222,
              "#7201a8"
             ],
             [
              0.3333333333333333,
              "#9c179e"
             ],
             [
              0.4444444444444444,
              "#bd3786"
             ],
             [
              0.5555555555555556,
              "#d8576b"
             ],
             [
              0.6666666666666666,
              "#ed7953"
             ],
             [
              0.7777777777777778,
              "#fb9f3a"
             ],
             [
              0.8888888888888888,
              "#fdca26"
             ],
             [
              1,
              "#f0f921"
             ]
            ],
            "type": "histogram2dcontour"
           }
          ],
          "mesh3d": [
           {
            "colorbar": {
             "outlinewidth": 0,
             "ticks": ""
            },
            "type": "mesh3d"
           }
          ],
          "parcoords": [
           {
            "line": {
             "colorbar": {
              "outlinewidth": 0,
              "ticks": ""
             }
            },
            "type": "parcoords"
           }
          ],
          "pie": [
           {
            "automargin": true,
            "type": "pie"
           }
          ],
          "scatter": [
           {
            "fillpattern": {
             "fillmode": "overlay",
             "size": 10,
             "solidity": 0.2
            },
            "type": "scatter"
           }
          ],
          "scatter3d": [
           {
            "line": {
             "colorbar": {
              "outlinewidth": 0,
              "ticks": ""
             }
            },
            "marker": {
             "colorbar": {
              "outlinewidth": 0,
              "ticks": ""
             }
            },
            "type": "scatter3d"
           }
          ],
          "scattercarpet": [
           {
            "marker": {
             "colorbar": {
              "outlinewidth": 0,
              "ticks": ""
             }
            },
            "type": "scattercarpet"
           }
          ],
          "scattergeo": [
           {
            "marker": {
             "colorbar": {
              "outlinewidth": 0,
              "ticks": ""
             }
            },
            "type": "scattergeo"
           }
          ],
          "scattergl": [
           {
            "marker": {
             "colorbar": {
              "outlinewidth": 0,
              "ticks": ""
             }
            },
            "type": "scattergl"
           }
          ],
          "scattermapbox": [
           {
            "marker": {
             "colorbar": {
              "outlinewidth": 0,
              "ticks": ""
             }
            },
            "type": "scattermapbox"
           }
          ],
          "scatterpolar": [
           {
            "marker": {
             "colorbar": {
              "outlinewidth": 0,
              "ticks": ""
             }
            },
            "type": "scatterpolar"
           }
          ],
          "scatterpolargl": [
           {
            "marker": {
             "colorbar": {
              "outlinewidth": 0,
              "ticks": ""
             }
            },
            "type": "scatterpolargl"
           }
          ],
          "scatterternary": [
           {
            "marker": {
             "colorbar": {
              "outlinewidth": 0,
              "ticks": ""
             }
            },
            "type": "scatterternary"
           }
          ],
          "surface": [
           {
            "colorbar": {
             "outlinewidth": 0,
             "ticks": ""
            },
            "colorscale": [
             [
              0,
              "#0d0887"
             ],
             [
              0.1111111111111111,
              "#46039f"
             ],
             [
              0.2222222222222222,
              "#7201a8"
             ],
             [
              0.3333333333333333,
              "#9c179e"
             ],
             [
              0.4444444444444444,
              "#bd3786"
             ],
             [
              0.5555555555555556,
              "#d8576b"
             ],
             [
              0.6666666666666666,
              "#ed7953"
             ],
             [
              0.7777777777777778,
              "#fb9f3a"
             ],
             [
              0.8888888888888888,
              "#fdca26"
             ],
             [
              1,
              "#f0f921"
             ]
            ],
            "type": "surface"
           }
          ],
          "table": [
           {
            "cells": {
             "fill": {
              "color": "#EBF0F8"
             },
             "line": {
              "color": "white"
             }
            },
            "header": {
             "fill": {
              "color": "#C8D4E3"
             },
             "line": {
              "color": "white"
             }
            },
            "type": "table"
           }
          ]
         },
         "layout": {
          "annotationdefaults": {
           "arrowcolor": "#2a3f5f",
           "arrowhead": 0,
           "arrowwidth": 1
          },
          "autotypenumbers": "strict",
          "coloraxis": {
           "colorbar": {
            "outlinewidth": 0,
            "ticks": ""
           }
          },
          "colorscale": {
           "diverging": [
            [
             0,
             "#8e0152"
            ],
            [
             0.1,
             "#c51b7d"
            ],
            [
             0.2,
             "#de77ae"
            ],
            [
             0.3,
             "#f1b6da"
            ],
            [
             0.4,
             "#fde0ef"
            ],
            [
             0.5,
             "#f7f7f7"
            ],
            [
             0.6,
             "#e6f5d0"
            ],
            [
             0.7,
             "#b8e186"
            ],
            [
             0.8,
             "#7fbc41"
            ],
            [
             0.9,
             "#4d9221"
            ],
            [
             1,
             "#276419"
            ]
           ],
           "sequential": [
            [
             0,
             "#0d0887"
            ],
            [
             0.1111111111111111,
             "#46039f"
            ],
            [
             0.2222222222222222,
             "#7201a8"
            ],
            [
             0.3333333333333333,
             "#9c179e"
            ],
            [
             0.4444444444444444,
             "#bd3786"
            ],
            [
             0.5555555555555556,
             "#d8576b"
            ],
            [
             0.6666666666666666,
             "#ed7953"
            ],
            [
             0.7777777777777778,
             "#fb9f3a"
            ],
            [
             0.8888888888888888,
             "#fdca26"
            ],
            [
             1,
             "#f0f921"
            ]
           ],
           "sequentialminus": [
            [
             0,
             "#0d0887"
            ],
            [
             0.1111111111111111,
             "#46039f"
            ],
            [
             0.2222222222222222,
             "#7201a8"
            ],
            [
             0.3333333333333333,
             "#9c179e"
            ],
            [
             0.4444444444444444,
             "#bd3786"
            ],
            [
             0.5555555555555556,
             "#d8576b"
            ],
            [
             0.6666666666666666,
             "#ed7953"
            ],
            [
             0.7777777777777778,
             "#fb9f3a"
            ],
            [
             0.8888888888888888,
             "#fdca26"
            ],
            [
             1,
             "#f0f921"
            ]
           ]
          },
          "colorway": [
           "#636efa",
           "#EF553B",
           "#00cc96",
           "#ab63fa",
           "#FFA15A",
           "#19d3f3",
           "#FF6692",
           "#B6E880",
           "#FF97FF",
           "#FECB52"
          ],
          "font": {
           "color": "#2a3f5f"
          },
          "geo": {
           "bgcolor": "white",
           "lakecolor": "white",
           "landcolor": "#E5ECF6",
           "showlakes": true,
           "showland": true,
           "subunitcolor": "white"
          },
          "hoverlabel": {
           "align": "left"
          },
          "hovermode": "closest",
          "mapbox": {
           "style": "light"
          },
          "paper_bgcolor": "white",
          "plot_bgcolor": "#E5ECF6",
          "polar": {
           "angularaxis": {
            "gridcolor": "white",
            "linecolor": "white",
            "ticks": ""
           },
           "bgcolor": "#E5ECF6",
           "radialaxis": {
            "gridcolor": "white",
            "linecolor": "white",
            "ticks": ""
           }
          },
          "scene": {
           "xaxis": {
            "backgroundcolor": "#E5ECF6",
            "gridcolor": "white",
            "gridwidth": 2,
            "linecolor": "white",
            "showbackground": true,
            "ticks": "",
            "zerolinecolor": "white"
           },
           "yaxis": {
            "backgroundcolor": "#E5ECF6",
            "gridcolor": "white",
            "gridwidth": 2,
            "linecolor": "white",
            "showbackground": true,
            "ticks": "",
            "zerolinecolor": "white"
           },
           "zaxis": {
            "backgroundcolor": "#E5ECF6",
            "gridcolor": "white",
            "gridwidth": 2,
            "linecolor": "white",
            "showbackground": true,
            "ticks": "",
            "zerolinecolor": "white"
           }
          },
          "shapedefaults": {
           "line": {
            "color": "#2a3f5f"
           }
          },
          "ternary": {
           "aaxis": {
            "gridcolor": "white",
            "linecolor": "white",
            "ticks": ""
           },
           "baxis": {
            "gridcolor": "white",
            "linecolor": "white",
            "ticks": ""
           },
           "bgcolor": "#E5ECF6",
           "caxis": {
            "gridcolor": "white",
            "linecolor": "white",
            "ticks": ""
           }
          },
          "title": {
           "x": 0.05
          },
          "xaxis": {
           "automargin": true,
           "gridcolor": "white",
           "linecolor": "white",
           "ticks": "",
           "title": {
            "standoff": 15
           },
           "zerolinecolor": "white",
           "zerolinewidth": 2
          },
          "yaxis": {
           "automargin": true,
           "gridcolor": "white",
           "linecolor": "white",
           "ticks": "",
           "title": {
            "standoff": 15
           },
           "zerolinecolor": "white",
           "zerolinewidth": 2
          }
         }
        },
        "title": {
         "text": "Hardware CapEx + OpEx to train top 25% most compute-intensive ML systems",
         "x": 0.5
        },
        "width": 800,
        "xaxis": {
         "anchor": "y",
         "domain": [
          0,
          1
         ],
         "range": [
          "2015-01-01",
          "2025-01-01"
         ],
         "title": {
          "text": "Publication date"
         }
        },
        "yaxis": {
         "anchor": "x",
         "domain": [
          0,
          1
         ],
         "range": [
          1,
          9
         ],
         "title": {
          "text": "Cost (2023 USD)"
         },
         "type": "log"
        }
       }
      }
     },
     "metadata": {},
     "output_type": "display_data"
    }
   ],
   "source": [
    "label_systems = ['GNMT', 'DALL-E', 'GPT-3 175B (davinci)', 'PaLM (540B)', 'Llama 2-70B', 'Falcon 180B', 'GPT-4', 'Gemini Ultra']\n",
    "\n",
    "tpu_mask = cost_df['Training hardware'].str.contains('TPU', na=False)\n",
    "tpu_cost_df = cost_df.loc[tpu_mask]\n",
    "gpu_cost_df = cost_df.loc[~tpu_mask]\n",
    "\n",
    "fig = px.scatter(\n",
    "    gpu_cost_df,\n",
    "    x='Publication date',\n",
    "    y='Cost (inflation-adjusted)',\n",
    "    log_y=True,\n",
    ")\n",
    "fig.add_scatter(\n",
    "    x=tpu_cost_df['Publication date'],\n",
    "    y=tpu_cost_df['Cost (inflation-adjusted)'],\n",
    "    mode='markers',\n",
    "    marker_symbol='circle-open',\n",
    "    name='Using equivalent price of TPU',\n",
    ")\n",
    "fig.add_scatter(\n",
    "    x=gpu_cost_df.loc[gpu_cost_df['System'].isin(label_systems)]['Publication date'],\n",
    "    y=gpu_cost_df.loc[gpu_cost_df['System'].isin(label_systems)]['Cost (inflation-adjusted)'],\n",
    "    text=gpu_cost_df.loc[gpu_cost_df['System'].isin(label_systems)]['System'],\n",
    "    mode='text',\n",
    "    showlegend=False,\n",
    ")\n",
    "fig.add_scatter(\n",
    "    x=tpu_cost_df.loc[tpu_cost_df['System'].isin(label_systems)]['Publication date'],\n",
    "    y=tpu_cost_df.loc[tpu_cost_df['System'].isin(label_systems)]['Cost (inflation-adjusted)'],\n",
    "    text=tpu_cost_df.loc[tpu_cost_df['System'].isin(label_systems)]['System'],\n",
    "    mode='text',\n",
    "    showlegend=False,\n",
    ")\n",
    "\n",
    "# Marker color\n",
    "fig.update_traces(\n",
    "    marker=dict(\n",
    "        color='rgb(0,100,200)',\n",
    "    ),\n",
    "    selector=dict(mode='markers'),\n",
    ")\n",
    "\n",
    "# Shade in CI\n",
    "fig.add_scatter(\n",
    "    x=predicted_cost_df['Publication date'],\n",
    "    y=10**predicted_cost_df['mean_ci_lower'],\n",
    "    mode='lines',\n",
    "    line=dict(width=0),\n",
    "    showlegend=False,\n",
    ")\n",
    "fig.add_scatter(\n",
    "    x=predicted_cost_df['Publication date'],\n",
    "    y=10**predicted_cost_df['mean_ci_upper'],\n",
    "    mode='lines',\n",
    "    fill='tonexty',\n",
    "    fillcolor='rgba(0,100,200,0.2)',\n",
    "    line=dict(width=0),\n",
    "    name='95% CI of mean',\n",
    ")\n",
    "fig.add_scatter(\n",
    "    x=predicted_cost_df['Publication date'],\n",
    "    y=10**predicted_cost_df['mean'],\n",
    "    mode='lines',\n",
    "    line=dict(color='rgb(0,100,200)'),\n",
    "    name=f'Regression mean (growth rate: {10**reg_results.params[1]:.1f}x per year)',\n",
    ")\n",
    "\n",
    "fig.update_traces(textposition='top center')\n",
    "\n",
    "# axis limits\n",
    "fig.update_xaxes(range=['2015-01-01', '2025-01-01'])\n",
    "fig.update_yaxes(range=[1, 9])\n",
    "\n",
    "# legend on top\n",
    "fig.update_layout(legend=dict(\n",
    "    orientation='h',\n",
    "    yanchor='top',\n",
    "    y=-0.15,\n",
    "    xanchor='center',\n",
    "    x=0.5,\n",
    "))\n",
    "\n",
    "# axis labels\n",
    "fig.update_xaxes(title_text='Publication date')\n",
    "fig.update_yaxes(title_text='Cost (2023 USD)')\n",
    "\n",
    "# title\n",
    "fig.update_layout(title_text=plot_title_lookup[estimation_method])\n",
    "\n",
    "# update size\n",
    "fig.update_layout(\n",
    "    autosize=False,\n",
    "    width=800,\n",
    "    height=600,\n",
    "    title_x=0.5,\n",
    ")\n",
    "\n",
    "# font size\n",
    "fig.update_layout(\n",
    "    font=dict(\n",
    "        size=14,\n",
    "    )\n",
    ")\n",
    "\n",
    "# axis limits\n",
    "fig.update_xaxes(range=[pred_start_date, pred_end_date])\n",
    "\n",
    "# margins\n",
    "fig.update_layout(margin=dict(l=10, r=10, t=40, b=10))\n",
    "\n",
    "save_plot(fig, results_dir, 'cost_regression')\n",
    "\n",
    "fig.show()"
   ]
  },
  {
   "cell_type": "markdown",
   "metadata": {},
   "source": [
    "# Export data"
   ]
  },
  {
   "cell_type": "code",
   "execution_count": 77,
   "metadata": {
    "ExecuteTime": {
     "end_time": "2024-03-08T01:55:05.122800400Z",
     "start_time": "2024-03-08T01:55:04.849972900Z"
    }
   },
   "outputs": [
    {
     "data": {
      "text/html": [
       "<div>\n",
       "<style scoped>\n",
       "    .dataframe tbody tr th:only-of-type {\n",
       "        vertical-align: middle;\n",
       "    }\n",
       "\n",
       "    .dataframe tbody tr th {\n",
       "        vertical-align: top;\n",
       "    }\n",
       "\n",
       "    .dataframe thead th {\n",
       "        text-align: right;\n",
       "    }\n",
       "</style>\n",
       "<table border=\"1\" class=\"dataframe\">\n",
       "  <thead>\n",
       "    <tr style=\"text-align: right;\">\n",
       "      <th></th>\n",
       "      <th>System</th>\n",
       "      <th>Domain</th>\n",
       "      <th>Task</th>\n",
       "      <th>Model accessibility</th>\n",
       "      <th>Reference</th>\n",
       "      <th>Publication date</th>\n",
       "      <th>Organization</th>\n",
       "      <th>Parameters</th>\n",
       "      <th>Training compute (FLOP)</th>\n",
       "      <th>Training dataset size (datapoints)</th>\n",
       "      <th>...</th>\n",
       "      <th>Training hardware</th>\n",
       "      <th>Country (from Organization)</th>\n",
       "      <th>Base model</th>\n",
       "      <th>Finetune compute (FLOP)</th>\n",
       "      <th>Hardware quantity</th>\n",
       "      <th>Hardware utilization</th>\n",
       "      <th>Training cloud compute vendor</th>\n",
       "      <th>Training data center</th>\n",
       "      <th>Cost</th>\n",
       "      <th>Cost (inflation-adjusted)</th>\n",
       "    </tr>\n",
       "  </thead>\n",
       "  <tbody>\n",
       "    <tr>\n",
       "      <th>39</th>\n",
       "      <td>Gemini Ultra</td>\n",
       "      <td>Multimodal</td>\n",
       "      <td>Language modelling,Visual question answering,C...</td>\n",
       "      <td>Hosted access (no API)</td>\n",
       "      <td>Gemini: A Family of Highly Capable Multimodal ...</td>\n",
       "      <td>2023-12-06 00:00:00</td>\n",
       "      <td>Google DeepMind</td>\n",
       "      <td>NaN</td>\n",
       "      <td>5.000000e+25</td>\n",
       "      <td>NaN</td>\n",
       "      <td>...</td>\n",
       "      <td>Google TPU v4</td>\n",
       "      <td>Multinational</td>\n",
       "      <td>NaN</td>\n",
       "      <td>NaN</td>\n",
       "      <td>55000.0</td>\n",
       "      <td>NaN</td>\n",
       "      <td>NaN</td>\n",
       "      <td>NaN</td>\n",
       "      <td>5.909894e+07</td>\n",
       "      <td>5.909894e+07</td>\n",
       "    </tr>\n",
       "    <tr>\n",
       "      <th>46</th>\n",
       "      <td>Qwen-72B</td>\n",
       "      <td>Language</td>\n",
       "      <td>Chat,Code generation</td>\n",
       "      <td>Permissive license (depr.)</td>\n",
       "      <td>NaN</td>\n",
       "      <td>2023-11-30 00:00:00</td>\n",
       "      <td>Alibaba</td>\n",
       "      <td>7.200000e+10</td>\n",
       "      <td>1.300000e+24</td>\n",
       "      <td>NaN</td>\n",
       "      <td>...</td>\n",
       "      <td>NaN</td>\n",
       "      <td>China</td>\n",
       "      <td>NaN</td>\n",
       "      <td>NaN</td>\n",
       "      <td>NaN</td>\n",
       "      <td>NaN</td>\n",
       "      <td>NaN</td>\n",
       "      <td>NaN</td>\n",
       "      <td>NaN</td>\n",
       "      <td>NaN</td>\n",
       "    </tr>\n",
       "    <tr>\n",
       "      <th>54</th>\n",
       "      <td>Inflection-2</td>\n",
       "      <td>Language</td>\n",
       "      <td>Language modelling</td>\n",
       "      <td>API access</td>\n",
       "      <td>Inflection-2: The Next Step Up</td>\n",
       "      <td>2023-11-22 00:00:00</td>\n",
       "      <td>Inflection AI</td>\n",
       "      <td>NaN</td>\n",
       "      <td>1.001000e+25</td>\n",
       "      <td>NaN</td>\n",
       "      <td>...</td>\n",
       "      <td>NVIDIA H100 SXM5</td>\n",
       "      <td>United States of America</td>\n",
       "      <td>NaN</td>\n",
       "      <td>NaN</td>\n",
       "      <td>5000.0</td>\n",
       "      <td>NaN</td>\n",
       "      <td>NaN</td>\n",
       "      <td>NaN</td>\n",
       "      <td>1.178734e+07</td>\n",
       "      <td>1.181494e+07</td>\n",
       "    </tr>\n",
       "    <tr>\n",
       "      <th>83</th>\n",
       "      <td>Yi-34B</td>\n",
       "      <td>Language</td>\n",
       "      <td>Chat</td>\n",
       "      <td>Permissive license (depr.)</td>\n",
       "      <td>NaN</td>\n",
       "      <td>2023-11-02 00:00:00</td>\n",
       "      <td>01.AI</td>\n",
       "      <td>3.400000e+10</td>\n",
       "      <td>6.100000e+23</td>\n",
       "      <td>NaN</td>\n",
       "      <td>...</td>\n",
       "      <td>NaN</td>\n",
       "      <td>China</td>\n",
       "      <td>NaN</td>\n",
       "      <td>NaN</td>\n",
       "      <td>NaN</td>\n",
       "      <td>NaN</td>\n",
       "      <td>NaN</td>\n",
       "      <td>NaN</td>\n",
       "      <td>NaN</td>\n",
       "      <td>NaN</td>\n",
       "    </tr>\n",
       "    <tr>\n",
       "      <th>92</th>\n",
       "      <td>ChatGLM3</td>\n",
       "      <td>Multimodal</td>\n",
       "      <td>Chat,Visual question answering</td>\n",
       "      <td>NaN</td>\n",
       "      <td>Zhipu AI launches third-generation base model</td>\n",
       "      <td>2023-10-27 00:00:00</td>\n",
       "      <td>Zhipu AI</td>\n",
       "      <td>1.300000e+11</td>\n",
       "      <td>1.092000e+24</td>\n",
       "      <td>1.050000e+12</td>\n",
       "      <td>...</td>\n",
       "      <td>NaN</td>\n",
       "      <td>China</td>\n",
       "      <td>NaN</td>\n",
       "      <td>NaN</td>\n",
       "      <td>NaN</td>\n",
       "      <td>NaN</td>\n",
       "      <td>NaN</td>\n",
       "      <td>NaN</td>\n",
       "      <td>NaN</td>\n",
       "      <td>NaN</td>\n",
       "    </tr>\n",
       "    <tr>\n",
       "      <th>...</th>\n",
       "      <td>...</td>\n",
       "      <td>...</td>\n",
       "      <td>...</td>\n",
       "      <td>...</td>\n",
       "      <td>...</td>\n",
       "      <td>...</td>\n",
       "      <td>...</td>\n",
       "      <td>...</td>\n",
       "      <td>...</td>\n",
       "      <td>...</td>\n",
       "      <td>...</td>\n",
       "      <td>...</td>\n",
       "      <td>...</td>\n",
       "      <td>...</td>\n",
       "      <td>...</td>\n",
       "      <td>...</td>\n",
       "      <td>...</td>\n",
       "      <td>...</td>\n",
       "      <td>...</td>\n",
       "      <td>...</td>\n",
       "      <td>...</td>\n",
       "    </tr>\n",
       "    <tr>\n",
       "      <th>1094</th>\n",
       "      <td>Xception</td>\n",
       "      <td>Vision</td>\n",
       "      <td>Image classification</td>\n",
       "      <td>NaN</td>\n",
       "      <td>Xception: Deep Learning with Depthwise Separab...</td>\n",
       "      <td>2016-10-07 00:00:00</td>\n",
       "      <td>Google</td>\n",
       "      <td>2.285595e+07</td>\n",
       "      <td>4.360000e+20</td>\n",
       "      <td>3.500000e+08</td>\n",
       "      <td>...</td>\n",
       "      <td>NVIDIA Tesla K80</td>\n",
       "      <td>United States of America</td>\n",
       "      <td>NaN</td>\n",
       "      <td>NaN</td>\n",
       "      <td>60.0</td>\n",
       "      <td>NaN</td>\n",
       "      <td>NaN</td>\n",
       "      <td>NaN</td>\n",
       "      <td>1.248458e+04</td>\n",
       "      <td>1.363339e+04</td>\n",
       "    </tr>\n",
       "    <tr>\n",
       "      <th>1095</th>\n",
       "      <td>GNMT</td>\n",
       "      <td>Language</td>\n",
       "      <td>Translation</td>\n",
       "      <td>NaN</td>\n",
       "      <td>Google's Neural Machine Translation System: Br...</td>\n",
       "      <td>2016-09-26 00:00:00</td>\n",
       "      <td>Google</td>\n",
       "      <td>2.780000e+08</td>\n",
       "      <td>6.900000e+21</td>\n",
       "      <td>3.600000e+08</td>\n",
       "      <td>...</td>\n",
       "      <td>NVIDIA Tesla K80</td>\n",
       "      <td>United States of America</td>\n",
       "      <td>NaN</td>\n",
       "      <td>NaN</td>\n",
       "      <td>96.0</td>\n",
       "      <td>NaN</td>\n",
       "      <td>NaN</td>\n",
       "      <td>NaN</td>\n",
       "      <td>1.198519e+05</td>\n",
       "      <td>1.308805e+05</td>\n",
       "    </tr>\n",
       "    <tr>\n",
       "      <th>1131</th>\n",
       "      <td>AlphaGo Lee</td>\n",
       "      <td>Games</td>\n",
       "      <td>Go</td>\n",
       "      <td>NaN</td>\n",
       "      <td>Mastering the game of Go with deep neural netw...</td>\n",
       "      <td>2016-01-27 00:00:00</td>\n",
       "      <td>DeepMind</td>\n",
       "      <td>NaN</td>\n",
       "      <td>1.900000e+21</td>\n",
       "      <td>2.940000e+07</td>\n",
       "      <td>...</td>\n",
       "      <td>NaN</td>\n",
       "      <td>United Kingdom of Great Britain and Northern I...</td>\n",
       "      <td>NaN</td>\n",
       "      <td>NaN</td>\n",
       "      <td>NaN</td>\n",
       "      <td>NaN</td>\n",
       "      <td>NaN</td>\n",
       "      <td>NaN</td>\n",
       "      <td>NaN</td>\n",
       "      <td>NaN</td>\n",
       "    </tr>\n",
       "    <tr>\n",
       "      <th>1137</th>\n",
       "      <td>DeepSpeech2 (English)</td>\n",
       "      <td>Speech</td>\n",
       "      <td>Speech recognition</td>\n",
       "      <td>NaN</td>\n",
       "      <td>Deep Speech 2: End-to-End Speech Recognition i...</td>\n",
       "      <td>2015-12-08 00:00:00</td>\n",
       "      <td>Baidu Research - Silicon Valley AI Lab</td>\n",
       "      <td>3.800000e+07</td>\n",
       "      <td>2.600000e+19</td>\n",
       "      <td>1.633392e+08</td>\n",
       "      <td>...</td>\n",
       "      <td>NVIDIA GTX Titan X</td>\n",
       "      <td>United States of America</td>\n",
       "      <td>NaN</td>\n",
       "      <td>NaN</td>\n",
       "      <td>NaN</td>\n",
       "      <td>0.45</td>\n",
       "      <td>NaN</td>\n",
       "      <td>NaN</td>\n",
       "      <td>2.376194e+02</td>\n",
       "      <td>2.643349e+02</td>\n",
       "    </tr>\n",
       "    <tr>\n",
       "      <th>1141</th>\n",
       "      <td>AlphaGo Fan</td>\n",
       "      <td>Games</td>\n",
       "      <td>Go</td>\n",
       "      <td>NaN</td>\n",
       "      <td>Mastering the game of Go with deep neural netw...</td>\n",
       "      <td>2015-10-01 00:00:00</td>\n",
       "      <td>Google DeepMind</td>\n",
       "      <td>8.209984e+06</td>\n",
       "      <td>3.800000e+20</td>\n",
       "      <td>NaN</td>\n",
       "      <td>...</td>\n",
       "      <td>NaN</td>\n",
       "      <td>Multinational</td>\n",
       "      <td>NaN</td>\n",
       "      <td>NaN</td>\n",
       "      <td>NaN</td>\n",
       "      <td>NaN</td>\n",
       "      <td>NaN</td>\n",
       "      <td>NaN</td>\n",
       "      <td>NaN</td>\n",
       "      <td>NaN</td>\n",
       "    </tr>\n",
       "  </tbody>\n",
       "</table>\n",
       "<p>76 rows × 22 columns</p>\n",
       "</div>"
      ],
      "text/plain": [
       "                     System      Domain  \\\n",
       "39             Gemini Ultra  Multimodal   \n",
       "46                 Qwen-72B    Language   \n",
       "54             Inflection-2    Language   \n",
       "83                   Yi-34B    Language   \n",
       "92                 ChatGLM3  Multimodal   \n",
       "...                     ...         ...   \n",
       "1094               Xception      Vision   \n",
       "1095                   GNMT    Language   \n",
       "1131            AlphaGo Lee       Games   \n",
       "1137  DeepSpeech2 (English)      Speech   \n",
       "1141            AlphaGo Fan       Games   \n",
       "\n",
       "                                                   Task  \\\n",
       "39    Language modelling,Visual question answering,C...   \n",
       "46                                 Chat,Code generation   \n",
       "54                                   Language modelling   \n",
       "83                                                 Chat   \n",
       "92                       Chat,Visual question answering   \n",
       "...                                                 ...   \n",
       "1094                               Image classification   \n",
       "1095                                        Translation   \n",
       "1131                                                 Go   \n",
       "1137                                 Speech recognition   \n",
       "1141                                                 Go   \n",
       "\n",
       "             Model accessibility  \\\n",
       "39        Hosted access (no API)   \n",
       "46    Permissive license (depr.)   \n",
       "54                    API access   \n",
       "83    Permissive license (depr.)   \n",
       "92                           NaN   \n",
       "...                          ...   \n",
       "1094                         NaN   \n",
       "1095                         NaN   \n",
       "1131                         NaN   \n",
       "1137                         NaN   \n",
       "1141                         NaN   \n",
       "\n",
       "                                              Reference     Publication date  \\\n",
       "39    Gemini: A Family of Highly Capable Multimodal ...  2023-12-06 00:00:00   \n",
       "46                                                  NaN  2023-11-30 00:00:00   \n",
       "54                       Inflection-2: The Next Step Up  2023-11-22 00:00:00   \n",
       "83                                                  NaN  2023-11-02 00:00:00   \n",
       "92        Zhipu AI launches third-generation base model  2023-10-27 00:00:00   \n",
       "...                                                 ...                  ...   \n",
       "1094  Xception: Deep Learning with Depthwise Separab...  2016-10-07 00:00:00   \n",
       "1095  Google's Neural Machine Translation System: Br...  2016-09-26 00:00:00   \n",
       "1131  Mastering the game of Go with deep neural netw...  2016-01-27 00:00:00   \n",
       "1137  Deep Speech 2: End-to-End Speech Recognition i...  2015-12-08 00:00:00   \n",
       "1141  Mastering the game of Go with deep neural netw...  2015-10-01 00:00:00   \n",
       "\n",
       "                                Organization    Parameters  \\\n",
       "39                           Google DeepMind           NaN   \n",
       "46                                   Alibaba  7.200000e+10   \n",
       "54                             Inflection AI           NaN   \n",
       "83                                     01.AI  3.400000e+10   \n",
       "92                                  Zhipu AI  1.300000e+11   \n",
       "...                                      ...           ...   \n",
       "1094                                  Google  2.285595e+07   \n",
       "1095                                  Google  2.780000e+08   \n",
       "1131                                DeepMind           NaN   \n",
       "1137  Baidu Research - Silicon Valley AI Lab  3.800000e+07   \n",
       "1141                         Google DeepMind  8.209984e+06   \n",
       "\n",
       "      Training compute (FLOP)  Training dataset size (datapoints)  ...  \\\n",
       "39               5.000000e+25                                 NaN  ...   \n",
       "46               1.300000e+24                                 NaN  ...   \n",
       "54               1.001000e+25                                 NaN  ...   \n",
       "83               6.100000e+23                                 NaN  ...   \n",
       "92               1.092000e+24                        1.050000e+12  ...   \n",
       "...                       ...                                 ...  ...   \n",
       "1094             4.360000e+20                        3.500000e+08  ...   \n",
       "1095             6.900000e+21                        3.600000e+08  ...   \n",
       "1131             1.900000e+21                        2.940000e+07  ...   \n",
       "1137             2.600000e+19                        1.633392e+08  ...   \n",
       "1141             3.800000e+20                                 NaN  ...   \n",
       "\n",
       "       Training hardware                        Country (from Organization)  \\\n",
       "39         Google TPU v4                                      Multinational   \n",
       "46                   NaN                                              China   \n",
       "54      NVIDIA H100 SXM5                           United States of America   \n",
       "83                   NaN                                              China   \n",
       "92                   NaN                                              China   \n",
       "...                  ...                                                ...   \n",
       "1094    NVIDIA Tesla K80                           United States of America   \n",
       "1095    NVIDIA Tesla K80                           United States of America   \n",
       "1131                 NaN  United Kingdom of Great Britain and Northern I...   \n",
       "1137  NVIDIA GTX Titan X                           United States of America   \n",
       "1141                 NaN                                      Multinational   \n",
       "\n",
       "     Base model Finetune compute (FLOP) Hardware quantity  \\\n",
       "39          NaN                     NaN           55000.0   \n",
       "46          NaN                     NaN               NaN   \n",
       "54          NaN                     NaN            5000.0   \n",
       "83          NaN                     NaN               NaN   \n",
       "92          NaN                     NaN               NaN   \n",
       "...         ...                     ...               ...   \n",
       "1094        NaN                     NaN              60.0   \n",
       "1095        NaN                     NaN              96.0   \n",
       "1131        NaN                     NaN               NaN   \n",
       "1137        NaN                     NaN               NaN   \n",
       "1141        NaN                     NaN               NaN   \n",
       "\n",
       "     Hardware utilization  Training cloud compute vendor  \\\n",
       "39                    NaN                            NaN   \n",
       "46                    NaN                            NaN   \n",
       "54                    NaN                            NaN   \n",
       "83                    NaN                            NaN   \n",
       "92                    NaN                            NaN   \n",
       "...                   ...                            ...   \n",
       "1094                  NaN                            NaN   \n",
       "1095                  NaN                            NaN   \n",
       "1131                  NaN                            NaN   \n",
       "1137                 0.45                            NaN   \n",
       "1141                  NaN                            NaN   \n",
       "\n",
       "      Training data center          Cost Cost (inflation-adjusted)  \n",
       "39                     NaN  5.909894e+07              5.909894e+07  \n",
       "46                     NaN           NaN                       NaN  \n",
       "54                     NaN  1.178734e+07              1.181494e+07  \n",
       "83                     NaN           NaN                       NaN  \n",
       "92                     NaN           NaN                       NaN  \n",
       "...                    ...           ...                       ...  \n",
       "1094                   NaN  1.248458e+04              1.363339e+04  \n",
       "1095                   NaN  1.198519e+05              1.308805e+05  \n",
       "1131                   NaN           NaN                       NaN  \n",
       "1137                   NaN  2.376194e+02              2.643349e+02  \n",
       "1141                   NaN           NaN                       NaN  \n",
       "\n",
       "[76 rows x 22 columns]"
      ]
     },
     "execution_count": 77,
     "metadata": {},
     "output_type": "execute_result"
    }
   ],
   "source": [
    "keep_cols = [\n",
    "    'System',\n",
    "    'Domain',\n",
    "    'Task',\n",
    "    'Model accessibility',\n",
    "    'Reference',\n",
    "    'Publication date',\n",
    "    'Organization',\n",
    "    'Parameters',\n",
    "    'Training compute (FLOP)',\n",
    "    'Training dataset size (datapoints)',\n",
    "    'Epochs',\n",
    "    'Training time (hours)',\n",
    "    'Training hardware',\n",
    "    'Country (from Organization)',\n",
    "    'Base model',\n",
    "    'Finetune compute (FLOP)',\n",
    "    'Hardware quantity',\n",
    "    'Hardware utilization',\n",
    "    'Training cloud compute vendor',\n",
    "    'Training data center',\n",
    "    # 'Training time (chip hours)',\n",
    "    'Cost',\n",
    "    'Cost (inflation-adjusted)',\n",
    "]\n",
    "cost_df[keep_cols]"
   ]
  },
  {
   "cell_type": "code",
   "execution_count": 78,
   "metadata": {
    "ExecuteTime": {
     "end_time": "2024-03-08T01:55:05.694336500Z",
     "start_time": "2024-03-08T01:55:05.094432200Z"
    }
   },
   "outputs": [],
   "source": [
    "cost_df[keep_cols].to_csv(results_dir + 'price dataset.csv', index=False)"
   ]
  },
  {
   "cell_type": "code",
   "execution_count": null,
   "metadata": {},
   "outputs": [],
   "source": []
  }
 ],
 "metadata": {
  "colab": {
   "provenance": []
  },
  "kernelspec": {
   "display_name": "Python 3 (ipykernel)",
   "language": "python",
   "name": "python3"
  },
  "language_info": {
   "codemirror_mode": {
    "name": "ipython",
    "version": 3
   },
   "file_extension": ".py",
   "mimetype": "text/x-python",
   "name": "python",
   "nbconvert_exporter": "python",
   "pygments_lexer": "ipython3",
   "version": "3.11.4"
  }
 },
 "nbformat": 4,
 "nbformat_minor": 1
}
