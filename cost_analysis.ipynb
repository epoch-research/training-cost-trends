{
 "cells": [
  {
   "cell_type": "markdown",
   "metadata": {},
   "source": [
    "# Setup"
   ]
  },
  {
   "cell_type": "code",
   "execution_count": 556,
   "metadata": {
    "ExecuteTime": {
     "end_time": "2024-05-17T19:15:42.232452900Z",
     "start_time": "2024-05-17T19:15:41.313155600Z"
    }
   },
   "outputs": [
    {
     "name": "stdout",
     "output_type": "stream",
     "text": [
      "The autoreload extension is already loaded. To reload it, use:\n",
      "  %reload_ext autoreload\n"
     ]
    }
   ],
   "source": [
    "%load_ext autoreload\n",
    "%autoreload 2"
   ]
  },
  {
   "cell_type": "code",
   "execution_count": 557,
   "metadata": {
    "id": "qltoZ7TbdkHZ",
    "ExecuteTime": {
     "end_time": "2024-05-17T19:15:42.232452900Z",
     "start_time": "2024-05-17T19:15:41.452033400Z"
    }
   },
   "outputs": [],
   "source": [
    "from contextlib import redirect_stdout\n",
    "import numpy as np\n",
    "import os\n",
    "import pandas as pd\n",
    "import plotly.express as px\n",
    "\n",
    "from cost import *\n",
    "from plotting import *\n",
    "from prices import *\n",
    "from imputation import *\n",
    "from inflation import *\n",
    "from regression import *\n",
    "from utils import *"
   ]
  },
  {
   "cell_type": "code",
   "execution_count": 558,
   "metadata": {
    "ExecuteTime": {
     "end_time": "2024-05-17T19:15:42.281863200Z",
     "start_time": "2024-05-17T19:15:41.655363800Z"
    }
   },
   "outputs": [],
   "source": [
    "estimation_method = 'hardware-capex-opex'\n",
    "compute_threshold_method = 'residual_from_trend'  # top_n, window_percentile, backward_window_percentile, residual_from_trend\n",
    "compute_threshold = 80  # e.g. 10 to select top 10; 75 to select top 25%\n",
    "variant = 'original'\n",
    "exclude_models_containing = []\n",
    "\n",
    "estimation_method_lookup = {\n",
    "    'cloud': estimate_cloud_costs,\n",
    "    'amortized': estimate_amortized_hardware_costs,\n",
    "    'hardware-acquisition': estimate_hardware_acquisition_cost,\n",
    "    'hardware-capex-opex': estimate_hardware_capex_opex,\n",
    "}\n",
    "cost_estimation_function = estimation_method_lookup[estimation_method]\n",
    "\n",
    "results_dir = f'results/{estimation_method}-{compute_threshold_method}={compute_threshold}-{variant}/'\n",
    "os.makedirs(results_dir, exist_ok=True)"
   ]
  },
  {
   "cell_type": "markdown",
   "metadata": {},
   "source": [
    "# Load data"
   ]
  },
  {
   "cell_type": "code",
   "execution_count": 559,
   "metadata": {
    "ExecuteTime": {
     "end_time": "2024-05-17T19:15:42.281863200Z",
     "start_time": "2024-05-17T19:15:42.159719Z"
    }
   },
   "outputs": [],
   "source": [
    "frontier_pcd_df, hardware_df, price_df = load_data_for_cost_estimation(\n",
    "    compute_threshold_method=compute_threshold_method, compute_threshold=compute_threshold,\n",
    ")"
   ]
  },
  {
   "cell_type": "code",
   "execution_count": 560,
   "metadata": {
    "ExecuteTime": {
     "end_time": "2024-05-17T19:15:42.281863200Z",
     "start_time": "2024-05-17T19:15:42.159719Z"
    }
   },
   "outputs": [
    {
     "data": {
      "text/plain": "(73, 5510, 142)"
     },
     "execution_count": 560,
     "metadata": {},
     "output_type": "execute_result"
    }
   ],
   "source": [
    "len(frontier_pcd_df), len(hardware_df), len(price_df)"
   ]
  },
  {
   "cell_type": "markdown",
   "metadata": {},
   "source": [
    "# Cost estimation"
   ]
  },
  {
   "cell_type": "code",
   "execution_count": 561,
   "metadata": {
    "ExecuteTime": {
     "end_time": "2024-05-17T19:15:42.570077200Z",
     "start_time": "2024-05-17T19:15:42.182333500Z"
    }
   },
   "outputs": [],
   "source": [
    "with open(f'{results_dir}/cost_estimation.out', 'w') as f:\n",
    "    with redirect_stdout(f):\n",
    "        cost_df = cost_estimation_function(frontier_pcd_df, hardware_df, price_df)"
   ]
  },
  {
   "cell_type": "code",
   "execution_count": 562,
   "metadata": {
    "ExecuteTime": {
     "end_time": "2024-05-17T19:15:42.883579Z",
     "start_time": "2024-05-17T19:15:42.572085500Z"
    }
   },
   "outputs": [],
   "source": [
    "if estimation_method == 'hardware-capex-opex':\n",
    "    frontier_pcd_df_copy = frontier_pcd_df.copy()\n",
    "    with open(f'{results_dir}/component_cost_estimation.out', 'w') as f:\n",
    "        with redirect_stdout(f):\n",
    "            component_cost_df = cost_estimation_function(frontier_pcd_df_copy, hardware_df, price_df, separate_components=True)"
   ]
  },
  {
   "cell_type": "code",
   "execution_count": 563,
   "metadata": {
    "ExecuteTime": {
     "end_time": "2024-05-17T19:15:43.008371400Z",
     "start_time": "2024-05-17T19:15:42.886731800Z"
    }
   },
   "outputs": [
    {
     "data": {
      "text/plain": "                         System                      Domain  \\\n5                   Llama 3-70B                    Language   \n22                      MM1-30B  Multimodal,Language,Vision   \n23               Inflection-2.5                    Language   \n38       MegaScale (Production)                    Language   \n72                    FunSearch             Language,Search   \n...                         ...                         ...   \n1475  Linear Decision Functions                         NaN   \n1480          Perceptron (1960)                      Vision   \n1482     Samuel Neural Checkers                       Games   \n1483        Pandemonium (morse)                    Language   \n1484          Perceptron Mark I                       Other   \n\n                                                   Task  \\\n5     Chat,Language modelling/generation,Code genera...   \n22                                Chat,Image captioning   \n23                                                 Chat   \n38                        Language modelling/generation   \n72                                      Code generation   \n...                                                 ...   \n1475                                                NaN   \n1480                               Image classification   \n1482                                           Checkers   \n1483                                  Morse translation   \n1484                              Binary classification   \n\n                                                Authors  \\\n5     Aaditya Singh; Aaron Grattafiori; Abhimanyu Du...   \n22    Brandon McKinzie, Zhe Gan, Jean-Philippe Fauco...   \n23                                                  NaN   \n38    Ziheng Jiang, Haibin Lin, Yinmin Zhong, Qi Hua...   \n72    Bernardino Romera-Paredes, Mohammadamin Bareka...   \n...                                                 ...   \n1475                                      W. Highleyman   \n1480                                   Frank Rosenblatt   \n1482                                   Arthur L. Samuel   \n1483                                       OG Selfridge   \n1484                                       F Rosenblatt   \n\n                           Notability criteria  \\\n5                              Significant use   \n22                            SOTA improvement   \n23                             Significant use   \n38                            SOTA improvement   \n72    SOTA improvement,Historical significance   \n...                                        ...   \n1475      Historical significance,Highly cited   \n1480                   Historical significance   \n1482                              Highly cited   \n1483                              Highly cited   \n1484      Historical significance,Highly cited   \n\n                              Notability criteria notes  \\\n5     Will almost certainly be very influential and ...   \n22    \" In particular, the pretrained model MM1 is S...   \n23         one million daily users; six million monthly   \n38    Improves SOTA in FLOP utilization for distribu...   \n72    Improved SOTA for the cap set problem. Can pla...   \n...                                                 ...   \n1475                                                NaN   \n1480                                                NaN   \n1482                                                NaN   \n1483                                                NaN   \n1484                       First modern neural network    \n\n               Model accessibility  \\\n5     Open access (restricted use)   \n22                      Unreleased   \n23          Hosted access (no API)   \n38                      Unreleased   \n72                     Open source   \n...                            ...   \n1475                           NaN   \n1480                           NaN   \n1482                           NaN   \n1483                           NaN   \n1484                           NaN   \n\n                                                   Link  Citations  \\\n5     https://ai.meta.com/blog/meta-llama-3/\\r\\n\\r\\n...        NaN   \n22                     https://arxiv.org/abs/2403.09611       11.0   \n23                 https://inflection.ai/inflection-2-5        NaN   \n38                     https://arxiv.org/abs/2402.15627        1.0   \n72    https://www.nature.com/articles/s41586-023-069...       67.0   \n...                                                 ...        ...   \n1475  https://ieeexplore.ieee.org/document/4066882?d...        NaN   \n1480  https://www.semanticscholar.org/paper/Perceptr...      394.0   \n1482  https://ieeexplore.ieee.org/abstract/document/...     4509.0   \n1483        https://aitopics.org/doc/classics:504E1BAC/     1453.0   \n1484  https://blogs.umass.edu/brain-wars/files/2016/...     1610.0   \n\n                                              Reference  ... Foundation model  \\\n5     Introducing Meta Llama 3: The most capable ope...  ...              NaN   \n22    MM1: Methods, Analysis & Insights from Multimo...  ...              NaN   \n23    Inflection-2.5: meet the world's best personal AI  ...              NaN   \n38    MegaScale: Scaling Large Language Model Traini...  ...              NaN   \n72    Mathematical discoveries from program search w...  ...              NaN   \n...                                                 ...  ...              ...   \n1475  Linear Decision Functions, with Application to...  ...              NaN   \n1480                  Perceptron Simulation Experiments  ...              NaN   \n1482  Some studies in machine learning using the gam...  ...              NaN   \n1483               Pandemonium: A Paradigm for Learning  ...              NaN   \n1484  The Perceptron—a perceiving and recognizing au...  ...              NaN   \n\n     Training compute lower bound  Training compute upper bound  \\\n5                             NaN                           NaN   \n22                            NaN                           NaN   \n23                            NaN                           NaN   \n38                            NaN                           NaN   \n72                            NaN                           NaN   \n...                           ...                           ...   \n1475                          NaN                           NaN   \n1480                          NaN                           NaN   \n1482                          NaN                           NaN   \n1483                          NaN                           NaN   \n1484                          NaN                           NaN   \n\n     Training chip-hours            Code accessibility Dataset accessibility  \\\n5              6400000.0  Open access (restricted use)                   NaN   \n22                   NaN                    Unreleased            Unreleased   \n23                   NaN                           NaN                   NaN   \n38                   NaN                           NaN                   NaN   \n72                   NaN                           NaN                   NaN   \n...                  ...                           ...                   ...   \n1475                 NaN                           NaN                   NaN   \n1480                 NaN                           NaN                   NaN   \n1482                 NaN                           NaN                   NaN   \n1483                 NaN                           NaN                   NaN   \n1484                 NaN                           NaN                   NaN   \n\n                                    Accessibility notes  \\\n5     https://github.com/meta-llama/llama3/blob/main...   \n22                                                  NaN   \n23                                                  NaN   \n38    Code for MegaScale (also called veScale) train...   \n72    Code to run FunSearch with an LLM of your choi...   \n...                                                 ...   \n1475                                                NaN   \n1480                                                NaN   \n1482                                                NaN   \n1483                                                NaN   \n1484                                                NaN   \n\n     Organization categorization (from Organization)  Possibly over 1e23 FLOP  \\\n5                                           Industry                  checked   \n22                                          Industry                      NaN   \n23                                          Industry                      NaN   \n38                                 Industry,Academia                      NaN   \n72                                          Industry                      NaN   \n...                                              ...                      ...   \n1475                                        Industry                      NaN   \n1480                                        Academia                      NaN   \n1482                                        Industry                      NaN   \n1483                                        Academia                      NaN   \n1484                               Academia,Academia                      NaN   \n\n              Cost  \n5     8.778959e+06  \n22             NaN  \n23    1.072551e+07  \n38    2.410008e+06  \n72             NaN  \n...            ...  \n1475           NaN  \n1480           NaN  \n1482           NaN  \n1483           NaN  \n1484           NaN  \n\n[73 rows x 59 columns]",
      "text/html": "<div>\n<style scoped>\n    .dataframe tbody tr th:only-of-type {\n        vertical-align: middle;\n    }\n\n    .dataframe tbody tr th {\n        vertical-align: top;\n    }\n\n    .dataframe thead th {\n        text-align: right;\n    }\n</style>\n<table border=\"1\" class=\"dataframe\">\n  <thead>\n    <tr style=\"text-align: right;\">\n      <th></th>\n      <th>System</th>\n      <th>Domain</th>\n      <th>Task</th>\n      <th>Authors</th>\n      <th>Notability criteria</th>\n      <th>Notability criteria notes</th>\n      <th>Model accessibility</th>\n      <th>Link</th>\n      <th>Citations</th>\n      <th>Reference</th>\n      <th>...</th>\n      <th>Foundation model</th>\n      <th>Training compute lower bound</th>\n      <th>Training compute upper bound</th>\n      <th>Training chip-hours</th>\n      <th>Code accessibility</th>\n      <th>Dataset accessibility</th>\n      <th>Accessibility notes</th>\n      <th>Organization categorization (from Organization)</th>\n      <th>Possibly over 1e23 FLOP</th>\n      <th>Cost</th>\n    </tr>\n  </thead>\n  <tbody>\n    <tr>\n      <th>5</th>\n      <td>Llama 3-70B</td>\n      <td>Language</td>\n      <td>Chat,Language modelling/generation,Code genera...</td>\n      <td>Aaditya Singh; Aaron Grattafiori; Abhimanyu Du...</td>\n      <td>Significant use</td>\n      <td>Will almost certainly be very influential and ...</td>\n      <td>Open access (restricted use)</td>\n      <td>https://ai.meta.com/blog/meta-llama-3/\\r\\n\\r\\n...</td>\n      <td>NaN</td>\n      <td>Introducing Meta Llama 3: The most capable ope...</td>\n      <td>...</td>\n      <td>NaN</td>\n      <td>NaN</td>\n      <td>NaN</td>\n      <td>6400000.0</td>\n      <td>Open access (restricted use)</td>\n      <td>NaN</td>\n      <td>https://github.com/meta-llama/llama3/blob/main...</td>\n      <td>Industry</td>\n      <td>checked</td>\n      <td>8.778959e+06</td>\n    </tr>\n    <tr>\n      <th>22</th>\n      <td>MM1-30B</td>\n      <td>Multimodal,Language,Vision</td>\n      <td>Chat,Image captioning</td>\n      <td>Brandon McKinzie, Zhe Gan, Jean-Philippe Fauco...</td>\n      <td>SOTA improvement</td>\n      <td>\" In particular, the pretrained model MM1 is S...</td>\n      <td>Unreleased</td>\n      <td>https://arxiv.org/abs/2403.09611</td>\n      <td>11.0</td>\n      <td>MM1: Methods, Analysis &amp; Insights from Multimo...</td>\n      <td>...</td>\n      <td>NaN</td>\n      <td>NaN</td>\n      <td>NaN</td>\n      <td>NaN</td>\n      <td>Unreleased</td>\n      <td>Unreleased</td>\n      <td>NaN</td>\n      <td>Industry</td>\n      <td>NaN</td>\n      <td>NaN</td>\n    </tr>\n    <tr>\n      <th>23</th>\n      <td>Inflection-2.5</td>\n      <td>Language</td>\n      <td>Chat</td>\n      <td>NaN</td>\n      <td>Significant use</td>\n      <td>one million daily users; six million monthly</td>\n      <td>Hosted access (no API)</td>\n      <td>https://inflection.ai/inflection-2-5</td>\n      <td>NaN</td>\n      <td>Inflection-2.5: meet the world's best personal AI</td>\n      <td>...</td>\n      <td>NaN</td>\n      <td>NaN</td>\n      <td>NaN</td>\n      <td>NaN</td>\n      <td>NaN</td>\n      <td>NaN</td>\n      <td>NaN</td>\n      <td>Industry</td>\n      <td>NaN</td>\n      <td>1.072551e+07</td>\n    </tr>\n    <tr>\n      <th>38</th>\n      <td>MegaScale (Production)</td>\n      <td>Language</td>\n      <td>Language modelling/generation</td>\n      <td>Ziheng Jiang, Haibin Lin, Yinmin Zhong, Qi Hua...</td>\n      <td>SOTA improvement</td>\n      <td>Improves SOTA in FLOP utilization for distribu...</td>\n      <td>Unreleased</td>\n      <td>https://arxiv.org/abs/2402.15627</td>\n      <td>1.0</td>\n      <td>MegaScale: Scaling Large Language Model Traini...</td>\n      <td>...</td>\n      <td>NaN</td>\n      <td>NaN</td>\n      <td>NaN</td>\n      <td>NaN</td>\n      <td>NaN</td>\n      <td>NaN</td>\n      <td>Code for MegaScale (also called veScale) train...</td>\n      <td>Industry,Academia</td>\n      <td>NaN</td>\n      <td>2.410008e+06</td>\n    </tr>\n    <tr>\n      <th>72</th>\n      <td>FunSearch</td>\n      <td>Language,Search</td>\n      <td>Code generation</td>\n      <td>Bernardino Romera-Paredes, Mohammadamin Bareka...</td>\n      <td>SOTA improvement,Historical significance</td>\n      <td>Improved SOTA for the cap set problem. Can pla...</td>\n      <td>Open source</td>\n      <td>https://www.nature.com/articles/s41586-023-069...</td>\n      <td>67.0</td>\n      <td>Mathematical discoveries from program search w...</td>\n      <td>...</td>\n      <td>NaN</td>\n      <td>NaN</td>\n      <td>NaN</td>\n      <td>NaN</td>\n      <td>NaN</td>\n      <td>NaN</td>\n      <td>Code to run FunSearch with an LLM of your choi...</td>\n      <td>Industry</td>\n      <td>NaN</td>\n      <td>NaN</td>\n    </tr>\n    <tr>\n      <th>...</th>\n      <td>...</td>\n      <td>...</td>\n      <td>...</td>\n      <td>...</td>\n      <td>...</td>\n      <td>...</td>\n      <td>...</td>\n      <td>...</td>\n      <td>...</td>\n      <td>...</td>\n      <td>...</td>\n      <td>...</td>\n      <td>...</td>\n      <td>...</td>\n      <td>...</td>\n      <td>...</td>\n      <td>...</td>\n      <td>...</td>\n      <td>...</td>\n      <td>...</td>\n      <td>...</td>\n    </tr>\n    <tr>\n      <th>1475</th>\n      <td>Linear Decision Functions</td>\n      <td>NaN</td>\n      <td>NaN</td>\n      <td>W. Highleyman</td>\n      <td>Historical significance,Highly cited</td>\n      <td>NaN</td>\n      <td>NaN</td>\n      <td>https://ieeexplore.ieee.org/document/4066882?d...</td>\n      <td>NaN</td>\n      <td>Linear Decision Functions, with Application to...</td>\n      <td>...</td>\n      <td>NaN</td>\n      <td>NaN</td>\n      <td>NaN</td>\n      <td>NaN</td>\n      <td>NaN</td>\n      <td>NaN</td>\n      <td>NaN</td>\n      <td>Industry</td>\n      <td>NaN</td>\n      <td>NaN</td>\n    </tr>\n    <tr>\n      <th>1480</th>\n      <td>Perceptron (1960)</td>\n      <td>Vision</td>\n      <td>Image classification</td>\n      <td>Frank Rosenblatt</td>\n      <td>Historical significance</td>\n      <td>NaN</td>\n      <td>NaN</td>\n      <td>https://www.semanticscholar.org/paper/Perceptr...</td>\n      <td>394.0</td>\n      <td>Perceptron Simulation Experiments</td>\n      <td>...</td>\n      <td>NaN</td>\n      <td>NaN</td>\n      <td>NaN</td>\n      <td>NaN</td>\n      <td>NaN</td>\n      <td>NaN</td>\n      <td>NaN</td>\n      <td>Academia</td>\n      <td>NaN</td>\n      <td>NaN</td>\n    </tr>\n    <tr>\n      <th>1482</th>\n      <td>Samuel Neural Checkers</td>\n      <td>Games</td>\n      <td>Checkers</td>\n      <td>Arthur L. Samuel</td>\n      <td>Highly cited</td>\n      <td>NaN</td>\n      <td>NaN</td>\n      <td>https://ieeexplore.ieee.org/abstract/document/...</td>\n      <td>4509.0</td>\n      <td>Some studies in machine learning using the gam...</td>\n      <td>...</td>\n      <td>NaN</td>\n      <td>NaN</td>\n      <td>NaN</td>\n      <td>NaN</td>\n      <td>NaN</td>\n      <td>NaN</td>\n      <td>NaN</td>\n      <td>Industry</td>\n      <td>NaN</td>\n      <td>NaN</td>\n    </tr>\n    <tr>\n      <th>1483</th>\n      <td>Pandemonium (morse)</td>\n      <td>Language</td>\n      <td>Morse translation</td>\n      <td>OG Selfridge</td>\n      <td>Highly cited</td>\n      <td>NaN</td>\n      <td>NaN</td>\n      <td>https://aitopics.org/doc/classics:504E1BAC/</td>\n      <td>1453.0</td>\n      <td>Pandemonium: A Paradigm for Learning</td>\n      <td>...</td>\n      <td>NaN</td>\n      <td>NaN</td>\n      <td>NaN</td>\n      <td>NaN</td>\n      <td>NaN</td>\n      <td>NaN</td>\n      <td>NaN</td>\n      <td>Academia</td>\n      <td>NaN</td>\n      <td>NaN</td>\n    </tr>\n    <tr>\n      <th>1484</th>\n      <td>Perceptron Mark I</td>\n      <td>Other</td>\n      <td>Binary classification</td>\n      <td>F Rosenblatt</td>\n      <td>Historical significance,Highly cited</td>\n      <td>First modern neural network</td>\n      <td>NaN</td>\n      <td>https://blogs.umass.edu/brain-wars/files/2016/...</td>\n      <td>1610.0</td>\n      <td>The Perceptron—a perceiving and recognizing au...</td>\n      <td>...</td>\n      <td>NaN</td>\n      <td>NaN</td>\n      <td>NaN</td>\n      <td>NaN</td>\n      <td>NaN</td>\n      <td>NaN</td>\n      <td>NaN</td>\n      <td>Academia,Academia</td>\n      <td>NaN</td>\n      <td>NaN</td>\n    </tr>\n  </tbody>\n</table>\n<p>73 rows × 59 columns</p>\n</div>"
     },
     "execution_count": 563,
     "metadata": {},
     "output_type": "execute_result"
    }
   ],
   "source": [
    "cost_df"
   ]
  },
  {
   "cell_type": "code",
   "execution_count": 564,
   "metadata": {
    "ExecuteTime": {
     "end_time": "2024-05-17T19:15:43.143475500Z",
     "start_time": "2024-05-17T19:15:43.009386Z"
    }
   },
   "outputs": [
    {
     "data": {
      "text/plain": "50"
     },
     "execution_count": 564,
     "metadata": {},
     "output_type": "execute_result"
    }
   ],
   "source": [
    "cost_df['Cost'].notna().sum()"
   ]
  },
  {
   "cell_type": "markdown",
   "metadata": {},
   "source": [
    "Exclusion"
   ]
  },
  {
   "cell_type": "code",
   "execution_count": 565,
   "metadata": {
    "ExecuteTime": {
     "end_time": "2024-05-17T19:15:43.242251300Z",
     "start_time": "2024-05-17T19:15:43.118551800Z"
    }
   },
   "outputs": [
    {
     "data": {
      "text/plain": "['Llama 3-70B',\n 'MM1-30B',\n 'Inflection-2.5',\n 'MegaScale (Production)',\n 'FunSearch',\n 'Gemini Ultra',\n 'Qwen-72B',\n 'Inflection-2',\n 'Grok-1',\n 'Yi-34B',\n 'ChatGLM3',\n 'Falcon-180B',\n 'Llama 2-70B',\n 'Claude 2',\n 'xTrimoPGLM -100B',\n 'PaLM 2',\n 'BloombergGPT',\n 'PanGu-Σ',\n 'GPT-4',\n 'Falcon-40B',\n 'LLaMA-65B',\n 'ViT-22B',\n 'GPT-3.5 (text-davinci-003)',\n 'Galactica',\n 'BLOOM-176B',\n 'U-PaLM (540B)',\n 'Flan-PaLM 540B',\n 'BlenderBot 3',\n 'GLM-130B',\n 'AlexaTM 20B',\n 'Minerva (540B)',\n 'Parti',\n 'UL2',\n 'OPT-175B',\n 'Flamingo',\n 'PaLM (540B)',\n 'Chinchilla',\n 'ST-MoE',\n 'LaMDA',\n 'GPT-NeoX-20B',\n 'AlphaCode',\n 'ERNIE 3.0 Titan',\n 'GLaM',\n 'Gopher (280B)',\n 'Yuan 1.0',\n 'Megatron-Turing NLG 530B',\n 'HyperCLOVA',\n 'GOAT',\n 'ByT5-XXL',\n 'ProtT5-XXL',\n 'Meta Pseudo Labels',\n 'Switch',\n 'DALL-E',\n 'mT5-XXL',\n 'iGPT-XL',\n 'GPT-3 175B (davinci)',\n 'Meena',\n 'OpenAI Five',\n 'AlphaStar',\n 'T5-11B',\n 'Megatron-BERT',\n 'ResNeXt-101 32x48d',\n 'AlphaZero',\n 'AlphaGo Zero',\n 'AlphaGo Master',\n 'GNMT',\n 'AlphaGo Lee',\n 'Print Recognition Logic',\n 'Linear Decision Functions',\n 'Perceptron (1960)',\n 'Samuel Neural Checkers',\n 'Pandemonium (morse)',\n 'Perceptron Mark I']"
     },
     "execution_count": 565,
     "metadata": {},
     "output_type": "execute_result"
    }
   ],
   "source": [
    "for kw in exclude_models_containing:\n",
    "    cost_df = cost_df[cost_df['System'].str.contains(kw) == False]\n",
    "list(cost_df['System'])"
   ]
  },
  {
   "cell_type": "markdown",
   "metadata": {},
   "source": [
    "Use the below to check data availability for specific systems"
   ]
  },
  {
   "cell_type": "code",
   "execution_count": 566,
   "metadata": {
    "ExecuteTime": {
     "end_time": "2024-05-17T19:15:43.350987Z",
     "start_time": "2024-05-17T19:15:43.243375800Z"
    }
   },
   "outputs": [],
   "source": [
    "# system = 'WizardLM-7B'\n",
    "# row = cost_df.loc[cost_df['System'] == system]\n",
    "# print('Cost:', row['Cost'].values[0])\n",
    "# print('Training hardware:', row['Training hardware'].values[0])\n",
    "# print('Training time (hours):', row['Training time (hours)'].values[0])\n",
    "# print('Hardware quantity:', row['Hardware quantity'].values[0])\n",
    "# print('Hardware utilization:', row['Hardware utilization'].values[0])"
   ]
  },
  {
   "cell_type": "markdown",
   "metadata": {},
   "source": [
    "# Apply inflation adjustment"
   ]
  },
  {
   "cell_type": "code",
   "execution_count": 567,
   "metadata": {
    "ExecuteTime": {
     "end_time": "2024-05-17T19:15:43.481345900Z",
     "start_time": "2024-05-17T19:15:43.353103900Z"
    }
   },
   "outputs": [
    {
     "data": {
      "text/plain": "5       8.778959e+06\n23      1.072551e+07\n38      2.410008e+06\n82      6.126676e+07\n98      1.171711e+07\n184     9.362940e+06\n223     9.938486e+05\n235     1.646685e+06\n278     9.684345e+06\n311     3.332574e+05\n319     3.739479e+07\n320     2.882908e+05\n335     5.180867e+05\n341     5.689450e+05\n379     4.222085e+06\n385     5.260542e+05\n390     8.022369e+05\n405     5.941722e+06\n407     5.917571e+06\n430     1.303369e+06\n431     7.312196e+05\n432     2.386147e+05\n453     6.361336e+06\n459     6.876996e+05\n493     2.539170e+05\n496     6.531276e+05\n497     3.670219e+05\n506     5.906844e+06\n528     3.770427e+05\n530     1.618202e+05\n557     1.077455e+06\n561     1.024991e+06\n602     3.250046e+06\n609     5.145633e+05\n629     1.419045e+05\n651     1.547803e+05\n659     1.436324e+05\n697     9.048363e+04\n713     2.343297e+05\n716     1.037081e+05\n778     8.527521e+04\n785     1.820445e+06\n825     3.480160e+05\n852     2.091735e+05\n856     1.255628e+05\n870     6.613550e+05\n1055    6.833213e+05\n1071    1.036716e+06\n1131    7.916623e+05\n1159    1.146647e+05\nName: Cost, dtype: float64"
     },
     "execution_count": 567,
     "metadata": {},
     "output_type": "execute_result"
    }
   ],
   "source": [
    "cost_df['Cost'].dropna()"
   ]
  },
  {
   "cell_type": "code",
   "execution_count": 568,
   "metadata": {
    "ExecuteTime": {
     "end_time": "2024-05-17T19:15:43.636090900Z",
     "start_time": "2024-05-17T19:15:43.482390200Z"
    }
   },
   "outputs": [],
   "source": [
    "cost_df = adjust_column_for_inflation(cost_df, 'Cost', 'data/PCU518210518210.csv', '2023-12-01')"
   ]
  },
  {
   "cell_type": "code",
   "execution_count": 569,
   "metadata": {
    "ExecuteTime": {
     "end_time": "2024-05-17T19:15:43.785584800Z",
     "start_time": "2024-05-17T19:15:43.642182Z"
    }
   },
   "outputs": [
    {
     "data": {
      "text/plain": "5       8.723917e+06\n23      1.070554e+07\n38      2.400127e+06\n82      6.126676e+07\n98      1.174444e+07\n184     9.420876e+06\n223     9.995083e+05\n235     1.656062e+06\n278     9.783886e+06\n311     3.368315e+05\n319     3.779583e+07\n320     2.913827e+05\n335     5.246990e+05\n341     5.762063e+05\n379     4.306936e+06\n385     5.366264e+05\n390     8.183594e+05\n405     6.061445e+06\n407     6.036806e+06\n430     1.329358e+06\n431     7.457999e+05\n432     2.433726e+05\n453     6.481348e+06\n459     7.006736e+05\n493     2.579324e+05\n496     6.634560e+05\n497     3.730966e+05\n506     6.004609e+06\n528     3.897914e+05\n530     1.672917e+05\n557     1.111858e+06\n561     1.057719e+06\n602     3.352803e+06\n609     5.317725e+05\n629     1.464025e+05\n651     1.600638e+05\n659     1.485353e+05\n697     9.349111e+04\n713     2.431737e+05\n716     1.076222e+05\n778     8.895901e+04\n785     1.910809e+06\n825     3.656134e+05\n852     2.228981e+05\n856     1.338014e+05\n870     7.053802e+05\n1055    7.387380e+05\n1071    1.120792e+06\n1131    8.645025e+05\n1159    1.252149e+05\nName: Cost (inflation-adjusted), dtype: float64"
     },
     "execution_count": 569,
     "metadata": {},
     "output_type": "execute_result"
    }
   ],
   "source": [
    "cost_df['Cost (inflation-adjusted)'].dropna()"
   ]
  },
  {
   "cell_type": "code",
   "execution_count": 570,
   "metadata": {
    "ExecuteTime": {
     "end_time": "2024-05-17T19:15:43.896859200Z",
     "start_time": "2024-05-17T19:15:43.776117Z"
    }
   },
   "outputs": [],
   "source": [
    "assert cost_df['Cost (inflation-adjusted)'].notna().sum() == cost_df['Cost'].notna().sum()"
   ]
  },
  {
   "cell_type": "markdown",
   "metadata": {},
   "source": [
    "# Regression"
   ]
  },
  {
   "cell_type": "code",
   "execution_count": 571,
   "metadata": {
    "ExecuteTime": {
     "end_time": "2024-05-17T19:15:44.008956200Z",
     "start_time": "2024-05-17T19:15:43.899159200Z"
    }
   },
   "outputs": [],
   "source": [
    "cost_df['Publication date (float)'] = datetime_to_float_year(pd.to_datetime(cost_df['Publication date']))"
   ]
  },
  {
   "cell_type": "code",
   "execution_count": 572,
   "metadata": {
    "ExecuteTime": {
     "end_time": "2024-05-17T19:15:44.147375800Z",
     "start_time": "2024-05-17T19:15:44.008956200Z"
    }
   },
   "outputs": [
    {
     "data": {
      "text/plain": "<class 'statsmodels.iolib.summary.Summary'>\n\"\"\"\n                            OLS Regression Results                            \n==============================================================================\nDep. Variable:                      y   R-squared:                       0.234\nModel:                            OLS   Adj. R-squared:                  0.218\nMethod:                 Least Squares   F-statistic:                     14.64\nDate:                Fri, 17 May 2024   Prob (F-statistic):           0.000376\nTime:                        15:15:44   Log-Likelihood:                -46.378\nNo. Observations:                  50   AIC:                             96.76\nDf Residuals:                      48   BIC:                             100.6\nDf Model:                           1                                         \nCovariance Type:            nonrobust                                         \n==============================================================================\n                 coef    std err          t      P>|t|      [0.025      0.975]\n------------------------------------------------------------------------------\nconst       -378.8804    100.585     -3.767      0.000    -581.120    -176.641\nx1             0.1903      0.050      3.826      0.000       0.090       0.290\n==============================================================================\nOmnibus:                        5.321   Durbin-Watson:                   1.651\nProb(Omnibus):                  0.070   Jarque-Bera (JB):                3.163\nSkew:                           0.416   Prob(JB):                        0.206\nKurtosis:                       2.091   Cond. No.                     2.30e+06\n==============================================================================\n\nNotes:\n[1] Standard Errors assume that the covariance matrix of the errors is correctly specified.\n[2] The condition number is large, 2.3e+06. This might indicate that there are\nstrong multicollinearity or other numerical problems.\n\"\"\"",
      "text/html": "<table class=\"simpletable\">\n<caption>OLS Regression Results</caption>\n<tr>\n  <th>Dep. Variable:</th>            <td>y</td>        <th>  R-squared:         </th> <td>   0.234</td>\n</tr>\n<tr>\n  <th>Model:</th>                   <td>OLS</td>       <th>  Adj. R-squared:    </th> <td>   0.218</td>\n</tr>\n<tr>\n  <th>Method:</th>             <td>Least Squares</td>  <th>  F-statistic:       </th> <td>   14.64</td>\n</tr>\n<tr>\n  <th>Date:</th>             <td>Fri, 17 May 2024</td> <th>  Prob (F-statistic):</th> <td>0.000376</td>\n</tr>\n<tr>\n  <th>Time:</th>                 <td>15:15:44</td>     <th>  Log-Likelihood:    </th> <td> -46.378</td>\n</tr>\n<tr>\n  <th>No. Observations:</th>      <td>    50</td>      <th>  AIC:               </th> <td>   96.76</td>\n</tr>\n<tr>\n  <th>Df Residuals:</th>          <td>    48</td>      <th>  BIC:               </th> <td>   100.6</td>\n</tr>\n<tr>\n  <th>Df Model:</th>              <td>     1</td>      <th>                     </th>     <td> </td>   \n</tr>\n<tr>\n  <th>Covariance Type:</th>      <td>nonrobust</td>    <th>                     </th>     <td> </td>   \n</tr>\n</table>\n<table class=\"simpletable\">\n<tr>\n    <td></td>       <th>coef</th>     <th>std err</th>      <th>t</th>      <th>P>|t|</th>  <th>[0.025</th>    <th>0.975]</th>  \n</tr>\n<tr>\n  <th>const</th> <td> -378.8804</td> <td>  100.585</td> <td>   -3.767</td> <td> 0.000</td> <td> -581.120</td> <td> -176.641</td>\n</tr>\n<tr>\n  <th>x1</th>    <td>    0.1903</td> <td>    0.050</td> <td>    3.826</td> <td> 0.000</td> <td>    0.090</td> <td>    0.290</td>\n</tr>\n</table>\n<table class=\"simpletable\">\n<tr>\n  <th>Omnibus:</th>       <td> 5.321</td> <th>  Durbin-Watson:     </th> <td>   1.651</td>\n</tr>\n<tr>\n  <th>Prob(Omnibus):</th> <td> 0.070</td> <th>  Jarque-Bera (JB):  </th> <td>   3.163</td>\n</tr>\n<tr>\n  <th>Skew:</th>          <td> 0.416</td> <th>  Prob(JB):          </th> <td>   0.206</td>\n</tr>\n<tr>\n  <th>Kurtosis:</th>      <td> 2.091</td> <th>  Cond. No.          </th> <td>2.30e+06</td>\n</tr>\n</table><br/><br/>Notes:<br/>[1] Standard Errors assume that the covariance matrix of the errors is correctly specified.<br/>[2] The condition number is large, 2.3e+06. This might indicate that there are<br/>strong multicollinearity or other numerical problems."
     },
     "execution_count": 572,
     "metadata": {},
     "output_type": "execute_result"
    }
   ],
   "source": [
    "reg_results = fit_ols_regression(cost_df, ['Publication date (float)'], 'Cost (inflation-adjusted)', logy=True)\n",
    "reg_results.summary()"
   ]
  },
  {
   "cell_type": "code",
   "execution_count": 573,
   "metadata": {
    "ExecuteTime": {
     "end_time": "2024-05-17T19:15:44.301457Z",
     "start_time": "2024-05-17T19:15:44.149481100Z"
    }
   },
   "outputs": [
    {
     "name": "stdout",
     "output_type": "stream",
     "text": [
      "N=50.0\n",
      "R^2=0.23\n",
      "0.19 OOMs/year (95% CI: 0.09, 0.29)\n",
      "1.6x/year (95% CI: 1.2x, 2.0x)\n",
      "doubling time of 19 months (95% CI: 12, 40)\n"
     ]
    }
   ],
   "source": [
    "with open(f'{results_dir}/regression_results.out', 'w') as f:\n",
    "    with redirect_stdout(f):\n",
    "        print_growth_rates(reg_results)\n",
    "print_growth_rates(reg_results)"
   ]
  },
  {
   "cell_type": "code",
   "execution_count": 574,
   "metadata": {
    "ExecuteTime": {
     "end_time": "2024-05-17T19:15:44.409648700Z",
     "start_time": "2024-05-17T19:15:44.302463600Z"
    }
   },
   "outputs": [
    {
     "data": {
      "text/plain": "    Publication date (float)\n0                 2015.00000\n1                 2015.10101\n2                 2015.20202\n3                 2015.30303\n4                 2015.40404\n..                       ...\n95                2024.59596\n96                2024.69697\n97                2024.79798\n98                2024.89899\n99                2025.00000\n\n[100 rows x 1 columns]",
      "text/html": "<div>\n<style scoped>\n    .dataframe tbody tr th:only-of-type {\n        vertical-align: middle;\n    }\n\n    .dataframe tbody tr th {\n        vertical-align: top;\n    }\n\n    .dataframe thead th {\n        text-align: right;\n    }\n</style>\n<table border=\"1\" class=\"dataframe\">\n  <thead>\n    <tr style=\"text-align: right;\">\n      <th></th>\n      <th>Publication date (float)</th>\n    </tr>\n  </thead>\n  <tbody>\n    <tr>\n      <th>0</th>\n      <td>2015.00000</td>\n    </tr>\n    <tr>\n      <th>1</th>\n      <td>2015.10101</td>\n    </tr>\n    <tr>\n      <th>2</th>\n      <td>2015.20202</td>\n    </tr>\n    <tr>\n      <th>3</th>\n      <td>2015.30303</td>\n    </tr>\n    <tr>\n      <th>4</th>\n      <td>2015.40404</td>\n    </tr>\n    <tr>\n      <th>...</th>\n      <td>...</td>\n    </tr>\n    <tr>\n      <th>95</th>\n      <td>2024.59596</td>\n    </tr>\n    <tr>\n      <th>96</th>\n      <td>2024.69697</td>\n    </tr>\n    <tr>\n      <th>97</th>\n      <td>2024.79798</td>\n    </tr>\n    <tr>\n      <th>98</th>\n      <td>2024.89899</td>\n    </tr>\n    <tr>\n      <th>99</th>\n      <td>2025.00000</td>\n    </tr>\n  </tbody>\n</table>\n<p>100 rows × 1 columns</p>\n</div>"
     },
     "execution_count": 574,
     "metadata": {},
     "output_type": "execute_result"
    }
   ],
   "source": [
    "pred_start_year = 2015\n",
    "pred_end_year = 2025\n",
    "pred_start_date = f'{pred_start_year}-01-01'\n",
    "pred_end_date = f'{pred_end_year}-01-01'\n",
    "\n",
    "pred_years = pd.DataFrame({'Publication date (float)': np.linspace(pred_start_year, pred_end_year, 100)})\n",
    "pred_years"
   ]
  },
  {
   "cell_type": "code",
   "execution_count": 575,
   "metadata": {
    "ExecuteTime": {
     "end_time": "2024-05-17T19:15:44.549481200Z",
     "start_time": "2024-05-17T19:15:44.412254400Z"
    }
   },
   "outputs": [
    {
     "data": {
      "text/plain": "        mean   mean_se  mean_ci_lower  mean_ci_upper  obs_ci_lower  \\\n0   4.665243  0.354980       3.951507       5.378979      3.221099   \n1   4.684470  0.350116       3.980515       5.388424      3.245135   \n2   4.703696  0.345255       4.009514       5.397879      3.269116   \n3   4.722923  0.340400       4.038503       5.407343      3.293041   \n4   4.742150  0.335550       4.067482       5.416818      3.316910   \n..       ...       ...            ...            ...           ...   \n95  6.491788  0.160105       6.169876       6.813701      5.195733   \n96  6.511015  0.164320       6.180628       6.841402      5.212829   \n97  6.530242  0.168579       6.191290       6.869193      5.229850   \n98  6.549468  0.172880       6.201870       6.897066      5.246796   \n99  6.568695  0.177218       6.212374       6.925017      5.263668   \n\n    obs_ci_upper  Publication date (float) Publication date  \n0       6.109386                2015.00000       2015-01-01  \n1       6.123804                2015.10101       2015-02-06  \n2       6.138277                2015.20202       2015-03-15  \n3       6.152805                2015.30303       2015-04-21  \n4       6.167390                2015.40404       2015-05-28  \n..           ...                       ...              ...  \n95      7.787843                2024.59596       2024-08-06  \n96      7.809201                2024.69697       2024-09-12  \n97      7.830634                2024.79798       2024-10-19  \n98      7.852141                2024.89899       2024-11-25  \n99      7.873723                2025.00000       2025-01-01  \n\n[100 rows x 8 columns]",
      "text/html": "<div>\n<style scoped>\n    .dataframe tbody tr th:only-of-type {\n        vertical-align: middle;\n    }\n\n    .dataframe tbody tr th {\n        vertical-align: top;\n    }\n\n    .dataframe thead th {\n        text-align: right;\n    }\n</style>\n<table border=\"1\" class=\"dataframe\">\n  <thead>\n    <tr style=\"text-align: right;\">\n      <th></th>\n      <th>mean</th>\n      <th>mean_se</th>\n      <th>mean_ci_lower</th>\n      <th>mean_ci_upper</th>\n      <th>obs_ci_lower</th>\n      <th>obs_ci_upper</th>\n      <th>Publication date (float)</th>\n      <th>Publication date</th>\n    </tr>\n  </thead>\n  <tbody>\n    <tr>\n      <th>0</th>\n      <td>4.665243</td>\n      <td>0.354980</td>\n      <td>3.951507</td>\n      <td>5.378979</td>\n      <td>3.221099</td>\n      <td>6.109386</td>\n      <td>2015.00000</td>\n      <td>2015-01-01</td>\n    </tr>\n    <tr>\n      <th>1</th>\n      <td>4.684470</td>\n      <td>0.350116</td>\n      <td>3.980515</td>\n      <td>5.388424</td>\n      <td>3.245135</td>\n      <td>6.123804</td>\n      <td>2015.10101</td>\n      <td>2015-02-06</td>\n    </tr>\n    <tr>\n      <th>2</th>\n      <td>4.703696</td>\n      <td>0.345255</td>\n      <td>4.009514</td>\n      <td>5.397879</td>\n      <td>3.269116</td>\n      <td>6.138277</td>\n      <td>2015.20202</td>\n      <td>2015-03-15</td>\n    </tr>\n    <tr>\n      <th>3</th>\n      <td>4.722923</td>\n      <td>0.340400</td>\n      <td>4.038503</td>\n      <td>5.407343</td>\n      <td>3.293041</td>\n      <td>6.152805</td>\n      <td>2015.30303</td>\n      <td>2015-04-21</td>\n    </tr>\n    <tr>\n      <th>4</th>\n      <td>4.742150</td>\n      <td>0.335550</td>\n      <td>4.067482</td>\n      <td>5.416818</td>\n      <td>3.316910</td>\n      <td>6.167390</td>\n      <td>2015.40404</td>\n      <td>2015-05-28</td>\n    </tr>\n    <tr>\n      <th>...</th>\n      <td>...</td>\n      <td>...</td>\n      <td>...</td>\n      <td>...</td>\n      <td>...</td>\n      <td>...</td>\n      <td>...</td>\n      <td>...</td>\n    </tr>\n    <tr>\n      <th>95</th>\n      <td>6.491788</td>\n      <td>0.160105</td>\n      <td>6.169876</td>\n      <td>6.813701</td>\n      <td>5.195733</td>\n      <td>7.787843</td>\n      <td>2024.59596</td>\n      <td>2024-08-06</td>\n    </tr>\n    <tr>\n      <th>96</th>\n      <td>6.511015</td>\n      <td>0.164320</td>\n      <td>6.180628</td>\n      <td>6.841402</td>\n      <td>5.212829</td>\n      <td>7.809201</td>\n      <td>2024.69697</td>\n      <td>2024-09-12</td>\n    </tr>\n    <tr>\n      <th>97</th>\n      <td>6.530242</td>\n      <td>0.168579</td>\n      <td>6.191290</td>\n      <td>6.869193</td>\n      <td>5.229850</td>\n      <td>7.830634</td>\n      <td>2024.79798</td>\n      <td>2024-10-19</td>\n    </tr>\n    <tr>\n      <th>98</th>\n      <td>6.549468</td>\n      <td>0.172880</td>\n      <td>6.201870</td>\n      <td>6.897066</td>\n      <td>5.246796</td>\n      <td>7.852141</td>\n      <td>2024.89899</td>\n      <td>2024-11-25</td>\n    </tr>\n    <tr>\n      <th>99</th>\n      <td>6.568695</td>\n      <td>0.177218</td>\n      <td>6.212374</td>\n      <td>6.925017</td>\n      <td>5.263668</td>\n      <td>7.873723</td>\n      <td>2025.00000</td>\n      <td>2025-01-01</td>\n    </tr>\n  </tbody>\n</table>\n<p>100 rows × 8 columns</p>\n</div>"
     },
     "execution_count": 575,
     "metadata": {},
     "output_type": "execute_result"
    }
   ],
   "source": [
    "\n",
    "predicted_cost_df = get_predictions(reg_results, pred_years, ['Publication date (float)'])\n",
    "predicted_cost_df['Publication date'] = predicted_cost_df['Publication date (float)'].apply(float_year_to_datetime)\n",
    "predicted_cost_df"
   ]
  },
  {
   "cell_type": "markdown",
   "metadata": {},
   "source": [
    "# Export data"
   ]
  },
  {
   "cell_type": "code",
   "execution_count": 576,
   "metadata": {
    "ExecuteTime": {
     "end_time": "2024-05-17T19:15:44.713183600Z",
     "start_time": "2024-05-17T19:15:44.553762700Z"
    }
   },
   "outputs": [
    {
     "data": {
      "text/plain": "                         System                      Domain  \\\n5                   Llama 3-70B                    Language   \n22                      MM1-30B  Multimodal,Language,Vision   \n23               Inflection-2.5                    Language   \n38       MegaScale (Production)                    Language   \n72                    FunSearch             Language,Search   \n...                         ...                         ...   \n1475  Linear Decision Functions                         NaN   \n1480          Perceptron (1960)                      Vision   \n1482     Samuel Neural Checkers                       Games   \n1483        Pandemonium (morse)                    Language   \n1484          Perceptron Mark I                       Other   \n\n                                                   Task  \\\n5     Chat,Language modelling/generation,Code genera...   \n22                                Chat,Image captioning   \n23                                                 Chat   \n38                        Language modelling/generation   \n72                                      Code generation   \n...                                                 ...   \n1475                                                NaN   \n1480                               Image classification   \n1482                                           Checkers   \n1483                                  Morse translation   \n1484                              Binary classification   \n\n               Model accessibility  \\\n5     Open access (restricted use)   \n22                      Unreleased   \n23          Hosted access (no API)   \n38                      Unreleased   \n72                     Open source   \n...                            ...   \n1475                           NaN   \n1480                           NaN   \n1482                           NaN   \n1483                           NaN   \n1484                           NaN   \n\n                                              Reference Publication date  \\\n5     Introducing Meta Llama 3: The most capable ope...       2024-04-18   \n22    MM1: Methods, Analysis & Insights from Multimo...       2024-03-14   \n23    Inflection-2.5: meet the world's best personal AI       2024-03-07   \n38    MegaScale: Scaling Large Language Model Traini...       2024-02-23   \n72    Mathematical discoveries from program search w...       2023-12-14   \n...                                                 ...              ...   \n1475  Linear Decision Functions, with Application to...       1962-06-01   \n1480                  Perceptron Simulation Experiments       1960-03-30   \n1482  Some studies in machine learning using the gam...       1959-07-01   \n1483               Pandemonium: A Paradigm for Learning       1959-02-01   \n1484  The Perceptron—a perceiving and recognizing au...       1957-01-01   \n\n                                           Organization    Parameters  \\\n5                                               Meta AI  7.000000e+10   \n22                                                Apple  3.000000e+10   \n23                                        Inflection AI           NaN   \n38                          ByteDance,Peking University  5.300000e+11   \n72                                      Google DeepMind  1.500000e+10   \n...                                                 ...           ...   \n1475                                  Bell Laboratories           NaN   \n1480                    Cornell Aeronautical Laboratory  1.000000e+03   \n1482                                                IBM  1.600000e+01   \n1483        Massachusetts Institute of Technology (MIT)           NaN   \n1484  Cornell Aeronautical Laboratory,Cornell Univer...  1.000000e+03   \n\n      Training compute (FLOP)  Training dataset size (datapoints)  ...  \\\n5                6.300000e+24                        1.500000e+13  ...   \n22               4.300000e+23                        1.500000e+12  ...   \n23               1.000100e+25                                 NaN  ...   \n38               1.200000e+25                                 NaN  ...   \n72               3.870000e+23                        0.000000e+00  ...   \n...                       ...                                 ...  ...   \n1475             1.559250e+06                        5.000000e+02  ...   \n1480             7.200000e+08                        5.000000e+03  ...   \n1482             4.284000e+08                        5.300000e+04  ...   \n1483             6.000000e+08                                 NaN  ...   \n1484             6.948949e+05                        6.000000e+00  ...   \n\n      Training hardware                        Country (from Organization)  \\\n5      NVIDIA H100 SXM5                           United States of America   \n22                  NaN                           United States of America   \n23     NVIDIA H100 SXM5                           United States of America   \n38          NVIDIA A100                                        China,China   \n72                  NaN                                      Multinational   \n...                 ...                                                ...   \n1475                NaN                           United States of America   \n1480                NaN                           United States of America   \n1482                NaN                           United States of America   \n1483                NaN                           United States of America   \n1484                NaN  United States of America,United States of America   \n\n     Base model Finetune compute (FLOP) Hardware quantity  \\\n5           NaN                     NaN           16000.0   \n22          NaN                     NaN               NaN   \n23          NaN                     NaN               NaN   \n38          NaN                     NaN           12288.0   \n72       PaLM 2                       0               NaN   \n...         ...                     ...               ...   \n1475        NaN                     NaN               NaN   \n1480        NaN                     NaN               NaN   \n1482        NaN                     NaN               NaN   \n1483        NaN                     NaN               NaN   \n1484        NaN                     NaN               NaN   \n\n     Hardware utilization  Training cloud compute vendor  \\\n5                     0.4                            NaN   \n22                    NaN                            NaN   \n23                    NaN                            NaN   \n38                    NaN                            NaN   \n72                    NaN                            NaN   \n...                   ...                            ...   \n1475                  NaN                            NaN   \n1480                  NaN                            NaN   \n1482                  NaN                            NaN   \n1483                  NaN                            NaN   \n1484                  NaN                            NaN   \n\n      Training data center          Cost Cost (inflation-adjusted)  \n5                      NaN  8.778959e+06              8.723917e+06  \n22                     NaN           NaN                       NaN  \n23                     NaN  1.072551e+07              1.070554e+07  \n38                     NaN  2.410008e+06              2.400127e+06  \n72                     NaN           NaN                       NaN  \n...                    ...           ...                       ...  \n1475                   NaN           NaN                       NaN  \n1480                   NaN           NaN                       NaN  \n1482                   NaN           NaN                       NaN  \n1483                   NaN           NaN                       NaN  \n1484                   NaN           NaN                       NaN  \n\n[73 rows x 22 columns]",
      "text/html": "<div>\n<style scoped>\n    .dataframe tbody tr th:only-of-type {\n        vertical-align: middle;\n    }\n\n    .dataframe tbody tr th {\n        vertical-align: top;\n    }\n\n    .dataframe thead th {\n        text-align: right;\n    }\n</style>\n<table border=\"1\" class=\"dataframe\">\n  <thead>\n    <tr style=\"text-align: right;\">\n      <th></th>\n      <th>System</th>\n      <th>Domain</th>\n      <th>Task</th>\n      <th>Model accessibility</th>\n      <th>Reference</th>\n      <th>Publication date</th>\n      <th>Organization</th>\n      <th>Parameters</th>\n      <th>Training compute (FLOP)</th>\n      <th>Training dataset size (datapoints)</th>\n      <th>...</th>\n      <th>Training hardware</th>\n      <th>Country (from Organization)</th>\n      <th>Base model</th>\n      <th>Finetune compute (FLOP)</th>\n      <th>Hardware quantity</th>\n      <th>Hardware utilization</th>\n      <th>Training cloud compute vendor</th>\n      <th>Training data center</th>\n      <th>Cost</th>\n      <th>Cost (inflation-adjusted)</th>\n    </tr>\n  </thead>\n  <tbody>\n    <tr>\n      <th>5</th>\n      <td>Llama 3-70B</td>\n      <td>Language</td>\n      <td>Chat,Language modelling/generation,Code genera...</td>\n      <td>Open access (restricted use)</td>\n      <td>Introducing Meta Llama 3: The most capable ope...</td>\n      <td>2024-04-18</td>\n      <td>Meta AI</td>\n      <td>7.000000e+10</td>\n      <td>6.300000e+24</td>\n      <td>1.500000e+13</td>\n      <td>...</td>\n      <td>NVIDIA H100 SXM5</td>\n      <td>United States of America</td>\n      <td>NaN</td>\n      <td>NaN</td>\n      <td>16000.0</td>\n      <td>0.4</td>\n      <td>NaN</td>\n      <td>NaN</td>\n      <td>8.778959e+06</td>\n      <td>8.723917e+06</td>\n    </tr>\n    <tr>\n      <th>22</th>\n      <td>MM1-30B</td>\n      <td>Multimodal,Language,Vision</td>\n      <td>Chat,Image captioning</td>\n      <td>Unreleased</td>\n      <td>MM1: Methods, Analysis &amp; Insights from Multimo...</td>\n      <td>2024-03-14</td>\n      <td>Apple</td>\n      <td>3.000000e+10</td>\n      <td>4.300000e+23</td>\n      <td>1.500000e+12</td>\n      <td>...</td>\n      <td>NaN</td>\n      <td>United States of America</td>\n      <td>NaN</td>\n      <td>NaN</td>\n      <td>NaN</td>\n      <td>NaN</td>\n      <td>NaN</td>\n      <td>NaN</td>\n      <td>NaN</td>\n      <td>NaN</td>\n    </tr>\n    <tr>\n      <th>23</th>\n      <td>Inflection-2.5</td>\n      <td>Language</td>\n      <td>Chat</td>\n      <td>Hosted access (no API)</td>\n      <td>Inflection-2.5: meet the world's best personal AI</td>\n      <td>2024-03-07</td>\n      <td>Inflection AI</td>\n      <td>NaN</td>\n      <td>1.000100e+25</td>\n      <td>NaN</td>\n      <td>...</td>\n      <td>NVIDIA H100 SXM5</td>\n      <td>United States of America</td>\n      <td>NaN</td>\n      <td>NaN</td>\n      <td>NaN</td>\n      <td>NaN</td>\n      <td>NaN</td>\n      <td>NaN</td>\n      <td>1.072551e+07</td>\n      <td>1.070554e+07</td>\n    </tr>\n    <tr>\n      <th>38</th>\n      <td>MegaScale (Production)</td>\n      <td>Language</td>\n      <td>Language modelling/generation</td>\n      <td>Unreleased</td>\n      <td>MegaScale: Scaling Large Language Model Traini...</td>\n      <td>2024-02-23</td>\n      <td>ByteDance,Peking University</td>\n      <td>5.300000e+11</td>\n      <td>1.200000e+25</td>\n      <td>NaN</td>\n      <td>...</td>\n      <td>NVIDIA A100</td>\n      <td>China,China</td>\n      <td>NaN</td>\n      <td>NaN</td>\n      <td>12288.0</td>\n      <td>NaN</td>\n      <td>NaN</td>\n      <td>NaN</td>\n      <td>2.410008e+06</td>\n      <td>2.400127e+06</td>\n    </tr>\n    <tr>\n      <th>72</th>\n      <td>FunSearch</td>\n      <td>Language,Search</td>\n      <td>Code generation</td>\n      <td>Open source</td>\n      <td>Mathematical discoveries from program search w...</td>\n      <td>2023-12-14</td>\n      <td>Google DeepMind</td>\n      <td>1.500000e+10</td>\n      <td>3.870000e+23</td>\n      <td>0.000000e+00</td>\n      <td>...</td>\n      <td>NaN</td>\n      <td>Multinational</td>\n      <td>PaLM 2</td>\n      <td>0</td>\n      <td>NaN</td>\n      <td>NaN</td>\n      <td>NaN</td>\n      <td>NaN</td>\n      <td>NaN</td>\n      <td>NaN</td>\n    </tr>\n    <tr>\n      <th>...</th>\n      <td>...</td>\n      <td>...</td>\n      <td>...</td>\n      <td>...</td>\n      <td>...</td>\n      <td>...</td>\n      <td>...</td>\n      <td>...</td>\n      <td>...</td>\n      <td>...</td>\n      <td>...</td>\n      <td>...</td>\n      <td>...</td>\n      <td>...</td>\n      <td>...</td>\n      <td>...</td>\n      <td>...</td>\n      <td>...</td>\n      <td>...</td>\n      <td>...</td>\n      <td>...</td>\n    </tr>\n    <tr>\n      <th>1475</th>\n      <td>Linear Decision Functions</td>\n      <td>NaN</td>\n      <td>NaN</td>\n      <td>NaN</td>\n      <td>Linear Decision Functions, with Application to...</td>\n      <td>1962-06-01</td>\n      <td>Bell Laboratories</td>\n      <td>NaN</td>\n      <td>1.559250e+06</td>\n      <td>5.000000e+02</td>\n      <td>...</td>\n      <td>NaN</td>\n      <td>United States of America</td>\n      <td>NaN</td>\n      <td>NaN</td>\n      <td>NaN</td>\n      <td>NaN</td>\n      <td>NaN</td>\n      <td>NaN</td>\n      <td>NaN</td>\n      <td>NaN</td>\n    </tr>\n    <tr>\n      <th>1480</th>\n      <td>Perceptron (1960)</td>\n      <td>Vision</td>\n      <td>Image classification</td>\n      <td>NaN</td>\n      <td>Perceptron Simulation Experiments</td>\n      <td>1960-03-30</td>\n      <td>Cornell Aeronautical Laboratory</td>\n      <td>1.000000e+03</td>\n      <td>7.200000e+08</td>\n      <td>5.000000e+03</td>\n      <td>...</td>\n      <td>NaN</td>\n      <td>United States of America</td>\n      <td>NaN</td>\n      <td>NaN</td>\n      <td>NaN</td>\n      <td>NaN</td>\n      <td>NaN</td>\n      <td>NaN</td>\n      <td>NaN</td>\n      <td>NaN</td>\n    </tr>\n    <tr>\n      <th>1482</th>\n      <td>Samuel Neural Checkers</td>\n      <td>Games</td>\n      <td>Checkers</td>\n      <td>NaN</td>\n      <td>Some studies in machine learning using the gam...</td>\n      <td>1959-07-01</td>\n      <td>IBM</td>\n      <td>1.600000e+01</td>\n      <td>4.284000e+08</td>\n      <td>5.300000e+04</td>\n      <td>...</td>\n      <td>NaN</td>\n      <td>United States of America</td>\n      <td>NaN</td>\n      <td>NaN</td>\n      <td>NaN</td>\n      <td>NaN</td>\n      <td>NaN</td>\n      <td>NaN</td>\n      <td>NaN</td>\n      <td>NaN</td>\n    </tr>\n    <tr>\n      <th>1483</th>\n      <td>Pandemonium (morse)</td>\n      <td>Language</td>\n      <td>Morse translation</td>\n      <td>NaN</td>\n      <td>Pandemonium: A Paradigm for Learning</td>\n      <td>1959-02-01</td>\n      <td>Massachusetts Institute of Technology (MIT)</td>\n      <td>NaN</td>\n      <td>6.000000e+08</td>\n      <td>NaN</td>\n      <td>...</td>\n      <td>NaN</td>\n      <td>United States of America</td>\n      <td>NaN</td>\n      <td>NaN</td>\n      <td>NaN</td>\n      <td>NaN</td>\n      <td>NaN</td>\n      <td>NaN</td>\n      <td>NaN</td>\n      <td>NaN</td>\n    </tr>\n    <tr>\n      <th>1484</th>\n      <td>Perceptron Mark I</td>\n      <td>Other</td>\n      <td>Binary classification</td>\n      <td>NaN</td>\n      <td>The Perceptron—a perceiving and recognizing au...</td>\n      <td>1957-01-01</td>\n      <td>Cornell Aeronautical Laboratory,Cornell Univer...</td>\n      <td>1.000000e+03</td>\n      <td>6.948949e+05</td>\n      <td>6.000000e+00</td>\n      <td>...</td>\n      <td>NaN</td>\n      <td>United States of America,United States of America</td>\n      <td>NaN</td>\n      <td>NaN</td>\n      <td>NaN</td>\n      <td>NaN</td>\n      <td>NaN</td>\n      <td>NaN</td>\n      <td>NaN</td>\n      <td>NaN</td>\n    </tr>\n  </tbody>\n</table>\n<p>73 rows × 22 columns</p>\n</div>"
     },
     "execution_count": 576,
     "metadata": {},
     "output_type": "execute_result"
    }
   ],
   "source": [
    "keep_cols = [\n",
    "    'System',\n",
    "    'Domain',\n",
    "    'Task',\n",
    "    'Model accessibility',\n",
    "    'Reference',\n",
    "    'Publication date',\n",
    "    'Organization',\n",
    "    'Parameters',\n",
    "    'Training compute (FLOP)',\n",
    "    'Training dataset size (datapoints)',\n",
    "    'Epochs',\n",
    "    'Training time (hours)',\n",
    "    'Training hardware',\n",
    "    'Country (from Organization)',\n",
    "    'Base model',\n",
    "    'Finetune compute (FLOP)',\n",
    "    'Hardware quantity',\n",
    "    'Hardware utilization',\n",
    "    'Training cloud compute vendor',\n",
    "    'Training data center',\n",
    "    # 'Training time (chip hours)',\n",
    "    'Cost',\n",
    "    'Cost (inflation-adjusted)',\n",
    "]\n",
    "cost_df[keep_cols]"
   ]
  },
  {
   "cell_type": "code",
   "execution_count": 577,
   "metadata": {
    "ExecuteTime": {
     "end_time": "2024-05-17T19:15:44.842263800Z",
     "start_time": "2024-05-17T19:15:44.707987200Z"
    }
   },
   "outputs": [],
   "source": [
    "cost_df[keep_cols].to_csv(results_dir + 'price dataset.csv', index=False)"
   ]
  },
  {
   "cell_type": "markdown",
   "metadata": {},
   "source": [
    "# Plots"
   ]
  },
  {
   "cell_type": "code",
   "execution_count": 578,
   "metadata": {
    "ExecuteTime": {
     "end_time": "2024-05-17T19:15:45.437561200Z",
     "start_time": "2024-05-17T19:15:44.833872600Z"
    }
   },
   "outputs": [
    {
     "data": {
      "application/vnd.plotly.v1+json": {
       "data": [
        {
         "hovertemplate": "Publication date=%{x}<br>Cost (inflation-adjusted)=%{y}<br>System=%{text}<extra></extra>",
         "legendgroup": "",
         "marker": {
          "color": "#636efa",
          "symbol": "circle"
         },
         "mode": "markers+text",
         "name": "",
         "orientation": "v",
         "showlegend": false,
         "text": [
          "Llama 3-70B",
          "MM1-30B",
          "Inflection-2.5",
          "MegaScale (Production)",
          "FunSearch",
          "Gemini Ultra",
          "Qwen-72B",
          "Inflection-2",
          "Grok-1",
          "Yi-34B",
          "ChatGLM3",
          "Falcon-180B",
          "Llama 2-70B",
          "Claude 2",
          "xTrimoPGLM -100B",
          "PaLM 2",
          "BloombergGPT",
          "PanGu-Σ",
          "GPT-4",
          "Falcon-40B",
          "LLaMA-65B",
          "ViT-22B",
          "GPT-3.5 (text-davinci-003)",
          "Galactica",
          "BLOOM-176B",
          "U-PaLM (540B)",
          "Flan-PaLM 540B",
          "BlenderBot 3",
          "GLM-130B",
          "AlexaTM 20B",
          "Minerva (540B)",
          "Parti",
          "UL2",
          "OPT-175B",
          "Flamingo",
          "PaLM (540B)",
          "Chinchilla",
          "ST-MoE",
          "LaMDA",
          "GPT-NeoX-20B",
          "AlphaCode",
          "ERNIE 3.0 Titan",
          "GLaM",
          "Gopher (280B)",
          "Yuan 1.0",
          "Megatron-Turing NLG 530B",
          "HyperCLOVA",
          "GOAT",
          "ByT5-XXL",
          "ProtT5-XXL",
          "Meta Pseudo Labels",
          "Switch",
          "DALL-E",
          "mT5-XXL",
          "iGPT-XL",
          "GPT-3 175B (davinci)",
          "Meena",
          "OpenAI Five",
          "AlphaStar",
          "T5-11B",
          "Megatron-BERT",
          "ResNeXt-101 32x48d",
          "AlphaZero",
          "AlphaGo Zero",
          "AlphaGo Master",
          "GNMT",
          "AlphaGo Lee",
          "Print Recognition Logic",
          "Linear Decision Functions",
          "Perceptron (1960)",
          "Samuel Neural Checkers",
          "Pandemonium (morse)",
          "Perceptron Mark I"
         ],
         "x": [
          "2024-04-18T00:00:00",
          "2024-03-14T00:00:00",
          "2024-03-07T00:00:00",
          "2024-02-23T00:00:00",
          "2023-12-14T00:00:00",
          "2023-12-06T00:00:00",
          "2023-11-30T00:00:00",
          "2023-11-22T00:00:00",
          "2023-11-04T00:00:00",
          "2023-11-02T00:00:00",
          "2023-10-27T00:00:00",
          "2023-09-06T00:00:00",
          "2023-07-18T00:00:00",
          "2023-07-11T00:00:00",
          "2023-07-06T00:00:00",
          "2023-05-10T00:00:00",
          "2023-03-30T00:00:00",
          "2023-03-20T00:00:00",
          "2023-03-15T00:00:00",
          "2023-03-15T00:00:00",
          "2023-02-24T00:00:00",
          "2023-02-10T00:00:00",
          "2022-11-28T00:00:00",
          "2022-11-16T00:00:00",
          "2022-11-08T00:00:00",
          "2022-10-20T00:00:00",
          "2022-10-20T00:00:00",
          "2022-08-10T00:00:00",
          "2022-08-04T00:00:00",
          "2022-08-02T00:00:00",
          "2022-06-29T00:00:00",
          "2022-06-22T00:00:00",
          "2022-05-10T00:00:00",
          "2022-05-02T00:00:00",
          "2022-04-29T00:00:00",
          "2022-04-04T00:00:00",
          "2022-03-29T00:00:00",
          "2022-02-17T00:00:00",
          "2022-02-10T00:00:00",
          "2022-02-09T00:00:00",
          "2022-02-02T00:00:00",
          "2021-12-23T00:00:00",
          "2021-12-13T00:00:00",
          "2021-12-08T00:00:00",
          "2021-10-12T00:00:00",
          "2021-10-11T00:00:00",
          "2021-09-10T00:00:00",
          "2021-07-27T00:00:00",
          "2021-05-28T00:00:00",
          "2021-05-04T00:00:00",
          "2021-03-01T00:00:00",
          "2021-01-11T00:00:00",
          "2021-01-05T00:00:00",
          "2020-10-20T00:00:00",
          "2020-06-17T00:00:00",
          "2020-05-28T00:00:00",
          "2020-01-28T00:00:00",
          "2019-12-13T00:00:00",
          "2019-10-30T00:00:00",
          "2019-10-23T00:00:00",
          "2019-09-17T00:00:00",
          "2018-05-02T00:00:00",
          "2017-12-05T00:00:00",
          "2017-10-18T00:00:00",
          "2017-01-01T00:00:00",
          "2016-09-26T00:00:00",
          "2016-01-27T00:00:00",
          "1963-01-01T00:00:00",
          "1962-06-01T00:00:00",
          "1960-03-30T00:00:00",
          "1959-07-01T00:00:00",
          "1959-02-01T00:00:00",
          "1957-01-01T00:00:00"
         ],
         "xaxis": "x",
         "y": [
          8723916.926068727,
          null,
          1.0705541374082057E7,
          2400127.4387226426,
          null,
          6.1266759147650406E7,
          null,
          1.1744444031954825E7,
          null,
          null,
          null,
          9420875.735566294,
          999508.2934960627,
          null,
          1656062.4369647803,
          9783886.368556138,
          336831.4568525193,
          null,
          3.7795833234367825E7,
          291382.6592691568,
          524698.9908459426,
          576206.3349924638,
          4306936.387581259,
          536626.3673135112,
          818359.4282146227,
          6061444.564079399,
          6036806.418852156,
          1329357.766403764,
          745799.866710392,
          243372.5657189872,
          6481347.803523128,
          700673.6180097482,
          257932.35418105056,
          663456.0138718083,
          373096.58887718676,
          6004609.147259314,
          null,
          null,
          389791.37996065774,
          167291.72133662182,
          null,
          null,
          1111857.6792656365,
          1057718.5575753937,
          null,
          3352803.0410988852,
          531772.4580602689,
          146402.52264688487,
          160063.77116981527,
          148535.3221654581,
          93491.11375765501,
          243173.74463131427,
          107622.1931142334,
          null,
          88959.00691461308,
          1910808.6053836865,
          365613.36299103155,
          null,
          222898.05466533385,
          133801.39460387986,
          705380.1875425708,
          null,
          738737.9766864879,
          1120792.104021495,
          864502.5373900406,
          125214.86708016932,
          null,
          null,
          null,
          null,
          null,
          null,
          null
         ],
         "yaxis": "y",
         "type": "scatter",
         "textposition": "top center"
        }
       ],
       "layout": {
        "template": {
         "data": {
          "histogram2dcontour": [
           {
            "type": "histogram2dcontour",
            "colorbar": {
             "outlinewidth": 0,
             "ticks": ""
            },
            "colorscale": [
             [
              0.0,
              "#0d0887"
             ],
             [
              0.1111111111111111,
              "#46039f"
             ],
             [
              0.2222222222222222,
              "#7201a8"
             ],
             [
              0.3333333333333333,
              "#9c179e"
             ],
             [
              0.4444444444444444,
              "#bd3786"
             ],
             [
              0.5555555555555556,
              "#d8576b"
             ],
             [
              0.6666666666666666,
              "#ed7953"
             ],
             [
              0.7777777777777778,
              "#fb9f3a"
             ],
             [
              0.8888888888888888,
              "#fdca26"
             ],
             [
              1.0,
              "#f0f921"
             ]
            ]
           }
          ],
          "choropleth": [
           {
            "type": "choropleth",
            "colorbar": {
             "outlinewidth": 0,
             "ticks": ""
            }
           }
          ],
          "histogram2d": [
           {
            "type": "histogram2d",
            "colorbar": {
             "outlinewidth": 0,
             "ticks": ""
            },
            "colorscale": [
             [
              0.0,
              "#0d0887"
             ],
             [
              0.1111111111111111,
              "#46039f"
             ],
             [
              0.2222222222222222,
              "#7201a8"
             ],
             [
              0.3333333333333333,
              "#9c179e"
             ],
             [
              0.4444444444444444,
              "#bd3786"
             ],
             [
              0.5555555555555556,
              "#d8576b"
             ],
             [
              0.6666666666666666,
              "#ed7953"
             ],
             [
              0.7777777777777778,
              "#fb9f3a"
             ],
             [
              0.8888888888888888,
              "#fdca26"
             ],
             [
              1.0,
              "#f0f921"
             ]
            ]
           }
          ],
          "heatmap": [
           {
            "type": "heatmap",
            "colorbar": {
             "outlinewidth": 0,
             "ticks": ""
            },
            "colorscale": [
             [
              0.0,
              "#0d0887"
             ],
             [
              0.1111111111111111,
              "#46039f"
             ],
             [
              0.2222222222222222,
              "#7201a8"
             ],
             [
              0.3333333333333333,
              "#9c179e"
             ],
             [
              0.4444444444444444,
              "#bd3786"
             ],
             [
              0.5555555555555556,
              "#d8576b"
             ],
             [
              0.6666666666666666,
              "#ed7953"
             ],
             [
              0.7777777777777778,
              "#fb9f3a"
             ],
             [
              0.8888888888888888,
              "#fdca26"
             ],
             [
              1.0,
              "#f0f921"
             ]
            ]
           }
          ],
          "heatmapgl": [
           {
            "type": "heatmapgl",
            "colorbar": {
             "outlinewidth": 0,
             "ticks": ""
            },
            "colorscale": [
             [
              0.0,
              "#0d0887"
             ],
             [
              0.1111111111111111,
              "#46039f"
             ],
             [
              0.2222222222222222,
              "#7201a8"
             ],
             [
              0.3333333333333333,
              "#9c179e"
             ],
             [
              0.4444444444444444,
              "#bd3786"
             ],
             [
              0.5555555555555556,
              "#d8576b"
             ],
             [
              0.6666666666666666,
              "#ed7953"
             ],
             [
              0.7777777777777778,
              "#fb9f3a"
             ],
             [
              0.8888888888888888,
              "#fdca26"
             ],
             [
              1.0,
              "#f0f921"
             ]
            ]
           }
          ],
          "contourcarpet": [
           {
            "type": "contourcarpet",
            "colorbar": {
             "outlinewidth": 0,
             "ticks": ""
            }
           }
          ],
          "contour": [
           {
            "type": "contour",
            "colorbar": {
             "outlinewidth": 0,
             "ticks": ""
            },
            "colorscale": [
             [
              0.0,
              "#0d0887"
             ],
             [
              0.1111111111111111,
              "#46039f"
             ],
             [
              0.2222222222222222,
              "#7201a8"
             ],
             [
              0.3333333333333333,
              "#9c179e"
             ],
             [
              0.4444444444444444,
              "#bd3786"
             ],
             [
              0.5555555555555556,
              "#d8576b"
             ],
             [
              0.6666666666666666,
              "#ed7953"
             ],
             [
              0.7777777777777778,
              "#fb9f3a"
             ],
             [
              0.8888888888888888,
              "#fdca26"
             ],
             [
              1.0,
              "#f0f921"
             ]
            ]
           }
          ],
          "surface": [
           {
            "type": "surface",
            "colorbar": {
             "outlinewidth": 0,
             "ticks": ""
            },
            "colorscale": [
             [
              0.0,
              "#0d0887"
             ],
             [
              0.1111111111111111,
              "#46039f"
             ],
             [
              0.2222222222222222,
              "#7201a8"
             ],
             [
              0.3333333333333333,
              "#9c179e"
             ],
             [
              0.4444444444444444,
              "#bd3786"
             ],
             [
              0.5555555555555556,
              "#d8576b"
             ],
             [
              0.6666666666666666,
              "#ed7953"
             ],
             [
              0.7777777777777778,
              "#fb9f3a"
             ],
             [
              0.8888888888888888,
              "#fdca26"
             ],
             [
              1.0,
              "#f0f921"
             ]
            ]
           }
          ],
          "mesh3d": [
           {
            "type": "mesh3d",
            "colorbar": {
             "outlinewidth": 0,
             "ticks": ""
            }
           }
          ],
          "scatter": [
           {
            "fillpattern": {
             "fillmode": "overlay",
             "size": 10,
             "solidity": 0.2
            },
            "type": "scatter"
           }
          ],
          "parcoords": [
           {
            "type": "parcoords",
            "line": {
             "colorbar": {
              "outlinewidth": 0,
              "ticks": ""
             }
            }
           }
          ],
          "scatterpolargl": [
           {
            "type": "scatterpolargl",
            "marker": {
             "colorbar": {
              "outlinewidth": 0,
              "ticks": ""
             }
            }
           }
          ],
          "bar": [
           {
            "error_x": {
             "color": "#2a3f5f"
            },
            "error_y": {
             "color": "#2a3f5f"
            },
            "marker": {
             "line": {
              "color": "#E5ECF6",
              "width": 0.5
             },
             "pattern": {
              "fillmode": "overlay",
              "size": 10,
              "solidity": 0.2
             }
            },
            "type": "bar"
           }
          ],
          "scattergeo": [
           {
            "type": "scattergeo",
            "marker": {
             "colorbar": {
              "outlinewidth": 0,
              "ticks": ""
             }
            }
           }
          ],
          "scatterpolar": [
           {
            "type": "scatterpolar",
            "marker": {
             "colorbar": {
              "outlinewidth": 0,
              "ticks": ""
             }
            }
           }
          ],
          "histogram": [
           {
            "marker": {
             "pattern": {
              "fillmode": "overlay",
              "size": 10,
              "solidity": 0.2
             }
            },
            "type": "histogram"
           }
          ],
          "scattergl": [
           {
            "type": "scattergl",
            "marker": {
             "colorbar": {
              "outlinewidth": 0,
              "ticks": ""
             }
            }
           }
          ],
          "scatter3d": [
           {
            "type": "scatter3d",
            "line": {
             "colorbar": {
              "outlinewidth": 0,
              "ticks": ""
             }
            },
            "marker": {
             "colorbar": {
              "outlinewidth": 0,
              "ticks": ""
             }
            }
           }
          ],
          "scattermapbox": [
           {
            "type": "scattermapbox",
            "marker": {
             "colorbar": {
              "outlinewidth": 0,
              "ticks": ""
             }
            }
           }
          ],
          "scatterternary": [
           {
            "type": "scatterternary",
            "marker": {
             "colorbar": {
              "outlinewidth": 0,
              "ticks": ""
             }
            }
           }
          ],
          "scattercarpet": [
           {
            "type": "scattercarpet",
            "marker": {
             "colorbar": {
              "outlinewidth": 0,
              "ticks": ""
             }
            }
           }
          ],
          "carpet": [
           {
            "aaxis": {
             "endlinecolor": "#2a3f5f",
             "gridcolor": "white",
             "linecolor": "white",
             "minorgridcolor": "white",
             "startlinecolor": "#2a3f5f"
            },
            "baxis": {
             "endlinecolor": "#2a3f5f",
             "gridcolor": "white",
             "linecolor": "white",
             "minorgridcolor": "white",
             "startlinecolor": "#2a3f5f"
            },
            "type": "carpet"
           }
          ],
          "table": [
           {
            "cells": {
             "fill": {
              "color": "#EBF0F8"
             },
             "line": {
              "color": "white"
             }
            },
            "header": {
             "fill": {
              "color": "#C8D4E3"
             },
             "line": {
              "color": "white"
             }
            },
            "type": "table"
           }
          ],
          "barpolar": [
           {
            "marker": {
             "line": {
              "color": "#E5ECF6",
              "width": 0.5
             },
             "pattern": {
              "fillmode": "overlay",
              "size": 10,
              "solidity": 0.2
             }
            },
            "type": "barpolar"
           }
          ],
          "pie": [
           {
            "automargin": true,
            "type": "pie"
           }
          ]
         },
         "layout": {
          "autotypenumbers": "strict",
          "colorway": [
           "#636efa",
           "#EF553B",
           "#00cc96",
           "#ab63fa",
           "#FFA15A",
           "#19d3f3",
           "#FF6692",
           "#B6E880",
           "#FF97FF",
           "#FECB52"
          ],
          "font": {
           "color": "#2a3f5f"
          },
          "hovermode": "closest",
          "hoverlabel": {
           "align": "left"
          },
          "paper_bgcolor": "white",
          "plot_bgcolor": "#E5ECF6",
          "polar": {
           "bgcolor": "#E5ECF6",
           "angularaxis": {
            "gridcolor": "white",
            "linecolor": "white",
            "ticks": ""
           },
           "radialaxis": {
            "gridcolor": "white",
            "linecolor": "white",
            "ticks": ""
           }
          },
          "ternary": {
           "bgcolor": "#E5ECF6",
           "aaxis": {
            "gridcolor": "white",
            "linecolor": "white",
            "ticks": ""
           },
           "baxis": {
            "gridcolor": "white",
            "linecolor": "white",
            "ticks": ""
           },
           "caxis": {
            "gridcolor": "white",
            "linecolor": "white",
            "ticks": ""
           }
          },
          "coloraxis": {
           "colorbar": {
            "outlinewidth": 0,
            "ticks": ""
           }
          },
          "colorscale": {
           "sequential": [
            [
             0.0,
             "#0d0887"
            ],
            [
             0.1111111111111111,
             "#46039f"
            ],
            [
             0.2222222222222222,
             "#7201a8"
            ],
            [
             0.3333333333333333,
             "#9c179e"
            ],
            [
             0.4444444444444444,
             "#bd3786"
            ],
            [
             0.5555555555555556,
             "#d8576b"
            ],
            [
             0.6666666666666666,
             "#ed7953"
            ],
            [
             0.7777777777777778,
             "#fb9f3a"
            ],
            [
             0.8888888888888888,
             "#fdca26"
            ],
            [
             1.0,
             "#f0f921"
            ]
           ],
           "sequentialminus": [
            [
             0.0,
             "#0d0887"
            ],
            [
             0.1111111111111111,
             "#46039f"
            ],
            [
             0.2222222222222222,
             "#7201a8"
            ],
            [
             0.3333333333333333,
             "#9c179e"
            ],
            [
             0.4444444444444444,
             "#bd3786"
            ],
            [
             0.5555555555555556,
             "#d8576b"
            ],
            [
             0.6666666666666666,
             "#ed7953"
            ],
            [
             0.7777777777777778,
             "#fb9f3a"
            ],
            [
             0.8888888888888888,
             "#fdca26"
            ],
            [
             1.0,
             "#f0f921"
            ]
           ],
           "diverging": [
            [
             0,
             "#8e0152"
            ],
            [
             0.1,
             "#c51b7d"
            ],
            [
             0.2,
             "#de77ae"
            ],
            [
             0.3,
             "#f1b6da"
            ],
            [
             0.4,
             "#fde0ef"
            ],
            [
             0.5,
             "#f7f7f7"
            ],
            [
             0.6,
             "#e6f5d0"
            ],
            [
             0.7,
             "#b8e186"
            ],
            [
             0.8,
             "#7fbc41"
            ],
            [
             0.9,
             "#4d9221"
            ],
            [
             1,
             "#276419"
            ]
           ]
          },
          "xaxis": {
           "gridcolor": "white",
           "linecolor": "white",
           "ticks": "",
           "title": {
            "standoff": 15
           },
           "zerolinecolor": "white",
           "automargin": true,
           "zerolinewidth": 2
          },
          "yaxis": {
           "gridcolor": "white",
           "linecolor": "white",
           "ticks": "",
           "title": {
            "standoff": 15
           },
           "zerolinecolor": "white",
           "automargin": true,
           "zerolinewidth": 2
          },
          "scene": {
           "xaxis": {
            "backgroundcolor": "#E5ECF6",
            "gridcolor": "white",
            "linecolor": "white",
            "showbackground": true,
            "ticks": "",
            "zerolinecolor": "white",
            "gridwidth": 2
           },
           "yaxis": {
            "backgroundcolor": "#E5ECF6",
            "gridcolor": "white",
            "linecolor": "white",
            "showbackground": true,
            "ticks": "",
            "zerolinecolor": "white",
            "gridwidth": 2
           },
           "zaxis": {
            "backgroundcolor": "#E5ECF6",
            "gridcolor": "white",
            "linecolor": "white",
            "showbackground": true,
            "ticks": "",
            "zerolinecolor": "white",
            "gridwidth": 2
           }
          },
          "shapedefaults": {
           "line": {
            "color": "#2a3f5f"
           }
          },
          "annotationdefaults": {
           "arrowcolor": "#2a3f5f",
           "arrowhead": 0,
           "arrowwidth": 1
          },
          "geo": {
           "bgcolor": "white",
           "landcolor": "#E5ECF6",
           "subunitcolor": "white",
           "showland": true,
           "showlakes": true,
           "lakecolor": "white"
          },
          "title": {
           "x": 0.05
          },
          "mapbox": {
           "style": "light"
          }
         }
        },
        "xaxis": {
         "anchor": "y",
         "domain": [
          0.0,
          1.0
         ],
         "title": {
          "text": "Publication date"
         },
         "range": [
          "2015-01-01",
          "2025-01-01"
         ]
        },
        "yaxis": {
         "anchor": "x",
         "domain": [
          0.0,
          1.0
         ],
         "title": {
          "text": "Cost (2023 USD, log scale)"
         },
         "type": "log"
        },
        "legend": {
         "tracegroupgap": 0
        },
        "margin": {
         "t": 40,
         "l": 10,
         "r": 10,
         "b": 10
        },
        "showlegend": false,
        "title": {
         "text": "Hardware CapEx + OpEx to train top 20% of models farthest above compute trend",
         "font": {
          "size": 16
         }
        },
        "autosize": false,
        "width": 800,
        "height": 600,
        "font": {
         "size": 14
        }
       },
       "config": {
        "plotlyServerURL": "https://plot.ly"
       }
      },
      "text/html": "<div>                            <div id=\"2585d221-03d4-4e95-9846-727799caea6e\" class=\"plotly-graph-div\" style=\"height:600px; width:800px;\"></div>            <script type=\"text/javascript\">                require([\"plotly\"], function(Plotly) {                    window.PLOTLYENV=window.PLOTLYENV || {};                                    if (document.getElementById(\"2585d221-03d4-4e95-9846-727799caea6e\")) {                    Plotly.newPlot(                        \"2585d221-03d4-4e95-9846-727799caea6e\",                        [{\"hovertemplate\":\"Publication date=%{x}<br>Cost (inflation-adjusted)=%{y}<br>System=%{text}<extra></extra>\",\"legendgroup\":\"\",\"marker\":{\"color\":\"#636efa\",\"symbol\":\"circle\"},\"mode\":\"markers+text\",\"name\":\"\",\"orientation\":\"v\",\"showlegend\":false,\"text\":[\"Llama 3-70B\",\"MM1-30B\",\"Inflection-2.5\",\"MegaScale (Production)\",\"FunSearch\",\"Gemini Ultra\",\"Qwen-72B\",\"Inflection-2\",\"Grok-1\",\"Yi-34B\",\"ChatGLM3\",\"Falcon-180B\",\"Llama 2-70B\",\"Claude 2\",\"xTrimoPGLM -100B\",\"PaLM 2\",\"BloombergGPT\",\"PanGu-\\u03a3\",\"GPT-4\",\"Falcon-40B\",\"LLaMA-65B\",\"ViT-22B\",\"GPT-3.5 (text-davinci-003)\",\"Galactica\",\"BLOOM-176B\",\"U-PaLM (540B)\",\"Flan-PaLM 540B\",\"BlenderBot 3\",\"GLM-130B\",\"AlexaTM 20B\",\"Minerva (540B)\",\"Parti\",\"UL2\",\"OPT-175B\",\"Flamingo\",\"PaLM (540B)\",\"Chinchilla\",\"ST-MoE\",\"LaMDA\",\"GPT-NeoX-20B\",\"AlphaCode\",\"ERNIE 3.0 Titan\",\"GLaM\",\"Gopher (280B)\",\"Yuan 1.0\",\"Megatron-Turing NLG 530B\",\"HyperCLOVA\",\"GOAT\",\"ByT5-XXL\",\"ProtT5-XXL\",\"Meta Pseudo Labels\",\"Switch\",\"DALL-E\",\"mT5-XXL\",\"iGPT-XL\",\"GPT-3 175B (davinci)\",\"Meena\",\"OpenAI Five\",\"AlphaStar\",\"T5-11B\",\"Megatron-BERT\",\"ResNeXt-101 32x48d\",\"AlphaZero\",\"AlphaGo Zero\",\"AlphaGo Master\",\"GNMT\",\"AlphaGo Lee\",\"Print Recognition Logic\",\"Linear Decision Functions\",\"Perceptron (1960)\",\"Samuel Neural Checkers\",\"Pandemonium (morse)\",\"Perceptron Mark I\"],\"x\":[\"2024-04-18T00:00:00\",\"2024-03-14T00:00:00\",\"2024-03-07T00:00:00\",\"2024-02-23T00:00:00\",\"2023-12-14T00:00:00\",\"2023-12-06T00:00:00\",\"2023-11-30T00:00:00\",\"2023-11-22T00:00:00\",\"2023-11-04T00:00:00\",\"2023-11-02T00:00:00\",\"2023-10-27T00:00:00\",\"2023-09-06T00:00:00\",\"2023-07-18T00:00:00\",\"2023-07-11T00:00:00\",\"2023-07-06T00:00:00\",\"2023-05-10T00:00:00\",\"2023-03-30T00:00:00\",\"2023-03-20T00:00:00\",\"2023-03-15T00:00:00\",\"2023-03-15T00:00:00\",\"2023-02-24T00:00:00\",\"2023-02-10T00:00:00\",\"2022-11-28T00:00:00\",\"2022-11-16T00:00:00\",\"2022-11-08T00:00:00\",\"2022-10-20T00:00:00\",\"2022-10-20T00:00:00\",\"2022-08-10T00:00:00\",\"2022-08-04T00:00:00\",\"2022-08-02T00:00:00\",\"2022-06-29T00:00:00\",\"2022-06-22T00:00:00\",\"2022-05-10T00:00:00\",\"2022-05-02T00:00:00\",\"2022-04-29T00:00:00\",\"2022-04-04T00:00:00\",\"2022-03-29T00:00:00\",\"2022-02-17T00:00:00\",\"2022-02-10T00:00:00\",\"2022-02-09T00:00:00\",\"2022-02-02T00:00:00\",\"2021-12-23T00:00:00\",\"2021-12-13T00:00:00\",\"2021-12-08T00:00:00\",\"2021-10-12T00:00:00\",\"2021-10-11T00:00:00\",\"2021-09-10T00:00:00\",\"2021-07-27T00:00:00\",\"2021-05-28T00:00:00\",\"2021-05-04T00:00:00\",\"2021-03-01T00:00:00\",\"2021-01-11T00:00:00\",\"2021-01-05T00:00:00\",\"2020-10-20T00:00:00\",\"2020-06-17T00:00:00\",\"2020-05-28T00:00:00\",\"2020-01-28T00:00:00\",\"2019-12-13T00:00:00\",\"2019-10-30T00:00:00\",\"2019-10-23T00:00:00\",\"2019-09-17T00:00:00\",\"2018-05-02T00:00:00\",\"2017-12-05T00:00:00\",\"2017-10-18T00:00:00\",\"2017-01-01T00:00:00\",\"2016-09-26T00:00:00\",\"2016-01-27T00:00:00\",\"1963-01-01T00:00:00\",\"1962-06-01T00:00:00\",\"1960-03-30T00:00:00\",\"1959-07-01T00:00:00\",\"1959-02-01T00:00:00\",\"1957-01-01T00:00:00\"],\"xaxis\":\"x\",\"y\":[8723916.926068727,null,10705541.374082057,2400127.4387226426,null,61266759.147650406,null,11744444.031954825,null,null,null,9420875.735566294,999508.2934960627,null,1656062.4369647803,9783886.368556138,336831.4568525193,null,37795833.234367825,291382.6592691568,524698.9908459426,576206.3349924638,4306936.387581259,536626.3673135112,818359.4282146227,6061444.564079399,6036806.418852156,1329357.766403764,745799.866710392,243372.5657189872,6481347.803523128,700673.6180097482,257932.35418105056,663456.0138718083,373096.58887718676,6004609.147259314,null,null,389791.37996065774,167291.72133662182,null,null,1111857.6792656365,1057718.5575753937,null,3352803.0410988852,531772.4580602689,146402.52264688487,160063.77116981527,148535.3221654581,93491.11375765501,243173.74463131427,107622.1931142334,null,88959.00691461308,1910808.6053836865,365613.36299103155,null,222898.05466533385,133801.39460387986,705380.1875425708,null,738737.9766864879,1120792.104021495,864502.5373900406,125214.86708016932,null,null,null,null,null,null,null],\"yaxis\":\"y\",\"type\":\"scatter\",\"textposition\":\"top center\"}],                        {\"template\":{\"data\":{\"histogram2dcontour\":[{\"type\":\"histogram2dcontour\",\"colorbar\":{\"outlinewidth\":0,\"ticks\":\"\"},\"colorscale\":[[0.0,\"#0d0887\"],[0.1111111111111111,\"#46039f\"],[0.2222222222222222,\"#7201a8\"],[0.3333333333333333,\"#9c179e\"],[0.4444444444444444,\"#bd3786\"],[0.5555555555555556,\"#d8576b\"],[0.6666666666666666,\"#ed7953\"],[0.7777777777777778,\"#fb9f3a\"],[0.8888888888888888,\"#fdca26\"],[1.0,\"#f0f921\"]]}],\"choropleth\":[{\"type\":\"choropleth\",\"colorbar\":{\"outlinewidth\":0,\"ticks\":\"\"}}],\"histogram2d\":[{\"type\":\"histogram2d\",\"colorbar\":{\"outlinewidth\":0,\"ticks\":\"\"},\"colorscale\":[[0.0,\"#0d0887\"],[0.1111111111111111,\"#46039f\"],[0.2222222222222222,\"#7201a8\"],[0.3333333333333333,\"#9c179e\"],[0.4444444444444444,\"#bd3786\"],[0.5555555555555556,\"#d8576b\"],[0.6666666666666666,\"#ed7953\"],[0.7777777777777778,\"#fb9f3a\"],[0.8888888888888888,\"#fdca26\"],[1.0,\"#f0f921\"]]}],\"heatmap\":[{\"type\":\"heatmap\",\"colorbar\":{\"outlinewidth\":0,\"ticks\":\"\"},\"colorscale\":[[0.0,\"#0d0887\"],[0.1111111111111111,\"#46039f\"],[0.2222222222222222,\"#7201a8\"],[0.3333333333333333,\"#9c179e\"],[0.4444444444444444,\"#bd3786\"],[0.5555555555555556,\"#d8576b\"],[0.6666666666666666,\"#ed7953\"],[0.7777777777777778,\"#fb9f3a\"],[0.8888888888888888,\"#fdca26\"],[1.0,\"#f0f921\"]]}],\"heatmapgl\":[{\"type\":\"heatmapgl\",\"colorbar\":{\"outlinewidth\":0,\"ticks\":\"\"},\"colorscale\":[[0.0,\"#0d0887\"],[0.1111111111111111,\"#46039f\"],[0.2222222222222222,\"#7201a8\"],[0.3333333333333333,\"#9c179e\"],[0.4444444444444444,\"#bd3786\"],[0.5555555555555556,\"#d8576b\"],[0.6666666666666666,\"#ed7953\"],[0.7777777777777778,\"#fb9f3a\"],[0.8888888888888888,\"#fdca26\"],[1.0,\"#f0f921\"]]}],\"contourcarpet\":[{\"type\":\"contourcarpet\",\"colorbar\":{\"outlinewidth\":0,\"ticks\":\"\"}}],\"contour\":[{\"type\":\"contour\",\"colorbar\":{\"outlinewidth\":0,\"ticks\":\"\"},\"colorscale\":[[0.0,\"#0d0887\"],[0.1111111111111111,\"#46039f\"],[0.2222222222222222,\"#7201a8\"],[0.3333333333333333,\"#9c179e\"],[0.4444444444444444,\"#bd3786\"],[0.5555555555555556,\"#d8576b\"],[0.6666666666666666,\"#ed7953\"],[0.7777777777777778,\"#fb9f3a\"],[0.8888888888888888,\"#fdca26\"],[1.0,\"#f0f921\"]]}],\"surface\":[{\"type\":\"surface\",\"colorbar\":{\"outlinewidth\":0,\"ticks\":\"\"},\"colorscale\":[[0.0,\"#0d0887\"],[0.1111111111111111,\"#46039f\"],[0.2222222222222222,\"#7201a8\"],[0.3333333333333333,\"#9c179e\"],[0.4444444444444444,\"#bd3786\"],[0.5555555555555556,\"#d8576b\"],[0.6666666666666666,\"#ed7953\"],[0.7777777777777778,\"#fb9f3a\"],[0.8888888888888888,\"#fdca26\"],[1.0,\"#f0f921\"]]}],\"mesh3d\":[{\"type\":\"mesh3d\",\"colorbar\":{\"outlinewidth\":0,\"ticks\":\"\"}}],\"scatter\":[{\"fillpattern\":{\"fillmode\":\"overlay\",\"size\":10,\"solidity\":0.2},\"type\":\"scatter\"}],\"parcoords\":[{\"type\":\"parcoords\",\"line\":{\"colorbar\":{\"outlinewidth\":0,\"ticks\":\"\"}}}],\"scatterpolargl\":[{\"type\":\"scatterpolargl\",\"marker\":{\"colorbar\":{\"outlinewidth\":0,\"ticks\":\"\"}}}],\"bar\":[{\"error_x\":{\"color\":\"#2a3f5f\"},\"error_y\":{\"color\":\"#2a3f5f\"},\"marker\":{\"line\":{\"color\":\"#E5ECF6\",\"width\":0.5},\"pattern\":{\"fillmode\":\"overlay\",\"size\":10,\"solidity\":0.2}},\"type\":\"bar\"}],\"scattergeo\":[{\"type\":\"scattergeo\",\"marker\":{\"colorbar\":{\"outlinewidth\":0,\"ticks\":\"\"}}}],\"scatterpolar\":[{\"type\":\"scatterpolar\",\"marker\":{\"colorbar\":{\"outlinewidth\":0,\"ticks\":\"\"}}}],\"histogram\":[{\"marker\":{\"pattern\":{\"fillmode\":\"overlay\",\"size\":10,\"solidity\":0.2}},\"type\":\"histogram\"}],\"scattergl\":[{\"type\":\"scattergl\",\"marker\":{\"colorbar\":{\"outlinewidth\":0,\"ticks\":\"\"}}}],\"scatter3d\":[{\"type\":\"scatter3d\",\"line\":{\"colorbar\":{\"outlinewidth\":0,\"ticks\":\"\"}},\"marker\":{\"colorbar\":{\"outlinewidth\":0,\"ticks\":\"\"}}}],\"scattermapbox\":[{\"type\":\"scattermapbox\",\"marker\":{\"colorbar\":{\"outlinewidth\":0,\"ticks\":\"\"}}}],\"scatterternary\":[{\"type\":\"scatterternary\",\"marker\":{\"colorbar\":{\"outlinewidth\":0,\"ticks\":\"\"}}}],\"scattercarpet\":[{\"type\":\"scattercarpet\",\"marker\":{\"colorbar\":{\"outlinewidth\":0,\"ticks\":\"\"}}}],\"carpet\":[{\"aaxis\":{\"endlinecolor\":\"#2a3f5f\",\"gridcolor\":\"white\",\"linecolor\":\"white\",\"minorgridcolor\":\"white\",\"startlinecolor\":\"#2a3f5f\"},\"baxis\":{\"endlinecolor\":\"#2a3f5f\",\"gridcolor\":\"white\",\"linecolor\":\"white\",\"minorgridcolor\":\"white\",\"startlinecolor\":\"#2a3f5f\"},\"type\":\"carpet\"}],\"table\":[{\"cells\":{\"fill\":{\"color\":\"#EBF0F8\"},\"line\":{\"color\":\"white\"}},\"header\":{\"fill\":{\"color\":\"#C8D4E3\"},\"line\":{\"color\":\"white\"}},\"type\":\"table\"}],\"barpolar\":[{\"marker\":{\"line\":{\"color\":\"#E5ECF6\",\"width\":0.5},\"pattern\":{\"fillmode\":\"overlay\",\"size\":10,\"solidity\":0.2}},\"type\":\"barpolar\"}],\"pie\":[{\"automargin\":true,\"type\":\"pie\"}]},\"layout\":{\"autotypenumbers\":\"strict\",\"colorway\":[\"#636efa\",\"#EF553B\",\"#00cc96\",\"#ab63fa\",\"#FFA15A\",\"#19d3f3\",\"#FF6692\",\"#B6E880\",\"#FF97FF\",\"#FECB52\"],\"font\":{\"color\":\"#2a3f5f\"},\"hovermode\":\"closest\",\"hoverlabel\":{\"align\":\"left\"},\"paper_bgcolor\":\"white\",\"plot_bgcolor\":\"#E5ECF6\",\"polar\":{\"bgcolor\":\"#E5ECF6\",\"angularaxis\":{\"gridcolor\":\"white\",\"linecolor\":\"white\",\"ticks\":\"\"},\"radialaxis\":{\"gridcolor\":\"white\",\"linecolor\":\"white\",\"ticks\":\"\"}},\"ternary\":{\"bgcolor\":\"#E5ECF6\",\"aaxis\":{\"gridcolor\":\"white\",\"linecolor\":\"white\",\"ticks\":\"\"},\"baxis\":{\"gridcolor\":\"white\",\"linecolor\":\"white\",\"ticks\":\"\"},\"caxis\":{\"gridcolor\":\"white\",\"linecolor\":\"white\",\"ticks\":\"\"}},\"coloraxis\":{\"colorbar\":{\"outlinewidth\":0,\"ticks\":\"\"}},\"colorscale\":{\"sequential\":[[0.0,\"#0d0887\"],[0.1111111111111111,\"#46039f\"],[0.2222222222222222,\"#7201a8\"],[0.3333333333333333,\"#9c179e\"],[0.4444444444444444,\"#bd3786\"],[0.5555555555555556,\"#d8576b\"],[0.6666666666666666,\"#ed7953\"],[0.7777777777777778,\"#fb9f3a\"],[0.8888888888888888,\"#fdca26\"],[1.0,\"#f0f921\"]],\"sequentialminus\":[[0.0,\"#0d0887\"],[0.1111111111111111,\"#46039f\"],[0.2222222222222222,\"#7201a8\"],[0.3333333333333333,\"#9c179e\"],[0.4444444444444444,\"#bd3786\"],[0.5555555555555556,\"#d8576b\"],[0.6666666666666666,\"#ed7953\"],[0.7777777777777778,\"#fb9f3a\"],[0.8888888888888888,\"#fdca26\"],[1.0,\"#f0f921\"]],\"diverging\":[[0,\"#8e0152\"],[0.1,\"#c51b7d\"],[0.2,\"#de77ae\"],[0.3,\"#f1b6da\"],[0.4,\"#fde0ef\"],[0.5,\"#f7f7f7\"],[0.6,\"#e6f5d0\"],[0.7,\"#b8e186\"],[0.8,\"#7fbc41\"],[0.9,\"#4d9221\"],[1,\"#276419\"]]},\"xaxis\":{\"gridcolor\":\"white\",\"linecolor\":\"white\",\"ticks\":\"\",\"title\":{\"standoff\":15},\"zerolinecolor\":\"white\",\"automargin\":true,\"zerolinewidth\":2},\"yaxis\":{\"gridcolor\":\"white\",\"linecolor\":\"white\",\"ticks\":\"\",\"title\":{\"standoff\":15},\"zerolinecolor\":\"white\",\"automargin\":true,\"zerolinewidth\":2},\"scene\":{\"xaxis\":{\"backgroundcolor\":\"#E5ECF6\",\"gridcolor\":\"white\",\"linecolor\":\"white\",\"showbackground\":true,\"ticks\":\"\",\"zerolinecolor\":\"white\",\"gridwidth\":2},\"yaxis\":{\"backgroundcolor\":\"#E5ECF6\",\"gridcolor\":\"white\",\"linecolor\":\"white\",\"showbackground\":true,\"ticks\":\"\",\"zerolinecolor\":\"white\",\"gridwidth\":2},\"zaxis\":{\"backgroundcolor\":\"#E5ECF6\",\"gridcolor\":\"white\",\"linecolor\":\"white\",\"showbackground\":true,\"ticks\":\"\",\"zerolinecolor\":\"white\",\"gridwidth\":2}},\"shapedefaults\":{\"line\":{\"color\":\"#2a3f5f\"}},\"annotationdefaults\":{\"arrowcolor\":\"#2a3f5f\",\"arrowhead\":0,\"arrowwidth\":1},\"geo\":{\"bgcolor\":\"white\",\"landcolor\":\"#E5ECF6\",\"subunitcolor\":\"white\",\"showland\":true,\"showlakes\":true,\"lakecolor\":\"white\"},\"title\":{\"x\":0.05},\"mapbox\":{\"style\":\"light\"}}},\"xaxis\":{\"anchor\":\"y\",\"domain\":[0.0,1.0],\"title\":{\"text\":\"Publication date\"},\"range\":[\"2015-01-01\",\"2025-01-01\"]},\"yaxis\":{\"anchor\":\"x\",\"domain\":[0.0,1.0],\"title\":{\"text\":\"Cost (2023 USD, log scale)\"},\"type\":\"log\"},\"legend\":{\"tracegroupgap\":0},\"margin\":{\"t\":40,\"l\":10,\"r\":10,\"b\":10},\"showlegend\":false,\"title\":{\"text\":\"Hardware CapEx + OpEx to train top 20% of models farthest above compute trend\",\"font\":{\"size\":16}},\"autosize\":false,\"width\":800,\"height\":600,\"font\":{\"size\":14}},                        {\"responsive\": true}                    ).then(function(){\n                            \nvar gd = document.getElementById('2585d221-03d4-4e95-9846-727799caea6e');\nvar x = new MutationObserver(function (mutations, observer) {{\n        var display = window.getComputedStyle(gd).display;\n        if (!display || display === 'none') {{\n            console.log([gd, 'removed!']);\n            Plotly.purge(gd);\n            observer.disconnect();\n        }}\n}});\n\n// Listen for the removal of the full notebook cells\nvar notebookContainer = gd.closest('#notebook-container');\nif (notebookContainer) {{\n    x.observe(notebookContainer, {childList: true});\n}}\n\n// Listen for the clearing of the current output cell\nvar outputEl = gd.closest('.output');\nif (outputEl) {{\n    x.observe(outputEl, {childList: true});\n}}\n\n                        })                };                });            </script>        </div>"
     },
     "metadata": {},
     "output_type": "display_data"
    }
   ],
   "source": [
    "fig = px.scatter(\n",
    "    cost_df,\n",
    "    x='Publication date',\n",
    "    y='Cost (inflation-adjusted)',\n",
    "    text='System',\n",
    "    log_y=True,\n",
    ")\n",
    "fig.update_traces(textposition='top center')\n",
    "\n",
    "# no legend\n",
    "fig.update_layout(showlegend=False)\n",
    "\n",
    "# axis labels\n",
    "fig.update_xaxes(title_text='Publication date')\n",
    "fig.update_yaxes(title_text='Cost (2023 USD, log scale)')\n",
    "\n",
    "# title\n",
    "fig.update_layout(title_text=get_cost_plot_title(estimation_method, compute_threshold_method, compute_threshold))\n",
    "\n",
    "# update size\n",
    "fig.update_layout(\n",
    "    autosize=False,\n",
    "    width=800,\n",
    "    height=600,\n",
    "    title_font=dict(\n",
    "        size=16,\n",
    "    )\n",
    ")\n",
    "\n",
    "# font size\n",
    "fig.update_layout(\n",
    "    font=dict(\n",
    "        size=14,\n",
    "    )\n",
    ")\n",
    "\n",
    "# axis limits\n",
    "fig.update_xaxes(range=['2015-01-01', '2025-01-01'])\n",
    "\n",
    "# margins\n",
    "fig.update_layout(margin=dict(l=10, r=10, t=40, b=10))\n",
    "\n",
    "save_plot(fig, results_dir, 'cost_scatter')\n",
    "\n",
    "fig.show()"
   ]
  },
  {
   "cell_type": "code",
   "execution_count": 579,
   "metadata": {
    "ExecuteTime": {
     "end_time": "2024-05-17T19:15:45.938421800Z",
     "start_time": "2024-05-17T19:15:45.447008400Z"
    }
   },
   "outputs": [
    {
     "data": {
      "application/vnd.plotly.v1+json": {
       "data": [
        {
         "hovertemplate": "Publication date=%{x}<br>Cost (inflation-adjusted)=%{y}<extra></extra>",
         "legendgroup": "",
         "marker": {
          "color": "rgb(0,100,200)",
          "symbol": "circle"
         },
         "mode": "markers",
         "name": "",
         "orientation": "v",
         "showlegend": false,
         "x": [
          "2024-04-18T00:00:00",
          "2024-03-14T00:00:00",
          "2024-03-07T00:00:00",
          "2024-02-23T00:00:00",
          "2023-12-14T00:00:00",
          "2023-11-30T00:00:00",
          "2023-11-22T00:00:00",
          "2023-11-04T00:00:00",
          "2023-11-02T00:00:00",
          "2023-10-27T00:00:00",
          "2023-09-06T00:00:00",
          "2023-07-18T00:00:00",
          "2023-07-11T00:00:00",
          "2023-07-06T00:00:00",
          "2023-03-30T00:00:00",
          "2023-03-20T00:00:00",
          "2023-03-15T00:00:00",
          "2023-03-15T00:00:00",
          "2023-02-24T00:00:00",
          "2022-11-28T00:00:00",
          "2022-11-16T00:00:00",
          "2022-11-08T00:00:00",
          "2022-08-10T00:00:00",
          "2022-08-04T00:00:00",
          "2022-08-02T00:00:00",
          "2022-05-02T00:00:00",
          "2022-02-17T00:00:00",
          "2022-02-09T00:00:00",
          "2021-12-23T00:00:00",
          "2021-10-12T00:00:00",
          "2021-10-11T00:00:00",
          "2021-09-10T00:00:00",
          "2021-01-05T00:00:00",
          "2020-10-20T00:00:00",
          "2020-06-17T00:00:00",
          "2020-05-28T00:00:00",
          "2019-12-13T00:00:00",
          "2019-09-17T00:00:00",
          "2018-05-02T00:00:00",
          "2016-09-26T00:00:00",
          "2016-01-27T00:00:00",
          "1963-01-01T00:00:00",
          "1962-06-01T00:00:00",
          "1960-03-30T00:00:00",
          "1959-07-01T00:00:00",
          "1959-02-01T00:00:00",
          "1957-01-01T00:00:00"
         ],
         "xaxis": "x",
         "y": [
          8723916.926068727,
          null,
          1.0705541374082057E7,
          2400127.4387226426,
          null,
          null,
          1.1744444031954825E7,
          null,
          null,
          null,
          9420875.735566294,
          999508.2934960627,
          null,
          1656062.4369647803,
          336831.4568525193,
          null,
          3.7795833234367825E7,
          291382.6592691568,
          524698.9908459426,
          4306936.387581259,
          536626.3673135112,
          818359.4282146227,
          1329357.766403764,
          745799.866710392,
          243372.5657189872,
          663456.0138718083,
          null,
          167291.72133662182,
          null,
          null,
          3352803.0410988852,
          531772.4580602689,
          107622.1931142334,
          null,
          88959.00691461308,
          1910808.6053836865,
          null,
          705380.1875425708,
          null,
          125214.86708016932,
          null,
          null,
          null,
          null,
          null,
          null,
          null
         ],
         "yaxis": "y",
         "type": "scatter",
         "textposition": "top center"
        },
        {
         "marker": {
          "symbol": "circle-open",
          "color": "rgb(0,100,200)"
         },
         "mode": "markers",
         "name": "Using equivalent price of TPU",
         "showlegend": true,
         "x": [
          "2023-12-06T00:00:00",
          "2023-05-10T00:00:00",
          "2023-02-10T00:00:00",
          "2022-10-20T00:00:00",
          "2022-10-20T00:00:00",
          "2022-06-29T00:00:00",
          "2022-06-22T00:00:00",
          "2022-05-10T00:00:00",
          "2022-04-29T00:00:00",
          "2022-04-04T00:00:00",
          "2022-03-29T00:00:00",
          "2022-02-10T00:00:00",
          "2022-02-02T00:00:00",
          "2021-12-13T00:00:00",
          "2021-12-08T00:00:00",
          "2021-07-27T00:00:00",
          "2021-05-28T00:00:00",
          "2021-05-04T00:00:00",
          "2021-03-01T00:00:00",
          "2021-01-11T00:00:00",
          "2020-01-28T00:00:00",
          "2019-10-30T00:00:00",
          "2019-10-23T00:00:00",
          "2017-12-05T00:00:00",
          "2017-10-18T00:00:00",
          "2017-01-01T00:00:00"
         ],
         "y": [
          6.1266759147650406E7,
          9783886.368556138,
          576206.3349924638,
          6061444.564079399,
          6036806.418852156,
          6481347.803523128,
          700673.6180097482,
          257932.35418105056,
          373096.58887718676,
          6004609.147259314,
          null,
          389791.37996065774,
          null,
          1111857.6792656365,
          1057718.5575753937,
          146402.52264688487,
          160063.77116981527,
          148535.3221654581,
          93491.11375765501,
          243173.74463131427,
          365613.36299103155,
          222898.05466533385,
          133801.39460387986,
          738737.9766864879,
          1120792.104021495,
          864502.5373900406
         ],
         "type": "scatter",
         "textposition": "top center"
        },
        {
         "mode": "text",
         "showlegend": false,
         "text": [
          "Inflection-2",
          "Llama 2-70B",
          "GPT-4",
          "DALL-E",
          "GPT-3 175B (davinci)",
          "GNMT"
         ],
         "x": [
          "2023-11-22T00:00:00",
          "2023-07-18T00:00:00",
          "2023-03-15T00:00:00",
          "2021-01-05T00:00:00",
          "2020-05-28T00:00:00",
          "2016-09-26T00:00:00"
         ],
         "y": [
          1.1744444031954825E7,
          999508.2934960627,
          3.7795833234367825E7,
          107622.1931142334,
          1910808.6053836865,
          125214.86708016932
         ],
         "type": "scatter",
         "textposition": "top center"
        },
        {
         "mode": "text",
         "showlegend": false,
         "text": [
          "Gemini Ultra",
          "PaLM (540B)",
          "AlphaZero",
          "AlphaGo Zero",
          "AlphaGo Master"
         ],
         "x": [
          "2023-12-06T00:00:00",
          "2022-04-04T00:00:00",
          "2017-12-05T00:00:00",
          "2017-10-18T00:00:00",
          "2017-01-01T00:00:00"
         ],
         "y": [
          6.1266759147650406E7,
          6004609.147259314,
          738737.9766864879,
          1120792.104021495,
          864502.5373900406
         ],
         "type": "scatter",
         "textposition": "top center"
        },
        {
         "line": {
          "width": 0
         },
         "mode": "lines",
         "showlegend": false,
         "x": [
          "2015-01-01T00:00:00",
          "2015-02-06T00:00:00",
          "2015-03-15T00:00:00",
          "2015-04-21T00:00:00",
          "2015-05-28T00:00:00",
          "2015-07-04T00:00:00",
          "2015-08-10T00:00:00",
          "2015-09-16T00:00:00",
          "2015-10-22T00:00:00",
          "2015-11-28T00:00:00",
          "2016-01-04T00:00:00",
          "2016-02-10T00:00:00",
          "2016-03-18T00:00:00",
          "2016-04-24T00:00:00",
          "2016-05-31T00:00:00",
          "2016-07-07T00:00:00",
          "2016-08-13T00:00:00",
          "2016-09-19T00:00:00",
          "2016-10-26T00:00:00",
          "2016-12-02T00:00:00",
          "2017-01-08T00:00:00",
          "2017-02-14T00:00:00",
          "2017-03-23T00:00:00",
          "2017-04-28T00:00:00",
          "2017-06-04T00:00:00",
          "2017-07-11T00:00:00",
          "2017-08-17T00:00:00",
          "2017-09-23T00:00:00",
          "2017-10-30T00:00:00",
          "2017-12-06T00:00:00",
          "2018-01-12T00:00:00",
          "2018-02-17T00:00:00",
          "2018-03-26T00:00:00",
          "2018-05-02T00:00:00",
          "2018-06-08T00:00:00",
          "2018-07-15T00:00:00",
          "2018-08-21T00:00:00",
          "2018-09-27T00:00:00",
          "2018-11-03T00:00:00",
          "2018-12-09T00:00:00",
          "2019-01-15T00:00:00",
          "2019-02-21T00:00:00",
          "2019-03-30T00:00:00",
          "2019-05-06T00:00:00",
          "2019-06-12T00:00:00",
          "2019-07-19T00:00:00",
          "2019-08-24T00:00:00",
          "2019-09-30T00:00:00",
          "2019-11-06T00:00:00",
          "2019-12-13T00:00:00",
          "2020-01-19T00:00:00",
          "2020-02-25T00:00:00",
          "2020-04-02T00:00:00",
          "2020-05-09T00:00:00",
          "2020-06-15T00:00:00",
          "2020-07-22T00:00:00",
          "2020-08-28T00:00:00",
          "2020-10-04T00:00:00",
          "2020-11-10T00:00:00",
          "2020-12-17T00:00:00",
          "2021-01-23T00:00:00",
          "2021-02-28T00:00:00",
          "2021-04-06T00:00:00",
          "2021-05-13T00:00:00",
          "2021-06-19T00:00:00",
          "2021-07-26T00:00:00",
          "2021-09-01T00:00:00",
          "2021-10-08T00:00:00",
          "2021-11-14T00:00:00",
          "2021-12-20T00:00:00",
          "2022-01-26T00:00:00",
          "2022-03-04T00:00:00",
          "2022-04-10T00:00:00",
          "2022-05-17T00:00:00",
          "2022-06-23T00:00:00",
          "2022-07-30T00:00:00",
          "2022-09-05T00:00:00",
          "2022-10-11T00:00:00",
          "2022-11-17T00:00:00",
          "2022-12-24T00:00:00",
          "2023-01-30T00:00:00",
          "2023-03-08T00:00:00",
          "2023-04-14T00:00:00",
          "2023-05-21T00:00:00",
          "2023-06-26T00:00:00",
          "2023-08-02T00:00:00",
          "2023-09-08T00:00:00",
          "2023-10-15T00:00:00",
          "2023-11-21T00:00:00",
          "2023-12-28T00:00:00",
          "2024-02-03T00:00:00",
          "2024-03-11T00:00:00",
          "2024-04-17T00:00:00",
          "2024-05-24T00:00:00",
          "2024-06-30T00:00:00",
          "2024-08-06T00:00:00",
          "2024-09-12T00:00:00",
          "2024-10-19T00:00:00",
          "2024-11-25T00:00:00",
          "2025-01-01T00:00:00"
         ],
         "y": [
          8943.487427109776,
          9561.25783745512,
          10221.483530321959,
          10927.057173385323,
          11681.065494015824,
          12486.801908310139,
          13347.779919340206,
          14267.747321811363,
          15250.70125509653,
          16300.90414131447,
          17422.900550660743,
          18621.53503261771,
          19901.970952054362,
          21269.71036576499,
          22730.61497845529,
          24290.928204529453,
          25957.29836754167,
          27736.80305548865,
          29636.9746525549,
          31665.827046252427,
          33831.883506821534,
          36144.205725227315,
          38612.42396024149,
          41246.76825263142,
          44058.10060915582,
          47057.9480512586,
          50258.53637399386,
          53672.82442092618,
          57314.538620321444,
          61198.207484202736,
          65339.19566312195,
          69753.73709177674,
          74458.96663740756,
          79472.94953183753,
          84814.70775123361,
          90504.24228466988,
          96562.55006696188,
          103011.63412871253,
          109874.5051708916,
          117175.17257156155,
          124938.62235761175,
          133190.77936536336,
          141958.45032205523,
          151269.24408650855,
          161151.4648419255,
          171633.97337938842,
          182746.0112175945,
          194516.9817768657,
          206976.1825236668,
          220152.48184295857,
          234073.93476027893,
          248767.3321810012,
          264257.67994943785,
          280567.6065505539,
          297716.70180504676,
          315720.7944452267,
          334591.18367553613,
          354333.84861669596,
          374948.6706187818,
          396428.715495552,
          418759.6342120831,
          441919.2508833833,
          465877.41178607877,
          490596.16648321215,
          516030.3384452401,
          542128.5168205217,
          568834.4619095493,
          596088.8708306357,
          623831.4009872177,
          652002.8093771945,
          680547.0418675239,
          709413.1080456325,
          738556.6033316593,
          767940.7835786035,
          797537.1570173696,
          827325.6092893945,
          857294.1250436961,
          887438.1960628488,
          917760.017159639,
          948267.5666350325,
          978973.6546678732,
          1009895.0023270042,
          1041051.3951473244,
          1072464.9360044522,
          1104159.4085566418,
          1136159.7505054346,
          1168491.6303135997,
          1201181.1162750637,
          1234254.4251048972,
          1267737.737554011,
          1301657.0686653329,
          1336038.1819069285,
          1370906.5373200062,
          1406287.2670194788,
          1442205.1700097932,
          1478684.722502823,
          1515750.0985363284,
          1553425.1982858803,
          1591733.681371847,
          1630699.0030707736
         ],
         "type": "scatter",
         "textposition": "top center"
        },
        {
         "fill": "tonexty",
         "fillcolor": "rgba(0,100,200,0.2)",
         "line": {
          "width": 0
         },
         "mode": "lines",
         "name": "95% CI of mean",
         "x": [
          "2015-01-01T00:00:00",
          "2015-02-06T00:00:00",
          "2015-03-15T00:00:00",
          "2015-04-21T00:00:00",
          "2015-05-28T00:00:00",
          "2015-07-04T00:00:00",
          "2015-08-10T00:00:00",
          "2015-09-16T00:00:00",
          "2015-10-22T00:00:00",
          "2015-11-28T00:00:00",
          "2016-01-04T00:00:00",
          "2016-02-10T00:00:00",
          "2016-03-18T00:00:00",
          "2016-04-24T00:00:00",
          "2016-05-31T00:00:00",
          "2016-07-07T00:00:00",
          "2016-08-13T00:00:00",
          "2016-09-19T00:00:00",
          "2016-10-26T00:00:00",
          "2016-12-02T00:00:00",
          "2017-01-08T00:00:00",
          "2017-02-14T00:00:00",
          "2017-03-23T00:00:00",
          "2017-04-28T00:00:00",
          "2017-06-04T00:00:00",
          "2017-07-11T00:00:00",
          "2017-08-17T00:00:00",
          "2017-09-23T00:00:00",
          "2017-10-30T00:00:00",
          "2017-12-06T00:00:00",
          "2018-01-12T00:00:00",
          "2018-02-17T00:00:00",
          "2018-03-26T00:00:00",
          "2018-05-02T00:00:00",
          "2018-06-08T00:00:00",
          "2018-07-15T00:00:00",
          "2018-08-21T00:00:00",
          "2018-09-27T00:00:00",
          "2018-11-03T00:00:00",
          "2018-12-09T00:00:00",
          "2019-01-15T00:00:00",
          "2019-02-21T00:00:00",
          "2019-03-30T00:00:00",
          "2019-05-06T00:00:00",
          "2019-06-12T00:00:00",
          "2019-07-19T00:00:00",
          "2019-08-24T00:00:00",
          "2019-09-30T00:00:00",
          "2019-11-06T00:00:00",
          "2019-12-13T00:00:00",
          "2020-01-19T00:00:00",
          "2020-02-25T00:00:00",
          "2020-04-02T00:00:00",
          "2020-05-09T00:00:00",
          "2020-06-15T00:00:00",
          "2020-07-22T00:00:00",
          "2020-08-28T00:00:00",
          "2020-10-04T00:00:00",
          "2020-11-10T00:00:00",
          "2020-12-17T00:00:00",
          "2021-01-23T00:00:00",
          "2021-02-28T00:00:00",
          "2021-04-06T00:00:00",
          "2021-05-13T00:00:00",
          "2021-06-19T00:00:00",
          "2021-07-26T00:00:00",
          "2021-09-01T00:00:00",
          "2021-10-08T00:00:00",
          "2021-11-14T00:00:00",
          "2021-12-20T00:00:00",
          "2022-01-26T00:00:00",
          "2022-03-04T00:00:00",
          "2022-04-10T00:00:00",
          "2022-05-17T00:00:00",
          "2022-06-23T00:00:00",
          "2022-07-30T00:00:00",
          "2022-09-05T00:00:00",
          "2022-10-11T00:00:00",
          "2022-11-17T00:00:00",
          "2022-12-24T00:00:00",
          "2023-01-30T00:00:00",
          "2023-03-08T00:00:00",
          "2023-04-14T00:00:00",
          "2023-05-21T00:00:00",
          "2023-06-26T00:00:00",
          "2023-08-02T00:00:00",
          "2023-09-08T00:00:00",
          "2023-10-15T00:00:00",
          "2023-11-21T00:00:00",
          "2023-12-28T00:00:00",
          "2024-02-03T00:00:00",
          "2024-03-11T00:00:00",
          "2024-04-17T00:00:00",
          "2024-05-24T00:00:00",
          "2024-06-30T00:00:00",
          "2024-08-06T00:00:00",
          "2024-09-12T00:00:00",
          "2024-10-19T00:00:00",
          "2024-11-25T00:00:00",
          "2025-01-01T00:00:00"
         ],
         "y": [
          239319.87771384127,
          244581.8505326797,
          249964.8294020978,
          255471.94122554726,
          261106.41863306082,
          266871.6054810231,
          272770.96275825694,
          278808.0749805808,
          284986.6570653298,
          291310.561808693,
          297783.7879732099,
          304410.4890725644,
          311194.9829215928,
          318141.7620603948,
          325255.5050836014,
          332541.08906667895,
          340003.6031421855,
          347648.3634166402,
          355480.9293041194,
          363507.12154640857,
          371733.0420769435,
          380165.0958962691,
          388810.0153591393,
          397674.8869938442,
          406767.1813439828,
          416094.78612222173,
          425666.04315106047,
          435489.78958413296,
          445575.4040336229,
          455932.85815235815,
          466572.7745954254,
          477506.4921263978,
          488746.1389224948,
          500304.7153033133,
          512196.18708936154,
          524435.591334779,
          537039.1561568525,
          550024.4366145396,
          563410.4693129705,
          577217.9481295481,
          591469.4245238301,
          606189.535841309,
          621405.2657708933,
          637146.2416902606,
          653445.0738855349,
          670337.7427903465,
          687864.0404237137,
          706068.073061982,
          724998.8324717463,
          744710.8433922157,
          765264.8943609985,
          786728.859057583,
          809178.6133938656,
          832699.0511303875,
          857385.1978739735,
          883343.4174627896,
          910692.6976002203,
          939565.9935202247,
          970111.5970190417,
          1002494.4862280369,
          1036897.6008699246,
          1073522.976834235,
          1112592.6697561657,
          1154349.3999101818,
          1199056.864936411,
          1246999.6922666815,
          1298483.0435390635,
          1353831.9285782364,
          1413390.3365807547,
          1477520.331108321,
          1546601.2809793775,
          1621029.3971661986,
          1701217.7196296046,
          1787596.657600591,
          1880615.1229737438,
          1980742.2514686892,
          2088469.6548109928,
          2204314.1234463127,
          2328820.687914724,
          2462565.952643725,
          2606161.6288184593,
          2760258.2164455205,
          2925548.80321827,
          3102772.9695400624,
          3292720.801618166,
          3496237.0300096264,
          3714225.3152827313,
          3947652.709685533,
          4197554.326698138,
          4465038.250184586,
          4751290.717368627,
          5057581.6090736,
          5385270.282845376,
          5735811.778537331,
          6110763.436579452,
          6511791.958754623,
          6940680.951779223,
          7399338.988664888,
          7889808.227775662,
          8414273.631615577
         ],
         "type": "scatter",
         "textposition": "top center"
        },
        {
         "line": {
          "color": "rgb(0,100,200)"
         },
         "mode": "lines",
         "name": "Regression mean (growth rate: 1.6x per year)",
         "x": [
          "2015-01-01T00:00:00",
          "2015-02-06T00:00:00",
          "2015-03-15T00:00:00",
          "2015-04-21T00:00:00",
          "2015-05-28T00:00:00",
          "2015-07-04T00:00:00",
          "2015-08-10T00:00:00",
          "2015-09-16T00:00:00",
          "2015-10-22T00:00:00",
          "2015-11-28T00:00:00",
          "2016-01-04T00:00:00",
          "2016-02-10T00:00:00",
          "2016-03-18T00:00:00",
          "2016-04-24T00:00:00",
          "2016-05-31T00:00:00",
          "2016-07-07T00:00:00",
          "2016-08-13T00:00:00",
          "2016-09-19T00:00:00",
          "2016-10-26T00:00:00",
          "2016-12-02T00:00:00",
          "2017-01-08T00:00:00",
          "2017-02-14T00:00:00",
          "2017-03-23T00:00:00",
          "2017-04-28T00:00:00",
          "2017-06-04T00:00:00",
          "2017-07-11T00:00:00",
          "2017-08-17T00:00:00",
          "2017-09-23T00:00:00",
          "2017-10-30T00:00:00",
          "2017-12-06T00:00:00",
          "2018-01-12T00:00:00",
          "2018-02-17T00:00:00",
          "2018-03-26T00:00:00",
          "2018-05-02T00:00:00",
          "2018-06-08T00:00:00",
          "2018-07-15T00:00:00",
          "2018-08-21T00:00:00",
          "2018-09-27T00:00:00",
          "2018-11-03T00:00:00",
          "2018-12-09T00:00:00",
          "2019-01-15T00:00:00",
          "2019-02-21T00:00:00",
          "2019-03-30T00:00:00",
          "2019-05-06T00:00:00",
          "2019-06-12T00:00:00",
          "2019-07-19T00:00:00",
          "2019-08-24T00:00:00",
          "2019-09-30T00:00:00",
          "2019-11-06T00:00:00",
          "2019-12-13T00:00:00",
          "2020-01-19T00:00:00",
          "2020-02-25T00:00:00",
          "2020-04-02T00:00:00",
          "2020-05-09T00:00:00",
          "2020-06-15T00:00:00",
          "2020-07-22T00:00:00",
          "2020-08-28T00:00:00",
          "2020-10-04T00:00:00",
          "2020-11-10T00:00:00",
          "2020-12-17T00:00:00",
          "2021-01-23T00:00:00",
          "2021-02-28T00:00:00",
          "2021-04-06T00:00:00",
          "2021-05-13T00:00:00",
          "2021-06-19T00:00:00",
          "2021-07-26T00:00:00",
          "2021-09-01T00:00:00",
          "2021-10-08T00:00:00",
          "2021-11-14T00:00:00",
          "2021-12-20T00:00:00",
          "2022-01-26T00:00:00",
          "2022-03-04T00:00:00",
          "2022-04-10T00:00:00",
          "2022-05-17T00:00:00",
          "2022-06-23T00:00:00",
          "2022-07-30T00:00:00",
          "2022-09-05T00:00:00",
          "2022-10-11T00:00:00",
          "2022-11-17T00:00:00",
          "2022-12-24T00:00:00",
          "2023-01-30T00:00:00",
          "2023-03-08T00:00:00",
          "2023-04-14T00:00:00",
          "2023-05-21T00:00:00",
          "2023-06-26T00:00:00",
          "2023-08-02T00:00:00",
          "2023-09-08T00:00:00",
          "2023-10-15T00:00:00",
          "2023-11-21T00:00:00",
          "2023-12-28T00:00:00",
          "2024-02-03T00:00:00",
          "2024-03-11T00:00:00",
          "2024-04-17T00:00:00",
          "2024-05-24T00:00:00",
          "2024-06-30T00:00:00",
          "2024-08-06T00:00:00",
          "2024-09-12T00:00:00",
          "2024-10-19T00:00:00",
          "2024-11-25T00:00:00",
          "2025-01-01T00:00:00"
         ],
         "y": [
          46263.96348553795,
          48358.14445680125,
          50547.12046094496,
          52835.182482577744,
          55226.815741636754,
          57726.70848571075,
          60339.761180201545,
          63071.09611465115,
          65926.06744370537,
          68910.27168279028,
          72029.5586787555,
          75290.04307716293,
          78698.11630865502,
          82260.45911784543,
          85984.05465944456,
          89876.20218709028,
          93944.53136186766,
          98197.01720851961,
          102641.99574858649,
          107288.18034140402,
          112144.67876445828,
          117221.01106723795,
          122527.128233037,
          128073.43168560167,
          133870.79367866585,
          139930.5786086053,
          146264.66529166096,
          152885.47024964556,
          159805.97204970283,
          167039.73674570248,
          174600.94447160416,
          182504.41723805293,
          190765.64798776482,
          199400.83096577245,
          208426.893464544,
          217861.52900607983,
          227723.23202588494,
          238031.33412722827,
          248806.04197619972,
          260068.47691229798,
          271840.7163517944,
          284145.8370658135,
          297007.9604165533,
          310452.29964206356,
          324505.2092808283,
          339194.2368338201,
          354548.17676509335,
          370597.1269465324,
          387372.54765808774,
          404907.32325824775,
          423235.82664631325,
          442393.9866426281,
          462419.358418488,
          483351.1971150688,
          505230.53479328303,
          528100.2608684392,
          552005.2061844388,
          576992.2308951749,
          603110.3163221079,
          630410.6609716828,
          658946.7808978781,
          688774.6146082075,
          719952.6327184073,
          752541.952570175,
          786606.4580387226,
          822212.9247610882,
          859431.1510355073,
          898334.0946444494,
          938998.0158716884,
          981502.6269931975,
          1025931.2485342468,
          1072370.972600905,
          1120912.833603609,
          1171651.986709488,
          1224687.894371603,
          1280124.521303135,
          1338070.5382757294,
          1398639.535143725,
          1461950.24351116,
          1528126.7694768475,
          1597298.8369179964,
          1669602.0417813286,
          1745178.1178899664,
          1824175.214779032,
          1906748.1881089767,
          1993058.903224789,
          2083276.5524545133,
          2177577.986774836,
          2276148.0624830592,
          2379180.003568693,
          2486875.780481778,
          2599446.506053281,
          2717112.8493288397,
          2840105.468143287,
          2968665.4612707198,
          3103044.8410435827,
          3243507.0273653753,
          3390327.3640831793,
          3543793.658738505,
          3704206.7467462206
         ],
         "type": "scatter",
         "textposition": "top center"
        }
       ],
       "layout": {
        "template": {
         "data": {
          "histogram2dcontour": [
           {
            "type": "histogram2dcontour",
            "colorbar": {
             "outlinewidth": 0,
             "ticks": ""
            },
            "colorscale": [
             [
              0.0,
              "#0d0887"
             ],
             [
              0.1111111111111111,
              "#46039f"
             ],
             [
              0.2222222222222222,
              "#7201a8"
             ],
             [
              0.3333333333333333,
              "#9c179e"
             ],
             [
              0.4444444444444444,
              "#bd3786"
             ],
             [
              0.5555555555555556,
              "#d8576b"
             ],
             [
              0.6666666666666666,
              "#ed7953"
             ],
             [
              0.7777777777777778,
              "#fb9f3a"
             ],
             [
              0.8888888888888888,
              "#fdca26"
             ],
             [
              1.0,
              "#f0f921"
             ]
            ]
           }
          ],
          "choropleth": [
           {
            "type": "choropleth",
            "colorbar": {
             "outlinewidth": 0,
             "ticks": ""
            }
           }
          ],
          "histogram2d": [
           {
            "type": "histogram2d",
            "colorbar": {
             "outlinewidth": 0,
             "ticks": ""
            },
            "colorscale": [
             [
              0.0,
              "#0d0887"
             ],
             [
              0.1111111111111111,
              "#46039f"
             ],
             [
              0.2222222222222222,
              "#7201a8"
             ],
             [
              0.3333333333333333,
              "#9c179e"
             ],
             [
              0.4444444444444444,
              "#bd3786"
             ],
             [
              0.5555555555555556,
              "#d8576b"
             ],
             [
              0.6666666666666666,
              "#ed7953"
             ],
             [
              0.7777777777777778,
              "#fb9f3a"
             ],
             [
              0.8888888888888888,
              "#fdca26"
             ],
             [
              1.0,
              "#f0f921"
             ]
            ]
           }
          ],
          "heatmap": [
           {
            "type": "heatmap",
            "colorbar": {
             "outlinewidth": 0,
             "ticks": ""
            },
            "colorscale": [
             [
              0.0,
              "#0d0887"
             ],
             [
              0.1111111111111111,
              "#46039f"
             ],
             [
              0.2222222222222222,
              "#7201a8"
             ],
             [
              0.3333333333333333,
              "#9c179e"
             ],
             [
              0.4444444444444444,
              "#bd3786"
             ],
             [
              0.5555555555555556,
              "#d8576b"
             ],
             [
              0.6666666666666666,
              "#ed7953"
             ],
             [
              0.7777777777777778,
              "#fb9f3a"
             ],
             [
              0.8888888888888888,
              "#fdca26"
             ],
             [
              1.0,
              "#f0f921"
             ]
            ]
           }
          ],
          "heatmapgl": [
           {
            "type": "heatmapgl",
            "colorbar": {
             "outlinewidth": 0,
             "ticks": ""
            },
            "colorscale": [
             [
              0.0,
              "#0d0887"
             ],
             [
              0.1111111111111111,
              "#46039f"
             ],
             [
              0.2222222222222222,
              "#7201a8"
             ],
             [
              0.3333333333333333,
              "#9c179e"
             ],
             [
              0.4444444444444444,
              "#bd3786"
             ],
             [
              0.5555555555555556,
              "#d8576b"
             ],
             [
              0.6666666666666666,
              "#ed7953"
             ],
             [
              0.7777777777777778,
              "#fb9f3a"
             ],
             [
              0.8888888888888888,
              "#fdca26"
             ],
             [
              1.0,
              "#f0f921"
             ]
            ]
           }
          ],
          "contourcarpet": [
           {
            "type": "contourcarpet",
            "colorbar": {
             "outlinewidth": 0,
             "ticks": ""
            }
           }
          ],
          "contour": [
           {
            "type": "contour",
            "colorbar": {
             "outlinewidth": 0,
             "ticks": ""
            },
            "colorscale": [
             [
              0.0,
              "#0d0887"
             ],
             [
              0.1111111111111111,
              "#46039f"
             ],
             [
              0.2222222222222222,
              "#7201a8"
             ],
             [
              0.3333333333333333,
              "#9c179e"
             ],
             [
              0.4444444444444444,
              "#bd3786"
             ],
             [
              0.5555555555555556,
              "#d8576b"
             ],
             [
              0.6666666666666666,
              "#ed7953"
             ],
             [
              0.7777777777777778,
              "#fb9f3a"
             ],
             [
              0.8888888888888888,
              "#fdca26"
             ],
             [
              1.0,
              "#f0f921"
             ]
            ]
           }
          ],
          "surface": [
           {
            "type": "surface",
            "colorbar": {
             "outlinewidth": 0,
             "ticks": ""
            },
            "colorscale": [
             [
              0.0,
              "#0d0887"
             ],
             [
              0.1111111111111111,
              "#46039f"
             ],
             [
              0.2222222222222222,
              "#7201a8"
             ],
             [
              0.3333333333333333,
              "#9c179e"
             ],
             [
              0.4444444444444444,
              "#bd3786"
             ],
             [
              0.5555555555555556,
              "#d8576b"
             ],
             [
              0.6666666666666666,
              "#ed7953"
             ],
             [
              0.7777777777777778,
              "#fb9f3a"
             ],
             [
              0.8888888888888888,
              "#fdca26"
             ],
             [
              1.0,
              "#f0f921"
             ]
            ]
           }
          ],
          "mesh3d": [
           {
            "type": "mesh3d",
            "colorbar": {
             "outlinewidth": 0,
             "ticks": ""
            }
           }
          ],
          "scatter": [
           {
            "fillpattern": {
             "fillmode": "overlay",
             "size": 10,
             "solidity": 0.2
            },
            "type": "scatter"
           }
          ],
          "parcoords": [
           {
            "type": "parcoords",
            "line": {
             "colorbar": {
              "outlinewidth": 0,
              "ticks": ""
             }
            }
           }
          ],
          "scatterpolargl": [
           {
            "type": "scatterpolargl",
            "marker": {
             "colorbar": {
              "outlinewidth": 0,
              "ticks": ""
             }
            }
           }
          ],
          "bar": [
           {
            "error_x": {
             "color": "#2a3f5f"
            },
            "error_y": {
             "color": "#2a3f5f"
            },
            "marker": {
             "line": {
              "color": "#E5ECF6",
              "width": 0.5
             },
             "pattern": {
              "fillmode": "overlay",
              "size": 10,
              "solidity": 0.2
             }
            },
            "type": "bar"
           }
          ],
          "scattergeo": [
           {
            "type": "scattergeo",
            "marker": {
             "colorbar": {
              "outlinewidth": 0,
              "ticks": ""
             }
            }
           }
          ],
          "scatterpolar": [
           {
            "type": "scatterpolar",
            "marker": {
             "colorbar": {
              "outlinewidth": 0,
              "ticks": ""
             }
            }
           }
          ],
          "histogram": [
           {
            "marker": {
             "pattern": {
              "fillmode": "overlay",
              "size": 10,
              "solidity": 0.2
             }
            },
            "type": "histogram"
           }
          ],
          "scattergl": [
           {
            "type": "scattergl",
            "marker": {
             "colorbar": {
              "outlinewidth": 0,
              "ticks": ""
             }
            }
           }
          ],
          "scatter3d": [
           {
            "type": "scatter3d",
            "line": {
             "colorbar": {
              "outlinewidth": 0,
              "ticks": ""
             }
            },
            "marker": {
             "colorbar": {
              "outlinewidth": 0,
              "ticks": ""
             }
            }
           }
          ],
          "scattermapbox": [
           {
            "type": "scattermapbox",
            "marker": {
             "colorbar": {
              "outlinewidth": 0,
              "ticks": ""
             }
            }
           }
          ],
          "scatterternary": [
           {
            "type": "scatterternary",
            "marker": {
             "colorbar": {
              "outlinewidth": 0,
              "ticks": ""
             }
            }
           }
          ],
          "scattercarpet": [
           {
            "type": "scattercarpet",
            "marker": {
             "colorbar": {
              "outlinewidth": 0,
              "ticks": ""
             }
            }
           }
          ],
          "carpet": [
           {
            "aaxis": {
             "endlinecolor": "#2a3f5f",
             "gridcolor": "white",
             "linecolor": "white",
             "minorgridcolor": "white",
             "startlinecolor": "#2a3f5f"
            },
            "baxis": {
             "endlinecolor": "#2a3f5f",
             "gridcolor": "white",
             "linecolor": "white",
             "minorgridcolor": "white",
             "startlinecolor": "#2a3f5f"
            },
            "type": "carpet"
           }
          ],
          "table": [
           {
            "cells": {
             "fill": {
              "color": "#EBF0F8"
             },
             "line": {
              "color": "white"
             }
            },
            "header": {
             "fill": {
              "color": "#C8D4E3"
             },
             "line": {
              "color": "white"
             }
            },
            "type": "table"
           }
          ],
          "barpolar": [
           {
            "marker": {
             "line": {
              "color": "#E5ECF6",
              "width": 0.5
             },
             "pattern": {
              "fillmode": "overlay",
              "size": 10,
              "solidity": 0.2
             }
            },
            "type": "barpolar"
           }
          ],
          "pie": [
           {
            "automargin": true,
            "type": "pie"
           }
          ]
         },
         "layout": {
          "autotypenumbers": "strict",
          "colorway": [
           "#636efa",
           "#EF553B",
           "#00cc96",
           "#ab63fa",
           "#FFA15A",
           "#19d3f3",
           "#FF6692",
           "#B6E880",
           "#FF97FF",
           "#FECB52"
          ],
          "font": {
           "color": "#2a3f5f"
          },
          "hovermode": "closest",
          "hoverlabel": {
           "align": "left"
          },
          "paper_bgcolor": "white",
          "plot_bgcolor": "#E5ECF6",
          "polar": {
           "bgcolor": "#E5ECF6",
           "angularaxis": {
            "gridcolor": "white",
            "linecolor": "white",
            "ticks": ""
           },
           "radialaxis": {
            "gridcolor": "white",
            "linecolor": "white",
            "ticks": ""
           }
          },
          "ternary": {
           "bgcolor": "#E5ECF6",
           "aaxis": {
            "gridcolor": "white",
            "linecolor": "white",
            "ticks": ""
           },
           "baxis": {
            "gridcolor": "white",
            "linecolor": "white",
            "ticks": ""
           },
           "caxis": {
            "gridcolor": "white",
            "linecolor": "white",
            "ticks": ""
           }
          },
          "coloraxis": {
           "colorbar": {
            "outlinewidth": 0,
            "ticks": ""
           }
          },
          "colorscale": {
           "sequential": [
            [
             0.0,
             "#0d0887"
            ],
            [
             0.1111111111111111,
             "#46039f"
            ],
            [
             0.2222222222222222,
             "#7201a8"
            ],
            [
             0.3333333333333333,
             "#9c179e"
            ],
            [
             0.4444444444444444,
             "#bd3786"
            ],
            [
             0.5555555555555556,
             "#d8576b"
            ],
            [
             0.6666666666666666,
             "#ed7953"
            ],
            [
             0.7777777777777778,
             "#fb9f3a"
            ],
            [
             0.8888888888888888,
             "#fdca26"
            ],
            [
             1.0,
             "#f0f921"
            ]
           ],
           "sequentialminus": [
            [
             0.0,
             "#0d0887"
            ],
            [
             0.1111111111111111,
             "#46039f"
            ],
            [
             0.2222222222222222,
             "#7201a8"
            ],
            [
             0.3333333333333333,
             "#9c179e"
            ],
            [
             0.4444444444444444,
             "#bd3786"
            ],
            [
             0.5555555555555556,
             "#d8576b"
            ],
            [
             0.6666666666666666,
             "#ed7953"
            ],
            [
             0.7777777777777778,
             "#fb9f3a"
            ],
            [
             0.8888888888888888,
             "#fdca26"
            ],
            [
             1.0,
             "#f0f921"
            ]
           ],
           "diverging": [
            [
             0,
             "#8e0152"
            ],
            [
             0.1,
             "#c51b7d"
            ],
            [
             0.2,
             "#de77ae"
            ],
            [
             0.3,
             "#f1b6da"
            ],
            [
             0.4,
             "#fde0ef"
            ],
            [
             0.5,
             "#f7f7f7"
            ],
            [
             0.6,
             "#e6f5d0"
            ],
            [
             0.7,
             "#b8e186"
            ],
            [
             0.8,
             "#7fbc41"
            ],
            [
             0.9,
             "#4d9221"
            ],
            [
             1,
             "#276419"
            ]
           ]
          },
          "xaxis": {
           "gridcolor": "white",
           "linecolor": "white",
           "ticks": "",
           "title": {
            "standoff": 15
           },
           "zerolinecolor": "white",
           "automargin": true,
           "zerolinewidth": 2
          },
          "yaxis": {
           "gridcolor": "white",
           "linecolor": "white",
           "ticks": "",
           "title": {
            "standoff": 15
           },
           "zerolinecolor": "white",
           "automargin": true,
           "zerolinewidth": 2
          },
          "scene": {
           "xaxis": {
            "backgroundcolor": "#E5ECF6",
            "gridcolor": "white",
            "linecolor": "white",
            "showbackground": true,
            "ticks": "",
            "zerolinecolor": "white",
            "gridwidth": 2
           },
           "yaxis": {
            "backgroundcolor": "#E5ECF6",
            "gridcolor": "white",
            "linecolor": "white",
            "showbackground": true,
            "ticks": "",
            "zerolinecolor": "white",
            "gridwidth": 2
           },
           "zaxis": {
            "backgroundcolor": "#E5ECF6",
            "gridcolor": "white",
            "linecolor": "white",
            "showbackground": true,
            "ticks": "",
            "zerolinecolor": "white",
            "gridwidth": 2
           }
          },
          "shapedefaults": {
           "line": {
            "color": "#2a3f5f"
           }
          },
          "annotationdefaults": {
           "arrowcolor": "#2a3f5f",
           "arrowhead": 0,
           "arrowwidth": 1
          },
          "geo": {
           "bgcolor": "white",
           "landcolor": "#E5ECF6",
           "subunitcolor": "white",
           "showland": true,
           "showlakes": true,
           "lakecolor": "white"
          },
          "title": {
           "x": 0.05
          },
          "mapbox": {
           "style": "light"
          }
         }
        },
        "xaxis": {
         "anchor": "y",
         "domain": [
          0.0,
          1.0
         ],
         "title": {
          "text": "Publication date"
         },
         "range": [
          "2015-01-01",
          "2025-01-01"
         ]
        },
        "yaxis": {
         "anchor": "x",
         "domain": [
          0.0,
          1.0
         ],
         "title": {
          "text": "Cost (2023 USD, log scale)"
         },
         "type": "log",
         "range": [
          1,
          9
         ]
        },
        "legend": {
         "tracegroupgap": 0,
         "x": 0.45,
         "y": 0.05
        },
        "margin": {
         "t": 40,
         "l": 10,
         "r": 10,
         "b": 10
        },
        "title": {
         "text": "Hardware CapEx + OpEx to train top 20% of models farthest above compute trend",
         "font": {
          "size": 16
         }
        },
        "autosize": false,
        "width": 800,
        "height": 600,
        "font": {
         "size": 14
        }
       },
       "config": {
        "plotlyServerURL": "https://plot.ly"
       }
      },
      "text/html": "<div>                            <div id=\"f672fcfb-5af2-44a3-aad8-c26e10f87a97\" class=\"plotly-graph-div\" style=\"height:600px; width:800px;\"></div>            <script type=\"text/javascript\">                require([\"plotly\"], function(Plotly) {                    window.PLOTLYENV=window.PLOTLYENV || {};                                    if (document.getElementById(\"f672fcfb-5af2-44a3-aad8-c26e10f87a97\")) {                    Plotly.newPlot(                        \"f672fcfb-5af2-44a3-aad8-c26e10f87a97\",                        [{\"hovertemplate\":\"Publication date=%{x}<br>Cost (inflation-adjusted)=%{y}<extra></extra>\",\"legendgroup\":\"\",\"marker\":{\"color\":\"rgb(0,100,200)\",\"symbol\":\"circle\"},\"mode\":\"markers\",\"name\":\"\",\"orientation\":\"v\",\"showlegend\":false,\"x\":[\"2024-04-18T00:00:00\",\"2024-03-14T00:00:00\",\"2024-03-07T00:00:00\",\"2024-02-23T00:00:00\",\"2023-12-14T00:00:00\",\"2023-11-30T00:00:00\",\"2023-11-22T00:00:00\",\"2023-11-04T00:00:00\",\"2023-11-02T00:00:00\",\"2023-10-27T00:00:00\",\"2023-09-06T00:00:00\",\"2023-07-18T00:00:00\",\"2023-07-11T00:00:00\",\"2023-07-06T00:00:00\",\"2023-03-30T00:00:00\",\"2023-03-20T00:00:00\",\"2023-03-15T00:00:00\",\"2023-03-15T00:00:00\",\"2023-02-24T00:00:00\",\"2022-11-28T00:00:00\",\"2022-11-16T00:00:00\",\"2022-11-08T00:00:00\",\"2022-08-10T00:00:00\",\"2022-08-04T00:00:00\",\"2022-08-02T00:00:00\",\"2022-05-02T00:00:00\",\"2022-02-17T00:00:00\",\"2022-02-09T00:00:00\",\"2021-12-23T00:00:00\",\"2021-10-12T00:00:00\",\"2021-10-11T00:00:00\",\"2021-09-10T00:00:00\",\"2021-01-05T00:00:00\",\"2020-10-20T00:00:00\",\"2020-06-17T00:00:00\",\"2020-05-28T00:00:00\",\"2019-12-13T00:00:00\",\"2019-09-17T00:00:00\",\"2018-05-02T00:00:00\",\"2016-09-26T00:00:00\",\"2016-01-27T00:00:00\",\"1963-01-01T00:00:00\",\"1962-06-01T00:00:00\",\"1960-03-30T00:00:00\",\"1959-07-01T00:00:00\",\"1959-02-01T00:00:00\",\"1957-01-01T00:00:00\"],\"xaxis\":\"x\",\"y\":[8723916.926068727,null,10705541.374082057,2400127.4387226426,null,null,11744444.031954825,null,null,null,9420875.735566294,999508.2934960627,null,1656062.4369647803,336831.4568525193,null,37795833.234367825,291382.6592691568,524698.9908459426,4306936.387581259,536626.3673135112,818359.4282146227,1329357.766403764,745799.866710392,243372.5657189872,663456.0138718083,null,167291.72133662182,null,null,3352803.0410988852,531772.4580602689,107622.1931142334,null,88959.00691461308,1910808.6053836865,null,705380.1875425708,null,125214.86708016932,null,null,null,null,null,null,null],\"yaxis\":\"y\",\"type\":\"scatter\",\"textposition\":\"top center\"},{\"marker\":{\"symbol\":\"circle-open\",\"color\":\"rgb(0,100,200)\"},\"mode\":\"markers\",\"name\":\"Using equivalent price of TPU\",\"showlegend\":true,\"x\":[\"2023-12-06T00:00:00\",\"2023-05-10T00:00:00\",\"2023-02-10T00:00:00\",\"2022-10-20T00:00:00\",\"2022-10-20T00:00:00\",\"2022-06-29T00:00:00\",\"2022-06-22T00:00:00\",\"2022-05-10T00:00:00\",\"2022-04-29T00:00:00\",\"2022-04-04T00:00:00\",\"2022-03-29T00:00:00\",\"2022-02-10T00:00:00\",\"2022-02-02T00:00:00\",\"2021-12-13T00:00:00\",\"2021-12-08T00:00:00\",\"2021-07-27T00:00:00\",\"2021-05-28T00:00:00\",\"2021-05-04T00:00:00\",\"2021-03-01T00:00:00\",\"2021-01-11T00:00:00\",\"2020-01-28T00:00:00\",\"2019-10-30T00:00:00\",\"2019-10-23T00:00:00\",\"2017-12-05T00:00:00\",\"2017-10-18T00:00:00\",\"2017-01-01T00:00:00\"],\"y\":[61266759.147650406,9783886.368556138,576206.3349924638,6061444.564079399,6036806.418852156,6481347.803523128,700673.6180097482,257932.35418105056,373096.58887718676,6004609.147259314,null,389791.37996065774,null,1111857.6792656365,1057718.5575753937,146402.52264688487,160063.77116981527,148535.3221654581,93491.11375765501,243173.74463131427,365613.36299103155,222898.05466533385,133801.39460387986,738737.9766864879,1120792.104021495,864502.5373900406],\"type\":\"scatter\",\"textposition\":\"top center\"},{\"mode\":\"text\",\"showlegend\":false,\"text\":[\"Inflection-2\",\"Llama 2-70B\",\"GPT-4\",\"DALL-E\",\"GPT-3 175B (davinci)\",\"GNMT\"],\"x\":[\"2023-11-22T00:00:00\",\"2023-07-18T00:00:00\",\"2023-03-15T00:00:00\",\"2021-01-05T00:00:00\",\"2020-05-28T00:00:00\",\"2016-09-26T00:00:00\"],\"y\":[11744444.031954825,999508.2934960627,37795833.234367825,107622.1931142334,1910808.6053836865,125214.86708016932],\"type\":\"scatter\",\"textposition\":\"top center\"},{\"mode\":\"text\",\"showlegend\":false,\"text\":[\"Gemini Ultra\",\"PaLM (540B)\",\"AlphaZero\",\"AlphaGo Zero\",\"AlphaGo Master\"],\"x\":[\"2023-12-06T00:00:00\",\"2022-04-04T00:00:00\",\"2017-12-05T00:00:00\",\"2017-10-18T00:00:00\",\"2017-01-01T00:00:00\"],\"y\":[61266759.147650406,6004609.147259314,738737.9766864879,1120792.104021495,864502.5373900406],\"type\":\"scatter\",\"textposition\":\"top center\"},{\"line\":{\"width\":0},\"mode\":\"lines\",\"showlegend\":false,\"x\":[\"2015-01-01T00:00:00\",\"2015-02-06T00:00:00\",\"2015-03-15T00:00:00\",\"2015-04-21T00:00:00\",\"2015-05-28T00:00:00\",\"2015-07-04T00:00:00\",\"2015-08-10T00:00:00\",\"2015-09-16T00:00:00\",\"2015-10-22T00:00:00\",\"2015-11-28T00:00:00\",\"2016-01-04T00:00:00\",\"2016-02-10T00:00:00\",\"2016-03-18T00:00:00\",\"2016-04-24T00:00:00\",\"2016-05-31T00:00:00\",\"2016-07-07T00:00:00\",\"2016-08-13T00:00:00\",\"2016-09-19T00:00:00\",\"2016-10-26T00:00:00\",\"2016-12-02T00:00:00\",\"2017-01-08T00:00:00\",\"2017-02-14T00:00:00\",\"2017-03-23T00:00:00\",\"2017-04-28T00:00:00\",\"2017-06-04T00:00:00\",\"2017-07-11T00:00:00\",\"2017-08-17T00:00:00\",\"2017-09-23T00:00:00\",\"2017-10-30T00:00:00\",\"2017-12-06T00:00:00\",\"2018-01-12T00:00:00\",\"2018-02-17T00:00:00\",\"2018-03-26T00:00:00\",\"2018-05-02T00:00:00\",\"2018-06-08T00:00:00\",\"2018-07-15T00:00:00\",\"2018-08-21T00:00:00\",\"2018-09-27T00:00:00\",\"2018-11-03T00:00:00\",\"2018-12-09T00:00:00\",\"2019-01-15T00:00:00\",\"2019-02-21T00:00:00\",\"2019-03-30T00:00:00\",\"2019-05-06T00:00:00\",\"2019-06-12T00:00:00\",\"2019-07-19T00:00:00\",\"2019-08-24T00:00:00\",\"2019-09-30T00:00:00\",\"2019-11-06T00:00:00\",\"2019-12-13T00:00:00\",\"2020-01-19T00:00:00\",\"2020-02-25T00:00:00\",\"2020-04-02T00:00:00\",\"2020-05-09T00:00:00\",\"2020-06-15T00:00:00\",\"2020-07-22T00:00:00\",\"2020-08-28T00:00:00\",\"2020-10-04T00:00:00\",\"2020-11-10T00:00:00\",\"2020-12-17T00:00:00\",\"2021-01-23T00:00:00\",\"2021-02-28T00:00:00\",\"2021-04-06T00:00:00\",\"2021-05-13T00:00:00\",\"2021-06-19T00:00:00\",\"2021-07-26T00:00:00\",\"2021-09-01T00:00:00\",\"2021-10-08T00:00:00\",\"2021-11-14T00:00:00\",\"2021-12-20T00:00:00\",\"2022-01-26T00:00:00\",\"2022-03-04T00:00:00\",\"2022-04-10T00:00:00\",\"2022-05-17T00:00:00\",\"2022-06-23T00:00:00\",\"2022-07-30T00:00:00\",\"2022-09-05T00:00:00\",\"2022-10-11T00:00:00\",\"2022-11-17T00:00:00\",\"2022-12-24T00:00:00\",\"2023-01-30T00:00:00\",\"2023-03-08T00:00:00\",\"2023-04-14T00:00:00\",\"2023-05-21T00:00:00\",\"2023-06-26T00:00:00\",\"2023-08-02T00:00:00\",\"2023-09-08T00:00:00\",\"2023-10-15T00:00:00\",\"2023-11-21T00:00:00\",\"2023-12-28T00:00:00\",\"2024-02-03T00:00:00\",\"2024-03-11T00:00:00\",\"2024-04-17T00:00:00\",\"2024-05-24T00:00:00\",\"2024-06-30T00:00:00\",\"2024-08-06T00:00:00\",\"2024-09-12T00:00:00\",\"2024-10-19T00:00:00\",\"2024-11-25T00:00:00\",\"2025-01-01T00:00:00\"],\"y\":[8943.487427109776,9561.25783745512,10221.483530321959,10927.057173385323,11681.065494015824,12486.801908310139,13347.779919340206,14267.747321811363,15250.70125509653,16300.90414131447,17422.900550660743,18621.53503261771,19901.970952054362,21269.71036576499,22730.61497845529,24290.928204529453,25957.29836754167,27736.80305548865,29636.9746525549,31665.827046252427,33831.883506821534,36144.205725227315,38612.42396024149,41246.76825263142,44058.10060915582,47057.9480512586,50258.53637399386,53672.82442092618,57314.538620321444,61198.207484202736,65339.19566312195,69753.73709177674,74458.96663740756,79472.94953183753,84814.70775123361,90504.24228466988,96562.55006696188,103011.63412871253,109874.5051708916,117175.17257156155,124938.62235761175,133190.77936536336,141958.45032205523,151269.24408650855,161151.4648419255,171633.97337938842,182746.0112175945,194516.9817768657,206976.1825236668,220152.48184295857,234073.93476027893,248767.3321810012,264257.67994943785,280567.6065505539,297716.70180504676,315720.7944452267,334591.18367553613,354333.84861669596,374948.6706187818,396428.715495552,418759.6342120831,441919.2508833833,465877.41178607877,490596.16648321215,516030.3384452401,542128.5168205217,568834.4619095493,596088.8708306357,623831.4009872177,652002.8093771945,680547.0418675239,709413.1080456325,738556.6033316593,767940.7835786035,797537.1570173696,827325.6092893945,857294.1250436961,887438.1960628488,917760.017159639,948267.5666350325,978973.6546678732,1009895.0023270042,1041051.3951473244,1072464.9360044522,1104159.4085566418,1136159.7505054346,1168491.6303135997,1201181.1162750637,1234254.4251048972,1267737.737554011,1301657.0686653329,1336038.1819069285,1370906.5373200062,1406287.2670194788,1442205.1700097932,1478684.722502823,1515750.0985363284,1553425.1982858803,1591733.681371847,1630699.0030707736],\"type\":\"scatter\",\"textposition\":\"top center\"},{\"fill\":\"tonexty\",\"fillcolor\":\"rgba(0,100,200,0.2)\",\"line\":{\"width\":0},\"mode\":\"lines\",\"name\":\"95% CI of mean\",\"x\":[\"2015-01-01T00:00:00\",\"2015-02-06T00:00:00\",\"2015-03-15T00:00:00\",\"2015-04-21T00:00:00\",\"2015-05-28T00:00:00\",\"2015-07-04T00:00:00\",\"2015-08-10T00:00:00\",\"2015-09-16T00:00:00\",\"2015-10-22T00:00:00\",\"2015-11-28T00:00:00\",\"2016-01-04T00:00:00\",\"2016-02-10T00:00:00\",\"2016-03-18T00:00:00\",\"2016-04-24T00:00:00\",\"2016-05-31T00:00:00\",\"2016-07-07T00:00:00\",\"2016-08-13T00:00:00\",\"2016-09-19T00:00:00\",\"2016-10-26T00:00:00\",\"2016-12-02T00:00:00\",\"2017-01-08T00:00:00\",\"2017-02-14T00:00:00\",\"2017-03-23T00:00:00\",\"2017-04-28T00:00:00\",\"2017-06-04T00:00:00\",\"2017-07-11T00:00:00\",\"2017-08-17T00:00:00\",\"2017-09-23T00:00:00\",\"2017-10-30T00:00:00\",\"2017-12-06T00:00:00\",\"2018-01-12T00:00:00\",\"2018-02-17T00:00:00\",\"2018-03-26T00:00:00\",\"2018-05-02T00:00:00\",\"2018-06-08T00:00:00\",\"2018-07-15T00:00:00\",\"2018-08-21T00:00:00\",\"2018-09-27T00:00:00\",\"2018-11-03T00:00:00\",\"2018-12-09T00:00:00\",\"2019-01-15T00:00:00\",\"2019-02-21T00:00:00\",\"2019-03-30T00:00:00\",\"2019-05-06T00:00:00\",\"2019-06-12T00:00:00\",\"2019-07-19T00:00:00\",\"2019-08-24T00:00:00\",\"2019-09-30T00:00:00\",\"2019-11-06T00:00:00\",\"2019-12-13T00:00:00\",\"2020-01-19T00:00:00\",\"2020-02-25T00:00:00\",\"2020-04-02T00:00:00\",\"2020-05-09T00:00:00\",\"2020-06-15T00:00:00\",\"2020-07-22T00:00:00\",\"2020-08-28T00:00:00\",\"2020-10-04T00:00:00\",\"2020-11-10T00:00:00\",\"2020-12-17T00:00:00\",\"2021-01-23T00:00:00\",\"2021-02-28T00:00:00\",\"2021-04-06T00:00:00\",\"2021-05-13T00:00:00\",\"2021-06-19T00:00:00\",\"2021-07-26T00:00:00\",\"2021-09-01T00:00:00\",\"2021-10-08T00:00:00\",\"2021-11-14T00:00:00\",\"2021-12-20T00:00:00\",\"2022-01-26T00:00:00\",\"2022-03-04T00:00:00\",\"2022-04-10T00:00:00\",\"2022-05-17T00:00:00\",\"2022-06-23T00:00:00\",\"2022-07-30T00:00:00\",\"2022-09-05T00:00:00\",\"2022-10-11T00:00:00\",\"2022-11-17T00:00:00\",\"2022-12-24T00:00:00\",\"2023-01-30T00:00:00\",\"2023-03-08T00:00:00\",\"2023-04-14T00:00:00\",\"2023-05-21T00:00:00\",\"2023-06-26T00:00:00\",\"2023-08-02T00:00:00\",\"2023-09-08T00:00:00\",\"2023-10-15T00:00:00\",\"2023-11-21T00:00:00\",\"2023-12-28T00:00:00\",\"2024-02-03T00:00:00\",\"2024-03-11T00:00:00\",\"2024-04-17T00:00:00\",\"2024-05-24T00:00:00\",\"2024-06-30T00:00:00\",\"2024-08-06T00:00:00\",\"2024-09-12T00:00:00\",\"2024-10-19T00:00:00\",\"2024-11-25T00:00:00\",\"2025-01-01T00:00:00\"],\"y\":[239319.87771384127,244581.8505326797,249964.8294020978,255471.94122554726,261106.41863306082,266871.6054810231,272770.96275825694,278808.0749805808,284986.6570653298,291310.561808693,297783.7879732099,304410.4890725644,311194.9829215928,318141.7620603948,325255.5050836014,332541.08906667895,340003.6031421855,347648.3634166402,355480.9293041194,363507.12154640857,371733.0420769435,380165.0958962691,388810.0153591393,397674.8869938442,406767.1813439828,416094.78612222173,425666.04315106047,435489.78958413296,445575.4040336229,455932.85815235815,466572.7745954254,477506.4921263978,488746.1389224948,500304.7153033133,512196.18708936154,524435.591334779,537039.1561568525,550024.4366145396,563410.4693129705,577217.9481295481,591469.4245238301,606189.535841309,621405.2657708933,637146.2416902606,653445.0738855349,670337.7427903465,687864.0404237137,706068.073061982,724998.8324717463,744710.8433922157,765264.8943609985,786728.859057583,809178.6133938656,832699.0511303875,857385.1978739735,883343.4174627896,910692.6976002203,939565.9935202247,970111.5970190417,1002494.4862280369,1036897.6008699246,1073522.976834235,1112592.6697561657,1154349.3999101818,1199056.864936411,1246999.6922666815,1298483.0435390635,1353831.9285782364,1413390.3365807547,1477520.331108321,1546601.2809793775,1621029.3971661986,1701217.7196296046,1787596.657600591,1880615.1229737438,1980742.2514686892,2088469.6548109928,2204314.1234463127,2328820.687914724,2462565.952643725,2606161.6288184593,2760258.2164455205,2925548.80321827,3102772.9695400624,3292720.801618166,3496237.0300096264,3714225.3152827313,3947652.709685533,4197554.326698138,4465038.250184586,4751290.717368627,5057581.6090736,5385270.282845376,5735811.778537331,6110763.436579452,6511791.958754623,6940680.951779223,7399338.988664888,7889808.227775662,8414273.631615577],\"type\":\"scatter\",\"textposition\":\"top center\"},{\"line\":{\"color\":\"rgb(0,100,200)\"},\"mode\":\"lines\",\"name\":\"Regression mean (growth rate: 1.6x per year)\",\"x\":[\"2015-01-01T00:00:00\",\"2015-02-06T00:00:00\",\"2015-03-15T00:00:00\",\"2015-04-21T00:00:00\",\"2015-05-28T00:00:00\",\"2015-07-04T00:00:00\",\"2015-08-10T00:00:00\",\"2015-09-16T00:00:00\",\"2015-10-22T00:00:00\",\"2015-11-28T00:00:00\",\"2016-01-04T00:00:00\",\"2016-02-10T00:00:00\",\"2016-03-18T00:00:00\",\"2016-04-24T00:00:00\",\"2016-05-31T00:00:00\",\"2016-07-07T00:00:00\",\"2016-08-13T00:00:00\",\"2016-09-19T00:00:00\",\"2016-10-26T00:00:00\",\"2016-12-02T00:00:00\",\"2017-01-08T00:00:00\",\"2017-02-14T00:00:00\",\"2017-03-23T00:00:00\",\"2017-04-28T00:00:00\",\"2017-06-04T00:00:00\",\"2017-07-11T00:00:00\",\"2017-08-17T00:00:00\",\"2017-09-23T00:00:00\",\"2017-10-30T00:00:00\",\"2017-12-06T00:00:00\",\"2018-01-12T00:00:00\",\"2018-02-17T00:00:00\",\"2018-03-26T00:00:00\",\"2018-05-02T00:00:00\",\"2018-06-08T00:00:00\",\"2018-07-15T00:00:00\",\"2018-08-21T00:00:00\",\"2018-09-27T00:00:00\",\"2018-11-03T00:00:00\",\"2018-12-09T00:00:00\",\"2019-01-15T00:00:00\",\"2019-02-21T00:00:00\",\"2019-03-30T00:00:00\",\"2019-05-06T00:00:00\",\"2019-06-12T00:00:00\",\"2019-07-19T00:00:00\",\"2019-08-24T00:00:00\",\"2019-09-30T00:00:00\",\"2019-11-06T00:00:00\",\"2019-12-13T00:00:00\",\"2020-01-19T00:00:00\",\"2020-02-25T00:00:00\",\"2020-04-02T00:00:00\",\"2020-05-09T00:00:00\",\"2020-06-15T00:00:00\",\"2020-07-22T00:00:00\",\"2020-08-28T00:00:00\",\"2020-10-04T00:00:00\",\"2020-11-10T00:00:00\",\"2020-12-17T00:00:00\",\"2021-01-23T00:00:00\",\"2021-02-28T00:00:00\",\"2021-04-06T00:00:00\",\"2021-05-13T00:00:00\",\"2021-06-19T00:00:00\",\"2021-07-26T00:00:00\",\"2021-09-01T00:00:00\",\"2021-10-08T00:00:00\",\"2021-11-14T00:00:00\",\"2021-12-20T00:00:00\",\"2022-01-26T00:00:00\",\"2022-03-04T00:00:00\",\"2022-04-10T00:00:00\",\"2022-05-17T00:00:00\",\"2022-06-23T00:00:00\",\"2022-07-30T00:00:00\",\"2022-09-05T00:00:00\",\"2022-10-11T00:00:00\",\"2022-11-17T00:00:00\",\"2022-12-24T00:00:00\",\"2023-01-30T00:00:00\",\"2023-03-08T00:00:00\",\"2023-04-14T00:00:00\",\"2023-05-21T00:00:00\",\"2023-06-26T00:00:00\",\"2023-08-02T00:00:00\",\"2023-09-08T00:00:00\",\"2023-10-15T00:00:00\",\"2023-11-21T00:00:00\",\"2023-12-28T00:00:00\",\"2024-02-03T00:00:00\",\"2024-03-11T00:00:00\",\"2024-04-17T00:00:00\",\"2024-05-24T00:00:00\",\"2024-06-30T00:00:00\",\"2024-08-06T00:00:00\",\"2024-09-12T00:00:00\",\"2024-10-19T00:00:00\",\"2024-11-25T00:00:00\",\"2025-01-01T00:00:00\"],\"y\":[46263.96348553795,48358.14445680125,50547.12046094496,52835.182482577744,55226.815741636754,57726.70848571075,60339.761180201545,63071.09611465115,65926.06744370537,68910.27168279028,72029.5586787555,75290.04307716293,78698.11630865502,82260.45911784543,85984.05465944456,89876.20218709028,93944.53136186766,98197.01720851961,102641.99574858649,107288.18034140402,112144.67876445828,117221.01106723795,122527.128233037,128073.43168560167,133870.79367866585,139930.5786086053,146264.66529166096,152885.47024964556,159805.97204970283,167039.73674570248,174600.94447160416,182504.41723805293,190765.64798776482,199400.83096577245,208426.893464544,217861.52900607983,227723.23202588494,238031.33412722827,248806.04197619972,260068.47691229798,271840.7163517944,284145.8370658135,297007.9604165533,310452.29964206356,324505.2092808283,339194.2368338201,354548.17676509335,370597.1269465324,387372.54765808774,404907.32325824775,423235.82664631325,442393.9866426281,462419.358418488,483351.1971150688,505230.53479328303,528100.2608684392,552005.2061844388,576992.2308951749,603110.3163221079,630410.6609716828,658946.7808978781,688774.6146082075,719952.6327184073,752541.952570175,786606.4580387226,822212.9247610882,859431.1510355073,898334.0946444494,938998.0158716884,981502.6269931975,1025931.2485342468,1072370.972600905,1120912.833603609,1171651.986709488,1224687.894371603,1280124.521303135,1338070.5382757294,1398639.535143725,1461950.24351116,1528126.7694768475,1597298.8369179964,1669602.0417813286,1745178.1178899664,1824175.214779032,1906748.1881089767,1993058.903224789,2083276.5524545133,2177577.986774836,2276148.0624830592,2379180.003568693,2486875.780481778,2599446.506053281,2717112.8493288397,2840105.468143287,2968665.4612707198,3103044.8410435827,3243507.0273653753,3390327.3640831793,3543793.658738505,3704206.7467462206],\"type\":\"scatter\",\"textposition\":\"top center\"}],                        {\"template\":{\"data\":{\"histogram2dcontour\":[{\"type\":\"histogram2dcontour\",\"colorbar\":{\"outlinewidth\":0,\"ticks\":\"\"},\"colorscale\":[[0.0,\"#0d0887\"],[0.1111111111111111,\"#46039f\"],[0.2222222222222222,\"#7201a8\"],[0.3333333333333333,\"#9c179e\"],[0.4444444444444444,\"#bd3786\"],[0.5555555555555556,\"#d8576b\"],[0.6666666666666666,\"#ed7953\"],[0.7777777777777778,\"#fb9f3a\"],[0.8888888888888888,\"#fdca26\"],[1.0,\"#f0f921\"]]}],\"choropleth\":[{\"type\":\"choropleth\",\"colorbar\":{\"outlinewidth\":0,\"ticks\":\"\"}}],\"histogram2d\":[{\"type\":\"histogram2d\",\"colorbar\":{\"outlinewidth\":0,\"ticks\":\"\"},\"colorscale\":[[0.0,\"#0d0887\"],[0.1111111111111111,\"#46039f\"],[0.2222222222222222,\"#7201a8\"],[0.3333333333333333,\"#9c179e\"],[0.4444444444444444,\"#bd3786\"],[0.5555555555555556,\"#d8576b\"],[0.6666666666666666,\"#ed7953\"],[0.7777777777777778,\"#fb9f3a\"],[0.8888888888888888,\"#fdca26\"],[1.0,\"#f0f921\"]]}],\"heatmap\":[{\"type\":\"heatmap\",\"colorbar\":{\"outlinewidth\":0,\"ticks\":\"\"},\"colorscale\":[[0.0,\"#0d0887\"],[0.1111111111111111,\"#46039f\"],[0.2222222222222222,\"#7201a8\"],[0.3333333333333333,\"#9c179e\"],[0.4444444444444444,\"#bd3786\"],[0.5555555555555556,\"#d8576b\"],[0.6666666666666666,\"#ed7953\"],[0.7777777777777778,\"#fb9f3a\"],[0.8888888888888888,\"#fdca26\"],[1.0,\"#f0f921\"]]}],\"heatmapgl\":[{\"type\":\"heatmapgl\",\"colorbar\":{\"outlinewidth\":0,\"ticks\":\"\"},\"colorscale\":[[0.0,\"#0d0887\"],[0.1111111111111111,\"#46039f\"],[0.2222222222222222,\"#7201a8\"],[0.3333333333333333,\"#9c179e\"],[0.4444444444444444,\"#bd3786\"],[0.5555555555555556,\"#d8576b\"],[0.6666666666666666,\"#ed7953\"],[0.7777777777777778,\"#fb9f3a\"],[0.8888888888888888,\"#fdca26\"],[1.0,\"#f0f921\"]]}],\"contourcarpet\":[{\"type\":\"contourcarpet\",\"colorbar\":{\"outlinewidth\":0,\"ticks\":\"\"}}],\"contour\":[{\"type\":\"contour\",\"colorbar\":{\"outlinewidth\":0,\"ticks\":\"\"},\"colorscale\":[[0.0,\"#0d0887\"],[0.1111111111111111,\"#46039f\"],[0.2222222222222222,\"#7201a8\"],[0.3333333333333333,\"#9c179e\"],[0.4444444444444444,\"#bd3786\"],[0.5555555555555556,\"#d8576b\"],[0.6666666666666666,\"#ed7953\"],[0.7777777777777778,\"#fb9f3a\"],[0.8888888888888888,\"#fdca26\"],[1.0,\"#f0f921\"]]}],\"surface\":[{\"type\":\"surface\",\"colorbar\":{\"outlinewidth\":0,\"ticks\":\"\"},\"colorscale\":[[0.0,\"#0d0887\"],[0.1111111111111111,\"#46039f\"],[0.2222222222222222,\"#7201a8\"],[0.3333333333333333,\"#9c179e\"],[0.4444444444444444,\"#bd3786\"],[0.5555555555555556,\"#d8576b\"],[0.6666666666666666,\"#ed7953\"],[0.7777777777777778,\"#fb9f3a\"],[0.8888888888888888,\"#fdca26\"],[1.0,\"#f0f921\"]]}],\"mesh3d\":[{\"type\":\"mesh3d\",\"colorbar\":{\"outlinewidth\":0,\"ticks\":\"\"}}],\"scatter\":[{\"fillpattern\":{\"fillmode\":\"overlay\",\"size\":10,\"solidity\":0.2},\"type\":\"scatter\"}],\"parcoords\":[{\"type\":\"parcoords\",\"line\":{\"colorbar\":{\"outlinewidth\":0,\"ticks\":\"\"}}}],\"scatterpolargl\":[{\"type\":\"scatterpolargl\",\"marker\":{\"colorbar\":{\"outlinewidth\":0,\"ticks\":\"\"}}}],\"bar\":[{\"error_x\":{\"color\":\"#2a3f5f\"},\"error_y\":{\"color\":\"#2a3f5f\"},\"marker\":{\"line\":{\"color\":\"#E5ECF6\",\"width\":0.5},\"pattern\":{\"fillmode\":\"overlay\",\"size\":10,\"solidity\":0.2}},\"type\":\"bar\"}],\"scattergeo\":[{\"type\":\"scattergeo\",\"marker\":{\"colorbar\":{\"outlinewidth\":0,\"ticks\":\"\"}}}],\"scatterpolar\":[{\"type\":\"scatterpolar\",\"marker\":{\"colorbar\":{\"outlinewidth\":0,\"ticks\":\"\"}}}],\"histogram\":[{\"marker\":{\"pattern\":{\"fillmode\":\"overlay\",\"size\":10,\"solidity\":0.2}},\"type\":\"histogram\"}],\"scattergl\":[{\"type\":\"scattergl\",\"marker\":{\"colorbar\":{\"outlinewidth\":0,\"ticks\":\"\"}}}],\"scatter3d\":[{\"type\":\"scatter3d\",\"line\":{\"colorbar\":{\"outlinewidth\":0,\"ticks\":\"\"}},\"marker\":{\"colorbar\":{\"outlinewidth\":0,\"ticks\":\"\"}}}],\"scattermapbox\":[{\"type\":\"scattermapbox\",\"marker\":{\"colorbar\":{\"outlinewidth\":0,\"ticks\":\"\"}}}],\"scatterternary\":[{\"type\":\"scatterternary\",\"marker\":{\"colorbar\":{\"outlinewidth\":0,\"ticks\":\"\"}}}],\"scattercarpet\":[{\"type\":\"scattercarpet\",\"marker\":{\"colorbar\":{\"outlinewidth\":0,\"ticks\":\"\"}}}],\"carpet\":[{\"aaxis\":{\"endlinecolor\":\"#2a3f5f\",\"gridcolor\":\"white\",\"linecolor\":\"white\",\"minorgridcolor\":\"white\",\"startlinecolor\":\"#2a3f5f\"},\"baxis\":{\"endlinecolor\":\"#2a3f5f\",\"gridcolor\":\"white\",\"linecolor\":\"white\",\"minorgridcolor\":\"white\",\"startlinecolor\":\"#2a3f5f\"},\"type\":\"carpet\"}],\"table\":[{\"cells\":{\"fill\":{\"color\":\"#EBF0F8\"},\"line\":{\"color\":\"white\"}},\"header\":{\"fill\":{\"color\":\"#C8D4E3\"},\"line\":{\"color\":\"white\"}},\"type\":\"table\"}],\"barpolar\":[{\"marker\":{\"line\":{\"color\":\"#E5ECF6\",\"width\":0.5},\"pattern\":{\"fillmode\":\"overlay\",\"size\":10,\"solidity\":0.2}},\"type\":\"barpolar\"}],\"pie\":[{\"automargin\":true,\"type\":\"pie\"}]},\"layout\":{\"autotypenumbers\":\"strict\",\"colorway\":[\"#636efa\",\"#EF553B\",\"#00cc96\",\"#ab63fa\",\"#FFA15A\",\"#19d3f3\",\"#FF6692\",\"#B6E880\",\"#FF97FF\",\"#FECB52\"],\"font\":{\"color\":\"#2a3f5f\"},\"hovermode\":\"closest\",\"hoverlabel\":{\"align\":\"left\"},\"paper_bgcolor\":\"white\",\"plot_bgcolor\":\"#E5ECF6\",\"polar\":{\"bgcolor\":\"#E5ECF6\",\"angularaxis\":{\"gridcolor\":\"white\",\"linecolor\":\"white\",\"ticks\":\"\"},\"radialaxis\":{\"gridcolor\":\"white\",\"linecolor\":\"white\",\"ticks\":\"\"}},\"ternary\":{\"bgcolor\":\"#E5ECF6\",\"aaxis\":{\"gridcolor\":\"white\",\"linecolor\":\"white\",\"ticks\":\"\"},\"baxis\":{\"gridcolor\":\"white\",\"linecolor\":\"white\",\"ticks\":\"\"},\"caxis\":{\"gridcolor\":\"white\",\"linecolor\":\"white\",\"ticks\":\"\"}},\"coloraxis\":{\"colorbar\":{\"outlinewidth\":0,\"ticks\":\"\"}},\"colorscale\":{\"sequential\":[[0.0,\"#0d0887\"],[0.1111111111111111,\"#46039f\"],[0.2222222222222222,\"#7201a8\"],[0.3333333333333333,\"#9c179e\"],[0.4444444444444444,\"#bd3786\"],[0.5555555555555556,\"#d8576b\"],[0.6666666666666666,\"#ed7953\"],[0.7777777777777778,\"#fb9f3a\"],[0.8888888888888888,\"#fdca26\"],[1.0,\"#f0f921\"]],\"sequentialminus\":[[0.0,\"#0d0887\"],[0.1111111111111111,\"#46039f\"],[0.2222222222222222,\"#7201a8\"],[0.3333333333333333,\"#9c179e\"],[0.4444444444444444,\"#bd3786\"],[0.5555555555555556,\"#d8576b\"],[0.6666666666666666,\"#ed7953\"],[0.7777777777777778,\"#fb9f3a\"],[0.8888888888888888,\"#fdca26\"],[1.0,\"#f0f921\"]],\"diverging\":[[0,\"#8e0152\"],[0.1,\"#c51b7d\"],[0.2,\"#de77ae\"],[0.3,\"#f1b6da\"],[0.4,\"#fde0ef\"],[0.5,\"#f7f7f7\"],[0.6,\"#e6f5d0\"],[0.7,\"#b8e186\"],[0.8,\"#7fbc41\"],[0.9,\"#4d9221\"],[1,\"#276419\"]]},\"xaxis\":{\"gridcolor\":\"white\",\"linecolor\":\"white\",\"ticks\":\"\",\"title\":{\"standoff\":15},\"zerolinecolor\":\"white\",\"automargin\":true,\"zerolinewidth\":2},\"yaxis\":{\"gridcolor\":\"white\",\"linecolor\":\"white\",\"ticks\":\"\",\"title\":{\"standoff\":15},\"zerolinecolor\":\"white\",\"automargin\":true,\"zerolinewidth\":2},\"scene\":{\"xaxis\":{\"backgroundcolor\":\"#E5ECF6\",\"gridcolor\":\"white\",\"linecolor\":\"white\",\"showbackground\":true,\"ticks\":\"\",\"zerolinecolor\":\"white\",\"gridwidth\":2},\"yaxis\":{\"backgroundcolor\":\"#E5ECF6\",\"gridcolor\":\"white\",\"linecolor\":\"white\",\"showbackground\":true,\"ticks\":\"\",\"zerolinecolor\":\"white\",\"gridwidth\":2},\"zaxis\":{\"backgroundcolor\":\"#E5ECF6\",\"gridcolor\":\"white\",\"linecolor\":\"white\",\"showbackground\":true,\"ticks\":\"\",\"zerolinecolor\":\"white\",\"gridwidth\":2}},\"shapedefaults\":{\"line\":{\"color\":\"#2a3f5f\"}},\"annotationdefaults\":{\"arrowcolor\":\"#2a3f5f\",\"arrowhead\":0,\"arrowwidth\":1},\"geo\":{\"bgcolor\":\"white\",\"landcolor\":\"#E5ECF6\",\"subunitcolor\":\"white\",\"showland\":true,\"showlakes\":true,\"lakecolor\":\"white\"},\"title\":{\"x\":0.05},\"mapbox\":{\"style\":\"light\"}}},\"xaxis\":{\"anchor\":\"y\",\"domain\":[0.0,1.0],\"title\":{\"text\":\"Publication date\"},\"range\":[\"2015-01-01\",\"2025-01-01\"]},\"yaxis\":{\"anchor\":\"x\",\"domain\":[0.0,1.0],\"title\":{\"text\":\"Cost (2023 USD, log scale)\"},\"type\":\"log\",\"range\":[1,9]},\"legend\":{\"tracegroupgap\":0,\"x\":0.45,\"y\":0.05},\"margin\":{\"t\":40,\"l\":10,\"r\":10,\"b\":10},\"title\":{\"text\":\"Hardware CapEx + OpEx to train top 20% of models farthest above compute trend\",\"font\":{\"size\":16}},\"autosize\":false,\"width\":800,\"height\":600,\"font\":{\"size\":14}},                        {\"responsive\": true}                    ).then(function(){\n                            \nvar gd = document.getElementById('f672fcfb-5af2-44a3-aad8-c26e10f87a97');\nvar x = new MutationObserver(function (mutations, observer) {{\n        var display = window.getComputedStyle(gd).display;\n        if (!display || display === 'none') {{\n            console.log([gd, 'removed!']);\n            Plotly.purge(gd);\n            observer.disconnect();\n        }}\n}});\n\n// Listen for the removal of the full notebook cells\nvar notebookContainer = gd.closest('#notebook-container');\nif (notebookContainer) {{\n    x.observe(notebookContainer, {childList: true});\n}}\n\n// Listen for the clearing of the current output cell\nvar outputEl = gd.closest('.output');\nif (outputEl) {{\n    x.observe(outputEl, {childList: true});\n}}\n\n                        })                };                });            </script>        </div>"
     },
     "metadata": {},
     "output_type": "display_data"
    }
   ],
   "source": [
    "label_systems = ['GNMT', 'AlphaGo Master', 'AlphaGo Zero', 'AlphaZero', 'DALL-E', 'GPT-3 175B (davinci)', 'PaLM (540B)', 'Llama 2-70B', 'Falcon 180B', 'GPT-4', 'Gemini Ultra', 'Inflection-2']\n",
    "\n",
    "tpu_mask = cost_df['Training hardware'].str.contains('TPU', na=False)\n",
    "tpu_cost_df = cost_df.loc[tpu_mask]\n",
    "gpu_cost_df = cost_df.loc[~tpu_mask]\n",
    "\n",
    "fig = px.scatter(\n",
    "    gpu_cost_df,\n",
    "    x='Publication date',\n",
    "    y='Cost (inflation-adjusted)',\n",
    "    log_y=True,\n",
    ")\n",
    "fig.add_scatter(\n",
    "    x=tpu_cost_df['Publication date'],\n",
    "    y=tpu_cost_df['Cost (inflation-adjusted)'],\n",
    "    mode='markers',\n",
    "    marker_symbol='circle-open' if estimation_method != 'cloud' else 'circle',\n",
    "    name='Using equivalent price of TPU' if estimation_method != 'cloud' else '',\n",
    "    showlegend=estimation_method != 'cloud',\n",
    ")\n",
    "fig.add_scatter(\n",
    "    x=gpu_cost_df.loc[gpu_cost_df['System'].isin(label_systems)]['Publication date'],\n",
    "    y=gpu_cost_df.loc[gpu_cost_df['System'].isin(label_systems)]['Cost (inflation-adjusted)'],\n",
    "    text=gpu_cost_df.loc[gpu_cost_df['System'].isin(label_systems)]['System'],\n",
    "    mode='text',\n",
    "    showlegend=False,\n",
    ")\n",
    "fig.add_scatter(\n",
    "    x=tpu_cost_df.loc[tpu_cost_df['System'].isin(label_systems)]['Publication date'],\n",
    "    y=tpu_cost_df.loc[tpu_cost_df['System'].isin(label_systems)]['Cost (inflation-adjusted)'],\n",
    "    text=tpu_cost_df.loc[tpu_cost_df['System'].isin(label_systems)]['System'],\n",
    "    mode='text',\n",
    "    showlegend=False,\n",
    ")\n",
    "\n",
    "# Marker color\n",
    "fig.update_traces(\n",
    "    marker=dict(\n",
    "        color='rgb(0,100,200)',\n",
    "    ),\n",
    "    selector=dict(mode='markers'),\n",
    ")\n",
    "\n",
    "# Shade in CI\n",
    "fig.add_scatter(\n",
    "    x=predicted_cost_df['Publication date'],\n",
    "    y=10**predicted_cost_df['mean_ci_lower'],\n",
    "    mode='lines',\n",
    "    line=dict(width=0),\n",
    "    showlegend=False,\n",
    ")\n",
    "fig.add_scatter(\n",
    "    x=predicted_cost_df['Publication date'],\n",
    "    y=10**predicted_cost_df['mean_ci_upper'],\n",
    "    mode='lines',\n",
    "    fill='tonexty',\n",
    "    fillcolor='rgba(0,100,200,0.2)',\n",
    "    line=dict(width=0),\n",
    "    name='95% CI of mean',\n",
    ")\n",
    "fig.add_scatter(\n",
    "    x=predicted_cost_df['Publication date'],\n",
    "    y=10**predicted_cost_df['mean'],\n",
    "    mode='lines',\n",
    "    line=dict(color='rgb(0,100,200)'),\n",
    "    name=f'Regression mean (growth rate: {10**reg_results.params[1]:.1f}x per year)',\n",
    ")\n",
    "\n",
    "fig.update_traces(textposition='top center')\n",
    "\n",
    "# axis limits\n",
    "fig.update_xaxes(range=['2015-01-01', '2025-01-01'])\n",
    "if estimation_method == 'hardware-acquisition':\n",
    "    fig.update_yaxes(range=[4, 10])\n",
    "else:\n",
    "    fig.update_yaxes(range=[1, 9])\n",
    "\n",
    "# legend on bottom-right of the axes\n",
    "fig.update_layout(\n",
    "    legend=dict(\n",
    "        x=0.45,\n",
    "        y=0.05,\n",
    "    )\n",
    ")\n",
    "\n",
    "# axis labels\n",
    "fig.update_xaxes(title_text='Publication date')\n",
    "fig.update_yaxes(title_text='Cost (2023 USD, log scale)')\n",
    "\n",
    "# title\n",
    "fig.update_layout(title_text=get_cost_plot_title(estimation_method, compute_threshold_method, compute_threshold))\n",
    "\n",
    "# update size\n",
    "fig.update_layout(\n",
    "    autosize=False,\n",
    "    width=800,\n",
    "    height=600,\n",
    "    title_font=dict(\n",
    "        size=16,\n",
    "    )\n",
    ")\n",
    "\n",
    "# font size\n",
    "fig.update_layout(\n",
    "    font=dict(\n",
    "        size=14,\n",
    "    )\n",
    ")\n",
    "\n",
    "# axis limits\n",
    "fig.update_xaxes(range=[pred_start_date, pred_end_date])\n",
    "\n",
    "# margins\n",
    "fig.update_layout(margin=dict(l=10, r=10, t=40, b=10))\n",
    "\n",
    "save_plot(fig, results_dir, 'cost_regression')\n",
    "\n",
    "fig.show()"
   ]
  },
  {
   "cell_type": "markdown",
   "metadata": {},
   "source": [
    "# Cost components"
   ]
  },
  {
   "cell_type": "code",
   "execution_count": 580,
   "metadata": {
    "ExecuteTime": {
     "end_time": "2024-05-17T19:15:46.047120500Z",
     "start_time": "2024-05-17T19:15:45.938421800Z"
    }
   },
   "outputs": [],
   "source": [
    "cost_component_names = [\n",
    "    'AI accelerator chip cost',\n",
    "    'Other server components cost',\n",
    "    'Cluster-level interconnect cost',\n",
    "    'Energy cost',\n",
    "]"
   ]
  },
  {
   "cell_type": "code",
   "execution_count": 581,
   "metadata": {
    "ExecuteTime": {
     "end_time": "2024-05-17T19:15:46.172289600Z",
     "start_time": "2024-05-17T19:15:46.048280500Z"
    }
   },
   "outputs": [
    {
     "data": {
      "text/plain": "5       49.745134\n22            NaN\n23      49.454717\n38      44.118938\n72            NaN\n          ...    \n1475          NaN\n1480          NaN\n1482          NaN\n1483          NaN\n1484          NaN\nName: AI accelerator chip cost (%), Length: 73, dtype: float64"
     },
     "execution_count": 581,
     "metadata": {},
     "output_type": "execute_result"
    }
   ],
   "source": [
    "for key in cost_component_names:\n",
    "    component_cost_df[f\"{key} (%)\"] = component_cost_df[key] / component_cost_df['Cost'] * 100\n",
    "component_cost_df['AI accelerator chip cost (%)']"
   ]
  },
  {
   "cell_type": "code",
   "execution_count": 582,
   "metadata": {
    "ExecuteTime": {
     "end_time": "2024-05-17T19:15:46.280362800Z",
     "start_time": "2024-05-17T19:15:46.174490200Z"
    }
   },
   "outputs": [],
   "source": [
    "cost_component_pc_names = [name + ' (%)' for name in cost_component_names]\n",
    "filtered_component_cost_df = component_cost_df.dropna(subset=cost_component_pc_names).sort_values(by='Publication date')"
   ]
  },
  {
   "cell_type": "code",
   "execution_count": 583,
   "metadata": {
    "ExecuteTime": {
     "end_time": "2024-05-17T19:15:46.860523400Z",
     "start_time": "2024-05-17T19:15:46.284650600Z"
    }
   },
   "outputs": [
    {
     "data": {
      "application/vnd.plotly.v1+json": {
       "data": [
        {
         "alignmentgroup": "True",
         "hovertemplate": "variable=AI accelerator chip cost (%)<br>System=%{x}<br>value=%{y}<extra></extra>",
         "legendgroup": "AI accelerator chip cost (%)",
         "marker": {
          "color": "#636efa",
          "pattern": {
           "shape": ""
          }
         },
         "name": "AI accelerator chip cost (%)",
         "offsetgroup": "AI accelerator chip cost (%)",
         "orientation": "v",
         "showlegend": true,
         "textposition": "auto",
         "x": [
          "GNMT",
          "AlphaGo Master",
          "AlphaGo Zero",
          "AlphaZero",
          "Megatron-BERT",
          "T5-11B",
          "AlphaStar",
          "Meena",
          "GPT-3 175B (davinci)",
          "iGPT-XL",
          "DALL-E",
          "Switch",
          "Meta Pseudo Labels",
          "ProtT5-XXL",
          "ByT5-XXL",
          "GOAT",
          "HyperCLOVA",
          "Megatron-Turing NLG 530B",
          "Gopher (280B)",
          "GLaM",
          "GPT-NeoX-20B",
          "LaMDA",
          "PaLM (540B)",
          "Flamingo",
          "OPT-175B",
          "UL2",
          "Parti",
          "Minerva (540B)",
          "AlexaTM 20B",
          "GLM-130B",
          "BlenderBot 3",
          "Flan-PaLM 540B",
          "U-PaLM (540B)",
          "BLOOM-176B",
          "Galactica",
          "GPT-3.5 (text-davinci-003)",
          "ViT-22B",
          "LLaMA-65B",
          "Falcon-40B",
          "GPT-4",
          "BloombergGPT",
          "PaLM 2",
          "xTrimoPGLM -100B",
          "Llama 2-70B",
          "Falcon-180B",
          "Inflection-2",
          "Gemini Ultra",
          "MegaScale (Production)",
          "Inflection-2.5",
          "Llama 3-70B"
         ],
         "xaxis": "x",
         "y": [
          47.246922314303845,
          52.25096300984819,
          52.018093067937144,
          52.322170691662905,
          49.97854580148403,
          50.80222002732572,
          50.832063733276456,
          50.67799518328657,
          48.31465890443375,
          47.76438233525648,
          46.8028153977776,
          49.649230124054405,
          49.46343641915373,
          49.34140280755822,
          49.26818263421996,
          49.07921038948065,
          48.71636612156458,
          49.707515171348184,
          48.64300015262321,
          51.661987109039195,
          48.12938080690958,
          47.83030413790048,
          51.29461030257153,
          51.1929989119661,
          48.748955936286045,
          51.20077680137675,
          51.13765027639883,
          51.28201397437948,
          47.87008617253861,
          47.36247319787515,
          48.273906542460274,
          51.293855149298,
          51.29219684671408,
          47.921362664565635,
          48.11154924784773,
          47.57084852932918,
          50.79474723110727,
          46.789685873906855,
          46.214846480898466,
          47.48128604224707,
          46.108390071473835,
          50.620964710096096,
          46.515673968201504,
          47.484582151955586,
          46.30552328532524,
          49.75369610669109,
          50.48809233768924,
          44.118938327299404,
          49.45471742814976,
          49.745133724635124
         ],
         "yaxis": "y",
         "type": "bar"
        },
        {
         "alignmentgroup": "True",
         "hovertemplate": "variable=Other server components cost (%)<br>System=%{x}<br>value=%{y}<extra></extra>",
         "legendgroup": "Other server components cost (%)",
         "marker": {
          "color": "#EF553B",
          "pattern": {
           "shape": ""
          }
         },
         "name": "Other server components cost (%)",
         "offsetgroup": "Other server components cost (%)",
         "orientation": "v",
         "showlegend": true,
         "textposition": "auto",
         "x": [
          "GNMT",
          "AlphaGo Master",
          "AlphaGo Zero",
          "AlphaZero",
          "Megatron-BERT",
          "T5-11B",
          "AlphaStar",
          "Meena",
          "GPT-3 175B (davinci)",
          "iGPT-XL",
          "DALL-E",
          "Switch",
          "Meta Pseudo Labels",
          "ProtT5-XXL",
          "ByT5-XXL",
          "GOAT",
          "HyperCLOVA",
          "Megatron-Turing NLG 530B",
          "Gopher (280B)",
          "GLaM",
          "GPT-NeoX-20B",
          "LaMDA",
          "PaLM (540B)",
          "Flamingo",
          "OPT-175B",
          "UL2",
          "Parti",
          "Minerva (540B)",
          "AlexaTM 20B",
          "GLM-130B",
          "BlenderBot 3",
          "Flan-PaLM 540B",
          "U-PaLM (540B)",
          "BLOOM-176B",
          "Galactica",
          "GPT-3.5 (text-davinci-003)",
          "ViT-22B",
          "LLaMA-65B",
          "Falcon-40B",
          "GPT-4",
          "BloombergGPT",
          "PaLM 2",
          "xTrimoPGLM -100B",
          "Llama 2-70B",
          "Falcon-180B",
          "Inflection-2",
          "Gemini Ultra",
          "MegaScale (Production)",
          "Inflection-2.5",
          "Llama 3-70B"
         ],
         "xaxis": "x",
         "y": [
          30.238030281154455,
          33.44061632630284,
          33.291579563479765,
          33.48618924266425,
          34.48519660302399,
          32.513420817488445,
          32.532520789296925,
          32.43391691730339,
          33.337114644059284,
          32.95742381132697,
          32.29394262446653,
          31.775507279394816,
          31.656599308258382,
          31.57849779683725,
          31.531636885900767,
          31.410694649267608,
          32.15280164023262,
          32.80696001308981,
          31.131520097678855,
          33.06367174978508,
          31.765391332560323,
          30.6113946482563,
          32.82855059364578,
          32.76351930365829,
          32.174310917948794,
          32.76849715288112,
          32.728096176895235,
          32.82048894360287,
          31.59425687387548,
          31.259232310597586,
          31.860778318023776,
          32.82806729555072,
          32.827005981897,
          31.62809935861331,
          31.753622503579486,
          31.396760029357257,
          32.50863822790865,
          30.88119267677853,
          30.501798677392987,
          31.337648787883065,
          30.43153744717273,
          32.39741741446149,
          30.700344819012987,
          31.339824220290673,
          30.561645368314654,
          31.842365508282295,
          32.31237909612111,
          29.118499296017607,
          31.65101915401585,
          31.836885583766485
         ],
         "yaxis": "y",
         "type": "bar"
        },
        {
         "alignmentgroup": "True",
         "hovertemplate": "variable=Cluster-level interconnect cost (%)<br>System=%{x}<br>value=%{y}<extra></extra>",
         "legendgroup": "Cluster-level interconnect cost (%)",
         "marker": {
          "color": "#00cc96",
          "pattern": {
           "shape": ""
          }
         },
         "name": "Cluster-level interconnect cost (%)",
         "offsetgroup": "Cluster-level interconnect cost (%)",
         "orientation": "v",
         "showlegend": true,
         "textposition": "auto",
         "x": [
          "GNMT",
          "AlphaGo Master",
          "AlphaGo Zero",
          "AlphaZero",
          "Megatron-BERT",
          "T5-11B",
          "AlphaStar",
          "Meena",
          "GPT-3 175B (davinci)",
          "iGPT-XL",
          "DALL-E",
          "Switch",
          "Meta Pseudo Labels",
          "ProtT5-XXL",
          "ByT5-XXL",
          "GOAT",
          "HyperCLOVA",
          "Megatron-Turing NLG 530B",
          "Gopher (280B)",
          "GLaM",
          "GPT-NeoX-20B",
          "LaMDA",
          "PaLM (540B)",
          "Flamingo",
          "OPT-175B",
          "UL2",
          "Parti",
          "Minerva (540B)",
          "AlexaTM 20B",
          "GLM-130B",
          "BlenderBot 3",
          "Flan-PaLM 540B",
          "U-PaLM (540B)",
          "BLOOM-176B",
          "Galactica",
          "GPT-3.5 (text-davinci-003)",
          "ViT-22B",
          "LLaMA-65B",
          "Falcon-40B",
          "GPT-4",
          "BloombergGPT",
          "PaLM 2",
          "xTrimoPGLM -100B",
          "Llama 2-70B",
          "Falcon-180B",
          "Inflection-2",
          "Gemini Ultra",
          "MegaScale (Production)",
          "Inflection-2.5",
          "Llama 3-70B"
         ],
         "xaxis": "x",
         "y": [
          11.622742889318738,
          12.853736900422646,
          12.79645089471253,
          12.871253990149068,
          12.669561360676196,
          12.497346126722118,
          12.504687678386,
          12.466786815088488,
          12.247766032273947,
          12.10827092198751,
          11.86451370333661,
          12.213710610517376,
          12.16800535911181,
          12.137985090659313,
          12.1199729280181,
          12.07348575581223,
          12.130375164269573,
          12.37717127766569,
          11.966178037545303,
          12.708848828823632,
          11.984215820920479,
          11.76625481792351,
          12.618474134432587,
          12.593477732343652,
          12.138490028135218,
          12.595391093138671,
          12.579861967994102,
          12.615375437697343,
          11.919651456962107,
          11.793255826270903,
          12.0202027290726,
          12.618288366727299,
          12.617880424291656,
          11.932419303476834,
          11.979775762714075,
          11.845141283802956,
          12.495507818852381,
          11.650631782602801,
          11.50749677374371,
          11.822840224519513,
          11.480989127796976,
          12.452757318683632,
          11.582402818082167,
          11.823660955836932,
          11.530075298045977,
          12.239409242246001,
          12.420070715071544,
          10.985615643497546,
          12.165860487324835,
          12.237302896260234
         ],
         "yaxis": "y",
         "type": "bar"
        },
        {
         "alignmentgroup": "True",
         "hovertemplate": "variable=Energy cost (%)<br>System=%{x}<br>value=%{y}<extra></extra>",
         "legendgroup": "Energy cost (%)",
         "marker": {
          "color": "#ab63fa",
          "pattern": {
           "shape": ""
          }
         },
         "name": "Energy cost (%)",
         "offsetgroup": "Energy cost (%)",
         "orientation": "v",
         "showlegend": true,
         "textposition": "auto",
         "x": [
          "GNMT",
          "AlphaGo Master",
          "AlphaGo Zero",
          "AlphaZero",
          "Megatron-BERT",
          "T5-11B",
          "AlphaStar",
          "Meena",
          "GPT-3 175B (davinci)",
          "iGPT-XL",
          "DALL-E",
          "Switch",
          "Meta Pseudo Labels",
          "ProtT5-XXL",
          "ByT5-XXL",
          "GOAT",
          "HyperCLOVA",
          "Megatron-Turing NLG 530B",
          "Gopher (280B)",
          "GLaM",
          "GPT-NeoX-20B",
          "LaMDA",
          "PaLM (540B)",
          "Flamingo",
          "OPT-175B",
          "UL2",
          "Parti",
          "Minerva (540B)",
          "AlexaTM 20B",
          "GLM-130B",
          "BlenderBot 3",
          "Flan-PaLM 540B",
          "U-PaLM (540B)",
          "BLOOM-176B",
          "Galactica",
          "GPT-3.5 (text-davinci-003)",
          "ViT-22B",
          "LLaMA-65B",
          "Falcon-40B",
          "GPT-4",
          "BloombergGPT",
          "PaLM 2",
          "xTrimoPGLM -100B",
          "Llama 2-70B",
          "Falcon-180B",
          "Inflection-2",
          "Gemini Ultra",
          "MegaScale (Production)",
          "Inflection-2.5",
          "Llama 3-70B"
         ],
         "xaxis": "x",
         "y": [
          10.89230451522296,
          1.4546837634263263,
          1.8938764738705556,
          1.3203860755237744,
          2.8666962348157785,
          4.187013028463725,
          4.130727799040625,
          4.421301084321529,
          6.1004604192330145,
          7.169922931429042,
          9.038728274419256,
          6.361551986033404,
          6.711958913476086,
          6.942114304945212,
          7.08020755186118,
          7.436609205439519,
          7.000457073933225,
          5.108353537896335,
          8.259301712152643,
          2.565492312352098,
          8.121012039609617,
          9.792046395919716,
          3.2583649693501053,
          3.4500040520319395,
          6.938243117629937,
          3.435334952603469,
          3.554391578711836,
          3.2821216443203136,
          8.616005496623792,
          9.585038665256354,
          7.845112410443352,
          3.259789188423993,
          3.2629167470972504,
          8.51811867334422,
          8.155052485858707,
          9.18725015751062,
          4.201106722131706,
          10.678489666711814,
          11.775858067964842,
          9.358224945350347,
          11.979083353556472,
          4.528860556758773,
          11.20157839470334,
          9.35193267191681,
          11.602756048314115,
          6.1645291427806175,
          4.779457851118111,
          15.776946733185449,
          6.728402930509544,
          6.180677795338166
         ],
         "yaxis": "y",
         "type": "bar"
        }
       ],
       "layout": {
        "template": {
         "data": {
          "histogram2dcontour": [
           {
            "type": "histogram2dcontour",
            "colorbar": {
             "outlinewidth": 0,
             "ticks": ""
            },
            "colorscale": [
             [
              0.0,
              "#0d0887"
             ],
             [
              0.1111111111111111,
              "#46039f"
             ],
             [
              0.2222222222222222,
              "#7201a8"
             ],
             [
              0.3333333333333333,
              "#9c179e"
             ],
             [
              0.4444444444444444,
              "#bd3786"
             ],
             [
              0.5555555555555556,
              "#d8576b"
             ],
             [
              0.6666666666666666,
              "#ed7953"
             ],
             [
              0.7777777777777778,
              "#fb9f3a"
             ],
             [
              0.8888888888888888,
              "#fdca26"
             ],
             [
              1.0,
              "#f0f921"
             ]
            ]
           }
          ],
          "choropleth": [
           {
            "type": "choropleth",
            "colorbar": {
             "outlinewidth": 0,
             "ticks": ""
            }
           }
          ],
          "histogram2d": [
           {
            "type": "histogram2d",
            "colorbar": {
             "outlinewidth": 0,
             "ticks": ""
            },
            "colorscale": [
             [
              0.0,
              "#0d0887"
             ],
             [
              0.1111111111111111,
              "#46039f"
             ],
             [
              0.2222222222222222,
              "#7201a8"
             ],
             [
              0.3333333333333333,
              "#9c179e"
             ],
             [
              0.4444444444444444,
              "#bd3786"
             ],
             [
              0.5555555555555556,
              "#d8576b"
             ],
             [
              0.6666666666666666,
              "#ed7953"
             ],
             [
              0.7777777777777778,
              "#fb9f3a"
             ],
             [
              0.8888888888888888,
              "#fdca26"
             ],
             [
              1.0,
              "#f0f921"
             ]
            ]
           }
          ],
          "heatmap": [
           {
            "type": "heatmap",
            "colorbar": {
             "outlinewidth": 0,
             "ticks": ""
            },
            "colorscale": [
             [
              0.0,
              "#0d0887"
             ],
             [
              0.1111111111111111,
              "#46039f"
             ],
             [
              0.2222222222222222,
              "#7201a8"
             ],
             [
              0.3333333333333333,
              "#9c179e"
             ],
             [
              0.4444444444444444,
              "#bd3786"
             ],
             [
              0.5555555555555556,
              "#d8576b"
             ],
             [
              0.6666666666666666,
              "#ed7953"
             ],
             [
              0.7777777777777778,
              "#fb9f3a"
             ],
             [
              0.8888888888888888,
              "#fdca26"
             ],
             [
              1.0,
              "#f0f921"
             ]
            ]
           }
          ],
          "heatmapgl": [
           {
            "type": "heatmapgl",
            "colorbar": {
             "outlinewidth": 0,
             "ticks": ""
            },
            "colorscale": [
             [
              0.0,
              "#0d0887"
             ],
             [
              0.1111111111111111,
              "#46039f"
             ],
             [
              0.2222222222222222,
              "#7201a8"
             ],
             [
              0.3333333333333333,
              "#9c179e"
             ],
             [
              0.4444444444444444,
              "#bd3786"
             ],
             [
              0.5555555555555556,
              "#d8576b"
             ],
             [
              0.6666666666666666,
              "#ed7953"
             ],
             [
              0.7777777777777778,
              "#fb9f3a"
             ],
             [
              0.8888888888888888,
              "#fdca26"
             ],
             [
              1.0,
              "#f0f921"
             ]
            ]
           }
          ],
          "contourcarpet": [
           {
            "type": "contourcarpet",
            "colorbar": {
             "outlinewidth": 0,
             "ticks": ""
            }
           }
          ],
          "contour": [
           {
            "type": "contour",
            "colorbar": {
             "outlinewidth": 0,
             "ticks": ""
            },
            "colorscale": [
             [
              0.0,
              "#0d0887"
             ],
             [
              0.1111111111111111,
              "#46039f"
             ],
             [
              0.2222222222222222,
              "#7201a8"
             ],
             [
              0.3333333333333333,
              "#9c179e"
             ],
             [
              0.4444444444444444,
              "#bd3786"
             ],
             [
              0.5555555555555556,
              "#d8576b"
             ],
             [
              0.6666666666666666,
              "#ed7953"
             ],
             [
              0.7777777777777778,
              "#fb9f3a"
             ],
             [
              0.8888888888888888,
              "#fdca26"
             ],
             [
              1.0,
              "#f0f921"
             ]
            ]
           }
          ],
          "surface": [
           {
            "type": "surface",
            "colorbar": {
             "outlinewidth": 0,
             "ticks": ""
            },
            "colorscale": [
             [
              0.0,
              "#0d0887"
             ],
             [
              0.1111111111111111,
              "#46039f"
             ],
             [
              0.2222222222222222,
              "#7201a8"
             ],
             [
              0.3333333333333333,
              "#9c179e"
             ],
             [
              0.4444444444444444,
              "#bd3786"
             ],
             [
              0.5555555555555556,
              "#d8576b"
             ],
             [
              0.6666666666666666,
              "#ed7953"
             ],
             [
              0.7777777777777778,
              "#fb9f3a"
             ],
             [
              0.8888888888888888,
              "#fdca26"
             ],
             [
              1.0,
              "#f0f921"
             ]
            ]
           }
          ],
          "mesh3d": [
           {
            "type": "mesh3d",
            "colorbar": {
             "outlinewidth": 0,
             "ticks": ""
            }
           }
          ],
          "scatter": [
           {
            "fillpattern": {
             "fillmode": "overlay",
             "size": 10,
             "solidity": 0.2
            },
            "type": "scatter"
           }
          ],
          "parcoords": [
           {
            "type": "parcoords",
            "line": {
             "colorbar": {
              "outlinewidth": 0,
              "ticks": ""
             }
            }
           }
          ],
          "scatterpolargl": [
           {
            "type": "scatterpolargl",
            "marker": {
             "colorbar": {
              "outlinewidth": 0,
              "ticks": ""
             }
            }
           }
          ],
          "bar": [
           {
            "error_x": {
             "color": "#2a3f5f"
            },
            "error_y": {
             "color": "#2a3f5f"
            },
            "marker": {
             "line": {
              "color": "#E5ECF6",
              "width": 0.5
             },
             "pattern": {
              "fillmode": "overlay",
              "size": 10,
              "solidity": 0.2
             }
            },
            "type": "bar"
           }
          ],
          "scattergeo": [
           {
            "type": "scattergeo",
            "marker": {
             "colorbar": {
              "outlinewidth": 0,
              "ticks": ""
             }
            }
           }
          ],
          "scatterpolar": [
           {
            "type": "scatterpolar",
            "marker": {
             "colorbar": {
              "outlinewidth": 0,
              "ticks": ""
             }
            }
           }
          ],
          "histogram": [
           {
            "marker": {
             "pattern": {
              "fillmode": "overlay",
              "size": 10,
              "solidity": 0.2
             }
            },
            "type": "histogram"
           }
          ],
          "scattergl": [
           {
            "type": "scattergl",
            "marker": {
             "colorbar": {
              "outlinewidth": 0,
              "ticks": ""
             }
            }
           }
          ],
          "scatter3d": [
           {
            "type": "scatter3d",
            "line": {
             "colorbar": {
              "outlinewidth": 0,
              "ticks": ""
             }
            },
            "marker": {
             "colorbar": {
              "outlinewidth": 0,
              "ticks": ""
             }
            }
           }
          ],
          "scattermapbox": [
           {
            "type": "scattermapbox",
            "marker": {
             "colorbar": {
              "outlinewidth": 0,
              "ticks": ""
             }
            }
           }
          ],
          "scatterternary": [
           {
            "type": "scatterternary",
            "marker": {
             "colorbar": {
              "outlinewidth": 0,
              "ticks": ""
             }
            }
           }
          ],
          "scattercarpet": [
           {
            "type": "scattercarpet",
            "marker": {
             "colorbar": {
              "outlinewidth": 0,
              "ticks": ""
             }
            }
           }
          ],
          "carpet": [
           {
            "aaxis": {
             "endlinecolor": "#2a3f5f",
             "gridcolor": "white",
             "linecolor": "white",
             "minorgridcolor": "white",
             "startlinecolor": "#2a3f5f"
            },
            "baxis": {
             "endlinecolor": "#2a3f5f",
             "gridcolor": "white",
             "linecolor": "white",
             "minorgridcolor": "white",
             "startlinecolor": "#2a3f5f"
            },
            "type": "carpet"
           }
          ],
          "table": [
           {
            "cells": {
             "fill": {
              "color": "#EBF0F8"
             },
             "line": {
              "color": "white"
             }
            },
            "header": {
             "fill": {
              "color": "#C8D4E3"
             },
             "line": {
              "color": "white"
             }
            },
            "type": "table"
           }
          ],
          "barpolar": [
           {
            "marker": {
             "line": {
              "color": "#E5ECF6",
              "width": 0.5
             },
             "pattern": {
              "fillmode": "overlay",
              "size": 10,
              "solidity": 0.2
             }
            },
            "type": "barpolar"
           }
          ],
          "pie": [
           {
            "automargin": true,
            "type": "pie"
           }
          ]
         },
         "layout": {
          "autotypenumbers": "strict",
          "colorway": [
           "#636efa",
           "#EF553B",
           "#00cc96",
           "#ab63fa",
           "#FFA15A",
           "#19d3f3",
           "#FF6692",
           "#B6E880",
           "#FF97FF",
           "#FECB52"
          ],
          "font": {
           "color": "#2a3f5f"
          },
          "hovermode": "closest",
          "hoverlabel": {
           "align": "left"
          },
          "paper_bgcolor": "white",
          "plot_bgcolor": "#E5ECF6",
          "polar": {
           "bgcolor": "#E5ECF6",
           "angularaxis": {
            "gridcolor": "white",
            "linecolor": "white",
            "ticks": ""
           },
           "radialaxis": {
            "gridcolor": "white",
            "linecolor": "white",
            "ticks": ""
           }
          },
          "ternary": {
           "bgcolor": "#E5ECF6",
           "aaxis": {
            "gridcolor": "white",
            "linecolor": "white",
            "ticks": ""
           },
           "baxis": {
            "gridcolor": "white",
            "linecolor": "white",
            "ticks": ""
           },
           "caxis": {
            "gridcolor": "white",
            "linecolor": "white",
            "ticks": ""
           }
          },
          "coloraxis": {
           "colorbar": {
            "outlinewidth": 0,
            "ticks": ""
           }
          },
          "colorscale": {
           "sequential": [
            [
             0.0,
             "#0d0887"
            ],
            [
             0.1111111111111111,
             "#46039f"
            ],
            [
             0.2222222222222222,
             "#7201a8"
            ],
            [
             0.3333333333333333,
             "#9c179e"
            ],
            [
             0.4444444444444444,
             "#bd3786"
            ],
            [
             0.5555555555555556,
             "#d8576b"
            ],
            [
             0.6666666666666666,
             "#ed7953"
            ],
            [
             0.7777777777777778,
             "#fb9f3a"
            ],
            [
             0.8888888888888888,
             "#fdca26"
            ],
            [
             1.0,
             "#f0f921"
            ]
           ],
           "sequentialminus": [
            [
             0.0,
             "#0d0887"
            ],
            [
             0.1111111111111111,
             "#46039f"
            ],
            [
             0.2222222222222222,
             "#7201a8"
            ],
            [
             0.3333333333333333,
             "#9c179e"
            ],
            [
             0.4444444444444444,
             "#bd3786"
            ],
            [
             0.5555555555555556,
             "#d8576b"
            ],
            [
             0.6666666666666666,
             "#ed7953"
            ],
            [
             0.7777777777777778,
             "#fb9f3a"
            ],
            [
             0.8888888888888888,
             "#fdca26"
            ],
            [
             1.0,
             "#f0f921"
            ]
           ],
           "diverging": [
            [
             0,
             "#8e0152"
            ],
            [
             0.1,
             "#c51b7d"
            ],
            [
             0.2,
             "#de77ae"
            ],
            [
             0.3,
             "#f1b6da"
            ],
            [
             0.4,
             "#fde0ef"
            ],
            [
             0.5,
             "#f7f7f7"
            ],
            [
             0.6,
             "#e6f5d0"
            ],
            [
             0.7,
             "#b8e186"
            ],
            [
             0.8,
             "#7fbc41"
            ],
            [
             0.9,
             "#4d9221"
            ],
            [
             1,
             "#276419"
            ]
           ]
          },
          "xaxis": {
           "gridcolor": "white",
           "linecolor": "white",
           "ticks": "",
           "title": {
            "standoff": 15
           },
           "zerolinecolor": "white",
           "automargin": true,
           "zerolinewidth": 2
          },
          "yaxis": {
           "gridcolor": "white",
           "linecolor": "white",
           "ticks": "",
           "title": {
            "standoff": 15
           },
           "zerolinecolor": "white",
           "automargin": true,
           "zerolinewidth": 2
          },
          "scene": {
           "xaxis": {
            "backgroundcolor": "#E5ECF6",
            "gridcolor": "white",
            "linecolor": "white",
            "showbackground": true,
            "ticks": "",
            "zerolinecolor": "white",
            "gridwidth": 2
           },
           "yaxis": {
            "backgroundcolor": "#E5ECF6",
            "gridcolor": "white",
            "linecolor": "white",
            "showbackground": true,
            "ticks": "",
            "zerolinecolor": "white",
            "gridwidth": 2
           },
           "zaxis": {
            "backgroundcolor": "#E5ECF6",
            "gridcolor": "white",
            "linecolor": "white",
            "showbackground": true,
            "ticks": "",
            "zerolinecolor": "white",
            "gridwidth": 2
           }
          },
          "shapedefaults": {
           "line": {
            "color": "#2a3f5f"
           }
          },
          "annotationdefaults": {
           "arrowcolor": "#2a3f5f",
           "arrowhead": 0,
           "arrowwidth": 1
          },
          "geo": {
           "bgcolor": "white",
           "landcolor": "#E5ECF6",
           "subunitcolor": "white",
           "showland": true,
           "showlakes": true,
           "lakecolor": "white"
          },
          "title": {
           "x": 0.05
          },
          "mapbox": {
           "style": "light"
          }
         }
        },
        "xaxis": {
         "anchor": "y",
         "domain": [
          0.0,
          1.0
         ],
         "title": {
          "text": "ML model"
         }
        },
        "yaxis": {
         "anchor": "x",
         "domain": [
          0.0,
          1.0
         ],
         "title": {
          "text": "% of hardware CapEx + OpEx"
         },
         "range": [
          0,
          100
         ],
         "tickvals": [
          0,
          10,
          20,
          30,
          40,
          50,
          60,
          70,
          80,
          90,
          100
         ]
        },
        "legend": {
         "title": {
          "text": "Cost component"
         },
         "tracegroupgap": 0,
         "x": 0.6,
         "y": 0.05
        },
        "margin": {
         "t": 40,
         "l": 10,
         "r": 10,
         "b": 10
        },
        "barmode": "stack",
        "autosize": false,
        "width": 800,
        "height": 600
       },
       "config": {
        "plotlyServerURL": "https://plot.ly"
       }
      },
      "text/html": "<div>                            <div id=\"36bc0b5c-f906-45ce-978c-ff1ad7ee2d16\" class=\"plotly-graph-div\" style=\"height:600px; width:800px;\"></div>            <script type=\"text/javascript\">                require([\"plotly\"], function(Plotly) {                    window.PLOTLYENV=window.PLOTLYENV || {};                                    if (document.getElementById(\"36bc0b5c-f906-45ce-978c-ff1ad7ee2d16\")) {                    Plotly.newPlot(                        \"36bc0b5c-f906-45ce-978c-ff1ad7ee2d16\",                        [{\"alignmentgroup\":\"True\",\"hovertemplate\":\"variable=AI accelerator chip cost (%)<br>System=%{x}<br>value=%{y}<extra></extra>\",\"legendgroup\":\"AI accelerator chip cost (%)\",\"marker\":{\"color\":\"#636efa\",\"pattern\":{\"shape\":\"\"}},\"name\":\"AI accelerator chip cost (%)\",\"offsetgroup\":\"AI accelerator chip cost (%)\",\"orientation\":\"v\",\"showlegend\":true,\"textposition\":\"auto\",\"x\":[\"GNMT\",\"AlphaGo Master\",\"AlphaGo Zero\",\"AlphaZero\",\"Megatron-BERT\",\"T5-11B\",\"AlphaStar\",\"Meena\",\"GPT-3 175B (davinci)\",\"iGPT-XL\",\"DALL-E\",\"Switch\",\"Meta Pseudo Labels\",\"ProtT5-XXL\",\"ByT5-XXL\",\"GOAT\",\"HyperCLOVA\",\"Megatron-Turing NLG 530B\",\"Gopher (280B)\",\"GLaM\",\"GPT-NeoX-20B\",\"LaMDA\",\"PaLM (540B)\",\"Flamingo\",\"OPT-175B\",\"UL2\",\"Parti\",\"Minerva (540B)\",\"AlexaTM 20B\",\"GLM-130B\",\"BlenderBot 3\",\"Flan-PaLM 540B\",\"U-PaLM (540B)\",\"BLOOM-176B\",\"Galactica\",\"GPT-3.5 (text-davinci-003)\",\"ViT-22B\",\"LLaMA-65B\",\"Falcon-40B\",\"GPT-4\",\"BloombergGPT\",\"PaLM 2\",\"xTrimoPGLM -100B\",\"Llama 2-70B\",\"Falcon-180B\",\"Inflection-2\",\"Gemini Ultra\",\"MegaScale (Production)\",\"Inflection-2.5\",\"Llama 3-70B\"],\"xaxis\":\"x\",\"y\":[47.246922314303845,52.25096300984819,52.018093067937144,52.322170691662905,49.97854580148403,50.80222002732572,50.832063733276456,50.67799518328657,48.31465890443375,47.76438233525648,46.8028153977776,49.649230124054405,49.46343641915373,49.34140280755822,49.26818263421996,49.07921038948065,48.71636612156458,49.707515171348184,48.64300015262321,51.661987109039195,48.12938080690958,47.83030413790048,51.29461030257153,51.1929989119661,48.748955936286045,51.20077680137675,51.13765027639883,51.28201397437948,47.87008617253861,47.36247319787515,48.273906542460274,51.293855149298,51.29219684671408,47.921362664565635,48.11154924784773,47.57084852932918,50.79474723110727,46.789685873906855,46.214846480898466,47.48128604224707,46.108390071473835,50.620964710096096,46.515673968201504,47.484582151955586,46.30552328532524,49.75369610669109,50.48809233768924,44.118938327299404,49.45471742814976,49.745133724635124],\"yaxis\":\"y\",\"type\":\"bar\"},{\"alignmentgroup\":\"True\",\"hovertemplate\":\"variable=Other server components cost (%)<br>System=%{x}<br>value=%{y}<extra></extra>\",\"legendgroup\":\"Other server components cost (%)\",\"marker\":{\"color\":\"#EF553B\",\"pattern\":{\"shape\":\"\"}},\"name\":\"Other server components cost (%)\",\"offsetgroup\":\"Other server components cost (%)\",\"orientation\":\"v\",\"showlegend\":true,\"textposition\":\"auto\",\"x\":[\"GNMT\",\"AlphaGo Master\",\"AlphaGo Zero\",\"AlphaZero\",\"Megatron-BERT\",\"T5-11B\",\"AlphaStar\",\"Meena\",\"GPT-3 175B (davinci)\",\"iGPT-XL\",\"DALL-E\",\"Switch\",\"Meta Pseudo Labels\",\"ProtT5-XXL\",\"ByT5-XXL\",\"GOAT\",\"HyperCLOVA\",\"Megatron-Turing NLG 530B\",\"Gopher (280B)\",\"GLaM\",\"GPT-NeoX-20B\",\"LaMDA\",\"PaLM (540B)\",\"Flamingo\",\"OPT-175B\",\"UL2\",\"Parti\",\"Minerva (540B)\",\"AlexaTM 20B\",\"GLM-130B\",\"BlenderBot 3\",\"Flan-PaLM 540B\",\"U-PaLM (540B)\",\"BLOOM-176B\",\"Galactica\",\"GPT-3.5 (text-davinci-003)\",\"ViT-22B\",\"LLaMA-65B\",\"Falcon-40B\",\"GPT-4\",\"BloombergGPT\",\"PaLM 2\",\"xTrimoPGLM -100B\",\"Llama 2-70B\",\"Falcon-180B\",\"Inflection-2\",\"Gemini Ultra\",\"MegaScale (Production)\",\"Inflection-2.5\",\"Llama 3-70B\"],\"xaxis\":\"x\",\"y\":[30.238030281154455,33.44061632630284,33.291579563479765,33.48618924266425,34.48519660302399,32.513420817488445,32.532520789296925,32.43391691730339,33.337114644059284,32.95742381132697,32.29394262446653,31.775507279394816,31.656599308258382,31.57849779683725,31.531636885900767,31.410694649267608,32.15280164023262,32.80696001308981,31.131520097678855,33.06367174978508,31.765391332560323,30.6113946482563,32.82855059364578,32.76351930365829,32.174310917948794,32.76849715288112,32.728096176895235,32.82048894360287,31.59425687387548,31.259232310597586,31.860778318023776,32.82806729555072,32.827005981897,31.62809935861331,31.753622503579486,31.396760029357257,32.50863822790865,30.88119267677853,30.501798677392987,31.337648787883065,30.43153744717273,32.39741741446149,30.700344819012987,31.339824220290673,30.561645368314654,31.842365508282295,32.31237909612111,29.118499296017607,31.65101915401585,31.836885583766485],\"yaxis\":\"y\",\"type\":\"bar\"},{\"alignmentgroup\":\"True\",\"hovertemplate\":\"variable=Cluster-level interconnect cost (%)<br>System=%{x}<br>value=%{y}<extra></extra>\",\"legendgroup\":\"Cluster-level interconnect cost (%)\",\"marker\":{\"color\":\"#00cc96\",\"pattern\":{\"shape\":\"\"}},\"name\":\"Cluster-level interconnect cost (%)\",\"offsetgroup\":\"Cluster-level interconnect cost (%)\",\"orientation\":\"v\",\"showlegend\":true,\"textposition\":\"auto\",\"x\":[\"GNMT\",\"AlphaGo Master\",\"AlphaGo Zero\",\"AlphaZero\",\"Megatron-BERT\",\"T5-11B\",\"AlphaStar\",\"Meena\",\"GPT-3 175B (davinci)\",\"iGPT-XL\",\"DALL-E\",\"Switch\",\"Meta Pseudo Labels\",\"ProtT5-XXL\",\"ByT5-XXL\",\"GOAT\",\"HyperCLOVA\",\"Megatron-Turing NLG 530B\",\"Gopher (280B)\",\"GLaM\",\"GPT-NeoX-20B\",\"LaMDA\",\"PaLM (540B)\",\"Flamingo\",\"OPT-175B\",\"UL2\",\"Parti\",\"Minerva (540B)\",\"AlexaTM 20B\",\"GLM-130B\",\"BlenderBot 3\",\"Flan-PaLM 540B\",\"U-PaLM (540B)\",\"BLOOM-176B\",\"Galactica\",\"GPT-3.5 (text-davinci-003)\",\"ViT-22B\",\"LLaMA-65B\",\"Falcon-40B\",\"GPT-4\",\"BloombergGPT\",\"PaLM 2\",\"xTrimoPGLM -100B\",\"Llama 2-70B\",\"Falcon-180B\",\"Inflection-2\",\"Gemini Ultra\",\"MegaScale (Production)\",\"Inflection-2.5\",\"Llama 3-70B\"],\"xaxis\":\"x\",\"y\":[11.622742889318738,12.853736900422646,12.79645089471253,12.871253990149068,12.669561360676196,12.497346126722118,12.504687678386,12.466786815088488,12.247766032273947,12.10827092198751,11.86451370333661,12.213710610517376,12.16800535911181,12.137985090659313,12.1199729280181,12.07348575581223,12.130375164269573,12.37717127766569,11.966178037545303,12.708848828823632,11.984215820920479,11.76625481792351,12.618474134432587,12.593477732343652,12.138490028135218,12.595391093138671,12.579861967994102,12.615375437697343,11.919651456962107,11.793255826270903,12.0202027290726,12.618288366727299,12.617880424291656,11.932419303476834,11.979775762714075,11.845141283802956,12.495507818852381,11.650631782602801,11.50749677374371,11.822840224519513,11.480989127796976,12.452757318683632,11.582402818082167,11.823660955836932,11.530075298045977,12.239409242246001,12.420070715071544,10.985615643497546,12.165860487324835,12.237302896260234],\"yaxis\":\"y\",\"type\":\"bar\"},{\"alignmentgroup\":\"True\",\"hovertemplate\":\"variable=Energy cost (%)<br>System=%{x}<br>value=%{y}<extra></extra>\",\"legendgroup\":\"Energy cost (%)\",\"marker\":{\"color\":\"#ab63fa\",\"pattern\":{\"shape\":\"\"}},\"name\":\"Energy cost (%)\",\"offsetgroup\":\"Energy cost (%)\",\"orientation\":\"v\",\"showlegend\":true,\"textposition\":\"auto\",\"x\":[\"GNMT\",\"AlphaGo Master\",\"AlphaGo Zero\",\"AlphaZero\",\"Megatron-BERT\",\"T5-11B\",\"AlphaStar\",\"Meena\",\"GPT-3 175B (davinci)\",\"iGPT-XL\",\"DALL-E\",\"Switch\",\"Meta Pseudo Labels\",\"ProtT5-XXL\",\"ByT5-XXL\",\"GOAT\",\"HyperCLOVA\",\"Megatron-Turing NLG 530B\",\"Gopher (280B)\",\"GLaM\",\"GPT-NeoX-20B\",\"LaMDA\",\"PaLM (540B)\",\"Flamingo\",\"OPT-175B\",\"UL2\",\"Parti\",\"Minerva (540B)\",\"AlexaTM 20B\",\"GLM-130B\",\"BlenderBot 3\",\"Flan-PaLM 540B\",\"U-PaLM (540B)\",\"BLOOM-176B\",\"Galactica\",\"GPT-3.5 (text-davinci-003)\",\"ViT-22B\",\"LLaMA-65B\",\"Falcon-40B\",\"GPT-4\",\"BloombergGPT\",\"PaLM 2\",\"xTrimoPGLM -100B\",\"Llama 2-70B\",\"Falcon-180B\",\"Inflection-2\",\"Gemini Ultra\",\"MegaScale (Production)\",\"Inflection-2.5\",\"Llama 3-70B\"],\"xaxis\":\"x\",\"y\":[10.89230451522296,1.4546837634263263,1.8938764738705556,1.3203860755237744,2.8666962348157785,4.187013028463725,4.130727799040625,4.421301084321529,6.1004604192330145,7.169922931429042,9.038728274419256,6.361551986033404,6.711958913476086,6.942114304945212,7.08020755186118,7.436609205439519,7.000457073933225,5.108353537896335,8.259301712152643,2.565492312352098,8.121012039609617,9.792046395919716,3.2583649693501053,3.4500040520319395,6.938243117629937,3.435334952603469,3.554391578711836,3.2821216443203136,8.616005496623792,9.585038665256354,7.845112410443352,3.259789188423993,3.2629167470972504,8.51811867334422,8.155052485858707,9.18725015751062,4.201106722131706,10.678489666711814,11.775858067964842,9.358224945350347,11.979083353556472,4.528860556758773,11.20157839470334,9.35193267191681,11.602756048314115,6.1645291427806175,4.779457851118111,15.776946733185449,6.728402930509544,6.180677795338166],\"yaxis\":\"y\",\"type\":\"bar\"}],                        {\"template\":{\"data\":{\"histogram2dcontour\":[{\"type\":\"histogram2dcontour\",\"colorbar\":{\"outlinewidth\":0,\"ticks\":\"\"},\"colorscale\":[[0.0,\"#0d0887\"],[0.1111111111111111,\"#46039f\"],[0.2222222222222222,\"#7201a8\"],[0.3333333333333333,\"#9c179e\"],[0.4444444444444444,\"#bd3786\"],[0.5555555555555556,\"#d8576b\"],[0.6666666666666666,\"#ed7953\"],[0.7777777777777778,\"#fb9f3a\"],[0.8888888888888888,\"#fdca26\"],[1.0,\"#f0f921\"]]}],\"choropleth\":[{\"type\":\"choropleth\",\"colorbar\":{\"outlinewidth\":0,\"ticks\":\"\"}}],\"histogram2d\":[{\"type\":\"histogram2d\",\"colorbar\":{\"outlinewidth\":0,\"ticks\":\"\"},\"colorscale\":[[0.0,\"#0d0887\"],[0.1111111111111111,\"#46039f\"],[0.2222222222222222,\"#7201a8\"],[0.3333333333333333,\"#9c179e\"],[0.4444444444444444,\"#bd3786\"],[0.5555555555555556,\"#d8576b\"],[0.6666666666666666,\"#ed7953\"],[0.7777777777777778,\"#fb9f3a\"],[0.8888888888888888,\"#fdca26\"],[1.0,\"#f0f921\"]]}],\"heatmap\":[{\"type\":\"heatmap\",\"colorbar\":{\"outlinewidth\":0,\"ticks\":\"\"},\"colorscale\":[[0.0,\"#0d0887\"],[0.1111111111111111,\"#46039f\"],[0.2222222222222222,\"#7201a8\"],[0.3333333333333333,\"#9c179e\"],[0.4444444444444444,\"#bd3786\"],[0.5555555555555556,\"#d8576b\"],[0.6666666666666666,\"#ed7953\"],[0.7777777777777778,\"#fb9f3a\"],[0.8888888888888888,\"#fdca26\"],[1.0,\"#f0f921\"]]}],\"heatmapgl\":[{\"type\":\"heatmapgl\",\"colorbar\":{\"outlinewidth\":0,\"ticks\":\"\"},\"colorscale\":[[0.0,\"#0d0887\"],[0.1111111111111111,\"#46039f\"],[0.2222222222222222,\"#7201a8\"],[0.3333333333333333,\"#9c179e\"],[0.4444444444444444,\"#bd3786\"],[0.5555555555555556,\"#d8576b\"],[0.6666666666666666,\"#ed7953\"],[0.7777777777777778,\"#fb9f3a\"],[0.8888888888888888,\"#fdca26\"],[1.0,\"#f0f921\"]]}],\"contourcarpet\":[{\"type\":\"contourcarpet\",\"colorbar\":{\"outlinewidth\":0,\"ticks\":\"\"}}],\"contour\":[{\"type\":\"contour\",\"colorbar\":{\"outlinewidth\":0,\"ticks\":\"\"},\"colorscale\":[[0.0,\"#0d0887\"],[0.1111111111111111,\"#46039f\"],[0.2222222222222222,\"#7201a8\"],[0.3333333333333333,\"#9c179e\"],[0.4444444444444444,\"#bd3786\"],[0.5555555555555556,\"#d8576b\"],[0.6666666666666666,\"#ed7953\"],[0.7777777777777778,\"#fb9f3a\"],[0.8888888888888888,\"#fdca26\"],[1.0,\"#f0f921\"]]}],\"surface\":[{\"type\":\"surface\",\"colorbar\":{\"outlinewidth\":0,\"ticks\":\"\"},\"colorscale\":[[0.0,\"#0d0887\"],[0.1111111111111111,\"#46039f\"],[0.2222222222222222,\"#7201a8\"],[0.3333333333333333,\"#9c179e\"],[0.4444444444444444,\"#bd3786\"],[0.5555555555555556,\"#d8576b\"],[0.6666666666666666,\"#ed7953\"],[0.7777777777777778,\"#fb9f3a\"],[0.8888888888888888,\"#fdca26\"],[1.0,\"#f0f921\"]]}],\"mesh3d\":[{\"type\":\"mesh3d\",\"colorbar\":{\"outlinewidth\":0,\"ticks\":\"\"}}],\"scatter\":[{\"fillpattern\":{\"fillmode\":\"overlay\",\"size\":10,\"solidity\":0.2},\"type\":\"scatter\"}],\"parcoords\":[{\"type\":\"parcoords\",\"line\":{\"colorbar\":{\"outlinewidth\":0,\"ticks\":\"\"}}}],\"scatterpolargl\":[{\"type\":\"scatterpolargl\",\"marker\":{\"colorbar\":{\"outlinewidth\":0,\"ticks\":\"\"}}}],\"bar\":[{\"error_x\":{\"color\":\"#2a3f5f\"},\"error_y\":{\"color\":\"#2a3f5f\"},\"marker\":{\"line\":{\"color\":\"#E5ECF6\",\"width\":0.5},\"pattern\":{\"fillmode\":\"overlay\",\"size\":10,\"solidity\":0.2}},\"type\":\"bar\"}],\"scattergeo\":[{\"type\":\"scattergeo\",\"marker\":{\"colorbar\":{\"outlinewidth\":0,\"ticks\":\"\"}}}],\"scatterpolar\":[{\"type\":\"scatterpolar\",\"marker\":{\"colorbar\":{\"outlinewidth\":0,\"ticks\":\"\"}}}],\"histogram\":[{\"marker\":{\"pattern\":{\"fillmode\":\"overlay\",\"size\":10,\"solidity\":0.2}},\"type\":\"histogram\"}],\"scattergl\":[{\"type\":\"scattergl\",\"marker\":{\"colorbar\":{\"outlinewidth\":0,\"ticks\":\"\"}}}],\"scatter3d\":[{\"type\":\"scatter3d\",\"line\":{\"colorbar\":{\"outlinewidth\":0,\"ticks\":\"\"}},\"marker\":{\"colorbar\":{\"outlinewidth\":0,\"ticks\":\"\"}}}],\"scattermapbox\":[{\"type\":\"scattermapbox\",\"marker\":{\"colorbar\":{\"outlinewidth\":0,\"ticks\":\"\"}}}],\"scatterternary\":[{\"type\":\"scatterternary\",\"marker\":{\"colorbar\":{\"outlinewidth\":0,\"ticks\":\"\"}}}],\"scattercarpet\":[{\"type\":\"scattercarpet\",\"marker\":{\"colorbar\":{\"outlinewidth\":0,\"ticks\":\"\"}}}],\"carpet\":[{\"aaxis\":{\"endlinecolor\":\"#2a3f5f\",\"gridcolor\":\"white\",\"linecolor\":\"white\",\"minorgridcolor\":\"white\",\"startlinecolor\":\"#2a3f5f\"},\"baxis\":{\"endlinecolor\":\"#2a3f5f\",\"gridcolor\":\"white\",\"linecolor\":\"white\",\"minorgridcolor\":\"white\",\"startlinecolor\":\"#2a3f5f\"},\"type\":\"carpet\"}],\"table\":[{\"cells\":{\"fill\":{\"color\":\"#EBF0F8\"},\"line\":{\"color\":\"white\"}},\"header\":{\"fill\":{\"color\":\"#C8D4E3\"},\"line\":{\"color\":\"white\"}},\"type\":\"table\"}],\"barpolar\":[{\"marker\":{\"line\":{\"color\":\"#E5ECF6\",\"width\":0.5},\"pattern\":{\"fillmode\":\"overlay\",\"size\":10,\"solidity\":0.2}},\"type\":\"barpolar\"}],\"pie\":[{\"automargin\":true,\"type\":\"pie\"}]},\"layout\":{\"autotypenumbers\":\"strict\",\"colorway\":[\"#636efa\",\"#EF553B\",\"#00cc96\",\"#ab63fa\",\"#FFA15A\",\"#19d3f3\",\"#FF6692\",\"#B6E880\",\"#FF97FF\",\"#FECB52\"],\"font\":{\"color\":\"#2a3f5f\"},\"hovermode\":\"closest\",\"hoverlabel\":{\"align\":\"left\"},\"paper_bgcolor\":\"white\",\"plot_bgcolor\":\"#E5ECF6\",\"polar\":{\"bgcolor\":\"#E5ECF6\",\"angularaxis\":{\"gridcolor\":\"white\",\"linecolor\":\"white\",\"ticks\":\"\"},\"radialaxis\":{\"gridcolor\":\"white\",\"linecolor\":\"white\",\"ticks\":\"\"}},\"ternary\":{\"bgcolor\":\"#E5ECF6\",\"aaxis\":{\"gridcolor\":\"white\",\"linecolor\":\"white\",\"ticks\":\"\"},\"baxis\":{\"gridcolor\":\"white\",\"linecolor\":\"white\",\"ticks\":\"\"},\"caxis\":{\"gridcolor\":\"white\",\"linecolor\":\"white\",\"ticks\":\"\"}},\"coloraxis\":{\"colorbar\":{\"outlinewidth\":0,\"ticks\":\"\"}},\"colorscale\":{\"sequential\":[[0.0,\"#0d0887\"],[0.1111111111111111,\"#46039f\"],[0.2222222222222222,\"#7201a8\"],[0.3333333333333333,\"#9c179e\"],[0.4444444444444444,\"#bd3786\"],[0.5555555555555556,\"#d8576b\"],[0.6666666666666666,\"#ed7953\"],[0.7777777777777778,\"#fb9f3a\"],[0.8888888888888888,\"#fdca26\"],[1.0,\"#f0f921\"]],\"sequentialminus\":[[0.0,\"#0d0887\"],[0.1111111111111111,\"#46039f\"],[0.2222222222222222,\"#7201a8\"],[0.3333333333333333,\"#9c179e\"],[0.4444444444444444,\"#bd3786\"],[0.5555555555555556,\"#d8576b\"],[0.6666666666666666,\"#ed7953\"],[0.7777777777777778,\"#fb9f3a\"],[0.8888888888888888,\"#fdca26\"],[1.0,\"#f0f921\"]],\"diverging\":[[0,\"#8e0152\"],[0.1,\"#c51b7d\"],[0.2,\"#de77ae\"],[0.3,\"#f1b6da\"],[0.4,\"#fde0ef\"],[0.5,\"#f7f7f7\"],[0.6,\"#e6f5d0\"],[0.7,\"#b8e186\"],[0.8,\"#7fbc41\"],[0.9,\"#4d9221\"],[1,\"#276419\"]]},\"xaxis\":{\"gridcolor\":\"white\",\"linecolor\":\"white\",\"ticks\":\"\",\"title\":{\"standoff\":15},\"zerolinecolor\":\"white\",\"automargin\":true,\"zerolinewidth\":2},\"yaxis\":{\"gridcolor\":\"white\",\"linecolor\":\"white\",\"ticks\":\"\",\"title\":{\"standoff\":15},\"zerolinecolor\":\"white\",\"automargin\":true,\"zerolinewidth\":2},\"scene\":{\"xaxis\":{\"backgroundcolor\":\"#E5ECF6\",\"gridcolor\":\"white\",\"linecolor\":\"white\",\"showbackground\":true,\"ticks\":\"\",\"zerolinecolor\":\"white\",\"gridwidth\":2},\"yaxis\":{\"backgroundcolor\":\"#E5ECF6\",\"gridcolor\":\"white\",\"linecolor\":\"white\",\"showbackground\":true,\"ticks\":\"\",\"zerolinecolor\":\"white\",\"gridwidth\":2},\"zaxis\":{\"backgroundcolor\":\"#E5ECF6\",\"gridcolor\":\"white\",\"linecolor\":\"white\",\"showbackground\":true,\"ticks\":\"\",\"zerolinecolor\":\"white\",\"gridwidth\":2}},\"shapedefaults\":{\"line\":{\"color\":\"#2a3f5f\"}},\"annotationdefaults\":{\"arrowcolor\":\"#2a3f5f\",\"arrowhead\":0,\"arrowwidth\":1},\"geo\":{\"bgcolor\":\"white\",\"landcolor\":\"#E5ECF6\",\"subunitcolor\":\"white\",\"showland\":true,\"showlakes\":true,\"lakecolor\":\"white\"},\"title\":{\"x\":0.05},\"mapbox\":{\"style\":\"light\"}}},\"xaxis\":{\"anchor\":\"y\",\"domain\":[0.0,1.0],\"title\":{\"text\":\"ML model\"}},\"yaxis\":{\"anchor\":\"x\",\"domain\":[0.0,1.0],\"title\":{\"text\":\"% of hardware CapEx + OpEx\"},\"range\":[0,100],\"tickvals\":[0,10,20,30,40,50,60,70,80,90,100]},\"legend\":{\"title\":{\"text\":\"Cost component\"},\"tracegroupgap\":0,\"x\":0.6,\"y\":0.05},\"margin\":{\"t\":40,\"l\":10,\"r\":10,\"b\":10},\"barmode\":\"stack\",\"autosize\":false,\"width\":800,\"height\":600},                        {\"responsive\": true}                    ).then(function(){\n                            \nvar gd = document.getElementById('36bc0b5c-f906-45ce-978c-ff1ad7ee2d16');\nvar x = new MutationObserver(function (mutations, observer) {{\n        var display = window.getComputedStyle(gd).display;\n        if (!display || display === 'none') {{\n            console.log([gd, 'removed!']);\n            Plotly.purge(gd);\n            observer.disconnect();\n        }}\n}});\n\n// Listen for the removal of the full notebook cells\nvar notebookContainer = gd.closest('#notebook-container');\nif (notebookContainer) {{\n    x.observe(notebookContainer, {childList: true});\n}}\n\n// Listen for the clearing of the current output cell\nvar outputEl = gd.closest('.output');\nif (outputEl) {{\n    x.observe(outputEl, {childList: true});\n}}\n\n                        })                };                });            </script>        </div>"
     },
     "metadata": {},
     "output_type": "display_data"
    }
   ],
   "source": [
    "# Stacked bar chart of cost components, using component_cost_df\n",
    "fig = px.bar(\n",
    "    filtered_component_cost_df,\n",
    "    x='System',\n",
    "    y=cost_component_pc_names,\n",
    "    barmode='stack',\n",
    ")\n",
    "\n",
    "# axis labels\n",
    "fig.update_xaxes(title_text='ML model')\n",
    "fig.update_yaxes(title_text='% of hardware CapEx + OpEx')\n",
    "fig.update_layout(\n",
    "    legend=dict(\n",
    "        title_text='Cost component',\n",
    "        x=0.60,\n",
    "        y=0.05,\n",
    "    )\n",
    ")\n",
    "# limits 0 to 100\n",
    "fig.update_yaxes(range=[0, 100])\n",
    "\n",
    "fig.update_yaxes(tickvals=list(range(0, 101, 10)))\n",
    "\n",
    "# size\n",
    "fig.update_layout(\n",
    "    autosize=False,\n",
    "    width=800,\n",
    "    height=600,\n",
    ")\n",
    "\n",
    "# margins\n",
    "fig.update_layout(margin=dict(l=10, r=10, t=40, b=10))\n",
    "\n",
    "save_plot(fig, results_dir, 'cost_component_percentage')\n",
    "\n",
    "fig.show()"
   ]
  },
  {
   "cell_type": "code",
   "execution_count": 584,
   "metadata": {
    "ExecuteTime": {
     "end_time": "2024-05-17T19:15:47.309067700Z",
     "start_time": "2024-05-17T19:15:46.864509100Z"
    }
   },
   "outputs": [
    {
     "data": {
      "application/vnd.plotly.v1+json": {
       "data": [
        {
         "alignmentgroup": "True",
         "hovertemplate": "System=%{x}<br>Energy cost (%)=%{y}<extra></extra>",
         "legendgroup": "",
         "marker": {
          "color": "#636efa",
          "pattern": {
           "shape": ""
          }
         },
         "name": "",
         "offsetgroup": "",
         "orientation": "v",
         "showlegend": false,
         "textposition": "auto",
         "x": [
          "GNMT",
          "AlphaGo Master",
          "AlphaGo Zero",
          "AlphaZero",
          "Megatron-BERT",
          "T5-11B",
          "AlphaStar",
          "Meena",
          "GPT-3 175B (davinci)",
          "iGPT-XL",
          "DALL-E",
          "Switch",
          "Meta Pseudo Labels",
          "ProtT5-XXL",
          "ByT5-XXL",
          "GOAT",
          "HyperCLOVA",
          "Megatron-Turing NLG 530B",
          "Gopher (280B)",
          "GLaM",
          "GPT-NeoX-20B",
          "LaMDA",
          "PaLM (540B)",
          "Flamingo",
          "OPT-175B",
          "UL2",
          "Parti",
          "Minerva (540B)",
          "AlexaTM 20B",
          "GLM-130B",
          "BlenderBot 3",
          "Flan-PaLM 540B",
          "U-PaLM (540B)",
          "BLOOM-176B",
          "Galactica",
          "GPT-3.5 (text-davinci-003)",
          "ViT-22B",
          "LLaMA-65B",
          "Falcon-40B",
          "GPT-4",
          "BloombergGPT",
          "PaLM 2",
          "xTrimoPGLM -100B",
          "Llama 2-70B",
          "Falcon-180B",
          "Inflection-2",
          "Gemini Ultra",
          "MegaScale (Production)",
          "Inflection-2.5",
          "Llama 3-70B"
         ],
         "xaxis": "x",
         "y": [
          10.89230451522296,
          1.4546837634263263,
          1.8938764738705556,
          1.3203860755237744,
          2.8666962348157785,
          4.187013028463725,
          4.130727799040625,
          4.421301084321529,
          6.1004604192330145,
          7.169922931429042,
          9.038728274419256,
          6.361551986033404,
          6.711958913476086,
          6.942114304945212,
          7.08020755186118,
          7.436609205439519,
          7.000457073933225,
          5.108353537896335,
          8.259301712152643,
          2.565492312352098,
          8.121012039609617,
          9.792046395919716,
          3.2583649693501053,
          3.4500040520319395,
          6.938243117629937,
          3.435334952603469,
          3.554391578711836,
          3.2821216443203136,
          8.616005496623792,
          9.585038665256354,
          7.845112410443352,
          3.259789188423993,
          3.2629167470972504,
          8.51811867334422,
          8.155052485858707,
          9.18725015751062,
          4.201106722131706,
          10.678489666711814,
          11.775858067964842,
          9.358224945350347,
          11.979083353556472,
          4.528860556758773,
          11.20157839470334,
          9.35193267191681,
          11.602756048314115,
          6.1645291427806175,
          4.779457851118111,
          15.776946733185449,
          6.728402930509544,
          6.180677795338166
         ],
         "yaxis": "y",
         "type": "bar"
        }
       ],
       "layout": {
        "template": {
         "data": {
          "histogram2dcontour": [
           {
            "type": "histogram2dcontour",
            "colorbar": {
             "outlinewidth": 0,
             "ticks": ""
            },
            "colorscale": [
             [
              0.0,
              "#0d0887"
             ],
             [
              0.1111111111111111,
              "#46039f"
             ],
             [
              0.2222222222222222,
              "#7201a8"
             ],
             [
              0.3333333333333333,
              "#9c179e"
             ],
             [
              0.4444444444444444,
              "#bd3786"
             ],
             [
              0.5555555555555556,
              "#d8576b"
             ],
             [
              0.6666666666666666,
              "#ed7953"
             ],
             [
              0.7777777777777778,
              "#fb9f3a"
             ],
             [
              0.8888888888888888,
              "#fdca26"
             ],
             [
              1.0,
              "#f0f921"
             ]
            ]
           }
          ],
          "choropleth": [
           {
            "type": "choropleth",
            "colorbar": {
             "outlinewidth": 0,
             "ticks": ""
            }
           }
          ],
          "histogram2d": [
           {
            "type": "histogram2d",
            "colorbar": {
             "outlinewidth": 0,
             "ticks": ""
            },
            "colorscale": [
             [
              0.0,
              "#0d0887"
             ],
             [
              0.1111111111111111,
              "#46039f"
             ],
             [
              0.2222222222222222,
              "#7201a8"
             ],
             [
              0.3333333333333333,
              "#9c179e"
             ],
             [
              0.4444444444444444,
              "#bd3786"
             ],
             [
              0.5555555555555556,
              "#d8576b"
             ],
             [
              0.6666666666666666,
              "#ed7953"
             ],
             [
              0.7777777777777778,
              "#fb9f3a"
             ],
             [
              0.8888888888888888,
              "#fdca26"
             ],
             [
              1.0,
              "#f0f921"
             ]
            ]
           }
          ],
          "heatmap": [
           {
            "type": "heatmap",
            "colorbar": {
             "outlinewidth": 0,
             "ticks": ""
            },
            "colorscale": [
             [
              0.0,
              "#0d0887"
             ],
             [
              0.1111111111111111,
              "#46039f"
             ],
             [
              0.2222222222222222,
              "#7201a8"
             ],
             [
              0.3333333333333333,
              "#9c179e"
             ],
             [
              0.4444444444444444,
              "#bd3786"
             ],
             [
              0.5555555555555556,
              "#d8576b"
             ],
             [
              0.6666666666666666,
              "#ed7953"
             ],
             [
              0.7777777777777778,
              "#fb9f3a"
             ],
             [
              0.8888888888888888,
              "#fdca26"
             ],
             [
              1.0,
              "#f0f921"
             ]
            ]
           }
          ],
          "heatmapgl": [
           {
            "type": "heatmapgl",
            "colorbar": {
             "outlinewidth": 0,
             "ticks": ""
            },
            "colorscale": [
             [
              0.0,
              "#0d0887"
             ],
             [
              0.1111111111111111,
              "#46039f"
             ],
             [
              0.2222222222222222,
              "#7201a8"
             ],
             [
              0.3333333333333333,
              "#9c179e"
             ],
             [
              0.4444444444444444,
              "#bd3786"
             ],
             [
              0.5555555555555556,
              "#d8576b"
             ],
             [
              0.6666666666666666,
              "#ed7953"
             ],
             [
              0.7777777777777778,
              "#fb9f3a"
             ],
             [
              0.8888888888888888,
              "#fdca26"
             ],
             [
              1.0,
              "#f0f921"
             ]
            ]
           }
          ],
          "contourcarpet": [
           {
            "type": "contourcarpet",
            "colorbar": {
             "outlinewidth": 0,
             "ticks": ""
            }
           }
          ],
          "contour": [
           {
            "type": "contour",
            "colorbar": {
             "outlinewidth": 0,
             "ticks": ""
            },
            "colorscale": [
             [
              0.0,
              "#0d0887"
             ],
             [
              0.1111111111111111,
              "#46039f"
             ],
             [
              0.2222222222222222,
              "#7201a8"
             ],
             [
              0.3333333333333333,
              "#9c179e"
             ],
             [
              0.4444444444444444,
              "#bd3786"
             ],
             [
              0.5555555555555556,
              "#d8576b"
             ],
             [
              0.6666666666666666,
              "#ed7953"
             ],
             [
              0.7777777777777778,
              "#fb9f3a"
             ],
             [
              0.8888888888888888,
              "#fdca26"
             ],
             [
              1.0,
              "#f0f921"
             ]
            ]
           }
          ],
          "surface": [
           {
            "type": "surface",
            "colorbar": {
             "outlinewidth": 0,
             "ticks": ""
            },
            "colorscale": [
             [
              0.0,
              "#0d0887"
             ],
             [
              0.1111111111111111,
              "#46039f"
             ],
             [
              0.2222222222222222,
              "#7201a8"
             ],
             [
              0.3333333333333333,
              "#9c179e"
             ],
             [
              0.4444444444444444,
              "#bd3786"
             ],
             [
              0.5555555555555556,
              "#d8576b"
             ],
             [
              0.6666666666666666,
              "#ed7953"
             ],
             [
              0.7777777777777778,
              "#fb9f3a"
             ],
             [
              0.8888888888888888,
              "#fdca26"
             ],
             [
              1.0,
              "#f0f921"
             ]
            ]
           }
          ],
          "mesh3d": [
           {
            "type": "mesh3d",
            "colorbar": {
             "outlinewidth": 0,
             "ticks": ""
            }
           }
          ],
          "scatter": [
           {
            "fillpattern": {
             "fillmode": "overlay",
             "size": 10,
             "solidity": 0.2
            },
            "type": "scatter"
           }
          ],
          "parcoords": [
           {
            "type": "parcoords",
            "line": {
             "colorbar": {
              "outlinewidth": 0,
              "ticks": ""
             }
            }
           }
          ],
          "scatterpolargl": [
           {
            "type": "scatterpolargl",
            "marker": {
             "colorbar": {
              "outlinewidth": 0,
              "ticks": ""
             }
            }
           }
          ],
          "bar": [
           {
            "error_x": {
             "color": "#2a3f5f"
            },
            "error_y": {
             "color": "#2a3f5f"
            },
            "marker": {
             "line": {
              "color": "#E5ECF6",
              "width": 0.5
             },
             "pattern": {
              "fillmode": "overlay",
              "size": 10,
              "solidity": 0.2
             }
            },
            "type": "bar"
           }
          ],
          "scattergeo": [
           {
            "type": "scattergeo",
            "marker": {
             "colorbar": {
              "outlinewidth": 0,
              "ticks": ""
             }
            }
           }
          ],
          "scatterpolar": [
           {
            "type": "scatterpolar",
            "marker": {
             "colorbar": {
              "outlinewidth": 0,
              "ticks": ""
             }
            }
           }
          ],
          "histogram": [
           {
            "marker": {
             "pattern": {
              "fillmode": "overlay",
              "size": 10,
              "solidity": 0.2
             }
            },
            "type": "histogram"
           }
          ],
          "scattergl": [
           {
            "type": "scattergl",
            "marker": {
             "colorbar": {
              "outlinewidth": 0,
              "ticks": ""
             }
            }
           }
          ],
          "scatter3d": [
           {
            "type": "scatter3d",
            "line": {
             "colorbar": {
              "outlinewidth": 0,
              "ticks": ""
             }
            },
            "marker": {
             "colorbar": {
              "outlinewidth": 0,
              "ticks": ""
             }
            }
           }
          ],
          "scattermapbox": [
           {
            "type": "scattermapbox",
            "marker": {
             "colorbar": {
              "outlinewidth": 0,
              "ticks": ""
             }
            }
           }
          ],
          "scatterternary": [
           {
            "type": "scatterternary",
            "marker": {
             "colorbar": {
              "outlinewidth": 0,
              "ticks": ""
             }
            }
           }
          ],
          "scattercarpet": [
           {
            "type": "scattercarpet",
            "marker": {
             "colorbar": {
              "outlinewidth": 0,
              "ticks": ""
             }
            }
           }
          ],
          "carpet": [
           {
            "aaxis": {
             "endlinecolor": "#2a3f5f",
             "gridcolor": "white",
             "linecolor": "white",
             "minorgridcolor": "white",
             "startlinecolor": "#2a3f5f"
            },
            "baxis": {
             "endlinecolor": "#2a3f5f",
             "gridcolor": "white",
             "linecolor": "white",
             "minorgridcolor": "white",
             "startlinecolor": "#2a3f5f"
            },
            "type": "carpet"
           }
          ],
          "table": [
           {
            "cells": {
             "fill": {
              "color": "#EBF0F8"
             },
             "line": {
              "color": "white"
             }
            },
            "header": {
             "fill": {
              "color": "#C8D4E3"
             },
             "line": {
              "color": "white"
             }
            },
            "type": "table"
           }
          ],
          "barpolar": [
           {
            "marker": {
             "line": {
              "color": "#E5ECF6",
              "width": 0.5
             },
             "pattern": {
              "fillmode": "overlay",
              "size": 10,
              "solidity": 0.2
             }
            },
            "type": "barpolar"
           }
          ],
          "pie": [
           {
            "automargin": true,
            "type": "pie"
           }
          ]
         },
         "layout": {
          "autotypenumbers": "strict",
          "colorway": [
           "#636efa",
           "#EF553B",
           "#00cc96",
           "#ab63fa",
           "#FFA15A",
           "#19d3f3",
           "#FF6692",
           "#B6E880",
           "#FF97FF",
           "#FECB52"
          ],
          "font": {
           "color": "#2a3f5f"
          },
          "hovermode": "closest",
          "hoverlabel": {
           "align": "left"
          },
          "paper_bgcolor": "white",
          "plot_bgcolor": "#E5ECF6",
          "polar": {
           "bgcolor": "#E5ECF6",
           "angularaxis": {
            "gridcolor": "white",
            "linecolor": "white",
            "ticks": ""
           },
           "radialaxis": {
            "gridcolor": "white",
            "linecolor": "white",
            "ticks": ""
           }
          },
          "ternary": {
           "bgcolor": "#E5ECF6",
           "aaxis": {
            "gridcolor": "white",
            "linecolor": "white",
            "ticks": ""
           },
           "baxis": {
            "gridcolor": "white",
            "linecolor": "white",
            "ticks": ""
           },
           "caxis": {
            "gridcolor": "white",
            "linecolor": "white",
            "ticks": ""
           }
          },
          "coloraxis": {
           "colorbar": {
            "outlinewidth": 0,
            "ticks": ""
           }
          },
          "colorscale": {
           "sequential": [
            [
             0.0,
             "#0d0887"
            ],
            [
             0.1111111111111111,
             "#46039f"
            ],
            [
             0.2222222222222222,
             "#7201a8"
            ],
            [
             0.3333333333333333,
             "#9c179e"
            ],
            [
             0.4444444444444444,
             "#bd3786"
            ],
            [
             0.5555555555555556,
             "#d8576b"
            ],
            [
             0.6666666666666666,
             "#ed7953"
            ],
            [
             0.7777777777777778,
             "#fb9f3a"
            ],
            [
             0.8888888888888888,
             "#fdca26"
            ],
            [
             1.0,
             "#f0f921"
            ]
           ],
           "sequentialminus": [
            [
             0.0,
             "#0d0887"
            ],
            [
             0.1111111111111111,
             "#46039f"
            ],
            [
             0.2222222222222222,
             "#7201a8"
            ],
            [
             0.3333333333333333,
             "#9c179e"
            ],
            [
             0.4444444444444444,
             "#bd3786"
            ],
            [
             0.5555555555555556,
             "#d8576b"
            ],
            [
             0.6666666666666666,
             "#ed7953"
            ],
            [
             0.7777777777777778,
             "#fb9f3a"
            ],
            [
             0.8888888888888888,
             "#fdca26"
            ],
            [
             1.0,
             "#f0f921"
            ]
           ],
           "diverging": [
            [
             0,
             "#8e0152"
            ],
            [
             0.1,
             "#c51b7d"
            ],
            [
             0.2,
             "#de77ae"
            ],
            [
             0.3,
             "#f1b6da"
            ],
            [
             0.4,
             "#fde0ef"
            ],
            [
             0.5,
             "#f7f7f7"
            ],
            [
             0.6,
             "#e6f5d0"
            ],
            [
             0.7,
             "#b8e186"
            ],
            [
             0.8,
             "#7fbc41"
            ],
            [
             0.9,
             "#4d9221"
            ],
            [
             1,
             "#276419"
            ]
           ]
          },
          "xaxis": {
           "gridcolor": "white",
           "linecolor": "white",
           "ticks": "",
           "title": {
            "standoff": 15
           },
           "zerolinecolor": "white",
           "automargin": true,
           "zerolinewidth": 2
          },
          "yaxis": {
           "gridcolor": "white",
           "linecolor": "white",
           "ticks": "",
           "title": {
            "standoff": 15
           },
           "zerolinecolor": "white",
           "automargin": true,
           "zerolinewidth": 2
          },
          "scene": {
           "xaxis": {
            "backgroundcolor": "#E5ECF6",
            "gridcolor": "white",
            "linecolor": "white",
            "showbackground": true,
            "ticks": "",
            "zerolinecolor": "white",
            "gridwidth": 2
           },
           "yaxis": {
            "backgroundcolor": "#E5ECF6",
            "gridcolor": "white",
            "linecolor": "white",
            "showbackground": true,
            "ticks": "",
            "zerolinecolor": "white",
            "gridwidth": 2
           },
           "zaxis": {
            "backgroundcolor": "#E5ECF6",
            "gridcolor": "white",
            "linecolor": "white",
            "showbackground": true,
            "ticks": "",
            "zerolinecolor": "white",
            "gridwidth": 2
           }
          },
          "shapedefaults": {
           "line": {
            "color": "#2a3f5f"
           }
          },
          "annotationdefaults": {
           "arrowcolor": "#2a3f5f",
           "arrowhead": 0,
           "arrowwidth": 1
          },
          "geo": {
           "bgcolor": "white",
           "landcolor": "#E5ECF6",
           "subunitcolor": "white",
           "showland": true,
           "showlakes": true,
           "lakecolor": "white"
          },
          "title": {
           "x": 0.05
          },
          "mapbox": {
           "style": "light"
          }
         }
        },
        "xaxis": {
         "anchor": "y",
         "domain": [
          0.0,
          1.0
         ],
         "title": {
          "text": "System"
         }
        },
        "yaxis": {
         "anchor": "x",
         "domain": [
          0.0,
          1.0
         ],
         "title": {
          "text": "Energy cost (% of Hardware CapEx + OpEx)"
         },
         "range": [
          0,
          30
         ]
        },
        "legend": {
         "tracegroupgap": 0
        },
        "margin": {
         "t": 40,
         "l": 10,
         "r": 10,
         "b": 10
        },
        "barmode": "stack",
        "autosize": false,
        "width": 800,
        "height": 600
       },
       "config": {
        "plotlyServerURL": "https://plot.ly"
       }
      },
      "text/html": "<div>                            <div id=\"098a4ce7-f64f-410d-b84d-03281b0b82ce\" class=\"plotly-graph-div\" style=\"height:600px; width:800px;\"></div>            <script type=\"text/javascript\">                require([\"plotly\"], function(Plotly) {                    window.PLOTLYENV=window.PLOTLYENV || {};                                    if (document.getElementById(\"098a4ce7-f64f-410d-b84d-03281b0b82ce\")) {                    Plotly.newPlot(                        \"098a4ce7-f64f-410d-b84d-03281b0b82ce\",                        [{\"alignmentgroup\":\"True\",\"hovertemplate\":\"System=%{x}<br>Energy cost (%)=%{y}<extra></extra>\",\"legendgroup\":\"\",\"marker\":{\"color\":\"#636efa\",\"pattern\":{\"shape\":\"\"}},\"name\":\"\",\"offsetgroup\":\"\",\"orientation\":\"v\",\"showlegend\":false,\"textposition\":\"auto\",\"x\":[\"GNMT\",\"AlphaGo Master\",\"AlphaGo Zero\",\"AlphaZero\",\"Megatron-BERT\",\"T5-11B\",\"AlphaStar\",\"Meena\",\"GPT-3 175B (davinci)\",\"iGPT-XL\",\"DALL-E\",\"Switch\",\"Meta Pseudo Labels\",\"ProtT5-XXL\",\"ByT5-XXL\",\"GOAT\",\"HyperCLOVA\",\"Megatron-Turing NLG 530B\",\"Gopher (280B)\",\"GLaM\",\"GPT-NeoX-20B\",\"LaMDA\",\"PaLM (540B)\",\"Flamingo\",\"OPT-175B\",\"UL2\",\"Parti\",\"Minerva (540B)\",\"AlexaTM 20B\",\"GLM-130B\",\"BlenderBot 3\",\"Flan-PaLM 540B\",\"U-PaLM (540B)\",\"BLOOM-176B\",\"Galactica\",\"GPT-3.5 (text-davinci-003)\",\"ViT-22B\",\"LLaMA-65B\",\"Falcon-40B\",\"GPT-4\",\"BloombergGPT\",\"PaLM 2\",\"xTrimoPGLM -100B\",\"Llama 2-70B\",\"Falcon-180B\",\"Inflection-2\",\"Gemini Ultra\",\"MegaScale (Production)\",\"Inflection-2.5\",\"Llama 3-70B\"],\"xaxis\":\"x\",\"y\":[10.89230451522296,1.4546837634263263,1.8938764738705556,1.3203860755237744,2.8666962348157785,4.187013028463725,4.130727799040625,4.421301084321529,6.1004604192330145,7.169922931429042,9.038728274419256,6.361551986033404,6.711958913476086,6.942114304945212,7.08020755186118,7.436609205439519,7.000457073933225,5.108353537896335,8.259301712152643,2.565492312352098,8.121012039609617,9.792046395919716,3.2583649693501053,3.4500040520319395,6.938243117629937,3.435334952603469,3.554391578711836,3.2821216443203136,8.616005496623792,9.585038665256354,7.845112410443352,3.259789188423993,3.2629167470972504,8.51811867334422,8.155052485858707,9.18725015751062,4.201106722131706,10.678489666711814,11.775858067964842,9.358224945350347,11.979083353556472,4.528860556758773,11.20157839470334,9.35193267191681,11.602756048314115,6.1645291427806175,4.779457851118111,15.776946733185449,6.728402930509544,6.180677795338166],\"yaxis\":\"y\",\"type\":\"bar\"}],                        {\"template\":{\"data\":{\"histogram2dcontour\":[{\"type\":\"histogram2dcontour\",\"colorbar\":{\"outlinewidth\":0,\"ticks\":\"\"},\"colorscale\":[[0.0,\"#0d0887\"],[0.1111111111111111,\"#46039f\"],[0.2222222222222222,\"#7201a8\"],[0.3333333333333333,\"#9c179e\"],[0.4444444444444444,\"#bd3786\"],[0.5555555555555556,\"#d8576b\"],[0.6666666666666666,\"#ed7953\"],[0.7777777777777778,\"#fb9f3a\"],[0.8888888888888888,\"#fdca26\"],[1.0,\"#f0f921\"]]}],\"choropleth\":[{\"type\":\"choropleth\",\"colorbar\":{\"outlinewidth\":0,\"ticks\":\"\"}}],\"histogram2d\":[{\"type\":\"histogram2d\",\"colorbar\":{\"outlinewidth\":0,\"ticks\":\"\"},\"colorscale\":[[0.0,\"#0d0887\"],[0.1111111111111111,\"#46039f\"],[0.2222222222222222,\"#7201a8\"],[0.3333333333333333,\"#9c179e\"],[0.4444444444444444,\"#bd3786\"],[0.5555555555555556,\"#d8576b\"],[0.6666666666666666,\"#ed7953\"],[0.7777777777777778,\"#fb9f3a\"],[0.8888888888888888,\"#fdca26\"],[1.0,\"#f0f921\"]]}],\"heatmap\":[{\"type\":\"heatmap\",\"colorbar\":{\"outlinewidth\":0,\"ticks\":\"\"},\"colorscale\":[[0.0,\"#0d0887\"],[0.1111111111111111,\"#46039f\"],[0.2222222222222222,\"#7201a8\"],[0.3333333333333333,\"#9c179e\"],[0.4444444444444444,\"#bd3786\"],[0.5555555555555556,\"#d8576b\"],[0.6666666666666666,\"#ed7953\"],[0.7777777777777778,\"#fb9f3a\"],[0.8888888888888888,\"#fdca26\"],[1.0,\"#f0f921\"]]}],\"heatmapgl\":[{\"type\":\"heatmapgl\",\"colorbar\":{\"outlinewidth\":0,\"ticks\":\"\"},\"colorscale\":[[0.0,\"#0d0887\"],[0.1111111111111111,\"#46039f\"],[0.2222222222222222,\"#7201a8\"],[0.3333333333333333,\"#9c179e\"],[0.4444444444444444,\"#bd3786\"],[0.5555555555555556,\"#d8576b\"],[0.6666666666666666,\"#ed7953\"],[0.7777777777777778,\"#fb9f3a\"],[0.8888888888888888,\"#fdca26\"],[1.0,\"#f0f921\"]]}],\"contourcarpet\":[{\"type\":\"contourcarpet\",\"colorbar\":{\"outlinewidth\":0,\"ticks\":\"\"}}],\"contour\":[{\"type\":\"contour\",\"colorbar\":{\"outlinewidth\":0,\"ticks\":\"\"},\"colorscale\":[[0.0,\"#0d0887\"],[0.1111111111111111,\"#46039f\"],[0.2222222222222222,\"#7201a8\"],[0.3333333333333333,\"#9c179e\"],[0.4444444444444444,\"#bd3786\"],[0.5555555555555556,\"#d8576b\"],[0.6666666666666666,\"#ed7953\"],[0.7777777777777778,\"#fb9f3a\"],[0.8888888888888888,\"#fdca26\"],[1.0,\"#f0f921\"]]}],\"surface\":[{\"type\":\"surface\",\"colorbar\":{\"outlinewidth\":0,\"ticks\":\"\"},\"colorscale\":[[0.0,\"#0d0887\"],[0.1111111111111111,\"#46039f\"],[0.2222222222222222,\"#7201a8\"],[0.3333333333333333,\"#9c179e\"],[0.4444444444444444,\"#bd3786\"],[0.5555555555555556,\"#d8576b\"],[0.6666666666666666,\"#ed7953\"],[0.7777777777777778,\"#fb9f3a\"],[0.8888888888888888,\"#fdca26\"],[1.0,\"#f0f921\"]]}],\"mesh3d\":[{\"type\":\"mesh3d\",\"colorbar\":{\"outlinewidth\":0,\"ticks\":\"\"}}],\"scatter\":[{\"fillpattern\":{\"fillmode\":\"overlay\",\"size\":10,\"solidity\":0.2},\"type\":\"scatter\"}],\"parcoords\":[{\"type\":\"parcoords\",\"line\":{\"colorbar\":{\"outlinewidth\":0,\"ticks\":\"\"}}}],\"scatterpolargl\":[{\"type\":\"scatterpolargl\",\"marker\":{\"colorbar\":{\"outlinewidth\":0,\"ticks\":\"\"}}}],\"bar\":[{\"error_x\":{\"color\":\"#2a3f5f\"},\"error_y\":{\"color\":\"#2a3f5f\"},\"marker\":{\"line\":{\"color\":\"#E5ECF6\",\"width\":0.5},\"pattern\":{\"fillmode\":\"overlay\",\"size\":10,\"solidity\":0.2}},\"type\":\"bar\"}],\"scattergeo\":[{\"type\":\"scattergeo\",\"marker\":{\"colorbar\":{\"outlinewidth\":0,\"ticks\":\"\"}}}],\"scatterpolar\":[{\"type\":\"scatterpolar\",\"marker\":{\"colorbar\":{\"outlinewidth\":0,\"ticks\":\"\"}}}],\"histogram\":[{\"marker\":{\"pattern\":{\"fillmode\":\"overlay\",\"size\":10,\"solidity\":0.2}},\"type\":\"histogram\"}],\"scattergl\":[{\"type\":\"scattergl\",\"marker\":{\"colorbar\":{\"outlinewidth\":0,\"ticks\":\"\"}}}],\"scatter3d\":[{\"type\":\"scatter3d\",\"line\":{\"colorbar\":{\"outlinewidth\":0,\"ticks\":\"\"}},\"marker\":{\"colorbar\":{\"outlinewidth\":0,\"ticks\":\"\"}}}],\"scattermapbox\":[{\"type\":\"scattermapbox\",\"marker\":{\"colorbar\":{\"outlinewidth\":0,\"ticks\":\"\"}}}],\"scatterternary\":[{\"type\":\"scatterternary\",\"marker\":{\"colorbar\":{\"outlinewidth\":0,\"ticks\":\"\"}}}],\"scattercarpet\":[{\"type\":\"scattercarpet\",\"marker\":{\"colorbar\":{\"outlinewidth\":0,\"ticks\":\"\"}}}],\"carpet\":[{\"aaxis\":{\"endlinecolor\":\"#2a3f5f\",\"gridcolor\":\"white\",\"linecolor\":\"white\",\"minorgridcolor\":\"white\",\"startlinecolor\":\"#2a3f5f\"},\"baxis\":{\"endlinecolor\":\"#2a3f5f\",\"gridcolor\":\"white\",\"linecolor\":\"white\",\"minorgridcolor\":\"white\",\"startlinecolor\":\"#2a3f5f\"},\"type\":\"carpet\"}],\"table\":[{\"cells\":{\"fill\":{\"color\":\"#EBF0F8\"},\"line\":{\"color\":\"white\"}},\"header\":{\"fill\":{\"color\":\"#C8D4E3\"},\"line\":{\"color\":\"white\"}},\"type\":\"table\"}],\"barpolar\":[{\"marker\":{\"line\":{\"color\":\"#E5ECF6\",\"width\":0.5},\"pattern\":{\"fillmode\":\"overlay\",\"size\":10,\"solidity\":0.2}},\"type\":\"barpolar\"}],\"pie\":[{\"automargin\":true,\"type\":\"pie\"}]},\"layout\":{\"autotypenumbers\":\"strict\",\"colorway\":[\"#636efa\",\"#EF553B\",\"#00cc96\",\"#ab63fa\",\"#FFA15A\",\"#19d3f3\",\"#FF6692\",\"#B6E880\",\"#FF97FF\",\"#FECB52\"],\"font\":{\"color\":\"#2a3f5f\"},\"hovermode\":\"closest\",\"hoverlabel\":{\"align\":\"left\"},\"paper_bgcolor\":\"white\",\"plot_bgcolor\":\"#E5ECF6\",\"polar\":{\"bgcolor\":\"#E5ECF6\",\"angularaxis\":{\"gridcolor\":\"white\",\"linecolor\":\"white\",\"ticks\":\"\"},\"radialaxis\":{\"gridcolor\":\"white\",\"linecolor\":\"white\",\"ticks\":\"\"}},\"ternary\":{\"bgcolor\":\"#E5ECF6\",\"aaxis\":{\"gridcolor\":\"white\",\"linecolor\":\"white\",\"ticks\":\"\"},\"baxis\":{\"gridcolor\":\"white\",\"linecolor\":\"white\",\"ticks\":\"\"},\"caxis\":{\"gridcolor\":\"white\",\"linecolor\":\"white\",\"ticks\":\"\"}},\"coloraxis\":{\"colorbar\":{\"outlinewidth\":0,\"ticks\":\"\"}},\"colorscale\":{\"sequential\":[[0.0,\"#0d0887\"],[0.1111111111111111,\"#46039f\"],[0.2222222222222222,\"#7201a8\"],[0.3333333333333333,\"#9c179e\"],[0.4444444444444444,\"#bd3786\"],[0.5555555555555556,\"#d8576b\"],[0.6666666666666666,\"#ed7953\"],[0.7777777777777778,\"#fb9f3a\"],[0.8888888888888888,\"#fdca26\"],[1.0,\"#f0f921\"]],\"sequentialminus\":[[0.0,\"#0d0887\"],[0.1111111111111111,\"#46039f\"],[0.2222222222222222,\"#7201a8\"],[0.3333333333333333,\"#9c179e\"],[0.4444444444444444,\"#bd3786\"],[0.5555555555555556,\"#d8576b\"],[0.6666666666666666,\"#ed7953\"],[0.7777777777777778,\"#fb9f3a\"],[0.8888888888888888,\"#fdca26\"],[1.0,\"#f0f921\"]],\"diverging\":[[0,\"#8e0152\"],[0.1,\"#c51b7d\"],[0.2,\"#de77ae\"],[0.3,\"#f1b6da\"],[0.4,\"#fde0ef\"],[0.5,\"#f7f7f7\"],[0.6,\"#e6f5d0\"],[0.7,\"#b8e186\"],[0.8,\"#7fbc41\"],[0.9,\"#4d9221\"],[1,\"#276419\"]]},\"xaxis\":{\"gridcolor\":\"white\",\"linecolor\":\"white\",\"ticks\":\"\",\"title\":{\"standoff\":15},\"zerolinecolor\":\"white\",\"automargin\":true,\"zerolinewidth\":2},\"yaxis\":{\"gridcolor\":\"white\",\"linecolor\":\"white\",\"ticks\":\"\",\"title\":{\"standoff\":15},\"zerolinecolor\":\"white\",\"automargin\":true,\"zerolinewidth\":2},\"scene\":{\"xaxis\":{\"backgroundcolor\":\"#E5ECF6\",\"gridcolor\":\"white\",\"linecolor\":\"white\",\"showbackground\":true,\"ticks\":\"\",\"zerolinecolor\":\"white\",\"gridwidth\":2},\"yaxis\":{\"backgroundcolor\":\"#E5ECF6\",\"gridcolor\":\"white\",\"linecolor\":\"white\",\"showbackground\":true,\"ticks\":\"\",\"zerolinecolor\":\"white\",\"gridwidth\":2},\"zaxis\":{\"backgroundcolor\":\"#E5ECF6\",\"gridcolor\":\"white\",\"linecolor\":\"white\",\"showbackground\":true,\"ticks\":\"\",\"zerolinecolor\":\"white\",\"gridwidth\":2}},\"shapedefaults\":{\"line\":{\"color\":\"#2a3f5f\"}},\"annotationdefaults\":{\"arrowcolor\":\"#2a3f5f\",\"arrowhead\":0,\"arrowwidth\":1},\"geo\":{\"bgcolor\":\"white\",\"landcolor\":\"#E5ECF6\",\"subunitcolor\":\"white\",\"showland\":true,\"showlakes\":true,\"lakecolor\":\"white\"},\"title\":{\"x\":0.05},\"mapbox\":{\"style\":\"light\"}}},\"xaxis\":{\"anchor\":\"y\",\"domain\":[0.0,1.0],\"title\":{\"text\":\"System\"}},\"yaxis\":{\"anchor\":\"x\",\"domain\":[0.0,1.0],\"title\":{\"text\":\"Energy cost (% of Hardware CapEx + OpEx)\"},\"range\":[0,30]},\"legend\":{\"tracegroupgap\":0},\"margin\":{\"t\":40,\"l\":10,\"r\":10,\"b\":10},\"barmode\":\"stack\",\"autosize\":false,\"width\":800,\"height\":600},                        {\"responsive\": true}                    ).then(function(){\n                            \nvar gd = document.getElementById('098a4ce7-f64f-410d-b84d-03281b0b82ce');\nvar x = new MutationObserver(function (mutations, observer) {{\n        var display = window.getComputedStyle(gd).display;\n        if (!display || display === 'none') {{\n            console.log([gd, 'removed!']);\n            Plotly.purge(gd);\n            observer.disconnect();\n        }}\n}});\n\n// Listen for the removal of the full notebook cells\nvar notebookContainer = gd.closest('#notebook-container');\nif (notebookContainer) {{\n    x.observe(notebookContainer, {childList: true});\n}}\n\n// Listen for the clearing of the current output cell\nvar outputEl = gd.closest('.output');\nif (outputEl) {{\n    x.observe(outputEl, {childList: true});\n}}\n\n                        })                };                });            </script>        </div>"
     },
     "metadata": {},
     "output_type": "display_data"
    }
   ],
   "source": [
    "fig = px.bar(\n",
    "    filtered_component_cost_df,\n",
    "    x='System',\n",
    "    y='Energy cost (%)',\n",
    "    barmode='stack',\n",
    "    # labels='Cost %',\n",
    "    # text='Energy cost %',\n",
    ")\n",
    "# axis labels\n",
    "fig.update_xaxes(title_text='System')\n",
    "fig.update_yaxes(title_text='Energy cost (% of Hardware CapEx + OpEx)')\n",
    "# fig.update_layout(\n",
    "#     legend=dict(\n",
    "#         title_text='Cost component',\n",
    "#         x=0.75,\n",
    "#         y=0.05,\n",
    "#     )\n",
    "# )\n",
    "# limits 0 to 100\n",
    "fig.update_yaxes(range=[0, 30])\n",
    "# size\n",
    "fig.update_layout(\n",
    "    autosize=False,\n",
    "    width=800,\n",
    "    height=600,\n",
    ")\n",
    "\n",
    "# margins\n",
    "fig.update_layout(margin=dict(l=10, r=10, t=40, b=10))\n",
    "\n",
    "save_plot(fig, results_dir, 'energy_percentage')\n",
    "\n",
    "fig.show()"
   ]
  },
  {
   "cell_type": "code",
   "execution_count": 585,
   "metadata": {
    "ExecuteTime": {
     "end_time": "2024-05-17T19:15:47.777542Z",
     "start_time": "2024-05-17T19:15:47.313055Z"
    }
   },
   "outputs": [
    {
     "data": {
      "application/vnd.plotly.v1+json": {
       "data": [
        {
         "hovertemplate": "Publication date=%{x}<br>Energy cost=%{y}<br>System=%{text}<extra></extra>",
         "legendgroup": "",
         "marker": {
          "color": "#636efa",
          "symbol": "circle"
         },
         "mode": "markers+text",
         "name": "",
         "orientation": "v",
         "showlegend": false,
         "text": [
          "GNMT",
          "AlphaGo Master",
          "AlphaGo Zero",
          "AlphaZero",
          "Megatron-BERT",
          "T5-11B",
          "AlphaStar",
          "Meena",
          "GPT-3 175B (davinci)",
          "iGPT-XL",
          "DALL-E",
          "Switch",
          "Meta Pseudo Labels",
          "ProtT5-XXL",
          "ByT5-XXL",
          "GOAT",
          "HyperCLOVA",
          "Megatron-Turing NLG 530B",
          "Gopher (280B)",
          "GLaM",
          "GPT-NeoX-20B",
          "LaMDA",
          "PaLM (540B)",
          "Flamingo",
          "OPT-175B",
          "UL2",
          "Parti",
          "Minerva (540B)",
          "AlexaTM 20B",
          "GLM-130B",
          "BlenderBot 3",
          "Flan-PaLM 540B",
          "U-PaLM (540B)",
          "BLOOM-176B",
          "Galactica",
          "GPT-3.5 (text-davinci-003)",
          "ViT-22B",
          "LLaMA-65B",
          "Falcon-40B",
          "GPT-4",
          "BloombergGPT",
          "PaLM 2",
          "xTrimoPGLM -100B",
          "Llama 2-70B",
          "Falcon-180B",
          "Inflection-2",
          "Gemini Ultra",
          "MegaScale (Production)",
          "Inflection-2.5",
          "Llama 3-70B"
         ],
         "x": [
          "2016-09-26T00:00:00",
          "2017-01-01T00:00:00",
          "2017-10-18T00:00:00",
          "2017-12-05T00:00:00",
          "2019-09-17T00:00:00",
          "2019-10-23T00:00:00",
          "2019-10-30T00:00:00",
          "2020-01-28T00:00:00",
          "2020-05-28T00:00:00",
          "2020-06-17T00:00:00",
          "2021-01-05T00:00:00",
          "2021-01-11T00:00:00",
          "2021-03-01T00:00:00",
          "2021-05-04T00:00:00",
          "2021-05-28T00:00:00",
          "2021-07-27T00:00:00",
          "2021-09-10T00:00:00",
          "2021-10-11T00:00:00",
          "2021-12-08T00:00:00",
          "2021-12-13T00:00:00",
          "2022-02-09T00:00:00",
          "2022-02-10T00:00:00",
          "2022-04-04T00:00:00",
          "2022-04-29T00:00:00",
          "2022-05-02T00:00:00",
          "2022-05-10T00:00:00",
          "2022-06-22T00:00:00",
          "2022-06-29T00:00:00",
          "2022-08-02T00:00:00",
          "2022-08-04T00:00:00",
          "2022-08-10T00:00:00",
          "2022-10-20T00:00:00",
          "2022-10-20T00:00:00",
          "2022-11-08T00:00:00",
          "2022-11-16T00:00:00",
          "2022-11-28T00:00:00",
          "2023-02-10T00:00:00",
          "2023-02-24T00:00:00",
          "2023-03-15T00:00:00",
          "2023-03-15T00:00:00",
          "2023-03-30T00:00:00",
          "2023-05-10T00:00:00",
          "2023-07-06T00:00:00",
          "2023-07-18T00:00:00",
          "2023-09-06T00:00:00",
          "2023-11-22T00:00:00",
          "2023-12-06T00:00:00",
          "2024-02-23T00:00:00",
          "2024-03-07T00:00:00",
          "2024-04-18T00:00:00"
         ],
         "xaxis": "x",
         "y": [
          12489.624576000002,
          11516.183509855131,
          19634.11117874396,
          9022.479320191444,
          18959.039999999997,
          5257.33123673835,
          8640.3879733248,
          15386.834276352001,
          111055.49999999999,
          6114.166666666667,
          9373.88888888889,
          14907.004961587203,
          6073.224243609601,
          9971.122261788621,
          10958.763951219515,
          10552.88380487805,
          36021.78373828125,
          166023.85800000004,
          84657.06521395202,
          27642.013270130694,
          13141.439999999999,
          36920.20005273601,
          192466.52342245786,
          12662.27127779328,
          45315.57888,
          8722.897991368705,
          24443.536590277683,
          208786.78418050252,
          20559.0528,
          70087.68,
          102250.76406518518,
          192900.32345697485,
          193873.44245332378,
          68335.488,
          42900.000000000015,
          387893.5185185185,
          23901.986619171563,
          55323.84000000001,
          33948.72,
          3499488.28125,
          39921.18,
          438590.4896995556,
          184454.712,
          92944.05120000003,
          1086359.04,
          722304.8323222109,
          2928218.930208001,
          380225.66400000005,
          721655.4073980452,
          542599.2000000001
         ],
         "yaxis": "y",
         "type": "scatter"
        }
       ],
       "layout": {
        "template": {
         "data": {
          "histogram2dcontour": [
           {
            "type": "histogram2dcontour",
            "colorbar": {
             "outlinewidth": 0,
             "ticks": ""
            },
            "colorscale": [
             [
              0.0,
              "#0d0887"
             ],
             [
              0.1111111111111111,
              "#46039f"
             ],
             [
              0.2222222222222222,
              "#7201a8"
             ],
             [
              0.3333333333333333,
              "#9c179e"
             ],
             [
              0.4444444444444444,
              "#bd3786"
             ],
             [
              0.5555555555555556,
              "#d8576b"
             ],
             [
              0.6666666666666666,
              "#ed7953"
             ],
             [
              0.7777777777777778,
              "#fb9f3a"
             ],
             [
              0.8888888888888888,
              "#fdca26"
             ],
             [
              1.0,
              "#f0f921"
             ]
            ]
           }
          ],
          "choropleth": [
           {
            "type": "choropleth",
            "colorbar": {
             "outlinewidth": 0,
             "ticks": ""
            }
           }
          ],
          "histogram2d": [
           {
            "type": "histogram2d",
            "colorbar": {
             "outlinewidth": 0,
             "ticks": ""
            },
            "colorscale": [
             [
              0.0,
              "#0d0887"
             ],
             [
              0.1111111111111111,
              "#46039f"
             ],
             [
              0.2222222222222222,
              "#7201a8"
             ],
             [
              0.3333333333333333,
              "#9c179e"
             ],
             [
              0.4444444444444444,
              "#bd3786"
             ],
             [
              0.5555555555555556,
              "#d8576b"
             ],
             [
              0.6666666666666666,
              "#ed7953"
             ],
             [
              0.7777777777777778,
              "#fb9f3a"
             ],
             [
              0.8888888888888888,
              "#fdca26"
             ],
             [
              1.0,
              "#f0f921"
             ]
            ]
           }
          ],
          "heatmap": [
           {
            "type": "heatmap",
            "colorbar": {
             "outlinewidth": 0,
             "ticks": ""
            },
            "colorscale": [
             [
              0.0,
              "#0d0887"
             ],
             [
              0.1111111111111111,
              "#46039f"
             ],
             [
              0.2222222222222222,
              "#7201a8"
             ],
             [
              0.3333333333333333,
              "#9c179e"
             ],
             [
              0.4444444444444444,
              "#bd3786"
             ],
             [
              0.5555555555555556,
              "#d8576b"
             ],
             [
              0.6666666666666666,
              "#ed7953"
             ],
             [
              0.7777777777777778,
              "#fb9f3a"
             ],
             [
              0.8888888888888888,
              "#fdca26"
             ],
             [
              1.0,
              "#f0f921"
             ]
            ]
           }
          ],
          "heatmapgl": [
           {
            "type": "heatmapgl",
            "colorbar": {
             "outlinewidth": 0,
             "ticks": ""
            },
            "colorscale": [
             [
              0.0,
              "#0d0887"
             ],
             [
              0.1111111111111111,
              "#46039f"
             ],
             [
              0.2222222222222222,
              "#7201a8"
             ],
             [
              0.3333333333333333,
              "#9c179e"
             ],
             [
              0.4444444444444444,
              "#bd3786"
             ],
             [
              0.5555555555555556,
              "#d8576b"
             ],
             [
              0.6666666666666666,
              "#ed7953"
             ],
             [
              0.7777777777777778,
              "#fb9f3a"
             ],
             [
              0.8888888888888888,
              "#fdca26"
             ],
             [
              1.0,
              "#f0f921"
             ]
            ]
           }
          ],
          "contourcarpet": [
           {
            "type": "contourcarpet",
            "colorbar": {
             "outlinewidth": 0,
             "ticks": ""
            }
           }
          ],
          "contour": [
           {
            "type": "contour",
            "colorbar": {
             "outlinewidth": 0,
             "ticks": ""
            },
            "colorscale": [
             [
              0.0,
              "#0d0887"
             ],
             [
              0.1111111111111111,
              "#46039f"
             ],
             [
              0.2222222222222222,
              "#7201a8"
             ],
             [
              0.3333333333333333,
              "#9c179e"
             ],
             [
              0.4444444444444444,
              "#bd3786"
             ],
             [
              0.5555555555555556,
              "#d8576b"
             ],
             [
              0.6666666666666666,
              "#ed7953"
             ],
             [
              0.7777777777777778,
              "#fb9f3a"
             ],
             [
              0.8888888888888888,
              "#fdca26"
             ],
             [
              1.0,
              "#f0f921"
             ]
            ]
           }
          ],
          "surface": [
           {
            "type": "surface",
            "colorbar": {
             "outlinewidth": 0,
             "ticks": ""
            },
            "colorscale": [
             [
              0.0,
              "#0d0887"
             ],
             [
              0.1111111111111111,
              "#46039f"
             ],
             [
              0.2222222222222222,
              "#7201a8"
             ],
             [
              0.3333333333333333,
              "#9c179e"
             ],
             [
              0.4444444444444444,
              "#bd3786"
             ],
             [
              0.5555555555555556,
              "#d8576b"
             ],
             [
              0.6666666666666666,
              "#ed7953"
             ],
             [
              0.7777777777777778,
              "#fb9f3a"
             ],
             [
              0.8888888888888888,
              "#fdca26"
             ],
             [
              1.0,
              "#f0f921"
             ]
            ]
           }
          ],
          "mesh3d": [
           {
            "type": "mesh3d",
            "colorbar": {
             "outlinewidth": 0,
             "ticks": ""
            }
           }
          ],
          "scatter": [
           {
            "fillpattern": {
             "fillmode": "overlay",
             "size": 10,
             "solidity": 0.2
            },
            "type": "scatter"
           }
          ],
          "parcoords": [
           {
            "type": "parcoords",
            "line": {
             "colorbar": {
              "outlinewidth": 0,
              "ticks": ""
             }
            }
           }
          ],
          "scatterpolargl": [
           {
            "type": "scatterpolargl",
            "marker": {
             "colorbar": {
              "outlinewidth": 0,
              "ticks": ""
             }
            }
           }
          ],
          "bar": [
           {
            "error_x": {
             "color": "#2a3f5f"
            },
            "error_y": {
             "color": "#2a3f5f"
            },
            "marker": {
             "line": {
              "color": "#E5ECF6",
              "width": 0.5
             },
             "pattern": {
              "fillmode": "overlay",
              "size": 10,
              "solidity": 0.2
             }
            },
            "type": "bar"
           }
          ],
          "scattergeo": [
           {
            "type": "scattergeo",
            "marker": {
             "colorbar": {
              "outlinewidth": 0,
              "ticks": ""
             }
            }
           }
          ],
          "scatterpolar": [
           {
            "type": "scatterpolar",
            "marker": {
             "colorbar": {
              "outlinewidth": 0,
              "ticks": ""
             }
            }
           }
          ],
          "histogram": [
           {
            "marker": {
             "pattern": {
              "fillmode": "overlay",
              "size": 10,
              "solidity": 0.2
             }
            },
            "type": "histogram"
           }
          ],
          "scattergl": [
           {
            "type": "scattergl",
            "marker": {
             "colorbar": {
              "outlinewidth": 0,
              "ticks": ""
             }
            }
           }
          ],
          "scatter3d": [
           {
            "type": "scatter3d",
            "line": {
             "colorbar": {
              "outlinewidth": 0,
              "ticks": ""
             }
            },
            "marker": {
             "colorbar": {
              "outlinewidth": 0,
              "ticks": ""
             }
            }
           }
          ],
          "scattermapbox": [
           {
            "type": "scattermapbox",
            "marker": {
             "colorbar": {
              "outlinewidth": 0,
              "ticks": ""
             }
            }
           }
          ],
          "scatterternary": [
           {
            "type": "scatterternary",
            "marker": {
             "colorbar": {
              "outlinewidth": 0,
              "ticks": ""
             }
            }
           }
          ],
          "scattercarpet": [
           {
            "type": "scattercarpet",
            "marker": {
             "colorbar": {
              "outlinewidth": 0,
              "ticks": ""
             }
            }
           }
          ],
          "carpet": [
           {
            "aaxis": {
             "endlinecolor": "#2a3f5f",
             "gridcolor": "white",
             "linecolor": "white",
             "minorgridcolor": "white",
             "startlinecolor": "#2a3f5f"
            },
            "baxis": {
             "endlinecolor": "#2a3f5f",
             "gridcolor": "white",
             "linecolor": "white",
             "minorgridcolor": "white",
             "startlinecolor": "#2a3f5f"
            },
            "type": "carpet"
           }
          ],
          "table": [
           {
            "cells": {
             "fill": {
              "color": "#EBF0F8"
             },
             "line": {
              "color": "white"
             }
            },
            "header": {
             "fill": {
              "color": "#C8D4E3"
             },
             "line": {
              "color": "white"
             }
            },
            "type": "table"
           }
          ],
          "barpolar": [
           {
            "marker": {
             "line": {
              "color": "#E5ECF6",
              "width": 0.5
             },
             "pattern": {
              "fillmode": "overlay",
              "size": 10,
              "solidity": 0.2
             }
            },
            "type": "barpolar"
           }
          ],
          "pie": [
           {
            "automargin": true,
            "type": "pie"
           }
          ]
         },
         "layout": {
          "autotypenumbers": "strict",
          "colorway": [
           "#636efa",
           "#EF553B",
           "#00cc96",
           "#ab63fa",
           "#FFA15A",
           "#19d3f3",
           "#FF6692",
           "#B6E880",
           "#FF97FF",
           "#FECB52"
          ],
          "font": {
           "color": "#2a3f5f"
          },
          "hovermode": "closest",
          "hoverlabel": {
           "align": "left"
          },
          "paper_bgcolor": "white",
          "plot_bgcolor": "#E5ECF6",
          "polar": {
           "bgcolor": "#E5ECF6",
           "angularaxis": {
            "gridcolor": "white",
            "linecolor": "white",
            "ticks": ""
           },
           "radialaxis": {
            "gridcolor": "white",
            "linecolor": "white",
            "ticks": ""
           }
          },
          "ternary": {
           "bgcolor": "#E5ECF6",
           "aaxis": {
            "gridcolor": "white",
            "linecolor": "white",
            "ticks": ""
           },
           "baxis": {
            "gridcolor": "white",
            "linecolor": "white",
            "ticks": ""
           },
           "caxis": {
            "gridcolor": "white",
            "linecolor": "white",
            "ticks": ""
           }
          },
          "coloraxis": {
           "colorbar": {
            "outlinewidth": 0,
            "ticks": ""
           }
          },
          "colorscale": {
           "sequential": [
            [
             0.0,
             "#0d0887"
            ],
            [
             0.1111111111111111,
             "#46039f"
            ],
            [
             0.2222222222222222,
             "#7201a8"
            ],
            [
             0.3333333333333333,
             "#9c179e"
            ],
            [
             0.4444444444444444,
             "#bd3786"
            ],
            [
             0.5555555555555556,
             "#d8576b"
            ],
            [
             0.6666666666666666,
             "#ed7953"
            ],
            [
             0.7777777777777778,
             "#fb9f3a"
            ],
            [
             0.8888888888888888,
             "#fdca26"
            ],
            [
             1.0,
             "#f0f921"
            ]
           ],
           "sequentialminus": [
            [
             0.0,
             "#0d0887"
            ],
            [
             0.1111111111111111,
             "#46039f"
            ],
            [
             0.2222222222222222,
             "#7201a8"
            ],
            [
             0.3333333333333333,
             "#9c179e"
            ],
            [
             0.4444444444444444,
             "#bd3786"
            ],
            [
             0.5555555555555556,
             "#d8576b"
            ],
            [
             0.6666666666666666,
             "#ed7953"
            ],
            [
             0.7777777777777778,
             "#fb9f3a"
            ],
            [
             0.8888888888888888,
             "#fdca26"
            ],
            [
             1.0,
             "#f0f921"
            ]
           ],
           "diverging": [
            [
             0,
             "#8e0152"
            ],
            [
             0.1,
             "#c51b7d"
            ],
            [
             0.2,
             "#de77ae"
            ],
            [
             0.3,
             "#f1b6da"
            ],
            [
             0.4,
             "#fde0ef"
            ],
            [
             0.5,
             "#f7f7f7"
            ],
            [
             0.6,
             "#e6f5d0"
            ],
            [
             0.7,
             "#b8e186"
            ],
            [
             0.8,
             "#7fbc41"
            ],
            [
             0.9,
             "#4d9221"
            ],
            [
             1,
             "#276419"
            ]
           ]
          },
          "xaxis": {
           "gridcolor": "white",
           "linecolor": "white",
           "ticks": "",
           "title": {
            "standoff": 15
           },
           "zerolinecolor": "white",
           "automargin": true,
           "zerolinewidth": 2
          },
          "yaxis": {
           "gridcolor": "white",
           "linecolor": "white",
           "ticks": "",
           "title": {
            "standoff": 15
           },
           "zerolinecolor": "white",
           "automargin": true,
           "zerolinewidth": 2
          },
          "scene": {
           "xaxis": {
            "backgroundcolor": "#E5ECF6",
            "gridcolor": "white",
            "linecolor": "white",
            "showbackground": true,
            "ticks": "",
            "zerolinecolor": "white",
            "gridwidth": 2
           },
           "yaxis": {
            "backgroundcolor": "#E5ECF6",
            "gridcolor": "white",
            "linecolor": "white",
            "showbackground": true,
            "ticks": "",
            "zerolinecolor": "white",
            "gridwidth": 2
           },
           "zaxis": {
            "backgroundcolor": "#E5ECF6",
            "gridcolor": "white",
            "linecolor": "white",
            "showbackground": true,
            "ticks": "",
            "zerolinecolor": "white",
            "gridwidth": 2
           }
          },
          "shapedefaults": {
           "line": {
            "color": "#2a3f5f"
           }
          },
          "annotationdefaults": {
           "arrowcolor": "#2a3f5f",
           "arrowhead": 0,
           "arrowwidth": 1
          },
          "geo": {
           "bgcolor": "white",
           "landcolor": "#E5ECF6",
           "subunitcolor": "white",
           "showland": true,
           "showlakes": true,
           "lakecolor": "white"
          },
          "title": {
           "x": 0.05
          },
          "mapbox": {
           "style": "light"
          }
         }
        },
        "xaxis": {
         "anchor": "y",
         "domain": [
          0.0,
          1.0
         ],
         "title": {
          "text": "System"
         }
        },
        "yaxis": {
         "anchor": "x",
         "domain": [
          0.0,
          1.0
         ],
         "title": {
          "text": "Energy cost"
         },
         "type": "log"
        },
        "legend": {
         "tracegroupgap": 0
        },
        "margin": {
         "t": 40,
         "l": 10,
         "r": 10,
         "b": 10
        },
        "autosize": false,
        "width": 800,
        "height": 600
       },
       "config": {
        "plotlyServerURL": "https://plot.ly"
       }
      },
      "text/html": "<div>                            <div id=\"ebf0fa07-6c78-47ff-918a-8109832c777b\" class=\"plotly-graph-div\" style=\"height:600px; width:800px;\"></div>            <script type=\"text/javascript\">                require([\"plotly\"], function(Plotly) {                    window.PLOTLYENV=window.PLOTLYENV || {};                                    if (document.getElementById(\"ebf0fa07-6c78-47ff-918a-8109832c777b\")) {                    Plotly.newPlot(                        \"ebf0fa07-6c78-47ff-918a-8109832c777b\",                        [{\"hovertemplate\":\"Publication date=%{x}<br>Energy cost=%{y}<br>System=%{text}<extra></extra>\",\"legendgroup\":\"\",\"marker\":{\"color\":\"#636efa\",\"symbol\":\"circle\"},\"mode\":\"markers+text\",\"name\":\"\",\"orientation\":\"v\",\"showlegend\":false,\"text\":[\"GNMT\",\"AlphaGo Master\",\"AlphaGo Zero\",\"AlphaZero\",\"Megatron-BERT\",\"T5-11B\",\"AlphaStar\",\"Meena\",\"GPT-3 175B (davinci)\",\"iGPT-XL\",\"DALL-E\",\"Switch\",\"Meta Pseudo Labels\",\"ProtT5-XXL\",\"ByT5-XXL\",\"GOAT\",\"HyperCLOVA\",\"Megatron-Turing NLG 530B\",\"Gopher (280B)\",\"GLaM\",\"GPT-NeoX-20B\",\"LaMDA\",\"PaLM (540B)\",\"Flamingo\",\"OPT-175B\",\"UL2\",\"Parti\",\"Minerva (540B)\",\"AlexaTM 20B\",\"GLM-130B\",\"BlenderBot 3\",\"Flan-PaLM 540B\",\"U-PaLM (540B)\",\"BLOOM-176B\",\"Galactica\",\"GPT-3.5 (text-davinci-003)\",\"ViT-22B\",\"LLaMA-65B\",\"Falcon-40B\",\"GPT-4\",\"BloombergGPT\",\"PaLM 2\",\"xTrimoPGLM -100B\",\"Llama 2-70B\",\"Falcon-180B\",\"Inflection-2\",\"Gemini Ultra\",\"MegaScale (Production)\",\"Inflection-2.5\",\"Llama 3-70B\"],\"x\":[\"2016-09-26T00:00:00\",\"2017-01-01T00:00:00\",\"2017-10-18T00:00:00\",\"2017-12-05T00:00:00\",\"2019-09-17T00:00:00\",\"2019-10-23T00:00:00\",\"2019-10-30T00:00:00\",\"2020-01-28T00:00:00\",\"2020-05-28T00:00:00\",\"2020-06-17T00:00:00\",\"2021-01-05T00:00:00\",\"2021-01-11T00:00:00\",\"2021-03-01T00:00:00\",\"2021-05-04T00:00:00\",\"2021-05-28T00:00:00\",\"2021-07-27T00:00:00\",\"2021-09-10T00:00:00\",\"2021-10-11T00:00:00\",\"2021-12-08T00:00:00\",\"2021-12-13T00:00:00\",\"2022-02-09T00:00:00\",\"2022-02-10T00:00:00\",\"2022-04-04T00:00:00\",\"2022-04-29T00:00:00\",\"2022-05-02T00:00:00\",\"2022-05-10T00:00:00\",\"2022-06-22T00:00:00\",\"2022-06-29T00:00:00\",\"2022-08-02T00:00:00\",\"2022-08-04T00:00:00\",\"2022-08-10T00:00:00\",\"2022-10-20T00:00:00\",\"2022-10-20T00:00:00\",\"2022-11-08T00:00:00\",\"2022-11-16T00:00:00\",\"2022-11-28T00:00:00\",\"2023-02-10T00:00:00\",\"2023-02-24T00:00:00\",\"2023-03-15T00:00:00\",\"2023-03-15T00:00:00\",\"2023-03-30T00:00:00\",\"2023-05-10T00:00:00\",\"2023-07-06T00:00:00\",\"2023-07-18T00:00:00\",\"2023-09-06T00:00:00\",\"2023-11-22T00:00:00\",\"2023-12-06T00:00:00\",\"2024-02-23T00:00:00\",\"2024-03-07T00:00:00\",\"2024-04-18T00:00:00\"],\"xaxis\":\"x\",\"y\":[12489.624576000002,11516.183509855131,19634.11117874396,9022.479320191444,18959.039999999997,5257.33123673835,8640.3879733248,15386.834276352001,111055.49999999999,6114.166666666667,9373.88888888889,14907.004961587203,6073.224243609601,9971.122261788621,10958.763951219515,10552.88380487805,36021.78373828125,166023.85800000004,84657.06521395202,27642.013270130694,13141.439999999999,36920.20005273601,192466.52342245786,12662.27127779328,45315.57888,8722.897991368705,24443.536590277683,208786.78418050252,20559.0528,70087.68,102250.76406518518,192900.32345697485,193873.44245332378,68335.488,42900.000000000015,387893.5185185185,23901.986619171563,55323.84000000001,33948.72,3499488.28125,39921.18,438590.4896995556,184454.712,92944.05120000003,1086359.04,722304.8323222109,2928218.930208001,380225.66400000005,721655.4073980452,542599.2000000001],\"yaxis\":\"y\",\"type\":\"scatter\"}],                        {\"template\":{\"data\":{\"histogram2dcontour\":[{\"type\":\"histogram2dcontour\",\"colorbar\":{\"outlinewidth\":0,\"ticks\":\"\"},\"colorscale\":[[0.0,\"#0d0887\"],[0.1111111111111111,\"#46039f\"],[0.2222222222222222,\"#7201a8\"],[0.3333333333333333,\"#9c179e\"],[0.4444444444444444,\"#bd3786\"],[0.5555555555555556,\"#d8576b\"],[0.6666666666666666,\"#ed7953\"],[0.7777777777777778,\"#fb9f3a\"],[0.8888888888888888,\"#fdca26\"],[1.0,\"#f0f921\"]]}],\"choropleth\":[{\"type\":\"choropleth\",\"colorbar\":{\"outlinewidth\":0,\"ticks\":\"\"}}],\"histogram2d\":[{\"type\":\"histogram2d\",\"colorbar\":{\"outlinewidth\":0,\"ticks\":\"\"},\"colorscale\":[[0.0,\"#0d0887\"],[0.1111111111111111,\"#46039f\"],[0.2222222222222222,\"#7201a8\"],[0.3333333333333333,\"#9c179e\"],[0.4444444444444444,\"#bd3786\"],[0.5555555555555556,\"#d8576b\"],[0.6666666666666666,\"#ed7953\"],[0.7777777777777778,\"#fb9f3a\"],[0.8888888888888888,\"#fdca26\"],[1.0,\"#f0f921\"]]}],\"heatmap\":[{\"type\":\"heatmap\",\"colorbar\":{\"outlinewidth\":0,\"ticks\":\"\"},\"colorscale\":[[0.0,\"#0d0887\"],[0.1111111111111111,\"#46039f\"],[0.2222222222222222,\"#7201a8\"],[0.3333333333333333,\"#9c179e\"],[0.4444444444444444,\"#bd3786\"],[0.5555555555555556,\"#d8576b\"],[0.6666666666666666,\"#ed7953\"],[0.7777777777777778,\"#fb9f3a\"],[0.8888888888888888,\"#fdca26\"],[1.0,\"#f0f921\"]]}],\"heatmapgl\":[{\"type\":\"heatmapgl\",\"colorbar\":{\"outlinewidth\":0,\"ticks\":\"\"},\"colorscale\":[[0.0,\"#0d0887\"],[0.1111111111111111,\"#46039f\"],[0.2222222222222222,\"#7201a8\"],[0.3333333333333333,\"#9c179e\"],[0.4444444444444444,\"#bd3786\"],[0.5555555555555556,\"#d8576b\"],[0.6666666666666666,\"#ed7953\"],[0.7777777777777778,\"#fb9f3a\"],[0.8888888888888888,\"#fdca26\"],[1.0,\"#f0f921\"]]}],\"contourcarpet\":[{\"type\":\"contourcarpet\",\"colorbar\":{\"outlinewidth\":0,\"ticks\":\"\"}}],\"contour\":[{\"type\":\"contour\",\"colorbar\":{\"outlinewidth\":0,\"ticks\":\"\"},\"colorscale\":[[0.0,\"#0d0887\"],[0.1111111111111111,\"#46039f\"],[0.2222222222222222,\"#7201a8\"],[0.3333333333333333,\"#9c179e\"],[0.4444444444444444,\"#bd3786\"],[0.5555555555555556,\"#d8576b\"],[0.6666666666666666,\"#ed7953\"],[0.7777777777777778,\"#fb9f3a\"],[0.8888888888888888,\"#fdca26\"],[1.0,\"#f0f921\"]]}],\"surface\":[{\"type\":\"surface\",\"colorbar\":{\"outlinewidth\":0,\"ticks\":\"\"},\"colorscale\":[[0.0,\"#0d0887\"],[0.1111111111111111,\"#46039f\"],[0.2222222222222222,\"#7201a8\"],[0.3333333333333333,\"#9c179e\"],[0.4444444444444444,\"#bd3786\"],[0.5555555555555556,\"#d8576b\"],[0.6666666666666666,\"#ed7953\"],[0.7777777777777778,\"#fb9f3a\"],[0.8888888888888888,\"#fdca26\"],[1.0,\"#f0f921\"]]}],\"mesh3d\":[{\"type\":\"mesh3d\",\"colorbar\":{\"outlinewidth\":0,\"ticks\":\"\"}}],\"scatter\":[{\"fillpattern\":{\"fillmode\":\"overlay\",\"size\":10,\"solidity\":0.2},\"type\":\"scatter\"}],\"parcoords\":[{\"type\":\"parcoords\",\"line\":{\"colorbar\":{\"outlinewidth\":0,\"ticks\":\"\"}}}],\"scatterpolargl\":[{\"type\":\"scatterpolargl\",\"marker\":{\"colorbar\":{\"outlinewidth\":0,\"ticks\":\"\"}}}],\"bar\":[{\"error_x\":{\"color\":\"#2a3f5f\"},\"error_y\":{\"color\":\"#2a3f5f\"},\"marker\":{\"line\":{\"color\":\"#E5ECF6\",\"width\":0.5},\"pattern\":{\"fillmode\":\"overlay\",\"size\":10,\"solidity\":0.2}},\"type\":\"bar\"}],\"scattergeo\":[{\"type\":\"scattergeo\",\"marker\":{\"colorbar\":{\"outlinewidth\":0,\"ticks\":\"\"}}}],\"scatterpolar\":[{\"type\":\"scatterpolar\",\"marker\":{\"colorbar\":{\"outlinewidth\":0,\"ticks\":\"\"}}}],\"histogram\":[{\"marker\":{\"pattern\":{\"fillmode\":\"overlay\",\"size\":10,\"solidity\":0.2}},\"type\":\"histogram\"}],\"scattergl\":[{\"type\":\"scattergl\",\"marker\":{\"colorbar\":{\"outlinewidth\":0,\"ticks\":\"\"}}}],\"scatter3d\":[{\"type\":\"scatter3d\",\"line\":{\"colorbar\":{\"outlinewidth\":0,\"ticks\":\"\"}},\"marker\":{\"colorbar\":{\"outlinewidth\":0,\"ticks\":\"\"}}}],\"scattermapbox\":[{\"type\":\"scattermapbox\",\"marker\":{\"colorbar\":{\"outlinewidth\":0,\"ticks\":\"\"}}}],\"scatterternary\":[{\"type\":\"scatterternary\",\"marker\":{\"colorbar\":{\"outlinewidth\":0,\"ticks\":\"\"}}}],\"scattercarpet\":[{\"type\":\"scattercarpet\",\"marker\":{\"colorbar\":{\"outlinewidth\":0,\"ticks\":\"\"}}}],\"carpet\":[{\"aaxis\":{\"endlinecolor\":\"#2a3f5f\",\"gridcolor\":\"white\",\"linecolor\":\"white\",\"minorgridcolor\":\"white\",\"startlinecolor\":\"#2a3f5f\"},\"baxis\":{\"endlinecolor\":\"#2a3f5f\",\"gridcolor\":\"white\",\"linecolor\":\"white\",\"minorgridcolor\":\"white\",\"startlinecolor\":\"#2a3f5f\"},\"type\":\"carpet\"}],\"table\":[{\"cells\":{\"fill\":{\"color\":\"#EBF0F8\"},\"line\":{\"color\":\"white\"}},\"header\":{\"fill\":{\"color\":\"#C8D4E3\"},\"line\":{\"color\":\"white\"}},\"type\":\"table\"}],\"barpolar\":[{\"marker\":{\"line\":{\"color\":\"#E5ECF6\",\"width\":0.5},\"pattern\":{\"fillmode\":\"overlay\",\"size\":10,\"solidity\":0.2}},\"type\":\"barpolar\"}],\"pie\":[{\"automargin\":true,\"type\":\"pie\"}]},\"layout\":{\"autotypenumbers\":\"strict\",\"colorway\":[\"#636efa\",\"#EF553B\",\"#00cc96\",\"#ab63fa\",\"#FFA15A\",\"#19d3f3\",\"#FF6692\",\"#B6E880\",\"#FF97FF\",\"#FECB52\"],\"font\":{\"color\":\"#2a3f5f\"},\"hovermode\":\"closest\",\"hoverlabel\":{\"align\":\"left\"},\"paper_bgcolor\":\"white\",\"plot_bgcolor\":\"#E5ECF6\",\"polar\":{\"bgcolor\":\"#E5ECF6\",\"angularaxis\":{\"gridcolor\":\"white\",\"linecolor\":\"white\",\"ticks\":\"\"},\"radialaxis\":{\"gridcolor\":\"white\",\"linecolor\":\"white\",\"ticks\":\"\"}},\"ternary\":{\"bgcolor\":\"#E5ECF6\",\"aaxis\":{\"gridcolor\":\"white\",\"linecolor\":\"white\",\"ticks\":\"\"},\"baxis\":{\"gridcolor\":\"white\",\"linecolor\":\"white\",\"ticks\":\"\"},\"caxis\":{\"gridcolor\":\"white\",\"linecolor\":\"white\",\"ticks\":\"\"}},\"coloraxis\":{\"colorbar\":{\"outlinewidth\":0,\"ticks\":\"\"}},\"colorscale\":{\"sequential\":[[0.0,\"#0d0887\"],[0.1111111111111111,\"#46039f\"],[0.2222222222222222,\"#7201a8\"],[0.3333333333333333,\"#9c179e\"],[0.4444444444444444,\"#bd3786\"],[0.5555555555555556,\"#d8576b\"],[0.6666666666666666,\"#ed7953\"],[0.7777777777777778,\"#fb9f3a\"],[0.8888888888888888,\"#fdca26\"],[1.0,\"#f0f921\"]],\"sequentialminus\":[[0.0,\"#0d0887\"],[0.1111111111111111,\"#46039f\"],[0.2222222222222222,\"#7201a8\"],[0.3333333333333333,\"#9c179e\"],[0.4444444444444444,\"#bd3786\"],[0.5555555555555556,\"#d8576b\"],[0.6666666666666666,\"#ed7953\"],[0.7777777777777778,\"#fb9f3a\"],[0.8888888888888888,\"#fdca26\"],[1.0,\"#f0f921\"]],\"diverging\":[[0,\"#8e0152\"],[0.1,\"#c51b7d\"],[0.2,\"#de77ae\"],[0.3,\"#f1b6da\"],[0.4,\"#fde0ef\"],[0.5,\"#f7f7f7\"],[0.6,\"#e6f5d0\"],[0.7,\"#b8e186\"],[0.8,\"#7fbc41\"],[0.9,\"#4d9221\"],[1,\"#276419\"]]},\"xaxis\":{\"gridcolor\":\"white\",\"linecolor\":\"white\",\"ticks\":\"\",\"title\":{\"standoff\":15},\"zerolinecolor\":\"white\",\"automargin\":true,\"zerolinewidth\":2},\"yaxis\":{\"gridcolor\":\"white\",\"linecolor\":\"white\",\"ticks\":\"\",\"title\":{\"standoff\":15},\"zerolinecolor\":\"white\",\"automargin\":true,\"zerolinewidth\":2},\"scene\":{\"xaxis\":{\"backgroundcolor\":\"#E5ECF6\",\"gridcolor\":\"white\",\"linecolor\":\"white\",\"showbackground\":true,\"ticks\":\"\",\"zerolinecolor\":\"white\",\"gridwidth\":2},\"yaxis\":{\"backgroundcolor\":\"#E5ECF6\",\"gridcolor\":\"white\",\"linecolor\":\"white\",\"showbackground\":true,\"ticks\":\"\",\"zerolinecolor\":\"white\",\"gridwidth\":2},\"zaxis\":{\"backgroundcolor\":\"#E5ECF6\",\"gridcolor\":\"white\",\"linecolor\":\"white\",\"showbackground\":true,\"ticks\":\"\",\"zerolinecolor\":\"white\",\"gridwidth\":2}},\"shapedefaults\":{\"line\":{\"color\":\"#2a3f5f\"}},\"annotationdefaults\":{\"arrowcolor\":\"#2a3f5f\",\"arrowhead\":0,\"arrowwidth\":1},\"geo\":{\"bgcolor\":\"white\",\"landcolor\":\"#E5ECF6\",\"subunitcolor\":\"white\",\"showland\":true,\"showlakes\":true,\"lakecolor\":\"white\"},\"title\":{\"x\":0.05},\"mapbox\":{\"style\":\"light\"}}},\"xaxis\":{\"anchor\":\"y\",\"domain\":[0.0,1.0],\"title\":{\"text\":\"System\"}},\"yaxis\":{\"anchor\":\"x\",\"domain\":[0.0,1.0],\"title\":{\"text\":\"Energy cost\"},\"type\":\"log\"},\"legend\":{\"tracegroupgap\":0},\"margin\":{\"t\":40,\"l\":10,\"r\":10,\"b\":10},\"autosize\":false,\"width\":800,\"height\":600},                        {\"responsive\": true}                    ).then(function(){\n                            \nvar gd = document.getElementById('ebf0fa07-6c78-47ff-918a-8109832c777b');\nvar x = new MutationObserver(function (mutations, observer) {{\n        var display = window.getComputedStyle(gd).display;\n        if (!display || display === 'none') {{\n            console.log([gd, 'removed!']);\n            Plotly.purge(gd);\n            observer.disconnect();\n        }}\n}});\n\n// Listen for the removal of the full notebook cells\nvar notebookContainer = gd.closest('#notebook-container');\nif (notebookContainer) {{\n    x.observe(notebookContainer, {childList: true});\n}}\n\n// Listen for the clearing of the current output cell\nvar outputEl = gd.closest('.output');\nif (outputEl) {{\n    x.observe(outputEl, {childList: true});\n}}\n\n                        })                };                });            </script>        </div>"
     },
     "metadata": {},
     "output_type": "display_data"
    }
   ],
   "source": [
    "fig = px.scatter(\n",
    "    filtered_component_cost_df,\n",
    "    x='Publication date',\n",
    "    y='Energy cost',\n",
    "    text='System',\n",
    ")\n",
    "# axis labels\n",
    "fig.update_xaxes(title_text='System')\n",
    "fig.update_yaxes(title_text='Energy cost')\n",
    "# log y\n",
    "fig.update_yaxes(type='log')\n",
    "# size\n",
    "fig.update_layout(\n",
    "    autosize=False,\n",
    "    width=800,\n",
    "    height=600,\n",
    ")\n",
    "\n",
    "# margins\n",
    "fig.update_layout(margin=dict(l=10, r=10, t=40, b=10))\n",
    "\n",
    "save_plot(fig, results_dir, 'energy_cost')\n",
    "\n",
    "fig.show()"
   ]
  },
  {
   "cell_type": "code",
   "execution_count": 586,
   "metadata": {
    "ExecuteTime": {
     "end_time": "2024-05-17T19:15:48.219760700Z",
     "start_time": "2024-05-17T19:15:47.780562500Z"
    }
   },
   "outputs": [
    {
     "data": {
      "application/vnd.plotly.v1+json": {
       "data": [
        {
         "hovertemplate": "Publication date=%{x}<br>Energy (kWh)=%{y}<br>System=%{text}<extra></extra>",
         "legendgroup": "",
         "marker": {
          "color": "#636efa",
          "symbol": "circle"
         },
         "mode": "markers+text",
         "name": "",
         "orientation": "v",
         "showlegend": false,
         "text": [
          "GNMT",
          "AlphaGo Master",
          "AlphaGo Zero",
          "AlphaZero",
          "Megatron-BERT",
          "T5-11B",
          "AlphaStar",
          "Meena",
          "GPT-3 175B (davinci)",
          "iGPT-XL",
          "DALL-E",
          "Switch",
          "Meta Pseudo Labels",
          "ProtT5-XXL",
          "ByT5-XXL",
          "GOAT",
          "HyperCLOVA",
          "Megatron-Turing NLG 530B",
          "Gopher (280B)",
          "GLaM",
          "GPT-NeoX-20B",
          "LaMDA",
          "PaLM (540B)",
          "Flamingo",
          "OPT-175B",
          "UL2",
          "Parti",
          "Minerva (540B)",
          "AlexaTM 20B",
          "GLM-130B",
          "BlenderBot 3",
          "Flan-PaLM 540B",
          "U-PaLM (540B)",
          "BLOOM-176B",
          "Galactica",
          "GPT-3.5 (text-davinci-003)",
          "ViT-22B",
          "LLaMA-65B",
          "Falcon-40B",
          "GPT-4",
          "BloombergGPT",
          "PaLM 2",
          "xTrimoPGLM -100B",
          "Llama 2-70B",
          "Falcon-180B",
          "Inflection-2",
          "Gemini Ultra",
          "MegaScale (Production)",
          "Inflection-2.5",
          "Llama 3-70B"
         ],
         "x": [
          "2016-09-26T00:00:00",
          "2017-01-01T00:00:00",
          "2017-10-18T00:00:00",
          "2017-12-05T00:00:00",
          "2019-09-17T00:00:00",
          "2019-10-23T00:00:00",
          "2019-10-30T00:00:00",
          "2020-01-28T00:00:00",
          "2020-05-28T00:00:00",
          "2020-06-17T00:00:00",
          "2021-01-05T00:00:00",
          "2021-01-11T00:00:00",
          "2021-03-01T00:00:00",
          "2021-05-04T00:00:00",
          "2021-05-28T00:00:00",
          "2021-07-27T00:00:00",
          "2021-09-10T00:00:00",
          "2021-10-11T00:00:00",
          "2021-12-08T00:00:00",
          "2021-12-13T00:00:00",
          "2022-02-09T00:00:00",
          "2022-02-10T00:00:00",
          "2022-04-04T00:00:00",
          "2022-04-29T00:00:00",
          "2022-05-02T00:00:00",
          "2022-05-10T00:00:00",
          "2022-06-22T00:00:00",
          "2022-06-29T00:00:00",
          "2022-08-02T00:00:00",
          "2022-08-04T00:00:00",
          "2022-08-10T00:00:00",
          "2022-10-20T00:00:00",
          "2022-10-20T00:00:00",
          "2022-11-08T00:00:00",
          "2022-11-16T00:00:00",
          "2022-11-28T00:00:00",
          "2023-02-10T00:00:00",
          "2023-02-24T00:00:00",
          "2023-03-15T00:00:00",
          "2023-03-15T00:00:00",
          "2023-03-30T00:00:00",
          "2023-05-10T00:00:00",
          "2023-07-06T00:00:00",
          "2023-07-18T00:00:00",
          "2023-09-06T00:00:00",
          "2023-11-22T00:00:00",
          "2023-12-06T00:00:00",
          "2024-02-23T00:00:00",
          "2024-03-07T00:00:00",
          "2024-04-18T00:00:00"
         ],
         "xaxis": "x",
         "y": [
          184757.76000000004,
          167386.38822463853,
          285379.5229468599,
          131140.6877934803,
          278400.0,
          77200.1650035,
          126877.94380800001,
          230687.17056000003,
          1665000.0,
          91666.66666666667,
          130555.55555555558,
          207618.45350400003,
          84585.29587200002,
          138873.5691056911,
          152629.02439024393,
          146976.09756097564,
          501696.15234375,
          2312310.0000000005,
          1179067.7606400002,
          384986.25724416005,
          157950.0,
          443752.4044800001,
          2313299.56036608,
          152190.7605504,
          544658.4,
          104842.52393472003,
          293792.5070946837,
          2509456.54063104,
          247104.00000000003,
          842400.0,
          1228975.5296296296,
          2318513.50308864,
          2330209.64487168,
          821340.0,
          515625.0000000002,
          4662181.712962963,
          296550.7024711112,
          686400.0000000001,
          421200.0,
          4.341796875E7,
          495300.0,
          5441569.351111111,
          2288520.0,
          1153152.0000000002,
          1.34784E7,
          8961598.415908324,
          3.633025968000001E7,
          4717440.0,
          8953541.0347152,
          6732000.0
         ],
         "yaxis": "y",
         "type": "scatter"
        }
       ],
       "layout": {
        "template": {
         "data": {
          "histogram2dcontour": [
           {
            "type": "histogram2dcontour",
            "colorbar": {
             "outlinewidth": 0,
             "ticks": ""
            },
            "colorscale": [
             [
              0.0,
              "#0d0887"
             ],
             [
              0.1111111111111111,
              "#46039f"
             ],
             [
              0.2222222222222222,
              "#7201a8"
             ],
             [
              0.3333333333333333,
              "#9c179e"
             ],
             [
              0.4444444444444444,
              "#bd3786"
             ],
             [
              0.5555555555555556,
              "#d8576b"
             ],
             [
              0.6666666666666666,
              "#ed7953"
             ],
             [
              0.7777777777777778,
              "#fb9f3a"
             ],
             [
              0.8888888888888888,
              "#fdca26"
             ],
             [
              1.0,
              "#f0f921"
             ]
            ]
           }
          ],
          "choropleth": [
           {
            "type": "choropleth",
            "colorbar": {
             "outlinewidth": 0,
             "ticks": ""
            }
           }
          ],
          "histogram2d": [
           {
            "type": "histogram2d",
            "colorbar": {
             "outlinewidth": 0,
             "ticks": ""
            },
            "colorscale": [
             [
              0.0,
              "#0d0887"
             ],
             [
              0.1111111111111111,
              "#46039f"
             ],
             [
              0.2222222222222222,
              "#7201a8"
             ],
             [
              0.3333333333333333,
              "#9c179e"
             ],
             [
              0.4444444444444444,
              "#bd3786"
             ],
             [
              0.5555555555555556,
              "#d8576b"
             ],
             [
              0.6666666666666666,
              "#ed7953"
             ],
             [
              0.7777777777777778,
              "#fb9f3a"
             ],
             [
              0.8888888888888888,
              "#fdca26"
             ],
             [
              1.0,
              "#f0f921"
             ]
            ]
           }
          ],
          "heatmap": [
           {
            "type": "heatmap",
            "colorbar": {
             "outlinewidth": 0,
             "ticks": ""
            },
            "colorscale": [
             [
              0.0,
              "#0d0887"
             ],
             [
              0.1111111111111111,
              "#46039f"
             ],
             [
              0.2222222222222222,
              "#7201a8"
             ],
             [
              0.3333333333333333,
              "#9c179e"
             ],
             [
              0.4444444444444444,
              "#bd3786"
             ],
             [
              0.5555555555555556,
              "#d8576b"
             ],
             [
              0.6666666666666666,
              "#ed7953"
             ],
             [
              0.7777777777777778,
              "#fb9f3a"
             ],
             [
              0.8888888888888888,
              "#fdca26"
             ],
             [
              1.0,
              "#f0f921"
             ]
            ]
           }
          ],
          "heatmapgl": [
           {
            "type": "heatmapgl",
            "colorbar": {
             "outlinewidth": 0,
             "ticks": ""
            },
            "colorscale": [
             [
              0.0,
              "#0d0887"
             ],
             [
              0.1111111111111111,
              "#46039f"
             ],
             [
              0.2222222222222222,
              "#7201a8"
             ],
             [
              0.3333333333333333,
              "#9c179e"
             ],
             [
              0.4444444444444444,
              "#bd3786"
             ],
             [
              0.5555555555555556,
              "#d8576b"
             ],
             [
              0.6666666666666666,
              "#ed7953"
             ],
             [
              0.7777777777777778,
              "#fb9f3a"
             ],
             [
              0.8888888888888888,
              "#fdca26"
             ],
             [
              1.0,
              "#f0f921"
             ]
            ]
           }
          ],
          "contourcarpet": [
           {
            "type": "contourcarpet",
            "colorbar": {
             "outlinewidth": 0,
             "ticks": ""
            }
           }
          ],
          "contour": [
           {
            "type": "contour",
            "colorbar": {
             "outlinewidth": 0,
             "ticks": ""
            },
            "colorscale": [
             [
              0.0,
              "#0d0887"
             ],
             [
              0.1111111111111111,
              "#46039f"
             ],
             [
              0.2222222222222222,
              "#7201a8"
             ],
             [
              0.3333333333333333,
              "#9c179e"
             ],
             [
              0.4444444444444444,
              "#bd3786"
             ],
             [
              0.5555555555555556,
              "#d8576b"
             ],
             [
              0.6666666666666666,
              "#ed7953"
             ],
             [
              0.7777777777777778,
              "#fb9f3a"
             ],
             [
              0.8888888888888888,
              "#fdca26"
             ],
             [
              1.0,
              "#f0f921"
             ]
            ]
           }
          ],
          "surface": [
           {
            "type": "surface",
            "colorbar": {
             "outlinewidth": 0,
             "ticks": ""
            },
            "colorscale": [
             [
              0.0,
              "#0d0887"
             ],
             [
              0.1111111111111111,
              "#46039f"
             ],
             [
              0.2222222222222222,
              "#7201a8"
             ],
             [
              0.3333333333333333,
              "#9c179e"
             ],
             [
              0.4444444444444444,
              "#bd3786"
             ],
             [
              0.5555555555555556,
              "#d8576b"
             ],
             [
              0.6666666666666666,
              "#ed7953"
             ],
             [
              0.7777777777777778,
              "#fb9f3a"
             ],
             [
              0.8888888888888888,
              "#fdca26"
             ],
             [
              1.0,
              "#f0f921"
             ]
            ]
           }
          ],
          "mesh3d": [
           {
            "type": "mesh3d",
            "colorbar": {
             "outlinewidth": 0,
             "ticks": ""
            }
           }
          ],
          "scatter": [
           {
            "fillpattern": {
             "fillmode": "overlay",
             "size": 10,
             "solidity": 0.2
            },
            "type": "scatter"
           }
          ],
          "parcoords": [
           {
            "type": "parcoords",
            "line": {
             "colorbar": {
              "outlinewidth": 0,
              "ticks": ""
             }
            }
           }
          ],
          "scatterpolargl": [
           {
            "type": "scatterpolargl",
            "marker": {
             "colorbar": {
              "outlinewidth": 0,
              "ticks": ""
             }
            }
           }
          ],
          "bar": [
           {
            "error_x": {
             "color": "#2a3f5f"
            },
            "error_y": {
             "color": "#2a3f5f"
            },
            "marker": {
             "line": {
              "color": "#E5ECF6",
              "width": 0.5
             },
             "pattern": {
              "fillmode": "overlay",
              "size": 10,
              "solidity": 0.2
             }
            },
            "type": "bar"
           }
          ],
          "scattergeo": [
           {
            "type": "scattergeo",
            "marker": {
             "colorbar": {
              "outlinewidth": 0,
              "ticks": ""
             }
            }
           }
          ],
          "scatterpolar": [
           {
            "type": "scatterpolar",
            "marker": {
             "colorbar": {
              "outlinewidth": 0,
              "ticks": ""
             }
            }
           }
          ],
          "histogram": [
           {
            "marker": {
             "pattern": {
              "fillmode": "overlay",
              "size": 10,
              "solidity": 0.2
             }
            },
            "type": "histogram"
           }
          ],
          "scattergl": [
           {
            "type": "scattergl",
            "marker": {
             "colorbar": {
              "outlinewidth": 0,
              "ticks": ""
             }
            }
           }
          ],
          "scatter3d": [
           {
            "type": "scatter3d",
            "line": {
             "colorbar": {
              "outlinewidth": 0,
              "ticks": ""
             }
            },
            "marker": {
             "colorbar": {
              "outlinewidth": 0,
              "ticks": ""
             }
            }
           }
          ],
          "scattermapbox": [
           {
            "type": "scattermapbox",
            "marker": {
             "colorbar": {
              "outlinewidth": 0,
              "ticks": ""
             }
            }
           }
          ],
          "scatterternary": [
           {
            "type": "scatterternary",
            "marker": {
             "colorbar": {
              "outlinewidth": 0,
              "ticks": ""
             }
            }
           }
          ],
          "scattercarpet": [
           {
            "type": "scattercarpet",
            "marker": {
             "colorbar": {
              "outlinewidth": 0,
              "ticks": ""
             }
            }
           }
          ],
          "carpet": [
           {
            "aaxis": {
             "endlinecolor": "#2a3f5f",
             "gridcolor": "white",
             "linecolor": "white",
             "minorgridcolor": "white",
             "startlinecolor": "#2a3f5f"
            },
            "baxis": {
             "endlinecolor": "#2a3f5f",
             "gridcolor": "white",
             "linecolor": "white",
             "minorgridcolor": "white",
             "startlinecolor": "#2a3f5f"
            },
            "type": "carpet"
           }
          ],
          "table": [
           {
            "cells": {
             "fill": {
              "color": "#EBF0F8"
             },
             "line": {
              "color": "white"
             }
            },
            "header": {
             "fill": {
              "color": "#C8D4E3"
             },
             "line": {
              "color": "white"
             }
            },
            "type": "table"
           }
          ],
          "barpolar": [
           {
            "marker": {
             "line": {
              "color": "#E5ECF6",
              "width": 0.5
             },
             "pattern": {
              "fillmode": "overlay",
              "size": 10,
              "solidity": 0.2
             }
            },
            "type": "barpolar"
           }
          ],
          "pie": [
           {
            "automargin": true,
            "type": "pie"
           }
          ]
         },
         "layout": {
          "autotypenumbers": "strict",
          "colorway": [
           "#636efa",
           "#EF553B",
           "#00cc96",
           "#ab63fa",
           "#FFA15A",
           "#19d3f3",
           "#FF6692",
           "#B6E880",
           "#FF97FF",
           "#FECB52"
          ],
          "font": {
           "color": "#2a3f5f"
          },
          "hovermode": "closest",
          "hoverlabel": {
           "align": "left"
          },
          "paper_bgcolor": "white",
          "plot_bgcolor": "#E5ECF6",
          "polar": {
           "bgcolor": "#E5ECF6",
           "angularaxis": {
            "gridcolor": "white",
            "linecolor": "white",
            "ticks": ""
           },
           "radialaxis": {
            "gridcolor": "white",
            "linecolor": "white",
            "ticks": ""
           }
          },
          "ternary": {
           "bgcolor": "#E5ECF6",
           "aaxis": {
            "gridcolor": "white",
            "linecolor": "white",
            "ticks": ""
           },
           "baxis": {
            "gridcolor": "white",
            "linecolor": "white",
            "ticks": ""
           },
           "caxis": {
            "gridcolor": "white",
            "linecolor": "white",
            "ticks": ""
           }
          },
          "coloraxis": {
           "colorbar": {
            "outlinewidth": 0,
            "ticks": ""
           }
          },
          "colorscale": {
           "sequential": [
            [
             0.0,
             "#0d0887"
            ],
            [
             0.1111111111111111,
             "#46039f"
            ],
            [
             0.2222222222222222,
             "#7201a8"
            ],
            [
             0.3333333333333333,
             "#9c179e"
            ],
            [
             0.4444444444444444,
             "#bd3786"
            ],
            [
             0.5555555555555556,
             "#d8576b"
            ],
            [
             0.6666666666666666,
             "#ed7953"
            ],
            [
             0.7777777777777778,
             "#fb9f3a"
            ],
            [
             0.8888888888888888,
             "#fdca26"
            ],
            [
             1.0,
             "#f0f921"
            ]
           ],
           "sequentialminus": [
            [
             0.0,
             "#0d0887"
            ],
            [
             0.1111111111111111,
             "#46039f"
            ],
            [
             0.2222222222222222,
             "#7201a8"
            ],
            [
             0.3333333333333333,
             "#9c179e"
            ],
            [
             0.4444444444444444,
             "#bd3786"
            ],
            [
             0.5555555555555556,
             "#d8576b"
            ],
            [
             0.6666666666666666,
             "#ed7953"
            ],
            [
             0.7777777777777778,
             "#fb9f3a"
            ],
            [
             0.8888888888888888,
             "#fdca26"
            ],
            [
             1.0,
             "#f0f921"
            ]
           ],
           "diverging": [
            [
             0,
             "#8e0152"
            ],
            [
             0.1,
             "#c51b7d"
            ],
            [
             0.2,
             "#de77ae"
            ],
            [
             0.3,
             "#f1b6da"
            ],
            [
             0.4,
             "#fde0ef"
            ],
            [
             0.5,
             "#f7f7f7"
            ],
            [
             0.6,
             "#e6f5d0"
            ],
            [
             0.7,
             "#b8e186"
            ],
            [
             0.8,
             "#7fbc41"
            ],
            [
             0.9,
             "#4d9221"
            ],
            [
             1,
             "#276419"
            ]
           ]
          },
          "xaxis": {
           "gridcolor": "white",
           "linecolor": "white",
           "ticks": "",
           "title": {
            "standoff": 15
           },
           "zerolinecolor": "white",
           "automargin": true,
           "zerolinewidth": 2
          },
          "yaxis": {
           "gridcolor": "white",
           "linecolor": "white",
           "ticks": "",
           "title": {
            "standoff": 15
           },
           "zerolinecolor": "white",
           "automargin": true,
           "zerolinewidth": 2
          },
          "scene": {
           "xaxis": {
            "backgroundcolor": "#E5ECF6",
            "gridcolor": "white",
            "linecolor": "white",
            "showbackground": true,
            "ticks": "",
            "zerolinecolor": "white",
            "gridwidth": 2
           },
           "yaxis": {
            "backgroundcolor": "#E5ECF6",
            "gridcolor": "white",
            "linecolor": "white",
            "showbackground": true,
            "ticks": "",
            "zerolinecolor": "white",
            "gridwidth": 2
           },
           "zaxis": {
            "backgroundcolor": "#E5ECF6",
            "gridcolor": "white",
            "linecolor": "white",
            "showbackground": true,
            "ticks": "",
            "zerolinecolor": "white",
            "gridwidth": 2
           }
          },
          "shapedefaults": {
           "line": {
            "color": "#2a3f5f"
           }
          },
          "annotationdefaults": {
           "arrowcolor": "#2a3f5f",
           "arrowhead": 0,
           "arrowwidth": 1
          },
          "geo": {
           "bgcolor": "white",
           "landcolor": "#E5ECF6",
           "subunitcolor": "white",
           "showland": true,
           "showlakes": true,
           "lakecolor": "white"
          },
          "title": {
           "x": 0.05
          },
          "mapbox": {
           "style": "light"
          }
         }
        },
        "xaxis": {
         "anchor": "y",
         "domain": [
          0.0,
          1.0
         ],
         "title": {
          "text": "Publication date"
         }
        },
        "yaxis": {
         "anchor": "x",
         "domain": [
          0.0,
          1.0
         ],
         "title": {
          "text": "Energy (kWh)"
         },
         "type": "log"
        },
        "legend": {
         "tracegroupgap": 0
        },
        "margin": {
         "t": 40,
         "l": 10,
         "r": 10,
         "b": 10
        },
        "autosize": false,
        "width": 800,
        "height": 600
       },
       "config": {
        "plotlyServerURL": "https://plot.ly"
       }
      },
      "text/html": "<div>                            <div id=\"9d345087-5d4a-4d48-b682-a11263e44b56\" class=\"plotly-graph-div\" style=\"height:600px; width:800px;\"></div>            <script type=\"text/javascript\">                require([\"plotly\"], function(Plotly) {                    window.PLOTLYENV=window.PLOTLYENV || {};                                    if (document.getElementById(\"9d345087-5d4a-4d48-b682-a11263e44b56\")) {                    Plotly.newPlot(                        \"9d345087-5d4a-4d48-b682-a11263e44b56\",                        [{\"hovertemplate\":\"Publication date=%{x}<br>Energy (kWh)=%{y}<br>System=%{text}<extra></extra>\",\"legendgroup\":\"\",\"marker\":{\"color\":\"#636efa\",\"symbol\":\"circle\"},\"mode\":\"markers+text\",\"name\":\"\",\"orientation\":\"v\",\"showlegend\":false,\"text\":[\"GNMT\",\"AlphaGo Master\",\"AlphaGo Zero\",\"AlphaZero\",\"Megatron-BERT\",\"T5-11B\",\"AlphaStar\",\"Meena\",\"GPT-3 175B (davinci)\",\"iGPT-XL\",\"DALL-E\",\"Switch\",\"Meta Pseudo Labels\",\"ProtT5-XXL\",\"ByT5-XXL\",\"GOAT\",\"HyperCLOVA\",\"Megatron-Turing NLG 530B\",\"Gopher (280B)\",\"GLaM\",\"GPT-NeoX-20B\",\"LaMDA\",\"PaLM (540B)\",\"Flamingo\",\"OPT-175B\",\"UL2\",\"Parti\",\"Minerva (540B)\",\"AlexaTM 20B\",\"GLM-130B\",\"BlenderBot 3\",\"Flan-PaLM 540B\",\"U-PaLM (540B)\",\"BLOOM-176B\",\"Galactica\",\"GPT-3.5 (text-davinci-003)\",\"ViT-22B\",\"LLaMA-65B\",\"Falcon-40B\",\"GPT-4\",\"BloombergGPT\",\"PaLM 2\",\"xTrimoPGLM -100B\",\"Llama 2-70B\",\"Falcon-180B\",\"Inflection-2\",\"Gemini Ultra\",\"MegaScale (Production)\",\"Inflection-2.5\",\"Llama 3-70B\"],\"x\":[\"2016-09-26T00:00:00\",\"2017-01-01T00:00:00\",\"2017-10-18T00:00:00\",\"2017-12-05T00:00:00\",\"2019-09-17T00:00:00\",\"2019-10-23T00:00:00\",\"2019-10-30T00:00:00\",\"2020-01-28T00:00:00\",\"2020-05-28T00:00:00\",\"2020-06-17T00:00:00\",\"2021-01-05T00:00:00\",\"2021-01-11T00:00:00\",\"2021-03-01T00:00:00\",\"2021-05-04T00:00:00\",\"2021-05-28T00:00:00\",\"2021-07-27T00:00:00\",\"2021-09-10T00:00:00\",\"2021-10-11T00:00:00\",\"2021-12-08T00:00:00\",\"2021-12-13T00:00:00\",\"2022-02-09T00:00:00\",\"2022-02-10T00:00:00\",\"2022-04-04T00:00:00\",\"2022-04-29T00:00:00\",\"2022-05-02T00:00:00\",\"2022-05-10T00:00:00\",\"2022-06-22T00:00:00\",\"2022-06-29T00:00:00\",\"2022-08-02T00:00:00\",\"2022-08-04T00:00:00\",\"2022-08-10T00:00:00\",\"2022-10-20T00:00:00\",\"2022-10-20T00:00:00\",\"2022-11-08T00:00:00\",\"2022-11-16T00:00:00\",\"2022-11-28T00:00:00\",\"2023-02-10T00:00:00\",\"2023-02-24T00:00:00\",\"2023-03-15T00:00:00\",\"2023-03-15T00:00:00\",\"2023-03-30T00:00:00\",\"2023-05-10T00:00:00\",\"2023-07-06T00:00:00\",\"2023-07-18T00:00:00\",\"2023-09-06T00:00:00\",\"2023-11-22T00:00:00\",\"2023-12-06T00:00:00\",\"2024-02-23T00:00:00\",\"2024-03-07T00:00:00\",\"2024-04-18T00:00:00\"],\"xaxis\":\"x\",\"y\":[184757.76000000004,167386.38822463853,285379.5229468599,131140.6877934803,278400.0,77200.1650035,126877.94380800001,230687.17056000003,1665000.0,91666.66666666667,130555.55555555558,207618.45350400003,84585.29587200002,138873.5691056911,152629.02439024393,146976.09756097564,501696.15234375,2312310.0000000005,1179067.7606400002,384986.25724416005,157950.0,443752.4044800001,2313299.56036608,152190.7605504,544658.4,104842.52393472003,293792.5070946837,2509456.54063104,247104.00000000003,842400.0,1228975.5296296296,2318513.50308864,2330209.64487168,821340.0,515625.0000000002,4662181.712962963,296550.7024711112,686400.0000000001,421200.0,43417968.75,495300.0,5441569.351111111,2288520.0,1153152.0000000002,13478400.0,8961598.415908324,36330259.68000001,4717440.0,8953541.0347152,6732000.0],\"yaxis\":\"y\",\"type\":\"scatter\"}],                        {\"template\":{\"data\":{\"histogram2dcontour\":[{\"type\":\"histogram2dcontour\",\"colorbar\":{\"outlinewidth\":0,\"ticks\":\"\"},\"colorscale\":[[0.0,\"#0d0887\"],[0.1111111111111111,\"#46039f\"],[0.2222222222222222,\"#7201a8\"],[0.3333333333333333,\"#9c179e\"],[0.4444444444444444,\"#bd3786\"],[0.5555555555555556,\"#d8576b\"],[0.6666666666666666,\"#ed7953\"],[0.7777777777777778,\"#fb9f3a\"],[0.8888888888888888,\"#fdca26\"],[1.0,\"#f0f921\"]]}],\"choropleth\":[{\"type\":\"choropleth\",\"colorbar\":{\"outlinewidth\":0,\"ticks\":\"\"}}],\"histogram2d\":[{\"type\":\"histogram2d\",\"colorbar\":{\"outlinewidth\":0,\"ticks\":\"\"},\"colorscale\":[[0.0,\"#0d0887\"],[0.1111111111111111,\"#46039f\"],[0.2222222222222222,\"#7201a8\"],[0.3333333333333333,\"#9c179e\"],[0.4444444444444444,\"#bd3786\"],[0.5555555555555556,\"#d8576b\"],[0.6666666666666666,\"#ed7953\"],[0.7777777777777778,\"#fb9f3a\"],[0.8888888888888888,\"#fdca26\"],[1.0,\"#f0f921\"]]}],\"heatmap\":[{\"type\":\"heatmap\",\"colorbar\":{\"outlinewidth\":0,\"ticks\":\"\"},\"colorscale\":[[0.0,\"#0d0887\"],[0.1111111111111111,\"#46039f\"],[0.2222222222222222,\"#7201a8\"],[0.3333333333333333,\"#9c179e\"],[0.4444444444444444,\"#bd3786\"],[0.5555555555555556,\"#d8576b\"],[0.6666666666666666,\"#ed7953\"],[0.7777777777777778,\"#fb9f3a\"],[0.8888888888888888,\"#fdca26\"],[1.0,\"#f0f921\"]]}],\"heatmapgl\":[{\"type\":\"heatmapgl\",\"colorbar\":{\"outlinewidth\":0,\"ticks\":\"\"},\"colorscale\":[[0.0,\"#0d0887\"],[0.1111111111111111,\"#46039f\"],[0.2222222222222222,\"#7201a8\"],[0.3333333333333333,\"#9c179e\"],[0.4444444444444444,\"#bd3786\"],[0.5555555555555556,\"#d8576b\"],[0.6666666666666666,\"#ed7953\"],[0.7777777777777778,\"#fb9f3a\"],[0.8888888888888888,\"#fdca26\"],[1.0,\"#f0f921\"]]}],\"contourcarpet\":[{\"type\":\"contourcarpet\",\"colorbar\":{\"outlinewidth\":0,\"ticks\":\"\"}}],\"contour\":[{\"type\":\"contour\",\"colorbar\":{\"outlinewidth\":0,\"ticks\":\"\"},\"colorscale\":[[0.0,\"#0d0887\"],[0.1111111111111111,\"#46039f\"],[0.2222222222222222,\"#7201a8\"],[0.3333333333333333,\"#9c179e\"],[0.4444444444444444,\"#bd3786\"],[0.5555555555555556,\"#d8576b\"],[0.6666666666666666,\"#ed7953\"],[0.7777777777777778,\"#fb9f3a\"],[0.8888888888888888,\"#fdca26\"],[1.0,\"#f0f921\"]]}],\"surface\":[{\"type\":\"surface\",\"colorbar\":{\"outlinewidth\":0,\"ticks\":\"\"},\"colorscale\":[[0.0,\"#0d0887\"],[0.1111111111111111,\"#46039f\"],[0.2222222222222222,\"#7201a8\"],[0.3333333333333333,\"#9c179e\"],[0.4444444444444444,\"#bd3786\"],[0.5555555555555556,\"#d8576b\"],[0.6666666666666666,\"#ed7953\"],[0.7777777777777778,\"#fb9f3a\"],[0.8888888888888888,\"#fdca26\"],[1.0,\"#f0f921\"]]}],\"mesh3d\":[{\"type\":\"mesh3d\",\"colorbar\":{\"outlinewidth\":0,\"ticks\":\"\"}}],\"scatter\":[{\"fillpattern\":{\"fillmode\":\"overlay\",\"size\":10,\"solidity\":0.2},\"type\":\"scatter\"}],\"parcoords\":[{\"type\":\"parcoords\",\"line\":{\"colorbar\":{\"outlinewidth\":0,\"ticks\":\"\"}}}],\"scatterpolargl\":[{\"type\":\"scatterpolargl\",\"marker\":{\"colorbar\":{\"outlinewidth\":0,\"ticks\":\"\"}}}],\"bar\":[{\"error_x\":{\"color\":\"#2a3f5f\"},\"error_y\":{\"color\":\"#2a3f5f\"},\"marker\":{\"line\":{\"color\":\"#E5ECF6\",\"width\":0.5},\"pattern\":{\"fillmode\":\"overlay\",\"size\":10,\"solidity\":0.2}},\"type\":\"bar\"}],\"scattergeo\":[{\"type\":\"scattergeo\",\"marker\":{\"colorbar\":{\"outlinewidth\":0,\"ticks\":\"\"}}}],\"scatterpolar\":[{\"type\":\"scatterpolar\",\"marker\":{\"colorbar\":{\"outlinewidth\":0,\"ticks\":\"\"}}}],\"histogram\":[{\"marker\":{\"pattern\":{\"fillmode\":\"overlay\",\"size\":10,\"solidity\":0.2}},\"type\":\"histogram\"}],\"scattergl\":[{\"type\":\"scattergl\",\"marker\":{\"colorbar\":{\"outlinewidth\":0,\"ticks\":\"\"}}}],\"scatter3d\":[{\"type\":\"scatter3d\",\"line\":{\"colorbar\":{\"outlinewidth\":0,\"ticks\":\"\"}},\"marker\":{\"colorbar\":{\"outlinewidth\":0,\"ticks\":\"\"}}}],\"scattermapbox\":[{\"type\":\"scattermapbox\",\"marker\":{\"colorbar\":{\"outlinewidth\":0,\"ticks\":\"\"}}}],\"scatterternary\":[{\"type\":\"scatterternary\",\"marker\":{\"colorbar\":{\"outlinewidth\":0,\"ticks\":\"\"}}}],\"scattercarpet\":[{\"type\":\"scattercarpet\",\"marker\":{\"colorbar\":{\"outlinewidth\":0,\"ticks\":\"\"}}}],\"carpet\":[{\"aaxis\":{\"endlinecolor\":\"#2a3f5f\",\"gridcolor\":\"white\",\"linecolor\":\"white\",\"minorgridcolor\":\"white\",\"startlinecolor\":\"#2a3f5f\"},\"baxis\":{\"endlinecolor\":\"#2a3f5f\",\"gridcolor\":\"white\",\"linecolor\":\"white\",\"minorgridcolor\":\"white\",\"startlinecolor\":\"#2a3f5f\"},\"type\":\"carpet\"}],\"table\":[{\"cells\":{\"fill\":{\"color\":\"#EBF0F8\"},\"line\":{\"color\":\"white\"}},\"header\":{\"fill\":{\"color\":\"#C8D4E3\"},\"line\":{\"color\":\"white\"}},\"type\":\"table\"}],\"barpolar\":[{\"marker\":{\"line\":{\"color\":\"#E5ECF6\",\"width\":0.5},\"pattern\":{\"fillmode\":\"overlay\",\"size\":10,\"solidity\":0.2}},\"type\":\"barpolar\"}],\"pie\":[{\"automargin\":true,\"type\":\"pie\"}]},\"layout\":{\"autotypenumbers\":\"strict\",\"colorway\":[\"#636efa\",\"#EF553B\",\"#00cc96\",\"#ab63fa\",\"#FFA15A\",\"#19d3f3\",\"#FF6692\",\"#B6E880\",\"#FF97FF\",\"#FECB52\"],\"font\":{\"color\":\"#2a3f5f\"},\"hovermode\":\"closest\",\"hoverlabel\":{\"align\":\"left\"},\"paper_bgcolor\":\"white\",\"plot_bgcolor\":\"#E5ECF6\",\"polar\":{\"bgcolor\":\"#E5ECF6\",\"angularaxis\":{\"gridcolor\":\"white\",\"linecolor\":\"white\",\"ticks\":\"\"},\"radialaxis\":{\"gridcolor\":\"white\",\"linecolor\":\"white\",\"ticks\":\"\"}},\"ternary\":{\"bgcolor\":\"#E5ECF6\",\"aaxis\":{\"gridcolor\":\"white\",\"linecolor\":\"white\",\"ticks\":\"\"},\"baxis\":{\"gridcolor\":\"white\",\"linecolor\":\"white\",\"ticks\":\"\"},\"caxis\":{\"gridcolor\":\"white\",\"linecolor\":\"white\",\"ticks\":\"\"}},\"coloraxis\":{\"colorbar\":{\"outlinewidth\":0,\"ticks\":\"\"}},\"colorscale\":{\"sequential\":[[0.0,\"#0d0887\"],[0.1111111111111111,\"#46039f\"],[0.2222222222222222,\"#7201a8\"],[0.3333333333333333,\"#9c179e\"],[0.4444444444444444,\"#bd3786\"],[0.5555555555555556,\"#d8576b\"],[0.6666666666666666,\"#ed7953\"],[0.7777777777777778,\"#fb9f3a\"],[0.8888888888888888,\"#fdca26\"],[1.0,\"#f0f921\"]],\"sequentialminus\":[[0.0,\"#0d0887\"],[0.1111111111111111,\"#46039f\"],[0.2222222222222222,\"#7201a8\"],[0.3333333333333333,\"#9c179e\"],[0.4444444444444444,\"#bd3786\"],[0.5555555555555556,\"#d8576b\"],[0.6666666666666666,\"#ed7953\"],[0.7777777777777778,\"#fb9f3a\"],[0.8888888888888888,\"#fdca26\"],[1.0,\"#f0f921\"]],\"diverging\":[[0,\"#8e0152\"],[0.1,\"#c51b7d\"],[0.2,\"#de77ae\"],[0.3,\"#f1b6da\"],[0.4,\"#fde0ef\"],[0.5,\"#f7f7f7\"],[0.6,\"#e6f5d0\"],[0.7,\"#b8e186\"],[0.8,\"#7fbc41\"],[0.9,\"#4d9221\"],[1,\"#276419\"]]},\"xaxis\":{\"gridcolor\":\"white\",\"linecolor\":\"white\",\"ticks\":\"\",\"title\":{\"standoff\":15},\"zerolinecolor\":\"white\",\"automargin\":true,\"zerolinewidth\":2},\"yaxis\":{\"gridcolor\":\"white\",\"linecolor\":\"white\",\"ticks\":\"\",\"title\":{\"standoff\":15},\"zerolinecolor\":\"white\",\"automargin\":true,\"zerolinewidth\":2},\"scene\":{\"xaxis\":{\"backgroundcolor\":\"#E5ECF6\",\"gridcolor\":\"white\",\"linecolor\":\"white\",\"showbackground\":true,\"ticks\":\"\",\"zerolinecolor\":\"white\",\"gridwidth\":2},\"yaxis\":{\"backgroundcolor\":\"#E5ECF6\",\"gridcolor\":\"white\",\"linecolor\":\"white\",\"showbackground\":true,\"ticks\":\"\",\"zerolinecolor\":\"white\",\"gridwidth\":2},\"zaxis\":{\"backgroundcolor\":\"#E5ECF6\",\"gridcolor\":\"white\",\"linecolor\":\"white\",\"showbackground\":true,\"ticks\":\"\",\"zerolinecolor\":\"white\",\"gridwidth\":2}},\"shapedefaults\":{\"line\":{\"color\":\"#2a3f5f\"}},\"annotationdefaults\":{\"arrowcolor\":\"#2a3f5f\",\"arrowhead\":0,\"arrowwidth\":1},\"geo\":{\"bgcolor\":\"white\",\"landcolor\":\"#E5ECF6\",\"subunitcolor\":\"white\",\"showland\":true,\"showlakes\":true,\"lakecolor\":\"white\"},\"title\":{\"x\":0.05},\"mapbox\":{\"style\":\"light\"}}},\"xaxis\":{\"anchor\":\"y\",\"domain\":[0.0,1.0],\"title\":{\"text\":\"Publication date\"}},\"yaxis\":{\"anchor\":\"x\",\"domain\":[0.0,1.0],\"title\":{\"text\":\"Energy (kWh)\"},\"type\":\"log\"},\"legend\":{\"tracegroupgap\":0},\"margin\":{\"t\":40,\"l\":10,\"r\":10,\"b\":10},\"autosize\":false,\"width\":800,\"height\":600},                        {\"responsive\": true}                    ).then(function(){\n                            \nvar gd = document.getElementById('9d345087-5d4a-4d48-b682-a11263e44b56');\nvar x = new MutationObserver(function (mutations, observer) {{\n        var display = window.getComputedStyle(gd).display;\n        if (!display || display === 'none') {{\n            console.log([gd, 'removed!']);\n            Plotly.purge(gd);\n            observer.disconnect();\n        }}\n}});\n\n// Listen for the removal of the full notebook cells\nvar notebookContainer = gd.closest('#notebook-container');\nif (notebookContainer) {{\n    x.observe(notebookContainer, {childList: true});\n}}\n\n// Listen for the clearing of the current output cell\nvar outputEl = gd.closest('.output');\nif (outputEl) {{\n    x.observe(outputEl, {childList: true});\n}}\n\n                        })                };                });            </script>        </div>"
     },
     "metadata": {},
     "output_type": "display_data"
    }
   ],
   "source": [
    "from energy import energy_price\n",
    "\n",
    "# Stacked bar chart of cost components, using component_cost_df\n",
    "filtered_component_cost_df.loc[:, 'Energy (kWh)'] = [\n",
    "    row['Energy cost'] / energy_price(row['Publication date'].year) \n",
    "    for _, row in filtered_component_cost_df.iterrows()\n",
    "]\n",
    "fig = px.scatter(\n",
    "    filtered_component_cost_df,\n",
    "    x='Publication date',\n",
    "    y='Energy (kWh)',\n",
    "    text='System',\n",
    ")\n",
    "# log y\n",
    "fig.update_yaxes(type='log')\n",
    "# size\n",
    "fig.update_layout(\n",
    "    autosize=False,\n",
    "    width=800,\n",
    "    height=600,\n",
    ")\n",
    "\n",
    "# margins\n",
    "fig.update_layout(margin=dict(l=10, r=10, t=40, b=10))\n",
    "\n",
    "save_plot(fig, results_dir, 'energy_kwh')\n",
    "\n",
    "fig.show()"
   ]
  },
  {
   "cell_type": "code",
   "execution_count": 587,
   "metadata": {
    "ExecuteTime": {
     "end_time": "2024-05-17T19:15:48.686636400Z",
     "start_time": "2024-05-17T19:15:48.221213700Z"
    }
   },
   "outputs": [
    {
     "data": {
      "application/vnd.plotly.v1+json": {
       "data": [
        {
         "hovertemplate": "Publication date=%{x}<br>Power capacity for 3-month training run (kW)=%{y}<br>System=%{text}<extra></extra>",
         "legendgroup": "",
         "marker": {
          "color": "#636efa",
          "symbol": "circle"
         },
         "mode": "markers+text",
         "name": "",
         "orientation": "v",
         "showlegend": false,
         "text": [
          "GNMT",
          "AlphaGo Master",
          "AlphaGo Zero",
          "AlphaZero",
          "Megatron-BERT",
          "T5-11B",
          "AlphaStar",
          "Meena",
          "GPT-3 175B (davinci)",
          "iGPT-XL",
          "DALL-E",
          "Switch",
          "Meta Pseudo Labels",
          "ProtT5-XXL",
          "ByT5-XXL",
          "GOAT",
          "HyperCLOVA",
          "Megatron-Turing NLG 530B",
          "Gopher (280B)",
          "GLaM",
          "GPT-NeoX-20B",
          "LaMDA",
          "PaLM (540B)",
          "Flamingo",
          "OPT-175B",
          "UL2",
          "Parti",
          "Minerva (540B)",
          "AlexaTM 20B",
          "GLM-130B",
          "BlenderBot 3",
          "Flan-PaLM 540B",
          "U-PaLM (540B)",
          "BLOOM-176B",
          "Galactica",
          "GPT-3.5 (text-davinci-003)",
          "ViT-22B",
          "LLaMA-65B",
          "Falcon-40B",
          "GPT-4",
          "BloombergGPT",
          "PaLM 2",
          "xTrimoPGLM -100B",
          "Llama 2-70B",
          "Falcon-180B",
          "Inflection-2",
          "Gemini Ultra",
          "MegaScale (Production)",
          "Inflection-2.5",
          "Llama 3-70B"
         ],
         "x": [
          "2016-09-26T00:00:00",
          "2017-01-01T00:00:00",
          "2017-10-18T00:00:00",
          "2017-12-05T00:00:00",
          "2019-09-17T00:00:00",
          "2019-10-23T00:00:00",
          "2019-10-30T00:00:00",
          "2020-01-28T00:00:00",
          "2020-05-28T00:00:00",
          "2020-06-17T00:00:00",
          "2021-01-05T00:00:00",
          "2021-01-11T00:00:00",
          "2021-03-01T00:00:00",
          "2021-05-04T00:00:00",
          "2021-05-28T00:00:00",
          "2021-07-27T00:00:00",
          "2021-09-10T00:00:00",
          "2021-10-11T00:00:00",
          "2021-12-08T00:00:00",
          "2021-12-13T00:00:00",
          "2022-02-09T00:00:00",
          "2022-02-10T00:00:00",
          "2022-04-04T00:00:00",
          "2022-04-29T00:00:00",
          "2022-05-02T00:00:00",
          "2022-05-10T00:00:00",
          "2022-06-22T00:00:00",
          "2022-06-29T00:00:00",
          "2022-08-02T00:00:00",
          "2022-08-04T00:00:00",
          "2022-08-10T00:00:00",
          "2022-10-20T00:00:00",
          "2022-10-20T00:00:00",
          "2022-11-08T00:00:00",
          "2022-11-16T00:00:00",
          "2022-11-28T00:00:00",
          "2023-02-10T00:00:00",
          "2023-02-24T00:00:00",
          "2023-03-15T00:00:00",
          "2023-03-15T00:00:00",
          "2023-03-30T00:00:00",
          "2023-05-10T00:00:00",
          "2023-07-06T00:00:00",
          "2023-07-18T00:00:00",
          "2023-09-06T00:00:00",
          "2023-11-22T00:00:00",
          "2023-12-06T00:00:00",
          "2024-02-23T00:00:00",
          "2024-03-07T00:00:00",
          "2024-04-18T00:00:00"
         ],
         "xaxis": "x",
         "y": [
          112.40870636550311,
          177.62750184342096,
          302.83974865559844,
          139.16419972884697,
          169.38170203057265,
          81.92346221765915,
          134.64065051334703,
          244.80118275154007,
          1013.0047912388774,
          55.771034552690956,
          79.43147345383258,
          220.32106447638608,
          89.76043367556471,
          147.3701978635119,
          161.96724595582714,
          155.96845906857428,
          305.23760124344057,
          1406.8355007985401,
          1251.2060451745383,
          408.54066954688574,
          96.09856262833677,
          470.9022751540042,
          2454.8329543490763,
          161.50216804928135,
          331.3763175906913,
          111.25704910061606,
          311.7674600010439,
          2662.991304279261,
          150.34086242299796,
          512.5256673511293,
          747.7225824805715,
          2460.365898995209,
          2472.777639687885,
          499.71252566735114,
          313.7120693588867,
          2836.523971686341,
          314.6944085988796,
          417.61350673054994,
          256.26283367556465,
          26415.98220396988,
          301.34610997033997,
          5774.498035338555,
          1392.3613963039015,
          701.5906913073239,
          8200.410677618069,
          5452.3376171014215,
          38553.03490759755,
          2870.1437371663246,
          5447.435415447684,
          4095.824777549624
         ],
         "yaxis": "y",
         "type": "scatter"
        }
       ],
       "layout": {
        "template": {
         "data": {
          "histogram2dcontour": [
           {
            "type": "histogram2dcontour",
            "colorbar": {
             "outlinewidth": 0,
             "ticks": ""
            },
            "colorscale": [
             [
              0.0,
              "#0d0887"
             ],
             [
              0.1111111111111111,
              "#46039f"
             ],
             [
              0.2222222222222222,
              "#7201a8"
             ],
             [
              0.3333333333333333,
              "#9c179e"
             ],
             [
              0.4444444444444444,
              "#bd3786"
             ],
             [
              0.5555555555555556,
              "#d8576b"
             ],
             [
              0.6666666666666666,
              "#ed7953"
             ],
             [
              0.7777777777777778,
              "#fb9f3a"
             ],
             [
              0.8888888888888888,
              "#fdca26"
             ],
             [
              1.0,
              "#f0f921"
             ]
            ]
           }
          ],
          "choropleth": [
           {
            "type": "choropleth",
            "colorbar": {
             "outlinewidth": 0,
             "ticks": ""
            }
           }
          ],
          "histogram2d": [
           {
            "type": "histogram2d",
            "colorbar": {
             "outlinewidth": 0,
             "ticks": ""
            },
            "colorscale": [
             [
              0.0,
              "#0d0887"
             ],
             [
              0.1111111111111111,
              "#46039f"
             ],
             [
              0.2222222222222222,
              "#7201a8"
             ],
             [
              0.3333333333333333,
              "#9c179e"
             ],
             [
              0.4444444444444444,
              "#bd3786"
             ],
             [
              0.5555555555555556,
              "#d8576b"
             ],
             [
              0.6666666666666666,
              "#ed7953"
             ],
             [
              0.7777777777777778,
              "#fb9f3a"
             ],
             [
              0.8888888888888888,
              "#fdca26"
             ],
             [
              1.0,
              "#f0f921"
             ]
            ]
           }
          ],
          "heatmap": [
           {
            "type": "heatmap",
            "colorbar": {
             "outlinewidth": 0,
             "ticks": ""
            },
            "colorscale": [
             [
              0.0,
              "#0d0887"
             ],
             [
              0.1111111111111111,
              "#46039f"
             ],
             [
              0.2222222222222222,
              "#7201a8"
             ],
             [
              0.3333333333333333,
              "#9c179e"
             ],
             [
              0.4444444444444444,
              "#bd3786"
             ],
             [
              0.5555555555555556,
              "#d8576b"
             ],
             [
              0.6666666666666666,
              "#ed7953"
             ],
             [
              0.7777777777777778,
              "#fb9f3a"
             ],
             [
              0.8888888888888888,
              "#fdca26"
             ],
             [
              1.0,
              "#f0f921"
             ]
            ]
           }
          ],
          "heatmapgl": [
           {
            "type": "heatmapgl",
            "colorbar": {
             "outlinewidth": 0,
             "ticks": ""
            },
            "colorscale": [
             [
              0.0,
              "#0d0887"
             ],
             [
              0.1111111111111111,
              "#46039f"
             ],
             [
              0.2222222222222222,
              "#7201a8"
             ],
             [
              0.3333333333333333,
              "#9c179e"
             ],
             [
              0.4444444444444444,
              "#bd3786"
             ],
             [
              0.5555555555555556,
              "#d8576b"
             ],
             [
              0.6666666666666666,
              "#ed7953"
             ],
             [
              0.7777777777777778,
              "#fb9f3a"
             ],
             [
              0.8888888888888888,
              "#fdca26"
             ],
             [
              1.0,
              "#f0f921"
             ]
            ]
           }
          ],
          "contourcarpet": [
           {
            "type": "contourcarpet",
            "colorbar": {
             "outlinewidth": 0,
             "ticks": ""
            }
           }
          ],
          "contour": [
           {
            "type": "contour",
            "colorbar": {
             "outlinewidth": 0,
             "ticks": ""
            },
            "colorscale": [
             [
              0.0,
              "#0d0887"
             ],
             [
              0.1111111111111111,
              "#46039f"
             ],
             [
              0.2222222222222222,
              "#7201a8"
             ],
             [
              0.3333333333333333,
              "#9c179e"
             ],
             [
              0.4444444444444444,
              "#bd3786"
             ],
             [
              0.5555555555555556,
              "#d8576b"
             ],
             [
              0.6666666666666666,
              "#ed7953"
             ],
             [
              0.7777777777777778,
              "#fb9f3a"
             ],
             [
              0.8888888888888888,
              "#fdca26"
             ],
             [
              1.0,
              "#f0f921"
             ]
            ]
           }
          ],
          "surface": [
           {
            "type": "surface",
            "colorbar": {
             "outlinewidth": 0,
             "ticks": ""
            },
            "colorscale": [
             [
              0.0,
              "#0d0887"
             ],
             [
              0.1111111111111111,
              "#46039f"
             ],
             [
              0.2222222222222222,
              "#7201a8"
             ],
             [
              0.3333333333333333,
              "#9c179e"
             ],
             [
              0.4444444444444444,
              "#bd3786"
             ],
             [
              0.5555555555555556,
              "#d8576b"
             ],
             [
              0.6666666666666666,
              "#ed7953"
             ],
             [
              0.7777777777777778,
              "#fb9f3a"
             ],
             [
              0.8888888888888888,
              "#fdca26"
             ],
             [
              1.0,
              "#f0f921"
             ]
            ]
           }
          ],
          "mesh3d": [
           {
            "type": "mesh3d",
            "colorbar": {
             "outlinewidth": 0,
             "ticks": ""
            }
           }
          ],
          "scatter": [
           {
            "fillpattern": {
             "fillmode": "overlay",
             "size": 10,
             "solidity": 0.2
            },
            "type": "scatter"
           }
          ],
          "parcoords": [
           {
            "type": "parcoords",
            "line": {
             "colorbar": {
              "outlinewidth": 0,
              "ticks": ""
             }
            }
           }
          ],
          "scatterpolargl": [
           {
            "type": "scatterpolargl",
            "marker": {
             "colorbar": {
              "outlinewidth": 0,
              "ticks": ""
             }
            }
           }
          ],
          "bar": [
           {
            "error_x": {
             "color": "#2a3f5f"
            },
            "error_y": {
             "color": "#2a3f5f"
            },
            "marker": {
             "line": {
              "color": "#E5ECF6",
              "width": 0.5
             },
             "pattern": {
              "fillmode": "overlay",
              "size": 10,
              "solidity": 0.2
             }
            },
            "type": "bar"
           }
          ],
          "scattergeo": [
           {
            "type": "scattergeo",
            "marker": {
             "colorbar": {
              "outlinewidth": 0,
              "ticks": ""
             }
            }
           }
          ],
          "scatterpolar": [
           {
            "type": "scatterpolar",
            "marker": {
             "colorbar": {
              "outlinewidth": 0,
              "ticks": ""
             }
            }
           }
          ],
          "histogram": [
           {
            "marker": {
             "pattern": {
              "fillmode": "overlay",
              "size": 10,
              "solidity": 0.2
             }
            },
            "type": "histogram"
           }
          ],
          "scattergl": [
           {
            "type": "scattergl",
            "marker": {
             "colorbar": {
              "outlinewidth": 0,
              "ticks": ""
             }
            }
           }
          ],
          "scatter3d": [
           {
            "type": "scatter3d",
            "line": {
             "colorbar": {
              "outlinewidth": 0,
              "ticks": ""
             }
            },
            "marker": {
             "colorbar": {
              "outlinewidth": 0,
              "ticks": ""
             }
            }
           }
          ],
          "scattermapbox": [
           {
            "type": "scattermapbox",
            "marker": {
             "colorbar": {
              "outlinewidth": 0,
              "ticks": ""
             }
            }
           }
          ],
          "scatterternary": [
           {
            "type": "scatterternary",
            "marker": {
             "colorbar": {
              "outlinewidth": 0,
              "ticks": ""
             }
            }
           }
          ],
          "scattercarpet": [
           {
            "type": "scattercarpet",
            "marker": {
             "colorbar": {
              "outlinewidth": 0,
              "ticks": ""
             }
            }
           }
          ],
          "carpet": [
           {
            "aaxis": {
             "endlinecolor": "#2a3f5f",
             "gridcolor": "white",
             "linecolor": "white",
             "minorgridcolor": "white",
             "startlinecolor": "#2a3f5f"
            },
            "baxis": {
             "endlinecolor": "#2a3f5f",
             "gridcolor": "white",
             "linecolor": "white",
             "minorgridcolor": "white",
             "startlinecolor": "#2a3f5f"
            },
            "type": "carpet"
           }
          ],
          "table": [
           {
            "cells": {
             "fill": {
              "color": "#EBF0F8"
             },
             "line": {
              "color": "white"
             }
            },
            "header": {
             "fill": {
              "color": "#C8D4E3"
             },
             "line": {
              "color": "white"
             }
            },
            "type": "table"
           }
          ],
          "barpolar": [
           {
            "marker": {
             "line": {
              "color": "#E5ECF6",
              "width": 0.5
             },
             "pattern": {
              "fillmode": "overlay",
              "size": 10,
              "solidity": 0.2
             }
            },
            "type": "barpolar"
           }
          ],
          "pie": [
           {
            "automargin": true,
            "type": "pie"
           }
          ]
         },
         "layout": {
          "autotypenumbers": "strict",
          "colorway": [
           "#636efa",
           "#EF553B",
           "#00cc96",
           "#ab63fa",
           "#FFA15A",
           "#19d3f3",
           "#FF6692",
           "#B6E880",
           "#FF97FF",
           "#FECB52"
          ],
          "font": {
           "color": "#2a3f5f"
          },
          "hovermode": "closest",
          "hoverlabel": {
           "align": "left"
          },
          "paper_bgcolor": "white",
          "plot_bgcolor": "#E5ECF6",
          "polar": {
           "bgcolor": "#E5ECF6",
           "angularaxis": {
            "gridcolor": "white",
            "linecolor": "white",
            "ticks": ""
           },
           "radialaxis": {
            "gridcolor": "white",
            "linecolor": "white",
            "ticks": ""
           }
          },
          "ternary": {
           "bgcolor": "#E5ECF6",
           "aaxis": {
            "gridcolor": "white",
            "linecolor": "white",
            "ticks": ""
           },
           "baxis": {
            "gridcolor": "white",
            "linecolor": "white",
            "ticks": ""
           },
           "caxis": {
            "gridcolor": "white",
            "linecolor": "white",
            "ticks": ""
           }
          },
          "coloraxis": {
           "colorbar": {
            "outlinewidth": 0,
            "ticks": ""
           }
          },
          "colorscale": {
           "sequential": [
            [
             0.0,
             "#0d0887"
            ],
            [
             0.1111111111111111,
             "#46039f"
            ],
            [
             0.2222222222222222,
             "#7201a8"
            ],
            [
             0.3333333333333333,
             "#9c179e"
            ],
            [
             0.4444444444444444,
             "#bd3786"
            ],
            [
             0.5555555555555556,
             "#d8576b"
            ],
            [
             0.6666666666666666,
             "#ed7953"
            ],
            [
             0.7777777777777778,
             "#fb9f3a"
            ],
            [
             0.8888888888888888,
             "#fdca26"
            ],
            [
             1.0,
             "#f0f921"
            ]
           ],
           "sequentialminus": [
            [
             0.0,
             "#0d0887"
            ],
            [
             0.1111111111111111,
             "#46039f"
            ],
            [
             0.2222222222222222,
             "#7201a8"
            ],
            [
             0.3333333333333333,
             "#9c179e"
            ],
            [
             0.4444444444444444,
             "#bd3786"
            ],
            [
             0.5555555555555556,
             "#d8576b"
            ],
            [
             0.6666666666666666,
             "#ed7953"
            ],
            [
             0.7777777777777778,
             "#fb9f3a"
            ],
            [
             0.8888888888888888,
             "#fdca26"
            ],
            [
             1.0,
             "#f0f921"
            ]
           ],
           "diverging": [
            [
             0,
             "#8e0152"
            ],
            [
             0.1,
             "#c51b7d"
            ],
            [
             0.2,
             "#de77ae"
            ],
            [
             0.3,
             "#f1b6da"
            ],
            [
             0.4,
             "#fde0ef"
            ],
            [
             0.5,
             "#f7f7f7"
            ],
            [
             0.6,
             "#e6f5d0"
            ],
            [
             0.7,
             "#b8e186"
            ],
            [
             0.8,
             "#7fbc41"
            ],
            [
             0.9,
             "#4d9221"
            ],
            [
             1,
             "#276419"
            ]
           ]
          },
          "xaxis": {
           "gridcolor": "white",
           "linecolor": "white",
           "ticks": "",
           "title": {
            "standoff": 15
           },
           "zerolinecolor": "white",
           "automargin": true,
           "zerolinewidth": 2
          },
          "yaxis": {
           "gridcolor": "white",
           "linecolor": "white",
           "ticks": "",
           "title": {
            "standoff": 15
           },
           "zerolinecolor": "white",
           "automargin": true,
           "zerolinewidth": 2
          },
          "scene": {
           "xaxis": {
            "backgroundcolor": "#E5ECF6",
            "gridcolor": "white",
            "linecolor": "white",
            "showbackground": true,
            "ticks": "",
            "zerolinecolor": "white",
            "gridwidth": 2
           },
           "yaxis": {
            "backgroundcolor": "#E5ECF6",
            "gridcolor": "white",
            "linecolor": "white",
            "showbackground": true,
            "ticks": "",
            "zerolinecolor": "white",
            "gridwidth": 2
           },
           "zaxis": {
            "backgroundcolor": "#E5ECF6",
            "gridcolor": "white",
            "linecolor": "white",
            "showbackground": true,
            "ticks": "",
            "zerolinecolor": "white",
            "gridwidth": 2
           }
          },
          "shapedefaults": {
           "line": {
            "color": "#2a3f5f"
           }
          },
          "annotationdefaults": {
           "arrowcolor": "#2a3f5f",
           "arrowhead": 0,
           "arrowwidth": 1
          },
          "geo": {
           "bgcolor": "white",
           "landcolor": "#E5ECF6",
           "subunitcolor": "white",
           "showland": true,
           "showlakes": true,
           "lakecolor": "white"
          },
          "title": {
           "x": 0.05
          },
          "mapbox": {
           "style": "light"
          }
         }
        },
        "xaxis": {
         "anchor": "y",
         "domain": [
          0.0,
          1.0
         ],
         "title": {
          "text": "Publication date"
         }
        },
        "yaxis": {
         "anchor": "x",
         "domain": [
          0.0,
          1.0
         ],
         "title": {
          "text": "Power capacity for 3-month training run (kW)"
         },
         "type": "log"
        },
        "legend": {
         "tracegroupgap": 0
        },
        "margin": {
         "t": 40,
         "l": 10,
         "r": 10,
         "b": 10
        },
        "autosize": false,
        "width": 800,
        "height": 600
       },
       "config": {
        "plotlyServerURL": "https://plot.ly"
       }
      },
      "text/html": "<div>                            <div id=\"76e43c7f-060d-4012-b069-e7081473b76f\" class=\"plotly-graph-div\" style=\"height:600px; width:800px;\"></div>            <script type=\"text/javascript\">                require([\"plotly\"], function(Plotly) {                    window.PLOTLYENV=window.PLOTLYENV || {};                                    if (document.getElementById(\"76e43c7f-060d-4012-b069-e7081473b76f\")) {                    Plotly.newPlot(                        \"76e43c7f-060d-4012-b069-e7081473b76f\",                        [{\"hovertemplate\":\"Publication date=%{x}<br>Power capacity for 3-month training run (kW)=%{y}<br>System=%{text}<extra></extra>\",\"legendgroup\":\"\",\"marker\":{\"color\":\"#636efa\",\"symbol\":\"circle\"},\"mode\":\"markers+text\",\"name\":\"\",\"orientation\":\"v\",\"showlegend\":false,\"text\":[\"GNMT\",\"AlphaGo Master\",\"AlphaGo Zero\",\"AlphaZero\",\"Megatron-BERT\",\"T5-11B\",\"AlphaStar\",\"Meena\",\"GPT-3 175B (davinci)\",\"iGPT-XL\",\"DALL-E\",\"Switch\",\"Meta Pseudo Labels\",\"ProtT5-XXL\",\"ByT5-XXL\",\"GOAT\",\"HyperCLOVA\",\"Megatron-Turing NLG 530B\",\"Gopher (280B)\",\"GLaM\",\"GPT-NeoX-20B\",\"LaMDA\",\"PaLM (540B)\",\"Flamingo\",\"OPT-175B\",\"UL2\",\"Parti\",\"Minerva (540B)\",\"AlexaTM 20B\",\"GLM-130B\",\"BlenderBot 3\",\"Flan-PaLM 540B\",\"U-PaLM (540B)\",\"BLOOM-176B\",\"Galactica\",\"GPT-3.5 (text-davinci-003)\",\"ViT-22B\",\"LLaMA-65B\",\"Falcon-40B\",\"GPT-4\",\"BloombergGPT\",\"PaLM 2\",\"xTrimoPGLM -100B\",\"Llama 2-70B\",\"Falcon-180B\",\"Inflection-2\",\"Gemini Ultra\",\"MegaScale (Production)\",\"Inflection-2.5\",\"Llama 3-70B\"],\"x\":[\"2016-09-26T00:00:00\",\"2017-01-01T00:00:00\",\"2017-10-18T00:00:00\",\"2017-12-05T00:00:00\",\"2019-09-17T00:00:00\",\"2019-10-23T00:00:00\",\"2019-10-30T00:00:00\",\"2020-01-28T00:00:00\",\"2020-05-28T00:00:00\",\"2020-06-17T00:00:00\",\"2021-01-05T00:00:00\",\"2021-01-11T00:00:00\",\"2021-03-01T00:00:00\",\"2021-05-04T00:00:00\",\"2021-05-28T00:00:00\",\"2021-07-27T00:00:00\",\"2021-09-10T00:00:00\",\"2021-10-11T00:00:00\",\"2021-12-08T00:00:00\",\"2021-12-13T00:00:00\",\"2022-02-09T00:00:00\",\"2022-02-10T00:00:00\",\"2022-04-04T00:00:00\",\"2022-04-29T00:00:00\",\"2022-05-02T00:00:00\",\"2022-05-10T00:00:00\",\"2022-06-22T00:00:00\",\"2022-06-29T00:00:00\",\"2022-08-02T00:00:00\",\"2022-08-04T00:00:00\",\"2022-08-10T00:00:00\",\"2022-10-20T00:00:00\",\"2022-10-20T00:00:00\",\"2022-11-08T00:00:00\",\"2022-11-16T00:00:00\",\"2022-11-28T00:00:00\",\"2023-02-10T00:00:00\",\"2023-02-24T00:00:00\",\"2023-03-15T00:00:00\",\"2023-03-15T00:00:00\",\"2023-03-30T00:00:00\",\"2023-05-10T00:00:00\",\"2023-07-06T00:00:00\",\"2023-07-18T00:00:00\",\"2023-09-06T00:00:00\",\"2023-11-22T00:00:00\",\"2023-12-06T00:00:00\",\"2024-02-23T00:00:00\",\"2024-03-07T00:00:00\",\"2024-04-18T00:00:00\"],\"xaxis\":\"x\",\"y\":[112.40870636550311,177.62750184342096,302.83974865559844,139.16419972884697,169.38170203057265,81.92346221765915,134.64065051334703,244.80118275154007,1013.0047912388774,55.771034552690956,79.43147345383258,220.32106447638608,89.76043367556471,147.3701978635119,161.96724595582714,155.96845906857428,305.23760124344057,1406.8355007985401,1251.2060451745383,408.54066954688574,96.09856262833677,470.9022751540042,2454.8329543490763,161.50216804928135,331.3763175906913,111.25704910061606,311.7674600010439,2662.991304279261,150.34086242299796,512.5256673511293,747.7225824805715,2460.365898995209,2472.777639687885,499.71252566735114,313.7120693588867,2836.523971686341,314.6944085988796,417.61350673054994,256.26283367556465,26415.98220396988,301.34610997033997,5774.498035338555,1392.3613963039015,701.5906913073239,8200.410677618069,5452.3376171014215,38553.03490759755,2870.1437371663246,5447.435415447684,4095.824777549624],\"yaxis\":\"y\",\"type\":\"scatter\"}],                        {\"template\":{\"data\":{\"histogram2dcontour\":[{\"type\":\"histogram2dcontour\",\"colorbar\":{\"outlinewidth\":0,\"ticks\":\"\"},\"colorscale\":[[0.0,\"#0d0887\"],[0.1111111111111111,\"#46039f\"],[0.2222222222222222,\"#7201a8\"],[0.3333333333333333,\"#9c179e\"],[0.4444444444444444,\"#bd3786\"],[0.5555555555555556,\"#d8576b\"],[0.6666666666666666,\"#ed7953\"],[0.7777777777777778,\"#fb9f3a\"],[0.8888888888888888,\"#fdca26\"],[1.0,\"#f0f921\"]]}],\"choropleth\":[{\"type\":\"choropleth\",\"colorbar\":{\"outlinewidth\":0,\"ticks\":\"\"}}],\"histogram2d\":[{\"type\":\"histogram2d\",\"colorbar\":{\"outlinewidth\":0,\"ticks\":\"\"},\"colorscale\":[[0.0,\"#0d0887\"],[0.1111111111111111,\"#46039f\"],[0.2222222222222222,\"#7201a8\"],[0.3333333333333333,\"#9c179e\"],[0.4444444444444444,\"#bd3786\"],[0.5555555555555556,\"#d8576b\"],[0.6666666666666666,\"#ed7953\"],[0.7777777777777778,\"#fb9f3a\"],[0.8888888888888888,\"#fdca26\"],[1.0,\"#f0f921\"]]}],\"heatmap\":[{\"type\":\"heatmap\",\"colorbar\":{\"outlinewidth\":0,\"ticks\":\"\"},\"colorscale\":[[0.0,\"#0d0887\"],[0.1111111111111111,\"#46039f\"],[0.2222222222222222,\"#7201a8\"],[0.3333333333333333,\"#9c179e\"],[0.4444444444444444,\"#bd3786\"],[0.5555555555555556,\"#d8576b\"],[0.6666666666666666,\"#ed7953\"],[0.7777777777777778,\"#fb9f3a\"],[0.8888888888888888,\"#fdca26\"],[1.0,\"#f0f921\"]]}],\"heatmapgl\":[{\"type\":\"heatmapgl\",\"colorbar\":{\"outlinewidth\":0,\"ticks\":\"\"},\"colorscale\":[[0.0,\"#0d0887\"],[0.1111111111111111,\"#46039f\"],[0.2222222222222222,\"#7201a8\"],[0.3333333333333333,\"#9c179e\"],[0.4444444444444444,\"#bd3786\"],[0.5555555555555556,\"#d8576b\"],[0.6666666666666666,\"#ed7953\"],[0.7777777777777778,\"#fb9f3a\"],[0.8888888888888888,\"#fdca26\"],[1.0,\"#f0f921\"]]}],\"contourcarpet\":[{\"type\":\"contourcarpet\",\"colorbar\":{\"outlinewidth\":0,\"ticks\":\"\"}}],\"contour\":[{\"type\":\"contour\",\"colorbar\":{\"outlinewidth\":0,\"ticks\":\"\"},\"colorscale\":[[0.0,\"#0d0887\"],[0.1111111111111111,\"#46039f\"],[0.2222222222222222,\"#7201a8\"],[0.3333333333333333,\"#9c179e\"],[0.4444444444444444,\"#bd3786\"],[0.5555555555555556,\"#d8576b\"],[0.6666666666666666,\"#ed7953\"],[0.7777777777777778,\"#fb9f3a\"],[0.8888888888888888,\"#fdca26\"],[1.0,\"#f0f921\"]]}],\"surface\":[{\"type\":\"surface\",\"colorbar\":{\"outlinewidth\":0,\"ticks\":\"\"},\"colorscale\":[[0.0,\"#0d0887\"],[0.1111111111111111,\"#46039f\"],[0.2222222222222222,\"#7201a8\"],[0.3333333333333333,\"#9c179e\"],[0.4444444444444444,\"#bd3786\"],[0.5555555555555556,\"#d8576b\"],[0.6666666666666666,\"#ed7953\"],[0.7777777777777778,\"#fb9f3a\"],[0.8888888888888888,\"#fdca26\"],[1.0,\"#f0f921\"]]}],\"mesh3d\":[{\"type\":\"mesh3d\",\"colorbar\":{\"outlinewidth\":0,\"ticks\":\"\"}}],\"scatter\":[{\"fillpattern\":{\"fillmode\":\"overlay\",\"size\":10,\"solidity\":0.2},\"type\":\"scatter\"}],\"parcoords\":[{\"type\":\"parcoords\",\"line\":{\"colorbar\":{\"outlinewidth\":0,\"ticks\":\"\"}}}],\"scatterpolargl\":[{\"type\":\"scatterpolargl\",\"marker\":{\"colorbar\":{\"outlinewidth\":0,\"ticks\":\"\"}}}],\"bar\":[{\"error_x\":{\"color\":\"#2a3f5f\"},\"error_y\":{\"color\":\"#2a3f5f\"},\"marker\":{\"line\":{\"color\":\"#E5ECF6\",\"width\":0.5},\"pattern\":{\"fillmode\":\"overlay\",\"size\":10,\"solidity\":0.2}},\"type\":\"bar\"}],\"scattergeo\":[{\"type\":\"scattergeo\",\"marker\":{\"colorbar\":{\"outlinewidth\":0,\"ticks\":\"\"}}}],\"scatterpolar\":[{\"type\":\"scatterpolar\",\"marker\":{\"colorbar\":{\"outlinewidth\":0,\"ticks\":\"\"}}}],\"histogram\":[{\"marker\":{\"pattern\":{\"fillmode\":\"overlay\",\"size\":10,\"solidity\":0.2}},\"type\":\"histogram\"}],\"scattergl\":[{\"type\":\"scattergl\",\"marker\":{\"colorbar\":{\"outlinewidth\":0,\"ticks\":\"\"}}}],\"scatter3d\":[{\"type\":\"scatter3d\",\"line\":{\"colorbar\":{\"outlinewidth\":0,\"ticks\":\"\"}},\"marker\":{\"colorbar\":{\"outlinewidth\":0,\"ticks\":\"\"}}}],\"scattermapbox\":[{\"type\":\"scattermapbox\",\"marker\":{\"colorbar\":{\"outlinewidth\":0,\"ticks\":\"\"}}}],\"scatterternary\":[{\"type\":\"scatterternary\",\"marker\":{\"colorbar\":{\"outlinewidth\":0,\"ticks\":\"\"}}}],\"scattercarpet\":[{\"type\":\"scattercarpet\",\"marker\":{\"colorbar\":{\"outlinewidth\":0,\"ticks\":\"\"}}}],\"carpet\":[{\"aaxis\":{\"endlinecolor\":\"#2a3f5f\",\"gridcolor\":\"white\",\"linecolor\":\"white\",\"minorgridcolor\":\"white\",\"startlinecolor\":\"#2a3f5f\"},\"baxis\":{\"endlinecolor\":\"#2a3f5f\",\"gridcolor\":\"white\",\"linecolor\":\"white\",\"minorgridcolor\":\"white\",\"startlinecolor\":\"#2a3f5f\"},\"type\":\"carpet\"}],\"table\":[{\"cells\":{\"fill\":{\"color\":\"#EBF0F8\"},\"line\":{\"color\":\"white\"}},\"header\":{\"fill\":{\"color\":\"#C8D4E3\"},\"line\":{\"color\":\"white\"}},\"type\":\"table\"}],\"barpolar\":[{\"marker\":{\"line\":{\"color\":\"#E5ECF6\",\"width\":0.5},\"pattern\":{\"fillmode\":\"overlay\",\"size\":10,\"solidity\":0.2}},\"type\":\"barpolar\"}],\"pie\":[{\"automargin\":true,\"type\":\"pie\"}]},\"layout\":{\"autotypenumbers\":\"strict\",\"colorway\":[\"#636efa\",\"#EF553B\",\"#00cc96\",\"#ab63fa\",\"#FFA15A\",\"#19d3f3\",\"#FF6692\",\"#B6E880\",\"#FF97FF\",\"#FECB52\"],\"font\":{\"color\":\"#2a3f5f\"},\"hovermode\":\"closest\",\"hoverlabel\":{\"align\":\"left\"},\"paper_bgcolor\":\"white\",\"plot_bgcolor\":\"#E5ECF6\",\"polar\":{\"bgcolor\":\"#E5ECF6\",\"angularaxis\":{\"gridcolor\":\"white\",\"linecolor\":\"white\",\"ticks\":\"\"},\"radialaxis\":{\"gridcolor\":\"white\",\"linecolor\":\"white\",\"ticks\":\"\"}},\"ternary\":{\"bgcolor\":\"#E5ECF6\",\"aaxis\":{\"gridcolor\":\"white\",\"linecolor\":\"white\",\"ticks\":\"\"},\"baxis\":{\"gridcolor\":\"white\",\"linecolor\":\"white\",\"ticks\":\"\"},\"caxis\":{\"gridcolor\":\"white\",\"linecolor\":\"white\",\"ticks\":\"\"}},\"coloraxis\":{\"colorbar\":{\"outlinewidth\":0,\"ticks\":\"\"}},\"colorscale\":{\"sequential\":[[0.0,\"#0d0887\"],[0.1111111111111111,\"#46039f\"],[0.2222222222222222,\"#7201a8\"],[0.3333333333333333,\"#9c179e\"],[0.4444444444444444,\"#bd3786\"],[0.5555555555555556,\"#d8576b\"],[0.6666666666666666,\"#ed7953\"],[0.7777777777777778,\"#fb9f3a\"],[0.8888888888888888,\"#fdca26\"],[1.0,\"#f0f921\"]],\"sequentialminus\":[[0.0,\"#0d0887\"],[0.1111111111111111,\"#46039f\"],[0.2222222222222222,\"#7201a8\"],[0.3333333333333333,\"#9c179e\"],[0.4444444444444444,\"#bd3786\"],[0.5555555555555556,\"#d8576b\"],[0.6666666666666666,\"#ed7953\"],[0.7777777777777778,\"#fb9f3a\"],[0.8888888888888888,\"#fdca26\"],[1.0,\"#f0f921\"]],\"diverging\":[[0,\"#8e0152\"],[0.1,\"#c51b7d\"],[0.2,\"#de77ae\"],[0.3,\"#f1b6da\"],[0.4,\"#fde0ef\"],[0.5,\"#f7f7f7\"],[0.6,\"#e6f5d0\"],[0.7,\"#b8e186\"],[0.8,\"#7fbc41\"],[0.9,\"#4d9221\"],[1,\"#276419\"]]},\"xaxis\":{\"gridcolor\":\"white\",\"linecolor\":\"white\",\"ticks\":\"\",\"title\":{\"standoff\":15},\"zerolinecolor\":\"white\",\"automargin\":true,\"zerolinewidth\":2},\"yaxis\":{\"gridcolor\":\"white\",\"linecolor\":\"white\",\"ticks\":\"\",\"title\":{\"standoff\":15},\"zerolinecolor\":\"white\",\"automargin\":true,\"zerolinewidth\":2},\"scene\":{\"xaxis\":{\"backgroundcolor\":\"#E5ECF6\",\"gridcolor\":\"white\",\"linecolor\":\"white\",\"showbackground\":true,\"ticks\":\"\",\"zerolinecolor\":\"white\",\"gridwidth\":2},\"yaxis\":{\"backgroundcolor\":\"#E5ECF6\",\"gridcolor\":\"white\",\"linecolor\":\"white\",\"showbackground\":true,\"ticks\":\"\",\"zerolinecolor\":\"white\",\"gridwidth\":2},\"zaxis\":{\"backgroundcolor\":\"#E5ECF6\",\"gridcolor\":\"white\",\"linecolor\":\"white\",\"showbackground\":true,\"ticks\":\"\",\"zerolinecolor\":\"white\",\"gridwidth\":2}},\"shapedefaults\":{\"line\":{\"color\":\"#2a3f5f\"}},\"annotationdefaults\":{\"arrowcolor\":\"#2a3f5f\",\"arrowhead\":0,\"arrowwidth\":1},\"geo\":{\"bgcolor\":\"white\",\"landcolor\":\"#E5ECF6\",\"subunitcolor\":\"white\",\"showland\":true,\"showlakes\":true,\"lakecolor\":\"white\"},\"title\":{\"x\":0.05},\"mapbox\":{\"style\":\"light\"}}},\"xaxis\":{\"anchor\":\"y\",\"domain\":[0.0,1.0],\"title\":{\"text\":\"Publication date\"}},\"yaxis\":{\"anchor\":\"x\",\"domain\":[0.0,1.0],\"title\":{\"text\":\"Power capacity for 3-month training run (kW)\"},\"type\":\"log\"},\"legend\":{\"tracegroupgap\":0},\"margin\":{\"t\":40,\"l\":10,\"r\":10,\"b\":10},\"autosize\":false,\"width\":800,\"height\":600},                        {\"responsive\": true}                    ).then(function(){\n                            \nvar gd = document.getElementById('76e43c7f-060d-4012-b069-e7081473b76f');\nvar x = new MutationObserver(function (mutations, observer) {{\n        var display = window.getComputedStyle(gd).display;\n        if (!display || display === 'none') {{\n            console.log([gd, 'removed!']);\n            Plotly.purge(gd);\n            observer.disconnect();\n        }}\n}});\n\n// Listen for the removal of the full notebook cells\nvar notebookContainer = gd.closest('#notebook-container');\nif (notebookContainer) {{\n    x.observe(notebookContainer, {childList: true});\n}}\n\n// Listen for the clearing of the current output cell\nvar outputEl = gd.closest('.output');\nif (outputEl) {{\n    x.observe(outputEl, {childList: true});\n}}\n\n                        })                };                });            </script>        </div>"
     },
     "metadata": {},
     "output_type": "display_data"
    }
   ],
   "source": [
    "filtered_component_cost_df = filtered_component_cost_df.dropna(subset=['Training hardware'])\n",
    "filtered_component_cost_df.loc[:, 'Power capacity for 3-month training run (kW)'] = [\n",
    "    row['Energy cost'] \\\n",
    "    / energy_price(row['Publication date'].year) \\\n",
    "    / (HOURS_PER_YEAR/4) \\\n",
    "    / server_TDP_fraction(row['Training hardware']) \\\n",
    "    for _, row in filtered_component_cost_df.iterrows()\n",
    "]\n",
    "\n",
    "fig = px.scatter(\n",
    "    filtered_component_cost_df,\n",
    "    x='Publication date',\n",
    "    y='Power capacity for 3-month training run (kW)',\n",
    "    text='System',\n",
    ")\n",
    "# log y\n",
    "fig.update_yaxes(type='log')\n",
    "# size\n",
    "fig.update_layout(\n",
    "    autosize=False,\n",
    "    width=800,\n",
    "    height=600,\n",
    ")\n",
    "\n",
    "# margins\n",
    "fig.update_layout(margin=dict(l=10, r=10, t=40, b=10))\n",
    "\n",
    "save_plot(fig, results_dir, 'power_capacity_kw')\n",
    "\n",
    "fig.show()"
   ]
  },
  {
   "cell_type": "code",
   "execution_count": 588,
   "metadata": {
    "ExecuteTime": {
     "end_time": "2024-05-17T19:15:48.809721600Z",
     "start_time": "2024-05-17T19:15:48.687806200Z"
    }
   },
   "outputs": [],
   "source": [
    "filtered_component_cost_df['Publication date (float)'] = datetime_to_float_year(\n",
    "    pd.to_datetime(filtered_component_cost_df['Publication date'])\n",
    ")"
   ]
  },
  {
   "cell_type": "code",
   "execution_count": 589,
   "metadata": {
    "ExecuteTime": {
     "end_time": "2024-05-17T19:15:48.955046800Z",
     "start_time": "2024-05-17T19:15:48.812708600Z"
    }
   },
   "outputs": [
    {
     "data": {
      "text/plain": "<class 'statsmodels.iolib.summary.Summary'>\n\"\"\"\n                            OLS Regression Results                            \n==============================================================================\nDep. Variable:                      y   R-squared:                       0.354\nModel:                            OLS   Adj. R-squared:                  0.341\nMethod:                 Least Squares   F-statistic:                     26.31\nDate:                Fri, 17 May 2024   Prob (F-statistic):           5.18e-06\nTime:                        15:15:48   Log-Likelihood:                -40.432\nNo. Observations:                  50   AIC:                             84.86\nDf Residuals:                      48   BIC:                             88.69\nDf Model:                           1                                         \nCovariance Type:            nonrobust                                         \n==============================================================================\n                 coef    std err          t      P>|t|      [0.025      0.975]\n------------------------------------------------------------------------------\nconst       -455.3279     89.307     -5.098      0.000    -634.892    -275.764\nx1             0.2266      0.044      5.129      0.000       0.138       0.315\n==============================================================================\nOmnibus:                        2.606   Durbin-Watson:                   1.736\nProb(Omnibus):                  0.272   Jarque-Bera (JB):                2.496\nSkew:                           0.505   Prob(JB):                        0.287\nKurtosis:                       2.579   Cond. No.                     2.30e+06\n==============================================================================\n\nNotes:\n[1] Standard Errors assume that the covariance matrix of the errors is correctly specified.\n[2] The condition number is large, 2.3e+06. This might indicate that there are\nstrong multicollinearity or other numerical problems.\n\"\"\"",
      "text/html": "<table class=\"simpletable\">\n<caption>OLS Regression Results</caption>\n<tr>\n  <th>Dep. Variable:</th>            <td>y</td>        <th>  R-squared:         </th> <td>   0.354</td>\n</tr>\n<tr>\n  <th>Model:</th>                   <td>OLS</td>       <th>  Adj. R-squared:    </th> <td>   0.341</td>\n</tr>\n<tr>\n  <th>Method:</th>             <td>Least Squares</td>  <th>  F-statistic:       </th> <td>   26.31</td>\n</tr>\n<tr>\n  <th>Date:</th>             <td>Fri, 17 May 2024</td> <th>  Prob (F-statistic):</th> <td>5.18e-06</td>\n</tr>\n<tr>\n  <th>Time:</th>                 <td>15:15:48</td>     <th>  Log-Likelihood:    </th> <td> -40.432</td>\n</tr>\n<tr>\n  <th>No. Observations:</th>      <td>    50</td>      <th>  AIC:               </th> <td>   84.86</td>\n</tr>\n<tr>\n  <th>Df Residuals:</th>          <td>    48</td>      <th>  BIC:               </th> <td>   88.69</td>\n</tr>\n<tr>\n  <th>Df Model:</th>              <td>     1</td>      <th>                     </th>     <td> </td>   \n</tr>\n<tr>\n  <th>Covariance Type:</th>      <td>nonrobust</td>    <th>                     </th>     <td> </td>   \n</tr>\n</table>\n<table class=\"simpletable\">\n<tr>\n    <td></td>       <th>coef</th>     <th>std err</th>      <th>t</th>      <th>P>|t|</th>  <th>[0.025</th>    <th>0.975]</th>  \n</tr>\n<tr>\n  <th>const</th> <td> -455.3279</td> <td>   89.307</td> <td>   -5.098</td> <td> 0.000</td> <td> -634.892</td> <td> -275.764</td>\n</tr>\n<tr>\n  <th>x1</th>    <td>    0.2266</td> <td>    0.044</td> <td>    5.129</td> <td> 0.000</td> <td>    0.138</td> <td>    0.315</td>\n</tr>\n</table>\n<table class=\"simpletable\">\n<tr>\n  <th>Omnibus:</th>       <td> 2.606</td> <th>  Durbin-Watson:     </th> <td>   1.736</td>\n</tr>\n<tr>\n  <th>Prob(Omnibus):</th> <td> 0.272</td> <th>  Jarque-Bera (JB):  </th> <td>   2.496</td>\n</tr>\n<tr>\n  <th>Skew:</th>          <td> 0.505</td> <th>  Prob(JB):          </th> <td>   0.287</td>\n</tr>\n<tr>\n  <th>Kurtosis:</th>      <td> 2.579</td> <th>  Cond. No.          </th> <td>2.30e+06</td>\n</tr>\n</table><br/><br/>Notes:<br/>[1] Standard Errors assume that the covariance matrix of the errors is correctly specified.<br/>[2] The condition number is large, 2.3e+06. This might indicate that there are<br/>strong multicollinearity or other numerical problems."
     },
     "execution_count": 589,
     "metadata": {},
     "output_type": "execute_result"
    }
   ],
   "source": [
    "energy_reg_results = fit_ols_regression(\n",
    "    filtered_component_cost_df,\n",
    "    ['Publication date (float)'],\n",
    "    'Power capacity for 3-month training run (kW)',\n",
    "    logy=True\n",
    ")\n",
    "energy_reg_results.summary()"
   ]
  },
  {
   "cell_type": "code",
   "execution_count": 589,
   "metadata": {
    "ExecuteTime": {
     "end_time": "2024-05-17T19:15:48.974713900Z",
     "start_time": "2024-05-17T19:15:48.955046800Z"
    }
   },
   "outputs": [],
   "source": []
  }
 ],
 "metadata": {
  "colab": {
   "provenance": []
  },
  "kernelspec": {
   "display_name": "Python 3 (ipykernel)",
   "language": "python",
   "name": "python3"
  },
  "language_info": {
   "codemirror_mode": {
    "name": "ipython",
    "version": 3
   },
   "file_extension": ".py",
   "mimetype": "text/x-python",
   "name": "python",
   "nbconvert_exporter": "python",
   "pygments_lexer": "ipython3",
   "version": "3.11.4"
  }
 },
 "nbformat": 4,
 "nbformat_minor": 1
}
