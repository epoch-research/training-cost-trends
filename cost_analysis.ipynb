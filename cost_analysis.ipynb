{
 "cells": [
  {
   "cell_type": "markdown",
   "metadata": {},
   "source": [
    "# Setup"
   ]
  },
  {
   "cell_type": "code",
   "execution_count": 1,
   "metadata": {
    "id": "qltoZ7TbdkHZ",
    "ExecuteTime": {
     "end_time": "2023-12-29T07:29:41.203389Z",
     "start_time": "2023-12-29T07:29:37.163892600Z"
    }
   },
   "outputs": [],
   "source": [
    "import numpy as np\n",
    "import pandas as pd\n",
    "\n",
    "from plotting import *"
   ]
  },
  {
   "cell_type": "code",
   "execution_count": 2,
   "metadata": {
    "ExecuteTime": {
     "end_time": "2023-12-29T07:29:41.224043600Z",
     "start_time": "2023-12-29T07:29:41.221057100Z"
    }
   },
   "outputs": [],
   "source": [
    "SECONDS_PER_HOUR = 60 * 60\n",
    "SECONDS_PER_YEAR = SECONDS_PER_HOUR * 24 * 365.25"
   ]
  },
  {
   "cell_type": "markdown",
   "metadata": {},
   "source": [
    "# Dataset"
   ]
  },
  {
   "cell_type": "markdown",
   "metadata": {},
   "source": [
    "## ML systems"
   ]
  },
  {
   "cell_type": "code",
   "execution_count": 3,
   "metadata": {
    "id": "c8uNf70ve1PM",
    "ExecuteTime": {
     "end_time": "2023-12-29T07:29:41.313079100Z",
     "start_time": "2023-12-29T07:29:41.222065200Z"
    }
   },
   "outputs": [
    {
     "data": {
      "text/plain": "                               System    Domain                   Task  \\\n0                      Cohere Command  Language                    NaN   \n1                             Theseus     Other           Maze solving   \n2                               SNARC     Other           Maze solving   \n3                   Genetic algorithm       NaN                    NaN   \n4  Sequence-based pattern recognition    Vision  Character recognition   \n\n           Authors      Notability criteria  \\\n0              NaN                      NaN   \n1   Claude Shannon  Historical significance   \n2    Marvin Minsky  Historical significance   \n3    NA Barricelli  Historical significance   \n4  O. G. Selfridge  Historical significance   \n\n                           Notability criteria notes Open-source  \\\n0                                                NaN         NaN   \n1                                                NaN         NaN   \n2                                                NaN         NaN   \n3  Possibly first computer simulation of a geneti...         NaN   \n4                                                NaN         NaN   \n\n                                                Link  Citations  \\\n0                  https://cohere.com/models/command        NaN   \n1  https://www.technologyreview.com/2018/12/19/13...        0.0   \n2  https://en.wikipedia.org/wiki/Stochastic_neura...       33.0   \n3  https://link.springer.com/article/10.1007/BF01...      266.0   \n4     https://dl.acm.org/doi/10.1145/1455292.1455310      290.0   \n\n                                           Reference  ...  \\\n0                    World-class AI, at your command  ...   \n1                                       Mighty Mouse  ...   \n2  A Neural-Analogue Calculator Based upon a Prob...  ...   \n3            Numerical testing of evolution theories  ...   \n4           Pattern recognition and modern computers  ...   \n\n              Organization (from Organization) Base model  \\\n0                                       Cohere        NaN   \n1                            Bell Laboratories        NaN   \n2                           Harvard University        NaN   \n3                 Institute for Advanced Study        NaN   \n4  Massachusetts Institute of Technology (MIT)        NaN   \n\n  Finetune compute (FLOP)  Finetune compute notes  \\\n0                     NaN                     NaN   \n1                     NaN                     NaN   \n2                     NaN                     NaN   \n3                     NaN                     NaN   \n4                     NaN                     NaN   \n\n                   Authors by country  Hardware quantity Hardware utilization  \\\n0                                 NaN                NaN                  NaN   \n1                             Theseus                NaN                  NaN   \n2                               SNARC                NaN                  NaN   \n3                   Genetic algorithm                NaN                  NaN   \n4  Sequence-based pattern recognition                NaN                  NaN   \n\n  Training cost trends Training cloud compute vendor  Training data center  \n0                  NaN                           NaN                   NaN  \n1                  NaN                           NaN                   NaN  \n2                  NaN                           NaN                   NaN  \n3                  NaN                           NaN                   NaN  \n4                  NaN                           NaN                   NaN  \n\n[5 rows x 49 columns]",
      "text/html": "<div>\n<style scoped>\n    .dataframe tbody tr th:only-of-type {\n        vertical-align: middle;\n    }\n\n    .dataframe tbody tr th {\n        vertical-align: top;\n    }\n\n    .dataframe thead th {\n        text-align: right;\n    }\n</style>\n<table border=\"1\" class=\"dataframe\">\n  <thead>\n    <tr style=\"text-align: right;\">\n      <th></th>\n      <th>System</th>\n      <th>Domain</th>\n      <th>Task</th>\n      <th>Authors</th>\n      <th>Notability criteria</th>\n      <th>Notability criteria notes</th>\n      <th>Open-source</th>\n      <th>Link</th>\n      <th>Citations</th>\n      <th>Reference</th>\n      <th>...</th>\n      <th>Organization (from Organization)</th>\n      <th>Base model</th>\n      <th>Finetune compute (FLOP)</th>\n      <th>Finetune compute notes</th>\n      <th>Authors by country</th>\n      <th>Hardware quantity</th>\n      <th>Hardware utilization</th>\n      <th>Training cost trends</th>\n      <th>Training cloud compute vendor</th>\n      <th>Training data center</th>\n    </tr>\n  </thead>\n  <tbody>\n    <tr>\n      <th>0</th>\n      <td>Cohere Command</td>\n      <td>Language</td>\n      <td>NaN</td>\n      <td>NaN</td>\n      <td>NaN</td>\n      <td>NaN</td>\n      <td>NaN</td>\n      <td>https://cohere.com/models/command</td>\n      <td>NaN</td>\n      <td>World-class AI, at your command</td>\n      <td>...</td>\n      <td>Cohere</td>\n      <td>NaN</td>\n      <td>NaN</td>\n      <td>NaN</td>\n      <td>NaN</td>\n      <td>NaN</td>\n      <td>NaN</td>\n      <td>NaN</td>\n      <td>NaN</td>\n      <td>NaN</td>\n    </tr>\n    <tr>\n      <th>1</th>\n      <td>Theseus</td>\n      <td>Other</td>\n      <td>Maze solving</td>\n      <td>Claude Shannon</td>\n      <td>Historical significance</td>\n      <td>NaN</td>\n      <td>NaN</td>\n      <td>https://www.technologyreview.com/2018/12/19/13...</td>\n      <td>0.0</td>\n      <td>Mighty Mouse</td>\n      <td>...</td>\n      <td>Bell Laboratories</td>\n      <td>NaN</td>\n      <td>NaN</td>\n      <td>NaN</td>\n      <td>Theseus</td>\n      <td>NaN</td>\n      <td>NaN</td>\n      <td>NaN</td>\n      <td>NaN</td>\n      <td>NaN</td>\n    </tr>\n    <tr>\n      <th>2</th>\n      <td>SNARC</td>\n      <td>Other</td>\n      <td>Maze solving</td>\n      <td>Marvin Minsky</td>\n      <td>Historical significance</td>\n      <td>NaN</td>\n      <td>NaN</td>\n      <td>https://en.wikipedia.org/wiki/Stochastic_neura...</td>\n      <td>33.0</td>\n      <td>A Neural-Analogue Calculator Based upon a Prob...</td>\n      <td>...</td>\n      <td>Harvard University</td>\n      <td>NaN</td>\n      <td>NaN</td>\n      <td>NaN</td>\n      <td>SNARC</td>\n      <td>NaN</td>\n      <td>NaN</td>\n      <td>NaN</td>\n      <td>NaN</td>\n      <td>NaN</td>\n    </tr>\n    <tr>\n      <th>3</th>\n      <td>Genetic algorithm</td>\n      <td>NaN</td>\n      <td>NaN</td>\n      <td>NA Barricelli</td>\n      <td>Historical significance</td>\n      <td>Possibly first computer simulation of a geneti...</td>\n      <td>NaN</td>\n      <td>https://link.springer.com/article/10.1007/BF01...</td>\n      <td>266.0</td>\n      <td>Numerical testing of evolution theories</td>\n      <td>...</td>\n      <td>Institute for Advanced Study</td>\n      <td>NaN</td>\n      <td>NaN</td>\n      <td>NaN</td>\n      <td>Genetic algorithm</td>\n      <td>NaN</td>\n      <td>NaN</td>\n      <td>NaN</td>\n      <td>NaN</td>\n      <td>NaN</td>\n    </tr>\n    <tr>\n      <th>4</th>\n      <td>Sequence-based pattern recognition</td>\n      <td>Vision</td>\n      <td>Character recognition</td>\n      <td>O. G. Selfridge</td>\n      <td>Historical significance</td>\n      <td>NaN</td>\n      <td>NaN</td>\n      <td>https://dl.acm.org/doi/10.1145/1455292.1455310</td>\n      <td>290.0</td>\n      <td>Pattern recognition and modern computers</td>\n      <td>...</td>\n      <td>Massachusetts Institute of Technology (MIT)</td>\n      <td>NaN</td>\n      <td>NaN</td>\n      <td>NaN</td>\n      <td>Sequence-based pattern recognition</td>\n      <td>NaN</td>\n      <td>NaN</td>\n      <td>NaN</td>\n      <td>NaN</td>\n      <td>NaN</td>\n    </tr>\n  </tbody>\n</table>\n<p>5 rows × 49 columns</p>\n</div>"
     },
     "execution_count": 3,
     "metadata": {},
     "output_type": "execute_result"
    }
   ],
   "source": [
    "pcd_df = pd.read_csv('data/All ML Systems - full view.csv')\n",
    "pcd_df.head()"
   ]
  },
  {
   "cell_type": "code",
   "execution_count": 4,
   "metadata": {
    "ExecuteTime": {
     "end_time": "2023-12-29T07:29:41.419395200Z",
     "start_time": "2023-12-29T07:29:41.321050900Z"
    }
   },
   "outputs": [],
   "source": [
    "# Publication date in datetime format\n",
    "pcd_df.dropna(subset=['Publication date'], inplace=True)\n",
    "pcd_df['Publication date'] = pd.to_datetime(pcd_df['Publication date'])"
   ]
  },
  {
   "cell_type": "code",
   "execution_count": 5,
   "metadata": {
    "id": "zHTeCty5dqjn",
    "ExecuteTime": {
     "end_time": "2023-12-29T07:29:41.447701600Z",
     "start_time": "2023-12-29T07:29:41.349954300Z"
    }
   },
   "outputs": [],
   "source": [
    "# Manually copied from \"Training cost trends\" Airtable\n",
    "frontier_systems = [\n",
    "    \"PaLM 2\",\n",
    "    \"GPT-4\",\n",
    "    \"Minerva (540B)\",\n",
    "    \"Megatron-Turing NLG 530B\",\n",
    "    \"GPT-3 175B (davinci)\",\n",
    "    \"Meena\",\n",
    "    \"AlphaStar\",\n",
    "    \"AlphaGo Zero\",\n",
    "    \"AlphaGo Master\",\n",
    "    \"GNMT\",\n",
    "    \"Claude 2\",\n",
    "    \"PaLM (540B)\",\n",
    "    \"ERNIE 3.0 Titan\",\n",
    "    \"Gopher (280B)\",\n",
    "    \"OpenAI Five\",\n",
    "    \"T5-11B\",\n",
    "    \"Megatron-BERT\",\n",
    "    \"ResNeXt-101 32x48d\",\n",
    "    \"AlphaZero\",\n",
    "    \"Falcon 180B\",\n",
    "    \"GPT-3.5 (text-davinci-003)\",\n",
    "    \"Chinchilla\",\n",
    "    \"Yuan 1.0\",\n",
    "    \"Turing-NLG\",\n",
    "    \"BigGAN-deep 512x512\",\n",
    "    \"NASv3 (CIFAR-10)\",\n",
    "    \"AlphaGo Lee\",\n",
    "    \"AlphaGo Fan\",\n",
    "    \"OPT-175B\",\n",
    "    \"AlphaCode\",\n",
    "    \"GLaM\",\n",
    "    \"OpenAI Five Rerun\",\n",
    "    \"T5-3B\",\n",
    "    \"Megatron-LM (8.3B)\",\n",
    "    \"FTW\",\n",
    "    \"AmoebaNet-A (F=448)\",\n",
    "    \"OpenAI TI7 DOTA 1v1\",\n",
    "    \"JFT\",\n",
    "    \"Llama 2-70B\",\n",
    "    \"LLaMA-65B\",\n",
    "    \"LaMDA\",\n",
    "    \"ALIGN\",\n",
    "    \"GShard (dense)\",\n",
    "    \"RoBERTa Large\",\n",
    "    \"IMPALA\",\n",
    "]"
   ]
  },
  {
   "cell_type": "code",
   "execution_count": 6,
   "metadata": {
    "id": "Nyzyh8IKe0ZK",
    "ExecuteTime": {
     "end_time": "2023-12-29T07:29:41.546468100Z",
     "start_time": "2023-12-29T07:29:41.361915Z"
    }
   },
   "outputs": [
    {
     "data": {
      "text/plain": "               System    Domain         Task  \\\n265       AlphaGo Fan     Games           Go   \n275       AlphaGo Lee     Games           Go   \n306              GNMT  Language  Translation   \n317  NASv3 (CIFAR-10)    Vision          NaN   \n337    AlphaGo Master     Games           Go   \n\n                                               Authors Notability criteria  \\\n265  David Silver, Aja Huang, Chris J. Maddison, Ar...    SOTA improvement   \n275  David Silver, Aja Huang, Chris J. Maddison, Ar...        Highly cited   \n306  Yonghui Wu, Mike Schuster, Zhifeng Chen, Quoc ...        Highly cited   \n317                            Barret Zoph, Quoc V. Le        Highly cited   \n337  D Silver, J Schrittwieser, K Simonyan, I Anton...        Highly cited   \n\n    Notability criteria notes Open-source  \\\n265                       NaN         NaN   \n275                       NaN         NaN   \n306                       NaN         NaN   \n317                       NaN         NaN   \n337                       NaN         NaN   \n\n                                                  Link  Citations  \\\n265  https://www.nature.com/articles/nature24270.ep...    14389.0   \n275        https://www.nature.com/articles/nature16961    14389.0   \n306                   https://arxiv.org/abs/1609.08144     5948.0   \n317                   https://arxiv.org/abs/1611.01578     4569.0   \n337  https://www.researchgate.net/publication/32047...     7831.0   \n\n                                             Reference  ...  \\\n265  Mastering the game of Go with deep neural netw...  ...   \n275  Mastering the game of Go with deep neural netw...  ...   \n306  Google's Neural Machine Translation System: Br...  ...   \n317  Neural Architecture Search with Reinforcement ...  ...   \n337   Mastering the game of Go without human knowledge  ...   \n\n    Organization (from Organization) Base model Finetune compute (FLOP)  \\\n265                  Google DeepMind        NaN                     NaN   \n275                         DeepMind        NaN                     NaN   \n306                           Google        NaN                     NaN   \n317                     Google Brain        NaN                     NaN   \n337                         DeepMind        NaN                     NaN   \n\n     Finetune compute notes Authors by country  Hardware quantity  \\\n265                     NaN        AlphaGo Fan                NaN   \n275                     NaN        AlphaGo Lee                NaN   \n306                     NaN               GNMT               96.0   \n317                     NaN   NASv3 (CIFAR-10)              800.0   \n337                     NaN     AlphaGo Master                NaN   \n\n    Hardware utilization Training cost trends Training cloud compute vendor  \\\n265                  NaN          AlphaGo Fan                           NaN   \n275                  NaN          AlphaGo Lee                           NaN   \n306                  NaN                 GNMT                           NaN   \n317                  NaN     NASv3 (CIFAR-10)                           NaN   \n337                  NaN       AlphaGo Master                           NaN   \n\n     Training data center  \n265                   NaN  \n275                   NaN  \n306                   NaN  \n317                   NaN  \n337                   NaN  \n\n[5 rows x 49 columns]",
      "text/html": "<div>\n<style scoped>\n    .dataframe tbody tr th:only-of-type {\n        vertical-align: middle;\n    }\n\n    .dataframe tbody tr th {\n        vertical-align: top;\n    }\n\n    .dataframe thead th {\n        text-align: right;\n    }\n</style>\n<table border=\"1\" class=\"dataframe\">\n  <thead>\n    <tr style=\"text-align: right;\">\n      <th></th>\n      <th>System</th>\n      <th>Domain</th>\n      <th>Task</th>\n      <th>Authors</th>\n      <th>Notability criteria</th>\n      <th>Notability criteria notes</th>\n      <th>Open-source</th>\n      <th>Link</th>\n      <th>Citations</th>\n      <th>Reference</th>\n      <th>...</th>\n      <th>Organization (from Organization)</th>\n      <th>Base model</th>\n      <th>Finetune compute (FLOP)</th>\n      <th>Finetune compute notes</th>\n      <th>Authors by country</th>\n      <th>Hardware quantity</th>\n      <th>Hardware utilization</th>\n      <th>Training cost trends</th>\n      <th>Training cloud compute vendor</th>\n      <th>Training data center</th>\n    </tr>\n  </thead>\n  <tbody>\n    <tr>\n      <th>265</th>\n      <td>AlphaGo Fan</td>\n      <td>Games</td>\n      <td>Go</td>\n      <td>David Silver, Aja Huang, Chris J. Maddison, Ar...</td>\n      <td>SOTA improvement</td>\n      <td>NaN</td>\n      <td>NaN</td>\n      <td>https://www.nature.com/articles/nature24270.ep...</td>\n      <td>14389.0</td>\n      <td>Mastering the game of Go with deep neural netw...</td>\n      <td>...</td>\n      <td>Google DeepMind</td>\n      <td>NaN</td>\n      <td>NaN</td>\n      <td>NaN</td>\n      <td>AlphaGo Fan</td>\n      <td>NaN</td>\n      <td>NaN</td>\n      <td>AlphaGo Fan</td>\n      <td>NaN</td>\n      <td>NaN</td>\n    </tr>\n    <tr>\n      <th>275</th>\n      <td>AlphaGo Lee</td>\n      <td>Games</td>\n      <td>Go</td>\n      <td>David Silver, Aja Huang, Chris J. Maddison, Ar...</td>\n      <td>Highly cited</td>\n      <td>NaN</td>\n      <td>NaN</td>\n      <td>https://www.nature.com/articles/nature16961</td>\n      <td>14389.0</td>\n      <td>Mastering the game of Go with deep neural netw...</td>\n      <td>...</td>\n      <td>DeepMind</td>\n      <td>NaN</td>\n      <td>NaN</td>\n      <td>NaN</td>\n      <td>AlphaGo Lee</td>\n      <td>NaN</td>\n      <td>NaN</td>\n      <td>AlphaGo Lee</td>\n      <td>NaN</td>\n      <td>NaN</td>\n    </tr>\n    <tr>\n      <th>306</th>\n      <td>GNMT</td>\n      <td>Language</td>\n      <td>Translation</td>\n      <td>Yonghui Wu, Mike Schuster, Zhifeng Chen, Quoc ...</td>\n      <td>Highly cited</td>\n      <td>NaN</td>\n      <td>NaN</td>\n      <td>https://arxiv.org/abs/1609.08144</td>\n      <td>5948.0</td>\n      <td>Google's Neural Machine Translation System: Br...</td>\n      <td>...</td>\n      <td>Google</td>\n      <td>NaN</td>\n      <td>NaN</td>\n      <td>NaN</td>\n      <td>GNMT</td>\n      <td>96.0</td>\n      <td>NaN</td>\n      <td>GNMT</td>\n      <td>NaN</td>\n      <td>NaN</td>\n    </tr>\n    <tr>\n      <th>317</th>\n      <td>NASv3 (CIFAR-10)</td>\n      <td>Vision</td>\n      <td>NaN</td>\n      <td>Barret Zoph, Quoc V. Le</td>\n      <td>Highly cited</td>\n      <td>NaN</td>\n      <td>NaN</td>\n      <td>https://arxiv.org/abs/1611.01578</td>\n      <td>4569.0</td>\n      <td>Neural Architecture Search with Reinforcement ...</td>\n      <td>...</td>\n      <td>Google Brain</td>\n      <td>NaN</td>\n      <td>NaN</td>\n      <td>NaN</td>\n      <td>NASv3 (CIFAR-10)</td>\n      <td>800.0</td>\n      <td>NaN</td>\n      <td>NASv3 (CIFAR-10)</td>\n      <td>NaN</td>\n      <td>NaN</td>\n    </tr>\n    <tr>\n      <th>337</th>\n      <td>AlphaGo Master</td>\n      <td>Games</td>\n      <td>Go</td>\n      <td>D Silver, J Schrittwieser, K Simonyan, I Anton...</td>\n      <td>Highly cited</td>\n      <td>NaN</td>\n      <td>NaN</td>\n      <td>https://www.researchgate.net/publication/32047...</td>\n      <td>7831.0</td>\n      <td>Mastering the game of Go without human knowledge</td>\n      <td>...</td>\n      <td>DeepMind</td>\n      <td>NaN</td>\n      <td>NaN</td>\n      <td>NaN</td>\n      <td>AlphaGo Master</td>\n      <td>NaN</td>\n      <td>NaN</td>\n      <td>AlphaGo Master</td>\n      <td>NaN</td>\n      <td>NaN</td>\n    </tr>\n  </tbody>\n</table>\n<p>5 rows × 49 columns</p>\n</div>"
     },
     "execution_count": 6,
     "metadata": {},
     "output_type": "execute_result"
    }
   ],
   "source": [
    "frontier_pcd_df = pcd_df[pcd_df['System'].isin(frontier_systems)]\n",
    "frontier_pcd_df.head()"
   ]
  },
  {
   "cell_type": "code",
   "execution_count": 7,
   "metadata": {
    "ExecuteTime": {
     "end_time": "2023-12-29T07:29:41.547463300Z",
     "start_time": "2023-12-29T07:29:41.419395200Z"
    }
   },
   "outputs": [],
   "source": [
    "assert len(frontier_pcd_df) == len(frontier_systems)"
   ]
  },
  {
   "cell_type": "markdown",
   "metadata": {},
   "source": [
    "## Prices"
   ]
  },
  {
   "cell_type": "code",
   "execution_count": 8,
   "metadata": {
    "ExecuteTime": {
     "end_time": "2023-12-29T07:29:41.620366700Z",
     "start_time": "2023-12-29T07:29:41.427380400Z"
    }
   },
   "outputs": [
    {
     "data": {
      "text/plain": "                                        Price source  Price date  \\\n0  https://web.archive.org/web/20181009102635/htt...  2018-10-09   \n1  https://web.archive.org/web/20181011013513/htt...  2018-10-11   \n2  https://web.archive.org/web/20181011013513/htt...  2018-10-11   \n3  https://web.archive.org/web/20190701021000/htt...  2019-07-01   \n4  https://web.archive.org/web/20190728061708/htt...  2019-07-28   \n\n  Hardware model Manufacturer (from Hardware model)        Vendor  \\\n0  Google TPU v2                             Google  Google Cloud   \n1  Google TPU v3                             Google  Google Cloud   \n2  Google TPU v3                             Google  Google Cloud   \n3  Google TPU v3                             Google  Google Cloud   \n4  Google TPU v3                             Google  Google Cloud   \n\n                     Location Price per chip-hour (on-demand)  \\\n0                          US                           $1.13   \n1                          US                           $2.00   \n2                      Europe                           $2.20   \n3          Iowa (us-central1)                           $2.00   \n4  Netherlands (europe-west4)                           $2.00   \n\n  Price per chip-hour (1-year CUD) Price per chip-hour (3-year CUD)  \\\n0                              NaN                              NaN   \n1                              NaN                              NaN   \n2                              NaN                              NaN   \n3                            $1.26                            $0.90   \n4                            $1.26                            $0.90   \n\n   Price (hardware purchase)  \n0                        NaN  \n1                        NaN  \n2                        NaN  \n3                        NaN  \n4                        NaN  ",
      "text/html": "<div>\n<style scoped>\n    .dataframe tbody tr th:only-of-type {\n        vertical-align: middle;\n    }\n\n    .dataframe tbody tr th {\n        vertical-align: top;\n    }\n\n    .dataframe thead th {\n        text-align: right;\n    }\n</style>\n<table border=\"1\" class=\"dataframe\">\n  <thead>\n    <tr style=\"text-align: right;\">\n      <th></th>\n      <th>Price source</th>\n      <th>Price date</th>\n      <th>Hardware model</th>\n      <th>Manufacturer (from Hardware model)</th>\n      <th>Vendor</th>\n      <th>Location</th>\n      <th>Price per chip-hour (on-demand)</th>\n      <th>Price per chip-hour (1-year CUD)</th>\n      <th>Price per chip-hour (3-year CUD)</th>\n      <th>Price (hardware purchase)</th>\n    </tr>\n  </thead>\n  <tbody>\n    <tr>\n      <th>0</th>\n      <td>https://web.archive.org/web/20181009102635/htt...</td>\n      <td>2018-10-09</td>\n      <td>Google TPU v2</td>\n      <td>Google</td>\n      <td>Google Cloud</td>\n      <td>US</td>\n      <td>$1.13</td>\n      <td>NaN</td>\n      <td>NaN</td>\n      <td>NaN</td>\n    </tr>\n    <tr>\n      <th>1</th>\n      <td>https://web.archive.org/web/20181011013513/htt...</td>\n      <td>2018-10-11</td>\n      <td>Google TPU v3</td>\n      <td>Google</td>\n      <td>Google Cloud</td>\n      <td>US</td>\n      <td>$2.00</td>\n      <td>NaN</td>\n      <td>NaN</td>\n      <td>NaN</td>\n    </tr>\n    <tr>\n      <th>2</th>\n      <td>https://web.archive.org/web/20181011013513/htt...</td>\n      <td>2018-10-11</td>\n      <td>Google TPU v3</td>\n      <td>Google</td>\n      <td>Google Cloud</td>\n      <td>Europe</td>\n      <td>$2.20</td>\n      <td>NaN</td>\n      <td>NaN</td>\n      <td>NaN</td>\n    </tr>\n    <tr>\n      <th>3</th>\n      <td>https://web.archive.org/web/20190701021000/htt...</td>\n      <td>2019-07-01</td>\n      <td>Google TPU v3</td>\n      <td>Google</td>\n      <td>Google Cloud</td>\n      <td>Iowa (us-central1)</td>\n      <td>$2.00</td>\n      <td>$1.26</td>\n      <td>$0.90</td>\n      <td>NaN</td>\n    </tr>\n    <tr>\n      <th>4</th>\n      <td>https://web.archive.org/web/20190728061708/htt...</td>\n      <td>2019-07-28</td>\n      <td>Google TPU v3</td>\n      <td>Google</td>\n      <td>Google Cloud</td>\n      <td>Netherlands (europe-west4)</td>\n      <td>$2.00</td>\n      <td>$1.26</td>\n      <td>$0.90</td>\n      <td>NaN</td>\n    </tr>\n  </tbody>\n</table>\n</div>"
     },
     "execution_count": 8,
     "metadata": {},
     "output_type": "execute_result"
    }
   ],
   "source": [
    "price_df = pd.read_csv('data/Hardware prices.csv')\n",
    "price_df.head()"
   ]
  },
  {
   "cell_type": "code",
   "execution_count": 9,
   "metadata": {
    "ExecuteTime": {
     "end_time": "2023-12-29T07:29:41.621364700Z",
     "start_time": "2023-12-29T07:29:41.464644400Z"
    }
   },
   "outputs": [],
   "source": [
    "# Price date in datetime format\n",
    "price_df.dropna(subset=['Price date'], inplace=True)\n",
    "price_df['Price date'] = pd.to_datetime(price_df['Price date'])"
   ]
  },
  {
   "cell_type": "code",
   "execution_count": 10,
   "metadata": {
    "ExecuteTime": {
     "end_time": "2023-12-29T07:29:41.622360500Z",
     "start_time": "2023-12-29T07:29:41.473615200Z"
    }
   },
   "outputs": [],
   "source": [
    "pcd_hardware_model_colname = 'Name of the hardware (from Training hardware)'"
   ]
  },
  {
   "cell_type": "markdown",
   "metadata": {},
   "source": [
    "# Imputation"
   ]
  },
  {
   "cell_type": "markdown",
   "metadata": {},
   "source": [
    "Training hardware: \"best\" available"
   ]
  },
  {
   "cell_type": "code",
   "execution_count": 10,
   "metadata": {
    "ExecuteTime": {
     "end_time": "2023-12-29T07:29:41.622360500Z",
     "start_time": "2023-12-29T07:29:41.488663500Z"
    }
   },
   "outputs": [],
   "source": []
  },
  {
   "cell_type": "markdown",
   "metadata": {},
   "source": [
    "FLOP/second (flops) utilization: mean of known values\n",
    "\n",
    "TODO: random sample from distribution, combined with bootstrapping"
   ]
  },
  {
   "cell_type": "code",
   "execution_count": 10,
   "metadata": {
    "ExecuteTime": {
     "end_time": "2023-12-29T07:29:41.623356900Z",
     "start_time": "2023-12-29T07:29:41.506603800Z"
    }
   },
   "outputs": [],
   "source": []
  },
  {
   "cell_type": "markdown",
   "metadata": {},
   "source": [
    "Number of chip-hours\n",
    "\n",
    "If num_chips AND training_time_hours known: chip_hours = num_chips * training_time_hours\n",
    "\n",
    "Else if num_chips unknown: \n",
    "\n",
    "Else if training_time_hours unknown: \n",
    "\n",
    "Else (both unknown): chip_hours = training_compute_flop / (chip_flops * flops_utilization * SECONDS_PER_HOUR)"
   ]
  },
  {
   "cell_type": "code",
   "execution_count": 11,
   "metadata": {
    "ExecuteTime": {
     "end_time": "2023-12-29T07:29:41.625362600Z",
     "start_time": "2023-12-29T07:29:41.530520400Z"
    }
   },
   "outputs": [
    {
     "name": "stderr",
     "output_type": "stream",
     "text": [
      "C:\\Users\\robir\\AppData\\Local\\Temp\\ipykernel_10120\\3951382658.py:9: SettingWithCopyWarning: \n",
      "A value is trying to be set on a copy of a slice from a DataFrame.\n",
      "Try using .loc[row_indexer,col_indexer] = value instead\n",
      "\n",
      "See the caveats in the documentation: https://pandas.pydata.org/pandas-docs/stable/user_guide/indexing.html#returning-a-view-versus-a-copy\n",
      "  frontier_pcd_df['Training time (chip hours)'] = chip_hours\n"
     ]
    }
   ],
   "source": [
    "chip_hours = []\n",
    "for i, row in frontier_pcd_df.iterrows():\n",
    "    if pd.isna(row['Hardware quantity']) or pd.isna(row['Training time (hours)']):\n",
    "        # TODO impute missing values\n",
    "        chip_hours.append(np.nan)\n",
    "    else:\n",
    "        chip_hours.append(row['Hardware quantity'] * row['Training time (hours)'])\n",
    "\n",
    "frontier_pcd_df['Training time (chip hours)'] = chip_hours"
   ]
  },
  {
   "cell_type": "markdown",
   "metadata": {},
   "source": [
    "# Price selection"
   ]
  },
  {
   "cell_type": "markdown",
   "metadata": {},
   "source": [
    "1. Use a fixed mapping from Organization to cloud provider. If no mapping found, default to \"Amazon Web Services\".\n",
    "2. If there's a match for the hardware model, use that. Else, discard the ML system from the dataset.\n",
    "3. Use the price that is nearest to, but prior to, training time + 2 months before the publication date\n",
    "4. If there are no prices prior to that time, use the nearest price after that time\n",
    "5. If there are no prices for that hardware model and cloud provider at all, repeat steps 3 and 4 for \"Microsoft Azure\", then \"Google Cloud\" as the cloud provider.\n",
    "6. If there are no prices found from step 5, discard the ML system from the dataset."
   ]
  },
  {
   "cell_type": "code",
   "execution_count": 12,
   "metadata": {
    "ExecuteTime": {
     "end_time": "2023-12-29T07:29:41.676183200Z",
     "start_time": "2023-12-29T07:29:41.550455200Z"
    }
   },
   "outputs": [
    {
     "name": "stdout",
     "output_type": "stream",
     "text": [
      "Price date: 2019-07-01 00:00:00\n",
      "Price: $1.26\n"
     ]
    }
   ],
   "source": [
    "def find_closest_price_dates(vendor, hardware_model, date, df):\n",
    "    \"\"\"\n",
    "    Finds the row in the DataFrame with the closest 'Price date' to the given date\n",
    "    which has a 'Vendor' equal to the specified vendor and a 'Hardware model' equal to the specified hardware_model.\n",
    "    \n",
    "    :param vendor: The vendor to match.\n",
    "    :param hardware_model: The hardware model to match.\n",
    "    :param date: The target date to find the closest 'Price date' to.\n",
    "    :param df: The DataFrame containing the hardware price data.\n",
    "    :return: The row from the DataFrame that matches the criteria.\n",
    "    \"\"\"\n",
    "    # Filter the DataFrame based on vendor and hardware model\n",
    "    filtered_df = df[(df['Vendor'] == vendor) & (df['Hardware model'] == hardware_model)]\n",
    "\n",
    "    # Convert the target date to datetime\n",
    "    target_date = pd.to_datetime(date)\n",
    "\n",
    "    # Find the row with the smallest date difference\n",
    "    closest_row_df = filtered_df.iloc[(filtered_df['Price date'] - target_date).abs().argsort()]\n",
    "\n",
    "    return closest_row_df\n",
    "\n",
    "# Example usage\n",
    "example_vendor = \"Google Cloud\"\n",
    "example_hardware_model = \"Google TPU v3\"\n",
    "example_date = \"2019-07-15\" # Example date, format should be YYYY-MM-DD\n",
    "\n",
    "# Find the row\n",
    "closest_row_df = find_closest_price_dates(example_vendor, example_hardware_model, example_date, price_df)\n",
    "\n",
    "for i, row in closest_row_df.iterrows():\n",
    "    if row['Price date'] <= pd.to_datetime(example_date):\n",
    "        print(f\"Price date: {row['Price date']}\")\n",
    "        print(f\"Price: {row['Price per chip-hour (1-year CUD)']}\")\n",
    "        break"
   ]
  },
  {
   "cell_type": "code",
   "execution_count": 13,
   "metadata": {
    "ExecuteTime": {
     "end_time": "2023-12-29T07:29:41.745992900Z",
     "start_time": "2023-12-29T07:29:41.583346100Z"
    }
   },
   "outputs": [],
   "source": [
    "org_to_cloud_vendor = {\n",
    "    'google': 'Google Cloud',\n",
    "    'deepmind': 'Google Cloud',\n",
    "    'microsoft': 'Microsoft Azure',\n",
    "    'openai': 'Microsoft Azure',\n",
    "}"
   ]
  },
  {
   "cell_type": "code",
   "execution_count": 14,
   "metadata": {
    "ExecuteTime": {
     "end_time": "2023-12-29T07:29:42.021392300Z",
     "start_time": "2023-12-29T07:29:41.605429300Z"
    }
   },
   "outputs": [
    {
     "name": "stdout",
     "output_type": "stream",
     "text": [
      "GNMT, Google Cloud, NVIDIA Tesla K80, at 2016-01-30 00:00:00\n",
      "Could not find price\n",
      "JFT, Google Cloud, NVIDIA Tesla K80, at 2017-03-12 00:00:00\n",
      "Could not find price\n",
      "AlphaGo Zero, Google Cloud, Google TPU v1, at 2017-07-30 00:00:00\n",
      "Could not find price\n",
      "AmoebaNet-A (F=448), Google Cloud, NVIDIA Tesla K40s, at 2017-11-30 00:00:00\n",
      "Could not find price\n",
      "IMPALA, Google Cloud, NVIDIA P100, at 2017-12-02 20:00:00\n",
      "Could not find price\n",
      "BigGAN-deep 512x512, Google Cloud, Google TPU v3, at 2018-07-28 00:00:00\n",
      "Could not find price\n",
      "RoBERTa Large, Amazon Web Services, NVIDIA Tesla V100 DGXS 32 GB, at 2019-04-27 00:00:00\n",
      "Megatron-BERT, Amazon Web Services, NVIDIA Tesla V100S PCIe 32 GB, at 2019-05-22 00:00:00\n",
      "Could not find price\n",
      "Megatron-LM (8.3B), Amazon Web Services, NVIDIA Tesla V100 DGXS 32 GB, at 2019-07-05 09:00:00\n",
      "T5-11B, Google Cloud, Google TPU v3, at 2019-08-03 23:00:00\n",
      "AlphaStar, Google Cloud, Google TPU v3, at 2019-07-18 00:00:00\n",
      "OpenAI Five, Microsoft Azure, nan, at 2018-12-22 00:00:00\n",
      "Could not find price\n",
      "Meena, Google Cloud, Google TPU v3, at 2019-10-30 00:00:00\n",
      "GPT-3 175B (davinci), Microsoft Azure, NVIDIA Tesla V100 DGXS 32 GB, at 2020-03-14 05:00:00\n",
      "Could not find price\n",
      "GShard (dense), Google Cloud, Google TPU v3, at 2020-03-20 00:00:00\n",
      "ALIGN, Google Cloud, Google TPU v3, at 2021-03-28 13:00:00\n",
      "Megatron-Turing NLG 530B, Microsoft Azure, NVIDIA A100 SXM4 80 GB, at 2021-07-10 22:00:00\n",
      "Gopher (280B), Google Cloud, Google TPU v3, at 2021-08-31 16:00:00\n",
      "GLaM, Google Cloud, Google TPU v4, at 2021-08-18 02:00:00\n",
      "LaMDA, Google Cloud, Google TPU v3, at 2021-10-15 07:00:00\n",
      "PaLM (540B), Google Cloud, Google TPU v4, at 2021-12-08 00:00:00\n",
      "OPT-175B, Amazon Web Services, NVIDIA A100 SXM4 80 GB, at 2022-01-28 23:00:00\n",
      "Minerva (540B), Google Cloud, Google TPU v4, at 2022-04-01 00:00:00\n",
      "LLaMA-65B, Amazon Web Services, NVIDIA A100, at 2022-12-05 04:00:00\n",
      "Could not find price\n",
      "GPT-4, Microsoft Azure, NVIDIA A100 SXM4 40 GB, at 2022-10-11 00:00:00\n",
      "Could not find price\n",
      "Llama 2-70B, Amazon Web Services, NVIDIA A100 SXM4 80 GB, at 2022-11-20 00:00:00\n",
      "Falcon 180B, Amazon Web Services, NVIDIA A100 SXM4 40 GB, at 2023-01-09 00:00:00\n"
     ]
    },
    {
     "data": {
      "text/plain": "{'RoBERTa Large': 2.29,\n 'Megatron-LM (8.3B)': 2.29,\n 'T5-11B': 1.26,\n 'AlphaStar': 1.26,\n 'Meena': 1.26,\n 'GShard (dense)': 1.26,\n 'ALIGN': 1.26,\n 'Megatron-Turing NLG 530B': 2.62,\n 'Gopher (280B)': 1.26,\n 'GLaM': 2.03,\n 'LaMDA': 1.26,\n 'PaLM (540B)': 2.03,\n 'OPT-175B': 3.0,\n 'Minerva (540B)': 2.03,\n 'Llama 2-70B': 3.0,\n 'Falcon 180B': 2.4}"
     },
     "execution_count": 14,
     "metadata": {},
     "output_type": "execute_result"
    }
   ],
   "source": [
    "price_colname = 'Price per chip-hour (1-year CUD)'\n",
    "system_to_price = {}\n",
    "\n",
    "for i, row in frontier_pcd_df.iterrows():\n",
    "    # Subtract training time plus 2 months from publication date\n",
    "    if pd.isna(row['Training time (hours)']):\n",
    "        continue\n",
    "\n",
    "    training_time_offset = pd.Timedelta(hours=int(row['Training time (hours)']))\n",
    "    low_buffer_time_offset = pd.Timedelta(days=30)\n",
    "    mid_buffer_time_offset = pd.Timedelta(days=60)\n",
    "    high_buffer_time_offset = pd.Timedelta(days=150)\n",
    "\n",
    "    high_purchase_time = row['Publication date'] - (training_time_offset + low_buffer_time_offset)\n",
    "    mid_purchase_time = row['Publication date'] - (training_time_offset + mid_buffer_time_offset)\n",
    "    low_purchase_time = row['Publication date'] - (training_time_offset + high_buffer_time_offset)\n",
    "\n",
    "    hardware_model = row[pcd_hardware_model_colname]\n",
    "\n",
    "    orgs = row['Organization'].split(',')\n",
    "    vendor = None\n",
    "    for org in orgs:\n",
    "        for key in org_to_cloud_vendor:\n",
    "            if key in org.lower():\n",
    "                vendor = org_to_cloud_vendor[key]\n",
    "                break\n",
    "\n",
    "    if vendor is None:\n",
    "        vendor = 'Amazon Web Services'  # default\n",
    "\n",
    "    print(f\"{row['System']}, {vendor}, {hardware_model}, at {mid_purchase_time}\")\n",
    "\n",
    "    # Find the price of the hardware at the time of purchase\n",
    "    closest_price_dates_df = find_closest_price_dates(vendor, hardware_model, mid_purchase_time, price_df)\n",
    "    price_per_chip_hour = None\n",
    "    for i, price_row in closest_price_dates_df.iterrows():\n",
    "        if price_row['Price date'] <= mid_purchase_time:\n",
    "            price_per_chip_hour = price_row[price_colname]\n",
    "            break\n",
    "    if price_per_chip_hour is None:\n",
    "        for i, price_row in closest_price_dates_df.iterrows():\n",
    "            if price_row['Price date'] > mid_purchase_time:\n",
    "                price_per_chip_hour = price_row[price_colname]\n",
    "                break\n",
    "    if type(price_per_chip_hour) is str:\n",
    "        system_to_price[row['System']] = float(price_per_chip_hour.strip('$'))\n",
    "    else:\n",
    "        print(f\"Could not find price\")\n",
    "        continue\n",
    "\n",
    "system_to_price"
   ]
  },
  {
   "cell_type": "markdown",
   "metadata": {},
   "source": [
    "# Cost estimation"
   ]
  },
  {
   "cell_type": "markdown",
   "metadata": {},
   "source": [
    "TODO: inflation adjustment"
   ]
  },
  {
   "cell_type": "markdown",
   "metadata": {},
   "source": [
    "cost = price_per_chip_hour * chip_hours"
   ]
  },
  {
   "cell_type": "code",
   "execution_count": 15,
   "metadata": {
    "ExecuteTime": {
     "end_time": "2023-12-29T07:29:42.022388Z",
     "start_time": "2023-12-29T07:29:41.708073200Z"
    }
   },
   "outputs": [],
   "source": [
    "def estimate_cost(row, system_to_price):\n",
    "    system = row['System']\n",
    "    price = system_to_price.get(system)\n",
    "    if price is None:\n",
    "        return None\n",
    "\n",
    "    chip_hours = row['Training time (chip hours)']\n",
    "    if np.isnan(chip_hours):\n",
    "        return None\n",
    "\n",
    "    cost = price * chip_hours\n",
    "\n",
    "    # Check for base model\n",
    "    if not pd.isna(row['Base model']):\n",
    "        base_model_name = row['Base model']\n",
    "        base_model = frontier_pcd_df[frontier_pcd_df['System'] == base_model_name].squeeze()\n",
    "        base_cost = estimate_cost(base_model, system_to_price)\n",
    "        if base_cost is None:\n",
    "            return None\n",
    "        else:\n",
    "            cost += base_cost\n",
    "\n",
    "    return cost\n",
    "    "
   ]
  },
  {
   "cell_type": "code",
   "execution_count": 16,
   "metadata": {
    "ExecuteTime": {
     "end_time": "2023-12-29T07:29:42.024381800Z",
     "start_time": "2023-12-29T07:29:41.727058800Z"
    }
   },
   "outputs": [
    {
     "data": {
      "text/plain": "{'RoBERTa Large': 281395.2,\n 'Megatron-LM (8.3B)': 383400.96,\n 'T5-11B': 310883.328,\n 'AlphaStar': 510935.04,\n 'Meena': 928972.8,\n 'GShard (dense)': 1300561.92,\n 'ALIGN': 224050.176,\n 'Megatron-Turing NLG 530B': 9037952.0,\n 'Gopher (280B)': 4748083.2,\n 'GLaM': 2839531.5199999996,\n 'LaMDA': 1786982.4,\n 'PaLM (540B)': 17062133.759999998,\n 'OPT-175B': 2437632.0,\n 'Minerva (540B)': 18508922.88,\n 'Falcon 180B': 42467328.0}"
     },
     "execution_count": 16,
     "metadata": {},
     "output_type": "execute_result"
    }
   ],
   "source": [
    "system_to_cost = {}\n",
    "for i, row in frontier_pcd_df.iterrows():\n",
    "    cost = estimate_cost(row, system_to_price)\n",
    "    if cost is None:\n",
    "        continue\n",
    "    system_to_cost[row['System']] = cost\n",
    "\n",
    "system_to_cost"
   ]
  },
  {
   "cell_type": "markdown",
   "metadata": {},
   "source": [
    "# Regression"
   ]
  },
  {
   "cell_type": "code",
   "execution_count": 16,
   "metadata": {
    "ExecuteTime": {
     "end_time": "2023-12-29T07:29:42.025383900Z",
     "start_time": "2023-12-29T07:29:41.757278300Z"
    }
   },
   "outputs": [],
   "source": []
  },
  {
   "cell_type": "markdown",
   "metadata": {},
   "source": [
    "# Plots"
   ]
  },
  {
   "cell_type": "code",
   "execution_count": 17,
   "metadata": {
    "ExecuteTime": {
     "end_time": "2023-12-29T07:29:44.334455500Z",
     "start_time": "2023-12-29T07:29:41.778205100Z"
    }
   },
   "outputs": [
    {
     "ename": "FileNotFoundError",
     "evalue": "[Errno 2] No such file or directory: 'results\\\\cost_scatter.png'",
     "output_type": "error",
     "traceback": [
      "\u001B[1;31m---------------------------------------------------------------------------\u001B[0m",
      "\u001B[1;31mFileNotFoundError\u001B[0m                         Traceback (most recent call last)",
      "\u001B[1;32m~\\AppData\\Local\\Temp\\ipykernel_10120\\1975738913.py\u001B[0m in \u001B[0;36m<module>\u001B[1;34m\u001B[0m\n\u001B[0;32m     52\u001B[0m \u001B[0mfig\u001B[0m\u001B[1;33m.\u001B[0m\u001B[0mupdate_layout\u001B[0m\u001B[1;33m(\u001B[0m\u001B[0mmargin\u001B[0m\u001B[1;33m=\u001B[0m\u001B[0mdict\u001B[0m\u001B[1;33m(\u001B[0m\u001B[0ml\u001B[0m\u001B[1;33m=\u001B[0m\u001B[1;36m10\u001B[0m\u001B[1;33m,\u001B[0m \u001B[0mr\u001B[0m\u001B[1;33m=\u001B[0m\u001B[1;36m10\u001B[0m\u001B[1;33m,\u001B[0m \u001B[0mt\u001B[0m\u001B[1;33m=\u001B[0m\u001B[1;36m40\u001B[0m\u001B[1;33m,\u001B[0m \u001B[0mb\u001B[0m\u001B[1;33m=\u001B[0m\u001B[1;36m10\u001B[0m\u001B[1;33m)\u001B[0m\u001B[1;33m)\u001B[0m\u001B[1;33m\u001B[0m\u001B[1;33m\u001B[0m\u001B[0m\n\u001B[0;32m     53\u001B[0m \u001B[1;33m\u001B[0m\u001B[0m\n\u001B[1;32m---> 54\u001B[1;33m \u001B[0msave_plot\u001B[0m\u001B[1;33m(\u001B[0m\u001B[0mfig\u001B[0m\u001B[1;33m,\u001B[0m \u001B[1;34m'results/'\u001B[0m\u001B[1;33m,\u001B[0m \u001B[1;34m'cost_scatter'\u001B[0m\u001B[1;33m)\u001B[0m\u001B[1;33m\u001B[0m\u001B[1;33m\u001B[0m\u001B[0m\n\u001B[0m\u001B[0;32m     55\u001B[0m \u001B[1;33m\u001B[0m\u001B[0m\n\u001B[0;32m     56\u001B[0m \u001B[0mfig\u001B[0m\u001B[1;33m.\u001B[0m\u001B[0mshow\u001B[0m\u001B[1;33m(\u001B[0m\u001B[1;33m)\u001B[0m\u001B[1;33m\u001B[0m\u001B[1;33m\u001B[0m\u001B[0m\n",
      "\u001B[1;32m~\\OneDrive\\Documents\\GitHub\\training-cost-trends\\plotting.py\u001B[0m in \u001B[0;36msave_plot\u001B[1;34m(fig, folder, filename, extensions, scale)\u001B[0m\n\u001B[0;32m     47\u001B[0m \u001B[1;32mdef\u001B[0m \u001B[0msave_plot\u001B[0m\u001B[1;33m(\u001B[0m\u001B[0mfig\u001B[0m\u001B[1;33m,\u001B[0m \u001B[0mfolder\u001B[0m\u001B[1;33m,\u001B[0m \u001B[0mfilename\u001B[0m\u001B[1;33m,\u001B[0m \u001B[0mextensions\u001B[0m\u001B[1;33m=\u001B[0m\u001B[1;33m[\u001B[0m\u001B[1;34m'png'\u001B[0m\u001B[1;33m,\u001B[0m \u001B[1;34m'svg'\u001B[0m\u001B[1;33m,\u001B[0m \u001B[1;34m'pdf'\u001B[0m\u001B[1;33m]\u001B[0m\u001B[1;33m,\u001B[0m \u001B[0mscale\u001B[0m\u001B[1;33m=\u001B[0m\u001B[1;36m2\u001B[0m\u001B[1;33m)\u001B[0m\u001B[1;33m:\u001B[0m\u001B[1;33m\u001B[0m\u001B[1;33m\u001B[0m\u001B[0m\n\u001B[0;32m     48\u001B[0m     \u001B[1;32mfor\u001B[0m \u001B[0mext\u001B[0m \u001B[1;32min\u001B[0m \u001B[0mextensions\u001B[0m\u001B[1;33m:\u001B[0m\u001B[1;33m\u001B[0m\u001B[1;33m\u001B[0m\u001B[0m\n\u001B[1;32m---> 49\u001B[1;33m         \u001B[0mfig\u001B[0m\u001B[1;33m.\u001B[0m\u001B[0mwrite_image\u001B[0m\u001B[1;33m(\u001B[0m\u001B[0mfolder\u001B[0m \u001B[1;33m+\u001B[0m \u001B[0mfilename\u001B[0m \u001B[1;33m+\u001B[0m \u001B[1;34m'.'\u001B[0m \u001B[1;33m+\u001B[0m \u001B[0mext\u001B[0m\u001B[1;33m,\u001B[0m \u001B[0mscale\u001B[0m\u001B[1;33m=\u001B[0m\u001B[0mscale\u001B[0m\u001B[1;33m)\u001B[0m\u001B[1;33m\u001B[0m\u001B[1;33m\u001B[0m\u001B[0m\n\u001B[0m\u001B[0;32m     50\u001B[0m \u001B[1;33m\u001B[0m\u001B[0m\n\u001B[0;32m     51\u001B[0m \u001B[1;33m\u001B[0m\u001B[0m\n",
      "\u001B[1;32mC:\\ProgramData\\Anaconda3\\lib\\site-packages\\plotly\\basedatatypes.py\u001B[0m in \u001B[0;36mwrite_image\u001B[1;34m(self, *args, **kwargs)\u001B[0m\n\u001B[0;32m   3827\u001B[0m         \u001B[1;32mimport\u001B[0m \u001B[0mplotly\u001B[0m\u001B[1;33m.\u001B[0m\u001B[0mio\u001B[0m \u001B[1;32mas\u001B[0m \u001B[0mpio\u001B[0m\u001B[1;33m\u001B[0m\u001B[1;33m\u001B[0m\u001B[0m\n\u001B[0;32m   3828\u001B[0m \u001B[1;33m\u001B[0m\u001B[0m\n\u001B[1;32m-> 3829\u001B[1;33m         \u001B[1;32mreturn\u001B[0m \u001B[0mpio\u001B[0m\u001B[1;33m.\u001B[0m\u001B[0mwrite_image\u001B[0m\u001B[1;33m(\u001B[0m\u001B[0mself\u001B[0m\u001B[1;33m,\u001B[0m \u001B[1;33m*\u001B[0m\u001B[0margs\u001B[0m\u001B[1;33m,\u001B[0m \u001B[1;33m**\u001B[0m\u001B[0mkwargs\u001B[0m\u001B[1;33m)\u001B[0m\u001B[1;33m\u001B[0m\u001B[1;33m\u001B[0m\u001B[0m\n\u001B[0m\u001B[0;32m   3830\u001B[0m \u001B[1;33m\u001B[0m\u001B[0m\n\u001B[0;32m   3831\u001B[0m     \u001B[1;31m# Static helpers\u001B[0m\u001B[1;33m\u001B[0m\u001B[1;33m\u001B[0m\u001B[0m\n",
      "\u001B[1;32mC:\\ProgramData\\Anaconda3\\lib\\site-packages\\plotly\\io\\_kaleido.py\u001B[0m in \u001B[0;36mwrite_image\u001B[1;34m(fig, file, format, scale, width, height, validate, engine)\u001B[0m\n\u001B[0;32m    295\u001B[0m         \u001B[1;31m# We previously succeeded in interpreting `file` as a pathlib object.\u001B[0m\u001B[1;33m\u001B[0m\u001B[1;33m\u001B[0m\u001B[0m\n\u001B[0;32m    296\u001B[0m         \u001B[1;31m# Now we can use `write_bytes()`.\u001B[0m\u001B[1;33m\u001B[0m\u001B[1;33m\u001B[0m\u001B[0m\n\u001B[1;32m--> 297\u001B[1;33m         \u001B[0mpath\u001B[0m\u001B[1;33m.\u001B[0m\u001B[0mwrite_bytes\u001B[0m\u001B[1;33m(\u001B[0m\u001B[0mimg_data\u001B[0m\u001B[1;33m)\u001B[0m\u001B[1;33m\u001B[0m\u001B[1;33m\u001B[0m\u001B[0m\n\u001B[0m\u001B[0;32m    298\u001B[0m \u001B[1;33m\u001B[0m\u001B[0m\n\u001B[0;32m    299\u001B[0m \u001B[1;33m\u001B[0m\u001B[0m\n",
      "\u001B[1;32mC:\\ProgramData\\Anaconda3\\lib\\pathlib.py\u001B[0m in \u001B[0;36mwrite_bytes\u001B[1;34m(self, data)\u001B[0m\n\u001B[0;32m   1273\u001B[0m         \u001B[1;31m# type-check for the buffer interface before truncating the file\u001B[0m\u001B[1;33m\u001B[0m\u001B[1;33m\u001B[0m\u001B[0m\n\u001B[0;32m   1274\u001B[0m         \u001B[0mview\u001B[0m \u001B[1;33m=\u001B[0m \u001B[0mmemoryview\u001B[0m\u001B[1;33m(\u001B[0m\u001B[0mdata\u001B[0m\u001B[1;33m)\u001B[0m\u001B[1;33m\u001B[0m\u001B[1;33m\u001B[0m\u001B[0m\n\u001B[1;32m-> 1275\u001B[1;33m         \u001B[1;32mwith\u001B[0m \u001B[0mself\u001B[0m\u001B[1;33m.\u001B[0m\u001B[0mopen\u001B[0m\u001B[1;33m(\u001B[0m\u001B[0mmode\u001B[0m\u001B[1;33m=\u001B[0m\u001B[1;34m'wb'\u001B[0m\u001B[1;33m)\u001B[0m \u001B[1;32mas\u001B[0m \u001B[0mf\u001B[0m\u001B[1;33m:\u001B[0m\u001B[1;33m\u001B[0m\u001B[1;33m\u001B[0m\u001B[0m\n\u001B[0m\u001B[0;32m   1276\u001B[0m             \u001B[1;32mreturn\u001B[0m \u001B[0mf\u001B[0m\u001B[1;33m.\u001B[0m\u001B[0mwrite\u001B[0m\u001B[1;33m(\u001B[0m\u001B[0mview\u001B[0m\u001B[1;33m)\u001B[0m\u001B[1;33m\u001B[0m\u001B[1;33m\u001B[0m\u001B[0m\n\u001B[0;32m   1277\u001B[0m \u001B[1;33m\u001B[0m\u001B[0m\n",
      "\u001B[1;32mC:\\ProgramData\\Anaconda3\\lib\\pathlib.py\u001B[0m in \u001B[0;36mopen\u001B[1;34m(self, mode, buffering, encoding, errors, newline)\u001B[0m\n\u001B[0;32m   1250\u001B[0m         \u001B[0mthe\u001B[0m \u001B[0mbuilt\u001B[0m\u001B[1;33m-\u001B[0m\u001B[1;32min\u001B[0m \u001B[0mopen\u001B[0m\u001B[1;33m(\u001B[0m\u001B[1;33m)\u001B[0m \u001B[0mfunction\u001B[0m \u001B[0mdoes\u001B[0m\u001B[1;33m.\u001B[0m\u001B[1;33m\u001B[0m\u001B[1;33m\u001B[0m\u001B[0m\n\u001B[0;32m   1251\u001B[0m         \"\"\"\n\u001B[1;32m-> 1252\u001B[1;33m         return io.open(self, mode, buffering, encoding, errors, newline,\n\u001B[0m\u001B[0;32m   1253\u001B[0m                        opener=self._opener)\n\u001B[0;32m   1254\u001B[0m \u001B[1;33m\u001B[0m\u001B[0m\n",
      "\u001B[1;32mC:\\ProgramData\\Anaconda3\\lib\\pathlib.py\u001B[0m in \u001B[0;36m_opener\u001B[1;34m(self, name, flags, mode)\u001B[0m\n\u001B[0;32m   1118\u001B[0m     \u001B[1;32mdef\u001B[0m \u001B[0m_opener\u001B[0m\u001B[1;33m(\u001B[0m\u001B[0mself\u001B[0m\u001B[1;33m,\u001B[0m \u001B[0mname\u001B[0m\u001B[1;33m,\u001B[0m \u001B[0mflags\u001B[0m\u001B[1;33m,\u001B[0m \u001B[0mmode\u001B[0m\u001B[1;33m=\u001B[0m\u001B[1;36m0o666\u001B[0m\u001B[1;33m)\u001B[0m\u001B[1;33m:\u001B[0m\u001B[1;33m\u001B[0m\u001B[1;33m\u001B[0m\u001B[0m\n\u001B[0;32m   1119\u001B[0m         \u001B[1;31m# A stub for the opener argument to built-in open()\u001B[0m\u001B[1;33m\u001B[0m\u001B[1;33m\u001B[0m\u001B[0m\n\u001B[1;32m-> 1120\u001B[1;33m         \u001B[1;32mreturn\u001B[0m \u001B[0mself\u001B[0m\u001B[1;33m.\u001B[0m\u001B[0m_accessor\u001B[0m\u001B[1;33m.\u001B[0m\u001B[0mopen\u001B[0m\u001B[1;33m(\u001B[0m\u001B[0mself\u001B[0m\u001B[1;33m,\u001B[0m \u001B[0mflags\u001B[0m\u001B[1;33m,\u001B[0m \u001B[0mmode\u001B[0m\u001B[1;33m)\u001B[0m\u001B[1;33m\u001B[0m\u001B[1;33m\u001B[0m\u001B[0m\n\u001B[0m\u001B[0;32m   1121\u001B[0m \u001B[1;33m\u001B[0m\u001B[0m\n\u001B[0;32m   1122\u001B[0m     \u001B[1;32mdef\u001B[0m \u001B[0m_raw_open\u001B[0m\u001B[1;33m(\u001B[0m\u001B[0mself\u001B[0m\u001B[1;33m,\u001B[0m \u001B[0mflags\u001B[0m\u001B[1;33m,\u001B[0m \u001B[0mmode\u001B[0m\u001B[1;33m=\u001B[0m\u001B[1;36m0o777\u001B[0m\u001B[1;33m)\u001B[0m\u001B[1;33m:\u001B[0m\u001B[1;33m\u001B[0m\u001B[1;33m\u001B[0m\u001B[0m\n",
      "\u001B[1;31mFileNotFoundError\u001B[0m: [Errno 2] No such file or directory: 'results\\\\cost_scatter.png'"
     ]
    }
   ],
   "source": [
    "import plotly.graph_objects as go\n",
    "\n",
    "fig = go.Figure()\n",
    "for i, row in frontier_pcd_df.iterrows():\n",
    "    system = row['System']\n",
    "    cost = system_to_cost.get(system)\n",
    "    if cost is None:\n",
    "        continue\n",
    "    publication_date = row['Publication date']\n",
    "\n",
    "    fig.add_trace(go.Scatter(\n",
    "        x=[publication_date],\n",
    "        y=[cost],\n",
    "        name=system,\n",
    "        text=system,\n",
    "        textposition='top center',\n",
    "        line=dict(color='#034752'),\n",
    "        mode='markers+text',\n",
    "    ))\n",
    "\n",
    "# log y axis\n",
    "fig.update_yaxes(type=\"log\")\n",
    "# no legend\n",
    "fig.update_layout(showlegend=False)\n",
    "\n",
    "# axis labels\n",
    "fig.update_xaxes(title_text='Publication date')\n",
    "fig.update_yaxes(title_text='Cost (USD, nominal)')\n",
    "\n",
    "# title\n",
    "fig.update_layout(title_text='Cost of cloud compute to train frontier ML systems')\n",
    "\n",
    "# update size\n",
    "fig.update_layout(\n",
    "    autosize=False,\n",
    "    width=800,\n",
    "    height=600,\n",
    ")\n",
    "\n",
    "# font size\n",
    "fig.update_layout(\n",
    "    font=dict(\n",
    "        size=14,\n",
    "    )\n",
    ")\n",
    "\n",
    "# axis limits\n",
    "fig.update_xaxes(range=['2018-01-01', '2025-01-01'])\n",
    "fig.update_yaxes(range=[5, 8])\n",
    "\n",
    "# margins\n",
    "fig.update_layout(margin=dict(l=10, r=10, t=40, b=10))\n",
    "\n",
    "save_plot(fig, 'results/', 'cost_scatter')\n",
    "\n",
    "fig.show()"
   ]
  },
  {
   "cell_type": "code",
   "execution_count": null,
   "metadata": {},
   "outputs": [],
   "source": [
    "import plotly.graph_objects as go\n",
    "\n",
    "fig = go.Figure()\n",
    "for i, row in frontier_pcd_df.iterrows():\n",
    "    system = row['System']\n",
    "    cost = system_to_cost.get(system)\n",
    "    if cost is None:\n",
    "        continue\n",
    "    publication_date = row['Publication date']\n",
    "\n",
    "    fig.add_trace(go.Bar(\n",
    "        x=[system],\n",
    "        y=[cost],\n",
    "        name=system,\n",
    "        # nice blue color\n",
    "        marker_color='#034752',\n",
    "        # text=system,\n",
    "        # textposition='auto',\n",
    "    ))\n",
    "\n",
    "# log y axis\n",
    "fig.update_yaxes(type=\"log\")\n",
    "# no legend\n",
    "fig.update_layout(showlegend=False)\n",
    "\n",
    "# axis labels\n",
    "fig.update_xaxes(title_text='System')\n",
    "fig.update_yaxes(title_text='Cost (USD, nominal)')\n",
    "\n",
    "# title\n",
    "fig.update_layout(title_text='Cost of cloud compute to train frontier ML systems')\n",
    "\n",
    "# update size\n",
    "fig.update_layout(\n",
    "    autosize=False,\n",
    "    width=800,\n",
    "    height=600,\n",
    ")\n",
    "\n",
    "# font size\n",
    "fig.update_layout(\n",
    "    font=dict(\n",
    "        size=14,\n",
    "    )\n",
    ")\n",
    "\n",
    "# axis limits\n",
    "fig.update_yaxes(range=[0, 8])\n",
    "\n",
    "# margins\n",
    "fig.update_layout(margin=dict(l=10, r=10, t=40, b=10))\n",
    "\n",
    "fig.show()\n"
   ]
  },
  {
   "cell_type": "code",
   "execution_count": null,
   "metadata": {},
   "outputs": [],
   "source": []
  }
 ],
 "metadata": {
  "colab": {
   "provenance": []
  },
  "kernelspec": {
   "name": "python3",
   "language": "python",
   "display_name": "Python 3 (ipykernel)"
  },
  "language_info": {
   "codemirror_mode": {
    "name": "ipython",
    "version": 3
   },
   "file_extension": ".py",
   "mimetype": "text/x-python",
   "name": "python",
   "nbconvert_exporter": "python",
   "pygments_lexer": "ipython3",
   "version": "3.11.4"
  }
 },
 "nbformat": 4,
 "nbformat_minor": 0
}
