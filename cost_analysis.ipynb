{
 "cells": [
  {
   "cell_type": "markdown",
   "metadata": {},
   "source": [
    "# Setup"
   ]
  },
  {
   "cell_type": "code",
   "execution_count": 1,
   "metadata": {
    "ExecuteTime": {
     "end_time": "2024-03-08T01:54:49.691298800Z",
     "start_time": "2024-03-08T01:54:49.634206900Z"
    }
   },
   "outputs": [],
   "source": [
    "%load_ext autoreload\n",
    "%autoreload 2"
   ]
  },
  {
   "cell_type": "code",
   "execution_count": 2,
   "metadata": {
    "ExecuteTime": {
     "end_time": "2024-03-08T01:54:56.468786200Z",
     "start_time": "2024-03-08T01:54:49.695864500Z"
    },
    "id": "qltoZ7TbdkHZ"
   },
   "outputs": [],
   "source": [
    "from contextlib import redirect_stdout\n",
    "import numpy as np\n",
    "import os\n",
    "import pandas as pd\n",
    "import plotly.express as px\n",
    "\n",
    "from cost import *\n",
    "from plotting import *\n",
    "from prices import *\n",
    "from inflation import *\n",
    "from regression import *\n",
    "from utils import *"
   ]
  },
  {
   "cell_type": "code",
   "execution_count": 3,
   "metadata": {
    "ExecuteTime": {
     "end_time": "2024-03-08T01:54:56.578403700Z",
     "start_time": "2024-03-08T01:54:56.468786200Z"
    }
   },
   "outputs": [],
   "source": [
    "estimation_method = 'cloud'  # hardware-capex-energy, hardware-acquisition, cloud\n",
    "compute_threshold_method = 'top_n'  # top_n, window_percentile\n",
    "compute_threshold = 10  # e.g. 10 to select top 10; 75 to select top 25%\n",
    "variant = '2025-03-17'  # whatever else distinguishes this run, e.g. 'excluding-AlphaGo'\n",
    "exclude_models_containing = []  # ['GNMT', 'AlphaZero', 'AlphaGo Master', 'AlphaGo Zero']\n",
    "\n",
    "estimation_method_lookup = {\n",
    "    'hardware-capex-energy': estimate_hardware_capex_energy,\n",
    "    'hardware-acquisition': estimate_hardware_acquisition_cost,\n",
    "    'cloud': estimate_cloud_costs,\n",
    "}\n",
    "cost_estimation_function = estimation_method_lookup[estimation_method]\n",
    "\n",
    "results_dir = f'results/{estimation_method}-{compute_threshold_method}={compute_threshold}-{variant}/'\n",
    "os.makedirs(results_dir, exist_ok=True)"
   ]
  },
  {
   "cell_type": "markdown",
   "metadata": {},
   "source": [
    "# Load data"
   ]
  },
  {
   "cell_type": "code",
   "execution_count": 4,
   "metadata": {
    "ExecuteTime": {
     "end_time": "2024-03-08T01:54:57.129865300Z",
     "start_time": "2024-03-08T01:54:56.872275900Z"
    }
   },
   "outputs": [],
   "source": [
    "frontier_pcd_df, hardware_df, price_df = load_data_for_cost_estimation(\n",
    "    compute_threshold_method=compute_threshold_method, compute_threshold=compute_threshold,\n",
    ")"
   ]
  },
  {
   "cell_type": "code",
   "execution_count": 5,
   "metadata": {
    "ExecuteTime": {
     "end_time": "2024-03-08T01:54:57.278230500Z",
     "start_time": "2024-03-08T01:54:57.129865300Z"
    }
   },
   "outputs": [
    {
     "data": {
      "text/plain": [
       "(89, 5703, 583)"
      ]
     },
     "execution_count": 5,
     "metadata": {},
     "output_type": "execute_result"
    }
   ],
   "source": [
    "len(frontier_pcd_df), len(hardware_df), len(price_df)"
   ]
  },
  {
   "cell_type": "markdown",
   "metadata": {},
   "source": [
    "# Cost estimation"
   ]
  },
  {
   "cell_type": "code",
   "execution_count": 6,
   "metadata": {
    "ExecuteTime": {
     "end_time": "2024-03-08T01:54:57.807954200Z",
     "start_time": "2024-03-08T01:54:57.278230500Z"
    }
   },
   "outputs": [],
   "source": [
    "with open(f'{results_dir}/cost_estimation.out', 'w') as f:\n",
    "    with redirect_stdout(f):\n",
    "        cost_df = cost_estimation_function(frontier_pcd_df, hardware_df, price_df)"
   ]
  },
  {
   "cell_type": "code",
   "execution_count": 7,
   "metadata": {},
   "outputs": [],
   "source": [
    "if estimation_method == 'hardware-capex-energy':\n",
    "    frontier_pcd_df_copy = frontier_pcd_df.copy()\n",
    "    with open(f'{results_dir}/component_cost_estimation.out', 'w') as f:\n",
    "        with redirect_stdout(f):\n",
    "            component_cost_df = cost_estimation_function(frontier_pcd_df_copy, hardware_df, price_df, separate_components=True)"
   ]
  },
  {
   "cell_type": "code",
   "execution_count": 8,
   "metadata": {
    "ExecuteTime": {
     "end_time": "2024-03-08T01:54:57.967995500Z",
     "start_time": "2024-03-08T01:54:57.807954200Z"
    }
   },
   "outputs": [
    {
     "data": {
      "text/html": [
       "<div>\n",
       "<style scoped>\n",
       "    .dataframe tbody tr th:only-of-type {\n",
       "        vertical-align: middle;\n",
       "    }\n",
       "\n",
       "    .dataframe tbody tr th {\n",
       "        vertical-align: top;\n",
       "    }\n",
       "\n",
       "    .dataframe thead th {\n",
       "        text-align: right;\n",
       "    }\n",
       "</style>\n",
       "<table border=\"1\" class=\"dataframe\">\n",
       "  <thead>\n",
       "    <tr style=\"text-align: right;\">\n",
       "      <th></th>\n",
       "      <th>Model</th>\n",
       "      <th>Domain</th>\n",
       "      <th>Task</th>\n",
       "      <th>Authors</th>\n",
       "      <th>Notability criteria</th>\n",
       "      <th>Notability criteria notes</th>\n",
       "      <th>Model accessibility</th>\n",
       "      <th>Link</th>\n",
       "      <th>Citations</th>\n",
       "      <th>Reference</th>\n",
       "      <th>...</th>\n",
       "      <th>Post-training compute (FLOP)</th>\n",
       "      <th>Post-training compute notes</th>\n",
       "      <th>Hardware maker</th>\n",
       "      <th>benchmarks/models</th>\n",
       "      <th>Maybe over 1e25 FLOP</th>\n",
       "      <th>Updated dataset size</th>\n",
       "      <th>WT103 ppl</th>\n",
       "      <th>WT2 ppl</th>\n",
       "      <th>PTB ppl</th>\n",
       "      <th>Cost</th>\n",
       "    </tr>\n",
       "  </thead>\n",
       "  <tbody>\n",
       "    <tr>\n",
       "      <th>109</th>\n",
       "      <td>Doubao-pro</td>\n",
       "      <td>Language</td>\n",
       "      <td>Language modeling/generation,Question answerin...</td>\n",
       "      <td>NaN</td>\n",
       "      <td>Training cost</td>\n",
       "      <td>NaN</td>\n",
       "      <td>API access</td>\n",
       "      <td>https://www.volcengine.com/docs/6360/1264663</td>\n",
       "      <td>NaN</td>\n",
       "      <td>Doubao General Model Pro (Doubao-pro)</td>\n",
       "      <td>...</td>\n",
       "      <td>NaN</td>\n",
       "      <td>NaN</td>\n",
       "      <td>NaN</td>\n",
       "      <td>doubao-pro-32k</td>\n",
       "      <td>NaN</td>\n",
       "      <td>NaN</td>\n",
       "      <td>NaN</td>\n",
       "      <td>NaN</td>\n",
       "      <td>NaN</td>\n",
       "      <td>NaN</td>\n",
       "    </tr>\n",
       "    <tr>\n",
       "      <th>312</th>\n",
       "      <td>GLM-4-Plus</td>\n",
       "      <td>Language</td>\n",
       "      <td>Language modeling</td>\n",
       "      <td>Zhipu AI</td>\n",
       "      <td>Training cost</td>\n",
       "      <td>NaN</td>\n",
       "      <td>API access</td>\n",
       "      <td>https://bigmodel.cn/dev/howuse/glm-4</td>\n",
       "      <td>NaN</td>\n",
       "      <td>GLM-4-Plus</td>\n",
       "      <td>...</td>\n",
       "      <td>NaN</td>\n",
       "      <td>NaN</td>\n",
       "      <td>NaN</td>\n",
       "      <td>NaN</td>\n",
       "      <td>NaN</td>\n",
       "      <td>NaN</td>\n",
       "      <td>NaN</td>\n",
       "      <td>NaN</td>\n",
       "      <td>NaN</td>\n",
       "      <td>NaN</td>\n",
       "    </tr>\n",
       "    <tr>\n",
       "      <th>335</th>\n",
       "      <td>Grok-2</td>\n",
       "      <td>Language,Vision,Multimodal</td>\n",
       "      <td>Chat,Language modeling/generation,Question ans...</td>\n",
       "      <td>NaN</td>\n",
       "      <td>Training cost</td>\n",
       "      <td>NaN</td>\n",
       "      <td>Hosted access (no API)</td>\n",
       "      <td>https://x.ai/blog/grok-2</td>\n",
       "      <td>NaN</td>\n",
       "      <td>Grok-2 Beta Release</td>\n",
       "      <td>...</td>\n",
       "      <td>NaN</td>\n",
       "      <td>NaN</td>\n",
       "      <td>NVIDIA</td>\n",
       "      <td>grok-2-1212,grok-2-vision-1212,grok-2-0813</td>\n",
       "      <td>NaN</td>\n",
       "      <td>NaN</td>\n",
       "      <td>NaN</td>\n",
       "      <td>NaN</td>\n",
       "      <td>NaN</td>\n",
       "      <td>1.076908e+08</td>\n",
       "    </tr>\n",
       "    <tr>\n",
       "      <th>367</th>\n",
       "      <td>Mistral Large 2</td>\n",
       "      <td>Language</td>\n",
       "      <td>Language modeling/generation,Translation,Code ...</td>\n",
       "      <td>Albert Jiang, Alexandre Sablayrolles, Alexis T...</td>\n",
       "      <td>Training cost</td>\n",
       "      <td>likely high training cost since previous Mistr...</td>\n",
       "      <td>Open weights (non-commercial)</td>\n",
       "      <td>https://mistral.ai/news/mistral-large-2407/</td>\n",
       "      <td>NaN</td>\n",
       "      <td>Top-tier reasoning for high-complexity tasks, ...</td>\n",
       "      <td>...</td>\n",
       "      <td>NaN</td>\n",
       "      <td>NaN</td>\n",
       "      <td>NaN</td>\n",
       "      <td>Mistral-Large-Instruct-2407,Mistral-Large-Inst...</td>\n",
       "      <td>NaN</td>\n",
       "      <td>NaN</td>\n",
       "      <td>NaN</td>\n",
       "      <td>NaN</td>\n",
       "      <td>NaN</td>\n",
       "      <td>NaN</td>\n",
       "    </tr>\n",
       "    <tr>\n",
       "      <th>370</th>\n",
       "      <td>Llama 3.1-405B</td>\n",
       "      <td>Language</td>\n",
       "      <td>Language modeling/generation</td>\n",
       "      <td>Abhimanyu Dubey, Abhinav Jauhri, Abhinav Pande...</td>\n",
       "      <td>SOTA improvement,Training cost</td>\n",
       "      <td>High training compute, exceeds 4o and Claude 3...</td>\n",
       "      <td>Open weights (restricted use)</td>\n",
       "      <td>https://ai.meta.com/research/publications/the-...</td>\n",
       "      <td>NaN</td>\n",
       "      <td>The Llama 3 Herd of Models</td>\n",
       "      <td>...</td>\n",
       "      <td>9.400000e+22</td>\n",
       "      <td>Section 4 gives detail about the post-training...</td>\n",
       "      <td>NVIDIA</td>\n",
       "      <td>Llama-3.1-405B-Instruct</td>\n",
       "      <td>NaN</td>\n",
       "      <td>NaN</td>\n",
       "      <td>NaN</td>\n",
       "      <td>NaN</td>\n",
       "      <td>NaN</td>\n",
       "      <td>1.705594e+08</td>\n",
       "    </tr>\n",
       "    <tr>\n",
       "      <th>...</th>\n",
       "      <td>...</td>\n",
       "      <td>...</td>\n",
       "      <td>...</td>\n",
       "      <td>...</td>\n",
       "      <td>...</td>\n",
       "      <td>...</td>\n",
       "      <td>...</td>\n",
       "      <td>...</td>\n",
       "      <td>...</td>\n",
       "      <td>...</td>\n",
       "      <td>...</td>\n",
       "      <td>...</td>\n",
       "      <td>...</td>\n",
       "      <td>...</td>\n",
       "      <td>...</td>\n",
       "      <td>...</td>\n",
       "      <td>...</td>\n",
       "      <td>...</td>\n",
       "      <td>...</td>\n",
       "      <td>...</td>\n",
       "      <td>...</td>\n",
       "    </tr>\n",
       "    <tr>\n",
       "      <th>2054</th>\n",
       "      <td>AlphaGo Lee</td>\n",
       "      <td>Games</td>\n",
       "      <td>Go</td>\n",
       "      <td>David Silver, Aja Huang, Chris J. Maddison, Ar...</td>\n",
       "      <td>Highly cited</td>\n",
       "      <td>NaN</td>\n",
       "      <td>Unreleased</td>\n",
       "      <td>https://www.nature.com/articles/nature16961</td>\n",
       "      <td>16057.0</td>\n",
       "      <td>Mastering the game of Go with deep neural netw...</td>\n",
       "      <td>...</td>\n",
       "      <td>NaN</td>\n",
       "      <td>NaN</td>\n",
       "      <td>NaN</td>\n",
       "      <td>NaN</td>\n",
       "      <td>NaN</td>\n",
       "      <td>0 checked out of 1</td>\n",
       "      <td>NaN</td>\n",
       "      <td>NaN</td>\n",
       "      <td>NaN</td>\n",
       "      <td>NaN</td>\n",
       "    </tr>\n",
       "    <tr>\n",
       "      <th>2058</th>\n",
       "      <td>ResNet-152 (ImageNet)</td>\n",
       "      <td>Vision</td>\n",
       "      <td>Image classification</td>\n",
       "      <td>Kaiming He, Xiangyu Zhang, Shaoqing Ren, Jian Sun</td>\n",
       "      <td>Highly cited</td>\n",
       "      <td>NaN</td>\n",
       "      <td>NaN</td>\n",
       "      <td>https://arxiv.org/abs/1512.03385</td>\n",
       "      <td>175697.0</td>\n",
       "      <td>Deep Residual Learning for Image Recognition</td>\n",
       "      <td>...</td>\n",
       "      <td>NaN</td>\n",
       "      <td>NaN</td>\n",
       "      <td>NaN</td>\n",
       "      <td>NaN</td>\n",
       "      <td>NaN</td>\n",
       "      <td>0 checked out of 1</td>\n",
       "      <td>NaN</td>\n",
       "      <td>NaN</td>\n",
       "      <td>NaN</td>\n",
       "      <td>NaN</td>\n",
       "    </tr>\n",
       "    <tr>\n",
       "      <th>2060</th>\n",
       "      <td>ResNet-101 (ImageNet)</td>\n",
       "      <td>Vision</td>\n",
       "      <td>Image classification</td>\n",
       "      <td>Kaiming He, Xiangyu Zhang, Shaoqing Ren, Jian Sun</td>\n",
       "      <td>Highly cited</td>\n",
       "      <td>NaN</td>\n",
       "      <td>Open weights (unrestricted)</td>\n",
       "      <td>https://arxiv.org/abs/1512.03385</td>\n",
       "      <td>175697.0</td>\n",
       "      <td>Deep Residual Learning for Image Recognition</td>\n",
       "      <td>...</td>\n",
       "      <td>NaN</td>\n",
       "      <td>NaN</td>\n",
       "      <td>NaN</td>\n",
       "      <td>NaN</td>\n",
       "      <td>NaN</td>\n",
       "      <td>NaN</td>\n",
       "      <td>NaN</td>\n",
       "      <td>NaN</td>\n",
       "      <td>NaN</td>\n",
       "      <td>NaN</td>\n",
       "    </tr>\n",
       "    <tr>\n",
       "      <th>2061</th>\n",
       "      <td>DeepSpeech2 (English)</td>\n",
       "      <td>Speech</td>\n",
       "      <td>Speech recognition</td>\n",
       "      <td>Dario Amodei, Rishita Anubhai, Eric Battenberg...</td>\n",
       "      <td>Highly cited</td>\n",
       "      <td>NaN</td>\n",
       "      <td>NaN</td>\n",
       "      <td>https://arxiv.org/abs/1512.02595</td>\n",
       "      <td>2853.0</td>\n",
       "      <td>Deep Speech 2: End-to-End Speech Recognition i...</td>\n",
       "      <td>...</td>\n",
       "      <td>NaN</td>\n",
       "      <td>NaN</td>\n",
       "      <td>NVIDIA</td>\n",
       "      <td>NaN</td>\n",
       "      <td>NaN</td>\n",
       "      <td>0 checked out of 1</td>\n",
       "      <td>NaN</td>\n",
       "      <td>NaN</td>\n",
       "      <td>NaN</td>\n",
       "      <td>NaN</td>\n",
       "    </tr>\n",
       "    <tr>\n",
       "      <th>2069</th>\n",
       "      <td>SAF R-CNN</td>\n",
       "      <td>Vision</td>\n",
       "      <td>Object detection</td>\n",
       "      <td>Jianan Li, Xiaodan Liang, ShengMei Shen, Tingf...</td>\n",
       "      <td>SOTA improvement</td>\n",
       "      <td>Pedestrian Detection on Caltech benchmark</td>\n",
       "      <td>Unreleased</td>\n",
       "      <td>https://arxiv.org/abs/1510.08160</td>\n",
       "      <td>NaN</td>\n",
       "      <td>Scale-aware Fast R-CNN for Pedestrian Detection</td>\n",
       "      <td>...</td>\n",
       "      <td>NaN</td>\n",
       "      <td>NaN</td>\n",
       "      <td>NVIDIA</td>\n",
       "      <td>NaN</td>\n",
       "      <td>NaN</td>\n",
       "      <td>0 checked out of 1</td>\n",
       "      <td>NaN</td>\n",
       "      <td>NaN</td>\n",
       "      <td>NaN</td>\n",
       "      <td>NaN</td>\n",
       "    </tr>\n",
       "  </tbody>\n",
       "</table>\n",
       "<p>89 rows × 99 columns</p>\n",
       "</div>"
      ],
      "text/plain": [
       "                      Model                      Domain  \\\n",
       "109              Doubao-pro                    Language   \n",
       "312              GLM-4-Plus                    Language   \n",
       "335                  Grok-2  Language,Vision,Multimodal   \n",
       "367         Mistral Large 2                    Language   \n",
       "370          Llama 3.1-405B                    Language   \n",
       "...                     ...                         ...   \n",
       "2054            AlphaGo Lee                       Games   \n",
       "2058  ResNet-152 (ImageNet)                      Vision   \n",
       "2060  ResNet-101 (ImageNet)                      Vision   \n",
       "2061  DeepSpeech2 (English)                      Speech   \n",
       "2069              SAF R-CNN                      Vision   \n",
       "\n",
       "                                                   Task  \\\n",
       "109   Language modeling/generation,Question answerin...   \n",
       "312                                   Language modeling   \n",
       "335   Chat,Language modeling/generation,Question ans...   \n",
       "367   Language modeling/generation,Translation,Code ...   \n",
       "370                        Language modeling/generation   \n",
       "...                                                 ...   \n",
       "2054                                                 Go   \n",
       "2058                               Image classification   \n",
       "2060                               Image classification   \n",
       "2061                                 Speech recognition   \n",
       "2069                                   Object detection   \n",
       "\n",
       "                                                Authors  \\\n",
       "109                                                 NaN   \n",
       "312                                            Zhipu AI   \n",
       "335                                                 NaN   \n",
       "367   Albert Jiang, Alexandre Sablayrolles, Alexis T...   \n",
       "370   Abhimanyu Dubey, Abhinav Jauhri, Abhinav Pande...   \n",
       "...                                                 ...   \n",
       "2054  David Silver, Aja Huang, Chris J. Maddison, Ar...   \n",
       "2058  Kaiming He, Xiangyu Zhang, Shaoqing Ren, Jian Sun   \n",
       "2060  Kaiming He, Xiangyu Zhang, Shaoqing Ren, Jian Sun   \n",
       "2061  Dario Amodei, Rishita Anubhai, Eric Battenberg...   \n",
       "2069  Jianan Li, Xiaodan Liang, ShengMei Shen, Tingf...   \n",
       "\n",
       "                 Notability criteria  \\\n",
       "109                    Training cost   \n",
       "312                    Training cost   \n",
       "335                    Training cost   \n",
       "367                    Training cost   \n",
       "370   SOTA improvement,Training cost   \n",
       "...                              ...   \n",
       "2054                    Highly cited   \n",
       "2058                    Highly cited   \n",
       "2060                    Highly cited   \n",
       "2061                    Highly cited   \n",
       "2069                SOTA improvement   \n",
       "\n",
       "                              Notability criteria notes  \\\n",
       "109                                                 NaN   \n",
       "312                                                 NaN   \n",
       "335                                                 NaN   \n",
       "367   likely high training cost since previous Mistr...   \n",
       "370   High training compute, exceeds 4o and Claude 3...   \n",
       "...                                                 ...   \n",
       "2054                                                NaN   \n",
       "2058                                                NaN   \n",
       "2060                                                NaN   \n",
       "2061                                                NaN   \n",
       "2069          Pedestrian Detection on Caltech benchmark   \n",
       "\n",
       "                Model accessibility  \\\n",
       "109                      API access   \n",
       "312                      API access   \n",
       "335          Hosted access (no API)   \n",
       "367   Open weights (non-commercial)   \n",
       "370   Open weights (restricted use)   \n",
       "...                             ...   \n",
       "2054                     Unreleased   \n",
       "2058                            NaN   \n",
       "2060    Open weights (unrestricted)   \n",
       "2061                            NaN   \n",
       "2069                     Unreleased   \n",
       "\n",
       "                                                   Link  Citations  \\\n",
       "109        https://www.volcengine.com/docs/6360/1264663        NaN   \n",
       "312                https://bigmodel.cn/dev/howuse/glm-4        NaN   \n",
       "335                            https://x.ai/blog/grok-2        NaN   \n",
       "367         https://mistral.ai/news/mistral-large-2407/        NaN   \n",
       "370   https://ai.meta.com/research/publications/the-...        NaN   \n",
       "...                                                 ...        ...   \n",
       "2054        https://www.nature.com/articles/nature16961    16057.0   \n",
       "2058                   https://arxiv.org/abs/1512.03385   175697.0   \n",
       "2060                   https://arxiv.org/abs/1512.03385   175697.0   \n",
       "2061                   https://arxiv.org/abs/1512.02595     2853.0   \n",
       "2069                   https://arxiv.org/abs/1510.08160        NaN   \n",
       "\n",
       "                                              Reference  ...  \\\n",
       "109               Doubao General Model Pro (Doubao-pro)  ...   \n",
       "312                                          GLM-4-Plus  ...   \n",
       "335                                 Grok-2 Beta Release  ...   \n",
       "367   Top-tier reasoning for high-complexity tasks, ...  ...   \n",
       "370                          The Llama 3 Herd of Models  ...   \n",
       "...                                                 ...  ...   \n",
       "2054  Mastering the game of Go with deep neural netw...  ...   \n",
       "2058       Deep Residual Learning for Image Recognition  ...   \n",
       "2060       Deep Residual Learning for Image Recognition  ...   \n",
       "2061  Deep Speech 2: End-to-End Speech Recognition i...  ...   \n",
       "2069    Scale-aware Fast R-CNN for Pedestrian Detection  ...   \n",
       "\n",
       "     Post-training compute (FLOP)  \\\n",
       "109                           NaN   \n",
       "312                           NaN   \n",
       "335                           NaN   \n",
       "367                           NaN   \n",
       "370                  9.400000e+22   \n",
       "...                           ...   \n",
       "2054                          NaN   \n",
       "2058                          NaN   \n",
       "2060                          NaN   \n",
       "2061                          NaN   \n",
       "2069                          NaN   \n",
       "\n",
       "                            Post-training compute notes  Hardware maker  \\\n",
       "109                                                 NaN             NaN   \n",
       "312                                                 NaN             NaN   \n",
       "335                                                 NaN          NVIDIA   \n",
       "367                                                 NaN             NaN   \n",
       "370   Section 4 gives detail about the post-training...          NVIDIA   \n",
       "...                                                 ...             ...   \n",
       "2054                                                NaN             NaN   \n",
       "2058                                                NaN             NaN   \n",
       "2060                                                NaN             NaN   \n",
       "2061                                                NaN          NVIDIA   \n",
       "2069                                                NaN          NVIDIA   \n",
       "\n",
       "                                      benchmarks/models  Maybe over 1e25 FLOP  \\\n",
       "109                                      doubao-pro-32k                   NaN   \n",
       "312                                                 NaN                   NaN   \n",
       "335          grok-2-1212,grok-2-vision-1212,grok-2-0813                   NaN   \n",
       "367   Mistral-Large-Instruct-2407,Mistral-Large-Inst...                   NaN   \n",
       "370                             Llama-3.1-405B-Instruct                   NaN   \n",
       "...                                                 ...                   ...   \n",
       "2054                                                NaN                   NaN   \n",
       "2058                                                NaN                   NaN   \n",
       "2060                                                NaN                   NaN   \n",
       "2061                                                NaN                   NaN   \n",
       "2069                                                NaN                   NaN   \n",
       "\n",
       "     Updated dataset size WT103 ppl WT2 ppl  PTB ppl          Cost  \n",
       "109                   NaN       NaN     NaN      NaN           NaN  \n",
       "312                   NaN       NaN     NaN      NaN           NaN  \n",
       "335                   NaN       NaN     NaN      NaN  1.076908e+08  \n",
       "367                   NaN       NaN     NaN      NaN           NaN  \n",
       "370                   NaN       NaN     NaN      NaN  1.705594e+08  \n",
       "...                   ...       ...     ...      ...           ...  \n",
       "2054   0 checked out of 1       NaN     NaN      NaN           NaN  \n",
       "2058   0 checked out of 1       NaN     NaN      NaN           NaN  \n",
       "2060                  NaN       NaN     NaN      NaN           NaN  \n",
       "2061   0 checked out of 1       NaN     NaN      NaN           NaN  \n",
       "2069   0 checked out of 1       NaN     NaN      NaN           NaN  \n",
       "\n",
       "[89 rows x 99 columns]"
      ]
     },
     "execution_count": 8,
     "metadata": {},
     "output_type": "execute_result"
    }
   ],
   "source": [
    "cost_df"
   ]
  },
  {
   "cell_type": "code",
   "execution_count": 9,
   "metadata": {
    "ExecuteTime": {
     "end_time": "2024-03-08T01:54:58.104807Z",
     "start_time": "2024-03-08T01:54:57.967995500Z"
    }
   },
   "outputs": [
    {
     "data": {
      "text/plain": [
       "50"
      ]
     },
     "execution_count": 9,
     "metadata": {},
     "output_type": "execute_result"
    }
   ],
   "source": [
    "cost_df['Cost'].notna().sum()"
   ]
  },
  {
   "cell_type": "code",
   "execution_count": 10,
   "metadata": {},
   "outputs": [
    {
     "data": {
      "text/plain": [
       "32"
      ]
     },
     "execution_count": 10,
     "metadata": {},
     "output_type": "execute_result"
    }
   ],
   "source": [
    "cost_df.dropna(subset=['Cost'])['Training time (hours)'].notna().sum()"
   ]
  },
  {
   "cell_type": "code",
   "execution_count": 11,
   "metadata": {},
   "outputs": [
    {
     "data": {
      "text/plain": [
       "19"
      ]
     },
     "execution_count": 11,
     "metadata": {},
     "output_type": "execute_result"
    }
   ],
   "source": [
    "cost_df.dropna(subset=['Cost'])['Hardware utilization'].notna().sum()"
   ]
  },
  {
   "cell_type": "markdown",
   "metadata": {},
   "source": [
    "Exclusion"
   ]
  },
  {
   "cell_type": "code",
   "execution_count": 12,
   "metadata": {},
   "outputs": [
    {
     "data": {
      "text/html": [
       "<div>\n",
       "<style scoped>\n",
       "    .dataframe tbody tr th:only-of-type {\n",
       "        vertical-align: middle;\n",
       "    }\n",
       "\n",
       "    .dataframe tbody tr th {\n",
       "        vertical-align: top;\n",
       "    }\n",
       "\n",
       "    .dataframe thead th {\n",
       "        text-align: right;\n",
       "    }\n",
       "</style>\n",
       "<table border=\"1\" class=\"dataframe\">\n",
       "  <thead>\n",
       "    <tr style=\"text-align: right;\">\n",
       "      <th></th>\n",
       "      <th>Model</th>\n",
       "      <th>Publication date</th>\n",
       "    </tr>\n",
       "  </thead>\n",
       "  <tbody>\n",
       "    <tr>\n",
       "      <th>1920</th>\n",
       "      <td>Libratus</td>\n",
       "      <td>2017-08-19</td>\n",
       "    </tr>\n",
       "    <tr>\n",
       "      <th>1929</th>\n",
       "      <td>OpenAI TI7 DOTA 1v1</td>\n",
       "      <td>2017-08-11</td>\n",
       "    </tr>\n",
       "    <tr>\n",
       "      <th>1935</th>\n",
       "      <td>ConvS2S (ensemble of 8 models)</td>\n",
       "      <td>2017-07-25</td>\n",
       "    </tr>\n",
       "    <tr>\n",
       "      <th>1941</th>\n",
       "      <td>JFT</td>\n",
       "      <td>2017-07-10</td>\n",
       "    </tr>\n",
       "    <tr>\n",
       "      <th>1965</th>\n",
       "      <td>MoE-Multi</td>\n",
       "      <td>2017-01-23</td>\n",
       "    </tr>\n",
       "    <tr>\n",
       "      <th>1985</th>\n",
       "      <td>PolyNet</td>\n",
       "      <td>2016-11-17</td>\n",
       "    </tr>\n",
       "    <tr>\n",
       "      <th>1991</th>\n",
       "      <td>NASv3 (CIFAR-10)</td>\n",
       "      <td>2016-11-05</td>\n",
       "    </tr>\n",
       "    <tr>\n",
       "      <th>2000</th>\n",
       "      <td>Xception</td>\n",
       "      <td>2016-10-07</td>\n",
       "    </tr>\n",
       "    <tr>\n",
       "      <th>2001</th>\n",
       "      <td>GNMT</td>\n",
       "      <td>2016-09-26</td>\n",
       "    </tr>\n",
       "    <tr>\n",
       "      <th>2013</th>\n",
       "      <td>ResNet-200</td>\n",
       "      <td>2016-09-17</td>\n",
       "    </tr>\n",
       "    <tr>\n",
       "      <th>2054</th>\n",
       "      <td>AlphaGo Lee</td>\n",
       "      <td>2016-01-27</td>\n",
       "    </tr>\n",
       "    <tr>\n",
       "      <th>2058</th>\n",
       "      <td>ResNet-152 (ImageNet)</td>\n",
       "      <td>2015-12-10</td>\n",
       "    </tr>\n",
       "    <tr>\n",
       "      <th>2060</th>\n",
       "      <td>ResNet-101 (ImageNet)</td>\n",
       "      <td>2015-12-10</td>\n",
       "    </tr>\n",
       "    <tr>\n",
       "      <th>2061</th>\n",
       "      <td>DeepSpeech2 (English)</td>\n",
       "      <td>2015-12-08</td>\n",
       "    </tr>\n",
       "    <tr>\n",
       "      <th>2069</th>\n",
       "      <td>SAF R-CNN</td>\n",
       "      <td>2015-10-28</td>\n",
       "    </tr>\n",
       "  </tbody>\n",
       "</table>\n",
       "</div>"
      ],
      "text/plain": [
       "                               Model Publication date\n",
       "1920                        Libratus       2017-08-19\n",
       "1929             OpenAI TI7 DOTA 1v1       2017-08-11\n",
       "1935  ConvS2S (ensemble of 8 models)       2017-07-25\n",
       "1941                             JFT       2017-07-10\n",
       "1965                       MoE-Multi       2017-01-23\n",
       "1985                         PolyNet       2016-11-17\n",
       "1991                NASv3 (CIFAR-10)       2016-11-05\n",
       "2000                        Xception       2016-10-07\n",
       "2001                            GNMT       2016-09-26\n",
       "2013                      ResNet-200       2016-09-17\n",
       "2054                     AlphaGo Lee       2016-01-27\n",
       "2058           ResNet-152 (ImageNet)       2015-12-10\n",
       "2060           ResNet-101 (ImageNet)       2015-12-10\n",
       "2061           DeepSpeech2 (English)       2015-12-08\n",
       "2069                       SAF R-CNN       2015-10-28"
      ]
     },
     "execution_count": 12,
     "metadata": {},
     "output_type": "execute_result"
    }
   ],
   "source": [
    "cost_df[['Model', 'Publication date']].tail(15)"
   ]
  },
  {
   "cell_type": "code",
   "execution_count": 13,
   "metadata": {},
   "outputs": [
    {
     "data": {
      "text/html": [
       "<div>\n",
       "<style scoped>\n",
       "    .dataframe tbody tr th:only-of-type {\n",
       "        vertical-align: middle;\n",
       "    }\n",
       "\n",
       "    .dataframe tbody tr th {\n",
       "        vertical-align: top;\n",
       "    }\n",
       "\n",
       "    .dataframe thead th {\n",
       "        text-align: right;\n",
       "    }\n",
       "</style>\n",
       "<table border=\"1\" class=\"dataframe\">\n",
       "  <thead>\n",
       "    <tr style=\"text-align: right;\">\n",
       "      <th></th>\n",
       "      <th>Model</th>\n",
       "      <th>Publication date</th>\n",
       "    </tr>\n",
       "  </thead>\n",
       "  <tbody>\n",
       "    <tr>\n",
       "      <th>1920</th>\n",
       "      <td>Libratus</td>\n",
       "      <td>2017-08-19</td>\n",
       "    </tr>\n",
       "    <tr>\n",
       "      <th>1929</th>\n",
       "      <td>OpenAI TI7 DOTA 1v1</td>\n",
       "      <td>2017-08-11</td>\n",
       "    </tr>\n",
       "    <tr>\n",
       "      <th>1935</th>\n",
       "      <td>ConvS2S (ensemble of 8 models)</td>\n",
       "      <td>2017-07-25</td>\n",
       "    </tr>\n",
       "    <tr>\n",
       "      <th>1941</th>\n",
       "      <td>JFT</td>\n",
       "      <td>2017-07-10</td>\n",
       "    </tr>\n",
       "    <tr>\n",
       "      <th>1965</th>\n",
       "      <td>MoE-Multi</td>\n",
       "      <td>2017-01-23</td>\n",
       "    </tr>\n",
       "    <tr>\n",
       "      <th>1985</th>\n",
       "      <td>PolyNet</td>\n",
       "      <td>2016-11-17</td>\n",
       "    </tr>\n",
       "    <tr>\n",
       "      <th>1991</th>\n",
       "      <td>NASv3 (CIFAR-10)</td>\n",
       "      <td>2016-11-05</td>\n",
       "    </tr>\n",
       "    <tr>\n",
       "      <th>2000</th>\n",
       "      <td>Xception</td>\n",
       "      <td>2016-10-07</td>\n",
       "    </tr>\n",
       "    <tr>\n",
       "      <th>2001</th>\n",
       "      <td>GNMT</td>\n",
       "      <td>2016-09-26</td>\n",
       "    </tr>\n",
       "    <tr>\n",
       "      <th>2013</th>\n",
       "      <td>ResNet-200</td>\n",
       "      <td>2016-09-17</td>\n",
       "    </tr>\n",
       "    <tr>\n",
       "      <th>2054</th>\n",
       "      <td>AlphaGo Lee</td>\n",
       "      <td>2016-01-27</td>\n",
       "    </tr>\n",
       "    <tr>\n",
       "      <th>2058</th>\n",
       "      <td>ResNet-152 (ImageNet)</td>\n",
       "      <td>2015-12-10</td>\n",
       "    </tr>\n",
       "    <tr>\n",
       "      <th>2060</th>\n",
       "      <td>ResNet-101 (ImageNet)</td>\n",
       "      <td>2015-12-10</td>\n",
       "    </tr>\n",
       "    <tr>\n",
       "      <th>2061</th>\n",
       "      <td>DeepSpeech2 (English)</td>\n",
       "      <td>2015-12-08</td>\n",
       "    </tr>\n",
       "    <tr>\n",
       "      <th>2069</th>\n",
       "      <td>SAF R-CNN</td>\n",
       "      <td>2015-10-28</td>\n",
       "    </tr>\n",
       "  </tbody>\n",
       "</table>\n",
       "</div>"
      ],
      "text/plain": [
       "                               Model Publication date\n",
       "1920                        Libratus       2017-08-19\n",
       "1929             OpenAI TI7 DOTA 1v1       2017-08-11\n",
       "1935  ConvS2S (ensemble of 8 models)       2017-07-25\n",
       "1941                             JFT       2017-07-10\n",
       "1965                       MoE-Multi       2017-01-23\n",
       "1985                         PolyNet       2016-11-17\n",
       "1991                NASv3 (CIFAR-10)       2016-11-05\n",
       "2000                        Xception       2016-10-07\n",
       "2001                            GNMT       2016-09-26\n",
       "2013                      ResNet-200       2016-09-17\n",
       "2054                     AlphaGo Lee       2016-01-27\n",
       "2058           ResNet-152 (ImageNet)       2015-12-10\n",
       "2060           ResNet-101 (ImageNet)       2015-12-10\n",
       "2061           DeepSpeech2 (English)       2015-12-08\n",
       "2069                       SAF R-CNN       2015-10-28"
      ]
     },
     "execution_count": 13,
     "metadata": {},
     "output_type": "execute_result"
    }
   ],
   "source": [
    "for kw in exclude_models_containing:\n",
    "    cost_df = cost_df[cost_df['Model'].str.contains(kw) == False]\n",
    "cost_df[['Model', 'Publication date']].tail(15)"
   ]
  },
  {
   "cell_type": "markdown",
   "metadata": {},
   "source": [
    "Use the below to check data availability for specific systems"
   ]
  },
  {
   "cell_type": "code",
   "execution_count": 14,
   "metadata": {
    "ExecuteTime": {
     "end_time": "2024-03-08T01:54:58.418907200Z",
     "start_time": "2024-03-08T01:54:58.109807800Z"
    }
   },
   "outputs": [],
   "source": [
    "# system = 'WizardLM-7B'\n",
    "# row = cost_df.loc[cost_df['Model'] == system]\n",
    "# print('Cost:', row['Cost'].values[0])\n",
    "# print('Training hardware:', row['Training hardware'].values[0])\n",
    "# print('Training time (hours):', row['Training time (hours)'].values[0])\n",
    "# print('Hardware quantity:', row['Hardware quantity'].values[0])\n",
    "# print('Hardware utilization:', row['Hardware utilization'].values[0])"
   ]
  },
  {
   "cell_type": "markdown",
   "metadata": {},
   "source": [
    "# Apply inflation adjustment"
   ]
  },
  {
   "cell_type": "code",
   "execution_count": 15,
   "metadata": {},
   "outputs": [
    {
     "data": {
      "text/plain": [
       "335     1.076908e+08\n",
       "370     1.705594e+08\n",
       "417     6.569165e+07\n",
       "592     3.638565e+07\n",
       "618     4.074785e+07\n",
       "624     8.980070e+06\n",
       "633     6.171048e+07\n",
       "732     1.914000e+08\n",
       "757     3.641839e+07\n",
       "843     2.298470e+07\n",
       "865     2.565734e+07\n",
       "1010    2.866801e+07\n",
       "1075    7.752000e+07\n",
       "1152    8.324027e+06\n",
       "1249    1.547798e+06\n",
       "1288    1.462579e+06\n",
       "1299    1.218724e+07\n",
       "1322    1.276416e+06\n",
       "1355    2.028237e+06\n",
       "1359    3.391488e+06\n",
       "1403    6.209280e+06\n",
       "1411    9.550237e+05\n",
       "1427    1.273742e+06\n",
       "1456    4.390244e+05\n",
       "1465    3.994580e+05\n",
       "1505    2.433024e+05\n",
       "1522    5.971968e+05\n",
       "1525    3.425778e+05\n",
       "1590    9.289728e+05\n",
       "1599    2.268444e+05\n",
       "1606    4.120320e+06\n",
       "1647    6.635520e+05\n",
       "1654    1.003880e+07\n",
       "1655    9.526085e+05\n",
       "1669    1.327104e+05\n",
       "1673    1.488569e+05\n",
       "1675    3.568435e+05\n",
       "1678    4.769648e+04\n",
       "1679    2.171250e+05\n",
       "1693    2.355302e+05\n",
       "1694    2.025830e+05\n",
       "1720    1.486848e+05\n",
       "1741    3.280458e+04\n",
       "1746    2.433024e+04\n",
       "1780    1.017525e+04\n",
       "1812    1.081344e+04\n",
       "1854    2.049869e+05\n",
       "1941    3.096000e+04\n",
       "2000    1.857600e+04\n",
       "2001    2.819639e+05\n",
       "Name: Cost, dtype: float64"
      ]
     },
     "execution_count": 15,
     "metadata": {},
     "output_type": "execute_result"
    }
   ],
   "source": [
    "cost_df['Cost'].dropna()"
   ]
  },
  {
   "cell_type": "code",
   "execution_count": 16,
   "metadata": {
    "ExecuteTime": {
     "end_time": "2024-03-08T01:54:59.049781600Z",
     "start_time": "2024-03-08T01:54:58.881981400Z"
    }
   },
   "outputs": [],
   "source": [
    "cost_df = adjust_column_for_inflation(cost_df, 'Cost', 'data/PCU518210518210.csv', '2024-12-01')"
   ]
  },
  {
   "cell_type": "code",
   "execution_count": 17,
   "metadata": {
    "ExecuteTime": {
     "end_time": "2024-03-08T01:54:59.177190500Z",
     "start_time": "2024-03-08T01:54:59.049781600Z"
    }
   },
   "outputs": [
    {
     "data": {
      "text/plain": [
       "335     1.073194e+08\n",
       "370     1.698280e+08\n",
       "417     6.552968e+07\n",
       "592     3.641647e+07\n",
       "618     4.068989e+07\n",
       "624     8.967297e+06\n",
       "633     6.162270e+07\n",
       "732     1.919146e+08\n",
       "757     3.660148e+07\n",
       "843     2.318910e+07\n",
       "865     2.588551e+07\n",
       "1010    2.904054e+07\n",
       "1075    7.856202e+07\n",
       "1152    8.514143e+06\n",
       "1249    1.581238e+06\n",
       "1288    1.489702e+06\n",
       "1299    1.242226e+07\n",
       "1322    1.323122e+06\n",
       "1355    2.098625e+06\n",
       "1359    3.509187e+06\n",
       "1403    6.422820e+06\n",
       "1411    9.896170e+05\n",
       "1427    1.318117e+06\n",
       "1456    4.552313e+05\n",
       "1465    4.142043e+05\n",
       "1505    2.520651e+05\n",
       "1522    6.214023e+05\n",
       "1525    3.564631e+05\n",
       "1590    9.717088e+05\n",
       "1599    2.372801e+05\n",
       "1606    4.336473e+06\n",
       "1647    6.989785e+05\n",
       "1654    1.069751e+07\n",
       "1655    1.015115e+06\n",
       "1669    1.417982e+05\n",
       "1673    1.590503e+05\n",
       "1675    3.812795e+05\n",
       "1678    5.096264e+04\n",
       "1679    2.319933e+05\n",
       "1693    2.518844e+05\n",
       "1694    2.166495e+05\n",
       "1720    1.604465e+05\n",
       "1741    3.546371e+04\n",
       "1746    2.635018e+04\n",
       "1780    1.101002e+04\n",
       "1812    1.167940e+04\n",
       "1854    2.216031e+05\n",
       "1941    3.353035e+04\n",
       "2000    2.033970e+04\n",
       "2001    3.087349e+05\n",
       "Name: Cost (inflation-adjusted), dtype: float64"
      ]
     },
     "execution_count": 17,
     "metadata": {},
     "output_type": "execute_result"
    }
   ],
   "source": [
    "cost_df['Cost (inflation-adjusted)'].dropna()"
   ]
  },
  {
   "cell_type": "code",
   "execution_count": 18,
   "metadata": {
    "ExecuteTime": {
     "end_time": "2024-03-08T01:54:59.344452300Z",
     "start_time": "2024-03-08T01:54:59.182457200Z"
    }
   },
   "outputs": [],
   "source": [
    "# Equal number of non-null values\n",
    "assert cost_df['Cost (inflation-adjusted)'].notna().sum() == cost_df['Cost'].notna().sum()"
   ]
  },
  {
   "cell_type": "markdown",
   "metadata": {},
   "source": [
    "# Regression"
   ]
  },
  {
   "cell_type": "code",
   "execution_count": 19,
   "metadata": {
    "ExecuteTime": {
     "end_time": "2024-03-08T01:54:59.490722200Z",
     "start_time": "2024-03-08T01:54:59.337705700Z"
    }
   },
   "outputs": [],
   "source": [
    "cost_df['Publication date (float)'] = datetime_to_float_year(pd.to_datetime(cost_df['Publication date']))"
   ]
  },
  {
   "cell_type": "code",
   "execution_count": 20,
   "metadata": {
    "ExecuteTime": {
     "end_time": "2024-03-08T01:54:59.700207700Z",
     "start_time": "2024-03-08T01:54:59.462346300Z"
    }
   },
   "outputs": [
    {
     "data": {
      "text/html": [
       "<table class=\"simpletable\">\n",
       "<caption>OLS Regression Results</caption>\n",
       "<tr>\n",
       "  <th>Dep. Variable:</th>            <td>y</td>        <th>  R-squared:         </th> <td>   0.770</td>\n",
       "</tr>\n",
       "<tr>\n",
       "  <th>Model:</th>                   <td>OLS</td>       <th>  Adj. R-squared:    </th> <td>   0.766</td>\n",
       "</tr>\n",
       "<tr>\n",
       "  <th>Method:</th>             <td>Least Squares</td>  <th>  F-statistic:       </th> <td>   161.1</td>\n",
       "</tr>\n",
       "<tr>\n",
       "  <th>Date:</th>             <td>Mon, 17 Mar 2025</td> <th>  Prob (F-statistic):</th> <td>5.92e-17</td>\n",
       "</tr>\n",
       "<tr>\n",
       "  <th>Time:</th>                 <td>15:25:51</td>     <th>  Log-Likelihood:    </th> <td> -41.255</td>\n",
       "</tr>\n",
       "<tr>\n",
       "  <th>No. Observations:</th>      <td>    50</td>      <th>  AIC:               </th> <td>   86.51</td>\n",
       "</tr>\n",
       "<tr>\n",
       "  <th>Df Residuals:</th>          <td>    48</td>      <th>  BIC:               </th> <td>   90.33</td>\n",
       "</tr>\n",
       "<tr>\n",
       "  <th>Df Model:</th>              <td>     1</td>      <th>                     </th>     <td> </td>   \n",
       "</tr>\n",
       "<tr>\n",
       "  <th>Covariance Type:</th>      <td>nonrobust</td>    <th>                     </th>     <td> </td>   \n",
       "</tr>\n",
       "</table>\n",
       "<table class=\"simpletable\">\n",
       "<tr>\n",
       "    <td></td>       <th>coef</th>     <th>std err</th>      <th>t</th>      <th>P>|t|</th>  <th>[0.025</th>    <th>0.975]</th>  \n",
       "</tr>\n",
       "<tr>\n",
       "  <th>const</th> <td> -981.1994</td> <td>   77.781</td> <td>  -12.615</td> <td> 0.000</td> <td>-1137.588</td> <td> -824.810</td>\n",
       "</tr>\n",
       "<tr>\n",
       "  <th>x1</th>    <td>    0.4885</td> <td>    0.038</td> <td>   12.694</td> <td> 0.000</td> <td>    0.411</td> <td>    0.566</td>\n",
       "</tr>\n",
       "</table>\n",
       "<table class=\"simpletable\">\n",
       "<tr>\n",
       "  <th>Omnibus:</th>       <td> 5.386</td> <th>  Durbin-Watson:     </th> <td>   1.197</td>\n",
       "</tr>\n",
       "<tr>\n",
       "  <th>Prob(Omnibus):</th> <td> 0.068</td> <th>  Jarque-Bera (JB):  </th> <td>   4.246</td>\n",
       "</tr>\n",
       "<tr>\n",
       "  <th>Skew:</th>          <td> 0.643</td> <th>  Prob(JB):          </th> <td>   0.120</td>\n",
       "</tr>\n",
       "<tr>\n",
       "  <th>Kurtosis:</th>      <td> 3.622</td> <th>  Cond. No.          </th> <td>1.97e+06</td>\n",
       "</tr>\n",
       "</table><br/><br/>Notes:<br/>[1] Standard Errors assume that the covariance matrix of the errors is correctly specified.<br/>[2] The condition number is large, 1.97e+06. This might indicate that there are<br/>strong multicollinearity or other numerical problems."
      ],
      "text/latex": [
       "\\begin{center}\n",
       "\\begin{tabular}{lclc}\n",
       "\\toprule\n",
       "\\textbf{Dep. Variable:}    &        y         & \\textbf{  R-squared:         } &     0.770   \\\\\n",
       "\\textbf{Model:}            &       OLS        & \\textbf{  Adj. R-squared:    } &     0.766   \\\\\n",
       "\\textbf{Method:}           &  Least Squares   & \\textbf{  F-statistic:       } &     161.1   \\\\\n",
       "\\textbf{Date:}             & Mon, 17 Mar 2025 & \\textbf{  Prob (F-statistic):} &  5.92e-17   \\\\\n",
       "\\textbf{Time:}             &     15:25:51     & \\textbf{  Log-Likelihood:    } &   -41.255   \\\\\n",
       "\\textbf{No. Observations:} &          50      & \\textbf{  AIC:               } &     86.51   \\\\\n",
       "\\textbf{Df Residuals:}     &          48      & \\textbf{  BIC:               } &     90.33   \\\\\n",
       "\\textbf{Df Model:}         &           1      & \\textbf{                     } &             \\\\\n",
       "\\textbf{Covariance Type:}  &    nonrobust     & \\textbf{                     } &             \\\\\n",
       "\\bottomrule\n",
       "\\end{tabular}\n",
       "\\begin{tabular}{lcccccc}\n",
       "               & \\textbf{coef} & \\textbf{std err} & \\textbf{t} & \\textbf{P$> |$t$|$} & \\textbf{[0.025} & \\textbf{0.975]}  \\\\\n",
       "\\midrule\n",
       "\\textbf{const} &    -981.1994  &       77.781     &   -12.615  &         0.000        &    -1137.588    &     -824.810     \\\\\n",
       "\\textbf{x1}    &       0.4885  &        0.038     &    12.694  &         0.000        &        0.411    &        0.566     \\\\\n",
       "\\bottomrule\n",
       "\\end{tabular}\n",
       "\\begin{tabular}{lclc}\n",
       "\\textbf{Omnibus:}       &  5.386 & \\textbf{  Durbin-Watson:     } &    1.197  \\\\\n",
       "\\textbf{Prob(Omnibus):} &  0.068 & \\textbf{  Jarque-Bera (JB):  } &    4.246  \\\\\n",
       "\\textbf{Skew:}          &  0.643 & \\textbf{  Prob(JB):          } &    0.120  \\\\\n",
       "\\textbf{Kurtosis:}      &  3.622 & \\textbf{  Cond. No.          } & 1.97e+06  \\\\\n",
       "\\bottomrule\n",
       "\\end{tabular}\n",
       "%\\caption{OLS Regression Results}\n",
       "\\end{center}\n",
       "\n",
       "Notes: \\newline\n",
       " [1] Standard Errors assume that the covariance matrix of the errors is correctly specified. \\newline\n",
       " [2] The condition number is large, 1.97e+06. This might indicate that there are \\newline\n",
       " strong multicollinearity or other numerical problems."
      ],
      "text/plain": [
       "<class 'statsmodels.iolib.summary.Summary'>\n",
       "\"\"\"\n",
       "                            OLS Regression Results                            \n",
       "==============================================================================\n",
       "Dep. Variable:                      y   R-squared:                       0.770\n",
       "Model:                            OLS   Adj. R-squared:                  0.766\n",
       "Method:                 Least Squares   F-statistic:                     161.1\n",
       "Date:                Mon, 17 Mar 2025   Prob (F-statistic):           5.92e-17\n",
       "Time:                        15:25:51   Log-Likelihood:                -41.255\n",
       "No. Observations:                  50   AIC:                             86.51\n",
       "Df Residuals:                      48   BIC:                             90.33\n",
       "Df Model:                           1                                         \n",
       "Covariance Type:            nonrobust                                         \n",
       "==============================================================================\n",
       "                 coef    std err          t      P>|t|      [0.025      0.975]\n",
       "------------------------------------------------------------------------------\n",
       "const       -981.1994     77.781    -12.615      0.000   -1137.588    -824.810\n",
       "x1             0.4885      0.038     12.694      0.000       0.411       0.566\n",
       "==============================================================================\n",
       "Omnibus:                        5.386   Durbin-Watson:                   1.197\n",
       "Prob(Omnibus):                  0.068   Jarque-Bera (JB):                4.246\n",
       "Skew:                           0.643   Prob(JB):                        0.120\n",
       "Kurtosis:                       3.622   Cond. No.                     1.97e+06\n",
       "==============================================================================\n",
       "\n",
       "Notes:\n",
       "[1] Standard Errors assume that the covariance matrix of the errors is correctly specified.\n",
       "[2] The condition number is large, 1.97e+06. This might indicate that there are\n",
       "strong multicollinearity or other numerical problems.\n",
       "\"\"\""
      ]
     },
     "execution_count": 20,
     "metadata": {},
     "output_type": "execute_result"
    }
   ],
   "source": [
    "reg_results = fit_ols_regression(cost_df, ['Publication date (float)'], 'Cost (inflation-adjusted)', logy=True)\n",
    "reg_results.summary()"
   ]
  },
  {
   "cell_type": "code",
   "execution_count": 21,
   "metadata": {
    "ExecuteTime": {
     "end_time": "2024-03-08T01:55:00.548785500Z",
     "start_time": "2024-03-08T01:54:59.700207700Z"
    }
   },
   "outputs": [
    {
     "name": "stdout",
     "output_type": "stream",
     "text": [
      "N=50.0\n",
      "R^2=0.77\n",
      "0.48848 OOMs/year (90% CI: 0.42394, 0.55302)\n",
      "3.07949x/year (90% CI: 2.65423x, 3.57289x)\n",
      "doubling time of 7.39512 months (90% CI: 6.53206, 8.52097)\n"
     ]
    }
   ],
   "source": [
    "with open(f'{results_dir}/regression_results.out', 'w') as f:\n",
    "    with redirect_stdout(f):\n",
    "        print_growth_rates(reg_results, round_digits=None)\n",
    "print_growth_rates(reg_results, ci=90, round_digits=5)"
   ]
  },
  {
   "cell_type": "code",
   "execution_count": 22,
   "metadata": {
    "ExecuteTime": {
     "end_time": "2024-03-08T01:55:00.548785500Z",
     "start_time": "2024-03-08T01:54:59.809703300Z"
    }
   },
   "outputs": [
    {
     "data": {
      "text/html": [
       "<div>\n",
       "<style scoped>\n",
       "    .dataframe tbody tr th:only-of-type {\n",
       "        vertical-align: middle;\n",
       "    }\n",
       "\n",
       "    .dataframe tbody tr th {\n",
       "        vertical-align: top;\n",
       "    }\n",
       "\n",
       "    .dataframe thead th {\n",
       "        text-align: right;\n",
       "    }\n",
       "</style>\n",
       "<table border=\"1\" class=\"dataframe\">\n",
       "  <thead>\n",
       "    <tr style=\"text-align: right;\">\n",
       "      <th></th>\n",
       "      <th>Publication date (float)</th>\n",
       "    </tr>\n",
       "  </thead>\n",
       "  <tbody>\n",
       "    <tr>\n",
       "      <th>0</th>\n",
       "      <td>2015.00000</td>\n",
       "    </tr>\n",
       "    <tr>\n",
       "      <th>1</th>\n",
       "      <td>2015.10101</td>\n",
       "    </tr>\n",
       "    <tr>\n",
       "      <th>2</th>\n",
       "      <td>2015.20202</td>\n",
       "    </tr>\n",
       "    <tr>\n",
       "      <th>3</th>\n",
       "      <td>2015.30303</td>\n",
       "    </tr>\n",
       "    <tr>\n",
       "      <th>4</th>\n",
       "      <td>2015.40404</td>\n",
       "    </tr>\n",
       "    <tr>\n",
       "      <th>...</th>\n",
       "      <td>...</td>\n",
       "    </tr>\n",
       "    <tr>\n",
       "      <th>95</th>\n",
       "      <td>2024.59596</td>\n",
       "    </tr>\n",
       "    <tr>\n",
       "      <th>96</th>\n",
       "      <td>2024.69697</td>\n",
       "    </tr>\n",
       "    <tr>\n",
       "      <th>97</th>\n",
       "      <td>2024.79798</td>\n",
       "    </tr>\n",
       "    <tr>\n",
       "      <th>98</th>\n",
       "      <td>2024.89899</td>\n",
       "    </tr>\n",
       "    <tr>\n",
       "      <th>99</th>\n",
       "      <td>2025.00000</td>\n",
       "    </tr>\n",
       "  </tbody>\n",
       "</table>\n",
       "<p>100 rows × 1 columns</p>\n",
       "</div>"
      ],
      "text/plain": [
       "    Publication date (float)\n",
       "0                 2015.00000\n",
       "1                 2015.10101\n",
       "2                 2015.20202\n",
       "3                 2015.30303\n",
       "4                 2015.40404\n",
       "..                       ...\n",
       "95                2024.59596\n",
       "96                2024.69697\n",
       "97                2024.79798\n",
       "98                2024.89899\n",
       "99                2025.00000\n",
       "\n",
       "[100 rows x 1 columns]"
      ]
     },
     "execution_count": 22,
     "metadata": {},
     "output_type": "execute_result"
    }
   ],
   "source": [
    "pred_start_year = 2015\n",
    "pred_end_year = 2025\n",
    "pred_start_date = f'{pred_start_year}-01-01'\n",
    "pred_end_date = f'{pred_end_year}-01-01'\n",
    "\n",
    "pred_years = pd.DataFrame({'Publication date (float)': np.linspace(pred_start_year, pred_end_year, 100)})\n",
    "pred_years"
   ]
  },
  {
   "cell_type": "code",
   "execution_count": 23,
   "metadata": {
    "ExecuteTime": {
     "end_time": "2024-03-08T01:55:00.564420400Z",
     "start_time": "2024-03-08T01:54:59.920051200Z"
    }
   },
   "outputs": [
    {
     "data": {
      "text/html": [
       "<div>\n",
       "<style scoped>\n",
       "    .dataframe tbody tr th:only-of-type {\n",
       "        vertical-align: middle;\n",
       "    }\n",
       "\n",
       "    .dataframe tbody tr th {\n",
       "        vertical-align: top;\n",
       "    }\n",
       "\n",
       "    .dataframe thead th {\n",
       "        text-align: right;\n",
       "    }\n",
       "</style>\n",
       "<table border=\"1\" class=\"dataframe\">\n",
       "  <thead>\n",
       "    <tr style=\"text-align: right;\">\n",
       "      <th></th>\n",
       "      <th>mean</th>\n",
       "      <th>mean_se</th>\n",
       "      <th>mean_ci_lower</th>\n",
       "      <th>mean_ci_upper</th>\n",
       "      <th>obs_ci_lower</th>\n",
       "      <th>obs_ci_upper</th>\n",
       "      <th>Publication date (float)</th>\n",
       "      <th>Publication date</th>\n",
       "    </tr>\n",
       "  </thead>\n",
       "  <tbody>\n",
       "    <tr>\n",
       "      <th>0</th>\n",
       "      <td>3.085135</td>\n",
       "      <td>0.254829</td>\n",
       "      <td>2.657731</td>\n",
       "      <td>3.512540</td>\n",
       "      <td>2.047727</td>\n",
       "      <td>4.122543</td>\n",
       "      <td>2015.00000</td>\n",
       "      <td>2015-01-01</td>\n",
       "    </tr>\n",
       "    <tr>\n",
       "      <th>1</th>\n",
       "      <td>3.134477</td>\n",
       "      <td>0.251140</td>\n",
       "      <td>2.713259</td>\n",
       "      <td>3.555694</td>\n",
       "      <td>2.099602</td>\n",
       "      <td>4.169351</td>\n",
       "      <td>2015.10101</td>\n",
       "      <td>2015-02-06</td>\n",
       "    </tr>\n",
       "    <tr>\n",
       "      <th>2</th>\n",
       "      <td>3.183818</td>\n",
       "      <td>0.247457</td>\n",
       "      <td>2.768778</td>\n",
       "      <td>3.598858</td>\n",
       "      <td>2.151442</td>\n",
       "      <td>4.216193</td>\n",
       "      <td>2015.20202</td>\n",
       "      <td>2015-03-15</td>\n",
       "    </tr>\n",
       "    <tr>\n",
       "      <th>3</th>\n",
       "      <td>3.233159</td>\n",
       "      <td>0.243780</td>\n",
       "      <td>2.824285</td>\n",
       "      <td>3.642033</td>\n",
       "      <td>2.203247</td>\n",
       "      <td>4.263071</td>\n",
       "      <td>2015.30303</td>\n",
       "      <td>2015-04-21</td>\n",
       "    </tr>\n",
       "    <tr>\n",
       "      <th>4</th>\n",
       "      <td>3.282500</td>\n",
       "      <td>0.240110</td>\n",
       "      <td>2.879782</td>\n",
       "      <td>3.685219</td>\n",
       "      <td>2.255017</td>\n",
       "      <td>4.309984</td>\n",
       "      <td>2015.40404</td>\n",
       "      <td>2015-05-28</td>\n",
       "    </tr>\n",
       "    <tr>\n",
       "      <th>...</th>\n",
       "      <td>...</td>\n",
       "      <td>...</td>\n",
       "      <td>...</td>\n",
       "      <td>...</td>\n",
       "      <td>...</td>\n",
       "      <td>...</td>\n",
       "      <td>...</td>\n",
       "      <td>...</td>\n",
       "    </tr>\n",
       "    <tr>\n",
       "      <th>95</th>\n",
       "      <td>7.772557</td>\n",
       "      <td>0.150123</td>\n",
       "      <td>7.520767</td>\n",
       "      <td>8.024347</td>\n",
       "      <td>6.794324</td>\n",
       "      <td>8.750790</td>\n",
       "      <td>2024.59596</td>\n",
       "      <td>2024-08-06</td>\n",
       "    </tr>\n",
       "    <tr>\n",
       "      <th>96</th>\n",
       "      <td>7.821898</td>\n",
       "      <td>0.153431</td>\n",
       "      <td>7.564560</td>\n",
       "      <td>8.079236</td>\n",
       "      <td>6.842223</td>\n",
       "      <td>8.801574</td>\n",
       "      <td>2024.69697</td>\n",
       "      <td>2024-09-12</td>\n",
       "    </tr>\n",
       "    <tr>\n",
       "      <th>97</th>\n",
       "      <td>7.871240</td>\n",
       "      <td>0.156765</td>\n",
       "      <td>7.608309</td>\n",
       "      <td>8.134170</td>\n",
       "      <td>6.890080</td>\n",
       "      <td>8.852399</td>\n",
       "      <td>2024.79798</td>\n",
       "      <td>2024-10-19</td>\n",
       "    </tr>\n",
       "    <tr>\n",
       "      <th>98</th>\n",
       "      <td>7.920581</td>\n",
       "      <td>0.160125</td>\n",
       "      <td>7.652016</td>\n",
       "      <td>8.189146</td>\n",
       "      <td>6.937897</td>\n",
       "      <td>8.903265</td>\n",
       "      <td>2024.89899</td>\n",
       "      <td>2024-11-25</td>\n",
       "    </tr>\n",
       "    <tr>\n",
       "      <th>99</th>\n",
       "      <td>7.969922</td>\n",
       "      <td>0.163507</td>\n",
       "      <td>7.695684</td>\n",
       "      <td>8.244160</td>\n",
       "      <td>6.985673</td>\n",
       "      <td>8.954172</td>\n",
       "      <td>2025.00000</td>\n",
       "      <td>2025-01-01</td>\n",
       "    </tr>\n",
       "  </tbody>\n",
       "</table>\n",
       "<p>100 rows × 8 columns</p>\n",
       "</div>"
      ],
      "text/plain": [
       "        mean   mean_se  mean_ci_lower  mean_ci_upper  obs_ci_lower  \\\n",
       "0   3.085135  0.254829       2.657731       3.512540      2.047727   \n",
       "1   3.134477  0.251140       2.713259       3.555694      2.099602   \n",
       "2   3.183818  0.247457       2.768778       3.598858      2.151442   \n",
       "3   3.233159  0.243780       2.824285       3.642033      2.203247   \n",
       "4   3.282500  0.240110       2.879782       3.685219      2.255017   \n",
       "..       ...       ...            ...            ...           ...   \n",
       "95  7.772557  0.150123       7.520767       8.024347      6.794324   \n",
       "96  7.821898  0.153431       7.564560       8.079236      6.842223   \n",
       "97  7.871240  0.156765       7.608309       8.134170      6.890080   \n",
       "98  7.920581  0.160125       7.652016       8.189146      6.937897   \n",
       "99  7.969922  0.163507       7.695684       8.244160      6.985673   \n",
       "\n",
       "    obs_ci_upper  Publication date (float) Publication date  \n",
       "0       4.122543                2015.00000       2015-01-01  \n",
       "1       4.169351                2015.10101       2015-02-06  \n",
       "2       4.216193                2015.20202       2015-03-15  \n",
       "3       4.263071                2015.30303       2015-04-21  \n",
       "4       4.309984                2015.40404       2015-05-28  \n",
       "..           ...                       ...              ...  \n",
       "95      8.750790                2024.59596       2024-08-06  \n",
       "96      8.801574                2024.69697       2024-09-12  \n",
       "97      8.852399                2024.79798       2024-10-19  \n",
       "98      8.903265                2024.89899       2024-11-25  \n",
       "99      8.954172                2025.00000       2025-01-01  \n",
       "\n",
       "[100 rows x 8 columns]"
      ]
     },
     "execution_count": 23,
     "metadata": {},
     "output_type": "execute_result"
    }
   ],
   "source": [
    "\n",
    "predicted_cost_df = get_predictions(reg_results, pred_years, ['Publication date (float)'])\n",
    "predicted_cost_df['Publication date'] = predicted_cost_df['Publication date (float)'].apply(float_year_to_datetime)\n",
    "predicted_cost_df"
   ]
  },
  {
   "cell_type": "code",
   "execution_count": 24,
   "metadata": {},
   "outputs": [],
   "source": [
    "predicted_cost_df.to_csv(results_dir + 'predicted_cost_dataset.csv', index=False)"
   ]
  },
  {
   "cell_type": "markdown",
   "metadata": {},
   "source": [
    "# Export data"
   ]
  },
  {
   "cell_type": "code",
   "execution_count": 25,
   "metadata": {},
   "outputs": [
    {
     "data": {
      "text/html": [
       "<div>\n",
       "<style scoped>\n",
       "    .dataframe tbody tr th:only-of-type {\n",
       "        vertical-align: middle;\n",
       "    }\n",
       "\n",
       "    .dataframe tbody tr th {\n",
       "        vertical-align: top;\n",
       "    }\n",
       "\n",
       "    .dataframe thead th {\n",
       "        text-align: right;\n",
       "    }\n",
       "</style>\n",
       "<table border=\"1\" class=\"dataframe\">\n",
       "  <thead>\n",
       "    <tr style=\"text-align: right;\">\n",
       "      <th></th>\n",
       "      <th>Model</th>\n",
       "      <th>Domain</th>\n",
       "      <th>Task</th>\n",
       "      <th>Model accessibility</th>\n",
       "      <th>Reference</th>\n",
       "      <th>Publication date</th>\n",
       "      <th>Organization</th>\n",
       "      <th>Parameters</th>\n",
       "      <th>Training compute (FLOP)</th>\n",
       "      <th>Training dataset size (datapoints)</th>\n",
       "      <th>...</th>\n",
       "      <th>Training hardware</th>\n",
       "      <th>Country (from Organization)</th>\n",
       "      <th>Base model</th>\n",
       "      <th>Finetune compute (FLOP)</th>\n",
       "      <th>Hardware quantity</th>\n",
       "      <th>Hardware utilization</th>\n",
       "      <th>Training cloud compute vendor</th>\n",
       "      <th>Training data center</th>\n",
       "      <th>Cost</th>\n",
       "      <th>Cost (inflation-adjusted)</th>\n",
       "    </tr>\n",
       "  </thead>\n",
       "  <tbody>\n",
       "    <tr>\n",
       "      <th>109</th>\n",
       "      <td>Doubao-pro</td>\n",
       "      <td>Language</td>\n",
       "      <td>Language modeling/generation,Question answerin...</td>\n",
       "      <td>API access</td>\n",
       "      <td>Doubao General Model Pro (Doubao-pro)</td>\n",
       "      <td>2024-10-28</td>\n",
       "      <td>ByteDance</td>\n",
       "      <td>5.000000e+11</td>\n",
       "      <td>2.505000e+25</td>\n",
       "      <td>8.350000e+12</td>\n",
       "      <td>...</td>\n",
       "      <td>NaN</td>\n",
       "      <td>China</td>\n",
       "      <td>NaN</td>\n",
       "      <td>NaN</td>\n",
       "      <td>NaN</td>\n",
       "      <td>NaN</td>\n",
       "      <td>NaN</td>\n",
       "      <td>There is no paper to reference, also no inform...</td>\n",
       "      <td>NaN</td>\n",
       "      <td>NaN</td>\n",
       "    </tr>\n",
       "    <tr>\n",
       "      <th>312</th>\n",
       "      <td>GLM-4-Plus</td>\n",
       "      <td>Language</td>\n",
       "      <td>Language modeling</td>\n",
       "      <td>API access</td>\n",
       "      <td>GLM-4-Plus</td>\n",
       "      <td>2024-08-29</td>\n",
       "      <td>Zhipu AI</td>\n",
       "      <td>NaN</td>\n",
       "      <td>3.600000e+25</td>\n",
       "      <td>NaN</td>\n",
       "      <td>...</td>\n",
       "      <td>NaN</td>\n",
       "      <td>China</td>\n",
       "      <td>NaN</td>\n",
       "      <td>NaN</td>\n",
       "      <td>NaN</td>\n",
       "      <td>NaN</td>\n",
       "      <td>NaN</td>\n",
       "      <td>Check references for hardware details.</td>\n",
       "      <td>NaN</td>\n",
       "      <td>NaN</td>\n",
       "    </tr>\n",
       "    <tr>\n",
       "      <th>335</th>\n",
       "      <td>Grok-2</td>\n",
       "      <td>Language,Vision,Multimodal</td>\n",
       "      <td>Chat,Language modeling/generation,Question ans...</td>\n",
       "      <td>Hosted access (no API)</td>\n",
       "      <td>Grok-2 Beta Release</td>\n",
       "      <td>2024-08-13</td>\n",
       "      <td>xAI</td>\n",
       "      <td>NaN</td>\n",
       "      <td>2.960000e+25</td>\n",
       "      <td>NaN</td>\n",
       "      <td>...</td>\n",
       "      <td>NVIDIA H100 SXM5 80GB</td>\n",
       "      <td>United States of America</td>\n",
       "      <td>NaN</td>\n",
       "      <td>NaN</td>\n",
       "      <td>NaN</td>\n",
       "      <td>NaN</td>\n",
       "      <td>NaN</td>\n",
       "      <td>NaN</td>\n",
       "      <td>1.076908e+08</td>\n",
       "      <td>1.073194e+08</td>\n",
       "    </tr>\n",
       "    <tr>\n",
       "      <th>367</th>\n",
       "      <td>Mistral Large 2</td>\n",
       "      <td>Language</td>\n",
       "      <td>Language modeling/generation,Translation,Code ...</td>\n",
       "      <td>Open weights (non-commercial)</td>\n",
       "      <td>Top-tier reasoning for high-complexity tasks, ...</td>\n",
       "      <td>2024-07-24</td>\n",
       "      <td>Mistral AI</td>\n",
       "      <td>1.230000e+11</td>\n",
       "      <td>2.130000e+25</td>\n",
       "      <td>NaN</td>\n",
       "      <td>...</td>\n",
       "      <td>NaN</td>\n",
       "      <td>France</td>\n",
       "      <td>NaN</td>\n",
       "      <td>NaN</td>\n",
       "      <td>NaN</td>\n",
       "      <td>NaN</td>\n",
       "      <td>NaN</td>\n",
       "      <td>NaN</td>\n",
       "      <td>NaN</td>\n",
       "      <td>NaN</td>\n",
       "    </tr>\n",
       "    <tr>\n",
       "      <th>370</th>\n",
       "      <td>Llama 3.1-405B</td>\n",
       "      <td>Language</td>\n",
       "      <td>Language modeling/generation</td>\n",
       "      <td>Open weights (restricted use)</td>\n",
       "      <td>The Llama 3 Herd of Models</td>\n",
       "      <td>2024-07-23</td>\n",
       "      <td>Meta AI</td>\n",
       "      <td>4.050000e+11</td>\n",
       "      <td>3.800000e+25</td>\n",
       "      <td>1.560000e+13</td>\n",
       "      <td>...</td>\n",
       "      <td>NVIDIA H100 SXM5 80GB</td>\n",
       "      <td>United States of America</td>\n",
       "      <td>NaN</td>\n",
       "      <td>NaN</td>\n",
       "      <td>16384.0</td>\n",
       "      <td>0.4042</td>\n",
       "      <td>NaN</td>\n",
       "      <td>NaN</td>\n",
       "      <td>1.705594e+08</td>\n",
       "      <td>1.698280e+08</td>\n",
       "    </tr>\n",
       "    <tr>\n",
       "      <th>...</th>\n",
       "      <td>...</td>\n",
       "      <td>...</td>\n",
       "      <td>...</td>\n",
       "      <td>...</td>\n",
       "      <td>...</td>\n",
       "      <td>...</td>\n",
       "      <td>...</td>\n",
       "      <td>...</td>\n",
       "      <td>...</td>\n",
       "      <td>...</td>\n",
       "      <td>...</td>\n",
       "      <td>...</td>\n",
       "      <td>...</td>\n",
       "      <td>...</td>\n",
       "      <td>...</td>\n",
       "      <td>...</td>\n",
       "      <td>...</td>\n",
       "      <td>...</td>\n",
       "      <td>...</td>\n",
       "      <td>...</td>\n",
       "      <td>...</td>\n",
       "    </tr>\n",
       "    <tr>\n",
       "      <th>2054</th>\n",
       "      <td>AlphaGo Lee</td>\n",
       "      <td>Games</td>\n",
       "      <td>Go</td>\n",
       "      <td>Unreleased</td>\n",
       "      <td>Mastering the game of Go with deep neural netw...</td>\n",
       "      <td>2016-01-27</td>\n",
       "      <td>DeepMind</td>\n",
       "      <td>NaN</td>\n",
       "      <td>1.900000e+21</td>\n",
       "      <td>2.940000e+07</td>\n",
       "      <td>...</td>\n",
       "      <td>NaN</td>\n",
       "      <td>United Kingdom of Great Britain and Northern I...</td>\n",
       "      <td>NaN</td>\n",
       "      <td>NaN</td>\n",
       "      <td>NaN</td>\n",
       "      <td>NaN</td>\n",
       "      <td>NaN</td>\n",
       "      <td>NaN</td>\n",
       "      <td>NaN</td>\n",
       "      <td>NaN</td>\n",
       "    </tr>\n",
       "    <tr>\n",
       "      <th>2058</th>\n",
       "      <td>ResNet-152 (ImageNet)</td>\n",
       "      <td>Vision</td>\n",
       "      <td>Image classification</td>\n",
       "      <td>NaN</td>\n",
       "      <td>Deep Residual Learning for Image Recognition</td>\n",
       "      <td>2015-12-10</td>\n",
       "      <td>Microsoft</td>\n",
       "      <td>6.020000e+07</td>\n",
       "      <td>1.041408e+19</td>\n",
       "      <td>1.280000e+06</td>\n",
       "      <td>...</td>\n",
       "      <td>NaN</td>\n",
       "      <td>United States of America</td>\n",
       "      <td>NaN</td>\n",
       "      <td>NaN</td>\n",
       "      <td>NaN</td>\n",
       "      <td>NaN</td>\n",
       "      <td>NaN</td>\n",
       "      <td>NaN</td>\n",
       "      <td>NaN</td>\n",
       "      <td>NaN</td>\n",
       "    </tr>\n",
       "    <tr>\n",
       "      <th>2060</th>\n",
       "      <td>ResNet-101 (ImageNet)</td>\n",
       "      <td>Vision</td>\n",
       "      <td>Image classification</td>\n",
       "      <td>Open weights (unrestricted)</td>\n",
       "      <td>Deep Residual Learning for Image Recognition</td>\n",
       "      <td>2015-12-10</td>\n",
       "      <td>Microsoft</td>\n",
       "      <td>4.450000e+07</td>\n",
       "      <td>7.004000e+18</td>\n",
       "      <td>1.280000e+06</td>\n",
       "      <td>...</td>\n",
       "      <td>NaN</td>\n",
       "      <td>United States of America</td>\n",
       "      <td>NaN</td>\n",
       "      <td>NaN</td>\n",
       "      <td>NaN</td>\n",
       "      <td>NaN</td>\n",
       "      <td>NaN</td>\n",
       "      <td>NaN</td>\n",
       "      <td>NaN</td>\n",
       "      <td>NaN</td>\n",
       "    </tr>\n",
       "    <tr>\n",
       "      <th>2061</th>\n",
       "      <td>DeepSpeech2 (English)</td>\n",
       "      <td>Speech</td>\n",
       "      <td>Speech recognition</td>\n",
       "      <td>NaN</td>\n",
       "      <td>Deep Speech 2: End-to-End Speech Recognition i...</td>\n",
       "      <td>2015-12-08</td>\n",
       "      <td>Baidu Research - Silicon Valley AI Lab</td>\n",
       "      <td>3.800000e+07</td>\n",
       "      <td>2.600000e+19</td>\n",
       "      <td>1.633392e+08</td>\n",
       "      <td>...</td>\n",
       "      <td>NVIDIA GeForce GTX TITAN X</td>\n",
       "      <td>United States of America</td>\n",
       "      <td>NaN</td>\n",
       "      <td>NaN</td>\n",
       "      <td>16.0</td>\n",
       "      <td>0.4484</td>\n",
       "      <td>NaN</td>\n",
       "      <td>NaN</td>\n",
       "      <td>NaN</td>\n",
       "      <td>NaN</td>\n",
       "    </tr>\n",
       "    <tr>\n",
       "      <th>2069</th>\n",
       "      <td>SAF R-CNN</td>\n",
       "      <td>Vision</td>\n",
       "      <td>Object detection</td>\n",
       "      <td>Unreleased</td>\n",
       "      <td>Scale-aware Fast R-CNN for Pedestrian Detection</td>\n",
       "      <td>2015-10-28</td>\n",
       "      <td>Beijing Institute of Technology,Sun Yat-sen Un...</td>\n",
       "      <td>1.380000e+08</td>\n",
       "      <td>1.231108e+19</td>\n",
       "      <td>6.250000e+04</td>\n",
       "      <td>...</td>\n",
       "      <td>NVIDIA GeForce GTX TITAN X</td>\n",
       "      <td>China,China,Singapore,Singapore</td>\n",
       "      <td>VGG16</td>\n",
       "      <td>20081250000000000</td>\n",
       "      <td>1.0</td>\n",
       "      <td>NaN</td>\n",
       "      <td>NaN</td>\n",
       "      <td>NaN</td>\n",
       "      <td>NaN</td>\n",
       "      <td>NaN</td>\n",
       "    </tr>\n",
       "  </tbody>\n",
       "</table>\n",
       "<p>89 rows × 22 columns</p>\n",
       "</div>"
      ],
      "text/plain": [
       "                      Model                      Domain  \\\n",
       "109              Doubao-pro                    Language   \n",
       "312              GLM-4-Plus                    Language   \n",
       "335                  Grok-2  Language,Vision,Multimodal   \n",
       "367         Mistral Large 2                    Language   \n",
       "370          Llama 3.1-405B                    Language   \n",
       "...                     ...                         ...   \n",
       "2054            AlphaGo Lee                       Games   \n",
       "2058  ResNet-152 (ImageNet)                      Vision   \n",
       "2060  ResNet-101 (ImageNet)                      Vision   \n",
       "2061  DeepSpeech2 (English)                      Speech   \n",
       "2069              SAF R-CNN                      Vision   \n",
       "\n",
       "                                                   Task  \\\n",
       "109   Language modeling/generation,Question answerin...   \n",
       "312                                   Language modeling   \n",
       "335   Chat,Language modeling/generation,Question ans...   \n",
       "367   Language modeling/generation,Translation,Code ...   \n",
       "370                        Language modeling/generation   \n",
       "...                                                 ...   \n",
       "2054                                                 Go   \n",
       "2058                               Image classification   \n",
       "2060                               Image classification   \n",
       "2061                                 Speech recognition   \n",
       "2069                                   Object detection   \n",
       "\n",
       "                Model accessibility  \\\n",
       "109                      API access   \n",
       "312                      API access   \n",
       "335          Hosted access (no API)   \n",
       "367   Open weights (non-commercial)   \n",
       "370   Open weights (restricted use)   \n",
       "...                             ...   \n",
       "2054                     Unreleased   \n",
       "2058                            NaN   \n",
       "2060    Open weights (unrestricted)   \n",
       "2061                            NaN   \n",
       "2069                     Unreleased   \n",
       "\n",
       "                                              Reference Publication date  \\\n",
       "109               Doubao General Model Pro (Doubao-pro)       2024-10-28   \n",
       "312                                          GLM-4-Plus       2024-08-29   \n",
       "335                                 Grok-2 Beta Release       2024-08-13   \n",
       "367   Top-tier reasoning for high-complexity tasks, ...       2024-07-24   \n",
       "370                          The Llama 3 Herd of Models       2024-07-23   \n",
       "...                                                 ...              ...   \n",
       "2054  Mastering the game of Go with deep neural netw...       2016-01-27   \n",
       "2058       Deep Residual Learning for Image Recognition       2015-12-10   \n",
       "2060       Deep Residual Learning for Image Recognition       2015-12-10   \n",
       "2061  Deep Speech 2: End-to-End Speech Recognition i...       2015-12-08   \n",
       "2069    Scale-aware Fast R-CNN for Pedestrian Detection       2015-10-28   \n",
       "\n",
       "                                           Organization    Parameters  \\\n",
       "109                                           ByteDance  5.000000e+11   \n",
       "312                                            Zhipu AI           NaN   \n",
       "335                                                 xAI           NaN   \n",
       "367                                          Mistral AI  1.230000e+11   \n",
       "370                                             Meta AI  4.050000e+11   \n",
       "...                                                 ...           ...   \n",
       "2054                                           DeepMind           NaN   \n",
       "2058                                          Microsoft  6.020000e+07   \n",
       "2060                                          Microsoft  4.450000e+07   \n",
       "2061             Baidu Research - Silicon Valley AI Lab  3.800000e+07   \n",
       "2069  Beijing Institute of Technology,Sun Yat-sen Un...  1.380000e+08   \n",
       "\n",
       "      Training compute (FLOP)  Training dataset size (datapoints)  ...  \\\n",
       "109              2.505000e+25                        8.350000e+12  ...   \n",
       "312              3.600000e+25                                 NaN  ...   \n",
       "335              2.960000e+25                                 NaN  ...   \n",
       "367              2.130000e+25                                 NaN  ...   \n",
       "370              3.800000e+25                        1.560000e+13  ...   \n",
       "...                       ...                                 ...  ...   \n",
       "2054             1.900000e+21                        2.940000e+07  ...   \n",
       "2058             1.041408e+19                        1.280000e+06  ...   \n",
       "2060             7.004000e+18                        1.280000e+06  ...   \n",
       "2061             2.600000e+19                        1.633392e+08  ...   \n",
       "2069             1.231108e+19                        6.250000e+04  ...   \n",
       "\n",
       "               Training hardware  \\\n",
       "109                          NaN   \n",
       "312                          NaN   \n",
       "335        NVIDIA H100 SXM5 80GB   \n",
       "367                          NaN   \n",
       "370        NVIDIA H100 SXM5 80GB   \n",
       "...                          ...   \n",
       "2054                         NaN   \n",
       "2058                         NaN   \n",
       "2060                         NaN   \n",
       "2061  NVIDIA GeForce GTX TITAN X   \n",
       "2069  NVIDIA GeForce GTX TITAN X   \n",
       "\n",
       "                            Country (from Organization) Base model  \\\n",
       "109                                               China        NaN   \n",
       "312                                               China        NaN   \n",
       "335                            United States of America        NaN   \n",
       "367                                              France        NaN   \n",
       "370                            United States of America        NaN   \n",
       "...                                                 ...        ...   \n",
       "2054  United Kingdom of Great Britain and Northern I...        NaN   \n",
       "2058                           United States of America        NaN   \n",
       "2060                           United States of America        NaN   \n",
       "2061                           United States of America        NaN   \n",
       "2069                    China,China,Singapore,Singapore      VGG16   \n",
       "\n",
       "     Finetune compute (FLOP) Hardware quantity Hardware utilization  \\\n",
       "109                      NaN               NaN                  NaN   \n",
       "312                      NaN               NaN                  NaN   \n",
       "335                      NaN               NaN                  NaN   \n",
       "367                      NaN               NaN                  NaN   \n",
       "370                      NaN           16384.0               0.4042   \n",
       "...                      ...               ...                  ...   \n",
       "2054                     NaN               NaN                  NaN   \n",
       "2058                     NaN               NaN                  NaN   \n",
       "2060                     NaN               NaN                  NaN   \n",
       "2061                     NaN              16.0               0.4484   \n",
       "2069       20081250000000000               1.0                  NaN   \n",
       "\n",
       "      Training cloud compute vendor  \\\n",
       "109                             NaN   \n",
       "312                             NaN   \n",
       "335                             NaN   \n",
       "367                             NaN   \n",
       "370                             NaN   \n",
       "...                             ...   \n",
       "2054                            NaN   \n",
       "2058                            NaN   \n",
       "2060                            NaN   \n",
       "2061                            NaN   \n",
       "2069                            NaN   \n",
       "\n",
       "                                   Training data center          Cost  \\\n",
       "109   There is no paper to reference, also no inform...           NaN   \n",
       "312              Check references for hardware details.           NaN   \n",
       "335                                                 NaN  1.076908e+08   \n",
       "367                                                 NaN           NaN   \n",
       "370                                                 NaN  1.705594e+08   \n",
       "...                                                 ...           ...   \n",
       "2054                                                NaN           NaN   \n",
       "2058                                                NaN           NaN   \n",
       "2060                                                NaN           NaN   \n",
       "2061                                                NaN           NaN   \n",
       "2069                                                NaN           NaN   \n",
       "\n",
       "     Cost (inflation-adjusted)  \n",
       "109                        NaN  \n",
       "312                        NaN  \n",
       "335               1.073194e+08  \n",
       "367                        NaN  \n",
       "370               1.698280e+08  \n",
       "...                        ...  \n",
       "2054                       NaN  \n",
       "2058                       NaN  \n",
       "2060                       NaN  \n",
       "2061                       NaN  \n",
       "2069                       NaN  \n",
       "\n",
       "[89 rows x 22 columns]"
      ]
     },
     "execution_count": 25,
     "metadata": {},
     "output_type": "execute_result"
    }
   ],
   "source": [
    "keep_cols = [\n",
    "    'Model',\n",
    "    'Domain',\n",
    "    'Task',\n",
    "    'Model accessibility',\n",
    "    'Reference',\n",
    "    'Publication date',\n",
    "    'Organization',\n",
    "    'Parameters',\n",
    "    'Training compute (FLOP)',\n",
    "    'Training dataset size (datapoints)',\n",
    "    'Epochs',\n",
    "    'Training time (hours)',\n",
    "    'Training hardware',\n",
    "    'Country (from Organization)',\n",
    "    'Base model',\n",
    "    'Finetune compute (FLOP)',\n",
    "    'Hardware quantity',\n",
    "    'Hardware utilization',\n",
    "    'Training cloud compute vendor',\n",
    "    'Training data center',\n",
    "    # 'Training time (chip hours)',\n",
    "    'Cost',\n",
    "    'Cost (inflation-adjusted)',\n",
    "]\n",
    "cost_df[keep_cols]"
   ]
  },
  {
   "cell_type": "code",
   "execution_count": 26,
   "metadata": {},
   "outputs": [],
   "source": [
    "cost_df[keep_cols].to_csv(results_dir + 'cost_dataset.csv', index=False)"
   ]
  },
  {
   "cell_type": "markdown",
   "metadata": {},
   "source": [
    "# Plots"
   ]
  },
  {
   "cell_type": "code",
   "execution_count": 27,
   "metadata": {
    "ExecuteTime": {
     "end_time": "2024-03-08T01:55:04.230921600Z",
     "start_time": "2024-03-08T01:55:00.065485900Z"
    }
   },
   "outputs": [
    {
     "data": {
      "application/vnd.plotly.v1+json": {
       "config": {
        "plotlyServerURL": "https://plot.ly"
       },
       "data": [
        {
         "hovertemplate": "Publication date=%{x}<br>Cost (inflation-adjusted)=%{y}<br>Model=%{text}<extra></extra>",
         "legendgroup": "",
         "marker": {
          "color": "#636efa",
          "symbol": "circle"
         },
         "mode": "markers+text",
         "name": "",
         "orientation": "v",
         "showlegend": false,
         "text": [
          "Doubao-pro",
          "GLM-4-Plus",
          "Grok-2",
          "Mistral Large 2",
          "Llama 3.1-405B",
          "Claude 3.5 Sonnet",
          "Nemotron-4 340B",
          "GPT-4o",
          "Inflection-2.5",
          "Claude 3 Opus",
          "Aramco Metabrain AI",
          "Mistral Large",
          "MegaScale (Production)",
          "Gemini 1.5 Pro",
          "GLM-4 (0116)",
          "Gemini 1.0 Ultra",
          "Inflection-2",
          "GPT-4 Turbo",
          "Grok-1",
          "Amazon Titan",
          "Falcon-180B",
          "Claude 2",
          "PaLM 2",
          "SenseChat",
          "GPT-4",
          "GPT-3.5",
          "U-PaLM (540B)",
          "Flan-PaLM 540B",
          "BlenderBot 3",
          "Minerva (540B)",
          "Parti",
          "OPT-175B",
          "PaLM (540B)",
          "Chinchilla",
          "LaMDA",
          "InstructGPT 175B",
          "ERNIE 3.0 Titan",
          "EXAONE 1.0",
          "GLaM",
          "Gopher (280B)",
          "Yuan 1.0",
          "Megatron-Turing NLG 530B",
          "HyperCLOVA 82B",
          "FLAN 137B",
          "Jurassic-1-Jumbo",
          "Codex",
          "ByT5-XXL",
          "ProtT5-XXL",
          "Meta Pseudo Labels",
          "Switch",
          "DALL-E",
          "mT5-XXL",
          "GShard (dense)",
          "iGPT-XL",
          "GPT-3 175B (davinci)",
          "Meena",
          "OpenAI Five",
          "OpenAI Five Rerun",
          "Noisy Student (L2)",
          "XLM-RoBERTa",
          "AlphaStar",
          "T5-3B",
          "T5-11B",
          "Megatron-BERT",
          "Megatron-LM (8.3B)",
          "RoBERTa Large",
          "XLNet",
          "MnasNet-A1 + SSDLite",
          "GPT-2 (1.5B)",
          "BigGAN-deep 512x512",
          "ResNeXt-101 32x48d",
          "AlphaZero",
          "AlphaGo Master",
          "AlphaGo Zero",
          "Libratus",
          "OpenAI TI7 DOTA 1v1",
          "ConvS2S (ensemble of 8 models)",
          "JFT",
          "MoE-Multi",
          "PolyNet",
          "NASv3 (CIFAR-10)",
          "Xception",
          "GNMT",
          "ResNet-200",
          "AlphaGo Lee",
          "ResNet-152 (ImageNet)",
          "ResNet-101 (ImageNet)",
          "DeepSpeech2 (English)",
          "SAF R-CNN"
         ],
         "textposition": "top center",
         "type": "scatter",
         "x": [
          "2024-10-28T00:00:00",
          "2024-08-29T00:00:00",
          "2024-08-13T00:00:00",
          "2024-07-24T00:00:00",
          "2024-07-23T00:00:00",
          "2024-06-20T00:00:00",
          "2024-06-14T00:00:00",
          "2024-05-13T00:00:00",
          "2024-03-07T00:00:00",
          "2024-03-04T00:00:00",
          "2024-03-04T00:00:00",
          "2024-02-26T00:00:00",
          "2024-02-23T00:00:00",
          "2024-02-15T00:00:00",
          "2024-01-17T00:00:00",
          "2023-12-06T00:00:00",
          "2023-11-22T00:00:00",
          "2023-11-06T00:00:00",
          "2023-11-04T00:00:00",
          "2023-09-28T00:00:00",
          "2023-09-06T00:00:00",
          "2023-07-11T00:00:00",
          "2023-05-10T00:00:00",
          "2023-04-10T00:00:00",
          "2023-03-15T00:00:00",
          "2022-11-28T00:00:00",
          "2022-10-20T00:00:00",
          "2022-10-20T00:00:00",
          "2022-08-10T00:00:00",
          "2022-06-29T00:00:00",
          "2022-06-22T00:00:00",
          "2022-05-02T00:00:00",
          "2022-04-04T00:00:00",
          "2022-03-29T00:00:00",
          "2022-02-10T00:00:00",
          "2022-01-27T00:00:00",
          "2021-12-23T00:00:00",
          "2021-12-14T00:00:00",
          "2021-12-13T00:00:00",
          "2021-12-08T00:00:00",
          "2021-10-12T00:00:00",
          "2021-10-11T00:00:00",
          "2021-09-10T00:00:00",
          "2021-09-03T00:00:00",
          "2021-08-11T00:00:00",
          "2021-07-07T00:00:00",
          "2021-05-28T00:00:00",
          "2021-05-04T00:00:00",
          "2021-03-01T00:00:00",
          "2021-01-11T00:00:00",
          "2021-01-05T00:00:00",
          "2020-10-20T00:00:00",
          "2020-06-30T00:00:00",
          "2020-06-17T00:00:00",
          "2020-05-28T00:00:00",
          "2020-01-28T00:00:00",
          "2019-12-13T00:00:00",
          "2019-12-13T00:00:00",
          "2019-11-11T00:00:00",
          "2019-11-05T00:00:00",
          "2019-10-30T00:00:00",
          "2019-10-23T00:00:00",
          "2019-10-23T00:00:00",
          "2019-09-17T00:00:00",
          "2019-09-17T00:00:00",
          "2019-07-01T00:00:00",
          "2019-06-01T00:00:00",
          "2019-05-29T00:00:00",
          "2019-02-14T00:00:00",
          "2018-09-28T00:00:00",
          "2018-05-02T00:00:00",
          "2017-12-05T00:00:00",
          "2017-10-19T00:00:00",
          "2017-10-18T00:00:00",
          "2017-08-19T00:00:00",
          "2017-08-11T00:00:00",
          "2017-07-25T00:00:00",
          "2017-07-10T00:00:00",
          "2017-01-23T00:00:00",
          "2016-11-17T00:00:00",
          "2016-11-05T00:00:00",
          "2016-10-07T00:00:00",
          "2016-09-26T00:00:00",
          "2016-09-17T00:00:00",
          "2016-01-27T00:00:00",
          "2015-12-10T00:00:00",
          "2015-12-10T00:00:00",
          "2015-12-08T00:00:00",
          "2015-10-28T00:00:00"
         ],
         "xaxis": "x",
         "y": [
          null,
          null,
          107319380.67600283,
          null,
          169828008.27813357,
          null,
          65529675.51362376,
          null,
          36416467.03034485,
          null,
          null,
          40689894.009676255,
          8967297.435299827,
          61622701.76076987,
          null,
          191914563.67775923,
          36601478.72385186,
          null,
          null,
          23189104.015283566,
          25885511.45892119,
          null,
          29040543.37532414,
          null,
          78562016.88093337,
          8514142.895106867,
          null,
          null,
          null,
          null,
          1581237.6314503308,
          1489702.370287431,
          12422258.89096173,
          null,
          1323121.987770984,
          null,
          null,
          null,
          2098625.2999081025,
          3509187.152671094,
          null,
          6422819.690590306,
          989617.0034282019,
          null,
          1318117.3926225128,
          null,
          455231.29410268913,
          414204.2762391135,
          252065.08800000002,
          621402.2744829991,
          356463.0793374019,
          null,
          971708.8054969327,
          237280.0841367222,
          4336473.295238095,
          698978.5317563991,
          10697511.391817143,
          1015114.9513568869,
          141798.15156311548,
          159050.32078782454,
          381279.4742030438,
          50962.6394747676,
          231993.34287341087,
          251884.39618064518,
          216649.49140645165,
          160446.49362748646,
          35463.708809551856,
          26350.179798185116,
          11010.024692455741,
          11679.395932669682,
          221603.0719304348,
          null,
          null,
          null,
          null,
          null,
          null,
          33530.35426497278,
          null,
          null,
          null,
          20339.69746788991,
          308734.94955137616,
          null,
          null,
          null,
          null,
          null,
          null
         ],
         "yaxis": "y"
        }
       ],
       "layout": {
        "autosize": false,
        "font": {
         "size": 14
        },
        "height": 600,
        "legend": {
         "tracegroupgap": 0
        },
        "margin": {
         "b": 10,
         "l": 10,
         "r": 10,
         "t": 40
        },
        "showlegend": false,
        "template": {
         "data": {
          "bar": [
           {
            "error_x": {
             "color": "#2a3f5f"
            },
            "error_y": {
             "color": "#2a3f5f"
            },
            "marker": {
             "line": {
              "color": "#E5ECF6",
              "width": 0.5
             },
             "pattern": {
              "fillmode": "overlay",
              "size": 10,
              "solidity": 0.2
             }
            },
            "type": "bar"
           }
          ],
          "barpolar": [
           {
            "marker": {
             "line": {
              "color": "#E5ECF6",
              "width": 0.5
             },
             "pattern": {
              "fillmode": "overlay",
              "size": 10,
              "solidity": 0.2
             }
            },
            "type": "barpolar"
           }
          ],
          "carpet": [
           {
            "aaxis": {
             "endlinecolor": "#2a3f5f",
             "gridcolor": "white",
             "linecolor": "white",
             "minorgridcolor": "white",
             "startlinecolor": "#2a3f5f"
            },
            "baxis": {
             "endlinecolor": "#2a3f5f",
             "gridcolor": "white",
             "linecolor": "white",
             "minorgridcolor": "white",
             "startlinecolor": "#2a3f5f"
            },
            "type": "carpet"
           }
          ],
          "choropleth": [
           {
            "colorbar": {
             "outlinewidth": 0,
             "ticks": ""
            },
            "type": "choropleth"
           }
          ],
          "contour": [
           {
            "colorbar": {
             "outlinewidth": 0,
             "ticks": ""
            },
            "colorscale": [
             [
              0,
              "#0d0887"
             ],
             [
              0.1111111111111111,
              "#46039f"
             ],
             [
              0.2222222222222222,
              "#7201a8"
             ],
             [
              0.3333333333333333,
              "#9c179e"
             ],
             [
              0.4444444444444444,
              "#bd3786"
             ],
             [
              0.5555555555555556,
              "#d8576b"
             ],
             [
              0.6666666666666666,
              "#ed7953"
             ],
             [
              0.7777777777777778,
              "#fb9f3a"
             ],
             [
              0.8888888888888888,
              "#fdca26"
             ],
             [
              1,
              "#f0f921"
             ]
            ],
            "type": "contour"
           }
          ],
          "contourcarpet": [
           {
            "colorbar": {
             "outlinewidth": 0,
             "ticks": ""
            },
            "type": "contourcarpet"
           }
          ],
          "heatmap": [
           {
            "colorbar": {
             "outlinewidth": 0,
             "ticks": ""
            },
            "colorscale": [
             [
              0,
              "#0d0887"
             ],
             [
              0.1111111111111111,
              "#46039f"
             ],
             [
              0.2222222222222222,
              "#7201a8"
             ],
             [
              0.3333333333333333,
              "#9c179e"
             ],
             [
              0.4444444444444444,
              "#bd3786"
             ],
             [
              0.5555555555555556,
              "#d8576b"
             ],
             [
              0.6666666666666666,
              "#ed7953"
             ],
             [
              0.7777777777777778,
              "#fb9f3a"
             ],
             [
              0.8888888888888888,
              "#fdca26"
             ],
             [
              1,
              "#f0f921"
             ]
            ],
            "type": "heatmap"
           }
          ],
          "heatmapgl": [
           {
            "colorbar": {
             "outlinewidth": 0,
             "ticks": ""
            },
            "colorscale": [
             [
              0,
              "#0d0887"
             ],
             [
              0.1111111111111111,
              "#46039f"
             ],
             [
              0.2222222222222222,
              "#7201a8"
             ],
             [
              0.3333333333333333,
              "#9c179e"
             ],
             [
              0.4444444444444444,
              "#bd3786"
             ],
             [
              0.5555555555555556,
              "#d8576b"
             ],
             [
              0.6666666666666666,
              "#ed7953"
             ],
             [
              0.7777777777777778,
              "#fb9f3a"
             ],
             [
              0.8888888888888888,
              "#fdca26"
             ],
             [
              1,
              "#f0f921"
             ]
            ],
            "type": "heatmapgl"
           }
          ],
          "histogram": [
           {
            "marker": {
             "pattern": {
              "fillmode": "overlay",
              "size": 10,
              "solidity": 0.2
             }
            },
            "type": "histogram"
           }
          ],
          "histogram2d": [
           {
            "colorbar": {
             "outlinewidth": 0,
             "ticks": ""
            },
            "colorscale": [
             [
              0,
              "#0d0887"
             ],
             [
              0.1111111111111111,
              "#46039f"
             ],
             [
              0.2222222222222222,
              "#7201a8"
             ],
             [
              0.3333333333333333,
              "#9c179e"
             ],
             [
              0.4444444444444444,
              "#bd3786"
             ],
             [
              0.5555555555555556,
              "#d8576b"
             ],
             [
              0.6666666666666666,
              "#ed7953"
             ],
             [
              0.7777777777777778,
              "#fb9f3a"
             ],
             [
              0.8888888888888888,
              "#fdca26"
             ],
             [
              1,
              "#f0f921"
             ]
            ],
            "type": "histogram2d"
           }
          ],
          "histogram2dcontour": [
           {
            "colorbar": {
             "outlinewidth": 0,
             "ticks": ""
            },
            "colorscale": [
             [
              0,
              "#0d0887"
             ],
             [
              0.1111111111111111,
              "#46039f"
             ],
             [
              0.2222222222222222,
              "#7201a8"
             ],
             [
              0.3333333333333333,
              "#9c179e"
             ],
             [
              0.4444444444444444,
              "#bd3786"
             ],
             [
              0.5555555555555556,
              "#d8576b"
             ],
             [
              0.6666666666666666,
              "#ed7953"
             ],
             [
              0.7777777777777778,
              "#fb9f3a"
             ],
             [
              0.8888888888888888,
              "#fdca26"
             ],
             [
              1,
              "#f0f921"
             ]
            ],
            "type": "histogram2dcontour"
           }
          ],
          "mesh3d": [
           {
            "colorbar": {
             "outlinewidth": 0,
             "ticks": ""
            },
            "type": "mesh3d"
           }
          ],
          "parcoords": [
           {
            "line": {
             "colorbar": {
              "outlinewidth": 0,
              "ticks": ""
             }
            },
            "type": "parcoords"
           }
          ],
          "pie": [
           {
            "automargin": true,
            "type": "pie"
           }
          ],
          "scatter": [
           {
            "fillpattern": {
             "fillmode": "overlay",
             "size": 10,
             "solidity": 0.2
            },
            "type": "scatter"
           }
          ],
          "scatter3d": [
           {
            "line": {
             "colorbar": {
              "outlinewidth": 0,
              "ticks": ""
             }
            },
            "marker": {
             "colorbar": {
              "outlinewidth": 0,
              "ticks": ""
             }
            },
            "type": "scatter3d"
           }
          ],
          "scattercarpet": [
           {
            "marker": {
             "colorbar": {
              "outlinewidth": 0,
              "ticks": ""
             }
            },
            "type": "scattercarpet"
           }
          ],
          "scattergeo": [
           {
            "marker": {
             "colorbar": {
              "outlinewidth": 0,
              "ticks": ""
             }
            },
            "type": "scattergeo"
           }
          ],
          "scattergl": [
           {
            "marker": {
             "colorbar": {
              "outlinewidth": 0,
              "ticks": ""
             }
            },
            "type": "scattergl"
           }
          ],
          "scattermapbox": [
           {
            "marker": {
             "colorbar": {
              "outlinewidth": 0,
              "ticks": ""
             }
            },
            "type": "scattermapbox"
           }
          ],
          "scatterpolar": [
           {
            "marker": {
             "colorbar": {
              "outlinewidth": 0,
              "ticks": ""
             }
            },
            "type": "scatterpolar"
           }
          ],
          "scatterpolargl": [
           {
            "marker": {
             "colorbar": {
              "outlinewidth": 0,
              "ticks": ""
             }
            },
            "type": "scatterpolargl"
           }
          ],
          "scatterternary": [
           {
            "marker": {
             "colorbar": {
              "outlinewidth": 0,
              "ticks": ""
             }
            },
            "type": "scatterternary"
           }
          ],
          "surface": [
           {
            "colorbar": {
             "outlinewidth": 0,
             "ticks": ""
            },
            "colorscale": [
             [
              0,
              "#0d0887"
             ],
             [
              0.1111111111111111,
              "#46039f"
             ],
             [
              0.2222222222222222,
              "#7201a8"
             ],
             [
              0.3333333333333333,
              "#9c179e"
             ],
             [
              0.4444444444444444,
              "#bd3786"
             ],
             [
              0.5555555555555556,
              "#d8576b"
             ],
             [
              0.6666666666666666,
              "#ed7953"
             ],
             [
              0.7777777777777778,
              "#fb9f3a"
             ],
             [
              0.8888888888888888,
              "#fdca26"
             ],
             [
              1,
              "#f0f921"
             ]
            ],
            "type": "surface"
           }
          ],
          "table": [
           {
            "cells": {
             "fill": {
              "color": "#EBF0F8"
             },
             "line": {
              "color": "white"
             }
            },
            "header": {
             "fill": {
              "color": "#C8D4E3"
             },
             "line": {
              "color": "white"
             }
            },
            "type": "table"
           }
          ]
         },
         "layout": {
          "annotationdefaults": {
           "arrowcolor": "#2a3f5f",
           "arrowhead": 0,
           "arrowwidth": 1
          },
          "autotypenumbers": "strict",
          "coloraxis": {
           "colorbar": {
            "outlinewidth": 0,
            "ticks": ""
           }
          },
          "colorscale": {
           "diverging": [
            [
             0,
             "#8e0152"
            ],
            [
             0.1,
             "#c51b7d"
            ],
            [
             0.2,
             "#de77ae"
            ],
            [
             0.3,
             "#f1b6da"
            ],
            [
             0.4,
             "#fde0ef"
            ],
            [
             0.5,
             "#f7f7f7"
            ],
            [
             0.6,
             "#e6f5d0"
            ],
            [
             0.7,
             "#b8e186"
            ],
            [
             0.8,
             "#7fbc41"
            ],
            [
             0.9,
             "#4d9221"
            ],
            [
             1,
             "#276419"
            ]
           ],
           "sequential": [
            [
             0,
             "#0d0887"
            ],
            [
             0.1111111111111111,
             "#46039f"
            ],
            [
             0.2222222222222222,
             "#7201a8"
            ],
            [
             0.3333333333333333,
             "#9c179e"
            ],
            [
             0.4444444444444444,
             "#bd3786"
            ],
            [
             0.5555555555555556,
             "#d8576b"
            ],
            [
             0.6666666666666666,
             "#ed7953"
            ],
            [
             0.7777777777777778,
             "#fb9f3a"
            ],
            [
             0.8888888888888888,
             "#fdca26"
            ],
            [
             1,
             "#f0f921"
            ]
           ],
           "sequentialminus": [
            [
             0,
             "#0d0887"
            ],
            [
             0.1111111111111111,
             "#46039f"
            ],
            [
             0.2222222222222222,
             "#7201a8"
            ],
            [
             0.3333333333333333,
             "#9c179e"
            ],
            [
             0.4444444444444444,
             "#bd3786"
            ],
            [
             0.5555555555555556,
             "#d8576b"
            ],
            [
             0.6666666666666666,
             "#ed7953"
            ],
            [
             0.7777777777777778,
             "#fb9f3a"
            ],
            [
             0.8888888888888888,
             "#fdca26"
            ],
            [
             1,
             "#f0f921"
            ]
           ]
          },
          "colorway": [
           "#636efa",
           "#EF553B",
           "#00cc96",
           "#ab63fa",
           "#FFA15A",
           "#19d3f3",
           "#FF6692",
           "#B6E880",
           "#FF97FF",
           "#FECB52"
          ],
          "font": {
           "color": "#2a3f5f"
          },
          "geo": {
           "bgcolor": "white",
           "lakecolor": "white",
           "landcolor": "#E5ECF6",
           "showlakes": true,
           "showland": true,
           "subunitcolor": "white"
          },
          "hoverlabel": {
           "align": "left"
          },
          "hovermode": "closest",
          "mapbox": {
           "style": "light"
          },
          "paper_bgcolor": "white",
          "plot_bgcolor": "#E5ECF6",
          "polar": {
           "angularaxis": {
            "gridcolor": "white",
            "linecolor": "white",
            "ticks": ""
           },
           "bgcolor": "#E5ECF6",
           "radialaxis": {
            "gridcolor": "white",
            "linecolor": "white",
            "ticks": ""
           }
          },
          "scene": {
           "xaxis": {
            "backgroundcolor": "#E5ECF6",
            "gridcolor": "white",
            "gridwidth": 2,
            "linecolor": "white",
            "showbackground": true,
            "ticks": "",
            "zerolinecolor": "white"
           },
           "yaxis": {
            "backgroundcolor": "#E5ECF6",
            "gridcolor": "white",
            "gridwidth": 2,
            "linecolor": "white",
            "showbackground": true,
            "ticks": "",
            "zerolinecolor": "white"
           },
           "zaxis": {
            "backgroundcolor": "#E5ECF6",
            "gridcolor": "white",
            "gridwidth": 2,
            "linecolor": "white",
            "showbackground": true,
            "ticks": "",
            "zerolinecolor": "white"
           }
          },
          "shapedefaults": {
           "line": {
            "color": "#2a3f5f"
           }
          },
          "ternary": {
           "aaxis": {
            "gridcolor": "white",
            "linecolor": "white",
            "ticks": ""
           },
           "baxis": {
            "gridcolor": "white",
            "linecolor": "white",
            "ticks": ""
           },
           "bgcolor": "#E5ECF6",
           "caxis": {
            "gridcolor": "white",
            "linecolor": "white",
            "ticks": ""
           }
          },
          "title": {
           "x": 0.05
          },
          "xaxis": {
           "automargin": true,
           "gridcolor": "white",
           "linecolor": "white",
           "ticks": "",
           "title": {
            "standoff": 15
           },
           "zerolinecolor": "white",
           "zerolinewidth": 2
          },
          "yaxis": {
           "automargin": true,
           "gridcolor": "white",
           "linecolor": "white",
           "ticks": "",
           "title": {
            "standoff": 15
           },
           "zerolinecolor": "white",
           "zerolinewidth": 2
          }
         }
        },
        "title": {
         "font": {
          "size": 16
         },
         "text": "Cloud compute cost of final training run<br> for the top-10 most compute-intensive ML models over time"
        },
        "width": 800,
        "xaxis": {
         "anchor": "y",
         "domain": [
          0,
          1
         ],
         "title": {
          "text": "Publication date"
         }
        },
        "yaxis": {
         "anchor": "x",
         "domain": [
          0,
          1
         ],
         "title": {
          "text": "Cost (2024 USD, log scale)"
         },
         "type": "log"
        }
       }
      }
     },
     "metadata": {},
     "output_type": "display_data"
    }
   ],
   "source": [
    "fig = px.scatter(\n",
    "    cost_df,\n",
    "    x='Publication date',\n",
    "    y='Cost (inflation-adjusted)',\n",
    "    text='Model',\n",
    "    log_y=True,\n",
    ")\n",
    "fig.update_traces(textposition='top center')\n",
    "\n",
    "# no legend\n",
    "fig.update_layout(showlegend=False)\n",
    "\n",
    "# axis labels\n",
    "fig.update_xaxes(title_text='Publication date')\n",
    "fig.update_yaxes(title_text='Cost (2024 USD, log scale)')\n",
    "\n",
    "# title\n",
    "fig.update_layout(title_text=get_cost_plot_title(estimation_method, compute_threshold_method, compute_threshold))\n",
    "\n",
    "# update size\n",
    "fig.update_layout(\n",
    "    autosize=False,\n",
    "    width=800,\n",
    "    height=600,\n",
    "    title_font=dict(\n",
    "        size=16,\n",
    "    )\n",
    ")\n",
    "\n",
    "# font size\n",
    "fig.update_layout(\n",
    "    font=dict(\n",
    "        size=14,\n",
    "    )\n",
    ")\n",
    "\n",
    "# margins\n",
    "fig.update_layout(margin=dict(l=10, r=10, t=40, b=10))\n",
    "\n",
    "save_plot(fig, results_dir, 'cost_scatter')\n",
    "\n",
    "fig.show()"
   ]
  },
  {
   "cell_type": "code",
   "execution_count": 28,
   "metadata": {
    "ExecuteTime": {
     "end_time": "2024-03-08T01:55:04.855981900Z",
     "start_time": "2024-03-08T01:55:04.230921600Z"
    }
   },
   "outputs": [
    {
     "data": {
      "application/vnd.plotly.v1+json": {
       "config": {
        "plotlyServerURL": "https://plot.ly"
       },
       "data": [
        {
         "marker": {
          "color": "rgb(0,100,200)"
         },
         "mode": "markers",
         "showlegend": false,
         "text": [
          "Doubao-pro",
          "GLM-4-Plus",
          "Grok-2",
          "Mistral Large 2",
          "Llama 3.1-405B",
          "Claude 3.5 Sonnet",
          "Nemotron-4 340B",
          "GPT-4o",
          "Inflection-2.5",
          "Claude 3 Opus",
          "Aramco Metabrain AI",
          "Mistral Large",
          "MegaScale (Production)",
          "GLM-4 (0116)",
          "Inflection-2",
          "GPT-4 Turbo",
          "Grok-1",
          "Amazon Titan",
          "Falcon-180B",
          "Claude 2",
          "SenseChat",
          "GPT-4",
          "GPT-3.5",
          "BlenderBot 3",
          "OPT-175B",
          "InstructGPT 175B",
          "ERNIE 3.0 Titan",
          "EXAONE 1.0",
          "Yuan 1.0",
          "Megatron-Turing NLG 530B",
          "HyperCLOVA 82B",
          "Jurassic-1-Jumbo",
          "Codex",
          "DALL-E",
          "mT5-XXL",
          "iGPT-XL",
          "GPT-3 175B (davinci)",
          "OpenAI Five",
          "OpenAI Five Rerun",
          "XLM-RoBERTa",
          "Megatron-BERT",
          "Megatron-LM (8.3B)",
          "RoBERTa Large",
          "ResNeXt-101 32x48d",
          "Libratus",
          "OpenAI TI7 DOTA 1v1",
          "ConvS2S (ensemble of 8 models)",
          "JFT",
          "MoE-Multi",
          "PolyNet",
          "NASv3 (CIFAR-10)",
          "Xception",
          "GNMT",
          "ResNet-200",
          "AlphaGo Lee",
          "ResNet-152 (ImageNet)",
          "ResNet-101 (ImageNet)",
          "DeepSpeech2 (English)",
          "SAF R-CNN"
         ],
         "textposition": "top center",
         "type": "scatter",
         "x": [
          "2024-10-28T00:00:00",
          "2024-08-29T00:00:00",
          "2024-08-13T00:00:00",
          "2024-07-24T00:00:00",
          "2024-07-23T00:00:00",
          "2024-06-20T00:00:00",
          "2024-06-14T00:00:00",
          "2024-05-13T00:00:00",
          "2024-03-07T00:00:00",
          "2024-03-04T00:00:00",
          "2024-03-04T00:00:00",
          "2024-02-26T00:00:00",
          "2024-02-23T00:00:00",
          "2024-01-17T00:00:00",
          "2023-11-22T00:00:00",
          "2023-11-06T00:00:00",
          "2023-11-04T00:00:00",
          "2023-09-28T00:00:00",
          "2023-09-06T00:00:00",
          "2023-07-11T00:00:00",
          "2023-04-10T00:00:00",
          "2023-03-15T00:00:00",
          "2022-11-28T00:00:00",
          "2022-08-10T00:00:00",
          "2022-05-02T00:00:00",
          "2022-01-27T00:00:00",
          "2021-12-23T00:00:00",
          "2021-12-14T00:00:00",
          "2021-10-12T00:00:00",
          "2021-10-11T00:00:00",
          "2021-09-10T00:00:00",
          "2021-08-11T00:00:00",
          "2021-07-07T00:00:00",
          "2021-01-05T00:00:00",
          "2020-10-20T00:00:00",
          "2020-06-17T00:00:00",
          "2020-05-28T00:00:00",
          "2019-12-13T00:00:00",
          "2019-12-13T00:00:00",
          "2019-11-05T00:00:00",
          "2019-09-17T00:00:00",
          "2019-09-17T00:00:00",
          "2019-07-01T00:00:00",
          "2018-05-02T00:00:00",
          "2017-08-19T00:00:00",
          "2017-08-11T00:00:00",
          "2017-07-25T00:00:00",
          "2017-07-10T00:00:00",
          "2017-01-23T00:00:00",
          "2016-11-17T00:00:00",
          "2016-11-05T00:00:00",
          "2016-10-07T00:00:00",
          "2016-09-26T00:00:00",
          "2016-09-17T00:00:00",
          "2016-01-27T00:00:00",
          "2015-12-10T00:00:00",
          "2015-12-10T00:00:00",
          "2015-12-08T00:00:00",
          "2015-10-28T00:00:00"
         ],
         "y": [
          null,
          null,
          107319380.67600283,
          null,
          169828008.27813357,
          null,
          65529675.51362376,
          null,
          36416467.03034485,
          null,
          null,
          40689894.009676255,
          8967297.435299827,
          null,
          36601478.72385186,
          null,
          null,
          23189104.015283566,
          25885511.45892119,
          null,
          null,
          78562016.88093337,
          8514142.895106867,
          null,
          1489702.370287431,
          null,
          null,
          null,
          null,
          6422819.690590306,
          989617.0034282019,
          1318117.3926225128,
          null,
          356463.0793374019,
          null,
          237280.0841367222,
          4336473.295238095,
          10697511.391817143,
          1015114.9513568869,
          159050.32078782454,
          251884.39618064518,
          216649.49140645165,
          160446.49362748646,
          221603.0719304348,
          null,
          null,
          null,
          33530.35426497278,
          null,
          null,
          null,
          20339.69746788991,
          308734.94955137616,
          null,
          null,
          null,
          null,
          null,
          null
         ]
        },
        {
         "marker": {
          "color": "rgb(0,100,200)",
          "symbol": "circle"
         },
         "mode": "markers",
         "name": "",
         "showlegend": false,
         "text": [
          "Gemini 1.5 Pro",
          "Gemini 1.0 Ultra",
          "PaLM 2",
          "U-PaLM (540B)",
          "Flan-PaLM 540B",
          "Minerva (540B)",
          "Parti",
          "PaLM (540B)",
          "Chinchilla",
          "LaMDA",
          "GLaM",
          "Gopher (280B)",
          "FLAN 137B",
          "ByT5-XXL",
          "ProtT5-XXL",
          "Meta Pseudo Labels",
          "Switch",
          "GShard (dense)",
          "Meena",
          "Noisy Student (L2)",
          "AlphaStar",
          "T5-3B",
          "T5-11B",
          "XLNet",
          "MnasNet-A1 + SSDLite",
          "GPT-2 (1.5B)",
          "BigGAN-deep 512x512",
          "AlphaZero",
          "AlphaGo Master",
          "AlphaGo Zero"
         ],
         "textposition": "top center",
         "type": "scatter",
         "x": [
          "2024-02-15T00:00:00",
          "2023-12-06T00:00:00",
          "2023-05-10T00:00:00",
          "2022-10-20T00:00:00",
          "2022-10-20T00:00:00",
          "2022-06-29T00:00:00",
          "2022-06-22T00:00:00",
          "2022-04-04T00:00:00",
          "2022-03-29T00:00:00",
          "2022-02-10T00:00:00",
          "2021-12-13T00:00:00",
          "2021-12-08T00:00:00",
          "2021-09-03T00:00:00",
          "2021-05-28T00:00:00",
          "2021-05-04T00:00:00",
          "2021-03-01T00:00:00",
          "2021-01-11T00:00:00",
          "2020-06-30T00:00:00",
          "2020-01-28T00:00:00",
          "2019-11-11T00:00:00",
          "2019-10-30T00:00:00",
          "2019-10-23T00:00:00",
          "2019-10-23T00:00:00",
          "2019-06-01T00:00:00",
          "2019-05-29T00:00:00",
          "2019-02-14T00:00:00",
          "2018-09-28T00:00:00",
          "2017-12-05T00:00:00",
          "2017-10-19T00:00:00",
          "2017-10-18T00:00:00"
         ],
         "y": [
          61622701.76076987,
          191914563.67775923,
          29040543.37532414,
          null,
          null,
          null,
          1581237.6314503308,
          12422258.89096173,
          null,
          1323121.987770984,
          2098625.2999081025,
          3509187.152671094,
          null,
          455231.29410268913,
          414204.2762391135,
          252065.08800000002,
          621402.2744829991,
          971708.8054969327,
          698978.5317563991,
          141798.15156311548,
          381279.4742030438,
          50962.6394747676,
          231993.34287341087,
          35463.708809551856,
          26350.179798185116,
          11010.024692455741,
          11679.395932669682,
          null,
          null,
          null
         ]
        },
        {
         "mode": "text",
         "showlegend": false,
         "text": [
          "Grok-2",
          "Llama 3.1-405B",
          "GPT-4",
          "DALL-E",
          "GPT-3 175B (davinci)",
          "GNMT"
         ],
         "textposition": "top center",
         "type": "scatter",
         "x": [
          "2024-08-13T00:00:00",
          "2024-07-23T00:00:00",
          "2023-03-15T00:00:00",
          "2021-01-05T00:00:00",
          "2020-05-28T00:00:00",
          "2016-09-26T00:00:00"
         ],
         "y": [
          107319380.67600283,
          169828008.27813357,
          78562016.88093337,
          356463.0793374019,
          4336473.295238095,
          308734.94955137616
         ]
        },
        {
         "mode": "text",
         "showlegend": false,
         "text": [
          "AlphaGo Zero"
         ],
         "textposition": "top center",
         "type": "scatter",
         "x": [
          "2017-10-18T00:00:00"
         ],
         "y": [
          null
         ]
        },
        {
         "line": {
          "width": 0
         },
         "mode": "lines",
         "showlegend": false,
         "textposition": "top center",
         "type": "scatter",
         "x": [
          "2015-01-01T00:00:00",
          "2015-02-06T00:00:00",
          "2015-03-15T00:00:00",
          "2015-04-21T00:00:00",
          "2015-05-28T00:00:00",
          "2015-07-04T00:00:00",
          "2015-08-10T00:00:00",
          "2015-09-16T00:00:00",
          "2015-10-22T00:00:00",
          "2015-11-28T00:00:00",
          "2016-01-04T00:00:00",
          "2016-02-10T00:00:00",
          "2016-03-18T00:00:00",
          "2016-04-24T00:00:00",
          "2016-05-31T00:00:00",
          "2016-07-07T00:00:00",
          "2016-08-13T00:00:00",
          "2016-09-19T00:00:00",
          "2016-10-26T00:00:00",
          "2016-12-02T00:00:00",
          "2017-01-08T00:00:00",
          "2017-02-14T00:00:00",
          "2017-03-23T00:00:00",
          "2017-04-28T00:00:00",
          "2017-06-04T00:00:00",
          "2017-07-11T00:00:00",
          "2017-08-17T00:00:00",
          "2017-09-23T00:00:00",
          "2017-10-30T00:00:00",
          "2017-12-06T00:00:00",
          "2018-01-12T00:00:00",
          "2018-02-17T00:00:00",
          "2018-03-26T00:00:00",
          "2018-05-02T00:00:00",
          "2018-06-08T00:00:00",
          "2018-07-15T00:00:00",
          "2018-08-21T00:00:00",
          "2018-09-27T00:00:00",
          "2018-11-03T00:00:00",
          "2018-12-09T00:00:00",
          "2019-01-15T00:00:00",
          "2019-02-21T00:00:00",
          "2019-03-30T00:00:00",
          "2019-05-06T00:00:00",
          "2019-06-12T00:00:00",
          "2019-07-19T00:00:00",
          "2019-08-24T00:00:00",
          "2019-09-30T00:00:00",
          "2019-11-06T00:00:00",
          "2019-12-13T00:00:00",
          "2020-01-19T00:00:00",
          "2020-02-25T00:00:00",
          "2020-04-02T00:00:00",
          "2020-05-09T00:00:00",
          "2020-06-15T00:00:00",
          "2020-07-22T00:00:00",
          "2020-08-28T00:00:00",
          "2020-10-04T00:00:00",
          "2020-11-10T00:00:00",
          "2020-12-17T00:00:00",
          "2021-01-23T00:00:00",
          "2021-02-28T00:00:00",
          "2021-04-06T00:00:00",
          "2021-05-13T00:00:00",
          "2021-06-19T00:00:00",
          "2021-07-26T00:00:00",
          "2021-09-01T00:00:00",
          "2021-10-08T00:00:00",
          "2021-11-14T00:00:00",
          "2021-12-20T00:00:00",
          "2022-01-26T00:00:00",
          "2022-03-04T00:00:00",
          "2022-04-10T00:00:00",
          "2022-05-17T00:00:00",
          "2022-06-23T00:00:00",
          "2022-07-30T00:00:00",
          "2022-09-05T00:00:00",
          "2022-10-11T00:00:00",
          "2022-11-17T00:00:00",
          "2022-12-24T00:00:00",
          "2023-01-30T00:00:00",
          "2023-03-08T00:00:00",
          "2023-04-14T00:00:00",
          "2023-05-21T00:00:00",
          "2023-06-26T00:00:00",
          "2023-08-02T00:00:00",
          "2023-09-08T00:00:00",
          "2023-10-15T00:00:00",
          "2023-11-21T00:00:00",
          "2023-12-28T00:00:00",
          "2024-02-03T00:00:00",
          "2024-03-11T00:00:00",
          "2024-04-17T00:00:00",
          "2024-05-24T00:00:00",
          "2024-06-30T00:00:00",
          "2024-08-06T00:00:00",
          "2024-09-12T00:00:00",
          "2024-10-19T00:00:00",
          "2024-11-25T00:00:00",
          "2025-01-01T00:00:00"
         ],
         "y": [
          454.70606196019304,
          516.7247742193758,
          587.188659047421,
          667.2451227209019,
          758.1969670829549,
          861.5233370323085,
          978.9034718926018,
          1112.2436318310774,
          1263.707618730535,
          1435.751365243407,
          1631.1621268510776,
          1853.1028804486466,
          2105.1626101055194,
          2391.4132472152683,
          2716.474129229148,
          3085.584949749181,
          3504.6882940980795,
          3980.522989956344,
          4520.729653547025,
          5133.969979703941,
          5830.061510370372,
          6620.129822294537,
          7516.78030228525,
          8534.29192889611,
          9688.835754222646,
          10998.721079549076,
          12484.672644940403,
          14170.142505657715,
          16081.660647581644,
          18249.22879823187,
          20706.762317843943,
          23492.585502498947,
          26649.98609412032,
          30227.835262634726,
          34281.27979536873,
          38872.51368546254,
          44071.63674109161,
          49957.608222581206,
          56619.30383648355,
          64156.6846520232,
          72682.08663596766,
          82321.6395062325,
          93216.82347012688,
          105526.172139395,
          119427.1295165029,
          135118.0684745728,
          152820.47769107026,
          172781.32368804654,
          195275.5946820622,
          220609.033643287,
          249121.06966021637,
          281187.95983267715,
          317226.15891541046,
          357695.9412321938,
          403105.30926091335,
          454014.2358129312,
          511039.30157717044,
          574858.8062207876,
          646218.4479955818,
          725937.682306772,
          814916.8822163661,
          914145.4319084093,
          1024710.8868910869,
          1147809.3323502573,
          1284757.0649015633,
          1437003.715354026,
          1606146.923883407,
          1793948.677013857,
          2002353.4202219679,
          2233508.0718813594,
          2489784.0836689505,
          2773801.7184366034,
          3088456.747480704,
          3436949.8034891724,
          3822818.66199054,
          4249973.761984535,
          4722737.315426916,
          5245886.395483265,
          5824700.435615201,
          6465013.616240762,
          7173272.663896866,
          7956600.6402835995,
          8822867.356255153,
          9780767.109442081,
          10839904.514602467,
          12010889.273906145,
          13305440.820737766,
          14736503.866433678,
          16318375.985271078,
          18066848.49039666,
          19999361.982893277,
          22135178.099562183,
          24495569.143135875,
          27104027.453625135,
          29986496.57238136,
          33171626.46372126,
          36691055.294129126,
          40579720.529035285,
          44876202.39373548,
          49623103.06173213
         ]
        },
        {
         "fill": "tonexty",
         "fillcolor": "rgba(0,100,200,0.2)",
         "line": {
          "width": 0
         },
         "mode": "lines",
         "name": "90% CI of mean",
         "textposition": "top center",
         "type": "scatter",
         "x": [
          "2015-01-01T00:00:00",
          "2015-02-06T00:00:00",
          "2015-03-15T00:00:00",
          "2015-04-21T00:00:00",
          "2015-05-28T00:00:00",
          "2015-07-04T00:00:00",
          "2015-08-10T00:00:00",
          "2015-09-16T00:00:00",
          "2015-10-22T00:00:00",
          "2015-11-28T00:00:00",
          "2016-01-04T00:00:00",
          "2016-02-10T00:00:00",
          "2016-03-18T00:00:00",
          "2016-04-24T00:00:00",
          "2016-05-31T00:00:00",
          "2016-07-07T00:00:00",
          "2016-08-13T00:00:00",
          "2016-09-19T00:00:00",
          "2016-10-26T00:00:00",
          "2016-12-02T00:00:00",
          "2017-01-08T00:00:00",
          "2017-02-14T00:00:00",
          "2017-03-23T00:00:00",
          "2017-04-28T00:00:00",
          "2017-06-04T00:00:00",
          "2017-07-11T00:00:00",
          "2017-08-17T00:00:00",
          "2017-09-23T00:00:00",
          "2017-10-30T00:00:00",
          "2017-12-06T00:00:00",
          "2018-01-12T00:00:00",
          "2018-02-17T00:00:00",
          "2018-03-26T00:00:00",
          "2018-05-02T00:00:00",
          "2018-06-08T00:00:00",
          "2018-07-15T00:00:00",
          "2018-08-21T00:00:00",
          "2018-09-27T00:00:00",
          "2018-11-03T00:00:00",
          "2018-12-09T00:00:00",
          "2019-01-15T00:00:00",
          "2019-02-21T00:00:00",
          "2019-03-30T00:00:00",
          "2019-05-06T00:00:00",
          "2019-06-12T00:00:00",
          "2019-07-19T00:00:00",
          "2019-08-24T00:00:00",
          "2019-09-30T00:00:00",
          "2019-11-06T00:00:00",
          "2019-12-13T00:00:00",
          "2020-01-19T00:00:00",
          "2020-02-25T00:00:00",
          "2020-04-02T00:00:00",
          "2020-05-09T00:00:00",
          "2020-06-15T00:00:00",
          "2020-07-22T00:00:00",
          "2020-08-28T00:00:00",
          "2020-10-04T00:00:00",
          "2020-11-10T00:00:00",
          "2020-12-17T00:00:00",
          "2021-01-23T00:00:00",
          "2021-02-28T00:00:00",
          "2021-04-06T00:00:00",
          "2021-05-13T00:00:00",
          "2021-06-19T00:00:00",
          "2021-07-26T00:00:00",
          "2021-09-01T00:00:00",
          "2021-10-08T00:00:00",
          "2021-11-14T00:00:00",
          "2021-12-20T00:00:00",
          "2022-01-26T00:00:00",
          "2022-03-04T00:00:00",
          "2022-04-10T00:00:00",
          "2022-05-17T00:00:00",
          "2022-06-23T00:00:00",
          "2022-07-30T00:00:00",
          "2022-09-05T00:00:00",
          "2022-10-11T00:00:00",
          "2022-11-17T00:00:00",
          "2022-12-24T00:00:00",
          "2023-01-30T00:00:00",
          "2023-03-08T00:00:00",
          "2023-04-14T00:00:00",
          "2023-05-21T00:00:00",
          "2023-06-26T00:00:00",
          "2023-08-02T00:00:00",
          "2023-09-08T00:00:00",
          "2023-10-15T00:00:00",
          "2023-11-21T00:00:00",
          "2023-12-28T00:00:00",
          "2024-02-03T00:00:00",
          "2024-03-11T00:00:00",
          "2024-04-17T00:00:00",
          "2024-05-24T00:00:00",
          "2024-06-30T00:00:00",
          "2024-08-06T00:00:00",
          "2024-09-12T00:00:00",
          "2024-10-19T00:00:00",
          "2024-11-25T00:00:00",
          "2025-01-01T00:00:00"
         ],
         "y": [
          3254.9171801981356,
          3594.959188120849,
          3970.6184055621984,
          4385.639849084094,
          4844.164596444025,
          5350.7720500521145,
          5910.5267748015285,
          6529.030416791691,
          7212.479267602534,
          7967.72810405086,
          8802.361006555882,
          9724.769941580693,
          10744.241986171339,
          11871.056177005661,
          13116.591083949474,
          14493.44434108309,
          16015.565518395997,
          17698.40388773004,
          19559.072829640183,
          21616.532847488394,
          23891.795404937737,
          26408.150088230635,
          29191.417920254094,
          32270.234026292608,
          35676.363279270874,
          39445.05304375189,
          43615.427704347865,
          48230.930317424376,
          53339.81748081246,
          58995.71439126737,
          65258.23807560176,
          72193.69796233033,
          79875.88433647703,
          88386.95682359395,
          97818.44692148399,
          108272.3907843618,
          119862.61102043421,
          132716.1692487863,
          146975.01464827234,
          162797.8577954404,
          180362.30381962375,
          199867.2843902329,
          221535.8343925894,
          245618.26644031028,
          272395.80469984986,
          302184.74894465186,
          335341.2503577163,
          372266.79238082765,
          413414.4828280282,
          459296.27746244613,
          510491.2701383393,
          567655.2002758839,
          631531.3446916239,
          702962.9775763676,
          782907.5997619927,
          872453.1567364284,
          972836.4849178386,
          1085464.2488104608,
          1211936.6596566439,
          1354074.3013955168,
          1513948.4346243893,
          1693915.2062513067,
          1896654.263442347,
          2125212.356320541,
          2383052.614609883,
          2674110.2982252487,
          3002855.949511742,
          3374367.014472817,
          3794409.1519758967,
          4269528.614868929,
          4807157.268107333,
          5415732.010406293,
          6104830.592816543,
          6885326.085516977,
          7769562.539107409,
          8771554.724668,
          9907215.224267427,
          11194612.586861724,
          12654264.77103076,
          14309472.673466424,
          16186699.199989764,
          18316000.084198058,
          20731513.510083914,
          23472016.562327698,
          26581557.627573833,
          30110175.11990078,
          34114714.323941305,
          38659755.763708055,
          43818670.340059705,
          49674818.56599178,
          56322913.599905655,
          63870570.47288798,
          72440066.97022146,
          82170345.1117349,
          93219286.13584726,
          105766296.39566456,
          120015246.69423388,
          136197813.40741566,
          154577276.3591356,
          175452835.9381645
         ]
        },
        {
         "line": {
          "color": "rgb(0,100,200)"
         },
         "mode": "lines",
         "name": "Regression mean (growth rate: 3.1x per year)",
         "textposition": "top center",
         "type": "scatter",
         "x": [
          "2015-01-01T00:00:00",
          "2015-02-06T00:00:00",
          "2015-03-15T00:00:00",
          "2015-04-21T00:00:00",
          "2015-05-28T00:00:00",
          "2015-07-04T00:00:00",
          "2015-08-10T00:00:00",
          "2015-09-16T00:00:00",
          "2015-10-22T00:00:00",
          "2015-11-28T00:00:00",
          "2016-01-04T00:00:00",
          "2016-02-10T00:00:00",
          "2016-03-18T00:00:00",
          "2016-04-24T00:00:00",
          "2016-05-31T00:00:00",
          "2016-07-07T00:00:00",
          "2016-08-13T00:00:00",
          "2016-09-19T00:00:00",
          "2016-10-26T00:00:00",
          "2016-12-02T00:00:00",
          "2017-01-08T00:00:00",
          "2017-02-14T00:00:00",
          "2017-03-23T00:00:00",
          "2017-04-28T00:00:00",
          "2017-06-04T00:00:00",
          "2017-07-11T00:00:00",
          "2017-08-17T00:00:00",
          "2017-09-23T00:00:00",
          "2017-10-30T00:00:00",
          "2017-12-06T00:00:00",
          "2018-01-12T00:00:00",
          "2018-02-17T00:00:00",
          "2018-03-26T00:00:00",
          "2018-05-02T00:00:00",
          "2018-06-08T00:00:00",
          "2018-07-15T00:00:00",
          "2018-08-21T00:00:00",
          "2018-09-27T00:00:00",
          "2018-11-03T00:00:00",
          "2018-12-09T00:00:00",
          "2019-01-15T00:00:00",
          "2019-02-21T00:00:00",
          "2019-03-30T00:00:00",
          "2019-05-06T00:00:00",
          "2019-06-12T00:00:00",
          "2019-07-19T00:00:00",
          "2019-08-24T00:00:00",
          "2019-09-30T00:00:00",
          "2019-11-06T00:00:00",
          "2019-12-13T00:00:00",
          "2020-01-19T00:00:00",
          "2020-02-25T00:00:00",
          "2020-04-02T00:00:00",
          "2020-05-09T00:00:00",
          "2020-06-15T00:00:00",
          "2020-07-22T00:00:00",
          "2020-08-28T00:00:00",
          "2020-10-04T00:00:00",
          "2020-11-10T00:00:00",
          "2020-12-17T00:00:00",
          "2021-01-23T00:00:00",
          "2021-02-28T00:00:00",
          "2021-04-06T00:00:00",
          "2021-05-13T00:00:00",
          "2021-06-19T00:00:00",
          "2021-07-26T00:00:00",
          "2021-09-01T00:00:00",
          "2021-10-08T00:00:00",
          "2021-11-14T00:00:00",
          "2021-12-20T00:00:00",
          "2022-01-26T00:00:00",
          "2022-03-04T00:00:00",
          "2022-04-10T00:00:00",
          "2022-05-17T00:00:00",
          "2022-06-23T00:00:00",
          "2022-07-30T00:00:00",
          "2022-09-05T00:00:00",
          "2022-10-11T00:00:00",
          "2022-11-17T00:00:00",
          "2022-12-24T00:00:00",
          "2023-01-30T00:00:00",
          "2023-03-08T00:00:00",
          "2023-04-14T00:00:00",
          "2023-05-21T00:00:00",
          "2023-06-26T00:00:00",
          "2023-08-02T00:00:00",
          "2023-09-08T00:00:00",
          "2023-10-15T00:00:00",
          "2023-11-21T00:00:00",
          "2023-12-28T00:00:00",
          "2024-02-03T00:00:00",
          "2024-03-11T00:00:00",
          "2024-04-17T00:00:00",
          "2024-05-24T00:00:00",
          "2024-06-30T00:00:00",
          "2024-08-06T00:00:00",
          "2024-09-12T00:00:00",
          "2024-10-19T00:00:00",
          "2024-11-25T00:00:00",
          "2025-01-01T00:00:00"
         ],
         "y": [
          1216.5650714262965,
          1362.9396445953198,
          1526.925701254346,
          1710.642218382264,
          1916.4631238493698,
          2147.047971578675,
          2405.3763074761087,
          2694.7861702012583,
          3019.0172242644376,
          3382.2590828142193,
          3789.205444517978,
          4245.114744084499,
          4755.87810012134,
          5328.095438346425,
          5969.160773779384,
          6687.357753916969,
          7491.966697448895,
          8393.384511664066,
          9403.259038059108,
          10534.639562144002,
          11802.145432249654,
          13222.154966219598,
          14813.017086965865,
          16595.288421542344,
          18591.998927518147,
          20828.94947894025,
          23335.045257248752,
          26142.669255038792,
          29288.10071906967,
          32811.98393942949,
          36759.85344248205,
          41182.72237385029,
          46137.74167449763,
          51688.938567446,
          57908.043897750664,
          64875.419016163985,
          72681.09418364131,
          81425.93191442543,
          91222.93029026284,
          102198.68308646147,
          114495.01557745041,
          128270.81715909665,
          143704.09446804662,
          160994.27152839932,
          180364.76664703945,
          202065.87935590476,
          226378.02470466736,
          253615.3566972288,
          284129.82769223716,
          318315.73622262105,
          356614.82199856127,
          399521.97393132903,
          447591.6249341669,
          501444.9161329331,
          561777.7230584864,
          629369.6475349515,
          705094.0914524825,
          789929.5425963795,
          884972.2183618342,
          991450.2307358766,
          1110739.455579235,
          1244381.3112687056,
          1394102.6764258682,
          1561838.204107838,
          1749755.3207955076,
          1960282.2332042253,
          2196139.3048195443,
          2460374.207589713,
          2756401.303000068,
          3088045.7613899102,
          3459592.989619899,
          3875844.0057692076,
          4342177.47640638,
          4864619.21804538,
          5449920.060881848,
          6105643.080925258,
          6840261.327728161,
          7663267.310496459,
          8585295.657355836,
          9618260.53271513,
          10775509.588414269,
          12071996.437928762,
          13524473.88233206,
          15151710.384807866,
          16974732.59089236,
          19017097.028280947,
          21305194.496966604,
          23868591.082995776,
          26740410.202234,
          29957760.61089541,
          33562215.913371034,
          37600351.763487704,
          42124347.700616725,
          47192661.3975342,
          52870784.03232186,
          59232086.54511685,
          66358767.714573205,
          74342916.30504297,
          83287701.00900233,
          93308703.56098995
         ]
        }
       ],
       "layout": {
        "autosize": false,
        "font": {
         "size": 14
        },
        "height": 600,
        "legend": {
         "x": 0.45,
         "y": 0.05
        },
        "margin": {
         "b": 10,
         "l": 10,
         "r": 10,
         "t": 60
        },
        "template": {
         "data": {
          "bar": [
           {
            "error_x": {
             "color": "#2a3f5f"
            },
            "error_y": {
             "color": "#2a3f5f"
            },
            "marker": {
             "line": {
              "color": "#E5ECF6",
              "width": 0.5
             },
             "pattern": {
              "fillmode": "overlay",
              "size": 10,
              "solidity": 0.2
             }
            },
            "type": "bar"
           }
          ],
          "barpolar": [
           {
            "marker": {
             "line": {
              "color": "#E5ECF6",
              "width": 0.5
             },
             "pattern": {
              "fillmode": "overlay",
              "size": 10,
              "solidity": 0.2
             }
            },
            "type": "barpolar"
           }
          ],
          "carpet": [
           {
            "aaxis": {
             "endlinecolor": "#2a3f5f",
             "gridcolor": "white",
             "linecolor": "white",
             "minorgridcolor": "white",
             "startlinecolor": "#2a3f5f"
            },
            "baxis": {
             "endlinecolor": "#2a3f5f",
             "gridcolor": "white",
             "linecolor": "white",
             "minorgridcolor": "white",
             "startlinecolor": "#2a3f5f"
            },
            "type": "carpet"
           }
          ],
          "choropleth": [
           {
            "colorbar": {
             "outlinewidth": 0,
             "ticks": ""
            },
            "type": "choropleth"
           }
          ],
          "contour": [
           {
            "colorbar": {
             "outlinewidth": 0,
             "ticks": ""
            },
            "colorscale": [
             [
              0,
              "#0d0887"
             ],
             [
              0.1111111111111111,
              "#46039f"
             ],
             [
              0.2222222222222222,
              "#7201a8"
             ],
             [
              0.3333333333333333,
              "#9c179e"
             ],
             [
              0.4444444444444444,
              "#bd3786"
             ],
             [
              0.5555555555555556,
              "#d8576b"
             ],
             [
              0.6666666666666666,
              "#ed7953"
             ],
             [
              0.7777777777777778,
              "#fb9f3a"
             ],
             [
              0.8888888888888888,
              "#fdca26"
             ],
             [
              1,
              "#f0f921"
             ]
            ],
            "type": "contour"
           }
          ],
          "contourcarpet": [
           {
            "colorbar": {
             "outlinewidth": 0,
             "ticks": ""
            },
            "type": "contourcarpet"
           }
          ],
          "heatmap": [
           {
            "colorbar": {
             "outlinewidth": 0,
             "ticks": ""
            },
            "colorscale": [
             [
              0,
              "#0d0887"
             ],
             [
              0.1111111111111111,
              "#46039f"
             ],
             [
              0.2222222222222222,
              "#7201a8"
             ],
             [
              0.3333333333333333,
              "#9c179e"
             ],
             [
              0.4444444444444444,
              "#bd3786"
             ],
             [
              0.5555555555555556,
              "#d8576b"
             ],
             [
              0.6666666666666666,
              "#ed7953"
             ],
             [
              0.7777777777777778,
              "#fb9f3a"
             ],
             [
              0.8888888888888888,
              "#fdca26"
             ],
             [
              1,
              "#f0f921"
             ]
            ],
            "type": "heatmap"
           }
          ],
          "heatmapgl": [
           {
            "colorbar": {
             "outlinewidth": 0,
             "ticks": ""
            },
            "colorscale": [
             [
              0,
              "#0d0887"
             ],
             [
              0.1111111111111111,
              "#46039f"
             ],
             [
              0.2222222222222222,
              "#7201a8"
             ],
             [
              0.3333333333333333,
              "#9c179e"
             ],
             [
              0.4444444444444444,
              "#bd3786"
             ],
             [
              0.5555555555555556,
              "#d8576b"
             ],
             [
              0.6666666666666666,
              "#ed7953"
             ],
             [
              0.7777777777777778,
              "#fb9f3a"
             ],
             [
              0.8888888888888888,
              "#fdca26"
             ],
             [
              1,
              "#f0f921"
             ]
            ],
            "type": "heatmapgl"
           }
          ],
          "histogram": [
           {
            "marker": {
             "pattern": {
              "fillmode": "overlay",
              "size": 10,
              "solidity": 0.2
             }
            },
            "type": "histogram"
           }
          ],
          "histogram2d": [
           {
            "colorbar": {
             "outlinewidth": 0,
             "ticks": ""
            },
            "colorscale": [
             [
              0,
              "#0d0887"
             ],
             [
              0.1111111111111111,
              "#46039f"
             ],
             [
              0.2222222222222222,
              "#7201a8"
             ],
             [
              0.3333333333333333,
              "#9c179e"
             ],
             [
              0.4444444444444444,
              "#bd3786"
             ],
             [
              0.5555555555555556,
              "#d8576b"
             ],
             [
              0.6666666666666666,
              "#ed7953"
             ],
             [
              0.7777777777777778,
              "#fb9f3a"
             ],
             [
              0.8888888888888888,
              "#fdca26"
             ],
             [
              1,
              "#f0f921"
             ]
            ],
            "type": "histogram2d"
           }
          ],
          "histogram2dcontour": [
           {
            "colorbar": {
             "outlinewidth": 0,
             "ticks": ""
            },
            "colorscale": [
             [
              0,
              "#0d0887"
             ],
             [
              0.1111111111111111,
              "#46039f"
             ],
             [
              0.2222222222222222,
              "#7201a8"
             ],
             [
              0.3333333333333333,
              "#9c179e"
             ],
             [
              0.4444444444444444,
              "#bd3786"
             ],
             [
              0.5555555555555556,
              "#d8576b"
             ],
             [
              0.6666666666666666,
              "#ed7953"
             ],
             [
              0.7777777777777778,
              "#fb9f3a"
             ],
             [
              0.8888888888888888,
              "#fdca26"
             ],
             [
              1,
              "#f0f921"
             ]
            ],
            "type": "histogram2dcontour"
           }
          ],
          "mesh3d": [
           {
            "colorbar": {
             "outlinewidth": 0,
             "ticks": ""
            },
            "type": "mesh3d"
           }
          ],
          "parcoords": [
           {
            "line": {
             "colorbar": {
              "outlinewidth": 0,
              "ticks": ""
             }
            },
            "type": "parcoords"
           }
          ],
          "pie": [
           {
            "automargin": true,
            "type": "pie"
           }
          ],
          "scatter": [
           {
            "fillpattern": {
             "fillmode": "overlay",
             "size": 10,
             "solidity": 0.2
            },
            "type": "scatter"
           }
          ],
          "scatter3d": [
           {
            "line": {
             "colorbar": {
              "outlinewidth": 0,
              "ticks": ""
             }
            },
            "marker": {
             "colorbar": {
              "outlinewidth": 0,
              "ticks": ""
             }
            },
            "type": "scatter3d"
           }
          ],
          "scattercarpet": [
           {
            "marker": {
             "colorbar": {
              "outlinewidth": 0,
              "ticks": ""
             }
            },
            "type": "scattercarpet"
           }
          ],
          "scattergeo": [
           {
            "marker": {
             "colorbar": {
              "outlinewidth": 0,
              "ticks": ""
             }
            },
            "type": "scattergeo"
           }
          ],
          "scattergl": [
           {
            "marker": {
             "colorbar": {
              "outlinewidth": 0,
              "ticks": ""
             }
            },
            "type": "scattergl"
           }
          ],
          "scattermapbox": [
           {
            "marker": {
             "colorbar": {
              "outlinewidth": 0,
              "ticks": ""
             }
            },
            "type": "scattermapbox"
           }
          ],
          "scatterpolar": [
           {
            "marker": {
             "colorbar": {
              "outlinewidth": 0,
              "ticks": ""
             }
            },
            "type": "scatterpolar"
           }
          ],
          "scatterpolargl": [
           {
            "marker": {
             "colorbar": {
              "outlinewidth": 0,
              "ticks": ""
             }
            },
            "type": "scatterpolargl"
           }
          ],
          "scatterternary": [
           {
            "marker": {
             "colorbar": {
              "outlinewidth": 0,
              "ticks": ""
             }
            },
            "type": "scatterternary"
           }
          ],
          "surface": [
           {
            "colorbar": {
             "outlinewidth": 0,
             "ticks": ""
            },
            "colorscale": [
             [
              0,
              "#0d0887"
             ],
             [
              0.1111111111111111,
              "#46039f"
             ],
             [
              0.2222222222222222,
              "#7201a8"
             ],
             [
              0.3333333333333333,
              "#9c179e"
             ],
             [
              0.4444444444444444,
              "#bd3786"
             ],
             [
              0.5555555555555556,
              "#d8576b"
             ],
             [
              0.6666666666666666,
              "#ed7953"
             ],
             [
              0.7777777777777778,
              "#fb9f3a"
             ],
             [
              0.8888888888888888,
              "#fdca26"
             ],
             [
              1,
              "#f0f921"
             ]
            ],
            "type": "surface"
           }
          ],
          "table": [
           {
            "cells": {
             "fill": {
              "color": "#EBF0F8"
             },
             "line": {
              "color": "white"
             }
            },
            "header": {
             "fill": {
              "color": "#C8D4E3"
             },
             "line": {
              "color": "white"
             }
            },
            "type": "table"
           }
          ]
         },
         "layout": {
          "annotationdefaults": {
           "arrowcolor": "#2a3f5f",
           "arrowhead": 0,
           "arrowwidth": 1
          },
          "autotypenumbers": "strict",
          "coloraxis": {
           "colorbar": {
            "outlinewidth": 0,
            "ticks": ""
           }
          },
          "colorscale": {
           "diverging": [
            [
             0,
             "#8e0152"
            ],
            [
             0.1,
             "#c51b7d"
            ],
            [
             0.2,
             "#de77ae"
            ],
            [
             0.3,
             "#f1b6da"
            ],
            [
             0.4,
             "#fde0ef"
            ],
            [
             0.5,
             "#f7f7f7"
            ],
            [
             0.6,
             "#e6f5d0"
            ],
            [
             0.7,
             "#b8e186"
            ],
            [
             0.8,
             "#7fbc41"
            ],
            [
             0.9,
             "#4d9221"
            ],
            [
             1,
             "#276419"
            ]
           ],
           "sequential": [
            [
             0,
             "#0d0887"
            ],
            [
             0.1111111111111111,
             "#46039f"
            ],
            [
             0.2222222222222222,
             "#7201a8"
            ],
            [
             0.3333333333333333,
             "#9c179e"
            ],
            [
             0.4444444444444444,
             "#bd3786"
            ],
            [
             0.5555555555555556,
             "#d8576b"
            ],
            [
             0.6666666666666666,
             "#ed7953"
            ],
            [
             0.7777777777777778,
             "#fb9f3a"
            ],
            [
             0.8888888888888888,
             "#fdca26"
            ],
            [
             1,
             "#f0f921"
            ]
           ],
           "sequentialminus": [
            [
             0,
             "#0d0887"
            ],
            [
             0.1111111111111111,
             "#46039f"
            ],
            [
             0.2222222222222222,
             "#7201a8"
            ],
            [
             0.3333333333333333,
             "#9c179e"
            ],
            [
             0.4444444444444444,
             "#bd3786"
            ],
            [
             0.5555555555555556,
             "#d8576b"
            ],
            [
             0.6666666666666666,
             "#ed7953"
            ],
            [
             0.7777777777777778,
             "#fb9f3a"
            ],
            [
             0.8888888888888888,
             "#fdca26"
            ],
            [
             1,
             "#f0f921"
            ]
           ]
          },
          "colorway": [
           "#636efa",
           "#EF553B",
           "#00cc96",
           "#ab63fa",
           "#FFA15A",
           "#19d3f3",
           "#FF6692",
           "#B6E880",
           "#FF97FF",
           "#FECB52"
          ],
          "font": {
           "color": "#2a3f5f"
          },
          "geo": {
           "bgcolor": "white",
           "lakecolor": "white",
           "landcolor": "#E5ECF6",
           "showlakes": true,
           "showland": true,
           "subunitcolor": "white"
          },
          "hoverlabel": {
           "align": "left"
          },
          "hovermode": "closest",
          "mapbox": {
           "style": "light"
          },
          "paper_bgcolor": "white",
          "plot_bgcolor": "#E5ECF6",
          "polar": {
           "angularaxis": {
            "gridcolor": "white",
            "linecolor": "white",
            "ticks": ""
           },
           "bgcolor": "#E5ECF6",
           "radialaxis": {
            "gridcolor": "white",
            "linecolor": "white",
            "ticks": ""
           }
          },
          "scene": {
           "xaxis": {
            "backgroundcolor": "#E5ECF6",
            "gridcolor": "white",
            "gridwidth": 2,
            "linecolor": "white",
            "showbackground": true,
            "ticks": "",
            "zerolinecolor": "white"
           },
           "yaxis": {
            "backgroundcolor": "#E5ECF6",
            "gridcolor": "white",
            "gridwidth": 2,
            "linecolor": "white",
            "showbackground": true,
            "ticks": "",
            "zerolinecolor": "white"
           },
           "zaxis": {
            "backgroundcolor": "#E5ECF6",
            "gridcolor": "white",
            "gridwidth": 2,
            "linecolor": "white",
            "showbackground": true,
            "ticks": "",
            "zerolinecolor": "white"
           }
          },
          "shapedefaults": {
           "line": {
            "color": "#2a3f5f"
           }
          },
          "ternary": {
           "aaxis": {
            "gridcolor": "white",
            "linecolor": "white",
            "ticks": ""
           },
           "baxis": {
            "gridcolor": "white",
            "linecolor": "white",
            "ticks": ""
           },
           "bgcolor": "#E5ECF6",
           "caxis": {
            "gridcolor": "white",
            "linecolor": "white",
            "ticks": ""
           }
          },
          "title": {
           "x": 0.05
          },
          "xaxis": {
           "automargin": true,
           "gridcolor": "white",
           "linecolor": "white",
           "ticks": "",
           "title": {
            "standoff": 15
           },
           "zerolinecolor": "white",
           "zerolinewidth": 2
          },
          "yaxis": {
           "automargin": true,
           "gridcolor": "white",
           "linecolor": "white",
           "ticks": "",
           "title": {
            "standoff": 15
           },
           "zerolinecolor": "white",
           "zerolinewidth": 2
          }
         }
        },
        "title": {
         "font": {
          "size": 16
         },
         "text": "Cloud compute cost of final training run<br> for the top-10 most compute-intensive ML models over time",
         "x": 0.5
        },
        "width": 800,
        "xaxis": {
         "range": [
          "2015-01-01",
          "2025-06-01"
         ],
         "title": {
          "text": "Publication date"
         }
        },
        "yaxis": {
         "range": [
          1,
          9
         ],
         "title": {
          "text": "Cost (2024 USD, log scale)"
         },
         "type": "log"
        }
       }
      }
     },
     "metadata": {},
     "output_type": "display_data"
    }
   ],
   "source": [
    "label_systems = ['GNMT', 'AlphaGo Zero', 'DALL-E', 'GPT-3 175B (davinci)', 'GPT-4', 'Llama 3.1-405B', 'Grok-2']\n",
    "\n",
    "tpu_mask = cost_df['Training hardware'].str.contains('TPU', na=False)\n",
    "tpu_cost_df = cost_df.loc[tpu_mask]\n",
    "gpu_cost_df = cost_df.loc[~tpu_mask]\n",
    "\n",
    "fig = go.Figure()\n",
    "\n",
    "fig.add_trace(go.Scatter(\n",
    "    x=gpu_cost_df['Publication date'],\n",
    "    y=gpu_cost_df['Cost (inflation-adjusted)'],\n",
    "    text=gpu_cost_df['Model'],\n",
    "    mode='markers',\n",
    "    showlegend=False,\n",
    "))\n",
    "fig.update_yaxes(type='log')\n",
    "fig.add_trace(go.Scatter(\n",
    "    x=tpu_cost_df['Publication date'],\n",
    "    y=tpu_cost_df['Cost (inflation-adjusted)'],\n",
    "    text=tpu_cost_df['Model'],\n",
    "    mode='markers',\n",
    "    marker_symbol='circle-open' if estimation_method != 'cloud' else 'circle',\n",
    "    name='Using estimated cost of TPU' if estimation_method != 'cloud' else '',\n",
    "    showlegend=estimation_method != 'cloud',\n",
    "))\n",
    "fig.add_trace(go.Scatter(\n",
    "    x=gpu_cost_df.loc[gpu_cost_df['Model'].isin(label_systems)]['Publication date'],\n",
    "    y=gpu_cost_df.loc[gpu_cost_df['Model'].isin(label_systems)]['Cost (inflation-adjusted)'],\n",
    "    text=gpu_cost_df.loc[gpu_cost_df['Model'].isin(label_systems)]['Model'],\n",
    "    mode='text',\n",
    "    showlegend=False,\n",
    "))\n",
    "fig.add_trace(go.Scatter(\n",
    "    x=tpu_cost_df.loc[tpu_cost_df['Model'].isin(label_systems)]['Publication date'],\n",
    "    y=tpu_cost_df.loc[tpu_cost_df['Model'].isin(label_systems)]['Cost (inflation-adjusted)'],\n",
    "    text=tpu_cost_df.loc[tpu_cost_df['Model'].isin(label_systems)]['Model'],\n",
    "    mode='text',\n",
    "    showlegend=False,\n",
    "))\n",
    "\n",
    "# Marker color\n",
    "fig.update_traces(\n",
    "    marker=dict(\n",
    "        color='rgb(0,100,200)',\n",
    "    ),\n",
    "    selector=dict(mode='markers'),\n",
    ")\n",
    "\n",
    "# Shade in CI\n",
    "fig.add_scatter(\n",
    "    x=predicted_cost_df['Publication date'],\n",
    "    y=10**predicted_cost_df['mean_ci_lower'],\n",
    "    mode='lines',\n",
    "    line=dict(width=0),\n",
    "    showlegend=False,\n",
    ")\n",
    "fig.add_scatter(\n",
    "    x=predicted_cost_df['Publication date'],\n",
    "    y=10**predicted_cost_df['mean_ci_upper'],\n",
    "    mode='lines',\n",
    "    fill='tonexty',\n",
    "    fillcolor='rgba(0,100,200,0.2)',\n",
    "    line=dict(width=0),\n",
    "    name='90% CI of mean',\n",
    ")\n",
    "fig.add_scatter(\n",
    "    x=predicted_cost_df['Publication date'],\n",
    "    y=10**predicted_cost_df['mean'],\n",
    "    mode='lines',\n",
    "    line=dict(color='rgb(0,100,200)'),\n",
    "    name=f'Regression mean (growth rate: {10**reg_results.params[1]:.1f}x per year)',\n",
    ")\n",
    "\n",
    "fig.update_traces(textposition='top center')\n",
    "\n",
    "# axis limits\n",
    "# fig.update_xaxes(range=[pred_start_date, pred_end_date])\n",
    "fig.update_xaxes(range=['2015-01-01', '2025-06-01'])  # manual\n",
    "if estimation_method == 'hardware-acquisition':\n",
    "    fig.update_yaxes(range=[4, 10])\n",
    "else:\n",
    "    fig.update_yaxes(range=[1, 9])\n",
    "\n",
    "# legend on bottom-right of the axes\n",
    "fig.update_layout(\n",
    "    legend=dict(\n",
    "        x=0.45,\n",
    "        y=0.05,\n",
    "    )\n",
    ")\n",
    "\n",
    "# axis labels\n",
    "fig.update_xaxes(title_text='Publication date')\n",
    "fig.update_yaxes(title_text='Cost (2024 USD, log scale)')\n",
    "\n",
    "# title\n",
    "fig.update_layout(title_text=get_cost_plot_title(estimation_method, compute_threshold_method, compute_threshold))\n",
    "\n",
    "# update size\n",
    "fig.update_layout(\n",
    "    autosize=False,\n",
    "    width=800,\n",
    "    height=600,\n",
    "    title_font=dict(\n",
    "        size=16,\n",
    "    ),\n",
    "    title_x=0.5,\n",
    ")\n",
    "\n",
    "# font size\n",
    "fig.update_layout(\n",
    "    font=dict(\n",
    "        size=14,\n",
    "    )\n",
    ")\n",
    "\n",
    "# margins\n",
    "fig.update_layout(margin=dict(l=10, r=10, t=60, b=10))\n",
    "\n",
    "save_plot(fig, results_dir, 'cost_regression')\n",
    "\n",
    "fig.show()"
   ]
  },
  {
   "cell_type": "markdown",
   "metadata": {},
   "source": [
    "# Cost components"
   ]
  },
  {
   "cell_type": "code",
   "execution_count": 29,
   "metadata": {},
   "outputs": [],
   "source": [
    "cost_component_names = [\n",
    "    'AI accelerator chip cost',\n",
    "    'Other server components cost',\n",
    "    'Cluster-level interconnect cost',\n",
    "    'Energy cost',\n",
    "]"
   ]
  },
  {
   "cell_type": "code",
   "execution_count": 30,
   "metadata": {},
   "outputs": [
    {
     "ename": "NameError",
     "evalue": "name 'component_cost_df' is not defined",
     "output_type": "error",
     "traceback": [
      "\u001b[0;31m---------------------------------------------------------------------------\u001b[0m",
      "\u001b[0;31mNameError\u001b[0m                                 Traceback (most recent call last)",
      "Cell \u001b[0;32mIn[30], line 2\u001b[0m\n\u001b[1;32m      1\u001b[0m \u001b[38;5;28;01mfor\u001b[39;00m key \u001b[38;5;129;01min\u001b[39;00m cost_component_names:\n\u001b[0;32m----> 2\u001b[0m     component_cost_df[\u001b[38;5;124mf\u001b[39m\u001b[38;5;124m\"\u001b[39m\u001b[38;5;132;01m{\u001b[39;00mkey\u001b[38;5;132;01m}\u001b[39;00m\u001b[38;5;124m (%)\u001b[39m\u001b[38;5;124m\"\u001b[39m] \u001b[38;5;241m=\u001b[39m component_cost_df[key] \u001b[38;5;241m/\u001b[39m component_cost_df[\u001b[38;5;124m'\u001b[39m\u001b[38;5;124mCost\u001b[39m\u001b[38;5;124m'\u001b[39m] \u001b[38;5;241m*\u001b[39m \u001b[38;5;241m100\u001b[39m\n\u001b[1;32m      3\u001b[0m component_cost_df[\u001b[38;5;124m'\u001b[39m\u001b[38;5;124mAI accelerator chip cost (\u001b[39m\u001b[38;5;124m%\u001b[39m\u001b[38;5;124m)\u001b[39m\u001b[38;5;124m'\u001b[39m]\n",
      "\u001b[0;31mNameError\u001b[0m: name 'component_cost_df' is not defined"
     ]
    }
   ],
   "source": [
    "for key in cost_component_names:\n",
    "    component_cost_df[f\"{key} (%)\"] = component_cost_df[key] / component_cost_df['Cost'] * 100\n",
    "component_cost_df['AI accelerator chip cost (%)']"
   ]
  },
  {
   "cell_type": "code",
   "execution_count": 31,
   "metadata": {},
   "outputs": [],
   "source": [
    "cost_component_pc_names = [name + ' (%)' for name in cost_component_names]\n",
    "filtered_component_cost_df = component_cost_df.dropna(subset=cost_component_pc_names).sort_values(by='Publication date')"
   ]
  },
  {
   "cell_type": "code",
   "execution_count": null,
   "metadata": {},
   "outputs": [
    {
     "data": {
      "application/vnd.plotly.v1+json": {
       "config": {
        "plotlyServerURL": "https://plot.ly"
       },
       "data": [
        {
         "alignmentgroup": "True",
         "hovertemplate": "variable=AI accelerator chip cost (%)<br>Model=%{x}<br>value=%{y}<extra></extra>",
         "legendgroup": "AI accelerator chip cost (%)",
         "marker": {
          "color": "#636efa",
          "pattern": {
           "shape": ""
          }
         },
         "name": "AI accelerator chip cost (%)",
         "offsetgroup": "AI accelerator chip cost (%)",
         "orientation": "v",
         "showlegend": true,
         "textposition": "auto",
         "type": "bar",
         "x": [
          "DeepSpeech2 (English)",
          "GNMT",
          "Xception",
          "PolyNet",
          "MoE-Multi",
          "JFT",
          "AlphaGo Zero",
          "AlphaGo Master",
          "ResNeXt-101 32x48d",
          "BigGAN-deep 512x512",
          "GPT-2 (1.5B)",
          "MnasNet-A1 + SSDLite",
          "XLNet",
          "RoBERTa Large",
          "Megatron-BERT",
          "Megatron-LM (8.3B)",
          "T5-11B",
          "T5-3B",
          "AlphaStar",
          "XLM-RoBERTa",
          "Noisy Student (L2)",
          "OpenAI Five Rerun",
          "OpenAI Five",
          "Meena",
          "GPT-3 175B (davinci)",
          "iGPT-XL",
          "GShard (dense)",
          "DALL-E",
          "Switch",
          "Meta Pseudo Labels",
          "ProtT5-XXL",
          "ByT5-XXL",
          "Jurassic-1-Jumbo",
          "HyperCLOVA 82B",
          "Megatron-Turing NLG 530B",
          "Gopher (280B)",
          "GLaM",
          "LaMDA",
          "PaLM (540B)",
          "OPT-175B",
          "Parti",
          "GPT-3.5",
          "GPT-4",
          "PaLM 2",
          "Falcon-180B",
          "Amazon Titan",
          "Inflection-2",
          "Gemini 1.0 Ultra",
          "Gemini 1.5 Pro",
          "MegaScale (Production)",
          "Mistral Large",
          "Inflection-2.5",
          "Nemotron-4 340B",
          "Llama 3.1-405B",
          "Grok-2"
         ],
         "xaxis": "x",
         "y": [
          34.48421863086354,
          43.894050221086935,
          43.82905138164406,
          31.682791841409607,
          42.9498336968321,
          42.56129292863518,
          47.68134240324001,
          47.65493874885027,
          46.15956443152622,
          46.652574146227096,
          46.067681458941586,
          46.09992162869851,
          46.16969790471885,
          46.251534846888234,
          46.46715454174856,
          45.91772066361165,
          45.726552438069156,
          45.76528013195755,
          45.77416360624783,
          46.10575235460734,
          45.623459070250874,
          47.40492891061158,
          48.391176453724576,
          45.52883318361757,
          45.80518965603175,
          45.487159149121794,
          45.05848263522566,
          44.832665250496525,
          43.9196077929426,
          43.63423820745182,
          43.44765820266322,
          43.33603463422505,
          45.790949830182626,
          45.69755670437763,
          46.53906804429579,
          42.392738216713404,
          48.015720208438786,
          41.1921389078501,
          47.655917224681595,
          45.725277027820404,
          47.48753099279083,
          44.621036216023754,
          44.54280389221345,
          46.96793688368598,
          43.63730899793789,
          43.288836484827975,
          46.631553905988085,
          46.76952306754787,
          46.32840655024459,
          41.752130865954925,
          46.573518325402155,
          46.3775140964133,
          46.2735052941835,
          46.530645817679535,
          45.95520261247912
         ],
         "yaxis": "y"
        },
        {
         "alignmentgroup": "True",
         "hovertemplate": "variable=Other server components cost (%)<br>Model=%{x}<br>value=%{y}<extra></extra>",
         "legendgroup": "Other server components cost (%)",
         "marker": {
          "color": "#EF553B",
          "pattern": {
           "shape": ""
          }
         },
         "name": "Other server components cost (%)",
         "offsetgroup": "Other server components cost (%)",
         "orientation": "v",
         "showlegend": true,
         "textposition": "auto",
         "type": "bar",
         "x": [
          "DeepSpeech2 (English)",
          "GNMT",
          "Xception",
          "PolyNet",
          "MoE-Multi",
          "JFT",
          "AlphaGo Zero",
          "AlphaGo Master",
          "ResNeXt-101 32x48d",
          "BigGAN-deep 512x512",
          "GPT-2 (1.5B)",
          "MnasNet-A1 + SSDLite",
          "XLNet",
          "RoBERTa Large",
          "Megatron-BERT",
          "Megatron-LM (8.3B)",
          "T5-11B",
          "T5-3B",
          "AlphaStar",
          "XLM-RoBERTa",
          "Noisy Student (L2)",
          "OpenAI Five Rerun",
          "OpenAI Five",
          "Meena",
          "GPT-3 175B (davinci)",
          "iGPT-XL",
          "GShard (dense)",
          "DALL-E",
          "Switch",
          "Meta Pseudo Labels",
          "ProtT5-XXL",
          "ByT5-XXL",
          "Jurassic-1-Jumbo",
          "HyperCLOVA 82B",
          "Megatron-Turing NLG 530B",
          "Gopher (280B)",
          "GLaM",
          "LaMDA",
          "PaLM (540B)",
          "OPT-175B",
          "Parti",
          "GPT-3.5",
          "GPT-4",
          "PaLM 2",
          "Falcon-180B",
          "Amazon Titan",
          "Inflection-2",
          "Gemini 1.0 Ultra",
          "Gemini 1.5 Pro",
          "MegaScale (Production)",
          "Mistral Large",
          "Inflection-2.5",
          "Nemotron-4 340B",
          "Llama 3.1-405B",
          "Grok-2"
         ],
         "xaxis": "x",
         "y": [
          22.06989992375266,
          28.092192141495637,
          28.050592884252186,
          20.276986778502142,
          27.48789356597254,
          27.239227474326523,
          30.516059138073597,
          30.499160799264164,
          31.85009945775309,
          29.85764745358533,
          29.483316133722603,
          29.50394984236704,
          29.548606659020066,
          31.913559044352873,
          32.0623366338065,
          31.68322725789203,
          29.26499356036426,
          29.289779284452834,
          29.295464707998608,
          31.812969124679064,
          29.19901380496056,
          25.59866161173025,
          26.13123528501127,
          29.138453237515243,
          31.605580862661903,
          31.386139812894044,
          28.837428886544416,
          30.934539022842607,
          28.10854898748326,
          27.925912452769165,
          27.806501249704453,
          27.735062165904033,
          30.22202688792052,
          30.16038742488923,
          30.715784909235218,
          27.131352458696572,
          30.730060933400814,
          26.362968901024058,
          30.49978702379622,
          30.17868283836146,
          30.39201983538612,
          29.449883902575667,
          29.398250568860878,
          30.059479605559027,
          28.800623938639003,
          28.570632079986456,
          29.844194499832373,
          29.93249476323064,
          29.65018019215654,
          27.55640637153025,
          29.807051728257377,
          29.681609021704514,
          29.61504338827744,
          29.7796133233149,
          29.41132967198663
         ],
         "yaxis": "y"
        },
        {
         "alignmentgroup": "True",
         "hovertemplate": "variable=Cluster-level interconnect cost (%)<br>Model=%{x}<br>value=%{y}<extra></extra>",
         "legendgroup": "Cluster-level interconnect cost (%)",
         "marker": {
          "color": "#00cc96",
          "pattern": {
           "shape": ""
          }
         },
         "name": "Cluster-level interconnect cost (%)",
         "offsetgroup": "Cluster-level interconnect cost (%)",
         "orientation": "v",
         "showlegend": true,
         "textposition": "auto",
         "type": "bar",
         "x": [
          "DeepSpeech2 (English)",
          "GNMT",
          "Xception",
          "PolyNet",
          "MoE-Multi",
          "JFT",
          "AlphaGo Zero",
          "AlphaGo Master",
          "ResNeXt-101 32x48d",
          "BigGAN-deep 512x512",
          "GPT-2 (1.5B)",
          "MnasNet-A1 + SSDLite",
          "XLNet",
          "RoBERTa Large",
          "Megatron-BERT",
          "Megatron-LM (8.3B)",
          "T5-11B",
          "T5-3B",
          "AlphaStar",
          "XLM-RoBERTa",
          "Noisy Student (L2)",
          "OpenAI Five Rerun",
          "OpenAI Five",
          "Meena",
          "GPT-3 175B (davinci)",
          "iGPT-XL",
          "GShard (dense)",
          "DALL-E",
          "Switch",
          "Meta Pseudo Labels",
          "ProtT5-XXL",
          "ByT5-XXL",
          "Jurassic-1-Jumbo",
          "HyperCLOVA 82B",
          "Megatron-Turing NLG 530B",
          "Gopher (280B)",
          "GLaM",
          "LaMDA",
          "PaLM (540B)",
          "OPT-175B",
          "Parti",
          "GPT-3.5",
          "GPT-4",
          "PaLM 2",
          "Falcon-180B",
          "Amazon Titan",
          "Inflection-2",
          "Gemini 1.0 Ultra",
          "Gemini 1.5 Pro",
          "MegaScale (Production)",
          "Mistral Large",
          "Inflection-2.5",
          "Nemotron-4 340B",
          "Llama 3.1-405B",
          "Grok-2"
         ],
         "xaxis": "x",
         "y": [
          13.265780895527257,
          16.885661788753932,
          16.860657296938626,
          12.188096219485471,
          16.52242985176899,
          16.372961576003362,
          18.342600361542697,
          18.332443103878695,
          18.298563134522308,
          17.9468421036597,
          17.72183894148913,
          17.73424145617587,
          17.761083786556043,
          18.335022023871367,
          18.420497930068475,
          18.202691487760124,
          17.590609555188085,
          17.605507764343177,
          17.60892516013188,
          18.277230964277056,
          17.550950427518732,
          17.124299011413516,
          17.480565716493594,
          17.514548666685474,
          18.15808197352073,
          18.032008398497545,
          17.33360887547693,
          17.772554088807944,
          16.895493565778903,
          16.785714352397516,
          16.713938636975133,
          16.670998014845093,
          17.830204415357525,
          17.793838746371236,
          18.121508717494926,
          16.308120034972713,
          18.47123261351793,
          15.846259856402579,
          18.33281951507504,
          17.804632561203153,
          18.268042786856316,
          17.374660274733195,
          17.34419796000509,
          18.06815942340315,
          16.99161389870322,
          16.855924725079927,
          17.938755798896153,
          17.99183134302212,
          17.8221376309336,
          16.257558117434794,
          17.916430012586805,
          17.8410288795585,
          17.801017592182195,
          17.899937329369063,
          17.678569301294434
         ],
         "yaxis": "y"
        },
        {
         "alignmentgroup": "True",
         "hovertemplate": "variable=Energy cost (%)<br>Model=%{x}<br>value=%{y}<extra></extra>",
         "legendgroup": "Energy cost (%)",
         "marker": {
          "color": "#ab63fa",
          "pattern": {
           "shape": ""
          }
         },
         "name": "Energy cost (%)",
         "offsetgroup": "Energy cost (%)",
         "orientation": "v",
         "showlegend": true,
         "textposition": "auto",
         "type": "bar",
         "x": [
          "DeepSpeech2 (English)",
          "GNMT",
          "Xception",
          "PolyNet",
          "MoE-Multi",
          "JFT",
          "AlphaGo Zero",
          "AlphaGo Master",
          "ResNeXt-101 32x48d",
          "BigGAN-deep 512x512",
          "GPT-2 (1.5B)",
          "MnasNet-A1 + SSDLite",
          "XLNet",
          "RoBERTa Large",
          "Megatron-BERT",
          "Megatron-LM (8.3B)",
          "T5-11B",
          "T5-3B",
          "AlphaStar",
          "XLM-RoBERTa",
          "Noisy Student (L2)",
          "OpenAI Five Rerun",
          "OpenAI Five",
          "Meena",
          "GPT-3 175B (davinci)",
          "iGPT-XL",
          "GShard (dense)",
          "DALL-E",
          "Switch",
          "Meta Pseudo Labels",
          "ProtT5-XXL",
          "ByT5-XXL",
          "Jurassic-1-Jumbo",
          "HyperCLOVA 82B",
          "Megatron-Turing NLG 530B",
          "Gopher (280B)",
          "GLaM",
          "LaMDA",
          "PaLM (540B)",
          "OPT-175B",
          "Parti",
          "GPT-3.5",
          "GPT-4",
          "PaLM 2",
          "Falcon-180B",
          "Amazon Titan",
          "Inflection-2",
          "Gemini 1.0 Ultra",
          "Gemini 1.5 Pro",
          "MegaScale (Production)",
          "Mistral Large",
          "Inflection-2.5",
          "Nemotron-4 340B",
          "Llama 3.1-405B",
          "Grok-2"
         ],
         "xaxis": "x",
         "y": [
          30.180100549856547,
          11.128095848663497,
          11.259698437165122,
          35.85212516060279,
          13.039842885426372,
          13.82651802103494,
          3.4599980971436843,
          3.513457348006879,
          3.691772976198387,
          5.542936296527881,
          6.72716346584668,
          6.66188707275859,
          6.52061164970505,
          3.499884084887533,
          3.0500108943764594,
          4.196360590736189,
          7.417844446378501,
          7.339432819246435,
          7.321446525621678,
          3.8040475564365464,
          7.626576697269825,
          9.872110466244639,
          7.997022544770563,
          7.8181649121817065,
          4.431147507785614,
          5.094692639486611,
          8.770479602753008,
          6.460241637852924,
          11.07634965379524,
          11.6541349873815,
          12.03190191065719,
          12.257905185025823,
          6.15681886653933,
          6.3482171243619,
          4.62363832897406,
          14.167789289617316,
          2.7829862446424647,
          16.598632334723266,
          3.5114762364471517,
          6.291407572614974,
          3.8524063849667285,
          8.554419606667391,
          8.714747578920583,
          4.904424087351839,
          10.57045316471989,
          11.284606710105637,
          5.585495795283402,
          5.3061508261993575,
          6.19927562666527,
          14.433904645080045,
          5.702999933753666,
          6.099848002323679,
          6.31043372535685,
          5.7898035296365125,
          6.954898414239817
         ],
         "yaxis": "y"
        }
       ],
       "layout": {
        "autosize": false,
        "barmode": "stack",
        "height": 600,
        "legend": {
         "title": {
          "text": "Cost component"
         },
         "tracegroupgap": 0,
         "x": 0.6,
         "y": 0.05
        },
        "margin": {
         "b": 10,
         "l": 10,
         "r": 10,
         "t": 40
        },
        "template": {
         "data": {
          "bar": [
           {
            "error_x": {
             "color": "#2a3f5f"
            },
            "error_y": {
             "color": "#2a3f5f"
            },
            "marker": {
             "line": {
              "color": "#E5ECF6",
              "width": 0.5
             },
             "pattern": {
              "fillmode": "overlay",
              "size": 10,
              "solidity": 0.2
             }
            },
            "type": "bar"
           }
          ],
          "barpolar": [
           {
            "marker": {
             "line": {
              "color": "#E5ECF6",
              "width": 0.5
             },
             "pattern": {
              "fillmode": "overlay",
              "size": 10,
              "solidity": 0.2
             }
            },
            "type": "barpolar"
           }
          ],
          "carpet": [
           {
            "aaxis": {
             "endlinecolor": "#2a3f5f",
             "gridcolor": "white",
             "linecolor": "white",
             "minorgridcolor": "white",
             "startlinecolor": "#2a3f5f"
            },
            "baxis": {
             "endlinecolor": "#2a3f5f",
             "gridcolor": "white",
             "linecolor": "white",
             "minorgridcolor": "white",
             "startlinecolor": "#2a3f5f"
            },
            "type": "carpet"
           }
          ],
          "choropleth": [
           {
            "colorbar": {
             "outlinewidth": 0,
             "ticks": ""
            },
            "type": "choropleth"
           }
          ],
          "contour": [
           {
            "colorbar": {
             "outlinewidth": 0,
             "ticks": ""
            },
            "colorscale": [
             [
              0,
              "#0d0887"
             ],
             [
              0.1111111111111111,
              "#46039f"
             ],
             [
              0.2222222222222222,
              "#7201a8"
             ],
             [
              0.3333333333333333,
              "#9c179e"
             ],
             [
              0.4444444444444444,
              "#bd3786"
             ],
             [
              0.5555555555555556,
              "#d8576b"
             ],
             [
              0.6666666666666666,
              "#ed7953"
             ],
             [
              0.7777777777777778,
              "#fb9f3a"
             ],
             [
              0.8888888888888888,
              "#fdca26"
             ],
             [
              1,
              "#f0f921"
             ]
            ],
            "type": "contour"
           }
          ],
          "contourcarpet": [
           {
            "colorbar": {
             "outlinewidth": 0,
             "ticks": ""
            },
            "type": "contourcarpet"
           }
          ],
          "heatmap": [
           {
            "colorbar": {
             "outlinewidth": 0,
             "ticks": ""
            },
            "colorscale": [
             [
              0,
              "#0d0887"
             ],
             [
              0.1111111111111111,
              "#46039f"
             ],
             [
              0.2222222222222222,
              "#7201a8"
             ],
             [
              0.3333333333333333,
              "#9c179e"
             ],
             [
              0.4444444444444444,
              "#bd3786"
             ],
             [
              0.5555555555555556,
              "#d8576b"
             ],
             [
              0.6666666666666666,
              "#ed7953"
             ],
             [
              0.7777777777777778,
              "#fb9f3a"
             ],
             [
              0.8888888888888888,
              "#fdca26"
             ],
             [
              1,
              "#f0f921"
             ]
            ],
            "type": "heatmap"
           }
          ],
          "heatmapgl": [
           {
            "colorbar": {
             "outlinewidth": 0,
             "ticks": ""
            },
            "colorscale": [
             [
              0,
              "#0d0887"
             ],
             [
              0.1111111111111111,
              "#46039f"
             ],
             [
              0.2222222222222222,
              "#7201a8"
             ],
             [
              0.3333333333333333,
              "#9c179e"
             ],
             [
              0.4444444444444444,
              "#bd3786"
             ],
             [
              0.5555555555555556,
              "#d8576b"
             ],
             [
              0.6666666666666666,
              "#ed7953"
             ],
             [
              0.7777777777777778,
              "#fb9f3a"
             ],
             [
              0.8888888888888888,
              "#fdca26"
             ],
             [
              1,
              "#f0f921"
             ]
            ],
            "type": "heatmapgl"
           }
          ],
          "histogram": [
           {
            "marker": {
             "pattern": {
              "fillmode": "overlay",
              "size": 10,
              "solidity": 0.2
             }
            },
            "type": "histogram"
           }
          ],
          "histogram2d": [
           {
            "colorbar": {
             "outlinewidth": 0,
             "ticks": ""
            },
            "colorscale": [
             [
              0,
              "#0d0887"
             ],
             [
              0.1111111111111111,
              "#46039f"
             ],
             [
              0.2222222222222222,
              "#7201a8"
             ],
             [
              0.3333333333333333,
              "#9c179e"
             ],
             [
              0.4444444444444444,
              "#bd3786"
             ],
             [
              0.5555555555555556,
              "#d8576b"
             ],
             [
              0.6666666666666666,
              "#ed7953"
             ],
             [
              0.7777777777777778,
              "#fb9f3a"
             ],
             [
              0.8888888888888888,
              "#fdca26"
             ],
             [
              1,
              "#f0f921"
             ]
            ],
            "type": "histogram2d"
           }
          ],
          "histogram2dcontour": [
           {
            "colorbar": {
             "outlinewidth": 0,
             "ticks": ""
            },
            "colorscale": [
             [
              0,
              "#0d0887"
             ],
             [
              0.1111111111111111,
              "#46039f"
             ],
             [
              0.2222222222222222,
              "#7201a8"
             ],
             [
              0.3333333333333333,
              "#9c179e"
             ],
             [
              0.4444444444444444,
              "#bd3786"
             ],
             [
              0.5555555555555556,
              "#d8576b"
             ],
             [
              0.6666666666666666,
              "#ed7953"
             ],
             [
              0.7777777777777778,
              "#fb9f3a"
             ],
             [
              0.8888888888888888,
              "#fdca26"
             ],
             [
              1,
              "#f0f921"
             ]
            ],
            "type": "histogram2dcontour"
           }
          ],
          "mesh3d": [
           {
            "colorbar": {
             "outlinewidth": 0,
             "ticks": ""
            },
            "type": "mesh3d"
           }
          ],
          "parcoords": [
           {
            "line": {
             "colorbar": {
              "outlinewidth": 0,
              "ticks": ""
             }
            },
            "type": "parcoords"
           }
          ],
          "pie": [
           {
            "automargin": true,
            "type": "pie"
           }
          ],
          "scatter": [
           {
            "fillpattern": {
             "fillmode": "overlay",
             "size": 10,
             "solidity": 0.2
            },
            "type": "scatter"
           }
          ],
          "scatter3d": [
           {
            "line": {
             "colorbar": {
              "outlinewidth": 0,
              "ticks": ""
             }
            },
            "marker": {
             "colorbar": {
              "outlinewidth": 0,
              "ticks": ""
             }
            },
            "type": "scatter3d"
           }
          ],
          "scattercarpet": [
           {
            "marker": {
             "colorbar": {
              "outlinewidth": 0,
              "ticks": ""
             }
            },
            "type": "scattercarpet"
           }
          ],
          "scattergeo": [
           {
            "marker": {
             "colorbar": {
              "outlinewidth": 0,
              "ticks": ""
             }
            },
            "type": "scattergeo"
           }
          ],
          "scattergl": [
           {
            "marker": {
             "colorbar": {
              "outlinewidth": 0,
              "ticks": ""
             }
            },
            "type": "scattergl"
           }
          ],
          "scattermapbox": [
           {
            "marker": {
             "colorbar": {
              "outlinewidth": 0,
              "ticks": ""
             }
            },
            "type": "scattermapbox"
           }
          ],
          "scatterpolar": [
           {
            "marker": {
             "colorbar": {
              "outlinewidth": 0,
              "ticks": ""
             }
            },
            "type": "scatterpolar"
           }
          ],
          "scatterpolargl": [
           {
            "marker": {
             "colorbar": {
              "outlinewidth": 0,
              "ticks": ""
             }
            },
            "type": "scatterpolargl"
           }
          ],
          "scatterternary": [
           {
            "marker": {
             "colorbar": {
              "outlinewidth": 0,
              "ticks": ""
             }
            },
            "type": "scatterternary"
           }
          ],
          "surface": [
           {
            "colorbar": {
             "outlinewidth": 0,
             "ticks": ""
            },
            "colorscale": [
             [
              0,
              "#0d0887"
             ],
             [
              0.1111111111111111,
              "#46039f"
             ],
             [
              0.2222222222222222,
              "#7201a8"
             ],
             [
              0.3333333333333333,
              "#9c179e"
             ],
             [
              0.4444444444444444,
              "#bd3786"
             ],
             [
              0.5555555555555556,
              "#d8576b"
             ],
             [
              0.6666666666666666,
              "#ed7953"
             ],
             [
              0.7777777777777778,
              "#fb9f3a"
             ],
             [
              0.8888888888888888,
              "#fdca26"
             ],
             [
              1,
              "#f0f921"
             ]
            ],
            "type": "surface"
           }
          ],
          "table": [
           {
            "cells": {
             "fill": {
              "color": "#EBF0F8"
             },
             "line": {
              "color": "white"
             }
            },
            "header": {
             "fill": {
              "color": "#C8D4E3"
             },
             "line": {
              "color": "white"
             }
            },
            "type": "table"
           }
          ]
         },
         "layout": {
          "annotationdefaults": {
           "arrowcolor": "#2a3f5f",
           "arrowhead": 0,
           "arrowwidth": 1
          },
          "autotypenumbers": "strict",
          "coloraxis": {
           "colorbar": {
            "outlinewidth": 0,
            "ticks": ""
           }
          },
          "colorscale": {
           "diverging": [
            [
             0,
             "#8e0152"
            ],
            [
             0.1,
             "#c51b7d"
            ],
            [
             0.2,
             "#de77ae"
            ],
            [
             0.3,
             "#f1b6da"
            ],
            [
             0.4,
             "#fde0ef"
            ],
            [
             0.5,
             "#f7f7f7"
            ],
            [
             0.6,
             "#e6f5d0"
            ],
            [
             0.7,
             "#b8e186"
            ],
            [
             0.8,
             "#7fbc41"
            ],
            [
             0.9,
             "#4d9221"
            ],
            [
             1,
             "#276419"
            ]
           ],
           "sequential": [
            [
             0,
             "#0d0887"
            ],
            [
             0.1111111111111111,
             "#46039f"
            ],
            [
             0.2222222222222222,
             "#7201a8"
            ],
            [
             0.3333333333333333,
             "#9c179e"
            ],
            [
             0.4444444444444444,
             "#bd3786"
            ],
            [
             0.5555555555555556,
             "#d8576b"
            ],
            [
             0.6666666666666666,
             "#ed7953"
            ],
            [
             0.7777777777777778,
             "#fb9f3a"
            ],
            [
             0.8888888888888888,
             "#fdca26"
            ],
            [
             1,
             "#f0f921"
            ]
           ],
           "sequentialminus": [
            [
             0,
             "#0d0887"
            ],
            [
             0.1111111111111111,
             "#46039f"
            ],
            [
             0.2222222222222222,
             "#7201a8"
            ],
            [
             0.3333333333333333,
             "#9c179e"
            ],
            [
             0.4444444444444444,
             "#bd3786"
            ],
            [
             0.5555555555555556,
             "#d8576b"
            ],
            [
             0.6666666666666666,
             "#ed7953"
            ],
            [
             0.7777777777777778,
             "#fb9f3a"
            ],
            [
             0.8888888888888888,
             "#fdca26"
            ],
            [
             1,
             "#f0f921"
            ]
           ]
          },
          "colorway": [
           "#636efa",
           "#EF553B",
           "#00cc96",
           "#ab63fa",
           "#FFA15A",
           "#19d3f3",
           "#FF6692",
           "#B6E880",
           "#FF97FF",
           "#FECB52"
          ],
          "font": {
           "color": "#2a3f5f"
          },
          "geo": {
           "bgcolor": "white",
           "lakecolor": "white",
           "landcolor": "#E5ECF6",
           "showlakes": true,
           "showland": true,
           "subunitcolor": "white"
          },
          "hoverlabel": {
           "align": "left"
          },
          "hovermode": "closest",
          "mapbox": {
           "style": "light"
          },
          "paper_bgcolor": "white",
          "plot_bgcolor": "#E5ECF6",
          "polar": {
           "angularaxis": {
            "gridcolor": "white",
            "linecolor": "white",
            "ticks": ""
           },
           "bgcolor": "#E5ECF6",
           "radialaxis": {
            "gridcolor": "white",
            "linecolor": "white",
            "ticks": ""
           }
          },
          "scene": {
           "xaxis": {
            "backgroundcolor": "#E5ECF6",
            "gridcolor": "white",
            "gridwidth": 2,
            "linecolor": "white",
            "showbackground": true,
            "ticks": "",
            "zerolinecolor": "white"
           },
           "yaxis": {
            "backgroundcolor": "#E5ECF6",
            "gridcolor": "white",
            "gridwidth": 2,
            "linecolor": "white",
            "showbackground": true,
            "ticks": "",
            "zerolinecolor": "white"
           },
           "zaxis": {
            "backgroundcolor": "#E5ECF6",
            "gridcolor": "white",
            "gridwidth": 2,
            "linecolor": "white",
            "showbackground": true,
            "ticks": "",
            "zerolinecolor": "white"
           }
          },
          "shapedefaults": {
           "line": {
            "color": "#2a3f5f"
           }
          },
          "ternary": {
           "aaxis": {
            "gridcolor": "white",
            "linecolor": "white",
            "ticks": ""
           },
           "baxis": {
            "gridcolor": "white",
            "linecolor": "white",
            "ticks": ""
           },
           "bgcolor": "#E5ECF6",
           "caxis": {
            "gridcolor": "white",
            "linecolor": "white",
            "ticks": ""
           }
          },
          "title": {
           "x": 0.05
          },
          "xaxis": {
           "automargin": true,
           "gridcolor": "white",
           "linecolor": "white",
           "ticks": "",
           "title": {
            "standoff": 15
           },
           "zerolinecolor": "white",
           "zerolinewidth": 2
          },
          "yaxis": {
           "automargin": true,
           "gridcolor": "white",
           "linecolor": "white",
           "ticks": "",
           "title": {
            "standoff": 15
           },
           "zerolinecolor": "white",
           "zerolinewidth": 2
          }
         }
        },
        "width": 800,
        "xaxis": {
         "anchor": "y",
         "domain": [
          0,
          1
         ],
         "title": {
          "text": "ML model"
         }
        },
        "yaxis": {
         "anchor": "x",
         "domain": [
          0,
          1
         ],
         "range": [
          0,
          100
         ],
         "tickvals": [
          0,
          10,
          20,
          30,
          40,
          50,
          60,
          70,
          80,
          90,
          100
         ],
         "title": {
          "text": "% of amortized hardware CapEx + energy"
         }
        }
       }
      }
     },
     "metadata": {},
     "output_type": "display_data"
    }
   ],
   "source": [
    "# Stacked bar chart of cost components, using component_cost_df\n",
    "fig = px.bar(\n",
    "    filtered_component_cost_df,\n",
    "    x='Model',\n",
    "    y=cost_component_pc_names,\n",
    "    barmode='stack',\n",
    ")\n",
    "\n",
    "# axis labels\n",
    "fig.update_xaxes(title_text='ML model')\n",
    "fig.update_yaxes(title_text='% of amortized hardware CapEx + energy')\n",
    "fig.update_layout(\n",
    "    legend=dict(\n",
    "        title_text='Cost component',\n",
    "        x=0.60,\n",
    "        y=0.05,\n",
    "    )\n",
    ")\n",
    "# limits 0 to 100\n",
    "fig.update_yaxes(range=[0, 100])\n",
    "\n",
    "fig.update_yaxes(tickvals=list(range(0, 101, 10)))\n",
    "\n",
    "# size\n",
    "fig.update_layout(\n",
    "    autosize=False,\n",
    "    width=800,\n",
    "    height=600,\n",
    ")\n",
    "\n",
    "# margins\n",
    "fig.update_layout(margin=dict(l=10, r=10, t=40, b=10))\n",
    "\n",
    "save_plot(fig, results_dir, 'cost_component_percentage')\n",
    "\n",
    "fig.show()"
   ]
  },
  {
   "cell_type": "code",
   "execution_count": null,
   "metadata": {},
   "outputs": [
    {
     "data": {
      "text/html": [
       "<div>\n",
       "<style scoped>\n",
       "    .dataframe tbody tr th:only-of-type {\n",
       "        vertical-align: middle;\n",
       "    }\n",
       "\n",
       "    .dataframe tbody tr th {\n",
       "        vertical-align: top;\n",
       "    }\n",
       "\n",
       "    .dataframe thead th {\n",
       "        text-align: right;\n",
       "    }\n",
       "</style>\n",
       "<table border=\"1\" class=\"dataframe\">\n",
       "  <thead>\n",
       "    <tr style=\"text-align: right;\">\n",
       "      <th></th>\n",
       "      <th>Model</th>\n",
       "      <th>Domain</th>\n",
       "      <th>Task</th>\n",
       "      <th>Authors</th>\n",
       "      <th>Notability criteria</th>\n",
       "      <th>Notability criteria notes</th>\n",
       "      <th>Model accessibility</th>\n",
       "      <th>Link</th>\n",
       "      <th>Citations</th>\n",
       "      <th>Reference</th>\n",
       "      <th>...</th>\n",
       "      <th>PTB ppl</th>\n",
       "      <th>Cost</th>\n",
       "      <th>AI accelerator chip cost</th>\n",
       "      <th>Other server components cost</th>\n",
       "      <th>Cluster-level interconnect cost</th>\n",
       "      <th>Energy cost</th>\n",
       "      <th>AI accelerator chip cost (%)</th>\n",
       "      <th>Other server components cost (%)</th>\n",
       "      <th>Cluster-level interconnect cost (%)</th>\n",
       "      <th>Energy cost (%)</th>\n",
       "    </tr>\n",
       "  </thead>\n",
       "  <tbody>\n",
       "    <tr>\n",
       "      <th>2061</th>\n",
       "      <td>DeepSpeech2 (English)</td>\n",
       "      <td>Speech</td>\n",
       "      <td>Speech recognition</td>\n",
       "      <td>Dario Amodei, Rishita Anubhai, Eric Battenberg...</td>\n",
       "      <td>Highly cited</td>\n",
       "      <td>NaN</td>\n",
       "      <td>NaN</td>\n",
       "      <td>https://arxiv.org/abs/1512.02595</td>\n",
       "      <td>2853.0</td>\n",
       "      <td>Deep Speech 2: End-to-End Speech Recognition i...</td>\n",
       "      <td>...</td>\n",
       "      <td>NaN</td>\n",
       "      <td>185.456639</td>\n",
       "      <td>63.953273</td>\n",
       "      <td>40.930095</td>\n",
       "      <td>24.602271</td>\n",
       "      <td>55.971000</td>\n",
       "      <td>34.484219</td>\n",
       "      <td>22.069900</td>\n",
       "      <td>13.265781</td>\n",
       "      <td>30.180101</td>\n",
       "    </tr>\n",
       "    <tr>\n",
       "      <th>2001</th>\n",
       "      <td>GNMT</td>\n",
       "      <td>Language</td>\n",
       "      <td>Translation</td>\n",
       "      <td>Yonghui Wu, Mike Schuster, Zhifeng Chen, Quoc ...</td>\n",
       "      <td>Highly cited</td>\n",
       "      <td>NaN</td>\n",
       "      <td>Hosted access (no API)</td>\n",
       "      <td>https://arxiv.org/abs/1609.08144</td>\n",
       "      <td>6483.0</td>\n",
       "      <td>Google's Neural Machine Translation System: Br...</td>\n",
       "      <td>...</td>\n",
       "      <td>NaN</td>\n",
       "      <td>177459.232941</td>\n",
       "      <td>77894.044829</td>\n",
       "      <td>49852.188691</td>\n",
       "      <td>29965.165887</td>\n",
       "      <td>19747.833534</td>\n",
       "      <td>43.894050</td>\n",
       "      <td>28.092192</td>\n",
       "      <td>16.885662</td>\n",
       "      <td>11.128096</td>\n",
       "    </tr>\n",
       "    <tr>\n",
       "      <th>2000</th>\n",
       "      <td>Xception</td>\n",
       "      <td>Vision</td>\n",
       "      <td>Image classification</td>\n",
       "      <td>François Chollet</td>\n",
       "      <td>Highly cited</td>\n",
       "      <td>NaN</td>\n",
       "      <td>NaN</td>\n",
       "      <td>https://arxiv.org/abs/1610.02357</td>\n",
       "      <td>13038.0</td>\n",
       "      <td>Xception: Deep Learning with Depthwise Separab...</td>\n",
       "      <td>...</td>\n",
       "      <td>NaN</td>\n",
       "      <td>11554.506253</td>\n",
       "      <td>5064.230483</td>\n",
       "      <td>3241.107509</td>\n",
       "      <td>1948.165702</td>\n",
       "      <td>1301.002560</td>\n",
       "      <td>43.829051</td>\n",
       "      <td>28.050593</td>\n",
       "      <td>16.860657</td>\n",
       "      <td>11.259698</td>\n",
       "    </tr>\n",
       "    <tr>\n",
       "      <th>1985</th>\n",
       "      <td>PolyNet</td>\n",
       "      <td>Vision</td>\n",
       "      <td>Image classification</td>\n",
       "      <td>X Zhang, Z Li, C Change Loy</td>\n",
       "      <td>SOTA improvement</td>\n",
       "      <td>\"The Very Deep PolyNet, designed following thi...</td>\n",
       "      <td>NaN</td>\n",
       "      <td>https://arxiv.org/abs/1611.05725</td>\n",
       "      <td>282.0</td>\n",
       "      <td>PolyNet: A Pursuit of Structural Diversity in ...</td>\n",
       "      <td>...</td>\n",
       "      <td>NaN</td>\n",
       "      <td>563.599706</td>\n",
       "      <td>178.564122</td>\n",
       "      <td>114.281038</td>\n",
       "      <td>68.692074</td>\n",
       "      <td>202.062472</td>\n",
       "      <td>31.682792</td>\n",
       "      <td>20.276987</td>\n",
       "      <td>12.188096</td>\n",
       "      <td>35.852125</td>\n",
       "    </tr>\n",
       "    <tr>\n",
       "      <th>1965</th>\n",
       "      <td>MoE-Multi</td>\n",
       "      <td>Language</td>\n",
       "      <td>Language modeling,Translation</td>\n",
       "      <td>N Shazeer, A Mirhoseini, K Maziarz, A Davis</td>\n",
       "      <td>Highly cited,SOTA improvement</td>\n",
       "      <td>\"On large language modeling and machine transl...</td>\n",
       "      <td>Unreleased</td>\n",
       "      <td>https://arxiv.org/abs/1701.06538</td>\n",
       "      <td>2037.0</td>\n",
       "      <td>Outrageously Large Neural Networks: The Sparse...</td>\n",
       "      <td>...</td>\n",
       "      <td>NaN</td>\n",
       "      <td>3538.189418</td>\n",
       "      <td>1519.646471</td>\n",
       "      <td>972.573741</td>\n",
       "      <td>584.594865</td>\n",
       "      <td>461.374341</td>\n",
       "      <td>42.949834</td>\n",
       "      <td>27.487894</td>\n",
       "      <td>16.522430</td>\n",
       "      <td>13.039843</td>\n",
       "    </tr>\n",
       "  </tbody>\n",
       "</table>\n",
       "<p>5 rows × 107 columns</p>\n",
       "</div>"
      ],
      "text/plain": [
       "                      Model    Domain                           Task  \\\n",
       "2061  DeepSpeech2 (English)    Speech             Speech recognition   \n",
       "2001                   GNMT  Language                    Translation   \n",
       "2000               Xception    Vision           Image classification   \n",
       "1985                PolyNet    Vision           Image classification   \n",
       "1965              MoE-Multi  Language  Language modeling,Translation   \n",
       "\n",
       "                                                Authors  \\\n",
       "2061  Dario Amodei, Rishita Anubhai, Eric Battenberg...   \n",
       "2001  Yonghui Wu, Mike Schuster, Zhifeng Chen, Quoc ...   \n",
       "2000                                   François Chollet   \n",
       "1985                        X Zhang, Z Li, C Change Loy   \n",
       "1965        N Shazeer, A Mirhoseini, K Maziarz, A Davis   \n",
       "\n",
       "                Notability criteria  \\\n",
       "2061                   Highly cited   \n",
       "2001                   Highly cited   \n",
       "2000                   Highly cited   \n",
       "1985               SOTA improvement   \n",
       "1965  Highly cited,SOTA improvement   \n",
       "\n",
       "                              Notability criteria notes  \\\n",
       "2061                                                NaN   \n",
       "2001                                                NaN   \n",
       "2000                                                NaN   \n",
       "1985  \"The Very Deep PolyNet, designed following thi...   \n",
       "1965  \"On large language modeling and machine transl...   \n",
       "\n",
       "         Model accessibility                              Link  Citations  \\\n",
       "2061                     NaN  https://arxiv.org/abs/1512.02595     2853.0   \n",
       "2001  Hosted access (no API)  https://arxiv.org/abs/1609.08144     6483.0   \n",
       "2000                     NaN  https://arxiv.org/abs/1610.02357    13038.0   \n",
       "1985                     NaN  https://arxiv.org/abs/1611.05725      282.0   \n",
       "1965              Unreleased  https://arxiv.org/abs/1701.06538     2037.0   \n",
       "\n",
       "                                              Reference  ... PTB ppl  \\\n",
       "2061  Deep Speech 2: End-to-End Speech Recognition i...  ...     NaN   \n",
       "2001  Google's Neural Machine Translation System: Br...  ...     NaN   \n",
       "2000  Xception: Deep Learning with Depthwise Separab...  ...     NaN   \n",
       "1985  PolyNet: A Pursuit of Structural Diversity in ...  ...     NaN   \n",
       "1965  Outrageously Large Neural Networks: The Sparse...  ...     NaN   \n",
       "\n",
       "               Cost  AI accelerator chip cost Other server components cost  \\\n",
       "2061     185.456639                 63.953273                    40.930095   \n",
       "2001  177459.232941              77894.044829                 49852.188691   \n",
       "2000   11554.506253               5064.230483                  3241.107509   \n",
       "1985     563.599706                178.564122                   114.281038   \n",
       "1965    3538.189418               1519.646471                   972.573741   \n",
       "\n",
       "      Cluster-level interconnect cost   Energy cost  \\\n",
       "2061                        24.602271     55.971000   \n",
       "2001                     29965.165887  19747.833534   \n",
       "2000                      1948.165702   1301.002560   \n",
       "1985                        68.692074    202.062472   \n",
       "1965                       584.594865    461.374341   \n",
       "\n",
       "     AI accelerator chip cost (%) Other server components cost (%)  \\\n",
       "2061                    34.484219                        22.069900   \n",
       "2001                    43.894050                        28.092192   \n",
       "2000                    43.829051                        28.050593   \n",
       "1985                    31.682792                        20.276987   \n",
       "1965                    42.949834                        27.487894   \n",
       "\n",
       "      Cluster-level interconnect cost (%) Energy cost (%)  \n",
       "2061                            13.265781       30.180101  \n",
       "2001                            16.885662       11.128096  \n",
       "2000                            16.860657       11.259698  \n",
       "1985                            12.188096       35.852125  \n",
       "1965                            16.522430       13.039843  \n",
       "\n",
       "[5 rows x 107 columns]"
      ]
     },
     "execution_count": 33,
     "metadata": {},
     "output_type": "execute_result"
    }
   ],
   "source": [
    "filtered_component_cost_df.head()"
   ]
  },
  {
   "cell_type": "code",
   "execution_count": 34,
   "metadata": {},
   "outputs": [],
   "source": [
    "filtered_component_cost_df.to_csv(results_dir + 'cost_components.csv', index=False)"
   ]
  },
  {
   "cell_type": "code",
   "execution_count": null,
   "metadata": {},
   "outputs": [
    {
     "data": {
      "text/plain": [
       "AI accelerator chip cost (%)           45.038389\n",
       "Other server components cost (%)       29.130089\n",
       "Cluster-level interconnect cost (%)    17.397544\n",
       "Energy cost (%)                         8.433978\n",
       "dtype: float64"
      ]
     },
     "execution_count": 35,
     "metadata": {},
     "output_type": "execute_result"
    }
   ],
   "source": [
    "# Average percentage for each component\n",
    "filtered_component_cost_df[cost_component_pc_names].mean()"
   ]
  },
  {
   "cell_type": "code",
   "execution_count": null,
   "metadata": {},
   "outputs": [
    {
     "data": {
      "application/vnd.plotly.v1+json": {
       "config": {
        "plotlyServerURL": "https://plot.ly"
       },
       "data": [
        {
         "alignmentgroup": "True",
         "hovertemplate": "Model=%{x}<br>Energy cost (%)=%{y}<extra></extra>",
         "legendgroup": "",
         "marker": {
          "color": "#636efa",
          "pattern": {
           "shape": ""
          }
         },
         "name": "",
         "offsetgroup": "",
         "orientation": "v",
         "showlegend": false,
         "textposition": "auto",
         "type": "bar",
         "x": [
          "DeepSpeech2 (English)",
          "GNMT",
          "Xception",
          "PolyNet",
          "MoE-Multi",
          "JFT",
          "AlphaGo Zero",
          "AlphaGo Master",
          "ResNeXt-101 32x48d",
          "BigGAN-deep 512x512",
          "GPT-2 (1.5B)",
          "MnasNet-A1 + SSDLite",
          "XLNet",
          "RoBERTa Large",
          "Megatron-BERT",
          "Megatron-LM (8.3B)",
          "T5-11B",
          "T5-3B",
          "AlphaStar",
          "XLM-RoBERTa",
          "Noisy Student (L2)",
          "OpenAI Five Rerun",
          "OpenAI Five",
          "Meena",
          "GPT-3 175B (davinci)",
          "iGPT-XL",
          "GShard (dense)",
          "DALL-E",
          "Switch",
          "Meta Pseudo Labels",
          "ProtT5-XXL",
          "ByT5-XXL",
          "Jurassic-1-Jumbo",
          "HyperCLOVA 82B",
          "Megatron-Turing NLG 530B",
          "Gopher (280B)",
          "GLaM",
          "LaMDA",
          "PaLM (540B)",
          "OPT-175B",
          "Parti",
          "GPT-3.5",
          "GPT-4",
          "PaLM 2",
          "Falcon-180B",
          "Amazon Titan",
          "Inflection-2",
          "Gemini 1.0 Ultra",
          "Gemini 1.5 Pro",
          "MegaScale (Production)",
          "Mistral Large",
          "Inflection-2.5",
          "Nemotron-4 340B",
          "Llama 3.1-405B",
          "Grok-2"
         ],
         "xaxis": "x",
         "y": [
          30.180100549856547,
          11.128095848663497,
          11.259698437165122,
          35.85212516060279,
          13.039842885426372,
          13.82651802103494,
          3.4599980971436843,
          3.513457348006879,
          3.691772976198387,
          5.542936296527881,
          6.72716346584668,
          6.66188707275859,
          6.52061164970505,
          3.499884084887533,
          3.0500108943764594,
          4.196360590736189,
          7.417844446378501,
          7.339432819246435,
          7.321446525621678,
          3.8040475564365464,
          7.626576697269825,
          9.872110466244639,
          7.997022544770563,
          7.8181649121817065,
          4.431147507785614,
          5.094692639486611,
          8.770479602753008,
          6.460241637852924,
          11.07634965379524,
          11.6541349873815,
          12.03190191065719,
          12.257905185025823,
          6.15681886653933,
          6.3482171243619,
          4.62363832897406,
          14.167789289617316,
          2.7829862446424647,
          16.598632334723266,
          3.5114762364471517,
          6.291407572614974,
          3.8524063849667285,
          8.554419606667391,
          8.714747578920583,
          4.904424087351839,
          10.57045316471989,
          11.284606710105637,
          5.585495795283402,
          5.3061508261993575,
          6.19927562666527,
          14.433904645080045,
          5.702999933753666,
          6.099848002323679,
          6.31043372535685,
          5.7898035296365125,
          6.954898414239817
         ],
         "yaxis": "y"
        }
       ],
       "layout": {
        "autosize": false,
        "barmode": "stack",
        "height": 600,
        "legend": {
         "tracegroupgap": 0
        },
        "margin": {
         "b": 10,
         "l": 10,
         "r": 10,
         "t": 40
        },
        "template": {
         "data": {
          "bar": [
           {
            "error_x": {
             "color": "#2a3f5f"
            },
            "error_y": {
             "color": "#2a3f5f"
            },
            "marker": {
             "line": {
              "color": "#E5ECF6",
              "width": 0.5
             },
             "pattern": {
              "fillmode": "overlay",
              "size": 10,
              "solidity": 0.2
             }
            },
            "type": "bar"
           }
          ],
          "barpolar": [
           {
            "marker": {
             "line": {
              "color": "#E5ECF6",
              "width": 0.5
             },
             "pattern": {
              "fillmode": "overlay",
              "size": 10,
              "solidity": 0.2
             }
            },
            "type": "barpolar"
           }
          ],
          "carpet": [
           {
            "aaxis": {
             "endlinecolor": "#2a3f5f",
             "gridcolor": "white",
             "linecolor": "white",
             "minorgridcolor": "white",
             "startlinecolor": "#2a3f5f"
            },
            "baxis": {
             "endlinecolor": "#2a3f5f",
             "gridcolor": "white",
             "linecolor": "white",
             "minorgridcolor": "white",
             "startlinecolor": "#2a3f5f"
            },
            "type": "carpet"
           }
          ],
          "choropleth": [
           {
            "colorbar": {
             "outlinewidth": 0,
             "ticks": ""
            },
            "type": "choropleth"
           }
          ],
          "contour": [
           {
            "colorbar": {
             "outlinewidth": 0,
             "ticks": ""
            },
            "colorscale": [
             [
              0,
              "#0d0887"
             ],
             [
              0.1111111111111111,
              "#46039f"
             ],
             [
              0.2222222222222222,
              "#7201a8"
             ],
             [
              0.3333333333333333,
              "#9c179e"
             ],
             [
              0.4444444444444444,
              "#bd3786"
             ],
             [
              0.5555555555555556,
              "#d8576b"
             ],
             [
              0.6666666666666666,
              "#ed7953"
             ],
             [
              0.7777777777777778,
              "#fb9f3a"
             ],
             [
              0.8888888888888888,
              "#fdca26"
             ],
             [
              1,
              "#f0f921"
             ]
            ],
            "type": "contour"
           }
          ],
          "contourcarpet": [
           {
            "colorbar": {
             "outlinewidth": 0,
             "ticks": ""
            },
            "type": "contourcarpet"
           }
          ],
          "heatmap": [
           {
            "colorbar": {
             "outlinewidth": 0,
             "ticks": ""
            },
            "colorscale": [
             [
              0,
              "#0d0887"
             ],
             [
              0.1111111111111111,
              "#46039f"
             ],
             [
              0.2222222222222222,
              "#7201a8"
             ],
             [
              0.3333333333333333,
              "#9c179e"
             ],
             [
              0.4444444444444444,
              "#bd3786"
             ],
             [
              0.5555555555555556,
              "#d8576b"
             ],
             [
              0.6666666666666666,
              "#ed7953"
             ],
             [
              0.7777777777777778,
              "#fb9f3a"
             ],
             [
              0.8888888888888888,
              "#fdca26"
             ],
             [
              1,
              "#f0f921"
             ]
            ],
            "type": "heatmap"
           }
          ],
          "heatmapgl": [
           {
            "colorbar": {
             "outlinewidth": 0,
             "ticks": ""
            },
            "colorscale": [
             [
              0,
              "#0d0887"
             ],
             [
              0.1111111111111111,
              "#46039f"
             ],
             [
              0.2222222222222222,
              "#7201a8"
             ],
             [
              0.3333333333333333,
              "#9c179e"
             ],
             [
              0.4444444444444444,
              "#bd3786"
             ],
             [
              0.5555555555555556,
              "#d8576b"
             ],
             [
              0.6666666666666666,
              "#ed7953"
             ],
             [
              0.7777777777777778,
              "#fb9f3a"
             ],
             [
              0.8888888888888888,
              "#fdca26"
             ],
             [
              1,
              "#f0f921"
             ]
            ],
            "type": "heatmapgl"
           }
          ],
          "histogram": [
           {
            "marker": {
             "pattern": {
              "fillmode": "overlay",
              "size": 10,
              "solidity": 0.2
             }
            },
            "type": "histogram"
           }
          ],
          "histogram2d": [
           {
            "colorbar": {
             "outlinewidth": 0,
             "ticks": ""
            },
            "colorscale": [
             [
              0,
              "#0d0887"
             ],
             [
              0.1111111111111111,
              "#46039f"
             ],
             [
              0.2222222222222222,
              "#7201a8"
             ],
             [
              0.3333333333333333,
              "#9c179e"
             ],
             [
              0.4444444444444444,
              "#bd3786"
             ],
             [
              0.5555555555555556,
              "#d8576b"
             ],
             [
              0.6666666666666666,
              "#ed7953"
             ],
             [
              0.7777777777777778,
              "#fb9f3a"
             ],
             [
              0.8888888888888888,
              "#fdca26"
             ],
             [
              1,
              "#f0f921"
             ]
            ],
            "type": "histogram2d"
           }
          ],
          "histogram2dcontour": [
           {
            "colorbar": {
             "outlinewidth": 0,
             "ticks": ""
            },
            "colorscale": [
             [
              0,
              "#0d0887"
             ],
             [
              0.1111111111111111,
              "#46039f"
             ],
             [
              0.2222222222222222,
              "#7201a8"
             ],
             [
              0.3333333333333333,
              "#9c179e"
             ],
             [
              0.4444444444444444,
              "#bd3786"
             ],
             [
              0.5555555555555556,
              "#d8576b"
             ],
             [
              0.6666666666666666,
              "#ed7953"
             ],
             [
              0.7777777777777778,
              "#fb9f3a"
             ],
             [
              0.8888888888888888,
              "#fdca26"
             ],
             [
              1,
              "#f0f921"
             ]
            ],
            "type": "histogram2dcontour"
           }
          ],
          "mesh3d": [
           {
            "colorbar": {
             "outlinewidth": 0,
             "ticks": ""
            },
            "type": "mesh3d"
           }
          ],
          "parcoords": [
           {
            "line": {
             "colorbar": {
              "outlinewidth": 0,
              "ticks": ""
             }
            },
            "type": "parcoords"
           }
          ],
          "pie": [
           {
            "automargin": true,
            "type": "pie"
           }
          ],
          "scatter": [
           {
            "fillpattern": {
             "fillmode": "overlay",
             "size": 10,
             "solidity": 0.2
            },
            "type": "scatter"
           }
          ],
          "scatter3d": [
           {
            "line": {
             "colorbar": {
              "outlinewidth": 0,
              "ticks": ""
             }
            },
            "marker": {
             "colorbar": {
              "outlinewidth": 0,
              "ticks": ""
             }
            },
            "type": "scatter3d"
           }
          ],
          "scattercarpet": [
           {
            "marker": {
             "colorbar": {
              "outlinewidth": 0,
              "ticks": ""
             }
            },
            "type": "scattercarpet"
           }
          ],
          "scattergeo": [
           {
            "marker": {
             "colorbar": {
              "outlinewidth": 0,
              "ticks": ""
             }
            },
            "type": "scattergeo"
           }
          ],
          "scattergl": [
           {
            "marker": {
             "colorbar": {
              "outlinewidth": 0,
              "ticks": ""
             }
            },
            "type": "scattergl"
           }
          ],
          "scattermapbox": [
           {
            "marker": {
             "colorbar": {
              "outlinewidth": 0,
              "ticks": ""
             }
            },
            "type": "scattermapbox"
           }
          ],
          "scatterpolar": [
           {
            "marker": {
             "colorbar": {
              "outlinewidth": 0,
              "ticks": ""
             }
            },
            "type": "scatterpolar"
           }
          ],
          "scatterpolargl": [
           {
            "marker": {
             "colorbar": {
              "outlinewidth": 0,
              "ticks": ""
             }
            },
            "type": "scatterpolargl"
           }
          ],
          "scatterternary": [
           {
            "marker": {
             "colorbar": {
              "outlinewidth": 0,
              "ticks": ""
             }
            },
            "type": "scatterternary"
           }
          ],
          "surface": [
           {
            "colorbar": {
             "outlinewidth": 0,
             "ticks": ""
            },
            "colorscale": [
             [
              0,
              "#0d0887"
             ],
             [
              0.1111111111111111,
              "#46039f"
             ],
             [
              0.2222222222222222,
              "#7201a8"
             ],
             [
              0.3333333333333333,
              "#9c179e"
             ],
             [
              0.4444444444444444,
              "#bd3786"
             ],
             [
              0.5555555555555556,
              "#d8576b"
             ],
             [
              0.6666666666666666,
              "#ed7953"
             ],
             [
              0.7777777777777778,
              "#fb9f3a"
             ],
             [
              0.8888888888888888,
              "#fdca26"
             ],
             [
              1,
              "#f0f921"
             ]
            ],
            "type": "surface"
           }
          ],
          "table": [
           {
            "cells": {
             "fill": {
              "color": "#EBF0F8"
             },
             "line": {
              "color": "white"
             }
            },
            "header": {
             "fill": {
              "color": "#C8D4E3"
             },
             "line": {
              "color": "white"
             }
            },
            "type": "table"
           }
          ]
         },
         "layout": {
          "annotationdefaults": {
           "arrowcolor": "#2a3f5f",
           "arrowhead": 0,
           "arrowwidth": 1
          },
          "autotypenumbers": "strict",
          "coloraxis": {
           "colorbar": {
            "outlinewidth": 0,
            "ticks": ""
           }
          },
          "colorscale": {
           "diverging": [
            [
             0,
             "#8e0152"
            ],
            [
             0.1,
             "#c51b7d"
            ],
            [
             0.2,
             "#de77ae"
            ],
            [
             0.3,
             "#f1b6da"
            ],
            [
             0.4,
             "#fde0ef"
            ],
            [
             0.5,
             "#f7f7f7"
            ],
            [
             0.6,
             "#e6f5d0"
            ],
            [
             0.7,
             "#b8e186"
            ],
            [
             0.8,
             "#7fbc41"
            ],
            [
             0.9,
             "#4d9221"
            ],
            [
             1,
             "#276419"
            ]
           ],
           "sequential": [
            [
             0,
             "#0d0887"
            ],
            [
             0.1111111111111111,
             "#46039f"
            ],
            [
             0.2222222222222222,
             "#7201a8"
            ],
            [
             0.3333333333333333,
             "#9c179e"
            ],
            [
             0.4444444444444444,
             "#bd3786"
            ],
            [
             0.5555555555555556,
             "#d8576b"
            ],
            [
             0.6666666666666666,
             "#ed7953"
            ],
            [
             0.7777777777777778,
             "#fb9f3a"
            ],
            [
             0.8888888888888888,
             "#fdca26"
            ],
            [
             1,
             "#f0f921"
            ]
           ],
           "sequentialminus": [
            [
             0,
             "#0d0887"
            ],
            [
             0.1111111111111111,
             "#46039f"
            ],
            [
             0.2222222222222222,
             "#7201a8"
            ],
            [
             0.3333333333333333,
             "#9c179e"
            ],
            [
             0.4444444444444444,
             "#bd3786"
            ],
            [
             0.5555555555555556,
             "#d8576b"
            ],
            [
             0.6666666666666666,
             "#ed7953"
            ],
            [
             0.7777777777777778,
             "#fb9f3a"
            ],
            [
             0.8888888888888888,
             "#fdca26"
            ],
            [
             1,
             "#f0f921"
            ]
           ]
          },
          "colorway": [
           "#636efa",
           "#EF553B",
           "#00cc96",
           "#ab63fa",
           "#FFA15A",
           "#19d3f3",
           "#FF6692",
           "#B6E880",
           "#FF97FF",
           "#FECB52"
          ],
          "font": {
           "color": "#2a3f5f"
          },
          "geo": {
           "bgcolor": "white",
           "lakecolor": "white",
           "landcolor": "#E5ECF6",
           "showlakes": true,
           "showland": true,
           "subunitcolor": "white"
          },
          "hoverlabel": {
           "align": "left"
          },
          "hovermode": "closest",
          "mapbox": {
           "style": "light"
          },
          "paper_bgcolor": "white",
          "plot_bgcolor": "#E5ECF6",
          "polar": {
           "angularaxis": {
            "gridcolor": "white",
            "linecolor": "white",
            "ticks": ""
           },
           "bgcolor": "#E5ECF6",
           "radialaxis": {
            "gridcolor": "white",
            "linecolor": "white",
            "ticks": ""
           }
          },
          "scene": {
           "xaxis": {
            "backgroundcolor": "#E5ECF6",
            "gridcolor": "white",
            "gridwidth": 2,
            "linecolor": "white",
            "showbackground": true,
            "ticks": "",
            "zerolinecolor": "white"
           },
           "yaxis": {
            "backgroundcolor": "#E5ECF6",
            "gridcolor": "white",
            "gridwidth": 2,
            "linecolor": "white",
            "showbackground": true,
            "ticks": "",
            "zerolinecolor": "white"
           },
           "zaxis": {
            "backgroundcolor": "#E5ECF6",
            "gridcolor": "white",
            "gridwidth": 2,
            "linecolor": "white",
            "showbackground": true,
            "ticks": "",
            "zerolinecolor": "white"
           }
          },
          "shapedefaults": {
           "line": {
            "color": "#2a3f5f"
           }
          },
          "ternary": {
           "aaxis": {
            "gridcolor": "white",
            "linecolor": "white",
            "ticks": ""
           },
           "baxis": {
            "gridcolor": "white",
            "linecolor": "white",
            "ticks": ""
           },
           "bgcolor": "#E5ECF6",
           "caxis": {
            "gridcolor": "white",
            "linecolor": "white",
            "ticks": ""
           }
          },
          "title": {
           "x": 0.05
          },
          "xaxis": {
           "automargin": true,
           "gridcolor": "white",
           "linecolor": "white",
           "ticks": "",
           "title": {
            "standoff": 15
           },
           "zerolinecolor": "white",
           "zerolinewidth": 2
          },
          "yaxis": {
           "automargin": true,
           "gridcolor": "white",
           "linecolor": "white",
           "ticks": "",
           "title": {
            "standoff": 15
           },
           "zerolinecolor": "white",
           "zerolinewidth": 2
          }
         }
        },
        "width": 800,
        "xaxis": {
         "anchor": "y",
         "domain": [
          0,
          1
         ],
         "title": {
          "text": "Model"
         }
        },
        "yaxis": {
         "anchor": "x",
         "domain": [
          0,
          1
         ],
         "range": [
          0,
          30
         ],
         "title": {
          "text": "Energy cost (% of amortized hardware CapEx + energy)"
         }
        }
       }
      }
     },
     "metadata": {},
     "output_type": "display_data"
    }
   ],
   "source": [
    "fig = px.bar(\n",
    "    filtered_component_cost_df,\n",
    "    x='Model',\n",
    "    y='Energy cost (%)',\n",
    "    barmode='stack',\n",
    "    # labels='Cost %',\n",
    "    # text='Energy cost %',\n",
    ")\n",
    "# axis labels\n",
    "fig.update_xaxes(title_text='Model')\n",
    "fig.update_yaxes(title_text='Energy cost (% of amortized hardware CapEx + energy)')\n",
    "# fig.update_layout(\n",
    "#     legend=dict(\n",
    "#         title_text='Cost component',\n",
    "#         x=0.75,\n",
    "#         y=0.05,\n",
    "#     )\n",
    "# )\n",
    "# limits 0 to 100\n",
    "fig.update_yaxes(range=[0, 30])\n",
    "# size\n",
    "fig.update_layout(\n",
    "    autosize=False,\n",
    "    width=800,\n",
    "    height=600,\n",
    ")\n",
    "\n",
    "# margins\n",
    "fig.update_layout(margin=dict(l=10, r=10, t=40, b=10))\n",
    "\n",
    "save_plot(fig, results_dir, 'energy_percentage')\n",
    "\n",
    "fig.show()"
   ]
  },
  {
   "cell_type": "code",
   "execution_count": null,
   "metadata": {},
   "outputs": [
    {
     "data": {
      "application/vnd.plotly.v1+json": {
       "config": {
        "plotlyServerURL": "https://plot.ly"
       },
       "data": [
        {
         "hovertemplate": "Publication date=%{x}<br>Energy cost=%{y}<br>Model=%{text}<extra></extra>",
         "legendgroup": "",
         "marker": {
          "color": "#636efa",
          "symbol": "circle"
         },
         "mode": "markers+text",
         "name": "",
         "orientation": "v",
         "showlegend": false,
         "text": [
          "DeepSpeech2 (English)",
          "GNMT",
          "Xception",
          "PolyNet",
          "MoE-Multi",
          "JFT",
          "AlphaGo Zero",
          "AlphaGo Master",
          "ResNeXt-101 32x48d",
          "BigGAN-deep 512x512",
          "GPT-2 (1.5B)",
          "MnasNet-A1 + SSDLite",
          "XLNet",
          "RoBERTa Large",
          "Megatron-BERT",
          "Megatron-LM (8.3B)",
          "T5-11B",
          "T5-3B",
          "AlphaStar",
          "XLM-RoBERTa",
          "Noisy Student (L2)",
          "OpenAI Five Rerun",
          "OpenAI Five",
          "Meena",
          "GPT-3 175B (davinci)",
          "iGPT-XL",
          "GShard (dense)",
          "DALL-E",
          "Switch",
          "Meta Pseudo Labels",
          "ProtT5-XXL",
          "ByT5-XXL",
          "Jurassic-1-Jumbo",
          "HyperCLOVA 82B",
          "Megatron-Turing NLG 530B",
          "Gopher (280B)",
          "GLaM",
          "LaMDA",
          "PaLM (540B)",
          "OPT-175B",
          "Parti",
          "GPT-3.5",
          "GPT-4",
          "PaLM 2",
          "Falcon-180B",
          "Amazon Titan",
          "Inflection-2",
          "Gemini 1.0 Ultra",
          "Gemini 1.5 Pro",
          "MegaScale (Production)",
          "Mistral Large",
          "Inflection-2.5",
          "Nemotron-4 340B",
          "Llama 3.1-405B",
          "Grok-2"
         ],
         "type": "scatter",
         "x": [
          "2015-12-08T00:00:00",
          "2016-09-26T00:00:00",
          "2016-10-07T00:00:00",
          "2016-11-17T00:00:00",
          "2017-01-23T00:00:00",
          "2017-07-10T00:00:00",
          "2017-10-18T00:00:00",
          "2017-10-19T00:00:00",
          "2018-05-02T00:00:00",
          "2018-09-28T00:00:00",
          "2019-02-14T00:00:00",
          "2019-05-29T00:00:00",
          "2019-06-01T00:00:00",
          "2019-07-01T00:00:00",
          "2019-09-17T00:00:00",
          "2019-09-17T00:00:00",
          "2019-10-23T00:00:00",
          "2019-10-23T00:00:00",
          "2019-10-30T00:00:00",
          "2019-11-05T00:00:00",
          "2019-11-11T00:00:00",
          "2019-12-13T00:00:00",
          "2019-12-13T00:00:00",
          "2020-01-28T00:00:00",
          "2020-05-28T00:00:00",
          "2020-06-17T00:00:00",
          "2020-06-30T00:00:00",
          "2021-01-05T00:00:00",
          "2021-01-11T00:00:00",
          "2021-03-01T00:00:00",
          "2021-05-04T00:00:00",
          "2021-05-28T00:00:00",
          "2021-08-11T00:00:00",
          "2021-09-10T00:00:00",
          "2021-10-11T00:00:00",
          "2021-12-08T00:00:00",
          "2021-12-13T00:00:00",
          "2022-02-10T00:00:00",
          "2022-04-04T00:00:00",
          "2022-05-02T00:00:00",
          "2022-06-22T00:00:00",
          "2022-11-28T00:00:00",
          "2023-03-15T00:00:00",
          "2023-05-10T00:00:00",
          "2023-09-06T00:00:00",
          "2023-09-28T00:00:00",
          "2023-11-22T00:00:00",
          "2023-12-06T00:00:00",
          "2024-02-15T00:00:00",
          "2024-02-23T00:00:00",
          "2024-02-26T00:00:00",
          "2024-03-07T00:00:00",
          "2024-06-14T00:00:00",
          "2024-07-23T00:00:00",
          "2024-08-13T00:00:00"
         ],
         "xaxis": "x",
         "y": [
          55.971,
          19747.833534,
          1301.0025600000001,
          202.06247197728288,
          461.37434112,
          2206.8288000000002,
          19634.11117874396,
          11516.183509855131,
          4757.19552,
          266.0592033792,
          279.9740487806336,
          589.1173618176,
          794.3097075609757,
          2876.544,
          5093.879999999999,
          4453.74,
          5257.33123673835,
          1154.8929512323443,
          8640.3879733248,
          2879.873333333333,
          3141.9592630272,
          29747.983870967742,
          313490.99519999995,
          15386.834276352001,
          92546.25,
          5095.138888888889,
          21541.567986892802,
          7811.574074074075,
          14907.004961587203,
          6073.224243609601,
          9971.122261788621,
          10958.763951219515,
          48043.258101851854,
          36021.78373828125,
          166023.85800000004,
          84657.06521395202,
          14228.596643069954,
          36920.20005273601,
          99071.23993863782,
          45315.57888,
          12582.195778373498,
          387893.5185185185,
          3499488.28125,
          225762.3968426667,
          1086359.04,
          856413.0432000002,
          721939.847566111,
          1507286.9560320002,
          485973.859364864,
          380225.66400000005,
          807764.8644096344,
          721290.7508000674,
          1302238.08,
          2975353.5651840004,
          2134807.1416540337
         ],
         "yaxis": "y"
        }
       ],
       "layout": {
        "autosize": false,
        "height": 600,
        "legend": {
         "tracegroupgap": 0
        },
        "margin": {
         "b": 10,
         "l": 10,
         "r": 10,
         "t": 40
        },
        "template": {
         "data": {
          "bar": [
           {
            "error_x": {
             "color": "#2a3f5f"
            },
            "error_y": {
             "color": "#2a3f5f"
            },
            "marker": {
             "line": {
              "color": "#E5ECF6",
              "width": 0.5
             },
             "pattern": {
              "fillmode": "overlay",
              "size": 10,
              "solidity": 0.2
             }
            },
            "type": "bar"
           }
          ],
          "barpolar": [
           {
            "marker": {
             "line": {
              "color": "#E5ECF6",
              "width": 0.5
             },
             "pattern": {
              "fillmode": "overlay",
              "size": 10,
              "solidity": 0.2
             }
            },
            "type": "barpolar"
           }
          ],
          "carpet": [
           {
            "aaxis": {
             "endlinecolor": "#2a3f5f",
             "gridcolor": "white",
             "linecolor": "white",
             "minorgridcolor": "white",
             "startlinecolor": "#2a3f5f"
            },
            "baxis": {
             "endlinecolor": "#2a3f5f",
             "gridcolor": "white",
             "linecolor": "white",
             "minorgridcolor": "white",
             "startlinecolor": "#2a3f5f"
            },
            "type": "carpet"
           }
          ],
          "choropleth": [
           {
            "colorbar": {
             "outlinewidth": 0,
             "ticks": ""
            },
            "type": "choropleth"
           }
          ],
          "contour": [
           {
            "colorbar": {
             "outlinewidth": 0,
             "ticks": ""
            },
            "colorscale": [
             [
              0,
              "#0d0887"
             ],
             [
              0.1111111111111111,
              "#46039f"
             ],
             [
              0.2222222222222222,
              "#7201a8"
             ],
             [
              0.3333333333333333,
              "#9c179e"
             ],
             [
              0.4444444444444444,
              "#bd3786"
             ],
             [
              0.5555555555555556,
              "#d8576b"
             ],
             [
              0.6666666666666666,
              "#ed7953"
             ],
             [
              0.7777777777777778,
              "#fb9f3a"
             ],
             [
              0.8888888888888888,
              "#fdca26"
             ],
             [
              1,
              "#f0f921"
             ]
            ],
            "type": "contour"
           }
          ],
          "contourcarpet": [
           {
            "colorbar": {
             "outlinewidth": 0,
             "ticks": ""
            },
            "type": "contourcarpet"
           }
          ],
          "heatmap": [
           {
            "colorbar": {
             "outlinewidth": 0,
             "ticks": ""
            },
            "colorscale": [
             [
              0,
              "#0d0887"
             ],
             [
              0.1111111111111111,
              "#46039f"
             ],
             [
              0.2222222222222222,
              "#7201a8"
             ],
             [
              0.3333333333333333,
              "#9c179e"
             ],
             [
              0.4444444444444444,
              "#bd3786"
             ],
             [
              0.5555555555555556,
              "#d8576b"
             ],
             [
              0.6666666666666666,
              "#ed7953"
             ],
             [
              0.7777777777777778,
              "#fb9f3a"
             ],
             [
              0.8888888888888888,
              "#fdca26"
             ],
             [
              1,
              "#f0f921"
             ]
            ],
            "type": "heatmap"
           }
          ],
          "heatmapgl": [
           {
            "colorbar": {
             "outlinewidth": 0,
             "ticks": ""
            },
            "colorscale": [
             [
              0,
              "#0d0887"
             ],
             [
              0.1111111111111111,
              "#46039f"
             ],
             [
              0.2222222222222222,
              "#7201a8"
             ],
             [
              0.3333333333333333,
              "#9c179e"
             ],
             [
              0.4444444444444444,
              "#bd3786"
             ],
             [
              0.5555555555555556,
              "#d8576b"
             ],
             [
              0.6666666666666666,
              "#ed7953"
             ],
             [
              0.7777777777777778,
              "#fb9f3a"
             ],
             [
              0.8888888888888888,
              "#fdca26"
             ],
             [
              1,
              "#f0f921"
             ]
            ],
            "type": "heatmapgl"
           }
          ],
          "histogram": [
           {
            "marker": {
             "pattern": {
              "fillmode": "overlay",
              "size": 10,
              "solidity": 0.2
             }
            },
            "type": "histogram"
           }
          ],
          "histogram2d": [
           {
            "colorbar": {
             "outlinewidth": 0,
             "ticks": ""
            },
            "colorscale": [
             [
              0,
              "#0d0887"
             ],
             [
              0.1111111111111111,
              "#46039f"
             ],
             [
              0.2222222222222222,
              "#7201a8"
             ],
             [
              0.3333333333333333,
              "#9c179e"
             ],
             [
              0.4444444444444444,
              "#bd3786"
             ],
             [
              0.5555555555555556,
              "#d8576b"
             ],
             [
              0.6666666666666666,
              "#ed7953"
             ],
             [
              0.7777777777777778,
              "#fb9f3a"
             ],
             [
              0.8888888888888888,
              "#fdca26"
             ],
             [
              1,
              "#f0f921"
             ]
            ],
            "type": "histogram2d"
           }
          ],
          "histogram2dcontour": [
           {
            "colorbar": {
             "outlinewidth": 0,
             "ticks": ""
            },
            "colorscale": [
             [
              0,
              "#0d0887"
             ],
             [
              0.1111111111111111,
              "#46039f"
             ],
             [
              0.2222222222222222,
              "#7201a8"
             ],
             [
              0.3333333333333333,
              "#9c179e"
             ],
             [
              0.4444444444444444,
              "#bd3786"
             ],
             [
              0.5555555555555556,
              "#d8576b"
             ],
             [
              0.6666666666666666,
              "#ed7953"
             ],
             [
              0.7777777777777778,
              "#fb9f3a"
             ],
             [
              0.8888888888888888,
              "#fdca26"
             ],
             [
              1,
              "#f0f921"
             ]
            ],
            "type": "histogram2dcontour"
           }
          ],
          "mesh3d": [
           {
            "colorbar": {
             "outlinewidth": 0,
             "ticks": ""
            },
            "type": "mesh3d"
           }
          ],
          "parcoords": [
           {
            "line": {
             "colorbar": {
              "outlinewidth": 0,
              "ticks": ""
             }
            },
            "type": "parcoords"
           }
          ],
          "pie": [
           {
            "automargin": true,
            "type": "pie"
           }
          ],
          "scatter": [
           {
            "fillpattern": {
             "fillmode": "overlay",
             "size": 10,
             "solidity": 0.2
            },
            "type": "scatter"
           }
          ],
          "scatter3d": [
           {
            "line": {
             "colorbar": {
              "outlinewidth": 0,
              "ticks": ""
             }
            },
            "marker": {
             "colorbar": {
              "outlinewidth": 0,
              "ticks": ""
             }
            },
            "type": "scatter3d"
           }
          ],
          "scattercarpet": [
           {
            "marker": {
             "colorbar": {
              "outlinewidth": 0,
              "ticks": ""
             }
            },
            "type": "scattercarpet"
           }
          ],
          "scattergeo": [
           {
            "marker": {
             "colorbar": {
              "outlinewidth": 0,
              "ticks": ""
             }
            },
            "type": "scattergeo"
           }
          ],
          "scattergl": [
           {
            "marker": {
             "colorbar": {
              "outlinewidth": 0,
              "ticks": ""
             }
            },
            "type": "scattergl"
           }
          ],
          "scattermapbox": [
           {
            "marker": {
             "colorbar": {
              "outlinewidth": 0,
              "ticks": ""
             }
            },
            "type": "scattermapbox"
           }
          ],
          "scatterpolar": [
           {
            "marker": {
             "colorbar": {
              "outlinewidth": 0,
              "ticks": ""
             }
            },
            "type": "scatterpolar"
           }
          ],
          "scatterpolargl": [
           {
            "marker": {
             "colorbar": {
              "outlinewidth": 0,
              "ticks": ""
             }
            },
            "type": "scatterpolargl"
           }
          ],
          "scatterternary": [
           {
            "marker": {
             "colorbar": {
              "outlinewidth": 0,
              "ticks": ""
             }
            },
            "type": "scatterternary"
           }
          ],
          "surface": [
           {
            "colorbar": {
             "outlinewidth": 0,
             "ticks": ""
            },
            "colorscale": [
             [
              0,
              "#0d0887"
             ],
             [
              0.1111111111111111,
              "#46039f"
             ],
             [
              0.2222222222222222,
              "#7201a8"
             ],
             [
              0.3333333333333333,
              "#9c179e"
             ],
             [
              0.4444444444444444,
              "#bd3786"
             ],
             [
              0.5555555555555556,
              "#d8576b"
             ],
             [
              0.6666666666666666,
              "#ed7953"
             ],
             [
              0.7777777777777778,
              "#fb9f3a"
             ],
             [
              0.8888888888888888,
              "#fdca26"
             ],
             [
              1,
              "#f0f921"
             ]
            ],
            "type": "surface"
           }
          ],
          "table": [
           {
            "cells": {
             "fill": {
              "color": "#EBF0F8"
             },
             "line": {
              "color": "white"
             }
            },
            "header": {
             "fill": {
              "color": "#C8D4E3"
             },
             "line": {
              "color": "white"
             }
            },
            "type": "table"
           }
          ]
         },
         "layout": {
          "annotationdefaults": {
           "arrowcolor": "#2a3f5f",
           "arrowhead": 0,
           "arrowwidth": 1
          },
          "autotypenumbers": "strict",
          "coloraxis": {
           "colorbar": {
            "outlinewidth": 0,
            "ticks": ""
           }
          },
          "colorscale": {
           "diverging": [
            [
             0,
             "#8e0152"
            ],
            [
             0.1,
             "#c51b7d"
            ],
            [
             0.2,
             "#de77ae"
            ],
            [
             0.3,
             "#f1b6da"
            ],
            [
             0.4,
             "#fde0ef"
            ],
            [
             0.5,
             "#f7f7f7"
            ],
            [
             0.6,
             "#e6f5d0"
            ],
            [
             0.7,
             "#b8e186"
            ],
            [
             0.8,
             "#7fbc41"
            ],
            [
             0.9,
             "#4d9221"
            ],
            [
             1,
             "#276419"
            ]
           ],
           "sequential": [
            [
             0,
             "#0d0887"
            ],
            [
             0.1111111111111111,
             "#46039f"
            ],
            [
             0.2222222222222222,
             "#7201a8"
            ],
            [
             0.3333333333333333,
             "#9c179e"
            ],
            [
             0.4444444444444444,
             "#bd3786"
            ],
            [
             0.5555555555555556,
             "#d8576b"
            ],
            [
             0.6666666666666666,
             "#ed7953"
            ],
            [
             0.7777777777777778,
             "#fb9f3a"
            ],
            [
             0.8888888888888888,
             "#fdca26"
            ],
            [
             1,
             "#f0f921"
            ]
           ],
           "sequentialminus": [
            [
             0,
             "#0d0887"
            ],
            [
             0.1111111111111111,
             "#46039f"
            ],
            [
             0.2222222222222222,
             "#7201a8"
            ],
            [
             0.3333333333333333,
             "#9c179e"
            ],
            [
             0.4444444444444444,
             "#bd3786"
            ],
            [
             0.5555555555555556,
             "#d8576b"
            ],
            [
             0.6666666666666666,
             "#ed7953"
            ],
            [
             0.7777777777777778,
             "#fb9f3a"
            ],
            [
             0.8888888888888888,
             "#fdca26"
            ],
            [
             1,
             "#f0f921"
            ]
           ]
          },
          "colorway": [
           "#636efa",
           "#EF553B",
           "#00cc96",
           "#ab63fa",
           "#FFA15A",
           "#19d3f3",
           "#FF6692",
           "#B6E880",
           "#FF97FF",
           "#FECB52"
          ],
          "font": {
           "color": "#2a3f5f"
          },
          "geo": {
           "bgcolor": "white",
           "lakecolor": "white",
           "landcolor": "#E5ECF6",
           "showlakes": true,
           "showland": true,
           "subunitcolor": "white"
          },
          "hoverlabel": {
           "align": "left"
          },
          "hovermode": "closest",
          "mapbox": {
           "style": "light"
          },
          "paper_bgcolor": "white",
          "plot_bgcolor": "#E5ECF6",
          "polar": {
           "angularaxis": {
            "gridcolor": "white",
            "linecolor": "white",
            "ticks": ""
           },
           "bgcolor": "#E5ECF6",
           "radialaxis": {
            "gridcolor": "white",
            "linecolor": "white",
            "ticks": ""
           }
          },
          "scene": {
           "xaxis": {
            "backgroundcolor": "#E5ECF6",
            "gridcolor": "white",
            "gridwidth": 2,
            "linecolor": "white",
            "showbackground": true,
            "ticks": "",
            "zerolinecolor": "white"
           },
           "yaxis": {
            "backgroundcolor": "#E5ECF6",
            "gridcolor": "white",
            "gridwidth": 2,
            "linecolor": "white",
            "showbackground": true,
            "ticks": "",
            "zerolinecolor": "white"
           },
           "zaxis": {
            "backgroundcolor": "#E5ECF6",
            "gridcolor": "white",
            "gridwidth": 2,
            "linecolor": "white",
            "showbackground": true,
            "ticks": "",
            "zerolinecolor": "white"
           }
          },
          "shapedefaults": {
           "line": {
            "color": "#2a3f5f"
           }
          },
          "ternary": {
           "aaxis": {
            "gridcolor": "white",
            "linecolor": "white",
            "ticks": ""
           },
           "baxis": {
            "gridcolor": "white",
            "linecolor": "white",
            "ticks": ""
           },
           "bgcolor": "#E5ECF6",
           "caxis": {
            "gridcolor": "white",
            "linecolor": "white",
            "ticks": ""
           }
          },
          "title": {
           "x": 0.05
          },
          "xaxis": {
           "automargin": true,
           "gridcolor": "white",
           "linecolor": "white",
           "ticks": "",
           "title": {
            "standoff": 15
           },
           "zerolinecolor": "white",
           "zerolinewidth": 2
          },
          "yaxis": {
           "automargin": true,
           "gridcolor": "white",
           "linecolor": "white",
           "ticks": "",
           "title": {
            "standoff": 15
           },
           "zerolinecolor": "white",
           "zerolinewidth": 2
          }
         }
        },
        "width": 800,
        "xaxis": {
         "anchor": "y",
         "domain": [
          0,
          1
         ],
         "title": {
          "text": "Model"
         }
        },
        "yaxis": {
         "anchor": "x",
         "domain": [
          0,
          1
         ],
         "title": {
          "text": "Energy cost"
         },
         "type": "log"
        }
       }
      }
     },
     "metadata": {},
     "output_type": "display_data"
    }
   ],
   "source": [
    "fig = px.scatter(\n",
    "    filtered_component_cost_df,\n",
    "    x='Publication date',\n",
    "    y='Energy cost',\n",
    "    text='Model',\n",
    ")\n",
    "# axis labels\n",
    "fig.update_xaxes(title_text='Model')\n",
    "fig.update_yaxes(title_text='Energy cost')\n",
    "# log y\n",
    "fig.update_yaxes(type='log')\n",
    "# size\n",
    "fig.update_layout(\n",
    "    autosize=False,\n",
    "    width=800,\n",
    "    height=600,\n",
    ")\n",
    "\n",
    "# margins\n",
    "fig.update_layout(margin=dict(l=10, r=10, t=40, b=10))\n",
    "\n",
    "save_plot(fig, results_dir, 'energy_cost')\n",
    "\n",
    "fig.show()"
   ]
  },
  {
   "cell_type": "code",
   "execution_count": null,
   "metadata": {},
   "outputs": [
    {
     "data": {
      "application/vnd.plotly.v1+json": {
       "config": {
        "plotlyServerURL": "https://plot.ly"
       },
       "data": [
        {
         "hovertemplate": "Publication date=%{x}<br>Energy (kWh)=%{y}<br>Model=%{text}<extra></extra>",
         "legendgroup": "",
         "marker": {
          "color": "#636efa",
          "symbol": "circle"
         },
         "mode": "markers+text",
         "name": "",
         "orientation": "v",
         "showlegend": false,
         "text": [
          "DeepSpeech2 (English)",
          "GNMT",
          "Xception",
          "PolyNet",
          "MoE-Multi",
          "JFT",
          "AlphaGo Zero",
          "AlphaGo Master",
          "ResNeXt-101 32x48d",
          "BigGAN-deep 512x512",
          "GPT-2 (1.5B)",
          "MnasNet-A1 + SSDLite",
          "XLNet",
          "RoBERTa Large",
          "Megatron-BERT",
          "Megatron-LM (8.3B)",
          "T5-11B",
          "T5-3B",
          "AlphaStar",
          "XLM-RoBERTa",
          "Noisy Student (L2)",
          "OpenAI Five Rerun",
          "OpenAI Five",
          "Meena",
          "GPT-3 175B (davinci)",
          "iGPT-XL",
          "GShard (dense)",
          "DALL-E",
          "Switch",
          "Meta Pseudo Labels",
          "ProtT5-XXL",
          "ByT5-XXL",
          "Jurassic-1-Jumbo",
          "HyperCLOVA 82B",
          "Megatron-Turing NLG 530B",
          "Gopher (280B)",
          "GLaM",
          "LaMDA",
          "PaLM (540B)",
          "OPT-175B",
          "Parti",
          "GPT-3.5",
          "GPT-4",
          "PaLM 2",
          "Falcon-180B",
          "Amazon Titan",
          "Inflection-2",
          "Gemini 1.0 Ultra",
          "Gemini 1.5 Pro",
          "MegaScale (Production)",
          "Mistral Large",
          "Inflection-2.5",
          "Nemotron-4 340B",
          "Llama 3.1-405B",
          "Grok-2"
         ],
         "type": "scatter",
         "x": [
          "2015-12-08T00:00:00",
          "2016-09-26T00:00:00",
          "2016-10-07T00:00:00",
          "2016-11-17T00:00:00",
          "2017-01-23T00:00:00",
          "2017-07-10T00:00:00",
          "2017-10-18T00:00:00",
          "2017-10-19T00:00:00",
          "2018-05-02T00:00:00",
          "2018-09-28T00:00:00",
          "2019-02-14T00:00:00",
          "2019-05-29T00:00:00",
          "2019-06-01T00:00:00",
          "2019-07-01T00:00:00",
          "2019-09-17T00:00:00",
          "2019-09-17T00:00:00",
          "2019-10-23T00:00:00",
          "2019-10-23T00:00:00",
          "2019-10-30T00:00:00",
          "2019-11-05T00:00:00",
          "2019-11-11T00:00:00",
          "2019-12-13T00:00:00",
          "2019-12-13T00:00:00",
          "2020-01-28T00:00:00",
          "2020-05-28T00:00:00",
          "2020-06-17T00:00:00",
          "2020-06-30T00:00:00",
          "2021-01-05T00:00:00",
          "2021-01-11T00:00:00",
          "2021-03-01T00:00:00",
          "2021-05-04T00:00:00",
          "2021-05-28T00:00:00",
          "2021-08-11T00:00:00",
          "2021-09-10T00:00:00",
          "2021-10-11T00:00:00",
          "2021-12-08T00:00:00",
          "2021-12-13T00:00:00",
          "2022-02-10T00:00:00",
          "2022-04-04T00:00:00",
          "2022-05-02T00:00:00",
          "2022-06-22T00:00:00",
          "2022-11-28T00:00:00",
          "2023-03-15T00:00:00",
          "2023-05-10T00:00:00",
          "2023-09-06T00:00:00",
          "2023-09-28T00:00:00",
          "2023-11-22T00:00:00",
          "2023-12-06T00:00:00",
          "2024-02-15T00:00:00",
          "2024-02-23T00:00:00",
          "2024-02-26T00:00:00",
          "2024-03-07T00:00:00",
          "2024-06-14T00:00:00",
          "2024-07-23T00:00:00",
          "2024-08-13T00:00:00"
         ],
         "xaxis": "x",
         "y": [
          810,
          292127.715,
          19245.600000000002,
          2989.089822149155,
          6706.0224,
          32076.000000000004,
          285379.5229468599,
          167386.38822463853,
          68745.6,
          3844.7861760000005,
          4111.219512197264,
          8650.768896000001,
          11663.87235772358,
          42240,
          74800,
          65400,
          77200.1650035,
          16958.78048799331,
          126877.94380800001,
          42288.88888888889,
          46137.434112,
          436827.95698924735,
          4603392,
          230687.17056000003,
          1387500,
          76388.88888888889,
          322962.03878400003,
          108796.2962962963,
          207618.45350400003,
          84585.29587200002,
          138873.5691056911,
          152629.02439024393,
          669126.1574074074,
          501696.15234375,
          2312310.0000000005,
          1179067.7606400002,
          198169.86968064003,
          443752.4044800001,
          1190760.09541632,
          544658.4,
          151228.31464391225,
          4662181.712962963,
          43417968.75,
          2801022.2933333335,
          13478400,
          10625472.000000002,
          8957070.069058448,
          18700830.720000003,
          6029452.34944,
          4717440,
          10021896.580764694,
          8949016.759306047,
          16156800,
          36915056.64,
          26486440.96344955
         ],
         "yaxis": "y"
        }
       ],
       "layout": {
        "autosize": false,
        "height": 600,
        "legend": {
         "tracegroupgap": 0
        },
        "margin": {
         "b": 10,
         "l": 10,
         "r": 10,
         "t": 40
        },
        "template": {
         "data": {
          "bar": [
           {
            "error_x": {
             "color": "#2a3f5f"
            },
            "error_y": {
             "color": "#2a3f5f"
            },
            "marker": {
             "line": {
              "color": "#E5ECF6",
              "width": 0.5
             },
             "pattern": {
              "fillmode": "overlay",
              "size": 10,
              "solidity": 0.2
             }
            },
            "type": "bar"
           }
          ],
          "barpolar": [
           {
            "marker": {
             "line": {
              "color": "#E5ECF6",
              "width": 0.5
             },
             "pattern": {
              "fillmode": "overlay",
              "size": 10,
              "solidity": 0.2
             }
            },
            "type": "barpolar"
           }
          ],
          "carpet": [
           {
            "aaxis": {
             "endlinecolor": "#2a3f5f",
             "gridcolor": "white",
             "linecolor": "white",
             "minorgridcolor": "white",
             "startlinecolor": "#2a3f5f"
            },
            "baxis": {
             "endlinecolor": "#2a3f5f",
             "gridcolor": "white",
             "linecolor": "white",
             "minorgridcolor": "white",
             "startlinecolor": "#2a3f5f"
            },
            "type": "carpet"
           }
          ],
          "choropleth": [
           {
            "colorbar": {
             "outlinewidth": 0,
             "ticks": ""
            },
            "type": "choropleth"
           }
          ],
          "contour": [
           {
            "colorbar": {
             "outlinewidth": 0,
             "ticks": ""
            },
            "colorscale": [
             [
              0,
              "#0d0887"
             ],
             [
              0.1111111111111111,
              "#46039f"
             ],
             [
              0.2222222222222222,
              "#7201a8"
             ],
             [
              0.3333333333333333,
              "#9c179e"
             ],
             [
              0.4444444444444444,
              "#bd3786"
             ],
             [
              0.5555555555555556,
              "#d8576b"
             ],
             [
              0.6666666666666666,
              "#ed7953"
             ],
             [
              0.7777777777777778,
              "#fb9f3a"
             ],
             [
              0.8888888888888888,
              "#fdca26"
             ],
             [
              1,
              "#f0f921"
             ]
            ],
            "type": "contour"
           }
          ],
          "contourcarpet": [
           {
            "colorbar": {
             "outlinewidth": 0,
             "ticks": ""
            },
            "type": "contourcarpet"
           }
          ],
          "heatmap": [
           {
            "colorbar": {
             "outlinewidth": 0,
             "ticks": ""
            },
            "colorscale": [
             [
              0,
              "#0d0887"
             ],
             [
              0.1111111111111111,
              "#46039f"
             ],
             [
              0.2222222222222222,
              "#7201a8"
             ],
             [
              0.3333333333333333,
              "#9c179e"
             ],
             [
              0.4444444444444444,
              "#bd3786"
             ],
             [
              0.5555555555555556,
              "#d8576b"
             ],
             [
              0.6666666666666666,
              "#ed7953"
             ],
             [
              0.7777777777777778,
              "#fb9f3a"
             ],
             [
              0.8888888888888888,
              "#fdca26"
             ],
             [
              1,
              "#f0f921"
             ]
            ],
            "type": "heatmap"
           }
          ],
          "heatmapgl": [
           {
            "colorbar": {
             "outlinewidth": 0,
             "ticks": ""
            },
            "colorscale": [
             [
              0,
              "#0d0887"
             ],
             [
              0.1111111111111111,
              "#46039f"
             ],
             [
              0.2222222222222222,
              "#7201a8"
             ],
             [
              0.3333333333333333,
              "#9c179e"
             ],
             [
              0.4444444444444444,
              "#bd3786"
             ],
             [
              0.5555555555555556,
              "#d8576b"
             ],
             [
              0.6666666666666666,
              "#ed7953"
             ],
             [
              0.7777777777777778,
              "#fb9f3a"
             ],
             [
              0.8888888888888888,
              "#fdca26"
             ],
             [
              1,
              "#f0f921"
             ]
            ],
            "type": "heatmapgl"
           }
          ],
          "histogram": [
           {
            "marker": {
             "pattern": {
              "fillmode": "overlay",
              "size": 10,
              "solidity": 0.2
             }
            },
            "type": "histogram"
           }
          ],
          "histogram2d": [
           {
            "colorbar": {
             "outlinewidth": 0,
             "ticks": ""
            },
            "colorscale": [
             [
              0,
              "#0d0887"
             ],
             [
              0.1111111111111111,
              "#46039f"
             ],
             [
              0.2222222222222222,
              "#7201a8"
             ],
             [
              0.3333333333333333,
              "#9c179e"
             ],
             [
              0.4444444444444444,
              "#bd3786"
             ],
             [
              0.5555555555555556,
              "#d8576b"
             ],
             [
              0.6666666666666666,
              "#ed7953"
             ],
             [
              0.7777777777777778,
              "#fb9f3a"
             ],
             [
              0.8888888888888888,
              "#fdca26"
             ],
             [
              1,
              "#f0f921"
             ]
            ],
            "type": "histogram2d"
           }
          ],
          "histogram2dcontour": [
           {
            "colorbar": {
             "outlinewidth": 0,
             "ticks": ""
            },
            "colorscale": [
             [
              0,
              "#0d0887"
             ],
             [
              0.1111111111111111,
              "#46039f"
             ],
             [
              0.2222222222222222,
              "#7201a8"
             ],
             [
              0.3333333333333333,
              "#9c179e"
             ],
             [
              0.4444444444444444,
              "#bd3786"
             ],
             [
              0.5555555555555556,
              "#d8576b"
             ],
             [
              0.6666666666666666,
              "#ed7953"
             ],
             [
              0.7777777777777778,
              "#fb9f3a"
             ],
             [
              0.8888888888888888,
              "#fdca26"
             ],
             [
              1,
              "#f0f921"
             ]
            ],
            "type": "histogram2dcontour"
           }
          ],
          "mesh3d": [
           {
            "colorbar": {
             "outlinewidth": 0,
             "ticks": ""
            },
            "type": "mesh3d"
           }
          ],
          "parcoords": [
           {
            "line": {
             "colorbar": {
              "outlinewidth": 0,
              "ticks": ""
             }
            },
            "type": "parcoords"
           }
          ],
          "pie": [
           {
            "automargin": true,
            "type": "pie"
           }
          ],
          "scatter": [
           {
            "fillpattern": {
             "fillmode": "overlay",
             "size": 10,
             "solidity": 0.2
            },
            "type": "scatter"
           }
          ],
          "scatter3d": [
           {
            "line": {
             "colorbar": {
              "outlinewidth": 0,
              "ticks": ""
             }
            },
            "marker": {
             "colorbar": {
              "outlinewidth": 0,
              "ticks": ""
             }
            },
            "type": "scatter3d"
           }
          ],
          "scattercarpet": [
           {
            "marker": {
             "colorbar": {
              "outlinewidth": 0,
              "ticks": ""
             }
            },
            "type": "scattercarpet"
           }
          ],
          "scattergeo": [
           {
            "marker": {
             "colorbar": {
              "outlinewidth": 0,
              "ticks": ""
             }
            },
            "type": "scattergeo"
           }
          ],
          "scattergl": [
           {
            "marker": {
             "colorbar": {
              "outlinewidth": 0,
              "ticks": ""
             }
            },
            "type": "scattergl"
           }
          ],
          "scattermapbox": [
           {
            "marker": {
             "colorbar": {
              "outlinewidth": 0,
              "ticks": ""
             }
            },
            "type": "scattermapbox"
           }
          ],
          "scatterpolar": [
           {
            "marker": {
             "colorbar": {
              "outlinewidth": 0,
              "ticks": ""
             }
            },
            "type": "scatterpolar"
           }
          ],
          "scatterpolargl": [
           {
            "marker": {
             "colorbar": {
              "outlinewidth": 0,
              "ticks": ""
             }
            },
            "type": "scatterpolargl"
           }
          ],
          "scatterternary": [
           {
            "marker": {
             "colorbar": {
              "outlinewidth": 0,
              "ticks": ""
             }
            },
            "type": "scatterternary"
           }
          ],
          "surface": [
           {
            "colorbar": {
             "outlinewidth": 0,
             "ticks": ""
            },
            "colorscale": [
             [
              0,
              "#0d0887"
             ],
             [
              0.1111111111111111,
              "#46039f"
             ],
             [
              0.2222222222222222,
              "#7201a8"
             ],
             [
              0.3333333333333333,
              "#9c179e"
             ],
             [
              0.4444444444444444,
              "#bd3786"
             ],
             [
              0.5555555555555556,
              "#d8576b"
             ],
             [
              0.6666666666666666,
              "#ed7953"
             ],
             [
              0.7777777777777778,
              "#fb9f3a"
             ],
             [
              0.8888888888888888,
              "#fdca26"
             ],
             [
              1,
              "#f0f921"
             ]
            ],
            "type": "surface"
           }
          ],
          "table": [
           {
            "cells": {
             "fill": {
              "color": "#EBF0F8"
             },
             "line": {
              "color": "white"
             }
            },
            "header": {
             "fill": {
              "color": "#C8D4E3"
             },
             "line": {
              "color": "white"
             }
            },
            "type": "table"
           }
          ]
         },
         "layout": {
          "annotationdefaults": {
           "arrowcolor": "#2a3f5f",
           "arrowhead": 0,
           "arrowwidth": 1
          },
          "autotypenumbers": "strict",
          "coloraxis": {
           "colorbar": {
            "outlinewidth": 0,
            "ticks": ""
           }
          },
          "colorscale": {
           "diverging": [
            [
             0,
             "#8e0152"
            ],
            [
             0.1,
             "#c51b7d"
            ],
            [
             0.2,
             "#de77ae"
            ],
            [
             0.3,
             "#f1b6da"
            ],
            [
             0.4,
             "#fde0ef"
            ],
            [
             0.5,
             "#f7f7f7"
            ],
            [
             0.6,
             "#e6f5d0"
            ],
            [
             0.7,
             "#b8e186"
            ],
            [
             0.8,
             "#7fbc41"
            ],
            [
             0.9,
             "#4d9221"
            ],
            [
             1,
             "#276419"
            ]
           ],
           "sequential": [
            [
             0,
             "#0d0887"
            ],
            [
             0.1111111111111111,
             "#46039f"
            ],
            [
             0.2222222222222222,
             "#7201a8"
            ],
            [
             0.3333333333333333,
             "#9c179e"
            ],
            [
             0.4444444444444444,
             "#bd3786"
            ],
            [
             0.5555555555555556,
             "#d8576b"
            ],
            [
             0.6666666666666666,
             "#ed7953"
            ],
            [
             0.7777777777777778,
             "#fb9f3a"
            ],
            [
             0.8888888888888888,
             "#fdca26"
            ],
            [
             1,
             "#f0f921"
            ]
           ],
           "sequentialminus": [
            [
             0,
             "#0d0887"
            ],
            [
             0.1111111111111111,
             "#46039f"
            ],
            [
             0.2222222222222222,
             "#7201a8"
            ],
            [
             0.3333333333333333,
             "#9c179e"
            ],
            [
             0.4444444444444444,
             "#bd3786"
            ],
            [
             0.5555555555555556,
             "#d8576b"
            ],
            [
             0.6666666666666666,
             "#ed7953"
            ],
            [
             0.7777777777777778,
             "#fb9f3a"
            ],
            [
             0.8888888888888888,
             "#fdca26"
            ],
            [
             1,
             "#f0f921"
            ]
           ]
          },
          "colorway": [
           "#636efa",
           "#EF553B",
           "#00cc96",
           "#ab63fa",
           "#FFA15A",
           "#19d3f3",
           "#FF6692",
           "#B6E880",
           "#FF97FF",
           "#FECB52"
          ],
          "font": {
           "color": "#2a3f5f"
          },
          "geo": {
           "bgcolor": "white",
           "lakecolor": "white",
           "landcolor": "#E5ECF6",
           "showlakes": true,
           "showland": true,
           "subunitcolor": "white"
          },
          "hoverlabel": {
           "align": "left"
          },
          "hovermode": "closest",
          "mapbox": {
           "style": "light"
          },
          "paper_bgcolor": "white",
          "plot_bgcolor": "#E5ECF6",
          "polar": {
           "angularaxis": {
            "gridcolor": "white",
            "linecolor": "white",
            "ticks": ""
           },
           "bgcolor": "#E5ECF6",
           "radialaxis": {
            "gridcolor": "white",
            "linecolor": "white",
            "ticks": ""
           }
          },
          "scene": {
           "xaxis": {
            "backgroundcolor": "#E5ECF6",
            "gridcolor": "white",
            "gridwidth": 2,
            "linecolor": "white",
            "showbackground": true,
            "ticks": "",
            "zerolinecolor": "white"
           },
           "yaxis": {
            "backgroundcolor": "#E5ECF6",
            "gridcolor": "white",
            "gridwidth": 2,
            "linecolor": "white",
            "showbackground": true,
            "ticks": "",
            "zerolinecolor": "white"
           },
           "zaxis": {
            "backgroundcolor": "#E5ECF6",
            "gridcolor": "white",
            "gridwidth": 2,
            "linecolor": "white",
            "showbackground": true,
            "ticks": "",
            "zerolinecolor": "white"
           }
          },
          "shapedefaults": {
           "line": {
            "color": "#2a3f5f"
           }
          },
          "ternary": {
           "aaxis": {
            "gridcolor": "white",
            "linecolor": "white",
            "ticks": ""
           },
           "baxis": {
            "gridcolor": "white",
            "linecolor": "white",
            "ticks": ""
           },
           "bgcolor": "#E5ECF6",
           "caxis": {
            "gridcolor": "white",
            "linecolor": "white",
            "ticks": ""
           }
          },
          "title": {
           "x": 0.05
          },
          "xaxis": {
           "automargin": true,
           "gridcolor": "white",
           "linecolor": "white",
           "ticks": "",
           "title": {
            "standoff": 15
           },
           "zerolinecolor": "white",
           "zerolinewidth": 2
          },
          "yaxis": {
           "automargin": true,
           "gridcolor": "white",
           "linecolor": "white",
           "ticks": "",
           "title": {
            "standoff": 15
           },
           "zerolinecolor": "white",
           "zerolinewidth": 2
          }
         }
        },
        "width": 800,
        "xaxis": {
         "anchor": "y",
         "domain": [
          0,
          1
         ],
         "title": {
          "text": "Publication date"
         }
        },
        "yaxis": {
         "anchor": "x",
         "domain": [
          0,
          1
         ],
         "title": {
          "text": "Energy (kWh)"
         },
         "type": "log"
        }
       }
      }
     },
     "metadata": {},
     "output_type": "display_data"
    }
   ],
   "source": [
    "from energy import energy_price\n",
    "\n",
    "# Stacked bar chart of cost components, using component_cost_df\n",
    "filtered_component_cost_df.loc[:, 'Energy (kWh)'] = [\n",
    "    row['Energy cost'] / energy_price(row['Publication date'].year) \n",
    "    for _, row in filtered_component_cost_df.iterrows()\n",
    "]\n",
    "fig = px.scatter(\n",
    "    filtered_component_cost_df,\n",
    "    x='Publication date',\n",
    "    y='Energy (kWh)',\n",
    "    text='Model',\n",
    ")\n",
    "# log y\n",
    "fig.update_yaxes(type='log')\n",
    "# size\n",
    "fig.update_layout(\n",
    "    autosize=False,\n",
    "    width=800,\n",
    "    height=600,\n",
    ")\n",
    "\n",
    "# margins\n",
    "fig.update_layout(margin=dict(l=10, r=10, t=40, b=10))\n",
    "\n",
    "save_plot(fig, results_dir, 'energy_kwh')\n",
    "\n",
    "fig.show()"
   ]
  },
  {
   "cell_type": "code",
   "execution_count": null,
   "metadata": {},
   "outputs": [
    {
     "data": {
      "text/plain": [
       "Index(['Model', 'Domain', 'Task', 'Authors', 'Notability criteria',\n",
       "       'Notability criteria notes', 'Model accessibility', 'Link', 'Citations',\n",
       "       'Reference',\n",
       "       ...\n",
       "       'Cost', 'AI accelerator chip cost', 'Other server components cost',\n",
       "       'Cluster-level interconnect cost', 'Energy cost',\n",
       "       'AI accelerator chip cost (%)', 'Other server components cost (%)',\n",
       "       'Cluster-level interconnect cost (%)', 'Energy cost (%)',\n",
       "       'Energy (kWh)'],\n",
       "      dtype='object', length=108)"
      ]
     },
     "execution_count": 39,
     "metadata": {},
     "output_type": "execute_result"
    }
   ],
   "source": [
    "filtered_component_cost_df.columns"
   ]
  },
  {
   "cell_type": "code",
   "execution_count": null,
   "metadata": {},
   "outputs": [
    {
     "data": {
      "application/vnd.plotly.v1+json": {
       "config": {
        "plotlyServerURL": "https://plot.ly"
       },
       "data": [
        {
         "hovertemplate": "Publication date=%{x}<br>Power capacity for final training run (kW)=%{y}<br>Model=%{text}<extra></extra>",
         "legendgroup": "",
         "marker": {
          "color": "#636efa",
          "symbol": "circle"
         },
         "mode": "markers+text",
         "name": "",
         "orientation": "v",
         "showlegend": false,
         "text": [
          "DeepSpeech2 (English)",
          "GNMT",
          "Xception",
          "PolyNet",
          "MoE-Multi",
          "JFT",
          "AlphaGo Zero",
          "AlphaGo Master",
          "ResNeXt-101 32x48d",
          "BigGAN-deep 512x512",
          "GPT-2 (1.5B)",
          "MnasNet-A1 + SSDLite",
          "XLNet",
          "RoBERTa Large",
          "Megatron-BERT",
          "Megatron-LM (8.3B)",
          "T5-11B",
          "T5-3B",
          "AlphaStar",
          "XLM-RoBERTa",
          "Noisy Student (L2)",
          "OpenAI Five Rerun",
          "OpenAI Five",
          "Meena",
          "GPT-3 175B (davinci)",
          "iGPT-XL",
          "GShard (dense)",
          "DALL-E",
          "Switch",
          "Meta Pseudo Labels",
          "ProtT5-XXL",
          "ByT5-XXL",
          "Jurassic-1-Jumbo",
          "HyperCLOVA 82B",
          "Megatron-Turing NLG 530B",
          "Gopher (280B)",
          "GLaM",
          "LaMDA",
          "PaLM (540B)",
          "OPT-175B",
          "Parti",
          "GPT-3.5",
          "GPT-4",
          "PaLM 2",
          "Falcon-180B",
          "Amazon Titan",
          "Inflection-2",
          "Gemini 1.0 Ultra",
          "Gemini 1.5 Pro",
          "MegaScale (Production)",
          "Mistral Large",
          "Inflection-2.5",
          "Nemotron-4 340B",
          "Llama 3.1-405B",
          "Grok-2"
         ],
         "type": "scatter",
         "x": [
          "2015-12-08T00:00:00",
          "2016-09-26T00:00:00",
          "2016-10-07T00:00:00",
          "2016-11-17T00:00:00",
          "2017-01-23T00:00:00",
          "2017-07-10T00:00:00",
          "2017-10-18T00:00:00",
          "2017-10-19T00:00:00",
          "2018-05-02T00:00:00",
          "2018-09-28T00:00:00",
          "2019-02-14T00:00:00",
          "2019-05-29T00:00:00",
          "2019-06-01T00:00:00",
          "2019-07-01T00:00:00",
          "2019-09-17T00:00:00",
          "2019-09-17T00:00:00",
          "2019-10-23T00:00:00",
          "2019-10-23T00:00:00",
          "2019-10-30T00:00:00",
          "2019-11-05T00:00:00",
          "2019-11-11T00:00:00",
          "2019-12-13T00:00:00",
          "2019-12-13T00:00:00",
          "2020-01-28T00:00:00",
          "2020-05-28T00:00:00",
          "2020-06-17T00:00:00",
          "2020-06-30T00:00:00",
          "2021-01-05T00:00:00",
          "2021-01-11T00:00:00",
          "2021-03-01T00:00:00",
          "2021-05-04T00:00:00",
          "2021-05-28T00:00:00",
          "2021-08-11T00:00:00",
          "2021-09-10T00:00:00",
          "2021-10-11T00:00:00",
          "2021-12-08T00:00:00",
          "2021-12-13T00:00:00",
          "2022-02-10T00:00:00",
          "2022-04-04T00:00:00",
          "2022-05-02T00:00:00",
          "2022-06-22T00:00:00",
          "2022-11-28T00:00:00",
          "2023-03-15T00:00:00",
          "2023-05-10T00:00:00",
          "2023-09-06T00:00:00",
          "2023-09-28T00:00:00",
          "2023-11-22T00:00:00",
          "2023-12-06T00:00:00",
          "2024-02-15T00:00:00",
          "2024-02-23T00:00:00",
          "2024-02-26T00:00:00",
          "2024-03-07T00:00:00",
          "2024-06-14T00:00:00",
          "2024-07-23T00:00:00",
          "2024-08-13T00:00:00"
         ],
         "xaxis": "x",
         "y": [
          9,
          null,
          35.64000000000001,
          18,
          31.046400000000002,
          29.700000000000003,
          null,
          null,
          184.8,
          186.2784,
          null,
          186.2784,
          null,
          469.33333333333337,
          266.6666666666667,
          266.6666666666667,
          372.5568,
          null,
          279.4176,
          229.16666666666669,
          745.1136,
          288,
          864,
          745.1136,
          5208.333333333334,
          null,
          745.1136,
          533.3333333333334,
          745.1136,
          745.1136,
          372.5568,
          null,
          null,
          1040,
          4004,
          2980.4544,
          337.37932800000004,
          745.1136,
          2024.2759680000004,
          915.2,
          null,
          null,
          25390.625,
          null,
          4160,
          12298,
          7968.75,
          18779.904000000002,
          null,
          12480,
          null,
          null,
          9792,
          22978.56,
          null
         ],
         "yaxis": "y"
        }
       ],
       "layout": {
        "autosize": false,
        "height": 600,
        "legend": {
         "tracegroupgap": 0
        },
        "margin": {
         "b": 10,
         "l": 10,
         "r": 10,
         "t": 40
        },
        "template": {
         "data": {
          "bar": [
           {
            "error_x": {
             "color": "#2a3f5f"
            },
            "error_y": {
             "color": "#2a3f5f"
            },
            "marker": {
             "line": {
              "color": "#E5ECF6",
              "width": 0.5
             },
             "pattern": {
              "fillmode": "overlay",
              "size": 10,
              "solidity": 0.2
             }
            },
            "type": "bar"
           }
          ],
          "barpolar": [
           {
            "marker": {
             "line": {
              "color": "#E5ECF6",
              "width": 0.5
             },
             "pattern": {
              "fillmode": "overlay",
              "size": 10,
              "solidity": 0.2
             }
            },
            "type": "barpolar"
           }
          ],
          "carpet": [
           {
            "aaxis": {
             "endlinecolor": "#2a3f5f",
             "gridcolor": "white",
             "linecolor": "white",
             "minorgridcolor": "white",
             "startlinecolor": "#2a3f5f"
            },
            "baxis": {
             "endlinecolor": "#2a3f5f",
             "gridcolor": "white",
             "linecolor": "white",
             "minorgridcolor": "white",
             "startlinecolor": "#2a3f5f"
            },
            "type": "carpet"
           }
          ],
          "choropleth": [
           {
            "colorbar": {
             "outlinewidth": 0,
             "ticks": ""
            },
            "type": "choropleth"
           }
          ],
          "contour": [
           {
            "colorbar": {
             "outlinewidth": 0,
             "ticks": ""
            },
            "colorscale": [
             [
              0,
              "#0d0887"
             ],
             [
              0.1111111111111111,
              "#46039f"
             ],
             [
              0.2222222222222222,
              "#7201a8"
             ],
             [
              0.3333333333333333,
              "#9c179e"
             ],
             [
              0.4444444444444444,
              "#bd3786"
             ],
             [
              0.5555555555555556,
              "#d8576b"
             ],
             [
              0.6666666666666666,
              "#ed7953"
             ],
             [
              0.7777777777777778,
              "#fb9f3a"
             ],
             [
              0.8888888888888888,
              "#fdca26"
             ],
             [
              1,
              "#f0f921"
             ]
            ],
            "type": "contour"
           }
          ],
          "contourcarpet": [
           {
            "colorbar": {
             "outlinewidth": 0,
             "ticks": ""
            },
            "type": "contourcarpet"
           }
          ],
          "heatmap": [
           {
            "colorbar": {
             "outlinewidth": 0,
             "ticks": ""
            },
            "colorscale": [
             [
              0,
              "#0d0887"
             ],
             [
              0.1111111111111111,
              "#46039f"
             ],
             [
              0.2222222222222222,
              "#7201a8"
             ],
             [
              0.3333333333333333,
              "#9c179e"
             ],
             [
              0.4444444444444444,
              "#bd3786"
             ],
             [
              0.5555555555555556,
              "#d8576b"
             ],
             [
              0.6666666666666666,
              "#ed7953"
             ],
             [
              0.7777777777777778,
              "#fb9f3a"
             ],
             [
              0.8888888888888888,
              "#fdca26"
             ],
             [
              1,
              "#f0f921"
             ]
            ],
            "type": "heatmap"
           }
          ],
          "heatmapgl": [
           {
            "colorbar": {
             "outlinewidth": 0,
             "ticks": ""
            },
            "colorscale": [
             [
              0,
              "#0d0887"
             ],
             [
              0.1111111111111111,
              "#46039f"
             ],
             [
              0.2222222222222222,
              "#7201a8"
             ],
             [
              0.3333333333333333,
              "#9c179e"
             ],
             [
              0.4444444444444444,
              "#bd3786"
             ],
             [
              0.5555555555555556,
              "#d8576b"
             ],
             [
              0.6666666666666666,
              "#ed7953"
             ],
             [
              0.7777777777777778,
              "#fb9f3a"
             ],
             [
              0.8888888888888888,
              "#fdca26"
             ],
             [
              1,
              "#f0f921"
             ]
            ],
            "type": "heatmapgl"
           }
          ],
          "histogram": [
           {
            "marker": {
             "pattern": {
              "fillmode": "overlay",
              "size": 10,
              "solidity": 0.2
             }
            },
            "type": "histogram"
           }
          ],
          "histogram2d": [
           {
            "colorbar": {
             "outlinewidth": 0,
             "ticks": ""
            },
            "colorscale": [
             [
              0,
              "#0d0887"
             ],
             [
              0.1111111111111111,
              "#46039f"
             ],
             [
              0.2222222222222222,
              "#7201a8"
             ],
             [
              0.3333333333333333,
              "#9c179e"
             ],
             [
              0.4444444444444444,
              "#bd3786"
             ],
             [
              0.5555555555555556,
              "#d8576b"
             ],
             [
              0.6666666666666666,
              "#ed7953"
             ],
             [
              0.7777777777777778,
              "#fb9f3a"
             ],
             [
              0.8888888888888888,
              "#fdca26"
             ],
             [
              1,
              "#f0f921"
             ]
            ],
            "type": "histogram2d"
           }
          ],
          "histogram2dcontour": [
           {
            "colorbar": {
             "outlinewidth": 0,
             "ticks": ""
            },
            "colorscale": [
             [
              0,
              "#0d0887"
             ],
             [
              0.1111111111111111,
              "#46039f"
             ],
             [
              0.2222222222222222,
              "#7201a8"
             ],
             [
              0.3333333333333333,
              "#9c179e"
             ],
             [
              0.4444444444444444,
              "#bd3786"
             ],
             [
              0.5555555555555556,
              "#d8576b"
             ],
             [
              0.6666666666666666,
              "#ed7953"
             ],
             [
              0.7777777777777778,
              "#fb9f3a"
             ],
             [
              0.8888888888888888,
              "#fdca26"
             ],
             [
              1,
              "#f0f921"
             ]
            ],
            "type": "histogram2dcontour"
           }
          ],
          "mesh3d": [
           {
            "colorbar": {
             "outlinewidth": 0,
             "ticks": ""
            },
            "type": "mesh3d"
           }
          ],
          "parcoords": [
           {
            "line": {
             "colorbar": {
              "outlinewidth": 0,
              "ticks": ""
             }
            },
            "type": "parcoords"
           }
          ],
          "pie": [
           {
            "automargin": true,
            "type": "pie"
           }
          ],
          "scatter": [
           {
            "fillpattern": {
             "fillmode": "overlay",
             "size": 10,
             "solidity": 0.2
            },
            "type": "scatter"
           }
          ],
          "scatter3d": [
           {
            "line": {
             "colorbar": {
              "outlinewidth": 0,
              "ticks": ""
             }
            },
            "marker": {
             "colorbar": {
              "outlinewidth": 0,
              "ticks": ""
             }
            },
            "type": "scatter3d"
           }
          ],
          "scattercarpet": [
           {
            "marker": {
             "colorbar": {
              "outlinewidth": 0,
              "ticks": ""
             }
            },
            "type": "scattercarpet"
           }
          ],
          "scattergeo": [
           {
            "marker": {
             "colorbar": {
              "outlinewidth": 0,
              "ticks": ""
             }
            },
            "type": "scattergeo"
           }
          ],
          "scattergl": [
           {
            "marker": {
             "colorbar": {
              "outlinewidth": 0,
              "ticks": ""
             }
            },
            "type": "scattergl"
           }
          ],
          "scattermapbox": [
           {
            "marker": {
             "colorbar": {
              "outlinewidth": 0,
              "ticks": ""
             }
            },
            "type": "scattermapbox"
           }
          ],
          "scatterpolar": [
           {
            "marker": {
             "colorbar": {
              "outlinewidth": 0,
              "ticks": ""
             }
            },
            "type": "scatterpolar"
           }
          ],
          "scatterpolargl": [
           {
            "marker": {
             "colorbar": {
              "outlinewidth": 0,
              "ticks": ""
             }
            },
            "type": "scatterpolargl"
           }
          ],
          "scatterternary": [
           {
            "marker": {
             "colorbar": {
              "outlinewidth": 0,
              "ticks": ""
             }
            },
            "type": "scatterternary"
           }
          ],
          "surface": [
           {
            "colorbar": {
             "outlinewidth": 0,
             "ticks": ""
            },
            "colorscale": [
             [
              0,
              "#0d0887"
             ],
             [
              0.1111111111111111,
              "#46039f"
             ],
             [
              0.2222222222222222,
              "#7201a8"
             ],
             [
              0.3333333333333333,
              "#9c179e"
             ],
             [
              0.4444444444444444,
              "#bd3786"
             ],
             [
              0.5555555555555556,
              "#d8576b"
             ],
             [
              0.6666666666666666,
              "#ed7953"
             ],
             [
              0.7777777777777778,
              "#fb9f3a"
             ],
             [
              0.8888888888888888,
              "#fdca26"
             ],
             [
              1,
              "#f0f921"
             ]
            ],
            "type": "surface"
           }
          ],
          "table": [
           {
            "cells": {
             "fill": {
              "color": "#EBF0F8"
             },
             "line": {
              "color": "white"
             }
            },
            "header": {
             "fill": {
              "color": "#C8D4E3"
             },
             "line": {
              "color": "white"
             }
            },
            "type": "table"
           }
          ]
         },
         "layout": {
          "annotationdefaults": {
           "arrowcolor": "#2a3f5f",
           "arrowhead": 0,
           "arrowwidth": 1
          },
          "autotypenumbers": "strict",
          "coloraxis": {
           "colorbar": {
            "outlinewidth": 0,
            "ticks": ""
           }
          },
          "colorscale": {
           "diverging": [
            [
             0,
             "#8e0152"
            ],
            [
             0.1,
             "#c51b7d"
            ],
            [
             0.2,
             "#de77ae"
            ],
            [
             0.3,
             "#f1b6da"
            ],
            [
             0.4,
             "#fde0ef"
            ],
            [
             0.5,
             "#f7f7f7"
            ],
            [
             0.6,
             "#e6f5d0"
            ],
            [
             0.7,
             "#b8e186"
            ],
            [
             0.8,
             "#7fbc41"
            ],
            [
             0.9,
             "#4d9221"
            ],
            [
             1,
             "#276419"
            ]
           ],
           "sequential": [
            [
             0,
             "#0d0887"
            ],
            [
             0.1111111111111111,
             "#46039f"
            ],
            [
             0.2222222222222222,
             "#7201a8"
            ],
            [
             0.3333333333333333,
             "#9c179e"
            ],
            [
             0.4444444444444444,
             "#bd3786"
            ],
            [
             0.5555555555555556,
             "#d8576b"
            ],
            [
             0.6666666666666666,
             "#ed7953"
            ],
            [
             0.7777777777777778,
             "#fb9f3a"
            ],
            [
             0.8888888888888888,
             "#fdca26"
            ],
            [
             1,
             "#f0f921"
            ]
           ],
           "sequentialminus": [
            [
             0,
             "#0d0887"
            ],
            [
             0.1111111111111111,
             "#46039f"
            ],
            [
             0.2222222222222222,
             "#7201a8"
            ],
            [
             0.3333333333333333,
             "#9c179e"
            ],
            [
             0.4444444444444444,
             "#bd3786"
            ],
            [
             0.5555555555555556,
             "#d8576b"
            ],
            [
             0.6666666666666666,
             "#ed7953"
            ],
            [
             0.7777777777777778,
             "#fb9f3a"
            ],
            [
             0.8888888888888888,
             "#fdca26"
            ],
            [
             1,
             "#f0f921"
            ]
           ]
          },
          "colorway": [
           "#636efa",
           "#EF553B",
           "#00cc96",
           "#ab63fa",
           "#FFA15A",
           "#19d3f3",
           "#FF6692",
           "#B6E880",
           "#FF97FF",
           "#FECB52"
          ],
          "font": {
           "color": "#2a3f5f"
          },
          "geo": {
           "bgcolor": "white",
           "lakecolor": "white",
           "landcolor": "#E5ECF6",
           "showlakes": true,
           "showland": true,
           "subunitcolor": "white"
          },
          "hoverlabel": {
           "align": "left"
          },
          "hovermode": "closest",
          "mapbox": {
           "style": "light"
          },
          "paper_bgcolor": "white",
          "plot_bgcolor": "#E5ECF6",
          "polar": {
           "angularaxis": {
            "gridcolor": "white",
            "linecolor": "white",
            "ticks": ""
           },
           "bgcolor": "#E5ECF6",
           "radialaxis": {
            "gridcolor": "white",
            "linecolor": "white",
            "ticks": ""
           }
          },
          "scene": {
           "xaxis": {
            "backgroundcolor": "#E5ECF6",
            "gridcolor": "white",
            "gridwidth": 2,
            "linecolor": "white",
            "showbackground": true,
            "ticks": "",
            "zerolinecolor": "white"
           },
           "yaxis": {
            "backgroundcolor": "#E5ECF6",
            "gridcolor": "white",
            "gridwidth": 2,
            "linecolor": "white",
            "showbackground": true,
            "ticks": "",
            "zerolinecolor": "white"
           },
           "zaxis": {
            "backgroundcolor": "#E5ECF6",
            "gridcolor": "white",
            "gridwidth": 2,
            "linecolor": "white",
            "showbackground": true,
            "ticks": "",
            "zerolinecolor": "white"
           }
          },
          "shapedefaults": {
           "line": {
            "color": "#2a3f5f"
           }
          },
          "ternary": {
           "aaxis": {
            "gridcolor": "white",
            "linecolor": "white",
            "ticks": ""
           },
           "baxis": {
            "gridcolor": "white",
            "linecolor": "white",
            "ticks": ""
           },
           "bgcolor": "#E5ECF6",
           "caxis": {
            "gridcolor": "white",
            "linecolor": "white",
            "ticks": ""
           }
          },
          "title": {
           "x": 0.05
          },
          "xaxis": {
           "automargin": true,
           "gridcolor": "white",
           "linecolor": "white",
           "ticks": "",
           "title": {
            "standoff": 15
           },
           "zerolinecolor": "white",
           "zerolinewidth": 2
          },
          "yaxis": {
           "automargin": true,
           "gridcolor": "white",
           "linecolor": "white",
           "ticks": "",
           "title": {
            "standoff": 15
           },
           "zerolinecolor": "white",
           "zerolinewidth": 2
          }
         }
        },
        "width": 800,
        "xaxis": {
         "anchor": "y",
         "domain": [
          0,
          1
         ],
         "title": {
          "text": "Publication date"
         }
        },
        "yaxis": {
         "anchor": "x",
         "domain": [
          0,
          1
         ],
         "title": {
          "text": "Power capacity for final training run (kW)"
         },
         "type": "log"
        }
       }
      }
     },
     "metadata": {},
     "output_type": "display_data"
    }
   ],
   "source": [
    "filtered_component_cost_df = filtered_component_cost_df.dropna(subset=['Training hardware'])\n",
    "power_col = 'Power capacity for final training run (kW)'\n",
    "filtered_component_cost_df.loc[:, power_col] = [\n",
    "    cluster_power_capacity(row['Training hardware'], row['Hardware quantity'], hardware_df, row['Organization'])\n",
    "    for _, row in filtered_component_cost_df.iterrows()\n",
    "]\n",
    "\n",
    "fig = px.scatter(\n",
    "    filtered_component_cost_df,\n",
    "    x='Publication date',\n",
    "    y=power_col,\n",
    "    text='Model',\n",
    ")\n",
    "# log y\n",
    "fig.update_yaxes(type='log')\n",
    "# size\n",
    "fig.update_layout(\n",
    "    autosize=False,\n",
    "    width=800,\n",
    "    height=600,\n",
    ")\n",
    "\n",
    "# margins\n",
    "fig.update_layout(margin=dict(l=10, r=10, t=40, b=10))\n",
    "\n",
    "save_plot(fig, results_dir, 'power_capacity_kw')\n",
    "\n",
    "fig.show()"
   ]
  },
  {
   "cell_type": "code",
   "execution_count": 41,
   "metadata": {},
   "outputs": [],
   "source": [
    "filtered_component_cost_df['Publication date (float)'] = datetime_to_float_year(\n",
    "    pd.to_datetime(filtered_component_cost_df['Publication date'])\n",
    ")"
   ]
  },
  {
   "cell_type": "code",
   "execution_count": null,
   "metadata": {},
   "outputs": [
    {
     "data": {
      "text/html": [
       "<table class=\"simpletable\">\n",
       "<caption>OLS Regression Results</caption>\n",
       "<tr>\n",
       "  <th>Dep. Variable:</th>            <td>y</td>        <th>  R-squared:         </th> <td>   0.863</td>\n",
       "</tr>\n",
       "<tr>\n",
       "  <th>Model:</th>                   <td>OLS</td>       <th>  Adj. R-squared:    </th> <td>   0.859</td>\n",
       "</tr>\n",
       "<tr>\n",
       "  <th>Method:</th>             <td>Least Squares</td>  <th>  F-statistic:       </th> <td>   233.0</td>\n",
       "</tr>\n",
       "<tr>\n",
       "  <th>Date:</th>             <td>Mon, 17 Mar 2025</td> <th>  Prob (F-statistic):</th> <td>1.51e-17</td>\n",
       "</tr>\n",
       "<tr>\n",
       "  <th>Time:</th>                 <td>15:15:52</td>     <th>  Log-Likelihood:    </th> <td> -10.518</td>\n",
       "</tr>\n",
       "<tr>\n",
       "  <th>No. Observations:</th>      <td>    39</td>      <th>  AIC:               </th> <td>   25.04</td>\n",
       "</tr>\n",
       "<tr>\n",
       "  <th>Df Residuals:</th>          <td>    37</td>      <th>  BIC:               </th> <td>   28.36</td>\n",
       "</tr>\n",
       "<tr>\n",
       "  <th>Df Model:</th>              <td>     1</td>      <th>                     </th>     <td> </td>   \n",
       "</tr>\n",
       "<tr>\n",
       "  <th>Covariance Type:</th>      <td>nonrobust</td>    <th>                     </th>     <td> </td>   \n",
       "</tr>\n",
       "</table>\n",
       "<table class=\"simpletable\">\n",
       "<tr>\n",
       "    <td></td>       <th>coef</th>     <th>std err</th>      <th>t</th>      <th>P>|t|</th>  <th>[0.025</th>    <th>0.975]</th>  \n",
       "</tr>\n",
       "<tr>\n",
       "  <th>const</th> <td> -717.4255</td> <td>   47.192</td> <td>  -15.202</td> <td> 0.000</td> <td> -813.045</td> <td> -621.806</td>\n",
       "</tr>\n",
       "<tr>\n",
       "  <th>x1</th>    <td>    0.3564</td> <td>    0.023</td> <td>   15.263</td> <td> 0.000</td> <td>    0.309</td> <td>    0.404</td>\n",
       "</tr>\n",
       "</table>\n",
       "<table class=\"simpletable\">\n",
       "<tr>\n",
       "  <th>Omnibus:</th>       <td> 5.566</td> <th>  Durbin-Watson:     </th> <td>   1.953</td>\n",
       "</tr>\n",
       "<tr>\n",
       "  <th>Prob(Omnibus):</th> <td> 0.062</td> <th>  Jarque-Bera (JB):  </th> <td>   4.658</td>\n",
       "</tr>\n",
       "<tr>\n",
       "  <th>Skew:</th>          <td> 0.514</td> <th>  Prob(JB):          </th> <td>  0.0974</td>\n",
       "</tr>\n",
       "<tr>\n",
       "  <th>Kurtosis:</th>      <td> 4.345</td> <th>  Cond. No.          </th> <td>1.83e+06</td>\n",
       "</tr>\n",
       "</table><br/><br/>Notes:<br/>[1] Standard Errors assume that the covariance matrix of the errors is correctly specified.<br/>[2] The condition number is large, 1.83e+06. This might indicate that there are<br/>strong multicollinearity or other numerical problems."
      ],
      "text/latex": [
       "\\begin{center}\n",
       "\\begin{tabular}{lclc}\n",
       "\\toprule\n",
       "\\textbf{Dep. Variable:}    &        y         & \\textbf{  R-squared:         } &     0.863   \\\\\n",
       "\\textbf{Model:}            &       OLS        & \\textbf{  Adj. R-squared:    } &     0.859   \\\\\n",
       "\\textbf{Method:}           &  Least Squares   & \\textbf{  F-statistic:       } &     233.0   \\\\\n",
       "\\textbf{Date:}             & Mon, 17 Mar 2025 & \\textbf{  Prob (F-statistic):} &  1.51e-17   \\\\\n",
       "\\textbf{Time:}             &     15:15:52     & \\textbf{  Log-Likelihood:    } &   -10.518   \\\\\n",
       "\\textbf{No. Observations:} &          39      & \\textbf{  AIC:               } &     25.04   \\\\\n",
       "\\textbf{Df Residuals:}     &          37      & \\textbf{  BIC:               } &     28.36   \\\\\n",
       "\\textbf{Df Model:}         &           1      & \\textbf{                     } &             \\\\\n",
       "\\textbf{Covariance Type:}  &    nonrobust     & \\textbf{                     } &             \\\\\n",
       "\\bottomrule\n",
       "\\end{tabular}\n",
       "\\begin{tabular}{lcccccc}\n",
       "               & \\textbf{coef} & \\textbf{std err} & \\textbf{t} & \\textbf{P$> |$t$|$} & \\textbf{[0.025} & \\textbf{0.975]}  \\\\\n",
       "\\midrule\n",
       "\\textbf{const} &    -717.4255  &       47.192     &   -15.202  &         0.000        &     -813.045    &     -621.806     \\\\\n",
       "\\textbf{x1}    &       0.3564  &        0.023     &    15.263  &         0.000        &        0.309    &        0.404     \\\\\n",
       "\\bottomrule\n",
       "\\end{tabular}\n",
       "\\begin{tabular}{lclc}\n",
       "\\textbf{Omnibus:}       &  5.566 & \\textbf{  Durbin-Watson:     } &    1.953  \\\\\n",
       "\\textbf{Prob(Omnibus):} &  0.062 & \\textbf{  Jarque-Bera (JB):  } &    4.658  \\\\\n",
       "\\textbf{Skew:}          &  0.514 & \\textbf{  Prob(JB):          } &   0.0974  \\\\\n",
       "\\textbf{Kurtosis:}      &  4.345 & \\textbf{  Cond. No.          } & 1.83e+06  \\\\\n",
       "\\bottomrule\n",
       "\\end{tabular}\n",
       "%\\caption{OLS Regression Results}\n",
       "\\end{center}\n",
       "\n",
       "Notes: \\newline\n",
       " [1] Standard Errors assume that the covariance matrix of the errors is correctly specified. \\newline\n",
       " [2] The condition number is large, 1.83e+06. This might indicate that there are \\newline\n",
       " strong multicollinearity or other numerical problems."
      ],
      "text/plain": [
       "<class 'statsmodels.iolib.summary.Summary'>\n",
       "\"\"\"\n",
       "                            OLS Regression Results                            \n",
       "==============================================================================\n",
       "Dep. Variable:                      y   R-squared:                       0.863\n",
       "Model:                            OLS   Adj. R-squared:                  0.859\n",
       "Method:                 Least Squares   F-statistic:                     233.0\n",
       "Date:                Mon, 17 Mar 2025   Prob (F-statistic):           1.51e-17\n",
       "Time:                        15:15:52   Log-Likelihood:                -10.518\n",
       "No. Observations:                  39   AIC:                             25.04\n",
       "Df Residuals:                      37   BIC:                             28.36\n",
       "Df Model:                           1                                         \n",
       "Covariance Type:            nonrobust                                         \n",
       "==============================================================================\n",
       "                 coef    std err          t      P>|t|      [0.025      0.975]\n",
       "------------------------------------------------------------------------------\n",
       "const       -717.4255     47.192    -15.202      0.000    -813.045    -621.806\n",
       "x1             0.3564      0.023     15.263      0.000       0.309       0.404\n",
       "==============================================================================\n",
       "Omnibus:                        5.566   Durbin-Watson:                   1.953\n",
       "Prob(Omnibus):                  0.062   Jarque-Bera (JB):                4.658\n",
       "Skew:                           0.514   Prob(JB):                       0.0974\n",
       "Kurtosis:                       4.345   Cond. No.                     1.83e+06\n",
       "==============================================================================\n",
       "\n",
       "Notes:\n",
       "[1] Standard Errors assume that the covariance matrix of the errors is correctly specified.\n",
       "[2] The condition number is large, 1.83e+06. This might indicate that there are\n",
       "strong multicollinearity or other numerical problems.\n",
       "\"\"\""
      ]
     },
     "execution_count": 42,
     "metadata": {},
     "output_type": "execute_result"
    }
   ],
   "source": [
    "power_reg_results = fit_ols_regression(\n",
    "    filtered_component_cost_df,\n",
    "    ['Publication date (float)'],\n",
    "    power_col,\n",
    "    logy=True\n",
    ")\n",
    "power_reg_results.summary()"
   ]
  },
  {
   "cell_type": "code",
   "execution_count": null,
   "metadata": {},
   "outputs": [
    {
     "name": "stdout",
     "output_type": "stream",
     "text": [
      "N=39.0\n",
      "R^2=0.86\n",
      "0.3564433491873348 OOMs/year (90% CI: 0.3170440986156087, 0.39584259975906083)\n",
      "2.2721832248227765x/year (90% CI: 2.075124216561464x, 2.4879554515155515x)\n",
      "doubling time of 10.13445742837872 months (90% CI: 9.12574834079638, 11.393872220745795)\n"
     ]
    }
   ],
   "source": [
    "with open(f'{results_dir}/power_regression_results.out', 'w') as f:\n",
    "    with redirect_stdout(f):\n",
    "        print_growth_rates(power_reg_results)\n",
    "print_growth_rates(power_reg_results)"
   ]
  },
  {
   "cell_type": "code",
   "execution_count": null,
   "metadata": {},
   "outputs": [
    {
     "data": {
      "text/html": [
       "<div>\n",
       "<style scoped>\n",
       "    .dataframe tbody tr th:only-of-type {\n",
       "        vertical-align: middle;\n",
       "    }\n",
       "\n",
       "    .dataframe tbody tr th {\n",
       "        vertical-align: top;\n",
       "    }\n",
       "\n",
       "    .dataframe thead th {\n",
       "        text-align: right;\n",
       "    }\n",
       "</style>\n",
       "<table border=\"1\" class=\"dataframe\">\n",
       "  <thead>\n",
       "    <tr style=\"text-align: right;\">\n",
       "      <th></th>\n",
       "      <th>Publication date (float)</th>\n",
       "    </tr>\n",
       "  </thead>\n",
       "  <tbody>\n",
       "    <tr>\n",
       "      <th>0</th>\n",
       "      <td>2015.00000</td>\n",
       "    </tr>\n",
       "    <tr>\n",
       "      <th>1</th>\n",
       "      <td>2015.10101</td>\n",
       "    </tr>\n",
       "    <tr>\n",
       "      <th>2</th>\n",
       "      <td>2015.20202</td>\n",
       "    </tr>\n",
       "    <tr>\n",
       "      <th>3</th>\n",
       "      <td>2015.30303</td>\n",
       "    </tr>\n",
       "    <tr>\n",
       "      <th>4</th>\n",
       "      <td>2015.40404</td>\n",
       "    </tr>\n",
       "    <tr>\n",
       "      <th>...</th>\n",
       "      <td>...</td>\n",
       "    </tr>\n",
       "    <tr>\n",
       "      <th>95</th>\n",
       "      <td>2024.59596</td>\n",
       "    </tr>\n",
       "    <tr>\n",
       "      <th>96</th>\n",
       "      <td>2024.69697</td>\n",
       "    </tr>\n",
       "    <tr>\n",
       "      <th>97</th>\n",
       "      <td>2024.79798</td>\n",
       "    </tr>\n",
       "    <tr>\n",
       "      <th>98</th>\n",
       "      <td>2024.89899</td>\n",
       "    </tr>\n",
       "    <tr>\n",
       "      <th>99</th>\n",
       "      <td>2025.00000</td>\n",
       "    </tr>\n",
       "  </tbody>\n",
       "</table>\n",
       "<p>100 rows × 1 columns</p>\n",
       "</div>"
      ],
      "text/plain": [
       "    Publication date (float)\n",
       "0                 2015.00000\n",
       "1                 2015.10101\n",
       "2                 2015.20202\n",
       "3                 2015.30303\n",
       "4                 2015.40404\n",
       "..                       ...\n",
       "95                2024.59596\n",
       "96                2024.69697\n",
       "97                2024.79798\n",
       "98                2024.89899\n",
       "99                2025.00000\n",
       "\n",
       "[100 rows x 1 columns]"
      ]
     },
     "execution_count": 44,
     "metadata": {},
     "output_type": "execute_result"
    }
   ],
   "source": [
    "pred_start_year = 2015\n",
    "pred_end_year = 2025\n",
    "pred_start_date = f'{pred_start_year}-01-01'\n",
    "pred_end_date = f'{pred_end_year}-01-01'\n",
    "\n",
    "pred_years = pd.DataFrame({'Publication date (float)': np.linspace(pred_start_year, pred_end_year, 100)})\n",
    "pred_years"
   ]
  },
  {
   "cell_type": "code",
   "execution_count": null,
   "metadata": {},
   "outputs": [
    {
     "data": {
      "text/html": [
       "<div>\n",
       "<style scoped>\n",
       "    .dataframe tbody tr th:only-of-type {\n",
       "        vertical-align: middle;\n",
       "    }\n",
       "\n",
       "    .dataframe tbody tr th {\n",
       "        vertical-align: top;\n",
       "    }\n",
       "\n",
       "    .dataframe thead th {\n",
       "        text-align: right;\n",
       "    }\n",
       "</style>\n",
       "<table border=\"1\" class=\"dataframe\">\n",
       "  <thead>\n",
       "    <tr style=\"text-align: right;\">\n",
       "      <th></th>\n",
       "      <th>mean</th>\n",
       "      <th>mean_se</th>\n",
       "      <th>mean_ci_lower</th>\n",
       "      <th>mean_ci_upper</th>\n",
       "      <th>obs_ci_lower</th>\n",
       "      <th>obs_ci_upper</th>\n",
       "      <th>Publication date (float)</th>\n",
       "      <th>Publication date</th>\n",
       "    </tr>\n",
       "  </thead>\n",
       "  <tbody>\n",
       "    <tr>\n",
       "      <th>0</th>\n",
       "      <td>0.807834</td>\n",
       "      <td>0.144451</td>\n",
       "      <td>0.564132</td>\n",
       "      <td>1.051537</td>\n",
       "      <td>0.207307</td>\n",
       "      <td>1.408361</td>\n",
       "      <td>2015.00000</td>\n",
       "      <td>2015-01-01</td>\n",
       "    </tr>\n",
       "    <tr>\n",
       "      <th>1</th>\n",
       "      <td>0.843838</td>\n",
       "      <td>0.142253</td>\n",
       "      <td>0.603844</td>\n",
       "      <td>1.083833</td>\n",
       "      <td>0.244807</td>\n",
       "      <td>1.442870</td>\n",
       "      <td>2015.10101</td>\n",
       "      <td>2015-02-06</td>\n",
       "    </tr>\n",
       "    <tr>\n",
       "      <th>2</th>\n",
       "      <td>0.879843</td>\n",
       "      <td>0.140061</td>\n",
       "      <td>0.643547</td>\n",
       "      <td>1.116139</td>\n",
       "      <td>0.282284</td>\n",
       "      <td>1.477402</td>\n",
       "      <td>2015.20202</td>\n",
       "      <td>2015-03-15</td>\n",
       "    </tr>\n",
       "    <tr>\n",
       "      <th>3</th>\n",
       "      <td>0.915847</td>\n",
       "      <td>0.137874</td>\n",
       "      <td>0.683241</td>\n",
       "      <td>1.148454</td>\n",
       "      <td>0.319737</td>\n",
       "      <td>1.511957</td>\n",
       "      <td>2015.30303</td>\n",
       "      <td>2015-04-21</td>\n",
       "    </tr>\n",
       "    <tr>\n",
       "      <th>4</th>\n",
       "      <td>0.951852</td>\n",
       "      <td>0.135693</td>\n",
       "      <td>0.722925</td>\n",
       "      <td>1.180778</td>\n",
       "      <td>0.357168</td>\n",
       "      <td>1.546535</td>\n",
       "      <td>2015.40404</td>\n",
       "      <td>2015-05-28</td>\n",
       "    </tr>\n",
       "    <tr>\n",
       "      <th>...</th>\n",
       "      <td>...</td>\n",
       "      <td>...</td>\n",
       "      <td>...</td>\n",
       "      <td>...</td>\n",
       "      <td>...</td>\n",
       "      <td>...</td>\n",
       "      <td>...</td>\n",
       "      <td>...</td>\n",
       "    </tr>\n",
       "    <tr>\n",
       "      <th>95</th>\n",
       "      <td>4.228250</td>\n",
       "      <td>0.103442</td>\n",
       "      <td>4.053734</td>\n",
       "      <td>4.402766</td>\n",
       "      <td>3.652318</td>\n",
       "      <td>4.804182</td>\n",
       "      <td>2024.59596</td>\n",
       "      <td>2024-08-06</td>\n",
       "    </tr>\n",
       "    <tr>\n",
       "      <th>96</th>\n",
       "      <td>4.264254</td>\n",
       "      <td>0.105487</td>\n",
       "      <td>4.086289</td>\n",
       "      <td>4.442220</td>\n",
       "      <td>3.687268</td>\n",
       "      <td>4.841241</td>\n",
       "      <td>2024.69697</td>\n",
       "      <td>2024-09-12</td>\n",
       "    </tr>\n",
       "    <tr>\n",
       "      <th>97</th>\n",
       "      <td>4.300259</td>\n",
       "      <td>0.107544</td>\n",
       "      <td>4.118822</td>\n",
       "      <td>4.481696</td>\n",
       "      <td>3.722193</td>\n",
       "      <td>4.878325</td>\n",
       "      <td>2024.79798</td>\n",
       "      <td>2024-10-19</td>\n",
       "    </tr>\n",
       "    <tr>\n",
       "      <th>98</th>\n",
       "      <td>4.336263</td>\n",
       "      <td>0.109614</td>\n",
       "      <td>4.151335</td>\n",
       "      <td>4.521192</td>\n",
       "      <td>3.757091</td>\n",
       "      <td>4.915435</td>\n",
       "      <td>2024.89899</td>\n",
       "      <td>2024-11-25</td>\n",
       "    </tr>\n",
       "    <tr>\n",
       "      <th>99</th>\n",
       "      <td>4.372268</td>\n",
       "      <td>0.111695</td>\n",
       "      <td>4.183828</td>\n",
       "      <td>4.560707</td>\n",
       "      <td>3.791965</td>\n",
       "      <td>4.952570</td>\n",
       "      <td>2025.00000</td>\n",
       "      <td>2025-01-01</td>\n",
       "    </tr>\n",
       "  </tbody>\n",
       "</table>\n",
       "<p>100 rows × 8 columns</p>\n",
       "</div>"
      ],
      "text/plain": [
       "        mean   mean_se  mean_ci_lower  mean_ci_upper  obs_ci_lower  \\\n",
       "0   0.807834  0.144451       0.564132       1.051537      0.207307   \n",
       "1   0.843838  0.142253       0.603844       1.083833      0.244807   \n",
       "2   0.879843  0.140061       0.643547       1.116139      0.282284   \n",
       "3   0.915847  0.137874       0.683241       1.148454      0.319737   \n",
       "4   0.951852  0.135693       0.722925       1.180778      0.357168   \n",
       "..       ...       ...            ...            ...           ...   \n",
       "95  4.228250  0.103442       4.053734       4.402766      3.652318   \n",
       "96  4.264254  0.105487       4.086289       4.442220      3.687268   \n",
       "97  4.300259  0.107544       4.118822       4.481696      3.722193   \n",
       "98  4.336263  0.109614       4.151335       4.521192      3.757091   \n",
       "99  4.372268  0.111695       4.183828       4.560707      3.791965   \n",
       "\n",
       "    obs_ci_upper  Publication date (float) Publication date  \n",
       "0       1.408361                2015.00000       2015-01-01  \n",
       "1       1.442870                2015.10101       2015-02-06  \n",
       "2       1.477402                2015.20202       2015-03-15  \n",
       "3       1.511957                2015.30303       2015-04-21  \n",
       "4       1.546535                2015.40404       2015-05-28  \n",
       "..           ...                       ...              ...  \n",
       "95      4.804182                2024.59596       2024-08-06  \n",
       "96      4.841241                2024.69697       2024-09-12  \n",
       "97      4.878325                2024.79798       2024-10-19  \n",
       "98      4.915435                2024.89899       2024-11-25  \n",
       "99      4.952570                2025.00000       2025-01-01  \n",
       "\n",
       "[100 rows x 8 columns]"
      ]
     },
     "execution_count": 45,
     "metadata": {},
     "output_type": "execute_result"
    }
   ],
   "source": [
    "predicted_power_df = get_predictions(power_reg_results, pred_years, ['Publication date (float)'])\n",
    "predicted_power_df['Publication date'] = predicted_power_df['Publication date (float)'].apply(float_year_to_datetime)\n",
    "predicted_power_df"
   ]
  },
  {
   "cell_type": "markdown",
   "metadata": {},
   "source": [
    "## Power plot"
   ]
  },
  {
   "cell_type": "code",
   "execution_count": null,
   "metadata": {},
   "outputs": [
    {
     "data": {
      "application/vnd.plotly.v1+json": {
       "config": {
        "plotlyServerURL": "https://plot.ly"
       },
       "data": [
        {
         "hovertemplate": "Publication date=%{x}<br>Power capacity for final training run (kW)=%{y}<extra></extra>",
         "legendgroup": "",
         "marker": {
          "color": "rgb(0,100,200)",
          "symbol": "circle"
         },
         "mode": "markers",
         "name": "",
         "orientation": "v",
         "showlegend": false,
         "textposition": "top center",
         "type": "scatter",
         "x": [
          "2015-12-08T00:00:00",
          "2016-09-26T00:00:00",
          "2016-10-07T00:00:00",
          "2016-11-17T00:00:00",
          "2017-01-23T00:00:00",
          "2017-07-10T00:00:00",
          "2017-10-18T00:00:00",
          "2017-10-19T00:00:00",
          "2018-05-02T00:00:00",
          "2018-09-28T00:00:00",
          "2019-02-14T00:00:00",
          "2019-05-29T00:00:00",
          "2019-06-01T00:00:00",
          "2019-07-01T00:00:00",
          "2019-09-17T00:00:00",
          "2019-09-17T00:00:00",
          "2019-10-23T00:00:00",
          "2019-10-23T00:00:00",
          "2019-10-30T00:00:00",
          "2019-11-05T00:00:00",
          "2019-11-11T00:00:00",
          "2019-12-13T00:00:00",
          "2019-12-13T00:00:00",
          "2020-01-28T00:00:00",
          "2020-05-28T00:00:00",
          "2020-06-17T00:00:00",
          "2020-06-30T00:00:00",
          "2021-01-05T00:00:00",
          "2021-01-11T00:00:00",
          "2021-03-01T00:00:00",
          "2021-05-04T00:00:00",
          "2021-05-28T00:00:00",
          "2021-08-11T00:00:00",
          "2021-09-10T00:00:00",
          "2021-10-11T00:00:00",
          "2021-12-08T00:00:00",
          "2021-12-13T00:00:00",
          "2022-02-10T00:00:00",
          "2022-04-04T00:00:00",
          "2022-05-02T00:00:00",
          "2022-06-22T00:00:00",
          "2022-11-28T00:00:00",
          "2023-03-15T00:00:00",
          "2023-05-10T00:00:00",
          "2023-09-06T00:00:00",
          "2023-09-28T00:00:00",
          "2023-11-22T00:00:00",
          "2023-12-06T00:00:00",
          "2024-02-15T00:00:00",
          "2024-02-23T00:00:00",
          "2024-02-26T00:00:00",
          "2024-03-07T00:00:00",
          "2024-06-14T00:00:00",
          "2024-07-23T00:00:00",
          "2024-08-13T00:00:00"
         ],
         "xaxis": "x",
         "y": [
          9,
          null,
          35.64000000000001,
          18,
          31.046400000000002,
          29.700000000000003,
          null,
          null,
          184.8,
          186.2784,
          null,
          186.2784,
          null,
          469.33333333333337,
          266.6666666666667,
          266.6666666666667,
          372.5568,
          null,
          279.4176,
          229.16666666666669,
          745.1136,
          288,
          864,
          745.1136,
          5208.333333333334,
          null,
          745.1136,
          533.3333333333334,
          745.1136,
          745.1136,
          372.5568,
          null,
          null,
          1040,
          4004,
          2980.4544,
          337.37932800000004,
          745.1136,
          2024.2759680000004,
          915.2,
          null,
          null,
          25390.625,
          null,
          4160,
          12298,
          7968.75,
          18779.904000000002,
          null,
          12480,
          null,
          null,
          9792,
          22978.56,
          null
         ],
         "yaxis": "y"
        },
        {
         "mode": "text",
         "showlegend": false,
         "text": [
          "GNMT",
          "AlphaGo Zero",
          "AlphaGo Master",
          "GPT-3 175B (davinci)",
          "DALL-E",
          "PaLM (540B)",
          "GPT-4",
          "Inflection-2",
          "Gemini 1.0 Ultra"
         ],
         "textposition": "top center",
         "type": "scatter",
         "x": [
          "2016-09-26T00:00:00",
          "2017-10-18T00:00:00",
          "2017-10-19T00:00:00",
          "2020-05-28T00:00:00",
          "2021-01-05T00:00:00",
          "2022-04-04T00:00:00",
          "2023-03-15T00:00:00",
          "2023-11-22T00:00:00",
          "2023-12-06T00:00:00"
         ],
         "y": [
          null,
          null,
          null,
          5208.333333333334,
          533.3333333333334,
          2024.2759680000004,
          25390.625,
          7968.75,
          18779.904000000002
         ]
        },
        {
         "line": {
          "width": 0
         },
         "mode": "lines",
         "showlegend": false,
         "textposition": "top center",
         "type": "scatter",
         "x": [
          "2015-01-01T00:00:00",
          "2015-02-06T00:00:00",
          "2015-03-15T00:00:00",
          "2015-04-21T00:00:00",
          "2015-05-28T00:00:00",
          "2015-07-04T00:00:00",
          "2015-08-10T00:00:00",
          "2015-09-16T00:00:00",
          "2015-10-22T00:00:00",
          "2015-11-28T00:00:00",
          "2016-01-04T00:00:00",
          "2016-02-10T00:00:00",
          "2016-03-18T00:00:00",
          "2016-04-24T00:00:00",
          "2016-05-31T00:00:00",
          "2016-07-07T00:00:00",
          "2016-08-13T00:00:00",
          "2016-09-19T00:00:00",
          "2016-10-26T00:00:00",
          "2016-12-02T00:00:00",
          "2017-01-08T00:00:00",
          "2017-02-14T00:00:00",
          "2017-03-23T00:00:00",
          "2017-04-28T00:00:00",
          "2017-06-04T00:00:00",
          "2017-07-11T00:00:00",
          "2017-08-17T00:00:00",
          "2017-09-23T00:00:00",
          "2017-10-30T00:00:00",
          "2017-12-06T00:00:00",
          "2018-01-12T00:00:00",
          "2018-02-17T00:00:00",
          "2018-03-26T00:00:00",
          "2018-05-02T00:00:00",
          "2018-06-08T00:00:00",
          "2018-07-15T00:00:00",
          "2018-08-21T00:00:00",
          "2018-09-27T00:00:00",
          "2018-11-03T00:00:00",
          "2018-12-09T00:00:00",
          "2019-01-15T00:00:00",
          "2019-02-21T00:00:00",
          "2019-03-30T00:00:00",
          "2019-05-06T00:00:00",
          "2019-06-12T00:00:00",
          "2019-07-19T00:00:00",
          "2019-08-24T00:00:00",
          "2019-09-30T00:00:00",
          "2019-11-06T00:00:00",
          "2019-12-13T00:00:00",
          "2020-01-19T00:00:00",
          "2020-02-25T00:00:00",
          "2020-04-02T00:00:00",
          "2020-05-09T00:00:00",
          "2020-06-15T00:00:00",
          "2020-07-22T00:00:00",
          "2020-08-28T00:00:00",
          "2020-10-04T00:00:00",
          "2020-11-10T00:00:00",
          "2020-12-17T00:00:00",
          "2021-01-23T00:00:00",
          "2021-02-28T00:00:00",
          "2021-04-06T00:00:00",
          "2021-05-13T00:00:00",
          "2021-06-19T00:00:00",
          "2021-07-26T00:00:00",
          "2021-09-01T00:00:00",
          "2021-10-08T00:00:00",
          "2021-11-14T00:00:00",
          "2021-12-20T00:00:00",
          "2022-01-26T00:00:00",
          "2022-03-04T00:00:00",
          "2022-04-10T00:00:00",
          "2022-05-17T00:00:00",
          "2022-06-23T00:00:00",
          "2022-07-30T00:00:00",
          "2022-09-05T00:00:00",
          "2022-10-11T00:00:00",
          "2022-11-17T00:00:00",
          "2022-12-24T00:00:00",
          "2023-01-30T00:00:00",
          "2023-03-08T00:00:00",
          "2023-04-14T00:00:00",
          "2023-05-21T00:00:00",
          "2023-06-26T00:00:00",
          "2023-08-02T00:00:00",
          "2023-09-08T00:00:00",
          "2023-10-15T00:00:00",
          "2023-11-21T00:00:00",
          "2023-12-28T00:00:00",
          "2024-02-03T00:00:00",
          "2024-03-11T00:00:00",
          "2024-04-17T00:00:00",
          "2024-05-24T00:00:00",
          "2024-06-30T00:00:00",
          "2024-08-06T00:00:00",
          "2024-09-12T00:00:00",
          "2024-10-19T00:00:00",
          "2024-11-25T00:00:00",
          "2025-01-01T00:00:00"
         ],
         "y": [
          3.6654873820104994,
          4.016462665405139,
          4.400954593160902,
          4.82215056691541,
          5.283539063740412,
          5.788937748560206,
          6.342524157132085,
          6.948869175188272,
          7.612973557377525,
          8.340307748868495,
          9.136855292728818,
          10.009160127604845,
          10.964378102608112,
          12.010333059753128,
          13.15557785846528,
          14.40946074163678,
          15.782197468035076,
          17.28494966151741,
          18.929909852799227,
          20.730393714357675,
          22.700940012495668,
          24.857418822390457,
          27.217148570812462,
          29.79902248645767,
          32.62364504845687,
          35.7134790278308,
          39.093003713646034,
          42.788884903186556,
          46.8301572126279,
          51.248419229017564,
          56.07804197512313,
          61.35639109384102,
          67.12406307878867,
          73.42513578134337,
          80.30743331485101,
          87.8228053564421,
          96.02742072374147,
          104.98207498618233,
          114.75251177506438,
          125.40975740139626,
          137.03046840443847,
          149.6972917671131,
          163.49923778787024,
          178.5320660353639,
          194.89868547395403,
          212.7095707762744,
          232.08319805546114,
          253.14650475926032,
          276.035380231073,
          300.8951953830657,
          327.88138190330045,
          357.16007325206965,
          388.90882115973744,
          423.31740219270813,
          460.58872899582343,
          500.93987993644123,
          544.6032590642424,
          591.8278957332136,
          642.8808902115096,
          698.0490085655017,
          757.6404274950253,
          821.9866280425371,
          891.4444364671845,
          966.3982111796238,
          1047.2621763700972,
          1134.4829055998741,
          1228.541961838804,
          1329.9587038578054,
          1439.293272249652,
          1557.1497714210975,
          1684.1796665896911,
          1821.0854170778612,
          1968.6243691074396,
          2127.612932918936,
          2298.9310705169196,
          2483.527121738145,
          2682.4229977937694,
          2896.7197729833574,
          3127.6037070201446,
          3376.3527323325375,
          3644.3434428946443,
          3933.058623559865,
          4244.095361596093,
          4579.173785089343,
          4940.146476158155,
          5329.008610512665,
          5747.908878759376,
          6199.1612490846555,
          6685.25763548691,
          7208.88154068187,
          7772.922748082806,
          8380.49314300955,
          9034.943749411492,
          9739.88307507442,
          10499.196865385895,
          11317.06937346454,
          12198.006262697572,
          13146.85926671277,
          14168.852741340917,
          15269.61225351108
         ]
        },
        {
         "fill": "tonexty",
         "fillcolor": "rgba(0,100,200,0.2)",
         "line": {
          "width": 0
         },
         "mode": "lines",
         "name": "90% CI of mean",
         "textposition": "top center",
         "type": "scatter",
         "x": [
          "2015-01-01T00:00:00",
          "2015-02-06T00:00:00",
          "2015-03-15T00:00:00",
          "2015-04-21T00:00:00",
          "2015-05-28T00:00:00",
          "2015-07-04T00:00:00",
          "2015-08-10T00:00:00",
          "2015-09-16T00:00:00",
          "2015-10-22T00:00:00",
          "2015-11-28T00:00:00",
          "2016-01-04T00:00:00",
          "2016-02-10T00:00:00",
          "2016-03-18T00:00:00",
          "2016-04-24T00:00:00",
          "2016-05-31T00:00:00",
          "2016-07-07T00:00:00",
          "2016-08-13T00:00:00",
          "2016-09-19T00:00:00",
          "2016-10-26T00:00:00",
          "2016-12-02T00:00:00",
          "2017-01-08T00:00:00",
          "2017-02-14T00:00:00",
          "2017-03-23T00:00:00",
          "2017-04-28T00:00:00",
          "2017-06-04T00:00:00",
          "2017-07-11T00:00:00",
          "2017-08-17T00:00:00",
          "2017-09-23T00:00:00",
          "2017-10-30T00:00:00",
          "2017-12-06T00:00:00",
          "2018-01-12T00:00:00",
          "2018-02-17T00:00:00",
          "2018-03-26T00:00:00",
          "2018-05-02T00:00:00",
          "2018-06-08T00:00:00",
          "2018-07-15T00:00:00",
          "2018-08-21T00:00:00",
          "2018-09-27T00:00:00",
          "2018-11-03T00:00:00",
          "2018-12-09T00:00:00",
          "2019-01-15T00:00:00",
          "2019-02-21T00:00:00",
          "2019-03-30T00:00:00",
          "2019-05-06T00:00:00",
          "2019-06-12T00:00:00",
          "2019-07-19T00:00:00",
          "2019-08-24T00:00:00",
          "2019-09-30T00:00:00",
          "2019-11-06T00:00:00",
          "2019-12-13T00:00:00",
          "2020-01-19T00:00:00",
          "2020-02-25T00:00:00",
          "2020-04-02T00:00:00",
          "2020-05-09T00:00:00",
          "2020-06-15T00:00:00",
          "2020-07-22T00:00:00",
          "2020-08-28T00:00:00",
          "2020-10-04T00:00:00",
          "2020-11-10T00:00:00",
          "2020-12-17T00:00:00",
          "2021-01-23T00:00:00",
          "2021-02-28T00:00:00",
          "2021-04-06T00:00:00",
          "2021-05-13T00:00:00",
          "2021-06-19T00:00:00",
          "2021-07-26T00:00:00",
          "2021-09-01T00:00:00",
          "2021-10-08T00:00:00",
          "2021-11-14T00:00:00",
          "2021-12-20T00:00:00",
          "2022-01-26T00:00:00",
          "2022-03-04T00:00:00",
          "2022-04-10T00:00:00",
          "2022-05-17T00:00:00",
          "2022-06-23T00:00:00",
          "2022-07-30T00:00:00",
          "2022-09-05T00:00:00",
          "2022-10-11T00:00:00",
          "2022-11-17T00:00:00",
          "2022-12-24T00:00:00",
          "2023-01-30T00:00:00",
          "2023-03-08T00:00:00",
          "2023-04-14T00:00:00",
          "2023-05-21T00:00:00",
          "2023-06-26T00:00:00",
          "2023-08-02T00:00:00",
          "2023-09-08T00:00:00",
          "2023-10-15T00:00:00",
          "2023-11-21T00:00:00",
          "2023-12-28T00:00:00",
          "2024-02-03T00:00:00",
          "2024-03-11T00:00:00",
          "2024-04-17T00:00:00",
          "2024-05-24T00:00:00",
          "2024-06-30T00:00:00",
          "2024-08-06T00:00:00",
          "2024-09-12T00:00:00",
          "2024-10-19T00:00:00",
          "2024-11-25T00:00:00",
          "2025-01-01T00:00:00"
         ],
         "y": [
          11.259951148655704,
          12.129230747912704,
          13.065885927601615,
          14.075172974085273,
          15.162762834732511,
          16.33477447631963,
          17.597811021970156,
          18.958998912542786,
          20.42603036229124,
          22.007209405405412,
          23.71150185963395,
          25.548589566432966,
          27.528929303992733,
          29.663816811103917,
          31.965456406137633,
          34.447036737762836,
          37.12281326259365,
          40.00819811135867,
          43.11985807970441,
          46.475821564345615,
          50.09559536070915,
          54.00029234678342,
          58.2127712006111,
          62.75778943833497,
          67.66217121843249,
          72.95499153746806,
          78.66777864736615,
          84.83473675579766,
          91.49299133458932,
          98.68285965778527,
          106.44814952660224,
          114.8364895146975,
          123.89969448881247,
          133.69417062724776,
          144.2813646751534,
          155.72826273847474,
          168.10794452731403,
          181.50019960473531,
          195.99221287161396,
          211.67932720306047,
          228.66589182925625,
          247.06620569221792,
          267.005565578954,
          288.6214292956366,
          312.0647044655411,
          337.5011736803565,
          365.11306668833777,
          395.1007900776049,
          427.6848245470498,
          463.1077994500607,
          501.6367539886088,
          543.5655944341144,
          589.2177572877096,
          638.949089625537,
          693.1509602154771,
          752.2536184901488,
          816.7298231184047,
          887.0987676088516,
          963.9303368026173,
          1047.8497348882636,
          1139.5425322478866,
          1239.7601846616762,
          1349.3260838940535,
          1469.1422034202103,
          1600.196407133954,
          1743.5704926107155,
          1900.4490442698848,
          2072.1291759617784,
          2260.0312474909683,
          2465.710645621156,
          2690.8707274134044,
          2937.377032379356,
          3207.272879974881,
          3502.7964803733626,
          3826.3996992951606,
          4180.768631871287,
          4568.84615618747,
          4993.856654282615,
          5459.33310714436,
          5969.146790667704,
          6527.539821896927,
          7139.160829216836,
          7809.104046833456,
          8542.952162981925,
          9346.823283145044,
          10227.422404496125,
          11192.097835913499,
          12248.903039809331,
          13406.664417802876,
          14675.055612597615,
          16064.67895341905,
          17587.15473280857,
          19255.219068676248,
          21082.83117818117,
          23085.29096943607,
          25279.36794433838,
          27683.442501319423,
          30317.660831766167,
          33204.104718632865,
          36366.97767187052
         ]
        },
        {
         "line": {
          "color": "rgb(0,100,200)"
         },
         "mode": "lines",
         "name": "Regression mean (growth rate: 2.3x per year)",
         "textposition": "top center",
         "type": "scatter",
         "x": [
          "2015-01-01T00:00:00",
          "2015-02-06T00:00:00",
          "2015-03-15T00:00:00",
          "2015-04-21T00:00:00",
          "2015-05-28T00:00:00",
          "2015-07-04T00:00:00",
          "2015-08-10T00:00:00",
          "2015-09-16T00:00:00",
          "2015-10-22T00:00:00",
          "2015-11-28T00:00:00",
          "2016-01-04T00:00:00",
          "2016-02-10T00:00:00",
          "2016-03-18T00:00:00",
          "2016-04-24T00:00:00",
          "2016-05-31T00:00:00",
          "2016-07-07T00:00:00",
          "2016-08-13T00:00:00",
          "2016-09-19T00:00:00",
          "2016-10-26T00:00:00",
          "2016-12-02T00:00:00",
          "2017-01-08T00:00:00",
          "2017-02-14T00:00:00",
          "2017-03-23T00:00:00",
          "2017-04-28T00:00:00",
          "2017-06-04T00:00:00",
          "2017-07-11T00:00:00",
          "2017-08-17T00:00:00",
          "2017-09-23T00:00:00",
          "2017-10-30T00:00:00",
          "2017-12-06T00:00:00",
          "2018-01-12T00:00:00",
          "2018-02-17T00:00:00",
          "2018-03-26T00:00:00",
          "2018-05-02T00:00:00",
          "2018-06-08T00:00:00",
          "2018-07-15T00:00:00",
          "2018-08-21T00:00:00",
          "2018-09-27T00:00:00",
          "2018-11-03T00:00:00",
          "2018-12-09T00:00:00",
          "2019-01-15T00:00:00",
          "2019-02-21T00:00:00",
          "2019-03-30T00:00:00",
          "2019-05-06T00:00:00",
          "2019-06-12T00:00:00",
          "2019-07-19T00:00:00",
          "2019-08-24T00:00:00",
          "2019-09-30T00:00:00",
          "2019-11-06T00:00:00",
          "2019-12-13T00:00:00",
          "2020-01-19T00:00:00",
          "2020-02-25T00:00:00",
          "2020-04-02T00:00:00",
          "2020-05-09T00:00:00",
          "2020-06-15T00:00:00",
          "2020-07-22T00:00:00",
          "2020-08-28T00:00:00",
          "2020-10-04T00:00:00",
          "2020-11-10T00:00:00",
          "2020-12-17T00:00:00",
          "2021-01-23T00:00:00",
          "2021-02-28T00:00:00",
          "2021-04-06T00:00:00",
          "2021-05-13T00:00:00",
          "2021-06-19T00:00:00",
          "2021-07-26T00:00:00",
          "2021-09-01T00:00:00",
          "2021-10-08T00:00:00",
          "2021-11-14T00:00:00",
          "2021-12-20T00:00:00",
          "2022-01-26T00:00:00",
          "2022-03-04T00:00:00",
          "2022-04-10T00:00:00",
          "2022-05-17T00:00:00",
          "2022-06-23T00:00:00",
          "2022-07-30T00:00:00",
          "2022-09-05T00:00:00",
          "2022-10-11T00:00:00",
          "2022-11-17T00:00:00",
          "2022-12-24T00:00:00",
          "2023-01-30T00:00:00",
          "2023-03-08T00:00:00",
          "2023-04-14T00:00:00",
          "2023-05-21T00:00:00",
          "2023-06-26T00:00:00",
          "2023-08-02T00:00:00",
          "2023-09-08T00:00:00",
          "2023-10-15T00:00:00",
          "2023-11-21T00:00:00",
          "2023-12-28T00:00:00",
          "2024-02-03T00:00:00",
          "2024-03-11T00:00:00",
          "2024-04-17T00:00:00",
          "2024-05-24T00:00:00",
          "2024-06-30T00:00:00",
          "2024-08-06T00:00:00",
          "2024-09-12T00:00:00",
          "2024-10-19T00:00:00",
          "2024-11-25T00:00:00",
          "2025-01-01T00:00:00"
         ],
         "y": [
          6.42442284236118,
          6.979727964546715,
          7.5830317608984545,
          8.238483072533302,
          8.950589352190196,
          9.72424766139697,
          10.56477834691722,
          11.477961628085211,
          12.470077346605098,
          13.547948152206459,
          14.718986421107456,
          15.991245229965113,
          17.373473735811867,
          18.875177342871826,
          20.5066830699731,
          22.279210568117385,
          24.20494927652699,
          26.29714224783466,
          28.57017721881159,
          31.039685552967818,
          33.72264973535909,
          36.63752015892344,
          39.804342005436354,
          43.24489309355868,
          46.98283364206608,
          51.04386897805591,
          55.45592630914904,
          60.24934677518053,
          65.45709410027625,
          71.11498128004031,
          77.26191686288263,
          83.94017251892895,
          91.1956737368045,
          99.0783156471675,
          107.64230614505425,
          116.9465386703597,
          127.05499721037255,
          138.0371963092245,
          149.96865911039814,
          162.93143671933478,
          177.01467245819381,
          192.31521489289796,
          208.93828384783433,
          226.99819398891637,
          246.61914095047837,
          267.93605541255073,
          291.0955310011926,
          316.2568323938124,
          343.5929905613685,
          373.29199267992294,
          405.55807489343744,
          440.6131268192007,
          478.69821745348855,
          520.0752529717965,
          565.0287778227594,
          613.8679315033556,
          666.9285744704941,
          724.5755978098308,
          787.205432543213,
          855.2487758333104,
          929.1735528312526,
          1009.488134537224,
          1096.7448338001905,
          1191.543703501379,
          1294.5366630399908,
          1406.4319814961577,
          1527.9991483053923,
          1660.0741649360336,
          1803.5652939629713,
          1959.459305068505,
          2128.828260929253,
          2312.836889649914,
          2512.750594447438,
          2729.944155660569,
          2965.911184935625,
          3222.274396596978,
          3500.7967668430756,
          3803.3936574991762,
          4132.145987711773,
          4489.314544155366,
          4877.355528169311,
          5298.937446727605,
          5756.959463413578,
          6254.571335591204,
          6795.195074867386,
          7382.548479821182,
          8020.670702814747,
          8713.950026720446,
          9467.154042558263,
          10285.462435599817,
          11174.502605381504,
          12140.388364601446,
          13189.76198299595,
          14329.839865365499,
          15568.462177839676,
          16914.146763683148,
          18376.147719370416,
          19964.519033804943,
          21690.183728276075,
          23565.008972660245
         ]
        }
       ],
       "layout": {
        "autosize": false,
        "font": {
         "size": 14
        },
        "height": 600,
        "legend": {
         "tracegroupgap": 0,
         "x": 0.45,
         "y": 0.05
        },
        "margin": {
         "b": 10,
         "l": 10,
         "r": 10,
         "t": 60
        },
        "template": {
         "data": {
          "bar": [
           {
            "error_x": {
             "color": "#2a3f5f"
            },
            "error_y": {
             "color": "#2a3f5f"
            },
            "marker": {
             "line": {
              "color": "#E5ECF6",
              "width": 0.5
             },
             "pattern": {
              "fillmode": "overlay",
              "size": 10,
              "solidity": 0.2
             }
            },
            "type": "bar"
           }
          ],
          "barpolar": [
           {
            "marker": {
             "line": {
              "color": "#E5ECF6",
              "width": 0.5
             },
             "pattern": {
              "fillmode": "overlay",
              "size": 10,
              "solidity": 0.2
             }
            },
            "type": "barpolar"
           }
          ],
          "carpet": [
           {
            "aaxis": {
             "endlinecolor": "#2a3f5f",
             "gridcolor": "white",
             "linecolor": "white",
             "minorgridcolor": "white",
             "startlinecolor": "#2a3f5f"
            },
            "baxis": {
             "endlinecolor": "#2a3f5f",
             "gridcolor": "white",
             "linecolor": "white",
             "minorgridcolor": "white",
             "startlinecolor": "#2a3f5f"
            },
            "type": "carpet"
           }
          ],
          "choropleth": [
           {
            "colorbar": {
             "outlinewidth": 0,
             "ticks": ""
            },
            "type": "choropleth"
           }
          ],
          "contour": [
           {
            "colorbar": {
             "outlinewidth": 0,
             "ticks": ""
            },
            "colorscale": [
             [
              0,
              "#0d0887"
             ],
             [
              0.1111111111111111,
              "#46039f"
             ],
             [
              0.2222222222222222,
              "#7201a8"
             ],
             [
              0.3333333333333333,
              "#9c179e"
             ],
             [
              0.4444444444444444,
              "#bd3786"
             ],
             [
              0.5555555555555556,
              "#d8576b"
             ],
             [
              0.6666666666666666,
              "#ed7953"
             ],
             [
              0.7777777777777778,
              "#fb9f3a"
             ],
             [
              0.8888888888888888,
              "#fdca26"
             ],
             [
              1,
              "#f0f921"
             ]
            ],
            "type": "contour"
           }
          ],
          "contourcarpet": [
           {
            "colorbar": {
             "outlinewidth": 0,
             "ticks": ""
            },
            "type": "contourcarpet"
           }
          ],
          "heatmap": [
           {
            "colorbar": {
             "outlinewidth": 0,
             "ticks": ""
            },
            "colorscale": [
             [
              0,
              "#0d0887"
             ],
             [
              0.1111111111111111,
              "#46039f"
             ],
             [
              0.2222222222222222,
              "#7201a8"
             ],
             [
              0.3333333333333333,
              "#9c179e"
             ],
             [
              0.4444444444444444,
              "#bd3786"
             ],
             [
              0.5555555555555556,
              "#d8576b"
             ],
             [
              0.6666666666666666,
              "#ed7953"
             ],
             [
              0.7777777777777778,
              "#fb9f3a"
             ],
             [
              0.8888888888888888,
              "#fdca26"
             ],
             [
              1,
              "#f0f921"
             ]
            ],
            "type": "heatmap"
           }
          ],
          "heatmapgl": [
           {
            "colorbar": {
             "outlinewidth": 0,
             "ticks": ""
            },
            "colorscale": [
             [
              0,
              "#0d0887"
             ],
             [
              0.1111111111111111,
              "#46039f"
             ],
             [
              0.2222222222222222,
              "#7201a8"
             ],
             [
              0.3333333333333333,
              "#9c179e"
             ],
             [
              0.4444444444444444,
              "#bd3786"
             ],
             [
              0.5555555555555556,
              "#d8576b"
             ],
             [
              0.6666666666666666,
              "#ed7953"
             ],
             [
              0.7777777777777778,
              "#fb9f3a"
             ],
             [
              0.8888888888888888,
              "#fdca26"
             ],
             [
              1,
              "#f0f921"
             ]
            ],
            "type": "heatmapgl"
           }
          ],
          "histogram": [
           {
            "marker": {
             "pattern": {
              "fillmode": "overlay",
              "size": 10,
              "solidity": 0.2
             }
            },
            "type": "histogram"
           }
          ],
          "histogram2d": [
           {
            "colorbar": {
             "outlinewidth": 0,
             "ticks": ""
            },
            "colorscale": [
             [
              0,
              "#0d0887"
             ],
             [
              0.1111111111111111,
              "#46039f"
             ],
             [
              0.2222222222222222,
              "#7201a8"
             ],
             [
              0.3333333333333333,
              "#9c179e"
             ],
             [
              0.4444444444444444,
              "#bd3786"
             ],
             [
              0.5555555555555556,
              "#d8576b"
             ],
             [
              0.6666666666666666,
              "#ed7953"
             ],
             [
              0.7777777777777778,
              "#fb9f3a"
             ],
             [
              0.8888888888888888,
              "#fdca26"
             ],
             [
              1,
              "#f0f921"
             ]
            ],
            "type": "histogram2d"
           }
          ],
          "histogram2dcontour": [
           {
            "colorbar": {
             "outlinewidth": 0,
             "ticks": ""
            },
            "colorscale": [
             [
              0,
              "#0d0887"
             ],
             [
              0.1111111111111111,
              "#46039f"
             ],
             [
              0.2222222222222222,
              "#7201a8"
             ],
             [
              0.3333333333333333,
              "#9c179e"
             ],
             [
              0.4444444444444444,
              "#bd3786"
             ],
             [
              0.5555555555555556,
              "#d8576b"
             ],
             [
              0.6666666666666666,
              "#ed7953"
             ],
             [
              0.7777777777777778,
              "#fb9f3a"
             ],
             [
              0.8888888888888888,
              "#fdca26"
             ],
             [
              1,
              "#f0f921"
             ]
            ],
            "type": "histogram2dcontour"
           }
          ],
          "mesh3d": [
           {
            "colorbar": {
             "outlinewidth": 0,
             "ticks": ""
            },
            "type": "mesh3d"
           }
          ],
          "parcoords": [
           {
            "line": {
             "colorbar": {
              "outlinewidth": 0,
              "ticks": ""
             }
            },
            "type": "parcoords"
           }
          ],
          "pie": [
           {
            "automargin": true,
            "type": "pie"
           }
          ],
          "scatter": [
           {
            "fillpattern": {
             "fillmode": "overlay",
             "size": 10,
             "solidity": 0.2
            },
            "type": "scatter"
           }
          ],
          "scatter3d": [
           {
            "line": {
             "colorbar": {
              "outlinewidth": 0,
              "ticks": ""
             }
            },
            "marker": {
             "colorbar": {
              "outlinewidth": 0,
              "ticks": ""
             }
            },
            "type": "scatter3d"
           }
          ],
          "scattercarpet": [
           {
            "marker": {
             "colorbar": {
              "outlinewidth": 0,
              "ticks": ""
             }
            },
            "type": "scattercarpet"
           }
          ],
          "scattergeo": [
           {
            "marker": {
             "colorbar": {
              "outlinewidth": 0,
              "ticks": ""
             }
            },
            "type": "scattergeo"
           }
          ],
          "scattergl": [
           {
            "marker": {
             "colorbar": {
              "outlinewidth": 0,
              "ticks": ""
             }
            },
            "type": "scattergl"
           }
          ],
          "scattermapbox": [
           {
            "marker": {
             "colorbar": {
              "outlinewidth": 0,
              "ticks": ""
             }
            },
            "type": "scattermapbox"
           }
          ],
          "scatterpolar": [
           {
            "marker": {
             "colorbar": {
              "outlinewidth": 0,
              "ticks": ""
             }
            },
            "type": "scatterpolar"
           }
          ],
          "scatterpolargl": [
           {
            "marker": {
             "colorbar": {
              "outlinewidth": 0,
              "ticks": ""
             }
            },
            "type": "scatterpolargl"
           }
          ],
          "scatterternary": [
           {
            "marker": {
             "colorbar": {
              "outlinewidth": 0,
              "ticks": ""
             }
            },
            "type": "scatterternary"
           }
          ],
          "surface": [
           {
            "colorbar": {
             "outlinewidth": 0,
             "ticks": ""
            },
            "colorscale": [
             [
              0,
              "#0d0887"
             ],
             [
              0.1111111111111111,
              "#46039f"
             ],
             [
              0.2222222222222222,
              "#7201a8"
             ],
             [
              0.3333333333333333,
              "#9c179e"
             ],
             [
              0.4444444444444444,
              "#bd3786"
             ],
             [
              0.5555555555555556,
              "#d8576b"
             ],
             [
              0.6666666666666666,
              "#ed7953"
             ],
             [
              0.7777777777777778,
              "#fb9f3a"
             ],
             [
              0.8888888888888888,
              "#fdca26"
             ],
             [
              1,
              "#f0f921"
             ]
            ],
            "type": "surface"
           }
          ],
          "table": [
           {
            "cells": {
             "fill": {
              "color": "#EBF0F8"
             },
             "line": {
              "color": "white"
             }
            },
            "header": {
             "fill": {
              "color": "#C8D4E3"
             },
             "line": {
              "color": "white"
             }
            },
            "type": "table"
           }
          ]
         },
         "layout": {
          "annotationdefaults": {
           "arrowcolor": "#2a3f5f",
           "arrowhead": 0,
           "arrowwidth": 1
          },
          "autotypenumbers": "strict",
          "coloraxis": {
           "colorbar": {
            "outlinewidth": 0,
            "ticks": ""
           }
          },
          "colorscale": {
           "diverging": [
            [
             0,
             "#8e0152"
            ],
            [
             0.1,
             "#c51b7d"
            ],
            [
             0.2,
             "#de77ae"
            ],
            [
             0.3,
             "#f1b6da"
            ],
            [
             0.4,
             "#fde0ef"
            ],
            [
             0.5,
             "#f7f7f7"
            ],
            [
             0.6,
             "#e6f5d0"
            ],
            [
             0.7,
             "#b8e186"
            ],
            [
             0.8,
             "#7fbc41"
            ],
            [
             0.9,
             "#4d9221"
            ],
            [
             1,
             "#276419"
            ]
           ],
           "sequential": [
            [
             0,
             "#0d0887"
            ],
            [
             0.1111111111111111,
             "#46039f"
            ],
            [
             0.2222222222222222,
             "#7201a8"
            ],
            [
             0.3333333333333333,
             "#9c179e"
            ],
            [
             0.4444444444444444,
             "#bd3786"
            ],
            [
             0.5555555555555556,
             "#d8576b"
            ],
            [
             0.6666666666666666,
             "#ed7953"
            ],
            [
             0.7777777777777778,
             "#fb9f3a"
            ],
            [
             0.8888888888888888,
             "#fdca26"
            ],
            [
             1,
             "#f0f921"
            ]
           ],
           "sequentialminus": [
            [
             0,
             "#0d0887"
            ],
            [
             0.1111111111111111,
             "#46039f"
            ],
            [
             0.2222222222222222,
             "#7201a8"
            ],
            [
             0.3333333333333333,
             "#9c179e"
            ],
            [
             0.4444444444444444,
             "#bd3786"
            ],
            [
             0.5555555555555556,
             "#d8576b"
            ],
            [
             0.6666666666666666,
             "#ed7953"
            ],
            [
             0.7777777777777778,
             "#fb9f3a"
            ],
            [
             0.8888888888888888,
             "#fdca26"
            ],
            [
             1,
             "#f0f921"
            ]
           ]
          },
          "colorway": [
           "#636efa",
           "#EF553B",
           "#00cc96",
           "#ab63fa",
           "#FFA15A",
           "#19d3f3",
           "#FF6692",
           "#B6E880",
           "#FF97FF",
           "#FECB52"
          ],
          "font": {
           "color": "#2a3f5f"
          },
          "geo": {
           "bgcolor": "white",
           "lakecolor": "white",
           "landcolor": "#E5ECF6",
           "showlakes": true,
           "showland": true,
           "subunitcolor": "white"
          },
          "hoverlabel": {
           "align": "left"
          },
          "hovermode": "closest",
          "mapbox": {
           "style": "light"
          },
          "paper_bgcolor": "white",
          "plot_bgcolor": "#E5ECF6",
          "polar": {
           "angularaxis": {
            "gridcolor": "white",
            "linecolor": "white",
            "ticks": ""
           },
           "bgcolor": "#E5ECF6",
           "radialaxis": {
            "gridcolor": "white",
            "linecolor": "white",
            "ticks": ""
           }
          },
          "scene": {
           "xaxis": {
            "backgroundcolor": "#E5ECF6",
            "gridcolor": "white",
            "gridwidth": 2,
            "linecolor": "white",
            "showbackground": true,
            "ticks": "",
            "zerolinecolor": "white"
           },
           "yaxis": {
            "backgroundcolor": "#E5ECF6",
            "gridcolor": "white",
            "gridwidth": 2,
            "linecolor": "white",
            "showbackground": true,
            "ticks": "",
            "zerolinecolor": "white"
           },
           "zaxis": {
            "backgroundcolor": "#E5ECF6",
            "gridcolor": "white",
            "gridwidth": 2,
            "linecolor": "white",
            "showbackground": true,
            "ticks": "",
            "zerolinecolor": "white"
           }
          },
          "shapedefaults": {
           "line": {
            "color": "#2a3f5f"
           }
          },
          "ternary": {
           "aaxis": {
            "gridcolor": "white",
            "linecolor": "white",
            "ticks": ""
           },
           "baxis": {
            "gridcolor": "white",
            "linecolor": "white",
            "ticks": ""
           },
           "bgcolor": "#E5ECF6",
           "caxis": {
            "gridcolor": "white",
            "linecolor": "white",
            "ticks": ""
           }
          },
          "title": {
           "x": 0.05
          },
          "xaxis": {
           "automargin": true,
           "gridcolor": "white",
           "linecolor": "white",
           "ticks": "",
           "title": {
            "standoff": 15
           },
           "zerolinecolor": "white",
           "zerolinewidth": 2
          },
          "yaxis": {
           "automargin": true,
           "gridcolor": "white",
           "linecolor": "white",
           "ticks": "",
           "title": {
            "standoff": 15
           },
           "zerolinecolor": "white",
           "zerolinewidth": 2
          }
         }
        },
        "title": {
         "font": {
          "size": 16
         },
         "text": "Cluster power required for final training run",
         "x": 0.5
        },
        "width": 800,
        "xaxis": {
         "anchor": "y",
         "domain": [
          0,
          1
         ],
         "range": [
          "2015-01-01",
          "2025-01-01"
         ],
         "title": {
          "text": "Publication date"
         }
        },
        "yaxis": {
         "anchor": "x",
         "domain": [
          0,
          1
         ],
         "title": {
          "text": "Power (kW, log scale)"
         },
         "type": "log"
        }
       }
      }
     },
     "metadata": {},
     "output_type": "display_data"
    }
   ],
   "source": [
    "label_systems = ['GNMT', 'AlphaGo Master', 'AlphaGo Zero', 'AlphaZero', 'DALL-E', 'GPT-3 175B (davinci)', 'PaLM (540B)', 'Llama 2-70B', 'Falcon 180B', 'GPT-4', 'Gemini 1.0 Ultra', 'Inflection-2']\n",
    "\n",
    "fig = px.scatter(\n",
    "    filtered_component_cost_df,\n",
    "    x='Publication date',\n",
    "    y=power_col,\n",
    "    log_y=True,\n",
    ")\n",
    "\n",
    "# Marker color\n",
    "fig.update_traces(\n",
    "    marker=dict(\n",
    "        color='rgb(0,100,200)',\n",
    "    ),\n",
    "    selector=dict(mode='markers'),\n",
    ")\n",
    "\n",
    "fig.add_scatter(\n",
    "    x=filtered_component_cost_df.loc[filtered_component_cost_df['Model'].isin(label_systems)]['Publication date'],\n",
    "    y=filtered_component_cost_df.loc[filtered_component_cost_df['Model'].isin(label_systems)][power_col],\n",
    "    text=filtered_component_cost_df.loc[filtered_component_cost_df['Model'].isin(label_systems)]['Model'],\n",
    "    mode='text',\n",
    "    showlegend=False,\n",
    ")\n",
    "\n",
    "# Shade in CI\n",
    "fig.add_scatter(\n",
    "    x=predicted_power_df['Publication date'],\n",
    "    y=10**predicted_power_df['mean_ci_lower'],\n",
    "    mode='lines',\n",
    "    line=dict(width=0),\n",
    "    showlegend=False,\n",
    ")\n",
    "fig.add_scatter(\n",
    "    x=predicted_power_df['Publication date'],\n",
    "    y=10**predicted_power_df['mean_ci_upper'],\n",
    "    mode='lines',\n",
    "    fill='tonexty',\n",
    "    fillcolor='rgba(0,100,200,0.2)',\n",
    "    line=dict(width=0),\n",
    "    name='90% CI of mean',\n",
    ")\n",
    "fig.add_scatter(\n",
    "    x=predicted_power_df['Publication date'],\n",
    "    y=10**predicted_power_df['mean'],\n",
    "    mode='lines',\n",
    "    line=dict(color='rgb(0,100,200)'),\n",
    "    name=f'Regression mean (growth rate: {10**power_reg_results.params[1]:.1f}x per year)',\n",
    ")\n",
    "\n",
    "fig.update_traces(textposition='top center')\n",
    "\n",
    "# axis limits\n",
    "fig.update_xaxes(range=[pred_start_date, pred_end_date])\n",
    "# fig.update_xaxes(range=['2015-01-01', '2025-01-01'])  # manual\n",
    "# fig.update_yaxes(range=[1, 6])\n",
    "\n",
    "# legend on bottom-right of the axes\n",
    "fig.update_layout(\n",
    "    legend=dict(\n",
    "        x=0.45,\n",
    "        y=0.05,\n",
    "    )\n",
    ")\n",
    "\n",
    "# axis labels\n",
    "fig.update_xaxes(title_text='Publication date')\n",
    "fig.update_yaxes(title_text='Power (kW, log scale)')\n",
    "\n",
    "# title\n",
    "fig.update_layout(title_text='Cluster power required for final training run')\n",
    "\n",
    "# update size\n",
    "fig.update_layout(\n",
    "    autosize=False,\n",
    "    width=800,\n",
    "    height=600,\n",
    "    title_font=dict(\n",
    "        size=16,\n",
    "    ),\n",
    "    title_x=0.5,\n",
    ")\n",
    "\n",
    "# font size\n",
    "fig.update_layout(\n",
    "    font=dict(\n",
    "        size=14,\n",
    "    )\n",
    ")\n",
    "\n",
    "# margins\n",
    "fig.update_layout(margin=dict(l=10, r=10, t=60, b=10))\n",
    "\n",
    "save_plot(fig, results_dir, 'power_regression')\n",
    "\n",
    "fig.show()"
   ]
  },
  {
   "cell_type": "code",
   "execution_count": null,
   "metadata": {},
   "outputs": [],
   "source": []
  }
 ],
 "metadata": {
  "colab": {
   "provenance": []
  },
  "kernelspec": {
   "display_name": "epoch",
   "language": "python",
   "name": "python3"
  },
  "language_info": {
   "codemirror_mode": {
    "name": "ipython",
    "version": 3
   },
   "file_extension": ".py",
   "mimetype": "text/x-python",
   "name": "python",
   "nbconvert_exporter": "python",
   "pygments_lexer": "ipython3",
   "version": "3.12.3"
  }
 },
 "nbformat": 4,
 "nbformat_minor": 1
}
