{
 "cells": [
  {
   "cell_type": "markdown",
   "metadata": {},
   "source": [
    "# Setup"
   ]
  },
  {
   "cell_type": "code",
   "execution_count": 1,
   "metadata": {
    "ExecuteTime": {
     "end_time": "2024-02-29T19:51:45.130056800Z",
     "start_time": "2024-02-29T19:51:44.303405900Z"
    }
   },
   "outputs": [],
   "source": [
    "%load_ext autoreload\n",
    "%autoreload 2"
   ]
  },
  {
   "cell_type": "code",
   "execution_count": 2,
   "metadata": {
    "ExecuteTime": {
     "end_time": "2024-02-29T19:51:45.252625200Z",
     "start_time": "2024-02-29T19:51:45.138687300Z"
    },
    "id": "qltoZ7TbdkHZ"
   },
   "outputs": [],
   "source": [
    "import numpy as np\n",
    "import os\n",
    "import pandas as pd\n",
    "import plotly.express as px\n",
    "\n",
    "from cost import *\n",
    "from plotting import *\n",
    "from prices import *\n",
    "from imputation import *\n",
    "from inflation import *\n",
    "from regression import *\n",
    "from utils import *"
   ]
  },
  {
   "cell_type": "code",
   "execution_count": 3,
   "metadata": {
    "ExecuteTime": {
     "end_time": "2024-02-29T19:51:45.365449500Z",
     "start_time": "2024-02-29T19:51:45.255094700Z"
    }
   },
   "outputs": [],
   "source": [
    "results_dir = 'results/ai-index-final/'\n",
    "os.makedirs(results_dir, exist_ok=True)"
   ]
  },
  {
   "cell_type": "markdown",
   "metadata": {},
   "source": [
    "# Load data"
   ]
  },
  {
   "cell_type": "code",
   "execution_count": 4,
   "metadata": {
    "ExecuteTime": {
     "end_time": "2024-02-29T19:51:45.628834300Z",
     "start_time": "2024-02-29T19:51:45.365449500Z"
    }
   },
   "outputs": [
    {
     "name": "stderr",
     "output_type": "stream",
     "text": [
      "/Users/bencottier/Projects/training_cost_2/training-cost-trends/data.py:43: SettingWithCopyWarning: \n",
      "A value is trying to be set on a copy of a slice from a DataFrame.\n",
      "Try using .loc[row_indexer,col_indexer] = value instead\n",
      "\n",
      "See the caveats in the documentation: https://pandas.pydata.org/pandas-docs/stable/user_guide/indexing.html#returning-a-view-versus-a-copy\n",
      "  frontier_pcd_df.loc[:, 'Training compute (FLOP)'] = pd.to_numeric(\n"
     ]
    }
   ],
   "source": [
    "frontier_pcd_df, hardware_df, price_df = load_data_for_cost_estimation()"
   ]
  },
  {
   "cell_type": "code",
   "execution_count": 5,
   "metadata": {
    "ExecuteTime": {
     "end_time": "2024-02-29T19:51:45.758301400Z",
     "start_time": "2024-02-29T19:51:45.628834300Z"
    }
   },
   "outputs": [
    {
     "data": {
      "text/plain": [
       "(138, 5509, 73)"
      ]
     },
     "execution_count": 5,
     "metadata": {},
     "output_type": "execute_result"
    }
   ],
   "source": [
    "len(frontier_pcd_df), len(hardware_df), len(price_df)"
   ]
  },
  {
   "cell_type": "markdown",
   "metadata": {},
   "source": [
    "# Cost estimation"
   ]
  },
  {
   "cell_type": "code",
   "execution_count": 6,
   "metadata": {},
   "outputs": [
    {
     "name": "stdout",
     "output_type": "stream",
     "text": [
      "==== System: Gemini Ultra ====\n",
      "Trying Google TPU v4 at 2023-06-29 00:00:00\n",
      "Trying Google Cloud, Price per chip-hour (3-year CUD)\n",
      "Found price: 1.45 at 2023-06-01 00:00:00\n",
      "Difference between purchase time and price date: 28 days 00:00:00 \n",
      "\n",
      "==== System: Qwen-72B ====\n",
      "Training time is required but no value found\n",
      "\n",
      "==== System: Inflection-2 ====\n",
      "Training time is required but no value found\n",
      "\n",
      "==== System: Nemotron-3-8B ====\n",
      "Trying NVIDIA A100 at 2023-08-28 00:00:00\n",
      "Trying Amazon Web Services, Price per chip-hour (3-year CUD)\n",
      "Found price: 1.45 at 2022-12-09 00:00:00\n",
      "Difference between purchase time and price date: 262 days 00:00:00 \n",
      "\n",
      "==== System: CogVLM ====\n",
      "Training time is required but no value found\n",
      "\n",
      "==== System: Yi-34B ====\n",
      "Training time is required but no value found\n",
      "\n",
      "==== System: Skywork-13B ====\n",
      "Trying NVIDIA A800 at 2023-07-22 20:00:00\n",
      "Trying Amazon Web Services, Price per chip-hour (3-year CUD)\n",
      "Could not find price\n",
      "\n",
      "Trying Microsoft Azure, Price per chip-hour (3-year CUD)\n",
      "Could not find price\n",
      "\n",
      "Trying Google Cloud, Price per chip-hour (3-year CUD)\n",
      "Could not find price\n",
      "\n",
      "Trying Amazon Web Services, Price per chip-hour (1-year CUD)\n",
      "Could not find price\n",
      "\n",
      "Trying Microsoft Azure, Price per chip-hour (1-year CUD)\n",
      "Could not find price\n",
      "\n",
      "Trying Google Cloud, Price per chip-hour (1-year CUD)\n",
      "Could not find price\n",
      "\n",
      "Trying Amazon Web Services, Price per chip-hour (on-demand)\n",
      "Could not find price\n",
      "\n",
      "Trying Microsoft Azure, Price per chip-hour (on-demand)\n",
      "Could not find price\n",
      "\n",
      "Trying Google Cloud, Price per chip-hour (on-demand)\n",
      "Could not find price\n",
      "\n",
      "==== System: ChatGLM3 ====\n",
      "Training time is required but no value found\n",
      "\n",
      "==== System: XGen-7B ====\n",
      "Training time is required but no value found\n",
      "\n",
      "==== System: Falcon 180B ====\n",
      "Trying NVIDIA A100 SXM4 40 GB at 2023-01-09 00:00:00\n",
      "Trying Amazon Web Services, Price per chip-hour (3-year CUD)\n",
      "Found price: 1.45 at 2022-12-09 00:00:00\n",
      "Difference between purchase time and price date: 31 days 00:00:00 \n",
      "\n",
      "==== System: Jais ====\n",
      "Could not find hardware model for Jais\n",
      "\n",
      "\n",
      "==== System: Llama 2-70B ====\n",
      "Trying NVIDIA A100 SXM4 80 GB at 2023-02-18 00:00:00\n",
      "Trying Amazon Web Services, Price per chip-hour (3-year CUD)\n",
      "Found price: 1.81 at 2022-12-09 00:00:00\n",
      "Difference between purchase time and price date: 71 days 00:00:00 \n",
      "\n",
      "==== System: Llama 2-7B ====\n",
      "Training time is required but no value found\n",
      "\n",
      "==== System: Claude 2 ====\n",
      "Training time is required but no value found\n",
      "\n",
      "==== System: Pangu-Weather ====\n",
      "Training time is required but no value found\n",
      "\n",
      "==== System: PaLM 2 ====\n",
      "Training time is required but no value found\n",
      "\n",
      "==== System: StarCoder ====\n",
      "Trying NVIDIA A100 SXM4 80 GB at 2023-02-11 23:00:00\n",
      "Trying Amazon Web Services, Price per chip-hour (3-year CUD)\n",
      "Found price: 1.81 at 2022-12-09 00:00:00\n",
      "Difference between purchase time and price date: 64 days 23:00:00 \n",
      "\n",
      "==== System: WizardLM-7B ====\n",
      "Training time is required but no value found\n",
      "\n",
      "==== System: BloombergGPT ====\n",
      "Trying NVIDIA A100 at 2022-12-07 02:00:00\n",
      "Trying Amazon Web Services, Price per chip-hour (3-year CUD)\n",
      "Found price: 1.45 at 2021-06-15 00:00:00\n",
      "Difference between purchase time and price date: 540 days 02:00:00 \n",
      "\n",
      "==== System: PanGu-Σ ====\n",
      "Trying Huawei Ascend 910 at 2022-10-11 00:00:00\n",
      "Trying Amazon Web Services, Price per chip-hour (3-year CUD)\n",
      "Could not find price\n",
      "\n",
      "Trying Microsoft Azure, Price per chip-hour (3-year CUD)\n",
      "Could not find price\n",
      "\n",
      "Trying Google Cloud, Price per chip-hour (3-year CUD)\n",
      "Could not find price\n",
      "\n",
      "Trying Amazon Web Services, Price per chip-hour (1-year CUD)\n",
      "Could not find price\n",
      "\n",
      "Trying Microsoft Azure, Price per chip-hour (1-year CUD)\n",
      "Could not find price\n",
      "\n",
      "Trying Google Cloud, Price per chip-hour (1-year CUD)\n",
      "Could not find price\n",
      "\n",
      "Trying Amazon Web Services, Price per chip-hour (on-demand)\n",
      "Could not find price\n",
      "\n",
      "Trying Microsoft Azure, Price per chip-hour (on-demand)\n",
      "Could not find price\n",
      "\n",
      "Trying Google Cloud, Price per chip-hour (on-demand)\n",
      "Could not find price\n",
      "\n",
      "==== System: GPT-4 ====\n",
      "Trying NVIDIA A100 SXM4 40 GB at 2022-10-11 00:00:00\n",
      "Trying Microsoft Azure, Price per chip-hour (3-year CUD)\n",
      "Soft matching NVIDIA A100 SXM4 40 GB to NVIDIA A100\n",
      "Found price: 1.36 at 2021-08-13 00:00:00\n",
      "Difference between purchase time and price date: 424 days 00:00:00 \n",
      "\n",
      "==== System: Falcon-40B ====\n",
      "Trying NVIDIA A100 at 2022-11-15 00:00:00\n",
      "Trying Amazon Web Services, Price per chip-hour (3-year CUD)\n",
      "Found price: 1.45 at 2021-06-15 00:00:00\n",
      "Difference between purchase time and price date: 518 days 00:00:00 \n",
      "\n",
      "==== System: LLaMA-65B ====\n",
      "Trying NVIDIA A100 at 2022-12-05 04:00:00\n",
      "Trying Amazon Web Services, Price per chip-hour (3-year CUD)\n",
      "Found price: 1.45 at 2021-06-15 00:00:00\n",
      "Difference between purchase time and price date: 538 days 04:00:00 \n",
      "\n",
      "==== System: LLaMA-7B ====\n",
      "Training time is required but no value found\n",
      "\n",
      "==== System: GPT-3.5 (text-davinci-003) ====\n",
      "Training time is required but no value found\n",
      "\n",
      "==== System: Galactica ====\n",
      "Training time is required but no value found\n",
      "\n",
      "==== System: BLOOM-176B ====\n",
      "Trying NVIDIA A100 SXM4 80 GB at 2022-05-15 00:00:00\n",
      "Trying Amazon Web Services, Price per chip-hour (3-year CUD)\n",
      "Found price: 1.81 at 2022-08-19 00:00:00\n",
      "Difference between purchase time and price date: -96 days +00:00:00 \n",
      "\n",
      "==== System: Taiyi-Stable Diffusion ====\n",
      "Trying NVIDIA A100 at 2022-08-27 20:00:00\n",
      "Trying Amazon Web Services, Price per chip-hour (3-year CUD)\n",
      "Found price: 1.45 at 2021-06-15 00:00:00\n",
      "Difference between purchase time and price date: 438 days 20:00:00 \n",
      "\n",
      "==== System: U-PaLM (540B) ====\n",
      "Trying Google TPU v4 at 2022-08-16 00:00:00\n",
      "Trying Google Cloud, Price per chip-hour (3-year CUD)\n",
      "Found price: 1.45 at 2022-05-11 00:00:00\n",
      "Difference between purchase time and price date: 97 days 00:00:00 \n",
      "\n",
      "==== System: Whisper ====\n",
      "Training time is required but no value found\n",
      "\n",
      "==== System: PaLI ====\n",
      "Trying Google TPU v4 at 2022-07-09 00:00:00\n",
      "Trying Google Cloud, Price per chip-hour (3-year CUD)\n",
      "Found price: 1.45 at 2022-05-11 00:00:00\n",
      "Difference between purchase time and price date: 59 days 00:00:00 \n",
      "\n",
      "==== System: BlenderBot 3 ====\n",
      "Training time is required but no value found\n",
      "\n",
      "==== System: GLM-130B ====\n",
      "Trying NVIDIA A100 SXM4 40 GB at 2022-04-06 00:00:00\n",
      "Trying Amazon Web Services, Price per chip-hour (3-year CUD)\n",
      "Found price: 1.45 at 2022-02-26 00:00:00\n",
      "Difference between purchase time and price date: 39 days 00:00:00 \n",
      "\n",
      "==== System: AlexaTM 20B ====\n",
      "Could not find hardware model for AlexaTM 20B\n",
      "\n",
      "\n",
      "==== System: ESM2-15B ====\n",
      "Could not find hardware model for ESM2-15B\n",
      "\n",
      "\n",
      "==== System: NLLB ====\n",
      "Training time is required but no value found\n",
      "\n",
      "==== System: Minerva (540B) ====\n",
      "Trying Google TPU v4 at 2022-04-01 00:00:00\n",
      "Trying Google Cloud, Price per chip-hour (3-year CUD)\n",
      "Found price: 1.45 at 2022-05-11 00:00:00\n",
      "Difference between purchase time and price date: -40 days +00:00:00 \n",
      "\n",
      "==== System: Parti ====\n",
      "Training time is required but no value found\n",
      "\n",
      "==== System: CoCa ====\n",
      "Trying Google TPU v4 at 2022-04-10 00:00:00\n",
      "Trying Google Cloud, Price per chip-hour (3-year CUD)\n",
      "Found price: 1.45 at 2022-05-11 00:00:00\n",
      "Difference between purchase time and price date: -31 days +00:00:00 \n",
      "\n",
      "==== System: Imagen ====\n",
      "Trying Google TPU v4 at 2022-03-20 00:00:00\n",
      "Trying Google Cloud, Price per chip-hour (3-year CUD)\n",
      "Found price: 1.45 at 2022-05-11 00:00:00\n",
      "Difference between purchase time and price date: -52 days +00:00:00 \n",
      "\n",
      "==== System: UL2 ====\n",
      "Trying Google TPU v4 at 2022-02-08 00:00:00\n",
      "Trying Google Cloud, Price per chip-hour (3-year CUD)\n",
      "Found price: 1.45 at 2022-05-11 00:00:00\n",
      "Difference between purchase time and price date: -92 days +00:00:00 \n",
      "\n",
      "==== System: OPT-175B ====\n",
      "Trying NVIDIA A100 SXM4 80 GB at 2022-01-28 23:00:00\n",
      "Trying Amazon Web Services, Price per chip-hour (3-year CUD)\n",
      "Found price: 1.81 at 2022-08-19 00:00:00\n",
      "Difference between purchase time and price date: -203 days +23:00:00 \n",
      "\n",
      "==== System: Flamingo ====\n",
      "Trying Google TPU v4 at 2022-02-13 00:00:00\n",
      "Trying Google Cloud, Price per chip-hour (3-year CUD)\n",
      "Found price: 1.45 at 2022-05-11 00:00:00\n",
      "Difference between purchase time and price date: -87 days +00:00:00 \n",
      "\n",
      "==== System: Stable Diffusion (LDM-KL-8-G) ====\n",
      "Training time is required but no value found\n",
      "\n",
      "==== System: PaLM (540B) ====\n",
      "Trying Google TPU v4 at 2021-12-08 00:00:00\n",
      "Trying Google Cloud, Price per chip-hour (3-year CUD)\n",
      "Found price: 1.45 at 2022-05-11 00:00:00\n",
      "Difference between purchase time and price date: -154 days +00:00:00 \n",
      "\n",
      "==== System: Chinchilla ====\n",
      "Training time is required but no value found\n",
      "\n",
      "==== System: LaMDA ====\n",
      "Trying Google TPU v3 at 2021-10-15 07:00:00\n",
      "Trying Google Cloud, Price per chip-hour (3-year CUD)\n",
      "Found price: 0.9 at 2021-10-08 00:00:00\n",
      "Difference between purchase time and price date: 7 days 07:00:00 \n",
      "\n",
      "==== System: GPT-NeoX-20B ====\n",
      "Trying NVIDIA A100 SXM4 40 GB at 2021-09-12 00:00:00\n",
      "Trying Amazon Web Services, Price per chip-hour (3-year CUD)\n",
      "Found price: 1.45 at 2021-11-04 00:00:00\n",
      "Difference between purchase time and price date: -53 days +00:00:00 \n",
      "\n",
      "==== System: AlphaCode ====\n",
      "Training time is required but no value found\n",
      "\n",
      "==== System: ERNIE 3.0 Titan ====\n",
      "Training time is required but no value found\n",
      "\n",
      "==== System: XGLM-7.5B ====\n",
      "Trying NVIDIA A100 at 2021-09-30 00:00:00\n",
      "Trying Amazon Web Services, Price per chip-hour (3-year CUD)\n",
      "Found price: 1.45 at 2021-06-15 00:00:00\n",
      "Difference between purchase time and price date: 107 days 00:00:00 \n",
      "\n",
      "==== System: GLaM ====\n",
      "Trying Google TPU v4 at 2021-08-18 02:00:00\n",
      "Trying Google Cloud, Price per chip-hour (3-year CUD)\n",
      "Found price: 1.45 at 2022-05-11 00:00:00\n",
      "Difference between purchase time and price date: -266 days +02:00:00 \n",
      "\n",
      "==== System: Gopher (280B) ====\n",
      "Trying Google TPU v3 at 2021-08-31 16:00:00\n",
      "Trying Google Cloud, Price per chip-hour (3-year CUD)\n",
      "Found price: 0.9 at 2021-03-07 00:00:00\n",
      "Difference between purchase time and price date: 177 days 16:00:00 \n",
      "\n",
      "==== System: Florence ====\n",
      "Trying NVIDIA A100 SXM4 40 GB at 2021-09-13 00:00:00\n",
      "Trying Microsoft Azure, Price per chip-hour (3-year CUD)\n",
      "Soft matching NVIDIA A100 SXM4 40 GB to NVIDIA A100\n",
      "Found price: 1.36 at 2021-08-13 00:00:00\n",
      "Difference between purchase time and price date: 31 days 00:00:00 \n",
      "\n",
      "==== System: BASIC-L ====\n",
      "Training time is required but no value found\n",
      "\n",
      "==== System: T0-XXL ====\n",
      "Trying Google TPU v3 at 2021-08-04 18:00:00\n",
      "Trying Google Cloud, Price per chip-hour (3-year CUD)\n",
      "Found price: 0.9 at 2021-03-07 00:00:00\n",
      "Difference between purchase time and price date: 150 days 18:00:00 \n",
      "\n",
      "==== System: Yuan 1.0 ====\n",
      "Training time is required but no value found\n",
      "\n",
      "==== System: Megatron-Turing NLG 530B ====\n",
      "Trying NVIDIA A100 SXM4 80 GB at 2021-07-10 22:00:00\n",
      "Trying Microsoft Azure, Price per chip-hour (3-year CUD)\n",
      "Found price: 1.8 at 2022-04-15 00:00:00\n",
      "Difference between purchase time and price date: -279 days +22:00:00 \n",
      "\n",
      "==== System: HyperCLOVA ====\n",
      "Trying NVIDIA A100 at 2021-06-15 05:00:00\n",
      "Trying Amazon Web Services, Price per chip-hour (3-year CUD)\n",
      "Found price: 1.45 at 2021-06-15 00:00:00\n",
      "Difference between purchase time and price date: 0 days 05:00:00 \n",
      "\n",
      "==== System: FLAN 137B ====\n",
      "Training time is required but no value found\n",
      "\n",
      "==== System: GOAT ====\n",
      "Training time is required but no value found\n",
      "\n",
      "==== System: ERNIE 3.0 ====\n",
      "Training time is required but no value found\n",
      "\n",
      "==== System: ALIGN ====\n",
      "Trying Google TPU v3 at 2021-03-28 13:00:00\n",
      "Trying Google Cloud, Price per chip-hour (3-year CUD)\n",
      "Found price: 0.9 at 2021-03-07 00:00:00\n",
      "Difference between purchase time and price date: 21 days 13:00:00 \n",
      "\n",
      "==== System: DeBERTa ====\n",
      "Training time is required but no value found\n",
      "\n",
      "==== System: CoAtNet ====\n",
      "Training time is required but no value found\n",
      "\n",
      "==== System: ByT5-XXL ====\n",
      "Training time is required but no value found\n",
      "\n",
      "==== System: CogView ====\n",
      "Training time is required but no value found\n",
      "\n",
      "==== System: ProtT5-XXL ====\n",
      "Training time is required but no value found\n",
      "\n",
      "==== System: ProtT5-XXL-BFD ====\n",
      "Training time is required but no value found\n",
      "\n",
      "==== System: ProtBERT-BFD ====\n",
      "Training time is required but no value found\n",
      "\n",
      "==== System: PLUG ====\n",
      "Training time is required but no value found\n",
      "\n",
      "==== System: M6-T ====\n",
      "Training time is required but no value found\n",
      "\n",
      "==== System: Meta Pseudo Labels ====\n",
      "Trying Google TPU v3 at 2020-12-20 00:00:00\n",
      "Trying Google Cloud, Price per chip-hour (3-year CUD)\n",
      "Found price: 0.9 at 2020-12-02 00:00:00\n",
      "Difference between purchase time and price date: 18 days 00:00:00 \n",
      "\n",
      "==== System: MSA Transformer ====\n",
      "Training time is required but no value found\n",
      "\n",
      "==== System: Switch ====\n",
      "Trying Google TPU v3 at 2020-10-16 00:00:00\n",
      "Trying Google Cloud, Price per chip-hour (3-year CUD)\n",
      "Found price: 0.9 at 2019-12-06 00:00:00\n",
      "Difference between purchase time and price date: 315 days 00:00:00 \n",
      "\n",
      "==== System: DALL-E ====\n",
      "Training time is required but no value found\n",
      "\n",
      "==== System: CLIP (ViT L/14@336px) ====\n",
      "Training time is required but no value found\n",
      "\n",
      "==== System: ViT-Huge/14 ====\n",
      "Training time is required but no value found\n",
      "\n",
      "==== System: Conformer + Wav2vec 2.0 + Noisy Student ====\n",
      "Trying Google TPU v3 at 2020-08-14 00:00:00\n",
      "Trying Google Cloud, Price per chip-hour (3-year CUD)\n",
      "Found price: 0.9 at 2019-12-06 00:00:00\n",
      "Difference between purchase time and price date: 252 days 00:00:00 \n",
      "\n",
      "==== System: mT5-XXL ====\n",
      "Training time is required but no value found\n",
      "\n",
      "==== System: GShard (dense) ====\n",
      "Trying Google TPU v3 at 2020-03-20 00:00:00\n",
      "Trying Google Cloud, Price per chip-hour (3-year CUD)\n",
      "Found price: 0.9 at 2019-12-06 00:00:00\n",
      "Difference between purchase time and price date: 105 days 00:00:00 \n",
      "\n",
      "==== System: iGPT-XL ====\n",
      "Training time is required but no value found\n",
      "\n",
      "==== System: iGPT-L ====\n",
      "Training time is required but no value found\n",
      "\n",
      "==== System: GPT-3 175B (davinci) ====\n",
      "Trying NVIDIA Tesla V100 DGXS 32 GB at 2020-03-14 05:00:00\n",
      "Trying Microsoft Azure, Price per chip-hour (3-year CUD)\n",
      "Soft matching NVIDIA Tesla V100 DGXS 32 GB to NVIDIA V100\n",
      "Found price: 1.16 at 2020-03-09 00:00:00\n",
      "Difference between purchase time and price date: 5 days 05:00:00 \n",
      "\n",
      "==== System: Once for All ====\n",
      "Training time is required but no value found\n",
      "\n",
      "==== System: ELECTRA ====\n",
      "Training time is required but no value found\n",
      "\n",
      "==== System: Turing-NLG ====\n",
      "Training time is required but no value found\n",
      "\n",
      "==== System: ALBERT-xxlarge ====\n",
      "Training time is required but no value found\n",
      "\n",
      "==== System: Meena ====\n",
      "Trying Google TPU v3 at 2019-10-30 00:00:00\n",
      "Trying Google Cloud, Price per chip-hour (3-year CUD)\n",
      "Found price: 0.9 at 2019-08-31 00:00:00\n",
      "Difference between purchase time and price date: 60 days 00:00:00 \n",
      "\n",
      "==== System: ContextNet + Noisy Student ====\n",
      "Trying Google TPU v3 at 2019-11-10 00:00:00\n",
      "Trying Google Cloud, Price per chip-hour (3-year CUD)\n",
      "Found price: 0.9 at 2019-08-31 00:00:00\n",
      "Difference between purchase time and price date: 71 days 00:00:00 \n",
      "\n",
      "==== System: DD-PPO ====\n",
      "Trying NVIDIA V100 at 2019-10-17 06:00:00\n",
      "Trying Amazon Web Services, Price per chip-hour (3-year CUD)\n",
      "Could not find price\n",
      "\n",
      "Trying Microsoft Azure, Price per chip-hour (3-year CUD)\n",
      "Found price: 1.16 at 2019-09-22 00:00:00\n",
      "Difference between purchase time and price date: 25 days 06:00:00 \n",
      "\n",
      "==== System: OpenAI Five ====\n",
      "Could not find hardware model for OpenAI Five\n",
      "\n",
      "\n",
      "==== System: OpenAI Five Rerun ====\n",
      "Training time is required but no value found\n",
      "\n",
      "==== System: Noisy Student (L2) ====\n",
      "Could not find hardware model for Noisy Student (L2)\n",
      "\n",
      "\n",
      "==== System: AlphaStar ====\n",
      "Trying Google TPU v3 at 2019-07-18 00:00:00\n",
      "Trying Google Cloud, Price per chip-hour (3-year CUD)\n",
      "Found price: 0.9 at 2019-07-01 00:00:00\n",
      "Difference between purchase time and price date: 17 days 00:00:00 \n",
      "\n",
      "==== System: T5-3B ====\n",
      "Training time is required but no value found\n",
      "\n",
      "==== System: T5-11B ====\n",
      "Trying Google TPU v3 at 2019-08-03 23:00:00\n",
      "Trying Google Cloud, Price per chip-hour (3-year CUD)\n",
      "Found price: 0.9 at 2019-07-28 00:00:00\n",
      "Difference between purchase time and price date: 6 days 23:00:00 \n",
      "\n",
      "==== System: Megatron-BERT ====\n",
      "Trying NVIDIA Tesla V100S PCIe 32 GB at 2019-05-22 00:00:00\n",
      "Trying Amazon Web Services, Price per chip-hour (3-year CUD)\n",
      "Soft matching NVIDIA Tesla V100S PCIe 32 GB to NVIDIA V100\n",
      "Found price: 1.16 at 2019-08-06 00:00:00\n",
      "Difference between purchase time and price date: -76 days +00:00:00 \n",
      "\n",
      "==== System: Megatron-LM (8.3B) ====\n",
      "Trying NVIDIA Tesla V100 DGXS 32 GB at 2019-07-05 09:00:00\n",
      "Trying Amazon Web Services, Price per chip-hour (3-year CUD)\n",
      "Found price: 1.21 at 2019-06-10 00:00:00\n",
      "Difference between purchase time and price date: 25 days 09:00:00 \n",
      "\n",
      "==== System: RoBERTa Large ====\n",
      "Trying NVIDIA Tesla V100 DGXS 32 GB at 2019-04-27 00:00:00\n",
      "Trying Amazon Web Services, Price per chip-hour (3-year CUD)\n",
      "Found price: 1.21 at 2019-04-05 00:00:00\n",
      "Difference between purchase time and price date: 22 days 00:00:00 \n",
      "\n",
      "==== System: MnasNet-A3 ====\n",
      "Training time is required but no value found\n",
      "\n",
      "==== System: MnasNet-A1 + SSDLite ====\n",
      "Training time is required but no value found\n",
      "\n",
      "==== System: BERT-Large-CAS (PTB+WT2+WT103) ====\n",
      "Training time is required but no value found\n",
      "\n",
      "==== System: SciBERT ====\n",
      "Trying Google TPU v3 at 2019-01-18 00:00:00\n",
      "Trying Google Cloud, Price per chip-hour (3-year CUD)\n",
      "Could not find price\n",
      "\n",
      "Trying Google Cloud, Price per chip-hour (1-year CUD)\n",
      "Could not find price\n",
      "\n",
      "Trying Google Cloud, Price per chip-hour (on-demand)\n",
      "Applying CUD: 2.0 * 0.43999999999999995 = 0.8799999999999999\n",
      "Found price: 0.8799999999999999 at 2018-10-11 00:00:00\n",
      "Difference between purchase time and price date: 99 days 00:00:00 \n",
      "\n",
      "==== System: ProxylessNAS ====\n",
      "Training time is required but no value found\n",
      "\n",
      "==== System: GPT-2 (1.5B) ====\n",
      "Training time is required but no value found\n",
      "\n",
      "==== System: BERT-Large ====\n",
      "Trying Google TPU v2 at 2018-08-08 00:00:00\n",
      "Trying Google Cloud, Price per chip-hour (3-year CUD)\n",
      "Could not find price\n",
      "\n",
      "Trying Google Cloud, Price per chip-hour (1-year CUD)\n",
      "Could not find price\n",
      "\n",
      "Trying Google Cloud, Price per chip-hour (on-demand)\n",
      "Applying CUD: 1.13 * 0.43999999999999995 = 0.4971999999999999\n",
      "Found price: 0.4971999999999999 at 2018-10-09 00:00:00\n",
      "Difference between purchase time and price date: -62 days +00:00:00 \n",
      "\n",
      "==== System: BigGAN-deep 512x512 ====\n",
      "Trying Google TPU v3 at 2018-07-28 00:00:00\n",
      "Trying Google Cloud, Price per chip-hour (3-year CUD)\n",
      "Could not find price\n",
      "\n",
      "Trying Google Cloud, Price per chip-hour (1-year CUD)\n",
      "Could not find price\n",
      "\n",
      "Trying Google Cloud, Price per chip-hour (on-demand)\n",
      "Applying CUD: 2.0 * 0.43999999999999995 = 0.8799999999999999\n",
      "Found price: 0.8799999999999999 at 2018-10-11 00:00:00\n",
      "Difference between purchase time and price date: -75 days +00:00:00 \n",
      "\n",
      "==== System: Transformer (Adaptive Input Embeddings) ====\n",
      "Trying NVIDIA V100 at 2018-07-27 05:00:00\n",
      "Trying Amazon Web Services, Price per chip-hour (3-year CUD)\n",
      "Could not find price\n",
      "\n",
      "Trying Microsoft Azure, Price per chip-hour (3-year CUD)\n",
      "Found price: 1.16 at 2019-08-06 00:00:00\n",
      "Difference between purchase time and price date: -375 days +05:00:00 \n",
      "\n",
      "==== System: Transformer + Simple Recurrent Unit ====\n",
      "Trying NVIDIA V100 at 2018-07-15 12:00:00\n",
      "Trying Google Cloud, Price per chip-hour (3-year CUD)\n",
      "Could not find price\n",
      "\n",
      "Trying Amazon Web Services, Price per chip-hour (3-year CUD)\n",
      "Could not find price\n",
      "\n",
      "Trying Microsoft Azure, Price per chip-hour (3-year CUD)\n",
      "Found price: 1.16 at 2019-08-06 00:00:00\n",
      "Difference between purchase time and price date: -387 days +12:00:00 \n",
      "\n",
      "==== System: Big Transformer for Back-Translation ====\n",
      "Trying NVIDIA V100 at 2018-06-27 21:00:00\n",
      "Trying Google Cloud, Price per chip-hour (3-year CUD)\n",
      "Could not find price\n",
      "\n",
      "Trying Amazon Web Services, Price per chip-hour (3-year CUD)\n",
      "Could not find price\n",
      "\n",
      "Trying Microsoft Azure, Price per chip-hour (3-year CUD)\n",
      "Found price: 1.16 at 2019-08-06 00:00:00\n",
      "Difference between purchase time and price date: -405 days +21:00:00 \n",
      "\n",
      "==== System: FTW ====\n",
      "Training time is required but no value found\n",
      "\n",
      "==== System: Population-based DRL ====\n",
      "Training time is required but no value found\n",
      "\n",
      "==== System: GPT ====\n",
      "Training time is required but no value found\n",
      "\n",
      "==== System: ResNeXt-101 32x48d ====\n",
      "Training time is required but no value found\n",
      "\n",
      "==== System: YOLOv3 ====\n",
      "Training time is required but no value found\n",
      "\n",
      "==== System: LSTM (Hebbian, Cache, MbPA) ====\n",
      "Training time is required but no value found\n",
      "\n",
      "==== System: AmoebaNet-A (F=448) ====\n",
      "Trying NVIDIA Tesla K40s at 2017-11-30 00:00:00\n",
      "Trying Google Cloud, Price per chip-hour (3-year CUD)\n",
      "Could not find price\n",
      "\n",
      "Trying Amazon Web Services, Price per chip-hour (3-year CUD)\n",
      "Could not find price\n",
      "\n",
      "Trying Microsoft Azure, Price per chip-hour (3-year CUD)\n",
      "Could not find price\n",
      "\n",
      "Trying Google Cloud, Price per chip-hour (1-year CUD)\n",
      "Could not find price\n",
      "\n",
      "Trying Amazon Web Services, Price per chip-hour (1-year CUD)\n",
      "Could not find price\n",
      "\n",
      "Trying Microsoft Azure, Price per chip-hour (1-year CUD)\n",
      "Could not find price\n",
      "\n",
      "Trying Google Cloud, Price per chip-hour (on-demand)\n",
      "Could not find price\n",
      "\n",
      "Trying Amazon Web Services, Price per chip-hour (on-demand)\n",
      "Could not find price\n",
      "\n",
      "Trying Microsoft Azure, Price per chip-hour (on-demand)\n",
      "Could not find price\n",
      "\n",
      "==== System: IMPALA ====\n",
      "Trying NVIDIA P100 at 2017-12-02 20:00:00\n",
      "Trying Google Cloud, Price per chip-hour (3-year CUD)\n",
      "Could not find price\n",
      "\n",
      "Trying Amazon Web Services, Price per chip-hour (3-year CUD)\n",
      "Could not find price\n",
      "\n",
      "Trying Microsoft Azure, Price per chip-hour (3-year CUD)\n",
      "Found price: 1.28 at 2024-01-29 00:00:00\n",
      "Difference between purchase time and price date: -2249 days +20:00:00 \n",
      "\n",
      "==== System: AlphaZero ====\n",
      "Training time is required but no value found\n",
      "\n",
      "==== System: PNASNet-5 ====\n",
      "Training time is required but no value found\n",
      "\n",
      "==== System: AlphaGo Zero ====\n",
      "Trying Google TPU v1 at 2017-07-30 00:00:00\n",
      "Trying Google Cloud, Price per chip-hour (3-year CUD)\n",
      "Could not find price\n",
      "\n",
      "Trying Google Cloud, Price per chip-hour (1-year CUD)\n",
      "Could not find price\n",
      "\n",
      "Trying Google Cloud, Price per chip-hour (on-demand)\n",
      "Could not find price\n",
      "\n",
      "==== System: OpenAI TI7 DOTA 1v1 ====\n",
      "Training time is required but no value found\n",
      "\n",
      "==== System: JFT ====\n",
      "Trying NVIDIA Tesla K80 at 2017-03-12 00:00:00\n",
      "Trying Google Cloud, Price per chip-hour (3-year CUD)\n",
      "Could not find price\n",
      "\n",
      "Trying Amazon Web Services, Price per chip-hour (3-year CUD)\n",
      "Found price: 0.43 at 2017-02-10 00:00:00\n",
      "Difference between purchase time and price date: 30 days 00:00:00 \n",
      "\n",
      "==== System: Transformer ====\n",
      "Trying NVIDIA P100 at 2017-04-09 12:00:00\n",
      "Trying Google Cloud, Price per chip-hour (3-year CUD)\n",
      "Could not find price\n",
      "\n",
      "Trying Amazon Web Services, Price per chip-hour (3-year CUD)\n",
      "Could not find price\n",
      "\n",
      "Trying Microsoft Azure, Price per chip-hour (3-year CUD)\n",
      "Found price: 1.28 at 2024-01-29 00:00:00\n",
      "Difference between purchase time and price date: -2486 days +12:00:00 \n",
      "\n",
      "==== System: MoE ====\n",
      "Training time is required but no value found\n",
      "\n",
      "==== System: DeepStack ====\n",
      "Training time is required but no value found\n",
      "\n",
      "==== System: Libratus ====\n",
      "Training time is required but no value found\n",
      "\n",
      "==== System: AlphaGo Master ====\n",
      "Training time is required but no value found\n",
      "\n",
      "==== System: PolyNet ====\n",
      "Training time is required but no value found\n",
      "\n",
      "==== System: NASv3 (CIFAR-10) ====\n",
      "Training time is required but no value found\n",
      "\n",
      "==== System: BIDAF ====\n",
      "Trying NVIDIA GTX Titan X at 2016-09-03 12:00:00\n",
      "Trying Amazon Web Services, Price per chip-hour (3-year CUD)\n",
      "Could not find price\n",
      "\n",
      "Trying Microsoft Azure, Price per chip-hour (3-year CUD)\n",
      "Could not find price\n",
      "\n",
      "Trying Google Cloud, Price per chip-hour (3-year CUD)\n",
      "Could not find price\n",
      "\n",
      "Trying Amazon Web Services, Price per chip-hour (1-year CUD)\n",
      "Could not find price\n",
      "\n",
      "Trying Microsoft Azure, Price per chip-hour (1-year CUD)\n",
      "Could not find price\n",
      "\n",
      "Trying Google Cloud, Price per chip-hour (1-year CUD)\n",
      "Could not find price\n",
      "\n",
      "Trying Amazon Web Services, Price per chip-hour (on-demand)\n",
      "Could not find price\n",
      "\n",
      "Trying Microsoft Azure, Price per chip-hour (on-demand)\n",
      "Could not find price\n",
      "\n",
      "Trying Google Cloud, Price per chip-hour (on-demand)\n",
      "Could not find price\n",
      "\n",
      "==== System: Xception ====\n",
      "Trying NVIDIA Tesla K80 at 2016-07-09 00:00:00\n",
      "Trying Google Cloud, Price per chip-hour (3-year CUD)\n",
      "Could not find price\n",
      "\n",
      "Trying Amazon Web Services, Price per chip-hour (3-year CUD)\n",
      "Found price: 0.43 at 2017-02-10 00:00:00\n",
      "Difference between purchase time and price date: -216 days +00:00:00 \n",
      "\n",
      "==== System: GNMT ====\n",
      "Trying NVIDIA Tesla K80 at 2016-01-30 00:00:00\n",
      "Trying Google Cloud, Price per chip-hour (3-year CUD)\n",
      "Could not find price\n",
      "\n",
      "Trying Amazon Web Services, Price per chip-hour (3-year CUD)\n",
      "Found price: 0.43 at 2017-02-10 00:00:00\n",
      "Difference between purchase time and price date: -377 days +00:00:00 \n",
      "\n",
      "==== System: AlphaGo Lee ====\n",
      "Training time is required but no value found\n",
      "\n",
      "==== System: ResNet-152 (ImageNet) ====\n",
      "Training time is required but no value found\n",
      "\n",
      "==== System: DeepSpeech2 (English) ====\n",
      "Training time is required but no value found\n",
      "\n",
      "==== System: AlphaGo Fan ====\n",
      "Training time is required but no value found\n",
      "\n",
      "{'Gemini Ultra': 191400000.0, 'Falcon 180B': 25657344.0, 'Llama 2-70B': 3909600.0, 'StarCoder': 579663.36, 'BloombergGPT': 942848.0, 'GPT-4': 77520000.0, 'Falcon-40B': 801792.0, 'LLaMA-65B': 1484800.0, 'BLOOM-176B': 1951672.32, 'U-PaLM (540B)': 12276326.4, 'PaLI': 249446.4, 'GLM-130B': 1603584.0, 'Minerva (540B)': 13220659.200000001, 'Imagen': 35635.2, 'UL2': 552345.6, 'OPT-175B': 1470704.6400000001, 'Flamingo': 801792.0, 'PaLM (540B)': 12187238.4, 'LaMDA': 1276416.0, 'GPT-NeoX-20B': 300672.0, 'XGLM-7.5B': 187084.8, 'GLaM': 2028236.8, 'Gopher (280B)': 3391488.0, 'Florence': 167116.80000000002, 'T0-XXL': 62208.0, 'Megatron-Turing NLG 530B': 6209280.0, 'HyperCLOVA': 955023.36, 'ALIGN': 160035.84, 'Meta Pseudo Labels': 243302.4, 'Switch': 597196.8, 'GShard (dense)': 928972.8, 'GPT-3 175B (davinci)': 4120319.9999999995, 'Meena': 663552.0, 'AlphaStar': 364953.60000000003, 'T5-11B': 222059.52, 'Megatron-BERT': 826736.6399999999, 'Megatron-LM (8.3B)': 202583.04, 'RoBERTa Large': 148684.8, 'SciBERT': 591.3599999999999, 'BERT-Large': 3054.7967999999996, 'BigGAN-deep 512x512': 10813.439999999999, 'Transformer (Adaptive Input Embeddings)': 4974.08, 'Big Transformer for Back-Translation': 4112.896, 'IMPALA': 128.0, 'JFT': 30960.0, 'Transformer': 860.16, 'Xception': 18576.0, 'GNMT': 178329.6}\n"
     ]
    }
   ],
   "source": [
    "cost_df = estimate_costs(frontier_pcd_df, hardware_df, price_df)"
   ]
  },
  {
   "cell_type": "code",
   "execution_count": 7,
   "metadata": {},
   "outputs": [
    {
     "data": {
      "text/html": [
       "<div>\n",
       "<style scoped>\n",
       "    .dataframe tbody tr th:only-of-type {\n",
       "        vertical-align: middle;\n",
       "    }\n",
       "\n",
       "    .dataframe tbody tr th {\n",
       "        vertical-align: top;\n",
       "    }\n",
       "\n",
       "    .dataframe thead th {\n",
       "        text-align: right;\n",
       "    }\n",
       "</style>\n",
       "<table border=\"1\" class=\"dataframe\">\n",
       "  <thead>\n",
       "    <tr style=\"text-align: right;\">\n",
       "      <th></th>\n",
       "      <th>System</th>\n",
       "      <th>Domain</th>\n",
       "      <th>Task</th>\n",
       "      <th>Authors</th>\n",
       "      <th>Notability criteria</th>\n",
       "      <th>Notability criteria notes</th>\n",
       "      <th>Open-source</th>\n",
       "      <th>Link</th>\n",
       "      <th>Citations</th>\n",
       "      <th>Reference</th>\n",
       "      <th>...</th>\n",
       "      <th>Archived links</th>\n",
       "      <th>Batch size</th>\n",
       "      <th>Batch size notes</th>\n",
       "      <th>Organization categorization</th>\n",
       "      <th>Foundation model</th>\n",
       "      <th>Training compute lower bound</th>\n",
       "      <th>Training compute upper bound</th>\n",
       "      <th>Training chip-hours</th>\n",
       "      <th>Training time (chip hours)</th>\n",
       "      <th>Cost</th>\n",
       "    </tr>\n",
       "  </thead>\n",
       "  <tbody>\n",
       "    <tr>\n",
       "      <th>38</th>\n",
       "      <td>Gemini Ultra</td>\n",
       "      <td>Multimodal</td>\n",
       "      <td>Language modelling,Visual question answering,C...</td>\n",
       "      <td>Gemini Team</td>\n",
       "      <td>SOTA improvement</td>\n",
       "      <td>\" Evaluation on a broad range of benchmarks sh...</td>\n",
       "      <td>NaN</td>\n",
       "      <td>https://storage.googleapis.com/deepmind-media/...</td>\n",
       "      <td>252.0</td>\n",
       "      <td>Gemini: A Family of Highly Capable Multimodal ...</td>\n",
       "      <td>...</td>\n",
       "      <td>NaN</td>\n",
       "      <td>NaN</td>\n",
       "      <td>NaN</td>\n",
       "      <td>Industry</td>\n",
       "      <td>NaN</td>\n",
       "      <td>NaN</td>\n",
       "      <td>NaN</td>\n",
       "      <td>132000000</td>\n",
       "      <td>132000000.0</td>\n",
       "      <td>191400000.0</td>\n",
       "    </tr>\n",
       "    <tr>\n",
       "      <th>45</th>\n",
       "      <td>Qwen-72B</td>\n",
       "      <td>Language</td>\n",
       "      <td>Chat,Code generation</td>\n",
       "      <td>Jinze Bai, Shuai Bai, Yunfei Chu, Zeyu Cui, Ka...</td>\n",
       "      <td>SOTA improvement</td>\n",
       "      <td>SOTA on several Chinese benchmarks, with highe...</td>\n",
       "      <td>Permissive license</td>\n",
       "      <td>https://huggingface.co/Qwen/Qwen-72B</td>\n",
       "      <td>NaN</td>\n",
       "      <td>NaN</td>\n",
       "      <td>...</td>\n",
       "      <td>NaN</td>\n",
       "      <td>4000000.0</td>\n",
       "      <td>Table 1 https://arxiv.org/abs/2309.16609\\n(thi...</td>\n",
       "      <td>Industry</td>\n",
       "      <td>NaN</td>\n",
       "      <td>NaN</td>\n",
       "      <td>NaN</td>\n",
       "      <td>0</td>\n",
       "      <td>NaN</td>\n",
       "      <td>NaN</td>\n",
       "    </tr>\n",
       "    <tr>\n",
       "      <th>53</th>\n",
       "      <td>Inflection-2</td>\n",
       "      <td>Language</td>\n",
       "      <td>Language modelling</td>\n",
       "      <td>NaN</td>\n",
       "      <td>Significant use</td>\n",
       "      <td>Inflection-2 either already powers Pi or soon ...</td>\n",
       "      <td>API accessible</td>\n",
       "      <td>https://inflection.ai/inflection-2</td>\n",
       "      <td>NaN</td>\n",
       "      <td>Inflection-2: The Next Step Up</td>\n",
       "      <td>...</td>\n",
       "      <td>NaN</td>\n",
       "      <td>NaN</td>\n",
       "      <td>NaN</td>\n",
       "      <td>Industry</td>\n",
       "      <td>checked</td>\n",
       "      <td>NaN</td>\n",
       "      <td>NaN</td>\n",
       "      <td>0</td>\n",
       "      <td>NaN</td>\n",
       "      <td>NaN</td>\n",
       "    </tr>\n",
       "    <tr>\n",
       "      <th>58</th>\n",
       "      <td>Nemotron-3-8B</td>\n",
       "      <td>Language</td>\n",
       "      <td>Chat,Language generation</td>\n",
       "      <td>NaN</td>\n",
       "      <td>SOTA improvement</td>\n",
       "      <td>\"The Nemotron-3-8B-QA model offers state-of-th...</td>\n",
       "      <td>Permissive license</td>\n",
       "      <td>https://developer.nvidia.com/blog/nvidia-ai-fo...</td>\n",
       "      <td>NaN</td>\n",
       "      <td>NVIDIA AI Foundation Models: Build Custom Ente...</td>\n",
       "      <td>...</td>\n",
       "      <td>NaN</td>\n",
       "      <td>NaN</td>\n",
       "      <td>NaN</td>\n",
       "      <td>Industry</td>\n",
       "      <td>NaN</td>\n",
       "      <td>NaN</td>\n",
       "      <td>NaN</td>\n",
       "      <td>0</td>\n",
       "      <td>NaN</td>\n",
       "      <td>NaN</td>\n",
       "    </tr>\n",
       "    <tr>\n",
       "      <th>75</th>\n",
       "      <td>CogVLM</td>\n",
       "      <td>Multimodal,Vision,Language</td>\n",
       "      <td>Image captioning,Visual question answering,Chat</td>\n",
       "      <td>Weihan Wang, Qingsong Lv, Wenmeng Yu, Wenyi Ho...</td>\n",
       "      <td>SOTA improvement</td>\n",
       "      <td>\"CogVLM-17B\\nachieves state-of-the-art perform...</td>\n",
       "      <td>Permissive license</td>\n",
       "      <td>https://arxiv.org/abs/2311.03079\\nhttps://hugg...</td>\n",
       "      <td>43.0</td>\n",
       "      <td>CogVLM: Visual Expert for Pretrained Language ...</td>\n",
       "      <td>...</td>\n",
       "      <td>NaN</td>\n",
       "      <td>NaN</td>\n",
       "      <td>NaN</td>\n",
       "      <td>Academia,Industry,Academia</td>\n",
       "      <td>checked</td>\n",
       "      <td>NaN</td>\n",
       "      <td>NaN</td>\n",
       "      <td>0</td>\n",
       "      <td>NaN</td>\n",
       "      <td>NaN</td>\n",
       "    </tr>\n",
       "    <tr>\n",
       "      <th>...</th>\n",
       "      <td>...</td>\n",
       "      <td>...</td>\n",
       "      <td>...</td>\n",
       "      <td>...</td>\n",
       "      <td>...</td>\n",
       "      <td>...</td>\n",
       "      <td>...</td>\n",
       "      <td>...</td>\n",
       "      <td>...</td>\n",
       "      <td>...</td>\n",
       "      <td>...</td>\n",
       "      <td>...</td>\n",
       "      <td>...</td>\n",
       "      <td>...</td>\n",
       "      <td>...</td>\n",
       "      <td>...</td>\n",
       "      <td>...</td>\n",
       "      <td>...</td>\n",
       "      <td>...</td>\n",
       "      <td>...</td>\n",
       "      <td>...</td>\n",
       "    </tr>\n",
       "    <tr>\n",
       "      <th>1094</th>\n",
       "      <td>GNMT</td>\n",
       "      <td>Language</td>\n",
       "      <td>Translation</td>\n",
       "      <td>Yonghui Wu, Mike Schuster, Zhifeng Chen, Quoc ...</td>\n",
       "      <td>Highly cited</td>\n",
       "      <td>NaN</td>\n",
       "      <td>NaN</td>\n",
       "      <td>https://arxiv.org/abs/1609.08144</td>\n",
       "      <td>6105.0</td>\n",
       "      <td>Google's Neural Machine Translation System: Br...</td>\n",
       "      <td>...</td>\n",
       "      <td>NaN</td>\n",
       "      <td>NaN</td>\n",
       "      <td>NaN</td>\n",
       "      <td>Industry</td>\n",
       "      <td>NaN</td>\n",
       "      <td>NaN</td>\n",
       "      <td>NaN</td>\n",
       "      <td>414720</td>\n",
       "      <td>414720.0</td>\n",
       "      <td>178329.6</td>\n",
       "    </tr>\n",
       "    <tr>\n",
       "      <th>1130</th>\n",
       "      <td>AlphaGo Lee</td>\n",
       "      <td>Games</td>\n",
       "      <td>Go</td>\n",
       "      <td>David Silver, Aja Huang, Chris J. Maddison, Ar...</td>\n",
       "      <td>Highly cited</td>\n",
       "      <td>NaN</td>\n",
       "      <td>NaN</td>\n",
       "      <td>https://www.nature.com/articles/nature16961</td>\n",
       "      <td>14733.0</td>\n",
       "      <td>Mastering the game of Go with deep neural netw...</td>\n",
       "      <td>...</td>\n",
       "      <td>NaN</td>\n",
       "      <td>NaN</td>\n",
       "      <td>NaN</td>\n",
       "      <td>Industry</td>\n",
       "      <td>NaN</td>\n",
       "      <td>NaN</td>\n",
       "      <td>NaN</td>\n",
       "      <td>0</td>\n",
       "      <td>NaN</td>\n",
       "      <td>NaN</td>\n",
       "    </tr>\n",
       "    <tr>\n",
       "      <th>1134</th>\n",
       "      <td>ResNet-152 (ImageNet)</td>\n",
       "      <td>Vision</td>\n",
       "      <td>Image classification</td>\n",
       "      <td>Kaiming He, Xiangyu Zhang, Shaoqing Ren, Jian Sun</td>\n",
       "      <td>Highly cited</td>\n",
       "      <td>NaN</td>\n",
       "      <td>NaN</td>\n",
       "      <td>https://arxiv.org/abs/1512.03385</td>\n",
       "      <td>154061.0</td>\n",
       "      <td>Deep Residual Learning for Image Recognition</td>\n",
       "      <td>...</td>\n",
       "      <td>NaN</td>\n",
       "      <td>NaN</td>\n",
       "      <td>NaN</td>\n",
       "      <td>Industry</td>\n",
       "      <td>NaN</td>\n",
       "      <td>NaN</td>\n",
       "      <td>NaN</td>\n",
       "      <td>0</td>\n",
       "      <td>NaN</td>\n",
       "      <td>NaN</td>\n",
       "    </tr>\n",
       "    <tr>\n",
       "      <th>1136</th>\n",
       "      <td>DeepSpeech2 (English)</td>\n",
       "      <td>Speech</td>\n",
       "      <td>Speech recognition</td>\n",
       "      <td>Dario Amodei, Rishita Anubhai, Eric Battenberg...</td>\n",
       "      <td>Highly cited</td>\n",
       "      <td>NaN</td>\n",
       "      <td>NaN</td>\n",
       "      <td>https://arxiv.org/abs/1512.02595</td>\n",
       "      <td>2741.0</td>\n",
       "      <td>Deep Speech 2: End-to-End Speech Recognition i...</td>\n",
       "      <td>...</td>\n",
       "      <td>NaN</td>\n",
       "      <td>NaN</td>\n",
       "      <td>NaN</td>\n",
       "      <td>Industry</td>\n",
       "      <td>NaN</td>\n",
       "      <td>NaN</td>\n",
       "      <td>NaN</td>\n",
       "      <td>0</td>\n",
       "      <td>NaN</td>\n",
       "      <td>NaN</td>\n",
       "    </tr>\n",
       "    <tr>\n",
       "      <th>1140</th>\n",
       "      <td>AlphaGo Fan</td>\n",
       "      <td>Games</td>\n",
       "      <td>Go</td>\n",
       "      <td>David Silver, Aja Huang, Chris J. Maddison, Ar...</td>\n",
       "      <td>Highly cited,SOTA improvement</td>\n",
       "      <td>NaN</td>\n",
       "      <td>NaN</td>\n",
       "      <td>https://www.nature.com/articles/nature24270.ep...</td>\n",
       "      <td>14733.0</td>\n",
       "      <td>Mastering the game of Go with deep neural netw...</td>\n",
       "      <td>...</td>\n",
       "      <td>NaN</td>\n",
       "      <td>NaN</td>\n",
       "      <td>NaN</td>\n",
       "      <td>Industry</td>\n",
       "      <td>NaN</td>\n",
       "      <td>NaN</td>\n",
       "      <td>NaN</td>\n",
       "      <td>0</td>\n",
       "      <td>NaN</td>\n",
       "      <td>NaN</td>\n",
       "    </tr>\n",
       "  </tbody>\n",
       "</table>\n",
       "<p>138 rows × 55 columns</p>\n",
       "</div>"
      ],
      "text/plain": [
       "                     System                      Domain  \\\n",
       "38             Gemini Ultra                  Multimodal   \n",
       "45                 Qwen-72B                    Language   \n",
       "53             Inflection-2                    Language   \n",
       "58            Nemotron-3-8B                    Language   \n",
       "75                   CogVLM  Multimodal,Vision,Language   \n",
       "...                     ...                         ...   \n",
       "1094                   GNMT                    Language   \n",
       "1130            AlphaGo Lee                       Games   \n",
       "1134  ResNet-152 (ImageNet)                      Vision   \n",
       "1136  DeepSpeech2 (English)                      Speech   \n",
       "1140            AlphaGo Fan                       Games   \n",
       "\n",
       "                                                   Task  \\\n",
       "38    Language modelling,Visual question answering,C...   \n",
       "45                                 Chat,Code generation   \n",
       "53                                   Language modelling   \n",
       "58                             Chat,Language generation   \n",
       "75      Image captioning,Visual question answering,Chat   \n",
       "...                                                 ...   \n",
       "1094                                        Translation   \n",
       "1130                                                 Go   \n",
       "1134                               Image classification   \n",
       "1136                                 Speech recognition   \n",
       "1140                                                 Go   \n",
       "\n",
       "                                                Authors  \\\n",
       "38                                          Gemini Team   \n",
       "45    Jinze Bai, Shuai Bai, Yunfei Chu, Zeyu Cui, Ka...   \n",
       "53                                                  NaN   \n",
       "58                                                  NaN   \n",
       "75    Weihan Wang, Qingsong Lv, Wenmeng Yu, Wenyi Ho...   \n",
       "...                                                 ...   \n",
       "1094  Yonghui Wu, Mike Schuster, Zhifeng Chen, Quoc ...   \n",
       "1130  David Silver, Aja Huang, Chris J. Maddison, Ar...   \n",
       "1134  Kaiming He, Xiangyu Zhang, Shaoqing Ren, Jian Sun   \n",
       "1136  Dario Amodei, Rishita Anubhai, Eric Battenberg...   \n",
       "1140  David Silver, Aja Huang, Chris J. Maddison, Ar...   \n",
       "\n",
       "                Notability criteria  \\\n",
       "38                 SOTA improvement   \n",
       "45                 SOTA improvement   \n",
       "53                  Significant use   \n",
       "58                 SOTA improvement   \n",
       "75                 SOTA improvement   \n",
       "...                             ...   \n",
       "1094                   Highly cited   \n",
       "1130                   Highly cited   \n",
       "1134                   Highly cited   \n",
       "1136                   Highly cited   \n",
       "1140  Highly cited,SOTA improvement   \n",
       "\n",
       "                              Notability criteria notes         Open-source  \\\n",
       "38    \" Evaluation on a broad range of benchmarks sh...                 NaN   \n",
       "45    SOTA on several Chinese benchmarks, with highe...  Permissive license   \n",
       "53    Inflection-2 either already powers Pi or soon ...      API accessible   \n",
       "58    \"The Nemotron-3-8B-QA model offers state-of-th...  Permissive license   \n",
       "75    \"CogVLM-17B\\nachieves state-of-the-art perform...  Permissive license   \n",
       "...                                                 ...                 ...   \n",
       "1094                                                NaN                 NaN   \n",
       "1130                                                NaN                 NaN   \n",
       "1134                                                NaN                 NaN   \n",
       "1136                                                NaN                 NaN   \n",
       "1140                                                NaN                 NaN   \n",
       "\n",
       "                                                   Link  Citations  \\\n",
       "38    https://storage.googleapis.com/deepmind-media/...      252.0   \n",
       "45                 https://huggingface.co/Qwen/Qwen-72B        NaN   \n",
       "53                   https://inflection.ai/inflection-2        NaN   \n",
       "58    https://developer.nvidia.com/blog/nvidia-ai-fo...        NaN   \n",
       "75    https://arxiv.org/abs/2311.03079\\nhttps://hugg...       43.0   \n",
       "...                                                 ...        ...   \n",
       "1094                   https://arxiv.org/abs/1609.08144     6105.0   \n",
       "1130        https://www.nature.com/articles/nature16961    14733.0   \n",
       "1134                   https://arxiv.org/abs/1512.03385   154061.0   \n",
       "1136                   https://arxiv.org/abs/1512.02595     2741.0   \n",
       "1140  https://www.nature.com/articles/nature24270.ep...    14733.0   \n",
       "\n",
       "                                              Reference  ... Archived links  \\\n",
       "38    Gemini: A Family of Highly Capable Multimodal ...  ...            NaN   \n",
       "45                                                  NaN  ...            NaN   \n",
       "53                       Inflection-2: The Next Step Up  ...            NaN   \n",
       "58    NVIDIA AI Foundation Models: Build Custom Ente...  ...            NaN   \n",
       "75    CogVLM: Visual Expert for Pretrained Language ...  ...            NaN   \n",
       "...                                                 ...  ...            ...   \n",
       "1094  Google's Neural Machine Translation System: Br...  ...            NaN   \n",
       "1130  Mastering the game of Go with deep neural netw...  ...            NaN   \n",
       "1134       Deep Residual Learning for Image Recognition  ...            NaN   \n",
       "1136  Deep Speech 2: End-to-End Speech Recognition i...  ...            NaN   \n",
       "1140  Mastering the game of Go with deep neural netw...  ...            NaN   \n",
       "\n",
       "     Batch size                                   Batch size notes  \\\n",
       "38          NaN                                                NaN   \n",
       "45    4000000.0  Table 1 https://arxiv.org/abs/2309.16609\\n(thi...   \n",
       "53          NaN                                                NaN   \n",
       "58          NaN                                                NaN   \n",
       "75          NaN                                                NaN   \n",
       "...         ...                                                ...   \n",
       "1094        NaN                                                NaN   \n",
       "1130        NaN                                                NaN   \n",
       "1134        NaN                                                NaN   \n",
       "1136        NaN                                                NaN   \n",
       "1140        NaN                                                NaN   \n",
       "\n",
       "     Organization categorization  Foundation model  \\\n",
       "38                      Industry               NaN   \n",
       "45                      Industry               NaN   \n",
       "53                      Industry           checked   \n",
       "58                      Industry               NaN   \n",
       "75    Academia,Industry,Academia           checked   \n",
       "...                          ...               ...   \n",
       "1094                    Industry               NaN   \n",
       "1130                    Industry               NaN   \n",
       "1134                    Industry               NaN   \n",
       "1136                    Industry               NaN   \n",
       "1140                    Industry               NaN   \n",
       "\n",
       "     Training compute lower bound Training compute upper bound  \\\n",
       "38                            NaN                          NaN   \n",
       "45                            NaN                          NaN   \n",
       "53                            NaN                          NaN   \n",
       "58                            NaN                          NaN   \n",
       "75                            NaN                          NaN   \n",
       "...                           ...                          ...   \n",
       "1094                          NaN                          NaN   \n",
       "1130                          NaN                          NaN   \n",
       "1134                          NaN                          NaN   \n",
       "1136                          NaN                          NaN   \n",
       "1140                          NaN                          NaN   \n",
       "\n",
       "     Training chip-hours  Training time (chip hours)         Cost  \n",
       "38             132000000                 132000000.0  191400000.0  \n",
       "45                     0                         NaN          NaN  \n",
       "53                     0                         NaN          NaN  \n",
       "58                     0                         NaN          NaN  \n",
       "75                     0                         NaN          NaN  \n",
       "...                  ...                         ...          ...  \n",
       "1094              414720                    414720.0     178329.6  \n",
       "1130                   0                         NaN          NaN  \n",
       "1134                   0                         NaN          NaN  \n",
       "1136                   0                         NaN          NaN  \n",
       "1140                   0                         NaN          NaN  \n",
       "\n",
       "[138 rows x 55 columns]"
      ]
     },
     "execution_count": 7,
     "metadata": {},
     "output_type": "execute_result"
    }
   ],
   "source": [
    "cost_df"
   ]
  },
  {
   "cell_type": "code",
   "execution_count": 8,
   "metadata": {},
   "outputs": [
    {
     "data": {
      "text/plain": [
       "48"
      ]
     },
     "execution_count": 8,
     "metadata": {},
     "output_type": "execute_result"
    }
   ],
   "source": [
    "cost_df['Cost'].notna().sum()"
   ]
  },
  {
   "cell_type": "markdown",
   "metadata": {},
   "source": [
    "Use the below to check data availability for specific systems"
   ]
  },
  {
   "cell_type": "code",
   "execution_count": 9,
   "metadata": {},
   "outputs": [],
   "source": [
    "# system = 'AlphaGo Fan'\n",
    "# print('Cost:', cost_df.loc[system, 'Cost'])\n",
    "# print('Training hardware:', cost_df.loc[system, 'Training hardware'])\n",
    "# print('Training time (hours):', cost_df.loc[system, 'Training time (hours)'])\n",
    "# print('Hardware quantity:', cost_df.loc[system, 'Hardware quantity'])\n",
    "# print('Hardware utilization:', cost_df.loc[system, 'Hardware utilization'])"
   ]
  },
  {
   "cell_type": "markdown",
   "metadata": {},
   "source": [
    "# Apply inflation adjustment"
   ]
  },
  {
   "cell_type": "code",
   "execution_count": 10,
   "metadata": {},
   "outputs": [],
   "source": [
    "# TODO move to function"
   ]
  },
  {
   "cell_type": "code",
   "execution_count": 11,
   "metadata": {},
   "outputs": [
    {
     "data": {
      "text/plain": [
       "38     2023-12-06\n",
       "45     2023-11-30\n",
       "53     2023-11-22\n",
       "58     2023-11-15\n",
       "75     2023-11-06\n",
       "          ...    \n",
       "1094   2016-09-26\n",
       "1130   2016-01-27\n",
       "1134   2015-12-10\n",
       "1136   2015-12-08\n",
       "1140   2015-10-01\n",
       "Name: Publication date, Length: 138, dtype: datetime64[ns]"
      ]
     },
     "execution_count": 11,
     "metadata": {},
     "output_type": "execute_result"
    }
   ],
   "source": [
    "cost_df['Publication date']"
   ]
  },
  {
   "cell_type": "code",
   "execution_count": 12,
   "metadata": {
    "ExecuteTime": {
     "end_time": "2024-02-07T16:04:33.405367600Z",
     "start_time": "2024-02-07T16:04:33.290732900Z"
    }
   },
   "outputs": [],
   "source": [
    "from_year_month = cost_df['Publication date'].apply(str)\n",
    "cost_df['Publication date'] = from_year_month"
   ]
  },
  {
   "cell_type": "code",
   "execution_count": 13,
   "metadata": {
    "ExecuteTime": {
     "end_time": "2024-02-07T16:04:33.499948700Z",
     "start_time": "2024-02-07T16:04:33.405367600Z"
    }
   },
   "outputs": [
    {
     "data": {
      "text/plain": [
       "38      2023-12-06 00:00:00\n",
       "45      2023-11-30 00:00:00\n",
       "53      2023-11-22 00:00:00\n",
       "58      2023-11-15 00:00:00\n",
       "75      2023-11-06 00:00:00\n",
       "               ...         \n",
       "1094    2016-09-26 00:00:00\n",
       "1130    2016-01-27 00:00:00\n",
       "1134    2015-12-10 00:00:00\n",
       "1136    2015-12-08 00:00:00\n",
       "1140    2015-10-01 00:00:00\n",
       "Name: Publication date, Length: 138, dtype: object"
      ]
     },
     "execution_count": 13,
     "metadata": {},
     "output_type": "execute_result"
    }
   ],
   "source": [
    "cost_df['Publication date']"
   ]
  },
  {
   "cell_type": "code",
   "execution_count": 14,
   "metadata": {
    "ExecuteTime": {
     "end_time": "2024-02-07T16:04:53.202236900Z",
     "start_time": "2024-02-07T16:04:52.976107600Z"
    }
   },
   "outputs": [],
   "source": [
    "cost_df = adjust_column_for_inflation(cost_df, 'Cost', 'data/PCU518210518210.csv', '2023-12-01')"
   ]
  },
  {
   "cell_type": "code",
   "execution_count": 15,
   "metadata": {},
   "outputs": [
    {
     "data": {
      "text/plain": [
       "38      1.914000e+08\n",
       "134     2.581632e+07\n",
       "173     3.931897e+06\n",
       "224     5.856264e+05\n",
       "255     9.529677e+05\n",
       "262     7.835203e+07\n",
       "263     8.103978e+05\n",
       "278     1.503763e+06\n",
       "333     1.990912e+06\n",
       "348     1.252379e+07\n",
       "369     2.547193e+05\n",
       "374     1.635573e+06\n",
       "395     1.347019e+07\n",
       "431     3.619903e+04\n",
       "435     5.610850e+05\n",
       "438     1.493975e+06\n",
       "439     8.150695e+05\n",
       "447     1.238906e+07\n",
       "469     1.319586e+06\n",
       "471     3.108410e+05\n",
       "494     1.930600e+05\n",
       "498     2.093016e+06\n",
       "502     3.499808e+06\n",
       "513     1.724109e+05\n",
       "537     6.417537e+04\n",
       "541     6.405653e+06\n",
       "548     9.869716e+05\n",
       "578     1.655001e+05\n",
       "636     2.513914e+05\n",
       "651     6.197414e+05\n",
       "714     9.691116e+05\n",
       "723     4.324883e+06\n",
       "763     6.971103e+05\n",
       "790     3.889027e+05\n",
       "794     2.366316e+05\n",
       "808     8.817783e+05\n",
       "809     2.160704e+05\n",
       "834     1.600176e+05\n",
       "884     6.387439e+02\n",
       "917     3.287635e+03\n",
       "920     1.164818e+04\n",
       "921     5.358052e+03\n",
       "931     4.434402e+03\n",
       "983     1.381309e+02\n",
       "1040    3.344073e+04\n",
       "1045    9.299259e+02\n",
       "1093    2.028533e+04\n",
       "1094    1.947392e+05\n",
       "Name: Cost (inflation-adjusted), dtype: float64"
      ]
     },
     "execution_count": 15,
     "metadata": {},
     "output_type": "execute_result"
    }
   ],
   "source": [
    "cost_df['Cost (inflation-adjusted)'].dropna()"
   ]
  },
  {
   "cell_type": "code",
   "execution_count": 16,
   "metadata": {},
   "outputs": [
    {
     "data": {
      "text/plain": [
       "48"
      ]
     },
     "execution_count": 16,
     "metadata": {},
     "output_type": "execute_result"
    }
   ],
   "source": [
    "cost_df['Cost (inflation-adjusted)'].notna().sum()"
   ]
  },
  {
   "cell_type": "markdown",
   "metadata": {},
   "source": [
    "# Regression"
   ]
  },
  {
   "cell_type": "code",
   "execution_count": 17,
   "metadata": {},
   "outputs": [],
   "source": [
    "cost_df['Publication date (float)'] = datetime_to_float_year(pd.to_datetime(cost_df['Publication date']))"
   ]
  },
  {
   "cell_type": "code",
   "execution_count": 18,
   "metadata": {
    "ExecuteTime": {
     "end_time": "2024-02-29T19:51:49.113208600Z",
     "start_time": "2024-02-29T19:51:49.050509200Z"
    }
   },
   "outputs": [
    {
     "data": {
      "text/html": [
       "<table class=\"simpletable\">\n",
       "<caption>OLS Regression Results</caption>\n",
       "<tr>\n",
       "  <th>Dep. Variable:</th>            <td>y</td>        <th>  R-squared:         </th> <td>   0.533</td>\n",
       "</tr>\n",
       "<tr>\n",
       "  <th>Model:</th>                   <td>OLS</td>       <th>  Adj. R-squared:    </th> <td>   0.523</td>\n",
       "</tr>\n",
       "<tr>\n",
       "  <th>Method:</th>             <td>Least Squares</td>  <th>  F-statistic:       </th> <td>   52.48</td>\n",
       "</tr>\n",
       "<tr>\n",
       "  <th>Date:</th>             <td>Thu, 07 Mar 2024</td> <th>  Prob (F-statistic):</th> <td>3.93e-09</td>\n",
       "</tr>\n",
       "<tr>\n",
       "  <th>Time:</th>                 <td>16:07:05</td>     <th>  Log-Likelihood:    </th> <td> -60.947</td>\n",
       "</tr>\n",
       "<tr>\n",
       "  <th>No. Observations:</th>      <td>    48</td>      <th>  AIC:               </th> <td>   125.9</td>\n",
       "</tr>\n",
       "<tr>\n",
       "  <th>Df Residuals:</th>          <td>    46</td>      <th>  BIC:               </th> <td>   129.6</td>\n",
       "</tr>\n",
       "<tr>\n",
       "  <th>Df Model:</th>              <td>     1</td>      <th>                     </th>     <td> </td>   \n",
       "</tr>\n",
       "<tr>\n",
       "  <th>Covariance Type:</th>      <td>nonrobust</td>    <th>                     </th>     <td> </td>   \n",
       "</tr>\n",
       "</table>\n",
       "<table class=\"simpletable\">\n",
       "<tr>\n",
       "    <td></td>       <th>coef</th>     <th>std err</th>      <th>t</th>      <th>P>|t|</th>  <th>[0.025</th>    <th>0.975]</th>  \n",
       "</tr>\n",
       "<tr>\n",
       "  <th>const</th> <td> -953.2855</td> <td>  132.365</td> <td>   -7.202</td> <td> 0.000</td> <td>-1219.723</td> <td> -686.848</td>\n",
       "</tr>\n",
       "<tr>\n",
       "  <th>x1</th>    <td>    0.4744</td> <td>    0.065</td> <td>    7.244</td> <td> 0.000</td> <td>    0.343</td> <td>    0.606</td>\n",
       "</tr>\n",
       "</table>\n",
       "<table class=\"simpletable\">\n",
       "<tr>\n",
       "  <th>Omnibus:</th>       <td> 0.557</td> <th>  Durbin-Watson:     </th> <td>   1.592</td>\n",
       "</tr>\n",
       "<tr>\n",
       "  <th>Prob(Omnibus):</th> <td> 0.757</td> <th>  Jarque-Bera (JB):  </th> <td>   0.693</td>\n",
       "</tr>\n",
       "<tr>\n",
       "  <th>Skew:</th>          <td>-0.187</td> <th>  Prob(JB):          </th> <td>   0.707</td>\n",
       "</tr>\n",
       "<tr>\n",
       "  <th>Kurtosis:</th>      <td> 2.546</td> <th>  Cond. No.          </th> <td>2.11e+06</td>\n",
       "</tr>\n",
       "</table><br/><br/>Notes:<br/>[1] Standard Errors assume that the covariance matrix of the errors is correctly specified.<br/>[2] The condition number is large, 2.11e+06. This might indicate that there are<br/>strong multicollinearity or other numerical problems."
      ],
      "text/latex": [
       "\\begin{center}\n",
       "\\begin{tabular}{lclc}\n",
       "\\toprule\n",
       "\\textbf{Dep. Variable:}    &        y         & \\textbf{  R-squared:         } &     0.533   \\\\\n",
       "\\textbf{Model:}            &       OLS        & \\textbf{  Adj. R-squared:    } &     0.523   \\\\\n",
       "\\textbf{Method:}           &  Least Squares   & \\textbf{  F-statistic:       } &     52.48   \\\\\n",
       "\\textbf{Date:}             & Thu, 07 Mar 2024 & \\textbf{  Prob (F-statistic):} &  3.93e-09   \\\\\n",
       "\\textbf{Time:}             &     16:07:05     & \\textbf{  Log-Likelihood:    } &   -60.947   \\\\\n",
       "\\textbf{No. Observations:} &          48      & \\textbf{  AIC:               } &     125.9   \\\\\n",
       "\\textbf{Df Residuals:}     &          46      & \\textbf{  BIC:               } &     129.6   \\\\\n",
       "\\textbf{Df Model:}         &           1      & \\textbf{                     } &             \\\\\n",
       "\\textbf{Covariance Type:}  &    nonrobust     & \\textbf{                     } &             \\\\\n",
       "\\bottomrule\n",
       "\\end{tabular}\n",
       "\\begin{tabular}{lcccccc}\n",
       "               & \\textbf{coef} & \\textbf{std err} & \\textbf{t} & \\textbf{P$> |$t$|$} & \\textbf{[0.025} & \\textbf{0.975]}  \\\\\n",
       "\\midrule\n",
       "\\textbf{const} &    -953.2855  &      132.365     &    -7.202  &         0.000        &    -1219.723    &     -686.848     \\\\\n",
       "\\textbf{x1}    &       0.4744  &        0.065     &     7.244  &         0.000        &        0.343    &        0.606     \\\\\n",
       "\\bottomrule\n",
       "\\end{tabular}\n",
       "\\begin{tabular}{lclc}\n",
       "\\textbf{Omnibus:}       &  0.557 & \\textbf{  Durbin-Watson:     } &    1.592  \\\\\n",
       "\\textbf{Prob(Omnibus):} &  0.757 & \\textbf{  Jarque-Bera (JB):  } &    0.693  \\\\\n",
       "\\textbf{Skew:}          & -0.187 & \\textbf{  Prob(JB):          } &    0.707  \\\\\n",
       "\\textbf{Kurtosis:}      &  2.546 & \\textbf{  Cond. No.          } & 2.11e+06  \\\\\n",
       "\\bottomrule\n",
       "\\end{tabular}\n",
       "%\\caption{OLS Regression Results}\n",
       "\\end{center}\n",
       "\n",
       "Notes: \\newline\n",
       " [1] Standard Errors assume that the covariance matrix of the errors is correctly specified. \\newline\n",
       " [2] The condition number is large, 2.11e+06. This might indicate that there are \\newline\n",
       " strong multicollinearity or other numerical problems."
      ],
      "text/plain": [
       "<class 'statsmodels.iolib.summary.Summary'>\n",
       "\"\"\"\n",
       "                            OLS Regression Results                            \n",
       "==============================================================================\n",
       "Dep. Variable:                      y   R-squared:                       0.533\n",
       "Model:                            OLS   Adj. R-squared:                  0.523\n",
       "Method:                 Least Squares   F-statistic:                     52.48\n",
       "Date:                Thu, 07 Mar 2024   Prob (F-statistic):           3.93e-09\n",
       "Time:                        16:07:05   Log-Likelihood:                -60.947\n",
       "No. Observations:                  48   AIC:                             125.9\n",
       "Df Residuals:                      46   BIC:                             129.6\n",
       "Df Model:                           1                                         \n",
       "Covariance Type:            nonrobust                                         \n",
       "==============================================================================\n",
       "                 coef    std err          t      P>|t|      [0.025      0.975]\n",
       "------------------------------------------------------------------------------\n",
       "const       -953.2855    132.365     -7.202      0.000   -1219.723    -686.848\n",
       "x1             0.4744      0.065      7.244      0.000       0.343       0.606\n",
       "==============================================================================\n",
       "Omnibus:                        0.557   Durbin-Watson:                   1.592\n",
       "Prob(Omnibus):                  0.757   Jarque-Bera (JB):                0.693\n",
       "Skew:                          -0.187   Prob(JB):                        0.707\n",
       "Kurtosis:                       2.546   Cond. No.                     2.11e+06\n",
       "==============================================================================\n",
       "\n",
       "Notes:\n",
       "[1] Standard Errors assume that the covariance matrix of the errors is correctly specified.\n",
       "[2] The condition number is large, 2.11e+06. This might indicate that there are\n",
       "strong multicollinearity or other numerical problems.\n",
       "\"\"\""
      ]
     },
     "execution_count": 18,
     "metadata": {},
     "output_type": "execute_result"
    }
   ],
   "source": [
    "reg_results = fit_ols_regression(cost_df, ['Publication date (float)'], 'Cost (inflation-adjusted)', logy=True)\n",
    "reg_results.summary()"
   ]
  },
  {
   "cell_type": "code",
   "execution_count": 19,
   "metadata": {},
   "outputs": [
    {
     "name": "stdout",
     "output_type": "stream",
     "text": [
      "0.47 OOMs/year (95% CI: 0.34, 0.61)\n",
      "3.0x/year (95% CI: 2.2x, 4.0x)\n",
      "doubling time of 8 months (95% CI: 6, 11)\n"
     ]
    }
   ],
   "source": [
    "print_growth_rates(reg_results)"
   ]
  },
  {
   "cell_type": "code",
   "execution_count": 20,
   "metadata": {},
   "outputs": [
    {
     "data": {
      "text/html": [
       "<div>\n",
       "<style scoped>\n",
       "    .dataframe tbody tr th:only-of-type {\n",
       "        vertical-align: middle;\n",
       "    }\n",
       "\n",
       "    .dataframe tbody tr th {\n",
       "        vertical-align: top;\n",
       "    }\n",
       "\n",
       "    .dataframe thead th {\n",
       "        text-align: right;\n",
       "    }\n",
       "</style>\n",
       "<table border=\"1\" class=\"dataframe\">\n",
       "  <thead>\n",
       "    <tr style=\"text-align: right;\">\n",
       "      <th></th>\n",
       "      <th>Publication date (float)</th>\n",
       "    </tr>\n",
       "  </thead>\n",
       "  <tbody>\n",
       "    <tr>\n",
       "      <th>0</th>\n",
       "      <td>2015.00000</td>\n",
       "    </tr>\n",
       "    <tr>\n",
       "      <th>1</th>\n",
       "      <td>2015.10101</td>\n",
       "    </tr>\n",
       "    <tr>\n",
       "      <th>2</th>\n",
       "      <td>2015.20202</td>\n",
       "    </tr>\n",
       "    <tr>\n",
       "      <th>3</th>\n",
       "      <td>2015.30303</td>\n",
       "    </tr>\n",
       "    <tr>\n",
       "      <th>4</th>\n",
       "      <td>2015.40404</td>\n",
       "    </tr>\n",
       "    <tr>\n",
       "      <th>...</th>\n",
       "      <td>...</td>\n",
       "    </tr>\n",
       "    <tr>\n",
       "      <th>95</th>\n",
       "      <td>2024.59596</td>\n",
       "    </tr>\n",
       "    <tr>\n",
       "      <th>96</th>\n",
       "      <td>2024.69697</td>\n",
       "    </tr>\n",
       "    <tr>\n",
       "      <th>97</th>\n",
       "      <td>2024.79798</td>\n",
       "    </tr>\n",
       "    <tr>\n",
       "      <th>98</th>\n",
       "      <td>2024.89899</td>\n",
       "    </tr>\n",
       "    <tr>\n",
       "      <th>99</th>\n",
       "      <td>2025.00000</td>\n",
       "    </tr>\n",
       "  </tbody>\n",
       "</table>\n",
       "<p>100 rows × 1 columns</p>\n",
       "</div>"
      ],
      "text/plain": [
       "    Publication date (float)\n",
       "0                 2015.00000\n",
       "1                 2015.10101\n",
       "2                 2015.20202\n",
       "3                 2015.30303\n",
       "4                 2015.40404\n",
       "..                       ...\n",
       "95                2024.59596\n",
       "96                2024.69697\n",
       "97                2024.79798\n",
       "98                2024.89899\n",
       "99                2025.00000\n",
       "\n",
       "[100 rows x 1 columns]"
      ]
     },
     "execution_count": 20,
     "metadata": {},
     "output_type": "execute_result"
    }
   ],
   "source": [
    "pred_start_year = 2015\n",
    "pred_end_year = 2025\n",
    "pred_start_date = f'{pred_start_year}-01-01'\n",
    "pred_end_date = f'{pred_end_year}-01-01'\n",
    "\n",
    "pred_years = pd.DataFrame({'Publication date (float)': np.linspace(pred_start_year, pred_end_year, 100)})\n",
    "pred_years"
   ]
  },
  {
   "cell_type": "code",
   "execution_count": 21,
   "metadata": {},
   "outputs": [
    {
     "data": {
      "text/html": [
       "<div>\n",
       "<style scoped>\n",
       "    .dataframe tbody tr th:only-of-type {\n",
       "        vertical-align: middle;\n",
       "    }\n",
       "\n",
       "    .dataframe tbody tr th {\n",
       "        vertical-align: top;\n",
       "    }\n",
       "\n",
       "    .dataframe thead th {\n",
       "        text-align: right;\n",
       "    }\n",
       "</style>\n",
       "<table border=\"1\" class=\"dataframe\">\n",
       "  <thead>\n",
       "    <tr style=\"text-align: right;\">\n",
       "      <th></th>\n",
       "      <th>mean</th>\n",
       "      <th>mean_se</th>\n",
       "      <th>mean_ci_lower</th>\n",
       "      <th>mean_ci_upper</th>\n",
       "      <th>obs_ci_lower</th>\n",
       "      <th>obs_ci_upper</th>\n",
       "      <th>Publication date (float)</th>\n",
       "      <th>Publication date</th>\n",
       "    </tr>\n",
       "  </thead>\n",
       "  <tbody>\n",
       "    <tr>\n",
       "      <th>0</th>\n",
       "      <td>2.673192</td>\n",
       "      <td>0.420160</td>\n",
       "      <td>1.827453</td>\n",
       "      <td>3.518931</td>\n",
       "      <td>0.710444</td>\n",
       "      <td>4.635939</td>\n",
       "      <td>2015.00000</td>\n",
       "      <td>2015-01-01</td>\n",
       "    </tr>\n",
       "    <tr>\n",
       "      <th>1</th>\n",
       "      <td>2.721113</td>\n",
       "      <td>0.413859</td>\n",
       "      <td>1.888057</td>\n",
       "      <td>3.554169</td>\n",
       "      <td>0.763798</td>\n",
       "      <td>4.678429</td>\n",
       "      <td>2015.10101</td>\n",
       "      <td>2015-02-06</td>\n",
       "    </tr>\n",
       "    <tr>\n",
       "      <th>2</th>\n",
       "      <td>2.769034</td>\n",
       "      <td>0.407568</td>\n",
       "      <td>1.948642</td>\n",
       "      <td>3.589427</td>\n",
       "      <td>0.817075</td>\n",
       "      <td>4.720994</td>\n",
       "      <td>2015.20202</td>\n",
       "      <td>2015-03-15</td>\n",
       "    </tr>\n",
       "    <tr>\n",
       "      <th>3</th>\n",
       "      <td>2.816956</td>\n",
       "      <td>0.401288</td>\n",
       "      <td>2.009205</td>\n",
       "      <td>3.624706</td>\n",
       "      <td>0.870276</td>\n",
       "      <td>4.763636</td>\n",
       "      <td>2015.30303</td>\n",
       "      <td>2015-04-21</td>\n",
       "    </tr>\n",
       "    <tr>\n",
       "      <th>4</th>\n",
       "      <td>2.864877</td>\n",
       "      <td>0.395018</td>\n",
       "      <td>2.069747</td>\n",
       "      <td>3.660007</td>\n",
       "      <td>0.923400</td>\n",
       "      <td>4.806354</td>\n",
       "      <td>2015.40404</td>\n",
       "      <td>2015-05-28</td>\n",
       "    </tr>\n",
       "    <tr>\n",
       "      <th>...</th>\n",
       "      <td>...</td>\n",
       "      <td>...</td>\n",
       "      <td>...</td>\n",
       "      <td>...</td>\n",
       "      <td>...</td>\n",
       "      <td>...</td>\n",
       "      <td>...</td>\n",
       "      <td>...</td>\n",
       "    </tr>\n",
       "    <tr>\n",
       "      <th>95</th>\n",
       "      <td>7.225718</td>\n",
       "      <td>0.260940</td>\n",
       "      <td>6.700474</td>\n",
       "      <td>7.750963</td>\n",
       "      <td>5.378292</td>\n",
       "      <td>9.073144</td>\n",
       "      <td>2024.59596</td>\n",
       "      <td>2024-08-06</td>\n",
       "    </tr>\n",
       "    <tr>\n",
       "      <th>96</th>\n",
       "      <td>7.273639</td>\n",
       "      <td>0.266738</td>\n",
       "      <td>6.736724</td>\n",
       "      <td>7.810555</td>\n",
       "      <td>5.422861</td>\n",
       "      <td>9.124418</td>\n",
       "      <td>2024.69697</td>\n",
       "      <td>2024-09-12</td>\n",
       "    </tr>\n",
       "    <tr>\n",
       "      <th>97</th>\n",
       "      <td>7.321561</td>\n",
       "      <td>0.272573</td>\n",
       "      <td>6.772899</td>\n",
       "      <td>7.870223</td>\n",
       "      <td>5.467341</td>\n",
       "      <td>9.175781</td>\n",
       "      <td>2024.79798</td>\n",
       "      <td>2024-10-19</td>\n",
       "    </tr>\n",
       "    <tr>\n",
       "      <th>98</th>\n",
       "      <td>7.369482</td>\n",
       "      <td>0.278444</td>\n",
       "      <td>6.809004</td>\n",
       "      <td>7.929960</td>\n",
       "      <td>5.511731</td>\n",
       "      <td>9.227233</td>\n",
       "      <td>2024.89899</td>\n",
       "      <td>2024-11-25</td>\n",
       "    </tr>\n",
       "    <tr>\n",
       "      <th>99</th>\n",
       "      <td>7.417403</td>\n",
       "      <td>0.284347</td>\n",
       "      <td>6.845043</td>\n",
       "      <td>7.989764</td>\n",
       "      <td>5.556033</td>\n",
       "      <td>9.278773</td>\n",
       "      <td>2025.00000</td>\n",
       "      <td>2025-01-01</td>\n",
       "    </tr>\n",
       "  </tbody>\n",
       "</table>\n",
       "<p>100 rows × 8 columns</p>\n",
       "</div>"
      ],
      "text/plain": [
       "        mean   mean_se  mean_ci_lower  mean_ci_upper  obs_ci_lower  \\\n",
       "0   2.673192  0.420160       1.827453       3.518931      0.710444   \n",
       "1   2.721113  0.413859       1.888057       3.554169      0.763798   \n",
       "2   2.769034  0.407568       1.948642       3.589427      0.817075   \n",
       "3   2.816956  0.401288       2.009205       3.624706      0.870276   \n",
       "4   2.864877  0.395018       2.069747       3.660007      0.923400   \n",
       "..       ...       ...            ...            ...           ...   \n",
       "95  7.225718  0.260940       6.700474       7.750963      5.378292   \n",
       "96  7.273639  0.266738       6.736724       7.810555      5.422861   \n",
       "97  7.321561  0.272573       6.772899       7.870223      5.467341   \n",
       "98  7.369482  0.278444       6.809004       7.929960      5.511731   \n",
       "99  7.417403  0.284347       6.845043       7.989764      5.556033   \n",
       "\n",
       "    obs_ci_upper  Publication date (float) Publication date  \n",
       "0       4.635939                2015.00000       2015-01-01  \n",
       "1       4.678429                2015.10101       2015-02-06  \n",
       "2       4.720994                2015.20202       2015-03-15  \n",
       "3       4.763636                2015.30303       2015-04-21  \n",
       "4       4.806354                2015.40404       2015-05-28  \n",
       "..           ...                       ...              ...  \n",
       "95      9.073144                2024.59596       2024-08-06  \n",
       "96      9.124418                2024.69697       2024-09-12  \n",
       "97      9.175781                2024.79798       2024-10-19  \n",
       "98      9.227233                2024.89899       2024-11-25  \n",
       "99      9.278773                2025.00000       2025-01-01  \n",
       "\n",
       "[100 rows x 8 columns]"
      ]
     },
     "execution_count": 21,
     "metadata": {},
     "output_type": "execute_result"
    }
   ],
   "source": [
    "\n",
    "predicted_cost_df = get_predictions(reg_results, pred_years, ['Publication date (float)'])\n",
    "predicted_cost_df['Publication date'] = predicted_cost_df['Publication date (float)'].apply(float_year_to_datetime)\n",
    "predicted_cost_df"
   ]
  },
  {
   "cell_type": "markdown",
   "metadata": {},
   "source": [
    "# Plots"
   ]
  },
  {
   "cell_type": "code",
   "execution_count": 22,
   "metadata": {},
   "outputs": [
    {
     "data": {
      "application/vnd.plotly.v1+json": {
       "config": {
        "plotlyServerURL": "https://plot.ly"
       },
       "data": [
        {
         "hovertemplate": "Publication date=%{x}<br>Cost (inflation-adjusted)=%{y}<br>System=%{text}<extra></extra>",
         "legendgroup": "",
         "marker": {
          "color": "#636efa",
          "symbol": "circle"
         },
         "mode": "markers+text",
         "name": "",
         "orientation": "v",
         "showlegend": false,
         "text": [
          "Gemini Ultra",
          "Qwen-72B",
          "Inflection-2",
          "Nemotron-3-8B",
          "CogVLM",
          "Yi-34B",
          "Skywork-13B",
          "ChatGLM3",
          "XGen-7B",
          "Falcon 180B",
          "Jais",
          "Llama 2-70B",
          "Llama 2-7B",
          "Claude 2",
          "Pangu-Weather",
          "PaLM 2",
          "StarCoder",
          "WizardLM-7B",
          "BloombergGPT",
          "PanGu-Σ",
          "GPT-4",
          "Falcon-40B",
          "LLaMA-65B",
          "LLaMA-7B",
          "GPT-3.5 (text-davinci-003)",
          "Galactica",
          "BLOOM-176B",
          "Taiyi-Stable Diffusion",
          "U-PaLM (540B)",
          "Whisper",
          "PaLI",
          "BlenderBot 3",
          "GLM-130B",
          "AlexaTM 20B",
          "ESM2-15B",
          "NLLB",
          "Minerva (540B)",
          "Parti",
          "CoCa",
          "Imagen",
          "UL2",
          "OPT-175B",
          "Flamingo",
          "Stable Diffusion (LDM-KL-8-G)",
          "PaLM (540B)",
          "Chinchilla",
          "LaMDA",
          "GPT-NeoX-20B",
          "AlphaCode",
          "ERNIE 3.0 Titan",
          "XGLM-7.5B",
          "GLaM",
          "Gopher (280B)",
          "Florence",
          "BASIC-L",
          "T0-XXL",
          "Yuan 1.0",
          "Megatron-Turing NLG 530B",
          "HyperCLOVA",
          "FLAN 137B",
          "GOAT",
          "ERNIE 3.0",
          "ALIGN",
          "DeBERTa",
          "CoAtNet",
          "ByT5-XXL",
          "CogView",
          "ProtT5-XXL",
          "ProtT5-XXL-BFD",
          "ProtBERT-BFD",
          "PLUG",
          "M6-T",
          "Meta Pseudo Labels",
          "MSA Transformer",
          "Switch",
          "DALL-E",
          "CLIP (ViT L/14@336px)",
          "ViT-Huge/14",
          "Conformer + Wav2vec 2.0 + Noisy Student",
          "mT5-XXL",
          "GShard (dense)",
          "iGPT-XL",
          "iGPT-L",
          "GPT-3 175B (davinci)",
          "Once for All",
          "ELECTRA",
          "Turing-NLG",
          "ALBERT-xxlarge",
          "Meena",
          "ContextNet + Noisy Student",
          "DD-PPO",
          "OpenAI Five",
          "OpenAI Five Rerun",
          "Noisy Student (L2)",
          "AlphaStar",
          "T5-3B",
          "T5-11B",
          "Megatron-BERT",
          "Megatron-LM (8.3B)",
          "RoBERTa Large",
          "MnasNet-A3",
          "MnasNet-A1 + SSDLite",
          "BERT-Large-CAS (PTB+WT2+WT103)",
          "SciBERT",
          "ProxylessNAS",
          "GPT-2 (1.5B)",
          "BERT-Large",
          "BigGAN-deep 512x512",
          "Transformer (Adaptive Input Embeddings)",
          "Transformer + Simple Recurrent Unit",
          "Big Transformer for Back-Translation",
          "FTW",
          "Population-based DRL",
          "GPT",
          "ResNeXt-101 32x48d",
          "YOLOv3",
          "LSTM (Hebbian, Cache, MbPA)",
          "AmoebaNet-A (F=448)",
          "IMPALA",
          "AlphaZero",
          "PNASNet-5",
          "AlphaGo Zero",
          "OpenAI TI7 DOTA 1v1",
          "JFT",
          "Transformer",
          "MoE",
          "DeepStack",
          "Libratus",
          "AlphaGo Master",
          "PolyNet",
          "NASv3 (CIFAR-10)",
          "BIDAF",
          "Xception",
          "GNMT",
          "AlphaGo Lee",
          "ResNet-152 (ImageNet)",
          "DeepSpeech2 (English)",
          "AlphaGo Fan"
         ],
         "textposition": "top center",
         "type": "scatter",
         "x": [
          "2023-12-06 00:00:00",
          "2023-11-30 00:00:00",
          "2023-11-22 00:00:00",
          "2023-11-15 00:00:00",
          "2023-11-06 00:00:00",
          "2023-11-02 00:00:00",
          "2023-10-30 00:00:00",
          "2023-10-27 00:00:00",
          "2023-09-07 00:00:00",
          "2023-09-06 00:00:00",
          "2023-08-29 00:00:00",
          "2023-07-18 00:00:00",
          "2023-07-18 00:00:00",
          "2023-07-11 00:00:00",
          "2023-07-05 00:00:00",
          "2023-05-10 00:00:00",
          "2023-05-09 00:00:00",
          "2023-04-24 00:00:00",
          "2023-03-30 00:00:00",
          "2023-03-20 00:00:00",
          "2023-03-15 00:00:00",
          "2023-03-15 00:00:00",
          "2023-02-24 00:00:00",
          "2023-02-24 00:00:00",
          "2022-11-28 00:00:00",
          "2022-11-16 00:00:00",
          "2022-11-08 00:00:00",
          "2022-10-31 00:00:00",
          "2022-10-20 00:00:00",
          "2022-09-21 00:00:00",
          "2022-09-14 00:00:00",
          "2022-08-10 00:00:00",
          "2022-08-04 00:00:00",
          "2022-08-02 00:00:00",
          "2022-07-21 00:00:00",
          "2022-07-06 00:00:00",
          "2022-06-29 00:00:00",
          "2022-06-22 00:00:00",
          "2022-06-14 00:00:00",
          "2022-05-23 00:00:00",
          "2022-05-10 00:00:00",
          "2022-05-02 00:00:00",
          "2022-04-29 00:00:00",
          "2022-04-13 00:00:00",
          "2022-04-04 00:00:00",
          "2022-03-29 00:00:00",
          "2022-02-10 00:00:00",
          "2022-02-09 00:00:00",
          "2022-02-02 00:00:00",
          "2021-12-23 00:00:00",
          "2021-12-20 00:00:00",
          "2021-12-13 00:00:00",
          "2021-12-08 00:00:00",
          "2021-11-22 00:00:00",
          "2021-11-19 00:00:00",
          "2021-10-15 00:00:00",
          "2021-10-12 00:00:00",
          "2021-10-11 00:00:00",
          "2021-09-10 00:00:00",
          "2021-09-03 00:00:00",
          "2021-07-27 00:00:00",
          "2021-07-05 00:00:00",
          "2021-06-11 00:00:00",
          "2021-06-10 00:00:00",
          "2021-06-09 00:00:00",
          "2021-05-28 00:00:00",
          "2021-05-26 00:00:00",
          "2021-05-04 00:00:00",
          "2021-05-04 00:00:00",
          "2021-05-04 00:00:00",
          "2021-04-19 00:00:00",
          "2021-03-05 00:00:00",
          "2021-03-01 00:00:00",
          "2021-02-13 00:00:00",
          "2021-01-11 00:00:00",
          "2021-01-05 00:00:00",
          "2021-01-05 00:00:00",
          "2020-10-22 00:00:00",
          "2020-10-20 00:00:00",
          "2020-10-20 00:00:00",
          "2020-06-30 00:00:00",
          "2020-06-17 00:00:00",
          "2020-06-17 00:00:00",
          "2020-05-28 00:00:00",
          "2020-04-29 00:00:00",
          "2020-03-23 00:00:00",
          "2020-02-13 00:00:00",
          "2020-02-09 00:00:00",
          "2020-01-28 00:00:00",
          "2020-01-19 00:00:00",
          "2019-12-19 00:00:00",
          "2019-12-13 00:00:00",
          "2019-12-13 00:00:00",
          "2019-11-11 00:00:00",
          "2019-10-30 00:00:00",
          "2019-10-23 00:00:00",
          "2019-10-23 00:00:00",
          "2019-09-17 00:00:00",
          "2019-09-17 00:00:00",
          "2019-07-01 00:00:00",
          "2019-05-29 00:00:00",
          "2019-05-29 00:00:00",
          "2019-04-20 00:00:00",
          "2019-03-26 00:00:00",
          "2019-02-23 00:00:00",
          "2019-02-14 00:00:00",
          "2018-10-11 00:00:00",
          "2018-09-28 00:00:00",
          "2018-09-28 00:00:00",
          "2018-09-17 00:00:00",
          "2018-08-28 00:00:00",
          "2018-07-03 00:00:00",
          "2018-07-03 00:00:00",
          "2018-06-01 00:00:00",
          "2018-05-02 00:00:00",
          "2018-04-08 00:00:00",
          "2018-03-27 00:00:00",
          "2018-02-05 00:00:00",
          "2018-02-05 00:00:00",
          "2017-12-05 00:00:00",
          "2017-12-02 00:00:00",
          "2017-10-18 00:00:00",
          "2017-08-11 00:00:00",
          "2017-07-10 00:00:00",
          "2017-06-12 00:00:00",
          "2017-01-23 00:00:00",
          "2017-01-06 00:00:00",
          "2017-01-01 00:00:00",
          "2017-01-01 00:00:00",
          "2016-11-17 00:00:00",
          "2016-11-05 00:00:00",
          "2016-11-05 00:00:00",
          "2016-10-07 00:00:00",
          "2016-09-26 00:00:00",
          "2016-01-27 00:00:00",
          "2015-12-10 00:00:00",
          "2015-12-08 00:00:00",
          "2015-10-01 00:00:00"
         ],
         "xaxis": "x",
         "y": [
          191400000,
          null,
          null,
          null,
          null,
          null,
          null,
          null,
          null,
          25816323.797898512,
          null,
          3931897.156858603,
          null,
          null,
          null,
          null,
          585626.3876555364,
          null,
          952967.7278671262,
          null,
          78352033.69393542,
          810397.7528318869,
          1503762.8500199951,
          null,
          null,
          null,
          1990911.832381475,
          null,
          12523793.100601656,
          null,
          254719.2576909219,
          null,
          1635572.685301023,
          null,
          null,
          null,
          13470191.00856837,
          null,
          null,
          36199.03270294258,
          561085.00689561,
          1493974.647531918,
          815069.4909087805,
          null,
          12389056.261813464,
          null,
          1319585.503057254,
          310840.989438577,
          null,
          null,
          193060.0432091273,
          2093016.0239973643,
          3499807.67985019,
          172410.94434669559,
          null,
          64175.36890822579,
          null,
          6405652.563246981,
          986971.6222926452,
          null,
          null,
          null,
          165500.13931537792,
          null,
          null,
          null,
          null,
          null,
          null,
          null,
          null,
          null,
          251391.36000000002,
          null,
          619741.3696948562,
          null,
          null,
          null,
          null,
          null,
          969111.5896932516,
          null,
          null,
          4324882.624338623,
          null,
          null,
          null,
          null,
          697110.2785525154,
          null,
          null,
          null,
          null,
          null,
          388902.65897940914,
          null,
          236631.5547502238,
          881778.3356559139,
          216070.42339784946,
          160017.6468716094,
          null,
          null,
          null,
          638.7439274047186,
          null,
          null,
          3287.6352902712474,
          11648.178852488687,
          5358.051967420814,
          null,
          4434.402272463768,
          null,
          null,
          null,
          null,
          null,
          null,
          null,
          138.13091568449684,
          null,
          null,
          null,
          null,
          33440.7332123412,
          929.9259291553134,
          null,
          null,
          null,
          null,
          null,
          null,
          null,
          20285.332844036697,
          194739.1953027523,
          null,
          null,
          null,
          null
         ],
         "yaxis": "y"
        }
       ],
       "layout": {
        "autosize": false,
        "font": {
         "size": 14
        },
        "height": 600,
        "legend": {
         "tracegroupgap": 0
        },
        "margin": {
         "b": 10,
         "l": 10,
         "r": 10,
         "t": 40
        },
        "showlegend": false,
        "template": {
         "data": {
          "bar": [
           {
            "error_x": {
             "color": "#2a3f5f"
            },
            "error_y": {
             "color": "#2a3f5f"
            },
            "marker": {
             "line": {
              "color": "#E5ECF6",
              "width": 0.5
             },
             "pattern": {
              "fillmode": "overlay",
              "size": 10,
              "solidity": 0.2
             }
            },
            "type": "bar"
           }
          ],
          "barpolar": [
           {
            "marker": {
             "line": {
              "color": "#E5ECF6",
              "width": 0.5
             },
             "pattern": {
              "fillmode": "overlay",
              "size": 10,
              "solidity": 0.2
             }
            },
            "type": "barpolar"
           }
          ],
          "carpet": [
           {
            "aaxis": {
             "endlinecolor": "#2a3f5f",
             "gridcolor": "white",
             "linecolor": "white",
             "minorgridcolor": "white",
             "startlinecolor": "#2a3f5f"
            },
            "baxis": {
             "endlinecolor": "#2a3f5f",
             "gridcolor": "white",
             "linecolor": "white",
             "minorgridcolor": "white",
             "startlinecolor": "#2a3f5f"
            },
            "type": "carpet"
           }
          ],
          "choropleth": [
           {
            "colorbar": {
             "outlinewidth": 0,
             "ticks": ""
            },
            "type": "choropleth"
           }
          ],
          "contour": [
           {
            "colorbar": {
             "outlinewidth": 0,
             "ticks": ""
            },
            "colorscale": [
             [
              0,
              "#0d0887"
             ],
             [
              0.1111111111111111,
              "#46039f"
             ],
             [
              0.2222222222222222,
              "#7201a8"
             ],
             [
              0.3333333333333333,
              "#9c179e"
             ],
             [
              0.4444444444444444,
              "#bd3786"
             ],
             [
              0.5555555555555556,
              "#d8576b"
             ],
             [
              0.6666666666666666,
              "#ed7953"
             ],
             [
              0.7777777777777778,
              "#fb9f3a"
             ],
             [
              0.8888888888888888,
              "#fdca26"
             ],
             [
              1,
              "#f0f921"
             ]
            ],
            "type": "contour"
           }
          ],
          "contourcarpet": [
           {
            "colorbar": {
             "outlinewidth": 0,
             "ticks": ""
            },
            "type": "contourcarpet"
           }
          ],
          "heatmap": [
           {
            "colorbar": {
             "outlinewidth": 0,
             "ticks": ""
            },
            "colorscale": [
             [
              0,
              "#0d0887"
             ],
             [
              0.1111111111111111,
              "#46039f"
             ],
             [
              0.2222222222222222,
              "#7201a8"
             ],
             [
              0.3333333333333333,
              "#9c179e"
             ],
             [
              0.4444444444444444,
              "#bd3786"
             ],
             [
              0.5555555555555556,
              "#d8576b"
             ],
             [
              0.6666666666666666,
              "#ed7953"
             ],
             [
              0.7777777777777778,
              "#fb9f3a"
             ],
             [
              0.8888888888888888,
              "#fdca26"
             ],
             [
              1,
              "#f0f921"
             ]
            ],
            "type": "heatmap"
           }
          ],
          "heatmapgl": [
           {
            "colorbar": {
             "outlinewidth": 0,
             "ticks": ""
            },
            "colorscale": [
             [
              0,
              "#0d0887"
             ],
             [
              0.1111111111111111,
              "#46039f"
             ],
             [
              0.2222222222222222,
              "#7201a8"
             ],
             [
              0.3333333333333333,
              "#9c179e"
             ],
             [
              0.4444444444444444,
              "#bd3786"
             ],
             [
              0.5555555555555556,
              "#d8576b"
             ],
             [
              0.6666666666666666,
              "#ed7953"
             ],
             [
              0.7777777777777778,
              "#fb9f3a"
             ],
             [
              0.8888888888888888,
              "#fdca26"
             ],
             [
              1,
              "#f0f921"
             ]
            ],
            "type": "heatmapgl"
           }
          ],
          "histogram": [
           {
            "marker": {
             "pattern": {
              "fillmode": "overlay",
              "size": 10,
              "solidity": 0.2
             }
            },
            "type": "histogram"
           }
          ],
          "histogram2d": [
           {
            "colorbar": {
             "outlinewidth": 0,
             "ticks": ""
            },
            "colorscale": [
             [
              0,
              "#0d0887"
             ],
             [
              0.1111111111111111,
              "#46039f"
             ],
             [
              0.2222222222222222,
              "#7201a8"
             ],
             [
              0.3333333333333333,
              "#9c179e"
             ],
             [
              0.4444444444444444,
              "#bd3786"
             ],
             [
              0.5555555555555556,
              "#d8576b"
             ],
             [
              0.6666666666666666,
              "#ed7953"
             ],
             [
              0.7777777777777778,
              "#fb9f3a"
             ],
             [
              0.8888888888888888,
              "#fdca26"
             ],
             [
              1,
              "#f0f921"
             ]
            ],
            "type": "histogram2d"
           }
          ],
          "histogram2dcontour": [
           {
            "colorbar": {
             "outlinewidth": 0,
             "ticks": ""
            },
            "colorscale": [
             [
              0,
              "#0d0887"
             ],
             [
              0.1111111111111111,
              "#46039f"
             ],
             [
              0.2222222222222222,
              "#7201a8"
             ],
             [
              0.3333333333333333,
              "#9c179e"
             ],
             [
              0.4444444444444444,
              "#bd3786"
             ],
             [
              0.5555555555555556,
              "#d8576b"
             ],
             [
              0.6666666666666666,
              "#ed7953"
             ],
             [
              0.7777777777777778,
              "#fb9f3a"
             ],
             [
              0.8888888888888888,
              "#fdca26"
             ],
             [
              1,
              "#f0f921"
             ]
            ],
            "type": "histogram2dcontour"
           }
          ],
          "mesh3d": [
           {
            "colorbar": {
             "outlinewidth": 0,
             "ticks": ""
            },
            "type": "mesh3d"
           }
          ],
          "parcoords": [
           {
            "line": {
             "colorbar": {
              "outlinewidth": 0,
              "ticks": ""
             }
            },
            "type": "parcoords"
           }
          ],
          "pie": [
           {
            "automargin": true,
            "type": "pie"
           }
          ],
          "scatter": [
           {
            "fillpattern": {
             "fillmode": "overlay",
             "size": 10,
             "solidity": 0.2
            },
            "type": "scatter"
           }
          ],
          "scatter3d": [
           {
            "line": {
             "colorbar": {
              "outlinewidth": 0,
              "ticks": ""
             }
            },
            "marker": {
             "colorbar": {
              "outlinewidth": 0,
              "ticks": ""
             }
            },
            "type": "scatter3d"
           }
          ],
          "scattercarpet": [
           {
            "marker": {
             "colorbar": {
              "outlinewidth": 0,
              "ticks": ""
             }
            },
            "type": "scattercarpet"
           }
          ],
          "scattergeo": [
           {
            "marker": {
             "colorbar": {
              "outlinewidth": 0,
              "ticks": ""
             }
            },
            "type": "scattergeo"
           }
          ],
          "scattergl": [
           {
            "marker": {
             "colorbar": {
              "outlinewidth": 0,
              "ticks": ""
             }
            },
            "type": "scattergl"
           }
          ],
          "scattermapbox": [
           {
            "marker": {
             "colorbar": {
              "outlinewidth": 0,
              "ticks": ""
             }
            },
            "type": "scattermapbox"
           }
          ],
          "scatterpolar": [
           {
            "marker": {
             "colorbar": {
              "outlinewidth": 0,
              "ticks": ""
             }
            },
            "type": "scatterpolar"
           }
          ],
          "scatterpolargl": [
           {
            "marker": {
             "colorbar": {
              "outlinewidth": 0,
              "ticks": ""
             }
            },
            "type": "scatterpolargl"
           }
          ],
          "scatterternary": [
           {
            "marker": {
             "colorbar": {
              "outlinewidth": 0,
              "ticks": ""
             }
            },
            "type": "scatterternary"
           }
          ],
          "surface": [
           {
            "colorbar": {
             "outlinewidth": 0,
             "ticks": ""
            },
            "colorscale": [
             [
              0,
              "#0d0887"
             ],
             [
              0.1111111111111111,
              "#46039f"
             ],
             [
              0.2222222222222222,
              "#7201a8"
             ],
             [
              0.3333333333333333,
              "#9c179e"
             ],
             [
              0.4444444444444444,
              "#bd3786"
             ],
             [
              0.5555555555555556,
              "#d8576b"
             ],
             [
              0.6666666666666666,
              "#ed7953"
             ],
             [
              0.7777777777777778,
              "#fb9f3a"
             ],
             [
              0.8888888888888888,
              "#fdca26"
             ],
             [
              1,
              "#f0f921"
             ]
            ],
            "type": "surface"
           }
          ],
          "table": [
           {
            "cells": {
             "fill": {
              "color": "#EBF0F8"
             },
             "line": {
              "color": "white"
             }
            },
            "header": {
             "fill": {
              "color": "#C8D4E3"
             },
             "line": {
              "color": "white"
             }
            },
            "type": "table"
           }
          ]
         },
         "layout": {
          "annotationdefaults": {
           "arrowcolor": "#2a3f5f",
           "arrowhead": 0,
           "arrowwidth": 1
          },
          "autotypenumbers": "strict",
          "coloraxis": {
           "colorbar": {
            "outlinewidth": 0,
            "ticks": ""
           }
          },
          "colorscale": {
           "diverging": [
            [
             0,
             "#8e0152"
            ],
            [
             0.1,
             "#c51b7d"
            ],
            [
             0.2,
             "#de77ae"
            ],
            [
             0.3,
             "#f1b6da"
            ],
            [
             0.4,
             "#fde0ef"
            ],
            [
             0.5,
             "#f7f7f7"
            ],
            [
             0.6,
             "#e6f5d0"
            ],
            [
             0.7,
             "#b8e186"
            ],
            [
             0.8,
             "#7fbc41"
            ],
            [
             0.9,
             "#4d9221"
            ],
            [
             1,
             "#276419"
            ]
           ],
           "sequential": [
            [
             0,
             "#0d0887"
            ],
            [
             0.1111111111111111,
             "#46039f"
            ],
            [
             0.2222222222222222,
             "#7201a8"
            ],
            [
             0.3333333333333333,
             "#9c179e"
            ],
            [
             0.4444444444444444,
             "#bd3786"
            ],
            [
             0.5555555555555556,
             "#d8576b"
            ],
            [
             0.6666666666666666,
             "#ed7953"
            ],
            [
             0.7777777777777778,
             "#fb9f3a"
            ],
            [
             0.8888888888888888,
             "#fdca26"
            ],
            [
             1,
             "#f0f921"
            ]
           ],
           "sequentialminus": [
            [
             0,
             "#0d0887"
            ],
            [
             0.1111111111111111,
             "#46039f"
            ],
            [
             0.2222222222222222,
             "#7201a8"
            ],
            [
             0.3333333333333333,
             "#9c179e"
            ],
            [
             0.4444444444444444,
             "#bd3786"
            ],
            [
             0.5555555555555556,
             "#d8576b"
            ],
            [
             0.6666666666666666,
             "#ed7953"
            ],
            [
             0.7777777777777778,
             "#fb9f3a"
            ],
            [
             0.8888888888888888,
             "#fdca26"
            ],
            [
             1,
             "#f0f921"
            ]
           ]
          },
          "colorway": [
           "#636efa",
           "#EF553B",
           "#00cc96",
           "#ab63fa",
           "#FFA15A",
           "#19d3f3",
           "#FF6692",
           "#B6E880",
           "#FF97FF",
           "#FECB52"
          ],
          "font": {
           "color": "#2a3f5f"
          },
          "geo": {
           "bgcolor": "white",
           "lakecolor": "white",
           "landcolor": "#E5ECF6",
           "showlakes": true,
           "showland": true,
           "subunitcolor": "white"
          },
          "hoverlabel": {
           "align": "left"
          },
          "hovermode": "closest",
          "mapbox": {
           "style": "light"
          },
          "paper_bgcolor": "white",
          "plot_bgcolor": "#E5ECF6",
          "polar": {
           "angularaxis": {
            "gridcolor": "white",
            "linecolor": "white",
            "ticks": ""
           },
           "bgcolor": "#E5ECF6",
           "radialaxis": {
            "gridcolor": "white",
            "linecolor": "white",
            "ticks": ""
           }
          },
          "scene": {
           "xaxis": {
            "backgroundcolor": "#E5ECF6",
            "gridcolor": "white",
            "gridwidth": 2,
            "linecolor": "white",
            "showbackground": true,
            "ticks": "",
            "zerolinecolor": "white"
           },
           "yaxis": {
            "backgroundcolor": "#E5ECF6",
            "gridcolor": "white",
            "gridwidth": 2,
            "linecolor": "white",
            "showbackground": true,
            "ticks": "",
            "zerolinecolor": "white"
           },
           "zaxis": {
            "backgroundcolor": "#E5ECF6",
            "gridcolor": "white",
            "gridwidth": 2,
            "linecolor": "white",
            "showbackground": true,
            "ticks": "",
            "zerolinecolor": "white"
           }
          },
          "shapedefaults": {
           "line": {
            "color": "#2a3f5f"
           }
          },
          "ternary": {
           "aaxis": {
            "gridcolor": "white",
            "linecolor": "white",
            "ticks": ""
           },
           "baxis": {
            "gridcolor": "white",
            "linecolor": "white",
            "ticks": ""
           },
           "bgcolor": "#E5ECF6",
           "caxis": {
            "gridcolor": "white",
            "linecolor": "white",
            "ticks": ""
           }
          },
          "title": {
           "x": 0.05
          },
          "xaxis": {
           "automargin": true,
           "gridcolor": "white",
           "linecolor": "white",
           "ticks": "",
           "title": {
            "standoff": 15
           },
           "zerolinecolor": "white",
           "zerolinewidth": 2
          },
          "yaxis": {
           "automargin": true,
           "gridcolor": "white",
           "linecolor": "white",
           "ticks": "",
           "title": {
            "standoff": 15
           },
           "zerolinecolor": "white",
           "zerolinewidth": 2
          }
         }
        },
        "title": {
         "text": "Cost of cloud compute to train large ML systems"
        },
        "width": 800,
        "xaxis": {
         "anchor": "y",
         "domain": [
          0,
          1
         ],
         "range": [
          "2015-01-01",
          "2025-01-01"
         ],
         "title": {
          "text": "Publication date"
         }
        },
        "yaxis": {
         "anchor": "x",
         "domain": [
          0,
          1
         ],
         "title": {
          "text": "Cost (2023 USD)"
         },
         "type": "log"
        }
       }
      }
     },
     "metadata": {},
     "output_type": "display_data"
    }
   ],
   "source": [
    "fig = px.scatter(\n",
    "    cost_df,\n",
    "    x='Publication date',\n",
    "    y='Cost (inflation-adjusted)',\n",
    "    text='System',\n",
    "    log_y=True,\n",
    ")\n",
    "fig.update_traces(textposition='top center')\n",
    "\n",
    "# no legend\n",
    "fig.update_layout(showlegend=False)\n",
    "\n",
    "# axis labels\n",
    "fig.update_xaxes(title_text='Publication date')\n",
    "fig.update_yaxes(title_text='Cost (2023 USD)')\n",
    "\n",
    "# title\n",
    "fig.update_layout(title_text='Cost of cloud compute to train large ML systems')\n",
    "\n",
    "# update size\n",
    "fig.update_layout(\n",
    "    autosize=False,\n",
    "    width=800,\n",
    "    height=600,\n",
    ")\n",
    "\n",
    "# font size\n",
    "fig.update_layout(\n",
    "    font=dict(\n",
    "        size=14,\n",
    "    )\n",
    ")\n",
    "\n",
    "# axis limits\n",
    "fig.update_xaxes(range=['2015-01-01', '2025-01-01'])\n",
    "\n",
    "# margins\n",
    "fig.update_layout(margin=dict(l=10, r=10, t=40, b=10))\n",
    "\n",
    "save_plot(fig, results_dir, 'cost_scatter')\n",
    "\n",
    "fig.show()"
   ]
  },
  {
   "cell_type": "code",
   "execution_count": 23,
   "metadata": {},
   "outputs": [
    {
     "data": {
      "application/vnd.plotly.v1+json": {
       "config": {
        "plotlyServerURL": "https://plot.ly"
       },
       "data": [
        {
         "hovertemplate": "Publication date=%{x}<br>Cost (inflation-adjusted)=%{y}<br>System=%{text}<extra></extra>",
         "legendgroup": "",
         "marker": {
          "color": "#636efa",
          "symbol": "circle"
         },
         "mode": "markers+text",
         "name": "",
         "orientation": "v",
         "showlegend": false,
         "text": [
          "Gemini Ultra",
          "Falcon 180B",
          "Llama 2-70B",
          "GPT-4",
          "PaLM (540B)",
          "GPT-3 175B (davinci)",
          "Megatron-BERT",
          "GNMT"
         ],
         "textposition": "top center",
         "type": "scatter",
         "x": [
          "2023-12-06 00:00:00",
          "2023-09-06 00:00:00",
          "2023-07-18 00:00:00",
          "2023-03-15 00:00:00",
          "2022-04-04 00:00:00",
          "2020-05-28 00:00:00",
          "2019-09-17 00:00:00",
          "2016-09-26 00:00:00"
         ],
         "xaxis": "x",
         "y": [
          191400000,
          25816323.797898512,
          3931897.156858603,
          78352033.69393542,
          12389056.261813464,
          4324882.624338623,
          881778.3356559139,
          194739.1953027523
         ],
         "yaxis": "y"
        },
        {
         "marker": {
          "color": "rgb(0,100,200)"
         },
         "mode": "markers",
         "showlegend": false,
         "textposition": "top center",
         "type": "scatter",
         "x": [
          "2023-12-06 00:00:00",
          "2023-11-30 00:00:00",
          "2023-11-22 00:00:00",
          "2023-11-15 00:00:00",
          "2023-11-06 00:00:00",
          "2023-11-02 00:00:00",
          "2023-10-30 00:00:00",
          "2023-10-27 00:00:00",
          "2023-09-07 00:00:00",
          "2023-09-06 00:00:00",
          "2023-08-29 00:00:00",
          "2023-07-18 00:00:00",
          "2023-07-18 00:00:00",
          "2023-07-11 00:00:00",
          "2023-07-05 00:00:00",
          "2023-05-10 00:00:00",
          "2023-05-09 00:00:00",
          "2023-04-24 00:00:00",
          "2023-03-30 00:00:00",
          "2023-03-20 00:00:00",
          "2023-03-15 00:00:00",
          "2023-03-15 00:00:00",
          "2023-02-24 00:00:00",
          "2023-02-24 00:00:00",
          "2022-11-28 00:00:00",
          "2022-11-16 00:00:00",
          "2022-11-08 00:00:00",
          "2022-10-31 00:00:00",
          "2022-10-20 00:00:00",
          "2022-09-21 00:00:00",
          "2022-09-14 00:00:00",
          "2022-08-10 00:00:00",
          "2022-08-04 00:00:00",
          "2022-08-02 00:00:00",
          "2022-07-21 00:00:00",
          "2022-07-06 00:00:00",
          "2022-06-29 00:00:00",
          "2022-06-22 00:00:00",
          "2022-06-14 00:00:00",
          "2022-05-23 00:00:00",
          "2022-05-10 00:00:00",
          "2022-05-02 00:00:00",
          "2022-04-29 00:00:00",
          "2022-04-13 00:00:00",
          "2022-04-04 00:00:00",
          "2022-03-29 00:00:00",
          "2022-02-10 00:00:00",
          "2022-02-09 00:00:00",
          "2022-02-02 00:00:00",
          "2021-12-23 00:00:00",
          "2021-12-20 00:00:00",
          "2021-12-13 00:00:00",
          "2021-12-08 00:00:00",
          "2021-11-22 00:00:00",
          "2021-11-19 00:00:00",
          "2021-10-15 00:00:00",
          "2021-10-12 00:00:00",
          "2021-10-11 00:00:00",
          "2021-09-10 00:00:00",
          "2021-09-03 00:00:00",
          "2021-07-27 00:00:00",
          "2021-07-05 00:00:00",
          "2021-06-11 00:00:00",
          "2021-06-10 00:00:00",
          "2021-06-09 00:00:00",
          "2021-05-28 00:00:00",
          "2021-05-26 00:00:00",
          "2021-05-04 00:00:00",
          "2021-05-04 00:00:00",
          "2021-05-04 00:00:00",
          "2021-04-19 00:00:00",
          "2021-03-05 00:00:00",
          "2021-03-01 00:00:00",
          "2021-02-13 00:00:00",
          "2021-01-11 00:00:00",
          "2021-01-05 00:00:00",
          "2021-01-05 00:00:00",
          "2020-10-22 00:00:00",
          "2020-10-20 00:00:00",
          "2020-10-20 00:00:00",
          "2020-06-30 00:00:00",
          "2020-06-17 00:00:00",
          "2020-06-17 00:00:00",
          "2020-05-28 00:00:00",
          "2020-04-29 00:00:00",
          "2020-03-23 00:00:00",
          "2020-02-13 00:00:00",
          "2020-02-09 00:00:00",
          "2020-01-28 00:00:00",
          "2020-01-19 00:00:00",
          "2019-12-19 00:00:00",
          "2019-12-13 00:00:00",
          "2019-12-13 00:00:00",
          "2019-11-11 00:00:00",
          "2019-10-30 00:00:00",
          "2019-10-23 00:00:00",
          "2019-10-23 00:00:00",
          "2019-09-17 00:00:00",
          "2019-09-17 00:00:00",
          "2019-07-01 00:00:00",
          "2019-05-29 00:00:00",
          "2019-05-29 00:00:00",
          "2019-04-20 00:00:00",
          "2019-03-26 00:00:00",
          "2019-02-23 00:00:00",
          "2019-02-14 00:00:00",
          "2018-10-11 00:00:00",
          "2018-09-28 00:00:00",
          "2018-09-28 00:00:00",
          "2018-09-17 00:00:00",
          "2018-08-28 00:00:00",
          "2018-07-03 00:00:00",
          "2018-07-03 00:00:00",
          "2018-06-01 00:00:00",
          "2018-05-02 00:00:00",
          "2018-04-08 00:00:00",
          "2018-03-27 00:00:00",
          "2018-02-05 00:00:00",
          "2018-02-05 00:00:00",
          "2017-12-05 00:00:00",
          "2017-12-02 00:00:00",
          "2017-10-18 00:00:00",
          "2017-08-11 00:00:00",
          "2017-07-10 00:00:00",
          "2017-06-12 00:00:00",
          "2017-01-23 00:00:00",
          "2017-01-06 00:00:00",
          "2017-01-01 00:00:00",
          "2017-01-01 00:00:00",
          "2016-11-17 00:00:00",
          "2016-11-05 00:00:00",
          "2016-11-05 00:00:00",
          "2016-10-07 00:00:00",
          "2016-09-26 00:00:00",
          "2016-01-27 00:00:00",
          "2015-12-10 00:00:00",
          "2015-12-08 00:00:00",
          "2015-10-01 00:00:00"
         ],
         "y": [
          191400000,
          null,
          null,
          null,
          null,
          null,
          null,
          null,
          null,
          25816323.797898512,
          null,
          3931897.156858603,
          null,
          null,
          null,
          null,
          585626.3876555364,
          null,
          952967.7278671262,
          null,
          78352033.69393542,
          810397.7528318869,
          1503762.8500199951,
          null,
          null,
          null,
          1990911.832381475,
          null,
          12523793.100601656,
          null,
          254719.2576909219,
          null,
          1635572.685301023,
          null,
          null,
          null,
          13470191.00856837,
          null,
          null,
          36199.03270294258,
          561085.00689561,
          1493974.647531918,
          815069.4909087805,
          null,
          12389056.261813464,
          null,
          1319585.503057254,
          310840.989438577,
          null,
          null,
          193060.0432091273,
          2093016.0239973643,
          3499807.67985019,
          172410.94434669559,
          null,
          64175.36890822579,
          null,
          6405652.563246981,
          986971.6222926452,
          null,
          null,
          null,
          165500.13931537792,
          null,
          null,
          null,
          null,
          null,
          null,
          null,
          null,
          null,
          251391.36000000002,
          null,
          619741.3696948562,
          null,
          null,
          null,
          null,
          null,
          969111.5896932516,
          null,
          null,
          4324882.624338623,
          null,
          null,
          null,
          null,
          697110.2785525154,
          null,
          null,
          null,
          null,
          null,
          388902.65897940914,
          null,
          236631.5547502238,
          881778.3356559139,
          216070.42339784946,
          160017.6468716094,
          null,
          null,
          null,
          638.7439274047186,
          null,
          null,
          3287.6352902712474,
          11648.178852488687,
          5358.051967420814,
          null,
          4434.402272463768,
          null,
          null,
          null,
          null,
          null,
          null,
          null,
          138.13091568449684,
          null,
          null,
          null,
          null,
          33440.7332123412,
          929.9259291553134,
          null,
          null,
          null,
          null,
          null,
          null,
          null,
          20285.332844036697,
          194739.1953027523,
          null,
          null,
          null,
          null
         ]
        },
        {
         "line": {
          "width": 0
         },
         "mode": "lines",
         "showlegend": false,
         "textposition": "top center",
         "type": "scatter",
         "x": [
          "2015-01-01T00:00:00",
          "2015-02-06T00:00:00",
          "2015-03-15T00:00:00",
          "2015-04-21T00:00:00",
          "2015-05-28T00:00:00",
          "2015-07-04T00:00:00",
          "2015-08-10T00:00:00",
          "2015-09-16T00:00:00",
          "2015-10-22T00:00:00",
          "2015-11-28T00:00:00",
          "2016-01-04T00:00:00",
          "2016-02-10T00:00:00",
          "2016-03-18T00:00:00",
          "2016-04-24T00:00:00",
          "2016-05-31T00:00:00",
          "2016-07-07T00:00:00",
          "2016-08-13T00:00:00",
          "2016-09-19T00:00:00",
          "2016-10-26T00:00:00",
          "2016-12-02T00:00:00",
          "2017-01-08T00:00:00",
          "2017-02-14T00:00:00",
          "2017-03-23T00:00:00",
          "2017-04-28T00:00:00",
          "2017-06-04T00:00:00",
          "2017-07-11T00:00:00",
          "2017-08-17T00:00:00",
          "2017-09-23T00:00:00",
          "2017-10-30T00:00:00",
          "2017-12-06T00:00:00",
          "2018-01-12T00:00:00",
          "2018-02-17T00:00:00",
          "2018-03-26T00:00:00",
          "2018-05-02T00:00:00",
          "2018-06-08T00:00:00",
          "2018-07-15T00:00:00",
          "2018-08-21T00:00:00",
          "2018-09-27T00:00:00",
          "2018-11-03T00:00:00",
          "2018-12-09T00:00:00",
          "2019-01-15T00:00:00",
          "2019-02-21T00:00:00",
          "2019-03-30T00:00:00",
          "2019-05-06T00:00:00",
          "2019-06-12T00:00:00",
          "2019-07-19T00:00:00",
          "2019-08-24T00:00:00",
          "2019-09-30T00:00:00",
          "2019-11-06T00:00:00",
          "2019-12-13T00:00:00",
          "2020-01-19T00:00:00",
          "2020-02-25T00:00:00",
          "2020-04-02T00:00:00",
          "2020-05-09T00:00:00",
          "2020-06-15T00:00:00",
          "2020-07-22T00:00:00",
          "2020-08-28T00:00:00",
          "2020-10-04T00:00:00",
          "2020-11-10T00:00:00",
          "2020-12-17T00:00:00",
          "2021-01-23T00:00:00",
          "2021-02-28T00:00:00",
          "2021-04-06T00:00:00",
          "2021-05-13T00:00:00",
          "2021-06-19T00:00:00",
          "2021-07-26T00:00:00",
          "2021-09-01T00:00:00",
          "2021-10-08T00:00:00",
          "2021-11-14T00:00:00",
          "2021-12-20T00:00:00",
          "2022-01-26T00:00:00",
          "2022-03-04T00:00:00",
          "2022-04-10T00:00:00",
          "2022-05-17T00:00:00",
          "2022-06-23T00:00:00",
          "2022-07-30T00:00:00",
          "2022-09-05T00:00:00",
          "2022-10-11T00:00:00",
          "2022-11-17T00:00:00",
          "2022-12-24T00:00:00",
          "2023-01-30T00:00:00",
          "2023-03-08T00:00:00",
          "2023-04-14T00:00:00",
          "2023-05-21T00:00:00",
          "2023-06-26T00:00:00",
          "2023-08-02T00:00:00",
          "2023-09-08T00:00:00",
          "2023-10-15T00:00:00",
          "2023-11-21T00:00:00",
          "2023-12-28T00:00:00",
          "2024-02-03T00:00:00",
          "2024-03-11T00:00:00",
          "2024-04-17T00:00:00",
          "2024-05-24T00:00:00",
          "2024-06-30T00:00:00",
          "2024-08-06T00:00:00",
          "2024-09-12T00:00:00",
          "2024-10-19T00:00:00",
          "2024-11-25T00:00:00",
          "2025-01-01T00:00:00"
         ],
         "y": [
          67.21289912564676,
          77.27822947679324,
          88.84677106579215,
          102.14218460485698,
          117.42123448054363,
          134.97865114178964,
          155.15269954093736,
          178.33155431548755,
          204.96059632984645,
          235.55076095357597,
          270.6880862461528,
          311.04462928193703,
          357.390941426739,
          410.61031873949906,
          471.71507208744697,
          541.8650933240039,
          622.3890292658185,
          714.8084145107588,
          820.8651576082808,
          942.5528229698936,
          1082.1522033367823,
          1242.2717347037783,
          1425.8933672544397,
          1636.424571870376,
          1877.7572316833882,
          2154.3342410912505,
          2471.224709499328,
          2834.208741948548,
          3249.872841354343,
          3725.7170439112297,
          4270.274955985131,
          4893.247901759683,
          5605.654408885729,
          6419.996245234173,
          7350.442162691143,
          8413.030390385882,
          9625.890734565563,
          11009.486867934073,
          12586.879009096652,
          14384.006683491976,
          16429.99060397953,
          18757.45189914846,
          21402.84594772363,
          24406.80696064801,
          27814.49822460576,
          31675.96165224679,
          36046.45908900594,
          40986.79687349497,
          46563.62466578907,
          52849.699832343,
          59924.1100320807,
          67872.44941028222,
          76786.94822917269,
          86766.5619404072,
          97917.03345062706,
          110350.95109192596,
          124187.83359827753,
          139554.2808520895,
          156584.23375770502,
          175419.3869300216,
          196209.79311832154,
          219114.68851609665,
          244303.5545267363,
          271957.41631708306,
          302270.36423203006,
          335451.27334182634,
          371725.6907348439,
          411337.86016720196,
          454552.85870045045,
          501658.82850476383,
          552969.2972561228,
          608825.5908000304,
          669599.3507597927,
          735695.1768514877,
          807553.4186977205,
          885653.1451184971,
          970515.3206696095,
          1062706.2200647318,
          1162841.1115245996,
          1271588.2403776716,
          1389673.1446653868,
          1517883.3352268152,
          1657073.3738587182,
          1808170.384682382,
          1972180.0358245878,
          2150193.0309349676,
          2343392.1528665926,
          2553059.905079019,
          2780586.7999214907,
          3027480.3469785787,
          3295374.7990396298,
          3586041.7180843004,
          3901401.4288930297,
          4243535.43360425,
          4614699.866685968,
          5017340.076497911,
          5454106.426832074,
          5927871.419696919,
          6441748.2490599165,
          6999110.904479815
         ]
        },
        {
         "fill": "tonexty",
         "fillcolor": "rgba(0,100,200,0.2)",
         "line": {
          "width": 0
         },
         "mode": "lines",
         "name": "95% CI of mean",
         "textposition": "top center",
         "type": "scatter",
         "x": [
          "2015-01-01T00:00:00",
          "2015-02-06T00:00:00",
          "2015-03-15T00:00:00",
          "2015-04-21T00:00:00",
          "2015-05-28T00:00:00",
          "2015-07-04T00:00:00",
          "2015-08-10T00:00:00",
          "2015-09-16T00:00:00",
          "2015-10-22T00:00:00",
          "2015-11-28T00:00:00",
          "2016-01-04T00:00:00",
          "2016-02-10T00:00:00",
          "2016-03-18T00:00:00",
          "2016-04-24T00:00:00",
          "2016-05-31T00:00:00",
          "2016-07-07T00:00:00",
          "2016-08-13T00:00:00",
          "2016-09-19T00:00:00",
          "2016-10-26T00:00:00",
          "2016-12-02T00:00:00",
          "2017-01-08T00:00:00",
          "2017-02-14T00:00:00",
          "2017-03-23T00:00:00",
          "2017-04-28T00:00:00",
          "2017-06-04T00:00:00",
          "2017-07-11T00:00:00",
          "2017-08-17T00:00:00",
          "2017-09-23T00:00:00",
          "2017-10-30T00:00:00",
          "2017-12-06T00:00:00",
          "2018-01-12T00:00:00",
          "2018-02-17T00:00:00",
          "2018-03-26T00:00:00",
          "2018-05-02T00:00:00",
          "2018-06-08T00:00:00",
          "2018-07-15T00:00:00",
          "2018-08-21T00:00:00",
          "2018-09-27T00:00:00",
          "2018-11-03T00:00:00",
          "2018-12-09T00:00:00",
          "2019-01-15T00:00:00",
          "2019-02-21T00:00:00",
          "2019-03-30T00:00:00",
          "2019-05-06T00:00:00",
          "2019-06-12T00:00:00",
          "2019-07-19T00:00:00",
          "2019-08-24T00:00:00",
          "2019-09-30T00:00:00",
          "2019-11-06T00:00:00",
          "2019-12-13T00:00:00",
          "2020-01-19T00:00:00",
          "2020-02-25T00:00:00",
          "2020-04-02T00:00:00",
          "2020-05-09T00:00:00",
          "2020-06-15T00:00:00",
          "2020-07-22T00:00:00",
          "2020-08-28T00:00:00",
          "2020-10-04T00:00:00",
          "2020-11-10T00:00:00",
          "2020-12-17T00:00:00",
          "2021-01-23T00:00:00",
          "2021-02-28T00:00:00",
          "2021-04-06T00:00:00",
          "2021-05-13T00:00:00",
          "2021-06-19T00:00:00",
          "2021-07-26T00:00:00",
          "2021-09-01T00:00:00",
          "2021-10-08T00:00:00",
          "2021-11-14T00:00:00",
          "2021-12-20T00:00:00",
          "2022-01-26T00:00:00",
          "2022-03-04T00:00:00",
          "2022-04-10T00:00:00",
          "2022-05-17T00:00:00",
          "2022-06-23T00:00:00",
          "2022-07-30T00:00:00",
          "2022-09-05T00:00:00",
          "2022-10-11T00:00:00",
          "2022-11-17T00:00:00",
          "2022-12-24T00:00:00",
          "2023-01-30T00:00:00",
          "2023-03-08T00:00:00",
          "2023-04-14T00:00:00",
          "2023-05-21T00:00:00",
          "2023-06-26T00:00:00",
          "2023-08-02T00:00:00",
          "2023-09-08T00:00:00",
          "2023-10-15T00:00:00",
          "2023-11-21T00:00:00",
          "2023-12-28T00:00:00",
          "2024-02-03T00:00:00",
          "2024-03-11T00:00:00",
          "2024-04-17T00:00:00",
          "2024-05-24T00:00:00",
          "2024-06-30T00:00:00",
          "2024-08-06T00:00:00",
          "2024-09-12T00:00:00",
          "2024-10-19T00:00:00",
          "2024-11-25T00:00:00",
          "2025-01-01T00:00:00"
         ],
         "y": [
          3303.168576573041,
          3582.357003915204,
          3885.3221907765874,
          4214.113278855717,
          4570.9594261302045,
          4958.2861247396795,
          5378.733075416336,
          5835.173779292523,
          6330.737026475297,
          6868.830481945628,
          7453.166593240627,
          8087.791071710689,
          8777.114230228759,
          9525.94549589273,
          10339.531457011768,
          11223.597850654844,
          12184.395951030581,
          13228.753881496194,
          14364.133445243051,
          15598.693153745018,
          16941.35822974877,
          18401.898475770337,
          19991.015032473715,
          21720.437207895156,
          23603.03074261717,
          25652.919092886,
          27885.619569937327,
          30318.19647692749,
          32969.43374461871,
          35860.0299938003,
          39012.81946062345,
          42453.02282573539,
          46208.532709331914,
          50310.2394537706,
          54792.40384070337,
          59693.08461114333,
          65054.63011171983,
          70924.24511807867,
          77354.64593453254,
          84404.81928678408,
          92140.90336592545,
          100637.21269989198,
          109977.43237362547,
          120256.01153494285,
          131579.7911325587,
          144069.90644155993,
          157864.01110490115,
          173118.8760869171,
          190013.42397303783,
          208752.26630298194,
          229569.81890680885,
          252735.0773723692,
          278557.1417378863,
          307391.58640734607,
          339647.7785593746,
          375797.2568144777,
          416383.29295103555,
          462031.7747658912,
          513463.5697349801,
          571508.5588547012,
          637121.5693401218,
          711400.4843117972,
          795606.86678304,
          891189.5029175375,
          999811.3440245619,
          1123380.4068054128,
          1264085.2766330082,
          1424435.9501463808,
          1607310.8536331737,
          1816010.9860680003,
          2054322.2645056716,
          2326587.2991699344,
          2637788.0004528956,
          2993640.624369207,
          3400705.101143877,
          3866510.768014306,
          4399700.947127585,
          5010199.178357698,
          5709400.341867947,
          6510390.394159528,
          7428199.003701275,
          8480090.018736407,
          9685895.443375649,
          11068399.452979479,
          12653779.963073568,
          14472116.397112066,
          16557973.599367378,
          18951073.336080767,
          21697066.54998432,
          24848421.514812097,
          28465445.316077553,
          32617458.707709,
          37384147.41240199,
          42857116.4070954,
          49141677.7314057,
          56358906.95616169,
          64648008.741199985,
          74169038.00211489,
          85106030.21345448,
          97670602.44117582
         ]
        },
        {
         "line": {
          "color": "rgb(0,100,200)"
         },
         "mode": "lines",
         "name": "Regression mean (growth rate: 3.0x per year)",
         "textposition": "top center",
         "type": "scatter",
         "x": [
          "2015-01-01T00:00:00",
          "2015-02-06T00:00:00",
          "2015-03-15T00:00:00",
          "2015-04-21T00:00:00",
          "2015-05-28T00:00:00",
          "2015-07-04T00:00:00",
          "2015-08-10T00:00:00",
          "2015-09-16T00:00:00",
          "2015-10-22T00:00:00",
          "2015-11-28T00:00:00",
          "2016-01-04T00:00:00",
          "2016-02-10T00:00:00",
          "2016-03-18T00:00:00",
          "2016-04-24T00:00:00",
          "2016-05-31T00:00:00",
          "2016-07-07T00:00:00",
          "2016-08-13T00:00:00",
          "2016-09-19T00:00:00",
          "2016-10-26T00:00:00",
          "2016-12-02T00:00:00",
          "2017-01-08T00:00:00",
          "2017-02-14T00:00:00",
          "2017-03-23T00:00:00",
          "2017-04-28T00:00:00",
          "2017-06-04T00:00:00",
          "2017-07-11T00:00:00",
          "2017-08-17T00:00:00",
          "2017-09-23T00:00:00",
          "2017-10-30T00:00:00",
          "2017-12-06T00:00:00",
          "2018-01-12T00:00:00",
          "2018-02-17T00:00:00",
          "2018-03-26T00:00:00",
          "2018-05-02T00:00:00",
          "2018-06-08T00:00:00",
          "2018-07-15T00:00:00",
          "2018-08-21T00:00:00",
          "2018-09-27T00:00:00",
          "2018-11-03T00:00:00",
          "2018-12-09T00:00:00",
          "2019-01-15T00:00:00",
          "2019-02-21T00:00:00",
          "2019-03-30T00:00:00",
          "2019-05-06T00:00:00",
          "2019-06-12T00:00:00",
          "2019-07-19T00:00:00",
          "2019-08-24T00:00:00",
          "2019-09-30T00:00:00",
          "2019-11-06T00:00:00",
          "2019-12-13T00:00:00",
          "2020-01-19T00:00:00",
          "2020-02-25T00:00:00",
          "2020-04-02T00:00:00",
          "2020-05-09T00:00:00",
          "2020-06-15T00:00:00",
          "2020-07-22T00:00:00",
          "2020-08-28T00:00:00",
          "2020-10-04T00:00:00",
          "2020-11-10T00:00:00",
          "2020-12-17T00:00:00",
          "2021-01-23T00:00:00",
          "2021-02-28T00:00:00",
          "2021-04-06T00:00:00",
          "2021-05-13T00:00:00",
          "2021-06-19T00:00:00",
          "2021-07-26T00:00:00",
          "2021-09-01T00:00:00",
          "2021-10-08T00:00:00",
          "2021-11-14T00:00:00",
          "2021-12-20T00:00:00",
          "2022-01-26T00:00:00",
          "2022-03-04T00:00:00",
          "2022-04-10T00:00:00",
          "2022-05-17T00:00:00",
          "2022-06-23T00:00:00",
          "2022-07-30T00:00:00",
          "2022-09-05T00:00:00",
          "2022-10-11T00:00:00",
          "2022-11-17T00:00:00",
          "2022-12-24T00:00:00",
          "2023-01-30T00:00:00",
          "2023-03-08T00:00:00",
          "2023-04-14T00:00:00",
          "2023-05-21T00:00:00",
          "2023-06-26T00:00:00",
          "2023-08-02T00:00:00",
          "2023-09-08T00:00:00",
          "2023-10-15T00:00:00",
          "2023-11-21T00:00:00",
          "2023-12-28T00:00:00",
          "2024-02-03T00:00:00",
          "2024-03-11T00:00:00",
          "2024-04-17T00:00:00",
          "2024-05-24T00:00:00",
          "2024-06-30T00:00:00",
          "2024-08-06T00:00:00",
          "2024-09-12T00:00:00",
          "2024-10-19T00:00:00",
          "2024-11-25T00:00:00",
          "2025-01-01T00:00:00"
         ],
         "y": [
          471.18524630150495,
          526.1541662064044,
          587.5358126963577,
          656.0783005668301,
          732.6170203978925,
          818.0848202310157,
          913.5233750490311,
          1020.0958826317325,
          1139.10124051983,
          1271.9898768792975,
          1420.3814282079527,
          1586.084479342135,
          1771.118606347831,
          1977.738990960033,
          2208.463906563729,
          2466.1054107187274,
          2753.8036182982064,
          3075.064972969732,
          3433.804983460156,
          3834.395945478703,
          4281.720230916583,
          4781.229793822718,
          5339.012618405023,
          5961.866918907803,
          6657.383995729462,
          7434.0407576060425,
          8301.303037531346,
          9269.740961592268,
          10351.157776860895,
          11558.733708459145,
          12907.18659914196,
          14412.951289218521,
          16094.379923134873,
          17971.96562399448,
          20068.592262186856,
          22409.813362217556,
          25024.16354711969,
          27943.506316237846,
          31203.422395139147,
          34843.643390725294,
          38908.5360370233,
          43447.64293356541,
          48516.28636673359,
          54176.242573574724,
          60496.49466581143,
          67554.07339077072,
          75434.99597613298,
          84235.31450135517,
          94062.28657300428,
          105035.68257232361,
          117289.24540731113,
          130972.32056110135,
          146251.6763031911,
          163313.53624844766,
          182365.84903602282,
          203640.82279153747,
          227397.75526180124,
          253926.19411606307,
          283549.4659304577,
          316628.6168676986,
          353566.81307985575,
          394814.25446680584,
          440873.6616775561,
          492306.4032311169,
          549739.3374333146,
          613872.4524770065,
          685487.3978448847,
          765457.0109930716,
          854755.9554277585,
          954472.5998281218,
          1065822.283000927,
          1190162.1263361485,
          1329007.574299421,
          1484050.8645511789,
          1657181.652810432,
          1850510.0438328905,
          2066392.309207502,
          2307459.605411097,
          2576650.042143219,
          2877244.491780462,
          3212906.5763999186,
          3587727.3197197197,
          4006275.008183696,
          4473650.868889097,
          4995551.242945155,
          5578337.012044901,
          6229111.124400473,
          6955805.164936686,
          7767276.02483036,
          8673413.848625772,
          9685262.57455329,
          10815154.537210114,
          12076860.773093842,
          13485758.860947032,
          15059020.342500461,
          16815820.00792013,
          18777569.596656404,
          20968178.762094516,
          23414346.480565302,
          26145886.456441797
         ]
        }
       ],
       "layout": {
        "autosize": false,
        "font": {
         "size": 14
        },
        "height": 600,
        "legend": {
         "orientation": "h",
         "tracegroupgap": 0,
         "x": 0.5,
         "xanchor": "center",
         "y": -0.15,
         "yanchor": "top"
        },
        "margin": {
         "b": 10,
         "l": 10,
         "r": 10,
         "t": 40
        },
        "template": {
         "data": {
          "bar": [
           {
            "error_x": {
             "color": "#2a3f5f"
            },
            "error_y": {
             "color": "#2a3f5f"
            },
            "marker": {
             "line": {
              "color": "#E5ECF6",
              "width": 0.5
             },
             "pattern": {
              "fillmode": "overlay",
              "size": 10,
              "solidity": 0.2
             }
            },
            "type": "bar"
           }
          ],
          "barpolar": [
           {
            "marker": {
             "line": {
              "color": "#E5ECF6",
              "width": 0.5
             },
             "pattern": {
              "fillmode": "overlay",
              "size": 10,
              "solidity": 0.2
             }
            },
            "type": "barpolar"
           }
          ],
          "carpet": [
           {
            "aaxis": {
             "endlinecolor": "#2a3f5f",
             "gridcolor": "white",
             "linecolor": "white",
             "minorgridcolor": "white",
             "startlinecolor": "#2a3f5f"
            },
            "baxis": {
             "endlinecolor": "#2a3f5f",
             "gridcolor": "white",
             "linecolor": "white",
             "minorgridcolor": "white",
             "startlinecolor": "#2a3f5f"
            },
            "type": "carpet"
           }
          ],
          "choropleth": [
           {
            "colorbar": {
             "outlinewidth": 0,
             "ticks": ""
            },
            "type": "choropleth"
           }
          ],
          "contour": [
           {
            "colorbar": {
             "outlinewidth": 0,
             "ticks": ""
            },
            "colorscale": [
             [
              0,
              "#0d0887"
             ],
             [
              0.1111111111111111,
              "#46039f"
             ],
             [
              0.2222222222222222,
              "#7201a8"
             ],
             [
              0.3333333333333333,
              "#9c179e"
             ],
             [
              0.4444444444444444,
              "#bd3786"
             ],
             [
              0.5555555555555556,
              "#d8576b"
             ],
             [
              0.6666666666666666,
              "#ed7953"
             ],
             [
              0.7777777777777778,
              "#fb9f3a"
             ],
             [
              0.8888888888888888,
              "#fdca26"
             ],
             [
              1,
              "#f0f921"
             ]
            ],
            "type": "contour"
           }
          ],
          "contourcarpet": [
           {
            "colorbar": {
             "outlinewidth": 0,
             "ticks": ""
            },
            "type": "contourcarpet"
           }
          ],
          "heatmap": [
           {
            "colorbar": {
             "outlinewidth": 0,
             "ticks": ""
            },
            "colorscale": [
             [
              0,
              "#0d0887"
             ],
             [
              0.1111111111111111,
              "#46039f"
             ],
             [
              0.2222222222222222,
              "#7201a8"
             ],
             [
              0.3333333333333333,
              "#9c179e"
             ],
             [
              0.4444444444444444,
              "#bd3786"
             ],
             [
              0.5555555555555556,
              "#d8576b"
             ],
             [
              0.6666666666666666,
              "#ed7953"
             ],
             [
              0.7777777777777778,
              "#fb9f3a"
             ],
             [
              0.8888888888888888,
              "#fdca26"
             ],
             [
              1,
              "#f0f921"
             ]
            ],
            "type": "heatmap"
           }
          ],
          "heatmapgl": [
           {
            "colorbar": {
             "outlinewidth": 0,
             "ticks": ""
            },
            "colorscale": [
             [
              0,
              "#0d0887"
             ],
             [
              0.1111111111111111,
              "#46039f"
             ],
             [
              0.2222222222222222,
              "#7201a8"
             ],
             [
              0.3333333333333333,
              "#9c179e"
             ],
             [
              0.4444444444444444,
              "#bd3786"
             ],
             [
              0.5555555555555556,
              "#d8576b"
             ],
             [
              0.6666666666666666,
              "#ed7953"
             ],
             [
              0.7777777777777778,
              "#fb9f3a"
             ],
             [
              0.8888888888888888,
              "#fdca26"
             ],
             [
              1,
              "#f0f921"
             ]
            ],
            "type": "heatmapgl"
           }
          ],
          "histogram": [
           {
            "marker": {
             "pattern": {
              "fillmode": "overlay",
              "size": 10,
              "solidity": 0.2
             }
            },
            "type": "histogram"
           }
          ],
          "histogram2d": [
           {
            "colorbar": {
             "outlinewidth": 0,
             "ticks": ""
            },
            "colorscale": [
             [
              0,
              "#0d0887"
             ],
             [
              0.1111111111111111,
              "#46039f"
             ],
             [
              0.2222222222222222,
              "#7201a8"
             ],
             [
              0.3333333333333333,
              "#9c179e"
             ],
             [
              0.4444444444444444,
              "#bd3786"
             ],
             [
              0.5555555555555556,
              "#d8576b"
             ],
             [
              0.6666666666666666,
              "#ed7953"
             ],
             [
              0.7777777777777778,
              "#fb9f3a"
             ],
             [
              0.8888888888888888,
              "#fdca26"
             ],
             [
              1,
              "#f0f921"
             ]
            ],
            "type": "histogram2d"
           }
          ],
          "histogram2dcontour": [
           {
            "colorbar": {
             "outlinewidth": 0,
             "ticks": ""
            },
            "colorscale": [
             [
              0,
              "#0d0887"
             ],
             [
              0.1111111111111111,
              "#46039f"
             ],
             [
              0.2222222222222222,
              "#7201a8"
             ],
             [
              0.3333333333333333,
              "#9c179e"
             ],
             [
              0.4444444444444444,
              "#bd3786"
             ],
             [
              0.5555555555555556,
              "#d8576b"
             ],
             [
              0.6666666666666666,
              "#ed7953"
             ],
             [
              0.7777777777777778,
              "#fb9f3a"
             ],
             [
              0.8888888888888888,
              "#fdca26"
             ],
             [
              1,
              "#f0f921"
             ]
            ],
            "type": "histogram2dcontour"
           }
          ],
          "mesh3d": [
           {
            "colorbar": {
             "outlinewidth": 0,
             "ticks": ""
            },
            "type": "mesh3d"
           }
          ],
          "parcoords": [
           {
            "line": {
             "colorbar": {
              "outlinewidth": 0,
              "ticks": ""
             }
            },
            "type": "parcoords"
           }
          ],
          "pie": [
           {
            "automargin": true,
            "type": "pie"
           }
          ],
          "scatter": [
           {
            "fillpattern": {
             "fillmode": "overlay",
             "size": 10,
             "solidity": 0.2
            },
            "type": "scatter"
           }
          ],
          "scatter3d": [
           {
            "line": {
             "colorbar": {
              "outlinewidth": 0,
              "ticks": ""
             }
            },
            "marker": {
             "colorbar": {
              "outlinewidth": 0,
              "ticks": ""
             }
            },
            "type": "scatter3d"
           }
          ],
          "scattercarpet": [
           {
            "marker": {
             "colorbar": {
              "outlinewidth": 0,
              "ticks": ""
             }
            },
            "type": "scattercarpet"
           }
          ],
          "scattergeo": [
           {
            "marker": {
             "colorbar": {
              "outlinewidth": 0,
              "ticks": ""
             }
            },
            "type": "scattergeo"
           }
          ],
          "scattergl": [
           {
            "marker": {
             "colorbar": {
              "outlinewidth": 0,
              "ticks": ""
             }
            },
            "type": "scattergl"
           }
          ],
          "scattermapbox": [
           {
            "marker": {
             "colorbar": {
              "outlinewidth": 0,
              "ticks": ""
             }
            },
            "type": "scattermapbox"
           }
          ],
          "scatterpolar": [
           {
            "marker": {
             "colorbar": {
              "outlinewidth": 0,
              "ticks": ""
             }
            },
            "type": "scatterpolar"
           }
          ],
          "scatterpolargl": [
           {
            "marker": {
             "colorbar": {
              "outlinewidth": 0,
              "ticks": ""
             }
            },
            "type": "scatterpolargl"
           }
          ],
          "scatterternary": [
           {
            "marker": {
             "colorbar": {
              "outlinewidth": 0,
              "ticks": ""
             }
            },
            "type": "scatterternary"
           }
          ],
          "surface": [
           {
            "colorbar": {
             "outlinewidth": 0,
             "ticks": ""
            },
            "colorscale": [
             [
              0,
              "#0d0887"
             ],
             [
              0.1111111111111111,
              "#46039f"
             ],
             [
              0.2222222222222222,
              "#7201a8"
             ],
             [
              0.3333333333333333,
              "#9c179e"
             ],
             [
              0.4444444444444444,
              "#bd3786"
             ],
             [
              0.5555555555555556,
              "#d8576b"
             ],
             [
              0.6666666666666666,
              "#ed7953"
             ],
             [
              0.7777777777777778,
              "#fb9f3a"
             ],
             [
              0.8888888888888888,
              "#fdca26"
             ],
             [
              1,
              "#f0f921"
             ]
            ],
            "type": "surface"
           }
          ],
          "table": [
           {
            "cells": {
             "fill": {
              "color": "#EBF0F8"
             },
             "line": {
              "color": "white"
             }
            },
            "header": {
             "fill": {
              "color": "#C8D4E3"
             },
             "line": {
              "color": "white"
             }
            },
            "type": "table"
           }
          ]
         },
         "layout": {
          "annotationdefaults": {
           "arrowcolor": "#2a3f5f",
           "arrowhead": 0,
           "arrowwidth": 1
          },
          "autotypenumbers": "strict",
          "coloraxis": {
           "colorbar": {
            "outlinewidth": 0,
            "ticks": ""
           }
          },
          "colorscale": {
           "diverging": [
            [
             0,
             "#8e0152"
            ],
            [
             0.1,
             "#c51b7d"
            ],
            [
             0.2,
             "#de77ae"
            ],
            [
             0.3,
             "#f1b6da"
            ],
            [
             0.4,
             "#fde0ef"
            ],
            [
             0.5,
             "#f7f7f7"
            ],
            [
             0.6,
             "#e6f5d0"
            ],
            [
             0.7,
             "#b8e186"
            ],
            [
             0.8,
             "#7fbc41"
            ],
            [
             0.9,
             "#4d9221"
            ],
            [
             1,
             "#276419"
            ]
           ],
           "sequential": [
            [
             0,
             "#0d0887"
            ],
            [
             0.1111111111111111,
             "#46039f"
            ],
            [
             0.2222222222222222,
             "#7201a8"
            ],
            [
             0.3333333333333333,
             "#9c179e"
            ],
            [
             0.4444444444444444,
             "#bd3786"
            ],
            [
             0.5555555555555556,
             "#d8576b"
            ],
            [
             0.6666666666666666,
             "#ed7953"
            ],
            [
             0.7777777777777778,
             "#fb9f3a"
            ],
            [
             0.8888888888888888,
             "#fdca26"
            ],
            [
             1,
             "#f0f921"
            ]
           ],
           "sequentialminus": [
            [
             0,
             "#0d0887"
            ],
            [
             0.1111111111111111,
             "#46039f"
            ],
            [
             0.2222222222222222,
             "#7201a8"
            ],
            [
             0.3333333333333333,
             "#9c179e"
            ],
            [
             0.4444444444444444,
             "#bd3786"
            ],
            [
             0.5555555555555556,
             "#d8576b"
            ],
            [
             0.6666666666666666,
             "#ed7953"
            ],
            [
             0.7777777777777778,
             "#fb9f3a"
            ],
            [
             0.8888888888888888,
             "#fdca26"
            ],
            [
             1,
             "#f0f921"
            ]
           ]
          },
          "colorway": [
           "#636efa",
           "#EF553B",
           "#00cc96",
           "#ab63fa",
           "#FFA15A",
           "#19d3f3",
           "#FF6692",
           "#B6E880",
           "#FF97FF",
           "#FECB52"
          ],
          "font": {
           "color": "#2a3f5f"
          },
          "geo": {
           "bgcolor": "white",
           "lakecolor": "white",
           "landcolor": "#E5ECF6",
           "showlakes": true,
           "showland": true,
           "subunitcolor": "white"
          },
          "hoverlabel": {
           "align": "left"
          },
          "hovermode": "closest",
          "mapbox": {
           "style": "light"
          },
          "paper_bgcolor": "white",
          "plot_bgcolor": "#E5ECF6",
          "polar": {
           "angularaxis": {
            "gridcolor": "white",
            "linecolor": "white",
            "ticks": ""
           },
           "bgcolor": "#E5ECF6",
           "radialaxis": {
            "gridcolor": "white",
            "linecolor": "white",
            "ticks": ""
           }
          },
          "scene": {
           "xaxis": {
            "backgroundcolor": "#E5ECF6",
            "gridcolor": "white",
            "gridwidth": 2,
            "linecolor": "white",
            "showbackground": true,
            "ticks": "",
            "zerolinecolor": "white"
           },
           "yaxis": {
            "backgroundcolor": "#E5ECF6",
            "gridcolor": "white",
            "gridwidth": 2,
            "linecolor": "white",
            "showbackground": true,
            "ticks": "",
            "zerolinecolor": "white"
           },
           "zaxis": {
            "backgroundcolor": "#E5ECF6",
            "gridcolor": "white",
            "gridwidth": 2,
            "linecolor": "white",
            "showbackground": true,
            "ticks": "",
            "zerolinecolor": "white"
           }
          },
          "shapedefaults": {
           "line": {
            "color": "#2a3f5f"
           }
          },
          "ternary": {
           "aaxis": {
            "gridcolor": "white",
            "linecolor": "white",
            "ticks": ""
           },
           "baxis": {
            "gridcolor": "white",
            "linecolor": "white",
            "ticks": ""
           },
           "bgcolor": "#E5ECF6",
           "caxis": {
            "gridcolor": "white",
            "linecolor": "white",
            "ticks": ""
           }
          },
          "title": {
           "x": 0.05
          },
          "xaxis": {
           "automargin": true,
           "gridcolor": "white",
           "linecolor": "white",
           "ticks": "",
           "title": {
            "standoff": 15
           },
           "zerolinecolor": "white",
           "zerolinewidth": 2
          },
          "yaxis": {
           "automargin": true,
           "gridcolor": "white",
           "linecolor": "white",
           "ticks": "",
           "title": {
            "standoff": 15
           },
           "zerolinecolor": "white",
           "zerolinewidth": 2
          }
         }
        },
        "title": {
         "text": "Cost of cloud compute to train large ML systems",
         "x": 0.5
        },
        "width": 800,
        "xaxis": {
         "anchor": "y",
         "domain": [
          0,
          1
         ],
         "range": [
          "2015-01-01",
          "2025-01-01"
         ],
         "title": {
          "text": "Publication date"
         }
        },
        "yaxis": {
         "anchor": "x",
         "domain": [
          0,
          1
         ],
         "title": {
          "text": "Cost (2023 USD)"
         },
         "type": "log"
        }
       }
      }
     },
     "metadata": {},
     "output_type": "display_data"
    }
   ],
   "source": [
    "label_systems = ['GNMT', 'Megatron-BERT', 'GPT-3 175B (davinci)', 'PaLM (540B)', 'Llama 2-70B', 'Falcon 180B', 'GPT-4', 'Gemini Ultra']\n",
    "\n",
    "fig = px.scatter(\n",
    "    cost_df.loc[cost_df['System'].isin(label_systems)],\n",
    "    x='Publication date',\n",
    "    y='Cost (inflation-adjusted)',\n",
    "    text='System',\n",
    "    log_y=True,\n",
    ")\n",
    "\n",
    "fig.add_scatter(\n",
    "    x=cost_df['Publication date'],\n",
    "    y=cost_df['Cost (inflation-adjusted)'],\n",
    "    mode='markers',\n",
    "    showlegend=False,\n",
    ")\n",
    "\n",
    "# Marker color\n",
    "fig.update_traces(\n",
    "    marker=dict(\n",
    "        color='rgb(0,100,200)',\n",
    "    ),\n",
    "    selector=dict(mode='markers'),\n",
    ")\n",
    "\n",
    "# Shade in CI\n",
    "fig.add_scatter(\n",
    "    x=predicted_cost_df['Publication date'],\n",
    "    y=10**predicted_cost_df['mean_ci_lower'],\n",
    "    mode='lines',\n",
    "    line=dict(width=0),\n",
    "    showlegend=False,\n",
    ")\n",
    "fig.add_scatter(\n",
    "    x=predicted_cost_df['Publication date'],\n",
    "    y=10**predicted_cost_df['mean_ci_upper'],\n",
    "    mode='lines',\n",
    "    fill='tonexty',\n",
    "    fillcolor='rgba(0,100,200,0.2)',\n",
    "    line=dict(width=0),\n",
    "    name='95% CI of mean',\n",
    ")\n",
    "fig.add_scatter(\n",
    "    x=predicted_cost_df['Publication date'],\n",
    "    y=10**predicted_cost_df['mean'],\n",
    "    mode='lines',\n",
    "    line=dict(color='rgb(0,100,200)'),\n",
    "    name=f'Regression mean (growth rate: {10**reg_results.params[1]:.1f}x per year)',\n",
    ")\n",
    "\n",
    "fig.update_traces(textposition='top center')\n",
    "\n",
    "# legend on top\n",
    "fig.update_layout(legend=dict(\n",
    "    orientation='h',\n",
    "    yanchor='top',\n",
    "    y=-0.15,\n",
    "    xanchor='center',\n",
    "    x=0.5,\n",
    "))\n",
    "\n",
    "# axis labels\n",
    "fig.update_xaxes(title_text='Publication date')\n",
    "fig.update_yaxes(title_text='Cost (2023 USD)')\n",
    "\n",
    "# title\n",
    "fig.update_layout(title_text='Cost of cloud compute to train large ML systems')\n",
    "\n",
    "# update size\n",
    "fig.update_layout(\n",
    "    autosize=False,\n",
    "    width=800,\n",
    "    height=600,\n",
    "    title_x=0.5,\n",
    ")\n",
    "\n",
    "# font size\n",
    "fig.update_layout(\n",
    "    font=dict(\n",
    "        size=14,\n",
    "    )\n",
    ")\n",
    "\n",
    "# axis limits\n",
    "fig.update_xaxes(range=[pred_start_date, pred_end_date])\n",
    "\n",
    "# margins\n",
    "fig.update_layout(margin=dict(l=10, r=10, t=40, b=10))\n",
    "\n",
    "save_plot(fig, results_dir, 'cost_scatter')\n",
    "\n",
    "fig.show()"
   ]
  },
  {
   "cell_type": "markdown",
   "metadata": {},
   "source": [
    "# Export data"
   ]
  },
  {
   "cell_type": "code",
   "execution_count": 24,
   "metadata": {},
   "outputs": [
    {
     "data": {
      "text/html": [
       "<div>\n",
       "<style scoped>\n",
       "    .dataframe tbody tr th:only-of-type {\n",
       "        vertical-align: middle;\n",
       "    }\n",
       "\n",
       "    .dataframe tbody tr th {\n",
       "        vertical-align: top;\n",
       "    }\n",
       "\n",
       "    .dataframe thead th {\n",
       "        text-align: right;\n",
       "    }\n",
       "</style>\n",
       "<table border=\"1\" class=\"dataframe\">\n",
       "  <thead>\n",
       "    <tr style=\"text-align: right;\">\n",
       "      <th></th>\n",
       "      <th>System</th>\n",
       "      <th>Domain</th>\n",
       "      <th>Task</th>\n",
       "      <th>Open-source</th>\n",
       "      <th>Reference</th>\n",
       "      <th>Publication date</th>\n",
       "      <th>Organization</th>\n",
       "      <th>Parameters</th>\n",
       "      <th>Training compute (FLOP)</th>\n",
       "      <th>Training dataset size (datapoints)</th>\n",
       "      <th>...</th>\n",
       "      <th>Country (from Organization)</th>\n",
       "      <th>Base model</th>\n",
       "      <th>Finetune compute (FLOP)</th>\n",
       "      <th>Hardware quantity</th>\n",
       "      <th>Hardware utilization</th>\n",
       "      <th>Training cloud compute vendor</th>\n",
       "      <th>Training data center</th>\n",
       "      <th>Training time (chip hours)</th>\n",
       "      <th>Cost</th>\n",
       "      <th>Cost (inflation-adjusted)</th>\n",
       "    </tr>\n",
       "  </thead>\n",
       "  <tbody>\n",
       "    <tr>\n",
       "      <th>38</th>\n",
       "      <td>Gemini Ultra</td>\n",
       "      <td>Multimodal</td>\n",
       "      <td>Language modelling,Visual question answering,C...</td>\n",
       "      <td>NaN</td>\n",
       "      <td>Gemini: A Family of Highly Capable Multimodal ...</td>\n",
       "      <td>2023-12-06 00:00:00</td>\n",
       "      <td>Google DeepMind</td>\n",
       "      <td>NaN</td>\n",
       "      <td>5.000000e+25</td>\n",
       "      <td>NaN</td>\n",
       "      <td>...</td>\n",
       "      <td>Multinational</td>\n",
       "      <td>NaN</td>\n",
       "      <td>NaN</td>\n",
       "      <td>55000.0</td>\n",
       "      <td>NaN</td>\n",
       "      <td>NaN</td>\n",
       "      <td>NaN</td>\n",
       "      <td>132000000.0</td>\n",
       "      <td>191400000.0</td>\n",
       "      <td>1.914000e+08</td>\n",
       "    </tr>\n",
       "    <tr>\n",
       "      <th>45</th>\n",
       "      <td>Qwen-72B</td>\n",
       "      <td>Language</td>\n",
       "      <td>Chat,Code generation</td>\n",
       "      <td>Permissive license</td>\n",
       "      <td>NaN</td>\n",
       "      <td>2023-11-30 00:00:00</td>\n",
       "      <td>Alibaba</td>\n",
       "      <td>7.200000e+10</td>\n",
       "      <td>1.300000e+24</td>\n",
       "      <td>NaN</td>\n",
       "      <td>...</td>\n",
       "      <td>China</td>\n",
       "      <td>NaN</td>\n",
       "      <td>NaN</td>\n",
       "      <td>NaN</td>\n",
       "      <td>NaN</td>\n",
       "      <td>NaN</td>\n",
       "      <td>NaN</td>\n",
       "      <td>NaN</td>\n",
       "      <td>NaN</td>\n",
       "      <td>NaN</td>\n",
       "    </tr>\n",
       "    <tr>\n",
       "      <th>53</th>\n",
       "      <td>Inflection-2</td>\n",
       "      <td>Language</td>\n",
       "      <td>Language modelling</td>\n",
       "      <td>API accessible</td>\n",
       "      <td>Inflection-2: The Next Step Up</td>\n",
       "      <td>2023-11-22 00:00:00</td>\n",
       "      <td>Inflection AI</td>\n",
       "      <td>NaN</td>\n",
       "      <td>1.001000e+25</td>\n",
       "      <td>NaN</td>\n",
       "      <td>...</td>\n",
       "      <td>United States of America</td>\n",
       "      <td>NaN</td>\n",
       "      <td>NaN</td>\n",
       "      <td>5000.0</td>\n",
       "      <td>NaN</td>\n",
       "      <td>NaN</td>\n",
       "      <td>NaN</td>\n",
       "      <td>NaN</td>\n",
       "      <td>NaN</td>\n",
       "      <td>NaN</td>\n",
       "    </tr>\n",
       "    <tr>\n",
       "      <th>58</th>\n",
       "      <td>Nemotron-3-8B</td>\n",
       "      <td>Language</td>\n",
       "      <td>Chat,Language generation</td>\n",
       "      <td>Permissive license</td>\n",
       "      <td>NVIDIA AI Foundation Models: Build Custom Ente...</td>\n",
       "      <td>2023-11-15 00:00:00</td>\n",
       "      <td>NVIDIA</td>\n",
       "      <td>8.000000e+09</td>\n",
       "      <td>1.800000e+23</td>\n",
       "      <td>NaN</td>\n",
       "      <td>...</td>\n",
       "      <td>United States of America</td>\n",
       "      <td>NaN</td>\n",
       "      <td>NaN</td>\n",
       "      <td>NaN</td>\n",
       "      <td>NaN</td>\n",
       "      <td>NaN</td>\n",
       "      <td>NaN</td>\n",
       "      <td>NaN</td>\n",
       "      <td>NaN</td>\n",
       "      <td>NaN</td>\n",
       "    </tr>\n",
       "    <tr>\n",
       "      <th>75</th>\n",
       "      <td>CogVLM</td>\n",
       "      <td>Multimodal,Vision,Language</td>\n",
       "      <td>Image captioning,Visual question answering,Chat</td>\n",
       "      <td>Permissive license</td>\n",
       "      <td>CogVLM: Visual Expert for Pretrained Language ...</td>\n",
       "      <td>2023-11-06 00:00:00</td>\n",
       "      <td>Tsinghua University,Zhipu AI,Beihang University</td>\n",
       "      <td>1.700000e+10</td>\n",
       "      <td>1.988064e+22</td>\n",
       "      <td>NaN</td>\n",
       "      <td>...</td>\n",
       "      <td>China,China,China</td>\n",
       "      <td>NaN</td>\n",
       "      <td>NaN</td>\n",
       "      <td>NaN</td>\n",
       "      <td>NaN</td>\n",
       "      <td>NaN</td>\n",
       "      <td>NaN</td>\n",
       "      <td>NaN</td>\n",
       "      <td>NaN</td>\n",
       "      <td>NaN</td>\n",
       "    </tr>\n",
       "    <tr>\n",
       "      <th>...</th>\n",
       "      <td>...</td>\n",
       "      <td>...</td>\n",
       "      <td>...</td>\n",
       "      <td>...</td>\n",
       "      <td>...</td>\n",
       "      <td>...</td>\n",
       "      <td>...</td>\n",
       "      <td>...</td>\n",
       "      <td>...</td>\n",
       "      <td>...</td>\n",
       "      <td>...</td>\n",
       "      <td>...</td>\n",
       "      <td>...</td>\n",
       "      <td>...</td>\n",
       "      <td>...</td>\n",
       "      <td>...</td>\n",
       "      <td>...</td>\n",
       "      <td>...</td>\n",
       "      <td>...</td>\n",
       "      <td>...</td>\n",
       "      <td>...</td>\n",
       "    </tr>\n",
       "    <tr>\n",
       "      <th>1094</th>\n",
       "      <td>GNMT</td>\n",
       "      <td>Language</td>\n",
       "      <td>Translation</td>\n",
       "      <td>NaN</td>\n",
       "      <td>Google's Neural Machine Translation System: Br...</td>\n",
       "      <td>2016-09-26 00:00:00</td>\n",
       "      <td>Google</td>\n",
       "      <td>2.780000e+08</td>\n",
       "      <td>6.900000e+21</td>\n",
       "      <td>360000000.0</td>\n",
       "      <td>...</td>\n",
       "      <td>Multinational</td>\n",
       "      <td>NaN</td>\n",
       "      <td>NaN</td>\n",
       "      <td>96.0</td>\n",
       "      <td>NaN</td>\n",
       "      <td>NaN</td>\n",
       "      <td>NaN</td>\n",
       "      <td>414720.0</td>\n",
       "      <td>178329.6</td>\n",
       "      <td>1.947392e+05</td>\n",
       "    </tr>\n",
       "    <tr>\n",
       "      <th>1130</th>\n",
       "      <td>AlphaGo Lee</td>\n",
       "      <td>Games</td>\n",
       "      <td>Go</td>\n",
       "      <td>NaN</td>\n",
       "      <td>Mastering the game of Go with deep neural netw...</td>\n",
       "      <td>2016-01-27 00:00:00</td>\n",
       "      <td>DeepMind</td>\n",
       "      <td>NaN</td>\n",
       "      <td>1.900000e+21</td>\n",
       "      <td>29400000.0</td>\n",
       "      <td>...</td>\n",
       "      <td>United Kingdom of Great Britain and Northern I...</td>\n",
       "      <td>NaN</td>\n",
       "      <td>NaN</td>\n",
       "      <td>NaN</td>\n",
       "      <td>NaN</td>\n",
       "      <td>NaN</td>\n",
       "      <td>NaN</td>\n",
       "      <td>NaN</td>\n",
       "      <td>NaN</td>\n",
       "      <td>NaN</td>\n",
       "    </tr>\n",
       "    <tr>\n",
       "      <th>1134</th>\n",
       "      <td>ResNet-152 (ImageNet)</td>\n",
       "      <td>Vision</td>\n",
       "      <td>Image classification</td>\n",
       "      <td>NaN</td>\n",
       "      <td>Deep Residual Learning for Image Recognition</td>\n",
       "      <td>2015-12-10 00:00:00</td>\n",
       "      <td>Microsoft</td>\n",
       "      <td>6.000000e+07</td>\n",
       "      <td>1.210000e+19</td>\n",
       "      <td>1280000.0</td>\n",
       "      <td>...</td>\n",
       "      <td>Multinational</td>\n",
       "      <td>NaN</td>\n",
       "      <td>NaN</td>\n",
       "      <td>NaN</td>\n",
       "      <td>NaN</td>\n",
       "      <td>NaN</td>\n",
       "      <td>NaN</td>\n",
       "      <td>NaN</td>\n",
       "      <td>NaN</td>\n",
       "      <td>NaN</td>\n",
       "    </tr>\n",
       "    <tr>\n",
       "      <th>1136</th>\n",
       "      <td>DeepSpeech2 (English)</td>\n",
       "      <td>Speech</td>\n",
       "      <td>Speech recognition</td>\n",
       "      <td>NaN</td>\n",
       "      <td>Deep Speech 2: End-to-End Speech Recognition i...</td>\n",
       "      <td>2015-12-08 00:00:00</td>\n",
       "      <td>Baidu Research - Silicon Valley AI Lab</td>\n",
       "      <td>3.800000e+07</td>\n",
       "      <td>2.600000e+19</td>\n",
       "      <td>163339200.0</td>\n",
       "      <td>...</td>\n",
       "      <td>United States of America</td>\n",
       "      <td>NaN</td>\n",
       "      <td>NaN</td>\n",
       "      <td>NaN</td>\n",
       "      <td>NaN</td>\n",
       "      <td>NaN</td>\n",
       "      <td>NaN</td>\n",
       "      <td>NaN</td>\n",
       "      <td>NaN</td>\n",
       "      <td>NaN</td>\n",
       "    </tr>\n",
       "    <tr>\n",
       "      <th>1140</th>\n",
       "      <td>AlphaGo Fan</td>\n",
       "      <td>Games</td>\n",
       "      <td>Go</td>\n",
       "      <td>NaN</td>\n",
       "      <td>Mastering the game of Go with deep neural netw...</td>\n",
       "      <td>2015-10-01 00:00:00</td>\n",
       "      <td>Google DeepMind</td>\n",
       "      <td>8.209984e+06</td>\n",
       "      <td>3.800000e+20</td>\n",
       "      <td>NaN</td>\n",
       "      <td>...</td>\n",
       "      <td>Multinational</td>\n",
       "      <td>NaN</td>\n",
       "      <td>NaN</td>\n",
       "      <td>NaN</td>\n",
       "      <td>NaN</td>\n",
       "      <td>NaN</td>\n",
       "      <td>NaN</td>\n",
       "      <td>NaN</td>\n",
       "      <td>NaN</td>\n",
       "      <td>NaN</td>\n",
       "    </tr>\n",
       "  </tbody>\n",
       "</table>\n",
       "<p>138 rows × 23 columns</p>\n",
       "</div>"
      ],
      "text/plain": [
       "                     System                      Domain  \\\n",
       "38             Gemini Ultra                  Multimodal   \n",
       "45                 Qwen-72B                    Language   \n",
       "53             Inflection-2                    Language   \n",
       "58            Nemotron-3-8B                    Language   \n",
       "75                   CogVLM  Multimodal,Vision,Language   \n",
       "...                     ...                         ...   \n",
       "1094                   GNMT                    Language   \n",
       "1130            AlphaGo Lee                       Games   \n",
       "1134  ResNet-152 (ImageNet)                      Vision   \n",
       "1136  DeepSpeech2 (English)                      Speech   \n",
       "1140            AlphaGo Fan                       Games   \n",
       "\n",
       "                                                   Task         Open-source  \\\n",
       "38    Language modelling,Visual question answering,C...                 NaN   \n",
       "45                                 Chat,Code generation  Permissive license   \n",
       "53                                   Language modelling      API accessible   \n",
       "58                             Chat,Language generation  Permissive license   \n",
       "75      Image captioning,Visual question answering,Chat  Permissive license   \n",
       "...                                                 ...                 ...   \n",
       "1094                                        Translation                 NaN   \n",
       "1130                                                 Go                 NaN   \n",
       "1134                               Image classification                 NaN   \n",
       "1136                                 Speech recognition                 NaN   \n",
       "1140                                                 Go                 NaN   \n",
       "\n",
       "                                              Reference     Publication date  \\\n",
       "38    Gemini: A Family of Highly Capable Multimodal ...  2023-12-06 00:00:00   \n",
       "45                                                  NaN  2023-11-30 00:00:00   \n",
       "53                       Inflection-2: The Next Step Up  2023-11-22 00:00:00   \n",
       "58    NVIDIA AI Foundation Models: Build Custom Ente...  2023-11-15 00:00:00   \n",
       "75    CogVLM: Visual Expert for Pretrained Language ...  2023-11-06 00:00:00   \n",
       "...                                                 ...                  ...   \n",
       "1094  Google's Neural Machine Translation System: Br...  2016-09-26 00:00:00   \n",
       "1130  Mastering the game of Go with deep neural netw...  2016-01-27 00:00:00   \n",
       "1134       Deep Residual Learning for Image Recognition  2015-12-10 00:00:00   \n",
       "1136  Deep Speech 2: End-to-End Speech Recognition i...  2015-12-08 00:00:00   \n",
       "1140  Mastering the game of Go with deep neural netw...  2015-10-01 00:00:00   \n",
       "\n",
       "                                         Organization    Parameters  \\\n",
       "38                                    Google DeepMind           NaN   \n",
       "45                                            Alibaba  7.200000e+10   \n",
       "53                                      Inflection AI           NaN   \n",
       "58                                             NVIDIA  8.000000e+09   \n",
       "75    Tsinghua University,Zhipu AI,Beihang University  1.700000e+10   \n",
       "...                                               ...           ...   \n",
       "1094                                           Google  2.780000e+08   \n",
       "1130                                         DeepMind           NaN   \n",
       "1134                                        Microsoft  6.000000e+07   \n",
       "1136           Baidu Research - Silicon Valley AI Lab  3.800000e+07   \n",
       "1140                                  Google DeepMind  8.209984e+06   \n",
       "\n",
       "      Training compute (FLOP)  Training dataset size (datapoints)  ...  \\\n",
       "38               5.000000e+25                                 NaN  ...   \n",
       "45               1.300000e+24                                 NaN  ...   \n",
       "53               1.001000e+25                                 NaN  ...   \n",
       "58               1.800000e+23                                 NaN  ...   \n",
       "75               1.988064e+22                                 NaN  ...   \n",
       "...                       ...                                 ...  ...   \n",
       "1094             6.900000e+21                         360000000.0  ...   \n",
       "1130             1.900000e+21                          29400000.0  ...   \n",
       "1134             1.210000e+19                           1280000.0  ...   \n",
       "1136             2.600000e+19                         163339200.0  ...   \n",
       "1140             3.800000e+20                                 NaN  ...   \n",
       "\n",
       "                            Country (from Organization)  Base model  \\\n",
       "38                                        Multinational         NaN   \n",
       "45                                                China         NaN   \n",
       "53                             United States of America         NaN   \n",
       "58                             United States of America         NaN   \n",
       "75                                    China,China,China         NaN   \n",
       "...                                                 ...         ...   \n",
       "1094                                      Multinational         NaN   \n",
       "1130  United Kingdom of Great Britain and Northern I...         NaN   \n",
       "1134                                      Multinational         NaN   \n",
       "1136                           United States of America         NaN   \n",
       "1140                                      Multinational         NaN   \n",
       "\n",
       "     Finetune compute (FLOP) Hardware quantity Hardware utilization  \\\n",
       "38                       NaN           55000.0                  NaN   \n",
       "45                       NaN               NaN                  NaN   \n",
       "53                       NaN            5000.0                  NaN   \n",
       "58                       NaN               NaN                  NaN   \n",
       "75                       NaN               NaN                  NaN   \n",
       "...                      ...               ...                  ...   \n",
       "1094                     NaN              96.0                  NaN   \n",
       "1130                     NaN               NaN                  NaN   \n",
       "1134                     NaN               NaN                  NaN   \n",
       "1136                     NaN               NaN                  NaN   \n",
       "1140                     NaN               NaN                  NaN   \n",
       "\n",
       "     Training cloud compute vendor  Training data center  \\\n",
       "38                             NaN                   NaN   \n",
       "45                             NaN                   NaN   \n",
       "53                             NaN                   NaN   \n",
       "58                             NaN                   NaN   \n",
       "75                             NaN                   NaN   \n",
       "...                            ...                   ...   \n",
       "1094                           NaN                   NaN   \n",
       "1130                           NaN                   NaN   \n",
       "1134                           NaN                   NaN   \n",
       "1136                           NaN                   NaN   \n",
       "1140                           NaN                   NaN   \n",
       "\n",
       "      Training time (chip hours)         Cost Cost (inflation-adjusted)  \n",
       "38                   132000000.0  191400000.0              1.914000e+08  \n",
       "45                           NaN          NaN                       NaN  \n",
       "53                           NaN          NaN                       NaN  \n",
       "58                           NaN          NaN                       NaN  \n",
       "75                           NaN          NaN                       NaN  \n",
       "...                          ...          ...                       ...  \n",
       "1094                    414720.0     178329.6              1.947392e+05  \n",
       "1130                         NaN          NaN                       NaN  \n",
       "1134                         NaN          NaN                       NaN  \n",
       "1136                         NaN          NaN                       NaN  \n",
       "1140                         NaN          NaN                       NaN  \n",
       "\n",
       "[138 rows x 23 columns]"
      ]
     },
     "execution_count": 24,
     "metadata": {},
     "output_type": "execute_result"
    }
   ],
   "source": [
    "keep_cols = [\n",
    "    'System',\n",
    "    'Domain',\n",
    "    'Task',\n",
    "    'Open-source',\n",
    "    'Reference',\n",
    "    'Publication date',\n",
    "    'Organization',\n",
    "    'Parameters',\n",
    "    'Training compute (FLOP)',\n",
    "    'Training dataset size (datapoints)',\n",
    "    'Epochs',\n",
    "    'Training time (hours)',\n",
    "    'Training hardware',\n",
    "    'Country (from Organization)',\n",
    "    'Base model',\n",
    "    'Finetune compute (FLOP)',\n",
    "    'Hardware quantity',\n",
    "    'Hardware utilization',\n",
    "    'Training cloud compute vendor',\n",
    "    'Training data center',\n",
    "    'Training time (chip hours)',\n",
    "    'Cost',\n",
    "    'Cost (inflation-adjusted)',\n",
    "]\n",
    "cost_df[keep_cols]"
   ]
  },
  {
   "cell_type": "code",
   "execution_count": 25,
   "metadata": {
    "ExecuteTime": {
     "end_time": "2024-02-29T19:54:27.290415700Z",
     "start_time": "2024-02-29T19:54:27.095748400Z"
    }
   },
   "outputs": [],
   "source": [
    "cost_df[keep_cols].to_csv(results_dir + 'price dataset.csv', index=False)"
   ]
  },
  {
   "cell_type": "code",
   "execution_count": null,
   "metadata": {},
   "outputs": [],
   "source": []
  }
 ],
 "metadata": {
  "colab": {
   "provenance": []
  },
  "kernelspec": {
   "display_name": "Python 3 (ipykernel)",
   "language": "python",
   "name": "python3"
  },
  "language_info": {
   "codemirror_mode": {
    "name": "ipython",
    "version": 3
   },
   "file_extension": ".py",
   "mimetype": "text/x-python",
   "name": "python",
   "nbconvert_exporter": "python",
   "pygments_lexer": "ipython3",
   "version": "3.11.4"
  }
 },
 "nbformat": 4,
 "nbformat_minor": 1
}
