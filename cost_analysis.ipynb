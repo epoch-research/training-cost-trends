{
 "cells": [
  {
   "cell_type": "markdown",
   "metadata": {},
   "source": [
    "# Setup"
   ]
  },
  {
   "cell_type": "code",
   "execution_count": 1,
   "metadata": {
    "ExecuteTime": {
     "end_time": "2024-03-08T01:54:49.691298800Z",
     "start_time": "2024-03-08T01:54:49.634206900Z"
    }
   },
   "outputs": [],
   "source": [
    "%load_ext autoreload\n",
    "%autoreload 2"
   ]
  },
  {
   "cell_type": "code",
   "execution_count": 2,
   "metadata": {
    "ExecuteTime": {
     "end_time": "2024-03-08T01:54:56.468786200Z",
     "start_time": "2024-03-08T01:54:49.695864500Z"
    },
    "id": "qltoZ7TbdkHZ"
   },
   "outputs": [],
   "source": [
    "import numpy as np\n",
    "import os\n",
    "import pandas as pd\n",
    "import plotly.express as px\n",
    "\n",
    "from cost import *\n",
    "from plotting import *\n",
    "from prices import *\n",
    "from imputation import *\n",
    "from inflation import *\n",
    "from regression import *\n",
    "from utils import *"
   ]
  },
  {
   "cell_type": "code",
   "execution_count": 3,
   "metadata": {
    "ExecuteTime": {
     "end_time": "2024-03-08T01:54:56.578403700Z",
     "start_time": "2024-03-08T01:54:56.468786200Z"
    }
   },
   "outputs": [],
   "source": [
    "estimation_method = 'hardware-capex-opex'\n",
    "compute_percentile_threshold = 75  # select systems >= this percentile of training compute\n",
    "variant = 'linearly-adjust-to-release-price-and-tpu-versions-distinguished'\n",
    "\n",
    "estimation_method_lookup = {\n",
    "    'cloud': estimate_costs,\n",
    "    'amortized': estimate_amortized_hardware_costs,\n",
    "    'up-front-server-capex': estimate_upfront_server_capex,\n",
    "    'hardware-capex-opex': estimate_hardware_capex_opex,\n",
    "}\n",
    "cost_estimation_function = estimation_method_lookup[estimation_method]\n",
    "\n",
    "results_dir = f'results/{estimation_method}-{compute_percentile_threshold}th-{variant}/'\n",
    "os.makedirs(results_dir, exist_ok=True)"
   ]
  },
  {
   "cell_type": "markdown",
   "metadata": {},
   "source": [
    "# Load data"
   ]
  },
  {
   "cell_type": "code",
   "execution_count": 4,
   "metadata": {
    "ExecuteTime": {
     "end_time": "2024-03-08T01:54:57.129865300Z",
     "start_time": "2024-03-08T01:54:56.872275900Z"
    }
   },
   "outputs": [],
   "source": [
    "frontier_pcd_df, hardware_df, price_df = load_data_for_cost_estimation(\n",
    "    compute_percentile_threshold=compute_percentile_threshold\n",
    ")"
   ]
  },
  {
   "cell_type": "code",
   "execution_count": 5,
   "metadata": {
    "ExecuteTime": {
     "end_time": "2024-03-08T01:54:57.278230500Z",
     "start_time": "2024-03-08T01:54:57.129865300Z"
    }
   },
   "outputs": [
    {
     "data": {
      "text/plain": [
       "(76, 5510, 142)"
      ]
     },
     "execution_count": 5,
     "metadata": {},
     "output_type": "execute_result"
    }
   ],
   "source": [
    "len(frontier_pcd_df), len(hardware_df), len(price_df)"
   ]
  },
  {
   "cell_type": "markdown",
   "metadata": {},
   "source": [
    "# Cost estimation"
   ]
  },
  {
   "cell_type": "code",
   "execution_count": 6,
   "metadata": {
    "ExecuteTime": {
     "end_time": "2024-03-08T01:54:57.807954200Z",
     "start_time": "2024-03-08T01:54:57.278230500Z"
    }
   },
   "outputs": [
    {
     "name": "stdout",
     "output_type": "stream",
     "text": [
      "==== System: Gemini Ultra ====\n",
      "Found server price for Google TPU v4 at 2023-06-29 00:00:00: 19390.4\n",
      "\n",
      "==== System: Qwen-72B ====\n",
      "Could not find hardware model for Qwen-72B\n",
      "\n",
      "\n",
      "==== System: Inflection-2 ====\n",
      "No training time found, assuming 32.083333333333336\n",
      "\n",
      "Found server price for NVIDIA H100 SXM5 at 2023-05-29 00:00:00: 55800.16974726519\n",
      "\n",
      "==== System: Yi-34B ====\n",
      "Could not find hardware model for Yi-34B\n",
      "\n",
      "\n",
      "==== System: ChatGLM3 ====\n",
      "Could not find hardware model for ChatGLM3\n",
      "\n",
      "\n",
      "==== System: Falcon 180B ====\n",
      "Found server price for NVIDIA A100 SXM4 40 GB at 2022-01-01 00:00:00: 43939.84962406015\n",
      "\n",
      "==== System: Llama 2-70B ====\n",
      "Found server price for NVIDIA A100 SXM4 80 GB at 2022-01-20 00:00:00: 34357.91400675929\n",
      "\n",
      "==== System: Llama 2-34B ====\n",
      "No training time found, assuming 32.083333333333336\n",
      "\n",
      "Found server price for NVIDIA A100 SXM4 80 GB at 2022-01-20 00:00:00: 34357.91400675929\n",
      "\n",
      "==== System: Claude 2 ====\n",
      "Could not find hardware model for Claude 2\n",
      "\n",
      "\n",
      "==== System: xTrimoPGLM -100B ====\n",
      "Found server price for NVIDIA A100 SXM4 40 GB at 2022-01-01 00:00:00: 43939.84962406015\n",
      "\n",
      "==== System: PaLM 2 ====\n",
      "No training time found, assuming 32.083333333333336\n",
      "\n",
      "Found server price for Google TPU v4 at 2023-04-07 22:00:00: 19390.4\n",
      "\n",
      "==== System: PanGu-Σ ====\n",
      "Could not find hardware model after soft matching: Huawei Ascend 910\n",
      "\n",
      "==== System: GPT-4 ====\n",
      "Found server price for NVIDIA A100 SXM4 40 GB at 2022-01-01 00:00:00: 43939.84962406015\n",
      "\n",
      "==== System: LLaMA-65B ====\n",
      "Soft matching NVIDIA A100 to NVIDIA A100\n",
      "Soft matching NVIDIA A100 to NVIDIA A100 PCIe\n",
      "Found server price for NVIDIA A100 at 2022-01-01 00:00:00: 51595.055915244266\n",
      "\n",
      "==== System: ViT-22B ====\n",
      "No training time found, assuming 32.083333333333336\n",
      "\n",
      "Found server price for Google TPU v4 at 2023-01-08 22:00:00: 19390.4\n",
      "\n",
      "==== System: GPT-3.5 (text-davinci-003) ====\n",
      "No training time found, assuming 32.083333333333336\n",
      "\n",
      "Found server price for NVIDIA A100 SXM4 40 GB at 2022-01-01 00:00:00: 43939.84962406015\n",
      "\n",
      "==== System: Galactica ====\n",
      "No training time found, assuming 32.083333333333336\n",
      "\n",
      "Found server price for NVIDIA A100 SXM4 80 GB at 2022-01-20 00:00:00: 34357.91400675929\n",
      "\n",
      "==== System: BLOOM-176B ====\n",
      "Found server price for NVIDIA A100 SXM4 80 GB at 2022-01-20 00:00:00: 34357.91400675929\n",
      "\n",
      "==== System: U-PaLM (540B) ====\n",
      "Found server price for Google TPU v4 at 2022-08-16 00:00:00: 19390.4\n",
      "\n",
      "==== System: BlenderBot 3 ====\n",
      "No training time found, assuming 32.083333333333336\n",
      "\n",
      "Found server price for NVIDIA A100 SXM4 40 GB at 2022-01-01 00:00:00: 43939.84962406015\n",
      "\n",
      "==== System: GLM-130B ====\n",
      "Found server price for NVIDIA A100 SXM4 40 GB at 2022-01-01 00:00:00: 43939.84962406015\n",
      "\n",
      "==== System: Minerva (540B) ====\n",
      "Found server price for Google TPU v4 at 2022-04-01 00:00:00: 19390.4\n",
      "\n",
      "==== System: Parti ====\n",
      "No training time found, assuming 32.083333333333336\n",
      "\n",
      "Found server price for Google TPU v4 at 2022-05-20 22:00:00: 19390.4\n",
      "\n",
      "==== System: UL2 ====\n",
      "Found server price for Google TPU v4 at 2022-02-08 00:00:00: 19390.4\n",
      "\n",
      "==== System: OPT-175B ====\n",
      "Found server price for NVIDIA A100 SXM4 80 GB at 2022-01-20 00:00:00: 34357.91400675929\n",
      "\n",
      "==== System: Flamingo ====\n",
      "Found server price for Google TPU v4 at 2022-02-13 00:00:00: 19390.4\n",
      "\n",
      "==== System: PaLM (540B) ====\n",
      "Found server price for Google TPU v4 at 2021-12-08 00:00:00: 19390.4\n",
      "\n",
      "==== System: Chinchilla ====\n",
      "No training time found, assuming 32.083333333333336\n",
      "\n",
      "Could not find price for Google TPU v4,Google TPU v3\n",
      "\n",
      "==== System: LaMDA ====\n",
      "Found server price for Google TPU v3 at 2021-10-15 07:00:00: 17187.2\n",
      "\n",
      "==== System: GPT-NeoX-20B ====\n",
      "Found server price for NVIDIA A100 SXM4 40 GB at 2020-05-21 00:00:00: 25034.931113662456\n",
      "\n",
      "==== System: AlphaCode ====\n",
      "No training time found, assuming 32.083333333333336\n",
      "\n",
      "Could not find price for Google TPU v4,Google TPU v4i\n",
      "\n",
      "==== System: ERNIE 3.0 Titan ====\n",
      "No training time found, assuming 32.083333333333336\n",
      "\n",
      "Could not find hardware model after soft matching: Huawei Ascend 910,NVIDIA Tesla V100 DGXS 32 GB\n",
      "\n",
      "==== System: GLaM ====\n",
      "Found server price for Google TPU v4 at 2021-08-18 02:00:00: 19390.4\n",
      "\n",
      "==== System: Gopher (280B) ====\n",
      "Found server price for Google TPU v3 at 2021-08-31 16:00:00: 17187.2\n",
      "\n",
      "==== System: Yuan 1.0 ====\n",
      "Could not find hardware model for Yuan 1.0\n",
      "\n",
      "\n",
      "==== System: Megatron-Turing NLG 530B ====\n",
      "Found server price for NVIDIA A100 SXM4 80 GB at 2021-06-30 00:00:00: 47244.179361885595\n",
      "\n",
      "==== System: HyperCLOVA ====\n",
      "Soft matching NVIDIA A100 to NVIDIA A100\n",
      "Soft matching NVIDIA A100 to NVIDIA A100 PCIe\n",
      "Found server price for NVIDIA A100 at 2020-01-01 00:00:00: 22754.05580791694\n",
      "\n",
      "==== System: GOAT ====\n",
      "No training time found, assuming 32.083333333333336\n",
      "\n",
      "Found server price for Google TPU v3 at 2021-06-24 22:00:00: 17187.2\n",
      "\n",
      "==== System: ByT5-XXL ====\n",
      "No training time found, assuming 32.083333333333336\n",
      "\n",
      "Found server price for Google TPU v3 at 2021-04-25 22:00:00: 17187.2\n",
      "\n",
      "==== System: ProtT5-XXL ====\n",
      "No training time found, assuming 32.083333333333336\n",
      "\n",
      "Found server price for Google TPU v3 at 2021-04-01 22:00:00: 17187.2\n",
      "\n",
      "==== System: Meta Pseudo Labels ====\n",
      "Found server price for Google TPU v3 at 2020-12-20 00:00:00: 17187.2\n",
      "\n",
      "==== System: Switch ====\n",
      "Found server price for Google TPU v3 at 2020-10-16 00:00:00: 17187.2\n",
      "\n",
      "==== System: DALL-E ====\n",
      "No training time found, assuming 32.083333333333336\n",
      "\n",
      "Soft matching NVIDIA Tesla V100 DGXS 16 GB to NVIDIA V100\n",
      "Found server price for NVIDIA Tesla V100 DGXS 16 GB at 2017-07-01 00:00:00: 14953.906393112291\n",
      "\n",
      "==== System: mT5-XXL ====\n",
      "Could not find hardware model for mT5-XXL\n",
      "\n",
      "\n",
      "==== System: GShard (dense) ====\n",
      "Found server price for Google TPU v3 at 2020-03-20 00:00:00: 17187.2\n",
      "\n",
      "==== System: iGPT-XL ====\n",
      "No training time found, assuming 32.083333333333336\n",
      "\n",
      "Found server price for NVIDIA Tesla V100 DGXS 32 GB at 2019-01-11 00:00:00: 25100.596493949735\n",
      "\n",
      "==== System: GPT-3 175B (davinci) ====\n",
      "Found server price for NVIDIA Tesla V100 DGXS 32 GB at 2019-01-11 00:00:00: 25100.596493949735\n",
      "\n",
      "==== System: Turing-NLG ====\n",
      "No training time found, assuming 32.083333333333336\n",
      "\n",
      "Found server price for NVIDIA Tesla V100 DGXS 32 GB at 2019-01-11 00:00:00: 25100.596493949735\n",
      "\n",
      "==== System: Meena ====\n",
      "Found server price for Google TPU v3 at 2019-10-30 00:00:00: 17187.2\n",
      "\n",
      "==== System: ContextNet + Noisy Student ====\n",
      "Found server price for Google TPU v3 at 2019-11-10 00:00:00: 17187.2\n",
      "\n",
      "==== System: OpenAI Five ====\n",
      "Could not find hardware model for OpenAI Five\n",
      "\n",
      "\n",
      "==== System: OpenAI Five Rerun ====\n",
      "Could not find hardware model for OpenAI Five Rerun\n",
      "\n",
      "\n",
      "==== System: AlphaStar ====\n",
      "Found server price for Google TPU v3 at 2019-07-18 00:00:00: 17187.2\n",
      "\n",
      "==== System: T5-11B ====\n",
      "Found server price for Google TPU v3 at 2019-08-03 23:00:00: 17187.2\n",
      "\n",
      "==== System: Megatron-BERT ====\n",
      "Soft matching NVIDIA Tesla V100S PCIe 32 GB to NVIDIA V100\n",
      "Found server price for NVIDIA Tesla V100S PCIe 32 GB at 2017-07-01 00:00:00: 10339.882837238758\n",
      "\n",
      "==== System: Megatron-LM (8.3B) ====\n",
      "Found server price for NVIDIA Tesla V100 DGXS 32 GB at 2019-01-11 00:00:00: 25100.596493949735\n",
      "\n",
      "==== System: RoBERTa Large ====\n",
      "Found server price for NVIDIA Tesla V100 DGXS 32 GB at 2019-01-11 00:00:00: 25100.596493949735\n",
      "\n",
      "==== System: GPT-2 (1.5B) ====\n",
      "Could not find hardware model for GPT-2 (1.5B)\n",
      "\n",
      "\n",
      "==== System: BERT-Large ====\n",
      "Found server price for Google TPU v2 at 2018-08-08 00:00:00: 29732.800000000003\n",
      "\n",
      "==== System: BigGAN-deep 512x512 ====\n",
      "Found server price for Google TPU v3 at 2018-07-28 00:00:00: 17187.2\n",
      "\n",
      "==== System: FTW ====\n",
      "Could not find hardware model for FTW\n",
      "\n",
      "\n",
      "==== System: ResNeXt-101 32x48d ====\n",
      "Could not find hardware model for ResNeXt-101 32x48d\n",
      "\n",
      "\n",
      "==== System: AmoebaNet-A (F=448) ====\n",
      "Found server price for NVIDIA Tesla K40s at 2016-01-01 00:00:00: 15607.92018419033\n",
      "\n",
      "==== System: IMPALA ====\n",
      "Could not find hardware model after soft matching: NVIDIA P100\n",
      "\n",
      "==== System: AlphaZero ====\n",
      "No training time found, assuming 32.083333333333336\n",
      "\n",
      "Found server price for Google TPU v2 at 2017-11-02 22:00:00: 29732.800000000003\n",
      "\n",
      "==== System: AlphaGo Zero ====\n",
      "Found server price for Google TPU v1 at 2017-07-30 00:00:00: 18020.8\n",
      "\n",
      "==== System: OpenAI TI7 DOTA 1v1 ====\n",
      "Could not find hardware model for OpenAI TI7 DOTA 1v1\n",
      "\n",
      "\n",
      "==== System: JFT ====\n",
      "Found server price for NVIDIA Tesla K80 at 2016-01-01 00:00:00: 9459.48231862924\n",
      "\n",
      "==== System: Libratus ====\n",
      "Could not find hardware model for Libratus\n",
      "\n",
      "\n",
      "==== System: AlphaGo Master ====\n",
      "No training time found, assuming 32.083333333333336\n",
      "\n",
      "Found server price for Google TPU v1 at 2016-11-29 22:00:00: 18020.8\n",
      "\n",
      "==== System: NASv3 (CIFAR-10) ====\n",
      "Could not find hardware model for NASv3 (CIFAR-10)\n",
      "\n",
      "\n",
      "==== System: Xception ====\n",
      "Found server price for NVIDIA Tesla K80 at 2016-01-01 00:00:00: 9459.48231862924\n",
      "\n",
      "==== System: GNMT ====\n",
      "Found server price for NVIDIA Tesla K80 at 2016-01-01 00:00:00: 9459.48231862924\n",
      "\n",
      "==== System: AlphaGo Lee ====\n",
      "Could not find hardware model for AlphaGo Lee\n",
      "\n",
      "\n",
      "==== System: DeepSpeech2 (English) ====\n",
      "No training time found, assuming 32.083333333333336\n",
      "\n",
      "Found server price for NVIDIA GTX Titan X at 2015-03-17 00:00:00: 1598.4\n",
      "\n",
      "==== System: AlphaGo Fan ====\n",
      "Could not find hardware model for AlphaGo Fan\n",
      "\n",
      "\n",
      "==== System: Gemini Ultra ====\n",
      "Estimated cost: 114855465.1086246\n",
      "==== System: Qwen-72B ====\n",
      "Unable to estimate cost\n",
      "==== System: Inflection-2 ====\n",
      "Imputing training time from compute and hardware\n",
      "Found NVIDIA H100 SXM5 at 989000000000000.0 FLOP/s\n",
      "Estimated cost: 19016556.81855528\n",
      "==== System: Yi-34B ====\n",
      "Unable to estimate cost\n",
      "==== System: ChatGLM3 ====\n",
      "Unable to estimate cost\n",
      "==== System: Falcon 180B ====\n",
      "Estimated cost: 35086238.73924812\n",
      "==== System: Llama 2-70B ====\n",
      "Estimated cost: 3362004.770812992\n",
      "==== System: Llama 2-34B ====\n",
      "Imputing training time from compute and hardware\n",
      "Found NVIDIA A100 SXM4 80 GB at 312000000000000.0 FLOP/s\n",
      "Estimated cost: 1507704.9990456067\n",
      "==== System: Claude 2 ====\n",
      "Unable to estimate cost\n",
      "==== System: xTrimoPGLM -100B ====\n",
      "Estimated cost: 5957350.9526015045\n",
      "==== System: PaLM 2 ====\n",
      "Imputing training time from compute and hardware\n",
      "Found Google TPU v4 at 275000000000000.0 FLOP/s\n",
      "Estimated cost: 17203124.454592485\n",
      "==== System: PanGu-Σ ====\n",
      "Unable to estimate cost\n",
      "==== System: GPT-4 ====\n",
      "Estimated cost: 113023297.80505952\n",
      "==== System: LLaMA-65B ====\n",
      "Estimated cost: 2365702.4941102606\n",
      "==== System: ViT-22B ====\n",
      "Imputing training time from compute and hardware\n",
      "Found Google TPU v4 at 275000000000000.0 FLOP/s\n",
      "Estimated cost: 937523.4077767766\n",
      "==== System: GPT-3.5 (text-davinci-003) ====\n",
      "Imputing training time from compute and hardware\n",
      "Found NVIDIA A100 SXM4 40 GB at 312000000000000.0 FLOP/s\n",
      "Estimated cost: 12148459.859981546\n",
      "==== System: Galactica ====\n",
      "Imputing training time from compute and hardware\n",
      "Found NVIDIA A100 SXM4 80 GB at 312000000000000.0 FLOP/s\n",
      "Estimated cost: 1198635.7713009233\n",
      "==== System: BLOOM-176B ====\n",
      "Estimated cost: 1688392.2660698453\n",
      "==== System: U-PaLM (540B) ====\n",
      "Estimated cost: 7372846.311520173\n",
      "==== System: BlenderBot 3 ====\n",
      "Imputing training time from compute and hardware\n",
      "Found NVIDIA A100 SXM4 40 GB at 312000000000000.0 FLOP/s\n",
      "Estimated cost: 3284677.802631776\n",
      "==== System: GLM-130B ====\n",
      "Estimated cost: 2195080.1612030077\n",
      "==== System: Minerva (540B) ====\n",
      "Estimated cost: 7939988.335483264\n",
      "==== System: Parti ====\n",
      "Imputing training time from compute and hardware\n",
      "Found Google TPU v4 at 275000000000000.0 FLOP/s\n",
      "Estimated cost: 929567.4348668249\n",
      "==== System: UL2 ====\n",
      "Estimated cost: 331724.580053883\n",
      "==== System: OPT-175B ====\n",
      "Estimated cost: 1266127.5954027185\n",
      "==== System: Flamingo ====\n",
      "Estimated cost: 481535.6807233785\n",
      "==== System: PaLM (540B) ====\n",
      "Estimated cost: 7319342.346995354\n",
      "==== System: Chinchilla ====\n",
      "Unable to estimate cost\n",
      "==== System: LaMDA ====\n",
      "Estimated cost: 1102853.3777544624\n",
      "==== System: GPT-NeoX-20B ====\n",
      "Estimated cost: 240152.23219288173\n",
      "==== System: AlphaCode ====\n",
      "Unable to estimate cost\n",
      "==== System: ERNIE 3.0 Titan ====\n",
      "Unable to estimate cost\n",
      "==== System: GLaM ====\n",
      "Estimated cost: 1213718.082349148\n",
      "==== System: Gopher (280B) ====\n",
      "Estimated cost: 2916883.84784381\n",
      "==== System: Yuan 1.0 ====\n",
      "Unable to estimate cost\n",
      "==== System: Megatron-Turing NLG 530B ====\n",
      "Estimated cost: 7292784.4213802805\n",
      "==== System: HyperCLOVA ====\n",
      "Estimated cost: 691381.7728\n",
      "==== System: GOAT ====\n",
      "Imputing training time from compute and hardware\n",
      "Found Google TPU v3 at 123000000000000.0 FLOP/s\n",
      "Estimated cost: 363602.6862120461\n",
      "==== System: ByT5-XXL ====\n",
      "Imputing training time from compute and hardware\n",
      "Found Google TPU v3 at 123000000000000.0 FLOP/s\n",
      "Estimated cost: 377587.4049125094\n",
      "==== System: ProtT5-XXL ====\n",
      "Imputing training time from compute and hardware\n",
      "Found Google TPU v3 at 123000000000000.0 FLOP/s\n",
      "Estimated cost: 343557.92274138203\n",
      "==== System: Meta Pseudo Labels ====\n",
      "Estimated cost: 209254.71082357768\n",
      "==== System: Switch ====\n",
      "Estimated cost: 513625.1992942361\n",
      "==== System: DALL-E ====\n",
      "Imputing training time from compute and hardware\n",
      "Found NVIDIA Tesla V100 DGXS 16 GB at 125000000000000.0 FLOP/s\n",
      "Estimated cost: 191504.8810888803\n",
      "==== System: mT5-XXL ====\n",
      "Unable to estimate cost\n",
      "==== System: GShard (dense) ====\n",
      "Estimated cost: 797325.4258376799\n",
      "==== System: iGPT-XL ====\n",
      "Imputing training time from compute and hardware\n",
      "Found NVIDIA Tesla V100 DGXS 32 GB at 125000000000000.0 FLOP/s\n",
      "Estimated cost: 220763.38926810765\n",
      "==== System: GPT-3 175B (davinci) ====\n",
      "Estimated cost: 4009865.9250698104\n",
      "==== System: Turing-NLG ====\n",
      "Imputing training time from compute and hardware\n",
      "Found NVIDIA Tesla V100 DGXS 32 GB at 125000000000000.0 FLOP/s\n",
      "Estimated cost: 104680.79156088759\n",
      "==== System: Meena ====\n",
      "Estimated cost: 569518.1613126284\n",
      "==== System: ContextNet + Noisy Student ====\n",
      "Imputing training time from compute and hardware\n",
      "Found Google TPU v3 at 123000000000000.0 FLOP/s\n",
      "Estimated cost: 25120.59979254127\n",
      "==== System: OpenAI Five ====\n",
      "Unable to estimate cost\n",
      "==== System: OpenAI Five Rerun ====\n",
      "Unable to estimate cost\n",
      "==== System: AlphaStar ====\n",
      "Estimated cost: 313412.61784327694\n",
      "==== System: T5-11B ====\n",
      "Estimated cost: 190698.9148215595\n",
      "==== System: Megatron-BERT ====\n",
      "Estimated cost: 341214.23949335015\n",
      "==== System: Megatron-LM (8.3B) ====\n",
      "Estimated cost: 189115.4442519392\n",
      "==== System: RoBERTa Large ====\n",
      "Estimated cost: 138329.6188564691\n",
      "==== System: GPT-2 (1.5B) ====\n",
      "Unable to estimate cost\n",
      "==== System: BERT-Large ====\n",
      "Estimated cost: 8080.789386071685\n",
      "==== System: BigGAN-deep 512x512 ====\n",
      "Estimated cost: 9501.581320650475\n",
      "==== System: FTW ====\n",
      "Unable to estimate cost\n",
      "==== System: ResNeXt-101 32x48d ====\n",
      "Unable to estimate cost\n",
      "==== System: AmoebaNet-A (F=448) ====\n",
      "Estimated cost: 53502.436812349966\n",
      "==== System: IMPALA ====\n",
      "Unable to estimate cost\n",
      "==== System: AlphaZero ====\n",
      "Imputing training time from compute and hardware\n",
      "Found Google TPU v2 at 45000000000000.0 FLOP/s\n",
      "Estimated cost: 794050.874446191\n",
      "==== System: AlphaGo Zero ====\n",
      "Imputing training time from compute and hardware\n",
      "Estimated cost: 2183259.0030871555\n",
      "==== System: OpenAI TI7 DOTA 1v1 ====\n",
      "Unable to estimate cost\n",
      "==== System: JFT ====\n",
      "Estimated cost: 31990.277578709443\n",
      "==== System: Libratus ====\n",
      "Unable to estimate cost\n",
      "==== System: AlphaGo Master ====\n",
      "Imputing training time from compute and hardware\n",
      "Estimated cost: 960377.8605955229\n",
      "==== System: NASv3 (CIFAR-10) ====\n",
      "Unable to estimate cost\n",
      "==== System: Xception ====\n",
      "Estimated cost: 19171.071827225667\n",
      "==== System: GNMT ====\n",
      "Estimated cost: 184042.2895413664\n",
      "==== System: AlphaGo Lee ====\n",
      "Unable to estimate cost\n",
      "==== System: DeepSpeech2 (English) ====\n",
      "Imputing training time from compute and hardware\n",
      "Found NVIDIA GTX Titan X at 6690000000000.0 FLOP/s\n",
      "Estimated cost: 237.619371134598\n",
      "==== System: AlphaGo Fan ====\n",
      "Unable to estimate cost\n",
      "{'Gemini Ultra': 114855465.1086246, 'Inflection-2': 19016556.81855528, 'Falcon 180B': 35086238.73924812, 'Llama 2-70B': 3362004.770812992, 'Llama 2-34B': 1507704.9990456067, 'xTrimoPGLM -100B': 5957350.9526015045, 'PaLM 2': 17203124.454592485, 'GPT-4': 113023297.80505952, 'LLaMA-65B': 2365702.4941102606, 'ViT-22B': 937523.4077767766, 'GPT-3.5 (text-davinci-003)': 12148459.859981546, 'Galactica': 1198635.7713009233, 'BLOOM-176B': 1688392.2660698453, 'U-PaLM (540B)': 7372846.311520173, 'BlenderBot 3': 3284677.802631776, 'GLM-130B': 2195080.1612030077, 'Minerva (540B)': 7939988.335483264, 'Parti': 929567.4348668249, 'UL2': 331724.580053883, 'OPT-175B': 1266127.5954027185, 'Flamingo': 481535.6807233785, 'PaLM (540B)': 7319342.346995354, 'LaMDA': 1102853.3777544624, 'GPT-NeoX-20B': 240152.23219288173, 'GLaM': 1213718.082349148, 'Gopher (280B)': 2916883.84784381, 'Megatron-Turing NLG 530B': 7292784.4213802805, 'HyperCLOVA': 691381.7728, 'GOAT': 363602.6862120461, 'ByT5-XXL': 377587.4049125094, 'ProtT5-XXL': 343557.92274138203, 'Meta Pseudo Labels': 209254.71082357768, 'Switch': 513625.1992942361, 'DALL-E': 191504.8810888803, 'GShard (dense)': 797325.4258376799, 'iGPT-XL': 220763.38926810765, 'GPT-3 175B (davinci)': 4009865.9250698104, 'Turing-NLG': 104680.79156088759, 'Meena': 569518.1613126284, 'ContextNet + Noisy Student': 25120.59979254127, 'AlphaStar': 313412.61784327694, 'T5-11B': 190698.9148215595, 'Megatron-BERT': 341214.23949335015, 'Megatron-LM (8.3B)': 189115.4442519392, 'RoBERTa Large': 138329.6188564691, 'BERT-Large': 8080.789386071685, 'BigGAN-deep 512x512': 9501.581320650475, 'AmoebaNet-A (F=448)': 53502.436812349966, 'AlphaZero': 794050.874446191, 'AlphaGo Zero': 2183259.0030871555, 'JFT': 31990.277578709443, 'AlphaGo Master': 960377.8605955229, 'Xception': 19171.071827225667, 'GNMT': 184042.2895413664, 'DeepSpeech2 (English)': 237.619371134598}\n"
     ]
    }
   ],
   "source": [
    "cost_df = cost_estimation_function(frontier_pcd_df, hardware_df, price_df)"
   ]
  },
  {
   "cell_type": "code",
   "execution_count": 7,
   "metadata": {
    "ExecuteTime": {
     "end_time": "2024-03-08T01:54:57.967995500Z",
     "start_time": "2024-03-08T01:54:57.807954200Z"
    }
   },
   "outputs": [
    {
     "data": {
      "text/html": [
       "<div>\n",
       "<style scoped>\n",
       "    .dataframe tbody tr th:only-of-type {\n",
       "        vertical-align: middle;\n",
       "    }\n",
       "\n",
       "    .dataframe tbody tr th {\n",
       "        vertical-align: top;\n",
       "    }\n",
       "\n",
       "    .dataframe thead th {\n",
       "        text-align: right;\n",
       "    }\n",
       "</style>\n",
       "<table border=\"1\" class=\"dataframe\">\n",
       "  <thead>\n",
       "    <tr style=\"text-align: right;\">\n",
       "      <th></th>\n",
       "      <th>System</th>\n",
       "      <th>Domain</th>\n",
       "      <th>Task</th>\n",
       "      <th>Authors</th>\n",
       "      <th>Notability criteria</th>\n",
       "      <th>Notability criteria notes</th>\n",
       "      <th>Model accessibility</th>\n",
       "      <th>Link</th>\n",
       "      <th>Citations</th>\n",
       "      <th>Reference</th>\n",
       "      <th>...</th>\n",
       "      <th>Batch size notes</th>\n",
       "      <th>Organization categorization</th>\n",
       "      <th>Foundation model</th>\n",
       "      <th>Training compute lower bound</th>\n",
       "      <th>Training compute upper bound</th>\n",
       "      <th>Training chip-hours</th>\n",
       "      <th>Code accessibility</th>\n",
       "      <th>Dataset accessibility</th>\n",
       "      <th>Accessibility notes</th>\n",
       "      <th>Cost</th>\n",
       "    </tr>\n",
       "  </thead>\n",
       "  <tbody>\n",
       "    <tr>\n",
       "      <th>39</th>\n",
       "      <td>Gemini Ultra</td>\n",
       "      <td>Multimodal</td>\n",
       "      <td>Language modelling,Visual question answering,C...</td>\n",
       "      <td>Gemini Team</td>\n",
       "      <td>SOTA improvement</td>\n",
       "      <td>\" Evaluation on a broad range of benchmarks sh...</td>\n",
       "      <td>Hosted access (no API)</td>\n",
       "      <td>https://storage.googleapis.com/deepmind-media/...</td>\n",
       "      <td>252.0</td>\n",
       "      <td>Gemini: A Family of Highly Capable Multimodal ...</td>\n",
       "      <td>...</td>\n",
       "      <td>NaN</td>\n",
       "      <td>Industry</td>\n",
       "      <td>NaN</td>\n",
       "      <td>NaN</td>\n",
       "      <td>NaN</td>\n",
       "      <td>132000000.0</td>\n",
       "      <td>NaN</td>\n",
       "      <td>NaN</td>\n",
       "      <td>NaN</td>\n",
       "      <td>1.148555e+08</td>\n",
       "    </tr>\n",
       "    <tr>\n",
       "      <th>46</th>\n",
       "      <td>Qwen-72B</td>\n",
       "      <td>Language</td>\n",
       "      <td>Chat,Code generation</td>\n",
       "      <td>Jinze Bai, Shuai Bai, Yunfei Chu, Zeyu Cui, Ka...</td>\n",
       "      <td>SOTA improvement</td>\n",
       "      <td>SOTA on several Chinese benchmarks, with highe...</td>\n",
       "      <td>Permissive license (depr.)</td>\n",
       "      <td>https://huggingface.co/Qwen/Qwen-72B</td>\n",
       "      <td>NaN</td>\n",
       "      <td>NaN</td>\n",
       "      <td>...</td>\n",
       "      <td>Table 1 https://arxiv.org/abs/2309.16609\\n(thi...</td>\n",
       "      <td>Industry</td>\n",
       "      <td>NaN</td>\n",
       "      <td>NaN</td>\n",
       "      <td>NaN</td>\n",
       "      <td>NaN</td>\n",
       "      <td>NaN</td>\n",
       "      <td>NaN</td>\n",
       "      <td>NaN</td>\n",
       "      <td>NaN</td>\n",
       "    </tr>\n",
       "    <tr>\n",
       "      <th>54</th>\n",
       "      <td>Inflection-2</td>\n",
       "      <td>Language</td>\n",
       "      <td>Language modelling</td>\n",
       "      <td>NaN</td>\n",
       "      <td>Significant use</td>\n",
       "      <td>Inflection-2 either already powers Pi or soon ...</td>\n",
       "      <td>API access</td>\n",
       "      <td>https://inflection.ai/inflection-2</td>\n",
       "      <td>NaN</td>\n",
       "      <td>Inflection-2: The Next Step Up</td>\n",
       "      <td>...</td>\n",
       "      <td>NaN</td>\n",
       "      <td>Industry</td>\n",
       "      <td>checked</td>\n",
       "      <td>NaN</td>\n",
       "      <td>NaN</td>\n",
       "      <td>NaN</td>\n",
       "      <td>NaN</td>\n",
       "      <td>NaN</td>\n",
       "      <td>NaN</td>\n",
       "      <td>1.901656e+07</td>\n",
       "    </tr>\n",
       "    <tr>\n",
       "      <th>83</th>\n",
       "      <td>Yi-34B</td>\n",
       "      <td>Language</td>\n",
       "      <td>Chat</td>\n",
       "      <td>NaN</td>\n",
       "      <td>Significant use</td>\n",
       "      <td>2nd most popular model on HuggingFace: https:/...</td>\n",
       "      <td>Permissive license (depr.)</td>\n",
       "      <td>https://arxiv.org/abs/2403.04652</td>\n",
       "      <td>NaN</td>\n",
       "      <td>NaN</td>\n",
       "      <td>...</td>\n",
       "      <td>NaN</td>\n",
       "      <td>Industry</td>\n",
       "      <td>NaN</td>\n",
       "      <td>NaN</td>\n",
       "      <td>NaN</td>\n",
       "      <td>NaN</td>\n",
       "      <td>NaN</td>\n",
       "      <td>NaN</td>\n",
       "      <td>NaN</td>\n",
       "      <td>NaN</td>\n",
       "    </tr>\n",
       "    <tr>\n",
       "      <th>92</th>\n",
       "      <td>ChatGLM3</td>\n",
       "      <td>Multimodal</td>\n",
       "      <td>Chat,Visual question answering</td>\n",
       "      <td>NaN</td>\n",
       "      <td>SOTA improvement</td>\n",
       "      <td>Aiming at GPT-4V, ChatGLM3 has implemented ite...</td>\n",
       "      <td>NaN</td>\n",
       "      <td>https://www.zhipuai.cn/en/news/76</td>\n",
       "      <td>NaN</td>\n",
       "      <td>Zhipu AI launches third-generation base model</td>\n",
       "      <td>...</td>\n",
       "      <td>NaN</td>\n",
       "      <td>Industry</td>\n",
       "      <td>checked</td>\n",
       "      <td>NaN</td>\n",
       "      <td>NaN</td>\n",
       "      <td>NaN</td>\n",
       "      <td>NaN</td>\n",
       "      <td>NaN</td>\n",
       "      <td>NaN</td>\n",
       "      <td>NaN</td>\n",
       "    </tr>\n",
       "    <tr>\n",
       "      <th>...</th>\n",
       "      <td>...</td>\n",
       "      <td>...</td>\n",
       "      <td>...</td>\n",
       "      <td>...</td>\n",
       "      <td>...</td>\n",
       "      <td>...</td>\n",
       "      <td>...</td>\n",
       "      <td>...</td>\n",
       "      <td>...</td>\n",
       "      <td>...</td>\n",
       "      <td>...</td>\n",
       "      <td>...</td>\n",
       "      <td>...</td>\n",
       "      <td>...</td>\n",
       "      <td>...</td>\n",
       "      <td>...</td>\n",
       "      <td>...</td>\n",
       "      <td>...</td>\n",
       "      <td>...</td>\n",
       "      <td>...</td>\n",
       "      <td>...</td>\n",
       "    </tr>\n",
       "    <tr>\n",
       "      <th>1094</th>\n",
       "      <td>Xception</td>\n",
       "      <td>Vision</td>\n",
       "      <td>Image classification</td>\n",
       "      <td>François Chollet</td>\n",
       "      <td>Highly cited</td>\n",
       "      <td>NaN</td>\n",
       "      <td>NaN</td>\n",
       "      <td>https://arxiv.org/abs/1610.02357</td>\n",
       "      <td>11338.0</td>\n",
       "      <td>Xception: Deep Learning with Depthwise Separab...</td>\n",
       "      <td>...</td>\n",
       "      <td>NaN</td>\n",
       "      <td>Industry</td>\n",
       "      <td>NaN</td>\n",
       "      <td>NaN</td>\n",
       "      <td>NaN</td>\n",
       "      <td>43200.0</td>\n",
       "      <td>NaN</td>\n",
       "      <td>NaN</td>\n",
       "      <td>NaN</td>\n",
       "      <td>1.917107e+04</td>\n",
       "    </tr>\n",
       "    <tr>\n",
       "      <th>1095</th>\n",
       "      <td>GNMT</td>\n",
       "      <td>Language</td>\n",
       "      <td>Translation</td>\n",
       "      <td>Yonghui Wu, Mike Schuster, Zhifeng Chen, Quoc ...</td>\n",
       "      <td>Highly cited</td>\n",
       "      <td>NaN</td>\n",
       "      <td>NaN</td>\n",
       "      <td>https://arxiv.org/abs/1609.08144</td>\n",
       "      <td>6105.0</td>\n",
       "      <td>Google's Neural Machine Translation System: Br...</td>\n",
       "      <td>...</td>\n",
       "      <td>NaN</td>\n",
       "      <td>Industry</td>\n",
       "      <td>NaN</td>\n",
       "      <td>NaN</td>\n",
       "      <td>NaN</td>\n",
       "      <td>414720.0</td>\n",
       "      <td>NaN</td>\n",
       "      <td>NaN</td>\n",
       "      <td>NaN</td>\n",
       "      <td>1.840423e+05</td>\n",
       "    </tr>\n",
       "    <tr>\n",
       "      <th>1131</th>\n",
       "      <td>AlphaGo Lee</td>\n",
       "      <td>Games</td>\n",
       "      <td>Go</td>\n",
       "      <td>David Silver, Aja Huang, Chris J. Maddison, Ar...</td>\n",
       "      <td>Highly cited</td>\n",
       "      <td>NaN</td>\n",
       "      <td>NaN</td>\n",
       "      <td>https://www.nature.com/articles/nature16961</td>\n",
       "      <td>14733.0</td>\n",
       "      <td>Mastering the game of Go with deep neural netw...</td>\n",
       "      <td>...</td>\n",
       "      <td>NaN</td>\n",
       "      <td>Industry</td>\n",
       "      <td>NaN</td>\n",
       "      <td>NaN</td>\n",
       "      <td>NaN</td>\n",
       "      <td>NaN</td>\n",
       "      <td>NaN</td>\n",
       "      <td>NaN</td>\n",
       "      <td>NaN</td>\n",
       "      <td>NaN</td>\n",
       "    </tr>\n",
       "    <tr>\n",
       "      <th>1137</th>\n",
       "      <td>DeepSpeech2 (English)</td>\n",
       "      <td>Speech</td>\n",
       "      <td>Speech recognition</td>\n",
       "      <td>Dario Amodei, Rishita Anubhai, Eric Battenberg...</td>\n",
       "      <td>Highly cited</td>\n",
       "      <td>NaN</td>\n",
       "      <td>NaN</td>\n",
       "      <td>https://arxiv.org/abs/1512.02595</td>\n",
       "      <td>2741.0</td>\n",
       "      <td>Deep Speech 2: End-to-End Speech Recognition i...</td>\n",
       "      <td>...</td>\n",
       "      <td>NaN</td>\n",
       "      <td>Industry</td>\n",
       "      <td>NaN</td>\n",
       "      <td>NaN</td>\n",
       "      <td>NaN</td>\n",
       "      <td>301.0</td>\n",
       "      <td>NaN</td>\n",
       "      <td>NaN</td>\n",
       "      <td>NaN</td>\n",
       "      <td>2.376194e+02</td>\n",
       "    </tr>\n",
       "    <tr>\n",
       "      <th>1141</th>\n",
       "      <td>AlphaGo Fan</td>\n",
       "      <td>Games</td>\n",
       "      <td>Go</td>\n",
       "      <td>David Silver, Aja Huang, Chris J. Maddison, Ar...</td>\n",
       "      <td>Highly cited,SOTA improvement</td>\n",
       "      <td>NaN</td>\n",
       "      <td>NaN</td>\n",
       "      <td>https://www.nature.com/articles/nature24270.ep...</td>\n",
       "      <td>14733.0</td>\n",
       "      <td>Mastering the game of Go with deep neural netw...</td>\n",
       "      <td>...</td>\n",
       "      <td>NaN</td>\n",
       "      <td>Industry</td>\n",
       "      <td>NaN</td>\n",
       "      <td>NaN</td>\n",
       "      <td>NaN</td>\n",
       "      <td>NaN</td>\n",
       "      <td>NaN</td>\n",
       "      <td>NaN</td>\n",
       "      <td>NaN</td>\n",
       "      <td>NaN</td>\n",
       "    </tr>\n",
       "  </tbody>\n",
       "</table>\n",
       "<p>76 rows × 57 columns</p>\n",
       "</div>"
      ],
      "text/plain": [
       "                     System      Domain  \\\n",
       "39             Gemini Ultra  Multimodal   \n",
       "46                 Qwen-72B    Language   \n",
       "54             Inflection-2    Language   \n",
       "83                   Yi-34B    Language   \n",
       "92                 ChatGLM3  Multimodal   \n",
       "...                     ...         ...   \n",
       "1094               Xception      Vision   \n",
       "1095                   GNMT    Language   \n",
       "1131            AlphaGo Lee       Games   \n",
       "1137  DeepSpeech2 (English)      Speech   \n",
       "1141            AlphaGo Fan       Games   \n",
       "\n",
       "                                                   Task  \\\n",
       "39    Language modelling,Visual question answering,C...   \n",
       "46                                 Chat,Code generation   \n",
       "54                                   Language modelling   \n",
       "83                                                 Chat   \n",
       "92                       Chat,Visual question answering   \n",
       "...                                                 ...   \n",
       "1094                               Image classification   \n",
       "1095                                        Translation   \n",
       "1131                                                 Go   \n",
       "1137                                 Speech recognition   \n",
       "1141                                                 Go   \n",
       "\n",
       "                                                Authors  \\\n",
       "39                                          Gemini Team   \n",
       "46    Jinze Bai, Shuai Bai, Yunfei Chu, Zeyu Cui, Ka...   \n",
       "54                                                  NaN   \n",
       "83                                                  NaN   \n",
       "92                                                  NaN   \n",
       "...                                                 ...   \n",
       "1094                                   François Chollet   \n",
       "1095  Yonghui Wu, Mike Schuster, Zhifeng Chen, Quoc ...   \n",
       "1131  David Silver, Aja Huang, Chris J. Maddison, Ar...   \n",
       "1137  Dario Amodei, Rishita Anubhai, Eric Battenberg...   \n",
       "1141  David Silver, Aja Huang, Chris J. Maddison, Ar...   \n",
       "\n",
       "                Notability criteria  \\\n",
       "39                 SOTA improvement   \n",
       "46                 SOTA improvement   \n",
       "54                  Significant use   \n",
       "83                  Significant use   \n",
       "92                 SOTA improvement   \n",
       "...                             ...   \n",
       "1094                   Highly cited   \n",
       "1095                   Highly cited   \n",
       "1131                   Highly cited   \n",
       "1137                   Highly cited   \n",
       "1141  Highly cited,SOTA improvement   \n",
       "\n",
       "                              Notability criteria notes  \\\n",
       "39    \" Evaluation on a broad range of benchmarks sh...   \n",
       "46    SOTA on several Chinese benchmarks, with highe...   \n",
       "54    Inflection-2 either already powers Pi or soon ...   \n",
       "83    2nd most popular model on HuggingFace: https:/...   \n",
       "92    Aiming at GPT-4V, ChatGLM3 has implemented ite...   \n",
       "...                                                 ...   \n",
       "1094                                                NaN   \n",
       "1095                                                NaN   \n",
       "1131                                                NaN   \n",
       "1137                                                NaN   \n",
       "1141                                                NaN   \n",
       "\n",
       "             Model accessibility  \\\n",
       "39        Hosted access (no API)   \n",
       "46    Permissive license (depr.)   \n",
       "54                    API access   \n",
       "83    Permissive license (depr.)   \n",
       "92                           NaN   \n",
       "...                          ...   \n",
       "1094                         NaN   \n",
       "1095                         NaN   \n",
       "1131                         NaN   \n",
       "1137                         NaN   \n",
       "1141                         NaN   \n",
       "\n",
       "                                                   Link  Citations  \\\n",
       "39    https://storage.googleapis.com/deepmind-media/...      252.0   \n",
       "46                 https://huggingface.co/Qwen/Qwen-72B        NaN   \n",
       "54                   https://inflection.ai/inflection-2        NaN   \n",
       "83                     https://arxiv.org/abs/2403.04652        NaN   \n",
       "92                    https://www.zhipuai.cn/en/news/76        NaN   \n",
       "...                                                 ...        ...   \n",
       "1094                   https://arxiv.org/abs/1610.02357    11338.0   \n",
       "1095                   https://arxiv.org/abs/1609.08144     6105.0   \n",
       "1131        https://www.nature.com/articles/nature16961    14733.0   \n",
       "1137                   https://arxiv.org/abs/1512.02595     2741.0   \n",
       "1141  https://www.nature.com/articles/nature24270.ep...    14733.0   \n",
       "\n",
       "                                              Reference  ...  \\\n",
       "39    Gemini: A Family of Highly Capable Multimodal ...  ...   \n",
       "46                                                  NaN  ...   \n",
       "54                       Inflection-2: The Next Step Up  ...   \n",
       "83                                                  NaN  ...   \n",
       "92        Zhipu AI launches third-generation base model  ...   \n",
       "...                                                 ...  ...   \n",
       "1094  Xception: Deep Learning with Depthwise Separab...  ...   \n",
       "1095  Google's Neural Machine Translation System: Br...  ...   \n",
       "1131  Mastering the game of Go with deep neural netw...  ...   \n",
       "1137  Deep Speech 2: End-to-End Speech Recognition i...  ...   \n",
       "1141  Mastering the game of Go with deep neural netw...  ...   \n",
       "\n",
       "                                       Batch size notes  \\\n",
       "39                                                  NaN   \n",
       "46    Table 1 https://arxiv.org/abs/2309.16609\\n(thi...   \n",
       "54                                                  NaN   \n",
       "83                                                  NaN   \n",
       "92                                                  NaN   \n",
       "...                                                 ...   \n",
       "1094                                                NaN   \n",
       "1095                                                NaN   \n",
       "1131                                                NaN   \n",
       "1137                                                NaN   \n",
       "1141                                                NaN   \n",
       "\n",
       "     Organization categorization  Foundation model  \\\n",
       "39                      Industry               NaN   \n",
       "46                      Industry               NaN   \n",
       "54                      Industry           checked   \n",
       "83                      Industry               NaN   \n",
       "92                      Industry           checked   \n",
       "...                          ...               ...   \n",
       "1094                    Industry               NaN   \n",
       "1095                    Industry               NaN   \n",
       "1131                    Industry               NaN   \n",
       "1137                    Industry               NaN   \n",
       "1141                    Industry               NaN   \n",
       "\n",
       "     Training compute lower bound  Training compute upper bound  \\\n",
       "39                            NaN                           NaN   \n",
       "46                            NaN                           NaN   \n",
       "54                            NaN                           NaN   \n",
       "83                            NaN                           NaN   \n",
       "92                            NaN                           NaN   \n",
       "...                           ...                           ...   \n",
       "1094                          NaN                           NaN   \n",
       "1095                          NaN                           NaN   \n",
       "1131                          NaN                           NaN   \n",
       "1137                          NaN                           NaN   \n",
       "1141                          NaN                           NaN   \n",
       "\n",
       "     Training chip-hours Code accessibility Dataset accessibility  \\\n",
       "39           132000000.0                NaN                   NaN   \n",
       "46                   NaN                NaN                   NaN   \n",
       "54                   NaN                NaN                   NaN   \n",
       "83                   NaN                NaN                   NaN   \n",
       "92                   NaN                NaN                   NaN   \n",
       "...                  ...                ...                   ...   \n",
       "1094             43200.0                NaN                   NaN   \n",
       "1095            414720.0                NaN                   NaN   \n",
       "1131                 NaN                NaN                   NaN   \n",
       "1137               301.0                NaN                   NaN   \n",
       "1141                 NaN                NaN                   NaN   \n",
       "\n",
       "      Accessibility notes          Cost  \n",
       "39                    NaN  1.148555e+08  \n",
       "46                    NaN           NaN  \n",
       "54                    NaN  1.901656e+07  \n",
       "83                    NaN           NaN  \n",
       "92                    NaN           NaN  \n",
       "...                   ...           ...  \n",
       "1094                  NaN  1.917107e+04  \n",
       "1095                  NaN  1.840423e+05  \n",
       "1131                  NaN           NaN  \n",
       "1137                  NaN  2.376194e+02  \n",
       "1141                  NaN           NaN  \n",
       "\n",
       "[76 rows x 57 columns]"
      ]
     },
     "execution_count": 7,
     "metadata": {},
     "output_type": "execute_result"
    }
   ],
   "source": [
    "cost_df"
   ]
  },
  {
   "cell_type": "code",
   "execution_count": 8,
   "metadata": {
    "ExecuteTime": {
     "end_time": "2024-03-08T01:54:58.104807Z",
     "start_time": "2024-03-08T01:54:57.967995500Z"
    }
   },
   "outputs": [
    {
     "data": {
      "text/plain": [
       "55"
      ]
     },
     "execution_count": 8,
     "metadata": {},
     "output_type": "execute_result"
    }
   ],
   "source": [
    "cost_df['Cost'].notna().sum()"
   ]
  },
  {
   "cell_type": "markdown",
   "metadata": {},
   "source": [
    "Use the below to check data availability for specific systems"
   ]
  },
  {
   "cell_type": "code",
   "execution_count": 9,
   "metadata": {
    "ExecuteTime": {
     "end_time": "2024-03-08T01:54:58.418907200Z",
     "start_time": "2024-03-08T01:54:58.109807800Z"
    }
   },
   "outputs": [],
   "source": [
    "# system = 'WizardLM-7B'\n",
    "# row = cost_df.loc[cost_df['System'] == system]\n",
    "# print('Cost:', row['Cost'].values[0])\n",
    "# print('Training hardware:', row['Training hardware'].values[0])\n",
    "# print('Training time (hours):', row['Training time (hours)'].values[0])\n",
    "# print('Hardware quantity:', row['Hardware quantity'].values[0])\n",
    "# print('Hardware utilization:', row['Hardware utilization'].values[0])"
   ]
  },
  {
   "cell_type": "markdown",
   "metadata": {},
   "source": [
    "# Apply inflation adjustment"
   ]
  },
  {
   "cell_type": "code",
   "execution_count": 10,
   "metadata": {
    "ExecuteTime": {
     "end_time": "2024-03-08T01:54:58.434584400Z",
     "start_time": "2024-03-08T01:54:58.277972800Z"
    }
   },
   "outputs": [],
   "source": [
    "# TODO move to function"
   ]
  },
  {
   "cell_type": "code",
   "execution_count": 11,
   "metadata": {
    "ExecuteTime": {
     "end_time": "2024-03-08T01:54:58.565500700Z",
     "start_time": "2024-03-08T01:54:58.403286900Z"
    }
   },
   "outputs": [
    {
     "data": {
      "text/plain": [
       "39     2023-12-06\n",
       "46     2023-11-30\n",
       "54     2023-11-22\n",
       "83     2023-11-02\n",
       "92     2023-10-27\n",
       "          ...    \n",
       "1094   2016-10-07\n",
       "1095   2016-09-26\n",
       "1131   2016-01-27\n",
       "1137   2015-12-08\n",
       "1141   2015-10-01\n",
       "Name: Publication date, Length: 76, dtype: datetime64[ns]"
      ]
     },
     "execution_count": 11,
     "metadata": {},
     "output_type": "execute_result"
    }
   ],
   "source": [
    "cost_df['Publication date']"
   ]
  },
  {
   "cell_type": "code",
   "execution_count": 12,
   "metadata": {
    "ExecuteTime": {
     "end_time": "2024-03-08T01:54:58.726981500Z",
     "start_time": "2024-03-08T01:54:58.565500700Z"
    }
   },
   "outputs": [],
   "source": [
    "from_year_month = cost_df['Publication date'].apply(str)\n",
    "cost_df['Publication date'] = from_year_month"
   ]
  },
  {
   "cell_type": "code",
   "execution_count": 13,
   "metadata": {
    "ExecuteTime": {
     "end_time": "2024-03-08T01:54:58.913441700Z",
     "start_time": "2024-03-08T01:54:58.711492Z"
    }
   },
   "outputs": [
    {
     "data": {
      "text/plain": [
       "39      2023-12-06 00:00:00\n",
       "46      2023-11-30 00:00:00\n",
       "54      2023-11-22 00:00:00\n",
       "83      2023-11-02 00:00:00\n",
       "92      2023-10-27 00:00:00\n",
       "               ...         \n",
       "1094    2016-10-07 00:00:00\n",
       "1095    2016-09-26 00:00:00\n",
       "1131    2016-01-27 00:00:00\n",
       "1137    2015-12-08 00:00:00\n",
       "1141    2015-10-01 00:00:00\n",
       "Name: Publication date, Length: 76, dtype: object"
      ]
     },
     "execution_count": 13,
     "metadata": {},
     "output_type": "execute_result"
    }
   ],
   "source": [
    "cost_df['Publication date']"
   ]
  },
  {
   "cell_type": "code",
   "execution_count": 14,
   "metadata": {
    "ExecuteTime": {
     "end_time": "2024-03-08T01:54:59.049781600Z",
     "start_time": "2024-03-08T01:54:58.881981400Z"
    }
   },
   "outputs": [],
   "source": [
    "cost_df = adjust_column_for_inflation(cost_df, 'Cost', 'data/PCU518210518210.csv', '2023-12-01')"
   ]
  },
  {
   "cell_type": "code",
   "execution_count": 15,
   "metadata": {
    "ExecuteTime": {
     "end_time": "2024-03-08T01:54:59.177190500Z",
     "start_time": "2024-03-08T01:54:59.049781600Z"
    }
   },
   "outputs": [
    {
     "data": {
      "text/plain": [
       "39      1.148555e+08\n",
       "54      1.906107e+07\n",
       "135     3.530364e+07\n",
       "174     3.381179e+06\n",
       "175     1.516304e+06\n",
       "186     5.991327e+06\n",
       "224     1.738009e+07\n",
       "263     1.142364e+08\n",
       "279     2.395916e+06\n",
       "285     9.494968e+05\n",
       "323     1.239271e+07\n",
       "329     1.222735e+06\n",
       "334     1.722338e+06\n",
       "349     7.521468e+06\n",
       "374     3.350201e+06\n",
       "375     2.238868e+06\n",
       "396     8.089851e+06\n",
       "402     9.471124e+05\n",
       "436     3.369732e+05\n",
       "439     1.286161e+06\n",
       "440     4.895098e+05\n",
       "448     7.440549e+06\n",
       "470     1.140153e+06\n",
       "472     2.482744e+05\n",
       "499     1.252483e+06\n",
       "503     3.010045e+06\n",
       "542     7.523424e+06\n",
       "549     7.145105e+05\n",
       "569     3.751311e+05\n",
       "591     3.904798e+05\n",
       "599     3.552884e+05\n",
       "637     2.162117e+05\n",
       "652     5.330149e+05\n",
       "655     1.987343e+05\n",
       "715     8.317760e+05\n",
       "717     2.303021e+05\n",
       "724     4.208945e+06\n",
       "759     1.097811e+05\n",
       "764     5.983208e+05\n",
       "765     2.639104e+04\n",
       "791     3.339794e+05\n",
       "795     2.032130e+05\n",
       "809     3.639313e+05\n",
       "810     2.017062e+05\n",
       "835     1.488732e+05\n",
       "918     8.696712e+03\n",
       "921     1.023505e+04\n",
       "982     5.773704e+04\n",
       "992     8.584548e+05\n",
       "1008    2.360339e+06\n",
       "1041    3.455356e+04\n",
       "1067    1.048750e+06\n",
       "1094    2.093516e+04\n",
       "1095    2.009776e+05\n",
       "1137    2.643349e+02\n",
       "Name: Cost (inflation-adjusted), dtype: float64"
      ]
     },
     "execution_count": 15,
     "metadata": {},
     "output_type": "execute_result"
    }
   ],
   "source": [
    "cost_df['Cost (inflation-adjusted)'].dropna()"
   ]
  },
  {
   "cell_type": "code",
   "execution_count": 16,
   "metadata": {
    "ExecuteTime": {
     "end_time": "2024-03-08T01:54:59.344452300Z",
     "start_time": "2024-03-08T01:54:59.182457200Z"
    }
   },
   "outputs": [
    {
     "data": {
      "text/plain": [
       "55"
      ]
     },
     "execution_count": 16,
     "metadata": {},
     "output_type": "execute_result"
    }
   ],
   "source": [
    "cost_df['Cost (inflation-adjusted)'].notna().sum()"
   ]
  },
  {
   "cell_type": "markdown",
   "metadata": {},
   "source": [
    "# Regression"
   ]
  },
  {
   "cell_type": "code",
   "execution_count": 17,
   "metadata": {
    "ExecuteTime": {
     "end_time": "2024-03-08T01:54:59.490722200Z",
     "start_time": "2024-03-08T01:54:59.337705700Z"
    }
   },
   "outputs": [],
   "source": [
    "cost_df['Publication date (float)'] = datetime_to_float_year(pd.to_datetime(cost_df['Publication date']))"
   ]
  },
  {
   "cell_type": "code",
   "execution_count": 18,
   "metadata": {
    "ExecuteTime": {
     "end_time": "2024-03-08T01:54:59.700207700Z",
     "start_time": "2024-03-08T01:54:59.462346300Z"
    }
   },
   "outputs": [
    {
     "data": {
      "text/html": [
       "<table class=\"simpletable\">\n",
       "<caption>OLS Regression Results</caption>\n",
       "<tr>\n",
       "  <th>Dep. Variable:</th>            <td>y</td>        <th>  R-squared:         </th> <td>   0.540</td>\n",
       "</tr>\n",
       "<tr>\n",
       "  <th>Model:</th>                   <td>OLS</td>       <th>  Adj. R-squared:    </th> <td>   0.531</td>\n",
       "</tr>\n",
       "<tr>\n",
       "  <th>Method:</th>             <td>Least Squares</td>  <th>  F-statistic:       </th> <td>   62.17</td>\n",
       "</tr>\n",
       "<tr>\n",
       "  <th>Date:</th>             <td>Mon, 06 May 2024</td> <th>  Prob (F-statistic):</th> <td>1.71e-10</td>\n",
       "</tr>\n",
       "<tr>\n",
       "  <th>Time:</th>                 <td>12:08:13</td>     <th>  Log-Likelihood:    </th> <td> -57.271</td>\n",
       "</tr>\n",
       "<tr>\n",
       "  <th>No. Observations:</th>      <td>    55</td>      <th>  AIC:               </th> <td>   118.5</td>\n",
       "</tr>\n",
       "<tr>\n",
       "  <th>Df Residuals:</th>          <td>    53</td>      <th>  BIC:               </th> <td>   122.6</td>\n",
       "</tr>\n",
       "<tr>\n",
       "  <th>Df Model:</th>              <td>     1</td>      <th>                     </th>     <td> </td>   \n",
       "</tr>\n",
       "<tr>\n",
       "  <th>Covariance Type:</th>      <td>nonrobust</td>    <th>                     </th>     <td> </td>   \n",
       "</tr>\n",
       "</table>\n",
       "<table class=\"simpletable\">\n",
       "<tr>\n",
       "    <td></td>       <th>coef</th>     <th>std err</th>      <th>t</th>      <th>P>|t|</th>  <th>[0.025</th>    <th>0.975]</th>  \n",
       "</tr>\n",
       "<tr>\n",
       "  <th>const</th> <td> -714.7303</td> <td>   91.392</td> <td>   -7.820</td> <td> 0.000</td> <td> -898.040</td> <td> -531.421</td>\n",
       "</tr>\n",
       "<tr>\n",
       "  <th>x1</th>    <td>    0.3565</td> <td>    0.045</td> <td>    7.885</td> <td> 0.000</td> <td>    0.266</td> <td>    0.447</td>\n",
       "</tr>\n",
       "</table>\n",
       "<table class=\"simpletable\">\n",
       "<tr>\n",
       "  <th>Omnibus:</th>       <td> 2.171</td> <th>  Durbin-Watson:     </th> <td>   1.715</td>\n",
       "</tr>\n",
       "<tr>\n",
       "  <th>Prob(Omnibus):</th> <td> 0.338</td> <th>  Jarque-Bera (JB):  </th> <td>   1.604</td>\n",
       "</tr>\n",
       "<tr>\n",
       "  <th>Skew:</th>          <td> 0.415</td> <th>  Prob(JB):          </th> <td>   0.448</td>\n",
       "</tr>\n",
       "<tr>\n",
       "  <th>Kurtosis:</th>      <td> 3.111</td> <th>  Cond. No.          </th> <td>1.96e+06</td>\n",
       "</tr>\n",
       "</table><br/><br/>Notes:<br/>[1] Standard Errors assume that the covariance matrix of the errors is correctly specified.<br/>[2] The condition number is large, 1.96e+06. This might indicate that there are<br/>strong multicollinearity or other numerical problems."
      ],
      "text/latex": [
       "\\begin{center}\n",
       "\\begin{tabular}{lclc}\n",
       "\\toprule\n",
       "\\textbf{Dep. Variable:}    &        y         & \\textbf{  R-squared:         } &     0.540   \\\\\n",
       "\\textbf{Model:}            &       OLS        & \\textbf{  Adj. R-squared:    } &     0.531   \\\\\n",
       "\\textbf{Method:}           &  Least Squares   & \\textbf{  F-statistic:       } &     62.17   \\\\\n",
       "\\textbf{Date:}             & Mon, 06 May 2024 & \\textbf{  Prob (F-statistic):} &  1.71e-10   \\\\\n",
       "\\textbf{Time:}             &     12:08:13     & \\textbf{  Log-Likelihood:    } &   -57.271   \\\\\n",
       "\\textbf{No. Observations:} &          55      & \\textbf{  AIC:               } &     118.5   \\\\\n",
       "\\textbf{Df Residuals:}     &          53      & \\textbf{  BIC:               } &     122.6   \\\\\n",
       "\\textbf{Df Model:}         &           1      & \\textbf{                     } &             \\\\\n",
       "\\textbf{Covariance Type:}  &    nonrobust     & \\textbf{                     } &             \\\\\n",
       "\\bottomrule\n",
       "\\end{tabular}\n",
       "\\begin{tabular}{lcccccc}\n",
       "               & \\textbf{coef} & \\textbf{std err} & \\textbf{t} & \\textbf{P$> |$t$|$} & \\textbf{[0.025} & \\textbf{0.975]}  \\\\\n",
       "\\midrule\n",
       "\\textbf{const} &    -714.7303  &       91.392     &    -7.820  &         0.000        &     -898.040    &     -531.421     \\\\\n",
       "\\textbf{x1}    &       0.3565  &        0.045     &     7.885  &         0.000        &        0.266    &        0.447     \\\\\n",
       "\\bottomrule\n",
       "\\end{tabular}\n",
       "\\begin{tabular}{lclc}\n",
       "\\textbf{Omnibus:}       &  2.171 & \\textbf{  Durbin-Watson:     } &    1.715  \\\\\n",
       "\\textbf{Prob(Omnibus):} &  0.338 & \\textbf{  Jarque-Bera (JB):  } &    1.604  \\\\\n",
       "\\textbf{Skew:}          &  0.415 & \\textbf{  Prob(JB):          } &    0.448  \\\\\n",
       "\\textbf{Kurtosis:}      &  3.111 & \\textbf{  Cond. No.          } & 1.96e+06  \\\\\n",
       "\\bottomrule\n",
       "\\end{tabular}\n",
       "%\\caption{OLS Regression Results}\n",
       "\\end{center}\n",
       "\n",
       "Notes: \\newline\n",
       " [1] Standard Errors assume that the covariance matrix of the errors is correctly specified. \\newline\n",
       " [2] The condition number is large, 1.96e+06. This might indicate that there are \\newline\n",
       " strong multicollinearity or other numerical problems."
      ],
      "text/plain": [
       "<class 'statsmodels.iolib.summary.Summary'>\n",
       "\"\"\"\n",
       "                            OLS Regression Results                            \n",
       "==============================================================================\n",
       "Dep. Variable:                      y   R-squared:                       0.540\n",
       "Model:                            OLS   Adj. R-squared:                  0.531\n",
       "Method:                 Least Squares   F-statistic:                     62.17\n",
       "Date:                Mon, 06 May 2024   Prob (F-statistic):           1.71e-10\n",
       "Time:                        12:08:13   Log-Likelihood:                -57.271\n",
       "No. Observations:                  55   AIC:                             118.5\n",
       "Df Residuals:                      53   BIC:                             122.6\n",
       "Df Model:                           1                                         \n",
       "Covariance Type:            nonrobust                                         \n",
       "==============================================================================\n",
       "                 coef    std err          t      P>|t|      [0.025      0.975]\n",
       "------------------------------------------------------------------------------\n",
       "const       -714.7303     91.392     -7.820      0.000    -898.040    -531.421\n",
       "x1             0.3565      0.045      7.885      0.000       0.266       0.447\n",
       "==============================================================================\n",
       "Omnibus:                        2.171   Durbin-Watson:                   1.715\n",
       "Prob(Omnibus):                  0.338   Jarque-Bera (JB):                1.604\n",
       "Skew:                           0.415   Prob(JB):                        0.448\n",
       "Kurtosis:                       3.111   Cond. No.                     1.96e+06\n",
       "==============================================================================\n",
       "\n",
       "Notes:\n",
       "[1] Standard Errors assume that the covariance matrix of the errors is correctly specified.\n",
       "[2] The condition number is large, 1.96e+06. This might indicate that there are\n",
       "strong multicollinearity or other numerical problems.\n",
       "\"\"\""
      ]
     },
     "execution_count": 18,
     "metadata": {},
     "output_type": "execute_result"
    }
   ],
   "source": [
    "reg_results = fit_ols_regression(cost_df, ['Publication date (float)'], 'Cost (inflation-adjusted)', logy=True)\n",
    "reg_results.summary()"
   ]
  },
  {
   "cell_type": "code",
   "execution_count": 19,
   "metadata": {
    "ExecuteTime": {
     "end_time": "2024-03-08T01:55:00.548785500Z",
     "start_time": "2024-03-08T01:54:59.700207700Z"
    }
   },
   "outputs": [
    {
     "name": "stdout",
     "output_type": "stream",
     "text": [
      "0.36 OOMs/year (95% CI: 0.27, 0.45)\n",
      "2.3x/year (95% CI: 1.8x, 2.8x)\n",
      "doubling time of 10 months (95% CI: 8, 14)\n"
     ]
    }
   ],
   "source": [
    "print_growth_rates(reg_results)"
   ]
  },
  {
   "cell_type": "code",
   "execution_count": 20,
   "metadata": {
    "ExecuteTime": {
     "end_time": "2024-03-08T01:55:00.548785500Z",
     "start_time": "2024-03-08T01:54:59.809703300Z"
    }
   },
   "outputs": [
    {
     "data": {
      "text/html": [
       "<div>\n",
       "<style scoped>\n",
       "    .dataframe tbody tr th:only-of-type {\n",
       "        vertical-align: middle;\n",
       "    }\n",
       "\n",
       "    .dataframe tbody tr th {\n",
       "        vertical-align: top;\n",
       "    }\n",
       "\n",
       "    .dataframe thead th {\n",
       "        text-align: right;\n",
       "    }\n",
       "</style>\n",
       "<table border=\"1\" class=\"dataframe\">\n",
       "  <thead>\n",
       "    <tr style=\"text-align: right;\">\n",
       "      <th></th>\n",
       "      <th>Publication date (float)</th>\n",
       "    </tr>\n",
       "  </thead>\n",
       "  <tbody>\n",
       "    <tr>\n",
       "      <th>0</th>\n",
       "      <td>2015.00000</td>\n",
       "    </tr>\n",
       "    <tr>\n",
       "      <th>1</th>\n",
       "      <td>2015.10101</td>\n",
       "    </tr>\n",
       "    <tr>\n",
       "      <th>2</th>\n",
       "      <td>2015.20202</td>\n",
       "    </tr>\n",
       "    <tr>\n",
       "      <th>3</th>\n",
       "      <td>2015.30303</td>\n",
       "    </tr>\n",
       "    <tr>\n",
       "      <th>4</th>\n",
       "      <td>2015.40404</td>\n",
       "    </tr>\n",
       "    <tr>\n",
       "      <th>...</th>\n",
       "      <td>...</td>\n",
       "    </tr>\n",
       "    <tr>\n",
       "      <th>95</th>\n",
       "      <td>2024.59596</td>\n",
       "    </tr>\n",
       "    <tr>\n",
       "      <th>96</th>\n",
       "      <td>2024.69697</td>\n",
       "    </tr>\n",
       "    <tr>\n",
       "      <th>97</th>\n",
       "      <td>2024.79798</td>\n",
       "    </tr>\n",
       "    <tr>\n",
       "      <th>98</th>\n",
       "      <td>2024.89899</td>\n",
       "    </tr>\n",
       "    <tr>\n",
       "      <th>99</th>\n",
       "      <td>2025.00000</td>\n",
       "    </tr>\n",
       "  </tbody>\n",
       "</table>\n",
       "<p>100 rows × 1 columns</p>\n",
       "</div>"
      ],
      "text/plain": [
       "    Publication date (float)\n",
       "0                 2015.00000\n",
       "1                 2015.10101\n",
       "2                 2015.20202\n",
       "3                 2015.30303\n",
       "4                 2015.40404\n",
       "..                       ...\n",
       "95                2024.59596\n",
       "96                2024.69697\n",
       "97                2024.79798\n",
       "98                2024.89899\n",
       "99                2025.00000\n",
       "\n",
       "[100 rows x 1 columns]"
      ]
     },
     "execution_count": 20,
     "metadata": {},
     "output_type": "execute_result"
    }
   ],
   "source": [
    "pred_start_year = 2015\n",
    "pred_end_year = 2025\n",
    "pred_start_date = f'{pred_start_year}-01-01'\n",
    "pred_end_date = f'{pred_end_year}-01-01'\n",
    "\n",
    "pred_years = pd.DataFrame({'Publication date (float)': np.linspace(pred_start_year, pred_end_year, 100)})\n",
    "pred_years"
   ]
  },
  {
   "cell_type": "code",
   "execution_count": 21,
   "metadata": {
    "ExecuteTime": {
     "end_time": "2024-03-08T01:55:00.564420400Z",
     "start_time": "2024-03-08T01:54:59.920051200Z"
    }
   },
   "outputs": [
    {
     "data": {
      "text/html": [
       "<div>\n",
       "<style scoped>\n",
       "    .dataframe tbody tr th:only-of-type {\n",
       "        vertical-align: middle;\n",
       "    }\n",
       "\n",
       "    .dataframe tbody tr th {\n",
       "        vertical-align: top;\n",
       "    }\n",
       "\n",
       "    .dataframe thead th {\n",
       "        text-align: right;\n",
       "    }\n",
       "</style>\n",
       "<table border=\"1\" class=\"dataframe\">\n",
       "  <thead>\n",
       "    <tr style=\"text-align: right;\">\n",
       "      <th></th>\n",
       "      <th>mean</th>\n",
       "      <th>mean_se</th>\n",
       "      <th>mean_ci_lower</th>\n",
       "      <th>mean_ci_upper</th>\n",
       "      <th>obs_ci_lower</th>\n",
       "      <th>obs_ci_upper</th>\n",
       "      <th>Publication date (float)</th>\n",
       "      <th>Publication date</th>\n",
       "    </tr>\n",
       "  </thead>\n",
       "  <tbody>\n",
       "    <tr>\n",
       "      <th>0</th>\n",
       "      <td>3.712391</td>\n",
       "      <td>0.291358</td>\n",
       "      <td>3.128001</td>\n",
       "      <td>4.296780</td>\n",
       "      <td>2.194780</td>\n",
       "      <td>5.230001</td>\n",
       "      <td>2015.00000</td>\n",
       "      <td>2015-01-01</td>\n",
       "    </tr>\n",
       "    <tr>\n",
       "      <th>1</th>\n",
       "      <td>3.748406</td>\n",
       "      <td>0.287039</td>\n",
       "      <td>3.172678</td>\n",
       "      <td>4.324133</td>\n",
       "      <td>2.234109</td>\n",
       "      <td>5.262702</td>\n",
       "      <td>2015.10101</td>\n",
       "      <td>2015-02-06</td>\n",
       "    </tr>\n",
       "    <tr>\n",
       "      <th>2</th>\n",
       "      <td>3.784420</td>\n",
       "      <td>0.282728</td>\n",
       "      <td>3.217339</td>\n",
       "      <td>4.351501</td>\n",
       "      <td>2.273390</td>\n",
       "      <td>5.295450</td>\n",
       "      <td>2015.20202</td>\n",
       "      <td>2015-03-15</td>\n",
       "    </tr>\n",
       "    <tr>\n",
       "      <th>3</th>\n",
       "      <td>3.820435</td>\n",
       "      <td>0.278426</td>\n",
       "      <td>3.261984</td>\n",
       "      <td>4.378886</td>\n",
       "      <td>2.312623</td>\n",
       "      <td>5.328248</td>\n",
       "      <td>2015.30303</td>\n",
       "      <td>2015-04-21</td>\n",
       "    </tr>\n",
       "    <tr>\n",
       "      <th>4</th>\n",
       "      <td>3.856450</td>\n",
       "      <td>0.274131</td>\n",
       "      <td>3.306612</td>\n",
       "      <td>4.406288</td>\n",
       "      <td>2.351807</td>\n",
       "      <td>5.361094</td>\n",
       "      <td>2015.40404</td>\n",
       "      <td>2015-05-28</td>\n",
       "    </tr>\n",
       "    <tr>\n",
       "      <th>...</th>\n",
       "      <td>...</td>\n",
       "      <td>...</td>\n",
       "      <td>...</td>\n",
       "      <td>...</td>\n",
       "      <td>...</td>\n",
       "      <td>...</td>\n",
       "      <td>...</td>\n",
       "      <td>...</td>\n",
       "    </tr>\n",
       "    <tr>\n",
       "      <th>95</th>\n",
       "      <td>7.133804</td>\n",
       "      <td>0.184097</td>\n",
       "      <td>6.764552</td>\n",
       "      <td>7.503055</td>\n",
       "      <td>5.685364</td>\n",
       "      <td>8.582243</td>\n",
       "      <td>2024.59596</td>\n",
       "      <td>2024-08-06</td>\n",
       "    </tr>\n",
       "    <tr>\n",
       "      <th>96</th>\n",
       "      <td>7.169819</td>\n",
       "      <td>0.188036</td>\n",
       "      <td>6.792666</td>\n",
       "      <td>7.546971</td>\n",
       "      <td>5.719345</td>\n",
       "      <td>8.620293</td>\n",
       "      <td>2024.69697</td>\n",
       "      <td>2024-09-12</td>\n",
       "    </tr>\n",
       "    <tr>\n",
       "      <th>97</th>\n",
       "      <td>7.205833</td>\n",
       "      <td>0.192004</td>\n",
       "      <td>6.820723</td>\n",
       "      <td>7.590944</td>\n",
       "      <td>5.753270</td>\n",
       "      <td>8.658397</td>\n",
       "      <td>2024.79798</td>\n",
       "      <td>2024-10-19</td>\n",
       "    </tr>\n",
       "    <tr>\n",
       "      <th>98</th>\n",
       "      <td>7.241848</td>\n",
       "      <td>0.195997</td>\n",
       "      <td>6.848728</td>\n",
       "      <td>7.634968</td>\n",
       "      <td>5.787141</td>\n",
       "      <td>8.696556</td>\n",
       "      <td>2024.89899</td>\n",
       "      <td>2024-11-25</td>\n",
       "    </tr>\n",
       "    <tr>\n",
       "      <th>99</th>\n",
       "      <td>7.277863</td>\n",
       "      <td>0.200015</td>\n",
       "      <td>6.876684</td>\n",
       "      <td>7.679043</td>\n",
       "      <td>5.820957</td>\n",
       "      <td>8.734769</td>\n",
       "      <td>2025.00000</td>\n",
       "      <td>2025-01-01</td>\n",
       "    </tr>\n",
       "  </tbody>\n",
       "</table>\n",
       "<p>100 rows × 8 columns</p>\n",
       "</div>"
      ],
      "text/plain": [
       "        mean   mean_se  mean_ci_lower  mean_ci_upper  obs_ci_lower  \\\n",
       "0   3.712391  0.291358       3.128001       4.296780      2.194780   \n",
       "1   3.748406  0.287039       3.172678       4.324133      2.234109   \n",
       "2   3.784420  0.282728       3.217339       4.351501      2.273390   \n",
       "3   3.820435  0.278426       3.261984       4.378886      2.312623   \n",
       "4   3.856450  0.274131       3.306612       4.406288      2.351807   \n",
       "..       ...       ...            ...            ...           ...   \n",
       "95  7.133804  0.184097       6.764552       7.503055      5.685364   \n",
       "96  7.169819  0.188036       6.792666       7.546971      5.719345   \n",
       "97  7.205833  0.192004       6.820723       7.590944      5.753270   \n",
       "98  7.241848  0.195997       6.848728       7.634968      5.787141   \n",
       "99  7.277863  0.200015       6.876684       7.679043      5.820957   \n",
       "\n",
       "    obs_ci_upper  Publication date (float) Publication date  \n",
       "0       5.230001                2015.00000       2015-01-01  \n",
       "1       5.262702                2015.10101       2015-02-06  \n",
       "2       5.295450                2015.20202       2015-03-15  \n",
       "3       5.328248                2015.30303       2015-04-21  \n",
       "4       5.361094                2015.40404       2015-05-28  \n",
       "..           ...                       ...              ...  \n",
       "95      8.582243                2024.59596       2024-08-06  \n",
       "96      8.620293                2024.69697       2024-09-12  \n",
       "97      8.658397                2024.79798       2024-10-19  \n",
       "98      8.696556                2024.89899       2024-11-25  \n",
       "99      8.734769                2025.00000       2025-01-01  \n",
       "\n",
       "[100 rows x 8 columns]"
      ]
     },
     "execution_count": 21,
     "metadata": {},
     "output_type": "execute_result"
    }
   ],
   "source": [
    "\n",
    "predicted_cost_df = get_predictions(reg_results, pred_years, ['Publication date (float)'])\n",
    "predicted_cost_df['Publication date'] = predicted_cost_df['Publication date (float)'].apply(float_year_to_datetime)\n",
    "predicted_cost_df"
   ]
  },
  {
   "cell_type": "markdown",
   "metadata": {},
   "source": [
    "# Plots"
   ]
  },
  {
   "cell_type": "code",
   "execution_count": 22,
   "metadata": {},
   "outputs": [],
   "source": [
    "title_suffix = f' to train top {100 - compute_percentile_threshold}% most compute-intensive ML systems'\n",
    "plot_title_lookup = {\n",
    "    'cloud': 'Cloud compute cost' + title_suffix,\n",
    "    'amortized': 'Amortized cost of hardware' + title_suffix,\n",
    "    'up-front-server-capex': 'Acquisition cost of hardware' + title_suffix,\n",
    "    'hardware-capex-opex': 'Hardware CapEx + OpEx' + title_suffix,\n",
    "}"
   ]
  },
  {
   "cell_type": "code",
   "execution_count": 23,
   "metadata": {
    "ExecuteTime": {
     "end_time": "2024-03-08T01:55:04.230921600Z",
     "start_time": "2024-03-08T01:55:00.065485900Z"
    }
   },
   "outputs": [
    {
     "data": {
      "application/vnd.plotly.v1+json": {
       "config": {
        "plotlyServerURL": "https://plot.ly"
       },
       "data": [
        {
         "hovertemplate": "Publication date=%{x}<br>Cost (inflation-adjusted)=%{y}<br>System=%{text}<extra></extra>",
         "legendgroup": "",
         "marker": {
          "color": "#636efa",
          "symbol": "circle"
         },
         "mode": "markers+text",
         "name": "",
         "orientation": "v",
         "showlegend": false,
         "text": [
          "Gemini Ultra",
          "Qwen-72B",
          "Inflection-2",
          "Yi-34B",
          "ChatGLM3",
          "Falcon 180B",
          "Llama 2-70B",
          "Llama 2-34B",
          "Claude 2",
          "xTrimoPGLM -100B",
          "PaLM 2",
          "PanGu-Σ",
          "GPT-4",
          "LLaMA-65B",
          "ViT-22B",
          "GPT-3.5 (text-davinci-003)",
          "Galactica",
          "BLOOM-176B",
          "U-PaLM (540B)",
          "BlenderBot 3",
          "GLM-130B",
          "Minerva (540B)",
          "Parti",
          "UL2",
          "OPT-175B",
          "Flamingo",
          "PaLM (540B)",
          "Chinchilla",
          "LaMDA",
          "GPT-NeoX-20B",
          "AlphaCode",
          "ERNIE 3.0 Titan",
          "GLaM",
          "Gopher (280B)",
          "Yuan 1.0",
          "Megatron-Turing NLG 530B",
          "HyperCLOVA",
          "GOAT",
          "ByT5-XXL",
          "ProtT5-XXL",
          "Meta Pseudo Labels",
          "Switch",
          "DALL-E",
          "mT5-XXL",
          "GShard (dense)",
          "iGPT-XL",
          "GPT-3 175B (davinci)",
          "Turing-NLG",
          "Meena",
          "ContextNet + Noisy Student",
          "OpenAI Five",
          "OpenAI Five Rerun",
          "AlphaStar",
          "T5-11B",
          "Megatron-BERT",
          "Megatron-LM (8.3B)",
          "RoBERTa Large",
          "GPT-2 (1.5B)",
          "BERT-Large",
          "BigGAN-deep 512x512",
          "FTW",
          "ResNeXt-101 32x48d",
          "AmoebaNet-A (F=448)",
          "IMPALA",
          "AlphaZero",
          "AlphaGo Zero",
          "OpenAI TI7 DOTA 1v1",
          "JFT",
          "Libratus",
          "AlphaGo Master",
          "NASv3 (CIFAR-10)",
          "Xception",
          "GNMT",
          "AlphaGo Lee",
          "DeepSpeech2 (English)",
          "AlphaGo Fan"
         ],
         "textposition": "top center",
         "type": "scatter",
         "x": [
          "2023-12-06 00:00:00",
          "2023-11-30 00:00:00",
          "2023-11-22 00:00:00",
          "2023-11-02 00:00:00",
          "2023-10-27 00:00:00",
          "2023-09-06 00:00:00",
          "2023-07-18 00:00:00",
          "2023-07-18 00:00:00",
          "2023-07-11 00:00:00",
          "2023-07-06 00:00:00",
          "2023-05-10 00:00:00",
          "2023-03-20 00:00:00",
          "2023-03-15 00:00:00",
          "2023-02-24 00:00:00",
          "2023-02-10 00:00:00",
          "2022-11-28 00:00:00",
          "2022-11-16 00:00:00",
          "2022-11-08 00:00:00",
          "2022-10-20 00:00:00",
          "2022-08-10 00:00:00",
          "2022-08-04 00:00:00",
          "2022-06-29 00:00:00",
          "2022-06-22 00:00:00",
          "2022-05-10 00:00:00",
          "2022-05-02 00:00:00",
          "2022-04-29 00:00:00",
          "2022-04-04 00:00:00",
          "2022-03-29 00:00:00",
          "2022-02-10 00:00:00",
          "2022-02-09 00:00:00",
          "2022-02-02 00:00:00",
          "2021-12-23 00:00:00",
          "2021-12-13 00:00:00",
          "2021-12-08 00:00:00",
          "2021-10-12 00:00:00",
          "2021-10-11 00:00:00",
          "2021-09-10 00:00:00",
          "2021-07-27 00:00:00",
          "2021-05-28 00:00:00",
          "2021-05-04 00:00:00",
          "2021-03-01 00:00:00",
          "2021-01-11 00:00:00",
          "2021-01-05 00:00:00",
          "2020-10-20 00:00:00",
          "2020-06-30 00:00:00",
          "2020-06-17 00:00:00",
          "2020-05-28 00:00:00",
          "2020-02-13 00:00:00",
          "2020-01-28 00:00:00",
          "2020-01-19 00:00:00",
          "2019-12-13 00:00:00",
          "2019-12-13 00:00:00",
          "2019-10-30 00:00:00",
          "2019-10-23 00:00:00",
          "2019-09-17 00:00:00",
          "2019-09-17 00:00:00",
          "2019-07-01 00:00:00",
          "2019-02-14 00:00:00",
          "2018-10-11 00:00:00",
          "2018-09-28 00:00:00",
          "2018-07-03 00:00:00",
          "2018-05-02 00:00:00",
          "2018-02-05 00:00:00",
          "2018-02-05 00:00:00",
          "2017-12-05 00:00:00",
          "2017-10-18 00:00:00",
          "2017-08-11 00:00:00",
          "2017-07-10 00:00:00",
          "2017-01-01 00:00:00",
          "2017-01-01 00:00:00",
          "2016-11-05 00:00:00",
          "2016-10-07 00:00:00",
          "2016-09-26 00:00:00",
          "2016-01-27 00:00:00",
          "2015-12-08 00:00:00",
          "2015-10-01 00:00:00"
         ],
         "xaxis": "x",
         "y": [
          114855465.1086246,
          null,
          19061074.829161912,
          null,
          null,
          35303642.50262225,
          3381178.8929058374,
          1516303.7137121249,
          null,
          5991326.804006227,
          17380093.90611064,
          null,
          114236393.6767508,
          2395915.6282614875,
          949496.8154895364,
          12392711.743971784,
          1222735.043861617,
          1722338.3791290468,
          7521468.455580711,
          3350201.357708182,
          2238868.156398297,
          8089850.730345156,
          947112.4482961537,
          336973.24335882516,
          1286160.7127806512,
          489509.800723401,
          7440548.970995696,
          null,
          1140152.8414580466,
          248274.39026819335,
          null,
          null,
          1252482.6464898575,
          3010045.2933682026,
          null,
          7523423.524470188,
          714510.4701145542,
          375131.12141438,
          390479.83324705466,
          355288.44086799916,
          216211.70337960462,
          533014.8864166776,
          198734.31557113706,
          null,
          831776.0336324193,
          230302.07032938526,
          4208944.806534916,
          109781.09796909649,
          598320.8008918108,
          26391.041423708626,
          null,
          null,
          333979.4440634311,
          203212.99759364573,
          363931.28070693073,
          201706.1947070638,
          148873.18745466112,
          null,
          8696.712121375342,
          10235.051806307929,
          null,
          null,
          57737.03584563931,
          null,
          858454.819121981,
          2360338.9567435435,
          null,
          34553.56388560603,
          null,
          1048750.2453824321,
          null,
          20935.162198116246,
          200977.55710191597,
          null,
          264.33489482384294,
          null
         ],
         "yaxis": "y"
        }
       ],
       "layout": {
        "autosize": false,
        "font": {
         "size": 14
        },
        "height": 600,
        "legend": {
         "tracegroupgap": 0
        },
        "margin": {
         "b": 10,
         "l": 10,
         "r": 10,
         "t": 40
        },
        "showlegend": false,
        "template": {
         "data": {
          "bar": [
           {
            "error_x": {
             "color": "#2a3f5f"
            },
            "error_y": {
             "color": "#2a3f5f"
            },
            "marker": {
             "line": {
              "color": "#E5ECF6",
              "width": 0.5
             },
             "pattern": {
              "fillmode": "overlay",
              "size": 10,
              "solidity": 0.2
             }
            },
            "type": "bar"
           }
          ],
          "barpolar": [
           {
            "marker": {
             "line": {
              "color": "#E5ECF6",
              "width": 0.5
             },
             "pattern": {
              "fillmode": "overlay",
              "size": 10,
              "solidity": 0.2
             }
            },
            "type": "barpolar"
           }
          ],
          "carpet": [
           {
            "aaxis": {
             "endlinecolor": "#2a3f5f",
             "gridcolor": "white",
             "linecolor": "white",
             "minorgridcolor": "white",
             "startlinecolor": "#2a3f5f"
            },
            "baxis": {
             "endlinecolor": "#2a3f5f",
             "gridcolor": "white",
             "linecolor": "white",
             "minorgridcolor": "white",
             "startlinecolor": "#2a3f5f"
            },
            "type": "carpet"
           }
          ],
          "choropleth": [
           {
            "colorbar": {
             "outlinewidth": 0,
             "ticks": ""
            },
            "type": "choropleth"
           }
          ],
          "contour": [
           {
            "colorbar": {
             "outlinewidth": 0,
             "ticks": ""
            },
            "colorscale": [
             [
              0,
              "#0d0887"
             ],
             [
              0.1111111111111111,
              "#46039f"
             ],
             [
              0.2222222222222222,
              "#7201a8"
             ],
             [
              0.3333333333333333,
              "#9c179e"
             ],
             [
              0.4444444444444444,
              "#bd3786"
             ],
             [
              0.5555555555555556,
              "#d8576b"
             ],
             [
              0.6666666666666666,
              "#ed7953"
             ],
             [
              0.7777777777777778,
              "#fb9f3a"
             ],
             [
              0.8888888888888888,
              "#fdca26"
             ],
             [
              1,
              "#f0f921"
             ]
            ],
            "type": "contour"
           }
          ],
          "contourcarpet": [
           {
            "colorbar": {
             "outlinewidth": 0,
             "ticks": ""
            },
            "type": "contourcarpet"
           }
          ],
          "heatmap": [
           {
            "colorbar": {
             "outlinewidth": 0,
             "ticks": ""
            },
            "colorscale": [
             [
              0,
              "#0d0887"
             ],
             [
              0.1111111111111111,
              "#46039f"
             ],
             [
              0.2222222222222222,
              "#7201a8"
             ],
             [
              0.3333333333333333,
              "#9c179e"
             ],
             [
              0.4444444444444444,
              "#bd3786"
             ],
             [
              0.5555555555555556,
              "#d8576b"
             ],
             [
              0.6666666666666666,
              "#ed7953"
             ],
             [
              0.7777777777777778,
              "#fb9f3a"
             ],
             [
              0.8888888888888888,
              "#fdca26"
             ],
             [
              1,
              "#f0f921"
             ]
            ],
            "type": "heatmap"
           }
          ],
          "heatmapgl": [
           {
            "colorbar": {
             "outlinewidth": 0,
             "ticks": ""
            },
            "colorscale": [
             [
              0,
              "#0d0887"
             ],
             [
              0.1111111111111111,
              "#46039f"
             ],
             [
              0.2222222222222222,
              "#7201a8"
             ],
             [
              0.3333333333333333,
              "#9c179e"
             ],
             [
              0.4444444444444444,
              "#bd3786"
             ],
             [
              0.5555555555555556,
              "#d8576b"
             ],
             [
              0.6666666666666666,
              "#ed7953"
             ],
             [
              0.7777777777777778,
              "#fb9f3a"
             ],
             [
              0.8888888888888888,
              "#fdca26"
             ],
             [
              1,
              "#f0f921"
             ]
            ],
            "type": "heatmapgl"
           }
          ],
          "histogram": [
           {
            "marker": {
             "pattern": {
              "fillmode": "overlay",
              "size": 10,
              "solidity": 0.2
             }
            },
            "type": "histogram"
           }
          ],
          "histogram2d": [
           {
            "colorbar": {
             "outlinewidth": 0,
             "ticks": ""
            },
            "colorscale": [
             [
              0,
              "#0d0887"
             ],
             [
              0.1111111111111111,
              "#46039f"
             ],
             [
              0.2222222222222222,
              "#7201a8"
             ],
             [
              0.3333333333333333,
              "#9c179e"
             ],
             [
              0.4444444444444444,
              "#bd3786"
             ],
             [
              0.5555555555555556,
              "#d8576b"
             ],
             [
              0.6666666666666666,
              "#ed7953"
             ],
             [
              0.7777777777777778,
              "#fb9f3a"
             ],
             [
              0.8888888888888888,
              "#fdca26"
             ],
             [
              1,
              "#f0f921"
             ]
            ],
            "type": "histogram2d"
           }
          ],
          "histogram2dcontour": [
           {
            "colorbar": {
             "outlinewidth": 0,
             "ticks": ""
            },
            "colorscale": [
             [
              0,
              "#0d0887"
             ],
             [
              0.1111111111111111,
              "#46039f"
             ],
             [
              0.2222222222222222,
              "#7201a8"
             ],
             [
              0.3333333333333333,
              "#9c179e"
             ],
             [
              0.4444444444444444,
              "#bd3786"
             ],
             [
              0.5555555555555556,
              "#d8576b"
             ],
             [
              0.6666666666666666,
              "#ed7953"
             ],
             [
              0.7777777777777778,
              "#fb9f3a"
             ],
             [
              0.8888888888888888,
              "#fdca26"
             ],
             [
              1,
              "#f0f921"
             ]
            ],
            "type": "histogram2dcontour"
           }
          ],
          "mesh3d": [
           {
            "colorbar": {
             "outlinewidth": 0,
             "ticks": ""
            },
            "type": "mesh3d"
           }
          ],
          "parcoords": [
           {
            "line": {
             "colorbar": {
              "outlinewidth": 0,
              "ticks": ""
             }
            },
            "type": "parcoords"
           }
          ],
          "pie": [
           {
            "automargin": true,
            "type": "pie"
           }
          ],
          "scatter": [
           {
            "fillpattern": {
             "fillmode": "overlay",
             "size": 10,
             "solidity": 0.2
            },
            "type": "scatter"
           }
          ],
          "scatter3d": [
           {
            "line": {
             "colorbar": {
              "outlinewidth": 0,
              "ticks": ""
             }
            },
            "marker": {
             "colorbar": {
              "outlinewidth": 0,
              "ticks": ""
             }
            },
            "type": "scatter3d"
           }
          ],
          "scattercarpet": [
           {
            "marker": {
             "colorbar": {
              "outlinewidth": 0,
              "ticks": ""
             }
            },
            "type": "scattercarpet"
           }
          ],
          "scattergeo": [
           {
            "marker": {
             "colorbar": {
              "outlinewidth": 0,
              "ticks": ""
             }
            },
            "type": "scattergeo"
           }
          ],
          "scattergl": [
           {
            "marker": {
             "colorbar": {
              "outlinewidth": 0,
              "ticks": ""
             }
            },
            "type": "scattergl"
           }
          ],
          "scattermapbox": [
           {
            "marker": {
             "colorbar": {
              "outlinewidth": 0,
              "ticks": ""
             }
            },
            "type": "scattermapbox"
           }
          ],
          "scatterpolar": [
           {
            "marker": {
             "colorbar": {
              "outlinewidth": 0,
              "ticks": ""
             }
            },
            "type": "scatterpolar"
           }
          ],
          "scatterpolargl": [
           {
            "marker": {
             "colorbar": {
              "outlinewidth": 0,
              "ticks": ""
             }
            },
            "type": "scatterpolargl"
           }
          ],
          "scatterternary": [
           {
            "marker": {
             "colorbar": {
              "outlinewidth": 0,
              "ticks": ""
             }
            },
            "type": "scatterternary"
           }
          ],
          "surface": [
           {
            "colorbar": {
             "outlinewidth": 0,
             "ticks": ""
            },
            "colorscale": [
             [
              0,
              "#0d0887"
             ],
             [
              0.1111111111111111,
              "#46039f"
             ],
             [
              0.2222222222222222,
              "#7201a8"
             ],
             [
              0.3333333333333333,
              "#9c179e"
             ],
             [
              0.4444444444444444,
              "#bd3786"
             ],
             [
              0.5555555555555556,
              "#d8576b"
             ],
             [
              0.6666666666666666,
              "#ed7953"
             ],
             [
              0.7777777777777778,
              "#fb9f3a"
             ],
             [
              0.8888888888888888,
              "#fdca26"
             ],
             [
              1,
              "#f0f921"
             ]
            ],
            "type": "surface"
           }
          ],
          "table": [
           {
            "cells": {
             "fill": {
              "color": "#EBF0F8"
             },
             "line": {
              "color": "white"
             }
            },
            "header": {
             "fill": {
              "color": "#C8D4E3"
             },
             "line": {
              "color": "white"
             }
            },
            "type": "table"
           }
          ]
         },
         "layout": {
          "annotationdefaults": {
           "arrowcolor": "#2a3f5f",
           "arrowhead": 0,
           "arrowwidth": 1
          },
          "autotypenumbers": "strict",
          "coloraxis": {
           "colorbar": {
            "outlinewidth": 0,
            "ticks": ""
           }
          },
          "colorscale": {
           "diverging": [
            [
             0,
             "#8e0152"
            ],
            [
             0.1,
             "#c51b7d"
            ],
            [
             0.2,
             "#de77ae"
            ],
            [
             0.3,
             "#f1b6da"
            ],
            [
             0.4,
             "#fde0ef"
            ],
            [
             0.5,
             "#f7f7f7"
            ],
            [
             0.6,
             "#e6f5d0"
            ],
            [
             0.7,
             "#b8e186"
            ],
            [
             0.8,
             "#7fbc41"
            ],
            [
             0.9,
             "#4d9221"
            ],
            [
             1,
             "#276419"
            ]
           ],
           "sequential": [
            [
             0,
             "#0d0887"
            ],
            [
             0.1111111111111111,
             "#46039f"
            ],
            [
             0.2222222222222222,
             "#7201a8"
            ],
            [
             0.3333333333333333,
             "#9c179e"
            ],
            [
             0.4444444444444444,
             "#bd3786"
            ],
            [
             0.5555555555555556,
             "#d8576b"
            ],
            [
             0.6666666666666666,
             "#ed7953"
            ],
            [
             0.7777777777777778,
             "#fb9f3a"
            ],
            [
             0.8888888888888888,
             "#fdca26"
            ],
            [
             1,
             "#f0f921"
            ]
           ],
           "sequentialminus": [
            [
             0,
             "#0d0887"
            ],
            [
             0.1111111111111111,
             "#46039f"
            ],
            [
             0.2222222222222222,
             "#7201a8"
            ],
            [
             0.3333333333333333,
             "#9c179e"
            ],
            [
             0.4444444444444444,
             "#bd3786"
            ],
            [
             0.5555555555555556,
             "#d8576b"
            ],
            [
             0.6666666666666666,
             "#ed7953"
            ],
            [
             0.7777777777777778,
             "#fb9f3a"
            ],
            [
             0.8888888888888888,
             "#fdca26"
            ],
            [
             1,
             "#f0f921"
            ]
           ]
          },
          "colorway": [
           "#636efa",
           "#EF553B",
           "#00cc96",
           "#ab63fa",
           "#FFA15A",
           "#19d3f3",
           "#FF6692",
           "#B6E880",
           "#FF97FF",
           "#FECB52"
          ],
          "font": {
           "color": "#2a3f5f"
          },
          "geo": {
           "bgcolor": "white",
           "lakecolor": "white",
           "landcolor": "#E5ECF6",
           "showlakes": true,
           "showland": true,
           "subunitcolor": "white"
          },
          "hoverlabel": {
           "align": "left"
          },
          "hovermode": "closest",
          "mapbox": {
           "style": "light"
          },
          "paper_bgcolor": "white",
          "plot_bgcolor": "#E5ECF6",
          "polar": {
           "angularaxis": {
            "gridcolor": "white",
            "linecolor": "white",
            "ticks": ""
           },
           "bgcolor": "#E5ECF6",
           "radialaxis": {
            "gridcolor": "white",
            "linecolor": "white",
            "ticks": ""
           }
          },
          "scene": {
           "xaxis": {
            "backgroundcolor": "#E5ECF6",
            "gridcolor": "white",
            "gridwidth": 2,
            "linecolor": "white",
            "showbackground": true,
            "ticks": "",
            "zerolinecolor": "white"
           },
           "yaxis": {
            "backgroundcolor": "#E5ECF6",
            "gridcolor": "white",
            "gridwidth": 2,
            "linecolor": "white",
            "showbackground": true,
            "ticks": "",
            "zerolinecolor": "white"
           },
           "zaxis": {
            "backgroundcolor": "#E5ECF6",
            "gridcolor": "white",
            "gridwidth": 2,
            "linecolor": "white",
            "showbackground": true,
            "ticks": "",
            "zerolinecolor": "white"
           }
          },
          "shapedefaults": {
           "line": {
            "color": "#2a3f5f"
           }
          },
          "ternary": {
           "aaxis": {
            "gridcolor": "white",
            "linecolor": "white",
            "ticks": ""
           },
           "baxis": {
            "gridcolor": "white",
            "linecolor": "white",
            "ticks": ""
           },
           "bgcolor": "#E5ECF6",
           "caxis": {
            "gridcolor": "white",
            "linecolor": "white",
            "ticks": ""
           }
          },
          "title": {
           "x": 0.05
          },
          "xaxis": {
           "automargin": true,
           "gridcolor": "white",
           "linecolor": "white",
           "ticks": "",
           "title": {
            "standoff": 15
           },
           "zerolinecolor": "white",
           "zerolinewidth": 2
          },
          "yaxis": {
           "automargin": true,
           "gridcolor": "white",
           "linecolor": "white",
           "ticks": "",
           "title": {
            "standoff": 15
           },
           "zerolinecolor": "white",
           "zerolinewidth": 2
          }
         }
        },
        "title": {
         "text": "Hardware CapEx + OpEx to train top 25% most compute-intensive ML systems"
        },
        "width": 800,
        "xaxis": {
         "anchor": "y",
         "domain": [
          0,
          1
         ],
         "range": [
          "2015-01-01",
          "2025-01-01"
         ],
         "title": {
          "text": "Publication date"
         }
        },
        "yaxis": {
         "anchor": "x",
         "domain": [
          0,
          1
         ],
         "title": {
          "text": "Cost (2023 USD)"
         },
         "type": "log"
        }
       }
      }
     },
     "metadata": {},
     "output_type": "display_data"
    }
   ],
   "source": [
    "fig = px.scatter(\n",
    "    cost_df,\n",
    "    x='Publication date',\n",
    "    y='Cost (inflation-adjusted)',\n",
    "    text='System',\n",
    "    log_y=True,\n",
    ")\n",
    "fig.update_traces(textposition='top center')\n",
    "\n",
    "# no legend\n",
    "fig.update_layout(showlegend=False)\n",
    "\n",
    "# axis labels\n",
    "fig.update_xaxes(title_text='Publication date')\n",
    "fig.update_yaxes(title_text='Cost (2023 USD)')\n",
    "\n",
    "# title\n",
    "fig.update_layout(title_text=plot_title_lookup[estimation_method])\n",
    "\n",
    "# update size\n",
    "fig.update_layout(\n",
    "    autosize=False,\n",
    "    width=800,\n",
    "    height=600,\n",
    ")\n",
    "\n",
    "# font size\n",
    "fig.update_layout(\n",
    "    font=dict(\n",
    "        size=14,\n",
    "    )\n",
    ")\n",
    "\n",
    "# axis limits\n",
    "fig.update_xaxes(range=['2015-01-01', '2025-01-01'])\n",
    "\n",
    "# margins\n",
    "fig.update_layout(margin=dict(l=10, r=10, t=40, b=10))\n",
    "\n",
    "save_plot(fig, results_dir, 'cost_scatter')\n",
    "\n",
    "fig.show()"
   ]
  },
  {
   "cell_type": "code",
   "execution_count": 24,
   "metadata": {},
   "outputs": [
    {
     "data": {
      "text/plain": [
       "39       True\n",
       "46      False\n",
       "54      False\n",
       "83      False\n",
       "92      False\n",
       "        ...  \n",
       "1094    False\n",
       "1095    False\n",
       "1131    False\n",
       "1137    False\n",
       "1141    False\n",
       "Name: Training hardware, Length: 76, dtype: bool"
      ]
     },
     "execution_count": 24,
     "metadata": {},
     "output_type": "execute_result"
    }
   ],
   "source": [
    "cost_df['Training hardware'].str.contains('TPU', na=False)"
   ]
  },
  {
   "cell_type": "code",
   "execution_count": 25,
   "metadata": {
    "ExecuteTime": {
     "end_time": "2024-03-08T01:55:04.855981900Z",
     "start_time": "2024-03-08T01:55:04.230921600Z"
    }
   },
   "outputs": [
    {
     "data": {
      "application/vnd.plotly.v1+json": {
       "config": {
        "plotlyServerURL": "https://plot.ly"
       },
       "data": [
        {
         "hovertemplate": "Publication date=%{x}<br>Cost (inflation-adjusted)=%{y}<extra></extra>",
         "legendgroup": "",
         "marker": {
          "color": "rgb(0,100,200)",
          "symbol": "circle"
         },
         "mode": "markers",
         "name": "",
         "orientation": "v",
         "showlegend": false,
         "textposition": "top center",
         "type": "scatter",
         "x": [
          "2023-11-30 00:00:00",
          "2023-11-22 00:00:00",
          "2023-11-02 00:00:00",
          "2023-10-27 00:00:00",
          "2023-09-06 00:00:00",
          "2023-07-18 00:00:00",
          "2023-07-18 00:00:00",
          "2023-07-11 00:00:00",
          "2023-07-06 00:00:00",
          "2023-03-20 00:00:00",
          "2023-03-15 00:00:00",
          "2023-02-24 00:00:00",
          "2022-11-28 00:00:00",
          "2022-11-16 00:00:00",
          "2022-11-08 00:00:00",
          "2022-08-10 00:00:00",
          "2022-08-04 00:00:00",
          "2022-05-02 00:00:00",
          "2022-02-09 00:00:00",
          "2021-12-23 00:00:00",
          "2021-10-12 00:00:00",
          "2021-10-11 00:00:00",
          "2021-09-10 00:00:00",
          "2021-01-05 00:00:00",
          "2020-10-20 00:00:00",
          "2020-06-17 00:00:00",
          "2020-05-28 00:00:00",
          "2020-02-13 00:00:00",
          "2019-12-13 00:00:00",
          "2019-12-13 00:00:00",
          "2019-09-17 00:00:00",
          "2019-09-17 00:00:00",
          "2019-07-01 00:00:00",
          "2019-02-14 00:00:00",
          "2018-07-03 00:00:00",
          "2018-05-02 00:00:00",
          "2018-02-05 00:00:00",
          "2018-02-05 00:00:00",
          "2017-08-11 00:00:00",
          "2017-07-10 00:00:00",
          "2017-01-01 00:00:00",
          "2016-11-05 00:00:00",
          "2016-10-07 00:00:00",
          "2016-09-26 00:00:00",
          "2016-01-27 00:00:00",
          "2015-12-08 00:00:00",
          "2015-10-01 00:00:00"
         ],
         "xaxis": "x",
         "y": [
          null,
          19061074.829161912,
          null,
          null,
          35303642.50262225,
          3381178.8929058374,
          1516303.7137121249,
          null,
          5991326.804006227,
          null,
          114236393.6767508,
          2395915.6282614875,
          12392711.743971784,
          1222735.043861617,
          1722338.3791290468,
          3350201.357708182,
          2238868.156398297,
          1286160.7127806512,
          248274.39026819335,
          null,
          null,
          7523423.524470188,
          714510.4701145542,
          198734.31557113706,
          null,
          230302.07032938526,
          4208944.806534916,
          109781.09796909649,
          null,
          null,
          363931.28070693073,
          201706.1947070638,
          148873.18745466112,
          null,
          null,
          null,
          57737.03584563931,
          null,
          null,
          34553.56388560603,
          null,
          null,
          20935.162198116246,
          200977.55710191597,
          null,
          264.33489482384294,
          null
         ],
         "yaxis": "y"
        },
        {
         "marker": {
          "color": "rgb(0,100,200)",
          "symbol": "circle-open"
         },
         "mode": "markers",
         "name": "Using equivalent price of TPU",
         "textposition": "top center",
         "type": "scatter",
         "x": [
          "2023-12-06 00:00:00",
          "2023-05-10 00:00:00",
          "2023-02-10 00:00:00",
          "2022-10-20 00:00:00",
          "2022-06-29 00:00:00",
          "2022-06-22 00:00:00",
          "2022-05-10 00:00:00",
          "2022-04-29 00:00:00",
          "2022-04-04 00:00:00",
          "2022-03-29 00:00:00",
          "2022-02-10 00:00:00",
          "2022-02-02 00:00:00",
          "2021-12-13 00:00:00",
          "2021-12-08 00:00:00",
          "2021-07-27 00:00:00",
          "2021-05-28 00:00:00",
          "2021-05-04 00:00:00",
          "2021-03-01 00:00:00",
          "2021-01-11 00:00:00",
          "2020-06-30 00:00:00",
          "2020-01-28 00:00:00",
          "2020-01-19 00:00:00",
          "2019-10-30 00:00:00",
          "2019-10-23 00:00:00",
          "2018-10-11 00:00:00",
          "2018-09-28 00:00:00",
          "2017-12-05 00:00:00",
          "2017-10-18 00:00:00",
          "2017-01-01 00:00:00"
         ],
         "y": [
          114855465.1086246,
          17380093.90611064,
          949496.8154895364,
          7521468.455580711,
          8089850.730345156,
          947112.4482961537,
          336973.24335882516,
          489509.800723401,
          7440548.970995696,
          null,
          1140152.8414580466,
          null,
          1252482.6464898575,
          3010045.2933682026,
          375131.12141438,
          390479.83324705466,
          355288.44086799916,
          216211.70337960462,
          533014.8864166776,
          831776.0336324193,
          598320.8008918108,
          26391.041423708626,
          333979.4440634311,
          203212.99759364573,
          8696.712121375342,
          10235.051806307929,
          858454.819121981,
          2360338.9567435435,
          1048750.2453824321
         ]
        },
        {
         "mode": "text",
         "showlegend": false,
         "text": [
          "Falcon 180B",
          "Llama 2-70B",
          "GPT-4",
          "DALL-E",
          "GPT-3 175B (davinci)",
          "GNMT"
         ],
         "textposition": "top center",
         "type": "scatter",
         "x": [
          "2023-09-06 00:00:00",
          "2023-07-18 00:00:00",
          "2023-03-15 00:00:00",
          "2021-01-05 00:00:00",
          "2020-05-28 00:00:00",
          "2016-09-26 00:00:00"
         ],
         "y": [
          35303642.50262225,
          3381178.8929058374,
          114236393.6767508,
          198734.31557113706,
          4208944.806534916,
          200977.55710191597
         ]
        },
        {
         "mode": "text",
         "showlegend": false,
         "text": [
          "Gemini Ultra",
          "PaLM (540B)"
         ],
         "textposition": "top center",
         "type": "scatter",
         "x": [
          "2023-12-06 00:00:00",
          "2022-04-04 00:00:00"
         ],
         "y": [
          114855465.1086246,
          7440548.970995696
         ]
        },
        {
         "line": {
          "width": 0
         },
         "mode": "lines",
         "showlegend": false,
         "textposition": "top center",
         "type": "scatter",
         "x": [
          "2015-01-01T00:00:00",
          "2015-02-06T00:00:00",
          "2015-03-15T00:00:00",
          "2015-04-21T00:00:00",
          "2015-05-28T00:00:00",
          "2015-07-04T00:00:00",
          "2015-08-10T00:00:00",
          "2015-09-16T00:00:00",
          "2015-10-22T00:00:00",
          "2015-11-28T00:00:00",
          "2016-01-04T00:00:00",
          "2016-02-10T00:00:00",
          "2016-03-18T00:00:00",
          "2016-04-24T00:00:00",
          "2016-05-31T00:00:00",
          "2016-07-07T00:00:00",
          "2016-08-13T00:00:00",
          "2016-09-19T00:00:00",
          "2016-10-26T00:00:00",
          "2016-12-02T00:00:00",
          "2017-01-08T00:00:00",
          "2017-02-14T00:00:00",
          "2017-03-23T00:00:00",
          "2017-04-28T00:00:00",
          "2017-06-04T00:00:00",
          "2017-07-11T00:00:00",
          "2017-08-17T00:00:00",
          "2017-09-23T00:00:00",
          "2017-10-30T00:00:00",
          "2017-12-06T00:00:00",
          "2018-01-12T00:00:00",
          "2018-02-17T00:00:00",
          "2018-03-26T00:00:00",
          "2018-05-02T00:00:00",
          "2018-06-08T00:00:00",
          "2018-07-15T00:00:00",
          "2018-08-21T00:00:00",
          "2018-09-27T00:00:00",
          "2018-11-03T00:00:00",
          "2018-12-09T00:00:00",
          "2019-01-15T00:00:00",
          "2019-02-21T00:00:00",
          "2019-03-30T00:00:00",
          "2019-05-06T00:00:00",
          "2019-06-12T00:00:00",
          "2019-07-19T00:00:00",
          "2019-08-24T00:00:00",
          "2019-09-30T00:00:00",
          "2019-11-06T00:00:00",
          "2019-12-13T00:00:00",
          "2020-01-19T00:00:00",
          "2020-02-25T00:00:00",
          "2020-04-02T00:00:00",
          "2020-05-09T00:00:00",
          "2020-06-15T00:00:00",
          "2020-07-22T00:00:00",
          "2020-08-28T00:00:00",
          "2020-10-04T00:00:00",
          "2020-11-10T00:00:00",
          "2020-12-17T00:00:00",
          "2021-01-23T00:00:00",
          "2021-02-28T00:00:00",
          "2021-04-06T00:00:00",
          "2021-05-13T00:00:00",
          "2021-06-19T00:00:00",
          "2021-07-26T00:00:00",
          "2021-09-01T00:00:00",
          "2021-10-08T00:00:00",
          "2021-11-14T00:00:00",
          "2021-12-20T00:00:00",
          "2022-01-26T00:00:00",
          "2022-03-04T00:00:00",
          "2022-04-10T00:00:00",
          "2022-05-17T00:00:00",
          "2022-06-23T00:00:00",
          "2022-07-30T00:00:00",
          "2022-09-05T00:00:00",
          "2022-10-11T00:00:00",
          "2022-11-17T00:00:00",
          "2022-12-24T00:00:00",
          "2023-01-30T00:00:00",
          "2023-03-08T00:00:00",
          "2023-04-14T00:00:00",
          "2023-05-21T00:00:00",
          "2023-06-26T00:00:00",
          "2023-08-02T00:00:00",
          "2023-09-08T00:00:00",
          "2023-10-15T00:00:00",
          "2023-11-21T00:00:00",
          "2023-12-28T00:00:00",
          "2024-02-03T00:00:00",
          "2024-03-11T00:00:00",
          "2024-04-17T00:00:00",
          "2024-05-24T00:00:00",
          "2024-06-30T00:00:00",
          "2024-08-06T00:00:00",
          "2024-09-12T00:00:00",
          "2024-10-19T00:00:00",
          "2024-11-25T00:00:00",
          "2025-01-01T00:00:00"
         ],
         "y": [
          1342.767698213246,
          1488.2571812330398,
          1649.4509231884467,
          1828.0345135001364,
          2025.8728850180737,
          2245.02912625886,
          2487.7852190737167,
          2756.6648899467077,
          3054.4587797715867,
          3384.2521547553033,
          3749.45539996246,
          4153.837556984878,
          4601.563188157864,
          5097.232871623879,
          5645.927654084645,
          6253.257811179145,
          6925.4162886344575,
          7669.237220389597,
          8492.259942054216,
          9402.798938842949,
          10410.020185417312,
          11524.024350017995,
          12755.93734521744,
          14118.008711074592,
          15623.718311366107,
          17287.891807233274,
          19126.825342286225,
          21158.419825145997,
          23402.325125859345,
          25880.094406275577,
          28615.34867653635,
          31633.951503749933,
          34964.19358876748,
          38636.98666542261,
          42686.06585756686,
          47148.199246238015,
          52063.402948878254,
          57475.159491928796,
          63430.63667198636,
          69980.9034575121,
          77181.13880413762,
          85090.82857341967,
          93773.94510853663,
          103299.10350274242,
          113739.68829212585,
          125173.94433749867,
          137685.02617686128,
          151361.00129650196,
          166294.80474951433,
          182584.14549060262,
          200331.3687735235,
          219643.28394416787,
          240630.97275893972,
          263409.5995593722,
          288098.2505919665,
          314819.83462445746,
          343701.0797911464,
          374872.6613702566,
          408469.49127707013,
          444631.1922843989,
          483502.7688521308,
          525235.4731874731,
          569987.8515383853,
          617926.9437630743,
          669229.6007102693,
          724083.8800807701,
          782690.4825369582,
          845264.1952970024,
          912035.3190485857,
          983251.064136892,
          1059176.9120857671,
          1140097.9473592136,
          1226320.171134886,
          1318171.8134651992,
          1416004.6626948123,
          1520195.4317365224,
          1631147.1802965296,
          1749290.8108363184,
          1875086.6544109513,
          2009026.1607999683,
          2151633.7058025408,
          2303468.5272760796,
          2465126.8005574946,
          2637243.8632731233,
          2820496.5992307975,
          3015605.9910547137,
          3223339.8513983805,
          3444515.7429655036,
          3680004.098084309,
          3930731.54926962,
          4197684.4829484895,
          4481912.829404041,
          4784534.102906214,
          5106737.707024612,
          5449789.521168799,
          5815036.785554992,
          6203913.302979597,
          6617944.977077071,
          7058755.708056174,
          7528073.668347237
         ]
        },
        {
         "fill": "tonexty",
         "fillcolor": "rgba(0,100,200,0.2)",
         "line": {
          "width": 0
         },
         "mode": "lines",
         "name": "95% CI of mean",
         "textposition": "top center",
         "type": "scatter",
         "x": [
          "2015-01-01T00:00:00",
          "2015-02-06T00:00:00",
          "2015-03-15T00:00:00",
          "2015-04-21T00:00:00",
          "2015-05-28T00:00:00",
          "2015-07-04T00:00:00",
          "2015-08-10T00:00:00",
          "2015-09-16T00:00:00",
          "2015-10-22T00:00:00",
          "2015-11-28T00:00:00",
          "2016-01-04T00:00:00",
          "2016-02-10T00:00:00",
          "2016-03-18T00:00:00",
          "2016-04-24T00:00:00",
          "2016-05-31T00:00:00",
          "2016-07-07T00:00:00",
          "2016-08-13T00:00:00",
          "2016-09-19T00:00:00",
          "2016-10-26T00:00:00",
          "2016-12-02T00:00:00",
          "2017-01-08T00:00:00",
          "2017-02-14T00:00:00",
          "2017-03-23T00:00:00",
          "2017-04-28T00:00:00",
          "2017-06-04T00:00:00",
          "2017-07-11T00:00:00",
          "2017-08-17T00:00:00",
          "2017-09-23T00:00:00",
          "2017-10-30T00:00:00",
          "2017-12-06T00:00:00",
          "2018-01-12T00:00:00",
          "2018-02-17T00:00:00",
          "2018-03-26T00:00:00",
          "2018-05-02T00:00:00",
          "2018-06-08T00:00:00",
          "2018-07-15T00:00:00",
          "2018-08-21T00:00:00",
          "2018-09-27T00:00:00",
          "2018-11-03T00:00:00",
          "2018-12-09T00:00:00",
          "2019-01-15T00:00:00",
          "2019-02-21T00:00:00",
          "2019-03-30T00:00:00",
          "2019-05-06T00:00:00",
          "2019-06-12T00:00:00",
          "2019-07-19T00:00:00",
          "2019-08-24T00:00:00",
          "2019-09-30T00:00:00",
          "2019-11-06T00:00:00",
          "2019-12-13T00:00:00",
          "2020-01-19T00:00:00",
          "2020-02-25T00:00:00",
          "2020-04-02T00:00:00",
          "2020-05-09T00:00:00",
          "2020-06-15T00:00:00",
          "2020-07-22T00:00:00",
          "2020-08-28T00:00:00",
          "2020-10-04T00:00:00",
          "2020-11-10T00:00:00",
          "2020-12-17T00:00:00",
          "2021-01-23T00:00:00",
          "2021-02-28T00:00:00",
          "2021-04-06T00:00:00",
          "2021-05-13T00:00:00",
          "2021-06-19T00:00:00",
          "2021-07-26T00:00:00",
          "2021-09-01T00:00:00",
          "2021-10-08T00:00:00",
          "2021-11-14T00:00:00",
          "2021-12-20T00:00:00",
          "2022-01-26T00:00:00",
          "2022-03-04T00:00:00",
          "2022-04-10T00:00:00",
          "2022-05-17T00:00:00",
          "2022-06-23T00:00:00",
          "2022-07-30T00:00:00",
          "2022-09-05T00:00:00",
          "2022-10-11T00:00:00",
          "2022-11-17T00:00:00",
          "2022-12-24T00:00:00",
          "2023-01-30T00:00:00",
          "2023-03-08T00:00:00",
          "2023-04-14T00:00:00",
          "2023-05-21T00:00:00",
          "2023-06-26T00:00:00",
          "2023-08-02T00:00:00",
          "2023-09-08T00:00:00",
          "2023-10-15T00:00:00",
          "2023-11-21T00:00:00",
          "2023-12-28T00:00:00",
          "2024-02-03T00:00:00",
          "2024-03-11T00:00:00",
          "2024-04-17T00:00:00",
          "2024-05-24T00:00:00",
          "2024-06-30T00:00:00",
          "2024-08-06T00:00:00",
          "2024-09-12T00:00:00",
          "2024-10-19T00:00:00",
          "2024-11-25T00:00:00",
          "2025-01-01T00:00:00"
         ],
         "y": [
          19805.25598611821,
          21092.745198484354,
          22464.742386887963,
          23926.88696289027,
          25485.20579973067,
          27146.14126546193,
          28916.581471741658,
          30803.892939043293,
          32815.95590063487,
          34961.20249229268,
          37248.65810226225,
          39687.98618754479,
          42289.53689812748,
          45064.399891591784,
          48024.46176675161,
          51182.468598112515,
          54552.094113510066,
          58148.01412716789,
          61985.98792035427,
          66082.94735419909,
          70457.09460554826,
          75128.0095398793,
          80116.76787745286,
          85446.07147353185,
          91140.39222502212,
          97226.13133710499,
          103731.79594135641,
          110688.19535551527,
          118128.65962275141,
          126089.2833710683,
          134609.19850132044,
          143730.87975317318,
          153500.48782475633,
          163968.25544161006,
          175188.92259869433,
          187222.22814364632,
          200133.465943122,
          213994.11508239456,
          228882.5548972587,
          244884.87712306937,
          262095.8090598537,
          280619.7633680682,
          300572.03189003974,
          322080.1426785294,
          345285.4011187193,
          370344.63755221263,
          397432.18501293263,
          426742.1114263762,
          458490.73075003043,
          492919.4169325432,
          530297.7431772767,
          570926.9668813079,
          615143.8779967605,
          663325.0258833009,
          715891.3376576138,
          773313.1405091755,
          836115.6024518197,
          904884.6115187804,
          980273.123200577,
          1063008.0202178357,
          1153897.5470617563,
          1253839.4030007815,
          1363829.5997291477,
          1484972.211628841,
          1618490.166008184,
          1765737.2366136373,
          1928211.4160075476,
          2107569.8517525764,
          2305645.539199093,
          2524465.971762948,
          2766273.9597022454,
          3033550.8419314087,
          3329042.3333969014,
          3655787.27344451,
          4017149.5686654677,
          4416853.656789691,
          4859023.856248088,
          5348228.008905664,
          5889525.871277986,
          6488522.762378901,
          7151429.034633483,
          7885125.998433212,
          8697239.001634616,
          9596218.443226466,
          10591429.586434944,
          11693252.131725796,
          12913190.6153656,
          14263996.815803358,
          15759805.47924327,
          17416284.818996474,
          19250803.401874226,
          21282615.21096805,
          23533064.869322225,
          26025815.22571571,
          28787099.743858166,
          31846002.402923863,
          35234768.11281999,
          38989146.97575246,
          43148776.08922408,
          47757602.989378095
         ]
        },
        {
         "line": {
          "color": "rgb(0,100,200)"
         },
         "mode": "lines",
         "name": "Regression mean (growth rate: 2.3x per year)",
         "textposition": "top center",
         "type": "scatter",
         "x": [
          "2015-01-01T00:00:00",
          "2015-02-06T00:00:00",
          "2015-03-15T00:00:00",
          "2015-04-21T00:00:00",
          "2015-05-28T00:00:00",
          "2015-07-04T00:00:00",
          "2015-08-10T00:00:00",
          "2015-09-16T00:00:00",
          "2015-10-22T00:00:00",
          "2015-11-28T00:00:00",
          "2016-01-04T00:00:00",
          "2016-02-10T00:00:00",
          "2016-03-18T00:00:00",
          "2016-04-24T00:00:00",
          "2016-05-31T00:00:00",
          "2016-07-07T00:00:00",
          "2016-08-13T00:00:00",
          "2016-09-19T00:00:00",
          "2016-10-26T00:00:00",
          "2016-12-02T00:00:00",
          "2017-01-08T00:00:00",
          "2017-02-14T00:00:00",
          "2017-03-23T00:00:00",
          "2017-04-28T00:00:00",
          "2017-06-04T00:00:00",
          "2017-07-11T00:00:00",
          "2017-08-17T00:00:00",
          "2017-09-23T00:00:00",
          "2017-10-30T00:00:00",
          "2017-12-06T00:00:00",
          "2018-01-12T00:00:00",
          "2018-02-17T00:00:00",
          "2018-03-26T00:00:00",
          "2018-05-02T00:00:00",
          "2018-06-08T00:00:00",
          "2018-07-15T00:00:00",
          "2018-08-21T00:00:00",
          "2018-09-27T00:00:00",
          "2018-11-03T00:00:00",
          "2018-12-09T00:00:00",
          "2019-01-15T00:00:00",
          "2019-02-21T00:00:00",
          "2019-03-30T00:00:00",
          "2019-05-06T00:00:00",
          "2019-06-12T00:00:00",
          "2019-07-19T00:00:00",
          "2019-08-24T00:00:00",
          "2019-09-30T00:00:00",
          "2019-11-06T00:00:00",
          "2019-12-13T00:00:00",
          "2020-01-19T00:00:00",
          "2020-02-25T00:00:00",
          "2020-04-02T00:00:00",
          "2020-05-09T00:00:00",
          "2020-06-15T00:00:00",
          "2020-07-22T00:00:00",
          "2020-08-28T00:00:00",
          "2020-10-04T00:00:00",
          "2020-11-10T00:00:00",
          "2020-12-17T00:00:00",
          "2021-01-23T00:00:00",
          "2021-02-28T00:00:00",
          "2021-04-06T00:00:00",
          "2021-05-13T00:00:00",
          "2021-06-19T00:00:00",
          "2021-07-26T00:00:00",
          "2021-09-01T00:00:00",
          "2021-10-08T00:00:00",
          "2021-11-14T00:00:00",
          "2021-12-20T00:00:00",
          "2022-01-26T00:00:00",
          "2022-03-04T00:00:00",
          "2022-04-10T00:00:00",
          "2022-05-17T00:00:00",
          "2022-06-23T00:00:00",
          "2022-07-30T00:00:00",
          "2022-09-05T00:00:00",
          "2022-10-11T00:00:00",
          "2022-11-17T00:00:00",
          "2022-12-24T00:00:00",
          "2023-01-30T00:00:00",
          "2023-03-08T00:00:00",
          "2023-04-14T00:00:00",
          "2023-05-21T00:00:00",
          "2023-06-26T00:00:00",
          "2023-08-02T00:00:00",
          "2023-09-08T00:00:00",
          "2023-10-15T00:00:00",
          "2023-11-21T00:00:00",
          "2023-12-28T00:00:00",
          "2024-02-03T00:00:00",
          "2024-03-11T00:00:00",
          "2024-04-17T00:00:00",
          "2024-05-24T00:00:00",
          "2024-06-30T00:00:00",
          "2024-08-06T00:00:00",
          "2024-09-12T00:00:00",
          "2024-10-19T00:00:00",
          "2024-11-25T00:00:00",
          "2025-01-01T00:00:00"
         ],
         "y": [
          5156.923306876306,
          5602.805503813519,
          6087.239938530679,
          6613.559946714014,
          7185.387073691974,
          7806.655993861874,
          8481.64158471341,
          9214.988341758113,
          10011.742336740963,
          10877.38593906542,
          11817.875539321038,
          12839.68253450686,
          13949.837856931057,
          15155.980353227738,
          16466.40934634608,
          17890.141742215965,
          19436.97407398648,
          21117.549910816277,
          22943.433094998676,
          24927.187311401132,
          27082.462536660412,
          29424.08896305803,
          31968.179043325534,
          34732.23835848224,
          37735.28607167524,
          40997.98579676474,
          44542.787782221254,
          48394.08338856897,
          52578.3729224631,
          57124.44798212829,
          62063.589568960466,
          67429.78332831268,
          73259.95340071563,
          79594.21649246945,
          86476.15791398256,
          93953.13148501898,
          102076.58537075171,
          110902.41609042967,
          120491.35313475398,
          130909.3768381556,
          142228.1723816745,
          154525.6230502433,
          167886.3461381476,
          182402.27519065505,
          198173.29258773688,
          215307.91682298118,
          233924.04920621737,
          254149.7851285334,
          276124.2954713302,
          299998.78422479396,
          325937.5289042584,
          354119.01092442585,
          384737.14370861964,
          418002.60698425135,
          454144.29644453456,
          493410.89875277225,
          536072.602725522,
          582422.9584700761,
          632780.8972672329,
          687492.9260998506,
          746935.5119259233,
          811517.6721034573,
          881683.7887894235,
          957916.6666808251,
          1040740.8551369329,
          1130726.2575399491,
          1228492.052733032,
          1334710.9555157865,
          1450113.8455157212,
          1575494.7962825175,
          1711716.5392145663,
          1859716.3999104307,
          2020512.7477961055,
          2195212.0034018005,
          2385016.2515112464,
          2591231.5125631755,
          2815276.729224436,
          3058693.529962768,
          3323156.8368106526,
          3610486.390303291,
          3922659.2708993126,
          4261823.503032156,
          4630312.835412247,
          5030662.799276787,
          5465628.155073506,
          5938201.847642568,
          6451635.600311871,
          7009462.2896228265,
          7615520.25462652,
          8273979.708042254,
          8989371.430992238,
          9766617.948773634,
          10611067.402159708,
          11528530.34732605,
          12525319.7375923,
          13608294.362111473,
          14784906.040368509,
          16063250.897271717,
          17452125.07161945,
          18961085.24129667
         ]
        }
       ],
       "layout": {
        "autosize": false,
        "font": {
         "size": 14
        },
        "height": 600,
        "legend": {
         "orientation": "h",
         "tracegroupgap": 0,
         "x": 0.5,
         "xanchor": "center",
         "y": -0.15,
         "yanchor": "top"
        },
        "margin": {
         "b": 10,
         "l": 10,
         "r": 10,
         "t": 40
        },
        "template": {
         "data": {
          "bar": [
           {
            "error_x": {
             "color": "#2a3f5f"
            },
            "error_y": {
             "color": "#2a3f5f"
            },
            "marker": {
             "line": {
              "color": "#E5ECF6",
              "width": 0.5
             },
             "pattern": {
              "fillmode": "overlay",
              "size": 10,
              "solidity": 0.2
             }
            },
            "type": "bar"
           }
          ],
          "barpolar": [
           {
            "marker": {
             "line": {
              "color": "#E5ECF6",
              "width": 0.5
             },
             "pattern": {
              "fillmode": "overlay",
              "size": 10,
              "solidity": 0.2
             }
            },
            "type": "barpolar"
           }
          ],
          "carpet": [
           {
            "aaxis": {
             "endlinecolor": "#2a3f5f",
             "gridcolor": "white",
             "linecolor": "white",
             "minorgridcolor": "white",
             "startlinecolor": "#2a3f5f"
            },
            "baxis": {
             "endlinecolor": "#2a3f5f",
             "gridcolor": "white",
             "linecolor": "white",
             "minorgridcolor": "white",
             "startlinecolor": "#2a3f5f"
            },
            "type": "carpet"
           }
          ],
          "choropleth": [
           {
            "colorbar": {
             "outlinewidth": 0,
             "ticks": ""
            },
            "type": "choropleth"
           }
          ],
          "contour": [
           {
            "colorbar": {
             "outlinewidth": 0,
             "ticks": ""
            },
            "colorscale": [
             [
              0,
              "#0d0887"
             ],
             [
              0.1111111111111111,
              "#46039f"
             ],
             [
              0.2222222222222222,
              "#7201a8"
             ],
             [
              0.3333333333333333,
              "#9c179e"
             ],
             [
              0.4444444444444444,
              "#bd3786"
             ],
             [
              0.5555555555555556,
              "#d8576b"
             ],
             [
              0.6666666666666666,
              "#ed7953"
             ],
             [
              0.7777777777777778,
              "#fb9f3a"
             ],
             [
              0.8888888888888888,
              "#fdca26"
             ],
             [
              1,
              "#f0f921"
             ]
            ],
            "type": "contour"
           }
          ],
          "contourcarpet": [
           {
            "colorbar": {
             "outlinewidth": 0,
             "ticks": ""
            },
            "type": "contourcarpet"
           }
          ],
          "heatmap": [
           {
            "colorbar": {
             "outlinewidth": 0,
             "ticks": ""
            },
            "colorscale": [
             [
              0,
              "#0d0887"
             ],
             [
              0.1111111111111111,
              "#46039f"
             ],
             [
              0.2222222222222222,
              "#7201a8"
             ],
             [
              0.3333333333333333,
              "#9c179e"
             ],
             [
              0.4444444444444444,
              "#bd3786"
             ],
             [
              0.5555555555555556,
              "#d8576b"
             ],
             [
              0.6666666666666666,
              "#ed7953"
             ],
             [
              0.7777777777777778,
              "#fb9f3a"
             ],
             [
              0.8888888888888888,
              "#fdca26"
             ],
             [
              1,
              "#f0f921"
             ]
            ],
            "type": "heatmap"
           }
          ],
          "heatmapgl": [
           {
            "colorbar": {
             "outlinewidth": 0,
             "ticks": ""
            },
            "colorscale": [
             [
              0,
              "#0d0887"
             ],
             [
              0.1111111111111111,
              "#46039f"
             ],
             [
              0.2222222222222222,
              "#7201a8"
             ],
             [
              0.3333333333333333,
              "#9c179e"
             ],
             [
              0.4444444444444444,
              "#bd3786"
             ],
             [
              0.5555555555555556,
              "#d8576b"
             ],
             [
              0.6666666666666666,
              "#ed7953"
             ],
             [
              0.7777777777777778,
              "#fb9f3a"
             ],
             [
              0.8888888888888888,
              "#fdca26"
             ],
             [
              1,
              "#f0f921"
             ]
            ],
            "type": "heatmapgl"
           }
          ],
          "histogram": [
           {
            "marker": {
             "pattern": {
              "fillmode": "overlay",
              "size": 10,
              "solidity": 0.2
             }
            },
            "type": "histogram"
           }
          ],
          "histogram2d": [
           {
            "colorbar": {
             "outlinewidth": 0,
             "ticks": ""
            },
            "colorscale": [
             [
              0,
              "#0d0887"
             ],
             [
              0.1111111111111111,
              "#46039f"
             ],
             [
              0.2222222222222222,
              "#7201a8"
             ],
             [
              0.3333333333333333,
              "#9c179e"
             ],
             [
              0.4444444444444444,
              "#bd3786"
             ],
             [
              0.5555555555555556,
              "#d8576b"
             ],
             [
              0.6666666666666666,
              "#ed7953"
             ],
             [
              0.7777777777777778,
              "#fb9f3a"
             ],
             [
              0.8888888888888888,
              "#fdca26"
             ],
             [
              1,
              "#f0f921"
             ]
            ],
            "type": "histogram2d"
           }
          ],
          "histogram2dcontour": [
           {
            "colorbar": {
             "outlinewidth": 0,
             "ticks": ""
            },
            "colorscale": [
             [
              0,
              "#0d0887"
             ],
             [
              0.1111111111111111,
              "#46039f"
             ],
             [
              0.2222222222222222,
              "#7201a8"
             ],
             [
              0.3333333333333333,
              "#9c179e"
             ],
             [
              0.4444444444444444,
              "#bd3786"
             ],
             [
              0.5555555555555556,
              "#d8576b"
             ],
             [
              0.6666666666666666,
              "#ed7953"
             ],
             [
              0.7777777777777778,
              "#fb9f3a"
             ],
             [
              0.8888888888888888,
              "#fdca26"
             ],
             [
              1,
              "#f0f921"
             ]
            ],
            "type": "histogram2dcontour"
           }
          ],
          "mesh3d": [
           {
            "colorbar": {
             "outlinewidth": 0,
             "ticks": ""
            },
            "type": "mesh3d"
           }
          ],
          "parcoords": [
           {
            "line": {
             "colorbar": {
              "outlinewidth": 0,
              "ticks": ""
             }
            },
            "type": "parcoords"
           }
          ],
          "pie": [
           {
            "automargin": true,
            "type": "pie"
           }
          ],
          "scatter": [
           {
            "fillpattern": {
             "fillmode": "overlay",
             "size": 10,
             "solidity": 0.2
            },
            "type": "scatter"
           }
          ],
          "scatter3d": [
           {
            "line": {
             "colorbar": {
              "outlinewidth": 0,
              "ticks": ""
             }
            },
            "marker": {
             "colorbar": {
              "outlinewidth": 0,
              "ticks": ""
             }
            },
            "type": "scatter3d"
           }
          ],
          "scattercarpet": [
           {
            "marker": {
             "colorbar": {
              "outlinewidth": 0,
              "ticks": ""
             }
            },
            "type": "scattercarpet"
           }
          ],
          "scattergeo": [
           {
            "marker": {
             "colorbar": {
              "outlinewidth": 0,
              "ticks": ""
             }
            },
            "type": "scattergeo"
           }
          ],
          "scattergl": [
           {
            "marker": {
             "colorbar": {
              "outlinewidth": 0,
              "ticks": ""
             }
            },
            "type": "scattergl"
           }
          ],
          "scattermapbox": [
           {
            "marker": {
             "colorbar": {
              "outlinewidth": 0,
              "ticks": ""
             }
            },
            "type": "scattermapbox"
           }
          ],
          "scatterpolar": [
           {
            "marker": {
             "colorbar": {
              "outlinewidth": 0,
              "ticks": ""
             }
            },
            "type": "scatterpolar"
           }
          ],
          "scatterpolargl": [
           {
            "marker": {
             "colorbar": {
              "outlinewidth": 0,
              "ticks": ""
             }
            },
            "type": "scatterpolargl"
           }
          ],
          "scatterternary": [
           {
            "marker": {
             "colorbar": {
              "outlinewidth": 0,
              "ticks": ""
             }
            },
            "type": "scatterternary"
           }
          ],
          "surface": [
           {
            "colorbar": {
             "outlinewidth": 0,
             "ticks": ""
            },
            "colorscale": [
             [
              0,
              "#0d0887"
             ],
             [
              0.1111111111111111,
              "#46039f"
             ],
             [
              0.2222222222222222,
              "#7201a8"
             ],
             [
              0.3333333333333333,
              "#9c179e"
             ],
             [
              0.4444444444444444,
              "#bd3786"
             ],
             [
              0.5555555555555556,
              "#d8576b"
             ],
             [
              0.6666666666666666,
              "#ed7953"
             ],
             [
              0.7777777777777778,
              "#fb9f3a"
             ],
             [
              0.8888888888888888,
              "#fdca26"
             ],
             [
              1,
              "#f0f921"
             ]
            ],
            "type": "surface"
           }
          ],
          "table": [
           {
            "cells": {
             "fill": {
              "color": "#EBF0F8"
             },
             "line": {
              "color": "white"
             }
            },
            "header": {
             "fill": {
              "color": "#C8D4E3"
             },
             "line": {
              "color": "white"
             }
            },
            "type": "table"
           }
          ]
         },
         "layout": {
          "annotationdefaults": {
           "arrowcolor": "#2a3f5f",
           "arrowhead": 0,
           "arrowwidth": 1
          },
          "autotypenumbers": "strict",
          "coloraxis": {
           "colorbar": {
            "outlinewidth": 0,
            "ticks": ""
           }
          },
          "colorscale": {
           "diverging": [
            [
             0,
             "#8e0152"
            ],
            [
             0.1,
             "#c51b7d"
            ],
            [
             0.2,
             "#de77ae"
            ],
            [
             0.3,
             "#f1b6da"
            ],
            [
             0.4,
             "#fde0ef"
            ],
            [
             0.5,
             "#f7f7f7"
            ],
            [
             0.6,
             "#e6f5d0"
            ],
            [
             0.7,
             "#b8e186"
            ],
            [
             0.8,
             "#7fbc41"
            ],
            [
             0.9,
             "#4d9221"
            ],
            [
             1,
             "#276419"
            ]
           ],
           "sequential": [
            [
             0,
             "#0d0887"
            ],
            [
             0.1111111111111111,
             "#46039f"
            ],
            [
             0.2222222222222222,
             "#7201a8"
            ],
            [
             0.3333333333333333,
             "#9c179e"
            ],
            [
             0.4444444444444444,
             "#bd3786"
            ],
            [
             0.5555555555555556,
             "#d8576b"
            ],
            [
             0.6666666666666666,
             "#ed7953"
            ],
            [
             0.7777777777777778,
             "#fb9f3a"
            ],
            [
             0.8888888888888888,
             "#fdca26"
            ],
            [
             1,
             "#f0f921"
            ]
           ],
           "sequentialminus": [
            [
             0,
             "#0d0887"
            ],
            [
             0.1111111111111111,
             "#46039f"
            ],
            [
             0.2222222222222222,
             "#7201a8"
            ],
            [
             0.3333333333333333,
             "#9c179e"
            ],
            [
             0.4444444444444444,
             "#bd3786"
            ],
            [
             0.5555555555555556,
             "#d8576b"
            ],
            [
             0.6666666666666666,
             "#ed7953"
            ],
            [
             0.7777777777777778,
             "#fb9f3a"
            ],
            [
             0.8888888888888888,
             "#fdca26"
            ],
            [
             1,
             "#f0f921"
            ]
           ]
          },
          "colorway": [
           "#636efa",
           "#EF553B",
           "#00cc96",
           "#ab63fa",
           "#FFA15A",
           "#19d3f3",
           "#FF6692",
           "#B6E880",
           "#FF97FF",
           "#FECB52"
          ],
          "font": {
           "color": "#2a3f5f"
          },
          "geo": {
           "bgcolor": "white",
           "lakecolor": "white",
           "landcolor": "#E5ECF6",
           "showlakes": true,
           "showland": true,
           "subunitcolor": "white"
          },
          "hoverlabel": {
           "align": "left"
          },
          "hovermode": "closest",
          "mapbox": {
           "style": "light"
          },
          "paper_bgcolor": "white",
          "plot_bgcolor": "#E5ECF6",
          "polar": {
           "angularaxis": {
            "gridcolor": "white",
            "linecolor": "white",
            "ticks": ""
           },
           "bgcolor": "#E5ECF6",
           "radialaxis": {
            "gridcolor": "white",
            "linecolor": "white",
            "ticks": ""
           }
          },
          "scene": {
           "xaxis": {
            "backgroundcolor": "#E5ECF6",
            "gridcolor": "white",
            "gridwidth": 2,
            "linecolor": "white",
            "showbackground": true,
            "ticks": "",
            "zerolinecolor": "white"
           },
           "yaxis": {
            "backgroundcolor": "#E5ECF6",
            "gridcolor": "white",
            "gridwidth": 2,
            "linecolor": "white",
            "showbackground": true,
            "ticks": "",
            "zerolinecolor": "white"
           },
           "zaxis": {
            "backgroundcolor": "#E5ECF6",
            "gridcolor": "white",
            "gridwidth": 2,
            "linecolor": "white",
            "showbackground": true,
            "ticks": "",
            "zerolinecolor": "white"
           }
          },
          "shapedefaults": {
           "line": {
            "color": "#2a3f5f"
           }
          },
          "ternary": {
           "aaxis": {
            "gridcolor": "white",
            "linecolor": "white",
            "ticks": ""
           },
           "baxis": {
            "gridcolor": "white",
            "linecolor": "white",
            "ticks": ""
           },
           "bgcolor": "#E5ECF6",
           "caxis": {
            "gridcolor": "white",
            "linecolor": "white",
            "ticks": ""
           }
          },
          "title": {
           "x": 0.05
          },
          "xaxis": {
           "automargin": true,
           "gridcolor": "white",
           "linecolor": "white",
           "ticks": "",
           "title": {
            "standoff": 15
           },
           "zerolinecolor": "white",
           "zerolinewidth": 2
          },
          "yaxis": {
           "automargin": true,
           "gridcolor": "white",
           "linecolor": "white",
           "ticks": "",
           "title": {
            "standoff": 15
           },
           "zerolinecolor": "white",
           "zerolinewidth": 2
          }
         }
        },
        "title": {
         "text": "Hardware CapEx + OpEx to train top 25% most compute-intensive ML systems",
         "x": 0.5
        },
        "width": 800,
        "xaxis": {
         "anchor": "y",
         "domain": [
          0,
          1
         ],
         "range": [
          "2015-01-01",
          "2025-01-01"
         ],
         "title": {
          "text": "Publication date"
         }
        },
        "yaxis": {
         "anchor": "x",
         "domain": [
          0,
          1
         ],
         "range": [
          1,
          9
         ],
         "title": {
          "text": "Cost (2023 USD)"
         },
         "type": "log"
        }
       }
      }
     },
     "metadata": {},
     "output_type": "display_data"
    }
   ],
   "source": [
    "label_systems = ['GNMT', 'DALL-E', 'GPT-3 175B (davinci)', 'PaLM (540B)', 'Llama 2-70B', 'Falcon 180B', 'GPT-4', 'Gemini Ultra']\n",
    "\n",
    "tpu_mask = cost_df['Training hardware'].str.contains('TPU', na=False)\n",
    "tpu_cost_df = cost_df.loc[tpu_mask]\n",
    "gpu_cost_df = cost_df.loc[~tpu_mask]\n",
    "\n",
    "fig = px.scatter(\n",
    "    gpu_cost_df,\n",
    "    x='Publication date',\n",
    "    y='Cost (inflation-adjusted)',\n",
    "    log_y=True,\n",
    ")\n",
    "fig.add_scatter(\n",
    "    x=tpu_cost_df['Publication date'],\n",
    "    y=tpu_cost_df['Cost (inflation-adjusted)'],\n",
    "    mode='markers',\n",
    "    marker_symbol='circle-open',\n",
    "    name='Using equivalent price of TPU',\n",
    ")\n",
    "fig.add_scatter(\n",
    "    x=gpu_cost_df.loc[gpu_cost_df['System'].isin(label_systems)]['Publication date'],\n",
    "    y=gpu_cost_df.loc[gpu_cost_df['System'].isin(label_systems)]['Cost (inflation-adjusted)'],\n",
    "    text=gpu_cost_df.loc[gpu_cost_df['System'].isin(label_systems)]['System'],\n",
    "    mode='text',\n",
    "    showlegend=False,\n",
    ")\n",
    "fig.add_scatter(\n",
    "    x=tpu_cost_df.loc[tpu_cost_df['System'].isin(label_systems)]['Publication date'],\n",
    "    y=tpu_cost_df.loc[tpu_cost_df['System'].isin(label_systems)]['Cost (inflation-adjusted)'],\n",
    "    text=tpu_cost_df.loc[tpu_cost_df['System'].isin(label_systems)]['System'],\n",
    "    mode='text',\n",
    "    showlegend=False,\n",
    ")\n",
    "\n",
    "# Marker color\n",
    "fig.update_traces(\n",
    "    marker=dict(\n",
    "        color='rgb(0,100,200)',\n",
    "    ),\n",
    "    selector=dict(mode='markers'),\n",
    ")\n",
    "\n",
    "# Shade in CI\n",
    "fig.add_scatter(\n",
    "    x=predicted_cost_df['Publication date'],\n",
    "    y=10**predicted_cost_df['mean_ci_lower'],\n",
    "    mode='lines',\n",
    "    line=dict(width=0),\n",
    "    showlegend=False,\n",
    ")\n",
    "fig.add_scatter(\n",
    "    x=predicted_cost_df['Publication date'],\n",
    "    y=10**predicted_cost_df['mean_ci_upper'],\n",
    "    mode='lines',\n",
    "    fill='tonexty',\n",
    "    fillcolor='rgba(0,100,200,0.2)',\n",
    "    line=dict(width=0),\n",
    "    name='95% CI of mean',\n",
    ")\n",
    "fig.add_scatter(\n",
    "    x=predicted_cost_df['Publication date'],\n",
    "    y=10**predicted_cost_df['mean'],\n",
    "    mode='lines',\n",
    "    line=dict(color='rgb(0,100,200)'),\n",
    "    name=f'Regression mean (growth rate: {10**reg_results.params[1]:.1f}x per year)',\n",
    ")\n",
    "\n",
    "fig.update_traces(textposition='top center')\n",
    "\n",
    "# axis limits\n",
    "fig.update_xaxes(range=['2015-01-01', '2025-01-01'])\n",
    "fig.update_yaxes(range=[1, 9])\n",
    "\n",
    "# legend on top\n",
    "fig.update_layout(legend=dict(\n",
    "    orientation='h',\n",
    "    yanchor='top',\n",
    "    y=-0.15,\n",
    "    xanchor='center',\n",
    "    x=0.5,\n",
    "))\n",
    "\n",
    "# axis labels\n",
    "fig.update_xaxes(title_text='Publication date')\n",
    "fig.update_yaxes(title_text='Cost (2023 USD)')\n",
    "\n",
    "# title\n",
    "fig.update_layout(title_text=plot_title_lookup[estimation_method])\n",
    "\n",
    "# update size\n",
    "fig.update_layout(\n",
    "    autosize=False,\n",
    "    width=800,\n",
    "    height=600,\n",
    "    title_x=0.5,\n",
    ")\n",
    "\n",
    "# font size\n",
    "fig.update_layout(\n",
    "    font=dict(\n",
    "        size=14,\n",
    "    )\n",
    ")\n",
    "\n",
    "# axis limits\n",
    "fig.update_xaxes(range=[pred_start_date, pred_end_date])\n",
    "\n",
    "# margins\n",
    "fig.update_layout(margin=dict(l=10, r=10, t=40, b=10))\n",
    "\n",
    "save_plot(fig, results_dir, 'cost_regression')\n",
    "\n",
    "fig.show()"
   ]
  },
  {
   "cell_type": "markdown",
   "metadata": {},
   "source": [
    "# Export data"
   ]
  },
  {
   "cell_type": "code",
   "execution_count": 26,
   "metadata": {
    "ExecuteTime": {
     "end_time": "2024-03-08T01:55:05.122800400Z",
     "start_time": "2024-03-08T01:55:04.849972900Z"
    }
   },
   "outputs": [
    {
     "data": {
      "text/html": [
       "<div>\n",
       "<style scoped>\n",
       "    .dataframe tbody tr th:only-of-type {\n",
       "        vertical-align: middle;\n",
       "    }\n",
       "\n",
       "    .dataframe tbody tr th {\n",
       "        vertical-align: top;\n",
       "    }\n",
       "\n",
       "    .dataframe thead th {\n",
       "        text-align: right;\n",
       "    }\n",
       "</style>\n",
       "<table border=\"1\" class=\"dataframe\">\n",
       "  <thead>\n",
       "    <tr style=\"text-align: right;\">\n",
       "      <th></th>\n",
       "      <th>System</th>\n",
       "      <th>Domain</th>\n",
       "      <th>Task</th>\n",
       "      <th>Model accessibility</th>\n",
       "      <th>Reference</th>\n",
       "      <th>Publication date</th>\n",
       "      <th>Organization</th>\n",
       "      <th>Parameters</th>\n",
       "      <th>Training compute (FLOP)</th>\n",
       "      <th>Training dataset size (datapoints)</th>\n",
       "      <th>...</th>\n",
       "      <th>Training hardware</th>\n",
       "      <th>Country (from Organization)</th>\n",
       "      <th>Base model</th>\n",
       "      <th>Finetune compute (FLOP)</th>\n",
       "      <th>Hardware quantity</th>\n",
       "      <th>Hardware utilization</th>\n",
       "      <th>Training cloud compute vendor</th>\n",
       "      <th>Training data center</th>\n",
       "      <th>Cost</th>\n",
       "      <th>Cost (inflation-adjusted)</th>\n",
       "    </tr>\n",
       "  </thead>\n",
       "  <tbody>\n",
       "    <tr>\n",
       "      <th>39</th>\n",
       "      <td>Gemini Ultra</td>\n",
       "      <td>Multimodal</td>\n",
       "      <td>Language modelling,Visual question answering,C...</td>\n",
       "      <td>Hosted access (no API)</td>\n",
       "      <td>Gemini: A Family of Highly Capable Multimodal ...</td>\n",
       "      <td>2023-12-06 00:00:00</td>\n",
       "      <td>Google DeepMind</td>\n",
       "      <td>NaN</td>\n",
       "      <td>5.000000e+25</td>\n",
       "      <td>NaN</td>\n",
       "      <td>...</td>\n",
       "      <td>Google TPU v4</td>\n",
       "      <td>Multinational</td>\n",
       "      <td>NaN</td>\n",
       "      <td>NaN</td>\n",
       "      <td>55000.0</td>\n",
       "      <td>NaN</td>\n",
       "      <td>NaN</td>\n",
       "      <td>NaN</td>\n",
       "      <td>1.148555e+08</td>\n",
       "      <td>1.148555e+08</td>\n",
       "    </tr>\n",
       "    <tr>\n",
       "      <th>46</th>\n",
       "      <td>Qwen-72B</td>\n",
       "      <td>Language</td>\n",
       "      <td>Chat,Code generation</td>\n",
       "      <td>Permissive license (depr.)</td>\n",
       "      <td>NaN</td>\n",
       "      <td>2023-11-30 00:00:00</td>\n",
       "      <td>Alibaba</td>\n",
       "      <td>7.200000e+10</td>\n",
       "      <td>1.300000e+24</td>\n",
       "      <td>NaN</td>\n",
       "      <td>...</td>\n",
       "      <td>NaN</td>\n",
       "      <td>China</td>\n",
       "      <td>NaN</td>\n",
       "      <td>NaN</td>\n",
       "      <td>NaN</td>\n",
       "      <td>NaN</td>\n",
       "      <td>NaN</td>\n",
       "      <td>NaN</td>\n",
       "      <td>NaN</td>\n",
       "      <td>NaN</td>\n",
       "    </tr>\n",
       "    <tr>\n",
       "      <th>54</th>\n",
       "      <td>Inflection-2</td>\n",
       "      <td>Language</td>\n",
       "      <td>Language modelling</td>\n",
       "      <td>API access</td>\n",
       "      <td>Inflection-2: The Next Step Up</td>\n",
       "      <td>2023-11-22 00:00:00</td>\n",
       "      <td>Inflection AI</td>\n",
       "      <td>NaN</td>\n",
       "      <td>1.001000e+25</td>\n",
       "      <td>NaN</td>\n",
       "      <td>...</td>\n",
       "      <td>NVIDIA H100 SXM5</td>\n",
       "      <td>United States of America</td>\n",
       "      <td>NaN</td>\n",
       "      <td>NaN</td>\n",
       "      <td>5000.0</td>\n",
       "      <td>NaN</td>\n",
       "      <td>NaN</td>\n",
       "      <td>NaN</td>\n",
       "      <td>1.901656e+07</td>\n",
       "      <td>1.906107e+07</td>\n",
       "    </tr>\n",
       "    <tr>\n",
       "      <th>83</th>\n",
       "      <td>Yi-34B</td>\n",
       "      <td>Language</td>\n",
       "      <td>Chat</td>\n",
       "      <td>Permissive license (depr.)</td>\n",
       "      <td>NaN</td>\n",
       "      <td>2023-11-02 00:00:00</td>\n",
       "      <td>01.AI</td>\n",
       "      <td>3.400000e+10</td>\n",
       "      <td>6.100000e+23</td>\n",
       "      <td>NaN</td>\n",
       "      <td>...</td>\n",
       "      <td>NaN</td>\n",
       "      <td>China</td>\n",
       "      <td>NaN</td>\n",
       "      <td>NaN</td>\n",
       "      <td>NaN</td>\n",
       "      <td>NaN</td>\n",
       "      <td>NaN</td>\n",
       "      <td>NaN</td>\n",
       "      <td>NaN</td>\n",
       "      <td>NaN</td>\n",
       "    </tr>\n",
       "    <tr>\n",
       "      <th>92</th>\n",
       "      <td>ChatGLM3</td>\n",
       "      <td>Multimodal</td>\n",
       "      <td>Chat,Visual question answering</td>\n",
       "      <td>NaN</td>\n",
       "      <td>Zhipu AI launches third-generation base model</td>\n",
       "      <td>2023-10-27 00:00:00</td>\n",
       "      <td>Zhipu AI</td>\n",
       "      <td>1.300000e+11</td>\n",
       "      <td>1.092000e+24</td>\n",
       "      <td>1.050000e+12</td>\n",
       "      <td>...</td>\n",
       "      <td>NaN</td>\n",
       "      <td>China</td>\n",
       "      <td>NaN</td>\n",
       "      <td>NaN</td>\n",
       "      <td>NaN</td>\n",
       "      <td>NaN</td>\n",
       "      <td>NaN</td>\n",
       "      <td>NaN</td>\n",
       "      <td>NaN</td>\n",
       "      <td>NaN</td>\n",
       "    </tr>\n",
       "    <tr>\n",
       "      <th>...</th>\n",
       "      <td>...</td>\n",
       "      <td>...</td>\n",
       "      <td>...</td>\n",
       "      <td>...</td>\n",
       "      <td>...</td>\n",
       "      <td>...</td>\n",
       "      <td>...</td>\n",
       "      <td>...</td>\n",
       "      <td>...</td>\n",
       "      <td>...</td>\n",
       "      <td>...</td>\n",
       "      <td>...</td>\n",
       "      <td>...</td>\n",
       "      <td>...</td>\n",
       "      <td>...</td>\n",
       "      <td>...</td>\n",
       "      <td>...</td>\n",
       "      <td>...</td>\n",
       "      <td>...</td>\n",
       "      <td>...</td>\n",
       "      <td>...</td>\n",
       "    </tr>\n",
       "    <tr>\n",
       "      <th>1094</th>\n",
       "      <td>Xception</td>\n",
       "      <td>Vision</td>\n",
       "      <td>Image classification</td>\n",
       "      <td>NaN</td>\n",
       "      <td>Xception: Deep Learning with Depthwise Separab...</td>\n",
       "      <td>2016-10-07 00:00:00</td>\n",
       "      <td>Google</td>\n",
       "      <td>2.285595e+07</td>\n",
       "      <td>4.360000e+20</td>\n",
       "      <td>3.500000e+08</td>\n",
       "      <td>...</td>\n",
       "      <td>NVIDIA Tesla K80</td>\n",
       "      <td>United States of America</td>\n",
       "      <td>NaN</td>\n",
       "      <td>NaN</td>\n",
       "      <td>60.0</td>\n",
       "      <td>NaN</td>\n",
       "      <td>NaN</td>\n",
       "      <td>NaN</td>\n",
       "      <td>1.917107e+04</td>\n",
       "      <td>2.093516e+04</td>\n",
       "    </tr>\n",
       "    <tr>\n",
       "      <th>1095</th>\n",
       "      <td>GNMT</td>\n",
       "      <td>Language</td>\n",
       "      <td>Translation</td>\n",
       "      <td>NaN</td>\n",
       "      <td>Google's Neural Machine Translation System: Br...</td>\n",
       "      <td>2016-09-26 00:00:00</td>\n",
       "      <td>Google</td>\n",
       "      <td>2.780000e+08</td>\n",
       "      <td>6.900000e+21</td>\n",
       "      <td>3.600000e+08</td>\n",
       "      <td>...</td>\n",
       "      <td>NVIDIA Tesla K80</td>\n",
       "      <td>United States of America</td>\n",
       "      <td>NaN</td>\n",
       "      <td>NaN</td>\n",
       "      <td>96.0</td>\n",
       "      <td>NaN</td>\n",
       "      <td>NaN</td>\n",
       "      <td>NaN</td>\n",
       "      <td>1.840423e+05</td>\n",
       "      <td>2.009776e+05</td>\n",
       "    </tr>\n",
       "    <tr>\n",
       "      <th>1131</th>\n",
       "      <td>AlphaGo Lee</td>\n",
       "      <td>Games</td>\n",
       "      <td>Go</td>\n",
       "      <td>NaN</td>\n",
       "      <td>Mastering the game of Go with deep neural netw...</td>\n",
       "      <td>2016-01-27 00:00:00</td>\n",
       "      <td>DeepMind</td>\n",
       "      <td>NaN</td>\n",
       "      <td>1.900000e+21</td>\n",
       "      <td>2.940000e+07</td>\n",
       "      <td>...</td>\n",
       "      <td>NaN</td>\n",
       "      <td>United Kingdom of Great Britain and Northern I...</td>\n",
       "      <td>NaN</td>\n",
       "      <td>NaN</td>\n",
       "      <td>NaN</td>\n",
       "      <td>NaN</td>\n",
       "      <td>NaN</td>\n",
       "      <td>NaN</td>\n",
       "      <td>NaN</td>\n",
       "      <td>NaN</td>\n",
       "    </tr>\n",
       "    <tr>\n",
       "      <th>1137</th>\n",
       "      <td>DeepSpeech2 (English)</td>\n",
       "      <td>Speech</td>\n",
       "      <td>Speech recognition</td>\n",
       "      <td>NaN</td>\n",
       "      <td>Deep Speech 2: End-to-End Speech Recognition i...</td>\n",
       "      <td>2015-12-08 00:00:00</td>\n",
       "      <td>Baidu Research - Silicon Valley AI Lab</td>\n",
       "      <td>3.800000e+07</td>\n",
       "      <td>2.600000e+19</td>\n",
       "      <td>1.633392e+08</td>\n",
       "      <td>...</td>\n",
       "      <td>NVIDIA GTX Titan X</td>\n",
       "      <td>United States of America</td>\n",
       "      <td>NaN</td>\n",
       "      <td>NaN</td>\n",
       "      <td>NaN</td>\n",
       "      <td>0.45</td>\n",
       "      <td>NaN</td>\n",
       "      <td>NaN</td>\n",
       "      <td>2.376194e+02</td>\n",
       "      <td>2.643349e+02</td>\n",
       "    </tr>\n",
       "    <tr>\n",
       "      <th>1141</th>\n",
       "      <td>AlphaGo Fan</td>\n",
       "      <td>Games</td>\n",
       "      <td>Go</td>\n",
       "      <td>NaN</td>\n",
       "      <td>Mastering the game of Go with deep neural netw...</td>\n",
       "      <td>2015-10-01 00:00:00</td>\n",
       "      <td>Google DeepMind</td>\n",
       "      <td>8.209984e+06</td>\n",
       "      <td>3.800000e+20</td>\n",
       "      <td>NaN</td>\n",
       "      <td>...</td>\n",
       "      <td>NaN</td>\n",
       "      <td>Multinational</td>\n",
       "      <td>NaN</td>\n",
       "      <td>NaN</td>\n",
       "      <td>NaN</td>\n",
       "      <td>NaN</td>\n",
       "      <td>NaN</td>\n",
       "      <td>NaN</td>\n",
       "      <td>NaN</td>\n",
       "      <td>NaN</td>\n",
       "    </tr>\n",
       "  </tbody>\n",
       "</table>\n",
       "<p>76 rows × 22 columns</p>\n",
       "</div>"
      ],
      "text/plain": [
       "                     System      Domain  \\\n",
       "39             Gemini Ultra  Multimodal   \n",
       "46                 Qwen-72B    Language   \n",
       "54             Inflection-2    Language   \n",
       "83                   Yi-34B    Language   \n",
       "92                 ChatGLM3  Multimodal   \n",
       "...                     ...         ...   \n",
       "1094               Xception      Vision   \n",
       "1095                   GNMT    Language   \n",
       "1131            AlphaGo Lee       Games   \n",
       "1137  DeepSpeech2 (English)      Speech   \n",
       "1141            AlphaGo Fan       Games   \n",
       "\n",
       "                                                   Task  \\\n",
       "39    Language modelling,Visual question answering,C...   \n",
       "46                                 Chat,Code generation   \n",
       "54                                   Language modelling   \n",
       "83                                                 Chat   \n",
       "92                       Chat,Visual question answering   \n",
       "...                                                 ...   \n",
       "1094                               Image classification   \n",
       "1095                                        Translation   \n",
       "1131                                                 Go   \n",
       "1137                                 Speech recognition   \n",
       "1141                                                 Go   \n",
       "\n",
       "             Model accessibility  \\\n",
       "39        Hosted access (no API)   \n",
       "46    Permissive license (depr.)   \n",
       "54                    API access   \n",
       "83    Permissive license (depr.)   \n",
       "92                           NaN   \n",
       "...                          ...   \n",
       "1094                         NaN   \n",
       "1095                         NaN   \n",
       "1131                         NaN   \n",
       "1137                         NaN   \n",
       "1141                         NaN   \n",
       "\n",
       "                                              Reference     Publication date  \\\n",
       "39    Gemini: A Family of Highly Capable Multimodal ...  2023-12-06 00:00:00   \n",
       "46                                                  NaN  2023-11-30 00:00:00   \n",
       "54                       Inflection-2: The Next Step Up  2023-11-22 00:00:00   \n",
       "83                                                  NaN  2023-11-02 00:00:00   \n",
       "92        Zhipu AI launches third-generation base model  2023-10-27 00:00:00   \n",
       "...                                                 ...                  ...   \n",
       "1094  Xception: Deep Learning with Depthwise Separab...  2016-10-07 00:00:00   \n",
       "1095  Google's Neural Machine Translation System: Br...  2016-09-26 00:00:00   \n",
       "1131  Mastering the game of Go with deep neural netw...  2016-01-27 00:00:00   \n",
       "1137  Deep Speech 2: End-to-End Speech Recognition i...  2015-12-08 00:00:00   \n",
       "1141  Mastering the game of Go with deep neural netw...  2015-10-01 00:00:00   \n",
       "\n",
       "                                Organization    Parameters  \\\n",
       "39                           Google DeepMind           NaN   \n",
       "46                                   Alibaba  7.200000e+10   \n",
       "54                             Inflection AI           NaN   \n",
       "83                                     01.AI  3.400000e+10   \n",
       "92                                  Zhipu AI  1.300000e+11   \n",
       "...                                      ...           ...   \n",
       "1094                                  Google  2.285595e+07   \n",
       "1095                                  Google  2.780000e+08   \n",
       "1131                                DeepMind           NaN   \n",
       "1137  Baidu Research - Silicon Valley AI Lab  3.800000e+07   \n",
       "1141                         Google DeepMind  8.209984e+06   \n",
       "\n",
       "      Training compute (FLOP)  Training dataset size (datapoints)  ...  \\\n",
       "39               5.000000e+25                                 NaN  ...   \n",
       "46               1.300000e+24                                 NaN  ...   \n",
       "54               1.001000e+25                                 NaN  ...   \n",
       "83               6.100000e+23                                 NaN  ...   \n",
       "92               1.092000e+24                        1.050000e+12  ...   \n",
       "...                       ...                                 ...  ...   \n",
       "1094             4.360000e+20                        3.500000e+08  ...   \n",
       "1095             6.900000e+21                        3.600000e+08  ...   \n",
       "1131             1.900000e+21                        2.940000e+07  ...   \n",
       "1137             2.600000e+19                        1.633392e+08  ...   \n",
       "1141             3.800000e+20                                 NaN  ...   \n",
       "\n",
       "       Training hardware                        Country (from Organization)  \\\n",
       "39         Google TPU v4                                      Multinational   \n",
       "46                   NaN                                              China   \n",
       "54      NVIDIA H100 SXM5                           United States of America   \n",
       "83                   NaN                                              China   \n",
       "92                   NaN                                              China   \n",
       "...                  ...                                                ...   \n",
       "1094    NVIDIA Tesla K80                           United States of America   \n",
       "1095    NVIDIA Tesla K80                           United States of America   \n",
       "1131                 NaN  United Kingdom of Great Britain and Northern I...   \n",
       "1137  NVIDIA GTX Titan X                           United States of America   \n",
       "1141                 NaN                                      Multinational   \n",
       "\n",
       "     Base model Finetune compute (FLOP) Hardware quantity  \\\n",
       "39          NaN                     NaN           55000.0   \n",
       "46          NaN                     NaN               NaN   \n",
       "54          NaN                     NaN            5000.0   \n",
       "83          NaN                     NaN               NaN   \n",
       "92          NaN                     NaN               NaN   \n",
       "...         ...                     ...               ...   \n",
       "1094        NaN                     NaN              60.0   \n",
       "1095        NaN                     NaN              96.0   \n",
       "1131        NaN                     NaN               NaN   \n",
       "1137        NaN                     NaN               NaN   \n",
       "1141        NaN                     NaN               NaN   \n",
       "\n",
       "     Hardware utilization  Training cloud compute vendor  \\\n",
       "39                    NaN                            NaN   \n",
       "46                    NaN                            NaN   \n",
       "54                    NaN                            NaN   \n",
       "83                    NaN                            NaN   \n",
       "92                    NaN                            NaN   \n",
       "...                   ...                            ...   \n",
       "1094                  NaN                            NaN   \n",
       "1095                  NaN                            NaN   \n",
       "1131                  NaN                            NaN   \n",
       "1137                 0.45                            NaN   \n",
       "1141                  NaN                            NaN   \n",
       "\n",
       "      Training data center          Cost Cost (inflation-adjusted)  \n",
       "39                     NaN  1.148555e+08              1.148555e+08  \n",
       "46                     NaN           NaN                       NaN  \n",
       "54                     NaN  1.901656e+07              1.906107e+07  \n",
       "83                     NaN           NaN                       NaN  \n",
       "92                     NaN           NaN                       NaN  \n",
       "...                    ...           ...                       ...  \n",
       "1094                   NaN  1.917107e+04              2.093516e+04  \n",
       "1095                   NaN  1.840423e+05              2.009776e+05  \n",
       "1131                   NaN           NaN                       NaN  \n",
       "1137                   NaN  2.376194e+02              2.643349e+02  \n",
       "1141                   NaN           NaN                       NaN  \n",
       "\n",
       "[76 rows x 22 columns]"
      ]
     },
     "execution_count": 26,
     "metadata": {},
     "output_type": "execute_result"
    }
   ],
   "source": [
    "keep_cols = [\n",
    "    'System',\n",
    "    'Domain',\n",
    "    'Task',\n",
    "    'Model accessibility',\n",
    "    'Reference',\n",
    "    'Publication date',\n",
    "    'Organization',\n",
    "    'Parameters',\n",
    "    'Training compute (FLOP)',\n",
    "    'Training dataset size (datapoints)',\n",
    "    'Epochs',\n",
    "    'Training time (hours)',\n",
    "    'Training hardware',\n",
    "    'Country (from Organization)',\n",
    "    'Base model',\n",
    "    'Finetune compute (FLOP)',\n",
    "    'Hardware quantity',\n",
    "    'Hardware utilization',\n",
    "    'Training cloud compute vendor',\n",
    "    'Training data center',\n",
    "    # 'Training time (chip hours)',\n",
    "    'Cost',\n",
    "    'Cost (inflation-adjusted)',\n",
    "]\n",
    "cost_df[keep_cols]"
   ]
  },
  {
   "cell_type": "code",
   "execution_count": 27,
   "metadata": {
    "ExecuteTime": {
     "end_time": "2024-03-08T01:55:05.694336500Z",
     "start_time": "2024-03-08T01:55:05.094432200Z"
    }
   },
   "outputs": [],
   "source": [
    "cost_df[keep_cols].to_csv(results_dir + 'price dataset.csv', index=False)"
   ]
  },
  {
   "cell_type": "code",
   "execution_count": null,
   "metadata": {},
   "outputs": [],
   "source": []
  }
 ],
 "metadata": {
  "colab": {
   "provenance": []
  },
  "kernelspec": {
   "display_name": "Python 3 (ipykernel)",
   "language": "python",
   "name": "python3"
  },
  "language_info": {
   "codemirror_mode": {
    "name": "ipython",
    "version": 3
   },
   "file_extension": ".py",
   "mimetype": "text/x-python",
   "name": "python",
   "nbconvert_exporter": "python",
   "pygments_lexer": "ipython3",
   "version": "3.11.4"
  }
 },
 "nbformat": 4,
 "nbformat_minor": 1
}
