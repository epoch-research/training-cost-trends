{
 "cells": [
  {
   "cell_type": "markdown",
   "metadata": {},
   "source": [
    "# Setup"
   ]
  },
  {
   "cell_type": "code",
   "execution_count": 30,
   "metadata": {
    "ExecuteTime": {
     "end_time": "2024-02-07T16:04:30.211131Z",
     "start_time": "2024-02-07T16:04:29.911625700Z"
    }
   },
   "outputs": [
    {
     "name": "stdout",
     "output_type": "stream",
     "text": [
      "The autoreload extension is already loaded. To reload it, use:\n",
      "  %reload_ext autoreload\n"
     ]
    }
   ],
   "source": [
    "%load_ext autoreload\n",
    "%autoreload 2"
   ]
  },
  {
   "cell_type": "code",
   "execution_count": 31,
   "metadata": {
    "ExecuteTime": {
     "end_time": "2024-02-07T16:04:30.226710800Z",
     "start_time": "2024-02-07T16:04:30.020995300Z"
    },
    "id": "qltoZ7TbdkHZ"
   },
   "outputs": [],
   "source": [
    "import numpy as np\n",
    "import pandas as pd\n",
    "\n",
    "from plotting import *\n",
    "from prices import *\n",
    "from inflation import *"
   ]
  },
  {
   "cell_type": "markdown",
   "metadata": {},
   "source": [
    "# Dataset"
   ]
  },
  {
   "cell_type": "markdown",
   "metadata": {},
   "source": [
    "## ML systems"
   ]
  },
  {
   "cell_type": "code",
   "execution_count": 32,
   "metadata": {
    "ExecuteTime": {
     "end_time": "2024-02-07T16:04:30.305898500Z",
     "start_time": "2024-02-07T16:04:30.117056900Z"
    },
    "id": "c8uNf70ve1PM"
   },
   "outputs": [
    {
     "data": {
      "text/html": [
       "<div>\n",
       "<style scoped>\n",
       "    .dataframe tbody tr th:only-of-type {\n",
       "        vertical-align: middle;\n",
       "    }\n",
       "\n",
       "    .dataframe tbody tr th {\n",
       "        vertical-align: top;\n",
       "    }\n",
       "\n",
       "    .dataframe thead th {\n",
       "        text-align: right;\n",
       "    }\n",
       "</style>\n",
       "<table border=\"1\" class=\"dataframe\">\n",
       "  <thead>\n",
       "    <tr style=\"text-align: right;\">\n",
       "      <th></th>\n",
       "      <th>System</th>\n",
       "      <th>Domain</th>\n",
       "      <th>Task</th>\n",
       "      <th>Authors</th>\n",
       "      <th>Notability criteria</th>\n",
       "      <th>Notability criteria notes</th>\n",
       "      <th>Open-source</th>\n",
       "      <th>Link</th>\n",
       "      <th>Citations</th>\n",
       "      <th>Reference</th>\n",
       "      <th>...</th>\n",
       "      <th>Organization (from Organization)</th>\n",
       "      <th>Base model</th>\n",
       "      <th>Finetune compute (FLOP)</th>\n",
       "      <th>Finetune compute notes</th>\n",
       "      <th>Authors by country</th>\n",
       "      <th>Hardware quantity</th>\n",
       "      <th>Hardware utilization</th>\n",
       "      <th>Training cost trends</th>\n",
       "      <th>Training cloud compute vendor</th>\n",
       "      <th>Training data center</th>\n",
       "    </tr>\n",
       "  </thead>\n",
       "  <tbody>\n",
       "    <tr>\n",
       "      <th>0</th>\n",
       "      <td>Cohere Command</td>\n",
       "      <td>Language</td>\n",
       "      <td>NaN</td>\n",
       "      <td>NaN</td>\n",
       "      <td>NaN</td>\n",
       "      <td>NaN</td>\n",
       "      <td>NaN</td>\n",
       "      <td>https://cohere.com/models/command</td>\n",
       "      <td>NaN</td>\n",
       "      <td>World-class AI, at your command</td>\n",
       "      <td>...</td>\n",
       "      <td>Cohere</td>\n",
       "      <td>NaN</td>\n",
       "      <td>NaN</td>\n",
       "      <td>NaN</td>\n",
       "      <td>NaN</td>\n",
       "      <td>NaN</td>\n",
       "      <td>NaN</td>\n",
       "      <td>NaN</td>\n",
       "      <td>NaN</td>\n",
       "      <td>NaN</td>\n",
       "    </tr>\n",
       "    <tr>\n",
       "      <th>1</th>\n",
       "      <td>Theseus</td>\n",
       "      <td>Other</td>\n",
       "      <td>Maze solving</td>\n",
       "      <td>Claude Shannon</td>\n",
       "      <td>Historical significance</td>\n",
       "      <td>NaN</td>\n",
       "      <td>NaN</td>\n",
       "      <td>https://www.technologyreview.com/2018/12/19/13...</td>\n",
       "      <td>0.0</td>\n",
       "      <td>Mighty Mouse</td>\n",
       "      <td>...</td>\n",
       "      <td>Bell Laboratories</td>\n",
       "      <td>NaN</td>\n",
       "      <td>NaN</td>\n",
       "      <td>NaN</td>\n",
       "      <td>Theseus</td>\n",
       "      <td>NaN</td>\n",
       "      <td>NaN</td>\n",
       "      <td>NaN</td>\n",
       "      <td>NaN</td>\n",
       "      <td>NaN</td>\n",
       "    </tr>\n",
       "    <tr>\n",
       "      <th>2</th>\n",
       "      <td>SNARC</td>\n",
       "      <td>Other</td>\n",
       "      <td>Maze solving</td>\n",
       "      <td>Marvin Minsky</td>\n",
       "      <td>Historical significance</td>\n",
       "      <td>NaN</td>\n",
       "      <td>NaN</td>\n",
       "      <td>https://en.wikipedia.org/wiki/Stochastic_neura...</td>\n",
       "      <td>33.0</td>\n",
       "      <td>A Neural-Analogue Calculator Based upon a Prob...</td>\n",
       "      <td>...</td>\n",
       "      <td>Harvard University</td>\n",
       "      <td>NaN</td>\n",
       "      <td>NaN</td>\n",
       "      <td>NaN</td>\n",
       "      <td>SNARC</td>\n",
       "      <td>NaN</td>\n",
       "      <td>NaN</td>\n",
       "      <td>NaN</td>\n",
       "      <td>NaN</td>\n",
       "      <td>NaN</td>\n",
       "    </tr>\n",
       "    <tr>\n",
       "      <th>3</th>\n",
       "      <td>Genetic algorithm</td>\n",
       "      <td>NaN</td>\n",
       "      <td>NaN</td>\n",
       "      <td>NA Barricelli</td>\n",
       "      <td>Historical significance</td>\n",
       "      <td>Possibly first computer simulation of a geneti...</td>\n",
       "      <td>NaN</td>\n",
       "      <td>https://link.springer.com/article/10.1007/BF01...</td>\n",
       "      <td>266.0</td>\n",
       "      <td>Numerical testing of evolution theories</td>\n",
       "      <td>...</td>\n",
       "      <td>Institute for Advanced Study</td>\n",
       "      <td>NaN</td>\n",
       "      <td>NaN</td>\n",
       "      <td>NaN</td>\n",
       "      <td>Genetic algorithm</td>\n",
       "      <td>NaN</td>\n",
       "      <td>NaN</td>\n",
       "      <td>NaN</td>\n",
       "      <td>NaN</td>\n",
       "      <td>NaN</td>\n",
       "    </tr>\n",
       "    <tr>\n",
       "      <th>4</th>\n",
       "      <td>Sequence-based pattern recognition</td>\n",
       "      <td>Vision</td>\n",
       "      <td>Character recognition</td>\n",
       "      <td>O. G. Selfridge</td>\n",
       "      <td>Historical significance</td>\n",
       "      <td>NaN</td>\n",
       "      <td>NaN</td>\n",
       "      <td>https://dl.acm.org/doi/10.1145/1455292.1455310</td>\n",
       "      <td>290.0</td>\n",
       "      <td>Pattern recognition and modern computers</td>\n",
       "      <td>...</td>\n",
       "      <td>Massachusetts Institute of Technology (MIT)</td>\n",
       "      <td>NaN</td>\n",
       "      <td>NaN</td>\n",
       "      <td>NaN</td>\n",
       "      <td>Sequence-based pattern recognition</td>\n",
       "      <td>NaN</td>\n",
       "      <td>NaN</td>\n",
       "      <td>NaN</td>\n",
       "      <td>NaN</td>\n",
       "      <td>NaN</td>\n",
       "    </tr>\n",
       "  </tbody>\n",
       "</table>\n",
       "<p>5 rows × 49 columns</p>\n",
       "</div>"
      ],
      "text/plain": [
       "                               System    Domain                   Task  \\\n",
       "0                      Cohere Command  Language                    NaN   \n",
       "1                             Theseus     Other           Maze solving   \n",
       "2                               SNARC     Other           Maze solving   \n",
       "3                   Genetic algorithm       NaN                    NaN   \n",
       "4  Sequence-based pattern recognition    Vision  Character recognition   \n",
       "\n",
       "           Authors      Notability criteria  \\\n",
       "0              NaN                      NaN   \n",
       "1   Claude Shannon  Historical significance   \n",
       "2    Marvin Minsky  Historical significance   \n",
       "3    NA Barricelli  Historical significance   \n",
       "4  O. G. Selfridge  Historical significance   \n",
       "\n",
       "                           Notability criteria notes Open-source  \\\n",
       "0                                                NaN         NaN   \n",
       "1                                                NaN         NaN   \n",
       "2                                                NaN         NaN   \n",
       "3  Possibly first computer simulation of a geneti...         NaN   \n",
       "4                                                NaN         NaN   \n",
       "\n",
       "                                                Link  Citations  \\\n",
       "0                  https://cohere.com/models/command        NaN   \n",
       "1  https://www.technologyreview.com/2018/12/19/13...        0.0   \n",
       "2  https://en.wikipedia.org/wiki/Stochastic_neura...       33.0   \n",
       "3  https://link.springer.com/article/10.1007/BF01...      266.0   \n",
       "4     https://dl.acm.org/doi/10.1145/1455292.1455310      290.0   \n",
       "\n",
       "                                           Reference  ...  \\\n",
       "0                    World-class AI, at your command  ...   \n",
       "1                                       Mighty Mouse  ...   \n",
       "2  A Neural-Analogue Calculator Based upon a Prob...  ...   \n",
       "3            Numerical testing of evolution theories  ...   \n",
       "4           Pattern recognition and modern computers  ...   \n",
       "\n",
       "              Organization (from Organization) Base model  \\\n",
       "0                                       Cohere        NaN   \n",
       "1                            Bell Laboratories        NaN   \n",
       "2                           Harvard University        NaN   \n",
       "3                 Institute for Advanced Study        NaN   \n",
       "4  Massachusetts Institute of Technology (MIT)        NaN   \n",
       "\n",
       "  Finetune compute (FLOP)  Finetune compute notes  \\\n",
       "0                     NaN                     NaN   \n",
       "1                     NaN                     NaN   \n",
       "2                     NaN                     NaN   \n",
       "3                     NaN                     NaN   \n",
       "4                     NaN                     NaN   \n",
       "\n",
       "                   Authors by country  Hardware quantity Hardware utilization  \\\n",
       "0                                 NaN                NaN                  NaN   \n",
       "1                             Theseus                NaN                  NaN   \n",
       "2                               SNARC                NaN                  NaN   \n",
       "3                   Genetic algorithm                NaN                  NaN   \n",
       "4  Sequence-based pattern recognition                NaN                  NaN   \n",
       "\n",
       "  Training cost trends Training cloud compute vendor  Training data center  \n",
       "0                  NaN                           NaN                   NaN  \n",
       "1                  NaN                           NaN                   NaN  \n",
       "2                  NaN                           NaN                   NaN  \n",
       "3                  NaN                           NaN                   NaN  \n",
       "4                  NaN                           NaN                   NaN  \n",
       "\n",
       "[5 rows x 49 columns]"
      ]
     },
     "execution_count": 32,
     "metadata": {},
     "output_type": "execute_result"
    }
   ],
   "source": [
    "pcd_df = pd.read_csv('data/All ML Systems - full view.csv')\n",
    "pcd_df.head()"
   ]
  },
  {
   "cell_type": "code",
   "execution_count": 33,
   "metadata": {
    "ExecuteTime": {
     "end_time": "2024-02-07T16:04:30.451777Z",
     "start_time": "2024-02-07T16:04:30.305898500Z"
    }
   },
   "outputs": [],
   "source": [
    "# Publication date in datetime format\n",
    "pcd_df.dropna(subset=['Publication date'], inplace=True)\n",
    "pcd_df['Publication date'] = pd.to_datetime(pcd_df['Publication date'])"
   ]
  },
  {
   "cell_type": "code",
   "execution_count": 34,
   "metadata": {
    "ExecuteTime": {
     "end_time": "2024-02-07T16:04:30.578536300Z",
     "start_time": "2024-02-07T16:04:30.467646700Z"
    },
    "id": "zHTeCty5dqjn"
   },
   "outputs": [],
   "source": [
    "# Manually copied from \"Training cost trends\" Airtable\n",
    "frontier_systems = [\n",
    "    \"PaLM 2\",\n",
    "    \"GPT-4\",\n",
    "    \"Minerva (540B)\",\n",
    "    \"Megatron-Turing NLG 530B\",\n",
    "    \"GPT-3 175B (davinci)\",\n",
    "    \"Meena\",\n",
    "    \"AlphaStar\",\n",
    "    \"AlphaGo Zero\",\n",
    "    \"AlphaGo Master\",\n",
    "    \"GNMT\",\n",
    "    \"Claude 2\",\n",
    "    \"PaLM (540B)\",\n",
    "#     \"ERNIE 3.0 Titan\",\n",
    "    \"Gopher (280B)\",\n",
    "    \"OpenAI Five\",\n",
    "    \"T5-11B\",\n",
    "    \"Megatron-BERT\",\n",
    "    \"ResNeXt-101 32x48d\",\n",
    "    \"AlphaZero\",\n",
    "    \"Falcon 180B\",\n",
    "    \"GPT-3.5 (text-davinci-003)\",\n",
    "    \"Chinchilla\",\n",
    "    \"Yuan 1.0\",\n",
    "    \"Turing-NLG\",\n",
    "    \"BigGAN-deep 512x512\",\n",
    "    \"NASv3 (CIFAR-10)\",\n",
    "    \"AlphaGo Lee\",\n",
    "    \"AlphaGo Fan\",\n",
    "    \"OPT-175B\",\n",
    "#     \"AlphaCode\",\n",
    "    \"GLaM\",\n",
    "    \"OpenAI Five Rerun\",\n",
    "    \"T5-3B\",\n",
    "    \"Megatron-LM (8.3B)\",\n",
    "    \"FTW\",\n",
    "    \"AmoebaNet-A (F=448)\",\n",
    "    \"OpenAI TI7 DOTA 1v1\",\n",
    "    \"JFT\",\n",
    "    \"Llama 2-70B\",\n",
    "    \"LLaMA-65B\",\n",
    "    \"LaMDA\",\n",
    "    \"ALIGN\",\n",
    "    \"GShard (dense)\",\n",
    "    \"RoBERTa Large\",\n",
    "    \"IMPALA\",\n",
    "]"
   ]
  },
  {
   "cell_type": "code",
   "execution_count": 35,
   "metadata": {
    "ExecuteTime": {
     "end_time": "2024-02-07T16:04:30.715236200Z",
     "start_time": "2024-02-07T16:04:30.578536300Z"
    },
    "id": "Nyzyh8IKe0ZK"
   },
   "outputs": [
    {
     "data": {
      "text/html": [
       "<div>\n",
       "<style scoped>\n",
       "    .dataframe tbody tr th:only-of-type {\n",
       "        vertical-align: middle;\n",
       "    }\n",
       "\n",
       "    .dataframe tbody tr th {\n",
       "        vertical-align: top;\n",
       "    }\n",
       "\n",
       "    .dataframe thead th {\n",
       "        text-align: right;\n",
       "    }\n",
       "</style>\n",
       "<table border=\"1\" class=\"dataframe\">\n",
       "  <thead>\n",
       "    <tr style=\"text-align: right;\">\n",
       "      <th></th>\n",
       "      <th>System</th>\n",
       "      <th>Domain</th>\n",
       "      <th>Task</th>\n",
       "      <th>Authors</th>\n",
       "      <th>Notability criteria</th>\n",
       "      <th>Notability criteria notes</th>\n",
       "      <th>Open-source</th>\n",
       "      <th>Link</th>\n",
       "      <th>Citations</th>\n",
       "      <th>Reference</th>\n",
       "      <th>...</th>\n",
       "      <th>Organization (from Organization)</th>\n",
       "      <th>Base model</th>\n",
       "      <th>Finetune compute (FLOP)</th>\n",
       "      <th>Finetune compute notes</th>\n",
       "      <th>Authors by country</th>\n",
       "      <th>Hardware quantity</th>\n",
       "      <th>Hardware utilization</th>\n",
       "      <th>Training cost trends</th>\n",
       "      <th>Training cloud compute vendor</th>\n",
       "      <th>Training data center</th>\n",
       "    </tr>\n",
       "  </thead>\n",
       "  <tbody>\n",
       "    <tr>\n",
       "      <th>265</th>\n",
       "      <td>AlphaGo Fan</td>\n",
       "      <td>Games</td>\n",
       "      <td>Go</td>\n",
       "      <td>David Silver, Aja Huang, Chris J. Maddison, Ar...</td>\n",
       "      <td>SOTA improvement</td>\n",
       "      <td>NaN</td>\n",
       "      <td>NaN</td>\n",
       "      <td>https://www.nature.com/articles/nature24270.ep...</td>\n",
       "      <td>14389.0</td>\n",
       "      <td>Mastering the game of Go with deep neural netw...</td>\n",
       "      <td>...</td>\n",
       "      <td>Google DeepMind</td>\n",
       "      <td>NaN</td>\n",
       "      <td>NaN</td>\n",
       "      <td>NaN</td>\n",
       "      <td>AlphaGo Fan</td>\n",
       "      <td>NaN</td>\n",
       "      <td>NaN</td>\n",
       "      <td>AlphaGo Fan</td>\n",
       "      <td>NaN</td>\n",
       "      <td>NaN</td>\n",
       "    </tr>\n",
       "    <tr>\n",
       "      <th>275</th>\n",
       "      <td>AlphaGo Lee</td>\n",
       "      <td>Games</td>\n",
       "      <td>Go</td>\n",
       "      <td>David Silver, Aja Huang, Chris J. Maddison, Ar...</td>\n",
       "      <td>Highly cited</td>\n",
       "      <td>NaN</td>\n",
       "      <td>NaN</td>\n",
       "      <td>https://www.nature.com/articles/nature16961</td>\n",
       "      <td>14389.0</td>\n",
       "      <td>Mastering the game of Go with deep neural netw...</td>\n",
       "      <td>...</td>\n",
       "      <td>DeepMind</td>\n",
       "      <td>NaN</td>\n",
       "      <td>NaN</td>\n",
       "      <td>NaN</td>\n",
       "      <td>AlphaGo Lee</td>\n",
       "      <td>NaN</td>\n",
       "      <td>NaN</td>\n",
       "      <td>AlphaGo Lee</td>\n",
       "      <td>NaN</td>\n",
       "      <td>NaN</td>\n",
       "    </tr>\n",
       "    <tr>\n",
       "      <th>306</th>\n",
       "      <td>GNMT</td>\n",
       "      <td>Language</td>\n",
       "      <td>Translation</td>\n",
       "      <td>Yonghui Wu, Mike Schuster, Zhifeng Chen, Quoc ...</td>\n",
       "      <td>Highly cited</td>\n",
       "      <td>NaN</td>\n",
       "      <td>NaN</td>\n",
       "      <td>https://arxiv.org/abs/1609.08144</td>\n",
       "      <td>5948.0</td>\n",
       "      <td>Google's Neural Machine Translation System: Br...</td>\n",
       "      <td>...</td>\n",
       "      <td>Google</td>\n",
       "      <td>NaN</td>\n",
       "      <td>NaN</td>\n",
       "      <td>NaN</td>\n",
       "      <td>GNMT</td>\n",
       "      <td>96.0</td>\n",
       "      <td>NaN</td>\n",
       "      <td>GNMT</td>\n",
       "      <td>NaN</td>\n",
       "      <td>NaN</td>\n",
       "    </tr>\n",
       "    <tr>\n",
       "      <th>317</th>\n",
       "      <td>NASv3 (CIFAR-10)</td>\n",
       "      <td>Vision</td>\n",
       "      <td>NaN</td>\n",
       "      <td>Barret Zoph, Quoc V. Le</td>\n",
       "      <td>Highly cited</td>\n",
       "      <td>NaN</td>\n",
       "      <td>NaN</td>\n",
       "      <td>https://arxiv.org/abs/1611.01578</td>\n",
       "      <td>4569.0</td>\n",
       "      <td>Neural Architecture Search with Reinforcement ...</td>\n",
       "      <td>...</td>\n",
       "      <td>Google Brain</td>\n",
       "      <td>NaN</td>\n",
       "      <td>NaN</td>\n",
       "      <td>NaN</td>\n",
       "      <td>NASv3 (CIFAR-10)</td>\n",
       "      <td>800.0</td>\n",
       "      <td>NaN</td>\n",
       "      <td>NASv3 (CIFAR-10)</td>\n",
       "      <td>NaN</td>\n",
       "      <td>NaN</td>\n",
       "    </tr>\n",
       "    <tr>\n",
       "      <th>337</th>\n",
       "      <td>AlphaGo Master</td>\n",
       "      <td>Games</td>\n",
       "      <td>Go</td>\n",
       "      <td>D Silver, J Schrittwieser, K Simonyan, I Anton...</td>\n",
       "      <td>Highly cited</td>\n",
       "      <td>NaN</td>\n",
       "      <td>NaN</td>\n",
       "      <td>https://www.researchgate.net/publication/32047...</td>\n",
       "      <td>7831.0</td>\n",
       "      <td>Mastering the game of Go without human knowledge</td>\n",
       "      <td>...</td>\n",
       "      <td>DeepMind</td>\n",
       "      <td>NaN</td>\n",
       "      <td>NaN</td>\n",
       "      <td>NaN</td>\n",
       "      <td>AlphaGo Master</td>\n",
       "      <td>NaN</td>\n",
       "      <td>NaN</td>\n",
       "      <td>AlphaGo Master</td>\n",
       "      <td>NaN</td>\n",
       "      <td>NaN</td>\n",
       "    </tr>\n",
       "  </tbody>\n",
       "</table>\n",
       "<p>5 rows × 49 columns</p>\n",
       "</div>"
      ],
      "text/plain": [
       "               System    Domain         Task  \\\n",
       "265       AlphaGo Fan     Games           Go   \n",
       "275       AlphaGo Lee     Games           Go   \n",
       "306              GNMT  Language  Translation   \n",
       "317  NASv3 (CIFAR-10)    Vision          NaN   \n",
       "337    AlphaGo Master     Games           Go   \n",
       "\n",
       "                                               Authors Notability criteria  \\\n",
       "265  David Silver, Aja Huang, Chris J. Maddison, Ar...    SOTA improvement   \n",
       "275  David Silver, Aja Huang, Chris J. Maddison, Ar...        Highly cited   \n",
       "306  Yonghui Wu, Mike Schuster, Zhifeng Chen, Quoc ...        Highly cited   \n",
       "317                            Barret Zoph, Quoc V. Le        Highly cited   \n",
       "337  D Silver, J Schrittwieser, K Simonyan, I Anton...        Highly cited   \n",
       "\n",
       "    Notability criteria notes Open-source  \\\n",
       "265                       NaN         NaN   \n",
       "275                       NaN         NaN   \n",
       "306                       NaN         NaN   \n",
       "317                       NaN         NaN   \n",
       "337                       NaN         NaN   \n",
       "\n",
       "                                                  Link  Citations  \\\n",
       "265  https://www.nature.com/articles/nature24270.ep...    14389.0   \n",
       "275        https://www.nature.com/articles/nature16961    14389.0   \n",
       "306                   https://arxiv.org/abs/1609.08144     5948.0   \n",
       "317                   https://arxiv.org/abs/1611.01578     4569.0   \n",
       "337  https://www.researchgate.net/publication/32047...     7831.0   \n",
       "\n",
       "                                             Reference  ...  \\\n",
       "265  Mastering the game of Go with deep neural netw...  ...   \n",
       "275  Mastering the game of Go with deep neural netw...  ...   \n",
       "306  Google's Neural Machine Translation System: Br...  ...   \n",
       "317  Neural Architecture Search with Reinforcement ...  ...   \n",
       "337   Mastering the game of Go without human knowledge  ...   \n",
       "\n",
       "    Organization (from Organization) Base model Finetune compute (FLOP)  \\\n",
       "265                  Google DeepMind        NaN                     NaN   \n",
       "275                         DeepMind        NaN                     NaN   \n",
       "306                           Google        NaN                     NaN   \n",
       "317                     Google Brain        NaN                     NaN   \n",
       "337                         DeepMind        NaN                     NaN   \n",
       "\n",
       "     Finetune compute notes Authors by country  Hardware quantity  \\\n",
       "265                     NaN        AlphaGo Fan                NaN   \n",
       "275                     NaN        AlphaGo Lee                NaN   \n",
       "306                     NaN               GNMT               96.0   \n",
       "317                     NaN   NASv3 (CIFAR-10)              800.0   \n",
       "337                     NaN     AlphaGo Master                NaN   \n",
       "\n",
       "    Hardware utilization Training cost trends Training cloud compute vendor  \\\n",
       "265                  NaN          AlphaGo Fan                           NaN   \n",
       "275                  NaN          AlphaGo Lee                           NaN   \n",
       "306                  NaN                 GNMT                           NaN   \n",
       "317                  NaN     NASv3 (CIFAR-10)                           NaN   \n",
       "337                  NaN       AlphaGo Master                           NaN   \n",
       "\n",
       "     Training data center  \n",
       "265                   NaN  \n",
       "275                   NaN  \n",
       "306                   NaN  \n",
       "317                   NaN  \n",
       "337                   NaN  \n",
       "\n",
       "[5 rows x 49 columns]"
      ]
     },
     "execution_count": 35,
     "metadata": {},
     "output_type": "execute_result"
    }
   ],
   "source": [
    "frontier_pcd_df = pcd_df[pcd_df['System'].isin(frontier_systems)]\n",
    "frontier_pcd_df.head()"
   ]
  },
  {
   "cell_type": "code",
   "execution_count": 36,
   "metadata": {
    "ExecuteTime": {
     "end_time": "2024-02-07T16:04:30.873449800Z",
     "start_time": "2024-02-07T16:04:30.715236200Z"
    }
   },
   "outputs": [],
   "source": [
    "assert len(frontier_pcd_df) == len(frontier_systems)"
   ]
  },
  {
   "cell_type": "markdown",
   "metadata": {},
   "source": [
    "## Prices"
   ]
  },
  {
   "cell_type": "code",
   "execution_count": 37,
   "metadata": {
    "ExecuteTime": {
     "end_time": "2024-02-07T16:04:31.015263500Z",
     "start_time": "2024-02-07T16:04:30.825450800Z"
    }
   },
   "outputs": [
    {
     "data": {
      "text/html": [
       "<div>\n",
       "<style scoped>\n",
       "    .dataframe tbody tr th:only-of-type {\n",
       "        vertical-align: middle;\n",
       "    }\n",
       "\n",
       "    .dataframe tbody tr th {\n",
       "        vertical-align: top;\n",
       "    }\n",
       "\n",
       "    .dataframe thead th {\n",
       "        text-align: right;\n",
       "    }\n",
       "</style>\n",
       "<table border=\"1\" class=\"dataframe\">\n",
       "  <thead>\n",
       "    <tr style=\"text-align: right;\">\n",
       "      <th></th>\n",
       "      <th>Price source</th>\n",
       "      <th>Price date</th>\n",
       "      <th>Hardware model</th>\n",
       "      <th>Manufacturer (from Hardware model)</th>\n",
       "      <th>Vendor</th>\n",
       "      <th>Location</th>\n",
       "      <th>Price per chip-hour (on-demand)</th>\n",
       "      <th>Price per chip-hour (1-year CUD)</th>\n",
       "      <th>Price per chip-hour (3-year CUD)</th>\n",
       "      <th>Price (hardware purchase)</th>\n",
       "    </tr>\n",
       "  </thead>\n",
       "  <tbody>\n",
       "    <tr>\n",
       "      <th>0</th>\n",
       "      <td>https://web.archive.org/web/20181009102635/htt...</td>\n",
       "      <td>2018-10-09</td>\n",
       "      <td>Google TPU v2</td>\n",
       "      <td>Google</td>\n",
       "      <td>Google Cloud</td>\n",
       "      <td>US</td>\n",
       "      <td>$1.13</td>\n",
       "      <td>NaN</td>\n",
       "      <td>NaN</td>\n",
       "      <td>NaN</td>\n",
       "    </tr>\n",
       "    <tr>\n",
       "      <th>1</th>\n",
       "      <td>https://web.archive.org/web/20181011013513/htt...</td>\n",
       "      <td>2018-10-11</td>\n",
       "      <td>Google TPU v3</td>\n",
       "      <td>Google</td>\n",
       "      <td>Google Cloud</td>\n",
       "      <td>US</td>\n",
       "      <td>$2.00</td>\n",
       "      <td>NaN</td>\n",
       "      <td>NaN</td>\n",
       "      <td>NaN</td>\n",
       "    </tr>\n",
       "    <tr>\n",
       "      <th>2</th>\n",
       "      <td>https://web.archive.org/web/20181011013513/htt...</td>\n",
       "      <td>2018-10-11</td>\n",
       "      <td>Google TPU v3</td>\n",
       "      <td>Google</td>\n",
       "      <td>Google Cloud</td>\n",
       "      <td>Europe</td>\n",
       "      <td>$2.20</td>\n",
       "      <td>NaN</td>\n",
       "      <td>NaN</td>\n",
       "      <td>NaN</td>\n",
       "    </tr>\n",
       "    <tr>\n",
       "      <th>3</th>\n",
       "      <td>https://web.archive.org/web/20190701021000/htt...</td>\n",
       "      <td>2019-07-01</td>\n",
       "      <td>Google TPU v3</td>\n",
       "      <td>Google</td>\n",
       "      <td>Google Cloud</td>\n",
       "      <td>Iowa (us-central1)</td>\n",
       "      <td>$2.00</td>\n",
       "      <td>$1.26</td>\n",
       "      <td>$0.90</td>\n",
       "      <td>NaN</td>\n",
       "    </tr>\n",
       "    <tr>\n",
       "      <th>4</th>\n",
       "      <td>https://web.archive.org/web/20190728061708/htt...</td>\n",
       "      <td>2019-07-28</td>\n",
       "      <td>Google TPU v3</td>\n",
       "      <td>Google</td>\n",
       "      <td>Google Cloud</td>\n",
       "      <td>Netherlands (europe-west4)</td>\n",
       "      <td>$2.00</td>\n",
       "      <td>$1.26</td>\n",
       "      <td>$0.90</td>\n",
       "      <td>NaN</td>\n",
       "    </tr>\n",
       "  </tbody>\n",
       "</table>\n",
       "</div>"
      ],
      "text/plain": [
       "                                        Price source  Price date  \\\n",
       "0  https://web.archive.org/web/20181009102635/htt...  2018-10-09   \n",
       "1  https://web.archive.org/web/20181011013513/htt...  2018-10-11   \n",
       "2  https://web.archive.org/web/20181011013513/htt...  2018-10-11   \n",
       "3  https://web.archive.org/web/20190701021000/htt...  2019-07-01   \n",
       "4  https://web.archive.org/web/20190728061708/htt...  2019-07-28   \n",
       "\n",
       "  Hardware model Manufacturer (from Hardware model)        Vendor  \\\n",
       "0  Google TPU v2                             Google  Google Cloud   \n",
       "1  Google TPU v3                             Google  Google Cloud   \n",
       "2  Google TPU v3                             Google  Google Cloud   \n",
       "3  Google TPU v3                             Google  Google Cloud   \n",
       "4  Google TPU v3                             Google  Google Cloud   \n",
       "\n",
       "                     Location Price per chip-hour (on-demand)  \\\n",
       "0                          US                           $1.13   \n",
       "1                          US                           $2.00   \n",
       "2                      Europe                           $2.20   \n",
       "3          Iowa (us-central1)                           $2.00   \n",
       "4  Netherlands (europe-west4)                           $2.00   \n",
       "\n",
       "  Price per chip-hour (1-year CUD) Price per chip-hour (3-year CUD)  \\\n",
       "0                              NaN                              NaN   \n",
       "1                              NaN                              NaN   \n",
       "2                              NaN                              NaN   \n",
       "3                            $1.26                            $0.90   \n",
       "4                            $1.26                            $0.90   \n",
       "\n",
       "   Price (hardware purchase)  \n",
       "0                        NaN  \n",
       "1                        NaN  \n",
       "2                        NaN  \n",
       "3                        NaN  \n",
       "4                        NaN  "
      ]
     },
     "execution_count": 37,
     "metadata": {},
     "output_type": "execute_result"
    }
   ],
   "source": [
    "price_df = pd.read_csv('data/Hardware prices.csv')\n",
    "price_df.head()"
   ]
  },
  {
   "cell_type": "code",
   "execution_count": 38,
   "metadata": {
    "ExecuteTime": {
     "end_time": "2024-02-07T16:04:31.172888400Z",
     "start_time": "2024-02-07T16:04:31.015263500Z"
    }
   },
   "outputs": [],
   "source": [
    "# Price date in datetime format\n",
    "price_df.dropna(subset=['Price date'], inplace=True)\n",
    "price_df['Price date'] = pd.to_datetime(price_df['Price date'])"
   ]
  },
  {
   "cell_type": "code",
   "execution_count": 39,
   "metadata": {
    "ExecuteTime": {
     "end_time": "2024-02-07T16:04:31.282985500Z",
     "start_time": "2024-02-07T16:04:31.141530400Z"
    }
   },
   "outputs": [],
   "source": [
    "pcd_hardware_model_colname = 'Name of the hardware (from Training hardware)'"
   ]
  },
  {
   "cell_type": "markdown",
   "metadata": {},
   "source": [
    "## Hardware data"
   ]
  },
  {
   "cell_type": "code",
   "execution_count": 40,
   "metadata": {
    "ExecuteTime": {
     "end_time": "2024-02-07T16:04:31.460215300Z",
     "start_time": "2024-02-07T16:04:31.282985500Z"
    }
   },
   "outputs": [
    {
     "data": {
      "text/html": [
       "<div>\n",
       "<style scoped>\n",
       "    .dataframe tbody tr th:only-of-type {\n",
       "        vertical-align: middle;\n",
       "    }\n",
       "\n",
       "    .dataframe tbody tr th {\n",
       "        vertical-align: top;\n",
       "    }\n",
       "\n",
       "    .dataframe thead th {\n",
       "        text-align: right;\n",
       "    }\n",
       "</style>\n",
       "<table border=\"1\" class=\"dataframe\">\n",
       "  <thead>\n",
       "    <tr style=\"text-align: right;\">\n",
       "      <th></th>\n",
       "      <th>Name of the hardware</th>\n",
       "      <th>Manufacturer</th>\n",
       "      <th>Type</th>\n",
       "      <th>Release date</th>\n",
       "      <th>Release price (USD)</th>\n",
       "      <th>FP64 (double precision) Performance (FLOP/s)</th>\n",
       "      <th>FP32 (single precision) Performance (FLOP/s)</th>\n",
       "      <th>FP16 (half precision) Performance (FLOP/s)</th>\n",
       "      <th>Tensor Float 32 (TF32)</th>\n",
       "      <th>FP16 Tensor Core</th>\n",
       "      <th>...</th>\n",
       "      <th>Foundry</th>\n",
       "      <th>Number of transistors in million</th>\n",
       "      <th>Prominent Years of usage</th>\n",
       "      <th>Google Cloud pricing ($ per hour) data from 17 dec 2022</th>\n",
       "      <th>Link to datasheet</th>\n",
       "      <th>Source for the Price</th>\n",
       "      <th>ALL ML SYSTEMS</th>\n",
       "      <th>All ML Systems copy</th>\n",
       "      <th>All ML Systems copy.1</th>\n",
       "      <th>Hardware prices</th>\n",
       "    </tr>\n",
       "  </thead>\n",
       "  <tbody>\n",
       "    <tr>\n",
       "      <th>0</th>\n",
       "      <td>3dfx Spectre 1000</td>\n",
       "      <td>Other</td>\n",
       "      <td>GPU</td>\n",
       "      <td>NaN</td>\n",
       "      <td>NaN</td>\n",
       "      <td>NaN</td>\n",
       "      <td>NaN</td>\n",
       "      <td>NaN</td>\n",
       "      <td>NaN</td>\n",
       "      <td>NaN</td>\n",
       "      <td>...</td>\n",
       "      <td>TSMC</td>\n",
       "      <td>30.0</td>\n",
       "      <td>NaN</td>\n",
       "      <td>NaN</td>\n",
       "      <td>NaN</td>\n",
       "      <td>NaN</td>\n",
       "      <td>NaN</td>\n",
       "      <td>NaN</td>\n",
       "      <td>NaN</td>\n",
       "      <td>NaN</td>\n",
       "    </tr>\n",
       "    <tr>\n",
       "      <th>1</th>\n",
       "      <td>3dfx Spectre 2000</td>\n",
       "      <td>Other</td>\n",
       "      <td>GPU</td>\n",
       "      <td>NaN</td>\n",
       "      <td>NaN</td>\n",
       "      <td>NaN</td>\n",
       "      <td>NaN</td>\n",
       "      <td>NaN</td>\n",
       "      <td>NaN</td>\n",
       "      <td>NaN</td>\n",
       "      <td>...</td>\n",
       "      <td>TSMC</td>\n",
       "      <td>30.0</td>\n",
       "      <td>NaN</td>\n",
       "      <td>NaN</td>\n",
       "      <td>NaN</td>\n",
       "      <td>NaN</td>\n",
       "      <td>NaN</td>\n",
       "      <td>NaN</td>\n",
       "      <td>NaN</td>\n",
       "      <td>NaN</td>\n",
       "    </tr>\n",
       "    <tr>\n",
       "      <th>2</th>\n",
       "      <td>3dfx Spectre 3000</td>\n",
       "      <td>Other</td>\n",
       "      <td>GPU</td>\n",
       "      <td>NaN</td>\n",
       "      <td>NaN</td>\n",
       "      <td>NaN</td>\n",
       "      <td>NaN</td>\n",
       "      <td>NaN</td>\n",
       "      <td>NaN</td>\n",
       "      <td>NaN</td>\n",
       "      <td>...</td>\n",
       "      <td>TSMC</td>\n",
       "      <td>30.0</td>\n",
       "      <td>NaN</td>\n",
       "      <td>NaN</td>\n",
       "      <td>NaN</td>\n",
       "      <td>NaN</td>\n",
       "      <td>NaN</td>\n",
       "      <td>NaN</td>\n",
       "      <td>NaN</td>\n",
       "      <td>NaN</td>\n",
       "    </tr>\n",
       "    <tr>\n",
       "      <th>3</th>\n",
       "      <td>3dfx Voodoo4 4000 AGP</td>\n",
       "      <td>Other</td>\n",
       "      <td>GPU</td>\n",
       "      <td>NaN</td>\n",
       "      <td>NaN</td>\n",
       "      <td>NaN</td>\n",
       "      <td>NaN</td>\n",
       "      <td>NaN</td>\n",
       "      <td>NaN</td>\n",
       "      <td>NaN</td>\n",
       "      <td>...</td>\n",
       "      <td>TSMC</td>\n",
       "      <td>14.0</td>\n",
       "      <td>NaN</td>\n",
       "      <td>NaN</td>\n",
       "      <td>NaN</td>\n",
       "      <td>NaN</td>\n",
       "      <td>NaN</td>\n",
       "      <td>NaN</td>\n",
       "      <td>NaN</td>\n",
       "      <td>NaN</td>\n",
       "    </tr>\n",
       "    <tr>\n",
       "      <th>4</th>\n",
       "      <td>3dfx Voodoo4 4500 AGP</td>\n",
       "      <td>Other</td>\n",
       "      <td>GPU</td>\n",
       "      <td>2000-10-13</td>\n",
       "      <td>NaN</td>\n",
       "      <td>NaN</td>\n",
       "      <td>NaN</td>\n",
       "      <td>NaN</td>\n",
       "      <td>NaN</td>\n",
       "      <td>NaN</td>\n",
       "      <td>...</td>\n",
       "      <td>TSMC</td>\n",
       "      <td>14.0</td>\n",
       "      <td>NaN</td>\n",
       "      <td>NaN</td>\n",
       "      <td>NaN</td>\n",
       "      <td>NaN</td>\n",
       "      <td>NaN</td>\n",
       "      <td>NaN</td>\n",
       "      <td>NaN</td>\n",
       "      <td>NaN</td>\n",
       "    </tr>\n",
       "  </tbody>\n",
       "</table>\n",
       "<p>5 rows × 38 columns</p>\n",
       "</div>"
      ],
      "text/plain": [
       "    Name of the hardware Manufacturer Type Release date Release price (USD)  \\\n",
       "0      3dfx Spectre 1000        Other  GPU          NaN                 NaN   \n",
       "1      3dfx Spectre 2000        Other  GPU          NaN                 NaN   \n",
       "2      3dfx Spectre 3000        Other  GPU          NaN                 NaN   \n",
       "3  3dfx Voodoo4 4000 AGP        Other  GPU          NaN                 NaN   \n",
       "4  3dfx Voodoo4 4500 AGP        Other  GPU   2000-10-13                 NaN   \n",
       "\n",
       "   FP64 (double precision) Performance (FLOP/s)  \\\n",
       "0                                           NaN   \n",
       "1                                           NaN   \n",
       "2                                           NaN   \n",
       "3                                           NaN   \n",
       "4                                           NaN   \n",
       "\n",
       "   FP32 (single precision) Performance (FLOP/s)  \\\n",
       "0                                           NaN   \n",
       "1                                           NaN   \n",
       "2                                           NaN   \n",
       "3                                           NaN   \n",
       "4                                           NaN   \n",
       "\n",
       "   FP16 (half precision) Performance (FLOP/s)  Tensor Float 32 (TF32)  \\\n",
       "0                                         NaN                     NaN   \n",
       "1                                         NaN                     NaN   \n",
       "2                                         NaN                     NaN   \n",
       "3                                         NaN                     NaN   \n",
       "4                                         NaN                     NaN   \n",
       "\n",
       "   FP16 Tensor Core  ...  Foundry  Number of transistors in million  \\\n",
       "0               NaN  ...     TSMC                              30.0   \n",
       "1               NaN  ...     TSMC                              30.0   \n",
       "2               NaN  ...     TSMC                              30.0   \n",
       "3               NaN  ...     TSMC                              14.0   \n",
       "4               NaN  ...     TSMC                              14.0   \n",
       "\n",
       "   Prominent Years of usage  \\\n",
       "0                       NaN   \n",
       "1                       NaN   \n",
       "2                       NaN   \n",
       "3                       NaN   \n",
       "4                       NaN   \n",
       "\n",
       "   Google Cloud pricing ($ per hour) data from 17 dec 2022  Link to datasheet  \\\n",
       "0                                                NaN                      NaN   \n",
       "1                                                NaN                      NaN   \n",
       "2                                                NaN                      NaN   \n",
       "3                                                NaN                      NaN   \n",
       "4                                                NaN                      NaN   \n",
       "\n",
       "   Source for the Price  ALL ML SYSTEMS  All ML Systems copy  \\\n",
       "0                   NaN             NaN                  NaN   \n",
       "1                   NaN             NaN                  NaN   \n",
       "2                   NaN             NaN                  NaN   \n",
       "3                   NaN             NaN                  NaN   \n",
       "4                   NaN             NaN                  NaN   \n",
       "\n",
       "   All ML Systems copy.1  Hardware prices  \n",
       "0                    NaN              NaN  \n",
       "1                    NaN              NaN  \n",
       "2                    NaN              NaN  \n",
       "3                    NaN              NaN  \n",
       "4                    NaN              NaN  \n",
       "\n",
       "[5 rows x 38 columns]"
      ]
     },
     "execution_count": 40,
     "metadata": {},
     "output_type": "execute_result"
    }
   ],
   "source": [
    "hardware_df = pd.read_csv('data/Chip dataset-Grid view.csv')\n",
    "hardware_df.head()"
   ]
  },
  {
   "cell_type": "markdown",
   "metadata": {},
   "source": [
    "# Imputation"
   ]
  },
  {
   "cell_type": "markdown",
   "metadata": {},
   "source": [
    "Training hardware: k nearest neighbors"
   ]
  },
  {
   "cell_type": "code",
   "execution_count": 41,
   "metadata": {
    "ExecuteTime": {
     "end_time": "2024-02-07T16:04:31.601924200Z",
     "start_time": "2024-02-07T16:04:31.460215300Z"
    }
   },
   "outputs": [],
   "source": [
    "# drop unneeded columns from frontier_pcd_df\n",
    "irrelevant_columns = ['Notability criteria', 'Notability criteria notes', 'Link', 'Citations', 'Parameters notes',\n",
    "                      'Training compute notes', 'Training dataset notes', 'Dataset size notes',\n",
    "                      'Inference compute notes', 'Approach', 'Confidence', 'Last modified', 'Created By', 'Benchmark data',\n",
    "                      'Exclude', 'Authors by country', 'Training cost trends', 'Abstract', 'Compute cost notes',\n",
    "                      'Training time notes', 'Authors', 'Name of the hardware (from Training hardware)',\n",
    "                      'Training compute cost (2020 USD)', 'Organization categorization',\n",
    "                      'Training dataset', 'Inference compute (FLOP)', 'Compute sponsor categorization',\n",
    "                      'Finetune compute notes']\n",
    "frontier_pcd_df = frontier_pcd_df.drop(columns=irrelevant_columns)\n",
    "\n",
    "# fill column 'Training cloud compute vendor' using org_to_cloud_vendor dictionary\n",
    "org_to_cloud_vendor = {\n",
    "    'Google': 'Google Cloud',\n",
    "    'DeepMind': 'Google Cloud',\n",
    "    'Google DeepMind': 'Google Cloud',\n",
    "    'Google Brain': 'Google Cloud',\n",
    "    'Microsoft': 'Microsoft Azure',\n",
    "    'OpenAI': 'Microsoft Azure',\n",
    "}\n",
    "frontier_pcd_df['Training cloud compute vendor'] = frontier_pcd_df['Organization (from Organization)'].map(org_to_cloud_vendor)\n",
    "frontier_pcd_df['Training cloud compute vendor'] = frontier_pcd_df['Training cloud compute vendor'].fillna('Amazon Web Services')"
   ]
  },
  {
   "cell_type": "code",
   "execution_count": 42,
   "metadata": {
    "ExecuteTime": {
     "end_time": "2024-02-07T16:04:31.808389300Z",
     "start_time": "2024-02-07T16:04:31.601924200Z"
    }
   },
   "outputs": [
    {
     "name": "stdout",
     "output_type": "stream",
     "text": [
      "4\n",
      "2\n",
      "2\n",
      "0\n"
     ]
    },
    {
     "name": "stderr",
     "output_type": "stream",
     "text": [
      "C:\\ProgramData\\Anaconda3\\lib\\site-packages\\sklearn\\neighbors\\_classification.py:228: FutureWarning: Unlike other reduction functions (e.g. `skew`, `kurtosis`), the default behavior of `mode` typically preserves the axis it acts along. In SciPy 1.11.0, this behavior will change: the default value of `keepdims` will become False, the `axis` over which the statistic is taken will be eliminated, and the value None will no longer be accepted. Set `keepdims` to True or False to avoid this warning.\n",
      "  mode, _ = stats.mode(_y[neigh_ind, k], axis=1)\n",
      "C:\\ProgramData\\Anaconda3\\lib\\site-packages\\sklearn\\neighbors\\_classification.py:228: FutureWarning: Unlike other reduction functions (e.g. `skew`, `kurtosis`), the default behavior of `mode` typically preserves the axis it acts along. In SciPy 1.11.0, this behavior will change: the default value of `keepdims` will become False, the `axis` over which the statistic is taken will be eliminated, and the value None will no longer be accepted. Set `keepdims` to True or False to avoid this warning.\n",
      "  mode, _ = stats.mode(_y[neigh_ind, k], axis=1)\n",
      "C:\\ProgramData\\Anaconda3\\lib\\site-packages\\sklearn\\neighbors\\_classification.py:228: FutureWarning: Unlike other reduction functions (e.g. `skew`, `kurtosis`), the default behavior of `mode` typically preserves the axis it acts along. In SciPy 1.11.0, this behavior will change: the default value of `keepdims` will become False, the `axis` over which the statistic is taken will be eliminated, and the value None will no longer be accepted. Set `keepdims` to True or False to avoid this warning.\n",
      "  mode, _ = stats.mode(_y[neigh_ind, k], axis=1)\n",
      "C:\\ProgramData\\Anaconda3\\lib\\site-packages\\sklearn\\neighbors\\_classification.py:228: FutureWarning: Unlike other reduction functions (e.g. `skew`, `kurtosis`), the default behavior of `mode` typically preserves the axis it acts along. In SciPy 1.11.0, this behavior will change: the default value of `keepdims` will become False, the `axis` over which the statistic is taken will be eliminated, and the value None will no longer be accepted. Set `keepdims` to True or False to avoid this warning.\n",
      "  mode, _ = stats.mode(_y[neigh_ind, k], axis=1)\n"
     ]
    }
   ],
   "source": [
    "# Import KNNImputer from sklearn\n",
    "from sklearn.impute import KNNImputer\n",
    "# instantiate the imputer\n",
    "imputer = KNNImputer(n_neighbors=5)\n",
    "\n",
    "# convert datetime to float\n",
    "frontier_pcd_df['Publication date'] = frontier_pcd_df['Publication date'].dt.year + (frontier_pcd_df['Publication date'].dt.month-1) / 12 + (frontier_pcd_df['Publication date'].dt.day-1) / 365\n",
    "\n",
    "# set the System column as the index\n",
    "frontier_pcd_df = frontier_pcd_df.set_index('System')\n",
    "\n",
    "# Identify categorical columns\n",
    "categorical_cols = frontier_pcd_df.select_dtypes(include=['object', 'category']).columns.tolist()\n",
    "\n",
    "# one-hot encode all categorical columns\n",
    "one_hot_pcd_df = pd.get_dummies(frontier_pcd_df, columns=categorical_cols)\n",
    "\n",
    "# impute the missing values in Training hardware, hardware quantity, Training time (hours)\n",
    "imputed = imputer.fit_transform(one_hot_pcd_df)\n",
    "\n",
    "# convert the numpy array back to a dataframe\n",
    "imputed_pcd_df = pd.DataFrame(imputed, columns=one_hot_pcd_df.columns)\n",
    "\n",
    "# convert Training hardware back to categorical\n",
    "imputed_pcd_df['Training hardware'] = ''\n",
    "for col in imputed_pcd_df.columns:\n",
    "    if col.startswith('Training hardware_'):\n",
    "        training_hardware = col.split('Training hardware_')[1]\n",
    "        imputed_pcd_df['Training hardware'] = imputed_pcd_df['Training hardware'] + pd.Series([int(_) * training_hardware for _ in imputed_pcd_df[col]])\n",
    "\n",
    "# replace all '' with np.nan\n",
    "imputed_pcd_df['Training hardware'] = imputed_pcd_df['Training hardware'].replace('', np.nan)\n",
    "\n",
    "def impute_training_hardware(dataframe, n=5):\n",
    "    # use KNeighborsClassifier to impute the missing values in Training hardware\n",
    "    from sklearn.neighbors import KNeighborsClassifier\n",
    "    from sklearn.preprocessing import LabelEncoder\n",
    "\n",
    "    # Separate the target and features\n",
    "    target_col = 'Training hardware'\n",
    "    features = dataframe.drop(target_col, axis=1)\n",
    "    target = dataframe[target_col]\n",
    "\n",
    "    # Encode the target column\n",
    "    label_encoder = LabelEncoder()\n",
    "    target_filled = target.fillna('Unknown')  # Temporarily fill missing values\n",
    "    target_encoded = label_encoder.fit_transform(target_filled)\n",
    "\n",
    "    # Train a KNeighborsClassifier\n",
    "    knc = KNeighborsClassifier(n_neighbors=n)\n",
    "    knc.fit(features, target_encoded)\n",
    "\n",
    "    # Predict the missing values\n",
    "    missing_values = features[target.isna()]\n",
    "    predicted = knc.predict(missing_values)\n",
    "\n",
    "    # Decode the predictions\n",
    "    predicted_labels = label_encoder.inverse_transform(predicted)\n",
    "\n",
    "    # Replace the missing values with the predictions\n",
    "    dataframe.loc[target.isna(), target_col] = predicted_labels\n",
    "\n",
    "    # replace all 'Unknown' with np.nan\n",
    "    dataframe['Training hardware'] = dataframe['Training hardware'].replace('Unknown', np.nan)\n",
    "\n",
    "missing_values = imputed_pcd_df['Training hardware'].isna().sum()\n",
    "N = 5\n",
    "while missing_values > 0:\n",
    "    impute_training_hardware(imputed_pcd_df, n=N)\n",
    "    print(imputed_pcd_df['Training hardware'].isna().sum())\n",
    "    if imputed_pcd_df['Training hardware'].isna().sum() == missing_values:\n",
    "        N += 5\n",
    "    else:\n",
    "        missing_values = imputed_pcd_df['Training hardware'].isna().sum()\n",
    "\n",
    "# restore the System column\n",
    "imputed_pcd_df['System'] = one_hot_pcd_df.index\n",
    "\n",
    "# set the System column as the index\n",
    "imputed_pcd_df = imputed_pcd_df.set_index('System')\n",
    "\n",
    "# insert imputed values into frontier_pcd_df\n",
    "frontier_pcd_df['Training hardware'] = imputed_pcd_df['Training hardware']\n",
    "frontier_pcd_df['Hardware quantity'] = imputed_pcd_df['Hardware quantity']\n",
    "frontier_pcd_df['Hardware utilization'] = imputed_pcd_df['Hardware utilization']\n",
    "frontier_pcd_df['Training time (hours)'] = imputed_pcd_df['Training time (hours)']\n",
    "frontier_pcd_df['Training time (chip hours)'] = frontier_pcd_df['Training time (hours)'] * frontier_pcd_df['Hardware quantity']\n",
    "\n",
    "# calculate training time (chip hours) from training time and hardware quantity\n",
    "frontier_pcd_df['Training time (chip hours)'] = frontier_pcd_df['Training time (hours)'] * frontier_pcd_df['Hardware quantity']"
   ]
  },
  {
   "cell_type": "markdown",
   "metadata": {},
   "source": [
    "FLOP/second (flops) utilization: mean of known values\n",
    "\n",
    "TODO: random sample from distribution, combined with bootstrapping"
   ]
  },
  {
   "cell_type": "code",
   "execution_count": 42,
   "metadata": {
    "ExecuteTime": {
     "end_time": "2024-02-07T16:04:31.824054Z",
     "start_time": "2024-02-07T16:04:31.808389300Z"
    }
   },
   "outputs": [],
   "source": []
  },
  {
   "cell_type": "markdown",
   "metadata": {},
   "source": [
    "Number of chip-hours\n",
    "\n",
    "If num_chips AND training_time_hours known: chip_hours = num_chips * training_time_hours\n",
    "\n",
    "Else if num_chips unknown: \n",
    "\n",
    "Else if training_time_hours unknown: \n",
    "\n",
    "Else (both unknown): chip_hours = training_compute_flop / (chip_flops * flops_utilization * SECONDS_PER_HOUR)"
   ]
  },
  {
   "cell_type": "code",
   "execution_count": 43,
   "metadata": {
    "ExecuteTime": {
     "end_time": "2024-02-07T16:04:31.950006600Z",
     "start_time": "2024-02-07T16:04:31.831100700Z"
    }
   },
   "outputs": [],
   "source": [
    "chip_hours = []\n",
    "for i, row in frontier_pcd_df.iterrows():\n",
    "    if pd.isna(row['Hardware quantity']) or pd.isna(row['Training time (hours)']):\n",
    "        # TODO impute missing values\n",
    "        chip_hours.append(np.nan)\n",
    "    else:\n",
    "        chip_hours.append(row['Hardware quantity'] * row['Training time (hours)'])\n",
    "\n",
    "frontier_pcd_df['Training time (chip hours)'] = chip_hours"
   ]
  },
  {
   "cell_type": "markdown",
   "metadata": {},
   "source": [
    "# Price selection"
   ]
  },
  {
   "cell_type": "markdown",
   "metadata": {},
   "source": [
    "1. Use a fixed mapping from Organization to cloud provider. If no mapping found, default to \"Amazon Web Services\".\n",
    "2. If there's a match for the hardware model, use that. Else, discard the ML system from the dataset.\n",
    "3. Use the price that is nearest to, but prior to, training time + 2 months before the publication date\n",
    "4. If there are no prices prior to that time, use the nearest price after that time\n",
    "5. If there are no prices for that hardware model and cloud provider at all, repeat steps 3 and 4 for \"Microsoft Azure\", then \"Google Cloud\" as the cloud provider.\n",
    "6. If there are no prices found from step 5, discard the ML system from the dataset."
   ]
  },
  {
   "cell_type": "code",
   "execution_count": 44,
   "metadata": {
    "ExecuteTime": {
     "end_time": "2024-02-07T16:04:32.075933800Z",
     "start_time": "2024-02-07T16:04:31.950006600Z"
    }
   },
   "outputs": [
    {
     "name": "stdout",
     "output_type": "stream",
     "text": [
      "Price date: 2019-07-01 00:00:00\n",
      "Price: $1.26\n"
     ]
    }
   ],
   "source": [
    "# Example usage\n",
    "example_vendor = \"Google Cloud\"\n",
    "example_hardware_model = \"Google TPU v3\"\n",
    "example_date = \"2019-07-15\" # Example date, format should be YYYY-MM-DD\n",
    "\n",
    "# Find the row\n",
    "closest_row_df = find_closest_price_dates(example_vendor, example_hardware_model, example_date, price_df)\n",
    "\n",
    "for i, row in closest_row_df.iterrows():\n",
    "    if row['Price date'] <= pd.to_datetime(example_date):\n",
    "        print(f\"Price date: {row['Price date']}\")\n",
    "        print(f\"Price: {row['Price per chip-hour (1-year CUD)']}\")\n",
    "        break    "
   ]
  },
  {
   "cell_type": "code",
   "execution_count": 45,
   "metadata": {
    "ExecuteTime": {
     "end_time": "2024-02-07T16:04:32.189553500Z",
     "start_time": "2024-02-07T16:04:32.075933800Z"
    }
   },
   "outputs": [],
   "source": [
    "org_to_cloud_vendor = {\n",
    "    'google': 'Google Cloud',\n",
    "    'deepmind': 'Google Cloud',\n",
    "    'microsoft': 'Microsoft Azure',\n",
    "    'openai': 'Microsoft Azure',\n",
    "}"
   ]
  },
  {
   "cell_type": "code",
   "execution_count": 46,
   "metadata": {
    "ExecuteTime": {
     "end_time": "2024-02-07T16:04:32.284443400Z",
     "start_time": "2024-02-07T16:04:32.189553500Z"
    }
   },
   "outputs": [],
   "source": [
    "frontier_pcd_df['System'] = frontier_pcd_df.index"
   ]
  },
  {
   "cell_type": "code",
   "execution_count": 47,
   "metadata": {
    "ExecuteTime": {
     "end_time": "2024-02-07T16:04:32.395189900Z",
     "start_time": "2024-02-07T16:04:32.284443400Z"
    }
   },
   "outputs": [],
   "source": [
    "# Function to convert float year to datetime\n",
    "def float_year_to_datetime(float_year):\n",
    "    year = int(float_year)\n",
    "    remainder = float_year - year\n",
    "    days_in_year = 365 + int(pd.Timestamp(year=year, month=12, day=31).is_leap_year)\n",
    "    day_of_year = int(remainder * days_in_year)\n",
    "    return pd.Timestamp(year=year, month=1, day=1) + pd.to_timedelta(day_of_year, unit='D')\n",
    "\n",
    "frontier_pcd_df['Publication date'] = frontier_pcd_df['Publication date'].apply(float_year_to_datetime)"
   ]
  },
  {
   "cell_type": "code",
   "execution_count": 48,
   "metadata": {
    "ExecuteTime": {
     "end_time": "2024-02-07T16:04:32.504756500Z",
     "start_time": "2024-02-07T16:04:32.395189900Z"
    }
   },
   "outputs": [],
   "source": [
    "pcd_hardware_model_colname = 'Training hardware'"
   ]
  },
  {
   "cell_type": "code",
   "execution_count": 49,
   "metadata": {
    "ExecuteTime": {
     "end_time": "2024-02-07T16:04:32.814131500Z",
     "start_time": "2024-02-07T16:04:32.504756500Z"
    }
   },
   "outputs": [
    {
     "name": "stdout",
     "output_type": "stream",
     "text": [
      "==== System: AlphaGo Fan ====\n",
      "Trying Google TPU v3 at 2015-07-17 09:00:00\n",
      "Trying Google Cloud, Price per chip-hour (1-year CUD)\n",
      "Could not find price\n",
      "Trying Google Cloud, Price per chip-hour (3-year CUD)\n",
      "Could not find price\n",
      "Trying Google Cloud, Price per chip-hour (on-demand)\n",
      "Found price: 2.0\n",
      "\n",
      "==== System: AlphaGo Lee ====\n",
      "Trying Google TPU v3 at 2015-11-12 09:00:00\n",
      "Trying Google Cloud, Price per chip-hour (1-year CUD)\n",
      "Could not find price\n",
      "Trying Google Cloud, Price per chip-hour (3-year CUD)\n",
      "Could not find price\n",
      "Trying Google Cloud, Price per chip-hour (on-demand)\n",
      "Found price: 2.0\n",
      "\n",
      "==== System: GNMT ====\n",
      "Trying NVIDIA Tesla K80 at 2016-01-30 00:00:00\n",
      "Trying Google Cloud, Price per chip-hour (1-year CUD)\n",
      "Could not find price\n",
      "Trying Google Cloud, Price per chip-hour (3-year CUD)\n",
      "Could not find price\n",
      "Trying Google Cloud, Price per chip-hour (on-demand)\n",
      "Found price: 1.4\n",
      "\n",
      "==== System: NASv3 (CIFAR-10) ====\n",
      "Trying Google TPU v3 at 2016-08-21 09:00:00\n",
      "Trying Google Cloud, Price per chip-hour (1-year CUD)\n",
      "Could not find price\n",
      "Trying Google Cloud, Price per chip-hour (3-year CUD)\n",
      "Could not find price\n",
      "Trying Google Cloud, Price per chip-hour (on-demand)\n",
      "Found price: 2.0\n",
      "\n",
      "==== System: AlphaGo Master ====\n",
      "Trying Google TPU v1 at 2016-08-07 15:00:00\n",
      "Trying Google Cloud, Price per chip-hour (1-year CUD)\n",
      "Could not find price\n",
      "Trying Google Cloud, Price per chip-hour (3-year CUD)\n",
      "Could not find price\n",
      "Trying Google Cloud, Price per chip-hour (on-demand)\n",
      "Could not find price\n",
      "Estimating price from FLOP/s and FLOP/$ trend\n",
      "Could not find FLOP/s for Google TPU v1\n",
      "==== System: JFT ====\n",
      "Trying NVIDIA Tesla K80 at 2017-03-13 00:00:00\n",
      "Trying Google Cloud, Price per chip-hour (1-year CUD)\n",
      "Could not find price\n",
      "Trying Google Cloud, Price per chip-hour (3-year CUD)\n",
      "Could not find price\n",
      "Trying Google Cloud, Price per chip-hour (on-demand)\n",
      "Found price: 1.4\n",
      "\n",
      "==== System: OpenAI TI7 DOTA 1v1 ====\n",
      "Trying Google TPU v3 at 2017-05-27 09:00:00\n",
      "Trying Microsoft Azure, Price per chip-hour (1-year CUD)\n",
      "Could not find price\n",
      "Trying Microsoft Azure, Price per chip-hour (3-year CUD)\n",
      "Could not find price\n",
      "Trying Microsoft Azure, Price per chip-hour (on-demand)\n",
      "Could not find price\n",
      "Estimating price from FLOP/s and FLOP/$ trend\n",
      "Could not find FLOP/s for Google TPU v3\n",
      "==== System: AlphaGo Zero ====\n",
      "Trying Google TPU v1 at 2017-07-30 00:00:00\n",
      "Trying Google Cloud, Price per chip-hour (1-year CUD)\n",
      "Could not find price\n",
      "Trying Google Cloud, Price per chip-hour (3-year CUD)\n",
      "Could not find price\n",
      "Trying Google Cloud, Price per chip-hour (on-demand)\n",
      "Could not find price\n",
      "Estimating price from FLOP/s and FLOP/$ trend\n",
      "Could not find FLOP/s for Google TPU v1\n",
      "==== System: AlphaZero ====\n",
      "Trying Google TPU v2 at 2017-08-12 14:00:00\n",
      "Trying Google Cloud, Price per chip-hour (1-year CUD)\n",
      "Could not find price\n",
      "Trying Google Cloud, Price per chip-hour (3-year CUD)\n",
      "Could not find price\n",
      "Trying Google Cloud, Price per chip-hour (on-demand)\n",
      "Found price: 1.13\n",
      "\n",
      "==== System: AmoebaNet-A (F=448) ====\n",
      "Trying NVIDIA Tesla K40s at 2017-11-29 00:00:00\n",
      "Trying Google Cloud, Price per chip-hour (1-year CUD)\n",
      "Could not find price\n",
      "Trying Google Cloud, Price per chip-hour (3-year CUD)\n",
      "Could not find price\n",
      "Trying Google Cloud, Price per chip-hour (on-demand)\n",
      "Could not find price\n",
      "Trying Amazon Web Services, Price per chip-hour (1-year CUD)\n",
      "Could not find price\n",
      "Trying Amazon Web Services, Price per chip-hour (3-year CUD)\n",
      "Could not find price\n",
      "Trying Amazon Web Services, Price per chip-hour (on-demand)\n",
      "Could not find price\n",
      "Trying Microsoft Azure, Price per chip-hour (1-year CUD)\n",
      "Could not find price\n",
      "Trying Microsoft Azure, Price per chip-hour (3-year CUD)\n",
      "Could not find price\n",
      "Trying Microsoft Azure, Price per chip-hour (on-demand)\n",
      "Could not find price\n",
      "Estimating price from FLOP/s and FLOP/$ trend\n",
      "Estimated price: 0.052760065856088875\n",
      "\n",
      "==== System: IMPALA ====\n",
      "Trying NVIDIA P100 at 2017-12-01 20:00:00\n",
      "Trying Google Cloud, Price per chip-hour (1-year CUD)\n",
      "Could not find price\n",
      "Trying Google Cloud, Price per chip-hour (3-year CUD)\n",
      "Could not find price\n",
      "Trying Google Cloud, Price per chip-hour (on-demand)\n",
      "Found price: 1.46\n",
      "\n",
      "==== System: ResNeXt-101 32x48d ====\n",
      "Trying NVIDIA Tesla V100 DGXS 32 GB at 2018-01-10 21:00:00\n",
      "Trying Amazon Web Services, Price per chip-hour (1-year CUD)\n",
      "Found price: 2.29\n",
      "\n",
      "==== System: FTW ====\n",
      "Trying NVIDIA Tesla V100 DGXS 32 GB at 2018-03-13 21:00:00\n",
      "Trying Google Cloud, Price per chip-hour (1-year CUD)\n",
      "Could not find price\n",
      "Trying Google Cloud, Price per chip-hour (3-year CUD)\n",
      "Could not find price\n",
      "Trying Google Cloud, Price per chip-hour (on-demand)\n",
      "Could not find price\n",
      "Trying Amazon Web Services, Price per chip-hour (1-year CUD)\n",
      "Found price: 2.29\n",
      "\n",
      "==== System: BigGAN-deep 512x512 ====\n",
      "Trying Google TPU v3 at 2018-07-28 00:00:00\n",
      "Trying Google Cloud, Price per chip-hour (1-year CUD)\n",
      "Could not find price\n",
      "Trying Google Cloud, Price per chip-hour (3-year CUD)\n",
      "Could not find price\n",
      "Trying Google Cloud, Price per chip-hour (on-demand)\n",
      "Found price: 2.0\n",
      "\n",
      "==== System: RoBERTa Large ====\n",
      "Trying NVIDIA Tesla V100 DGXS 32 GB at 2019-04-28 00:00:00\n",
      "Trying Amazon Web Services, Price per chip-hour (1-year CUD)\n",
      "Found price: 2.29\n",
      "\n",
      "==== System: Megatron-BERT ====\n",
      "Trying NVIDIA Tesla V100S PCIe 32 GB at 2019-05-22 00:00:00\n",
      "Trying Amazon Web Services, Price per chip-hour (1-year CUD)\n",
      "Could not find price\n",
      "Trying Amazon Web Services, Price per chip-hour (3-year CUD)\n",
      "Could not find price\n",
      "Trying Amazon Web Services, Price per chip-hour (on-demand)\n",
      "Could not find price\n",
      "Trying Microsoft Azure, Price per chip-hour (1-year CUD)\n",
      "Could not find price\n",
      "Trying Microsoft Azure, Price per chip-hour (3-year CUD)\n",
      "Could not find price\n",
      "Trying Microsoft Azure, Price per chip-hour (on-demand)\n",
      "Could not find price\n",
      "Trying Google Cloud, Price per chip-hour (1-year CUD)\n",
      "Could not find price\n",
      "Trying Google Cloud, Price per chip-hour (3-year CUD)\n",
      "Could not find price\n",
      "Trying Google Cloud, Price per chip-hour (on-demand)\n",
      "Could not find price\n",
      "Estimating price from FLOP/s and FLOP/$ trend\n",
      "Estimated price: 0.1051277082983274\n",
      "\n",
      "==== System: Megatron-LM (8.3B) ====\n",
      "Trying NVIDIA Tesla V100 DGXS 32 GB at 2019-07-05 09:00:00\n",
      "Trying Amazon Web Services, Price per chip-hour (1-year CUD)\n",
      "Found price: 2.29\n",
      "\n",
      "==== System: T5-3B ====\n",
      "Trying Google TPU v3 at 2019-08-08 09:00:00\n",
      "Trying Google Cloud, Price per chip-hour (1-year CUD)\n",
      "Found price: 1.26\n",
      "\n",
      "==== System: T5-11B ====\n",
      "Trying Google TPU v3 at 2019-08-03 23:00:00\n",
      "Trying Google Cloud, Price per chip-hour (1-year CUD)\n",
      "Found price: 1.26\n",
      "\n",
      "==== System: AlphaStar ====\n",
      "Trying Google TPU v3 at 2019-07-18 00:00:00\n",
      "Trying Google Cloud, Price per chip-hour (1-year CUD)\n",
      "Found price: 1.26\n",
      "\n",
      "==== System: OpenAI Five ====\n",
      "Trying Google TPU v3 at 2018-12-22 00:00:00\n",
      "Trying Microsoft Azure, Price per chip-hour (1-year CUD)\n",
      "Could not find price\n",
      "Trying Microsoft Azure, Price per chip-hour (3-year CUD)\n",
      "Could not find price\n",
      "Trying Microsoft Azure, Price per chip-hour (on-demand)\n",
      "Could not find price\n",
      "Estimating price from FLOP/s and FLOP/$ trend\n",
      "Could not find FLOP/s for Google TPU v3\n",
      "==== System: OpenAI Five Rerun ====\n",
      "Trying NVIDIA Tesla V100 DGXS 32 GB at 2019-08-22 21:00:00\n",
      "Trying Microsoft Azure, Price per chip-hour (1-year CUD)\n",
      "Could not find price\n",
      "Trying Microsoft Azure, Price per chip-hour (3-year CUD)\n",
      "Could not find price\n",
      "Trying Microsoft Azure, Price per chip-hour (on-demand)\n",
      "Could not find price\n",
      "Trying Amazon Web Services, Price per chip-hour (1-year CUD)\n",
      "Found price: 2.29\n",
      "\n",
      "==== System: Meena ====\n",
      "Trying Google TPU v3 at 2019-10-30 00:00:00\n",
      "Trying Google Cloud, Price per chip-hour (1-year CUD)\n",
      "Found price: 1.26\n",
      "\n",
      "==== System: Turing-NLG ====\n",
      "Trying NVIDIA Tesla V100 DGXS 32 GB at 2019-11-01 00:00:00\n",
      "Trying Microsoft Azure, Price per chip-hour (1-year CUD)\n",
      "Could not find price\n",
      "Trying Microsoft Azure, Price per chip-hour (3-year CUD)\n",
      "Could not find price\n",
      "Trying Microsoft Azure, Price per chip-hour (on-demand)\n",
      "Could not find price\n",
      "Trying Amazon Web Services, Price per chip-hour (1-year CUD)\n",
      "Found price: 2.29\n",
      "\n",
      "==== System: GPT-3 175B (davinci) ====\n",
      "Trying NVIDIA Tesla V100 DGXS 32 GB at 2020-03-15 05:00:00\n",
      "Trying Microsoft Azure, Price per chip-hour (1-year CUD)\n",
      "Could not find price\n",
      "Trying Microsoft Azure, Price per chip-hour (3-year CUD)\n",
      "Could not find price\n",
      "Trying Microsoft Azure, Price per chip-hour (on-demand)\n",
      "Could not find price\n",
      "Trying Amazon Web Services, Price per chip-hour (1-year CUD)\n",
      "Found price: 2.29\n",
      "\n",
      "==== System: GShard (dense) ====\n",
      "Trying Google TPU v3 at 2020-03-20 00:00:00\n",
      "Trying Google Cloud, Price per chip-hour (1-year CUD)\n",
      "Found price: 1.26\n",
      "\n",
      "==== System: ALIGN ====\n",
      "Trying Google TPU v3 at 2021-03-29 13:00:00\n",
      "Trying Google Cloud, Price per chip-hour (1-year CUD)\n",
      "Found price: 1.26\n",
      "\n",
      "==== System: Megatron-Turing NLG 530B ====\n",
      "Trying NVIDIA A100 SXM4 80 GB at 2021-07-10 22:00:00\n",
      "Trying Microsoft Azure, Price per chip-hour (1-year CUD)\n",
      "Found price: 2.62\n",
      "\n",
      "==== System: Yuan 1.0 ====\n",
      "Trying Google TPU v1 at 2021-07-07 13:00:00\n",
      "Trying Amazon Web Services, Price per chip-hour (1-year CUD)\n",
      "Could not find price\n",
      "Trying Amazon Web Services, Price per chip-hour (3-year CUD)\n",
      "Could not find price\n",
      "Trying Amazon Web Services, Price per chip-hour (on-demand)\n",
      "Could not find price\n",
      "Estimating price from FLOP/s and FLOP/$ trend\n",
      "Could not find FLOP/s for Google TPU v1\n",
      "==== System: Gopher (280B) ====\n",
      "Trying Google TPU v3 at 2021-08-31 16:00:00\n",
      "Trying Google Cloud, Price per chip-hour (1-year CUD)\n",
      "Found price: 1.26\n",
      "\n",
      "==== System: GLaM ====\n",
      "Trying Google TPU v4 at 2021-08-18 02:00:00\n",
      "Trying Google Cloud, Price per chip-hour (1-year CUD)\n",
      "Found price: 2.03\n",
      "\n",
      "==== System: LaMDA ====\n",
      "Trying Google TPU v3 at 2021-10-14 07:00:00\n",
      "Trying Google Cloud, Price per chip-hour (1-year CUD)\n",
      "Found price: 1.26\n",
      "\n",
      "==== System: Chinchilla ====\n",
      "Trying Google TPU v4 at 2021-12-18 14:00:00\n",
      "Trying Google Cloud, Price per chip-hour (1-year CUD)\n",
      "Found price: 2.03\n",
      "\n",
      "==== System: PaLM (540B) ====\n",
      "Trying Google TPU v4 at 2021-12-09 00:00:00\n",
      "Trying Google Cloud, Price per chip-hour (1-year CUD)\n",
      "Found price: 2.03\n",
      "\n",
      "==== System: OPT-175B ====\n",
      "Trying NVIDIA A100 SXM4 80 GB at 2022-01-29 23:00:00\n",
      "Trying Amazon Web Services, Price per chip-hour (1-year CUD)\n",
      "Found price: 3.0\n",
      "\n",
      "==== System: Minerva (540B) ====\n",
      "Trying Google TPU v4 at 2022-04-02 00:00:00\n",
      "Trying Google Cloud, Price per chip-hour (1-year CUD)\n",
      "Found price: 2.03\n",
      "\n",
      "==== System: GPT-3.5 (text-davinci-003) ====\n",
      "Trying NVIDIA A100 SXM4 40 GB at 2022-06-25 10:00:00\n",
      "Trying Microsoft Azure, Price per chip-hour (1-year CUD)\n",
      "Could not find price\n",
      "Trying Microsoft Azure, Price per chip-hour (3-year CUD)\n",
      "Could not find price\n",
      "Trying Microsoft Azure, Price per chip-hour (on-demand)\n",
      "Could not find price\n",
      "Trying Amazon Web Services, Price per chip-hour (1-year CUD)\n",
      "Found price: 2.4\n",
      "\n",
      "==== System: LLaMA-65B ====\n",
      "Trying NVIDIA A100 at 2022-12-04 04:00:00\n",
      "Trying Amazon Web Services, Price per chip-hour (1-year CUD)\n",
      "Could not find price\n",
      "Trying Amazon Web Services, Price per chip-hour (3-year CUD)\n",
      "Could not find price\n",
      "Trying Amazon Web Services, Price per chip-hour (on-demand)\n",
      "Could not find price\n",
      "Trying Microsoft Azure, Price per chip-hour (1-year CUD)\n",
      "Found price: 2.35\n",
      "\n",
      "==== System: GPT-4 ====\n",
      "Trying NVIDIA A100 SXM4 40 GB at 2022-10-12 00:00:00\n",
      "Trying Microsoft Azure, Price per chip-hour (1-year CUD)\n",
      "Could not find price\n",
      "Trying Microsoft Azure, Price per chip-hour (3-year CUD)\n",
      "Could not find price\n",
      "Trying Microsoft Azure, Price per chip-hour (on-demand)\n",
      "Could not find price\n",
      "Trying Amazon Web Services, Price per chip-hour (1-year CUD)\n",
      "Found price: 2.4\n",
      "\n",
      "==== System: PaLM 2 ====\n",
      "Trying Google TPU v4 at 2022-12-06 10:00:00\n",
      "Trying Google Cloud, Price per chip-hour (1-year CUD)\n",
      "Found price: 2.03\n",
      "\n",
      "==== System: Claude 2 ====\n",
      "Trying Google TPU v4 at 2023-02-06 10:00:00\n",
      "Trying Amazon Web Services, Price per chip-hour (1-year CUD)\n",
      "Could not find price\n",
      "Trying Amazon Web Services, Price per chip-hour (3-year CUD)\n",
      "Could not find price\n",
      "Trying Amazon Web Services, Price per chip-hour (on-demand)\n",
      "Could not find price\n",
      "Estimating price from FLOP/s and FLOP/$ trend\n",
      "Could not find FLOP/s for Google TPU v4\n",
      "==== System: Llama 2-70B ====\n",
      "Trying NVIDIA A100 SXM4 80 GB at 2022-11-21 00:00:00\n",
      "Trying Amazon Web Services, Price per chip-hour (1-year CUD)\n",
      "Found price: 3.0\n",
      "\n",
      "==== System: Falcon 180B ====\n",
      "Trying NVIDIA A100 SXM4 40 GB at 2023-01-09 00:00:00\n",
      "Trying Amazon Web Services, Price per chip-hour (1-year CUD)\n",
      "Found price: 2.4\n",
      "\n"
     ]
    },
    {
     "data": {
      "text/plain": [
       "{'AlphaGo Fan': 2.0,\n",
       " 'AlphaGo Lee': 2.0,\n",
       " 'GNMT': 1.4,\n",
       " 'NASv3 (CIFAR-10)': 2.0,\n",
       " 'JFT': 1.4,\n",
       " 'AlphaZero': 1.13,\n",
       " 'AmoebaNet-A (F=448)': 0.052760065856088875,\n",
       " 'IMPALA': 1.46,\n",
       " 'ResNeXt-101 32x48d': 2.29,\n",
       " 'FTW': 2.29,\n",
       " 'BigGAN-deep 512x512': 2.0,\n",
       " 'RoBERTa Large': 2.29,\n",
       " 'Megatron-BERT': 0.1051277082983274,\n",
       " 'Megatron-LM (8.3B)': 2.29,\n",
       " 'T5-3B': 1.26,\n",
       " 'T5-11B': 1.26,\n",
       " 'AlphaStar': 1.26,\n",
       " 'OpenAI Five Rerun': 2.29,\n",
       " 'Meena': 1.26,\n",
       " 'Turing-NLG': 2.29,\n",
       " 'GPT-3 175B (davinci)': 2.29,\n",
       " 'GShard (dense)': 1.26,\n",
       " 'ALIGN': 1.26,\n",
       " 'Megatron-Turing NLG 530B': 2.62,\n",
       " 'Gopher (280B)': 1.26,\n",
       " 'GLaM': 2.03,\n",
       " 'LaMDA': 1.26,\n",
       " 'Chinchilla': 2.03,\n",
       " 'PaLM (540B)': 2.03,\n",
       " 'OPT-175B': 3.0,\n",
       " 'Minerva (540B)': 2.03,\n",
       " 'GPT-3.5 (text-davinci-003)': 2.4,\n",
       " 'LLaMA-65B': 2.35,\n",
       " 'GPT-4': 2.4,\n",
       " 'PaLM 2': 2.03,\n",
       " 'Llama 2-70B': 3.0,\n",
       " 'Falcon 180B': 2.4}"
      ]
     },
     "execution_count": 49,
     "metadata": {},
     "output_type": "execute_result"
    }
   ],
   "source": [
    "price_colname = 'Price per chip-hour (1-year CUD)'\n",
    "system_to_price = {}\n",
    "\n",
    "for i, row in frontier_pcd_df.iterrows():\n",
    "    price = find_price(row, price_df, hardware_df, pcd_hardware_model_colname, price_colname, org_to_cloud_vendor)\n",
    "    if price is None:\n",
    "        continue\n",
    "    else:\n",
    "        system_to_price[row['System']] = price\n",
    "\n",
    "system_to_price"
   ]
  },
  {
   "cell_type": "markdown",
   "metadata": {},
   "source": [
    "# Cost estimation"
   ]
  },
  {
   "cell_type": "markdown",
   "metadata": {},
   "source": [
    "TODO: inflation adjustment"
   ]
  },
  {
   "cell_type": "markdown",
   "metadata": {},
   "source": [
    "cost = price_per_chip_hour * chip_hours"
   ]
  },
  {
   "cell_type": "code",
   "execution_count": 50,
   "metadata": {
    "ExecuteTime": {
     "end_time": "2024-02-07T16:04:32.923721100Z",
     "start_time": "2024-02-07T16:04:32.814131500Z"
    }
   },
   "outputs": [],
   "source": [
    "def estimate_cost(row, system_to_price):\n",
    "    system = row['System']\n",
    "    price = system_to_price.get(system)\n",
    "    if price is None:\n",
    "        return None\n",
    "\n",
    "    chip_hours = row['Training time (chip hours)']\n",
    "    if np.isnan(chip_hours):\n",
    "        return None\n",
    "\n",
    "    cost = price * chip_hours\n",
    "\n",
    "    # Check for base model\n",
    "    if not pd.isna(row['Base model']):\n",
    "        base_model_name = row['Base model']\n",
    "        base_model = frontier_pcd_df[frontier_pcd_df['System'] == base_model_name].squeeze()\n",
    "        base_cost = estimate_cost(base_model, system_to_price)\n",
    "        if base_cost is None:\n",
    "            return None\n",
    "        else:\n",
    "            cost += base_cost\n",
    "\n",
    "    return cost\n",
    "    "
   ]
  },
  {
   "cell_type": "code",
   "execution_count": 51,
   "metadata": {
    "ExecuteTime": {
     "end_time": "2024-02-07T16:04:33.033231700Z",
     "start_time": "2024-02-07T16:04:32.923721100Z"
    }
   },
   "outputs": [
    {
     "data": {
      "text/plain": [
       "{'AlphaGo Fan': 233674.55999999997,\n",
       " 'AlphaGo Lee': 233674.55999999997,\n",
       " 'GNMT': 580608.0,\n",
       " 'NASv3 (CIFAR-10)': 600320.0,\n",
       " 'JFT': 100800.0,\n",
       " 'AlphaZero': 94481.7408,\n",
       " 'AmoebaNet-A (F=448)': 3988.660978720319,\n",
       " 'IMPALA': 146.0,\n",
       " 'ResNeXt-101 32x48d': 962569.4400000001,\n",
       " 'FTW': 1274258.5920000002,\n",
       " 'BigGAN-deep 512x512': 24576.0,\n",
       " 'RoBERTa Large': 281395.2,\n",
       " 'Megatron-BERT': 74924.93821505114,\n",
       " 'Megatron-LM (8.3B)': 383400.96,\n",
       " 'T5-3B': 147214.9728,\n",
       " 'T5-11B': 310883.328,\n",
       " 'AlphaStar': 510935.04,\n",
       " 'OpenAI Five Rerun': 1466772.48,\n",
       " 'Meena': 928972.8,\n",
       " 'Turing-NLG': 605269.3504,\n",
       " 'GPT-3 175B (davinci)': 8134080.0,\n",
       " 'GShard (dense)': 1300561.92,\n",
       " 'ALIGN': 224050.176,\n",
       " 'Megatron-Turing NLG 530B': 9037952.0,\n",
       " 'Gopher (280B)': 4748083.2,\n",
       " 'GLaM': 2839531.5199999996,\n",
       " 'LaMDA': 1786982.4,\n",
       " 'Chinchilla': 3513681.2031999994,\n",
       " 'PaLM (540B)': 17062133.759999998,\n",
       " 'OPT-175B': 2437632.0,\n",
       " 'Minerva (540B)': 18508922.88,\n",
       " 'GPT-3.5 (text-davinci-003)': 21853839.36,\n",
       " 'LLaMA-65B': 2406400.0,\n",
       " 'GPT-4': 136800000.0,\n",
       " 'PaLM 2': 18484705.792,\n",
       " 'Llama 2-70B': 31518720.0,\n",
       " 'Falcon 180B': 42467328.0}"
      ]
     },
     "execution_count": 51,
     "metadata": {},
     "output_type": "execute_result"
    }
   ],
   "source": [
    "system_to_cost = {}\n",
    "for i, row in frontier_pcd_df.iterrows():\n",
    "    cost = estimate_cost(row, system_to_price)\n",
    "    if cost is None:\n",
    "        continue\n",
    "    system_to_cost[row['System']] = cost\n",
    "\n",
    "system_to_cost"
   ]
  },
  {
   "cell_type": "code",
   "execution_count": 52,
   "metadata": {
    "ExecuteTime": {
     "end_time": "2024-02-07T16:04:33.143342700Z",
     "start_time": "2024-02-07T16:04:33.033231700Z"
    }
   },
   "outputs": [],
   "source": [
    "for system, cost in system_to_cost.items():\n",
    "    frontier_pcd_df.loc[system, 'Cost'] = cost"
   ]
  },
  {
   "cell_type": "markdown",
   "metadata": {},
   "source": [
    "# Apply inflation adjustment"
   ]
  },
  {
   "cell_type": "code",
   "execution_count": 53,
   "metadata": {
    "ExecuteTime": {
     "end_time": "2024-02-07T16:04:33.302031700Z",
     "start_time": "2024-02-07T16:04:33.143342700Z"
    }
   },
   "outputs": [
    {
     "data": {
      "text/plain": [
       "Index(['Domain', 'Task', 'Open-source', 'Reference', 'Publication date',\n",
       "       'Organization', 'Parameters', 'Training compute (FLOP)',\n",
       "       'Training dataset size (datapoints)', 'Epochs', 'Training time (hours)',\n",
       "       'Training hardware', 'Country (from Organization)',\n",
       "       'Organization (from Organization)', 'Base model',\n",
       "       'Finetune compute (FLOP)', 'Hardware quantity', 'Hardware utilization',\n",
       "       'Training cloud compute vendor', 'Training data center',\n",
       "       'Training time (chip hours)', 'System', 'Cost'],\n",
       "      dtype='object')"
      ]
     },
     "execution_count": 53,
     "metadata": {},
     "output_type": "execute_result"
    }
   ],
   "source": [
    "frontier_pcd_df.columns"
   ]
  },
  {
   "cell_type": "code",
   "execution_count": 54,
   "metadata": {
    "ExecuteTime": {
     "end_time": "2024-02-07T16:04:33.405367600Z",
     "start_time": "2024-02-07T16:04:33.290732900Z"
    }
   },
   "outputs": [],
   "source": [
    "from_year_month = frontier_pcd_df['Publication date'].apply(str)\n",
    "frontier_pcd_df['Publication date'] = from_year_month"
   ]
  },
  {
   "cell_type": "code",
   "execution_count": 55,
   "metadata": {
    "ExecuteTime": {
     "end_time": "2024-02-07T16:04:33.499948700Z",
     "start_time": "2024-02-07T16:04:33.405367600Z"
    }
   },
   "outputs": [
    {
     "data": {
      "text/plain": [
       "System\n",
       "AlphaGo Fan                   2015-10-01 00:00:00\n",
       "AlphaGo Lee                   2016-01-27 00:00:00\n",
       "GNMT                          2016-09-26 00:00:00\n",
       "NASv3 (CIFAR-10)              2016-11-05 00:00:00\n",
       "AlphaGo Master                2017-01-01 00:00:00\n",
       "JFT                           2017-07-11 00:00:00\n",
       "OpenAI TI7 DOTA 1v1           2017-08-11 00:00:00\n",
       "AlphaGo Zero                  2017-10-18 00:00:00\n",
       "AlphaZero                     2017-12-05 00:00:00\n",
       "AmoebaNet-A (F=448)           2018-02-04 00:00:00\n",
       "IMPALA                        2018-02-04 00:00:00\n",
       "ResNeXt-101 32x48d            2018-05-03 00:00:00\n",
       "FTW                           2018-07-04 00:00:00\n",
       "BigGAN-deep 512x512           2018-09-28 00:00:00\n",
       "RoBERTa Large                 2019-07-02 00:00:00\n",
       "Megatron-BERT                 2019-09-17 00:00:00\n",
       "Megatron-LM (8.3B)            2019-09-17 00:00:00\n",
       "T5-3B                         2019-10-23 00:00:00\n",
       "T5-11B                        2019-10-23 00:00:00\n",
       "AlphaStar                     2019-10-30 00:00:00\n",
       "OpenAI Five                   2019-12-13 00:00:00\n",
       "OpenAI Five Rerun             2019-12-13 00:00:00\n",
       "Meena                         2020-01-28 00:00:00\n",
       "Turing-NLG                    2020-02-12 00:00:00\n",
       "GPT-3 175B (davinci)          2020-05-29 00:00:00\n",
       "GShard (dense)                2020-06-30 00:00:00\n",
       "ALIGN                         2021-06-12 00:00:00\n",
       "Megatron-Turing NLG 530B      2021-10-11 00:00:00\n",
       "Yuan 1.0                      2021-10-12 00:00:00\n",
       "Gopher (280B)                 2021-12-08 00:00:00\n",
       "GLaM                          2021-12-13 00:00:00\n",
       "LaMDA                         2022-02-09 00:00:00\n",
       "Chinchilla                    2022-03-30 00:00:00\n",
       "PaLM (540B)                   2022-04-05 00:00:00\n",
       "OPT-175B                      2022-05-03 00:00:00\n",
       "Minerva (540B)                2022-06-30 00:00:00\n",
       "GPT-3.5 (text-davinci-003)    2022-11-28 00:00:00\n",
       "LLaMA-65B                     2023-02-23 00:00:00\n",
       "GPT-4                         2023-03-16 00:00:00\n",
       "PaLM 2                        2023-05-11 00:00:00\n",
       "Claude 2                      2023-07-12 00:00:00\n",
       "Llama 2-70B                   2023-07-19 00:00:00\n",
       "Falcon 180B                   2023-09-06 00:00:00\n",
       "Name: Publication date, dtype: object"
      ]
     },
     "execution_count": 55,
     "metadata": {},
     "output_type": "execute_result"
    }
   ],
   "source": [
    "frontier_pcd_df['Publication date']"
   ]
  },
  {
   "cell_type": "code",
   "execution_count": 61,
   "metadata": {
    "ExecuteTime": {
     "end_time": "2024-02-07T16:04:53.202236900Z",
     "start_time": "2024-02-07T16:04:52.976107600Z"
    }
   },
   "outputs": [],
   "source": [
    "frontier_pcd_df = adjust_column_for_inflation(frontier_pcd_df, 'Cost', 'data/PCU518210518210.csv', '2023-12-01')"
   ]
  },
  {
   "cell_type": "markdown",
   "metadata": {},
   "source": [
    "# Regression"
   ]
  },
  {
   "cell_type": "code",
   "execution_count": 56,
   "metadata": {
    "ExecuteTime": {
     "end_time": "2024-02-07T16:04:33.660916400Z",
     "start_time": "2024-02-07T16:04:33.645130900Z"
    }
   },
   "outputs": [],
   "source": []
  },
  {
   "cell_type": "markdown",
   "metadata": {},
   "source": [
    "# Plots"
   ]
  },
  {
   "cell_type": "code",
   "execution_count": 34,
   "metadata": {
    "ExecuteTime": {
     "end_time": "2024-02-07T16:04:38.651688600Z",
     "start_time": "2024-02-07T16:04:33.660916400Z"
    }
   },
   "outputs": [
    {
     "data": {
      "application/vnd.plotly.v1+json": {
       "config": {
        "plotlyServerURL": "https://plot.ly"
       },
       "data": [
        {
         "line": {
          "color": "#034752"
         },
         "mode": "markers+text",
         "name": "AlphaGo Fan",
         "text": "AlphaGo Fan",
         "textposition": "top center",
         "type": "scatter",
         "x": [
          "2015-10-01 00:00:00"
         ],
         "y": [
          233674.55999999997
         ]
        },
        {
         "line": {
          "color": "#034752"
         },
         "mode": "markers+text",
         "name": "AlphaGo Lee",
         "text": "AlphaGo Lee",
         "textposition": "top center",
         "type": "scatter",
         "x": [
          "2016-01-27 00:00:00"
         ],
         "y": [
          233674.55999999997
         ]
        },
        {
         "line": {
          "color": "#034752"
         },
         "mode": "markers+text",
         "name": "GNMT",
         "text": "GNMT",
         "textposition": "top center",
         "type": "scatter",
         "x": [
          "2016-09-26 00:00:00"
         ],
         "y": [
          580608
         ]
        },
        {
         "line": {
          "color": "#034752"
         },
         "mode": "markers+text",
         "name": "NASv3 (CIFAR-10)",
         "text": "NASv3 (CIFAR-10)",
         "textposition": "top center",
         "type": "scatter",
         "x": [
          "2016-11-05 00:00:00"
         ],
         "y": [
          600320
         ]
        },
        {
         "line": {
          "color": "#034752"
         },
         "mode": "markers+text",
         "name": "JFT",
         "text": "JFT",
         "textposition": "top center",
         "type": "scatter",
         "x": [
          "2017-07-11 00:00:00"
         ],
         "y": [
          100800
         ]
        },
        {
         "line": {
          "color": "#034752"
         },
         "mode": "markers+text",
         "name": "AlphaZero",
         "text": "AlphaZero",
         "textposition": "top center",
         "type": "scatter",
         "x": [
          "2017-12-05 00:00:00"
         ],
         "y": [
          94481.7408
         ]
        },
        {
         "line": {
          "color": "#034752"
         },
         "mode": "markers+text",
         "name": "AmoebaNet-A (F=448)",
         "text": "AmoebaNet-A (F=448)",
         "textposition": "top center",
         "type": "scatter",
         "x": [
          "2018-02-04 00:00:00"
         ],
         "y": [
          3988.660978720319
         ]
        },
        {
         "line": {
          "color": "#034752"
         },
         "mode": "markers+text",
         "name": "ResNeXt-101 32x48d",
         "text": "ResNeXt-101 32x48d",
         "textposition": "top center",
         "type": "scatter",
         "x": [
          "2018-05-03 00:00:00"
         ],
         "y": [
          962569.4400000001
         ]
        },
        {
         "line": {
          "color": "#034752"
         },
         "mode": "markers+text",
         "name": "FTW",
         "text": "FTW",
         "textposition": "top center",
         "type": "scatter",
         "x": [
          "2018-07-04 00:00:00"
         ],
         "y": [
          1274258.5920000002
         ]
        },
        {
         "line": {
          "color": "#034752"
         },
         "mode": "markers+text",
         "name": "BigGAN-deep 512x512",
         "text": "BigGAN-deep 512x512",
         "textposition": "top center",
         "type": "scatter",
         "x": [
          "2018-09-28 00:00:00"
         ],
         "y": [
          24576
         ]
        },
        {
         "line": {
          "color": "#034752"
         },
         "mode": "markers+text",
         "name": "RoBERTa Large",
         "text": "RoBERTa Large",
         "textposition": "top center",
         "type": "scatter",
         "x": [
          "2019-07-02 00:00:00"
         ],
         "y": [
          281395.2
         ]
        },
        {
         "line": {
          "color": "#034752"
         },
         "mode": "markers+text",
         "name": "Megatron-LM (8.3B)",
         "text": "Megatron-LM (8.3B)",
         "textposition": "top center",
         "type": "scatter",
         "x": [
          "2019-09-17 00:00:00"
         ],
         "y": [
          383400.96
         ]
        },
        {
         "line": {
          "color": "#034752"
         },
         "mode": "markers+text",
         "name": "T5-3B",
         "text": "T5-3B",
         "textposition": "top center",
         "type": "scatter",
         "x": [
          "2019-10-23 00:00:00"
         ],
         "y": [
          147214.9728
         ]
        },
        {
         "line": {
          "color": "#034752"
         },
         "mode": "markers+text",
         "name": "T5-11B",
         "text": "T5-11B",
         "textposition": "top center",
         "type": "scatter",
         "x": [
          "2019-10-23 00:00:00"
         ],
         "y": [
          310883.328
         ]
        },
        {
         "line": {
          "color": "#034752"
         },
         "mode": "markers+text",
         "name": "AlphaStar",
         "text": "AlphaStar",
         "textposition": "top center",
         "type": "scatter",
         "x": [
          "2019-10-30 00:00:00"
         ],
         "y": [
          510935.04
         ]
        },
        {
         "line": {
          "color": "#034752"
         },
         "mode": "markers+text",
         "name": "OpenAI Five Rerun",
         "text": "OpenAI Five Rerun",
         "textposition": "top center",
         "type": "scatter",
         "x": [
          "2019-12-13 00:00:00"
         ],
         "y": [
          1466772.48
         ]
        },
        {
         "line": {
          "color": "#034752"
         },
         "mode": "markers+text",
         "name": "Meena",
         "text": "Meena",
         "textposition": "top center",
         "type": "scatter",
         "x": [
          "2020-01-28 00:00:00"
         ],
         "y": [
          928972.8
         ]
        },
        {
         "line": {
          "color": "#034752"
         },
         "mode": "markers+text",
         "name": "Turing-NLG",
         "text": "Turing-NLG",
         "textposition": "top center",
         "type": "scatter",
         "x": [
          "2020-02-12 00:00:00"
         ],
         "y": [
          605269.3504
         ]
        },
        {
         "line": {
          "color": "#034752"
         },
         "mode": "markers+text",
         "name": "GPT-3 175B (davinci)",
         "text": "GPT-3 175B (davinci)",
         "textposition": "top center",
         "type": "scatter",
         "x": [
          "2020-05-29 00:00:00"
         ],
         "y": [
          8134080
         ]
        },
        {
         "line": {
          "color": "#034752"
         },
         "mode": "markers+text",
         "name": "GShard (dense)",
         "text": "GShard (dense)",
         "textposition": "top center",
         "type": "scatter",
         "x": [
          "2020-06-30 00:00:00"
         ],
         "y": [
          1300561.92
         ]
        },
        {
         "line": {
          "color": "#034752"
         },
         "mode": "markers+text",
         "name": "ALIGN",
         "text": "ALIGN",
         "textposition": "top center",
         "type": "scatter",
         "x": [
          "2021-06-12 00:00:00"
         ],
         "y": [
          224050.176
         ]
        },
        {
         "line": {
          "color": "#034752"
         },
         "mode": "markers+text",
         "name": "Megatron-Turing NLG 530B",
         "text": "Megatron-Turing NLG 530B",
         "textposition": "top center",
         "type": "scatter",
         "x": [
          "2021-10-11 00:00:00"
         ],
         "y": [
          9037952
         ]
        },
        {
         "line": {
          "color": "#034752"
         },
         "mode": "markers+text",
         "name": "Gopher (280B)",
         "text": "Gopher (280B)",
         "textposition": "top center",
         "type": "scatter",
         "x": [
          "2021-12-08 00:00:00"
         ],
         "y": [
          4748083.2
         ]
        },
        {
         "line": {
          "color": "#034752"
         },
         "mode": "markers+text",
         "name": "GLaM",
         "text": "GLaM",
         "textposition": "top center",
         "type": "scatter",
         "x": [
          "2021-12-13 00:00:00"
         ],
         "y": [
          2839531.5199999996
         ]
        },
        {
         "line": {
          "color": "#034752"
         },
         "mode": "markers+text",
         "name": "LaMDA",
         "text": "LaMDA",
         "textposition": "top center",
         "type": "scatter",
         "x": [
          "2022-02-09 00:00:00"
         ],
         "y": [
          1786982.4
         ]
        },
        {
         "line": {
          "color": "#034752"
         },
         "mode": "markers+text",
         "name": "Chinchilla",
         "text": "Chinchilla",
         "textposition": "top center",
         "type": "scatter",
         "x": [
          "2022-03-30 00:00:00"
         ],
         "y": [
          3513681.2031999994
         ]
        },
        {
         "line": {
          "color": "#034752"
         },
         "mode": "markers+text",
         "name": "PaLM (540B)",
         "text": "PaLM (540B)",
         "textposition": "top center",
         "type": "scatter",
         "x": [
          "2022-04-05 00:00:00"
         ],
         "y": [
          17062133.759999998
         ]
        },
        {
         "line": {
          "color": "#034752"
         },
         "mode": "markers+text",
         "name": "OPT-175B",
         "text": "OPT-175B",
         "textposition": "top center",
         "type": "scatter",
         "x": [
          "2022-05-03 00:00:00"
         ],
         "y": [
          2437632
         ]
        },
        {
         "line": {
          "color": "#034752"
         },
         "mode": "markers+text",
         "name": "Minerva (540B)",
         "text": "Minerva (540B)",
         "textposition": "top center",
         "type": "scatter",
         "x": [
          "2022-06-30 00:00:00"
         ],
         "y": [
          18508922.88
         ]
        },
        {
         "line": {
          "color": "#034752"
         },
         "mode": "markers+text",
         "name": "GPT-3.5 (text-davinci-003)",
         "text": "GPT-3.5 (text-davinci-003)",
         "textposition": "top center",
         "type": "scatter",
         "x": [
          "2022-11-28 00:00:00"
         ],
         "y": [
          21853839.36
         ]
        },
        {
         "line": {
          "color": "#034752"
         },
         "mode": "markers+text",
         "name": "LLaMA-65B",
         "text": "LLaMA-65B",
         "textposition": "top center",
         "type": "scatter",
         "x": [
          "2023-02-23 00:00:00"
         ],
         "y": [
          2406400
         ]
        },
        {
         "line": {
          "color": "#034752"
         },
         "mode": "markers+text",
         "name": "GPT-4",
         "text": "GPT-4",
         "textposition": "top center",
         "type": "scatter",
         "x": [
          "2023-03-16 00:00:00"
         ],
         "y": [
          136800000
         ]
        },
        {
         "line": {
          "color": "#034752"
         },
         "mode": "markers+text",
         "name": "PaLM 2",
         "text": "PaLM 2",
         "textposition": "top center",
         "type": "scatter",
         "x": [
          "2023-05-11 00:00:00"
         ],
         "y": [
          18484705.792
         ]
        },
        {
         "line": {
          "color": "#034752"
         },
         "mode": "markers+text",
         "name": "Llama 2-70B",
         "text": "Llama 2-70B",
         "textposition": "top center",
         "type": "scatter",
         "x": [
          "2023-07-19 00:00:00"
         ],
         "y": [
          31518720
         ]
        },
        {
         "line": {
          "color": "#034752"
         },
         "mode": "markers+text",
         "name": "Falcon 180B",
         "text": "Falcon 180B",
         "textposition": "top center",
         "type": "scatter",
         "x": [
          "2023-09-06 00:00:00"
         ],
         "y": [
          42467328
         ]
        }
       ],
       "layout": {
        "autosize": false,
        "font": {
         "size": 14
        },
        "height": 600,
        "margin": {
         "b": 10,
         "l": 10,
         "r": 10,
         "t": 40
        },
        "showlegend": false,
        "template": {
         "data": {
          "bar": [
           {
            "error_x": {
             "color": "#2a3f5f"
            },
            "error_y": {
             "color": "#2a3f5f"
            },
            "marker": {
             "line": {
              "color": "#E5ECF6",
              "width": 0.5
             },
             "pattern": {
              "fillmode": "overlay",
              "size": 10,
              "solidity": 0.2
             }
            },
            "type": "bar"
           }
          ],
          "barpolar": [
           {
            "marker": {
             "line": {
              "color": "#E5ECF6",
              "width": 0.5
             },
             "pattern": {
              "fillmode": "overlay",
              "size": 10,
              "solidity": 0.2
             }
            },
            "type": "barpolar"
           }
          ],
          "carpet": [
           {
            "aaxis": {
             "endlinecolor": "#2a3f5f",
             "gridcolor": "white",
             "linecolor": "white",
             "minorgridcolor": "white",
             "startlinecolor": "#2a3f5f"
            },
            "baxis": {
             "endlinecolor": "#2a3f5f",
             "gridcolor": "white",
             "linecolor": "white",
             "minorgridcolor": "white",
             "startlinecolor": "#2a3f5f"
            },
            "type": "carpet"
           }
          ],
          "choropleth": [
           {
            "colorbar": {
             "outlinewidth": 0,
             "ticks": ""
            },
            "type": "choropleth"
           }
          ],
          "contour": [
           {
            "colorbar": {
             "outlinewidth": 0,
             "ticks": ""
            },
            "colorscale": [
             [
              0,
              "#0d0887"
             ],
             [
              0.1111111111111111,
              "#46039f"
             ],
             [
              0.2222222222222222,
              "#7201a8"
             ],
             [
              0.3333333333333333,
              "#9c179e"
             ],
             [
              0.4444444444444444,
              "#bd3786"
             ],
             [
              0.5555555555555556,
              "#d8576b"
             ],
             [
              0.6666666666666666,
              "#ed7953"
             ],
             [
              0.7777777777777778,
              "#fb9f3a"
             ],
             [
              0.8888888888888888,
              "#fdca26"
             ],
             [
              1,
              "#f0f921"
             ]
            ],
            "type": "contour"
           }
          ],
          "contourcarpet": [
           {
            "colorbar": {
             "outlinewidth": 0,
             "ticks": ""
            },
            "type": "contourcarpet"
           }
          ],
          "heatmap": [
           {
            "colorbar": {
             "outlinewidth": 0,
             "ticks": ""
            },
            "colorscale": [
             [
              0,
              "#0d0887"
             ],
             [
              0.1111111111111111,
              "#46039f"
             ],
             [
              0.2222222222222222,
              "#7201a8"
             ],
             [
              0.3333333333333333,
              "#9c179e"
             ],
             [
              0.4444444444444444,
              "#bd3786"
             ],
             [
              0.5555555555555556,
              "#d8576b"
             ],
             [
              0.6666666666666666,
              "#ed7953"
             ],
             [
              0.7777777777777778,
              "#fb9f3a"
             ],
             [
              0.8888888888888888,
              "#fdca26"
             ],
             [
              1,
              "#f0f921"
             ]
            ],
            "type": "heatmap"
           }
          ],
          "heatmapgl": [
           {
            "colorbar": {
             "outlinewidth": 0,
             "ticks": ""
            },
            "colorscale": [
             [
              0,
              "#0d0887"
             ],
             [
              0.1111111111111111,
              "#46039f"
             ],
             [
              0.2222222222222222,
              "#7201a8"
             ],
             [
              0.3333333333333333,
              "#9c179e"
             ],
             [
              0.4444444444444444,
              "#bd3786"
             ],
             [
              0.5555555555555556,
              "#d8576b"
             ],
             [
              0.6666666666666666,
              "#ed7953"
             ],
             [
              0.7777777777777778,
              "#fb9f3a"
             ],
             [
              0.8888888888888888,
              "#fdca26"
             ],
             [
              1,
              "#f0f921"
             ]
            ],
            "type": "heatmapgl"
           }
          ],
          "histogram": [
           {
            "marker": {
             "pattern": {
              "fillmode": "overlay",
              "size": 10,
              "solidity": 0.2
             }
            },
            "type": "histogram"
           }
          ],
          "histogram2d": [
           {
            "colorbar": {
             "outlinewidth": 0,
             "ticks": ""
            },
            "colorscale": [
             [
              0,
              "#0d0887"
             ],
             [
              0.1111111111111111,
              "#46039f"
             ],
             [
              0.2222222222222222,
              "#7201a8"
             ],
             [
              0.3333333333333333,
              "#9c179e"
             ],
             [
              0.4444444444444444,
              "#bd3786"
             ],
             [
              0.5555555555555556,
              "#d8576b"
             ],
             [
              0.6666666666666666,
              "#ed7953"
             ],
             [
              0.7777777777777778,
              "#fb9f3a"
             ],
             [
              0.8888888888888888,
              "#fdca26"
             ],
             [
              1,
              "#f0f921"
             ]
            ],
            "type": "histogram2d"
           }
          ],
          "histogram2dcontour": [
           {
            "colorbar": {
             "outlinewidth": 0,
             "ticks": ""
            },
            "colorscale": [
             [
              0,
              "#0d0887"
             ],
             [
              0.1111111111111111,
              "#46039f"
             ],
             [
              0.2222222222222222,
              "#7201a8"
             ],
             [
              0.3333333333333333,
              "#9c179e"
             ],
             [
              0.4444444444444444,
              "#bd3786"
             ],
             [
              0.5555555555555556,
              "#d8576b"
             ],
             [
              0.6666666666666666,
              "#ed7953"
             ],
             [
              0.7777777777777778,
              "#fb9f3a"
             ],
             [
              0.8888888888888888,
              "#fdca26"
             ],
             [
              1,
              "#f0f921"
             ]
            ],
            "type": "histogram2dcontour"
           }
          ],
          "mesh3d": [
           {
            "colorbar": {
             "outlinewidth": 0,
             "ticks": ""
            },
            "type": "mesh3d"
           }
          ],
          "parcoords": [
           {
            "line": {
             "colorbar": {
              "outlinewidth": 0,
              "ticks": ""
             }
            },
            "type": "parcoords"
           }
          ],
          "pie": [
           {
            "automargin": true,
            "type": "pie"
           }
          ],
          "scatter": [
           {
            "fillpattern": {
             "fillmode": "overlay",
             "size": 10,
             "solidity": 0.2
            },
            "type": "scatter"
           }
          ],
          "scatter3d": [
           {
            "line": {
             "colorbar": {
              "outlinewidth": 0,
              "ticks": ""
             }
            },
            "marker": {
             "colorbar": {
              "outlinewidth": 0,
              "ticks": ""
             }
            },
            "type": "scatter3d"
           }
          ],
          "scattercarpet": [
           {
            "marker": {
             "colorbar": {
              "outlinewidth": 0,
              "ticks": ""
             }
            },
            "type": "scattercarpet"
           }
          ],
          "scattergeo": [
           {
            "marker": {
             "colorbar": {
              "outlinewidth": 0,
              "ticks": ""
             }
            },
            "type": "scattergeo"
           }
          ],
          "scattergl": [
           {
            "marker": {
             "colorbar": {
              "outlinewidth": 0,
              "ticks": ""
             }
            },
            "type": "scattergl"
           }
          ],
          "scattermapbox": [
           {
            "marker": {
             "colorbar": {
              "outlinewidth": 0,
              "ticks": ""
             }
            },
            "type": "scattermapbox"
           }
          ],
          "scatterpolar": [
           {
            "marker": {
             "colorbar": {
              "outlinewidth": 0,
              "ticks": ""
             }
            },
            "type": "scatterpolar"
           }
          ],
          "scatterpolargl": [
           {
            "marker": {
             "colorbar": {
              "outlinewidth": 0,
              "ticks": ""
             }
            },
            "type": "scatterpolargl"
           }
          ],
          "scatterternary": [
           {
            "marker": {
             "colorbar": {
              "outlinewidth": 0,
              "ticks": ""
             }
            },
            "type": "scatterternary"
           }
          ],
          "surface": [
           {
            "colorbar": {
             "outlinewidth": 0,
             "ticks": ""
            },
            "colorscale": [
             [
              0,
              "#0d0887"
             ],
             [
              0.1111111111111111,
              "#46039f"
             ],
             [
              0.2222222222222222,
              "#7201a8"
             ],
             [
              0.3333333333333333,
              "#9c179e"
             ],
             [
              0.4444444444444444,
              "#bd3786"
             ],
             [
              0.5555555555555556,
              "#d8576b"
             ],
             [
              0.6666666666666666,
              "#ed7953"
             ],
             [
              0.7777777777777778,
              "#fb9f3a"
             ],
             [
              0.8888888888888888,
              "#fdca26"
             ],
             [
              1,
              "#f0f921"
             ]
            ],
            "type": "surface"
           }
          ],
          "table": [
           {
            "cells": {
             "fill": {
              "color": "#EBF0F8"
             },
             "line": {
              "color": "white"
             }
            },
            "header": {
             "fill": {
              "color": "#C8D4E3"
             },
             "line": {
              "color": "white"
             }
            },
            "type": "table"
           }
          ]
         },
         "layout": {
          "annotationdefaults": {
           "arrowcolor": "#2a3f5f",
           "arrowhead": 0,
           "arrowwidth": 1
          },
          "autotypenumbers": "strict",
          "coloraxis": {
           "colorbar": {
            "outlinewidth": 0,
            "ticks": ""
           }
          },
          "colorscale": {
           "diverging": [
            [
             0,
             "#8e0152"
            ],
            [
             0.1,
             "#c51b7d"
            ],
            [
             0.2,
             "#de77ae"
            ],
            [
             0.3,
             "#f1b6da"
            ],
            [
             0.4,
             "#fde0ef"
            ],
            [
             0.5,
             "#f7f7f7"
            ],
            [
             0.6,
             "#e6f5d0"
            ],
            [
             0.7,
             "#b8e186"
            ],
            [
             0.8,
             "#7fbc41"
            ],
            [
             0.9,
             "#4d9221"
            ],
            [
             1,
             "#276419"
            ]
           ],
           "sequential": [
            [
             0,
             "#0d0887"
            ],
            [
             0.1111111111111111,
             "#46039f"
            ],
            [
             0.2222222222222222,
             "#7201a8"
            ],
            [
             0.3333333333333333,
             "#9c179e"
            ],
            [
             0.4444444444444444,
             "#bd3786"
            ],
            [
             0.5555555555555556,
             "#d8576b"
            ],
            [
             0.6666666666666666,
             "#ed7953"
            ],
            [
             0.7777777777777778,
             "#fb9f3a"
            ],
            [
             0.8888888888888888,
             "#fdca26"
            ],
            [
             1,
             "#f0f921"
            ]
           ],
           "sequentialminus": [
            [
             0,
             "#0d0887"
            ],
            [
             0.1111111111111111,
             "#46039f"
            ],
            [
             0.2222222222222222,
             "#7201a8"
            ],
            [
             0.3333333333333333,
             "#9c179e"
            ],
            [
             0.4444444444444444,
             "#bd3786"
            ],
            [
             0.5555555555555556,
             "#d8576b"
            ],
            [
             0.6666666666666666,
             "#ed7953"
            ],
            [
             0.7777777777777778,
             "#fb9f3a"
            ],
            [
             0.8888888888888888,
             "#fdca26"
            ],
            [
             1,
             "#f0f921"
            ]
           ]
          },
          "colorway": [
           "#636efa",
           "#EF553B",
           "#00cc96",
           "#ab63fa",
           "#FFA15A",
           "#19d3f3",
           "#FF6692",
           "#B6E880",
           "#FF97FF",
           "#FECB52"
          ],
          "font": {
           "color": "#2a3f5f"
          },
          "geo": {
           "bgcolor": "white",
           "lakecolor": "white",
           "landcolor": "#E5ECF6",
           "showlakes": true,
           "showland": true,
           "subunitcolor": "white"
          },
          "hoverlabel": {
           "align": "left"
          },
          "hovermode": "closest",
          "mapbox": {
           "style": "light"
          },
          "paper_bgcolor": "white",
          "plot_bgcolor": "#E5ECF6",
          "polar": {
           "angularaxis": {
            "gridcolor": "white",
            "linecolor": "white",
            "ticks": ""
           },
           "bgcolor": "#E5ECF6",
           "radialaxis": {
            "gridcolor": "white",
            "linecolor": "white",
            "ticks": ""
           }
          },
          "scene": {
           "xaxis": {
            "backgroundcolor": "#E5ECF6",
            "gridcolor": "white",
            "gridwidth": 2,
            "linecolor": "white",
            "showbackground": true,
            "ticks": "",
            "zerolinecolor": "white"
           },
           "yaxis": {
            "backgroundcolor": "#E5ECF6",
            "gridcolor": "white",
            "gridwidth": 2,
            "linecolor": "white",
            "showbackground": true,
            "ticks": "",
            "zerolinecolor": "white"
           },
           "zaxis": {
            "backgroundcolor": "#E5ECF6",
            "gridcolor": "white",
            "gridwidth": 2,
            "linecolor": "white",
            "showbackground": true,
            "ticks": "",
            "zerolinecolor": "white"
           }
          },
          "shapedefaults": {
           "line": {
            "color": "#2a3f5f"
           }
          },
          "ternary": {
           "aaxis": {
            "gridcolor": "white",
            "linecolor": "white",
            "ticks": ""
           },
           "baxis": {
            "gridcolor": "white",
            "linecolor": "white",
            "ticks": ""
           },
           "bgcolor": "#E5ECF6",
           "caxis": {
            "gridcolor": "white",
            "linecolor": "white",
            "ticks": ""
           }
          },
          "title": {
           "x": 0.05
          },
          "xaxis": {
           "automargin": true,
           "gridcolor": "white",
           "linecolor": "white",
           "ticks": "",
           "title": {
            "standoff": 15
           },
           "zerolinecolor": "white",
           "zerolinewidth": 2
          },
          "yaxis": {
           "automargin": true,
           "gridcolor": "white",
           "linecolor": "white",
           "ticks": "",
           "title": {
            "standoff": 15
           },
           "zerolinecolor": "white",
           "zerolinewidth": 2
          }
         }
        },
        "title": {
         "text": "Cost of cloud compute to train frontier ML systems"
        },
        "width": 800,
        "xaxis": {
         "title": {
          "text": "Publication date"
         }
        },
        "yaxis": {
         "title": {
          "text": "Cost (USD, nominal)"
         },
         "type": "log"
        }
       }
      },
      "text/html": [
       "<div>                            <div id=\"86706a36-f334-40a3-bc6b-82595a95670a\" class=\"plotly-graph-div\" style=\"height:600px; width:800px;\"></div>            <script type=\"text/javascript\">                require([\"plotly\"], function(Plotly) {                    window.PLOTLYENV=window.PLOTLYENV || {};                                    if (document.getElementById(\"86706a36-f334-40a3-bc6b-82595a95670a\")) {                    Plotly.newPlot(                        \"86706a36-f334-40a3-bc6b-82595a95670a\",                        [{\"line\":{\"color\":\"#034752\"},\"mode\":\"markers+text\",\"name\":\"AlphaGo Fan\",\"text\":\"AlphaGo Fan\",\"textposition\":\"top center\",\"x\":[\"2015-10-01 00:00:00\"],\"y\":[233674.55999999997],\"type\":\"scatter\"},{\"line\":{\"color\":\"#034752\"},\"mode\":\"markers+text\",\"name\":\"AlphaGo Lee\",\"text\":\"AlphaGo Lee\",\"textposition\":\"top center\",\"x\":[\"2016-01-27 00:00:00\"],\"y\":[233674.55999999997],\"type\":\"scatter\"},{\"line\":{\"color\":\"#034752\"},\"mode\":\"markers+text\",\"name\":\"GNMT\",\"text\":\"GNMT\",\"textposition\":\"top center\",\"x\":[\"2016-09-26 00:00:00\"],\"y\":[580608.0],\"type\":\"scatter\"},{\"line\":{\"color\":\"#034752\"},\"mode\":\"markers+text\",\"name\":\"NASv3 (CIFAR-10)\",\"text\":\"NASv3 (CIFAR-10)\",\"textposition\":\"top center\",\"x\":[\"2016-11-05 00:00:00\"],\"y\":[600320.0],\"type\":\"scatter\"},{\"line\":{\"color\":\"#034752\"},\"mode\":\"markers+text\",\"name\":\"JFT\",\"text\":\"JFT\",\"textposition\":\"top center\",\"x\":[\"2017-07-11 00:00:00\"],\"y\":[100800.0],\"type\":\"scatter\"},{\"line\":{\"color\":\"#034752\"},\"mode\":\"markers+text\",\"name\":\"AlphaZero\",\"text\":\"AlphaZero\",\"textposition\":\"top center\",\"x\":[\"2017-12-05 00:00:00\"],\"y\":[94481.7408],\"type\":\"scatter\"},{\"line\":{\"color\":\"#034752\"},\"mode\":\"markers+text\",\"name\":\"AmoebaNet-A (F=448)\",\"text\":\"AmoebaNet-A (F=448)\",\"textposition\":\"top center\",\"x\":[\"2018-02-04 00:00:00\"],\"y\":[3988.660978720319],\"type\":\"scatter\"},{\"line\":{\"color\":\"#034752\"},\"mode\":\"markers+text\",\"name\":\"ResNeXt-101 32x48d\",\"text\":\"ResNeXt-101 32x48d\",\"textposition\":\"top center\",\"x\":[\"2018-05-03 00:00:00\"],\"y\":[962569.4400000001],\"type\":\"scatter\"},{\"line\":{\"color\":\"#034752\"},\"mode\":\"markers+text\",\"name\":\"FTW\",\"text\":\"FTW\",\"textposition\":\"top center\",\"x\":[\"2018-07-04 00:00:00\"],\"y\":[1274258.5920000002],\"type\":\"scatter\"},{\"line\":{\"color\":\"#034752\"},\"mode\":\"markers+text\",\"name\":\"BigGAN-deep 512x512\",\"text\":\"BigGAN-deep 512x512\",\"textposition\":\"top center\",\"x\":[\"2018-09-28 00:00:00\"],\"y\":[24576.0],\"type\":\"scatter\"},{\"line\":{\"color\":\"#034752\"},\"mode\":\"markers+text\",\"name\":\"RoBERTa Large\",\"text\":\"RoBERTa Large\",\"textposition\":\"top center\",\"x\":[\"2019-07-02 00:00:00\"],\"y\":[281395.2],\"type\":\"scatter\"},{\"line\":{\"color\":\"#034752\"},\"mode\":\"markers+text\",\"name\":\"Megatron-LM (8.3B)\",\"text\":\"Megatron-LM (8.3B)\",\"textposition\":\"top center\",\"x\":[\"2019-09-17 00:00:00\"],\"y\":[383400.96],\"type\":\"scatter\"},{\"line\":{\"color\":\"#034752\"},\"mode\":\"markers+text\",\"name\":\"T5-3B\",\"text\":\"T5-3B\",\"textposition\":\"top center\",\"x\":[\"2019-10-23 00:00:00\"],\"y\":[147214.9728],\"type\":\"scatter\"},{\"line\":{\"color\":\"#034752\"},\"mode\":\"markers+text\",\"name\":\"T5-11B\",\"text\":\"T5-11B\",\"textposition\":\"top center\",\"x\":[\"2019-10-23 00:00:00\"],\"y\":[310883.328],\"type\":\"scatter\"},{\"line\":{\"color\":\"#034752\"},\"mode\":\"markers+text\",\"name\":\"AlphaStar\",\"text\":\"AlphaStar\",\"textposition\":\"top center\",\"x\":[\"2019-10-30 00:00:00\"],\"y\":[510935.04],\"type\":\"scatter\"},{\"line\":{\"color\":\"#034752\"},\"mode\":\"markers+text\",\"name\":\"OpenAI Five Rerun\",\"text\":\"OpenAI Five Rerun\",\"textposition\":\"top center\",\"x\":[\"2019-12-13 00:00:00\"],\"y\":[1466772.48],\"type\":\"scatter\"},{\"line\":{\"color\":\"#034752\"},\"mode\":\"markers+text\",\"name\":\"Meena\",\"text\":\"Meena\",\"textposition\":\"top center\",\"x\":[\"2020-01-28 00:00:00\"],\"y\":[928972.8],\"type\":\"scatter\"},{\"line\":{\"color\":\"#034752\"},\"mode\":\"markers+text\",\"name\":\"Turing-NLG\",\"text\":\"Turing-NLG\",\"textposition\":\"top center\",\"x\":[\"2020-02-12 00:00:00\"],\"y\":[605269.3504],\"type\":\"scatter\"},{\"line\":{\"color\":\"#034752\"},\"mode\":\"markers+text\",\"name\":\"GPT-3 175B (davinci)\",\"text\":\"GPT-3 175B (davinci)\",\"textposition\":\"top center\",\"x\":[\"2020-05-29 00:00:00\"],\"y\":[8134080.0],\"type\":\"scatter\"},{\"line\":{\"color\":\"#034752\"},\"mode\":\"markers+text\",\"name\":\"GShard (dense)\",\"text\":\"GShard (dense)\",\"textposition\":\"top center\",\"x\":[\"2020-06-30 00:00:00\"],\"y\":[1300561.92],\"type\":\"scatter\"},{\"line\":{\"color\":\"#034752\"},\"mode\":\"markers+text\",\"name\":\"ALIGN\",\"text\":\"ALIGN\",\"textposition\":\"top center\",\"x\":[\"2021-06-12 00:00:00\"],\"y\":[224050.176],\"type\":\"scatter\"},{\"line\":{\"color\":\"#034752\"},\"mode\":\"markers+text\",\"name\":\"Megatron-Turing NLG 530B\",\"text\":\"Megatron-Turing NLG 530B\",\"textposition\":\"top center\",\"x\":[\"2021-10-11 00:00:00\"],\"y\":[9037952.0],\"type\":\"scatter\"},{\"line\":{\"color\":\"#034752\"},\"mode\":\"markers+text\",\"name\":\"Gopher (280B)\",\"text\":\"Gopher (280B)\",\"textposition\":\"top center\",\"x\":[\"2021-12-08 00:00:00\"],\"y\":[4748083.2],\"type\":\"scatter\"},{\"line\":{\"color\":\"#034752\"},\"mode\":\"markers+text\",\"name\":\"GLaM\",\"text\":\"GLaM\",\"textposition\":\"top center\",\"x\":[\"2021-12-13 00:00:00\"],\"y\":[2839531.5199999996],\"type\":\"scatter\"},{\"line\":{\"color\":\"#034752\"},\"mode\":\"markers+text\",\"name\":\"LaMDA\",\"text\":\"LaMDA\",\"textposition\":\"top center\",\"x\":[\"2022-02-09 00:00:00\"],\"y\":[1786982.4],\"type\":\"scatter\"},{\"line\":{\"color\":\"#034752\"},\"mode\":\"markers+text\",\"name\":\"Chinchilla\",\"text\":\"Chinchilla\",\"textposition\":\"top center\",\"x\":[\"2022-03-30 00:00:00\"],\"y\":[3513681.2031999994],\"type\":\"scatter\"},{\"line\":{\"color\":\"#034752\"},\"mode\":\"markers+text\",\"name\":\"PaLM (540B)\",\"text\":\"PaLM (540B)\",\"textposition\":\"top center\",\"x\":[\"2022-04-05 00:00:00\"],\"y\":[17062133.759999998],\"type\":\"scatter\"},{\"line\":{\"color\":\"#034752\"},\"mode\":\"markers+text\",\"name\":\"OPT-175B\",\"text\":\"OPT-175B\",\"textposition\":\"top center\",\"x\":[\"2022-05-03 00:00:00\"],\"y\":[2437632.0],\"type\":\"scatter\"},{\"line\":{\"color\":\"#034752\"},\"mode\":\"markers+text\",\"name\":\"Minerva (540B)\",\"text\":\"Minerva (540B)\",\"textposition\":\"top center\",\"x\":[\"2022-06-30 00:00:00\"],\"y\":[18508922.88],\"type\":\"scatter\"},{\"line\":{\"color\":\"#034752\"},\"mode\":\"markers+text\",\"name\":\"GPT-3.5 (text-davinci-003)\",\"text\":\"GPT-3.5 (text-davinci-003)\",\"textposition\":\"top center\",\"x\":[\"2022-11-28 00:00:00\"],\"y\":[21853839.36],\"type\":\"scatter\"},{\"line\":{\"color\":\"#034752\"},\"mode\":\"markers+text\",\"name\":\"LLaMA-65B\",\"text\":\"LLaMA-65B\",\"textposition\":\"top center\",\"x\":[\"2023-02-23 00:00:00\"],\"y\":[2406400.0],\"type\":\"scatter\"},{\"line\":{\"color\":\"#034752\"},\"mode\":\"markers+text\",\"name\":\"GPT-4\",\"text\":\"GPT-4\",\"textposition\":\"top center\",\"x\":[\"2023-03-16 00:00:00\"],\"y\":[136800000.0],\"type\":\"scatter\"},{\"line\":{\"color\":\"#034752\"},\"mode\":\"markers+text\",\"name\":\"PaLM 2\",\"text\":\"PaLM 2\",\"textposition\":\"top center\",\"x\":[\"2023-05-11 00:00:00\"],\"y\":[18484705.792],\"type\":\"scatter\"},{\"line\":{\"color\":\"#034752\"},\"mode\":\"markers+text\",\"name\":\"Llama 2-70B\",\"text\":\"Llama 2-70B\",\"textposition\":\"top center\",\"x\":[\"2023-07-19 00:00:00\"],\"y\":[31518720.0],\"type\":\"scatter\"},{\"line\":{\"color\":\"#034752\"},\"mode\":\"markers+text\",\"name\":\"Falcon 180B\",\"text\":\"Falcon 180B\",\"textposition\":\"top center\",\"x\":[\"2023-09-06 00:00:00\"],\"y\":[42467328.0],\"type\":\"scatter\"}],                        {\"template\":{\"data\":{\"histogram2dcontour\":[{\"type\":\"histogram2dcontour\",\"colorbar\":{\"outlinewidth\":0,\"ticks\":\"\"},\"colorscale\":[[0.0,\"#0d0887\"],[0.1111111111111111,\"#46039f\"],[0.2222222222222222,\"#7201a8\"],[0.3333333333333333,\"#9c179e\"],[0.4444444444444444,\"#bd3786\"],[0.5555555555555556,\"#d8576b\"],[0.6666666666666666,\"#ed7953\"],[0.7777777777777778,\"#fb9f3a\"],[0.8888888888888888,\"#fdca26\"],[1.0,\"#f0f921\"]]}],\"choropleth\":[{\"type\":\"choropleth\",\"colorbar\":{\"outlinewidth\":0,\"ticks\":\"\"}}],\"histogram2d\":[{\"type\":\"histogram2d\",\"colorbar\":{\"outlinewidth\":0,\"ticks\":\"\"},\"colorscale\":[[0.0,\"#0d0887\"],[0.1111111111111111,\"#46039f\"],[0.2222222222222222,\"#7201a8\"],[0.3333333333333333,\"#9c179e\"],[0.4444444444444444,\"#bd3786\"],[0.5555555555555556,\"#d8576b\"],[0.6666666666666666,\"#ed7953\"],[0.7777777777777778,\"#fb9f3a\"],[0.8888888888888888,\"#fdca26\"],[1.0,\"#f0f921\"]]}],\"heatmap\":[{\"type\":\"heatmap\",\"colorbar\":{\"outlinewidth\":0,\"ticks\":\"\"},\"colorscale\":[[0.0,\"#0d0887\"],[0.1111111111111111,\"#46039f\"],[0.2222222222222222,\"#7201a8\"],[0.3333333333333333,\"#9c179e\"],[0.4444444444444444,\"#bd3786\"],[0.5555555555555556,\"#d8576b\"],[0.6666666666666666,\"#ed7953\"],[0.7777777777777778,\"#fb9f3a\"],[0.8888888888888888,\"#fdca26\"],[1.0,\"#f0f921\"]]}],\"heatmapgl\":[{\"type\":\"heatmapgl\",\"colorbar\":{\"outlinewidth\":0,\"ticks\":\"\"},\"colorscale\":[[0.0,\"#0d0887\"],[0.1111111111111111,\"#46039f\"],[0.2222222222222222,\"#7201a8\"],[0.3333333333333333,\"#9c179e\"],[0.4444444444444444,\"#bd3786\"],[0.5555555555555556,\"#d8576b\"],[0.6666666666666666,\"#ed7953\"],[0.7777777777777778,\"#fb9f3a\"],[0.8888888888888888,\"#fdca26\"],[1.0,\"#f0f921\"]]}],\"contourcarpet\":[{\"type\":\"contourcarpet\",\"colorbar\":{\"outlinewidth\":0,\"ticks\":\"\"}}],\"contour\":[{\"type\":\"contour\",\"colorbar\":{\"outlinewidth\":0,\"ticks\":\"\"},\"colorscale\":[[0.0,\"#0d0887\"],[0.1111111111111111,\"#46039f\"],[0.2222222222222222,\"#7201a8\"],[0.3333333333333333,\"#9c179e\"],[0.4444444444444444,\"#bd3786\"],[0.5555555555555556,\"#d8576b\"],[0.6666666666666666,\"#ed7953\"],[0.7777777777777778,\"#fb9f3a\"],[0.8888888888888888,\"#fdca26\"],[1.0,\"#f0f921\"]]}],\"surface\":[{\"type\":\"surface\",\"colorbar\":{\"outlinewidth\":0,\"ticks\":\"\"},\"colorscale\":[[0.0,\"#0d0887\"],[0.1111111111111111,\"#46039f\"],[0.2222222222222222,\"#7201a8\"],[0.3333333333333333,\"#9c179e\"],[0.4444444444444444,\"#bd3786\"],[0.5555555555555556,\"#d8576b\"],[0.6666666666666666,\"#ed7953\"],[0.7777777777777778,\"#fb9f3a\"],[0.8888888888888888,\"#fdca26\"],[1.0,\"#f0f921\"]]}],\"mesh3d\":[{\"type\":\"mesh3d\",\"colorbar\":{\"outlinewidth\":0,\"ticks\":\"\"}}],\"scatter\":[{\"fillpattern\":{\"fillmode\":\"overlay\",\"size\":10,\"solidity\":0.2},\"type\":\"scatter\"}],\"parcoords\":[{\"type\":\"parcoords\",\"line\":{\"colorbar\":{\"outlinewidth\":0,\"ticks\":\"\"}}}],\"scatterpolargl\":[{\"type\":\"scatterpolargl\",\"marker\":{\"colorbar\":{\"outlinewidth\":0,\"ticks\":\"\"}}}],\"bar\":[{\"error_x\":{\"color\":\"#2a3f5f\"},\"error_y\":{\"color\":\"#2a3f5f\"},\"marker\":{\"line\":{\"color\":\"#E5ECF6\",\"width\":0.5},\"pattern\":{\"fillmode\":\"overlay\",\"size\":10,\"solidity\":0.2}},\"type\":\"bar\"}],\"scattergeo\":[{\"type\":\"scattergeo\",\"marker\":{\"colorbar\":{\"outlinewidth\":0,\"ticks\":\"\"}}}],\"scatterpolar\":[{\"type\":\"scatterpolar\",\"marker\":{\"colorbar\":{\"outlinewidth\":0,\"ticks\":\"\"}}}],\"histogram\":[{\"marker\":{\"pattern\":{\"fillmode\":\"overlay\",\"size\":10,\"solidity\":0.2}},\"type\":\"histogram\"}],\"scattergl\":[{\"type\":\"scattergl\",\"marker\":{\"colorbar\":{\"outlinewidth\":0,\"ticks\":\"\"}}}],\"scatter3d\":[{\"type\":\"scatter3d\",\"line\":{\"colorbar\":{\"outlinewidth\":0,\"ticks\":\"\"}},\"marker\":{\"colorbar\":{\"outlinewidth\":0,\"ticks\":\"\"}}}],\"scattermapbox\":[{\"type\":\"scattermapbox\",\"marker\":{\"colorbar\":{\"outlinewidth\":0,\"ticks\":\"\"}}}],\"scatterternary\":[{\"type\":\"scatterternary\",\"marker\":{\"colorbar\":{\"outlinewidth\":0,\"ticks\":\"\"}}}],\"scattercarpet\":[{\"type\":\"scattercarpet\",\"marker\":{\"colorbar\":{\"outlinewidth\":0,\"ticks\":\"\"}}}],\"carpet\":[{\"aaxis\":{\"endlinecolor\":\"#2a3f5f\",\"gridcolor\":\"white\",\"linecolor\":\"white\",\"minorgridcolor\":\"white\",\"startlinecolor\":\"#2a3f5f\"},\"baxis\":{\"endlinecolor\":\"#2a3f5f\",\"gridcolor\":\"white\",\"linecolor\":\"white\",\"minorgridcolor\":\"white\",\"startlinecolor\":\"#2a3f5f\"},\"type\":\"carpet\"}],\"table\":[{\"cells\":{\"fill\":{\"color\":\"#EBF0F8\"},\"line\":{\"color\":\"white\"}},\"header\":{\"fill\":{\"color\":\"#C8D4E3\"},\"line\":{\"color\":\"white\"}},\"type\":\"table\"}],\"barpolar\":[{\"marker\":{\"line\":{\"color\":\"#E5ECF6\",\"width\":0.5},\"pattern\":{\"fillmode\":\"overlay\",\"size\":10,\"solidity\":0.2}},\"type\":\"barpolar\"}],\"pie\":[{\"automargin\":true,\"type\":\"pie\"}]},\"layout\":{\"autotypenumbers\":\"strict\",\"colorway\":[\"#636efa\",\"#EF553B\",\"#00cc96\",\"#ab63fa\",\"#FFA15A\",\"#19d3f3\",\"#FF6692\",\"#B6E880\",\"#FF97FF\",\"#FECB52\"],\"font\":{\"color\":\"#2a3f5f\"},\"hovermode\":\"closest\",\"hoverlabel\":{\"align\":\"left\"},\"paper_bgcolor\":\"white\",\"plot_bgcolor\":\"#E5ECF6\",\"polar\":{\"bgcolor\":\"#E5ECF6\",\"angularaxis\":{\"gridcolor\":\"white\",\"linecolor\":\"white\",\"ticks\":\"\"},\"radialaxis\":{\"gridcolor\":\"white\",\"linecolor\":\"white\",\"ticks\":\"\"}},\"ternary\":{\"bgcolor\":\"#E5ECF6\",\"aaxis\":{\"gridcolor\":\"white\",\"linecolor\":\"white\",\"ticks\":\"\"},\"baxis\":{\"gridcolor\":\"white\",\"linecolor\":\"white\",\"ticks\":\"\"},\"caxis\":{\"gridcolor\":\"white\",\"linecolor\":\"white\",\"ticks\":\"\"}},\"coloraxis\":{\"colorbar\":{\"outlinewidth\":0,\"ticks\":\"\"}},\"colorscale\":{\"sequential\":[[0.0,\"#0d0887\"],[0.1111111111111111,\"#46039f\"],[0.2222222222222222,\"#7201a8\"],[0.3333333333333333,\"#9c179e\"],[0.4444444444444444,\"#bd3786\"],[0.5555555555555556,\"#d8576b\"],[0.6666666666666666,\"#ed7953\"],[0.7777777777777778,\"#fb9f3a\"],[0.8888888888888888,\"#fdca26\"],[1.0,\"#f0f921\"]],\"sequentialminus\":[[0.0,\"#0d0887\"],[0.1111111111111111,\"#46039f\"],[0.2222222222222222,\"#7201a8\"],[0.3333333333333333,\"#9c179e\"],[0.4444444444444444,\"#bd3786\"],[0.5555555555555556,\"#d8576b\"],[0.6666666666666666,\"#ed7953\"],[0.7777777777777778,\"#fb9f3a\"],[0.8888888888888888,\"#fdca26\"],[1.0,\"#f0f921\"]],\"diverging\":[[0,\"#8e0152\"],[0.1,\"#c51b7d\"],[0.2,\"#de77ae\"],[0.3,\"#f1b6da\"],[0.4,\"#fde0ef\"],[0.5,\"#f7f7f7\"],[0.6,\"#e6f5d0\"],[0.7,\"#b8e186\"],[0.8,\"#7fbc41\"],[0.9,\"#4d9221\"],[1,\"#276419\"]]},\"xaxis\":{\"gridcolor\":\"white\",\"linecolor\":\"white\",\"ticks\":\"\",\"title\":{\"standoff\":15},\"zerolinecolor\":\"white\",\"automargin\":true,\"zerolinewidth\":2},\"yaxis\":{\"gridcolor\":\"white\",\"linecolor\":\"white\",\"ticks\":\"\",\"title\":{\"standoff\":15},\"zerolinecolor\":\"white\",\"automargin\":true,\"zerolinewidth\":2},\"scene\":{\"xaxis\":{\"backgroundcolor\":\"#E5ECF6\",\"gridcolor\":\"white\",\"linecolor\":\"white\",\"showbackground\":true,\"ticks\":\"\",\"zerolinecolor\":\"white\",\"gridwidth\":2},\"yaxis\":{\"backgroundcolor\":\"#E5ECF6\",\"gridcolor\":\"white\",\"linecolor\":\"white\",\"showbackground\":true,\"ticks\":\"\",\"zerolinecolor\":\"white\",\"gridwidth\":2},\"zaxis\":{\"backgroundcolor\":\"#E5ECF6\",\"gridcolor\":\"white\",\"linecolor\":\"white\",\"showbackground\":true,\"ticks\":\"\",\"zerolinecolor\":\"white\",\"gridwidth\":2}},\"shapedefaults\":{\"line\":{\"color\":\"#2a3f5f\"}},\"annotationdefaults\":{\"arrowcolor\":\"#2a3f5f\",\"arrowhead\":0,\"arrowwidth\":1},\"geo\":{\"bgcolor\":\"white\",\"landcolor\":\"#E5ECF6\",\"subunitcolor\":\"white\",\"showland\":true,\"showlakes\":true,\"lakecolor\":\"white\"},\"title\":{\"x\":0.05},\"mapbox\":{\"style\":\"light\"}}},\"yaxis\":{\"type\":\"log\",\"title\":{\"text\":\"Cost (USD, nominal)\"}},\"showlegend\":false,\"xaxis\":{\"title\":{\"text\":\"Publication date\"}},\"title\":{\"text\":\"Cost of cloud compute to train frontier ML systems\"},\"autosize\":false,\"width\":800,\"height\":600,\"font\":{\"size\":14},\"margin\":{\"l\":10,\"r\":10,\"t\":40,\"b\":10}},                        {\"responsive\": true}                    ).then(function(){\n",
       "                            \n",
       "var gd = document.getElementById('86706a36-f334-40a3-bc6b-82595a95670a');\n",
       "var x = new MutationObserver(function (mutations, observer) {{\n",
       "        var display = window.getComputedStyle(gd).display;\n",
       "        if (!display || display === 'none') {{\n",
       "            console.log([gd, 'removed!']);\n",
       "            Plotly.purge(gd);\n",
       "            observer.disconnect();\n",
       "        }}\n",
       "}});\n",
       "\n",
       "// Listen for the removal of the full notebook cells\n",
       "var notebookContainer = gd.closest('#notebook-container');\n",
       "if (notebookContainer) {{\n",
       "    x.observe(notebookContainer, {childList: true});\n",
       "}}\n",
       "\n",
       "// Listen for the clearing of the current output cell\n",
       "var outputEl = gd.closest('.output');\n",
       "if (outputEl) {{\n",
       "    x.observe(outputEl, {childList: true});\n",
       "}}\n",
       "\n",
       "                        })                };                });            </script>        </div>"
      ]
     },
     "metadata": {},
     "output_type": "display_data"
    }
   ],
   "source": [
    "import plotly.graph_objects as go\n",
    "\n",
    "fig = go.Figure()\n",
    "for i, row in frontier_pcd_df.iterrows():\n",
    "    system = row['System']\n",
    "    cost = system_to_cost.get(system)\n",
    "    if cost is None:\n",
    "        continue\n",
    "    publication_date = row['Publication date']\n",
    "\n",
    "    fig.add_trace(go.Scatter(\n",
    "        x=[publication_date],\n",
    "        y=[cost],\n",
    "        name=system,\n",
    "        text=system,\n",
    "        textposition='top center',\n",
    "        line=dict(color='#034752'),\n",
    "        mode='markers+text',\n",
    "    ))\n",
    "\n",
    "# log y axis\n",
    "fig.update_yaxes(type=\"log\")\n",
    "# no legend\n",
    "fig.update_layout(showlegend=False)\n",
    "\n",
    "# axis labels\n",
    "fig.update_xaxes(title_text='Publication date')\n",
    "fig.update_yaxes(title_text='Cost (USD, nominal)')\n",
    "\n",
    "# title\n",
    "fig.update_layout(title_text='Cost of cloud compute to train frontier ML systems')\n",
    "\n",
    "# update size\n",
    "fig.update_layout(\n",
    "    autosize=False,\n",
    "    width=800,\n",
    "    height=600,\n",
    ")\n",
    "\n",
    "# font size\n",
    "fig.update_layout(\n",
    "    font=dict(\n",
    "        size=14,\n",
    "    )\n",
    ")\n",
    "\n",
    "# axis limits\n",
    "# fig.update_xaxes(range=['2017-01-01', '2025-01-01'])\n",
    "# fig.update_yaxes(range=[5, 8])\n",
    "\n",
    "# margins\n",
    "fig.update_layout(margin=dict(l=10, r=10, t=40, b=10))\n",
    "\n",
    "save_plot(fig, 'results/', 'cost_scatter')\n",
    "\n",
    "fig.show()"
   ]
  },
  {
   "cell_type": "code",
   "execution_count": 36,
   "metadata": {
    "ExecuteTime": {
     "end_time": "2024-02-07T16:04:38.651688600Z",
     "start_time": "2024-02-07T16:04:33.660916400Z"
    }
   },
   "outputs": [
    {
     "data": {
      "application/vnd.plotly.v1+json": {
       "config": {
        "plotlyServerURL": "https://plot.ly"
       },
       "data": [
        {
         "line": {
          "color": "#034752"
         },
         "mode": "markers+text",
         "name": "AlphaGo Fan",
         "text": "AlphaGo Fan",
         "textposition": "top center",
         "type": "scatter",
         "x": [
          "2015-10-01 00:00:00"
         ],
         "y": [
          260433.36026966287
         ]
        },
        {
         "line": {
          "color": "#034752"
         },
         "mode": "markers+text",
         "name": "AlphaGo Lee",
         "text": "AlphaGo Lee",
         "textposition": "top center",
         "type": "scatter",
         "x": [
          "2016-01-27 00:00:00"
         ],
         "y": [
          260921.97820637896
         ]
        },
        {
         "line": {
          "color": "#034752"
         },
         "mode": "markers+text",
         "name": "GNMT",
         "text": "GNMT",
         "textposition": "top center",
         "type": "scatter",
         "x": [
          "2016-09-26 00:00:00"
         ],
         "y": [
          634034.5893577982
         ]
        },
        {
         "line": {
          "color": "#034752"
         },
         "mode": "markers+text",
         "name": "NASv3 (CIFAR-10)",
         "text": "NASv3 (CIFAR-10)",
         "textposition": "top center",
         "type": "scatter",
         "x": [
          "2016-11-05 00:00:00"
         ],
         "y": [
          655560.4550458716
         ]
        },
        {
         "line": {
          "color": "#034752"
         },
         "mode": "markers+text",
         "name": "AlphaGo Master",
         "text": "AlphaGo Master",
         "textposition": "top center",
         "type": "scatter",
         "x": [
          "2017-01-01 00:00:00"
         ],
         "y": [
          null
         ]
        },
        {
         "line": {
          "color": "#034752"
         },
         "mode": "markers+text",
         "name": "JFT",
         "text": "JFT",
         "textposition": "top center",
         "type": "scatter",
         "x": [
          "2017-07-11 00:00:00"
         ],
         "y": [
          108876.80580762251
         ]
        },
        {
         "line": {
          "color": "#034752"
         },
         "mode": "markers+text",
         "name": "OpenAI TI7 DOTA 1v1",
         "text": "OpenAI TI7 DOTA 1v1",
         "textposition": "top center",
         "type": "scatter",
         "x": [
          "2017-08-11 00:00:00"
         ],
         "y": [
          null
         ]
        },
        {
         "line": {
          "color": "#034752"
         },
         "mode": "markers+text",
         "name": "AlphaGo Zero",
         "text": "AlphaGo Zero",
         "textposition": "top center",
         "type": "scatter",
         "x": [
          "2017-10-18 00:00:00"
         ],
         "y": [
          null
         ]
        },
        {
         "line": {
          "color": "#034752"
         },
         "mode": "markers+text",
         "name": "AlphaZero",
         "text": "AlphaZero",
         "textposition": "top center",
         "type": "scatter",
         "x": [
          "2017-12-05 00:00:00"
         ],
         "y": [
          102144.97372773843
         ]
        },
        {
         "line": {
          "color": "#034752"
         },
         "mode": "markers+text",
         "name": "AmoebaNet-A (F=448)",
         "text": "AmoebaNet-A (F=448)",
         "textposition": "top center",
         "type": "scatter",
         "x": [
          "2018-02-04 00:00:00"
         ],
         "y": [
          4304.354635512961
         ]
        },
        {
         "line": {
          "color": "#034752"
         },
         "mode": "markers+text",
         "name": "ResNeXt-101 32x48d",
         "text": "ResNeXt-101 32x48d",
         "textposition": "top center",
         "type": "scatter",
         "x": [
          "2018-05-03 00:00:00"
         ],
         "y": [
          1037813.7721304349
         ]
        },
        {
         "line": {
          "color": "#034752"
         },
         "mode": "markers+text",
         "name": "FTW",
         "text": "FTW",
         "textposition": "top center",
         "type": "scatter",
         "x": [
          "2018-07-04 00:00:00"
         ],
         "y": [
          1372624.436251222
         ]
        },
        {
         "line": {
          "color": "#034752"
         },
         "mode": "markers+text",
         "name": "BigGAN-deep 512x512",
         "text": "BigGAN-deep 512x512",
         "textposition": "top center",
         "type": "scatter",
         "x": [
          "2018-09-28 00:00:00"
         ],
         "y": [
          26473.13375565611
         ]
        },
        {
         "line": {
          "color": "#034752"
         },
         "mode": "markers+text",
         "name": "RoBERTa Large",
         "text": "RoBERTa Large",
         "textposition": "top center",
         "type": "scatter",
         "x": [
          "2019-07-02 00:00:00"
         ],
         "y": [
          302843.3151537071
         ]
        },
        {
         "line": {
          "color": "#034752"
         },
         "mode": "markers+text",
         "name": "Megatron-LM (8.3B)",
         "text": "Megatron-LM (8.3B)",
         "textposition": "top center",
         "type": "scatter",
         "x": [
          "2019-09-17 00:00:00"
         ],
         "y": [
          408926.66907526884
         ]
        },
        {
         "line": {
          "color": "#034752"
         },
         "mode": "markers+text",
         "name": "T5-3B",
         "text": "T5-3B",
         "textposition": "top center",
         "type": "scatter",
         "x": [
          "2019-10-23 00:00:00"
         ],
         "y": [
          156875.54353074305
         ]
        },
        {
         "line": {
          "color": "#034752"
         },
         "mode": "markers+text",
         "name": "T5-11B",
         "text": "T5-11B",
         "textposition": "top center",
         "type": "scatter",
         "x": [
          "2019-10-23 00:00:00"
         ],
         "y": [
          331284.1766503133
         ]
        },
        {
         "line": {
          "color": "#034752"
         },
         "mode": "markers+text",
         "name": "AlphaStar",
         "text": "AlphaStar",
         "textposition": "top center",
         "type": "scatter",
         "x": [
          "2019-10-30 00:00:00"
         ],
         "y": [
          544463.7225711728
         ]
        },
        {
         "line": {
          "color": "#034752"
         },
         "mode": "markers+text",
         "name": "OpenAI Five",
         "text": "OpenAI Five",
         "textposition": "top center",
         "type": "scatter",
         "x": [
          "2019-12-13 00:00:00"
         ],
         "y": [
          null
         ]
        },
        {
         "line": {
          "color": "#034752"
         },
         "mode": "markers+text",
         "name": "OpenAI Five Rerun",
         "text": "OpenAI Five Rerun",
         "textposition": "top center",
         "type": "scatter",
         "x": [
          "2019-12-13 00:00:00"
         ],
         "y": [
          1558838.6454857143
         ]
        },
        {
         "line": {
          "color": "#034752"
         },
         "mode": "markers+text",
         "name": "Meena",
         "text": "Meena",
         "textposition": "top center",
         "type": "scatter",
         "x": [
          "2020-01-28 00:00:00"
         ],
         "y": [
          975954.3899735217
         ]
        },
        {
         "line": {
          "color": "#034752"
         },
         "mode": "markers+text",
         "name": "Turing-NLG",
         "text": "Turing-NLG",
         "textposition": "top center",
         "type": "scatter",
         "x": [
          "2020-02-12 00:00:00"
         ],
         "y": [
          634759.566326978
         ]
        },
        {
         "line": {
          "color": "#034752"
         },
         "mode": "markers+text",
         "name": "GPT-3 175B (davinci)",
         "text": "GPT-3 175B (davinci)",
         "textposition": "top center",
         "type": "scatter",
         "x": [
          "2020-05-29 00:00:00"
         ],
         "y": [
          8537914.835978836
         ]
        },
        {
         "line": {
          "color": "#034752"
         },
         "mode": "markers+text",
         "name": "GShard (dense)",
         "text": "GShard (dense)",
         "textposition": "top center",
         "type": "scatter",
         "x": [
          "2020-06-30 00:00:00"
         ],
         "y": [
          1356756.2255705523
         ]
        },
        {
         "line": {
          "color": "#034752"
         },
         "mode": "markers+text",
         "name": "ALIGN",
         "text": "ALIGN",
         "textposition": "top center",
         "type": "scatter",
         "x": [
          "2021-06-12 00:00:00"
         ],
         "y": [
          231700.1950415291
         ]
        },
        {
         "line": {
          "color": "#034752"
         },
         "mode": "markers+text",
         "name": "Megatron-Turing NLG 530B",
         "text": "Megatron-Turing NLG 530B",
         "textposition": "top center",
         "type": "scatter",
         "x": [
          "2021-10-11 00:00:00"
         ],
         "y": [
          9323783.175392829
         ]
        },
        {
         "line": {
          "color": "#034752"
         },
         "mode": "markers+text",
         "name": "Yuan 1.0",
         "text": "Yuan 1.0",
         "textposition": "top center",
         "type": "scatter",
         "x": [
          "2021-10-12 00:00:00"
         ],
         "y": [
          null
         ]
        },
        {
         "line": {
          "color": "#034752"
         },
         "mode": "markers+text",
         "name": "Gopher (280B)",
         "text": "Gopher (280B)",
         "textposition": "top center",
         "type": "scatter",
         "x": [
          "2021-12-08 00:00:00"
         ],
         "y": [
          4899730.751790266
         ]
        },
        {
         "line": {
          "color": "#034752"
         },
         "mode": "markers+text",
         "name": "GLaM",
         "text": "GLaM",
         "textposition": "top center",
         "type": "scatter",
         "x": [
          "2021-12-13 00:00:00"
         ],
         "y": [
          2930222.4335963097
         ]
        },
        {
         "line": {
          "color": "#034752"
         },
         "mode": "markers+text",
         "name": "LaMDA",
         "text": "LaMDA",
         "textposition": "top center",
         "type": "scatter",
         "x": [
          "2022-02-09 00:00:00"
         ],
         "y": [
          1847419.7042801555
         ]
        },
        {
         "line": {
          "color": "#034752"
         },
         "mode": "markers+text",
         "name": "Chinchilla",
         "text": "Chinchilla",
         "textposition": "top center",
         "type": "scatter",
         "x": [
          "2022-03-30 00:00:00"
         ],
         "y": [
          3652885.510305308
         ]
        },
        {
         "line": {
          "color": "#034752"
         },
         "mode": "markers+text",
         "name": "PaLM (540B)",
         "text": "PaLM (540B)",
         "textposition": "top center",
         "type": "scatter",
         "x": [
          "2022-04-05 00:00:00"
         ],
         "y": [
          17344678.766538847
         ]
        },
        {
         "line": {
          "color": "#034752"
         },
         "mode": "markers+text",
         "name": "OPT-175B",
         "text": "OPT-175B",
         "textposition": "top center",
         "type": "scatter",
         "x": [
          "2022-05-03 00:00:00"
         ],
         "y": [
          2476201.0732573224
         ]
        },
        {
         "line": {
          "color": "#034752"
         },
         "mode": "markers+text",
         "name": "Minerva (540B)",
         "text": "Minerva (540B)",
         "textposition": "top center",
         "type": "scatter",
         "x": [
          "2022-06-30 00:00:00"
         ],
         "y": [
          18858267.411995716
         ]
        },
        {
         "line": {
          "color": "#034752"
         },
         "mode": "markers+text",
         "name": "GPT-3.5 (text-davinci-003)",
         "text": "GPT-3.5 (text-davinci-003)",
         "textposition": "top center",
         "type": "scatter",
         "x": [
          "2022-11-28 00:00:00"
         ],
         "y": [
          22293223.569819342
         ]
        },
        {
         "line": {
          "color": "#034752"
         },
         "mode": "markers+text",
         "name": "LLaMA-65B",
         "text": "LLaMA-65B",
         "textposition": "top center",
         "type": "scatter",
         "x": [
          "2023-02-23 00:00:00"
         ],
         "y": [
          2437132.894859992
         ]
        },
        {
         "line": {
          "color": "#034752"
         },
         "mode": "markers+text",
         "name": "GPT-4",
         "text": "GPT-4",
         "textposition": "top center",
         "type": "scatter",
         "x": [
          "2023-03-16 00:00:00"
         ],
         "y": [
          138268294.7540037
         ]
        },
        {
         "line": {
          "color": "#034752"
         },
         "mode": "markers+text",
         "name": "PaLM 2",
         "text": "PaLM 2",
         "textposition": "top center",
         "type": "scatter",
         "x": [
          "2023-05-11 00:00:00"
         ],
         "y": [
          18674858.93854725
         ]
        },
        {
         "line": {
          "color": "#034752"
         },
         "mode": "markers+text",
         "name": "Claude 2",
         "text": "Claude 2",
         "textposition": "top center",
         "type": "scatter",
         "x": [
          "2023-07-12 00:00:00"
         ],
         "y": [
          null
         ]
        },
        {
         "line": {
          "color": "#034752"
         },
         "mode": "markers+text",
         "name": "Llama 2-70B",
         "text": "Llama 2-70B",
         "textposition": "top center",
         "type": "scatter",
         "x": [
          "2023-07-19 00:00:00"
         ],
         "y": [
          31698476.968442395
         ]
        },
        {
         "line": {
          "color": "#034752"
         },
         "mode": "markers+text",
         "name": "Falcon 180B",
         "text": "Falcon 180B",
         "textposition": "top center",
         "type": "scatter",
         "x": [
          "2023-09-06 00:00:00"
         ],
         "y": [
          42730466.97583202
         ]
        }
       ],
       "layout": {
        "autosize": false,
        "font": {
         "size": 14
        },
        "height": 600,
        "margin": {
         "b": 10,
         "l": 10,
         "r": 10,
         "t": 40
        },
        "showlegend": false,
        "template": {
         "data": {
          "bar": [
           {
            "error_x": {
             "color": "#2a3f5f"
            },
            "error_y": {
             "color": "#2a3f5f"
            },
            "marker": {
             "line": {
              "color": "#E5ECF6",
              "width": 0.5
             },
             "pattern": {
              "fillmode": "overlay",
              "size": 10,
              "solidity": 0.2
             }
            },
            "type": "bar"
           }
          ],
          "barpolar": [
           {
            "marker": {
             "line": {
              "color": "#E5ECF6",
              "width": 0.5
             },
             "pattern": {
              "fillmode": "overlay",
              "size": 10,
              "solidity": 0.2
             }
            },
            "type": "barpolar"
           }
          ],
          "carpet": [
           {
            "aaxis": {
             "endlinecolor": "#2a3f5f",
             "gridcolor": "white",
             "linecolor": "white",
             "minorgridcolor": "white",
             "startlinecolor": "#2a3f5f"
            },
            "baxis": {
             "endlinecolor": "#2a3f5f",
             "gridcolor": "white",
             "linecolor": "white",
             "minorgridcolor": "white",
             "startlinecolor": "#2a3f5f"
            },
            "type": "carpet"
           }
          ],
          "choropleth": [
           {
            "colorbar": {
             "outlinewidth": 0,
             "ticks": ""
            },
            "type": "choropleth"
           }
          ],
          "contour": [
           {
            "colorbar": {
             "outlinewidth": 0,
             "ticks": ""
            },
            "colorscale": [
             [
              0,
              "#0d0887"
             ],
             [
              0.1111111111111111,
              "#46039f"
             ],
             [
              0.2222222222222222,
              "#7201a8"
             ],
             [
              0.3333333333333333,
              "#9c179e"
             ],
             [
              0.4444444444444444,
              "#bd3786"
             ],
             [
              0.5555555555555556,
              "#d8576b"
             ],
             [
              0.6666666666666666,
              "#ed7953"
             ],
             [
              0.7777777777777778,
              "#fb9f3a"
             ],
             [
              0.8888888888888888,
              "#fdca26"
             ],
             [
              1,
              "#f0f921"
             ]
            ],
            "type": "contour"
           }
          ],
          "contourcarpet": [
           {
            "colorbar": {
             "outlinewidth": 0,
             "ticks": ""
            },
            "type": "contourcarpet"
           }
          ],
          "heatmap": [
           {
            "colorbar": {
             "outlinewidth": 0,
             "ticks": ""
            },
            "colorscale": [
             [
              0,
              "#0d0887"
             ],
             [
              0.1111111111111111,
              "#46039f"
             ],
             [
              0.2222222222222222,
              "#7201a8"
             ],
             [
              0.3333333333333333,
              "#9c179e"
             ],
             [
              0.4444444444444444,
              "#bd3786"
             ],
             [
              0.5555555555555556,
              "#d8576b"
             ],
             [
              0.6666666666666666,
              "#ed7953"
             ],
             [
              0.7777777777777778,
              "#fb9f3a"
             ],
             [
              0.8888888888888888,
              "#fdca26"
             ],
             [
              1,
              "#f0f921"
             ]
            ],
            "type": "heatmap"
           }
          ],
          "heatmapgl": [
           {
            "colorbar": {
             "outlinewidth": 0,
             "ticks": ""
            },
            "colorscale": [
             [
              0,
              "#0d0887"
             ],
             [
              0.1111111111111111,
              "#46039f"
             ],
             [
              0.2222222222222222,
              "#7201a8"
             ],
             [
              0.3333333333333333,
              "#9c179e"
             ],
             [
              0.4444444444444444,
              "#bd3786"
             ],
             [
              0.5555555555555556,
              "#d8576b"
             ],
             [
              0.6666666666666666,
              "#ed7953"
             ],
             [
              0.7777777777777778,
              "#fb9f3a"
             ],
             [
              0.8888888888888888,
              "#fdca26"
             ],
             [
              1,
              "#f0f921"
             ]
            ],
            "type": "heatmapgl"
           }
          ],
          "histogram": [
           {
            "marker": {
             "pattern": {
              "fillmode": "overlay",
              "size": 10,
              "solidity": 0.2
             }
            },
            "type": "histogram"
           }
          ],
          "histogram2d": [
           {
            "colorbar": {
             "outlinewidth": 0,
             "ticks": ""
            },
            "colorscale": [
             [
              0,
              "#0d0887"
             ],
             [
              0.1111111111111111,
              "#46039f"
             ],
             [
              0.2222222222222222,
              "#7201a8"
             ],
             [
              0.3333333333333333,
              "#9c179e"
             ],
             [
              0.4444444444444444,
              "#bd3786"
             ],
             [
              0.5555555555555556,
              "#d8576b"
             ],
             [
              0.6666666666666666,
              "#ed7953"
             ],
             [
              0.7777777777777778,
              "#fb9f3a"
             ],
             [
              0.8888888888888888,
              "#fdca26"
             ],
             [
              1,
              "#f0f921"
             ]
            ],
            "type": "histogram2d"
           }
          ],
          "histogram2dcontour": [
           {
            "colorbar": {
             "outlinewidth": 0,
             "ticks": ""
            },
            "colorscale": [
             [
              0,
              "#0d0887"
             ],
             [
              0.1111111111111111,
              "#46039f"
             ],
             [
              0.2222222222222222,
              "#7201a8"
             ],
             [
              0.3333333333333333,
              "#9c179e"
             ],
             [
              0.4444444444444444,
              "#bd3786"
             ],
             [
              0.5555555555555556,
              "#d8576b"
             ],
             [
              0.6666666666666666,
              "#ed7953"
             ],
             [
              0.7777777777777778,
              "#fb9f3a"
             ],
             [
              0.8888888888888888,
              "#fdca26"
             ],
             [
              1,
              "#f0f921"
             ]
            ],
            "type": "histogram2dcontour"
           }
          ],
          "mesh3d": [
           {
            "colorbar": {
             "outlinewidth": 0,
             "ticks": ""
            },
            "type": "mesh3d"
           }
          ],
          "parcoords": [
           {
            "line": {
             "colorbar": {
              "outlinewidth": 0,
              "ticks": ""
             }
            },
            "type": "parcoords"
           }
          ],
          "pie": [
           {
            "automargin": true,
            "type": "pie"
           }
          ],
          "scatter": [
           {
            "fillpattern": {
             "fillmode": "overlay",
             "size": 10,
             "solidity": 0.2
            },
            "type": "scatter"
           }
          ],
          "scatter3d": [
           {
            "line": {
             "colorbar": {
              "outlinewidth": 0,
              "ticks": ""
             }
            },
            "marker": {
             "colorbar": {
              "outlinewidth": 0,
              "ticks": ""
             }
            },
            "type": "scatter3d"
           }
          ],
          "scattercarpet": [
           {
            "marker": {
             "colorbar": {
              "outlinewidth": 0,
              "ticks": ""
             }
            },
            "type": "scattercarpet"
           }
          ],
          "scattergeo": [
           {
            "marker": {
             "colorbar": {
              "outlinewidth": 0,
              "ticks": ""
             }
            },
            "type": "scattergeo"
           }
          ],
          "scattergl": [
           {
            "marker": {
             "colorbar": {
              "outlinewidth": 0,
              "ticks": ""
             }
            },
            "type": "scattergl"
           }
          ],
          "scattermapbox": [
           {
            "marker": {
             "colorbar": {
              "outlinewidth": 0,
              "ticks": ""
             }
            },
            "type": "scattermapbox"
           }
          ],
          "scatterpolar": [
           {
            "marker": {
             "colorbar": {
              "outlinewidth": 0,
              "ticks": ""
             }
            },
            "type": "scatterpolar"
           }
          ],
          "scatterpolargl": [
           {
            "marker": {
             "colorbar": {
              "outlinewidth": 0,
              "ticks": ""
             }
            },
            "type": "scatterpolargl"
           }
          ],
          "scatterternary": [
           {
            "marker": {
             "colorbar": {
              "outlinewidth": 0,
              "ticks": ""
             }
            },
            "type": "scatterternary"
           }
          ],
          "surface": [
           {
            "colorbar": {
             "outlinewidth": 0,
             "ticks": ""
            },
            "colorscale": [
             [
              0,
              "#0d0887"
             ],
             [
              0.1111111111111111,
              "#46039f"
             ],
             [
              0.2222222222222222,
              "#7201a8"
             ],
             [
              0.3333333333333333,
              "#9c179e"
             ],
             [
              0.4444444444444444,
              "#bd3786"
             ],
             [
              0.5555555555555556,
              "#d8576b"
             ],
             [
              0.6666666666666666,
              "#ed7953"
             ],
             [
              0.7777777777777778,
              "#fb9f3a"
             ],
             [
              0.8888888888888888,
              "#fdca26"
             ],
             [
              1,
              "#f0f921"
             ]
            ],
            "type": "surface"
           }
          ],
          "table": [
           {
            "cells": {
             "fill": {
              "color": "#EBF0F8"
             },
             "line": {
              "color": "white"
             }
            },
            "header": {
             "fill": {
              "color": "#C8D4E3"
             },
             "line": {
              "color": "white"
             }
            },
            "type": "table"
           }
          ]
         },
         "layout": {
          "annotationdefaults": {
           "arrowcolor": "#2a3f5f",
           "arrowhead": 0,
           "arrowwidth": 1
          },
          "autotypenumbers": "strict",
          "coloraxis": {
           "colorbar": {
            "outlinewidth": 0,
            "ticks": ""
           }
          },
          "colorscale": {
           "diverging": [
            [
             0,
             "#8e0152"
            ],
            [
             0.1,
             "#c51b7d"
            ],
            [
             0.2,
             "#de77ae"
            ],
            [
             0.3,
             "#f1b6da"
            ],
            [
             0.4,
             "#fde0ef"
            ],
            [
             0.5,
             "#f7f7f7"
            ],
            [
             0.6,
             "#e6f5d0"
            ],
            [
             0.7,
             "#b8e186"
            ],
            [
             0.8,
             "#7fbc41"
            ],
            [
             0.9,
             "#4d9221"
            ],
            [
             1,
             "#276419"
            ]
           ],
           "sequential": [
            [
             0,
             "#0d0887"
            ],
            [
             0.1111111111111111,
             "#46039f"
            ],
            [
             0.2222222222222222,
             "#7201a8"
            ],
            [
             0.3333333333333333,
             "#9c179e"
            ],
            [
             0.4444444444444444,
             "#bd3786"
            ],
            [
             0.5555555555555556,
             "#d8576b"
            ],
            [
             0.6666666666666666,
             "#ed7953"
            ],
            [
             0.7777777777777778,
             "#fb9f3a"
            ],
            [
             0.8888888888888888,
             "#fdca26"
            ],
            [
             1,
             "#f0f921"
            ]
           ],
           "sequentialminus": [
            [
             0,
             "#0d0887"
            ],
            [
             0.1111111111111111,
             "#46039f"
            ],
            [
             0.2222222222222222,
             "#7201a8"
            ],
            [
             0.3333333333333333,
             "#9c179e"
            ],
            [
             0.4444444444444444,
             "#bd3786"
            ],
            [
             0.5555555555555556,
             "#d8576b"
            ],
            [
             0.6666666666666666,
             "#ed7953"
            ],
            [
             0.7777777777777778,
             "#fb9f3a"
            ],
            [
             0.8888888888888888,
             "#fdca26"
            ],
            [
             1,
             "#f0f921"
            ]
           ]
          },
          "colorway": [
           "#636efa",
           "#EF553B",
           "#00cc96",
           "#ab63fa",
           "#FFA15A",
           "#19d3f3",
           "#FF6692",
           "#B6E880",
           "#FF97FF",
           "#FECB52"
          ],
          "font": {
           "color": "#2a3f5f"
          },
          "geo": {
           "bgcolor": "white",
           "lakecolor": "white",
           "landcolor": "#E5ECF6",
           "showlakes": true,
           "showland": true,
           "subunitcolor": "white"
          },
          "hoverlabel": {
           "align": "left"
          },
          "hovermode": "closest",
          "mapbox": {
           "style": "light"
          },
          "paper_bgcolor": "white",
          "plot_bgcolor": "#E5ECF6",
          "polar": {
           "angularaxis": {
            "gridcolor": "white",
            "linecolor": "white",
            "ticks": ""
           },
           "bgcolor": "#E5ECF6",
           "radialaxis": {
            "gridcolor": "white",
            "linecolor": "white",
            "ticks": ""
           }
          },
          "scene": {
           "xaxis": {
            "backgroundcolor": "#E5ECF6",
            "gridcolor": "white",
            "gridwidth": 2,
            "linecolor": "white",
            "showbackground": true,
            "ticks": "",
            "zerolinecolor": "white"
           },
           "yaxis": {
            "backgroundcolor": "#E5ECF6",
            "gridcolor": "white",
            "gridwidth": 2,
            "linecolor": "white",
            "showbackground": true,
            "ticks": "",
            "zerolinecolor": "white"
           },
           "zaxis": {
            "backgroundcolor": "#E5ECF6",
            "gridcolor": "white",
            "gridwidth": 2,
            "linecolor": "white",
            "showbackground": true,
            "ticks": "",
            "zerolinecolor": "white"
           }
          },
          "shapedefaults": {
           "line": {
            "color": "#2a3f5f"
           }
          },
          "ternary": {
           "aaxis": {
            "gridcolor": "white",
            "linecolor": "white",
            "ticks": ""
           },
           "baxis": {
            "gridcolor": "white",
            "linecolor": "white",
            "ticks": ""
           },
           "bgcolor": "#E5ECF6",
           "caxis": {
            "gridcolor": "white",
            "linecolor": "white",
            "ticks": ""
           }
          },
          "title": {
           "x": 0.05
          },
          "xaxis": {
           "automargin": true,
           "gridcolor": "white",
           "linecolor": "white",
           "ticks": "",
           "title": {
            "standoff": 15
           },
           "zerolinecolor": "white",
           "zerolinewidth": 2
          },
          "yaxis": {
           "automargin": true,
           "gridcolor": "white",
           "linecolor": "white",
           "ticks": "",
           "title": {
            "standoff": 15
           },
           "zerolinecolor": "white",
           "zerolinewidth": 2
          }
         }
        },
        "title": {
         "text": "Cost of cloud compute to train frontier ML systems"
        },
        "width": 800,
        "xaxis": {
         "title": {
          "text": "Publication date"
         }
        },
        "yaxis": {
         "title": {
          "text": "Cost (2023 USD)"
         },
         "type": "log"
        }
       }
      },
      "text/html": [
       "<div>                            <div id=\"e9a888e3-bf19-4702-aa47-0552d18a9beb\" class=\"plotly-graph-div\" style=\"height:600px; width:800px;\"></div>            <script type=\"text/javascript\">                require([\"plotly\"], function(Plotly) {                    window.PLOTLYENV=window.PLOTLYENV || {};                                    if (document.getElementById(\"e9a888e3-bf19-4702-aa47-0552d18a9beb\")) {                    Plotly.newPlot(                        \"e9a888e3-bf19-4702-aa47-0552d18a9beb\",                        [{\"line\":{\"color\":\"#034752\"},\"mode\":\"markers+text\",\"name\":\"AlphaGo Fan\",\"text\":\"AlphaGo Fan\",\"textposition\":\"top center\",\"x\":[\"2015-10-01 00:00:00\"],\"y\":[260433.36026966287],\"type\":\"scatter\"},{\"line\":{\"color\":\"#034752\"},\"mode\":\"markers+text\",\"name\":\"AlphaGo Lee\",\"text\":\"AlphaGo Lee\",\"textposition\":\"top center\",\"x\":[\"2016-01-27 00:00:00\"],\"y\":[260921.97820637896],\"type\":\"scatter\"},{\"line\":{\"color\":\"#034752\"},\"mode\":\"markers+text\",\"name\":\"GNMT\",\"text\":\"GNMT\",\"textposition\":\"top center\",\"x\":[\"2016-09-26 00:00:00\"],\"y\":[634034.5893577982],\"type\":\"scatter\"},{\"line\":{\"color\":\"#034752\"},\"mode\":\"markers+text\",\"name\":\"NASv3 (CIFAR-10)\",\"text\":\"NASv3 (CIFAR-10)\",\"textposition\":\"top center\",\"x\":[\"2016-11-05 00:00:00\"],\"y\":[655560.4550458716],\"type\":\"scatter\"},{\"line\":{\"color\":\"#034752\"},\"mode\":\"markers+text\",\"name\":\"AlphaGo Master\",\"text\":\"AlphaGo Master\",\"textposition\":\"top center\",\"x\":[\"2017-01-01 00:00:00\"],\"y\":[null],\"type\":\"scatter\"},{\"line\":{\"color\":\"#034752\"},\"mode\":\"markers+text\",\"name\":\"JFT\",\"text\":\"JFT\",\"textposition\":\"top center\",\"x\":[\"2017-07-11 00:00:00\"],\"y\":[108876.80580762251],\"type\":\"scatter\"},{\"line\":{\"color\":\"#034752\"},\"mode\":\"markers+text\",\"name\":\"OpenAI TI7 DOTA 1v1\",\"text\":\"OpenAI TI7 DOTA 1v1\",\"textposition\":\"top center\",\"x\":[\"2017-08-11 00:00:00\"],\"y\":[null],\"type\":\"scatter\"},{\"line\":{\"color\":\"#034752\"},\"mode\":\"markers+text\",\"name\":\"AlphaGo Zero\",\"text\":\"AlphaGo Zero\",\"textposition\":\"top center\",\"x\":[\"2017-10-18 00:00:00\"],\"y\":[null],\"type\":\"scatter\"},{\"line\":{\"color\":\"#034752\"},\"mode\":\"markers+text\",\"name\":\"AlphaZero\",\"text\":\"AlphaZero\",\"textposition\":\"top center\",\"x\":[\"2017-12-05 00:00:00\"],\"y\":[102144.97372773843],\"type\":\"scatter\"},{\"line\":{\"color\":\"#034752\"},\"mode\":\"markers+text\",\"name\":\"AmoebaNet-A (F=448)\",\"text\":\"AmoebaNet-A (F=448)\",\"textposition\":\"top center\",\"x\":[\"2018-02-04 00:00:00\"],\"y\":[4304.354635512961],\"type\":\"scatter\"},{\"line\":{\"color\":\"#034752\"},\"mode\":\"markers+text\",\"name\":\"ResNeXt-101 32x48d\",\"text\":\"ResNeXt-101 32x48d\",\"textposition\":\"top center\",\"x\":[\"2018-05-03 00:00:00\"],\"y\":[1037813.7721304349],\"type\":\"scatter\"},{\"line\":{\"color\":\"#034752\"},\"mode\":\"markers+text\",\"name\":\"FTW\",\"text\":\"FTW\",\"textposition\":\"top center\",\"x\":[\"2018-07-04 00:00:00\"],\"y\":[1372624.436251222],\"type\":\"scatter\"},{\"line\":{\"color\":\"#034752\"},\"mode\":\"markers+text\",\"name\":\"BigGAN-deep 512x512\",\"text\":\"BigGAN-deep 512x512\",\"textposition\":\"top center\",\"x\":[\"2018-09-28 00:00:00\"],\"y\":[26473.13375565611],\"type\":\"scatter\"},{\"line\":{\"color\":\"#034752\"},\"mode\":\"markers+text\",\"name\":\"RoBERTa Large\",\"text\":\"RoBERTa Large\",\"textposition\":\"top center\",\"x\":[\"2019-07-02 00:00:00\"],\"y\":[302843.3151537071],\"type\":\"scatter\"},{\"line\":{\"color\":\"#034752\"},\"mode\":\"markers+text\",\"name\":\"Megatron-LM (8.3B)\",\"text\":\"Megatron-LM (8.3B)\",\"textposition\":\"top center\",\"x\":[\"2019-09-17 00:00:00\"],\"y\":[408926.66907526884],\"type\":\"scatter\"},{\"line\":{\"color\":\"#034752\"},\"mode\":\"markers+text\",\"name\":\"T5-3B\",\"text\":\"T5-3B\",\"textposition\":\"top center\",\"x\":[\"2019-10-23 00:00:00\"],\"y\":[156875.54353074305],\"type\":\"scatter\"},{\"line\":{\"color\":\"#034752\"},\"mode\":\"markers+text\",\"name\":\"T5-11B\",\"text\":\"T5-11B\",\"textposition\":\"top center\",\"x\":[\"2019-10-23 00:00:00\"],\"y\":[331284.1766503133],\"type\":\"scatter\"},{\"line\":{\"color\":\"#034752\"},\"mode\":\"markers+text\",\"name\":\"AlphaStar\",\"text\":\"AlphaStar\",\"textposition\":\"top center\",\"x\":[\"2019-10-30 00:00:00\"],\"y\":[544463.7225711728],\"type\":\"scatter\"},{\"line\":{\"color\":\"#034752\"},\"mode\":\"markers+text\",\"name\":\"OpenAI Five\",\"text\":\"OpenAI Five\",\"textposition\":\"top center\",\"x\":[\"2019-12-13 00:00:00\"],\"y\":[null],\"type\":\"scatter\"},{\"line\":{\"color\":\"#034752\"},\"mode\":\"markers+text\",\"name\":\"OpenAI Five Rerun\",\"text\":\"OpenAI Five Rerun\",\"textposition\":\"top center\",\"x\":[\"2019-12-13 00:00:00\"],\"y\":[1558838.6454857143],\"type\":\"scatter\"},{\"line\":{\"color\":\"#034752\"},\"mode\":\"markers+text\",\"name\":\"Meena\",\"text\":\"Meena\",\"textposition\":\"top center\",\"x\":[\"2020-01-28 00:00:00\"],\"y\":[975954.3899735217],\"type\":\"scatter\"},{\"line\":{\"color\":\"#034752\"},\"mode\":\"markers+text\",\"name\":\"Turing-NLG\",\"text\":\"Turing-NLG\",\"textposition\":\"top center\",\"x\":[\"2020-02-12 00:00:00\"],\"y\":[634759.566326978],\"type\":\"scatter\"},{\"line\":{\"color\":\"#034752\"},\"mode\":\"markers+text\",\"name\":\"GPT-3 175B (davinci)\",\"text\":\"GPT-3 175B (davinci)\",\"textposition\":\"top center\",\"x\":[\"2020-05-29 00:00:00\"],\"y\":[8537914.835978836],\"type\":\"scatter\"},{\"line\":{\"color\":\"#034752\"},\"mode\":\"markers+text\",\"name\":\"GShard (dense)\",\"text\":\"GShard (dense)\",\"textposition\":\"top center\",\"x\":[\"2020-06-30 00:00:00\"],\"y\":[1356756.2255705523],\"type\":\"scatter\"},{\"line\":{\"color\":\"#034752\"},\"mode\":\"markers+text\",\"name\":\"ALIGN\",\"text\":\"ALIGN\",\"textposition\":\"top center\",\"x\":[\"2021-06-12 00:00:00\"],\"y\":[231700.1950415291],\"type\":\"scatter\"},{\"line\":{\"color\":\"#034752\"},\"mode\":\"markers+text\",\"name\":\"Megatron-Turing NLG 530B\",\"text\":\"Megatron-Turing NLG 530B\",\"textposition\":\"top center\",\"x\":[\"2021-10-11 00:00:00\"],\"y\":[9323783.175392829],\"type\":\"scatter\"},{\"line\":{\"color\":\"#034752\"},\"mode\":\"markers+text\",\"name\":\"Yuan 1.0\",\"text\":\"Yuan 1.0\",\"textposition\":\"top center\",\"x\":[\"2021-10-12 00:00:00\"],\"y\":[null],\"type\":\"scatter\"},{\"line\":{\"color\":\"#034752\"},\"mode\":\"markers+text\",\"name\":\"Gopher (280B)\",\"text\":\"Gopher (280B)\",\"textposition\":\"top center\",\"x\":[\"2021-12-08 00:00:00\"],\"y\":[4899730.751790266],\"type\":\"scatter\"},{\"line\":{\"color\":\"#034752\"},\"mode\":\"markers+text\",\"name\":\"GLaM\",\"text\":\"GLaM\",\"textposition\":\"top center\",\"x\":[\"2021-12-13 00:00:00\"],\"y\":[2930222.4335963097],\"type\":\"scatter\"},{\"line\":{\"color\":\"#034752\"},\"mode\":\"markers+text\",\"name\":\"LaMDA\",\"text\":\"LaMDA\",\"textposition\":\"top center\",\"x\":[\"2022-02-09 00:00:00\"],\"y\":[1847419.7042801555],\"type\":\"scatter\"},{\"line\":{\"color\":\"#034752\"},\"mode\":\"markers+text\",\"name\":\"Chinchilla\",\"text\":\"Chinchilla\",\"textposition\":\"top center\",\"x\":[\"2022-03-30 00:00:00\"],\"y\":[3652885.510305308],\"type\":\"scatter\"},{\"line\":{\"color\":\"#034752\"},\"mode\":\"markers+text\",\"name\":\"PaLM (540B)\",\"text\":\"PaLM (540B)\",\"textposition\":\"top center\",\"x\":[\"2022-04-05 00:00:00\"],\"y\":[17344678.766538847],\"type\":\"scatter\"},{\"line\":{\"color\":\"#034752\"},\"mode\":\"markers+text\",\"name\":\"OPT-175B\",\"text\":\"OPT-175B\",\"textposition\":\"top center\",\"x\":[\"2022-05-03 00:00:00\"],\"y\":[2476201.0732573224],\"type\":\"scatter\"},{\"line\":{\"color\":\"#034752\"},\"mode\":\"markers+text\",\"name\":\"Minerva (540B)\",\"text\":\"Minerva (540B)\",\"textposition\":\"top center\",\"x\":[\"2022-06-30 00:00:00\"],\"y\":[18858267.411995716],\"type\":\"scatter\"},{\"line\":{\"color\":\"#034752\"},\"mode\":\"markers+text\",\"name\":\"GPT-3.5 (text-davinci-003)\",\"text\":\"GPT-3.5 (text-davinci-003)\",\"textposition\":\"top center\",\"x\":[\"2022-11-28 00:00:00\"],\"y\":[22293223.569819342],\"type\":\"scatter\"},{\"line\":{\"color\":\"#034752\"},\"mode\":\"markers+text\",\"name\":\"LLaMA-65B\",\"text\":\"LLaMA-65B\",\"textposition\":\"top center\",\"x\":[\"2023-02-23 00:00:00\"],\"y\":[2437132.894859992],\"type\":\"scatter\"},{\"line\":{\"color\":\"#034752\"},\"mode\":\"markers+text\",\"name\":\"GPT-4\",\"text\":\"GPT-4\",\"textposition\":\"top center\",\"x\":[\"2023-03-16 00:00:00\"],\"y\":[138268294.7540037],\"type\":\"scatter\"},{\"line\":{\"color\":\"#034752\"},\"mode\":\"markers+text\",\"name\":\"PaLM 2\",\"text\":\"PaLM 2\",\"textposition\":\"top center\",\"x\":[\"2023-05-11 00:00:00\"],\"y\":[18674858.93854725],\"type\":\"scatter\"},{\"line\":{\"color\":\"#034752\"},\"mode\":\"markers+text\",\"name\":\"Claude 2\",\"text\":\"Claude 2\",\"textposition\":\"top center\",\"x\":[\"2023-07-12 00:00:00\"],\"y\":[null],\"type\":\"scatter\"},{\"line\":{\"color\":\"#034752\"},\"mode\":\"markers+text\",\"name\":\"Llama 2-70B\",\"text\":\"Llama 2-70B\",\"textposition\":\"top center\",\"x\":[\"2023-07-19 00:00:00\"],\"y\":[31698476.968442395],\"type\":\"scatter\"},{\"line\":{\"color\":\"#034752\"},\"mode\":\"markers+text\",\"name\":\"Falcon 180B\",\"text\":\"Falcon 180B\",\"textposition\":\"top center\",\"x\":[\"2023-09-06 00:00:00\"],\"y\":[42730466.97583202],\"type\":\"scatter\"}],                        {\"template\":{\"data\":{\"histogram2dcontour\":[{\"type\":\"histogram2dcontour\",\"colorbar\":{\"outlinewidth\":0,\"ticks\":\"\"},\"colorscale\":[[0.0,\"#0d0887\"],[0.1111111111111111,\"#46039f\"],[0.2222222222222222,\"#7201a8\"],[0.3333333333333333,\"#9c179e\"],[0.4444444444444444,\"#bd3786\"],[0.5555555555555556,\"#d8576b\"],[0.6666666666666666,\"#ed7953\"],[0.7777777777777778,\"#fb9f3a\"],[0.8888888888888888,\"#fdca26\"],[1.0,\"#f0f921\"]]}],\"choropleth\":[{\"type\":\"choropleth\",\"colorbar\":{\"outlinewidth\":0,\"ticks\":\"\"}}],\"histogram2d\":[{\"type\":\"histogram2d\",\"colorbar\":{\"outlinewidth\":0,\"ticks\":\"\"},\"colorscale\":[[0.0,\"#0d0887\"],[0.1111111111111111,\"#46039f\"],[0.2222222222222222,\"#7201a8\"],[0.3333333333333333,\"#9c179e\"],[0.4444444444444444,\"#bd3786\"],[0.5555555555555556,\"#d8576b\"],[0.6666666666666666,\"#ed7953\"],[0.7777777777777778,\"#fb9f3a\"],[0.8888888888888888,\"#fdca26\"],[1.0,\"#f0f921\"]]}],\"heatmap\":[{\"type\":\"heatmap\",\"colorbar\":{\"outlinewidth\":0,\"ticks\":\"\"},\"colorscale\":[[0.0,\"#0d0887\"],[0.1111111111111111,\"#46039f\"],[0.2222222222222222,\"#7201a8\"],[0.3333333333333333,\"#9c179e\"],[0.4444444444444444,\"#bd3786\"],[0.5555555555555556,\"#d8576b\"],[0.6666666666666666,\"#ed7953\"],[0.7777777777777778,\"#fb9f3a\"],[0.8888888888888888,\"#fdca26\"],[1.0,\"#f0f921\"]]}],\"heatmapgl\":[{\"type\":\"heatmapgl\",\"colorbar\":{\"outlinewidth\":0,\"ticks\":\"\"},\"colorscale\":[[0.0,\"#0d0887\"],[0.1111111111111111,\"#46039f\"],[0.2222222222222222,\"#7201a8\"],[0.3333333333333333,\"#9c179e\"],[0.4444444444444444,\"#bd3786\"],[0.5555555555555556,\"#d8576b\"],[0.6666666666666666,\"#ed7953\"],[0.7777777777777778,\"#fb9f3a\"],[0.8888888888888888,\"#fdca26\"],[1.0,\"#f0f921\"]]}],\"contourcarpet\":[{\"type\":\"contourcarpet\",\"colorbar\":{\"outlinewidth\":0,\"ticks\":\"\"}}],\"contour\":[{\"type\":\"contour\",\"colorbar\":{\"outlinewidth\":0,\"ticks\":\"\"},\"colorscale\":[[0.0,\"#0d0887\"],[0.1111111111111111,\"#46039f\"],[0.2222222222222222,\"#7201a8\"],[0.3333333333333333,\"#9c179e\"],[0.4444444444444444,\"#bd3786\"],[0.5555555555555556,\"#d8576b\"],[0.6666666666666666,\"#ed7953\"],[0.7777777777777778,\"#fb9f3a\"],[0.8888888888888888,\"#fdca26\"],[1.0,\"#f0f921\"]]}],\"surface\":[{\"type\":\"surface\",\"colorbar\":{\"outlinewidth\":0,\"ticks\":\"\"},\"colorscale\":[[0.0,\"#0d0887\"],[0.1111111111111111,\"#46039f\"],[0.2222222222222222,\"#7201a8\"],[0.3333333333333333,\"#9c179e\"],[0.4444444444444444,\"#bd3786\"],[0.5555555555555556,\"#d8576b\"],[0.6666666666666666,\"#ed7953\"],[0.7777777777777778,\"#fb9f3a\"],[0.8888888888888888,\"#fdca26\"],[1.0,\"#f0f921\"]]}],\"mesh3d\":[{\"type\":\"mesh3d\",\"colorbar\":{\"outlinewidth\":0,\"ticks\":\"\"}}],\"scatter\":[{\"fillpattern\":{\"fillmode\":\"overlay\",\"size\":10,\"solidity\":0.2},\"type\":\"scatter\"}],\"parcoords\":[{\"type\":\"parcoords\",\"line\":{\"colorbar\":{\"outlinewidth\":0,\"ticks\":\"\"}}}],\"scatterpolargl\":[{\"type\":\"scatterpolargl\",\"marker\":{\"colorbar\":{\"outlinewidth\":0,\"ticks\":\"\"}}}],\"bar\":[{\"error_x\":{\"color\":\"#2a3f5f\"},\"error_y\":{\"color\":\"#2a3f5f\"},\"marker\":{\"line\":{\"color\":\"#E5ECF6\",\"width\":0.5},\"pattern\":{\"fillmode\":\"overlay\",\"size\":10,\"solidity\":0.2}},\"type\":\"bar\"}],\"scattergeo\":[{\"type\":\"scattergeo\",\"marker\":{\"colorbar\":{\"outlinewidth\":0,\"ticks\":\"\"}}}],\"scatterpolar\":[{\"type\":\"scatterpolar\",\"marker\":{\"colorbar\":{\"outlinewidth\":0,\"ticks\":\"\"}}}],\"histogram\":[{\"marker\":{\"pattern\":{\"fillmode\":\"overlay\",\"size\":10,\"solidity\":0.2}},\"type\":\"histogram\"}],\"scattergl\":[{\"type\":\"scattergl\",\"marker\":{\"colorbar\":{\"outlinewidth\":0,\"ticks\":\"\"}}}],\"scatter3d\":[{\"type\":\"scatter3d\",\"line\":{\"colorbar\":{\"outlinewidth\":0,\"ticks\":\"\"}},\"marker\":{\"colorbar\":{\"outlinewidth\":0,\"ticks\":\"\"}}}],\"scattermapbox\":[{\"type\":\"scattermapbox\",\"marker\":{\"colorbar\":{\"outlinewidth\":0,\"ticks\":\"\"}}}],\"scatterternary\":[{\"type\":\"scatterternary\",\"marker\":{\"colorbar\":{\"outlinewidth\":0,\"ticks\":\"\"}}}],\"scattercarpet\":[{\"type\":\"scattercarpet\",\"marker\":{\"colorbar\":{\"outlinewidth\":0,\"ticks\":\"\"}}}],\"carpet\":[{\"aaxis\":{\"endlinecolor\":\"#2a3f5f\",\"gridcolor\":\"white\",\"linecolor\":\"white\",\"minorgridcolor\":\"white\",\"startlinecolor\":\"#2a3f5f\"},\"baxis\":{\"endlinecolor\":\"#2a3f5f\",\"gridcolor\":\"white\",\"linecolor\":\"white\",\"minorgridcolor\":\"white\",\"startlinecolor\":\"#2a3f5f\"},\"type\":\"carpet\"}],\"table\":[{\"cells\":{\"fill\":{\"color\":\"#EBF0F8\"},\"line\":{\"color\":\"white\"}},\"header\":{\"fill\":{\"color\":\"#C8D4E3\"},\"line\":{\"color\":\"white\"}},\"type\":\"table\"}],\"barpolar\":[{\"marker\":{\"line\":{\"color\":\"#E5ECF6\",\"width\":0.5},\"pattern\":{\"fillmode\":\"overlay\",\"size\":10,\"solidity\":0.2}},\"type\":\"barpolar\"}],\"pie\":[{\"automargin\":true,\"type\":\"pie\"}]},\"layout\":{\"autotypenumbers\":\"strict\",\"colorway\":[\"#636efa\",\"#EF553B\",\"#00cc96\",\"#ab63fa\",\"#FFA15A\",\"#19d3f3\",\"#FF6692\",\"#B6E880\",\"#FF97FF\",\"#FECB52\"],\"font\":{\"color\":\"#2a3f5f\"},\"hovermode\":\"closest\",\"hoverlabel\":{\"align\":\"left\"},\"paper_bgcolor\":\"white\",\"plot_bgcolor\":\"#E5ECF6\",\"polar\":{\"bgcolor\":\"#E5ECF6\",\"angularaxis\":{\"gridcolor\":\"white\",\"linecolor\":\"white\",\"ticks\":\"\"},\"radialaxis\":{\"gridcolor\":\"white\",\"linecolor\":\"white\",\"ticks\":\"\"}},\"ternary\":{\"bgcolor\":\"#E5ECF6\",\"aaxis\":{\"gridcolor\":\"white\",\"linecolor\":\"white\",\"ticks\":\"\"},\"baxis\":{\"gridcolor\":\"white\",\"linecolor\":\"white\",\"ticks\":\"\"},\"caxis\":{\"gridcolor\":\"white\",\"linecolor\":\"white\",\"ticks\":\"\"}},\"coloraxis\":{\"colorbar\":{\"outlinewidth\":0,\"ticks\":\"\"}},\"colorscale\":{\"sequential\":[[0.0,\"#0d0887\"],[0.1111111111111111,\"#46039f\"],[0.2222222222222222,\"#7201a8\"],[0.3333333333333333,\"#9c179e\"],[0.4444444444444444,\"#bd3786\"],[0.5555555555555556,\"#d8576b\"],[0.6666666666666666,\"#ed7953\"],[0.7777777777777778,\"#fb9f3a\"],[0.8888888888888888,\"#fdca26\"],[1.0,\"#f0f921\"]],\"sequentialminus\":[[0.0,\"#0d0887\"],[0.1111111111111111,\"#46039f\"],[0.2222222222222222,\"#7201a8\"],[0.3333333333333333,\"#9c179e\"],[0.4444444444444444,\"#bd3786\"],[0.5555555555555556,\"#d8576b\"],[0.6666666666666666,\"#ed7953\"],[0.7777777777777778,\"#fb9f3a\"],[0.8888888888888888,\"#fdca26\"],[1.0,\"#f0f921\"]],\"diverging\":[[0,\"#8e0152\"],[0.1,\"#c51b7d\"],[0.2,\"#de77ae\"],[0.3,\"#f1b6da\"],[0.4,\"#fde0ef\"],[0.5,\"#f7f7f7\"],[0.6,\"#e6f5d0\"],[0.7,\"#b8e186\"],[0.8,\"#7fbc41\"],[0.9,\"#4d9221\"],[1,\"#276419\"]]},\"xaxis\":{\"gridcolor\":\"white\",\"linecolor\":\"white\",\"ticks\":\"\",\"title\":{\"standoff\":15},\"zerolinecolor\":\"white\",\"automargin\":true,\"zerolinewidth\":2},\"yaxis\":{\"gridcolor\":\"white\",\"linecolor\":\"white\",\"ticks\":\"\",\"title\":{\"standoff\":15},\"zerolinecolor\":\"white\",\"automargin\":true,\"zerolinewidth\":2},\"scene\":{\"xaxis\":{\"backgroundcolor\":\"#E5ECF6\",\"gridcolor\":\"white\",\"linecolor\":\"white\",\"showbackground\":true,\"ticks\":\"\",\"zerolinecolor\":\"white\",\"gridwidth\":2},\"yaxis\":{\"backgroundcolor\":\"#E5ECF6\",\"gridcolor\":\"white\",\"linecolor\":\"white\",\"showbackground\":true,\"ticks\":\"\",\"zerolinecolor\":\"white\",\"gridwidth\":2},\"zaxis\":{\"backgroundcolor\":\"#E5ECF6\",\"gridcolor\":\"white\",\"linecolor\":\"white\",\"showbackground\":true,\"ticks\":\"\",\"zerolinecolor\":\"white\",\"gridwidth\":2}},\"shapedefaults\":{\"line\":{\"color\":\"#2a3f5f\"}},\"annotationdefaults\":{\"arrowcolor\":\"#2a3f5f\",\"arrowhead\":0,\"arrowwidth\":1},\"geo\":{\"bgcolor\":\"white\",\"landcolor\":\"#E5ECF6\",\"subunitcolor\":\"white\",\"showland\":true,\"showlakes\":true,\"lakecolor\":\"white\"},\"title\":{\"x\":0.05},\"mapbox\":{\"style\":\"light\"}}},\"yaxis\":{\"type\":\"log\",\"title\":{\"text\":\"Cost (2023 USD)\"}},\"showlegend\":false,\"xaxis\":{\"title\":{\"text\":\"Publication date\"}},\"title\":{\"text\":\"Cost of cloud compute to train frontier ML systems\"},\"autosize\":false,\"width\":800,\"height\":600,\"font\":{\"size\":14},\"margin\":{\"l\":10,\"r\":10,\"t\":40,\"b\":10}},                        {\"responsive\": true}                    ).then(function(){\n",
       "                            \n",
       "var gd = document.getElementById('e9a888e3-bf19-4702-aa47-0552d18a9beb');\n",
       "var x = new MutationObserver(function (mutations, observer) {{\n",
       "        var display = window.getComputedStyle(gd).display;\n",
       "        if (!display || display === 'none') {{\n",
       "            console.log([gd, 'removed!']);\n",
       "            Plotly.purge(gd);\n",
       "            observer.disconnect();\n",
       "        }}\n",
       "}});\n",
       "\n",
       "// Listen for the removal of the full notebook cells\n",
       "var notebookContainer = gd.closest('#notebook-container');\n",
       "if (notebookContainer) {{\n",
       "    x.observe(notebookContainer, {childList: true});\n",
       "}}\n",
       "\n",
       "// Listen for the clearing of the current output cell\n",
       "var outputEl = gd.closest('.output');\n",
       "if (outputEl) {{\n",
       "    x.observe(outputEl, {childList: true});\n",
       "}}\n",
       "\n",
       "                        })                };                });            </script>        </div>"
      ]
     },
     "metadata": {},
     "output_type": "display_data"
    }
   ],
   "source": [
    "import plotly.graph_objects as go\n",
    "\n",
    "fig = go.Figure()\n",
    "for i, row in frontier_pcd_df.iterrows():\n",
    "    system = row['System']\n",
    "    cost = row['Cost (inflation-adjusted)']\n",
    "    if cost is None:\n",
    "        continue\n",
    "    publication_date = row['Publication date']\n",
    "\n",
    "    fig.add_trace(go.Scatter(\n",
    "        x=[publication_date],\n",
    "        y=[cost],\n",
    "        name=system,\n",
    "        text=system,\n",
    "        textposition='top center',\n",
    "        line=dict(color='#034752'),\n",
    "        mode='markers+text',\n",
    "    ))\n",
    "\n",
    "# log y axis\n",
    "fig.update_yaxes(type=\"log\")\n",
    "# no legend\n",
    "fig.update_layout(showlegend=False)\n",
    "\n",
    "# axis labels\n",
    "fig.update_xaxes(title_text='Publication date')\n",
    "fig.update_yaxes(title_text='Cost (2023 USD)')\n",
    "\n",
    "# title\n",
    "fig.update_layout(title_text='Cost of cloud compute to train frontier ML systems')\n",
    "\n",
    "# update size\n",
    "fig.update_layout(\n",
    "    autosize=False,\n",
    "    width=800,\n",
    "    height=600,\n",
    ")\n",
    "\n",
    "# font size\n",
    "fig.update_layout(\n",
    "    font=dict(\n",
    "        size=14,\n",
    "    )\n",
    ")\n",
    "\n",
    "# axis limits\n",
    "# fig.update_xaxes(range=['2017-01-01', '2025-01-01'])\n",
    "# fig.update_yaxes(range=[5, 8])\n",
    "\n",
    "# margins\n",
    "fig.update_layout(margin=dict(l=10, r=10, t=40, b=10))\n",
    "\n",
    "save_plot(fig, 'results/', 'cost_scatter-inflation_adjusted')\n",
    "\n",
    "fig.show()"
   ]
  },
  {
   "cell_type": "code",
   "execution_count": 37,
   "metadata": {
    "ExecuteTime": {
     "end_time": "2024-02-07T16:04:39.597618200Z",
     "start_time": "2024-02-07T16:04:38.651688600Z"
    },
    "scrolled": true
   },
   "outputs": [
    {
     "data": {
      "application/vnd.plotly.v1+json": {
       "config": {
        "plotlyServerURL": "https://plot.ly"
       },
       "data": [
        {
         "marker": {
          "color": "#034752"
         },
         "name": "AlphaGo Fan",
         "type": "bar",
         "x": [
          "AlphaGo Fan"
         ],
         "y": [
          233674.55999999997
         ]
        },
        {
         "marker": {
          "color": "#034752"
         },
         "name": "AlphaGo Lee",
         "type": "bar",
         "x": [
          "AlphaGo Lee"
         ],
         "y": [
          233674.55999999997
         ]
        },
        {
         "marker": {
          "color": "#034752"
         },
         "name": "GNMT",
         "type": "bar",
         "x": [
          "GNMT"
         ],
         "y": [
          580608
         ]
        },
        {
         "marker": {
          "color": "#034752"
         },
         "name": "NASv3 (CIFAR-10)",
         "type": "bar",
         "x": [
          "NASv3 (CIFAR-10)"
         ],
         "y": [
          600320
         ]
        },
        {
         "marker": {
          "color": "#034752"
         },
         "name": "JFT",
         "type": "bar",
         "x": [
          "JFT"
         ],
         "y": [
          100800
         ]
        },
        {
         "marker": {
          "color": "#034752"
         },
         "name": "AlphaZero",
         "type": "bar",
         "x": [
          "AlphaZero"
         ],
         "y": [
          94481.7408
         ]
        },
        {
         "marker": {
          "color": "#034752"
         },
         "name": "AmoebaNet-A (F=448)",
         "type": "bar",
         "x": [
          "AmoebaNet-A (F=448)"
         ],
         "y": [
          3988.660978720319
         ]
        },
        {
         "marker": {
          "color": "#034752"
         },
         "name": "ResNeXt-101 32x48d",
         "type": "bar",
         "x": [
          "ResNeXt-101 32x48d"
         ],
         "y": [
          962569.4400000001
         ]
        },
        {
         "marker": {
          "color": "#034752"
         },
         "name": "FTW",
         "type": "bar",
         "x": [
          "FTW"
         ],
         "y": [
          1274258.5920000002
         ]
        },
        {
         "marker": {
          "color": "#034752"
         },
         "name": "BigGAN-deep 512x512",
         "type": "bar",
         "x": [
          "BigGAN-deep 512x512"
         ],
         "y": [
          24576
         ]
        },
        {
         "marker": {
          "color": "#034752"
         },
         "name": "RoBERTa Large",
         "type": "bar",
         "x": [
          "RoBERTa Large"
         ],
         "y": [
          281395.2
         ]
        },
        {
         "marker": {
          "color": "#034752"
         },
         "name": "Megatron-LM (8.3B)",
         "type": "bar",
         "x": [
          "Megatron-LM (8.3B)"
         ],
         "y": [
          383400.96
         ]
        },
        {
         "marker": {
          "color": "#034752"
         },
         "name": "T5-3B",
         "type": "bar",
         "x": [
          "T5-3B"
         ],
         "y": [
          147214.9728
         ]
        },
        {
         "marker": {
          "color": "#034752"
         },
         "name": "T5-11B",
         "type": "bar",
         "x": [
          "T5-11B"
         ],
         "y": [
          310883.328
         ]
        },
        {
         "marker": {
          "color": "#034752"
         },
         "name": "AlphaStar",
         "type": "bar",
         "x": [
          "AlphaStar"
         ],
         "y": [
          510935.04
         ]
        },
        {
         "marker": {
          "color": "#034752"
         },
         "name": "OpenAI Five Rerun",
         "type": "bar",
         "x": [
          "OpenAI Five Rerun"
         ],
         "y": [
          1466772.48
         ]
        },
        {
         "marker": {
          "color": "#034752"
         },
         "name": "Meena",
         "type": "bar",
         "x": [
          "Meena"
         ],
         "y": [
          928972.8
         ]
        },
        {
         "marker": {
          "color": "#034752"
         },
         "name": "Turing-NLG",
         "type": "bar",
         "x": [
          "Turing-NLG"
         ],
         "y": [
          605269.3504
         ]
        },
        {
         "marker": {
          "color": "#034752"
         },
         "name": "GPT-3 175B (davinci)",
         "type": "bar",
         "x": [
          "GPT-3 175B (davinci)"
         ],
         "y": [
          8134080
         ]
        },
        {
         "marker": {
          "color": "#034752"
         },
         "name": "GShard (dense)",
         "type": "bar",
         "x": [
          "GShard (dense)"
         ],
         "y": [
          1300561.92
         ]
        },
        {
         "marker": {
          "color": "#034752"
         },
         "name": "ALIGN",
         "type": "bar",
         "x": [
          "ALIGN"
         ],
         "y": [
          224050.176
         ]
        },
        {
         "marker": {
          "color": "#034752"
         },
         "name": "Megatron-Turing NLG 530B",
         "type": "bar",
         "x": [
          "Megatron-Turing NLG 530B"
         ],
         "y": [
          9037952
         ]
        },
        {
         "marker": {
          "color": "#034752"
         },
         "name": "Gopher (280B)",
         "type": "bar",
         "x": [
          "Gopher (280B)"
         ],
         "y": [
          4748083.2
         ]
        },
        {
         "marker": {
          "color": "#034752"
         },
         "name": "GLaM",
         "type": "bar",
         "x": [
          "GLaM"
         ],
         "y": [
          2839531.5199999996
         ]
        },
        {
         "marker": {
          "color": "#034752"
         },
         "name": "LaMDA",
         "type": "bar",
         "x": [
          "LaMDA"
         ],
         "y": [
          1786982.4
         ]
        },
        {
         "marker": {
          "color": "#034752"
         },
         "name": "Chinchilla",
         "type": "bar",
         "x": [
          "Chinchilla"
         ],
         "y": [
          3513681.2031999994
         ]
        },
        {
         "marker": {
          "color": "#034752"
         },
         "name": "PaLM (540B)",
         "type": "bar",
         "x": [
          "PaLM (540B)"
         ],
         "y": [
          17062133.759999998
         ]
        },
        {
         "marker": {
          "color": "#034752"
         },
         "name": "OPT-175B",
         "type": "bar",
         "x": [
          "OPT-175B"
         ],
         "y": [
          2437632
         ]
        },
        {
         "marker": {
          "color": "#034752"
         },
         "name": "Minerva (540B)",
         "type": "bar",
         "x": [
          "Minerva (540B)"
         ],
         "y": [
          18508922.88
         ]
        },
        {
         "marker": {
          "color": "#034752"
         },
         "name": "GPT-3.5 (text-davinci-003)",
         "type": "bar",
         "x": [
          "GPT-3.5 (text-davinci-003)"
         ],
         "y": [
          21853839.36
         ]
        },
        {
         "marker": {
          "color": "#034752"
         },
         "name": "LLaMA-65B",
         "type": "bar",
         "x": [
          "LLaMA-65B"
         ],
         "y": [
          2406400
         ]
        },
        {
         "marker": {
          "color": "#034752"
         },
         "name": "GPT-4",
         "type": "bar",
         "x": [
          "GPT-4"
         ],
         "y": [
          136800000
         ]
        },
        {
         "marker": {
          "color": "#034752"
         },
         "name": "PaLM 2",
         "type": "bar",
         "x": [
          "PaLM 2"
         ],
         "y": [
          18484705.792
         ]
        },
        {
         "marker": {
          "color": "#034752"
         },
         "name": "Llama 2-70B",
         "type": "bar",
         "x": [
          "Llama 2-70B"
         ],
         "y": [
          31518720
         ]
        },
        {
         "marker": {
          "color": "#034752"
         },
         "name": "Falcon 180B",
         "type": "bar",
         "x": [
          "Falcon 180B"
         ],
         "y": [
          42467328
         ]
        }
       ],
       "layout": {
        "autosize": false,
        "font": {
         "size": 14
        },
        "height": 600,
        "margin": {
         "b": 10,
         "l": 10,
         "r": 10,
         "t": 40
        },
        "showlegend": false,
        "template": {
         "data": {
          "bar": [
           {
            "error_x": {
             "color": "#2a3f5f"
            },
            "error_y": {
             "color": "#2a3f5f"
            },
            "marker": {
             "line": {
              "color": "#E5ECF6",
              "width": 0.5
             },
             "pattern": {
              "fillmode": "overlay",
              "size": 10,
              "solidity": 0.2
             }
            },
            "type": "bar"
           }
          ],
          "barpolar": [
           {
            "marker": {
             "line": {
              "color": "#E5ECF6",
              "width": 0.5
             },
             "pattern": {
              "fillmode": "overlay",
              "size": 10,
              "solidity": 0.2
             }
            },
            "type": "barpolar"
           }
          ],
          "carpet": [
           {
            "aaxis": {
             "endlinecolor": "#2a3f5f",
             "gridcolor": "white",
             "linecolor": "white",
             "minorgridcolor": "white",
             "startlinecolor": "#2a3f5f"
            },
            "baxis": {
             "endlinecolor": "#2a3f5f",
             "gridcolor": "white",
             "linecolor": "white",
             "minorgridcolor": "white",
             "startlinecolor": "#2a3f5f"
            },
            "type": "carpet"
           }
          ],
          "choropleth": [
           {
            "colorbar": {
             "outlinewidth": 0,
             "ticks": ""
            },
            "type": "choropleth"
           }
          ],
          "contour": [
           {
            "colorbar": {
             "outlinewidth": 0,
             "ticks": ""
            },
            "colorscale": [
             [
              0,
              "#0d0887"
             ],
             [
              0.1111111111111111,
              "#46039f"
             ],
             [
              0.2222222222222222,
              "#7201a8"
             ],
             [
              0.3333333333333333,
              "#9c179e"
             ],
             [
              0.4444444444444444,
              "#bd3786"
             ],
             [
              0.5555555555555556,
              "#d8576b"
             ],
             [
              0.6666666666666666,
              "#ed7953"
             ],
             [
              0.7777777777777778,
              "#fb9f3a"
             ],
             [
              0.8888888888888888,
              "#fdca26"
             ],
             [
              1,
              "#f0f921"
             ]
            ],
            "type": "contour"
           }
          ],
          "contourcarpet": [
           {
            "colorbar": {
             "outlinewidth": 0,
             "ticks": ""
            },
            "type": "contourcarpet"
           }
          ],
          "heatmap": [
           {
            "colorbar": {
             "outlinewidth": 0,
             "ticks": ""
            },
            "colorscale": [
             [
              0,
              "#0d0887"
             ],
             [
              0.1111111111111111,
              "#46039f"
             ],
             [
              0.2222222222222222,
              "#7201a8"
             ],
             [
              0.3333333333333333,
              "#9c179e"
             ],
             [
              0.4444444444444444,
              "#bd3786"
             ],
             [
              0.5555555555555556,
              "#d8576b"
             ],
             [
              0.6666666666666666,
              "#ed7953"
             ],
             [
              0.7777777777777778,
              "#fb9f3a"
             ],
             [
              0.8888888888888888,
              "#fdca26"
             ],
             [
              1,
              "#f0f921"
             ]
            ],
            "type": "heatmap"
           }
          ],
          "heatmapgl": [
           {
            "colorbar": {
             "outlinewidth": 0,
             "ticks": ""
            },
            "colorscale": [
             [
              0,
              "#0d0887"
             ],
             [
              0.1111111111111111,
              "#46039f"
             ],
             [
              0.2222222222222222,
              "#7201a8"
             ],
             [
              0.3333333333333333,
              "#9c179e"
             ],
             [
              0.4444444444444444,
              "#bd3786"
             ],
             [
              0.5555555555555556,
              "#d8576b"
             ],
             [
              0.6666666666666666,
              "#ed7953"
             ],
             [
              0.7777777777777778,
              "#fb9f3a"
             ],
             [
              0.8888888888888888,
              "#fdca26"
             ],
             [
              1,
              "#f0f921"
             ]
            ],
            "type": "heatmapgl"
           }
          ],
          "histogram": [
           {
            "marker": {
             "pattern": {
              "fillmode": "overlay",
              "size": 10,
              "solidity": 0.2
             }
            },
            "type": "histogram"
           }
          ],
          "histogram2d": [
           {
            "colorbar": {
             "outlinewidth": 0,
             "ticks": ""
            },
            "colorscale": [
             [
              0,
              "#0d0887"
             ],
             [
              0.1111111111111111,
              "#46039f"
             ],
             [
              0.2222222222222222,
              "#7201a8"
             ],
             [
              0.3333333333333333,
              "#9c179e"
             ],
             [
              0.4444444444444444,
              "#bd3786"
             ],
             [
              0.5555555555555556,
              "#d8576b"
             ],
             [
              0.6666666666666666,
              "#ed7953"
             ],
             [
              0.7777777777777778,
              "#fb9f3a"
             ],
             [
              0.8888888888888888,
              "#fdca26"
             ],
             [
              1,
              "#f0f921"
             ]
            ],
            "type": "histogram2d"
           }
          ],
          "histogram2dcontour": [
           {
            "colorbar": {
             "outlinewidth": 0,
             "ticks": ""
            },
            "colorscale": [
             [
              0,
              "#0d0887"
             ],
             [
              0.1111111111111111,
              "#46039f"
             ],
             [
              0.2222222222222222,
              "#7201a8"
             ],
             [
              0.3333333333333333,
              "#9c179e"
             ],
             [
              0.4444444444444444,
              "#bd3786"
             ],
             [
              0.5555555555555556,
              "#d8576b"
             ],
             [
              0.6666666666666666,
              "#ed7953"
             ],
             [
              0.7777777777777778,
              "#fb9f3a"
             ],
             [
              0.8888888888888888,
              "#fdca26"
             ],
             [
              1,
              "#f0f921"
             ]
            ],
            "type": "histogram2dcontour"
           }
          ],
          "mesh3d": [
           {
            "colorbar": {
             "outlinewidth": 0,
             "ticks": ""
            },
            "type": "mesh3d"
           }
          ],
          "parcoords": [
           {
            "line": {
             "colorbar": {
              "outlinewidth": 0,
              "ticks": ""
             }
            },
            "type": "parcoords"
           }
          ],
          "pie": [
           {
            "automargin": true,
            "type": "pie"
           }
          ],
          "scatter": [
           {
            "fillpattern": {
             "fillmode": "overlay",
             "size": 10,
             "solidity": 0.2
            },
            "type": "scatter"
           }
          ],
          "scatter3d": [
           {
            "line": {
             "colorbar": {
              "outlinewidth": 0,
              "ticks": ""
             }
            },
            "marker": {
             "colorbar": {
              "outlinewidth": 0,
              "ticks": ""
             }
            },
            "type": "scatter3d"
           }
          ],
          "scattercarpet": [
           {
            "marker": {
             "colorbar": {
              "outlinewidth": 0,
              "ticks": ""
             }
            },
            "type": "scattercarpet"
           }
          ],
          "scattergeo": [
           {
            "marker": {
             "colorbar": {
              "outlinewidth": 0,
              "ticks": ""
             }
            },
            "type": "scattergeo"
           }
          ],
          "scattergl": [
           {
            "marker": {
             "colorbar": {
              "outlinewidth": 0,
              "ticks": ""
             }
            },
            "type": "scattergl"
           }
          ],
          "scattermapbox": [
           {
            "marker": {
             "colorbar": {
              "outlinewidth": 0,
              "ticks": ""
             }
            },
            "type": "scattermapbox"
           }
          ],
          "scatterpolar": [
           {
            "marker": {
             "colorbar": {
              "outlinewidth": 0,
              "ticks": ""
             }
            },
            "type": "scatterpolar"
           }
          ],
          "scatterpolargl": [
           {
            "marker": {
             "colorbar": {
              "outlinewidth": 0,
              "ticks": ""
             }
            },
            "type": "scatterpolargl"
           }
          ],
          "scatterternary": [
           {
            "marker": {
             "colorbar": {
              "outlinewidth": 0,
              "ticks": ""
             }
            },
            "type": "scatterternary"
           }
          ],
          "surface": [
           {
            "colorbar": {
             "outlinewidth": 0,
             "ticks": ""
            },
            "colorscale": [
             [
              0,
              "#0d0887"
             ],
             [
              0.1111111111111111,
              "#46039f"
             ],
             [
              0.2222222222222222,
              "#7201a8"
             ],
             [
              0.3333333333333333,
              "#9c179e"
             ],
             [
              0.4444444444444444,
              "#bd3786"
             ],
             [
              0.5555555555555556,
              "#d8576b"
             ],
             [
              0.6666666666666666,
              "#ed7953"
             ],
             [
              0.7777777777777778,
              "#fb9f3a"
             ],
             [
              0.8888888888888888,
              "#fdca26"
             ],
             [
              1,
              "#f0f921"
             ]
            ],
            "type": "surface"
           }
          ],
          "table": [
           {
            "cells": {
             "fill": {
              "color": "#EBF0F8"
             },
             "line": {
              "color": "white"
             }
            },
            "header": {
             "fill": {
              "color": "#C8D4E3"
             },
             "line": {
              "color": "white"
             }
            },
            "type": "table"
           }
          ]
         },
         "layout": {
          "annotationdefaults": {
           "arrowcolor": "#2a3f5f",
           "arrowhead": 0,
           "arrowwidth": 1
          },
          "autotypenumbers": "strict",
          "coloraxis": {
           "colorbar": {
            "outlinewidth": 0,
            "ticks": ""
           }
          },
          "colorscale": {
           "diverging": [
            [
             0,
             "#8e0152"
            ],
            [
             0.1,
             "#c51b7d"
            ],
            [
             0.2,
             "#de77ae"
            ],
            [
             0.3,
             "#f1b6da"
            ],
            [
             0.4,
             "#fde0ef"
            ],
            [
             0.5,
             "#f7f7f7"
            ],
            [
             0.6,
             "#e6f5d0"
            ],
            [
             0.7,
             "#b8e186"
            ],
            [
             0.8,
             "#7fbc41"
            ],
            [
             0.9,
             "#4d9221"
            ],
            [
             1,
             "#276419"
            ]
           ],
           "sequential": [
            [
             0,
             "#0d0887"
            ],
            [
             0.1111111111111111,
             "#46039f"
            ],
            [
             0.2222222222222222,
             "#7201a8"
            ],
            [
             0.3333333333333333,
             "#9c179e"
            ],
            [
             0.4444444444444444,
             "#bd3786"
            ],
            [
             0.5555555555555556,
             "#d8576b"
            ],
            [
             0.6666666666666666,
             "#ed7953"
            ],
            [
             0.7777777777777778,
             "#fb9f3a"
            ],
            [
             0.8888888888888888,
             "#fdca26"
            ],
            [
             1,
             "#f0f921"
            ]
           ],
           "sequentialminus": [
            [
             0,
             "#0d0887"
            ],
            [
             0.1111111111111111,
             "#46039f"
            ],
            [
             0.2222222222222222,
             "#7201a8"
            ],
            [
             0.3333333333333333,
             "#9c179e"
            ],
            [
             0.4444444444444444,
             "#bd3786"
            ],
            [
             0.5555555555555556,
             "#d8576b"
            ],
            [
             0.6666666666666666,
             "#ed7953"
            ],
            [
             0.7777777777777778,
             "#fb9f3a"
            ],
            [
             0.8888888888888888,
             "#fdca26"
            ],
            [
             1,
             "#f0f921"
            ]
           ]
          },
          "colorway": [
           "#636efa",
           "#EF553B",
           "#00cc96",
           "#ab63fa",
           "#FFA15A",
           "#19d3f3",
           "#FF6692",
           "#B6E880",
           "#FF97FF",
           "#FECB52"
          ],
          "font": {
           "color": "#2a3f5f"
          },
          "geo": {
           "bgcolor": "white",
           "lakecolor": "white",
           "landcolor": "#E5ECF6",
           "showlakes": true,
           "showland": true,
           "subunitcolor": "white"
          },
          "hoverlabel": {
           "align": "left"
          },
          "hovermode": "closest",
          "mapbox": {
           "style": "light"
          },
          "paper_bgcolor": "white",
          "plot_bgcolor": "#E5ECF6",
          "polar": {
           "angularaxis": {
            "gridcolor": "white",
            "linecolor": "white",
            "ticks": ""
           },
           "bgcolor": "#E5ECF6",
           "radialaxis": {
            "gridcolor": "white",
            "linecolor": "white",
            "ticks": ""
           }
          },
          "scene": {
           "xaxis": {
            "backgroundcolor": "#E5ECF6",
            "gridcolor": "white",
            "gridwidth": 2,
            "linecolor": "white",
            "showbackground": true,
            "ticks": "",
            "zerolinecolor": "white"
           },
           "yaxis": {
            "backgroundcolor": "#E5ECF6",
            "gridcolor": "white",
            "gridwidth": 2,
            "linecolor": "white",
            "showbackground": true,
            "ticks": "",
            "zerolinecolor": "white"
           },
           "zaxis": {
            "backgroundcolor": "#E5ECF6",
            "gridcolor": "white",
            "gridwidth": 2,
            "linecolor": "white",
            "showbackground": true,
            "ticks": "",
            "zerolinecolor": "white"
           }
          },
          "shapedefaults": {
           "line": {
            "color": "#2a3f5f"
           }
          },
          "ternary": {
           "aaxis": {
            "gridcolor": "white",
            "linecolor": "white",
            "ticks": ""
           },
           "baxis": {
            "gridcolor": "white",
            "linecolor": "white",
            "ticks": ""
           },
           "bgcolor": "#E5ECF6",
           "caxis": {
            "gridcolor": "white",
            "linecolor": "white",
            "ticks": ""
           }
          },
          "title": {
           "x": 0.05
          },
          "xaxis": {
           "automargin": true,
           "gridcolor": "white",
           "linecolor": "white",
           "ticks": "",
           "title": {
            "standoff": 15
           },
           "zerolinecolor": "white",
           "zerolinewidth": 2
          },
          "yaxis": {
           "automargin": true,
           "gridcolor": "white",
           "linecolor": "white",
           "ticks": "",
           "title": {
            "standoff": 15
           },
           "zerolinecolor": "white",
           "zerolinewidth": 2
          }
         }
        },
        "title": {
         "text": "Cost of cloud compute to train frontier ML systems"
        },
        "width": 800,
        "xaxis": {
         "title": {
          "text": "System"
         }
        },
        "yaxis": {
         "range": [
          0,
          8
         ],
         "title": {
          "text": "Cost (USD, nominal)"
         },
         "type": "log"
        }
       }
      },
      "text/html": [
       "<div>                            <div id=\"508db79a-934a-41f4-aaf3-8bdddf385146\" class=\"plotly-graph-div\" style=\"height:600px; width:800px;\"></div>            <script type=\"text/javascript\">                require([\"plotly\"], function(Plotly) {                    window.PLOTLYENV=window.PLOTLYENV || {};                                    if (document.getElementById(\"508db79a-934a-41f4-aaf3-8bdddf385146\")) {                    Plotly.newPlot(                        \"508db79a-934a-41f4-aaf3-8bdddf385146\",                        [{\"marker\":{\"color\":\"#034752\"},\"name\":\"AlphaGo Fan\",\"x\":[\"AlphaGo Fan\"],\"y\":[233674.55999999997],\"type\":\"bar\"},{\"marker\":{\"color\":\"#034752\"},\"name\":\"AlphaGo Lee\",\"x\":[\"AlphaGo Lee\"],\"y\":[233674.55999999997],\"type\":\"bar\"},{\"marker\":{\"color\":\"#034752\"},\"name\":\"GNMT\",\"x\":[\"GNMT\"],\"y\":[580608.0],\"type\":\"bar\"},{\"marker\":{\"color\":\"#034752\"},\"name\":\"NASv3 (CIFAR-10)\",\"x\":[\"NASv3 (CIFAR-10)\"],\"y\":[600320.0],\"type\":\"bar\"},{\"marker\":{\"color\":\"#034752\"},\"name\":\"JFT\",\"x\":[\"JFT\"],\"y\":[100800.0],\"type\":\"bar\"},{\"marker\":{\"color\":\"#034752\"},\"name\":\"AlphaZero\",\"x\":[\"AlphaZero\"],\"y\":[94481.7408],\"type\":\"bar\"},{\"marker\":{\"color\":\"#034752\"},\"name\":\"AmoebaNet-A (F=448)\",\"x\":[\"AmoebaNet-A (F=448)\"],\"y\":[3988.660978720319],\"type\":\"bar\"},{\"marker\":{\"color\":\"#034752\"},\"name\":\"ResNeXt-101 32x48d\",\"x\":[\"ResNeXt-101 32x48d\"],\"y\":[962569.4400000001],\"type\":\"bar\"},{\"marker\":{\"color\":\"#034752\"},\"name\":\"FTW\",\"x\":[\"FTW\"],\"y\":[1274258.5920000002],\"type\":\"bar\"},{\"marker\":{\"color\":\"#034752\"},\"name\":\"BigGAN-deep 512x512\",\"x\":[\"BigGAN-deep 512x512\"],\"y\":[24576.0],\"type\":\"bar\"},{\"marker\":{\"color\":\"#034752\"},\"name\":\"RoBERTa Large\",\"x\":[\"RoBERTa Large\"],\"y\":[281395.2],\"type\":\"bar\"},{\"marker\":{\"color\":\"#034752\"},\"name\":\"Megatron-LM (8.3B)\",\"x\":[\"Megatron-LM (8.3B)\"],\"y\":[383400.96],\"type\":\"bar\"},{\"marker\":{\"color\":\"#034752\"},\"name\":\"T5-3B\",\"x\":[\"T5-3B\"],\"y\":[147214.9728],\"type\":\"bar\"},{\"marker\":{\"color\":\"#034752\"},\"name\":\"T5-11B\",\"x\":[\"T5-11B\"],\"y\":[310883.328],\"type\":\"bar\"},{\"marker\":{\"color\":\"#034752\"},\"name\":\"AlphaStar\",\"x\":[\"AlphaStar\"],\"y\":[510935.04],\"type\":\"bar\"},{\"marker\":{\"color\":\"#034752\"},\"name\":\"OpenAI Five Rerun\",\"x\":[\"OpenAI Five Rerun\"],\"y\":[1466772.48],\"type\":\"bar\"},{\"marker\":{\"color\":\"#034752\"},\"name\":\"Meena\",\"x\":[\"Meena\"],\"y\":[928972.8],\"type\":\"bar\"},{\"marker\":{\"color\":\"#034752\"},\"name\":\"Turing-NLG\",\"x\":[\"Turing-NLG\"],\"y\":[605269.3504],\"type\":\"bar\"},{\"marker\":{\"color\":\"#034752\"},\"name\":\"GPT-3 175B (davinci)\",\"x\":[\"GPT-3 175B (davinci)\"],\"y\":[8134080.0],\"type\":\"bar\"},{\"marker\":{\"color\":\"#034752\"},\"name\":\"GShard (dense)\",\"x\":[\"GShard (dense)\"],\"y\":[1300561.92],\"type\":\"bar\"},{\"marker\":{\"color\":\"#034752\"},\"name\":\"ALIGN\",\"x\":[\"ALIGN\"],\"y\":[224050.176],\"type\":\"bar\"},{\"marker\":{\"color\":\"#034752\"},\"name\":\"Megatron-Turing NLG 530B\",\"x\":[\"Megatron-Turing NLG 530B\"],\"y\":[9037952.0],\"type\":\"bar\"},{\"marker\":{\"color\":\"#034752\"},\"name\":\"Gopher (280B)\",\"x\":[\"Gopher (280B)\"],\"y\":[4748083.2],\"type\":\"bar\"},{\"marker\":{\"color\":\"#034752\"},\"name\":\"GLaM\",\"x\":[\"GLaM\"],\"y\":[2839531.5199999996],\"type\":\"bar\"},{\"marker\":{\"color\":\"#034752\"},\"name\":\"LaMDA\",\"x\":[\"LaMDA\"],\"y\":[1786982.4],\"type\":\"bar\"},{\"marker\":{\"color\":\"#034752\"},\"name\":\"Chinchilla\",\"x\":[\"Chinchilla\"],\"y\":[3513681.2031999994],\"type\":\"bar\"},{\"marker\":{\"color\":\"#034752\"},\"name\":\"PaLM (540B)\",\"x\":[\"PaLM (540B)\"],\"y\":[17062133.759999998],\"type\":\"bar\"},{\"marker\":{\"color\":\"#034752\"},\"name\":\"OPT-175B\",\"x\":[\"OPT-175B\"],\"y\":[2437632.0],\"type\":\"bar\"},{\"marker\":{\"color\":\"#034752\"},\"name\":\"Minerva (540B)\",\"x\":[\"Minerva (540B)\"],\"y\":[18508922.88],\"type\":\"bar\"},{\"marker\":{\"color\":\"#034752\"},\"name\":\"GPT-3.5 (text-davinci-003)\",\"x\":[\"GPT-3.5 (text-davinci-003)\"],\"y\":[21853839.36],\"type\":\"bar\"},{\"marker\":{\"color\":\"#034752\"},\"name\":\"LLaMA-65B\",\"x\":[\"LLaMA-65B\"],\"y\":[2406400.0],\"type\":\"bar\"},{\"marker\":{\"color\":\"#034752\"},\"name\":\"GPT-4\",\"x\":[\"GPT-4\"],\"y\":[136800000.0],\"type\":\"bar\"},{\"marker\":{\"color\":\"#034752\"},\"name\":\"PaLM 2\",\"x\":[\"PaLM 2\"],\"y\":[18484705.792],\"type\":\"bar\"},{\"marker\":{\"color\":\"#034752\"},\"name\":\"Llama 2-70B\",\"x\":[\"Llama 2-70B\"],\"y\":[31518720.0],\"type\":\"bar\"},{\"marker\":{\"color\":\"#034752\"},\"name\":\"Falcon 180B\",\"x\":[\"Falcon 180B\"],\"y\":[42467328.0],\"type\":\"bar\"}],                        {\"template\":{\"data\":{\"histogram2dcontour\":[{\"type\":\"histogram2dcontour\",\"colorbar\":{\"outlinewidth\":0,\"ticks\":\"\"},\"colorscale\":[[0.0,\"#0d0887\"],[0.1111111111111111,\"#46039f\"],[0.2222222222222222,\"#7201a8\"],[0.3333333333333333,\"#9c179e\"],[0.4444444444444444,\"#bd3786\"],[0.5555555555555556,\"#d8576b\"],[0.6666666666666666,\"#ed7953\"],[0.7777777777777778,\"#fb9f3a\"],[0.8888888888888888,\"#fdca26\"],[1.0,\"#f0f921\"]]}],\"choropleth\":[{\"type\":\"choropleth\",\"colorbar\":{\"outlinewidth\":0,\"ticks\":\"\"}}],\"histogram2d\":[{\"type\":\"histogram2d\",\"colorbar\":{\"outlinewidth\":0,\"ticks\":\"\"},\"colorscale\":[[0.0,\"#0d0887\"],[0.1111111111111111,\"#46039f\"],[0.2222222222222222,\"#7201a8\"],[0.3333333333333333,\"#9c179e\"],[0.4444444444444444,\"#bd3786\"],[0.5555555555555556,\"#d8576b\"],[0.6666666666666666,\"#ed7953\"],[0.7777777777777778,\"#fb9f3a\"],[0.8888888888888888,\"#fdca26\"],[1.0,\"#f0f921\"]]}],\"heatmap\":[{\"type\":\"heatmap\",\"colorbar\":{\"outlinewidth\":0,\"ticks\":\"\"},\"colorscale\":[[0.0,\"#0d0887\"],[0.1111111111111111,\"#46039f\"],[0.2222222222222222,\"#7201a8\"],[0.3333333333333333,\"#9c179e\"],[0.4444444444444444,\"#bd3786\"],[0.5555555555555556,\"#d8576b\"],[0.6666666666666666,\"#ed7953\"],[0.7777777777777778,\"#fb9f3a\"],[0.8888888888888888,\"#fdca26\"],[1.0,\"#f0f921\"]]}],\"heatmapgl\":[{\"type\":\"heatmapgl\",\"colorbar\":{\"outlinewidth\":0,\"ticks\":\"\"},\"colorscale\":[[0.0,\"#0d0887\"],[0.1111111111111111,\"#46039f\"],[0.2222222222222222,\"#7201a8\"],[0.3333333333333333,\"#9c179e\"],[0.4444444444444444,\"#bd3786\"],[0.5555555555555556,\"#d8576b\"],[0.6666666666666666,\"#ed7953\"],[0.7777777777777778,\"#fb9f3a\"],[0.8888888888888888,\"#fdca26\"],[1.0,\"#f0f921\"]]}],\"contourcarpet\":[{\"type\":\"contourcarpet\",\"colorbar\":{\"outlinewidth\":0,\"ticks\":\"\"}}],\"contour\":[{\"type\":\"contour\",\"colorbar\":{\"outlinewidth\":0,\"ticks\":\"\"},\"colorscale\":[[0.0,\"#0d0887\"],[0.1111111111111111,\"#46039f\"],[0.2222222222222222,\"#7201a8\"],[0.3333333333333333,\"#9c179e\"],[0.4444444444444444,\"#bd3786\"],[0.5555555555555556,\"#d8576b\"],[0.6666666666666666,\"#ed7953\"],[0.7777777777777778,\"#fb9f3a\"],[0.8888888888888888,\"#fdca26\"],[1.0,\"#f0f921\"]]}],\"surface\":[{\"type\":\"surface\",\"colorbar\":{\"outlinewidth\":0,\"ticks\":\"\"},\"colorscale\":[[0.0,\"#0d0887\"],[0.1111111111111111,\"#46039f\"],[0.2222222222222222,\"#7201a8\"],[0.3333333333333333,\"#9c179e\"],[0.4444444444444444,\"#bd3786\"],[0.5555555555555556,\"#d8576b\"],[0.6666666666666666,\"#ed7953\"],[0.7777777777777778,\"#fb9f3a\"],[0.8888888888888888,\"#fdca26\"],[1.0,\"#f0f921\"]]}],\"mesh3d\":[{\"type\":\"mesh3d\",\"colorbar\":{\"outlinewidth\":0,\"ticks\":\"\"}}],\"scatter\":[{\"fillpattern\":{\"fillmode\":\"overlay\",\"size\":10,\"solidity\":0.2},\"type\":\"scatter\"}],\"parcoords\":[{\"type\":\"parcoords\",\"line\":{\"colorbar\":{\"outlinewidth\":0,\"ticks\":\"\"}}}],\"scatterpolargl\":[{\"type\":\"scatterpolargl\",\"marker\":{\"colorbar\":{\"outlinewidth\":0,\"ticks\":\"\"}}}],\"bar\":[{\"error_x\":{\"color\":\"#2a3f5f\"},\"error_y\":{\"color\":\"#2a3f5f\"},\"marker\":{\"line\":{\"color\":\"#E5ECF6\",\"width\":0.5},\"pattern\":{\"fillmode\":\"overlay\",\"size\":10,\"solidity\":0.2}},\"type\":\"bar\"}],\"scattergeo\":[{\"type\":\"scattergeo\",\"marker\":{\"colorbar\":{\"outlinewidth\":0,\"ticks\":\"\"}}}],\"scatterpolar\":[{\"type\":\"scatterpolar\",\"marker\":{\"colorbar\":{\"outlinewidth\":0,\"ticks\":\"\"}}}],\"histogram\":[{\"marker\":{\"pattern\":{\"fillmode\":\"overlay\",\"size\":10,\"solidity\":0.2}},\"type\":\"histogram\"}],\"scattergl\":[{\"type\":\"scattergl\",\"marker\":{\"colorbar\":{\"outlinewidth\":0,\"ticks\":\"\"}}}],\"scatter3d\":[{\"type\":\"scatter3d\",\"line\":{\"colorbar\":{\"outlinewidth\":0,\"ticks\":\"\"}},\"marker\":{\"colorbar\":{\"outlinewidth\":0,\"ticks\":\"\"}}}],\"scattermapbox\":[{\"type\":\"scattermapbox\",\"marker\":{\"colorbar\":{\"outlinewidth\":0,\"ticks\":\"\"}}}],\"scatterternary\":[{\"type\":\"scatterternary\",\"marker\":{\"colorbar\":{\"outlinewidth\":0,\"ticks\":\"\"}}}],\"scattercarpet\":[{\"type\":\"scattercarpet\",\"marker\":{\"colorbar\":{\"outlinewidth\":0,\"ticks\":\"\"}}}],\"carpet\":[{\"aaxis\":{\"endlinecolor\":\"#2a3f5f\",\"gridcolor\":\"white\",\"linecolor\":\"white\",\"minorgridcolor\":\"white\",\"startlinecolor\":\"#2a3f5f\"},\"baxis\":{\"endlinecolor\":\"#2a3f5f\",\"gridcolor\":\"white\",\"linecolor\":\"white\",\"minorgridcolor\":\"white\",\"startlinecolor\":\"#2a3f5f\"},\"type\":\"carpet\"}],\"table\":[{\"cells\":{\"fill\":{\"color\":\"#EBF0F8\"},\"line\":{\"color\":\"white\"}},\"header\":{\"fill\":{\"color\":\"#C8D4E3\"},\"line\":{\"color\":\"white\"}},\"type\":\"table\"}],\"barpolar\":[{\"marker\":{\"line\":{\"color\":\"#E5ECF6\",\"width\":0.5},\"pattern\":{\"fillmode\":\"overlay\",\"size\":10,\"solidity\":0.2}},\"type\":\"barpolar\"}],\"pie\":[{\"automargin\":true,\"type\":\"pie\"}]},\"layout\":{\"autotypenumbers\":\"strict\",\"colorway\":[\"#636efa\",\"#EF553B\",\"#00cc96\",\"#ab63fa\",\"#FFA15A\",\"#19d3f3\",\"#FF6692\",\"#B6E880\",\"#FF97FF\",\"#FECB52\"],\"font\":{\"color\":\"#2a3f5f\"},\"hovermode\":\"closest\",\"hoverlabel\":{\"align\":\"left\"},\"paper_bgcolor\":\"white\",\"plot_bgcolor\":\"#E5ECF6\",\"polar\":{\"bgcolor\":\"#E5ECF6\",\"angularaxis\":{\"gridcolor\":\"white\",\"linecolor\":\"white\",\"ticks\":\"\"},\"radialaxis\":{\"gridcolor\":\"white\",\"linecolor\":\"white\",\"ticks\":\"\"}},\"ternary\":{\"bgcolor\":\"#E5ECF6\",\"aaxis\":{\"gridcolor\":\"white\",\"linecolor\":\"white\",\"ticks\":\"\"},\"baxis\":{\"gridcolor\":\"white\",\"linecolor\":\"white\",\"ticks\":\"\"},\"caxis\":{\"gridcolor\":\"white\",\"linecolor\":\"white\",\"ticks\":\"\"}},\"coloraxis\":{\"colorbar\":{\"outlinewidth\":0,\"ticks\":\"\"}},\"colorscale\":{\"sequential\":[[0.0,\"#0d0887\"],[0.1111111111111111,\"#46039f\"],[0.2222222222222222,\"#7201a8\"],[0.3333333333333333,\"#9c179e\"],[0.4444444444444444,\"#bd3786\"],[0.5555555555555556,\"#d8576b\"],[0.6666666666666666,\"#ed7953\"],[0.7777777777777778,\"#fb9f3a\"],[0.8888888888888888,\"#fdca26\"],[1.0,\"#f0f921\"]],\"sequentialminus\":[[0.0,\"#0d0887\"],[0.1111111111111111,\"#46039f\"],[0.2222222222222222,\"#7201a8\"],[0.3333333333333333,\"#9c179e\"],[0.4444444444444444,\"#bd3786\"],[0.5555555555555556,\"#d8576b\"],[0.6666666666666666,\"#ed7953\"],[0.7777777777777778,\"#fb9f3a\"],[0.8888888888888888,\"#fdca26\"],[1.0,\"#f0f921\"]],\"diverging\":[[0,\"#8e0152\"],[0.1,\"#c51b7d\"],[0.2,\"#de77ae\"],[0.3,\"#f1b6da\"],[0.4,\"#fde0ef\"],[0.5,\"#f7f7f7\"],[0.6,\"#e6f5d0\"],[0.7,\"#b8e186\"],[0.8,\"#7fbc41\"],[0.9,\"#4d9221\"],[1,\"#276419\"]]},\"xaxis\":{\"gridcolor\":\"white\",\"linecolor\":\"white\",\"ticks\":\"\",\"title\":{\"standoff\":15},\"zerolinecolor\":\"white\",\"automargin\":true,\"zerolinewidth\":2},\"yaxis\":{\"gridcolor\":\"white\",\"linecolor\":\"white\",\"ticks\":\"\",\"title\":{\"standoff\":15},\"zerolinecolor\":\"white\",\"automargin\":true,\"zerolinewidth\":2},\"scene\":{\"xaxis\":{\"backgroundcolor\":\"#E5ECF6\",\"gridcolor\":\"white\",\"linecolor\":\"white\",\"showbackground\":true,\"ticks\":\"\",\"zerolinecolor\":\"white\",\"gridwidth\":2},\"yaxis\":{\"backgroundcolor\":\"#E5ECF6\",\"gridcolor\":\"white\",\"linecolor\":\"white\",\"showbackground\":true,\"ticks\":\"\",\"zerolinecolor\":\"white\",\"gridwidth\":2},\"zaxis\":{\"backgroundcolor\":\"#E5ECF6\",\"gridcolor\":\"white\",\"linecolor\":\"white\",\"showbackground\":true,\"ticks\":\"\",\"zerolinecolor\":\"white\",\"gridwidth\":2}},\"shapedefaults\":{\"line\":{\"color\":\"#2a3f5f\"}},\"annotationdefaults\":{\"arrowcolor\":\"#2a3f5f\",\"arrowhead\":0,\"arrowwidth\":1},\"geo\":{\"bgcolor\":\"white\",\"landcolor\":\"#E5ECF6\",\"subunitcolor\":\"white\",\"showland\":true,\"showlakes\":true,\"lakecolor\":\"white\"},\"title\":{\"x\":0.05},\"mapbox\":{\"style\":\"light\"}}},\"yaxis\":{\"type\":\"log\",\"title\":{\"text\":\"Cost (USD, nominal)\"},\"range\":[0,8]},\"showlegend\":false,\"xaxis\":{\"title\":{\"text\":\"System\"}},\"title\":{\"text\":\"Cost of cloud compute to train frontier ML systems\"},\"autosize\":false,\"width\":800,\"height\":600,\"font\":{\"size\":14},\"margin\":{\"l\":10,\"r\":10,\"t\":40,\"b\":10}},                        {\"responsive\": true}                    ).then(function(){\n",
       "                            \n",
       "var gd = document.getElementById('508db79a-934a-41f4-aaf3-8bdddf385146');\n",
       "var x = new MutationObserver(function (mutations, observer) {{\n",
       "        var display = window.getComputedStyle(gd).display;\n",
       "        if (!display || display === 'none') {{\n",
       "            console.log([gd, 'removed!']);\n",
       "            Plotly.purge(gd);\n",
       "            observer.disconnect();\n",
       "        }}\n",
       "}});\n",
       "\n",
       "// Listen for the removal of the full notebook cells\n",
       "var notebookContainer = gd.closest('#notebook-container');\n",
       "if (notebookContainer) {{\n",
       "    x.observe(notebookContainer, {childList: true});\n",
       "}}\n",
       "\n",
       "// Listen for the clearing of the current output cell\n",
       "var outputEl = gd.closest('.output');\n",
       "if (outputEl) {{\n",
       "    x.observe(outputEl, {childList: true});\n",
       "}}\n",
       "\n",
       "                        })                };                });            </script>        </div>"
      ]
     },
     "metadata": {},
     "output_type": "display_data"
    }
   ],
   "source": [
    "import plotly.graph_objects as go\n",
    "\n",
    "fig = go.Figure()\n",
    "for i, row in frontier_pcd_df.iterrows():\n",
    "    system = row['System']\n",
    "    cost = system_to_cost.get(system)\n",
    "    if cost is None:\n",
    "        continue\n",
    "    publication_date = row['Publication date']\n",
    "\n",
    "    fig.add_trace(go.Bar(\n",
    "        x=[system],\n",
    "        y=[cost],\n",
    "        name=system,\n",
    "        # nice blue color\n",
    "        marker_color='#034752',\n",
    "        # text=system,\n",
    "        # textposition='auto',\n",
    "    ))\n",
    "\n",
    "# log y axis\n",
    "fig.update_yaxes(type=\"log\")\n",
    "# no legend\n",
    "fig.update_layout(showlegend=False)\n",
    "\n",
    "# axis labels\n",
    "fig.update_xaxes(title_text='System')\n",
    "fig.update_yaxes(title_text='Cost (USD, nominal)')\n",
    "\n",
    "# title\n",
    "fig.update_layout(title_text='Cost of cloud compute to train frontier ML systems')\n",
    "\n",
    "# update size\n",
    "fig.update_layout(\n",
    "    autosize=False,\n",
    "    width=800,\n",
    "    height=600,\n",
    ")\n",
    "\n",
    "# font size\n",
    "fig.update_layout(\n",
    "    font=dict(\n",
    "        size=14,\n",
    "    )\n",
    ")\n",
    "\n",
    "# axis limits\n",
    "fig.update_yaxes(range=[0, 8])\n",
    "\n",
    "# margins\n",
    "fig.update_layout(margin=dict(l=10, r=10, t=40, b=10))\n",
    "\n",
    "fig.show()\n"
   ]
  },
  {
   "cell_type": "code",
   "execution_count": 38,
   "metadata": {
    "ExecuteTime": {
     "end_time": "2024-02-07T16:04:39.597618200Z",
     "start_time": "2024-02-07T16:04:38.651688600Z"
    },
    "scrolled": true
   },
   "outputs": [
    {
     "data": {
      "application/vnd.plotly.v1+json": {
       "config": {
        "plotlyServerURL": "https://plot.ly"
       },
       "data": [
        {
         "marker": {
          "color": "#034752"
         },
         "name": "AlphaGo Fan",
         "type": "bar",
         "x": [
          "AlphaGo Fan"
         ],
         "y": [
          260433.36026966287
         ]
        },
        {
         "marker": {
          "color": "#034752"
         },
         "name": "AlphaGo Lee",
         "type": "bar",
         "x": [
          "AlphaGo Lee"
         ],
         "y": [
          260921.97820637896
         ]
        },
        {
         "marker": {
          "color": "#034752"
         },
         "name": "GNMT",
         "type": "bar",
         "x": [
          "GNMT"
         ],
         "y": [
          634034.5893577982
         ]
        },
        {
         "marker": {
          "color": "#034752"
         },
         "name": "NASv3 (CIFAR-10)",
         "type": "bar",
         "x": [
          "NASv3 (CIFAR-10)"
         ],
         "y": [
          655560.4550458716
         ]
        },
        {
         "marker": {
          "color": "#034752"
         },
         "name": "AlphaGo Master",
         "type": "bar",
         "x": [
          "AlphaGo Master"
         ],
         "y": [
          null
         ]
        },
        {
         "marker": {
          "color": "#034752"
         },
         "name": "JFT",
         "type": "bar",
         "x": [
          "JFT"
         ],
         "y": [
          108876.80580762251
         ]
        },
        {
         "marker": {
          "color": "#034752"
         },
         "name": "OpenAI TI7 DOTA 1v1",
         "type": "bar",
         "x": [
          "OpenAI TI7 DOTA 1v1"
         ],
         "y": [
          null
         ]
        },
        {
         "marker": {
          "color": "#034752"
         },
         "name": "AlphaGo Zero",
         "type": "bar",
         "x": [
          "AlphaGo Zero"
         ],
         "y": [
          null
         ]
        },
        {
         "marker": {
          "color": "#034752"
         },
         "name": "AlphaZero",
         "type": "bar",
         "x": [
          "AlphaZero"
         ],
         "y": [
          102144.97372773843
         ]
        },
        {
         "marker": {
          "color": "#034752"
         },
         "name": "AmoebaNet-A (F=448)",
         "type": "bar",
         "x": [
          "AmoebaNet-A (F=448)"
         ],
         "y": [
          4304.354635512961
         ]
        },
        {
         "marker": {
          "color": "#034752"
         },
         "name": "ResNeXt-101 32x48d",
         "type": "bar",
         "x": [
          "ResNeXt-101 32x48d"
         ],
         "y": [
          1037813.7721304349
         ]
        },
        {
         "marker": {
          "color": "#034752"
         },
         "name": "FTW",
         "type": "bar",
         "x": [
          "FTW"
         ],
         "y": [
          1372624.436251222
         ]
        },
        {
         "marker": {
          "color": "#034752"
         },
         "name": "BigGAN-deep 512x512",
         "type": "bar",
         "x": [
          "BigGAN-deep 512x512"
         ],
         "y": [
          26473.13375565611
         ]
        },
        {
         "marker": {
          "color": "#034752"
         },
         "name": "RoBERTa Large",
         "type": "bar",
         "x": [
          "RoBERTa Large"
         ],
         "y": [
          302843.3151537071
         ]
        },
        {
         "marker": {
          "color": "#034752"
         },
         "name": "Megatron-LM (8.3B)",
         "type": "bar",
         "x": [
          "Megatron-LM (8.3B)"
         ],
         "y": [
          408926.66907526884
         ]
        },
        {
         "marker": {
          "color": "#034752"
         },
         "name": "T5-3B",
         "type": "bar",
         "x": [
          "T5-3B"
         ],
         "y": [
          156875.54353074305
         ]
        },
        {
         "marker": {
          "color": "#034752"
         },
         "name": "T5-11B",
         "type": "bar",
         "x": [
          "T5-11B"
         ],
         "y": [
          331284.1766503133
         ]
        },
        {
         "marker": {
          "color": "#034752"
         },
         "name": "AlphaStar",
         "type": "bar",
         "x": [
          "AlphaStar"
         ],
         "y": [
          544463.7225711728
         ]
        },
        {
         "marker": {
          "color": "#034752"
         },
         "name": "OpenAI Five",
         "type": "bar",
         "x": [
          "OpenAI Five"
         ],
         "y": [
          null
         ]
        },
        {
         "marker": {
          "color": "#034752"
         },
         "name": "OpenAI Five Rerun",
         "type": "bar",
         "x": [
          "OpenAI Five Rerun"
         ],
         "y": [
          1558838.6454857143
         ]
        },
        {
         "marker": {
          "color": "#034752"
         },
         "name": "Meena",
         "type": "bar",
         "x": [
          "Meena"
         ],
         "y": [
          975954.3899735217
         ]
        },
        {
         "marker": {
          "color": "#034752"
         },
         "name": "Turing-NLG",
         "type": "bar",
         "x": [
          "Turing-NLG"
         ],
         "y": [
          634759.566326978
         ]
        },
        {
         "marker": {
          "color": "#034752"
         },
         "name": "GPT-3 175B (davinci)",
         "type": "bar",
         "x": [
          "GPT-3 175B (davinci)"
         ],
         "y": [
          8537914.835978836
         ]
        },
        {
         "marker": {
          "color": "#034752"
         },
         "name": "GShard (dense)",
         "type": "bar",
         "x": [
          "GShard (dense)"
         ],
         "y": [
          1356756.2255705523
         ]
        },
        {
         "marker": {
          "color": "#034752"
         },
         "name": "ALIGN",
         "type": "bar",
         "x": [
          "ALIGN"
         ],
         "y": [
          231700.1950415291
         ]
        },
        {
         "marker": {
          "color": "#034752"
         },
         "name": "Megatron-Turing NLG 530B",
         "type": "bar",
         "x": [
          "Megatron-Turing NLG 530B"
         ],
         "y": [
          9323783.175392829
         ]
        },
        {
         "marker": {
          "color": "#034752"
         },
         "name": "Yuan 1.0",
         "type": "bar",
         "x": [
          "Yuan 1.0"
         ],
         "y": [
          null
         ]
        },
        {
         "marker": {
          "color": "#034752"
         },
         "name": "Gopher (280B)",
         "type": "bar",
         "x": [
          "Gopher (280B)"
         ],
         "y": [
          4899730.751790266
         ]
        },
        {
         "marker": {
          "color": "#034752"
         },
         "name": "GLaM",
         "type": "bar",
         "x": [
          "GLaM"
         ],
         "y": [
          2930222.4335963097
         ]
        },
        {
         "marker": {
          "color": "#034752"
         },
         "name": "LaMDA",
         "type": "bar",
         "x": [
          "LaMDA"
         ],
         "y": [
          1847419.7042801555
         ]
        },
        {
         "marker": {
          "color": "#034752"
         },
         "name": "Chinchilla",
         "type": "bar",
         "x": [
          "Chinchilla"
         ],
         "y": [
          3652885.510305308
         ]
        },
        {
         "marker": {
          "color": "#034752"
         },
         "name": "PaLM (540B)",
         "type": "bar",
         "x": [
          "PaLM (540B)"
         ],
         "y": [
          17344678.766538847
         ]
        },
        {
         "marker": {
          "color": "#034752"
         },
         "name": "OPT-175B",
         "type": "bar",
         "x": [
          "OPT-175B"
         ],
         "y": [
          2476201.0732573224
         ]
        },
        {
         "marker": {
          "color": "#034752"
         },
         "name": "Minerva (540B)",
         "type": "bar",
         "x": [
          "Minerva (540B)"
         ],
         "y": [
          18858267.411995716
         ]
        },
        {
         "marker": {
          "color": "#034752"
         },
         "name": "GPT-3.5 (text-davinci-003)",
         "type": "bar",
         "x": [
          "GPT-3.5 (text-davinci-003)"
         ],
         "y": [
          22293223.569819342
         ]
        },
        {
         "marker": {
          "color": "#034752"
         },
         "name": "LLaMA-65B",
         "type": "bar",
         "x": [
          "LLaMA-65B"
         ],
         "y": [
          2437132.894859992
         ]
        },
        {
         "marker": {
          "color": "#034752"
         },
         "name": "GPT-4",
         "type": "bar",
         "x": [
          "GPT-4"
         ],
         "y": [
          138268294.7540037
         ]
        },
        {
         "marker": {
          "color": "#034752"
         },
         "name": "PaLM 2",
         "type": "bar",
         "x": [
          "PaLM 2"
         ],
         "y": [
          18674858.93854725
         ]
        },
        {
         "marker": {
          "color": "#034752"
         },
         "name": "Claude 2",
         "type": "bar",
         "x": [
          "Claude 2"
         ],
         "y": [
          null
         ]
        },
        {
         "marker": {
          "color": "#034752"
         },
         "name": "Llama 2-70B",
         "type": "bar",
         "x": [
          "Llama 2-70B"
         ],
         "y": [
          31698476.968442395
         ]
        },
        {
         "marker": {
          "color": "#034752"
         },
         "name": "Falcon 180B",
         "type": "bar",
         "x": [
          "Falcon 180B"
         ],
         "y": [
          42730466.97583202
         ]
        }
       ],
       "layout": {
        "autosize": false,
        "font": {
         "size": 14
        },
        "height": 600,
        "margin": {
         "b": 10,
         "l": 10,
         "r": 10,
         "t": 40
        },
        "showlegend": false,
        "template": {
         "data": {
          "bar": [
           {
            "error_x": {
             "color": "#2a3f5f"
            },
            "error_y": {
             "color": "#2a3f5f"
            },
            "marker": {
             "line": {
              "color": "#E5ECF6",
              "width": 0.5
             },
             "pattern": {
              "fillmode": "overlay",
              "size": 10,
              "solidity": 0.2
             }
            },
            "type": "bar"
           }
          ],
          "barpolar": [
           {
            "marker": {
             "line": {
              "color": "#E5ECF6",
              "width": 0.5
             },
             "pattern": {
              "fillmode": "overlay",
              "size": 10,
              "solidity": 0.2
             }
            },
            "type": "barpolar"
           }
          ],
          "carpet": [
           {
            "aaxis": {
             "endlinecolor": "#2a3f5f",
             "gridcolor": "white",
             "linecolor": "white",
             "minorgridcolor": "white",
             "startlinecolor": "#2a3f5f"
            },
            "baxis": {
             "endlinecolor": "#2a3f5f",
             "gridcolor": "white",
             "linecolor": "white",
             "minorgridcolor": "white",
             "startlinecolor": "#2a3f5f"
            },
            "type": "carpet"
           }
          ],
          "choropleth": [
           {
            "colorbar": {
             "outlinewidth": 0,
             "ticks": ""
            },
            "type": "choropleth"
           }
          ],
          "contour": [
           {
            "colorbar": {
             "outlinewidth": 0,
             "ticks": ""
            },
            "colorscale": [
             [
              0,
              "#0d0887"
             ],
             [
              0.1111111111111111,
              "#46039f"
             ],
             [
              0.2222222222222222,
              "#7201a8"
             ],
             [
              0.3333333333333333,
              "#9c179e"
             ],
             [
              0.4444444444444444,
              "#bd3786"
             ],
             [
              0.5555555555555556,
              "#d8576b"
             ],
             [
              0.6666666666666666,
              "#ed7953"
             ],
             [
              0.7777777777777778,
              "#fb9f3a"
             ],
             [
              0.8888888888888888,
              "#fdca26"
             ],
             [
              1,
              "#f0f921"
             ]
            ],
            "type": "contour"
           }
          ],
          "contourcarpet": [
           {
            "colorbar": {
             "outlinewidth": 0,
             "ticks": ""
            },
            "type": "contourcarpet"
           }
          ],
          "heatmap": [
           {
            "colorbar": {
             "outlinewidth": 0,
             "ticks": ""
            },
            "colorscale": [
             [
              0,
              "#0d0887"
             ],
             [
              0.1111111111111111,
              "#46039f"
             ],
             [
              0.2222222222222222,
              "#7201a8"
             ],
             [
              0.3333333333333333,
              "#9c179e"
             ],
             [
              0.4444444444444444,
              "#bd3786"
             ],
             [
              0.5555555555555556,
              "#d8576b"
             ],
             [
              0.6666666666666666,
              "#ed7953"
             ],
             [
              0.7777777777777778,
              "#fb9f3a"
             ],
             [
              0.8888888888888888,
              "#fdca26"
             ],
             [
              1,
              "#f0f921"
             ]
            ],
            "type": "heatmap"
           }
          ],
          "heatmapgl": [
           {
            "colorbar": {
             "outlinewidth": 0,
             "ticks": ""
            },
            "colorscale": [
             [
              0,
              "#0d0887"
             ],
             [
              0.1111111111111111,
              "#46039f"
             ],
             [
              0.2222222222222222,
              "#7201a8"
             ],
             [
              0.3333333333333333,
              "#9c179e"
             ],
             [
              0.4444444444444444,
              "#bd3786"
             ],
             [
              0.5555555555555556,
              "#d8576b"
             ],
             [
              0.6666666666666666,
              "#ed7953"
             ],
             [
              0.7777777777777778,
              "#fb9f3a"
             ],
             [
              0.8888888888888888,
              "#fdca26"
             ],
             [
              1,
              "#f0f921"
             ]
            ],
            "type": "heatmapgl"
           }
          ],
          "histogram": [
           {
            "marker": {
             "pattern": {
              "fillmode": "overlay",
              "size": 10,
              "solidity": 0.2
             }
            },
            "type": "histogram"
           }
          ],
          "histogram2d": [
           {
            "colorbar": {
             "outlinewidth": 0,
             "ticks": ""
            },
            "colorscale": [
             [
              0,
              "#0d0887"
             ],
             [
              0.1111111111111111,
              "#46039f"
             ],
             [
              0.2222222222222222,
              "#7201a8"
             ],
             [
              0.3333333333333333,
              "#9c179e"
             ],
             [
              0.4444444444444444,
              "#bd3786"
             ],
             [
              0.5555555555555556,
              "#d8576b"
             ],
             [
              0.6666666666666666,
              "#ed7953"
             ],
             [
              0.7777777777777778,
              "#fb9f3a"
             ],
             [
              0.8888888888888888,
              "#fdca26"
             ],
             [
              1,
              "#f0f921"
             ]
            ],
            "type": "histogram2d"
           }
          ],
          "histogram2dcontour": [
           {
            "colorbar": {
             "outlinewidth": 0,
             "ticks": ""
            },
            "colorscale": [
             [
              0,
              "#0d0887"
             ],
             [
              0.1111111111111111,
              "#46039f"
             ],
             [
              0.2222222222222222,
              "#7201a8"
             ],
             [
              0.3333333333333333,
              "#9c179e"
             ],
             [
              0.4444444444444444,
              "#bd3786"
             ],
             [
              0.5555555555555556,
              "#d8576b"
             ],
             [
              0.6666666666666666,
              "#ed7953"
             ],
             [
              0.7777777777777778,
              "#fb9f3a"
             ],
             [
              0.8888888888888888,
              "#fdca26"
             ],
             [
              1,
              "#f0f921"
             ]
            ],
            "type": "histogram2dcontour"
           }
          ],
          "mesh3d": [
           {
            "colorbar": {
             "outlinewidth": 0,
             "ticks": ""
            },
            "type": "mesh3d"
           }
          ],
          "parcoords": [
           {
            "line": {
             "colorbar": {
              "outlinewidth": 0,
              "ticks": ""
             }
            },
            "type": "parcoords"
           }
          ],
          "pie": [
           {
            "automargin": true,
            "type": "pie"
           }
          ],
          "scatter": [
           {
            "fillpattern": {
             "fillmode": "overlay",
             "size": 10,
             "solidity": 0.2
            },
            "type": "scatter"
           }
          ],
          "scatter3d": [
           {
            "line": {
             "colorbar": {
              "outlinewidth": 0,
              "ticks": ""
             }
            },
            "marker": {
             "colorbar": {
              "outlinewidth": 0,
              "ticks": ""
             }
            },
            "type": "scatter3d"
           }
          ],
          "scattercarpet": [
           {
            "marker": {
             "colorbar": {
              "outlinewidth": 0,
              "ticks": ""
             }
            },
            "type": "scattercarpet"
           }
          ],
          "scattergeo": [
           {
            "marker": {
             "colorbar": {
              "outlinewidth": 0,
              "ticks": ""
             }
            },
            "type": "scattergeo"
           }
          ],
          "scattergl": [
           {
            "marker": {
             "colorbar": {
              "outlinewidth": 0,
              "ticks": ""
             }
            },
            "type": "scattergl"
           }
          ],
          "scattermapbox": [
           {
            "marker": {
             "colorbar": {
              "outlinewidth": 0,
              "ticks": ""
             }
            },
            "type": "scattermapbox"
           }
          ],
          "scatterpolar": [
           {
            "marker": {
             "colorbar": {
              "outlinewidth": 0,
              "ticks": ""
             }
            },
            "type": "scatterpolar"
           }
          ],
          "scatterpolargl": [
           {
            "marker": {
             "colorbar": {
              "outlinewidth": 0,
              "ticks": ""
             }
            },
            "type": "scatterpolargl"
           }
          ],
          "scatterternary": [
           {
            "marker": {
             "colorbar": {
              "outlinewidth": 0,
              "ticks": ""
             }
            },
            "type": "scatterternary"
           }
          ],
          "surface": [
           {
            "colorbar": {
             "outlinewidth": 0,
             "ticks": ""
            },
            "colorscale": [
             [
              0,
              "#0d0887"
             ],
             [
              0.1111111111111111,
              "#46039f"
             ],
             [
              0.2222222222222222,
              "#7201a8"
             ],
             [
              0.3333333333333333,
              "#9c179e"
             ],
             [
              0.4444444444444444,
              "#bd3786"
             ],
             [
              0.5555555555555556,
              "#d8576b"
             ],
             [
              0.6666666666666666,
              "#ed7953"
             ],
             [
              0.7777777777777778,
              "#fb9f3a"
             ],
             [
              0.8888888888888888,
              "#fdca26"
             ],
             [
              1,
              "#f0f921"
             ]
            ],
            "type": "surface"
           }
          ],
          "table": [
           {
            "cells": {
             "fill": {
              "color": "#EBF0F8"
             },
             "line": {
              "color": "white"
             }
            },
            "header": {
             "fill": {
              "color": "#C8D4E3"
             },
             "line": {
              "color": "white"
             }
            },
            "type": "table"
           }
          ]
         },
         "layout": {
          "annotationdefaults": {
           "arrowcolor": "#2a3f5f",
           "arrowhead": 0,
           "arrowwidth": 1
          },
          "autotypenumbers": "strict",
          "coloraxis": {
           "colorbar": {
            "outlinewidth": 0,
            "ticks": ""
           }
          },
          "colorscale": {
           "diverging": [
            [
             0,
             "#8e0152"
            ],
            [
             0.1,
             "#c51b7d"
            ],
            [
             0.2,
             "#de77ae"
            ],
            [
             0.3,
             "#f1b6da"
            ],
            [
             0.4,
             "#fde0ef"
            ],
            [
             0.5,
             "#f7f7f7"
            ],
            [
             0.6,
             "#e6f5d0"
            ],
            [
             0.7,
             "#b8e186"
            ],
            [
             0.8,
             "#7fbc41"
            ],
            [
             0.9,
             "#4d9221"
            ],
            [
             1,
             "#276419"
            ]
           ],
           "sequential": [
            [
             0,
             "#0d0887"
            ],
            [
             0.1111111111111111,
             "#46039f"
            ],
            [
             0.2222222222222222,
             "#7201a8"
            ],
            [
             0.3333333333333333,
             "#9c179e"
            ],
            [
             0.4444444444444444,
             "#bd3786"
            ],
            [
             0.5555555555555556,
             "#d8576b"
            ],
            [
             0.6666666666666666,
             "#ed7953"
            ],
            [
             0.7777777777777778,
             "#fb9f3a"
            ],
            [
             0.8888888888888888,
             "#fdca26"
            ],
            [
             1,
             "#f0f921"
            ]
           ],
           "sequentialminus": [
            [
             0,
             "#0d0887"
            ],
            [
             0.1111111111111111,
             "#46039f"
            ],
            [
             0.2222222222222222,
             "#7201a8"
            ],
            [
             0.3333333333333333,
             "#9c179e"
            ],
            [
             0.4444444444444444,
             "#bd3786"
            ],
            [
             0.5555555555555556,
             "#d8576b"
            ],
            [
             0.6666666666666666,
             "#ed7953"
            ],
            [
             0.7777777777777778,
             "#fb9f3a"
            ],
            [
             0.8888888888888888,
             "#fdca26"
            ],
            [
             1,
             "#f0f921"
            ]
           ]
          },
          "colorway": [
           "#636efa",
           "#EF553B",
           "#00cc96",
           "#ab63fa",
           "#FFA15A",
           "#19d3f3",
           "#FF6692",
           "#B6E880",
           "#FF97FF",
           "#FECB52"
          ],
          "font": {
           "color": "#2a3f5f"
          },
          "geo": {
           "bgcolor": "white",
           "lakecolor": "white",
           "landcolor": "#E5ECF6",
           "showlakes": true,
           "showland": true,
           "subunitcolor": "white"
          },
          "hoverlabel": {
           "align": "left"
          },
          "hovermode": "closest",
          "mapbox": {
           "style": "light"
          },
          "paper_bgcolor": "white",
          "plot_bgcolor": "#E5ECF6",
          "polar": {
           "angularaxis": {
            "gridcolor": "white",
            "linecolor": "white",
            "ticks": ""
           },
           "bgcolor": "#E5ECF6",
           "radialaxis": {
            "gridcolor": "white",
            "linecolor": "white",
            "ticks": ""
           }
          },
          "scene": {
           "xaxis": {
            "backgroundcolor": "#E5ECF6",
            "gridcolor": "white",
            "gridwidth": 2,
            "linecolor": "white",
            "showbackground": true,
            "ticks": "",
            "zerolinecolor": "white"
           },
           "yaxis": {
            "backgroundcolor": "#E5ECF6",
            "gridcolor": "white",
            "gridwidth": 2,
            "linecolor": "white",
            "showbackground": true,
            "ticks": "",
            "zerolinecolor": "white"
           },
           "zaxis": {
            "backgroundcolor": "#E5ECF6",
            "gridcolor": "white",
            "gridwidth": 2,
            "linecolor": "white",
            "showbackground": true,
            "ticks": "",
            "zerolinecolor": "white"
           }
          },
          "shapedefaults": {
           "line": {
            "color": "#2a3f5f"
           }
          },
          "ternary": {
           "aaxis": {
            "gridcolor": "white",
            "linecolor": "white",
            "ticks": ""
           },
           "baxis": {
            "gridcolor": "white",
            "linecolor": "white",
            "ticks": ""
           },
           "bgcolor": "#E5ECF6",
           "caxis": {
            "gridcolor": "white",
            "linecolor": "white",
            "ticks": ""
           }
          },
          "title": {
           "x": 0.05
          },
          "xaxis": {
           "automargin": true,
           "gridcolor": "white",
           "linecolor": "white",
           "ticks": "",
           "title": {
            "standoff": 15
           },
           "zerolinecolor": "white",
           "zerolinewidth": 2
          },
          "yaxis": {
           "automargin": true,
           "gridcolor": "white",
           "linecolor": "white",
           "ticks": "",
           "title": {
            "standoff": 15
           },
           "zerolinecolor": "white",
           "zerolinewidth": 2
          }
         }
        },
        "title": {
         "text": "Cost of cloud compute to train frontier ML systems"
        },
        "width": 800,
        "xaxis": {
         "title": {
          "text": "System"
         }
        },
        "yaxis": {
         "range": [
          0,
          8
         ],
         "title": {
          "text": "Cost (2023 USD)"
         },
         "type": "log"
        }
       }
      },
      "text/html": [
       "<div>                            <div id=\"53d1f4c3-0c7a-451e-903a-e69b25998ac8\" class=\"plotly-graph-div\" style=\"height:600px; width:800px;\"></div>            <script type=\"text/javascript\">                require([\"plotly\"], function(Plotly) {                    window.PLOTLYENV=window.PLOTLYENV || {};                                    if (document.getElementById(\"53d1f4c3-0c7a-451e-903a-e69b25998ac8\")) {                    Plotly.newPlot(                        \"53d1f4c3-0c7a-451e-903a-e69b25998ac8\",                        [{\"marker\":{\"color\":\"#034752\"},\"name\":\"AlphaGo Fan\",\"x\":[\"AlphaGo Fan\"],\"y\":[260433.36026966287],\"type\":\"bar\"},{\"marker\":{\"color\":\"#034752\"},\"name\":\"AlphaGo Lee\",\"x\":[\"AlphaGo Lee\"],\"y\":[260921.97820637896],\"type\":\"bar\"},{\"marker\":{\"color\":\"#034752\"},\"name\":\"GNMT\",\"x\":[\"GNMT\"],\"y\":[634034.5893577982],\"type\":\"bar\"},{\"marker\":{\"color\":\"#034752\"},\"name\":\"NASv3 (CIFAR-10)\",\"x\":[\"NASv3 (CIFAR-10)\"],\"y\":[655560.4550458716],\"type\":\"bar\"},{\"marker\":{\"color\":\"#034752\"},\"name\":\"AlphaGo Master\",\"x\":[\"AlphaGo Master\"],\"y\":[null],\"type\":\"bar\"},{\"marker\":{\"color\":\"#034752\"},\"name\":\"JFT\",\"x\":[\"JFT\"],\"y\":[108876.80580762251],\"type\":\"bar\"},{\"marker\":{\"color\":\"#034752\"},\"name\":\"OpenAI TI7 DOTA 1v1\",\"x\":[\"OpenAI TI7 DOTA 1v1\"],\"y\":[null],\"type\":\"bar\"},{\"marker\":{\"color\":\"#034752\"},\"name\":\"AlphaGo Zero\",\"x\":[\"AlphaGo Zero\"],\"y\":[null],\"type\":\"bar\"},{\"marker\":{\"color\":\"#034752\"},\"name\":\"AlphaZero\",\"x\":[\"AlphaZero\"],\"y\":[102144.97372773843],\"type\":\"bar\"},{\"marker\":{\"color\":\"#034752\"},\"name\":\"AmoebaNet-A (F=448)\",\"x\":[\"AmoebaNet-A (F=448)\"],\"y\":[4304.354635512961],\"type\":\"bar\"},{\"marker\":{\"color\":\"#034752\"},\"name\":\"ResNeXt-101 32x48d\",\"x\":[\"ResNeXt-101 32x48d\"],\"y\":[1037813.7721304349],\"type\":\"bar\"},{\"marker\":{\"color\":\"#034752\"},\"name\":\"FTW\",\"x\":[\"FTW\"],\"y\":[1372624.436251222],\"type\":\"bar\"},{\"marker\":{\"color\":\"#034752\"},\"name\":\"BigGAN-deep 512x512\",\"x\":[\"BigGAN-deep 512x512\"],\"y\":[26473.13375565611],\"type\":\"bar\"},{\"marker\":{\"color\":\"#034752\"},\"name\":\"RoBERTa Large\",\"x\":[\"RoBERTa Large\"],\"y\":[302843.3151537071],\"type\":\"bar\"},{\"marker\":{\"color\":\"#034752\"},\"name\":\"Megatron-LM (8.3B)\",\"x\":[\"Megatron-LM (8.3B)\"],\"y\":[408926.66907526884],\"type\":\"bar\"},{\"marker\":{\"color\":\"#034752\"},\"name\":\"T5-3B\",\"x\":[\"T5-3B\"],\"y\":[156875.54353074305],\"type\":\"bar\"},{\"marker\":{\"color\":\"#034752\"},\"name\":\"T5-11B\",\"x\":[\"T5-11B\"],\"y\":[331284.1766503133],\"type\":\"bar\"},{\"marker\":{\"color\":\"#034752\"},\"name\":\"AlphaStar\",\"x\":[\"AlphaStar\"],\"y\":[544463.7225711728],\"type\":\"bar\"},{\"marker\":{\"color\":\"#034752\"},\"name\":\"OpenAI Five\",\"x\":[\"OpenAI Five\"],\"y\":[null],\"type\":\"bar\"},{\"marker\":{\"color\":\"#034752\"},\"name\":\"OpenAI Five Rerun\",\"x\":[\"OpenAI Five Rerun\"],\"y\":[1558838.6454857143],\"type\":\"bar\"},{\"marker\":{\"color\":\"#034752\"},\"name\":\"Meena\",\"x\":[\"Meena\"],\"y\":[975954.3899735217],\"type\":\"bar\"},{\"marker\":{\"color\":\"#034752\"},\"name\":\"Turing-NLG\",\"x\":[\"Turing-NLG\"],\"y\":[634759.566326978],\"type\":\"bar\"},{\"marker\":{\"color\":\"#034752\"},\"name\":\"GPT-3 175B (davinci)\",\"x\":[\"GPT-3 175B (davinci)\"],\"y\":[8537914.835978836],\"type\":\"bar\"},{\"marker\":{\"color\":\"#034752\"},\"name\":\"GShard (dense)\",\"x\":[\"GShard (dense)\"],\"y\":[1356756.2255705523],\"type\":\"bar\"},{\"marker\":{\"color\":\"#034752\"},\"name\":\"ALIGN\",\"x\":[\"ALIGN\"],\"y\":[231700.1950415291],\"type\":\"bar\"},{\"marker\":{\"color\":\"#034752\"},\"name\":\"Megatron-Turing NLG 530B\",\"x\":[\"Megatron-Turing NLG 530B\"],\"y\":[9323783.175392829],\"type\":\"bar\"},{\"marker\":{\"color\":\"#034752\"},\"name\":\"Yuan 1.0\",\"x\":[\"Yuan 1.0\"],\"y\":[null],\"type\":\"bar\"},{\"marker\":{\"color\":\"#034752\"},\"name\":\"Gopher (280B)\",\"x\":[\"Gopher (280B)\"],\"y\":[4899730.751790266],\"type\":\"bar\"},{\"marker\":{\"color\":\"#034752\"},\"name\":\"GLaM\",\"x\":[\"GLaM\"],\"y\":[2930222.4335963097],\"type\":\"bar\"},{\"marker\":{\"color\":\"#034752\"},\"name\":\"LaMDA\",\"x\":[\"LaMDA\"],\"y\":[1847419.7042801555],\"type\":\"bar\"},{\"marker\":{\"color\":\"#034752\"},\"name\":\"Chinchilla\",\"x\":[\"Chinchilla\"],\"y\":[3652885.510305308],\"type\":\"bar\"},{\"marker\":{\"color\":\"#034752\"},\"name\":\"PaLM (540B)\",\"x\":[\"PaLM (540B)\"],\"y\":[17344678.766538847],\"type\":\"bar\"},{\"marker\":{\"color\":\"#034752\"},\"name\":\"OPT-175B\",\"x\":[\"OPT-175B\"],\"y\":[2476201.0732573224],\"type\":\"bar\"},{\"marker\":{\"color\":\"#034752\"},\"name\":\"Minerva (540B)\",\"x\":[\"Minerva (540B)\"],\"y\":[18858267.411995716],\"type\":\"bar\"},{\"marker\":{\"color\":\"#034752\"},\"name\":\"GPT-3.5 (text-davinci-003)\",\"x\":[\"GPT-3.5 (text-davinci-003)\"],\"y\":[22293223.569819342],\"type\":\"bar\"},{\"marker\":{\"color\":\"#034752\"},\"name\":\"LLaMA-65B\",\"x\":[\"LLaMA-65B\"],\"y\":[2437132.894859992],\"type\":\"bar\"},{\"marker\":{\"color\":\"#034752\"},\"name\":\"GPT-4\",\"x\":[\"GPT-4\"],\"y\":[138268294.7540037],\"type\":\"bar\"},{\"marker\":{\"color\":\"#034752\"},\"name\":\"PaLM 2\",\"x\":[\"PaLM 2\"],\"y\":[18674858.93854725],\"type\":\"bar\"},{\"marker\":{\"color\":\"#034752\"},\"name\":\"Claude 2\",\"x\":[\"Claude 2\"],\"y\":[null],\"type\":\"bar\"},{\"marker\":{\"color\":\"#034752\"},\"name\":\"Llama 2-70B\",\"x\":[\"Llama 2-70B\"],\"y\":[31698476.968442395],\"type\":\"bar\"},{\"marker\":{\"color\":\"#034752\"},\"name\":\"Falcon 180B\",\"x\":[\"Falcon 180B\"],\"y\":[42730466.97583202],\"type\":\"bar\"}],                        {\"template\":{\"data\":{\"histogram2dcontour\":[{\"type\":\"histogram2dcontour\",\"colorbar\":{\"outlinewidth\":0,\"ticks\":\"\"},\"colorscale\":[[0.0,\"#0d0887\"],[0.1111111111111111,\"#46039f\"],[0.2222222222222222,\"#7201a8\"],[0.3333333333333333,\"#9c179e\"],[0.4444444444444444,\"#bd3786\"],[0.5555555555555556,\"#d8576b\"],[0.6666666666666666,\"#ed7953\"],[0.7777777777777778,\"#fb9f3a\"],[0.8888888888888888,\"#fdca26\"],[1.0,\"#f0f921\"]]}],\"choropleth\":[{\"type\":\"choropleth\",\"colorbar\":{\"outlinewidth\":0,\"ticks\":\"\"}}],\"histogram2d\":[{\"type\":\"histogram2d\",\"colorbar\":{\"outlinewidth\":0,\"ticks\":\"\"},\"colorscale\":[[0.0,\"#0d0887\"],[0.1111111111111111,\"#46039f\"],[0.2222222222222222,\"#7201a8\"],[0.3333333333333333,\"#9c179e\"],[0.4444444444444444,\"#bd3786\"],[0.5555555555555556,\"#d8576b\"],[0.6666666666666666,\"#ed7953\"],[0.7777777777777778,\"#fb9f3a\"],[0.8888888888888888,\"#fdca26\"],[1.0,\"#f0f921\"]]}],\"heatmap\":[{\"type\":\"heatmap\",\"colorbar\":{\"outlinewidth\":0,\"ticks\":\"\"},\"colorscale\":[[0.0,\"#0d0887\"],[0.1111111111111111,\"#46039f\"],[0.2222222222222222,\"#7201a8\"],[0.3333333333333333,\"#9c179e\"],[0.4444444444444444,\"#bd3786\"],[0.5555555555555556,\"#d8576b\"],[0.6666666666666666,\"#ed7953\"],[0.7777777777777778,\"#fb9f3a\"],[0.8888888888888888,\"#fdca26\"],[1.0,\"#f0f921\"]]}],\"heatmapgl\":[{\"type\":\"heatmapgl\",\"colorbar\":{\"outlinewidth\":0,\"ticks\":\"\"},\"colorscale\":[[0.0,\"#0d0887\"],[0.1111111111111111,\"#46039f\"],[0.2222222222222222,\"#7201a8\"],[0.3333333333333333,\"#9c179e\"],[0.4444444444444444,\"#bd3786\"],[0.5555555555555556,\"#d8576b\"],[0.6666666666666666,\"#ed7953\"],[0.7777777777777778,\"#fb9f3a\"],[0.8888888888888888,\"#fdca26\"],[1.0,\"#f0f921\"]]}],\"contourcarpet\":[{\"type\":\"contourcarpet\",\"colorbar\":{\"outlinewidth\":0,\"ticks\":\"\"}}],\"contour\":[{\"type\":\"contour\",\"colorbar\":{\"outlinewidth\":0,\"ticks\":\"\"},\"colorscale\":[[0.0,\"#0d0887\"],[0.1111111111111111,\"#46039f\"],[0.2222222222222222,\"#7201a8\"],[0.3333333333333333,\"#9c179e\"],[0.4444444444444444,\"#bd3786\"],[0.5555555555555556,\"#d8576b\"],[0.6666666666666666,\"#ed7953\"],[0.7777777777777778,\"#fb9f3a\"],[0.8888888888888888,\"#fdca26\"],[1.0,\"#f0f921\"]]}],\"surface\":[{\"type\":\"surface\",\"colorbar\":{\"outlinewidth\":0,\"ticks\":\"\"},\"colorscale\":[[0.0,\"#0d0887\"],[0.1111111111111111,\"#46039f\"],[0.2222222222222222,\"#7201a8\"],[0.3333333333333333,\"#9c179e\"],[0.4444444444444444,\"#bd3786\"],[0.5555555555555556,\"#d8576b\"],[0.6666666666666666,\"#ed7953\"],[0.7777777777777778,\"#fb9f3a\"],[0.8888888888888888,\"#fdca26\"],[1.0,\"#f0f921\"]]}],\"mesh3d\":[{\"type\":\"mesh3d\",\"colorbar\":{\"outlinewidth\":0,\"ticks\":\"\"}}],\"scatter\":[{\"fillpattern\":{\"fillmode\":\"overlay\",\"size\":10,\"solidity\":0.2},\"type\":\"scatter\"}],\"parcoords\":[{\"type\":\"parcoords\",\"line\":{\"colorbar\":{\"outlinewidth\":0,\"ticks\":\"\"}}}],\"scatterpolargl\":[{\"type\":\"scatterpolargl\",\"marker\":{\"colorbar\":{\"outlinewidth\":0,\"ticks\":\"\"}}}],\"bar\":[{\"error_x\":{\"color\":\"#2a3f5f\"},\"error_y\":{\"color\":\"#2a3f5f\"},\"marker\":{\"line\":{\"color\":\"#E5ECF6\",\"width\":0.5},\"pattern\":{\"fillmode\":\"overlay\",\"size\":10,\"solidity\":0.2}},\"type\":\"bar\"}],\"scattergeo\":[{\"type\":\"scattergeo\",\"marker\":{\"colorbar\":{\"outlinewidth\":0,\"ticks\":\"\"}}}],\"scatterpolar\":[{\"type\":\"scatterpolar\",\"marker\":{\"colorbar\":{\"outlinewidth\":0,\"ticks\":\"\"}}}],\"histogram\":[{\"marker\":{\"pattern\":{\"fillmode\":\"overlay\",\"size\":10,\"solidity\":0.2}},\"type\":\"histogram\"}],\"scattergl\":[{\"type\":\"scattergl\",\"marker\":{\"colorbar\":{\"outlinewidth\":0,\"ticks\":\"\"}}}],\"scatter3d\":[{\"type\":\"scatter3d\",\"line\":{\"colorbar\":{\"outlinewidth\":0,\"ticks\":\"\"}},\"marker\":{\"colorbar\":{\"outlinewidth\":0,\"ticks\":\"\"}}}],\"scattermapbox\":[{\"type\":\"scattermapbox\",\"marker\":{\"colorbar\":{\"outlinewidth\":0,\"ticks\":\"\"}}}],\"scatterternary\":[{\"type\":\"scatterternary\",\"marker\":{\"colorbar\":{\"outlinewidth\":0,\"ticks\":\"\"}}}],\"scattercarpet\":[{\"type\":\"scattercarpet\",\"marker\":{\"colorbar\":{\"outlinewidth\":0,\"ticks\":\"\"}}}],\"carpet\":[{\"aaxis\":{\"endlinecolor\":\"#2a3f5f\",\"gridcolor\":\"white\",\"linecolor\":\"white\",\"minorgridcolor\":\"white\",\"startlinecolor\":\"#2a3f5f\"},\"baxis\":{\"endlinecolor\":\"#2a3f5f\",\"gridcolor\":\"white\",\"linecolor\":\"white\",\"minorgridcolor\":\"white\",\"startlinecolor\":\"#2a3f5f\"},\"type\":\"carpet\"}],\"table\":[{\"cells\":{\"fill\":{\"color\":\"#EBF0F8\"},\"line\":{\"color\":\"white\"}},\"header\":{\"fill\":{\"color\":\"#C8D4E3\"},\"line\":{\"color\":\"white\"}},\"type\":\"table\"}],\"barpolar\":[{\"marker\":{\"line\":{\"color\":\"#E5ECF6\",\"width\":0.5},\"pattern\":{\"fillmode\":\"overlay\",\"size\":10,\"solidity\":0.2}},\"type\":\"barpolar\"}],\"pie\":[{\"automargin\":true,\"type\":\"pie\"}]},\"layout\":{\"autotypenumbers\":\"strict\",\"colorway\":[\"#636efa\",\"#EF553B\",\"#00cc96\",\"#ab63fa\",\"#FFA15A\",\"#19d3f3\",\"#FF6692\",\"#B6E880\",\"#FF97FF\",\"#FECB52\"],\"font\":{\"color\":\"#2a3f5f\"},\"hovermode\":\"closest\",\"hoverlabel\":{\"align\":\"left\"},\"paper_bgcolor\":\"white\",\"plot_bgcolor\":\"#E5ECF6\",\"polar\":{\"bgcolor\":\"#E5ECF6\",\"angularaxis\":{\"gridcolor\":\"white\",\"linecolor\":\"white\",\"ticks\":\"\"},\"radialaxis\":{\"gridcolor\":\"white\",\"linecolor\":\"white\",\"ticks\":\"\"}},\"ternary\":{\"bgcolor\":\"#E5ECF6\",\"aaxis\":{\"gridcolor\":\"white\",\"linecolor\":\"white\",\"ticks\":\"\"},\"baxis\":{\"gridcolor\":\"white\",\"linecolor\":\"white\",\"ticks\":\"\"},\"caxis\":{\"gridcolor\":\"white\",\"linecolor\":\"white\",\"ticks\":\"\"}},\"coloraxis\":{\"colorbar\":{\"outlinewidth\":0,\"ticks\":\"\"}},\"colorscale\":{\"sequential\":[[0.0,\"#0d0887\"],[0.1111111111111111,\"#46039f\"],[0.2222222222222222,\"#7201a8\"],[0.3333333333333333,\"#9c179e\"],[0.4444444444444444,\"#bd3786\"],[0.5555555555555556,\"#d8576b\"],[0.6666666666666666,\"#ed7953\"],[0.7777777777777778,\"#fb9f3a\"],[0.8888888888888888,\"#fdca26\"],[1.0,\"#f0f921\"]],\"sequentialminus\":[[0.0,\"#0d0887\"],[0.1111111111111111,\"#46039f\"],[0.2222222222222222,\"#7201a8\"],[0.3333333333333333,\"#9c179e\"],[0.4444444444444444,\"#bd3786\"],[0.5555555555555556,\"#d8576b\"],[0.6666666666666666,\"#ed7953\"],[0.7777777777777778,\"#fb9f3a\"],[0.8888888888888888,\"#fdca26\"],[1.0,\"#f0f921\"]],\"diverging\":[[0,\"#8e0152\"],[0.1,\"#c51b7d\"],[0.2,\"#de77ae\"],[0.3,\"#f1b6da\"],[0.4,\"#fde0ef\"],[0.5,\"#f7f7f7\"],[0.6,\"#e6f5d0\"],[0.7,\"#b8e186\"],[0.8,\"#7fbc41\"],[0.9,\"#4d9221\"],[1,\"#276419\"]]},\"xaxis\":{\"gridcolor\":\"white\",\"linecolor\":\"white\",\"ticks\":\"\",\"title\":{\"standoff\":15},\"zerolinecolor\":\"white\",\"automargin\":true,\"zerolinewidth\":2},\"yaxis\":{\"gridcolor\":\"white\",\"linecolor\":\"white\",\"ticks\":\"\",\"title\":{\"standoff\":15},\"zerolinecolor\":\"white\",\"automargin\":true,\"zerolinewidth\":2},\"scene\":{\"xaxis\":{\"backgroundcolor\":\"#E5ECF6\",\"gridcolor\":\"white\",\"linecolor\":\"white\",\"showbackground\":true,\"ticks\":\"\",\"zerolinecolor\":\"white\",\"gridwidth\":2},\"yaxis\":{\"backgroundcolor\":\"#E5ECF6\",\"gridcolor\":\"white\",\"linecolor\":\"white\",\"showbackground\":true,\"ticks\":\"\",\"zerolinecolor\":\"white\",\"gridwidth\":2},\"zaxis\":{\"backgroundcolor\":\"#E5ECF6\",\"gridcolor\":\"white\",\"linecolor\":\"white\",\"showbackground\":true,\"ticks\":\"\",\"zerolinecolor\":\"white\",\"gridwidth\":2}},\"shapedefaults\":{\"line\":{\"color\":\"#2a3f5f\"}},\"annotationdefaults\":{\"arrowcolor\":\"#2a3f5f\",\"arrowhead\":0,\"arrowwidth\":1},\"geo\":{\"bgcolor\":\"white\",\"landcolor\":\"#E5ECF6\",\"subunitcolor\":\"white\",\"showland\":true,\"showlakes\":true,\"lakecolor\":\"white\"},\"title\":{\"x\":0.05},\"mapbox\":{\"style\":\"light\"}}},\"yaxis\":{\"type\":\"log\",\"title\":{\"text\":\"Cost (2023 USD)\"},\"range\":[0,8]},\"showlegend\":false,\"xaxis\":{\"title\":{\"text\":\"System\"}},\"title\":{\"text\":\"Cost of cloud compute to train frontier ML systems\"},\"autosize\":false,\"width\":800,\"height\":600,\"font\":{\"size\":14},\"margin\":{\"l\":10,\"r\":10,\"t\":40,\"b\":10}},                        {\"responsive\": true}                    ).then(function(){\n",
       "                            \n",
       "var gd = document.getElementById('53d1f4c3-0c7a-451e-903a-e69b25998ac8');\n",
       "var x = new MutationObserver(function (mutations, observer) {{\n",
       "        var display = window.getComputedStyle(gd).display;\n",
       "        if (!display || display === 'none') {{\n",
       "            console.log([gd, 'removed!']);\n",
       "            Plotly.purge(gd);\n",
       "            observer.disconnect();\n",
       "        }}\n",
       "}});\n",
       "\n",
       "// Listen for the removal of the full notebook cells\n",
       "var notebookContainer = gd.closest('#notebook-container');\n",
       "if (notebookContainer) {{\n",
       "    x.observe(notebookContainer, {childList: true});\n",
       "}}\n",
       "\n",
       "// Listen for the clearing of the current output cell\n",
       "var outputEl = gd.closest('.output');\n",
       "if (outputEl) {{\n",
       "    x.observe(outputEl, {childList: true});\n",
       "}}\n",
       "\n",
       "                        })                };                });            </script>        </div>"
      ]
     },
     "metadata": {},
     "output_type": "display_data"
    }
   ],
   "source": [
    "import plotly.graph_objects as go\n",
    "\n",
    "fig = go.Figure()\n",
    "for i, row in frontier_pcd_df.iterrows():\n",
    "    system = row['System']\n",
    "    cost = row['Cost (inflation-adjusted)']\n",
    "    if cost is None:\n",
    "        continue\n",
    "    publication_date = row['Publication date']\n",
    "\n",
    "    fig.add_trace(go.Bar(\n",
    "        x=[system],\n",
    "        y=[cost],\n",
    "        name=system,\n",
    "        # nice blue color\n",
    "        marker_color='#034752',\n",
    "        # text=system,\n",
    "        # textposition='auto',\n",
    "    ))\n",
    "\n",
    "# log y axis\n",
    "fig.update_yaxes(type=\"log\")\n",
    "# no legend\n",
    "fig.update_layout(showlegend=False)\n",
    "\n",
    "# axis labels\n",
    "fig.update_xaxes(title_text='System')\n",
    "fig.update_yaxes(title_text='Cost (2023 USD)')\n",
    "\n",
    "# title\n",
    "fig.update_layout(title_text='Cost of cloud compute to train frontier ML systems')\n",
    "\n",
    "# update size\n",
    "fig.update_layout(\n",
    "    autosize=False,\n",
    "    width=800,\n",
    "    height=600,\n",
    ")\n",
    "\n",
    "# font size\n",
    "fig.update_layout(\n",
    "    font=dict(\n",
    "        size=14,\n",
    "    )\n",
    ")\n",
    "\n",
    "# axis limits\n",
    "fig.update_yaxes(range=[0, 8])\n",
    "\n",
    "# margins\n",
    "fig.update_layout(margin=dict(l=10, r=10, t=40, b=10))\n",
    "\n",
    "save_plot(fig, 'results/', 'costs-inflation_adjusted')\n",
    "\n",
    "fig.show()\n"
   ]
  },
  {
   "cell_type": "markdown",
   "metadata": {},
   "source": [
    "# Export data"
   ]
  },
  {
   "cell_type": "code",
   "execution_count": 59,
   "metadata": {
    "ExecuteTime": {
     "end_time": "2024-02-07T16:04:39.616432900Z",
     "start_time": "2024-02-07T16:04:38.761334900Z"
    }
   },
   "outputs": [],
   "source": [
    "frontier_pcd_df.drop('Megatron-BERT', inplace=True)\n",
    "frontier_pcd_df.drop('IMPALA', inplace=True)"
   ]
  },
  {
   "cell_type": "code",
   "execution_count": 60,
   "metadata": {
    "ExecuteTime": {
     "end_time": "2024-02-07T16:04:39.616432900Z",
     "start_time": "2024-02-07T16:04:38.857238300Z"
    }
   },
   "outputs": [],
   "source": [
    "frontier_pcd_df.to_csv('results/price dataset.csv')"
   ]
  }
 ],
 "metadata": {
  "colab": {
   "provenance": []
  },
  "kernelspec": {
   "display_name": "Python 3 (ipykernel)",
   "language": "python",
   "name": "python3"
  },
  "language_info": {
   "codemirror_mode": {
    "name": "ipython",
    "version": 3
   },
   "file_extension": ".py",
   "mimetype": "text/x-python",
   "name": "python",
   "nbconvert_exporter": "python",
   "pygments_lexer": "ipython3",
   "version": "3.9.13"
  }
 },
 "nbformat": 4,
 "nbformat_minor": 1
}
