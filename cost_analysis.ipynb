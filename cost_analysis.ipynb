{
  "cells": [
    {
      "cell_type": "markdown",
      "metadata": {},
      "source": [
        "# Setup"
      ]
    },
    {
      "cell_type": "code",
      "execution_count": 1,
      "metadata": {},
      "outputs": [],
      "source": [
        "%load_ext autoreload\n",
        "%autoreload 2"
      ]
    },
    {
      "cell_type": "code",
      "execution_count": 2,
      "metadata": {
        "id": "qltoZ7TbdkHZ"
      },
      "outputs": [],
      "source": [
        "import numpy as np\n",
        "import pandas as pd\n",
        "\n",
        "from plotting import *\n",
        "from prices import *\n",
        "from inflation import *"
      ]
    },
    {
      "cell_type": "markdown",
      "metadata": {},
      "source": [
        "# Dataset"
      ]
    },
    {
      "cell_type": "markdown",
      "metadata": {},
      "source": [
        "## ML systems"
      ]
    },
    {
      "cell_type": "code",
      "execution_count": 3,
      "metadata": {
        "id": "c8uNf70ve1PM"
      },
      "outputs": [
        {
          "data": {
            "text/html": [
              "<div>\n",
              "<style scoped>\n",
              "    .dataframe tbody tr th:only-of-type {\n",
              "        vertical-align: middle;\n",
              "    }\n",
              "\n",
              "    .dataframe tbody tr th {\n",
              "        vertical-align: top;\n",
              "    }\n",
              "\n",
              "    .dataframe thead th {\n",
              "        text-align: right;\n",
              "    }\n",
              "</style>\n",
              "<table border=\"1\" class=\"dataframe\">\n",
              "  <thead>\n",
              "    <tr style=\"text-align: right;\">\n",
              "      <th></th>\n",
              "      <th>System</th>\n",
              "      <th>Domain</th>\n",
              "      <th>Task</th>\n",
              "      <th>Authors</th>\n",
              "      <th>Notability criteria</th>\n",
              "      <th>Notability criteria notes</th>\n",
              "      <th>Open-source</th>\n",
              "      <th>Link</th>\n",
              "      <th>Citations</th>\n",
              "      <th>Reference</th>\n",
              "      <th>...</th>\n",
              "      <th>Organization (from Organization)</th>\n",
              "      <th>Base model</th>\n",
              "      <th>Finetune compute (FLOP)</th>\n",
              "      <th>Finetune compute notes</th>\n",
              "      <th>Authors by country</th>\n",
              "      <th>Hardware quantity</th>\n",
              "      <th>Hardware utilization</th>\n",
              "      <th>Training cost trends</th>\n",
              "      <th>Training cloud compute vendor</th>\n",
              "      <th>Training data center</th>\n",
              "    </tr>\n",
              "  </thead>\n",
              "  <tbody>\n",
              "    <tr>\n",
              "      <th>0</th>\n",
              "      <td>Cohere Command</td>\n",
              "      <td>Language</td>\n",
              "      <td>NaN</td>\n",
              "      <td>NaN</td>\n",
              "      <td>NaN</td>\n",
              "      <td>NaN</td>\n",
              "      <td>NaN</td>\n",
              "      <td>https://cohere.com/models/command</td>\n",
              "      <td>NaN</td>\n",
              "      <td>World-class AI, at your command</td>\n",
              "      <td>...</td>\n",
              "      <td>Cohere</td>\n",
              "      <td>NaN</td>\n",
              "      <td>NaN</td>\n",
              "      <td>NaN</td>\n",
              "      <td>NaN</td>\n",
              "      <td>NaN</td>\n",
              "      <td>NaN</td>\n",
              "      <td>NaN</td>\n",
              "      <td>NaN</td>\n",
              "      <td>NaN</td>\n",
              "    </tr>\n",
              "    <tr>\n",
              "      <th>1</th>\n",
              "      <td>Theseus</td>\n",
              "      <td>Other</td>\n",
              "      <td>Maze solving</td>\n",
              "      <td>Claude Shannon</td>\n",
              "      <td>Historical significance</td>\n",
              "      <td>NaN</td>\n",
              "      <td>NaN</td>\n",
              "      <td>https://www.technologyreview.com/2018/12/19/13...</td>\n",
              "      <td>0.0</td>\n",
              "      <td>Mighty Mouse</td>\n",
              "      <td>...</td>\n",
              "      <td>Bell Laboratories</td>\n",
              "      <td>NaN</td>\n",
              "      <td>NaN</td>\n",
              "      <td>NaN</td>\n",
              "      <td>Theseus</td>\n",
              "      <td>NaN</td>\n",
              "      <td>NaN</td>\n",
              "      <td>NaN</td>\n",
              "      <td>NaN</td>\n",
              "      <td>NaN</td>\n",
              "    </tr>\n",
              "    <tr>\n",
              "      <th>2</th>\n",
              "      <td>SNARC</td>\n",
              "      <td>Other</td>\n",
              "      <td>Maze solving</td>\n",
              "      <td>Marvin Minsky</td>\n",
              "      <td>Historical significance</td>\n",
              "      <td>NaN</td>\n",
              "      <td>NaN</td>\n",
              "      <td>https://en.wikipedia.org/wiki/Stochastic_neura...</td>\n",
              "      <td>33.0</td>\n",
              "      <td>A Neural-Analogue Calculator Based upon a Prob...</td>\n",
              "      <td>...</td>\n",
              "      <td>Harvard University</td>\n",
              "      <td>NaN</td>\n",
              "      <td>NaN</td>\n",
              "      <td>NaN</td>\n",
              "      <td>SNARC</td>\n",
              "      <td>NaN</td>\n",
              "      <td>NaN</td>\n",
              "      <td>NaN</td>\n",
              "      <td>NaN</td>\n",
              "      <td>NaN</td>\n",
              "    </tr>\n",
              "    <tr>\n",
              "      <th>3</th>\n",
              "      <td>Genetic algorithm</td>\n",
              "      <td>NaN</td>\n",
              "      <td>NaN</td>\n",
              "      <td>NA Barricelli</td>\n",
              "      <td>Historical significance</td>\n",
              "      <td>Possibly first computer simulation of a geneti...</td>\n",
              "      <td>NaN</td>\n",
              "      <td>https://link.springer.com/article/10.1007/BF01...</td>\n",
              "      <td>266.0</td>\n",
              "      <td>Numerical testing of evolution theories</td>\n",
              "      <td>...</td>\n",
              "      <td>Institute for Advanced Study</td>\n",
              "      <td>NaN</td>\n",
              "      <td>NaN</td>\n",
              "      <td>NaN</td>\n",
              "      <td>Genetic algorithm</td>\n",
              "      <td>NaN</td>\n",
              "      <td>NaN</td>\n",
              "      <td>NaN</td>\n",
              "      <td>NaN</td>\n",
              "      <td>NaN</td>\n",
              "    </tr>\n",
              "    <tr>\n",
              "      <th>4</th>\n",
              "      <td>Sequence-based pattern recognition</td>\n",
              "      <td>Vision</td>\n",
              "      <td>Character recognition</td>\n",
              "      <td>O. G. Selfridge</td>\n",
              "      <td>Historical significance</td>\n",
              "      <td>NaN</td>\n",
              "      <td>NaN</td>\n",
              "      <td>https://dl.acm.org/doi/10.1145/1455292.1455310</td>\n",
              "      <td>290.0</td>\n",
              "      <td>Pattern recognition and modern computers</td>\n",
              "      <td>...</td>\n",
              "      <td>Massachusetts Institute of Technology (MIT)</td>\n",
              "      <td>NaN</td>\n",
              "      <td>NaN</td>\n",
              "      <td>NaN</td>\n",
              "      <td>Sequence-based pattern recognition</td>\n",
              "      <td>NaN</td>\n",
              "      <td>NaN</td>\n",
              "      <td>NaN</td>\n",
              "      <td>NaN</td>\n",
              "      <td>NaN</td>\n",
              "    </tr>\n",
              "  </tbody>\n",
              "</table>\n",
              "<p>5 rows × 49 columns</p>\n",
              "</div>"
            ],
            "text/plain": [
              "                               System    Domain                   Task  \\\n",
              "0                      Cohere Command  Language                    NaN   \n",
              "1                             Theseus     Other           Maze solving   \n",
              "2                               SNARC     Other           Maze solving   \n",
              "3                   Genetic algorithm       NaN                    NaN   \n",
              "4  Sequence-based pattern recognition    Vision  Character recognition   \n",
              "\n",
              "           Authors      Notability criteria  \\\n",
              "0              NaN                      NaN   \n",
              "1   Claude Shannon  Historical significance   \n",
              "2    Marvin Minsky  Historical significance   \n",
              "3    NA Barricelli  Historical significance   \n",
              "4  O. G. Selfridge  Historical significance   \n",
              "\n",
              "                           Notability criteria notes Open-source  \\\n",
              "0                                                NaN         NaN   \n",
              "1                                                NaN         NaN   \n",
              "2                                                NaN         NaN   \n",
              "3  Possibly first computer simulation of a geneti...         NaN   \n",
              "4                                                NaN         NaN   \n",
              "\n",
              "                                                Link  Citations  \\\n",
              "0                  https://cohere.com/models/command        NaN   \n",
              "1  https://www.technologyreview.com/2018/12/19/13...        0.0   \n",
              "2  https://en.wikipedia.org/wiki/Stochastic_neura...       33.0   \n",
              "3  https://link.springer.com/article/10.1007/BF01...      266.0   \n",
              "4     https://dl.acm.org/doi/10.1145/1455292.1455310      290.0   \n",
              "\n",
              "                                           Reference  ...  \\\n",
              "0                    World-class AI, at your command  ...   \n",
              "1                                       Mighty Mouse  ...   \n",
              "2  A Neural-Analogue Calculator Based upon a Prob...  ...   \n",
              "3            Numerical testing of evolution theories  ...   \n",
              "4           Pattern recognition and modern computers  ...   \n",
              "\n",
              "              Organization (from Organization) Base model  \\\n",
              "0                                       Cohere        NaN   \n",
              "1                            Bell Laboratories        NaN   \n",
              "2                           Harvard University        NaN   \n",
              "3                 Institute for Advanced Study        NaN   \n",
              "4  Massachusetts Institute of Technology (MIT)        NaN   \n",
              "\n",
              "  Finetune compute (FLOP)  Finetune compute notes  \\\n",
              "0                     NaN                     NaN   \n",
              "1                     NaN                     NaN   \n",
              "2                     NaN                     NaN   \n",
              "3                     NaN                     NaN   \n",
              "4                     NaN                     NaN   \n",
              "\n",
              "                   Authors by country  Hardware quantity Hardware utilization  \\\n",
              "0                                 NaN                NaN                  NaN   \n",
              "1                             Theseus                NaN                  NaN   \n",
              "2                               SNARC                NaN                  NaN   \n",
              "3                   Genetic algorithm                NaN                  NaN   \n",
              "4  Sequence-based pattern recognition                NaN                  NaN   \n",
              "\n",
              "  Training cost trends Training cloud compute vendor  Training data center  \n",
              "0                  NaN                           NaN                   NaN  \n",
              "1                  NaN                           NaN                   NaN  \n",
              "2                  NaN                           NaN                   NaN  \n",
              "3                  NaN                           NaN                   NaN  \n",
              "4                  NaN                           NaN                   NaN  \n",
              "\n",
              "[5 rows x 49 columns]"
            ]
          },
          "execution_count": 3,
          "metadata": {},
          "output_type": "execute_result"
        }
      ],
      "source": [
        "pcd_df = pd.read_csv('data/All ML Systems - full view.csv')\n",
        "pcd_df.head()"
      ]
    },
    {
      "cell_type": "code",
      "execution_count": 4,
      "metadata": {},
      "outputs": [],
      "source": [
        "# Publication date in datetime format\n",
        "pcd_df.dropna(subset=['Publication date'], inplace=True)\n",
        "pcd_df['Publication date'] = pd.to_datetime(pcd_df['Publication date'])"
      ]
    },
    {
      "cell_type": "code",
      "execution_count": 5,
      "metadata": {
        "id": "zHTeCty5dqjn"
      },
      "outputs": [],
      "source": [
        "# Manually copied from \"Training cost trends\" Airtable\n",
        "frontier_systems = [\n",
        "    \"PaLM 2\",\n",
        "    \"GPT-4\",\n",
        "    \"Minerva (540B)\",\n",
        "    \"Megatron-Turing NLG 530B\",\n",
        "    \"GPT-3 175B (davinci)\",\n",
        "    \"Meena\",\n",
        "    \"AlphaStar\",\n",
        "    \"AlphaGo Zero\",\n",
        "    \"AlphaGo Master\",\n",
        "    \"GNMT\",\n",
        "    \"Claude 2\",\n",
        "    \"PaLM (540B)\",\n",
        "    \"ERNIE 3.0 Titan\",\n",
        "    \"Gopher (280B)\",\n",
        "    \"OpenAI Five\",\n",
        "    \"T5-11B\",\n",
        "    \"Megatron-BERT\",\n",
        "    \"ResNeXt-101 32x48d\",\n",
        "    \"AlphaZero\",\n",
        "    \"Falcon 180B\",\n",
        "    \"GPT-3.5 (text-davinci-003)\",\n",
        "    \"Chinchilla\",\n",
        "    \"Yuan 1.0\",\n",
        "    \"Turing-NLG\",\n",
        "    \"BigGAN-deep 512x512\",\n",
        "    \"NASv3 (CIFAR-10)\",\n",
        "    \"AlphaGo Lee\",\n",
        "    \"AlphaGo Fan\",\n",
        "    \"OPT-175B\",\n",
        "    \"AlphaCode\",\n",
        "    \"GLaM\",\n",
        "    \"OpenAI Five Rerun\",\n",
        "    \"T5-3B\",\n",
        "    \"Megatron-LM (8.3B)\",\n",
        "    \"FTW\",\n",
        "    \"AmoebaNet-A (F=448)\",\n",
        "    \"OpenAI TI7 DOTA 1v1\",\n",
        "    \"JFT\",\n",
        "    \"Llama 2-70B\",\n",
        "    \"LLaMA-65B\",\n",
        "    \"LaMDA\",\n",
        "    \"ALIGN\",\n",
        "    \"GShard (dense)\",\n",
        "    \"RoBERTa Large\",\n",
        "    \"IMPALA\",\n",
        "]"
      ]
    },
    {
      "cell_type": "code",
      "execution_count": 6,
      "metadata": {
        "id": "Nyzyh8IKe0ZK"
      },
      "outputs": [
        {
          "data": {
            "text/html": [
              "<div>\n",
              "<style scoped>\n",
              "    .dataframe tbody tr th:only-of-type {\n",
              "        vertical-align: middle;\n",
              "    }\n",
              "\n",
              "    .dataframe tbody tr th {\n",
              "        vertical-align: top;\n",
              "    }\n",
              "\n",
              "    .dataframe thead th {\n",
              "        text-align: right;\n",
              "    }\n",
              "</style>\n",
              "<table border=\"1\" class=\"dataframe\">\n",
              "  <thead>\n",
              "    <tr style=\"text-align: right;\">\n",
              "      <th></th>\n",
              "      <th>System</th>\n",
              "      <th>Domain</th>\n",
              "      <th>Task</th>\n",
              "      <th>Authors</th>\n",
              "      <th>Notability criteria</th>\n",
              "      <th>Notability criteria notes</th>\n",
              "      <th>Open-source</th>\n",
              "      <th>Link</th>\n",
              "      <th>Citations</th>\n",
              "      <th>Reference</th>\n",
              "      <th>...</th>\n",
              "      <th>Organization (from Organization)</th>\n",
              "      <th>Base model</th>\n",
              "      <th>Finetune compute (FLOP)</th>\n",
              "      <th>Finetune compute notes</th>\n",
              "      <th>Authors by country</th>\n",
              "      <th>Hardware quantity</th>\n",
              "      <th>Hardware utilization</th>\n",
              "      <th>Training cost trends</th>\n",
              "      <th>Training cloud compute vendor</th>\n",
              "      <th>Training data center</th>\n",
              "    </tr>\n",
              "  </thead>\n",
              "  <tbody>\n",
              "    <tr>\n",
              "      <th>265</th>\n",
              "      <td>AlphaGo Fan</td>\n",
              "      <td>Games</td>\n",
              "      <td>Go</td>\n",
              "      <td>David Silver, Aja Huang, Chris J. Maddison, Ar...</td>\n",
              "      <td>SOTA improvement</td>\n",
              "      <td>NaN</td>\n",
              "      <td>NaN</td>\n",
              "      <td>https://www.nature.com/articles/nature24270.ep...</td>\n",
              "      <td>14389.0</td>\n",
              "      <td>Mastering the game of Go with deep neural netw...</td>\n",
              "      <td>...</td>\n",
              "      <td>Google DeepMind</td>\n",
              "      <td>NaN</td>\n",
              "      <td>NaN</td>\n",
              "      <td>NaN</td>\n",
              "      <td>AlphaGo Fan</td>\n",
              "      <td>NaN</td>\n",
              "      <td>NaN</td>\n",
              "      <td>AlphaGo Fan</td>\n",
              "      <td>NaN</td>\n",
              "      <td>NaN</td>\n",
              "    </tr>\n",
              "    <tr>\n",
              "      <th>275</th>\n",
              "      <td>AlphaGo Lee</td>\n",
              "      <td>Games</td>\n",
              "      <td>Go</td>\n",
              "      <td>David Silver, Aja Huang, Chris J. Maddison, Ar...</td>\n",
              "      <td>Highly cited</td>\n",
              "      <td>NaN</td>\n",
              "      <td>NaN</td>\n",
              "      <td>https://www.nature.com/articles/nature16961</td>\n",
              "      <td>14389.0</td>\n",
              "      <td>Mastering the game of Go with deep neural netw...</td>\n",
              "      <td>...</td>\n",
              "      <td>DeepMind</td>\n",
              "      <td>NaN</td>\n",
              "      <td>NaN</td>\n",
              "      <td>NaN</td>\n",
              "      <td>AlphaGo Lee</td>\n",
              "      <td>NaN</td>\n",
              "      <td>NaN</td>\n",
              "      <td>AlphaGo Lee</td>\n",
              "      <td>NaN</td>\n",
              "      <td>NaN</td>\n",
              "    </tr>\n",
              "    <tr>\n",
              "      <th>306</th>\n",
              "      <td>GNMT</td>\n",
              "      <td>Language</td>\n",
              "      <td>Translation</td>\n",
              "      <td>Yonghui Wu, Mike Schuster, Zhifeng Chen, Quoc ...</td>\n",
              "      <td>Highly cited</td>\n",
              "      <td>NaN</td>\n",
              "      <td>NaN</td>\n",
              "      <td>https://arxiv.org/abs/1609.08144</td>\n",
              "      <td>5948.0</td>\n",
              "      <td>Google's Neural Machine Translation System: Br...</td>\n",
              "      <td>...</td>\n",
              "      <td>Google</td>\n",
              "      <td>NaN</td>\n",
              "      <td>NaN</td>\n",
              "      <td>NaN</td>\n",
              "      <td>GNMT</td>\n",
              "      <td>96.0</td>\n",
              "      <td>NaN</td>\n",
              "      <td>GNMT</td>\n",
              "      <td>NaN</td>\n",
              "      <td>NaN</td>\n",
              "    </tr>\n",
              "    <tr>\n",
              "      <th>317</th>\n",
              "      <td>NASv3 (CIFAR-10)</td>\n",
              "      <td>Vision</td>\n",
              "      <td>NaN</td>\n",
              "      <td>Barret Zoph, Quoc V. Le</td>\n",
              "      <td>Highly cited</td>\n",
              "      <td>NaN</td>\n",
              "      <td>NaN</td>\n",
              "      <td>https://arxiv.org/abs/1611.01578</td>\n",
              "      <td>4569.0</td>\n",
              "      <td>Neural Architecture Search with Reinforcement ...</td>\n",
              "      <td>...</td>\n",
              "      <td>Google Brain</td>\n",
              "      <td>NaN</td>\n",
              "      <td>NaN</td>\n",
              "      <td>NaN</td>\n",
              "      <td>NASv3 (CIFAR-10)</td>\n",
              "      <td>800.0</td>\n",
              "      <td>NaN</td>\n",
              "      <td>NASv3 (CIFAR-10)</td>\n",
              "      <td>NaN</td>\n",
              "      <td>NaN</td>\n",
              "    </tr>\n",
              "    <tr>\n",
              "      <th>337</th>\n",
              "      <td>AlphaGo Master</td>\n",
              "      <td>Games</td>\n",
              "      <td>Go</td>\n",
              "      <td>D Silver, J Schrittwieser, K Simonyan, I Anton...</td>\n",
              "      <td>Highly cited</td>\n",
              "      <td>NaN</td>\n",
              "      <td>NaN</td>\n",
              "      <td>https://www.researchgate.net/publication/32047...</td>\n",
              "      <td>7831.0</td>\n",
              "      <td>Mastering the game of Go without human knowledge</td>\n",
              "      <td>...</td>\n",
              "      <td>DeepMind</td>\n",
              "      <td>NaN</td>\n",
              "      <td>NaN</td>\n",
              "      <td>NaN</td>\n",
              "      <td>AlphaGo Master</td>\n",
              "      <td>NaN</td>\n",
              "      <td>NaN</td>\n",
              "      <td>AlphaGo Master</td>\n",
              "      <td>NaN</td>\n",
              "      <td>NaN</td>\n",
              "    </tr>\n",
              "  </tbody>\n",
              "</table>\n",
              "<p>5 rows × 49 columns</p>\n",
              "</div>"
            ],
            "text/plain": [
              "               System    Domain         Task  \\\n",
              "265       AlphaGo Fan     Games           Go   \n",
              "275       AlphaGo Lee     Games           Go   \n",
              "306              GNMT  Language  Translation   \n",
              "317  NASv3 (CIFAR-10)    Vision          NaN   \n",
              "337    AlphaGo Master     Games           Go   \n",
              "\n",
              "                                               Authors Notability criteria  \\\n",
              "265  David Silver, Aja Huang, Chris J. Maddison, Ar...    SOTA improvement   \n",
              "275  David Silver, Aja Huang, Chris J. Maddison, Ar...        Highly cited   \n",
              "306  Yonghui Wu, Mike Schuster, Zhifeng Chen, Quoc ...        Highly cited   \n",
              "317                            Barret Zoph, Quoc V. Le        Highly cited   \n",
              "337  D Silver, J Schrittwieser, K Simonyan, I Anton...        Highly cited   \n",
              "\n",
              "    Notability criteria notes Open-source  \\\n",
              "265                       NaN         NaN   \n",
              "275                       NaN         NaN   \n",
              "306                       NaN         NaN   \n",
              "317                       NaN         NaN   \n",
              "337                       NaN         NaN   \n",
              "\n",
              "                                                  Link  Citations  \\\n",
              "265  https://www.nature.com/articles/nature24270.ep...    14389.0   \n",
              "275        https://www.nature.com/articles/nature16961    14389.0   \n",
              "306                   https://arxiv.org/abs/1609.08144     5948.0   \n",
              "317                   https://arxiv.org/abs/1611.01578     4569.0   \n",
              "337  https://www.researchgate.net/publication/32047...     7831.0   \n",
              "\n",
              "                                             Reference  ...  \\\n",
              "265  Mastering the game of Go with deep neural netw...  ...   \n",
              "275  Mastering the game of Go with deep neural netw...  ...   \n",
              "306  Google's Neural Machine Translation System: Br...  ...   \n",
              "317  Neural Architecture Search with Reinforcement ...  ...   \n",
              "337   Mastering the game of Go without human knowledge  ...   \n",
              "\n",
              "    Organization (from Organization) Base model Finetune compute (FLOP)  \\\n",
              "265                  Google DeepMind        NaN                     NaN   \n",
              "275                         DeepMind        NaN                     NaN   \n",
              "306                           Google        NaN                     NaN   \n",
              "317                     Google Brain        NaN                     NaN   \n",
              "337                         DeepMind        NaN                     NaN   \n",
              "\n",
              "     Finetune compute notes Authors by country  Hardware quantity  \\\n",
              "265                     NaN        AlphaGo Fan                NaN   \n",
              "275                     NaN        AlphaGo Lee                NaN   \n",
              "306                     NaN               GNMT               96.0   \n",
              "317                     NaN   NASv3 (CIFAR-10)              800.0   \n",
              "337                     NaN     AlphaGo Master                NaN   \n",
              "\n",
              "    Hardware utilization Training cost trends Training cloud compute vendor  \\\n",
              "265                  NaN          AlphaGo Fan                           NaN   \n",
              "275                  NaN          AlphaGo Lee                           NaN   \n",
              "306                  NaN                 GNMT                           NaN   \n",
              "317                  NaN     NASv3 (CIFAR-10)                           NaN   \n",
              "337                  NaN       AlphaGo Master                           NaN   \n",
              "\n",
              "     Training data center  \n",
              "265                   NaN  \n",
              "275                   NaN  \n",
              "306                   NaN  \n",
              "317                   NaN  \n",
              "337                   NaN  \n",
              "\n",
              "[5 rows x 49 columns]"
            ]
          },
          "execution_count": 6,
          "metadata": {},
          "output_type": "execute_result"
        }
      ],
      "source": [
        "frontier_pcd_df = pcd_df[pcd_df['System'].isin(frontier_systems)]\n",
        "frontier_pcd_df.head()"
      ]
    },
    {
      "cell_type": "code",
      "execution_count": 7,
      "metadata": {},
      "outputs": [],
      "source": [
        "assert len(frontier_pcd_df) == len(frontier_systems)"
      ]
    },
    {
      "cell_type": "markdown",
      "metadata": {},
      "source": [
        "## Prices"
      ]
    },
    {
      "cell_type": "code",
      "execution_count": 8,
      "metadata": {},
      "outputs": [
        {
          "data": {
            "text/html": [
              "<div>\n",
              "<style scoped>\n",
              "    .dataframe tbody tr th:only-of-type {\n",
              "        vertical-align: middle;\n",
              "    }\n",
              "\n",
              "    .dataframe tbody tr th {\n",
              "        vertical-align: top;\n",
              "    }\n",
              "\n",
              "    .dataframe thead th {\n",
              "        text-align: right;\n",
              "    }\n",
              "</style>\n",
              "<table border=\"1\" class=\"dataframe\">\n",
              "  <thead>\n",
              "    <tr style=\"text-align: right;\">\n",
              "      <th></th>\n",
              "      <th>Price source</th>\n",
              "      <th>Price date</th>\n",
              "      <th>Hardware model</th>\n",
              "      <th>Manufacturer (from Hardware model)</th>\n",
              "      <th>Vendor</th>\n",
              "      <th>Location</th>\n",
              "      <th>Price per chip-hour (on-demand)</th>\n",
              "      <th>Price per chip-hour (1-year CUD)</th>\n",
              "      <th>Price per chip-hour (3-year CUD)</th>\n",
              "      <th>Price (hardware purchase)</th>\n",
              "    </tr>\n",
              "  </thead>\n",
              "  <tbody>\n",
              "    <tr>\n",
              "      <th>0</th>\n",
              "      <td>https://web.archive.org/web/20181009102635/htt...</td>\n",
              "      <td>2018-10-09</td>\n",
              "      <td>Google TPU v2</td>\n",
              "      <td>Google</td>\n",
              "      <td>Google Cloud</td>\n",
              "      <td>US</td>\n",
              "      <td>$1.13</td>\n",
              "      <td>NaN</td>\n",
              "      <td>NaN</td>\n",
              "      <td>NaN</td>\n",
              "    </tr>\n",
              "    <tr>\n",
              "      <th>1</th>\n",
              "      <td>https://web.archive.org/web/20181011013513/htt...</td>\n",
              "      <td>2018-10-11</td>\n",
              "      <td>Google TPU v3</td>\n",
              "      <td>Google</td>\n",
              "      <td>Google Cloud</td>\n",
              "      <td>US</td>\n",
              "      <td>$2.00</td>\n",
              "      <td>NaN</td>\n",
              "      <td>NaN</td>\n",
              "      <td>NaN</td>\n",
              "    </tr>\n",
              "    <tr>\n",
              "      <th>2</th>\n",
              "      <td>https://web.archive.org/web/20181011013513/htt...</td>\n",
              "      <td>2018-10-11</td>\n",
              "      <td>Google TPU v3</td>\n",
              "      <td>Google</td>\n",
              "      <td>Google Cloud</td>\n",
              "      <td>Europe</td>\n",
              "      <td>$2.20</td>\n",
              "      <td>NaN</td>\n",
              "      <td>NaN</td>\n",
              "      <td>NaN</td>\n",
              "    </tr>\n",
              "    <tr>\n",
              "      <th>3</th>\n",
              "      <td>https://web.archive.org/web/20190701021000/htt...</td>\n",
              "      <td>2019-07-01</td>\n",
              "      <td>Google TPU v3</td>\n",
              "      <td>Google</td>\n",
              "      <td>Google Cloud</td>\n",
              "      <td>Iowa (us-central1)</td>\n",
              "      <td>$2.00</td>\n",
              "      <td>$1.26</td>\n",
              "      <td>$0.90</td>\n",
              "      <td>NaN</td>\n",
              "    </tr>\n",
              "    <tr>\n",
              "      <th>4</th>\n",
              "      <td>https://web.archive.org/web/20190728061708/htt...</td>\n",
              "      <td>2019-07-28</td>\n",
              "      <td>Google TPU v3</td>\n",
              "      <td>Google</td>\n",
              "      <td>Google Cloud</td>\n",
              "      <td>Netherlands (europe-west4)</td>\n",
              "      <td>$2.00</td>\n",
              "      <td>$1.26</td>\n",
              "      <td>$0.90</td>\n",
              "      <td>NaN</td>\n",
              "    </tr>\n",
              "  </tbody>\n",
              "</table>\n",
              "</div>"
            ],
            "text/plain": [
              "                                        Price source  Price date  \\\n",
              "0  https://web.archive.org/web/20181009102635/htt...  2018-10-09   \n",
              "1  https://web.archive.org/web/20181011013513/htt...  2018-10-11   \n",
              "2  https://web.archive.org/web/20181011013513/htt...  2018-10-11   \n",
              "3  https://web.archive.org/web/20190701021000/htt...  2019-07-01   \n",
              "4  https://web.archive.org/web/20190728061708/htt...  2019-07-28   \n",
              "\n",
              "  Hardware model Manufacturer (from Hardware model)        Vendor  \\\n",
              "0  Google TPU v2                             Google  Google Cloud   \n",
              "1  Google TPU v3                             Google  Google Cloud   \n",
              "2  Google TPU v3                             Google  Google Cloud   \n",
              "3  Google TPU v3                             Google  Google Cloud   \n",
              "4  Google TPU v3                             Google  Google Cloud   \n",
              "\n",
              "                     Location Price per chip-hour (on-demand)  \\\n",
              "0                          US                           $1.13   \n",
              "1                          US                           $2.00   \n",
              "2                      Europe                           $2.20   \n",
              "3          Iowa (us-central1)                           $2.00   \n",
              "4  Netherlands (europe-west4)                           $2.00   \n",
              "\n",
              "  Price per chip-hour (1-year CUD) Price per chip-hour (3-year CUD)  \\\n",
              "0                              NaN                              NaN   \n",
              "1                              NaN                              NaN   \n",
              "2                              NaN                              NaN   \n",
              "3                            $1.26                            $0.90   \n",
              "4                            $1.26                            $0.90   \n",
              "\n",
              "   Price (hardware purchase)  \n",
              "0                        NaN  \n",
              "1                        NaN  \n",
              "2                        NaN  \n",
              "3                        NaN  \n",
              "4                        NaN  "
            ]
          },
          "execution_count": 8,
          "metadata": {},
          "output_type": "execute_result"
        }
      ],
      "source": [
        "price_df = pd.read_csv('data/Hardware prices.csv')\n",
        "price_df.head()"
      ]
    },
    {
      "cell_type": "code",
      "execution_count": 9,
      "metadata": {},
      "outputs": [],
      "source": [
        "# Price date in datetime format\n",
        "price_df.dropna(subset=['Price date'], inplace=True)\n",
        "price_df['Price date'] = pd.to_datetime(price_df['Price date'])"
      ]
    },
    {
      "cell_type": "code",
      "execution_count": 10,
      "metadata": {},
      "outputs": [],
      "source": [
        "pcd_hardware_model_colname = 'Name of the hardware (from Training hardware)'"
      ]
    },
    {
      "cell_type": "markdown",
      "metadata": {},
      "source": [
        "## Hardware data"
      ]
    },
    {
      "cell_type": "code",
      "execution_count": 11,
      "metadata": {},
      "outputs": [
        {
          "data": {
            "text/html": [
              "<div>\n",
              "<style scoped>\n",
              "    .dataframe tbody tr th:only-of-type {\n",
              "        vertical-align: middle;\n",
              "    }\n",
              "\n",
              "    .dataframe tbody tr th {\n",
              "        vertical-align: top;\n",
              "    }\n",
              "\n",
              "    .dataframe thead th {\n",
              "        text-align: right;\n",
              "    }\n",
              "</style>\n",
              "<table border=\"1\" class=\"dataframe\">\n",
              "  <thead>\n",
              "    <tr style=\"text-align: right;\">\n",
              "      <th></th>\n",
              "      <th>Name of the hardware</th>\n",
              "      <th>Manufacturer</th>\n",
              "      <th>Type</th>\n",
              "      <th>Release date</th>\n",
              "      <th>Release price (USD)</th>\n",
              "      <th>FP64 (double precision) Performance (FLOP/s)</th>\n",
              "      <th>FP32 (single precision) Performance (FLOP/s)</th>\n",
              "      <th>FP16 (half precision) Performance (FLOP/s)</th>\n",
              "      <th>Tensor Float 32 (TF32)</th>\n",
              "      <th>FP16 Tensor Core</th>\n",
              "      <th>...</th>\n",
              "      <th>Foundry</th>\n",
              "      <th>Number of transistors in million</th>\n",
              "      <th>Prominent Years of usage</th>\n",
              "      <th>Google Cloud pricing ($ per hour) data from 17 dec 2022</th>\n",
              "      <th>Link to datasheet</th>\n",
              "      <th>Source for the Price</th>\n",
              "      <th>ALL ML SYSTEMS</th>\n",
              "      <th>All ML Systems copy</th>\n",
              "      <th>All ML Systems copy.1</th>\n",
              "      <th>Hardware prices</th>\n",
              "    </tr>\n",
              "  </thead>\n",
              "  <tbody>\n",
              "    <tr>\n",
              "      <th>0</th>\n",
              "      <td>3dfx Spectre 1000</td>\n",
              "      <td>Other</td>\n",
              "      <td>GPU</td>\n",
              "      <td>NaN</td>\n",
              "      <td>NaN</td>\n",
              "      <td>NaN</td>\n",
              "      <td>NaN</td>\n",
              "      <td>NaN</td>\n",
              "      <td>NaN</td>\n",
              "      <td>NaN</td>\n",
              "      <td>...</td>\n",
              "      <td>TSMC</td>\n",
              "      <td>30.0</td>\n",
              "      <td>NaN</td>\n",
              "      <td>NaN</td>\n",
              "      <td>NaN</td>\n",
              "      <td>NaN</td>\n",
              "      <td>NaN</td>\n",
              "      <td>NaN</td>\n",
              "      <td>NaN</td>\n",
              "      <td>NaN</td>\n",
              "    </tr>\n",
              "    <tr>\n",
              "      <th>1</th>\n",
              "      <td>3dfx Spectre 2000</td>\n",
              "      <td>Other</td>\n",
              "      <td>GPU</td>\n",
              "      <td>NaN</td>\n",
              "      <td>NaN</td>\n",
              "      <td>NaN</td>\n",
              "      <td>NaN</td>\n",
              "      <td>NaN</td>\n",
              "      <td>NaN</td>\n",
              "      <td>NaN</td>\n",
              "      <td>...</td>\n",
              "      <td>TSMC</td>\n",
              "      <td>30.0</td>\n",
              "      <td>NaN</td>\n",
              "      <td>NaN</td>\n",
              "      <td>NaN</td>\n",
              "      <td>NaN</td>\n",
              "      <td>NaN</td>\n",
              "      <td>NaN</td>\n",
              "      <td>NaN</td>\n",
              "      <td>NaN</td>\n",
              "    </tr>\n",
              "    <tr>\n",
              "      <th>2</th>\n",
              "      <td>3dfx Spectre 3000</td>\n",
              "      <td>Other</td>\n",
              "      <td>GPU</td>\n",
              "      <td>NaN</td>\n",
              "      <td>NaN</td>\n",
              "      <td>NaN</td>\n",
              "      <td>NaN</td>\n",
              "      <td>NaN</td>\n",
              "      <td>NaN</td>\n",
              "      <td>NaN</td>\n",
              "      <td>...</td>\n",
              "      <td>TSMC</td>\n",
              "      <td>30.0</td>\n",
              "      <td>NaN</td>\n",
              "      <td>NaN</td>\n",
              "      <td>NaN</td>\n",
              "      <td>NaN</td>\n",
              "      <td>NaN</td>\n",
              "      <td>NaN</td>\n",
              "      <td>NaN</td>\n",
              "      <td>NaN</td>\n",
              "    </tr>\n",
              "    <tr>\n",
              "      <th>3</th>\n",
              "      <td>3dfx Voodoo4 4000 AGP</td>\n",
              "      <td>Other</td>\n",
              "      <td>GPU</td>\n",
              "      <td>NaN</td>\n",
              "      <td>NaN</td>\n",
              "      <td>NaN</td>\n",
              "      <td>NaN</td>\n",
              "      <td>NaN</td>\n",
              "      <td>NaN</td>\n",
              "      <td>NaN</td>\n",
              "      <td>...</td>\n",
              "      <td>TSMC</td>\n",
              "      <td>14.0</td>\n",
              "      <td>NaN</td>\n",
              "      <td>NaN</td>\n",
              "      <td>NaN</td>\n",
              "      <td>NaN</td>\n",
              "      <td>NaN</td>\n",
              "      <td>NaN</td>\n",
              "      <td>NaN</td>\n",
              "      <td>NaN</td>\n",
              "    </tr>\n",
              "    <tr>\n",
              "      <th>4</th>\n",
              "      <td>3dfx Voodoo4 4500 AGP</td>\n",
              "      <td>Other</td>\n",
              "      <td>GPU</td>\n",
              "      <td>2000-10-13</td>\n",
              "      <td>NaN</td>\n",
              "      <td>NaN</td>\n",
              "      <td>NaN</td>\n",
              "      <td>NaN</td>\n",
              "      <td>NaN</td>\n",
              "      <td>NaN</td>\n",
              "      <td>...</td>\n",
              "      <td>TSMC</td>\n",
              "      <td>14.0</td>\n",
              "      <td>NaN</td>\n",
              "      <td>NaN</td>\n",
              "      <td>NaN</td>\n",
              "      <td>NaN</td>\n",
              "      <td>NaN</td>\n",
              "      <td>NaN</td>\n",
              "      <td>NaN</td>\n",
              "      <td>NaN</td>\n",
              "    </tr>\n",
              "  </tbody>\n",
              "</table>\n",
              "<p>5 rows × 38 columns</p>\n",
              "</div>"
            ],
            "text/plain": [
              "    Name of the hardware Manufacturer Type Release date Release price (USD)  \\\n",
              "0      3dfx Spectre 1000        Other  GPU          NaN                 NaN   \n",
              "1      3dfx Spectre 2000        Other  GPU          NaN                 NaN   \n",
              "2      3dfx Spectre 3000        Other  GPU          NaN                 NaN   \n",
              "3  3dfx Voodoo4 4000 AGP        Other  GPU          NaN                 NaN   \n",
              "4  3dfx Voodoo4 4500 AGP        Other  GPU   2000-10-13                 NaN   \n",
              "\n",
              "   FP64 (double precision) Performance (FLOP/s)  \\\n",
              "0                                           NaN   \n",
              "1                                           NaN   \n",
              "2                                           NaN   \n",
              "3                                           NaN   \n",
              "4                                           NaN   \n",
              "\n",
              "   FP32 (single precision) Performance (FLOP/s)  \\\n",
              "0                                           NaN   \n",
              "1                                           NaN   \n",
              "2                                           NaN   \n",
              "3                                           NaN   \n",
              "4                                           NaN   \n",
              "\n",
              "   FP16 (half precision) Performance (FLOP/s)  Tensor Float 32 (TF32)  \\\n",
              "0                                         NaN                     NaN   \n",
              "1                                         NaN                     NaN   \n",
              "2                                         NaN                     NaN   \n",
              "3                                         NaN                     NaN   \n",
              "4                                         NaN                     NaN   \n",
              "\n",
              "   FP16 Tensor Core  ...  Foundry  Number of transistors in million  \\\n",
              "0               NaN  ...     TSMC                              30.0   \n",
              "1               NaN  ...     TSMC                              30.0   \n",
              "2               NaN  ...     TSMC                              30.0   \n",
              "3               NaN  ...     TSMC                              14.0   \n",
              "4               NaN  ...     TSMC                              14.0   \n",
              "\n",
              "   Prominent Years of usage  \\\n",
              "0                       NaN   \n",
              "1                       NaN   \n",
              "2                       NaN   \n",
              "3                       NaN   \n",
              "4                       NaN   \n",
              "\n",
              "   Google Cloud pricing ($ per hour) data from 17 dec 2022  Link to datasheet  \\\n",
              "0                                                NaN                      NaN   \n",
              "1                                                NaN                      NaN   \n",
              "2                                                NaN                      NaN   \n",
              "3                                                NaN                      NaN   \n",
              "4                                                NaN                      NaN   \n",
              "\n",
              "   Source for the Price  ALL ML SYSTEMS  All ML Systems copy  \\\n",
              "0                   NaN             NaN                  NaN   \n",
              "1                   NaN             NaN                  NaN   \n",
              "2                   NaN             NaN                  NaN   \n",
              "3                   NaN             NaN                  NaN   \n",
              "4                   NaN             NaN                  NaN   \n",
              "\n",
              "   All ML Systems copy.1  Hardware prices  \n",
              "0                    NaN              NaN  \n",
              "1                    NaN              NaN  \n",
              "2                    NaN              NaN  \n",
              "3                    NaN              NaN  \n",
              "4                    NaN              NaN  \n",
              "\n",
              "[5 rows x 38 columns]"
            ]
          },
          "execution_count": 11,
          "metadata": {},
          "output_type": "execute_result"
        }
      ],
      "source": [
        "hardware_df = pd.read_csv('data/Chip dataset-Grid view.csv')\n",
        "hardware_df.head()"
      ]
    },
    {
      "cell_type": "markdown",
      "metadata": {},
      "source": [
        "# Imputation"
      ]
    },
    {
      "cell_type": "markdown",
      "metadata": {},
      "source": [
        "Training hardware: \"best\" available"
      ]
    },
    {
      "cell_type": "code",
      "execution_count": null,
      "metadata": {},
      "outputs": [],
      "source": []
    },
    {
      "cell_type": "markdown",
      "metadata": {},
      "source": [
        "FLOP/second (flops) utilization: mean of known values\n",
        "\n",
        "TODO: random sample from distribution, combined with bootstrapping"
      ]
    },
    {
      "cell_type": "code",
      "execution_count": null,
      "metadata": {},
      "outputs": [],
      "source": []
    },
    {
      "cell_type": "markdown",
      "metadata": {},
      "source": [
        "Number of chip-hours\n",
        "\n",
        "If num_chips AND training_time_hours known: chip_hours = num_chips * training_time_hours\n",
        "\n",
        "Else if num_chips unknown: \n",
        "\n",
        "Else if training_time_hours unknown: \n",
        "\n",
        "Else (both unknown): chip_hours = training_compute_flop / (chip_flops * flops_utilization * SECONDS_PER_HOUR)"
      ]
    },
    {
      "cell_type": "code",
      "execution_count": 12,
      "metadata": {},
      "outputs": [
        {
          "name": "stderr",
          "output_type": "stream",
          "text": [
            "/var/folders/s2/stl5t_bn7xg9vdfxxr71rzrc0000gn/T/ipykernel_643/1143589437.py:9: SettingWithCopyWarning: \n",
            "A value is trying to be set on a copy of a slice from a DataFrame.\n",
            "Try using .loc[row_indexer,col_indexer] = value instead\n",
            "\n",
            "See the caveats in the documentation: https://pandas.pydata.org/pandas-docs/stable/user_guide/indexing.html#returning-a-view-versus-a-copy\n",
            "  frontier_pcd_df['Training time (chip hours)'] = chip_hours\n"
          ]
        }
      ],
      "source": [
        "chip_hours = []\n",
        "for i, row in frontier_pcd_df.iterrows():\n",
        "    if pd.isna(row['Hardware quantity']) or pd.isna(row['Training time (hours)']):\n",
        "        # TODO impute missing values\n",
        "        chip_hours.append(np.nan)\n",
        "    else:\n",
        "        chip_hours.append(row['Hardware quantity'] * row['Training time (hours)'])\n",
        "\n",
        "frontier_pcd_df['Training time (chip hours)'] = chip_hours"
      ]
    },
    {
      "cell_type": "markdown",
      "metadata": {},
      "source": [
        "# Price selection"
      ]
    },
    {
      "cell_type": "markdown",
      "metadata": {},
      "source": [
        "1. Use a fixed mapping from Organization to cloud provider. If no mapping found, default to \"Amazon Web Services\".\n",
        "2. If there's a match for the hardware model, use that. Else, discard the ML system from the dataset.\n",
        "3. Use the price that is nearest to, but prior to, training time + 2 months before the publication date\n",
        "4. If there are no prices prior to that time, use the nearest price after that time\n",
        "5. If there are no prices for that hardware model and cloud provider at all, repeat steps 3 and 4 for \"Microsoft Azure\", then \"Google Cloud\" as the cloud provider.\n",
        "6. If there are no prices found from step 5, discard the ML system from the dataset."
      ]
    },
    {
      "cell_type": "code",
      "execution_count": 13,
      "metadata": {},
      "outputs": [
        {
          "name": "stdout",
          "output_type": "stream",
          "text": [
            "Price date: 2019-07-01 00:00:00\n",
            "Price: $1.26\n"
          ]
        }
      ],
      "source": [
        "# Example usage\n",
        "example_vendor = \"Google Cloud\"\n",
        "example_hardware_model = \"Google TPU v3\"\n",
        "example_date = \"2019-07-15\" # Example date, format should be YYYY-MM-DD\n",
        "\n",
        "# Find the row\n",
        "closest_row_df = find_closest_price_dates(example_vendor, example_hardware_model, example_date, price_df)\n",
        "\n",
        "for i, row in closest_row_df.iterrows():\n",
        "    if row['Price date'] <= pd.to_datetime(example_date):\n",
        "        print(f\"Price date: {row['Price date']}\")\n",
        "        print(f\"Price: {row['Price per chip-hour (1-year CUD)']}\")\n",
        "        break    "
      ]
    },
    {
      "cell_type": "code",
      "execution_count": 14,
      "metadata": {},
      "outputs": [],
      "source": [
        "org_to_cloud_vendor = {\n",
        "    'google': 'Google Cloud',\n",
        "    'deepmind': 'Google Cloud',\n",
        "    'microsoft': 'Microsoft Azure',\n",
        "    'openai': 'Microsoft Azure',\n",
        "}"
      ]
    },
    {
      "cell_type": "code",
      "execution_count": 15,
      "metadata": {},
      "outputs": [
        {
          "name": "stdout",
          "output_type": "stream",
          "text": [
            "==== System: AlphaGo Fan ====\n",
            "Training time is required but no value found\n",
            "\n",
            "==== System: AlphaGo Lee ====\n",
            "Training time is required but no value found\n",
            "\n",
            "==== System: GNMT ====\n",
            "Trying NVIDIA Tesla K80 at 2016-01-30 00:00:00\n",
            "Trying Google Cloud, Price per chip-hour (1-year CUD)\n",
            "Could not find price\n",
            "Trying Google Cloud, Price per chip-hour (3-year CUD)\n",
            "Could not find price\n",
            "Trying Google Cloud, Price per chip-hour (on-demand)\n",
            "Found price: 1.4\n",
            "\n",
            "==== System: NASv3 (CIFAR-10) ====\n",
            "Training time is required but no value found\n",
            "\n",
            "==== System: AlphaGo Master ====\n",
            "Training time is required but no value found\n",
            "\n",
            "==== System: JFT ====\n",
            "Trying NVIDIA Tesla K80 at 2017-03-12 00:00:00\n",
            "Trying Google Cloud, Price per chip-hour (1-year CUD)\n",
            "Could not find price\n",
            "Trying Google Cloud, Price per chip-hour (3-year CUD)\n",
            "Could not find price\n",
            "Trying Google Cloud, Price per chip-hour (on-demand)\n",
            "Found price: 1.4\n",
            "\n",
            "==== System: OpenAI TI7 DOTA 1v1 ====\n",
            "Training time is required but no value found\n",
            "\n",
            "==== System: AlphaGo Zero ====\n",
            "Trying Google TPU v1 at 2017-07-30 00:00:00\n",
            "Trying Google Cloud, Price per chip-hour (1-year CUD)\n",
            "Could not find price\n",
            "Trying Google Cloud, Price per chip-hour (3-year CUD)\n",
            "Could not find price\n",
            "Trying Google Cloud, Price per chip-hour (on-demand)\n",
            "Could not find price\n",
            "Estimating price from FLOP/s and FLOP/$ trend\n",
            "Could not find FLOP/s for Google TPU v1\n",
            "==== System: AlphaZero ====\n",
            "Training time is required but no value found\n",
            "\n",
            "==== System: AmoebaNet-A (F=448) ====\n",
            "Trying NVIDIA Tesla K40s at 2017-11-30 00:00:00\n",
            "Trying Google Cloud, Price per chip-hour (1-year CUD)\n",
            "Could not find price\n",
            "Trying Google Cloud, Price per chip-hour (3-year CUD)\n",
            "Could not find price\n",
            "Trying Google Cloud, Price per chip-hour (on-demand)\n",
            "Could not find price\n",
            "Trying Amazon Web Services, Price per chip-hour (1-year CUD)\n",
            "Could not find price\n",
            "Trying Amazon Web Services, Price per chip-hour (3-year CUD)\n",
            "Could not find price\n",
            "Trying Amazon Web Services, Price per chip-hour (on-demand)\n",
            "Could not find price\n",
            "Trying Microsoft Azure, Price per chip-hour (1-year CUD)\n",
            "Could not find price\n",
            "Trying Microsoft Azure, Price per chip-hour (3-year CUD)\n",
            "Could not find price\n",
            "Trying Microsoft Azure, Price per chip-hour (on-demand)\n",
            "Could not find price\n",
            "Estimating price from FLOP/s and FLOP/$ trend\n",
            "Estimated price: 0.05271257202460601\n",
            "\n",
            "==== System: IMPALA ====\n",
            "Trying NVIDIA P100 at 2017-12-02 20:00:00\n",
            "Trying Google Cloud, Price per chip-hour (1-year CUD)\n",
            "Could not find price\n",
            "Trying Google Cloud, Price per chip-hour (3-year CUD)\n",
            "Could not find price\n",
            "Trying Google Cloud, Price per chip-hour (on-demand)\n",
            "Found price: 1.46\n",
            "\n",
            "==== System: ResNeXt-101 32x48d ====\n",
            "Training time is required but no value found\n",
            "\n",
            "==== System: FTW ====\n",
            "Training time is required but no value found\n",
            "\n",
            "==== System: BigGAN-deep 512x512 ====\n",
            "Trying Google TPU v3 at 2018-07-28 00:00:00\n",
            "Trying Google Cloud, Price per chip-hour (1-year CUD)\n",
            "Could not find price\n",
            "Trying Google Cloud, Price per chip-hour (3-year CUD)\n",
            "Could not find price\n",
            "Trying Google Cloud, Price per chip-hour (on-demand)\n",
            "Found price: 2.0\n",
            "\n",
            "==== System: RoBERTa Large ====\n",
            "Trying NVIDIA Tesla V100 DGXS 32 GB at 2019-04-27 00:00:00\n",
            "Trying Amazon Web Services, Price per chip-hour (1-year CUD)\n",
            "Found price: 2.29\n",
            "\n",
            "==== System: Megatron-BERT ====\n",
            "Trying NVIDIA Tesla V100S PCIe 32 GB at 2019-05-22 00:00:00\n",
            "Trying Amazon Web Services, Price per chip-hour (1-year CUD)\n",
            "Could not find price\n",
            "Trying Amazon Web Services, Price per chip-hour (3-year CUD)\n",
            "Could not find price\n",
            "Trying Amazon Web Services, Price per chip-hour (on-demand)\n",
            "Could not find price\n",
            "Trying Microsoft Azure, Price per chip-hour (1-year CUD)\n",
            "Could not find price\n",
            "Trying Microsoft Azure, Price per chip-hour (3-year CUD)\n",
            "Could not find price\n",
            "Trying Microsoft Azure, Price per chip-hour (on-demand)\n",
            "Could not find price\n",
            "Trying Google Cloud, Price per chip-hour (1-year CUD)\n",
            "Could not find price\n",
            "Trying Google Cloud, Price per chip-hour (3-year CUD)\n",
            "Could not find price\n",
            "Trying Google Cloud, Price per chip-hour (on-demand)\n",
            "Could not find price\n",
            "Estimating price from FLOP/s and FLOP/$ trend\n",
            "Estimated price: 0.1051277082983274\n",
            "\n",
            "==== System: Megatron-LM (8.3B) ====\n",
            "Trying NVIDIA Tesla V100 DGXS 32 GB at 2019-07-05 09:00:00\n",
            "Trying Amazon Web Services, Price per chip-hour (1-year CUD)\n",
            "Found price: 2.29\n",
            "\n",
            "==== System: T5-3B ====\n",
            "Training time is required but no value found\n",
            "\n",
            "==== System: T5-11B ====\n",
            "Trying Google TPU v3 at 2019-08-03 23:00:00\n",
            "Trying Google Cloud, Price per chip-hour (1-year CUD)\n",
            "Found price: 1.26\n",
            "\n",
            "==== System: AlphaStar ====\n",
            "Trying Google TPU v3 at 2019-07-18 00:00:00\n",
            "Trying Google Cloud, Price per chip-hour (1-year CUD)\n",
            "Found price: 1.26\n",
            "\n",
            "==== System: OpenAI Five ====\n",
            "Could not find hardware model for OpenAI Five\n",
            "\n",
            "==== System: OpenAI Five Rerun ====\n",
            "Training time is required but no value found\n",
            "\n",
            "==== System: Meena ====\n",
            "Trying Google TPU v3 at 2019-10-30 00:00:00\n",
            "Trying Google Cloud, Price per chip-hour (1-year CUD)\n",
            "Found price: 1.26\n",
            "\n",
            "==== System: Turing-NLG ====\n",
            "Training time is required but no value found\n",
            "\n",
            "==== System: GPT-3 175B (davinci) ====\n",
            "Trying NVIDIA Tesla V100 DGXS 32 GB at 2020-03-14 05:00:00\n",
            "Trying Microsoft Azure, Price per chip-hour (1-year CUD)\n",
            "Could not find price\n",
            "Trying Microsoft Azure, Price per chip-hour (3-year CUD)\n",
            "Could not find price\n",
            "Trying Microsoft Azure, Price per chip-hour (on-demand)\n",
            "Could not find price\n",
            "Trying Amazon Web Services, Price per chip-hour (1-year CUD)\n",
            "Found price: 2.29\n",
            "\n",
            "==== System: GShard (dense) ====\n",
            "Trying Google TPU v3 at 2020-03-20 00:00:00\n",
            "Trying Google Cloud, Price per chip-hour (1-year CUD)\n",
            "Found price: 1.26\n",
            "\n",
            "==== System: ALIGN ====\n",
            "Trying Google TPU v3 at 2021-03-28 13:00:00\n",
            "Trying Google Cloud, Price per chip-hour (1-year CUD)\n",
            "Found price: 1.26\n",
            "\n",
            "==== System: Megatron-Turing NLG 530B ====\n",
            "Trying NVIDIA A100 SXM4 80 GB at 2021-07-10 22:00:00\n",
            "Trying Microsoft Azure, Price per chip-hour (1-year CUD)\n",
            "Found price: 2.62\n",
            "\n",
            "==== System: Yuan 1.0 ====\n",
            "Training time is required but no value found\n",
            "\n",
            "==== System: Gopher (280B) ====\n",
            "Trying Google TPU v3 at 2021-08-31 16:00:00\n",
            "Trying Google Cloud, Price per chip-hour (1-year CUD)\n",
            "Found price: 1.26\n",
            "\n",
            "==== System: GLaM ====\n",
            "Trying Google TPU v4 at 2021-08-18 02:00:00\n",
            "Trying Google Cloud, Price per chip-hour (1-year CUD)\n",
            "Found price: 2.03\n",
            "\n",
            "==== System: ERNIE 3.0 Titan ====\n",
            "Training time is required but no value found\n",
            "\n",
            "==== System: AlphaCode ====\n",
            "Training time is required but no value found\n",
            "\n",
            "==== System: LaMDA ====\n",
            "Trying Google TPU v3 at 2021-10-15 07:00:00\n",
            "Trying Google Cloud, Price per chip-hour (1-year CUD)\n",
            "Found price: 1.26\n",
            "\n",
            "==== System: Chinchilla ====\n",
            "Training time is required but no value found\n",
            "\n",
            "==== System: PaLM (540B) ====\n",
            "Trying Google TPU v4 at 2021-12-08 00:00:00\n",
            "Trying Google Cloud, Price per chip-hour (1-year CUD)\n",
            "Found price: 2.03\n",
            "\n",
            "==== System: OPT-175B ====\n",
            "Trying NVIDIA A100 SXM4 80 GB at 2022-01-28 23:00:00\n",
            "Trying Amazon Web Services, Price per chip-hour (1-year CUD)\n",
            "Found price: 3.0\n",
            "\n",
            "==== System: Minerva (540B) ====\n",
            "Trying Google TPU v4 at 2022-04-01 00:00:00\n",
            "Trying Google Cloud, Price per chip-hour (1-year CUD)\n",
            "Found price: 2.03\n",
            "\n",
            "==== System: GPT-3.5 (text-davinci-003) ====\n",
            "Training time is required but no value found\n",
            "\n",
            "==== System: LLaMA-65B ====\n",
            "Trying NVIDIA A100 at 2022-12-05 04:00:00\n",
            "Trying Amazon Web Services, Price per chip-hour (1-year CUD)\n",
            "Could not find price\n",
            "Trying Amazon Web Services, Price per chip-hour (3-year CUD)\n",
            "Could not find price\n",
            "Trying Amazon Web Services, Price per chip-hour (on-demand)\n",
            "Could not find price\n",
            "Trying Microsoft Azure, Price per chip-hour (1-year CUD)\n",
            "Found price: 2.35\n",
            "\n",
            "==== System: GPT-4 ====\n",
            "Trying NVIDIA A100 SXM4 40 GB at 2022-10-11 00:00:00\n",
            "Trying Microsoft Azure, Price per chip-hour (1-year CUD)\n",
            "Could not find price\n",
            "Trying Microsoft Azure, Price per chip-hour (3-year CUD)\n",
            "Could not find price\n",
            "Trying Microsoft Azure, Price per chip-hour (on-demand)\n",
            "Could not find price\n",
            "Trying Amazon Web Services, Price per chip-hour (1-year CUD)\n",
            "Found price: 2.4\n",
            "\n",
            "==== System: PaLM 2 ====\n",
            "Training time is required but no value found\n",
            "\n",
            "==== System: Claude 2 ====\n",
            "Training time is required but no value found\n",
            "\n",
            "==== System: Llama 2-70B ====\n",
            "Trying NVIDIA A100 SXM4 80 GB at 2022-11-20 00:00:00\n",
            "Trying Amazon Web Services, Price per chip-hour (1-year CUD)\n",
            "Found price: 3.0\n",
            "\n",
            "==== System: Falcon 180B ====\n",
            "Trying NVIDIA A100 SXM4 40 GB at 2023-01-09 00:00:00\n",
            "Trying Amazon Web Services, Price per chip-hour (1-year CUD)\n",
            "Found price: 2.4\n",
            "\n"
          ]
        },
        {
          "data": {
            "text/plain": [
              "{'GNMT': 1.4,\n",
              " 'JFT': 1.4,\n",
              " 'AmoebaNet-A (F=448)': 0.05271257202460601,\n",
              " 'IMPALA': 1.46,\n",
              " 'BigGAN-deep 512x512': 2.0,\n",
              " 'RoBERTa Large': 2.29,\n",
              " 'Megatron-BERT': 0.1051277082983274,\n",
              " 'Megatron-LM (8.3B)': 2.29,\n",
              " 'T5-11B': 1.26,\n",
              " 'AlphaStar': 1.26,\n",
              " 'Meena': 1.26,\n",
              " 'GPT-3 175B (davinci)': 2.29,\n",
              " 'GShard (dense)': 1.26,\n",
              " 'ALIGN': 1.26,\n",
              " 'Megatron-Turing NLG 530B': 2.62,\n",
              " 'Gopher (280B)': 1.26,\n",
              " 'GLaM': 2.03,\n",
              " 'LaMDA': 1.26,\n",
              " 'PaLM (540B)': 2.03,\n",
              " 'OPT-175B': 3.0,\n",
              " 'Minerva (540B)': 2.03,\n",
              " 'LLaMA-65B': 2.35,\n",
              " 'GPT-4': 2.4,\n",
              " 'Llama 2-70B': 3.0,\n",
              " 'Falcon 180B': 2.4}"
            ]
          },
          "execution_count": 15,
          "metadata": {},
          "output_type": "execute_result"
        }
      ],
      "source": [
        "price_colname = 'Price per chip-hour (1-year CUD)'\n",
        "system_to_price = {}\n",
        "\n",
        "for i, row in frontier_pcd_df.iterrows():\n",
        "    price = find_price(row, price_df, hardware_df, pcd_hardware_model_colname, price_colname, org_to_cloud_vendor)\n",
        "    if price is None:\n",
        "        continue\n",
        "    else:\n",
        "        system_to_price[row['System']] = price\n",
        "\n",
        "system_to_price"
      ]
    },
    {
      "cell_type": "code",
      "execution_count": 16,
      "metadata": {},
      "outputs": [
        {
          "data": {
            "text/plain": [
              "25"
            ]
          },
          "execution_count": 16,
          "metadata": {},
          "output_type": "execute_result"
        }
      ],
      "source": [
        "len(system_to_price)"
      ]
    },
    {
      "cell_type": "markdown",
      "metadata": {},
      "source": [
        "# Cost estimation"
      ]
    },
    {
      "cell_type": "markdown",
      "metadata": {},
      "source": [
        "TODO: inflation adjustment"
      ]
    },
    {
      "cell_type": "markdown",
      "metadata": {},
      "source": [
        "cost = price_per_chip_hour * chip_hours"
      ]
    },
    {
      "cell_type": "code",
      "execution_count": 17,
      "metadata": {},
      "outputs": [],
      "source": [
        "def estimate_cost(row, system_to_price):\n",
        "    system = row['System']\n",
        "    price = system_to_price.get(system)\n",
        "    if price is None:\n",
        "        return None\n",
        "\n",
        "    chip_hours = row['Training time (chip hours)']\n",
        "    if np.isnan(chip_hours):\n",
        "        return None\n",
        "\n",
        "    cost = price * chip_hours\n",
        "\n",
        "    # Check for base model\n",
        "    if not pd.isna(row['Base model']):\n",
        "        base_model_name = row['Base model']\n",
        "        base_model = frontier_pcd_df[frontier_pcd_df['System'] == base_model_name].squeeze()\n",
        "        base_cost = estimate_cost(base_model, system_to_price)\n",
        "        if base_cost is None:\n",
        "            return None\n",
        "        else:\n",
        "            cost += base_cost\n",
        "\n",
        "    return cost\n",
        "    "
      ]
    },
    {
      "cell_type": "code",
      "execution_count": 18,
      "metadata": {},
      "outputs": [
        {
          "name": "stdout",
          "output_type": "stream",
          "text": [
            "Could not estimate cost for Llama 2-70B\n"
          ]
        },
        {
          "data": {
            "text/plain": [
              "{'AlphaGo Fan': None,\n",
              " 'AlphaGo Lee': None,\n",
              " 'GNMT': 580608.0,\n",
              " 'NASv3 (CIFAR-10)': None,\n",
              " 'AlphaGo Master': None,\n",
              " 'JFT': 100800.0,\n",
              " 'OpenAI TI7 DOTA 1v1': None,\n",
              " 'AlphaGo Zero': None,\n",
              " 'AlphaZero': None,\n",
              " 'AmoebaNet-A (F=448)': 3985.0704450602143,\n",
              " 'IMPALA': 146.0,\n",
              " 'ResNeXt-101 32x48d': None,\n",
              " 'FTW': None,\n",
              " 'BigGAN-deep 512x512': 24576.0,\n",
              " 'RoBERTa Large': 281395.2,\n",
              " 'Megatron-BERT': 74924.93821505114,\n",
              " 'Megatron-LM (8.3B)': 383400.96,\n",
              " 'T5-3B': None,\n",
              " 'T5-11B': 310883.328,\n",
              " 'AlphaStar': 510935.04,\n",
              " 'OpenAI Five': None,\n",
              " 'OpenAI Five Rerun': None,\n",
              " 'Meena': 928972.8,\n",
              " 'Turing-NLG': None,\n",
              " 'GPT-3 175B (davinci)': 8134080.0,\n",
              " 'GShard (dense)': 1300561.92,\n",
              " 'ALIGN': 224050.176,\n",
              " 'Megatron-Turing NLG 530B': 9037952.0,\n",
              " 'Yuan 1.0': None,\n",
              " 'Gopher (280B)': 4748083.2,\n",
              " 'GLaM': 2839531.5199999996,\n",
              " 'ERNIE 3.0 Titan': None,\n",
              " 'AlphaCode': None,\n",
              " 'LaMDA': 1786982.4,\n",
              " 'Chinchilla': None,\n",
              " 'PaLM (540B)': 17062133.759999998,\n",
              " 'OPT-175B': 2437632.0,\n",
              " 'Minerva (540B)': 18508922.88,\n",
              " 'GPT-3.5 (text-davinci-003)': None,\n",
              " 'LLaMA-65B': 2406400.0,\n",
              " 'GPT-4': 136800000.0,\n",
              " 'PaLM 2': None,\n",
              " 'Claude 2': None,\n",
              " 'Falcon 180B': 42467328.0}"
            ]
          },
          "execution_count": 18,
          "metadata": {},
          "output_type": "execute_result"
        }
      ],
      "source": [
        "system_to_cost = {}\n",
        "for i, row in frontier_pcd_df.iterrows():\n",
        "    cost = estimate_cost(row, system_to_price)\n",
        "    if cost is None and row['System'] in system_to_price:\n",
        "        print(f\"Could not estimate cost for {row['System']}\")\n",
        "        continue\n",
        "    system_to_cost[row['System']] = cost\n",
        "\n",
        "system_to_cost"
      ]
    },
    {
      "cell_type": "code",
      "execution_count": 19,
      "metadata": {},
      "outputs": [
        {
          "data": {
            "text/plain": [
              "44"
            ]
          },
          "execution_count": 19,
          "metadata": {},
          "output_type": "execute_result"
        }
      ],
      "source": [
        "len(system_to_cost)"
      ]
    },
    {
      "cell_type": "markdown",
      "metadata": {},
      "source": [
        "# Regression"
      ]
    },
    {
      "cell_type": "code",
      "execution_count": null,
      "metadata": {},
      "outputs": [],
      "source": []
    },
    {
      "cell_type": "markdown",
      "metadata": {},
      "source": [
        "# Plots"
      ]
    },
    {
      "cell_type": "code",
      "execution_count": 20,
      "metadata": {},
      "outputs": [
        {
          "data": {
            "application/vnd.plotly.v1+json": {
              "config": {
                "plotlyServerURL": "https://plot.ly"
              },
              "data": [
                {
                  "line": {
                    "color": "#034752"
                  },
                  "mode": "markers+text",
                  "name": "GNMT",
                  "text": "GNMT",
                  "textposition": "top center",
                  "type": "scatter",
                  "x": [
                    "2016-09-26T00:00:00"
                  ],
                  "y": [
                    580608
                  ]
                },
                {
                  "line": {
                    "color": "#034752"
                  },
                  "mode": "markers+text",
                  "name": "JFT",
                  "text": "JFT",
                  "textposition": "top center",
                  "type": "scatter",
                  "x": [
                    "2017-07-10T00:00:00"
                  ],
                  "y": [
                    100800
                  ]
                },
                {
                  "line": {
                    "color": "#034752"
                  },
                  "mode": "markers+text",
                  "name": "AmoebaNet-A (F=448)",
                  "text": "AmoebaNet-A (F=448)",
                  "textposition": "top center",
                  "type": "scatter",
                  "x": [
                    "2018-02-05T00:00:00"
                  ],
                  "y": [
                    3985.0704450602143
                  ]
                },
                {
                  "line": {
                    "color": "#034752"
                  },
                  "mode": "markers+text",
                  "name": "IMPALA",
                  "text": "IMPALA",
                  "textposition": "top center",
                  "type": "scatter",
                  "x": [
                    "2018-02-05T00:00:00"
                  ],
                  "y": [
                    146
                  ]
                },
                {
                  "line": {
                    "color": "#034752"
                  },
                  "mode": "markers+text",
                  "name": "BigGAN-deep 512x512",
                  "text": "BigGAN-deep 512x512",
                  "textposition": "top center",
                  "type": "scatter",
                  "x": [
                    "2018-09-28T00:00:00"
                  ],
                  "y": [
                    24576
                  ]
                },
                {
                  "line": {
                    "color": "#034752"
                  },
                  "mode": "markers+text",
                  "name": "RoBERTa Large",
                  "text": "RoBERTa Large",
                  "textposition": "top center",
                  "type": "scatter",
                  "x": [
                    "2019-07-01T00:00:00"
                  ],
                  "y": [
                    281395.2
                  ]
                },
                {
                  "line": {
                    "color": "#034752"
                  },
                  "mode": "markers+text",
                  "name": "Megatron-BERT",
                  "text": "Megatron-BERT",
                  "textposition": "top center",
                  "type": "scatter",
                  "x": [
                    "2019-09-17T00:00:00"
                  ],
                  "y": [
                    74924.93821505114
                  ]
                },
                {
                  "line": {
                    "color": "#034752"
                  },
                  "mode": "markers+text",
                  "name": "Megatron-LM (8.3B)",
                  "text": "Megatron-LM (8.3B)",
                  "textposition": "top center",
                  "type": "scatter",
                  "x": [
                    "2019-09-17T00:00:00"
                  ],
                  "y": [
                    383400.96
                  ]
                },
                {
                  "line": {
                    "color": "#034752"
                  },
                  "mode": "markers+text",
                  "name": "T5-11B",
                  "text": "T5-11B",
                  "textposition": "top center",
                  "type": "scatter",
                  "x": [
                    "2019-10-23T00:00:00"
                  ],
                  "y": [
                    310883.328
                  ]
                },
                {
                  "line": {
                    "color": "#034752"
                  },
                  "mode": "markers+text",
                  "name": "AlphaStar",
                  "text": "AlphaStar",
                  "textposition": "top center",
                  "type": "scatter",
                  "x": [
                    "2019-10-30T00:00:00"
                  ],
                  "y": [
                    510935.04
                  ]
                },
                {
                  "line": {
                    "color": "#034752"
                  },
                  "mode": "markers+text",
                  "name": "Meena",
                  "text": "Meena",
                  "textposition": "top center",
                  "type": "scatter",
                  "x": [
                    "2020-01-28T00:00:00"
                  ],
                  "y": [
                    928972.8
                  ]
                },
                {
                  "line": {
                    "color": "#034752"
                  },
                  "mode": "markers+text",
                  "name": "GPT-3 175B (davinci)",
                  "text": "GPT-3 175B (davinci)",
                  "textposition": "top center",
                  "type": "scatter",
                  "x": [
                    "2020-05-28T00:00:00"
                  ],
                  "y": [
                    8134080
                  ]
                },
                {
                  "line": {
                    "color": "#034752"
                  },
                  "mode": "markers+text",
                  "name": "GShard (dense)",
                  "text": "GShard (dense)",
                  "textposition": "top center",
                  "type": "scatter",
                  "x": [
                    "2020-06-30T00:00:00"
                  ],
                  "y": [
                    1300561.92
                  ]
                },
                {
                  "line": {
                    "color": "#034752"
                  },
                  "mode": "markers+text",
                  "name": "ALIGN",
                  "text": "ALIGN",
                  "textposition": "top center",
                  "type": "scatter",
                  "x": [
                    "2021-06-11T00:00:00"
                  ],
                  "y": [
                    224050.176
                  ]
                },
                {
                  "line": {
                    "color": "#034752"
                  },
                  "mode": "markers+text",
                  "name": "Megatron-Turing NLG 530B",
                  "text": "Megatron-Turing NLG 530B",
                  "textposition": "top center",
                  "type": "scatter",
                  "x": [
                    "2021-10-11T00:00:00"
                  ],
                  "y": [
                    9037952
                  ]
                },
                {
                  "line": {
                    "color": "#034752"
                  },
                  "mode": "markers+text",
                  "name": "Gopher (280B)",
                  "text": "Gopher (280B)",
                  "textposition": "top center",
                  "type": "scatter",
                  "x": [
                    "2021-12-08T00:00:00"
                  ],
                  "y": [
                    4748083.2
                  ]
                },
                {
                  "line": {
                    "color": "#034752"
                  },
                  "mode": "markers+text",
                  "name": "GLaM",
                  "text": "GLaM",
                  "textposition": "top center",
                  "type": "scatter",
                  "x": [
                    "2021-12-13T00:00:00"
                  ],
                  "y": [
                    2839531.5199999996
                  ]
                },
                {
                  "line": {
                    "color": "#034752"
                  },
                  "mode": "markers+text",
                  "name": "LaMDA",
                  "text": "LaMDA",
                  "textposition": "top center",
                  "type": "scatter",
                  "x": [
                    "2022-02-10T00:00:00"
                  ],
                  "y": [
                    1786982.4
                  ]
                },
                {
                  "line": {
                    "color": "#034752"
                  },
                  "mode": "markers+text",
                  "name": "PaLM (540B)",
                  "text": "PaLM (540B)",
                  "textposition": "top center",
                  "type": "scatter",
                  "x": [
                    "2022-04-04T00:00:00"
                  ],
                  "y": [
                    17062133.759999998
                  ]
                },
                {
                  "line": {
                    "color": "#034752"
                  },
                  "mode": "markers+text",
                  "name": "OPT-175B",
                  "text": "OPT-175B",
                  "textposition": "top center",
                  "type": "scatter",
                  "x": [
                    "2022-05-02T00:00:00"
                  ],
                  "y": [
                    2437632
                  ]
                },
                {
                  "line": {
                    "color": "#034752"
                  },
                  "mode": "markers+text",
                  "name": "Minerva (540B)",
                  "text": "Minerva (540B)",
                  "textposition": "top center",
                  "type": "scatter",
                  "x": [
                    "2022-06-29T00:00:00"
                  ],
                  "y": [
                    18508922.88
                  ]
                },
                {
                  "line": {
                    "color": "#034752"
                  },
                  "mode": "markers+text",
                  "name": "LLaMA-65B",
                  "text": "LLaMA-65B",
                  "textposition": "top center",
                  "type": "scatter",
                  "x": [
                    "2023-02-24T00:00:00"
                  ],
                  "y": [
                    2406400
                  ]
                },
                {
                  "line": {
                    "color": "#034752"
                  },
                  "mode": "markers+text",
                  "name": "GPT-4",
                  "text": "GPT-4",
                  "textposition": "top center",
                  "type": "scatter",
                  "x": [
                    "2023-03-15T00:00:00"
                  ],
                  "y": [
                    136800000
                  ]
                },
                {
                  "line": {
                    "color": "#034752"
                  },
                  "mode": "markers+text",
                  "name": "Falcon 180B",
                  "text": "Falcon 180B",
                  "textposition": "top center",
                  "type": "scatter",
                  "x": [
                    "2023-09-06T00:00:00"
                  ],
                  "y": [
                    42467328
                  ]
                }
              ],
              "layout": {
                "autosize": false,
                "font": {
                  "size": 14
                },
                "height": 600,
                "margin": {
                  "b": 10,
                  "l": 10,
                  "r": 10,
                  "t": 40
                },
                "showlegend": false,
                "template": {
                  "data": {
                    "bar": [
                      {
                        "error_x": {
                          "color": "#2a3f5f"
                        },
                        "error_y": {
                          "color": "#2a3f5f"
                        },
                        "marker": {
                          "line": {
                            "color": "#E5ECF6",
                            "width": 0.5
                          },
                          "pattern": {
                            "fillmode": "overlay",
                            "size": 10,
                            "solidity": 0.2
                          }
                        },
                        "type": "bar"
                      }
                    ],
                    "barpolar": [
                      {
                        "marker": {
                          "line": {
                            "color": "#E5ECF6",
                            "width": 0.5
                          },
                          "pattern": {
                            "fillmode": "overlay",
                            "size": 10,
                            "solidity": 0.2
                          }
                        },
                        "type": "barpolar"
                      }
                    ],
                    "carpet": [
                      {
                        "aaxis": {
                          "endlinecolor": "#2a3f5f",
                          "gridcolor": "white",
                          "linecolor": "white",
                          "minorgridcolor": "white",
                          "startlinecolor": "#2a3f5f"
                        },
                        "baxis": {
                          "endlinecolor": "#2a3f5f",
                          "gridcolor": "white",
                          "linecolor": "white",
                          "minorgridcolor": "white",
                          "startlinecolor": "#2a3f5f"
                        },
                        "type": "carpet"
                      }
                    ],
                    "choropleth": [
                      {
                        "colorbar": {
                          "outlinewidth": 0,
                          "ticks": ""
                        },
                        "type": "choropleth"
                      }
                    ],
                    "contour": [
                      {
                        "colorbar": {
                          "outlinewidth": 0,
                          "ticks": ""
                        },
                        "colorscale": [
                          [
                            0,
                            "#0d0887"
                          ],
                          [
                            0.1111111111111111,
                            "#46039f"
                          ],
                          [
                            0.2222222222222222,
                            "#7201a8"
                          ],
                          [
                            0.3333333333333333,
                            "#9c179e"
                          ],
                          [
                            0.4444444444444444,
                            "#bd3786"
                          ],
                          [
                            0.5555555555555556,
                            "#d8576b"
                          ],
                          [
                            0.6666666666666666,
                            "#ed7953"
                          ],
                          [
                            0.7777777777777778,
                            "#fb9f3a"
                          ],
                          [
                            0.8888888888888888,
                            "#fdca26"
                          ],
                          [
                            1,
                            "#f0f921"
                          ]
                        ],
                        "type": "contour"
                      }
                    ],
                    "contourcarpet": [
                      {
                        "colorbar": {
                          "outlinewidth": 0,
                          "ticks": ""
                        },
                        "type": "contourcarpet"
                      }
                    ],
                    "heatmap": [
                      {
                        "colorbar": {
                          "outlinewidth": 0,
                          "ticks": ""
                        },
                        "colorscale": [
                          [
                            0,
                            "#0d0887"
                          ],
                          [
                            0.1111111111111111,
                            "#46039f"
                          ],
                          [
                            0.2222222222222222,
                            "#7201a8"
                          ],
                          [
                            0.3333333333333333,
                            "#9c179e"
                          ],
                          [
                            0.4444444444444444,
                            "#bd3786"
                          ],
                          [
                            0.5555555555555556,
                            "#d8576b"
                          ],
                          [
                            0.6666666666666666,
                            "#ed7953"
                          ],
                          [
                            0.7777777777777778,
                            "#fb9f3a"
                          ],
                          [
                            0.8888888888888888,
                            "#fdca26"
                          ],
                          [
                            1,
                            "#f0f921"
                          ]
                        ],
                        "type": "heatmap"
                      }
                    ],
                    "heatmapgl": [
                      {
                        "colorbar": {
                          "outlinewidth": 0,
                          "ticks": ""
                        },
                        "colorscale": [
                          [
                            0,
                            "#0d0887"
                          ],
                          [
                            0.1111111111111111,
                            "#46039f"
                          ],
                          [
                            0.2222222222222222,
                            "#7201a8"
                          ],
                          [
                            0.3333333333333333,
                            "#9c179e"
                          ],
                          [
                            0.4444444444444444,
                            "#bd3786"
                          ],
                          [
                            0.5555555555555556,
                            "#d8576b"
                          ],
                          [
                            0.6666666666666666,
                            "#ed7953"
                          ],
                          [
                            0.7777777777777778,
                            "#fb9f3a"
                          ],
                          [
                            0.8888888888888888,
                            "#fdca26"
                          ],
                          [
                            1,
                            "#f0f921"
                          ]
                        ],
                        "type": "heatmapgl"
                      }
                    ],
                    "histogram": [
                      {
                        "marker": {
                          "pattern": {
                            "fillmode": "overlay",
                            "size": 10,
                            "solidity": 0.2
                          }
                        },
                        "type": "histogram"
                      }
                    ],
                    "histogram2d": [
                      {
                        "colorbar": {
                          "outlinewidth": 0,
                          "ticks": ""
                        },
                        "colorscale": [
                          [
                            0,
                            "#0d0887"
                          ],
                          [
                            0.1111111111111111,
                            "#46039f"
                          ],
                          [
                            0.2222222222222222,
                            "#7201a8"
                          ],
                          [
                            0.3333333333333333,
                            "#9c179e"
                          ],
                          [
                            0.4444444444444444,
                            "#bd3786"
                          ],
                          [
                            0.5555555555555556,
                            "#d8576b"
                          ],
                          [
                            0.6666666666666666,
                            "#ed7953"
                          ],
                          [
                            0.7777777777777778,
                            "#fb9f3a"
                          ],
                          [
                            0.8888888888888888,
                            "#fdca26"
                          ],
                          [
                            1,
                            "#f0f921"
                          ]
                        ],
                        "type": "histogram2d"
                      }
                    ],
                    "histogram2dcontour": [
                      {
                        "colorbar": {
                          "outlinewidth": 0,
                          "ticks": ""
                        },
                        "colorscale": [
                          [
                            0,
                            "#0d0887"
                          ],
                          [
                            0.1111111111111111,
                            "#46039f"
                          ],
                          [
                            0.2222222222222222,
                            "#7201a8"
                          ],
                          [
                            0.3333333333333333,
                            "#9c179e"
                          ],
                          [
                            0.4444444444444444,
                            "#bd3786"
                          ],
                          [
                            0.5555555555555556,
                            "#d8576b"
                          ],
                          [
                            0.6666666666666666,
                            "#ed7953"
                          ],
                          [
                            0.7777777777777778,
                            "#fb9f3a"
                          ],
                          [
                            0.8888888888888888,
                            "#fdca26"
                          ],
                          [
                            1,
                            "#f0f921"
                          ]
                        ],
                        "type": "histogram2dcontour"
                      }
                    ],
                    "mesh3d": [
                      {
                        "colorbar": {
                          "outlinewidth": 0,
                          "ticks": ""
                        },
                        "type": "mesh3d"
                      }
                    ],
                    "parcoords": [
                      {
                        "line": {
                          "colorbar": {
                            "outlinewidth": 0,
                            "ticks": ""
                          }
                        },
                        "type": "parcoords"
                      }
                    ],
                    "pie": [
                      {
                        "automargin": true,
                        "type": "pie"
                      }
                    ],
                    "scatter": [
                      {
                        "fillpattern": {
                          "fillmode": "overlay",
                          "size": 10,
                          "solidity": 0.2
                        },
                        "type": "scatter"
                      }
                    ],
                    "scatter3d": [
                      {
                        "line": {
                          "colorbar": {
                            "outlinewidth": 0,
                            "ticks": ""
                          }
                        },
                        "marker": {
                          "colorbar": {
                            "outlinewidth": 0,
                            "ticks": ""
                          }
                        },
                        "type": "scatter3d"
                      }
                    ],
                    "scattercarpet": [
                      {
                        "marker": {
                          "colorbar": {
                            "outlinewidth": 0,
                            "ticks": ""
                          }
                        },
                        "type": "scattercarpet"
                      }
                    ],
                    "scattergeo": [
                      {
                        "marker": {
                          "colorbar": {
                            "outlinewidth": 0,
                            "ticks": ""
                          }
                        },
                        "type": "scattergeo"
                      }
                    ],
                    "scattergl": [
                      {
                        "marker": {
                          "colorbar": {
                            "outlinewidth": 0,
                            "ticks": ""
                          }
                        },
                        "type": "scattergl"
                      }
                    ],
                    "scattermapbox": [
                      {
                        "marker": {
                          "colorbar": {
                            "outlinewidth": 0,
                            "ticks": ""
                          }
                        },
                        "type": "scattermapbox"
                      }
                    ],
                    "scatterpolar": [
                      {
                        "marker": {
                          "colorbar": {
                            "outlinewidth": 0,
                            "ticks": ""
                          }
                        },
                        "type": "scatterpolar"
                      }
                    ],
                    "scatterpolargl": [
                      {
                        "marker": {
                          "colorbar": {
                            "outlinewidth": 0,
                            "ticks": ""
                          }
                        },
                        "type": "scatterpolargl"
                      }
                    ],
                    "scatterternary": [
                      {
                        "marker": {
                          "colorbar": {
                            "outlinewidth": 0,
                            "ticks": ""
                          }
                        },
                        "type": "scatterternary"
                      }
                    ],
                    "surface": [
                      {
                        "colorbar": {
                          "outlinewidth": 0,
                          "ticks": ""
                        },
                        "colorscale": [
                          [
                            0,
                            "#0d0887"
                          ],
                          [
                            0.1111111111111111,
                            "#46039f"
                          ],
                          [
                            0.2222222222222222,
                            "#7201a8"
                          ],
                          [
                            0.3333333333333333,
                            "#9c179e"
                          ],
                          [
                            0.4444444444444444,
                            "#bd3786"
                          ],
                          [
                            0.5555555555555556,
                            "#d8576b"
                          ],
                          [
                            0.6666666666666666,
                            "#ed7953"
                          ],
                          [
                            0.7777777777777778,
                            "#fb9f3a"
                          ],
                          [
                            0.8888888888888888,
                            "#fdca26"
                          ],
                          [
                            1,
                            "#f0f921"
                          ]
                        ],
                        "type": "surface"
                      }
                    ],
                    "table": [
                      {
                        "cells": {
                          "fill": {
                            "color": "#EBF0F8"
                          },
                          "line": {
                            "color": "white"
                          }
                        },
                        "header": {
                          "fill": {
                            "color": "#C8D4E3"
                          },
                          "line": {
                            "color": "white"
                          }
                        },
                        "type": "table"
                      }
                    ]
                  },
                  "layout": {
                    "annotationdefaults": {
                      "arrowcolor": "#2a3f5f",
                      "arrowhead": 0,
                      "arrowwidth": 1
                    },
                    "autotypenumbers": "strict",
                    "coloraxis": {
                      "colorbar": {
                        "outlinewidth": 0,
                        "ticks": ""
                      }
                    },
                    "colorscale": {
                      "diverging": [
                        [
                          0,
                          "#8e0152"
                        ],
                        [
                          0.1,
                          "#c51b7d"
                        ],
                        [
                          0.2,
                          "#de77ae"
                        ],
                        [
                          0.3,
                          "#f1b6da"
                        ],
                        [
                          0.4,
                          "#fde0ef"
                        ],
                        [
                          0.5,
                          "#f7f7f7"
                        ],
                        [
                          0.6,
                          "#e6f5d0"
                        ],
                        [
                          0.7,
                          "#b8e186"
                        ],
                        [
                          0.8,
                          "#7fbc41"
                        ],
                        [
                          0.9,
                          "#4d9221"
                        ],
                        [
                          1,
                          "#276419"
                        ]
                      ],
                      "sequential": [
                        [
                          0,
                          "#0d0887"
                        ],
                        [
                          0.1111111111111111,
                          "#46039f"
                        ],
                        [
                          0.2222222222222222,
                          "#7201a8"
                        ],
                        [
                          0.3333333333333333,
                          "#9c179e"
                        ],
                        [
                          0.4444444444444444,
                          "#bd3786"
                        ],
                        [
                          0.5555555555555556,
                          "#d8576b"
                        ],
                        [
                          0.6666666666666666,
                          "#ed7953"
                        ],
                        [
                          0.7777777777777778,
                          "#fb9f3a"
                        ],
                        [
                          0.8888888888888888,
                          "#fdca26"
                        ],
                        [
                          1,
                          "#f0f921"
                        ]
                      ],
                      "sequentialminus": [
                        [
                          0,
                          "#0d0887"
                        ],
                        [
                          0.1111111111111111,
                          "#46039f"
                        ],
                        [
                          0.2222222222222222,
                          "#7201a8"
                        ],
                        [
                          0.3333333333333333,
                          "#9c179e"
                        ],
                        [
                          0.4444444444444444,
                          "#bd3786"
                        ],
                        [
                          0.5555555555555556,
                          "#d8576b"
                        ],
                        [
                          0.6666666666666666,
                          "#ed7953"
                        ],
                        [
                          0.7777777777777778,
                          "#fb9f3a"
                        ],
                        [
                          0.8888888888888888,
                          "#fdca26"
                        ],
                        [
                          1,
                          "#f0f921"
                        ]
                      ]
                    },
                    "colorway": [
                      "#636efa",
                      "#EF553B",
                      "#00cc96",
                      "#ab63fa",
                      "#FFA15A",
                      "#19d3f3",
                      "#FF6692",
                      "#B6E880",
                      "#FF97FF",
                      "#FECB52"
                    ],
                    "font": {
                      "color": "#2a3f5f"
                    },
                    "geo": {
                      "bgcolor": "white",
                      "lakecolor": "white",
                      "landcolor": "#E5ECF6",
                      "showlakes": true,
                      "showland": true,
                      "subunitcolor": "white"
                    },
                    "hoverlabel": {
                      "align": "left"
                    },
                    "hovermode": "closest",
                    "mapbox": {
                      "style": "light"
                    },
                    "paper_bgcolor": "white",
                    "plot_bgcolor": "#E5ECF6",
                    "polar": {
                      "angularaxis": {
                        "gridcolor": "white",
                        "linecolor": "white",
                        "ticks": ""
                      },
                      "bgcolor": "#E5ECF6",
                      "radialaxis": {
                        "gridcolor": "white",
                        "linecolor": "white",
                        "ticks": ""
                      }
                    },
                    "scene": {
                      "xaxis": {
                        "backgroundcolor": "#E5ECF6",
                        "gridcolor": "white",
                        "gridwidth": 2,
                        "linecolor": "white",
                        "showbackground": true,
                        "ticks": "",
                        "zerolinecolor": "white"
                      },
                      "yaxis": {
                        "backgroundcolor": "#E5ECF6",
                        "gridcolor": "white",
                        "gridwidth": 2,
                        "linecolor": "white",
                        "showbackground": true,
                        "ticks": "",
                        "zerolinecolor": "white"
                      },
                      "zaxis": {
                        "backgroundcolor": "#E5ECF6",
                        "gridcolor": "white",
                        "gridwidth": 2,
                        "linecolor": "white",
                        "showbackground": true,
                        "ticks": "",
                        "zerolinecolor": "white"
                      }
                    },
                    "shapedefaults": {
                      "line": {
                        "color": "#2a3f5f"
                      }
                    },
                    "ternary": {
                      "aaxis": {
                        "gridcolor": "white",
                        "linecolor": "white",
                        "ticks": ""
                      },
                      "baxis": {
                        "gridcolor": "white",
                        "linecolor": "white",
                        "ticks": ""
                      },
                      "bgcolor": "#E5ECF6",
                      "caxis": {
                        "gridcolor": "white",
                        "linecolor": "white",
                        "ticks": ""
                      }
                    },
                    "title": {
                      "x": 0.05
                    },
                    "xaxis": {
                      "automargin": true,
                      "gridcolor": "white",
                      "linecolor": "white",
                      "ticks": "",
                      "title": {
                        "standoff": 15
                      },
                      "zerolinecolor": "white",
                      "zerolinewidth": 2
                    },
                    "yaxis": {
                      "automargin": true,
                      "gridcolor": "white",
                      "linecolor": "white",
                      "ticks": "",
                      "title": {
                        "standoff": 15
                      },
                      "zerolinecolor": "white",
                      "zerolinewidth": 2
                    }
                  }
                },
                "title": {
                  "text": "Cost of cloud compute to train frontier ML systems"
                },
                "width": 800,
                "xaxis": {
                  "title": {
                    "text": "Publication date"
                  }
                },
                "yaxis": {
                  "title": {
                    "text": "Cost (USD, nominal)"
                  },
                  "type": "log"
                }
              }
            }
          },
          "metadata": {},
          "output_type": "display_data"
        }
      ],
      "source": [
        "import plotly.graph_objects as go\n",
        "\n",
        "fig = go.Figure()\n",
        "for i, row in frontier_pcd_df.iterrows():\n",
        "    system = row['System']\n",
        "    cost = system_to_cost.get(system)\n",
        "    if cost is None:\n",
        "        continue\n",
        "    publication_date = row['Publication date']\n",
        "\n",
        "    fig.add_trace(go.Scatter(\n",
        "        x=[publication_date],\n",
        "        y=[cost],\n",
        "        name=system,\n",
        "        text=system,\n",
        "        textposition='top center',\n",
        "        line=dict(color='#034752'),\n",
        "        mode='markers+text',\n",
        "    ))\n",
        "\n",
        "# log y axis\n",
        "fig.update_yaxes(type=\"log\")\n",
        "# no legend\n",
        "fig.update_layout(showlegend=False)\n",
        "\n",
        "# axis labels\n",
        "fig.update_xaxes(title_text='Publication date')\n",
        "fig.update_yaxes(title_text='Cost (USD, nominal)')\n",
        "\n",
        "# title\n",
        "fig.update_layout(title_text='Cost of cloud compute to train frontier ML systems')\n",
        "\n",
        "# update size\n",
        "fig.update_layout(\n",
        "    autosize=False,\n",
        "    width=800,\n",
        "    height=600,\n",
        ")\n",
        "\n",
        "# font size\n",
        "fig.update_layout(\n",
        "    font=dict(\n",
        "        size=14,\n",
        "    )\n",
        ")\n",
        "\n",
        "# axis limits\n",
        "# fig.update_xaxes(range=['2017-01-01', '2025-01-01'])\n",
        "# fig.update_yaxes(range=[5, 8])\n",
        "\n",
        "# margins\n",
        "fig.update_layout(margin=dict(l=10, r=10, t=40, b=10))\n",
        "\n",
        "save_plot(fig, 'results/', 'cost_scatter')\n",
        "\n",
        "fig.show()"
      ]
    },
    {
      "cell_type": "code",
      "execution_count": 45,
      "metadata": {},
      "outputs": [
        {
          "data": {
            "application/vnd.plotly.v1+json": {
              "config": {
                "plotlyServerURL": "https://plot.ly"
              },
              "data": [
                {
                  "marker": {
                    "color": "#034752"
                  },
                  "name": "GNMT",
                  "type": "bar",
                  "x": [
                    "GNMT"
                  ],
                  "y": [
                    580608
                  ]
                },
                {
                  "marker": {
                    "color": "#034752"
                  },
                  "name": "JFT",
                  "type": "bar",
                  "x": [
                    "JFT"
                  ],
                  "y": [
                    100800
                  ]
                },
                {
                  "marker": {
                    "color": "#034752"
                  },
                  "name": "AmoebaNet-A (F=448)",
                  "type": "bar",
                  "x": [
                    "AmoebaNet-A (F=448)"
                  ],
                  "y": [
                    3985.0704450602143
                  ]
                },
                {
                  "marker": {
                    "color": "#034752"
                  },
                  "name": "IMPALA",
                  "type": "bar",
                  "x": [
                    "IMPALA"
                  ],
                  "y": [
                    146
                  ]
                },
                {
                  "marker": {
                    "color": "#034752"
                  },
                  "name": "BigGAN-deep 512x512",
                  "type": "bar",
                  "x": [
                    "BigGAN-deep 512x512"
                  ],
                  "y": [
                    24576
                  ]
                },
                {
                  "marker": {
                    "color": "#034752"
                  },
                  "name": "RoBERTa Large",
                  "type": "bar",
                  "x": [
                    "RoBERTa Large"
                  ],
                  "y": [
                    281395.2
                  ]
                },
                {
                  "marker": {
                    "color": "#034752"
                  },
                  "name": "Megatron-BERT",
                  "type": "bar",
                  "x": [
                    "Megatron-BERT"
                  ],
                  "y": [
                    74924.93821505114
                  ]
                },
                {
                  "marker": {
                    "color": "#034752"
                  },
                  "name": "Megatron-LM (8.3B)",
                  "type": "bar",
                  "x": [
                    "Megatron-LM (8.3B)"
                  ],
                  "y": [
                    383400.96
                  ]
                },
                {
                  "marker": {
                    "color": "#034752"
                  },
                  "name": "T5-11B",
                  "type": "bar",
                  "x": [
                    "T5-11B"
                  ],
                  "y": [
                    310883.328
                  ]
                },
                {
                  "marker": {
                    "color": "#034752"
                  },
                  "name": "AlphaStar",
                  "type": "bar",
                  "x": [
                    "AlphaStar"
                  ],
                  "y": [
                    510935.04
                  ]
                },
                {
                  "marker": {
                    "color": "#034752"
                  },
                  "name": "Meena",
                  "type": "bar",
                  "x": [
                    "Meena"
                  ],
                  "y": [
                    928972.8
                  ]
                },
                {
                  "marker": {
                    "color": "#034752"
                  },
                  "name": "GPT-3 175B (davinci)",
                  "type": "bar",
                  "x": [
                    "GPT-3 175B (davinci)"
                  ],
                  "y": [
                    8134080
                  ]
                },
                {
                  "marker": {
                    "color": "#034752"
                  },
                  "name": "GShard (dense)",
                  "type": "bar",
                  "x": [
                    "GShard (dense)"
                  ],
                  "y": [
                    1300561.92
                  ]
                },
                {
                  "marker": {
                    "color": "#034752"
                  },
                  "name": "ALIGN",
                  "type": "bar",
                  "x": [
                    "ALIGN"
                  ],
                  "y": [
                    224050.176
                  ]
                },
                {
                  "marker": {
                    "color": "#034752"
                  },
                  "name": "Megatron-Turing NLG 530B",
                  "type": "bar",
                  "x": [
                    "Megatron-Turing NLG 530B"
                  ],
                  "y": [
                    9037952
                  ]
                },
                {
                  "marker": {
                    "color": "#034752"
                  },
                  "name": "Gopher (280B)",
                  "type": "bar",
                  "x": [
                    "Gopher (280B)"
                  ],
                  "y": [
                    4748083.2
                  ]
                },
                {
                  "marker": {
                    "color": "#034752"
                  },
                  "name": "GLaM",
                  "type": "bar",
                  "x": [
                    "GLaM"
                  ],
                  "y": [
                    2839531.5199999996
                  ]
                },
                {
                  "marker": {
                    "color": "#034752"
                  },
                  "name": "LaMDA",
                  "type": "bar",
                  "x": [
                    "LaMDA"
                  ],
                  "y": [
                    1786982.4
                  ]
                },
                {
                  "marker": {
                    "color": "#034752"
                  },
                  "name": "PaLM (540B)",
                  "type": "bar",
                  "x": [
                    "PaLM (540B)"
                  ],
                  "y": [
                    17062133.759999998
                  ]
                },
                {
                  "marker": {
                    "color": "#034752"
                  },
                  "name": "OPT-175B",
                  "type": "bar",
                  "x": [
                    "OPT-175B"
                  ],
                  "y": [
                    2437632
                  ]
                },
                {
                  "marker": {
                    "color": "#034752"
                  },
                  "name": "Minerva (540B)",
                  "type": "bar",
                  "x": [
                    "Minerva (540B)"
                  ],
                  "y": [
                    18508922.88
                  ]
                },
                {
                  "marker": {
                    "color": "#034752"
                  },
                  "name": "LLaMA-65B",
                  "type": "bar",
                  "x": [
                    "LLaMA-65B"
                  ],
                  "y": [
                    2406400
                  ]
                },
                {
                  "marker": {
                    "color": "#034752"
                  },
                  "name": "GPT-4",
                  "type": "bar",
                  "x": [
                    "GPT-4"
                  ],
                  "y": [
                    136800000
                  ]
                },
                {
                  "marker": {
                    "color": "#034752"
                  },
                  "name": "Falcon 180B",
                  "type": "bar",
                  "x": [
                    "Falcon 180B"
                  ],
                  "y": [
                    42467328
                  ]
                }
              ],
              "layout": {
                "autosize": false,
                "font": {
                  "size": 14
                },
                "height": 600,
                "margin": {
                  "b": 10,
                  "l": 10,
                  "r": 10,
                  "t": 40
                },
                "showlegend": false,
                "template": {
                  "data": {
                    "bar": [
                      {
                        "error_x": {
                          "color": "#2a3f5f"
                        },
                        "error_y": {
                          "color": "#2a3f5f"
                        },
                        "marker": {
                          "line": {
                            "color": "#E5ECF6",
                            "width": 0.5
                          },
                          "pattern": {
                            "fillmode": "overlay",
                            "size": 10,
                            "solidity": 0.2
                          }
                        },
                        "type": "bar"
                      }
                    ],
                    "barpolar": [
                      {
                        "marker": {
                          "line": {
                            "color": "#E5ECF6",
                            "width": 0.5
                          },
                          "pattern": {
                            "fillmode": "overlay",
                            "size": 10,
                            "solidity": 0.2
                          }
                        },
                        "type": "barpolar"
                      }
                    ],
                    "carpet": [
                      {
                        "aaxis": {
                          "endlinecolor": "#2a3f5f",
                          "gridcolor": "white",
                          "linecolor": "white",
                          "minorgridcolor": "white",
                          "startlinecolor": "#2a3f5f"
                        },
                        "baxis": {
                          "endlinecolor": "#2a3f5f",
                          "gridcolor": "white",
                          "linecolor": "white",
                          "minorgridcolor": "white",
                          "startlinecolor": "#2a3f5f"
                        },
                        "type": "carpet"
                      }
                    ],
                    "choropleth": [
                      {
                        "colorbar": {
                          "outlinewidth": 0,
                          "ticks": ""
                        },
                        "type": "choropleth"
                      }
                    ],
                    "contour": [
                      {
                        "colorbar": {
                          "outlinewidth": 0,
                          "ticks": ""
                        },
                        "colorscale": [
                          [
                            0,
                            "#0d0887"
                          ],
                          [
                            0.1111111111111111,
                            "#46039f"
                          ],
                          [
                            0.2222222222222222,
                            "#7201a8"
                          ],
                          [
                            0.3333333333333333,
                            "#9c179e"
                          ],
                          [
                            0.4444444444444444,
                            "#bd3786"
                          ],
                          [
                            0.5555555555555556,
                            "#d8576b"
                          ],
                          [
                            0.6666666666666666,
                            "#ed7953"
                          ],
                          [
                            0.7777777777777778,
                            "#fb9f3a"
                          ],
                          [
                            0.8888888888888888,
                            "#fdca26"
                          ],
                          [
                            1,
                            "#f0f921"
                          ]
                        ],
                        "type": "contour"
                      }
                    ],
                    "contourcarpet": [
                      {
                        "colorbar": {
                          "outlinewidth": 0,
                          "ticks": ""
                        },
                        "type": "contourcarpet"
                      }
                    ],
                    "heatmap": [
                      {
                        "colorbar": {
                          "outlinewidth": 0,
                          "ticks": ""
                        },
                        "colorscale": [
                          [
                            0,
                            "#0d0887"
                          ],
                          [
                            0.1111111111111111,
                            "#46039f"
                          ],
                          [
                            0.2222222222222222,
                            "#7201a8"
                          ],
                          [
                            0.3333333333333333,
                            "#9c179e"
                          ],
                          [
                            0.4444444444444444,
                            "#bd3786"
                          ],
                          [
                            0.5555555555555556,
                            "#d8576b"
                          ],
                          [
                            0.6666666666666666,
                            "#ed7953"
                          ],
                          [
                            0.7777777777777778,
                            "#fb9f3a"
                          ],
                          [
                            0.8888888888888888,
                            "#fdca26"
                          ],
                          [
                            1,
                            "#f0f921"
                          ]
                        ],
                        "type": "heatmap"
                      }
                    ],
                    "heatmapgl": [
                      {
                        "colorbar": {
                          "outlinewidth": 0,
                          "ticks": ""
                        },
                        "colorscale": [
                          [
                            0,
                            "#0d0887"
                          ],
                          [
                            0.1111111111111111,
                            "#46039f"
                          ],
                          [
                            0.2222222222222222,
                            "#7201a8"
                          ],
                          [
                            0.3333333333333333,
                            "#9c179e"
                          ],
                          [
                            0.4444444444444444,
                            "#bd3786"
                          ],
                          [
                            0.5555555555555556,
                            "#d8576b"
                          ],
                          [
                            0.6666666666666666,
                            "#ed7953"
                          ],
                          [
                            0.7777777777777778,
                            "#fb9f3a"
                          ],
                          [
                            0.8888888888888888,
                            "#fdca26"
                          ],
                          [
                            1,
                            "#f0f921"
                          ]
                        ],
                        "type": "heatmapgl"
                      }
                    ],
                    "histogram": [
                      {
                        "marker": {
                          "pattern": {
                            "fillmode": "overlay",
                            "size": 10,
                            "solidity": 0.2
                          }
                        },
                        "type": "histogram"
                      }
                    ],
                    "histogram2d": [
                      {
                        "colorbar": {
                          "outlinewidth": 0,
                          "ticks": ""
                        },
                        "colorscale": [
                          [
                            0,
                            "#0d0887"
                          ],
                          [
                            0.1111111111111111,
                            "#46039f"
                          ],
                          [
                            0.2222222222222222,
                            "#7201a8"
                          ],
                          [
                            0.3333333333333333,
                            "#9c179e"
                          ],
                          [
                            0.4444444444444444,
                            "#bd3786"
                          ],
                          [
                            0.5555555555555556,
                            "#d8576b"
                          ],
                          [
                            0.6666666666666666,
                            "#ed7953"
                          ],
                          [
                            0.7777777777777778,
                            "#fb9f3a"
                          ],
                          [
                            0.8888888888888888,
                            "#fdca26"
                          ],
                          [
                            1,
                            "#f0f921"
                          ]
                        ],
                        "type": "histogram2d"
                      }
                    ],
                    "histogram2dcontour": [
                      {
                        "colorbar": {
                          "outlinewidth": 0,
                          "ticks": ""
                        },
                        "colorscale": [
                          [
                            0,
                            "#0d0887"
                          ],
                          [
                            0.1111111111111111,
                            "#46039f"
                          ],
                          [
                            0.2222222222222222,
                            "#7201a8"
                          ],
                          [
                            0.3333333333333333,
                            "#9c179e"
                          ],
                          [
                            0.4444444444444444,
                            "#bd3786"
                          ],
                          [
                            0.5555555555555556,
                            "#d8576b"
                          ],
                          [
                            0.6666666666666666,
                            "#ed7953"
                          ],
                          [
                            0.7777777777777778,
                            "#fb9f3a"
                          ],
                          [
                            0.8888888888888888,
                            "#fdca26"
                          ],
                          [
                            1,
                            "#f0f921"
                          ]
                        ],
                        "type": "histogram2dcontour"
                      }
                    ],
                    "mesh3d": [
                      {
                        "colorbar": {
                          "outlinewidth": 0,
                          "ticks": ""
                        },
                        "type": "mesh3d"
                      }
                    ],
                    "parcoords": [
                      {
                        "line": {
                          "colorbar": {
                            "outlinewidth": 0,
                            "ticks": ""
                          }
                        },
                        "type": "parcoords"
                      }
                    ],
                    "pie": [
                      {
                        "automargin": true,
                        "type": "pie"
                      }
                    ],
                    "scatter": [
                      {
                        "fillpattern": {
                          "fillmode": "overlay",
                          "size": 10,
                          "solidity": 0.2
                        },
                        "type": "scatter"
                      }
                    ],
                    "scatter3d": [
                      {
                        "line": {
                          "colorbar": {
                            "outlinewidth": 0,
                            "ticks": ""
                          }
                        },
                        "marker": {
                          "colorbar": {
                            "outlinewidth": 0,
                            "ticks": ""
                          }
                        },
                        "type": "scatter3d"
                      }
                    ],
                    "scattercarpet": [
                      {
                        "marker": {
                          "colorbar": {
                            "outlinewidth": 0,
                            "ticks": ""
                          }
                        },
                        "type": "scattercarpet"
                      }
                    ],
                    "scattergeo": [
                      {
                        "marker": {
                          "colorbar": {
                            "outlinewidth": 0,
                            "ticks": ""
                          }
                        },
                        "type": "scattergeo"
                      }
                    ],
                    "scattergl": [
                      {
                        "marker": {
                          "colorbar": {
                            "outlinewidth": 0,
                            "ticks": ""
                          }
                        },
                        "type": "scattergl"
                      }
                    ],
                    "scattermapbox": [
                      {
                        "marker": {
                          "colorbar": {
                            "outlinewidth": 0,
                            "ticks": ""
                          }
                        },
                        "type": "scattermapbox"
                      }
                    ],
                    "scatterpolar": [
                      {
                        "marker": {
                          "colorbar": {
                            "outlinewidth": 0,
                            "ticks": ""
                          }
                        },
                        "type": "scatterpolar"
                      }
                    ],
                    "scatterpolargl": [
                      {
                        "marker": {
                          "colorbar": {
                            "outlinewidth": 0,
                            "ticks": ""
                          }
                        },
                        "type": "scatterpolargl"
                      }
                    ],
                    "scatterternary": [
                      {
                        "marker": {
                          "colorbar": {
                            "outlinewidth": 0,
                            "ticks": ""
                          }
                        },
                        "type": "scatterternary"
                      }
                    ],
                    "surface": [
                      {
                        "colorbar": {
                          "outlinewidth": 0,
                          "ticks": ""
                        },
                        "colorscale": [
                          [
                            0,
                            "#0d0887"
                          ],
                          [
                            0.1111111111111111,
                            "#46039f"
                          ],
                          [
                            0.2222222222222222,
                            "#7201a8"
                          ],
                          [
                            0.3333333333333333,
                            "#9c179e"
                          ],
                          [
                            0.4444444444444444,
                            "#bd3786"
                          ],
                          [
                            0.5555555555555556,
                            "#d8576b"
                          ],
                          [
                            0.6666666666666666,
                            "#ed7953"
                          ],
                          [
                            0.7777777777777778,
                            "#fb9f3a"
                          ],
                          [
                            0.8888888888888888,
                            "#fdca26"
                          ],
                          [
                            1,
                            "#f0f921"
                          ]
                        ],
                        "type": "surface"
                      }
                    ],
                    "table": [
                      {
                        "cells": {
                          "fill": {
                            "color": "#EBF0F8"
                          },
                          "line": {
                            "color": "white"
                          }
                        },
                        "header": {
                          "fill": {
                            "color": "#C8D4E3"
                          },
                          "line": {
                            "color": "white"
                          }
                        },
                        "type": "table"
                      }
                    ]
                  },
                  "layout": {
                    "annotationdefaults": {
                      "arrowcolor": "#2a3f5f",
                      "arrowhead": 0,
                      "arrowwidth": 1
                    },
                    "autotypenumbers": "strict",
                    "coloraxis": {
                      "colorbar": {
                        "outlinewidth": 0,
                        "ticks": ""
                      }
                    },
                    "colorscale": {
                      "diverging": [
                        [
                          0,
                          "#8e0152"
                        ],
                        [
                          0.1,
                          "#c51b7d"
                        ],
                        [
                          0.2,
                          "#de77ae"
                        ],
                        [
                          0.3,
                          "#f1b6da"
                        ],
                        [
                          0.4,
                          "#fde0ef"
                        ],
                        [
                          0.5,
                          "#f7f7f7"
                        ],
                        [
                          0.6,
                          "#e6f5d0"
                        ],
                        [
                          0.7,
                          "#b8e186"
                        ],
                        [
                          0.8,
                          "#7fbc41"
                        ],
                        [
                          0.9,
                          "#4d9221"
                        ],
                        [
                          1,
                          "#276419"
                        ]
                      ],
                      "sequential": [
                        [
                          0,
                          "#0d0887"
                        ],
                        [
                          0.1111111111111111,
                          "#46039f"
                        ],
                        [
                          0.2222222222222222,
                          "#7201a8"
                        ],
                        [
                          0.3333333333333333,
                          "#9c179e"
                        ],
                        [
                          0.4444444444444444,
                          "#bd3786"
                        ],
                        [
                          0.5555555555555556,
                          "#d8576b"
                        ],
                        [
                          0.6666666666666666,
                          "#ed7953"
                        ],
                        [
                          0.7777777777777778,
                          "#fb9f3a"
                        ],
                        [
                          0.8888888888888888,
                          "#fdca26"
                        ],
                        [
                          1,
                          "#f0f921"
                        ]
                      ],
                      "sequentialminus": [
                        [
                          0,
                          "#0d0887"
                        ],
                        [
                          0.1111111111111111,
                          "#46039f"
                        ],
                        [
                          0.2222222222222222,
                          "#7201a8"
                        ],
                        [
                          0.3333333333333333,
                          "#9c179e"
                        ],
                        [
                          0.4444444444444444,
                          "#bd3786"
                        ],
                        [
                          0.5555555555555556,
                          "#d8576b"
                        ],
                        [
                          0.6666666666666666,
                          "#ed7953"
                        ],
                        [
                          0.7777777777777778,
                          "#fb9f3a"
                        ],
                        [
                          0.8888888888888888,
                          "#fdca26"
                        ],
                        [
                          1,
                          "#f0f921"
                        ]
                      ]
                    },
                    "colorway": [
                      "#636efa",
                      "#EF553B",
                      "#00cc96",
                      "#ab63fa",
                      "#FFA15A",
                      "#19d3f3",
                      "#FF6692",
                      "#B6E880",
                      "#FF97FF",
                      "#FECB52"
                    ],
                    "font": {
                      "color": "#2a3f5f"
                    },
                    "geo": {
                      "bgcolor": "white",
                      "lakecolor": "white",
                      "landcolor": "#E5ECF6",
                      "showlakes": true,
                      "showland": true,
                      "subunitcolor": "white"
                    },
                    "hoverlabel": {
                      "align": "left"
                    },
                    "hovermode": "closest",
                    "mapbox": {
                      "style": "light"
                    },
                    "paper_bgcolor": "white",
                    "plot_bgcolor": "#E5ECF6",
                    "polar": {
                      "angularaxis": {
                        "gridcolor": "white",
                        "linecolor": "white",
                        "ticks": ""
                      },
                      "bgcolor": "#E5ECF6",
                      "radialaxis": {
                        "gridcolor": "white",
                        "linecolor": "white",
                        "ticks": ""
                      }
                    },
                    "scene": {
                      "xaxis": {
                        "backgroundcolor": "#E5ECF6",
                        "gridcolor": "white",
                        "gridwidth": 2,
                        "linecolor": "white",
                        "showbackground": true,
                        "ticks": "",
                        "zerolinecolor": "white"
                      },
                      "yaxis": {
                        "backgroundcolor": "#E5ECF6",
                        "gridcolor": "white",
                        "gridwidth": 2,
                        "linecolor": "white",
                        "showbackground": true,
                        "ticks": "",
                        "zerolinecolor": "white"
                      },
                      "zaxis": {
                        "backgroundcolor": "#E5ECF6",
                        "gridcolor": "white",
                        "gridwidth": 2,
                        "linecolor": "white",
                        "showbackground": true,
                        "ticks": "",
                        "zerolinecolor": "white"
                      }
                    },
                    "shapedefaults": {
                      "line": {
                        "color": "#2a3f5f"
                      }
                    },
                    "ternary": {
                      "aaxis": {
                        "gridcolor": "white",
                        "linecolor": "white",
                        "ticks": ""
                      },
                      "baxis": {
                        "gridcolor": "white",
                        "linecolor": "white",
                        "ticks": ""
                      },
                      "bgcolor": "#E5ECF6",
                      "caxis": {
                        "gridcolor": "white",
                        "linecolor": "white",
                        "ticks": ""
                      }
                    },
                    "title": {
                      "x": 0.05
                    },
                    "xaxis": {
                      "automargin": true,
                      "gridcolor": "white",
                      "linecolor": "white",
                      "ticks": "",
                      "title": {
                        "standoff": 15
                      },
                      "zerolinecolor": "white",
                      "zerolinewidth": 2
                    },
                    "yaxis": {
                      "automargin": true,
                      "gridcolor": "white",
                      "linecolor": "white",
                      "ticks": "",
                      "title": {
                        "standoff": 15
                      },
                      "zerolinecolor": "white",
                      "zerolinewidth": 2
                    }
                  }
                },
                "title": {
                  "text": "Cost of cloud compute to train frontier ML systems"
                },
                "width": 800,
                "xaxis": {
                  "title": {
                    "text": "System"
                  }
                },
                "yaxis": {
                  "range": [
                    0,
                    8
                  ],
                  "title": {
                    "text": "Cost (USD, nominal)"
                  },
                  "type": "log"
                }
              }
            }
          },
          "metadata": {},
          "output_type": "display_data"
        }
      ],
      "source": [
        "import plotly.graph_objects as go\n",
        "\n",
        "fig = go.Figure()\n",
        "for i, row in frontier_pcd_df.iterrows():\n",
        "    system = row['System']\n",
        "    cost = system_to_cost.get(system)\n",
        "    if cost is None:\n",
        "        continue\n",
        "    publication_date = row['Publication date']\n",
        "\n",
        "    fig.add_trace(go.Bar(\n",
        "        x=[system],\n",
        "        y=[cost],\n",
        "        name=system,\n",
        "        # nice blue color\n",
        "        marker_color='#034752',\n",
        "        # text=system,\n",
        "        # textposition='auto',\n",
        "    ))\n",
        "\n",
        "# log y axis\n",
        "fig.update_yaxes(type=\"log\")\n",
        "# no legend\n",
        "fig.update_layout(showlegend=False)\n",
        "\n",
        "# axis labels\n",
        "fig.update_xaxes(title_text='System')\n",
        "fig.update_yaxes(title_text='Cost (USD, nominal)')\n",
        "\n",
        "# title\n",
        "fig.update_layout(title_text='Cost of cloud compute to train frontier ML systems')\n",
        "\n",
        "# update size\n",
        "fig.update_layout(\n",
        "    autosize=False,\n",
        "    width=800,\n",
        "    height=600,\n",
        ")\n",
        "\n",
        "# font size\n",
        "fig.update_layout(\n",
        "    font=dict(\n",
        "        size=14,\n",
        "    )\n",
        ")\n",
        "\n",
        "# axis limits\n",
        "fig.update_yaxes(range=[0, 8])\n",
        "\n",
        "# margins\n",
        "fig.update_layout(margin=dict(l=10, r=10, t=40, b=10))\n",
        "\n",
        "fig.show()\n"
      ]
    },
    {
      "cell_type": "markdown",
      "metadata": {},
      "source": [
        "# Price imputation"
      ]
    },
    {
      "cell_type": "code",
      "execution_count": 160,
      "metadata": {},
      "outputs": [],
      "source": [
        "from sklearn.impute import KNNImputer"
      ]
    },
    {
      "cell_type": "code",
      "execution_count": 161,
      "metadata": {},
      "outputs": [
        {
          "data": {
            "text/plain": [
              "Index(['Price source', 'Price date', 'Hardware model',\n",
              "       'Manufacturer (from Hardware model)', 'Vendor', 'Location',\n",
              "       'Price per chip-hour (on-demand)', 'Price per chip-hour (1-year CUD)',\n",
              "       'Price per chip-hour (3-year CUD)', 'Price (hardware purchase)'],\n",
              "      dtype='object')"
            ]
          },
          "execution_count": 161,
          "metadata": {},
          "output_type": "execute_result"
        }
      ],
      "source": [
        "price_df.columns"
      ]
    },
    {
      "cell_type": "code",
      "execution_count": 162,
      "metadata": {},
      "outputs": [],
      "source": [
        "# drop unneeded columns from price_df\n",
        "irrelevant_columns = ['Price source', 'Price (hardware purchase)']\n",
        "price_df = price_df.drop(columns=irrelevant_columns)"
      ]
    },
    {
      "cell_type": "code",
      "execution_count": 163,
      "metadata": {},
      "outputs": [
        {
          "data": {
            "text/plain": [
              "Index(['Price date', 'Hardware model', 'Manufacturer (from Hardware model)',\n",
              "       'Vendor', 'Location', 'Price per chip-hour (on-demand)',\n",
              "       'Price per chip-hour (1-year CUD)', 'Price per chip-hour (3-year CUD)'],\n",
              "      dtype='object')"
            ]
          },
          "execution_count": 163,
          "metadata": {},
          "output_type": "execute_result"
        }
      ],
      "source": [
        "price_df.columns"
      ]
    },
    {
      "cell_type": "code",
      "execution_count": 164,
      "metadata": {},
      "outputs": [],
      "source": [
        "# instantiate the imputer\n",
        "imputer = KNNImputer(n_neighbors=1)"
      ]
    },
    {
      "cell_type": "code",
      "execution_count": 165,
      "metadata": {},
      "outputs": [
        {
          "name": "stderr",
          "output_type": "stream",
          "text": [
            "/var/folders/s2/stl5t_bn7xg9vdfxxr71rzrc0000gn/T/ipykernel_75116/3556909967.py:3: FutureWarning:\n",
            "\n",
            "The default value of regex will change from True to False in a future version. In addition, single character regular expressions will *not* be treated as literal strings when regex=True.\n",
            "\n"
          ]
        }
      ],
      "source": [
        "# Convert price columns to float - drop the $ sign\n",
        "for col in ['Price per chip-hour (1-year CUD)', 'Price per chip-hour (3-year CUD)', 'Price per chip-hour (on-demand)']:\n",
        "    price_df[col] = price_df[col].str.replace('$', '').astype(float)"
      ]
    },
    {
      "cell_type": "code",
      "execution_count": 166,
      "metadata": {},
      "outputs": [],
      "source": [
        "# convert datetime to float\n",
        "price_df['Price date'] = price_df['Price date'].dt.year + (price_df['Price date'].dt.month-1) / 12 + (price_df['Price date'].dt.day-1) / 365\n",
        "\n",
        "# set the price date column as the index\n",
        "# price_df = price_df.set_index('Price date')\n",
        "\n",
        "# Identify categorical columns\n",
        "categorical_cols = price_df.select_dtypes(include=['object', 'category']).columns.tolist()\n",
        "\n",
        "# one-hot encode all categorical columns\n",
        "one_hot_price_df = pd.get_dummies(price_df, columns=categorical_cols)"
      ]
    },
    {
      "cell_type": "code",
      "execution_count": 167,
      "metadata": {},
      "outputs": [
        {
          "data": {
            "text/html": [
              "<div>\n",
              "<style scoped>\n",
              "    .dataframe tbody tr th:only-of-type {\n",
              "        vertical-align: middle;\n",
              "    }\n",
              "\n",
              "    .dataframe tbody tr th {\n",
              "        vertical-align: top;\n",
              "    }\n",
              "\n",
              "    .dataframe thead th {\n",
              "        text-align: right;\n",
              "    }\n",
              "</style>\n",
              "<table border=\"1\" class=\"dataframe\">\n",
              "  <thead>\n",
              "    <tr style=\"text-align: right;\">\n",
              "      <th></th>\n",
              "      <th>Price date</th>\n",
              "      <th>Price per chip-hour (on-demand)</th>\n",
              "      <th>Price per chip-hour (1-year CUD)</th>\n",
              "      <th>Price per chip-hour (3-year CUD)</th>\n",
              "      <th>Hardware model_Google TPU v2</th>\n",
              "      <th>Hardware model_Google TPU v3</th>\n",
              "      <th>Hardware model_Google TPU v4</th>\n",
              "      <th>Hardware model_NVIDIA A100</th>\n",
              "      <th>Hardware model_NVIDIA A100 SXM4 40 GB</th>\n",
              "      <th>Hardware model_NVIDIA A100 SXM4 80 GB</th>\n",
              "      <th>...</th>\n",
              "      <th>Vendor_Google Cloud</th>\n",
              "      <th>Vendor_Microsoft Azure</th>\n",
              "      <th>Location_East US</th>\n",
              "      <th>Location_Europe</th>\n",
              "      <th>Location_Iowa (us-central1)</th>\n",
              "      <th>Location_Netherlands (europe-west4)</th>\n",
              "      <th>Location_Oregon</th>\n",
              "      <th>Location_US</th>\n",
              "      <th>Location_US East (Northern Virginia)</th>\n",
              "      <th>Location_us-central2-b</th>\n",
              "    </tr>\n",
              "  </thead>\n",
              "  <tbody>\n",
              "    <tr>\n",
              "      <th>0</th>\n",
              "      <td>2018.771918</td>\n",
              "      <td>1.13</td>\n",
              "      <td>NaN</td>\n",
              "      <td>NaN</td>\n",
              "      <td>1</td>\n",
              "      <td>0</td>\n",
              "      <td>0</td>\n",
              "      <td>0</td>\n",
              "      <td>0</td>\n",
              "      <td>0</td>\n",
              "      <td>...</td>\n",
              "      <td>1</td>\n",
              "      <td>0</td>\n",
              "      <td>0</td>\n",
              "      <td>0</td>\n",
              "      <td>0</td>\n",
              "      <td>0</td>\n",
              "      <td>0</td>\n",
              "      <td>1</td>\n",
              "      <td>0</td>\n",
              "      <td>0</td>\n",
              "    </tr>\n",
              "    <tr>\n",
              "      <th>1</th>\n",
              "      <td>2018.777397</td>\n",
              "      <td>2.00</td>\n",
              "      <td>NaN</td>\n",
              "      <td>NaN</td>\n",
              "      <td>0</td>\n",
              "      <td>1</td>\n",
              "      <td>0</td>\n",
              "      <td>0</td>\n",
              "      <td>0</td>\n",
              "      <td>0</td>\n",
              "      <td>...</td>\n",
              "      <td>1</td>\n",
              "      <td>0</td>\n",
              "      <td>0</td>\n",
              "      <td>0</td>\n",
              "      <td>0</td>\n",
              "      <td>0</td>\n",
              "      <td>0</td>\n",
              "      <td>1</td>\n",
              "      <td>0</td>\n",
              "      <td>0</td>\n",
              "    </tr>\n",
              "    <tr>\n",
              "      <th>2</th>\n",
              "      <td>2018.777397</td>\n",
              "      <td>2.20</td>\n",
              "      <td>NaN</td>\n",
              "      <td>NaN</td>\n",
              "      <td>0</td>\n",
              "      <td>1</td>\n",
              "      <td>0</td>\n",
              "      <td>0</td>\n",
              "      <td>0</td>\n",
              "      <td>0</td>\n",
              "      <td>...</td>\n",
              "      <td>1</td>\n",
              "      <td>0</td>\n",
              "      <td>0</td>\n",
              "      <td>1</td>\n",
              "      <td>0</td>\n",
              "      <td>0</td>\n",
              "      <td>0</td>\n",
              "      <td>0</td>\n",
              "      <td>0</td>\n",
              "      <td>0</td>\n",
              "    </tr>\n",
              "    <tr>\n",
              "      <th>3</th>\n",
              "      <td>2019.500000</td>\n",
              "      <td>2.00</td>\n",
              "      <td>1.26</td>\n",
              "      <td>0.90</td>\n",
              "      <td>0</td>\n",
              "      <td>1</td>\n",
              "      <td>0</td>\n",
              "      <td>0</td>\n",
              "      <td>0</td>\n",
              "      <td>0</td>\n",
              "      <td>...</td>\n",
              "      <td>1</td>\n",
              "      <td>0</td>\n",
              "      <td>0</td>\n",
              "      <td>0</td>\n",
              "      <td>1</td>\n",
              "      <td>0</td>\n",
              "      <td>0</td>\n",
              "      <td>0</td>\n",
              "      <td>0</td>\n",
              "      <td>0</td>\n",
              "    </tr>\n",
              "    <tr>\n",
              "      <th>4</th>\n",
              "      <td>2019.573973</td>\n",
              "      <td>2.00</td>\n",
              "      <td>1.26</td>\n",
              "      <td>0.90</td>\n",
              "      <td>0</td>\n",
              "      <td>1</td>\n",
              "      <td>0</td>\n",
              "      <td>0</td>\n",
              "      <td>0</td>\n",
              "      <td>0</td>\n",
              "      <td>...</td>\n",
              "      <td>1</td>\n",
              "      <td>0</td>\n",
              "      <td>0</td>\n",
              "      <td>0</td>\n",
              "      <td>0</td>\n",
              "      <td>1</td>\n",
              "      <td>0</td>\n",
              "      <td>0</td>\n",
              "      <td>0</td>\n",
              "      <td>0</td>\n",
              "    </tr>\n",
              "    <tr>\n",
              "      <th>5</th>\n",
              "      <td>2019.665525</td>\n",
              "      <td>2.00</td>\n",
              "      <td>1.26</td>\n",
              "      <td>0.90</td>\n",
              "      <td>0</td>\n",
              "      <td>1</td>\n",
              "      <td>0</td>\n",
              "      <td>0</td>\n",
              "      <td>0</td>\n",
              "      <td>0</td>\n",
              "      <td>...</td>\n",
              "      <td>1</td>\n",
              "      <td>0</td>\n",
              "      <td>0</td>\n",
              "      <td>0</td>\n",
              "      <td>0</td>\n",
              "      <td>1</td>\n",
              "      <td>0</td>\n",
              "      <td>0</td>\n",
              "      <td>0</td>\n",
              "      <td>0</td>\n",
              "    </tr>\n",
              "    <tr>\n",
              "      <th>6</th>\n",
              "      <td>2019.930365</td>\n",
              "      <td>2.00</td>\n",
              "      <td>1.26</td>\n",
              "      <td>0.90</td>\n",
              "      <td>0</td>\n",
              "      <td>1</td>\n",
              "      <td>0</td>\n",
              "      <td>0</td>\n",
              "      <td>0</td>\n",
              "      <td>0</td>\n",
              "      <td>...</td>\n",
              "      <td>1</td>\n",
              "      <td>0</td>\n",
              "      <td>0</td>\n",
              "      <td>0</td>\n",
              "      <td>1</td>\n",
              "      <td>0</td>\n",
              "      <td>0</td>\n",
              "      <td>0</td>\n",
              "      <td>0</td>\n",
              "      <td>0</td>\n",
              "    </tr>\n",
              "    <tr>\n",
              "      <th>7</th>\n",
              "      <td>2020.919406</td>\n",
              "      <td>2.00</td>\n",
              "      <td>1.26</td>\n",
              "      <td>0.90</td>\n",
              "      <td>0</td>\n",
              "      <td>1</td>\n",
              "      <td>0</td>\n",
              "      <td>0</td>\n",
              "      <td>0</td>\n",
              "      <td>0</td>\n",
              "      <td>...</td>\n",
              "      <td>1</td>\n",
              "      <td>0</td>\n",
              "      <td>0</td>\n",
              "      <td>0</td>\n",
              "      <td>1</td>\n",
              "      <td>0</td>\n",
              "      <td>0</td>\n",
              "      <td>0</td>\n",
              "      <td>0</td>\n",
              "      <td>0</td>\n",
              "    </tr>\n",
              "    <tr>\n",
              "      <th>8</th>\n",
              "      <td>2021.183105</td>\n",
              "      <td>2.00</td>\n",
              "      <td>1.26</td>\n",
              "      <td>0.90</td>\n",
              "      <td>0</td>\n",
              "      <td>1</td>\n",
              "      <td>0</td>\n",
              "      <td>0</td>\n",
              "      <td>0</td>\n",
              "      <td>0</td>\n",
              "      <td>...</td>\n",
              "      <td>1</td>\n",
              "      <td>0</td>\n",
              "      <td>0</td>\n",
              "      <td>0</td>\n",
              "      <td>1</td>\n",
              "      <td>0</td>\n",
              "      <td>0</td>\n",
              "      <td>0</td>\n",
              "      <td>0</td>\n",
              "      <td>0</td>\n",
              "    </tr>\n",
              "    <tr>\n",
              "      <th>9</th>\n",
              "      <td>2021.769178</td>\n",
              "      <td>2.00</td>\n",
              "      <td>1.26</td>\n",
              "      <td>0.90</td>\n",
              "      <td>0</td>\n",
              "      <td>1</td>\n",
              "      <td>0</td>\n",
              "      <td>0</td>\n",
              "      <td>0</td>\n",
              "      <td>0</td>\n",
              "      <td>...</td>\n",
              "      <td>1</td>\n",
              "      <td>0</td>\n",
              "      <td>0</td>\n",
              "      <td>0</td>\n",
              "      <td>1</td>\n",
              "      <td>0</td>\n",
              "      <td>0</td>\n",
              "      <td>0</td>\n",
              "      <td>0</td>\n",
              "      <td>0</td>\n",
              "    </tr>\n",
              "    <tr>\n",
              "      <th>10</th>\n",
              "      <td>2021.877169</td>\n",
              "      <td>2.00</td>\n",
              "      <td>1.26</td>\n",
              "      <td>0.90</td>\n",
              "      <td>0</td>\n",
              "      <td>1</td>\n",
              "      <td>0</td>\n",
              "      <td>0</td>\n",
              "      <td>0</td>\n",
              "      <td>0</td>\n",
              "      <td>...</td>\n",
              "      <td>1</td>\n",
              "      <td>0</td>\n",
              "      <td>0</td>\n",
              "      <td>0</td>\n",
              "      <td>1</td>\n",
              "      <td>0</td>\n",
              "      <td>0</td>\n",
              "      <td>0</td>\n",
              "      <td>0</td>\n",
              "      <td>0</td>\n",
              "    </tr>\n",
              "    <tr>\n",
              "      <th>11</th>\n",
              "      <td>2022.360731</td>\n",
              "      <td>3.22</td>\n",
              "      <td>2.03</td>\n",
              "      <td>1.45</td>\n",
              "      <td>0</td>\n",
              "      <td>0</td>\n",
              "      <td>1</td>\n",
              "      <td>0</td>\n",
              "      <td>0</td>\n",
              "      <td>0</td>\n",
              "      <td>...</td>\n",
              "      <td>1</td>\n",
              "      <td>0</td>\n",
              "      <td>0</td>\n",
              "      <td>0</td>\n",
              "      <td>0</td>\n",
              "      <td>0</td>\n",
              "      <td>0</td>\n",
              "      <td>0</td>\n",
              "      <td>0</td>\n",
              "      <td>1</td>\n",
              "    </tr>\n",
              "    <tr>\n",
              "      <th>12</th>\n",
              "      <td>2022.694064</td>\n",
              "      <td>3.22</td>\n",
              "      <td>2.03</td>\n",
              "      <td>1.45</td>\n",
              "      <td>0</td>\n",
              "      <td>0</td>\n",
              "      <td>1</td>\n",
              "      <td>0</td>\n",
              "      <td>0</td>\n",
              "      <td>0</td>\n",
              "      <td>...</td>\n",
              "      <td>1</td>\n",
              "      <td>0</td>\n",
              "      <td>0</td>\n",
              "      <td>0</td>\n",
              "      <td>0</td>\n",
              "      <td>0</td>\n",
              "      <td>0</td>\n",
              "      <td>0</td>\n",
              "      <td>0</td>\n",
              "      <td>1</td>\n",
              "    </tr>\n",
              "    <tr>\n",
              "      <th>13</th>\n",
              "      <td>2023.416667</td>\n",
              "      <td>3.22</td>\n",
              "      <td>2.03</td>\n",
              "      <td>1.45</td>\n",
              "      <td>0</td>\n",
              "      <td>0</td>\n",
              "      <td>1</td>\n",
              "      <td>0</td>\n",
              "      <td>0</td>\n",
              "      <td>0</td>\n",
              "      <td>...</td>\n",
              "      <td>1</td>\n",
              "      <td>0</td>\n",
              "      <td>0</td>\n",
              "      <td>0</td>\n",
              "      <td>0</td>\n",
              "      <td>0</td>\n",
              "      <td>0</td>\n",
              "      <td>0</td>\n",
              "      <td>0</td>\n",
              "      <td>1</td>\n",
              "    </tr>\n",
              "    <tr>\n",
              "      <th>14</th>\n",
              "      <td>2021.277397</td>\n",
              "      <td>3.40</td>\n",
              "      <td>2.40</td>\n",
              "      <td>1.44</td>\n",
              "      <td>0</td>\n",
              "      <td>0</td>\n",
              "      <td>0</td>\n",
              "      <td>1</td>\n",
              "      <td>0</td>\n",
              "      <td>0</td>\n",
              "      <td>...</td>\n",
              "      <td>0</td>\n",
              "      <td>1</td>\n",
              "      <td>1</td>\n",
              "      <td>0</td>\n",
              "      <td>0</td>\n",
              "      <td>0</td>\n",
              "      <td>0</td>\n",
              "      <td>0</td>\n",
              "      <td>0</td>\n",
              "      <td>0</td>\n",
              "    </tr>\n",
              "    <tr>\n",
              "      <th>15</th>\n",
              "      <td>2021.541096</td>\n",
              "      <td>3.40</td>\n",
              "      <td>2.35</td>\n",
              "      <td>1.36</td>\n",
              "      <td>0</td>\n",
              "      <td>0</td>\n",
              "      <td>0</td>\n",
              "      <td>1</td>\n",
              "      <td>0</td>\n",
              "      <td>0</td>\n",
              "      <td>...</td>\n",
              "      <td>0</td>\n",
              "      <td>1</td>\n",
              "      <td>1</td>\n",
              "      <td>0</td>\n",
              "      <td>0</td>\n",
              "      <td>0</td>\n",
              "      <td>0</td>\n",
              "      <td>0</td>\n",
              "      <td>0</td>\n",
              "      <td>0</td>\n",
              "    </tr>\n",
              "    <tr>\n",
              "      <th>16</th>\n",
              "      <td>2021.616210</td>\n",
              "      <td>3.40</td>\n",
              "      <td>2.35</td>\n",
              "      <td>1.36</td>\n",
              "      <td>0</td>\n",
              "      <td>0</td>\n",
              "      <td>0</td>\n",
              "      <td>1</td>\n",
              "      <td>0</td>\n",
              "      <td>0</td>\n",
              "      <td>...</td>\n",
              "      <td>0</td>\n",
              "      <td>1</td>\n",
              "      <td>1</td>\n",
              "      <td>0</td>\n",
              "      <td>0</td>\n",
              "      <td>0</td>\n",
              "      <td>0</td>\n",
              "      <td>0</td>\n",
              "      <td>0</td>\n",
              "      <td>0</td>\n",
              "    </tr>\n",
              "    <tr>\n",
              "      <th>17</th>\n",
              "      <td>2022.946804</td>\n",
              "      <td>2.93</td>\n",
              "      <td>1.85</td>\n",
              "      <td>1.03</td>\n",
              "      <td>0</td>\n",
              "      <td>0</td>\n",
              "      <td>0</td>\n",
              "      <td>0</td>\n",
              "      <td>1</td>\n",
              "      <td>0</td>\n",
              "      <td>...</td>\n",
              "      <td>1</td>\n",
              "      <td>0</td>\n",
              "      <td>0</td>\n",
              "      <td>0</td>\n",
              "      <td>1</td>\n",
              "      <td>0</td>\n",
              "      <td>0</td>\n",
              "      <td>0</td>\n",
              "      <td>0</td>\n",
              "      <td>0</td>\n",
              "    </tr>\n",
              "    <tr>\n",
              "      <th>18</th>\n",
              "      <td>2021.841553</td>\n",
              "      <td>4.10</td>\n",
              "      <td>2.40</td>\n",
              "      <td>1.45</td>\n",
              "      <td>0</td>\n",
              "      <td>0</td>\n",
              "      <td>0</td>\n",
              "      <td>0</td>\n",
              "      <td>1</td>\n",
              "      <td>0</td>\n",
              "      <td>...</td>\n",
              "      <td>0</td>\n",
              "      <td>0</td>\n",
              "      <td>0</td>\n",
              "      <td>0</td>\n",
              "      <td>0</td>\n",
              "      <td>0</td>\n",
              "      <td>0</td>\n",
              "      <td>0</td>\n",
              "      <td>1</td>\n",
              "      <td>0</td>\n",
              "    </tr>\n",
              "    <tr>\n",
              "      <th>19</th>\n",
              "      <td>2022.065753</td>\n",
              "      <td>4.10</td>\n",
              "      <td>2.40</td>\n",
              "      <td>1.45</td>\n",
              "      <td>0</td>\n",
              "      <td>0</td>\n",
              "      <td>0</td>\n",
              "      <td>0</td>\n",
              "      <td>1</td>\n",
              "      <td>0</td>\n",
              "      <td>...</td>\n",
              "      <td>0</td>\n",
              "      <td>0</td>\n",
              "      <td>0</td>\n",
              "      <td>0</td>\n",
              "      <td>0</td>\n",
              "      <td>0</td>\n",
              "      <td>0</td>\n",
              "      <td>0</td>\n",
              "      <td>1</td>\n",
              "      <td>0</td>\n",
              "    </tr>\n",
              "    <tr>\n",
              "      <th>20</th>\n",
              "      <td>2022.151826</td>\n",
              "      <td>4.10</td>\n",
              "      <td>2.40</td>\n",
              "      <td>1.45</td>\n",
              "      <td>0</td>\n",
              "      <td>0</td>\n",
              "      <td>0</td>\n",
              "      <td>0</td>\n",
              "      <td>1</td>\n",
              "      <td>0</td>\n",
              "      <td>...</td>\n",
              "      <td>0</td>\n",
              "      <td>0</td>\n",
              "      <td>0</td>\n",
              "      <td>0</td>\n",
              "      <td>0</td>\n",
              "      <td>0</td>\n",
              "      <td>0</td>\n",
              "      <td>0</td>\n",
              "      <td>1</td>\n",
              "      <td>0</td>\n",
              "    </tr>\n",
              "    <tr>\n",
              "      <th>21</th>\n",
              "      <td>2022.793836</td>\n",
              "      <td>4.10</td>\n",
              "      <td>2.40</td>\n",
              "      <td>1.45</td>\n",
              "      <td>0</td>\n",
              "      <td>0</td>\n",
              "      <td>0</td>\n",
              "      <td>0</td>\n",
              "      <td>1</td>\n",
              "      <td>0</td>\n",
              "      <td>...</td>\n",
              "      <td>0</td>\n",
              "      <td>0</td>\n",
              "      <td>0</td>\n",
              "      <td>0</td>\n",
              "      <td>0</td>\n",
              "      <td>0</td>\n",
              "      <td>0</td>\n",
              "      <td>0</td>\n",
              "      <td>1</td>\n",
              "      <td>0</td>\n",
              "    </tr>\n",
              "    <tr>\n",
              "      <th>22</th>\n",
              "      <td>2022.938584</td>\n",
              "      <td>4.10</td>\n",
              "      <td>2.40</td>\n",
              "      <td>1.45</td>\n",
              "      <td>0</td>\n",
              "      <td>0</td>\n",
              "      <td>0</td>\n",
              "      <td>0</td>\n",
              "      <td>1</td>\n",
              "      <td>0</td>\n",
              "      <td>...</td>\n",
              "      <td>0</td>\n",
              "      <td>0</td>\n",
              "      <td>0</td>\n",
              "      <td>0</td>\n",
              "      <td>0</td>\n",
              "      <td>0</td>\n",
              "      <td>0</td>\n",
              "      <td>0</td>\n",
              "      <td>1</td>\n",
              "      <td>0</td>\n",
              "    </tr>\n",
              "    <tr>\n",
              "      <th>23</th>\n",
              "      <td>2023.191324</td>\n",
              "      <td>4.10</td>\n",
              "      <td>2.40</td>\n",
              "      <td>1.45</td>\n",
              "      <td>0</td>\n",
              "      <td>0</td>\n",
              "      <td>0</td>\n",
              "      <td>0</td>\n",
              "      <td>1</td>\n",
              "      <td>0</td>\n",
              "      <td>...</td>\n",
              "      <td>0</td>\n",
              "      <td>0</td>\n",
              "      <td>0</td>\n",
              "      <td>0</td>\n",
              "      <td>0</td>\n",
              "      <td>0</td>\n",
              "      <td>0</td>\n",
              "      <td>0</td>\n",
              "      <td>1</td>\n",
              "      <td>0</td>\n",
              "    </tr>\n",
              "    <tr>\n",
              "      <th>24</th>\n",
              "      <td>2022.946804</td>\n",
              "      <td>3.93</td>\n",
              "      <td>NaN</td>\n",
              "      <td>NaN</td>\n",
              "      <td>0</td>\n",
              "      <td>0</td>\n",
              "      <td>0</td>\n",
              "      <td>0</td>\n",
              "      <td>0</td>\n",
              "      <td>1</td>\n",
              "      <td>...</td>\n",
              "      <td>1</td>\n",
              "      <td>0</td>\n",
              "      <td>0</td>\n",
              "      <td>0</td>\n",
              "      <td>1</td>\n",
              "      <td>0</td>\n",
              "      <td>0</td>\n",
              "      <td>0</td>\n",
              "      <td>0</td>\n",
              "      <td>0</td>\n",
              "    </tr>\n",
              "    <tr>\n",
              "      <th>25</th>\n",
              "      <td>2022.632648</td>\n",
              "      <td>5.12</td>\n",
              "      <td>3.00</td>\n",
              "      <td>1.81</td>\n",
              "      <td>0</td>\n",
              "      <td>0</td>\n",
              "      <td>0</td>\n",
              "      <td>0</td>\n",
              "      <td>0</td>\n",
              "      <td>1</td>\n",
              "      <td>...</td>\n",
              "      <td>0</td>\n",
              "      <td>0</td>\n",
              "      <td>0</td>\n",
              "      <td>0</td>\n",
              "      <td>0</td>\n",
              "      <td>0</td>\n",
              "      <td>0</td>\n",
              "      <td>0</td>\n",
              "      <td>1</td>\n",
              "      <td>0</td>\n",
              "    </tr>\n",
              "    <tr>\n",
              "      <th>26</th>\n",
              "      <td>2022.938584</td>\n",
              "      <td>5.12</td>\n",
              "      <td>3.00</td>\n",
              "      <td>1.81</td>\n",
              "      <td>0</td>\n",
              "      <td>0</td>\n",
              "      <td>0</td>\n",
              "      <td>0</td>\n",
              "      <td>0</td>\n",
              "      <td>1</td>\n",
              "      <td>...</td>\n",
              "      <td>0</td>\n",
              "      <td>0</td>\n",
              "      <td>0</td>\n",
              "      <td>0</td>\n",
              "      <td>0</td>\n",
              "      <td>0</td>\n",
              "      <td>0</td>\n",
              "      <td>0</td>\n",
              "      <td>1</td>\n",
              "      <td>0</td>\n",
              "    </tr>\n",
              "    <tr>\n",
              "      <th>27</th>\n",
              "      <td>2022.288356</td>\n",
              "      <td>4.10</td>\n",
              "      <td>2.62</td>\n",
              "      <td>1.80</td>\n",
              "      <td>0</td>\n",
              "      <td>0</td>\n",
              "      <td>0</td>\n",
              "      <td>0</td>\n",
              "      <td>0</td>\n",
              "      <td>1</td>\n",
              "      <td>...</td>\n",
              "      <td>0</td>\n",
              "      <td>1</td>\n",
              "      <td>1</td>\n",
              "      <td>0</td>\n",
              "      <td>0</td>\n",
              "      <td>0</td>\n",
              "      <td>0</td>\n",
              "      <td>0</td>\n",
              "      <td>0</td>\n",
              "      <td>0</td>\n",
              "    </tr>\n",
              "    <tr>\n",
              "      <th>28</th>\n",
              "      <td>2022.412785</td>\n",
              "      <td>4.10</td>\n",
              "      <td>2.62</td>\n",
              "      <td>1.80</td>\n",
              "      <td>0</td>\n",
              "      <td>0</td>\n",
              "      <td>0</td>\n",
              "      <td>0</td>\n",
              "      <td>0</td>\n",
              "      <td>1</td>\n",
              "      <td>...</td>\n",
              "      <td>0</td>\n",
              "      <td>1</td>\n",
              "      <td>1</td>\n",
              "      <td>0</td>\n",
              "      <td>0</td>\n",
              "      <td>0</td>\n",
              "      <td>0</td>\n",
              "      <td>0</td>\n",
              "      <td>0</td>\n",
              "      <td>0</td>\n",
              "    </tr>\n",
              "    <tr>\n",
              "      <th>29</th>\n",
              "      <td>2017.868950</td>\n",
              "      <td>2.30</td>\n",
              "      <td>NaN</td>\n",
              "      <td>NaN</td>\n",
              "      <td>0</td>\n",
              "      <td>0</td>\n",
              "      <td>0</td>\n",
              "      <td>0</td>\n",
              "      <td>0</td>\n",
              "      <td>0</td>\n",
              "      <td>...</td>\n",
              "      <td>1</td>\n",
              "      <td>0</td>\n",
              "      <td>0</td>\n",
              "      <td>0</td>\n",
              "      <td>0</td>\n",
              "      <td>0</td>\n",
              "      <td>1</td>\n",
              "      <td>0</td>\n",
              "      <td>0</td>\n",
              "      <td>0</td>\n",
              "    </tr>\n",
              "    <tr>\n",
              "      <th>30</th>\n",
              "      <td>2017.916667</td>\n",
              "      <td>1.46</td>\n",
              "      <td>NaN</td>\n",
              "      <td>NaN</td>\n",
              "      <td>0</td>\n",
              "      <td>0</td>\n",
              "      <td>0</td>\n",
              "      <td>0</td>\n",
              "      <td>0</td>\n",
              "      <td>0</td>\n",
              "      <td>...</td>\n",
              "      <td>1</td>\n",
              "      <td>0</td>\n",
              "      <td>0</td>\n",
              "      <td>0</td>\n",
              "      <td>0</td>\n",
              "      <td>0</td>\n",
              "      <td>1</td>\n",
              "      <td>0</td>\n",
              "      <td>0</td>\n",
              "      <td>0</td>\n",
              "    </tr>\n",
              "    <tr>\n",
              "      <th>31</th>\n",
              "      <td>2019.651826</td>\n",
              "      <td>1.46</td>\n",
              "      <td>0.92</td>\n",
              "      <td>0.66</td>\n",
              "      <td>0</td>\n",
              "      <td>0</td>\n",
              "      <td>0</td>\n",
              "      <td>0</td>\n",
              "      <td>0</td>\n",
              "      <td>0</td>\n",
              "      <td>...</td>\n",
              "      <td>1</td>\n",
              "      <td>0</td>\n",
              "      <td>0</td>\n",
              "      <td>0</td>\n",
              "      <td>1</td>\n",
              "      <td>0</td>\n",
              "      <td>0</td>\n",
              "      <td>0</td>\n",
              "      <td>0</td>\n",
              "      <td>0</td>\n",
              "    </tr>\n",
              "    <tr>\n",
              "      <th>32</th>\n",
              "      <td>2017.138128</td>\n",
              "      <td>1.40</td>\n",
              "      <td>NaN</td>\n",
              "      <td>NaN</td>\n",
              "      <td>0</td>\n",
              "      <td>0</td>\n",
              "      <td>0</td>\n",
              "      <td>0</td>\n",
              "      <td>0</td>\n",
              "      <td>0</td>\n",
              "      <td>...</td>\n",
              "      <td>1</td>\n",
              "      <td>0</td>\n",
              "      <td>0</td>\n",
              "      <td>0</td>\n",
              "      <td>0</td>\n",
              "      <td>0</td>\n",
              "      <td>0</td>\n",
              "      <td>1</td>\n",
              "      <td>0</td>\n",
              "      <td>0</td>\n",
              "    </tr>\n",
              "    <tr>\n",
              "      <th>33</th>\n",
              "      <td>2017.174886</td>\n",
              "      <td>1.40</td>\n",
              "      <td>NaN</td>\n",
              "      <td>NaN</td>\n",
              "      <td>0</td>\n",
              "      <td>0</td>\n",
              "      <td>0</td>\n",
              "      <td>0</td>\n",
              "      <td>0</td>\n",
              "      <td>0</td>\n",
              "      <td>...</td>\n",
              "      <td>1</td>\n",
              "      <td>0</td>\n",
              "      <td>0</td>\n",
              "      <td>0</td>\n",
              "      <td>0</td>\n",
              "      <td>0</td>\n",
              "      <td>0</td>\n",
              "      <td>1</td>\n",
              "      <td>0</td>\n",
              "      <td>0</td>\n",
              "    </tr>\n",
              "    <tr>\n",
              "      <th>34</th>\n",
              "      <td>2017.393607</td>\n",
              "      <td>1.40</td>\n",
              "      <td>NaN</td>\n",
              "      <td>NaN</td>\n",
              "      <td>0</td>\n",
              "      <td>0</td>\n",
              "      <td>0</td>\n",
              "      <td>0</td>\n",
              "      <td>0</td>\n",
              "      <td>0</td>\n",
              "      <td>...</td>\n",
              "      <td>1</td>\n",
              "      <td>0</td>\n",
              "      <td>0</td>\n",
              "      <td>0</td>\n",
              "      <td>0</td>\n",
              "      <td>0</td>\n",
              "      <td>1</td>\n",
              "      <td>0</td>\n",
              "      <td>0</td>\n",
              "      <td>0</td>\n",
              "    </tr>\n",
              "    <tr>\n",
              "      <th>35</th>\n",
              "      <td>2017.107991</td>\n",
              "      <td>0.90</td>\n",
              "      <td>NaN</td>\n",
              "      <td>0.43</td>\n",
              "      <td>0</td>\n",
              "      <td>0</td>\n",
              "      <td>0</td>\n",
              "      <td>0</td>\n",
              "      <td>0</td>\n",
              "      <td>0</td>\n",
              "      <td>...</td>\n",
              "      <td>0</td>\n",
              "      <td>0</td>\n",
              "      <td>0</td>\n",
              "      <td>0</td>\n",
              "      <td>0</td>\n",
              "      <td>0</td>\n",
              "      <td>0</td>\n",
              "      <td>0</td>\n",
              "      <td>1</td>\n",
              "      <td>0</td>\n",
              "    </tr>\n",
              "    <tr>\n",
              "      <th>36</th>\n",
              "      <td>2017.412785</td>\n",
              "      <td>0.90</td>\n",
              "      <td>NaN</td>\n",
              "      <td>0.43</td>\n",
              "      <td>0</td>\n",
              "      <td>0</td>\n",
              "      <td>0</td>\n",
              "      <td>0</td>\n",
              "      <td>0</td>\n",
              "      <td>0</td>\n",
              "      <td>...</td>\n",
              "      <td>0</td>\n",
              "      <td>0</td>\n",
              "      <td>0</td>\n",
              "      <td>0</td>\n",
              "      <td>0</td>\n",
              "      <td>0</td>\n",
              "      <td>0</td>\n",
              "      <td>0</td>\n",
              "      <td>1</td>\n",
              "      <td>0</td>\n",
              "    </tr>\n",
              "    <tr>\n",
              "      <th>37</th>\n",
              "      <td>2023.938584</td>\n",
              "      <td>0.90</td>\n",
              "      <td>NaN</td>\n",
              "      <td>0.43</td>\n",
              "      <td>0</td>\n",
              "      <td>0</td>\n",
              "      <td>0</td>\n",
              "      <td>0</td>\n",
              "      <td>0</td>\n",
              "      <td>0</td>\n",
              "      <td>...</td>\n",
              "      <td>0</td>\n",
              "      <td>0</td>\n",
              "      <td>0</td>\n",
              "      <td>0</td>\n",
              "      <td>0</td>\n",
              "      <td>0</td>\n",
              "      <td>0</td>\n",
              "      <td>0</td>\n",
              "      <td>1</td>\n",
              "      <td>0</td>\n",
              "    </tr>\n",
              "    <tr>\n",
              "      <th>38</th>\n",
              "      <td>2018.435845</td>\n",
              "      <td>3.06</td>\n",
              "      <td>1.99</td>\n",
              "      <td>1.23</td>\n",
              "      <td>0</td>\n",
              "      <td>0</td>\n",
              "      <td>0</td>\n",
              "      <td>0</td>\n",
              "      <td>0</td>\n",
              "      <td>0</td>\n",
              "      <td>...</td>\n",
              "      <td>0</td>\n",
              "      <td>0</td>\n",
              "      <td>0</td>\n",
              "      <td>0</td>\n",
              "      <td>0</td>\n",
              "      <td>0</td>\n",
              "      <td>0</td>\n",
              "      <td>0</td>\n",
              "      <td>1</td>\n",
              "      <td>0</td>\n",
              "    </tr>\n",
              "    <tr>\n",
              "      <th>39</th>\n",
              "      <td>2019.065753</td>\n",
              "      <td>3.90</td>\n",
              "      <td>2.29</td>\n",
              "      <td>1.21</td>\n",
              "      <td>0</td>\n",
              "      <td>0</td>\n",
              "      <td>0</td>\n",
              "      <td>0</td>\n",
              "      <td>0</td>\n",
              "      <td>0</td>\n",
              "      <td>...</td>\n",
              "      <td>0</td>\n",
              "      <td>0</td>\n",
              "      <td>0</td>\n",
              "      <td>0</td>\n",
              "      <td>0</td>\n",
              "      <td>0</td>\n",
              "      <td>0</td>\n",
              "      <td>0</td>\n",
              "      <td>1</td>\n",
              "      <td>0</td>\n",
              "    </tr>\n",
              "    <tr>\n",
              "      <th>40</th>\n",
              "      <td>2019.260959</td>\n",
              "      <td>3.90</td>\n",
              "      <td>2.29</td>\n",
              "      <td>1.21</td>\n",
              "      <td>0</td>\n",
              "      <td>0</td>\n",
              "      <td>0</td>\n",
              "      <td>0</td>\n",
              "      <td>0</td>\n",
              "      <td>0</td>\n",
              "      <td>...</td>\n",
              "      <td>0</td>\n",
              "      <td>0</td>\n",
              "      <td>0</td>\n",
              "      <td>0</td>\n",
              "      <td>0</td>\n",
              "      <td>0</td>\n",
              "      <td>0</td>\n",
              "      <td>0</td>\n",
              "      <td>1</td>\n",
              "      <td>0</td>\n",
              "    </tr>\n",
              "    <tr>\n",
              "      <th>41</th>\n",
              "      <td>2019.385388</td>\n",
              "      <td>3.90</td>\n",
              "      <td>2.29</td>\n",
              "      <td>1.21</td>\n",
              "      <td>0</td>\n",
              "      <td>0</td>\n",
              "      <td>0</td>\n",
              "      <td>0</td>\n",
              "      <td>0</td>\n",
              "      <td>0</td>\n",
              "      <td>...</td>\n",
              "      <td>0</td>\n",
              "      <td>0</td>\n",
              "      <td>0</td>\n",
              "      <td>0</td>\n",
              "      <td>0</td>\n",
              "      <td>0</td>\n",
              "      <td>0</td>\n",
              "      <td>0</td>\n",
              "      <td>1</td>\n",
              "      <td>0</td>\n",
              "    </tr>\n",
              "    <tr>\n",
              "      <th>42</th>\n",
              "      <td>2019.441324</td>\n",
              "      <td>3.90</td>\n",
              "      <td>2.29</td>\n",
              "      <td>1.21</td>\n",
              "      <td>0</td>\n",
              "      <td>0</td>\n",
              "      <td>0</td>\n",
              "      <td>0</td>\n",
              "      <td>0</td>\n",
              "      <td>0</td>\n",
              "      <td>...</td>\n",
              "      <td>0</td>\n",
              "      <td>0</td>\n",
              "      <td>0</td>\n",
              "      <td>0</td>\n",
              "      <td>0</td>\n",
              "      <td>0</td>\n",
              "      <td>0</td>\n",
              "      <td>0</td>\n",
              "      <td>1</td>\n",
              "      <td>0</td>\n",
              "    </tr>\n",
              "    <tr>\n",
              "      <th>43</th>\n",
              "      <td>2019.519178</td>\n",
              "      <td>3.90</td>\n",
              "      <td>2.29</td>\n",
              "      <td>1.21</td>\n",
              "      <td>0</td>\n",
              "      <td>0</td>\n",
              "      <td>0</td>\n",
              "      <td>0</td>\n",
              "      <td>0</td>\n",
              "      <td>0</td>\n",
              "      <td>...</td>\n",
              "      <td>0</td>\n",
              "      <td>0</td>\n",
              "      <td>0</td>\n",
              "      <td>0</td>\n",
              "      <td>0</td>\n",
              "      <td>0</td>\n",
              "      <td>0</td>\n",
              "      <td>0</td>\n",
              "      <td>1</td>\n",
              "      <td>0</td>\n",
              "    </tr>\n",
              "    <tr>\n",
              "      <th>44</th>\n",
              "      <td>2019.594292</td>\n",
              "      <td>3.90</td>\n",
              "      <td>2.29</td>\n",
              "      <td>1.21</td>\n",
              "      <td>0</td>\n",
              "      <td>0</td>\n",
              "      <td>0</td>\n",
              "      <td>0</td>\n",
              "      <td>0</td>\n",
              "      <td>0</td>\n",
              "      <td>...</td>\n",
              "      <td>0</td>\n",
              "      <td>0</td>\n",
              "      <td>0</td>\n",
              "      <td>0</td>\n",
              "      <td>0</td>\n",
              "      <td>0</td>\n",
              "      <td>0</td>\n",
              "      <td>0</td>\n",
              "      <td>1</td>\n",
              "      <td>0</td>\n",
              "    </tr>\n",
              "    <tr>\n",
              "      <th>45</th>\n",
              "      <td>2019.597032</td>\n",
              "      <td>3.06</td>\n",
              "      <td>1.95</td>\n",
              "      <td>1.16</td>\n",
              "      <td>0</td>\n",
              "      <td>0</td>\n",
              "      <td>0</td>\n",
              "      <td>0</td>\n",
              "      <td>0</td>\n",
              "      <td>0</td>\n",
              "      <td>...</td>\n",
              "      <td>0</td>\n",
              "      <td>1</td>\n",
              "      <td>1</td>\n",
              "      <td>0</td>\n",
              "      <td>0</td>\n",
              "      <td>0</td>\n",
              "      <td>0</td>\n",
              "      <td>0</td>\n",
              "      <td>0</td>\n",
              "      <td>0</td>\n",
              "    </tr>\n",
              "    <tr>\n",
              "      <th>46</th>\n",
              "      <td>2019.724201</td>\n",
              "      <td>3.06</td>\n",
              "      <td>1.95</td>\n",
              "      <td>1.16</td>\n",
              "      <td>0</td>\n",
              "      <td>0</td>\n",
              "      <td>0</td>\n",
              "      <td>0</td>\n",
              "      <td>0</td>\n",
              "      <td>0</td>\n",
              "      <td>...</td>\n",
              "      <td>0</td>\n",
              "      <td>1</td>\n",
              "      <td>1</td>\n",
              "      <td>0</td>\n",
              "      <td>0</td>\n",
              "      <td>0</td>\n",
              "      <td>0</td>\n",
              "      <td>0</td>\n",
              "      <td>0</td>\n",
              "      <td>0</td>\n",
              "    </tr>\n",
              "    <tr>\n",
              "      <th>47</th>\n",
              "      <td>2019.879909</td>\n",
              "      <td>3.06</td>\n",
              "      <td>1.95</td>\n",
              "      <td>1.16</td>\n",
              "      <td>0</td>\n",
              "      <td>0</td>\n",
              "      <td>0</td>\n",
              "      <td>0</td>\n",
              "      <td>0</td>\n",
              "      <td>0</td>\n",
              "      <td>...</td>\n",
              "      <td>0</td>\n",
              "      <td>1</td>\n",
              "      <td>1</td>\n",
              "      <td>0</td>\n",
              "      <td>0</td>\n",
              "      <td>0</td>\n",
              "      <td>0</td>\n",
              "      <td>0</td>\n",
              "      <td>0</td>\n",
              "      <td>0</td>\n",
              "    </tr>\n",
              "    <tr>\n",
              "      <th>48</th>\n",
              "      <td>2020.113470</td>\n",
              "      <td>3.06</td>\n",
              "      <td>1.95</td>\n",
              "      <td>1.16</td>\n",
              "      <td>0</td>\n",
              "      <td>0</td>\n",
              "      <td>0</td>\n",
              "      <td>0</td>\n",
              "      <td>0</td>\n",
              "      <td>0</td>\n",
              "      <td>...</td>\n",
              "      <td>0</td>\n",
              "      <td>1</td>\n",
              "      <td>1</td>\n",
              "      <td>0</td>\n",
              "      <td>0</td>\n",
              "      <td>0</td>\n",
              "      <td>0</td>\n",
              "      <td>0</td>\n",
              "      <td>0</td>\n",
              "      <td>0</td>\n",
              "    </tr>\n",
              "  </tbody>\n",
              "</table>\n",
              "<p>49 rows × 28 columns</p>\n",
              "</div>"
            ],
            "text/plain": [
              "     Price date  Price per chip-hour (on-demand)  \\\n",
              "0   2018.771918                             1.13   \n",
              "1   2018.777397                             2.00   \n",
              "2   2018.777397                             2.20   \n",
              "3   2019.500000                             2.00   \n",
              "4   2019.573973                             2.00   \n",
              "5   2019.665525                             2.00   \n",
              "6   2019.930365                             2.00   \n",
              "7   2020.919406                             2.00   \n",
              "8   2021.183105                             2.00   \n",
              "9   2021.769178                             2.00   \n",
              "10  2021.877169                             2.00   \n",
              "11  2022.360731                             3.22   \n",
              "12  2022.694064                             3.22   \n",
              "13  2023.416667                             3.22   \n",
              "14  2021.277397                             3.40   \n",
              "15  2021.541096                             3.40   \n",
              "16  2021.616210                             3.40   \n",
              "17  2022.946804                             2.93   \n",
              "18  2021.841553                             4.10   \n",
              "19  2022.065753                             4.10   \n",
              "20  2022.151826                             4.10   \n",
              "21  2022.793836                             4.10   \n",
              "22  2022.938584                             4.10   \n",
              "23  2023.191324                             4.10   \n",
              "24  2022.946804                             3.93   \n",
              "25  2022.632648                             5.12   \n",
              "26  2022.938584                             5.12   \n",
              "27  2022.288356                             4.10   \n",
              "28  2022.412785                             4.10   \n",
              "29  2017.868950                             2.30   \n",
              "30  2017.916667                             1.46   \n",
              "31  2019.651826                             1.46   \n",
              "32  2017.138128                             1.40   \n",
              "33  2017.174886                             1.40   \n",
              "34  2017.393607                             1.40   \n",
              "35  2017.107991                             0.90   \n",
              "36  2017.412785                             0.90   \n",
              "37  2023.938584                             0.90   \n",
              "38  2018.435845                             3.06   \n",
              "39  2019.065753                             3.90   \n",
              "40  2019.260959                             3.90   \n",
              "41  2019.385388                             3.90   \n",
              "42  2019.441324                             3.90   \n",
              "43  2019.519178                             3.90   \n",
              "44  2019.594292                             3.90   \n",
              "45  2019.597032                             3.06   \n",
              "46  2019.724201                             3.06   \n",
              "47  2019.879909                             3.06   \n",
              "48  2020.113470                             3.06   \n",
              "\n",
              "    Price per chip-hour (1-year CUD)  Price per chip-hour (3-year CUD)  \\\n",
              "0                                NaN                               NaN   \n",
              "1                                NaN                               NaN   \n",
              "2                                NaN                               NaN   \n",
              "3                               1.26                              0.90   \n",
              "4                               1.26                              0.90   \n",
              "5                               1.26                              0.90   \n",
              "6                               1.26                              0.90   \n",
              "7                               1.26                              0.90   \n",
              "8                               1.26                              0.90   \n",
              "9                               1.26                              0.90   \n",
              "10                              1.26                              0.90   \n",
              "11                              2.03                              1.45   \n",
              "12                              2.03                              1.45   \n",
              "13                              2.03                              1.45   \n",
              "14                              2.40                              1.44   \n",
              "15                              2.35                              1.36   \n",
              "16                              2.35                              1.36   \n",
              "17                              1.85                              1.03   \n",
              "18                              2.40                              1.45   \n",
              "19                              2.40                              1.45   \n",
              "20                              2.40                              1.45   \n",
              "21                              2.40                              1.45   \n",
              "22                              2.40                              1.45   \n",
              "23                              2.40                              1.45   \n",
              "24                               NaN                               NaN   \n",
              "25                              3.00                              1.81   \n",
              "26                              3.00                              1.81   \n",
              "27                              2.62                              1.80   \n",
              "28                              2.62                              1.80   \n",
              "29                               NaN                               NaN   \n",
              "30                               NaN                               NaN   \n",
              "31                              0.92                              0.66   \n",
              "32                               NaN                               NaN   \n",
              "33                               NaN                               NaN   \n",
              "34                               NaN                               NaN   \n",
              "35                               NaN                              0.43   \n",
              "36                               NaN                              0.43   \n",
              "37                               NaN                              0.43   \n",
              "38                              1.99                              1.23   \n",
              "39                              2.29                              1.21   \n",
              "40                              2.29                              1.21   \n",
              "41                              2.29                              1.21   \n",
              "42                              2.29                              1.21   \n",
              "43                              2.29                              1.21   \n",
              "44                              2.29                              1.21   \n",
              "45                              1.95                              1.16   \n",
              "46                              1.95                              1.16   \n",
              "47                              1.95                              1.16   \n",
              "48                              1.95                              1.16   \n",
              "\n",
              "    Hardware model_Google TPU v2  Hardware model_Google TPU v3  \\\n",
              "0                              1                             0   \n",
              "1                              0                             1   \n",
              "2                              0                             1   \n",
              "3                              0                             1   \n",
              "4                              0                             1   \n",
              "5                              0                             1   \n",
              "6                              0                             1   \n",
              "7                              0                             1   \n",
              "8                              0                             1   \n",
              "9                              0                             1   \n",
              "10                             0                             1   \n",
              "11                             0                             0   \n",
              "12                             0                             0   \n",
              "13                             0                             0   \n",
              "14                             0                             0   \n",
              "15                             0                             0   \n",
              "16                             0                             0   \n",
              "17                             0                             0   \n",
              "18                             0                             0   \n",
              "19                             0                             0   \n",
              "20                             0                             0   \n",
              "21                             0                             0   \n",
              "22                             0                             0   \n",
              "23                             0                             0   \n",
              "24                             0                             0   \n",
              "25                             0                             0   \n",
              "26                             0                             0   \n",
              "27                             0                             0   \n",
              "28                             0                             0   \n",
              "29                             0                             0   \n",
              "30                             0                             0   \n",
              "31                             0                             0   \n",
              "32                             0                             0   \n",
              "33                             0                             0   \n",
              "34                             0                             0   \n",
              "35                             0                             0   \n",
              "36                             0                             0   \n",
              "37                             0                             0   \n",
              "38                             0                             0   \n",
              "39                             0                             0   \n",
              "40                             0                             0   \n",
              "41                             0                             0   \n",
              "42                             0                             0   \n",
              "43                             0                             0   \n",
              "44                             0                             0   \n",
              "45                             0                             0   \n",
              "46                             0                             0   \n",
              "47                             0                             0   \n",
              "48                             0                             0   \n",
              "\n",
              "    Hardware model_Google TPU v4  Hardware model_NVIDIA A100  \\\n",
              "0                              0                           0   \n",
              "1                              0                           0   \n",
              "2                              0                           0   \n",
              "3                              0                           0   \n",
              "4                              0                           0   \n",
              "5                              0                           0   \n",
              "6                              0                           0   \n",
              "7                              0                           0   \n",
              "8                              0                           0   \n",
              "9                              0                           0   \n",
              "10                             0                           0   \n",
              "11                             1                           0   \n",
              "12                             1                           0   \n",
              "13                             1                           0   \n",
              "14                             0                           1   \n",
              "15                             0                           1   \n",
              "16                             0                           1   \n",
              "17                             0                           0   \n",
              "18                             0                           0   \n",
              "19                             0                           0   \n",
              "20                             0                           0   \n",
              "21                             0                           0   \n",
              "22                             0                           0   \n",
              "23                             0                           0   \n",
              "24                             0                           0   \n",
              "25                             0                           0   \n",
              "26                             0                           0   \n",
              "27                             0                           0   \n",
              "28                             0                           0   \n",
              "29                             0                           0   \n",
              "30                             0                           0   \n",
              "31                             0                           0   \n",
              "32                             0                           0   \n",
              "33                             0                           0   \n",
              "34                             0                           0   \n",
              "35                             0                           0   \n",
              "36                             0                           0   \n",
              "37                             0                           0   \n",
              "38                             0                           0   \n",
              "39                             0                           0   \n",
              "40                             0                           0   \n",
              "41                             0                           0   \n",
              "42                             0                           0   \n",
              "43                             0                           0   \n",
              "44                             0                           0   \n",
              "45                             0                           0   \n",
              "46                             0                           0   \n",
              "47                             0                           0   \n",
              "48                             0                           0   \n",
              "\n",
              "    Hardware model_NVIDIA A100 SXM4 40 GB  \\\n",
              "0                                       0   \n",
              "1                                       0   \n",
              "2                                       0   \n",
              "3                                       0   \n",
              "4                                       0   \n",
              "5                                       0   \n",
              "6                                       0   \n",
              "7                                       0   \n",
              "8                                       0   \n",
              "9                                       0   \n",
              "10                                      0   \n",
              "11                                      0   \n",
              "12                                      0   \n",
              "13                                      0   \n",
              "14                                      0   \n",
              "15                                      0   \n",
              "16                                      0   \n",
              "17                                      1   \n",
              "18                                      1   \n",
              "19                                      1   \n",
              "20                                      1   \n",
              "21                                      1   \n",
              "22                                      1   \n",
              "23                                      1   \n",
              "24                                      0   \n",
              "25                                      0   \n",
              "26                                      0   \n",
              "27                                      0   \n",
              "28                                      0   \n",
              "29                                      0   \n",
              "30                                      0   \n",
              "31                                      0   \n",
              "32                                      0   \n",
              "33                                      0   \n",
              "34                                      0   \n",
              "35                                      0   \n",
              "36                                      0   \n",
              "37                                      0   \n",
              "38                                      0   \n",
              "39                                      0   \n",
              "40                                      0   \n",
              "41                                      0   \n",
              "42                                      0   \n",
              "43                                      0   \n",
              "44                                      0   \n",
              "45                                      0   \n",
              "46                                      0   \n",
              "47                                      0   \n",
              "48                                      0   \n",
              "\n",
              "    Hardware model_NVIDIA A100 SXM4 80 GB  ...  Vendor_Google Cloud  \\\n",
              "0                                       0  ...                    1   \n",
              "1                                       0  ...                    1   \n",
              "2                                       0  ...                    1   \n",
              "3                                       0  ...                    1   \n",
              "4                                       0  ...                    1   \n",
              "5                                       0  ...                    1   \n",
              "6                                       0  ...                    1   \n",
              "7                                       0  ...                    1   \n",
              "8                                       0  ...                    1   \n",
              "9                                       0  ...                    1   \n",
              "10                                      0  ...                    1   \n",
              "11                                      0  ...                    1   \n",
              "12                                      0  ...                    1   \n",
              "13                                      0  ...                    1   \n",
              "14                                      0  ...                    0   \n",
              "15                                      0  ...                    0   \n",
              "16                                      0  ...                    0   \n",
              "17                                      0  ...                    1   \n",
              "18                                      0  ...                    0   \n",
              "19                                      0  ...                    0   \n",
              "20                                      0  ...                    0   \n",
              "21                                      0  ...                    0   \n",
              "22                                      0  ...                    0   \n",
              "23                                      0  ...                    0   \n",
              "24                                      1  ...                    1   \n",
              "25                                      1  ...                    0   \n",
              "26                                      1  ...                    0   \n",
              "27                                      1  ...                    0   \n",
              "28                                      1  ...                    0   \n",
              "29                                      0  ...                    1   \n",
              "30                                      0  ...                    1   \n",
              "31                                      0  ...                    1   \n",
              "32                                      0  ...                    1   \n",
              "33                                      0  ...                    1   \n",
              "34                                      0  ...                    1   \n",
              "35                                      0  ...                    0   \n",
              "36                                      0  ...                    0   \n",
              "37                                      0  ...                    0   \n",
              "38                                      0  ...                    0   \n",
              "39                                      0  ...                    0   \n",
              "40                                      0  ...                    0   \n",
              "41                                      0  ...                    0   \n",
              "42                                      0  ...                    0   \n",
              "43                                      0  ...                    0   \n",
              "44                                      0  ...                    0   \n",
              "45                                      0  ...                    0   \n",
              "46                                      0  ...                    0   \n",
              "47                                      0  ...                    0   \n",
              "48                                      0  ...                    0   \n",
              "\n",
              "    Vendor_Microsoft Azure  Location_East US  Location_Europe  \\\n",
              "0                        0                 0                0   \n",
              "1                        0                 0                0   \n",
              "2                        0                 0                1   \n",
              "3                        0                 0                0   \n",
              "4                        0                 0                0   \n",
              "5                        0                 0                0   \n",
              "6                        0                 0                0   \n",
              "7                        0                 0                0   \n",
              "8                        0                 0                0   \n",
              "9                        0                 0                0   \n",
              "10                       0                 0                0   \n",
              "11                       0                 0                0   \n",
              "12                       0                 0                0   \n",
              "13                       0                 0                0   \n",
              "14                       1                 1                0   \n",
              "15                       1                 1                0   \n",
              "16                       1                 1                0   \n",
              "17                       0                 0                0   \n",
              "18                       0                 0                0   \n",
              "19                       0                 0                0   \n",
              "20                       0                 0                0   \n",
              "21                       0                 0                0   \n",
              "22                       0                 0                0   \n",
              "23                       0                 0                0   \n",
              "24                       0                 0                0   \n",
              "25                       0                 0                0   \n",
              "26                       0                 0                0   \n",
              "27                       1                 1                0   \n",
              "28                       1                 1                0   \n",
              "29                       0                 0                0   \n",
              "30                       0                 0                0   \n",
              "31                       0                 0                0   \n",
              "32                       0                 0                0   \n",
              "33                       0                 0                0   \n",
              "34                       0                 0                0   \n",
              "35                       0                 0                0   \n",
              "36                       0                 0                0   \n",
              "37                       0                 0                0   \n",
              "38                       0                 0                0   \n",
              "39                       0                 0                0   \n",
              "40                       0                 0                0   \n",
              "41                       0                 0                0   \n",
              "42                       0                 0                0   \n",
              "43                       0                 0                0   \n",
              "44                       0                 0                0   \n",
              "45                       1                 1                0   \n",
              "46                       1                 1                0   \n",
              "47                       1                 1                0   \n",
              "48                       1                 1                0   \n",
              "\n",
              "    Location_Iowa (us-central1)  Location_Netherlands (europe-west4)  \\\n",
              "0                             0                                    0   \n",
              "1                             0                                    0   \n",
              "2                             0                                    0   \n",
              "3                             1                                    0   \n",
              "4                             0                                    1   \n",
              "5                             0                                    1   \n",
              "6                             1                                    0   \n",
              "7                             1                                    0   \n",
              "8                             1                                    0   \n",
              "9                             1                                    0   \n",
              "10                            1                                    0   \n",
              "11                            0                                    0   \n",
              "12                            0                                    0   \n",
              "13                            0                                    0   \n",
              "14                            0                                    0   \n",
              "15                            0                                    0   \n",
              "16                            0                                    0   \n",
              "17                            1                                    0   \n",
              "18                            0                                    0   \n",
              "19                            0                                    0   \n",
              "20                            0                                    0   \n",
              "21                            0                                    0   \n",
              "22                            0                                    0   \n",
              "23                            0                                    0   \n",
              "24                            1                                    0   \n",
              "25                            0                                    0   \n",
              "26                            0                                    0   \n",
              "27                            0                                    0   \n",
              "28                            0                                    0   \n",
              "29                            0                                    0   \n",
              "30                            0                                    0   \n",
              "31                            1                                    0   \n",
              "32                            0                                    0   \n",
              "33                            0                                    0   \n",
              "34                            0                                    0   \n",
              "35                            0                                    0   \n",
              "36                            0                                    0   \n",
              "37                            0                                    0   \n",
              "38                            0                                    0   \n",
              "39                            0                                    0   \n",
              "40                            0                                    0   \n",
              "41                            0                                    0   \n",
              "42                            0                                    0   \n",
              "43                            0                                    0   \n",
              "44                            0                                    0   \n",
              "45                            0                                    0   \n",
              "46                            0                                    0   \n",
              "47                            0                                    0   \n",
              "48                            0                                    0   \n",
              "\n",
              "    Location_Oregon  Location_US  Location_US East (Northern Virginia)  \\\n",
              "0                 0            1                                     0   \n",
              "1                 0            1                                     0   \n",
              "2                 0            0                                     0   \n",
              "3                 0            0                                     0   \n",
              "4                 0            0                                     0   \n",
              "5                 0            0                                     0   \n",
              "6                 0            0                                     0   \n",
              "7                 0            0                                     0   \n",
              "8                 0            0                                     0   \n",
              "9                 0            0                                     0   \n",
              "10                0            0                                     0   \n",
              "11                0            0                                     0   \n",
              "12                0            0                                     0   \n",
              "13                0            0                                     0   \n",
              "14                0            0                                     0   \n",
              "15                0            0                                     0   \n",
              "16                0            0                                     0   \n",
              "17                0            0                                     0   \n",
              "18                0            0                                     1   \n",
              "19                0            0                                     1   \n",
              "20                0            0                                     1   \n",
              "21                0            0                                     1   \n",
              "22                0            0                                     1   \n",
              "23                0            0                                     1   \n",
              "24                0            0                                     0   \n",
              "25                0            0                                     1   \n",
              "26                0            0                                     1   \n",
              "27                0            0                                     0   \n",
              "28                0            0                                     0   \n",
              "29                1            0                                     0   \n",
              "30                1            0                                     0   \n",
              "31                0            0                                     0   \n",
              "32                0            1                                     0   \n",
              "33                0            1                                     0   \n",
              "34                1            0                                     0   \n",
              "35                0            0                                     1   \n",
              "36                0            0                                     1   \n",
              "37                0            0                                     1   \n",
              "38                0            0                                     1   \n",
              "39                0            0                                     1   \n",
              "40                0            0                                     1   \n",
              "41                0            0                                     1   \n",
              "42                0            0                                     1   \n",
              "43                0            0                                     1   \n",
              "44                0            0                                     1   \n",
              "45                0            0                                     0   \n",
              "46                0            0                                     0   \n",
              "47                0            0                                     0   \n",
              "48                0            0                                     0   \n",
              "\n",
              "    Location_us-central2-b  \n",
              "0                        0  \n",
              "1                        0  \n",
              "2                        0  \n",
              "3                        0  \n",
              "4                        0  \n",
              "5                        0  \n",
              "6                        0  \n",
              "7                        0  \n",
              "8                        0  \n",
              "9                        0  \n",
              "10                       0  \n",
              "11                       1  \n",
              "12                       1  \n",
              "13                       1  \n",
              "14                       0  \n",
              "15                       0  \n",
              "16                       0  \n",
              "17                       0  \n",
              "18                       0  \n",
              "19                       0  \n",
              "20                       0  \n",
              "21                       0  \n",
              "22                       0  \n",
              "23                       0  \n",
              "24                       0  \n",
              "25                       0  \n",
              "26                       0  \n",
              "27                       0  \n",
              "28                       0  \n",
              "29                       0  \n",
              "30                       0  \n",
              "31                       0  \n",
              "32                       0  \n",
              "33                       0  \n",
              "34                       0  \n",
              "35                       0  \n",
              "36                       0  \n",
              "37                       0  \n",
              "38                       0  \n",
              "39                       0  \n",
              "40                       0  \n",
              "41                       0  \n",
              "42                       0  \n",
              "43                       0  \n",
              "44                       0  \n",
              "45                       0  \n",
              "46                       0  \n",
              "47                       0  \n",
              "48                       0  \n",
              "\n",
              "[49 rows x 28 columns]"
            ]
          },
          "execution_count": 167,
          "metadata": {},
          "output_type": "execute_result"
        }
      ],
      "source": [
        "one_hot_price_df"
      ]
    },
    {
      "cell_type": "code",
      "execution_count": 168,
      "metadata": {},
      "outputs": [
        {
          "data": {
            "text/plain": [
              "['Hardware model', 'Manufacturer (from Hardware model)', 'Vendor', 'Location']"
            ]
          },
          "execution_count": 168,
          "metadata": {},
          "output_type": "execute_result"
        }
      ],
      "source": [
        "categorical_cols"
      ]
    },
    {
      "cell_type": "code",
      "execution_count": 169,
      "metadata": {},
      "outputs": [],
      "source": [
        "# impute the missing values in Training hardware, hardware quantity, Training time (hours)\n",
        "imputed = imputer.fit_transform(one_hot_price_df)"
      ]
    },
    {
      "cell_type": "code",
      "execution_count": 170,
      "metadata": {},
      "outputs": [],
      "source": [
        "# convert the numpy array back to a dataframe\n",
        "imputed_price_df = pd.DataFrame(imputed, columns=one_hot_price_df.columns)"
      ]
    },
    {
      "cell_type": "code",
      "execution_count": 171,
      "metadata": {},
      "outputs": [
        {
          "data": {
            "text/html": [
              "<div>\n",
              "<style scoped>\n",
              "    .dataframe tbody tr th:only-of-type {\n",
              "        vertical-align: middle;\n",
              "    }\n",
              "\n",
              "    .dataframe tbody tr th {\n",
              "        vertical-align: top;\n",
              "    }\n",
              "\n",
              "    .dataframe thead th {\n",
              "        text-align: right;\n",
              "    }\n",
              "</style>\n",
              "<table border=\"1\" class=\"dataframe\">\n",
              "  <thead>\n",
              "    <tr style=\"text-align: right;\">\n",
              "      <th></th>\n",
              "      <th>Price date</th>\n",
              "      <th>Price per chip-hour (on-demand)</th>\n",
              "      <th>Price per chip-hour (1-year CUD)</th>\n",
              "      <th>Price per chip-hour (3-year CUD)</th>\n",
              "      <th>Hardware model_Google TPU v2</th>\n",
              "      <th>Hardware model_Google TPU v3</th>\n",
              "      <th>Hardware model_Google TPU v4</th>\n",
              "      <th>Hardware model_NVIDIA A100</th>\n",
              "      <th>Hardware model_NVIDIA A100 SXM4 40 GB</th>\n",
              "      <th>Hardware model_NVIDIA A100 SXM4 80 GB</th>\n",
              "      <th>...</th>\n",
              "      <th>Vendor_Google Cloud</th>\n",
              "      <th>Vendor_Microsoft Azure</th>\n",
              "      <th>Location_East US</th>\n",
              "      <th>Location_Europe</th>\n",
              "      <th>Location_Iowa (us-central1)</th>\n",
              "      <th>Location_Netherlands (europe-west4)</th>\n",
              "      <th>Location_Oregon</th>\n",
              "      <th>Location_US</th>\n",
              "      <th>Location_US East (Northern Virginia)</th>\n",
              "      <th>Location_us-central2-b</th>\n",
              "    </tr>\n",
              "  </thead>\n",
              "  <tbody>\n",
              "    <tr>\n",
              "      <th>0</th>\n",
              "      <td>2018.771918</td>\n",
              "      <td>1.13</td>\n",
              "      <td>1.26</td>\n",
              "      <td>0.90</td>\n",
              "      <td>1.0</td>\n",
              "      <td>0.0</td>\n",
              "      <td>0.0</td>\n",
              "      <td>0.0</td>\n",
              "      <td>0.0</td>\n",
              "      <td>0.0</td>\n",
              "      <td>...</td>\n",
              "      <td>1.0</td>\n",
              "      <td>0.0</td>\n",
              "      <td>0.0</td>\n",
              "      <td>0.0</td>\n",
              "      <td>0.0</td>\n",
              "      <td>0.0</td>\n",
              "      <td>0.0</td>\n",
              "      <td>1.0</td>\n",
              "      <td>0.0</td>\n",
              "      <td>0.0</td>\n",
              "    </tr>\n",
              "    <tr>\n",
              "      <th>1</th>\n",
              "      <td>2018.777397</td>\n",
              "      <td>2.00</td>\n",
              "      <td>1.26</td>\n",
              "      <td>0.90</td>\n",
              "      <td>0.0</td>\n",
              "      <td>1.0</td>\n",
              "      <td>0.0</td>\n",
              "      <td>0.0</td>\n",
              "      <td>0.0</td>\n",
              "      <td>0.0</td>\n",
              "      <td>...</td>\n",
              "      <td>1.0</td>\n",
              "      <td>0.0</td>\n",
              "      <td>0.0</td>\n",
              "      <td>0.0</td>\n",
              "      <td>0.0</td>\n",
              "      <td>0.0</td>\n",
              "      <td>0.0</td>\n",
              "      <td>1.0</td>\n",
              "      <td>0.0</td>\n",
              "      <td>0.0</td>\n",
              "    </tr>\n",
              "    <tr>\n",
              "      <th>2</th>\n",
              "      <td>2018.777397</td>\n",
              "      <td>2.20</td>\n",
              "      <td>1.26</td>\n",
              "      <td>0.90</td>\n",
              "      <td>0.0</td>\n",
              "      <td>1.0</td>\n",
              "      <td>0.0</td>\n",
              "      <td>0.0</td>\n",
              "      <td>0.0</td>\n",
              "      <td>0.0</td>\n",
              "      <td>...</td>\n",
              "      <td>1.0</td>\n",
              "      <td>0.0</td>\n",
              "      <td>0.0</td>\n",
              "      <td>1.0</td>\n",
              "      <td>0.0</td>\n",
              "      <td>0.0</td>\n",
              "      <td>0.0</td>\n",
              "      <td>0.0</td>\n",
              "      <td>0.0</td>\n",
              "      <td>0.0</td>\n",
              "    </tr>\n",
              "    <tr>\n",
              "      <th>3</th>\n",
              "      <td>2019.500000</td>\n",
              "      <td>2.00</td>\n",
              "      <td>1.26</td>\n",
              "      <td>0.90</td>\n",
              "      <td>0.0</td>\n",
              "      <td>1.0</td>\n",
              "      <td>0.0</td>\n",
              "      <td>0.0</td>\n",
              "      <td>0.0</td>\n",
              "      <td>0.0</td>\n",
              "      <td>...</td>\n",
              "      <td>1.0</td>\n",
              "      <td>0.0</td>\n",
              "      <td>0.0</td>\n",
              "      <td>0.0</td>\n",
              "      <td>1.0</td>\n",
              "      <td>0.0</td>\n",
              "      <td>0.0</td>\n",
              "      <td>0.0</td>\n",
              "      <td>0.0</td>\n",
              "      <td>0.0</td>\n",
              "    </tr>\n",
              "    <tr>\n",
              "      <th>4</th>\n",
              "      <td>2019.573973</td>\n",
              "      <td>2.00</td>\n",
              "      <td>1.26</td>\n",
              "      <td>0.90</td>\n",
              "      <td>0.0</td>\n",
              "      <td>1.0</td>\n",
              "      <td>0.0</td>\n",
              "      <td>0.0</td>\n",
              "      <td>0.0</td>\n",
              "      <td>0.0</td>\n",
              "      <td>...</td>\n",
              "      <td>1.0</td>\n",
              "      <td>0.0</td>\n",
              "      <td>0.0</td>\n",
              "      <td>0.0</td>\n",
              "      <td>0.0</td>\n",
              "      <td>1.0</td>\n",
              "      <td>0.0</td>\n",
              "      <td>0.0</td>\n",
              "      <td>0.0</td>\n",
              "      <td>0.0</td>\n",
              "    </tr>\n",
              "    <tr>\n",
              "      <th>5</th>\n",
              "      <td>2019.665525</td>\n",
              "      <td>2.00</td>\n",
              "      <td>1.26</td>\n",
              "      <td>0.90</td>\n",
              "      <td>0.0</td>\n",
              "      <td>1.0</td>\n",
              "      <td>0.0</td>\n",
              "      <td>0.0</td>\n",
              "      <td>0.0</td>\n",
              "      <td>0.0</td>\n",
              "      <td>...</td>\n",
              "      <td>1.0</td>\n",
              "      <td>0.0</td>\n",
              "      <td>0.0</td>\n",
              "      <td>0.0</td>\n",
              "      <td>0.0</td>\n",
              "      <td>1.0</td>\n",
              "      <td>0.0</td>\n",
              "      <td>0.0</td>\n",
              "      <td>0.0</td>\n",
              "      <td>0.0</td>\n",
              "    </tr>\n",
              "    <tr>\n",
              "      <th>6</th>\n",
              "      <td>2019.930365</td>\n",
              "      <td>2.00</td>\n",
              "      <td>1.26</td>\n",
              "      <td>0.90</td>\n",
              "      <td>0.0</td>\n",
              "      <td>1.0</td>\n",
              "      <td>0.0</td>\n",
              "      <td>0.0</td>\n",
              "      <td>0.0</td>\n",
              "      <td>0.0</td>\n",
              "      <td>...</td>\n",
              "      <td>1.0</td>\n",
              "      <td>0.0</td>\n",
              "      <td>0.0</td>\n",
              "      <td>0.0</td>\n",
              "      <td>1.0</td>\n",
              "      <td>0.0</td>\n",
              "      <td>0.0</td>\n",
              "      <td>0.0</td>\n",
              "      <td>0.0</td>\n",
              "      <td>0.0</td>\n",
              "    </tr>\n",
              "    <tr>\n",
              "      <th>7</th>\n",
              "      <td>2020.919406</td>\n",
              "      <td>2.00</td>\n",
              "      <td>1.26</td>\n",
              "      <td>0.90</td>\n",
              "      <td>0.0</td>\n",
              "      <td>1.0</td>\n",
              "      <td>0.0</td>\n",
              "      <td>0.0</td>\n",
              "      <td>0.0</td>\n",
              "      <td>0.0</td>\n",
              "      <td>...</td>\n",
              "      <td>1.0</td>\n",
              "      <td>0.0</td>\n",
              "      <td>0.0</td>\n",
              "      <td>0.0</td>\n",
              "      <td>1.0</td>\n",
              "      <td>0.0</td>\n",
              "      <td>0.0</td>\n",
              "      <td>0.0</td>\n",
              "      <td>0.0</td>\n",
              "      <td>0.0</td>\n",
              "    </tr>\n",
              "    <tr>\n",
              "      <th>8</th>\n",
              "      <td>2021.183105</td>\n",
              "      <td>2.00</td>\n",
              "      <td>1.26</td>\n",
              "      <td>0.90</td>\n",
              "      <td>0.0</td>\n",
              "      <td>1.0</td>\n",
              "      <td>0.0</td>\n",
              "      <td>0.0</td>\n",
              "      <td>0.0</td>\n",
              "      <td>0.0</td>\n",
              "      <td>...</td>\n",
              "      <td>1.0</td>\n",
              "      <td>0.0</td>\n",
              "      <td>0.0</td>\n",
              "      <td>0.0</td>\n",
              "      <td>1.0</td>\n",
              "      <td>0.0</td>\n",
              "      <td>0.0</td>\n",
              "      <td>0.0</td>\n",
              "      <td>0.0</td>\n",
              "      <td>0.0</td>\n",
              "    </tr>\n",
              "    <tr>\n",
              "      <th>9</th>\n",
              "      <td>2021.769178</td>\n",
              "      <td>2.00</td>\n",
              "      <td>1.26</td>\n",
              "      <td>0.90</td>\n",
              "      <td>0.0</td>\n",
              "      <td>1.0</td>\n",
              "      <td>0.0</td>\n",
              "      <td>0.0</td>\n",
              "      <td>0.0</td>\n",
              "      <td>0.0</td>\n",
              "      <td>...</td>\n",
              "      <td>1.0</td>\n",
              "      <td>0.0</td>\n",
              "      <td>0.0</td>\n",
              "      <td>0.0</td>\n",
              "      <td>1.0</td>\n",
              "      <td>0.0</td>\n",
              "      <td>0.0</td>\n",
              "      <td>0.0</td>\n",
              "      <td>0.0</td>\n",
              "      <td>0.0</td>\n",
              "    </tr>\n",
              "    <tr>\n",
              "      <th>10</th>\n",
              "      <td>2021.877169</td>\n",
              "      <td>2.00</td>\n",
              "      <td>1.26</td>\n",
              "      <td>0.90</td>\n",
              "      <td>0.0</td>\n",
              "      <td>1.0</td>\n",
              "      <td>0.0</td>\n",
              "      <td>0.0</td>\n",
              "      <td>0.0</td>\n",
              "      <td>0.0</td>\n",
              "      <td>...</td>\n",
              "      <td>1.0</td>\n",
              "      <td>0.0</td>\n",
              "      <td>0.0</td>\n",
              "      <td>0.0</td>\n",
              "      <td>1.0</td>\n",
              "      <td>0.0</td>\n",
              "      <td>0.0</td>\n",
              "      <td>0.0</td>\n",
              "      <td>0.0</td>\n",
              "      <td>0.0</td>\n",
              "    </tr>\n",
              "    <tr>\n",
              "      <th>11</th>\n",
              "      <td>2022.360731</td>\n",
              "      <td>3.22</td>\n",
              "      <td>2.03</td>\n",
              "      <td>1.45</td>\n",
              "      <td>0.0</td>\n",
              "      <td>0.0</td>\n",
              "      <td>1.0</td>\n",
              "      <td>0.0</td>\n",
              "      <td>0.0</td>\n",
              "      <td>0.0</td>\n",
              "      <td>...</td>\n",
              "      <td>1.0</td>\n",
              "      <td>0.0</td>\n",
              "      <td>0.0</td>\n",
              "      <td>0.0</td>\n",
              "      <td>0.0</td>\n",
              "      <td>0.0</td>\n",
              "      <td>0.0</td>\n",
              "      <td>0.0</td>\n",
              "      <td>0.0</td>\n",
              "      <td>1.0</td>\n",
              "    </tr>\n",
              "    <tr>\n",
              "      <th>12</th>\n",
              "      <td>2022.694064</td>\n",
              "      <td>3.22</td>\n",
              "      <td>2.03</td>\n",
              "      <td>1.45</td>\n",
              "      <td>0.0</td>\n",
              "      <td>0.0</td>\n",
              "      <td>1.0</td>\n",
              "      <td>0.0</td>\n",
              "      <td>0.0</td>\n",
              "      <td>0.0</td>\n",
              "      <td>...</td>\n",
              "      <td>1.0</td>\n",
              "      <td>0.0</td>\n",
              "      <td>0.0</td>\n",
              "      <td>0.0</td>\n",
              "      <td>0.0</td>\n",
              "      <td>0.0</td>\n",
              "      <td>0.0</td>\n",
              "      <td>0.0</td>\n",
              "      <td>0.0</td>\n",
              "      <td>1.0</td>\n",
              "    </tr>\n",
              "    <tr>\n",
              "      <th>13</th>\n",
              "      <td>2023.416667</td>\n",
              "      <td>3.22</td>\n",
              "      <td>2.03</td>\n",
              "      <td>1.45</td>\n",
              "      <td>0.0</td>\n",
              "      <td>0.0</td>\n",
              "      <td>1.0</td>\n",
              "      <td>0.0</td>\n",
              "      <td>0.0</td>\n",
              "      <td>0.0</td>\n",
              "      <td>...</td>\n",
              "      <td>1.0</td>\n",
              "      <td>0.0</td>\n",
              "      <td>0.0</td>\n",
              "      <td>0.0</td>\n",
              "      <td>0.0</td>\n",
              "      <td>0.0</td>\n",
              "      <td>0.0</td>\n",
              "      <td>0.0</td>\n",
              "      <td>0.0</td>\n",
              "      <td>1.0</td>\n",
              "    </tr>\n",
              "    <tr>\n",
              "      <th>14</th>\n",
              "      <td>2021.277397</td>\n",
              "      <td>3.40</td>\n",
              "      <td>2.40</td>\n",
              "      <td>1.44</td>\n",
              "      <td>0.0</td>\n",
              "      <td>0.0</td>\n",
              "      <td>0.0</td>\n",
              "      <td>1.0</td>\n",
              "      <td>0.0</td>\n",
              "      <td>0.0</td>\n",
              "      <td>...</td>\n",
              "      <td>0.0</td>\n",
              "      <td>1.0</td>\n",
              "      <td>1.0</td>\n",
              "      <td>0.0</td>\n",
              "      <td>0.0</td>\n",
              "      <td>0.0</td>\n",
              "      <td>0.0</td>\n",
              "      <td>0.0</td>\n",
              "      <td>0.0</td>\n",
              "      <td>0.0</td>\n",
              "    </tr>\n",
              "    <tr>\n",
              "      <th>15</th>\n",
              "      <td>2021.541096</td>\n",
              "      <td>3.40</td>\n",
              "      <td>2.35</td>\n",
              "      <td>1.36</td>\n",
              "      <td>0.0</td>\n",
              "      <td>0.0</td>\n",
              "      <td>0.0</td>\n",
              "      <td>1.0</td>\n",
              "      <td>0.0</td>\n",
              "      <td>0.0</td>\n",
              "      <td>...</td>\n",
              "      <td>0.0</td>\n",
              "      <td>1.0</td>\n",
              "      <td>1.0</td>\n",
              "      <td>0.0</td>\n",
              "      <td>0.0</td>\n",
              "      <td>0.0</td>\n",
              "      <td>0.0</td>\n",
              "      <td>0.0</td>\n",
              "      <td>0.0</td>\n",
              "      <td>0.0</td>\n",
              "    </tr>\n",
              "    <tr>\n",
              "      <th>16</th>\n",
              "      <td>2021.616210</td>\n",
              "      <td>3.40</td>\n",
              "      <td>2.35</td>\n",
              "      <td>1.36</td>\n",
              "      <td>0.0</td>\n",
              "      <td>0.0</td>\n",
              "      <td>0.0</td>\n",
              "      <td>1.0</td>\n",
              "      <td>0.0</td>\n",
              "      <td>0.0</td>\n",
              "      <td>...</td>\n",
              "      <td>0.0</td>\n",
              "      <td>1.0</td>\n",
              "      <td>1.0</td>\n",
              "      <td>0.0</td>\n",
              "      <td>0.0</td>\n",
              "      <td>0.0</td>\n",
              "      <td>0.0</td>\n",
              "      <td>0.0</td>\n",
              "      <td>0.0</td>\n",
              "      <td>0.0</td>\n",
              "    </tr>\n",
              "    <tr>\n",
              "      <th>17</th>\n",
              "      <td>2022.946804</td>\n",
              "      <td>2.93</td>\n",
              "      <td>1.85</td>\n",
              "      <td>1.03</td>\n",
              "      <td>0.0</td>\n",
              "      <td>0.0</td>\n",
              "      <td>0.0</td>\n",
              "      <td>0.0</td>\n",
              "      <td>1.0</td>\n",
              "      <td>0.0</td>\n",
              "      <td>...</td>\n",
              "      <td>1.0</td>\n",
              "      <td>0.0</td>\n",
              "      <td>0.0</td>\n",
              "      <td>0.0</td>\n",
              "      <td>1.0</td>\n",
              "      <td>0.0</td>\n",
              "      <td>0.0</td>\n",
              "      <td>0.0</td>\n",
              "      <td>0.0</td>\n",
              "      <td>0.0</td>\n",
              "    </tr>\n",
              "    <tr>\n",
              "      <th>18</th>\n",
              "      <td>2021.841553</td>\n",
              "      <td>4.10</td>\n",
              "      <td>2.40</td>\n",
              "      <td>1.45</td>\n",
              "      <td>0.0</td>\n",
              "      <td>0.0</td>\n",
              "      <td>0.0</td>\n",
              "      <td>0.0</td>\n",
              "      <td>1.0</td>\n",
              "      <td>0.0</td>\n",
              "      <td>...</td>\n",
              "      <td>0.0</td>\n",
              "      <td>0.0</td>\n",
              "      <td>0.0</td>\n",
              "      <td>0.0</td>\n",
              "      <td>0.0</td>\n",
              "      <td>0.0</td>\n",
              "      <td>0.0</td>\n",
              "      <td>0.0</td>\n",
              "      <td>1.0</td>\n",
              "      <td>0.0</td>\n",
              "    </tr>\n",
              "    <tr>\n",
              "      <th>19</th>\n",
              "      <td>2022.065753</td>\n",
              "      <td>4.10</td>\n",
              "      <td>2.40</td>\n",
              "      <td>1.45</td>\n",
              "      <td>0.0</td>\n",
              "      <td>0.0</td>\n",
              "      <td>0.0</td>\n",
              "      <td>0.0</td>\n",
              "      <td>1.0</td>\n",
              "      <td>0.0</td>\n",
              "      <td>...</td>\n",
              "      <td>0.0</td>\n",
              "      <td>0.0</td>\n",
              "      <td>0.0</td>\n",
              "      <td>0.0</td>\n",
              "      <td>0.0</td>\n",
              "      <td>0.0</td>\n",
              "      <td>0.0</td>\n",
              "      <td>0.0</td>\n",
              "      <td>1.0</td>\n",
              "      <td>0.0</td>\n",
              "    </tr>\n",
              "    <tr>\n",
              "      <th>20</th>\n",
              "      <td>2022.151826</td>\n",
              "      <td>4.10</td>\n",
              "      <td>2.40</td>\n",
              "      <td>1.45</td>\n",
              "      <td>0.0</td>\n",
              "      <td>0.0</td>\n",
              "      <td>0.0</td>\n",
              "      <td>0.0</td>\n",
              "      <td>1.0</td>\n",
              "      <td>0.0</td>\n",
              "      <td>...</td>\n",
              "      <td>0.0</td>\n",
              "      <td>0.0</td>\n",
              "      <td>0.0</td>\n",
              "      <td>0.0</td>\n",
              "      <td>0.0</td>\n",
              "      <td>0.0</td>\n",
              "      <td>0.0</td>\n",
              "      <td>0.0</td>\n",
              "      <td>1.0</td>\n",
              "      <td>0.0</td>\n",
              "    </tr>\n",
              "    <tr>\n",
              "      <th>21</th>\n",
              "      <td>2022.793836</td>\n",
              "      <td>4.10</td>\n",
              "      <td>2.40</td>\n",
              "      <td>1.45</td>\n",
              "      <td>0.0</td>\n",
              "      <td>0.0</td>\n",
              "      <td>0.0</td>\n",
              "      <td>0.0</td>\n",
              "      <td>1.0</td>\n",
              "      <td>0.0</td>\n",
              "      <td>...</td>\n",
              "      <td>0.0</td>\n",
              "      <td>0.0</td>\n",
              "      <td>0.0</td>\n",
              "      <td>0.0</td>\n",
              "      <td>0.0</td>\n",
              "      <td>0.0</td>\n",
              "      <td>0.0</td>\n",
              "      <td>0.0</td>\n",
              "      <td>1.0</td>\n",
              "      <td>0.0</td>\n",
              "    </tr>\n",
              "    <tr>\n",
              "      <th>22</th>\n",
              "      <td>2022.938584</td>\n",
              "      <td>4.10</td>\n",
              "      <td>2.40</td>\n",
              "      <td>1.45</td>\n",
              "      <td>0.0</td>\n",
              "      <td>0.0</td>\n",
              "      <td>0.0</td>\n",
              "      <td>0.0</td>\n",
              "      <td>1.0</td>\n",
              "      <td>0.0</td>\n",
              "      <td>...</td>\n",
              "      <td>0.0</td>\n",
              "      <td>0.0</td>\n",
              "      <td>0.0</td>\n",
              "      <td>0.0</td>\n",
              "      <td>0.0</td>\n",
              "      <td>0.0</td>\n",
              "      <td>0.0</td>\n",
              "      <td>0.0</td>\n",
              "      <td>1.0</td>\n",
              "      <td>0.0</td>\n",
              "    </tr>\n",
              "    <tr>\n",
              "      <th>23</th>\n",
              "      <td>2023.191324</td>\n",
              "      <td>4.10</td>\n",
              "      <td>2.40</td>\n",
              "      <td>1.45</td>\n",
              "      <td>0.0</td>\n",
              "      <td>0.0</td>\n",
              "      <td>0.0</td>\n",
              "      <td>0.0</td>\n",
              "      <td>1.0</td>\n",
              "      <td>0.0</td>\n",
              "      <td>...</td>\n",
              "      <td>0.0</td>\n",
              "      <td>0.0</td>\n",
              "      <td>0.0</td>\n",
              "      <td>0.0</td>\n",
              "      <td>0.0</td>\n",
              "      <td>0.0</td>\n",
              "      <td>0.0</td>\n",
              "      <td>0.0</td>\n",
              "      <td>1.0</td>\n",
              "      <td>0.0</td>\n",
              "    </tr>\n",
              "    <tr>\n",
              "      <th>24</th>\n",
              "      <td>2022.946804</td>\n",
              "      <td>3.93</td>\n",
              "      <td>1.85</td>\n",
              "      <td>1.03</td>\n",
              "      <td>0.0</td>\n",
              "      <td>0.0</td>\n",
              "      <td>0.0</td>\n",
              "      <td>0.0</td>\n",
              "      <td>0.0</td>\n",
              "      <td>1.0</td>\n",
              "      <td>...</td>\n",
              "      <td>1.0</td>\n",
              "      <td>0.0</td>\n",
              "      <td>0.0</td>\n",
              "      <td>0.0</td>\n",
              "      <td>1.0</td>\n",
              "      <td>0.0</td>\n",
              "      <td>0.0</td>\n",
              "      <td>0.0</td>\n",
              "      <td>0.0</td>\n",
              "      <td>0.0</td>\n",
              "    </tr>\n",
              "    <tr>\n",
              "      <th>25</th>\n",
              "      <td>2022.632648</td>\n",
              "      <td>5.12</td>\n",
              "      <td>3.00</td>\n",
              "      <td>1.81</td>\n",
              "      <td>0.0</td>\n",
              "      <td>0.0</td>\n",
              "      <td>0.0</td>\n",
              "      <td>0.0</td>\n",
              "      <td>0.0</td>\n",
              "      <td>1.0</td>\n",
              "      <td>...</td>\n",
              "      <td>0.0</td>\n",
              "      <td>0.0</td>\n",
              "      <td>0.0</td>\n",
              "      <td>0.0</td>\n",
              "      <td>0.0</td>\n",
              "      <td>0.0</td>\n",
              "      <td>0.0</td>\n",
              "      <td>0.0</td>\n",
              "      <td>1.0</td>\n",
              "      <td>0.0</td>\n",
              "    </tr>\n",
              "    <tr>\n",
              "      <th>26</th>\n",
              "      <td>2022.938584</td>\n",
              "      <td>5.12</td>\n",
              "      <td>3.00</td>\n",
              "      <td>1.81</td>\n",
              "      <td>0.0</td>\n",
              "      <td>0.0</td>\n",
              "      <td>0.0</td>\n",
              "      <td>0.0</td>\n",
              "      <td>0.0</td>\n",
              "      <td>1.0</td>\n",
              "      <td>...</td>\n",
              "      <td>0.0</td>\n",
              "      <td>0.0</td>\n",
              "      <td>0.0</td>\n",
              "      <td>0.0</td>\n",
              "      <td>0.0</td>\n",
              "      <td>0.0</td>\n",
              "      <td>0.0</td>\n",
              "      <td>0.0</td>\n",
              "      <td>1.0</td>\n",
              "      <td>0.0</td>\n",
              "    </tr>\n",
              "    <tr>\n",
              "      <th>27</th>\n",
              "      <td>2022.288356</td>\n",
              "      <td>4.10</td>\n",
              "      <td>2.62</td>\n",
              "      <td>1.80</td>\n",
              "      <td>0.0</td>\n",
              "      <td>0.0</td>\n",
              "      <td>0.0</td>\n",
              "      <td>0.0</td>\n",
              "      <td>0.0</td>\n",
              "      <td>1.0</td>\n",
              "      <td>...</td>\n",
              "      <td>0.0</td>\n",
              "      <td>1.0</td>\n",
              "      <td>1.0</td>\n",
              "      <td>0.0</td>\n",
              "      <td>0.0</td>\n",
              "      <td>0.0</td>\n",
              "      <td>0.0</td>\n",
              "      <td>0.0</td>\n",
              "      <td>0.0</td>\n",
              "      <td>0.0</td>\n",
              "    </tr>\n",
              "    <tr>\n",
              "      <th>28</th>\n",
              "      <td>2022.412785</td>\n",
              "      <td>4.10</td>\n",
              "      <td>2.62</td>\n",
              "      <td>1.80</td>\n",
              "      <td>0.0</td>\n",
              "      <td>0.0</td>\n",
              "      <td>0.0</td>\n",
              "      <td>0.0</td>\n",
              "      <td>0.0</td>\n",
              "      <td>1.0</td>\n",
              "      <td>...</td>\n",
              "      <td>0.0</td>\n",
              "      <td>1.0</td>\n",
              "      <td>1.0</td>\n",
              "      <td>0.0</td>\n",
              "      <td>0.0</td>\n",
              "      <td>0.0</td>\n",
              "      <td>0.0</td>\n",
              "      <td>0.0</td>\n",
              "      <td>0.0</td>\n",
              "      <td>0.0</td>\n",
              "    </tr>\n",
              "    <tr>\n",
              "      <th>29</th>\n",
              "      <td>2017.868950</td>\n",
              "      <td>2.30</td>\n",
              "      <td>0.92</td>\n",
              "      <td>0.66</td>\n",
              "      <td>0.0</td>\n",
              "      <td>0.0</td>\n",
              "      <td>0.0</td>\n",
              "      <td>0.0</td>\n",
              "      <td>0.0</td>\n",
              "      <td>0.0</td>\n",
              "      <td>...</td>\n",
              "      <td>1.0</td>\n",
              "      <td>0.0</td>\n",
              "      <td>0.0</td>\n",
              "      <td>0.0</td>\n",
              "      <td>0.0</td>\n",
              "      <td>0.0</td>\n",
              "      <td>1.0</td>\n",
              "      <td>0.0</td>\n",
              "      <td>0.0</td>\n",
              "      <td>0.0</td>\n",
              "    </tr>\n",
              "    <tr>\n",
              "      <th>30</th>\n",
              "      <td>2017.916667</td>\n",
              "      <td>1.46</td>\n",
              "      <td>0.92</td>\n",
              "      <td>0.66</td>\n",
              "      <td>0.0</td>\n",
              "      <td>0.0</td>\n",
              "      <td>0.0</td>\n",
              "      <td>0.0</td>\n",
              "      <td>0.0</td>\n",
              "      <td>0.0</td>\n",
              "      <td>...</td>\n",
              "      <td>1.0</td>\n",
              "      <td>0.0</td>\n",
              "      <td>0.0</td>\n",
              "      <td>0.0</td>\n",
              "      <td>0.0</td>\n",
              "      <td>0.0</td>\n",
              "      <td>1.0</td>\n",
              "      <td>0.0</td>\n",
              "      <td>0.0</td>\n",
              "      <td>0.0</td>\n",
              "    </tr>\n",
              "    <tr>\n",
              "      <th>31</th>\n",
              "      <td>2019.651826</td>\n",
              "      <td>1.46</td>\n",
              "      <td>0.92</td>\n",
              "      <td>0.66</td>\n",
              "      <td>0.0</td>\n",
              "      <td>0.0</td>\n",
              "      <td>0.0</td>\n",
              "      <td>0.0</td>\n",
              "      <td>0.0</td>\n",
              "      <td>0.0</td>\n",
              "      <td>...</td>\n",
              "      <td>1.0</td>\n",
              "      <td>0.0</td>\n",
              "      <td>0.0</td>\n",
              "      <td>0.0</td>\n",
              "      <td>1.0</td>\n",
              "      <td>0.0</td>\n",
              "      <td>0.0</td>\n",
              "      <td>0.0</td>\n",
              "      <td>0.0</td>\n",
              "      <td>0.0</td>\n",
              "    </tr>\n",
              "    <tr>\n",
              "      <th>32</th>\n",
              "      <td>2017.138128</td>\n",
              "      <td>1.40</td>\n",
              "      <td>0.92</td>\n",
              "      <td>0.43</td>\n",
              "      <td>0.0</td>\n",
              "      <td>0.0</td>\n",
              "      <td>0.0</td>\n",
              "      <td>0.0</td>\n",
              "      <td>0.0</td>\n",
              "      <td>0.0</td>\n",
              "      <td>...</td>\n",
              "      <td>1.0</td>\n",
              "      <td>0.0</td>\n",
              "      <td>0.0</td>\n",
              "      <td>0.0</td>\n",
              "      <td>0.0</td>\n",
              "      <td>0.0</td>\n",
              "      <td>0.0</td>\n",
              "      <td>1.0</td>\n",
              "      <td>0.0</td>\n",
              "      <td>0.0</td>\n",
              "    </tr>\n",
              "    <tr>\n",
              "      <th>33</th>\n",
              "      <td>2017.174886</td>\n",
              "      <td>1.40</td>\n",
              "      <td>0.92</td>\n",
              "      <td>0.43</td>\n",
              "      <td>0.0</td>\n",
              "      <td>0.0</td>\n",
              "      <td>0.0</td>\n",
              "      <td>0.0</td>\n",
              "      <td>0.0</td>\n",
              "      <td>0.0</td>\n",
              "      <td>...</td>\n",
              "      <td>1.0</td>\n",
              "      <td>0.0</td>\n",
              "      <td>0.0</td>\n",
              "      <td>0.0</td>\n",
              "      <td>0.0</td>\n",
              "      <td>0.0</td>\n",
              "      <td>0.0</td>\n",
              "      <td>1.0</td>\n",
              "      <td>0.0</td>\n",
              "      <td>0.0</td>\n",
              "    </tr>\n",
              "    <tr>\n",
              "      <th>34</th>\n",
              "      <td>2017.393607</td>\n",
              "      <td>1.40</td>\n",
              "      <td>0.92</td>\n",
              "      <td>0.43</td>\n",
              "      <td>0.0</td>\n",
              "      <td>0.0</td>\n",
              "      <td>0.0</td>\n",
              "      <td>0.0</td>\n",
              "      <td>0.0</td>\n",
              "      <td>0.0</td>\n",
              "      <td>...</td>\n",
              "      <td>1.0</td>\n",
              "      <td>0.0</td>\n",
              "      <td>0.0</td>\n",
              "      <td>0.0</td>\n",
              "      <td>0.0</td>\n",
              "      <td>0.0</td>\n",
              "      <td>1.0</td>\n",
              "      <td>0.0</td>\n",
              "      <td>0.0</td>\n",
              "      <td>0.0</td>\n",
              "    </tr>\n",
              "    <tr>\n",
              "      <th>35</th>\n",
              "      <td>2017.107991</td>\n",
              "      <td>0.90</td>\n",
              "      <td>1.99</td>\n",
              "      <td>0.43</td>\n",
              "      <td>0.0</td>\n",
              "      <td>0.0</td>\n",
              "      <td>0.0</td>\n",
              "      <td>0.0</td>\n",
              "      <td>0.0</td>\n",
              "      <td>0.0</td>\n",
              "      <td>...</td>\n",
              "      <td>0.0</td>\n",
              "      <td>0.0</td>\n",
              "      <td>0.0</td>\n",
              "      <td>0.0</td>\n",
              "      <td>0.0</td>\n",
              "      <td>0.0</td>\n",
              "      <td>0.0</td>\n",
              "      <td>0.0</td>\n",
              "      <td>1.0</td>\n",
              "      <td>0.0</td>\n",
              "    </tr>\n",
              "    <tr>\n",
              "      <th>36</th>\n",
              "      <td>2017.412785</td>\n",
              "      <td>0.90</td>\n",
              "      <td>1.99</td>\n",
              "      <td>0.43</td>\n",
              "      <td>0.0</td>\n",
              "      <td>0.0</td>\n",
              "      <td>0.0</td>\n",
              "      <td>0.0</td>\n",
              "      <td>0.0</td>\n",
              "      <td>0.0</td>\n",
              "      <td>...</td>\n",
              "      <td>0.0</td>\n",
              "      <td>0.0</td>\n",
              "      <td>0.0</td>\n",
              "      <td>0.0</td>\n",
              "      <td>0.0</td>\n",
              "      <td>0.0</td>\n",
              "      <td>0.0</td>\n",
              "      <td>0.0</td>\n",
              "      <td>1.0</td>\n",
              "      <td>0.0</td>\n",
              "    </tr>\n",
              "    <tr>\n",
              "      <th>37</th>\n",
              "      <td>2023.938584</td>\n",
              "      <td>0.90</td>\n",
              "      <td>1.85</td>\n",
              "      <td>0.43</td>\n",
              "      <td>0.0</td>\n",
              "      <td>0.0</td>\n",
              "      <td>0.0</td>\n",
              "      <td>0.0</td>\n",
              "      <td>0.0</td>\n",
              "      <td>0.0</td>\n",
              "      <td>...</td>\n",
              "      <td>0.0</td>\n",
              "      <td>0.0</td>\n",
              "      <td>0.0</td>\n",
              "      <td>0.0</td>\n",
              "      <td>0.0</td>\n",
              "      <td>0.0</td>\n",
              "      <td>0.0</td>\n",
              "      <td>0.0</td>\n",
              "      <td>1.0</td>\n",
              "      <td>0.0</td>\n",
              "    </tr>\n",
              "    <tr>\n",
              "      <th>38</th>\n",
              "      <td>2018.435845</td>\n",
              "      <td>3.06</td>\n",
              "      <td>1.99</td>\n",
              "      <td>1.23</td>\n",
              "      <td>0.0</td>\n",
              "      <td>0.0</td>\n",
              "      <td>0.0</td>\n",
              "      <td>0.0</td>\n",
              "      <td>0.0</td>\n",
              "      <td>0.0</td>\n",
              "      <td>...</td>\n",
              "      <td>0.0</td>\n",
              "      <td>0.0</td>\n",
              "      <td>0.0</td>\n",
              "      <td>0.0</td>\n",
              "      <td>0.0</td>\n",
              "      <td>0.0</td>\n",
              "      <td>0.0</td>\n",
              "      <td>0.0</td>\n",
              "      <td>1.0</td>\n",
              "      <td>0.0</td>\n",
              "    </tr>\n",
              "    <tr>\n",
              "      <th>39</th>\n",
              "      <td>2019.065753</td>\n",
              "      <td>3.90</td>\n",
              "      <td>2.29</td>\n",
              "      <td>1.21</td>\n",
              "      <td>0.0</td>\n",
              "      <td>0.0</td>\n",
              "      <td>0.0</td>\n",
              "      <td>0.0</td>\n",
              "      <td>0.0</td>\n",
              "      <td>0.0</td>\n",
              "      <td>...</td>\n",
              "      <td>0.0</td>\n",
              "      <td>0.0</td>\n",
              "      <td>0.0</td>\n",
              "      <td>0.0</td>\n",
              "      <td>0.0</td>\n",
              "      <td>0.0</td>\n",
              "      <td>0.0</td>\n",
              "      <td>0.0</td>\n",
              "      <td>1.0</td>\n",
              "      <td>0.0</td>\n",
              "    </tr>\n",
              "    <tr>\n",
              "      <th>40</th>\n",
              "      <td>2019.260959</td>\n",
              "      <td>3.90</td>\n",
              "      <td>2.29</td>\n",
              "      <td>1.21</td>\n",
              "      <td>0.0</td>\n",
              "      <td>0.0</td>\n",
              "      <td>0.0</td>\n",
              "      <td>0.0</td>\n",
              "      <td>0.0</td>\n",
              "      <td>0.0</td>\n",
              "      <td>...</td>\n",
              "      <td>0.0</td>\n",
              "      <td>0.0</td>\n",
              "      <td>0.0</td>\n",
              "      <td>0.0</td>\n",
              "      <td>0.0</td>\n",
              "      <td>0.0</td>\n",
              "      <td>0.0</td>\n",
              "      <td>0.0</td>\n",
              "      <td>1.0</td>\n",
              "      <td>0.0</td>\n",
              "    </tr>\n",
              "    <tr>\n",
              "      <th>41</th>\n",
              "      <td>2019.385388</td>\n",
              "      <td>3.90</td>\n",
              "      <td>2.29</td>\n",
              "      <td>1.21</td>\n",
              "      <td>0.0</td>\n",
              "      <td>0.0</td>\n",
              "      <td>0.0</td>\n",
              "      <td>0.0</td>\n",
              "      <td>0.0</td>\n",
              "      <td>0.0</td>\n",
              "      <td>...</td>\n",
              "      <td>0.0</td>\n",
              "      <td>0.0</td>\n",
              "      <td>0.0</td>\n",
              "      <td>0.0</td>\n",
              "      <td>0.0</td>\n",
              "      <td>0.0</td>\n",
              "      <td>0.0</td>\n",
              "      <td>0.0</td>\n",
              "      <td>1.0</td>\n",
              "      <td>0.0</td>\n",
              "    </tr>\n",
              "    <tr>\n",
              "      <th>42</th>\n",
              "      <td>2019.441324</td>\n",
              "      <td>3.90</td>\n",
              "      <td>2.29</td>\n",
              "      <td>1.21</td>\n",
              "      <td>0.0</td>\n",
              "      <td>0.0</td>\n",
              "      <td>0.0</td>\n",
              "      <td>0.0</td>\n",
              "      <td>0.0</td>\n",
              "      <td>0.0</td>\n",
              "      <td>...</td>\n",
              "      <td>0.0</td>\n",
              "      <td>0.0</td>\n",
              "      <td>0.0</td>\n",
              "      <td>0.0</td>\n",
              "      <td>0.0</td>\n",
              "      <td>0.0</td>\n",
              "      <td>0.0</td>\n",
              "      <td>0.0</td>\n",
              "      <td>1.0</td>\n",
              "      <td>0.0</td>\n",
              "    </tr>\n",
              "    <tr>\n",
              "      <th>43</th>\n",
              "      <td>2019.519178</td>\n",
              "      <td>3.90</td>\n",
              "      <td>2.29</td>\n",
              "      <td>1.21</td>\n",
              "      <td>0.0</td>\n",
              "      <td>0.0</td>\n",
              "      <td>0.0</td>\n",
              "      <td>0.0</td>\n",
              "      <td>0.0</td>\n",
              "      <td>0.0</td>\n",
              "      <td>...</td>\n",
              "      <td>0.0</td>\n",
              "      <td>0.0</td>\n",
              "      <td>0.0</td>\n",
              "      <td>0.0</td>\n",
              "      <td>0.0</td>\n",
              "      <td>0.0</td>\n",
              "      <td>0.0</td>\n",
              "      <td>0.0</td>\n",
              "      <td>1.0</td>\n",
              "      <td>0.0</td>\n",
              "    </tr>\n",
              "    <tr>\n",
              "      <th>44</th>\n",
              "      <td>2019.594292</td>\n",
              "      <td>3.90</td>\n",
              "      <td>2.29</td>\n",
              "      <td>1.21</td>\n",
              "      <td>0.0</td>\n",
              "      <td>0.0</td>\n",
              "      <td>0.0</td>\n",
              "      <td>0.0</td>\n",
              "      <td>0.0</td>\n",
              "      <td>0.0</td>\n",
              "      <td>...</td>\n",
              "      <td>0.0</td>\n",
              "      <td>0.0</td>\n",
              "      <td>0.0</td>\n",
              "      <td>0.0</td>\n",
              "      <td>0.0</td>\n",
              "      <td>0.0</td>\n",
              "      <td>0.0</td>\n",
              "      <td>0.0</td>\n",
              "      <td>1.0</td>\n",
              "      <td>0.0</td>\n",
              "    </tr>\n",
              "    <tr>\n",
              "      <th>45</th>\n",
              "      <td>2019.597032</td>\n",
              "      <td>3.06</td>\n",
              "      <td>1.95</td>\n",
              "      <td>1.16</td>\n",
              "      <td>0.0</td>\n",
              "      <td>0.0</td>\n",
              "      <td>0.0</td>\n",
              "      <td>0.0</td>\n",
              "      <td>0.0</td>\n",
              "      <td>0.0</td>\n",
              "      <td>...</td>\n",
              "      <td>0.0</td>\n",
              "      <td>1.0</td>\n",
              "      <td>1.0</td>\n",
              "      <td>0.0</td>\n",
              "      <td>0.0</td>\n",
              "      <td>0.0</td>\n",
              "      <td>0.0</td>\n",
              "      <td>0.0</td>\n",
              "      <td>0.0</td>\n",
              "      <td>0.0</td>\n",
              "    </tr>\n",
              "    <tr>\n",
              "      <th>46</th>\n",
              "      <td>2019.724201</td>\n",
              "      <td>3.06</td>\n",
              "      <td>1.95</td>\n",
              "      <td>1.16</td>\n",
              "      <td>0.0</td>\n",
              "      <td>0.0</td>\n",
              "      <td>0.0</td>\n",
              "      <td>0.0</td>\n",
              "      <td>0.0</td>\n",
              "      <td>0.0</td>\n",
              "      <td>...</td>\n",
              "      <td>0.0</td>\n",
              "      <td>1.0</td>\n",
              "      <td>1.0</td>\n",
              "      <td>0.0</td>\n",
              "      <td>0.0</td>\n",
              "      <td>0.0</td>\n",
              "      <td>0.0</td>\n",
              "      <td>0.0</td>\n",
              "      <td>0.0</td>\n",
              "      <td>0.0</td>\n",
              "    </tr>\n",
              "    <tr>\n",
              "      <th>47</th>\n",
              "      <td>2019.879909</td>\n",
              "      <td>3.06</td>\n",
              "      <td>1.95</td>\n",
              "      <td>1.16</td>\n",
              "      <td>0.0</td>\n",
              "      <td>0.0</td>\n",
              "      <td>0.0</td>\n",
              "      <td>0.0</td>\n",
              "      <td>0.0</td>\n",
              "      <td>0.0</td>\n",
              "      <td>...</td>\n",
              "      <td>0.0</td>\n",
              "      <td>1.0</td>\n",
              "      <td>1.0</td>\n",
              "      <td>0.0</td>\n",
              "      <td>0.0</td>\n",
              "      <td>0.0</td>\n",
              "      <td>0.0</td>\n",
              "      <td>0.0</td>\n",
              "      <td>0.0</td>\n",
              "      <td>0.0</td>\n",
              "    </tr>\n",
              "    <tr>\n",
              "      <th>48</th>\n",
              "      <td>2020.113470</td>\n",
              "      <td>3.06</td>\n",
              "      <td>1.95</td>\n",
              "      <td>1.16</td>\n",
              "      <td>0.0</td>\n",
              "      <td>0.0</td>\n",
              "      <td>0.0</td>\n",
              "      <td>0.0</td>\n",
              "      <td>0.0</td>\n",
              "      <td>0.0</td>\n",
              "      <td>...</td>\n",
              "      <td>0.0</td>\n",
              "      <td>1.0</td>\n",
              "      <td>1.0</td>\n",
              "      <td>0.0</td>\n",
              "      <td>0.0</td>\n",
              "      <td>0.0</td>\n",
              "      <td>0.0</td>\n",
              "      <td>0.0</td>\n",
              "      <td>0.0</td>\n",
              "      <td>0.0</td>\n",
              "    </tr>\n",
              "  </tbody>\n",
              "</table>\n",
              "<p>49 rows × 28 columns</p>\n",
              "</div>"
            ],
            "text/plain": [
              "     Price date  Price per chip-hour (on-demand)  \\\n",
              "0   2018.771918                             1.13   \n",
              "1   2018.777397                             2.00   \n",
              "2   2018.777397                             2.20   \n",
              "3   2019.500000                             2.00   \n",
              "4   2019.573973                             2.00   \n",
              "5   2019.665525                             2.00   \n",
              "6   2019.930365                             2.00   \n",
              "7   2020.919406                             2.00   \n",
              "8   2021.183105                             2.00   \n",
              "9   2021.769178                             2.00   \n",
              "10  2021.877169                             2.00   \n",
              "11  2022.360731                             3.22   \n",
              "12  2022.694064                             3.22   \n",
              "13  2023.416667                             3.22   \n",
              "14  2021.277397                             3.40   \n",
              "15  2021.541096                             3.40   \n",
              "16  2021.616210                             3.40   \n",
              "17  2022.946804                             2.93   \n",
              "18  2021.841553                             4.10   \n",
              "19  2022.065753                             4.10   \n",
              "20  2022.151826                             4.10   \n",
              "21  2022.793836                             4.10   \n",
              "22  2022.938584                             4.10   \n",
              "23  2023.191324                             4.10   \n",
              "24  2022.946804                             3.93   \n",
              "25  2022.632648                             5.12   \n",
              "26  2022.938584                             5.12   \n",
              "27  2022.288356                             4.10   \n",
              "28  2022.412785                             4.10   \n",
              "29  2017.868950                             2.30   \n",
              "30  2017.916667                             1.46   \n",
              "31  2019.651826                             1.46   \n",
              "32  2017.138128                             1.40   \n",
              "33  2017.174886                             1.40   \n",
              "34  2017.393607                             1.40   \n",
              "35  2017.107991                             0.90   \n",
              "36  2017.412785                             0.90   \n",
              "37  2023.938584                             0.90   \n",
              "38  2018.435845                             3.06   \n",
              "39  2019.065753                             3.90   \n",
              "40  2019.260959                             3.90   \n",
              "41  2019.385388                             3.90   \n",
              "42  2019.441324                             3.90   \n",
              "43  2019.519178                             3.90   \n",
              "44  2019.594292                             3.90   \n",
              "45  2019.597032                             3.06   \n",
              "46  2019.724201                             3.06   \n",
              "47  2019.879909                             3.06   \n",
              "48  2020.113470                             3.06   \n",
              "\n",
              "    Price per chip-hour (1-year CUD)  Price per chip-hour (3-year CUD)  \\\n",
              "0                               1.26                              0.90   \n",
              "1                               1.26                              0.90   \n",
              "2                               1.26                              0.90   \n",
              "3                               1.26                              0.90   \n",
              "4                               1.26                              0.90   \n",
              "5                               1.26                              0.90   \n",
              "6                               1.26                              0.90   \n",
              "7                               1.26                              0.90   \n",
              "8                               1.26                              0.90   \n",
              "9                               1.26                              0.90   \n",
              "10                              1.26                              0.90   \n",
              "11                              2.03                              1.45   \n",
              "12                              2.03                              1.45   \n",
              "13                              2.03                              1.45   \n",
              "14                              2.40                              1.44   \n",
              "15                              2.35                              1.36   \n",
              "16                              2.35                              1.36   \n",
              "17                              1.85                              1.03   \n",
              "18                              2.40                              1.45   \n",
              "19                              2.40                              1.45   \n",
              "20                              2.40                              1.45   \n",
              "21                              2.40                              1.45   \n",
              "22                              2.40                              1.45   \n",
              "23                              2.40                              1.45   \n",
              "24                              1.85                              1.03   \n",
              "25                              3.00                              1.81   \n",
              "26                              3.00                              1.81   \n",
              "27                              2.62                              1.80   \n",
              "28                              2.62                              1.80   \n",
              "29                              0.92                              0.66   \n",
              "30                              0.92                              0.66   \n",
              "31                              0.92                              0.66   \n",
              "32                              0.92                              0.43   \n",
              "33                              0.92                              0.43   \n",
              "34                              0.92                              0.43   \n",
              "35                              1.99                              0.43   \n",
              "36                              1.99                              0.43   \n",
              "37                              1.85                              0.43   \n",
              "38                              1.99                              1.23   \n",
              "39                              2.29                              1.21   \n",
              "40                              2.29                              1.21   \n",
              "41                              2.29                              1.21   \n",
              "42                              2.29                              1.21   \n",
              "43                              2.29                              1.21   \n",
              "44                              2.29                              1.21   \n",
              "45                              1.95                              1.16   \n",
              "46                              1.95                              1.16   \n",
              "47                              1.95                              1.16   \n",
              "48                              1.95                              1.16   \n",
              "\n",
              "    Hardware model_Google TPU v2  Hardware model_Google TPU v3  \\\n",
              "0                            1.0                           0.0   \n",
              "1                            0.0                           1.0   \n",
              "2                            0.0                           1.0   \n",
              "3                            0.0                           1.0   \n",
              "4                            0.0                           1.0   \n",
              "5                            0.0                           1.0   \n",
              "6                            0.0                           1.0   \n",
              "7                            0.0                           1.0   \n",
              "8                            0.0                           1.0   \n",
              "9                            0.0                           1.0   \n",
              "10                           0.0                           1.0   \n",
              "11                           0.0                           0.0   \n",
              "12                           0.0                           0.0   \n",
              "13                           0.0                           0.0   \n",
              "14                           0.0                           0.0   \n",
              "15                           0.0                           0.0   \n",
              "16                           0.0                           0.0   \n",
              "17                           0.0                           0.0   \n",
              "18                           0.0                           0.0   \n",
              "19                           0.0                           0.0   \n",
              "20                           0.0                           0.0   \n",
              "21                           0.0                           0.0   \n",
              "22                           0.0                           0.0   \n",
              "23                           0.0                           0.0   \n",
              "24                           0.0                           0.0   \n",
              "25                           0.0                           0.0   \n",
              "26                           0.0                           0.0   \n",
              "27                           0.0                           0.0   \n",
              "28                           0.0                           0.0   \n",
              "29                           0.0                           0.0   \n",
              "30                           0.0                           0.0   \n",
              "31                           0.0                           0.0   \n",
              "32                           0.0                           0.0   \n",
              "33                           0.0                           0.0   \n",
              "34                           0.0                           0.0   \n",
              "35                           0.0                           0.0   \n",
              "36                           0.0                           0.0   \n",
              "37                           0.0                           0.0   \n",
              "38                           0.0                           0.0   \n",
              "39                           0.0                           0.0   \n",
              "40                           0.0                           0.0   \n",
              "41                           0.0                           0.0   \n",
              "42                           0.0                           0.0   \n",
              "43                           0.0                           0.0   \n",
              "44                           0.0                           0.0   \n",
              "45                           0.0                           0.0   \n",
              "46                           0.0                           0.0   \n",
              "47                           0.0                           0.0   \n",
              "48                           0.0                           0.0   \n",
              "\n",
              "    Hardware model_Google TPU v4  Hardware model_NVIDIA A100  \\\n",
              "0                            0.0                         0.0   \n",
              "1                            0.0                         0.0   \n",
              "2                            0.0                         0.0   \n",
              "3                            0.0                         0.0   \n",
              "4                            0.0                         0.0   \n",
              "5                            0.0                         0.0   \n",
              "6                            0.0                         0.0   \n",
              "7                            0.0                         0.0   \n",
              "8                            0.0                         0.0   \n",
              "9                            0.0                         0.0   \n",
              "10                           0.0                         0.0   \n",
              "11                           1.0                         0.0   \n",
              "12                           1.0                         0.0   \n",
              "13                           1.0                         0.0   \n",
              "14                           0.0                         1.0   \n",
              "15                           0.0                         1.0   \n",
              "16                           0.0                         1.0   \n",
              "17                           0.0                         0.0   \n",
              "18                           0.0                         0.0   \n",
              "19                           0.0                         0.0   \n",
              "20                           0.0                         0.0   \n",
              "21                           0.0                         0.0   \n",
              "22                           0.0                         0.0   \n",
              "23                           0.0                         0.0   \n",
              "24                           0.0                         0.0   \n",
              "25                           0.0                         0.0   \n",
              "26                           0.0                         0.0   \n",
              "27                           0.0                         0.0   \n",
              "28                           0.0                         0.0   \n",
              "29                           0.0                         0.0   \n",
              "30                           0.0                         0.0   \n",
              "31                           0.0                         0.0   \n",
              "32                           0.0                         0.0   \n",
              "33                           0.0                         0.0   \n",
              "34                           0.0                         0.0   \n",
              "35                           0.0                         0.0   \n",
              "36                           0.0                         0.0   \n",
              "37                           0.0                         0.0   \n",
              "38                           0.0                         0.0   \n",
              "39                           0.0                         0.0   \n",
              "40                           0.0                         0.0   \n",
              "41                           0.0                         0.0   \n",
              "42                           0.0                         0.0   \n",
              "43                           0.0                         0.0   \n",
              "44                           0.0                         0.0   \n",
              "45                           0.0                         0.0   \n",
              "46                           0.0                         0.0   \n",
              "47                           0.0                         0.0   \n",
              "48                           0.0                         0.0   \n",
              "\n",
              "    Hardware model_NVIDIA A100 SXM4 40 GB  \\\n",
              "0                                     0.0   \n",
              "1                                     0.0   \n",
              "2                                     0.0   \n",
              "3                                     0.0   \n",
              "4                                     0.0   \n",
              "5                                     0.0   \n",
              "6                                     0.0   \n",
              "7                                     0.0   \n",
              "8                                     0.0   \n",
              "9                                     0.0   \n",
              "10                                    0.0   \n",
              "11                                    0.0   \n",
              "12                                    0.0   \n",
              "13                                    0.0   \n",
              "14                                    0.0   \n",
              "15                                    0.0   \n",
              "16                                    0.0   \n",
              "17                                    1.0   \n",
              "18                                    1.0   \n",
              "19                                    1.0   \n",
              "20                                    1.0   \n",
              "21                                    1.0   \n",
              "22                                    1.0   \n",
              "23                                    1.0   \n",
              "24                                    0.0   \n",
              "25                                    0.0   \n",
              "26                                    0.0   \n",
              "27                                    0.0   \n",
              "28                                    0.0   \n",
              "29                                    0.0   \n",
              "30                                    0.0   \n",
              "31                                    0.0   \n",
              "32                                    0.0   \n",
              "33                                    0.0   \n",
              "34                                    0.0   \n",
              "35                                    0.0   \n",
              "36                                    0.0   \n",
              "37                                    0.0   \n",
              "38                                    0.0   \n",
              "39                                    0.0   \n",
              "40                                    0.0   \n",
              "41                                    0.0   \n",
              "42                                    0.0   \n",
              "43                                    0.0   \n",
              "44                                    0.0   \n",
              "45                                    0.0   \n",
              "46                                    0.0   \n",
              "47                                    0.0   \n",
              "48                                    0.0   \n",
              "\n",
              "    Hardware model_NVIDIA A100 SXM4 80 GB  ...  Vendor_Google Cloud  \\\n",
              "0                                     0.0  ...                  1.0   \n",
              "1                                     0.0  ...                  1.0   \n",
              "2                                     0.0  ...                  1.0   \n",
              "3                                     0.0  ...                  1.0   \n",
              "4                                     0.0  ...                  1.0   \n",
              "5                                     0.0  ...                  1.0   \n",
              "6                                     0.0  ...                  1.0   \n",
              "7                                     0.0  ...                  1.0   \n",
              "8                                     0.0  ...                  1.0   \n",
              "9                                     0.0  ...                  1.0   \n",
              "10                                    0.0  ...                  1.0   \n",
              "11                                    0.0  ...                  1.0   \n",
              "12                                    0.0  ...                  1.0   \n",
              "13                                    0.0  ...                  1.0   \n",
              "14                                    0.0  ...                  0.0   \n",
              "15                                    0.0  ...                  0.0   \n",
              "16                                    0.0  ...                  0.0   \n",
              "17                                    0.0  ...                  1.0   \n",
              "18                                    0.0  ...                  0.0   \n",
              "19                                    0.0  ...                  0.0   \n",
              "20                                    0.0  ...                  0.0   \n",
              "21                                    0.0  ...                  0.0   \n",
              "22                                    0.0  ...                  0.0   \n",
              "23                                    0.0  ...                  0.0   \n",
              "24                                    1.0  ...                  1.0   \n",
              "25                                    1.0  ...                  0.0   \n",
              "26                                    1.0  ...                  0.0   \n",
              "27                                    1.0  ...                  0.0   \n",
              "28                                    1.0  ...                  0.0   \n",
              "29                                    0.0  ...                  1.0   \n",
              "30                                    0.0  ...                  1.0   \n",
              "31                                    0.0  ...                  1.0   \n",
              "32                                    0.0  ...                  1.0   \n",
              "33                                    0.0  ...                  1.0   \n",
              "34                                    0.0  ...                  1.0   \n",
              "35                                    0.0  ...                  0.0   \n",
              "36                                    0.0  ...                  0.0   \n",
              "37                                    0.0  ...                  0.0   \n",
              "38                                    0.0  ...                  0.0   \n",
              "39                                    0.0  ...                  0.0   \n",
              "40                                    0.0  ...                  0.0   \n",
              "41                                    0.0  ...                  0.0   \n",
              "42                                    0.0  ...                  0.0   \n",
              "43                                    0.0  ...                  0.0   \n",
              "44                                    0.0  ...                  0.0   \n",
              "45                                    0.0  ...                  0.0   \n",
              "46                                    0.0  ...                  0.0   \n",
              "47                                    0.0  ...                  0.0   \n",
              "48                                    0.0  ...                  0.0   \n",
              "\n",
              "    Vendor_Microsoft Azure  Location_East US  Location_Europe  \\\n",
              "0                      0.0               0.0              0.0   \n",
              "1                      0.0               0.0              0.0   \n",
              "2                      0.0               0.0              1.0   \n",
              "3                      0.0               0.0              0.0   \n",
              "4                      0.0               0.0              0.0   \n",
              "5                      0.0               0.0              0.0   \n",
              "6                      0.0               0.0              0.0   \n",
              "7                      0.0               0.0              0.0   \n",
              "8                      0.0               0.0              0.0   \n",
              "9                      0.0               0.0              0.0   \n",
              "10                     0.0               0.0              0.0   \n",
              "11                     0.0               0.0              0.0   \n",
              "12                     0.0               0.0              0.0   \n",
              "13                     0.0               0.0              0.0   \n",
              "14                     1.0               1.0              0.0   \n",
              "15                     1.0               1.0              0.0   \n",
              "16                     1.0               1.0              0.0   \n",
              "17                     0.0               0.0              0.0   \n",
              "18                     0.0               0.0              0.0   \n",
              "19                     0.0               0.0              0.0   \n",
              "20                     0.0               0.0              0.0   \n",
              "21                     0.0               0.0              0.0   \n",
              "22                     0.0               0.0              0.0   \n",
              "23                     0.0               0.0              0.0   \n",
              "24                     0.0               0.0              0.0   \n",
              "25                     0.0               0.0              0.0   \n",
              "26                     0.0               0.0              0.0   \n",
              "27                     1.0               1.0              0.0   \n",
              "28                     1.0               1.0              0.0   \n",
              "29                     0.0               0.0              0.0   \n",
              "30                     0.0               0.0              0.0   \n",
              "31                     0.0               0.0              0.0   \n",
              "32                     0.0               0.0              0.0   \n",
              "33                     0.0               0.0              0.0   \n",
              "34                     0.0               0.0              0.0   \n",
              "35                     0.0               0.0              0.0   \n",
              "36                     0.0               0.0              0.0   \n",
              "37                     0.0               0.0              0.0   \n",
              "38                     0.0               0.0              0.0   \n",
              "39                     0.0               0.0              0.0   \n",
              "40                     0.0               0.0              0.0   \n",
              "41                     0.0               0.0              0.0   \n",
              "42                     0.0               0.0              0.0   \n",
              "43                     0.0               0.0              0.0   \n",
              "44                     0.0               0.0              0.0   \n",
              "45                     1.0               1.0              0.0   \n",
              "46                     1.0               1.0              0.0   \n",
              "47                     1.0               1.0              0.0   \n",
              "48                     1.0               1.0              0.0   \n",
              "\n",
              "    Location_Iowa (us-central1)  Location_Netherlands (europe-west4)  \\\n",
              "0                           0.0                                  0.0   \n",
              "1                           0.0                                  0.0   \n",
              "2                           0.0                                  0.0   \n",
              "3                           1.0                                  0.0   \n",
              "4                           0.0                                  1.0   \n",
              "5                           0.0                                  1.0   \n",
              "6                           1.0                                  0.0   \n",
              "7                           1.0                                  0.0   \n",
              "8                           1.0                                  0.0   \n",
              "9                           1.0                                  0.0   \n",
              "10                          1.0                                  0.0   \n",
              "11                          0.0                                  0.0   \n",
              "12                          0.0                                  0.0   \n",
              "13                          0.0                                  0.0   \n",
              "14                          0.0                                  0.0   \n",
              "15                          0.0                                  0.0   \n",
              "16                          0.0                                  0.0   \n",
              "17                          1.0                                  0.0   \n",
              "18                          0.0                                  0.0   \n",
              "19                          0.0                                  0.0   \n",
              "20                          0.0                                  0.0   \n",
              "21                          0.0                                  0.0   \n",
              "22                          0.0                                  0.0   \n",
              "23                          0.0                                  0.0   \n",
              "24                          1.0                                  0.0   \n",
              "25                          0.0                                  0.0   \n",
              "26                          0.0                                  0.0   \n",
              "27                          0.0                                  0.0   \n",
              "28                          0.0                                  0.0   \n",
              "29                          0.0                                  0.0   \n",
              "30                          0.0                                  0.0   \n",
              "31                          1.0                                  0.0   \n",
              "32                          0.0                                  0.0   \n",
              "33                          0.0                                  0.0   \n",
              "34                          0.0                                  0.0   \n",
              "35                          0.0                                  0.0   \n",
              "36                          0.0                                  0.0   \n",
              "37                          0.0                                  0.0   \n",
              "38                          0.0                                  0.0   \n",
              "39                          0.0                                  0.0   \n",
              "40                          0.0                                  0.0   \n",
              "41                          0.0                                  0.0   \n",
              "42                          0.0                                  0.0   \n",
              "43                          0.0                                  0.0   \n",
              "44                          0.0                                  0.0   \n",
              "45                          0.0                                  0.0   \n",
              "46                          0.0                                  0.0   \n",
              "47                          0.0                                  0.0   \n",
              "48                          0.0                                  0.0   \n",
              "\n",
              "    Location_Oregon  Location_US  Location_US East (Northern Virginia)  \\\n",
              "0               0.0          1.0                                   0.0   \n",
              "1               0.0          1.0                                   0.0   \n",
              "2               0.0          0.0                                   0.0   \n",
              "3               0.0          0.0                                   0.0   \n",
              "4               0.0          0.0                                   0.0   \n",
              "5               0.0          0.0                                   0.0   \n",
              "6               0.0          0.0                                   0.0   \n",
              "7               0.0          0.0                                   0.0   \n",
              "8               0.0          0.0                                   0.0   \n",
              "9               0.0          0.0                                   0.0   \n",
              "10              0.0          0.0                                   0.0   \n",
              "11              0.0          0.0                                   0.0   \n",
              "12              0.0          0.0                                   0.0   \n",
              "13              0.0          0.0                                   0.0   \n",
              "14              0.0          0.0                                   0.0   \n",
              "15              0.0          0.0                                   0.0   \n",
              "16              0.0          0.0                                   0.0   \n",
              "17              0.0          0.0                                   0.0   \n",
              "18              0.0          0.0                                   1.0   \n",
              "19              0.0          0.0                                   1.0   \n",
              "20              0.0          0.0                                   1.0   \n",
              "21              0.0          0.0                                   1.0   \n",
              "22              0.0          0.0                                   1.0   \n",
              "23              0.0          0.0                                   1.0   \n",
              "24              0.0          0.0                                   0.0   \n",
              "25              0.0          0.0                                   1.0   \n",
              "26              0.0          0.0                                   1.0   \n",
              "27              0.0          0.0                                   0.0   \n",
              "28              0.0          0.0                                   0.0   \n",
              "29              1.0          0.0                                   0.0   \n",
              "30              1.0          0.0                                   0.0   \n",
              "31              0.0          0.0                                   0.0   \n",
              "32              0.0          1.0                                   0.0   \n",
              "33              0.0          1.0                                   0.0   \n",
              "34              1.0          0.0                                   0.0   \n",
              "35              0.0          0.0                                   1.0   \n",
              "36              0.0          0.0                                   1.0   \n",
              "37              0.0          0.0                                   1.0   \n",
              "38              0.0          0.0                                   1.0   \n",
              "39              0.0          0.0                                   1.0   \n",
              "40              0.0          0.0                                   1.0   \n",
              "41              0.0          0.0                                   1.0   \n",
              "42              0.0          0.0                                   1.0   \n",
              "43              0.0          0.0                                   1.0   \n",
              "44              0.0          0.0                                   1.0   \n",
              "45              0.0          0.0                                   0.0   \n",
              "46              0.0          0.0                                   0.0   \n",
              "47              0.0          0.0                                   0.0   \n",
              "48              0.0          0.0                                   0.0   \n",
              "\n",
              "    Location_us-central2-b  \n",
              "0                      0.0  \n",
              "1                      0.0  \n",
              "2                      0.0  \n",
              "3                      0.0  \n",
              "4                      0.0  \n",
              "5                      0.0  \n",
              "6                      0.0  \n",
              "7                      0.0  \n",
              "8                      0.0  \n",
              "9                      0.0  \n",
              "10                     0.0  \n",
              "11                     1.0  \n",
              "12                     1.0  \n",
              "13                     1.0  \n",
              "14                     0.0  \n",
              "15                     0.0  \n",
              "16                     0.0  \n",
              "17                     0.0  \n",
              "18                     0.0  \n",
              "19                     0.0  \n",
              "20                     0.0  \n",
              "21                     0.0  \n",
              "22                     0.0  \n",
              "23                     0.0  \n",
              "24                     0.0  \n",
              "25                     0.0  \n",
              "26                     0.0  \n",
              "27                     0.0  \n",
              "28                     0.0  \n",
              "29                     0.0  \n",
              "30                     0.0  \n",
              "31                     0.0  \n",
              "32                     0.0  \n",
              "33                     0.0  \n",
              "34                     0.0  \n",
              "35                     0.0  \n",
              "36                     0.0  \n",
              "37                     0.0  \n",
              "38                     0.0  \n",
              "39                     0.0  \n",
              "40                     0.0  \n",
              "41                     0.0  \n",
              "42                     0.0  \n",
              "43                     0.0  \n",
              "44                     0.0  \n",
              "45                     0.0  \n",
              "46                     0.0  \n",
              "47                     0.0  \n",
              "48                     0.0  \n",
              "\n",
              "[49 rows x 28 columns]"
            ]
          },
          "execution_count": 171,
          "metadata": {},
          "output_type": "execute_result"
        }
      ],
      "source": [
        "imputed_price_df"
      ]
    },
    {
      "cell_type": "code",
      "execution_count": null,
      "metadata": {},
      "outputs": [],
      "source": [
        "# convert Training hardware back to categorical\n",
        "imputed_pcd_df['Training hardware'] = ''\n",
        "for col in imputed_pcd_df.columns:\n",
        "    if col.startswith('Training hardware_'):\n",
        "        training_hardware = col.split('Training hardware_')[1]\n",
        "        imputed_pcd_df['Training hardware'] = imputed_pcd_df['Training hardware'] + pd.Series([int(_) * training_hardware for _ in imputed_pcd_df[col]])\n",
        "\n",
        "# replace all '' with np.nan\n",
        "imputed_pcd_df['Training hardware'] = imputed_pcd_df['Training hardware'].replace('', np.nan)"
      ]
    }
  ],
  "metadata": {
    "colab": {
      "provenance": []
    },
    "kernelspec": {
      "display_name": "Python 3",
      "name": "python3"
    },
    "language_info": {
      "codemirror_mode": {
        "name": "ipython",
        "version": 3
      },
      "file_extension": ".py",
      "mimetype": "text/x-python",
      "name": "python",
      "nbconvert_exporter": "python",
      "pygments_lexer": "ipython3",
      "version": "3.11.4"
    }
  },
  "nbformat": 4,
  "nbformat_minor": 0
}
