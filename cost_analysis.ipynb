{
 "cells": [
  {
   "cell_type": "markdown",
   "metadata": {},
   "source": [
    "# Setup"
   ]
  },
  {
   "cell_type": "code",
   "execution_count": 1,
   "metadata": {
    "ExecuteTime": {
     "end_time": "2024-02-29T19:51:45.130056800Z",
     "start_time": "2024-02-29T19:51:44.303405900Z"
    }
   },
   "outputs": [],
   "source": [
    "%load_ext autoreload\n",
    "%autoreload 2"
   ]
  },
  {
   "cell_type": "code",
   "execution_count": 2,
   "metadata": {
    "ExecuteTime": {
     "end_time": "2024-02-29T19:51:45.252625200Z",
     "start_time": "2024-02-29T19:51:45.138687300Z"
    },
    "id": "qltoZ7TbdkHZ"
   },
   "outputs": [],
   "source": [
    "import numpy as np\n",
    "import os\n",
    "import pandas as pd\n",
    "import plotly.express as px\n",
    "\n",
    "from cost import *\n",
    "from plotting import *\n",
    "from prices import *\n",
    "from imputation import *\n",
    "from inflation import *\n",
    "from regression import *\n",
    "from utils import *"
   ]
  },
  {
   "cell_type": "code",
   "execution_count": 3,
   "metadata": {
    "ExecuteTime": {
     "end_time": "2024-02-29T19:51:45.365449500Z",
     "start_time": "2024-02-29T19:51:45.255094700Z"
    }
   },
   "outputs": [],
   "source": [
    "results_dir = 'results/final-frontier/'\n",
    "os.makedirs(results_dir, exist_ok=True)"
   ]
  },
  {
   "cell_type": "markdown",
   "metadata": {},
   "source": [
    "# Load data"
   ]
  },
  {
   "cell_type": "code",
   "execution_count": 4,
   "metadata": {
    "ExecuteTime": {
     "end_time": "2024-02-29T19:51:45.628834300Z",
     "start_time": "2024-02-29T19:51:45.365449500Z"
    }
   },
   "outputs": [
    {
     "name": "stderr",
     "output_type": "stream",
     "text": [
      "/Users/bencottier/Projects/training_cost_2/training-cost-trends/data.py:43: SettingWithCopyWarning: \n",
      "A value is trying to be set on a copy of a slice from a DataFrame.\n",
      "Try using .loc[row_indexer,col_indexer] = value instead\n",
      "\n",
      "See the caveats in the documentation: https://pandas.pydata.org/pandas-docs/stable/user_guide/indexing.html#returning-a-view-versus-a-copy\n",
      "  frontier_pcd_df.loc[:, 'Training compute (FLOP)'] = pd.to_numeric(\n"
     ]
    }
   ],
   "source": [
    "frontier_pcd_df, hardware_df, price_df = load_data_for_cost_estimation()"
   ]
  },
  {
   "cell_type": "code",
   "execution_count": 5,
   "metadata": {
    "ExecuteTime": {
     "end_time": "2024-02-29T19:51:45.758301400Z",
     "start_time": "2024-02-29T19:51:45.628834300Z"
    }
   },
   "outputs": [
    {
     "data": {
      "text/plain": [
       "(138, 5508, 73)"
      ]
     },
     "execution_count": 5,
     "metadata": {},
     "output_type": "execute_result"
    }
   ],
   "source": [
    "len(frontier_pcd_df), len(hardware_df), len(price_df)"
   ]
  },
  {
   "cell_type": "markdown",
   "metadata": {},
   "source": [
    "# Cost estimation"
   ]
  },
  {
   "cell_type": "code",
   "execution_count": 9,
   "metadata": {},
   "outputs": [
    {
     "name": "stdout",
     "output_type": "stream",
     "text": [
      "==== System: Gemini Ultra ====\n",
      "Trying Google TPU v4 at 2023-06-29 00:00:00\n",
      "Trying Google Cloud, Price per chip-hour (3-year CUD)\n",
      "Found price: 1.45 at 2023-06-01 00:00:00\n",
      "Difference between purchase time and price date: 28 days 00:00:00 \n",
      "\n",
      "==== System: Qwen-72B ====\n",
      "Training time is required but no value found\n",
      "\n",
      "==== System: Inflection-2 ====\n",
      "Training time is required but no value found\n",
      "\n",
      "==== System: Nemotron-3-8B ====\n",
      "Trying NVIDIA A100 at 2023-08-28 00:00:00\n",
      "Trying Amazon Web Services, Price per chip-hour (3-year CUD)\n",
      "Found price: 1.45 at 2022-12-09 00:00:00\n",
      "Difference between purchase time and price date: 262 days 00:00:00 \n",
      "\n",
      "==== System: CogVLM ====\n",
      "Training time is required but no value found\n",
      "\n",
      "==== System: Yi-34B ====\n",
      "Training time is required but no value found\n",
      "\n",
      "==== System: Skywork-13B ====\n",
      "Trying NVIDIA A800 at 2023-07-22 20:00:00\n",
      "Trying Amazon Web Services, Price per chip-hour (3-year CUD)\n",
      "Could not find price\n",
      "\n",
      "Trying Microsoft Azure, Price per chip-hour (3-year CUD)\n",
      "Could not find price\n",
      "\n",
      "Trying Google Cloud, Price per chip-hour (3-year CUD)\n",
      "Could not find price\n",
      "\n",
      "Trying Amazon Web Services, Price per chip-hour (1-year CUD)\n",
      "Could not find price\n",
      "\n",
      "Trying Microsoft Azure, Price per chip-hour (1-year CUD)\n",
      "Could not find price\n",
      "\n",
      "Trying Google Cloud, Price per chip-hour (1-year CUD)\n",
      "Could not find price\n",
      "\n",
      "Trying Amazon Web Services, Price per chip-hour (on-demand)\n",
      "Could not find price\n",
      "\n",
      "Trying Microsoft Azure, Price per chip-hour (on-demand)\n",
      "Could not find price\n",
      "\n",
      "Trying Google Cloud, Price per chip-hour (on-demand)\n",
      "Could not find price\n",
      "\n",
      "==== System: ChatGLM3 ====\n",
      "Training time is required but no value found\n",
      "\n",
      "==== System: XGen-7B ====\n",
      "Training time is required but no value found\n",
      "\n",
      "==== System: Falcon 180B ====\n",
      "Trying NVIDIA A100 SXM4 40 GB at 2023-01-09 00:00:00\n",
      "Trying Amazon Web Services, Price per chip-hour (3-year CUD)\n",
      "Found price: 1.45 at 2022-12-09 00:00:00\n",
      "Difference between purchase time and price date: 31 days 00:00:00 \n",
      "\n",
      "==== System: Jais ====\n",
      "Could not find hardware model for Jais\n",
      "\n",
      "\n",
      "==== System: Llama 2-70B ====\n",
      "Trying NVIDIA A100 SXM4 80 GB at 2023-02-18 00:00:00\n",
      "Trying Amazon Web Services, Price per chip-hour (3-year CUD)\n",
      "Found price: 1.81 at 2022-12-09 00:00:00\n",
      "Difference between purchase time and price date: 71 days 00:00:00 \n",
      "\n",
      "==== System: Llama 2-7B ====\n",
      "Training time is required but no value found\n",
      "\n",
      "==== System: Claude 2 ====\n",
      "Training time is required but no value found\n",
      "\n",
      "==== System: Pangu-Weather ====\n",
      "Training time is required but no value found\n",
      "\n",
      "==== System: PaLM 2 ====\n",
      "Training time is required but no value found\n",
      "\n",
      "==== System: StarCoder ====\n",
      "Training time is required but no value found\n",
      "\n",
      "==== System: WizardLM-7B ====\n",
      "Training time is required but no value found\n",
      "\n",
      "==== System: BloombergGPT ====\n",
      "Trying NVIDIA A100 at 2022-12-07 02:00:00\n",
      "Trying Amazon Web Services, Price per chip-hour (3-year CUD)\n",
      "Found price: 1.45 at 2021-06-15 00:00:00\n",
      "Difference between purchase time and price date: 540 days 02:00:00 \n",
      "\n",
      "==== System: PanGu-Σ ====\n",
      "Trying Huawei Ascend 910 at 2022-10-11 00:00:00\n",
      "Trying Amazon Web Services, Price per chip-hour (3-year CUD)\n",
      "Could not find price\n",
      "\n",
      "Trying Microsoft Azure, Price per chip-hour (3-year CUD)\n",
      "Could not find price\n",
      "\n",
      "Trying Google Cloud, Price per chip-hour (3-year CUD)\n",
      "Could not find price\n",
      "\n",
      "Trying Amazon Web Services, Price per chip-hour (1-year CUD)\n",
      "Could not find price\n",
      "\n",
      "Trying Microsoft Azure, Price per chip-hour (1-year CUD)\n",
      "Could not find price\n",
      "\n",
      "Trying Google Cloud, Price per chip-hour (1-year CUD)\n",
      "Could not find price\n",
      "\n",
      "Trying Amazon Web Services, Price per chip-hour (on-demand)\n",
      "Could not find price\n",
      "\n",
      "Trying Microsoft Azure, Price per chip-hour (on-demand)\n",
      "Could not find price\n",
      "\n",
      "Trying Google Cloud, Price per chip-hour (on-demand)\n",
      "Could not find price\n",
      "\n",
      "==== System: GPT-4 ====\n",
      "Trying NVIDIA A100 SXM4 40 GB at 2022-10-11 00:00:00\n",
      "Trying Microsoft Azure, Price per chip-hour (3-year CUD)\n",
      "Soft matching NVIDIA A100 SXM4 40 GB to NVIDIA A100\n",
      "Found price: 1.36 at 2021-08-13 00:00:00\n",
      "Difference between purchase time and price date: 424 days 00:00:00 \n",
      "\n",
      "==== System: Falcon-40B ====\n",
      "Trying NVIDIA A100 at 2022-11-15 00:00:00\n",
      "Trying Amazon Web Services, Price per chip-hour (3-year CUD)\n",
      "Found price: 1.45 at 2021-06-15 00:00:00\n",
      "Difference between purchase time and price date: 518 days 00:00:00 \n",
      "\n",
      "==== System: LLaMA-65B ====\n",
      "Trying NVIDIA A100 at 2022-12-05 04:00:00\n",
      "Trying Amazon Web Services, Price per chip-hour (3-year CUD)\n",
      "Found price: 1.45 at 2021-06-15 00:00:00\n",
      "Difference between purchase time and price date: 538 days 04:00:00 \n",
      "\n",
      "==== System: LLaMA-7B ====\n",
      "Training time is required but no value found\n",
      "\n",
      "==== System: GPT-3.5 (text-davinci-003) ====\n",
      "Training time is required but no value found\n",
      "\n",
      "==== System: Galactica ====\n",
      "Training time is required but no value found\n",
      "\n",
      "==== System: BLOOM-176B ====\n",
      "Training time is required but no value found\n",
      "\n",
      "==== System: Taiyi-Stable Diffusion ====\n",
      "Trying NVIDIA A100 at 2022-08-27 20:00:00\n",
      "Trying Amazon Web Services, Price per chip-hour (3-year CUD)\n",
      "Found price: 1.45 at 2021-06-15 00:00:00\n",
      "Difference between purchase time and price date: 438 days 20:00:00 \n",
      "\n",
      "==== System: U-PaLM (540B) ====\n",
      "Trying Google TPU v4 at 2022-08-16 00:00:00\n",
      "Trying Google Cloud, Price per chip-hour (3-year CUD)\n",
      "Found price: 1.45 at 2022-05-11 00:00:00\n",
      "Difference between purchase time and price date: 97 days 00:00:00 \n",
      "\n",
      "==== System: Whisper ====\n",
      "Training time is required but no value found\n",
      "\n",
      "==== System: PaLI ====\n",
      "Trying Google TPU v4 at 2022-07-09 00:00:00\n",
      "Trying Google Cloud, Price per chip-hour (3-year CUD)\n",
      "Found price: 1.45 at 2022-05-11 00:00:00\n",
      "Difference between purchase time and price date: 59 days 00:00:00 \n",
      "\n",
      "==== System: BlenderBot 3 ====\n",
      "Training time is required but no value found\n",
      "\n",
      "==== System: GLM-130B ====\n",
      "Trying NVIDIA A100 SXM4 40 GB at 2022-04-06 00:00:00\n",
      "Trying Amazon Web Services, Price per chip-hour (3-year CUD)\n",
      "Found price: 1.45 at 2022-02-26 00:00:00\n",
      "Difference between purchase time and price date: 39 days 00:00:00 \n",
      "\n",
      "==== System: AlexaTM 20B ====\n",
      "Could not find hardware model for AlexaTM 20B\n",
      "\n",
      "\n",
      "==== System: ESM2-15B ====\n",
      "Could not find hardware model for ESM2-15B\n",
      "\n",
      "\n",
      "==== System: NLLB ====\n",
      "Training time is required but no value found\n",
      "\n",
      "==== System: Minerva (540B) ====\n",
      "Trying Google TPU v4 at 2022-04-01 00:00:00\n",
      "Trying Google Cloud, Price per chip-hour (3-year CUD)\n",
      "Found price: 1.45 at 2022-05-11 00:00:00\n",
      "Difference between purchase time and price date: -40 days +00:00:00 \n",
      "\n",
      "==== System: Parti ====\n",
      "Training time is required but no value found\n",
      "\n",
      "==== System: CoCa ====\n",
      "Trying Google TPU v4 at 2022-04-10 00:00:00\n",
      "Trying Google Cloud, Price per chip-hour (3-year CUD)\n",
      "Found price: 1.45 at 2022-05-11 00:00:00\n",
      "Difference between purchase time and price date: -31 days +00:00:00 \n",
      "\n",
      "==== System: Imagen ====\n",
      "Training time is required but no value found\n",
      "\n",
      "==== System: UL2 ====\n",
      "Training time is required but no value found\n",
      "\n",
      "==== System: OPT-175B ====\n",
      "Trying NVIDIA A100 SXM4 80 GB at 2022-01-28 23:00:00\n",
      "Trying Amazon Web Services, Price per chip-hour (3-year CUD)\n",
      "Found price: 1.81 at 2022-08-19 00:00:00\n",
      "Difference between purchase time and price date: -203 days +23:00:00 \n",
      "\n",
      "==== System: Flamingo ====\n",
      "Trying Google TPU v4 at 2022-02-13 00:00:00\n",
      "Trying Google Cloud, Price per chip-hour (3-year CUD)\n",
      "Found price: 1.45 at 2022-05-11 00:00:00\n",
      "Difference between purchase time and price date: -87 days +00:00:00 \n",
      "\n",
      "==== System: Stable Diffusion (LDM-KL-8-G) ====\n",
      "Training time is required but no value found\n",
      "\n",
      "==== System: PaLM (540B) ====\n",
      "Trying Google TPU v4 at 2021-12-08 00:00:00\n",
      "Trying Google Cloud, Price per chip-hour (3-year CUD)\n",
      "Found price: 1.45 at 2022-05-11 00:00:00\n",
      "Difference between purchase time and price date: -154 days +00:00:00 \n",
      "\n",
      "==== System: Chinchilla ====\n",
      "Training time is required but no value found\n",
      "\n",
      "==== System: LaMDA ====\n",
      "Trying Google TPU v3 at 2021-10-15 07:00:00\n",
      "Trying Google Cloud, Price per chip-hour (3-year CUD)\n",
      "Found price: 0.9 at 2021-10-08 00:00:00\n",
      "Difference between purchase time and price date: 7 days 07:00:00 \n",
      "\n",
      "==== System: GPT-NeoX-20B ====\n",
      "Trying NVIDIA A100 SXM4 40 GB at 2021-09-12 00:00:00\n",
      "Trying Amazon Web Services, Price per chip-hour (3-year CUD)\n",
      "Found price: 1.45 at 2021-11-04 00:00:00\n",
      "Difference between purchase time and price date: -53 days +00:00:00 \n",
      "\n",
      "==== System: AlphaCode ====\n",
      "Training time is required but no value found\n",
      "\n",
      "==== System: ERNIE 3.0 Titan ====\n",
      "Training time is required but no value found\n",
      "\n",
      "==== System: XGLM-7.5B ====\n",
      "Trying NVIDIA A100 at 2021-09-30 00:00:00\n",
      "Trying Amazon Web Services, Price per chip-hour (3-year CUD)\n",
      "Found price: 1.45 at 2021-06-15 00:00:00\n",
      "Difference between purchase time and price date: 107 days 00:00:00 \n",
      "\n",
      "==== System: GLaM ====\n",
      "Trying Google TPU v4 at 2021-08-18 02:00:00\n",
      "Trying Google Cloud, Price per chip-hour (3-year CUD)\n",
      "Found price: 1.45 at 2022-05-11 00:00:00\n",
      "Difference between purchase time and price date: -266 days +02:00:00 \n",
      "\n",
      "==== System: Gopher (280B) ====\n",
      "Trying Google TPU v3 at 2021-08-31 16:00:00\n",
      "Trying Google Cloud, Price per chip-hour (3-year CUD)\n",
      "Found price: 0.9 at 2021-03-07 00:00:00\n",
      "Difference between purchase time and price date: 177 days 16:00:00 \n",
      "\n",
      "==== System: Florence ====\n",
      "Trying NVIDIA A100 SXM4 40 GB at 2021-09-13 00:00:00\n",
      "Trying Microsoft Azure, Price per chip-hour (3-year CUD)\n",
      "Soft matching NVIDIA A100 SXM4 40 GB to NVIDIA A100\n",
      "Found price: 1.36 at 2021-08-13 00:00:00\n",
      "Difference between purchase time and price date: 31 days 00:00:00 \n",
      "\n",
      "==== System: BASIC-L ====\n",
      "Training time is required but no value found\n",
      "\n",
      "==== System: T0-XXL ====\n",
      "Training time is required but no value found\n",
      "\n",
      "==== System: Yuan 1.0 ====\n",
      "Training time is required but no value found\n",
      "\n",
      "==== System: Megatron-Turing NLG 530B ====\n",
      "Trying NVIDIA A100 SXM4 80 GB at 2021-07-10 22:00:00\n",
      "Trying Microsoft Azure, Price per chip-hour (3-year CUD)\n",
      "Found price: 1.8 at 2022-04-15 00:00:00\n",
      "Difference between purchase time and price date: -279 days +22:00:00 \n",
      "\n",
      "==== System: HyperCLOVA ====\n",
      "Trying NVIDIA A100 at 2021-06-15 05:00:00\n",
      "Trying Amazon Web Services, Price per chip-hour (3-year CUD)\n",
      "Found price: 1.45 at 2021-06-15 00:00:00\n",
      "Difference between purchase time and price date: 0 days 05:00:00 \n",
      "\n",
      "==== System: FLAN 137B ====\n",
      "Training time is required but no value found\n",
      "\n",
      "==== System: GOAT ====\n",
      "Training time is required but no value found\n",
      "\n",
      "==== System: ERNIE 3.0 ====\n",
      "Training time is required but no value found\n",
      "\n",
      "==== System: ALIGN ====\n",
      "Trying Google TPU v3 at 2021-03-28 13:00:00\n",
      "Trying Google Cloud, Price per chip-hour (3-year CUD)\n",
      "Found price: 0.9 at 2021-03-07 00:00:00\n",
      "Difference between purchase time and price date: 21 days 13:00:00 \n",
      "\n",
      "==== System: DeBERTa ====\n",
      "Training time is required but no value found\n",
      "\n",
      "==== System: CoAtNet ====\n",
      "Training time is required but no value found\n",
      "\n",
      "==== System: ByT5-XXL ====\n",
      "Training time is required but no value found\n",
      "\n",
      "==== System: CogView ====\n",
      "Training time is required but no value found\n",
      "\n",
      "==== System: ProtT5-XXL ====\n",
      "Training time is required but no value found\n",
      "\n",
      "==== System: ProtT5-XXL-BFD ====\n",
      "Training time is required but no value found\n",
      "\n",
      "==== System: ProtBERT-BFD ====\n",
      "Training time is required but no value found\n",
      "\n",
      "==== System: PLUG ====\n",
      "Training time is required but no value found\n",
      "\n",
      "==== System: M6-T ====\n",
      "Training time is required but no value found\n",
      "\n",
      "==== System: Meta Pseudo Labels ====\n",
      "Trying Google TPU v3 at 2020-12-20 00:00:00\n",
      "Trying Google Cloud, Price per chip-hour (3-year CUD)\n",
      "Found price: 0.9 at 2020-12-02 00:00:00\n",
      "Difference between purchase time and price date: 18 days 00:00:00 \n",
      "\n",
      "==== System: MSA Transformer ====\n",
      "Training time is required but no value found\n",
      "\n",
      "==== System: Switch ====\n",
      "Trying Google TPU v3 at 2020-10-16 00:00:00\n",
      "Trying Google Cloud, Price per chip-hour (3-year CUD)\n",
      "Found price: 0.9 at 2019-12-06 00:00:00\n",
      "Difference between purchase time and price date: 315 days 00:00:00 \n",
      "\n",
      "==== System: DALL-E ====\n",
      "Training time is required but no value found\n",
      "\n",
      "==== System: CLIP (ViT L/14@336px) ====\n",
      "Training time is required but no value found\n",
      "\n",
      "==== System: ViT-Huge/14 ====\n",
      "Training time is required but no value found\n",
      "\n",
      "==== System: Conformer + Wav2vec 2.0 + Noisy Student ====\n",
      "Trying Google TPU v3 at 2020-08-14 00:00:00\n",
      "Trying Google Cloud, Price per chip-hour (3-year CUD)\n",
      "Found price: 0.9 at 2019-12-06 00:00:00\n",
      "Difference between purchase time and price date: 252 days 00:00:00 \n",
      "\n",
      "==== System: mT5-XXL ====\n",
      "Training time is required but no value found\n",
      "\n",
      "==== System: GShard (dense) ====\n",
      "Trying Google TPU v3 at 2020-03-20 00:00:00\n",
      "Trying Google Cloud, Price per chip-hour (3-year CUD)\n",
      "Found price: 0.9 at 2019-12-06 00:00:00\n",
      "Difference between purchase time and price date: 105 days 00:00:00 \n",
      "\n",
      "==== System: iGPT-XL ====\n",
      "Training time is required but no value found\n",
      "\n",
      "==== System: iGPT-L ====\n",
      "Training time is required but no value found\n",
      "\n",
      "==== System: GPT-3 175B (davinci) ====\n",
      "Trying NVIDIA Tesla V100 DGXS 32 GB at 2020-03-14 05:00:00\n",
      "Trying Microsoft Azure, Price per chip-hour (3-year CUD)\n",
      "Soft matching NVIDIA Tesla V100 DGXS 32 GB to NVIDIA V100\n",
      "Found price: 1.16 at 2020-03-09 00:00:00\n",
      "Difference between purchase time and price date: 5 days 05:00:00 \n",
      "\n",
      "==== System: Once for All ====\n",
      "Training time is required but no value found\n",
      "\n",
      "==== System: ELECTRA ====\n",
      "Training time is required but no value found\n",
      "\n",
      "==== System: Turing-NLG ====\n",
      "Training time is required but no value found\n",
      "\n",
      "==== System: ALBERT-xxlarge ====\n",
      "Training time is required but no value found\n",
      "\n",
      "==== System: Meena ====\n",
      "Trying Google TPU v3 at 2019-10-30 00:00:00\n",
      "Trying Google Cloud, Price per chip-hour (3-year CUD)\n",
      "Found price: 0.9 at 2019-08-31 00:00:00\n",
      "Difference between purchase time and price date: 60 days 00:00:00 \n",
      "\n",
      "==== System: ContextNet + Noisy Student ====\n",
      "Trying Google TPU v3 at 2019-11-10 00:00:00\n",
      "Trying Google Cloud, Price per chip-hour (3-year CUD)\n",
      "Found price: 0.9 at 2019-08-31 00:00:00\n",
      "Difference between purchase time and price date: 71 days 00:00:00 \n",
      "\n",
      "==== System: DD-PPO ====\n",
      "Trying NVIDIA V100 at 2019-10-17 06:00:00\n",
      "Trying Amazon Web Services, Price per chip-hour (3-year CUD)\n",
      "Could not find price\n",
      "\n",
      "Trying Microsoft Azure, Price per chip-hour (3-year CUD)\n",
      "Found price: 1.16 at 2019-09-22 00:00:00\n",
      "Difference between purchase time and price date: 25 days 06:00:00 \n",
      "\n",
      "==== System: OpenAI Five ====\n",
      "Could not find hardware model for OpenAI Five\n",
      "\n",
      "\n",
      "==== System: OpenAI Five Rerun ====\n",
      "Training time is required but no value found\n",
      "\n",
      "==== System: Noisy Student (L2) ====\n",
      "Could not find hardware model for Noisy Student (L2)\n",
      "\n",
      "\n",
      "==== System: AlphaStar ====\n",
      "Trying Google TPU v3 at 2019-07-18 00:00:00\n",
      "Trying Google Cloud, Price per chip-hour (3-year CUD)\n",
      "Found price: 0.9 at 2019-07-01 00:00:00\n",
      "Difference between purchase time and price date: 17 days 00:00:00 \n",
      "\n",
      "==== System: T5-3B ====\n",
      "Training time is required but no value found\n",
      "\n",
      "==== System: T5-11B ====\n",
      "Trying Google TPU v3 at 2019-08-03 23:00:00\n",
      "Trying Google Cloud, Price per chip-hour (3-year CUD)\n",
      "Found price: 0.9 at 2019-07-28 00:00:00\n",
      "Difference between purchase time and price date: 6 days 23:00:00 \n",
      "\n",
      "==== System: Megatron-BERT ====\n",
      "Trying NVIDIA Tesla V100S PCIe 32 GB at 2019-05-22 00:00:00\n",
      "Trying Amazon Web Services, Price per chip-hour (3-year CUD)\n",
      "Soft matching NVIDIA Tesla V100S PCIe 32 GB to NVIDIA V100\n",
      "Found price: 1.16 at 2019-08-06 00:00:00\n",
      "Difference between purchase time and price date: -76 days +00:00:00 \n",
      "\n",
      "==== System: Megatron-LM (8.3B) ====\n",
      "Trying NVIDIA Tesla V100 DGXS 32 GB at 2019-07-05 09:00:00\n",
      "Trying Amazon Web Services, Price per chip-hour (3-year CUD)\n",
      "Found price: 1.21 at 2019-06-10 00:00:00\n",
      "Difference between purchase time and price date: 25 days 09:00:00 \n",
      "\n",
      "==== System: RoBERTa Large ====\n",
      "Trying NVIDIA Tesla V100 DGXS 32 GB at 2019-04-27 00:00:00\n",
      "Trying Amazon Web Services, Price per chip-hour (3-year CUD)\n",
      "Found price: 1.21 at 2019-04-05 00:00:00\n",
      "Difference between purchase time and price date: 22 days 00:00:00 \n",
      "\n",
      "==== System: MnasNet-A3 ====\n",
      "Training time is required but no value found\n",
      "\n",
      "==== System: MnasNet-A1 + SSDLite ====\n",
      "Training time is required but no value found\n",
      "\n",
      "==== System: BERT-Large-CAS (PTB+WT2+WT103) ====\n",
      "Training time is required but no value found\n",
      "\n",
      "==== System: SciBERT ====\n",
      "Trying Google TPU v3 at 2019-01-18 00:00:00\n",
      "Trying Google Cloud, Price per chip-hour (3-year CUD)\n",
      "Could not find price\n",
      "\n",
      "Trying Google Cloud, Price per chip-hour (1-year CUD)\n",
      "Could not find price\n",
      "\n",
      "Trying Google Cloud, Price per chip-hour (on-demand)\n",
      "Applying CUD: 2.0 * 0.43999999999999995 = 0.8799999999999999\n",
      "Found price: 0.8799999999999999 at 2018-10-11 00:00:00\n",
      "Difference between purchase time and price date: 99 days 00:00:00 \n",
      "\n",
      "==== System: ProxylessNAS ====\n",
      "Training time is required but no value found\n",
      "\n",
      "==== System: GPT-2 (1.5B) ====\n",
      "Training time is required but no value found\n",
      "\n",
      "==== System: BERT-Large ====\n",
      "Trying Google TPU v2 at 2018-08-08 00:00:00\n",
      "Trying Google Cloud, Price per chip-hour (3-year CUD)\n",
      "Could not find price\n",
      "\n",
      "Trying Google Cloud, Price per chip-hour (1-year CUD)\n",
      "Could not find price\n",
      "\n",
      "Trying Google Cloud, Price per chip-hour (on-demand)\n",
      "Applying CUD: 1.13 * 0.43999999999999995 = 0.4971999999999999\n",
      "Found price: 0.4971999999999999 at 2018-10-09 00:00:00\n",
      "Difference between purchase time and price date: -62 days +00:00:00 \n",
      "\n",
      "==== System: BigGAN-deep 512x512 ====\n",
      "Trying Google TPU v3 at 2018-07-28 00:00:00\n",
      "Trying Google Cloud, Price per chip-hour (3-year CUD)\n",
      "Could not find price\n",
      "\n",
      "Trying Google Cloud, Price per chip-hour (1-year CUD)\n",
      "Could not find price\n",
      "\n",
      "Trying Google Cloud, Price per chip-hour (on-demand)\n",
      "Applying CUD: 2.0 * 0.43999999999999995 = 0.8799999999999999\n",
      "Found price: 0.8799999999999999 at 2018-10-11 00:00:00\n",
      "Difference between purchase time and price date: -75 days +00:00:00 \n",
      "\n",
      "==== System: Transformer (Adaptive Input Embeddings) ====\n",
      "Trying NVIDIA V100 at 2018-07-27 05:00:00\n",
      "Trying Amazon Web Services, Price per chip-hour (3-year CUD)\n",
      "Could not find price\n",
      "\n",
      "Trying Microsoft Azure, Price per chip-hour (3-year CUD)\n",
      "Found price: 1.16 at 2019-08-06 00:00:00\n",
      "Difference between purchase time and price date: -375 days +05:00:00 \n",
      "\n",
      "==== System: Transformer + Simple Recurrent Unit ====\n",
      "Trying NVIDIA V100 at 2018-07-15 12:00:00\n",
      "Trying Google Cloud, Price per chip-hour (3-year CUD)\n",
      "Could not find price\n",
      "\n",
      "Trying Amazon Web Services, Price per chip-hour (3-year CUD)\n",
      "Could not find price\n",
      "\n",
      "Trying Microsoft Azure, Price per chip-hour (3-year CUD)\n",
      "Found price: 1.16 at 2019-08-06 00:00:00\n",
      "Difference between purchase time and price date: -387 days +12:00:00 \n",
      "\n",
      "==== System: Big Transformer for Back-Translation ====\n",
      "Trying NVIDIA V100 at 2018-06-27 21:00:00\n",
      "Trying Google Cloud, Price per chip-hour (3-year CUD)\n",
      "Could not find price\n",
      "\n",
      "Trying Amazon Web Services, Price per chip-hour (3-year CUD)\n",
      "Could not find price\n",
      "\n",
      "Trying Microsoft Azure, Price per chip-hour (3-year CUD)\n",
      "Found price: 1.16 at 2019-08-06 00:00:00\n",
      "Difference between purchase time and price date: -405 days +21:00:00 \n",
      "\n",
      "==== System: FTW ====\n",
      "Training time is required but no value found\n",
      "\n",
      "==== System: Population-based DRL ====\n",
      "Training time is required but no value found\n",
      "\n",
      "==== System: GPT ====\n",
      "Training time is required but no value found\n",
      "\n",
      "==== System: ResNeXt-101 32x48d ====\n",
      "Training time is required but no value found\n",
      "\n",
      "==== System: YOLOv3 ====\n",
      "Training time is required but no value found\n",
      "\n",
      "==== System: LSTM (Hebbian, Cache, MbPA) ====\n",
      "Training time is required but no value found\n",
      "\n",
      "==== System: AmoebaNet-A (F=448) ====\n",
      "Trying NVIDIA Tesla K40s at 2017-11-30 00:00:00\n",
      "Trying Google Cloud, Price per chip-hour (3-year CUD)\n",
      "Could not find price\n",
      "\n",
      "Trying Amazon Web Services, Price per chip-hour (3-year CUD)\n",
      "Could not find price\n",
      "\n",
      "Trying Microsoft Azure, Price per chip-hour (3-year CUD)\n",
      "Could not find price\n",
      "\n",
      "Trying Google Cloud, Price per chip-hour (1-year CUD)\n",
      "Could not find price\n",
      "\n",
      "Trying Amazon Web Services, Price per chip-hour (1-year CUD)\n",
      "Could not find price\n",
      "\n",
      "Trying Microsoft Azure, Price per chip-hour (1-year CUD)\n",
      "Could not find price\n",
      "\n",
      "Trying Google Cloud, Price per chip-hour (on-demand)\n",
      "Could not find price\n",
      "\n",
      "Trying Amazon Web Services, Price per chip-hour (on-demand)\n",
      "Could not find price\n",
      "\n",
      "Trying Microsoft Azure, Price per chip-hour (on-demand)\n",
      "Could not find price\n",
      "\n",
      "==== System: IMPALA ====\n",
      "Trying NVIDIA P100 at 2017-12-02 20:00:00\n",
      "Trying Google Cloud, Price per chip-hour (3-year CUD)\n",
      "Could not find price\n",
      "\n",
      "Trying Amazon Web Services, Price per chip-hour (3-year CUD)\n",
      "Could not find price\n",
      "\n",
      "Trying Microsoft Azure, Price per chip-hour (3-year CUD)\n",
      "Found price: 1.28 at 2024-01-29 00:00:00\n",
      "Difference between purchase time and price date: -2249 days +20:00:00 \n",
      "\n",
      "==== System: AlphaZero ====\n",
      "Training time is required but no value found\n",
      "\n",
      "==== System: PNASNet-5 ====\n",
      "Training time is required but no value found\n",
      "\n",
      "==== System: AlphaGo Zero ====\n",
      "Trying Google TPU v1 at 2017-07-30 00:00:00\n",
      "Trying Google Cloud, Price per chip-hour (3-year CUD)\n",
      "Could not find price\n",
      "\n",
      "Trying Google Cloud, Price per chip-hour (1-year CUD)\n",
      "Could not find price\n",
      "\n",
      "Trying Google Cloud, Price per chip-hour (on-demand)\n",
      "Could not find price\n",
      "\n",
      "==== System: OpenAI TI7 DOTA 1v1 ====\n",
      "Training time is required but no value found\n",
      "\n",
      "==== System: JFT ====\n",
      "Trying NVIDIA Tesla K80 at 2017-03-12 00:00:00\n",
      "Trying Google Cloud, Price per chip-hour (3-year CUD)\n",
      "Could not find price\n",
      "\n",
      "Trying Amazon Web Services, Price per chip-hour (3-year CUD)\n",
      "Found price: 0.43 at 2017-02-10 00:00:00\n",
      "Difference between purchase time and price date: 30 days 00:00:00 \n",
      "\n",
      "==== System: Transformer ====\n",
      "Training time is required but no value found\n",
      "\n",
      "==== System: MoE ====\n",
      "Training time is required but no value found\n",
      "\n",
      "==== System: DeepStack ====\n",
      "Training time is required but no value found\n",
      "\n",
      "==== System: Libratus ====\n",
      "Training time is required but no value found\n",
      "\n",
      "==== System: AlphaGo Master ====\n",
      "Training time is required but no value found\n",
      "\n",
      "==== System: PolyNet ====\n",
      "Training time is required but no value found\n",
      "\n",
      "==== System: NASv3 (CIFAR-10) ====\n",
      "Training time is required but no value found\n",
      "\n",
      "==== System: BIDAF ====\n",
      "Trying NVIDIA GTX Titan X at 2016-09-03 12:00:00\n",
      "Trying Amazon Web Services, Price per chip-hour (3-year CUD)\n",
      "Could not find price\n",
      "\n",
      "Trying Microsoft Azure, Price per chip-hour (3-year CUD)\n",
      "Could not find price\n",
      "\n",
      "Trying Google Cloud, Price per chip-hour (3-year CUD)\n",
      "Could not find price\n",
      "\n",
      "Trying Amazon Web Services, Price per chip-hour (1-year CUD)\n",
      "Could not find price\n",
      "\n",
      "Trying Microsoft Azure, Price per chip-hour (1-year CUD)\n",
      "Could not find price\n",
      "\n",
      "Trying Google Cloud, Price per chip-hour (1-year CUD)\n",
      "Could not find price\n",
      "\n",
      "Trying Amazon Web Services, Price per chip-hour (on-demand)\n",
      "Could not find price\n",
      "\n",
      "Trying Microsoft Azure, Price per chip-hour (on-demand)\n",
      "Could not find price\n",
      "\n",
      "Trying Google Cloud, Price per chip-hour (on-demand)\n",
      "Could not find price\n",
      "\n",
      "==== System: Xception ====\n",
      "Training time is required but no value found\n",
      "\n",
      "==== System: GNMT ====\n",
      "Trying NVIDIA Tesla K80 at 2016-01-30 00:00:00\n",
      "Trying Google Cloud, Price per chip-hour (3-year CUD)\n",
      "Could not find price\n",
      "\n",
      "Trying Amazon Web Services, Price per chip-hour (3-year CUD)\n",
      "Found price: 0.43 at 2017-02-10 00:00:00\n",
      "Difference between purchase time and price date: -377 days +00:00:00 \n",
      "\n",
      "==== System: AlphaGo Lee ====\n",
      "Training time is required but no value found\n",
      "\n",
      "==== System: ResNet-152 (ImageNet) ====\n",
      "Training time is required but no value found\n",
      "\n",
      "==== System: DeepSpeech2 (English) ====\n",
      "Training time is required but no value found\n",
      "\n",
      "==== System: AlphaGo Fan ====\n",
      "Training time is required but no value found\n",
      "\n",
      "{'Gemini Ultra': 191400000.0, 'Falcon 180B': 25657344.0, 'Llama 2-70B': 3909600.0, 'GPT-4': 77520000.0, 'LLaMA-65B': 1484800.0, 'U-PaLM (540B)': 12276326.4, 'GLM-130B': 1603584.0, 'Minerva (540B)': 13220659.200000001, 'OPT-175B': 1470704.6400000001, 'Flamingo': 801792.0, 'PaLM (540B)': 12187238.4, 'LaMDA': 1276416.0, 'GPT-NeoX-20B': 300672.0, 'XGLM-7.5B': 187084.8, 'GLaM': 2028236.8, 'Gopher (280B)': 3391488.0, 'Megatron-Turing NLG 530B': 6209280.0, 'HyperCLOVA': 955023.36, 'ALIGN': 160035.84, 'Meta Pseudo Labels': 243302.4, 'Switch': 597196.8, 'GShard (dense)': 928972.8, 'GPT-3 175B (davinci)': 4120319.9999999995, 'Meena': 663552.0, 'AlphaStar': 364953.60000000003, 'T5-11B': 222059.52, 'Megatron-BERT': 826736.6399999999, 'Megatron-LM (8.3B)': 202583.04, 'RoBERTa Large': 148684.8, 'SciBERT': 591.3599999999999, 'BERT-Large': 3054.7967999999996, 'BigGAN-deep 512x512': 10813.439999999999, 'Big Transformer for Back-Translation': 4112.896, 'IMPALA': 128.0, 'JFT': 30960.0, 'GNMT': 178329.6}\n"
     ]
    }
   ],
   "source": [
    "cost_df = estimate_costs(frontier_pcd_df, hardware_df, price_df)"
   ]
  },
  {
   "cell_type": "code",
   "execution_count": 10,
   "metadata": {},
   "outputs": [
    {
     "data": {
      "text/html": [
       "<div>\n",
       "<style scoped>\n",
       "    .dataframe tbody tr th:only-of-type {\n",
       "        vertical-align: middle;\n",
       "    }\n",
       "\n",
       "    .dataframe tbody tr th {\n",
       "        vertical-align: top;\n",
       "    }\n",
       "\n",
       "    .dataframe thead th {\n",
       "        text-align: right;\n",
       "    }\n",
       "</style>\n",
       "<table border=\"1\" class=\"dataframe\">\n",
       "  <thead>\n",
       "    <tr style=\"text-align: right;\">\n",
       "      <th></th>\n",
       "      <th>System</th>\n",
       "      <th>Domain</th>\n",
       "      <th>Task</th>\n",
       "      <th>Authors</th>\n",
       "      <th>Notability criteria</th>\n",
       "      <th>Notability criteria notes</th>\n",
       "      <th>Open-source</th>\n",
       "      <th>Link</th>\n",
       "      <th>Citations</th>\n",
       "      <th>Reference</th>\n",
       "      <th>...</th>\n",
       "      <th>Training data center</th>\n",
       "      <th>Archived links</th>\n",
       "      <th>Batch size</th>\n",
       "      <th>Batch size notes</th>\n",
       "      <th>Organization categorization</th>\n",
       "      <th>Foundation model</th>\n",
       "      <th>Training compute lower bound</th>\n",
       "      <th>Training compute upper bound</th>\n",
       "      <th>Training time (chip hours)</th>\n",
       "      <th>Cost</th>\n",
       "    </tr>\n",
       "  </thead>\n",
       "  <tbody>\n",
       "    <tr>\n",
       "      <th>36</th>\n",
       "      <td>Gemini Ultra</td>\n",
       "      <td>Multimodal</td>\n",
       "      <td>Language modelling,Visual question answering,C...</td>\n",
       "      <td>Gemini Team</td>\n",
       "      <td>SOTA improvement</td>\n",
       "      <td>\" Evaluation on a broad range of benchmarks sh...</td>\n",
       "      <td>NaN</td>\n",
       "      <td>https://storage.googleapis.com/deepmind-media/...</td>\n",
       "      <td>252.0</td>\n",
       "      <td>Gemini: A Family of Highly Capable Multimodal ...</td>\n",
       "      <td>...</td>\n",
       "      <td>NaN</td>\n",
       "      <td>NaN</td>\n",
       "      <td>NaN</td>\n",
       "      <td>NaN</td>\n",
       "      <td>Industry</td>\n",
       "      <td>NaN</td>\n",
       "      <td>NaN</td>\n",
       "      <td>NaN</td>\n",
       "      <td>132000000.0</td>\n",
       "      <td>191400000.0</td>\n",
       "    </tr>\n",
       "    <tr>\n",
       "      <th>43</th>\n",
       "      <td>Qwen-72B</td>\n",
       "      <td>Language</td>\n",
       "      <td>Chat,Code generation</td>\n",
       "      <td>Jinze Bai, Shuai Bai, Yunfei Chu, Zeyu Cui, Ka...</td>\n",
       "      <td>SOTA improvement</td>\n",
       "      <td>SOTA on several Chinese benchmarks, with highe...</td>\n",
       "      <td>Permissive license</td>\n",
       "      <td>https://huggingface.co/Qwen/Qwen-72B</td>\n",
       "      <td>NaN</td>\n",
       "      <td>NaN</td>\n",
       "      <td>...</td>\n",
       "      <td>NaN</td>\n",
       "      <td>NaN</td>\n",
       "      <td>4000000.0</td>\n",
       "      <td>Table 1 https://arxiv.org/abs/2309.16609\\n(thi...</td>\n",
       "      <td>Industry</td>\n",
       "      <td>NaN</td>\n",
       "      <td>NaN</td>\n",
       "      <td>NaN</td>\n",
       "      <td>NaN</td>\n",
       "      <td>NaN</td>\n",
       "    </tr>\n",
       "    <tr>\n",
       "      <th>51</th>\n",
       "      <td>Inflection-2</td>\n",
       "      <td>Language</td>\n",
       "      <td>Language modelling</td>\n",
       "      <td>NaN</td>\n",
       "      <td>Significant use</td>\n",
       "      <td>Inflection-2 either already powers Pi or soon ...</td>\n",
       "      <td>API accessible</td>\n",
       "      <td>https://inflection.ai/inflection-2</td>\n",
       "      <td>NaN</td>\n",
       "      <td>Inflection-2: The Next Step Up</td>\n",
       "      <td>...</td>\n",
       "      <td>NaN</td>\n",
       "      <td>NaN</td>\n",
       "      <td>NaN</td>\n",
       "      <td>NaN</td>\n",
       "      <td>Industry</td>\n",
       "      <td>checked</td>\n",
       "      <td>NaN</td>\n",
       "      <td>NaN</td>\n",
       "      <td>NaN</td>\n",
       "      <td>NaN</td>\n",
       "    </tr>\n",
       "    <tr>\n",
       "      <th>55</th>\n",
       "      <td>Nemotron-3-8B</td>\n",
       "      <td>Language</td>\n",
       "      <td>Chat,Language Generation</td>\n",
       "      <td>NaN</td>\n",
       "      <td>SOTA improvement</td>\n",
       "      <td>\"The Nemotron-3-8B-QA model offers state-of-th...</td>\n",
       "      <td>Permissive license</td>\n",
       "      <td>https://developer.nvidia.com/blog/nvidia-ai-fo...</td>\n",
       "      <td>NaN</td>\n",
       "      <td>NVIDIA AI Foundation Models: Build Custom Ente...</td>\n",
       "      <td>...</td>\n",
       "      <td>NaN</td>\n",
       "      <td>NaN</td>\n",
       "      <td>NaN</td>\n",
       "      <td>NaN</td>\n",
       "      <td>Industry</td>\n",
       "      <td>NaN</td>\n",
       "      <td>NaN</td>\n",
       "      <td>NaN</td>\n",
       "      <td>NaN</td>\n",
       "      <td>NaN</td>\n",
       "    </tr>\n",
       "    <tr>\n",
       "      <th>72</th>\n",
       "      <td>CogVLM</td>\n",
       "      <td>Multimodal,Vision,Language</td>\n",
       "      <td>Image captioning,Visual question answering,Chat</td>\n",
       "      <td>Weihan Wang, Qingsong Lv, Wenmeng Yu, Wenyi Ho...</td>\n",
       "      <td>SOTA improvement</td>\n",
       "      <td>\"CogVLM-17B\\nachieves state-of-the-art perform...</td>\n",
       "      <td>Permissive license</td>\n",
       "      <td>https://arxiv.org/abs/2311.03079\\nhttps://hugg...</td>\n",
       "      <td>43.0</td>\n",
       "      <td>CogVLM: Visual Expert for Pretrained Language ...</td>\n",
       "      <td>...</td>\n",
       "      <td>NaN</td>\n",
       "      <td>NaN</td>\n",
       "      <td>NaN</td>\n",
       "      <td>NaN</td>\n",
       "      <td>Academia,Industry,Academia</td>\n",
       "      <td>checked</td>\n",
       "      <td>NaN</td>\n",
       "      <td>NaN</td>\n",
       "      <td>NaN</td>\n",
       "      <td>NaN</td>\n",
       "    </tr>\n",
       "    <tr>\n",
       "      <th>...</th>\n",
       "      <td>...</td>\n",
       "      <td>...</td>\n",
       "      <td>...</td>\n",
       "      <td>...</td>\n",
       "      <td>...</td>\n",
       "      <td>...</td>\n",
       "      <td>...</td>\n",
       "      <td>...</td>\n",
       "      <td>...</td>\n",
       "      <td>...</td>\n",
       "      <td>...</td>\n",
       "      <td>...</td>\n",
       "      <td>...</td>\n",
       "      <td>...</td>\n",
       "      <td>...</td>\n",
       "      <td>...</td>\n",
       "      <td>...</td>\n",
       "      <td>...</td>\n",
       "      <td>...</td>\n",
       "      <td>...</td>\n",
       "      <td>...</td>\n",
       "    </tr>\n",
       "    <tr>\n",
       "      <th>1090</th>\n",
       "      <td>GNMT</td>\n",
       "      <td>Language</td>\n",
       "      <td>Translation</td>\n",
       "      <td>Yonghui Wu, Mike Schuster, Zhifeng Chen, Quoc ...</td>\n",
       "      <td>Highly cited</td>\n",
       "      <td>NaN</td>\n",
       "      <td>NaN</td>\n",
       "      <td>https://arxiv.org/abs/1609.08144</td>\n",
       "      <td>6105.0</td>\n",
       "      <td>Google's Neural Machine Translation System: Br...</td>\n",
       "      <td>...</td>\n",
       "      <td>NaN</td>\n",
       "      <td>NaN</td>\n",
       "      <td>NaN</td>\n",
       "      <td>NaN</td>\n",
       "      <td>Industry</td>\n",
       "      <td>NaN</td>\n",
       "      <td>NaN</td>\n",
       "      <td>NaN</td>\n",
       "      <td>414720.0</td>\n",
       "      <td>178329.6</td>\n",
       "    </tr>\n",
       "    <tr>\n",
       "      <th>1126</th>\n",
       "      <td>AlphaGo Lee</td>\n",
       "      <td>Games</td>\n",
       "      <td>Go</td>\n",
       "      <td>David Silver, Aja Huang, Chris J. Maddison, Ar...</td>\n",
       "      <td>Highly cited</td>\n",
       "      <td>NaN</td>\n",
       "      <td>NaN</td>\n",
       "      <td>https://www.nature.com/articles/nature16961</td>\n",
       "      <td>14733.0</td>\n",
       "      <td>Mastering the game of Go with deep neural netw...</td>\n",
       "      <td>...</td>\n",
       "      <td>NaN</td>\n",
       "      <td>NaN</td>\n",
       "      <td>NaN</td>\n",
       "      <td>NaN</td>\n",
       "      <td>Industry</td>\n",
       "      <td>NaN</td>\n",
       "      <td>NaN</td>\n",
       "      <td>NaN</td>\n",
       "      <td>NaN</td>\n",
       "      <td>NaN</td>\n",
       "    </tr>\n",
       "    <tr>\n",
       "      <th>1130</th>\n",
       "      <td>ResNet-152 (ImageNet)</td>\n",
       "      <td>Vision</td>\n",
       "      <td>Image classification</td>\n",
       "      <td>Kaiming He, Xiangyu Zhang, Shaoqing Ren, Jian Sun</td>\n",
       "      <td>Highly cited</td>\n",
       "      <td>NaN</td>\n",
       "      <td>NaN</td>\n",
       "      <td>https://arxiv.org/abs/1512.03385</td>\n",
       "      <td>154061.0</td>\n",
       "      <td>Deep Residual Learning for Image Recognition</td>\n",
       "      <td>...</td>\n",
       "      <td>NaN</td>\n",
       "      <td>NaN</td>\n",
       "      <td>NaN</td>\n",
       "      <td>NaN</td>\n",
       "      <td>Industry</td>\n",
       "      <td>NaN</td>\n",
       "      <td>NaN</td>\n",
       "      <td>NaN</td>\n",
       "      <td>NaN</td>\n",
       "      <td>NaN</td>\n",
       "    </tr>\n",
       "    <tr>\n",
       "      <th>1132</th>\n",
       "      <td>DeepSpeech2 (English)</td>\n",
       "      <td>Speech</td>\n",
       "      <td>Speech recognition</td>\n",
       "      <td>Dario Amodei, Rishita Anubhai, Eric Battenberg...</td>\n",
       "      <td>Highly cited</td>\n",
       "      <td>NaN</td>\n",
       "      <td>NaN</td>\n",
       "      <td>https://arxiv.org/abs/1512.02595</td>\n",
       "      <td>2741.0</td>\n",
       "      <td>Deep Speech 2: End-to-End Speech Recognition i...</td>\n",
       "      <td>...</td>\n",
       "      <td>NaN</td>\n",
       "      <td>NaN</td>\n",
       "      <td>NaN</td>\n",
       "      <td>NaN</td>\n",
       "      <td>Industry</td>\n",
       "      <td>NaN</td>\n",
       "      <td>NaN</td>\n",
       "      <td>NaN</td>\n",
       "      <td>NaN</td>\n",
       "      <td>NaN</td>\n",
       "    </tr>\n",
       "    <tr>\n",
       "      <th>1136</th>\n",
       "      <td>AlphaGo Fan</td>\n",
       "      <td>Games</td>\n",
       "      <td>Go</td>\n",
       "      <td>David Silver, Aja Huang, Chris J. Maddison, Ar...</td>\n",
       "      <td>Highly cited,SOTA improvement</td>\n",
       "      <td>NaN</td>\n",
       "      <td>NaN</td>\n",
       "      <td>https://www.nature.com/articles/nature24270.ep...</td>\n",
       "      <td>14733.0</td>\n",
       "      <td>Mastering the game of Go with deep neural netw...</td>\n",
       "      <td>...</td>\n",
       "      <td>NaN</td>\n",
       "      <td>NaN</td>\n",
       "      <td>NaN</td>\n",
       "      <td>NaN</td>\n",
       "      <td>Industry</td>\n",
       "      <td>NaN</td>\n",
       "      <td>NaN</td>\n",
       "      <td>NaN</td>\n",
       "      <td>NaN</td>\n",
       "      <td>NaN</td>\n",
       "    </tr>\n",
       "  </tbody>\n",
       "</table>\n",
       "<p>138 rows × 54 columns</p>\n",
       "</div>"
      ],
      "text/plain": [
       "                     System                      Domain  \\\n",
       "36             Gemini Ultra                  Multimodal   \n",
       "43                 Qwen-72B                    Language   \n",
       "51             Inflection-2                    Language   \n",
       "55            Nemotron-3-8B                    Language   \n",
       "72                   CogVLM  Multimodal,Vision,Language   \n",
       "...                     ...                         ...   \n",
       "1090                   GNMT                    Language   \n",
       "1126            AlphaGo Lee                       Games   \n",
       "1130  ResNet-152 (ImageNet)                      Vision   \n",
       "1132  DeepSpeech2 (English)                      Speech   \n",
       "1136            AlphaGo Fan                       Games   \n",
       "\n",
       "                                                   Task  \\\n",
       "36    Language modelling,Visual question answering,C...   \n",
       "43                                 Chat,Code generation   \n",
       "51                                   Language modelling   \n",
       "55                             Chat,Language Generation   \n",
       "72      Image captioning,Visual question answering,Chat   \n",
       "...                                                 ...   \n",
       "1090                                        Translation   \n",
       "1126                                                 Go   \n",
       "1130                               Image classification   \n",
       "1132                                 Speech recognition   \n",
       "1136                                                 Go   \n",
       "\n",
       "                                                Authors  \\\n",
       "36                                          Gemini Team   \n",
       "43    Jinze Bai, Shuai Bai, Yunfei Chu, Zeyu Cui, Ka...   \n",
       "51                                                  NaN   \n",
       "55                                                  NaN   \n",
       "72    Weihan Wang, Qingsong Lv, Wenmeng Yu, Wenyi Ho...   \n",
       "...                                                 ...   \n",
       "1090  Yonghui Wu, Mike Schuster, Zhifeng Chen, Quoc ...   \n",
       "1126  David Silver, Aja Huang, Chris J. Maddison, Ar...   \n",
       "1130  Kaiming He, Xiangyu Zhang, Shaoqing Ren, Jian Sun   \n",
       "1132  Dario Amodei, Rishita Anubhai, Eric Battenberg...   \n",
       "1136  David Silver, Aja Huang, Chris J. Maddison, Ar...   \n",
       "\n",
       "                Notability criteria  \\\n",
       "36                 SOTA improvement   \n",
       "43                 SOTA improvement   \n",
       "51                  Significant use   \n",
       "55                 SOTA improvement   \n",
       "72                 SOTA improvement   \n",
       "...                             ...   \n",
       "1090                   Highly cited   \n",
       "1126                   Highly cited   \n",
       "1130                   Highly cited   \n",
       "1132                   Highly cited   \n",
       "1136  Highly cited,SOTA improvement   \n",
       "\n",
       "                              Notability criteria notes         Open-source  \\\n",
       "36    \" Evaluation on a broad range of benchmarks sh...                 NaN   \n",
       "43    SOTA on several Chinese benchmarks, with highe...  Permissive license   \n",
       "51    Inflection-2 either already powers Pi or soon ...      API accessible   \n",
       "55    \"The Nemotron-3-8B-QA model offers state-of-th...  Permissive license   \n",
       "72    \"CogVLM-17B\\nachieves state-of-the-art perform...  Permissive license   \n",
       "...                                                 ...                 ...   \n",
       "1090                                                NaN                 NaN   \n",
       "1126                                                NaN                 NaN   \n",
       "1130                                                NaN                 NaN   \n",
       "1132                                                NaN                 NaN   \n",
       "1136                                                NaN                 NaN   \n",
       "\n",
       "                                                   Link  Citations  \\\n",
       "36    https://storage.googleapis.com/deepmind-media/...      252.0   \n",
       "43                 https://huggingface.co/Qwen/Qwen-72B        NaN   \n",
       "51                   https://inflection.ai/inflection-2        NaN   \n",
       "55    https://developer.nvidia.com/blog/nvidia-ai-fo...        NaN   \n",
       "72    https://arxiv.org/abs/2311.03079\\nhttps://hugg...       43.0   \n",
       "...                                                 ...        ...   \n",
       "1090                   https://arxiv.org/abs/1609.08144     6105.0   \n",
       "1126        https://www.nature.com/articles/nature16961    14733.0   \n",
       "1130                   https://arxiv.org/abs/1512.03385   154061.0   \n",
       "1132                   https://arxiv.org/abs/1512.02595     2741.0   \n",
       "1136  https://www.nature.com/articles/nature24270.ep...    14733.0   \n",
       "\n",
       "                                              Reference  ...  \\\n",
       "36    Gemini: A Family of Highly Capable Multimodal ...  ...   \n",
       "43                                                  NaN  ...   \n",
       "51                       Inflection-2: The Next Step Up  ...   \n",
       "55    NVIDIA AI Foundation Models: Build Custom Ente...  ...   \n",
       "72    CogVLM: Visual Expert for Pretrained Language ...  ...   \n",
       "...                                                 ...  ...   \n",
       "1090  Google's Neural Machine Translation System: Br...  ...   \n",
       "1126  Mastering the game of Go with deep neural netw...  ...   \n",
       "1130       Deep Residual Learning for Image Recognition  ...   \n",
       "1132  Deep Speech 2: End-to-End Speech Recognition i...  ...   \n",
       "1136  Mastering the game of Go with deep neural netw...  ...   \n",
       "\n",
       "     Training data center Archived links  Batch size  \\\n",
       "36                    NaN            NaN         NaN   \n",
       "43                    NaN            NaN   4000000.0   \n",
       "51                    NaN            NaN         NaN   \n",
       "55                    NaN            NaN         NaN   \n",
       "72                    NaN            NaN         NaN   \n",
       "...                   ...            ...         ...   \n",
       "1090                  NaN            NaN         NaN   \n",
       "1126                  NaN            NaN         NaN   \n",
       "1130                  NaN            NaN         NaN   \n",
       "1132                  NaN            NaN         NaN   \n",
       "1136                  NaN            NaN         NaN   \n",
       "\n",
       "                                       Batch size notes  \\\n",
       "36                                                  NaN   \n",
       "43    Table 1 https://arxiv.org/abs/2309.16609\\n(thi...   \n",
       "51                                                  NaN   \n",
       "55                                                  NaN   \n",
       "72                                                  NaN   \n",
       "...                                                 ...   \n",
       "1090                                                NaN   \n",
       "1126                                                NaN   \n",
       "1130                                                NaN   \n",
       "1132                                                NaN   \n",
       "1136                                                NaN   \n",
       "\n",
       "      Organization categorization Foundation model  \\\n",
       "36                       Industry              NaN   \n",
       "43                       Industry              NaN   \n",
       "51                       Industry          checked   \n",
       "55                       Industry              NaN   \n",
       "72     Academia,Industry,Academia          checked   \n",
       "...                           ...              ...   \n",
       "1090                     Industry              NaN   \n",
       "1126                     Industry              NaN   \n",
       "1130                     Industry              NaN   \n",
       "1132                     Industry              NaN   \n",
       "1136                     Industry              NaN   \n",
       "\n",
       "     Training compute lower bound Training compute upper bound  \\\n",
       "36                            NaN                          NaN   \n",
       "43                            NaN                          NaN   \n",
       "51                            NaN                          NaN   \n",
       "55                            NaN                          NaN   \n",
       "72                            NaN                          NaN   \n",
       "...                           ...                          ...   \n",
       "1090                          NaN                          NaN   \n",
       "1126                          NaN                          NaN   \n",
       "1130                          NaN                          NaN   \n",
       "1132                          NaN                          NaN   \n",
       "1136                          NaN                          NaN   \n",
       "\n",
       "      Training time (chip hours)         Cost  \n",
       "36                   132000000.0  191400000.0  \n",
       "43                           NaN          NaN  \n",
       "51                           NaN          NaN  \n",
       "55                           NaN          NaN  \n",
       "72                           NaN          NaN  \n",
       "...                          ...          ...  \n",
       "1090                    414720.0     178329.6  \n",
       "1126                         NaN          NaN  \n",
       "1130                         NaN          NaN  \n",
       "1132                         NaN          NaN  \n",
       "1136                         NaN          NaN  \n",
       "\n",
       "[138 rows x 54 columns]"
      ]
     },
     "execution_count": 10,
     "metadata": {},
     "output_type": "execute_result"
    }
   ],
   "source": [
    "cost_df"
   ]
  },
  {
   "cell_type": "code",
   "execution_count": 11,
   "metadata": {},
   "outputs": [
    {
     "data": {
      "text/plain": [
       "36"
      ]
     },
     "execution_count": 11,
     "metadata": {},
     "output_type": "execute_result"
    }
   ],
   "source": [
    "cost_df['Cost'].notna().sum()"
   ]
  },
  {
   "cell_type": "markdown",
   "metadata": {},
   "source": [
    "Use the below to check data availability for specific systems"
   ]
  },
  {
   "cell_type": "code",
   "execution_count": 13,
   "metadata": {},
   "outputs": [],
   "source": [
    "# system = 'AlphaGo Fan'\n",
    "# print('Cost:', cost_df.loc[system, 'Cost'])\n",
    "# print('Training hardware:', cost_df.loc[system, 'Training hardware'])\n",
    "# print('Training time (hours):', cost_df.loc[system, 'Training time (hours)'])\n",
    "# print('Hardware quantity:', cost_df.loc[system, 'Hardware quantity'])\n",
    "# print('Hardware utilization:', cost_df.loc[system, 'Hardware utilization'])"
   ]
  },
  {
   "cell_type": "markdown",
   "metadata": {},
   "source": [
    "# Apply inflation adjustment"
   ]
  },
  {
   "cell_type": "code",
   "execution_count": 14,
   "metadata": {},
   "outputs": [],
   "source": [
    "# TODO move to function"
   ]
  },
  {
   "cell_type": "code",
   "execution_count": 15,
   "metadata": {},
   "outputs": [
    {
     "data": {
      "text/plain": [
       "36     2023-12-06\n",
       "43     2023-11-30\n",
       "51     2023-11-22\n",
       "55     2023-11-15\n",
       "72     2023-11-06\n",
       "          ...    \n",
       "1090   2016-09-26\n",
       "1126   2016-01-27\n",
       "1130   2015-12-10\n",
       "1132   2015-12-08\n",
       "1136   2015-10-01\n",
       "Name: Publication date, Length: 138, dtype: datetime64[ns]"
      ]
     },
     "execution_count": 15,
     "metadata": {},
     "output_type": "execute_result"
    }
   ],
   "source": [
    "cost_df['Publication date']"
   ]
  },
  {
   "cell_type": "code",
   "execution_count": 16,
   "metadata": {
    "ExecuteTime": {
     "end_time": "2024-02-07T16:04:33.405367600Z",
     "start_time": "2024-02-07T16:04:33.290732900Z"
    }
   },
   "outputs": [],
   "source": [
    "from_year_month = cost_df['Publication date'].apply(str)\n",
    "cost_df['Publication date'] = from_year_month"
   ]
  },
  {
   "cell_type": "code",
   "execution_count": 17,
   "metadata": {
    "ExecuteTime": {
     "end_time": "2024-02-07T16:04:33.499948700Z",
     "start_time": "2024-02-07T16:04:33.405367600Z"
    }
   },
   "outputs": [
    {
     "data": {
      "text/plain": [
       "36      2023-12-06 00:00:00\n",
       "43      2023-11-30 00:00:00\n",
       "51      2023-11-22 00:00:00\n",
       "55      2023-11-15 00:00:00\n",
       "72      2023-11-06 00:00:00\n",
       "               ...         \n",
       "1090    2016-09-26 00:00:00\n",
       "1126    2016-01-27 00:00:00\n",
       "1130    2015-12-10 00:00:00\n",
       "1132    2015-12-08 00:00:00\n",
       "1136    2015-10-01 00:00:00\n",
       "Name: Publication date, Length: 138, dtype: object"
      ]
     },
     "execution_count": 17,
     "metadata": {},
     "output_type": "execute_result"
    }
   ],
   "source": [
    "cost_df['Publication date']"
   ]
  },
  {
   "cell_type": "code",
   "execution_count": 18,
   "metadata": {
    "ExecuteTime": {
     "end_time": "2024-02-07T16:04:53.202236900Z",
     "start_time": "2024-02-07T16:04:52.976107600Z"
    }
   },
   "outputs": [],
   "source": [
    "cost_df = adjust_column_for_inflation(cost_df, 'Cost', 'data/PCU518210518210.csv', '2023-12-01')"
   ]
  },
  {
   "cell_type": "code",
   "execution_count": 19,
   "metadata": {},
   "outputs": [
    {
     "data": {
      "text/plain": [
       "36      1.914000e+08\n",
       "130     2.581632e+07\n",
       "169     3.931897e+06\n",
       "258     7.835203e+07\n",
       "274     1.503763e+06\n",
       "344     1.252379e+07\n",
       "370     1.635573e+06\n",
       "391     1.347019e+07\n",
       "434     1.493975e+06\n",
       "435     8.150695e+05\n",
       "443     1.238906e+07\n",
       "465     1.319586e+06\n",
       "467     3.108410e+05\n",
       "490     1.930600e+05\n",
       "494     2.093016e+06\n",
       "498     3.499808e+06\n",
       "537     6.405653e+06\n",
       "544     9.869716e+05\n",
       "574     1.655001e+05\n",
       "632     2.513914e+05\n",
       "647     6.197414e+05\n",
       "710     9.691116e+05\n",
       "719     4.324883e+06\n",
       "759     6.971103e+05\n",
       "786     3.889027e+05\n",
       "790     2.366316e+05\n",
       "804     8.817783e+05\n",
       "805     2.160704e+05\n",
       "830     1.600176e+05\n",
       "880     6.387439e+02\n",
       "913     3.287635e+03\n",
       "916     1.164818e+04\n",
       "927     4.434402e+03\n",
       "979     1.381309e+02\n",
       "1036    3.344073e+04\n",
       "1090    1.947392e+05\n",
       "Name: Cost (inflation-adjusted), dtype: float64"
      ]
     },
     "execution_count": 19,
     "metadata": {},
     "output_type": "execute_result"
    }
   ],
   "source": [
    "cost_df['Cost (inflation-adjusted)'].dropna()"
   ]
  },
  {
   "cell_type": "code",
   "execution_count": 20,
   "metadata": {},
   "outputs": [
    {
     "data": {
      "text/plain": [
       "36"
      ]
     },
     "execution_count": 20,
     "metadata": {},
     "output_type": "execute_result"
    }
   ],
   "source": [
    "cost_df['Cost (inflation-adjusted)'].notna().sum()"
   ]
  },
  {
   "cell_type": "markdown",
   "metadata": {},
   "source": [
    "# Regression"
   ]
  },
  {
   "cell_type": "code",
   "execution_count": 22,
   "metadata": {},
   "outputs": [],
   "source": [
    "cost_df['Publication date (float)'] = datetime_to_float_year(pd.to_datetime(cost_df['Publication date']))"
   ]
  },
  {
   "cell_type": "code",
   "execution_count": 23,
   "metadata": {
    "ExecuteTime": {
     "end_time": "2024-02-29T19:51:49.113208600Z",
     "start_time": "2024-02-29T19:51:49.050509200Z"
    }
   },
   "outputs": [
    {
     "data": {
      "text/html": [
       "<table class=\"simpletable\">\n",
       "<caption>OLS Regression Results</caption>\n",
       "<tr>\n",
       "  <th>Dep. Variable:</th>            <td>y</td>        <th>  R-squared:         </th> <td>   0.598</td>\n",
       "</tr>\n",
       "<tr>\n",
       "  <th>Model:</th>                   <td>OLS</td>       <th>  Adj. R-squared:    </th> <td>   0.587</td>\n",
       "</tr>\n",
       "<tr>\n",
       "  <th>Method:</th>             <td>Least Squares</td>  <th>  F-statistic:       </th> <td>   50.67</td>\n",
       "</tr>\n",
       "<tr>\n",
       "  <th>Date:</th>             <td>Wed, 06 Mar 2024</td> <th>  Prob (F-statistic):</th> <td>3.16e-08</td>\n",
       "</tr>\n",
       "<tr>\n",
       "  <th>Time:</th>                 <td>17:44:53</td>     <th>  Log-Likelihood:    </th> <td> -44.077</td>\n",
       "</tr>\n",
       "<tr>\n",
       "  <th>No. Observations:</th>      <td>    36</td>      <th>  AIC:               </th> <td>   92.15</td>\n",
       "</tr>\n",
       "<tr>\n",
       "  <th>Df Residuals:</th>          <td>    34</td>      <th>  BIC:               </th> <td>   95.32</td>\n",
       "</tr>\n",
       "<tr>\n",
       "  <th>Df Model:</th>              <td>     1</td>      <th>                     </th>     <td> </td>   \n",
       "</tr>\n",
       "<tr>\n",
       "  <th>Covariance Type:</th>      <td>nonrobust</td>    <th>                     </th>     <td> </td>   \n",
       "</tr>\n",
       "</table>\n",
       "<table class=\"simpletable\">\n",
       "<tr>\n",
       "    <td></td>       <th>coef</th>     <th>std err</th>      <th>t</th>      <th>P>|t|</th>  <th>[0.025</th>    <th>0.975]</th>  \n",
       "</tr>\n",
       "<tr>\n",
       "  <th>const</th> <td>-1113.7155</td> <td>  157.258</td> <td>   -7.082</td> <td> 0.000</td> <td>-1433.302</td> <td> -794.129</td>\n",
       "</tr>\n",
       "<tr>\n",
       "  <th>x1</th>    <td>    0.5539</td> <td>    0.078</td> <td>    7.119</td> <td> 0.000</td> <td>    0.396</td> <td>    0.712</td>\n",
       "</tr>\n",
       "</table>\n",
       "<table class=\"simpletable\">\n",
       "<tr>\n",
       "  <th>Omnibus:</th>       <td> 1.388</td> <th>  Durbin-Watson:     </th> <td>   1.376</td>\n",
       "</tr>\n",
       "<tr>\n",
       "  <th>Prob(Omnibus):</th> <td> 0.500</td> <th>  Jarque-Bera (JB):  </th> <td>   0.705</td>\n",
       "</tr>\n",
       "<tr>\n",
       "  <th>Skew:</th>          <td>-0.328</td> <th>  Prob(JB):          </th> <td>   0.703</td>\n",
       "</tr>\n",
       "<tr>\n",
       "  <th>Kurtosis:</th>      <td> 3.198</td> <th>  Cond. No.          </th> <td>2.25e+06</td>\n",
       "</tr>\n",
       "</table><br/><br/>Notes:<br/>[1] Standard Errors assume that the covariance matrix of the errors is correctly specified.<br/>[2] The condition number is large, 2.25e+06. This might indicate that there are<br/>strong multicollinearity or other numerical problems."
      ],
      "text/latex": [
       "\\begin{center}\n",
       "\\begin{tabular}{lclc}\n",
       "\\toprule\n",
       "\\textbf{Dep. Variable:}    &        y         & \\textbf{  R-squared:         } &     0.598   \\\\\n",
       "\\textbf{Model:}            &       OLS        & \\textbf{  Adj. R-squared:    } &     0.587   \\\\\n",
       "\\textbf{Method:}           &  Least Squares   & \\textbf{  F-statistic:       } &     50.67   \\\\\n",
       "\\textbf{Date:}             & Wed, 06 Mar 2024 & \\textbf{  Prob (F-statistic):} &  3.16e-08   \\\\\n",
       "\\textbf{Time:}             &     17:44:53     & \\textbf{  Log-Likelihood:    } &   -44.077   \\\\\n",
       "\\textbf{No. Observations:} &          36      & \\textbf{  AIC:               } &     92.15   \\\\\n",
       "\\textbf{Df Residuals:}     &          34      & \\textbf{  BIC:               } &     95.32   \\\\\n",
       "\\textbf{Df Model:}         &           1      & \\textbf{                     } &             \\\\\n",
       "\\textbf{Covariance Type:}  &    nonrobust     & \\textbf{                     } &             \\\\\n",
       "\\bottomrule\n",
       "\\end{tabular}\n",
       "\\begin{tabular}{lcccccc}\n",
       "               & \\textbf{coef} & \\textbf{std err} & \\textbf{t} & \\textbf{P$> |$t$|$} & \\textbf{[0.025} & \\textbf{0.975]}  \\\\\n",
       "\\midrule\n",
       "\\textbf{const} &   -1113.7155  &      157.258     &    -7.082  &         0.000        &    -1433.302    &     -794.129     \\\\\n",
       "\\textbf{x1}    &       0.5539  &        0.078     &     7.119  &         0.000        &        0.396    &        0.712     \\\\\n",
       "\\bottomrule\n",
       "\\end{tabular}\n",
       "\\begin{tabular}{lclc}\n",
       "\\textbf{Omnibus:}       &  1.388 & \\textbf{  Durbin-Watson:     } &    1.376  \\\\\n",
       "\\textbf{Prob(Omnibus):} &  0.500 & \\textbf{  Jarque-Bera (JB):  } &    0.705  \\\\\n",
       "\\textbf{Skew:}          & -0.328 & \\textbf{  Prob(JB):          } &    0.703  \\\\\n",
       "\\textbf{Kurtosis:}      &  3.198 & \\textbf{  Cond. No.          } & 2.25e+06  \\\\\n",
       "\\bottomrule\n",
       "\\end{tabular}\n",
       "%\\caption{OLS Regression Results}\n",
       "\\end{center}\n",
       "\n",
       "Notes: \\newline\n",
       " [1] Standard Errors assume that the covariance matrix of the errors is correctly specified. \\newline\n",
       " [2] The condition number is large, 2.25e+06. This might indicate that there are \\newline\n",
       " strong multicollinearity or other numerical problems."
      ],
      "text/plain": [
       "<class 'statsmodels.iolib.summary.Summary'>\n",
       "\"\"\"\n",
       "                            OLS Regression Results                            \n",
       "==============================================================================\n",
       "Dep. Variable:                      y   R-squared:                       0.598\n",
       "Model:                            OLS   Adj. R-squared:                  0.587\n",
       "Method:                 Least Squares   F-statistic:                     50.67\n",
       "Date:                Wed, 06 Mar 2024   Prob (F-statistic):           3.16e-08\n",
       "Time:                        17:44:53   Log-Likelihood:                -44.077\n",
       "No. Observations:                  36   AIC:                             92.15\n",
       "Df Residuals:                      34   BIC:                             95.32\n",
       "Df Model:                           1                                         \n",
       "Covariance Type:            nonrobust                                         \n",
       "==============================================================================\n",
       "                 coef    std err          t      P>|t|      [0.025      0.975]\n",
       "------------------------------------------------------------------------------\n",
       "const      -1113.7155    157.258     -7.082      0.000   -1433.302    -794.129\n",
       "x1             0.5539      0.078      7.119      0.000       0.396       0.712\n",
       "==============================================================================\n",
       "Omnibus:                        1.388   Durbin-Watson:                   1.376\n",
       "Prob(Omnibus):                  0.500   Jarque-Bera (JB):                0.705\n",
       "Skew:                          -0.328   Prob(JB):                        0.703\n",
       "Kurtosis:                       3.198   Cond. No.                     2.25e+06\n",
       "==============================================================================\n",
       "\n",
       "Notes:\n",
       "[1] Standard Errors assume that the covariance matrix of the errors is correctly specified.\n",
       "[2] The condition number is large, 2.25e+06. This might indicate that there are\n",
       "strong multicollinearity or other numerical problems.\n",
       "\"\"\""
      ]
     },
     "execution_count": 23,
     "metadata": {},
     "output_type": "execute_result"
    }
   ],
   "source": [
    "reg_results = fit_ols_regression(cost_df, ['Publication date (float)'], 'Cost (inflation-adjusted)', logy=True)\n",
    "reg_results.summary()"
   ]
  },
  {
   "cell_type": "code",
   "execution_count": 31,
   "metadata": {},
   "outputs": [
    {
     "name": "stdout",
     "output_type": "stream",
     "text": [
      "0.55 OOMs/year (95% CI: 0.40, 0.71)\n",
      "3.6x/year (95% CI: 2.5x, 5.2x)\n",
      "doubling time of 7 months (95% CI: 5, 9)\n"
     ]
    }
   ],
   "source": [
    "print_growth_rates(reg_results)"
   ]
  },
  {
   "cell_type": "code",
   "execution_count": 25,
   "metadata": {},
   "outputs": [
    {
     "data": {
      "text/html": [
       "<div>\n",
       "<style scoped>\n",
       "    .dataframe tbody tr th:only-of-type {\n",
       "        vertical-align: middle;\n",
       "    }\n",
       "\n",
       "    .dataframe tbody tr th {\n",
       "        vertical-align: top;\n",
       "    }\n",
       "\n",
       "    .dataframe thead th {\n",
       "        text-align: right;\n",
       "    }\n",
       "</style>\n",
       "<table border=\"1\" class=\"dataframe\">\n",
       "  <thead>\n",
       "    <tr style=\"text-align: right;\">\n",
       "      <th></th>\n",
       "      <th>Publication date (float)</th>\n",
       "    </tr>\n",
       "  </thead>\n",
       "  <tbody>\n",
       "    <tr>\n",
       "      <th>0</th>\n",
       "      <td>2015.00000</td>\n",
       "    </tr>\n",
       "    <tr>\n",
       "      <th>1</th>\n",
       "      <td>2015.10101</td>\n",
       "    </tr>\n",
       "    <tr>\n",
       "      <th>2</th>\n",
       "      <td>2015.20202</td>\n",
       "    </tr>\n",
       "    <tr>\n",
       "      <th>3</th>\n",
       "      <td>2015.30303</td>\n",
       "    </tr>\n",
       "    <tr>\n",
       "      <th>4</th>\n",
       "      <td>2015.40404</td>\n",
       "    </tr>\n",
       "    <tr>\n",
       "      <th>...</th>\n",
       "      <td>...</td>\n",
       "    </tr>\n",
       "    <tr>\n",
       "      <th>95</th>\n",
       "      <td>2024.59596</td>\n",
       "    </tr>\n",
       "    <tr>\n",
       "      <th>96</th>\n",
       "      <td>2024.69697</td>\n",
       "    </tr>\n",
       "    <tr>\n",
       "      <th>97</th>\n",
       "      <td>2024.79798</td>\n",
       "    </tr>\n",
       "    <tr>\n",
       "      <th>98</th>\n",
       "      <td>2024.89899</td>\n",
       "    </tr>\n",
       "    <tr>\n",
       "      <th>99</th>\n",
       "      <td>2025.00000</td>\n",
       "    </tr>\n",
       "  </tbody>\n",
       "</table>\n",
       "<p>100 rows × 1 columns</p>\n",
       "</div>"
      ],
      "text/plain": [
       "    Publication date (float)\n",
       "0                 2015.00000\n",
       "1                 2015.10101\n",
       "2                 2015.20202\n",
       "3                 2015.30303\n",
       "4                 2015.40404\n",
       "..                       ...\n",
       "95                2024.59596\n",
       "96                2024.69697\n",
       "97                2024.79798\n",
       "98                2024.89899\n",
       "99                2025.00000\n",
       "\n",
       "[100 rows x 1 columns]"
      ]
     },
     "execution_count": 25,
     "metadata": {},
     "output_type": "execute_result"
    }
   ],
   "source": [
    "pred_start_year = 2015\n",
    "pred_end_year = 2025\n",
    "pred_start_date = f'{pred_start_year}-01-01'\n",
    "pred_end_date = f'{pred_end_year}-01-01'\n",
    "\n",
    "pred_years = pd.DataFrame({'Publication date (float)': np.linspace(pred_start_year, pred_end_year, 100)})\n",
    "pred_years"
   ]
  },
  {
   "cell_type": "code",
   "execution_count": 26,
   "metadata": {},
   "outputs": [
    {
     "data": {
      "text/html": [
       "<div>\n",
       "<style scoped>\n",
       "    .dataframe tbody tr th:only-of-type {\n",
       "        vertical-align: middle;\n",
       "    }\n",
       "\n",
       "    .dataframe tbody tr th {\n",
       "        vertical-align: top;\n",
       "    }\n",
       "\n",
       "    .dataframe thead th {\n",
       "        text-align: right;\n",
       "    }\n",
       "</style>\n",
       "<table border=\"1\" class=\"dataframe\">\n",
       "  <thead>\n",
       "    <tr style=\"text-align: right;\">\n",
       "      <th></th>\n",
       "      <th>mean</th>\n",
       "      <th>mean_se</th>\n",
       "      <th>mean_ci_lower</th>\n",
       "      <th>mean_ci_upper</th>\n",
       "      <th>obs_ci_lower</th>\n",
       "      <th>obs_ci_upper</th>\n",
       "      <th>Publication date (float)</th>\n",
       "      <th>Publication date</th>\n",
       "    </tr>\n",
       "  </thead>\n",
       "  <tbody>\n",
       "    <tr>\n",
       "      <th>0</th>\n",
       "      <td>2.410386</td>\n",
       "      <td>0.489386</td>\n",
       "      <td>1.415833</td>\n",
       "      <td>3.404939</td>\n",
       "      <td>0.422341</td>\n",
       "      <td>4.398431</td>\n",
       "      <td>2015.00000</td>\n",
       "      <td>2015-01-01</td>\n",
       "    </tr>\n",
       "    <tr>\n",
       "      <th>1</th>\n",
       "      <td>2.466336</td>\n",
       "      <td>0.481866</td>\n",
       "      <td>1.487066</td>\n",
       "      <td>3.445606</td>\n",
       "      <td>0.485893</td>\n",
       "      <td>4.446780</td>\n",
       "      <td>2015.10101</td>\n",
       "      <td>2015-02-06</td>\n",
       "    </tr>\n",
       "    <tr>\n",
       "      <th>2</th>\n",
       "      <td>2.522287</td>\n",
       "      <td>0.474357</td>\n",
       "      <td>1.558277</td>\n",
       "      <td>3.486296</td>\n",
       "      <td>0.549345</td>\n",
       "      <td>4.495229</td>\n",
       "      <td>2015.20202</td>\n",
       "      <td>2015-03-15</td>\n",
       "    </tr>\n",
       "    <tr>\n",
       "      <th>3</th>\n",
       "      <td>2.578237</td>\n",
       "      <td>0.466859</td>\n",
       "      <td>1.629465</td>\n",
       "      <td>3.527009</td>\n",
       "      <td>0.612695</td>\n",
       "      <td>4.543779</td>\n",
       "      <td>2015.30303</td>\n",
       "      <td>2015-04-21</td>\n",
       "    </tr>\n",
       "    <tr>\n",
       "      <th>4</th>\n",
       "      <td>2.634187</td>\n",
       "      <td>0.459374</td>\n",
       "      <td>1.700628</td>\n",
       "      <td>3.567747</td>\n",
       "      <td>0.675943</td>\n",
       "      <td>4.592431</td>\n",
       "      <td>2015.40404</td>\n",
       "      <td>2015-05-28</td>\n",
       "    </tr>\n",
       "    <tr>\n",
       "      <th>...</th>\n",
       "      <td>...</td>\n",
       "      <td>...</td>\n",
       "      <td>...</td>\n",
       "      <td>...</td>\n",
       "      <td>...</td>\n",
       "      <td>...</td>\n",
       "      <td>...</td>\n",
       "      <td>...</td>\n",
       "    </tr>\n",
       "    <tr>\n",
       "      <th>95</th>\n",
       "      <td>7.725671</td>\n",
       "      <td>0.311872</td>\n",
       "      <td>7.091871</td>\n",
       "      <td>8.359471</td>\n",
       "      <td>5.891307</td>\n",
       "      <td>9.560034</td>\n",
       "      <td>2024.59596</td>\n",
       "      <td>2024-08-06</td>\n",
       "    </tr>\n",
       "    <tr>\n",
       "      <th>96</th>\n",
       "      <td>7.781621</td>\n",
       "      <td>0.318900</td>\n",
       "      <td>7.133538</td>\n",
       "      <td>8.429704</td>\n",
       "      <td>5.942274</td>\n",
       "      <td>9.620968</td>\n",
       "      <td>2024.69697</td>\n",
       "      <td>2024-09-12</td>\n",
       "    </tr>\n",
       "    <tr>\n",
       "      <th>97</th>\n",
       "      <td>7.837572</td>\n",
       "      <td>0.325966</td>\n",
       "      <td>7.175128</td>\n",
       "      <td>8.500015</td>\n",
       "      <td>5.993116</td>\n",
       "      <td>9.682028</td>\n",
       "      <td>2024.79798</td>\n",
       "      <td>2024-10-19</td>\n",
       "    </tr>\n",
       "    <tr>\n",
       "      <th>98</th>\n",
       "      <td>7.893522</td>\n",
       "      <td>0.333068</td>\n",
       "      <td>7.216646</td>\n",
       "      <td>8.570398</td>\n",
       "      <td>6.043833</td>\n",
       "      <td>9.743210</td>\n",
       "      <td>2024.89899</td>\n",
       "      <td>2024-11-25</td>\n",
       "    </tr>\n",
       "    <tr>\n",
       "      <th>99</th>\n",
       "      <td>7.949472</td>\n",
       "      <td>0.340203</td>\n",
       "      <td>7.258096</td>\n",
       "      <td>8.640848</td>\n",
       "      <td>6.094429</td>\n",
       "      <td>9.804516</td>\n",
       "      <td>2025.00000</td>\n",
       "      <td>2025-01-01</td>\n",
       "    </tr>\n",
       "  </tbody>\n",
       "</table>\n",
       "<p>100 rows × 8 columns</p>\n",
       "</div>"
      ],
      "text/plain": [
       "        mean   mean_se  mean_ci_lower  mean_ci_upper  obs_ci_lower  \\\n",
       "0   2.410386  0.489386       1.415833       3.404939      0.422341   \n",
       "1   2.466336  0.481866       1.487066       3.445606      0.485893   \n",
       "2   2.522287  0.474357       1.558277       3.486296      0.549345   \n",
       "3   2.578237  0.466859       1.629465       3.527009      0.612695   \n",
       "4   2.634187  0.459374       1.700628       3.567747      0.675943   \n",
       "..       ...       ...            ...            ...           ...   \n",
       "95  7.725671  0.311872       7.091871       8.359471      5.891307   \n",
       "96  7.781621  0.318900       7.133538       8.429704      5.942274   \n",
       "97  7.837572  0.325966       7.175128       8.500015      5.993116   \n",
       "98  7.893522  0.333068       7.216646       8.570398      6.043833   \n",
       "99  7.949472  0.340203       7.258096       8.640848      6.094429   \n",
       "\n",
       "    obs_ci_upper  Publication date (float) Publication date  \n",
       "0       4.398431                2015.00000       2015-01-01  \n",
       "1       4.446780                2015.10101       2015-02-06  \n",
       "2       4.495229                2015.20202       2015-03-15  \n",
       "3       4.543779                2015.30303       2015-04-21  \n",
       "4       4.592431                2015.40404       2015-05-28  \n",
       "..           ...                       ...              ...  \n",
       "95      9.560034                2024.59596       2024-08-06  \n",
       "96      9.620968                2024.69697       2024-09-12  \n",
       "97      9.682028                2024.79798       2024-10-19  \n",
       "98      9.743210                2024.89899       2024-11-25  \n",
       "99      9.804516                2025.00000       2025-01-01  \n",
       "\n",
       "[100 rows x 8 columns]"
      ]
     },
     "execution_count": 26,
     "metadata": {},
     "output_type": "execute_result"
    }
   ],
   "source": [
    "\n",
    "predicted_cost_df = get_predictions(reg_results, pred_years, ['Publication date (float)'])\n",
    "predicted_cost_df['Publication date'] = predicted_cost_df['Publication date (float)'].apply(float_year_to_datetime)\n",
    "predicted_cost_df"
   ]
  },
  {
   "cell_type": "markdown",
   "metadata": {},
   "source": [
    "# Plots"
   ]
  },
  {
   "cell_type": "code",
   "execution_count": 27,
   "metadata": {},
   "outputs": [
    {
     "data": {
      "application/vnd.plotly.v1+json": {
       "config": {
        "plotlyServerURL": "https://plot.ly"
       },
       "data": [
        {
         "hovertemplate": "Publication date=%{x}<br>Cost (inflation-adjusted)=%{y}<br>System=%{text}<extra></extra>",
         "legendgroup": "",
         "marker": {
          "color": "#636efa",
          "symbol": "circle"
         },
         "mode": "markers+text",
         "name": "",
         "orientation": "v",
         "showlegend": false,
         "text": [
          "Gemini Ultra",
          "Qwen-72B",
          "Inflection-2",
          "Nemotron-3-8B",
          "CogVLM",
          "Yi-34B",
          "Skywork-13B",
          "ChatGLM3",
          "XGen-7B",
          "Falcon 180B",
          "Jais",
          "Llama 2-70B",
          "Llama 2-7B",
          "Claude 2",
          "Pangu-Weather",
          "PaLM 2",
          "StarCoder",
          "WizardLM-7B",
          "BloombergGPT",
          "PanGu-Σ",
          "GPT-4",
          "Falcon-40B",
          "LLaMA-65B",
          "LLaMA-7B",
          "GPT-3.5 (text-davinci-003)",
          "Galactica",
          "BLOOM-176B",
          "Taiyi-Stable Diffusion",
          "U-PaLM (540B)",
          "Whisper",
          "PaLI",
          "BlenderBot 3",
          "GLM-130B",
          "AlexaTM 20B",
          "ESM2-15B",
          "NLLB",
          "Minerva (540B)",
          "Parti",
          "CoCa",
          "Imagen",
          "UL2",
          "OPT-175B",
          "Flamingo",
          "Stable Diffusion (LDM-KL-8-G)",
          "PaLM (540B)",
          "Chinchilla",
          "LaMDA",
          "GPT-NeoX-20B",
          "AlphaCode",
          "ERNIE 3.0 Titan",
          "XGLM-7.5B",
          "GLaM",
          "Gopher (280B)",
          "Florence",
          "BASIC-L",
          "T0-XXL",
          "Yuan 1.0",
          "Megatron-Turing NLG 530B",
          "HyperCLOVA",
          "FLAN 137B",
          "GOAT",
          "ERNIE 3.0",
          "ALIGN",
          "DeBERTa",
          "CoAtNet",
          "ByT5-XXL",
          "CogView",
          "ProtT5-XXL",
          "ProtT5-XXL-BFD",
          "ProtBERT-BFD",
          "PLUG",
          "M6-T",
          "Meta Pseudo Labels",
          "MSA Transformer",
          "Switch",
          "DALL-E",
          "CLIP (ViT L/14@336px)",
          "ViT-Huge/14",
          "Conformer + Wav2vec 2.0 + Noisy Student",
          "mT5-XXL",
          "GShard (dense)",
          "iGPT-XL",
          "iGPT-L",
          "GPT-3 175B (davinci)",
          "Once for All",
          "ELECTRA",
          "Turing-NLG",
          "ALBERT-xxlarge",
          "Meena",
          "ContextNet + Noisy Student",
          "DD-PPO",
          "OpenAI Five",
          "OpenAI Five Rerun",
          "Noisy Student (L2)",
          "AlphaStar",
          "T5-3B",
          "T5-11B",
          "Megatron-BERT",
          "Megatron-LM (8.3B)",
          "RoBERTa Large",
          "MnasNet-A3",
          "MnasNet-A1 + SSDLite",
          "BERT-Large-CAS (PTB+WT2+WT103)",
          "SciBERT",
          "ProxylessNAS",
          "GPT-2 (1.5B)",
          "BERT-Large",
          "BigGAN-deep 512x512",
          "Transformer (Adaptive Input Embeddings)",
          "Transformer + Simple Recurrent Unit",
          "Big Transformer for Back-Translation",
          "FTW",
          "Population-based DRL",
          "GPT",
          "ResNeXt-101 32x48d",
          "YOLOv3",
          "LSTM (Hebbian, Cache, MbPA)",
          "AmoebaNet-A (F=448)",
          "IMPALA",
          "AlphaZero",
          "PNASNet-5",
          "AlphaGo Zero",
          "OpenAI TI7 DOTA 1v1",
          "JFT",
          "Transformer",
          "MoE",
          "DeepStack",
          "Libratus",
          "AlphaGo Master",
          "PolyNet",
          "NASv3 (CIFAR-10)",
          "BIDAF",
          "Xception",
          "GNMT",
          "AlphaGo Lee",
          "ResNet-152 (ImageNet)",
          "DeepSpeech2 (English)",
          "AlphaGo Fan"
         ],
         "textposition": "top center",
         "type": "scatter",
         "x": [
          "2023-12-06 00:00:00",
          "2023-11-30 00:00:00",
          "2023-11-22 00:00:00",
          "2023-11-15 00:00:00",
          "2023-11-06 00:00:00",
          "2023-11-02 00:00:00",
          "2023-10-30 00:00:00",
          "2023-10-27 00:00:00",
          "2023-09-07 00:00:00",
          "2023-09-06 00:00:00",
          "2023-08-29 00:00:00",
          "2023-07-18 00:00:00",
          "2023-07-18 00:00:00",
          "2023-07-11 00:00:00",
          "2023-07-05 00:00:00",
          "2023-05-10 00:00:00",
          "2023-05-09 00:00:00",
          "2023-04-24 00:00:00",
          "2023-03-30 00:00:00",
          "2023-03-20 00:00:00",
          "2023-03-15 00:00:00",
          "2023-03-15 00:00:00",
          "2023-02-24 00:00:00",
          "2023-02-24 00:00:00",
          "2022-11-28 00:00:00",
          "2022-11-16 00:00:00",
          "2022-11-08 00:00:00",
          "2022-10-31 00:00:00",
          "2022-10-20 00:00:00",
          "2022-09-21 00:00:00",
          "2022-09-14 00:00:00",
          "2022-08-10 00:00:00",
          "2022-08-04 00:00:00",
          "2022-08-02 00:00:00",
          "2022-07-21 00:00:00",
          "2022-07-06 00:00:00",
          "2022-06-29 00:00:00",
          "2022-06-22 00:00:00",
          "2022-06-14 00:00:00",
          "2022-05-23 00:00:00",
          "2022-05-10 00:00:00",
          "2022-05-02 00:00:00",
          "2022-04-29 00:00:00",
          "2022-04-13 00:00:00",
          "2022-04-04 00:00:00",
          "2022-03-29 00:00:00",
          "2022-02-10 00:00:00",
          "2022-02-09 00:00:00",
          "2022-02-02 00:00:00",
          "2021-12-23 00:00:00",
          "2021-12-20 00:00:00",
          "2021-12-13 00:00:00",
          "2021-12-08 00:00:00",
          "2021-11-22 00:00:00",
          "2021-11-19 00:00:00",
          "2021-10-15 00:00:00",
          "2021-10-12 00:00:00",
          "2021-10-11 00:00:00",
          "2021-09-10 00:00:00",
          "2021-09-03 00:00:00",
          "2021-07-27 00:00:00",
          "2021-07-05 00:00:00",
          "2021-06-11 00:00:00",
          "2021-06-10 00:00:00",
          "2021-06-09 00:00:00",
          "2021-05-28 00:00:00",
          "2021-05-26 00:00:00",
          "2021-05-04 00:00:00",
          "2021-05-04 00:00:00",
          "2021-05-04 00:00:00",
          "2021-04-19 00:00:00",
          "2021-03-05 00:00:00",
          "2021-03-01 00:00:00",
          "2021-02-13 00:00:00",
          "2021-01-11 00:00:00",
          "2021-01-05 00:00:00",
          "2021-01-05 00:00:00",
          "2020-10-22 00:00:00",
          "2020-10-20 00:00:00",
          "2020-10-20 00:00:00",
          "2020-06-30 00:00:00",
          "2020-06-17 00:00:00",
          "2020-06-17 00:00:00",
          "2020-05-28 00:00:00",
          "2020-04-29 00:00:00",
          "2020-03-23 00:00:00",
          "2020-02-13 00:00:00",
          "2020-02-09 00:00:00",
          "2020-01-28 00:00:00",
          "2020-01-19 00:00:00",
          "2019-12-19 00:00:00",
          "2019-12-13 00:00:00",
          "2019-12-13 00:00:00",
          "2019-11-11 00:00:00",
          "2019-10-30 00:00:00",
          "2019-10-23 00:00:00",
          "2019-10-23 00:00:00",
          "2019-09-17 00:00:00",
          "2019-09-17 00:00:00",
          "2019-07-01 00:00:00",
          "2019-05-29 00:00:00",
          "2019-05-29 00:00:00",
          "2019-04-20 00:00:00",
          "2019-03-26 00:00:00",
          "2019-02-23 00:00:00",
          "2019-02-14 00:00:00",
          "2018-10-11 00:00:00",
          "2018-09-28 00:00:00",
          "2018-09-28 00:00:00",
          "2018-09-17 00:00:00",
          "2018-08-28 00:00:00",
          "2018-07-03 00:00:00",
          "2018-07-03 00:00:00",
          "2018-06-01 00:00:00",
          "2018-05-02 00:00:00",
          "2018-04-08 00:00:00",
          "2018-03-27 00:00:00",
          "2018-02-05 00:00:00",
          "2018-02-05 00:00:00",
          "2017-12-05 00:00:00",
          "2017-12-02 00:00:00",
          "2017-10-18 00:00:00",
          "2017-08-11 00:00:00",
          "2017-07-10 00:00:00",
          "2017-06-12 00:00:00",
          "2017-01-23 00:00:00",
          "2017-01-06 00:00:00",
          "2017-01-01 00:00:00",
          "2017-01-01 00:00:00",
          "2016-11-17 00:00:00",
          "2016-11-05 00:00:00",
          "2016-11-05 00:00:00",
          "2016-10-07 00:00:00",
          "2016-09-26 00:00:00",
          "2016-01-27 00:00:00",
          "2015-12-10 00:00:00",
          "2015-12-08 00:00:00",
          "2015-10-01 00:00:00"
         ],
         "xaxis": "x",
         "y": [
          191400000,
          null,
          null,
          null,
          null,
          null,
          null,
          null,
          null,
          25816323.797898512,
          null,
          3931897.156858603,
          null,
          null,
          null,
          null,
          null,
          null,
          null,
          null,
          78352033.69393542,
          null,
          1503762.8500199951,
          null,
          null,
          null,
          null,
          null,
          12523793.100601656,
          null,
          null,
          null,
          1635572.685301023,
          null,
          null,
          null,
          13470191.00856837,
          null,
          null,
          null,
          null,
          1493974.647531918,
          815069.4909087805,
          null,
          12389056.261813464,
          null,
          1319585.503057254,
          310840.989438577,
          null,
          null,
          193060.0432091273,
          2093016.0239973643,
          3499807.67985019,
          null,
          null,
          null,
          null,
          6405652.563246981,
          986971.6222926452,
          null,
          null,
          null,
          165500.13931537792,
          null,
          null,
          null,
          null,
          null,
          null,
          null,
          null,
          null,
          251391.36000000002,
          null,
          619741.3696948562,
          null,
          null,
          null,
          null,
          null,
          969111.5896932516,
          null,
          null,
          4324882.624338623,
          null,
          null,
          null,
          null,
          697110.2785525154,
          null,
          null,
          null,
          null,
          null,
          388902.65897940914,
          null,
          236631.5547502238,
          881778.3356559139,
          216070.42339784946,
          160017.6468716094,
          null,
          null,
          null,
          638.7439274047186,
          null,
          null,
          3287.6352902712474,
          11648.178852488687,
          null,
          null,
          4434.402272463768,
          null,
          null,
          null,
          null,
          null,
          null,
          null,
          138.13091568449684,
          null,
          null,
          null,
          null,
          33440.7332123412,
          null,
          null,
          null,
          null,
          null,
          null,
          null,
          null,
          null,
          194739.1953027523,
          null,
          null,
          null,
          null
         ],
         "yaxis": "y"
        }
       ],
       "layout": {
        "autosize": false,
        "font": {
         "size": 14
        },
        "height": 600,
        "legend": {
         "tracegroupgap": 0
        },
        "margin": {
         "b": 10,
         "l": 10,
         "r": 10,
         "t": 40
        },
        "showlegend": false,
        "template": {
         "data": {
          "bar": [
           {
            "error_x": {
             "color": "#2a3f5f"
            },
            "error_y": {
             "color": "#2a3f5f"
            },
            "marker": {
             "line": {
              "color": "#E5ECF6",
              "width": 0.5
             },
             "pattern": {
              "fillmode": "overlay",
              "size": 10,
              "solidity": 0.2
             }
            },
            "type": "bar"
           }
          ],
          "barpolar": [
           {
            "marker": {
             "line": {
              "color": "#E5ECF6",
              "width": 0.5
             },
             "pattern": {
              "fillmode": "overlay",
              "size": 10,
              "solidity": 0.2
             }
            },
            "type": "barpolar"
           }
          ],
          "carpet": [
           {
            "aaxis": {
             "endlinecolor": "#2a3f5f",
             "gridcolor": "white",
             "linecolor": "white",
             "minorgridcolor": "white",
             "startlinecolor": "#2a3f5f"
            },
            "baxis": {
             "endlinecolor": "#2a3f5f",
             "gridcolor": "white",
             "linecolor": "white",
             "minorgridcolor": "white",
             "startlinecolor": "#2a3f5f"
            },
            "type": "carpet"
           }
          ],
          "choropleth": [
           {
            "colorbar": {
             "outlinewidth": 0,
             "ticks": ""
            },
            "type": "choropleth"
           }
          ],
          "contour": [
           {
            "colorbar": {
             "outlinewidth": 0,
             "ticks": ""
            },
            "colorscale": [
             [
              0,
              "#0d0887"
             ],
             [
              0.1111111111111111,
              "#46039f"
             ],
             [
              0.2222222222222222,
              "#7201a8"
             ],
             [
              0.3333333333333333,
              "#9c179e"
             ],
             [
              0.4444444444444444,
              "#bd3786"
             ],
             [
              0.5555555555555556,
              "#d8576b"
             ],
             [
              0.6666666666666666,
              "#ed7953"
             ],
             [
              0.7777777777777778,
              "#fb9f3a"
             ],
             [
              0.8888888888888888,
              "#fdca26"
             ],
             [
              1,
              "#f0f921"
             ]
            ],
            "type": "contour"
           }
          ],
          "contourcarpet": [
           {
            "colorbar": {
             "outlinewidth": 0,
             "ticks": ""
            },
            "type": "contourcarpet"
           }
          ],
          "heatmap": [
           {
            "colorbar": {
             "outlinewidth": 0,
             "ticks": ""
            },
            "colorscale": [
             [
              0,
              "#0d0887"
             ],
             [
              0.1111111111111111,
              "#46039f"
             ],
             [
              0.2222222222222222,
              "#7201a8"
             ],
             [
              0.3333333333333333,
              "#9c179e"
             ],
             [
              0.4444444444444444,
              "#bd3786"
             ],
             [
              0.5555555555555556,
              "#d8576b"
             ],
             [
              0.6666666666666666,
              "#ed7953"
             ],
             [
              0.7777777777777778,
              "#fb9f3a"
             ],
             [
              0.8888888888888888,
              "#fdca26"
             ],
             [
              1,
              "#f0f921"
             ]
            ],
            "type": "heatmap"
           }
          ],
          "heatmapgl": [
           {
            "colorbar": {
             "outlinewidth": 0,
             "ticks": ""
            },
            "colorscale": [
             [
              0,
              "#0d0887"
             ],
             [
              0.1111111111111111,
              "#46039f"
             ],
             [
              0.2222222222222222,
              "#7201a8"
             ],
             [
              0.3333333333333333,
              "#9c179e"
             ],
             [
              0.4444444444444444,
              "#bd3786"
             ],
             [
              0.5555555555555556,
              "#d8576b"
             ],
             [
              0.6666666666666666,
              "#ed7953"
             ],
             [
              0.7777777777777778,
              "#fb9f3a"
             ],
             [
              0.8888888888888888,
              "#fdca26"
             ],
             [
              1,
              "#f0f921"
             ]
            ],
            "type": "heatmapgl"
           }
          ],
          "histogram": [
           {
            "marker": {
             "pattern": {
              "fillmode": "overlay",
              "size": 10,
              "solidity": 0.2
             }
            },
            "type": "histogram"
           }
          ],
          "histogram2d": [
           {
            "colorbar": {
             "outlinewidth": 0,
             "ticks": ""
            },
            "colorscale": [
             [
              0,
              "#0d0887"
             ],
             [
              0.1111111111111111,
              "#46039f"
             ],
             [
              0.2222222222222222,
              "#7201a8"
             ],
             [
              0.3333333333333333,
              "#9c179e"
             ],
             [
              0.4444444444444444,
              "#bd3786"
             ],
             [
              0.5555555555555556,
              "#d8576b"
             ],
             [
              0.6666666666666666,
              "#ed7953"
             ],
             [
              0.7777777777777778,
              "#fb9f3a"
             ],
             [
              0.8888888888888888,
              "#fdca26"
             ],
             [
              1,
              "#f0f921"
             ]
            ],
            "type": "histogram2d"
           }
          ],
          "histogram2dcontour": [
           {
            "colorbar": {
             "outlinewidth": 0,
             "ticks": ""
            },
            "colorscale": [
             [
              0,
              "#0d0887"
             ],
             [
              0.1111111111111111,
              "#46039f"
             ],
             [
              0.2222222222222222,
              "#7201a8"
             ],
             [
              0.3333333333333333,
              "#9c179e"
             ],
             [
              0.4444444444444444,
              "#bd3786"
             ],
             [
              0.5555555555555556,
              "#d8576b"
             ],
             [
              0.6666666666666666,
              "#ed7953"
             ],
             [
              0.7777777777777778,
              "#fb9f3a"
             ],
             [
              0.8888888888888888,
              "#fdca26"
             ],
             [
              1,
              "#f0f921"
             ]
            ],
            "type": "histogram2dcontour"
           }
          ],
          "mesh3d": [
           {
            "colorbar": {
             "outlinewidth": 0,
             "ticks": ""
            },
            "type": "mesh3d"
           }
          ],
          "parcoords": [
           {
            "line": {
             "colorbar": {
              "outlinewidth": 0,
              "ticks": ""
             }
            },
            "type": "parcoords"
           }
          ],
          "pie": [
           {
            "automargin": true,
            "type": "pie"
           }
          ],
          "scatter": [
           {
            "fillpattern": {
             "fillmode": "overlay",
             "size": 10,
             "solidity": 0.2
            },
            "type": "scatter"
           }
          ],
          "scatter3d": [
           {
            "line": {
             "colorbar": {
              "outlinewidth": 0,
              "ticks": ""
             }
            },
            "marker": {
             "colorbar": {
              "outlinewidth": 0,
              "ticks": ""
             }
            },
            "type": "scatter3d"
           }
          ],
          "scattercarpet": [
           {
            "marker": {
             "colorbar": {
              "outlinewidth": 0,
              "ticks": ""
             }
            },
            "type": "scattercarpet"
           }
          ],
          "scattergeo": [
           {
            "marker": {
             "colorbar": {
              "outlinewidth": 0,
              "ticks": ""
             }
            },
            "type": "scattergeo"
           }
          ],
          "scattergl": [
           {
            "marker": {
             "colorbar": {
              "outlinewidth": 0,
              "ticks": ""
             }
            },
            "type": "scattergl"
           }
          ],
          "scattermapbox": [
           {
            "marker": {
             "colorbar": {
              "outlinewidth": 0,
              "ticks": ""
             }
            },
            "type": "scattermapbox"
           }
          ],
          "scatterpolar": [
           {
            "marker": {
             "colorbar": {
              "outlinewidth": 0,
              "ticks": ""
             }
            },
            "type": "scatterpolar"
           }
          ],
          "scatterpolargl": [
           {
            "marker": {
             "colorbar": {
              "outlinewidth": 0,
              "ticks": ""
             }
            },
            "type": "scatterpolargl"
           }
          ],
          "scatterternary": [
           {
            "marker": {
             "colorbar": {
              "outlinewidth": 0,
              "ticks": ""
             }
            },
            "type": "scatterternary"
           }
          ],
          "surface": [
           {
            "colorbar": {
             "outlinewidth": 0,
             "ticks": ""
            },
            "colorscale": [
             [
              0,
              "#0d0887"
             ],
             [
              0.1111111111111111,
              "#46039f"
             ],
             [
              0.2222222222222222,
              "#7201a8"
             ],
             [
              0.3333333333333333,
              "#9c179e"
             ],
             [
              0.4444444444444444,
              "#bd3786"
             ],
             [
              0.5555555555555556,
              "#d8576b"
             ],
             [
              0.6666666666666666,
              "#ed7953"
             ],
             [
              0.7777777777777778,
              "#fb9f3a"
             ],
             [
              0.8888888888888888,
              "#fdca26"
             ],
             [
              1,
              "#f0f921"
             ]
            ],
            "type": "surface"
           }
          ],
          "table": [
           {
            "cells": {
             "fill": {
              "color": "#EBF0F8"
             },
             "line": {
              "color": "white"
             }
            },
            "header": {
             "fill": {
              "color": "#C8D4E3"
             },
             "line": {
              "color": "white"
             }
            },
            "type": "table"
           }
          ]
         },
         "layout": {
          "annotationdefaults": {
           "arrowcolor": "#2a3f5f",
           "arrowhead": 0,
           "arrowwidth": 1
          },
          "autotypenumbers": "strict",
          "coloraxis": {
           "colorbar": {
            "outlinewidth": 0,
            "ticks": ""
           }
          },
          "colorscale": {
           "diverging": [
            [
             0,
             "#8e0152"
            ],
            [
             0.1,
             "#c51b7d"
            ],
            [
             0.2,
             "#de77ae"
            ],
            [
             0.3,
             "#f1b6da"
            ],
            [
             0.4,
             "#fde0ef"
            ],
            [
             0.5,
             "#f7f7f7"
            ],
            [
             0.6,
             "#e6f5d0"
            ],
            [
             0.7,
             "#b8e186"
            ],
            [
             0.8,
             "#7fbc41"
            ],
            [
             0.9,
             "#4d9221"
            ],
            [
             1,
             "#276419"
            ]
           ],
           "sequential": [
            [
             0,
             "#0d0887"
            ],
            [
             0.1111111111111111,
             "#46039f"
            ],
            [
             0.2222222222222222,
             "#7201a8"
            ],
            [
             0.3333333333333333,
             "#9c179e"
            ],
            [
             0.4444444444444444,
             "#bd3786"
            ],
            [
             0.5555555555555556,
             "#d8576b"
            ],
            [
             0.6666666666666666,
             "#ed7953"
            ],
            [
             0.7777777777777778,
             "#fb9f3a"
            ],
            [
             0.8888888888888888,
             "#fdca26"
            ],
            [
             1,
             "#f0f921"
            ]
           ],
           "sequentialminus": [
            [
             0,
             "#0d0887"
            ],
            [
             0.1111111111111111,
             "#46039f"
            ],
            [
             0.2222222222222222,
             "#7201a8"
            ],
            [
             0.3333333333333333,
             "#9c179e"
            ],
            [
             0.4444444444444444,
             "#bd3786"
            ],
            [
             0.5555555555555556,
             "#d8576b"
            ],
            [
             0.6666666666666666,
             "#ed7953"
            ],
            [
             0.7777777777777778,
             "#fb9f3a"
            ],
            [
             0.8888888888888888,
             "#fdca26"
            ],
            [
             1,
             "#f0f921"
            ]
           ]
          },
          "colorway": [
           "#636efa",
           "#EF553B",
           "#00cc96",
           "#ab63fa",
           "#FFA15A",
           "#19d3f3",
           "#FF6692",
           "#B6E880",
           "#FF97FF",
           "#FECB52"
          ],
          "font": {
           "color": "#2a3f5f"
          },
          "geo": {
           "bgcolor": "white",
           "lakecolor": "white",
           "landcolor": "#E5ECF6",
           "showlakes": true,
           "showland": true,
           "subunitcolor": "white"
          },
          "hoverlabel": {
           "align": "left"
          },
          "hovermode": "closest",
          "mapbox": {
           "style": "light"
          },
          "paper_bgcolor": "white",
          "plot_bgcolor": "#E5ECF6",
          "polar": {
           "angularaxis": {
            "gridcolor": "white",
            "linecolor": "white",
            "ticks": ""
           },
           "bgcolor": "#E5ECF6",
           "radialaxis": {
            "gridcolor": "white",
            "linecolor": "white",
            "ticks": ""
           }
          },
          "scene": {
           "xaxis": {
            "backgroundcolor": "#E5ECF6",
            "gridcolor": "white",
            "gridwidth": 2,
            "linecolor": "white",
            "showbackground": true,
            "ticks": "",
            "zerolinecolor": "white"
           },
           "yaxis": {
            "backgroundcolor": "#E5ECF6",
            "gridcolor": "white",
            "gridwidth": 2,
            "linecolor": "white",
            "showbackground": true,
            "ticks": "",
            "zerolinecolor": "white"
           },
           "zaxis": {
            "backgroundcolor": "#E5ECF6",
            "gridcolor": "white",
            "gridwidth": 2,
            "linecolor": "white",
            "showbackground": true,
            "ticks": "",
            "zerolinecolor": "white"
           }
          },
          "shapedefaults": {
           "line": {
            "color": "#2a3f5f"
           }
          },
          "ternary": {
           "aaxis": {
            "gridcolor": "white",
            "linecolor": "white",
            "ticks": ""
           },
           "baxis": {
            "gridcolor": "white",
            "linecolor": "white",
            "ticks": ""
           },
           "bgcolor": "#E5ECF6",
           "caxis": {
            "gridcolor": "white",
            "linecolor": "white",
            "ticks": ""
           }
          },
          "title": {
           "x": 0.05
          },
          "xaxis": {
           "automargin": true,
           "gridcolor": "white",
           "linecolor": "white",
           "ticks": "",
           "title": {
            "standoff": 15
           },
           "zerolinecolor": "white",
           "zerolinewidth": 2
          },
          "yaxis": {
           "automargin": true,
           "gridcolor": "white",
           "linecolor": "white",
           "ticks": "",
           "title": {
            "standoff": 15
           },
           "zerolinecolor": "white",
           "zerolinewidth": 2
          }
         }
        },
        "title": {
         "text": "Cost of cloud compute to train frontier ML systems"
        },
        "width": 800,
        "xaxis": {
         "anchor": "y",
         "domain": [
          0,
          1
         ],
         "range": [
          "2015-01-01",
          "2025-01-01"
         ],
         "title": {
          "text": "Publication date"
         }
        },
        "yaxis": {
         "anchor": "x",
         "domain": [
          0,
          1
         ],
         "title": {
          "text": "Cost (2023 USD)"
         },
         "type": "log"
        }
       }
      }
     },
     "metadata": {},
     "output_type": "display_data"
    }
   ],
   "source": [
    "fig = px.scatter(\n",
    "    cost_df,\n",
    "    x='Publication date',\n",
    "    y='Cost (inflation-adjusted)',\n",
    "    text='System',\n",
    "    log_y=True,\n",
    ")\n",
    "fig.update_traces(textposition='top center')\n",
    "\n",
    "# no legend\n",
    "fig.update_layout(showlegend=False)\n",
    "\n",
    "# axis labels\n",
    "fig.update_xaxes(title_text='Publication date')\n",
    "fig.update_yaxes(title_text='Cost (2023 USD)')\n",
    "\n",
    "# title\n",
    "fig.update_layout(title_text='Cost of cloud compute to train frontier ML systems')\n",
    "\n",
    "# update size\n",
    "fig.update_layout(\n",
    "    autosize=False,\n",
    "    width=800,\n",
    "    height=600,\n",
    ")\n",
    "\n",
    "# font size\n",
    "fig.update_layout(\n",
    "    font=dict(\n",
    "        size=14,\n",
    "    )\n",
    ")\n",
    "\n",
    "# axis limits\n",
    "fig.update_xaxes(range=['2015-01-01', '2025-01-01'])\n",
    "\n",
    "# margins\n",
    "fig.update_layout(margin=dict(l=10, r=10, t=40, b=10))\n",
    "\n",
    "save_plot(fig, results_dir, 'cost_scatter')\n",
    "\n",
    "fig.show()"
   ]
  },
  {
   "cell_type": "code",
   "execution_count": 32,
   "metadata": {},
   "outputs": [
    {
     "data": {
      "application/vnd.plotly.v1+json": {
       "config": {
        "plotlyServerURL": "https://plot.ly"
       },
       "data": [
        {
         "hovertemplate": "Publication date=%{x}<br>Cost (inflation-adjusted)=%{y}<br>System=%{text}<extra></extra>",
         "legendgroup": "",
         "marker": {
          "color": "#636efa",
          "symbol": "circle"
         },
         "mode": "markers+text",
         "name": "",
         "orientation": "v",
         "showlegend": false,
         "text": [
          "Gemini Ultra",
          "Falcon 180B",
          "Llama 2-70B",
          "GPT-4",
          "PaLM (540B)",
          "GPT-3 175B (davinci)",
          "Megatron-BERT",
          "GNMT"
         ],
         "textposition": "top center",
         "type": "scatter",
         "x": [
          "2023-12-06 00:00:00",
          "2023-09-06 00:00:00",
          "2023-07-18 00:00:00",
          "2023-03-15 00:00:00",
          "2022-04-04 00:00:00",
          "2020-05-28 00:00:00",
          "2019-09-17 00:00:00",
          "2016-09-26 00:00:00"
         ],
         "xaxis": "x",
         "y": [
          191400000,
          25816323.797898512,
          3931897.156858603,
          78352033.69393542,
          12389056.261813464,
          4324882.624338623,
          881778.3356559139,
          194739.1953027523
         ],
         "yaxis": "y"
        },
        {
         "marker": {
          "color": "rgb(0,100,200)"
         },
         "mode": "markers",
         "showlegend": false,
         "textposition": "top center",
         "type": "scatter",
         "x": [
          "2023-12-06 00:00:00",
          "2023-11-30 00:00:00",
          "2023-11-22 00:00:00",
          "2023-11-15 00:00:00",
          "2023-11-06 00:00:00",
          "2023-11-02 00:00:00",
          "2023-10-30 00:00:00",
          "2023-10-27 00:00:00",
          "2023-09-07 00:00:00",
          "2023-09-06 00:00:00",
          "2023-08-29 00:00:00",
          "2023-07-18 00:00:00",
          "2023-07-18 00:00:00",
          "2023-07-11 00:00:00",
          "2023-07-05 00:00:00",
          "2023-05-10 00:00:00",
          "2023-05-09 00:00:00",
          "2023-04-24 00:00:00",
          "2023-03-30 00:00:00",
          "2023-03-20 00:00:00",
          "2023-03-15 00:00:00",
          "2023-03-15 00:00:00",
          "2023-02-24 00:00:00",
          "2023-02-24 00:00:00",
          "2022-11-28 00:00:00",
          "2022-11-16 00:00:00",
          "2022-11-08 00:00:00",
          "2022-10-31 00:00:00",
          "2022-10-20 00:00:00",
          "2022-09-21 00:00:00",
          "2022-09-14 00:00:00",
          "2022-08-10 00:00:00",
          "2022-08-04 00:00:00",
          "2022-08-02 00:00:00",
          "2022-07-21 00:00:00",
          "2022-07-06 00:00:00",
          "2022-06-29 00:00:00",
          "2022-06-22 00:00:00",
          "2022-06-14 00:00:00",
          "2022-05-23 00:00:00",
          "2022-05-10 00:00:00",
          "2022-05-02 00:00:00",
          "2022-04-29 00:00:00",
          "2022-04-13 00:00:00",
          "2022-04-04 00:00:00",
          "2022-03-29 00:00:00",
          "2022-02-10 00:00:00",
          "2022-02-09 00:00:00",
          "2022-02-02 00:00:00",
          "2021-12-23 00:00:00",
          "2021-12-20 00:00:00",
          "2021-12-13 00:00:00",
          "2021-12-08 00:00:00",
          "2021-11-22 00:00:00",
          "2021-11-19 00:00:00",
          "2021-10-15 00:00:00",
          "2021-10-12 00:00:00",
          "2021-10-11 00:00:00",
          "2021-09-10 00:00:00",
          "2021-09-03 00:00:00",
          "2021-07-27 00:00:00",
          "2021-07-05 00:00:00",
          "2021-06-11 00:00:00",
          "2021-06-10 00:00:00",
          "2021-06-09 00:00:00",
          "2021-05-28 00:00:00",
          "2021-05-26 00:00:00",
          "2021-05-04 00:00:00",
          "2021-05-04 00:00:00",
          "2021-05-04 00:00:00",
          "2021-04-19 00:00:00",
          "2021-03-05 00:00:00",
          "2021-03-01 00:00:00",
          "2021-02-13 00:00:00",
          "2021-01-11 00:00:00",
          "2021-01-05 00:00:00",
          "2021-01-05 00:00:00",
          "2020-10-22 00:00:00",
          "2020-10-20 00:00:00",
          "2020-10-20 00:00:00",
          "2020-06-30 00:00:00",
          "2020-06-17 00:00:00",
          "2020-06-17 00:00:00",
          "2020-05-28 00:00:00",
          "2020-04-29 00:00:00",
          "2020-03-23 00:00:00",
          "2020-02-13 00:00:00",
          "2020-02-09 00:00:00",
          "2020-01-28 00:00:00",
          "2020-01-19 00:00:00",
          "2019-12-19 00:00:00",
          "2019-12-13 00:00:00",
          "2019-12-13 00:00:00",
          "2019-11-11 00:00:00",
          "2019-10-30 00:00:00",
          "2019-10-23 00:00:00",
          "2019-10-23 00:00:00",
          "2019-09-17 00:00:00",
          "2019-09-17 00:00:00",
          "2019-07-01 00:00:00",
          "2019-05-29 00:00:00",
          "2019-05-29 00:00:00",
          "2019-04-20 00:00:00",
          "2019-03-26 00:00:00",
          "2019-02-23 00:00:00",
          "2019-02-14 00:00:00",
          "2018-10-11 00:00:00",
          "2018-09-28 00:00:00",
          "2018-09-28 00:00:00",
          "2018-09-17 00:00:00",
          "2018-08-28 00:00:00",
          "2018-07-03 00:00:00",
          "2018-07-03 00:00:00",
          "2018-06-01 00:00:00",
          "2018-05-02 00:00:00",
          "2018-04-08 00:00:00",
          "2018-03-27 00:00:00",
          "2018-02-05 00:00:00",
          "2018-02-05 00:00:00",
          "2017-12-05 00:00:00",
          "2017-12-02 00:00:00",
          "2017-10-18 00:00:00",
          "2017-08-11 00:00:00",
          "2017-07-10 00:00:00",
          "2017-06-12 00:00:00",
          "2017-01-23 00:00:00",
          "2017-01-06 00:00:00",
          "2017-01-01 00:00:00",
          "2017-01-01 00:00:00",
          "2016-11-17 00:00:00",
          "2016-11-05 00:00:00",
          "2016-11-05 00:00:00",
          "2016-10-07 00:00:00",
          "2016-09-26 00:00:00",
          "2016-01-27 00:00:00",
          "2015-12-10 00:00:00",
          "2015-12-08 00:00:00",
          "2015-10-01 00:00:00"
         ],
         "y": [
          191400000,
          null,
          null,
          null,
          null,
          null,
          null,
          null,
          null,
          25816323.797898512,
          null,
          3931897.156858603,
          null,
          null,
          null,
          null,
          null,
          null,
          null,
          null,
          78352033.69393542,
          null,
          1503762.8500199951,
          null,
          null,
          null,
          null,
          null,
          12523793.100601656,
          null,
          null,
          null,
          1635572.685301023,
          null,
          null,
          null,
          13470191.00856837,
          null,
          null,
          null,
          null,
          1493974.647531918,
          815069.4909087805,
          null,
          12389056.261813464,
          null,
          1319585.503057254,
          310840.989438577,
          null,
          null,
          193060.0432091273,
          2093016.0239973643,
          3499807.67985019,
          null,
          null,
          null,
          null,
          6405652.563246981,
          986971.6222926452,
          null,
          null,
          null,
          165500.13931537792,
          null,
          null,
          null,
          null,
          null,
          null,
          null,
          null,
          null,
          251391.36000000002,
          null,
          619741.3696948562,
          null,
          null,
          null,
          null,
          null,
          969111.5896932516,
          null,
          null,
          4324882.624338623,
          null,
          null,
          null,
          null,
          697110.2785525154,
          null,
          null,
          null,
          null,
          null,
          388902.65897940914,
          null,
          236631.5547502238,
          881778.3356559139,
          216070.42339784946,
          160017.6468716094,
          null,
          null,
          null,
          638.7439274047186,
          null,
          null,
          3287.6352902712474,
          11648.178852488687,
          null,
          null,
          4434.402272463768,
          null,
          null,
          null,
          null,
          null,
          null,
          null,
          138.13091568449684,
          null,
          null,
          null,
          null,
          33440.7332123412,
          null,
          null,
          null,
          null,
          null,
          null,
          null,
          null,
          null,
          194739.1953027523,
          null,
          null,
          null,
          null
         ]
        },
        {
         "line": {
          "color": "rgb(0,100,200)"
         },
         "mode": "lines",
         "name": "Regression mean (3.6x per year)",
         "textposition": "top center",
         "type": "scatter",
         "x": [
          "2015-01-01T00:00:00",
          "2015-02-06T00:00:00",
          "2015-03-15T00:00:00",
          "2015-04-21T00:00:00",
          "2015-05-28T00:00:00",
          "2015-07-04T00:00:00",
          "2015-08-10T00:00:00",
          "2015-09-16T00:00:00",
          "2015-10-22T00:00:00",
          "2015-11-28T00:00:00",
          "2016-01-04T00:00:00",
          "2016-02-10T00:00:00",
          "2016-03-18T00:00:00",
          "2016-04-24T00:00:00",
          "2016-05-31T00:00:00",
          "2016-07-07T00:00:00",
          "2016-08-13T00:00:00",
          "2016-09-19T00:00:00",
          "2016-10-26T00:00:00",
          "2016-12-02T00:00:00",
          "2017-01-08T00:00:00",
          "2017-02-14T00:00:00",
          "2017-03-23T00:00:00",
          "2017-04-28T00:00:00",
          "2017-06-04T00:00:00",
          "2017-07-11T00:00:00",
          "2017-08-17T00:00:00",
          "2017-09-23T00:00:00",
          "2017-10-30T00:00:00",
          "2017-12-06T00:00:00",
          "2018-01-12T00:00:00",
          "2018-02-17T00:00:00",
          "2018-03-26T00:00:00",
          "2018-05-02T00:00:00",
          "2018-06-08T00:00:00",
          "2018-07-15T00:00:00",
          "2018-08-21T00:00:00",
          "2018-09-27T00:00:00",
          "2018-11-03T00:00:00",
          "2018-12-09T00:00:00",
          "2019-01-15T00:00:00",
          "2019-02-21T00:00:00",
          "2019-03-30T00:00:00",
          "2019-05-06T00:00:00",
          "2019-06-12T00:00:00",
          "2019-07-19T00:00:00",
          "2019-08-24T00:00:00",
          "2019-09-30T00:00:00",
          "2019-11-06T00:00:00",
          "2019-12-13T00:00:00",
          "2020-01-19T00:00:00",
          "2020-02-25T00:00:00",
          "2020-04-02T00:00:00",
          "2020-05-09T00:00:00",
          "2020-06-15T00:00:00",
          "2020-07-22T00:00:00",
          "2020-08-28T00:00:00",
          "2020-10-04T00:00:00",
          "2020-11-10T00:00:00",
          "2020-12-17T00:00:00",
          "2021-01-23T00:00:00",
          "2021-02-28T00:00:00",
          "2021-04-06T00:00:00",
          "2021-05-13T00:00:00",
          "2021-06-19T00:00:00",
          "2021-07-26T00:00:00",
          "2021-09-01T00:00:00",
          "2021-10-08T00:00:00",
          "2021-11-14T00:00:00",
          "2021-12-20T00:00:00",
          "2022-01-26T00:00:00",
          "2022-03-04T00:00:00",
          "2022-04-10T00:00:00",
          "2022-05-17T00:00:00",
          "2022-06-23T00:00:00",
          "2022-07-30T00:00:00",
          "2022-09-05T00:00:00",
          "2022-10-11T00:00:00",
          "2022-11-17T00:00:00",
          "2022-12-24T00:00:00",
          "2023-01-30T00:00:00",
          "2023-03-08T00:00:00",
          "2023-04-14T00:00:00",
          "2023-05-21T00:00:00",
          "2023-06-26T00:00:00",
          "2023-08-02T00:00:00",
          "2023-09-08T00:00:00",
          "2023-10-15T00:00:00",
          "2023-11-21T00:00:00",
          "2023-12-28T00:00:00",
          "2024-02-03T00:00:00",
          "2024-03-11T00:00:00",
          "2024-04-17T00:00:00",
          "2024-05-24T00:00:00",
          "2024-06-30T00:00:00",
          "2024-08-06T00:00:00",
          "2024-09-12T00:00:00",
          "2024-10-19T00:00:00",
          "2024-11-25T00:00:00",
          "2025-01-01T00:00:00"
         ],
         "y": [
          257.26808511443454,
          292.64174766857116,
          332.8791926927039,
          378.649177058885,
          430.71240989137834,
          489.9341957518338,
          557.2988162274252,
          633.9258889491736,
          721.0889759292181,
          820.2367504955121,
          933.0170746214287,
          1061.3043868242837,
          1207.2308558227517,
          1373.2218177402412,
          1562.0360858256035,
          1776.811802653445,
          2021.1185968728407,
          2299.0169113717734,
          2615.125488899955,
          2974.6981367856074,
          3383.711046584609,
          3848.962119950588,
          4378.183951543982,
          4980.172346773666,
          5664.932510389973,
          6443.8453356044765,
          7329.856557522383,
          8337.691914639021,
          9484.101894476222,
          10788.14013106595,
          12271.480081349007,
          13958.775243686614,
          15878.06890546972,
          18061.260229890035,
          20544.63442840513,
          23369.465830423957,
          26582.703873487597,
          30237.753415201096,
          34395.36233598406,
          39124.63118469943,
          44504.16164788792,
          50623.36293042118,
          57583.93775982449,
          65501.57271228417,
          74507.86095380221,
          84752.48935315464,
          96405.72631672122,
          109661.25169406146,
          124739.37578767077,
          141890.7009680326,
          161400.28675042948,
          183592.38755885654,
          208835.84191935754,
          237550.20265313605,
          270212.7099539581,
          307366.2232453504,
          349628.2436462019,
          397701.1770014406,
          452384.008050517,
          514585.57976334204,
          585339.6985481599,
          665822.3163853956,
          757371.0754565195,
          861507.5401077064,
          979962.4856484979,
          1114704.6642892107,
          1267973.526319062,
          1442316.4403557181,
          1640631.0312803292,
          1866213.339519381,
          2122812.6021011453,
          2414693.565955692,
          2746707.3691282347,
          3124372.1679597097,
          3553964.8502925443,
          4042625.35898833,
          4598475.359652185,
          5230753.224835084,
          5949967.578208817,
          6768071.950639968,
          7698663.451010336,
          8757208.753715754,
          9961301.15884848,
          11330952.99746071,
          12888928.241730392,
          14661120.848149708,
          16676985.121854432,
          18970025.25490641,
          21578352.17471083,
          24545316.957625937,
          27920231.33519083,
          31759187.26804645,
          36125989.20896269,
          41093214.54957885,
          46743419.875635736,
          53170513.07909933,
          60481314.13183676,
          68797330.46156794,
          78256776.43709426,
          89016870.52738506
         ]
        },
        {
         "line": {
          "width": 0
         },
         "mode": "lines",
         "showlegend": false,
         "textposition": "top center",
         "type": "scatter",
         "x": [
          "2015-01-01T00:00:00",
          "2015-02-06T00:00:00",
          "2015-03-15T00:00:00",
          "2015-04-21T00:00:00",
          "2015-05-28T00:00:00",
          "2015-07-04T00:00:00",
          "2015-08-10T00:00:00",
          "2015-09-16T00:00:00",
          "2015-10-22T00:00:00",
          "2015-11-28T00:00:00",
          "2016-01-04T00:00:00",
          "2016-02-10T00:00:00",
          "2016-03-18T00:00:00",
          "2016-04-24T00:00:00",
          "2016-05-31T00:00:00",
          "2016-07-07T00:00:00",
          "2016-08-13T00:00:00",
          "2016-09-19T00:00:00",
          "2016-10-26T00:00:00",
          "2016-12-02T00:00:00",
          "2017-01-08T00:00:00",
          "2017-02-14T00:00:00",
          "2017-03-23T00:00:00",
          "2017-04-28T00:00:00",
          "2017-06-04T00:00:00",
          "2017-07-11T00:00:00",
          "2017-08-17T00:00:00",
          "2017-09-23T00:00:00",
          "2017-10-30T00:00:00",
          "2017-12-06T00:00:00",
          "2018-01-12T00:00:00",
          "2018-02-17T00:00:00",
          "2018-03-26T00:00:00",
          "2018-05-02T00:00:00",
          "2018-06-08T00:00:00",
          "2018-07-15T00:00:00",
          "2018-08-21T00:00:00",
          "2018-09-27T00:00:00",
          "2018-11-03T00:00:00",
          "2018-12-09T00:00:00",
          "2019-01-15T00:00:00",
          "2019-02-21T00:00:00",
          "2019-03-30T00:00:00",
          "2019-05-06T00:00:00",
          "2019-06-12T00:00:00",
          "2019-07-19T00:00:00",
          "2019-08-24T00:00:00",
          "2019-09-30T00:00:00",
          "2019-11-06T00:00:00",
          "2019-12-13T00:00:00",
          "2020-01-19T00:00:00",
          "2020-02-25T00:00:00",
          "2020-04-02T00:00:00",
          "2020-05-09T00:00:00",
          "2020-06-15T00:00:00",
          "2020-07-22T00:00:00",
          "2020-08-28T00:00:00",
          "2020-10-04T00:00:00",
          "2020-11-10T00:00:00",
          "2020-12-17T00:00:00",
          "2021-01-23T00:00:00",
          "2021-02-28T00:00:00",
          "2021-04-06T00:00:00",
          "2021-05-13T00:00:00",
          "2021-06-19T00:00:00",
          "2021-07-26T00:00:00",
          "2021-09-01T00:00:00",
          "2021-10-08T00:00:00",
          "2021-11-14T00:00:00",
          "2021-12-20T00:00:00",
          "2022-01-26T00:00:00",
          "2022-03-04T00:00:00",
          "2022-04-10T00:00:00",
          "2022-05-17T00:00:00",
          "2022-06-23T00:00:00",
          "2022-07-30T00:00:00",
          "2022-09-05T00:00:00",
          "2022-10-11T00:00:00",
          "2022-11-17T00:00:00",
          "2022-12-24T00:00:00",
          "2023-01-30T00:00:00",
          "2023-03-08T00:00:00",
          "2023-04-14T00:00:00",
          "2023-05-21T00:00:00",
          "2023-06-26T00:00:00",
          "2023-08-02T00:00:00",
          "2023-09-08T00:00:00",
          "2023-10-15T00:00:00",
          "2023-11-21T00:00:00",
          "2023-12-28T00:00:00",
          "2024-02-03T00:00:00",
          "2024-03-11T00:00:00",
          "2024-04-17T00:00:00",
          "2024-05-24T00:00:00",
          "2024-06-30T00:00:00",
          "2024-08-06T00:00:00",
          "2024-09-12T00:00:00",
          "2024-10-19T00:00:00",
          "2024-11-25T00:00:00",
          "2025-01-01T00:00:00"
         ],
         "y": [
          26.051523202545088,
          30.694918051998354,
          36.164083883942055,
          42.605435686337415,
          50.19124386939233,
          59.12417443315728,
          69.64261998260801,
          82.0269577132574,
          96.60689349079573,
          113.7700779216757,
          133.97221143976856,
          157.74889158856877,
          185.72949761301112,
          218.65345605021366,
          257.38928718000676,
          302.95689704582304,
          356.55365446686085,
          419.58487835292647,
          493.699459110715,
          580.8314505303473,
          683.2485968488664,
          803.608905355587,
          945.0265395389957,
          1111.1484928966645,
          1306.243710447254,
          1535.3065545675654,
          1804.1767643536716,
          2119.678332604281,
          2489.7800198558657,
          2923.780536841356,
          3432.521749135099,
          4028.6335810379865,
          4726.814606298614,
          5544.152591847715,
          6500.489481673769,
          7618.83543728358,
          8925.836545788465,
          10452.300612484136,
          12233.785007403227,
          14311.249759519975,
          16731.777906384814,
          19549.363427293916,
          22825.764841730044,
          26631.41969617177,
          31046.41169875708,
          36161.47829038219,
          42079.04219240375,
          48914.24636041419,
          56795.968442441044,
          65867.78918618789,
          76288.89038797953,
          88234.86317702525,
          101898.41783470001,
          117490.00267286116,
          135238.36155840047,
          155391.08596698742,
          178215.24487291338,
          203998.1997932706,
          233048.7276452186,
          265698.5760999329,
          302304.5623600364,
          343251.2977679327,
          388954.5821752593,
          439865.4712100777,
          496474.98483795096,
          559319.4036502719,
          628986.0934106531,
          706119.8078786018,
          791429.4410482866,
          885695.2273923213,
          989776.4173772392,
          1104619.481592885,
          1231266.9182802646,
          1370866.7553828773,
          1524682.85018152,
          1694106.098297821,
          1880666.6707845794,
          2086047.404330144,
          2312098.476297299,
          2560853.504003168,
          2834547.216820371,
          3135634.8605269166,
          3466813.5060880473,
          3831045.449706973,
          4231583.907669413,
          4672001.228302975,
          5156219.864290427,
          5688546.371837685,
          6273708.728833147,
          6916897.29245837,
          7623809.747765377,
          8400700.432929171,
          9254434.464323787,
          10192547.125778675,
          11223309.031409355,
          12355797.620955948,
          13599975.600740362,
          14966777.002966156,
          16468201.601216044,
          18117418.491633743
         ]
        },
        {
         "fill": "tonexty",
         "fillcolor": "rgba(0,100,200,0.2)",
         "line": {
          "width": 0
         },
         "mode": "lines",
         "name": "95% CI of mean",
         "textposition": "top center",
         "type": "scatter",
         "x": [
          "2015-01-01T00:00:00",
          "2015-02-06T00:00:00",
          "2015-03-15T00:00:00",
          "2015-04-21T00:00:00",
          "2015-05-28T00:00:00",
          "2015-07-04T00:00:00",
          "2015-08-10T00:00:00",
          "2015-09-16T00:00:00",
          "2015-10-22T00:00:00",
          "2015-11-28T00:00:00",
          "2016-01-04T00:00:00",
          "2016-02-10T00:00:00",
          "2016-03-18T00:00:00",
          "2016-04-24T00:00:00",
          "2016-05-31T00:00:00",
          "2016-07-07T00:00:00",
          "2016-08-13T00:00:00",
          "2016-09-19T00:00:00",
          "2016-10-26T00:00:00",
          "2016-12-02T00:00:00",
          "2017-01-08T00:00:00",
          "2017-02-14T00:00:00",
          "2017-03-23T00:00:00",
          "2017-04-28T00:00:00",
          "2017-06-04T00:00:00",
          "2017-07-11T00:00:00",
          "2017-08-17T00:00:00",
          "2017-09-23T00:00:00",
          "2017-10-30T00:00:00",
          "2017-12-06T00:00:00",
          "2018-01-12T00:00:00",
          "2018-02-17T00:00:00",
          "2018-03-26T00:00:00",
          "2018-05-02T00:00:00",
          "2018-06-08T00:00:00",
          "2018-07-15T00:00:00",
          "2018-08-21T00:00:00",
          "2018-09-27T00:00:00",
          "2018-11-03T00:00:00",
          "2018-12-09T00:00:00",
          "2019-01-15T00:00:00",
          "2019-02-21T00:00:00",
          "2019-03-30T00:00:00",
          "2019-05-06T00:00:00",
          "2019-06-12T00:00:00",
          "2019-07-19T00:00:00",
          "2019-08-24T00:00:00",
          "2019-09-30T00:00:00",
          "2019-11-06T00:00:00",
          "2019-12-13T00:00:00",
          "2020-01-19T00:00:00",
          "2020-02-25T00:00:00",
          "2020-04-02T00:00:00",
          "2020-05-09T00:00:00",
          "2020-06-15T00:00:00",
          "2020-07-22T00:00:00",
          "2020-08-28T00:00:00",
          "2020-10-04T00:00:00",
          "2020-11-10T00:00:00",
          "2020-12-17T00:00:00",
          "2021-01-23T00:00:00",
          "2021-02-28T00:00:00",
          "2021-04-06T00:00:00",
          "2021-05-13T00:00:00",
          "2021-06-19T00:00:00",
          "2021-07-26T00:00:00",
          "2021-09-01T00:00:00",
          "2021-10-08T00:00:00",
          "2021-11-14T00:00:00",
          "2021-12-20T00:00:00",
          "2022-01-26T00:00:00",
          "2022-03-04T00:00:00",
          "2022-04-10T00:00:00",
          "2022-05-17T00:00:00",
          "2022-06-23T00:00:00",
          "2022-07-30T00:00:00",
          "2022-09-05T00:00:00",
          "2022-10-11T00:00:00",
          "2022-11-17T00:00:00",
          "2022-12-24T00:00:00",
          "2023-01-30T00:00:00",
          "2023-03-08T00:00:00",
          "2023-04-14T00:00:00",
          "2023-05-21T00:00:00",
          "2023-06-26T00:00:00",
          "2023-08-02T00:00:00",
          "2023-09-08T00:00:00",
          "2023-10-15T00:00:00",
          "2023-11-21T00:00:00",
          "2023-12-28T00:00:00",
          "2024-02-03T00:00:00",
          "2024-03-11T00:00:00",
          "2024-04-17T00:00:00",
          "2024-05-24T00:00:00",
          "2024-06-30T00:00:00",
          "2024-08-06T00:00:00",
          "2024-09-12T00:00:00",
          "2024-10-19T00:00:00",
          "2024-11-25T00:00:00",
          "2025-01-01T00:00:00"
         ],
         "y": [
          2540.6141170272103,
          2790.012090387068,
          3064.049881184703,
          3365.1856148803095,
          3696.126370511581,
          4059.8540016549046,
          4459.653738559114,
          4899.145889145295,
          5382.320996132524,
          5913.578852662946,
          6497.771830291081,
          7140.2530322063485,
          7846.929852183243,
          8624.323597632745,
          9479.635924843189,
          10420.822938291023,
          11456.677926168615,
          12596.923844161087,
          13852.316822491319,
          15234.762161925026,
          16757.44450787554,
          18434.97415482137,
          20283.55174332785,
          22321.15397907997,
          24567.74343915135,
          27045.50604936812,
          29779.12043618462,
          32796.06409809675,
          36126.96223259699,
          39805.98612686867,
          43871.30931505085,
          48365.63127033147,
          53336.78029827885,
          58838.40960140153,
          64930.8032859289,
          71681.81248892695,
          79167.94595112212,
          87475.64440563905,
          96702.77428512258,
          106960.38368839835,
          118374.77254736554,
          131089.9397781507,
          145270.48319823205,
          161105.04346861376,
          178810.40159411955,
          198636.36087762035,
          220871.56889546197,
          245850.46316568597,
          273961.55569856486,
          305657.3064004008,
          341465.87308635755,
          382005.0664320388,
          427998.8816010382,
          480297.0252513299,
          539897.908990354,
          607975.6416155134,
          685911.6280557149,
          775331.4801239178,
          878148.0714685594,
          996611.7349487811,
          1133368.8119744505,
          1291530.0244444693,
          1474750.452174134,
          1687323.261861494,
          1934289.7479353012,
          2221568.714546271,
          2556108.7602557265,
          2946067.6374030244,
          3401023.567223768,
          3932224.2244141456,
          4552880.08940499,
          5278510.034115782,
          6127348.391818052,
          7120824.402219056,
          8284126.863243181,
          9646869.112599393,
          11243872.166090222,
          13116087.02770996,
          15311680.944676142,
          17887316.8095846,
          20909660.13203595,
          24457154.154507942,
          28622110.93934626,
          33513174.802059352,
          39258224.54315221,
          46007792.81090351,
          53939094.93283948,
          63260776.066335134,
          74218504.9866747,
          87101565.78545804,
          102250625.81592688,
          120066890.13372508,
          141022890.30812725,
          165675199.8474289,
          194679420.797843,
          228807847.76692903,
          268970288.36689836,
          316238604.85795844,
          371875642.92831594,
          437369332.8411217
         ]
        }
       ],
       "layout": {
        "autosize": false,
        "font": {
         "size": 14
        },
        "height": 600,
        "legend": {
         "orientation": "h",
         "tracegroupgap": 0,
         "x": 0.62,
         "xanchor": "right",
         "y": 1.02,
         "yanchor": "bottom"
        },
        "margin": {
         "b": 10,
         "l": 10,
         "r": 10,
         "t": 100
        },
        "template": {
         "data": {
          "bar": [
           {
            "error_x": {
             "color": "#2a3f5f"
            },
            "error_y": {
             "color": "#2a3f5f"
            },
            "marker": {
             "line": {
              "color": "#E5ECF6",
              "width": 0.5
             },
             "pattern": {
              "fillmode": "overlay",
              "size": 10,
              "solidity": 0.2
             }
            },
            "type": "bar"
           }
          ],
          "barpolar": [
           {
            "marker": {
             "line": {
              "color": "#E5ECF6",
              "width": 0.5
             },
             "pattern": {
              "fillmode": "overlay",
              "size": 10,
              "solidity": 0.2
             }
            },
            "type": "barpolar"
           }
          ],
          "carpet": [
           {
            "aaxis": {
             "endlinecolor": "#2a3f5f",
             "gridcolor": "white",
             "linecolor": "white",
             "minorgridcolor": "white",
             "startlinecolor": "#2a3f5f"
            },
            "baxis": {
             "endlinecolor": "#2a3f5f",
             "gridcolor": "white",
             "linecolor": "white",
             "minorgridcolor": "white",
             "startlinecolor": "#2a3f5f"
            },
            "type": "carpet"
           }
          ],
          "choropleth": [
           {
            "colorbar": {
             "outlinewidth": 0,
             "ticks": ""
            },
            "type": "choropleth"
           }
          ],
          "contour": [
           {
            "colorbar": {
             "outlinewidth": 0,
             "ticks": ""
            },
            "colorscale": [
             [
              0,
              "#0d0887"
             ],
             [
              0.1111111111111111,
              "#46039f"
             ],
             [
              0.2222222222222222,
              "#7201a8"
             ],
             [
              0.3333333333333333,
              "#9c179e"
             ],
             [
              0.4444444444444444,
              "#bd3786"
             ],
             [
              0.5555555555555556,
              "#d8576b"
             ],
             [
              0.6666666666666666,
              "#ed7953"
             ],
             [
              0.7777777777777778,
              "#fb9f3a"
             ],
             [
              0.8888888888888888,
              "#fdca26"
             ],
             [
              1,
              "#f0f921"
             ]
            ],
            "type": "contour"
           }
          ],
          "contourcarpet": [
           {
            "colorbar": {
             "outlinewidth": 0,
             "ticks": ""
            },
            "type": "contourcarpet"
           }
          ],
          "heatmap": [
           {
            "colorbar": {
             "outlinewidth": 0,
             "ticks": ""
            },
            "colorscale": [
             [
              0,
              "#0d0887"
             ],
             [
              0.1111111111111111,
              "#46039f"
             ],
             [
              0.2222222222222222,
              "#7201a8"
             ],
             [
              0.3333333333333333,
              "#9c179e"
             ],
             [
              0.4444444444444444,
              "#bd3786"
             ],
             [
              0.5555555555555556,
              "#d8576b"
             ],
             [
              0.6666666666666666,
              "#ed7953"
             ],
             [
              0.7777777777777778,
              "#fb9f3a"
             ],
             [
              0.8888888888888888,
              "#fdca26"
             ],
             [
              1,
              "#f0f921"
             ]
            ],
            "type": "heatmap"
           }
          ],
          "heatmapgl": [
           {
            "colorbar": {
             "outlinewidth": 0,
             "ticks": ""
            },
            "colorscale": [
             [
              0,
              "#0d0887"
             ],
             [
              0.1111111111111111,
              "#46039f"
             ],
             [
              0.2222222222222222,
              "#7201a8"
             ],
             [
              0.3333333333333333,
              "#9c179e"
             ],
             [
              0.4444444444444444,
              "#bd3786"
             ],
             [
              0.5555555555555556,
              "#d8576b"
             ],
             [
              0.6666666666666666,
              "#ed7953"
             ],
             [
              0.7777777777777778,
              "#fb9f3a"
             ],
             [
              0.8888888888888888,
              "#fdca26"
             ],
             [
              1,
              "#f0f921"
             ]
            ],
            "type": "heatmapgl"
           }
          ],
          "histogram": [
           {
            "marker": {
             "pattern": {
              "fillmode": "overlay",
              "size": 10,
              "solidity": 0.2
             }
            },
            "type": "histogram"
           }
          ],
          "histogram2d": [
           {
            "colorbar": {
             "outlinewidth": 0,
             "ticks": ""
            },
            "colorscale": [
             [
              0,
              "#0d0887"
             ],
             [
              0.1111111111111111,
              "#46039f"
             ],
             [
              0.2222222222222222,
              "#7201a8"
             ],
             [
              0.3333333333333333,
              "#9c179e"
             ],
             [
              0.4444444444444444,
              "#bd3786"
             ],
             [
              0.5555555555555556,
              "#d8576b"
             ],
             [
              0.6666666666666666,
              "#ed7953"
             ],
             [
              0.7777777777777778,
              "#fb9f3a"
             ],
             [
              0.8888888888888888,
              "#fdca26"
             ],
             [
              1,
              "#f0f921"
             ]
            ],
            "type": "histogram2d"
           }
          ],
          "histogram2dcontour": [
           {
            "colorbar": {
             "outlinewidth": 0,
             "ticks": ""
            },
            "colorscale": [
             [
              0,
              "#0d0887"
             ],
             [
              0.1111111111111111,
              "#46039f"
             ],
             [
              0.2222222222222222,
              "#7201a8"
             ],
             [
              0.3333333333333333,
              "#9c179e"
             ],
             [
              0.4444444444444444,
              "#bd3786"
             ],
             [
              0.5555555555555556,
              "#d8576b"
             ],
             [
              0.6666666666666666,
              "#ed7953"
             ],
             [
              0.7777777777777778,
              "#fb9f3a"
             ],
             [
              0.8888888888888888,
              "#fdca26"
             ],
             [
              1,
              "#f0f921"
             ]
            ],
            "type": "histogram2dcontour"
           }
          ],
          "mesh3d": [
           {
            "colorbar": {
             "outlinewidth": 0,
             "ticks": ""
            },
            "type": "mesh3d"
           }
          ],
          "parcoords": [
           {
            "line": {
             "colorbar": {
              "outlinewidth": 0,
              "ticks": ""
             }
            },
            "type": "parcoords"
           }
          ],
          "pie": [
           {
            "automargin": true,
            "type": "pie"
           }
          ],
          "scatter": [
           {
            "fillpattern": {
             "fillmode": "overlay",
             "size": 10,
             "solidity": 0.2
            },
            "type": "scatter"
           }
          ],
          "scatter3d": [
           {
            "line": {
             "colorbar": {
              "outlinewidth": 0,
              "ticks": ""
             }
            },
            "marker": {
             "colorbar": {
              "outlinewidth": 0,
              "ticks": ""
             }
            },
            "type": "scatter3d"
           }
          ],
          "scattercarpet": [
           {
            "marker": {
             "colorbar": {
              "outlinewidth": 0,
              "ticks": ""
             }
            },
            "type": "scattercarpet"
           }
          ],
          "scattergeo": [
           {
            "marker": {
             "colorbar": {
              "outlinewidth": 0,
              "ticks": ""
             }
            },
            "type": "scattergeo"
           }
          ],
          "scattergl": [
           {
            "marker": {
             "colorbar": {
              "outlinewidth": 0,
              "ticks": ""
             }
            },
            "type": "scattergl"
           }
          ],
          "scattermapbox": [
           {
            "marker": {
             "colorbar": {
              "outlinewidth": 0,
              "ticks": ""
             }
            },
            "type": "scattermapbox"
           }
          ],
          "scatterpolar": [
           {
            "marker": {
             "colorbar": {
              "outlinewidth": 0,
              "ticks": ""
             }
            },
            "type": "scatterpolar"
           }
          ],
          "scatterpolargl": [
           {
            "marker": {
             "colorbar": {
              "outlinewidth": 0,
              "ticks": ""
             }
            },
            "type": "scatterpolargl"
           }
          ],
          "scatterternary": [
           {
            "marker": {
             "colorbar": {
              "outlinewidth": 0,
              "ticks": ""
             }
            },
            "type": "scatterternary"
           }
          ],
          "surface": [
           {
            "colorbar": {
             "outlinewidth": 0,
             "ticks": ""
            },
            "colorscale": [
             [
              0,
              "#0d0887"
             ],
             [
              0.1111111111111111,
              "#46039f"
             ],
             [
              0.2222222222222222,
              "#7201a8"
             ],
             [
              0.3333333333333333,
              "#9c179e"
             ],
             [
              0.4444444444444444,
              "#bd3786"
             ],
             [
              0.5555555555555556,
              "#d8576b"
             ],
             [
              0.6666666666666666,
              "#ed7953"
             ],
             [
              0.7777777777777778,
              "#fb9f3a"
             ],
             [
              0.8888888888888888,
              "#fdca26"
             ],
             [
              1,
              "#f0f921"
             ]
            ],
            "type": "surface"
           }
          ],
          "table": [
           {
            "cells": {
             "fill": {
              "color": "#EBF0F8"
             },
             "line": {
              "color": "white"
             }
            },
            "header": {
             "fill": {
              "color": "#C8D4E3"
             },
             "line": {
              "color": "white"
             }
            },
            "type": "table"
           }
          ]
         },
         "layout": {
          "annotationdefaults": {
           "arrowcolor": "#2a3f5f",
           "arrowhead": 0,
           "arrowwidth": 1
          },
          "autotypenumbers": "strict",
          "coloraxis": {
           "colorbar": {
            "outlinewidth": 0,
            "ticks": ""
           }
          },
          "colorscale": {
           "diverging": [
            [
             0,
             "#8e0152"
            ],
            [
             0.1,
             "#c51b7d"
            ],
            [
             0.2,
             "#de77ae"
            ],
            [
             0.3,
             "#f1b6da"
            ],
            [
             0.4,
             "#fde0ef"
            ],
            [
             0.5,
             "#f7f7f7"
            ],
            [
             0.6,
             "#e6f5d0"
            ],
            [
             0.7,
             "#b8e186"
            ],
            [
             0.8,
             "#7fbc41"
            ],
            [
             0.9,
             "#4d9221"
            ],
            [
             1,
             "#276419"
            ]
           ],
           "sequential": [
            [
             0,
             "#0d0887"
            ],
            [
             0.1111111111111111,
             "#46039f"
            ],
            [
             0.2222222222222222,
             "#7201a8"
            ],
            [
             0.3333333333333333,
             "#9c179e"
            ],
            [
             0.4444444444444444,
             "#bd3786"
            ],
            [
             0.5555555555555556,
             "#d8576b"
            ],
            [
             0.6666666666666666,
             "#ed7953"
            ],
            [
             0.7777777777777778,
             "#fb9f3a"
            ],
            [
             0.8888888888888888,
             "#fdca26"
            ],
            [
             1,
             "#f0f921"
            ]
           ],
           "sequentialminus": [
            [
             0,
             "#0d0887"
            ],
            [
             0.1111111111111111,
             "#46039f"
            ],
            [
             0.2222222222222222,
             "#7201a8"
            ],
            [
             0.3333333333333333,
             "#9c179e"
            ],
            [
             0.4444444444444444,
             "#bd3786"
            ],
            [
             0.5555555555555556,
             "#d8576b"
            ],
            [
             0.6666666666666666,
             "#ed7953"
            ],
            [
             0.7777777777777778,
             "#fb9f3a"
            ],
            [
             0.8888888888888888,
             "#fdca26"
            ],
            [
             1,
             "#f0f921"
            ]
           ]
          },
          "colorway": [
           "#636efa",
           "#EF553B",
           "#00cc96",
           "#ab63fa",
           "#FFA15A",
           "#19d3f3",
           "#FF6692",
           "#B6E880",
           "#FF97FF",
           "#FECB52"
          ],
          "font": {
           "color": "#2a3f5f"
          },
          "geo": {
           "bgcolor": "white",
           "lakecolor": "white",
           "landcolor": "#E5ECF6",
           "showlakes": true,
           "showland": true,
           "subunitcolor": "white"
          },
          "hoverlabel": {
           "align": "left"
          },
          "hovermode": "closest",
          "mapbox": {
           "style": "light"
          },
          "paper_bgcolor": "white",
          "plot_bgcolor": "#E5ECF6",
          "polar": {
           "angularaxis": {
            "gridcolor": "white",
            "linecolor": "white",
            "ticks": ""
           },
           "bgcolor": "#E5ECF6",
           "radialaxis": {
            "gridcolor": "white",
            "linecolor": "white",
            "ticks": ""
           }
          },
          "scene": {
           "xaxis": {
            "backgroundcolor": "#E5ECF6",
            "gridcolor": "white",
            "gridwidth": 2,
            "linecolor": "white",
            "showbackground": true,
            "ticks": "",
            "zerolinecolor": "white"
           },
           "yaxis": {
            "backgroundcolor": "#E5ECF6",
            "gridcolor": "white",
            "gridwidth": 2,
            "linecolor": "white",
            "showbackground": true,
            "ticks": "",
            "zerolinecolor": "white"
           },
           "zaxis": {
            "backgroundcolor": "#E5ECF6",
            "gridcolor": "white",
            "gridwidth": 2,
            "linecolor": "white",
            "showbackground": true,
            "ticks": "",
            "zerolinecolor": "white"
           }
          },
          "shapedefaults": {
           "line": {
            "color": "#2a3f5f"
           }
          },
          "ternary": {
           "aaxis": {
            "gridcolor": "white",
            "linecolor": "white",
            "ticks": ""
           },
           "baxis": {
            "gridcolor": "white",
            "linecolor": "white",
            "ticks": ""
           },
           "bgcolor": "#E5ECF6",
           "caxis": {
            "gridcolor": "white",
            "linecolor": "white",
            "ticks": ""
           }
          },
          "title": {
           "x": 0.05
          },
          "xaxis": {
           "automargin": true,
           "gridcolor": "white",
           "linecolor": "white",
           "ticks": "",
           "title": {
            "standoff": 15
           },
           "zerolinecolor": "white",
           "zerolinewidth": 2
          },
          "yaxis": {
           "automargin": true,
           "gridcolor": "white",
           "linecolor": "white",
           "ticks": "",
           "title": {
            "standoff": 15
           },
           "zerolinecolor": "white",
           "zerolinewidth": 2
          }
         }
        },
        "title": {
         "text": "Cost of cloud compute to train frontier ML systems"
        },
        "width": 800,
        "xaxis": {
         "anchor": "y",
         "domain": [
          0,
          1
         ],
         "range": [
          "2015-01-01",
          "2025-01-01"
         ],
         "title": {
          "text": "Publication date"
         }
        },
        "yaxis": {
         "anchor": "x",
         "domain": [
          0,
          1
         ],
         "title": {
          "text": "Cost (2023 USD)"
         },
         "type": "log"
        }
       }
      }
     },
     "metadata": {},
     "output_type": "display_data"
    }
   ],
   "source": [
    "label_systems = ['GNMT', 'Megatron-BERT', 'GPT-3 175B (davinci)', 'PaLM (540B)', 'Llama 2-70B', 'Falcon 180B', 'GPT-4', 'Gemini Ultra']\n",
    "\n",
    "fig = px.scatter(\n",
    "    cost_df.loc[cost_df['System'].isin(label_systems)],\n",
    "    x='Publication date',\n",
    "    y='Cost (inflation-adjusted)',\n",
    "    text='System',\n",
    "    log_y=True,\n",
    ")\n",
    "\n",
    "fig.add_scatter(\n",
    "    x=cost_df['Publication date'],\n",
    "    y=cost_df['Cost (inflation-adjusted)'],\n",
    "    mode='markers',\n",
    "    showlegend=False,\n",
    ")\n",
    "\n",
    "# Marker color\n",
    "fig.update_traces(\n",
    "    marker=dict(\n",
    "        color='rgb(0,100,200)',\n",
    "    ),\n",
    "    selector=dict(mode='markers'),\n",
    ")\n",
    "\n",
    "fig.add_scatter(\n",
    "    x=predicted_cost_df['Publication date'],\n",
    "    y=10**predicted_cost_df['mean'],\n",
    "    mode='lines',\n",
    "    line=dict(color='rgb(0,100,200)'),\n",
    "    name=f'Regression mean ({10**reg_results.params[1]:.1f}x per year)',\n",
    ")\n",
    "# Shade in CI\n",
    "fig.add_scatter(\n",
    "    x=predicted_cost_df['Publication date'],\n",
    "    y=10**predicted_cost_df['mean_ci_lower'],\n",
    "    mode='lines',\n",
    "    line=dict(width=0),\n",
    "    showlegend=False,\n",
    ")\n",
    "fig.add_scatter(\n",
    "    x=predicted_cost_df['Publication date'],\n",
    "    y=10**predicted_cost_df['mean_ci_upper'],\n",
    "    mode='lines',\n",
    "    fill='tonexty',\n",
    "    fillcolor='rgba(0,100,200,0.2)',\n",
    "    line=dict(width=0),\n",
    "    name='95% CI of mean',\n",
    ")\n",
    "\n",
    "fig.update_traces(textposition='top center')\n",
    "\n",
    "# legend on top\n",
    "fig.update_layout(legend=dict(\n",
    "    orientation='h',\n",
    "    yanchor='bottom',\n",
    "    y=1.02,\n",
    "    xanchor='right',\n",
    "    x=0.62,\n",
    "))\n",
    "\n",
    "# axis labels\n",
    "fig.update_xaxes(title_text='Publication date')\n",
    "fig.update_yaxes(title_text='Cost (2023 USD)')\n",
    "\n",
    "# title\n",
    "fig.update_layout(title_text='Cost of cloud compute to train frontier ML systems')\n",
    "\n",
    "# update size\n",
    "fig.update_layout(\n",
    "    autosize=False,\n",
    "    width=800,\n",
    "    height=600,\n",
    ")\n",
    "\n",
    "# font size\n",
    "fig.update_layout(\n",
    "    font=dict(\n",
    "        size=14,\n",
    "    )\n",
    ")\n",
    "\n",
    "# axis limits\n",
    "fig.update_xaxes(range=[pred_start_date, pred_end_date])\n",
    "\n",
    "# margins\n",
    "fig.update_layout(margin=dict(l=10, r=10, t=100, b=10))\n",
    "\n",
    "save_plot(fig, results_dir, 'cost_scatter')\n",
    "\n",
    "fig.show()"
   ]
  },
  {
   "cell_type": "markdown",
   "metadata": {},
   "source": [
    "# Export data"
   ]
  },
  {
   "cell_type": "code",
   "execution_count": 29,
   "metadata": {},
   "outputs": [
    {
     "data": {
      "text/html": [
       "<div>\n",
       "<style scoped>\n",
       "    .dataframe tbody tr th:only-of-type {\n",
       "        vertical-align: middle;\n",
       "    }\n",
       "\n",
       "    .dataframe tbody tr th {\n",
       "        vertical-align: top;\n",
       "    }\n",
       "\n",
       "    .dataframe thead th {\n",
       "        text-align: right;\n",
       "    }\n",
       "</style>\n",
       "<table border=\"1\" class=\"dataframe\">\n",
       "  <thead>\n",
       "    <tr style=\"text-align: right;\">\n",
       "      <th></th>\n",
       "      <th>System</th>\n",
       "      <th>Domain</th>\n",
       "      <th>Task</th>\n",
       "      <th>Open-source</th>\n",
       "      <th>Reference</th>\n",
       "      <th>Publication date</th>\n",
       "      <th>Organization</th>\n",
       "      <th>Parameters</th>\n",
       "      <th>Training compute (FLOP)</th>\n",
       "      <th>Training dataset size (datapoints)</th>\n",
       "      <th>...</th>\n",
       "      <th>Country (from Organization)</th>\n",
       "      <th>Base model</th>\n",
       "      <th>Finetune compute (FLOP)</th>\n",
       "      <th>Hardware quantity</th>\n",
       "      <th>Hardware utilization</th>\n",
       "      <th>Training cloud compute vendor</th>\n",
       "      <th>Training data center</th>\n",
       "      <th>Training time (chip hours)</th>\n",
       "      <th>Cost</th>\n",
       "      <th>Cost (inflation-adjusted)</th>\n",
       "    </tr>\n",
       "  </thead>\n",
       "  <tbody>\n",
       "    <tr>\n",
       "      <th>36</th>\n",
       "      <td>Gemini Ultra</td>\n",
       "      <td>Multimodal</td>\n",
       "      <td>Language modelling,Visual question answering,C...</td>\n",
       "      <td>NaN</td>\n",
       "      <td>Gemini: A Family of Highly Capable Multimodal ...</td>\n",
       "      <td>2023-12-06 00:00:00</td>\n",
       "      <td>Google DeepMind</td>\n",
       "      <td>NaN</td>\n",
       "      <td>5.000000e+25</td>\n",
       "      <td>NaN</td>\n",
       "      <td>...</td>\n",
       "      <td>Multinational</td>\n",
       "      <td>NaN</td>\n",
       "      <td>NaN</td>\n",
       "      <td>55000.0</td>\n",
       "      <td>NaN</td>\n",
       "      <td>NaN</td>\n",
       "      <td>NaN</td>\n",
       "      <td>132000000.0</td>\n",
       "      <td>191400000.0</td>\n",
       "      <td>1.914000e+08</td>\n",
       "    </tr>\n",
       "    <tr>\n",
       "      <th>43</th>\n",
       "      <td>Qwen-72B</td>\n",
       "      <td>Language</td>\n",
       "      <td>Chat,Code generation</td>\n",
       "      <td>Permissive license</td>\n",
       "      <td>NaN</td>\n",
       "      <td>2023-11-30 00:00:00</td>\n",
       "      <td>Alibaba</td>\n",
       "      <td>7.200000e+10</td>\n",
       "      <td>1.300000e+24</td>\n",
       "      <td>NaN</td>\n",
       "      <td>...</td>\n",
       "      <td>China</td>\n",
       "      <td>NaN</td>\n",
       "      <td>NaN</td>\n",
       "      <td>NaN</td>\n",
       "      <td>NaN</td>\n",
       "      <td>NaN</td>\n",
       "      <td>NaN</td>\n",
       "      <td>NaN</td>\n",
       "      <td>NaN</td>\n",
       "      <td>NaN</td>\n",
       "    </tr>\n",
       "    <tr>\n",
       "      <th>51</th>\n",
       "      <td>Inflection-2</td>\n",
       "      <td>Language</td>\n",
       "      <td>Language modelling</td>\n",
       "      <td>API accessible</td>\n",
       "      <td>Inflection-2: The Next Step Up</td>\n",
       "      <td>2023-11-22 00:00:00</td>\n",
       "      <td>Inflection AI</td>\n",
       "      <td>NaN</td>\n",
       "      <td>1.001000e+25</td>\n",
       "      <td>NaN</td>\n",
       "      <td>...</td>\n",
       "      <td>United States of America</td>\n",
       "      <td>NaN</td>\n",
       "      <td>NaN</td>\n",
       "      <td>5000.0</td>\n",
       "      <td>NaN</td>\n",
       "      <td>NaN</td>\n",
       "      <td>NaN</td>\n",
       "      <td>NaN</td>\n",
       "      <td>NaN</td>\n",
       "      <td>NaN</td>\n",
       "    </tr>\n",
       "    <tr>\n",
       "      <th>55</th>\n",
       "      <td>Nemotron-3-8B</td>\n",
       "      <td>Language</td>\n",
       "      <td>Chat,Language Generation</td>\n",
       "      <td>Permissive license</td>\n",
       "      <td>NVIDIA AI Foundation Models: Build Custom Ente...</td>\n",
       "      <td>2023-11-15 00:00:00</td>\n",
       "      <td>NVIDIA</td>\n",
       "      <td>8.000000e+09</td>\n",
       "      <td>1.800000e+23</td>\n",
       "      <td>NaN</td>\n",
       "      <td>...</td>\n",
       "      <td>United States of America</td>\n",
       "      <td>NaN</td>\n",
       "      <td>NaN</td>\n",
       "      <td>NaN</td>\n",
       "      <td>NaN</td>\n",
       "      <td>NaN</td>\n",
       "      <td>NaN</td>\n",
       "      <td>NaN</td>\n",
       "      <td>NaN</td>\n",
       "      <td>NaN</td>\n",
       "    </tr>\n",
       "    <tr>\n",
       "      <th>72</th>\n",
       "      <td>CogVLM</td>\n",
       "      <td>Multimodal,Vision,Language</td>\n",
       "      <td>Image captioning,Visual question answering,Chat</td>\n",
       "      <td>Permissive license</td>\n",
       "      <td>CogVLM: Visual Expert for Pretrained Language ...</td>\n",
       "      <td>2023-11-06 00:00:00</td>\n",
       "      <td>Tsinghua University,Zhipu AI,Beihang University</td>\n",
       "      <td>1.700000e+10</td>\n",
       "      <td>1.988064e+22</td>\n",
       "      <td>NaN</td>\n",
       "      <td>...</td>\n",
       "      <td>China,China,China</td>\n",
       "      <td>NaN</td>\n",
       "      <td>NaN</td>\n",
       "      <td>NaN</td>\n",
       "      <td>NaN</td>\n",
       "      <td>NaN</td>\n",
       "      <td>NaN</td>\n",
       "      <td>NaN</td>\n",
       "      <td>NaN</td>\n",
       "      <td>NaN</td>\n",
       "    </tr>\n",
       "    <tr>\n",
       "      <th>...</th>\n",
       "      <td>...</td>\n",
       "      <td>...</td>\n",
       "      <td>...</td>\n",
       "      <td>...</td>\n",
       "      <td>...</td>\n",
       "      <td>...</td>\n",
       "      <td>...</td>\n",
       "      <td>...</td>\n",
       "      <td>...</td>\n",
       "      <td>...</td>\n",
       "      <td>...</td>\n",
       "      <td>...</td>\n",
       "      <td>...</td>\n",
       "      <td>...</td>\n",
       "      <td>...</td>\n",
       "      <td>...</td>\n",
       "      <td>...</td>\n",
       "      <td>...</td>\n",
       "      <td>...</td>\n",
       "      <td>...</td>\n",
       "      <td>...</td>\n",
       "    </tr>\n",
       "    <tr>\n",
       "      <th>1090</th>\n",
       "      <td>GNMT</td>\n",
       "      <td>Language</td>\n",
       "      <td>Translation</td>\n",
       "      <td>NaN</td>\n",
       "      <td>Google's Neural Machine Translation System: Br...</td>\n",
       "      <td>2016-09-26 00:00:00</td>\n",
       "      <td>Google</td>\n",
       "      <td>2.780000e+08</td>\n",
       "      <td>6.900000e+21</td>\n",
       "      <td>360000000.0</td>\n",
       "      <td>...</td>\n",
       "      <td>Multinational</td>\n",
       "      <td>NaN</td>\n",
       "      <td>NaN</td>\n",
       "      <td>96.0</td>\n",
       "      <td>NaN</td>\n",
       "      <td>NaN</td>\n",
       "      <td>NaN</td>\n",
       "      <td>414720.0</td>\n",
       "      <td>178329.6</td>\n",
       "      <td>1.947392e+05</td>\n",
       "    </tr>\n",
       "    <tr>\n",
       "      <th>1126</th>\n",
       "      <td>AlphaGo Lee</td>\n",
       "      <td>Games</td>\n",
       "      <td>Go</td>\n",
       "      <td>NaN</td>\n",
       "      <td>Mastering the game of Go with deep neural netw...</td>\n",
       "      <td>2016-01-27 00:00:00</td>\n",
       "      <td>DeepMind</td>\n",
       "      <td>NaN</td>\n",
       "      <td>1.900000e+21</td>\n",
       "      <td>29400000.0</td>\n",
       "      <td>...</td>\n",
       "      <td>United Kingdom of Great Britain and Northern I...</td>\n",
       "      <td>NaN</td>\n",
       "      <td>NaN</td>\n",
       "      <td>NaN</td>\n",
       "      <td>NaN</td>\n",
       "      <td>NaN</td>\n",
       "      <td>NaN</td>\n",
       "      <td>NaN</td>\n",
       "      <td>NaN</td>\n",
       "      <td>NaN</td>\n",
       "    </tr>\n",
       "    <tr>\n",
       "      <th>1130</th>\n",
       "      <td>ResNet-152 (ImageNet)</td>\n",
       "      <td>Vision</td>\n",
       "      <td>Image classification</td>\n",
       "      <td>NaN</td>\n",
       "      <td>Deep Residual Learning for Image Recognition</td>\n",
       "      <td>2015-12-10 00:00:00</td>\n",
       "      <td>Microsoft</td>\n",
       "      <td>6.000000e+07</td>\n",
       "      <td>1.210000e+19</td>\n",
       "      <td>1280000.0</td>\n",
       "      <td>...</td>\n",
       "      <td>Multinational</td>\n",
       "      <td>NaN</td>\n",
       "      <td>NaN</td>\n",
       "      <td>NaN</td>\n",
       "      <td>NaN</td>\n",
       "      <td>NaN</td>\n",
       "      <td>NaN</td>\n",
       "      <td>NaN</td>\n",
       "      <td>NaN</td>\n",
       "      <td>NaN</td>\n",
       "    </tr>\n",
       "    <tr>\n",
       "      <th>1132</th>\n",
       "      <td>DeepSpeech2 (English)</td>\n",
       "      <td>Speech</td>\n",
       "      <td>Speech recognition</td>\n",
       "      <td>NaN</td>\n",
       "      <td>Deep Speech 2: End-to-End Speech Recognition i...</td>\n",
       "      <td>2015-12-08 00:00:00</td>\n",
       "      <td>Baidu Research - Silicon Valley AI Lab</td>\n",
       "      <td>3.800000e+07</td>\n",
       "      <td>2.600000e+19</td>\n",
       "      <td>163339200.0</td>\n",
       "      <td>...</td>\n",
       "      <td>United States of America</td>\n",
       "      <td>NaN</td>\n",
       "      <td>NaN</td>\n",
       "      <td>NaN</td>\n",
       "      <td>NaN</td>\n",
       "      <td>NaN</td>\n",
       "      <td>NaN</td>\n",
       "      <td>NaN</td>\n",
       "      <td>NaN</td>\n",
       "      <td>NaN</td>\n",
       "    </tr>\n",
       "    <tr>\n",
       "      <th>1136</th>\n",
       "      <td>AlphaGo Fan</td>\n",
       "      <td>Games</td>\n",
       "      <td>Go</td>\n",
       "      <td>NaN</td>\n",
       "      <td>Mastering the game of Go with deep neural netw...</td>\n",
       "      <td>2015-10-01 00:00:00</td>\n",
       "      <td>Google DeepMind</td>\n",
       "      <td>8.209984e+06</td>\n",
       "      <td>3.800000e+20</td>\n",
       "      <td>NaN</td>\n",
       "      <td>...</td>\n",
       "      <td>Multinational</td>\n",
       "      <td>NaN</td>\n",
       "      <td>NaN</td>\n",
       "      <td>NaN</td>\n",
       "      <td>NaN</td>\n",
       "      <td>NaN</td>\n",
       "      <td>NaN</td>\n",
       "      <td>NaN</td>\n",
       "      <td>NaN</td>\n",
       "      <td>NaN</td>\n",
       "    </tr>\n",
       "  </tbody>\n",
       "</table>\n",
       "<p>138 rows × 23 columns</p>\n",
       "</div>"
      ],
      "text/plain": [
       "                     System                      Domain  \\\n",
       "36             Gemini Ultra                  Multimodal   \n",
       "43                 Qwen-72B                    Language   \n",
       "51             Inflection-2                    Language   \n",
       "55            Nemotron-3-8B                    Language   \n",
       "72                   CogVLM  Multimodal,Vision,Language   \n",
       "...                     ...                         ...   \n",
       "1090                   GNMT                    Language   \n",
       "1126            AlphaGo Lee                       Games   \n",
       "1130  ResNet-152 (ImageNet)                      Vision   \n",
       "1132  DeepSpeech2 (English)                      Speech   \n",
       "1136            AlphaGo Fan                       Games   \n",
       "\n",
       "                                                   Task         Open-source  \\\n",
       "36    Language modelling,Visual question answering,C...                 NaN   \n",
       "43                                 Chat,Code generation  Permissive license   \n",
       "51                                   Language modelling      API accessible   \n",
       "55                             Chat,Language Generation  Permissive license   \n",
       "72      Image captioning,Visual question answering,Chat  Permissive license   \n",
       "...                                                 ...                 ...   \n",
       "1090                                        Translation                 NaN   \n",
       "1126                                                 Go                 NaN   \n",
       "1130                               Image classification                 NaN   \n",
       "1132                                 Speech recognition                 NaN   \n",
       "1136                                                 Go                 NaN   \n",
       "\n",
       "                                              Reference     Publication date  \\\n",
       "36    Gemini: A Family of Highly Capable Multimodal ...  2023-12-06 00:00:00   \n",
       "43                                                  NaN  2023-11-30 00:00:00   \n",
       "51                       Inflection-2: The Next Step Up  2023-11-22 00:00:00   \n",
       "55    NVIDIA AI Foundation Models: Build Custom Ente...  2023-11-15 00:00:00   \n",
       "72    CogVLM: Visual Expert for Pretrained Language ...  2023-11-06 00:00:00   \n",
       "...                                                 ...                  ...   \n",
       "1090  Google's Neural Machine Translation System: Br...  2016-09-26 00:00:00   \n",
       "1126  Mastering the game of Go with deep neural netw...  2016-01-27 00:00:00   \n",
       "1130       Deep Residual Learning for Image Recognition  2015-12-10 00:00:00   \n",
       "1132  Deep Speech 2: End-to-End Speech Recognition i...  2015-12-08 00:00:00   \n",
       "1136  Mastering the game of Go with deep neural netw...  2015-10-01 00:00:00   \n",
       "\n",
       "                                         Organization    Parameters  \\\n",
       "36                                    Google DeepMind           NaN   \n",
       "43                                            Alibaba  7.200000e+10   \n",
       "51                                      Inflection AI           NaN   \n",
       "55                                             NVIDIA  8.000000e+09   \n",
       "72    Tsinghua University,Zhipu AI,Beihang University  1.700000e+10   \n",
       "...                                               ...           ...   \n",
       "1090                                           Google  2.780000e+08   \n",
       "1126                                         DeepMind           NaN   \n",
       "1130                                        Microsoft  6.000000e+07   \n",
       "1132           Baidu Research - Silicon Valley AI Lab  3.800000e+07   \n",
       "1136                                  Google DeepMind  8.209984e+06   \n",
       "\n",
       "      Training compute (FLOP)  Training dataset size (datapoints)  ...  \\\n",
       "36               5.000000e+25                                 NaN  ...   \n",
       "43               1.300000e+24                                 NaN  ...   \n",
       "51               1.001000e+25                                 NaN  ...   \n",
       "55               1.800000e+23                                 NaN  ...   \n",
       "72               1.988064e+22                                 NaN  ...   \n",
       "...                       ...                                 ...  ...   \n",
       "1090             6.900000e+21                         360000000.0  ...   \n",
       "1126             1.900000e+21                          29400000.0  ...   \n",
       "1130             1.210000e+19                           1280000.0  ...   \n",
       "1132             2.600000e+19                         163339200.0  ...   \n",
       "1136             3.800000e+20                                 NaN  ...   \n",
       "\n",
       "                            Country (from Organization)  Base model  \\\n",
       "36                                        Multinational         NaN   \n",
       "43                                                China         NaN   \n",
       "51                             United States of America         NaN   \n",
       "55                             United States of America         NaN   \n",
       "72                                    China,China,China         NaN   \n",
       "...                                                 ...         ...   \n",
       "1090                                      Multinational         NaN   \n",
       "1126  United Kingdom of Great Britain and Northern I...         NaN   \n",
       "1130                                      Multinational         NaN   \n",
       "1132                           United States of America         NaN   \n",
       "1136                                      Multinational         NaN   \n",
       "\n",
       "     Finetune compute (FLOP) Hardware quantity Hardware utilization  \\\n",
       "36                       NaN           55000.0                  NaN   \n",
       "43                       NaN               NaN                  NaN   \n",
       "51                       NaN            5000.0                  NaN   \n",
       "55                       NaN               NaN                  NaN   \n",
       "72                       NaN               NaN                  NaN   \n",
       "...                      ...               ...                  ...   \n",
       "1090                     NaN              96.0                  NaN   \n",
       "1126                     NaN               NaN                  NaN   \n",
       "1130                     NaN               NaN                  NaN   \n",
       "1132                     NaN               NaN                  NaN   \n",
       "1136                     NaN               NaN                  NaN   \n",
       "\n",
       "     Training cloud compute vendor  Training data center  \\\n",
       "36                             NaN                   NaN   \n",
       "43                             NaN                   NaN   \n",
       "51                             NaN                   NaN   \n",
       "55                             NaN                   NaN   \n",
       "72                             NaN                   NaN   \n",
       "...                            ...                   ...   \n",
       "1090                           NaN                   NaN   \n",
       "1126                           NaN                   NaN   \n",
       "1130                           NaN                   NaN   \n",
       "1132                           NaN                   NaN   \n",
       "1136                           NaN                   NaN   \n",
       "\n",
       "      Training time (chip hours)         Cost Cost (inflation-adjusted)  \n",
       "36                   132000000.0  191400000.0              1.914000e+08  \n",
       "43                           NaN          NaN                       NaN  \n",
       "51                           NaN          NaN                       NaN  \n",
       "55                           NaN          NaN                       NaN  \n",
       "72                           NaN          NaN                       NaN  \n",
       "...                          ...          ...                       ...  \n",
       "1090                    414720.0     178329.6              1.947392e+05  \n",
       "1126                         NaN          NaN                       NaN  \n",
       "1130                         NaN          NaN                       NaN  \n",
       "1132                         NaN          NaN                       NaN  \n",
       "1136                         NaN          NaN                       NaN  \n",
       "\n",
       "[138 rows x 23 columns]"
      ]
     },
     "execution_count": 29,
     "metadata": {},
     "output_type": "execute_result"
    }
   ],
   "source": [
    "keep_cols = [\n",
    "    'System',\n",
    "    'Domain',\n",
    "    'Task',\n",
    "    'Open-source',\n",
    "    'Reference',\n",
    "    'Publication date',\n",
    "    'Organization',\n",
    "    'Parameters',\n",
    "    'Training compute (FLOP)',\n",
    "    'Training dataset size (datapoints)',\n",
    "    'Epochs',\n",
    "    'Training time (hours)',\n",
    "    'Training hardware',\n",
    "    'Country (from Organization)',\n",
    "    'Base model',\n",
    "    'Finetune compute (FLOP)',\n",
    "    'Hardware quantity',\n",
    "    'Hardware utilization',\n",
    "    'Training cloud compute vendor',\n",
    "    'Training data center',\n",
    "    'Training time (chip hours)',\n",
    "    'Cost',\n",
    "    'Cost (inflation-adjusted)',\n",
    "]\n",
    "cost_df[keep_cols]"
   ]
  },
  {
   "cell_type": "code",
   "execution_count": 30,
   "metadata": {
    "ExecuteTime": {
     "end_time": "2024-02-29T19:54:27.290415700Z",
     "start_time": "2024-02-29T19:54:27.095748400Z"
    }
   },
   "outputs": [],
   "source": [
    "cost_df[keep_cols].to_csv(results_dir + 'price dataset.csv', index=False)"
   ]
  },
  {
   "cell_type": "code",
   "execution_count": null,
   "metadata": {},
   "outputs": [],
   "source": []
  }
 ],
 "metadata": {
  "colab": {
   "provenance": []
  },
  "kernelspec": {
   "display_name": "Python 3 (ipykernel)",
   "language": "python",
   "name": "python3"
  },
  "language_info": {
   "codemirror_mode": {
    "name": "ipython",
    "version": 3
   },
   "file_extension": ".py",
   "mimetype": "text/x-python",
   "name": "python",
   "nbconvert_exporter": "python",
   "pygments_lexer": "ipython3",
   "version": "3.11.4"
  }
 },
 "nbformat": 4,
 "nbformat_minor": 1
}
