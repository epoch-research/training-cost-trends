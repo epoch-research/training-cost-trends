{
 "cells": [
  {
   "cell_type": "markdown",
   "metadata": {},
   "source": [
    "# Setup"
   ]
  },
  {
   "cell_type": "code",
   "execution_count": 1,
   "metadata": {
    "ExecuteTime": {
     "end_time": "2024-03-08T01:54:49.691298800Z",
     "start_time": "2024-03-08T01:54:49.634206900Z"
    }
   },
   "outputs": [],
   "source": [
    "%load_ext autoreload\n",
    "%autoreload 2"
   ]
  },
  {
   "cell_type": "code",
   "execution_count": 2,
   "metadata": {
    "ExecuteTime": {
     "end_time": "2024-03-08T01:54:56.468786200Z",
     "start_time": "2024-03-08T01:54:49.695864500Z"
    },
    "id": "qltoZ7TbdkHZ"
   },
   "outputs": [],
   "source": [
    "from contextlib import redirect_stdout\n",
    "import numpy as np\n",
    "import os\n",
    "import pandas as pd\n",
    "import plotly.express as px\n",
    "\n",
    "from cost import *\n",
    "from plotting import *\n",
    "from prices import *\n",
    "from imputation import *\n",
    "from inflation import *\n",
    "from regression import *\n",
    "from utils import *"
   ]
  },
  {
   "cell_type": "code",
   "execution_count": 3,
   "metadata": {
    "ExecuteTime": {
     "end_time": "2024-03-08T01:54:56.578403700Z",
     "start_time": "2024-03-08T01:54:56.468786200Z"
    }
   },
   "outputs": [],
   "source": [
    "estimation_method = 'hardware-capex-opex'\n",
    "compute_threshold_method = 'top_n'  # top_n, window_percentile\n",
    "compute_threshold = 10  # e.g. 10 to select top 10; 75 to select top 25%\n",
    "variant = 'depreciation-update'\n",
    "\n",
    "estimation_method_lookup = {\n",
    "    'cloud': estimate_cloud_costs,\n",
    "    'amortized': estimate_amortized_hardware_costs,\n",
    "    'hardware-acquisition': estimate_hardware_acquisition_cost,\n",
    "    'hardware-capex-opex': estimate_hardware_capex_opex,\n",
    "}\n",
    "cost_estimation_function = estimation_method_lookup[estimation_method]\n",
    "\n",
    "results_dir = f'results/{estimation_method}-{compute_threshold_method}={compute_threshold}-{variant}/'\n",
    "os.makedirs(results_dir, exist_ok=True)"
   ]
  },
  {
   "cell_type": "markdown",
   "metadata": {},
   "source": [
    "# Load data"
   ]
  },
  {
   "cell_type": "code",
   "execution_count": 4,
   "metadata": {
    "ExecuteTime": {
     "end_time": "2024-03-08T01:54:57.129865300Z",
     "start_time": "2024-03-08T01:54:56.872275900Z"
    }
   },
   "outputs": [],
   "source": [
    "frontier_pcd_df, hardware_df, price_df = load_data_for_cost_estimation(\n",
    "    compute_threshold_method=compute_threshold_method, compute_threshold=compute_threshold,\n",
    ")"
   ]
  },
  {
   "cell_type": "code",
   "execution_count": 5,
   "metadata": {
    "ExecuteTime": {
     "end_time": "2024-03-08T01:54:57.278230500Z",
     "start_time": "2024-03-08T01:54:57.129865300Z"
    }
   },
   "outputs": [
    {
     "data": {
      "text/plain": [
       "(67, 5510, 142)"
      ]
     },
     "execution_count": 5,
     "metadata": {},
     "output_type": "execute_result"
    }
   ],
   "source": [
    "len(frontier_pcd_df), len(hardware_df), len(price_df)"
   ]
  },
  {
   "cell_type": "markdown",
   "metadata": {},
   "source": [
    "# Cost estimation"
   ]
  },
  {
   "cell_type": "code",
   "execution_count": 6,
   "metadata": {
    "ExecuteTime": {
     "end_time": "2024-03-08T01:54:57.807954200Z",
     "start_time": "2024-03-08T01:54:57.278230500Z"
    }
   },
   "outputs": [],
   "source": [
    "with open(f'{results_dir}/cost_estimation.out', 'w') as f:\n",
    "    with redirect_stdout(f):\n",
    "        cost_df = cost_estimation_function(frontier_pcd_df, hardware_df, price_df)"
   ]
  },
  {
   "cell_type": "code",
   "execution_count": 7,
   "metadata": {},
   "outputs": [],
   "source": [
    "if estimation_method == 'hardware-capex-opex':\n",
    "    frontier_pcd_df_copy = frontier_pcd_df.copy()\n",
    "    with open(f'{results_dir}/component_cost_estimation.out', 'w') as f:\n",
    "        with redirect_stdout(f):\n",
    "            component_cost_df = cost_estimation_function(frontier_pcd_df_copy, hardware_df, price_df, separate_components=True)"
   ]
  },
  {
   "cell_type": "code",
   "execution_count": 8,
   "metadata": {
    "ExecuteTime": {
     "end_time": "2024-03-08T01:54:57.967995500Z",
     "start_time": "2024-03-08T01:54:57.807954200Z"
    }
   },
   "outputs": [
    {
     "data": {
      "text/html": [
       "<div>\n",
       "<style scoped>\n",
       "    .dataframe tbody tr th:only-of-type {\n",
       "        vertical-align: middle;\n",
       "    }\n",
       "\n",
       "    .dataframe tbody tr th {\n",
       "        vertical-align: top;\n",
       "    }\n",
       "\n",
       "    .dataframe thead th {\n",
       "        text-align: right;\n",
       "    }\n",
       "</style>\n",
       "<table border=\"1\" class=\"dataframe\">\n",
       "  <thead>\n",
       "    <tr style=\"text-align: right;\">\n",
       "      <th></th>\n",
       "      <th>System</th>\n",
       "      <th>Domain</th>\n",
       "      <th>Task</th>\n",
       "      <th>Authors</th>\n",
       "      <th>Notability criteria</th>\n",
       "      <th>Notability criteria notes</th>\n",
       "      <th>Model accessibility</th>\n",
       "      <th>Link</th>\n",
       "      <th>Citations</th>\n",
       "      <th>Reference</th>\n",
       "      <th>...</th>\n",
       "      <th>Foundation model</th>\n",
       "      <th>Training compute lower bound</th>\n",
       "      <th>Training compute upper bound</th>\n",
       "      <th>Training chip-hours</th>\n",
       "      <th>Code accessibility</th>\n",
       "      <th>Dataset accessibility</th>\n",
       "      <th>Accessibility notes</th>\n",
       "      <th>Organization categorization (from Organization)</th>\n",
       "      <th>Possibly over 1e23 FLOP</th>\n",
       "      <th>Cost</th>\n",
       "    </tr>\n",
       "  </thead>\n",
       "  <tbody>\n",
       "    <tr>\n",
       "      <th>75</th>\n",
       "      <td>Gemini Ultra</td>\n",
       "      <td>Multimodal</td>\n",
       "      <td>Language modelling,Visual question answering,C...</td>\n",
       "      <td>Gemini Team</td>\n",
       "      <td>SOTA improvement</td>\n",
       "      <td>\" Evaluation on a broad range of benchmarks sh...</td>\n",
       "      <td>Hosted access (no API)</td>\n",
       "      <td>https://storage.googleapis.com/deepmind-media/...</td>\n",
       "      <td>633.0</td>\n",
       "      <td>Gemini: A Family of Highly Capable Multimodal ...</td>\n",
       "      <td>...</td>\n",
       "      <td>NaN</td>\n",
       "      <td>NaN</td>\n",
       "      <td>NaN</td>\n",
       "      <td>132000000.0</td>\n",
       "      <td>NaN</td>\n",
       "      <td>NaN</td>\n",
       "      <td>NaN</td>\n",
       "      <td>Industry</td>\n",
       "      <td>NaN</td>\n",
       "      <td>9.590527e+07</td>\n",
       "    </tr>\n",
       "    <tr>\n",
       "      <th>91</th>\n",
       "      <td>Inflection-2</td>\n",
       "      <td>Language</td>\n",
       "      <td>Language modelling</td>\n",
       "      <td>NaN</td>\n",
       "      <td>Significant use</td>\n",
       "      <td>Inflection-2 either already powers Pi or soon ...</td>\n",
       "      <td>Hosted access (no API)</td>\n",
       "      <td>https://inflection.ai/inflection-2</td>\n",
       "      <td>NaN</td>\n",
       "      <td>Inflection-2: The Next Step Up</td>\n",
       "      <td>...</td>\n",
       "      <td>checked</td>\n",
       "      <td>NaN</td>\n",
       "      <td>NaN</td>\n",
       "      <td>NaN</td>\n",
       "      <td>NaN</td>\n",
       "      <td>NaN</td>\n",
       "      <td>via Pi, no API</td>\n",
       "      <td>Industry</td>\n",
       "      <td>NaN</td>\n",
       "      <td>1.824528e+07</td>\n",
       "    </tr>\n",
       "    <tr>\n",
       "      <th>116</th>\n",
       "      <td>Grok-1</td>\n",
       "      <td>Language</td>\n",
       "      <td>Language modelling,Chat</td>\n",
       "      <td>NaN</td>\n",
       "      <td>SOTA improvement</td>\n",
       "      <td>\"On these benchmarks, Grok-1 displayed strong ...</td>\n",
       "      <td>Open source</td>\n",
       "      <td>https://x.ai/model-card/, https://x.ai/blog/gr...</td>\n",
       "      <td>NaN</td>\n",
       "      <td>Announcing Grok</td>\n",
       "      <td>...</td>\n",
       "      <td>checked</td>\n",
       "      <td>2</td>\n",
       "      <td>7.0</td>\n",
       "      <td>NaN</td>\n",
       "      <td>Unreleased</td>\n",
       "      <td>Unreleased</td>\n",
       "      <td>apache 2.0</td>\n",
       "      <td>Industry</td>\n",
       "      <td>checked</td>\n",
       "      <td>NaN</td>\n",
       "    </tr>\n",
       "    <tr>\n",
       "      <th>130</th>\n",
       "      <td>ChatGLM3</td>\n",
       "      <td>Multimodal</td>\n",
       "      <td>Chat,Visual question answering</td>\n",
       "      <td>NaN</td>\n",
       "      <td>SOTA improvement</td>\n",
       "      <td>Aiming at GPT-4V, ChatGLM3 has implemented ite...</td>\n",
       "      <td>NaN</td>\n",
       "      <td>https://www.zhipuai.cn/en/news/76</td>\n",
       "      <td>NaN</td>\n",
       "      <td>Zhipu AI launches third-generation base model</td>\n",
       "      <td>...</td>\n",
       "      <td>checked</td>\n",
       "      <td>NaN</td>\n",
       "      <td>NaN</td>\n",
       "      <td>NaN</td>\n",
       "      <td>NaN</td>\n",
       "      <td>NaN</td>\n",
       "      <td>NaN</td>\n",
       "      <td>Industry</td>\n",
       "      <td>NaN</td>\n",
       "      <td>NaN</td>\n",
       "    </tr>\n",
       "    <tr>\n",
       "      <th>176</th>\n",
       "      <td>Falcon-180B</td>\n",
       "      <td>Language</td>\n",
       "      <td>Language modelling</td>\n",
       "      <td>Ebtesam Almazrouei, Hamza Alobeidli, Abdulaziz...</td>\n",
       "      <td>SOTA improvement</td>\n",
       "      <td>\"It's currently at the top of the Hugging Face...</td>\n",
       "      <td>Open access (restricted use)</td>\n",
       "      <td>https://falconllm.tii.ae/falcon-180b.html; htt...</td>\n",
       "      <td>86.0</td>\n",
       "      <td>The Falcon Series of Open Language Models</td>\n",
       "      <td>...</td>\n",
       "      <td>NaN</td>\n",
       "      <td>NaN</td>\n",
       "      <td>NaN</td>\n",
       "      <td>17694720.0</td>\n",
       "      <td>NaN</td>\n",
       "      <td>NaN</td>\n",
       "      <td>\"Falcon 180b can be commercially used but unde...</td>\n",
       "      <td>Government</td>\n",
       "      <td>NaN</td>\n",
       "      <td>1.427716e+07</td>\n",
       "    </tr>\n",
       "    <tr>\n",
       "      <th>...</th>\n",
       "      <td>...</td>\n",
       "      <td>...</td>\n",
       "      <td>...</td>\n",
       "      <td>...</td>\n",
       "      <td>...</td>\n",
       "      <td>...</td>\n",
       "      <td>...</td>\n",
       "      <td>...</td>\n",
       "      <td>...</td>\n",
       "      <td>...</td>\n",
       "      <td>...</td>\n",
       "      <td>...</td>\n",
       "      <td>...</td>\n",
       "      <td>...</td>\n",
       "      <td>...</td>\n",
       "      <td>...</td>\n",
       "      <td>...</td>\n",
       "      <td>...</td>\n",
       "      <td>...</td>\n",
       "      <td>...</td>\n",
       "      <td>...</td>\n",
       "    </tr>\n",
       "    <tr>\n",
       "      <th>1145</th>\n",
       "      <td>Xception</td>\n",
       "      <td>Vision</td>\n",
       "      <td>Image classification</td>\n",
       "      <td>François Chollet</td>\n",
       "      <td>Highly cited</td>\n",
       "      <td>NaN</td>\n",
       "      <td>NaN</td>\n",
       "      <td>https://arxiv.org/abs/1610.02357</td>\n",
       "      <td>11578.0</td>\n",
       "      <td>Xception: Deep Learning with Depthwise Separab...</td>\n",
       "      <td>...</td>\n",
       "      <td>NaN</td>\n",
       "      <td>NaN</td>\n",
       "      <td>NaN</td>\n",
       "      <td>43200.0</td>\n",
       "      <td>NaN</td>\n",
       "      <td>NaN</td>\n",
       "      <td>NaN</td>\n",
       "      <td>Industry</td>\n",
       "      <td>NaN</td>\n",
       "      <td>1.601676e+04</td>\n",
       "    </tr>\n",
       "    <tr>\n",
       "      <th>1146</th>\n",
       "      <td>GNMT</td>\n",
       "      <td>Language</td>\n",
       "      <td>Translation</td>\n",
       "      <td>Yonghui Wu, Mike Schuster, Zhifeng Chen, Quoc ...</td>\n",
       "      <td>Highly cited</td>\n",
       "      <td>NaN</td>\n",
       "      <td>Hosted access (no API)</td>\n",
       "      <td>https://arxiv.org/abs/1609.08144</td>\n",
       "      <td>6196.0</td>\n",
       "      <td>Google's Neural Machine Translation System: Br...</td>\n",
       "      <td>...</td>\n",
       "      <td>NaN</td>\n",
       "      <td>NaN</td>\n",
       "      <td>NaN</td>\n",
       "      <td>414720.0</td>\n",
       "      <td>NaN</td>\n",
       "      <td>NaN</td>\n",
       "      <td>presumably deployed via Google translate</td>\n",
       "      <td>Industry</td>\n",
       "      <td>NaN</td>\n",
       "      <td>1.753311e+05</td>\n",
       "    </tr>\n",
       "    <tr>\n",
       "      <th>1182</th>\n",
       "      <td>AlphaGo Lee</td>\n",
       "      <td>Games</td>\n",
       "      <td>Go</td>\n",
       "      <td>David Silver, Aja Huang, Chris J. Maddison, Ar...</td>\n",
       "      <td>Highly cited</td>\n",
       "      <td>NaN</td>\n",
       "      <td>NaN</td>\n",
       "      <td>https://www.nature.com/articles/nature16961</td>\n",
       "      <td>14887.0</td>\n",
       "      <td>Mastering the game of Go with deep neural netw...</td>\n",
       "      <td>...</td>\n",
       "      <td>NaN</td>\n",
       "      <td>NaN</td>\n",
       "      <td>NaN</td>\n",
       "      <td>NaN</td>\n",
       "      <td>NaN</td>\n",
       "      <td>NaN</td>\n",
       "      <td>NaN</td>\n",
       "      <td>Industry</td>\n",
       "      <td>NaN</td>\n",
       "      <td>NaN</td>\n",
       "    </tr>\n",
       "    <tr>\n",
       "      <th>1186</th>\n",
       "      <td>ResNet-152 (ImageNet)</td>\n",
       "      <td>Vision</td>\n",
       "      <td>Image classification</td>\n",
       "      <td>Kaiming He, Xiangyu Zhang, Shaoqing Ren, Jian Sun</td>\n",
       "      <td>Highly cited</td>\n",
       "      <td>NaN</td>\n",
       "      <td>NaN</td>\n",
       "      <td>https://arxiv.org/abs/1512.03385</td>\n",
       "      <td>156882.0</td>\n",
       "      <td>Deep Residual Learning for Image Recognition</td>\n",
       "      <td>...</td>\n",
       "      <td>NaN</td>\n",
       "      <td>NaN</td>\n",
       "      <td>NaN</td>\n",
       "      <td>NaN</td>\n",
       "      <td>NaN</td>\n",
       "      <td>NaN</td>\n",
       "      <td>NaN</td>\n",
       "      <td>Industry</td>\n",
       "      <td>NaN</td>\n",
       "      <td>NaN</td>\n",
       "    </tr>\n",
       "    <tr>\n",
       "      <th>1188</th>\n",
       "      <td>DeepSpeech2 (English)</td>\n",
       "      <td>Speech</td>\n",
       "      <td>Speech recognition</td>\n",
       "      <td>Dario Amodei, Rishita Anubhai, Eric Battenberg...</td>\n",
       "      <td>Highly cited</td>\n",
       "      <td>NaN</td>\n",
       "      <td>NaN</td>\n",
       "      <td>https://arxiv.org/abs/1512.02595</td>\n",
       "      <td>2749.0</td>\n",
       "      <td>Deep Speech 2: End-to-End Speech Recognition i...</td>\n",
       "      <td>...</td>\n",
       "      <td>NaN</td>\n",
       "      <td>NaN</td>\n",
       "      <td>NaN</td>\n",
       "      <td>301.0</td>\n",
       "      <td>NaN</td>\n",
       "      <td>NaN</td>\n",
       "      <td>NaN</td>\n",
       "      <td>Industry</td>\n",
       "      <td>NaN</td>\n",
       "      <td>3.081551e+02</td>\n",
       "    </tr>\n",
       "  </tbody>\n",
       "</table>\n",
       "<p>67 rows × 59 columns</p>\n",
       "</div>"
      ],
      "text/plain": [
       "                     System      Domain  \\\n",
       "75             Gemini Ultra  Multimodal   \n",
       "91             Inflection-2    Language   \n",
       "116                  Grok-1    Language   \n",
       "130                ChatGLM3  Multimodal   \n",
       "176             Falcon-180B    Language   \n",
       "...                     ...         ...   \n",
       "1145               Xception      Vision   \n",
       "1146                   GNMT    Language   \n",
       "1182            AlphaGo Lee       Games   \n",
       "1186  ResNet-152 (ImageNet)      Vision   \n",
       "1188  DeepSpeech2 (English)      Speech   \n",
       "\n",
       "                                                   Task  \\\n",
       "75    Language modelling,Visual question answering,C...   \n",
       "91                                   Language modelling   \n",
       "116                             Language modelling,Chat   \n",
       "130                      Chat,Visual question answering   \n",
       "176                                  Language modelling   \n",
       "...                                                 ...   \n",
       "1145                               Image classification   \n",
       "1146                                        Translation   \n",
       "1182                                                 Go   \n",
       "1186                               Image classification   \n",
       "1188                                 Speech recognition   \n",
       "\n",
       "                                                Authors Notability criteria  \\\n",
       "75                                          Gemini Team    SOTA improvement   \n",
       "91                                                  NaN     Significant use   \n",
       "116                                                 NaN    SOTA improvement   \n",
       "130                                                 NaN    SOTA improvement   \n",
       "176   Ebtesam Almazrouei, Hamza Alobeidli, Abdulaziz...    SOTA improvement   \n",
       "...                                                 ...                 ...   \n",
       "1145                                   François Chollet        Highly cited   \n",
       "1146  Yonghui Wu, Mike Schuster, Zhifeng Chen, Quoc ...        Highly cited   \n",
       "1182  David Silver, Aja Huang, Chris J. Maddison, Ar...        Highly cited   \n",
       "1186  Kaiming He, Xiangyu Zhang, Shaoqing Ren, Jian Sun        Highly cited   \n",
       "1188  Dario Amodei, Rishita Anubhai, Eric Battenberg...        Highly cited   \n",
       "\n",
       "                              Notability criteria notes  \\\n",
       "75    \" Evaluation on a broad range of benchmarks sh...   \n",
       "91    Inflection-2 either already powers Pi or soon ...   \n",
       "116   \"On these benchmarks, Grok-1 displayed strong ...   \n",
       "130   Aiming at GPT-4V, ChatGLM3 has implemented ite...   \n",
       "176   \"It's currently at the top of the Hugging Face...   \n",
       "...                                                 ...   \n",
       "1145                                                NaN   \n",
       "1146                                                NaN   \n",
       "1182                                                NaN   \n",
       "1186                                                NaN   \n",
       "1188                                                NaN   \n",
       "\n",
       "               Model accessibility  \\\n",
       "75          Hosted access (no API)   \n",
       "91          Hosted access (no API)   \n",
       "116                    Open source   \n",
       "130                            NaN   \n",
       "176   Open access (restricted use)   \n",
       "...                            ...   \n",
       "1145                           NaN   \n",
       "1146        Hosted access (no API)   \n",
       "1182                           NaN   \n",
       "1186                           NaN   \n",
       "1188                           NaN   \n",
       "\n",
       "                                                   Link  Citations  \\\n",
       "75    https://storage.googleapis.com/deepmind-media/...      633.0   \n",
       "91                   https://inflection.ai/inflection-2        NaN   \n",
       "116   https://x.ai/model-card/, https://x.ai/blog/gr...        NaN   \n",
       "130                   https://www.zhipuai.cn/en/news/76        NaN   \n",
       "176   https://falconllm.tii.ae/falcon-180b.html; htt...       86.0   \n",
       "...                                                 ...        ...   \n",
       "1145                   https://arxiv.org/abs/1610.02357    11578.0   \n",
       "1146                   https://arxiv.org/abs/1609.08144     6196.0   \n",
       "1182        https://www.nature.com/articles/nature16961    14887.0   \n",
       "1186                   https://arxiv.org/abs/1512.03385   156882.0   \n",
       "1188                   https://arxiv.org/abs/1512.02595     2749.0   \n",
       "\n",
       "                                              Reference  ... Foundation model  \\\n",
       "75    Gemini: A Family of Highly Capable Multimodal ...  ...              NaN   \n",
       "91                       Inflection-2: The Next Step Up  ...          checked   \n",
       "116                                     Announcing Grok  ...          checked   \n",
       "130       Zhipu AI launches third-generation base model  ...          checked   \n",
       "176           The Falcon Series of Open Language Models  ...              NaN   \n",
       "...                                                 ...  ...              ...   \n",
       "1145  Xception: Deep Learning with Depthwise Separab...  ...              NaN   \n",
       "1146  Google's Neural Machine Translation System: Br...  ...              NaN   \n",
       "1182  Mastering the game of Go with deep neural netw...  ...              NaN   \n",
       "1186       Deep Residual Learning for Image Recognition  ...              NaN   \n",
       "1188  Deep Speech 2: End-to-End Speech Recognition i...  ...              NaN   \n",
       "\n",
       "     Training compute lower bound  Training compute upper bound  \\\n",
       "75                            NaN                           NaN   \n",
       "91                            NaN                           NaN   \n",
       "116                             2                           7.0   \n",
       "130                           NaN                           NaN   \n",
       "176                           NaN                           NaN   \n",
       "...                           ...                           ...   \n",
       "1145                          NaN                           NaN   \n",
       "1146                          NaN                           NaN   \n",
       "1182                          NaN                           NaN   \n",
       "1186                          NaN                           NaN   \n",
       "1188                          NaN                           NaN   \n",
       "\n",
       "     Training chip-hours  Code accessibility Dataset accessibility  \\\n",
       "75           132000000.0                 NaN                   NaN   \n",
       "91                   NaN                 NaN                   NaN   \n",
       "116                  NaN          Unreleased            Unreleased   \n",
       "130                  NaN                 NaN                   NaN   \n",
       "176           17694720.0                 NaN                   NaN   \n",
       "...                  ...                 ...                   ...   \n",
       "1145             43200.0                 NaN                   NaN   \n",
       "1146            414720.0                 NaN                   NaN   \n",
       "1182                 NaN                 NaN                   NaN   \n",
       "1186                 NaN                 NaN                   NaN   \n",
       "1188               301.0                 NaN                   NaN   \n",
       "\n",
       "                                    Accessibility notes  \\\n",
       "75                                                  NaN   \n",
       "91                                       via Pi, no API   \n",
       "116                                          apache 2.0   \n",
       "130                                                 NaN   \n",
       "176   \"Falcon 180b can be commercially used but unde...   \n",
       "...                                                 ...   \n",
       "1145                                                NaN   \n",
       "1146           presumably deployed via Google translate   \n",
       "1182                                                NaN   \n",
       "1186                                                NaN   \n",
       "1188                                                NaN   \n",
       "\n",
       "     Organization categorization (from Organization)  Possibly over 1e23 FLOP  \\\n",
       "75                                          Industry                      NaN   \n",
       "91                                          Industry                      NaN   \n",
       "116                                         Industry                  checked   \n",
       "130                                         Industry                      NaN   \n",
       "176                                       Government                      NaN   \n",
       "...                                              ...                      ...   \n",
       "1145                                        Industry                      NaN   \n",
       "1146                                        Industry                      NaN   \n",
       "1182                                        Industry                      NaN   \n",
       "1186                                        Industry                      NaN   \n",
       "1188                                        Industry                      NaN   \n",
       "\n",
       "              Cost  \n",
       "75    9.590527e+07  \n",
       "91    1.824528e+07  \n",
       "116            NaN  \n",
       "130            NaN  \n",
       "176   1.427716e+07  \n",
       "...            ...  \n",
       "1145  1.601676e+04  \n",
       "1146  1.753311e+05  \n",
       "1182           NaN  \n",
       "1186           NaN  \n",
       "1188  3.081551e+02  \n",
       "\n",
       "[67 rows x 59 columns]"
      ]
     },
     "execution_count": 8,
     "metadata": {},
     "output_type": "execute_result"
    }
   ],
   "source": [
    "cost_df"
   ]
  },
  {
   "cell_type": "code",
   "execution_count": 9,
   "metadata": {
    "ExecuteTime": {
     "end_time": "2024-03-08T01:54:58.104807Z",
     "start_time": "2024-03-08T01:54:57.967995500Z"
    }
   },
   "outputs": [
    {
     "data": {
      "text/plain": [
       "47"
      ]
     },
     "execution_count": 9,
     "metadata": {},
     "output_type": "execute_result"
    }
   ],
   "source": [
    "cost_df['Cost'].notna().sum()"
   ]
  },
  {
   "cell_type": "markdown",
   "metadata": {},
   "source": [
    "Use the below to check data availability for specific systems"
   ]
  },
  {
   "cell_type": "code",
   "execution_count": 10,
   "metadata": {
    "ExecuteTime": {
     "end_time": "2024-03-08T01:54:58.418907200Z",
     "start_time": "2024-03-08T01:54:58.109807800Z"
    }
   },
   "outputs": [],
   "source": [
    "# system = 'WizardLM-7B'\n",
    "# row = cost_df.loc[cost_df['System'] == system]\n",
    "# print('Cost:', row['Cost'].values[0])\n",
    "# print('Training hardware:', row['Training hardware'].values[0])\n",
    "# print('Training time (hours):', row['Training time (hours)'].values[0])\n",
    "# print('Hardware quantity:', row['Hardware quantity'].values[0])\n",
    "# print('Hardware utilization:', row['Hardware utilization'].values[0])"
   ]
  },
  {
   "cell_type": "markdown",
   "metadata": {},
   "source": [
    "# Apply inflation adjustment"
   ]
  },
  {
   "cell_type": "code",
   "execution_count": 11,
   "metadata": {},
   "outputs": [
    {
     "data": {
      "text/plain": [
       "75      9.590527e+07\n",
       "91      1.824528e+07\n",
       "176     1.427716e+07\n",
       "215     1.535585e+06\n",
       "227     2.514884e+06\n",
       "268     1.517401e+07\n",
       "309     5.752012e+07\n",
       "325     7.928522e+05\n",
       "369     6.498636e+06\n",
       "380     1.237991e+06\n",
       "395     9.354507e+06\n",
       "420     2.016533e+06\n",
       "421     1.123767e+06\n",
       "442     1.001441e+07\n",
       "448     1.081508e+06\n",
       "485     1.014016e+06\n",
       "495     9.299755e+06\n",
       "517     5.789905e+05\n",
       "546     1.700781e+06\n",
       "550     1.583314e+06\n",
       "590     5.081185e+06\n",
       "597     7.986971e+05\n",
       "617     2.198945e+05\n",
       "639     2.401743e+05\n",
       "647     2.229937e+05\n",
       "684     1.406023e+05\n",
       "700     3.646119e+05\n",
       "703     1.597190e+05\n",
       "765     1.322771e+05\n",
       "772     2.835394e+06\n",
       "807     6.958371e+04\n",
       "812     5.455145e+05\n",
       "839     3.282400e+05\n",
       "843     1.969940e+05\n",
       "857     1.042778e+06\n",
       "858     1.405011e+05\n",
       "883     1.088780e+05\n",
       "969     1.351446e+04\n",
       "1042    1.083686e+06\n",
       "1058    1.640608e+06\n",
       "1092    2.194649e+04\n",
       "1114    4.877198e+03\n",
       "1118    1.254874e+06\n",
       "1134    7.210460e+02\n",
       "1145    1.601676e+04\n",
       "1146    1.753311e+05\n",
       "1188    3.081551e+02\n",
       "Name: Cost, dtype: float64"
      ]
     },
     "execution_count": 11,
     "metadata": {},
     "output_type": "execute_result"
    }
   ],
   "source": [
    "cost_df['Cost'].dropna()"
   ]
  },
  {
   "cell_type": "code",
   "execution_count": 12,
   "metadata": {
    "ExecuteTime": {
     "end_time": "2024-03-08T01:54:59.049781600Z",
     "start_time": "2024-03-08T01:54:58.881981400Z"
    }
   },
   "outputs": [],
   "source": [
    "cost_df = adjust_column_for_inflation(cost_df, 'Cost', 'data/PCU518210518210.csv', '2023-12-01')"
   ]
  },
  {
   "cell_type": "code",
   "execution_count": 13,
   "metadata": {
    "ExecuteTime": {
     "end_time": "2024-03-08T01:54:59.177190500Z",
     "start_time": "2024-03-08T01:54:59.049781600Z"
    }
   },
   "outputs": [
    {
     "data": {
      "text/plain": [
       "75      9.590527e+07\n",
       "91      1.828799e+07\n",
       "176     1.436562e+07\n",
       "215     1.544343e+06\n",
       "227     2.529227e+06\n",
       "268     1.533011e+07\n",
       "309     5.813749e+07\n",
       "325     8.029780e+05\n",
       "369     6.629295e+06\n",
       "380     1.262881e+06\n",
       "395     9.543076e+06\n",
       "420     2.056759e+06\n",
       "421     1.146184e+06\n",
       "442     1.020343e+07\n",
       "448     1.101921e+06\n",
       "485     1.030060e+06\n",
       "495     9.453757e+06\n",
       "517     5.985725e+05\n",
       "546     1.755101e+06\n",
       "550     1.633883e+06\n",
       "590     5.241881e+06\n",
       "597     8.254158e+05\n",
       "617     2.268665e+05\n",
       "639     2.483748e+05\n",
       "647     2.306077e+05\n",
       "684     1.452769e+05\n",
       "700     3.783762e+05\n",
       "703     1.657485e+05\n",
       "765     1.379925e+05\n",
       "772     2.976164e+06\n",
       "807     7.297400e+04\n",
       "812     5.731032e+05\n",
       "839     3.497799e+05\n",
       "843     2.099212e+05\n",
       "857     1.112203e+06\n",
       "858     1.498552e+05\n",
       "883     1.171768e+05\n",
       "969     1.455771e+04\n",
       "1042    1.171582e+06\n",
       "1058    1.773674e+06\n",
       "1092    2.370500e+04\n",
       "1114    5.325990e+03\n",
       "1118    1.370346e+06\n",
       "1134    7.873954e+02\n",
       "1145    1.749060e+04\n",
       "1146    1.914648e+05\n",
       "1188    3.428010e+02\n",
       "Name: Cost (inflation-adjusted), dtype: float64"
      ]
     },
     "execution_count": 13,
     "metadata": {},
     "output_type": "execute_result"
    }
   ],
   "source": [
    "cost_df['Cost (inflation-adjusted)'].dropna()"
   ]
  },
  {
   "cell_type": "code",
   "execution_count": 14,
   "metadata": {
    "ExecuteTime": {
     "end_time": "2024-03-08T01:54:59.344452300Z",
     "start_time": "2024-03-08T01:54:59.182457200Z"
    }
   },
   "outputs": [],
   "source": [
    "assert cost_df['Cost (inflation-adjusted)'].notna().sum() == cost_df['Cost'].notna().sum()"
   ]
  },
  {
   "cell_type": "markdown",
   "metadata": {},
   "source": [
    "# Regression"
   ]
  },
  {
   "cell_type": "code",
   "execution_count": 15,
   "metadata": {
    "ExecuteTime": {
     "end_time": "2024-03-08T01:54:59.490722200Z",
     "start_time": "2024-03-08T01:54:59.337705700Z"
    }
   },
   "outputs": [],
   "source": [
    "cost_df['Publication date (float)'] = datetime_to_float_year(pd.to_datetime(cost_df['Publication date']))"
   ]
  },
  {
   "cell_type": "code",
   "execution_count": 16,
   "metadata": {
    "ExecuteTime": {
     "end_time": "2024-03-08T01:54:59.700207700Z",
     "start_time": "2024-03-08T01:54:59.462346300Z"
    }
   },
   "outputs": [
    {
     "data": {
      "text/html": [
       "<table class=\"simpletable\">\n",
       "<caption>OLS Regression Results</caption>\n",
       "<tr>\n",
       "  <th>Dep. Variable:</th>            <td>y</td>        <th>  R-squared:         </th> <td>   0.580</td>\n",
       "</tr>\n",
       "<tr>\n",
       "  <th>Model:</th>                   <td>OLS</td>       <th>  Adj. R-squared:    </th> <td>   0.571</td>\n",
       "</tr>\n",
       "<tr>\n",
       "  <th>Method:</th>             <td>Least Squares</td>  <th>  F-statistic:       </th> <td>   62.23</td>\n",
       "</tr>\n",
       "<tr>\n",
       "  <th>Date:</th>             <td>Fri, 10 May 2024</td> <th>  Prob (F-statistic):</th> <td>5.01e-10</td>\n",
       "</tr>\n",
       "<tr>\n",
       "  <th>Time:</th>                 <td>19:10:37</td>     <th>  Log-Likelihood:    </th> <td> -51.084</td>\n",
       "</tr>\n",
       "<tr>\n",
       "  <th>No. Observations:</th>      <td>    47</td>      <th>  AIC:               </th> <td>   106.2</td>\n",
       "</tr>\n",
       "<tr>\n",
       "  <th>Df Residuals:</th>          <td>    45</td>      <th>  BIC:               </th> <td>   109.9</td>\n",
       "</tr>\n",
       "<tr>\n",
       "  <th>Df Model:</th>              <td>     1</td>      <th>                     </th>     <td> </td>   \n",
       "</tr>\n",
       "<tr>\n",
       "  <th>Covariance Type:</th>      <td>nonrobust</td>    <th>                     </th>     <td> </td>   \n",
       "</tr>\n",
       "</table>\n",
       "<table class=\"simpletable\">\n",
       "<tr>\n",
       "    <td></td>       <th>coef</th>     <th>std err</th>      <th>t</th>      <th>P>|t|</th>  <th>[0.025</th>    <th>0.975]</th>  \n",
       "</tr>\n",
       "<tr>\n",
       "  <th>const</th> <td> -753.7811</td> <td>   96.287</td> <td>   -7.828</td> <td> 0.000</td> <td> -947.714</td> <td> -559.849</td>\n",
       "</tr>\n",
       "<tr>\n",
       "  <th>x1</th>    <td>    0.3759</td> <td>    0.048</td> <td>    7.889</td> <td> 0.000</td> <td>    0.280</td> <td>    0.472</td>\n",
       "</tr>\n",
       "</table>\n",
       "<table class=\"simpletable\">\n",
       "<tr>\n",
       "  <th>Omnibus:</th>       <td> 2.459</td> <th>  Durbin-Watson:     </th> <td>   2.264</td>\n",
       "</tr>\n",
       "<tr>\n",
       "  <th>Prob(Omnibus):</th> <td> 0.292</td> <th>  Jarque-Bera (JB):  </th> <td>   2.083</td>\n",
       "</tr>\n",
       "<tr>\n",
       "  <th>Skew:</th>          <td> 0.513</td> <th>  Prob(JB):          </th> <td>   0.353</td>\n",
       "</tr>\n",
       "<tr>\n",
       "  <th>Kurtosis:</th>      <td> 2.895</td> <th>  Cond. No.          </th> <td>1.82e+06</td>\n",
       "</tr>\n",
       "</table><br/><br/>Notes:<br/>[1] Standard Errors assume that the covariance matrix of the errors is correctly specified.<br/>[2] The condition number is large, 1.82e+06. This might indicate that there are<br/>strong multicollinearity or other numerical problems."
      ],
      "text/latex": [
       "\\begin{center}\n",
       "\\begin{tabular}{lclc}\n",
       "\\toprule\n",
       "\\textbf{Dep. Variable:}    &        y         & \\textbf{  R-squared:         } &     0.580   \\\\\n",
       "\\textbf{Model:}            &       OLS        & \\textbf{  Adj. R-squared:    } &     0.571   \\\\\n",
       "\\textbf{Method:}           &  Least Squares   & \\textbf{  F-statistic:       } &     62.23   \\\\\n",
       "\\textbf{Date:}             & Fri, 10 May 2024 & \\textbf{  Prob (F-statistic):} &  5.01e-10   \\\\\n",
       "\\textbf{Time:}             &     19:10:37     & \\textbf{  Log-Likelihood:    } &   -51.084   \\\\\n",
       "\\textbf{No. Observations:} &          47      & \\textbf{  AIC:               } &     106.2   \\\\\n",
       "\\textbf{Df Residuals:}     &          45      & \\textbf{  BIC:               } &     109.9   \\\\\n",
       "\\textbf{Df Model:}         &           1      & \\textbf{                     } &             \\\\\n",
       "\\textbf{Covariance Type:}  &    nonrobust     & \\textbf{                     } &             \\\\\n",
       "\\bottomrule\n",
       "\\end{tabular}\n",
       "\\begin{tabular}{lcccccc}\n",
       "               & \\textbf{coef} & \\textbf{std err} & \\textbf{t} & \\textbf{P$> |$t$|$} & \\textbf{[0.025} & \\textbf{0.975]}  \\\\\n",
       "\\midrule\n",
       "\\textbf{const} &    -753.7811  &       96.287     &    -7.828  &         0.000        &     -947.714    &     -559.849     \\\\\n",
       "\\textbf{x1}    &       0.3759  &        0.048     &     7.889  &         0.000        &        0.280    &        0.472     \\\\\n",
       "\\bottomrule\n",
       "\\end{tabular}\n",
       "\\begin{tabular}{lclc}\n",
       "\\textbf{Omnibus:}       &  2.459 & \\textbf{  Durbin-Watson:     } &    2.264  \\\\\n",
       "\\textbf{Prob(Omnibus):} &  0.292 & \\textbf{  Jarque-Bera (JB):  } &    2.083  \\\\\n",
       "\\textbf{Skew:}          &  0.513 & \\textbf{  Prob(JB):          } &    0.353  \\\\\n",
       "\\textbf{Kurtosis:}      &  2.895 & \\textbf{  Cond. No.          } & 1.82e+06  \\\\\n",
       "\\bottomrule\n",
       "\\end{tabular}\n",
       "%\\caption{OLS Regression Results}\n",
       "\\end{center}\n",
       "\n",
       "Notes: \\newline\n",
       " [1] Standard Errors assume that the covariance matrix of the errors is correctly specified. \\newline\n",
       " [2] The condition number is large, 1.82e+06. This might indicate that there are \\newline\n",
       " strong multicollinearity or other numerical problems."
      ],
      "text/plain": [
       "<class 'statsmodels.iolib.summary.Summary'>\n",
       "\"\"\"\n",
       "                            OLS Regression Results                            \n",
       "==============================================================================\n",
       "Dep. Variable:                      y   R-squared:                       0.580\n",
       "Model:                            OLS   Adj. R-squared:                  0.571\n",
       "Method:                 Least Squares   F-statistic:                     62.23\n",
       "Date:                Fri, 10 May 2024   Prob (F-statistic):           5.01e-10\n",
       "Time:                        19:10:37   Log-Likelihood:                -51.084\n",
       "No. Observations:                  47   AIC:                             106.2\n",
       "Df Residuals:                      45   BIC:                             109.9\n",
       "Df Model:                           1                                         \n",
       "Covariance Type:            nonrobust                                         \n",
       "==============================================================================\n",
       "                 coef    std err          t      P>|t|      [0.025      0.975]\n",
       "------------------------------------------------------------------------------\n",
       "const       -753.7811     96.287     -7.828      0.000    -947.714    -559.849\n",
       "x1             0.3759      0.048      7.889      0.000       0.280       0.472\n",
       "==============================================================================\n",
       "Omnibus:                        2.459   Durbin-Watson:                   2.264\n",
       "Prob(Omnibus):                  0.292   Jarque-Bera (JB):                2.083\n",
       "Skew:                           0.513   Prob(JB):                        0.353\n",
       "Kurtosis:                       2.895   Cond. No.                     1.82e+06\n",
       "==============================================================================\n",
       "\n",
       "Notes:\n",
       "[1] Standard Errors assume that the covariance matrix of the errors is correctly specified.\n",
       "[2] The condition number is large, 1.82e+06. This might indicate that there are\n",
       "strong multicollinearity or other numerical problems.\n",
       "\"\"\""
      ]
     },
     "execution_count": 16,
     "metadata": {},
     "output_type": "execute_result"
    }
   ],
   "source": [
    "reg_results = fit_ols_regression(cost_df, ['Publication date (float)'], 'Cost (inflation-adjusted)', logy=True)\n",
    "reg_results.summary()"
   ]
  },
  {
   "cell_type": "code",
   "execution_count": 17,
   "metadata": {
    "ExecuteTime": {
     "end_time": "2024-03-08T01:55:00.548785500Z",
     "start_time": "2024-03-08T01:54:59.700207700Z"
    }
   },
   "outputs": [
    {
     "name": "stdout",
     "output_type": "stream",
     "text": [
      "N=47.0\n",
      "R^2=0.58\n",
      "0.38 OOMs/year (95% CI: 0.28, 0.47)\n",
      "2.4x/year (95% CI: 1.9x, 3.0x)\n",
      "doubling time of 10 months (95% CI: 8, 13)\n"
     ]
    }
   ],
   "source": [
    "with open(f'{results_dir}/regression_results.out', 'w') as f:\n",
    "    with redirect_stdout(f):\n",
    "        print_growth_rates(reg_results)\n",
    "print_growth_rates(reg_results)"
   ]
  },
  {
   "cell_type": "code",
   "execution_count": 18,
   "metadata": {
    "ExecuteTime": {
     "end_time": "2024-03-08T01:55:00.548785500Z",
     "start_time": "2024-03-08T01:54:59.809703300Z"
    }
   },
   "outputs": [
    {
     "data": {
      "text/html": [
       "<div>\n",
       "<style scoped>\n",
       "    .dataframe tbody tr th:only-of-type {\n",
       "        vertical-align: middle;\n",
       "    }\n",
       "\n",
       "    .dataframe tbody tr th {\n",
       "        vertical-align: top;\n",
       "    }\n",
       "\n",
       "    .dataframe thead th {\n",
       "        text-align: right;\n",
       "    }\n",
       "</style>\n",
       "<table border=\"1\" class=\"dataframe\">\n",
       "  <thead>\n",
       "    <tr style=\"text-align: right;\">\n",
       "      <th></th>\n",
       "      <th>Publication date (float)</th>\n",
       "    </tr>\n",
       "  </thead>\n",
       "  <tbody>\n",
       "    <tr>\n",
       "      <th>0</th>\n",
       "      <td>2015.00000</td>\n",
       "    </tr>\n",
       "    <tr>\n",
       "      <th>1</th>\n",
       "      <td>2015.10101</td>\n",
       "    </tr>\n",
       "    <tr>\n",
       "      <th>2</th>\n",
       "      <td>2015.20202</td>\n",
       "    </tr>\n",
       "    <tr>\n",
       "      <th>3</th>\n",
       "      <td>2015.30303</td>\n",
       "    </tr>\n",
       "    <tr>\n",
       "      <th>4</th>\n",
       "      <td>2015.40404</td>\n",
       "    </tr>\n",
       "    <tr>\n",
       "      <th>...</th>\n",
       "      <td>...</td>\n",
       "    </tr>\n",
       "    <tr>\n",
       "      <th>95</th>\n",
       "      <td>2024.59596</td>\n",
       "    </tr>\n",
       "    <tr>\n",
       "      <th>96</th>\n",
       "      <td>2024.69697</td>\n",
       "    </tr>\n",
       "    <tr>\n",
       "      <th>97</th>\n",
       "      <td>2024.79798</td>\n",
       "    </tr>\n",
       "    <tr>\n",
       "      <th>98</th>\n",
       "      <td>2024.89899</td>\n",
       "    </tr>\n",
       "    <tr>\n",
       "      <th>99</th>\n",
       "      <td>2025.00000</td>\n",
       "    </tr>\n",
       "  </tbody>\n",
       "</table>\n",
       "<p>100 rows × 1 columns</p>\n",
       "</div>"
      ],
      "text/plain": [
       "    Publication date (float)\n",
       "0                 2015.00000\n",
       "1                 2015.10101\n",
       "2                 2015.20202\n",
       "3                 2015.30303\n",
       "4                 2015.40404\n",
       "..                       ...\n",
       "95                2024.59596\n",
       "96                2024.69697\n",
       "97                2024.79798\n",
       "98                2024.89899\n",
       "99                2025.00000\n",
       "\n",
       "[100 rows x 1 columns]"
      ]
     },
     "execution_count": 18,
     "metadata": {},
     "output_type": "execute_result"
    }
   ],
   "source": [
    "pred_start_year = 2015\n",
    "pred_end_year = 2025\n",
    "pred_start_date = f'{pred_start_year}-01-01'\n",
    "pred_end_date = f'{pred_end_year}-01-01'\n",
    "\n",
    "pred_years = pd.DataFrame({'Publication date (float)': np.linspace(pred_start_year, pred_end_year, 100)})\n",
    "pred_years"
   ]
  },
  {
   "cell_type": "code",
   "execution_count": 19,
   "metadata": {
    "ExecuteTime": {
     "end_time": "2024-03-08T01:55:00.564420400Z",
     "start_time": "2024-03-08T01:54:59.920051200Z"
    }
   },
   "outputs": [
    {
     "data": {
      "text/html": [
       "<div>\n",
       "<style scoped>\n",
       "    .dataframe tbody tr th:only-of-type {\n",
       "        vertical-align: middle;\n",
       "    }\n",
       "\n",
       "    .dataframe tbody tr th {\n",
       "        vertical-align: top;\n",
       "    }\n",
       "\n",
       "    .dataframe thead th {\n",
       "        text-align: right;\n",
       "    }\n",
       "</style>\n",
       "<table border=\"1\" class=\"dataframe\">\n",
       "  <thead>\n",
       "    <tr style=\"text-align: right;\">\n",
       "      <th></th>\n",
       "      <th>mean</th>\n",
       "      <th>mean_se</th>\n",
       "      <th>mean_ci_lower</th>\n",
       "      <th>mean_ci_upper</th>\n",
       "      <th>obs_ci_lower</th>\n",
       "      <th>obs_ci_upper</th>\n",
       "      <th>Publication date (float)</th>\n",
       "      <th>Publication date</th>\n",
       "    </tr>\n",
       "  </thead>\n",
       "  <tbody>\n",
       "    <tr>\n",
       "      <th>0</th>\n",
       "      <td>3.587178</td>\n",
       "      <td>0.299129</td>\n",
       "      <td>2.984701</td>\n",
       "      <td>4.189656</td>\n",
       "      <td>1.992222</td>\n",
       "      <td>5.182135</td>\n",
       "      <td>2015.00000</td>\n",
       "      <td>2015-01-01</td>\n",
       "    </tr>\n",
       "    <tr>\n",
       "      <th>1</th>\n",
       "      <td>3.625145</td>\n",
       "      <td>0.294640</td>\n",
       "      <td>3.031710</td>\n",
       "      <td>4.218579</td>\n",
       "      <td>2.033582</td>\n",
       "      <td>5.216707</td>\n",
       "      <td>2015.10101</td>\n",
       "      <td>2015-02-06</td>\n",
       "    </tr>\n",
       "    <tr>\n",
       "      <th>2</th>\n",
       "      <td>3.663111</td>\n",
       "      <td>0.290160</td>\n",
       "      <td>3.078698</td>\n",
       "      <td>4.247524</td>\n",
       "      <td>2.074890</td>\n",
       "      <td>5.251332</td>\n",
       "      <td>2015.20202</td>\n",
       "      <td>2015-03-15</td>\n",
       "    </tr>\n",
       "    <tr>\n",
       "      <th>3</th>\n",
       "      <td>3.701077</td>\n",
       "      <td>0.285692</td>\n",
       "      <td>3.125664</td>\n",
       "      <td>4.276490</td>\n",
       "      <td>2.116146</td>\n",
       "      <td>5.286008</td>\n",
       "      <td>2015.30303</td>\n",
       "      <td>2015-04-21</td>\n",
       "    </tr>\n",
       "    <tr>\n",
       "      <th>4</th>\n",
       "      <td>3.739043</td>\n",
       "      <td>0.281235</td>\n",
       "      <td>3.172607</td>\n",
       "      <td>4.305479</td>\n",
       "      <td>2.157349</td>\n",
       "      <td>5.320737</td>\n",
       "      <td>2015.40404</td>\n",
       "      <td>2015-05-28</td>\n",
       "    </tr>\n",
       "    <tr>\n",
       "      <th>...</th>\n",
       "      <td>...</td>\n",
       "      <td>...</td>\n",
       "      <td>...</td>\n",
       "      <td>...</td>\n",
       "      <td>...</td>\n",
       "      <td>...</td>\n",
       "      <td>...</td>\n",
       "      <td>...</td>\n",
       "    </tr>\n",
       "    <tr>\n",
       "      <th>95</th>\n",
       "      <td>7.193965</td>\n",
       "      <td>0.207539</td>\n",
       "      <td>6.775960</td>\n",
       "      <td>7.611970</td>\n",
       "      <td>5.659158</td>\n",
       "      <td>8.728773</td>\n",
       "      <td>2024.59596</td>\n",
       "      <td>2024-08-06</td>\n",
       "    </tr>\n",
       "    <tr>\n",
       "      <th>96</th>\n",
       "      <td>7.231932</td>\n",
       "      <td>0.211678</td>\n",
       "      <td>6.805590</td>\n",
       "      <td>7.658273</td>\n",
       "      <td>5.694832</td>\n",
       "      <td>8.769031</td>\n",
       "      <td>2024.69697</td>\n",
       "      <td>2024-09-12</td>\n",
       "    </tr>\n",
       "    <tr>\n",
       "      <th>97</th>\n",
       "      <td>7.269898</td>\n",
       "      <td>0.215845</td>\n",
       "      <td>6.835163</td>\n",
       "      <td>7.704632</td>\n",
       "      <td>5.730450</td>\n",
       "      <td>8.809346</td>\n",
       "      <td>2024.79798</td>\n",
       "      <td>2024-10-19</td>\n",
       "    </tr>\n",
       "    <tr>\n",
       "      <th>98</th>\n",
       "      <td>7.307864</td>\n",
       "      <td>0.220038</td>\n",
       "      <td>6.864684</td>\n",
       "      <td>7.751044</td>\n",
       "      <td>5.766009</td>\n",
       "      <td>8.849718</td>\n",
       "      <td>2024.89899</td>\n",
       "      <td>2024-11-25</td>\n",
       "    </tr>\n",
       "    <tr>\n",
       "      <th>99</th>\n",
       "      <td>7.345830</td>\n",
       "      <td>0.224257</td>\n",
       "      <td>6.894154</td>\n",
       "      <td>7.797506</td>\n",
       "      <td>5.801512</td>\n",
       "      <td>8.890148</td>\n",
       "      <td>2025.00000</td>\n",
       "      <td>2025-01-01</td>\n",
       "    </tr>\n",
       "  </tbody>\n",
       "</table>\n",
       "<p>100 rows × 8 columns</p>\n",
       "</div>"
      ],
      "text/plain": [
       "        mean   mean_se  mean_ci_lower  mean_ci_upper  obs_ci_lower  \\\n",
       "0   3.587178  0.299129       2.984701       4.189656      1.992222   \n",
       "1   3.625145  0.294640       3.031710       4.218579      2.033582   \n",
       "2   3.663111  0.290160       3.078698       4.247524      2.074890   \n",
       "3   3.701077  0.285692       3.125664       4.276490      2.116146   \n",
       "4   3.739043  0.281235       3.172607       4.305479      2.157349   \n",
       "..       ...       ...            ...            ...           ...   \n",
       "95  7.193965  0.207539       6.775960       7.611970      5.659158   \n",
       "96  7.231932  0.211678       6.805590       7.658273      5.694832   \n",
       "97  7.269898  0.215845       6.835163       7.704632      5.730450   \n",
       "98  7.307864  0.220038       6.864684       7.751044      5.766009   \n",
       "99  7.345830  0.224257       6.894154       7.797506      5.801512   \n",
       "\n",
       "    obs_ci_upper  Publication date (float) Publication date  \n",
       "0       5.182135                2015.00000       2015-01-01  \n",
       "1       5.216707                2015.10101       2015-02-06  \n",
       "2       5.251332                2015.20202       2015-03-15  \n",
       "3       5.286008                2015.30303       2015-04-21  \n",
       "4       5.320737                2015.40404       2015-05-28  \n",
       "..           ...                       ...              ...  \n",
       "95      8.728773                2024.59596       2024-08-06  \n",
       "96      8.769031                2024.69697       2024-09-12  \n",
       "97      8.809346                2024.79798       2024-10-19  \n",
       "98      8.849718                2024.89899       2024-11-25  \n",
       "99      8.890148                2025.00000       2025-01-01  \n",
       "\n",
       "[100 rows x 8 columns]"
      ]
     },
     "execution_count": 19,
     "metadata": {},
     "output_type": "execute_result"
    }
   ],
   "source": [
    "\n",
    "predicted_cost_df = get_predictions(reg_results, pred_years, ['Publication date (float)'])\n",
    "predicted_cost_df['Publication date'] = predicted_cost_df['Publication date (float)'].apply(float_year_to_datetime)\n",
    "predicted_cost_df"
   ]
  },
  {
   "cell_type": "markdown",
   "metadata": {},
   "source": [
    "# Export data"
   ]
  },
  {
   "cell_type": "code",
   "execution_count": 20,
   "metadata": {},
   "outputs": [
    {
     "data": {
      "text/html": [
       "<div>\n",
       "<style scoped>\n",
       "    .dataframe tbody tr th:only-of-type {\n",
       "        vertical-align: middle;\n",
       "    }\n",
       "\n",
       "    .dataframe tbody tr th {\n",
       "        vertical-align: top;\n",
       "    }\n",
       "\n",
       "    .dataframe thead th {\n",
       "        text-align: right;\n",
       "    }\n",
       "</style>\n",
       "<table border=\"1\" class=\"dataframe\">\n",
       "  <thead>\n",
       "    <tr style=\"text-align: right;\">\n",
       "      <th></th>\n",
       "      <th>System</th>\n",
       "      <th>Domain</th>\n",
       "      <th>Task</th>\n",
       "      <th>Model accessibility</th>\n",
       "      <th>Reference</th>\n",
       "      <th>Publication date</th>\n",
       "      <th>Organization</th>\n",
       "      <th>Parameters</th>\n",
       "      <th>Training compute (FLOP)</th>\n",
       "      <th>Training dataset size (datapoints)</th>\n",
       "      <th>...</th>\n",
       "      <th>Training hardware</th>\n",
       "      <th>Country (from Organization)</th>\n",
       "      <th>Base model</th>\n",
       "      <th>Finetune compute (FLOP)</th>\n",
       "      <th>Hardware quantity</th>\n",
       "      <th>Hardware utilization</th>\n",
       "      <th>Training cloud compute vendor</th>\n",
       "      <th>Training data center</th>\n",
       "      <th>Cost</th>\n",
       "      <th>Cost (inflation-adjusted)</th>\n",
       "    </tr>\n",
       "  </thead>\n",
       "  <tbody>\n",
       "    <tr>\n",
       "      <th>75</th>\n",
       "      <td>Gemini Ultra</td>\n",
       "      <td>Multimodal</td>\n",
       "      <td>Language modelling,Visual question answering,C...</td>\n",
       "      <td>Hosted access (no API)</td>\n",
       "      <td>Gemini: A Family of Highly Capable Multimodal ...</td>\n",
       "      <td>2023-12-06</td>\n",
       "      <td>Google DeepMind</td>\n",
       "      <td>NaN</td>\n",
       "      <td>5.000000e+25</td>\n",
       "      <td>NaN</td>\n",
       "      <td>...</td>\n",
       "      <td>Google TPU v4</td>\n",
       "      <td>Multinational</td>\n",
       "      <td>NaN</td>\n",
       "      <td>NaN</td>\n",
       "      <td>55000.0</td>\n",
       "      <td>NaN</td>\n",
       "      <td>NaN</td>\n",
       "      <td>NaN</td>\n",
       "      <td>9.590527e+07</td>\n",
       "      <td>9.590527e+07</td>\n",
       "    </tr>\n",
       "    <tr>\n",
       "      <th>91</th>\n",
       "      <td>Inflection-2</td>\n",
       "      <td>Language</td>\n",
       "      <td>Language modelling</td>\n",
       "      <td>Hosted access (no API)</td>\n",
       "      <td>Inflection-2: The Next Step Up</td>\n",
       "      <td>2023-11-22</td>\n",
       "      <td>Inflection AI</td>\n",
       "      <td>NaN</td>\n",
       "      <td>1.001000e+25</td>\n",
       "      <td>NaN</td>\n",
       "      <td>...</td>\n",
       "      <td>NVIDIA H100 SXM5</td>\n",
       "      <td>United States of America</td>\n",
       "      <td>NaN</td>\n",
       "      <td>NaN</td>\n",
       "      <td>5000.0</td>\n",
       "      <td>NaN</td>\n",
       "      <td>NaN</td>\n",
       "      <td>NaN</td>\n",
       "      <td>1.824528e+07</td>\n",
       "      <td>1.828799e+07</td>\n",
       "    </tr>\n",
       "    <tr>\n",
       "      <th>116</th>\n",
       "      <td>Grok-1</td>\n",
       "      <td>Language</td>\n",
       "      <td>Language modelling,Chat</td>\n",
       "      <td>Open source</td>\n",
       "      <td>Announcing Grok</td>\n",
       "      <td>2023-11-04</td>\n",
       "      <td>xAI</td>\n",
       "      <td>3.140000e+11</td>\n",
       "      <td>2.900000e+24</td>\n",
       "      <td>NaN</td>\n",
       "      <td>...</td>\n",
       "      <td>NaN</td>\n",
       "      <td>United States of America</td>\n",
       "      <td>NaN</td>\n",
       "      <td>NaN</td>\n",
       "      <td>NaN</td>\n",
       "      <td>NaN</td>\n",
       "      <td>NaN</td>\n",
       "      <td>NaN</td>\n",
       "      <td>NaN</td>\n",
       "      <td>NaN</td>\n",
       "    </tr>\n",
       "    <tr>\n",
       "      <th>130</th>\n",
       "      <td>ChatGLM3</td>\n",
       "      <td>Multimodal</td>\n",
       "      <td>Chat,Visual question answering</td>\n",
       "      <td>NaN</td>\n",
       "      <td>Zhipu AI launches third-generation base model</td>\n",
       "      <td>2023-10-27</td>\n",
       "      <td>Zhipu AI</td>\n",
       "      <td>1.300000e+11</td>\n",
       "      <td>1.092000e+24</td>\n",
       "      <td>1.050000e+12</td>\n",
       "      <td>...</td>\n",
       "      <td>NaN</td>\n",
       "      <td>China</td>\n",
       "      <td>NaN</td>\n",
       "      <td>NaN</td>\n",
       "      <td>NaN</td>\n",
       "      <td>NaN</td>\n",
       "      <td>NaN</td>\n",
       "      <td>NaN</td>\n",
       "      <td>NaN</td>\n",
       "      <td>NaN</td>\n",
       "    </tr>\n",
       "    <tr>\n",
       "      <th>176</th>\n",
       "      <td>Falcon-180B</td>\n",
       "      <td>Language</td>\n",
       "      <td>Language modelling</td>\n",
       "      <td>Open access (restricted use)</td>\n",
       "      <td>The Falcon Series of Open Language Models</td>\n",
       "      <td>2023-09-06</td>\n",
       "      <td>Technology Innovation Institute</td>\n",
       "      <td>1.800000e+11</td>\n",
       "      <td>3.760000e+24</td>\n",
       "      <td>2.625000e+12</td>\n",
       "      <td>...</td>\n",
       "      <td>NVIDIA A100 SXM4 40 GB</td>\n",
       "      <td>United Arab Emirates</td>\n",
       "      <td>NaN</td>\n",
       "      <td>NaN</td>\n",
       "      <td>4096.0</td>\n",
       "      <td>0.1876</td>\n",
       "      <td>Amazon Web Services</td>\n",
       "      <td>NaN</td>\n",
       "      <td>1.427716e+07</td>\n",
       "      <td>1.436562e+07</td>\n",
       "    </tr>\n",
       "    <tr>\n",
       "      <th>...</th>\n",
       "      <td>...</td>\n",
       "      <td>...</td>\n",
       "      <td>...</td>\n",
       "      <td>...</td>\n",
       "      <td>...</td>\n",
       "      <td>...</td>\n",
       "      <td>...</td>\n",
       "      <td>...</td>\n",
       "      <td>...</td>\n",
       "      <td>...</td>\n",
       "      <td>...</td>\n",
       "      <td>...</td>\n",
       "      <td>...</td>\n",
       "      <td>...</td>\n",
       "      <td>...</td>\n",
       "      <td>...</td>\n",
       "      <td>...</td>\n",
       "      <td>...</td>\n",
       "      <td>...</td>\n",
       "      <td>...</td>\n",
       "      <td>...</td>\n",
       "    </tr>\n",
       "    <tr>\n",
       "      <th>1145</th>\n",
       "      <td>Xception</td>\n",
       "      <td>Vision</td>\n",
       "      <td>Image classification</td>\n",
       "      <td>NaN</td>\n",
       "      <td>Xception: Deep Learning with Depthwise Separab...</td>\n",
       "      <td>2016-10-07</td>\n",
       "      <td>Google</td>\n",
       "      <td>2.285595e+07</td>\n",
       "      <td>4.360000e+20</td>\n",
       "      <td>3.500000e+08</td>\n",
       "      <td>...</td>\n",
       "      <td>NVIDIA Tesla K80</td>\n",
       "      <td>United States of America</td>\n",
       "      <td>NaN</td>\n",
       "      <td>NaN</td>\n",
       "      <td>60.0</td>\n",
       "      <td>NaN</td>\n",
       "      <td>NaN</td>\n",
       "      <td>NaN</td>\n",
       "      <td>1.601676e+04</td>\n",
       "      <td>1.749060e+04</td>\n",
       "    </tr>\n",
       "    <tr>\n",
       "      <th>1146</th>\n",
       "      <td>GNMT</td>\n",
       "      <td>Language</td>\n",
       "      <td>Translation</td>\n",
       "      <td>Hosted access (no API)</td>\n",
       "      <td>Google's Neural Machine Translation System: Br...</td>\n",
       "      <td>2016-09-26</td>\n",
       "      <td>Google</td>\n",
       "      <td>2.780000e+08</td>\n",
       "      <td>6.900000e+21</td>\n",
       "      <td>3.600000e+08</td>\n",
       "      <td>...</td>\n",
       "      <td>NVIDIA Tesla K80</td>\n",
       "      <td>United States of America</td>\n",
       "      <td>NaN</td>\n",
       "      <td>NaN</td>\n",
       "      <td>96.0</td>\n",
       "      <td>NaN</td>\n",
       "      <td>NaN</td>\n",
       "      <td>NaN</td>\n",
       "      <td>1.753311e+05</td>\n",
       "      <td>1.914648e+05</td>\n",
       "    </tr>\n",
       "    <tr>\n",
       "      <th>1182</th>\n",
       "      <td>AlphaGo Lee</td>\n",
       "      <td>Games</td>\n",
       "      <td>Go</td>\n",
       "      <td>NaN</td>\n",
       "      <td>Mastering the game of Go with deep neural netw...</td>\n",
       "      <td>2016-01-27</td>\n",
       "      <td>DeepMind</td>\n",
       "      <td>NaN</td>\n",
       "      <td>1.900000e+21</td>\n",
       "      <td>2.940000e+07</td>\n",
       "      <td>...</td>\n",
       "      <td>NaN</td>\n",
       "      <td>United Kingdom of Great Britain and Northern I...</td>\n",
       "      <td>NaN</td>\n",
       "      <td>NaN</td>\n",
       "      <td>NaN</td>\n",
       "      <td>NaN</td>\n",
       "      <td>NaN</td>\n",
       "      <td>NaN</td>\n",
       "      <td>NaN</td>\n",
       "      <td>NaN</td>\n",
       "    </tr>\n",
       "    <tr>\n",
       "      <th>1186</th>\n",
       "      <td>ResNet-152 (ImageNet)</td>\n",
       "      <td>Vision</td>\n",
       "      <td>Image classification</td>\n",
       "      <td>NaN</td>\n",
       "      <td>Deep Residual Learning for Image Recognition</td>\n",
       "      <td>2015-12-10</td>\n",
       "      <td>Microsoft</td>\n",
       "      <td>6.000000e+07</td>\n",
       "      <td>1.210000e+19</td>\n",
       "      <td>1.280000e+06</td>\n",
       "      <td>...</td>\n",
       "      <td>NaN</td>\n",
       "      <td>United States of America</td>\n",
       "      <td>NaN</td>\n",
       "      <td>NaN</td>\n",
       "      <td>NaN</td>\n",
       "      <td>NaN</td>\n",
       "      <td>NaN</td>\n",
       "      <td>NaN</td>\n",
       "      <td>NaN</td>\n",
       "      <td>NaN</td>\n",
       "    </tr>\n",
       "    <tr>\n",
       "      <th>1188</th>\n",
       "      <td>DeepSpeech2 (English)</td>\n",
       "      <td>Speech</td>\n",
       "      <td>Speech recognition</td>\n",
       "      <td>NaN</td>\n",
       "      <td>Deep Speech 2: End-to-End Speech Recognition i...</td>\n",
       "      <td>2015-12-08</td>\n",
       "      <td>Baidu Research - Silicon Valley AI Lab</td>\n",
       "      <td>3.800000e+07</td>\n",
       "      <td>2.600000e+19</td>\n",
       "      <td>1.633392e+08</td>\n",
       "      <td>...</td>\n",
       "      <td>NVIDIA GTX Titan X</td>\n",
       "      <td>United States of America</td>\n",
       "      <td>NaN</td>\n",
       "      <td>NaN</td>\n",
       "      <td>NaN</td>\n",
       "      <td>0.4500</td>\n",
       "      <td>NaN</td>\n",
       "      <td>NaN</td>\n",
       "      <td>3.081551e+02</td>\n",
       "      <td>3.428010e+02</td>\n",
       "    </tr>\n",
       "  </tbody>\n",
       "</table>\n",
       "<p>67 rows × 22 columns</p>\n",
       "</div>"
      ],
      "text/plain": [
       "                     System      Domain  \\\n",
       "75             Gemini Ultra  Multimodal   \n",
       "91             Inflection-2    Language   \n",
       "116                  Grok-1    Language   \n",
       "130                ChatGLM3  Multimodal   \n",
       "176             Falcon-180B    Language   \n",
       "...                     ...         ...   \n",
       "1145               Xception      Vision   \n",
       "1146                   GNMT    Language   \n",
       "1182            AlphaGo Lee       Games   \n",
       "1186  ResNet-152 (ImageNet)      Vision   \n",
       "1188  DeepSpeech2 (English)      Speech   \n",
       "\n",
       "                                                   Task  \\\n",
       "75    Language modelling,Visual question answering,C...   \n",
       "91                                   Language modelling   \n",
       "116                             Language modelling,Chat   \n",
       "130                      Chat,Visual question answering   \n",
       "176                                  Language modelling   \n",
       "...                                                 ...   \n",
       "1145                               Image classification   \n",
       "1146                                        Translation   \n",
       "1182                                                 Go   \n",
       "1186                               Image classification   \n",
       "1188                                 Speech recognition   \n",
       "\n",
       "               Model accessibility  \\\n",
       "75          Hosted access (no API)   \n",
       "91          Hosted access (no API)   \n",
       "116                    Open source   \n",
       "130                            NaN   \n",
       "176   Open access (restricted use)   \n",
       "...                            ...   \n",
       "1145                           NaN   \n",
       "1146        Hosted access (no API)   \n",
       "1182                           NaN   \n",
       "1186                           NaN   \n",
       "1188                           NaN   \n",
       "\n",
       "                                              Reference Publication date  \\\n",
       "75    Gemini: A Family of Highly Capable Multimodal ...       2023-12-06   \n",
       "91                       Inflection-2: The Next Step Up       2023-11-22   \n",
       "116                                     Announcing Grok       2023-11-04   \n",
       "130       Zhipu AI launches third-generation base model       2023-10-27   \n",
       "176           The Falcon Series of Open Language Models       2023-09-06   \n",
       "...                                                 ...              ...   \n",
       "1145  Xception: Deep Learning with Depthwise Separab...       2016-10-07   \n",
       "1146  Google's Neural Machine Translation System: Br...       2016-09-26   \n",
       "1182  Mastering the game of Go with deep neural netw...       2016-01-27   \n",
       "1186       Deep Residual Learning for Image Recognition       2015-12-10   \n",
       "1188  Deep Speech 2: End-to-End Speech Recognition i...       2015-12-08   \n",
       "\n",
       "                                Organization    Parameters  \\\n",
       "75                           Google DeepMind           NaN   \n",
       "91                             Inflection AI           NaN   \n",
       "116                                      xAI  3.140000e+11   \n",
       "130                                 Zhipu AI  1.300000e+11   \n",
       "176          Technology Innovation Institute  1.800000e+11   \n",
       "...                                      ...           ...   \n",
       "1145                                  Google  2.285595e+07   \n",
       "1146                                  Google  2.780000e+08   \n",
       "1182                                DeepMind           NaN   \n",
       "1186                               Microsoft  6.000000e+07   \n",
       "1188  Baidu Research - Silicon Valley AI Lab  3.800000e+07   \n",
       "\n",
       "      Training compute (FLOP)  Training dataset size (datapoints)  ...  \\\n",
       "75               5.000000e+25                                 NaN  ...   \n",
       "91               1.001000e+25                                 NaN  ...   \n",
       "116              2.900000e+24                                 NaN  ...   \n",
       "130              1.092000e+24                        1.050000e+12  ...   \n",
       "176              3.760000e+24                        2.625000e+12  ...   \n",
       "...                       ...                                 ...  ...   \n",
       "1145             4.360000e+20                        3.500000e+08  ...   \n",
       "1146             6.900000e+21                        3.600000e+08  ...   \n",
       "1182             1.900000e+21                        2.940000e+07  ...   \n",
       "1186             1.210000e+19                        1.280000e+06  ...   \n",
       "1188             2.600000e+19                        1.633392e+08  ...   \n",
       "\n",
       "           Training hardware  \\\n",
       "75             Google TPU v4   \n",
       "91          NVIDIA H100 SXM5   \n",
       "116                      NaN   \n",
       "130                      NaN   \n",
       "176   NVIDIA A100 SXM4 40 GB   \n",
       "...                      ...   \n",
       "1145        NVIDIA Tesla K80   \n",
       "1146        NVIDIA Tesla K80   \n",
       "1182                     NaN   \n",
       "1186                     NaN   \n",
       "1188      NVIDIA GTX Titan X   \n",
       "\n",
       "                            Country (from Organization) Base model  \\\n",
       "75                                        Multinational        NaN   \n",
       "91                             United States of America        NaN   \n",
       "116                            United States of America        NaN   \n",
       "130                                               China        NaN   \n",
       "176                                United Arab Emirates        NaN   \n",
       "...                                                 ...        ...   \n",
       "1145                           United States of America        NaN   \n",
       "1146                           United States of America        NaN   \n",
       "1182  United Kingdom of Great Britain and Northern I...        NaN   \n",
       "1186                           United States of America        NaN   \n",
       "1188                           United States of America        NaN   \n",
       "\n",
       "     Finetune compute (FLOP) Hardware quantity Hardware utilization  \\\n",
       "75                       NaN           55000.0                  NaN   \n",
       "91                       NaN            5000.0                  NaN   \n",
       "116                      NaN               NaN                  NaN   \n",
       "130                      NaN               NaN                  NaN   \n",
       "176                      NaN            4096.0               0.1876   \n",
       "...                      ...               ...                  ...   \n",
       "1145                     NaN              60.0                  NaN   \n",
       "1146                     NaN              96.0                  NaN   \n",
       "1182                     NaN               NaN                  NaN   \n",
       "1186                     NaN               NaN                  NaN   \n",
       "1188                     NaN               NaN               0.4500   \n",
       "\n",
       "      Training cloud compute vendor  Training data center          Cost  \\\n",
       "75                              NaN                   NaN  9.590527e+07   \n",
       "91                              NaN                   NaN  1.824528e+07   \n",
       "116                             NaN                   NaN           NaN   \n",
       "130                             NaN                   NaN           NaN   \n",
       "176             Amazon Web Services                   NaN  1.427716e+07   \n",
       "...                             ...                   ...           ...   \n",
       "1145                            NaN                   NaN  1.601676e+04   \n",
       "1146                            NaN                   NaN  1.753311e+05   \n",
       "1182                            NaN                   NaN           NaN   \n",
       "1186                            NaN                   NaN           NaN   \n",
       "1188                            NaN                   NaN  3.081551e+02   \n",
       "\n",
       "     Cost (inflation-adjusted)  \n",
       "75                9.590527e+07  \n",
       "91                1.828799e+07  \n",
       "116                        NaN  \n",
       "130                        NaN  \n",
       "176               1.436562e+07  \n",
       "...                        ...  \n",
       "1145              1.749060e+04  \n",
       "1146              1.914648e+05  \n",
       "1182                       NaN  \n",
       "1186                       NaN  \n",
       "1188              3.428010e+02  \n",
       "\n",
       "[67 rows x 22 columns]"
      ]
     },
     "execution_count": 20,
     "metadata": {},
     "output_type": "execute_result"
    }
   ],
   "source": [
    "keep_cols = [\n",
    "    'System',\n",
    "    'Domain',\n",
    "    'Task',\n",
    "    'Model accessibility',\n",
    "    'Reference',\n",
    "    'Publication date',\n",
    "    'Organization',\n",
    "    'Parameters',\n",
    "    'Training compute (FLOP)',\n",
    "    'Training dataset size (datapoints)',\n",
    "    'Epochs',\n",
    "    'Training time (hours)',\n",
    "    'Training hardware',\n",
    "    'Country (from Organization)',\n",
    "    'Base model',\n",
    "    'Finetune compute (FLOP)',\n",
    "    'Hardware quantity',\n",
    "    'Hardware utilization',\n",
    "    'Training cloud compute vendor',\n",
    "    'Training data center',\n",
    "    # 'Training time (chip hours)',\n",
    "    'Cost',\n",
    "    'Cost (inflation-adjusted)',\n",
    "]\n",
    "cost_df[keep_cols]"
   ]
  },
  {
   "cell_type": "code",
   "execution_count": 21,
   "metadata": {},
   "outputs": [],
   "source": [
    "cost_df[keep_cols].to_csv(results_dir + 'price dataset.csv', index=False)"
   ]
  },
  {
   "cell_type": "markdown",
   "metadata": {},
   "source": [
    "# Plots"
   ]
  },
  {
   "cell_type": "code",
   "execution_count": 22,
   "metadata": {
    "ExecuteTime": {
     "end_time": "2024-03-08T01:55:04.230921600Z",
     "start_time": "2024-03-08T01:55:00.065485900Z"
    }
   },
   "outputs": [
    {
     "data": {
      "application/vnd.plotly.v1+json": {
       "config": {
        "plotlyServerURL": "https://plot.ly"
       },
       "data": [
        {
         "hovertemplate": "Publication date=%{x}<br>Cost (inflation-adjusted)=%{y}<br>System=%{text}<extra></extra>",
         "legendgroup": "",
         "marker": {
          "color": "#636efa",
          "symbol": "circle"
         },
         "mode": "markers+text",
         "name": "",
         "orientation": "v",
         "showlegend": false,
         "text": [
          "Gemini Ultra",
          "Inflection-2",
          "Grok-1",
          "ChatGLM3",
          "Falcon-180B",
          "Llama 2-70B",
          "Claude 2",
          "xTrimoPGLM -100B",
          "PaLM 2",
          "GPT-4",
          "LLaMA-65B",
          "GPT-3.5 (text-davinci-003)",
          "BLOOM-176B",
          "U-PaLM (540B)",
          "BlenderBot 3",
          "GLM-130B",
          "Minerva (540B)",
          "Parti",
          "OPT-175B",
          "PaLM (540B)",
          "Chinchilla",
          "ST-MoE",
          "LaMDA",
          "AlphaCode",
          "ERNIE 3.0 Titan",
          "GLaM",
          "Gopher (280B)",
          "Yuan 1.0",
          "Megatron-Turing NLG 530B",
          "HyperCLOVA",
          "GOAT",
          "ByT5-XXL",
          "ProtT5-XXL",
          "Meta Pseudo Labels",
          "Switch",
          "DALL-E",
          "mT5-XXL",
          "iGPT-XL",
          "GPT-3 175B (davinci)",
          "Turing-NLG",
          "Meena",
          "OpenAI Five",
          "OpenAI Five Rerun",
          "AlphaStar",
          "T5-11B",
          "Megatron-BERT",
          "Megatron-LM (8.3B)",
          "RoBERTa Large",
          "XLNet",
          "GPT-2 (1.5B)",
          "BigGAN-deep 512x512",
          "FTW",
          "ResNeXt-101 32x48d",
          "AlphaZero",
          "AlphaGo Zero",
          "OpenAI TI7 DOTA 1v1",
          "JFT",
          "MoE",
          "Libratus",
          "AlphaGo Master",
          "PolyNet",
          "NASv3 (CIFAR-10)",
          "Xception",
          "GNMT",
          "AlphaGo Lee",
          "ResNet-152 (ImageNet)",
          "DeepSpeech2 (English)"
         ],
         "textposition": "top center",
         "type": "scatter",
         "x": [
          "2023-12-06T00:00:00",
          "2023-11-22T00:00:00",
          "2023-11-04T00:00:00",
          "2023-10-27T00:00:00",
          "2023-09-06T00:00:00",
          "2023-07-18T00:00:00",
          "2023-07-11T00:00:00",
          "2023-07-06T00:00:00",
          "2023-05-10T00:00:00",
          "2023-03-15T00:00:00",
          "2023-02-24T00:00:00",
          "2022-11-28T00:00:00",
          "2022-11-08T00:00:00",
          "2022-10-20T00:00:00",
          "2022-08-10T00:00:00",
          "2022-08-04T00:00:00",
          "2022-06-29T00:00:00",
          "2022-06-22T00:00:00",
          "2022-05-02T00:00:00",
          "2022-04-04T00:00:00",
          "2022-03-29T00:00:00",
          "2022-02-17T00:00:00",
          "2022-02-10T00:00:00",
          "2022-02-02T00:00:00",
          "2021-12-23T00:00:00",
          "2021-12-13T00:00:00",
          "2021-12-08T00:00:00",
          "2021-10-12T00:00:00",
          "2021-10-11T00:00:00",
          "2021-09-10T00:00:00",
          "2021-07-27T00:00:00",
          "2021-05-28T00:00:00",
          "2021-05-04T00:00:00",
          "2021-03-01T00:00:00",
          "2021-01-11T00:00:00",
          "2021-01-05T00:00:00",
          "2020-10-20T00:00:00",
          "2020-06-17T00:00:00",
          "2020-05-28T00:00:00",
          "2020-02-13T00:00:00",
          "2020-01-28T00:00:00",
          "2019-12-13T00:00:00",
          "2019-12-13T00:00:00",
          "2019-10-30T00:00:00",
          "2019-10-23T00:00:00",
          "2019-09-17T00:00:00",
          "2019-09-17T00:00:00",
          "2019-07-01T00:00:00",
          "2019-06-01T00:00:00",
          "2019-02-14T00:00:00",
          "2018-09-28T00:00:00",
          "2018-07-03T00:00:00",
          "2018-05-02T00:00:00",
          "2017-12-05T00:00:00",
          "2017-10-18T00:00:00",
          "2017-08-11T00:00:00",
          "2017-07-10T00:00:00",
          "2017-01-23T00:00:00",
          "2017-01-01T00:00:00",
          "2017-01-01T00:00:00",
          "2016-11-17T00:00:00",
          "2016-11-05T00:00:00",
          "2016-10-07T00:00:00",
          "2016-09-26T00:00:00",
          "2016-01-27T00:00:00",
          "2015-12-10T00:00:00",
          "2015-12-08T00:00:00"
         ],
         "xaxis": "x",
         "y": [
          95905267.40175684,
          18287992.448267914,
          null,
          null,
          14365624.41282087,
          1544343.2098948695,
          null,
          2529227.0853557154,
          15330107.91552251,
          58137492.55741121,
          802977.9932099717,
          6629295.206374288,
          1262881.3322990355,
          9543075.638135424,
          2056759.2629437945,
          1146183.8261201354,
          10203427.887628544,
          1101920.6800386377,
          1030060.0623560318,
          9453756.82866238,
          null,
          null,
          598572.462356243,
          null,
          null,
          1755101.4262878767,
          1633882.578662987,
          null,
          5241880.521859002,
          825415.8029581235,
          226866.5424905455,
          248374.84392600047,
          230607.65880754954,
          145276.85125369395,
          378376.2449795508,
          165748.45419476499,
          null,
          137992.4655631247,
          2976163.895478865,
          72974.0034683148,
          573103.2219195894,
          null,
          null,
          349779.8717635828,
          209921.211256588,
          1112202.7353358762,
          149855.2260193919,
          117176.75220126919,
          null,
          null,
          14557.70558101322,
          null,
          null,
          1171581.9407704712,
          1773674.1311772496,
          null,
          23705.00242177865,
          5325.989824618207,
          null,
          1370345.5633572685,
          787.395439265613,
          null,
          17490.59614177853,
          191464.77458264775,
          null,
          null,
          342.8009763616995
         ],
         "yaxis": "y"
        }
       ],
       "layout": {
        "autosize": false,
        "font": {
         "size": 14
        },
        "height": 600,
        "legend": {
         "tracegroupgap": 0
        },
        "margin": {
         "b": 10,
         "l": 10,
         "r": 10,
         "t": 40
        },
        "showlegend": false,
        "template": {
         "data": {
          "bar": [
           {
            "error_x": {
             "color": "#2a3f5f"
            },
            "error_y": {
             "color": "#2a3f5f"
            },
            "marker": {
             "line": {
              "color": "#E5ECF6",
              "width": 0.5
             },
             "pattern": {
              "fillmode": "overlay",
              "size": 10,
              "solidity": 0.2
             }
            },
            "type": "bar"
           }
          ],
          "barpolar": [
           {
            "marker": {
             "line": {
              "color": "#E5ECF6",
              "width": 0.5
             },
             "pattern": {
              "fillmode": "overlay",
              "size": 10,
              "solidity": 0.2
             }
            },
            "type": "barpolar"
           }
          ],
          "carpet": [
           {
            "aaxis": {
             "endlinecolor": "#2a3f5f",
             "gridcolor": "white",
             "linecolor": "white",
             "minorgridcolor": "white",
             "startlinecolor": "#2a3f5f"
            },
            "baxis": {
             "endlinecolor": "#2a3f5f",
             "gridcolor": "white",
             "linecolor": "white",
             "minorgridcolor": "white",
             "startlinecolor": "#2a3f5f"
            },
            "type": "carpet"
           }
          ],
          "choropleth": [
           {
            "colorbar": {
             "outlinewidth": 0,
             "ticks": ""
            },
            "type": "choropleth"
           }
          ],
          "contour": [
           {
            "colorbar": {
             "outlinewidth": 0,
             "ticks": ""
            },
            "colorscale": [
             [
              0,
              "#0d0887"
             ],
             [
              0.1111111111111111,
              "#46039f"
             ],
             [
              0.2222222222222222,
              "#7201a8"
             ],
             [
              0.3333333333333333,
              "#9c179e"
             ],
             [
              0.4444444444444444,
              "#bd3786"
             ],
             [
              0.5555555555555556,
              "#d8576b"
             ],
             [
              0.6666666666666666,
              "#ed7953"
             ],
             [
              0.7777777777777778,
              "#fb9f3a"
             ],
             [
              0.8888888888888888,
              "#fdca26"
             ],
             [
              1,
              "#f0f921"
             ]
            ],
            "type": "contour"
           }
          ],
          "contourcarpet": [
           {
            "colorbar": {
             "outlinewidth": 0,
             "ticks": ""
            },
            "type": "contourcarpet"
           }
          ],
          "heatmap": [
           {
            "colorbar": {
             "outlinewidth": 0,
             "ticks": ""
            },
            "colorscale": [
             [
              0,
              "#0d0887"
             ],
             [
              0.1111111111111111,
              "#46039f"
             ],
             [
              0.2222222222222222,
              "#7201a8"
             ],
             [
              0.3333333333333333,
              "#9c179e"
             ],
             [
              0.4444444444444444,
              "#bd3786"
             ],
             [
              0.5555555555555556,
              "#d8576b"
             ],
             [
              0.6666666666666666,
              "#ed7953"
             ],
             [
              0.7777777777777778,
              "#fb9f3a"
             ],
             [
              0.8888888888888888,
              "#fdca26"
             ],
             [
              1,
              "#f0f921"
             ]
            ],
            "type": "heatmap"
           }
          ],
          "heatmapgl": [
           {
            "colorbar": {
             "outlinewidth": 0,
             "ticks": ""
            },
            "colorscale": [
             [
              0,
              "#0d0887"
             ],
             [
              0.1111111111111111,
              "#46039f"
             ],
             [
              0.2222222222222222,
              "#7201a8"
             ],
             [
              0.3333333333333333,
              "#9c179e"
             ],
             [
              0.4444444444444444,
              "#bd3786"
             ],
             [
              0.5555555555555556,
              "#d8576b"
             ],
             [
              0.6666666666666666,
              "#ed7953"
             ],
             [
              0.7777777777777778,
              "#fb9f3a"
             ],
             [
              0.8888888888888888,
              "#fdca26"
             ],
             [
              1,
              "#f0f921"
             ]
            ],
            "type": "heatmapgl"
           }
          ],
          "histogram": [
           {
            "marker": {
             "pattern": {
              "fillmode": "overlay",
              "size": 10,
              "solidity": 0.2
             }
            },
            "type": "histogram"
           }
          ],
          "histogram2d": [
           {
            "colorbar": {
             "outlinewidth": 0,
             "ticks": ""
            },
            "colorscale": [
             [
              0,
              "#0d0887"
             ],
             [
              0.1111111111111111,
              "#46039f"
             ],
             [
              0.2222222222222222,
              "#7201a8"
             ],
             [
              0.3333333333333333,
              "#9c179e"
             ],
             [
              0.4444444444444444,
              "#bd3786"
             ],
             [
              0.5555555555555556,
              "#d8576b"
             ],
             [
              0.6666666666666666,
              "#ed7953"
             ],
             [
              0.7777777777777778,
              "#fb9f3a"
             ],
             [
              0.8888888888888888,
              "#fdca26"
             ],
             [
              1,
              "#f0f921"
             ]
            ],
            "type": "histogram2d"
           }
          ],
          "histogram2dcontour": [
           {
            "colorbar": {
             "outlinewidth": 0,
             "ticks": ""
            },
            "colorscale": [
             [
              0,
              "#0d0887"
             ],
             [
              0.1111111111111111,
              "#46039f"
             ],
             [
              0.2222222222222222,
              "#7201a8"
             ],
             [
              0.3333333333333333,
              "#9c179e"
             ],
             [
              0.4444444444444444,
              "#bd3786"
             ],
             [
              0.5555555555555556,
              "#d8576b"
             ],
             [
              0.6666666666666666,
              "#ed7953"
             ],
             [
              0.7777777777777778,
              "#fb9f3a"
             ],
             [
              0.8888888888888888,
              "#fdca26"
             ],
             [
              1,
              "#f0f921"
             ]
            ],
            "type": "histogram2dcontour"
           }
          ],
          "mesh3d": [
           {
            "colorbar": {
             "outlinewidth": 0,
             "ticks": ""
            },
            "type": "mesh3d"
           }
          ],
          "parcoords": [
           {
            "line": {
             "colorbar": {
              "outlinewidth": 0,
              "ticks": ""
             }
            },
            "type": "parcoords"
           }
          ],
          "pie": [
           {
            "automargin": true,
            "type": "pie"
           }
          ],
          "scatter": [
           {
            "fillpattern": {
             "fillmode": "overlay",
             "size": 10,
             "solidity": 0.2
            },
            "type": "scatter"
           }
          ],
          "scatter3d": [
           {
            "line": {
             "colorbar": {
              "outlinewidth": 0,
              "ticks": ""
             }
            },
            "marker": {
             "colorbar": {
              "outlinewidth": 0,
              "ticks": ""
             }
            },
            "type": "scatter3d"
           }
          ],
          "scattercarpet": [
           {
            "marker": {
             "colorbar": {
              "outlinewidth": 0,
              "ticks": ""
             }
            },
            "type": "scattercarpet"
           }
          ],
          "scattergeo": [
           {
            "marker": {
             "colorbar": {
              "outlinewidth": 0,
              "ticks": ""
             }
            },
            "type": "scattergeo"
           }
          ],
          "scattergl": [
           {
            "marker": {
             "colorbar": {
              "outlinewidth": 0,
              "ticks": ""
             }
            },
            "type": "scattergl"
           }
          ],
          "scattermapbox": [
           {
            "marker": {
             "colorbar": {
              "outlinewidth": 0,
              "ticks": ""
             }
            },
            "type": "scattermapbox"
           }
          ],
          "scatterpolar": [
           {
            "marker": {
             "colorbar": {
              "outlinewidth": 0,
              "ticks": ""
             }
            },
            "type": "scatterpolar"
           }
          ],
          "scatterpolargl": [
           {
            "marker": {
             "colorbar": {
              "outlinewidth": 0,
              "ticks": ""
             }
            },
            "type": "scatterpolargl"
           }
          ],
          "scatterternary": [
           {
            "marker": {
             "colorbar": {
              "outlinewidth": 0,
              "ticks": ""
             }
            },
            "type": "scatterternary"
           }
          ],
          "surface": [
           {
            "colorbar": {
             "outlinewidth": 0,
             "ticks": ""
            },
            "colorscale": [
             [
              0,
              "#0d0887"
             ],
             [
              0.1111111111111111,
              "#46039f"
             ],
             [
              0.2222222222222222,
              "#7201a8"
             ],
             [
              0.3333333333333333,
              "#9c179e"
             ],
             [
              0.4444444444444444,
              "#bd3786"
             ],
             [
              0.5555555555555556,
              "#d8576b"
             ],
             [
              0.6666666666666666,
              "#ed7953"
             ],
             [
              0.7777777777777778,
              "#fb9f3a"
             ],
             [
              0.8888888888888888,
              "#fdca26"
             ],
             [
              1,
              "#f0f921"
             ]
            ],
            "type": "surface"
           }
          ],
          "table": [
           {
            "cells": {
             "fill": {
              "color": "#EBF0F8"
             },
             "line": {
              "color": "white"
             }
            },
            "header": {
             "fill": {
              "color": "#C8D4E3"
             },
             "line": {
              "color": "white"
             }
            },
            "type": "table"
           }
          ]
         },
         "layout": {
          "annotationdefaults": {
           "arrowcolor": "#2a3f5f",
           "arrowhead": 0,
           "arrowwidth": 1
          },
          "autotypenumbers": "strict",
          "coloraxis": {
           "colorbar": {
            "outlinewidth": 0,
            "ticks": ""
           }
          },
          "colorscale": {
           "diverging": [
            [
             0,
             "#8e0152"
            ],
            [
             0.1,
             "#c51b7d"
            ],
            [
             0.2,
             "#de77ae"
            ],
            [
             0.3,
             "#f1b6da"
            ],
            [
             0.4,
             "#fde0ef"
            ],
            [
             0.5,
             "#f7f7f7"
            ],
            [
             0.6,
             "#e6f5d0"
            ],
            [
             0.7,
             "#b8e186"
            ],
            [
             0.8,
             "#7fbc41"
            ],
            [
             0.9,
             "#4d9221"
            ],
            [
             1,
             "#276419"
            ]
           ],
           "sequential": [
            [
             0,
             "#0d0887"
            ],
            [
             0.1111111111111111,
             "#46039f"
            ],
            [
             0.2222222222222222,
             "#7201a8"
            ],
            [
             0.3333333333333333,
             "#9c179e"
            ],
            [
             0.4444444444444444,
             "#bd3786"
            ],
            [
             0.5555555555555556,
             "#d8576b"
            ],
            [
             0.6666666666666666,
             "#ed7953"
            ],
            [
             0.7777777777777778,
             "#fb9f3a"
            ],
            [
             0.8888888888888888,
             "#fdca26"
            ],
            [
             1,
             "#f0f921"
            ]
           ],
           "sequentialminus": [
            [
             0,
             "#0d0887"
            ],
            [
             0.1111111111111111,
             "#46039f"
            ],
            [
             0.2222222222222222,
             "#7201a8"
            ],
            [
             0.3333333333333333,
             "#9c179e"
            ],
            [
             0.4444444444444444,
             "#bd3786"
            ],
            [
             0.5555555555555556,
             "#d8576b"
            ],
            [
             0.6666666666666666,
             "#ed7953"
            ],
            [
             0.7777777777777778,
             "#fb9f3a"
            ],
            [
             0.8888888888888888,
             "#fdca26"
            ],
            [
             1,
             "#f0f921"
            ]
           ]
          },
          "colorway": [
           "#636efa",
           "#EF553B",
           "#00cc96",
           "#ab63fa",
           "#FFA15A",
           "#19d3f3",
           "#FF6692",
           "#B6E880",
           "#FF97FF",
           "#FECB52"
          ],
          "font": {
           "color": "#2a3f5f"
          },
          "geo": {
           "bgcolor": "white",
           "lakecolor": "white",
           "landcolor": "#E5ECF6",
           "showlakes": true,
           "showland": true,
           "subunitcolor": "white"
          },
          "hoverlabel": {
           "align": "left"
          },
          "hovermode": "closest",
          "mapbox": {
           "style": "light"
          },
          "paper_bgcolor": "white",
          "plot_bgcolor": "#E5ECF6",
          "polar": {
           "angularaxis": {
            "gridcolor": "white",
            "linecolor": "white",
            "ticks": ""
           },
           "bgcolor": "#E5ECF6",
           "radialaxis": {
            "gridcolor": "white",
            "linecolor": "white",
            "ticks": ""
           }
          },
          "scene": {
           "xaxis": {
            "backgroundcolor": "#E5ECF6",
            "gridcolor": "white",
            "gridwidth": 2,
            "linecolor": "white",
            "showbackground": true,
            "ticks": "",
            "zerolinecolor": "white"
           },
           "yaxis": {
            "backgroundcolor": "#E5ECF6",
            "gridcolor": "white",
            "gridwidth": 2,
            "linecolor": "white",
            "showbackground": true,
            "ticks": "",
            "zerolinecolor": "white"
           },
           "zaxis": {
            "backgroundcolor": "#E5ECF6",
            "gridcolor": "white",
            "gridwidth": 2,
            "linecolor": "white",
            "showbackground": true,
            "ticks": "",
            "zerolinecolor": "white"
           }
          },
          "shapedefaults": {
           "line": {
            "color": "#2a3f5f"
           }
          },
          "ternary": {
           "aaxis": {
            "gridcolor": "white",
            "linecolor": "white",
            "ticks": ""
           },
           "baxis": {
            "gridcolor": "white",
            "linecolor": "white",
            "ticks": ""
           },
           "bgcolor": "#E5ECF6",
           "caxis": {
            "gridcolor": "white",
            "linecolor": "white",
            "ticks": ""
           }
          },
          "title": {
           "x": 0.05
          },
          "xaxis": {
           "automargin": true,
           "gridcolor": "white",
           "linecolor": "white",
           "ticks": "",
           "title": {
            "standoff": 15
           },
           "zerolinecolor": "white",
           "zerolinewidth": 2
          },
          "yaxis": {
           "automargin": true,
           "gridcolor": "white",
           "linecolor": "white",
           "ticks": "",
           "title": {
            "standoff": 15
           },
           "zerolinecolor": "white",
           "zerolinewidth": 2
          }
         }
        },
        "title": {
         "font": {
          "size": 16
         },
         "text": "Hardware CapEx + OpEx to train the running top-10 most compute-intensive ML models"
        },
        "width": 800,
        "xaxis": {
         "anchor": "y",
         "domain": [
          0,
          1
         ],
         "range": [
          "2015-01-01",
          "2025-01-01"
         ],
         "title": {
          "text": "Publication date"
         }
        },
        "yaxis": {
         "anchor": "x",
         "domain": [
          0,
          1
         ],
         "title": {
          "text": "Cost (2023 USD)"
         },
         "type": "log"
        }
       }
      }
     },
     "metadata": {},
     "output_type": "display_data"
    }
   ],
   "source": [
    "fig = px.scatter(\n",
    "    cost_df,\n",
    "    x='Publication date',\n",
    "    y='Cost (inflation-adjusted)',\n",
    "    text='System',\n",
    "    log_y=True,\n",
    ")\n",
    "fig.update_traces(textposition='top center')\n",
    "\n",
    "# no legend\n",
    "fig.update_layout(showlegend=False)\n",
    "\n",
    "# axis labels\n",
    "fig.update_xaxes(title_text='Publication date')\n",
    "fig.update_yaxes(title_text='Cost (2023 USD)')\n",
    "\n",
    "# title\n",
    "fig.update_layout(title_text=get_cost_plot_title(estimation_method, compute_threshold_method, compute_threshold))\n",
    "\n",
    "# update size\n",
    "fig.update_layout(\n",
    "    autosize=False,\n",
    "    width=800,\n",
    "    height=600,\n",
    "    title_font=dict(\n",
    "        size=16,\n",
    "    )\n",
    ")\n",
    "\n",
    "# font size\n",
    "fig.update_layout(\n",
    "    font=dict(\n",
    "        size=14,\n",
    "    )\n",
    ")\n",
    "\n",
    "# axis limits\n",
    "fig.update_xaxes(range=['2015-01-01', '2025-01-01'])\n",
    "\n",
    "# margins\n",
    "fig.update_layout(margin=dict(l=10, r=10, t=40, b=10))\n",
    "\n",
    "save_plot(fig, results_dir, 'cost_scatter')\n",
    "\n",
    "fig.show()"
   ]
  },
  {
   "cell_type": "code",
   "execution_count": 23,
   "metadata": {
    "ExecuteTime": {
     "end_time": "2024-03-08T01:55:04.855981900Z",
     "start_time": "2024-03-08T01:55:04.230921600Z"
    }
   },
   "outputs": [
    {
     "data": {
      "application/vnd.plotly.v1+json": {
       "config": {
        "plotlyServerURL": "https://plot.ly"
       },
       "data": [
        {
         "hovertemplate": "Publication date=%{x}<br>Cost (inflation-adjusted)=%{y}<extra></extra>",
         "legendgroup": "",
         "marker": {
          "color": "rgb(0,100,200)",
          "symbol": "circle"
         },
         "mode": "markers",
         "name": "",
         "orientation": "v",
         "showlegend": false,
         "textposition": "top center",
         "type": "scatter",
         "x": [
          "2023-11-22T00:00:00",
          "2023-11-04T00:00:00",
          "2023-10-27T00:00:00",
          "2023-09-06T00:00:00",
          "2023-07-18T00:00:00",
          "2023-07-11T00:00:00",
          "2023-07-06T00:00:00",
          "2023-03-15T00:00:00",
          "2023-02-24T00:00:00",
          "2022-11-28T00:00:00",
          "2022-11-08T00:00:00",
          "2022-08-10T00:00:00",
          "2022-08-04T00:00:00",
          "2022-05-02T00:00:00",
          "2022-02-17T00:00:00",
          "2021-12-23T00:00:00",
          "2021-10-12T00:00:00",
          "2021-10-11T00:00:00",
          "2021-09-10T00:00:00",
          "2021-01-05T00:00:00",
          "2020-10-20T00:00:00",
          "2020-06-17T00:00:00",
          "2020-05-28T00:00:00",
          "2020-02-13T00:00:00",
          "2019-12-13T00:00:00",
          "2019-12-13T00:00:00",
          "2019-09-17T00:00:00",
          "2019-09-17T00:00:00",
          "2019-07-01T00:00:00",
          "2019-06-01T00:00:00",
          "2019-02-14T00:00:00",
          "2018-07-03T00:00:00",
          "2018-05-02T00:00:00",
          "2017-08-11T00:00:00",
          "2017-07-10T00:00:00",
          "2017-01-23T00:00:00",
          "2017-01-01T00:00:00",
          "2016-11-17T00:00:00",
          "2016-11-05T00:00:00",
          "2016-10-07T00:00:00",
          "2016-09-26T00:00:00",
          "2016-01-27T00:00:00",
          "2015-12-10T00:00:00",
          "2015-12-08T00:00:00"
         ],
         "xaxis": "x",
         "y": [
          18287992.448267914,
          null,
          null,
          14365624.41282087,
          1544343.2098948695,
          null,
          2529227.0853557154,
          58137492.55741121,
          802977.9932099717,
          6629295.206374288,
          1262881.3322990355,
          2056759.2629437945,
          1146183.8261201354,
          1030060.0623560318,
          null,
          null,
          null,
          5241880.521859002,
          825415.8029581235,
          165748.45419476499,
          null,
          137992.4655631247,
          2976163.895478865,
          72974.0034683148,
          null,
          null,
          1112202.7353358762,
          149855.2260193919,
          117176.75220126919,
          null,
          null,
          null,
          null,
          null,
          23705.00242177865,
          5325.989824618207,
          null,
          787.395439265613,
          null,
          17490.59614177853,
          191464.77458264775,
          null,
          null,
          342.8009763616995
         ],
         "yaxis": "y"
        },
        {
         "marker": {
          "color": "rgb(0,100,200)",
          "symbol": "circle-open"
         },
         "mode": "markers",
         "name": "Using equivalent price of TPU",
         "showlegend": true,
         "textposition": "top center",
         "type": "scatter",
         "x": [
          "2023-12-06T00:00:00",
          "2023-05-10T00:00:00",
          "2022-10-20T00:00:00",
          "2022-06-29T00:00:00",
          "2022-06-22T00:00:00",
          "2022-04-04T00:00:00",
          "2022-03-29T00:00:00",
          "2022-02-10T00:00:00",
          "2022-02-02T00:00:00",
          "2021-12-13T00:00:00",
          "2021-12-08T00:00:00",
          "2021-07-27T00:00:00",
          "2021-05-28T00:00:00",
          "2021-05-04T00:00:00",
          "2021-03-01T00:00:00",
          "2021-01-11T00:00:00",
          "2020-01-28T00:00:00",
          "2019-10-30T00:00:00",
          "2019-10-23T00:00:00",
          "2018-09-28T00:00:00",
          "2017-12-05T00:00:00",
          "2017-10-18T00:00:00",
          "2017-01-01T00:00:00"
         ],
         "y": [
          95905267.40175684,
          15330107.91552251,
          9543075.638135424,
          10203427.887628544,
          1101920.6800386377,
          9453756.82866238,
          null,
          598572.462356243,
          null,
          1755101.4262878767,
          1633882.578662987,
          226866.5424905455,
          248374.84392600047,
          230607.65880754954,
          145276.85125369395,
          378376.2449795508,
          573103.2219195894,
          349779.8717635828,
          209921.211256588,
          14557.70558101322,
          1171581.9407704712,
          1773674.1311772496,
          1370345.5633572685
         ]
        },
        {
         "mode": "text",
         "showlegend": false,
         "text": [
          "Inflection-2",
          "Llama 2-70B",
          "GPT-4",
          "DALL-E",
          "GPT-3 175B (davinci)",
          "GNMT"
         ],
         "textposition": "top center",
         "type": "scatter",
         "x": [
          "2023-11-22T00:00:00",
          "2023-07-18T00:00:00",
          "2023-03-15T00:00:00",
          "2021-01-05T00:00:00",
          "2020-05-28T00:00:00",
          "2016-09-26T00:00:00"
         ],
         "y": [
          18287992.448267914,
          1544343.2098948695,
          58137492.55741121,
          165748.45419476499,
          2976163.895478865,
          191464.77458264775
         ]
        },
        {
         "mode": "text",
         "showlegend": false,
         "text": [
          "Gemini Ultra",
          "PaLM (540B)",
          "AlphaZero",
          "AlphaGo Zero",
          "AlphaGo Master"
         ],
         "textposition": "top center",
         "type": "scatter",
         "x": [
          "2023-12-06T00:00:00",
          "2022-04-04T00:00:00",
          "2017-12-05T00:00:00",
          "2017-10-18T00:00:00",
          "2017-01-01T00:00:00"
         ],
         "y": [
          95905267.40175684,
          9453756.82866238,
          1171581.9407704712,
          1773674.1311772496,
          1370345.5633572685
         ]
        },
        {
         "line": {
          "width": 0
         },
         "mode": "lines",
         "showlegend": false,
         "textposition": "top center",
         "type": "scatter",
         "x": [
          "2015-01-01T00:00:00",
          "2015-02-06T00:00:00",
          "2015-03-15T00:00:00",
          "2015-04-21T00:00:00",
          "2015-05-28T00:00:00",
          "2015-07-04T00:00:00",
          "2015-08-10T00:00:00",
          "2015-09-16T00:00:00",
          "2015-10-22T00:00:00",
          "2015-11-28T00:00:00",
          "2016-01-04T00:00:00",
          "2016-02-10T00:00:00",
          "2016-03-18T00:00:00",
          "2016-04-24T00:00:00",
          "2016-05-31T00:00:00",
          "2016-07-07T00:00:00",
          "2016-08-13T00:00:00",
          "2016-09-19T00:00:00",
          "2016-10-26T00:00:00",
          "2016-12-02T00:00:00",
          "2017-01-08T00:00:00",
          "2017-02-14T00:00:00",
          "2017-03-23T00:00:00",
          "2017-04-28T00:00:00",
          "2017-06-04T00:00:00",
          "2017-07-11T00:00:00",
          "2017-08-17T00:00:00",
          "2017-09-23T00:00:00",
          "2017-10-30T00:00:00",
          "2017-12-06T00:00:00",
          "2018-01-12T00:00:00",
          "2018-02-17T00:00:00",
          "2018-03-26T00:00:00",
          "2018-05-02T00:00:00",
          "2018-06-08T00:00:00",
          "2018-07-15T00:00:00",
          "2018-08-21T00:00:00",
          "2018-09-27T00:00:00",
          "2018-11-03T00:00:00",
          "2018-12-09T00:00:00",
          "2019-01-15T00:00:00",
          "2019-02-21T00:00:00",
          "2019-03-30T00:00:00",
          "2019-05-06T00:00:00",
          "2019-06-12T00:00:00",
          "2019-07-19T00:00:00",
          "2019-08-24T00:00:00",
          "2019-09-30T00:00:00",
          "2019-11-06T00:00:00",
          "2019-12-13T00:00:00",
          "2020-01-19T00:00:00",
          "2020-02-25T00:00:00",
          "2020-04-02T00:00:00",
          "2020-05-09T00:00:00",
          "2020-06-15T00:00:00",
          "2020-07-22T00:00:00",
          "2020-08-28T00:00:00",
          "2020-10-04T00:00:00",
          "2020-11-10T00:00:00",
          "2020-12-17T00:00:00",
          "2021-01-23T00:00:00",
          "2021-02-28T00:00:00",
          "2021-04-06T00:00:00",
          "2021-05-13T00:00:00",
          "2021-06-19T00:00:00",
          "2021-07-26T00:00:00",
          "2021-09-01T00:00:00",
          "2021-10-08T00:00:00",
          "2021-11-14T00:00:00",
          "2021-12-20T00:00:00",
          "2022-01-26T00:00:00",
          "2022-03-04T00:00:00",
          "2022-04-10T00:00:00",
          "2022-05-17T00:00:00",
          "2022-06-23T00:00:00",
          "2022-07-30T00:00:00",
          "2022-09-05T00:00:00",
          "2022-10-11T00:00:00",
          "2022-11-17T00:00:00",
          "2022-12-24T00:00:00",
          "2023-01-30T00:00:00",
          "2023-03-08T00:00:00",
          "2023-04-14T00:00:00",
          "2023-05-21T00:00:00",
          "2023-06-26T00:00:00",
          "2023-08-02T00:00:00",
          "2023-09-08T00:00:00",
          "2023-10-15T00:00:00",
          "2023-11-21T00:00:00",
          "2023-12-28T00:00:00",
          "2024-02-03T00:00:00",
          "2024-03-11T00:00:00",
          "2024-04-17T00:00:00",
          "2024-05-24T00:00:00",
          "2024-06-30T00:00:00",
          "2024-08-06T00:00:00",
          "2024-09-12T00:00:00",
          "2024-10-19T00:00:00",
          "2024-11-25T00:00:00",
          "2025-01-01T00:00:00"
         ],
         "y": [
          965.3863383494228,
          1075.746353770162,
          1198.6647921373844,
          1335.5611162280256,
          1488.013574343546,
          1657.7766690753606,
          1846.8004940241847,
          2057.2521279456155,
          2291.539292949069,
          2552.3365016762914,
          2842.6139377439686,
          3165.6693341412997,
          3525.1631355684167,
          3925.157252794873,
          4370.157739684444,
          4865.161746373653,
          5415.709124683518,
          6027.93908378087,
          6708.6523145546735,
          7465.379019421465,
          8306.453299115503,
          9241.094358293933,
          10279.494995705385,
          11432.917840436474,
          12713.799781111436,
          14135.865006956321,
          15714.247035549315,
          17465.620037984074,
          19408.339684472336,
          21562.593617387156,
          23950.5615102795,
          26596.5844855315,
          29527.343436376665,
          32772.04552694675,
          36362.61782568087,
          40333.906662717745,
          44723.88089601134,
          49573.836832291,
          54928.60209533386,
          60836.73529014375,
          67350.71791543184,
          74527.13467714317,
          82426.83821743476,
          91115.09437443942,
          100661.70451518966,
          111141.10233161929,
          122632.4238415406,
          135219.55125782007,
          148991.1338958488,
          164040.59233521778,
          180466.11549243896,
          198370.66385259648,
          217861.99548753336,
          239052.73421825128,
          262060.50087840942,
          287008.1286778282,
          314023.981854646,
          343242.39309495065,
          374804.2298271291,
          408857.59301675926,
          445558.6452687189,
          485072.5587779536,
          527574.5687703555,
          573251.1151457506,
          622301.0543316015,
          674936.9247915912,
          731386.2528104549,
          791892.8894915958,
          856718.3747190799,
          926143.3285487125,
          1000468.8746743072,
          1080018.1039838304,
          1165137.5887003872,
          1256198.9592223668,
          1353600.556686286,
          1457769.1746269197,
          1569161.9031082147,
          1688268.088483877,
          1815611.4216758448,
          1951752.1676017991,
          2097289.54823093,
          2252864.2917142743,
          2419161.3601702303,
          2596912.868978828,
          2786901.210867406,
          2989962.39865426,
          3206989.6412130725,
          3438937.1680613062,
          3686824.3189078607,
          3951739.9155659606,
          4234846.934777519,
          4537387.5017647995,
          4860688.225667182,
          5206165.899503547,
          5575333.588838407,
          5969807.135023514,
          6391312.100640463,
          6841691.186717566,
          7322912.153276557,
          7837076.276966721
         ]
        },
        {
         "fill": "tonexty",
         "fillcolor": "rgba(0,100,200,0.2)",
         "line": {
          "width": 0
         },
         "mode": "lines",
         "name": "95% CI of mean",
         "textposition": "top center",
         "type": "scatter",
         "x": [
          "2015-01-01T00:00:00",
          "2015-02-06T00:00:00",
          "2015-03-15T00:00:00",
          "2015-04-21T00:00:00",
          "2015-05-28T00:00:00",
          "2015-07-04T00:00:00",
          "2015-08-10T00:00:00",
          "2015-09-16T00:00:00",
          "2015-10-22T00:00:00",
          "2015-11-28T00:00:00",
          "2016-01-04T00:00:00",
          "2016-02-10T00:00:00",
          "2016-03-18T00:00:00",
          "2016-04-24T00:00:00",
          "2016-05-31T00:00:00",
          "2016-07-07T00:00:00",
          "2016-08-13T00:00:00",
          "2016-09-19T00:00:00",
          "2016-10-26T00:00:00",
          "2016-12-02T00:00:00",
          "2017-01-08T00:00:00",
          "2017-02-14T00:00:00",
          "2017-03-23T00:00:00",
          "2017-04-28T00:00:00",
          "2017-06-04T00:00:00",
          "2017-07-11T00:00:00",
          "2017-08-17T00:00:00",
          "2017-09-23T00:00:00",
          "2017-10-30T00:00:00",
          "2017-12-06T00:00:00",
          "2018-01-12T00:00:00",
          "2018-02-17T00:00:00",
          "2018-03-26T00:00:00",
          "2018-05-02T00:00:00",
          "2018-06-08T00:00:00",
          "2018-07-15T00:00:00",
          "2018-08-21T00:00:00",
          "2018-09-27T00:00:00",
          "2018-11-03T00:00:00",
          "2018-12-09T00:00:00",
          "2019-01-15T00:00:00",
          "2019-02-21T00:00:00",
          "2019-03-30T00:00:00",
          "2019-05-06T00:00:00",
          "2019-06-12T00:00:00",
          "2019-07-19T00:00:00",
          "2019-08-24T00:00:00",
          "2019-09-30T00:00:00",
          "2019-11-06T00:00:00",
          "2019-12-13T00:00:00",
          "2020-01-19T00:00:00",
          "2020-02-25T00:00:00",
          "2020-04-02T00:00:00",
          "2020-05-09T00:00:00",
          "2020-06-15T00:00:00",
          "2020-07-22T00:00:00",
          "2020-08-28T00:00:00",
          "2020-10-04T00:00:00",
          "2020-11-10T00:00:00",
          "2020-12-17T00:00:00",
          "2021-01-23T00:00:00",
          "2021-02-28T00:00:00",
          "2021-04-06T00:00:00",
          "2021-05-13T00:00:00",
          "2021-06-19T00:00:00",
          "2021-07-26T00:00:00",
          "2021-09-01T00:00:00",
          "2021-10-08T00:00:00",
          "2021-11-14T00:00:00",
          "2021-12-20T00:00:00",
          "2022-01-26T00:00:00",
          "2022-03-04T00:00:00",
          "2022-04-10T00:00:00",
          "2022-05-17T00:00:00",
          "2022-06-23T00:00:00",
          "2022-07-30T00:00:00",
          "2022-09-05T00:00:00",
          "2022-10-11T00:00:00",
          "2022-11-17T00:00:00",
          "2022-12-24T00:00:00",
          "2023-01-30T00:00:00",
          "2023-03-08T00:00:00",
          "2023-04-14T00:00:00",
          "2023-05-21T00:00:00",
          "2023-06-26T00:00:00",
          "2023-08-02T00:00:00",
          "2023-09-08T00:00:00",
          "2023-10-15T00:00:00",
          "2023-11-21T00:00:00",
          "2023-12-28T00:00:00",
          "2024-02-03T00:00:00",
          "2024-03-11T00:00:00",
          "2024-04-17T00:00:00",
          "2024-05-24T00:00:00",
          "2024-06-30T00:00:00",
          "2024-08-06T00:00:00",
          "2024-09-12T00:00:00",
          "2024-10-19T00:00:00",
          "2024-11-25T00:00:00",
          "2025-01-01T00:00:00"
         ],
         "y": [
          15475.894082549043,
          16541.67068849413,
          17681.693585634475,
          18901.23574885167,
          20205.957181680405,
          21601.934961058992,
          23095.69583641688,
          24694.25163098852,
          26405.137721415453,
          28236.454903849844,
          30196.91499100194,
          32295.890526085477,
          34543.469046646336,
          36950.51238525096,
          39528.72155549064,
          42290.70784240615,
          45250.07079729784,
          48421.48393011131,
          51820.78899948531,
          55465.099924117225,
          59372.91748122287,
          63564.25612246776,
          68060.78442751768,
          72885.98093484392,
          78065.30734363866,
          83626.40137413786,
          89599.29191341878,
          96016.63946578224,
          102914.00538004788,
          110330.15384723598,
          118307.39126218889,
          126891.94822963582,
          136134.41028074332,
          146090.20425802903,
          156820.14833569594,
          168391.07477434757,
          180876.53577022435,
          194357.60414739873,
          208923.78215391512,
          224674.03324289035,
          241717.95342785696,
          260177.1005589624,
          280186.5016285254,
          301896.3599231067,
          325473.9854232115,
          351105.9732472643,
          379000.6560783431,
          409390.857373134,
          442536.9727385361,
          478730.4072656149,
          518297.3970073822,
          561603.2434773956,
          609056.9914281181,
          661116.5827501967,
          718294.5236454313,
          781164.1087796072,
          850366.2552689682,
          926617.0112504392,
          1010715.8182689885,
          1103554.6233646937,
          1206127.9548762178,
          1319544.0948680644,
          1445037.500044718,
          1583982.6416302794,
          1737909.452858877,
          1908520.5907581283,
          2097710.7374504926,
          2307588.186066093,
          2540498.9785335073,
          2799053.887857073,
          3086158.5668552434,
          3405047.2193176555,
          3759320.188747744,
          4152985.9046711386,
          4590507.677411956,
          5076855.889608714,
          5617566.197164896,
          6218804.424312469,
          6887438.917850129,
          7631121.215101179,
          8458375.97988625,
          9378701.271800112,
          10402680.337817265,
          11542106.252979672,
          12810120.890435841,
          14221369.872295832,
          15792175.343451455,
          17540728.623305563,
          19487305.027482316,
          21654503.416285608,
          24067513.321623717,
          26754412.833397422,
          29746500.793356247,
          33078667.254183605,
          36789806.618262276,
          40923278.3803817,
          45527420.967043504,
          50656124.799467325,
          56369471.414769486,
          62734446.269274615
         ]
        },
        {
         "line": {
          "color": "rgb(0,100,200)"
         },
         "mode": "lines",
         "name": "Regression mean (growth rate: 2.4x per year)",
         "textposition": "top center",
         "type": "scatter",
         "x": [
          "2015-01-01T00:00:00",
          "2015-02-06T00:00:00",
          "2015-03-15T00:00:00",
          "2015-04-21T00:00:00",
          "2015-05-28T00:00:00",
          "2015-07-04T00:00:00",
          "2015-08-10T00:00:00",
          "2015-09-16T00:00:00",
          "2015-10-22T00:00:00",
          "2015-11-28T00:00:00",
          "2016-01-04T00:00:00",
          "2016-02-10T00:00:00",
          "2016-03-18T00:00:00",
          "2016-04-24T00:00:00",
          "2016-05-31T00:00:00",
          "2016-07-07T00:00:00",
          "2016-08-13T00:00:00",
          "2016-09-19T00:00:00",
          "2016-10-26T00:00:00",
          "2016-12-02T00:00:00",
          "2017-01-08T00:00:00",
          "2017-02-14T00:00:00",
          "2017-03-23T00:00:00",
          "2017-04-28T00:00:00",
          "2017-06-04T00:00:00",
          "2017-07-11T00:00:00",
          "2017-08-17T00:00:00",
          "2017-09-23T00:00:00",
          "2017-10-30T00:00:00",
          "2017-12-06T00:00:00",
          "2018-01-12T00:00:00",
          "2018-02-17T00:00:00",
          "2018-03-26T00:00:00",
          "2018-05-02T00:00:00",
          "2018-06-08T00:00:00",
          "2018-07-15T00:00:00",
          "2018-08-21T00:00:00",
          "2018-09-27T00:00:00",
          "2018-11-03T00:00:00",
          "2018-12-09T00:00:00",
          "2019-01-15T00:00:00",
          "2019-02-21T00:00:00",
          "2019-03-30T00:00:00",
          "2019-05-06T00:00:00",
          "2019-06-12T00:00:00",
          "2019-07-19T00:00:00",
          "2019-08-24T00:00:00",
          "2019-09-30T00:00:00",
          "2019-11-06T00:00:00",
          "2019-12-13T00:00:00",
          "2020-01-19T00:00:00",
          "2020-02-25T00:00:00",
          "2020-04-02T00:00:00",
          "2020-05-09T00:00:00",
          "2020-06-15T00:00:00",
          "2020-07-22T00:00:00",
          "2020-08-28T00:00:00",
          "2020-10-04T00:00:00",
          "2020-11-10T00:00:00",
          "2020-12-17T00:00:00",
          "2021-01-23T00:00:00",
          "2021-02-28T00:00:00",
          "2021-04-06T00:00:00",
          "2021-05-13T00:00:00",
          "2021-06-19T00:00:00",
          "2021-07-26T00:00:00",
          "2021-09-01T00:00:00",
          "2021-10-08T00:00:00",
          "2021-11-14T00:00:00",
          "2021-12-20T00:00:00",
          "2022-01-26T00:00:00",
          "2022-03-04T00:00:00",
          "2022-04-10T00:00:00",
          "2022-05-17T00:00:00",
          "2022-06-23T00:00:00",
          "2022-07-30T00:00:00",
          "2022-09-05T00:00:00",
          "2022-10-11T00:00:00",
          "2022-11-17T00:00:00",
          "2022-12-24T00:00:00",
          "2023-01-30T00:00:00",
          "2023-03-08T00:00:00",
          "2023-04-14T00:00:00",
          "2023-05-21T00:00:00",
          "2023-06-26T00:00:00",
          "2023-08-02T00:00:00",
          "2023-09-08T00:00:00",
          "2023-10-15T00:00:00",
          "2023-11-21T00:00:00",
          "2023-12-28T00:00:00",
          "2024-02-03T00:00:00",
          "2024-03-11T00:00:00",
          "2024-04-17T00:00:00",
          "2024-05-24T00:00:00",
          "2024-06-30T00:00:00",
          "2024-08-06T00:00:00",
          "2024-09-12T00:00:00",
          "2024-10-19T00:00:00",
          "2024-11-25T00:00:00",
          "2025-01-01T00:00:00"
         ],
         "y": [
          3865.257652606812,
          4218.369581771412,
          4603.740171475954,
          5024.316422641535,
          5483.314560459291,
          5984.244629468868,
          6530.937335522906,
          7127.5733399156,
          7778.715229673549,
          8489.342408516246,
          9264.889175283852,
          10111.286281043245,
          11035.006282639188,
          12043.113039553133,
          13143.315732552375,
          14344.027817246404,
          15654.43136333929,
          17084.547271642445,
          18645.311905769948,
          20348.66072456906,
          22207.61955478382,
          24236.404201995134,
          26450.529161558396,
          28866.92626082122,
          31504.074139989425,
          34382.139561731165,
          37523.131630205906,
          40951.07009875882,
          44692.16905348836,
          48775.037377246095,
          53230.89752714826,
          58093.824298484586,
          63401.00540108267,
          69193.02584065158,
          75514.17827995942,
          82412.80175302415,
          89941.65132279176,
          98158.30150893072,
          107125.58657101775,
          116912.08101375442,
          127592.62398906563,
          139248.89160516293,
          151970.02151886234,
          165853.29458799906,
          181004.87879627018,
          197540.64113978416,
          215587.0336834322,
          235282.0605635912,
          256776.33333146342,
          280234.22270795464,
          305835.1155570019,
          333774.78669064015,
          364266.8959954546,
          397544.6223299484,
          433862.44668643567,
          473498.0982550178,
          516754.6782704398,
          563962.9778842682,
          615484.0077860714,
          671711.7589200035,
          733076.2154069508,
          800046.64271403,
          873135.1762144763,
          952900.7375829181,
          1039953.3089744634,
          1134958.5976711758,
          1238643.1268707593,
          1351799.791544794,
          1475293.921855814,
          1610069.9004972314,
          1757158.3845653008,
          1917684.1871859059,
          2092874.8791722432,
          2284070.1764860563,
          2492732.185297388,
          2720456.5829828475,
          2968984.8205707697,
          3240217.4399396544,
          3536228.607619057,
          3859281.976327436,
          4211847.995550526,
          4596622.803525837,
          5016548.84511754,
          5474837.373245338,
          5974993.00593009,
          6520840.526766399,
          7116554.133755276,
          7766689.360181874,
          8476217.91162174,
          9250565.685507849,
          10095654.263978899,
          11017946.197332479,
          12024494.42434343,
          13122996.207412213,
          14321851.99496445,
          15630229.661260778,
          17058134.61482871,
          18616486.311701808,
          20317201.758534342,
          22173286.644193627
         ]
        }
       ],
       "layout": {
        "autosize": false,
        "font": {
         "size": 14
        },
        "height": 600,
        "legend": {
         "tracegroupgap": 0,
         "x": 0.45,
         "y": 0.05
        },
        "margin": {
         "b": 10,
         "l": 10,
         "r": 10,
         "t": 40
        },
        "template": {
         "data": {
          "bar": [
           {
            "error_x": {
             "color": "#2a3f5f"
            },
            "error_y": {
             "color": "#2a3f5f"
            },
            "marker": {
             "line": {
              "color": "#E5ECF6",
              "width": 0.5
             },
             "pattern": {
              "fillmode": "overlay",
              "size": 10,
              "solidity": 0.2
             }
            },
            "type": "bar"
           }
          ],
          "barpolar": [
           {
            "marker": {
             "line": {
              "color": "#E5ECF6",
              "width": 0.5
             },
             "pattern": {
              "fillmode": "overlay",
              "size": 10,
              "solidity": 0.2
             }
            },
            "type": "barpolar"
           }
          ],
          "carpet": [
           {
            "aaxis": {
             "endlinecolor": "#2a3f5f",
             "gridcolor": "white",
             "linecolor": "white",
             "minorgridcolor": "white",
             "startlinecolor": "#2a3f5f"
            },
            "baxis": {
             "endlinecolor": "#2a3f5f",
             "gridcolor": "white",
             "linecolor": "white",
             "minorgridcolor": "white",
             "startlinecolor": "#2a3f5f"
            },
            "type": "carpet"
           }
          ],
          "choropleth": [
           {
            "colorbar": {
             "outlinewidth": 0,
             "ticks": ""
            },
            "type": "choropleth"
           }
          ],
          "contour": [
           {
            "colorbar": {
             "outlinewidth": 0,
             "ticks": ""
            },
            "colorscale": [
             [
              0,
              "#0d0887"
             ],
             [
              0.1111111111111111,
              "#46039f"
             ],
             [
              0.2222222222222222,
              "#7201a8"
             ],
             [
              0.3333333333333333,
              "#9c179e"
             ],
             [
              0.4444444444444444,
              "#bd3786"
             ],
             [
              0.5555555555555556,
              "#d8576b"
             ],
             [
              0.6666666666666666,
              "#ed7953"
             ],
             [
              0.7777777777777778,
              "#fb9f3a"
             ],
             [
              0.8888888888888888,
              "#fdca26"
             ],
             [
              1,
              "#f0f921"
             ]
            ],
            "type": "contour"
           }
          ],
          "contourcarpet": [
           {
            "colorbar": {
             "outlinewidth": 0,
             "ticks": ""
            },
            "type": "contourcarpet"
           }
          ],
          "heatmap": [
           {
            "colorbar": {
             "outlinewidth": 0,
             "ticks": ""
            },
            "colorscale": [
             [
              0,
              "#0d0887"
             ],
             [
              0.1111111111111111,
              "#46039f"
             ],
             [
              0.2222222222222222,
              "#7201a8"
             ],
             [
              0.3333333333333333,
              "#9c179e"
             ],
             [
              0.4444444444444444,
              "#bd3786"
             ],
             [
              0.5555555555555556,
              "#d8576b"
             ],
             [
              0.6666666666666666,
              "#ed7953"
             ],
             [
              0.7777777777777778,
              "#fb9f3a"
             ],
             [
              0.8888888888888888,
              "#fdca26"
             ],
             [
              1,
              "#f0f921"
             ]
            ],
            "type": "heatmap"
           }
          ],
          "heatmapgl": [
           {
            "colorbar": {
             "outlinewidth": 0,
             "ticks": ""
            },
            "colorscale": [
             [
              0,
              "#0d0887"
             ],
             [
              0.1111111111111111,
              "#46039f"
             ],
             [
              0.2222222222222222,
              "#7201a8"
             ],
             [
              0.3333333333333333,
              "#9c179e"
             ],
             [
              0.4444444444444444,
              "#bd3786"
             ],
             [
              0.5555555555555556,
              "#d8576b"
             ],
             [
              0.6666666666666666,
              "#ed7953"
             ],
             [
              0.7777777777777778,
              "#fb9f3a"
             ],
             [
              0.8888888888888888,
              "#fdca26"
             ],
             [
              1,
              "#f0f921"
             ]
            ],
            "type": "heatmapgl"
           }
          ],
          "histogram": [
           {
            "marker": {
             "pattern": {
              "fillmode": "overlay",
              "size": 10,
              "solidity": 0.2
             }
            },
            "type": "histogram"
           }
          ],
          "histogram2d": [
           {
            "colorbar": {
             "outlinewidth": 0,
             "ticks": ""
            },
            "colorscale": [
             [
              0,
              "#0d0887"
             ],
             [
              0.1111111111111111,
              "#46039f"
             ],
             [
              0.2222222222222222,
              "#7201a8"
             ],
             [
              0.3333333333333333,
              "#9c179e"
             ],
             [
              0.4444444444444444,
              "#bd3786"
             ],
             [
              0.5555555555555556,
              "#d8576b"
             ],
             [
              0.6666666666666666,
              "#ed7953"
             ],
             [
              0.7777777777777778,
              "#fb9f3a"
             ],
             [
              0.8888888888888888,
              "#fdca26"
             ],
             [
              1,
              "#f0f921"
             ]
            ],
            "type": "histogram2d"
           }
          ],
          "histogram2dcontour": [
           {
            "colorbar": {
             "outlinewidth": 0,
             "ticks": ""
            },
            "colorscale": [
             [
              0,
              "#0d0887"
             ],
             [
              0.1111111111111111,
              "#46039f"
             ],
             [
              0.2222222222222222,
              "#7201a8"
             ],
             [
              0.3333333333333333,
              "#9c179e"
             ],
             [
              0.4444444444444444,
              "#bd3786"
             ],
             [
              0.5555555555555556,
              "#d8576b"
             ],
             [
              0.6666666666666666,
              "#ed7953"
             ],
             [
              0.7777777777777778,
              "#fb9f3a"
             ],
             [
              0.8888888888888888,
              "#fdca26"
             ],
             [
              1,
              "#f0f921"
             ]
            ],
            "type": "histogram2dcontour"
           }
          ],
          "mesh3d": [
           {
            "colorbar": {
             "outlinewidth": 0,
             "ticks": ""
            },
            "type": "mesh3d"
           }
          ],
          "parcoords": [
           {
            "line": {
             "colorbar": {
              "outlinewidth": 0,
              "ticks": ""
             }
            },
            "type": "parcoords"
           }
          ],
          "pie": [
           {
            "automargin": true,
            "type": "pie"
           }
          ],
          "scatter": [
           {
            "fillpattern": {
             "fillmode": "overlay",
             "size": 10,
             "solidity": 0.2
            },
            "type": "scatter"
           }
          ],
          "scatter3d": [
           {
            "line": {
             "colorbar": {
              "outlinewidth": 0,
              "ticks": ""
             }
            },
            "marker": {
             "colorbar": {
              "outlinewidth": 0,
              "ticks": ""
             }
            },
            "type": "scatter3d"
           }
          ],
          "scattercarpet": [
           {
            "marker": {
             "colorbar": {
              "outlinewidth": 0,
              "ticks": ""
             }
            },
            "type": "scattercarpet"
           }
          ],
          "scattergeo": [
           {
            "marker": {
             "colorbar": {
              "outlinewidth": 0,
              "ticks": ""
             }
            },
            "type": "scattergeo"
           }
          ],
          "scattergl": [
           {
            "marker": {
             "colorbar": {
              "outlinewidth": 0,
              "ticks": ""
             }
            },
            "type": "scattergl"
           }
          ],
          "scattermapbox": [
           {
            "marker": {
             "colorbar": {
              "outlinewidth": 0,
              "ticks": ""
             }
            },
            "type": "scattermapbox"
           }
          ],
          "scatterpolar": [
           {
            "marker": {
             "colorbar": {
              "outlinewidth": 0,
              "ticks": ""
             }
            },
            "type": "scatterpolar"
           }
          ],
          "scatterpolargl": [
           {
            "marker": {
             "colorbar": {
              "outlinewidth": 0,
              "ticks": ""
             }
            },
            "type": "scatterpolargl"
           }
          ],
          "scatterternary": [
           {
            "marker": {
             "colorbar": {
              "outlinewidth": 0,
              "ticks": ""
             }
            },
            "type": "scatterternary"
           }
          ],
          "surface": [
           {
            "colorbar": {
             "outlinewidth": 0,
             "ticks": ""
            },
            "colorscale": [
             [
              0,
              "#0d0887"
             ],
             [
              0.1111111111111111,
              "#46039f"
             ],
             [
              0.2222222222222222,
              "#7201a8"
             ],
             [
              0.3333333333333333,
              "#9c179e"
             ],
             [
              0.4444444444444444,
              "#bd3786"
             ],
             [
              0.5555555555555556,
              "#d8576b"
             ],
             [
              0.6666666666666666,
              "#ed7953"
             ],
             [
              0.7777777777777778,
              "#fb9f3a"
             ],
             [
              0.8888888888888888,
              "#fdca26"
             ],
             [
              1,
              "#f0f921"
             ]
            ],
            "type": "surface"
           }
          ],
          "table": [
           {
            "cells": {
             "fill": {
              "color": "#EBF0F8"
             },
             "line": {
              "color": "white"
             }
            },
            "header": {
             "fill": {
              "color": "#C8D4E3"
             },
             "line": {
              "color": "white"
             }
            },
            "type": "table"
           }
          ]
         },
         "layout": {
          "annotationdefaults": {
           "arrowcolor": "#2a3f5f",
           "arrowhead": 0,
           "arrowwidth": 1
          },
          "autotypenumbers": "strict",
          "coloraxis": {
           "colorbar": {
            "outlinewidth": 0,
            "ticks": ""
           }
          },
          "colorscale": {
           "diverging": [
            [
             0,
             "#8e0152"
            ],
            [
             0.1,
             "#c51b7d"
            ],
            [
             0.2,
             "#de77ae"
            ],
            [
             0.3,
             "#f1b6da"
            ],
            [
             0.4,
             "#fde0ef"
            ],
            [
             0.5,
             "#f7f7f7"
            ],
            [
             0.6,
             "#e6f5d0"
            ],
            [
             0.7,
             "#b8e186"
            ],
            [
             0.8,
             "#7fbc41"
            ],
            [
             0.9,
             "#4d9221"
            ],
            [
             1,
             "#276419"
            ]
           ],
           "sequential": [
            [
             0,
             "#0d0887"
            ],
            [
             0.1111111111111111,
             "#46039f"
            ],
            [
             0.2222222222222222,
             "#7201a8"
            ],
            [
             0.3333333333333333,
             "#9c179e"
            ],
            [
             0.4444444444444444,
             "#bd3786"
            ],
            [
             0.5555555555555556,
             "#d8576b"
            ],
            [
             0.6666666666666666,
             "#ed7953"
            ],
            [
             0.7777777777777778,
             "#fb9f3a"
            ],
            [
             0.8888888888888888,
             "#fdca26"
            ],
            [
             1,
             "#f0f921"
            ]
           ],
           "sequentialminus": [
            [
             0,
             "#0d0887"
            ],
            [
             0.1111111111111111,
             "#46039f"
            ],
            [
             0.2222222222222222,
             "#7201a8"
            ],
            [
             0.3333333333333333,
             "#9c179e"
            ],
            [
             0.4444444444444444,
             "#bd3786"
            ],
            [
             0.5555555555555556,
             "#d8576b"
            ],
            [
             0.6666666666666666,
             "#ed7953"
            ],
            [
             0.7777777777777778,
             "#fb9f3a"
            ],
            [
             0.8888888888888888,
             "#fdca26"
            ],
            [
             1,
             "#f0f921"
            ]
           ]
          },
          "colorway": [
           "#636efa",
           "#EF553B",
           "#00cc96",
           "#ab63fa",
           "#FFA15A",
           "#19d3f3",
           "#FF6692",
           "#B6E880",
           "#FF97FF",
           "#FECB52"
          ],
          "font": {
           "color": "#2a3f5f"
          },
          "geo": {
           "bgcolor": "white",
           "lakecolor": "white",
           "landcolor": "#E5ECF6",
           "showlakes": true,
           "showland": true,
           "subunitcolor": "white"
          },
          "hoverlabel": {
           "align": "left"
          },
          "hovermode": "closest",
          "mapbox": {
           "style": "light"
          },
          "paper_bgcolor": "white",
          "plot_bgcolor": "#E5ECF6",
          "polar": {
           "angularaxis": {
            "gridcolor": "white",
            "linecolor": "white",
            "ticks": ""
           },
           "bgcolor": "#E5ECF6",
           "radialaxis": {
            "gridcolor": "white",
            "linecolor": "white",
            "ticks": ""
           }
          },
          "scene": {
           "xaxis": {
            "backgroundcolor": "#E5ECF6",
            "gridcolor": "white",
            "gridwidth": 2,
            "linecolor": "white",
            "showbackground": true,
            "ticks": "",
            "zerolinecolor": "white"
           },
           "yaxis": {
            "backgroundcolor": "#E5ECF6",
            "gridcolor": "white",
            "gridwidth": 2,
            "linecolor": "white",
            "showbackground": true,
            "ticks": "",
            "zerolinecolor": "white"
           },
           "zaxis": {
            "backgroundcolor": "#E5ECF6",
            "gridcolor": "white",
            "gridwidth": 2,
            "linecolor": "white",
            "showbackground": true,
            "ticks": "",
            "zerolinecolor": "white"
           }
          },
          "shapedefaults": {
           "line": {
            "color": "#2a3f5f"
           }
          },
          "ternary": {
           "aaxis": {
            "gridcolor": "white",
            "linecolor": "white",
            "ticks": ""
           },
           "baxis": {
            "gridcolor": "white",
            "linecolor": "white",
            "ticks": ""
           },
           "bgcolor": "#E5ECF6",
           "caxis": {
            "gridcolor": "white",
            "linecolor": "white",
            "ticks": ""
           }
          },
          "title": {
           "x": 0.05
          },
          "xaxis": {
           "automargin": true,
           "gridcolor": "white",
           "linecolor": "white",
           "ticks": "",
           "title": {
            "standoff": 15
           },
           "zerolinecolor": "white",
           "zerolinewidth": 2
          },
          "yaxis": {
           "automargin": true,
           "gridcolor": "white",
           "linecolor": "white",
           "ticks": "",
           "title": {
            "standoff": 15
           },
           "zerolinecolor": "white",
           "zerolinewidth": 2
          }
         }
        },
        "title": {
         "font": {
          "size": 16
         },
         "text": "Hardware CapEx + OpEx to train the running top-10 most compute-intensive ML models"
        },
        "width": 800,
        "xaxis": {
         "anchor": "y",
         "domain": [
          0,
          1
         ],
         "range": [
          "2015-01-01",
          "2025-01-01"
         ],
         "title": {
          "text": "Publication date"
         }
        },
        "yaxis": {
         "anchor": "x",
         "domain": [
          0,
          1
         ],
         "range": [
          1,
          9
         ],
         "title": {
          "text": "Cost (2023 USD)"
         },
         "type": "log"
        }
       }
      }
     },
     "metadata": {},
     "output_type": "display_data"
    }
   ],
   "source": [
    "label_systems = ['GNMT', 'AlphaGo Master', 'AlphaGo Zero', 'AlphaZero', 'DALL-E', 'GPT-3 175B (davinci)', 'PaLM (540B)', 'Llama 2-70B', 'Falcon 180B', 'GPT-4', 'Gemini Ultra', 'Inflection-2']\n",
    "\n",
    "tpu_mask = cost_df['Training hardware'].str.contains('TPU', na=False)\n",
    "tpu_cost_df = cost_df.loc[tpu_mask]\n",
    "gpu_cost_df = cost_df.loc[~tpu_mask]\n",
    "\n",
    "fig = px.scatter(\n",
    "    gpu_cost_df,\n",
    "    x='Publication date',\n",
    "    y='Cost (inflation-adjusted)',\n",
    "    log_y=True,\n",
    ")\n",
    "fig.add_scatter(\n",
    "    x=tpu_cost_df['Publication date'],\n",
    "    y=tpu_cost_df['Cost (inflation-adjusted)'],\n",
    "    mode='markers',\n",
    "    marker_symbol='circle-open' if estimation_method != 'cloud' else 'circle',\n",
    "    name='Using equivalent price of TPU' if estimation_method != 'cloud' else '',\n",
    "    showlegend=estimation_method != 'cloud',\n",
    ")\n",
    "fig.add_scatter(\n",
    "    x=gpu_cost_df.loc[gpu_cost_df['System'].isin(label_systems)]['Publication date'],\n",
    "    y=gpu_cost_df.loc[gpu_cost_df['System'].isin(label_systems)]['Cost (inflation-adjusted)'],\n",
    "    text=gpu_cost_df.loc[gpu_cost_df['System'].isin(label_systems)]['System'],\n",
    "    mode='text',\n",
    "    showlegend=False,\n",
    ")\n",
    "fig.add_scatter(\n",
    "    x=tpu_cost_df.loc[tpu_cost_df['System'].isin(label_systems)]['Publication date'],\n",
    "    y=tpu_cost_df.loc[tpu_cost_df['System'].isin(label_systems)]['Cost (inflation-adjusted)'],\n",
    "    text=tpu_cost_df.loc[tpu_cost_df['System'].isin(label_systems)]['System'],\n",
    "    mode='text',\n",
    "    showlegend=False,\n",
    ")\n",
    "\n",
    "# Marker color\n",
    "fig.update_traces(\n",
    "    marker=dict(\n",
    "        color='rgb(0,100,200)',\n",
    "    ),\n",
    "    selector=dict(mode='markers'),\n",
    ")\n",
    "\n",
    "# Shade in CI\n",
    "fig.add_scatter(\n",
    "    x=predicted_cost_df['Publication date'],\n",
    "    y=10**predicted_cost_df['mean_ci_lower'],\n",
    "    mode='lines',\n",
    "    line=dict(width=0),\n",
    "    showlegend=False,\n",
    ")\n",
    "fig.add_scatter(\n",
    "    x=predicted_cost_df['Publication date'],\n",
    "    y=10**predicted_cost_df['mean_ci_upper'],\n",
    "    mode='lines',\n",
    "    fill='tonexty',\n",
    "    fillcolor='rgba(0,100,200,0.2)',\n",
    "    line=dict(width=0),\n",
    "    name='95% CI of mean',\n",
    ")\n",
    "fig.add_scatter(\n",
    "    x=predicted_cost_df['Publication date'],\n",
    "    y=10**predicted_cost_df['mean'],\n",
    "    mode='lines',\n",
    "    line=dict(color='rgb(0,100,200)'),\n",
    "    name=f'Regression mean (growth rate: {10**reg_results.params[1]:.1f}x per year)',\n",
    ")\n",
    "\n",
    "fig.update_traces(textposition='top center')\n",
    "\n",
    "# axis limits\n",
    "fig.update_xaxes(range=['2015-01-01', '2025-01-01'])\n",
    "if estimation_method == 'hardware-acquisition':\n",
    "    fig.update_yaxes(range=[4, 10])\n",
    "else:\n",
    "    fig.update_yaxes(range=[1, 9])\n",
    "\n",
    "# legend on bottom-right of the axes\n",
    "fig.update_layout(\n",
    "    legend=dict(\n",
    "        x=0.45,\n",
    "        y=0.05,\n",
    "    )\n",
    ")\n",
    "\n",
    "# axis labels\n",
    "fig.update_xaxes(title_text='Publication date')\n",
    "fig.update_yaxes(title_text='Cost (2023 USD)')\n",
    "\n",
    "# title\n",
    "fig.update_layout(title_text=get_cost_plot_title(estimation_method, compute_threshold_method, compute_threshold))\n",
    "\n",
    "# update size\n",
    "fig.update_layout(\n",
    "    autosize=False,\n",
    "    width=800,\n",
    "    height=600,\n",
    "    title_font=dict(\n",
    "        size=16,\n",
    "    )\n",
    ")\n",
    "\n",
    "# font size\n",
    "fig.update_layout(\n",
    "    font=dict(\n",
    "        size=14,\n",
    "    )\n",
    ")\n",
    "\n",
    "# axis limits\n",
    "fig.update_xaxes(range=[pred_start_date, pred_end_date])\n",
    "\n",
    "# margins\n",
    "fig.update_layout(margin=dict(l=10, r=10, t=40, b=10))\n",
    "\n",
    "save_plot(fig, results_dir, 'cost_regression')\n",
    "\n",
    "fig.show()"
   ]
  },
  {
   "cell_type": "markdown",
   "metadata": {},
   "source": [
    "# Cost components"
   ]
  },
  {
   "cell_type": "code",
   "execution_count": 24,
   "metadata": {},
   "outputs": [],
   "source": [
    "cost_component_names = [\n",
    "    'AI accelerator chip cost',\n",
    "    'Other server components cost',\n",
    "    'Cluster-level interconnect cost',\n",
    "    'Energy cost',\n",
    "]"
   ]
  },
  {
   "cell_type": "code",
   "execution_count": 25,
   "metadata": {},
   "outputs": [
    {
     "data": {
      "text/plain": [
       "75      51.403372\n",
       "91      50.923193\n",
       "116           NaN\n",
       "130           NaN\n",
       "176     48.397554\n",
       "          ...    \n",
       "1145    48.715399\n",
       "1146    49.245254\n",
       "1182          NaN\n",
       "1186          NaN\n",
       "1188    40.989018\n",
       "Name: AI accelerator chip cost (%), Length: 67, dtype: float64"
      ]
     },
     "execution_count": 25,
     "metadata": {},
     "output_type": "execute_result"
    }
   ],
   "source": [
    "for key in cost_component_names:\n",
    "    component_cost_df[f\"{key} (%)\"] = component_cost_df[key] / component_cost_df['Cost'] * 100\n",
    "component_cost_df['AI accelerator chip cost (%)']"
   ]
  },
  {
   "cell_type": "code",
   "execution_count": 26,
   "metadata": {},
   "outputs": [
    {
     "data": {
      "application/vnd.plotly.v1+json": {
       "config": {
        "plotlyServerURL": "https://plot.ly"
       },
       "data": [
        {
         "alignmentgroup": "True",
         "hovertemplate": "variable=AI accelerator chip cost (%)<br>System=%{x}<br>value=%{y}<extra></extra>",
         "legendgroup": "AI accelerator chip cost (%)",
         "marker": {
          "color": "#636efa",
          "pattern": {
           "shape": ""
          }
         },
         "name": "AI accelerator chip cost (%)",
         "offsetgroup": "AI accelerator chip cost (%)",
         "orientation": "v",
         "showlegend": true,
         "textposition": "auto",
         "type": "bar",
         "x": [
          "DeepSpeech2 (English)",
          "GNMT",
          "Xception",
          "PolyNet",
          "AlphaGo Master",
          "MoE",
          "JFT",
          "AlphaGo Zero",
          "AlphaZero",
          "BigGAN-deep 512x512",
          "RoBERTa Large",
          "Megatron-BERT",
          "Megatron-LM (8.3B)",
          "T5-11B",
          "AlphaStar",
          "Meena",
          "Turing-NLG",
          "GPT-3 175B (davinci)",
          "iGPT-XL",
          "DALL-E",
          "Switch",
          "Meta Pseudo Labels",
          "ProtT5-XXL",
          "ByT5-XXL",
          "GOAT",
          "HyperCLOVA",
          "Megatron-Turing NLG 530B",
          "Gopher (280B)",
          "GLaM",
          "LaMDA",
          "PaLM (540B)",
          "OPT-175B",
          "Parti",
          "Minerva (540B)",
          "GLM-130B",
          "BlenderBot 3",
          "U-PaLM (540B)",
          "BLOOM-176B",
          "GPT-3.5 (text-davinci-003)",
          "LLaMA-65B",
          "GPT-4",
          "PaLM 2",
          "xTrimoPGLM -100B",
          "Llama 2-70B",
          "Falcon-180B",
          "Inflection-2",
          "Gemini Ultra"
         ],
         "xaxis": "x",
         "y": [
          40.989018496419135,
          49.24525403073793,
          48.71539912224638,
          38.16134148727827,
          52.53567537956003,
          48.0064561665272,
          47.69061741842761,
          52.38772082634136,
          52.58082023572142,
          51.978420011252425,
          49.82228668607084,
          50.51807115898418,
          49.496332963824926,
          51.60722439939218,
          51.62654389019742,
          51.52671823602398,
          49.56072487289543,
          49.438252221410764,
          49.07525490680924,
          48.433758955349425,
          50.85447609957778,
          50.7320073665672,
          50.65138846242013,
          50.602948956900505,
          50.47769568993269,
          50.0209183857217,
          50.67185742244201,
          50.18725949522438,
          52.16052259428512,
          49.641224591356924,
          51.9249273460436,
          50.04247159280395,
          51.82389456541209,
          51.916827607379055,
          49.116367989899224,
          49.727280261443866,
          51.92337554891867,
          49.491948451914745,
          49.25676017153374,
          48.72822164140179,
          49.1964705766182,
          51.48971072572521,
          48.541371944931804,
          49.1986907856219,
          48.397553711183036,
          50.92319269549128,
          51.40337169454598
         ],
         "yaxis": "y"
        },
        {
         "alignmentgroup": "True",
         "hovertemplate": "variable=Other server components cost (%)<br>System=%{x}<br>value=%{y}<extra></extra>",
         "legendgroup": "Other server components cost (%)",
         "marker": {
          "color": "#EF553B",
          "pattern": {
           "shape": ""
          }
         },
         "name": "Other server components cost (%)",
         "offsetgroup": "Other server components cost (%)",
         "orientation": "v",
         "showlegend": true,
         "textposition": "auto",
         "type": "bar",
         "x": [
          "DeepSpeech2 (English)",
          "GNMT",
          "Xception",
          "PolyNet",
          "AlphaGo Master",
          "MoE",
          "JFT",
          "AlphaGo Zero",
          "AlphaZero",
          "BigGAN-deep 512x512",
          "RoBERTa Large",
          "Megatron-BERT",
          "Megatron-LM (8.3B)",
          "T5-11B",
          "AlphaStar",
          "Meena",
          "Turing-NLG",
          "GPT-3 175B (davinci)",
          "iGPT-XL",
          "DALL-E",
          "Switch",
          "Meta Pseudo Labels",
          "ProtT5-XXL",
          "ByT5-XXL",
          "GOAT",
          "HyperCLOVA",
          "Megatron-Turing NLG 530B",
          "Gopher (280B)",
          "GLaM",
          "LaMDA",
          "PaLM (540B)",
          "OPT-175B",
          "Parti",
          "Minerva (540B)",
          "GLM-130B",
          "BlenderBot 3",
          "U-PaLM (540B)",
          "BLOOM-176B",
          "GPT-3.5 (text-davinci-003)",
          "LLaMA-65B",
          "GPT-4",
          "PaLM 2",
          "xTrimoPGLM -100B",
          "Llama 2-70B",
          "Falcon-180B",
          "Inflection-2",
          "Gemini Ultra"
         ],
         "xaxis": "x",
         "y": [
          26.23297183770824,
          31.51696257967227,
          31.177855438237685,
          24.423258551858083,
          33.62283224291841,
          30.724131946577405,
          30.521995147793668,
          33.52814132885846,
          33.6517249508617,
          33.266188807201544,
          34.377377813388875,
          34.857469099699074,
          34.152469745039205,
          33.02862361561098,
          33.04098808972635,
          32.977099671055356,
          34.19690016229785,
          34.112394032773416,
          33.861925885698376,
          33.41929367919111,
          32.546864703729774,
          32.468484714603,
          32.41688861594888,
          32.38588733241631,
          32.305725241556914,
          33.01380613457631,
          33.443425898811725,
          32.119846076943595,
          33.382734460342476,
          31.770383738468432,
          33.231953501467906,
          33.0280312512506,
          33.167292521863736,
          33.226769668722596,
          32.416802873333474,
          32.820004972552944,
          33.23096035130794,
          32.664685978263726,
          32.509461713212275,
          32.16062628332517,
          32.46967058056801,
          32.95341486446413,
          32.03730548365499,
          32.47113591851045,
          31.942385449380794,
          32.59084332511441,
          32.898157884509416
         ],
         "yaxis": "y"
        },
        {
         "alignmentgroup": "True",
         "hovertemplate": "variable=Cluster-level interconnect cost (%)<br>System=%{x}<br>value=%{y}<extra></extra>",
         "legendgroup": "Cluster-level interconnect cost (%)",
         "marker": {
          "color": "#00cc96",
          "pattern": {
           "shape": ""
          }
         },
         "name": "Cluster-level interconnect cost (%)",
         "offsetgroup": "Cluster-level interconnect cost (%)",
         "orientation": "v",
         "showlegend": true,
         "textposition": "auto",
         "type": "bar",
         "x": [
          "DeepSpeech2 (English)",
          "GNMT",
          "Xception",
          "PolyNet",
          "AlphaGo Master",
          "MoE",
          "JFT",
          "AlphaGo Zero",
          "AlphaZero",
          "BigGAN-deep 512x512",
          "RoBERTa Large",
          "Megatron-BERT",
          "Megatron-LM (8.3B)",
          "T5-11B",
          "AlphaStar",
          "Meena",
          "Turing-NLG",
          "GPT-3 175B (davinci)",
          "iGPT-XL",
          "DALL-E",
          "Switch",
          "Meta Pseudo Labels",
          "ProtT5-XXL",
          "ByT5-XXL",
          "GOAT",
          "HyperCLOVA",
          "Megatron-Turing NLG 530B",
          "Gopher (280B)",
          "GLaM",
          "LaMDA",
          "PaLM (540B)",
          "OPT-175B",
          "Parti",
          "Minerva (540B)",
          "GLM-130B",
          "BlenderBot 3",
          "U-PaLM (540B)",
          "BLOOM-176B",
          "GPT-3.5 (text-davinci-003)",
          "LLaMA-65B",
          "GPT-4",
          "PaLM 2",
          "xTrimoPGLM -100B",
          "Llama 2-70B",
          "Falcon-180B",
          "Inflection-2",
          "Gemini Ultra"
         ],
         "xaxis": "x",
         "y": [
          10.0832985501191,
          12.114332491561525,
          11.983988184072604,
          9.387690005870446,
          12.923776143371759,
          11.809588216965683,
          11.731891884933185,
          12.887379323279962,
          12.934881777987458,
          12.786691322768087,
          12.62994967491895,
          12.80633103880248,
          12.547320406329613,
          12.69537720225047,
          12.700129796988557,
          12.675572686061892,
          12.563643755278985,
          12.532596938127622,
          12.440577118876135,
          12.277957895181071,
          12.510201120496125,
          12.480073812175524,
          12.460241561755344,
          12.448325443397515,
          12.417513139723434,
          12.455208678044693,
          12.617292498188052,
          12.346065835825188,
          12.831488558194131,
          12.211741249473796,
          12.773532127126716,
          12.460575426608177,
          12.748678063091365,
          12.771539591415241,
          12.229975629484898,
          12.382092785099514,
          12.773150385033983,
          12.323495164526763,
          12.264933282711896,
          12.133327188709037,
          12.249921173577924,
          12.666468838528393,
          12.086801614288014,
          12.250474005619845,
          12.050990874084567,
          12.527105403090847,
          12.645229436858301
         ],
         "yaxis": "y"
        },
        {
         "alignmentgroup": "True",
         "hovertemplate": "variable=Energy cost (%)<br>System=%{x}<br>value=%{y}<extra></extra>",
         "legendgroup": "Energy cost (%)",
         "marker": {
          "color": "#ab63fa",
          "pattern": {
           "shape": ""
          }
         },
         "name": "Energy cost (%)",
         "offsetgroup": "Energy cost (%)",
         "orientation": "v",
         "showlegend": true,
         "textposition": "auto",
         "type": "bar",
         "x": [
          "DeepSpeech2 (English)",
          "GNMT",
          "Xception",
          "PolyNet",
          "AlphaGo Master",
          "MoE",
          "JFT",
          "AlphaGo Zero",
          "AlphaZero",
          "BigGAN-deep 512x512",
          "RoBERTa Large",
          "Megatron-BERT",
          "Megatron-LM (8.3B)",
          "T5-11B",
          "AlphaStar",
          "Meena",
          "Turing-NLG",
          "GPT-3 175B (davinci)",
          "iGPT-XL",
          "DALL-E",
          "Switch",
          "Meta Pseudo Labels",
          "ProtT5-XXL",
          "ByT5-XXL",
          "GOAT",
          "HyperCLOVA",
          "Megatron-Turing NLG 530B",
          "Gopher (280B)",
          "GLaM",
          "LaMDA",
          "PaLM (540B)",
          "OPT-175B",
          "Parti",
          "Minerva (540B)",
          "GLM-130B",
          "BlenderBot 3",
          "U-PaLM (540B)",
          "BLOOM-176B",
          "GPT-3.5 (text-davinci-003)",
          "LLaMA-65B",
          "GPT-4",
          "PaLM 2",
          "xTrimoPGLM -100B",
          "Llama 2-70B",
          "Falcon-180B",
          "Inflection-2",
          "Gemini Ultra"
         ],
         "xaxis": "x",
         "y": [
          22.69471111575353,
          7.123450898028265,
          8.122757255443323,
          28.027709954993203,
          0.9177162341498046,
          9.459823669929705,
          10.055495548845547,
          1.1967585215202337,
          0.8325730354294101,
          1.9686998587779467,
          3.1703858256213384,
          1.8181287025142643,
          3.8038768848062476,
          2.668774782746356,
          2.632338223087671,
          2.8206094068587744,
          3.6787312095277227,
          3.9167568076882064,
          4.622242088616249,
          5.8689894702783985,
          4.088458076196328,
          4.319434106654265,
          4.471481359875639,
          4.562838267285678,
          4.799065928786961,
          4.510066801657295,
          3.267424180558228,
          5.34682859200684,
          1.625254387178282,
          6.376650420700841,
          2.0695870253617814,
          4.468921729337259,
          2.260134849632813,
          2.0848631324830977,
          6.236853507282418,
          5.070621980903678,
          2.0725137147394177,
          5.519870405294776,
          5.968844832542083,
          6.977824886564014,
          6.083937669235865,
          2.8904055712822707,
          7.334520957125198,
          6.079699290247816,
          7.609069965351612,
          3.9588585763034505,
          3.053240984086303
         ],
         "yaxis": "y"
        }
       ],
       "layout": {
        "autosize": false,
        "barmode": "stack",
        "height": 600,
        "legend": {
         "title": {
          "text": "Cost component"
         },
         "tracegroupgap": 0,
         "x": 0.6,
         "y": 0.05
        },
        "margin": {
         "b": 10,
         "l": 10,
         "r": 10,
         "t": 40
        },
        "template": {
         "data": {
          "bar": [
           {
            "error_x": {
             "color": "#2a3f5f"
            },
            "error_y": {
             "color": "#2a3f5f"
            },
            "marker": {
             "line": {
              "color": "#E5ECF6",
              "width": 0.5
             },
             "pattern": {
              "fillmode": "overlay",
              "size": 10,
              "solidity": 0.2
             }
            },
            "type": "bar"
           }
          ],
          "barpolar": [
           {
            "marker": {
             "line": {
              "color": "#E5ECF6",
              "width": 0.5
             },
             "pattern": {
              "fillmode": "overlay",
              "size": 10,
              "solidity": 0.2
             }
            },
            "type": "barpolar"
           }
          ],
          "carpet": [
           {
            "aaxis": {
             "endlinecolor": "#2a3f5f",
             "gridcolor": "white",
             "linecolor": "white",
             "minorgridcolor": "white",
             "startlinecolor": "#2a3f5f"
            },
            "baxis": {
             "endlinecolor": "#2a3f5f",
             "gridcolor": "white",
             "linecolor": "white",
             "minorgridcolor": "white",
             "startlinecolor": "#2a3f5f"
            },
            "type": "carpet"
           }
          ],
          "choropleth": [
           {
            "colorbar": {
             "outlinewidth": 0,
             "ticks": ""
            },
            "type": "choropleth"
           }
          ],
          "contour": [
           {
            "colorbar": {
             "outlinewidth": 0,
             "ticks": ""
            },
            "colorscale": [
             [
              0,
              "#0d0887"
             ],
             [
              0.1111111111111111,
              "#46039f"
             ],
             [
              0.2222222222222222,
              "#7201a8"
             ],
             [
              0.3333333333333333,
              "#9c179e"
             ],
             [
              0.4444444444444444,
              "#bd3786"
             ],
             [
              0.5555555555555556,
              "#d8576b"
             ],
             [
              0.6666666666666666,
              "#ed7953"
             ],
             [
              0.7777777777777778,
              "#fb9f3a"
             ],
             [
              0.8888888888888888,
              "#fdca26"
             ],
             [
              1,
              "#f0f921"
             ]
            ],
            "type": "contour"
           }
          ],
          "contourcarpet": [
           {
            "colorbar": {
             "outlinewidth": 0,
             "ticks": ""
            },
            "type": "contourcarpet"
           }
          ],
          "heatmap": [
           {
            "colorbar": {
             "outlinewidth": 0,
             "ticks": ""
            },
            "colorscale": [
             [
              0,
              "#0d0887"
             ],
             [
              0.1111111111111111,
              "#46039f"
             ],
             [
              0.2222222222222222,
              "#7201a8"
             ],
             [
              0.3333333333333333,
              "#9c179e"
             ],
             [
              0.4444444444444444,
              "#bd3786"
             ],
             [
              0.5555555555555556,
              "#d8576b"
             ],
             [
              0.6666666666666666,
              "#ed7953"
             ],
             [
              0.7777777777777778,
              "#fb9f3a"
             ],
             [
              0.8888888888888888,
              "#fdca26"
             ],
             [
              1,
              "#f0f921"
             ]
            ],
            "type": "heatmap"
           }
          ],
          "heatmapgl": [
           {
            "colorbar": {
             "outlinewidth": 0,
             "ticks": ""
            },
            "colorscale": [
             [
              0,
              "#0d0887"
             ],
             [
              0.1111111111111111,
              "#46039f"
             ],
             [
              0.2222222222222222,
              "#7201a8"
             ],
             [
              0.3333333333333333,
              "#9c179e"
             ],
             [
              0.4444444444444444,
              "#bd3786"
             ],
             [
              0.5555555555555556,
              "#d8576b"
             ],
             [
              0.6666666666666666,
              "#ed7953"
             ],
             [
              0.7777777777777778,
              "#fb9f3a"
             ],
             [
              0.8888888888888888,
              "#fdca26"
             ],
             [
              1,
              "#f0f921"
             ]
            ],
            "type": "heatmapgl"
           }
          ],
          "histogram": [
           {
            "marker": {
             "pattern": {
              "fillmode": "overlay",
              "size": 10,
              "solidity": 0.2
             }
            },
            "type": "histogram"
           }
          ],
          "histogram2d": [
           {
            "colorbar": {
             "outlinewidth": 0,
             "ticks": ""
            },
            "colorscale": [
             [
              0,
              "#0d0887"
             ],
             [
              0.1111111111111111,
              "#46039f"
             ],
             [
              0.2222222222222222,
              "#7201a8"
             ],
             [
              0.3333333333333333,
              "#9c179e"
             ],
             [
              0.4444444444444444,
              "#bd3786"
             ],
             [
              0.5555555555555556,
              "#d8576b"
             ],
             [
              0.6666666666666666,
              "#ed7953"
             ],
             [
              0.7777777777777778,
              "#fb9f3a"
             ],
             [
              0.8888888888888888,
              "#fdca26"
             ],
             [
              1,
              "#f0f921"
             ]
            ],
            "type": "histogram2d"
           }
          ],
          "histogram2dcontour": [
           {
            "colorbar": {
             "outlinewidth": 0,
             "ticks": ""
            },
            "colorscale": [
             [
              0,
              "#0d0887"
             ],
             [
              0.1111111111111111,
              "#46039f"
             ],
             [
              0.2222222222222222,
              "#7201a8"
             ],
             [
              0.3333333333333333,
              "#9c179e"
             ],
             [
              0.4444444444444444,
              "#bd3786"
             ],
             [
              0.5555555555555556,
              "#d8576b"
             ],
             [
              0.6666666666666666,
              "#ed7953"
             ],
             [
              0.7777777777777778,
              "#fb9f3a"
             ],
             [
              0.8888888888888888,
              "#fdca26"
             ],
             [
              1,
              "#f0f921"
             ]
            ],
            "type": "histogram2dcontour"
           }
          ],
          "mesh3d": [
           {
            "colorbar": {
             "outlinewidth": 0,
             "ticks": ""
            },
            "type": "mesh3d"
           }
          ],
          "parcoords": [
           {
            "line": {
             "colorbar": {
              "outlinewidth": 0,
              "ticks": ""
             }
            },
            "type": "parcoords"
           }
          ],
          "pie": [
           {
            "automargin": true,
            "type": "pie"
           }
          ],
          "scatter": [
           {
            "fillpattern": {
             "fillmode": "overlay",
             "size": 10,
             "solidity": 0.2
            },
            "type": "scatter"
           }
          ],
          "scatter3d": [
           {
            "line": {
             "colorbar": {
              "outlinewidth": 0,
              "ticks": ""
             }
            },
            "marker": {
             "colorbar": {
              "outlinewidth": 0,
              "ticks": ""
             }
            },
            "type": "scatter3d"
           }
          ],
          "scattercarpet": [
           {
            "marker": {
             "colorbar": {
              "outlinewidth": 0,
              "ticks": ""
             }
            },
            "type": "scattercarpet"
           }
          ],
          "scattergeo": [
           {
            "marker": {
             "colorbar": {
              "outlinewidth": 0,
              "ticks": ""
             }
            },
            "type": "scattergeo"
           }
          ],
          "scattergl": [
           {
            "marker": {
             "colorbar": {
              "outlinewidth": 0,
              "ticks": ""
             }
            },
            "type": "scattergl"
           }
          ],
          "scattermapbox": [
           {
            "marker": {
             "colorbar": {
              "outlinewidth": 0,
              "ticks": ""
             }
            },
            "type": "scattermapbox"
           }
          ],
          "scatterpolar": [
           {
            "marker": {
             "colorbar": {
              "outlinewidth": 0,
              "ticks": ""
             }
            },
            "type": "scatterpolar"
           }
          ],
          "scatterpolargl": [
           {
            "marker": {
             "colorbar": {
              "outlinewidth": 0,
              "ticks": ""
             }
            },
            "type": "scatterpolargl"
           }
          ],
          "scatterternary": [
           {
            "marker": {
             "colorbar": {
              "outlinewidth": 0,
              "ticks": ""
             }
            },
            "type": "scatterternary"
           }
          ],
          "surface": [
           {
            "colorbar": {
             "outlinewidth": 0,
             "ticks": ""
            },
            "colorscale": [
             [
              0,
              "#0d0887"
             ],
             [
              0.1111111111111111,
              "#46039f"
             ],
             [
              0.2222222222222222,
              "#7201a8"
             ],
             [
              0.3333333333333333,
              "#9c179e"
             ],
             [
              0.4444444444444444,
              "#bd3786"
             ],
             [
              0.5555555555555556,
              "#d8576b"
             ],
             [
              0.6666666666666666,
              "#ed7953"
             ],
             [
              0.7777777777777778,
              "#fb9f3a"
             ],
             [
              0.8888888888888888,
              "#fdca26"
             ],
             [
              1,
              "#f0f921"
             ]
            ],
            "type": "surface"
           }
          ],
          "table": [
           {
            "cells": {
             "fill": {
              "color": "#EBF0F8"
             },
             "line": {
              "color": "white"
             }
            },
            "header": {
             "fill": {
              "color": "#C8D4E3"
             },
             "line": {
              "color": "white"
             }
            },
            "type": "table"
           }
          ]
         },
         "layout": {
          "annotationdefaults": {
           "arrowcolor": "#2a3f5f",
           "arrowhead": 0,
           "arrowwidth": 1
          },
          "autotypenumbers": "strict",
          "coloraxis": {
           "colorbar": {
            "outlinewidth": 0,
            "ticks": ""
           }
          },
          "colorscale": {
           "diverging": [
            [
             0,
             "#8e0152"
            ],
            [
             0.1,
             "#c51b7d"
            ],
            [
             0.2,
             "#de77ae"
            ],
            [
             0.3,
             "#f1b6da"
            ],
            [
             0.4,
             "#fde0ef"
            ],
            [
             0.5,
             "#f7f7f7"
            ],
            [
             0.6,
             "#e6f5d0"
            ],
            [
             0.7,
             "#b8e186"
            ],
            [
             0.8,
             "#7fbc41"
            ],
            [
             0.9,
             "#4d9221"
            ],
            [
             1,
             "#276419"
            ]
           ],
           "sequential": [
            [
             0,
             "#0d0887"
            ],
            [
             0.1111111111111111,
             "#46039f"
            ],
            [
             0.2222222222222222,
             "#7201a8"
            ],
            [
             0.3333333333333333,
             "#9c179e"
            ],
            [
             0.4444444444444444,
             "#bd3786"
            ],
            [
             0.5555555555555556,
             "#d8576b"
            ],
            [
             0.6666666666666666,
             "#ed7953"
            ],
            [
             0.7777777777777778,
             "#fb9f3a"
            ],
            [
             0.8888888888888888,
             "#fdca26"
            ],
            [
             1,
             "#f0f921"
            ]
           ],
           "sequentialminus": [
            [
             0,
             "#0d0887"
            ],
            [
             0.1111111111111111,
             "#46039f"
            ],
            [
             0.2222222222222222,
             "#7201a8"
            ],
            [
             0.3333333333333333,
             "#9c179e"
            ],
            [
             0.4444444444444444,
             "#bd3786"
            ],
            [
             0.5555555555555556,
             "#d8576b"
            ],
            [
             0.6666666666666666,
             "#ed7953"
            ],
            [
             0.7777777777777778,
             "#fb9f3a"
            ],
            [
             0.8888888888888888,
             "#fdca26"
            ],
            [
             1,
             "#f0f921"
            ]
           ]
          },
          "colorway": [
           "#636efa",
           "#EF553B",
           "#00cc96",
           "#ab63fa",
           "#FFA15A",
           "#19d3f3",
           "#FF6692",
           "#B6E880",
           "#FF97FF",
           "#FECB52"
          ],
          "font": {
           "color": "#2a3f5f"
          },
          "geo": {
           "bgcolor": "white",
           "lakecolor": "white",
           "landcolor": "#E5ECF6",
           "showlakes": true,
           "showland": true,
           "subunitcolor": "white"
          },
          "hoverlabel": {
           "align": "left"
          },
          "hovermode": "closest",
          "mapbox": {
           "style": "light"
          },
          "paper_bgcolor": "white",
          "plot_bgcolor": "#E5ECF6",
          "polar": {
           "angularaxis": {
            "gridcolor": "white",
            "linecolor": "white",
            "ticks": ""
           },
           "bgcolor": "#E5ECF6",
           "radialaxis": {
            "gridcolor": "white",
            "linecolor": "white",
            "ticks": ""
           }
          },
          "scene": {
           "xaxis": {
            "backgroundcolor": "#E5ECF6",
            "gridcolor": "white",
            "gridwidth": 2,
            "linecolor": "white",
            "showbackground": true,
            "ticks": "",
            "zerolinecolor": "white"
           },
           "yaxis": {
            "backgroundcolor": "#E5ECF6",
            "gridcolor": "white",
            "gridwidth": 2,
            "linecolor": "white",
            "showbackground": true,
            "ticks": "",
            "zerolinecolor": "white"
           },
           "zaxis": {
            "backgroundcolor": "#E5ECF6",
            "gridcolor": "white",
            "gridwidth": 2,
            "linecolor": "white",
            "showbackground": true,
            "ticks": "",
            "zerolinecolor": "white"
           }
          },
          "shapedefaults": {
           "line": {
            "color": "#2a3f5f"
           }
          },
          "ternary": {
           "aaxis": {
            "gridcolor": "white",
            "linecolor": "white",
            "ticks": ""
           },
           "baxis": {
            "gridcolor": "white",
            "linecolor": "white",
            "ticks": ""
           },
           "bgcolor": "#E5ECF6",
           "caxis": {
            "gridcolor": "white",
            "linecolor": "white",
            "ticks": ""
           }
          },
          "title": {
           "x": 0.05
          },
          "xaxis": {
           "automargin": true,
           "gridcolor": "white",
           "linecolor": "white",
           "ticks": "",
           "title": {
            "standoff": 15
           },
           "zerolinecolor": "white",
           "zerolinewidth": 2
          },
          "yaxis": {
           "automargin": true,
           "gridcolor": "white",
           "linecolor": "white",
           "ticks": "",
           "title": {
            "standoff": 15
           },
           "zerolinecolor": "white",
           "zerolinewidth": 2
          }
         }
        },
        "width": 800,
        "xaxis": {
         "anchor": "y",
         "domain": [
          0,
          1
         ],
         "title": {
          "text": "ML model"
         }
        },
        "yaxis": {
         "anchor": "x",
         "domain": [
          0,
          1
         ],
         "range": [
          0,
          100
         ],
         "tickvals": [
          0,
          10,
          20,
          30,
          40,
          50,
          60,
          70,
          80,
          90,
          100
         ],
         "title": {
          "text": "% of hardware CapEx + OpEx"
         }
        }
       }
      }
     },
     "metadata": {},
     "output_type": "display_data"
    }
   ],
   "source": [
    "# Stacked bar chart of cost components, using component_cost_df\n",
    "cost_component_pc_names = [name + ' (%)' for name in cost_component_names]\n",
    "fig = px.bar(\n",
    "    component_cost_df.dropna(subset=cost_component_pc_names).sort_values(by='Publication date'),\n",
    "    x='System',\n",
    "    y=cost_component_pc_names,\n",
    "    barmode='stack',\n",
    ")\n",
    "\n",
    "# axis labels\n",
    "fig.update_xaxes(title_text='ML model')\n",
    "fig.update_yaxes(title_text='% of hardware CapEx + OpEx')\n",
    "fig.update_layout(\n",
    "    legend=dict(\n",
    "        title_text='Cost component',\n",
    "        x=0.60,\n",
    "        y=0.05,\n",
    "    )\n",
    ")\n",
    "# limits 0 to 100\n",
    "fig.update_yaxes(range=[0, 100])\n",
    "\n",
    "fig.update_yaxes(tickvals=list(range(0, 101, 10)))\n",
    "\n",
    "# size\n",
    "fig.update_layout(\n",
    "    autosize=False,\n",
    "    width=800,\n",
    "    height=600,\n",
    ")\n",
    "\n",
    "# margins\n",
    "fig.update_layout(margin=dict(l=10, r=10, t=40, b=10))\n",
    "\n",
    "save_plot(fig, results_dir, 'cost_component_percentage')\n",
    "\n",
    "fig.show()"
   ]
  },
  {
   "cell_type": "code",
   "execution_count": 27,
   "metadata": {},
   "outputs": [
    {
     "ename": "ValueError",
     "evalue": "Value of 'y' is not the name of a column in 'data_frame'. Expected one of ['System', 'Domain', 'Task', 'Authors', 'Notability criteria', 'Notability criteria notes', 'Model accessibility', 'Link', 'Citations', 'Reference', 'Publication date', 'Organization', 'Parameters', 'Parameters notes', 'Training compute (FLOP)', 'Training compute notes', 'Training dataset', 'Training dataset notes', 'Training dataset size (datapoints)', 'Dataset size notes', 'Epochs', 'Inference compute (FLOP)', 'Inference compute notes', 'Training time (hours)', 'Training time notes', 'Training hardware', 'Approach', 'Training compute cost (2020 USD)', 'Compute cost notes', 'Compute sponsor categorization', 'Confidence', 'Abstract', 'Last modified', 'Created By', 'Benchmark data', 'Exclude', 'Country (from Organization)', 'Base model', 'Finetune compute (FLOP)', 'Finetune compute notes', 'Hardware quantity', 'Hardware utilization', 'Training cost trends', 'Training cloud compute vendor', 'Training data center', 'Archived links', 'Batch size', 'Batch size notes', 'Organization categorization', 'Foundation model', 'Training compute lower bound', 'Training compute upper bound', 'Training chip-hours', 'Code accessibility', 'Dataset accessibility', 'Accessibility notes', 'Organization categorization (from Organization)', 'Possibly over 1e23 FLOP', 'Cost', 'AI accelerator chip cost', 'Other server components cost', 'Cluster-level interconnect cost', 'Energy cost', 'AI accelerator chip cost (%)', 'Other server components cost (%)', 'Cluster-level interconnect cost (%)', 'Energy cost (%)'] but received: Energy cost %",
     "output_type": "error",
     "traceback": [
      "\u001b[0;31m---------------------------------------------------------------------------\u001b[0m",
      "\u001b[0;31mValueError\u001b[0m                                Traceback (most recent call last)",
      "Cell \u001b[0;32mIn[27], line 2\u001b[0m\n\u001b[1;32m      1\u001b[0m \u001b[38;5;66;03m# Stacked bar chart of cost components, using component_cost_df\u001b[39;00m\n\u001b[0;32m----> 2\u001b[0m fig \u001b[38;5;241m=\u001b[39m px\u001b[38;5;241m.\u001b[39mbar(\n\u001b[1;32m      3\u001b[0m     component_cost_df\u001b[38;5;241m.\u001b[39mdropna(subset\u001b[38;5;241m=\u001b[39m[\u001b[38;5;124m'\u001b[39m\u001b[38;5;124mCost\u001b[39m\u001b[38;5;124m'\u001b[39m])\u001b[38;5;241m.\u001b[39msort_values(by\u001b[38;5;241m=\u001b[39m\u001b[38;5;124m'\u001b[39m\u001b[38;5;124mPublication date\u001b[39m\u001b[38;5;124m'\u001b[39m),\n\u001b[1;32m      4\u001b[0m     x\u001b[38;5;241m=\u001b[39m\u001b[38;5;124m'\u001b[39m\u001b[38;5;124mSystem\u001b[39m\u001b[38;5;124m'\u001b[39m,\n\u001b[1;32m      5\u001b[0m     y\u001b[38;5;241m=\u001b[39m\u001b[38;5;124m'\u001b[39m\u001b[38;5;124mEnergy cost \u001b[39m\u001b[38;5;124m%\u001b[39m\u001b[38;5;124m'\u001b[39m,\n\u001b[1;32m      6\u001b[0m     barmode\u001b[38;5;241m=\u001b[39m\u001b[38;5;124m'\u001b[39m\u001b[38;5;124mstack\u001b[39m\u001b[38;5;124m'\u001b[39m,\n\u001b[1;32m      7\u001b[0m     \u001b[38;5;66;03m# labels='Cost %',\u001b[39;00m\n\u001b[1;32m      8\u001b[0m     \u001b[38;5;66;03m# text='Energy cost %',\u001b[39;00m\n\u001b[1;32m      9\u001b[0m )\n\u001b[1;32m     10\u001b[0m \u001b[38;5;66;03m# axis labels\u001b[39;00m\n\u001b[1;32m     11\u001b[0m fig\u001b[38;5;241m.\u001b[39mupdate_xaxes(title_text\u001b[38;5;241m=\u001b[39m\u001b[38;5;124m'\u001b[39m\u001b[38;5;124mSystem\u001b[39m\u001b[38;5;124m'\u001b[39m)\n",
      "File \u001b[0;32m~/miniconda3/envs/epoch/lib/python3.11/site-packages/plotly/express/_chart_types.py:373\u001b[0m, in \u001b[0;36mbar\u001b[0;34m(data_frame, x, y, color, pattern_shape, facet_row, facet_col, facet_col_wrap, facet_row_spacing, facet_col_spacing, hover_name, hover_data, custom_data, text, base, error_x, error_x_minus, error_y, error_y_minus, animation_frame, animation_group, category_orders, labels, color_discrete_sequence, color_discrete_map, color_continuous_scale, pattern_shape_sequence, pattern_shape_map, range_color, color_continuous_midpoint, opacity, orientation, barmode, log_x, log_y, range_x, range_y, text_auto, title, template, width, height)\u001b[0m\n\u001b[1;32m    325\u001b[0m \u001b[38;5;28;01mdef\u001b[39;00m \u001b[38;5;21mbar\u001b[39m(\n\u001b[1;32m    326\u001b[0m     data_frame\u001b[38;5;241m=\u001b[39m\u001b[38;5;28;01mNone\u001b[39;00m,\n\u001b[1;32m    327\u001b[0m     x\u001b[38;5;241m=\u001b[39m\u001b[38;5;28;01mNone\u001b[39;00m,\n\u001b[0;32m   (...)\u001b[0m\n\u001b[1;32m    367\u001b[0m     height\u001b[38;5;241m=\u001b[39m\u001b[38;5;28;01mNone\u001b[39;00m,\n\u001b[1;32m    368\u001b[0m ) \u001b[38;5;241m-\u001b[39m\u001b[38;5;241m>\u001b[39m go\u001b[38;5;241m.\u001b[39mFigure:\n\u001b[1;32m    369\u001b[0m \u001b[38;5;250m    \u001b[39m\u001b[38;5;124;03m\"\"\"\u001b[39;00m\n\u001b[1;32m    370\u001b[0m \u001b[38;5;124;03m    In a bar plot, each row of `data_frame` is represented as a rectangular\u001b[39;00m\n\u001b[1;32m    371\u001b[0m \u001b[38;5;124;03m    mark.\u001b[39;00m\n\u001b[1;32m    372\u001b[0m \u001b[38;5;124;03m    \"\"\"\u001b[39;00m\n\u001b[0;32m--> 373\u001b[0m     \u001b[38;5;28;01mreturn\u001b[39;00m make_figure(\n\u001b[1;32m    374\u001b[0m         args\u001b[38;5;241m=\u001b[39m\u001b[38;5;28mlocals\u001b[39m(),\n\u001b[1;32m    375\u001b[0m         constructor\u001b[38;5;241m=\u001b[39mgo\u001b[38;5;241m.\u001b[39mBar,\n\u001b[1;32m    376\u001b[0m         trace_patch\u001b[38;5;241m=\u001b[39m\u001b[38;5;28mdict\u001b[39m(textposition\u001b[38;5;241m=\u001b[39m\u001b[38;5;124m\"\u001b[39m\u001b[38;5;124mauto\u001b[39m\u001b[38;5;124m\"\u001b[39m),\n\u001b[1;32m    377\u001b[0m         layout_patch\u001b[38;5;241m=\u001b[39m\u001b[38;5;28mdict\u001b[39m(barmode\u001b[38;5;241m=\u001b[39mbarmode),\n\u001b[1;32m    378\u001b[0m     )\n",
      "File \u001b[0;32m~/miniconda3/envs/epoch/lib/python3.11/site-packages/plotly/express/_core.py:1990\u001b[0m, in \u001b[0;36mmake_figure\u001b[0;34m(args, constructor, trace_patch, layout_patch)\u001b[0m\n\u001b[1;32m   1987\u001b[0m layout_patch \u001b[38;5;241m=\u001b[39m layout_patch \u001b[38;5;129;01mor\u001b[39;00m {}\n\u001b[1;32m   1988\u001b[0m apply_default_cascade(args)\n\u001b[0;32m-> 1990\u001b[0m args \u001b[38;5;241m=\u001b[39m build_dataframe(args, constructor)\n\u001b[1;32m   1991\u001b[0m \u001b[38;5;28;01mif\u001b[39;00m constructor \u001b[38;5;129;01min\u001b[39;00m [go\u001b[38;5;241m.\u001b[39mTreemap, go\u001b[38;5;241m.\u001b[39mSunburst, go\u001b[38;5;241m.\u001b[39mIcicle] \u001b[38;5;129;01mand\u001b[39;00m args[\u001b[38;5;124m\"\u001b[39m\u001b[38;5;124mpath\u001b[39m\u001b[38;5;124m\"\u001b[39m] \u001b[38;5;129;01mis\u001b[39;00m \u001b[38;5;129;01mnot\u001b[39;00m \u001b[38;5;28;01mNone\u001b[39;00m:\n\u001b[1;32m   1992\u001b[0m     args \u001b[38;5;241m=\u001b[39m process_dataframe_hierarchy(args)\n",
      "File \u001b[0;32m~/miniconda3/envs/epoch/lib/python3.11/site-packages/plotly/express/_core.py:1405\u001b[0m, in \u001b[0;36mbuild_dataframe\u001b[0;34m(args, constructor)\u001b[0m\n\u001b[1;32m   1402\u001b[0m     args[\u001b[38;5;124m\"\u001b[39m\u001b[38;5;124mcolor\u001b[39m\u001b[38;5;124m\"\u001b[39m] \u001b[38;5;241m=\u001b[39m \u001b[38;5;28;01mNone\u001b[39;00m\n\u001b[1;32m   1403\u001b[0m \u001b[38;5;66;03m# now that things have been prepped, we do the systematic rewriting of `args`\u001b[39;00m\n\u001b[0;32m-> 1405\u001b[0m df_output, wide_id_vars \u001b[38;5;241m=\u001b[39m process_args_into_dataframe(\n\u001b[1;32m   1406\u001b[0m     args, wide_mode, var_name, value_name\n\u001b[1;32m   1407\u001b[0m )\n\u001b[1;32m   1409\u001b[0m \u001b[38;5;66;03m# now that `df_output` exists and `args` contains only references, we complete\u001b[39;00m\n\u001b[1;32m   1410\u001b[0m \u001b[38;5;66;03m# the special-case and wide-mode handling by further rewriting args and/or mutating\u001b[39;00m\n\u001b[1;32m   1411\u001b[0m \u001b[38;5;66;03m# df_output\u001b[39;00m\n\u001b[1;32m   1413\u001b[0m count_name \u001b[38;5;241m=\u001b[39m _escape_col_name(df_output, \u001b[38;5;124m\"\u001b[39m\u001b[38;5;124mcount\u001b[39m\u001b[38;5;124m\"\u001b[39m, [var_name, value_name])\n",
      "File \u001b[0;32m~/miniconda3/envs/epoch/lib/python3.11/site-packages/plotly/express/_core.py:1207\u001b[0m, in \u001b[0;36mprocess_args_into_dataframe\u001b[0;34m(args, wide_mode, var_name, value_name)\u001b[0m\n\u001b[1;32m   1205\u001b[0m         \u001b[38;5;28;01mif\u001b[39;00m argument \u001b[38;5;241m==\u001b[39m \u001b[38;5;124m\"\u001b[39m\u001b[38;5;124mindex\u001b[39m\u001b[38;5;124m\"\u001b[39m:\n\u001b[1;32m   1206\u001b[0m             err_msg \u001b[38;5;241m+\u001b[39m\u001b[38;5;241m=\u001b[39m \u001b[38;5;124m\"\u001b[39m\u001b[38;5;130;01m\\n\u001b[39;00m\u001b[38;5;124m To use the index, pass it in directly as `df.index`.\u001b[39m\u001b[38;5;124m\"\u001b[39m\n\u001b[0;32m-> 1207\u001b[0m         \u001b[38;5;28;01mraise\u001b[39;00m \u001b[38;5;167;01mValueError\u001b[39;00m(err_msg)\n\u001b[1;32m   1208\u001b[0m \u001b[38;5;28;01melif\u001b[39;00m length \u001b[38;5;129;01mand\u001b[39;00m \u001b[38;5;28mlen\u001b[39m(df_input[argument]) \u001b[38;5;241m!=\u001b[39m length:\n\u001b[1;32m   1209\u001b[0m     \u001b[38;5;28;01mraise\u001b[39;00m \u001b[38;5;167;01mValueError\u001b[39;00m(\n\u001b[1;32m   1210\u001b[0m         \u001b[38;5;124m\"\u001b[39m\u001b[38;5;124mAll arguments should have the same length. \u001b[39m\u001b[38;5;124m\"\u001b[39m\n\u001b[1;32m   1211\u001b[0m         \u001b[38;5;124m\"\u001b[39m\u001b[38;5;124mThe length of column argument `df[\u001b[39m\u001b[38;5;132;01m%s\u001b[39;00m\u001b[38;5;124m]` is \u001b[39m\u001b[38;5;132;01m%d\u001b[39;00m\u001b[38;5;124m, whereas the \u001b[39m\u001b[38;5;124m\"\u001b[39m\n\u001b[0;32m   (...)\u001b[0m\n\u001b[1;32m   1218\u001b[0m         )\n\u001b[1;32m   1219\u001b[0m     )\n",
      "\u001b[0;31mValueError\u001b[0m: Value of 'y' is not the name of a column in 'data_frame'. Expected one of ['System', 'Domain', 'Task', 'Authors', 'Notability criteria', 'Notability criteria notes', 'Model accessibility', 'Link', 'Citations', 'Reference', 'Publication date', 'Organization', 'Parameters', 'Parameters notes', 'Training compute (FLOP)', 'Training compute notes', 'Training dataset', 'Training dataset notes', 'Training dataset size (datapoints)', 'Dataset size notes', 'Epochs', 'Inference compute (FLOP)', 'Inference compute notes', 'Training time (hours)', 'Training time notes', 'Training hardware', 'Approach', 'Training compute cost (2020 USD)', 'Compute cost notes', 'Compute sponsor categorization', 'Confidence', 'Abstract', 'Last modified', 'Created By', 'Benchmark data', 'Exclude', 'Country (from Organization)', 'Base model', 'Finetune compute (FLOP)', 'Finetune compute notes', 'Hardware quantity', 'Hardware utilization', 'Training cost trends', 'Training cloud compute vendor', 'Training data center', 'Archived links', 'Batch size', 'Batch size notes', 'Organization categorization', 'Foundation model', 'Training compute lower bound', 'Training compute upper bound', 'Training chip-hours', 'Code accessibility', 'Dataset accessibility', 'Accessibility notes', 'Organization categorization (from Organization)', 'Possibly over 1e23 FLOP', 'Cost', 'AI accelerator chip cost', 'Other server components cost', 'Cluster-level interconnect cost', 'Energy cost', 'AI accelerator chip cost (%)', 'Other server components cost (%)', 'Cluster-level interconnect cost (%)', 'Energy cost (%)'] but received: Energy cost %"
     ]
    }
   ],
   "source": [
    "# Stacked bar chart of cost components, using component_cost_df\n",
    "fig = px.bar(\n",
    "    component_cost_df.dropna(subset=['Cost']).sort_values(by='Publication date'),\n",
    "    x='System',\n",
    "    y='Energy cost %',\n",
    "    barmode='stack',\n",
    "    # labels='Cost %',\n",
    "    # text='Energy cost %',\n",
    ")\n",
    "# axis labels\n",
    "fig.update_xaxes(title_text='System')\n",
    "fig.update_yaxes(title_text='Energy cost (% of Hardware CapEx + OpEx)')\n",
    "# fig.update_layout(\n",
    "#     legend=dict(\n",
    "#         title_text='Cost component',\n",
    "#         x=0.75,\n",
    "#         y=0.05,\n",
    "#     )\n",
    "# )\n",
    "# limits 0 to 100\n",
    "fig.update_yaxes(range=[0, 30])\n",
    "# size\n",
    "fig.update_layout(\n",
    "    autosize=False,\n",
    "    width=800,\n",
    "    height=600,\n",
    ")\n",
    "\n",
    "# margins\n",
    "fig.update_layout(margin=dict(l=10, r=10, t=40, b=10))\n",
    "\n",
    "save_plot(fig, results_dir, 'energy_percentage')\n",
    "\n",
    "fig.show()"
   ]
  },
  {
   "cell_type": "code",
   "execution_count": null,
   "metadata": {},
   "outputs": [
    {
     "data": {
      "application/vnd.plotly.v1+json": {
       "config": {
        "plotlyServerURL": "https://plot.ly"
       },
       "data": [
        {
         "hovertemplate": "Publication date=%{x}<br>Energy cost=%{y}<br>System=%{text}<extra></extra>",
         "legendgroup": "",
         "marker": {
          "color": "#636efa",
          "symbol": "circle"
         },
         "mode": "markers+text",
         "name": "",
         "orientation": "v",
         "showlegend": false,
         "text": [
          "DeepSpeech2 (English)",
          "GNMT",
          "Xception",
          "PolyNet",
          "AlphaGo Master",
          "MoE",
          "JFT",
          "AlphaGo Zero",
          "AlphaZero",
          "BigGAN-deep 512x512",
          "RoBERTa Large",
          "Megatron-BERT",
          "Megatron-LM (8.3B)",
          "T5-11B",
          "AlphaStar",
          "Meena",
          "Turing-NLG",
          "GPT-3 175B (davinci)",
          "iGPT-XL",
          "DALL-E",
          "Switch",
          "Meta Pseudo Labels",
          "ProtT5-XXL",
          "ByT5-XXL",
          "GOAT",
          "HyperCLOVA",
          "Megatron-Turing NLG 530B",
          "Gopher (280B)",
          "GLaM",
          "LaMDA",
          "PaLM (540B)",
          "OPT-175B",
          "Parti",
          "Minerva (540B)",
          "GLM-130B",
          "BlenderBot 3",
          "U-PaLM (540B)",
          "BLOOM-176B",
          "GPT-3.5 (text-davinci-003)",
          "LLaMA-65B",
          "GPT-4",
          "PaLM 2",
          "xTrimoPGLM -100B",
          "Llama 2-70B",
          "Falcon-180B",
          "Inflection-2",
          "Gemini Ultra"
         ],
         "type": "scatter",
         "x": [
          "2015-12-08T00:00:00",
          "2016-09-26T00:00:00",
          "2016-10-07T00:00:00",
          "2016-11-17T00:00:00",
          "2017-01-01T00:00:00",
          "2017-01-23T00:00:00",
          "2017-07-10T00:00:00",
          "2017-10-18T00:00:00",
          "2017-12-05T00:00:00",
          "2018-09-28T00:00:00",
          "2019-07-01T00:00:00",
          "2019-09-17T00:00:00",
          "2019-09-17T00:00:00",
          "2019-10-23T00:00:00",
          "2019-10-30T00:00:00",
          "2020-01-28T00:00:00",
          "2020-02-13T00:00:00",
          "2020-05-28T00:00:00",
          "2020-06-17T00:00:00",
          "2021-01-05T00:00:00",
          "2021-01-11T00:00:00",
          "2021-03-01T00:00:00",
          "2021-05-04T00:00:00",
          "2021-05-28T00:00:00",
          "2021-07-27T00:00:00",
          "2021-09-10T00:00:00",
          "2021-10-11T00:00:00",
          "2021-12-08T00:00:00",
          "2021-12-13T00:00:00",
          "2022-02-10T00:00:00",
          "2022-04-04T00:00:00",
          "2022-05-02T00:00:00",
          "2022-06-22T00:00:00",
          "2022-06-29T00:00:00",
          "2022-08-04T00:00:00",
          "2022-08-10T00:00:00",
          "2022-10-20T00:00:00",
          "2022-11-08T00:00:00",
          "2022-11-28T00:00:00",
          "2023-02-24T00:00:00",
          "2023-03-15T00:00:00",
          "2023-05-10T00:00:00",
          "2023-07-06T00:00:00",
          "2023-07-18T00:00:00",
          "2023-09-06T00:00:00",
          "2023-11-22T00:00:00",
          "2023-12-06T00:00:00"
         ],
         "xaxis": "x",
         "y": [
          69.93491529646238,
          12489.624576000002,
          1301.0025600000001,
          202.0926756352765,
          11516.183509855131,
          461.37434112,
          2206.8288000000002,
          19634.11117874396,
          9022.479320191442,
          266.0592033792,
          3451.8528,
          18959.039999999997,
          5344.487999999999,
          5257.32697518336,
          8640.3879733248,
          15386.834276352001,
          2559.797777777778,
          111055.49999999999,
          6114.166666666667,
          9373.88888888889,
          14907.004961587203,
          6073.224243609601,
          9971.122261788621,
          10958.763951219515,
          10552.88380487805,
          36021.772800000006,
          166023.85800000004,
          84657.06521395202,
          27642.013270130694,
          36920.20005273601,
          192466.52342245786,
          45315.57888,
          24443.536590277683,
          208786.78418050252,
          70087.68,
          102250.76406518518,
          193873.44245332378,
          68335.488,
          387893.5185185185,
          55323.84000000001,
          3499488.28125,
          438590.4896995556,
          184454.712,
          93358.98000000003,
          1086359.04,
          722304.8323222109,
          2928218.930208001
         ],
         "yaxis": "y"
        }
       ],
       "layout": {
        "autosize": false,
        "height": 600,
        "legend": {
         "tracegroupgap": 0
        },
        "margin": {
         "b": 10,
         "l": 10,
         "r": 10,
         "t": 40
        },
        "template": {
         "data": {
          "bar": [
           {
            "error_x": {
             "color": "#2a3f5f"
            },
            "error_y": {
             "color": "#2a3f5f"
            },
            "marker": {
             "line": {
              "color": "#E5ECF6",
              "width": 0.5
             },
             "pattern": {
              "fillmode": "overlay",
              "size": 10,
              "solidity": 0.2
             }
            },
            "type": "bar"
           }
          ],
          "barpolar": [
           {
            "marker": {
             "line": {
              "color": "#E5ECF6",
              "width": 0.5
             },
             "pattern": {
              "fillmode": "overlay",
              "size": 10,
              "solidity": 0.2
             }
            },
            "type": "barpolar"
           }
          ],
          "carpet": [
           {
            "aaxis": {
             "endlinecolor": "#2a3f5f",
             "gridcolor": "white",
             "linecolor": "white",
             "minorgridcolor": "white",
             "startlinecolor": "#2a3f5f"
            },
            "baxis": {
             "endlinecolor": "#2a3f5f",
             "gridcolor": "white",
             "linecolor": "white",
             "minorgridcolor": "white",
             "startlinecolor": "#2a3f5f"
            },
            "type": "carpet"
           }
          ],
          "choropleth": [
           {
            "colorbar": {
             "outlinewidth": 0,
             "ticks": ""
            },
            "type": "choropleth"
           }
          ],
          "contour": [
           {
            "colorbar": {
             "outlinewidth": 0,
             "ticks": ""
            },
            "colorscale": [
             [
              0,
              "#0d0887"
             ],
             [
              0.1111111111111111,
              "#46039f"
             ],
             [
              0.2222222222222222,
              "#7201a8"
             ],
             [
              0.3333333333333333,
              "#9c179e"
             ],
             [
              0.4444444444444444,
              "#bd3786"
             ],
             [
              0.5555555555555556,
              "#d8576b"
             ],
             [
              0.6666666666666666,
              "#ed7953"
             ],
             [
              0.7777777777777778,
              "#fb9f3a"
             ],
             [
              0.8888888888888888,
              "#fdca26"
             ],
             [
              1,
              "#f0f921"
             ]
            ],
            "type": "contour"
           }
          ],
          "contourcarpet": [
           {
            "colorbar": {
             "outlinewidth": 0,
             "ticks": ""
            },
            "type": "contourcarpet"
           }
          ],
          "heatmap": [
           {
            "colorbar": {
             "outlinewidth": 0,
             "ticks": ""
            },
            "colorscale": [
             [
              0,
              "#0d0887"
             ],
             [
              0.1111111111111111,
              "#46039f"
             ],
             [
              0.2222222222222222,
              "#7201a8"
             ],
             [
              0.3333333333333333,
              "#9c179e"
             ],
             [
              0.4444444444444444,
              "#bd3786"
             ],
             [
              0.5555555555555556,
              "#d8576b"
             ],
             [
              0.6666666666666666,
              "#ed7953"
             ],
             [
              0.7777777777777778,
              "#fb9f3a"
             ],
             [
              0.8888888888888888,
              "#fdca26"
             ],
             [
              1,
              "#f0f921"
             ]
            ],
            "type": "heatmap"
           }
          ],
          "heatmapgl": [
           {
            "colorbar": {
             "outlinewidth": 0,
             "ticks": ""
            },
            "colorscale": [
             [
              0,
              "#0d0887"
             ],
             [
              0.1111111111111111,
              "#46039f"
             ],
             [
              0.2222222222222222,
              "#7201a8"
             ],
             [
              0.3333333333333333,
              "#9c179e"
             ],
             [
              0.4444444444444444,
              "#bd3786"
             ],
             [
              0.5555555555555556,
              "#d8576b"
             ],
             [
              0.6666666666666666,
              "#ed7953"
             ],
             [
              0.7777777777777778,
              "#fb9f3a"
             ],
             [
              0.8888888888888888,
              "#fdca26"
             ],
             [
              1,
              "#f0f921"
             ]
            ],
            "type": "heatmapgl"
           }
          ],
          "histogram": [
           {
            "marker": {
             "pattern": {
              "fillmode": "overlay",
              "size": 10,
              "solidity": 0.2
             }
            },
            "type": "histogram"
           }
          ],
          "histogram2d": [
           {
            "colorbar": {
             "outlinewidth": 0,
             "ticks": ""
            },
            "colorscale": [
             [
              0,
              "#0d0887"
             ],
             [
              0.1111111111111111,
              "#46039f"
             ],
             [
              0.2222222222222222,
              "#7201a8"
             ],
             [
              0.3333333333333333,
              "#9c179e"
             ],
             [
              0.4444444444444444,
              "#bd3786"
             ],
             [
              0.5555555555555556,
              "#d8576b"
             ],
             [
              0.6666666666666666,
              "#ed7953"
             ],
             [
              0.7777777777777778,
              "#fb9f3a"
             ],
             [
              0.8888888888888888,
              "#fdca26"
             ],
             [
              1,
              "#f0f921"
             ]
            ],
            "type": "histogram2d"
           }
          ],
          "histogram2dcontour": [
           {
            "colorbar": {
             "outlinewidth": 0,
             "ticks": ""
            },
            "colorscale": [
             [
              0,
              "#0d0887"
             ],
             [
              0.1111111111111111,
              "#46039f"
             ],
             [
              0.2222222222222222,
              "#7201a8"
             ],
             [
              0.3333333333333333,
              "#9c179e"
             ],
             [
              0.4444444444444444,
              "#bd3786"
             ],
             [
              0.5555555555555556,
              "#d8576b"
             ],
             [
              0.6666666666666666,
              "#ed7953"
             ],
             [
              0.7777777777777778,
              "#fb9f3a"
             ],
             [
              0.8888888888888888,
              "#fdca26"
             ],
             [
              1,
              "#f0f921"
             ]
            ],
            "type": "histogram2dcontour"
           }
          ],
          "mesh3d": [
           {
            "colorbar": {
             "outlinewidth": 0,
             "ticks": ""
            },
            "type": "mesh3d"
           }
          ],
          "parcoords": [
           {
            "line": {
             "colorbar": {
              "outlinewidth": 0,
              "ticks": ""
             }
            },
            "type": "parcoords"
           }
          ],
          "pie": [
           {
            "automargin": true,
            "type": "pie"
           }
          ],
          "scatter": [
           {
            "fillpattern": {
             "fillmode": "overlay",
             "size": 10,
             "solidity": 0.2
            },
            "type": "scatter"
           }
          ],
          "scatter3d": [
           {
            "line": {
             "colorbar": {
              "outlinewidth": 0,
              "ticks": ""
             }
            },
            "marker": {
             "colorbar": {
              "outlinewidth": 0,
              "ticks": ""
             }
            },
            "type": "scatter3d"
           }
          ],
          "scattercarpet": [
           {
            "marker": {
             "colorbar": {
              "outlinewidth": 0,
              "ticks": ""
             }
            },
            "type": "scattercarpet"
           }
          ],
          "scattergeo": [
           {
            "marker": {
             "colorbar": {
              "outlinewidth": 0,
              "ticks": ""
             }
            },
            "type": "scattergeo"
           }
          ],
          "scattergl": [
           {
            "marker": {
             "colorbar": {
              "outlinewidth": 0,
              "ticks": ""
             }
            },
            "type": "scattergl"
           }
          ],
          "scattermapbox": [
           {
            "marker": {
             "colorbar": {
              "outlinewidth": 0,
              "ticks": ""
             }
            },
            "type": "scattermapbox"
           }
          ],
          "scatterpolar": [
           {
            "marker": {
             "colorbar": {
              "outlinewidth": 0,
              "ticks": ""
             }
            },
            "type": "scatterpolar"
           }
          ],
          "scatterpolargl": [
           {
            "marker": {
             "colorbar": {
              "outlinewidth": 0,
              "ticks": ""
             }
            },
            "type": "scatterpolargl"
           }
          ],
          "scatterternary": [
           {
            "marker": {
             "colorbar": {
              "outlinewidth": 0,
              "ticks": ""
             }
            },
            "type": "scatterternary"
           }
          ],
          "surface": [
           {
            "colorbar": {
             "outlinewidth": 0,
             "ticks": ""
            },
            "colorscale": [
             [
              0,
              "#0d0887"
             ],
             [
              0.1111111111111111,
              "#46039f"
             ],
             [
              0.2222222222222222,
              "#7201a8"
             ],
             [
              0.3333333333333333,
              "#9c179e"
             ],
             [
              0.4444444444444444,
              "#bd3786"
             ],
             [
              0.5555555555555556,
              "#d8576b"
             ],
             [
              0.6666666666666666,
              "#ed7953"
             ],
             [
              0.7777777777777778,
              "#fb9f3a"
             ],
             [
              0.8888888888888888,
              "#fdca26"
             ],
             [
              1,
              "#f0f921"
             ]
            ],
            "type": "surface"
           }
          ],
          "table": [
           {
            "cells": {
             "fill": {
              "color": "#EBF0F8"
             },
             "line": {
              "color": "white"
             }
            },
            "header": {
             "fill": {
              "color": "#C8D4E3"
             },
             "line": {
              "color": "white"
             }
            },
            "type": "table"
           }
          ]
         },
         "layout": {
          "annotationdefaults": {
           "arrowcolor": "#2a3f5f",
           "arrowhead": 0,
           "arrowwidth": 1
          },
          "autotypenumbers": "strict",
          "coloraxis": {
           "colorbar": {
            "outlinewidth": 0,
            "ticks": ""
           }
          },
          "colorscale": {
           "diverging": [
            [
             0,
             "#8e0152"
            ],
            [
             0.1,
             "#c51b7d"
            ],
            [
             0.2,
             "#de77ae"
            ],
            [
             0.3,
             "#f1b6da"
            ],
            [
             0.4,
             "#fde0ef"
            ],
            [
             0.5,
             "#f7f7f7"
            ],
            [
             0.6,
             "#e6f5d0"
            ],
            [
             0.7,
             "#b8e186"
            ],
            [
             0.8,
             "#7fbc41"
            ],
            [
             0.9,
             "#4d9221"
            ],
            [
             1,
             "#276419"
            ]
           ],
           "sequential": [
            [
             0,
             "#0d0887"
            ],
            [
             0.1111111111111111,
             "#46039f"
            ],
            [
             0.2222222222222222,
             "#7201a8"
            ],
            [
             0.3333333333333333,
             "#9c179e"
            ],
            [
             0.4444444444444444,
             "#bd3786"
            ],
            [
             0.5555555555555556,
             "#d8576b"
            ],
            [
             0.6666666666666666,
             "#ed7953"
            ],
            [
             0.7777777777777778,
             "#fb9f3a"
            ],
            [
             0.8888888888888888,
             "#fdca26"
            ],
            [
             1,
             "#f0f921"
            ]
           ],
           "sequentialminus": [
            [
             0,
             "#0d0887"
            ],
            [
             0.1111111111111111,
             "#46039f"
            ],
            [
             0.2222222222222222,
             "#7201a8"
            ],
            [
             0.3333333333333333,
             "#9c179e"
            ],
            [
             0.4444444444444444,
             "#bd3786"
            ],
            [
             0.5555555555555556,
             "#d8576b"
            ],
            [
             0.6666666666666666,
             "#ed7953"
            ],
            [
             0.7777777777777778,
             "#fb9f3a"
            ],
            [
             0.8888888888888888,
             "#fdca26"
            ],
            [
             1,
             "#f0f921"
            ]
           ]
          },
          "colorway": [
           "#636efa",
           "#EF553B",
           "#00cc96",
           "#ab63fa",
           "#FFA15A",
           "#19d3f3",
           "#FF6692",
           "#B6E880",
           "#FF97FF",
           "#FECB52"
          ],
          "font": {
           "color": "#2a3f5f"
          },
          "geo": {
           "bgcolor": "white",
           "lakecolor": "white",
           "landcolor": "#E5ECF6",
           "showlakes": true,
           "showland": true,
           "subunitcolor": "white"
          },
          "hoverlabel": {
           "align": "left"
          },
          "hovermode": "closest",
          "mapbox": {
           "style": "light"
          },
          "paper_bgcolor": "white",
          "plot_bgcolor": "#E5ECF6",
          "polar": {
           "angularaxis": {
            "gridcolor": "white",
            "linecolor": "white",
            "ticks": ""
           },
           "bgcolor": "#E5ECF6",
           "radialaxis": {
            "gridcolor": "white",
            "linecolor": "white",
            "ticks": ""
           }
          },
          "scene": {
           "xaxis": {
            "backgroundcolor": "#E5ECF6",
            "gridcolor": "white",
            "gridwidth": 2,
            "linecolor": "white",
            "showbackground": true,
            "ticks": "",
            "zerolinecolor": "white"
           },
           "yaxis": {
            "backgroundcolor": "#E5ECF6",
            "gridcolor": "white",
            "gridwidth": 2,
            "linecolor": "white",
            "showbackground": true,
            "ticks": "",
            "zerolinecolor": "white"
           },
           "zaxis": {
            "backgroundcolor": "#E5ECF6",
            "gridcolor": "white",
            "gridwidth": 2,
            "linecolor": "white",
            "showbackground": true,
            "ticks": "",
            "zerolinecolor": "white"
           }
          },
          "shapedefaults": {
           "line": {
            "color": "#2a3f5f"
           }
          },
          "ternary": {
           "aaxis": {
            "gridcolor": "white",
            "linecolor": "white",
            "ticks": ""
           },
           "baxis": {
            "gridcolor": "white",
            "linecolor": "white",
            "ticks": ""
           },
           "bgcolor": "#E5ECF6",
           "caxis": {
            "gridcolor": "white",
            "linecolor": "white",
            "ticks": ""
           }
          },
          "title": {
           "x": 0.05
          },
          "xaxis": {
           "automargin": true,
           "gridcolor": "white",
           "linecolor": "white",
           "ticks": "",
           "title": {
            "standoff": 15
           },
           "zerolinecolor": "white",
           "zerolinewidth": 2
          },
          "yaxis": {
           "automargin": true,
           "gridcolor": "white",
           "linecolor": "white",
           "ticks": "",
           "title": {
            "standoff": 15
           },
           "zerolinecolor": "white",
           "zerolinewidth": 2
          }
         }
        },
        "width": 800,
        "xaxis": {
         "anchor": "y",
         "domain": [
          0,
          1
         ],
         "title": {
          "text": "System"
         }
        },
        "yaxis": {
         "anchor": "x",
         "domain": [
          0,
          1
         ],
         "title": {
          "text": "Energy cost"
         },
         "type": "log"
        }
       }
      }
     },
     "metadata": {},
     "output_type": "display_data"
    }
   ],
   "source": [
    "# Stacked bar chart of cost components, using component_cost_df\n",
    "component_cost_df = component_cost_df.dropna(subset=['Cost'])\n",
    "component_cost_df.loc[:, 'Hardware cost'] = [cost['hardware'] for cost in component_cost_df['Cost']]\n",
    "component_cost_df.loc[:, 'Energy cost'] = [cost['energy'] for cost in component_cost_df['Cost']]\n",
    "fig = px.scatter(\n",
    "    component_cost_df.dropna(subset=['Cost']).sort_values(by='Publication date'),\n",
    "    x='Publication date',\n",
    "    y='Energy cost',\n",
    "    text='System',\n",
    ")\n",
    "# axis labels\n",
    "fig.update_xaxes(title_text='System')\n",
    "fig.update_yaxes(title_text='Energy cost')\n",
    "# log y\n",
    "fig.update_yaxes(type='log')\n",
    "# size\n",
    "fig.update_layout(\n",
    "    autosize=False,\n",
    "    width=800,\n",
    "    height=600,\n",
    ")\n",
    "\n",
    "# margins\n",
    "fig.update_layout(margin=dict(l=10, r=10, t=40, b=10))\n",
    "\n",
    "save_plot(fig, results_dir, 'energy_cost')\n",
    "\n",
    "fig.show()"
   ]
  },
  {
   "cell_type": "code",
   "execution_count": null,
   "metadata": {},
   "outputs": [
    {
     "data": {
      "application/vnd.plotly.v1+json": {
       "config": {
        "plotlyServerURL": "https://plot.ly"
       },
       "data": [
        {
         "hovertemplate": "Publication date=%{x}<br>Energy (kWh)=%{y}<br>System=%{text}<extra></extra>",
         "legendgroup": "",
         "marker": {
          "color": "#636efa",
          "symbol": "circle"
         },
         "mode": "markers+text",
         "name": "",
         "orientation": "v",
         "showlegend": false,
         "text": [
          "Gemini Ultra",
          "Inflection-2",
          "Falcon-180B",
          "Llama 2-70B",
          "xTrimoPGLM -100B",
          "PaLM 2",
          "GPT-4",
          "LLaMA-65B",
          "GPT-3.5 (text-davinci-003)",
          "BLOOM-176B",
          "U-PaLM (540B)",
          "BlenderBot 3",
          "GLM-130B",
          "Minerva (540B)",
          "Parti",
          "OPT-175B",
          "PaLM (540B)",
          "LaMDA",
          "GLaM",
          "Gopher (280B)",
          "Megatron-Turing NLG 530B",
          "HyperCLOVA",
          "GOAT",
          "ByT5-XXL",
          "ProtT5-XXL",
          "Meta Pseudo Labels",
          "Switch",
          "DALL-E",
          "iGPT-XL",
          "GPT-3 175B (davinci)",
          "Turing-NLG",
          "Meena",
          "AlphaStar",
          "T5-11B",
          "Megatron-BERT",
          "Megatron-LM (8.3B)",
          "RoBERTa Large",
          "BigGAN-deep 512x512",
          "AlphaZero",
          "AlphaGo Zero",
          "JFT",
          "MoE",
          "AlphaGo Master",
          "PolyNet",
          "Xception",
          "GNMT",
          "DeepSpeech2 (English)"
         ],
         "type": "scatter",
         "x": [
          "2023-12-06T00:00:00",
          "2023-11-22T00:00:00",
          "2023-09-06T00:00:00",
          "2023-07-18T00:00:00",
          "2023-07-06T00:00:00",
          "2023-05-10T00:00:00",
          "2023-03-15T00:00:00",
          "2023-02-24T00:00:00",
          "2022-11-28T00:00:00",
          "2022-11-08T00:00:00",
          "2022-10-20T00:00:00",
          "2022-08-10T00:00:00",
          "2022-08-04T00:00:00",
          "2022-06-29T00:00:00",
          "2022-06-22T00:00:00",
          "2022-05-02T00:00:00",
          "2022-04-04T00:00:00",
          "2022-02-10T00:00:00",
          "2021-12-13T00:00:00",
          "2021-12-08T00:00:00",
          "2021-10-11T00:00:00",
          "2021-09-10T00:00:00",
          "2021-07-27T00:00:00",
          "2021-05-28T00:00:00",
          "2021-05-04T00:00:00",
          "2021-03-01T00:00:00",
          "2021-01-11T00:00:00",
          "2021-01-05T00:00:00",
          "2020-06-17T00:00:00",
          "2020-05-28T00:00:00",
          "2020-02-13T00:00:00",
          "2020-01-28T00:00:00",
          "2019-10-30T00:00:00",
          "2019-10-23T00:00:00",
          "2019-09-17T00:00:00",
          "2019-09-17T00:00:00",
          "2019-07-01T00:00:00",
          "2018-09-28T00:00:00",
          "2017-12-05T00:00:00",
          "2017-10-18T00:00:00",
          "2017-07-10T00:00:00",
          "2017-01-23T00:00:00",
          "2017-01-01T00:00:00",
          "2016-11-17T00:00:00",
          "2016-10-07T00:00:00",
          "2016-09-26T00:00:00",
          "2015-12-08T00:00:00"
         ],
         "xaxis": "x",
         "y": [
          36330259.68000001,
          8961598.415908324,
          13478400,
          1158300.0000000002,
          2288520,
          5441569.351111111,
          43417968.75,
          686400.0000000001,
          4662181.712962963,
          821340,
          2330209.64487168,
          1228975.5296296296,
          842400,
          2509456.54063104,
          293792.5070946837,
          544658.4,
          2313299.56036608,
          443752.4044800001,
          384986.25724416005,
          1179067.7606400002,
          2312310.0000000005,
          501696.00000000006,
          146976.09756097564,
          152629.02439024393,
          138873.5691056911,
          84585.29587200002,
          207618.45350400003,
          130555.55555555558,
          91666.66666666667,
          1665000,
          38377.77777777778,
          230687.17056000003,
          126877.94380800001,
          77200.10242560001,
          278400,
          78480,
          50688.00000000001,
          3844.7861760000005,
          131140.68779348026,
          285379.5229468599,
          32076.000000000004,
          6706.0224,
          167386.38822463853,
          2989.536621823617,
          19245.600000000002,
          184757.76000000004,
          1012.0827105132038
         ],
         "yaxis": "y"
        }
       ],
       "layout": {
        "autosize": false,
        "height": 600,
        "legend": {
         "tracegroupgap": 0
        },
        "margin": {
         "b": 10,
         "l": 10,
         "r": 10,
         "t": 40
        },
        "template": {
         "data": {
          "bar": [
           {
            "error_x": {
             "color": "#2a3f5f"
            },
            "error_y": {
             "color": "#2a3f5f"
            },
            "marker": {
             "line": {
              "color": "#E5ECF6",
              "width": 0.5
             },
             "pattern": {
              "fillmode": "overlay",
              "size": 10,
              "solidity": 0.2
             }
            },
            "type": "bar"
           }
          ],
          "barpolar": [
           {
            "marker": {
             "line": {
              "color": "#E5ECF6",
              "width": 0.5
             },
             "pattern": {
              "fillmode": "overlay",
              "size": 10,
              "solidity": 0.2
             }
            },
            "type": "barpolar"
           }
          ],
          "carpet": [
           {
            "aaxis": {
             "endlinecolor": "#2a3f5f",
             "gridcolor": "white",
             "linecolor": "white",
             "minorgridcolor": "white",
             "startlinecolor": "#2a3f5f"
            },
            "baxis": {
             "endlinecolor": "#2a3f5f",
             "gridcolor": "white",
             "linecolor": "white",
             "minorgridcolor": "white",
             "startlinecolor": "#2a3f5f"
            },
            "type": "carpet"
           }
          ],
          "choropleth": [
           {
            "colorbar": {
             "outlinewidth": 0,
             "ticks": ""
            },
            "type": "choropleth"
           }
          ],
          "contour": [
           {
            "colorbar": {
             "outlinewidth": 0,
             "ticks": ""
            },
            "colorscale": [
             [
              0,
              "#0d0887"
             ],
             [
              0.1111111111111111,
              "#46039f"
             ],
             [
              0.2222222222222222,
              "#7201a8"
             ],
             [
              0.3333333333333333,
              "#9c179e"
             ],
             [
              0.4444444444444444,
              "#bd3786"
             ],
             [
              0.5555555555555556,
              "#d8576b"
             ],
             [
              0.6666666666666666,
              "#ed7953"
             ],
             [
              0.7777777777777778,
              "#fb9f3a"
             ],
             [
              0.8888888888888888,
              "#fdca26"
             ],
             [
              1,
              "#f0f921"
             ]
            ],
            "type": "contour"
           }
          ],
          "contourcarpet": [
           {
            "colorbar": {
             "outlinewidth": 0,
             "ticks": ""
            },
            "type": "contourcarpet"
           }
          ],
          "heatmap": [
           {
            "colorbar": {
             "outlinewidth": 0,
             "ticks": ""
            },
            "colorscale": [
             [
              0,
              "#0d0887"
             ],
             [
              0.1111111111111111,
              "#46039f"
             ],
             [
              0.2222222222222222,
              "#7201a8"
             ],
             [
              0.3333333333333333,
              "#9c179e"
             ],
             [
              0.4444444444444444,
              "#bd3786"
             ],
             [
              0.5555555555555556,
              "#d8576b"
             ],
             [
              0.6666666666666666,
              "#ed7953"
             ],
             [
              0.7777777777777778,
              "#fb9f3a"
             ],
             [
              0.8888888888888888,
              "#fdca26"
             ],
             [
              1,
              "#f0f921"
             ]
            ],
            "type": "heatmap"
           }
          ],
          "heatmapgl": [
           {
            "colorbar": {
             "outlinewidth": 0,
             "ticks": ""
            },
            "colorscale": [
             [
              0,
              "#0d0887"
             ],
             [
              0.1111111111111111,
              "#46039f"
             ],
             [
              0.2222222222222222,
              "#7201a8"
             ],
             [
              0.3333333333333333,
              "#9c179e"
             ],
             [
              0.4444444444444444,
              "#bd3786"
             ],
             [
              0.5555555555555556,
              "#d8576b"
             ],
             [
              0.6666666666666666,
              "#ed7953"
             ],
             [
              0.7777777777777778,
              "#fb9f3a"
             ],
             [
              0.8888888888888888,
              "#fdca26"
             ],
             [
              1,
              "#f0f921"
             ]
            ],
            "type": "heatmapgl"
           }
          ],
          "histogram": [
           {
            "marker": {
             "pattern": {
              "fillmode": "overlay",
              "size": 10,
              "solidity": 0.2
             }
            },
            "type": "histogram"
           }
          ],
          "histogram2d": [
           {
            "colorbar": {
             "outlinewidth": 0,
             "ticks": ""
            },
            "colorscale": [
             [
              0,
              "#0d0887"
             ],
             [
              0.1111111111111111,
              "#46039f"
             ],
             [
              0.2222222222222222,
              "#7201a8"
             ],
             [
              0.3333333333333333,
              "#9c179e"
             ],
             [
              0.4444444444444444,
              "#bd3786"
             ],
             [
              0.5555555555555556,
              "#d8576b"
             ],
             [
              0.6666666666666666,
              "#ed7953"
             ],
             [
              0.7777777777777778,
              "#fb9f3a"
             ],
             [
              0.8888888888888888,
              "#fdca26"
             ],
             [
              1,
              "#f0f921"
             ]
            ],
            "type": "histogram2d"
           }
          ],
          "histogram2dcontour": [
           {
            "colorbar": {
             "outlinewidth": 0,
             "ticks": ""
            },
            "colorscale": [
             [
              0,
              "#0d0887"
             ],
             [
              0.1111111111111111,
              "#46039f"
             ],
             [
              0.2222222222222222,
              "#7201a8"
             ],
             [
              0.3333333333333333,
              "#9c179e"
             ],
             [
              0.4444444444444444,
              "#bd3786"
             ],
             [
              0.5555555555555556,
              "#d8576b"
             ],
             [
              0.6666666666666666,
              "#ed7953"
             ],
             [
              0.7777777777777778,
              "#fb9f3a"
             ],
             [
              0.8888888888888888,
              "#fdca26"
             ],
             [
              1,
              "#f0f921"
             ]
            ],
            "type": "histogram2dcontour"
           }
          ],
          "mesh3d": [
           {
            "colorbar": {
             "outlinewidth": 0,
             "ticks": ""
            },
            "type": "mesh3d"
           }
          ],
          "parcoords": [
           {
            "line": {
             "colorbar": {
              "outlinewidth": 0,
              "ticks": ""
             }
            },
            "type": "parcoords"
           }
          ],
          "pie": [
           {
            "automargin": true,
            "type": "pie"
           }
          ],
          "scatter": [
           {
            "fillpattern": {
             "fillmode": "overlay",
             "size": 10,
             "solidity": 0.2
            },
            "type": "scatter"
           }
          ],
          "scatter3d": [
           {
            "line": {
             "colorbar": {
              "outlinewidth": 0,
              "ticks": ""
             }
            },
            "marker": {
             "colorbar": {
              "outlinewidth": 0,
              "ticks": ""
             }
            },
            "type": "scatter3d"
           }
          ],
          "scattercarpet": [
           {
            "marker": {
             "colorbar": {
              "outlinewidth": 0,
              "ticks": ""
             }
            },
            "type": "scattercarpet"
           }
          ],
          "scattergeo": [
           {
            "marker": {
             "colorbar": {
              "outlinewidth": 0,
              "ticks": ""
             }
            },
            "type": "scattergeo"
           }
          ],
          "scattergl": [
           {
            "marker": {
             "colorbar": {
              "outlinewidth": 0,
              "ticks": ""
             }
            },
            "type": "scattergl"
           }
          ],
          "scattermapbox": [
           {
            "marker": {
             "colorbar": {
              "outlinewidth": 0,
              "ticks": ""
             }
            },
            "type": "scattermapbox"
           }
          ],
          "scatterpolar": [
           {
            "marker": {
             "colorbar": {
              "outlinewidth": 0,
              "ticks": ""
             }
            },
            "type": "scatterpolar"
           }
          ],
          "scatterpolargl": [
           {
            "marker": {
             "colorbar": {
              "outlinewidth": 0,
              "ticks": ""
             }
            },
            "type": "scatterpolargl"
           }
          ],
          "scatterternary": [
           {
            "marker": {
             "colorbar": {
              "outlinewidth": 0,
              "ticks": ""
             }
            },
            "type": "scatterternary"
           }
          ],
          "surface": [
           {
            "colorbar": {
             "outlinewidth": 0,
             "ticks": ""
            },
            "colorscale": [
             [
              0,
              "#0d0887"
             ],
             [
              0.1111111111111111,
              "#46039f"
             ],
             [
              0.2222222222222222,
              "#7201a8"
             ],
             [
              0.3333333333333333,
              "#9c179e"
             ],
             [
              0.4444444444444444,
              "#bd3786"
             ],
             [
              0.5555555555555556,
              "#d8576b"
             ],
             [
              0.6666666666666666,
              "#ed7953"
             ],
             [
              0.7777777777777778,
              "#fb9f3a"
             ],
             [
              0.8888888888888888,
              "#fdca26"
             ],
             [
              1,
              "#f0f921"
             ]
            ],
            "type": "surface"
           }
          ],
          "table": [
           {
            "cells": {
             "fill": {
              "color": "#EBF0F8"
             },
             "line": {
              "color": "white"
             }
            },
            "header": {
             "fill": {
              "color": "#C8D4E3"
             },
             "line": {
              "color": "white"
             }
            },
            "type": "table"
           }
          ]
         },
         "layout": {
          "annotationdefaults": {
           "arrowcolor": "#2a3f5f",
           "arrowhead": 0,
           "arrowwidth": 1
          },
          "autotypenumbers": "strict",
          "coloraxis": {
           "colorbar": {
            "outlinewidth": 0,
            "ticks": ""
           }
          },
          "colorscale": {
           "diverging": [
            [
             0,
             "#8e0152"
            ],
            [
             0.1,
             "#c51b7d"
            ],
            [
             0.2,
             "#de77ae"
            ],
            [
             0.3,
             "#f1b6da"
            ],
            [
             0.4,
             "#fde0ef"
            ],
            [
             0.5,
             "#f7f7f7"
            ],
            [
             0.6,
             "#e6f5d0"
            ],
            [
             0.7,
             "#b8e186"
            ],
            [
             0.8,
             "#7fbc41"
            ],
            [
             0.9,
             "#4d9221"
            ],
            [
             1,
             "#276419"
            ]
           ],
           "sequential": [
            [
             0,
             "#0d0887"
            ],
            [
             0.1111111111111111,
             "#46039f"
            ],
            [
             0.2222222222222222,
             "#7201a8"
            ],
            [
             0.3333333333333333,
             "#9c179e"
            ],
            [
             0.4444444444444444,
             "#bd3786"
            ],
            [
             0.5555555555555556,
             "#d8576b"
            ],
            [
             0.6666666666666666,
             "#ed7953"
            ],
            [
             0.7777777777777778,
             "#fb9f3a"
            ],
            [
             0.8888888888888888,
             "#fdca26"
            ],
            [
             1,
             "#f0f921"
            ]
           ],
           "sequentialminus": [
            [
             0,
             "#0d0887"
            ],
            [
             0.1111111111111111,
             "#46039f"
            ],
            [
             0.2222222222222222,
             "#7201a8"
            ],
            [
             0.3333333333333333,
             "#9c179e"
            ],
            [
             0.4444444444444444,
             "#bd3786"
            ],
            [
             0.5555555555555556,
             "#d8576b"
            ],
            [
             0.6666666666666666,
             "#ed7953"
            ],
            [
             0.7777777777777778,
             "#fb9f3a"
            ],
            [
             0.8888888888888888,
             "#fdca26"
            ],
            [
             1,
             "#f0f921"
            ]
           ]
          },
          "colorway": [
           "#636efa",
           "#EF553B",
           "#00cc96",
           "#ab63fa",
           "#FFA15A",
           "#19d3f3",
           "#FF6692",
           "#B6E880",
           "#FF97FF",
           "#FECB52"
          ],
          "font": {
           "color": "#2a3f5f"
          },
          "geo": {
           "bgcolor": "white",
           "lakecolor": "white",
           "landcolor": "#E5ECF6",
           "showlakes": true,
           "showland": true,
           "subunitcolor": "white"
          },
          "hoverlabel": {
           "align": "left"
          },
          "hovermode": "closest",
          "mapbox": {
           "style": "light"
          },
          "paper_bgcolor": "white",
          "plot_bgcolor": "#E5ECF6",
          "polar": {
           "angularaxis": {
            "gridcolor": "white",
            "linecolor": "white",
            "ticks": ""
           },
           "bgcolor": "#E5ECF6",
           "radialaxis": {
            "gridcolor": "white",
            "linecolor": "white",
            "ticks": ""
           }
          },
          "scene": {
           "xaxis": {
            "backgroundcolor": "#E5ECF6",
            "gridcolor": "white",
            "gridwidth": 2,
            "linecolor": "white",
            "showbackground": true,
            "ticks": "",
            "zerolinecolor": "white"
           },
           "yaxis": {
            "backgroundcolor": "#E5ECF6",
            "gridcolor": "white",
            "gridwidth": 2,
            "linecolor": "white",
            "showbackground": true,
            "ticks": "",
            "zerolinecolor": "white"
           },
           "zaxis": {
            "backgroundcolor": "#E5ECF6",
            "gridcolor": "white",
            "gridwidth": 2,
            "linecolor": "white",
            "showbackground": true,
            "ticks": "",
            "zerolinecolor": "white"
           }
          },
          "shapedefaults": {
           "line": {
            "color": "#2a3f5f"
           }
          },
          "ternary": {
           "aaxis": {
            "gridcolor": "white",
            "linecolor": "white",
            "ticks": ""
           },
           "baxis": {
            "gridcolor": "white",
            "linecolor": "white",
            "ticks": ""
           },
           "bgcolor": "#E5ECF6",
           "caxis": {
            "gridcolor": "white",
            "linecolor": "white",
            "ticks": ""
           }
          },
          "title": {
           "x": 0.05
          },
          "xaxis": {
           "automargin": true,
           "gridcolor": "white",
           "linecolor": "white",
           "ticks": "",
           "title": {
            "standoff": 15
           },
           "zerolinecolor": "white",
           "zerolinewidth": 2
          },
          "yaxis": {
           "automargin": true,
           "gridcolor": "white",
           "linecolor": "white",
           "ticks": "",
           "title": {
            "standoff": 15
           },
           "zerolinecolor": "white",
           "zerolinewidth": 2
          }
         }
        },
        "width": 800,
        "xaxis": {
         "anchor": "y",
         "domain": [
          0,
          1
         ],
         "title": {
          "text": "Publication date"
         }
        },
        "yaxis": {
         "anchor": "x",
         "domain": [
          0,
          1
         ],
         "title": {
          "text": "Energy (kWh)"
         },
         "type": "log"
        }
       }
      }
     },
     "metadata": {},
     "output_type": "display_data"
    }
   ],
   "source": [
    "from energy import energy_price\n",
    "\n",
    "# Stacked bar chart of cost components, using component_cost_df\n",
    "component_cost_df = component_cost_df.dropna(subset=['Cost'])\n",
    "component_cost_df.loc[:, 'Hardware cost'] = [cost['hardware'] for cost in component_cost_df['Cost']]\n",
    "component_cost_df.loc[:, 'Energy (kWh)'] = [row['Cost']['energy'] / energy_price(row['Publication date'].year) for _, row in component_cost_df.iterrows()]\n",
    "fig = px.scatter(\n",
    "    component_cost_df,\n",
    "    x='Publication date',\n",
    "    y='Energy (kWh)',\n",
    "    text='System',\n",
    ")\n",
    "# log y\n",
    "fig.update_yaxes(type='log')\n",
    "# size\n",
    "fig.update_layout(\n",
    "    autosize=False,\n",
    "    width=800,\n",
    "    height=600,\n",
    ")\n",
    "\n",
    "# margins\n",
    "fig.update_layout(margin=dict(l=10, r=10, t=40, b=10))\n",
    "\n",
    "save_plot(fig, results_dir, 'energy_kwh')\n",
    "\n",
    "fig.show()"
   ]
  },
  {
   "cell_type": "code",
   "execution_count": null,
   "metadata": {},
   "outputs": [
    {
     "data": {
      "application/vnd.plotly.v1+json": {
       "config": {
        "plotlyServerURL": "https://plot.ly"
       },
       "data": [
        {
         "hovertemplate": "Publication date=%{x}<br>Power capacity for 3-month training run (kW)=%{y}<br>System=%{text}<extra></extra>",
         "legendgroup": "",
         "marker": {
          "color": "#636efa",
          "symbol": "circle"
         },
         "mode": "markers+text",
         "name": "",
         "orientation": "v",
         "showlegend": false,
         "text": [
          "Gemini Ultra",
          "Inflection-2",
          "Falcon-180B",
          "Llama 2-70B",
          "xTrimoPGLM -100B",
          "PaLM 2",
          "GPT-4",
          "LLaMA-65B",
          "GPT-3.5 (text-davinci-003)",
          "BLOOM-176B",
          "U-PaLM (540B)",
          "BlenderBot 3",
          "GLM-130B",
          "Minerva (540B)",
          "Parti",
          "OPT-175B",
          "PaLM (540B)",
          "LaMDA",
          "GLaM",
          "Gopher (280B)",
          "Megatron-Turing NLG 530B",
          "HyperCLOVA",
          "GOAT",
          "ByT5-XXL",
          "ProtT5-XXL",
          "Meta Pseudo Labels",
          "Switch",
          "DALL-E",
          "iGPT-XL",
          "GPT-3 175B (davinci)",
          "Turing-NLG",
          "Meena",
          "AlphaStar",
          "T5-11B",
          "Megatron-BERT",
          "Megatron-LM (8.3B)",
          "RoBERTa Large",
          "BigGAN-deep 512x512",
          "AlphaZero",
          "AlphaGo Zero",
          "JFT",
          "MoE",
          "AlphaGo Master",
          "PolyNet",
          "Xception",
          "GNMT",
          "DeepSpeech2 (English)"
         ],
         "type": "scatter",
         "x": [
          "2023-12-06T00:00:00",
          "2023-11-22T00:00:00",
          "2023-09-06T00:00:00",
          "2023-07-18T00:00:00",
          "2023-07-06T00:00:00",
          "2023-05-10T00:00:00",
          "2023-03-15T00:00:00",
          "2023-02-24T00:00:00",
          "2022-11-28T00:00:00",
          "2022-11-08T00:00:00",
          "2022-10-20T00:00:00",
          "2022-08-10T00:00:00",
          "2022-08-04T00:00:00",
          "2022-06-29T00:00:00",
          "2022-06-22T00:00:00",
          "2022-05-02T00:00:00",
          "2022-04-04T00:00:00",
          "2022-02-10T00:00:00",
          "2021-12-13T00:00:00",
          "2021-12-08T00:00:00",
          "2021-10-11T00:00:00",
          "2021-09-10T00:00:00",
          "2021-07-27T00:00:00",
          "2021-05-28T00:00:00",
          "2021-05-04T00:00:00",
          "2021-03-01T00:00:00",
          "2021-01-11T00:00:00",
          "2021-01-05T00:00:00",
          "2020-06-17T00:00:00",
          "2020-05-28T00:00:00",
          "2020-02-13T00:00:00",
          "2020-01-28T00:00:00",
          "2019-10-30T00:00:00",
          "2019-10-23T00:00:00",
          "2019-09-17T00:00:00",
          "2019-09-17T00:00:00",
          "2019-07-01T00:00:00",
          "2018-09-28T00:00:00",
          "2017-12-05T00:00:00",
          "2017-10-18T00:00:00",
          "2017-07-10T00:00:00",
          "2017-01-23T00:00:00",
          "2017-01-01T00:00:00",
          "2016-11-17T00:00:00",
          "2016-10-07T00:00:00",
          "2016-09-26T00:00:00",
          "2015-12-08T00:00:00"
         ],
         "xaxis": "x",
         "y": [
          38553.03490759755,
          5452.3376171014215,
          8200.410677618069,
          704.7227926078031,
          1392.3613963039015,
          5774.498035338555,
          26415.98220396988,
          417.61350673054994,
          2836.523971686341,
          499.71252566735114,
          2472.777639687885,
          747.7225824805715,
          512.5256673511293,
          2662.991304279261,
          311.7674600010439,
          331.3763175906913,
          2454.8329543490763,
          470.9022751540042,
          408.54066954688574,
          1251.2060451745383,
          1406.8355007985401,
          305.23750855578373,
          155.96845906857428,
          161.96724595582714,
          147.3701978635119,
          89.76043367556471,
          220.32106447638608,
          79.43147345383258,
          55.771034552690956,
          1013.0047912388774,
          23.349473132726615,
          244.80118275154007,
          134.64065051334703,
          81.92339581108831,
          169.38170203057265,
          47.74811772758385,
          30.839151266255993,
          4.080019712525668,
          139.16419972884694,
          302.83974865559844,
          19.51540041067762,
          4.080019712525667,
          177.62750184342096,
          1.818867820715563,
          11.709240246406573,
          112.40870636550311,
          0.6157625434714146
         ],
         "yaxis": "y"
        }
       ],
       "layout": {
        "autosize": false,
        "height": 600,
        "legend": {
         "tracegroupgap": 0
        },
        "margin": {
         "b": 10,
         "l": 10,
         "r": 10,
         "t": 40
        },
        "template": {
         "data": {
          "bar": [
           {
            "error_x": {
             "color": "#2a3f5f"
            },
            "error_y": {
             "color": "#2a3f5f"
            },
            "marker": {
             "line": {
              "color": "#E5ECF6",
              "width": 0.5
             },
             "pattern": {
              "fillmode": "overlay",
              "size": 10,
              "solidity": 0.2
             }
            },
            "type": "bar"
           }
          ],
          "barpolar": [
           {
            "marker": {
             "line": {
              "color": "#E5ECF6",
              "width": 0.5
             },
             "pattern": {
              "fillmode": "overlay",
              "size": 10,
              "solidity": 0.2
             }
            },
            "type": "barpolar"
           }
          ],
          "carpet": [
           {
            "aaxis": {
             "endlinecolor": "#2a3f5f",
             "gridcolor": "white",
             "linecolor": "white",
             "minorgridcolor": "white",
             "startlinecolor": "#2a3f5f"
            },
            "baxis": {
             "endlinecolor": "#2a3f5f",
             "gridcolor": "white",
             "linecolor": "white",
             "minorgridcolor": "white",
             "startlinecolor": "#2a3f5f"
            },
            "type": "carpet"
           }
          ],
          "choropleth": [
           {
            "colorbar": {
             "outlinewidth": 0,
             "ticks": ""
            },
            "type": "choropleth"
           }
          ],
          "contour": [
           {
            "colorbar": {
             "outlinewidth": 0,
             "ticks": ""
            },
            "colorscale": [
             [
              0,
              "#0d0887"
             ],
             [
              0.1111111111111111,
              "#46039f"
             ],
             [
              0.2222222222222222,
              "#7201a8"
             ],
             [
              0.3333333333333333,
              "#9c179e"
             ],
             [
              0.4444444444444444,
              "#bd3786"
             ],
             [
              0.5555555555555556,
              "#d8576b"
             ],
             [
              0.6666666666666666,
              "#ed7953"
             ],
             [
              0.7777777777777778,
              "#fb9f3a"
             ],
             [
              0.8888888888888888,
              "#fdca26"
             ],
             [
              1,
              "#f0f921"
             ]
            ],
            "type": "contour"
           }
          ],
          "contourcarpet": [
           {
            "colorbar": {
             "outlinewidth": 0,
             "ticks": ""
            },
            "type": "contourcarpet"
           }
          ],
          "heatmap": [
           {
            "colorbar": {
             "outlinewidth": 0,
             "ticks": ""
            },
            "colorscale": [
             [
              0,
              "#0d0887"
             ],
             [
              0.1111111111111111,
              "#46039f"
             ],
             [
              0.2222222222222222,
              "#7201a8"
             ],
             [
              0.3333333333333333,
              "#9c179e"
             ],
             [
              0.4444444444444444,
              "#bd3786"
             ],
             [
              0.5555555555555556,
              "#d8576b"
             ],
             [
              0.6666666666666666,
              "#ed7953"
             ],
             [
              0.7777777777777778,
              "#fb9f3a"
             ],
             [
              0.8888888888888888,
              "#fdca26"
             ],
             [
              1,
              "#f0f921"
             ]
            ],
            "type": "heatmap"
           }
          ],
          "heatmapgl": [
           {
            "colorbar": {
             "outlinewidth": 0,
             "ticks": ""
            },
            "colorscale": [
             [
              0,
              "#0d0887"
             ],
             [
              0.1111111111111111,
              "#46039f"
             ],
             [
              0.2222222222222222,
              "#7201a8"
             ],
             [
              0.3333333333333333,
              "#9c179e"
             ],
             [
              0.4444444444444444,
              "#bd3786"
             ],
             [
              0.5555555555555556,
              "#d8576b"
             ],
             [
              0.6666666666666666,
              "#ed7953"
             ],
             [
              0.7777777777777778,
              "#fb9f3a"
             ],
             [
              0.8888888888888888,
              "#fdca26"
             ],
             [
              1,
              "#f0f921"
             ]
            ],
            "type": "heatmapgl"
           }
          ],
          "histogram": [
           {
            "marker": {
             "pattern": {
              "fillmode": "overlay",
              "size": 10,
              "solidity": 0.2
             }
            },
            "type": "histogram"
           }
          ],
          "histogram2d": [
           {
            "colorbar": {
             "outlinewidth": 0,
             "ticks": ""
            },
            "colorscale": [
             [
              0,
              "#0d0887"
             ],
             [
              0.1111111111111111,
              "#46039f"
             ],
             [
              0.2222222222222222,
              "#7201a8"
             ],
             [
              0.3333333333333333,
              "#9c179e"
             ],
             [
              0.4444444444444444,
              "#bd3786"
             ],
             [
              0.5555555555555556,
              "#d8576b"
             ],
             [
              0.6666666666666666,
              "#ed7953"
             ],
             [
              0.7777777777777778,
              "#fb9f3a"
             ],
             [
              0.8888888888888888,
              "#fdca26"
             ],
             [
              1,
              "#f0f921"
             ]
            ],
            "type": "histogram2d"
           }
          ],
          "histogram2dcontour": [
           {
            "colorbar": {
             "outlinewidth": 0,
             "ticks": ""
            },
            "colorscale": [
             [
              0,
              "#0d0887"
             ],
             [
              0.1111111111111111,
              "#46039f"
             ],
             [
              0.2222222222222222,
              "#7201a8"
             ],
             [
              0.3333333333333333,
              "#9c179e"
             ],
             [
              0.4444444444444444,
              "#bd3786"
             ],
             [
              0.5555555555555556,
              "#d8576b"
             ],
             [
              0.6666666666666666,
              "#ed7953"
             ],
             [
              0.7777777777777778,
              "#fb9f3a"
             ],
             [
              0.8888888888888888,
              "#fdca26"
             ],
             [
              1,
              "#f0f921"
             ]
            ],
            "type": "histogram2dcontour"
           }
          ],
          "mesh3d": [
           {
            "colorbar": {
             "outlinewidth": 0,
             "ticks": ""
            },
            "type": "mesh3d"
           }
          ],
          "parcoords": [
           {
            "line": {
             "colorbar": {
              "outlinewidth": 0,
              "ticks": ""
             }
            },
            "type": "parcoords"
           }
          ],
          "pie": [
           {
            "automargin": true,
            "type": "pie"
           }
          ],
          "scatter": [
           {
            "fillpattern": {
             "fillmode": "overlay",
             "size": 10,
             "solidity": 0.2
            },
            "type": "scatter"
           }
          ],
          "scatter3d": [
           {
            "line": {
             "colorbar": {
              "outlinewidth": 0,
              "ticks": ""
             }
            },
            "marker": {
             "colorbar": {
              "outlinewidth": 0,
              "ticks": ""
             }
            },
            "type": "scatter3d"
           }
          ],
          "scattercarpet": [
           {
            "marker": {
             "colorbar": {
              "outlinewidth": 0,
              "ticks": ""
             }
            },
            "type": "scattercarpet"
           }
          ],
          "scattergeo": [
           {
            "marker": {
             "colorbar": {
              "outlinewidth": 0,
              "ticks": ""
             }
            },
            "type": "scattergeo"
           }
          ],
          "scattergl": [
           {
            "marker": {
             "colorbar": {
              "outlinewidth": 0,
              "ticks": ""
             }
            },
            "type": "scattergl"
           }
          ],
          "scattermapbox": [
           {
            "marker": {
             "colorbar": {
              "outlinewidth": 0,
              "ticks": ""
             }
            },
            "type": "scattermapbox"
           }
          ],
          "scatterpolar": [
           {
            "marker": {
             "colorbar": {
              "outlinewidth": 0,
              "ticks": ""
             }
            },
            "type": "scatterpolar"
           }
          ],
          "scatterpolargl": [
           {
            "marker": {
             "colorbar": {
              "outlinewidth": 0,
              "ticks": ""
             }
            },
            "type": "scatterpolargl"
           }
          ],
          "scatterternary": [
           {
            "marker": {
             "colorbar": {
              "outlinewidth": 0,
              "ticks": ""
             }
            },
            "type": "scatterternary"
           }
          ],
          "surface": [
           {
            "colorbar": {
             "outlinewidth": 0,
             "ticks": ""
            },
            "colorscale": [
             [
              0,
              "#0d0887"
             ],
             [
              0.1111111111111111,
              "#46039f"
             ],
             [
              0.2222222222222222,
              "#7201a8"
             ],
             [
              0.3333333333333333,
              "#9c179e"
             ],
             [
              0.4444444444444444,
              "#bd3786"
             ],
             [
              0.5555555555555556,
              "#d8576b"
             ],
             [
              0.6666666666666666,
              "#ed7953"
             ],
             [
              0.7777777777777778,
              "#fb9f3a"
             ],
             [
              0.8888888888888888,
              "#fdca26"
             ],
             [
              1,
              "#f0f921"
             ]
            ],
            "type": "surface"
           }
          ],
          "table": [
           {
            "cells": {
             "fill": {
              "color": "#EBF0F8"
             },
             "line": {
              "color": "white"
             }
            },
            "header": {
             "fill": {
              "color": "#C8D4E3"
             },
             "line": {
              "color": "white"
             }
            },
            "type": "table"
           }
          ]
         },
         "layout": {
          "annotationdefaults": {
           "arrowcolor": "#2a3f5f",
           "arrowhead": 0,
           "arrowwidth": 1
          },
          "autotypenumbers": "strict",
          "coloraxis": {
           "colorbar": {
            "outlinewidth": 0,
            "ticks": ""
           }
          },
          "colorscale": {
           "diverging": [
            [
             0,
             "#8e0152"
            ],
            [
             0.1,
             "#c51b7d"
            ],
            [
             0.2,
             "#de77ae"
            ],
            [
             0.3,
             "#f1b6da"
            ],
            [
             0.4,
             "#fde0ef"
            ],
            [
             0.5,
             "#f7f7f7"
            ],
            [
             0.6,
             "#e6f5d0"
            ],
            [
             0.7,
             "#b8e186"
            ],
            [
             0.8,
             "#7fbc41"
            ],
            [
             0.9,
             "#4d9221"
            ],
            [
             1,
             "#276419"
            ]
           ],
           "sequential": [
            [
             0,
             "#0d0887"
            ],
            [
             0.1111111111111111,
             "#46039f"
            ],
            [
             0.2222222222222222,
             "#7201a8"
            ],
            [
             0.3333333333333333,
             "#9c179e"
            ],
            [
             0.4444444444444444,
             "#bd3786"
            ],
            [
             0.5555555555555556,
             "#d8576b"
            ],
            [
             0.6666666666666666,
             "#ed7953"
            ],
            [
             0.7777777777777778,
             "#fb9f3a"
            ],
            [
             0.8888888888888888,
             "#fdca26"
            ],
            [
             1,
             "#f0f921"
            ]
           ],
           "sequentialminus": [
            [
             0,
             "#0d0887"
            ],
            [
             0.1111111111111111,
             "#46039f"
            ],
            [
             0.2222222222222222,
             "#7201a8"
            ],
            [
             0.3333333333333333,
             "#9c179e"
            ],
            [
             0.4444444444444444,
             "#bd3786"
            ],
            [
             0.5555555555555556,
             "#d8576b"
            ],
            [
             0.6666666666666666,
             "#ed7953"
            ],
            [
             0.7777777777777778,
             "#fb9f3a"
            ],
            [
             0.8888888888888888,
             "#fdca26"
            ],
            [
             1,
             "#f0f921"
            ]
           ]
          },
          "colorway": [
           "#636efa",
           "#EF553B",
           "#00cc96",
           "#ab63fa",
           "#FFA15A",
           "#19d3f3",
           "#FF6692",
           "#B6E880",
           "#FF97FF",
           "#FECB52"
          ],
          "font": {
           "color": "#2a3f5f"
          },
          "geo": {
           "bgcolor": "white",
           "lakecolor": "white",
           "landcolor": "#E5ECF6",
           "showlakes": true,
           "showland": true,
           "subunitcolor": "white"
          },
          "hoverlabel": {
           "align": "left"
          },
          "hovermode": "closest",
          "mapbox": {
           "style": "light"
          },
          "paper_bgcolor": "white",
          "plot_bgcolor": "#E5ECF6",
          "polar": {
           "angularaxis": {
            "gridcolor": "white",
            "linecolor": "white",
            "ticks": ""
           },
           "bgcolor": "#E5ECF6",
           "radialaxis": {
            "gridcolor": "white",
            "linecolor": "white",
            "ticks": ""
           }
          },
          "scene": {
           "xaxis": {
            "backgroundcolor": "#E5ECF6",
            "gridcolor": "white",
            "gridwidth": 2,
            "linecolor": "white",
            "showbackground": true,
            "ticks": "",
            "zerolinecolor": "white"
           },
           "yaxis": {
            "backgroundcolor": "#E5ECF6",
            "gridcolor": "white",
            "gridwidth": 2,
            "linecolor": "white",
            "showbackground": true,
            "ticks": "",
            "zerolinecolor": "white"
           },
           "zaxis": {
            "backgroundcolor": "#E5ECF6",
            "gridcolor": "white",
            "gridwidth": 2,
            "linecolor": "white",
            "showbackground": true,
            "ticks": "",
            "zerolinecolor": "white"
           }
          },
          "shapedefaults": {
           "line": {
            "color": "#2a3f5f"
           }
          },
          "ternary": {
           "aaxis": {
            "gridcolor": "white",
            "linecolor": "white",
            "ticks": ""
           },
           "baxis": {
            "gridcolor": "white",
            "linecolor": "white",
            "ticks": ""
           },
           "bgcolor": "#E5ECF6",
           "caxis": {
            "gridcolor": "white",
            "linecolor": "white",
            "ticks": ""
           }
          },
          "title": {
           "x": 0.05
          },
          "xaxis": {
           "automargin": true,
           "gridcolor": "white",
           "linecolor": "white",
           "ticks": "",
           "title": {
            "standoff": 15
           },
           "zerolinecolor": "white",
           "zerolinewidth": 2
          },
          "yaxis": {
           "automargin": true,
           "gridcolor": "white",
           "linecolor": "white",
           "ticks": "",
           "title": {
            "standoff": 15
           },
           "zerolinecolor": "white",
           "zerolinewidth": 2
          }
         }
        },
        "width": 800,
        "xaxis": {
         "anchor": "y",
         "domain": [
          0,
          1
         ],
         "title": {
          "text": "Publication date"
         }
        },
        "yaxis": {
         "anchor": "x",
         "domain": [
          0,
          1
         ],
         "title": {
          "text": "Power capacity for 3-month training run (kW)"
         },
         "type": "log"
        }
       }
      }
     },
     "metadata": {},
     "output_type": "display_data"
    }
   ],
   "source": [
    "component_cost_df.loc[:, 'Power capacity for 3-month training run (kW)'] = [row['Cost']['energy'] / energy_price(row['Publication date'].year) / (HOURS_PER_YEAR/4) / server_TDP_fraction(row['Training hardware']) for _, row in component_cost_df.iterrows()]\n",
    "fig = px.scatter(\n",
    "    component_cost_df,\n",
    "    x='Publication date',\n",
    "    y='Power capacity for 3-month training run (kW)',\n",
    "    text='System',\n",
    ")\n",
    "# log y\n",
    "fig.update_yaxes(type='log')\n",
    "# size\n",
    "fig.update_layout(\n",
    "    autosize=False,\n",
    "    width=800,\n",
    "    height=600,\n",
    ")\n",
    "\n",
    "# margins\n",
    "fig.update_layout(margin=dict(l=10, r=10, t=40, b=10))\n",
    "\n",
    "save_plot(fig, results_dir, 'power_capacity_kw')\n",
    "\n",
    "fig.show()"
   ]
  },
  {
   "cell_type": "code",
   "execution_count": null,
   "metadata": {},
   "outputs": [],
   "source": [
    "component_cost_df['Publication date (float)'] = datetime_to_float_year(pd.to_datetime(component_cost_df['Publication date']))"
   ]
  },
  {
   "cell_type": "code",
   "execution_count": null,
   "metadata": {},
   "outputs": [
    {
     "data": {
      "text/html": [
       "<table class=\"simpletable\">\n",
       "<caption>OLS Regression Results</caption>\n",
       "<tr>\n",
       "  <th>Dep. Variable:</th>            <td>y</td>        <th>  R-squared:         </th> <td>   0.660</td>\n",
       "</tr>\n",
       "<tr>\n",
       "  <th>Model:</th>                   <td>OLS</td>       <th>  Adj. R-squared:    </th> <td>   0.653</td>\n",
       "</tr>\n",
       "<tr>\n",
       "  <th>Method:</th>             <td>Least Squares</td>  <th>  F-statistic:       </th> <td>   87.41</td>\n",
       "</tr>\n",
       "<tr>\n",
       "  <th>Date:</th>             <td>Thu, 09 May 2024</td> <th>  Prob (F-statistic):</th> <td>4.10e-12</td>\n",
       "</tr>\n",
       "<tr>\n",
       "  <th>Time:</th>                 <td>12:27:03</td>     <th>  Log-Likelihood:    </th> <td> -41.068</td>\n",
       "</tr>\n",
       "<tr>\n",
       "  <th>No. Observations:</th>      <td>    47</td>      <th>  AIC:               </th> <td>   86.14</td>\n",
       "</tr>\n",
       "<tr>\n",
       "  <th>Df Residuals:</th>          <td>    45</td>      <th>  BIC:               </th> <td>   89.84</td>\n",
       "</tr>\n",
       "<tr>\n",
       "  <th>Df Model:</th>              <td>     1</td>      <th>                     </th>     <td> </td>   \n",
       "</tr>\n",
       "<tr>\n",
       "  <th>Covariance Type:</th>      <td>nonrobust</td>    <th>                     </th>     <td> </td>   \n",
       "</tr>\n",
       "</table>\n",
       "<table class=\"simpletable\">\n",
       "<tr>\n",
       "    <td></td>       <th>coef</th>     <th>std err</th>      <th>t</th>      <th>P>|t|</th>  <th>[0.025</th>    <th>0.975]</th>  \n",
       "</tr>\n",
       "<tr>\n",
       "  <th>const</th> <td> -725.0174</td> <td>   77.807</td> <td>   -9.318</td> <td> 0.000</td> <td> -881.728</td> <td> -568.307</td>\n",
       "</tr>\n",
       "<tr>\n",
       "  <th>x1</th>    <td>    0.3600</td> <td>    0.039</td> <td>    9.349</td> <td> 0.000</td> <td>    0.282</td> <td>    0.438</td>\n",
       "</tr>\n",
       "</table>\n",
       "<table class=\"simpletable\">\n",
       "<tr>\n",
       "  <th>Omnibus:</th>       <td> 3.175</td> <th>  Durbin-Watson:     </th> <td>   2.213</td>\n",
       "</tr>\n",
       "<tr>\n",
       "  <th>Prob(Omnibus):</th> <td> 0.204</td> <th>  Jarque-Bera (JB):  </th> <td>   2.964</td>\n",
       "</tr>\n",
       "<tr>\n",
       "  <th>Skew:</th>          <td> 0.553</td> <th>  Prob(JB):          </th> <td>   0.227</td>\n",
       "</tr>\n",
       "<tr>\n",
       "  <th>Kurtosis:</th>      <td> 2.461</td> <th>  Cond. No.          </th> <td>1.82e+06</td>\n",
       "</tr>\n",
       "</table><br/><br/>Notes:<br/>[1] Standard Errors assume that the covariance matrix of the errors is correctly specified.<br/>[2] The condition number is large, 1.82e+06. This might indicate that there are<br/>strong multicollinearity or other numerical problems."
      ],
      "text/latex": [
       "\\begin{center}\n",
       "\\begin{tabular}{lclc}\n",
       "\\toprule\n",
       "\\textbf{Dep. Variable:}    &        y         & \\textbf{  R-squared:         } &     0.660   \\\\\n",
       "\\textbf{Model:}            &       OLS        & \\textbf{  Adj. R-squared:    } &     0.653   \\\\\n",
       "\\textbf{Method:}           &  Least Squares   & \\textbf{  F-statistic:       } &     87.41   \\\\\n",
       "\\textbf{Date:}             & Thu, 09 May 2024 & \\textbf{  Prob (F-statistic):} &  4.10e-12   \\\\\n",
       "\\textbf{Time:}             &     12:27:03     & \\textbf{  Log-Likelihood:    } &   -41.068   \\\\\n",
       "\\textbf{No. Observations:} &          47      & \\textbf{  AIC:               } &     86.14   \\\\\n",
       "\\textbf{Df Residuals:}     &          45      & \\textbf{  BIC:               } &     89.84   \\\\\n",
       "\\textbf{Df Model:}         &           1      & \\textbf{                     } &             \\\\\n",
       "\\textbf{Covariance Type:}  &    nonrobust     & \\textbf{                     } &             \\\\\n",
       "\\bottomrule\n",
       "\\end{tabular}\n",
       "\\begin{tabular}{lcccccc}\n",
       "               & \\textbf{coef} & \\textbf{std err} & \\textbf{t} & \\textbf{P$> |$t$|$} & \\textbf{[0.025} & \\textbf{0.975]}  \\\\\n",
       "\\midrule\n",
       "\\textbf{const} &    -725.0174  &       77.807     &    -9.318  &         0.000        &     -881.728    &     -568.307     \\\\\n",
       "\\textbf{x1}    &       0.3600  &        0.039     &     9.349  &         0.000        &        0.282    &        0.438     \\\\\n",
       "\\bottomrule\n",
       "\\end{tabular}\n",
       "\\begin{tabular}{lclc}\n",
       "\\textbf{Omnibus:}       &  3.175 & \\textbf{  Durbin-Watson:     } &    2.213  \\\\\n",
       "\\textbf{Prob(Omnibus):} &  0.204 & \\textbf{  Jarque-Bera (JB):  } &    2.964  \\\\\n",
       "\\textbf{Skew:}          &  0.553 & \\textbf{  Prob(JB):          } &    0.227  \\\\\n",
       "\\textbf{Kurtosis:}      &  2.461 & \\textbf{  Cond. No.          } & 1.82e+06  \\\\\n",
       "\\bottomrule\n",
       "\\end{tabular}\n",
       "%\\caption{OLS Regression Results}\n",
       "\\end{center}\n",
       "\n",
       "Notes: \\newline\n",
       " [1] Standard Errors assume that the covariance matrix of the errors is correctly specified. \\newline\n",
       " [2] The condition number is large, 1.82e+06. This might indicate that there are \\newline\n",
       " strong multicollinearity or other numerical problems."
      ],
      "text/plain": [
       "<class 'statsmodels.iolib.summary.Summary'>\n",
       "\"\"\"\n",
       "                            OLS Regression Results                            \n",
       "==============================================================================\n",
       "Dep. Variable:                      y   R-squared:                       0.660\n",
       "Model:                            OLS   Adj. R-squared:                  0.653\n",
       "Method:                 Least Squares   F-statistic:                     87.41\n",
       "Date:                Thu, 09 May 2024   Prob (F-statistic):           4.10e-12\n",
       "Time:                        12:27:03   Log-Likelihood:                -41.068\n",
       "No. Observations:                  47   AIC:                             86.14\n",
       "Df Residuals:                      45   BIC:                             89.84\n",
       "Df Model:                           1                                         \n",
       "Covariance Type:            nonrobust                                         \n",
       "==============================================================================\n",
       "                 coef    std err          t      P>|t|      [0.025      0.975]\n",
       "------------------------------------------------------------------------------\n",
       "const       -725.0174     77.807     -9.318      0.000    -881.728    -568.307\n",
       "x1             0.3600      0.039      9.349      0.000       0.282       0.438\n",
       "==============================================================================\n",
       "Omnibus:                        3.175   Durbin-Watson:                   2.213\n",
       "Prob(Omnibus):                  0.204   Jarque-Bera (JB):                2.964\n",
       "Skew:                           0.553   Prob(JB):                        0.227\n",
       "Kurtosis:                       2.461   Cond. No.                     1.82e+06\n",
       "==============================================================================\n",
       "\n",
       "Notes:\n",
       "[1] Standard Errors assume that the covariance matrix of the errors is correctly specified.\n",
       "[2] The condition number is large, 1.82e+06. This might indicate that there are\n",
       "strong multicollinearity or other numerical problems.\n",
       "\"\"\""
      ]
     },
     "execution_count": 28,
     "metadata": {},
     "output_type": "execute_result"
    }
   ],
   "source": [
    "energy_reg_results = fit_ols_regression(component_cost_df, ['Publication date (float)'], 'Power capacity for 3-month training run (kW)', logy=True)\n",
    "energy_reg_results.summary()"
   ]
  },
  {
   "cell_type": "code",
   "execution_count": null,
   "metadata": {},
   "outputs": [],
   "source": []
  }
 ],
 "metadata": {
  "colab": {
   "provenance": []
  },
  "kernelspec": {
   "display_name": "Python 3 (ipykernel)",
   "language": "python",
   "name": "python3"
  },
  "language_info": {
   "codemirror_mode": {
    "name": "ipython",
    "version": 3
   },
   "file_extension": ".py",
   "mimetype": "text/x-python",
   "name": "python",
   "nbconvert_exporter": "python",
   "pygments_lexer": "ipython3",
   "version": "3.11.4"
  }
 },
 "nbformat": 4,
 "nbformat_minor": 1
}
