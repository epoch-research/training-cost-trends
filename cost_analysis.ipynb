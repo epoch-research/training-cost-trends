{
 "cells": [
  {
   "cell_type": "markdown",
   "metadata": {},
   "source": [
    "# Setup"
   ]
  },
  {
   "cell_type": "code",
   "execution_count": 1,
   "metadata": {
    "ExecuteTime": {
     "end_time": "2024-02-07T16:04:30.211131Z",
     "start_time": "2024-02-07T16:04:29.911625700Z"
    }
   },
   "outputs": [],
   "source": [
    "%load_ext autoreload\n",
    "%autoreload 2"
   ]
  },
  {
   "cell_type": "code",
   "execution_count": 2,
   "metadata": {
    "ExecuteTime": {
     "end_time": "2024-02-07T16:04:30.226710800Z",
     "start_time": "2024-02-07T16:04:30.020995300Z"
    },
    "id": "qltoZ7TbdkHZ"
   },
   "outputs": [],
   "source": [
    "import numpy as np\n",
    "import os\n",
    "import pandas as pd\n",
    "import plotly.express as px\n",
    "\n",
    "from cost import *\n",
    "from plotting import *\n",
    "from prices import *\n",
    "from imputation import *\n",
    "from inflation import *"
   ]
  },
  {
   "cell_type": "code",
   "execution_count": 3,
   "metadata": {},
   "outputs": [],
   "source": [
    "results_dir = 'results/price-improvements/'\n",
    "os.makedirs(results_dir, exist_ok=True)"
   ]
  },
  {
   "cell_type": "markdown",
   "metadata": {},
   "source": [
    "# Load data"
   ]
  },
  {
   "cell_type": "code",
   "execution_count": 4,
   "metadata": {},
   "outputs": [
    {
     "name": "stderr",
     "output_type": "stream",
     "text": [
      "/Users/bencottier/Projects/training_cost_2/training-cost-trends/data.py:43: SettingWithCopyWarning: \n",
      "A value is trying to be set on a copy of a slice from a DataFrame.\n",
      "Try using .loc[row_indexer,col_indexer] = value instead\n",
      "\n",
      "See the caveats in the documentation: https://pandas.pydata.org/pandas-docs/stable/user_guide/indexing.html#returning-a-view-versus-a-copy\n",
      "  frontier_pcd_df.loc[:, 'Training compute (FLOP)'] = pd.to_numeric(\n"
     ]
    }
   ],
   "source": [
    "frontier_pcd_df, hardware_df, price_df = load_data_for_cost_estimation()"
   ]
  },
  {
   "cell_type": "code",
   "execution_count": 5,
   "metadata": {},
   "outputs": [
    {
     "data": {
      "text/plain": [
       "(68, 5508, 69)"
      ]
     },
     "execution_count": 5,
     "metadata": {},
     "output_type": "execute_result"
    }
   ],
   "source": [
    "len(frontier_pcd_df), len(hardware_df), len(price_df)"
   ]
  },
  {
   "cell_type": "markdown",
   "metadata": {},
   "source": [
    "# Cost estimation"
   ]
  },
  {
   "cell_type": "code",
   "execution_count": 6,
   "metadata": {},
   "outputs": [],
   "source": [
    "# Drop Gemini Ultra\n",
    "# frontier_pcd_df = frontier_pcd_df[frontier_pcd_df['System'] != 'Gemini Ultra']\n",
    "# frontier_pcd_df = frontier_pcd_df[frontier_pcd_df['System'] != 'GPT-4']"
   ]
  },
  {
   "cell_type": "code",
   "execution_count": 7,
   "metadata": {},
   "outputs": [
    {
     "data": {
      "text/plain": [
       "358                              NaN\n",
       "368                              NaN\n",
       "378                              NaN\n",
       "428     NVIDIA Tesla V100 DGXS 32 GB\n",
       "443           NVIDIA A100 SXM4 40 GB\n",
       "                    ...             \n",
       "1273                     NVIDIA A100\n",
       "1274               Huawei Ascend 910\n",
       "1276          NVIDIA A100 SXM4 40 GB\n",
       "1277                   Google TPU v4\n",
       "1278          NVIDIA A100 SXM4 40 GB\n",
       "Name: Training hardware, Length: 68, dtype: object"
      ]
     },
     "execution_count": 7,
     "metadata": {},
     "output_type": "execute_result"
    }
   ],
   "source": [
    "frontier_pcd_df['Training hardware']"
   ]
  },
  {
   "cell_type": "code",
   "execution_count": 8,
   "metadata": {},
   "outputs": [
    {
     "name": "stdout",
     "output_type": "stream",
     "text": [
      "==== System: Yuan 1.0 ====\n",
      "Training time is required but no value found\n",
      "\n",
      "==== System: OpenAI TI7 DOTA 1v1 ====\n",
      "Training time is required but no value found\n",
      "\n",
      "==== System: Claude 2 ====\n",
      "Training time is required but no value found\n",
      "\n",
      "==== System: Turing-NLG ====\n",
      "Training time is required but no value found\n",
      "\n",
      "==== System: GPT-3.5 (text-davinci-003) ====\n",
      "Training time is required but no value found\n",
      "\n",
      "==== System: AlphaGo Master ====\n",
      "Training time is required but no value found\n",
      "\n",
      "==== System: Minerva (540B) ====\n",
      "Trying Google TPU v4 at 2022-04-01 00:00:00\n",
      "Trying Google Cloud, Price per chip-hour (3-year CUD)\n",
      "Found price: 1.45 at 2022-05-11 00:00:00\n",
      "\n",
      "==== System: FTW ====\n",
      "Training time is required but no value found\n",
      "\n",
      "==== System: AlphaGo Zero ====\n",
      "Trying Google TPU v1 at 2017-07-30 00:00:00\n",
      "Trying Google Cloud, Price per chip-hour (3-year CUD)\n",
      "Could not find price\n",
      "\n",
      "Trying Google Cloud, Price per chip-hour (1-year CUD)\n",
      "Could not find price\n",
      "\n",
      "Trying Google Cloud, Price per chip-hour (on-demand)\n",
      "Could not find price\n",
      "\n",
      "==== System: NASv3 (CIFAR-10) ====\n",
      "Training time is required but no value found\n",
      "\n",
      "==== System: AlphaZero ====\n",
      "Training time is required but no value found\n",
      "\n",
      "==== System: PaLM (540B) ====\n",
      "Trying Google TPU v4 at 2021-12-08 00:00:00\n",
      "Trying Google Cloud, Price per chip-hour (3-year CUD)\n",
      "Found price: 1.45 at 2022-05-11 00:00:00\n",
      "\n",
      "==== System: OPT-175B ====\n",
      "Trying NVIDIA A100 SXM4 80 GB at 2022-01-28 23:00:00\n",
      "Trying Amazon Web Services, Price per chip-hour (3-year CUD)\n",
      "Found price: 1.81 at 2022-08-19 00:00:00\n",
      "\n",
      "==== System: ALIGN ====\n",
      "Trying Google TPU v3 at 2021-03-28 13:00:00\n",
      "Trying Google Cloud, Price per chip-hour (3-year CUD)\n",
      "Found price: 0.9 at 2021-03-07 00:00:00\n",
      "\n",
      "==== System: AlphaGo Fan ====\n",
      "Training time is required but no value found\n",
      "\n",
      "==== System: GPT-4 ====\n",
      "Trying NVIDIA A100 SXM4 40 GB at 2022-10-11 00:00:00\n",
      "Trying Microsoft Azure, Price per chip-hour (3-year CUD)\n",
      "Soft matching NVIDIA A100 SXM4 40 GB to NVIDIA A100\n",
      "Found price: 1.36 at 2021-08-13 00:00:00\n",
      "\n",
      "==== System: GLaM ====\n",
      "Trying Google TPU v4 at 2021-08-18 02:00:00\n",
      "Trying Google Cloud, Price per chip-hour (3-year CUD)\n",
      "Found price: 1.45 at 2022-05-11 00:00:00\n",
      "\n",
      "==== System: AlphaGo Lee ====\n",
      "Training time is required but no value found\n",
      "\n",
      "==== System: AlphaStar ====\n",
      "Trying Google TPU v3 at 2019-07-18 00:00:00\n",
      "Trying Google Cloud, Price per chip-hour (3-year CUD)\n",
      "Found price: 0.9 at 2019-07-01 00:00:00\n",
      "\n",
      "==== System: OpenAI Five ====\n",
      "Could not find hardware model for OpenAI Five\n",
      "\n",
      "\n",
      "==== System: RoBERTa Large ====\n",
      "Trying NVIDIA Tesla V100 DGXS 32 GB at 2019-04-27 00:00:00\n",
      "Trying Amazon Web Services, Price per chip-hour (3-year CUD)\n",
      "Found price: 1.21 at 2019-04-05 00:00:00\n",
      "\n",
      "==== System: OpenAI Five Rerun ====\n",
      "Training time is required but no value found\n",
      "\n",
      "==== System: GNMT ====\n",
      "Trying NVIDIA Tesla K80 at 2016-01-30 00:00:00\n",
      "Trying Google Cloud, Price per chip-hour (3-year CUD)\n",
      "Could not find price\n",
      "\n",
      "Trying Amazon Web Services, Price per chip-hour (3-year CUD)\n",
      "Found price: 0.43 at 2017-02-10 00:00:00\n",
      "\n",
      "==== System: GShard (dense) ====\n",
      "Trying Google TPU v3 at 2020-03-20 00:00:00\n",
      "Trying Google Cloud, Price per chip-hour (3-year CUD)\n",
      "Found price: 0.9 at 2019-12-06 00:00:00\n",
      "\n",
      "==== System: AlphaCode ====\n",
      "Training time is required but no value found\n",
      "\n",
      "==== System: Megatron-LM (8.3B) ====\n",
      "Trying NVIDIA Tesla V100 DGXS 32 GB at 2019-07-05 09:00:00\n",
      "Trying Amazon Web Services, Price per chip-hour (3-year CUD)\n",
      "Found price: 1.21 at 2019-06-10 00:00:00\n",
      "\n",
      "==== System: Gopher (280B) ====\n",
      "Trying Google TPU v3 at 2021-08-31 16:00:00\n",
      "Trying Google Cloud, Price per chip-hour (3-year CUD)\n",
      "Found price: 0.9 at 2021-03-07 00:00:00\n",
      "\n",
      "==== System: Meena ====\n",
      "Trying Google TPU v3 at 2019-10-30 00:00:00\n",
      "Trying Google Cloud, Price per chip-hour (3-year CUD)\n",
      "Found price: 0.9 at 2019-08-31 00:00:00\n",
      "\n",
      "==== System: IMPALA ====\n",
      "Trying NVIDIA P100 at 2017-12-02 20:00:00\n",
      "Trying Google Cloud, Price per chip-hour (3-year CUD)\n",
      "Could not find price\n",
      "\n",
      "Trying Amazon Web Services, Price per chip-hour (3-year CUD)\n",
      "Could not find price\n",
      "\n",
      "Trying Microsoft Azure, Price per chip-hour (3-year CUD)\n",
      "Found price: 1.28 at 2024-01-29 00:00:00\n",
      "\n",
      "==== System: PaLM 2 ====\n",
      "Training time is required but no value found\n",
      "\n",
      "==== System: Megatron-BERT ====\n",
      "Trying NVIDIA Tesla V100S PCIe 32 GB at 2019-05-22 00:00:00\n",
      "Trying Amazon Web Services, Price per chip-hour (3-year CUD)\n",
      "Could not find price\n",
      "\n",
      "Trying Microsoft Azure, Price per chip-hour (3-year CUD)\n",
      "Could not find price\n",
      "\n",
      "Trying Google Cloud, Price per chip-hour (3-year CUD)\n",
      "Could not find price\n",
      "\n",
      "Trying Amazon Web Services, Price per chip-hour (1-year CUD)\n",
      "Could not find price\n",
      "\n",
      "Trying Microsoft Azure, Price per chip-hour (1-year CUD)\n",
      "Could not find price\n",
      "\n",
      "Trying Google Cloud, Price per chip-hour (1-year CUD)\n",
      "Could not find price\n",
      "\n",
      "Trying Amazon Web Services, Price per chip-hour (on-demand)\n",
      "Could not find price\n",
      "\n",
      "Trying Microsoft Azure, Price per chip-hour (on-demand)\n",
      "Could not find price\n",
      "\n",
      "Trying Google Cloud, Price per chip-hour (on-demand)\n",
      "Could not find price\n",
      "\n",
      "==== System: Falcon 180B ====\n",
      "Trying NVIDIA A100 SXM4 40 GB at 2023-01-09 00:00:00\n",
      "Trying Amazon Web Services, Price per chip-hour (3-year CUD)\n",
      "Found price: 1.45 at 2022-12-09 00:00:00\n",
      "\n",
      "==== System: JFT ====\n",
      "Trying NVIDIA Tesla K80 at 2017-03-12 00:00:00\n",
      "Trying Google Cloud, Price per chip-hour (3-year CUD)\n",
      "Could not find price\n",
      "\n",
      "Trying Amazon Web Services, Price per chip-hour (3-year CUD)\n",
      "Found price: 0.43 at 2017-02-10 00:00:00\n",
      "\n",
      "==== System: AmoebaNet-A (F=448) ====\n",
      "Trying NVIDIA Tesla K40s at 2017-11-30 00:00:00\n",
      "Trying Google Cloud, Price per chip-hour (3-year CUD)\n",
      "Could not find price\n",
      "\n",
      "Trying Amazon Web Services, Price per chip-hour (3-year CUD)\n",
      "Could not find price\n",
      "\n",
      "Trying Microsoft Azure, Price per chip-hour (3-year CUD)\n",
      "Could not find price\n",
      "\n",
      "Trying Google Cloud, Price per chip-hour (1-year CUD)\n",
      "Could not find price\n",
      "\n",
      "Trying Amazon Web Services, Price per chip-hour (1-year CUD)\n",
      "Could not find price\n",
      "\n",
      "Trying Microsoft Azure, Price per chip-hour (1-year CUD)\n",
      "Could not find price\n",
      "\n",
      "Trying Google Cloud, Price per chip-hour (on-demand)\n",
      "Could not find price\n",
      "\n",
      "Trying Amazon Web Services, Price per chip-hour (on-demand)\n",
      "Could not find price\n",
      "\n",
      "Trying Microsoft Azure, Price per chip-hour (on-demand)\n",
      "Could not find price\n",
      "\n",
      "==== System: Megatron-Turing NLG 530B ====\n",
      "Trying NVIDIA A100 SXM4 80 GB at 2021-07-10 22:00:00\n",
      "Trying Microsoft Azure, Price per chip-hour (3-year CUD)\n",
      "Found price: 1.8 at 2022-04-15 00:00:00\n",
      "\n",
      "==== System: T5-3B ====\n",
      "Training time is required but no value found\n",
      "\n",
      "==== System: LaMDA ====\n",
      "Trying Google TPU v3 at 2021-10-15 07:00:00\n",
      "Trying Google Cloud, Price per chip-hour (3-year CUD)\n",
      "Found price: 0.9 at 2021-10-08 00:00:00\n",
      "\n",
      "==== System: T5-11B ====\n",
      "Trying Google TPU v3 at 2019-08-03 23:00:00\n",
      "Trying Google Cloud, Price per chip-hour (3-year CUD)\n",
      "Found price: 0.9 at 2019-07-28 00:00:00\n",
      "\n",
      "==== System: BigGAN-deep 512x512 ====\n",
      "Trying Google TPU v3 at 2018-07-28 00:00:00\n",
      "Trying Google Cloud, Price per chip-hour (3-year CUD)\n",
      "Could not find price\n",
      "\n",
      "Trying Google Cloud, Price per chip-hour (1-year CUD)\n",
      "Could not find price\n",
      "\n",
      "Trying Google Cloud, Price per chip-hour (on-demand)\n",
      "Found price: 0.8799999999999999 at 2018-10-11 00:00:00\n",
      "\n",
      "==== System: ResNeXt-101 32x48d ====\n",
      "Training time is required but no value found\n",
      "\n",
      "==== System: Chinchilla ====\n",
      "Training time is required but no value found\n",
      "\n",
      "==== System: ERNIE 3.0 Titan ====\n",
      "Training time is required but no value found\n",
      "\n",
      "==== System: LLaMA-65B ====\n",
      "Trying NVIDIA A100 at 2022-12-05 04:00:00\n",
      "Trying Amazon Web Services, Price per chip-hour (3-year CUD)\n",
      "Could not find price\n",
      "\n",
      "Trying Microsoft Azure, Price per chip-hour (3-year CUD)\n",
      "Found price: 1.36 at 2021-08-13 00:00:00\n",
      "\n",
      "==== System: DALL-E ====\n",
      "Training time is required but no value found\n",
      "\n",
      "==== System: GPT-2 (1.5B) ====\n",
      "Training time is required but no value found\n",
      "\n",
      "==== System: GOAT ====\n",
      "Training time is required but no value found\n",
      "\n",
      "==== System: Switch ====\n",
      "Trying Google TPU v3 at 2020-10-16 00:00:00\n",
      "Trying Google Cloud, Price per chip-hour (3-year CUD)\n",
      "Found price: 0.9 at 2019-12-06 00:00:00\n",
      "\n",
      "==== System: iGPT-XL ====\n",
      "Training time is required but no value found\n",
      "\n",
      "==== System: Parti ====\n",
      "Training time is required but no value found\n",
      "\n",
      "==== System: mT5-XXL ====\n",
      "Training time is required but no value found\n",
      "\n",
      "==== System: ByT5-XXL ====\n",
      "Training time is required but no value found\n",
      "\n",
      "==== System: BlenderBot 3 ====\n",
      "Training time is required but no value found\n",
      "\n",
      "==== System: ChatGLM3 ====\n",
      "Training time is required but no value found\n",
      "\n",
      "==== System: Yi-34B ====\n",
      "Training time is required but no value found\n",
      "\n",
      "==== System: Qwen-72B ====\n",
      "Training time is required but no value found\n",
      "\n",
      "==== System: Gemini Ultra ====\n",
      "Trying Google TPU v4 at 2023-06-29 00:00:00\n",
      "Trying Google Cloud, Price per chip-hour (3-year CUD)\n",
      "Found price: 1.45 at 2023-06-01 00:00:00\n",
      "\n",
      "==== System: ProtT5-XXL ====\n",
      "Training time is required but no value found\n",
      "\n",
      "==== System: GPT-3 175B (davinci) ====\n",
      "Trying NVIDIA Tesla V100 DGXS 32 GB at 2020-03-14 05:00:00\n",
      "Trying Microsoft Azure, Price per chip-hour (3-year CUD)\n",
      "Soft matching NVIDIA Tesla V100 DGXS 32 GB to NVIDIA V100\n",
      "Found price: 1.16 at 2020-02-12 00:00:00\n",
      "\n",
      "==== System: Inflection-2 ====\n",
      "Training time is required but no value found\n",
      "\n",
      "==== System: BERT-Large ====\n",
      "Trying Google TPU v2 at 2018-08-08 00:00:00\n",
      "Trying Google Cloud, Price per chip-hour (3-year CUD)\n",
      "Could not find price\n",
      "\n",
      "Trying Google Cloud, Price per chip-hour (1-year CUD)\n",
      "Could not find price\n",
      "\n",
      "Trying Google Cloud, Price per chip-hour (on-demand)\n",
      "Found price: 0.4971999999999999 at 2018-10-09 00:00:00\n",
      "\n",
      "==== System: Meta Pseudo Labels ====\n",
      "Trying Google TPU v3 at 2020-12-20 00:00:00\n",
      "Trying Google Cloud, Price per chip-hour (3-year CUD)\n",
      "Found price: 0.9 at 2020-12-02 00:00:00\n",
      "\n",
      "==== System: Llama 2-70B ====\n",
      "Trying NVIDIA A100 SXM4 80 GB at 2022-11-20 00:00:00\n",
      "Trying Amazon Web Services, Price per chip-hour (3-year CUD)\n",
      "Found price: 1.81 at 2022-08-19 00:00:00\n",
      "\n",
      "==== System: U-PaLM (540B) ====\n",
      "Trying Google TPU v4 at 2022-08-16 00:00:00\n",
      "Trying Google Cloud, Price per chip-hour (3-year CUD)\n",
      "Found price: 1.45 at 2022-05-11 00:00:00\n",
      "\n",
      "==== System: HyperClova ====\n",
      "Trying NVIDIA A100 at 2021-06-15 05:00:00\n",
      "Trying Amazon Web Services, Price per chip-hour (3-year CUD)\n",
      "Could not find price\n",
      "\n",
      "Trying Microsoft Azure, Price per chip-hour (3-year CUD)\n",
      "Found price: 1.44 at 2021-04-11 00:00:00\n",
      "\n",
      "==== System: PanGu-Σ ====\n",
      "Trying Huawei Ascend 910 at 2022-10-11 00:00:00\n",
      "Trying Amazon Web Services, Price per chip-hour (3-year CUD)\n",
      "Could not find price\n",
      "\n",
      "Trying Microsoft Azure, Price per chip-hour (3-year CUD)\n",
      "Could not find price\n",
      "\n",
      "Trying Google Cloud, Price per chip-hour (3-year CUD)\n",
      "Could not find price\n",
      "\n",
      "Trying Amazon Web Services, Price per chip-hour (1-year CUD)\n",
      "Could not find price\n",
      "\n",
      "Trying Microsoft Azure, Price per chip-hour (1-year CUD)\n",
      "Could not find price\n",
      "\n",
      "Trying Google Cloud, Price per chip-hour (1-year CUD)\n",
      "Could not find price\n",
      "\n",
      "Trying Amazon Web Services, Price per chip-hour (on-demand)\n",
      "Could not find price\n",
      "\n",
      "Trying Microsoft Azure, Price per chip-hour (on-demand)\n",
      "Could not find price\n",
      "\n",
      "Trying Google Cloud, Price per chip-hour (on-demand)\n",
      "Could not find price\n",
      "\n",
      "==== System: GLM-130B ====\n",
      "Trying NVIDIA A100 SXM4 40 GB at 2022-04-06 00:00:00\n",
      "Trying Amazon Web Services, Price per chip-hour (3-year CUD)\n",
      "Found price: 1.45 at 2022-02-26 00:00:00\n",
      "\n",
      "==== System: Flamingo ====\n",
      "Trying Google TPU v4 at 2022-02-13 00:00:00\n",
      "Trying Google Cloud, Price per chip-hour (3-year CUD)\n",
      "Found price: 1.45 at 2022-05-11 00:00:00\n",
      "\n",
      "==== System: GPT-NeoX-20B ====\n",
      "Trying NVIDIA A100 SXM4 40 GB at 2021-09-12 00:00:00\n",
      "Trying Amazon Web Services, Price per chip-hour (3-year CUD)\n",
      "Found price: 1.45 at 2021-11-04 00:00:00\n",
      "\n",
      "{'Minerva (540B)': 13220659.200000001, 'PaLM (540B)': 12187238.4, 'OPT-175B': 1470704.6400000001, 'ALIGN': 160035.84, 'GPT-4': 77520000.0, 'GLaM': 2028236.8, 'AlphaStar': 364953.60000000003, 'RoBERTa Large': 148684.8, 'GNMT': 178329.6, 'GShard (dense)': 928972.8, 'Megatron-LM (8.3B)': 202583.04, 'Gopher (280B)': 3391488.0, 'Meena': 663552.0, 'IMPALA': 128.0, 'Falcon 180B': 25657344.0, 'JFT': 30960.0, 'Megatron-Turing NLG 530B': 6209280.0, 'LaMDA': 1276416.0, 'T5-11B': 222059.52, 'BigGAN-deep 512x512': 10813.439999999999, 'LLaMA-65B': 1392640.0, 'Switch': 597196.8, 'Gemini Ultra': 191400000.0, 'GPT-3 175B (davinci)': 4120319.9999999995, 'BERT-Large': 3054.7967999999996, 'Meta Pseudo Labels': 243302.4, 'Llama 2-70B': 3127680.0, 'U-PaLM (540B)': 12276326.4, 'HyperClova': 948436.9920000001, 'GLM-130B': 1603584.0, 'Flamingo': 801792.0, 'GPT-NeoX-20B': 300672.0}\n"
     ]
    }
   ],
   "source": [
    "cost_df = estimate_costs(frontier_pcd_df, hardware_df, price_df)"
   ]
  },
  {
   "cell_type": "code",
   "execution_count": 9,
   "metadata": {},
   "outputs": [
    {
     "data": {
      "text/html": [
       "<div>\n",
       "<style scoped>\n",
       "    .dataframe tbody tr th:only-of-type {\n",
       "        vertical-align: middle;\n",
       "    }\n",
       "\n",
       "    .dataframe tbody tr th {\n",
       "        vertical-align: top;\n",
       "    }\n",
       "\n",
       "    .dataframe thead th {\n",
       "        text-align: right;\n",
       "    }\n",
       "</style>\n",
       "<table border=\"1\" class=\"dataframe\">\n",
       "  <thead>\n",
       "    <tr style=\"text-align: right;\">\n",
       "      <th></th>\n",
       "      <th>System</th>\n",
       "      <th>Domain</th>\n",
       "      <th>Task</th>\n",
       "      <th>Authors</th>\n",
       "      <th>Notability criteria</th>\n",
       "      <th>Notability criteria notes</th>\n",
       "      <th>Open-source</th>\n",
       "      <th>Link</th>\n",
       "      <th>Citations</th>\n",
       "      <th>Reference</th>\n",
       "      <th>...</th>\n",
       "      <th>Training cost trends</th>\n",
       "      <th>Training cloud compute vendor</th>\n",
       "      <th>Training data center</th>\n",
       "      <th>Archived links</th>\n",
       "      <th>Batch size</th>\n",
       "      <th>Batch size notes</th>\n",
       "      <th>Datasets</th>\n",
       "      <th>Organization categorization</th>\n",
       "      <th>Training time (chip hours)</th>\n",
       "      <th>Cost</th>\n",
       "    </tr>\n",
       "  </thead>\n",
       "  <tbody>\n",
       "    <tr>\n",
       "      <th>358</th>\n",
       "      <td>Yuan 1.0</td>\n",
       "      <td>Language</td>\n",
       "      <td>Language modelling</td>\n",
       "      <td>Shaohua Wu, Xudong Zhao, Tong Yu, Rongguo Zhan...</td>\n",
       "      <td>SOTA Improvement</td>\n",
       "      <td>\"The zero-shot average scores of both LM and P...</td>\n",
       "      <td>NaN</td>\n",
       "      <td>https://arxiv.org/abs/2110.04725</td>\n",
       "      <td>37.0</td>\n",
       "      <td>Yuan 1.0: Large-Scale Pre-trained Language Mod...</td>\n",
       "      <td>...</td>\n",
       "      <td>Yuan 1.0</td>\n",
       "      <td>NaN</td>\n",
       "      <td>NaN</td>\n",
       "      <td>NaN</td>\n",
       "      <td>6881280.0</td>\n",
       "      <td>Table 2. Batch size 3360, sequence length 2048...</td>\n",
       "      <td>NaN</td>\n",
       "      <td>Industry</td>\n",
       "      <td>NaN</td>\n",
       "      <td>NaN</td>\n",
       "    </tr>\n",
       "    <tr>\n",
       "      <th>368</th>\n",
       "      <td>OpenAI TI7 DOTA 1v1</td>\n",
       "      <td>Games</td>\n",
       "      <td>DOTA</td>\n",
       "      <td>NaN</td>\n",
       "      <td>SOTA Improvement,Historical significance</td>\n",
       "      <td>NaN</td>\n",
       "      <td>NaN</td>\n",
       "      <td>https://openai.com/research/dota-2</td>\n",
       "      <td>0.0</td>\n",
       "      <td>Dota 2</td>\n",
       "      <td>...</td>\n",
       "      <td>OpenAI TI7 DOTA 1v1</td>\n",
       "      <td>NaN</td>\n",
       "      <td>NaN</td>\n",
       "      <td>NaN</td>\n",
       "      <td>NaN</td>\n",
       "      <td>NaN</td>\n",
       "      <td>NaN</td>\n",
       "      <td>Industry</td>\n",
       "      <td>NaN</td>\n",
       "      <td>NaN</td>\n",
       "    </tr>\n",
       "    <tr>\n",
       "      <th>378</th>\n",
       "      <td>Claude 2</td>\n",
       "      <td>Language</td>\n",
       "      <td>Language modelling</td>\n",
       "      <td>NaN</td>\n",
       "      <td>Historical significance</td>\n",
       "      <td>NaN</td>\n",
       "      <td>API accessible</td>\n",
       "      <td>https://www.anthropic.com/index/claude-2, http...</td>\n",
       "      <td>0.0</td>\n",
       "      <td>NaN</td>\n",
       "      <td>...</td>\n",
       "      <td>Claude 2</td>\n",
       "      <td>NaN</td>\n",
       "      <td>NaN</td>\n",
       "      <td>NaN</td>\n",
       "      <td>NaN</td>\n",
       "      <td>NaN</td>\n",
       "      <td>NaN</td>\n",
       "      <td>Industry</td>\n",
       "      <td>NaN</td>\n",
       "      <td>NaN</td>\n",
       "    </tr>\n",
       "    <tr>\n",
       "      <th>428</th>\n",
       "      <td>Turing-NLG</td>\n",
       "      <td>Language</td>\n",
       "      <td>Text autocompletion</td>\n",
       "      <td>Corby Rosset</td>\n",
       "      <td>SOTA Improvement</td>\n",
       "      <td>from paper: \"Turing Natural Language Generatio...</td>\n",
       "      <td>NaN</td>\n",
       "      <td>https://www.microsoft.com/en-us/research/blog/...</td>\n",
       "      <td>114.0</td>\n",
       "      <td>Turing-NLG: A 17-billion-parameter language mo...</td>\n",
       "      <td>...</td>\n",
       "      <td>Turing-NLG</td>\n",
       "      <td>NaN</td>\n",
       "      <td>NaN</td>\n",
       "      <td>NaN</td>\n",
       "      <td>NaN</td>\n",
       "      <td>NaN</td>\n",
       "      <td>NaN</td>\n",
       "      <td>Industry</td>\n",
       "      <td>NaN</td>\n",
       "      <td>NaN</td>\n",
       "    </tr>\n",
       "    <tr>\n",
       "      <th>443</th>\n",
       "      <td>GPT-3.5 (text-davinci-003)</td>\n",
       "      <td>Language</td>\n",
       "      <td>Language modelling</td>\n",
       "      <td>NaN</td>\n",
       "      <td>SOTA Improvement,Historical significance,Signi...</td>\n",
       "      <td>NaN</td>\n",
       "      <td>API accessible</td>\n",
       "      <td>https://platform.openai.com/docs/models/gpt-3-5</td>\n",
       "      <td>NaN</td>\n",
       "      <td>NaN</td>\n",
       "      <td>...</td>\n",
       "      <td>GPT-3.5 (text-davinci-003)</td>\n",
       "      <td>NaN</td>\n",
       "      <td>NaN</td>\n",
       "      <td>NaN</td>\n",
       "      <td>NaN</td>\n",
       "      <td>NaN</td>\n",
       "      <td>NaN</td>\n",
       "      <td>Industry</td>\n",
       "      <td>NaN</td>\n",
       "      <td>NaN</td>\n",
       "    </tr>\n",
       "    <tr>\n",
       "      <th>...</th>\n",
       "      <td>...</td>\n",
       "      <td>...</td>\n",
       "      <td>...</td>\n",
       "      <td>...</td>\n",
       "      <td>...</td>\n",
       "      <td>...</td>\n",
       "      <td>...</td>\n",
       "      <td>...</td>\n",
       "      <td>...</td>\n",
       "      <td>...</td>\n",
       "      <td>...</td>\n",
       "      <td>...</td>\n",
       "      <td>...</td>\n",
       "      <td>...</td>\n",
       "      <td>...</td>\n",
       "      <td>...</td>\n",
       "      <td>...</td>\n",
       "      <td>...</td>\n",
       "      <td>...</td>\n",
       "      <td>...</td>\n",
       "      <td>...</td>\n",
       "    </tr>\n",
       "    <tr>\n",
       "      <th>1273</th>\n",
       "      <td>HyperClova</td>\n",
       "      <td>Language</td>\n",
       "      <td>NaN</td>\n",
       "      <td>Boseop Kim, HyoungSeok Kim, Sang-Woo Lee, Gich...</td>\n",
       "      <td>SOTA Improvement</td>\n",
       "      <td>\"HyperCLOVA with our training configuration sh...</td>\n",
       "      <td>NaN</td>\n",
       "      <td>https://arxiv.org/abs/2109.04650</td>\n",
       "      <td>79.0</td>\n",
       "      <td>What Changes Can Large-scale Language Models B...</td>\n",
       "      <td>...</td>\n",
       "      <td>HyperClova</td>\n",
       "      <td>NaN</td>\n",
       "      <td>NaN</td>\n",
       "      <td>NaN</td>\n",
       "      <td>NaN</td>\n",
       "      <td>\"All models use the mini-batch size of 1,024\"....</td>\n",
       "      <td>NaN</td>\n",
       "      <td>Industry,Industry</td>\n",
       "      <td>658636.8</td>\n",
       "      <td>948436.992</td>\n",
       "    </tr>\n",
       "    <tr>\n",
       "      <th>1274</th>\n",
       "      <td>PanGu-Σ</td>\n",
       "      <td>Language</td>\n",
       "      <td>Code generation,Language modelling</td>\n",
       "      <td>Xiaozhe Ren, Pingyi Zhou, Xinfan Meng, Xinjing...</td>\n",
       "      <td>SOTA Improvement</td>\n",
       "      <td>\"Our experimental findings show that PanGu-{\\S...</td>\n",
       "      <td>NaN</td>\n",
       "      <td>https://arxiv.org/abs/2303.10845</td>\n",
       "      <td>28.0</td>\n",
       "      <td>PanGu-Σ: Towards Trillion Parameter Language M...</td>\n",
       "      <td>...</td>\n",
       "      <td>PanGu-Σ</td>\n",
       "      <td>NaN</td>\n",
       "      <td>NaN</td>\n",
       "      <td>NaN</td>\n",
       "      <td>524288.0</td>\n",
       "      <td>\"We train PanGu-Σ with global batch size of 51...</td>\n",
       "      <td>NaN</td>\n",
       "      <td>Industry</td>\n",
       "      <td>1228800.0</td>\n",
       "      <td>NaN</td>\n",
       "    </tr>\n",
       "    <tr>\n",
       "      <th>1276</th>\n",
       "      <td>GLM-130B</td>\n",
       "      <td>Language</td>\n",
       "      <td>NaN</td>\n",
       "      <td>NaN</td>\n",
       "      <td>SOTA Improvement</td>\n",
       "      <td>\"GLM-130B achieves an accuracy of 80.2% on zer...</td>\n",
       "      <td>NaN</td>\n",
       "      <td>https://keg.cs.tsinghua.edu.cn/glm-130b/posts/...</td>\n",
       "      <td>60.0</td>\n",
       "      <td>GLM-130B: An open bilingual pre-trained model</td>\n",
       "      <td>...</td>\n",
       "      <td>GLM-130B</td>\n",
       "      <td>NaN</td>\n",
       "      <td>NaN</td>\n",
       "      <td>NaN</td>\n",
       "      <td>NaN</td>\n",
       "      <td>NaN</td>\n",
       "      <td>NaN</td>\n",
       "      <td>Academia</td>\n",
       "      <td>1105920.0</td>\n",
       "      <td>1603584.000</td>\n",
       "    </tr>\n",
       "    <tr>\n",
       "      <th>1277</th>\n",
       "      <td>Flamingo</td>\n",
       "      <td>Multimodal</td>\n",
       "      <td>Visual question answering,Image captioning</td>\n",
       "      <td>Jean-Baptiste Alayrac, Jeff Donahue, Pauline L...</td>\n",
       "      <td>SOTA Improvement</td>\n",
       "      <td>\"For tasks lying anywhere on this spectrum, a ...</td>\n",
       "      <td>NaN</td>\n",
       "      <td>https://arxiv.org/abs/2204.14198</td>\n",
       "      <td>1320.0</td>\n",
       "      <td>Flamingo: a Visual Language Model for Few-Shot...</td>\n",
       "      <td>...</td>\n",
       "      <td>Flamingo</td>\n",
       "      <td>NaN</td>\n",
       "      <td>NaN</td>\n",
       "      <td>NaN</td>\n",
       "      <td>NaN</td>\n",
       "      <td>NaN</td>\n",
       "      <td>\"MultiModal MassiveWeb, LTIP, VTP, ALIGN\"</td>\n",
       "      <td>Industry</td>\n",
       "      <td>552960.0</td>\n",
       "      <td>801792.000</td>\n",
       "    </tr>\n",
       "    <tr>\n",
       "      <th>1278</th>\n",
       "      <td>GPT-NeoX-20B</td>\n",
       "      <td>Language</td>\n",
       "      <td>NaN</td>\n",
       "      <td>Sid Black, Stella Biderman, Eric Hallahan, Que...</td>\n",
       "      <td>Historical significance</td>\n",
       "      <td>NaN</td>\n",
       "      <td>Fully open-source</td>\n",
       "      <td>https://arxiv.org/abs/2204.06745</td>\n",
       "      <td>436.0</td>\n",
       "      <td>GPT-NeoX-20B: An Open-Source Autoregressive La...</td>\n",
       "      <td>...</td>\n",
       "      <td>GPT-NeoX-20B</td>\n",
       "      <td>NaN</td>\n",
       "      <td>NaN</td>\n",
       "      <td>NaN</td>\n",
       "      <td>3150000.0</td>\n",
       "      <td>\"we opt to use the same batch size as OpenAI’s...</td>\n",
       "      <td>The Pile</td>\n",
       "      <td>Research collective</td>\n",
       "      <td>207360.0</td>\n",
       "      <td>300672.000</td>\n",
       "    </tr>\n",
       "  </tbody>\n",
       "</table>\n",
       "<p>68 rows × 53 columns</p>\n",
       "</div>"
      ],
      "text/plain": [
       "                          System      Domain  \\\n",
       "358                     Yuan 1.0    Language   \n",
       "368          OpenAI TI7 DOTA 1v1       Games   \n",
       "378                     Claude 2    Language   \n",
       "428                   Turing-NLG    Language   \n",
       "443   GPT-3.5 (text-davinci-003)    Language   \n",
       "...                          ...         ...   \n",
       "1273                  HyperClova    Language   \n",
       "1274                     PanGu-Σ    Language   \n",
       "1276                    GLM-130B    Language   \n",
       "1277                    Flamingo  Multimodal   \n",
       "1278                GPT-NeoX-20B    Language   \n",
       "\n",
       "                                            Task  \\\n",
       "358                           Language modelling   \n",
       "368                                         DOTA   \n",
       "378                           Language modelling   \n",
       "428                          Text autocompletion   \n",
       "443                           Language modelling   \n",
       "...                                          ...   \n",
       "1273                                         NaN   \n",
       "1274          Code generation,Language modelling   \n",
       "1276                                         NaN   \n",
       "1277  Visual question answering,Image captioning   \n",
       "1278                                         NaN   \n",
       "\n",
       "                                                Authors  \\\n",
       "358   Shaohua Wu, Xudong Zhao, Tong Yu, Rongguo Zhan...   \n",
       "368                                                 NaN   \n",
       "378                                                 NaN   \n",
       "428                                        Corby Rosset   \n",
       "443                                                 NaN   \n",
       "...                                                 ...   \n",
       "1273  Boseop Kim, HyoungSeok Kim, Sang-Woo Lee, Gich...   \n",
       "1274  Xiaozhe Ren, Pingyi Zhou, Xinfan Meng, Xinjing...   \n",
       "1276                                                NaN   \n",
       "1277  Jean-Baptiste Alayrac, Jeff Donahue, Pauline L...   \n",
       "1278  Sid Black, Stella Biderman, Eric Hallahan, Que...   \n",
       "\n",
       "                                    Notability criteria  \\\n",
       "358                                    SOTA Improvement   \n",
       "368            SOTA Improvement,Historical significance   \n",
       "378                             Historical significance   \n",
       "428                                    SOTA Improvement   \n",
       "443   SOTA Improvement,Historical significance,Signi...   \n",
       "...                                                 ...   \n",
       "1273                                   SOTA Improvement   \n",
       "1274                                   SOTA Improvement   \n",
       "1276                                   SOTA Improvement   \n",
       "1277                                   SOTA Improvement   \n",
       "1278                            Historical significance   \n",
       "\n",
       "                              Notability criteria notes        Open-source  \\\n",
       "358   \"The zero-shot average scores of both LM and P...                NaN   \n",
       "368                                                 NaN                NaN   \n",
       "378                                                 NaN     API accessible   \n",
       "428   from paper: \"Turing Natural Language Generatio...                NaN   \n",
       "443                                                 NaN     API accessible   \n",
       "...                                                 ...                ...   \n",
       "1273  \"HyperCLOVA with our training configuration sh...                NaN   \n",
       "1274  \"Our experimental findings show that PanGu-{\\S...                NaN   \n",
       "1276  \"GLM-130B achieves an accuracy of 80.2% on zer...                NaN   \n",
       "1277  \"For tasks lying anywhere on this spectrum, a ...                NaN   \n",
       "1278                                                NaN  Fully open-source   \n",
       "\n",
       "                                                   Link  Citations  \\\n",
       "358                    https://arxiv.org/abs/2110.04725       37.0   \n",
       "368                  https://openai.com/research/dota-2        0.0   \n",
       "378   https://www.anthropic.com/index/claude-2, http...        0.0   \n",
       "428   https://www.microsoft.com/en-us/research/blog/...      114.0   \n",
       "443     https://platform.openai.com/docs/models/gpt-3-5        NaN   \n",
       "...                                                 ...        ...   \n",
       "1273                   https://arxiv.org/abs/2109.04650       79.0   \n",
       "1274                   https://arxiv.org/abs/2303.10845       28.0   \n",
       "1276  https://keg.cs.tsinghua.edu.cn/glm-130b/posts/...       60.0   \n",
       "1277                   https://arxiv.org/abs/2204.14198     1320.0   \n",
       "1278                   https://arxiv.org/abs/2204.06745      436.0   \n",
       "\n",
       "                                              Reference  ...  \\\n",
       "358   Yuan 1.0: Large-Scale Pre-trained Language Mod...  ...   \n",
       "368                                              Dota 2  ...   \n",
       "378                                                 NaN  ...   \n",
       "428   Turing-NLG: A 17-billion-parameter language mo...  ...   \n",
       "443                                                 NaN  ...   \n",
       "...                                                 ...  ...   \n",
       "1273  What Changes Can Large-scale Language Models B...  ...   \n",
       "1274  PanGu-Σ: Towards Trillion Parameter Language M...  ...   \n",
       "1276      GLM-130B: An open bilingual pre-trained model  ...   \n",
       "1277  Flamingo: a Visual Language Model for Few-Shot...  ...   \n",
       "1278  GPT-NeoX-20B: An Open-Source Autoregressive La...  ...   \n",
       "\n",
       "            Training cost trends Training cloud compute vendor  \\\n",
       "358                     Yuan 1.0                           NaN   \n",
       "368          OpenAI TI7 DOTA 1v1                           NaN   \n",
       "378                     Claude 2                           NaN   \n",
       "428                   Turing-NLG                           NaN   \n",
       "443   GPT-3.5 (text-davinci-003)                           NaN   \n",
       "...                          ...                           ...   \n",
       "1273                  HyperClova                           NaN   \n",
       "1274                     PanGu-Σ                           NaN   \n",
       "1276                    GLM-130B                           NaN   \n",
       "1277                    Flamingo                           NaN   \n",
       "1278                GPT-NeoX-20B                           NaN   \n",
       "\n",
       "      Training data center Archived links  Batch size  \\\n",
       "358                    NaN            NaN   6881280.0   \n",
       "368                    NaN            NaN         NaN   \n",
       "378                    NaN            NaN         NaN   \n",
       "428                    NaN            NaN         NaN   \n",
       "443                    NaN            NaN         NaN   \n",
       "...                    ...            ...         ...   \n",
       "1273                   NaN            NaN         NaN   \n",
       "1274                   NaN            NaN    524288.0   \n",
       "1276                   NaN            NaN         NaN   \n",
       "1277                   NaN            NaN         NaN   \n",
       "1278                   NaN            NaN   3150000.0   \n",
       "\n",
       "                                       Batch size notes  \\\n",
       "358   Table 2. Batch size 3360, sequence length 2048...   \n",
       "368                                                 NaN   \n",
       "378                                                 NaN   \n",
       "428                                                 NaN   \n",
       "443                                                 NaN   \n",
       "...                                                 ...   \n",
       "1273  \"All models use the mini-batch size of 1,024\"....   \n",
       "1274  \"We train PanGu-Σ with global batch size of 51...   \n",
       "1276                                                NaN   \n",
       "1277                                                NaN   \n",
       "1278  \"we opt to use the same batch size as OpenAI’s...   \n",
       "\n",
       "                                       Datasets Organization categorization  \\\n",
       "358                                         NaN                    Industry   \n",
       "368                                         NaN                    Industry   \n",
       "378                                         NaN                    Industry   \n",
       "428                                         NaN                    Industry   \n",
       "443                                         NaN                    Industry   \n",
       "...                                         ...                         ...   \n",
       "1273                                        NaN           Industry,Industry   \n",
       "1274                                        NaN                    Industry   \n",
       "1276                                        NaN                    Academia   \n",
       "1277  \"MultiModal MassiveWeb, LTIP, VTP, ALIGN\"                    Industry   \n",
       "1278                                   The Pile         Research collective   \n",
       "\n",
       "      Training time (chip hours)         Cost  \n",
       "358                          NaN          NaN  \n",
       "368                          NaN          NaN  \n",
       "378                          NaN          NaN  \n",
       "428                          NaN          NaN  \n",
       "443                          NaN          NaN  \n",
       "...                          ...          ...  \n",
       "1273                    658636.8   948436.992  \n",
       "1274                   1228800.0          NaN  \n",
       "1276                   1105920.0  1603584.000  \n",
       "1277                    552960.0   801792.000  \n",
       "1278                    207360.0   300672.000  \n",
       "\n",
       "[68 rows x 53 columns]"
      ]
     },
     "execution_count": 9,
     "metadata": {},
     "output_type": "execute_result"
    }
   ],
   "source": [
    "cost_df"
   ]
  },
  {
   "cell_type": "code",
   "execution_count": 10,
   "metadata": {},
   "outputs": [
    {
     "data": {
      "text/plain": [
       "32"
      ]
     },
     "execution_count": 10,
     "metadata": {},
     "output_type": "execute_result"
    }
   ],
   "source": [
    "cost_df['Cost'].notna().sum()"
   ]
  },
  {
   "cell_type": "code",
   "execution_count": 11,
   "metadata": {},
   "outputs": [
    {
     "data": {
      "text/plain": [
       "358                              NaN\n",
       "368                              NaN\n",
       "378                              NaN\n",
       "428     NVIDIA Tesla V100 DGXS 32 GB\n",
       "443           NVIDIA A100 SXM4 40 GB\n",
       "                    ...             \n",
       "1273                     NVIDIA A100\n",
       "1274               Huawei Ascend 910\n",
       "1276          NVIDIA A100 SXM4 40 GB\n",
       "1277                   Google TPU v4\n",
       "1278          NVIDIA A100 SXM4 40 GB\n",
       "Name: Training hardware, Length: 68, dtype: object"
      ]
     },
     "execution_count": 11,
     "metadata": {},
     "output_type": "execute_result"
    }
   ],
   "source": [
    "cost_df['Training hardware']"
   ]
  },
  {
   "cell_type": "code",
   "execution_count": 12,
   "metadata": {},
   "outputs": [],
   "source": [
    "# system = 'AlphaGo Fan'\n",
    "# print('Cost:', cost_df.loc[system, 'Cost'])\n",
    "# print('Training hardware:', cost_df.loc[system, 'Training hardware'])\n",
    "# print('Training time (hours):', cost_df.loc[system, 'Training time (hours)'])\n",
    "# print('Hardware quantity:', cost_df.loc[system, 'Hardware quantity'])\n",
    "# print('Hardware utilization:', cost_df.loc[system, 'Hardware utilization'])"
   ]
  },
  {
   "cell_type": "markdown",
   "metadata": {},
   "source": [
    "# Apply inflation adjustment"
   ]
  },
  {
   "cell_type": "code",
   "execution_count": 13,
   "metadata": {},
   "outputs": [],
   "source": [
    "# TODO move to function"
   ]
  },
  {
   "cell_type": "code",
   "execution_count": 14,
   "metadata": {},
   "outputs": [
    {
     "data": {
      "text/plain": [
       "358    2021-10-12\n",
       "368    2017-08-11\n",
       "378    2023-07-11\n",
       "428    2020-02-13\n",
       "443    2022-11-28\n",
       "          ...    \n",
       "1273   2021-09-10\n",
       "1274   2023-03-20\n",
       "1276   2022-08-04\n",
       "1277   2022-04-29\n",
       "1278   2022-02-09\n",
       "Name: Publication date, Length: 68, dtype: datetime64[ns]"
      ]
     },
     "execution_count": 14,
     "metadata": {},
     "output_type": "execute_result"
    }
   ],
   "source": [
    "cost_df['Publication date']"
   ]
  },
  {
   "cell_type": "code",
   "execution_count": 15,
   "metadata": {
    "ExecuteTime": {
     "end_time": "2024-02-07T16:04:33.405367600Z",
     "start_time": "2024-02-07T16:04:33.290732900Z"
    }
   },
   "outputs": [],
   "source": [
    "from_year_month = cost_df['Publication date'].apply(str)\n",
    "cost_df['Publication date'] = from_year_month"
   ]
  },
  {
   "cell_type": "code",
   "execution_count": 16,
   "metadata": {
    "ExecuteTime": {
     "end_time": "2024-02-07T16:04:33.499948700Z",
     "start_time": "2024-02-07T16:04:33.405367600Z"
    }
   },
   "outputs": [
    {
     "data": {
      "text/plain": [
       "358     2021-10-12 00:00:00\n",
       "368     2017-08-11 00:00:00\n",
       "378     2023-07-11 00:00:00\n",
       "428     2020-02-13 00:00:00\n",
       "443     2022-11-28 00:00:00\n",
       "               ...         \n",
       "1273    2021-09-10 00:00:00\n",
       "1274    2023-03-20 00:00:00\n",
       "1276    2022-08-04 00:00:00\n",
       "1277    2022-04-29 00:00:00\n",
       "1278    2022-02-09 00:00:00\n",
       "Name: Publication date, Length: 68, dtype: object"
      ]
     },
     "execution_count": 16,
     "metadata": {},
     "output_type": "execute_result"
    }
   ],
   "source": [
    "cost_df['Publication date']"
   ]
  },
  {
   "cell_type": "code",
   "execution_count": 17,
   "metadata": {
    "ExecuteTime": {
     "end_time": "2024-02-07T16:04:53.202236900Z",
     "start_time": "2024-02-07T16:04:52.976107600Z"
    }
   },
   "outputs": [],
   "source": [
    "cost_df = adjust_column_for_inflation(cost_df, 'Cost', 'data/PCU518210518210.csv', '2023-12-01')"
   ]
  },
  {
   "cell_type": "code",
   "execution_count": 18,
   "metadata": {},
   "outputs": [
    {
     "data": {
      "text/plain": [
       "558     1.347019e+07\n",
       "599     1.238906e+07\n",
       "614     1.493975e+06\n",
       "634     1.655001e+05\n",
       "642     7.835203e+07\n",
       "645     2.093016e+06\n",
       "660     3.889027e+05\n",
       "680     1.600176e+05\n",
       "704     1.947392e+05\n",
       "744     9.691116e+05\n",
       "765     2.160704e+05\n",
       "771     3.499808e+06\n",
       "782     6.971103e+05\n",
       "786     1.381309e+02\n",
       "822     2.581632e+07\n",
       "864     3.344073e+04\n",
       "868     6.405653e+06\n",
       "884     1.319586e+06\n",
       "888     2.366316e+05\n",
       "909     1.164818e+04\n",
       "951     1.410426e+06\n",
       "1225    6.197414e+05\n",
       "1235    1.914000e+08\n",
       "1238    4.324883e+06\n",
       "1250    3.287635e+03\n",
       "1251    2.513914e+05\n",
       "1252    3.145518e+06\n",
       "1272    1.252379e+07\n",
       "1273    9.801649e+05\n",
       "1276    1.635573e+06\n",
       "1277    8.150695e+05\n",
       "1278    3.108410e+05\n",
       "Name: Cost (inflation-adjusted), dtype: float64"
      ]
     },
     "execution_count": 18,
     "metadata": {},
     "output_type": "execute_result"
    }
   ],
   "source": [
    "cost_df['Cost (inflation-adjusted)'].dropna()"
   ]
  },
  {
   "cell_type": "code",
   "execution_count": 19,
   "metadata": {},
   "outputs": [
    {
     "data": {
      "text/plain": [
       "32"
      ]
     },
     "execution_count": 19,
     "metadata": {},
     "output_type": "execute_result"
    }
   ],
   "source": [
    "cost_df['Cost (inflation-adjusted)'].notna().sum()"
   ]
  },
  {
   "cell_type": "markdown",
   "metadata": {},
   "source": [
    "# Regression"
   ]
  },
  {
   "cell_type": "code",
   "execution_count": null,
   "metadata": {
    "ExecuteTime": {
     "end_time": "2024-02-07T16:04:33.660916400Z",
     "start_time": "2024-02-07T16:04:33.645130900Z"
    }
   },
   "outputs": [],
   "source": []
  },
  {
   "cell_type": "markdown",
   "metadata": {},
   "source": [
    "# Plots"
   ]
  },
  {
   "cell_type": "code",
   "execution_count": 20,
   "metadata": {},
   "outputs": [
    {
     "data": {
      "application/vnd.plotly.v1+json": {
       "config": {
        "plotlyServerURL": "https://plot.ly"
       },
       "data": [
        {
         "hovertemplate": "Publication date=%{x}<br>Cost=%{y}<br>System=%{text}<extra></extra>",
         "legendgroup": "",
         "marker": {
          "color": "#636efa",
          "symbol": "circle"
         },
         "mode": "markers+text",
         "name": "",
         "orientation": "v",
         "showlegend": false,
         "text": [
          "Yuan 1.0",
          "OpenAI TI7 DOTA 1v1",
          "Claude 2",
          "Turing-NLG",
          "GPT-3.5 (text-davinci-003)",
          "AlphaGo Master",
          "Minerva (540B)",
          "FTW",
          "AlphaGo Zero",
          "NASv3 (CIFAR-10)",
          "AlphaZero",
          "PaLM (540B)",
          "OPT-175B",
          "ALIGN",
          "AlphaGo Fan",
          "GPT-4",
          "GLaM",
          "AlphaGo Lee",
          "AlphaStar",
          "OpenAI Five",
          "RoBERTa Large",
          "OpenAI Five Rerun",
          "GNMT",
          "GShard (dense)",
          "AlphaCode",
          "Megatron-LM (8.3B)",
          "Gopher (280B)",
          "Meena",
          "IMPALA",
          "PaLM 2",
          "Megatron-BERT",
          "Falcon 180B",
          "JFT",
          "AmoebaNet-A (F=448)",
          "Megatron-Turing NLG 530B",
          "T5-3B",
          "LaMDA",
          "T5-11B",
          "BigGAN-deep 512x512",
          "ResNeXt-101 32x48d",
          "Chinchilla",
          "ERNIE 3.0 Titan",
          "LLaMA-65B",
          "DALL-E",
          "GPT-2 (1.5B)",
          "GOAT",
          "Switch",
          "iGPT-XL",
          "Parti",
          "mT5-XXL",
          "ByT5-XXL",
          "BlenderBot 3",
          "ChatGLM3",
          "Yi-34B",
          "Qwen-72B",
          "Gemini Ultra",
          "ProtT5-XXL",
          "GPT-3 175B (davinci)",
          "Inflection-2",
          "BERT-Large",
          "Meta Pseudo Labels",
          "Llama 2-70B",
          "U-PaLM (540B)",
          "HyperClova",
          "PanGu-Σ",
          "GLM-130B",
          "Flamingo",
          "GPT-NeoX-20B"
         ],
         "textposition": "top center",
         "type": "scatter",
         "x": [
          "2021-10-12 00:00:00",
          "2017-08-11 00:00:00",
          "2023-07-11 00:00:00",
          "2020-02-13 00:00:00",
          "2022-11-28 00:00:00",
          "2017-01-01 00:00:00",
          "2022-06-29 00:00:00",
          "2018-07-03 00:00:00",
          "2017-10-18 00:00:00",
          "2016-11-05 00:00:00",
          "2017-12-05 00:00:00",
          "2022-04-04 00:00:00",
          "2022-05-02 00:00:00",
          "2021-06-11 00:00:00",
          "2015-10-01 00:00:00",
          "2023-03-15 00:00:00",
          "2021-12-13 00:00:00",
          "2016-01-27 00:00:00",
          "2019-10-30 00:00:00",
          "2019-12-13 00:00:00",
          "2019-07-01 00:00:00",
          "2019-12-13 00:00:00",
          "2016-09-26 00:00:00",
          "2020-06-30 00:00:00",
          "2022-02-02 00:00:00",
          "2019-09-17 00:00:00",
          "2021-12-08 00:00:00",
          "2020-01-28 00:00:00",
          "2018-02-05 00:00:00",
          "2023-05-10 00:00:00",
          "2019-09-17 00:00:00",
          "2023-09-06 00:00:00",
          "2017-07-10 00:00:00",
          "2018-02-05 00:00:00",
          "2021-10-11 00:00:00",
          "2019-10-23 00:00:00",
          "2022-02-10 00:00:00",
          "2019-10-23 00:00:00",
          "2018-09-28 00:00:00",
          "2018-05-02 00:00:00",
          "2022-03-29 00:00:00",
          "2021-12-23 00:00:00",
          "2023-02-24 00:00:00",
          "2021-01-05 00:00:00",
          "2019-02-14 00:00:00",
          "2021-07-27 00:00:00",
          "2021-01-11 00:00:00",
          "2020-06-17 00:00:00",
          "2022-06-22 00:00:00",
          "2020-10-20 00:00:00",
          "2021-05-28 00:00:00",
          "2022-08-10 00:00:00",
          "2023-10-27 00:00:00",
          "2023-11-02 00:00:00",
          "2023-11-30 00:00:00",
          "2023-12-06 00:00:00",
          "2021-05-04 00:00:00",
          "2020-05-28 00:00:00",
          "2023-11-22 00:00:00",
          "2018-10-11 00:00:00",
          "2021-03-01 00:00:00",
          "2023-07-18 00:00:00",
          "2022-10-20 00:00:00",
          "2021-09-10 00:00:00",
          "2023-03-20 00:00:00",
          "2022-08-04 00:00:00",
          "2022-04-29 00:00:00",
          "2022-02-09 00:00:00"
         ],
         "xaxis": "x",
         "y": [
          null,
          null,
          null,
          null,
          null,
          null,
          13220659.200000001,
          null,
          null,
          null,
          null,
          12187238.4,
          1470704.6400000001,
          160035.84,
          null,
          77520000,
          2028236.8,
          null,
          364953.60000000003,
          null,
          148684.8,
          null,
          178329.6,
          928972.8,
          null,
          202583.04,
          3391488,
          663552,
          128,
          null,
          null,
          25657344,
          30960,
          null,
          6209280,
          null,
          1276416,
          222059.52,
          10813.439999999999,
          null,
          null,
          null,
          1392640,
          null,
          null,
          null,
          597196.8,
          null,
          null,
          null,
          null,
          null,
          null,
          null,
          null,
          191400000,
          null,
          4120319.9999999995,
          null,
          3054.7967999999996,
          243302.4,
          3127680,
          12276326.4,
          948436.9920000001,
          null,
          1603584,
          801792,
          300672
         ],
         "yaxis": "y"
        }
       ],
       "layout": {
        "autosize": false,
        "font": {
         "size": 14
        },
        "height": 600,
        "legend": {
         "tracegroupgap": 0
        },
        "margin": {
         "b": 10,
         "l": 10,
         "r": 10,
         "t": 40
        },
        "showlegend": false,
        "template": {
         "data": {
          "bar": [
           {
            "error_x": {
             "color": "#2a3f5f"
            },
            "error_y": {
             "color": "#2a3f5f"
            },
            "marker": {
             "line": {
              "color": "#E5ECF6",
              "width": 0.5
             },
             "pattern": {
              "fillmode": "overlay",
              "size": 10,
              "solidity": 0.2
             }
            },
            "type": "bar"
           }
          ],
          "barpolar": [
           {
            "marker": {
             "line": {
              "color": "#E5ECF6",
              "width": 0.5
             },
             "pattern": {
              "fillmode": "overlay",
              "size": 10,
              "solidity": 0.2
             }
            },
            "type": "barpolar"
           }
          ],
          "carpet": [
           {
            "aaxis": {
             "endlinecolor": "#2a3f5f",
             "gridcolor": "white",
             "linecolor": "white",
             "minorgridcolor": "white",
             "startlinecolor": "#2a3f5f"
            },
            "baxis": {
             "endlinecolor": "#2a3f5f",
             "gridcolor": "white",
             "linecolor": "white",
             "minorgridcolor": "white",
             "startlinecolor": "#2a3f5f"
            },
            "type": "carpet"
           }
          ],
          "choropleth": [
           {
            "colorbar": {
             "outlinewidth": 0,
             "ticks": ""
            },
            "type": "choropleth"
           }
          ],
          "contour": [
           {
            "colorbar": {
             "outlinewidth": 0,
             "ticks": ""
            },
            "colorscale": [
             [
              0,
              "#0d0887"
             ],
             [
              0.1111111111111111,
              "#46039f"
             ],
             [
              0.2222222222222222,
              "#7201a8"
             ],
             [
              0.3333333333333333,
              "#9c179e"
             ],
             [
              0.4444444444444444,
              "#bd3786"
             ],
             [
              0.5555555555555556,
              "#d8576b"
             ],
             [
              0.6666666666666666,
              "#ed7953"
             ],
             [
              0.7777777777777778,
              "#fb9f3a"
             ],
             [
              0.8888888888888888,
              "#fdca26"
             ],
             [
              1,
              "#f0f921"
             ]
            ],
            "type": "contour"
           }
          ],
          "contourcarpet": [
           {
            "colorbar": {
             "outlinewidth": 0,
             "ticks": ""
            },
            "type": "contourcarpet"
           }
          ],
          "heatmap": [
           {
            "colorbar": {
             "outlinewidth": 0,
             "ticks": ""
            },
            "colorscale": [
             [
              0,
              "#0d0887"
             ],
             [
              0.1111111111111111,
              "#46039f"
             ],
             [
              0.2222222222222222,
              "#7201a8"
             ],
             [
              0.3333333333333333,
              "#9c179e"
             ],
             [
              0.4444444444444444,
              "#bd3786"
             ],
             [
              0.5555555555555556,
              "#d8576b"
             ],
             [
              0.6666666666666666,
              "#ed7953"
             ],
             [
              0.7777777777777778,
              "#fb9f3a"
             ],
             [
              0.8888888888888888,
              "#fdca26"
             ],
             [
              1,
              "#f0f921"
             ]
            ],
            "type": "heatmap"
           }
          ],
          "heatmapgl": [
           {
            "colorbar": {
             "outlinewidth": 0,
             "ticks": ""
            },
            "colorscale": [
             [
              0,
              "#0d0887"
             ],
             [
              0.1111111111111111,
              "#46039f"
             ],
             [
              0.2222222222222222,
              "#7201a8"
             ],
             [
              0.3333333333333333,
              "#9c179e"
             ],
             [
              0.4444444444444444,
              "#bd3786"
             ],
             [
              0.5555555555555556,
              "#d8576b"
             ],
             [
              0.6666666666666666,
              "#ed7953"
             ],
             [
              0.7777777777777778,
              "#fb9f3a"
             ],
             [
              0.8888888888888888,
              "#fdca26"
             ],
             [
              1,
              "#f0f921"
             ]
            ],
            "type": "heatmapgl"
           }
          ],
          "histogram": [
           {
            "marker": {
             "pattern": {
              "fillmode": "overlay",
              "size": 10,
              "solidity": 0.2
             }
            },
            "type": "histogram"
           }
          ],
          "histogram2d": [
           {
            "colorbar": {
             "outlinewidth": 0,
             "ticks": ""
            },
            "colorscale": [
             [
              0,
              "#0d0887"
             ],
             [
              0.1111111111111111,
              "#46039f"
             ],
             [
              0.2222222222222222,
              "#7201a8"
             ],
             [
              0.3333333333333333,
              "#9c179e"
             ],
             [
              0.4444444444444444,
              "#bd3786"
             ],
             [
              0.5555555555555556,
              "#d8576b"
             ],
             [
              0.6666666666666666,
              "#ed7953"
             ],
             [
              0.7777777777777778,
              "#fb9f3a"
             ],
             [
              0.8888888888888888,
              "#fdca26"
             ],
             [
              1,
              "#f0f921"
             ]
            ],
            "type": "histogram2d"
           }
          ],
          "histogram2dcontour": [
           {
            "colorbar": {
             "outlinewidth": 0,
             "ticks": ""
            },
            "colorscale": [
             [
              0,
              "#0d0887"
             ],
             [
              0.1111111111111111,
              "#46039f"
             ],
             [
              0.2222222222222222,
              "#7201a8"
             ],
             [
              0.3333333333333333,
              "#9c179e"
             ],
             [
              0.4444444444444444,
              "#bd3786"
             ],
             [
              0.5555555555555556,
              "#d8576b"
             ],
             [
              0.6666666666666666,
              "#ed7953"
             ],
             [
              0.7777777777777778,
              "#fb9f3a"
             ],
             [
              0.8888888888888888,
              "#fdca26"
             ],
             [
              1,
              "#f0f921"
             ]
            ],
            "type": "histogram2dcontour"
           }
          ],
          "mesh3d": [
           {
            "colorbar": {
             "outlinewidth": 0,
             "ticks": ""
            },
            "type": "mesh3d"
           }
          ],
          "parcoords": [
           {
            "line": {
             "colorbar": {
              "outlinewidth": 0,
              "ticks": ""
             }
            },
            "type": "parcoords"
           }
          ],
          "pie": [
           {
            "automargin": true,
            "type": "pie"
           }
          ],
          "scatter": [
           {
            "fillpattern": {
             "fillmode": "overlay",
             "size": 10,
             "solidity": 0.2
            },
            "type": "scatter"
           }
          ],
          "scatter3d": [
           {
            "line": {
             "colorbar": {
              "outlinewidth": 0,
              "ticks": ""
             }
            },
            "marker": {
             "colorbar": {
              "outlinewidth": 0,
              "ticks": ""
             }
            },
            "type": "scatter3d"
           }
          ],
          "scattercarpet": [
           {
            "marker": {
             "colorbar": {
              "outlinewidth": 0,
              "ticks": ""
             }
            },
            "type": "scattercarpet"
           }
          ],
          "scattergeo": [
           {
            "marker": {
             "colorbar": {
              "outlinewidth": 0,
              "ticks": ""
             }
            },
            "type": "scattergeo"
           }
          ],
          "scattergl": [
           {
            "marker": {
             "colorbar": {
              "outlinewidth": 0,
              "ticks": ""
             }
            },
            "type": "scattergl"
           }
          ],
          "scattermapbox": [
           {
            "marker": {
             "colorbar": {
              "outlinewidth": 0,
              "ticks": ""
             }
            },
            "type": "scattermapbox"
           }
          ],
          "scatterpolar": [
           {
            "marker": {
             "colorbar": {
              "outlinewidth": 0,
              "ticks": ""
             }
            },
            "type": "scatterpolar"
           }
          ],
          "scatterpolargl": [
           {
            "marker": {
             "colorbar": {
              "outlinewidth": 0,
              "ticks": ""
             }
            },
            "type": "scatterpolargl"
           }
          ],
          "scatterternary": [
           {
            "marker": {
             "colorbar": {
              "outlinewidth": 0,
              "ticks": ""
             }
            },
            "type": "scatterternary"
           }
          ],
          "surface": [
           {
            "colorbar": {
             "outlinewidth": 0,
             "ticks": ""
            },
            "colorscale": [
             [
              0,
              "#0d0887"
             ],
             [
              0.1111111111111111,
              "#46039f"
             ],
             [
              0.2222222222222222,
              "#7201a8"
             ],
             [
              0.3333333333333333,
              "#9c179e"
             ],
             [
              0.4444444444444444,
              "#bd3786"
             ],
             [
              0.5555555555555556,
              "#d8576b"
             ],
             [
              0.6666666666666666,
              "#ed7953"
             ],
             [
              0.7777777777777778,
              "#fb9f3a"
             ],
             [
              0.8888888888888888,
              "#fdca26"
             ],
             [
              1,
              "#f0f921"
             ]
            ],
            "type": "surface"
           }
          ],
          "table": [
           {
            "cells": {
             "fill": {
              "color": "#EBF0F8"
             },
             "line": {
              "color": "white"
             }
            },
            "header": {
             "fill": {
              "color": "#C8D4E3"
             },
             "line": {
              "color": "white"
             }
            },
            "type": "table"
           }
          ]
         },
         "layout": {
          "annotationdefaults": {
           "arrowcolor": "#2a3f5f",
           "arrowhead": 0,
           "arrowwidth": 1
          },
          "autotypenumbers": "strict",
          "coloraxis": {
           "colorbar": {
            "outlinewidth": 0,
            "ticks": ""
           }
          },
          "colorscale": {
           "diverging": [
            [
             0,
             "#8e0152"
            ],
            [
             0.1,
             "#c51b7d"
            ],
            [
             0.2,
             "#de77ae"
            ],
            [
             0.3,
             "#f1b6da"
            ],
            [
             0.4,
             "#fde0ef"
            ],
            [
             0.5,
             "#f7f7f7"
            ],
            [
             0.6,
             "#e6f5d0"
            ],
            [
             0.7,
             "#b8e186"
            ],
            [
             0.8,
             "#7fbc41"
            ],
            [
             0.9,
             "#4d9221"
            ],
            [
             1,
             "#276419"
            ]
           ],
           "sequential": [
            [
             0,
             "#0d0887"
            ],
            [
             0.1111111111111111,
             "#46039f"
            ],
            [
             0.2222222222222222,
             "#7201a8"
            ],
            [
             0.3333333333333333,
             "#9c179e"
            ],
            [
             0.4444444444444444,
             "#bd3786"
            ],
            [
             0.5555555555555556,
             "#d8576b"
            ],
            [
             0.6666666666666666,
             "#ed7953"
            ],
            [
             0.7777777777777778,
             "#fb9f3a"
            ],
            [
             0.8888888888888888,
             "#fdca26"
            ],
            [
             1,
             "#f0f921"
            ]
           ],
           "sequentialminus": [
            [
             0,
             "#0d0887"
            ],
            [
             0.1111111111111111,
             "#46039f"
            ],
            [
             0.2222222222222222,
             "#7201a8"
            ],
            [
             0.3333333333333333,
             "#9c179e"
            ],
            [
             0.4444444444444444,
             "#bd3786"
            ],
            [
             0.5555555555555556,
             "#d8576b"
            ],
            [
             0.6666666666666666,
             "#ed7953"
            ],
            [
             0.7777777777777778,
             "#fb9f3a"
            ],
            [
             0.8888888888888888,
             "#fdca26"
            ],
            [
             1,
             "#f0f921"
            ]
           ]
          },
          "colorway": [
           "#636efa",
           "#EF553B",
           "#00cc96",
           "#ab63fa",
           "#FFA15A",
           "#19d3f3",
           "#FF6692",
           "#B6E880",
           "#FF97FF",
           "#FECB52"
          ],
          "font": {
           "color": "#2a3f5f"
          },
          "geo": {
           "bgcolor": "white",
           "lakecolor": "white",
           "landcolor": "#E5ECF6",
           "showlakes": true,
           "showland": true,
           "subunitcolor": "white"
          },
          "hoverlabel": {
           "align": "left"
          },
          "hovermode": "closest",
          "mapbox": {
           "style": "light"
          },
          "paper_bgcolor": "white",
          "plot_bgcolor": "#E5ECF6",
          "polar": {
           "angularaxis": {
            "gridcolor": "white",
            "linecolor": "white",
            "ticks": ""
           },
           "bgcolor": "#E5ECF6",
           "radialaxis": {
            "gridcolor": "white",
            "linecolor": "white",
            "ticks": ""
           }
          },
          "scene": {
           "xaxis": {
            "backgroundcolor": "#E5ECF6",
            "gridcolor": "white",
            "gridwidth": 2,
            "linecolor": "white",
            "showbackground": true,
            "ticks": "",
            "zerolinecolor": "white"
           },
           "yaxis": {
            "backgroundcolor": "#E5ECF6",
            "gridcolor": "white",
            "gridwidth": 2,
            "linecolor": "white",
            "showbackground": true,
            "ticks": "",
            "zerolinecolor": "white"
           },
           "zaxis": {
            "backgroundcolor": "#E5ECF6",
            "gridcolor": "white",
            "gridwidth": 2,
            "linecolor": "white",
            "showbackground": true,
            "ticks": "",
            "zerolinecolor": "white"
           }
          },
          "shapedefaults": {
           "line": {
            "color": "#2a3f5f"
           }
          },
          "ternary": {
           "aaxis": {
            "gridcolor": "white",
            "linecolor": "white",
            "ticks": ""
           },
           "baxis": {
            "gridcolor": "white",
            "linecolor": "white",
            "ticks": ""
           },
           "bgcolor": "#E5ECF6",
           "caxis": {
            "gridcolor": "white",
            "linecolor": "white",
            "ticks": ""
           }
          },
          "title": {
           "x": 0.05
          },
          "xaxis": {
           "automargin": true,
           "gridcolor": "white",
           "linecolor": "white",
           "ticks": "",
           "title": {
            "standoff": 15
           },
           "zerolinecolor": "white",
           "zerolinewidth": 2
          },
          "yaxis": {
           "automargin": true,
           "gridcolor": "white",
           "linecolor": "white",
           "ticks": "",
           "title": {
            "standoff": 15
           },
           "zerolinecolor": "white",
           "zerolinewidth": 2
          }
         }
        },
        "title": {
         "text": "Cost of cloud compute to train frontier ML systems"
        },
        "width": 800,
        "xaxis": {
         "anchor": "y",
         "domain": [
          0,
          1
         ],
         "range": [
          "2015-01-01",
          "2025-01-01"
         ],
         "title": {
          "text": "Publication date"
         }
        },
        "yaxis": {
         "anchor": "x",
         "domain": [
          0,
          1
         ],
         "title": {
          "text": "Cost (USD, nominal)"
         },
         "type": "log"
        }
       }
      }
     },
     "metadata": {},
     "output_type": "display_data"
    }
   ],
   "source": [
    "fig = px.scatter(\n",
    "    cost_df,\n",
    "    x='Publication date',\n",
    "    y='Cost',\n",
    "    text='System',\n",
    "    log_y=True,\n",
    ")\n",
    "fig.update_traces(textposition='top center')\n",
    "\n",
    "# no legend\n",
    "fig.update_layout(showlegend=False)\n",
    "\n",
    "# axis labels\n",
    "fig.update_xaxes(title_text='Publication date')\n",
    "fig.update_yaxes(title_text='Cost (USD, nominal)')\n",
    "\n",
    "# title\n",
    "fig.update_layout(title_text='Cost of cloud compute to train frontier ML systems')\n",
    "\n",
    "# update size\n",
    "fig.update_layout(\n",
    "    autosize=False,\n",
    "    width=800,\n",
    "    height=600,\n",
    ")\n",
    "\n",
    "# font size\n",
    "fig.update_layout(\n",
    "    font=dict(\n",
    "        size=14,\n",
    "    )\n",
    ")\n",
    "\n",
    "# axis limits\n",
    "fig.update_xaxes(range=['2015-01-01', '2025-01-01'])\n",
    "\n",
    "# margins\n",
    "fig.update_layout(margin=dict(l=10, r=10, t=40, b=10))\n",
    "\n",
    "save_plot(fig, results_dir, 'cost_scatter')\n",
    "\n",
    "fig.show()"
   ]
  },
  {
   "cell_type": "code",
   "execution_count": 21,
   "metadata": {},
   "outputs": [
    {
     "data": {
      "application/vnd.plotly.v1+json": {
       "config": {
        "plotlyServerURL": "https://plot.ly"
       },
       "data": [
        {
         "hovertemplate": "Publication date=%{x}<br>Cost (inflation-adjusted)=%{y}<br>System=%{text}<extra></extra>",
         "legendgroup": "",
         "marker": {
          "color": "#636efa",
          "symbol": "circle"
         },
         "mode": "markers+text",
         "name": "",
         "orientation": "v",
         "showlegend": false,
         "text": [
          "Yuan 1.0",
          "OpenAI TI7 DOTA 1v1",
          "Claude 2",
          "Turing-NLG",
          "GPT-3.5 (text-davinci-003)",
          "AlphaGo Master",
          "Minerva (540B)",
          "FTW",
          "AlphaGo Zero",
          "NASv3 (CIFAR-10)",
          "AlphaZero",
          "PaLM (540B)",
          "OPT-175B",
          "ALIGN",
          "AlphaGo Fan",
          "GPT-4",
          "GLaM",
          "AlphaGo Lee",
          "AlphaStar",
          "OpenAI Five",
          "RoBERTa Large",
          "OpenAI Five Rerun",
          "GNMT",
          "GShard (dense)",
          "AlphaCode",
          "Megatron-LM (8.3B)",
          "Gopher (280B)",
          "Meena",
          "IMPALA",
          "PaLM 2",
          "Megatron-BERT",
          "Falcon 180B",
          "JFT",
          "AmoebaNet-A (F=448)",
          "Megatron-Turing NLG 530B",
          "T5-3B",
          "LaMDA",
          "T5-11B",
          "BigGAN-deep 512x512",
          "ResNeXt-101 32x48d",
          "Chinchilla",
          "ERNIE 3.0 Titan",
          "LLaMA-65B",
          "DALL-E",
          "GPT-2 (1.5B)",
          "GOAT",
          "Switch",
          "iGPT-XL",
          "Parti",
          "mT5-XXL",
          "ByT5-XXL",
          "BlenderBot 3",
          "ChatGLM3",
          "Yi-34B",
          "Qwen-72B",
          "Gemini Ultra",
          "ProtT5-XXL",
          "GPT-3 175B (davinci)",
          "Inflection-2",
          "BERT-Large",
          "Meta Pseudo Labels",
          "Llama 2-70B",
          "U-PaLM (540B)",
          "HyperClova",
          "PanGu-Σ",
          "GLM-130B",
          "Flamingo",
          "GPT-NeoX-20B"
         ],
         "textposition": "top center",
         "type": "scatter",
         "x": [
          "2021-10-12 00:00:00",
          "2017-08-11 00:00:00",
          "2023-07-11 00:00:00",
          "2020-02-13 00:00:00",
          "2022-11-28 00:00:00",
          "2017-01-01 00:00:00",
          "2022-06-29 00:00:00",
          "2018-07-03 00:00:00",
          "2017-10-18 00:00:00",
          "2016-11-05 00:00:00",
          "2017-12-05 00:00:00",
          "2022-04-04 00:00:00",
          "2022-05-02 00:00:00",
          "2021-06-11 00:00:00",
          "2015-10-01 00:00:00",
          "2023-03-15 00:00:00",
          "2021-12-13 00:00:00",
          "2016-01-27 00:00:00",
          "2019-10-30 00:00:00",
          "2019-12-13 00:00:00",
          "2019-07-01 00:00:00",
          "2019-12-13 00:00:00",
          "2016-09-26 00:00:00",
          "2020-06-30 00:00:00",
          "2022-02-02 00:00:00",
          "2019-09-17 00:00:00",
          "2021-12-08 00:00:00",
          "2020-01-28 00:00:00",
          "2018-02-05 00:00:00",
          "2023-05-10 00:00:00",
          "2019-09-17 00:00:00",
          "2023-09-06 00:00:00",
          "2017-07-10 00:00:00",
          "2018-02-05 00:00:00",
          "2021-10-11 00:00:00",
          "2019-10-23 00:00:00",
          "2022-02-10 00:00:00",
          "2019-10-23 00:00:00",
          "2018-09-28 00:00:00",
          "2018-05-02 00:00:00",
          "2022-03-29 00:00:00",
          "2021-12-23 00:00:00",
          "2023-02-24 00:00:00",
          "2021-01-05 00:00:00",
          "2019-02-14 00:00:00",
          "2021-07-27 00:00:00",
          "2021-01-11 00:00:00",
          "2020-06-17 00:00:00",
          "2022-06-22 00:00:00",
          "2020-10-20 00:00:00",
          "2021-05-28 00:00:00",
          "2022-08-10 00:00:00",
          "2023-10-27 00:00:00",
          "2023-11-02 00:00:00",
          "2023-11-30 00:00:00",
          "2023-12-06 00:00:00",
          "2021-05-04 00:00:00",
          "2020-05-28 00:00:00",
          "2023-11-22 00:00:00",
          "2018-10-11 00:00:00",
          "2021-03-01 00:00:00",
          "2023-07-18 00:00:00",
          "2022-10-20 00:00:00",
          "2021-09-10 00:00:00",
          "2023-03-20 00:00:00",
          "2022-08-04 00:00:00",
          "2022-04-29 00:00:00",
          "2022-02-09 00:00:00"
         ],
         "xaxis": "x",
         "y": [
          null,
          null,
          null,
          null,
          null,
          null,
          13470191.00856837,
          null,
          null,
          null,
          null,
          12389056.261813464,
          1493974.647531918,
          165500.13931537792,
          null,
          78352033.69393542,
          2093016.0239973643,
          null,
          388902.65897940914,
          null,
          160017.6468716094,
          null,
          194739.1953027523,
          969111.5896932516,
          null,
          216070.42339784946,
          3499807.67985019,
          697110.2785525154,
          138.13091568449684,
          null,
          null,
          25816323.797898512,
          33440.7332123412,
          null,
          6405652.563246981,
          null,
          1319585.503057254,
          236631.5547502238,
          11648.178852488687,
          null,
          null,
          null,
          1410425.8455359954,
          null,
          null,
          null,
          619741.3696948562,
          null,
          null,
          null,
          null,
          null,
          null,
          null,
          null,
          191400000,
          null,
          4324882.624338623,
          null,
          3287.6352902712474,
          251391.36000000002,
          3145517.7254868825,
          12523793.100601656,
          980164.9214492477,
          null,
          1635572.685301023,
          815069.4909087805,
          310840.989438577
         ],
         "yaxis": "y"
        }
       ],
       "layout": {
        "autosize": false,
        "font": {
         "size": 14
        },
        "height": 600,
        "legend": {
         "tracegroupgap": 0
        },
        "margin": {
         "b": 10,
         "l": 10,
         "r": 10,
         "t": 40
        },
        "showlegend": false,
        "template": {
         "data": {
          "bar": [
           {
            "error_x": {
             "color": "#2a3f5f"
            },
            "error_y": {
             "color": "#2a3f5f"
            },
            "marker": {
             "line": {
              "color": "#E5ECF6",
              "width": 0.5
             },
             "pattern": {
              "fillmode": "overlay",
              "size": 10,
              "solidity": 0.2
             }
            },
            "type": "bar"
           }
          ],
          "barpolar": [
           {
            "marker": {
             "line": {
              "color": "#E5ECF6",
              "width": 0.5
             },
             "pattern": {
              "fillmode": "overlay",
              "size": 10,
              "solidity": 0.2
             }
            },
            "type": "barpolar"
           }
          ],
          "carpet": [
           {
            "aaxis": {
             "endlinecolor": "#2a3f5f",
             "gridcolor": "white",
             "linecolor": "white",
             "minorgridcolor": "white",
             "startlinecolor": "#2a3f5f"
            },
            "baxis": {
             "endlinecolor": "#2a3f5f",
             "gridcolor": "white",
             "linecolor": "white",
             "minorgridcolor": "white",
             "startlinecolor": "#2a3f5f"
            },
            "type": "carpet"
           }
          ],
          "choropleth": [
           {
            "colorbar": {
             "outlinewidth": 0,
             "ticks": ""
            },
            "type": "choropleth"
           }
          ],
          "contour": [
           {
            "colorbar": {
             "outlinewidth": 0,
             "ticks": ""
            },
            "colorscale": [
             [
              0,
              "#0d0887"
             ],
             [
              0.1111111111111111,
              "#46039f"
             ],
             [
              0.2222222222222222,
              "#7201a8"
             ],
             [
              0.3333333333333333,
              "#9c179e"
             ],
             [
              0.4444444444444444,
              "#bd3786"
             ],
             [
              0.5555555555555556,
              "#d8576b"
             ],
             [
              0.6666666666666666,
              "#ed7953"
             ],
             [
              0.7777777777777778,
              "#fb9f3a"
             ],
             [
              0.8888888888888888,
              "#fdca26"
             ],
             [
              1,
              "#f0f921"
             ]
            ],
            "type": "contour"
           }
          ],
          "contourcarpet": [
           {
            "colorbar": {
             "outlinewidth": 0,
             "ticks": ""
            },
            "type": "contourcarpet"
           }
          ],
          "heatmap": [
           {
            "colorbar": {
             "outlinewidth": 0,
             "ticks": ""
            },
            "colorscale": [
             [
              0,
              "#0d0887"
             ],
             [
              0.1111111111111111,
              "#46039f"
             ],
             [
              0.2222222222222222,
              "#7201a8"
             ],
             [
              0.3333333333333333,
              "#9c179e"
             ],
             [
              0.4444444444444444,
              "#bd3786"
             ],
             [
              0.5555555555555556,
              "#d8576b"
             ],
             [
              0.6666666666666666,
              "#ed7953"
             ],
             [
              0.7777777777777778,
              "#fb9f3a"
             ],
             [
              0.8888888888888888,
              "#fdca26"
             ],
             [
              1,
              "#f0f921"
             ]
            ],
            "type": "heatmap"
           }
          ],
          "heatmapgl": [
           {
            "colorbar": {
             "outlinewidth": 0,
             "ticks": ""
            },
            "colorscale": [
             [
              0,
              "#0d0887"
             ],
             [
              0.1111111111111111,
              "#46039f"
             ],
             [
              0.2222222222222222,
              "#7201a8"
             ],
             [
              0.3333333333333333,
              "#9c179e"
             ],
             [
              0.4444444444444444,
              "#bd3786"
             ],
             [
              0.5555555555555556,
              "#d8576b"
             ],
             [
              0.6666666666666666,
              "#ed7953"
             ],
             [
              0.7777777777777778,
              "#fb9f3a"
             ],
             [
              0.8888888888888888,
              "#fdca26"
             ],
             [
              1,
              "#f0f921"
             ]
            ],
            "type": "heatmapgl"
           }
          ],
          "histogram": [
           {
            "marker": {
             "pattern": {
              "fillmode": "overlay",
              "size": 10,
              "solidity": 0.2
             }
            },
            "type": "histogram"
           }
          ],
          "histogram2d": [
           {
            "colorbar": {
             "outlinewidth": 0,
             "ticks": ""
            },
            "colorscale": [
             [
              0,
              "#0d0887"
             ],
             [
              0.1111111111111111,
              "#46039f"
             ],
             [
              0.2222222222222222,
              "#7201a8"
             ],
             [
              0.3333333333333333,
              "#9c179e"
             ],
             [
              0.4444444444444444,
              "#bd3786"
             ],
             [
              0.5555555555555556,
              "#d8576b"
             ],
             [
              0.6666666666666666,
              "#ed7953"
             ],
             [
              0.7777777777777778,
              "#fb9f3a"
             ],
             [
              0.8888888888888888,
              "#fdca26"
             ],
             [
              1,
              "#f0f921"
             ]
            ],
            "type": "histogram2d"
           }
          ],
          "histogram2dcontour": [
           {
            "colorbar": {
             "outlinewidth": 0,
             "ticks": ""
            },
            "colorscale": [
             [
              0,
              "#0d0887"
             ],
             [
              0.1111111111111111,
              "#46039f"
             ],
             [
              0.2222222222222222,
              "#7201a8"
             ],
             [
              0.3333333333333333,
              "#9c179e"
             ],
             [
              0.4444444444444444,
              "#bd3786"
             ],
             [
              0.5555555555555556,
              "#d8576b"
             ],
             [
              0.6666666666666666,
              "#ed7953"
             ],
             [
              0.7777777777777778,
              "#fb9f3a"
             ],
             [
              0.8888888888888888,
              "#fdca26"
             ],
             [
              1,
              "#f0f921"
             ]
            ],
            "type": "histogram2dcontour"
           }
          ],
          "mesh3d": [
           {
            "colorbar": {
             "outlinewidth": 0,
             "ticks": ""
            },
            "type": "mesh3d"
           }
          ],
          "parcoords": [
           {
            "line": {
             "colorbar": {
              "outlinewidth": 0,
              "ticks": ""
             }
            },
            "type": "parcoords"
           }
          ],
          "pie": [
           {
            "automargin": true,
            "type": "pie"
           }
          ],
          "scatter": [
           {
            "fillpattern": {
             "fillmode": "overlay",
             "size": 10,
             "solidity": 0.2
            },
            "type": "scatter"
           }
          ],
          "scatter3d": [
           {
            "line": {
             "colorbar": {
              "outlinewidth": 0,
              "ticks": ""
             }
            },
            "marker": {
             "colorbar": {
              "outlinewidth": 0,
              "ticks": ""
             }
            },
            "type": "scatter3d"
           }
          ],
          "scattercarpet": [
           {
            "marker": {
             "colorbar": {
              "outlinewidth": 0,
              "ticks": ""
             }
            },
            "type": "scattercarpet"
           }
          ],
          "scattergeo": [
           {
            "marker": {
             "colorbar": {
              "outlinewidth": 0,
              "ticks": ""
             }
            },
            "type": "scattergeo"
           }
          ],
          "scattergl": [
           {
            "marker": {
             "colorbar": {
              "outlinewidth": 0,
              "ticks": ""
             }
            },
            "type": "scattergl"
           }
          ],
          "scattermapbox": [
           {
            "marker": {
             "colorbar": {
              "outlinewidth": 0,
              "ticks": ""
             }
            },
            "type": "scattermapbox"
           }
          ],
          "scatterpolar": [
           {
            "marker": {
             "colorbar": {
              "outlinewidth": 0,
              "ticks": ""
             }
            },
            "type": "scatterpolar"
           }
          ],
          "scatterpolargl": [
           {
            "marker": {
             "colorbar": {
              "outlinewidth": 0,
              "ticks": ""
             }
            },
            "type": "scatterpolargl"
           }
          ],
          "scatterternary": [
           {
            "marker": {
             "colorbar": {
              "outlinewidth": 0,
              "ticks": ""
             }
            },
            "type": "scatterternary"
           }
          ],
          "surface": [
           {
            "colorbar": {
             "outlinewidth": 0,
             "ticks": ""
            },
            "colorscale": [
             [
              0,
              "#0d0887"
             ],
             [
              0.1111111111111111,
              "#46039f"
             ],
             [
              0.2222222222222222,
              "#7201a8"
             ],
             [
              0.3333333333333333,
              "#9c179e"
             ],
             [
              0.4444444444444444,
              "#bd3786"
             ],
             [
              0.5555555555555556,
              "#d8576b"
             ],
             [
              0.6666666666666666,
              "#ed7953"
             ],
             [
              0.7777777777777778,
              "#fb9f3a"
             ],
             [
              0.8888888888888888,
              "#fdca26"
             ],
             [
              1,
              "#f0f921"
             ]
            ],
            "type": "surface"
           }
          ],
          "table": [
           {
            "cells": {
             "fill": {
              "color": "#EBF0F8"
             },
             "line": {
              "color": "white"
             }
            },
            "header": {
             "fill": {
              "color": "#C8D4E3"
             },
             "line": {
              "color": "white"
             }
            },
            "type": "table"
           }
          ]
         },
         "layout": {
          "annotationdefaults": {
           "arrowcolor": "#2a3f5f",
           "arrowhead": 0,
           "arrowwidth": 1
          },
          "autotypenumbers": "strict",
          "coloraxis": {
           "colorbar": {
            "outlinewidth": 0,
            "ticks": ""
           }
          },
          "colorscale": {
           "diverging": [
            [
             0,
             "#8e0152"
            ],
            [
             0.1,
             "#c51b7d"
            ],
            [
             0.2,
             "#de77ae"
            ],
            [
             0.3,
             "#f1b6da"
            ],
            [
             0.4,
             "#fde0ef"
            ],
            [
             0.5,
             "#f7f7f7"
            ],
            [
             0.6,
             "#e6f5d0"
            ],
            [
             0.7,
             "#b8e186"
            ],
            [
             0.8,
             "#7fbc41"
            ],
            [
             0.9,
             "#4d9221"
            ],
            [
             1,
             "#276419"
            ]
           ],
           "sequential": [
            [
             0,
             "#0d0887"
            ],
            [
             0.1111111111111111,
             "#46039f"
            ],
            [
             0.2222222222222222,
             "#7201a8"
            ],
            [
             0.3333333333333333,
             "#9c179e"
            ],
            [
             0.4444444444444444,
             "#bd3786"
            ],
            [
             0.5555555555555556,
             "#d8576b"
            ],
            [
             0.6666666666666666,
             "#ed7953"
            ],
            [
             0.7777777777777778,
             "#fb9f3a"
            ],
            [
             0.8888888888888888,
             "#fdca26"
            ],
            [
             1,
             "#f0f921"
            ]
           ],
           "sequentialminus": [
            [
             0,
             "#0d0887"
            ],
            [
             0.1111111111111111,
             "#46039f"
            ],
            [
             0.2222222222222222,
             "#7201a8"
            ],
            [
             0.3333333333333333,
             "#9c179e"
            ],
            [
             0.4444444444444444,
             "#bd3786"
            ],
            [
             0.5555555555555556,
             "#d8576b"
            ],
            [
             0.6666666666666666,
             "#ed7953"
            ],
            [
             0.7777777777777778,
             "#fb9f3a"
            ],
            [
             0.8888888888888888,
             "#fdca26"
            ],
            [
             1,
             "#f0f921"
            ]
           ]
          },
          "colorway": [
           "#636efa",
           "#EF553B",
           "#00cc96",
           "#ab63fa",
           "#FFA15A",
           "#19d3f3",
           "#FF6692",
           "#B6E880",
           "#FF97FF",
           "#FECB52"
          ],
          "font": {
           "color": "#2a3f5f"
          },
          "geo": {
           "bgcolor": "white",
           "lakecolor": "white",
           "landcolor": "#E5ECF6",
           "showlakes": true,
           "showland": true,
           "subunitcolor": "white"
          },
          "hoverlabel": {
           "align": "left"
          },
          "hovermode": "closest",
          "mapbox": {
           "style": "light"
          },
          "paper_bgcolor": "white",
          "plot_bgcolor": "#E5ECF6",
          "polar": {
           "angularaxis": {
            "gridcolor": "white",
            "linecolor": "white",
            "ticks": ""
           },
           "bgcolor": "#E5ECF6",
           "radialaxis": {
            "gridcolor": "white",
            "linecolor": "white",
            "ticks": ""
           }
          },
          "scene": {
           "xaxis": {
            "backgroundcolor": "#E5ECF6",
            "gridcolor": "white",
            "gridwidth": 2,
            "linecolor": "white",
            "showbackground": true,
            "ticks": "",
            "zerolinecolor": "white"
           },
           "yaxis": {
            "backgroundcolor": "#E5ECF6",
            "gridcolor": "white",
            "gridwidth": 2,
            "linecolor": "white",
            "showbackground": true,
            "ticks": "",
            "zerolinecolor": "white"
           },
           "zaxis": {
            "backgroundcolor": "#E5ECF6",
            "gridcolor": "white",
            "gridwidth": 2,
            "linecolor": "white",
            "showbackground": true,
            "ticks": "",
            "zerolinecolor": "white"
           }
          },
          "shapedefaults": {
           "line": {
            "color": "#2a3f5f"
           }
          },
          "ternary": {
           "aaxis": {
            "gridcolor": "white",
            "linecolor": "white",
            "ticks": ""
           },
           "baxis": {
            "gridcolor": "white",
            "linecolor": "white",
            "ticks": ""
           },
           "bgcolor": "#E5ECF6",
           "caxis": {
            "gridcolor": "white",
            "linecolor": "white",
            "ticks": ""
           }
          },
          "title": {
           "x": 0.05
          },
          "xaxis": {
           "automargin": true,
           "gridcolor": "white",
           "linecolor": "white",
           "ticks": "",
           "title": {
            "standoff": 15
           },
           "zerolinecolor": "white",
           "zerolinewidth": 2
          },
          "yaxis": {
           "automargin": true,
           "gridcolor": "white",
           "linecolor": "white",
           "ticks": "",
           "title": {
            "standoff": 15
           },
           "zerolinecolor": "white",
           "zerolinewidth": 2
          }
         }
        },
        "title": {
         "text": "Cost of cloud compute to train frontier ML systems"
        },
        "width": 800,
        "xaxis": {
         "anchor": "y",
         "domain": [
          0,
          1
         ],
         "range": [
          "2015-01-01",
          "2025-01-01"
         ],
         "title": {
          "text": "Publication date"
         }
        },
        "yaxis": {
         "anchor": "x",
         "domain": [
          0,
          1
         ],
         "title": {
          "text": "Cost (2023 USD)"
         },
         "type": "log"
        }
       }
      }
     },
     "metadata": {},
     "output_type": "display_data"
    }
   ],
   "source": [
    "fig = px.scatter(\n",
    "    cost_df,\n",
    "    x='Publication date',\n",
    "    y='Cost (inflation-adjusted)',\n",
    "    text='System',\n",
    "    log_y=True,\n",
    ")\n",
    "fig.update_traces(textposition='top center')\n",
    "\n",
    "# no legend\n",
    "fig.update_layout(showlegend=False)\n",
    "\n",
    "# axis labels\n",
    "fig.update_xaxes(title_text='Publication date')\n",
    "fig.update_yaxes(title_text='Cost (2023 USD)')\n",
    "\n",
    "# title\n",
    "fig.update_layout(title_text='Cost of cloud compute to train frontier ML systems')\n",
    "\n",
    "# update size\n",
    "fig.update_layout(\n",
    "    autosize=False,\n",
    "    width=800,\n",
    "    height=600,\n",
    ")\n",
    "\n",
    "# font size\n",
    "fig.update_layout(\n",
    "    font=dict(\n",
    "        size=14,\n",
    "    )\n",
    ")\n",
    "\n",
    "# axis limits\n",
    "fig.update_xaxes(range=['2015-01-01', '2025-01-01'])\n",
    "\n",
    "# margins\n",
    "fig.update_layout(margin=dict(l=10, r=10, t=40, b=10))\n",
    "\n",
    "save_plot(fig, results_dir, 'cost_scatter')\n",
    "\n",
    "fig.show()"
   ]
  },
  {
   "cell_type": "markdown",
   "metadata": {},
   "source": [
    "# Export data"
   ]
  },
  {
   "cell_type": "code",
   "execution_count": 22,
   "metadata": {},
   "outputs": [
    {
     "data": {
      "text/html": [
       "<div>\n",
       "<style scoped>\n",
       "    .dataframe tbody tr th:only-of-type {\n",
       "        vertical-align: middle;\n",
       "    }\n",
       "\n",
       "    .dataframe tbody tr th {\n",
       "        vertical-align: top;\n",
       "    }\n",
       "\n",
       "    .dataframe thead th {\n",
       "        text-align: right;\n",
       "    }\n",
       "</style>\n",
       "<table border=\"1\" class=\"dataframe\">\n",
       "  <thead>\n",
       "    <tr style=\"text-align: right;\">\n",
       "      <th></th>\n",
       "      <th>Domain</th>\n",
       "      <th>Task</th>\n",
       "      <th>Open-source</th>\n",
       "      <th>Reference</th>\n",
       "      <th>Publication date</th>\n",
       "      <th>Organization</th>\n",
       "      <th>Parameters</th>\n",
       "      <th>Training compute (FLOP)</th>\n",
       "      <th>Training dataset size (datapoints)</th>\n",
       "      <th>Epochs</th>\n",
       "      <th>...</th>\n",
       "      <th>Country (from Organization)</th>\n",
       "      <th>Base model</th>\n",
       "      <th>Finetune compute (FLOP)</th>\n",
       "      <th>Hardware quantity</th>\n",
       "      <th>Hardware utilization</th>\n",
       "      <th>Training cloud compute vendor</th>\n",
       "      <th>Training data center</th>\n",
       "      <th>Training time (chip hours)</th>\n",
       "      <th>Cost</th>\n",
       "      <th>Cost (inflation-adjusted)</th>\n",
       "    </tr>\n",
       "  </thead>\n",
       "  <tbody>\n",
       "    <tr>\n",
       "      <th>358</th>\n",
       "      <td>Language</td>\n",
       "      <td>Language modelling</td>\n",
       "      <td>NaN</td>\n",
       "      <td>Yuan 1.0: Large-Scale Pre-trained Language Mod...</td>\n",
       "      <td>2021-10-12 00:00:00</td>\n",
       "      <td>Inspur</td>\n",
       "      <td>2.457300e+11</td>\n",
       "      <td>3.538000e+23</td>\n",
       "      <td>1.000000e+12</td>\n",
       "      <td>0.22</td>\n",
       "      <td>...</td>\n",
       "      <td>China</td>\n",
       "      <td>NaN</td>\n",
       "      <td>NaN</td>\n",
       "      <td>2128.0</td>\n",
       "      <td>0.450</td>\n",
       "      <td>NaN</td>\n",
       "      <td>NaN</td>\n",
       "      <td>NaN</td>\n",
       "      <td>NaN</td>\n",
       "      <td>NaN</td>\n",
       "    </tr>\n",
       "    <tr>\n",
       "      <th>368</th>\n",
       "      <td>Games</td>\n",
       "      <td>DOTA</td>\n",
       "      <td>NaN</td>\n",
       "      <td>Dota 2</td>\n",
       "      <td>2017-08-11 00:00:00</td>\n",
       "      <td>OpenAI</td>\n",
       "      <td>NaN</td>\n",
       "      <td>6.046095e+20</td>\n",
       "      <td>NaN</td>\n",
       "      <td>NaN</td>\n",
       "      <td>...</td>\n",
       "      <td>United States of America</td>\n",
       "      <td>NaN</td>\n",
       "      <td>NaN</td>\n",
       "      <td>NaN</td>\n",
       "      <td>NaN</td>\n",
       "      <td>NaN</td>\n",
       "      <td>NaN</td>\n",
       "      <td>NaN</td>\n",
       "      <td>NaN</td>\n",
       "      <td>NaN</td>\n",
       "    </tr>\n",
       "    <tr>\n",
       "      <th>378</th>\n",
       "      <td>Language</td>\n",
       "      <td>Language modelling</td>\n",
       "      <td>API accessible</td>\n",
       "      <td>NaN</td>\n",
       "      <td>2023-07-11 00:00:00</td>\n",
       "      <td>Anthropic</td>\n",
       "      <td>NaN</td>\n",
       "      <td>3.866000e+24</td>\n",
       "      <td>NaN</td>\n",
       "      <td>NaN</td>\n",
       "      <td>...</td>\n",
       "      <td>United States of America</td>\n",
       "      <td>NaN</td>\n",
       "      <td>NaN</td>\n",
       "      <td>NaN</td>\n",
       "      <td>NaN</td>\n",
       "      <td>NaN</td>\n",
       "      <td>NaN</td>\n",
       "      <td>NaN</td>\n",
       "      <td>NaN</td>\n",
       "      <td>NaN</td>\n",
       "    </tr>\n",
       "    <tr>\n",
       "      <th>428</th>\n",
       "      <td>Language</td>\n",
       "      <td>Text autocompletion</td>\n",
       "      <td>NaN</td>\n",
       "      <td>Turing-NLG: A 17-billion-parameter language mo...</td>\n",
       "      <td>2020-02-13 00:00:00</td>\n",
       "      <td>Microsoft</td>\n",
       "      <td>1.700000e+10</td>\n",
       "      <td>1.570000e+22</td>\n",
       "      <td>3.480000e+10</td>\n",
       "      <td>3.39</td>\n",
       "      <td>...</td>\n",
       "      <td>Multinational</td>\n",
       "      <td>NaN</td>\n",
       "      <td>NaN</td>\n",
       "      <td>256.0</td>\n",
       "      <td>NaN</td>\n",
       "      <td>NaN</td>\n",
       "      <td>NaN</td>\n",
       "      <td>NaN</td>\n",
       "      <td>NaN</td>\n",
       "      <td>NaN</td>\n",
       "    </tr>\n",
       "    <tr>\n",
       "      <th>443</th>\n",
       "      <td>Language</td>\n",
       "      <td>Language modelling</td>\n",
       "      <td>API accessible</td>\n",
       "      <td>NaN</td>\n",
       "      <td>2022-11-28 00:00:00</td>\n",
       "      <td>OpenAI</td>\n",
       "      <td>NaN</td>\n",
       "      <td>2.578000e+24</td>\n",
       "      <td>NaN</td>\n",
       "      <td>NaN</td>\n",
       "      <td>...</td>\n",
       "      <td>United States of America</td>\n",
       "      <td>NaN</td>\n",
       "      <td>NaN</td>\n",
       "      <td>NaN</td>\n",
       "      <td>NaN</td>\n",
       "      <td>NaN</td>\n",
       "      <td>NaN</td>\n",
       "      <td>NaN</td>\n",
       "      <td>NaN</td>\n",
       "      <td>NaN</td>\n",
       "    </tr>\n",
       "    <tr>\n",
       "      <th>...</th>\n",
       "      <td>...</td>\n",
       "      <td>...</td>\n",
       "      <td>...</td>\n",
       "      <td>...</td>\n",
       "      <td>...</td>\n",
       "      <td>...</td>\n",
       "      <td>...</td>\n",
       "      <td>...</td>\n",
       "      <td>...</td>\n",
       "      <td>...</td>\n",
       "      <td>...</td>\n",
       "      <td>...</td>\n",
       "      <td>...</td>\n",
       "      <td>...</td>\n",
       "      <td>...</td>\n",
       "      <td>...</td>\n",
       "      <td>...</td>\n",
       "      <td>...</td>\n",
       "      <td>...</td>\n",
       "      <td>...</td>\n",
       "      <td>...</td>\n",
       "    </tr>\n",
       "    <tr>\n",
       "      <th>1273</th>\n",
       "      <td>Language</td>\n",
       "      <td>NaN</td>\n",
       "      <td>NaN</td>\n",
       "      <td>What Changes Can Large-scale Language Models B...</td>\n",
       "      <td>2021-09-10 00:00:00</td>\n",
       "      <td>NAVER,Search Solutions</td>\n",
       "      <td>8.200000e+10</td>\n",
       "      <td>1.476000e+23</td>\n",
       "      <td>1.900000e+11</td>\n",
       "      <td>NaN</td>\n",
       "      <td>...</td>\n",
       "      <td>Korea (Republic of),Korea (Republic of)</td>\n",
       "      <td>NaN</td>\n",
       "      <td>NaN</td>\n",
       "      <td>1024.0</td>\n",
       "      <td>0.200</td>\n",
       "      <td>NaN</td>\n",
       "      <td>NaN</td>\n",
       "      <td>658636.8</td>\n",
       "      <td>948436.992</td>\n",
       "      <td>9.801649e+05</td>\n",
       "    </tr>\n",
       "    <tr>\n",
       "      <th>1274</th>\n",
       "      <td>Language</td>\n",
       "      <td>Code generation,Language modelling</td>\n",
       "      <td>NaN</td>\n",
       "      <td>PanGu-Σ: Towards Trillion Parameter Language M...</td>\n",
       "      <td>2023-03-20 00:00:00</td>\n",
       "      <td>Huawei Noah's Ark Lab</td>\n",
       "      <td>1.085000e+12</td>\n",
       "      <td>4.670000e+23</td>\n",
       "      <td>2.467500e+11</td>\n",
       "      <td>1.84</td>\n",
       "      <td>...</td>\n",
       "      <td>China</td>\n",
       "      <td>NaN</td>\n",
       "      <td>NaN</td>\n",
       "      <td>512.0</td>\n",
       "      <td>NaN</td>\n",
       "      <td>NaN</td>\n",
       "      <td>NaN</td>\n",
       "      <td>1228800.0</td>\n",
       "      <td>NaN</td>\n",
       "      <td>NaN</td>\n",
       "    </tr>\n",
       "    <tr>\n",
       "      <th>1276</th>\n",
       "      <td>Language</td>\n",
       "      <td>NaN</td>\n",
       "      <td>NaN</td>\n",
       "      <td>GLM-130B: An open bilingual pre-trained model</td>\n",
       "      <td>2022-08-04 00:00:00</td>\n",
       "      <td>Tsinghua University</td>\n",
       "      <td>1.300000e+11</td>\n",
       "      <td>3.778000e+23</td>\n",
       "      <td>NaN</td>\n",
       "      <td>1.00</td>\n",
       "      <td>...</td>\n",
       "      <td>China</td>\n",
       "      <td>NaN</td>\n",
       "      <td>NaN</td>\n",
       "      <td>768.0</td>\n",
       "      <td>0.433</td>\n",
       "      <td>NaN</td>\n",
       "      <td>NaN</td>\n",
       "      <td>1105920.0</td>\n",
       "      <td>1603584.000</td>\n",
       "      <td>1.635573e+06</td>\n",
       "    </tr>\n",
       "    <tr>\n",
       "      <th>1277</th>\n",
       "      <td>Multimodal</td>\n",
       "      <td>Visual question answering,Image captioning</td>\n",
       "      <td>NaN</td>\n",
       "      <td>Flamingo: a Visual Language Model for Few-Shot...</td>\n",
       "      <td>2022-04-29 00:00:00</td>\n",
       "      <td>DeepMind</td>\n",
       "      <td>8.000000e+10</td>\n",
       "      <td>2.700000e+23</td>\n",
       "      <td>NaN</td>\n",
       "      <td>NaN</td>\n",
       "      <td>...</td>\n",
       "      <td>United Kingdom of Great Britain and Northern I...</td>\n",
       "      <td>NaN</td>\n",
       "      <td>NaN</td>\n",
       "      <td>1536.0</td>\n",
       "      <td>NaN</td>\n",
       "      <td>NaN</td>\n",
       "      <td>NaN</td>\n",
       "      <td>552960.0</td>\n",
       "      <td>801792.000</td>\n",
       "      <td>8.150695e+05</td>\n",
       "    </tr>\n",
       "    <tr>\n",
       "      <th>1278</th>\n",
       "      <td>Language</td>\n",
       "      <td>NaN</td>\n",
       "      <td>Fully open-source</td>\n",
       "      <td>GPT-NeoX-20B: An Open-Source Autoregressive La...</td>\n",
       "      <td>2022-02-09 00:00:00</td>\n",
       "      <td>EleutherAI</td>\n",
       "      <td>2.000000e+10</td>\n",
       "      <td>9.316270e+22</td>\n",
       "      <td>1.771674e+11</td>\n",
       "      <td>1.00</td>\n",
       "      <td>...</td>\n",
       "      <td>Multinational</td>\n",
       "      <td>NaN</td>\n",
       "      <td>NaN</td>\n",
       "      <td>96.0</td>\n",
       "      <td>0.375</td>\n",
       "      <td>NaN</td>\n",
       "      <td>NaN</td>\n",
       "      <td>207360.0</td>\n",
       "      <td>300672.000</td>\n",
       "      <td>3.108410e+05</td>\n",
       "    </tr>\n",
       "  </tbody>\n",
       "</table>\n",
       "<p>68 rows × 22 columns</p>\n",
       "</div>"
      ],
      "text/plain": [
       "          Domain                                        Task  \\\n",
       "358     Language                          Language modelling   \n",
       "368        Games                                        DOTA   \n",
       "378     Language                          Language modelling   \n",
       "428     Language                         Text autocompletion   \n",
       "443     Language                          Language modelling   \n",
       "...          ...                                         ...   \n",
       "1273    Language                                         NaN   \n",
       "1274    Language          Code generation,Language modelling   \n",
       "1276    Language                                         NaN   \n",
       "1277  Multimodal  Visual question answering,Image captioning   \n",
       "1278    Language                                         NaN   \n",
       "\n",
       "            Open-source                                          Reference  \\\n",
       "358                 NaN  Yuan 1.0: Large-Scale Pre-trained Language Mod...   \n",
       "368                 NaN                                             Dota 2   \n",
       "378      API accessible                                                NaN   \n",
       "428                 NaN  Turing-NLG: A 17-billion-parameter language mo...   \n",
       "443      API accessible                                                NaN   \n",
       "...                 ...                                                ...   \n",
       "1273                NaN  What Changes Can Large-scale Language Models B...   \n",
       "1274                NaN  PanGu-Σ: Towards Trillion Parameter Language M...   \n",
       "1276                NaN      GLM-130B: An open bilingual pre-trained model   \n",
       "1277                NaN  Flamingo: a Visual Language Model for Few-Shot...   \n",
       "1278  Fully open-source  GPT-NeoX-20B: An Open-Source Autoregressive La...   \n",
       "\n",
       "         Publication date            Organization    Parameters  \\\n",
       "358   2021-10-12 00:00:00                  Inspur  2.457300e+11   \n",
       "368   2017-08-11 00:00:00                  OpenAI           NaN   \n",
       "378   2023-07-11 00:00:00               Anthropic           NaN   \n",
       "428   2020-02-13 00:00:00               Microsoft  1.700000e+10   \n",
       "443   2022-11-28 00:00:00                  OpenAI           NaN   \n",
       "...                   ...                     ...           ...   \n",
       "1273  2021-09-10 00:00:00  NAVER,Search Solutions  8.200000e+10   \n",
       "1274  2023-03-20 00:00:00   Huawei Noah's Ark Lab  1.085000e+12   \n",
       "1276  2022-08-04 00:00:00     Tsinghua University  1.300000e+11   \n",
       "1277  2022-04-29 00:00:00                DeepMind  8.000000e+10   \n",
       "1278  2022-02-09 00:00:00              EleutherAI  2.000000e+10   \n",
       "\n",
       "      Training compute (FLOP)  Training dataset size (datapoints)  Epochs  \\\n",
       "358              3.538000e+23                        1.000000e+12    0.22   \n",
       "368              6.046095e+20                                 NaN     NaN   \n",
       "378              3.866000e+24                                 NaN     NaN   \n",
       "428              1.570000e+22                        3.480000e+10    3.39   \n",
       "443              2.578000e+24                                 NaN     NaN   \n",
       "...                       ...                                 ...     ...   \n",
       "1273             1.476000e+23                        1.900000e+11     NaN   \n",
       "1274             4.670000e+23                        2.467500e+11    1.84   \n",
       "1276             3.778000e+23                                 NaN    1.00   \n",
       "1277             2.700000e+23                                 NaN     NaN   \n",
       "1278             9.316270e+22                        1.771674e+11    1.00   \n",
       "\n",
       "      ...                        Country (from Organization) Base model  \\\n",
       "358   ...                                              China        NaN   \n",
       "368   ...                           United States of America        NaN   \n",
       "378   ...                           United States of America        NaN   \n",
       "428   ...                                      Multinational        NaN   \n",
       "443   ...                           United States of America        NaN   \n",
       "...   ...                                                ...        ...   \n",
       "1273  ...            Korea (Republic of),Korea (Republic of)        NaN   \n",
       "1274  ...                                              China        NaN   \n",
       "1276  ...                                              China        NaN   \n",
       "1277  ...  United Kingdom of Great Britain and Northern I...        NaN   \n",
       "1278  ...                                      Multinational        NaN   \n",
       "\n",
       "     Finetune compute (FLOP) Hardware quantity Hardware utilization  \\\n",
       "358                      NaN            2128.0                0.450   \n",
       "368                      NaN               NaN                  NaN   \n",
       "378                      NaN               NaN                  NaN   \n",
       "428                      NaN             256.0                  NaN   \n",
       "443                      NaN               NaN                  NaN   \n",
       "...                      ...               ...                  ...   \n",
       "1273                     NaN            1024.0                0.200   \n",
       "1274                     NaN             512.0                  NaN   \n",
       "1276                     NaN             768.0                0.433   \n",
       "1277                     NaN            1536.0                  NaN   \n",
       "1278                     NaN              96.0                0.375   \n",
       "\n",
       "      Training cloud compute vendor  Training data center  \\\n",
       "358                             NaN                   NaN   \n",
       "368                             NaN                   NaN   \n",
       "378                             NaN                   NaN   \n",
       "428                             NaN                   NaN   \n",
       "443                             NaN                   NaN   \n",
       "...                             ...                   ...   \n",
       "1273                            NaN                   NaN   \n",
       "1274                            NaN                   NaN   \n",
       "1276                            NaN                   NaN   \n",
       "1277                            NaN                   NaN   \n",
       "1278                            NaN                   NaN   \n",
       "\n",
       "     Training time (chip hours)         Cost  Cost (inflation-adjusted)  \n",
       "358                         NaN          NaN                        NaN  \n",
       "368                         NaN          NaN                        NaN  \n",
       "378                         NaN          NaN                        NaN  \n",
       "428                         NaN          NaN                        NaN  \n",
       "443                         NaN          NaN                        NaN  \n",
       "...                         ...          ...                        ...  \n",
       "1273                   658636.8   948436.992               9.801649e+05  \n",
       "1274                  1228800.0          NaN                        NaN  \n",
       "1276                  1105920.0  1603584.000               1.635573e+06  \n",
       "1277                   552960.0   801792.000               8.150695e+05  \n",
       "1278                   207360.0   300672.000               3.108410e+05  \n",
       "\n",
       "[68 rows x 22 columns]"
      ]
     },
     "execution_count": 22,
     "metadata": {},
     "output_type": "execute_result"
    }
   ],
   "source": [
    "keep_cols = [\n",
    "    'Domain',\n",
    "    'Task',\n",
    "    'Open-source',\n",
    "    'Reference',\n",
    "    'Publication date',\n",
    "    'Organization',\n",
    "    'Parameters',\n",
    "    'Training compute (FLOP)',\n",
    "    'Training dataset size (datapoints)',\n",
    "    'Epochs',\n",
    "    'Training time (hours)',\n",
    "    'Training hardware',\n",
    "    'Country (from Organization)',\n",
    "    'Base model',\n",
    "    'Finetune compute (FLOP)',\n",
    "    'Hardware quantity',\n",
    "    'Hardware utilization',\n",
    "    'Training cloud compute vendor',\n",
    "    'Training data center',\n",
    "    'Training time (chip hours)',\n",
    "    'Cost',\n",
    "    'Cost (inflation-adjusted)',\n",
    "]\n",
    "cost_df[keep_cols]"
   ]
  },
  {
   "cell_type": "code",
   "execution_count": 23,
   "metadata": {
    "ExecuteTime": {
     "end_time": "2024-02-07T16:04:39.616432900Z",
     "start_time": "2024-02-07T16:04:38.857238300Z"
    }
   },
   "outputs": [],
   "source": [
    "cost_df[keep_cols].to_csv(results_dir + 'price dataset.csv')"
   ]
  },
  {
   "cell_type": "code",
   "execution_count": null,
   "metadata": {},
   "outputs": [],
   "source": []
  }
 ],
 "metadata": {
  "colab": {
   "provenance": []
  },
  "kernelspec": {
   "display_name": "Python 3 (ipykernel)",
   "language": "python",
   "name": "python3"
  },
  "language_info": {
   "codemirror_mode": {
    "name": "ipython",
    "version": 3
   },
   "file_extension": ".py",
   "mimetype": "text/x-python",
   "name": "python",
   "nbconvert_exporter": "python",
   "pygments_lexer": "ipython3",
   "version": "3.11.4"
  }
 },
 "nbformat": 4,
 "nbformat_minor": 1
}
