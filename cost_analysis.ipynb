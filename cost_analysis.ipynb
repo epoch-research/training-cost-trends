{
 "cells": [
  {
   "cell_type": "markdown",
   "metadata": {},
   "source": [
    "# Setup"
   ]
  },
  {
   "cell_type": "code",
   "execution_count": 22,
   "metadata": {
    "id": "qltoZ7TbdkHZ",
    "ExecuteTime": {
     "end_time": "2024-01-31T15:08:27.139735400Z",
     "start_time": "2024-01-31T15:08:25.230690400Z"
    }
   },
   "outputs": [],
   "source": [
    "import numpy as np\n",
    "import pandas as pd\n",
    "\n",
    "from plotting import *\n",
    "from pprint import pprint"
   ]
  },
  {
   "cell_type": "code",
   "execution_count": 23,
   "metadata": {
    "ExecuteTime": {
     "end_time": "2024-01-31T15:08:28.261011200Z",
     "start_time": "2024-01-31T15:08:25.230690400Z"
    }
   },
   "outputs": [],
   "source": [
    "SECONDS_PER_HOUR = 60 * 60\n",
    "SECONDS_PER_YEAR = SECONDS_PER_HOUR * 24 * 365.25"
   ]
  },
  {
   "cell_type": "markdown",
   "metadata": {},
   "source": [
    "# Dataset"
   ]
  },
  {
   "cell_type": "markdown",
   "metadata": {},
   "source": [
    "## ML systems"
   ]
  },
  {
   "cell_type": "code",
   "execution_count": 24,
   "metadata": {
    "id": "c8uNf70ve1PM",
    "ExecuteTime": {
     "end_time": "2024-01-31T15:08:28.683468500Z",
     "start_time": "2024-01-31T15:08:25.272049600Z"
    }
   },
   "outputs": [
    {
     "data": {
      "text/plain": "                               System    Domain                   Task  \\\n0                      Cohere Command  Language                    NaN   \n1                             Theseus     Other           Maze solving   \n2                               SNARC     Other           Maze solving   \n3                   Genetic algorithm       NaN                    NaN   \n4  Sequence-based pattern recognition    Vision  Character recognition   \n\n           Authors      Notability criteria  \\\n0              NaN                      NaN   \n1   Claude Shannon  Historical significance   \n2    Marvin Minsky  Historical significance   \n3    NA Barricelli  Historical significance   \n4  O. G. Selfridge  Historical significance   \n\n                           Notability criteria notes Open-source  \\\n0                                                NaN         NaN   \n1                                                NaN         NaN   \n2                                                NaN         NaN   \n3  Possibly first computer simulation of a geneti...         NaN   \n4                                                NaN         NaN   \n\n                                                Link  Citations  \\\n0                  https://cohere.com/models/command        NaN   \n1  https://www.technologyreview.com/2018/12/19/13...        0.0   \n2  https://en.wikipedia.org/wiki/Stochastic_neura...       33.0   \n3  https://link.springer.com/article/10.1007/BF01...      266.0   \n4     https://dl.acm.org/doi/10.1145/1455292.1455310      290.0   \n\n                                           Reference  ...  \\\n0                    World-class AI, at your command  ...   \n1                                       Mighty Mouse  ...   \n2  A Neural-Analogue Calculator Based upon a Prob...  ...   \n3            Numerical testing of evolution theories  ...   \n4           Pattern recognition and modern computers  ...   \n\n              Organization (from Organization) Base model  \\\n0                                       Cohere        NaN   \n1                            Bell Laboratories        NaN   \n2                           Harvard University        NaN   \n3                 Institute for Advanced Study        NaN   \n4  Massachusetts Institute of Technology (MIT)        NaN   \n\n  Finetune compute (FLOP)  Finetune compute notes  \\\n0                     NaN                     NaN   \n1                     NaN                     NaN   \n2                     NaN                     NaN   \n3                     NaN                     NaN   \n4                     NaN                     NaN   \n\n                   Authors by country  Hardware quantity Hardware utilization  \\\n0                                 NaN                NaN                  NaN   \n1                             Theseus                NaN                  NaN   \n2                               SNARC                NaN                  NaN   \n3                   Genetic algorithm                NaN                  NaN   \n4  Sequence-based pattern recognition                NaN                  NaN   \n\n  Training cost trends Training cloud compute vendor  Training data center  \n0                  NaN                           NaN                   NaN  \n1                  NaN                           NaN                   NaN  \n2                  NaN                           NaN                   NaN  \n3                  NaN                           NaN                   NaN  \n4                  NaN                           NaN                   NaN  \n\n[5 rows x 49 columns]",
      "text/html": "<div>\n<style scoped>\n    .dataframe tbody tr th:only-of-type {\n        vertical-align: middle;\n    }\n\n    .dataframe tbody tr th {\n        vertical-align: top;\n    }\n\n    .dataframe thead th {\n        text-align: right;\n    }\n</style>\n<table border=\"1\" class=\"dataframe\">\n  <thead>\n    <tr style=\"text-align: right;\">\n      <th></th>\n      <th>System</th>\n      <th>Domain</th>\n      <th>Task</th>\n      <th>Authors</th>\n      <th>Notability criteria</th>\n      <th>Notability criteria notes</th>\n      <th>Open-source</th>\n      <th>Link</th>\n      <th>Citations</th>\n      <th>Reference</th>\n      <th>...</th>\n      <th>Organization (from Organization)</th>\n      <th>Base model</th>\n      <th>Finetune compute (FLOP)</th>\n      <th>Finetune compute notes</th>\n      <th>Authors by country</th>\n      <th>Hardware quantity</th>\n      <th>Hardware utilization</th>\n      <th>Training cost trends</th>\n      <th>Training cloud compute vendor</th>\n      <th>Training data center</th>\n    </tr>\n  </thead>\n  <tbody>\n    <tr>\n      <th>0</th>\n      <td>Cohere Command</td>\n      <td>Language</td>\n      <td>NaN</td>\n      <td>NaN</td>\n      <td>NaN</td>\n      <td>NaN</td>\n      <td>NaN</td>\n      <td>https://cohere.com/models/command</td>\n      <td>NaN</td>\n      <td>World-class AI, at your command</td>\n      <td>...</td>\n      <td>Cohere</td>\n      <td>NaN</td>\n      <td>NaN</td>\n      <td>NaN</td>\n      <td>NaN</td>\n      <td>NaN</td>\n      <td>NaN</td>\n      <td>NaN</td>\n      <td>NaN</td>\n      <td>NaN</td>\n    </tr>\n    <tr>\n      <th>1</th>\n      <td>Theseus</td>\n      <td>Other</td>\n      <td>Maze solving</td>\n      <td>Claude Shannon</td>\n      <td>Historical significance</td>\n      <td>NaN</td>\n      <td>NaN</td>\n      <td>https://www.technologyreview.com/2018/12/19/13...</td>\n      <td>0.0</td>\n      <td>Mighty Mouse</td>\n      <td>...</td>\n      <td>Bell Laboratories</td>\n      <td>NaN</td>\n      <td>NaN</td>\n      <td>NaN</td>\n      <td>Theseus</td>\n      <td>NaN</td>\n      <td>NaN</td>\n      <td>NaN</td>\n      <td>NaN</td>\n      <td>NaN</td>\n    </tr>\n    <tr>\n      <th>2</th>\n      <td>SNARC</td>\n      <td>Other</td>\n      <td>Maze solving</td>\n      <td>Marvin Minsky</td>\n      <td>Historical significance</td>\n      <td>NaN</td>\n      <td>NaN</td>\n      <td>https://en.wikipedia.org/wiki/Stochastic_neura...</td>\n      <td>33.0</td>\n      <td>A Neural-Analogue Calculator Based upon a Prob...</td>\n      <td>...</td>\n      <td>Harvard University</td>\n      <td>NaN</td>\n      <td>NaN</td>\n      <td>NaN</td>\n      <td>SNARC</td>\n      <td>NaN</td>\n      <td>NaN</td>\n      <td>NaN</td>\n      <td>NaN</td>\n      <td>NaN</td>\n    </tr>\n    <tr>\n      <th>3</th>\n      <td>Genetic algorithm</td>\n      <td>NaN</td>\n      <td>NaN</td>\n      <td>NA Barricelli</td>\n      <td>Historical significance</td>\n      <td>Possibly first computer simulation of a geneti...</td>\n      <td>NaN</td>\n      <td>https://link.springer.com/article/10.1007/BF01...</td>\n      <td>266.0</td>\n      <td>Numerical testing of evolution theories</td>\n      <td>...</td>\n      <td>Institute for Advanced Study</td>\n      <td>NaN</td>\n      <td>NaN</td>\n      <td>NaN</td>\n      <td>Genetic algorithm</td>\n      <td>NaN</td>\n      <td>NaN</td>\n      <td>NaN</td>\n      <td>NaN</td>\n      <td>NaN</td>\n    </tr>\n    <tr>\n      <th>4</th>\n      <td>Sequence-based pattern recognition</td>\n      <td>Vision</td>\n      <td>Character recognition</td>\n      <td>O. G. Selfridge</td>\n      <td>Historical significance</td>\n      <td>NaN</td>\n      <td>NaN</td>\n      <td>https://dl.acm.org/doi/10.1145/1455292.1455310</td>\n      <td>290.0</td>\n      <td>Pattern recognition and modern computers</td>\n      <td>...</td>\n      <td>Massachusetts Institute of Technology (MIT)</td>\n      <td>NaN</td>\n      <td>NaN</td>\n      <td>NaN</td>\n      <td>Sequence-based pattern recognition</td>\n      <td>NaN</td>\n      <td>NaN</td>\n      <td>NaN</td>\n      <td>NaN</td>\n      <td>NaN</td>\n    </tr>\n  </tbody>\n</table>\n<p>5 rows × 49 columns</p>\n</div>"
     },
     "execution_count": 24,
     "metadata": {},
     "output_type": "execute_result"
    }
   ],
   "source": [
    "pcd_df = pd.read_csv('data/All ML Systems - full view.csv')\n",
    "pcd_df.head()"
   ]
  },
  {
   "cell_type": "code",
   "execution_count": 25,
   "metadata": {
    "ExecuteTime": {
     "end_time": "2024-01-31T15:08:28.683468500Z",
     "start_time": "2024-01-31T15:08:26.568324200Z"
    }
   },
   "outputs": [],
   "source": [
    "# Publication date in datetime format\n",
    "pcd_df.dropna(subset=['Publication date'], inplace=True)\n",
    "pcd_df['Publication date'] = pd.to_datetime(pcd_df['Publication date'])"
   ]
  },
  {
   "cell_type": "code",
   "execution_count": 26,
   "metadata": {
    "id": "zHTeCty5dqjn",
    "ExecuteTime": {
     "end_time": "2024-01-31T15:08:28.683468500Z",
     "start_time": "2024-01-31T15:08:26.568324200Z"
    }
   },
   "outputs": [],
   "source": [
    "# Manually copied from \"Training cost trends\" Airtable\n",
    "frontier_systems = [\n",
    "    \"PaLM 2\",\n",
    "    \"GPT-4\",\n",
    "    \"Minerva (540B)\",\n",
    "    \"Megatron-Turing NLG 530B\",\n",
    "    \"GPT-3 175B (davinci)\",\n",
    "    \"Meena\",\n",
    "    \"AlphaStar\",\n",
    "    \"AlphaGo Zero\",\n",
    "    \"AlphaGo Master\",\n",
    "    \"GNMT\",\n",
    "    \"Claude 2\",\n",
    "    \"PaLM (540B)\",\n",
    "    \"ERNIE 3.0 Titan\",\n",
    "    \"Gopher (280B)\",\n",
    "    \"OpenAI Five\",\n",
    "    \"T5-11B\",\n",
    "    \"Megatron-BERT\",\n",
    "    \"ResNeXt-101 32x48d\",\n",
    "    \"AlphaZero\",\n",
    "    \"Falcon 180B\",\n",
    "    \"GPT-3.5 (text-davinci-003)\",\n",
    "    \"Chinchilla\",\n",
    "    \"Yuan 1.0\",\n",
    "    \"Turing-NLG\",\n",
    "    \"BigGAN-deep 512x512\",\n",
    "    \"NASv3 (CIFAR-10)\",\n",
    "    \"AlphaGo Lee\",\n",
    "    \"AlphaGo Fan\",\n",
    "    \"OPT-175B\",\n",
    "    \"AlphaCode\",\n",
    "    \"GLaM\",\n",
    "    \"OpenAI Five Rerun\",\n",
    "    \"T5-3B\",\n",
    "    \"Megatron-LM (8.3B)\",\n",
    "    \"FTW\",\n",
    "    \"AmoebaNet-A (F=448)\",\n",
    "    \"OpenAI TI7 DOTA 1v1\",\n",
    "    \"JFT\",\n",
    "    \"Llama 2-70B\",\n",
    "    \"LLaMA-65B\",\n",
    "    \"LaMDA\",\n",
    "    \"ALIGN\",\n",
    "    \"GShard (dense)\",\n",
    "    \"RoBERTa Large\",\n",
    "    \"IMPALA\",\n",
    "]"
   ]
  },
  {
   "cell_type": "code",
   "execution_count": 27,
   "metadata": {
    "id": "Nyzyh8IKe0ZK",
    "ExecuteTime": {
     "end_time": "2024-01-31T15:08:28.683468500Z",
     "start_time": "2024-01-31T15:08:26.568324200Z"
    }
   },
   "outputs": [
    {
      "cell_type": "code",
      "execution_count": 1,
      "metadata": {},
      "outputs": [],
      "source": [
        "%load_ext autoreload\n",
        "%autoreload 2"
      ]
    },
    {
      "cell_type": "code",
      "execution_count": 2,
      "metadata": {
        "id": "qltoZ7TbdkHZ"
      },
      "outputs": [],
      "source": [
        "import numpy as np\n",
        "import pandas as pd\n",
        "\n",
        "from plotting import *\n",
        "from prices import *\n",
        "from inflation import *"
      ]
    },
    {
     "name": "stderr",
     "output_type": "stream",
     "text": [
      "C:\\Users\\robir\\AppData\\Local\\Temp\\ipykernel_9872\\3951382658.py:9: SettingWithCopyWarning:\n",
      "\n",
      "\n",
      "A value is trying to be set on a copy of a slice from a DataFrame.\n",
      "Try using .loc[row_indexer,col_indexer] = value instead\n",
      "\n",
      "See the caveats in the documentation: https://pandas.pydata.org/pandas-docs/stable/user_guide/indexing.html#returning-a-view-versus-a-copy\n",
      "\n"
     ]
    }
   ],
   "source": [
    "chip_hours = []\n",
    "for i, row in frontier_pcd_df.iterrows():\n",
    "    if pd.isna(row['Hardware quantity']) or pd.isna(row['Training time (hours)']):\n",
    "        # TODO impute missing values\n",
    "        chip_hours.append(np.nan)\n",
    "    else:\n",
    "        chip_hours.append(row['Hardware quantity'] * row['Training time (hours)'])\n",
    "\n",
    "frontier_pcd_df['Training time (chip hours)'] = chip_hours"
   ]
  },
  {
   "cell_type": "markdown",
   "metadata": {},
   "source": [
    "# Price selection"
   ]
  },
  {
   "cell_type": "markdown",
   "metadata": {},
   "source": [
    "1. Use a fixed mapping from Organization to cloud provider. If no mapping found, default to \"Amazon Web Services\".\n",
    "2. If there's a match for the hardware model, use that. Else, discard the ML system from the dataset.\n",
    "3. Use the price that is nearest to, but prior to, training time + 2 months before the publication date\n",
    "4. If there are no prices prior to that time, use the nearest price after that time\n",
    "5. If there are no prices for that hardware model and cloud provider at all, repeat steps 3 and 4 for \"Microsoft Azure\", then \"Google Cloud\" as the cloud provider.\n",
    "6. If there are no prices found from step 5, discard the ML system from the dataset."
   ]
  },
  {
   "cell_type": "code",
   "execution_count": 33,
   "metadata": {
    "ExecuteTime": {
     "end_time": "2024-01-31T15:08:28.762269400Z",
     "start_time": "2024-01-31T15:08:26.662644900Z"
    }
   },
   "outputs": [
    {
     "name": "stdout",
     "output_type": "stream",
     "text": [
      "Price date: 2019-07-01 00:00:00\n",
      "Price: $1.26\n"
     ]
    }
   ],
   "source": [
    "def find_closest_price_dates(vendor, hardware_model, date, df):\n",
    "    \"\"\"\n",
    "    Finds the row in the DataFrame with the closest 'Price date' to the given date\n",
    "    which has a 'Vendor' equal to the specified vendor and a 'Hardware model' equal to the specified hardware_model.\n",
    "    \n",
    "    :param vendor: The vendor to match.\n",
    "    :param hardware_model: The hardware model to match.\n",
    "    :param date: The target date to find the closest 'Price date' to.\n",
    "    :param df: The DataFrame containing the hardware price data.\n",
    "    :return: The row from the DataFrame that matches the criteria.\n",
    "    \"\"\"\n",
    "    # Filter the DataFrame based on vendor and hardware model\n",
    "    filtered_df = df[(df['Vendor'] == vendor) & (df['Hardware model'] == hardware_model)]\n",
    "\n",
    "    # Convert the target date to datetime\n",
    "    target_date = pd.to_datetime(date)\n",
    "\n",
    "    # Find the row with the smallest date difference\n",
    "    closest_row_df = filtered_df.iloc[(filtered_df['Price date'] - target_date).abs().argsort()]\n",
    "\n",
    "    return closest_row_df\n",
    "\n",
    "# Example usage\n",
    "example_vendor = \"Google Cloud\"\n",
    "example_hardware_model = \"Google TPU v3\"\n",
    "example_date = \"2019-07-15\" # Example date, format should be YYYY-MM-DD\n",
    "\n",
    "# Find the row\n",
    "closest_row_df = find_closest_price_dates(example_vendor, example_hardware_model, example_date, price_df)\n",
    "\n",
    "for i, row in closest_row_df.iterrows():\n",
    "    if row['Price date'] <= pd.to_datetime(example_date):\n",
    "        print(f\"Price date: {row['Price date']}\")\n",
    "        print(f\"Price: {row['Price per chip-hour (1-year CUD)']}\")\n",
    "        break"
   ]
  },
  {
   "cell_type": "code",
   "execution_count": 34,
   "metadata": {
    "ExecuteTime": {
     "end_time": "2024-01-31T15:08:29.377602400Z",
     "start_time": "2024-01-31T15:08:26.725137500Z"
    }
   },
   "outputs": [],
   "source": [
    "org_to_cloud_vendor = {\n",
    "    'google': 'Google Cloud',\n",
    "    'deepmind': 'Google Cloud',\n",
    "    'microsoft': 'Microsoft Azure',\n",
    "    'openai': 'Microsoft Azure',\n",
    "}\n",
    "chip_to_cloud_vendor = {\n",
    "    'TPU v4': 'Google Cloud',\n",
    "    'TPU v3': 'Google Cloud',\n",
    "    'TPU v2': 'Google Cloud',\n",
    "    'TPU v1': 'Google Cloud',\n",
    "}"
   ]
  },
  {
   "cell_type": "code",
   "execution_count": 35,
   "metadata": {
    "ExecuteTime": {
     "end_time": "2024-01-31T15:08:29.483647900Z",
     "start_time": "2024-01-31T15:08:27.026420700Z"
    }
   },
   "outputs": [
    {
     "name": "stdout",
     "output_type": "stream",
     "text": [
      "GNMT, Google Cloud, NVIDIA Tesla K80, at 2016-01-30 00:00:00\n",
      "Could not find price for GNMT\n",
      "JFT, Google Cloud, NVIDIA Tesla K80, at 2017-03-12 00:00:00\n",
      "Could not find price for JFT\n",
      "AlphaGo Zero, Google Cloud, Google TPU v1, at 2017-07-30 00:00:00\n",
      "Could not find price for AlphaGo Zero\n",
      "AmoebaNet-A (F=448), Google Cloud, NVIDIA Tesla K40s, at 2017-11-30 00:00:00\n",
      "Could not find price for AmoebaNet-A (F=448)\n",
      "IMPALA, Google Cloud, NVIDIA P100, at 2017-12-02 20:00:00\n",
      "Could not find price for IMPALA\n",
      "BigGAN-deep 512x512, Google Cloud, Google TPU v3, at 2018-07-28 00:00:00\n",
      "Could not find price for BigGAN-deep 512x512\n",
      "RoBERTa Large, Amazon Web Services, NVIDIA Tesla V100 DGXS 32 GB, at 2019-04-27 00:00:00\n",
      "Megatron-BERT, Amazon Web Services, NVIDIA Tesla V100S PCIe 32 GB, at 2019-05-22 00:00:00\n",
      "Could not find price for Megatron-BERT\n",
      "Megatron-LM (8.3B), Amazon Web Services, NVIDIA Tesla V100 DGXS 32 GB, at 2019-07-05 09:00:00\n",
      "T5-11B, Google Cloud, Google TPU v3, at 2019-08-03 23:00:00\n",
      "AlphaStar, Google Cloud, Google TPU v3, at 2019-07-18 00:00:00\n",
      "OpenAI Five, Microsoft Azure, nan, at 2018-12-22 00:00:00\n",
      "Could not find price for OpenAI Five\n",
      "Meena, Google Cloud, Google TPU v3, at 2019-10-30 00:00:00\n",
      "GPT-3 175B (davinci), Microsoft Azure, NVIDIA Tesla V100 DGXS 32 GB, at 2020-03-14 05:00:00\n",
      "Could not find price for GPT-3 175B (davinci)\n",
      "GShard (dense), Google Cloud, Google TPU v3, at 2020-03-20 00:00:00\n",
      "ALIGN, Google Cloud, Google TPU v3, at 2021-03-28 13:00:00\n",
      "Megatron-Turing NLG 530B, Microsoft Azure, NVIDIA A100 SXM4 80 GB, at 2021-07-10 22:00:00\n",
      "Gopher (280B), Google Cloud, Google TPU v3, at 2021-08-31 16:00:00\n",
      "GLaM, Google Cloud, Google TPU v4, at 2021-08-18 02:00:00\n",
      "LaMDA, Google Cloud, Google TPU v3, at 2021-10-15 07:00:00\n",
      "PaLM (540B), Google Cloud, Google TPU v4, at 2021-12-08 00:00:00\n",
      "OPT-175B, Amazon Web Services, NVIDIA A100 SXM4 80 GB, at 2022-01-28 23:00:00\n",
      "Minerva (540B), Google Cloud, Google TPU v4, at 2022-04-01 00:00:00\n",
      "LLaMA-65B, Amazon Web Services, NVIDIA A100, at 2022-12-05 04:00:00\n",
      "Could not find price for LLaMA-65B\n",
      "GPT-4, Microsoft Azure, NVIDIA A100 SXM4 40 GB, at 2022-10-11 00:00:00\n",
      "Could not find price for GPT-4\n",
      "Llama 2-70B, Amazon Web Services, NVIDIA A100 SXM4 80 GB, at 2022-11-20 00:00:00\n",
      "Falcon 180B, Amazon Web Services, NVIDIA A100 SXM4 40 GB, at 2023-01-09 00:00:00\n"
     ]
    },
    {
     "data": {
      "text/plain": "{'RoBERTa Large': 2.29,\n 'Megatron-LM (8.3B)': 2.29,\n 'T5-11B': 1.26,\n 'AlphaStar': 1.26,\n 'Meena': 1.26,\n 'GShard (dense)': 1.26,\n 'ALIGN': 1.26,\n 'Megatron-Turing NLG 530B': 2.62,\n 'Gopher (280B)': 1.26,\n 'GLaM': 2.03,\n 'LaMDA': 1.26,\n 'PaLM (540B)': 2.03,\n 'OPT-175B': 3.0,\n 'Minerva (540B)': 2.03,\n 'Llama 2-70B': 3.0,\n 'Falcon 180B': 2.4}"
     },
     "execution_count": 35,
     "metadata": {},
     "output_type": "execute_result"
    }
   ],
   "source": [
    "price_colname = 'Price per chip-hour (1-year CUD)'\n",
    "system_to_price = {}\n",
    "\n",
    "for i, row in frontier_pcd_df.iterrows():\n",
    "    # Subtract training time plus 2 months from publication date\n",
    "    if pd.isna(row['Training time (hours)']):\n",
    "        continue\n",
    "\n",
    "    training_time_offset = pd.Timedelta(hours=int(row['Training time (hours)']))\n",
    "    low_buffer_time_offset = pd.Timedelta(days=30)\n",
    "    mid_buffer_time_offset = pd.Timedelta(days=60)\n",
    "    high_buffer_time_offset = pd.Timedelta(days=150)\n",
    "\n",
    "    high_purchase_time = row['Publication date'] - (training_time_offset + low_buffer_time_offset)\n",
    "    mid_purchase_time = row['Publication date'] - (training_time_offset + mid_buffer_time_offset)\n",
    "    low_purchase_time = row['Publication date'] - (training_time_offset + high_buffer_time_offset)\n",
    "\n",
    "    hardware_model = row[pcd_hardware_model_colname]\n",
    "\n",
    "    orgs = row['Organization'].split(',')\n",
    "    vendor = None\n",
    "    for org in orgs:\n",
    "        for key in org_to_cloud_vendor:\n",
    "            if key in org.lower():\n",
    "                vendor = org_to_cloud_vendor[key]\n",
    "                break\n",
    "\n",
    "    if vendor is None:\n",
    "        vendor = 'Amazon Web Services'  # default\n",
    "\n",
    "    print(f\"{row['System']}, {vendor}, {hardware_model}, at {mid_purchase_time}\")\n",
    "\n",
    "    # Find the price of the hardware at the time of purchase\n",
    "    closest_price_dates_df = find_closest_price_dates(vendor, hardware_model, mid_purchase_time, price_df)\n",
    "    price_per_chip_hour = None\n",
    "    for i, price_row in closest_price_dates_df.iterrows():\n",
    "        if price_row['Price date'] <= mid_purchase_time:\n",
    "            price_per_chip_hour = price_row[price_colname]\n",
    "            break\n",
    "    if price_per_chip_hour is None:\n",
    "        for i, price_row in closest_price_dates_df.iterrows():\n",
    "            if price_row['Price date'] > mid_purchase_time:\n",
    "                price_per_chip_hour = price_row[price_colname]\n",
    "                break\n",
    "    if type(price_per_chip_hour) is str:\n",
    "        system_to_price[row['System']] = float(price_per_chip_hour.strip('$'))\n",
    "    else:\n",
    "        print(f\"Could not find price for {row['System']}\")\n",
    "        continue\n",
    "\n",
    "system_to_price"
   ]
  },
  {
   "cell_type": "code",
   "execution_count": 36,
   "outputs": [
    {
     "data": {
      "text/plain": "16"
     },
     "execution_count": 36,
     "metadata": {},
     "output_type": "execute_result"
    }
   ],
   "source": [
    "len(system_to_price)"
   ],
   "metadata": {
    "collapsed": false,
    "ExecuteTime": {
     "end_time": "2024-01-31T15:08:29.483647900Z",
     "start_time": "2024-01-31T15:08:27.409310200Z"
    }
   }
  },
  {
   "cell_type": "markdown",
   "metadata": {},
   "source": [
    "# Cost estimation"
   ]
  },
  {
   "cell_type": "markdown",
   "metadata": {},
   "source": [
    "TODO: inflation adjustment\n",
    "\n",
    "suggestion: use the producer price index for the data processing industry\n",
    "\n",
    "https://fred.stlouisfed.org/series/PCU518210518210"
   ]
  },
  {
   "cell_type": "markdown",
   "metadata": {},
   "source": [
    "cost = price_per_chip_hour * chip_hours"
   ]
  },
  {
   "cell_type": "code",
   "execution_count": 37,
   "metadata": {
    "ExecuteTime": {
     "end_time": "2024-01-31T15:08:29.483647900Z",
     "start_time": "2024-01-31T15:08:27.425157500Z"
    }
   },
   "outputs": [],
   "source": [
    "def estimate_cost(row, system_to_price):\n",
    "    system = row['System']\n",
    "    price = system_to_price.get(system)\n",
    "    if price is None:\n",
    "        print(f\"Could not find a hardware price for {system}.\")\n",
    "        return None\n",
    "\n",
    "    chip_hours = row['Training time (chip hours)']\n",
    "    if np.isnan(chip_hours):\n",
    "        return None\n",
    "\n",
    "    cost = price * chip_hours\n",
    "\n",
    "    # Check for base model\n",
    "    if not pd.isna(row['Base model']):\n",
    "        base_model_name = row['Base model']\n",
    "        base_model = frontier_pcd_df[frontier_pcd_df['System'] == base_model_name].squeeze()\n",
    "        base_cost = estimate_cost(base_model, system_to_price)\n",
    "        if base_cost is None:\n",
    "            return None\n",
    "        else:\n",
    "            cost += base_cost\n",
    "\n",
    "    return cost\n",
    "    "
   ]
  },
  {
   "cell_type": "code",
   "execution_count": 38,
   "metadata": {
    "ExecuteTime": {
     "end_time": "2024-01-31T15:08:29.483647900Z",
     "start_time": "2024-01-31T15:08:27.481948100Z"
    }
   },
   "outputs": [
    {
     "name": "stdout",
     "output_type": "stream",
     "text": [
      "Could not find a hardware price for AlphaGo Fan.\n",
      "Could not find a hardware price for AlphaGo Lee.\n",
      "Could not find a hardware price for GNMT.\n",
      "Could not find a hardware price for NASv3 (CIFAR-10).\n",
      "Could not find a hardware price for AlphaGo Master.\n",
      "Could not find a hardware price for JFT.\n",
      "Could not find a hardware price for OpenAI TI7 DOTA 1v1.\n",
      "Could not find a hardware price for AlphaGo Zero.\n",
      "Could not find a hardware price for AlphaZero.\n",
      "Could not find a hardware price for AmoebaNet-A (F=448).\n",
      "Could not find a hardware price for IMPALA.\n",
      "Could not find a hardware price for ResNeXt-101 32x48d.\n",
      "Could not find a hardware price for FTW.\n",
      "Could not find a hardware price for BigGAN-deep 512x512.\n",
      "Could not find a hardware price for Megatron-BERT.\n",
      "Could not find a hardware price for T5-3B.\n",
      "Could not find a hardware price for OpenAI Five.\n",
      "Could not find a hardware price for OpenAI Five Rerun.\n",
      "Could not find a hardware price for Turing-NLG.\n",
      "Could not find a hardware price for GPT-3 175B (davinci).\n",
      "Could not find a hardware price for Yuan 1.0.\n",
      "Could not find a hardware price for ERNIE 3.0 Titan.\n",
      "Could not find a hardware price for AlphaCode.\n",
      "Could not find a hardware price for Chinchilla.\n",
      "Could not find a hardware price for GPT-3.5 (text-davinci-003).\n",
      "Could not find a hardware price for LLaMA-65B.\n",
      "Could not find a hardware price for GPT-4.\n",
      "Could not find a hardware price for PaLM 2.\n",
      "Could not find a hardware price for Claude 2.\n"
     ]
    },
    {
     "data": {
      "text/plain": "{'RoBERTa Large': 281395.2,\n 'Megatron-LM (8.3B)': 383400.96,\n 'T5-11B': 310883.328,\n 'AlphaStar': 510935.04,\n 'Meena': 928972.8,\n 'GShard (dense)': 1300561.92,\n 'ALIGN': 224050.176,\n 'Megatron-Turing NLG 530B': 9037952.0,\n 'Gopher (280B)': 4748083.2,\n 'GLaM': 2839531.5199999996,\n 'LaMDA': 1786982.4,\n 'PaLM (540B)': 17062133.759999998,\n 'OPT-175B': 2437632.0,\n 'Minerva (540B)': 18508922.88,\n 'Falcon 180B': 42467328.0}"
     },
     "execution_count": 38,
     "metadata": {},
     "output_type": "execute_result"
    }
   ],
   "source": [
    "system_to_cost = {}\n",
    "for i, row in frontier_pcd_df.iterrows():\n",
    "    cost = estimate_cost(row, system_to_price)\n",
    "    if cost is None:\n",
    "        continue\n",
    "    system_to_cost[row['System']] = cost\n",
    "\n",
    "system_to_cost"
   ]
  },
  {
   "cell_type": "code",
   "execution_count": 39,
   "outputs": [
    {
     "data": {
      "text/plain": "15"
     },
     "execution_count": 39,
     "metadata": {},
     "output_type": "execute_result"
    }
   ],
   "source": [
    "len(system_to_cost)"
   ],
   "metadata": {
    "collapsed": false,
    "ExecuteTime": {
     "end_time": "2024-01-31T15:08:29.483647900Z",
     "start_time": "2024-01-31T15:08:27.506735600Z"
    }
   }
  },
  {
   "cell_type": "markdown",
   "metadata": {},
   "source": [
    "# Regression"
   ]
  },
  {
   "cell_type": "code",
   "execution_count": 39,
   "metadata": {
    "ExecuteTime": {
     "end_time": "2024-01-31T15:08:29.483647900Z",
     "start_time": "2024-01-31T15:08:27.543941200Z"
    }
   },
   "outputs": [],
   "source": []
  },
  {
   "cell_type": "markdown",
   "metadata": {},
   "source": [
    "# Plots"
   ]
  },
  {
   "cell_type": "code",
   "execution_count": 40,
   "metadata": {
    "ExecuteTime": {
     "end_time": "2024-01-31T15:08:30.110436500Z",
     "start_time": "2024-01-31T15:08:27.567459400Z"
    }
   },
   "outputs": [
    {
     "data": {
      "application/vnd.plotly.v1+json": {
       "data": [
        {
         "line": {
          "color": "#034752"
         },
         "mode": "markers+text",
         "name": "RoBERTa Large",
         "text": "RoBERTa Large",
         "textposition": "top center",
         "x": [
          "2019-07-01T00:00:00"
         ],
         "y": [
          281395.2
         ],
         "type": "scatter"
        },
        {
         "line": {
          "color": "#034752"
         },
         "mode": "markers+text",
         "name": "Megatron-LM (8.3B)",
         "text": "Megatron-LM (8.3B)",
         "textposition": "top center",
         "x": [
          "2019-09-17T00:00:00"
         ],
         "y": [
          383400.96
         ],
         "type": "scatter"
        },
        {
         "line": {
          "color": "#034752"
         },
         "mode": "markers+text",
         "name": "T5-11B",
         "text": "T5-11B",
         "textposition": "top center",
         "x": [
          "2019-10-23T00:00:00"
         ],
         "y": [
          310883.328
         ],
         "type": "scatter"
        },
        {
         "line": {
          "color": "#034752"
         },
         "mode": "markers+text",
         "name": "AlphaStar",
         "text": "AlphaStar",
         "textposition": "top center",
         "x": [
          "2019-10-30T00:00:00"
         ],
         "y": [
          510935.04
         ],
         "type": "scatter"
        },
        {
         "line": {
          "color": "#034752"
         },
         "mode": "markers+text",
         "name": "Meena",
         "text": "Meena",
         "textposition": "top center",
         "x": [
          "2020-01-28T00:00:00"
         ],
         "y": [
          928972.8
         ],
         "type": "scatter"
        },
        {
         "line": {
          "color": "#034752"
         },
         "mode": "markers+text",
         "name": "GShard (dense)",
         "text": "GShard (dense)",
         "textposition": "top center",
         "x": [
          "2020-06-30T00:00:00"
         ],
         "y": [
          1300561.92
         ],
         "type": "scatter"
        },
        {
         "line": {
          "color": "#034752"
         },
         "mode": "markers+text",
         "name": "ALIGN",
         "text": "ALIGN",
         "textposition": "top center",
         "x": [
          "2021-06-11T00:00:00"
         ],
         "y": [
          224050.176
         ],
         "type": "scatter"
        },
        {
         "line": {
          "color": "#034752"
         },
         "mode": "markers+text",
         "name": "Megatron-Turing NLG 530B",
         "text": "Megatron-Turing NLG 530B",
         "textposition": "top center",
         "x": [
          "2021-10-11T00:00:00"
         ],
         "y": [
          9037952.0
         ],
         "type": "scatter"
        },
        {
         "line": {
          "color": "#034752"
         },
         "mode": "markers+text",
         "name": "Gopher (280B)",
         "text": "Gopher (280B)",
         "textposition": "top center",
         "x": [
          "2021-12-08T00:00:00"
         ],
         "y": [
          4748083.2
         ],
         "type": "scatter"
        },
        {
         "line": {
          "color": "#034752"
         },
         "mode": "markers+text",
         "name": "GLaM",
         "text": "GLaM",
         "textposition": "top center",
         "x": [
          "2021-12-13T00:00:00"
         ],
         "y": [
          2839531.5199999996
         ],
         "type": "scatter"
        },
        {
         "line": {
          "color": "#034752"
         },
         "mode": "markers+text",
         "name": "LaMDA",
         "text": "LaMDA",
         "textposition": "top center",
         "x": [
          "2022-02-10T00:00:00"
         ],
         "y": [
          1786982.4
         ],
         "type": "scatter"
        },
        {
         "line": {
          "color": "#034752"
         },
         "mode": "markers+text",
         "name": "PaLM (540B)",
         "text": "PaLM (540B)",
         "textposition": "top center",
         "x": [
          "2022-04-04T00:00:00"
         ],
         "y": [
          1.7062133759999998E7
         ],
         "type": "scatter"
        },
        {
         "line": {
          "color": "#034752"
         },
         "mode": "markers+text",
         "name": "OPT-175B",
         "text": "OPT-175B",
         "textposition": "top center",
         "x": [
          "2022-05-02T00:00:00"
         ],
         "y": [
          2437632.0
         ],
         "type": "scatter"
        },
        {
         "line": {
          "color": "#034752"
         },
         "mode": "markers+text",
         "name": "Minerva (540B)",
         "text": "Minerva (540B)",
         "textposition": "top center",
         "x": [
          "2022-06-29T00:00:00"
         ],
         "y": [
          1.850892288E7
         ],
         "type": "scatter"
        },
        {
         "line": {
          "color": "#034752"
         },
         "mode": "markers+text",
         "name": "Falcon 180B",
         "text": "Falcon 180B",
         "textposition": "top center",
         "x": [
          "2023-09-06T00:00:00"
         ],
         "y": [
          4.2467328E7
         ],
         "type": "scatter"
        }
       ],
       "layout": {
        "template": {
         "data": {
          "histogram2dcontour": [
           {
            "type": "histogram2dcontour",
            "colorbar": {
             "outlinewidth": 0,
             "ticks": ""
            },
            "colorscale": [
             [
              0.0,
              "#0d0887"
             ],
             [
              0.1111111111111111,
              "#46039f"
             ],
             [
              0.2222222222222222,
              "#7201a8"
             ],
             [
              0.3333333333333333,
              "#9c179e"
             ],
             [
              0.4444444444444444,
              "#bd3786"
             ],
             [
              0.5555555555555556,
              "#d8576b"
             ],
             [
              0.6666666666666666,
              "#ed7953"
             ],
             [
              0.7777777777777778,
              "#fb9f3a"
             ],
             [
              0.8888888888888888,
              "#fdca26"
             ],
             [
              1.0,
              "#f0f921"
             ]
            ]
           }
          ],
          "choropleth": [
           {
            "type": "choropleth",
            "colorbar": {
             "outlinewidth": 0,
             "ticks": ""
            }
           }
          ],
          "histogram2d": [
           {
            "type": "histogram2d",
            "colorbar": {
             "outlinewidth": 0,
             "ticks": ""
            },
            "colorscale": [
             [
              0.0,
              "#0d0887"
             ],
             [
              0.1111111111111111,
              "#46039f"
             ],
             [
              0.2222222222222222,
              "#7201a8"
             ],
             [
              0.3333333333333333,
              "#9c179e"
             ],
             [
              0.4444444444444444,
              "#bd3786"
             ],
             [
              0.5555555555555556,
              "#d8576b"
             ],
             [
              0.6666666666666666,
              "#ed7953"
             ],
             [
              0.7777777777777778,
              "#fb9f3a"
             ],
             [
              0.8888888888888888,
              "#fdca26"
             ],
             [
              1.0,
              "#f0f921"
             ]
            ]
           }
          ],
          "heatmap": [
           {
            "type": "heatmap",
            "colorbar": {
             "outlinewidth": 0,
             "ticks": ""
            },
            "colorscale": [
             [
              0.0,
              "#0d0887"
             ],
             [
              0.1111111111111111,
              "#46039f"
             ],
             [
              0.2222222222222222,
              "#7201a8"
             ],
             [
              0.3333333333333333,
              "#9c179e"
             ],
             [
              0.4444444444444444,
              "#bd3786"
             ],
             [
              0.5555555555555556,
              "#d8576b"
             ],
             [
              0.6666666666666666,
              "#ed7953"
             ],
             [
              0.7777777777777778,
              "#fb9f3a"
             ],
             [
              0.8888888888888888,
              "#fdca26"
             ],
             [
              1.0,
              "#f0f921"
             ]
            ]
           }
          ],
          "heatmapgl": [
           {
            "type": "heatmapgl",
            "colorbar": {
             "outlinewidth": 0,
             "ticks": ""
            },
            "colorscale": [
             [
              0.0,
              "#0d0887"
             ],
             [
              0.1111111111111111,
              "#46039f"
             ],
             [
              0.2222222222222222,
              "#7201a8"
             ],
             [
              0.3333333333333333,
              "#9c179e"
             ],
             [
              0.4444444444444444,
              "#bd3786"
             ],
             [
              0.5555555555555556,
              "#d8576b"
             ],
             [
              0.6666666666666666,
              "#ed7953"
             ],
             [
              0.7777777777777778,
              "#fb9f3a"
             ],
             [
              0.8888888888888888,
              "#fdca26"
             ],
             [
              1.0,
              "#f0f921"
             ]
            ]
           }
          ],
          "contourcarpet": [
           {
            "type": "contourcarpet",
            "colorbar": {
             "outlinewidth": 0,
             "ticks": ""
            }
           }
          ],
          "contour": [
           {
            "type": "contour",
            "colorbar": {
             "outlinewidth": 0,
             "ticks": ""
            },
            "colorscale": [
             [
              0.0,
              "#0d0887"
             ],
             [
              0.1111111111111111,
              "#46039f"
             ],
             [
              0.2222222222222222,
              "#7201a8"
             ],
             [
              0.3333333333333333,
              "#9c179e"
             ],
             [
              0.4444444444444444,
              "#bd3786"
             ],
             [
              0.5555555555555556,
              "#d8576b"
             ],
             [
              0.6666666666666666,
              "#ed7953"
             ],
             [
              0.7777777777777778,
              "#fb9f3a"
             ],
             [
              0.8888888888888888,
              "#fdca26"
             ],
             [
              1.0,
              "#f0f921"
             ]
            ]
           }
          ],
          "surface": [
           {
            "type": "surface",
            "colorbar": {
             "outlinewidth": 0,
             "ticks": ""
            },
            "colorscale": [
             [
              0.0,
              "#0d0887"
             ],
             [
              0.1111111111111111,
              "#46039f"
             ],
             [
              0.2222222222222222,
              "#7201a8"
             ],
             [
              0.3333333333333333,
              "#9c179e"
             ],
             [
              0.4444444444444444,
              "#bd3786"
             ],
             [
              0.5555555555555556,
              "#d8576b"
             ],
             [
              0.6666666666666666,
              "#ed7953"
             ],
             [
              0.7777777777777778,
              "#fb9f3a"
             ],
             [
              0.8888888888888888,
              "#fdca26"
             ],
             [
              1.0,
              "#f0f921"
             ]
            ]
           }
          ],
          "mesh3d": [
           {
            "type": "mesh3d",
            "colorbar": {
             "outlinewidth": 0,
             "ticks": ""
            }
           }
          ],
          "scatter": [
           {
            "fillpattern": {
             "fillmode": "overlay",
             "size": 10,
             "solidity": 0.2
            },
            "type": "scatter"
           }
          ],
          "parcoords": [
           {
            "type": "parcoords",
            "line": {
             "colorbar": {
              "outlinewidth": 0,
              "ticks": ""
             }
            }
           }
          ],
          "scatterpolargl": [
           {
            "type": "scatterpolargl",
            "marker": {
             "colorbar": {
              "outlinewidth": 0,
              "ticks": ""
             }
            }
           }
          ],
          "bar": [
           {
            "error_x": {
             "color": "#2a3f5f"
            },
            "error_y": {
             "color": "#2a3f5f"
            },
            "marker": {
             "line": {
              "color": "#E5ECF6",
              "width": 0.5
             },
             "pattern": {
              "fillmode": "overlay",
              "size": 10,
              "solidity": 0.2
             }
            },
            "type": "bar"
           }
          ],
          "scattergeo": [
           {
            "type": "scattergeo",
            "marker": {
             "colorbar": {
              "outlinewidth": 0,
              "ticks": ""
             }
            }
           }
          ],
          "scatterpolar": [
           {
            "type": "scatterpolar",
            "marker": {
             "colorbar": {
              "outlinewidth": 0,
              "ticks": ""
             }
            }
           }
          ],
          "histogram": [
           {
            "marker": {
             "pattern": {
              "fillmode": "overlay",
              "size": 10,
              "solidity": 0.2
             }
            },
            "type": "histogram"
           }
          ],
          "scattergl": [
           {
            "type": "scattergl",
            "marker": {
             "colorbar": {
              "outlinewidth": 0,
              "ticks": ""
             }
            }
           }
          ],
          "scatter3d": [
           {
            "type": "scatter3d",
            "line": {
             "colorbar": {
              "outlinewidth": 0,
              "ticks": ""
             }
            },
            "marker": {
             "colorbar": {
              "outlinewidth": 0,
              "ticks": ""
             }
            }
           }
          ],
          "scattermapbox": [
           {
            "type": "scattermapbox",
            "marker": {
             "colorbar": {
              "outlinewidth": 0,
              "ticks": ""
             }
            }
           }
          ],
          "scatterternary": [
           {
            "type": "scatterternary",
            "marker": {
             "colorbar": {
              "outlinewidth": 0,
              "ticks": ""
             }
            }
           }
          ],
          "scattercarpet": [
           {
            "type": "scattercarpet",
            "marker": {
             "colorbar": {
              "outlinewidth": 0,
              "ticks": ""
             }
            }
           }
          ],
          "carpet": [
           {
            "aaxis": {
             "endlinecolor": "#2a3f5f",
             "gridcolor": "white",
             "linecolor": "white",
             "minorgridcolor": "white",
             "startlinecolor": "#2a3f5f"
            },
            "baxis": {
             "endlinecolor": "#2a3f5f",
             "gridcolor": "white",
             "linecolor": "white",
             "minorgridcolor": "white",
             "startlinecolor": "#2a3f5f"
            },
            "type": "carpet"
           }
          ],
          "table": [
           {
            "cells": {
             "fill": {
              "color": "#EBF0F8"
             },
             "line": {
              "color": "white"
             }
            },
            "header": {
             "fill": {
              "color": "#C8D4E3"
             },
             "line": {
              "color": "white"
             }
            },
            "type": "table"
           }
          ],
          "barpolar": [
           {
            "marker": {
             "line": {
              "color": "#E5ECF6",
              "width": 0.5
             },
             "pattern": {
              "fillmode": "overlay",
              "size": 10,
              "solidity": 0.2
             }
            },
            "type": "barpolar"
           }
          ],
          "pie": [
           {
            "automargin": true,
            "type": "pie"
           }
          ]
         },
         "layout": {
          "autotypenumbers": "strict",
          "colorway": [
           "#636efa",
           "#EF553B",
           "#00cc96",
           "#ab63fa",
           "#FFA15A",
           "#19d3f3",
           "#FF6692",
           "#B6E880",
           "#FF97FF",
           "#FECB52"
          ],
          "font": {
           "color": "#2a3f5f"
          },
          "hovermode": "closest",
          "hoverlabel": {
           "align": "left"
          },
          "paper_bgcolor": "white",
          "plot_bgcolor": "#E5ECF6",
          "polar": {
           "bgcolor": "#E5ECF6",
           "angularaxis": {
            "gridcolor": "white",
            "linecolor": "white",
            "ticks": ""
           },
           "radialaxis": {
            "gridcolor": "white",
            "linecolor": "white",
            "ticks": ""
           }
          },
          "ternary": {
           "bgcolor": "#E5ECF6",
           "aaxis": {
            "gridcolor": "white",
            "linecolor": "white",
            "ticks": ""
           },
           "baxis": {
            "gridcolor": "white",
            "linecolor": "white",
            "ticks": ""
           },
           "caxis": {
            "gridcolor": "white",
            "linecolor": "white",
            "ticks": ""
           }
          },
          "coloraxis": {
           "colorbar": {
            "outlinewidth": 0,
            "ticks": ""
           }
          },
          "colorscale": {
           "sequential": [
            [
             0.0,
             "#0d0887"
            ],
            [
             0.1111111111111111,
             "#46039f"
            ],
            [
             0.2222222222222222,
             "#7201a8"
            ],
            [
             0.3333333333333333,
             "#9c179e"
            ],
            [
             0.4444444444444444,
             "#bd3786"
            ],
            [
             0.5555555555555556,
             "#d8576b"
            ],
            [
             0.6666666666666666,
             "#ed7953"
            ],
            [
             0.7777777777777778,
             "#fb9f3a"
            ],
            [
             0.8888888888888888,
             "#fdca26"
            ],
            [
             1.0,
             "#f0f921"
            ]
           ],
           "sequentialminus": [
            [
             0.0,
             "#0d0887"
            ],
            [
             0.1111111111111111,
             "#46039f"
            ],
            [
             0.2222222222222222,
             "#7201a8"
            ],
            [
             0.3333333333333333,
             "#9c179e"
            ],
            [
             0.4444444444444444,
             "#bd3786"
            ],
            [
             0.5555555555555556,
             "#d8576b"
            ],
            [
             0.6666666666666666,
             "#ed7953"
            ],
            [
             0.7777777777777778,
             "#fb9f3a"
            ],
            [
             0.8888888888888888,
             "#fdca26"
            ],
            [
             1.0,
             "#f0f921"
            ]
           ],
           "diverging": [
            [
             0,
             "#8e0152"
            ],
            [
             0.1,
             "#c51b7d"
            ],
            [
             0.2,
             "#de77ae"
            ],
            [
             0.3,
             "#f1b6da"
            ],
            [
             0.4,
             "#fde0ef"
            ],
            [
             0.5,
             "#f7f7f7"
            ],
            [
             0.6,
             "#e6f5d0"
            ],
            [
             0.7,
             "#b8e186"
            ],
            [
             0.8,
             "#7fbc41"
            ],
            [
             0.9,
             "#4d9221"
            ],
            [
             1,
             "#276419"
            ]
           ]
          },
          "xaxis": {
           "gridcolor": "white",
           "linecolor": "white",
           "ticks": "",
           "title": {
            "standoff": 15
           },
           "zerolinecolor": "white",
           "automargin": true,
           "zerolinewidth": 2
          },
          "yaxis": {
           "gridcolor": "white",
           "linecolor": "white",
           "ticks": "",
           "title": {
            "standoff": 15
           },
           "zerolinecolor": "white",
           "automargin": true,
           "zerolinewidth": 2
          },
          "scene": {
           "xaxis": {
            "backgroundcolor": "#E5ECF6",
            "gridcolor": "white",
            "linecolor": "white",
            "showbackground": true,
            "ticks": "",
            "zerolinecolor": "white",
            "gridwidth": 2
           },
           "yaxis": {
            "backgroundcolor": "#E5ECF6",
            "gridcolor": "white",
            "linecolor": "white",
            "showbackground": true,
            "ticks": "",
            "zerolinecolor": "white",
            "gridwidth": 2
           },
           "zaxis": {
            "backgroundcolor": "#E5ECF6",
            "gridcolor": "white",
            "linecolor": "white",
            "showbackground": true,
            "ticks": "",
            "zerolinecolor": "white",
            "gridwidth": 2
           }
          },
          "shapedefaults": {
           "line": {
            "color": "#2a3f5f"
           }
          },
          "annotationdefaults": {
           "arrowcolor": "#2a3f5f",
           "arrowhead": 0,
           "arrowwidth": 1
          },
          "geo": {
           "bgcolor": "white",
           "landcolor": "#E5ECF6",
           "subunitcolor": "white",
           "showland": true,
           "showlakes": true,
           "lakecolor": "white"
          },
          "title": {
           "x": 0.05
          },
          "mapbox": {
           "style": "light"
          }
         }
        },
        "yaxis": {
         "type": "log",
         "title": {
          "text": "Cost (USD, nominal)"
         },
         "range": [
          5,
          8
         ]
        },
        "showlegend": false,
        "xaxis": {
         "title": {
          "text": "Publication date"
         },
         "range": [
          "2018-01-01",
          "2025-01-01"
         ]
        },
        "title": {
         "text": "Cost of cloud compute to train frontier ML systems"
        },
        "autosize": false,
        "width": 800,
        "height": 600,
        "font": {
         "size": 14
        },
        "margin": {
         "l": 10,
         "r": 10,
         "t": 40,
         "b": 10
        }
       },
       "config": {
        "plotlyServerURL": "https://plot.ly"
       }
      },
      "text/html": "<div>                            <div id=\"5032717f-e49c-4c29-8e72-f64444bfbc5f\" class=\"plotly-graph-div\" style=\"height:600px; width:800px;\"></div>            <script type=\"text/javascript\">                require([\"plotly\"], function(Plotly) {                    window.PLOTLYENV=window.PLOTLYENV || {};                                    if (document.getElementById(\"5032717f-e49c-4c29-8e72-f64444bfbc5f\")) {                    Plotly.newPlot(                        \"5032717f-e49c-4c29-8e72-f64444bfbc5f\",                        [{\"line\":{\"color\":\"#034752\"},\"mode\":\"markers+text\",\"name\":\"RoBERTa Large\",\"text\":\"RoBERTa Large\",\"textposition\":\"top center\",\"x\":[\"2019-07-01T00:00:00\"],\"y\":[281395.2],\"type\":\"scatter\"},{\"line\":{\"color\":\"#034752\"},\"mode\":\"markers+text\",\"name\":\"Megatron-LM (8.3B)\",\"text\":\"Megatron-LM (8.3B)\",\"textposition\":\"top center\",\"x\":[\"2019-09-17T00:00:00\"],\"y\":[383400.96],\"type\":\"scatter\"},{\"line\":{\"color\":\"#034752\"},\"mode\":\"markers+text\",\"name\":\"T5-11B\",\"text\":\"T5-11B\",\"textposition\":\"top center\",\"x\":[\"2019-10-23T00:00:00\"],\"y\":[310883.328],\"type\":\"scatter\"},{\"line\":{\"color\":\"#034752\"},\"mode\":\"markers+text\",\"name\":\"AlphaStar\",\"text\":\"AlphaStar\",\"textposition\":\"top center\",\"x\":[\"2019-10-30T00:00:00\"],\"y\":[510935.04],\"type\":\"scatter\"},{\"line\":{\"color\":\"#034752\"},\"mode\":\"markers+text\",\"name\":\"Meena\",\"text\":\"Meena\",\"textposition\":\"top center\",\"x\":[\"2020-01-28T00:00:00\"],\"y\":[928972.8],\"type\":\"scatter\"},{\"line\":{\"color\":\"#034752\"},\"mode\":\"markers+text\",\"name\":\"GShard (dense)\",\"text\":\"GShard (dense)\",\"textposition\":\"top center\",\"x\":[\"2020-06-30T00:00:00\"],\"y\":[1300561.92],\"type\":\"scatter\"},{\"line\":{\"color\":\"#034752\"},\"mode\":\"markers+text\",\"name\":\"ALIGN\",\"text\":\"ALIGN\",\"textposition\":\"top center\",\"x\":[\"2021-06-11T00:00:00\"],\"y\":[224050.176],\"type\":\"scatter\"},{\"line\":{\"color\":\"#034752\"},\"mode\":\"markers+text\",\"name\":\"Megatron-Turing NLG 530B\",\"text\":\"Megatron-Turing NLG 530B\",\"textposition\":\"top center\",\"x\":[\"2021-10-11T00:00:00\"],\"y\":[9037952.0],\"type\":\"scatter\"},{\"line\":{\"color\":\"#034752\"},\"mode\":\"markers+text\",\"name\":\"Gopher (280B)\",\"text\":\"Gopher (280B)\",\"textposition\":\"top center\",\"x\":[\"2021-12-08T00:00:00\"],\"y\":[4748083.2],\"type\":\"scatter\"},{\"line\":{\"color\":\"#034752\"},\"mode\":\"markers+text\",\"name\":\"GLaM\",\"text\":\"GLaM\",\"textposition\":\"top center\",\"x\":[\"2021-12-13T00:00:00\"],\"y\":[2839531.5199999996],\"type\":\"scatter\"},{\"line\":{\"color\":\"#034752\"},\"mode\":\"markers+text\",\"name\":\"LaMDA\",\"text\":\"LaMDA\",\"textposition\":\"top center\",\"x\":[\"2022-02-10T00:00:00\"],\"y\":[1786982.4],\"type\":\"scatter\"},{\"line\":{\"color\":\"#034752\"},\"mode\":\"markers+text\",\"name\":\"PaLM (540B)\",\"text\":\"PaLM (540B)\",\"textposition\":\"top center\",\"x\":[\"2022-04-04T00:00:00\"],\"y\":[17062133.759999998],\"type\":\"scatter\"},{\"line\":{\"color\":\"#034752\"},\"mode\":\"markers+text\",\"name\":\"OPT-175B\",\"text\":\"OPT-175B\",\"textposition\":\"top center\",\"x\":[\"2022-05-02T00:00:00\"],\"y\":[2437632.0],\"type\":\"scatter\"},{\"line\":{\"color\":\"#034752\"},\"mode\":\"markers+text\",\"name\":\"Minerva (540B)\",\"text\":\"Minerva (540B)\",\"textposition\":\"top center\",\"x\":[\"2022-06-29T00:00:00\"],\"y\":[18508922.88],\"type\":\"scatter\"},{\"line\":{\"color\":\"#034752\"},\"mode\":\"markers+text\",\"name\":\"Falcon 180B\",\"text\":\"Falcon 180B\",\"textposition\":\"top center\",\"x\":[\"2023-09-06T00:00:00\"],\"y\":[42467328.0],\"type\":\"scatter\"}],                        {\"template\":{\"data\":{\"histogram2dcontour\":[{\"type\":\"histogram2dcontour\",\"colorbar\":{\"outlinewidth\":0,\"ticks\":\"\"},\"colorscale\":[[0.0,\"#0d0887\"],[0.1111111111111111,\"#46039f\"],[0.2222222222222222,\"#7201a8\"],[0.3333333333333333,\"#9c179e\"],[0.4444444444444444,\"#bd3786\"],[0.5555555555555556,\"#d8576b\"],[0.6666666666666666,\"#ed7953\"],[0.7777777777777778,\"#fb9f3a\"],[0.8888888888888888,\"#fdca26\"],[1.0,\"#f0f921\"]]}],\"choropleth\":[{\"type\":\"choropleth\",\"colorbar\":{\"outlinewidth\":0,\"ticks\":\"\"}}],\"histogram2d\":[{\"type\":\"histogram2d\",\"colorbar\":{\"outlinewidth\":0,\"ticks\":\"\"},\"colorscale\":[[0.0,\"#0d0887\"],[0.1111111111111111,\"#46039f\"],[0.2222222222222222,\"#7201a8\"],[0.3333333333333333,\"#9c179e\"],[0.4444444444444444,\"#bd3786\"],[0.5555555555555556,\"#d8576b\"],[0.6666666666666666,\"#ed7953\"],[0.7777777777777778,\"#fb9f3a\"],[0.8888888888888888,\"#fdca26\"],[1.0,\"#f0f921\"]]}],\"heatmap\":[{\"type\":\"heatmap\",\"colorbar\":{\"outlinewidth\":0,\"ticks\":\"\"},\"colorscale\":[[0.0,\"#0d0887\"],[0.1111111111111111,\"#46039f\"],[0.2222222222222222,\"#7201a8\"],[0.3333333333333333,\"#9c179e\"],[0.4444444444444444,\"#bd3786\"],[0.5555555555555556,\"#d8576b\"],[0.6666666666666666,\"#ed7953\"],[0.7777777777777778,\"#fb9f3a\"],[0.8888888888888888,\"#fdca26\"],[1.0,\"#f0f921\"]]}],\"heatmapgl\":[{\"type\":\"heatmapgl\",\"colorbar\":{\"outlinewidth\":0,\"ticks\":\"\"},\"colorscale\":[[0.0,\"#0d0887\"],[0.1111111111111111,\"#46039f\"],[0.2222222222222222,\"#7201a8\"],[0.3333333333333333,\"#9c179e\"],[0.4444444444444444,\"#bd3786\"],[0.5555555555555556,\"#d8576b\"],[0.6666666666666666,\"#ed7953\"],[0.7777777777777778,\"#fb9f3a\"],[0.8888888888888888,\"#fdca26\"],[1.0,\"#f0f921\"]]}],\"contourcarpet\":[{\"type\":\"contourcarpet\",\"colorbar\":{\"outlinewidth\":0,\"ticks\":\"\"}}],\"contour\":[{\"type\":\"contour\",\"colorbar\":{\"outlinewidth\":0,\"ticks\":\"\"},\"colorscale\":[[0.0,\"#0d0887\"],[0.1111111111111111,\"#46039f\"],[0.2222222222222222,\"#7201a8\"],[0.3333333333333333,\"#9c179e\"],[0.4444444444444444,\"#bd3786\"],[0.5555555555555556,\"#d8576b\"],[0.6666666666666666,\"#ed7953\"],[0.7777777777777778,\"#fb9f3a\"],[0.8888888888888888,\"#fdca26\"],[1.0,\"#f0f921\"]]}],\"surface\":[{\"type\":\"surface\",\"colorbar\":{\"outlinewidth\":0,\"ticks\":\"\"},\"colorscale\":[[0.0,\"#0d0887\"],[0.1111111111111111,\"#46039f\"],[0.2222222222222222,\"#7201a8\"],[0.3333333333333333,\"#9c179e\"],[0.4444444444444444,\"#bd3786\"],[0.5555555555555556,\"#d8576b\"],[0.6666666666666666,\"#ed7953\"],[0.7777777777777778,\"#fb9f3a\"],[0.8888888888888888,\"#fdca26\"],[1.0,\"#f0f921\"]]}],\"mesh3d\":[{\"type\":\"mesh3d\",\"colorbar\":{\"outlinewidth\":0,\"ticks\":\"\"}}],\"scatter\":[{\"fillpattern\":{\"fillmode\":\"overlay\",\"size\":10,\"solidity\":0.2},\"type\":\"scatter\"}],\"parcoords\":[{\"type\":\"parcoords\",\"line\":{\"colorbar\":{\"outlinewidth\":0,\"ticks\":\"\"}}}],\"scatterpolargl\":[{\"type\":\"scatterpolargl\",\"marker\":{\"colorbar\":{\"outlinewidth\":0,\"ticks\":\"\"}}}],\"bar\":[{\"error_x\":{\"color\":\"#2a3f5f\"},\"error_y\":{\"color\":\"#2a3f5f\"},\"marker\":{\"line\":{\"color\":\"#E5ECF6\",\"width\":0.5},\"pattern\":{\"fillmode\":\"overlay\",\"size\":10,\"solidity\":0.2}},\"type\":\"bar\"}],\"scattergeo\":[{\"type\":\"scattergeo\",\"marker\":{\"colorbar\":{\"outlinewidth\":0,\"ticks\":\"\"}}}],\"scatterpolar\":[{\"type\":\"scatterpolar\",\"marker\":{\"colorbar\":{\"outlinewidth\":0,\"ticks\":\"\"}}}],\"histogram\":[{\"marker\":{\"pattern\":{\"fillmode\":\"overlay\",\"size\":10,\"solidity\":0.2}},\"type\":\"histogram\"}],\"scattergl\":[{\"type\":\"scattergl\",\"marker\":{\"colorbar\":{\"outlinewidth\":0,\"ticks\":\"\"}}}],\"scatter3d\":[{\"type\":\"scatter3d\",\"line\":{\"colorbar\":{\"outlinewidth\":0,\"ticks\":\"\"}},\"marker\":{\"colorbar\":{\"outlinewidth\":0,\"ticks\":\"\"}}}],\"scattermapbox\":[{\"type\":\"scattermapbox\",\"marker\":{\"colorbar\":{\"outlinewidth\":0,\"ticks\":\"\"}}}],\"scatterternary\":[{\"type\":\"scatterternary\",\"marker\":{\"colorbar\":{\"outlinewidth\":0,\"ticks\":\"\"}}}],\"scattercarpet\":[{\"type\":\"scattercarpet\",\"marker\":{\"colorbar\":{\"outlinewidth\":0,\"ticks\":\"\"}}}],\"carpet\":[{\"aaxis\":{\"endlinecolor\":\"#2a3f5f\",\"gridcolor\":\"white\",\"linecolor\":\"white\",\"minorgridcolor\":\"white\",\"startlinecolor\":\"#2a3f5f\"},\"baxis\":{\"endlinecolor\":\"#2a3f5f\",\"gridcolor\":\"white\",\"linecolor\":\"white\",\"minorgridcolor\":\"white\",\"startlinecolor\":\"#2a3f5f\"},\"type\":\"carpet\"}],\"table\":[{\"cells\":{\"fill\":{\"color\":\"#EBF0F8\"},\"line\":{\"color\":\"white\"}},\"header\":{\"fill\":{\"color\":\"#C8D4E3\"},\"line\":{\"color\":\"white\"}},\"type\":\"table\"}],\"barpolar\":[{\"marker\":{\"line\":{\"color\":\"#E5ECF6\",\"width\":0.5},\"pattern\":{\"fillmode\":\"overlay\",\"size\":10,\"solidity\":0.2}},\"type\":\"barpolar\"}],\"pie\":[{\"automargin\":true,\"type\":\"pie\"}]},\"layout\":{\"autotypenumbers\":\"strict\",\"colorway\":[\"#636efa\",\"#EF553B\",\"#00cc96\",\"#ab63fa\",\"#FFA15A\",\"#19d3f3\",\"#FF6692\",\"#B6E880\",\"#FF97FF\",\"#FECB52\"],\"font\":{\"color\":\"#2a3f5f\"},\"hovermode\":\"closest\",\"hoverlabel\":{\"align\":\"left\"},\"paper_bgcolor\":\"white\",\"plot_bgcolor\":\"#E5ECF6\",\"polar\":{\"bgcolor\":\"#E5ECF6\",\"angularaxis\":{\"gridcolor\":\"white\",\"linecolor\":\"white\",\"ticks\":\"\"},\"radialaxis\":{\"gridcolor\":\"white\",\"linecolor\":\"white\",\"ticks\":\"\"}},\"ternary\":{\"bgcolor\":\"#E5ECF6\",\"aaxis\":{\"gridcolor\":\"white\",\"linecolor\":\"white\",\"ticks\":\"\"},\"baxis\":{\"gridcolor\":\"white\",\"linecolor\":\"white\",\"ticks\":\"\"},\"caxis\":{\"gridcolor\":\"white\",\"linecolor\":\"white\",\"ticks\":\"\"}},\"coloraxis\":{\"colorbar\":{\"outlinewidth\":0,\"ticks\":\"\"}},\"colorscale\":{\"sequential\":[[0.0,\"#0d0887\"],[0.1111111111111111,\"#46039f\"],[0.2222222222222222,\"#7201a8\"],[0.3333333333333333,\"#9c179e\"],[0.4444444444444444,\"#bd3786\"],[0.5555555555555556,\"#d8576b\"],[0.6666666666666666,\"#ed7953\"],[0.7777777777777778,\"#fb9f3a\"],[0.8888888888888888,\"#fdca26\"],[1.0,\"#f0f921\"]],\"sequentialminus\":[[0.0,\"#0d0887\"],[0.1111111111111111,\"#46039f\"],[0.2222222222222222,\"#7201a8\"],[0.3333333333333333,\"#9c179e\"],[0.4444444444444444,\"#bd3786\"],[0.5555555555555556,\"#d8576b\"],[0.6666666666666666,\"#ed7953\"],[0.7777777777777778,\"#fb9f3a\"],[0.8888888888888888,\"#fdca26\"],[1.0,\"#f0f921\"]],\"diverging\":[[0,\"#8e0152\"],[0.1,\"#c51b7d\"],[0.2,\"#de77ae\"],[0.3,\"#f1b6da\"],[0.4,\"#fde0ef\"],[0.5,\"#f7f7f7\"],[0.6,\"#e6f5d0\"],[0.7,\"#b8e186\"],[0.8,\"#7fbc41\"],[0.9,\"#4d9221\"],[1,\"#276419\"]]},\"xaxis\":{\"gridcolor\":\"white\",\"linecolor\":\"white\",\"ticks\":\"\",\"title\":{\"standoff\":15},\"zerolinecolor\":\"white\",\"automargin\":true,\"zerolinewidth\":2},\"yaxis\":{\"gridcolor\":\"white\",\"linecolor\":\"white\",\"ticks\":\"\",\"title\":{\"standoff\":15},\"zerolinecolor\":\"white\",\"automargin\":true,\"zerolinewidth\":2},\"scene\":{\"xaxis\":{\"backgroundcolor\":\"#E5ECF6\",\"gridcolor\":\"white\",\"linecolor\":\"white\",\"showbackground\":true,\"ticks\":\"\",\"zerolinecolor\":\"white\",\"gridwidth\":2},\"yaxis\":{\"backgroundcolor\":\"#E5ECF6\",\"gridcolor\":\"white\",\"linecolor\":\"white\",\"showbackground\":true,\"ticks\":\"\",\"zerolinecolor\":\"white\",\"gridwidth\":2},\"zaxis\":{\"backgroundcolor\":\"#E5ECF6\",\"gridcolor\":\"white\",\"linecolor\":\"white\",\"showbackground\":true,\"ticks\":\"\",\"zerolinecolor\":\"white\",\"gridwidth\":2}},\"shapedefaults\":{\"line\":{\"color\":\"#2a3f5f\"}},\"annotationdefaults\":{\"arrowcolor\":\"#2a3f5f\",\"arrowhead\":0,\"arrowwidth\":1},\"geo\":{\"bgcolor\":\"white\",\"landcolor\":\"#E5ECF6\",\"subunitcolor\":\"white\",\"showland\":true,\"showlakes\":true,\"lakecolor\":\"white\"},\"title\":{\"x\":0.05},\"mapbox\":{\"style\":\"light\"}}},\"yaxis\":{\"type\":\"log\",\"title\":{\"text\":\"Cost (USD, nominal)\"},\"range\":[5,8]},\"showlegend\":false,\"xaxis\":{\"title\":{\"text\":\"Publication date\"},\"range\":[\"2018-01-01\",\"2025-01-01\"]},\"title\":{\"text\":\"Cost of cloud compute to train frontier ML systems\"},\"autosize\":false,\"width\":800,\"height\":600,\"font\":{\"size\":14},\"margin\":{\"l\":10,\"r\":10,\"t\":40,\"b\":10}},                        {\"responsive\": true}                    ).then(function(){\n                            \nvar gd = document.getElementById('5032717f-e49c-4c29-8e72-f64444bfbc5f');\nvar x = new MutationObserver(function (mutations, observer) {{\n        var display = window.getComputedStyle(gd).display;\n        if (!display || display === 'none') {{\n            console.log([gd, 'removed!']);\n            Plotly.purge(gd);\n            observer.disconnect();\n        }}\n}});\n\n// Listen for the removal of the full notebook cells\nvar notebookContainer = gd.closest('#notebook-container');\nif (notebookContainer) {{\n    x.observe(notebookContainer, {childList: true});\n}}\n\n// Listen for the clearing of the current output cell\nvar outputEl = gd.closest('.output');\nif (outputEl) {{\n    x.observe(outputEl, {childList: true});\n}}\n\n                        })                };                });            </script>        </div>"
     },
     "metadata": {},
     "output_type": "display_data"
    }
   ],
   "source": [
    "import plotly.graph_objects as go\n",
    "\n",
    "fig = go.Figure()\n",
    "for i, row in frontier_pcd_df.iterrows():\n",
    "    system = row['System']\n",
    "    cost = system_to_cost.get(system)\n",
    "    if cost is None:\n",
    "        continue\n",
    "    publication_date = row['Publication date']\n",
    "\n",
    "    fig.add_trace(go.Scatter(\n",
    "        x=[publication_date],\n",
    "        y=[cost],\n",
    "        name=system,\n",
    "        text=system,\n",
    "        textposition='top center',\n",
    "        line=dict(color='#034752'),\n",
    "        mode='markers+text',\n",
    "    ))\n",
    "\n",
    "# log y axis\n",
    "fig.update_yaxes(type=\"log\")\n",
    "# no legend\n",
    "fig.update_layout(showlegend=False)\n",
    "\n",
    "# axis labels\n",
    "fig.update_xaxes(title_text='Publication date')\n",
    "fig.update_yaxes(title_text='Cost (USD, nominal)')\n",
    "\n",
    "# title\n",
    "fig.update_layout(title_text='Cost of cloud compute to train frontier ML systems')\n",
    "\n",
    "# update size\n",
    "fig.update_layout(\n",
    "    autosize=False,\n",
    "    width=800,\n",
    "    height=600,\n",
    ")\n",
    "\n",
    "# font size\n",
    "fig.update_layout(\n",
    "    font=dict(\n",
    "        size=14,\n",
    "    )\n",
    ")\n",
    "\n",
    "# axis limits\n",
    "fig.update_xaxes(range=['2018-01-01', '2025-01-01'])\n",
    "fig.update_yaxes(range=[5, 8])\n",
    "\n",
    "# margins\n",
    "fig.update_layout(margin=dict(l=10, r=10, t=40, b=10))\n",
    "\n",
    "save_plot(fig, 'results/', 'cost_scatter')\n",
    "\n",
    "fig.show()"
   ]
  },
  {
   "cell_type": "code",
   "execution_count": 41,
   "metadata": {
    "ExecuteTime": {
     "end_time": "2024-01-31T15:08:30.110436500Z",
     "start_time": "2024-01-31T15:08:28.588636800Z"
    }
   },
   "outputs": [
    {
     "data": {
      "application/vnd.plotly.v1+json": {
       "data": [
        {
         "marker": {
          "color": "#034752"
         },
         "name": "RoBERTa Large",
         "x": [
          "RoBERTa Large"
         ],
         "y": [
          281395.2
         ],
         "type": "bar"
        },
        {
         "marker": {
          "color": "#034752"
         },
         "name": "Megatron-LM (8.3B)",
         "x": [
          "Megatron-LM (8.3B)"
         ],
         "y": [
          383400.96
         ],
         "type": "bar"
        },
        {
         "marker": {
          "color": "#034752"
         },
         "name": "T5-11B",
         "x": [
          "T5-11B"
         ],
         "y": [
          310883.328
         ],
         "type": "bar"
        },
        {
         "marker": {
          "color": "#034752"
         },
         "name": "AlphaStar",
         "x": [
          "AlphaStar"
         ],
         "y": [
          510935.04
         ],
         "type": "bar"
        },
        {
         "marker": {
          "color": "#034752"
         },
         "name": "Meena",
         "x": [
          "Meena"
         ],
         "y": [
          928972.8
         ],
         "type": "bar"
        },
        {
         "marker": {
          "color": "#034752"
         },
         "name": "GShard (dense)",
         "x": [
          "GShard (dense)"
         ],
         "y": [
          1300561.92
         ],
         "type": "bar"
        },
        {
         "marker": {
          "color": "#034752"
         },
         "name": "ALIGN",
         "x": [
          "ALIGN"
         ],
         "y": [
          224050.176
         ],
         "type": "bar"
        },
        {
         "marker": {
          "color": "#034752"
         },
         "name": "Megatron-Turing NLG 530B",
         "x": [
          "Megatron-Turing NLG 530B"
         ],
         "y": [
          9037952.0
         ],
         "type": "bar"
        },
        {
         "marker": {
          "color": "#034752"
         },
         "name": "Gopher (280B)",
         "x": [
          "Gopher (280B)"
         ],
         "y": [
          4748083.2
         ],
         "type": "bar"
        },
        {
         "marker": {
          "color": "#034752"
         },
         "name": "GLaM",
         "x": [
          "GLaM"
         ],
         "y": [
          2839531.5199999996
         ],
         "type": "bar"
        },
        {
         "marker": {
          "color": "#034752"
         },
         "name": "LaMDA",
         "x": [
          "LaMDA"
         ],
         "y": [
          1786982.4
         ],
         "type": "bar"
        },
        {
         "marker": {
          "color": "#034752"
         },
         "name": "PaLM (540B)",
         "x": [
          "PaLM (540B)"
         ],
         "y": [
          1.7062133759999998E7
         ],
         "type": "bar"
        },
        {
         "marker": {
          "color": "#034752"
         },
         "name": "OPT-175B",
         "x": [
          "OPT-175B"
         ],
         "y": [
          2437632.0
         ],
         "type": "bar"
        },
        {
         "marker": {
          "color": "#034752"
         },
         "name": "Minerva (540B)",
         "x": [
          "Minerva (540B)"
         ],
         "y": [
          1.850892288E7
         ],
         "type": "bar"
        },
        {
         "marker": {
          "color": "#034752"
         },
         "name": "Falcon 180B",
         "x": [
          "Falcon 180B"
         ],
         "y": [
          4.2467328E7
         ],
         "type": "bar"
        }
       ],
       "layout": {
        "template": {
         "data": {
          "histogram2dcontour": [
           {
            "type": "histogram2dcontour",
            "colorbar": {
             "outlinewidth": 0,
             "ticks": ""
            },
            "colorscale": [
             [
              0.0,
              "#0d0887"
             ],
             [
              0.1111111111111111,
              "#46039f"
             ],
             [
              0.2222222222222222,
              "#7201a8"
             ],
             [
              0.3333333333333333,
              "#9c179e"
             ],
             [
              0.4444444444444444,
              "#bd3786"
             ],
             [
              0.5555555555555556,
              "#d8576b"
             ],
             [
              0.6666666666666666,
              "#ed7953"
             ],
             [
              0.7777777777777778,
              "#fb9f3a"
             ],
             [
              0.8888888888888888,
              "#fdca26"
             ],
             [
              1.0,
              "#f0f921"
             ]
            ]
           }
          ],
          "choropleth": [
           {
            "type": "choropleth",
            "colorbar": {
             "outlinewidth": 0,
             "ticks": ""
            }
           }
          ],
          "histogram2d": [
           {
            "type": "histogram2d",
            "colorbar": {
             "outlinewidth": 0,
             "ticks": ""
            },
            "colorscale": [
             [
              0.0,
              "#0d0887"
             ],
             [
              0.1111111111111111,
              "#46039f"
             ],
             [
              0.2222222222222222,
              "#7201a8"
             ],
             [
              0.3333333333333333,
              "#9c179e"
             ],
             [
              0.4444444444444444,
              "#bd3786"
             ],
             [
              0.5555555555555556,
              "#d8576b"
             ],
             [
              0.6666666666666666,
              "#ed7953"
             ],
             [
              0.7777777777777778,
              "#fb9f3a"
             ],
             [
              0.8888888888888888,
              "#fdca26"
             ],
             [
              1.0,
              "#f0f921"
             ]
            ]
           }
          ],
          "heatmap": [
           {
            "type": "heatmap",
            "colorbar": {
             "outlinewidth": 0,
             "ticks": ""
            },
            "colorscale": [
             [
              0.0,
              "#0d0887"
             ],
             [
              0.1111111111111111,
              "#46039f"
             ],
             [
              0.2222222222222222,
              "#7201a8"
             ],
             [
              0.3333333333333333,
              "#9c179e"
             ],
             [
              0.4444444444444444,
              "#bd3786"
             ],
             [
              0.5555555555555556,
              "#d8576b"
             ],
             [
              0.6666666666666666,
              "#ed7953"
             ],
             [
              0.7777777777777778,
              "#fb9f3a"
             ],
             [
              0.8888888888888888,
              "#fdca26"
             ],
             [
              1.0,
              "#f0f921"
             ]
            ]
           }
          ],
          "heatmapgl": [
           {
            "type": "heatmapgl",
            "colorbar": {
             "outlinewidth": 0,
             "ticks": ""
            },
            "colorscale": [
             [
              0.0,
              "#0d0887"
             ],
             [
              0.1111111111111111,
              "#46039f"
             ],
             [
              0.2222222222222222,
              "#7201a8"
             ],
             [
              0.3333333333333333,
              "#9c179e"
             ],
             [
              0.4444444444444444,
              "#bd3786"
             ],
             [
              0.5555555555555556,
              "#d8576b"
             ],
             [
              0.6666666666666666,
              "#ed7953"
             ],
             [
              0.7777777777777778,
              "#fb9f3a"
             ],
             [
              0.8888888888888888,
              "#fdca26"
             ],
             [
              1.0,
              "#f0f921"
             ]
            ]
           }
          ],
          "contourcarpet": [
           {
            "type": "contourcarpet",
            "colorbar": {
             "outlinewidth": 0,
             "ticks": ""
            }
           }
          ],
          "contour": [
           {
            "type": "contour",
            "colorbar": {
             "outlinewidth": 0,
             "ticks": ""
            },
            "colorscale": [
             [
              0.0,
              "#0d0887"
             ],
             [
              0.1111111111111111,
              "#46039f"
             ],
             [
              0.2222222222222222,
              "#7201a8"
             ],
             [
              0.3333333333333333,
              "#9c179e"
             ],
             [
              0.4444444444444444,
              "#bd3786"
             ],
             [
              0.5555555555555556,
              "#d8576b"
             ],
             [
              0.6666666666666666,
              "#ed7953"
             ],
             [
              0.7777777777777778,
              "#fb9f3a"
             ],
             [
              0.8888888888888888,
              "#fdca26"
             ],
             [
              1.0,
              "#f0f921"
             ]
            ]
           }
          ],
          "surface": [
           {
            "type": "surface",
            "colorbar": {
             "outlinewidth": 0,
             "ticks": ""
            },
            "colorscale": [
             [
              0.0,
              "#0d0887"
             ],
             [
              0.1111111111111111,
              "#46039f"
             ],
             [
              0.2222222222222222,
              "#7201a8"
             ],
             [
              0.3333333333333333,
              "#9c179e"
             ],
             [
              0.4444444444444444,
              "#bd3786"
             ],
             [
              0.5555555555555556,
              "#d8576b"
             ],
             [
              0.6666666666666666,
              "#ed7953"
             ],
             [
              0.7777777777777778,
              "#fb9f3a"
             ],
             [
              0.8888888888888888,
              "#fdca26"
             ],
             [
              1.0,
              "#f0f921"
             ]
            ]
           }
          ],
          "mesh3d": [
           {
            "type": "mesh3d",
            "colorbar": {
             "outlinewidth": 0,
             "ticks": ""
            }
           }
          ],
          "scatter": [
           {
            "fillpattern": {
             "fillmode": "overlay",
             "size": 10,
             "solidity": 0.2
            },
            "type": "scatter"
           }
          ],
          "parcoords": [
           {
            "type": "parcoords",
            "line": {
             "colorbar": {
              "outlinewidth": 0,
              "ticks": ""
             }
            }
           }
          ],
          "scatterpolargl": [
           {
            "type": "scatterpolargl",
            "marker": {
             "colorbar": {
              "outlinewidth": 0,
              "ticks": ""
             }
            }
           }
          ],
          "bar": [
           {
            "error_x": {
             "color": "#2a3f5f"
            },
            "error_y": {
             "color": "#2a3f5f"
            },
            "marker": {
             "line": {
              "color": "#E5ECF6",
              "width": 0.5
             },
             "pattern": {
              "fillmode": "overlay",
              "size": 10,
              "solidity": 0.2
             }
            },
            "type": "bar"
           }
          ],
          "scattergeo": [
           {
            "type": "scattergeo",
            "marker": {
             "colorbar": {
              "outlinewidth": 0,
              "ticks": ""
             }
            }
           }
          ],
          "scatterpolar": [
           {
            "type": "scatterpolar",
            "marker": {
             "colorbar": {
              "outlinewidth": 0,
              "ticks": ""
             }
            }
           }
          ],
          "histogram": [
           {
            "marker": {
             "pattern": {
              "fillmode": "overlay",
              "size": 10,
              "solidity": 0.2
             }
            },
            "type": "histogram"
           }
          ],
          "scattergl": [
           {
            "type": "scattergl",
            "marker": {
             "colorbar": {
              "outlinewidth": 0,
              "ticks": ""
             }
            }
           }
          ],
          "scatter3d": [
           {
            "type": "scatter3d",
            "line": {
             "colorbar": {
              "outlinewidth": 0,
              "ticks": ""
             }
            },
            "marker": {
             "colorbar": {
              "outlinewidth": 0,
              "ticks": ""
             }
            }
           }
          ],
          "scattermapbox": [
           {
            "type": "scattermapbox",
            "marker": {
             "colorbar": {
              "outlinewidth": 0,
              "ticks": ""
             }
            }
           }
          ],
          "scatterternary": [
           {
            "type": "scatterternary",
            "marker": {
             "colorbar": {
              "outlinewidth": 0,
              "ticks": ""
             }
            }
           }
          ],
          "scattercarpet": [
           {
            "type": "scattercarpet",
            "marker": {
             "colorbar": {
              "outlinewidth": 0,
              "ticks": ""
             }
            }
           }
          ],
          "carpet": [
           {
            "aaxis": {
             "endlinecolor": "#2a3f5f",
             "gridcolor": "white",
             "linecolor": "white",
             "minorgridcolor": "white",
             "startlinecolor": "#2a3f5f"
            },
            "baxis": {
             "endlinecolor": "#2a3f5f",
             "gridcolor": "white",
             "linecolor": "white",
             "minorgridcolor": "white",
             "startlinecolor": "#2a3f5f"
            },
            "type": "carpet"
           }
          ],
          "table": [
           {
            "cells": {
             "fill": {
              "color": "#EBF0F8"
             },
             "line": {
              "color": "white"
             }
            },
            "header": {
             "fill": {
              "color": "#C8D4E3"
             },
             "line": {
              "color": "white"
             }
            },
            "type": "table"
           }
          ],
          "barpolar": [
           {
            "marker": {
             "line": {
              "color": "#E5ECF6",
              "width": 0.5
             },
             "pattern": {
              "fillmode": "overlay",
              "size": 10,
              "solidity": 0.2
             }
            },
            "type": "barpolar"
           }
          ],
          "pie": [
           {
            "automargin": true,
            "type": "pie"
           }
          ]
         },
         "layout": {
          "autotypenumbers": "strict",
          "colorway": [
           "#636efa",
           "#EF553B",
           "#00cc96",
           "#ab63fa",
           "#FFA15A",
           "#19d3f3",
           "#FF6692",
           "#B6E880",
           "#FF97FF",
           "#FECB52"
          ],
          "font": {
           "color": "#2a3f5f"
          },
          "hovermode": "closest",
          "hoverlabel": {
           "align": "left"
          },
          "paper_bgcolor": "white",
          "plot_bgcolor": "#E5ECF6",
          "polar": {
           "bgcolor": "#E5ECF6",
           "angularaxis": {
            "gridcolor": "white",
            "linecolor": "white",
            "ticks": ""
           },
           "radialaxis": {
            "gridcolor": "white",
            "linecolor": "white",
            "ticks": ""
           }
          },
          "ternary": {
           "bgcolor": "#E5ECF6",
           "aaxis": {
            "gridcolor": "white",
            "linecolor": "white",
            "ticks": ""
           },
           "baxis": {
            "gridcolor": "white",
            "linecolor": "white",
            "ticks": ""
           },
           "caxis": {
            "gridcolor": "white",
            "linecolor": "white",
            "ticks": ""
           }
          },
          "coloraxis": {
           "colorbar": {
            "outlinewidth": 0,
            "ticks": ""
           }
          },
          "colorscale": {
           "sequential": [
            [
             0.0,
             "#0d0887"
            ],
            [
             0.1111111111111111,
             "#46039f"
            ],
            [
             0.2222222222222222,
             "#7201a8"
            ],
            [
             0.3333333333333333,
             "#9c179e"
            ],
            [
             0.4444444444444444,
             "#bd3786"
            ],
            [
             0.5555555555555556,
             "#d8576b"
            ],
            [
             0.6666666666666666,
             "#ed7953"
            ],
            [
             0.7777777777777778,
             "#fb9f3a"
            ],
            [
             0.8888888888888888,
             "#fdca26"
            ],
            [
             1.0,
             "#f0f921"
            ]
           ],
           "sequentialminus": [
            [
             0.0,
             "#0d0887"
            ],
            [
             0.1111111111111111,
             "#46039f"
            ],
            [
             0.2222222222222222,
             "#7201a8"
            ],
            [
             0.3333333333333333,
             "#9c179e"
            ],
            [
             0.4444444444444444,
             "#bd3786"
            ],
            [
             0.5555555555555556,
             "#d8576b"
            ],
            [
             0.6666666666666666,
             "#ed7953"
            ],
            [
             0.7777777777777778,
             "#fb9f3a"
            ],
            [
             0.8888888888888888,
             "#fdca26"
            ],
            [
             1.0,
             "#f0f921"
            ]
           ],
           "diverging": [
            [
             0,
             "#8e0152"
            ],
            [
             0.1,
             "#c51b7d"
            ],
            [
             0.2,
             "#de77ae"
            ],
            [
             0.3,
             "#f1b6da"
            ],
            [
             0.4,
             "#fde0ef"
            ],
            [
             0.5,
             "#f7f7f7"
            ],
            [
             0.6,
             "#e6f5d0"
            ],
            [
             0.7,
             "#b8e186"
            ],
            [
             0.8,
             "#7fbc41"
            ],
            [
             0.9,
             "#4d9221"
            ],
            [
             1,
             "#276419"
            ]
           ]
          },
          "xaxis": {
           "gridcolor": "white",
           "linecolor": "white",
           "ticks": "",
           "title": {
            "standoff": 15
           },
           "zerolinecolor": "white",
           "automargin": true,
           "zerolinewidth": 2
          },
          "yaxis": {
           "gridcolor": "white",
           "linecolor": "white",
           "ticks": "",
           "title": {
            "standoff": 15
           },
           "zerolinecolor": "white",
           "automargin": true,
           "zerolinewidth": 2
          },
          "scene": {
           "xaxis": {
            "backgroundcolor": "#E5ECF6",
            "gridcolor": "white",
            "linecolor": "white",
            "showbackground": true,
            "ticks": "",
            "zerolinecolor": "white",
            "gridwidth": 2
           },
           "yaxis": {
            "backgroundcolor": "#E5ECF6",
            "gridcolor": "white",
            "linecolor": "white",
            "showbackground": true,
            "ticks": "",
            "zerolinecolor": "white",
            "gridwidth": 2
           },
           "zaxis": {
            "backgroundcolor": "#E5ECF6",
            "gridcolor": "white",
            "linecolor": "white",
            "showbackground": true,
            "ticks": "",
            "zerolinecolor": "white",
            "gridwidth": 2
           }
          },
          "shapedefaults": {
           "line": {
            "color": "#2a3f5f"
           }
          },
          "annotationdefaults": {
           "arrowcolor": "#2a3f5f",
           "arrowhead": 0,
           "arrowwidth": 1
          },
          "geo": {
           "bgcolor": "white",
           "landcolor": "#E5ECF6",
           "subunitcolor": "white",
           "showland": true,
           "showlakes": true,
           "lakecolor": "white"
          },
          "title": {
           "x": 0.05
          },
          "mapbox": {
           "style": "light"
          }
         }
        },
        "yaxis": {
         "type": "log",
         "title": {
          "text": "Cost (USD, nominal)"
         },
         "range": [
          0,
          8
         ]
        },
        "showlegend": false,
        "xaxis": {
         "title": {
          "text": "System"
         }
        },
        "title": {
         "text": "Cost of cloud compute to train frontier ML systems"
        },
        "autosize": false,
        "width": 800,
        "height": 600,
        "font": {
         "size": 14
        },
        "margin": {
         "l": 10,
         "r": 10,
         "t": 40,
         "b": 10
        }
       },
       "config": {
        "plotlyServerURL": "https://plot.ly"
       }
      },
      "text/html": "<div>                            <div id=\"defda2fc-a4f4-4b74-86c7-0e1f8f9f89b7\" class=\"plotly-graph-div\" style=\"height:600px; width:800px;\"></div>            <script type=\"text/javascript\">                require([\"plotly\"], function(Plotly) {                    window.PLOTLYENV=window.PLOTLYENV || {};                                    if (document.getElementById(\"defda2fc-a4f4-4b74-86c7-0e1f8f9f89b7\")) {                    Plotly.newPlot(                        \"defda2fc-a4f4-4b74-86c7-0e1f8f9f89b7\",                        [{\"marker\":{\"color\":\"#034752\"},\"name\":\"RoBERTa Large\",\"x\":[\"RoBERTa Large\"],\"y\":[281395.2],\"type\":\"bar\"},{\"marker\":{\"color\":\"#034752\"},\"name\":\"Megatron-LM (8.3B)\",\"x\":[\"Megatron-LM (8.3B)\"],\"y\":[383400.96],\"type\":\"bar\"},{\"marker\":{\"color\":\"#034752\"},\"name\":\"T5-11B\",\"x\":[\"T5-11B\"],\"y\":[310883.328],\"type\":\"bar\"},{\"marker\":{\"color\":\"#034752\"},\"name\":\"AlphaStar\",\"x\":[\"AlphaStar\"],\"y\":[510935.04],\"type\":\"bar\"},{\"marker\":{\"color\":\"#034752\"},\"name\":\"Meena\",\"x\":[\"Meena\"],\"y\":[928972.8],\"type\":\"bar\"},{\"marker\":{\"color\":\"#034752\"},\"name\":\"GShard (dense)\",\"x\":[\"GShard (dense)\"],\"y\":[1300561.92],\"type\":\"bar\"},{\"marker\":{\"color\":\"#034752\"},\"name\":\"ALIGN\",\"x\":[\"ALIGN\"],\"y\":[224050.176],\"type\":\"bar\"},{\"marker\":{\"color\":\"#034752\"},\"name\":\"Megatron-Turing NLG 530B\",\"x\":[\"Megatron-Turing NLG 530B\"],\"y\":[9037952.0],\"type\":\"bar\"},{\"marker\":{\"color\":\"#034752\"},\"name\":\"Gopher (280B)\",\"x\":[\"Gopher (280B)\"],\"y\":[4748083.2],\"type\":\"bar\"},{\"marker\":{\"color\":\"#034752\"},\"name\":\"GLaM\",\"x\":[\"GLaM\"],\"y\":[2839531.5199999996],\"type\":\"bar\"},{\"marker\":{\"color\":\"#034752\"},\"name\":\"LaMDA\",\"x\":[\"LaMDA\"],\"y\":[1786982.4],\"type\":\"bar\"},{\"marker\":{\"color\":\"#034752\"},\"name\":\"PaLM (540B)\",\"x\":[\"PaLM (540B)\"],\"y\":[17062133.759999998],\"type\":\"bar\"},{\"marker\":{\"color\":\"#034752\"},\"name\":\"OPT-175B\",\"x\":[\"OPT-175B\"],\"y\":[2437632.0],\"type\":\"bar\"},{\"marker\":{\"color\":\"#034752\"},\"name\":\"Minerva (540B)\",\"x\":[\"Minerva (540B)\"],\"y\":[18508922.88],\"type\":\"bar\"},{\"marker\":{\"color\":\"#034752\"},\"name\":\"Falcon 180B\",\"x\":[\"Falcon 180B\"],\"y\":[42467328.0],\"type\":\"bar\"}],                        {\"template\":{\"data\":{\"histogram2dcontour\":[{\"type\":\"histogram2dcontour\",\"colorbar\":{\"outlinewidth\":0,\"ticks\":\"\"},\"colorscale\":[[0.0,\"#0d0887\"],[0.1111111111111111,\"#46039f\"],[0.2222222222222222,\"#7201a8\"],[0.3333333333333333,\"#9c179e\"],[0.4444444444444444,\"#bd3786\"],[0.5555555555555556,\"#d8576b\"],[0.6666666666666666,\"#ed7953\"],[0.7777777777777778,\"#fb9f3a\"],[0.8888888888888888,\"#fdca26\"],[1.0,\"#f0f921\"]]}],\"choropleth\":[{\"type\":\"choropleth\",\"colorbar\":{\"outlinewidth\":0,\"ticks\":\"\"}}],\"histogram2d\":[{\"type\":\"histogram2d\",\"colorbar\":{\"outlinewidth\":0,\"ticks\":\"\"},\"colorscale\":[[0.0,\"#0d0887\"],[0.1111111111111111,\"#46039f\"],[0.2222222222222222,\"#7201a8\"],[0.3333333333333333,\"#9c179e\"],[0.4444444444444444,\"#bd3786\"],[0.5555555555555556,\"#d8576b\"],[0.6666666666666666,\"#ed7953\"],[0.7777777777777778,\"#fb9f3a\"],[0.8888888888888888,\"#fdca26\"],[1.0,\"#f0f921\"]]}],\"heatmap\":[{\"type\":\"heatmap\",\"colorbar\":{\"outlinewidth\":0,\"ticks\":\"\"},\"colorscale\":[[0.0,\"#0d0887\"],[0.1111111111111111,\"#46039f\"],[0.2222222222222222,\"#7201a8\"],[0.3333333333333333,\"#9c179e\"],[0.4444444444444444,\"#bd3786\"],[0.5555555555555556,\"#d8576b\"],[0.6666666666666666,\"#ed7953\"],[0.7777777777777778,\"#fb9f3a\"],[0.8888888888888888,\"#fdca26\"],[1.0,\"#f0f921\"]]}],\"heatmapgl\":[{\"type\":\"heatmapgl\",\"colorbar\":{\"outlinewidth\":0,\"ticks\":\"\"},\"colorscale\":[[0.0,\"#0d0887\"],[0.1111111111111111,\"#46039f\"],[0.2222222222222222,\"#7201a8\"],[0.3333333333333333,\"#9c179e\"],[0.4444444444444444,\"#bd3786\"],[0.5555555555555556,\"#d8576b\"],[0.6666666666666666,\"#ed7953\"],[0.7777777777777778,\"#fb9f3a\"],[0.8888888888888888,\"#fdca26\"],[1.0,\"#f0f921\"]]}],\"contourcarpet\":[{\"type\":\"contourcarpet\",\"colorbar\":{\"outlinewidth\":0,\"ticks\":\"\"}}],\"contour\":[{\"type\":\"contour\",\"colorbar\":{\"outlinewidth\":0,\"ticks\":\"\"},\"colorscale\":[[0.0,\"#0d0887\"],[0.1111111111111111,\"#46039f\"],[0.2222222222222222,\"#7201a8\"],[0.3333333333333333,\"#9c179e\"],[0.4444444444444444,\"#bd3786\"],[0.5555555555555556,\"#d8576b\"],[0.6666666666666666,\"#ed7953\"],[0.7777777777777778,\"#fb9f3a\"],[0.8888888888888888,\"#fdca26\"],[1.0,\"#f0f921\"]]}],\"surface\":[{\"type\":\"surface\",\"colorbar\":{\"outlinewidth\":0,\"ticks\":\"\"},\"colorscale\":[[0.0,\"#0d0887\"],[0.1111111111111111,\"#46039f\"],[0.2222222222222222,\"#7201a8\"],[0.3333333333333333,\"#9c179e\"],[0.4444444444444444,\"#bd3786\"],[0.5555555555555556,\"#d8576b\"],[0.6666666666666666,\"#ed7953\"],[0.7777777777777778,\"#fb9f3a\"],[0.8888888888888888,\"#fdca26\"],[1.0,\"#f0f921\"]]}],\"mesh3d\":[{\"type\":\"mesh3d\",\"colorbar\":{\"outlinewidth\":0,\"ticks\":\"\"}}],\"scatter\":[{\"fillpattern\":{\"fillmode\":\"overlay\",\"size\":10,\"solidity\":0.2},\"type\":\"scatter\"}],\"parcoords\":[{\"type\":\"parcoords\",\"line\":{\"colorbar\":{\"outlinewidth\":0,\"ticks\":\"\"}}}],\"scatterpolargl\":[{\"type\":\"scatterpolargl\",\"marker\":{\"colorbar\":{\"outlinewidth\":0,\"ticks\":\"\"}}}],\"bar\":[{\"error_x\":{\"color\":\"#2a3f5f\"},\"error_y\":{\"color\":\"#2a3f5f\"},\"marker\":{\"line\":{\"color\":\"#E5ECF6\",\"width\":0.5},\"pattern\":{\"fillmode\":\"overlay\",\"size\":10,\"solidity\":0.2}},\"type\":\"bar\"}],\"scattergeo\":[{\"type\":\"scattergeo\",\"marker\":{\"colorbar\":{\"outlinewidth\":0,\"ticks\":\"\"}}}],\"scatterpolar\":[{\"type\":\"scatterpolar\",\"marker\":{\"colorbar\":{\"outlinewidth\":0,\"ticks\":\"\"}}}],\"histogram\":[{\"marker\":{\"pattern\":{\"fillmode\":\"overlay\",\"size\":10,\"solidity\":0.2}},\"type\":\"histogram\"}],\"scattergl\":[{\"type\":\"scattergl\",\"marker\":{\"colorbar\":{\"outlinewidth\":0,\"ticks\":\"\"}}}],\"scatter3d\":[{\"type\":\"scatter3d\",\"line\":{\"colorbar\":{\"outlinewidth\":0,\"ticks\":\"\"}},\"marker\":{\"colorbar\":{\"outlinewidth\":0,\"ticks\":\"\"}}}],\"scattermapbox\":[{\"type\":\"scattermapbox\",\"marker\":{\"colorbar\":{\"outlinewidth\":0,\"ticks\":\"\"}}}],\"scatterternary\":[{\"type\":\"scatterternary\",\"marker\":{\"colorbar\":{\"outlinewidth\":0,\"ticks\":\"\"}}}],\"scattercarpet\":[{\"type\":\"scattercarpet\",\"marker\":{\"colorbar\":{\"outlinewidth\":0,\"ticks\":\"\"}}}],\"carpet\":[{\"aaxis\":{\"endlinecolor\":\"#2a3f5f\",\"gridcolor\":\"white\",\"linecolor\":\"white\",\"minorgridcolor\":\"white\",\"startlinecolor\":\"#2a3f5f\"},\"baxis\":{\"endlinecolor\":\"#2a3f5f\",\"gridcolor\":\"white\",\"linecolor\":\"white\",\"minorgridcolor\":\"white\",\"startlinecolor\":\"#2a3f5f\"},\"type\":\"carpet\"}],\"table\":[{\"cells\":{\"fill\":{\"color\":\"#EBF0F8\"},\"line\":{\"color\":\"white\"}},\"header\":{\"fill\":{\"color\":\"#C8D4E3\"},\"line\":{\"color\":\"white\"}},\"type\":\"table\"}],\"barpolar\":[{\"marker\":{\"line\":{\"color\":\"#E5ECF6\",\"width\":0.5},\"pattern\":{\"fillmode\":\"overlay\",\"size\":10,\"solidity\":0.2}},\"type\":\"barpolar\"}],\"pie\":[{\"automargin\":true,\"type\":\"pie\"}]},\"layout\":{\"autotypenumbers\":\"strict\",\"colorway\":[\"#636efa\",\"#EF553B\",\"#00cc96\",\"#ab63fa\",\"#FFA15A\",\"#19d3f3\",\"#FF6692\",\"#B6E880\",\"#FF97FF\",\"#FECB52\"],\"font\":{\"color\":\"#2a3f5f\"},\"hovermode\":\"closest\",\"hoverlabel\":{\"align\":\"left\"},\"paper_bgcolor\":\"white\",\"plot_bgcolor\":\"#E5ECF6\",\"polar\":{\"bgcolor\":\"#E5ECF6\",\"angularaxis\":{\"gridcolor\":\"white\",\"linecolor\":\"white\",\"ticks\":\"\"},\"radialaxis\":{\"gridcolor\":\"white\",\"linecolor\":\"white\",\"ticks\":\"\"}},\"ternary\":{\"bgcolor\":\"#E5ECF6\",\"aaxis\":{\"gridcolor\":\"white\",\"linecolor\":\"white\",\"ticks\":\"\"},\"baxis\":{\"gridcolor\":\"white\",\"linecolor\":\"white\",\"ticks\":\"\"},\"caxis\":{\"gridcolor\":\"white\",\"linecolor\":\"white\",\"ticks\":\"\"}},\"coloraxis\":{\"colorbar\":{\"outlinewidth\":0,\"ticks\":\"\"}},\"colorscale\":{\"sequential\":[[0.0,\"#0d0887\"],[0.1111111111111111,\"#46039f\"],[0.2222222222222222,\"#7201a8\"],[0.3333333333333333,\"#9c179e\"],[0.4444444444444444,\"#bd3786\"],[0.5555555555555556,\"#d8576b\"],[0.6666666666666666,\"#ed7953\"],[0.7777777777777778,\"#fb9f3a\"],[0.8888888888888888,\"#fdca26\"],[1.0,\"#f0f921\"]],\"sequentialminus\":[[0.0,\"#0d0887\"],[0.1111111111111111,\"#46039f\"],[0.2222222222222222,\"#7201a8\"],[0.3333333333333333,\"#9c179e\"],[0.4444444444444444,\"#bd3786\"],[0.5555555555555556,\"#d8576b\"],[0.6666666666666666,\"#ed7953\"],[0.7777777777777778,\"#fb9f3a\"],[0.8888888888888888,\"#fdca26\"],[1.0,\"#f0f921\"]],\"diverging\":[[0,\"#8e0152\"],[0.1,\"#c51b7d\"],[0.2,\"#de77ae\"],[0.3,\"#f1b6da\"],[0.4,\"#fde0ef\"],[0.5,\"#f7f7f7\"],[0.6,\"#e6f5d0\"],[0.7,\"#b8e186\"],[0.8,\"#7fbc41\"],[0.9,\"#4d9221\"],[1,\"#276419\"]]},\"xaxis\":{\"gridcolor\":\"white\",\"linecolor\":\"white\",\"ticks\":\"\",\"title\":{\"standoff\":15},\"zerolinecolor\":\"white\",\"automargin\":true,\"zerolinewidth\":2},\"yaxis\":{\"gridcolor\":\"white\",\"linecolor\":\"white\",\"ticks\":\"\",\"title\":{\"standoff\":15},\"zerolinecolor\":\"white\",\"automargin\":true,\"zerolinewidth\":2},\"scene\":{\"xaxis\":{\"backgroundcolor\":\"#E5ECF6\",\"gridcolor\":\"white\",\"linecolor\":\"white\",\"showbackground\":true,\"ticks\":\"\",\"zerolinecolor\":\"white\",\"gridwidth\":2},\"yaxis\":{\"backgroundcolor\":\"#E5ECF6\",\"gridcolor\":\"white\",\"linecolor\":\"white\",\"showbackground\":true,\"ticks\":\"\",\"zerolinecolor\":\"white\",\"gridwidth\":2},\"zaxis\":{\"backgroundcolor\":\"#E5ECF6\",\"gridcolor\":\"white\",\"linecolor\":\"white\",\"showbackground\":true,\"ticks\":\"\",\"zerolinecolor\":\"white\",\"gridwidth\":2}},\"shapedefaults\":{\"line\":{\"color\":\"#2a3f5f\"}},\"annotationdefaults\":{\"arrowcolor\":\"#2a3f5f\",\"arrowhead\":0,\"arrowwidth\":1},\"geo\":{\"bgcolor\":\"white\",\"landcolor\":\"#E5ECF6\",\"subunitcolor\":\"white\",\"showland\":true,\"showlakes\":true,\"lakecolor\":\"white\"},\"title\":{\"x\":0.05},\"mapbox\":{\"style\":\"light\"}}},\"yaxis\":{\"type\":\"log\",\"title\":{\"text\":\"Cost (USD, nominal)\"},\"range\":[0,8]},\"showlegend\":false,\"xaxis\":{\"title\":{\"text\":\"System\"}},\"title\":{\"text\":\"Cost of cloud compute to train frontier ML systems\"},\"autosize\":false,\"width\":800,\"height\":600,\"font\":{\"size\":14},\"margin\":{\"l\":10,\"r\":10,\"t\":40,\"b\":10}},                        {\"responsive\": true}                    ).then(function(){\n                            \nvar gd = document.getElementById('defda2fc-a4f4-4b74-86c7-0e1f8f9f89b7');\nvar x = new MutationObserver(function (mutations, observer) {{\n        var display = window.getComputedStyle(gd).display;\n        if (!display || display === 'none') {{\n            console.log([gd, 'removed!']);\n            Plotly.purge(gd);\n            observer.disconnect();\n        }}\n}});\n\n// Listen for the removal of the full notebook cells\nvar notebookContainer = gd.closest('#notebook-container');\nif (notebookContainer) {{\n    x.observe(notebookContainer, {childList: true});\n}}\n\n// Listen for the clearing of the current output cell\nvar outputEl = gd.closest('.output');\nif (outputEl) {{\n    x.observe(outputEl, {childList: true});\n}}\n\n                        })                };                });            </script>        </div>"
     },
     "metadata": {},
     "output_type": "display_data"
    }
   ],
   "source": [
    "import plotly.graph_objects as go\n",
    "\n",
    "fig = go.Figure()\n",
    "for i, row in frontier_pcd_df.iterrows():\n",
    "    system = row['System']\n",
    "    cost = system_to_cost.get(system)\n",
    "    if cost is None:\n",
    "        continue\n",
    "    publication_date = row['Publication date']\n",
    "\n",
    "    fig.add_trace(go.Bar(\n",
    "        x=[system],\n",
    "        y=[cost],\n",
    "        name=system,\n",
    "        # nice blue color\n",
    "        marker_color='#034752',\n",
    "        # text=system,\n",
    "        # textposition='auto',\n",
    "    ))\n",
    "\n",
    "# log y axis\n",
    "fig.update_yaxes(type=\"log\")\n",
    "# no legend\n",
    "fig.update_layout(showlegend=False)\n",
    "\n",
    "# axis labels\n",
    "fig.update_xaxes(title_text='System')\n",
    "fig.update_yaxes(title_text='Cost (USD, nominal)')\n",
    "\n",
    "# title\n",
    "fig.update_layout(title_text='Cost of cloud compute to train frontier ML systems')\n",
    "\n",
    "# update size\n",
    "fig.update_layout(\n",
    "    autosize=False,\n",
    "    width=800,\n",
    "    height=600,\n",
    ")\n",
    "\n",
    "# font size\n",
    "fig.update_layout(\n",
    "    font=dict(\n",
    "        size=14,\n",
    "    )\n",
    ")\n",
    "\n",
    "# axis limits\n",
    "fig.update_yaxes(range=[0, 8])\n",
    "\n",
    "# margins\n",
    "fig.update_layout(margin=dict(l=10, r=10, t=40, b=10))\n",
    "\n",
    "fig.show()\n"
   ]
  },
  {
   "cell_type": "markdown",
   "source": [
    "## kNN imputation"
   ],
   "metadata": {
    "collapsed": false
   }
  },
  {
   "cell_type": "code",
   "execution_count": 42,
   "outputs": [],
   "source": [
    "# drop unneeded columns from frontier_pcd_df\n",
    "irrelevant_columns = ['Notability criteria', 'Notability criteria notes', 'Link', 'Citations', 'Parameters notes',\n",
    "                      'Training compute notes', 'Training dataset notes', 'Dataset size notes',\n",
    "                      'Inference compute notes', 'Approach', 'Confidence', 'Last modified', 'Created By', 'Benchmark data',\n",
    "                      'Exclude', 'Authors by country', 'Training cost trends', 'Abstract', 'Compute cost notes',\n",
    "                      'Training time notes', 'Authors', 'Name of the hardware (from Training hardware)',\n",
    "                      'Training time (chip hours)', 'Training compute cost (2020 USD)', 'Organization categorization',\n",
    "                      'Training dataset', 'Inference compute (FLOP)', 'Compute sponsor categorization',\n",
    "                      'Finetune compute notes']\n",
    "frontier_pcd_df = frontier_pcd_df.drop(columns=irrelevant_columns)\n",
    "\n",
    "# fill column 'Training cloud compute vendor' using org_to_cloud_vendor dictionary\n",
    "org_to_cloud_vendor = {\n",
    "    'Google': 'Google Cloud',\n",
    "    'DeepMind': 'Google Cloud',\n",
    "    'Google DeepMind': 'Google Cloud',\n",
    "    'Google Brain': 'Google Cloud',\n",
    "    'Microsoft': 'Microsoft Azure',\n",
    "    'OpenAI': 'Microsoft Azure',\n",
    "}\n",
    "frontier_pcd_df['Training cloud compute vendor'] = frontier_pcd_df['Organization (from Organization)'].map(org_to_cloud_vendor)\n",
    "frontier_pcd_df['Training cloud compute vendor'] = frontier_pcd_df['Training cloud compute vendor'].fillna('Amazon Web Services')"
   ],
   "metadata": {
    "collapsed": false,
    "ExecuteTime": {
     "end_time": "2024-01-31T15:08:30.110436500Z",
     "start_time": "2024-01-31T15:08:28.636174600Z"
    }
   }
  },
  {
   "cell_type": "code",
   "execution_count": 43,
   "outputs": [
    {
     "data": {
      "text/plain": "               System    Domain         Task Open-source  \\\n265       AlphaGo Fan     Games           Go         NaN   \n275       AlphaGo Lee     Games           Go         NaN   \n306              GNMT  Language  Translation         NaN   \n317  NASv3 (CIFAR-10)    Vision          NaN         NaN   \n337    AlphaGo Master     Games           Go         NaN   \n\n                                             Reference Publication date  \\\n265  Mastering the game of Go with deep neural netw...       2015-10-01   \n275  Mastering the game of Go with deep neural netw...       2016-01-27   \n306  Google's Neural Machine Translation System: Br...       2016-09-26   \n317  Neural Architecture Search with Reinforcement ...       2016-11-05   \n337   Mastering the game of Go without human knowledge       2017-01-01   \n\n        Organization   Parameters  Training compute (FLOP)  \\\n265  Google DeepMind    8209984.0             3.800000e+20   \n275         DeepMind          NaN             1.900000e+21   \n306           Google  278000000.0             6.900000e+21   \n317     Google Brain   37400000.0             2.200000e+21   \n337         DeepMind          NaN             1.500000e+23   \n\n     Training dataset size (datapoints)  ...  Training time (hours)  \\\n265                                 NaN  ...                    NaN   \n275                          29400000.0  ...                    NaN   \n306                         360000000.0  ...                 4320.0   \n317                                 NaN  ...                    NaN   \n337                                 NaN  ...                    NaN   \n\n     Training hardware                        Country (from Organization)  \\\n265                NaN                                      Multinational   \n275                NaN  United Kingdom of Great Britain and Northern I...   \n306   NVIDIA Tesla K80                                      Multinational   \n317                NaN                                      Multinational   \n337      Google TPU v1  United Kingdom of Great Britain and Northern I...   \n\n    Organization (from Organization) Base model Finetune compute (FLOP)  \\\n265                  Google DeepMind        NaN                     NaN   \n275                         DeepMind        NaN                     NaN   \n306                           Google        NaN                     NaN   \n317                     Google Brain        NaN                     NaN   \n337                         DeepMind        NaN                     NaN   \n\n    Hardware quantity  Hardware utilization  Training cloud compute vendor  \\\n265               NaN                   NaN                   Google Cloud   \n275               NaN                   NaN                   Google Cloud   \n306              96.0                   NaN                   Google Cloud   \n317             800.0                   NaN                   Google Cloud   \n337               NaN                   NaN                   Google Cloud   \n\n    Training data center  \n265                  NaN  \n275                  NaN  \n306                  NaN  \n317                  NaN  \n337                  NaN  \n\n[5 rows x 21 columns]",
      "text/html": "<div>\n<style scoped>\n    .dataframe tbody tr th:only-of-type {\n        vertical-align: middle;\n    }\n\n    .dataframe tbody tr th {\n        vertical-align: top;\n    }\n\n    .dataframe thead th {\n        text-align: right;\n    }\n</style>\n<table border=\"1\" class=\"dataframe\">\n  <thead>\n    <tr style=\"text-align: right;\">\n      <th></th>\n      <th>System</th>\n      <th>Domain</th>\n      <th>Task</th>\n      <th>Open-source</th>\n      <th>Reference</th>\n      <th>Publication date</th>\n      <th>Organization</th>\n      <th>Parameters</th>\n      <th>Training compute (FLOP)</th>\n      <th>Training dataset size (datapoints)</th>\n      <th>...</th>\n      <th>Training time (hours)</th>\n      <th>Training hardware</th>\n      <th>Country (from Organization)</th>\n      <th>Organization (from Organization)</th>\n      <th>Base model</th>\n      <th>Finetune compute (FLOP)</th>\n      <th>Hardware quantity</th>\n      <th>Hardware utilization</th>\n      <th>Training cloud compute vendor</th>\n      <th>Training data center</th>\n    </tr>\n  </thead>\n  <tbody>\n    <tr>\n      <th>265</th>\n      <td>AlphaGo Fan</td>\n      <td>Games</td>\n      <td>Go</td>\n      <td>NaN</td>\n      <td>Mastering the game of Go with deep neural netw...</td>\n      <td>2015-10-01</td>\n      <td>Google DeepMind</td>\n      <td>8209984.0</td>\n      <td>3.800000e+20</td>\n      <td>NaN</td>\n      <td>...</td>\n      <td>NaN</td>\n      <td>NaN</td>\n      <td>Multinational</td>\n      <td>Google DeepMind</td>\n      <td>NaN</td>\n      <td>NaN</td>\n      <td>NaN</td>\n      <td>NaN</td>\n      <td>Google Cloud</td>\n      <td>NaN</td>\n    </tr>\n    <tr>\n      <th>275</th>\n      <td>AlphaGo Lee</td>\n      <td>Games</td>\n      <td>Go</td>\n      <td>NaN</td>\n      <td>Mastering the game of Go with deep neural netw...</td>\n      <td>2016-01-27</td>\n      <td>DeepMind</td>\n      <td>NaN</td>\n      <td>1.900000e+21</td>\n      <td>29400000.0</td>\n      <td>...</td>\n      <td>NaN</td>\n      <td>NaN</td>\n      <td>United Kingdom of Great Britain and Northern I...</td>\n      <td>DeepMind</td>\n      <td>NaN</td>\n      <td>NaN</td>\n      <td>NaN</td>\n      <td>NaN</td>\n      <td>Google Cloud</td>\n      <td>NaN</td>\n    </tr>\n    <tr>\n      <th>306</th>\n      <td>GNMT</td>\n      <td>Language</td>\n      <td>Translation</td>\n      <td>NaN</td>\n      <td>Google's Neural Machine Translation System: Br...</td>\n      <td>2016-09-26</td>\n      <td>Google</td>\n      <td>278000000.0</td>\n      <td>6.900000e+21</td>\n      <td>360000000.0</td>\n      <td>...</td>\n      <td>4320.0</td>\n      <td>NVIDIA Tesla K80</td>\n      <td>Multinational</td>\n      <td>Google</td>\n      <td>NaN</td>\n      <td>NaN</td>\n      <td>96.0</td>\n      <td>NaN</td>\n      <td>Google Cloud</td>\n      <td>NaN</td>\n    </tr>\n    <tr>\n      <th>317</th>\n      <td>NASv3 (CIFAR-10)</td>\n      <td>Vision</td>\n      <td>NaN</td>\n      <td>NaN</td>\n      <td>Neural Architecture Search with Reinforcement ...</td>\n      <td>2016-11-05</td>\n      <td>Google Brain</td>\n      <td>37400000.0</td>\n      <td>2.200000e+21</td>\n      <td>NaN</td>\n      <td>...</td>\n      <td>NaN</td>\n      <td>NaN</td>\n      <td>Multinational</td>\n      <td>Google Brain</td>\n      <td>NaN</td>\n      <td>NaN</td>\n      <td>800.0</td>\n      <td>NaN</td>\n      <td>Google Cloud</td>\n      <td>NaN</td>\n    </tr>\n    <tr>\n      <th>337</th>\n      <td>AlphaGo Master</td>\n      <td>Games</td>\n      <td>Go</td>\n      <td>NaN</td>\n      <td>Mastering the game of Go without human knowledge</td>\n      <td>2017-01-01</td>\n      <td>DeepMind</td>\n      <td>NaN</td>\n      <td>1.500000e+23</td>\n      <td>NaN</td>\n      <td>...</td>\n      <td>NaN</td>\n      <td>Google TPU v1</td>\n      <td>United Kingdom of Great Britain and Northern I...</td>\n      <td>DeepMind</td>\n      <td>NaN</td>\n      <td>NaN</td>\n      <td>NaN</td>\n      <td>NaN</td>\n      <td>Google Cloud</td>\n      <td>NaN</td>\n    </tr>\n  </tbody>\n</table>\n<p>5 rows × 21 columns</p>\n</div>"
     },
     "execution_count": 43,
     "metadata": {},
     "output_type": "execute_result"
    }
   ],
   "source": [
    "frontier_pcd_df.head()"
   ],
   "metadata": {
    "collapsed": false,
    "ExecuteTime": {
     "end_time": "2024-01-31T15:08:30.110436500Z",
     "start_time": "2024-01-31T15:08:28.636174600Z"
    }
   }
  },
  {
   "cell_type": "code",
   "execution_count": 44,
   "outputs": [
    {
     "data": {
      "text/plain": "['System',\n 'Domain',\n 'Task',\n 'Open-source',\n 'Reference',\n 'Publication date',\n 'Organization',\n 'Parameters',\n 'Training compute (FLOP)',\n 'Training dataset size (datapoints)',\n 'Epochs',\n 'Training time (hours)',\n 'Training hardware',\n 'Country (from Organization)',\n 'Organization (from Organization)',\n 'Base model',\n 'Finetune compute (FLOP)',\n 'Hardware quantity',\n 'Hardware utilization',\n 'Training cloud compute vendor',\n 'Training data center']"
     },
     "execution_count": 44,
     "metadata": {},
     "output_type": "execute_result"
    }
   ],
   "source": [
    "frontier_pcd_df.columns.tolist()"
   ],
   "metadata": {
    "collapsed": false,
    "ExecuteTime": {
     "end_time": "2024-01-31T15:08:30.110436500Z",
     "start_time": "2024-01-31T15:08:28.683468500Z"
    }
   }
  },
  {
   "cell_type": "code",
   "execution_count": 45,
   "outputs": [],
   "source": [
    "# Import KNNImputer from sklearn\n",
    "from sklearn.impute import KNNImputer"
   ],
   "metadata": {
    "collapsed": false,
    "ExecuteTime": {
     "end_time": "2024-01-31T15:08:31.691034300Z",
     "start_time": "2024-01-31T15:08:28.873074200Z"
    }
   }
  },
  {
   "cell_type": "code",
   "execution_count": 46,
   "outputs": [],
   "source": [
    "# instantiate the imputer\n",
    "imputer = KNNImputer(n_neighbors=5)"
   ],
   "metadata": {
    "collapsed": false,
    "ExecuteTime": {
     "end_time": "2024-01-31T15:08:31.707546900Z",
     "start_time": "2024-01-31T15:08:31.675336600Z"
    }
   }
  },
  {
   "cell_type": "code",
   "execution_count": 47,
   "outputs": [],
   "source": [
    "# convert datetime to float\n",
    "frontier_pcd_df['Publication date'] = frontier_pcd_df['Publication date'].dt.year + (frontier_pcd_df['Publication date'].dt.month-1) / 12 + (frontier_pcd_df['Publication date'].dt.day-1) / 365\n",
    "\n",
    "# set the System column as the index\n",
    "frontier_pcd_df = frontier_pcd_df.set_index('System')\n",
    "\n",
    "# Identify categorical columns\n",
    "categorical_cols = frontier_pcd_df.select_dtypes(include=['object', 'category']).columns.tolist()\n",
    "\n",
    "# one-hot encode all categorical columns\n",
    "one_hot_pcd_df = pd.get_dummies(frontier_pcd_df, columns=categorical_cols)"
   ],
   "metadata": {
    "collapsed": false,
    "ExecuteTime": {
     "end_time": "2024-01-31T15:08:31.849067Z",
     "start_time": "2024-01-31T15:08:31.691034300Z"
    }
   }
  },
  {
   "cell_type": "code",
   "execution_count": 48,
   "outputs": [],
   "source": [
    "# impute the missing values in Training hardware, hardware quantity, Training time (hours)\n",
    "imputed = imputer.fit_transform(one_hot_pcd_df)"
   ],
   "metadata": {
    "collapsed": false,
    "ExecuteTime": {
     "end_time": "2024-01-31T15:08:32.036706700Z",
     "start_time": "2024-01-31T15:08:31.849067Z"
    }
   }
  },
  {
   "cell_type": "code",
   "execution_count": 49,
   "outputs": [],
   "source": [
    "# convert the numpy array back to a dataframe\n",
    "imputed_pcd_df = pd.DataFrame(imputed, columns=one_hot_pcd_df.columns)"
   ],
   "metadata": {
    "collapsed": false,
    "ExecuteTime": {
     "end_time": "2024-01-31T15:08:32.051113300Z",
     "start_time": "2024-01-31T15:08:31.984414200Z"
    }
   }
  },
  {
   "cell_type": "code",
   "execution_count": 50,
   "outputs": [],
   "source": [
    "# convert Training hardware back to categorical\n",
    "imputed_pcd_df['Training hardware'] = ''\n",
    "for col in imputed_pcd_df.columns:\n",
    "    if col.startswith('Training hardware_'):\n",
    "        training_hardware = col.split('Training hardware_')[1]\n",
    "        imputed_pcd_df['Training hardware'] = imputed_pcd_df['Training hardware'] + pd.Series([int(_) * training_hardware for _ in imputed_pcd_df[col]])\n",
    "\n",
    "# replace all '' with np.nan\n",
    "imputed_pcd_df['Training hardware'] = imputed_pcd_df['Training hardware'].replace('', np.nan)"
   ],
   "metadata": {
    "collapsed": false,
    "ExecuteTime": {
     "end_time": "2024-01-31T15:08:32.108579400Z",
     "start_time": "2024-01-31T15:08:32.043543800Z"
    }
   }
  },
  {
   "cell_type": "code",
   "execution_count": 51,
   "outputs": [],
   "source": [
    "def impute_training_hardware(dataframe, n=5):\n",
    "    # use KNeighborsClassifier to impute the missing values in Training hardware\n",
    "    from sklearn.neighbors import KNeighborsClassifier\n",
    "    from sklearn.preprocessing import LabelEncoder\n",
    "\n",
    "    # Separate the target and features\n",
    "    target_col = 'Training hardware'\n",
    "    features = dataframe.drop(target_col, axis=1)\n",
    "    target = dataframe[target_col]\n",
    "\n",
    "    # Encode the target column\n",
    "    label_encoder = LabelEncoder()\n",
    "    target_filled = target.fillna('Unknown')  # Temporarily fill missing values\n",
    "    target_encoded = label_encoder.fit_transform(target_filled)\n",
    "\n",
    "    # Train a KNeighborsClassifier\n",
    "    knc = KNeighborsClassifier(n_neighbors=n)\n",
    "    knc.fit(features, target_encoded)\n",
    "\n",
    "    # Predict the missing values\n",
    "    missing_values = features[target.isna()]\n",
    "    predicted = knc.predict(missing_values)\n",
    "\n",
    "    # Decode the predictions\n",
    "    predicted_labels = label_encoder.inverse_transform(predicted)\n",
    "\n",
    "    # Replace the missing values with the predictions\n",
    "    dataframe.loc[target.isna(), target_col] = predicted_labels\n",
    "\n",
    "    # replace all 'Unknown' with np.nan\n",
    "    dataframe['Training hardware'] = dataframe['Training hardware'].replace('Unknown', np.nan)"
   ],
   "metadata": {
    "collapsed": false,
    "ExecuteTime": {
     "end_time": "2024-01-31T15:08:32.108579400Z",
     "start_time": "2024-01-31T15:08:32.076404Z"
    }
   }
  },
  {
   "cell_type": "code",
   "execution_count": 52,
   "outputs": [
    {
      "cell_type": "markdown",
      "metadata": {},
      "source": [
        "## Hardware data"
      ]
    },
    {
      "cell_type": "code",
      "execution_count": 11,
      "metadata": {},
      "outputs": [
        {
          "data": {
            "text/html": [
              "<div>\n",
              "<style scoped>\n",
              "    .dataframe tbody tr th:only-of-type {\n",
              "        vertical-align: middle;\n",
              "    }\n",
              "\n",
              "    .dataframe tbody tr th {\n",
              "        vertical-align: top;\n",
              "    }\n",
              "\n",
              "    .dataframe thead th {\n",
              "        text-align: right;\n",
              "    }\n",
              "</style>\n",
              "<table border=\"1\" class=\"dataframe\">\n",
              "  <thead>\n",
              "    <tr style=\"text-align: right;\">\n",
              "      <th></th>\n",
              "      <th>Name of the hardware</th>\n",
              "      <th>Manufacturer</th>\n",
              "      <th>Type</th>\n",
              "      <th>Release date</th>\n",
              "      <th>Release price (USD)</th>\n",
              "      <th>FP64 (double precision) Performance (FLOP/s)</th>\n",
              "      <th>FP32 (single precision) Performance (FLOP/s)</th>\n",
              "      <th>FP16 (half precision) Performance (FLOP/s)</th>\n",
              "      <th>Tensor Float 32 (TF32)</th>\n",
              "      <th>FP16 Tensor Core</th>\n",
              "      <th>...</th>\n",
              "      <th>Foundry</th>\n",
              "      <th>Number of transistors in million</th>\n",
              "      <th>Prominent Years of usage</th>\n",
              "      <th>Google Cloud pricing ($ per hour) data from 17 dec 2022</th>\n",
              "      <th>Link to datasheet</th>\n",
              "      <th>Source for the Price</th>\n",
              "      <th>ALL ML SYSTEMS</th>\n",
              "      <th>All ML Systems copy</th>\n",
              "      <th>All ML Systems copy.1</th>\n",
              "      <th>Hardware prices</th>\n",
              "    </tr>\n",
              "  </thead>\n",
              "  <tbody>\n",
              "    <tr>\n",
              "      <th>0</th>\n",
              "      <td>3dfx Spectre 1000</td>\n",
              "      <td>Other</td>\n",
              "      <td>GPU</td>\n",
              "      <td>NaN</td>\n",
              "      <td>NaN</td>\n",
              "      <td>NaN</td>\n",
              "      <td>NaN</td>\n",
              "      <td>NaN</td>\n",
              "      <td>NaN</td>\n",
              "      <td>NaN</td>\n",
              "      <td>...</td>\n",
              "      <td>TSMC</td>\n",
              "      <td>30.0</td>\n",
              "      <td>NaN</td>\n",
              "      <td>NaN</td>\n",
              "      <td>NaN</td>\n",
              "      <td>NaN</td>\n",
              "      <td>NaN</td>\n",
              "      <td>NaN</td>\n",
              "      <td>NaN</td>\n",
              "      <td>NaN</td>\n",
              "    </tr>\n",
              "    <tr>\n",
              "      <th>1</th>\n",
              "      <td>3dfx Spectre 2000</td>\n",
              "      <td>Other</td>\n",
              "      <td>GPU</td>\n",
              "      <td>NaN</td>\n",
              "      <td>NaN</td>\n",
              "      <td>NaN</td>\n",
              "      <td>NaN</td>\n",
              "      <td>NaN</td>\n",
              "      <td>NaN</td>\n",
              "      <td>NaN</td>\n",
              "      <td>...</td>\n",
              "      <td>TSMC</td>\n",
              "      <td>30.0</td>\n",
              "      <td>NaN</td>\n",
              "      <td>NaN</td>\n",
              "      <td>NaN</td>\n",
              "      <td>NaN</td>\n",
              "      <td>NaN</td>\n",
              "      <td>NaN</td>\n",
              "      <td>NaN</td>\n",
              "      <td>NaN</td>\n",
              "    </tr>\n",
              "    <tr>\n",
              "      <th>2</th>\n",
              "      <td>3dfx Spectre 3000</td>\n",
              "      <td>Other</td>\n",
              "      <td>GPU</td>\n",
              "      <td>NaN</td>\n",
              "      <td>NaN</td>\n",
              "      <td>NaN</td>\n",
              "      <td>NaN</td>\n",
              "      <td>NaN</td>\n",
              "      <td>NaN</td>\n",
              "      <td>NaN</td>\n",
              "      <td>...</td>\n",
              "      <td>TSMC</td>\n",
              "      <td>30.0</td>\n",
              "      <td>NaN</td>\n",
              "      <td>NaN</td>\n",
              "      <td>NaN</td>\n",
              "      <td>NaN</td>\n",
              "      <td>NaN</td>\n",
              "      <td>NaN</td>\n",
              "      <td>NaN</td>\n",
              "      <td>NaN</td>\n",
              "    </tr>\n",
              "    <tr>\n",
              "      <th>3</th>\n",
              "      <td>3dfx Voodoo4 4000 AGP</td>\n",
              "      <td>Other</td>\n",
              "      <td>GPU</td>\n",
              "      <td>NaN</td>\n",
              "      <td>NaN</td>\n",
              "      <td>NaN</td>\n",
              "      <td>NaN</td>\n",
              "      <td>NaN</td>\n",
              "      <td>NaN</td>\n",
              "      <td>NaN</td>\n",
              "      <td>...</td>\n",
              "      <td>TSMC</td>\n",
              "      <td>14.0</td>\n",
              "      <td>NaN</td>\n",
              "      <td>NaN</td>\n",
              "      <td>NaN</td>\n",
              "      <td>NaN</td>\n",
              "      <td>NaN</td>\n",
              "      <td>NaN</td>\n",
              "      <td>NaN</td>\n",
              "      <td>NaN</td>\n",
              "    </tr>\n",
              "    <tr>\n",
              "      <th>4</th>\n",
              "      <td>3dfx Voodoo4 4500 AGP</td>\n",
              "      <td>Other</td>\n",
              "      <td>GPU</td>\n",
              "      <td>2000-10-13</td>\n",
              "      <td>NaN</td>\n",
              "      <td>NaN</td>\n",
              "      <td>NaN</td>\n",
              "      <td>NaN</td>\n",
              "      <td>NaN</td>\n",
              "      <td>NaN</td>\n",
              "      <td>...</td>\n",
              "      <td>TSMC</td>\n",
              "      <td>14.0</td>\n",
              "      <td>NaN</td>\n",
              "      <td>NaN</td>\n",
              "      <td>NaN</td>\n",
              "      <td>NaN</td>\n",
              "      <td>NaN</td>\n",
              "      <td>NaN</td>\n",
              "      <td>NaN</td>\n",
              "      <td>NaN</td>\n",
              "    </tr>\n",
              "  </tbody>\n",
              "</table>\n",
              "<p>5 rows × 38 columns</p>\n",
              "</div>"
            ],
            "text/plain": [
              "    Name of the hardware Manufacturer Type Release date Release price (USD)  \\\n",
              "0      3dfx Spectre 1000        Other  GPU          NaN                 NaN   \n",
              "1      3dfx Spectre 2000        Other  GPU          NaN                 NaN   \n",
              "2      3dfx Spectre 3000        Other  GPU          NaN                 NaN   \n",
              "3  3dfx Voodoo4 4000 AGP        Other  GPU          NaN                 NaN   \n",
              "4  3dfx Voodoo4 4500 AGP        Other  GPU   2000-10-13                 NaN   \n",
              "\n",
              "   FP64 (double precision) Performance (FLOP/s)  \\\n",
              "0                                           NaN   \n",
              "1                                           NaN   \n",
              "2                                           NaN   \n",
              "3                                           NaN   \n",
              "4                                           NaN   \n",
              "\n",
              "   FP32 (single precision) Performance (FLOP/s)  \\\n",
              "0                                           NaN   \n",
              "1                                           NaN   \n",
              "2                                           NaN   \n",
              "3                                           NaN   \n",
              "4                                           NaN   \n",
              "\n",
              "   FP16 (half precision) Performance (FLOP/s)  Tensor Float 32 (TF32)  \\\n",
              "0                                         NaN                     NaN   \n",
              "1                                         NaN                     NaN   \n",
              "2                                         NaN                     NaN   \n",
              "3                                         NaN                     NaN   \n",
              "4                                         NaN                     NaN   \n",
              "\n",
              "   FP16 Tensor Core  ...  Foundry  Number of transistors in million  \\\n",
              "0               NaN  ...     TSMC                              30.0   \n",
              "1               NaN  ...     TSMC                              30.0   \n",
              "2               NaN  ...     TSMC                              30.0   \n",
              "3               NaN  ...     TSMC                              14.0   \n",
              "4               NaN  ...     TSMC                              14.0   \n",
              "\n",
              "   Prominent Years of usage  \\\n",
              "0                       NaN   \n",
              "1                       NaN   \n",
              "2                       NaN   \n",
              "3                       NaN   \n",
              "4                       NaN   \n",
              "\n",
              "   Google Cloud pricing ($ per hour) data from 17 dec 2022  Link to datasheet  \\\n",
              "0                                                NaN                      NaN   \n",
              "1                                                NaN                      NaN   \n",
              "2                                                NaN                      NaN   \n",
              "3                                                NaN                      NaN   \n",
              "4                                                NaN                      NaN   \n",
              "\n",
              "   Source for the Price  ALL ML SYSTEMS  All ML Systems copy  \\\n",
              "0                   NaN             NaN                  NaN   \n",
              "1                   NaN             NaN                  NaN   \n",
              "2                   NaN             NaN                  NaN   \n",
              "3                   NaN             NaN                  NaN   \n",
              "4                   NaN             NaN                  NaN   \n",
              "\n",
              "   All ML Systems copy.1  Hardware prices  \n",
              "0                    NaN              NaN  \n",
              "1                    NaN              NaN  \n",
              "2                    NaN              NaN  \n",
              "3                    NaN              NaN  \n",
              "4                    NaN              NaN  \n",
              "\n",
              "[5 rows x 38 columns]"
            ]
          },
          "execution_count": 11,
          "metadata": {},
          "output_type": "execute_result"
        }
      ],
      "source": [
        "hardware_df = pd.read_csv('data/Chip dataset-Grid view.csv')\n",
        "hardware_df.head()"
      ]
    },
    {
      "cell_type": "markdown",
      "metadata": {},
      "source": [
        "# Imputation"
      ]
    },
    {
     "name": "stderr",
     "output_type": "stream",
     "text": [
      "C:\\ProgramData\\Anaconda3\\lib\\site-packages\\sklearn\\neighbors\\_classification.py:228: FutureWarning:\n",
      "\n",
      "Unlike other reduction functions (e.g. `skew`, `kurtosis`), the default behavior of `mode` typically preserves the axis it acts along. In SciPy 1.11.0, this behavior will change: the default value of `keepdims` will become False, the `axis` over which the statistic is taken will be eliminated, and the value None will no longer be accepted. Set `keepdims` to True or False to avoid this warning.\n",
      "\n",
      "C:\\ProgramData\\Anaconda3\\lib\\site-packages\\sklearn\\neighbors\\_classification.py:228: FutureWarning:\n",
      "\n",
      "Unlike other reduction functions (e.g. `skew`, `kurtosis`), the default behavior of `mode` typically preserves the axis it acts along. In SciPy 1.11.0, this behavior will change: the default value of `keepdims` will become False, the `axis` over which the statistic is taken will be eliminated, and the value None will no longer be accepted. Set `keepdims` to True or False to avoid this warning.\n",
      "\n",
      "C:\\ProgramData\\Anaconda3\\lib\\site-packages\\sklearn\\neighbors\\_classification.py:228: FutureWarning:\n",
      "\n",
      "Unlike other reduction functions (e.g. `skew`, `kurtosis`), the default behavior of `mode` typically preserves the axis it acts along. In SciPy 1.11.0, this behavior will change: the default value of `keepdims` will become False, the `axis` over which the statistic is taken will be eliminated, and the value None will no longer be accepted. Set `keepdims` to True or False to avoid this warning.\n",
      "\n",
      "C:\\ProgramData\\Anaconda3\\lib\\site-packages\\sklearn\\neighbors\\_classification.py:228: FutureWarning:\n",
      "\n",
      "Unlike other reduction functions (e.g. `skew`, `kurtosis`), the default behavior of `mode` typically preserves the axis it acts along. In SciPy 1.11.0, this behavior will change: the default value of `keepdims` will become False, the `axis` over which the statistic is taken will be eliminated, and the value None will no longer be accepted. Set `keepdims` to True or False to avoid this warning.\n",
      "\n"
     ]
    }
   ],
   "source": [
    "missing_values = imputed_pcd_df['Training hardware'].isna().sum()\n",
    "N = 5\n",
    "while missing_values > 0:\n",
    "    impute_training_hardware(imputed_pcd_df, n=N)\n",
    "    print(imputed_pcd_df['Training hardware'].isna().sum())\n",
    "    if imputed_pcd_df['Training hardware'].isna().sum() == missing_values:\n",
    "        N += 5\n",
    "    else:\n",
    "        missing_values = imputed_pcd_df['Training hardware'].isna().sum()"
   ],
   "metadata": {
    "collapsed": false,
    "ExecuteTime": {
     "end_time": "2024-01-31T15:08:32.187909600Z",
     "start_time": "2024-01-31T15:08:32.093075200Z"
    }
   }
  },
  {
   "cell_type": "code",
   "execution_count": 53,
   "outputs": [],
   "source": [
    "# restore the System column\n",
    "imputed_pcd_df['System'] = one_hot_pcd_df.index"
   ],
   "metadata": {
    "collapsed": false,
    "ExecuteTime": {
     "end_time": "2024-01-31T15:08:32.187909600Z",
     "start_time": "2024-01-31T15:08:32.179588100Z"
    }
   }
  },
  {
   "cell_type": "code",
   "execution_count": 54,
   "outputs": [],
   "source": [
    "# set the System column as the index\n",
    "imputed_pcd_df = imputed_pcd_df.set_index('System')"
   ],
   "metadata": {
    "collapsed": false,
    "ExecuteTime": {
     "end_time": "2024-01-31T15:08:32.302422200Z",
     "start_time": "2024-01-31T15:08:32.187909600Z"
    }
   }
  },
  {
   "cell_type": "code",
   "execution_count": 55,
   "outputs": [],
   "source": [
    "# insert imputed values into frontier_pcd_df\n",
    "frontier_pcd_df['Training hardware'] = imputed_pcd_df['Training hardware']\n",
    "frontier_pcd_df['Hardware quantity'] = imputed_pcd_df['Hardware quantity']\n",
    "frontier_pcd_df['Hardware utilization'] = imputed_pcd_df['Hardware utilization']\n",
    "frontier_pcd_df['Training time (hours)'] = imputed_pcd_df['Training time (hours)']\n",
    "frontier_pcd_df['Training time (chip hours)'] = frontier_pcd_df['Training time (hours)'] * frontier_pcd_df['Hardware quantity']"
   ],
   "metadata": {
    "collapsed": false,
    "ExecuteTime": {
     "end_time": "2024-01-31T15:08:32.366192900Z",
     "start_time": "2024-01-31T15:08:32.302422200Z"
    }
   }
  },
  {
   "cell_type": "code",
   "execution_count": 56,
   "outputs": [],
   "source": [
    "# calculate training time (chip hours) from training time and hardware quantity\n",
    "frontier_pcd_df['Training time (chip hours)'] = frontier_pcd_df['Training time (hours)'] * frontier_pcd_df['Hardware quantity']"
   ],
   "metadata": {
    "collapsed": false,
    "ExecuteTime": {
     "end_time": "2024-01-31T15:08:32.367189800Z",
     "start_time": "2024-01-31T15:08:32.337373300Z"
    }
   }
  },
  {
   "cell_type": "code",
   "execution_count": 57,
   "outputs": [
    {
     "data": {
      "text/plain": "                    Domain         Task Open-source  \\\nSystem                                                \nAlphaGo Fan          Games           Go         NaN   \nAlphaGo Lee          Games           Go         NaN   \nGNMT              Language  Translation         NaN   \nNASv3 (CIFAR-10)    Vision          NaN         NaN   \nAlphaGo Master       Games           Go         NaN   \n\n                                                          Reference  \\\nSystem                                                                \nAlphaGo Fan       Mastering the game of Go with deep neural netw...   \nAlphaGo Lee       Mastering the game of Go with deep neural netw...   \nGNMT              Google's Neural Machine Translation System: Br...   \nNASv3 (CIFAR-10)  Neural Architecture Search with Reinforcement ...   \nAlphaGo Master     Mastering the game of Go without human knowledge   \n\n                  Publication date     Organization   Parameters  \\\nSystem                                                             \nAlphaGo Fan            2015.750000  Google DeepMind    8209984.0   \nAlphaGo Lee            2016.071233         DeepMind          NaN   \nGNMT                   2016.735160           Google  278000000.0   \nNASv3 (CIFAR-10)       2016.844292     Google Brain   37400000.0   \nAlphaGo Master         2017.000000         DeepMind          NaN   \n\n                  Training compute (FLOP)  Training dataset size (datapoints)  \\\nSystem                                                                          \nAlphaGo Fan                  3.800000e+20                                 NaN   \nAlphaGo Lee                  1.900000e+21                          29400000.0   \nGNMT                         6.900000e+21                         360000000.0   \nNASv3 (CIFAR-10)             2.200000e+21                                 NaN   \nAlphaGo Master               1.500000e+23                                 NaN   \n\n                  Epochs  ...  Training hardware  \\\nSystem                    ...                      \nAlphaGo Fan          NaN  ...      Google TPU v3   \nAlphaGo Lee          NaN  ...      Google TPU v3   \nGNMT                 NaN  ...   NVIDIA Tesla K80   \nNASv3 (CIFAR-10)     NaN  ...      Google TPU v3   \nAlphaGo Master       NaN  ...      Google TPU v1   \n\n                                        Country (from Organization)  \\\nSystem                                                                \nAlphaGo Fan                                           Multinational   \nAlphaGo Lee       United Kingdom of Great Britain and Northern I...   \nGNMT                                                  Multinational   \nNASv3 (CIFAR-10)                                      Multinational   \nAlphaGo Master    United Kingdom of Great Britain and Northern I...   \n\n                 Organization (from Organization) Base model  \\\nSystem                                                         \nAlphaGo Fan                       Google DeepMind        NaN   \nAlphaGo Lee                              DeepMind        NaN   \nGNMT                                       Google        NaN   \nNASv3 (CIFAR-10)                     Google Brain        NaN   \nAlphaGo Master                           DeepMind        NaN   \n\n                 Finetune compute (FLOP) Hardware quantity  \\\nSystem                                                       \nAlphaGo Fan                          NaN             311.4   \nAlphaGo Lee                          NaN             311.4   \nGNMT                                 NaN              96.0   \nNASv3 (CIFAR-10)                     NaN             800.0   \nAlphaGo Master                       NaN            1543.6   \n\n                  Hardware utilization  Training cloud compute vendor  \\\nSystem                                                                  \nAlphaGo Fan                    0.30008                   Google Cloud   \nAlphaGo Lee                    0.30008                   Google Cloud   \nGNMT                           0.32308                   Google Cloud   \nNASv3 (CIFAR-10)               0.30008                   Google Cloud   \nAlphaGo Master                 0.30008                   Google Cloud   \n\n                 Training data center Training time (chip hours)  \nSystem                                                            \nAlphaGo Fan                       NaN                 116837.280  \nAlphaGo Lee                       NaN                 116837.280  \nGNMT                              NaN                 414720.000  \nNASv3 (CIFAR-10)                  NaN                 300160.000  \nAlphaGo Master                    NaN                3201395.528  \n\n[5 rows x 21 columns]",
      "text/html": "<div>\n<style scoped>\n    .dataframe tbody tr th:only-of-type {\n        vertical-align: middle;\n    }\n\n    .dataframe tbody tr th {\n        vertical-align: top;\n    }\n\n    .dataframe thead th {\n        text-align: right;\n    }\n</style>\n<table border=\"1\" class=\"dataframe\">\n  <thead>\n    <tr style=\"text-align: right;\">\n      <th></th>\n      <th>Domain</th>\n      <th>Task</th>\n      <th>Open-source</th>\n      <th>Reference</th>\n      <th>Publication date</th>\n      <th>Organization</th>\n      <th>Parameters</th>\n      <th>Training compute (FLOP)</th>\n      <th>Training dataset size (datapoints)</th>\n      <th>Epochs</th>\n      <th>...</th>\n      <th>Training hardware</th>\n      <th>Country (from Organization)</th>\n      <th>Organization (from Organization)</th>\n      <th>Base model</th>\n      <th>Finetune compute (FLOP)</th>\n      <th>Hardware quantity</th>\n      <th>Hardware utilization</th>\n      <th>Training cloud compute vendor</th>\n      <th>Training data center</th>\n      <th>Training time (chip hours)</th>\n    </tr>\n    <tr>\n      <th>System</th>\n      <th></th>\n      <th></th>\n      <th></th>\n      <th></th>\n      <th></th>\n      <th></th>\n      <th></th>\n      <th></th>\n      <th></th>\n      <th></th>\n      <th></th>\n      <th></th>\n      <th></th>\n      <th></th>\n      <th></th>\n      <th></th>\n      <th></th>\n      <th></th>\n      <th></th>\n      <th></th>\n      <th></th>\n    </tr>\n  </thead>\n  <tbody>\n    <tr>\n      <th>AlphaGo Fan</th>\n      <td>Games</td>\n      <td>Go</td>\n      <td>NaN</td>\n      <td>Mastering the game of Go with deep neural netw...</td>\n      <td>2015.750000</td>\n      <td>Google DeepMind</td>\n      <td>8209984.0</td>\n      <td>3.800000e+20</td>\n      <td>NaN</td>\n      <td>NaN</td>\n      <td>...</td>\n      <td>Google TPU v3</td>\n      <td>Multinational</td>\n      <td>Google DeepMind</td>\n      <td>NaN</td>\n      <td>NaN</td>\n      <td>311.4</td>\n      <td>0.30008</td>\n      <td>Google Cloud</td>\n      <td>NaN</td>\n      <td>116837.280</td>\n    </tr>\n    <tr>\n      <th>AlphaGo Lee</th>\n      <td>Games</td>\n      <td>Go</td>\n      <td>NaN</td>\n      <td>Mastering the game of Go with deep neural netw...</td>\n      <td>2016.071233</td>\n      <td>DeepMind</td>\n      <td>NaN</td>\n      <td>1.900000e+21</td>\n      <td>29400000.0</td>\n      <td>NaN</td>\n      <td>...</td>\n      <td>Google TPU v3</td>\n      <td>United Kingdom of Great Britain and Northern I...</td>\n      <td>DeepMind</td>\n      <td>NaN</td>\n      <td>NaN</td>\n      <td>311.4</td>\n      <td>0.30008</td>\n      <td>Google Cloud</td>\n      <td>NaN</td>\n      <td>116837.280</td>\n    </tr>\n    <tr>\n      <th>GNMT</th>\n      <td>Language</td>\n      <td>Translation</td>\n      <td>NaN</td>\n      <td>Google's Neural Machine Translation System: Br...</td>\n      <td>2016.735160</td>\n      <td>Google</td>\n      <td>278000000.0</td>\n      <td>6.900000e+21</td>\n      <td>360000000.0</td>\n      <td>NaN</td>\n      <td>...</td>\n      <td>NVIDIA Tesla K80</td>\n      <td>Multinational</td>\n      <td>Google</td>\n      <td>NaN</td>\n      <td>NaN</td>\n      <td>96.0</td>\n      <td>0.32308</td>\n      <td>Google Cloud</td>\n      <td>NaN</td>\n      <td>414720.000</td>\n    </tr>\n    <tr>\n      <th>NASv3 (CIFAR-10)</th>\n      <td>Vision</td>\n      <td>NaN</td>\n      <td>NaN</td>\n      <td>Neural Architecture Search with Reinforcement ...</td>\n      <td>2016.844292</td>\n      <td>Google Brain</td>\n      <td>37400000.0</td>\n      <td>2.200000e+21</td>\n      <td>NaN</td>\n      <td>NaN</td>\n      <td>...</td>\n      <td>Google TPU v3</td>\n      <td>Multinational</td>\n      <td>Google Brain</td>\n      <td>NaN</td>\n      <td>NaN</td>\n      <td>800.0</td>\n      <td>0.30008</td>\n      <td>Google Cloud</td>\n      <td>NaN</td>\n      <td>300160.000</td>\n    </tr>\n    <tr>\n      <th>AlphaGo Master</th>\n      <td>Games</td>\n      <td>Go</td>\n      <td>NaN</td>\n      <td>Mastering the game of Go without human knowledge</td>\n      <td>2017.000000</td>\n      <td>DeepMind</td>\n      <td>NaN</td>\n      <td>1.500000e+23</td>\n      <td>NaN</td>\n      <td>NaN</td>\n      <td>...</td>\n      <td>Google TPU v1</td>\n      <td>United Kingdom of Great Britain and Northern I...</td>\n      <td>DeepMind</td>\n      <td>NaN</td>\n      <td>NaN</td>\n      <td>1543.6</td>\n      <td>0.30008</td>\n      <td>Google Cloud</td>\n      <td>NaN</td>\n      <td>3201395.528</td>\n    </tr>\n  </tbody>\n</table>\n<p>5 rows × 21 columns</p>\n</div>"
     },
     "execution_count": 57,
     "metadata": {},
     "output_type": "execute_result"
    }
   ],
   "source": [
    "frontier_pcd_df.head()"
   ],
   "metadata": {
    "collapsed": false,
    "ExecuteTime": {
     "end_time": "2024-01-31T15:08:32.421951200Z",
     "start_time": "2024-01-31T15:08:32.365192800Z"
    }
   }
  },
  {
   "cell_type": "code",
   "execution_count": 58,
   "outputs": [],
   "source": [
    "frontier_pcd_df['System'] = frontier_pcd_df.index"
   ],
   "metadata": {
    "collapsed": false,
    "ExecuteTime": {
     "end_time": "2024-01-31T15:08:32.468553100Z",
     "start_time": "2024-01-31T15:08:32.417228400Z"
    }
   }
  },
  {
   "cell_type": "code",
   "execution_count": 59,
   "outputs": [
    {
     "data": {
      "text/plain": "                                                System  \\\nSystem                                                   \nAlphaGo Fan                                AlphaGo Fan   \nAlphaGo Lee                                AlphaGo Lee   \nGNMT                                              GNMT   \nNASv3 (CIFAR-10)                      NASv3 (CIFAR-10)   \nAlphaGo Master                          AlphaGo Master   \nJFT                                                JFT   \nOpenAI TI7 DOTA 1v1                OpenAI TI7 DOTA 1v1   \nAlphaGo Zero                              AlphaGo Zero   \nAlphaZero                                    AlphaZero   \nAmoebaNet-A (F=448)                AmoebaNet-A (F=448)   \nIMPALA                                          IMPALA   \nResNeXt-101 32x48d                  ResNeXt-101 32x48d   \nFTW                                                FTW   \nBigGAN-deep 512x512                BigGAN-deep 512x512   \nRoBERTa Large                            RoBERTa Large   \nMegatron-BERT                            Megatron-BERT   \nMegatron-LM (8.3B)                  Megatron-LM (8.3B)   \nT5-3B                                            T5-3B   \nT5-11B                                          T5-11B   \nAlphaStar                                    AlphaStar   \nOpenAI Five                                OpenAI Five   \nOpenAI Five Rerun                    OpenAI Five Rerun   \nMeena                                            Meena   \nTuring-NLG                                  Turing-NLG   \nGPT-3 175B (davinci)              GPT-3 175B (davinci)   \nGShard (dense)                          GShard (dense)   \nALIGN                                            ALIGN   \nMegatron-Turing NLG 530B      Megatron-Turing NLG 530B   \nYuan 1.0                                      Yuan 1.0   \nGopher (280B)                            Gopher (280B)   \nGLaM                                              GLaM   \nERNIE 3.0 Titan                        ERNIE 3.0 Titan   \nAlphaCode                                    AlphaCode   \nLaMDA                                            LaMDA   \nChinchilla                                  Chinchilla   \nPaLM (540B)                                PaLM (540B)   \nOPT-175B                                      OPT-175B   \nMinerva (540B)                          Minerva (540B)   \nGPT-3.5 (text-davinci-003)  GPT-3.5 (text-davinci-003)   \nLLaMA-65B                                    LLaMA-65B   \nGPT-4                                            GPT-4   \nPaLM 2                                          PaLM 2   \nClaude 2                                      Claude 2   \nLlama 2-70B                                Llama 2-70B   \nFalcon 180B                                Falcon 180B   \n\n                                                         Training hardware  \\\nSystem                                                                       \nAlphaGo Fan                                                  Google TPU v3   \nAlphaGo Lee                                                  Google TPU v3   \nGNMT                                                      NVIDIA Tesla K80   \nNASv3 (CIFAR-10)                                             Google TPU v3   \nAlphaGo Master                                               Google TPU v1   \nJFT                                                       NVIDIA Tesla K80   \nOpenAI TI7 DOTA 1v1                                          Google TPU v3   \nAlphaGo Zero                                                 Google TPU v1   \nAlphaZero                                                    Google TPU v2   \nAmoebaNet-A (F=448)                                      NVIDIA Tesla K40s   \nIMPALA                                                         NVIDIA P100   \nResNeXt-101 32x48d                            NVIDIA Tesla V100 DGXS 32 GB   \nFTW                                           NVIDIA Tesla V100 DGXS 32 GB   \nBigGAN-deep 512x512                                          Google TPU v3   \nRoBERTa Large                                 NVIDIA Tesla V100 DGXS 32 GB   \nMegatron-BERT                                NVIDIA Tesla V100S PCIe 32 GB   \nMegatron-LM (8.3B)                            NVIDIA Tesla V100 DGXS 32 GB   \nT5-3B                                                        Google TPU v3   \nT5-11B                                                       Google TPU v3   \nAlphaStar                                                    Google TPU v3   \nOpenAI Five                                                  Google TPU v3   \nOpenAI Five Rerun                             NVIDIA Tesla V100 DGXS 32 GB   \nMeena                                                        Google TPU v3   \nTuring-NLG                                    NVIDIA Tesla V100 DGXS 32 GB   \nGPT-3 175B (davinci)                          NVIDIA Tesla V100 DGXS 32 GB   \nGShard (dense)                                               Google TPU v3   \nALIGN                                                        Google TPU v3   \nMegatron-Turing NLG 530B                            NVIDIA A100 SXM4 80 GB   \nYuan 1.0                                                     Google TPU v1   \nGopher (280B)                                                Google TPU v3   \nGLaM                                                         Google TPU v4   \nERNIE 3.0 Titan             Huawei Ascend 910,NVIDIA Tesla V100 DGXS 32 GB   \nAlphaCode                                     Google TPU v4,Google TPU v4i   \nLaMDA                                                        Google TPU v3   \nChinchilla                                                   Google TPU v4   \nPaLM (540B)                                                  Google TPU v4   \nOPT-175B                                            NVIDIA A100 SXM4 80 GB   \nMinerva (540B)                                               Google TPU v4   \nGPT-3.5 (text-davinci-003)                          NVIDIA A100 SXM4 40 GB   \nLLaMA-65B                                                      NVIDIA A100   \nGPT-4                                               NVIDIA A100 SXM4 40 GB   \nPaLM 2                                                       Google TPU v4   \nClaude 2                                                     Google TPU v4   \nLlama 2-70B                                         NVIDIA A100 SXM4 80 GB   \nFalcon 180B                                         NVIDIA A100 SXM4 40 GB   \n\n                            Hardware utilization  Hardware quantity  \\\nSystem                                                                \nAlphaGo Fan                              0.30008              311.4   \nAlphaGo Lee                              0.30008              311.4   \nGNMT                                     0.32308               96.0   \nNASv3 (CIFAR-10)                         0.30008              800.0   \nAlphaGo Master                           0.30008             1543.6   \nJFT                                      0.32308               50.0   \nOpenAI TI7 DOTA 1v1                      0.30008              311.4   \nAlphaGo Zero                             0.43608             3040.0   \nAlphaZero                                0.30008               64.0   \nAmoebaNet-A (F=448)                      0.32308              450.0   \nIMPALA                                   0.32308                1.0   \nResNeXt-101 32x48d                       0.30008              336.0   \nFTW                                      0.30008              444.8   \nBigGAN-deep 512x512                      0.32308              256.0   \nRoBERTa Large                            0.32308             1024.0   \nMegatron-BERT                            0.22690              512.0   \nMegatron-LM (8.3B)                       0.11620              512.0   \nT5-3B                                    0.30008              311.4   \nT5-11B                                   0.37070              512.0   \nAlphaStar                                0.30008              384.0   \nOpenAI Five                              0.30008             1536.0   \nOpenAI Five Rerun                        0.30008              512.0   \nMeena                                    0.34390             1024.0   \nTuring-NLG                               0.30008              256.0   \nGPT-3 175B (davinci)                     0.21960            10000.0   \nGShard (dense)                           0.30008             1024.0   \nALIGN                                    0.32308              512.0   \nMegatron-Turing NLG 530B                 0.30200             4480.0   \nYuan 1.0                                 0.45000             2128.0   \nGopher (280B)                            0.37800             4096.0   \nGLaM                                     0.43608             1024.0   \nERNIE 3.0 Titan                          0.37054             1920.0   \nAlphaCode                                0.30008             3750.0   \nLaMDA                                    0.56500             1024.0   \nChinchilla                               0.42314             1740.8   \nPaLM (540B)                              0.46200             6144.0   \nOPT-175B                                 0.47120             1024.0   \nMinerva (540B)                           0.31130             1024.0   \nGPT-3.5 (text-davinci-003)               0.31130             3532.8   \nLLaMA-65B                                0.47460             2048.0   \nGPT-4                                    0.34000            25000.0   \nPaLM 2                                   0.31130             3532.8   \nClaude 2                                 0.31130             3532.8   \nLlama 2-70B                              0.37054             2611.2   \nFalcon 180B                              0.18760             4096.0   \n\n                            Training time (hours)  Training time (chip hours)  \nSystem                                                                         \nAlphaGo Fan                                375.20                1.168373e+05  \nAlphaGo Lee                                375.20                1.168373e+05  \nGNMT                                      4320.00                4.147200e+05  \nNASv3 (CIFAR-10)                           375.20                3.001600e+05  \nAlphaGo Master                            2073.98                3.201396e+06  \nJFT                                       1440.00                7.200000e+04  \nOpenAI TI7 DOTA 1v1                        375.20                1.168373e+05  \nAlphaGo Zero                               480.00                1.459200e+06  \nAlphaZero                                 1306.44                8.361216e+04  \nAmoebaNet-A (F=448)                        168.00                7.560000e+04  \nIMPALA                                     100.00                1.000000e+02  \nResNeXt-101 32x48d                        1251.00                4.203360e+05  \nFTW                                       1251.00                5.564448e+05  \nBigGAN-deep 512x512                         48.00                1.228800e+04  \nRoBERTa Large                              120.00                1.228800e+05  \nMegatron-BERT                             1392.00                7.127040e+05  \nMegatron-LM (8.3B)                         327.00                1.674240e+05  \nT5-3B                                      375.20                1.168373e+05  \nT5-11B                                     481.90                2.467328e+05  \nAlphaStar                                 1056.00                4.055040e+05  \nOpenAI Five                               7104.00                1.091174e+07  \nOpenAI Five Rerun                         1251.00                6.405120e+05  \nMeena                                      720.00                7.372800e+05  \nTuring-NLG                                1032.46                2.643098e+05  \nGPT-3 175B (davinci)                       355.20                3.552000e+06  \nGShard (dense)                            1008.00                1.032192e+06  \nALIGN                                      347.30                1.778176e+05  \nMegatron-Turing NLG 530B                   770.00                3.449600e+06  \nYuan 1.0                                   875.94                1.864000e+06  \nGopher (280B)                              920.00                3.768320e+06  \nGLaM                                      1366.00                1.398784e+06  \nERNIE 3.0 Titan                           1580.40                3.034368e+06  \nAlphaCode                                 2073.98                7.777425e+06  \nLaMDA                                     1385.00                1.418240e+06  \nChinchilla                                 994.30                1.730877e+06  \nPaLM (540B)                               1368.00                8.404992e+06  \nOPT-175B                                   793.50                8.125440e+05  \nMinerva (540B)                             696.00                7.127040e+05  \nGPT-3.5 (text-davinci-003)                2294.80                8.107069e+06  \nLLaMA-65B                                  500.00                1.024000e+06  \nGPT-4                                     2280.00                5.700000e+07  \nPaLM 2                                    2294.80                8.107069e+06  \nClaude 2                                  2294.80                8.107069e+06  \nLlama 2-70B                               4320.00                1.128038e+07  \nFalcon 180B                               4320.00                1.769472e+07  ",
      "text/html": "<div>\n<style scoped>\n    .dataframe tbody tr th:only-of-type {\n        vertical-align: middle;\n    }\n\n    .dataframe tbody tr th {\n        vertical-align: top;\n    }\n\n    .dataframe thead th {\n        text-align: right;\n    }\n</style>\n<table border=\"1\" class=\"dataframe\">\n  <thead>\n    <tr style=\"text-align: right;\">\n      <th></th>\n      <th>System</th>\n      <th>Training hardware</th>\n      <th>Hardware utilization</th>\n      <th>Hardware quantity</th>\n      <th>Training time (hours)</th>\n      <th>Training time (chip hours)</th>\n    </tr>\n    <tr>\n      <th>System</th>\n      <th></th>\n      <th></th>\n      <th></th>\n      <th></th>\n      <th></th>\n      <th></th>\n    </tr>\n  </thead>\n  <tbody>\n    <tr>\n      <th>AlphaGo Fan</th>\n      <td>AlphaGo Fan</td>\n      <td>Google TPU v3</td>\n      <td>0.30008</td>\n      <td>311.4</td>\n      <td>375.20</td>\n      <td>1.168373e+05</td>\n    </tr>\n    <tr>\n      <th>AlphaGo Lee</th>\n      <td>AlphaGo Lee</td>\n      <td>Google TPU v3</td>\n      <td>0.30008</td>\n      <td>311.4</td>\n      <td>375.20</td>\n      <td>1.168373e+05</td>\n    </tr>\n    <tr>\n      <th>GNMT</th>\n      <td>GNMT</td>\n      <td>NVIDIA Tesla K80</td>\n      <td>0.32308</td>\n      <td>96.0</td>\n      <td>4320.00</td>\n      <td>4.147200e+05</td>\n    </tr>\n    <tr>\n      <th>NASv3 (CIFAR-10)</th>\n      <td>NASv3 (CIFAR-10)</td>\n      <td>Google TPU v3</td>\n      <td>0.30008</td>\n      <td>800.0</td>\n      <td>375.20</td>\n      <td>3.001600e+05</td>\n    </tr>\n    <tr>\n      <th>AlphaGo Master</th>\n      <td>AlphaGo Master</td>\n      <td>Google TPU v1</td>\n      <td>0.30008</td>\n      <td>1543.6</td>\n      <td>2073.98</td>\n      <td>3.201396e+06</td>\n    </tr>\n    <tr>\n      <th>JFT</th>\n      <td>JFT</td>\n      <td>NVIDIA Tesla K80</td>\n      <td>0.32308</td>\n      <td>50.0</td>\n      <td>1440.00</td>\n      <td>7.200000e+04</td>\n    </tr>\n    <tr>\n      <th>OpenAI TI7 DOTA 1v1</th>\n      <td>OpenAI TI7 DOTA 1v1</td>\n      <td>Google TPU v3</td>\n      <td>0.30008</td>\n      <td>311.4</td>\n      <td>375.20</td>\n      <td>1.168373e+05</td>\n    </tr>\n    <tr>\n      <th>AlphaGo Zero</th>\n      <td>AlphaGo Zero</td>\n      <td>Google TPU v1</td>\n      <td>0.43608</td>\n      <td>3040.0</td>\n      <td>480.00</td>\n      <td>1.459200e+06</td>\n    </tr>\n    <tr>\n      <th>AlphaZero</th>\n      <td>AlphaZero</td>\n      <td>Google TPU v2</td>\n      <td>0.30008</td>\n      <td>64.0</td>\n      <td>1306.44</td>\n      <td>8.361216e+04</td>\n    </tr>\n    <tr>\n      <th>AmoebaNet-A (F=448)</th>\n      <td>AmoebaNet-A (F=448)</td>\n      <td>NVIDIA Tesla K40s</td>\n      <td>0.32308</td>\n      <td>450.0</td>\n      <td>168.00</td>\n      <td>7.560000e+04</td>\n    </tr>\n    <tr>\n      <th>IMPALA</th>\n      <td>IMPALA</td>\n      <td>NVIDIA P100</td>\n      <td>0.32308</td>\n      <td>1.0</td>\n      <td>100.00</td>\n      <td>1.000000e+02</td>\n    </tr>\n    <tr>\n      <th>ResNeXt-101 32x48d</th>\n      <td>ResNeXt-101 32x48d</td>\n      <td>NVIDIA Tesla V100 DGXS 32 GB</td>\n      <td>0.30008</td>\n      <td>336.0</td>\n      <td>1251.00</td>\n      <td>4.203360e+05</td>\n    </tr>\n    <tr>\n      <th>FTW</th>\n      <td>FTW</td>\n      <td>NVIDIA Tesla V100 DGXS 32 GB</td>\n      <td>0.30008</td>\n      <td>444.8</td>\n      <td>1251.00</td>\n      <td>5.564448e+05</td>\n    </tr>\n    <tr>\n      <th>BigGAN-deep 512x512</th>\n      <td>BigGAN-deep 512x512</td>\n      <td>Google TPU v3</td>\n      <td>0.32308</td>\n      <td>256.0</td>\n      <td>48.00</td>\n      <td>1.228800e+04</td>\n    </tr>\n    <tr>\n      <th>RoBERTa Large</th>\n      <td>RoBERTa Large</td>\n      <td>NVIDIA Tesla V100 DGXS 32 GB</td>\n      <td>0.32308</td>\n      <td>1024.0</td>\n      <td>120.00</td>\n      <td>1.228800e+05</td>\n    </tr>\n    <tr>\n      <th>Megatron-BERT</th>\n      <td>Megatron-BERT</td>\n      <td>NVIDIA Tesla V100S PCIe 32 GB</td>\n      <td>0.22690</td>\n      <td>512.0</td>\n      <td>1392.00</td>\n      <td>7.127040e+05</td>\n    </tr>\n    <tr>\n      <th>Megatron-LM (8.3B)</th>\n      <td>Megatron-LM (8.3B)</td>\n      <td>NVIDIA Tesla V100 DGXS 32 GB</td>\n      <td>0.11620</td>\n      <td>512.0</td>\n      <td>327.00</td>\n      <td>1.674240e+05</td>\n    </tr>\n    <tr>\n      <th>T5-3B</th>\n      <td>T5-3B</td>\n      <td>Google TPU v3</td>\n      <td>0.30008</td>\n      <td>311.4</td>\n      <td>375.20</td>\n      <td>1.168373e+05</td>\n    </tr>\n    <tr>\n      <th>T5-11B</th>\n      <td>T5-11B</td>\n      <td>Google TPU v3</td>\n      <td>0.37070</td>\n      <td>512.0</td>\n      <td>481.90</td>\n      <td>2.467328e+05</td>\n    </tr>\n    <tr>\n      <th>AlphaStar</th>\n      <td>AlphaStar</td>\n      <td>Google TPU v3</td>\n      <td>0.30008</td>\n      <td>384.0</td>\n      <td>1056.00</td>\n      <td>4.055040e+05</td>\n    </tr>\n    <tr>\n      <th>OpenAI Five</th>\n      <td>OpenAI Five</td>\n      <td>Google TPU v3</td>\n      <td>0.30008</td>\n      <td>1536.0</td>\n      <td>7104.00</td>\n      <td>1.091174e+07</td>\n    </tr>\n    <tr>\n      <th>OpenAI Five Rerun</th>\n      <td>OpenAI Five Rerun</td>\n      <td>NVIDIA Tesla V100 DGXS 32 GB</td>\n      <td>0.30008</td>\n      <td>512.0</td>\n      <td>1251.00</td>\n      <td>6.405120e+05</td>\n    </tr>\n    <tr>\n      <th>Meena</th>\n      <td>Meena</td>\n      <td>Google TPU v3</td>\n      <td>0.34390</td>\n      <td>1024.0</td>\n      <td>720.00</td>\n      <td>7.372800e+05</td>\n    </tr>\n    <tr>\n      <th>Turing-NLG</th>\n      <td>Turing-NLG</td>\n      <td>NVIDIA Tesla V100 DGXS 32 GB</td>\n      <td>0.30008</td>\n      <td>256.0</td>\n      <td>1032.46</td>\n      <td>2.643098e+05</td>\n    </tr>\n    <tr>\n      <th>GPT-3 175B (davinci)</th>\n      <td>GPT-3 175B (davinci)</td>\n      <td>NVIDIA Tesla V100 DGXS 32 GB</td>\n      <td>0.21960</td>\n      <td>10000.0</td>\n      <td>355.20</td>\n      <td>3.552000e+06</td>\n    </tr>\n    <tr>\n      <th>GShard (dense)</th>\n      <td>GShard (dense)</td>\n      <td>Google TPU v3</td>\n      <td>0.30008</td>\n      <td>1024.0</td>\n      <td>1008.00</td>\n      <td>1.032192e+06</td>\n    </tr>\n    <tr>\n      <th>ALIGN</th>\n      <td>ALIGN</td>\n      <td>Google TPU v3</td>\n      <td>0.32308</td>\n      <td>512.0</td>\n      <td>347.30</td>\n      <td>1.778176e+05</td>\n    </tr>\n    <tr>\n      <th>Megatron-Turing NLG 530B</th>\n      <td>Megatron-Turing NLG 530B</td>\n      <td>NVIDIA A100 SXM4 80 GB</td>\n      <td>0.30200</td>\n      <td>4480.0</td>\n      <td>770.00</td>\n      <td>3.449600e+06</td>\n    </tr>\n    <tr>\n      <th>Yuan 1.0</th>\n      <td>Yuan 1.0</td>\n      <td>Google TPU v1</td>\n      <td>0.45000</td>\n      <td>2128.0</td>\n      <td>875.94</td>\n      <td>1.864000e+06</td>\n    </tr>\n    <tr>\n      <th>Gopher (280B)</th>\n      <td>Gopher (280B)</td>\n      <td>Google TPU v3</td>\n      <td>0.37800</td>\n      <td>4096.0</td>\n      <td>920.00</td>\n      <td>3.768320e+06</td>\n    </tr>\n    <tr>\n      <th>GLaM</th>\n      <td>GLaM</td>\n      <td>Google TPU v4</td>\n      <td>0.43608</td>\n      <td>1024.0</td>\n      <td>1366.00</td>\n      <td>1.398784e+06</td>\n    </tr>\n    <tr>\n      <th>ERNIE 3.0 Titan</th>\n      <td>ERNIE 3.0 Titan</td>\n      <td>Huawei Ascend 910,NVIDIA Tesla V100 DGXS 32 GB</td>\n      <td>0.37054</td>\n      <td>1920.0</td>\n      <td>1580.40</td>\n      <td>3.034368e+06</td>\n    </tr>\n    <tr>\n      <th>AlphaCode</th>\n      <td>AlphaCode</td>\n      <td>Google TPU v4,Google TPU v4i</td>\n      <td>0.30008</td>\n      <td>3750.0</td>\n      <td>2073.98</td>\n      <td>7.777425e+06</td>\n    </tr>\n    <tr>\n      <th>LaMDA</th>\n      <td>LaMDA</td>\n      <td>Google TPU v3</td>\n      <td>0.56500</td>\n      <td>1024.0</td>\n      <td>1385.00</td>\n      <td>1.418240e+06</td>\n    </tr>\n    <tr>\n      <th>Chinchilla</th>\n      <td>Chinchilla</td>\n      <td>Google TPU v4</td>\n      <td>0.42314</td>\n      <td>1740.8</td>\n      <td>994.30</td>\n      <td>1.730877e+06</td>\n    </tr>\n    <tr>\n      <th>PaLM (540B)</th>\n      <td>PaLM (540B)</td>\n      <td>Google TPU v4</td>\n      <td>0.46200</td>\n      <td>6144.0</td>\n      <td>1368.00</td>\n      <td>8.404992e+06</td>\n    </tr>\n    <tr>\n      <th>OPT-175B</th>\n      <td>OPT-175B</td>\n      <td>NVIDIA A100 SXM4 80 GB</td>\n      <td>0.47120</td>\n      <td>1024.0</td>\n      <td>793.50</td>\n      <td>8.125440e+05</td>\n    </tr>\n    <tr>\n      <th>Minerva (540B)</th>\n      <td>Minerva (540B)</td>\n      <td>Google TPU v4</td>\n      <td>0.31130</td>\n      <td>1024.0</td>\n      <td>696.00</td>\n      <td>7.127040e+05</td>\n    </tr>\n    <tr>\n      <th>GPT-3.5 (text-davinci-003)</th>\n      <td>GPT-3.5 (text-davinci-003)</td>\n      <td>NVIDIA A100 SXM4 40 GB</td>\n      <td>0.31130</td>\n      <td>3532.8</td>\n      <td>2294.80</td>\n      <td>8.107069e+06</td>\n    </tr>\n    <tr>\n      <th>LLaMA-65B</th>\n      <td>LLaMA-65B</td>\n      <td>NVIDIA A100</td>\n      <td>0.47460</td>\n      <td>2048.0</td>\n      <td>500.00</td>\n      <td>1.024000e+06</td>\n    </tr>\n    <tr>\n      <th>GPT-4</th>\n      <td>GPT-4</td>\n      <td>NVIDIA A100 SXM4 40 GB</td>\n      <td>0.34000</td>\n      <td>25000.0</td>\n      <td>2280.00</td>\n      <td>5.700000e+07</td>\n    </tr>\n    <tr>\n      <th>PaLM 2</th>\n      <td>PaLM 2</td>\n      <td>Google TPU v4</td>\n      <td>0.31130</td>\n      <td>3532.8</td>\n      <td>2294.80</td>\n      <td>8.107069e+06</td>\n    </tr>\n    <tr>\n      <th>Claude 2</th>\n      <td>Claude 2</td>\n      <td>Google TPU v4</td>\n      <td>0.31130</td>\n      <td>3532.8</td>\n      <td>2294.80</td>\n      <td>8.107069e+06</td>\n    </tr>\n    <tr>\n      <th>Llama 2-70B</th>\n      <td>Llama 2-70B</td>\n      <td>NVIDIA A100 SXM4 80 GB</td>\n      <td>0.37054</td>\n      <td>2611.2</td>\n      <td>4320.00</td>\n      <td>1.128038e+07</td>\n    </tr>\n    <tr>\n      <th>Falcon 180B</th>\n      <td>Falcon 180B</td>\n      <td>NVIDIA A100 SXM4 40 GB</td>\n      <td>0.18760</td>\n      <td>4096.0</td>\n      <td>4320.00</td>\n      <td>1.769472e+07</td>\n    </tr>\n  </tbody>\n</table>\n</div>"
     },
     "execution_count": 59,
     "metadata": {},
     "output_type": "execute_result"
    }
   ],
   "source": [
    "frontier_pcd_df[['System', 'Training hardware', 'Hardware utilization', 'Hardware quantity', 'Training time (hours)', 'Training time (chip hours)']]"
   ],
   "metadata": {
    "collapsed": false,
    "ExecuteTime": {
     "end_time": "2024-01-31T15:08:32.545343400Z",
     "start_time": "2024-01-31T15:08:32.443319400Z"
    }
   }
  },
  {
   "cell_type": "code",
   "execution_count": 60,
   "outputs": [
    {
     "name": "stdout",
     "output_type": "stream",
     "text": [
      "Could not find price for AlphaGo Fan with hardware Google TPU v3 in 2015 on Google Cloud\n",
      "Could not find price for AlphaGo Lee with hardware Google TPU v3 in 2015 on Google Cloud\n",
      "Could not find price for GNMT with hardware NVIDIA Tesla K80 in 2016 on Amazon Web Services\n",
      "Could not find price for NASv3 (CIFAR-10) with hardware Google TPU v3 in 2016 on Google Cloud\n",
      "Could not find price for AlphaGo Master with hardware Google TPU v1 in 2016 on Google Cloud\n",
      "Could not find price for JFT with hardware NVIDIA Tesla K80 in 2017 on Amazon Web Services\n",
      "Could not find price for OpenAI TI7 DOTA 1v1 with hardware Google TPU v3 in 2017 on Google Cloud\n",
      "Could not find price for AlphaGo Zero with hardware Google TPU v1 in 2017 on Google Cloud\n",
      "Could not find price for AlphaZero with hardware Google TPU v2 in 2017 on Google Cloud\n",
      "Could not find price for AmoebaNet-A (F=448) with hardware NVIDIA Tesla K40s in 2017 on Amazon Web Services\n",
      "Could not find price for IMPALA with hardware NVIDIA P100 in 2017 on Amazon Web Services\n",
      "Could not find price for BigGAN-deep 512x512 with hardware Google TPU v3 in 2018 on Google Cloud\n",
      "Could not find price for Megatron-BERT with hardware NVIDIA Tesla V100S PCIe 32 GB in 2019 on Amazon Web Services\n",
      "Could not find price for OpenAI Five with hardware Google TPU v3 in 2018 on Google Cloud\n",
      "Could not find price for Yuan 1.0 with hardware Google TPU v1 in 2021 on Google Cloud\n",
      "Could not find price for ERNIE 3.0 Titan with hardware Huawei Ascend 910,NVIDIA Tesla V100 DGXS 32 GB in 2021 on Amazon Web Services\n",
      "Could not find price for AlphaCode with hardware Google TPU v4,Google TPU v4i in 2021 on Google Cloud\n",
      "Could not find price for LLaMA-65B with hardware NVIDIA A100 in 2022 on Amazon Web Services\n"
     ]
    },
    {
     "data": {
      "text/plain": "{'ResNeXt-101 32x48d': 2.29,\n 'FTW': 2.29,\n 'RoBERTa Large': 2.29,\n 'Megatron-LM (8.3B)': 2.29,\n 'T5-3B': 1.26,\n 'T5-11B': 1.26,\n 'AlphaStar': 1.26,\n 'OpenAI Five Rerun': 2.29,\n 'Meena': 1.26,\n 'Turing-NLG': 2.29,\n 'GPT-3 175B (davinci)': 2.29,\n 'GShard (dense)': 1.26,\n 'ALIGN': 1.26,\n 'Megatron-Turing NLG 530B': 3.0,\n 'Gopher (280B)': 1.26,\n 'GLaM': 2.03,\n 'LaMDA': 1.26,\n 'Chinchilla': 2.03,\n 'PaLM (540B)': 2.03,\n 'OPT-175B': 3.0,\n 'Minerva (540B)': 2.03,\n 'GPT-3.5 (text-davinci-003)': 2.4,\n 'GPT-4': 2.4,\n 'PaLM 2': 2.03,\n 'Claude 2': 2.03,\n 'Llama 2-70B': 3.0,\n 'Falcon 180B': 2.4}"
     },
     "execution_count": 60,
     "metadata": {},
     "output_type": "execute_result"
    }
   ],
   "source": [
    "price_colname = 'Price per chip-hour (1-year CUD)'\n",
    "system_to_price = {}\n",
    "\n",
    "for i, row in frontier_pcd_df.iterrows():\n",
    "    # Subtract training time plus 2 months from publication date\n",
    "    if pd.isna(row['Training time (hours)']):\n",
    "        continue\n",
    "\n",
    "    training_time_offset = pd.Timedelta(hours=int(row['Training time (hours)']))\n",
    "    low_buffer_time_offset = pd.Timedelta(days=30)\n",
    "    mid_buffer_time_offset = pd.Timedelta(days=60)\n",
    "    high_buffer_time_offset = pd.Timedelta(days=150)\n",
    "\n",
    "    # convert publication date from float to datetime\n",
    "    pub_date = pd.to_datetime((row['Publication date']-1970) * 365.25, unit='D', origin='unix')\n",
    "\n",
    "    high_purchase_time = pub_date - (training_time_offset + low_buffer_time_offset)\n",
    "    mid_purchase_time = pub_date - (training_time_offset + mid_buffer_time_offset)\n",
    "    low_purchase_time = pub_date - (training_time_offset + high_buffer_time_offset)\n",
    "\n",
    "    hardware_model = row['Training hardware']\n",
    "\n",
    "    orgs = row['Organization'].split(',')\n",
    "    vendor = None\n",
    "    for org in orgs:\n",
    "        for key in org_to_cloud_vendor:\n",
    "            if key in org.lower():\n",
    "                vendor = org_to_cloud_vendor[key]\n",
    "                break\n",
    "\n",
    "    chip = row['Training hardware'].split(',')[0]\n",
    "    for key in chip_to_cloud_vendor:\n",
    "        if key in chip:\n",
    "            vendor = chip_to_cloud_vendor[key]\n",
    "            break\n",
    "\n",
    "    if vendor is None:\n",
    "        vendor = 'Amazon Web Services'  # default\n",
    "\n",
    "    # print(f\"{row['System']}, {vendor}, {hardware_model}, at {mid_purchase_time}\")\n",
    "\n",
    "    # Find the price of the hardware at the time of purchase\n",
    "    closest_price_dates_df = find_closest_price_dates(vendor, hardware_model, mid_purchase_time, price_df)\n",
    "    price_per_chip_hour = None\n",
    "    for i, price_row in closest_price_dates_df.iterrows():\n",
    "        if price_row['Price date'] <= mid_purchase_time:\n",
    "            price_per_chip_hour = price_row[price_colname]\n",
    "            break\n",
    "    if price_per_chip_hour is None:\n",
    "        for i, price_row in closest_price_dates_df.iterrows():\n",
    "            if price_row['Price date'] > mid_purchase_time:\n",
    "                price_per_chip_hour = price_row[price_colname]\n",
    "                break\n",
    "    if type(price_per_chip_hour) is str:\n",
    "        system_to_price[row['System']] = float(price_per_chip_hour.strip('$'))\n",
    "    else:\n",
    "        print(f\"Could not find price for {row['System']} with hardware {hardware_model} in {mid_purchase_time.year} on {vendor}\")\n",
    "        continue\n",
    "\n",
    "system_to_price"
   ],
   "metadata": {
    "collapsed": false,
    "ExecuteTime": {
     "end_time": "2024-01-31T15:08:33.493098900Z",
     "start_time": "2024-01-31T15:08:32.493971700Z"
    }
   }
  },
  {
   "cell_type": "code",
   "execution_count": 61,
   "outputs": [
    {
      "cell_type": "code",
      "execution_count": 12,
      "metadata": {},
      "outputs": [
        {
          "name": "stderr",
          "output_type": "stream",
          "text": [
            "/var/folders/s2/stl5t_bn7xg9vdfxxr71rzrc0000gn/T/ipykernel_75116/1143589437.py:9: SettingWithCopyWarning: \n",
            "A value is trying to be set on a copy of a slice from a DataFrame.\n",
            "Try using .loc[row_indexer,col_indexer] = value instead\n",
            "\n",
            "See the caveats in the documentation: https://pandas.pydata.org/pandas-docs/stable/user_guide/indexing.html#returning-a-view-versus-a-copy\n",
            "  frontier_pcd_df['Training time (chip hours)'] = chip_hours\n"
          ]
        }
      ],
      "source": [
        "chip_hours = []\n",
        "for i, row in frontier_pcd_df.iterrows():\n",
        "    if pd.isna(row['Hardware quantity']) or pd.isna(row['Training time (hours)']):\n",
        "        # TODO impute missing values\n",
        "        chip_hours.append(np.nan)\n",
        "    else:\n",
        "        chip_hours.append(row['Hardware quantity'] * row['Training time (hours)'])\n",
        "\n",
        "frontier_pcd_df['Training time (chip hours)'] = chip_hours"
      ]

    },
    {
     "data": {
      "text/plain": "{'ResNeXt-101 32x48d': 962569.4400000001,\n 'FTW': 1274258.5920000002,\n 'RoBERTa Large': 281395.2,\n 'Megatron-LM (8.3B)': 383400.96,\n 'T5-3B': 147214.9728,\n 'T5-11B': 310883.328,\n 'AlphaStar': 510935.04,\n 'OpenAI Five Rerun': 1466772.48,\n 'Meena': 928972.8,\n 'Turing-NLG': 605269.3504,\n 'GPT-3 175B (davinci)': 8134080.0,\n 'GShard (dense)': 1300561.92,\n 'ALIGN': 224050.176,\n 'Megatron-Turing NLG 530B': 10348800.0,\n 'Gopher (280B)': 4748083.2,\n 'GLaM': 2839531.5199999996,\n 'LaMDA': 1786982.4,\n 'Chinchilla': 3513681.2031999994,\n 'PaLM (540B)': 17062133.759999998,\n 'OPT-175B': 2437632.0,\n 'Minerva (540B)': 18508922.88,\n 'GPT-3.5 (text-davinci-003)': 19456966.656000003,\n 'GPT-4': 136800000.0,\n 'PaLM 2': 16457350.963200001,\n 'Claude 2': 16457350.963200001,\n 'Llama 2-70B': 33841152.0,\n 'Falcon 180B': 42467328.0}"
     },
     "execution_count": 61,
     "metadata": {},
     "output_type": "execute_result"
    }
   ],
   "source": [
    "# calculate training compute cost from training time and hardware\n",
    "system_to_cost = {}\n",
    "for i, row in frontier_pcd_df.iterrows():\n",
    "    cost = estimate_cost(row, system_to_price)\n",
    "    if cost is None:\n",
    "        continue\n",
    "    system_to_cost[row['System']] = cost\n",
    "\n",
    "system_to_cost"
   ],
   "metadata": {
    "collapsed": false,
    "ExecuteTime": {
     "end_time": "2024-01-31T15:08:33.493098900Z",
     "start_time": "2024-01-31T15:08:32.789438500Z"
    }
   }
  },
  {
   "cell_type": "code",
   "execution_count": 62,
   "outputs": [
    {
     "data": {
      "text/plain": "27"
     },
     "execution_count": 62,
     "metadata": {},
     "output_type": "execute_result"
    }
   ],
   "source": [
    "len(system_to_cost)"
   ],
   "metadata": {
    "collapsed": false,
    "ExecuteTime": {
     "end_time": "2024-01-31T15:08:33.494098300Z",
     "start_time": "2024-01-31T15:08:32.789438500Z"
    }
   }
  },
  {
   "cell_type": "code",
   "execution_count": 63,
   "outputs": [
    {
      "cell_type": "code",
      "execution_count": 13,
      "metadata": {},
      "outputs": [
        {
          "name": "stdout",
          "output_type": "stream",
          "text": [
            "Price date: 2019-07-01 00:00:00\n",
            "Price: $1.26\n"
          ]
        }
      ],
      "source": [
        "# Example usage\n",
        "example_vendor = \"Google Cloud\"\n",
        "example_hardware_model = \"Google TPU v3\"\n",
        "example_date = \"2019-07-15\" # Example date, format should be YYYY-MM-DD\n",
        "\n",
        "# Find the row\n",
        "closest_row_df = find_closest_price_dates(example_vendor, example_hardware_model, example_date, price_df)\n",
        "\n",
        "for i, row in closest_row_df.iterrows():\n",
        "    if row['Price date'] <= pd.to_datetime(example_date):\n",
        "        print(f\"Price date: {row['Price date']}\")\n",
        "        print(f\"Price: {row['Price per chip-hour (1-year CUD)']}\")\n",
        "        break    "
      ]
    },
    {
      "cell_type": "code",
      "execution_count": 14,
      "metadata": {},
      "outputs": [],
      "source": [
        "org_to_cloud_vendor = {\n",
        "    'google': 'Google Cloud',\n",
        "    'deepmind': 'Google Cloud',\n",
        "    'microsoft': 'Microsoft Azure',\n",
        "    'openai': 'Microsoft Azure',\n",
        "}"
      ]
    },
    {
      "cell_type": "code",
      "execution_count": 36,
      "metadata": {},
      "outputs": [
        {
          "name": "stdout",
          "output_type": "stream",
          "text": [
            "==== System: AlphaGo Fan ====\n",
            "Training time is required but no value found\n",
            "\n",
            "==== System: AlphaGo Lee ====\n",
            "Training time is required but no value found\n",
            "\n",
            "==== System: GNMT ====\n",
            "Trying NVIDIA Tesla K80 at 2016-01-30 00:00:00\n",
            "Trying Google Cloud, Price per chip-hour (1-year CUD)\n",
            "Could not find price\n",
            "Trying Google Cloud, Price per chip-hour (3-year CUD)\n",
            "Could not find price\n",
            "Trying Google Cloud, Price per chip-hour (on-demand)\n",
            "Found price: 1.4\n",
            "\n",
            "==== System: NASv3 (CIFAR-10) ====\n",
            "Training time is required but no value found\n",
            "\n",
            "==== System: AlphaGo Master ====\n",
            "Training time is required but no value found\n",
            "\n",
            "==== System: JFT ====\n",
            "Trying NVIDIA Tesla K80 at 2017-03-12 00:00:00\n",
            "Trying Google Cloud, Price per chip-hour (1-year CUD)\n",
            "Could not find price\n",
            "Trying Google Cloud, Price per chip-hour (3-year CUD)\n",
            "Could not find price\n",
            "Trying Google Cloud, Price per chip-hour (on-demand)\n",
            "Found price: 1.4\n",
            "\n",
            "==== System: OpenAI TI7 DOTA 1v1 ====\n",
            "Training time is required but no value found\n",
            "\n",
            "==== System: AlphaGo Zero ====\n",
            "Trying Google TPU v1 at 2017-07-30 00:00:00\n",
            "Trying Google Cloud, Price per chip-hour (1-year CUD)\n",
            "Could not find price\n",
            "Trying Google Cloud, Price per chip-hour (3-year CUD)\n",
            "Could not find price\n",
            "Trying Google Cloud, Price per chip-hour (on-demand)\n",
            "Could not find price\n",
            "Estimating price from FLOP/s and FLOP/$ trend\n",
            "Could not find FLOP/s for Google TPU v1\n",
            "==== System: AlphaZero ====\n",
            "Training time is required but no value found\n",
            "\n",
            "==== System: AmoebaNet-A (F=448) ====\n",
            "Trying NVIDIA Tesla K40s at 2017-11-30 00:00:00\n",
            "Trying Google Cloud, Price per chip-hour (1-year CUD)\n",
            "Could not find price\n",
            "Trying Google Cloud, Price per chip-hour (3-year CUD)\n",
            "Could not find price\n",
            "Trying Google Cloud, Price per chip-hour (on-demand)\n",
            "Could not find price\n",
            "Trying Amazon Web Services, Price per chip-hour (1-year CUD)\n",
            "Could not find price\n",
            "Trying Amazon Web Services, Price per chip-hour (3-year CUD)\n",
            "Could not find price\n",
            "Trying Amazon Web Services, Price per chip-hour (on-demand)\n",
            "Could not find price\n",
            "Trying Microsoft Azure, Price per chip-hour (1-year CUD)\n",
            "Could not find price\n",
            "Trying Microsoft Azure, Price per chip-hour (3-year CUD)\n",
            "Could not find price\n",
            "Trying Microsoft Azure, Price per chip-hour (on-demand)\n",
            "Could not find price\n",
            "Estimating price from FLOP/s and FLOP/$ trend\n",
            "Estimated price: 0.05271257202460601\n",
            "\n",
            "==== System: IMPALA ====\n",
            "Trying NVIDIA P100 at 2017-12-02 20:00:00\n",
            "Trying Google Cloud, Price per chip-hour (1-year CUD)\n",
            "Could not find price\n",
            "Trying Google Cloud, Price per chip-hour (3-year CUD)\n",
            "Could not find price\n",
            "Trying Google Cloud, Price per chip-hour (on-demand)\n",
            "Found price: 1.46\n",
            "\n",
            "==== System: ResNeXt-101 32x48d ====\n",
            "Training time is required but no value found\n",
            "\n",
            "==== System: FTW ====\n",
            "Training time is required but no value found\n",
            "\n",
            "==== System: BigGAN-deep 512x512 ====\n",
            "Trying Google TPU v3 at 2018-07-28 00:00:00\n",
            "Trying Google Cloud, Price per chip-hour (1-year CUD)\n",
            "Could not find price\n",
            "Trying Google Cloud, Price per chip-hour (3-year CUD)\n",
            "Could not find price\n",
            "Trying Google Cloud, Price per chip-hour (on-demand)\n",
            "Found price: 2.0\n",
            "\n",
            "==== System: RoBERTa Large ====\n",
            "Trying NVIDIA Tesla V100 DGXS 32 GB at 2019-04-27 00:00:00\n",
            "Trying Amazon Web Services, Price per chip-hour (1-year CUD)\n",
            "Found price: 2.29\n",
            "\n",
            "==== System: Megatron-BERT ====\n",
            "Trying NVIDIA Tesla V100S PCIe 32 GB at 2019-05-22 00:00:00\n",
            "Trying Amazon Web Services, Price per chip-hour (1-year CUD)\n",
            "Could not find price\n",
            "Trying Amazon Web Services, Price per chip-hour (3-year CUD)\n",
            "Could not find price\n",
            "Trying Amazon Web Services, Price per chip-hour (on-demand)\n",
            "Could not find price\n",
            "Trying Microsoft Azure, Price per chip-hour (1-year CUD)\n",
            "Could not find price\n",
            "Trying Microsoft Azure, Price per chip-hour (3-year CUD)\n",
            "Could not find price\n",
            "Trying Microsoft Azure, Price per chip-hour (on-demand)\n",
            "Could not find price\n",
            "Trying Google Cloud, Price per chip-hour (1-year CUD)\n",
            "Could not find price\n",
            "Trying Google Cloud, Price per chip-hour (3-year CUD)\n",
            "Could not find price\n",
            "Trying Google Cloud, Price per chip-hour (on-demand)\n",
            "Could not find price\n",
            "Estimating price from FLOP/s and FLOP/$ trend\n",
            "Estimated price: 0.1051277082983274\n",
            "\n",
            "==== System: Megatron-LM (8.3B) ====\n",
            "Trying NVIDIA Tesla V100 DGXS 32 GB at 2019-07-05 09:00:00\n",
            "Trying Amazon Web Services, Price per chip-hour (1-year CUD)\n",
            "Found price: 2.29\n",
            "\n",
            "==== System: T5-3B ====\n",
            "Training time is required but no value found\n",
            "\n",
            "==== System: T5-11B ====\n",
            "Trying Google TPU v3 at 2019-08-03 23:00:00\n",
            "Trying Google Cloud, Price per chip-hour (1-year CUD)\n",
            "Found price: 1.26\n",
            "\n",
            "==== System: AlphaStar ====\n",
            "Trying Google TPU v3 at 2019-07-18 00:00:00\n",
            "Trying Google Cloud, Price per chip-hour (1-year CUD)\n",
            "Found price: 1.26\n",
            "\n",
            "==== System: OpenAI Five ====\n",
            "Could not find hardware model for OpenAI Five\n",
            "\n",
            "==== System: OpenAI Five Rerun ====\n",
            "Training time is required but no value found\n",
            "\n",
            "==== System: Meena ====\n",
            "Trying Google TPU v3 at 2019-10-30 00:00:00\n",
            "Trying Google Cloud, Price per chip-hour (1-year CUD)\n",
            "Found price: 1.26\n",
            "\n",
            "==== System: Turing-NLG ====\n",
            "Training time is required but no value found\n",
            "\n",
            "==== System: GPT-3 175B (davinci) ====\n",
            "Trying NVIDIA Tesla V100 DGXS 32 GB at 2020-03-14 05:00:00\n",
            "Trying Microsoft Azure, Price per chip-hour (1-year CUD)\n",
            "Could not find price\n",
            "Trying Microsoft Azure, Price per chip-hour (3-year CUD)\n",
            "Could not find price\n",
            "Trying Microsoft Azure, Price per chip-hour (on-demand)\n",
            "Could not find price\n",
            "Trying Amazon Web Services, Price per chip-hour (1-year CUD)\n",
            "Found price: 2.29\n",
            "\n",
            "==== System: GShard (dense) ====\n",
            "Trying Google TPU v3 at 2020-03-20 00:00:00\n",
            "Trying Google Cloud, Price per chip-hour (1-year CUD)\n",
            "Found price: 1.26\n",
            "\n",
            "==== System: ALIGN ====\n",
            "Trying Google TPU v3 at 2021-03-28 13:00:00\n",
            "Trying Google Cloud, Price per chip-hour (1-year CUD)\n",
            "Found price: 1.26\n",
            "\n",
            "==== System: Megatron-Turing NLG 530B ====\n",
            "Trying NVIDIA A100 SXM4 80 GB at 2021-07-10 22:00:00\n",
            "Trying Microsoft Azure, Price per chip-hour (1-year CUD)\n",
            "Found price: 2.62\n",
            "\n",
            "==== System: Yuan 1.0 ====\n",
            "Training time is required but no value found\n",
            "\n",
            "==== System: Gopher (280B) ====\n",
            "Trying Google TPU v3 at 2021-08-31 16:00:00\n",
            "Trying Google Cloud, Price per chip-hour (1-year CUD)\n",
            "Found price: 1.26\n",
            "\n",
            "==== System: GLaM ====\n",
            "Trying Google TPU v4 at 2021-08-18 02:00:00\n",
            "Trying Google Cloud, Price per chip-hour (1-year CUD)\n",
            "Found price: 2.03\n",
            "\n",
            "==== System: ERNIE 3.0 Titan ====\n",
            "Training time is required but no value found\n",
            "\n",
            "==== System: AlphaCode ====\n",
            "Training time is required but no value found\n",
            "\n",
            "==== System: LaMDA ====\n",
            "Trying Google TPU v3 at 2021-10-15 07:00:00\n",
            "Trying Google Cloud, Price per chip-hour (1-year CUD)\n",
            "Found price: 1.26\n",
            "\n",
            "==== System: Chinchilla ====\n",
            "Training time is required but no value found\n",
            "\n",
            "==== System: PaLM (540B) ====\n",
            "Trying Google TPU v4 at 2021-12-08 00:00:00\n",
            "Trying Google Cloud, Price per chip-hour (1-year CUD)\n",
            "Found price: 2.03\n",
            "\n",
            "==== System: OPT-175B ====\n",
            "Trying NVIDIA A100 SXM4 80 GB at 2022-01-28 23:00:00\n",
            "Trying Amazon Web Services, Price per chip-hour (1-year CUD)\n",
            "Found price: 3.0\n",
            "\n",
            "==== System: Minerva (540B) ====\n",
            "Trying Google TPU v4 at 2022-04-01 00:00:00\n",
            "Trying Google Cloud, Price per chip-hour (1-year CUD)\n",
            "Found price: 2.03\n",
            "\n",
            "==== System: GPT-3.5 (text-davinci-003) ====\n",
            "Training time is required but no value found\n",
            "\n",
            "==== System: LLaMA-65B ====\n",
            "Trying NVIDIA A100 at 2022-12-05 04:00:00\n",
            "Trying Amazon Web Services, Price per chip-hour (1-year CUD)\n",
            "Could not find price\n",
            "Trying Amazon Web Services, Price per chip-hour (3-year CUD)\n",
            "Could not find price\n",
            "Trying Amazon Web Services, Price per chip-hour (on-demand)\n",
            "Could not find price\n",
            "Trying Microsoft Azure, Price per chip-hour (1-year CUD)\n",
            "Found price: 2.35\n",
            "\n",
            "==== System: GPT-4 ====\n",
            "Trying NVIDIA A100 SXM4 40 GB at 2022-10-11 00:00:00\n",
            "Trying Microsoft Azure, Price per chip-hour (1-year CUD)\n",
            "Could not find price\n",
            "Trying Microsoft Azure, Price per chip-hour (3-year CUD)\n",
            "Could not find price\n",
            "Trying Microsoft Azure, Price per chip-hour (on-demand)\n",
            "Could not find price\n",
            "Trying Amazon Web Services, Price per chip-hour (1-year CUD)\n",
            "Found price: 2.4\n",
            "\n",
            "==== System: PaLM 2 ====\n",
            "Training time is required but no value found\n",
            "\n",
            "==== System: Claude 2 ====\n",
            "Training time is required but no value found\n",
            "\n",
            "==== System: Llama 2-70B ====\n",
            "Trying NVIDIA A100 SXM4 80 GB at 2022-11-20 00:00:00\n",
            "Trying Amazon Web Services, Price per chip-hour (1-year CUD)\n",
            "Found price: 3.0\n",
            "\n",
            "==== System: Falcon 180B ====\n",
            "Trying NVIDIA A100 SXM4 40 GB at 2023-01-09 00:00:00\n",
            "Trying Amazon Web Services, Price per chip-hour (1-year CUD)\n",
            "Found price: 2.4\n",
            "\n"
          ]
        },
        {
          "data": {
            "text/plain": [
              "{'GNMT': 1.4,\n",
              " 'JFT': 1.4,\n",
              " 'AmoebaNet-A (F=448)': 0.05271257202460601,\n",
              " 'IMPALA': 1.46,\n",
              " 'BigGAN-deep 512x512': 2.0,\n",
              " 'RoBERTa Large': 2.29,\n",
              " 'Megatron-BERT': 0.1051277082983274,\n",
              " 'Megatron-LM (8.3B)': 2.29,\n",
              " 'T5-11B': 1.26,\n",
              " 'AlphaStar': 1.26,\n",
              " 'Meena': 1.26,\n",
              " 'GPT-3 175B (davinci)': 2.29,\n",
              " 'GShard (dense)': 1.26,\n",
              " 'ALIGN': 1.26,\n",
              " 'Megatron-Turing NLG 530B': 2.62,\n",
              " 'Gopher (280B)': 1.26,\n",
              " 'GLaM': 2.03,\n",
              " 'LaMDA': 1.26,\n",
              " 'PaLM (540B)': 2.03,\n",
              " 'OPT-175B': 3.0,\n",
              " 'Minerva (540B)': 2.03,\n",
              " 'LLaMA-65B': 2.35,\n",
              " 'GPT-4': 2.4,\n",
              " 'Llama 2-70B': 3.0,\n",
              " 'Falcon 180B': 2.4}"
            ]
           }
          ],
          "mesh3d": [
           {
            "type": "mesh3d",
            "colorbar": {
             "outlinewidth": 0,
             "ticks": ""
            }
           }
          ],
          "scatter": [
           {
            "fillpattern": {
             "fillmode": "overlay",
             "size": 10,
             "solidity": 0.2
            },
            "type": "scatter"
           }
          ],
          "parcoords": [
           {
            "type": "parcoords",
            "line": {
             "colorbar": {
              "outlinewidth": 0,
              "ticks": ""
             }
            }
           }
          ],
          "scatterpolargl": [
           {
            "type": "scatterpolargl",
            "marker": {
             "colorbar": {
              "outlinewidth": 0,
              "ticks": ""
             }
            }
           }
          ],
          "bar": [
           {
            "error_x": {
             "color": "#2a3f5f"
            },
            "error_y": {
             "color": "#2a3f5f"
            },
            "marker": {
             "line": {
              "color": "#E5ECF6",
              "width": 0.5
             },
             "pattern": {
              "fillmode": "overlay",
              "size": 10,
              "solidity": 0.2
             }
            },
            "type": "bar"
           }
          ],
          "scattergeo": [
           {
            "type": "scattergeo",
            "marker": {
             "colorbar": {
              "outlinewidth": 0,
              "ticks": ""
             }
            }
           }
          ],
          "scatterpolar": [
           {
            "type": "scatterpolar",
            "marker": {
             "colorbar": {
              "outlinewidth": 0,
              "ticks": ""
             }
            }
           }
          ],
          "histogram": [
           {
            "marker": {
             "pattern": {
              "fillmode": "overlay",
              "size": 10,
              "solidity": 0.2
             }
            },
            "type": "histogram"
           }
          ],
          "scattergl": [
           {
            "type": "scattergl",
            "marker": {
             "colorbar": {
              "outlinewidth": 0,
              "ticks": ""
             }
            }
           }
          ],
          "scatter3d": [
           {
            "type": "scatter3d",
            "line": {
             "colorbar": {
              "outlinewidth": 0,
              "ticks": ""
             }
            },
            "marker": {
             "colorbar": {
              "outlinewidth": 0,
              "ticks": ""
             }
            }
           }
          ],
          "scattermapbox": [
           {
            "type": "scattermapbox",
            "marker": {
             "colorbar": {
              "outlinewidth": 0,
              "ticks": ""
             }
            }
           }
          ],
          "scatterternary": [
           {
            "type": "scatterternary",
            "marker": {
             "colorbar": {
              "outlinewidth": 0,
              "ticks": ""
             }
            }
           }
          ],
          "scattercarpet": [
           {
            "type": "scattercarpet",
            "marker": {
             "colorbar": {
              "outlinewidth": 0,
              "ticks": ""
             }
            }
           }
          ],
          "carpet": [
           {
            "aaxis": {
             "endlinecolor": "#2a3f5f",
             "gridcolor": "white",
             "linecolor": "white",
             "minorgridcolor": "white",
             "startlinecolor": "#2a3f5f"
            },
            "baxis": {
             "endlinecolor": "#2a3f5f",
             "gridcolor": "white",
             "linecolor": "white",
             "minorgridcolor": "white",
             "startlinecolor": "#2a3f5f"
            },
            "type": "carpet"
           }
          ],
          "table": [
           {
            "cells": {
             "fill": {
              "color": "#EBF0F8"
             },
             "line": {
              "color": "white"
             }
            },
            "header": {
             "fill": {
              "color": "#C8D4E3"
             },
             "line": {
              "color": "white"
             }
            },
            "type": "table"
           }
          ],
          "barpolar": [
           {
            "marker": {
             "line": {
              "color": "#E5ECF6",
              "width": 0.5
             },
             "pattern": {
              "fillmode": "overlay",
              "size": 10,
              "solidity": 0.2
             }
            },
            "type": "barpolar"
           }
          ],
          "pie": [
           {
            "automargin": true,
            "type": "pie"
           }
          ]
         },
         "layout": {
          "autotypenumbers": "strict",
          "colorway": [
           "#636efa",
           "#EF553B",
           "#00cc96",
           "#ab63fa",
           "#FFA15A",
           "#19d3f3",
           "#FF6692",
           "#B6E880",
           "#FF97FF",
           "#FECB52"
          ],
          "font": {
           "color": "#2a3f5f"
          },
          "execution_count": 36,
          "metadata": {},
          "output_type": "execute_result"
        }
      ],
      "source": [
        "price_colname = 'Price per chip-hour (1-year CUD)'\n",
        "system_to_price = {}\n",
        "\n",
        "for i, row in frontier_pcd_df.iterrows():\n",
        "    price = find_price(row, price_df, hardware_df, pcd_hardware_model_colname, price_colname, org_to_cloud_vendor)\n",
        "    if price is None:\n",
        "        continue\n",
        "    else:\n",
        "        system_to_price[row['System']] = price\n",
        "\n",
        "system_to_price"
      ]
    },
    {
      "cell_type": "markdown",
      "metadata": {},
      "source": [
        "# Cost estimation"
      ]
    },
    {
      "cell_type": "markdown",
      "metadata": {},
      "source": [
        "TODO: inflation adjustment"
      ]
    },
    {
      "cell_type": "markdown",
      "metadata": {},
      "source": [
        "cost = price_per_chip_hour * chip_hours"
      ]
    },
    {
      "cell_type": "code",
      "execution_count": 37,
      "metadata": {},
      "outputs": [],
      "source": [
        "def estimate_cost(row, system_to_price):\n",
        "    system = row['System']\n",
        "    price = system_to_price.get(system)\n",
        "    if price is None:\n",
        "        return None\n",
        "\n",
        "    chip_hours = row['Training time (chip hours)']\n",
        "    if np.isnan(chip_hours):\n",
        "        return None\n",
        "\n",
        "    cost = price * chip_hours\n",
        "\n",
        "    # Check for base model\n",
        "    if not pd.isna(row['Base model']):\n",
        "        base_model_name = row['Base model']\n",
        "        base_model = frontier_pcd_df[frontier_pcd_df['System'] == base_model_name].squeeze()\n",
        "        base_cost = estimate_cost(base_model, system_to_price)\n",
        "        if base_cost is None:\n",
        "            return None\n",
        "        else:\n",
        "            cost += base_cost\n",
        "\n",
        "    return cost\n",
        "    "
      ]
    },
    {
      "cell_type": "code",
      "execution_count": 38,
      "metadata": {},
      "outputs": [
        {
          "data": {
            "text/plain": [
              "{'GNMT': 580608.0,\n",
              " 'JFT': 100800.0,\n",
              " 'AmoebaNet-A (F=448)': 3985.0704450602143,\n",
              " 'IMPALA': 146.0,\n",
              " 'BigGAN-deep 512x512': 24576.0,\n",
              " 'RoBERTa Large': 281395.2,\n",
              " 'Megatron-BERT': 74924.93821505114,\n",
              " 'Megatron-LM (8.3B)': 383400.96,\n",
              " 'T5-11B': 310883.328,\n",
              " 'AlphaStar': 510935.04,\n",
              " 'Meena': 928972.8,\n",
              " 'GPT-3 175B (davinci)': 8134080.0,\n",
              " 'GShard (dense)': 1300561.92,\n",
              " 'ALIGN': 224050.176,\n",
              " 'Megatron-Turing NLG 530B': 9037952.0,\n",
              " 'Gopher (280B)': 4748083.2,\n",
              " 'GLaM': 2839531.5199999996,\n",
              " 'LaMDA': 1786982.4,\n",
              " 'PaLM (540B)': 17062133.759999998,\n",
              " 'OPT-175B': 2437632.0,\n",
              " 'Minerva (540B)': 18508922.88,\n",
              " 'LLaMA-65B': 2406400.0,\n",
              " 'GPT-4': 136800000.0,\n",
              " 'Falcon 180B': 42467328.0}"

            ]
           ]
          },
          "execution_count": 38,
          "metadata": {},
          "output_type": "execute_result"
        }
      ],
      "source": [
        "system_to_cost = {}\n",
        "for i, row in frontier_pcd_df.iterrows():\n",
        "    cost = estimate_cost(row, system_to_price)\n",
        "    if cost is None:\n",
        "        continue\n",
        "    system_to_cost[row['System']] = cost\n",
        "\n",
        "system_to_cost"
      ]
    },
    {
      "cell_type": "markdown",
      "metadata": {},
      "source": [
        "# Regression"
      ]
    },
    {
      "cell_type": "code",
      "execution_count": null,
      "metadata": {},
      "outputs": [],
      "source": []
    },
    {
      "cell_type": "markdown",
      "metadata": {},
      "source": [
        "# Plots"
      ]
    },
    {
      "cell_type": "code",
      "execution_count": 44,
      "metadata": {},
      "outputs": [
        {
          "data": {
            "application/vnd.plotly.v1+json": {
              "config": {
                "plotlyServerURL": "https://plot.ly"
              },
              "data": [
                {
                  "line": {
                    "color": "#034752"
                  },
                  "mode": "markers+text",
                  "name": "GNMT",
                  "text": "GNMT",
                  "textposition": "top center",
                  "type": "scatter",
                  "x": [
                    "2016-09-26T00:00:00"
                  ],
                  "y": [
                    580608
                  ]
                },
                {
                  "line": {
                    "color": "#034752"
                  },
                  "mode": "markers+text",
                  "name": "JFT",
                  "text": "JFT",
                  "textposition": "top center",
                  "type": "scatter",
                  "x": [
                    "2017-07-10T00:00:00"
                  ],
                  "y": [
                    100800
                  ]
                },
                {
                  "line": {
                    "color": "#034752"
                  },
                  "mode": "markers+text",
                  "name": "AmoebaNet-A (F=448)",
                  "text": "AmoebaNet-A (F=448)",
                  "textposition": "top center",
                  "type": "scatter",
                  "x": [
                    "2018-02-05T00:00:00"
                  ],
                  "y": [
                    3985.0704450602143
                  ]
                },
                {
                  "line": {
                    "color": "#034752"
                  },
                  "mode": "markers+text",
                  "name": "IMPALA",
                  "text": "IMPALA",
                  "textposition": "top center",
                  "type": "scatter",
                  "x": [
                    "2018-02-05T00:00:00"
                  ],
                  "y": [
                    146
                  ]
                },
                {
                  "line": {
                    "color": "#034752"
                  },
                  "mode": "markers+text",
                  "name": "BigGAN-deep 512x512",
                  "text": "BigGAN-deep 512x512",
                  "textposition": "top center",
                  "type": "scatter",
                  "x": [
                    "2018-09-28T00:00:00"
                  ],
                  "y": [
                    24576
                  ]
                },
                {
                  "line": {
                    "color": "#034752"
                  },
                  "mode": "markers+text",
                  "name": "RoBERTa Large",
                  "text": "RoBERTa Large",
                  "textposition": "top center",
                  "type": "scatter",
                  "x": [
                    "2019-07-01T00:00:00"
                  ],
                  "y": [
                    281395.2
                  ]
                },
                {
                  "line": {
                    "color": "#034752"
                  },
                  "mode": "markers+text",
                  "name": "Megatron-BERT",
                  "text": "Megatron-BERT",
                  "textposition": "top center",
                  "type": "scatter",
                  "x": [
                    "2019-09-17T00:00:00"
                  ],
                  "y": [
                    74924.93821505114
                  ]
                },
                {
                  "line": {
                    "color": "#034752"
                  },
                  "mode": "markers+text",
                  "name": "Megatron-LM (8.3B)",
                  "text": "Megatron-LM (8.3B)",
                  "textposition": "top center",
                  "type": "scatter",
                  "x": [
                    "2019-09-17T00:00:00"
                  ],
                  "y": [
                    383400.96
                  ]
                },
                {
                  "line": {
                    "color": "#034752"
                  },
                  "mode": "markers+text",
                  "name": "T5-11B",
                  "text": "T5-11B",
                  "textposition": "top center",
                  "type": "scatter",
                  "x": [
                    "2019-10-23T00:00:00"
                  ],
                  "y": [
                    310883.328
                  ]
                },
                {
                  "line": {
                    "color": "#034752"
                  },
                  "mode": "markers+text",
                  "name": "AlphaStar",
                  "text": "AlphaStar",
                  "textposition": "top center",
                  "type": "scatter",
                  "x": [
                    "2019-10-30T00:00:00"
                  ],
                  "y": [
                    510935.04
                  ]
                },
                {
                  "line": {
                    "color": "#034752"
                  },
                  "mode": "markers+text",
                  "name": "Meena",
                  "text": "Meena",
                  "textposition": "top center",
                  "type": "scatter",
                  "x": [
                    "2020-01-28T00:00:00"
                  ],
                  "y": [
                    928972.8
                  ]
                },
                {
                  "line": {
                    "color": "#034752"
                  },
                  "mode": "markers+text",
                  "name": "GPT-3 175B (davinci)",
                  "text": "GPT-3 175B (davinci)",
                  "textposition": "top center",
                  "type": "scatter",
                  "x": [
                    "2020-05-28T00:00:00"
                  ],
                  "y": [
                    8134080
                  ]
                },
                {
                  "line": {
                    "color": "#034752"
                  },
                  "mode": "markers+text",
                  "name": "GShard (dense)",
                  "text": "GShard (dense)",
                  "textposition": "top center",
                  "type": "scatter",
                  "x": [
                    "2020-06-30T00:00:00"
                  ],
                  "y": [
                    1300561.92
                  ]
                },
                {
                  "line": {
                    "color": "#034752"
                  },
                  "mode": "markers+text",
                  "name": "ALIGN",
                  "text": "ALIGN",
                  "textposition": "top center",
                  "type": "scatter",
                  "x": [
                    "2021-06-11T00:00:00"
                  ],
                  "y": [
                    224050.176
                  ]
                },
                {
                  "line": {
                    "color": "#034752"
                  },
                  "mode": "markers+text",
                  "name": "Megatron-Turing NLG 530B",
                  "text": "Megatron-Turing NLG 530B",
                  "textposition": "top center",
                  "type": "scatter",
                  "x": [
                    "2021-10-11T00:00:00"
                  ],
                  "y": [
                    9037952
                  ]
                },
                {
                  "line": {
                    "color": "#034752"
                  },
                  "mode": "markers+text",
                  "name": "Gopher (280B)",
                  "text": "Gopher (280B)",
                  "textposition": "top center",
                  "type": "scatter",
                  "x": [
                    "2021-12-08T00:00:00"
                  ],
                  "y": [
                    4748083.2
                  ]
                },
                {
                  "line": {
                    "color": "#034752"
                  },
                  "mode": "markers+text",
                  "name": "GLaM",
                  "text": "GLaM",
                  "textposition": "top center",
                  "type": "scatter",
                  "x": [
                    "2021-12-13T00:00:00"
                  ],
                  "y": [
                    2839531.5199999996
                  ]
                },
                {
                  "line": {
                    "color": "#034752"
                  },
                  "mode": "markers+text",
                  "name": "LaMDA",
                  "text": "LaMDA",
                  "textposition": "top center",
                  "type": "scatter",
                  "x": [
                    "2022-02-10T00:00:00"
                  ],
                  "y": [
                    1786982.4
                  ]
                },
                {
                  "line": {
                    "color": "#034752"
                  },
                  "mode": "markers+text",
                  "name": "PaLM (540B)",
                  "text": "PaLM (540B)",
                  "textposition": "top center",
                  "type": "scatter",
                  "x": [
                    "2022-04-04T00:00:00"
                  ],
                  "y": [
                    17062133.759999998
                  ]
                },
                {
                  "line": {
                    "color": "#034752"
                  },
                  "mode": "markers+text",
                  "name": "OPT-175B",
                  "text": "OPT-175B",
                  "textposition": "top center",
                  "type": "scatter",
                  "x": [
                    "2022-05-02T00:00:00"
                  ],
                  "y": [
                    2437632
                  ]
                },
                {
                  "line": {
                    "color": "#034752"
                  },
                  "mode": "markers+text",
                  "name": "Minerva (540B)",
                  "text": "Minerva (540B)",
                  "textposition": "top center",
                  "type": "scatter",
                  "x": [
                    "2022-06-29T00:00:00"
                  ],
                  "y": [
                    18508922.88
                  ]
                },
                {
                  "line": {
                    "color": "#034752"
                  },
                  "mode": "markers+text",
                  "name": "LLaMA-65B",
                  "text": "LLaMA-65B",
                  "textposition": "top center",
                  "type": "scatter",
                  "x": [
                    "2023-02-24T00:00:00"
                  ],
                  "y": [
                    2406400
                  ]
                },
                {
                  "line": {
                    "color": "#034752"
                  },
                  "mode": "markers+text",
                  "name": "GPT-4",
                  "text": "GPT-4",
                  "textposition": "top center",
                  "type": "scatter",
                  "x": [
                    "2023-03-15T00:00:00"
                  ],
                  "y": [
                    136800000
                  ]
                },
                {
                  "line": {
                    "color": "#034752"
                  },
                  "mode": "markers+text",
                  "name": "Falcon 180B",
                  "text": "Falcon 180B",
                  "textposition": "top center",
                  "type": "scatter",
                  "x": [
                    "2023-09-06T00:00:00"
                  ],
                  "y": [
                    42467328
                  ]
                }
              ],
              "layout": {
                "autosize": false,
                "font": {
                  "size": 14
                },
                "height": 600,
                "margin": {
                  "b": 10,
                  "l": 10,
                  "r": 10,
                  "t": 40
                },
                "showlegend": false,
                "template": {
                  "data": {
                    "bar": [
                      {
                        "error_x": {
                          "color": "#2a3f5f"
                        },
                        "error_y": {
                          "color": "#2a3f5f"
                        },
                        "marker": {
                          "line": {
                            "color": "#E5ECF6",
                            "width": 0.5
                          },
                          "pattern": {
                            "fillmode": "overlay",
                            "size": 10,
                            "solidity": 0.2
                          }
                        },
                        "type": "bar"
                      }
                    ],
                    "barpolar": [
                      {
                        "marker": {
                          "line": {
                            "color": "#E5ECF6",
                            "width": 0.5
                          },
                          "pattern": {
                            "fillmode": "overlay",
                            "size": 10,
                            "solidity": 0.2
                          }
                        },
                        "type": "barpolar"
                      }
                    ],
                    "carpet": [
                      {
                        "aaxis": {
                          "endlinecolor": "#2a3f5f",
                          "gridcolor": "white",
                          "linecolor": "white",
                          "minorgridcolor": "white",
                          "startlinecolor": "#2a3f5f"
                        },
                        "baxis": {
                          "endlinecolor": "#2a3f5f",
                          "gridcolor": "white",
                          "linecolor": "white",
                          "minorgridcolor": "white",
                          "startlinecolor": "#2a3f5f"
                        },
                        "type": "carpet"
                      }
                    ],
                    "choropleth": [
                      {
                        "colorbar": {
                          "outlinewidth": 0,
                          "ticks": ""
                        },
                        "type": "choropleth"
                      }
                    ],
                    "contour": [
                      {
                        "colorbar": {
                          "outlinewidth": 0,
                          "ticks": ""
                        },
                        "colorscale": [
                          [
                            0,
                            "#0d0887"
                          ],
                          [
                            0.1111111111111111,
                            "#46039f"
                          ],
                          [
                            0.2222222222222222,
                            "#7201a8"
                          ],
                          [
                            0.3333333333333333,
                            "#9c179e"
                          ],
                          [
                            0.4444444444444444,
                            "#bd3786"
                          ],
                          [
                            0.5555555555555556,
                            "#d8576b"
                          ],
                          [
                            0.6666666666666666,
                            "#ed7953"
                          ],
                          [
                            0.7777777777777778,
                            "#fb9f3a"
                          ],
                          [
                            0.8888888888888888,
                            "#fdca26"
                          ],
                          [
                            1,
                            "#f0f921"
                          ]
                        ],
                        "type": "contour"
                      }
                    ],
                    "contourcarpet": [
                      {
                        "colorbar": {
                          "outlinewidth": 0,
                          "ticks": ""
                        },
                        "type": "contourcarpet"
                      }
                    ],
                    "heatmap": [
                      {
                        "colorbar": {
                          "outlinewidth": 0,
                          "ticks": ""
                        },
                        "colorscale": [
                          [
                            0,
                            "#0d0887"
                          ],
                          [
                            0.1111111111111111,
                            "#46039f"
                          ],
                          [
                            0.2222222222222222,
                            "#7201a8"
                          ],
                          [
                            0.3333333333333333,
                            "#9c179e"
                          ],
                          [
                            0.4444444444444444,
                            "#bd3786"
                          ],
                          [
                            0.5555555555555556,
                            "#d8576b"
                          ],
                          [
                            0.6666666666666666,
                            "#ed7953"
                          ],
                          [
                            0.7777777777777778,
                            "#fb9f3a"
                          ],
                          [
                            0.8888888888888888,
                            "#fdca26"
                          ],
                          [
                            1,
                            "#f0f921"
                          ]
                        ],
                        "type": "heatmap"
                      }
                    ],
                    "heatmapgl": [
                      {
                        "colorbar": {
                          "outlinewidth": 0,
                          "ticks": ""
                        },
                        "colorscale": [
                          [
                            0,
                            "#0d0887"
                          ],
                          [
                            0.1111111111111111,
                            "#46039f"
                          ],
                          [
                            0.2222222222222222,
                            "#7201a8"
                          ],
                          [
                            0.3333333333333333,
                            "#9c179e"
                          ],
                          [
                            0.4444444444444444,
                            "#bd3786"
                          ],
                          [
                            0.5555555555555556,
                            "#d8576b"
                          ],
                          [
                            0.6666666666666666,
                            "#ed7953"
                          ],
                          [
                            0.7777777777777778,
                            "#fb9f3a"
                          ],
                          [
                            0.8888888888888888,
                            "#fdca26"
                          ],
                          [
                            1,
                            "#f0f921"
                          ]
                        ],
                        "type": "heatmapgl"
                      }
                    ],
                    "histogram": [
                      {
                        "marker": {
                          "pattern": {
                            "fillmode": "overlay",
                            "size": 10,
                            "solidity": 0.2
                          }
                        },
                        "type": "histogram"
                      }
                    ],
                    "histogram2d": [
                      {
                        "colorbar": {
                          "outlinewidth": 0,
                          "ticks": ""
                        },
                        "colorscale": [
                          [
                            0,
                            "#0d0887"
                          ],
                          [
                            0.1111111111111111,
                            "#46039f"
                          ],
                          [
                            0.2222222222222222,
                            "#7201a8"
                          ],
                          [
                            0.3333333333333333,
                            "#9c179e"
                          ],
                          [
                            0.4444444444444444,
                            "#bd3786"
                          ],
                          [
                            0.5555555555555556,
                            "#d8576b"
                          ],
                          [
                            0.6666666666666666,
                            "#ed7953"
                          ],
                          [
                            0.7777777777777778,
                            "#fb9f3a"
                          ],
                          [
                            0.8888888888888888,
                            "#fdca26"
                          ],
                          [
                            1,
                            "#f0f921"
                          ]
                        ],
                        "type": "histogram2d"
                      }
                    ],
                    "histogram2dcontour": [
                      {
                        "colorbar": {
                          "outlinewidth": 0,
                          "ticks": ""
                        },
                        "colorscale": [
                          [
                            0,
                            "#0d0887"
                          ],
                          [
                            0.1111111111111111,
                            "#46039f"
                          ],
                          [
                            0.2222222222222222,
                            "#7201a8"
                          ],
                          [
                            0.3333333333333333,
                            "#9c179e"
                          ],
                          [
                            0.4444444444444444,
                            "#bd3786"
                          ],
                          [
                            0.5555555555555556,
                            "#d8576b"
                          ],
                          [
                            0.6666666666666666,
                            "#ed7953"
                          ],
                          [
                            0.7777777777777778,
                            "#fb9f3a"
                          ],
                          [
                            0.8888888888888888,
                            "#fdca26"
                          ],
                          [
                            1,
                            "#f0f921"
                          ]
                        ],
                        "type": "histogram2dcontour"
                      }
                    ],
                    "mesh3d": [
                      {
                        "colorbar": {
                          "outlinewidth": 0,
                          "ticks": ""
                        },
                        "type": "mesh3d"
                      }
                    ],
                    "parcoords": [
                      {
                        "line": {
                          "colorbar": {
                            "outlinewidth": 0,
                            "ticks": ""
                          }
                        },
                        "type": "parcoords"
                      }
                    ],
                    "pie": [
                      {
                        "automargin": true,
                        "type": "pie"
                      }
                    ],
                    "scatter": [
                      {
                        "fillpattern": {
                          "fillmode": "overlay",
                          "size": 10,
                          "solidity": 0.2
                        },
                        "type": "scatter"
                      }
                    ],
                    "scatter3d": [
                      {
                        "line": {
                          "colorbar": {
                            "outlinewidth": 0,
                            "ticks": ""
                          }
                        },
                        "marker": {
                          "colorbar": {
                            "outlinewidth": 0,
                            "ticks": ""
                          }
                        },
                        "type": "scatter3d"
                      }
                    ],
                    "scattercarpet": [
                      {
                        "marker": {
                          "colorbar": {
                            "outlinewidth": 0,
                            "ticks": ""
                          }
                        },
                        "type": "scattercarpet"
                      }
                    ],
                    "scattergeo": [
                      {
                        "marker": {
                          "colorbar": {
                            "outlinewidth": 0,
                            "ticks": ""
                          }
                        },
                        "type": "scattergeo"
                      }
                    ],
                    "scattergl": [
                      {
                        "marker": {
                          "colorbar": {
                            "outlinewidth": 0,
                            "ticks": ""
                          }
                        },
                        "type": "scattergl"
                      }
                    ],
                    "scattermapbox": [
                      {
                        "marker": {
                          "colorbar": {
                            "outlinewidth": 0,
                            "ticks": ""
                          }
                        },
                        "type": "scattermapbox"
                      }
                    ],
                    "scatterpolar": [
                      {
                        "marker": {
                          "colorbar": {
                            "outlinewidth": 0,
                            "ticks": ""
                          }
                        },
                        "type": "scatterpolar"
                      }
                    ],
                    "scatterpolargl": [
                      {
                        "marker": {
                          "colorbar": {
                            "outlinewidth": 0,
                            "ticks": ""
                          }
                        },
                        "type": "scatterpolargl"
                      }
                    ],
                    "scatterternary": [
                      {
                        "marker": {
                          "colorbar": {
                            "outlinewidth": 0,
                            "ticks": ""
                          }
                        },
                        "type": "scatterternary"
                      }
                    ],
                    "surface": [
                      {
                        "colorbar": {
                          "outlinewidth": 0,
                          "ticks": ""
                        },
                        "colorscale": [
                          [
                            0,
                            "#0d0887"
                          ],
                          [
                            0.1111111111111111,
                            "#46039f"
                          ],
                          [
                            0.2222222222222222,
                            "#7201a8"
                          ],
                          [
                            0.3333333333333333,
                            "#9c179e"
                          ],
                          [
                            0.4444444444444444,
                            "#bd3786"
                          ],
                          [
                            0.5555555555555556,
                            "#d8576b"
                          ],
                          [
                            0.6666666666666666,
                            "#ed7953"
                          ],
                          [
                            0.7777777777777778,
                            "#fb9f3a"
                          ],
                          [
                            0.8888888888888888,
                            "#fdca26"
                          ],
                          [
                            1,
                            "#f0f921"
                          ]
                        ],
                        "type": "surface"
                      }
                    ],
                    "table": [
                      {
                        "cells": {
                          "fill": {
                            "color": "#EBF0F8"
                          },
                          "line": {
                            "color": "white"
                          }
                        },
                        "header": {
                          "fill": {
                            "color": "#C8D4E3"
                          },
                          "line": {
                            "color": "white"
                          }
                        },
                        "type": "table"
                      }
                    ]
                  },
                  "layout": {
                    "annotationdefaults": {
                      "arrowcolor": "#2a3f5f",
                      "arrowhead": 0,
                      "arrowwidth": 1
                    },
                    "autotypenumbers": "strict",
                    "coloraxis": {
                      "colorbar": {
                        "outlinewidth": 0,
                        "ticks": ""
                      }
                    },
                    "colorscale": {
                      "diverging": [
                        [
                          0,
                          "#8e0152"
                        ],
                        [
                          0.1,
                          "#c51b7d"
                        ],
                        [
                          0.2,
                          "#de77ae"
                        ],
                        [
                          0.3,
                          "#f1b6da"
                        ],
                        [
                          0.4,
                          "#fde0ef"
                        ],
                        [
                          0.5,
                          "#f7f7f7"
                        ],
                        [
                          0.6,
                          "#e6f5d0"
                        ],
                        [
                          0.7,
                          "#b8e186"
                        ],
                        [
                          0.8,
                          "#7fbc41"
                        ],
                        [
                          0.9,
                          "#4d9221"
                        ],
                        [
                          1,
                          "#276419"
                        ]
                      ],
                      "sequential": [
                        [
                          0,
                          "#0d0887"
                        ],
                        [
                          0.1111111111111111,
                          "#46039f"
                        ],
                        [
                          0.2222222222222222,
                          "#7201a8"
                        ],
                        [
                          0.3333333333333333,
                          "#9c179e"
                        ],
                        [
                          0.4444444444444444,
                          "#bd3786"
                        ],
                        [
                          0.5555555555555556,
                          "#d8576b"
                        ],
                        [
                          0.6666666666666666,
                          "#ed7953"
                        ],
                        [
                          0.7777777777777778,
                          "#fb9f3a"
                        ],
                        [
                          0.8888888888888888,
                          "#fdca26"
                        ],
                        [
                          1,
                          "#f0f921"
                        ]
                      ],
                      "sequentialminus": [
                        [
                          0,
                          "#0d0887"
                        ],
                        [
                          0.1111111111111111,
                          "#46039f"
                        ],
                        [
                          0.2222222222222222,
                          "#7201a8"
                        ],
                        [
                          0.3333333333333333,
                          "#9c179e"
                        ],
                        [
                          0.4444444444444444,
                          "#bd3786"
                        ],
                        [
                          0.5555555555555556,
                          "#d8576b"
                        ],
                        [
                          0.6666666666666666,
                          "#ed7953"
                        ],
                        [
                          0.7777777777777778,
                          "#fb9f3a"
                        ],
                        [
                          0.8888888888888888,
                          "#fdca26"
                        ],
                        [
                          1,
                          "#f0f921"
                        ]
                      ]
                    },
                    "colorway": [
                      "#636efa",
                      "#EF553B",
                      "#00cc96",
                      "#ab63fa",
                      "#FFA15A",
                      "#19d3f3",
                      "#FF6692",
                      "#B6E880",
                      "#FF97FF",
                      "#FECB52"
                    ],
                    "font": {
                      "color": "#2a3f5f"
                    },
                    "geo": {
                      "bgcolor": "white",
                      "lakecolor": "white",
                      "landcolor": "#E5ECF6",
                      "showlakes": true,
                      "showland": true,
                      "subunitcolor": "white"
                    },
                    "hoverlabel": {
                      "align": "left"
                    },
                    "hovermode": "closest",
                    "mapbox": {
                      "style": "light"
                    },
                    "paper_bgcolor": "white",
                    "plot_bgcolor": "#E5ECF6",
                    "polar": {
                      "angularaxis": {
                        "gridcolor": "white",
                        "linecolor": "white",
                        "ticks": ""
                      },
                      "bgcolor": "#E5ECF6",
                      "radialaxis": {
                        "gridcolor": "white",
                        "linecolor": "white",
                        "ticks": ""
                      }
                    },
                    "scene": {
                      "xaxis": {
                        "backgroundcolor": "#E5ECF6",
                        "gridcolor": "white",
                        "gridwidth": 2,
                        "linecolor": "white",
                        "showbackground": true,
                        "ticks": "",
                        "zerolinecolor": "white"
                      },
                      "yaxis": {
                        "backgroundcolor": "#E5ECF6",
                        "gridcolor": "white",
                        "gridwidth": 2,
                        "linecolor": "white",
                        "showbackground": true,
                        "ticks": "",
                        "zerolinecolor": "white"
                      },
                      "zaxis": {
                        "backgroundcolor": "#E5ECF6",
                        "gridcolor": "white",
                        "gridwidth": 2,
                        "linecolor": "white",
                        "showbackground": true,
                        "ticks": "",
                        "zerolinecolor": "white"
                      }
                    },
                    "shapedefaults": {
                      "line": {
                        "color": "#2a3f5f"
                      }
                    },
                    "ternary": {
                      "aaxis": {
                        "gridcolor": "white",
                        "linecolor": "white",
                        "ticks": ""
                      },
                      "baxis": {
                        "gridcolor": "white",
                        "linecolor": "white",
                        "ticks": ""
                      },
                      "bgcolor": "#E5ECF6",
                      "caxis": {
                        "gridcolor": "white",
                        "linecolor": "white",
                        "ticks": ""
                      }
                    },
                    "title": {
                      "x": 0.05
                    },
                    "xaxis": {
                      "automargin": true,
                      "gridcolor": "white",
                      "linecolor": "white",
                      "ticks": "",
                      "title": {
                        "standoff": 15
                      },
                      "zerolinecolor": "white",
                      "zerolinewidth": 2
                    },
                    "yaxis": {
                      "automargin": true,
                      "gridcolor": "white",
                      "linecolor": "white",
                      "ticks": "",
                      "title": {
                        "standoff": 15
                      },
                      "zerolinecolor": "white",
                      "zerolinewidth": 2
                    }
                  }
                },
                "title": {
                  "text": "Cost of cloud compute to train frontier ML systems"
                },
                "width": 800,
                "xaxis": {
                  "title": {
                    "text": "Publication date"
                  }
                },
                "yaxis": {
                  "title": {
                    "text": "Cost (USD, nominal)"
                  },
                  "type": "log"
                }
              }
            }
          },
          "metadata": {},
          "output_type": "display_data"
        }
      ],
      "source": [
        "import plotly.graph_objects as go\n",
        "\n",
        "fig = go.Figure()\n",
        "for i, row in frontier_pcd_df.iterrows():\n",
        "    system = row['System']\n",
        "    cost = system_to_cost.get(system)\n",
        "    if cost is None:\n",
        "        continue\n",
        "    publication_date = row['Publication date']\n",
        "\n",
        "    fig.add_trace(go.Scatter(\n",
        "        x=[publication_date],\n",
        "        y=[cost],\n",
        "        name=system,\n",
        "        text=system,\n",
        "        textposition='top center',\n",
        "        line=dict(color='#034752'),\n",
        "        mode='markers+text',\n",
        "    ))\n",
        "\n",
        "# log y axis\n",
        "fig.update_yaxes(type=\"log\")\n",
        "# no legend\n",
        "fig.update_layout(showlegend=False)\n",
        "\n",
        "# axis labels\n",
        "fig.update_xaxes(title_text='Publication date')\n",
        "fig.update_yaxes(title_text='Cost (USD, nominal)')\n",
        "\n",
        "# title\n",
        "fig.update_layout(title_text='Cost of cloud compute to train frontier ML systems')\n",
        "\n",
        "# update size\n",
        "fig.update_layout(\n",
        "    autosize=False,\n",
        "    width=800,\n",
        "    height=600,\n",
        ")\n",
        "\n",
        "# font size\n",
        "fig.update_layout(\n",
        "    font=dict(\n",
        "        size=14,\n",
        "    )\n",
        ")\n",
        "\n",
        "# axis limits\n",
        "# fig.update_xaxes(range=['2017-01-01', '2025-01-01'])\n",
        "# fig.update_yaxes(range=[5, 8])\n",
        "\n",
        "# margins\n",
        "fig.update_layout(margin=dict(l=10, r=10, t=40, b=10))\n",
        "\n",
        "save_plot(fig, 'results/', 'cost_scatter')\n",
        "\n",
        "fig.show()"
      ]
    },
    {
      "cell_type": "code",
      "execution_count": 40,
      "metadata": {},
      "outputs": [
        {
          "data": {
            "application/vnd.plotly.v1+json": {
              "config": {
                "plotlyServerURL": "https://plot.ly"
              },
              "data": [
                {
                  "marker": {
                    "color": "#034752"
                  },
                  "name": "GNMT",
                  "type": "bar",
                  "x": [
                    "GNMT"
                  ],
                  "y": [
                    580608
                  ]
                },
                {
                  "marker": {
                    "color": "#034752"
                  },
                  "name": "JFT",
                  "type": "bar",
                  "x": [
                    "JFT"
                  ],
                  "y": [
                    100800
                  ]
                },
                {
                  "marker": {
                    "color": "#034752"
                  },
                  "name": "AmoebaNet-A (F=448)",
                  "type": "bar",
                  "x": [
                    "AmoebaNet-A (F=448)"
                  ],
                  "y": [
                    3985.0704450602143
                  ]
                },
                {
                  "marker": {
                    "color": "#034752"
                  },
                  "name": "IMPALA",
                  "type": "bar",
                  "x": [
                    "IMPALA"
                  ],
                  "y": [
                    146
                  ]
                },
                {
                  "marker": {
                    "color": "#034752"
                  },
                  "name": "BigGAN-deep 512x512",
                  "type": "bar",
                  "x": [
                    "BigGAN-deep 512x512"
                  ],
                  "y": [
                    24576
                  ]
                },
                {
                  "marker": {
                    "color": "#034752"
                  },
                  "name": "RoBERTa Large",
                  "type": "bar",
                  "x": [
                    "RoBERTa Large"
                  ],
                  "y": [
                    281395.2
                  ]
                },
                {
                  "marker": {
                    "color": "#034752"
                  },
                  "name": "Megatron-BERT",
                  "type": "bar",
                  "x": [
                    "Megatron-BERT"
                  ],
                  "y": [
                    74924.93821505114
                  ]
                },
                {
                  "marker": {
                    "color": "#034752"
                  },
                  "name": "Megatron-LM (8.3B)",
                  "type": "bar",
                  "x": [
                    "Megatron-LM (8.3B)"
                  ],
                  "y": [
                    383400.96
                  ]
                },
                {
                  "marker": {
                    "color": "#034752"
                  },
                  "name": "T5-11B",
                  "type": "bar",
                  "x": [
                    "T5-11B"
                  ],
                  "y": [
                    310883.328
                  ]
                },
                {
                  "marker": {
                    "color": "#034752"
                  },
                  "name": "AlphaStar",
                  "type": "bar",
                  "x": [
                    "AlphaStar"
                  ],
                  "y": [
                    510935.04
                  ]
                },
                {
                  "marker": {
                    "color": "#034752"
                  },
                  "name": "Meena",
                  "type": "bar",
                  "x": [
                    "Meena"
                  ],
                  "y": [
                    928972.8
                  ]
                },
                {
                  "marker": {
                    "color": "#034752"
                  },
                  "name": "GPT-3 175B (davinci)",
                  "type": "bar",
                  "x": [
                    "GPT-3 175B (davinci)"
                  ],
                  "y": [
                    8134080
                  ]
                },
                {
                  "marker": {
                    "color": "#034752"
                  },
                  "name": "GShard (dense)",
                  "type": "bar",
                  "x": [
                    "GShard (dense)"
                  ],
                  "y": [
                    1300561.92
                  ]
                },
                {
                  "marker": {
                    "color": "#034752"
                  },
                  "name": "ALIGN",
                  "type": "bar",
                  "x": [
                    "ALIGN"
                  ],
                  "y": [
                    224050.176
                  ]
                },
                {
                  "marker": {
                    "color": "#034752"
                  },
                  "name": "Megatron-Turing NLG 530B",
                  "type": "bar",
                  "x": [
                    "Megatron-Turing NLG 530B"
                  ],
                  "y": [
                    9037952
                  ]
                },
                {
                  "marker": {
                    "color": "#034752"
                  },
                  "name": "Gopher (280B)",
                  "type": "bar",
                  "x": [
                    "Gopher (280B)"
                  ],
                  "y": [
                    4748083.2
                  ]
                },
                {
                  "marker": {
                    "color": "#034752"
                  },
                  "name": "GLaM",
                  "type": "bar",
                  "x": [
                    "GLaM"
                  ],
                  "y": [
                    2839531.5199999996
                  ]
                },
                {
                  "marker": {
                    "color": "#034752"
                  },
                  "name": "LaMDA",
                  "type": "bar",
                  "x": [
                    "LaMDA"
                  ],
                  "y": [
                    1786982.4
                  ]
                },
                {
                  "marker": {
                    "color": "#034752"
                  },
                  "name": "PaLM (540B)",
                  "type": "bar",
                  "x": [
                    "PaLM (540B)"
                  ],
                  "y": [
                    17062133.759999998
                  ]
                },
                {
                  "marker": {
                    "color": "#034752"
                  },
                  "name": "OPT-175B",
                  "type": "bar",
                  "x": [
                    "OPT-175B"
                  ],
                  "y": [
                    2437632
                  ]
                },
                {
                  "marker": {
                    "color": "#034752"
                  },
                  "name": "Minerva (540B)",
                  "type": "bar",
                  "x": [
                    "Minerva (540B)"
                  ],
                  "y": [
                    18508922.88
                  ]
                },
                {
                  "marker": {
                    "color": "#034752"
                  },
                  "name": "LLaMA-65B",
                  "type": "bar",
                  "x": [
                    "LLaMA-65B"
                  ],
                  "y": [
                    2406400
                  ]
                },
                {
                  "marker": {
                    "color": "#034752"
                  },
                  "name": "GPT-4",
                  "type": "bar",
                  "x": [
                    "GPT-4"
                  ],
                  "y": [
                    136800000
                  ]
                },
                {
                  "marker": {
                    "color": "#034752"
                  },
                  "name": "Falcon 180B",
                  "type": "bar",
                  "x": [
                    "Falcon 180B"
                  ],
                  "y": [
                    42467328
                  ]
                }
              ],
              "layout": {
                "autosize": false,
                "font": {
                  "size": 14
                },
                "height": 600,
                "margin": {
                  "b": 10,
                  "l": 10,
                  "r": 10,
                  "t": 40
                },
                "showlegend": false,
                "template": {
                  "data": {
                    "bar": [
                      {
                        "error_x": {
                          "color": "#2a3f5f"
                        },
                        "error_y": {
                          "color": "#2a3f5f"
                        },
                        "marker": {
                          "line": {
                            "color": "#E5ECF6",
                            "width": 0.5
                          },
                          "pattern": {
                            "fillmode": "overlay",
                            "size": 10,
                            "solidity": 0.2
                          }
                        },
                        "type": "bar"
                      }
                    ],
                    "barpolar": [
                      {
                        "marker": {
                          "line": {
                            "color": "#E5ECF6",
                            "width": 0.5
                          },
                          "pattern": {
                            "fillmode": "overlay",
                            "size": 10,
                            "solidity": 0.2
                          }
                        },
                        "type": "barpolar"
                      }
                    ],
                    "carpet": [
                      {
                        "aaxis": {
                          "endlinecolor": "#2a3f5f",
                          "gridcolor": "white",
                          "linecolor": "white",
                          "minorgridcolor": "white",
                          "startlinecolor": "#2a3f5f"
                        },
                        "baxis": {
                          "endlinecolor": "#2a3f5f",
                          "gridcolor": "white",
                          "linecolor": "white",
                          "minorgridcolor": "white",
                          "startlinecolor": "#2a3f5f"
                        },
                        "type": "carpet"
                      }
                    ],
                    "choropleth": [
                      {
                        "colorbar": {
                          "outlinewidth": 0,
                          "ticks": ""
                        },
                        "type": "choropleth"
                      }
                    ],
                    "contour": [
                      {
                        "colorbar": {
                          "outlinewidth": 0,
                          "ticks": ""
                        },
                        "colorscale": [
                          [
                            0,
                            "#0d0887"
                          ],
                          [
                            0.1111111111111111,
                            "#46039f"
                          ],
                          [
                            0.2222222222222222,
                            "#7201a8"
                          ],
                          [
                            0.3333333333333333,
                            "#9c179e"
                          ],
                          [
                            0.4444444444444444,
                            "#bd3786"
                          ],
                          [
                            0.5555555555555556,
                            "#d8576b"
                          ],
                          [
                            0.6666666666666666,
                            "#ed7953"
                          ],
                          [
                            0.7777777777777778,
                            "#fb9f3a"
                          ],
                          [
                            0.8888888888888888,
                            "#fdca26"
                          ],
                          [
                            1,
                            "#f0f921"
                          ]
                        ],
                        "type": "contour"
                      }
                    ],
                    "contourcarpet": [
                      {
                        "colorbar": {
                          "outlinewidth": 0,
                          "ticks": ""
                        },
                        "type": "contourcarpet"
                      }
                    ],
                    "heatmap": [
                      {
                        "colorbar": {
                          "outlinewidth": 0,
                          "ticks": ""
                        },
                        "colorscale": [
                          [
                            0,
                            "#0d0887"
                          ],
                          [
                            0.1111111111111111,
                            "#46039f"
                          ],
                          [
                            0.2222222222222222,
                            "#7201a8"
                          ],
                          [
                            0.3333333333333333,
                            "#9c179e"
                          ],
                          [
                            0.4444444444444444,
                            "#bd3786"
                          ],
                          [
                            0.5555555555555556,
                            "#d8576b"
                          ],
                          [
                            0.6666666666666666,
                            "#ed7953"
                          ],
                          [
                            0.7777777777777778,
                            "#fb9f3a"
                          ],
                          [
                            0.8888888888888888,
                            "#fdca26"
                          ],
                          [
                            1,
                            "#f0f921"
                          ]
                        ],
                        "type": "heatmap"
                      }
                    ],
                    "heatmapgl": [
                      {
                        "colorbar": {
                          "outlinewidth": 0,
                          "ticks": ""
                        },
                        "colorscale": [
                          [
                            0,
                            "#0d0887"
                          ],
                          [
                            0.1111111111111111,
                            "#46039f"
                          ],
                          [
                            0.2222222222222222,
                            "#7201a8"
                          ],
                          [
                            0.3333333333333333,
                            "#9c179e"
                          ],
                          [
                            0.4444444444444444,
                            "#bd3786"
                          ],
                          [
                            0.5555555555555556,
                            "#d8576b"
                          ],
                          [
                            0.6666666666666666,
                            "#ed7953"
                          ],
                          [
                            0.7777777777777778,
                            "#fb9f3a"
                          ],
                          [
                            0.8888888888888888,
                            "#fdca26"
                          ],
                          [
                            1,
                            "#f0f921"
                          ]
                        ],
                        "type": "heatmapgl"
                      }
                    ],
                    "histogram": [
                      {
                        "marker": {
                          "pattern": {
                            "fillmode": "overlay",
                            "size": 10,
                            "solidity": 0.2
                          }
                        },
                        "type": "histogram"
                      }
                    ],
                    "histogram2d": [
                      {
                        "colorbar": {
                          "outlinewidth": 0,
                          "ticks": ""
                        },
                        "colorscale": [
                          [
                            0,
                            "#0d0887"
                          ],
                          [
                            0.1111111111111111,
                            "#46039f"
                          ],
                          [
                            0.2222222222222222,
                            "#7201a8"
                          ],
                          [
                            0.3333333333333333,
                            "#9c179e"
                          ],
                          [
                            0.4444444444444444,
                            "#bd3786"
                          ],
                          [
                            0.5555555555555556,
                            "#d8576b"
                          ],
                          [
                            0.6666666666666666,
                            "#ed7953"
                          ],
                          [
                            0.7777777777777778,
                            "#fb9f3a"
                          ],
                          [
                            0.8888888888888888,
                            "#fdca26"
                          ],
                          [
                            1,
                            "#f0f921"
                          ]
                        ],
                        "type": "histogram2d"
                      }
                    ],
                    "histogram2dcontour": [
                      {
                        "colorbar": {
                          "outlinewidth": 0,
                          "ticks": ""
                        },
                        "colorscale": [
                          [
                            0,
                            "#0d0887"
                          ],
                          [
                            0.1111111111111111,
                            "#46039f"
                          ],
                          [
                            0.2222222222222222,
                            "#7201a8"
                          ],
                          [
                            0.3333333333333333,
                            "#9c179e"
                          ],
                          [
                            0.4444444444444444,
                            "#bd3786"
                          ],
                          [
                            0.5555555555555556,
                            "#d8576b"
                          ],
                          [
                            0.6666666666666666,
                            "#ed7953"
                          ],
                          [
                            0.7777777777777778,
                            "#fb9f3a"
                          ],
                          [
                            0.8888888888888888,
                            "#fdca26"
                          ],
                          [
                            1,
                            "#f0f921"
                          ]
                        ],
                        "type": "histogram2dcontour"
                      }
                    ],
                    "mesh3d": [
                      {
                        "colorbar": {
                          "outlinewidth": 0,
                          "ticks": ""
                        },
                        "type": "mesh3d"
                      }
                    ],
                    "parcoords": [
                      {
                        "line": {
                          "colorbar": {
                            "outlinewidth": 0,
                            "ticks": ""
                          }
                        },
                        "type": "parcoords"
                      }
                    ],
                    "pie": [
                      {
                        "automargin": true,
                        "type": "pie"
                      }
                    ],
                    "scatter": [
                      {
                        "fillpattern": {
                          "fillmode": "overlay",
                          "size": 10,
                          "solidity": 0.2
                        },
                        "type": "scatter"
                      }
                    ],
                    "scatter3d": [
                      {
                        "line": {
                          "colorbar": {
                            "outlinewidth": 0,
                            "ticks": ""
                          }
                        },
                        "marker": {
                          "colorbar": {
                            "outlinewidth": 0,
                            "ticks": ""
                          }
                        },
                        "type": "scatter3d"
                      }
                    ],
                    "scattercarpet": [
                      {
                        "marker": {
                          "colorbar": {
                            "outlinewidth": 0,
                            "ticks": ""
                          }
                        },
                        "type": "scattercarpet"
                      }
                    ],
                    "scattergeo": [
                      {
                        "marker": {
                          "colorbar": {
                            "outlinewidth": 0,
                            "ticks": ""
                          }
                        },
                        "type": "scattergeo"
                      }
                    ],
                    "scattergl": [
                      {
                        "marker": {
                          "colorbar": {
                            "outlinewidth": 0,
                            "ticks": ""
                          }
                        },
                        "type": "scattergl"
                      }
                    ],
                    "scattermapbox": [
                      {
                        "marker": {
                          "colorbar": {
                            "outlinewidth": 0,
                            "ticks": ""
                          }
                        },
                        "type": "scattermapbox"
                      }
                    ],
                    "scatterpolar": [
                      {
                        "marker": {
                          "colorbar": {
                            "outlinewidth": 0,
                            "ticks": ""
                          }
                        },
                        "type": "scatterpolar"
                      }
                    ],
                    "scatterpolargl": [
                      {
                        "marker": {
                          "colorbar": {
                            "outlinewidth": 0,
                            "ticks": ""
                          }
                        },
                        "type": "scatterpolargl"
                      }
                    ],
                    "scatterternary": [
                      {
                        "marker": {
                          "colorbar": {
                            "outlinewidth": 0,
                            "ticks": ""
                          }
                        },
                        "type": "scatterternary"
                      }
                    ],
                    "surface": [
                      {
                        "colorbar": {
                          "outlinewidth": 0,
                          "ticks": ""
                        },
                        "colorscale": [
                          [
                            0,
                            "#0d0887"
                          ],
                          [
                            0.1111111111111111,
                            "#46039f"
                          ],
                          [
                            0.2222222222222222,
                            "#7201a8"
                          ],
                          [
                            0.3333333333333333,
                            "#9c179e"
                          ],
                          [
                            0.4444444444444444,
                            "#bd3786"
                          ],
                          [
                            0.5555555555555556,
                            "#d8576b"
                          ],
                          [
                            0.6666666666666666,
                            "#ed7953"
                          ],
                          [
                            0.7777777777777778,
                            "#fb9f3a"
                          ],
                          [
                            0.8888888888888888,
                            "#fdca26"
                          ],
                          [
                            1,
                            "#f0f921"
                          ]
                        ],
                        "type": "surface"
                      }
                    ],
                    "table": [
                      {
                        "cells": {
                          "fill": {
                            "color": "#EBF0F8"
                          },
                          "line": {
                            "color": "white"
                          }
                        },
                        "header": {
                          "fill": {
                            "color": "#C8D4E3"
                          },
                          "line": {
                            "color": "white"
                          }
                        },
                        "type": "table"
                      }
                    ]
                  },
                  "layout": {
                    "annotationdefaults": {
                      "arrowcolor": "#2a3f5f",
                      "arrowhead": 0,
                      "arrowwidth": 1
                    },
                    "autotypenumbers": "strict",
                    "coloraxis": {
                      "colorbar": {
                        "outlinewidth": 0,
                        "ticks": ""
                      }
                    },
                    "colorscale": {
                      "diverging": [
                        [
                          0,
                          "#8e0152"
                        ],
                        [
                          0.1,
                          "#c51b7d"
                        ],
                        [
                          0.2,
                          "#de77ae"
                        ],
                        [
                          0.3,
                          "#f1b6da"
                        ],
                        [
                          0.4,
                          "#fde0ef"
                        ],
                        [
                          0.5,
                          "#f7f7f7"
                        ],
                        [
                          0.6,
                          "#e6f5d0"
                        ],
                        [
                          0.7,
                          "#b8e186"
                        ],
                        [
                          0.8,
                          "#7fbc41"
                        ],
                        [
                          0.9,
                          "#4d9221"
                        ],
                        [
                          1,
                          "#276419"
                        ]
                      ],
                      "sequential": [
                        [
                          0,
                          "#0d0887"
                        ],
                        [
                          0.1111111111111111,
                          "#46039f"
                        ],
                        [
                          0.2222222222222222,
                          "#7201a8"
                        ],
                        [
                          0.3333333333333333,
                          "#9c179e"
                        ],
                        [
                          0.4444444444444444,
                          "#bd3786"
                        ],
                        [
                          0.5555555555555556,
                          "#d8576b"
                        ],
                        [
                          0.6666666666666666,
                          "#ed7953"
                        ],
                        [
                          0.7777777777777778,
                          "#fb9f3a"
                        ],
                        [
                          0.8888888888888888,
                          "#fdca26"
                        ],
                        [
                          1,
                          "#f0f921"
                        ]
                      ],
                      "sequentialminus": [
                        [
                          0,
                          "#0d0887"
                        ],
                        [
                          0.1111111111111111,
                          "#46039f"
                        ],
                        [
                          0.2222222222222222,
                          "#7201a8"
                        ],
                        [
                          0.3333333333333333,
                          "#9c179e"
                        ],
                        [
                          0.4444444444444444,
                          "#bd3786"
                        ],
                        [
                          0.5555555555555556,
                          "#d8576b"
                        ],
                        [
                          0.6666666666666666,
                          "#ed7953"
                        ],
                        [
                          0.7777777777777778,
                          "#fb9f3a"
                        ],
                        [
                          0.8888888888888888,
                          "#fdca26"
                        ],
                        [
                          1,
                          "#f0f921"
                        ]
                      ]
                    },
                    "colorway": [
                      "#636efa",
                      "#EF553B",
                      "#00cc96",
                      "#ab63fa",
                      "#FFA15A",
                      "#19d3f3",
                      "#FF6692",
                      "#B6E880",
                      "#FF97FF",
                      "#FECB52"
                    ],
                    "font": {
                      "color": "#2a3f5f"
                    },
                    "geo": {
                      "bgcolor": "white",
                      "lakecolor": "white",
                      "landcolor": "#E5ECF6",
                      "showlakes": true,
                      "showland": true,
                      "subunitcolor": "white"
                    },
                    "hoverlabel": {
                      "align": "left"
                    },
                    "hovermode": "closest",
                    "mapbox": {
                      "style": "light"
                    },
                    "paper_bgcolor": "white",
                    "plot_bgcolor": "#E5ECF6",
                    "polar": {
                      "angularaxis": {
                        "gridcolor": "white",
                        "linecolor": "white",
                        "ticks": ""
                      },
                      "bgcolor": "#E5ECF6",
                      "radialaxis": {
                        "gridcolor": "white",
                        "linecolor": "white",
                        "ticks": ""
                      }
                    },
                    "scene": {
                      "xaxis": {
                        "backgroundcolor": "#E5ECF6",
                        "gridcolor": "white",
                        "gridwidth": 2,
                        "linecolor": "white",
                        "showbackground": true,
                        "ticks": "",
                        "zerolinecolor": "white"
                      },
                      "yaxis": {
                        "backgroundcolor": "#E5ECF6",
                        "gridcolor": "white",
                        "gridwidth": 2,
                        "linecolor": "white",
                        "showbackground": true,
                        "ticks": "",
                        "zerolinecolor": "white"
                      },
                      "zaxis": {
                        "backgroundcolor": "#E5ECF6",
                        "gridcolor": "white",
                        "gridwidth": 2,
                        "linecolor": "white",
                        "showbackground": true,
                        "ticks": "",
                        "zerolinecolor": "white"
                      }
                    },
                    "shapedefaults": {
                      "line": {
                        "color": "#2a3f5f"
                      }
                    },
                    "ternary": {
                      "aaxis": {
                        "gridcolor": "white",
                        "linecolor": "white",
                        "ticks": ""
                      },
                      "baxis": {
                        "gridcolor": "white",
                        "linecolor": "white",
                        "ticks": ""
                      },
                      "bgcolor": "#E5ECF6",
                      "caxis": {
                        "gridcolor": "white",
                        "linecolor": "white",
                        "ticks": ""
                      }
                    },
                    "title": {
                      "x": 0.05
                    },
                    "xaxis": {
                      "automargin": true,
                      "gridcolor": "white",
                      "linecolor": "white",
                      "ticks": "",
                      "title": {
                        "standoff": 15
                      },
                      "zerolinecolor": "white",
                      "zerolinewidth": 2
                    },
                    "yaxis": {
                      "automargin": true,
                      "gridcolor": "white",
                      "linecolor": "white",
                      "ticks": "",
                      "title": {
                        "standoff": 15
                      },
                      "zerolinecolor": "white",
                      "zerolinewidth": 2
                    }
                  }
                },
                "title": {
                  "text": "Cost of cloud compute to train frontier ML systems"
                },
                "width": 800,
                "xaxis": {
                  "title": {
                    "text": "System"
                  }
                },
                "yaxis": {
                  "range": [
                    0,
                    8
                  ],
                  "title": {
                    "text": "Cost (USD, nominal)"
                  },
                  "type": "log"
                }
              }
            }
          },
          "annotationdefaults": {
           "arrowcolor": "#2a3f5f",
           "arrowhead": 0,
           "arrowwidth": 1
          },
          "geo": {
           "bgcolor": "white",
           "landcolor": "#E5ECF6",
           "subunitcolor": "white",
           "showland": true,
           "showlakes": true,
           "lakecolor": "white"
          },
          "title": {
           "x": 0.05
          },
          "mapbox": {
           "style": "light"
          }
         }
        },
        "yaxis": {
         "type": "log",
         "title": {
          "text": "Cost (USD, nominal)"
         },
         "range": [
          5,
          8
         ]
        },
        "showlegend": false,
        "xaxis": {
         "title": {
          "text": "Publication date"
         },
         "range": [
          "2018-01-01",
          "2025-01-01"
         ]
        },
        "title": {
         "text": "Cost of cloud compute to train frontier ML systems"
        },
        "autosize": false,
        "width": 800,
        "height": 600,
        "font": {
         "size": 14
        },
        "margin": {
         "l": 10,
         "r": 10,
         "t": 40,
         "b": 10
        }
       },
       "config": {
        "plotlyServerURL": "https://plot.ly"
       }
      },
      "text/html": "<div>                            <div id=\"dccbcedf-088d-4463-ae0e-73ba909cfabe\" class=\"plotly-graph-div\" style=\"height:600px; width:800px;\"></div>            <script type=\"text/javascript\">                require([\"plotly\"], function(Plotly) {                    window.PLOTLYENV=window.PLOTLYENV || {};                                    if (document.getElementById(\"dccbcedf-088d-4463-ae0e-73ba909cfabe\")) {                    Plotly.newPlot(                        \"dccbcedf-088d-4463-ae0e-73ba909cfabe\",                        [{\"line\":{\"color\":\"#034752\"},\"mode\":\"markers+text\",\"name\":\"ResNeXt-101 32x48d\",\"text\":\"ResNeXt-101 32x48d\",\"textposition\":\"top center\",\"x\":[2018.3360730593606],\"y\":[962569.4400000001],\"type\":\"scatter\"},{\"line\":{\"color\":\"#034752\"},\"mode\":\"markers+text\",\"name\":\"FTW\",\"text\":\"FTW\",\"textposition\":\"top center\",\"x\":[2018.5054794520547],\"y\":[1274258.5920000002],\"type\":\"scatter\"},{\"line\":{\"color\":\"#034752\"},\"mode\":\"markers+text\",\"name\":\"RoBERTa Large\",\"text\":\"RoBERTa Large\",\"textposition\":\"top center\",\"x\":[2019.5],\"y\":[281395.2],\"type\":\"scatter\"},{\"line\":{\"color\":\"#034752\"},\"mode\":\"markers+text\",\"name\":\"Megatron-LM (8.3B)\",\"text\":\"Megatron-LM (8.3B)\",\"textposition\":\"top center\",\"x\":[2019.7105022831051],\"y\":[383400.96],\"type\":\"scatter\"},{\"line\":{\"color\":\"#034752\"},\"mode\":\"markers+text\",\"name\":\"T5-3B\",\"text\":\"T5-3B\",\"textposition\":\"top center\",\"x\":[2019.8102739726028],\"y\":[147214.9728],\"type\":\"scatter\"},{\"line\":{\"color\":\"#034752\"},\"mode\":\"markers+text\",\"name\":\"T5-11B\",\"text\":\"T5-11B\",\"textposition\":\"top center\",\"x\":[2019.8102739726028],\"y\":[310883.328],\"type\":\"scatter\"},{\"line\":{\"color\":\"#034752\"},\"mode\":\"markers+text\",\"name\":\"AlphaStar\",\"text\":\"AlphaStar\",\"textposition\":\"top center\",\"x\":[2019.8294520547945],\"y\":[510935.04],\"type\":\"scatter\"},{\"line\":{\"color\":\"#034752\"},\"mode\":\"markers+text\",\"name\":\"OpenAI Five Rerun\",\"text\":\"OpenAI Five Rerun\",\"textposition\":\"top center\",\"x\":[2019.9495433789955],\"y\":[1466772.48],\"type\":\"scatter\"},{\"line\":{\"color\":\"#034752\"},\"mode\":\"markers+text\",\"name\":\"Meena\",\"text\":\"Meena\",\"textposition\":\"top center\",\"x\":[2020.0739726027398],\"y\":[928972.8],\"type\":\"scatter\"},{\"line\":{\"color\":\"#034752\"},\"mode\":\"markers+text\",\"name\":\"Turing-NLG\",\"text\":\"Turing-NLG\",\"textposition\":\"top center\",\"x\":[2020.116210045662],\"y\":[605269.3504],\"type\":\"scatter\"},{\"line\":{\"color\":\"#034752\"},\"mode\":\"markers+text\",\"name\":\"GPT-3 175B (davinci)\",\"text\":\"GPT-3 175B (davinci)\",\"textposition\":\"top center\",\"x\":[2020.407305936073],\"y\":[8134080.0],\"type\":\"scatter\"},{\"line\":{\"color\":\"#034752\"},\"mode\":\"markers+text\",\"name\":\"GShard (dense)\",\"text\":\"GShard (dense)\",\"textposition\":\"top center\",\"x\":[2020.4961187214612],\"y\":[1300561.92],\"type\":\"scatter\"},{\"line\":{\"color\":\"#034752\"},\"mode\":\"markers+text\",\"name\":\"ALIGN\",\"text\":\"ALIGN\",\"textposition\":\"top center\",\"x\":[2021.4440639269408],\"y\":[224050.176],\"type\":\"scatter\"},{\"line\":{\"color\":\"#034752\"},\"mode\":\"markers+text\",\"name\":\"Megatron-Turing NLG 530B\",\"text\":\"Megatron-Turing NLG 530B\",\"textposition\":\"top center\",\"x\":[2021.777397260274],\"y\":[10348800.0],\"type\":\"scatter\"},{\"line\":{\"color\":\"#034752\"},\"mode\":\"markers+text\",\"name\":\"Gopher (280B)\",\"text\":\"Gopher (280B)\",\"textposition\":\"top center\",\"x\":[2021.9358447488585],\"y\":[4748083.2],\"type\":\"scatter\"},{\"line\":{\"color\":\"#034752\"},\"mode\":\"markers+text\",\"name\":\"GLaM\",\"text\":\"GLaM\",\"textposition\":\"top center\",\"x\":[2021.9495433789955],\"y\":[2839531.5199999996],\"type\":\"scatter\"},{\"line\":{\"color\":\"#034752\"},\"mode\":\"markers+text\",\"name\":\"LaMDA\",\"text\":\"LaMDA\",\"textposition\":\"top center\",\"x\":[2022.10799086758],\"y\":[1786982.4],\"type\":\"scatter\"},{\"line\":{\"color\":\"#034752\"},\"mode\":\"markers+text\",\"name\":\"Chinchilla\",\"text\":\"Chinchilla\",\"textposition\":\"top center\",\"x\":[2022.2433789954339],\"y\":[3513681.2031999994],\"type\":\"scatter\"},{\"line\":{\"color\":\"#034752\"},\"mode\":\"markers+text\",\"name\":\"PaLM (540B)\",\"text\":\"PaLM (540B)\",\"textposition\":\"top center\",\"x\":[2022.2582191780823],\"y\":[17062133.759999998],\"type\":\"scatter\"},{\"line\":{\"color\":\"#034752\"},\"mode\":\"markers+text\",\"name\":\"OPT-175B\",\"text\":\"OPT-175B\",\"textposition\":\"top center\",\"x\":[2022.3360730593606],\"y\":[2437632.0],\"type\":\"scatter\"},{\"line\":{\"color\":\"#034752\"},\"mode\":\"markers+text\",\"name\":\"Minerva (540B)\",\"text\":\"Minerva (540B)\",\"textposition\":\"top center\",\"x\":[2022.4933789954339],\"y\":[18508922.88],\"type\":\"scatter\"},{\"line\":{\"color\":\"#034752\"},\"mode\":\"markers+text\",\"name\":\"GPT-3.5 (text-davinci-003)\",\"text\":\"GPT-3.5 (text-davinci-003)\",\"textposition\":\"top center\",\"x\":[2022.907305936073],\"y\":[19456966.656000003],\"type\":\"scatter\"},{\"line\":{\"color\":\"#034752\"},\"mode\":\"markers+text\",\"name\":\"GPT-4\",\"text\":\"GPT-4\",\"textposition\":\"top center\",\"x\":[2023.2050228310502],\"y\":[136800000.0],\"type\":\"scatter\"},{\"line\":{\"color\":\"#034752\"},\"mode\":\"markers+text\",\"name\":\"PaLM 2\",\"text\":\"PaLM 2\",\"textposition\":\"top center\",\"x\":[2023.35799086758],\"y\":[16457350.963200001],\"type\":\"scatter\"},{\"line\":{\"color\":\"#034752\"},\"mode\":\"markers+text\",\"name\":\"Claude 2\",\"text\":\"Claude 2\",\"textposition\":\"top center\",\"x\":[2023.527397260274],\"y\":[16457350.963200001],\"type\":\"scatter\"},{\"line\":{\"color\":\"#034752\"},\"mode\":\"markers+text\",\"name\":\"Llama 2-70B\",\"text\":\"Llama 2-70B\",\"textposition\":\"top center\",\"x\":[2023.5465753424658],\"y\":[33841152.0],\"type\":\"scatter\"},{\"line\":{\"color\":\"#034752\"},\"mode\":\"markers+text\",\"name\":\"Falcon 180B\",\"text\":\"Falcon 180B\",\"textposition\":\"top center\",\"x\":[2023.6803652968038],\"y\":[42467328.0],\"type\":\"scatter\"}],                        {\"template\":{\"data\":{\"histogram2dcontour\":[{\"type\":\"histogram2dcontour\",\"colorbar\":{\"outlinewidth\":0,\"ticks\":\"\"},\"colorscale\":[[0.0,\"#0d0887\"],[0.1111111111111111,\"#46039f\"],[0.2222222222222222,\"#7201a8\"],[0.3333333333333333,\"#9c179e\"],[0.4444444444444444,\"#bd3786\"],[0.5555555555555556,\"#d8576b\"],[0.6666666666666666,\"#ed7953\"],[0.7777777777777778,\"#fb9f3a\"],[0.8888888888888888,\"#fdca26\"],[1.0,\"#f0f921\"]]}],\"choropleth\":[{\"type\":\"choropleth\",\"colorbar\":{\"outlinewidth\":0,\"ticks\":\"\"}}],\"histogram2d\":[{\"type\":\"histogram2d\",\"colorbar\":{\"outlinewidth\":0,\"ticks\":\"\"},\"colorscale\":[[0.0,\"#0d0887\"],[0.1111111111111111,\"#46039f\"],[0.2222222222222222,\"#7201a8\"],[0.3333333333333333,\"#9c179e\"],[0.4444444444444444,\"#bd3786\"],[0.5555555555555556,\"#d8576b\"],[0.6666666666666666,\"#ed7953\"],[0.7777777777777778,\"#fb9f3a\"],[0.8888888888888888,\"#fdca26\"],[1.0,\"#f0f921\"]]}],\"heatmap\":[{\"type\":\"heatmap\",\"colorbar\":{\"outlinewidth\":0,\"ticks\":\"\"},\"colorscale\":[[0.0,\"#0d0887\"],[0.1111111111111111,\"#46039f\"],[0.2222222222222222,\"#7201a8\"],[0.3333333333333333,\"#9c179e\"],[0.4444444444444444,\"#bd3786\"],[0.5555555555555556,\"#d8576b\"],[0.6666666666666666,\"#ed7953\"],[0.7777777777777778,\"#fb9f3a\"],[0.8888888888888888,\"#fdca26\"],[1.0,\"#f0f921\"]]}],\"heatmapgl\":[{\"type\":\"heatmapgl\",\"colorbar\":{\"outlinewidth\":0,\"ticks\":\"\"},\"colorscale\":[[0.0,\"#0d0887\"],[0.1111111111111111,\"#46039f\"],[0.2222222222222222,\"#7201a8\"],[0.3333333333333333,\"#9c179e\"],[0.4444444444444444,\"#bd3786\"],[0.5555555555555556,\"#d8576b\"],[0.6666666666666666,\"#ed7953\"],[0.7777777777777778,\"#fb9f3a\"],[0.8888888888888888,\"#fdca26\"],[1.0,\"#f0f921\"]]}],\"contourcarpet\":[{\"type\":\"contourcarpet\",\"colorbar\":{\"outlinewidth\":0,\"ticks\":\"\"}}],\"contour\":[{\"type\":\"contour\",\"colorbar\":{\"outlinewidth\":0,\"ticks\":\"\"},\"colorscale\":[[0.0,\"#0d0887\"],[0.1111111111111111,\"#46039f\"],[0.2222222222222222,\"#7201a8\"],[0.3333333333333333,\"#9c179e\"],[0.4444444444444444,\"#bd3786\"],[0.5555555555555556,\"#d8576b\"],[0.6666666666666666,\"#ed7953\"],[0.7777777777777778,\"#fb9f3a\"],[0.8888888888888888,\"#fdca26\"],[1.0,\"#f0f921\"]]}],\"surface\":[{\"type\":\"surface\",\"colorbar\":{\"outlinewidth\":0,\"ticks\":\"\"},\"colorscale\":[[0.0,\"#0d0887\"],[0.1111111111111111,\"#46039f\"],[0.2222222222222222,\"#7201a8\"],[0.3333333333333333,\"#9c179e\"],[0.4444444444444444,\"#bd3786\"],[0.5555555555555556,\"#d8576b\"],[0.6666666666666666,\"#ed7953\"],[0.7777777777777778,\"#fb9f3a\"],[0.8888888888888888,\"#fdca26\"],[1.0,\"#f0f921\"]]}],\"mesh3d\":[{\"type\":\"mesh3d\",\"colorbar\":{\"outlinewidth\":0,\"ticks\":\"\"}}],\"scatter\":[{\"fillpattern\":{\"fillmode\":\"overlay\",\"size\":10,\"solidity\":0.2},\"type\":\"scatter\"}],\"parcoords\":[{\"type\":\"parcoords\",\"line\":{\"colorbar\":{\"outlinewidth\":0,\"ticks\":\"\"}}}],\"scatterpolargl\":[{\"type\":\"scatterpolargl\",\"marker\":{\"colorbar\":{\"outlinewidth\":0,\"ticks\":\"\"}}}],\"bar\":[{\"error_x\":{\"color\":\"#2a3f5f\"},\"error_y\":{\"color\":\"#2a3f5f\"},\"marker\":{\"line\":{\"color\":\"#E5ECF6\",\"width\":0.5},\"pattern\":{\"fillmode\":\"overlay\",\"size\":10,\"solidity\":0.2}},\"type\":\"bar\"}],\"scattergeo\":[{\"type\":\"scattergeo\",\"marker\":{\"colorbar\":{\"outlinewidth\":0,\"ticks\":\"\"}}}],\"scatterpolar\":[{\"type\":\"scatterpolar\",\"marker\":{\"colorbar\":{\"outlinewidth\":0,\"ticks\":\"\"}}}],\"histogram\":[{\"marker\":{\"pattern\":{\"fillmode\":\"overlay\",\"size\":10,\"solidity\":0.2}},\"type\":\"histogram\"}],\"scattergl\":[{\"type\":\"scattergl\",\"marker\":{\"colorbar\":{\"outlinewidth\":0,\"ticks\":\"\"}}}],\"scatter3d\":[{\"type\":\"scatter3d\",\"line\":{\"colorbar\":{\"outlinewidth\":0,\"ticks\":\"\"}},\"marker\":{\"colorbar\":{\"outlinewidth\":0,\"ticks\":\"\"}}}],\"scattermapbox\":[{\"type\":\"scattermapbox\",\"marker\":{\"colorbar\":{\"outlinewidth\":0,\"ticks\":\"\"}}}],\"scatterternary\":[{\"type\":\"scatterternary\",\"marker\":{\"colorbar\":{\"outlinewidth\":0,\"ticks\":\"\"}}}],\"scattercarpet\":[{\"type\":\"scattercarpet\",\"marker\":{\"colorbar\":{\"outlinewidth\":0,\"ticks\":\"\"}}}],\"carpet\":[{\"aaxis\":{\"endlinecolor\":\"#2a3f5f\",\"gridcolor\":\"white\",\"linecolor\":\"white\",\"minorgridcolor\":\"white\",\"startlinecolor\":\"#2a3f5f\"},\"baxis\":{\"endlinecolor\":\"#2a3f5f\",\"gridcolor\":\"white\",\"linecolor\":\"white\",\"minorgridcolor\":\"white\",\"startlinecolor\":\"#2a3f5f\"},\"type\":\"carpet\"}],\"table\":[{\"cells\":{\"fill\":{\"color\":\"#EBF0F8\"},\"line\":{\"color\":\"white\"}},\"header\":{\"fill\":{\"color\":\"#C8D4E3\"},\"line\":{\"color\":\"white\"}},\"type\":\"table\"}],\"barpolar\":[{\"marker\":{\"line\":{\"color\":\"#E5ECF6\",\"width\":0.5},\"pattern\":{\"fillmode\":\"overlay\",\"size\":10,\"solidity\":0.2}},\"type\":\"barpolar\"}],\"pie\":[{\"automargin\":true,\"type\":\"pie\"}]},\"layout\":{\"autotypenumbers\":\"strict\",\"colorway\":[\"#636efa\",\"#EF553B\",\"#00cc96\",\"#ab63fa\",\"#FFA15A\",\"#19d3f3\",\"#FF6692\",\"#B6E880\",\"#FF97FF\",\"#FECB52\"],\"font\":{\"color\":\"#2a3f5f\"},\"hovermode\":\"closest\",\"hoverlabel\":{\"align\":\"left\"},\"paper_bgcolor\":\"white\",\"plot_bgcolor\":\"#E5ECF6\",\"polar\":{\"bgcolor\":\"#E5ECF6\",\"angularaxis\":{\"gridcolor\":\"white\",\"linecolor\":\"white\",\"ticks\":\"\"},\"radialaxis\":{\"gridcolor\":\"white\",\"linecolor\":\"white\",\"ticks\":\"\"}},\"ternary\":{\"bgcolor\":\"#E5ECF6\",\"aaxis\":{\"gridcolor\":\"white\",\"linecolor\":\"white\",\"ticks\":\"\"},\"baxis\":{\"gridcolor\":\"white\",\"linecolor\":\"white\",\"ticks\":\"\"},\"caxis\":{\"gridcolor\":\"white\",\"linecolor\":\"white\",\"ticks\":\"\"}},\"coloraxis\":{\"colorbar\":{\"outlinewidth\":0,\"ticks\":\"\"}},\"colorscale\":{\"sequential\":[[0.0,\"#0d0887\"],[0.1111111111111111,\"#46039f\"],[0.2222222222222222,\"#7201a8\"],[0.3333333333333333,\"#9c179e\"],[0.4444444444444444,\"#bd3786\"],[0.5555555555555556,\"#d8576b\"],[0.6666666666666666,\"#ed7953\"],[0.7777777777777778,\"#fb9f3a\"],[0.8888888888888888,\"#fdca26\"],[1.0,\"#f0f921\"]],\"sequentialminus\":[[0.0,\"#0d0887\"],[0.1111111111111111,\"#46039f\"],[0.2222222222222222,\"#7201a8\"],[0.3333333333333333,\"#9c179e\"],[0.4444444444444444,\"#bd3786\"],[0.5555555555555556,\"#d8576b\"],[0.6666666666666666,\"#ed7953\"],[0.7777777777777778,\"#fb9f3a\"],[0.8888888888888888,\"#fdca26\"],[1.0,\"#f0f921\"]],\"diverging\":[[0,\"#8e0152\"],[0.1,\"#c51b7d\"],[0.2,\"#de77ae\"],[0.3,\"#f1b6da\"],[0.4,\"#fde0ef\"],[0.5,\"#f7f7f7\"],[0.6,\"#e6f5d0\"],[0.7,\"#b8e186\"],[0.8,\"#7fbc41\"],[0.9,\"#4d9221\"],[1,\"#276419\"]]},\"xaxis\":{\"gridcolor\":\"white\",\"linecolor\":\"white\",\"ticks\":\"\",\"title\":{\"standoff\":15},\"zerolinecolor\":\"white\",\"automargin\":true,\"zerolinewidth\":2},\"yaxis\":{\"gridcolor\":\"white\",\"linecolor\":\"white\",\"ticks\":\"\",\"title\":{\"standoff\":15},\"zerolinecolor\":\"white\",\"automargin\":true,\"zerolinewidth\":2},\"scene\":{\"xaxis\":{\"backgroundcolor\":\"#E5ECF6\",\"gridcolor\":\"white\",\"linecolor\":\"white\",\"showbackground\":true,\"ticks\":\"\",\"zerolinecolor\":\"white\",\"gridwidth\":2},\"yaxis\":{\"backgroundcolor\":\"#E5ECF6\",\"gridcolor\":\"white\",\"linecolor\":\"white\",\"showbackground\":true,\"ticks\":\"\",\"zerolinecolor\":\"white\",\"gridwidth\":2},\"zaxis\":{\"backgroundcolor\":\"#E5ECF6\",\"gridcolor\":\"white\",\"linecolor\":\"white\",\"showbackground\":true,\"ticks\":\"\",\"zerolinecolor\":\"white\",\"gridwidth\":2}},\"shapedefaults\":{\"line\":{\"color\":\"#2a3f5f\"}},\"annotationdefaults\":{\"arrowcolor\":\"#2a3f5f\",\"arrowhead\":0,\"arrowwidth\":1},\"geo\":{\"bgcolor\":\"white\",\"landcolor\":\"#E5ECF6\",\"subunitcolor\":\"white\",\"showland\":true,\"showlakes\":true,\"lakecolor\":\"white\"},\"title\":{\"x\":0.05},\"mapbox\":{\"style\":\"light\"}}},\"yaxis\":{\"type\":\"log\",\"title\":{\"text\":\"Cost (USD, nominal)\"},\"range\":[5,8]},\"showlegend\":false,\"xaxis\":{\"title\":{\"text\":\"Publication date\"},\"range\":[\"2018-01-01\",\"2025-01-01\"]},\"title\":{\"text\":\"Cost of cloud compute to train frontier ML systems\"},\"autosize\":false,\"width\":800,\"height\":600,\"font\":{\"size\":14},\"margin\":{\"l\":10,\"r\":10,\"t\":40,\"b\":10}},                        {\"responsive\": true}                    ).then(function(){\n                            \nvar gd = document.getElementById('dccbcedf-088d-4463-ae0e-73ba909cfabe');\nvar x = new MutationObserver(function (mutations, observer) {{\n        var display = window.getComputedStyle(gd).display;\n        if (!display || display === 'none') {{\n            console.log([gd, 'removed!']);\n            Plotly.purge(gd);\n            observer.disconnect();\n        }}\n}});\n\n// Listen for the removal of the full notebook cells\nvar notebookContainer = gd.closest('#notebook-container');\nif (notebookContainer) {{\n    x.observe(notebookContainer, {childList: true});\n}}\n\n// Listen for the clearing of the current output cell\nvar outputEl = gd.closest('.output');\nif (outputEl) {{\n    x.observe(outputEl, {childList: true});\n}}\n\n                        })                };                });            </script>        </div>"
     },
     "metadata": {},
     "output_type": "display_data"
    }
   ],
   "source": [
    "import plotly.graph_objects as go\n",
    "\n",
    "fig = go.Figure()\n",
    "for i, row in frontier_pcd_df.iterrows():\n",
    "    system = row['System']\n",
    "    cost = system_to_cost.get(system)\n",
    "    if cost is None:\n",
    "        continue\n",
    "    publication_date = row['Publication date']\n",
    "\n",
    "    fig.add_trace(go.Scatter(\n",
    "        x=[publication_date],\n",
    "        y=[cost],\n",
    "        name=system,\n",
    "        text=system,\n",
    "        textposition='top center',\n",
    "        line=dict(color='#034752'),\n",
    "        mode='markers+text',\n",
    "    ))\n",
    "\n",
    "# log y axis\n",
    "fig.update_yaxes(type=\"log\")\n",
    "# no legend\n",
    "fig.update_layout(showlegend=False)\n",
    "\n",
    "# axis labels\n",
    "fig.update_xaxes(title_text='Publication date')\n",
    "fig.update_yaxes(title_text='Cost (USD, nominal)')\n",
    "\n",
    "# title\n",
    "fig.update_layout(title_text='Cost of cloud compute to train frontier ML systems')\n",
    "\n",
    "# update size\n",
    "fig.update_layout(\n",
    "    autosize=False,\n",
    "    width=800,\n",
    "    height=600,\n",
    ")\n",
    "\n",
    "# font size\n",
    "fig.update_layout(\n",
    "    font=dict(\n",
    "        size=14,\n",
    "    )\n",
    ")\n",
    "\n",
    "# axis limits\n",
    "fig.update_xaxes(range=['2018-01-01', '2025-01-01'])\n",
    "fig.update_yaxes(range=[5, 8])\n",
    "\n",
    "# margins\n",
    "fig.update_layout(margin=dict(l=10, r=10, t=40, b=10))\n",
    "\n",
    "save_plot(fig, 'results/', 'cost_scatter_with_imputation')\n",
    "\n",
    "fig.show()"
   ],
   "metadata": {
    "collapsed": false,
    "ExecuteTime": {
     "end_time": "2024-01-31T15:08:33.973752900Z",
     "start_time": "2024-01-31T15:08:32.833899400Z"
    }
   }
  },
  {
   "cell_type": "markdown",
   "source": [
    "# Validating the imputation"
   ],
   "metadata": {
    "collapsed": false
   }
  },
  {
   "cell_type": "code",
   "execution_count": 64,
   "outputs": [],
   "source": [
    "from sklearn.model_selection import train_test_split\n",
    "from sklearn.metrics import mean_squared_error\n",
    "from sklearn.metrics import accuracy_score"
   ],
   "metadata": {
    "collapsed": false,
    "ExecuteTime": {
     "end_time": "2024-01-31T15:08:34.249261700Z",
     "start_time": "2024-01-31T15:08:33.847769500Z"
    }
   }
  },
  {
   "cell_type": "code",
   "execution_count": 65,
   "outputs": [],
   "source": [
    "# see how many features can be removed without reducing imputation accuracy\n",
    "# compare knn to simply imputing the mean value, or to interpolating between the previous and next points"
   ],
   "metadata": {
    "collapsed": false,
    "ExecuteTime": {
     "end_time": "2024-01-31T15:08:34.348588600Z",
     "start_time": "2024-01-31T15:08:33.863771400Z"
    }
   }
  }
 ],
 "metadata": {
  "colab": {
   "provenance": []
  },
  "kernelspec": {
   "name": "python3",
   "language": "python",
   "display_name": "Python 3 (ipykernel)"
  },
  "language_info": {
   "codemirror_mode": {
    "name": "ipython",
    "version": 3
   },
   "file_extension": ".py",
   "mimetype": "text/x-python",
   "name": "python",
   "nbconvert_exporter": "python",
   "pygments_lexer": "ipython3",
   "version": "3.11.4"
  }
 },
 "nbformat": 4,
 "nbformat_minor": 0
}
