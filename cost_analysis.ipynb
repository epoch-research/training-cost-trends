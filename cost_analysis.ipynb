{
 "cells": [
  {
   "cell_type": "markdown",
   "metadata": {},
   "source": [
    "# Setup"
   ]
  },
  {
   "cell_type": "code",
   "execution_count": 40,
   "metadata": {
    "id": "qltoZ7TbdkHZ",
    "ExecuteTime": {
     "end_time": "2023-12-30T14:17:36.766753600Z",
     "start_time": "2023-12-30T14:17:36.565537900Z"
    }
   },
   "outputs": [],
   "source": [
    "import numpy as np\n",
    "import pandas as pd\n",
    "\n",
    "from plotting import *\n",
    "from pprint import pprint"
   ]
  },
  {
   "cell_type": "code",
   "execution_count": 41,
   "metadata": {
    "ExecuteTime": {
     "end_time": "2023-12-30T14:17:36.766753600Z",
     "start_time": "2023-12-30T14:17:36.573528900Z"
    }
   },
   "outputs": [],
   "source": [
    "SECONDS_PER_HOUR = 60 * 60\n",
    "SECONDS_PER_YEAR = SECONDS_PER_HOUR * 24 * 365.25"
   ]
  },
  {
   "cell_type": "markdown",
   "metadata": {},
   "source": [
    "# Dataset"
   ]
  },
  {
   "cell_type": "markdown",
   "metadata": {},
   "source": [
    "## ML systems"
   ]
  },
  {
   "cell_type": "code",
   "execution_count": 42,
   "metadata": {
    "id": "c8uNf70ve1PM",
    "ExecuteTime": {
     "end_time": "2023-12-30T14:17:37.071801900Z",
     "start_time": "2023-12-30T14:17:36.589539700Z"
    }
   },
   "outputs": [
    {
     "data": {
      "text/plain": "                               System    Domain                   Task  \\\n0                      Cohere Command  Language                    NaN   \n1                             Theseus     Other           Maze solving   \n2                               SNARC     Other           Maze solving   \n3                   Genetic algorithm       NaN                    NaN   \n4  Sequence-based pattern recognition    Vision  Character recognition   \n\n           Authors      Notability criteria  \\\n0              NaN                      NaN   \n1   Claude Shannon  Historical significance   \n2    Marvin Minsky  Historical significance   \n3    NA Barricelli  Historical significance   \n4  O. G. Selfridge  Historical significance   \n\n                           Notability criteria notes Open-source  \\\n0                                                NaN         NaN   \n1                                                NaN         NaN   \n2                                                NaN         NaN   \n3  Possibly first computer simulation of a geneti...         NaN   \n4                                                NaN         NaN   \n\n                                                Link  Citations  \\\n0                  https://cohere.com/models/command        NaN   \n1  https://www.technologyreview.com/2018/12/19/13...        0.0   \n2  https://en.wikipedia.org/wiki/Stochastic_neura...       33.0   \n3  https://link.springer.com/article/10.1007/BF01...      266.0   \n4     https://dl.acm.org/doi/10.1145/1455292.1455310      290.0   \n\n                                           Reference  ...  \\\n0                    World-class AI, at your command  ...   \n1                                       Mighty Mouse  ...   \n2  A Neural-Analogue Calculator Based upon a Prob...  ...   \n3            Numerical testing of evolution theories  ...   \n4           Pattern recognition and modern computers  ...   \n\n              Organization (from Organization) Base model  \\\n0                                       Cohere        NaN   \n1                            Bell Laboratories        NaN   \n2                           Harvard University        NaN   \n3                 Institute for Advanced Study        NaN   \n4  Massachusetts Institute of Technology (MIT)        NaN   \n\n  Finetune compute (FLOP)  Finetune compute notes  \\\n0                     NaN                     NaN   \n1                     NaN                     NaN   \n2                     NaN                     NaN   \n3                     NaN                     NaN   \n4                     NaN                     NaN   \n\n                   Authors by country  Hardware quantity Hardware utilization  \\\n0                                 NaN                NaN                  NaN   \n1                             Theseus                NaN                  NaN   \n2                               SNARC                NaN                  NaN   \n3                   Genetic algorithm                NaN                  NaN   \n4  Sequence-based pattern recognition                NaN                  NaN   \n\n  Training cost trends Training cloud compute vendor  Training data center  \n0                  NaN                           NaN                   NaN  \n1                  NaN                           NaN                   NaN  \n2                  NaN                           NaN                   NaN  \n3                  NaN                           NaN                   NaN  \n4                  NaN                           NaN                   NaN  \n\n[5 rows x 49 columns]",
      "text/html": "<div>\n<style scoped>\n    .dataframe tbody tr th:only-of-type {\n        vertical-align: middle;\n    }\n\n    .dataframe tbody tr th {\n        vertical-align: top;\n    }\n\n    .dataframe thead th {\n        text-align: right;\n    }\n</style>\n<table border=\"1\" class=\"dataframe\">\n  <thead>\n    <tr style=\"text-align: right;\">\n      <th></th>\n      <th>System</th>\n      <th>Domain</th>\n      <th>Task</th>\n      <th>Authors</th>\n      <th>Notability criteria</th>\n      <th>Notability criteria notes</th>\n      <th>Open-source</th>\n      <th>Link</th>\n      <th>Citations</th>\n      <th>Reference</th>\n      <th>...</th>\n      <th>Organization (from Organization)</th>\n      <th>Base model</th>\n      <th>Finetune compute (FLOP)</th>\n      <th>Finetune compute notes</th>\n      <th>Authors by country</th>\n      <th>Hardware quantity</th>\n      <th>Hardware utilization</th>\n      <th>Training cost trends</th>\n      <th>Training cloud compute vendor</th>\n      <th>Training data center</th>\n    </tr>\n  </thead>\n  <tbody>\n    <tr>\n      <th>0</th>\n      <td>Cohere Command</td>\n      <td>Language</td>\n      <td>NaN</td>\n      <td>NaN</td>\n      <td>NaN</td>\n      <td>NaN</td>\n      <td>NaN</td>\n      <td>https://cohere.com/models/command</td>\n      <td>NaN</td>\n      <td>World-class AI, at your command</td>\n      <td>...</td>\n      <td>Cohere</td>\n      <td>NaN</td>\n      <td>NaN</td>\n      <td>NaN</td>\n      <td>NaN</td>\n      <td>NaN</td>\n      <td>NaN</td>\n      <td>NaN</td>\n      <td>NaN</td>\n      <td>NaN</td>\n    </tr>\n    <tr>\n      <th>1</th>\n      <td>Theseus</td>\n      <td>Other</td>\n      <td>Maze solving</td>\n      <td>Claude Shannon</td>\n      <td>Historical significance</td>\n      <td>NaN</td>\n      <td>NaN</td>\n      <td>https://www.technologyreview.com/2018/12/19/13...</td>\n      <td>0.0</td>\n      <td>Mighty Mouse</td>\n      <td>...</td>\n      <td>Bell Laboratories</td>\n      <td>NaN</td>\n      <td>NaN</td>\n      <td>NaN</td>\n      <td>Theseus</td>\n      <td>NaN</td>\n      <td>NaN</td>\n      <td>NaN</td>\n      <td>NaN</td>\n      <td>NaN</td>\n    </tr>\n    <tr>\n      <th>2</th>\n      <td>SNARC</td>\n      <td>Other</td>\n      <td>Maze solving</td>\n      <td>Marvin Minsky</td>\n      <td>Historical significance</td>\n      <td>NaN</td>\n      <td>NaN</td>\n      <td>https://en.wikipedia.org/wiki/Stochastic_neura...</td>\n      <td>33.0</td>\n      <td>A Neural-Analogue Calculator Based upon a Prob...</td>\n      <td>...</td>\n      <td>Harvard University</td>\n      <td>NaN</td>\n      <td>NaN</td>\n      <td>NaN</td>\n      <td>SNARC</td>\n      <td>NaN</td>\n      <td>NaN</td>\n      <td>NaN</td>\n      <td>NaN</td>\n      <td>NaN</td>\n    </tr>\n    <tr>\n      <th>3</th>\n      <td>Genetic algorithm</td>\n      <td>NaN</td>\n      <td>NaN</td>\n      <td>NA Barricelli</td>\n      <td>Historical significance</td>\n      <td>Possibly first computer simulation of a geneti...</td>\n      <td>NaN</td>\n      <td>https://link.springer.com/article/10.1007/BF01...</td>\n      <td>266.0</td>\n      <td>Numerical testing of evolution theories</td>\n      <td>...</td>\n      <td>Institute for Advanced Study</td>\n      <td>NaN</td>\n      <td>NaN</td>\n      <td>NaN</td>\n      <td>Genetic algorithm</td>\n      <td>NaN</td>\n      <td>NaN</td>\n      <td>NaN</td>\n      <td>NaN</td>\n      <td>NaN</td>\n    </tr>\n    <tr>\n      <th>4</th>\n      <td>Sequence-based pattern recognition</td>\n      <td>Vision</td>\n      <td>Character recognition</td>\n      <td>O. G. Selfridge</td>\n      <td>Historical significance</td>\n      <td>NaN</td>\n      <td>NaN</td>\n      <td>https://dl.acm.org/doi/10.1145/1455292.1455310</td>\n      <td>290.0</td>\n      <td>Pattern recognition and modern computers</td>\n      <td>...</td>\n      <td>Massachusetts Institute of Technology (MIT)</td>\n      <td>NaN</td>\n      <td>NaN</td>\n      <td>NaN</td>\n      <td>Sequence-based pattern recognition</td>\n      <td>NaN</td>\n      <td>NaN</td>\n      <td>NaN</td>\n      <td>NaN</td>\n      <td>NaN</td>\n    </tr>\n  </tbody>\n</table>\n<p>5 rows × 49 columns</p>\n</div>"
     },
     "execution_count": 42,
     "metadata": {},
     "output_type": "execute_result"
    }
   ],
   "source": [
    "pcd_df = pd.read_csv('data/All ML Systems - full view.csv')\n",
    "pcd_df.head()"
   ]
  },
  {
   "cell_type": "code",
   "execution_count": 43,
   "metadata": {
    "ExecuteTime": {
     "end_time": "2023-12-30T14:17:37.071801900Z",
     "start_time": "2023-12-30T14:17:36.637816600Z"
    }
   },
   "outputs": [],
   "source": [
    "# Publication date in datetime format\n",
    "pcd_df.dropna(subset=['Publication date'], inplace=True)\n",
    "pcd_df['Publication date'] = pd.to_datetime(pcd_df['Publication date'])"
   ]
  },
  {
   "cell_type": "code",
   "execution_count": 44,
   "metadata": {
    "id": "zHTeCty5dqjn",
    "ExecuteTime": {
     "end_time": "2023-12-30T14:17:37.096132100Z",
     "start_time": "2023-12-30T14:17:36.653856900Z"
    }
   },
   "outputs": [],
   "source": [
    "# Manually copied from \"Training cost trends\" Airtable\n",
    "frontier_systems = [\n",
    "    \"PaLM 2\",\n",
    "    \"GPT-4\",\n",
    "    \"Minerva (540B)\",\n",
    "    \"Megatron-Turing NLG 530B\",\n",
    "    \"GPT-3 175B (davinci)\",\n",
    "    \"Meena\",\n",
    "    \"AlphaStar\",\n",
    "    \"AlphaGo Zero\",\n",
    "    \"AlphaGo Master\",\n",
    "    \"GNMT\",\n",
    "    \"Claude 2\",\n",
    "    \"PaLM (540B)\",\n",
    "    \"ERNIE 3.0 Titan\",\n",
    "    \"Gopher (280B)\",\n",
    "    \"OpenAI Five\",\n",
    "    \"T5-11B\",\n",
    "    \"Megatron-BERT\",\n",
    "    \"ResNeXt-101 32x48d\",\n",
    "    \"AlphaZero\",\n",
    "    \"Falcon 180B\",\n",
    "    \"GPT-3.5 (text-davinci-003)\",\n",
    "    \"Chinchilla\",\n",
    "    \"Yuan 1.0\",\n",
    "    \"Turing-NLG\",\n",
    "    \"BigGAN-deep 512x512\",\n",
    "    \"NASv3 (CIFAR-10)\",\n",
    "    \"AlphaGo Lee\",\n",
    "    \"AlphaGo Fan\",\n",
    "    \"OPT-175B\",\n",
    "    \"AlphaCode\",\n",
    "    \"GLaM\",\n",
    "    \"OpenAI Five Rerun\",\n",
    "    \"T5-3B\",\n",
    "    \"Megatron-LM (8.3B)\",\n",
    "    \"FTW\",\n",
    "    \"AmoebaNet-A (F=448)\",\n",
    "    \"OpenAI TI7 DOTA 1v1\",\n",
    "    \"JFT\",\n",
    "    \"Llama 2-70B\",\n",
    "    \"LLaMA-65B\",\n",
    "    \"LaMDA\",\n",
    "    \"ALIGN\",\n",
    "    \"GShard (dense)\",\n",
    "    \"RoBERTa Large\",\n",
    "    \"IMPALA\",\n",
    "]"
   ]
  },
  {
   "cell_type": "code",
   "execution_count": 45,
   "metadata": {
    "id": "Nyzyh8IKe0ZK",
    "ExecuteTime": {
     "end_time": "2023-12-30T14:17:37.112199600Z",
     "start_time": "2023-12-30T14:17:36.670626900Z"
    }
   },
   "outputs": [
    {
     "data": {
      "text/plain": "               System    Domain         Task  \\\n265       AlphaGo Fan     Games           Go   \n275       AlphaGo Lee     Games           Go   \n306              GNMT  Language  Translation   \n317  NASv3 (CIFAR-10)    Vision          NaN   \n337    AlphaGo Master     Games           Go   \n\n                                               Authors Notability criteria  \\\n265  David Silver, Aja Huang, Chris J. Maddison, Ar...    SOTA improvement   \n275  David Silver, Aja Huang, Chris J. Maddison, Ar...        Highly cited   \n306  Yonghui Wu, Mike Schuster, Zhifeng Chen, Quoc ...        Highly cited   \n317                            Barret Zoph, Quoc V. Le        Highly cited   \n337  D Silver, J Schrittwieser, K Simonyan, I Anton...        Highly cited   \n\n    Notability criteria notes Open-source  \\\n265                       NaN         NaN   \n275                       NaN         NaN   \n306                       NaN         NaN   \n317                       NaN         NaN   \n337                       NaN         NaN   \n\n                                                  Link  Citations  \\\n265  https://www.nature.com/articles/nature24270.ep...    14389.0   \n275        https://www.nature.com/articles/nature16961    14389.0   \n306                   https://arxiv.org/abs/1609.08144     5948.0   \n317                   https://arxiv.org/abs/1611.01578     4569.0   \n337  https://www.researchgate.net/publication/32047...     7831.0   \n\n                                             Reference  ...  \\\n265  Mastering the game of Go with deep neural netw...  ...   \n275  Mastering the game of Go with deep neural netw...  ...   \n306  Google's Neural Machine Translation System: Br...  ...   \n317  Neural Architecture Search with Reinforcement ...  ...   \n337   Mastering the game of Go without human knowledge  ...   \n\n    Organization (from Organization) Base model Finetune compute (FLOP)  \\\n265                  Google DeepMind        NaN                     NaN   \n275                         DeepMind        NaN                     NaN   \n306                           Google        NaN                     NaN   \n317                     Google Brain        NaN                     NaN   \n337                         DeepMind        NaN                     NaN   \n\n     Finetune compute notes Authors by country  Hardware quantity  \\\n265                     NaN        AlphaGo Fan                NaN   \n275                     NaN        AlphaGo Lee                NaN   \n306                     NaN               GNMT               96.0   \n317                     NaN   NASv3 (CIFAR-10)              800.0   \n337                     NaN     AlphaGo Master                NaN   \n\n    Hardware utilization Training cost trends Training cloud compute vendor  \\\n265                  NaN          AlphaGo Fan                           NaN   \n275                  NaN          AlphaGo Lee                           NaN   \n306                  NaN                 GNMT                           NaN   \n317                  NaN     NASv3 (CIFAR-10)                           NaN   \n337                  NaN       AlphaGo Master                           NaN   \n\n     Training data center  \n265                   NaN  \n275                   NaN  \n306                   NaN  \n317                   NaN  \n337                   NaN  \n\n[5 rows x 49 columns]",
      "text/html": "<div>\n<style scoped>\n    .dataframe tbody tr th:only-of-type {\n        vertical-align: middle;\n    }\n\n    .dataframe tbody tr th {\n        vertical-align: top;\n    }\n\n    .dataframe thead th {\n        text-align: right;\n    }\n</style>\n<table border=\"1\" class=\"dataframe\">\n  <thead>\n    <tr style=\"text-align: right;\">\n      <th></th>\n      <th>System</th>\n      <th>Domain</th>\n      <th>Task</th>\n      <th>Authors</th>\n      <th>Notability criteria</th>\n      <th>Notability criteria notes</th>\n      <th>Open-source</th>\n      <th>Link</th>\n      <th>Citations</th>\n      <th>Reference</th>\n      <th>...</th>\n      <th>Organization (from Organization)</th>\n      <th>Base model</th>\n      <th>Finetune compute (FLOP)</th>\n      <th>Finetune compute notes</th>\n      <th>Authors by country</th>\n      <th>Hardware quantity</th>\n      <th>Hardware utilization</th>\n      <th>Training cost trends</th>\n      <th>Training cloud compute vendor</th>\n      <th>Training data center</th>\n    </tr>\n  </thead>\n  <tbody>\n    <tr>\n      <th>265</th>\n      <td>AlphaGo Fan</td>\n      <td>Games</td>\n      <td>Go</td>\n      <td>David Silver, Aja Huang, Chris J. Maddison, Ar...</td>\n      <td>SOTA improvement</td>\n      <td>NaN</td>\n      <td>NaN</td>\n      <td>https://www.nature.com/articles/nature24270.ep...</td>\n      <td>14389.0</td>\n      <td>Mastering the game of Go with deep neural netw...</td>\n      <td>...</td>\n      <td>Google DeepMind</td>\n      <td>NaN</td>\n      <td>NaN</td>\n      <td>NaN</td>\n      <td>AlphaGo Fan</td>\n      <td>NaN</td>\n      <td>NaN</td>\n      <td>AlphaGo Fan</td>\n      <td>NaN</td>\n      <td>NaN</td>\n    </tr>\n    <tr>\n      <th>275</th>\n      <td>AlphaGo Lee</td>\n      <td>Games</td>\n      <td>Go</td>\n      <td>David Silver, Aja Huang, Chris J. Maddison, Ar...</td>\n      <td>Highly cited</td>\n      <td>NaN</td>\n      <td>NaN</td>\n      <td>https://www.nature.com/articles/nature16961</td>\n      <td>14389.0</td>\n      <td>Mastering the game of Go with deep neural netw...</td>\n      <td>...</td>\n      <td>DeepMind</td>\n      <td>NaN</td>\n      <td>NaN</td>\n      <td>NaN</td>\n      <td>AlphaGo Lee</td>\n      <td>NaN</td>\n      <td>NaN</td>\n      <td>AlphaGo Lee</td>\n      <td>NaN</td>\n      <td>NaN</td>\n    </tr>\n    <tr>\n      <th>306</th>\n      <td>GNMT</td>\n      <td>Language</td>\n      <td>Translation</td>\n      <td>Yonghui Wu, Mike Schuster, Zhifeng Chen, Quoc ...</td>\n      <td>Highly cited</td>\n      <td>NaN</td>\n      <td>NaN</td>\n      <td>https://arxiv.org/abs/1609.08144</td>\n      <td>5948.0</td>\n      <td>Google's Neural Machine Translation System: Br...</td>\n      <td>...</td>\n      <td>Google</td>\n      <td>NaN</td>\n      <td>NaN</td>\n      <td>NaN</td>\n      <td>GNMT</td>\n      <td>96.0</td>\n      <td>NaN</td>\n      <td>GNMT</td>\n      <td>NaN</td>\n      <td>NaN</td>\n    </tr>\n    <tr>\n      <th>317</th>\n      <td>NASv3 (CIFAR-10)</td>\n      <td>Vision</td>\n      <td>NaN</td>\n      <td>Barret Zoph, Quoc V. Le</td>\n      <td>Highly cited</td>\n      <td>NaN</td>\n      <td>NaN</td>\n      <td>https://arxiv.org/abs/1611.01578</td>\n      <td>4569.0</td>\n      <td>Neural Architecture Search with Reinforcement ...</td>\n      <td>...</td>\n      <td>Google Brain</td>\n      <td>NaN</td>\n      <td>NaN</td>\n      <td>NaN</td>\n      <td>NASv3 (CIFAR-10)</td>\n      <td>800.0</td>\n      <td>NaN</td>\n      <td>NASv3 (CIFAR-10)</td>\n      <td>NaN</td>\n      <td>NaN</td>\n    </tr>\n    <tr>\n      <th>337</th>\n      <td>AlphaGo Master</td>\n      <td>Games</td>\n      <td>Go</td>\n      <td>D Silver, J Schrittwieser, K Simonyan, I Anton...</td>\n      <td>Highly cited</td>\n      <td>NaN</td>\n      <td>NaN</td>\n      <td>https://www.researchgate.net/publication/32047...</td>\n      <td>7831.0</td>\n      <td>Mastering the game of Go without human knowledge</td>\n      <td>...</td>\n      <td>DeepMind</td>\n      <td>NaN</td>\n      <td>NaN</td>\n      <td>NaN</td>\n      <td>AlphaGo Master</td>\n      <td>NaN</td>\n      <td>NaN</td>\n      <td>AlphaGo Master</td>\n      <td>NaN</td>\n      <td>NaN</td>\n    </tr>\n  </tbody>\n</table>\n<p>5 rows × 49 columns</p>\n</div>"
     },
     "execution_count": 45,
     "metadata": {},
     "output_type": "execute_result"
    }
   ],
   "source": [
    "frontier_pcd_df = pcd_df[pcd_df['System'].isin(frontier_systems)]\n",
    "frontier_pcd_df.head()"
   ]
  },
  {
   "cell_type": "code",
   "execution_count": 46,
   "metadata": {
    "ExecuteTime": {
     "end_time": "2023-12-30T14:17:37.185233600Z",
     "start_time": "2023-12-30T14:17:36.709060800Z"
    }
   },
   "outputs": [],
   "source": [
    "assert len(frontier_pcd_df) == len(frontier_systems)"
   ]
  },
  {
   "cell_type": "markdown",
   "metadata": {},
   "source": [
    "## Prices"
   ]
  },
  {
   "cell_type": "code",
   "execution_count": 47,
   "metadata": {
    "ExecuteTime": {
     "end_time": "2023-12-30T14:17:37.193235200Z",
     "start_time": "2023-12-30T14:17:36.726566500Z"
    }
   },
   "outputs": [
    {
     "data": {
      "text/plain": "                                        Price source  Price date  \\\n0  https://web.archive.org/web/20181009102635/htt...  2018-10-09   \n1  https://web.archive.org/web/20181011013513/htt...  2018-10-11   \n2  https://web.archive.org/web/20181011013513/htt...  2018-10-11   \n3  https://web.archive.org/web/20190701021000/htt...  2019-07-01   \n4  https://web.archive.org/web/20190728061708/htt...  2019-07-28   \n\n  Hardware model Manufacturer (from Hardware model)        Vendor  \\\n0  Google TPU v2                             Google  Google Cloud   \n1  Google TPU v3                             Google  Google Cloud   \n2  Google TPU v3                             Google  Google Cloud   \n3  Google TPU v3                             Google  Google Cloud   \n4  Google TPU v3                             Google  Google Cloud   \n\n                     Location Price per chip-hour (on-demand)  \\\n0                          US                           $1.13   \n1                          US                           $2.00   \n2                      Europe                           $2.20   \n3          Iowa (us-central1)                           $2.00   \n4  Netherlands (europe-west4)                           $2.00   \n\n  Price per chip-hour (1-year CUD) Price per chip-hour (3-year CUD)  \\\n0                              NaN                              NaN   \n1                              NaN                              NaN   \n2                              NaN                              NaN   \n3                            $1.26                            $0.90   \n4                            $1.26                            $0.90   \n\n   Price (hardware purchase)  \n0                        NaN  \n1                        NaN  \n2                        NaN  \n3                        NaN  \n4                        NaN  ",
      "text/html": "<div>\n<style scoped>\n    .dataframe tbody tr th:only-of-type {\n        vertical-align: middle;\n    }\n\n    .dataframe tbody tr th {\n        vertical-align: top;\n    }\n\n    .dataframe thead th {\n        text-align: right;\n    }\n</style>\n<table border=\"1\" class=\"dataframe\">\n  <thead>\n    <tr style=\"text-align: right;\">\n      <th></th>\n      <th>Price source</th>\n      <th>Price date</th>\n      <th>Hardware model</th>\n      <th>Manufacturer (from Hardware model)</th>\n      <th>Vendor</th>\n      <th>Location</th>\n      <th>Price per chip-hour (on-demand)</th>\n      <th>Price per chip-hour (1-year CUD)</th>\n      <th>Price per chip-hour (3-year CUD)</th>\n      <th>Price (hardware purchase)</th>\n    </tr>\n  </thead>\n  <tbody>\n    <tr>\n      <th>0</th>\n      <td>https://web.archive.org/web/20181009102635/htt...</td>\n      <td>2018-10-09</td>\n      <td>Google TPU v2</td>\n      <td>Google</td>\n      <td>Google Cloud</td>\n      <td>US</td>\n      <td>$1.13</td>\n      <td>NaN</td>\n      <td>NaN</td>\n      <td>NaN</td>\n    </tr>\n    <tr>\n      <th>1</th>\n      <td>https://web.archive.org/web/20181011013513/htt...</td>\n      <td>2018-10-11</td>\n      <td>Google TPU v3</td>\n      <td>Google</td>\n      <td>Google Cloud</td>\n      <td>US</td>\n      <td>$2.00</td>\n      <td>NaN</td>\n      <td>NaN</td>\n      <td>NaN</td>\n    </tr>\n    <tr>\n      <th>2</th>\n      <td>https://web.archive.org/web/20181011013513/htt...</td>\n      <td>2018-10-11</td>\n      <td>Google TPU v3</td>\n      <td>Google</td>\n      <td>Google Cloud</td>\n      <td>Europe</td>\n      <td>$2.20</td>\n      <td>NaN</td>\n      <td>NaN</td>\n      <td>NaN</td>\n    </tr>\n    <tr>\n      <th>3</th>\n      <td>https://web.archive.org/web/20190701021000/htt...</td>\n      <td>2019-07-01</td>\n      <td>Google TPU v3</td>\n      <td>Google</td>\n      <td>Google Cloud</td>\n      <td>Iowa (us-central1)</td>\n      <td>$2.00</td>\n      <td>$1.26</td>\n      <td>$0.90</td>\n      <td>NaN</td>\n    </tr>\n    <tr>\n      <th>4</th>\n      <td>https://web.archive.org/web/20190728061708/htt...</td>\n      <td>2019-07-28</td>\n      <td>Google TPU v3</td>\n      <td>Google</td>\n      <td>Google Cloud</td>\n      <td>Netherlands (europe-west4)</td>\n      <td>$2.00</td>\n      <td>$1.26</td>\n      <td>$0.90</td>\n      <td>NaN</td>\n    </tr>\n  </tbody>\n</table>\n</div>"
     },
     "execution_count": 47,
     "metadata": {},
     "output_type": "execute_result"
    }
   ],
   "source": [
    "price_df = pd.read_csv('data/Hardware prices.csv')\n",
    "price_df.head()"
   ]
  },
  {
   "cell_type": "code",
   "execution_count": 48,
   "metadata": {
    "ExecuteTime": {
     "end_time": "2023-12-30T14:17:37.193235200Z",
     "start_time": "2023-12-30T14:17:36.766753600Z"
    }
   },
   "outputs": [],
   "source": [
    "# Price date in datetime format\n",
    "price_df.dropna(subset=['Price date'], inplace=True)\n",
    "price_df['Price date'] = pd.to_datetime(price_df['Price date'])"
   ]
  },
  {
   "cell_type": "code",
   "execution_count": 49,
   "metadata": {
    "ExecuteTime": {
     "end_time": "2023-12-30T14:17:37.193235200Z",
     "start_time": "2023-12-30T14:17:36.766753600Z"
    }
   },
   "outputs": [],
   "source": [
    "pcd_hardware_model_colname = 'Name of the hardware (from Training hardware)'"
   ]
  },
  {
   "cell_type": "markdown",
   "metadata": {},
   "source": [
    "# Imputation"
   ]
  },
  {
   "cell_type": "markdown",
   "metadata": {},
   "source": [
    "Training hardware: \"best\" available"
   ]
  },
  {
   "cell_type": "code",
   "execution_count": 49,
   "metadata": {
    "ExecuteTime": {
     "end_time": "2023-12-30T14:17:37.193235200Z",
     "start_time": "2023-12-30T14:17:36.782941300Z"
    }
   },
   "outputs": [],
   "source": []
  },
  {
   "cell_type": "markdown",
   "metadata": {},
   "source": [
    "FLOP/second (flops) utilization: mean of known values\n",
    "\n",
    "TODO: random sample from distribution, combined with bootstrapping"
   ]
  },
  {
   "cell_type": "code",
   "execution_count": 49,
   "metadata": {
    "ExecuteTime": {
     "end_time": "2023-12-30T14:17:37.193235200Z",
     "start_time": "2023-12-30T14:17:36.799242300Z"
    }
   },
   "outputs": [],
   "source": []
  },
  {
   "cell_type": "markdown",
   "metadata": {},
   "source": [
    "Number of chip-hours\n",
    "\n",
    "If num_chips AND training_time_hours known: chip_hours = num_chips * training_time_hours\n",
    "\n",
    "Else if num_chips unknown: \n",
    "\n",
    "Else if training_time_hours unknown: \n",
    "\n",
    "Else (both unknown): chip_hours = training_compute_flop / (chip_flops * flops_utilization * SECONDS_PER_HOUR)"
   ]
  },
  {
   "cell_type": "code",
   "execution_count": 50,
   "metadata": {
    "ExecuteTime": {
     "end_time": "2023-12-30T14:17:37.193235200Z",
     "start_time": "2023-12-30T14:17:36.823473100Z"
    }
   },
   "outputs": [
    {
     "name": "stderr",
     "output_type": "stream",
     "text": [
      "C:\\Users\\robir\\AppData\\Local\\Temp\\ipykernel_16632\\3951382658.py:9: SettingWithCopyWarning:\n",
      "\n",
      "\n",
      "A value is trying to be set on a copy of a slice from a DataFrame.\n",
      "Try using .loc[row_indexer,col_indexer] = value instead\n",
      "\n",
      "See the caveats in the documentation: https://pandas.pydata.org/pandas-docs/stable/user_guide/indexing.html#returning-a-view-versus-a-copy\n",
      "\n"
     ]
    }
   ],
   "source": [
    "chip_hours = []\n",
    "for i, row in frontier_pcd_df.iterrows():\n",
    "    if pd.isna(row['Hardware quantity']) or pd.isna(row['Training time (hours)']):\n",
    "        # TODO impute missing values\n",
    "        chip_hours.append(np.nan)\n",
    "    else:\n",
    "        chip_hours.append(row['Hardware quantity'] * row['Training time (hours)'])\n",
    "\n",
    "frontier_pcd_df['Training time (chip hours)'] = chip_hours"
   ]
  },
  {
   "cell_type": "markdown",
   "metadata": {},
   "source": [
    "# Price selection"
   ]
  },
  {
   "cell_type": "markdown",
   "metadata": {},
   "source": [
    "1. Use a fixed mapping from Organization to cloud provider. If no mapping found, default to \"Amazon Web Services\".\n",
    "2. If there's a match for the hardware model, use that. Else, discard the ML system from the dataset.\n",
    "3. Use the price that is nearest to, but prior to, training time + 2 months before the publication date\n",
    "4. If there are no prices prior to that time, use the nearest price after that time\n",
    "5. If there are no prices for that hardware model and cloud provider at all, repeat steps 3 and 4 for \"Microsoft Azure\", then \"Google Cloud\" as the cloud provider.\n",
    "6. If there are no prices found from step 5, discard the ML system from the dataset."
   ]
  },
  {
   "cell_type": "code",
   "execution_count": 51,
   "metadata": {
    "ExecuteTime": {
     "end_time": "2023-12-30T14:17:37.193235200Z",
     "start_time": "2023-12-30T14:17:36.832170500Z"
    }
   },
   "outputs": [
    {
     "name": "stdout",
     "output_type": "stream",
     "text": [
      "Price date: 2019-07-01 00:00:00\n",
      "Price: $1.26\n"
     ]
    }
   ],
   "source": [
    "def find_closest_price_dates(vendor, hardware_model, date, df):\n",
    "    \"\"\"\n",
    "    Finds the row in the DataFrame with the closest 'Price date' to the given date\n",
    "    which has a 'Vendor' equal to the specified vendor and a 'Hardware model' equal to the specified hardware_model.\n",
    "    \n",
    "    :param vendor: The vendor to match.\n",
    "    :param hardware_model: The hardware model to match.\n",
    "    :param date: The target date to find the closest 'Price date' to.\n",
    "    :param df: The DataFrame containing the hardware price data.\n",
    "    :return: The row from the DataFrame that matches the criteria.\n",
    "    \"\"\"\n",
    "    # Filter the DataFrame based on vendor and hardware model\n",
    "    filtered_df = df[(df['Vendor'] == vendor) & (df['Hardware model'] == hardware_model)]\n",
    "\n",
    "    # Convert the target date to datetime\n",
    "    target_date = pd.to_datetime(date)\n",
    "\n",
    "    # Find the row with the smallest date difference\n",
    "    closest_row_df = filtered_df.iloc[(filtered_df['Price date'] - target_date).abs().argsort()]\n",
    "\n",
    "    return closest_row_df\n",
    "\n",
    "# Example usage\n",
    "example_vendor = \"Google Cloud\"\n",
    "example_hardware_model = \"Google TPU v3\"\n",
    "example_date = \"2019-07-15\" # Example date, format should be YYYY-MM-DD\n",
    "\n",
    "# Find the row\n",
    "closest_row_df = find_closest_price_dates(example_vendor, example_hardware_model, example_date, price_df)\n",
    "\n",
    "for i, row in closest_row_df.iterrows():\n",
    "    if row['Price date'] <= pd.to_datetime(example_date):\n",
    "        print(f\"Price date: {row['Price date']}\")\n",
    "        print(f\"Price: {row['Price per chip-hour (1-year CUD)']}\")\n",
    "        break"
   ]
  },
  {
   "cell_type": "code",
   "execution_count": 52,
   "metadata": {
    "ExecuteTime": {
     "end_time": "2023-12-30T14:17:37.193235200Z",
     "start_time": "2023-12-30T14:17:36.847089Z"
    }
   },
   "outputs": [],
   "source": [
    "org_to_cloud_vendor = {\n",
    "    'google': 'Google Cloud',\n",
    "    'deepmind': 'Google Cloud',\n",
    "    'microsoft': 'Microsoft Azure',\n",
    "    'openai': 'Microsoft Azure',\n",
    "}"
   ]
  },
  {
   "cell_type": "code",
   "execution_count": 53,
   "metadata": {
    "ExecuteTime": {
     "end_time": "2023-12-30T14:17:37.193235200Z",
     "start_time": "2023-12-30T14:17:36.871323300Z"
    }
   },
   "outputs": [
    {
     "name": "stdout",
     "output_type": "stream",
     "text": [
      "GNMT, Google Cloud, NVIDIA Tesla K80, at 2016-01-30 00:00:00\n",
      "Could not find price\n",
      "JFT, Google Cloud, NVIDIA Tesla K80, at 2017-03-12 00:00:00\n",
      "Could not find price\n",
      "AlphaGo Zero, Google Cloud, Google TPU v1, at 2017-07-30 00:00:00\n",
      "Could not find price\n",
      "AmoebaNet-A (F=448), Google Cloud, NVIDIA Tesla K40s, at 2017-11-30 00:00:00\n",
      "Could not find price\n",
      "IMPALA, Google Cloud, NVIDIA P100, at 2017-12-02 20:00:00\n",
      "Could not find price\n",
      "BigGAN-deep 512x512, Google Cloud, Google TPU v3, at 2018-07-28 00:00:00\n",
      "Could not find price\n",
      "RoBERTa Large, Amazon Web Services, NVIDIA Tesla V100 DGXS 32 GB, at 2019-04-27 00:00:00\n",
      "Megatron-BERT, Amazon Web Services, NVIDIA Tesla V100S PCIe 32 GB, at 2019-05-22 00:00:00\n",
      "Could not find price\n",
      "Megatron-LM (8.3B), Amazon Web Services, NVIDIA Tesla V100 DGXS 32 GB, at 2019-07-05 09:00:00\n",
      "T5-11B, Google Cloud, Google TPU v3, at 2019-08-03 23:00:00\n",
      "AlphaStar, Google Cloud, Google TPU v3, at 2019-07-18 00:00:00\n",
      "OpenAI Five, Microsoft Azure, nan, at 2018-12-22 00:00:00\n",
      "Could not find price\n",
      "Meena, Google Cloud, Google TPU v3, at 2019-10-30 00:00:00\n",
      "GPT-3 175B (davinci), Microsoft Azure, NVIDIA Tesla V100 DGXS 32 GB, at 2020-03-14 05:00:00\n",
      "Could not find price\n",
      "GShard (dense), Google Cloud, Google TPU v3, at 2020-03-20 00:00:00\n",
      "ALIGN, Google Cloud, Google TPU v3, at 2021-03-28 13:00:00\n",
      "Megatron-Turing NLG 530B, Microsoft Azure, NVIDIA A100 SXM4 80 GB, at 2021-07-10 22:00:00\n",
      "Gopher (280B), Google Cloud, Google TPU v3, at 2021-08-31 16:00:00\n",
      "GLaM, Google Cloud, Google TPU v4, at 2021-08-18 02:00:00\n",
      "LaMDA, Google Cloud, Google TPU v3, at 2021-10-15 07:00:00\n",
      "PaLM (540B), Google Cloud, Google TPU v4, at 2021-12-08 00:00:00\n",
      "OPT-175B, Amazon Web Services, NVIDIA A100 SXM4 80 GB, at 2022-01-28 23:00:00\n",
      "Minerva (540B), Google Cloud, Google TPU v4, at 2022-04-01 00:00:00\n",
      "LLaMA-65B, Amazon Web Services, NVIDIA A100, at 2022-12-05 04:00:00\n",
      "Could not find price\n",
      "GPT-4, Microsoft Azure, NVIDIA A100 SXM4 40 GB, at 2022-10-11 00:00:00\n",
      "Could not find price\n",
      "Llama 2-70B, Amazon Web Services, NVIDIA A100 SXM4 80 GB, at 2022-11-20 00:00:00\n",
      "Falcon 180B, Amazon Web Services, NVIDIA A100 SXM4 40 GB, at 2023-01-09 00:00:00\n"
     ]
    },
    {
     "data": {
      "text/plain": "{'RoBERTa Large': 2.29,\n 'Megatron-LM (8.3B)': 2.29,\n 'T5-11B': 1.26,\n 'AlphaStar': 1.26,\n 'Meena': 1.26,\n 'GShard (dense)': 1.26,\n 'ALIGN': 1.26,\n 'Megatron-Turing NLG 530B': 2.62,\n 'Gopher (280B)': 1.26,\n 'GLaM': 2.03,\n 'LaMDA': 1.26,\n 'PaLM (540B)': 2.03,\n 'OPT-175B': 3.0,\n 'Minerva (540B)': 2.03,\n 'Llama 2-70B': 3.0,\n 'Falcon 180B': 2.4}"
     },
     "execution_count": 53,
     "metadata": {},
     "output_type": "execute_result"
    }
   ],
   "source": [
    "price_colname = 'Price per chip-hour (1-year CUD)'\n",
    "system_to_price = {}\n",
    "\n",
    "for i, row in frontier_pcd_df.iterrows():\n",
    "    # Subtract training time plus 2 months from publication date\n",
    "    if pd.isna(row['Training time (hours)']):\n",
    "        continue\n",
    "\n",
    "    training_time_offset = pd.Timedelta(hours=int(row['Training time (hours)']))\n",
    "    low_buffer_time_offset = pd.Timedelta(days=30)\n",
    "    mid_buffer_time_offset = pd.Timedelta(days=60)\n",
    "    high_buffer_time_offset = pd.Timedelta(days=150)\n",
    "\n",
    "    high_purchase_time = row['Publication date'] - (training_time_offset + low_buffer_time_offset)\n",
    "    mid_purchase_time = row['Publication date'] - (training_time_offset + mid_buffer_time_offset)\n",
    "    low_purchase_time = row['Publication date'] - (training_time_offset + high_buffer_time_offset)\n",
    "\n",
    "    hardware_model = row[pcd_hardware_model_colname]\n",
    "\n",
    "    orgs = row['Organization'].split(',')\n",
    "    vendor = None\n",
    "    for org in orgs:\n",
    "        for key in org_to_cloud_vendor:\n",
    "            if key in org.lower():\n",
    "                vendor = org_to_cloud_vendor[key]\n",
    "                break\n",
    "\n",
    "    if vendor is None:\n",
    "        vendor = 'Amazon Web Services'  # default\n",
    "\n",
    "    print(f\"{row['System']}, {vendor}, {hardware_model}, at {mid_purchase_time}\")\n",
    "\n",
    "    # Find the price of the hardware at the time of purchase\n",
    "    closest_price_dates_df = find_closest_price_dates(vendor, hardware_model, mid_purchase_time, price_df)\n",
    "    price_per_chip_hour = None\n",
    "    for i, price_row in closest_price_dates_df.iterrows():\n",
    "        if price_row['Price date'] <= mid_purchase_time:\n",
    "            price_per_chip_hour = price_row[price_colname]\n",
    "            break\n",
    "    if price_per_chip_hour is None:\n",
    "        for i, price_row in closest_price_dates_df.iterrows():\n",
    "            if price_row['Price date'] > mid_purchase_time:\n",
    "                price_per_chip_hour = price_row[price_colname]\n",
    "                break\n",
    "    if type(price_per_chip_hour) is str:\n",
    "        system_to_price[row['System']] = float(price_per_chip_hour.strip('$'))\n",
    "    else:\n",
    "        print(f\"Could not find price\")\n",
    "        continue\n",
    "\n",
    "system_to_price"
   ]
  },
  {
   "cell_type": "markdown",
   "metadata": {},
   "source": [
    "# Cost estimation"
   ]
  },
  {
   "cell_type": "markdown",
   "metadata": {},
   "source": [
    "TODO: inflation adjustment"
   ]
  },
  {
   "cell_type": "markdown",
   "metadata": {},
   "source": [
    "cost = price_per_chip_hour * chip_hours"
   ]
  },
  {
   "cell_type": "code",
   "execution_count": 54,
   "metadata": {
    "ExecuteTime": {
     "end_time": "2023-12-30T14:17:37.209230400Z",
     "start_time": "2023-12-30T14:17:36.998916900Z"
    }
   },
   "outputs": [],
   "source": [
    "def estimate_cost(row, system_to_price):\n",
    "    system = row['System']\n",
    "    price = system_to_price.get(system)\n",
    "    if price is None:\n",
    "        return None\n",
    "\n",
    "    chip_hours = row['Training time (chip hours)']\n",
    "    if np.isnan(chip_hours):\n",
    "        return None\n",
    "\n",
    "    cost = price * chip_hours\n",
    "\n",
    "    # Check for base model\n",
    "    if not pd.isna(row['Base model']):\n",
    "        base_model_name = row['Base model']\n",
    "        base_model = frontier_pcd_df[frontier_pcd_df['System'] == base_model_name].squeeze()\n",
    "        base_cost = estimate_cost(base_model, system_to_price)\n",
    "        if base_cost is None:\n",
    "            return None\n",
    "        else:\n",
    "            cost += base_cost\n",
    "\n",
    "    return cost\n",
    "    "
   ]
  },
  {
   "cell_type": "code",
   "execution_count": 55,
   "metadata": {
    "ExecuteTime": {
     "end_time": "2023-12-30T14:17:37.209230400Z",
     "start_time": "2023-12-30T14:17:37.031279900Z"
    }
   },
   "outputs": [
    {
     "data": {
      "text/plain": "{'RoBERTa Large': 281395.2,\n 'Megatron-LM (8.3B)': 383400.96,\n 'T5-11B': 310883.328,\n 'AlphaStar': 510935.04,\n 'Meena': 928972.8,\n 'GShard (dense)': 1300561.92,\n 'ALIGN': 224050.176,\n 'Megatron-Turing NLG 530B': 9037952.0,\n 'Gopher (280B)': 4748083.2,\n 'GLaM': 2839531.5199999996,\n 'LaMDA': 1786982.4,\n 'PaLM (540B)': 17062133.759999998,\n 'OPT-175B': 2437632.0,\n 'Minerva (540B)': 18508922.88,\n 'Falcon 180B': 42467328.0}"
     },
     "execution_count": 55,
     "metadata": {},
     "output_type": "execute_result"
    }
   ],
   "source": [
    "system_to_cost = {}\n",
    "for i, row in frontier_pcd_df.iterrows():\n",
    "    cost = estimate_cost(row, system_to_price)\n",
    "    if cost is None:\n",
    "        continue\n",
    "    system_to_cost[row['System']] = cost\n",
    "\n",
    "system_to_cost"
   ]
  },
  {
   "cell_type": "markdown",
   "metadata": {},
   "source": [
    "# Regression"
   ]
  },
  {
   "cell_type": "code",
   "execution_count": 55,
   "metadata": {
    "ExecuteTime": {
     "end_time": "2023-12-30T14:17:37.209230400Z",
     "start_time": "2023-12-30T14:17:37.055350300Z"
    }
   },
   "outputs": [],
   "source": []
  },
  {
   "cell_type": "markdown",
   "metadata": {},
   "source": [
    "# Plots"
   ]
  },
  {
   "cell_type": "code",
   "execution_count": 56,
   "metadata": {
    "ExecuteTime": {
     "end_time": "2023-12-30T14:17:37.763721400Z",
     "start_time": "2023-12-30T14:17:37.079970100Z"
    }
   },
   "outputs": [
    {
     "data": {
      "application/vnd.plotly.v1+json": {
       "data": [
        {
         "line": {
          "color": "#034752"
         },
         "mode": "markers+text",
         "name": "RoBERTa Large",
         "text": "RoBERTa Large",
         "textposition": "top center",
         "x": [
          "2019-07-01T00:00:00"
         ],
         "y": [
          281395.2
         ],
         "type": "scatter"
        },
        {
         "line": {
          "color": "#034752"
         },
         "mode": "markers+text",
         "name": "Megatron-LM (8.3B)",
         "text": "Megatron-LM (8.3B)",
         "textposition": "top center",
         "x": [
          "2019-09-17T00:00:00"
         ],
         "y": [
          383400.96
         ],
         "type": "scatter"
        },
        {
         "line": {
          "color": "#034752"
         },
         "mode": "markers+text",
         "name": "T5-11B",
         "text": "T5-11B",
         "textposition": "top center",
         "x": [
          "2019-10-23T00:00:00"
         ],
         "y": [
          310883.328
         ],
         "type": "scatter"
        },
        {
         "line": {
          "color": "#034752"
         },
         "mode": "markers+text",
         "name": "AlphaStar",
         "text": "AlphaStar",
         "textposition": "top center",
         "x": [
          "2019-10-30T00:00:00"
         ],
         "y": [
          510935.04
         ],
         "type": "scatter"
        },
        {
         "line": {
          "color": "#034752"
         },
         "mode": "markers+text",
         "name": "Meena",
         "text": "Meena",
         "textposition": "top center",
         "x": [
          "2020-01-28T00:00:00"
         ],
         "y": [
          928972.8
         ],
         "type": "scatter"
        },
        {
         "line": {
          "color": "#034752"
         },
         "mode": "markers+text",
         "name": "GShard (dense)",
         "text": "GShard (dense)",
         "textposition": "top center",
         "x": [
          "2020-06-30T00:00:00"
         ],
         "y": [
          1300561.92
         ],
         "type": "scatter"
        },
        {
         "line": {
          "color": "#034752"
         },
         "mode": "markers+text",
         "name": "ALIGN",
         "text": "ALIGN",
         "textposition": "top center",
         "x": [
          "2021-06-11T00:00:00"
         ],
         "y": [
          224050.176
         ],
         "type": "scatter"
        },
        {
         "line": {
          "color": "#034752"
         },
         "mode": "markers+text",
         "name": "Megatron-Turing NLG 530B",
         "text": "Megatron-Turing NLG 530B",
         "textposition": "top center",
         "x": [
          "2021-10-11T00:00:00"
         ],
         "y": [
          9037952.0
         ],
         "type": "scatter"
        },
        {
         "line": {
          "color": "#034752"
         },
         "mode": "markers+text",
         "name": "Gopher (280B)",
         "text": "Gopher (280B)",
         "textposition": "top center",
         "x": [
          "2021-12-08T00:00:00"
         ],
         "y": [
          4748083.2
         ],
         "type": "scatter"
        },
        {
         "line": {
          "color": "#034752"
         },
         "mode": "markers+text",
         "name": "GLaM",
         "text": "GLaM",
         "textposition": "top center",
         "x": [
          "2021-12-13T00:00:00"
         ],
         "y": [
          2839531.5199999996
         ],
         "type": "scatter"
        },
        {
         "line": {
          "color": "#034752"
         },
         "mode": "markers+text",
         "name": "LaMDA",
         "text": "LaMDA",
         "textposition": "top center",
         "x": [
          "2022-02-10T00:00:00"
         ],
         "y": [
          1786982.4
         ],
         "type": "scatter"
        },
        {
         "line": {
          "color": "#034752"
         },
         "mode": "markers+text",
         "name": "PaLM (540B)",
         "text": "PaLM (540B)",
         "textposition": "top center",
         "x": [
          "2022-04-04T00:00:00"
         ],
         "y": [
          1.7062133759999998E7
         ],
         "type": "scatter"
        },
        {
         "line": {
          "color": "#034752"
         },
         "mode": "markers+text",
         "name": "OPT-175B",
         "text": "OPT-175B",
         "textposition": "top center",
         "x": [
          "2022-05-02T00:00:00"
         ],
         "y": [
          2437632.0
         ],
         "type": "scatter"
        },
        {
         "line": {
          "color": "#034752"
         },
         "mode": "markers+text",
         "name": "Minerva (540B)",
         "text": "Minerva (540B)",
         "textposition": "top center",
         "x": [
          "2022-06-29T00:00:00"
         ],
         "y": [
          1.850892288E7
         ],
         "type": "scatter"
        },
        {
         "line": {
          "color": "#034752"
         },
         "mode": "markers+text",
         "name": "Falcon 180B",
         "text": "Falcon 180B",
         "textposition": "top center",
         "x": [
          "2023-09-06T00:00:00"
         ],
         "y": [
          4.2467328E7
         ],
         "type": "scatter"
        }
       ],
       "layout": {
        "template": {
         "data": {
          "histogram2dcontour": [
           {
            "type": "histogram2dcontour",
            "colorbar": {
             "outlinewidth": 0,
             "ticks": ""
            },
            "colorscale": [
             [
              0.0,
              "#0d0887"
             ],
             [
              0.1111111111111111,
              "#46039f"
             ],
             [
              0.2222222222222222,
              "#7201a8"
             ],
             [
              0.3333333333333333,
              "#9c179e"
             ],
             [
              0.4444444444444444,
              "#bd3786"
             ],
             [
              0.5555555555555556,
              "#d8576b"
             ],
             [
              0.6666666666666666,
              "#ed7953"
             ],
             [
              0.7777777777777778,
              "#fb9f3a"
             ],
             [
              0.8888888888888888,
              "#fdca26"
             ],
             [
              1.0,
              "#f0f921"
             ]
            ]
           }
          ],
          "choropleth": [
           {
            "type": "choropleth",
            "colorbar": {
             "outlinewidth": 0,
             "ticks": ""
            }
           }
          ],
          "histogram2d": [
           {
            "type": "histogram2d",
            "colorbar": {
             "outlinewidth": 0,
             "ticks": ""
            },
            "colorscale": [
             [
              0.0,
              "#0d0887"
             ],
             [
              0.1111111111111111,
              "#46039f"
             ],
             [
              0.2222222222222222,
              "#7201a8"
             ],
             [
              0.3333333333333333,
              "#9c179e"
             ],
             [
              0.4444444444444444,
              "#bd3786"
             ],
             [
              0.5555555555555556,
              "#d8576b"
             ],
             [
              0.6666666666666666,
              "#ed7953"
             ],
             [
              0.7777777777777778,
              "#fb9f3a"
             ],
             [
              0.8888888888888888,
              "#fdca26"
             ],
             [
              1.0,
              "#f0f921"
             ]
            ]
           }
          ],
          "heatmap": [
           {
            "type": "heatmap",
            "colorbar": {
             "outlinewidth": 0,
             "ticks": ""
            },
            "colorscale": [
             [
              0.0,
              "#0d0887"
             ],
             [
              0.1111111111111111,
              "#46039f"
             ],
             [
              0.2222222222222222,
              "#7201a8"
             ],
             [
              0.3333333333333333,
              "#9c179e"
             ],
             [
              0.4444444444444444,
              "#bd3786"
             ],
             [
              0.5555555555555556,
              "#d8576b"
             ],
             [
              0.6666666666666666,
              "#ed7953"
             ],
             [
              0.7777777777777778,
              "#fb9f3a"
             ],
             [
              0.8888888888888888,
              "#fdca26"
             ],
             [
              1.0,
              "#f0f921"
             ]
            ]
           }
          ],
          "heatmapgl": [
           {
            "type": "heatmapgl",
            "colorbar": {
             "outlinewidth": 0,
             "ticks": ""
            },
            "colorscale": [
             [
              0.0,
              "#0d0887"
             ],
             [
              0.1111111111111111,
              "#46039f"
             ],
             [
              0.2222222222222222,
              "#7201a8"
             ],
             [
              0.3333333333333333,
              "#9c179e"
             ],
             [
              0.4444444444444444,
              "#bd3786"
             ],
             [
              0.5555555555555556,
              "#d8576b"
             ],
             [
              0.6666666666666666,
              "#ed7953"
             ],
             [
              0.7777777777777778,
              "#fb9f3a"
             ],
             [
              0.8888888888888888,
              "#fdca26"
             ],
             [
              1.0,
              "#f0f921"
             ]
            ]
           }
          ],
          "contourcarpet": [
           {
            "type": "contourcarpet",
            "colorbar": {
             "outlinewidth": 0,
             "ticks": ""
            }
           }
          ],
          "contour": [
           {
            "type": "contour",
            "colorbar": {
             "outlinewidth": 0,
             "ticks": ""
            },
            "colorscale": [
             [
              0.0,
              "#0d0887"
             ],
             [
              0.1111111111111111,
              "#46039f"
             ],
             [
              0.2222222222222222,
              "#7201a8"
             ],
             [
              0.3333333333333333,
              "#9c179e"
             ],
             [
              0.4444444444444444,
              "#bd3786"
             ],
             [
              0.5555555555555556,
              "#d8576b"
             ],
             [
              0.6666666666666666,
              "#ed7953"
             ],
             [
              0.7777777777777778,
              "#fb9f3a"
             ],
             [
              0.8888888888888888,
              "#fdca26"
             ],
             [
              1.0,
              "#f0f921"
             ]
            ]
           }
          ],
          "surface": [
           {
            "type": "surface",
            "colorbar": {
             "outlinewidth": 0,
             "ticks": ""
            },
            "colorscale": [
             [
              0.0,
              "#0d0887"
             ],
             [
              0.1111111111111111,
              "#46039f"
             ],
             [
              0.2222222222222222,
              "#7201a8"
             ],
             [
              0.3333333333333333,
              "#9c179e"
             ],
             [
              0.4444444444444444,
              "#bd3786"
             ],
             [
              0.5555555555555556,
              "#d8576b"
             ],
             [
              0.6666666666666666,
              "#ed7953"
             ],
             [
              0.7777777777777778,
              "#fb9f3a"
             ],
             [
              0.8888888888888888,
              "#fdca26"
             ],
             [
              1.0,
              "#f0f921"
             ]
            ]
           }
          ],
          "mesh3d": [
           {
            "type": "mesh3d",
            "colorbar": {
             "outlinewidth": 0,
             "ticks": ""
            }
           }
          ],
          "scatter": [
           {
            "fillpattern": {
             "fillmode": "overlay",
             "size": 10,
             "solidity": 0.2
            },
            "type": "scatter"
           }
          ],
          "parcoords": [
           {
            "type": "parcoords",
            "line": {
             "colorbar": {
              "outlinewidth": 0,
              "ticks": ""
             }
            }
           }
          ],
          "scatterpolargl": [
           {
            "type": "scatterpolargl",
            "marker": {
             "colorbar": {
              "outlinewidth": 0,
              "ticks": ""
             }
            }
           }
          ],
          "bar": [
           {
            "error_x": {
             "color": "#2a3f5f"
            },
            "error_y": {
             "color": "#2a3f5f"
            },
            "marker": {
             "line": {
              "color": "#E5ECF6",
              "width": 0.5
             },
             "pattern": {
              "fillmode": "overlay",
              "size": 10,
              "solidity": 0.2
             }
            },
            "type": "bar"
           }
          ],
          "scattergeo": [
           {
            "type": "scattergeo",
            "marker": {
             "colorbar": {
              "outlinewidth": 0,
              "ticks": ""
             }
            }
           }
          ],
          "scatterpolar": [
           {
            "type": "scatterpolar",
            "marker": {
             "colorbar": {
              "outlinewidth": 0,
              "ticks": ""
             }
            }
           }
          ],
          "histogram": [
           {
            "marker": {
             "pattern": {
              "fillmode": "overlay",
              "size": 10,
              "solidity": 0.2
             }
            },
            "type": "histogram"
           }
          ],
          "scattergl": [
           {
            "type": "scattergl",
            "marker": {
             "colorbar": {
              "outlinewidth": 0,
              "ticks": ""
             }
            }
           }
          ],
          "scatter3d": [
           {
            "type": "scatter3d",
            "line": {
             "colorbar": {
              "outlinewidth": 0,
              "ticks": ""
             }
            },
            "marker": {
             "colorbar": {
              "outlinewidth": 0,
              "ticks": ""
             }
            }
           }
          ],
          "scattermapbox": [
           {
            "type": "scattermapbox",
            "marker": {
             "colorbar": {
              "outlinewidth": 0,
              "ticks": ""
             }
            }
           }
          ],
          "scatterternary": [
           {
            "type": "scatterternary",
            "marker": {
             "colorbar": {
              "outlinewidth": 0,
              "ticks": ""
             }
            }
           }
          ],
          "scattercarpet": [
           {
            "type": "scattercarpet",
            "marker": {
             "colorbar": {
              "outlinewidth": 0,
              "ticks": ""
             }
            }
           }
          ],
          "carpet": [
           {
            "aaxis": {
             "endlinecolor": "#2a3f5f",
             "gridcolor": "white",
             "linecolor": "white",
             "minorgridcolor": "white",
             "startlinecolor": "#2a3f5f"
            },
            "baxis": {
             "endlinecolor": "#2a3f5f",
             "gridcolor": "white",
             "linecolor": "white",
             "minorgridcolor": "white",
             "startlinecolor": "#2a3f5f"
            },
            "type": "carpet"
           }
          ],
          "table": [
           {
            "cells": {
             "fill": {
              "color": "#EBF0F8"
             },
             "line": {
              "color": "white"
             }
            },
            "header": {
             "fill": {
              "color": "#C8D4E3"
             },
             "line": {
              "color": "white"
             }
            },
            "type": "table"
           }
          ],
          "barpolar": [
           {
            "marker": {
             "line": {
              "color": "#E5ECF6",
              "width": 0.5
             },
             "pattern": {
              "fillmode": "overlay",
              "size": 10,
              "solidity": 0.2
             }
            },
            "type": "barpolar"
           }
          ],
          "pie": [
           {
            "automargin": true,
            "type": "pie"
           }
          ]
         },
         "layout": {
          "autotypenumbers": "strict",
          "colorway": [
           "#636efa",
           "#EF553B",
           "#00cc96",
           "#ab63fa",
           "#FFA15A",
           "#19d3f3",
           "#FF6692",
           "#B6E880",
           "#FF97FF",
           "#FECB52"
          ],
          "font": {
           "color": "#2a3f5f"
          },
          "hovermode": "closest",
          "hoverlabel": {
           "align": "left"
          },
          "paper_bgcolor": "white",
          "plot_bgcolor": "#E5ECF6",
          "polar": {
           "bgcolor": "#E5ECF6",
           "angularaxis": {
            "gridcolor": "white",
            "linecolor": "white",
            "ticks": ""
           },
           "radialaxis": {
            "gridcolor": "white",
            "linecolor": "white",
            "ticks": ""
           }
          },
          "ternary": {
           "bgcolor": "#E5ECF6",
           "aaxis": {
            "gridcolor": "white",
            "linecolor": "white",
            "ticks": ""
           },
           "baxis": {
            "gridcolor": "white",
            "linecolor": "white",
            "ticks": ""
           },
           "caxis": {
            "gridcolor": "white",
            "linecolor": "white",
            "ticks": ""
           }
          },
          "coloraxis": {
           "colorbar": {
            "outlinewidth": 0,
            "ticks": ""
           }
          },
          "colorscale": {
           "sequential": [
            [
             0.0,
             "#0d0887"
            ],
            [
             0.1111111111111111,
             "#46039f"
            ],
            [
             0.2222222222222222,
             "#7201a8"
            ],
            [
             0.3333333333333333,
             "#9c179e"
            ],
            [
             0.4444444444444444,
             "#bd3786"
            ],
            [
             0.5555555555555556,
             "#d8576b"
            ],
            [
             0.6666666666666666,
             "#ed7953"
            ],
            [
             0.7777777777777778,
             "#fb9f3a"
            ],
            [
             0.8888888888888888,
             "#fdca26"
            ],
            [
             1.0,
             "#f0f921"
            ]
           ],
           "sequentialminus": [
            [
             0.0,
             "#0d0887"
            ],
            [
             0.1111111111111111,
             "#46039f"
            ],
            [
             0.2222222222222222,
             "#7201a8"
            ],
            [
             0.3333333333333333,
             "#9c179e"
            ],
            [
             0.4444444444444444,
             "#bd3786"
            ],
            [
             0.5555555555555556,
             "#d8576b"
            ],
            [
             0.6666666666666666,
             "#ed7953"
            ],
            [
             0.7777777777777778,
             "#fb9f3a"
            ],
            [
             0.8888888888888888,
             "#fdca26"
            ],
            [
             1.0,
             "#f0f921"
            ]
           ],
           "diverging": [
            [
             0,
             "#8e0152"
            ],
            [
             0.1,
             "#c51b7d"
            ],
            [
             0.2,
             "#de77ae"
            ],
            [
             0.3,
             "#f1b6da"
            ],
            [
             0.4,
             "#fde0ef"
            ],
            [
             0.5,
             "#f7f7f7"
            ],
            [
             0.6,
             "#e6f5d0"
            ],
            [
             0.7,
             "#b8e186"
            ],
            [
             0.8,
             "#7fbc41"
            ],
            [
             0.9,
             "#4d9221"
            ],
            [
             1,
             "#276419"
            ]
           ]
          },
          "xaxis": {
           "gridcolor": "white",
           "linecolor": "white",
           "ticks": "",
           "title": {
            "standoff": 15
           },
           "zerolinecolor": "white",
           "automargin": true,
           "zerolinewidth": 2
          },
          "yaxis": {
           "gridcolor": "white",
           "linecolor": "white",
           "ticks": "",
           "title": {
            "standoff": 15
           },
           "zerolinecolor": "white",
           "automargin": true,
           "zerolinewidth": 2
          },
          "scene": {
           "xaxis": {
            "backgroundcolor": "#E5ECF6",
            "gridcolor": "white",
            "linecolor": "white",
            "showbackground": true,
            "ticks": "",
            "zerolinecolor": "white",
            "gridwidth": 2
           },
           "yaxis": {
            "backgroundcolor": "#E5ECF6",
            "gridcolor": "white",
            "linecolor": "white",
            "showbackground": true,
            "ticks": "",
            "zerolinecolor": "white",
            "gridwidth": 2
           },
           "zaxis": {
            "backgroundcolor": "#E5ECF6",
            "gridcolor": "white",
            "linecolor": "white",
            "showbackground": true,
            "ticks": "",
            "zerolinecolor": "white",
            "gridwidth": 2
           }
          },
          "shapedefaults": {
           "line": {
            "color": "#2a3f5f"
           }
          },
          "annotationdefaults": {
           "arrowcolor": "#2a3f5f",
           "arrowhead": 0,
           "arrowwidth": 1
          },
          "geo": {
           "bgcolor": "white",
           "landcolor": "#E5ECF6",
           "subunitcolor": "white",
           "showland": true,
           "showlakes": true,
           "lakecolor": "white"
          },
          "title": {
           "x": 0.05
          },
          "mapbox": {
           "style": "light"
          }
         }
        },
        "yaxis": {
         "type": "log",
         "title": {
          "text": "Cost (USD, nominal)"
         },
         "range": [
          5,
          8
         ]
        },
        "showlegend": false,
        "xaxis": {
         "title": {
          "text": "Publication date"
         },
         "range": [
          "2018-01-01",
          "2025-01-01"
         ]
        },
        "title": {
         "text": "Cost of cloud compute to train frontier ML systems"
        },
        "autosize": false,
        "width": 800,
        "height": 600,
        "font": {
         "size": 14
        },
        "margin": {
         "l": 10,
         "r": 10,
         "t": 40,
         "b": 10
        }
       },
       "config": {
        "plotlyServerURL": "https://plot.ly"
       }
      },
      "text/html": "<div>                            <div id=\"533a8e22-c1c6-421d-8d48-48ec862ae713\" class=\"plotly-graph-div\" style=\"height:600px; width:800px;\"></div>            <script type=\"text/javascript\">                require([\"plotly\"], function(Plotly) {                    window.PLOTLYENV=window.PLOTLYENV || {};                                    if (document.getElementById(\"533a8e22-c1c6-421d-8d48-48ec862ae713\")) {                    Plotly.newPlot(                        \"533a8e22-c1c6-421d-8d48-48ec862ae713\",                        [{\"line\":{\"color\":\"#034752\"},\"mode\":\"markers+text\",\"name\":\"RoBERTa Large\",\"text\":\"RoBERTa Large\",\"textposition\":\"top center\",\"x\":[\"2019-07-01T00:00:00\"],\"y\":[281395.2],\"type\":\"scatter\"},{\"line\":{\"color\":\"#034752\"},\"mode\":\"markers+text\",\"name\":\"Megatron-LM (8.3B)\",\"text\":\"Megatron-LM (8.3B)\",\"textposition\":\"top center\",\"x\":[\"2019-09-17T00:00:00\"],\"y\":[383400.96],\"type\":\"scatter\"},{\"line\":{\"color\":\"#034752\"},\"mode\":\"markers+text\",\"name\":\"T5-11B\",\"text\":\"T5-11B\",\"textposition\":\"top center\",\"x\":[\"2019-10-23T00:00:00\"],\"y\":[310883.328],\"type\":\"scatter\"},{\"line\":{\"color\":\"#034752\"},\"mode\":\"markers+text\",\"name\":\"AlphaStar\",\"text\":\"AlphaStar\",\"textposition\":\"top center\",\"x\":[\"2019-10-30T00:00:00\"],\"y\":[510935.04],\"type\":\"scatter\"},{\"line\":{\"color\":\"#034752\"},\"mode\":\"markers+text\",\"name\":\"Meena\",\"text\":\"Meena\",\"textposition\":\"top center\",\"x\":[\"2020-01-28T00:00:00\"],\"y\":[928972.8],\"type\":\"scatter\"},{\"line\":{\"color\":\"#034752\"},\"mode\":\"markers+text\",\"name\":\"GShard (dense)\",\"text\":\"GShard (dense)\",\"textposition\":\"top center\",\"x\":[\"2020-06-30T00:00:00\"],\"y\":[1300561.92],\"type\":\"scatter\"},{\"line\":{\"color\":\"#034752\"},\"mode\":\"markers+text\",\"name\":\"ALIGN\",\"text\":\"ALIGN\",\"textposition\":\"top center\",\"x\":[\"2021-06-11T00:00:00\"],\"y\":[224050.176],\"type\":\"scatter\"},{\"line\":{\"color\":\"#034752\"},\"mode\":\"markers+text\",\"name\":\"Megatron-Turing NLG 530B\",\"text\":\"Megatron-Turing NLG 530B\",\"textposition\":\"top center\",\"x\":[\"2021-10-11T00:00:00\"],\"y\":[9037952.0],\"type\":\"scatter\"},{\"line\":{\"color\":\"#034752\"},\"mode\":\"markers+text\",\"name\":\"Gopher (280B)\",\"text\":\"Gopher (280B)\",\"textposition\":\"top center\",\"x\":[\"2021-12-08T00:00:00\"],\"y\":[4748083.2],\"type\":\"scatter\"},{\"line\":{\"color\":\"#034752\"},\"mode\":\"markers+text\",\"name\":\"GLaM\",\"text\":\"GLaM\",\"textposition\":\"top center\",\"x\":[\"2021-12-13T00:00:00\"],\"y\":[2839531.5199999996],\"type\":\"scatter\"},{\"line\":{\"color\":\"#034752\"},\"mode\":\"markers+text\",\"name\":\"LaMDA\",\"text\":\"LaMDA\",\"textposition\":\"top center\",\"x\":[\"2022-02-10T00:00:00\"],\"y\":[1786982.4],\"type\":\"scatter\"},{\"line\":{\"color\":\"#034752\"},\"mode\":\"markers+text\",\"name\":\"PaLM (540B)\",\"text\":\"PaLM (540B)\",\"textposition\":\"top center\",\"x\":[\"2022-04-04T00:00:00\"],\"y\":[17062133.759999998],\"type\":\"scatter\"},{\"line\":{\"color\":\"#034752\"},\"mode\":\"markers+text\",\"name\":\"OPT-175B\",\"text\":\"OPT-175B\",\"textposition\":\"top center\",\"x\":[\"2022-05-02T00:00:00\"],\"y\":[2437632.0],\"type\":\"scatter\"},{\"line\":{\"color\":\"#034752\"},\"mode\":\"markers+text\",\"name\":\"Minerva (540B)\",\"text\":\"Minerva (540B)\",\"textposition\":\"top center\",\"x\":[\"2022-06-29T00:00:00\"],\"y\":[18508922.88],\"type\":\"scatter\"},{\"line\":{\"color\":\"#034752\"},\"mode\":\"markers+text\",\"name\":\"Falcon 180B\",\"text\":\"Falcon 180B\",\"textposition\":\"top center\",\"x\":[\"2023-09-06T00:00:00\"],\"y\":[42467328.0],\"type\":\"scatter\"}],                        {\"template\":{\"data\":{\"histogram2dcontour\":[{\"type\":\"histogram2dcontour\",\"colorbar\":{\"outlinewidth\":0,\"ticks\":\"\"},\"colorscale\":[[0.0,\"#0d0887\"],[0.1111111111111111,\"#46039f\"],[0.2222222222222222,\"#7201a8\"],[0.3333333333333333,\"#9c179e\"],[0.4444444444444444,\"#bd3786\"],[0.5555555555555556,\"#d8576b\"],[0.6666666666666666,\"#ed7953\"],[0.7777777777777778,\"#fb9f3a\"],[0.8888888888888888,\"#fdca26\"],[1.0,\"#f0f921\"]]}],\"choropleth\":[{\"type\":\"choropleth\",\"colorbar\":{\"outlinewidth\":0,\"ticks\":\"\"}}],\"histogram2d\":[{\"type\":\"histogram2d\",\"colorbar\":{\"outlinewidth\":0,\"ticks\":\"\"},\"colorscale\":[[0.0,\"#0d0887\"],[0.1111111111111111,\"#46039f\"],[0.2222222222222222,\"#7201a8\"],[0.3333333333333333,\"#9c179e\"],[0.4444444444444444,\"#bd3786\"],[0.5555555555555556,\"#d8576b\"],[0.6666666666666666,\"#ed7953\"],[0.7777777777777778,\"#fb9f3a\"],[0.8888888888888888,\"#fdca26\"],[1.0,\"#f0f921\"]]}],\"heatmap\":[{\"type\":\"heatmap\",\"colorbar\":{\"outlinewidth\":0,\"ticks\":\"\"},\"colorscale\":[[0.0,\"#0d0887\"],[0.1111111111111111,\"#46039f\"],[0.2222222222222222,\"#7201a8\"],[0.3333333333333333,\"#9c179e\"],[0.4444444444444444,\"#bd3786\"],[0.5555555555555556,\"#d8576b\"],[0.6666666666666666,\"#ed7953\"],[0.7777777777777778,\"#fb9f3a\"],[0.8888888888888888,\"#fdca26\"],[1.0,\"#f0f921\"]]}],\"heatmapgl\":[{\"type\":\"heatmapgl\",\"colorbar\":{\"outlinewidth\":0,\"ticks\":\"\"},\"colorscale\":[[0.0,\"#0d0887\"],[0.1111111111111111,\"#46039f\"],[0.2222222222222222,\"#7201a8\"],[0.3333333333333333,\"#9c179e\"],[0.4444444444444444,\"#bd3786\"],[0.5555555555555556,\"#d8576b\"],[0.6666666666666666,\"#ed7953\"],[0.7777777777777778,\"#fb9f3a\"],[0.8888888888888888,\"#fdca26\"],[1.0,\"#f0f921\"]]}],\"contourcarpet\":[{\"type\":\"contourcarpet\",\"colorbar\":{\"outlinewidth\":0,\"ticks\":\"\"}}],\"contour\":[{\"type\":\"contour\",\"colorbar\":{\"outlinewidth\":0,\"ticks\":\"\"},\"colorscale\":[[0.0,\"#0d0887\"],[0.1111111111111111,\"#46039f\"],[0.2222222222222222,\"#7201a8\"],[0.3333333333333333,\"#9c179e\"],[0.4444444444444444,\"#bd3786\"],[0.5555555555555556,\"#d8576b\"],[0.6666666666666666,\"#ed7953\"],[0.7777777777777778,\"#fb9f3a\"],[0.8888888888888888,\"#fdca26\"],[1.0,\"#f0f921\"]]}],\"surface\":[{\"type\":\"surface\",\"colorbar\":{\"outlinewidth\":0,\"ticks\":\"\"},\"colorscale\":[[0.0,\"#0d0887\"],[0.1111111111111111,\"#46039f\"],[0.2222222222222222,\"#7201a8\"],[0.3333333333333333,\"#9c179e\"],[0.4444444444444444,\"#bd3786\"],[0.5555555555555556,\"#d8576b\"],[0.6666666666666666,\"#ed7953\"],[0.7777777777777778,\"#fb9f3a\"],[0.8888888888888888,\"#fdca26\"],[1.0,\"#f0f921\"]]}],\"mesh3d\":[{\"type\":\"mesh3d\",\"colorbar\":{\"outlinewidth\":0,\"ticks\":\"\"}}],\"scatter\":[{\"fillpattern\":{\"fillmode\":\"overlay\",\"size\":10,\"solidity\":0.2},\"type\":\"scatter\"}],\"parcoords\":[{\"type\":\"parcoords\",\"line\":{\"colorbar\":{\"outlinewidth\":0,\"ticks\":\"\"}}}],\"scatterpolargl\":[{\"type\":\"scatterpolargl\",\"marker\":{\"colorbar\":{\"outlinewidth\":0,\"ticks\":\"\"}}}],\"bar\":[{\"error_x\":{\"color\":\"#2a3f5f\"},\"error_y\":{\"color\":\"#2a3f5f\"},\"marker\":{\"line\":{\"color\":\"#E5ECF6\",\"width\":0.5},\"pattern\":{\"fillmode\":\"overlay\",\"size\":10,\"solidity\":0.2}},\"type\":\"bar\"}],\"scattergeo\":[{\"type\":\"scattergeo\",\"marker\":{\"colorbar\":{\"outlinewidth\":0,\"ticks\":\"\"}}}],\"scatterpolar\":[{\"type\":\"scatterpolar\",\"marker\":{\"colorbar\":{\"outlinewidth\":0,\"ticks\":\"\"}}}],\"histogram\":[{\"marker\":{\"pattern\":{\"fillmode\":\"overlay\",\"size\":10,\"solidity\":0.2}},\"type\":\"histogram\"}],\"scattergl\":[{\"type\":\"scattergl\",\"marker\":{\"colorbar\":{\"outlinewidth\":0,\"ticks\":\"\"}}}],\"scatter3d\":[{\"type\":\"scatter3d\",\"line\":{\"colorbar\":{\"outlinewidth\":0,\"ticks\":\"\"}},\"marker\":{\"colorbar\":{\"outlinewidth\":0,\"ticks\":\"\"}}}],\"scattermapbox\":[{\"type\":\"scattermapbox\",\"marker\":{\"colorbar\":{\"outlinewidth\":0,\"ticks\":\"\"}}}],\"scatterternary\":[{\"type\":\"scatterternary\",\"marker\":{\"colorbar\":{\"outlinewidth\":0,\"ticks\":\"\"}}}],\"scattercarpet\":[{\"type\":\"scattercarpet\",\"marker\":{\"colorbar\":{\"outlinewidth\":0,\"ticks\":\"\"}}}],\"carpet\":[{\"aaxis\":{\"endlinecolor\":\"#2a3f5f\",\"gridcolor\":\"white\",\"linecolor\":\"white\",\"minorgridcolor\":\"white\",\"startlinecolor\":\"#2a3f5f\"},\"baxis\":{\"endlinecolor\":\"#2a3f5f\",\"gridcolor\":\"white\",\"linecolor\":\"white\",\"minorgridcolor\":\"white\",\"startlinecolor\":\"#2a3f5f\"},\"type\":\"carpet\"}],\"table\":[{\"cells\":{\"fill\":{\"color\":\"#EBF0F8\"},\"line\":{\"color\":\"white\"}},\"header\":{\"fill\":{\"color\":\"#C8D4E3\"},\"line\":{\"color\":\"white\"}},\"type\":\"table\"}],\"barpolar\":[{\"marker\":{\"line\":{\"color\":\"#E5ECF6\",\"width\":0.5},\"pattern\":{\"fillmode\":\"overlay\",\"size\":10,\"solidity\":0.2}},\"type\":\"barpolar\"}],\"pie\":[{\"automargin\":true,\"type\":\"pie\"}]},\"layout\":{\"autotypenumbers\":\"strict\",\"colorway\":[\"#636efa\",\"#EF553B\",\"#00cc96\",\"#ab63fa\",\"#FFA15A\",\"#19d3f3\",\"#FF6692\",\"#B6E880\",\"#FF97FF\",\"#FECB52\"],\"font\":{\"color\":\"#2a3f5f\"},\"hovermode\":\"closest\",\"hoverlabel\":{\"align\":\"left\"},\"paper_bgcolor\":\"white\",\"plot_bgcolor\":\"#E5ECF6\",\"polar\":{\"bgcolor\":\"#E5ECF6\",\"angularaxis\":{\"gridcolor\":\"white\",\"linecolor\":\"white\",\"ticks\":\"\"},\"radialaxis\":{\"gridcolor\":\"white\",\"linecolor\":\"white\",\"ticks\":\"\"}},\"ternary\":{\"bgcolor\":\"#E5ECF6\",\"aaxis\":{\"gridcolor\":\"white\",\"linecolor\":\"white\",\"ticks\":\"\"},\"baxis\":{\"gridcolor\":\"white\",\"linecolor\":\"white\",\"ticks\":\"\"},\"caxis\":{\"gridcolor\":\"white\",\"linecolor\":\"white\",\"ticks\":\"\"}},\"coloraxis\":{\"colorbar\":{\"outlinewidth\":0,\"ticks\":\"\"}},\"colorscale\":{\"sequential\":[[0.0,\"#0d0887\"],[0.1111111111111111,\"#46039f\"],[0.2222222222222222,\"#7201a8\"],[0.3333333333333333,\"#9c179e\"],[0.4444444444444444,\"#bd3786\"],[0.5555555555555556,\"#d8576b\"],[0.6666666666666666,\"#ed7953\"],[0.7777777777777778,\"#fb9f3a\"],[0.8888888888888888,\"#fdca26\"],[1.0,\"#f0f921\"]],\"sequentialminus\":[[0.0,\"#0d0887\"],[0.1111111111111111,\"#46039f\"],[0.2222222222222222,\"#7201a8\"],[0.3333333333333333,\"#9c179e\"],[0.4444444444444444,\"#bd3786\"],[0.5555555555555556,\"#d8576b\"],[0.6666666666666666,\"#ed7953\"],[0.7777777777777778,\"#fb9f3a\"],[0.8888888888888888,\"#fdca26\"],[1.0,\"#f0f921\"]],\"diverging\":[[0,\"#8e0152\"],[0.1,\"#c51b7d\"],[0.2,\"#de77ae\"],[0.3,\"#f1b6da\"],[0.4,\"#fde0ef\"],[0.5,\"#f7f7f7\"],[0.6,\"#e6f5d0\"],[0.7,\"#b8e186\"],[0.8,\"#7fbc41\"],[0.9,\"#4d9221\"],[1,\"#276419\"]]},\"xaxis\":{\"gridcolor\":\"white\",\"linecolor\":\"white\",\"ticks\":\"\",\"title\":{\"standoff\":15},\"zerolinecolor\":\"white\",\"automargin\":true,\"zerolinewidth\":2},\"yaxis\":{\"gridcolor\":\"white\",\"linecolor\":\"white\",\"ticks\":\"\",\"title\":{\"standoff\":15},\"zerolinecolor\":\"white\",\"automargin\":true,\"zerolinewidth\":2},\"scene\":{\"xaxis\":{\"backgroundcolor\":\"#E5ECF6\",\"gridcolor\":\"white\",\"linecolor\":\"white\",\"showbackground\":true,\"ticks\":\"\",\"zerolinecolor\":\"white\",\"gridwidth\":2},\"yaxis\":{\"backgroundcolor\":\"#E5ECF6\",\"gridcolor\":\"white\",\"linecolor\":\"white\",\"showbackground\":true,\"ticks\":\"\",\"zerolinecolor\":\"white\",\"gridwidth\":2},\"zaxis\":{\"backgroundcolor\":\"#E5ECF6\",\"gridcolor\":\"white\",\"linecolor\":\"white\",\"showbackground\":true,\"ticks\":\"\",\"zerolinecolor\":\"white\",\"gridwidth\":2}},\"shapedefaults\":{\"line\":{\"color\":\"#2a3f5f\"}},\"annotationdefaults\":{\"arrowcolor\":\"#2a3f5f\",\"arrowhead\":0,\"arrowwidth\":1},\"geo\":{\"bgcolor\":\"white\",\"landcolor\":\"#E5ECF6\",\"subunitcolor\":\"white\",\"showland\":true,\"showlakes\":true,\"lakecolor\":\"white\"},\"title\":{\"x\":0.05},\"mapbox\":{\"style\":\"light\"}}},\"yaxis\":{\"type\":\"log\",\"title\":{\"text\":\"Cost (USD, nominal)\"},\"range\":[5,8]},\"showlegend\":false,\"xaxis\":{\"title\":{\"text\":\"Publication date\"},\"range\":[\"2018-01-01\",\"2025-01-01\"]},\"title\":{\"text\":\"Cost of cloud compute to train frontier ML systems\"},\"autosize\":false,\"width\":800,\"height\":600,\"font\":{\"size\":14},\"margin\":{\"l\":10,\"r\":10,\"t\":40,\"b\":10}},                        {\"responsive\": true}                    ).then(function(){\n                            \nvar gd = document.getElementById('533a8e22-c1c6-421d-8d48-48ec862ae713');\nvar x = new MutationObserver(function (mutations, observer) {{\n        var display = window.getComputedStyle(gd).display;\n        if (!display || display === 'none') {{\n            console.log([gd, 'removed!']);\n            Plotly.purge(gd);\n            observer.disconnect();\n        }}\n}});\n\n// Listen for the removal of the full notebook cells\nvar notebookContainer = gd.closest('#notebook-container');\nif (notebookContainer) {{\n    x.observe(notebookContainer, {childList: true});\n}}\n\n// Listen for the clearing of the current output cell\nvar outputEl = gd.closest('.output');\nif (outputEl) {{\n    x.observe(outputEl, {childList: true});\n}}\n\n                        })                };                });            </script>        </div>"
     },
     "metadata": {},
     "output_type": "display_data"
    }
   ],
   "source": [
    "import plotly.graph_objects as go\n",
    "\n",
    "fig = go.Figure()\n",
    "for i, row in frontier_pcd_df.iterrows():\n",
    "    system = row['System']\n",
    "    cost = system_to_cost.get(system)\n",
    "    if cost is None:\n",
    "        continue\n",
    "    publication_date = row['Publication date']\n",
    "\n",
    "    fig.add_trace(go.Scatter(\n",
    "        x=[publication_date],\n",
    "        y=[cost],\n",
    "        name=system,\n",
    "        text=system,\n",
    "        textposition='top center',\n",
    "        line=dict(color='#034752'),\n",
    "        mode='markers+text',\n",
    "    ))\n",
    "\n",
    "# log y axis\n",
    "fig.update_yaxes(type=\"log\")\n",
    "# no legend\n",
    "fig.update_layout(showlegend=False)\n",
    "\n",
    "# axis labels\n",
    "fig.update_xaxes(title_text='Publication date')\n",
    "fig.update_yaxes(title_text='Cost (USD, nominal)')\n",
    "\n",
    "# title\n",
    "fig.update_layout(title_text='Cost of cloud compute to train frontier ML systems')\n",
    "\n",
    "# update size\n",
    "fig.update_layout(\n",
    "    autosize=False,\n",
    "    width=800,\n",
    "    height=600,\n",
    ")\n",
    "\n",
    "# font size\n",
    "fig.update_layout(\n",
    "    font=dict(\n",
    "        size=14,\n",
    "    )\n",
    ")\n",
    "\n",
    "# axis limits\n",
    "fig.update_xaxes(range=['2018-01-01', '2025-01-01'])\n",
    "fig.update_yaxes(range=[5, 8])\n",
    "\n",
    "# margins\n",
    "fig.update_layout(margin=dict(l=10, r=10, t=40, b=10))\n",
    "\n",
    "save_plot(fig, 'results/', 'cost_scatter')\n",
    "\n",
    "fig.show()"
   ]
  },
  {
   "cell_type": "code",
   "execution_count": 57,
   "metadata": {
    "ExecuteTime": {
     "end_time": "2023-12-30T14:17:37.763721400Z",
     "start_time": "2023-12-30T14:17:37.731722300Z"
    }
   },
   "outputs": [
    {
     "data": {
      "application/vnd.plotly.v1+json": {
       "data": [
        {
         "marker": {
          "color": "#034752"
         },
         "name": "RoBERTa Large",
         "x": [
          "RoBERTa Large"
         ],
         "y": [
          281395.2
         ],
         "type": "bar"
        },
        {
         "marker": {
          "color": "#034752"
         },
         "name": "Megatron-LM (8.3B)",
         "x": [
          "Megatron-LM (8.3B)"
         ],
         "y": [
          383400.96
         ],
         "type": "bar"
        },
        {
         "marker": {
          "color": "#034752"
         },
         "name": "T5-11B",
         "x": [
          "T5-11B"
         ],
         "y": [
          310883.328
         ],
         "type": "bar"
        },
        {
         "marker": {
          "color": "#034752"
         },
         "name": "AlphaStar",
         "x": [
          "AlphaStar"
         ],
         "y": [
          510935.04
         ],
         "type": "bar"
        },
        {
         "marker": {
          "color": "#034752"
         },
         "name": "Meena",
         "x": [
          "Meena"
         ],
         "y": [
          928972.8
         ],
         "type": "bar"
        },
        {
         "marker": {
          "color": "#034752"
         },
         "name": "GShard (dense)",
         "x": [
          "GShard (dense)"
         ],
         "y": [
          1300561.92
         ],
         "type": "bar"
        },
        {
         "marker": {
          "color": "#034752"
         },
         "name": "ALIGN",
         "x": [
          "ALIGN"
         ],
         "y": [
          224050.176
         ],
         "type": "bar"
        },
        {
         "marker": {
          "color": "#034752"
         },
         "name": "Megatron-Turing NLG 530B",
         "x": [
          "Megatron-Turing NLG 530B"
         ],
         "y": [
          9037952.0
         ],
         "type": "bar"
        },
        {
         "marker": {
          "color": "#034752"
         },
         "name": "Gopher (280B)",
         "x": [
          "Gopher (280B)"
         ],
         "y": [
          4748083.2
         ],
         "type": "bar"
        },
        {
         "marker": {
          "color": "#034752"
         },
         "name": "GLaM",
         "x": [
          "GLaM"
         ],
         "y": [
          2839531.5199999996
         ],
         "type": "bar"
        },
        {
         "marker": {
          "color": "#034752"
         },
         "name": "LaMDA",
         "x": [
          "LaMDA"
         ],
         "y": [
          1786982.4
         ],
         "type": "bar"
        },
        {
         "marker": {
          "color": "#034752"
         },
         "name": "PaLM (540B)",
         "x": [
          "PaLM (540B)"
         ],
         "y": [
          1.7062133759999998E7
         ],
         "type": "bar"
        },
        {
         "marker": {
          "color": "#034752"
         },
         "name": "OPT-175B",
         "x": [
          "OPT-175B"
         ],
         "y": [
          2437632.0
         ],
         "type": "bar"
        },
        {
         "marker": {
          "color": "#034752"
         },
         "name": "Minerva (540B)",
         "x": [
          "Minerva (540B)"
         ],
         "y": [
          1.850892288E7
         ],
         "type": "bar"
        },
        {
         "marker": {
          "color": "#034752"
         },
         "name": "Falcon 180B",
         "x": [
          "Falcon 180B"
         ],
         "y": [
          4.2467328E7
         ],
         "type": "bar"
        }
       ],
       "layout": {
        "template": {
         "data": {
          "histogram2dcontour": [
           {
            "type": "histogram2dcontour",
            "colorbar": {
             "outlinewidth": 0,
             "ticks": ""
            },
            "colorscale": [
             [
              0.0,
              "#0d0887"
             ],
             [
              0.1111111111111111,
              "#46039f"
             ],
             [
              0.2222222222222222,
              "#7201a8"
             ],
             [
              0.3333333333333333,
              "#9c179e"
             ],
             [
              0.4444444444444444,
              "#bd3786"
             ],
             [
              0.5555555555555556,
              "#d8576b"
             ],
             [
              0.6666666666666666,
              "#ed7953"
             ],
             [
              0.7777777777777778,
              "#fb9f3a"
             ],
             [
              0.8888888888888888,
              "#fdca26"
             ],
             [
              1.0,
              "#f0f921"
             ]
            ]
           }
          ],
          "choropleth": [
           {
            "type": "choropleth",
            "colorbar": {
             "outlinewidth": 0,
             "ticks": ""
            }
           }
          ],
          "histogram2d": [
           {
            "type": "histogram2d",
            "colorbar": {
             "outlinewidth": 0,
             "ticks": ""
            },
            "colorscale": [
             [
              0.0,
              "#0d0887"
             ],
             [
              0.1111111111111111,
              "#46039f"
             ],
             [
              0.2222222222222222,
              "#7201a8"
             ],
             [
              0.3333333333333333,
              "#9c179e"
             ],
             [
              0.4444444444444444,
              "#bd3786"
             ],
             [
              0.5555555555555556,
              "#d8576b"
             ],
             [
              0.6666666666666666,
              "#ed7953"
             ],
             [
              0.7777777777777778,
              "#fb9f3a"
             ],
             [
              0.8888888888888888,
              "#fdca26"
             ],
             [
              1.0,
              "#f0f921"
             ]
            ]
           }
          ],
          "heatmap": [
           {
            "type": "heatmap",
            "colorbar": {
             "outlinewidth": 0,
             "ticks": ""
            },
            "colorscale": [
             [
              0.0,
              "#0d0887"
             ],
             [
              0.1111111111111111,
              "#46039f"
             ],
             [
              0.2222222222222222,
              "#7201a8"
             ],
             [
              0.3333333333333333,
              "#9c179e"
             ],
             [
              0.4444444444444444,
              "#bd3786"
             ],
             [
              0.5555555555555556,
              "#d8576b"
             ],
             [
              0.6666666666666666,
              "#ed7953"
             ],
             [
              0.7777777777777778,
              "#fb9f3a"
             ],
             [
              0.8888888888888888,
              "#fdca26"
             ],
             [
              1.0,
              "#f0f921"
             ]
            ]
           }
          ],
          "heatmapgl": [
           {
            "type": "heatmapgl",
            "colorbar": {
             "outlinewidth": 0,
             "ticks": ""
            },
            "colorscale": [
             [
              0.0,
              "#0d0887"
             ],
             [
              0.1111111111111111,
              "#46039f"
             ],
             [
              0.2222222222222222,
              "#7201a8"
             ],
             [
              0.3333333333333333,
              "#9c179e"
             ],
             [
              0.4444444444444444,
              "#bd3786"
             ],
             [
              0.5555555555555556,
              "#d8576b"
             ],
             [
              0.6666666666666666,
              "#ed7953"
             ],
             [
              0.7777777777777778,
              "#fb9f3a"
             ],
             [
              0.8888888888888888,
              "#fdca26"
             ],
             [
              1.0,
              "#f0f921"
             ]
            ]
           }
          ],
          "contourcarpet": [
           {
            "type": "contourcarpet",
            "colorbar": {
             "outlinewidth": 0,
             "ticks": ""
            }
           }
          ],
          "contour": [
           {
            "type": "contour",
            "colorbar": {
             "outlinewidth": 0,
             "ticks": ""
            },
            "colorscale": [
             [
              0.0,
              "#0d0887"
             ],
             [
              0.1111111111111111,
              "#46039f"
             ],
             [
              0.2222222222222222,
              "#7201a8"
             ],
             [
              0.3333333333333333,
              "#9c179e"
             ],
             [
              0.4444444444444444,
              "#bd3786"
             ],
             [
              0.5555555555555556,
              "#d8576b"
             ],
             [
              0.6666666666666666,
              "#ed7953"
             ],
             [
              0.7777777777777778,
              "#fb9f3a"
             ],
             [
              0.8888888888888888,
              "#fdca26"
             ],
             [
              1.0,
              "#f0f921"
             ]
            ]
           }
          ],
          "surface": [
           {
            "type": "surface",
            "colorbar": {
             "outlinewidth": 0,
             "ticks": ""
            },
            "colorscale": [
             [
              0.0,
              "#0d0887"
             ],
             [
              0.1111111111111111,
              "#46039f"
             ],
             [
              0.2222222222222222,
              "#7201a8"
             ],
             [
              0.3333333333333333,
              "#9c179e"
             ],
             [
              0.4444444444444444,
              "#bd3786"
             ],
             [
              0.5555555555555556,
              "#d8576b"
             ],
             [
              0.6666666666666666,
              "#ed7953"
             ],
             [
              0.7777777777777778,
              "#fb9f3a"
             ],
             [
              0.8888888888888888,
              "#fdca26"
             ],
             [
              1.0,
              "#f0f921"
             ]
            ]
           }
          ],
          "mesh3d": [
           {
            "type": "mesh3d",
            "colorbar": {
             "outlinewidth": 0,
             "ticks": ""
            }
           }
          ],
          "scatter": [
           {
            "fillpattern": {
             "fillmode": "overlay",
             "size": 10,
             "solidity": 0.2
            },
            "type": "scatter"
           }
          ],
          "parcoords": [
           {
            "type": "parcoords",
            "line": {
             "colorbar": {
              "outlinewidth": 0,
              "ticks": ""
             }
            }
           }
          ],
          "scatterpolargl": [
           {
            "type": "scatterpolargl",
            "marker": {
             "colorbar": {
              "outlinewidth": 0,
              "ticks": ""
             }
            }
           }
          ],
          "bar": [
           {
            "error_x": {
             "color": "#2a3f5f"
            },
            "error_y": {
             "color": "#2a3f5f"
            },
            "marker": {
             "line": {
              "color": "#E5ECF6",
              "width": 0.5
             },
             "pattern": {
              "fillmode": "overlay",
              "size": 10,
              "solidity": 0.2
             }
            },
            "type": "bar"
           }
          ],
          "scattergeo": [
           {
            "type": "scattergeo",
            "marker": {
             "colorbar": {
              "outlinewidth": 0,
              "ticks": ""
             }
            }
           }
          ],
          "scatterpolar": [
           {
            "type": "scatterpolar",
            "marker": {
             "colorbar": {
              "outlinewidth": 0,
              "ticks": ""
             }
            }
           }
          ],
          "histogram": [
           {
            "marker": {
             "pattern": {
              "fillmode": "overlay",
              "size": 10,
              "solidity": 0.2
             }
            },
            "type": "histogram"
           }
          ],
          "scattergl": [
           {
            "type": "scattergl",
            "marker": {
             "colorbar": {
              "outlinewidth": 0,
              "ticks": ""
             }
            }
           }
          ],
          "scatter3d": [
           {
            "type": "scatter3d",
            "line": {
             "colorbar": {
              "outlinewidth": 0,
              "ticks": ""
             }
            },
            "marker": {
             "colorbar": {
              "outlinewidth": 0,
              "ticks": ""
             }
            }
           }
          ],
          "scattermapbox": [
           {
            "type": "scattermapbox",
            "marker": {
             "colorbar": {
              "outlinewidth": 0,
              "ticks": ""
             }
            }
           }
          ],
          "scatterternary": [
           {
            "type": "scatterternary",
            "marker": {
             "colorbar": {
              "outlinewidth": 0,
              "ticks": ""
             }
            }
           }
          ],
          "scattercarpet": [
           {
            "type": "scattercarpet",
            "marker": {
             "colorbar": {
              "outlinewidth": 0,
              "ticks": ""
             }
            }
           }
          ],
          "carpet": [
           {
            "aaxis": {
             "endlinecolor": "#2a3f5f",
             "gridcolor": "white",
             "linecolor": "white",
             "minorgridcolor": "white",
             "startlinecolor": "#2a3f5f"
            },
            "baxis": {
             "endlinecolor": "#2a3f5f",
             "gridcolor": "white",
             "linecolor": "white",
             "minorgridcolor": "white",
             "startlinecolor": "#2a3f5f"
            },
            "type": "carpet"
           }
          ],
          "table": [
           {
            "cells": {
             "fill": {
              "color": "#EBF0F8"
             },
             "line": {
              "color": "white"
             }
            },
            "header": {
             "fill": {
              "color": "#C8D4E3"
             },
             "line": {
              "color": "white"
             }
            },
            "type": "table"
           }
          ],
          "barpolar": [
           {
            "marker": {
             "line": {
              "color": "#E5ECF6",
              "width": 0.5
             },
             "pattern": {
              "fillmode": "overlay",
              "size": 10,
              "solidity": 0.2
             }
            },
            "type": "barpolar"
           }
          ],
          "pie": [
           {
            "automargin": true,
            "type": "pie"
           }
          ]
         },
         "layout": {
          "autotypenumbers": "strict",
          "colorway": [
           "#636efa",
           "#EF553B",
           "#00cc96",
           "#ab63fa",
           "#FFA15A",
           "#19d3f3",
           "#FF6692",
           "#B6E880",
           "#FF97FF",
           "#FECB52"
          ],
          "font": {
           "color": "#2a3f5f"
          },
          "hovermode": "closest",
          "hoverlabel": {
           "align": "left"
          },
          "paper_bgcolor": "white",
          "plot_bgcolor": "#E5ECF6",
          "polar": {
           "bgcolor": "#E5ECF6",
           "angularaxis": {
            "gridcolor": "white",
            "linecolor": "white",
            "ticks": ""
           },
           "radialaxis": {
            "gridcolor": "white",
            "linecolor": "white",
            "ticks": ""
           }
          },
          "ternary": {
           "bgcolor": "#E5ECF6",
           "aaxis": {
            "gridcolor": "white",
            "linecolor": "white",
            "ticks": ""
           },
           "baxis": {
            "gridcolor": "white",
            "linecolor": "white",
            "ticks": ""
           },
           "caxis": {
            "gridcolor": "white",
            "linecolor": "white",
            "ticks": ""
           }
          },
          "coloraxis": {
           "colorbar": {
            "outlinewidth": 0,
            "ticks": ""
           }
          },
          "colorscale": {
           "sequential": [
            [
             0.0,
             "#0d0887"
            ],
            [
             0.1111111111111111,
             "#46039f"
            ],
            [
             0.2222222222222222,
             "#7201a8"
            ],
            [
             0.3333333333333333,
             "#9c179e"
            ],
            [
             0.4444444444444444,
             "#bd3786"
            ],
            [
             0.5555555555555556,
             "#d8576b"
            ],
            [
             0.6666666666666666,
             "#ed7953"
            ],
            [
             0.7777777777777778,
             "#fb9f3a"
            ],
            [
             0.8888888888888888,
             "#fdca26"
            ],
            [
             1.0,
             "#f0f921"
            ]
           ],
           "sequentialminus": [
            [
             0.0,
             "#0d0887"
            ],
            [
             0.1111111111111111,
             "#46039f"
            ],
            [
             0.2222222222222222,
             "#7201a8"
            ],
            [
             0.3333333333333333,
             "#9c179e"
            ],
            [
             0.4444444444444444,
             "#bd3786"
            ],
            [
             0.5555555555555556,
             "#d8576b"
            ],
            [
             0.6666666666666666,
             "#ed7953"
            ],
            [
             0.7777777777777778,
             "#fb9f3a"
            ],
            [
             0.8888888888888888,
             "#fdca26"
            ],
            [
             1.0,
             "#f0f921"
            ]
           ],
           "diverging": [
            [
             0,
             "#8e0152"
            ],
            [
             0.1,
             "#c51b7d"
            ],
            [
             0.2,
             "#de77ae"
            ],
            [
             0.3,
             "#f1b6da"
            ],
            [
             0.4,
             "#fde0ef"
            ],
            [
             0.5,
             "#f7f7f7"
            ],
            [
             0.6,
             "#e6f5d0"
            ],
            [
             0.7,
             "#b8e186"
            ],
            [
             0.8,
             "#7fbc41"
            ],
            [
             0.9,
             "#4d9221"
            ],
            [
             1,
             "#276419"
            ]
           ]
          },
          "xaxis": {
           "gridcolor": "white",
           "linecolor": "white",
           "ticks": "",
           "title": {
            "standoff": 15
           },
           "zerolinecolor": "white",
           "automargin": true,
           "zerolinewidth": 2
          },
          "yaxis": {
           "gridcolor": "white",
           "linecolor": "white",
           "ticks": "",
           "title": {
            "standoff": 15
           },
           "zerolinecolor": "white",
           "automargin": true,
           "zerolinewidth": 2
          },
          "scene": {
           "xaxis": {
            "backgroundcolor": "#E5ECF6",
            "gridcolor": "white",
            "linecolor": "white",
            "showbackground": true,
            "ticks": "",
            "zerolinecolor": "white",
            "gridwidth": 2
           },
           "yaxis": {
            "backgroundcolor": "#E5ECF6",
            "gridcolor": "white",
            "linecolor": "white",
            "showbackground": true,
            "ticks": "",
            "zerolinecolor": "white",
            "gridwidth": 2
           },
           "zaxis": {
            "backgroundcolor": "#E5ECF6",
            "gridcolor": "white",
            "linecolor": "white",
            "showbackground": true,
            "ticks": "",
            "zerolinecolor": "white",
            "gridwidth": 2
           }
          },
          "shapedefaults": {
           "line": {
            "color": "#2a3f5f"
           }
          },
          "annotationdefaults": {
           "arrowcolor": "#2a3f5f",
           "arrowhead": 0,
           "arrowwidth": 1
          },
          "geo": {
           "bgcolor": "white",
           "landcolor": "#E5ECF6",
           "subunitcolor": "white",
           "showland": true,
           "showlakes": true,
           "lakecolor": "white"
          },
          "title": {
           "x": 0.05
          },
          "mapbox": {
           "style": "light"
          }
         }
        },
        "yaxis": {
         "type": "log",
         "title": {
          "text": "Cost (USD, nominal)"
         },
         "range": [
          0,
          8
         ]
        },
        "showlegend": false,
        "xaxis": {
         "title": {
          "text": "System"
         }
        },
        "title": {
         "text": "Cost of cloud compute to train frontier ML systems"
        },
        "autosize": false,
        "width": 800,
        "height": 600,
        "font": {
         "size": 14
        },
        "margin": {
         "l": 10,
         "r": 10,
         "t": 40,
         "b": 10
        }
       },
       "config": {
        "plotlyServerURL": "https://plot.ly"
       }
      },
      "text/html": "<div>                            <div id=\"94ebad86-c4b4-44f8-afb0-425629f598ab\" class=\"plotly-graph-div\" style=\"height:600px; width:800px;\"></div>            <script type=\"text/javascript\">                require([\"plotly\"], function(Plotly) {                    window.PLOTLYENV=window.PLOTLYENV || {};                                    if (document.getElementById(\"94ebad86-c4b4-44f8-afb0-425629f598ab\")) {                    Plotly.newPlot(                        \"94ebad86-c4b4-44f8-afb0-425629f598ab\",                        [{\"marker\":{\"color\":\"#034752\"},\"name\":\"RoBERTa Large\",\"x\":[\"RoBERTa Large\"],\"y\":[281395.2],\"type\":\"bar\"},{\"marker\":{\"color\":\"#034752\"},\"name\":\"Megatron-LM (8.3B)\",\"x\":[\"Megatron-LM (8.3B)\"],\"y\":[383400.96],\"type\":\"bar\"},{\"marker\":{\"color\":\"#034752\"},\"name\":\"T5-11B\",\"x\":[\"T5-11B\"],\"y\":[310883.328],\"type\":\"bar\"},{\"marker\":{\"color\":\"#034752\"},\"name\":\"AlphaStar\",\"x\":[\"AlphaStar\"],\"y\":[510935.04],\"type\":\"bar\"},{\"marker\":{\"color\":\"#034752\"},\"name\":\"Meena\",\"x\":[\"Meena\"],\"y\":[928972.8],\"type\":\"bar\"},{\"marker\":{\"color\":\"#034752\"},\"name\":\"GShard (dense)\",\"x\":[\"GShard (dense)\"],\"y\":[1300561.92],\"type\":\"bar\"},{\"marker\":{\"color\":\"#034752\"},\"name\":\"ALIGN\",\"x\":[\"ALIGN\"],\"y\":[224050.176],\"type\":\"bar\"},{\"marker\":{\"color\":\"#034752\"},\"name\":\"Megatron-Turing NLG 530B\",\"x\":[\"Megatron-Turing NLG 530B\"],\"y\":[9037952.0],\"type\":\"bar\"},{\"marker\":{\"color\":\"#034752\"},\"name\":\"Gopher (280B)\",\"x\":[\"Gopher (280B)\"],\"y\":[4748083.2],\"type\":\"bar\"},{\"marker\":{\"color\":\"#034752\"},\"name\":\"GLaM\",\"x\":[\"GLaM\"],\"y\":[2839531.5199999996],\"type\":\"bar\"},{\"marker\":{\"color\":\"#034752\"},\"name\":\"LaMDA\",\"x\":[\"LaMDA\"],\"y\":[1786982.4],\"type\":\"bar\"},{\"marker\":{\"color\":\"#034752\"},\"name\":\"PaLM (540B)\",\"x\":[\"PaLM (540B)\"],\"y\":[17062133.759999998],\"type\":\"bar\"},{\"marker\":{\"color\":\"#034752\"},\"name\":\"OPT-175B\",\"x\":[\"OPT-175B\"],\"y\":[2437632.0],\"type\":\"bar\"},{\"marker\":{\"color\":\"#034752\"},\"name\":\"Minerva (540B)\",\"x\":[\"Minerva (540B)\"],\"y\":[18508922.88],\"type\":\"bar\"},{\"marker\":{\"color\":\"#034752\"},\"name\":\"Falcon 180B\",\"x\":[\"Falcon 180B\"],\"y\":[42467328.0],\"type\":\"bar\"}],                        {\"template\":{\"data\":{\"histogram2dcontour\":[{\"type\":\"histogram2dcontour\",\"colorbar\":{\"outlinewidth\":0,\"ticks\":\"\"},\"colorscale\":[[0.0,\"#0d0887\"],[0.1111111111111111,\"#46039f\"],[0.2222222222222222,\"#7201a8\"],[0.3333333333333333,\"#9c179e\"],[0.4444444444444444,\"#bd3786\"],[0.5555555555555556,\"#d8576b\"],[0.6666666666666666,\"#ed7953\"],[0.7777777777777778,\"#fb9f3a\"],[0.8888888888888888,\"#fdca26\"],[1.0,\"#f0f921\"]]}],\"choropleth\":[{\"type\":\"choropleth\",\"colorbar\":{\"outlinewidth\":0,\"ticks\":\"\"}}],\"histogram2d\":[{\"type\":\"histogram2d\",\"colorbar\":{\"outlinewidth\":0,\"ticks\":\"\"},\"colorscale\":[[0.0,\"#0d0887\"],[0.1111111111111111,\"#46039f\"],[0.2222222222222222,\"#7201a8\"],[0.3333333333333333,\"#9c179e\"],[0.4444444444444444,\"#bd3786\"],[0.5555555555555556,\"#d8576b\"],[0.6666666666666666,\"#ed7953\"],[0.7777777777777778,\"#fb9f3a\"],[0.8888888888888888,\"#fdca26\"],[1.0,\"#f0f921\"]]}],\"heatmap\":[{\"type\":\"heatmap\",\"colorbar\":{\"outlinewidth\":0,\"ticks\":\"\"},\"colorscale\":[[0.0,\"#0d0887\"],[0.1111111111111111,\"#46039f\"],[0.2222222222222222,\"#7201a8\"],[0.3333333333333333,\"#9c179e\"],[0.4444444444444444,\"#bd3786\"],[0.5555555555555556,\"#d8576b\"],[0.6666666666666666,\"#ed7953\"],[0.7777777777777778,\"#fb9f3a\"],[0.8888888888888888,\"#fdca26\"],[1.0,\"#f0f921\"]]}],\"heatmapgl\":[{\"type\":\"heatmapgl\",\"colorbar\":{\"outlinewidth\":0,\"ticks\":\"\"},\"colorscale\":[[0.0,\"#0d0887\"],[0.1111111111111111,\"#46039f\"],[0.2222222222222222,\"#7201a8\"],[0.3333333333333333,\"#9c179e\"],[0.4444444444444444,\"#bd3786\"],[0.5555555555555556,\"#d8576b\"],[0.6666666666666666,\"#ed7953\"],[0.7777777777777778,\"#fb9f3a\"],[0.8888888888888888,\"#fdca26\"],[1.0,\"#f0f921\"]]}],\"contourcarpet\":[{\"type\":\"contourcarpet\",\"colorbar\":{\"outlinewidth\":0,\"ticks\":\"\"}}],\"contour\":[{\"type\":\"contour\",\"colorbar\":{\"outlinewidth\":0,\"ticks\":\"\"},\"colorscale\":[[0.0,\"#0d0887\"],[0.1111111111111111,\"#46039f\"],[0.2222222222222222,\"#7201a8\"],[0.3333333333333333,\"#9c179e\"],[0.4444444444444444,\"#bd3786\"],[0.5555555555555556,\"#d8576b\"],[0.6666666666666666,\"#ed7953\"],[0.7777777777777778,\"#fb9f3a\"],[0.8888888888888888,\"#fdca26\"],[1.0,\"#f0f921\"]]}],\"surface\":[{\"type\":\"surface\",\"colorbar\":{\"outlinewidth\":0,\"ticks\":\"\"},\"colorscale\":[[0.0,\"#0d0887\"],[0.1111111111111111,\"#46039f\"],[0.2222222222222222,\"#7201a8\"],[0.3333333333333333,\"#9c179e\"],[0.4444444444444444,\"#bd3786\"],[0.5555555555555556,\"#d8576b\"],[0.6666666666666666,\"#ed7953\"],[0.7777777777777778,\"#fb9f3a\"],[0.8888888888888888,\"#fdca26\"],[1.0,\"#f0f921\"]]}],\"mesh3d\":[{\"type\":\"mesh3d\",\"colorbar\":{\"outlinewidth\":0,\"ticks\":\"\"}}],\"scatter\":[{\"fillpattern\":{\"fillmode\":\"overlay\",\"size\":10,\"solidity\":0.2},\"type\":\"scatter\"}],\"parcoords\":[{\"type\":\"parcoords\",\"line\":{\"colorbar\":{\"outlinewidth\":0,\"ticks\":\"\"}}}],\"scatterpolargl\":[{\"type\":\"scatterpolargl\",\"marker\":{\"colorbar\":{\"outlinewidth\":0,\"ticks\":\"\"}}}],\"bar\":[{\"error_x\":{\"color\":\"#2a3f5f\"},\"error_y\":{\"color\":\"#2a3f5f\"},\"marker\":{\"line\":{\"color\":\"#E5ECF6\",\"width\":0.5},\"pattern\":{\"fillmode\":\"overlay\",\"size\":10,\"solidity\":0.2}},\"type\":\"bar\"}],\"scattergeo\":[{\"type\":\"scattergeo\",\"marker\":{\"colorbar\":{\"outlinewidth\":0,\"ticks\":\"\"}}}],\"scatterpolar\":[{\"type\":\"scatterpolar\",\"marker\":{\"colorbar\":{\"outlinewidth\":0,\"ticks\":\"\"}}}],\"histogram\":[{\"marker\":{\"pattern\":{\"fillmode\":\"overlay\",\"size\":10,\"solidity\":0.2}},\"type\":\"histogram\"}],\"scattergl\":[{\"type\":\"scattergl\",\"marker\":{\"colorbar\":{\"outlinewidth\":0,\"ticks\":\"\"}}}],\"scatter3d\":[{\"type\":\"scatter3d\",\"line\":{\"colorbar\":{\"outlinewidth\":0,\"ticks\":\"\"}},\"marker\":{\"colorbar\":{\"outlinewidth\":0,\"ticks\":\"\"}}}],\"scattermapbox\":[{\"type\":\"scattermapbox\",\"marker\":{\"colorbar\":{\"outlinewidth\":0,\"ticks\":\"\"}}}],\"scatterternary\":[{\"type\":\"scatterternary\",\"marker\":{\"colorbar\":{\"outlinewidth\":0,\"ticks\":\"\"}}}],\"scattercarpet\":[{\"type\":\"scattercarpet\",\"marker\":{\"colorbar\":{\"outlinewidth\":0,\"ticks\":\"\"}}}],\"carpet\":[{\"aaxis\":{\"endlinecolor\":\"#2a3f5f\",\"gridcolor\":\"white\",\"linecolor\":\"white\",\"minorgridcolor\":\"white\",\"startlinecolor\":\"#2a3f5f\"},\"baxis\":{\"endlinecolor\":\"#2a3f5f\",\"gridcolor\":\"white\",\"linecolor\":\"white\",\"minorgridcolor\":\"white\",\"startlinecolor\":\"#2a3f5f\"},\"type\":\"carpet\"}],\"table\":[{\"cells\":{\"fill\":{\"color\":\"#EBF0F8\"},\"line\":{\"color\":\"white\"}},\"header\":{\"fill\":{\"color\":\"#C8D4E3\"},\"line\":{\"color\":\"white\"}},\"type\":\"table\"}],\"barpolar\":[{\"marker\":{\"line\":{\"color\":\"#E5ECF6\",\"width\":0.5},\"pattern\":{\"fillmode\":\"overlay\",\"size\":10,\"solidity\":0.2}},\"type\":\"barpolar\"}],\"pie\":[{\"automargin\":true,\"type\":\"pie\"}]},\"layout\":{\"autotypenumbers\":\"strict\",\"colorway\":[\"#636efa\",\"#EF553B\",\"#00cc96\",\"#ab63fa\",\"#FFA15A\",\"#19d3f3\",\"#FF6692\",\"#B6E880\",\"#FF97FF\",\"#FECB52\"],\"font\":{\"color\":\"#2a3f5f\"},\"hovermode\":\"closest\",\"hoverlabel\":{\"align\":\"left\"},\"paper_bgcolor\":\"white\",\"plot_bgcolor\":\"#E5ECF6\",\"polar\":{\"bgcolor\":\"#E5ECF6\",\"angularaxis\":{\"gridcolor\":\"white\",\"linecolor\":\"white\",\"ticks\":\"\"},\"radialaxis\":{\"gridcolor\":\"white\",\"linecolor\":\"white\",\"ticks\":\"\"}},\"ternary\":{\"bgcolor\":\"#E5ECF6\",\"aaxis\":{\"gridcolor\":\"white\",\"linecolor\":\"white\",\"ticks\":\"\"},\"baxis\":{\"gridcolor\":\"white\",\"linecolor\":\"white\",\"ticks\":\"\"},\"caxis\":{\"gridcolor\":\"white\",\"linecolor\":\"white\",\"ticks\":\"\"}},\"coloraxis\":{\"colorbar\":{\"outlinewidth\":0,\"ticks\":\"\"}},\"colorscale\":{\"sequential\":[[0.0,\"#0d0887\"],[0.1111111111111111,\"#46039f\"],[0.2222222222222222,\"#7201a8\"],[0.3333333333333333,\"#9c179e\"],[0.4444444444444444,\"#bd3786\"],[0.5555555555555556,\"#d8576b\"],[0.6666666666666666,\"#ed7953\"],[0.7777777777777778,\"#fb9f3a\"],[0.8888888888888888,\"#fdca26\"],[1.0,\"#f0f921\"]],\"sequentialminus\":[[0.0,\"#0d0887\"],[0.1111111111111111,\"#46039f\"],[0.2222222222222222,\"#7201a8\"],[0.3333333333333333,\"#9c179e\"],[0.4444444444444444,\"#bd3786\"],[0.5555555555555556,\"#d8576b\"],[0.6666666666666666,\"#ed7953\"],[0.7777777777777778,\"#fb9f3a\"],[0.8888888888888888,\"#fdca26\"],[1.0,\"#f0f921\"]],\"diverging\":[[0,\"#8e0152\"],[0.1,\"#c51b7d\"],[0.2,\"#de77ae\"],[0.3,\"#f1b6da\"],[0.4,\"#fde0ef\"],[0.5,\"#f7f7f7\"],[0.6,\"#e6f5d0\"],[0.7,\"#b8e186\"],[0.8,\"#7fbc41\"],[0.9,\"#4d9221\"],[1,\"#276419\"]]},\"xaxis\":{\"gridcolor\":\"white\",\"linecolor\":\"white\",\"ticks\":\"\",\"title\":{\"standoff\":15},\"zerolinecolor\":\"white\",\"automargin\":true,\"zerolinewidth\":2},\"yaxis\":{\"gridcolor\":\"white\",\"linecolor\":\"white\",\"ticks\":\"\",\"title\":{\"standoff\":15},\"zerolinecolor\":\"white\",\"automargin\":true,\"zerolinewidth\":2},\"scene\":{\"xaxis\":{\"backgroundcolor\":\"#E5ECF6\",\"gridcolor\":\"white\",\"linecolor\":\"white\",\"showbackground\":true,\"ticks\":\"\",\"zerolinecolor\":\"white\",\"gridwidth\":2},\"yaxis\":{\"backgroundcolor\":\"#E5ECF6\",\"gridcolor\":\"white\",\"linecolor\":\"white\",\"showbackground\":true,\"ticks\":\"\",\"zerolinecolor\":\"white\",\"gridwidth\":2},\"zaxis\":{\"backgroundcolor\":\"#E5ECF6\",\"gridcolor\":\"white\",\"linecolor\":\"white\",\"showbackground\":true,\"ticks\":\"\",\"zerolinecolor\":\"white\",\"gridwidth\":2}},\"shapedefaults\":{\"line\":{\"color\":\"#2a3f5f\"}},\"annotationdefaults\":{\"arrowcolor\":\"#2a3f5f\",\"arrowhead\":0,\"arrowwidth\":1},\"geo\":{\"bgcolor\":\"white\",\"landcolor\":\"#E5ECF6\",\"subunitcolor\":\"white\",\"showland\":true,\"showlakes\":true,\"lakecolor\":\"white\"},\"title\":{\"x\":0.05},\"mapbox\":{\"style\":\"light\"}}},\"yaxis\":{\"type\":\"log\",\"title\":{\"text\":\"Cost (USD, nominal)\"},\"range\":[0,8]},\"showlegend\":false,\"xaxis\":{\"title\":{\"text\":\"System\"}},\"title\":{\"text\":\"Cost of cloud compute to train frontier ML systems\"},\"autosize\":false,\"width\":800,\"height\":600,\"font\":{\"size\":14},\"margin\":{\"l\":10,\"r\":10,\"t\":40,\"b\":10}},                        {\"responsive\": true}                    ).then(function(){\n                            \nvar gd = document.getElementById('94ebad86-c4b4-44f8-afb0-425629f598ab');\nvar x = new MutationObserver(function (mutations, observer) {{\n        var display = window.getComputedStyle(gd).display;\n        if (!display || display === 'none') {{\n            console.log([gd, 'removed!']);\n            Plotly.purge(gd);\n            observer.disconnect();\n        }}\n}});\n\n// Listen for the removal of the full notebook cells\nvar notebookContainer = gd.closest('#notebook-container');\nif (notebookContainer) {{\n    x.observe(notebookContainer, {childList: true});\n}}\n\n// Listen for the clearing of the current output cell\nvar outputEl = gd.closest('.output');\nif (outputEl) {{\n    x.observe(outputEl, {childList: true});\n}}\n\n                        })                };                });            </script>        </div>"
     },
     "metadata": {},
     "output_type": "display_data"
    }
   ],
   "source": [
    "import plotly.graph_objects as go\n",
    "\n",
    "fig = go.Figure()\n",
    "for i, row in frontier_pcd_df.iterrows():\n",
    "    system = row['System']\n",
    "    cost = system_to_cost.get(system)\n",
    "    if cost is None:\n",
    "        continue\n",
    "    publication_date = row['Publication date']\n",
    "\n",
    "    fig.add_trace(go.Bar(\n",
    "        x=[system],\n",
    "        y=[cost],\n",
    "        name=system,\n",
    "        # nice blue color\n",
    "        marker_color='#034752',\n",
    "        # text=system,\n",
    "        # textposition='auto',\n",
    "    ))\n",
    "\n",
    "# log y axis\n",
    "fig.update_yaxes(type=\"log\")\n",
    "# no legend\n",
    "fig.update_layout(showlegend=False)\n",
    "\n",
    "# axis labels\n",
    "fig.update_xaxes(title_text='System')\n",
    "fig.update_yaxes(title_text='Cost (USD, nominal)')\n",
    "\n",
    "# title\n",
    "fig.update_layout(title_text='Cost of cloud compute to train frontier ML systems')\n",
    "\n",
    "# update size\n",
    "fig.update_layout(\n",
    "    autosize=False,\n",
    "    width=800,\n",
    "    height=600,\n",
    ")\n",
    "\n",
    "# font size\n",
    "fig.update_layout(\n",
    "    font=dict(\n",
    "        size=14,\n",
    "    )\n",
    ")\n",
    "\n",
    "# axis limits\n",
    "fig.update_yaxes(range=[0, 8])\n",
    "\n",
    "# margins\n",
    "fig.update_layout(margin=dict(l=10, r=10, t=40, b=10))\n",
    "\n",
    "fig.show()\n"
   ]
  },
  {
   "cell_type": "code",
   "execution_count": 57,
   "metadata": {
    "ExecuteTime": {
     "end_time": "2023-12-30T14:17:37.795857900Z",
     "start_time": "2023-12-30T14:17:37.763721400Z"
    }
   },
   "outputs": [],
   "source": []
  },
  {
   "cell_type": "markdown",
   "source": [
    "## kNN imputation"
   ],
   "metadata": {
    "collapsed": false
   }
  },
  {
   "cell_type": "code",
   "execution_count": 58,
   "outputs": [],
   "source": [
    "# drop unneeded columns from frontier_pcd_df\n",
    "irrelevant_columns = ['Notability criteria', 'Notability criteria notes', 'Link', 'Citations', 'Parameters notes',\n",
    "                      'Training compute notes', 'Training dataset notes', 'Dataset size notes',\n",
    "                      'Inference compute notes', 'Approach', 'Confidence', 'Last modified', 'Created By', 'Benchmark data',\n",
    "                      'Exclude', 'Authors by country', 'Training cost trends', 'Abstract', 'Compute cost notes',\n",
    "                      'Training time notes', 'Authors', 'Name of the hardware (from Training hardware)',\n",
    "                      'Training time (chip hours)', 'Training compute cost (2020 USD)']\n",
    "frontier_pcd_df = frontier_pcd_df.drop(columns=irrelevant_columns)\n",
    "\n",
    "# fill column 'Training cloud compute vendor' using org_to_cloud_vendor dictionary\n",
    "org_to_cloud_vendor = {\n",
    "    'Google': 'Google Cloud',\n",
    "    'DeepMind': 'Google Cloud',\n",
    "    'Google DeepMind': 'Google Cloud',\n",
    "    'Google Brain': 'Google Cloud',\n",
    "    'Microsoft': 'Microsoft Azure',\n",
    "    'OpenAI': 'Microsoft Azure',\n",
    "}\n",
    "frontier_pcd_df['Training cloud compute vendor'] = frontier_pcd_df['Organization (from Organization)'].map(org_to_cloud_vendor)\n",
    "frontier_pcd_df['Training cloud compute vendor'] = frontier_pcd_df['Training cloud compute vendor'].fillna('Amazon Web Services')"
   ],
   "metadata": {
    "collapsed": false,
    "ExecuteTime": {
     "end_time": "2023-12-30T14:17:37.844072200Z",
     "start_time": "2023-12-30T14:17:37.795857900Z"
    }
   }
  },
  {
   "cell_type": "code",
   "execution_count": 59,
   "outputs": [
    {
     "data": {
      "text/plain": "               System    Domain         Task Open-source  \\\n265       AlphaGo Fan     Games           Go         NaN   \n275       AlphaGo Lee     Games           Go         NaN   \n306              GNMT  Language  Translation         NaN   \n317  NASv3 (CIFAR-10)    Vision          NaN         NaN   \n337    AlphaGo Master     Games           Go         NaN   \n\n                                             Reference Publication date  \\\n265  Mastering the game of Go with deep neural netw...       2015-10-01   \n275  Mastering the game of Go with deep neural netw...       2016-01-27   \n306  Google's Neural Machine Translation System: Br...       2016-09-26   \n317  Neural Architecture Search with Reinforcement ...       2016-11-05   \n337   Mastering the game of Go without human knowledge       2017-01-01   \n\n        Organization Organization categorization   Parameters  \\\n265  Google DeepMind                    Industry    8209984.0   \n275         DeepMind                    Industry          NaN   \n306           Google                    Industry  278000000.0   \n317     Google Brain                    Industry   37400000.0   \n337         DeepMind                    Industry          NaN   \n\n     Training compute (FLOP)  ... Compute sponsor categorization  \\\n265             3.800000e+20  ...                       Industry   \n275             1.900000e+21  ...                       Industry   \n306             6.900000e+21  ...                       Industry   \n317             2.200000e+21  ...                       Industry   \n337             1.500000e+23  ...                       Industry   \n\n                           Country (from Organization)  \\\n265                                      Multinational   \n275  United Kingdom of Great Britain and Northern I...   \n306                                      Multinational   \n317                                      Multinational   \n337  United Kingdom of Great Britain and Northern I...   \n\n     Organization (from Organization)  Base model  Finetune compute (FLOP)  \\\n265                   Google DeepMind         NaN                      NaN   \n275                          DeepMind         NaN                      NaN   \n306                            Google         NaN                      NaN   \n317                      Google Brain         NaN                      NaN   \n337                          DeepMind         NaN                      NaN   \n\n    Finetune compute notes Hardware quantity Hardware utilization  \\\n265                    NaN               NaN                  NaN   \n275                    NaN               NaN                  NaN   \n306                    NaN              96.0                  NaN   \n317                    NaN             800.0                  NaN   \n337                    NaN               NaN                  NaN   \n\n    Training cloud compute vendor Training data center  \n265                  Google Cloud                  NaN  \n275                  Google Cloud                  NaN  \n306                  Google Cloud                  NaN  \n317                  Google Cloud                  NaN  \n337                  Google Cloud                  NaN  \n\n[5 rows x 26 columns]",
      "text/html": "<div>\n<style scoped>\n    .dataframe tbody tr th:only-of-type {\n        vertical-align: middle;\n    }\n\n    .dataframe tbody tr th {\n        vertical-align: top;\n    }\n\n    .dataframe thead th {\n        text-align: right;\n    }\n</style>\n<table border=\"1\" class=\"dataframe\">\n  <thead>\n    <tr style=\"text-align: right;\">\n      <th></th>\n      <th>System</th>\n      <th>Domain</th>\n      <th>Task</th>\n      <th>Open-source</th>\n      <th>Reference</th>\n      <th>Publication date</th>\n      <th>Organization</th>\n      <th>Organization categorization</th>\n      <th>Parameters</th>\n      <th>Training compute (FLOP)</th>\n      <th>...</th>\n      <th>Compute sponsor categorization</th>\n      <th>Country (from Organization)</th>\n      <th>Organization (from Organization)</th>\n      <th>Base model</th>\n      <th>Finetune compute (FLOP)</th>\n      <th>Finetune compute notes</th>\n      <th>Hardware quantity</th>\n      <th>Hardware utilization</th>\n      <th>Training cloud compute vendor</th>\n      <th>Training data center</th>\n    </tr>\n  </thead>\n  <tbody>\n    <tr>\n      <th>265</th>\n      <td>AlphaGo Fan</td>\n      <td>Games</td>\n      <td>Go</td>\n      <td>NaN</td>\n      <td>Mastering the game of Go with deep neural netw...</td>\n      <td>2015-10-01</td>\n      <td>Google DeepMind</td>\n      <td>Industry</td>\n      <td>8209984.0</td>\n      <td>3.800000e+20</td>\n      <td>...</td>\n      <td>Industry</td>\n      <td>Multinational</td>\n      <td>Google DeepMind</td>\n      <td>NaN</td>\n      <td>NaN</td>\n      <td>NaN</td>\n      <td>NaN</td>\n      <td>NaN</td>\n      <td>Google Cloud</td>\n      <td>NaN</td>\n    </tr>\n    <tr>\n      <th>275</th>\n      <td>AlphaGo Lee</td>\n      <td>Games</td>\n      <td>Go</td>\n      <td>NaN</td>\n      <td>Mastering the game of Go with deep neural netw...</td>\n      <td>2016-01-27</td>\n      <td>DeepMind</td>\n      <td>Industry</td>\n      <td>NaN</td>\n      <td>1.900000e+21</td>\n      <td>...</td>\n      <td>Industry</td>\n      <td>United Kingdom of Great Britain and Northern I...</td>\n      <td>DeepMind</td>\n      <td>NaN</td>\n      <td>NaN</td>\n      <td>NaN</td>\n      <td>NaN</td>\n      <td>NaN</td>\n      <td>Google Cloud</td>\n      <td>NaN</td>\n    </tr>\n    <tr>\n      <th>306</th>\n      <td>GNMT</td>\n      <td>Language</td>\n      <td>Translation</td>\n      <td>NaN</td>\n      <td>Google's Neural Machine Translation System: Br...</td>\n      <td>2016-09-26</td>\n      <td>Google</td>\n      <td>Industry</td>\n      <td>278000000.0</td>\n      <td>6.900000e+21</td>\n      <td>...</td>\n      <td>Industry</td>\n      <td>Multinational</td>\n      <td>Google</td>\n      <td>NaN</td>\n      <td>NaN</td>\n      <td>NaN</td>\n      <td>96.0</td>\n      <td>NaN</td>\n      <td>Google Cloud</td>\n      <td>NaN</td>\n    </tr>\n    <tr>\n      <th>317</th>\n      <td>NASv3 (CIFAR-10)</td>\n      <td>Vision</td>\n      <td>NaN</td>\n      <td>NaN</td>\n      <td>Neural Architecture Search with Reinforcement ...</td>\n      <td>2016-11-05</td>\n      <td>Google Brain</td>\n      <td>Industry</td>\n      <td>37400000.0</td>\n      <td>2.200000e+21</td>\n      <td>...</td>\n      <td>Industry</td>\n      <td>Multinational</td>\n      <td>Google Brain</td>\n      <td>NaN</td>\n      <td>NaN</td>\n      <td>NaN</td>\n      <td>800.0</td>\n      <td>NaN</td>\n      <td>Google Cloud</td>\n      <td>NaN</td>\n    </tr>\n    <tr>\n      <th>337</th>\n      <td>AlphaGo Master</td>\n      <td>Games</td>\n      <td>Go</td>\n      <td>NaN</td>\n      <td>Mastering the game of Go without human knowledge</td>\n      <td>2017-01-01</td>\n      <td>DeepMind</td>\n      <td>Industry</td>\n      <td>NaN</td>\n      <td>1.500000e+23</td>\n      <td>...</td>\n      <td>Industry</td>\n      <td>United Kingdom of Great Britain and Northern I...</td>\n      <td>DeepMind</td>\n      <td>NaN</td>\n      <td>NaN</td>\n      <td>NaN</td>\n      <td>NaN</td>\n      <td>NaN</td>\n      <td>Google Cloud</td>\n      <td>NaN</td>\n    </tr>\n  </tbody>\n</table>\n<p>5 rows × 26 columns</p>\n</div>"
     },
     "execution_count": 59,
     "metadata": {},
     "output_type": "execute_result"
    }
   ],
   "source": [
    "frontier_pcd_df.head()"
   ],
   "metadata": {
    "collapsed": false,
    "ExecuteTime": {
     "end_time": "2023-12-30T14:17:37.844072200Z",
     "start_time": "2023-12-30T14:17:37.803926Z"
    }
   }
  },
  {
   "cell_type": "code",
   "execution_count": 60,
   "outputs": [
    {
     "data": {
      "text/plain": "['System',\n 'Domain',\n 'Task',\n 'Open-source',\n 'Reference',\n 'Publication date',\n 'Organization',\n 'Organization categorization',\n 'Parameters',\n 'Training compute (FLOP)',\n 'Training dataset',\n 'Training dataset size (datapoints)',\n 'Epochs',\n 'Inference compute (FLOP)',\n 'Training time (hours)',\n 'Training hardware',\n 'Compute sponsor categorization',\n 'Country (from Organization)',\n 'Organization (from Organization)',\n 'Base model',\n 'Finetune compute (FLOP)',\n 'Finetune compute notes',\n 'Hardware quantity',\n 'Hardware utilization',\n 'Training cloud compute vendor',\n 'Training data center']"
     },
     "execution_count": 60,
     "metadata": {},
     "output_type": "execute_result"
    }
   ],
   "source": [
    "frontier_pcd_df.columns.tolist()"
   ],
   "metadata": {
    "collapsed": false,
    "ExecuteTime": {
     "end_time": "2023-12-30T14:17:37.860071600Z",
     "start_time": "2023-12-30T14:17:37.835955400Z"
    }
   }
  },
  {
   "cell_type": "code",
   "execution_count": 61,
   "outputs": [],
   "source": [
    "# Import KNNImputer from sklearn\n",
    "from sklearn.impute import KNNImputer"
   ],
   "metadata": {
    "collapsed": false,
    "ExecuteTime": {
     "end_time": "2023-12-30T14:17:37.878595900Z",
     "start_time": "2023-12-30T14:17:37.852076900Z"
    }
   }
  },
  {
   "cell_type": "code",
   "execution_count": 62,
   "outputs": [],
   "source": [
    "# instantiate the imputer\n",
    "imputer = KNNImputer(n_neighbors=5)"
   ],
   "metadata": {
    "collapsed": false,
    "ExecuteTime": {
     "end_time": "2023-12-30T14:17:37.913321700Z",
     "start_time": "2023-12-30T14:17:37.878595900Z"
    }
   }
  },
  {
   "cell_type": "code",
   "execution_count": 63,
   "outputs": [],
   "source": [
    "# convert datetime to float\n",
    "frontier_pcd_df['Publication date'] = frontier_pcd_df['Publication date'].dt.year + (frontier_pcd_df['Publication date'].dt.month-1) / 12 + (frontier_pcd_df['Publication date'].dt.day-1) / 365\n",
    "\n",
    "# set the System column as the index\n",
    "frontier_pcd_df = frontier_pcd_df.set_index('System')\n",
    "\n",
    "# Identify categorical columns\n",
    "categorical_cols = frontier_pcd_df.select_dtypes(include=['object', 'category']).columns.tolist()\n",
    "\n",
    "# one-hot encode all categorical columns\n",
    "one_hot_pcd_df = pd.get_dummies(frontier_pcd_df, columns=categorical_cols)"
   ],
   "metadata": {
    "collapsed": false,
    "ExecuteTime": {
     "end_time": "2023-12-30T14:17:38.001741100Z",
     "start_time": "2023-12-30T14:17:37.883997Z"
    }
   }
  },
  {
   "cell_type": "code",
   "execution_count": 64,
   "outputs": [],
   "source": [
    "# impute the missing values in Training hardware, hardware quantity, Training time (hours)\n",
    "imputed = imputer.fit_transform(one_hot_pcd_df)"
   ],
   "metadata": {
    "collapsed": false,
    "ExecuteTime": {
     "end_time": "2023-12-30T14:17:38.090982800Z",
     "start_time": "2023-12-30T14:17:37.921376400Z"
    }
   }
  },
  {
   "cell_type": "code",
   "execution_count": 65,
   "outputs": [],
   "source": [
    "# convert the numpy array back to a dataframe\n",
    "imputed_pcd_df = pd.DataFrame(imputed, columns=one_hot_pcd_df.columns)"
   ],
   "metadata": {
    "collapsed": false,
    "ExecuteTime": {
     "end_time": "2023-12-30T14:17:38.090982800Z",
     "start_time": "2023-12-30T14:17:37.961300800Z"
    }
   }
  },
  {
   "cell_type": "code",
   "execution_count": 66,
   "outputs": [],
   "source": [
    "# convert Training hardware back to categorical\n",
    "imputed_pcd_df['Training hardware'] = ''\n",
    "for col in imputed_pcd_df.columns:\n",
    "    if col.startswith('Training hardware_'):\n",
    "        training_hardware = col.split('Training hardware_')[1]\n",
    "        imputed_pcd_df['Training hardware'] = imputed_pcd_df['Training hardware'] + pd.Series([int(_) * training_hardware for _ in imputed_pcd_df[col]])\n",
    "\n",
    "# replace all '' with np.nan\n",
    "imputed_pcd_df['Training hardware'] = imputed_pcd_df['Training hardware'].replace('', np.nan)"
   ],
   "metadata": {
    "collapsed": false,
    "ExecuteTime": {
     "end_time": "2023-12-30T14:17:38.090982800Z",
     "start_time": "2023-12-30T14:17:37.972711400Z"
    }
   }
  },
  {
   "cell_type": "code",
   "execution_count": 67,
   "outputs": [
    {
     "name": "stderr",
     "output_type": "stream",
     "text": [
      "C:\\ProgramData\\Anaconda3\\lib\\site-packages\\sklearn\\neighbors\\_classification.py:228: FutureWarning:\n",
      "\n",
      "Unlike other reduction functions (e.g. `skew`, `kurtosis`), the default behavior of `mode` typically preserves the axis it acts along. In SciPy 1.11.0, this behavior will change: the default value of `keepdims` will become False, the `axis` over which the statistic is taken will be eliminated, and the value None will no longer be accepted. Set `keepdims` to True or False to avoid this warning.\n",
      "\n"
     ]
    }
   ],
   "source": [
    "# use KNeighborsClassifier to impute the missing values in Training hardware\n",
    "from sklearn.neighbors import KNeighborsClassifier\n",
    "from sklearn.preprocessing import LabelEncoder\n",
    "\n",
    "# Separate the target and features\n",
    "target_col = 'Training hardware'\n",
    "features = imputed_pcd_df.drop(target_col, axis=1)\n",
    "target = imputed_pcd_df[target_col]\n",
    "\n",
    "# Encode the target column\n",
    "label_encoder = LabelEncoder()\n",
    "target_filled = target.fillna('Missing')  # Temporarily fill missing values\n",
    "target_encoded = label_encoder.fit_transform(target_filled)\n",
    "\n",
    "# Train a KNeighborsClassifier\n",
    "knc = KNeighborsClassifier(n_neighbors=5)\n",
    "knc.fit(features, target_encoded)\n",
    "\n",
    "# Predict the missing values\n",
    "missing_values = features[target.isna()]\n",
    "predicted = knc.predict(missing_values)\n",
    "\n",
    "# Decode the predictions\n",
    "predicted_labels = label_encoder.inverse_transform(predicted)\n",
    "\n",
    "# Replace the missing values with the predictions\n",
    "imputed_pcd_df.loc[target.isna(), target_col] = predicted_labels"
   ],
   "metadata": {
    "collapsed": false,
    "ExecuteTime": {
     "end_time": "2023-12-30T14:17:38.090982800Z",
     "start_time": "2023-12-30T14:17:38.009884400Z"
    }
   }
  },
  {
   "cell_type": "code",
   "execution_count": 68,
   "outputs": [],
   "source": [
    "# restore the System column\n",
    "imputed_pcd_df['System'] = one_hot_pcd_df.index"
   ],
   "metadata": {
    "collapsed": false,
    "ExecuteTime": {
     "end_time": "2023-12-30T14:17:38.090982800Z",
     "start_time": "2023-12-30T14:17:38.034989Z"
    }
   }
  },
  {
   "cell_type": "code",
   "execution_count": 69,
   "outputs": [],
   "source": [
    "# set the System column as the index\n",
    "imputed_pcd_df = imputed_pcd_df.set_index('System')"
   ],
   "metadata": {
    "collapsed": false,
    "ExecuteTime": {
     "end_time": "2023-12-30T14:17:38.107291300Z",
     "start_time": "2023-12-30T14:17:38.050702200Z"
    }
   }
  },
  {
   "cell_type": "code",
   "execution_count": 70,
   "outputs": [],
   "source": [
    "# insert imputed values into frontier_pcd_df\n",
    "frontier_pcd_df['Training hardware'] = imputed_pcd_df['Training hardware']\n",
    "frontier_pcd_df['Hardware quantity'] = imputed_pcd_df['Hardware quantity']\n",
    "frontier_pcd_df['Hardware utilization'] = imputed_pcd_df['Hardware utilization']\n",
    "frontier_pcd_df['Training time (hours)'] = imputed_pcd_df['Training time (hours)']"
   ],
   "metadata": {
    "collapsed": false,
    "ExecuteTime": {
     "end_time": "2023-12-30T14:17:38.107291300Z",
     "start_time": "2023-12-30T14:17:38.065903100Z"
    }
   }
  },
  {
   "cell_type": "code",
   "execution_count": 71,
   "outputs": [],
   "source": [
    "# calculate training time (chip hours) from training time and hardware quantity\n",
    "frontier_pcd_df['Training time (chip hours)'] = frontier_pcd_df['Training time (hours)'] * frontier_pcd_df['Hardware quantity']"
   ],
   "metadata": {
    "collapsed": false,
    "ExecuteTime": {
     "end_time": "2023-12-30T14:17:38.107291300Z",
     "start_time": "2023-12-30T14:17:38.076465400Z"
    }
   }
  },
  {
   "cell_type": "code",
   "execution_count": 72,
   "outputs": [
    {
     "data": {
      "text/plain": "                    Domain         Task Open-source  \\\nSystem                                                \nAlphaGo Fan          Games           Go         NaN   \nAlphaGo Lee          Games           Go         NaN   \nGNMT              Language  Translation         NaN   \nNASv3 (CIFAR-10)    Vision          NaN         NaN   \nAlphaGo Master       Games           Go         NaN   \n\n                                                          Reference  \\\nSystem                                                                \nAlphaGo Fan       Mastering the game of Go with deep neural netw...   \nAlphaGo Lee       Mastering the game of Go with deep neural netw...   \nGNMT              Google's Neural Machine Translation System: Br...   \nNASv3 (CIFAR-10)  Neural Architecture Search with Reinforcement ...   \nAlphaGo Master     Mastering the game of Go without human knowledge   \n\n                  Publication date     Organization  \\\nSystem                                                \nAlphaGo Fan            2015.750000  Google DeepMind   \nAlphaGo Lee            2016.071233         DeepMind   \nGNMT                   2016.735160           Google   \nNASv3 (CIFAR-10)       2016.844292     Google Brain   \nAlphaGo Master         2017.000000         DeepMind   \n\n                 Organization categorization   Parameters  \\\nSystem                                                      \nAlphaGo Fan                         Industry    8209984.0   \nAlphaGo Lee                         Industry          NaN   \nGNMT                                Industry  278000000.0   \nNASv3 (CIFAR-10)                    Industry   37400000.0   \nAlphaGo Master                      Industry          NaN   \n\n                  Training compute (FLOP) Training dataset  ...  \\\nSystem                                                      ...   \nAlphaGo Fan                  3.800000e+20              NaN  ...   \nAlphaGo Lee                  1.900000e+21              NaN  ...   \nGNMT                         6.900000e+21              NaN  ...   \nNASv3 (CIFAR-10)             2.200000e+21              NaN  ...   \nAlphaGo Master               1.500000e+23              NaN  ...   \n\n                                        Country (from Organization)  \\\nSystem                                                                \nAlphaGo Fan                                           Multinational   \nAlphaGo Lee       United Kingdom of Great Britain and Northern I...   \nGNMT                                                  Multinational   \nNASv3 (CIFAR-10)                                      Multinational   \nAlphaGo Master    United Kingdom of Great Britain and Northern I...   \n\n                  Organization (from Organization)  Base model  \\\nSystem                                                           \nAlphaGo Fan                        Google DeepMind         NaN   \nAlphaGo Lee                               DeepMind         NaN   \nGNMT                                        Google         NaN   \nNASv3 (CIFAR-10)                      Google Brain         NaN   \nAlphaGo Master                            DeepMind         NaN   \n\n                  Finetune compute (FLOP) Finetune compute notes  \\\nSystem                                                             \nAlphaGo Fan                           NaN                    NaN   \nAlphaGo Lee                           NaN                    NaN   \nGNMT                                  NaN                    NaN   \nNASv3 (CIFAR-10)                      NaN                    NaN   \nAlphaGo Master                        NaN                    NaN   \n\n                 Hardware quantity Hardware utilization  \\\nSystem                                                    \nAlphaGo Fan                  311.4                  NaN   \nAlphaGo Lee                  311.4                  NaN   \nGNMT                          96.0                  NaN   \nNASv3 (CIFAR-10)             800.0                  NaN   \nAlphaGo Master              1543.6                  NaN   \n\n                 Training cloud compute vendor Training data center  \\\nSystem                                                                \nAlphaGo Fan                       Google Cloud                  NaN   \nAlphaGo Lee                       Google Cloud                  NaN   \nGNMT                              Google Cloud                  NaN   \nNASv3 (CIFAR-10)                  Google Cloud                  NaN   \nAlphaGo Master                    Google Cloud                  NaN   \n\n                 Training time (chip hours)  \nSystem                                       \nAlphaGo Fan                      116837.280  \nAlphaGo Lee                      116837.280  \nGNMT                             414720.000  \nNASv3 (CIFAR-10)                 300160.000  \nAlphaGo Master                  3201395.528  \n\n[5 rows x 26 columns]",
      "text/html": "<div>\n<style scoped>\n    .dataframe tbody tr th:only-of-type {\n        vertical-align: middle;\n    }\n\n    .dataframe tbody tr th {\n        vertical-align: top;\n    }\n\n    .dataframe thead th {\n        text-align: right;\n    }\n</style>\n<table border=\"1\" class=\"dataframe\">\n  <thead>\n    <tr style=\"text-align: right;\">\n      <th></th>\n      <th>Domain</th>\n      <th>Task</th>\n      <th>Open-source</th>\n      <th>Reference</th>\n      <th>Publication date</th>\n      <th>Organization</th>\n      <th>Organization categorization</th>\n      <th>Parameters</th>\n      <th>Training compute (FLOP)</th>\n      <th>Training dataset</th>\n      <th>...</th>\n      <th>Country (from Organization)</th>\n      <th>Organization (from Organization)</th>\n      <th>Base model</th>\n      <th>Finetune compute (FLOP)</th>\n      <th>Finetune compute notes</th>\n      <th>Hardware quantity</th>\n      <th>Hardware utilization</th>\n      <th>Training cloud compute vendor</th>\n      <th>Training data center</th>\n      <th>Training time (chip hours)</th>\n    </tr>\n    <tr>\n      <th>System</th>\n      <th></th>\n      <th></th>\n      <th></th>\n      <th></th>\n      <th></th>\n      <th></th>\n      <th></th>\n      <th></th>\n      <th></th>\n      <th></th>\n      <th></th>\n      <th></th>\n      <th></th>\n      <th></th>\n      <th></th>\n      <th></th>\n      <th></th>\n      <th></th>\n      <th></th>\n      <th></th>\n      <th></th>\n    </tr>\n  </thead>\n  <tbody>\n    <tr>\n      <th>AlphaGo Fan</th>\n      <td>Games</td>\n      <td>Go</td>\n      <td>NaN</td>\n      <td>Mastering the game of Go with deep neural netw...</td>\n      <td>2015.750000</td>\n      <td>Google DeepMind</td>\n      <td>Industry</td>\n      <td>8209984.0</td>\n      <td>3.800000e+20</td>\n      <td>NaN</td>\n      <td>...</td>\n      <td>Multinational</td>\n      <td>Google DeepMind</td>\n      <td>NaN</td>\n      <td>NaN</td>\n      <td>NaN</td>\n      <td>311.4</td>\n      <td>NaN</td>\n      <td>Google Cloud</td>\n      <td>NaN</td>\n      <td>116837.280</td>\n    </tr>\n    <tr>\n      <th>AlphaGo Lee</th>\n      <td>Games</td>\n      <td>Go</td>\n      <td>NaN</td>\n      <td>Mastering the game of Go with deep neural netw...</td>\n      <td>2016.071233</td>\n      <td>DeepMind</td>\n      <td>Industry</td>\n      <td>NaN</td>\n      <td>1.900000e+21</td>\n      <td>NaN</td>\n      <td>...</td>\n      <td>United Kingdom of Great Britain and Northern I...</td>\n      <td>DeepMind</td>\n      <td>NaN</td>\n      <td>NaN</td>\n      <td>NaN</td>\n      <td>311.4</td>\n      <td>NaN</td>\n      <td>Google Cloud</td>\n      <td>NaN</td>\n      <td>116837.280</td>\n    </tr>\n    <tr>\n      <th>GNMT</th>\n      <td>Language</td>\n      <td>Translation</td>\n      <td>NaN</td>\n      <td>Google's Neural Machine Translation System: Br...</td>\n      <td>2016.735160</td>\n      <td>Google</td>\n      <td>Industry</td>\n      <td>278000000.0</td>\n      <td>6.900000e+21</td>\n      <td>NaN</td>\n      <td>...</td>\n      <td>Multinational</td>\n      <td>Google</td>\n      <td>NaN</td>\n      <td>NaN</td>\n      <td>NaN</td>\n      <td>96.0</td>\n      <td>NaN</td>\n      <td>Google Cloud</td>\n      <td>NaN</td>\n      <td>414720.000</td>\n    </tr>\n    <tr>\n      <th>NASv3 (CIFAR-10)</th>\n      <td>Vision</td>\n      <td>NaN</td>\n      <td>NaN</td>\n      <td>Neural Architecture Search with Reinforcement ...</td>\n      <td>2016.844292</td>\n      <td>Google Brain</td>\n      <td>Industry</td>\n      <td>37400000.0</td>\n      <td>2.200000e+21</td>\n      <td>NaN</td>\n      <td>...</td>\n      <td>Multinational</td>\n      <td>Google Brain</td>\n      <td>NaN</td>\n      <td>NaN</td>\n      <td>NaN</td>\n      <td>800.0</td>\n      <td>NaN</td>\n      <td>Google Cloud</td>\n      <td>NaN</td>\n      <td>300160.000</td>\n    </tr>\n    <tr>\n      <th>AlphaGo Master</th>\n      <td>Games</td>\n      <td>Go</td>\n      <td>NaN</td>\n      <td>Mastering the game of Go without human knowledge</td>\n      <td>2017.000000</td>\n      <td>DeepMind</td>\n      <td>Industry</td>\n      <td>NaN</td>\n      <td>1.500000e+23</td>\n      <td>NaN</td>\n      <td>...</td>\n      <td>United Kingdom of Great Britain and Northern I...</td>\n      <td>DeepMind</td>\n      <td>NaN</td>\n      <td>NaN</td>\n      <td>NaN</td>\n      <td>1543.6</td>\n      <td>NaN</td>\n      <td>Google Cloud</td>\n      <td>NaN</td>\n      <td>3201395.528</td>\n    </tr>\n  </tbody>\n</table>\n<p>5 rows × 26 columns</p>\n</div>"
     },
     "execution_count": 72,
     "metadata": {},
     "output_type": "execute_result"
    }
   ],
   "source": [
    "frontier_pcd_df.head()"
   ],
   "metadata": {
    "collapsed": false,
    "ExecuteTime": {
     "end_time": "2023-12-30T14:17:38.205700900Z",
     "start_time": "2023-12-30T14:17:38.084477600Z"
    }
   }
  },
  {
   "cell_type": "code",
   "execution_count": 73,
   "outputs": [],
   "source": [
    "frontier_pcd_df['System'] = frontier_pcd_df.index"
   ],
   "metadata": {
    "collapsed": false,
    "ExecuteTime": {
     "end_time": "2023-12-30T14:17:38.222180500Z",
     "start_time": "2023-12-30T14:17:38.132162600Z"
    }
   }
  },
  {
   "cell_type": "code",
   "execution_count": 74,
   "outputs": [
    {
     "data": {
      "text/plain": "{'RoBERTa Large': 281395.2,\n 'Megatron-LM (8.3B)': 383400.96,\n 'T5-11B': 310883.328,\n 'AlphaStar': 510935.04,\n 'Meena': 928972.8,\n 'GShard (dense)': 1300561.92,\n 'ALIGN': 224050.176,\n 'Megatron-Turing NLG 530B': 9037952.0,\n 'Gopher (280B)': 4748083.2,\n 'GLaM': 2839531.5199999996,\n 'LaMDA': 1786982.4,\n 'PaLM (540B)': 17062133.759999998,\n 'OPT-175B': 2437632.0,\n 'Minerva (540B)': 18508922.88,\n 'Llama 2-70B': 33841152.0,\n 'Falcon 180B': 42467328.0}"
     },
     "execution_count": 74,
     "metadata": {},
     "output_type": "execute_result"
    }
   ],
   "source": [
    "# calculate training compute cost from training time and hardware\n",
    "system_to_cost = {}\n",
    "for i, row in frontier_pcd_df.iterrows():\n",
    "    cost = estimate_cost(row, system_to_price)\n",
    "    if cost is None:\n",
    "        continue\n",
    "    system_to_cost[row['System']] = cost\n",
    "\n",
    "system_to_cost"
   ],
   "metadata": {
    "collapsed": false,
    "ExecuteTime": {
     "end_time": "2023-12-30T14:17:38.230438400Z",
     "start_time": "2023-12-30T14:17:38.150108900Z"
    }
   }
  }
 ],
 "metadata": {
  "colab": {
   "provenance": []
  },
  "kernelspec": {
   "name": "python3",
   "language": "python",
   "display_name": "Python 3 (ipykernel)"
  },
  "language_info": {
   "codemirror_mode": {
    "name": "ipython",
    "version": 3
   },
   "file_extension": ".py",
   "mimetype": "text/x-python",
   "name": "python",
   "nbconvert_exporter": "python",
   "pygments_lexer": "ipython3",
   "version": "3.11.4"
  }
 },
 "nbformat": 4,
 "nbformat_minor": 0
}
