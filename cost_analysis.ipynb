{
 "cells": [
  {
   "cell_type": "markdown",
   "metadata": {},
   "source": [
    "# Setup"
   ]
  },
  {
   "cell_type": "code",
   "execution_count": 24,
   "metadata": {
    "ExecuteTime": {
     "end_time": "2024-03-08T01:54:49.691298800Z",
     "start_time": "2024-03-08T01:54:49.634206900Z"
    }
   },
   "outputs": [
    {
     "name": "stdout",
     "output_type": "stream",
     "text": [
      "The autoreload extension is already loaded. To reload it, use:\n",
      "  %reload_ext autoreload\n"
     ]
    }
   ],
   "source": [
    "%load_ext autoreload\n",
    "%autoreload 2"
   ]
  },
  {
   "cell_type": "code",
   "execution_count": 25,
   "metadata": {
    "ExecuteTime": {
     "end_time": "2024-03-08T01:54:56.468786200Z",
     "start_time": "2024-03-08T01:54:49.695864500Z"
    },
    "id": "qltoZ7TbdkHZ"
   },
   "outputs": [],
   "source": [
    "from contextlib import redirect_stdout\n",
    "import numpy as np\n",
    "import os\n",
    "import pandas as pd\n",
    "import plotly.express as px\n",
    "\n",
    "from cost import *\n",
    "from plotting import *\n",
    "from prices import *\n",
    "from imputation import *\n",
    "from inflation import *\n",
    "from regression import *\n",
    "from utils import *"
   ]
  },
  {
   "cell_type": "code",
   "execution_count": 26,
   "metadata": {
    "ExecuteTime": {
     "end_time": "2024-03-08T01:54:56.578403700Z",
     "start_time": "2024-03-08T01:54:56.468786200Z"
    }
   },
   "outputs": [],
   "source": [
    "estimation_method = 'hardware-capex-opex'\n",
    "compute_threshold_method = 'top_n'\n",
    "compute_threshold = 10\n",
    "variant = 'original'\n",
    "\n",
    "estimation_method_lookup = {\n",
    "    'cloud': estimate_cloud_costs,\n",
    "    'amortized': estimate_amortized_hardware_costs,\n",
    "    'hardware-acquisition': estimate_hardware_acquisition_cost,\n",
    "    'hardware-capex-opex': estimate_hardware_capex_opex,\n",
    "}\n",
    "cost_estimation_function = estimation_method_lookup[estimation_method]\n",
    "\n",
    "results_dir = f'results/{estimation_method}-{compute_threshold_method}={compute_threshold}-{variant}/'\n",
    "os.makedirs(results_dir, exist_ok=True)"
   ]
  },
  {
   "cell_type": "markdown",
   "metadata": {},
   "source": [
    "# Load data"
   ]
  },
  {
   "cell_type": "code",
   "execution_count": 27,
   "metadata": {
    "ExecuteTime": {
     "end_time": "2024-03-08T01:54:57.129865300Z",
     "start_time": "2024-03-08T01:54:56.872275900Z"
    }
   },
   "outputs": [],
   "source": [
    "frontier_pcd_df, hardware_df, price_df = load_data_for_cost_estimation(\n",
    "    compute_threshold_method=compute_threshold_method, compute_threshold=compute_threshold,\n",
    ")"
   ]
  },
  {
   "cell_type": "code",
   "execution_count": 28,
   "metadata": {
    "ExecuteTime": {
     "end_time": "2024-03-08T01:54:57.278230500Z",
     "start_time": "2024-03-08T01:54:57.129865300Z"
    }
   },
   "outputs": [
    {
     "data": {
      "text/plain": [
       "(67, 5510, 142)"
      ]
     },
     "execution_count": 28,
     "metadata": {},
     "output_type": "execute_result"
    }
   ],
   "source": [
    "len(frontier_pcd_df), len(hardware_df), len(price_df)"
   ]
  },
  {
   "cell_type": "markdown",
   "metadata": {},
   "source": [
    "# Cost estimation"
   ]
  },
  {
   "cell_type": "code",
   "execution_count": 29,
   "metadata": {
    "ExecuteTime": {
     "end_time": "2024-03-08T01:54:57.807954200Z",
     "start_time": "2024-03-08T01:54:57.278230500Z"
    }
   },
   "outputs": [],
   "source": [
    "with open(f'{results_dir}/cost_estimation.out', 'w') as f:\n",
    "    with redirect_stdout(f):\n",
    "        cost_df = cost_estimation_function(frontier_pcd_df, hardware_df, price_df)"
   ]
  },
  {
   "cell_type": "code",
   "execution_count": 30,
   "metadata": {
    "ExecuteTime": {
     "end_time": "2024-03-08T01:54:57.967995500Z",
     "start_time": "2024-03-08T01:54:57.807954200Z"
    }
   },
   "outputs": [
    {
     "data": {
      "text/html": [
       "<div>\n",
       "<style scoped>\n",
       "    .dataframe tbody tr th:only-of-type {\n",
       "        vertical-align: middle;\n",
       "    }\n",
       "\n",
       "    .dataframe tbody tr th {\n",
       "        vertical-align: top;\n",
       "    }\n",
       "\n",
       "    .dataframe thead th {\n",
       "        text-align: right;\n",
       "    }\n",
       "</style>\n",
       "<table border=\"1\" class=\"dataframe\">\n",
       "  <thead>\n",
       "    <tr style=\"text-align: right;\">\n",
       "      <th></th>\n",
       "      <th>System</th>\n",
       "      <th>Domain</th>\n",
       "      <th>Task</th>\n",
       "      <th>Authors</th>\n",
       "      <th>Notability criteria</th>\n",
       "      <th>Notability criteria notes</th>\n",
       "      <th>Model accessibility</th>\n",
       "      <th>Link</th>\n",
       "      <th>Citations</th>\n",
       "      <th>Reference</th>\n",
       "      <th>...</th>\n",
       "      <th>Foundation model</th>\n",
       "      <th>Training compute lower bound</th>\n",
       "      <th>Training compute upper bound</th>\n",
       "      <th>Training chip-hours</th>\n",
       "      <th>Code accessibility</th>\n",
       "      <th>Dataset accessibility</th>\n",
       "      <th>Accessibility notes</th>\n",
       "      <th>Organization categorization (from Organization)</th>\n",
       "      <th>Possibly over 1e23 FLOP</th>\n",
       "      <th>Cost</th>\n",
       "    </tr>\n",
       "  </thead>\n",
       "  <tbody>\n",
       "    <tr>\n",
       "      <th>75</th>\n",
       "      <td>Gemini Ultra</td>\n",
       "      <td>Multimodal</td>\n",
       "      <td>Language modelling,Visual question answering,C...</td>\n",
       "      <td>Gemini Team</td>\n",
       "      <td>SOTA improvement</td>\n",
       "      <td>\" Evaluation on a broad range of benchmarks sh...</td>\n",
       "      <td>Hosted access (no API)</td>\n",
       "      <td>https://storage.googleapis.com/deepmind-media/...</td>\n",
       "      <td>633.0</td>\n",
       "      <td>Gemini: A Family of Highly Capable Multimodal ...</td>\n",
       "      <td>...</td>\n",
       "      <td>NaN</td>\n",
       "      <td>NaN</td>\n",
       "      <td>NaN</td>\n",
       "      <td>132000000.0</td>\n",
       "      <td>NaN</td>\n",
       "      <td>NaN</td>\n",
       "      <td>NaN</td>\n",
       "      <td>Industry</td>\n",
       "      <td>NaN</td>\n",
       "      <td>8.897229e+07</td>\n",
       "    </tr>\n",
       "    <tr>\n",
       "      <th>91</th>\n",
       "      <td>Inflection-2</td>\n",
       "      <td>Language</td>\n",
       "      <td>Language modelling</td>\n",
       "      <td>NaN</td>\n",
       "      <td>Significant use</td>\n",
       "      <td>Inflection-2 either already powers Pi or soon ...</td>\n",
       "      <td>Hosted access (no API)</td>\n",
       "      <td>https://inflection.ai/inflection-2</td>\n",
       "      <td>NaN</td>\n",
       "      <td>Inflection-2: The Next Step Up</td>\n",
       "      <td>...</td>\n",
       "      <td>checked</td>\n",
       "      <td>NaN</td>\n",
       "      <td>NaN</td>\n",
       "      <td>NaN</td>\n",
       "      <td>NaN</td>\n",
       "      <td>NaN</td>\n",
       "      <td>via Pi, no API</td>\n",
       "      <td>Industry</td>\n",
       "      <td>NaN</td>\n",
       "      <td>1.166191e+07</td>\n",
       "    </tr>\n",
       "    <tr>\n",
       "      <th>116</th>\n",
       "      <td>Grok-1</td>\n",
       "      <td>Language</td>\n",
       "      <td>Language modelling,Chat</td>\n",
       "      <td>NaN</td>\n",
       "      <td>SOTA improvement</td>\n",
       "      <td>\"On these benchmarks, Grok-1 displayed strong ...</td>\n",
       "      <td>Open source</td>\n",
       "      <td>https://x.ai/model-card/, https://x.ai/blog/gr...</td>\n",
       "      <td>NaN</td>\n",
       "      <td>Announcing Grok</td>\n",
       "      <td>...</td>\n",
       "      <td>checked</td>\n",
       "      <td>2</td>\n",
       "      <td>7.0</td>\n",
       "      <td>NaN</td>\n",
       "      <td>Unreleased</td>\n",
       "      <td>Unreleased</td>\n",
       "      <td>apache 2.0</td>\n",
       "      <td>Industry</td>\n",
       "      <td>checked</td>\n",
       "      <td>NaN</td>\n",
       "    </tr>\n",
       "    <tr>\n",
       "      <th>130</th>\n",
       "      <td>ChatGLM3</td>\n",
       "      <td>Multimodal</td>\n",
       "      <td>Chat,Visual question answering</td>\n",
       "      <td>NaN</td>\n",
       "      <td>SOTA improvement</td>\n",
       "      <td>Aiming at GPT-4V, ChatGLM3 has implemented ite...</td>\n",
       "      <td>NaN</td>\n",
       "      <td>https://www.zhipuai.cn/en/news/76</td>\n",
       "      <td>NaN</td>\n",
       "      <td>Zhipu AI launches third-generation base model</td>\n",
       "      <td>...</td>\n",
       "      <td>checked</td>\n",
       "      <td>NaN</td>\n",
       "      <td>NaN</td>\n",
       "      <td>NaN</td>\n",
       "      <td>NaN</td>\n",
       "      <td>NaN</td>\n",
       "      <td>NaN</td>\n",
       "      <td>Industry</td>\n",
       "      <td>NaN</td>\n",
       "      <td>NaN</td>\n",
       "    </tr>\n",
       "    <tr>\n",
       "      <th>176</th>\n",
       "      <td>Falcon-180B</td>\n",
       "      <td>Language</td>\n",
       "      <td>Language modelling</td>\n",
       "      <td>Ebtesam Almazrouei, Hamza Alobeidli, Abdulaziz...</td>\n",
       "      <td>SOTA improvement</td>\n",
       "      <td>\"It's currently at the top of the Hugging Face...</td>\n",
       "      <td>Open access (restricted use)</td>\n",
       "      <td>https://falconllm.tii.ae/falcon-180b.html; htt...</td>\n",
       "      <td>86.0</td>\n",
       "      <td>The Falcon Series of Open Language Models</td>\n",
       "      <td>...</td>\n",
       "      <td>NaN</td>\n",
       "      <td>NaN</td>\n",
       "      <td>NaN</td>\n",
       "      <td>17694720.0</td>\n",
       "      <td>NaN</td>\n",
       "      <td>NaN</td>\n",
       "      <td>\"Falcon 180b can be commercially used but unde...</td>\n",
       "      <td>Government</td>\n",
       "      <td>NaN</td>\n",
       "      <td>2.033419e+07</td>\n",
       "    </tr>\n",
       "    <tr>\n",
       "      <th>...</th>\n",
       "      <td>...</td>\n",
       "      <td>...</td>\n",
       "      <td>...</td>\n",
       "      <td>...</td>\n",
       "      <td>...</td>\n",
       "      <td>...</td>\n",
       "      <td>...</td>\n",
       "      <td>...</td>\n",
       "      <td>...</td>\n",
       "      <td>...</td>\n",
       "      <td>...</td>\n",
       "      <td>...</td>\n",
       "      <td>...</td>\n",
       "      <td>...</td>\n",
       "      <td>...</td>\n",
       "      <td>...</td>\n",
       "      <td>...</td>\n",
       "      <td>...</td>\n",
       "      <td>...</td>\n",
       "      <td>...</td>\n",
       "      <td>...</td>\n",
       "    </tr>\n",
       "    <tr>\n",
       "      <th>1145</th>\n",
       "      <td>Xception</td>\n",
       "      <td>Vision</td>\n",
       "      <td>Image classification</td>\n",
       "      <td>François Chollet</td>\n",
       "      <td>Highly cited</td>\n",
       "      <td>NaN</td>\n",
       "      <td>NaN</td>\n",
       "      <td>https://arxiv.org/abs/1610.02357</td>\n",
       "      <td>11578.0</td>\n",
       "      <td>Xception: Deep Learning with Depthwise Separab...</td>\n",
       "      <td>...</td>\n",
       "      <td>NaN</td>\n",
       "      <td>NaN</td>\n",
       "      <td>NaN</td>\n",
       "      <td>43200.0</td>\n",
       "      <td>NaN</td>\n",
       "      <td>NaN</td>\n",
       "      <td>NaN</td>\n",
       "      <td>Industry</td>\n",
       "      <td>NaN</td>\n",
       "      <td>1.679176e+04</td>\n",
       "    </tr>\n",
       "    <tr>\n",
       "      <th>1146</th>\n",
       "      <td>GNMT</td>\n",
       "      <td>Language</td>\n",
       "      <td>Translation</td>\n",
       "      <td>Yonghui Wu, Mike Schuster, Zhifeng Chen, Quoc ...</td>\n",
       "      <td>Highly cited</td>\n",
       "      <td>NaN</td>\n",
       "      <td>Hosted access (no API)</td>\n",
       "      <td>https://arxiv.org/abs/1609.08144</td>\n",
       "      <td>6196.0</td>\n",
       "      <td>Google's Neural Machine Translation System: Br...</td>\n",
       "      <td>...</td>\n",
       "      <td>NaN</td>\n",
       "      <td>NaN</td>\n",
       "      <td>NaN</td>\n",
       "      <td>414720.0</td>\n",
       "      <td>NaN</td>\n",
       "      <td>NaN</td>\n",
       "      <td>presumably deployed via Google translate</td>\n",
       "      <td>Industry</td>\n",
       "      <td>NaN</td>\n",
       "      <td>1.612009e+05</td>\n",
       "    </tr>\n",
       "    <tr>\n",
       "      <th>1182</th>\n",
       "      <td>AlphaGo Lee</td>\n",
       "      <td>Games</td>\n",
       "      <td>Go</td>\n",
       "      <td>David Silver, Aja Huang, Chris J. Maddison, Ar...</td>\n",
       "      <td>Highly cited</td>\n",
       "      <td>NaN</td>\n",
       "      <td>NaN</td>\n",
       "      <td>https://www.nature.com/articles/nature16961</td>\n",
       "      <td>14887.0</td>\n",
       "      <td>Mastering the game of Go with deep neural netw...</td>\n",
       "      <td>...</td>\n",
       "      <td>NaN</td>\n",
       "      <td>NaN</td>\n",
       "      <td>NaN</td>\n",
       "      <td>NaN</td>\n",
       "      <td>NaN</td>\n",
       "      <td>NaN</td>\n",
       "      <td>NaN</td>\n",
       "      <td>Industry</td>\n",
       "      <td>NaN</td>\n",
       "      <td>NaN</td>\n",
       "    </tr>\n",
       "    <tr>\n",
       "      <th>1186</th>\n",
       "      <td>ResNet-152 (ImageNet)</td>\n",
       "      <td>Vision</td>\n",
       "      <td>Image classification</td>\n",
       "      <td>Kaiming He, Xiangyu Zhang, Shaoqing Ren, Jian Sun</td>\n",
       "      <td>Highly cited</td>\n",
       "      <td>NaN</td>\n",
       "      <td>NaN</td>\n",
       "      <td>https://arxiv.org/abs/1512.03385</td>\n",
       "      <td>156882.0</td>\n",
       "      <td>Deep Residual Learning for Image Recognition</td>\n",
       "      <td>...</td>\n",
       "      <td>NaN</td>\n",
       "      <td>NaN</td>\n",
       "      <td>NaN</td>\n",
       "      <td>NaN</td>\n",
       "      <td>NaN</td>\n",
       "      <td>NaN</td>\n",
       "      <td>NaN</td>\n",
       "      <td>Industry</td>\n",
       "      <td>NaN</td>\n",
       "      <td>NaN</td>\n",
       "    </tr>\n",
       "    <tr>\n",
       "      <th>1188</th>\n",
       "      <td>DeepSpeech2 (English)</td>\n",
       "      <td>Speech</td>\n",
       "      <td>Speech recognition</td>\n",
       "      <td>Dario Amodei, Rishita Anubhai, Eric Battenberg...</td>\n",
       "      <td>Highly cited</td>\n",
       "      <td>NaN</td>\n",
       "      <td>NaN</td>\n",
       "      <td>https://arxiv.org/abs/1512.02595</td>\n",
       "      <td>2749.0</td>\n",
       "      <td>Deep Speech 2: End-to-End Speech Recognition i...</td>\n",
       "      <td>...</td>\n",
       "      <td>NaN</td>\n",
       "      <td>NaN</td>\n",
       "      <td>NaN</td>\n",
       "      <td>301.0</td>\n",
       "      <td>NaN</td>\n",
       "      <td>NaN</td>\n",
       "      <td>NaN</td>\n",
       "      <td>Industry</td>\n",
       "      <td>NaN</td>\n",
       "      <td>2.418115e+02</td>\n",
       "    </tr>\n",
       "  </tbody>\n",
       "</table>\n",
       "<p>67 rows × 59 columns</p>\n",
       "</div>"
      ],
      "text/plain": [
       "                     System      Domain  \\\n",
       "75             Gemini Ultra  Multimodal   \n",
       "91             Inflection-2    Language   \n",
       "116                  Grok-1    Language   \n",
       "130                ChatGLM3  Multimodal   \n",
       "176             Falcon-180B    Language   \n",
       "...                     ...         ...   \n",
       "1145               Xception      Vision   \n",
       "1146                   GNMT    Language   \n",
       "1182            AlphaGo Lee       Games   \n",
       "1186  ResNet-152 (ImageNet)      Vision   \n",
       "1188  DeepSpeech2 (English)      Speech   \n",
       "\n",
       "                                                   Task  \\\n",
       "75    Language modelling,Visual question answering,C...   \n",
       "91                                   Language modelling   \n",
       "116                             Language modelling,Chat   \n",
       "130                      Chat,Visual question answering   \n",
       "176                                  Language modelling   \n",
       "...                                                 ...   \n",
       "1145                               Image classification   \n",
       "1146                                        Translation   \n",
       "1182                                                 Go   \n",
       "1186                               Image classification   \n",
       "1188                                 Speech recognition   \n",
       "\n",
       "                                                Authors Notability criteria  \\\n",
       "75                                          Gemini Team    SOTA improvement   \n",
       "91                                                  NaN     Significant use   \n",
       "116                                                 NaN    SOTA improvement   \n",
       "130                                                 NaN    SOTA improvement   \n",
       "176   Ebtesam Almazrouei, Hamza Alobeidli, Abdulaziz...    SOTA improvement   \n",
       "...                                                 ...                 ...   \n",
       "1145                                   François Chollet        Highly cited   \n",
       "1146  Yonghui Wu, Mike Schuster, Zhifeng Chen, Quoc ...        Highly cited   \n",
       "1182  David Silver, Aja Huang, Chris J. Maddison, Ar...        Highly cited   \n",
       "1186  Kaiming He, Xiangyu Zhang, Shaoqing Ren, Jian Sun        Highly cited   \n",
       "1188  Dario Amodei, Rishita Anubhai, Eric Battenberg...        Highly cited   \n",
       "\n",
       "                              Notability criteria notes  \\\n",
       "75    \" Evaluation on a broad range of benchmarks sh...   \n",
       "91    Inflection-2 either already powers Pi or soon ...   \n",
       "116   \"On these benchmarks, Grok-1 displayed strong ...   \n",
       "130   Aiming at GPT-4V, ChatGLM3 has implemented ite...   \n",
       "176   \"It's currently at the top of the Hugging Face...   \n",
       "...                                                 ...   \n",
       "1145                                                NaN   \n",
       "1146                                                NaN   \n",
       "1182                                                NaN   \n",
       "1186                                                NaN   \n",
       "1188                                                NaN   \n",
       "\n",
       "               Model accessibility  \\\n",
       "75          Hosted access (no API)   \n",
       "91          Hosted access (no API)   \n",
       "116                    Open source   \n",
       "130                            NaN   \n",
       "176   Open access (restricted use)   \n",
       "...                            ...   \n",
       "1145                           NaN   \n",
       "1146        Hosted access (no API)   \n",
       "1182                           NaN   \n",
       "1186                           NaN   \n",
       "1188                           NaN   \n",
       "\n",
       "                                                   Link  Citations  \\\n",
       "75    https://storage.googleapis.com/deepmind-media/...      633.0   \n",
       "91                   https://inflection.ai/inflection-2        NaN   \n",
       "116   https://x.ai/model-card/, https://x.ai/blog/gr...        NaN   \n",
       "130                   https://www.zhipuai.cn/en/news/76        NaN   \n",
       "176   https://falconllm.tii.ae/falcon-180b.html; htt...       86.0   \n",
       "...                                                 ...        ...   \n",
       "1145                   https://arxiv.org/abs/1610.02357    11578.0   \n",
       "1146                   https://arxiv.org/abs/1609.08144     6196.0   \n",
       "1182        https://www.nature.com/articles/nature16961    14887.0   \n",
       "1186                   https://arxiv.org/abs/1512.03385   156882.0   \n",
       "1188                   https://arxiv.org/abs/1512.02595     2749.0   \n",
       "\n",
       "                                              Reference  ... Foundation model  \\\n",
       "75    Gemini: A Family of Highly Capable Multimodal ...  ...              NaN   \n",
       "91                       Inflection-2: The Next Step Up  ...          checked   \n",
       "116                                     Announcing Grok  ...          checked   \n",
       "130       Zhipu AI launches third-generation base model  ...          checked   \n",
       "176           The Falcon Series of Open Language Models  ...              NaN   \n",
       "...                                                 ...  ...              ...   \n",
       "1145  Xception: Deep Learning with Depthwise Separab...  ...              NaN   \n",
       "1146  Google's Neural Machine Translation System: Br...  ...              NaN   \n",
       "1182  Mastering the game of Go with deep neural netw...  ...              NaN   \n",
       "1186       Deep Residual Learning for Image Recognition  ...              NaN   \n",
       "1188  Deep Speech 2: End-to-End Speech Recognition i...  ...              NaN   \n",
       "\n",
       "     Training compute lower bound  Training compute upper bound  \\\n",
       "75                            NaN                           NaN   \n",
       "91                            NaN                           NaN   \n",
       "116                             2                           7.0   \n",
       "130                           NaN                           NaN   \n",
       "176                           NaN                           NaN   \n",
       "...                           ...                           ...   \n",
       "1145                          NaN                           NaN   \n",
       "1146                          NaN                           NaN   \n",
       "1182                          NaN                           NaN   \n",
       "1186                          NaN                           NaN   \n",
       "1188                          NaN                           NaN   \n",
       "\n",
       "     Training chip-hours  Code accessibility Dataset accessibility  \\\n",
       "75           132000000.0                 NaN                   NaN   \n",
       "91                   NaN                 NaN                   NaN   \n",
       "116                  NaN          Unreleased            Unreleased   \n",
       "130                  NaN                 NaN                   NaN   \n",
       "176           17694720.0                 NaN                   NaN   \n",
       "...                  ...                 ...                   ...   \n",
       "1145             43200.0                 NaN                   NaN   \n",
       "1146            414720.0                 NaN                   NaN   \n",
       "1182                 NaN                 NaN                   NaN   \n",
       "1186                 NaN                 NaN                   NaN   \n",
       "1188               301.0                 NaN                   NaN   \n",
       "\n",
       "                                    Accessibility notes  \\\n",
       "75                                                  NaN   \n",
       "91                                       via Pi, no API   \n",
       "116                                          apache 2.0   \n",
       "130                                                 NaN   \n",
       "176   \"Falcon 180b can be commercially used but unde...   \n",
       "...                                                 ...   \n",
       "1145                                                NaN   \n",
       "1146           presumably deployed via Google translate   \n",
       "1182                                                NaN   \n",
       "1186                                                NaN   \n",
       "1188                                                NaN   \n",
       "\n",
       "     Organization categorization (from Organization)  Possibly over 1e23 FLOP  \\\n",
       "75                                          Industry                      NaN   \n",
       "91                                          Industry                      NaN   \n",
       "116                                         Industry                  checked   \n",
       "130                                         Industry                      NaN   \n",
       "176                                       Government                      NaN   \n",
       "...                                              ...                      ...   \n",
       "1145                                        Industry                      NaN   \n",
       "1146                                        Industry                      NaN   \n",
       "1182                                        Industry                      NaN   \n",
       "1186                                        Industry                      NaN   \n",
       "1188                                        Industry                      NaN   \n",
       "\n",
       "              Cost  \n",
       "75    8.897229e+07  \n",
       "91    1.166191e+07  \n",
       "116            NaN  \n",
       "130            NaN  \n",
       "176   2.033419e+07  \n",
       "...            ...  \n",
       "1145  1.679176e+04  \n",
       "1146  1.612009e+05  \n",
       "1182           NaN  \n",
       "1186           NaN  \n",
       "1188  2.418115e+02  \n",
       "\n",
       "[67 rows x 59 columns]"
      ]
     },
     "execution_count": 30,
     "metadata": {},
     "output_type": "execute_result"
    }
   ],
   "source": [
    "cost_df"
   ]
  },
  {
   "cell_type": "code",
   "execution_count": 31,
   "metadata": {
    "ExecuteTime": {
     "end_time": "2024-03-08T01:54:58.104807Z",
     "start_time": "2024-03-08T01:54:57.967995500Z"
    }
   },
   "outputs": [
    {
     "data": {
      "text/plain": [
       "47"
      ]
     },
     "execution_count": 31,
     "metadata": {},
     "output_type": "execute_result"
    }
   ],
   "source": [
    "cost_df['Cost'].notna().sum()"
   ]
  },
  {
   "cell_type": "markdown",
   "metadata": {},
   "source": [
    "Use the below to check data availability for specific systems"
   ]
  },
  {
   "cell_type": "code",
   "execution_count": 32,
   "metadata": {
    "ExecuteTime": {
     "end_time": "2024-03-08T01:54:58.418907200Z",
     "start_time": "2024-03-08T01:54:58.109807800Z"
    }
   },
   "outputs": [],
   "source": [
    "# system = 'WizardLM-7B'\n",
    "# row = cost_df.loc[cost_df['System'] == system]\n",
    "# print('Cost:', row['Cost'].values[0])\n",
    "# print('Training hardware:', row['Training hardware'].values[0])\n",
    "# print('Training time (hours):', row['Training time (hours)'].values[0])\n",
    "# print('Hardware quantity:', row['Hardware quantity'].values[0])\n",
    "# print('Hardware utilization:', row['Hardware utilization'].values[0])"
   ]
  },
  {
   "cell_type": "markdown",
   "metadata": {},
   "source": [
    "# Apply inflation adjustment"
   ]
  },
  {
   "cell_type": "code",
   "execution_count": 33,
   "metadata": {},
   "outputs": [
    {
     "data": {
      "text/plain": [
       "75      8.897229e+07\n",
       "91      1.166191e+07\n",
       "176     2.033419e+07\n",
       "215     1.973030e+06\n",
       "227     3.452577e+06\n",
       "268     1.332633e+07\n",
       "309     6.550254e+07\n",
       "325     1.169203e+06\n",
       "369     7.045724e+06\n",
       "380     1.241250e+06\n",
       "395     5.712709e+06\n",
       "420     2.096613e+06\n",
       "421     1.273077e+06\n",
       "442     6.152148e+06\n",
       "448     7.202575e+05\n",
       "485     9.291789e+05\n",
       "495     5.671252e+06\n",
       "517     1.129502e+06\n",
       "546     9.394380e+05\n",
       "550     2.987690e+06\n",
       "590     3.918405e+06\n",
       "597     7.524690e+05\n",
       "617     3.724289e+05\n",
       "639     3.867531e+05\n",
       "647     3.518976e+05\n",
       "684     2.143342e+05\n",
       "700     5.260932e+05\n",
       "703     2.194701e+05\n",
       "765     1.536286e+05\n",
       "772     2.790453e+06\n",
       "807     7.274088e+04\n",
       "812     5.833714e+05\n",
       "839     3.210319e+05\n",
       "843     1.953350e+05\n",
       "857     5.565766e+05\n",
       "858     1.316383e+05\n",
       "883     9.614453e+04\n",
       "969     9.732469e+03\n",
       "1042    8.136766e+05\n",
       "1058    2.237350e+06\n",
       "1092    2.802476e+04\n",
       "1114    7.599516e+03\n",
       "1118    1.312294e+06\n",
       "1134    7.097896e+02\n",
       "1145    1.679176e+04\n",
       "1146    1.612009e+05\n",
       "1188    2.418115e+02\n",
       "Name: Cost, dtype: float64"
      ]
     },
     "execution_count": 33,
     "metadata": {},
     "output_type": "execute_result"
    }
   ],
   "source": [
    "cost_df['Cost'].dropna()"
   ]
  },
  {
   "cell_type": "code",
   "execution_count": 34,
   "metadata": {
    "ExecuteTime": {
     "end_time": "2024-03-08T01:54:59.049781600Z",
     "start_time": "2024-03-08T01:54:58.881981400Z"
    }
   },
   "outputs": [],
   "source": [
    "cost_df = adjust_column_for_inflation(cost_df, 'Cost', 'data/PCU518210518210.csv', '2023-12-01')"
   ]
  },
  {
   "cell_type": "code",
   "execution_count": 35,
   "metadata": {
    "ExecuteTime": {
     "end_time": "2024-03-08T01:54:59.177190500Z",
     "start_time": "2024-03-08T01:54:59.049781600Z"
    }
   },
   "outputs": [
    {
     "data": {
      "text/plain": [
       "75      8.897229e+07\n",
       "91      1.168921e+07\n",
       "176     2.046019e+07\n",
       "215     1.984283e+06\n",
       "227     3.472267e+06\n",
       "268     1.346341e+07\n",
       "309     6.620559e+07\n",
       "325     1.184135e+06\n",
       "369     7.187383e+06\n",
       "380     1.266207e+06\n",
       "395     5.827866e+06\n",
       "420     2.138437e+06\n",
       "421     1.298473e+06\n",
       "442     6.268266e+06\n",
       "448     7.338520e+05\n",
       "485     9.438807e+05\n",
       "495     5.765167e+06\n",
       "517     1.167702e+06\n",
       "546     9.694424e+05\n",
       "550     3.083112e+06\n",
       "590     4.042327e+06\n",
       "597     7.776412e+05\n",
       "617     3.842372e+05\n",
       "639     3.999585e+05\n",
       "647     3.639129e+05\n",
       "684     2.214601e+05\n",
       "700     5.459535e+05\n",
       "703     2.277553e+05\n",
       "765     1.602665e+05\n",
       "772     2.928992e+06\n",
       "807     7.628500e+04\n",
       "812     6.128747e+05\n",
       "839     3.420987e+05\n",
       "843     2.081533e+05\n",
       "857     5.936318e+05\n",
       "858     1.404023e+05\n",
       "883     1.034727e+05\n",
       "969     1.048376e+04\n",
       "1042    8.796723e+05\n",
       "1058    2.418817e+06\n",
       "1092    3.027030e+04\n",
       "1114    8.298811e+03\n",
       "1118    1.433049e+06\n",
       "1134    7.751033e+02\n",
       "1145    1.833691e+04\n",
       "1146    1.760344e+05\n",
       "1188    2.689983e+02\n",
       "Name: Cost (inflation-adjusted), dtype: float64"
      ]
     },
     "execution_count": 35,
     "metadata": {},
     "output_type": "execute_result"
    }
   ],
   "source": [
    "cost_df['Cost (inflation-adjusted)'].dropna()"
   ]
  },
  {
   "cell_type": "code",
   "execution_count": 36,
   "metadata": {
    "ExecuteTime": {
     "end_time": "2024-03-08T01:54:59.344452300Z",
     "start_time": "2024-03-08T01:54:59.182457200Z"
    }
   },
   "outputs": [],
   "source": [
    "assert cost_df['Cost (inflation-adjusted)'].notna().sum() == cost_df['Cost'].notna().sum()"
   ]
  },
  {
   "cell_type": "markdown",
   "metadata": {},
   "source": [
    "# Regression"
   ]
  },
  {
   "cell_type": "code",
   "execution_count": 37,
   "metadata": {
    "ExecuteTime": {
     "end_time": "2024-03-08T01:54:59.490722200Z",
     "start_time": "2024-03-08T01:54:59.337705700Z"
    }
   },
   "outputs": [],
   "source": [
    "cost_df['Publication date (float)'] = datetime_to_float_year(pd.to_datetime(cost_df['Publication date']))"
   ]
  },
  {
   "cell_type": "code",
   "execution_count": 38,
   "metadata": {
    "ExecuteTime": {
     "end_time": "2024-03-08T01:54:59.700207700Z",
     "start_time": "2024-03-08T01:54:59.462346300Z"
    }
   },
   "outputs": [
    {
     "data": {
      "text/html": [
       "<table class=\"simpletable\">\n",
       "<caption>OLS Regression Results</caption>\n",
       "<tr>\n",
       "  <th>Dep. Variable:</th>            <td>y</td>        <th>  R-squared:         </th> <td>   0.603</td>\n",
       "</tr>\n",
       "<tr>\n",
       "  <th>Model:</th>                   <td>OLS</td>       <th>  Adj. R-squared:    </th> <td>   0.595</td>\n",
       "</tr>\n",
       "<tr>\n",
       "  <th>Method:</th>             <td>Least Squares</td>  <th>  F-statistic:       </th> <td>   68.49</td>\n",
       "</tr>\n",
       "<tr>\n",
       "  <th>Date:</th>             <td>Mon, 06 May 2024</td> <th>  Prob (F-statistic):</th> <td>1.37e-10</td>\n",
       "</tr>\n",
       "<tr>\n",
       "  <th>Time:</th>                 <td>22:45:17</td>     <th>  Log-Likelihood:    </th> <td> -49.030</td>\n",
       "</tr>\n",
       "<tr>\n",
       "  <th>No. Observations:</th>      <td>    47</td>      <th>  AIC:               </th> <td>   102.1</td>\n",
       "</tr>\n",
       "<tr>\n",
       "  <th>Df Residuals:</th>          <td>    45</td>      <th>  BIC:               </th> <td>   105.8</td>\n",
       "</tr>\n",
       "<tr>\n",
       "  <th>Df Model:</th>              <td>     1</td>      <th>                     </th>     <td> </td>   \n",
       "</tr>\n",
       "<tr>\n",
       "  <th>Covariance Type:</th>      <td>nonrobust</td>    <th>                     </th>     <td> </td>   \n",
       "</tr>\n",
       "</table>\n",
       "<table class=\"simpletable\">\n",
       "<tr>\n",
       "    <td></td>       <th>coef</th>     <th>std err</th>      <th>t</th>      <th>P>|t|</th>  <th>[0.025</th>    <th>0.975]</th>  \n",
       "</tr>\n",
       "<tr>\n",
       "  <th>const</th> <td> -756.9933</td> <td>   92.170</td> <td>   -8.213</td> <td> 0.000</td> <td> -942.633</td> <td> -571.354</td>\n",
       "</tr>\n",
       "<tr>\n",
       "  <th>x1</th>    <td>    0.3775</td> <td>    0.046</td> <td>    8.276</td> <td> 0.000</td> <td>    0.286</td> <td>    0.469</td>\n",
       "</tr>\n",
       "</table>\n",
       "<table class=\"simpletable\">\n",
       "<tr>\n",
       "  <th>Omnibus:</th>       <td> 4.316</td> <th>  Durbin-Watson:     </th> <td>   2.286</td>\n",
       "</tr>\n",
       "<tr>\n",
       "  <th>Prob(Omnibus):</th> <td> 0.116</td> <th>  Jarque-Bera (JB):  </th> <td>   3.151</td>\n",
       "</tr>\n",
       "<tr>\n",
       "  <th>Skew:</th>          <td> 0.560</td> <th>  Prob(JB):          </th> <td>   0.207</td>\n",
       "</tr>\n",
       "<tr>\n",
       "  <th>Kurtosis:</th>      <td> 3.595</td> <th>  Cond. No.          </th> <td>1.82e+06</td>\n",
       "</tr>\n",
       "</table><br/><br/>Notes:<br/>[1] Standard Errors assume that the covariance matrix of the errors is correctly specified.<br/>[2] The condition number is large, 1.82e+06. This might indicate that there are<br/>strong multicollinearity or other numerical problems."
      ],
      "text/latex": [
       "\\begin{center}\n",
       "\\begin{tabular}{lclc}\n",
       "\\toprule\n",
       "\\textbf{Dep. Variable:}    &        y         & \\textbf{  R-squared:         } &     0.603   \\\\\n",
       "\\textbf{Model:}            &       OLS        & \\textbf{  Adj. R-squared:    } &     0.595   \\\\\n",
       "\\textbf{Method:}           &  Least Squares   & \\textbf{  F-statistic:       } &     68.49   \\\\\n",
       "\\textbf{Date:}             & Mon, 06 May 2024 & \\textbf{  Prob (F-statistic):} &  1.37e-10   \\\\\n",
       "\\textbf{Time:}             &     22:45:17     & \\textbf{  Log-Likelihood:    } &   -49.030   \\\\\n",
       "\\textbf{No. Observations:} &          47      & \\textbf{  AIC:               } &     102.1   \\\\\n",
       "\\textbf{Df Residuals:}     &          45      & \\textbf{  BIC:               } &     105.8   \\\\\n",
       "\\textbf{Df Model:}         &           1      & \\textbf{                     } &             \\\\\n",
       "\\textbf{Covariance Type:}  &    nonrobust     & \\textbf{                     } &             \\\\\n",
       "\\bottomrule\n",
       "\\end{tabular}\n",
       "\\begin{tabular}{lcccccc}\n",
       "               & \\textbf{coef} & \\textbf{std err} & \\textbf{t} & \\textbf{P$> |$t$|$} & \\textbf{[0.025} & \\textbf{0.975]}  \\\\\n",
       "\\midrule\n",
       "\\textbf{const} &    -756.9933  &       92.170     &    -8.213  &         0.000        &     -942.633    &     -571.354     \\\\\n",
       "\\textbf{x1}    &       0.3775  &        0.046     &     8.276  &         0.000        &        0.286    &        0.469     \\\\\n",
       "\\bottomrule\n",
       "\\end{tabular}\n",
       "\\begin{tabular}{lclc}\n",
       "\\textbf{Omnibus:}       &  4.316 & \\textbf{  Durbin-Watson:     } &    2.286  \\\\\n",
       "\\textbf{Prob(Omnibus):} &  0.116 & \\textbf{  Jarque-Bera (JB):  } &    3.151  \\\\\n",
       "\\textbf{Skew:}          &  0.560 & \\textbf{  Prob(JB):          } &    0.207  \\\\\n",
       "\\textbf{Kurtosis:}      &  3.595 & \\textbf{  Cond. No.          } & 1.82e+06  \\\\\n",
       "\\bottomrule\n",
       "\\end{tabular}\n",
       "%\\caption{OLS Regression Results}\n",
       "\\end{center}\n",
       "\n",
       "Notes: \\newline\n",
       " [1] Standard Errors assume that the covariance matrix of the errors is correctly specified. \\newline\n",
       " [2] The condition number is large, 1.82e+06. This might indicate that there are \\newline\n",
       " strong multicollinearity or other numerical problems."
      ],
      "text/plain": [
       "<class 'statsmodels.iolib.summary.Summary'>\n",
       "\"\"\"\n",
       "                            OLS Regression Results                            \n",
       "==============================================================================\n",
       "Dep. Variable:                      y   R-squared:                       0.603\n",
       "Model:                            OLS   Adj. R-squared:                  0.595\n",
       "Method:                 Least Squares   F-statistic:                     68.49\n",
       "Date:                Mon, 06 May 2024   Prob (F-statistic):           1.37e-10\n",
       "Time:                        22:45:17   Log-Likelihood:                -49.030\n",
       "No. Observations:                  47   AIC:                             102.1\n",
       "Df Residuals:                      45   BIC:                             105.8\n",
       "Df Model:                           1                                         \n",
       "Covariance Type:            nonrobust                                         \n",
       "==============================================================================\n",
       "                 coef    std err          t      P>|t|      [0.025      0.975]\n",
       "------------------------------------------------------------------------------\n",
       "const       -756.9933     92.170     -8.213      0.000    -942.633    -571.354\n",
       "x1             0.3775      0.046      8.276      0.000       0.286       0.469\n",
       "==============================================================================\n",
       "Omnibus:                        4.316   Durbin-Watson:                   2.286\n",
       "Prob(Omnibus):                  0.116   Jarque-Bera (JB):                3.151\n",
       "Skew:                           0.560   Prob(JB):                        0.207\n",
       "Kurtosis:                       3.595   Cond. No.                     1.82e+06\n",
       "==============================================================================\n",
       "\n",
       "Notes:\n",
       "[1] Standard Errors assume that the covariance matrix of the errors is correctly specified.\n",
       "[2] The condition number is large, 1.82e+06. This might indicate that there are\n",
       "strong multicollinearity or other numerical problems.\n",
       "\"\"\""
      ]
     },
     "execution_count": 38,
     "metadata": {},
     "output_type": "execute_result"
    }
   ],
   "source": [
    "reg_results = fit_ols_regression(cost_df, ['Publication date (float)'], 'Cost (inflation-adjusted)', logy=True)\n",
    "reg_results.summary()"
   ]
  },
  {
   "cell_type": "code",
   "execution_count": 39,
   "metadata": {
    "ExecuteTime": {
     "end_time": "2024-03-08T01:55:00.548785500Z",
     "start_time": "2024-03-08T01:54:59.700207700Z"
    }
   },
   "outputs": [
    {
     "name": "stdout",
     "output_type": "stream",
     "text": [
      "N=47.0\n",
      "R^2=0.60\n",
      "0.38 OOMs/year (95% CI: 0.29, 0.47)\n",
      "2.4x/year (95% CI: 1.9x, 2.9x)\n",
      "doubling time of 10 months (95% CI: 8, 13)\n"
     ]
    }
   ],
   "source": [
    "with open(f'{results_dir}/regression_results.out', 'w') as f:\n",
    "    with redirect_stdout(f):\n",
    "        print_growth_rates(reg_results)\n",
    "print_growth_rates(reg_results)"
   ]
  },
  {
   "cell_type": "code",
   "execution_count": 40,
   "metadata": {
    "ExecuteTime": {
     "end_time": "2024-03-08T01:55:00.548785500Z",
     "start_time": "2024-03-08T01:54:59.809703300Z"
    }
   },
   "outputs": [
    {
     "data": {
      "text/html": [
       "<div>\n",
       "<style scoped>\n",
       "    .dataframe tbody tr th:only-of-type {\n",
       "        vertical-align: middle;\n",
       "    }\n",
       "\n",
       "    .dataframe tbody tr th {\n",
       "        vertical-align: top;\n",
       "    }\n",
       "\n",
       "    .dataframe thead th {\n",
       "        text-align: right;\n",
       "    }\n",
       "</style>\n",
       "<table border=\"1\" class=\"dataframe\">\n",
       "  <thead>\n",
       "    <tr style=\"text-align: right;\">\n",
       "      <th></th>\n",
       "      <th>Publication date (float)</th>\n",
       "    </tr>\n",
       "  </thead>\n",
       "  <tbody>\n",
       "    <tr>\n",
       "      <th>0</th>\n",
       "      <td>2015.00000</td>\n",
       "    </tr>\n",
       "    <tr>\n",
       "      <th>1</th>\n",
       "      <td>2015.10101</td>\n",
       "    </tr>\n",
       "    <tr>\n",
       "      <th>2</th>\n",
       "      <td>2015.20202</td>\n",
       "    </tr>\n",
       "    <tr>\n",
       "      <th>3</th>\n",
       "      <td>2015.30303</td>\n",
       "    </tr>\n",
       "    <tr>\n",
       "      <th>4</th>\n",
       "      <td>2015.40404</td>\n",
       "    </tr>\n",
       "    <tr>\n",
       "      <th>...</th>\n",
       "      <td>...</td>\n",
       "    </tr>\n",
       "    <tr>\n",
       "      <th>95</th>\n",
       "      <td>2024.59596</td>\n",
       "    </tr>\n",
       "    <tr>\n",
       "      <th>96</th>\n",
       "      <td>2024.69697</td>\n",
       "    </tr>\n",
       "    <tr>\n",
       "      <th>97</th>\n",
       "      <td>2024.79798</td>\n",
       "    </tr>\n",
       "    <tr>\n",
       "      <th>98</th>\n",
       "      <td>2024.89899</td>\n",
       "    </tr>\n",
       "    <tr>\n",
       "      <th>99</th>\n",
       "      <td>2025.00000</td>\n",
       "    </tr>\n",
       "  </tbody>\n",
       "</table>\n",
       "<p>100 rows × 1 columns</p>\n",
       "</div>"
      ],
      "text/plain": [
       "    Publication date (float)\n",
       "0                 2015.00000\n",
       "1                 2015.10101\n",
       "2                 2015.20202\n",
       "3                 2015.30303\n",
       "4                 2015.40404\n",
       "..                       ...\n",
       "95                2024.59596\n",
       "96                2024.69697\n",
       "97                2024.79798\n",
       "98                2024.89899\n",
       "99                2025.00000\n",
       "\n",
       "[100 rows x 1 columns]"
      ]
     },
     "execution_count": 40,
     "metadata": {},
     "output_type": "execute_result"
    }
   ],
   "source": [
    "pred_start_year = 2015\n",
    "pred_end_year = 2025\n",
    "pred_start_date = f'{pred_start_year}-01-01'\n",
    "pred_end_date = f'{pred_end_year}-01-01'\n",
    "\n",
    "pred_years = pd.DataFrame({'Publication date (float)': np.linspace(pred_start_year, pred_end_year, 100)})\n",
    "pred_years"
   ]
  },
  {
   "cell_type": "code",
   "execution_count": 41,
   "metadata": {
    "ExecuteTime": {
     "end_time": "2024-03-08T01:55:00.564420400Z",
     "start_time": "2024-03-08T01:54:59.920051200Z"
    }
   },
   "outputs": [
    {
     "data": {
      "text/html": [
       "<div>\n",
       "<style scoped>\n",
       "    .dataframe tbody tr th:only-of-type {\n",
       "        vertical-align: middle;\n",
       "    }\n",
       "\n",
       "    .dataframe tbody tr th {\n",
       "        vertical-align: top;\n",
       "    }\n",
       "\n",
       "    .dataframe thead th {\n",
       "        text-align: right;\n",
       "    }\n",
       "</style>\n",
       "<table border=\"1\" class=\"dataframe\">\n",
       "  <thead>\n",
       "    <tr style=\"text-align: right;\">\n",
       "      <th></th>\n",
       "      <th>mean</th>\n",
       "      <th>mean_se</th>\n",
       "      <th>mean_ci_lower</th>\n",
       "      <th>mean_ci_upper</th>\n",
       "      <th>obs_ci_lower</th>\n",
       "      <th>obs_ci_upper</th>\n",
       "      <th>Publication date (float)</th>\n",
       "      <th>Publication date</th>\n",
       "    </tr>\n",
       "  </thead>\n",
       "  <tbody>\n",
       "    <tr>\n",
       "      <th>0</th>\n",
       "      <td>3.592153</td>\n",
       "      <td>0.286338</td>\n",
       "      <td>3.015439</td>\n",
       "      <td>4.168868</td>\n",
       "      <td>2.065399</td>\n",
       "      <td>5.118908</td>\n",
       "      <td>2015.00000</td>\n",
       "      <td>2015-01-01</td>\n",
       "    </tr>\n",
       "    <tr>\n",
       "      <th>1</th>\n",
       "      <td>3.630281</td>\n",
       "      <td>0.282041</td>\n",
       "      <td>3.062222</td>\n",
       "      <td>4.198340</td>\n",
       "      <td>2.106775</td>\n",
       "      <td>5.153786</td>\n",
       "      <td>2015.10101</td>\n",
       "      <td>2015-02-06</td>\n",
       "    </tr>\n",
       "    <tr>\n",
       "      <th>2</th>\n",
       "      <td>3.668408</td>\n",
       "      <td>0.277753</td>\n",
       "      <td>3.108985</td>\n",
       "      <td>4.227831</td>\n",
       "      <td>2.148101</td>\n",
       "      <td>5.188715</td>\n",
       "      <td>2015.20202</td>\n",
       "      <td>2015-03-15</td>\n",
       "    </tr>\n",
       "    <tr>\n",
       "      <th>3</th>\n",
       "      <td>3.706536</td>\n",
       "      <td>0.273476</td>\n",
       "      <td>3.155728</td>\n",
       "      <td>4.257344</td>\n",
       "      <td>2.189378</td>\n",
       "      <td>5.223694</td>\n",
       "      <td>2015.30303</td>\n",
       "      <td>2015-04-21</td>\n",
       "    </tr>\n",
       "    <tr>\n",
       "      <th>4</th>\n",
       "      <td>3.744663</td>\n",
       "      <td>0.269209</td>\n",
       "      <td>3.202448</td>\n",
       "      <td>4.286878</td>\n",
       "      <td>2.230604</td>\n",
       "      <td>5.258722</td>\n",
       "      <td>2015.40404</td>\n",
       "      <td>2015-05-28</td>\n",
       "    </tr>\n",
       "    <tr>\n",
       "      <th>...</th>\n",
       "      <td>...</td>\n",
       "      <td>...</td>\n",
       "      <td>...</td>\n",
       "      <td>...</td>\n",
       "      <td>...</td>\n",
       "      <td>...</td>\n",
       "      <td>...</td>\n",
       "      <td>...</td>\n",
       "    </tr>\n",
       "    <tr>\n",
       "      <th>95</th>\n",
       "      <td>7.214261</td>\n",
       "      <td>0.198664</td>\n",
       "      <td>6.814130</td>\n",
       "      <td>7.614392</td>\n",
       "      <td>5.745083</td>\n",
       "      <td>8.683439</td>\n",
       "      <td>2024.59596</td>\n",
       "      <td>2024-08-06</td>\n",
       "    </tr>\n",
       "    <tr>\n",
       "      <th>96</th>\n",
       "      <td>7.252388</td>\n",
       "      <td>0.202626</td>\n",
       "      <td>6.844278</td>\n",
       "      <td>7.660499</td>\n",
       "      <td>5.781017</td>\n",
       "      <td>8.723760</td>\n",
       "      <td>2024.69697</td>\n",
       "      <td>2024-09-12</td>\n",
       "    </tr>\n",
       "    <tr>\n",
       "      <th>97</th>\n",
       "      <td>7.290516</td>\n",
       "      <td>0.206615</td>\n",
       "      <td>6.874371</td>\n",
       "      <td>7.706661</td>\n",
       "      <td>5.816896</td>\n",
       "      <td>8.764136</td>\n",
       "      <td>2024.79798</td>\n",
       "      <td>2024-10-19</td>\n",
       "    </tr>\n",
       "    <tr>\n",
       "      <th>98</th>\n",
       "      <td>7.328643</td>\n",
       "      <td>0.210629</td>\n",
       "      <td>6.904414</td>\n",
       "      <td>7.752873</td>\n",
       "      <td>5.852720</td>\n",
       "      <td>8.804567</td>\n",
       "      <td>2024.89899</td>\n",
       "      <td>2024-11-25</td>\n",
       "    </tr>\n",
       "    <tr>\n",
       "      <th>99</th>\n",
       "      <td>7.366771</td>\n",
       "      <td>0.214667</td>\n",
       "      <td>6.934409</td>\n",
       "      <td>7.799133</td>\n",
       "      <td>5.888490</td>\n",
       "      <td>8.845052</td>\n",
       "      <td>2025.00000</td>\n",
       "      <td>2025-01-01</td>\n",
       "    </tr>\n",
       "  </tbody>\n",
       "</table>\n",
       "<p>100 rows × 8 columns</p>\n",
       "</div>"
      ],
      "text/plain": [
       "        mean   mean_se  mean_ci_lower  mean_ci_upper  obs_ci_lower  \\\n",
       "0   3.592153  0.286338       3.015439       4.168868      2.065399   \n",
       "1   3.630281  0.282041       3.062222       4.198340      2.106775   \n",
       "2   3.668408  0.277753       3.108985       4.227831      2.148101   \n",
       "3   3.706536  0.273476       3.155728       4.257344      2.189378   \n",
       "4   3.744663  0.269209       3.202448       4.286878      2.230604   \n",
       "..       ...       ...            ...            ...           ...   \n",
       "95  7.214261  0.198664       6.814130       7.614392      5.745083   \n",
       "96  7.252388  0.202626       6.844278       7.660499      5.781017   \n",
       "97  7.290516  0.206615       6.874371       7.706661      5.816896   \n",
       "98  7.328643  0.210629       6.904414       7.752873      5.852720   \n",
       "99  7.366771  0.214667       6.934409       7.799133      5.888490   \n",
       "\n",
       "    obs_ci_upper  Publication date (float) Publication date  \n",
       "0       5.118908                2015.00000       2015-01-01  \n",
       "1       5.153786                2015.10101       2015-02-06  \n",
       "2       5.188715                2015.20202       2015-03-15  \n",
       "3       5.223694                2015.30303       2015-04-21  \n",
       "4       5.258722                2015.40404       2015-05-28  \n",
       "..           ...                       ...              ...  \n",
       "95      8.683439                2024.59596       2024-08-06  \n",
       "96      8.723760                2024.69697       2024-09-12  \n",
       "97      8.764136                2024.79798       2024-10-19  \n",
       "98      8.804567                2024.89899       2024-11-25  \n",
       "99      8.845052                2025.00000       2025-01-01  \n",
       "\n",
       "[100 rows x 8 columns]"
      ]
     },
     "execution_count": 41,
     "metadata": {},
     "output_type": "execute_result"
    }
   ],
   "source": [
    "\n",
    "predicted_cost_df = get_predictions(reg_results, pred_years, ['Publication date (float)'])\n",
    "predicted_cost_df['Publication date'] = predicted_cost_df['Publication date (float)'].apply(float_year_to_datetime)\n",
    "predicted_cost_df"
   ]
  },
  {
   "cell_type": "markdown",
   "metadata": {},
   "source": [
    "# Plots"
   ]
  },
  {
   "cell_type": "code",
   "execution_count": 42,
   "metadata": {},
   "outputs": [],
   "source": [
    "if compute_threshold_method == 'window_percentile':\n",
    "    title_suffix = f' to train top {100 - compute_threshold}% most compute-intensive ML models'\n",
    "elif compute_threshold_method == 'top_n':\n",
    "    title_suffix = f' to train the running top-{compute_threshold} most compute-intensive ML models'\n",
    "\n",
    "plot_title_lookup = {\n",
    "    'cloud': 'Cloud compute cost' + title_suffix,\n",
    "    'amortized': 'Amortized cost of hardware' + title_suffix,\n",
    "    'hardware-acquisition': 'Acquisition cost of hardware' + title_suffix,\n",
    "    'hardware-capex-opex': 'Hardware CapEx + OpEx' + title_suffix,\n",
    "}"
   ]
  },
  {
   "cell_type": "code",
   "execution_count": 43,
   "metadata": {
    "ExecuteTime": {
     "end_time": "2024-03-08T01:55:04.230921600Z",
     "start_time": "2024-03-08T01:55:00.065485900Z"
    }
   },
   "outputs": [
    {
     "data": {
      "application/vnd.plotly.v1+json": {
       "config": {
        "plotlyServerURL": "https://plot.ly"
       },
       "data": [
        {
         "hovertemplate": "Publication date=%{x}<br>Cost (inflation-adjusted)=%{y}<br>System=%{text}<extra></extra>",
         "legendgroup": "",
         "marker": {
          "color": "#636efa",
          "symbol": "circle"
         },
         "mode": "markers+text",
         "name": "",
         "orientation": "v",
         "showlegend": false,
         "text": [
          "Gemini Ultra",
          "Inflection-2",
          "Grok-1",
          "ChatGLM3",
          "Falcon-180B",
          "Llama 2-70B",
          "Claude 2",
          "xTrimoPGLM -100B",
          "PaLM 2",
          "GPT-4",
          "LLaMA-65B",
          "GPT-3.5 (text-davinci-003)",
          "BLOOM-176B",
          "U-PaLM (540B)",
          "BlenderBot 3",
          "GLM-130B",
          "Minerva (540B)",
          "Parti",
          "OPT-175B",
          "PaLM (540B)",
          "Chinchilla",
          "ST-MoE",
          "LaMDA",
          "AlphaCode",
          "ERNIE 3.0 Titan",
          "GLaM",
          "Gopher (280B)",
          "Yuan 1.0",
          "Megatron-Turing NLG 530B",
          "HyperCLOVA",
          "GOAT",
          "ByT5-XXL",
          "ProtT5-XXL",
          "Meta Pseudo Labels",
          "Switch",
          "DALL-E",
          "mT5-XXL",
          "iGPT-XL",
          "GPT-3 175B (davinci)",
          "Turing-NLG",
          "Meena",
          "OpenAI Five",
          "OpenAI Five Rerun",
          "AlphaStar",
          "T5-11B",
          "Megatron-BERT",
          "Megatron-LM (8.3B)",
          "RoBERTa Large",
          "XLNet",
          "GPT-2 (1.5B)",
          "BigGAN-deep 512x512",
          "FTW",
          "ResNeXt-101 32x48d",
          "AlphaZero",
          "AlphaGo Zero",
          "OpenAI TI7 DOTA 1v1",
          "JFT",
          "MoE",
          "Libratus",
          "AlphaGo Master",
          "PolyNet",
          "NASv3 (CIFAR-10)",
          "Xception",
          "GNMT",
          "AlphaGo Lee",
          "ResNet-152 (ImageNet)",
          "DeepSpeech2 (English)"
         ],
         "textposition": "top center",
         "type": "scatter",
         "x": [
          "2023-12-06T00:00:00",
          "2023-11-22T00:00:00",
          "2023-11-04T00:00:00",
          "2023-10-27T00:00:00",
          "2023-09-06T00:00:00",
          "2023-07-18T00:00:00",
          "2023-07-11T00:00:00",
          "2023-07-06T00:00:00",
          "2023-05-10T00:00:00",
          "2023-03-15T00:00:00",
          "2023-02-24T00:00:00",
          "2022-11-28T00:00:00",
          "2022-11-08T00:00:00",
          "2022-10-20T00:00:00",
          "2022-08-10T00:00:00",
          "2022-08-04T00:00:00",
          "2022-06-29T00:00:00",
          "2022-06-22T00:00:00",
          "2022-05-02T00:00:00",
          "2022-04-04T00:00:00",
          "2022-03-29T00:00:00",
          "2022-02-17T00:00:00",
          "2022-02-10T00:00:00",
          "2022-02-02T00:00:00",
          "2021-12-23T00:00:00",
          "2021-12-13T00:00:00",
          "2021-12-08T00:00:00",
          "2021-10-12T00:00:00",
          "2021-10-11T00:00:00",
          "2021-09-10T00:00:00",
          "2021-07-27T00:00:00",
          "2021-05-28T00:00:00",
          "2021-05-04T00:00:00",
          "2021-03-01T00:00:00",
          "2021-01-11T00:00:00",
          "2021-01-05T00:00:00",
          "2020-10-20T00:00:00",
          "2020-06-17T00:00:00",
          "2020-05-28T00:00:00",
          "2020-02-13T00:00:00",
          "2020-01-28T00:00:00",
          "2019-12-13T00:00:00",
          "2019-12-13T00:00:00",
          "2019-10-30T00:00:00",
          "2019-10-23T00:00:00",
          "2019-09-17T00:00:00",
          "2019-09-17T00:00:00",
          "2019-07-01T00:00:00",
          "2019-06-01T00:00:00",
          "2019-02-14T00:00:00",
          "2018-09-28T00:00:00",
          "2018-07-03T00:00:00",
          "2018-05-02T00:00:00",
          "2017-12-05T00:00:00",
          "2017-10-18T00:00:00",
          "2017-08-11T00:00:00",
          "2017-07-10T00:00:00",
          "2017-01-23T00:00:00",
          "2017-01-01T00:00:00",
          "2017-01-01T00:00:00",
          "2016-11-17T00:00:00",
          "2016-11-05T00:00:00",
          "2016-10-07T00:00:00",
          "2016-09-26T00:00:00",
          "2016-01-27T00:00:00",
          "2015-12-10T00:00:00",
          "2015-12-08T00:00:00"
         ],
         "xaxis": "x",
         "y": [
          88972289.42986575,
          11689210.350165673,
          null,
          null,
          20460190.903813697,
          1984282.987823893,
          null,
          3472267.491038586,
          13463414.595642127,
          66205588.350151956,
          1184135.486303097,
          7187382.805720318,
          1266206.543866906,
          5827865.858990843,
          2138437.1423731307,
          1298473.0722393622,
          6268265.98477978,
          733851.9512044179,
          943880.6646487798,
          5765166.945297968,
          null,
          null,
          1167702.4406585216,
          null,
          null,
          969442.4090416802,
          3083112.403180513,
          null,
          4042327.1634293604,
          777641.2310629479,
          384237.21257612744,
          399958.50551760674,
          363912.86242774845,
          221460.11751754154,
          545953.5147234375,
          227755.2773219187,
          null,
          160266.4914159275,
          2928991.5446347236,
          76284.99998532908,
          612874.6958293942,
          null,
          null,
          342098.74543348927,
          208153.26442474555,
          593631.7939428927,
          140402.34780580047,
          103472.72416563887,
          null,
          null,
          10483.763163235257,
          null,
          null,
          879672.33271686,
          2418816.7657544105,
          null,
          30270.302975024588,
          8298.811388317374,
          null,
          1433049.2695302938,
          775.1032807266176,
          null,
          18336.91255217455,
          176034.3605008757,
          null,
          null,
          268.99832491225726
         ],
         "yaxis": "y"
        }
       ],
       "layout": {
        "autosize": false,
        "font": {
         "size": 14
        },
        "height": 600,
        "legend": {
         "tracegroupgap": 0
        },
        "margin": {
         "b": 10,
         "l": 10,
         "r": 10,
         "t": 40
        },
        "showlegend": false,
        "template": {
         "data": {
          "bar": [
           {
            "error_x": {
             "color": "#2a3f5f"
            },
            "error_y": {
             "color": "#2a3f5f"
            },
            "marker": {
             "line": {
              "color": "#E5ECF6",
              "width": 0.5
             },
             "pattern": {
              "fillmode": "overlay",
              "size": 10,
              "solidity": 0.2
             }
            },
            "type": "bar"
           }
          ],
          "barpolar": [
           {
            "marker": {
             "line": {
              "color": "#E5ECF6",
              "width": 0.5
             },
             "pattern": {
              "fillmode": "overlay",
              "size": 10,
              "solidity": 0.2
             }
            },
            "type": "barpolar"
           }
          ],
          "carpet": [
           {
            "aaxis": {
             "endlinecolor": "#2a3f5f",
             "gridcolor": "white",
             "linecolor": "white",
             "minorgridcolor": "white",
             "startlinecolor": "#2a3f5f"
            },
            "baxis": {
             "endlinecolor": "#2a3f5f",
             "gridcolor": "white",
             "linecolor": "white",
             "minorgridcolor": "white",
             "startlinecolor": "#2a3f5f"
            },
            "type": "carpet"
           }
          ],
          "choropleth": [
           {
            "colorbar": {
             "outlinewidth": 0,
             "ticks": ""
            },
            "type": "choropleth"
           }
          ],
          "contour": [
           {
            "colorbar": {
             "outlinewidth": 0,
             "ticks": ""
            },
            "colorscale": [
             [
              0,
              "#0d0887"
             ],
             [
              0.1111111111111111,
              "#46039f"
             ],
             [
              0.2222222222222222,
              "#7201a8"
             ],
             [
              0.3333333333333333,
              "#9c179e"
             ],
             [
              0.4444444444444444,
              "#bd3786"
             ],
             [
              0.5555555555555556,
              "#d8576b"
             ],
             [
              0.6666666666666666,
              "#ed7953"
             ],
             [
              0.7777777777777778,
              "#fb9f3a"
             ],
             [
              0.8888888888888888,
              "#fdca26"
             ],
             [
              1,
              "#f0f921"
             ]
            ],
            "type": "contour"
           }
          ],
          "contourcarpet": [
           {
            "colorbar": {
             "outlinewidth": 0,
             "ticks": ""
            },
            "type": "contourcarpet"
           }
          ],
          "heatmap": [
           {
            "colorbar": {
             "outlinewidth": 0,
             "ticks": ""
            },
            "colorscale": [
             [
              0,
              "#0d0887"
             ],
             [
              0.1111111111111111,
              "#46039f"
             ],
             [
              0.2222222222222222,
              "#7201a8"
             ],
             [
              0.3333333333333333,
              "#9c179e"
             ],
             [
              0.4444444444444444,
              "#bd3786"
             ],
             [
              0.5555555555555556,
              "#d8576b"
             ],
             [
              0.6666666666666666,
              "#ed7953"
             ],
             [
              0.7777777777777778,
              "#fb9f3a"
             ],
             [
              0.8888888888888888,
              "#fdca26"
             ],
             [
              1,
              "#f0f921"
             ]
            ],
            "type": "heatmap"
           }
          ],
          "heatmapgl": [
           {
            "colorbar": {
             "outlinewidth": 0,
             "ticks": ""
            },
            "colorscale": [
             [
              0,
              "#0d0887"
             ],
             [
              0.1111111111111111,
              "#46039f"
             ],
             [
              0.2222222222222222,
              "#7201a8"
             ],
             [
              0.3333333333333333,
              "#9c179e"
             ],
             [
              0.4444444444444444,
              "#bd3786"
             ],
             [
              0.5555555555555556,
              "#d8576b"
             ],
             [
              0.6666666666666666,
              "#ed7953"
             ],
             [
              0.7777777777777778,
              "#fb9f3a"
             ],
             [
              0.8888888888888888,
              "#fdca26"
             ],
             [
              1,
              "#f0f921"
             ]
            ],
            "type": "heatmapgl"
           }
          ],
          "histogram": [
           {
            "marker": {
             "pattern": {
              "fillmode": "overlay",
              "size": 10,
              "solidity": 0.2
             }
            },
            "type": "histogram"
           }
          ],
          "histogram2d": [
           {
            "colorbar": {
             "outlinewidth": 0,
             "ticks": ""
            },
            "colorscale": [
             [
              0,
              "#0d0887"
             ],
             [
              0.1111111111111111,
              "#46039f"
             ],
             [
              0.2222222222222222,
              "#7201a8"
             ],
             [
              0.3333333333333333,
              "#9c179e"
             ],
             [
              0.4444444444444444,
              "#bd3786"
             ],
             [
              0.5555555555555556,
              "#d8576b"
             ],
             [
              0.6666666666666666,
              "#ed7953"
             ],
             [
              0.7777777777777778,
              "#fb9f3a"
             ],
             [
              0.8888888888888888,
              "#fdca26"
             ],
             [
              1,
              "#f0f921"
             ]
            ],
            "type": "histogram2d"
           }
          ],
          "histogram2dcontour": [
           {
            "colorbar": {
             "outlinewidth": 0,
             "ticks": ""
            },
            "colorscale": [
             [
              0,
              "#0d0887"
             ],
             [
              0.1111111111111111,
              "#46039f"
             ],
             [
              0.2222222222222222,
              "#7201a8"
             ],
             [
              0.3333333333333333,
              "#9c179e"
             ],
             [
              0.4444444444444444,
              "#bd3786"
             ],
             [
              0.5555555555555556,
              "#d8576b"
             ],
             [
              0.6666666666666666,
              "#ed7953"
             ],
             [
              0.7777777777777778,
              "#fb9f3a"
             ],
             [
              0.8888888888888888,
              "#fdca26"
             ],
             [
              1,
              "#f0f921"
             ]
            ],
            "type": "histogram2dcontour"
           }
          ],
          "mesh3d": [
           {
            "colorbar": {
             "outlinewidth": 0,
             "ticks": ""
            },
            "type": "mesh3d"
           }
          ],
          "parcoords": [
           {
            "line": {
             "colorbar": {
              "outlinewidth": 0,
              "ticks": ""
             }
            },
            "type": "parcoords"
           }
          ],
          "pie": [
           {
            "automargin": true,
            "type": "pie"
           }
          ],
          "scatter": [
           {
            "fillpattern": {
             "fillmode": "overlay",
             "size": 10,
             "solidity": 0.2
            },
            "type": "scatter"
           }
          ],
          "scatter3d": [
           {
            "line": {
             "colorbar": {
              "outlinewidth": 0,
              "ticks": ""
             }
            },
            "marker": {
             "colorbar": {
              "outlinewidth": 0,
              "ticks": ""
             }
            },
            "type": "scatter3d"
           }
          ],
          "scattercarpet": [
           {
            "marker": {
             "colorbar": {
              "outlinewidth": 0,
              "ticks": ""
             }
            },
            "type": "scattercarpet"
           }
          ],
          "scattergeo": [
           {
            "marker": {
             "colorbar": {
              "outlinewidth": 0,
              "ticks": ""
             }
            },
            "type": "scattergeo"
           }
          ],
          "scattergl": [
           {
            "marker": {
             "colorbar": {
              "outlinewidth": 0,
              "ticks": ""
             }
            },
            "type": "scattergl"
           }
          ],
          "scattermapbox": [
           {
            "marker": {
             "colorbar": {
              "outlinewidth": 0,
              "ticks": ""
             }
            },
            "type": "scattermapbox"
           }
          ],
          "scatterpolar": [
           {
            "marker": {
             "colorbar": {
              "outlinewidth": 0,
              "ticks": ""
             }
            },
            "type": "scatterpolar"
           }
          ],
          "scatterpolargl": [
           {
            "marker": {
             "colorbar": {
              "outlinewidth": 0,
              "ticks": ""
             }
            },
            "type": "scatterpolargl"
           }
          ],
          "scatterternary": [
           {
            "marker": {
             "colorbar": {
              "outlinewidth": 0,
              "ticks": ""
             }
            },
            "type": "scatterternary"
           }
          ],
          "surface": [
           {
            "colorbar": {
             "outlinewidth": 0,
             "ticks": ""
            },
            "colorscale": [
             [
              0,
              "#0d0887"
             ],
             [
              0.1111111111111111,
              "#46039f"
             ],
             [
              0.2222222222222222,
              "#7201a8"
             ],
             [
              0.3333333333333333,
              "#9c179e"
             ],
             [
              0.4444444444444444,
              "#bd3786"
             ],
             [
              0.5555555555555556,
              "#d8576b"
             ],
             [
              0.6666666666666666,
              "#ed7953"
             ],
             [
              0.7777777777777778,
              "#fb9f3a"
             ],
             [
              0.8888888888888888,
              "#fdca26"
             ],
             [
              1,
              "#f0f921"
             ]
            ],
            "type": "surface"
           }
          ],
          "table": [
           {
            "cells": {
             "fill": {
              "color": "#EBF0F8"
             },
             "line": {
              "color": "white"
             }
            },
            "header": {
             "fill": {
              "color": "#C8D4E3"
             },
             "line": {
              "color": "white"
             }
            },
            "type": "table"
           }
          ]
         },
         "layout": {
          "annotationdefaults": {
           "arrowcolor": "#2a3f5f",
           "arrowhead": 0,
           "arrowwidth": 1
          },
          "autotypenumbers": "strict",
          "coloraxis": {
           "colorbar": {
            "outlinewidth": 0,
            "ticks": ""
           }
          },
          "colorscale": {
           "diverging": [
            [
             0,
             "#8e0152"
            ],
            [
             0.1,
             "#c51b7d"
            ],
            [
             0.2,
             "#de77ae"
            ],
            [
             0.3,
             "#f1b6da"
            ],
            [
             0.4,
             "#fde0ef"
            ],
            [
             0.5,
             "#f7f7f7"
            ],
            [
             0.6,
             "#e6f5d0"
            ],
            [
             0.7,
             "#b8e186"
            ],
            [
             0.8,
             "#7fbc41"
            ],
            [
             0.9,
             "#4d9221"
            ],
            [
             1,
             "#276419"
            ]
           ],
           "sequential": [
            [
             0,
             "#0d0887"
            ],
            [
             0.1111111111111111,
             "#46039f"
            ],
            [
             0.2222222222222222,
             "#7201a8"
            ],
            [
             0.3333333333333333,
             "#9c179e"
            ],
            [
             0.4444444444444444,
             "#bd3786"
            ],
            [
             0.5555555555555556,
             "#d8576b"
            ],
            [
             0.6666666666666666,
             "#ed7953"
            ],
            [
             0.7777777777777778,
             "#fb9f3a"
            ],
            [
             0.8888888888888888,
             "#fdca26"
            ],
            [
             1,
             "#f0f921"
            ]
           ],
           "sequentialminus": [
            [
             0,
             "#0d0887"
            ],
            [
             0.1111111111111111,
             "#46039f"
            ],
            [
             0.2222222222222222,
             "#7201a8"
            ],
            [
             0.3333333333333333,
             "#9c179e"
            ],
            [
             0.4444444444444444,
             "#bd3786"
            ],
            [
             0.5555555555555556,
             "#d8576b"
            ],
            [
             0.6666666666666666,
             "#ed7953"
            ],
            [
             0.7777777777777778,
             "#fb9f3a"
            ],
            [
             0.8888888888888888,
             "#fdca26"
            ],
            [
             1,
             "#f0f921"
            ]
           ]
          },
          "colorway": [
           "#636efa",
           "#EF553B",
           "#00cc96",
           "#ab63fa",
           "#FFA15A",
           "#19d3f3",
           "#FF6692",
           "#B6E880",
           "#FF97FF",
           "#FECB52"
          ],
          "font": {
           "color": "#2a3f5f"
          },
          "geo": {
           "bgcolor": "white",
           "lakecolor": "white",
           "landcolor": "#E5ECF6",
           "showlakes": true,
           "showland": true,
           "subunitcolor": "white"
          },
          "hoverlabel": {
           "align": "left"
          },
          "hovermode": "closest",
          "mapbox": {
           "style": "light"
          },
          "paper_bgcolor": "white",
          "plot_bgcolor": "#E5ECF6",
          "polar": {
           "angularaxis": {
            "gridcolor": "white",
            "linecolor": "white",
            "ticks": ""
           },
           "bgcolor": "#E5ECF6",
           "radialaxis": {
            "gridcolor": "white",
            "linecolor": "white",
            "ticks": ""
           }
          },
          "scene": {
           "xaxis": {
            "backgroundcolor": "#E5ECF6",
            "gridcolor": "white",
            "gridwidth": 2,
            "linecolor": "white",
            "showbackground": true,
            "ticks": "",
            "zerolinecolor": "white"
           },
           "yaxis": {
            "backgroundcolor": "#E5ECF6",
            "gridcolor": "white",
            "gridwidth": 2,
            "linecolor": "white",
            "showbackground": true,
            "ticks": "",
            "zerolinecolor": "white"
           },
           "zaxis": {
            "backgroundcolor": "#E5ECF6",
            "gridcolor": "white",
            "gridwidth": 2,
            "linecolor": "white",
            "showbackground": true,
            "ticks": "",
            "zerolinecolor": "white"
           }
          },
          "shapedefaults": {
           "line": {
            "color": "#2a3f5f"
           }
          },
          "ternary": {
           "aaxis": {
            "gridcolor": "white",
            "linecolor": "white",
            "ticks": ""
           },
           "baxis": {
            "gridcolor": "white",
            "linecolor": "white",
            "ticks": ""
           },
           "bgcolor": "#E5ECF6",
           "caxis": {
            "gridcolor": "white",
            "linecolor": "white",
            "ticks": ""
           }
          },
          "title": {
           "x": 0.05
          },
          "xaxis": {
           "automargin": true,
           "gridcolor": "white",
           "linecolor": "white",
           "ticks": "",
           "title": {
            "standoff": 15
           },
           "zerolinecolor": "white",
           "zerolinewidth": 2
          },
          "yaxis": {
           "automargin": true,
           "gridcolor": "white",
           "linecolor": "white",
           "ticks": "",
           "title": {
            "standoff": 15
           },
           "zerolinecolor": "white",
           "zerolinewidth": 2
          }
         }
        },
        "title": {
         "font": {
          "size": 16
         },
         "text": "Hardware CapEx + OpEx to train the running top-10 most compute-intensive ML models"
        },
        "width": 800,
        "xaxis": {
         "anchor": "y",
         "domain": [
          0,
          1
         ],
         "range": [
          "2015-01-01",
          "2025-01-01"
         ],
         "title": {
          "text": "Publication date"
         }
        },
        "yaxis": {
         "anchor": "x",
         "domain": [
          0,
          1
         ],
         "title": {
          "text": "Cost (2023 USD)"
         },
         "type": "log"
        }
       }
      }
     },
     "metadata": {},
     "output_type": "display_data"
    }
   ],
   "source": [
    "fig = px.scatter(\n",
    "    cost_df,\n",
    "    x='Publication date',\n",
    "    y='Cost (inflation-adjusted)',\n",
    "    text='System',\n",
    "    log_y=True,\n",
    ")\n",
    "fig.update_traces(textposition='top center')\n",
    "\n",
    "# no legend\n",
    "fig.update_layout(showlegend=False)\n",
    "\n",
    "# axis labels\n",
    "fig.update_xaxes(title_text='Publication date')\n",
    "fig.update_yaxes(title_text='Cost (2023 USD)')\n",
    "\n",
    "# title\n",
    "fig.update_layout(title_text=plot_title_lookup[estimation_method])\n",
    "\n",
    "# update size\n",
    "fig.update_layout(\n",
    "    autosize=False,\n",
    "    width=800,\n",
    "    height=600,\n",
    "    title_font=dict(\n",
    "        size=16,\n",
    "    )\n",
    ")\n",
    "\n",
    "# font size\n",
    "fig.update_layout(\n",
    "    font=dict(\n",
    "        size=14,\n",
    "    )\n",
    ")\n",
    "\n",
    "# axis limits\n",
    "fig.update_xaxes(range=['2015-01-01', '2025-01-01'])\n",
    "\n",
    "# margins\n",
    "fig.update_layout(margin=dict(l=10, r=10, t=40, b=10))\n",
    "\n",
    "save_plot(fig, results_dir, 'cost_scatter')\n",
    "\n",
    "fig.show()"
   ]
  },
  {
   "cell_type": "code",
   "execution_count": 44,
   "metadata": {
    "ExecuteTime": {
     "end_time": "2024-03-08T01:55:04.855981900Z",
     "start_time": "2024-03-08T01:55:04.230921600Z"
    }
   },
   "outputs": [
    {
     "data": {
      "application/vnd.plotly.v1+json": {
       "config": {
        "plotlyServerURL": "https://plot.ly"
       },
       "data": [
        {
         "hovertemplate": "Publication date=%{x}<br>Cost (inflation-adjusted)=%{y}<extra></extra>",
         "legendgroup": "",
         "marker": {
          "color": "rgb(0,100,200)",
          "symbol": "circle"
         },
         "mode": "markers",
         "name": "",
         "orientation": "v",
         "showlegend": false,
         "textposition": "top center",
         "type": "scatter",
         "x": [
          "2023-11-22T00:00:00",
          "2023-11-04T00:00:00",
          "2023-10-27T00:00:00",
          "2023-09-06T00:00:00",
          "2023-07-18T00:00:00",
          "2023-07-11T00:00:00",
          "2023-07-06T00:00:00",
          "2023-03-15T00:00:00",
          "2023-02-24T00:00:00",
          "2022-11-28T00:00:00",
          "2022-11-08T00:00:00",
          "2022-08-10T00:00:00",
          "2022-08-04T00:00:00",
          "2022-05-02T00:00:00",
          "2022-02-17T00:00:00",
          "2021-12-23T00:00:00",
          "2021-10-12T00:00:00",
          "2021-10-11T00:00:00",
          "2021-09-10T00:00:00",
          "2021-01-05T00:00:00",
          "2020-10-20T00:00:00",
          "2020-06-17T00:00:00",
          "2020-05-28T00:00:00",
          "2020-02-13T00:00:00",
          "2019-12-13T00:00:00",
          "2019-12-13T00:00:00",
          "2019-09-17T00:00:00",
          "2019-09-17T00:00:00",
          "2019-07-01T00:00:00",
          "2019-06-01T00:00:00",
          "2019-02-14T00:00:00",
          "2018-07-03T00:00:00",
          "2018-05-02T00:00:00",
          "2017-08-11T00:00:00",
          "2017-07-10T00:00:00",
          "2017-01-23T00:00:00",
          "2017-01-01T00:00:00",
          "2016-11-17T00:00:00",
          "2016-11-05T00:00:00",
          "2016-10-07T00:00:00",
          "2016-09-26T00:00:00",
          "2016-01-27T00:00:00",
          "2015-12-10T00:00:00",
          "2015-12-08T00:00:00"
         ],
         "xaxis": "x",
         "y": [
          11689210.350165673,
          null,
          null,
          20460190.903813697,
          1984282.987823893,
          null,
          3472267.491038586,
          66205588.350151956,
          1184135.486303097,
          7187382.805720318,
          1266206.543866906,
          2138437.1423731307,
          1298473.0722393622,
          943880.6646487798,
          null,
          null,
          null,
          4042327.1634293604,
          777641.2310629479,
          227755.2773219187,
          null,
          160266.4914159275,
          2928991.5446347236,
          76284.99998532908,
          null,
          null,
          593631.7939428927,
          140402.34780580047,
          103472.72416563887,
          null,
          null,
          null,
          null,
          null,
          30270.302975024588,
          8298.811388317374,
          null,
          775.1032807266176,
          null,
          18336.91255217455,
          176034.3605008757,
          null,
          null,
          268.99832491225726
         ],
         "yaxis": "y"
        },
        {
         "marker": {
          "color": "rgb(0,100,200)",
          "symbol": "circle-open"
         },
         "mode": "markers",
         "name": "Using equivalent price of TPU",
         "showlegend": true,
         "textposition": "top center",
         "type": "scatter",
         "x": [
          "2023-12-06T00:00:00",
          "2023-05-10T00:00:00",
          "2022-10-20T00:00:00",
          "2022-06-29T00:00:00",
          "2022-06-22T00:00:00",
          "2022-04-04T00:00:00",
          "2022-03-29T00:00:00",
          "2022-02-10T00:00:00",
          "2022-02-02T00:00:00",
          "2021-12-13T00:00:00",
          "2021-12-08T00:00:00",
          "2021-07-27T00:00:00",
          "2021-05-28T00:00:00",
          "2021-05-04T00:00:00",
          "2021-03-01T00:00:00",
          "2021-01-11T00:00:00",
          "2020-01-28T00:00:00",
          "2019-10-30T00:00:00",
          "2019-10-23T00:00:00",
          "2018-09-28T00:00:00",
          "2017-12-05T00:00:00",
          "2017-10-18T00:00:00",
          "2017-01-01T00:00:00"
         ],
         "y": [
          88972289.42986575,
          13463414.595642127,
          5827865.858990843,
          6268265.98477978,
          733851.9512044179,
          5765166.945297968,
          null,
          1167702.4406585216,
          null,
          969442.4090416802,
          3083112.403180513,
          384237.21257612744,
          399958.50551760674,
          363912.86242774845,
          221460.11751754154,
          545953.5147234375,
          612874.6958293942,
          342098.74543348927,
          208153.26442474555,
          10483.763163235257,
          879672.33271686,
          2418816.7657544105,
          1433049.2695302938
         ]
        },
        {
         "mode": "text",
         "showlegend": false,
         "text": [
          "Inflection-2",
          "Llama 2-70B",
          "GPT-4",
          "DALL-E",
          "GPT-3 175B (davinci)",
          "GNMT"
         ],
         "textposition": "top center",
         "type": "scatter",
         "x": [
          "2023-11-22T00:00:00",
          "2023-07-18T00:00:00",
          "2023-03-15T00:00:00",
          "2021-01-05T00:00:00",
          "2020-05-28T00:00:00",
          "2016-09-26T00:00:00"
         ],
         "y": [
          11689210.350165673,
          1984282.987823893,
          66205588.350151956,
          227755.2773219187,
          2928991.5446347236,
          176034.3605008757
         ]
        },
        {
         "mode": "text",
         "showlegend": false,
         "text": [
          "Gemini Ultra",
          "PaLM (540B)",
          "AlphaZero",
          "AlphaGo Zero",
          "AlphaGo Master"
         ],
         "textposition": "top center",
         "type": "scatter",
         "x": [
          "2023-12-06T00:00:00",
          "2022-04-04T00:00:00",
          "2017-12-05T00:00:00",
          "2017-10-18T00:00:00",
          "2017-01-01T00:00:00"
         ],
         "y": [
          88972289.42986575,
          5765166.945297968,
          879672.33271686,
          2418816.7657544105,
          1433049.2695302938
         ]
        },
        {
         "line": {
          "width": 0
         },
         "mode": "lines",
         "showlegend": false,
         "textposition": "top center",
         "type": "scatter",
         "x": [
          "2015-01-01T00:00:00",
          "2015-02-06T00:00:00",
          "2015-03-15T00:00:00",
          "2015-04-21T00:00:00",
          "2015-05-28T00:00:00",
          "2015-07-04T00:00:00",
          "2015-08-10T00:00:00",
          "2015-09-16T00:00:00",
          "2015-10-22T00:00:00",
          "2015-11-28T00:00:00",
          "2016-01-04T00:00:00",
          "2016-02-10T00:00:00",
          "2016-03-18T00:00:00",
          "2016-04-24T00:00:00",
          "2016-05-31T00:00:00",
          "2016-07-07T00:00:00",
          "2016-08-13T00:00:00",
          "2016-09-19T00:00:00",
          "2016-10-26T00:00:00",
          "2016-12-02T00:00:00",
          "2017-01-08T00:00:00",
          "2017-02-14T00:00:00",
          "2017-03-23T00:00:00",
          "2017-04-28T00:00:00",
          "2017-06-04T00:00:00",
          "2017-07-11T00:00:00",
          "2017-08-17T00:00:00",
          "2017-09-23T00:00:00",
          "2017-10-30T00:00:00",
          "2017-12-06T00:00:00",
          "2018-01-12T00:00:00",
          "2018-02-17T00:00:00",
          "2018-03-26T00:00:00",
          "2018-05-02T00:00:00",
          "2018-06-08T00:00:00",
          "2018-07-15T00:00:00",
          "2018-08-21T00:00:00",
          "2018-09-27T00:00:00",
          "2018-11-03T00:00:00",
          "2018-12-09T00:00:00",
          "2019-01-15T00:00:00",
          "2019-02-21T00:00:00",
          "2019-03-30T00:00:00",
          "2019-05-06T00:00:00",
          "2019-06-12T00:00:00",
          "2019-07-19T00:00:00",
          "2019-08-24T00:00:00",
          "2019-09-30T00:00:00",
          "2019-11-06T00:00:00",
          "2019-12-13T00:00:00",
          "2020-01-19T00:00:00",
          "2020-02-25T00:00:00",
          "2020-04-02T00:00:00",
          "2020-05-09T00:00:00",
          "2020-06-15T00:00:00",
          "2020-07-22T00:00:00",
          "2020-08-28T00:00:00",
          "2020-10-04T00:00:00",
          "2020-11-10T00:00:00",
          "2020-12-17T00:00:00",
          "2021-01-23T00:00:00",
          "2021-02-28T00:00:00",
          "2021-04-06T00:00:00",
          "2021-05-13T00:00:00",
          "2021-06-19T00:00:00",
          "2021-07-26T00:00:00",
          "2021-09-01T00:00:00",
          "2021-10-08T00:00:00",
          "2021-11-14T00:00:00",
          "2021-12-20T00:00:00",
          "2022-01-26T00:00:00",
          "2022-03-04T00:00:00",
          "2022-04-10T00:00:00",
          "2022-05-17T00:00:00",
          "2022-06-23T00:00:00",
          "2022-07-30T00:00:00",
          "2022-09-05T00:00:00",
          "2022-10-11T00:00:00",
          "2022-11-17T00:00:00",
          "2022-12-24T00:00:00",
          "2023-01-30T00:00:00",
          "2023-03-08T00:00:00",
          "2023-04-14T00:00:00",
          "2023-05-21T00:00:00",
          "2023-06-26T00:00:00",
          "2023-08-02T00:00:00",
          "2023-09-08T00:00:00",
          "2023-10-15T00:00:00",
          "2023-11-21T00:00:00",
          "2023-12-28T00:00:00",
          "2024-02-03T00:00:00",
          "2024-03-11T00:00:00",
          "2024-04-17T00:00:00",
          "2024-05-24T00:00:00",
          "2024-06-30T00:00:00",
          "2024-08-06T00:00:00",
          "2024-09-12T00:00:00",
          "2024-10-19T00:00:00",
          "2024-11-25T00:00:00",
          "2025-01-01T00:00:00"
         ],
         "y": [
          1036.1881147206936,
          1154.0428721069322,
          1285.2431681543394,
          1431.2903730094297,
          1593.853074615134,
          1774.7854048289687,
          1976.1473194432328,
          2200.22703006444,
          2449.5658037900644,
          2726.985365826821,
          3035.6181605442653,
          3378.940747951522,
          3760.8106350784506,
          4185.506865136622,
          4657.774711349712,
          5182.874846747624,
          5766.6373855435095,
          6415.521215547279,
          7136.6790635841735,
          7938.028756430857,
          8828.331157103457,
          9817.27526935041,
          10915.571010130943,
          12135.050148882667,
          13488.775901350484,
          14991.161641696228,
          16658.099156782526,
          18507.09680706742,
          20557.427875892572,
          22830.289278303655,
          25348.970657944767,
          28139.03372085468,
          31228.501434665417,
          34648.05645641486,
          38431.247840978845,
          42614.70472448657,
          47238.35527823876,
          52345.64879661205,
          57983.77833487108,
          64203.900873696206,
          71061.35159462295,
          78615.8485522313,
          86931.68388959102,
          96077.89784037386,
          106128.43218077821,
          117162.26063155271,
          129263.49504883644,
          142521.46814885564,
          157030.79600311205,
          172891.42657414995,
          190208.68399687487,
          209093.32190615035,
          229661.60251106299,
          252035.4208857092,
          276342.4956070462,
          302716.6469964539,
          331298.18251477013,
          362234.40526804357,
          395680.2563305217,
          431799.0952245319,
          470763.61617430596,
          512756.8915565071,
          557973.5291108032,
          606620.9265561162,
          658920.6065430564,
          715109.6162832052,
          775441.9793455023,
          840190.1914048302,
          909646.7565398477,
          984125.7654083578,
          1063964.5208519537,
          1149525.219916103,
          1241196.7038367,
          1339396.2892683954,
          1444571.6950542934,
          1557203.0793168005,
          1677805.2017826703,
          1806929.7261855078,
          1945167.6774670985,
          2093152.0683986177,
          2251560.710254957,
          2421119.2223138125,
          2602604.255269952,
          2796846.944117367,
          3004736.6066886117,
          3227224.704843422,
          3465329.0862285877,
          3720138.525621742,
          3992817.5860757222,
          4284611.821436582,
          4596853.343260336,
          4930966.776760205,
          5288475.632108718,
          5671009.119295612,
          6080309.4366867915,
          6518239.565573355,
          6986791.60522991,
          7488095.6854561055,
          8024429.496123099,
          8598228.476025946
         ]
        },
        {
         "fill": "tonexty",
         "fillcolor": "rgba(0,100,200,0.2)",
         "line": {
          "width": 0
         },
         "mode": "lines",
         "name": "95% CI of mean",
         "textposition": "top center",
         "type": "scatter",
         "x": [
          "2015-01-01T00:00:00",
          "2015-02-06T00:00:00",
          "2015-03-15T00:00:00",
          "2015-04-21T00:00:00",
          "2015-05-28T00:00:00",
          "2015-07-04T00:00:00",
          "2015-08-10T00:00:00",
          "2015-09-16T00:00:00",
          "2015-10-22T00:00:00",
          "2015-11-28T00:00:00",
          "2016-01-04T00:00:00",
          "2016-02-10T00:00:00",
          "2016-03-18T00:00:00",
          "2016-04-24T00:00:00",
          "2016-05-31T00:00:00",
          "2016-07-07T00:00:00",
          "2016-08-13T00:00:00",
          "2016-09-19T00:00:00",
          "2016-10-26T00:00:00",
          "2016-12-02T00:00:00",
          "2017-01-08T00:00:00",
          "2017-02-14T00:00:00",
          "2017-03-23T00:00:00",
          "2017-04-28T00:00:00",
          "2017-06-04T00:00:00",
          "2017-07-11T00:00:00",
          "2017-08-17T00:00:00",
          "2017-09-23T00:00:00",
          "2017-10-30T00:00:00",
          "2017-12-06T00:00:00",
          "2018-01-12T00:00:00",
          "2018-02-17T00:00:00",
          "2018-03-26T00:00:00",
          "2018-05-02T00:00:00",
          "2018-06-08T00:00:00",
          "2018-07-15T00:00:00",
          "2018-08-21T00:00:00",
          "2018-09-27T00:00:00",
          "2018-11-03T00:00:00",
          "2018-12-09T00:00:00",
          "2019-01-15T00:00:00",
          "2019-02-21T00:00:00",
          "2019-03-30T00:00:00",
          "2019-05-06T00:00:00",
          "2019-06-12T00:00:00",
          "2019-07-19T00:00:00",
          "2019-08-24T00:00:00",
          "2019-09-30T00:00:00",
          "2019-11-06T00:00:00",
          "2019-12-13T00:00:00",
          "2020-01-19T00:00:00",
          "2020-02-25T00:00:00",
          "2020-04-02T00:00:00",
          "2020-05-09T00:00:00",
          "2020-06-15T00:00:00",
          "2020-07-22T00:00:00",
          "2020-08-28T00:00:00",
          "2020-10-04T00:00:00",
          "2020-11-10T00:00:00",
          "2020-12-17T00:00:00",
          "2021-01-23T00:00:00",
          "2021-02-28T00:00:00",
          "2021-04-06T00:00:00",
          "2021-05-13T00:00:00",
          "2021-06-19T00:00:00",
          "2021-07-26T00:00:00",
          "2021-09-01T00:00:00",
          "2021-10-08T00:00:00",
          "2021-11-14T00:00:00",
          "2021-12-20T00:00:00",
          "2022-01-26T00:00:00",
          "2022-03-04T00:00:00",
          "2022-04-10T00:00:00",
          "2022-05-17T00:00:00",
          "2022-06-23T00:00:00",
          "2022-07-30T00:00:00",
          "2022-09-05T00:00:00",
          "2022-10-11T00:00:00",
          "2022-11-17T00:00:00",
          "2022-12-24T00:00:00",
          "2023-01-30T00:00:00",
          "2023-03-08T00:00:00",
          "2023-04-14T00:00:00",
          "2023-05-21T00:00:00",
          "2023-06-26T00:00:00",
          "2023-08-02T00:00:00",
          "2023-09-08T00:00:00",
          "2023-10-15T00:00:00",
          "2023-11-21T00:00:00",
          "2023-12-28T00:00:00",
          "2024-02-03T00:00:00",
          "2024-03-11T00:00:00",
          "2024-04-17T00:00:00",
          "2024-05-24T00:00:00",
          "2024-06-30T00:00:00",
          "2024-08-06T00:00:00",
          "2024-09-12T00:00:00",
          "2024-10-19T00:00:00",
          "2024-11-25T00:00:00",
          "2025-01-01T00:00:00"
         ],
         "y": [
          14752.583859876931,
          15788.455757955862,
          16897.839947742938,
          18086.046576658107,
          19358.781116394868,
          20722.175344222585,
          22182.82096492085,
          23747.806128268254,
          25424.75512565773,
          27221.871582077987,
          29147.985496490954,
          31212.604525724444,
          33425.969954584005,
          35799.11784958267,
          38343.94595569193,
          41073.28696693149,
          44000.988883084356,
          47142.00325871581,
          50512.4822583281,
          54129.885555614484,
          58013.09825766334,
          62182.56120018478,
          66660.41515010626,
          71470.66067210099,
          76639.3356702089,
          82194.71290959549,
          88167.52016364182,
          94591.18602380058,
          101502.1148629271,
          108939.99496409069,
          116948.14442659255,
          125573.9001478046,
          134869.05596442005,
          144890.35692842057,
          155700.05770152874,
          167366.55418375132,
          179965.09875268603,
          193578.61087920333,
          208298.59639840497,
          224226.1903375223,
          241473.3399136948,
          260164.14607756544,
          280436.3837476877,
          302443.22259925544,
          326355.171866944,
          352362.2740314657,
          380676.5734177693,
          411534.88660975447,
          445201.902186804,
          481973.63770073926,
          522181.28220823256,
          566195.4533496596,
          614430.8993129621,
          667351.678544552,
          725476.8542935805,
          789386.7475122446,
          859729.8006376106,
          937230.1165073283,
          1022695.7509605115,
          1117027.8541322022,
          1221230.773393183,
          1336423.2495942442,
          1463850.8570539951,
          1604899.8561729968,
          1761112.6455456396,
          1934205.0182790258,
          2126085.4455353892,
          2338876.629894227,
          2574939.5929450057,
          2836900.586422962,
          3127681.1450339947,
          3450531.6324595083,
          3809068.670496534,
          4207316.885226077,
          4649755.454026355,
          5141369.993458136,
          5687710.391161974,
          6294955.255376738,
          6969983.734361798,
          7720455.545526097,
          8554900.151585085,
          9482816.129515367,
          10514781.898900406,
          11662579.110688938,
          12939330.147117328,
          14359651.350446014,
          15939823.7839358,
          17697983.535712052,
          19654333.806914713,
          21831381.283012643,
          24254199.573870543,
          26950722.828052487,
          29952072.983245384,
          33292924.51230509,
          37011910.967397735,
          41152078.11888798,
          45761389.03627603,
          50893287.07288368,
          56607323.40039347,
          62969856.50306428
         ]
        },
        {
         "line": {
          "color": "rgb(0,100,200)"
         },
         "mode": "lines",
         "name": "Regression mean (growth rate: 2.4x per year)",
         "textposition": "top center",
         "type": "scatter",
         "x": [
          "2015-01-01T00:00:00",
          "2015-02-06T00:00:00",
          "2015-03-15T00:00:00",
          "2015-04-21T00:00:00",
          "2015-05-28T00:00:00",
          "2015-07-04T00:00:00",
          "2015-08-10T00:00:00",
          "2015-09-16T00:00:00",
          "2015-10-22T00:00:00",
          "2015-11-28T00:00:00",
          "2016-01-04T00:00:00",
          "2016-02-10T00:00:00",
          "2016-03-18T00:00:00",
          "2016-04-24T00:00:00",
          "2016-05-31T00:00:00",
          "2016-07-07T00:00:00",
          "2016-08-13T00:00:00",
          "2016-09-19T00:00:00",
          "2016-10-26T00:00:00",
          "2016-12-02T00:00:00",
          "2017-01-08T00:00:00",
          "2017-02-14T00:00:00",
          "2017-03-23T00:00:00",
          "2017-04-28T00:00:00",
          "2017-06-04T00:00:00",
          "2017-07-11T00:00:00",
          "2017-08-17T00:00:00",
          "2017-09-23T00:00:00",
          "2017-10-30T00:00:00",
          "2017-12-06T00:00:00",
          "2018-01-12T00:00:00",
          "2018-02-17T00:00:00",
          "2018-03-26T00:00:00",
          "2018-05-02T00:00:00",
          "2018-06-08T00:00:00",
          "2018-07-15T00:00:00",
          "2018-08-21T00:00:00",
          "2018-09-27T00:00:00",
          "2018-11-03T00:00:00",
          "2018-12-09T00:00:00",
          "2019-01-15T00:00:00",
          "2019-02-21T00:00:00",
          "2019-03-30T00:00:00",
          "2019-05-06T00:00:00",
          "2019-06-12T00:00:00",
          "2019-07-19T00:00:00",
          "2019-08-24T00:00:00",
          "2019-09-30T00:00:00",
          "2019-11-06T00:00:00",
          "2019-12-13T00:00:00",
          "2020-01-19T00:00:00",
          "2020-02-25T00:00:00",
          "2020-04-02T00:00:00",
          "2020-05-09T00:00:00",
          "2020-06-15T00:00:00",
          "2020-07-22T00:00:00",
          "2020-08-28T00:00:00",
          "2020-10-04T00:00:00",
          "2020-11-10T00:00:00",
          "2020-12-17T00:00:00",
          "2021-01-23T00:00:00",
          "2021-02-28T00:00:00",
          "2021-04-06T00:00:00",
          "2021-05-13T00:00:00",
          "2021-06-19T00:00:00",
          "2021-07-26T00:00:00",
          "2021-09-01T00:00:00",
          "2021-10-08T00:00:00",
          "2021-11-14T00:00:00",
          "2021-12-20T00:00:00",
          "2022-01-26T00:00:00",
          "2022-03-04T00:00:00",
          "2022-04-10T00:00:00",
          "2022-05-17T00:00:00",
          "2022-06-23T00:00:00",
          "2022-07-30T00:00:00",
          "2022-09-05T00:00:00",
          "2022-10-11T00:00:00",
          "2022-11-17T00:00:00",
          "2022-12-24T00:00:00",
          "2023-01-30T00:00:00",
          "2023-03-08T00:00:00",
          "2023-04-14T00:00:00",
          "2023-05-21T00:00:00",
          "2023-06-26T00:00:00",
          "2023-08-02T00:00:00",
          "2023-09-08T00:00:00",
          "2023-10-15T00:00:00",
          "2023-11-21T00:00:00",
          "2023-12-28T00:00:00",
          "2024-02-03T00:00:00",
          "2024-03-11T00:00:00",
          "2024-04-17T00:00:00",
          "2024-05-24T00:00:00",
          "2024-06-30T00:00:00",
          "2024-08-06T00:00:00",
          "2024-09-12T00:00:00",
          "2024-10-19T00:00:00",
          "2024-11-25T00:00:00",
          "2025-01-01T00:00:00"
         ],
         "y": [
          3909.789259924993,
          4268.554184855174,
          4660.2396236032855,
          5087.866384936902,
          5554.732469090423,
          6064.438503046506,
          6620.915509770343,
          7228.455225575229,
          7891.743199417178,
          8615.894929416427,
          9406.495315282351,
          10269.641730930365,
          11211.99104945292,
          12240.81098315235,
          13364.036134558368,
          14590.329190739887,
          15929.147732822325,
          17390.81717601821,
          18986.61040266739,
          20728.834702480963,
          22630.926690443623,
          24707.555934479686,
          26974.73809207039,
          29449.958428319074,
          32152.306668166504,
          35102.62422270679,
          38323.66492512907,
          41840.27051582961,
          45679.56223022707,
          49871.149966760684,
          54447.36064834347,
          59443.48753831922,
          64898.062433919105,
          70853.15283631362,
          77354.686389269,
          84452.8050883767,
          92202.25199290257,
          100662.79342248953,
          109899.67989502921,
          119984.14936030851,
          130993.97661089218,
          143014.07310735006,
          156137.1418436178,
          170464.3923035093,
          186106.32102195558,
          203183.56377128832,
          221827.82594434774,
          242182.89831054345,
          264405.76597815234,
          288667.8191160444,
          315156.1747715387,
          344075.1199796915,
          375647.68729293207,
          410117.3748828019,
          447750.0244786565,
          488835.8716280374,
          533691.7840898678,
          582663.7056247208,
          636129.3240278981,
          694500.9839841016,
          758228.8672069398,
          827804.4643910726,
          903764.3657515445,
          986694.3993868825,
          1077234.1493814515,
          1176081.8884901528,
          1283999.9634515673,
          1401820.6744598662,
          1530452.6941426382,
          1670888.0755457312,
          1824209.9031783002,
          1991600.6461212263,
          2174351.277624648,
          2373871.231522062,
          2591699.272255714,
          2829515.3623403437,
          3089153.6187967258,
          3372616.4584707688,
          3682090.04134228,
          4019961.1309187463,
          4388835.501754783,
          4791558.0360501865,
          5231234.664332471,
          5711256.319432476,
          6235325.088483597,
          6807482.764656668,
          7432142.018814694,
          8114120.431508377,
          8858677.647755994,
          9671555.941185746,
          10559024.500362247,
          11527927.778868137,
          12585738.282001382,
          13740614.197236693,
          15001462.312884027,
          16378006.710222742,
          17880863.758843236,
          19521623.993642006,
          21312941.504886102,
          23268631.530795164
         ]
        }
       ],
       "layout": {
        "autosize": false,
        "font": {
         "size": 14
        },
        "height": 600,
        "legend": {
         "tracegroupgap": 0,
         "x": 0.45,
         "y": 0.05
        },
        "margin": {
         "b": 10,
         "l": 10,
         "r": 10,
         "t": 40
        },
        "template": {
         "data": {
          "bar": [
           {
            "error_x": {
             "color": "#2a3f5f"
            },
            "error_y": {
             "color": "#2a3f5f"
            },
            "marker": {
             "line": {
              "color": "#E5ECF6",
              "width": 0.5
             },
             "pattern": {
              "fillmode": "overlay",
              "size": 10,
              "solidity": 0.2
             }
            },
            "type": "bar"
           }
          ],
          "barpolar": [
           {
            "marker": {
             "line": {
              "color": "#E5ECF6",
              "width": 0.5
             },
             "pattern": {
              "fillmode": "overlay",
              "size": 10,
              "solidity": 0.2
             }
            },
            "type": "barpolar"
           }
          ],
          "carpet": [
           {
            "aaxis": {
             "endlinecolor": "#2a3f5f",
             "gridcolor": "white",
             "linecolor": "white",
             "minorgridcolor": "white",
             "startlinecolor": "#2a3f5f"
            },
            "baxis": {
             "endlinecolor": "#2a3f5f",
             "gridcolor": "white",
             "linecolor": "white",
             "minorgridcolor": "white",
             "startlinecolor": "#2a3f5f"
            },
            "type": "carpet"
           }
          ],
          "choropleth": [
           {
            "colorbar": {
             "outlinewidth": 0,
             "ticks": ""
            },
            "type": "choropleth"
           }
          ],
          "contour": [
           {
            "colorbar": {
             "outlinewidth": 0,
             "ticks": ""
            },
            "colorscale": [
             [
              0,
              "#0d0887"
             ],
             [
              0.1111111111111111,
              "#46039f"
             ],
             [
              0.2222222222222222,
              "#7201a8"
             ],
             [
              0.3333333333333333,
              "#9c179e"
             ],
             [
              0.4444444444444444,
              "#bd3786"
             ],
             [
              0.5555555555555556,
              "#d8576b"
             ],
             [
              0.6666666666666666,
              "#ed7953"
             ],
             [
              0.7777777777777778,
              "#fb9f3a"
             ],
             [
              0.8888888888888888,
              "#fdca26"
             ],
             [
              1,
              "#f0f921"
             ]
            ],
            "type": "contour"
           }
          ],
          "contourcarpet": [
           {
            "colorbar": {
             "outlinewidth": 0,
             "ticks": ""
            },
            "type": "contourcarpet"
           }
          ],
          "heatmap": [
           {
            "colorbar": {
             "outlinewidth": 0,
             "ticks": ""
            },
            "colorscale": [
             [
              0,
              "#0d0887"
             ],
             [
              0.1111111111111111,
              "#46039f"
             ],
             [
              0.2222222222222222,
              "#7201a8"
             ],
             [
              0.3333333333333333,
              "#9c179e"
             ],
             [
              0.4444444444444444,
              "#bd3786"
             ],
             [
              0.5555555555555556,
              "#d8576b"
             ],
             [
              0.6666666666666666,
              "#ed7953"
             ],
             [
              0.7777777777777778,
              "#fb9f3a"
             ],
             [
              0.8888888888888888,
              "#fdca26"
             ],
             [
              1,
              "#f0f921"
             ]
            ],
            "type": "heatmap"
           }
          ],
          "heatmapgl": [
           {
            "colorbar": {
             "outlinewidth": 0,
             "ticks": ""
            },
            "colorscale": [
             [
              0,
              "#0d0887"
             ],
             [
              0.1111111111111111,
              "#46039f"
             ],
             [
              0.2222222222222222,
              "#7201a8"
             ],
             [
              0.3333333333333333,
              "#9c179e"
             ],
             [
              0.4444444444444444,
              "#bd3786"
             ],
             [
              0.5555555555555556,
              "#d8576b"
             ],
             [
              0.6666666666666666,
              "#ed7953"
             ],
             [
              0.7777777777777778,
              "#fb9f3a"
             ],
             [
              0.8888888888888888,
              "#fdca26"
             ],
             [
              1,
              "#f0f921"
             ]
            ],
            "type": "heatmapgl"
           }
          ],
          "histogram": [
           {
            "marker": {
             "pattern": {
              "fillmode": "overlay",
              "size": 10,
              "solidity": 0.2
             }
            },
            "type": "histogram"
           }
          ],
          "histogram2d": [
           {
            "colorbar": {
             "outlinewidth": 0,
             "ticks": ""
            },
            "colorscale": [
             [
              0,
              "#0d0887"
             ],
             [
              0.1111111111111111,
              "#46039f"
             ],
             [
              0.2222222222222222,
              "#7201a8"
             ],
             [
              0.3333333333333333,
              "#9c179e"
             ],
             [
              0.4444444444444444,
              "#bd3786"
             ],
             [
              0.5555555555555556,
              "#d8576b"
             ],
             [
              0.6666666666666666,
              "#ed7953"
             ],
             [
              0.7777777777777778,
              "#fb9f3a"
             ],
             [
              0.8888888888888888,
              "#fdca26"
             ],
             [
              1,
              "#f0f921"
             ]
            ],
            "type": "histogram2d"
           }
          ],
          "histogram2dcontour": [
           {
            "colorbar": {
             "outlinewidth": 0,
             "ticks": ""
            },
            "colorscale": [
             [
              0,
              "#0d0887"
             ],
             [
              0.1111111111111111,
              "#46039f"
             ],
             [
              0.2222222222222222,
              "#7201a8"
             ],
             [
              0.3333333333333333,
              "#9c179e"
             ],
             [
              0.4444444444444444,
              "#bd3786"
             ],
             [
              0.5555555555555556,
              "#d8576b"
             ],
             [
              0.6666666666666666,
              "#ed7953"
             ],
             [
              0.7777777777777778,
              "#fb9f3a"
             ],
             [
              0.8888888888888888,
              "#fdca26"
             ],
             [
              1,
              "#f0f921"
             ]
            ],
            "type": "histogram2dcontour"
           }
          ],
          "mesh3d": [
           {
            "colorbar": {
             "outlinewidth": 0,
             "ticks": ""
            },
            "type": "mesh3d"
           }
          ],
          "parcoords": [
           {
            "line": {
             "colorbar": {
              "outlinewidth": 0,
              "ticks": ""
             }
            },
            "type": "parcoords"
           }
          ],
          "pie": [
           {
            "automargin": true,
            "type": "pie"
           }
          ],
          "scatter": [
           {
            "fillpattern": {
             "fillmode": "overlay",
             "size": 10,
             "solidity": 0.2
            },
            "type": "scatter"
           }
          ],
          "scatter3d": [
           {
            "line": {
             "colorbar": {
              "outlinewidth": 0,
              "ticks": ""
             }
            },
            "marker": {
             "colorbar": {
              "outlinewidth": 0,
              "ticks": ""
             }
            },
            "type": "scatter3d"
           }
          ],
          "scattercarpet": [
           {
            "marker": {
             "colorbar": {
              "outlinewidth": 0,
              "ticks": ""
             }
            },
            "type": "scattercarpet"
           }
          ],
          "scattergeo": [
           {
            "marker": {
             "colorbar": {
              "outlinewidth": 0,
              "ticks": ""
             }
            },
            "type": "scattergeo"
           }
          ],
          "scattergl": [
           {
            "marker": {
             "colorbar": {
              "outlinewidth": 0,
              "ticks": ""
             }
            },
            "type": "scattergl"
           }
          ],
          "scattermapbox": [
           {
            "marker": {
             "colorbar": {
              "outlinewidth": 0,
              "ticks": ""
             }
            },
            "type": "scattermapbox"
           }
          ],
          "scatterpolar": [
           {
            "marker": {
             "colorbar": {
              "outlinewidth": 0,
              "ticks": ""
             }
            },
            "type": "scatterpolar"
           }
          ],
          "scatterpolargl": [
           {
            "marker": {
             "colorbar": {
              "outlinewidth": 0,
              "ticks": ""
             }
            },
            "type": "scatterpolargl"
           }
          ],
          "scatterternary": [
           {
            "marker": {
             "colorbar": {
              "outlinewidth": 0,
              "ticks": ""
             }
            },
            "type": "scatterternary"
           }
          ],
          "surface": [
           {
            "colorbar": {
             "outlinewidth": 0,
             "ticks": ""
            },
            "colorscale": [
             [
              0,
              "#0d0887"
             ],
             [
              0.1111111111111111,
              "#46039f"
             ],
             [
              0.2222222222222222,
              "#7201a8"
             ],
             [
              0.3333333333333333,
              "#9c179e"
             ],
             [
              0.4444444444444444,
              "#bd3786"
             ],
             [
              0.5555555555555556,
              "#d8576b"
             ],
             [
              0.6666666666666666,
              "#ed7953"
             ],
             [
              0.7777777777777778,
              "#fb9f3a"
             ],
             [
              0.8888888888888888,
              "#fdca26"
             ],
             [
              1,
              "#f0f921"
             ]
            ],
            "type": "surface"
           }
          ],
          "table": [
           {
            "cells": {
             "fill": {
              "color": "#EBF0F8"
             },
             "line": {
              "color": "white"
             }
            },
            "header": {
             "fill": {
              "color": "#C8D4E3"
             },
             "line": {
              "color": "white"
             }
            },
            "type": "table"
           }
          ]
         },
         "layout": {
          "annotationdefaults": {
           "arrowcolor": "#2a3f5f",
           "arrowhead": 0,
           "arrowwidth": 1
          },
          "autotypenumbers": "strict",
          "coloraxis": {
           "colorbar": {
            "outlinewidth": 0,
            "ticks": ""
           }
          },
          "colorscale": {
           "diverging": [
            [
             0,
             "#8e0152"
            ],
            [
             0.1,
             "#c51b7d"
            ],
            [
             0.2,
             "#de77ae"
            ],
            [
             0.3,
             "#f1b6da"
            ],
            [
             0.4,
             "#fde0ef"
            ],
            [
             0.5,
             "#f7f7f7"
            ],
            [
             0.6,
             "#e6f5d0"
            ],
            [
             0.7,
             "#b8e186"
            ],
            [
             0.8,
             "#7fbc41"
            ],
            [
             0.9,
             "#4d9221"
            ],
            [
             1,
             "#276419"
            ]
           ],
           "sequential": [
            [
             0,
             "#0d0887"
            ],
            [
             0.1111111111111111,
             "#46039f"
            ],
            [
             0.2222222222222222,
             "#7201a8"
            ],
            [
             0.3333333333333333,
             "#9c179e"
            ],
            [
             0.4444444444444444,
             "#bd3786"
            ],
            [
             0.5555555555555556,
             "#d8576b"
            ],
            [
             0.6666666666666666,
             "#ed7953"
            ],
            [
             0.7777777777777778,
             "#fb9f3a"
            ],
            [
             0.8888888888888888,
             "#fdca26"
            ],
            [
             1,
             "#f0f921"
            ]
           ],
           "sequentialminus": [
            [
             0,
             "#0d0887"
            ],
            [
             0.1111111111111111,
             "#46039f"
            ],
            [
             0.2222222222222222,
             "#7201a8"
            ],
            [
             0.3333333333333333,
             "#9c179e"
            ],
            [
             0.4444444444444444,
             "#bd3786"
            ],
            [
             0.5555555555555556,
             "#d8576b"
            ],
            [
             0.6666666666666666,
             "#ed7953"
            ],
            [
             0.7777777777777778,
             "#fb9f3a"
            ],
            [
             0.8888888888888888,
             "#fdca26"
            ],
            [
             1,
             "#f0f921"
            ]
           ]
          },
          "colorway": [
           "#636efa",
           "#EF553B",
           "#00cc96",
           "#ab63fa",
           "#FFA15A",
           "#19d3f3",
           "#FF6692",
           "#B6E880",
           "#FF97FF",
           "#FECB52"
          ],
          "font": {
           "color": "#2a3f5f"
          },
          "geo": {
           "bgcolor": "white",
           "lakecolor": "white",
           "landcolor": "#E5ECF6",
           "showlakes": true,
           "showland": true,
           "subunitcolor": "white"
          },
          "hoverlabel": {
           "align": "left"
          },
          "hovermode": "closest",
          "mapbox": {
           "style": "light"
          },
          "paper_bgcolor": "white",
          "plot_bgcolor": "#E5ECF6",
          "polar": {
           "angularaxis": {
            "gridcolor": "white",
            "linecolor": "white",
            "ticks": ""
           },
           "bgcolor": "#E5ECF6",
           "radialaxis": {
            "gridcolor": "white",
            "linecolor": "white",
            "ticks": ""
           }
          },
          "scene": {
           "xaxis": {
            "backgroundcolor": "#E5ECF6",
            "gridcolor": "white",
            "gridwidth": 2,
            "linecolor": "white",
            "showbackground": true,
            "ticks": "",
            "zerolinecolor": "white"
           },
           "yaxis": {
            "backgroundcolor": "#E5ECF6",
            "gridcolor": "white",
            "gridwidth": 2,
            "linecolor": "white",
            "showbackground": true,
            "ticks": "",
            "zerolinecolor": "white"
           },
           "zaxis": {
            "backgroundcolor": "#E5ECF6",
            "gridcolor": "white",
            "gridwidth": 2,
            "linecolor": "white",
            "showbackground": true,
            "ticks": "",
            "zerolinecolor": "white"
           }
          },
          "shapedefaults": {
           "line": {
            "color": "#2a3f5f"
           }
          },
          "ternary": {
           "aaxis": {
            "gridcolor": "white",
            "linecolor": "white",
            "ticks": ""
           },
           "baxis": {
            "gridcolor": "white",
            "linecolor": "white",
            "ticks": ""
           },
           "bgcolor": "#E5ECF6",
           "caxis": {
            "gridcolor": "white",
            "linecolor": "white",
            "ticks": ""
           }
          },
          "title": {
           "x": 0.05
          },
          "xaxis": {
           "automargin": true,
           "gridcolor": "white",
           "linecolor": "white",
           "ticks": "",
           "title": {
            "standoff": 15
           },
           "zerolinecolor": "white",
           "zerolinewidth": 2
          },
          "yaxis": {
           "automargin": true,
           "gridcolor": "white",
           "linecolor": "white",
           "ticks": "",
           "title": {
            "standoff": 15
           },
           "zerolinecolor": "white",
           "zerolinewidth": 2
          }
         }
        },
        "title": {
         "font": {
          "size": 16
         },
         "text": "Hardware CapEx + OpEx to train the running top-10 most compute-intensive ML models"
        },
        "width": 800,
        "xaxis": {
         "anchor": "y",
         "domain": [
          0,
          1
         ],
         "range": [
          "2015-01-01",
          "2025-01-01"
         ],
         "title": {
          "text": "Publication date"
         }
        },
        "yaxis": {
         "anchor": "x",
         "domain": [
          0,
          1
         ],
         "range": [
          1,
          9
         ],
         "title": {
          "text": "Cost (2023 USD)"
         },
         "type": "log"
        }
       }
      }
     },
     "metadata": {},
     "output_type": "display_data"
    }
   ],
   "source": [
    "label_systems = ['GNMT', 'AlphaGo Master', 'AlphaGo Zero', 'AlphaZero', 'DALL-E', 'GPT-3 175B (davinci)', 'PaLM (540B)', 'Llama 2-70B', 'Falcon 180B', 'GPT-4', 'Gemini Ultra', 'Inflection-2']\n",
    "\n",
    "tpu_mask = cost_df['Training hardware'].str.contains('TPU', na=False)\n",
    "tpu_cost_df = cost_df.loc[tpu_mask]\n",
    "gpu_cost_df = cost_df.loc[~tpu_mask]\n",
    "\n",
    "fig = px.scatter(\n",
    "    gpu_cost_df,\n",
    "    x='Publication date',\n",
    "    y='Cost (inflation-adjusted)',\n",
    "    log_y=True,\n",
    ")\n",
    "fig.add_scatter(\n",
    "    x=tpu_cost_df['Publication date'],\n",
    "    y=tpu_cost_df['Cost (inflation-adjusted)'],\n",
    "    mode='markers',\n",
    "    marker_symbol='circle-open' if estimation_method != 'cloud' else 'circle',\n",
    "    name='Using equivalent price of TPU' if estimation_method != 'cloud' else '',\n",
    "    showlegend=estimation_method != 'cloud',\n",
    ")\n",
    "fig.add_scatter(\n",
    "    x=gpu_cost_df.loc[gpu_cost_df['System'].isin(label_systems)]['Publication date'],\n",
    "    y=gpu_cost_df.loc[gpu_cost_df['System'].isin(label_systems)]['Cost (inflation-adjusted)'],\n",
    "    text=gpu_cost_df.loc[gpu_cost_df['System'].isin(label_systems)]['System'],\n",
    "    mode='text',\n",
    "    showlegend=False,\n",
    ")\n",
    "fig.add_scatter(\n",
    "    x=tpu_cost_df.loc[tpu_cost_df['System'].isin(label_systems)]['Publication date'],\n",
    "    y=tpu_cost_df.loc[tpu_cost_df['System'].isin(label_systems)]['Cost (inflation-adjusted)'],\n",
    "    text=tpu_cost_df.loc[tpu_cost_df['System'].isin(label_systems)]['System'],\n",
    "    mode='text',\n",
    "    showlegend=False,\n",
    ")\n",
    "\n",
    "# Marker color\n",
    "fig.update_traces(\n",
    "    marker=dict(\n",
    "        color='rgb(0,100,200)',\n",
    "    ),\n",
    "    selector=dict(mode='markers'),\n",
    ")\n",
    "\n",
    "# Shade in CI\n",
    "fig.add_scatter(\n",
    "    x=predicted_cost_df['Publication date'],\n",
    "    y=10**predicted_cost_df['mean_ci_lower'],\n",
    "    mode='lines',\n",
    "    line=dict(width=0),\n",
    "    showlegend=False,\n",
    ")\n",
    "fig.add_scatter(\n",
    "    x=predicted_cost_df['Publication date'],\n",
    "    y=10**predicted_cost_df['mean_ci_upper'],\n",
    "    mode='lines',\n",
    "    fill='tonexty',\n",
    "    fillcolor='rgba(0,100,200,0.2)',\n",
    "    line=dict(width=0),\n",
    "    name='95% CI of mean',\n",
    ")\n",
    "fig.add_scatter(\n",
    "    x=predicted_cost_df['Publication date'],\n",
    "    y=10**predicted_cost_df['mean'],\n",
    "    mode='lines',\n",
    "    line=dict(color='rgb(0,100,200)'),\n",
    "    name=f'Regression mean (growth rate: {10**reg_results.params[1]:.1f}x per year)',\n",
    ")\n",
    "\n",
    "fig.update_traces(textposition='top center')\n",
    "\n",
    "# axis limits\n",
    "fig.update_xaxes(range=['2015-01-01', '2025-01-01'])\n",
    "fig.update_yaxes(range=[1, 9])\n",
    "\n",
    "# legend on bottom-right of the axes\n",
    "fig.update_layout(\n",
    "    legend=dict(\n",
    "        x=0.45,\n",
    "        y=0.05,\n",
    "    )\n",
    ")\n",
    "\n",
    "# axis labels\n",
    "fig.update_xaxes(title_text='Publication date')\n",
    "fig.update_yaxes(title_text='Cost (2023 USD)')\n",
    "\n",
    "# title\n",
    "fig.update_layout(title_text=plot_title_lookup[estimation_method])\n",
    "\n",
    "# update size\n",
    "fig.update_layout(\n",
    "    autosize=False,\n",
    "    width=800,\n",
    "    height=600,\n",
    "    title_font=dict(\n",
    "        size=16,\n",
    "    )\n",
    ")\n",
    "\n",
    "# font size\n",
    "fig.update_layout(\n",
    "    font=dict(\n",
    "        size=14,\n",
    "    )\n",
    ")\n",
    "\n",
    "# axis limits\n",
    "fig.update_xaxes(range=[pred_start_date, pred_end_date])\n",
    "\n",
    "# margins\n",
    "fig.update_layout(margin=dict(l=10, r=10, t=40, b=10))\n",
    "\n",
    "save_plot(fig, results_dir, 'cost_regression')\n",
    "\n",
    "fig.show()"
   ]
  },
  {
   "cell_type": "markdown",
   "metadata": {},
   "source": [
    "# Export data"
   ]
  },
  {
   "cell_type": "code",
   "execution_count": 45,
   "metadata": {
    "ExecuteTime": {
     "end_time": "2024-03-08T01:55:05.122800400Z",
     "start_time": "2024-03-08T01:55:04.849972900Z"
    }
   },
   "outputs": [
    {
     "data": {
      "text/html": [
       "<div>\n",
       "<style scoped>\n",
       "    .dataframe tbody tr th:only-of-type {\n",
       "        vertical-align: middle;\n",
       "    }\n",
       "\n",
       "    .dataframe tbody tr th {\n",
       "        vertical-align: top;\n",
       "    }\n",
       "\n",
       "    .dataframe thead th {\n",
       "        text-align: right;\n",
       "    }\n",
       "</style>\n",
       "<table border=\"1\" class=\"dataframe\">\n",
       "  <thead>\n",
       "    <tr style=\"text-align: right;\">\n",
       "      <th></th>\n",
       "      <th>System</th>\n",
       "      <th>Domain</th>\n",
       "      <th>Task</th>\n",
       "      <th>Model accessibility</th>\n",
       "      <th>Reference</th>\n",
       "      <th>Publication date</th>\n",
       "      <th>Organization</th>\n",
       "      <th>Parameters</th>\n",
       "      <th>Training compute (FLOP)</th>\n",
       "      <th>Training dataset size (datapoints)</th>\n",
       "      <th>...</th>\n",
       "      <th>Training hardware</th>\n",
       "      <th>Country (from Organization)</th>\n",
       "      <th>Base model</th>\n",
       "      <th>Finetune compute (FLOP)</th>\n",
       "      <th>Hardware quantity</th>\n",
       "      <th>Hardware utilization</th>\n",
       "      <th>Training cloud compute vendor</th>\n",
       "      <th>Training data center</th>\n",
       "      <th>Cost</th>\n",
       "      <th>Cost (inflation-adjusted)</th>\n",
       "    </tr>\n",
       "  </thead>\n",
       "  <tbody>\n",
       "    <tr>\n",
       "      <th>75</th>\n",
       "      <td>Gemini Ultra</td>\n",
       "      <td>Multimodal</td>\n",
       "      <td>Language modelling,Visual question answering,C...</td>\n",
       "      <td>Hosted access (no API)</td>\n",
       "      <td>Gemini: A Family of Highly Capable Multimodal ...</td>\n",
       "      <td>2023-12-06</td>\n",
       "      <td>Google DeepMind</td>\n",
       "      <td>NaN</td>\n",
       "      <td>5.000000e+25</td>\n",
       "      <td>NaN</td>\n",
       "      <td>...</td>\n",
       "      <td>Google TPU v4</td>\n",
       "      <td>Multinational</td>\n",
       "      <td>NaN</td>\n",
       "      <td>NaN</td>\n",
       "      <td>55000.0</td>\n",
       "      <td>NaN</td>\n",
       "      <td>NaN</td>\n",
       "      <td>NaN</td>\n",
       "      <td>8.897229e+07</td>\n",
       "      <td>8.897229e+07</td>\n",
       "    </tr>\n",
       "    <tr>\n",
       "      <th>91</th>\n",
       "      <td>Inflection-2</td>\n",
       "      <td>Language</td>\n",
       "      <td>Language modelling</td>\n",
       "      <td>Hosted access (no API)</td>\n",
       "      <td>Inflection-2: The Next Step Up</td>\n",
       "      <td>2023-11-22</td>\n",
       "      <td>Inflection AI</td>\n",
       "      <td>NaN</td>\n",
       "      <td>1.001000e+25</td>\n",
       "      <td>NaN</td>\n",
       "      <td>...</td>\n",
       "      <td>NVIDIA H100 SXM5</td>\n",
       "      <td>United States of America</td>\n",
       "      <td>NaN</td>\n",
       "      <td>NaN</td>\n",
       "      <td>5000.0</td>\n",
       "      <td>NaN</td>\n",
       "      <td>NaN</td>\n",
       "      <td>NaN</td>\n",
       "      <td>1.166191e+07</td>\n",
       "      <td>1.168921e+07</td>\n",
       "    </tr>\n",
       "    <tr>\n",
       "      <th>116</th>\n",
       "      <td>Grok-1</td>\n",
       "      <td>Language</td>\n",
       "      <td>Language modelling,Chat</td>\n",
       "      <td>Open source</td>\n",
       "      <td>Announcing Grok</td>\n",
       "      <td>2023-11-04</td>\n",
       "      <td>xAI</td>\n",
       "      <td>3.140000e+11</td>\n",
       "      <td>2.900000e+24</td>\n",
       "      <td>NaN</td>\n",
       "      <td>...</td>\n",
       "      <td>NaN</td>\n",
       "      <td>United States of America</td>\n",
       "      <td>NaN</td>\n",
       "      <td>NaN</td>\n",
       "      <td>NaN</td>\n",
       "      <td>NaN</td>\n",
       "      <td>NaN</td>\n",
       "      <td>NaN</td>\n",
       "      <td>NaN</td>\n",
       "      <td>NaN</td>\n",
       "    </tr>\n",
       "    <tr>\n",
       "      <th>130</th>\n",
       "      <td>ChatGLM3</td>\n",
       "      <td>Multimodal</td>\n",
       "      <td>Chat,Visual question answering</td>\n",
       "      <td>NaN</td>\n",
       "      <td>Zhipu AI launches third-generation base model</td>\n",
       "      <td>2023-10-27</td>\n",
       "      <td>Zhipu AI</td>\n",
       "      <td>1.300000e+11</td>\n",
       "      <td>1.092000e+24</td>\n",
       "      <td>1.050000e+12</td>\n",
       "      <td>...</td>\n",
       "      <td>NaN</td>\n",
       "      <td>China</td>\n",
       "      <td>NaN</td>\n",
       "      <td>NaN</td>\n",
       "      <td>NaN</td>\n",
       "      <td>NaN</td>\n",
       "      <td>NaN</td>\n",
       "      <td>NaN</td>\n",
       "      <td>NaN</td>\n",
       "      <td>NaN</td>\n",
       "    </tr>\n",
       "    <tr>\n",
       "      <th>176</th>\n",
       "      <td>Falcon-180B</td>\n",
       "      <td>Language</td>\n",
       "      <td>Language modelling</td>\n",
       "      <td>Open access (restricted use)</td>\n",
       "      <td>The Falcon Series of Open Language Models</td>\n",
       "      <td>2023-09-06</td>\n",
       "      <td>Technology Innovation Institute</td>\n",
       "      <td>1.800000e+11</td>\n",
       "      <td>3.760000e+24</td>\n",
       "      <td>2.625000e+12</td>\n",
       "      <td>...</td>\n",
       "      <td>NVIDIA A100 SXM4 40 GB</td>\n",
       "      <td>United Arab Emirates</td>\n",
       "      <td>NaN</td>\n",
       "      <td>NaN</td>\n",
       "      <td>4096.0</td>\n",
       "      <td>0.1876</td>\n",
       "      <td>Amazon Web Services</td>\n",
       "      <td>NaN</td>\n",
       "      <td>2.033419e+07</td>\n",
       "      <td>2.046019e+07</td>\n",
       "    </tr>\n",
       "    <tr>\n",
       "      <th>...</th>\n",
       "      <td>...</td>\n",
       "      <td>...</td>\n",
       "      <td>...</td>\n",
       "      <td>...</td>\n",
       "      <td>...</td>\n",
       "      <td>...</td>\n",
       "      <td>...</td>\n",
       "      <td>...</td>\n",
       "      <td>...</td>\n",
       "      <td>...</td>\n",
       "      <td>...</td>\n",
       "      <td>...</td>\n",
       "      <td>...</td>\n",
       "      <td>...</td>\n",
       "      <td>...</td>\n",
       "      <td>...</td>\n",
       "      <td>...</td>\n",
       "      <td>...</td>\n",
       "      <td>...</td>\n",
       "      <td>...</td>\n",
       "      <td>...</td>\n",
       "    </tr>\n",
       "    <tr>\n",
       "      <th>1145</th>\n",
       "      <td>Xception</td>\n",
       "      <td>Vision</td>\n",
       "      <td>Image classification</td>\n",
       "      <td>NaN</td>\n",
       "      <td>Xception: Deep Learning with Depthwise Separab...</td>\n",
       "      <td>2016-10-07</td>\n",
       "      <td>Google</td>\n",
       "      <td>2.285595e+07</td>\n",
       "      <td>4.360000e+20</td>\n",
       "      <td>3.500000e+08</td>\n",
       "      <td>...</td>\n",
       "      <td>NVIDIA Tesla K80</td>\n",
       "      <td>United States of America</td>\n",
       "      <td>NaN</td>\n",
       "      <td>NaN</td>\n",
       "      <td>60.0</td>\n",
       "      <td>NaN</td>\n",
       "      <td>NaN</td>\n",
       "      <td>NaN</td>\n",
       "      <td>1.679176e+04</td>\n",
       "      <td>1.833691e+04</td>\n",
       "    </tr>\n",
       "    <tr>\n",
       "      <th>1146</th>\n",
       "      <td>GNMT</td>\n",
       "      <td>Language</td>\n",
       "      <td>Translation</td>\n",
       "      <td>Hosted access (no API)</td>\n",
       "      <td>Google's Neural Machine Translation System: Br...</td>\n",
       "      <td>2016-09-26</td>\n",
       "      <td>Google</td>\n",
       "      <td>2.780000e+08</td>\n",
       "      <td>6.900000e+21</td>\n",
       "      <td>3.600000e+08</td>\n",
       "      <td>...</td>\n",
       "      <td>NVIDIA Tesla K80</td>\n",
       "      <td>United States of America</td>\n",
       "      <td>NaN</td>\n",
       "      <td>NaN</td>\n",
       "      <td>96.0</td>\n",
       "      <td>NaN</td>\n",
       "      <td>NaN</td>\n",
       "      <td>NaN</td>\n",
       "      <td>1.612009e+05</td>\n",
       "      <td>1.760344e+05</td>\n",
       "    </tr>\n",
       "    <tr>\n",
       "      <th>1182</th>\n",
       "      <td>AlphaGo Lee</td>\n",
       "      <td>Games</td>\n",
       "      <td>Go</td>\n",
       "      <td>NaN</td>\n",
       "      <td>Mastering the game of Go with deep neural netw...</td>\n",
       "      <td>2016-01-27</td>\n",
       "      <td>DeepMind</td>\n",
       "      <td>NaN</td>\n",
       "      <td>1.900000e+21</td>\n",
       "      <td>2.940000e+07</td>\n",
       "      <td>...</td>\n",
       "      <td>NaN</td>\n",
       "      <td>United Kingdom of Great Britain and Northern I...</td>\n",
       "      <td>NaN</td>\n",
       "      <td>NaN</td>\n",
       "      <td>NaN</td>\n",
       "      <td>NaN</td>\n",
       "      <td>NaN</td>\n",
       "      <td>NaN</td>\n",
       "      <td>NaN</td>\n",
       "      <td>NaN</td>\n",
       "    </tr>\n",
       "    <tr>\n",
       "      <th>1186</th>\n",
       "      <td>ResNet-152 (ImageNet)</td>\n",
       "      <td>Vision</td>\n",
       "      <td>Image classification</td>\n",
       "      <td>NaN</td>\n",
       "      <td>Deep Residual Learning for Image Recognition</td>\n",
       "      <td>2015-12-10</td>\n",
       "      <td>Microsoft</td>\n",
       "      <td>6.000000e+07</td>\n",
       "      <td>1.210000e+19</td>\n",
       "      <td>1.280000e+06</td>\n",
       "      <td>...</td>\n",
       "      <td>NaN</td>\n",
       "      <td>United States of America</td>\n",
       "      <td>NaN</td>\n",
       "      <td>NaN</td>\n",
       "      <td>NaN</td>\n",
       "      <td>NaN</td>\n",
       "      <td>NaN</td>\n",
       "      <td>NaN</td>\n",
       "      <td>NaN</td>\n",
       "      <td>NaN</td>\n",
       "    </tr>\n",
       "    <tr>\n",
       "      <th>1188</th>\n",
       "      <td>DeepSpeech2 (English)</td>\n",
       "      <td>Speech</td>\n",
       "      <td>Speech recognition</td>\n",
       "      <td>NaN</td>\n",
       "      <td>Deep Speech 2: End-to-End Speech Recognition i...</td>\n",
       "      <td>2015-12-08</td>\n",
       "      <td>Baidu Research - Silicon Valley AI Lab</td>\n",
       "      <td>3.800000e+07</td>\n",
       "      <td>2.600000e+19</td>\n",
       "      <td>1.633392e+08</td>\n",
       "      <td>...</td>\n",
       "      <td>NVIDIA GTX Titan X</td>\n",
       "      <td>United States of America</td>\n",
       "      <td>NaN</td>\n",
       "      <td>NaN</td>\n",
       "      <td>NaN</td>\n",
       "      <td>0.4500</td>\n",
       "      <td>NaN</td>\n",
       "      <td>NaN</td>\n",
       "      <td>2.418115e+02</td>\n",
       "      <td>2.689983e+02</td>\n",
       "    </tr>\n",
       "  </tbody>\n",
       "</table>\n",
       "<p>67 rows × 22 columns</p>\n",
       "</div>"
      ],
      "text/plain": [
       "                     System      Domain  \\\n",
       "75             Gemini Ultra  Multimodal   \n",
       "91             Inflection-2    Language   \n",
       "116                  Grok-1    Language   \n",
       "130                ChatGLM3  Multimodal   \n",
       "176             Falcon-180B    Language   \n",
       "...                     ...         ...   \n",
       "1145               Xception      Vision   \n",
       "1146                   GNMT    Language   \n",
       "1182            AlphaGo Lee       Games   \n",
       "1186  ResNet-152 (ImageNet)      Vision   \n",
       "1188  DeepSpeech2 (English)      Speech   \n",
       "\n",
       "                                                   Task  \\\n",
       "75    Language modelling,Visual question answering,C...   \n",
       "91                                   Language modelling   \n",
       "116                             Language modelling,Chat   \n",
       "130                      Chat,Visual question answering   \n",
       "176                                  Language modelling   \n",
       "...                                                 ...   \n",
       "1145                               Image classification   \n",
       "1146                                        Translation   \n",
       "1182                                                 Go   \n",
       "1186                               Image classification   \n",
       "1188                                 Speech recognition   \n",
       "\n",
       "               Model accessibility  \\\n",
       "75          Hosted access (no API)   \n",
       "91          Hosted access (no API)   \n",
       "116                    Open source   \n",
       "130                            NaN   \n",
       "176   Open access (restricted use)   \n",
       "...                            ...   \n",
       "1145                           NaN   \n",
       "1146        Hosted access (no API)   \n",
       "1182                           NaN   \n",
       "1186                           NaN   \n",
       "1188                           NaN   \n",
       "\n",
       "                                              Reference Publication date  \\\n",
       "75    Gemini: A Family of Highly Capable Multimodal ...       2023-12-06   \n",
       "91                       Inflection-2: The Next Step Up       2023-11-22   \n",
       "116                                     Announcing Grok       2023-11-04   \n",
       "130       Zhipu AI launches third-generation base model       2023-10-27   \n",
       "176           The Falcon Series of Open Language Models       2023-09-06   \n",
       "...                                                 ...              ...   \n",
       "1145  Xception: Deep Learning with Depthwise Separab...       2016-10-07   \n",
       "1146  Google's Neural Machine Translation System: Br...       2016-09-26   \n",
       "1182  Mastering the game of Go with deep neural netw...       2016-01-27   \n",
       "1186       Deep Residual Learning for Image Recognition       2015-12-10   \n",
       "1188  Deep Speech 2: End-to-End Speech Recognition i...       2015-12-08   \n",
       "\n",
       "                                Organization    Parameters  \\\n",
       "75                           Google DeepMind           NaN   \n",
       "91                             Inflection AI           NaN   \n",
       "116                                      xAI  3.140000e+11   \n",
       "130                                 Zhipu AI  1.300000e+11   \n",
       "176          Technology Innovation Institute  1.800000e+11   \n",
       "...                                      ...           ...   \n",
       "1145                                  Google  2.285595e+07   \n",
       "1146                                  Google  2.780000e+08   \n",
       "1182                                DeepMind           NaN   \n",
       "1186                               Microsoft  6.000000e+07   \n",
       "1188  Baidu Research - Silicon Valley AI Lab  3.800000e+07   \n",
       "\n",
       "      Training compute (FLOP)  Training dataset size (datapoints)  ...  \\\n",
       "75               5.000000e+25                                 NaN  ...   \n",
       "91               1.001000e+25                                 NaN  ...   \n",
       "116              2.900000e+24                                 NaN  ...   \n",
       "130              1.092000e+24                        1.050000e+12  ...   \n",
       "176              3.760000e+24                        2.625000e+12  ...   \n",
       "...                       ...                                 ...  ...   \n",
       "1145             4.360000e+20                        3.500000e+08  ...   \n",
       "1146             6.900000e+21                        3.600000e+08  ...   \n",
       "1182             1.900000e+21                        2.940000e+07  ...   \n",
       "1186             1.210000e+19                        1.280000e+06  ...   \n",
       "1188             2.600000e+19                        1.633392e+08  ...   \n",
       "\n",
       "           Training hardware  \\\n",
       "75             Google TPU v4   \n",
       "91          NVIDIA H100 SXM5   \n",
       "116                      NaN   \n",
       "130                      NaN   \n",
       "176   NVIDIA A100 SXM4 40 GB   \n",
       "...                      ...   \n",
       "1145        NVIDIA Tesla K80   \n",
       "1146        NVIDIA Tesla K80   \n",
       "1182                     NaN   \n",
       "1186                     NaN   \n",
       "1188      NVIDIA GTX Titan X   \n",
       "\n",
       "                            Country (from Organization) Base model  \\\n",
       "75                                        Multinational        NaN   \n",
       "91                             United States of America        NaN   \n",
       "116                            United States of America        NaN   \n",
       "130                                               China        NaN   \n",
       "176                                United Arab Emirates        NaN   \n",
       "...                                                 ...        ...   \n",
       "1145                           United States of America        NaN   \n",
       "1146                           United States of America        NaN   \n",
       "1182  United Kingdom of Great Britain and Northern I...        NaN   \n",
       "1186                           United States of America        NaN   \n",
       "1188                           United States of America        NaN   \n",
       "\n",
       "     Finetune compute (FLOP) Hardware quantity Hardware utilization  \\\n",
       "75                       NaN           55000.0                  NaN   \n",
       "91                       NaN            5000.0                  NaN   \n",
       "116                      NaN               NaN                  NaN   \n",
       "130                      NaN               NaN                  NaN   \n",
       "176                      NaN            4096.0               0.1876   \n",
       "...                      ...               ...                  ...   \n",
       "1145                     NaN              60.0                  NaN   \n",
       "1146                     NaN              96.0                  NaN   \n",
       "1182                     NaN               NaN                  NaN   \n",
       "1186                     NaN               NaN                  NaN   \n",
       "1188                     NaN               NaN               0.4500   \n",
       "\n",
       "      Training cloud compute vendor  Training data center          Cost  \\\n",
       "75                              NaN                   NaN  8.897229e+07   \n",
       "91                              NaN                   NaN  1.166191e+07   \n",
       "116                             NaN                   NaN           NaN   \n",
       "130                             NaN                   NaN           NaN   \n",
       "176             Amazon Web Services                   NaN  2.033419e+07   \n",
       "...                             ...                   ...           ...   \n",
       "1145                            NaN                   NaN  1.679176e+04   \n",
       "1146                            NaN                   NaN  1.612009e+05   \n",
       "1182                            NaN                   NaN           NaN   \n",
       "1186                            NaN                   NaN           NaN   \n",
       "1188                            NaN                   NaN  2.418115e+02   \n",
       "\n",
       "     Cost (inflation-adjusted)  \n",
       "75                8.897229e+07  \n",
       "91                1.168921e+07  \n",
       "116                        NaN  \n",
       "130                        NaN  \n",
       "176               2.046019e+07  \n",
       "...                        ...  \n",
       "1145              1.833691e+04  \n",
       "1146              1.760344e+05  \n",
       "1182                       NaN  \n",
       "1186                       NaN  \n",
       "1188              2.689983e+02  \n",
       "\n",
       "[67 rows x 22 columns]"
      ]
     },
     "execution_count": 45,
     "metadata": {},
     "output_type": "execute_result"
    }
   ],
   "source": [
    "keep_cols = [\n",
    "    'System',\n",
    "    'Domain',\n",
    "    'Task',\n",
    "    'Model accessibility',\n",
    "    'Reference',\n",
    "    'Publication date',\n",
    "    'Organization',\n",
    "    'Parameters',\n",
    "    'Training compute (FLOP)',\n",
    "    'Training dataset size (datapoints)',\n",
    "    'Epochs',\n",
    "    'Training time (hours)',\n",
    "    'Training hardware',\n",
    "    'Country (from Organization)',\n",
    "    'Base model',\n",
    "    'Finetune compute (FLOP)',\n",
    "    'Hardware quantity',\n",
    "    'Hardware utilization',\n",
    "    'Training cloud compute vendor',\n",
    "    'Training data center',\n",
    "    # 'Training time (chip hours)',\n",
    "    'Cost',\n",
    "    'Cost (inflation-adjusted)',\n",
    "]\n",
    "cost_df[keep_cols]"
   ]
  },
  {
   "cell_type": "code",
   "execution_count": 46,
   "metadata": {
    "ExecuteTime": {
     "end_time": "2024-03-08T01:55:05.694336500Z",
     "start_time": "2024-03-08T01:55:05.094432200Z"
    }
   },
   "outputs": [],
   "source": [
    "cost_df[keep_cols].to_csv(results_dir + 'price dataset.csv', index=False)"
   ]
  },
  {
   "cell_type": "code",
   "execution_count": null,
   "metadata": {},
   "outputs": [],
   "source": []
  }
 ],
 "metadata": {
  "colab": {
   "provenance": []
  },
  "kernelspec": {
   "display_name": "Python 3 (ipykernel)",
   "language": "python",
   "name": "python3"
  },
  "language_info": {
   "codemirror_mode": {
    "name": "ipython",
    "version": 3
   },
   "file_extension": ".py",
   "mimetype": "text/x-python",
   "name": "python",
   "nbconvert_exporter": "python",
   "pygments_lexer": "ipython3",
   "version": "3.11.4"
  }
 },
 "nbformat": 4,
 "nbformat_minor": 1
}
