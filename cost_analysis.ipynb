{
 "cells": [
  {
   "cell_type": "markdown",
   "metadata": {},
   "source": [
    "# Setup"
   ]
  },
  {
   "cell_type": "code",
   "execution_count": 1,
   "metadata": {
    "ExecuteTime": {
     "end_time": "2024-03-08T01:54:49.691298800Z",
     "start_time": "2024-03-08T01:54:49.634206900Z"
    }
   },
   "outputs": [],
   "source": [
    "%load_ext autoreload\n",
    "%autoreload 2"
   ]
  },
  {
   "cell_type": "code",
   "execution_count": 2,
   "metadata": {
    "ExecuteTime": {
     "end_time": "2024-03-08T01:54:56.468786200Z",
     "start_time": "2024-03-08T01:54:49.695864500Z"
    },
    "id": "qltoZ7TbdkHZ"
   },
   "outputs": [],
   "source": [
    "import numpy as np\n",
    "import os\n",
    "import pandas as pd\n",
    "import plotly.express as px\n",
    "\n",
    "from cost import *\n",
    "from plotting import *\n",
    "from prices import *\n",
    "from imputation import *\n",
    "from inflation import *\n",
    "from regression import *\n",
    "from utils import *"
   ]
  },
  {
   "cell_type": "code",
   "execution_count": 3,
   "metadata": {
    "ExecuteTime": {
     "end_time": "2024-03-08T01:54:56.578403700Z",
     "start_time": "2024-03-08T01:54:56.468786200Z"
    }
   },
   "outputs": [],
   "source": [
    "estimation_method = 'hardware-capex-opex'\n",
    "compute_percentile_threshold = 50  # select systems >= this percentile of training compute\n",
    "variant = 'interconnect-improved'\n",
    "\n",
    "estimation_method_lookup = {\n",
    "    'cloud': estimate_costs,\n",
    "    'amortized': estimate_amortized_hardware_costs,\n",
    "    'up-front-server-capex': estimate_upfront_server_capex,\n",
    "    'hardware-capex-opex': estimate_hardware_capex_opex,\n",
    "}\n",
    "cost_estimation_function = estimation_method_lookup[estimation_method]\n",
    "\n",
    "results_dir = f'results/{estimation_method}-{compute_percentile_threshold}th-{variant}/'\n",
    "os.makedirs(results_dir, exist_ok=True)"
   ]
  },
  {
   "cell_type": "markdown",
   "metadata": {},
   "source": [
    "# Load data"
   ]
  },
  {
   "cell_type": "code",
   "execution_count": 4,
   "metadata": {
    "ExecuteTime": {
     "end_time": "2024-03-08T01:54:57.129865300Z",
     "start_time": "2024-03-08T01:54:56.872275900Z"
    }
   },
   "outputs": [],
   "source": [
    "frontier_pcd_df, hardware_df, price_df = load_data_for_cost_estimation(\n",
    "    compute_percentile_threshold=compute_percentile_threshold\n",
    ")"
   ]
  },
  {
   "cell_type": "code",
   "execution_count": 5,
   "metadata": {
    "ExecuteTime": {
     "end_time": "2024-03-08T01:54:57.278230500Z",
     "start_time": "2024-03-08T01:54:57.129865300Z"
    }
   },
   "outputs": [
    {
     "data": {
      "text/plain": [
       "(148, 5510, 142)"
      ]
     },
     "execution_count": 5,
     "metadata": {},
     "output_type": "execute_result"
    }
   ],
   "source": [
    "len(frontier_pcd_df), len(hardware_df), len(price_df)"
   ]
  },
  {
   "cell_type": "markdown",
   "metadata": {},
   "source": [
    "# Cost estimation"
   ]
  },
  {
   "cell_type": "code",
   "execution_count": 6,
   "metadata": {
    "ExecuteTime": {
     "end_time": "2024-03-08T01:54:57.807954200Z",
     "start_time": "2024-03-08T01:54:57.278230500Z"
    }
   },
   "outputs": [
    {
     "name": "stdout",
     "output_type": "stream",
     "text": [
      "==== System: Gemini Ultra ====\n",
      "Trying Google TPU v4\n",
      "Could not find hardware model after soft matching: Google TPU v4\n",
      "\n",
      "\n",
      "==== System: Qwen-72B ====\n",
      "Could not find hardware model for Qwen-72B\n",
      "\n",
      "\n",
      "==== System: Inflection-2 ====\n",
      "Trying NVIDIA H100 SXM5\n",
      "Found price: 39546.976\n",
      "\n",
      "==== System: Nemotron-3-8B ====\n",
      "Trying NVIDIA A100\n",
      "Soft matching NVIDIA A100 to NVIDIA A100\n",
      "Soft matching NVIDIA A100 to NVIDIA A100 PCIe\n",
      "Found price: 22000.0\n",
      "\n",
      "==== System: Yi-34B ====\n",
      "Could not find hardware model for Yi-34B\n",
      "\n",
      "\n",
      "==== System: Skywork-13B ====\n",
      "Trying NVIDIA A800\n",
      "Could not find hardware model after soft matching: NVIDIA A800\n",
      "\n",
      "\n",
      "==== System: ChatGLM3 ====\n",
      "Could not find hardware model for ChatGLM3\n",
      "\n",
      "\n",
      "==== System: XGen-7B ====\n",
      "Trying Google TPU v4\n",
      "Could not find hardware model after soft matching: Google TPU v4\n",
      "\n",
      "\n",
      "==== System: Falcon 180B ====\n",
      "Trying NVIDIA A100 SXM4 40 GB\n",
      "Found price: 22958.333333333332\n",
      "\n",
      "==== System: Llama 2-70B ====\n",
      "Trying NVIDIA A100 SXM4 80 GB\n",
      "Found price: 25641.25\n",
      "\n",
      "==== System: Llama 2-34B ====\n",
      "Trying NVIDIA A100 SXM4 80 GB\n",
      "Found price: 25641.25\n",
      "\n",
      "==== System: Llama 2-7B ====\n",
      "Trying NVIDIA A100 SXM4 80 GB\n",
      "Found price: 25641.25\n",
      "\n",
      "==== System: Llama 2-13B ====\n",
      "Trying NVIDIA A100 SXM4 80 GB\n",
      "Found price: 25641.25\n",
      "\n",
      "==== System: Claude 2 ====\n",
      "Could not find hardware model for Claude 2\n",
      "\n",
      "\n",
      "==== System: xTrimoPGLM -100B ====\n",
      "Trying NVIDIA A100 SXM4 40 GB\n",
      "Found price: 22958.333333333332\n",
      "\n",
      "==== System: Pangu-Weather ====\n",
      "Trying NVIDIA V100\n",
      "Found price: 17937.5\n",
      "\n",
      "==== System: PaLM 2 ====\n",
      "Trying Google TPU v4\n",
      "Could not find hardware model after soft matching: Google TPU v4\n",
      "\n",
      "\n",
      "==== System: StarCoder ====\n",
      "Trying NVIDIA A100 SXM4 80 GB\n",
      "Found price: 25641.25\n",
      "\n",
      "==== System: WizardLM-7B ====\n",
      "Trying NVIDIA V100\n",
      "Found price: 17937.5\n",
      "\n",
      "==== System: BloombergGPT ====\n",
      "Trying NVIDIA A100\n",
      "Soft matching NVIDIA A100 to NVIDIA A100\n",
      "Soft matching NVIDIA A100 to NVIDIA A100 PCIe\n",
      "Found price: 22000.0\n",
      "\n",
      "==== System: PanGu-Σ ====\n",
      "Trying Huawei Ascend 910\n",
      "Could not find hardware model after soft matching: Huawei Ascend 910\n",
      "\n",
      "\n",
      "==== System: GPT-4 ====\n",
      "Trying NVIDIA A100 SXM4 40 GB\n",
      "Found price: 22958.333333333332\n",
      "\n",
      "==== System: Falcon-40B ====\n",
      "Trying NVIDIA A100\n",
      "Soft matching NVIDIA A100 to NVIDIA A100\n",
      "Soft matching NVIDIA A100 to NVIDIA A100 PCIe\n",
      "Found price: 22000.0\n",
      "\n",
      "==== System: LLaMA-13B ====\n",
      "Trying NVIDIA A100\n",
      "Soft matching NVIDIA A100 to NVIDIA A100\n",
      "Soft matching NVIDIA A100 to NVIDIA A100 PCIe\n",
      "Found price: 22000.0\n",
      "\n",
      "==== System: LLaMA-65B ====\n",
      "Trying NVIDIA A100\n",
      "Soft matching NVIDIA A100 to NVIDIA A100\n",
      "Soft matching NVIDIA A100 to NVIDIA A100 PCIe\n",
      "Found price: 22000.0\n",
      "\n",
      "==== System: LLaMA-7B ====\n",
      "Trying NVIDIA A100\n",
      "Soft matching NVIDIA A100 to NVIDIA A100\n",
      "Soft matching NVIDIA A100 to NVIDIA A100 PCIe\n",
      "Found price: 22000.0\n",
      "\n",
      "==== System: ViT-22B ====\n",
      "Trying Google TPU v4\n",
      "Could not find hardware model after soft matching: Google TPU v4\n",
      "\n",
      "\n",
      "==== System: GPT-3.5 (text-davinci-003) ====\n",
      "Trying NVIDIA A100 SXM4 40 GB\n",
      "Found price: 22958.333333333332\n",
      "\n",
      "==== System: Galactica ====\n",
      "Trying NVIDIA A100 SXM4 80 GB\n",
      "Found price: 25641.25\n",
      "\n",
      "==== System: BLOOM-176B ====\n",
      "Trying NVIDIA A100 SXM4 80 GB\n",
      "Found price: 25641.25\n",
      "\n",
      "==== System: Taiyi-Stable Diffusion ====\n",
      "Trying NVIDIA A100\n",
      "Soft matching NVIDIA A100 to NVIDIA A100\n",
      "Soft matching NVIDIA A100 to NVIDIA A100 PCIe\n",
      "Found price: 22000.0\n",
      "\n",
      "==== System: U-PaLM (540B) ====\n",
      "Trying Google TPU v4\n",
      "Could not find hardware model after soft matching: Google TPU v4\n",
      "\n",
      "\n",
      "==== System: Whisper ====\n",
      "Could not find hardware model for Whisper\n",
      "\n",
      "\n",
      "==== System: PaLI ====\n",
      "Trying Google TPU v4\n",
      "Could not find hardware model after soft matching: Google TPU v4\n",
      "\n",
      "\n",
      "==== System: BlenderBot 3 ====\n",
      "Trying NVIDIA A100 SXM4 40 GB\n",
      "Found price: 22958.333333333332\n",
      "\n",
      "==== System: GLM-130B ====\n",
      "Trying NVIDIA A100 SXM4 40 GB\n",
      "Found price: 22958.333333333332\n",
      "\n",
      "==== System: AlexaTM 20B ====\n",
      "Trying NVIDIA A100\n",
      "Soft matching NVIDIA A100 to NVIDIA A100\n",
      "Soft matching NVIDIA A100 to NVIDIA A100 PCIe\n",
      "Found price: 22000.0\n",
      "\n",
      "==== System: ESM2-15B ====\n",
      "Trying NVIDIA V100\n",
      "Found price: 17937.5\n",
      "\n",
      "==== System: ESM2-3B ====\n",
      "Could not find hardware model for ESM2-3B\n",
      "\n",
      "\n",
      "==== System: NLLB ====\n",
      "Trying NVIDIA A100 SXM4 80 GB\n",
      "Found price: 25641.25\n",
      "\n",
      "==== System: Minerva (540B) ====\n",
      "Trying Google TPU v4\n",
      "Could not find hardware model after soft matching: Google TPU v4\n",
      "\n",
      "\n",
      "==== System: Parti ====\n",
      "Trying Google TPU v4\n",
      "Could not find hardware model after soft matching: Google TPU v4\n",
      "\n",
      "\n",
      "==== System: CoCa ====\n",
      "Trying Google TPU v4\n",
      "Could not find hardware model after soft matching: Google TPU v4\n",
      "\n",
      "\n",
      "==== System: Imagen ====\n",
      "Trying Google TPU v4\n",
      "Could not find hardware model after soft matching: Google TPU v4\n",
      "\n",
      "\n",
      "==== System: UL2 ====\n",
      "Trying Google TPU v4\n",
      "Could not find hardware model after soft matching: Google TPU v4\n",
      "\n",
      "\n",
      "==== System: OPT-175B ====\n",
      "Trying NVIDIA A100 SXM4 80 GB\n",
      "Found price: 25641.25\n",
      "\n",
      "==== System: Flamingo ====\n",
      "Trying Google TPU v4\n",
      "Could not find hardware model after soft matching: Google TPU v4\n",
      "\n",
      "\n",
      "==== System: Stable Diffusion (LDM-KL-8-G) ====\n",
      "Trying NVIDIA A100\n",
      "Soft matching NVIDIA A100 to NVIDIA A100\n",
      "Soft matching NVIDIA A100 to NVIDIA A100 PCIe\n",
      "Found price: 22000.0\n",
      "\n",
      "==== System: PaLM (540B) ====\n",
      "Trying Google TPU v4\n",
      "Could not find hardware model after soft matching: Google TPU v4\n",
      "\n",
      "\n",
      "==== System: Chinchilla ====\n",
      "Trying Google TPU v4,Google TPU v3\n",
      "Could not find hardware model after soft matching: Google TPU v4,Google TPU v3\n",
      "\n",
      "\n",
      "==== System: LaMDA ====\n",
      "Trying Google TPU v3\n",
      "Could not find hardware model after soft matching: Google TPU v3\n",
      "\n",
      "\n",
      "==== System: GPT-NeoX-20B ====\n",
      "Trying NVIDIA A100 SXM4 40 GB\n",
      "Found price: 22958.333333333332\n",
      "\n",
      "==== System: AlphaCode ====\n",
      "Trying Google TPU v4,Google TPU v4i\n",
      "Could not find hardware model after soft matching: Google TPU v4,Google TPU v4i\n",
      "\n",
      "\n",
      "==== System: ERNIE 3.0 Titan ====\n",
      "Trying Huawei Ascend 910,NVIDIA Tesla V100 DGXS 32 GB\n",
      "Could not find hardware model after soft matching: Huawei Ascend 910,NVIDIA Tesla V100 DGXS 32 GB\n",
      "\n",
      "\n",
      "==== System: XGLM-7.5B ====\n",
      "Trying NVIDIA A100\n",
      "Soft matching NVIDIA A100 to NVIDIA A100\n",
      "Soft matching NVIDIA A100 to NVIDIA A100 PCIe\n",
      "Found price: 22000.0\n",
      "\n",
      "==== System: GLaM ====\n",
      "Trying Google TPU v4\n",
      "Could not find hardware model after soft matching: Google TPU v4\n",
      "\n",
      "\n",
      "==== System: Gopher (280B) ====\n",
      "Trying Google TPU v3\n",
      "Could not find hardware model after soft matching: Google TPU v3\n",
      "\n",
      "\n",
      "==== System: Florence ====\n",
      "Trying NVIDIA A100 SXM4 40 GB\n",
      "Found price: 22958.333333333332\n",
      "\n",
      "==== System: BASIC-L ====\n",
      "Trying Google TPU v4\n",
      "Could not find hardware model after soft matching: Google TPU v4\n",
      "\n",
      "\n",
      "==== System: T0-XXL ====\n",
      "Trying Google TPU v3\n",
      "Could not find hardware model after soft matching: Google TPU v3\n",
      "\n",
      "\n",
      "==== System: Yuan 1.0 ====\n",
      "Could not find hardware model for Yuan 1.0\n",
      "\n",
      "\n",
      "==== System: Megatron-Turing NLG 530B ====\n",
      "Trying NVIDIA A100 SXM4 80 GB\n",
      "Found price: 25641.25\n",
      "\n",
      "==== System: HyperCLOVA ====\n",
      "Trying NVIDIA A100\n",
      "Soft matching NVIDIA A100 to NVIDIA A100\n",
      "Soft matching NVIDIA A100 to NVIDIA A100 PCIe\n",
      "Found price: 22000.0\n",
      "\n",
      "==== System: FLAN 137B ====\n",
      "Trying Google TPU v3\n",
      "Could not find hardware model after soft matching: Google TPU v3\n",
      "\n",
      "\n",
      "==== System: GOAT ====\n",
      "Trying Google TPU v3\n",
      "Could not find hardware model after soft matching: Google TPU v3\n",
      "\n",
      "\n",
      "==== System: HuBERT ====\n",
      "Could not find hardware model for HuBERT\n",
      "\n",
      "\n",
      "==== System: ERNIE 3.0 ====\n",
      "Trying NVIDIA V100\n",
      "Found price: 17937.5\n",
      "\n",
      "==== System: ALIGN ====\n",
      "Trying Google TPU v3\n",
      "Could not find hardware model after soft matching: Google TPU v3\n",
      "\n",
      "\n",
      "==== System: DeBERTa ====\n",
      "Trying NVIDIA V100\n",
      "Found price: 17937.5\n",
      "\n",
      "==== System: CoAtNet ====\n",
      "Trying Google TPU v3\n",
      "Could not find hardware model after soft matching: Google TPU v3\n",
      "\n",
      "\n",
      "==== System: ByT5-XXL ====\n",
      "Trying Google TPU v3\n",
      "Could not find hardware model after soft matching: Google TPU v3\n",
      "\n",
      "\n",
      "==== System: CogView ====\n",
      "Trying NVIDIA Tesla V100 DGXS 16 GB\n",
      "Soft matching NVIDIA Tesla V100 DGXS 16 GB to NVIDIA V100\n",
      "Found price: 17937.5\n",
      "\n",
      "==== System: ProtT5-XXL ====\n",
      "Trying Google TPU v3\n",
      "Could not find hardware model after soft matching: Google TPU v3\n",
      "\n",
      "\n",
      "==== System: ProtT5-XXL-BFD ====\n",
      "Could not find hardware model for ProtT5-XXL-BFD\n",
      "\n",
      "\n",
      "==== System: ProtBERT-BFD ====\n",
      "Trying Google TPU v3\n",
      "Could not find hardware model after soft matching: Google TPU v3\n",
      "\n",
      "\n",
      "==== System: PLUG ====\n",
      "Trying NVIDIA A100\n",
      "Soft matching NVIDIA A100 to NVIDIA A100\n",
      "Soft matching NVIDIA A100 to NVIDIA A100 PCIe\n",
      "Found price: 22000.0\n",
      "\n",
      "==== System: M6-T ====\n",
      "Trying NVIDIA Tesla V100 DGXS 32 GB\n",
      "Found price: 21793.960000000003\n",
      "\n",
      "==== System: Meta Pseudo Labels ====\n",
      "Trying Google TPU v3\n",
      "Could not find hardware model after soft matching: Google TPU v3\n",
      "\n",
      "\n",
      "==== System: MSA Transformer ====\n",
      "Trying NVIDIA Tesla V100 DGXS 32 GB\n",
      "Found price: 21793.960000000003\n",
      "\n",
      "==== System: Switch ====\n",
      "Trying Google TPU v3\n",
      "Could not find hardware model after soft matching: Google TPU v3\n",
      "\n",
      "\n",
      "==== System: DALL-E ====\n",
      "Trying NVIDIA Tesla V100 DGXS 16 GB\n",
      "Soft matching NVIDIA Tesla V100 DGXS 16 GB to NVIDIA V100\n",
      "Found price: 17937.5\n",
      "\n",
      "==== System: CLIP (ViT L/14@336px) ====\n",
      "Trying NVIDIA V100\n",
      "Found price: 17937.5\n",
      "\n",
      "==== System: AlphaFold 2 ====\n",
      "Trying Google TPU v3\n",
      "Could not find hardware model after soft matching: Google TPU v3\n",
      "\n",
      "\n",
      "==== System: ViT-Huge/14 ====\n",
      "Trying Google TPU v3\n",
      "Could not find hardware model after soft matching: Google TPU v3\n",
      "\n",
      "\n",
      "==== System: wave2vec 2.0 LARGE ====\n",
      "Trying NVIDIA Tesla V100 DGXS 32 GB\n",
      "Found price: 21793.960000000003\n",
      "\n",
      "==== System: GBERT-Large ====\n",
      "Trying Google TPU v3\n",
      "Could not find hardware model after soft matching: Google TPU v3\n",
      "\n",
      "\n",
      "==== System: Conformer + Wav2vec 2.0 + Noisy Student ====\n",
      "Trying Google TPU v3\n",
      "Could not find hardware model after soft matching: Google TPU v3\n",
      "\n",
      "\n",
      "==== System: mT5-XXL ====\n",
      "Could not find hardware model for mT5-XXL\n",
      "\n",
      "\n",
      "==== System: GShard (dense) ====\n",
      "Trying Google TPU v3\n",
      "Could not find hardware model after soft matching: Google TPU v3\n",
      "\n",
      "\n",
      "==== System: iGPT-XL ====\n",
      "Trying NVIDIA Tesla V100 DGXS 32 GB\n",
      "Found price: 21793.960000000003\n",
      "\n",
      "==== System: iGPT-L ====\n",
      "Trying NVIDIA Tesla V100 DGXS 32 GB\n",
      "Found price: 21793.960000000003\n",
      "\n",
      "==== System: GPT-3 175B (davinci) ====\n",
      "Trying NVIDIA Tesla V100 DGXS 32 GB\n",
      "Found price: 21793.960000000003\n",
      "\n",
      "==== System: Once for All ====\n",
      "Trying NVIDIA V100\n",
      "Found price: 17937.5\n",
      "\n",
      "==== System: ELECTRA ====\n",
      "Could not find hardware model for ELECTRA\n",
      "\n",
      "\n",
      "==== System: Turing-NLG ====\n",
      "Trying NVIDIA Tesla V100 DGXS 32 GB\n",
      "Found price: 21793.960000000003\n",
      "\n",
      "==== System: ALBERT-xxlarge ====\n",
      "Trying Google TPU v3\n",
      "Could not find hardware model after soft matching: Google TPU v3\n",
      "\n",
      "\n",
      "==== System: Meena ====\n",
      "Trying Google TPU v3\n",
      "Could not find hardware model after soft matching: Google TPU v3\n",
      "\n",
      "\n",
      "==== System: ContextNet + Noisy Student ====\n",
      "Trying Google TPU v3\n",
      "Could not find hardware model after soft matching: Google TPU v3\n",
      "\n",
      "\n",
      "==== System: DD-PPO ====\n",
      "Trying NVIDIA V100\n",
      "Found price: 17937.5\n",
      "\n",
      "==== System: OpenAI Five ====\n",
      "Could not find hardware model for OpenAI Five\n",
      "\n",
      "\n",
      "==== System: OpenAI Five Rerun ====\n",
      "Could not find hardware model for OpenAI Five Rerun\n",
      "\n",
      "\n",
      "==== System: Noisy Student (L2) ====\n",
      "Trying Google TPU v3\n",
      "Could not find hardware model after soft matching: Google TPU v3\n",
      "\n",
      "\n",
      "==== System: CamemBERT ====\n",
      "Trying NVIDIA V100\n",
      "Found price: 17937.5\n",
      "\n",
      "==== System: AlphaStar ====\n",
      "Trying Google TPU v3\n",
      "Could not find hardware model after soft matching: Google TPU v3\n",
      "\n",
      "\n",
      "==== System: T5-3B ====\n",
      "Trying Google TPU v3\n",
      "Could not find hardware model after soft matching: Google TPU v3\n",
      "\n",
      "\n",
      "==== System: T5-11B ====\n",
      "Trying Google TPU v3\n",
      "Could not find hardware model after soft matching: Google TPU v3\n",
      "\n",
      "\n",
      "==== System: Megatron-BERT ====\n",
      "Trying NVIDIA Tesla V100S PCIe 32 GB\n",
      "Soft matching NVIDIA Tesla V100S PCIe 32 GB to NVIDIA V100\n",
      "Found price: 17937.5\n",
      "\n",
      "==== System: Megatron-LM (8.3B) ====\n",
      "Trying NVIDIA Tesla V100 DGXS 32 GB\n",
      "Found price: 21793.960000000003\n",
      "\n",
      "==== System: Megatron-LM (355M) ====\n",
      "Could not find hardware model for Megatron-LM (355M)\n",
      "\n",
      "\n",
      "==== System: RoBERTa Large ====\n",
      "Trying NVIDIA Tesla V100 DGXS 32 GB\n",
      "Found price: 21793.960000000003\n",
      "\n",
      "==== System: MnasNet-A3 ====\n",
      "Trying Google TPU v3\n",
      "Could not find hardware model after soft matching: Google TPU v3\n",
      "\n",
      "\n",
      "==== System: MnasNet-A1 + SSDLite ====\n",
      "Trying Google TPU v3\n",
      "Could not find hardware model after soft matching: Google TPU v3\n",
      "\n",
      "\n",
      "==== System: BERT-Large-CAS (PTB+WT2+WT103) ====\n",
      "Could not find hardware model for BERT-Large-CAS (PTB+WT2+WT103)\n",
      "\n",
      "\n",
      "==== System: SciBERT ====\n",
      "Trying Google TPU v3\n",
      "Could not find hardware model after soft matching: Google TPU v3\n",
      "\n",
      "\n",
      "==== System: GPT-2 (1.5B) ====\n",
      "Could not find hardware model for GPT-2 (1.5B)\n",
      "\n",
      "\n",
      "==== System: Mesh-TensorFlow Transformer 4.9B (language modelling) ====\n",
      "Trying Google TPU v2\n",
      "Could not find hardware model after soft matching: Google TPU v2\n",
      "\n",
      "\n",
      "==== System: Mesh-TensorFlow Transformer 2.9B (translation) ====\n",
      "Trying Google TPU v2\n",
      "Could not find hardware model after soft matching: Google TPU v2\n",
      "\n",
      "\n",
      "==== System: BERT-Large ====\n",
      "Trying Google TPU v2\n",
      "Could not find hardware model after soft matching: Google TPU v2\n",
      "\n",
      "\n",
      "==== System: BigGAN-deep 512x512 ====\n",
      "Trying Google TPU v3\n",
      "Could not find hardware model after soft matching: Google TPU v3\n",
      "\n",
      "\n",
      "==== System: Transformer (Adaptive Input Embeddings) ====\n",
      "Trying NVIDIA V100\n",
      "Found price: 17937.5\n",
      "\n",
      "==== System: Big Transformer for Back-Translation ====\n",
      "Trying NVIDIA V100\n",
      "Found price: 17937.5\n",
      "\n",
      "==== System: FTW ====\n",
      "Could not find hardware model for FTW\n",
      "\n",
      "\n",
      "==== System: Population-based DRL ====\n",
      "Could not find hardware model for Population-based DRL\n",
      "\n",
      "\n",
      "==== System: GPT ====\n",
      "Trying NVIDIA Quadro P600\n",
      "Could not find hardware model after soft matching: NVIDIA Quadro P600\n",
      "\n",
      "\n",
      "==== System: ResNeXt-101 32x48d ====\n",
      "Could not find hardware model for ResNeXt-101 32x48d\n",
      "\n",
      "\n",
      "==== System: YOLOv3 ====\n",
      "Trying NVIDIA M40,NVIDIA GTX Titan X\n",
      "Could not find hardware model after soft matching: NVIDIA M40,NVIDIA GTX Titan X\n",
      "\n",
      "\n",
      "==== System: LSTM (Hebbian, Cache, MbPA) ====\n",
      "Trying NVIDIA P100\n",
      "Could not find hardware model after soft matching: NVIDIA P100\n",
      "\n",
      "\n",
      "==== System: AmoebaNet-A (F=448) ====\n",
      "Trying NVIDIA Tesla K40s\n",
      "Found price: 5332.342857142858\n",
      "\n",
      "==== System: IMPALA ====\n",
      "Trying NVIDIA P100\n",
      "Could not find hardware model after soft matching: NVIDIA P100\n",
      "\n",
      "\n",
      "==== System: AlphaZero ====\n",
      "Trying Google TPU v2\n",
      "Could not find hardware model after soft matching: Google TPU v2\n",
      "\n",
      "\n",
      "==== System: PNASNet-5 ====\n",
      "Could not find hardware model for PNASNet-5\n",
      "\n",
      "\n",
      "==== System: AlphaGo Zero ====\n",
      "Trying Google TPU v1\n",
      "Could not find hardware model after soft matching: Google TPU v1\n",
      "\n",
      "\n",
      "==== System: OpenAI TI7 DOTA 1v1 ====\n",
      "Could not find hardware model for OpenAI TI7 DOTA 1v1\n",
      "\n",
      "\n",
      "==== System: JFT ====\n",
      "Trying NVIDIA Tesla K80\n",
      "Found price: 4024.0\n",
      "\n",
      "==== System: Transformer ====\n",
      "Trying NVIDIA P100\n",
      "Could not find hardware model after soft matching: NVIDIA P100\n",
      "\n",
      "\n",
      "==== System: MoE ====\n",
      "Trying NVIDIA Tesla K40t\n",
      "Could not find hardware model after soft matching: NVIDIA Tesla K40t\n",
      "\n",
      "\n",
      "==== System: DeepStack ====\n",
      "Could not find hardware model for DeepStack\n",
      "\n",
      "\n",
      "==== System: Libratus ====\n",
      "Could not find hardware model for Libratus\n",
      "\n",
      "\n",
      "==== System: AlphaGo Master ====\n",
      "Trying Google TPU v1\n",
      "Could not find hardware model after soft matching: Google TPU v1\n",
      "\n",
      "\n",
      "==== System: PolyNet ====\n",
      "Trying NVIDIA GTX Titan X\n",
      "Found price: 1598.4\n",
      "\n",
      "==== System: NASv3 (CIFAR-10) ====\n",
      "Could not find hardware model for NASv3 (CIFAR-10)\n",
      "\n",
      "\n",
      "==== System: BIDAF ====\n",
      "Trying NVIDIA GTX Titan X\n",
      "Found price: 1598.4\n",
      "\n",
      "==== System: Xception ====\n",
      "Trying NVIDIA Tesla K80\n",
      "Found price: 4024.0\n",
      "\n",
      "==== System: GNMT ====\n",
      "Trying NVIDIA Tesla K80\n",
      "Found price: 4024.0\n",
      "\n",
      "==== System: AlphaGo Lee ====\n",
      "Could not find hardware model for AlphaGo Lee\n",
      "\n",
      "\n",
      "==== System: ResNet-152 (ImageNet) ====\n",
      "Could not find hardware model for ResNet-152 (ImageNet)\n",
      "\n",
      "\n",
      "==== System: DeepSpeech2 (English) ====\n",
      "Trying NVIDIA GTX Titan X\n",
      "Found price: 1598.4\n",
      "\n",
      "==== System: AlphaGo Fan ====\n",
      "Could not find hardware model for AlphaGo Fan\n",
      "\n",
      "\n",
      "==== System: Gemini Ultra ====\n",
      "Unable to estimate cost\n",
      "==== System: Qwen-72B ====\n",
      "Unable to estimate cost\n",
      "==== System: Inflection-2 ====\n",
      "Imputing training time from compute and hardware\n",
      "Found NVIDIA H100 SXM5 at 989000000000000.0 FLOP/s\n",
      "Estimated cost: 15227827.228979044\n",
      "==== System: Nemotron-3-8B ====\n",
      "Estimated cost: 526090.715247091\n",
      "==== System: Yi-34B ====\n",
      "Unable to estimate cost\n",
      "==== System: Skywork-13B ====\n",
      "Unable to estimate cost\n",
      "==== System: ChatGLM3 ====\n",
      "Unable to estimate cost\n",
      "==== System: XGen-7B ====\n",
      "Unable to estimate cost\n",
      "==== System: Falcon 180B ====\n",
      "Estimated cost: 20580887.826748803\n",
      "==== System: Llama 2-70B ====\n",
      "Estimated cost: 2700851.2487679673\n",
      "==== System: Llama 2-34B ====\n",
      "Imputing training time from compute and hardware\n",
      "Found NVIDIA A100 SXM4 80 GB at 312000000000000.0 FLOP/s\n",
      "Estimated cost: 1211207.956870725\n",
      "==== System: Llama 2-7B ====\n",
      "Imputing training time from compute and hardware\n",
      "Found NVIDIA A100 SXM4 80 GB at 312000000000000.0 FLOP/s\n",
      "Estimated cost: 249366.3440616198\n",
      "==== System: Llama 2-13B ====\n",
      "Imputing training time from compute and hardware\n",
      "Found NVIDIA A100 SXM4 80 GB at 312000000000000.0 FLOP/s\n",
      "Estimated cost: 474983.5124983235\n",
      "==== System: Claude 2 ====\n",
      "Unable to estimate cost\n",
      "==== System: xTrimoPGLM -100B ====\n",
      "Estimated cost: 3494463.2455833904\n",
      "==== System: Pangu-Weather ====\n",
      "Estimated cost: nan\n",
      "==== System: PaLM 2 ====\n",
      "Unable to estimate cost\n",
      "==== System: StarCoder ====\n",
      "Estimated cost: 405165.0838973306\n",
      "==== System: WizardLM-7B ====\n",
      "Imputing training time from compute and hardware\n",
      "Found NVIDIA A100 at 312000000000000.0 FLOP/s\n",
      "Estimated cost: nan\n",
      "==== System: BloombergGPT ====\n",
      "Estimated cost: 732604.3951357518\n",
      "==== System: PanGu-Σ ====\n",
      "Unable to estimate cost\n",
      "==== System: GPT-4 ====\n",
      "Estimated cost: 66297212.16977051\n",
      "==== System: Falcon-40B ====\n",
      "Estimated cost: 623002.1627926079\n",
      "==== System: LLaMA-13B ====\n",
      "Imputing training time from compute and hardware\n",
      "Found NVIDIA A100 at 312000000000000.0 FLOP/s\n",
      "Estimated cost: 120116.21880615834\n",
      "==== System: LLaMA-65B ====\n",
      "Estimated cost: 1138619.3888751995\n",
      "==== System: LLaMA-7B ====\n",
      "Imputing training time from compute and hardware\n",
      "Found NVIDIA A100 at 312000000000000.0 FLOP/s\n",
      "Estimated cost: 92550.57492986645\n",
      "==== System: ViT-22B ====\n",
      "Unable to estimate cost\n",
      "==== System: GPT-3.5 (text-davinci-003) ====\n",
      "Imputing training time from compute and hardware\n",
      "Found NVIDIA A100 SXM4 40 GB at 312000000000000.0 FLOP/s\n",
      "Estimated cost: 7143177.258607129\n",
      "==== System: Galactica ====\n",
      "Imputing training time from compute and hardware\n",
      "Found NVIDIA A100 SXM4 80 GB at 312000000000000.0 FLOP/s\n",
      "Estimated cost: 964522.8628091053\n",
      "==== System: BLOOM-176B ====\n",
      "Estimated cost: 1368423.9123449693\n",
      "==== System: Taiyi-Stable Diffusion ====\n",
      "Estimated cost: 173201.45084772987\n",
      "==== System: U-PaLM (540B) ====\n",
      "Unable to estimate cost\n",
      "==== System: Whisper ====\n",
      "Unable to estimate cost\n",
      "==== System: PaLI ====\n",
      "Unable to estimate cost\n",
      "==== System: BlenderBot 3 ====\n",
      "Imputing training time from compute and hardware\n",
      "Found NVIDIA A100 SXM4 40 GB at 312000000000000.0 FLOP/s\n",
      "Estimated cost: 2194757.816966454\n",
      "==== System: GLM-130B ====\n",
      "Estimated cost: 1290685.9691718002\n",
      "==== System: AlexaTM 20B ====\n",
      "Estimated cost: 411187.9207950719\n",
      "==== System: ESM2-15B ====\n",
      "Estimated cost: nan\n",
      "==== System: ESM2-3B ====\n",
      "Unable to estimate cost\n",
      "==== System: NLLB ====\n",
      "Imputing training time from compute and hardware\n",
      "Found NVIDIA A100 SXM4 80 GB at 312000000000000.0 FLOP/s\n",
      "Estimated cost: 52129.297099842115\n",
      "==== System: Minerva (540B) ====\n",
      "Unable to estimate cost\n",
      "==== System: Parti ====\n",
      "Unable to estimate cost\n",
      "==== System: CoCa ====\n",
      "Unable to estimate cost\n",
      "==== System: Imagen ====\n",
      "Unable to estimate cost\n",
      "==== System: UL2 ====\n",
      "Unable to estimate cost\n",
      "==== System: OPT-175B ====\n",
      "Estimated cost: 1018832.44454987\n",
      "==== System: Flamingo ====\n",
      "Unable to estimate cost\n",
      "==== System: Stable Diffusion (LDM-KL-8-G) ====\n",
      "Estimated cost: 169583.43925749487\n",
      "==== System: PaLM (540B) ====\n",
      "Unable to estimate cost\n",
      "==== System: Chinchilla ====\n",
      "Unable to estimate cost\n",
      "==== System: LaMDA ====\n",
      "Unable to estimate cost\n",
      "==== System: GPT-NeoX-20B ====\n",
      "Estimated cost: 242003.6192197125\n",
      "==== System: AlphaCode ====\n",
      "Unable to estimate cost\n",
      "==== System: ERNIE 3.0 Titan ====\n",
      "Unable to estimate cost\n",
      "==== System: XGLM-7.5B ====\n",
      "Estimated cost: 141943.88235827515\n",
      "==== System: GLaM ====\n",
      "Unable to estimate cost\n",
      "==== System: Gopher (280B) ====\n",
      "Unable to estimate cost\n",
      "==== System: Florence ====\n",
      "Estimated cost: 139662.55693020002\n",
      "==== System: BASIC-L ====\n",
      "Unable to estimate cost\n",
      "==== System: T0-XXL ====\n",
      "Unable to estimate cost\n",
      "==== System: Yuan 1.0 ====\n",
      "Unable to estimate cost\n",
      "==== System: Megatron-Turing NLG 530B ====\n",
      "Estimated cost: 4272662.819810176\n",
      "==== System: HyperCLOVA ====\n",
      "Estimated cost: 733234.9487485285\n",
      "==== System: FLAN 137B ====\n",
      "Unable to estimate cost\n",
      "==== System: GOAT ====\n",
      "Unable to estimate cost\n",
      "==== System: HuBERT ====\n",
      "Unable to estimate cost\n",
      "==== System: ERNIE 3.0 ====\n",
      "Imputing training time from compute and hardware\n",
      "Found NVIDIA V100 at 125000000000000.0 FLOP/s\n",
      "Estimated cost: nan\n",
      "==== System: ALIGN ====\n",
      "Unable to estimate cost\n",
      "==== System: DeBERTa ====\n",
      "Estimated cost: nan\n",
      "==== System: CoAtNet ====\n",
      "Unable to estimate cost\n",
      "==== System: ByT5-XXL ====\n",
      "Unable to estimate cost\n",
      "==== System: CogView ====\n",
      "Imputing training time from compute and hardware\n",
      "Found NVIDIA Tesla V100 DGXS 16 GB at 125000000000000.0 FLOP/s\n",
      "Estimated cost: 132301.49811138998\n",
      "==== System: ProtT5-XXL ====\n",
      "Unable to estimate cost\n",
      "==== System: ProtT5-XXL-BFD ====\n",
      "Unable to estimate cost\n",
      "==== System: ProtBERT-BFD ====\n",
      "Unable to estimate cost\n",
      "==== System: PLUG ====\n",
      "Estimated cost: 119697.86943189596\n",
      "==== System: M6-T ====\n",
      "Imputing training time from compute and hardware\n",
      "Found NVIDIA Tesla V100 DGXS 32 GB at 125000000000000.0 FLOP/s\n",
      "Estimated cost: 31930.954938130773\n",
      "==== System: Meta Pseudo Labels ====\n",
      "Unable to estimate cost\n",
      "==== System: MSA Transformer ====\n",
      "Imputing training time from compute and hardware\n",
      "Found NVIDIA Tesla V100 DGXS 32 GB at 125000000000000.0 FLOP/s\n",
      "Estimated cost: 31610.110656425077\n",
      "==== System: Switch ====\n",
      "Unable to estimate cost\n",
      "==== System: DALL-E ====\n",
      "Imputing training time from compute and hardware\n",
      "Found NVIDIA Tesla V100 DGXS 16 GB at 125000000000000.0 FLOP/s\n",
      "Estimated cost: 232021.28400131824\n",
      "==== System: CLIP (ViT L/14@336px) ====\n",
      "Estimated cost: nan\n",
      "==== System: AlphaFold 2 ====\n",
      "Unable to estimate cost\n",
      "==== System: ViT-Huge/14 ====\n",
      "Unable to estimate cost\n",
      "==== System: wave2vec 2.0 LARGE ====\n",
      "Imputing training time from compute and hardware\n",
      "Found NVIDIA Tesla V100 DGXS 32 GB at 125000000000000.0 FLOP/s\n",
      "Estimated cost: 10892.373524081539\n",
      "==== System: GBERT-Large ====\n",
      "Unable to estimate cost\n",
      "==== System: Conformer + Wav2vec 2.0 + Noisy Student ====\n",
      "Unable to estimate cost\n",
      "==== System: mT5-XXL ====\n",
      "Unable to estimate cost\n",
      "==== System: GShard (dense) ====\n",
      "Unable to estimate cost\n",
      "==== System: iGPT-XL ====\n",
      "Imputing training time from compute and hardware\n",
      "Found NVIDIA Tesla V100 DGXS 32 GB at 125000000000000.0 FLOP/s\n",
      "Estimated cost: 190650.72962878464\n",
      "==== System: iGPT-L ====\n",
      "Imputing training time from compute and hardware\n",
      "Found NVIDIA Tesla V100 DGXS 32 GB at 125000000000000.0 FLOP/s\n",
      "Estimated cost: 51475.696999771855\n",
      "==== System: GPT-3 175B (davinci) ====\n",
      "Estimated cost: 3462910.5254391977\n",
      "==== System: Once for All ====\n",
      "Imputing training time from compute and hardware\n",
      "Found NVIDIA V100 at 125000000000000.0 FLOP/s\n",
      "Estimated cost: nan\n",
      "==== System: ELECTRA ====\n",
      "Unable to estimate cost\n",
      "==== System: Turing-NLG ====\n",
      "Imputing training time from compute and hardware\n",
      "Found NVIDIA Tesla V100 DGXS 32 GB at 125000000000000.0 FLOP/s\n",
      "Estimated cost: 90005.40227793693\n",
      "==== System: ALBERT-xxlarge ====\n",
      "Unable to estimate cost\n",
      "==== System: Meena ====\n",
      "Unable to estimate cost\n",
      "==== System: ContextNet + Noisy Student ====\n",
      "Unable to estimate cost\n",
      "==== System: DD-PPO ====\n",
      "Estimated cost: nan\n",
      "==== System: OpenAI Five ====\n",
      "Unable to estimate cost\n",
      "==== System: OpenAI Five Rerun ====\n",
      "Unable to estimate cost\n",
      "==== System: Noisy Student (L2) ====\n",
      "Unable to estimate cost\n",
      "==== System: CamemBERT ====\n",
      "Imputing training time from compute and hardware\n",
      "Found NVIDIA V100 at 125000000000000.0 FLOP/s\n",
      "Estimated cost: nan\n",
      "==== System: AlphaStar ====\n",
      "Unable to estimate cost\n",
      "==== System: T5-3B ====\n",
      "Unable to estimate cost\n",
      "==== System: T5-11B ====\n",
      "Unable to estimate cost\n",
      "==== System: Megatron-BERT ====\n",
      "Estimated cost: 583665.9239425051\n",
      "==== System: Megatron-LM (8.3B) ====\n",
      "Estimated cost: 163444.49957745837\n",
      "==== System: Megatron-LM (355M) ====\n",
      "Unable to estimate cost\n",
      "==== System: RoBERTa Large ====\n",
      "Estimated cost: 119017.85134492359\n",
      "==== System: MnasNet-A3 ====\n",
      "Unable to estimate cost\n",
      "==== System: MnasNet-A1 + SSDLite ====\n",
      "Unable to estimate cost\n",
      "==== System: BERT-Large-CAS (PTB+WT2+WT103) ====\n",
      "Unable to estimate cost\n",
      "==== System: SciBERT ====\n",
      "Unable to estimate cost\n",
      "==== System: GPT-2 (1.5B) ====\n",
      "Unable to estimate cost\n",
      "==== System: Mesh-TensorFlow Transformer 4.9B (language modelling) ====\n",
      "Unable to estimate cost\n",
      "==== System: Mesh-TensorFlow Transformer 2.9B (translation) ====\n",
      "Unable to estimate cost\n",
      "==== System: BERT-Large ====\n",
      "Unable to estimate cost\n",
      "==== System: BigGAN-deep 512x512 ====\n",
      "Unable to estimate cost\n",
      "==== System: Transformer (Adaptive Input Embeddings) ====\n",
      "Estimated cost: nan\n",
      "==== System: Big Transformer for Back-Translation ====\n",
      "Estimated cost: nan\n",
      "==== System: FTW ====\n",
      "Unable to estimate cost\n",
      "==== System: Population-based DRL ====\n",
      "Unable to estimate cost\n",
      "==== System: GPT ====\n",
      "Unable to estimate cost\n",
      "==== System: ResNeXt-101 32x48d ====\n",
      "Unable to estimate cost\n",
      "==== System: YOLOv3 ====\n",
      "Unable to estimate cost\n",
      "==== System: LSTM (Hebbian, Cache, MbPA) ====\n",
      "Unable to estimate cost\n",
      "==== System: AmoebaNet-A (F=448) ====\n",
      "No interconnect cost, but hardware quantity > 8\n",
      "Estimated cost: 19135.83257112115\n",
      "==== System: IMPALA ====\n",
      "Unable to estimate cost\n",
      "==== System: AlphaZero ====\n",
      "Unable to estimate cost\n",
      "==== System: PNASNet-5 ====\n",
      "Unable to estimate cost\n",
      "==== System: AlphaGo Zero ====\n",
      "Unable to estimate cost\n",
      "==== System: OpenAI TI7 DOTA 1v1 ====\n",
      "Unable to estimate cost\n",
      "==== System: JFT ====\n",
      "No interconnect cost, but hardware quantity > 8\n",
      "Estimated cost: 15430.769167419576\n",
      "==== System: Transformer ====\n",
      "Unable to estimate cost\n",
      "==== System: MoE ====\n",
      "Unable to estimate cost\n",
      "==== System: DeepStack ====\n",
      "Unable to estimate cost\n",
      "==== System: Libratus ====\n",
      "Unable to estimate cost\n",
      "==== System: AlphaGo Master ====\n",
      "Unable to estimate cost\n",
      "==== System: PolyNet ====\n",
      "Imputing training time from compute and hardware\n",
      "Found NVIDIA GTX Titan X at 6690000000000.0 FLOP/s\n",
      "No interconnect cost, but hardware quantity > 8\n",
      "Estimated cost: 834.8932512159984\n",
      "==== System: NASv3 (CIFAR-10) ====\n",
      "Unable to estimate cost\n",
      "==== System: BIDAF ====\n",
      "Estimated cost: 56.55253798767967\n",
      "==== System: Xception ====\n",
      "No interconnect cost, but hardware quantity > 8\n",
      "Estimated cost: 9212.272060451745\n",
      "==== System: GNMT ====\n",
      "No interconnect cost, but hardware quantity > 8\n",
      "Estimated cost: 88437.81178033675\n",
      "==== System: AlphaGo Lee ====\n",
      "Unable to estimate cost\n",
      "==== System: ResNet-152 (ImageNet) ====\n",
      "Unable to estimate cost\n",
      "==== System: DeepSpeech2 (English) ====\n",
      "Imputing training time from compute and hardware\n",
      "Found NVIDIA GTX Titan X at 6690000000000.0 FLOP/s\n",
      "Estimated cost: 285.68240088695575\n",
      "==== System: AlphaGo Fan ====\n",
      "Unable to estimate cost\n",
      "{'Inflection-2': 15227827.228979044, 'Nemotron-3-8B': 526090.715247091, 'Falcon 180B': 20580887.826748803, 'Llama 2-70B': 2700851.2487679673, 'Llama 2-34B': 1211207.956870725, 'Llama 2-7B': 249366.3440616198, 'Llama 2-13B': 474983.5124983235, 'xTrimoPGLM -100B': 3494463.2455833904, 'Pangu-Weather': nan, 'StarCoder': 405165.0838973306, 'WizardLM-7B': nan, 'BloombergGPT': 732604.3951357518, 'GPT-4': 66297212.16977051, 'Falcon-40B': 623002.1627926079, 'LLaMA-13B': 120116.21880615834, 'LLaMA-65B': 1138619.3888751995, 'LLaMA-7B': 92550.57492986645, 'GPT-3.5 (text-davinci-003)': 7143177.258607129, 'Galactica': 964522.8628091053, 'BLOOM-176B': 1368423.9123449693, 'Taiyi-Stable Diffusion': 173201.45084772987, 'BlenderBot 3': 2194757.816966454, 'GLM-130B': 1290685.9691718002, 'AlexaTM 20B': 411187.9207950719, 'ESM2-15B': nan, 'NLLB': 52129.297099842115, 'OPT-175B': 1018832.44454987, 'Stable Diffusion (LDM-KL-8-G)': 169583.43925749487, 'GPT-NeoX-20B': 242003.6192197125, 'XGLM-7.5B': 141943.88235827515, 'Florence': 139662.55693020002, 'Megatron-Turing NLG 530B': 4272662.819810176, 'HyperCLOVA': 733234.9487485285, 'ERNIE 3.0': nan, 'DeBERTa': nan, 'CogView': 132301.49811138998, 'PLUG': 119697.86943189596, 'M6-T': 31930.954938130773, 'MSA Transformer': 31610.110656425077, 'DALL-E': 232021.28400131824, 'CLIP (ViT L/14@336px)': nan, 'wave2vec 2.0 LARGE': 10892.373524081539, 'iGPT-XL': 190650.72962878464, 'iGPT-L': 51475.696999771855, 'GPT-3 175B (davinci)': 3462910.5254391977, 'Once for All': nan, 'Turing-NLG': 90005.40227793693, 'DD-PPO': nan, 'CamemBERT': nan, 'Megatron-BERT': 583665.9239425051, 'Megatron-LM (8.3B)': 163444.49957745837, 'RoBERTa Large': 119017.85134492359, 'Transformer (Adaptive Input Embeddings)': nan, 'Big Transformer for Back-Translation': nan, 'AmoebaNet-A (F=448)': 19135.83257112115, 'JFT': 15430.769167419576, 'PolyNet': 834.8932512159984, 'BIDAF': 56.55253798767967, 'Xception': 9212.272060451745, 'GNMT': 88437.81178033675, 'DeepSpeech2 (English)': 285.68240088695575}\n"
     ]
    }
   ],
   "source": [
    "cost_df = cost_estimation_function(frontier_pcd_df, hardware_df, price_df)"
   ]
  },
  {
   "cell_type": "code",
   "execution_count": 7,
   "metadata": {
    "ExecuteTime": {
     "end_time": "2024-03-08T01:54:57.967995500Z",
     "start_time": "2024-03-08T01:54:57.807954200Z"
    }
   },
   "outputs": [
    {
     "data": {
      "text/html": [
       "<div>\n",
       "<style scoped>\n",
       "    .dataframe tbody tr th:only-of-type {\n",
       "        vertical-align: middle;\n",
       "    }\n",
       "\n",
       "    .dataframe tbody tr th {\n",
       "        vertical-align: top;\n",
       "    }\n",
       "\n",
       "    .dataframe thead th {\n",
       "        text-align: right;\n",
       "    }\n",
       "</style>\n",
       "<table border=\"1\" class=\"dataframe\">\n",
       "  <thead>\n",
       "    <tr style=\"text-align: right;\">\n",
       "      <th></th>\n",
       "      <th>System</th>\n",
       "      <th>Domain</th>\n",
       "      <th>Task</th>\n",
       "      <th>Authors</th>\n",
       "      <th>Notability criteria</th>\n",
       "      <th>Notability criteria notes</th>\n",
       "      <th>Model accessibility</th>\n",
       "      <th>Link</th>\n",
       "      <th>Citations</th>\n",
       "      <th>Reference</th>\n",
       "      <th>...</th>\n",
       "      <th>Batch size notes</th>\n",
       "      <th>Organization categorization</th>\n",
       "      <th>Foundation model</th>\n",
       "      <th>Training compute lower bound</th>\n",
       "      <th>Training compute upper bound</th>\n",
       "      <th>Training chip-hours</th>\n",
       "      <th>Code accessibility</th>\n",
       "      <th>Dataset accessibility</th>\n",
       "      <th>Accessibility notes</th>\n",
       "      <th>Cost</th>\n",
       "    </tr>\n",
       "  </thead>\n",
       "  <tbody>\n",
       "    <tr>\n",
       "      <th>39</th>\n",
       "      <td>Gemini Ultra</td>\n",
       "      <td>Multimodal</td>\n",
       "      <td>Language modelling,Visual question answering,C...</td>\n",
       "      <td>Gemini Team</td>\n",
       "      <td>SOTA improvement</td>\n",
       "      <td>\" Evaluation on a broad range of benchmarks sh...</td>\n",
       "      <td>Hosted access (no API)</td>\n",
       "      <td>https://storage.googleapis.com/deepmind-media/...</td>\n",
       "      <td>252.0</td>\n",
       "      <td>Gemini: A Family of Highly Capable Multimodal ...</td>\n",
       "      <td>...</td>\n",
       "      <td>NaN</td>\n",
       "      <td>Industry</td>\n",
       "      <td>NaN</td>\n",
       "      <td>NaN</td>\n",
       "      <td>NaN</td>\n",
       "      <td>132000000.0</td>\n",
       "      <td>NaN</td>\n",
       "      <td>NaN</td>\n",
       "      <td>NaN</td>\n",
       "      <td>NaN</td>\n",
       "    </tr>\n",
       "    <tr>\n",
       "      <th>46</th>\n",
       "      <td>Qwen-72B</td>\n",
       "      <td>Language</td>\n",
       "      <td>Chat,Code generation</td>\n",
       "      <td>Jinze Bai, Shuai Bai, Yunfei Chu, Zeyu Cui, Ka...</td>\n",
       "      <td>SOTA improvement</td>\n",
       "      <td>SOTA on several Chinese benchmarks, with highe...</td>\n",
       "      <td>Permissive license (depr.)</td>\n",
       "      <td>https://huggingface.co/Qwen/Qwen-72B</td>\n",
       "      <td>NaN</td>\n",
       "      <td>NaN</td>\n",
       "      <td>...</td>\n",
       "      <td>Table 1 https://arxiv.org/abs/2309.16609\\n(thi...</td>\n",
       "      <td>Industry</td>\n",
       "      <td>NaN</td>\n",
       "      <td>NaN</td>\n",
       "      <td>NaN</td>\n",
       "      <td>NaN</td>\n",
       "      <td>NaN</td>\n",
       "      <td>NaN</td>\n",
       "      <td>NaN</td>\n",
       "      <td>NaN</td>\n",
       "    </tr>\n",
       "    <tr>\n",
       "      <th>54</th>\n",
       "      <td>Inflection-2</td>\n",
       "      <td>Language</td>\n",
       "      <td>Language modelling</td>\n",
       "      <td>NaN</td>\n",
       "      <td>Significant use</td>\n",
       "      <td>Inflection-2 either already powers Pi or soon ...</td>\n",
       "      <td>API access</td>\n",
       "      <td>https://inflection.ai/inflection-2</td>\n",
       "      <td>NaN</td>\n",
       "      <td>Inflection-2: The Next Step Up</td>\n",
       "      <td>...</td>\n",
       "      <td>NaN</td>\n",
       "      <td>Industry</td>\n",
       "      <td>checked</td>\n",
       "      <td>NaN</td>\n",
       "      <td>NaN</td>\n",
       "      <td>NaN</td>\n",
       "      <td>NaN</td>\n",
       "      <td>NaN</td>\n",
       "      <td>NaN</td>\n",
       "      <td>1.522783e+07</td>\n",
       "    </tr>\n",
       "    <tr>\n",
       "      <th>59</th>\n",
       "      <td>Nemotron-3-8B</td>\n",
       "      <td>Language</td>\n",
       "      <td>Chat,Language generation</td>\n",
       "      <td>NaN</td>\n",
       "      <td>SOTA improvement</td>\n",
       "      <td>\"The Nemotron-3-8B-QA model offers state-of-th...</td>\n",
       "      <td>Permissive license (depr.)</td>\n",
       "      <td>https://developer.nvidia.com/blog/nvidia-ai-fo...</td>\n",
       "      <td>NaN</td>\n",
       "      <td>NVIDIA AI Foundation Models: Build Custom Ente...</td>\n",
       "      <td>...</td>\n",
       "      <td>NaN</td>\n",
       "      <td>Industry</td>\n",
       "      <td>NaN</td>\n",
       "      <td>NaN</td>\n",
       "      <td>NaN</td>\n",
       "      <td>NaN</td>\n",
       "      <td>NaN</td>\n",
       "      <td>NaN</td>\n",
       "      <td>NaN</td>\n",
       "      <td>5.260907e+05</td>\n",
       "    </tr>\n",
       "    <tr>\n",
       "      <th>83</th>\n",
       "      <td>Yi-34B</td>\n",
       "      <td>Language</td>\n",
       "      <td>Chat</td>\n",
       "      <td>NaN</td>\n",
       "      <td>Significant use</td>\n",
       "      <td>2nd most popular model on HuggingFace: https:/...</td>\n",
       "      <td>Permissive license (depr.)</td>\n",
       "      <td>https://arxiv.org/abs/2403.04652</td>\n",
       "      <td>NaN</td>\n",
       "      <td>NaN</td>\n",
       "      <td>...</td>\n",
       "      <td>NaN</td>\n",
       "      <td>Industry</td>\n",
       "      <td>NaN</td>\n",
       "      <td>NaN</td>\n",
       "      <td>NaN</td>\n",
       "      <td>NaN</td>\n",
       "      <td>NaN</td>\n",
       "      <td>NaN</td>\n",
       "      <td>NaN</td>\n",
       "      <td>NaN</td>\n",
       "    </tr>\n",
       "    <tr>\n",
       "      <th>...</th>\n",
       "      <td>...</td>\n",
       "      <td>...</td>\n",
       "      <td>...</td>\n",
       "      <td>...</td>\n",
       "      <td>...</td>\n",
       "      <td>...</td>\n",
       "      <td>...</td>\n",
       "      <td>...</td>\n",
       "      <td>...</td>\n",
       "      <td>...</td>\n",
       "      <td>...</td>\n",
       "      <td>...</td>\n",
       "      <td>...</td>\n",
       "      <td>...</td>\n",
       "      <td>...</td>\n",
       "      <td>...</td>\n",
       "      <td>...</td>\n",
       "      <td>...</td>\n",
       "      <td>...</td>\n",
       "      <td>...</td>\n",
       "      <td>...</td>\n",
       "    </tr>\n",
       "    <tr>\n",
       "      <th>1095</th>\n",
       "      <td>GNMT</td>\n",
       "      <td>Language</td>\n",
       "      <td>Translation</td>\n",
       "      <td>Yonghui Wu, Mike Schuster, Zhifeng Chen, Quoc ...</td>\n",
       "      <td>Highly cited</td>\n",
       "      <td>NaN</td>\n",
       "      <td>NaN</td>\n",
       "      <td>https://arxiv.org/abs/1609.08144</td>\n",
       "      <td>6105.0</td>\n",
       "      <td>Google's Neural Machine Translation System: Br...</td>\n",
       "      <td>...</td>\n",
       "      <td>NaN</td>\n",
       "      <td>Industry</td>\n",
       "      <td>NaN</td>\n",
       "      <td>NaN</td>\n",
       "      <td>NaN</td>\n",
       "      <td>414720.0</td>\n",
       "      <td>NaN</td>\n",
       "      <td>NaN</td>\n",
       "      <td>NaN</td>\n",
       "      <td>8.843781e+04</td>\n",
       "    </tr>\n",
       "    <tr>\n",
       "      <th>1131</th>\n",
       "      <td>AlphaGo Lee</td>\n",
       "      <td>Games</td>\n",
       "      <td>Go</td>\n",
       "      <td>David Silver, Aja Huang, Chris J. Maddison, Ar...</td>\n",
       "      <td>Highly cited</td>\n",
       "      <td>NaN</td>\n",
       "      <td>NaN</td>\n",
       "      <td>https://www.nature.com/articles/nature16961</td>\n",
       "      <td>14733.0</td>\n",
       "      <td>Mastering the game of Go with deep neural netw...</td>\n",
       "      <td>...</td>\n",
       "      <td>NaN</td>\n",
       "      <td>Industry</td>\n",
       "      <td>NaN</td>\n",
       "      <td>NaN</td>\n",
       "      <td>NaN</td>\n",
       "      <td>NaN</td>\n",
       "      <td>NaN</td>\n",
       "      <td>NaN</td>\n",
       "      <td>NaN</td>\n",
       "      <td>NaN</td>\n",
       "    </tr>\n",
       "    <tr>\n",
       "      <th>1135</th>\n",
       "      <td>ResNet-152 (ImageNet)</td>\n",
       "      <td>Vision</td>\n",
       "      <td>Image classification</td>\n",
       "      <td>Kaiming He, Xiangyu Zhang, Shaoqing Ren, Jian Sun</td>\n",
       "      <td>Highly cited</td>\n",
       "      <td>NaN</td>\n",
       "      <td>NaN</td>\n",
       "      <td>https://arxiv.org/abs/1512.03385</td>\n",
       "      <td>154061.0</td>\n",
       "      <td>Deep Residual Learning for Image Recognition</td>\n",
       "      <td>...</td>\n",
       "      <td>NaN</td>\n",
       "      <td>Industry</td>\n",
       "      <td>NaN</td>\n",
       "      <td>NaN</td>\n",
       "      <td>NaN</td>\n",
       "      <td>NaN</td>\n",
       "      <td>NaN</td>\n",
       "      <td>NaN</td>\n",
       "      <td>NaN</td>\n",
       "      <td>NaN</td>\n",
       "    </tr>\n",
       "    <tr>\n",
       "      <th>1137</th>\n",
       "      <td>DeepSpeech2 (English)</td>\n",
       "      <td>Speech</td>\n",
       "      <td>Speech recognition</td>\n",
       "      <td>Dario Amodei, Rishita Anubhai, Eric Battenberg...</td>\n",
       "      <td>Highly cited</td>\n",
       "      <td>NaN</td>\n",
       "      <td>NaN</td>\n",
       "      <td>https://arxiv.org/abs/1512.02595</td>\n",
       "      <td>2741.0</td>\n",
       "      <td>Deep Speech 2: End-to-End Speech Recognition i...</td>\n",
       "      <td>...</td>\n",
       "      <td>NaN</td>\n",
       "      <td>Industry</td>\n",
       "      <td>NaN</td>\n",
       "      <td>NaN</td>\n",
       "      <td>NaN</td>\n",
       "      <td>301.0</td>\n",
       "      <td>NaN</td>\n",
       "      <td>NaN</td>\n",
       "      <td>NaN</td>\n",
       "      <td>2.856824e+02</td>\n",
       "    </tr>\n",
       "    <tr>\n",
       "      <th>1141</th>\n",
       "      <td>AlphaGo Fan</td>\n",
       "      <td>Games</td>\n",
       "      <td>Go</td>\n",
       "      <td>David Silver, Aja Huang, Chris J. Maddison, Ar...</td>\n",
       "      <td>Highly cited,SOTA improvement</td>\n",
       "      <td>NaN</td>\n",
       "      <td>NaN</td>\n",
       "      <td>https://www.nature.com/articles/nature24270.ep...</td>\n",
       "      <td>14733.0</td>\n",
       "      <td>Mastering the game of Go with deep neural netw...</td>\n",
       "      <td>...</td>\n",
       "      <td>NaN</td>\n",
       "      <td>Industry</td>\n",
       "      <td>NaN</td>\n",
       "      <td>NaN</td>\n",
       "      <td>NaN</td>\n",
       "      <td>NaN</td>\n",
       "      <td>NaN</td>\n",
       "      <td>NaN</td>\n",
       "      <td>NaN</td>\n",
       "      <td>NaN</td>\n",
       "    </tr>\n",
       "  </tbody>\n",
       "</table>\n",
       "<p>148 rows × 57 columns</p>\n",
       "</div>"
      ],
      "text/plain": [
       "                     System      Domain  \\\n",
       "39             Gemini Ultra  Multimodal   \n",
       "46                 Qwen-72B    Language   \n",
       "54             Inflection-2    Language   \n",
       "59            Nemotron-3-8B    Language   \n",
       "83                   Yi-34B    Language   \n",
       "...                     ...         ...   \n",
       "1095                   GNMT    Language   \n",
       "1131            AlphaGo Lee       Games   \n",
       "1135  ResNet-152 (ImageNet)      Vision   \n",
       "1137  DeepSpeech2 (English)      Speech   \n",
       "1141            AlphaGo Fan       Games   \n",
       "\n",
       "                                                   Task  \\\n",
       "39    Language modelling,Visual question answering,C...   \n",
       "46                                 Chat,Code generation   \n",
       "54                                   Language modelling   \n",
       "59                             Chat,Language generation   \n",
       "83                                                 Chat   \n",
       "...                                                 ...   \n",
       "1095                                        Translation   \n",
       "1131                                                 Go   \n",
       "1135                               Image classification   \n",
       "1137                                 Speech recognition   \n",
       "1141                                                 Go   \n",
       "\n",
       "                                                Authors  \\\n",
       "39                                          Gemini Team   \n",
       "46    Jinze Bai, Shuai Bai, Yunfei Chu, Zeyu Cui, Ka...   \n",
       "54                                                  NaN   \n",
       "59                                                  NaN   \n",
       "83                                                  NaN   \n",
       "...                                                 ...   \n",
       "1095  Yonghui Wu, Mike Schuster, Zhifeng Chen, Quoc ...   \n",
       "1131  David Silver, Aja Huang, Chris J. Maddison, Ar...   \n",
       "1135  Kaiming He, Xiangyu Zhang, Shaoqing Ren, Jian Sun   \n",
       "1137  Dario Amodei, Rishita Anubhai, Eric Battenberg...   \n",
       "1141  David Silver, Aja Huang, Chris J. Maddison, Ar...   \n",
       "\n",
       "                Notability criteria  \\\n",
       "39                 SOTA improvement   \n",
       "46                 SOTA improvement   \n",
       "54                  Significant use   \n",
       "59                 SOTA improvement   \n",
       "83                  Significant use   \n",
       "...                             ...   \n",
       "1095                   Highly cited   \n",
       "1131                   Highly cited   \n",
       "1135                   Highly cited   \n",
       "1137                   Highly cited   \n",
       "1141  Highly cited,SOTA improvement   \n",
       "\n",
       "                              Notability criteria notes  \\\n",
       "39    \" Evaluation on a broad range of benchmarks sh...   \n",
       "46    SOTA on several Chinese benchmarks, with highe...   \n",
       "54    Inflection-2 either already powers Pi or soon ...   \n",
       "59    \"The Nemotron-3-8B-QA model offers state-of-th...   \n",
       "83    2nd most popular model on HuggingFace: https:/...   \n",
       "...                                                 ...   \n",
       "1095                                                NaN   \n",
       "1131                                                NaN   \n",
       "1135                                                NaN   \n",
       "1137                                                NaN   \n",
       "1141                                                NaN   \n",
       "\n",
       "             Model accessibility  \\\n",
       "39        Hosted access (no API)   \n",
       "46    Permissive license (depr.)   \n",
       "54                    API access   \n",
       "59    Permissive license (depr.)   \n",
       "83    Permissive license (depr.)   \n",
       "...                          ...   \n",
       "1095                         NaN   \n",
       "1131                         NaN   \n",
       "1135                         NaN   \n",
       "1137                         NaN   \n",
       "1141                         NaN   \n",
       "\n",
       "                                                   Link  Citations  \\\n",
       "39    https://storage.googleapis.com/deepmind-media/...      252.0   \n",
       "46                 https://huggingface.co/Qwen/Qwen-72B        NaN   \n",
       "54                   https://inflection.ai/inflection-2        NaN   \n",
       "59    https://developer.nvidia.com/blog/nvidia-ai-fo...        NaN   \n",
       "83                     https://arxiv.org/abs/2403.04652        NaN   \n",
       "...                                                 ...        ...   \n",
       "1095                   https://arxiv.org/abs/1609.08144     6105.0   \n",
       "1131        https://www.nature.com/articles/nature16961    14733.0   \n",
       "1135                   https://arxiv.org/abs/1512.03385   154061.0   \n",
       "1137                   https://arxiv.org/abs/1512.02595     2741.0   \n",
       "1141  https://www.nature.com/articles/nature24270.ep...    14733.0   \n",
       "\n",
       "                                              Reference  ...  \\\n",
       "39    Gemini: A Family of Highly Capable Multimodal ...  ...   \n",
       "46                                                  NaN  ...   \n",
       "54                       Inflection-2: The Next Step Up  ...   \n",
       "59    NVIDIA AI Foundation Models: Build Custom Ente...  ...   \n",
       "83                                                  NaN  ...   \n",
       "...                                                 ...  ...   \n",
       "1095  Google's Neural Machine Translation System: Br...  ...   \n",
       "1131  Mastering the game of Go with deep neural netw...  ...   \n",
       "1135       Deep Residual Learning for Image Recognition  ...   \n",
       "1137  Deep Speech 2: End-to-End Speech Recognition i...  ...   \n",
       "1141  Mastering the game of Go with deep neural netw...  ...   \n",
       "\n",
       "                                       Batch size notes  \\\n",
       "39                                                  NaN   \n",
       "46    Table 1 https://arxiv.org/abs/2309.16609\\n(thi...   \n",
       "54                                                  NaN   \n",
       "59                                                  NaN   \n",
       "83                                                  NaN   \n",
       "...                                                 ...   \n",
       "1095                                                NaN   \n",
       "1131                                                NaN   \n",
       "1135                                                NaN   \n",
       "1137                                                NaN   \n",
       "1141                                                NaN   \n",
       "\n",
       "     Organization categorization  Foundation model  \\\n",
       "39                      Industry               NaN   \n",
       "46                      Industry               NaN   \n",
       "54                      Industry           checked   \n",
       "59                      Industry               NaN   \n",
       "83                      Industry               NaN   \n",
       "...                          ...               ...   \n",
       "1095                    Industry               NaN   \n",
       "1131                    Industry               NaN   \n",
       "1135                    Industry               NaN   \n",
       "1137                    Industry               NaN   \n",
       "1141                    Industry               NaN   \n",
       "\n",
       "     Training compute lower bound  Training compute upper bound  \\\n",
       "39                            NaN                           NaN   \n",
       "46                            NaN                           NaN   \n",
       "54                            NaN                           NaN   \n",
       "59                            NaN                           NaN   \n",
       "83                            NaN                           NaN   \n",
       "...                           ...                           ...   \n",
       "1095                          NaN                           NaN   \n",
       "1131                          NaN                           NaN   \n",
       "1135                          NaN                           NaN   \n",
       "1137                          NaN                           NaN   \n",
       "1141                          NaN                           NaN   \n",
       "\n",
       "     Training chip-hours Code accessibility Dataset accessibility  \\\n",
       "39           132000000.0                NaN                   NaN   \n",
       "46                   NaN                NaN                   NaN   \n",
       "54                   NaN                NaN                   NaN   \n",
       "59                   NaN                NaN                   NaN   \n",
       "83                   NaN                NaN                   NaN   \n",
       "...                  ...                ...                   ...   \n",
       "1095            414720.0                NaN                   NaN   \n",
       "1131                 NaN                NaN                   NaN   \n",
       "1135                 NaN                NaN                   NaN   \n",
       "1137               301.0                NaN                   NaN   \n",
       "1141                 NaN                NaN                   NaN   \n",
       "\n",
       "      Accessibility notes          Cost  \n",
       "39                    NaN           NaN  \n",
       "46                    NaN           NaN  \n",
       "54                    NaN  1.522783e+07  \n",
       "59                    NaN  5.260907e+05  \n",
       "83                    NaN           NaN  \n",
       "...                   ...           ...  \n",
       "1095                  NaN  8.843781e+04  \n",
       "1131                  NaN           NaN  \n",
       "1135                  NaN           NaN  \n",
       "1137                  NaN  2.856824e+02  \n",
       "1141                  NaN           NaN  \n",
       "\n",
       "[148 rows x 57 columns]"
      ]
     },
     "execution_count": 7,
     "metadata": {},
     "output_type": "execute_result"
    }
   ],
   "source": [
    "cost_df"
   ]
  },
  {
   "cell_type": "code",
   "execution_count": 8,
   "metadata": {
    "ExecuteTime": {
     "end_time": "2024-03-08T01:54:58.104807Z",
     "start_time": "2024-03-08T01:54:57.967995500Z"
    }
   },
   "outputs": [
    {
     "data": {
      "text/plain": [
       "50"
      ]
     },
     "execution_count": 8,
     "metadata": {},
     "output_type": "execute_result"
    }
   ],
   "source": [
    "cost_df['Cost'].notna().sum()"
   ]
  },
  {
   "cell_type": "markdown",
   "metadata": {},
   "source": [
    "Use the below to check data availability for specific systems"
   ]
  },
  {
   "cell_type": "code",
   "execution_count": 9,
   "metadata": {
    "ExecuteTime": {
     "end_time": "2024-03-08T01:54:58.418907200Z",
     "start_time": "2024-03-08T01:54:58.109807800Z"
    }
   },
   "outputs": [],
   "source": [
    "# system = 'WizardLM-7B'\n",
    "# row = cost_df.loc[cost_df['System'] == system]\n",
    "# print('Cost:', row['Cost'].values[0])\n",
    "# print('Training hardware:', row['Training hardware'].values[0])\n",
    "# print('Training time (hours):', row['Training time (hours)'].values[0])\n",
    "# print('Hardware quantity:', row['Hardware quantity'].values[0])\n",
    "# print('Hardware utilization:', row['Hardware utilization'].values[0])"
   ]
  },
  {
   "cell_type": "markdown",
   "metadata": {},
   "source": [
    "# Apply inflation adjustment"
   ]
  },
  {
   "cell_type": "code",
   "execution_count": 10,
   "metadata": {
    "ExecuteTime": {
     "end_time": "2024-03-08T01:54:58.434584400Z",
     "start_time": "2024-03-08T01:54:58.277972800Z"
    }
   },
   "outputs": [],
   "source": [
    "# TODO move to function"
   ]
  },
  {
   "cell_type": "code",
   "execution_count": 11,
   "metadata": {
    "ExecuteTime": {
     "end_time": "2024-03-08T01:54:58.565500700Z",
     "start_time": "2024-03-08T01:54:58.403286900Z"
    }
   },
   "outputs": [
    {
     "data": {
      "text/plain": [
       "39     2023-12-06\n",
       "46     2023-11-30\n",
       "54     2023-11-22\n",
       "59     2023-11-15\n",
       "83     2023-11-02\n",
       "          ...    \n",
       "1095   2016-09-26\n",
       "1131   2016-01-27\n",
       "1135   2015-12-10\n",
       "1137   2015-12-08\n",
       "1141   2015-10-01\n",
       "Name: Publication date, Length: 148, dtype: datetime64[ns]"
      ]
     },
     "execution_count": 11,
     "metadata": {},
     "output_type": "execute_result"
    }
   ],
   "source": [
    "cost_df['Publication date']"
   ]
  },
  {
   "cell_type": "code",
   "execution_count": 12,
   "metadata": {
    "ExecuteTime": {
     "end_time": "2024-03-08T01:54:58.726981500Z",
     "start_time": "2024-03-08T01:54:58.565500700Z"
    }
   },
   "outputs": [],
   "source": [
    "from_year_month = cost_df['Publication date'].apply(str)\n",
    "cost_df['Publication date'] = from_year_month"
   ]
  },
  {
   "cell_type": "code",
   "execution_count": 13,
   "metadata": {
    "ExecuteTime": {
     "end_time": "2024-03-08T01:54:58.913441700Z",
     "start_time": "2024-03-08T01:54:58.711492Z"
    }
   },
   "outputs": [
    {
     "data": {
      "text/plain": [
       "39      2023-12-06 00:00:00\n",
       "46      2023-11-30 00:00:00\n",
       "54      2023-11-22 00:00:00\n",
       "59      2023-11-15 00:00:00\n",
       "83      2023-11-02 00:00:00\n",
       "               ...         \n",
       "1095    2016-09-26 00:00:00\n",
       "1131    2016-01-27 00:00:00\n",
       "1135    2015-12-10 00:00:00\n",
       "1137    2015-12-08 00:00:00\n",
       "1141    2015-10-01 00:00:00\n",
       "Name: Publication date, Length: 148, dtype: object"
      ]
     },
     "execution_count": 13,
     "metadata": {},
     "output_type": "execute_result"
    }
   ],
   "source": [
    "cost_df['Publication date']"
   ]
  },
  {
   "cell_type": "code",
   "execution_count": 14,
   "metadata": {
    "ExecuteTime": {
     "end_time": "2024-03-08T01:54:59.049781600Z",
     "start_time": "2024-03-08T01:54:58.881981400Z"
    }
   },
   "outputs": [],
   "source": [
    "cost_df = adjust_column_for_inflation(cost_df, 'Cost', 'data/PCU518210518210.csv', '2023-12-01')"
   ]
  },
  {
   "cell_type": "code",
   "execution_count": 15,
   "metadata": {
    "ExecuteTime": {
     "end_time": "2024-03-08T01:54:59.177190500Z",
     "start_time": "2024-03-08T01:54:59.049781600Z"
    }
   },
   "outputs": [
    {
     "data": {
      "text/plain": [
       "54      1.526348e+07\n",
       "59      5.273223e+05\n",
       "135     2.070841e+07\n",
       "174     2.716255e+06\n",
       "175     1.218116e+06\n",
       "176     2.507885e+05\n",
       "177     4.776924e+05\n",
       "186     3.514393e+06\n",
       "225     4.093330e+05\n",
       "256     7.404675e+05\n",
       "263     6.700879e+07\n",
       "264     6.296889e+05\n",
       "277     1.216503e+05\n",
       "279     1.153161e+06\n",
       "280     9.373257e+04\n",
       "323     7.286795e+06\n",
       "329     9.839152e+05\n",
       "334     1.395937e+06\n",
       "340     1.766929e+05\n",
       "374     2.238539e+06\n",
       "375     1.316433e+06\n",
       "376     4.193904e+05\n",
       "389     5.313458e+04\n",
       "439     1.034953e+06\n",
       "443     1.723917e+05\n",
       "472     2.501884e+05\n",
       "495     1.464774e+05\n",
       "514     1.440870e+05\n",
       "542     4.407789e+06\n",
       "549     7.577638e+05\n",
       "593     1.368188e+05\n",
       "608     1.237849e+05\n",
       "630     3.299255e+04\n",
       "646     3.277484e+04\n",
       "655     2.407802e+05\n",
       "682     1.131343e+04\n",
       "717     1.988883e+05\n",
       "718     5.369984e+04\n",
       "724     3.634835e+06\n",
       "759     9.439069e+04\n",
       "809     6.225247e+05\n",
       "810     1.743262e+05\n",
       "835     1.280895e+05\n",
       "982     2.065039e+04\n",
       "1041    1.666719e+04\n",
       "1083    9.117187e+02\n",
       "1088    6.175641e+01\n",
       "1094    1.005997e+04\n",
       "1095    9.657571e+04\n",
       "1137    3.178016e+02\n",
       "Name: Cost (inflation-adjusted), dtype: float64"
      ]
     },
     "execution_count": 15,
     "metadata": {},
     "output_type": "execute_result"
    }
   ],
   "source": [
    "cost_df['Cost (inflation-adjusted)'].dropna()"
   ]
  },
  {
   "cell_type": "code",
   "execution_count": 16,
   "metadata": {
    "ExecuteTime": {
     "end_time": "2024-03-08T01:54:59.344452300Z",
     "start_time": "2024-03-08T01:54:59.182457200Z"
    }
   },
   "outputs": [
    {
     "data": {
      "text/plain": [
       "50"
      ]
     },
     "execution_count": 16,
     "metadata": {},
     "output_type": "execute_result"
    }
   ],
   "source": [
    "cost_df['Cost (inflation-adjusted)'].notna().sum()"
   ]
  },
  {
   "cell_type": "markdown",
   "metadata": {},
   "source": [
    "# Regression"
   ]
  },
  {
   "cell_type": "code",
   "execution_count": 17,
   "metadata": {
    "ExecuteTime": {
     "end_time": "2024-03-08T01:54:59.490722200Z",
     "start_time": "2024-03-08T01:54:59.337705700Z"
    }
   },
   "outputs": [],
   "source": [
    "cost_df['Publication date (float)'] = datetime_to_float_year(pd.to_datetime(cost_df['Publication date']))"
   ]
  },
  {
   "cell_type": "code",
   "execution_count": 18,
   "metadata": {
    "ExecuteTime": {
     "end_time": "2024-03-08T01:54:59.700207700Z",
     "start_time": "2024-03-08T01:54:59.462346300Z"
    }
   },
   "outputs": [
    {
     "data": {
      "text/html": [
       "<table class=\"simpletable\">\n",
       "<caption>OLS Regression Results</caption>\n",
       "<tr>\n",
       "  <th>Dep. Variable:</th>            <td>y</td>        <th>  R-squared:         </th> <td>   0.559</td>\n",
       "</tr>\n",
       "<tr>\n",
       "  <th>Model:</th>                   <td>OLS</td>       <th>  Adj. R-squared:    </th> <td>   0.550</td>\n",
       "</tr>\n",
       "<tr>\n",
       "  <th>Method:</th>             <td>Least Squares</td>  <th>  F-statistic:       </th> <td>   60.95</td>\n",
       "</tr>\n",
       "<tr>\n",
       "  <th>Date:</th>             <td>Wed, 24 Apr 2024</td> <th>  Prob (F-statistic):</th> <td>4.31e-10</td>\n",
       "</tr>\n",
       "<tr>\n",
       "  <th>Time:</th>                 <td>18:53:23</td>     <th>  Log-Likelihood:    </th> <td> -55.856</td>\n",
       "</tr>\n",
       "<tr>\n",
       "  <th>No. Observations:</th>      <td>    50</td>      <th>  AIC:               </th> <td>   115.7</td>\n",
       "</tr>\n",
       "<tr>\n",
       "  <th>Df Residuals:</th>          <td>    48</td>      <th>  BIC:               </th> <td>   119.5</td>\n",
       "</tr>\n",
       "<tr>\n",
       "  <th>Df Model:</th>              <td>     1</td>      <th>                     </th>     <td> </td>   \n",
       "</tr>\n",
       "<tr>\n",
       "  <th>Covariance Type:</th>      <td>nonrobust</td>    <th>                     </th>     <td> </td>   \n",
       "</tr>\n",
       "</table>\n",
       "<table class=\"simpletable\">\n",
       "<tr>\n",
       "    <td></td>       <th>coef</th>     <th>std err</th>      <th>t</th>      <th>P>|t|</th>  <th>[0.025</th>    <th>0.975]</th>  \n",
       "</tr>\n",
       "<tr>\n",
       "  <th>const</th> <td> -771.9276</td> <td>   99.566</td> <td>   -7.753</td> <td> 0.000</td> <td> -972.118</td> <td> -571.738</td>\n",
       "</tr>\n",
       "<tr>\n",
       "  <th>x1</th>    <td>    0.3845</td> <td>    0.049</td> <td>    7.807</td> <td> 0.000</td> <td>    0.285</td> <td>    0.484</td>\n",
       "</tr>\n",
       "</table>\n",
       "<table class=\"simpletable\">\n",
       "<tr>\n",
       "  <th>Omnibus:</th>       <td> 0.701</td> <th>  Durbin-Watson:     </th> <td>   2.091</td>\n",
       "</tr>\n",
       "<tr>\n",
       "  <th>Prob(Omnibus):</th> <td> 0.704</td> <th>  Jarque-Bera (JB):  </th> <td>   0.502</td>\n",
       "</tr>\n",
       "<tr>\n",
       "  <th>Skew:</th>          <td> 0.243</td> <th>  Prob(JB):          </th> <td>   0.778</td>\n",
       "</tr>\n",
       "<tr>\n",
       "  <th>Kurtosis:</th>      <td> 2.937</td> <th>  Cond. No.          </th> <td>1.89e+06</td>\n",
       "</tr>\n",
       "</table><br/><br/>Notes:<br/>[1] Standard Errors assume that the covariance matrix of the errors is correctly specified.<br/>[2] The condition number is large, 1.89e+06. This might indicate that there are<br/>strong multicollinearity or other numerical problems."
      ],
      "text/latex": [
       "\\begin{center}\n",
       "\\begin{tabular}{lclc}\n",
       "\\toprule\n",
       "\\textbf{Dep. Variable:}    &        y         & \\textbf{  R-squared:         } &     0.559   \\\\\n",
       "\\textbf{Model:}            &       OLS        & \\textbf{  Adj. R-squared:    } &     0.550   \\\\\n",
       "\\textbf{Method:}           &  Least Squares   & \\textbf{  F-statistic:       } &     60.95   \\\\\n",
       "\\textbf{Date:}             & Wed, 24 Apr 2024 & \\textbf{  Prob (F-statistic):} &  4.31e-10   \\\\\n",
       "\\textbf{Time:}             &     18:53:23     & \\textbf{  Log-Likelihood:    } &   -55.856   \\\\\n",
       "\\textbf{No. Observations:} &          50      & \\textbf{  AIC:               } &     115.7   \\\\\n",
       "\\textbf{Df Residuals:}     &          48      & \\textbf{  BIC:               } &     119.5   \\\\\n",
       "\\textbf{Df Model:}         &           1      & \\textbf{                     } &             \\\\\n",
       "\\textbf{Covariance Type:}  &    nonrobust     & \\textbf{                     } &             \\\\\n",
       "\\bottomrule\n",
       "\\end{tabular}\n",
       "\\begin{tabular}{lcccccc}\n",
       "               & \\textbf{coef} & \\textbf{std err} & \\textbf{t} & \\textbf{P$> |$t$|$} & \\textbf{[0.025} & \\textbf{0.975]}  \\\\\n",
       "\\midrule\n",
       "\\textbf{const} &    -771.9276  &       99.566     &    -7.753  &         0.000        &     -972.118    &     -571.738     \\\\\n",
       "\\textbf{x1}    &       0.3845  &        0.049     &     7.807  &         0.000        &        0.285    &        0.484     \\\\\n",
       "\\bottomrule\n",
       "\\end{tabular}\n",
       "\\begin{tabular}{lclc}\n",
       "\\textbf{Omnibus:}       &  0.701 & \\textbf{  Durbin-Watson:     } &    2.091  \\\\\n",
       "\\textbf{Prob(Omnibus):} &  0.704 & \\textbf{  Jarque-Bera (JB):  } &    0.502  \\\\\n",
       "\\textbf{Skew:}          &  0.243 & \\textbf{  Prob(JB):          } &    0.778  \\\\\n",
       "\\textbf{Kurtosis:}      &  2.937 & \\textbf{  Cond. No.          } & 1.89e+06  \\\\\n",
       "\\bottomrule\n",
       "\\end{tabular}\n",
       "%\\caption{OLS Regression Results}\n",
       "\\end{center}\n",
       "\n",
       "Notes: \\newline\n",
       " [1] Standard Errors assume that the covariance matrix of the errors is correctly specified. \\newline\n",
       " [2] The condition number is large, 1.89e+06. This might indicate that there are \\newline\n",
       " strong multicollinearity or other numerical problems."
      ],
      "text/plain": [
       "<class 'statsmodels.iolib.summary.Summary'>\n",
       "\"\"\"\n",
       "                            OLS Regression Results                            \n",
       "==============================================================================\n",
       "Dep. Variable:                      y   R-squared:                       0.559\n",
       "Model:                            OLS   Adj. R-squared:                  0.550\n",
       "Method:                 Least Squares   F-statistic:                     60.95\n",
       "Date:                Wed, 24 Apr 2024   Prob (F-statistic):           4.31e-10\n",
       "Time:                        18:53:23   Log-Likelihood:                -55.856\n",
       "No. Observations:                  50   AIC:                             115.7\n",
       "Df Residuals:                      48   BIC:                             119.5\n",
       "Df Model:                           1                                         \n",
       "Covariance Type:            nonrobust                                         \n",
       "==============================================================================\n",
       "                 coef    std err          t      P>|t|      [0.025      0.975]\n",
       "------------------------------------------------------------------------------\n",
       "const       -771.9276     99.566     -7.753      0.000    -972.118    -571.738\n",
       "x1             0.3845      0.049      7.807      0.000       0.285       0.484\n",
       "==============================================================================\n",
       "Omnibus:                        0.701   Durbin-Watson:                   2.091\n",
       "Prob(Omnibus):                  0.704   Jarque-Bera (JB):                0.502\n",
       "Skew:                           0.243   Prob(JB):                        0.778\n",
       "Kurtosis:                       2.937   Cond. No.                     1.89e+06\n",
       "==============================================================================\n",
       "\n",
       "Notes:\n",
       "[1] Standard Errors assume that the covariance matrix of the errors is correctly specified.\n",
       "[2] The condition number is large, 1.89e+06. This might indicate that there are\n",
       "strong multicollinearity or other numerical problems.\n",
       "\"\"\""
      ]
     },
     "execution_count": 18,
     "metadata": {},
     "output_type": "execute_result"
    }
   ],
   "source": [
    "reg_results = fit_ols_regression(cost_df, ['Publication date (float)'], 'Cost (inflation-adjusted)', logy=True)\n",
    "reg_results.summary()"
   ]
  },
  {
   "cell_type": "code",
   "execution_count": 19,
   "metadata": {
    "ExecuteTime": {
     "end_time": "2024-03-08T01:55:00.548785500Z",
     "start_time": "2024-03-08T01:54:59.700207700Z"
    }
   },
   "outputs": [
    {
     "name": "stdout",
     "output_type": "stream",
     "text": [
      "0.38 OOMs/year (95% CI: 0.29, 0.48)\n",
      "2.4x/year (95% CI: 1.9x, 3.0x)\n",
      "doubling time of 9 months (95% CI: 7, 13)\n"
     ]
    }
   ],
   "source": [
    "print_growth_rates(reg_results)"
   ]
  },
  {
   "cell_type": "code",
   "execution_count": 20,
   "metadata": {
    "ExecuteTime": {
     "end_time": "2024-03-08T01:55:00.548785500Z",
     "start_time": "2024-03-08T01:54:59.809703300Z"
    }
   },
   "outputs": [
    {
     "data": {
      "text/html": [
       "<div>\n",
       "<style scoped>\n",
       "    .dataframe tbody tr th:only-of-type {\n",
       "        vertical-align: middle;\n",
       "    }\n",
       "\n",
       "    .dataframe tbody tr th {\n",
       "        vertical-align: top;\n",
       "    }\n",
       "\n",
       "    .dataframe thead th {\n",
       "        text-align: right;\n",
       "    }\n",
       "</style>\n",
       "<table border=\"1\" class=\"dataframe\">\n",
       "  <thead>\n",
       "    <tr style=\"text-align: right;\">\n",
       "      <th></th>\n",
       "      <th>Publication date (float)</th>\n",
       "    </tr>\n",
       "  </thead>\n",
       "  <tbody>\n",
       "    <tr>\n",
       "      <th>0</th>\n",
       "      <td>2015.00000</td>\n",
       "    </tr>\n",
       "    <tr>\n",
       "      <th>1</th>\n",
       "      <td>2015.10101</td>\n",
       "    </tr>\n",
       "    <tr>\n",
       "      <th>2</th>\n",
       "      <td>2015.20202</td>\n",
       "    </tr>\n",
       "    <tr>\n",
       "      <th>3</th>\n",
       "      <td>2015.30303</td>\n",
       "    </tr>\n",
       "    <tr>\n",
       "      <th>4</th>\n",
       "      <td>2015.40404</td>\n",
       "    </tr>\n",
       "    <tr>\n",
       "      <th>...</th>\n",
       "      <td>...</td>\n",
       "    </tr>\n",
       "    <tr>\n",
       "      <th>95</th>\n",
       "      <td>2024.59596</td>\n",
       "    </tr>\n",
       "    <tr>\n",
       "      <th>96</th>\n",
       "      <td>2024.69697</td>\n",
       "    </tr>\n",
       "    <tr>\n",
       "      <th>97</th>\n",
       "      <td>2024.79798</td>\n",
       "    </tr>\n",
       "    <tr>\n",
       "      <th>98</th>\n",
       "      <td>2024.89899</td>\n",
       "    </tr>\n",
       "    <tr>\n",
       "      <th>99</th>\n",
       "      <td>2025.00000</td>\n",
       "    </tr>\n",
       "  </tbody>\n",
       "</table>\n",
       "<p>100 rows × 1 columns</p>\n",
       "</div>"
      ],
      "text/plain": [
       "    Publication date (float)\n",
       "0                 2015.00000\n",
       "1                 2015.10101\n",
       "2                 2015.20202\n",
       "3                 2015.30303\n",
       "4                 2015.40404\n",
       "..                       ...\n",
       "95                2024.59596\n",
       "96                2024.69697\n",
       "97                2024.79798\n",
       "98                2024.89899\n",
       "99                2025.00000\n",
       "\n",
       "[100 rows x 1 columns]"
      ]
     },
     "execution_count": 20,
     "metadata": {},
     "output_type": "execute_result"
    }
   ],
   "source": [
    "pred_start_year = 2015\n",
    "pred_end_year = 2025\n",
    "pred_start_date = f'{pred_start_year}-01-01'\n",
    "pred_end_date = f'{pred_end_year}-01-01'\n",
    "\n",
    "pred_years = pd.DataFrame({'Publication date (float)': np.linspace(pred_start_year, pred_end_year, 100)})\n",
    "pred_years"
   ]
  },
  {
   "cell_type": "code",
   "execution_count": 21,
   "metadata": {
    "ExecuteTime": {
     "end_time": "2024-03-08T01:55:00.564420400Z",
     "start_time": "2024-03-08T01:54:59.920051200Z"
    }
   },
   "outputs": [
    {
     "data": {
      "text/html": [
       "<div>\n",
       "<style scoped>\n",
       "    .dataframe tbody tr th:only-of-type {\n",
       "        vertical-align: middle;\n",
       "    }\n",
       "\n",
       "    .dataframe tbody tr th {\n",
       "        vertical-align: top;\n",
       "    }\n",
       "\n",
       "    .dataframe thead th {\n",
       "        text-align: right;\n",
       "    }\n",
       "</style>\n",
       "<table border=\"1\" class=\"dataframe\">\n",
       "  <thead>\n",
       "    <tr style=\"text-align: right;\">\n",
       "      <th></th>\n",
       "      <th>mean</th>\n",
       "      <th>mean_se</th>\n",
       "      <th>mean_ci_lower</th>\n",
       "      <th>mean_ci_upper</th>\n",
       "      <th>obs_ci_lower</th>\n",
       "      <th>obs_ci_upper</th>\n",
       "      <th>Publication date (float)</th>\n",
       "      <th>Publication date</th>\n",
       "    </tr>\n",
       "  </thead>\n",
       "  <tbody>\n",
       "    <tr>\n",
       "      <th>0</th>\n",
       "      <td>2.899768</td>\n",
       "      <td>0.335958</td>\n",
       "      <td>2.224279</td>\n",
       "      <td>3.575256</td>\n",
       "      <td>1.238754</td>\n",
       "      <td>4.560782</td>\n",
       "      <td>2015.00000</td>\n",
       "      <td>2015-01-01</td>\n",
       "    </tr>\n",
       "    <tr>\n",
       "      <th>1</th>\n",
       "      <td>2.938609</td>\n",
       "      <td>0.331244</td>\n",
       "      <td>2.272598</td>\n",
       "      <td>3.604620</td>\n",
       "      <td>1.281427</td>\n",
       "      <td>4.595791</td>\n",
       "      <td>2015.10101</td>\n",
       "      <td>2015-02-06</td>\n",
       "    </tr>\n",
       "    <tr>\n",
       "      <th>2</th>\n",
       "      <td>2.977450</td>\n",
       "      <td>0.326538</td>\n",
       "      <td>2.320901</td>\n",
       "      <td>3.634000</td>\n",
       "      <td>1.324048</td>\n",
       "      <td>4.630853</td>\n",
       "      <td>2015.20202</td>\n",
       "      <td>2015-03-15</td>\n",
       "    </tr>\n",
       "    <tr>\n",
       "      <th>3</th>\n",
       "      <td>3.016292</td>\n",
       "      <td>0.321840</td>\n",
       "      <td>2.369188</td>\n",
       "      <td>3.663396</td>\n",
       "      <td>1.366617</td>\n",
       "      <td>4.665966</td>\n",
       "      <td>2015.30303</td>\n",
       "      <td>2015-04-21</td>\n",
       "    </tr>\n",
       "    <tr>\n",
       "      <th>4</th>\n",
       "      <td>3.055133</td>\n",
       "      <td>0.317151</td>\n",
       "      <td>2.417458</td>\n",
       "      <td>3.692808</td>\n",
       "      <td>1.409134</td>\n",
       "      <td>4.701132</td>\n",
       "      <td>2015.40404</td>\n",
       "      <td>2015-05-28</td>\n",
       "    </tr>\n",
       "    <tr>\n",
       "      <th>...</th>\n",
       "      <td>...</td>\n",
       "      <td>...</td>\n",
       "      <td>...</td>\n",
       "      <td>...</td>\n",
       "      <td>...</td>\n",
       "      <td>...</td>\n",
       "      <td>...</td>\n",
       "      <td>...</td>\n",
       "    </tr>\n",
       "    <tr>\n",
       "      <th>95</th>\n",
       "      <td>6.589699</td>\n",
       "      <td>0.187443</td>\n",
       "      <td>6.212819</td>\n",
       "      <td>6.966579</td>\n",
       "      <td>5.026139</td>\n",
       "      <td>8.153260</td>\n",
       "      <td>2024.59596</td>\n",
       "      <td>2024-08-06</td>\n",
       "    </tr>\n",
       "    <tr>\n",
       "      <th>96</th>\n",
       "      <td>6.628541</td>\n",
       "      <td>0.191554</td>\n",
       "      <td>6.243395</td>\n",
       "      <td>7.013686</td>\n",
       "      <td>5.062967</td>\n",
       "      <td>8.194114</td>\n",
       "      <td>2024.69697</td>\n",
       "      <td>2024-09-12</td>\n",
       "    </tr>\n",
       "    <tr>\n",
       "      <th>97</th>\n",
       "      <td>6.667382</td>\n",
       "      <td>0.195705</td>\n",
       "      <td>6.273891</td>\n",
       "      <td>7.060873</td>\n",
       "      <td>5.099735</td>\n",
       "      <td>8.235029</td>\n",
       "      <td>2024.79798</td>\n",
       "      <td>2024-10-19</td>\n",
       "    </tr>\n",
       "    <tr>\n",
       "      <th>98</th>\n",
       "      <td>6.706223</td>\n",
       "      <td>0.199893</td>\n",
       "      <td>6.304311</td>\n",
       "      <td>7.108136</td>\n",
       "      <td>5.136441</td>\n",
       "      <td>8.276006</td>\n",
       "      <td>2024.89899</td>\n",
       "      <td>2024-11-25</td>\n",
       "    </tr>\n",
       "    <tr>\n",
       "      <th>99</th>\n",
       "      <td>6.745065</td>\n",
       "      <td>0.204117</td>\n",
       "      <td>6.334659</td>\n",
       "      <td>7.155470</td>\n",
       "      <td>5.173087</td>\n",
       "      <td>8.317043</td>\n",
       "      <td>2025.00000</td>\n",
       "      <td>2025-01-01</td>\n",
       "    </tr>\n",
       "  </tbody>\n",
       "</table>\n",
       "<p>100 rows × 8 columns</p>\n",
       "</div>"
      ],
      "text/plain": [
       "        mean   mean_se  mean_ci_lower  mean_ci_upper  obs_ci_lower  \\\n",
       "0   2.899768  0.335958       2.224279       3.575256      1.238754   \n",
       "1   2.938609  0.331244       2.272598       3.604620      1.281427   \n",
       "2   2.977450  0.326538       2.320901       3.634000      1.324048   \n",
       "3   3.016292  0.321840       2.369188       3.663396      1.366617   \n",
       "4   3.055133  0.317151       2.417458       3.692808      1.409134   \n",
       "..       ...       ...            ...            ...           ...   \n",
       "95  6.589699  0.187443       6.212819       6.966579      5.026139   \n",
       "96  6.628541  0.191554       6.243395       7.013686      5.062967   \n",
       "97  6.667382  0.195705       6.273891       7.060873      5.099735   \n",
       "98  6.706223  0.199893       6.304311       7.108136      5.136441   \n",
       "99  6.745065  0.204117       6.334659       7.155470      5.173087   \n",
       "\n",
       "    obs_ci_upper  Publication date (float) Publication date  \n",
       "0       4.560782                2015.00000       2015-01-01  \n",
       "1       4.595791                2015.10101       2015-02-06  \n",
       "2       4.630853                2015.20202       2015-03-15  \n",
       "3       4.665966                2015.30303       2015-04-21  \n",
       "4       4.701132                2015.40404       2015-05-28  \n",
       "..           ...                       ...              ...  \n",
       "95      8.153260                2024.59596       2024-08-06  \n",
       "96      8.194114                2024.69697       2024-09-12  \n",
       "97      8.235029                2024.79798       2024-10-19  \n",
       "98      8.276006                2024.89899       2024-11-25  \n",
       "99      8.317043                2025.00000       2025-01-01  \n",
       "\n",
       "[100 rows x 8 columns]"
      ]
     },
     "execution_count": 21,
     "metadata": {},
     "output_type": "execute_result"
    }
   ],
   "source": [
    "\n",
    "predicted_cost_df = get_predictions(reg_results, pred_years, ['Publication date (float)'])\n",
    "predicted_cost_df['Publication date'] = predicted_cost_df['Publication date (float)'].apply(float_year_to_datetime)\n",
    "predicted_cost_df"
   ]
  },
  {
   "cell_type": "markdown",
   "metadata": {},
   "source": [
    "# Plots"
   ]
  },
  {
   "cell_type": "code",
   "execution_count": 22,
   "metadata": {},
   "outputs": [],
   "source": [
    "plot_title_lookup = {\n",
    "    'cloud': 'Cloud compute cost to train large ML systems',\n",
    "    'amortized': 'Amortized cost of hardware to train large ML systems',\n",
    "    'up-front-server-capex': 'Acquisition cost of hardware to train large ML systems',\n",
    "    'hardware-capex-opex': 'Hardware CapEx + OpEx to train large ML systems',\n",
    "}"
   ]
  },
  {
   "cell_type": "code",
   "execution_count": 23,
   "metadata": {
    "ExecuteTime": {
     "end_time": "2024-03-08T01:55:04.230921600Z",
     "start_time": "2024-03-08T01:55:00.065485900Z"
    }
   },
   "outputs": [
    {
     "data": {
      "application/vnd.plotly.v1+json": {
       "config": {
        "plotlyServerURL": "https://plot.ly"
       },
       "data": [
        {
         "hovertemplate": "Publication date=%{x}<br>Cost (inflation-adjusted)=%{y}<br>System=%{text}<extra></extra>",
         "legendgroup": "",
         "marker": {
          "color": "#636efa",
          "symbol": "circle"
         },
         "mode": "markers+text",
         "name": "",
         "orientation": "v",
         "showlegend": false,
         "text": [
          "Gemini Ultra",
          "Qwen-72B",
          "Inflection-2",
          "Nemotron-3-8B",
          "Yi-34B",
          "Skywork-13B",
          "ChatGLM3",
          "XGen-7B",
          "Falcon 180B",
          "Llama 2-70B",
          "Llama 2-34B",
          "Llama 2-7B",
          "Llama 2-13B",
          "Claude 2",
          "xTrimoPGLM -100B",
          "Pangu-Weather",
          "PaLM 2",
          "StarCoder",
          "WizardLM-7B",
          "BloombergGPT",
          "PanGu-Σ",
          "GPT-4",
          "Falcon-40B",
          "LLaMA-13B",
          "LLaMA-65B",
          "LLaMA-7B",
          "ViT-22B",
          "GPT-3.5 (text-davinci-003)",
          "Galactica",
          "BLOOM-176B",
          "Taiyi-Stable Diffusion",
          "U-PaLM (540B)",
          "Whisper",
          "PaLI",
          "BlenderBot 3",
          "GLM-130B",
          "AlexaTM 20B",
          "ESM2-15B",
          "ESM2-3B",
          "NLLB",
          "Minerva (540B)",
          "Parti",
          "CoCa",
          "Imagen",
          "UL2",
          "OPT-175B",
          "Flamingo",
          "Stable Diffusion (LDM-KL-8-G)",
          "PaLM (540B)",
          "Chinchilla",
          "LaMDA",
          "GPT-NeoX-20B",
          "AlphaCode",
          "ERNIE 3.0 Titan",
          "XGLM-7.5B",
          "GLaM",
          "Gopher (280B)",
          "Florence",
          "BASIC-L",
          "T0-XXL",
          "Yuan 1.0",
          "Megatron-Turing NLG 530B",
          "HyperCLOVA",
          "FLAN 137B",
          "GOAT",
          "HuBERT",
          "ERNIE 3.0",
          "ALIGN",
          "DeBERTa",
          "CoAtNet",
          "ByT5-XXL",
          "CogView",
          "ProtT5-XXL",
          "ProtT5-XXL-BFD",
          "ProtBERT-BFD",
          "PLUG",
          "M6-T",
          "Meta Pseudo Labels",
          "MSA Transformer",
          "Switch",
          "DALL-E",
          "CLIP (ViT L/14@336px)",
          "AlphaFold 2",
          "ViT-Huge/14",
          "wave2vec 2.0 LARGE",
          "GBERT-Large",
          "Conformer + Wav2vec 2.0 + Noisy Student",
          "mT5-XXL",
          "GShard (dense)",
          "iGPT-XL",
          "iGPT-L",
          "GPT-3 175B (davinci)",
          "Once for All",
          "ELECTRA",
          "Turing-NLG",
          "ALBERT-xxlarge",
          "Meena",
          "ContextNet + Noisy Student",
          "DD-PPO",
          "OpenAI Five",
          "OpenAI Five Rerun",
          "Noisy Student (L2)",
          "CamemBERT",
          "AlphaStar",
          "T5-3B",
          "T5-11B",
          "Megatron-BERT",
          "Megatron-LM (8.3B)",
          "Megatron-LM (355M)",
          "RoBERTa Large",
          "MnasNet-A3",
          "MnasNet-A1 + SSDLite",
          "BERT-Large-CAS (PTB+WT2+WT103)",
          "SciBERT",
          "GPT-2 (1.5B)",
          "Mesh-TensorFlow Transformer 4.9B (language modelling)",
          "Mesh-TensorFlow Transformer 2.9B (translation)",
          "BERT-Large",
          "BigGAN-deep 512x512",
          "Transformer (Adaptive Input Embeddings)",
          "Big Transformer for Back-Translation",
          "FTW",
          "Population-based DRL",
          "GPT",
          "ResNeXt-101 32x48d",
          "YOLOv3",
          "LSTM (Hebbian, Cache, MbPA)",
          "AmoebaNet-A (F=448)",
          "IMPALA",
          "AlphaZero",
          "PNASNet-5",
          "AlphaGo Zero",
          "OpenAI TI7 DOTA 1v1",
          "JFT",
          "Transformer",
          "MoE",
          "DeepStack",
          "Libratus",
          "AlphaGo Master",
          "PolyNet",
          "NASv3 (CIFAR-10)",
          "BIDAF",
          "Xception",
          "GNMT",
          "AlphaGo Lee",
          "ResNet-152 (ImageNet)",
          "DeepSpeech2 (English)",
          "AlphaGo Fan"
         ],
         "textposition": "top center",
         "type": "scatter",
         "x": [
          "2023-12-06 00:00:00",
          "2023-11-30 00:00:00",
          "2023-11-22 00:00:00",
          "2023-11-15 00:00:00",
          "2023-11-02 00:00:00",
          "2023-10-30 00:00:00",
          "2023-10-27 00:00:00",
          "2023-09-07 00:00:00",
          "2023-09-06 00:00:00",
          "2023-07-18 00:00:00",
          "2023-07-18 00:00:00",
          "2023-07-18 00:00:00",
          "2023-07-18 00:00:00",
          "2023-07-11 00:00:00",
          "2023-07-06 00:00:00",
          "2023-07-05 00:00:00",
          "2023-05-10 00:00:00",
          "2023-05-09 00:00:00",
          "2023-04-24 00:00:00",
          "2023-03-30 00:00:00",
          "2023-03-20 00:00:00",
          "2023-03-15 00:00:00",
          "2023-03-15 00:00:00",
          "2023-02-27 00:00:00",
          "2023-02-24 00:00:00",
          "2023-02-24 00:00:00",
          "2023-02-10 00:00:00",
          "2022-11-28 00:00:00",
          "2022-11-16 00:00:00",
          "2022-11-08 00:00:00",
          "2022-10-31 00:00:00",
          "2022-10-20 00:00:00",
          "2022-09-21 00:00:00",
          "2022-09-14 00:00:00",
          "2022-08-10 00:00:00",
          "2022-08-04 00:00:00",
          "2022-08-02 00:00:00",
          "2022-07-21 00:00:00",
          "2022-07-21 00:00:00",
          "2022-07-06 00:00:00",
          "2022-06-29 00:00:00",
          "2022-06-22 00:00:00",
          "2022-06-14 00:00:00",
          "2022-05-23 00:00:00",
          "2022-05-10 00:00:00",
          "2022-05-02 00:00:00",
          "2022-04-29 00:00:00",
          "2022-04-13 00:00:00",
          "2022-04-04 00:00:00",
          "2022-03-29 00:00:00",
          "2022-02-10 00:00:00",
          "2022-02-09 00:00:00",
          "2022-02-02 00:00:00",
          "2021-12-23 00:00:00",
          "2021-12-20 00:00:00",
          "2021-12-13 00:00:00",
          "2021-12-08 00:00:00",
          "2021-11-22 00:00:00",
          "2021-11-19 00:00:00",
          "2021-10-15 00:00:00",
          "2021-10-12 00:00:00",
          "2021-10-11 00:00:00",
          "2021-09-10 00:00:00",
          "2021-09-03 00:00:00",
          "2021-07-27 00:00:00",
          "2021-07-27 00:00:00",
          "2021-07-05 00:00:00",
          "2021-06-11 00:00:00",
          "2021-06-10 00:00:00",
          "2021-06-09 00:00:00",
          "2021-05-28 00:00:00",
          "2021-05-26 00:00:00",
          "2021-05-04 00:00:00",
          "2021-05-04 00:00:00",
          "2021-05-04 00:00:00",
          "2021-04-19 00:00:00",
          "2021-03-05 00:00:00",
          "2021-03-01 00:00:00",
          "2021-02-13 00:00:00",
          "2021-01-11 00:00:00",
          "2021-01-05 00:00:00",
          "2021-01-05 00:00:00",
          "2020-11-30 00:00:00",
          "2020-10-22 00:00:00",
          "2020-10-22 00:00:00",
          "2020-10-21 00:00:00",
          "2020-10-20 00:00:00",
          "2020-10-20 00:00:00",
          "2020-06-30 00:00:00",
          "2020-06-17 00:00:00",
          "2020-06-17 00:00:00",
          "2020-05-28 00:00:00",
          "2020-04-29 00:00:00",
          "2020-03-23 00:00:00",
          "2020-02-13 00:00:00",
          "2020-02-09 00:00:00",
          "2020-01-28 00:00:00",
          "2020-01-19 00:00:00",
          "2019-12-19 00:00:00",
          "2019-12-13 00:00:00",
          "2019-12-13 00:00:00",
          "2019-11-11 00:00:00",
          "2019-11-10 00:00:00",
          "2019-10-30 00:00:00",
          "2019-10-23 00:00:00",
          "2019-10-23 00:00:00",
          "2019-09-17 00:00:00",
          "2019-09-17 00:00:00",
          "2019-09-17 00:00:00",
          "2019-07-01 00:00:00",
          "2019-05-29 00:00:00",
          "2019-05-29 00:00:00",
          "2019-04-20 00:00:00",
          "2019-03-26 00:00:00",
          "2019-02-14 00:00:00",
          "2018-11-05 00:00:00",
          "2018-11-05 00:00:00",
          "2018-10-11 00:00:00",
          "2018-09-28 00:00:00",
          "2018-09-28 00:00:00",
          "2018-08-28 00:00:00",
          "2018-07-03 00:00:00",
          "2018-07-03 00:00:00",
          "2018-06-01 00:00:00",
          "2018-05-02 00:00:00",
          "2018-04-08 00:00:00",
          "2018-03-27 00:00:00",
          "2018-02-05 00:00:00",
          "2018-02-05 00:00:00",
          "2017-12-05 00:00:00",
          "2017-12-02 00:00:00",
          "2017-10-18 00:00:00",
          "2017-08-11 00:00:00",
          "2017-07-10 00:00:00",
          "2017-06-12 00:00:00",
          "2017-01-23 00:00:00",
          "2017-01-06 00:00:00",
          "2017-01-01 00:00:00",
          "2017-01-01 00:00:00",
          "2016-11-17 00:00:00",
          "2016-11-05 00:00:00",
          "2016-11-05 00:00:00",
          "2016-10-07 00:00:00",
          "2016-09-26 00:00:00",
          "2016-01-27 00:00:00",
          "2015-12-10 00:00:00",
          "2015-12-08 00:00:00",
          "2015-10-01 00:00:00"
         ],
         "xaxis": "x",
         "y": [
          null,
          null,
          15263475.773590136,
          527322.3005579801,
          null,
          null,
          null,
          null,
          20708412.538085584,
          2716254.692584607,
          1218115.695207827,
          250788.52548396436,
          477692.4294932655,
          null,
          3514392.802347099,
          null,
          null,
          409333.03855352546,
          null,
          740467.5471104438,
          null,
          67008790.0121239,
          629688.93770022,
          121650.26099513336,
          1153161.0569120387,
          93732.56756972325,
          null,
          7286795.0112441005,
          983915.1585493111,
          1395936.8746908035,
          176692.8529320462,
          null,
          null,
          null,
          2238539.381960181,
          1316432.8881297612,
          419390.3978701086,
          null,
          null,
          53134.58214556001,
          null,
          null,
          null,
          null,
          null,
          1034952.7708299569,
          null,
          172391.70196530575,
          null,
          null,
          null,
          250188.39281999008,
          null,
          null,
          146477.3838460414,
          null,
          null,
          144086.96989297256,
          null,
          null,
          null,
          4407788.59120657,
          757763.7544782148,
          null,
          null,
          null,
          null,
          null,
          null,
          null,
          null,
          136818.8298887815,
          null,
          null,
          null,
          123784.86010841509,
          32992.54831845231,
          null,
          32774.83860134388,
          null,
          240780.23918637238,
          null,
          null,
          null,
          11313.431244078758,
          null,
          null,
          null,
          null,
          198888.31154876633,
          53699.84411816691,
          3634834.5665169987,
          null,
          null,
          94390.68751667695,
          null,
          null,
          null,
          null,
          null,
          null,
          null,
          null,
          null,
          null,
          null,
          622524.6857246988,
          174326.15398481066,
          null,
          128089.46514996616,
          null,
          null,
          null,
          null,
          null,
          null,
          null,
          null,
          null,
          null,
          null,
          null,
          null,
          null,
          null,
          null,
          null,
          20650.391214329564,
          null,
          null,
          null,
          null,
          null,
          16667.191052612998,
          null,
          null,
          null,
          null,
          null,
          911.7187494700944,
          null,
          61.75640914379368,
          10059.970122528177,
          96575.7131762705,
          null,
          null,
          317.80164651938634,
          null
         ],
         "yaxis": "y"
        }
       ],
       "layout": {
        "autosize": false,
        "font": {
         "size": 14
        },
        "height": 600,
        "legend": {
         "tracegroupgap": 0
        },
        "margin": {
         "b": 10,
         "l": 10,
         "r": 10,
         "t": 40
        },
        "showlegend": false,
        "template": {
         "data": {
          "bar": [
           {
            "error_x": {
             "color": "#2a3f5f"
            },
            "error_y": {
             "color": "#2a3f5f"
            },
            "marker": {
             "line": {
              "color": "#E5ECF6",
              "width": 0.5
             },
             "pattern": {
              "fillmode": "overlay",
              "size": 10,
              "solidity": 0.2
             }
            },
            "type": "bar"
           }
          ],
          "barpolar": [
           {
            "marker": {
             "line": {
              "color": "#E5ECF6",
              "width": 0.5
             },
             "pattern": {
              "fillmode": "overlay",
              "size": 10,
              "solidity": 0.2
             }
            },
            "type": "barpolar"
           }
          ],
          "carpet": [
           {
            "aaxis": {
             "endlinecolor": "#2a3f5f",
             "gridcolor": "white",
             "linecolor": "white",
             "minorgridcolor": "white",
             "startlinecolor": "#2a3f5f"
            },
            "baxis": {
             "endlinecolor": "#2a3f5f",
             "gridcolor": "white",
             "linecolor": "white",
             "minorgridcolor": "white",
             "startlinecolor": "#2a3f5f"
            },
            "type": "carpet"
           }
          ],
          "choropleth": [
           {
            "colorbar": {
             "outlinewidth": 0,
             "ticks": ""
            },
            "type": "choropleth"
           }
          ],
          "contour": [
           {
            "colorbar": {
             "outlinewidth": 0,
             "ticks": ""
            },
            "colorscale": [
             [
              0,
              "#0d0887"
             ],
             [
              0.1111111111111111,
              "#46039f"
             ],
             [
              0.2222222222222222,
              "#7201a8"
             ],
             [
              0.3333333333333333,
              "#9c179e"
             ],
             [
              0.4444444444444444,
              "#bd3786"
             ],
             [
              0.5555555555555556,
              "#d8576b"
             ],
             [
              0.6666666666666666,
              "#ed7953"
             ],
             [
              0.7777777777777778,
              "#fb9f3a"
             ],
             [
              0.8888888888888888,
              "#fdca26"
             ],
             [
              1,
              "#f0f921"
             ]
            ],
            "type": "contour"
           }
          ],
          "contourcarpet": [
           {
            "colorbar": {
             "outlinewidth": 0,
             "ticks": ""
            },
            "type": "contourcarpet"
           }
          ],
          "heatmap": [
           {
            "colorbar": {
             "outlinewidth": 0,
             "ticks": ""
            },
            "colorscale": [
             [
              0,
              "#0d0887"
             ],
             [
              0.1111111111111111,
              "#46039f"
             ],
             [
              0.2222222222222222,
              "#7201a8"
             ],
             [
              0.3333333333333333,
              "#9c179e"
             ],
             [
              0.4444444444444444,
              "#bd3786"
             ],
             [
              0.5555555555555556,
              "#d8576b"
             ],
             [
              0.6666666666666666,
              "#ed7953"
             ],
             [
              0.7777777777777778,
              "#fb9f3a"
             ],
             [
              0.8888888888888888,
              "#fdca26"
             ],
             [
              1,
              "#f0f921"
             ]
            ],
            "type": "heatmap"
           }
          ],
          "heatmapgl": [
           {
            "colorbar": {
             "outlinewidth": 0,
             "ticks": ""
            },
            "colorscale": [
             [
              0,
              "#0d0887"
             ],
             [
              0.1111111111111111,
              "#46039f"
             ],
             [
              0.2222222222222222,
              "#7201a8"
             ],
             [
              0.3333333333333333,
              "#9c179e"
             ],
             [
              0.4444444444444444,
              "#bd3786"
             ],
             [
              0.5555555555555556,
              "#d8576b"
             ],
             [
              0.6666666666666666,
              "#ed7953"
             ],
             [
              0.7777777777777778,
              "#fb9f3a"
             ],
             [
              0.8888888888888888,
              "#fdca26"
             ],
             [
              1,
              "#f0f921"
             ]
            ],
            "type": "heatmapgl"
           }
          ],
          "histogram": [
           {
            "marker": {
             "pattern": {
              "fillmode": "overlay",
              "size": 10,
              "solidity": 0.2
             }
            },
            "type": "histogram"
           }
          ],
          "histogram2d": [
           {
            "colorbar": {
             "outlinewidth": 0,
             "ticks": ""
            },
            "colorscale": [
             [
              0,
              "#0d0887"
             ],
             [
              0.1111111111111111,
              "#46039f"
             ],
             [
              0.2222222222222222,
              "#7201a8"
             ],
             [
              0.3333333333333333,
              "#9c179e"
             ],
             [
              0.4444444444444444,
              "#bd3786"
             ],
             [
              0.5555555555555556,
              "#d8576b"
             ],
             [
              0.6666666666666666,
              "#ed7953"
             ],
             [
              0.7777777777777778,
              "#fb9f3a"
             ],
             [
              0.8888888888888888,
              "#fdca26"
             ],
             [
              1,
              "#f0f921"
             ]
            ],
            "type": "histogram2d"
           }
          ],
          "histogram2dcontour": [
           {
            "colorbar": {
             "outlinewidth": 0,
             "ticks": ""
            },
            "colorscale": [
             [
              0,
              "#0d0887"
             ],
             [
              0.1111111111111111,
              "#46039f"
             ],
             [
              0.2222222222222222,
              "#7201a8"
             ],
             [
              0.3333333333333333,
              "#9c179e"
             ],
             [
              0.4444444444444444,
              "#bd3786"
             ],
             [
              0.5555555555555556,
              "#d8576b"
             ],
             [
              0.6666666666666666,
              "#ed7953"
             ],
             [
              0.7777777777777778,
              "#fb9f3a"
             ],
             [
              0.8888888888888888,
              "#fdca26"
             ],
             [
              1,
              "#f0f921"
             ]
            ],
            "type": "histogram2dcontour"
           }
          ],
          "mesh3d": [
           {
            "colorbar": {
             "outlinewidth": 0,
             "ticks": ""
            },
            "type": "mesh3d"
           }
          ],
          "parcoords": [
           {
            "line": {
             "colorbar": {
              "outlinewidth": 0,
              "ticks": ""
             }
            },
            "type": "parcoords"
           }
          ],
          "pie": [
           {
            "automargin": true,
            "type": "pie"
           }
          ],
          "scatter": [
           {
            "fillpattern": {
             "fillmode": "overlay",
             "size": 10,
             "solidity": 0.2
            },
            "type": "scatter"
           }
          ],
          "scatter3d": [
           {
            "line": {
             "colorbar": {
              "outlinewidth": 0,
              "ticks": ""
             }
            },
            "marker": {
             "colorbar": {
              "outlinewidth": 0,
              "ticks": ""
             }
            },
            "type": "scatter3d"
           }
          ],
          "scattercarpet": [
           {
            "marker": {
             "colorbar": {
              "outlinewidth": 0,
              "ticks": ""
             }
            },
            "type": "scattercarpet"
           }
          ],
          "scattergeo": [
           {
            "marker": {
             "colorbar": {
              "outlinewidth": 0,
              "ticks": ""
             }
            },
            "type": "scattergeo"
           }
          ],
          "scattergl": [
           {
            "marker": {
             "colorbar": {
              "outlinewidth": 0,
              "ticks": ""
             }
            },
            "type": "scattergl"
           }
          ],
          "scattermapbox": [
           {
            "marker": {
             "colorbar": {
              "outlinewidth": 0,
              "ticks": ""
             }
            },
            "type": "scattermapbox"
           }
          ],
          "scatterpolar": [
           {
            "marker": {
             "colorbar": {
              "outlinewidth": 0,
              "ticks": ""
             }
            },
            "type": "scatterpolar"
           }
          ],
          "scatterpolargl": [
           {
            "marker": {
             "colorbar": {
              "outlinewidth": 0,
              "ticks": ""
             }
            },
            "type": "scatterpolargl"
           }
          ],
          "scatterternary": [
           {
            "marker": {
             "colorbar": {
              "outlinewidth": 0,
              "ticks": ""
             }
            },
            "type": "scatterternary"
           }
          ],
          "surface": [
           {
            "colorbar": {
             "outlinewidth": 0,
             "ticks": ""
            },
            "colorscale": [
             [
              0,
              "#0d0887"
             ],
             [
              0.1111111111111111,
              "#46039f"
             ],
             [
              0.2222222222222222,
              "#7201a8"
             ],
             [
              0.3333333333333333,
              "#9c179e"
             ],
             [
              0.4444444444444444,
              "#bd3786"
             ],
             [
              0.5555555555555556,
              "#d8576b"
             ],
             [
              0.6666666666666666,
              "#ed7953"
             ],
             [
              0.7777777777777778,
              "#fb9f3a"
             ],
             [
              0.8888888888888888,
              "#fdca26"
             ],
             [
              1,
              "#f0f921"
             ]
            ],
            "type": "surface"
           }
          ],
          "table": [
           {
            "cells": {
             "fill": {
              "color": "#EBF0F8"
             },
             "line": {
              "color": "white"
             }
            },
            "header": {
             "fill": {
              "color": "#C8D4E3"
             },
             "line": {
              "color": "white"
             }
            },
            "type": "table"
           }
          ]
         },
         "layout": {
          "annotationdefaults": {
           "arrowcolor": "#2a3f5f",
           "arrowhead": 0,
           "arrowwidth": 1
          },
          "autotypenumbers": "strict",
          "coloraxis": {
           "colorbar": {
            "outlinewidth": 0,
            "ticks": ""
           }
          },
          "colorscale": {
           "diverging": [
            [
             0,
             "#8e0152"
            ],
            [
             0.1,
             "#c51b7d"
            ],
            [
             0.2,
             "#de77ae"
            ],
            [
             0.3,
             "#f1b6da"
            ],
            [
             0.4,
             "#fde0ef"
            ],
            [
             0.5,
             "#f7f7f7"
            ],
            [
             0.6,
             "#e6f5d0"
            ],
            [
             0.7,
             "#b8e186"
            ],
            [
             0.8,
             "#7fbc41"
            ],
            [
             0.9,
             "#4d9221"
            ],
            [
             1,
             "#276419"
            ]
           ],
           "sequential": [
            [
             0,
             "#0d0887"
            ],
            [
             0.1111111111111111,
             "#46039f"
            ],
            [
             0.2222222222222222,
             "#7201a8"
            ],
            [
             0.3333333333333333,
             "#9c179e"
            ],
            [
             0.4444444444444444,
             "#bd3786"
            ],
            [
             0.5555555555555556,
             "#d8576b"
            ],
            [
             0.6666666666666666,
             "#ed7953"
            ],
            [
             0.7777777777777778,
             "#fb9f3a"
            ],
            [
             0.8888888888888888,
             "#fdca26"
            ],
            [
             1,
             "#f0f921"
            ]
           ],
           "sequentialminus": [
            [
             0,
             "#0d0887"
            ],
            [
             0.1111111111111111,
             "#46039f"
            ],
            [
             0.2222222222222222,
             "#7201a8"
            ],
            [
             0.3333333333333333,
             "#9c179e"
            ],
            [
             0.4444444444444444,
             "#bd3786"
            ],
            [
             0.5555555555555556,
             "#d8576b"
            ],
            [
             0.6666666666666666,
             "#ed7953"
            ],
            [
             0.7777777777777778,
             "#fb9f3a"
            ],
            [
             0.8888888888888888,
             "#fdca26"
            ],
            [
             1,
             "#f0f921"
            ]
           ]
          },
          "colorway": [
           "#636efa",
           "#EF553B",
           "#00cc96",
           "#ab63fa",
           "#FFA15A",
           "#19d3f3",
           "#FF6692",
           "#B6E880",
           "#FF97FF",
           "#FECB52"
          ],
          "font": {
           "color": "#2a3f5f"
          },
          "geo": {
           "bgcolor": "white",
           "lakecolor": "white",
           "landcolor": "#E5ECF6",
           "showlakes": true,
           "showland": true,
           "subunitcolor": "white"
          },
          "hoverlabel": {
           "align": "left"
          },
          "hovermode": "closest",
          "mapbox": {
           "style": "light"
          },
          "paper_bgcolor": "white",
          "plot_bgcolor": "#E5ECF6",
          "polar": {
           "angularaxis": {
            "gridcolor": "white",
            "linecolor": "white",
            "ticks": ""
           },
           "bgcolor": "#E5ECF6",
           "radialaxis": {
            "gridcolor": "white",
            "linecolor": "white",
            "ticks": ""
           }
          },
          "scene": {
           "xaxis": {
            "backgroundcolor": "#E5ECF6",
            "gridcolor": "white",
            "gridwidth": 2,
            "linecolor": "white",
            "showbackground": true,
            "ticks": "",
            "zerolinecolor": "white"
           },
           "yaxis": {
            "backgroundcolor": "#E5ECF6",
            "gridcolor": "white",
            "gridwidth": 2,
            "linecolor": "white",
            "showbackground": true,
            "ticks": "",
            "zerolinecolor": "white"
           },
           "zaxis": {
            "backgroundcolor": "#E5ECF6",
            "gridcolor": "white",
            "gridwidth": 2,
            "linecolor": "white",
            "showbackground": true,
            "ticks": "",
            "zerolinecolor": "white"
           }
          },
          "shapedefaults": {
           "line": {
            "color": "#2a3f5f"
           }
          },
          "ternary": {
           "aaxis": {
            "gridcolor": "white",
            "linecolor": "white",
            "ticks": ""
           },
           "baxis": {
            "gridcolor": "white",
            "linecolor": "white",
            "ticks": ""
           },
           "bgcolor": "#E5ECF6",
           "caxis": {
            "gridcolor": "white",
            "linecolor": "white",
            "ticks": ""
           }
          },
          "title": {
           "x": 0.05
          },
          "xaxis": {
           "automargin": true,
           "gridcolor": "white",
           "linecolor": "white",
           "ticks": "",
           "title": {
            "standoff": 15
           },
           "zerolinecolor": "white",
           "zerolinewidth": 2
          },
          "yaxis": {
           "automargin": true,
           "gridcolor": "white",
           "linecolor": "white",
           "ticks": "",
           "title": {
            "standoff": 15
           },
           "zerolinecolor": "white",
           "zerolinewidth": 2
          }
         }
        },
        "title": {
         "text": "Hardware CapEx + OpEx to train large ML systems"
        },
        "width": 800,
        "xaxis": {
         "anchor": "y",
         "domain": [
          0,
          1
         ],
         "range": [
          "2015-01-01",
          "2025-01-01"
         ],
         "title": {
          "text": "Publication date"
         }
        },
        "yaxis": {
         "anchor": "x",
         "domain": [
          0,
          1
         ],
         "title": {
          "text": "Cost (2023 USD)"
         },
         "type": "log"
        }
       }
      }
     },
     "metadata": {},
     "output_type": "display_data"
    }
   ],
   "source": [
    "fig = px.scatter(\n",
    "    cost_df,\n",
    "    x='Publication date',\n",
    "    y='Cost (inflation-adjusted)',\n",
    "    text='System',\n",
    "    log_y=True,\n",
    ")\n",
    "fig.update_traces(textposition='top center')\n",
    "\n",
    "# no legend\n",
    "fig.update_layout(showlegend=False)\n",
    "\n",
    "# axis labels\n",
    "fig.update_xaxes(title_text='Publication date')\n",
    "fig.update_yaxes(title_text='Cost (2023 USD)')\n",
    "\n",
    "# title\n",
    "fig.update_layout(title_text=plot_title_lookup[estimation_method])\n",
    "\n",
    "# update size\n",
    "fig.update_layout(\n",
    "    autosize=False,\n",
    "    width=800,\n",
    "    height=600,\n",
    ")\n",
    "\n",
    "# font size\n",
    "fig.update_layout(\n",
    "    font=dict(\n",
    "        size=14,\n",
    "    )\n",
    ")\n",
    "\n",
    "# axis limits\n",
    "fig.update_xaxes(range=['2015-01-01', '2025-01-01'])\n",
    "\n",
    "# margins\n",
    "fig.update_layout(margin=dict(l=10, r=10, t=40, b=10))\n",
    "\n",
    "save_plot(fig, results_dir, 'cost_scatter')\n",
    "\n",
    "fig.show()"
   ]
  },
  {
   "cell_type": "code",
   "execution_count": 24,
   "metadata": {
    "ExecuteTime": {
     "end_time": "2024-03-08T01:55:04.855981900Z",
     "start_time": "2024-03-08T01:55:04.230921600Z"
    }
   },
   "outputs": [
    {
     "data": {
      "application/vnd.plotly.v1+json": {
       "config": {
        "plotlyServerURL": "https://plot.ly"
       },
       "data": [
        {
         "hovertemplate": "Publication date=%{x}<br>Cost (inflation-adjusted)=%{y}<br>System=%{text}<extra></extra>",
         "legendgroup": "",
         "marker": {
          "color": "#636efa",
          "symbol": "circle"
         },
         "mode": "markers+text",
         "name": "",
         "orientation": "v",
         "showlegend": false,
         "text": [
          "Gemini Ultra",
          "Falcon 180B",
          "Llama 2-70B",
          "GPT-4",
          "PaLM (540B)",
          "GPT-3 175B (davinci)",
          "Megatron-BERT",
          "GNMT"
         ],
         "textposition": "top center",
         "type": "scatter",
         "x": [
          "2023-12-06 00:00:00",
          "2023-09-06 00:00:00",
          "2023-07-18 00:00:00",
          "2023-03-15 00:00:00",
          "2022-04-04 00:00:00",
          "2020-05-28 00:00:00",
          "2019-09-17 00:00:00",
          "2016-09-26 00:00:00"
         ],
         "xaxis": "x",
         "y": [
          null,
          20708412.538085584,
          2716254.692584607,
          67008790.0121239,
          null,
          3634834.5665169987,
          622524.6857246988,
          96575.7131762705
         ],
         "yaxis": "y"
        },
        {
         "marker": {
          "color": "rgb(0,100,200)"
         },
         "mode": "markers",
         "showlegend": false,
         "textposition": "top center",
         "type": "scatter",
         "x": [
          "2023-12-06 00:00:00",
          "2023-11-30 00:00:00",
          "2023-11-22 00:00:00",
          "2023-11-15 00:00:00",
          "2023-11-02 00:00:00",
          "2023-10-30 00:00:00",
          "2023-10-27 00:00:00",
          "2023-09-07 00:00:00",
          "2023-09-06 00:00:00",
          "2023-07-18 00:00:00",
          "2023-07-18 00:00:00",
          "2023-07-18 00:00:00",
          "2023-07-18 00:00:00",
          "2023-07-11 00:00:00",
          "2023-07-06 00:00:00",
          "2023-07-05 00:00:00",
          "2023-05-10 00:00:00",
          "2023-05-09 00:00:00",
          "2023-04-24 00:00:00",
          "2023-03-30 00:00:00",
          "2023-03-20 00:00:00",
          "2023-03-15 00:00:00",
          "2023-03-15 00:00:00",
          "2023-02-27 00:00:00",
          "2023-02-24 00:00:00",
          "2023-02-24 00:00:00",
          "2023-02-10 00:00:00",
          "2022-11-28 00:00:00",
          "2022-11-16 00:00:00",
          "2022-11-08 00:00:00",
          "2022-10-31 00:00:00",
          "2022-10-20 00:00:00",
          "2022-09-21 00:00:00",
          "2022-09-14 00:00:00",
          "2022-08-10 00:00:00",
          "2022-08-04 00:00:00",
          "2022-08-02 00:00:00",
          "2022-07-21 00:00:00",
          "2022-07-21 00:00:00",
          "2022-07-06 00:00:00",
          "2022-06-29 00:00:00",
          "2022-06-22 00:00:00",
          "2022-06-14 00:00:00",
          "2022-05-23 00:00:00",
          "2022-05-10 00:00:00",
          "2022-05-02 00:00:00",
          "2022-04-29 00:00:00",
          "2022-04-13 00:00:00",
          "2022-04-04 00:00:00",
          "2022-03-29 00:00:00",
          "2022-02-10 00:00:00",
          "2022-02-09 00:00:00",
          "2022-02-02 00:00:00",
          "2021-12-23 00:00:00",
          "2021-12-20 00:00:00",
          "2021-12-13 00:00:00",
          "2021-12-08 00:00:00",
          "2021-11-22 00:00:00",
          "2021-11-19 00:00:00",
          "2021-10-15 00:00:00",
          "2021-10-12 00:00:00",
          "2021-10-11 00:00:00",
          "2021-09-10 00:00:00",
          "2021-09-03 00:00:00",
          "2021-07-27 00:00:00",
          "2021-07-27 00:00:00",
          "2021-07-05 00:00:00",
          "2021-06-11 00:00:00",
          "2021-06-10 00:00:00",
          "2021-06-09 00:00:00",
          "2021-05-28 00:00:00",
          "2021-05-26 00:00:00",
          "2021-05-04 00:00:00",
          "2021-05-04 00:00:00",
          "2021-05-04 00:00:00",
          "2021-04-19 00:00:00",
          "2021-03-05 00:00:00",
          "2021-03-01 00:00:00",
          "2021-02-13 00:00:00",
          "2021-01-11 00:00:00",
          "2021-01-05 00:00:00",
          "2021-01-05 00:00:00",
          "2020-11-30 00:00:00",
          "2020-10-22 00:00:00",
          "2020-10-22 00:00:00",
          "2020-10-21 00:00:00",
          "2020-10-20 00:00:00",
          "2020-10-20 00:00:00",
          "2020-06-30 00:00:00",
          "2020-06-17 00:00:00",
          "2020-06-17 00:00:00",
          "2020-05-28 00:00:00",
          "2020-04-29 00:00:00",
          "2020-03-23 00:00:00",
          "2020-02-13 00:00:00",
          "2020-02-09 00:00:00",
          "2020-01-28 00:00:00",
          "2020-01-19 00:00:00",
          "2019-12-19 00:00:00",
          "2019-12-13 00:00:00",
          "2019-12-13 00:00:00",
          "2019-11-11 00:00:00",
          "2019-11-10 00:00:00",
          "2019-10-30 00:00:00",
          "2019-10-23 00:00:00",
          "2019-10-23 00:00:00",
          "2019-09-17 00:00:00",
          "2019-09-17 00:00:00",
          "2019-09-17 00:00:00",
          "2019-07-01 00:00:00",
          "2019-05-29 00:00:00",
          "2019-05-29 00:00:00",
          "2019-04-20 00:00:00",
          "2019-03-26 00:00:00",
          "2019-02-14 00:00:00",
          "2018-11-05 00:00:00",
          "2018-11-05 00:00:00",
          "2018-10-11 00:00:00",
          "2018-09-28 00:00:00",
          "2018-09-28 00:00:00",
          "2018-08-28 00:00:00",
          "2018-07-03 00:00:00",
          "2018-07-03 00:00:00",
          "2018-06-01 00:00:00",
          "2018-05-02 00:00:00",
          "2018-04-08 00:00:00",
          "2018-03-27 00:00:00",
          "2018-02-05 00:00:00",
          "2018-02-05 00:00:00",
          "2017-12-05 00:00:00",
          "2017-12-02 00:00:00",
          "2017-10-18 00:00:00",
          "2017-08-11 00:00:00",
          "2017-07-10 00:00:00",
          "2017-06-12 00:00:00",
          "2017-01-23 00:00:00",
          "2017-01-06 00:00:00",
          "2017-01-01 00:00:00",
          "2017-01-01 00:00:00",
          "2016-11-17 00:00:00",
          "2016-11-05 00:00:00",
          "2016-11-05 00:00:00",
          "2016-10-07 00:00:00",
          "2016-09-26 00:00:00",
          "2016-01-27 00:00:00",
          "2015-12-10 00:00:00",
          "2015-12-08 00:00:00",
          "2015-10-01 00:00:00"
         ],
         "y": [
          null,
          null,
          15263475.773590136,
          527322.3005579801,
          null,
          null,
          null,
          null,
          20708412.538085584,
          2716254.692584607,
          1218115.695207827,
          250788.52548396436,
          477692.4294932655,
          null,
          3514392.802347099,
          null,
          null,
          409333.03855352546,
          null,
          740467.5471104438,
          null,
          67008790.0121239,
          629688.93770022,
          121650.26099513336,
          1153161.0569120387,
          93732.56756972325,
          null,
          7286795.0112441005,
          983915.1585493111,
          1395936.8746908035,
          176692.8529320462,
          null,
          null,
          null,
          2238539.381960181,
          1316432.8881297612,
          419390.3978701086,
          null,
          null,
          53134.58214556001,
          null,
          null,
          null,
          null,
          null,
          1034952.7708299569,
          null,
          172391.70196530575,
          null,
          null,
          null,
          250188.39281999008,
          null,
          null,
          146477.3838460414,
          null,
          null,
          144086.96989297256,
          null,
          null,
          null,
          4407788.59120657,
          757763.7544782148,
          null,
          null,
          null,
          null,
          null,
          null,
          null,
          null,
          136818.8298887815,
          null,
          null,
          null,
          123784.86010841509,
          32992.54831845231,
          null,
          32774.83860134388,
          null,
          240780.23918637238,
          null,
          null,
          null,
          11313.431244078758,
          null,
          null,
          null,
          null,
          198888.31154876633,
          53699.84411816691,
          3634834.5665169987,
          null,
          null,
          94390.68751667695,
          null,
          null,
          null,
          null,
          null,
          null,
          null,
          null,
          null,
          null,
          null,
          622524.6857246988,
          174326.15398481066,
          null,
          128089.46514996616,
          null,
          null,
          null,
          null,
          null,
          null,
          null,
          null,
          null,
          null,
          null,
          null,
          null,
          null,
          null,
          null,
          null,
          20650.391214329564,
          null,
          null,
          null,
          null,
          null,
          16667.191052612998,
          null,
          null,
          null,
          null,
          null,
          911.7187494700944,
          null,
          61.75640914379368,
          10059.970122528177,
          96575.7131762705,
          null,
          null,
          317.80164651938634,
          null
         ]
        },
        {
         "line": {
          "width": 0
         },
         "mode": "lines",
         "showlegend": false,
         "textposition": "top center",
         "type": "scatter",
         "x": [
          "2015-01-01T00:00:00",
          "2015-02-06T00:00:00",
          "2015-03-15T00:00:00",
          "2015-04-21T00:00:00",
          "2015-05-28T00:00:00",
          "2015-07-04T00:00:00",
          "2015-08-10T00:00:00",
          "2015-09-16T00:00:00",
          "2015-10-22T00:00:00",
          "2015-11-28T00:00:00",
          "2016-01-04T00:00:00",
          "2016-02-10T00:00:00",
          "2016-03-18T00:00:00",
          "2016-04-24T00:00:00",
          "2016-05-31T00:00:00",
          "2016-07-07T00:00:00",
          "2016-08-13T00:00:00",
          "2016-09-19T00:00:00",
          "2016-10-26T00:00:00",
          "2016-12-02T00:00:00",
          "2017-01-08T00:00:00",
          "2017-02-14T00:00:00",
          "2017-03-23T00:00:00",
          "2017-04-28T00:00:00",
          "2017-06-04T00:00:00",
          "2017-07-11T00:00:00",
          "2017-08-17T00:00:00",
          "2017-09-23T00:00:00",
          "2017-10-30T00:00:00",
          "2017-12-06T00:00:00",
          "2018-01-12T00:00:00",
          "2018-02-17T00:00:00",
          "2018-03-26T00:00:00",
          "2018-05-02T00:00:00",
          "2018-06-08T00:00:00",
          "2018-07-15T00:00:00",
          "2018-08-21T00:00:00",
          "2018-09-27T00:00:00",
          "2018-11-03T00:00:00",
          "2018-12-09T00:00:00",
          "2019-01-15T00:00:00",
          "2019-02-21T00:00:00",
          "2019-03-30T00:00:00",
          "2019-05-06T00:00:00",
          "2019-06-12T00:00:00",
          "2019-07-19T00:00:00",
          "2019-08-24T00:00:00",
          "2019-09-30T00:00:00",
          "2019-11-06T00:00:00",
          "2019-12-13T00:00:00",
          "2020-01-19T00:00:00",
          "2020-02-25T00:00:00",
          "2020-04-02T00:00:00",
          "2020-05-09T00:00:00",
          "2020-06-15T00:00:00",
          "2020-07-22T00:00:00",
          "2020-08-28T00:00:00",
          "2020-10-04T00:00:00",
          "2020-11-10T00:00:00",
          "2020-12-17T00:00:00",
          "2021-01-23T00:00:00",
          "2021-02-28T00:00:00",
          "2021-04-06T00:00:00",
          "2021-05-13T00:00:00",
          "2021-06-19T00:00:00",
          "2021-07-26T00:00:00",
          "2021-09-01T00:00:00",
          "2021-10-08T00:00:00",
          "2021-11-14T00:00:00",
          "2021-12-20T00:00:00",
          "2022-01-26T00:00:00",
          "2022-03-04T00:00:00",
          "2022-04-10T00:00:00",
          "2022-05-17T00:00:00",
          "2022-06-23T00:00:00",
          "2022-07-30T00:00:00",
          "2022-09-05T00:00:00",
          "2022-10-11T00:00:00",
          "2022-11-17T00:00:00",
          "2022-12-24T00:00:00",
          "2023-01-30T00:00:00",
          "2023-03-08T00:00:00",
          "2023-04-14T00:00:00",
          "2023-05-21T00:00:00",
          "2023-06-26T00:00:00",
          "2023-08-02T00:00:00",
          "2023-09-08T00:00:00",
          "2023-10-15T00:00:00",
          "2023-11-21T00:00:00",
          "2023-12-28T00:00:00",
          "2024-02-03T00:00:00",
          "2024-03-11T00:00:00",
          "2024-04-17T00:00:00",
          "2024-05-24T00:00:00",
          "2024-06-30T00:00:00",
          "2024-08-06T00:00:00",
          "2024-09-12T00:00:00",
          "2024-10-19T00:00:00",
          "2024-11-25T00:00:00",
          "2025-01-01T00:00:00"
         ],
         "y": [
          167.6020569661898,
          187.3260298419871,
          209.36366447546587,
          233.98510219018556,
          261.4918105872886,
          292.22017827474633,
          326.5455151921584,
          364.88650299506924,
          407.71014458004083,
          455.53726688112994,
          508.9486365679644,
          568.5917542626125,
          635.1883993811132,
          709.543004730575,
          792.551947555894,
          885.2138518550627,
          988.6410054577727,
          1104.0720045904425,
          1232.8857483852917,
          1376.6169160024092,
          1536.9730696253698,
          1715.8535374780877,
          1915.3702420142783,
          2137.8706493597574,
          2385.963026694073,
          2662.5442041452807,
          2970.8300465706934,
          3314.388847675429,
          3697.177863702203,
          4123.583205457259,
          4598.463304823006,
          5127.19616383992,
          5715.730579597265,
          6370.641514790583,
          7099.189750069426,
          7909.385908028731,
          8810.058877674717,
          9810.928589839095,
          10922.682996094296,
          12157.058983853878,
          13526.926817041098,
          15046.377523991254,
          16730.81246297216,
          18597.034083959985,
          20663.33667893785,
          22949.59568275616,
          25477.353868091195,
          28269.90259418854,
          31352.35614953389,
          34751.717211894545,
          38496.93157997529,
          42618.93065957449,
          47150.660762101375,
          52127.099136503355,
          57585.25782785146,
          63564.17792657057,
          70104.91848216881,
          77250.54618807166,
          85046.13371948642,
          93538.7760915179,
          102777.63533722522,
          112814.02394026863,
          123701.53661750651,
          135496.23818761692,
          148256.91249962494,
          162045.3740248824,
          176926.84016827447,
          192970.35911703637,
          210249.2855733918,
          228841.79532562278,
          248831.42942986957,
          270307.6597166109,
          293366.46915752435,
          318110.94297982403,
          344651.8689394738,
          373108.34754506714,
          403608.4150495064,
          436289.6835790752,
          471300.003836991,
          508798.1564423862,
          548954.5782450113,
          591952.129982915,
          637986.9115358563,
          687269.1308387214,
          740024.032331549,
          796492.890674692,
          856934.0753695826,
          921624.1919207479,
          990859.3052447757,
          1064956.2511905916,
          1144254.0422578144,
          1229115.3739011313,
          1319928.2381628475,
          1417107.651797446,
          1521097.5065150228,
          1632372.5494942297,
          1751440.502873736,
          1878844.3315544764,
          2015164.6692949198,
          2161022.413796707
         ]
        },
        {
         "fill": "tonexty",
         "fillcolor": "rgba(0,100,200,0.2)",
         "line": {
          "width": 0
         },
         "mode": "lines",
         "name": "95% CI of mean",
         "textposition": "top center",
         "type": "scatter",
         "x": [
          "2015-01-01T00:00:00",
          "2015-02-06T00:00:00",
          "2015-03-15T00:00:00",
          "2015-04-21T00:00:00",
          "2015-05-28T00:00:00",
          "2015-07-04T00:00:00",
          "2015-08-10T00:00:00",
          "2015-09-16T00:00:00",
          "2015-10-22T00:00:00",
          "2015-11-28T00:00:00",
          "2016-01-04T00:00:00",
          "2016-02-10T00:00:00",
          "2016-03-18T00:00:00",
          "2016-04-24T00:00:00",
          "2016-05-31T00:00:00",
          "2016-07-07T00:00:00",
          "2016-08-13T00:00:00",
          "2016-09-19T00:00:00",
          "2016-10-26T00:00:00",
          "2016-12-02T00:00:00",
          "2017-01-08T00:00:00",
          "2017-02-14T00:00:00",
          "2017-03-23T00:00:00",
          "2017-04-28T00:00:00",
          "2017-06-04T00:00:00",
          "2017-07-11T00:00:00",
          "2017-08-17T00:00:00",
          "2017-09-23T00:00:00",
          "2017-10-30T00:00:00",
          "2017-12-06T00:00:00",
          "2018-01-12T00:00:00",
          "2018-02-17T00:00:00",
          "2018-03-26T00:00:00",
          "2018-05-02T00:00:00",
          "2018-06-08T00:00:00",
          "2018-07-15T00:00:00",
          "2018-08-21T00:00:00",
          "2018-09-27T00:00:00",
          "2018-11-03T00:00:00",
          "2018-12-09T00:00:00",
          "2019-01-15T00:00:00",
          "2019-02-21T00:00:00",
          "2019-03-30T00:00:00",
          "2019-05-06T00:00:00",
          "2019-06-12T00:00:00",
          "2019-07-19T00:00:00",
          "2019-08-24T00:00:00",
          "2019-09-30T00:00:00",
          "2019-11-06T00:00:00",
          "2019-12-13T00:00:00",
          "2020-01-19T00:00:00",
          "2020-02-25T00:00:00",
          "2020-04-02T00:00:00",
          "2020-05-09T00:00:00",
          "2020-06-15T00:00:00",
          "2020-07-22T00:00:00",
          "2020-08-28T00:00:00",
          "2020-10-04T00:00:00",
          "2020-11-10T00:00:00",
          "2020-12-17T00:00:00",
          "2021-01-23T00:00:00",
          "2021-02-28T00:00:00",
          "2021-04-06T00:00:00",
          "2021-05-13T00:00:00",
          "2021-06-19T00:00:00",
          "2021-07-26T00:00:00",
          "2021-09-01T00:00:00",
          "2021-10-08T00:00:00",
          "2021-11-14T00:00:00",
          "2021-12-20T00:00:00",
          "2022-01-26T00:00:00",
          "2022-03-04T00:00:00",
          "2022-04-10T00:00:00",
          "2022-05-17T00:00:00",
          "2022-06-23T00:00:00",
          "2022-07-30T00:00:00",
          "2022-09-05T00:00:00",
          "2022-10-11T00:00:00",
          "2022-11-17T00:00:00",
          "2022-12-24T00:00:00",
          "2023-01-30T00:00:00",
          "2023-03-08T00:00:00",
          "2023-04-14T00:00:00",
          "2023-05-21T00:00:00",
          "2023-06-26T00:00:00",
          "2023-08-02T00:00:00",
          "2023-09-08T00:00:00",
          "2023-10-15T00:00:00",
          "2023-11-21T00:00:00",
          "2023-12-28T00:00:00",
          "2024-02-03T00:00:00",
          "2024-03-11T00:00:00",
          "2024-04-17T00:00:00",
          "2024-05-24T00:00:00",
          "2024-06-30T00:00:00",
          "2024-08-06T00:00:00",
          "2024-09-12T00:00:00",
          "2024-10-19T00:00:00",
          "2024-11-25T00:00:00",
          "2025-01-01T00:00:00"
         ],
         "y": [
          3760.59102287962,
          4023.6489964204675,
          4305.262864605965,
          4606.759550716463,
          4929.563064585038,
          5275.201887716486,
          5645.316957827433,
          6041.670306670967,
          6466.154410553645,
          6920.8023192268965,
          7407.79863581388,
          7929.491428353989,
          8488.405162423138,
          9087.254754392585,
          9728.96085623245,
          10416.666495747913,
          11153.755210773335,
          11943.870832667786,
          12790.939093494935,
          13699.191253186757,
          14673.189967968672,
          15717.857650156153,
          16838.507602418897,
          18040.87824770432,
          19331.17082000472,
          20716.090931872255,
          22202.894493363034,
          23799.438525162954,
          25514.23748763833,
          27356.525839140868,
          29336.327643420198,
          31464.53416957469,
          33752.99057185917,
          36214.592903354496,
          38863.396911486896,
          41714.74028770212,
          44785.380303710044,
          48093.64906641932,
          51659.628968956495,
          55505.351310328864,
          59655.02150731699,
          64135.27483244284,
          68975.46718555769,
          74208.0060453996,
          79868.72744942585,
          85997.3256121914,
          92637.84260339124,
          99839.22635295808,
          107655.96610804863,
          116148.81530858872,
          125385.61263699076,
          135442.2126976342,
          146403.53835324873,
          158364.76716426128,
          171432.66463480695,
          185727.07709775414,
          201382.5971443925,
          218550.41466651412,
          237400.36702824646,
          258123.2028891434,
          280933.0760441475,
          306070.28861705493,
          333804.307249721,
          364437.0816661075,
          398306.7020805914,
          435791.44012790424,
          477314.22694938804,
          523347.6313460916,
          574419.4101365616,
          631118.7117914247,
          694103.0230381371,
          764105.9566092271,
          841945.9870262283,
          928536.2507319594,
          1024895.5375315272,
          1132160.6126301768,
          1251600.022987952,
          1384629.558540576,
          1532829.5583381734,
          1697964.2740036792,
          1882003.5283378863,
          2087146.935590608,
          2315850.9821660095,
          2570859.302624548,
          2855236.526179706,
          3172406.1139572067,
          3526192.6575526386,
          3920869.165586818,
          4361209.927637346,
          4852549.614993532,
          5400849.355922681,
          6012770.610640373,
          6695757.76894869,
          7458130.502910753,
          8309187.02917743,
          9259319.57239185,
          10320143.474029822,
          11504641.562195085,
          12827325.589210384,
          14304416.757980123
         ]
        },
        {
         "line": {
          "color": "rgb(0,100,200)"
         },
         "mode": "lines",
         "name": "Regression mean (growth rate: 2.4x per year)",
         "textposition": "top center",
         "type": "scatter",
         "x": [
          "2015-01-01T00:00:00",
          "2015-02-06T00:00:00",
          "2015-03-15T00:00:00",
          "2015-04-21T00:00:00",
          "2015-05-28T00:00:00",
          "2015-07-04T00:00:00",
          "2015-08-10T00:00:00",
          "2015-09-16T00:00:00",
          "2015-10-22T00:00:00",
          "2015-11-28T00:00:00",
          "2016-01-04T00:00:00",
          "2016-02-10T00:00:00",
          "2016-03-18T00:00:00",
          "2016-04-24T00:00:00",
          "2016-05-31T00:00:00",
          "2016-07-07T00:00:00",
          "2016-08-13T00:00:00",
          "2016-09-19T00:00:00",
          "2016-10-26T00:00:00",
          "2016-12-02T00:00:00",
          "2017-01-08T00:00:00",
          "2017-02-14T00:00:00",
          "2017-03-23T00:00:00",
          "2017-04-28T00:00:00",
          "2017-06-04T00:00:00",
          "2017-07-11T00:00:00",
          "2017-08-17T00:00:00",
          "2017-09-23T00:00:00",
          "2017-10-30T00:00:00",
          "2017-12-06T00:00:00",
          "2018-01-12T00:00:00",
          "2018-02-17T00:00:00",
          "2018-03-26T00:00:00",
          "2018-05-02T00:00:00",
          "2018-06-08T00:00:00",
          "2018-07-15T00:00:00",
          "2018-08-21T00:00:00",
          "2018-09-27T00:00:00",
          "2018-11-03T00:00:00",
          "2018-12-09T00:00:00",
          "2019-01-15T00:00:00",
          "2019-02-21T00:00:00",
          "2019-03-30T00:00:00",
          "2019-05-06T00:00:00",
          "2019-06-12T00:00:00",
          "2019-07-19T00:00:00",
          "2019-08-24T00:00:00",
          "2019-09-30T00:00:00",
          "2019-11-06T00:00:00",
          "2019-12-13T00:00:00",
          "2020-01-19T00:00:00",
          "2020-02-25T00:00:00",
          "2020-04-02T00:00:00",
          "2020-05-09T00:00:00",
          "2020-06-15T00:00:00",
          "2020-07-22T00:00:00",
          "2020-08-28T00:00:00",
          "2020-10-04T00:00:00",
          "2020-11-10T00:00:00",
          "2020-12-17T00:00:00",
          "2021-01-23T00:00:00",
          "2021-02-28T00:00:00",
          "2021-04-06T00:00:00",
          "2021-05-13T00:00:00",
          "2021-06-19T00:00:00",
          "2021-07-26T00:00:00",
          "2021-09-01T00:00:00",
          "2021-10-08T00:00:00",
          "2021-11-14T00:00:00",
          "2021-12-20T00:00:00",
          "2022-01-26T00:00:00",
          "2022-03-04T00:00:00",
          "2022-04-10T00:00:00",
          "2022-05-17T00:00:00",
          "2022-06-23T00:00:00",
          "2022-07-30T00:00:00",
          "2022-09-05T00:00:00",
          "2022-10-11T00:00:00",
          "2022-11-17T00:00:00",
          "2022-12-24T00:00:00",
          "2023-01-30T00:00:00",
          "2023-03-08T00:00:00",
          "2023-04-14T00:00:00",
          "2023-05-21T00:00:00",
          "2023-06-26T00:00:00",
          "2023-08-02T00:00:00",
          "2023-09-08T00:00:00",
          "2023-10-15T00:00:00",
          "2023-11-21T00:00:00",
          "2023-12-28T00:00:00",
          "2024-02-03T00:00:00",
          "2024-03-11T00:00:00",
          "2024-04-17T00:00:00",
          "2024-05-24T00:00:00",
          "2024-06-30T00:00:00",
          "2024-08-06T00:00:00",
          "2024-09-12T00:00:00",
          "2024-10-19T00:00:00",
          "2024-11-25T00:00:00",
          "2025-01-01T00:00:00"
         ],
         "y": [
          793.9035148197872,
          868.1786636269875,
          949.4027648285243,
          1038.2259408433238,
          1135.3591375254637,
          1241.5798146167608,
          1357.7381685791954,
          1484.7639376178008,
          1623.673843357617,
          1775.5797287436028,
          1941.6974572954202,
          2123.356644951136,
          2322.011302388068,
          2539.2514730100916,
          2776.8159597463577,
          3036.606242533035,
          3320.701697865802,
          3631.3762422520804,
          3971.1165327693675,
          4342.6418704158805,
          4748.925965548946,
          5193.220739637153,
          5679.082353831854,
          6210.3996726813,
          6791.425390832075,
          7426.81007184128,
          8121.639371562975,
          8881.47474402405,
          9712.39795563059,
          10621.059763975478,
          11614.73315089643,
          12701.37153583239,
          13889.672435462033,
          15189.147079126951,
          16610.196537275147,
          18164.194972214693,
          19863.58067758024,
          21721.955635149927,
          23754.194385913437,
          25976.56308673646,
          28406.8497056342,
          31064.506397718116,
          33970.80520134098,
          37149.008300747475,
          40624.55421793341,
          44425.26142408307,
          48581.551000180436,
          53126.69012913629,
          58097.05836823144,
          63532.43883324993,
          69476.33662477836,
          75976.32704559897,
          83084.4363961466,
          90857.55839609998,
          99357.90956492066,
          108653.52720654555,
          118818.81398387664,
          129935.1334421055,
          142091.46124711155,
          155385.09735194372,
          169922.44479123515,
          185819.86133739678,
          203204.59083478592,
          222215.78166689895,
          243005.60050825254,
          265740.45027501625,
          290602.3020237759,
          317790.1514583258,
          347521.6117030727,
          380034.65509074816,
          415589.51790700085,
          454470.7833365776,
          496989.65928400506,
          543486.469299185,
          594333.3765471762,
          649937.3626235502,
          710743.4850591971,
          777238.4395858856,
          849954.4556776171,
          929473.5565459119,
          1016432.2176880992,
          1111526.4612730434,
          1215517.4271434252,
          1329237.4650239942,
          1453596.7966956417,
          1589590.8014642769,
          1738307.9832339499,
          1900938.6829566408,
          2078784.6061882793,
          2273269.242016849,
          2485949.2567508374,
          2718526.9535686006,
          2972863.8978489484,
          3250995.817250272,
          3555148.895791674,
          3887757.5923618367,
          4251484.126265073,
          4649239.785781786,
          5084208.230287132,
          5559870.972449295
         ]
        }
       ],
       "layout": {
        "autosize": false,
        "font": {
         "size": 14
        },
        "height": 600,
        "legend": {
         "orientation": "h",
         "tracegroupgap": 0,
         "x": 0.5,
         "xanchor": "center",
         "y": -0.15,
         "yanchor": "top"
        },
        "margin": {
         "b": 10,
         "l": 10,
         "r": 10,
         "t": 40
        },
        "template": {
         "data": {
          "bar": [
           {
            "error_x": {
             "color": "#2a3f5f"
            },
            "error_y": {
             "color": "#2a3f5f"
            },
            "marker": {
             "line": {
              "color": "#E5ECF6",
              "width": 0.5
             },
             "pattern": {
              "fillmode": "overlay",
              "size": 10,
              "solidity": 0.2
             }
            },
            "type": "bar"
           }
          ],
          "barpolar": [
           {
            "marker": {
             "line": {
              "color": "#E5ECF6",
              "width": 0.5
             },
             "pattern": {
              "fillmode": "overlay",
              "size": 10,
              "solidity": 0.2
             }
            },
            "type": "barpolar"
           }
          ],
          "carpet": [
           {
            "aaxis": {
             "endlinecolor": "#2a3f5f",
             "gridcolor": "white",
             "linecolor": "white",
             "minorgridcolor": "white",
             "startlinecolor": "#2a3f5f"
            },
            "baxis": {
             "endlinecolor": "#2a3f5f",
             "gridcolor": "white",
             "linecolor": "white",
             "minorgridcolor": "white",
             "startlinecolor": "#2a3f5f"
            },
            "type": "carpet"
           }
          ],
          "choropleth": [
           {
            "colorbar": {
             "outlinewidth": 0,
             "ticks": ""
            },
            "type": "choropleth"
           }
          ],
          "contour": [
           {
            "colorbar": {
             "outlinewidth": 0,
             "ticks": ""
            },
            "colorscale": [
             [
              0,
              "#0d0887"
             ],
             [
              0.1111111111111111,
              "#46039f"
             ],
             [
              0.2222222222222222,
              "#7201a8"
             ],
             [
              0.3333333333333333,
              "#9c179e"
             ],
             [
              0.4444444444444444,
              "#bd3786"
             ],
             [
              0.5555555555555556,
              "#d8576b"
             ],
             [
              0.6666666666666666,
              "#ed7953"
             ],
             [
              0.7777777777777778,
              "#fb9f3a"
             ],
             [
              0.8888888888888888,
              "#fdca26"
             ],
             [
              1,
              "#f0f921"
             ]
            ],
            "type": "contour"
           }
          ],
          "contourcarpet": [
           {
            "colorbar": {
             "outlinewidth": 0,
             "ticks": ""
            },
            "type": "contourcarpet"
           }
          ],
          "heatmap": [
           {
            "colorbar": {
             "outlinewidth": 0,
             "ticks": ""
            },
            "colorscale": [
             [
              0,
              "#0d0887"
             ],
             [
              0.1111111111111111,
              "#46039f"
             ],
             [
              0.2222222222222222,
              "#7201a8"
             ],
             [
              0.3333333333333333,
              "#9c179e"
             ],
             [
              0.4444444444444444,
              "#bd3786"
             ],
             [
              0.5555555555555556,
              "#d8576b"
             ],
             [
              0.6666666666666666,
              "#ed7953"
             ],
             [
              0.7777777777777778,
              "#fb9f3a"
             ],
             [
              0.8888888888888888,
              "#fdca26"
             ],
             [
              1,
              "#f0f921"
             ]
            ],
            "type": "heatmap"
           }
          ],
          "heatmapgl": [
           {
            "colorbar": {
             "outlinewidth": 0,
             "ticks": ""
            },
            "colorscale": [
             [
              0,
              "#0d0887"
             ],
             [
              0.1111111111111111,
              "#46039f"
             ],
             [
              0.2222222222222222,
              "#7201a8"
             ],
             [
              0.3333333333333333,
              "#9c179e"
             ],
             [
              0.4444444444444444,
              "#bd3786"
             ],
             [
              0.5555555555555556,
              "#d8576b"
             ],
             [
              0.6666666666666666,
              "#ed7953"
             ],
             [
              0.7777777777777778,
              "#fb9f3a"
             ],
             [
              0.8888888888888888,
              "#fdca26"
             ],
             [
              1,
              "#f0f921"
             ]
            ],
            "type": "heatmapgl"
           }
          ],
          "histogram": [
           {
            "marker": {
             "pattern": {
              "fillmode": "overlay",
              "size": 10,
              "solidity": 0.2
             }
            },
            "type": "histogram"
           }
          ],
          "histogram2d": [
           {
            "colorbar": {
             "outlinewidth": 0,
             "ticks": ""
            },
            "colorscale": [
             [
              0,
              "#0d0887"
             ],
             [
              0.1111111111111111,
              "#46039f"
             ],
             [
              0.2222222222222222,
              "#7201a8"
             ],
             [
              0.3333333333333333,
              "#9c179e"
             ],
             [
              0.4444444444444444,
              "#bd3786"
             ],
             [
              0.5555555555555556,
              "#d8576b"
             ],
             [
              0.6666666666666666,
              "#ed7953"
             ],
             [
              0.7777777777777778,
              "#fb9f3a"
             ],
             [
              0.8888888888888888,
              "#fdca26"
             ],
             [
              1,
              "#f0f921"
             ]
            ],
            "type": "histogram2d"
           }
          ],
          "histogram2dcontour": [
           {
            "colorbar": {
             "outlinewidth": 0,
             "ticks": ""
            },
            "colorscale": [
             [
              0,
              "#0d0887"
             ],
             [
              0.1111111111111111,
              "#46039f"
             ],
             [
              0.2222222222222222,
              "#7201a8"
             ],
             [
              0.3333333333333333,
              "#9c179e"
             ],
             [
              0.4444444444444444,
              "#bd3786"
             ],
             [
              0.5555555555555556,
              "#d8576b"
             ],
             [
              0.6666666666666666,
              "#ed7953"
             ],
             [
              0.7777777777777778,
              "#fb9f3a"
             ],
             [
              0.8888888888888888,
              "#fdca26"
             ],
             [
              1,
              "#f0f921"
             ]
            ],
            "type": "histogram2dcontour"
           }
          ],
          "mesh3d": [
           {
            "colorbar": {
             "outlinewidth": 0,
             "ticks": ""
            },
            "type": "mesh3d"
           }
          ],
          "parcoords": [
           {
            "line": {
             "colorbar": {
              "outlinewidth": 0,
              "ticks": ""
             }
            },
            "type": "parcoords"
           }
          ],
          "pie": [
           {
            "automargin": true,
            "type": "pie"
           }
          ],
          "scatter": [
           {
            "fillpattern": {
             "fillmode": "overlay",
             "size": 10,
             "solidity": 0.2
            },
            "type": "scatter"
           }
          ],
          "scatter3d": [
           {
            "line": {
             "colorbar": {
              "outlinewidth": 0,
              "ticks": ""
             }
            },
            "marker": {
             "colorbar": {
              "outlinewidth": 0,
              "ticks": ""
             }
            },
            "type": "scatter3d"
           }
          ],
          "scattercarpet": [
           {
            "marker": {
             "colorbar": {
              "outlinewidth": 0,
              "ticks": ""
             }
            },
            "type": "scattercarpet"
           }
          ],
          "scattergeo": [
           {
            "marker": {
             "colorbar": {
              "outlinewidth": 0,
              "ticks": ""
             }
            },
            "type": "scattergeo"
           }
          ],
          "scattergl": [
           {
            "marker": {
             "colorbar": {
              "outlinewidth": 0,
              "ticks": ""
             }
            },
            "type": "scattergl"
           }
          ],
          "scattermapbox": [
           {
            "marker": {
             "colorbar": {
              "outlinewidth": 0,
              "ticks": ""
             }
            },
            "type": "scattermapbox"
           }
          ],
          "scatterpolar": [
           {
            "marker": {
             "colorbar": {
              "outlinewidth": 0,
              "ticks": ""
             }
            },
            "type": "scatterpolar"
           }
          ],
          "scatterpolargl": [
           {
            "marker": {
             "colorbar": {
              "outlinewidth": 0,
              "ticks": ""
             }
            },
            "type": "scatterpolargl"
           }
          ],
          "scatterternary": [
           {
            "marker": {
             "colorbar": {
              "outlinewidth": 0,
              "ticks": ""
             }
            },
            "type": "scatterternary"
           }
          ],
          "surface": [
           {
            "colorbar": {
             "outlinewidth": 0,
             "ticks": ""
            },
            "colorscale": [
             [
              0,
              "#0d0887"
             ],
             [
              0.1111111111111111,
              "#46039f"
             ],
             [
              0.2222222222222222,
              "#7201a8"
             ],
             [
              0.3333333333333333,
              "#9c179e"
             ],
             [
              0.4444444444444444,
              "#bd3786"
             ],
             [
              0.5555555555555556,
              "#d8576b"
             ],
             [
              0.6666666666666666,
              "#ed7953"
             ],
             [
              0.7777777777777778,
              "#fb9f3a"
             ],
             [
              0.8888888888888888,
              "#fdca26"
             ],
             [
              1,
              "#f0f921"
             ]
            ],
            "type": "surface"
           }
          ],
          "table": [
           {
            "cells": {
             "fill": {
              "color": "#EBF0F8"
             },
             "line": {
              "color": "white"
             }
            },
            "header": {
             "fill": {
              "color": "#C8D4E3"
             },
             "line": {
              "color": "white"
             }
            },
            "type": "table"
           }
          ]
         },
         "layout": {
          "annotationdefaults": {
           "arrowcolor": "#2a3f5f",
           "arrowhead": 0,
           "arrowwidth": 1
          },
          "autotypenumbers": "strict",
          "coloraxis": {
           "colorbar": {
            "outlinewidth": 0,
            "ticks": ""
           }
          },
          "colorscale": {
           "diverging": [
            [
             0,
             "#8e0152"
            ],
            [
             0.1,
             "#c51b7d"
            ],
            [
             0.2,
             "#de77ae"
            ],
            [
             0.3,
             "#f1b6da"
            ],
            [
             0.4,
             "#fde0ef"
            ],
            [
             0.5,
             "#f7f7f7"
            ],
            [
             0.6,
             "#e6f5d0"
            ],
            [
             0.7,
             "#b8e186"
            ],
            [
             0.8,
             "#7fbc41"
            ],
            [
             0.9,
             "#4d9221"
            ],
            [
             1,
             "#276419"
            ]
           ],
           "sequential": [
            [
             0,
             "#0d0887"
            ],
            [
             0.1111111111111111,
             "#46039f"
            ],
            [
             0.2222222222222222,
             "#7201a8"
            ],
            [
             0.3333333333333333,
             "#9c179e"
            ],
            [
             0.4444444444444444,
             "#bd3786"
            ],
            [
             0.5555555555555556,
             "#d8576b"
            ],
            [
             0.6666666666666666,
             "#ed7953"
            ],
            [
             0.7777777777777778,
             "#fb9f3a"
            ],
            [
             0.8888888888888888,
             "#fdca26"
            ],
            [
             1,
             "#f0f921"
            ]
           ],
           "sequentialminus": [
            [
             0,
             "#0d0887"
            ],
            [
             0.1111111111111111,
             "#46039f"
            ],
            [
             0.2222222222222222,
             "#7201a8"
            ],
            [
             0.3333333333333333,
             "#9c179e"
            ],
            [
             0.4444444444444444,
             "#bd3786"
            ],
            [
             0.5555555555555556,
             "#d8576b"
            ],
            [
             0.6666666666666666,
             "#ed7953"
            ],
            [
             0.7777777777777778,
             "#fb9f3a"
            ],
            [
             0.8888888888888888,
             "#fdca26"
            ],
            [
             1,
             "#f0f921"
            ]
           ]
          },
          "colorway": [
           "#636efa",
           "#EF553B",
           "#00cc96",
           "#ab63fa",
           "#FFA15A",
           "#19d3f3",
           "#FF6692",
           "#B6E880",
           "#FF97FF",
           "#FECB52"
          ],
          "font": {
           "color": "#2a3f5f"
          },
          "geo": {
           "bgcolor": "white",
           "lakecolor": "white",
           "landcolor": "#E5ECF6",
           "showlakes": true,
           "showland": true,
           "subunitcolor": "white"
          },
          "hoverlabel": {
           "align": "left"
          },
          "hovermode": "closest",
          "mapbox": {
           "style": "light"
          },
          "paper_bgcolor": "white",
          "plot_bgcolor": "#E5ECF6",
          "polar": {
           "angularaxis": {
            "gridcolor": "white",
            "linecolor": "white",
            "ticks": ""
           },
           "bgcolor": "#E5ECF6",
           "radialaxis": {
            "gridcolor": "white",
            "linecolor": "white",
            "ticks": ""
           }
          },
          "scene": {
           "xaxis": {
            "backgroundcolor": "#E5ECF6",
            "gridcolor": "white",
            "gridwidth": 2,
            "linecolor": "white",
            "showbackground": true,
            "ticks": "",
            "zerolinecolor": "white"
           },
           "yaxis": {
            "backgroundcolor": "#E5ECF6",
            "gridcolor": "white",
            "gridwidth": 2,
            "linecolor": "white",
            "showbackground": true,
            "ticks": "",
            "zerolinecolor": "white"
           },
           "zaxis": {
            "backgroundcolor": "#E5ECF6",
            "gridcolor": "white",
            "gridwidth": 2,
            "linecolor": "white",
            "showbackground": true,
            "ticks": "",
            "zerolinecolor": "white"
           }
          },
          "shapedefaults": {
           "line": {
            "color": "#2a3f5f"
           }
          },
          "ternary": {
           "aaxis": {
            "gridcolor": "white",
            "linecolor": "white",
            "ticks": ""
           },
           "baxis": {
            "gridcolor": "white",
            "linecolor": "white",
            "ticks": ""
           },
           "bgcolor": "#E5ECF6",
           "caxis": {
            "gridcolor": "white",
            "linecolor": "white",
            "ticks": ""
           }
          },
          "title": {
           "x": 0.05
          },
          "xaxis": {
           "automargin": true,
           "gridcolor": "white",
           "linecolor": "white",
           "ticks": "",
           "title": {
            "standoff": 15
           },
           "zerolinecolor": "white",
           "zerolinewidth": 2
          },
          "yaxis": {
           "automargin": true,
           "gridcolor": "white",
           "linecolor": "white",
           "ticks": "",
           "title": {
            "standoff": 15
           },
           "zerolinecolor": "white",
           "zerolinewidth": 2
          }
         }
        },
        "title": {
         "text": "Hardware CapEx + OpEx to train large ML systems",
         "x": 0.5
        },
        "width": 800,
        "xaxis": {
         "anchor": "y",
         "domain": [
          0,
          1
         ],
         "range": [
          "2015-01-01",
          "2025-01-01"
         ],
         "title": {
          "text": "Publication date"
         }
        },
        "yaxis": {
         "anchor": "x",
         "domain": [
          0,
          1
         ],
         "title": {
          "text": "Cost (2023 USD)"
         },
         "type": "log"
        }
       }
      }
     },
     "metadata": {},
     "output_type": "display_data"
    }
   ],
   "source": [
    "label_systems = ['GNMT', 'Megatron-BERT', 'GPT-3 175B (davinci)', 'PaLM (540B)', 'Llama 2-70B', 'Falcon 180B', 'GPT-4', 'Gemini Ultra']\n",
    "\n",
    "fig = px.scatter(\n",
    "    cost_df.loc[cost_df['System'].isin(label_systems)],\n",
    "    x='Publication date',\n",
    "    y='Cost (inflation-adjusted)',\n",
    "    text='System',\n",
    "    log_y=True,\n",
    ")\n",
    "\n",
    "fig.add_scatter(\n",
    "    x=cost_df['Publication date'],\n",
    "    y=cost_df['Cost (inflation-adjusted)'],\n",
    "    mode='markers',\n",
    "    showlegend=False,\n",
    ")\n",
    "\n",
    "# Marker color\n",
    "fig.update_traces(\n",
    "    marker=dict(\n",
    "        color='rgb(0,100,200)',\n",
    "    ),\n",
    "    selector=dict(mode='markers'),\n",
    ")\n",
    "\n",
    "# Shade in CI\n",
    "fig.add_scatter(\n",
    "    x=predicted_cost_df['Publication date'],\n",
    "    y=10**predicted_cost_df['mean_ci_lower'],\n",
    "    mode='lines',\n",
    "    line=dict(width=0),\n",
    "    showlegend=False,\n",
    ")\n",
    "fig.add_scatter(\n",
    "    x=predicted_cost_df['Publication date'],\n",
    "    y=10**predicted_cost_df['mean_ci_upper'],\n",
    "    mode='lines',\n",
    "    fill='tonexty',\n",
    "    fillcolor='rgba(0,100,200,0.2)',\n",
    "    line=dict(width=0),\n",
    "    name='95% CI of mean',\n",
    ")\n",
    "fig.add_scatter(\n",
    "    x=predicted_cost_df['Publication date'],\n",
    "    y=10**predicted_cost_df['mean'],\n",
    "    mode='lines',\n",
    "    line=dict(color='rgb(0,100,200)'),\n",
    "    name=f'Regression mean (growth rate: {10**reg_results.params[1]:.1f}x per year)',\n",
    ")\n",
    "\n",
    "fig.update_traces(textposition='top center')\n",
    "\n",
    "# legend on top\n",
    "fig.update_layout(legend=dict(\n",
    "    orientation='h',\n",
    "    yanchor='top',\n",
    "    y=-0.15,\n",
    "    xanchor='center',\n",
    "    x=0.5,\n",
    "))\n",
    "\n",
    "# axis labels\n",
    "fig.update_xaxes(title_text='Publication date')\n",
    "fig.update_yaxes(title_text='Cost (2023 USD)')\n",
    "\n",
    "# title\n",
    "fig.update_layout(title_text=plot_title_lookup[estimation_method])\n",
    "\n",
    "# update size\n",
    "fig.update_layout(\n",
    "    autosize=False,\n",
    "    width=800,\n",
    "    height=600,\n",
    "    title_x=0.5,\n",
    ")\n",
    "\n",
    "# font size\n",
    "fig.update_layout(\n",
    "    font=dict(\n",
    "        size=14,\n",
    "    )\n",
    ")\n",
    "\n",
    "# axis limits\n",
    "fig.update_xaxes(range=[pred_start_date, pred_end_date])\n",
    "\n",
    "# margins\n",
    "fig.update_layout(margin=dict(l=10, r=10, t=40, b=10))\n",
    "\n",
    "save_plot(fig, results_dir, 'cost_regression')\n",
    "\n",
    "fig.show()"
   ]
  },
  {
   "cell_type": "markdown",
   "metadata": {},
   "source": [
    "# Export data"
   ]
  },
  {
   "cell_type": "code",
   "execution_count": 25,
   "metadata": {
    "ExecuteTime": {
     "end_time": "2024-03-08T01:55:05.122800400Z",
     "start_time": "2024-03-08T01:55:04.849972900Z"
    }
   },
   "outputs": [
    {
     "data": {
      "text/html": [
       "<div>\n",
       "<style scoped>\n",
       "    .dataframe tbody tr th:only-of-type {\n",
       "        vertical-align: middle;\n",
       "    }\n",
       "\n",
       "    .dataframe tbody tr th {\n",
       "        vertical-align: top;\n",
       "    }\n",
       "\n",
       "    .dataframe thead th {\n",
       "        text-align: right;\n",
       "    }\n",
       "</style>\n",
       "<table border=\"1\" class=\"dataframe\">\n",
       "  <thead>\n",
       "    <tr style=\"text-align: right;\">\n",
       "      <th></th>\n",
       "      <th>System</th>\n",
       "      <th>Domain</th>\n",
       "      <th>Task</th>\n",
       "      <th>Model accessibility</th>\n",
       "      <th>Reference</th>\n",
       "      <th>Publication date</th>\n",
       "      <th>Organization</th>\n",
       "      <th>Parameters</th>\n",
       "      <th>Training compute (FLOP)</th>\n",
       "      <th>Training dataset size (datapoints)</th>\n",
       "      <th>...</th>\n",
       "      <th>Training hardware</th>\n",
       "      <th>Country (from Organization)</th>\n",
       "      <th>Base model</th>\n",
       "      <th>Finetune compute (FLOP)</th>\n",
       "      <th>Hardware quantity</th>\n",
       "      <th>Hardware utilization</th>\n",
       "      <th>Training cloud compute vendor</th>\n",
       "      <th>Training data center</th>\n",
       "      <th>Cost</th>\n",
       "      <th>Cost (inflation-adjusted)</th>\n",
       "    </tr>\n",
       "  </thead>\n",
       "  <tbody>\n",
       "    <tr>\n",
       "      <th>39</th>\n",
       "      <td>Gemini Ultra</td>\n",
       "      <td>Multimodal</td>\n",
       "      <td>Language modelling,Visual question answering,C...</td>\n",
       "      <td>Hosted access (no API)</td>\n",
       "      <td>Gemini: A Family of Highly Capable Multimodal ...</td>\n",
       "      <td>2023-12-06 00:00:00</td>\n",
       "      <td>Google DeepMind</td>\n",
       "      <td>NaN</td>\n",
       "      <td>5.000000e+25</td>\n",
       "      <td>NaN</td>\n",
       "      <td>...</td>\n",
       "      <td>Google TPU v4</td>\n",
       "      <td>Multinational</td>\n",
       "      <td>NaN</td>\n",
       "      <td>NaN</td>\n",
       "      <td>55000.0</td>\n",
       "      <td>NaN</td>\n",
       "      <td>NaN</td>\n",
       "      <td>NaN</td>\n",
       "      <td>NaN</td>\n",
       "      <td>NaN</td>\n",
       "    </tr>\n",
       "    <tr>\n",
       "      <th>46</th>\n",
       "      <td>Qwen-72B</td>\n",
       "      <td>Language</td>\n",
       "      <td>Chat,Code generation</td>\n",
       "      <td>Permissive license (depr.)</td>\n",
       "      <td>NaN</td>\n",
       "      <td>2023-11-30 00:00:00</td>\n",
       "      <td>Alibaba</td>\n",
       "      <td>7.200000e+10</td>\n",
       "      <td>1.300000e+24</td>\n",
       "      <td>NaN</td>\n",
       "      <td>...</td>\n",
       "      <td>NaN</td>\n",
       "      <td>China</td>\n",
       "      <td>NaN</td>\n",
       "      <td>NaN</td>\n",
       "      <td>NaN</td>\n",
       "      <td>NaN</td>\n",
       "      <td>NaN</td>\n",
       "      <td>NaN</td>\n",
       "      <td>NaN</td>\n",
       "      <td>NaN</td>\n",
       "    </tr>\n",
       "    <tr>\n",
       "      <th>54</th>\n",
       "      <td>Inflection-2</td>\n",
       "      <td>Language</td>\n",
       "      <td>Language modelling</td>\n",
       "      <td>API access</td>\n",
       "      <td>Inflection-2: The Next Step Up</td>\n",
       "      <td>2023-11-22 00:00:00</td>\n",
       "      <td>Inflection AI</td>\n",
       "      <td>NaN</td>\n",
       "      <td>1.001000e+25</td>\n",
       "      <td>NaN</td>\n",
       "      <td>...</td>\n",
       "      <td>NVIDIA H100 SXM5</td>\n",
       "      <td>United States of America</td>\n",
       "      <td>NaN</td>\n",
       "      <td>NaN</td>\n",
       "      <td>5000.0</td>\n",
       "      <td>NaN</td>\n",
       "      <td>NaN</td>\n",
       "      <td>NaN</td>\n",
       "      <td>1.522783e+07</td>\n",
       "      <td>1.526348e+07</td>\n",
       "    </tr>\n",
       "    <tr>\n",
       "      <th>59</th>\n",
       "      <td>Nemotron-3-8B</td>\n",
       "      <td>Language</td>\n",
       "      <td>Chat,Language generation</td>\n",
       "      <td>Permissive license (depr.)</td>\n",
       "      <td>NVIDIA AI Foundation Models: Build Custom Ente...</td>\n",
       "      <td>2023-11-15 00:00:00</td>\n",
       "      <td>NVIDIA</td>\n",
       "      <td>8.000000e+09</td>\n",
       "      <td>1.800000e+23</td>\n",
       "      <td>NaN</td>\n",
       "      <td>...</td>\n",
       "      <td>NVIDIA A100</td>\n",
       "      <td>United States of America</td>\n",
       "      <td>NaN</td>\n",
       "      <td>NaN</td>\n",
       "      <td>1024.0</td>\n",
       "      <td>0.34</td>\n",
       "      <td>NaN</td>\n",
       "      <td>NaN</td>\n",
       "      <td>5.260907e+05</td>\n",
       "      <td>5.273223e+05</td>\n",
       "    </tr>\n",
       "    <tr>\n",
       "      <th>83</th>\n",
       "      <td>Yi-34B</td>\n",
       "      <td>Language</td>\n",
       "      <td>Chat</td>\n",
       "      <td>Permissive license (depr.)</td>\n",
       "      <td>NaN</td>\n",
       "      <td>2023-11-02 00:00:00</td>\n",
       "      <td>01.AI</td>\n",
       "      <td>3.400000e+10</td>\n",
       "      <td>6.100000e+23</td>\n",
       "      <td>NaN</td>\n",
       "      <td>...</td>\n",
       "      <td>NaN</td>\n",
       "      <td>China</td>\n",
       "      <td>NaN</td>\n",
       "      <td>NaN</td>\n",
       "      <td>NaN</td>\n",
       "      <td>NaN</td>\n",
       "      <td>NaN</td>\n",
       "      <td>NaN</td>\n",
       "      <td>NaN</td>\n",
       "      <td>NaN</td>\n",
       "    </tr>\n",
       "    <tr>\n",
       "      <th>...</th>\n",
       "      <td>...</td>\n",
       "      <td>...</td>\n",
       "      <td>...</td>\n",
       "      <td>...</td>\n",
       "      <td>...</td>\n",
       "      <td>...</td>\n",
       "      <td>...</td>\n",
       "      <td>...</td>\n",
       "      <td>...</td>\n",
       "      <td>...</td>\n",
       "      <td>...</td>\n",
       "      <td>...</td>\n",
       "      <td>...</td>\n",
       "      <td>...</td>\n",
       "      <td>...</td>\n",
       "      <td>...</td>\n",
       "      <td>...</td>\n",
       "      <td>...</td>\n",
       "      <td>...</td>\n",
       "      <td>...</td>\n",
       "      <td>...</td>\n",
       "    </tr>\n",
       "    <tr>\n",
       "      <th>1095</th>\n",
       "      <td>GNMT</td>\n",
       "      <td>Language</td>\n",
       "      <td>Translation</td>\n",
       "      <td>NaN</td>\n",
       "      <td>Google's Neural Machine Translation System: Br...</td>\n",
       "      <td>2016-09-26 00:00:00</td>\n",
       "      <td>Google</td>\n",
       "      <td>2.780000e+08</td>\n",
       "      <td>6.900000e+21</td>\n",
       "      <td>360000000.0</td>\n",
       "      <td>...</td>\n",
       "      <td>NVIDIA Tesla K80</td>\n",
       "      <td>United States of America</td>\n",
       "      <td>NaN</td>\n",
       "      <td>NaN</td>\n",
       "      <td>96.0</td>\n",
       "      <td>NaN</td>\n",
       "      <td>NaN</td>\n",
       "      <td>NaN</td>\n",
       "      <td>8.843781e+04</td>\n",
       "      <td>9.657571e+04</td>\n",
       "    </tr>\n",
       "    <tr>\n",
       "      <th>1131</th>\n",
       "      <td>AlphaGo Lee</td>\n",
       "      <td>Games</td>\n",
       "      <td>Go</td>\n",
       "      <td>NaN</td>\n",
       "      <td>Mastering the game of Go with deep neural netw...</td>\n",
       "      <td>2016-01-27 00:00:00</td>\n",
       "      <td>DeepMind</td>\n",
       "      <td>NaN</td>\n",
       "      <td>1.900000e+21</td>\n",
       "      <td>29400000.0</td>\n",
       "      <td>...</td>\n",
       "      <td>NaN</td>\n",
       "      <td>United Kingdom of Great Britain and Northern I...</td>\n",
       "      <td>NaN</td>\n",
       "      <td>NaN</td>\n",
       "      <td>NaN</td>\n",
       "      <td>NaN</td>\n",
       "      <td>NaN</td>\n",
       "      <td>NaN</td>\n",
       "      <td>NaN</td>\n",
       "      <td>NaN</td>\n",
       "    </tr>\n",
       "    <tr>\n",
       "      <th>1135</th>\n",
       "      <td>ResNet-152 (ImageNet)</td>\n",
       "      <td>Vision</td>\n",
       "      <td>Image classification</td>\n",
       "      <td>NaN</td>\n",
       "      <td>Deep Residual Learning for Image Recognition</td>\n",
       "      <td>2015-12-10 00:00:00</td>\n",
       "      <td>Microsoft</td>\n",
       "      <td>6.000000e+07</td>\n",
       "      <td>1.210000e+19</td>\n",
       "      <td>1280000.0</td>\n",
       "      <td>...</td>\n",
       "      <td>NaN</td>\n",
       "      <td>United States of America</td>\n",
       "      <td>NaN</td>\n",
       "      <td>NaN</td>\n",
       "      <td>NaN</td>\n",
       "      <td>NaN</td>\n",
       "      <td>NaN</td>\n",
       "      <td>NaN</td>\n",
       "      <td>NaN</td>\n",
       "      <td>NaN</td>\n",
       "    </tr>\n",
       "    <tr>\n",
       "      <th>1137</th>\n",
       "      <td>DeepSpeech2 (English)</td>\n",
       "      <td>Speech</td>\n",
       "      <td>Speech recognition</td>\n",
       "      <td>NaN</td>\n",
       "      <td>Deep Speech 2: End-to-End Speech Recognition i...</td>\n",
       "      <td>2015-12-08 00:00:00</td>\n",
       "      <td>Baidu Research - Silicon Valley AI Lab</td>\n",
       "      <td>3.800000e+07</td>\n",
       "      <td>2.600000e+19</td>\n",
       "      <td>163339200.0</td>\n",
       "      <td>...</td>\n",
       "      <td>NVIDIA GTX Titan X</td>\n",
       "      <td>United States of America</td>\n",
       "      <td>NaN</td>\n",
       "      <td>NaN</td>\n",
       "      <td>NaN</td>\n",
       "      <td>0.45</td>\n",
       "      <td>NaN</td>\n",
       "      <td>NaN</td>\n",
       "      <td>2.856824e+02</td>\n",
       "      <td>3.178016e+02</td>\n",
       "    </tr>\n",
       "    <tr>\n",
       "      <th>1141</th>\n",
       "      <td>AlphaGo Fan</td>\n",
       "      <td>Games</td>\n",
       "      <td>Go</td>\n",
       "      <td>NaN</td>\n",
       "      <td>Mastering the game of Go with deep neural netw...</td>\n",
       "      <td>2015-10-01 00:00:00</td>\n",
       "      <td>Google DeepMind</td>\n",
       "      <td>8.209984e+06</td>\n",
       "      <td>3.800000e+20</td>\n",
       "      <td>NaN</td>\n",
       "      <td>...</td>\n",
       "      <td>NaN</td>\n",
       "      <td>Multinational</td>\n",
       "      <td>NaN</td>\n",
       "      <td>NaN</td>\n",
       "      <td>NaN</td>\n",
       "      <td>NaN</td>\n",
       "      <td>NaN</td>\n",
       "      <td>NaN</td>\n",
       "      <td>NaN</td>\n",
       "      <td>NaN</td>\n",
       "    </tr>\n",
       "  </tbody>\n",
       "</table>\n",
       "<p>148 rows × 22 columns</p>\n",
       "</div>"
      ],
      "text/plain": [
       "                     System      Domain  \\\n",
       "39             Gemini Ultra  Multimodal   \n",
       "46                 Qwen-72B    Language   \n",
       "54             Inflection-2    Language   \n",
       "59            Nemotron-3-8B    Language   \n",
       "83                   Yi-34B    Language   \n",
       "...                     ...         ...   \n",
       "1095                   GNMT    Language   \n",
       "1131            AlphaGo Lee       Games   \n",
       "1135  ResNet-152 (ImageNet)      Vision   \n",
       "1137  DeepSpeech2 (English)      Speech   \n",
       "1141            AlphaGo Fan       Games   \n",
       "\n",
       "                                                   Task  \\\n",
       "39    Language modelling,Visual question answering,C...   \n",
       "46                                 Chat,Code generation   \n",
       "54                                   Language modelling   \n",
       "59                             Chat,Language generation   \n",
       "83                                                 Chat   \n",
       "...                                                 ...   \n",
       "1095                                        Translation   \n",
       "1131                                                 Go   \n",
       "1135                               Image classification   \n",
       "1137                                 Speech recognition   \n",
       "1141                                                 Go   \n",
       "\n",
       "             Model accessibility  \\\n",
       "39        Hosted access (no API)   \n",
       "46    Permissive license (depr.)   \n",
       "54                    API access   \n",
       "59    Permissive license (depr.)   \n",
       "83    Permissive license (depr.)   \n",
       "...                          ...   \n",
       "1095                         NaN   \n",
       "1131                         NaN   \n",
       "1135                         NaN   \n",
       "1137                         NaN   \n",
       "1141                         NaN   \n",
       "\n",
       "                                              Reference     Publication date  \\\n",
       "39    Gemini: A Family of Highly Capable Multimodal ...  2023-12-06 00:00:00   \n",
       "46                                                  NaN  2023-11-30 00:00:00   \n",
       "54                       Inflection-2: The Next Step Up  2023-11-22 00:00:00   \n",
       "59    NVIDIA AI Foundation Models: Build Custom Ente...  2023-11-15 00:00:00   \n",
       "83                                                  NaN  2023-11-02 00:00:00   \n",
       "...                                                 ...                  ...   \n",
       "1095  Google's Neural Machine Translation System: Br...  2016-09-26 00:00:00   \n",
       "1131  Mastering the game of Go with deep neural netw...  2016-01-27 00:00:00   \n",
       "1135       Deep Residual Learning for Image Recognition  2015-12-10 00:00:00   \n",
       "1137  Deep Speech 2: End-to-End Speech Recognition i...  2015-12-08 00:00:00   \n",
       "1141  Mastering the game of Go with deep neural netw...  2015-10-01 00:00:00   \n",
       "\n",
       "                                Organization    Parameters  \\\n",
       "39                           Google DeepMind           NaN   \n",
       "46                                   Alibaba  7.200000e+10   \n",
       "54                             Inflection AI           NaN   \n",
       "59                                    NVIDIA  8.000000e+09   \n",
       "83                                     01.AI  3.400000e+10   \n",
       "...                                      ...           ...   \n",
       "1095                                  Google  2.780000e+08   \n",
       "1131                                DeepMind           NaN   \n",
       "1135                               Microsoft  6.000000e+07   \n",
       "1137  Baidu Research - Silicon Valley AI Lab  3.800000e+07   \n",
       "1141                         Google DeepMind  8.209984e+06   \n",
       "\n",
       "      Training compute (FLOP)  Training dataset size (datapoints)  ...  \\\n",
       "39               5.000000e+25                                 NaN  ...   \n",
       "46               1.300000e+24                                 NaN  ...   \n",
       "54               1.001000e+25                                 NaN  ...   \n",
       "59               1.800000e+23                                 NaN  ...   \n",
       "83               6.100000e+23                                 NaN  ...   \n",
       "...                       ...                                 ...  ...   \n",
       "1095             6.900000e+21                         360000000.0  ...   \n",
       "1131             1.900000e+21                          29400000.0  ...   \n",
       "1135             1.210000e+19                           1280000.0  ...   \n",
       "1137             2.600000e+19                         163339200.0  ...   \n",
       "1141             3.800000e+20                                 NaN  ...   \n",
       "\n",
       "       Training hardware                        Country (from Organization)  \\\n",
       "39         Google TPU v4                                      Multinational   \n",
       "46                   NaN                                              China   \n",
       "54      NVIDIA H100 SXM5                           United States of America   \n",
       "59           NVIDIA A100                           United States of America   \n",
       "83                   NaN                                              China   \n",
       "...                  ...                                                ...   \n",
       "1095    NVIDIA Tesla K80                           United States of America   \n",
       "1131                 NaN  United Kingdom of Great Britain and Northern I...   \n",
       "1135                 NaN                           United States of America   \n",
       "1137  NVIDIA GTX Titan X                           United States of America   \n",
       "1141                 NaN                                      Multinational   \n",
       "\n",
       "     Base model Finetune compute (FLOP) Hardware quantity  \\\n",
       "39          NaN                     NaN           55000.0   \n",
       "46          NaN                     NaN               NaN   \n",
       "54          NaN                     NaN            5000.0   \n",
       "59          NaN                     NaN            1024.0   \n",
       "83          NaN                     NaN               NaN   \n",
       "...         ...                     ...               ...   \n",
       "1095        NaN                     NaN              96.0   \n",
       "1131        NaN                     NaN               NaN   \n",
       "1135        NaN                     NaN               NaN   \n",
       "1137        NaN                     NaN               NaN   \n",
       "1141        NaN                     NaN               NaN   \n",
       "\n",
       "     Hardware utilization  Training cloud compute vendor  \\\n",
       "39                    NaN                            NaN   \n",
       "46                    NaN                            NaN   \n",
       "54                    NaN                            NaN   \n",
       "59                   0.34                            NaN   \n",
       "83                    NaN                            NaN   \n",
       "...                   ...                            ...   \n",
       "1095                  NaN                            NaN   \n",
       "1131                  NaN                            NaN   \n",
       "1135                  NaN                            NaN   \n",
       "1137                 0.45                            NaN   \n",
       "1141                  NaN                            NaN   \n",
       "\n",
       "      Training data center          Cost Cost (inflation-adjusted)  \n",
       "39                     NaN           NaN                       NaN  \n",
       "46                     NaN           NaN                       NaN  \n",
       "54                     NaN  1.522783e+07              1.526348e+07  \n",
       "59                     NaN  5.260907e+05              5.273223e+05  \n",
       "83                     NaN           NaN                       NaN  \n",
       "...                    ...           ...                       ...  \n",
       "1095                   NaN  8.843781e+04              9.657571e+04  \n",
       "1131                   NaN           NaN                       NaN  \n",
       "1135                   NaN           NaN                       NaN  \n",
       "1137                   NaN  2.856824e+02              3.178016e+02  \n",
       "1141                   NaN           NaN                       NaN  \n",
       "\n",
       "[148 rows x 22 columns]"
      ]
     },
     "execution_count": 25,
     "metadata": {},
     "output_type": "execute_result"
    }
   ],
   "source": [
    "keep_cols = [\n",
    "    'System',\n",
    "    'Domain',\n",
    "    'Task',\n",
    "    'Model accessibility',\n",
    "    'Reference',\n",
    "    'Publication date',\n",
    "    'Organization',\n",
    "    'Parameters',\n",
    "    'Training compute (FLOP)',\n",
    "    'Training dataset size (datapoints)',\n",
    "    'Epochs',\n",
    "    'Training time (hours)',\n",
    "    'Training hardware',\n",
    "    'Country (from Organization)',\n",
    "    'Base model',\n",
    "    'Finetune compute (FLOP)',\n",
    "    'Hardware quantity',\n",
    "    'Hardware utilization',\n",
    "    'Training cloud compute vendor',\n",
    "    'Training data center',\n",
    "    # 'Training time (chip hours)',\n",
    "    'Cost',\n",
    "    'Cost (inflation-adjusted)',\n",
    "]\n",
    "cost_df[keep_cols]"
   ]
  },
  {
   "cell_type": "code",
   "execution_count": 26,
   "metadata": {
    "ExecuteTime": {
     "end_time": "2024-03-08T01:55:05.694336500Z",
     "start_time": "2024-03-08T01:55:05.094432200Z"
    }
   },
   "outputs": [],
   "source": [
    "cost_df[keep_cols].to_csv(results_dir + 'price dataset.csv', index=False)"
   ]
  },
  {
   "cell_type": "code",
   "execution_count": null,
   "metadata": {},
   "outputs": [],
   "source": []
  }
 ],
 "metadata": {
  "colab": {
   "provenance": []
  },
  "kernelspec": {
   "display_name": "Python 3 (ipykernel)",
   "language": "python",
   "name": "python3"
  },
  "language_info": {
   "codemirror_mode": {
    "name": "ipython",
    "version": 3
   },
   "file_extension": ".py",
   "mimetype": "text/x-python",
   "name": "python",
   "nbconvert_exporter": "python",
   "pygments_lexer": "ipython3",
   "version": "3.11.4"
  }
 },
 "nbformat": 4,
 "nbformat_minor": 1
}
