{
 "cells": [
  {
   "cell_type": "markdown",
   "metadata": {},
   "source": [
    "# Setup"
   ]
  },
  {
   "cell_type": "code",
   "execution_count": 1,
   "metadata": {
    "ExecuteTime": {
     "end_time": "2024-03-08T01:54:49.691298800Z",
     "start_time": "2024-03-08T01:54:49.634206900Z"
    }
   },
   "outputs": [],
   "source": [
    "%load_ext autoreload\n",
    "%autoreload 2"
   ]
  },
  {
   "cell_type": "code",
   "execution_count": 2,
   "metadata": {
    "ExecuteTime": {
     "end_time": "2024-03-08T01:54:56.468786200Z",
     "start_time": "2024-03-08T01:54:49.695864500Z"
    },
    "id": "qltoZ7TbdkHZ"
   },
   "outputs": [],
   "source": [
    "import numpy as np\n",
    "import os\n",
    "import pandas as pd\n",
    "import plotly.express as px\n",
    "\n",
    "from cost import *\n",
    "from plotting import *\n",
    "from prices import *\n",
    "from imputation import *\n",
    "from inflation import *\n",
    "from regression import *\n",
    "from utils import *"
   ]
  },
  {
   "cell_type": "code",
   "execution_count": 3,
   "metadata": {
    "ExecuteTime": {
     "end_time": "2024-03-08T01:54:56.578403700Z",
     "start_time": "2024-03-08T01:54:56.468786200Z"
    }
   },
   "outputs": [],
   "source": [
    "estimation_method = 'hardware-capex-opex'\n",
    "compute_percentile_threshold = 50  # select systems >= this percentile of training compute\n",
    "variant = 'interconnect-constant-overhead-15pc'\n",
    "\n",
    "estimation_method_lookup = {\n",
    "    'cloud': estimate_costs,\n",
    "    'amortized': estimate_amortized_hardware_costs,\n",
    "    'up-front-server-capex': estimate_upfront_server_capex,\n",
    "    'hardware-capex-opex': estimate_hardware_capex_opex,\n",
    "}\n",
    "cost_estimation_function = estimation_method_lookup[estimation_method]\n",
    "\n",
    "results_dir = f'results/{estimation_method}-{compute_percentile_threshold}th-{variant}/'\n",
    "os.makedirs(results_dir, exist_ok=True)"
   ]
  },
  {
   "cell_type": "markdown",
   "metadata": {},
   "source": [
    "# Load data"
   ]
  },
  {
   "cell_type": "code",
   "execution_count": 4,
   "metadata": {
    "ExecuteTime": {
     "end_time": "2024-03-08T01:54:57.129865300Z",
     "start_time": "2024-03-08T01:54:56.872275900Z"
    }
   },
   "outputs": [],
   "source": [
    "frontier_pcd_df, hardware_df, price_df = load_data_for_cost_estimation(\n",
    "    compute_percentile_threshold=compute_percentile_threshold\n",
    ")"
   ]
  },
  {
   "cell_type": "code",
   "execution_count": 5,
   "metadata": {
    "ExecuteTime": {
     "end_time": "2024-03-08T01:54:57.278230500Z",
     "start_time": "2024-03-08T01:54:57.129865300Z"
    }
   },
   "outputs": [
    {
     "data": {
      "text/plain": [
       "(148, 5510, 142)"
      ]
     },
     "execution_count": 5,
     "metadata": {},
     "output_type": "execute_result"
    }
   ],
   "source": [
    "len(frontier_pcd_df), len(hardware_df), len(price_df)"
   ]
  },
  {
   "cell_type": "markdown",
   "metadata": {},
   "source": [
    "# Cost estimation"
   ]
  },
  {
   "cell_type": "code",
   "execution_count": 6,
   "metadata": {
    "ExecuteTime": {
     "end_time": "2024-03-08T01:54:57.807954200Z",
     "start_time": "2024-03-08T01:54:57.278230500Z"
    }
   },
   "outputs": [
    {
     "name": "stdout",
     "output_type": "stream",
     "text": [
      "==== System: Gemini Ultra ====\n",
      "Trying Google TPU v4\n",
      "Could not find hardware model after soft matching: Google TPU v4\n",
      "\n",
      "\n",
      "==== System: Qwen-72B ====\n",
      "Could not find hardware model for Qwen-72B\n",
      "\n",
      "\n",
      "==== System: Inflection-2 ====\n",
      "Trying NVIDIA H100 SXM5\n",
      "Found price: 39546.976\n",
      "\n",
      "==== System: Nemotron-3-8B ====\n",
      "Trying NVIDIA A100\n",
      "Soft matching NVIDIA A100 to NVIDIA A100\n",
      "Soft matching NVIDIA A100 to NVIDIA A100 PCIe\n",
      "Found price: 22000.0\n",
      "\n",
      "==== System: Yi-34B ====\n",
      "Could not find hardware model for Yi-34B\n",
      "\n",
      "\n",
      "==== System: Skywork-13B ====\n",
      "Trying NVIDIA A800\n",
      "Could not find hardware model after soft matching: NVIDIA A800\n",
      "\n",
      "\n",
      "==== System: ChatGLM3 ====\n",
      "Could not find hardware model for ChatGLM3\n",
      "\n",
      "\n",
      "==== System: XGen-7B ====\n",
      "Trying Google TPU v4\n",
      "Could not find hardware model after soft matching: Google TPU v4\n",
      "\n",
      "\n",
      "==== System: Falcon 180B ====\n",
      "Trying NVIDIA A100 SXM4 40 GB\n",
      "Found price: 22958.333333333332\n",
      "\n",
      "==== System: Llama 2-70B ====\n",
      "Trying NVIDIA A100 SXM4 80 GB\n",
      "Found price: 25641.25\n",
      "\n",
      "==== System: Llama 2-34B ====\n",
      "Trying NVIDIA A100 SXM4 80 GB\n",
      "Found price: 25641.25\n",
      "\n",
      "==== System: Llama 2-7B ====\n",
      "Trying NVIDIA A100 SXM4 80 GB\n",
      "Found price: 25641.25\n",
      "\n",
      "==== System: Llama 2-13B ====\n",
      "Trying NVIDIA A100 SXM4 80 GB\n",
      "Found price: 25641.25\n",
      "\n",
      "==== System: Claude 2 ====\n",
      "Could not find hardware model for Claude 2\n",
      "\n",
      "\n",
      "==== System: xTrimoPGLM -100B ====\n",
      "Trying NVIDIA A100 SXM4 40 GB\n",
      "Found price: 22958.333333333332\n",
      "\n",
      "==== System: Pangu-Weather ====\n",
      "Trying NVIDIA V100\n",
      "Found price: 17937.5\n",
      "\n",
      "==== System: PaLM 2 ====\n",
      "Trying Google TPU v4\n",
      "Could not find hardware model after soft matching: Google TPU v4\n",
      "\n",
      "\n",
      "==== System: StarCoder ====\n",
      "Trying NVIDIA A100 SXM4 80 GB\n",
      "Found price: 25641.25\n",
      "\n",
      "==== System: WizardLM-7B ====\n",
      "Trying NVIDIA V100\n",
      "Found price: 17937.5\n",
      "\n",
      "==== System: BloombergGPT ====\n",
      "Trying NVIDIA A100\n",
      "Soft matching NVIDIA A100 to NVIDIA A100\n",
      "Soft matching NVIDIA A100 to NVIDIA A100 PCIe\n",
      "Found price: 22000.0\n",
      "\n",
      "==== System: PanGu-Σ ====\n",
      "Trying Huawei Ascend 910\n",
      "Could not find hardware model after soft matching: Huawei Ascend 910\n",
      "\n",
      "\n",
      "==== System: GPT-4 ====\n",
      "Trying NVIDIA A100 SXM4 40 GB\n",
      "Found price: 22958.333333333332\n",
      "\n",
      "==== System: Falcon-40B ====\n",
      "Trying NVIDIA A100\n",
      "Soft matching NVIDIA A100 to NVIDIA A100\n",
      "Soft matching NVIDIA A100 to NVIDIA A100 PCIe\n",
      "Found price: 22000.0\n",
      "\n",
      "==== System: LLaMA-13B ====\n",
      "Trying NVIDIA A100\n",
      "Soft matching NVIDIA A100 to NVIDIA A100\n",
      "Soft matching NVIDIA A100 to NVIDIA A100 PCIe\n",
      "Found price: 22000.0\n",
      "\n",
      "==== System: LLaMA-65B ====\n",
      "Trying NVIDIA A100\n",
      "Soft matching NVIDIA A100 to NVIDIA A100\n",
      "Soft matching NVIDIA A100 to NVIDIA A100 PCIe\n",
      "Found price: 22000.0\n",
      "\n",
      "==== System: LLaMA-7B ====\n",
      "Trying NVIDIA A100\n",
      "Soft matching NVIDIA A100 to NVIDIA A100\n",
      "Soft matching NVIDIA A100 to NVIDIA A100 PCIe\n",
      "Found price: 22000.0\n",
      "\n",
      "==== System: ViT-22B ====\n",
      "Trying Google TPU v4\n",
      "Could not find hardware model after soft matching: Google TPU v4\n",
      "\n",
      "\n",
      "==== System: GPT-3.5 (text-davinci-003) ====\n",
      "Trying NVIDIA A100 SXM4 40 GB\n",
      "Found price: 22958.333333333332\n",
      "\n",
      "==== System: Galactica ====\n",
      "Trying NVIDIA A100 SXM4 80 GB\n",
      "Found price: 25641.25\n",
      "\n",
      "==== System: BLOOM-176B ====\n",
      "Trying NVIDIA A100 SXM4 80 GB\n",
      "Found price: 25641.25\n",
      "\n",
      "==== System: Taiyi-Stable Diffusion ====\n",
      "Trying NVIDIA A100\n",
      "Soft matching NVIDIA A100 to NVIDIA A100\n",
      "Soft matching NVIDIA A100 to NVIDIA A100 PCIe\n",
      "Found price: 22000.0\n",
      "\n",
      "==== System: U-PaLM (540B) ====\n",
      "Trying Google TPU v4\n",
      "Could not find hardware model after soft matching: Google TPU v4\n",
      "\n",
      "\n",
      "==== System: Whisper ====\n",
      "Could not find hardware model for Whisper\n",
      "\n",
      "\n",
      "==== System: PaLI ====\n",
      "Trying Google TPU v4\n",
      "Could not find hardware model after soft matching: Google TPU v4\n",
      "\n",
      "\n",
      "==== System: BlenderBot 3 ====\n",
      "Trying NVIDIA A100 SXM4 40 GB\n",
      "Found price: 22958.333333333332\n",
      "\n",
      "==== System: GLM-130B ====\n",
      "Trying NVIDIA A100 SXM4 40 GB\n",
      "Found price: 22958.333333333332\n",
      "\n",
      "==== System: AlexaTM 20B ====\n",
      "Trying NVIDIA A100\n",
      "Soft matching NVIDIA A100 to NVIDIA A100\n",
      "Soft matching NVIDIA A100 to NVIDIA A100 PCIe\n",
      "Found price: 22000.0\n",
      "\n",
      "==== System: ESM2-15B ====\n",
      "Trying NVIDIA V100\n",
      "Found price: 17937.5\n",
      "\n",
      "==== System: ESM2-3B ====\n",
      "Could not find hardware model for ESM2-3B\n",
      "\n",
      "\n",
      "==== System: NLLB ====\n",
      "Trying NVIDIA A100 SXM4 80 GB\n",
      "Found price: 25641.25\n",
      "\n",
      "==== System: Minerva (540B) ====\n",
      "Trying Google TPU v4\n",
      "Could not find hardware model after soft matching: Google TPU v4\n",
      "\n",
      "\n",
      "==== System: Parti ====\n",
      "Trying Google TPU v4\n",
      "Could not find hardware model after soft matching: Google TPU v4\n",
      "\n",
      "\n",
      "==== System: CoCa ====\n",
      "Trying Google TPU v4\n",
      "Could not find hardware model after soft matching: Google TPU v4\n",
      "\n",
      "\n",
      "==== System: Imagen ====\n",
      "Trying Google TPU v4\n",
      "Could not find hardware model after soft matching: Google TPU v4\n",
      "\n",
      "\n",
      "==== System: UL2 ====\n",
      "Trying Google TPU v4\n",
      "Could not find hardware model after soft matching: Google TPU v4\n",
      "\n",
      "\n",
      "==== System: OPT-175B ====\n",
      "Trying NVIDIA A100 SXM4 80 GB\n",
      "Found price: 25641.25\n",
      "\n",
      "==== System: Flamingo ====\n",
      "Trying Google TPU v4\n",
      "Could not find hardware model after soft matching: Google TPU v4\n",
      "\n",
      "\n",
      "==== System: Stable Diffusion (LDM-KL-8-G) ====\n",
      "Trying NVIDIA A100\n",
      "Soft matching NVIDIA A100 to NVIDIA A100\n",
      "Soft matching NVIDIA A100 to NVIDIA A100 PCIe\n",
      "Found price: 22000.0\n",
      "\n",
      "==== System: PaLM (540B) ====\n",
      "Trying Google TPU v4\n",
      "Could not find hardware model after soft matching: Google TPU v4\n",
      "\n",
      "\n",
      "==== System: Chinchilla ====\n",
      "Trying Google TPU v4,Google TPU v3\n",
      "Could not find hardware model after soft matching: Google TPU v4,Google TPU v3\n",
      "\n",
      "\n",
      "==== System: LaMDA ====\n",
      "Trying Google TPU v3\n",
      "Could not find hardware model after soft matching: Google TPU v3\n",
      "\n",
      "\n",
      "==== System: GPT-NeoX-20B ====\n",
      "Trying NVIDIA A100 SXM4 40 GB\n",
      "Found price: 22958.333333333332\n",
      "\n",
      "==== System: AlphaCode ====\n",
      "Trying Google TPU v4,Google TPU v4i\n",
      "Could not find hardware model after soft matching: Google TPU v4,Google TPU v4i\n",
      "\n",
      "\n",
      "==== System: ERNIE 3.0 Titan ====\n",
      "Trying Huawei Ascend 910,NVIDIA Tesla V100 DGXS 32 GB\n",
      "Could not find hardware model after soft matching: Huawei Ascend 910,NVIDIA Tesla V100 DGXS 32 GB\n",
      "\n",
      "\n",
      "==== System: XGLM-7.5B ====\n",
      "Trying NVIDIA A100\n",
      "Soft matching NVIDIA A100 to NVIDIA A100\n",
      "Soft matching NVIDIA A100 to NVIDIA A100 PCIe\n",
      "Found price: 22000.0\n",
      "\n",
      "==== System: GLaM ====\n",
      "Trying Google TPU v4\n",
      "Could not find hardware model after soft matching: Google TPU v4\n",
      "\n",
      "\n",
      "==== System: Gopher (280B) ====\n",
      "Trying Google TPU v3\n",
      "Could not find hardware model after soft matching: Google TPU v3\n",
      "\n",
      "\n",
      "==== System: Florence ====\n",
      "Trying NVIDIA A100 SXM4 40 GB\n",
      "Found price: 22958.333333333332\n",
      "\n",
      "==== System: BASIC-L ====\n",
      "Trying Google TPU v4\n",
      "Could not find hardware model after soft matching: Google TPU v4\n",
      "\n",
      "\n",
      "==== System: T0-XXL ====\n",
      "Trying Google TPU v3\n",
      "Could not find hardware model after soft matching: Google TPU v3\n",
      "\n",
      "\n",
      "==== System: Yuan 1.0 ====\n",
      "Could not find hardware model for Yuan 1.0\n",
      "\n",
      "\n",
      "==== System: Megatron-Turing NLG 530B ====\n",
      "Trying NVIDIA A100 SXM4 80 GB\n",
      "Found price: 25641.25\n",
      "\n",
      "==== System: HyperCLOVA ====\n",
      "Trying NVIDIA A100\n",
      "Soft matching NVIDIA A100 to NVIDIA A100\n",
      "Soft matching NVIDIA A100 to NVIDIA A100 PCIe\n",
      "Found price: 22000.0\n",
      "\n",
      "==== System: FLAN 137B ====\n",
      "Trying Google TPU v3\n",
      "Could not find hardware model after soft matching: Google TPU v3\n",
      "\n",
      "\n",
      "==== System: GOAT ====\n",
      "Trying Google TPU v3\n",
      "Could not find hardware model after soft matching: Google TPU v3\n",
      "\n",
      "\n",
      "==== System: HuBERT ====\n",
      "Could not find hardware model for HuBERT\n",
      "\n",
      "\n",
      "==== System: ERNIE 3.0 ====\n",
      "Trying NVIDIA V100\n",
      "Found price: 17937.5\n",
      "\n",
      "==== System: ALIGN ====\n",
      "Trying Google TPU v3\n",
      "Could not find hardware model after soft matching: Google TPU v3\n",
      "\n",
      "\n",
      "==== System: DeBERTa ====\n",
      "Trying NVIDIA V100\n",
      "Found price: 17937.5\n",
      "\n",
      "==== System: CoAtNet ====\n",
      "Trying Google TPU v3\n",
      "Could not find hardware model after soft matching: Google TPU v3\n",
      "\n",
      "\n",
      "==== System: ByT5-XXL ====\n",
      "Trying Google TPU v3\n",
      "Could not find hardware model after soft matching: Google TPU v3\n",
      "\n",
      "\n",
      "==== System: CogView ====\n",
      "Trying NVIDIA Tesla V100 DGXS 16 GB\n",
      "Soft matching NVIDIA Tesla V100 DGXS 16 GB to NVIDIA V100\n",
      "Found price: 17937.5\n",
      "\n",
      "==== System: ProtT5-XXL ====\n",
      "Trying Google TPU v3\n",
      "Could not find hardware model after soft matching: Google TPU v3\n",
      "\n",
      "\n",
      "==== System: ProtT5-XXL-BFD ====\n",
      "Could not find hardware model for ProtT5-XXL-BFD\n",
      "\n",
      "\n",
      "==== System: ProtBERT-BFD ====\n",
      "Trying Google TPU v3\n",
      "Could not find hardware model after soft matching: Google TPU v3\n",
      "\n",
      "\n",
      "==== System: PLUG ====\n",
      "Trying NVIDIA A100\n",
      "Soft matching NVIDIA A100 to NVIDIA A100\n",
      "Soft matching NVIDIA A100 to NVIDIA A100 PCIe\n",
      "Found price: 22000.0\n",
      "\n",
      "==== System: M6-T ====\n",
      "Trying NVIDIA Tesla V100 DGXS 32 GB\n",
      "Found price: 21793.960000000003\n",
      "\n",
      "==== System: Meta Pseudo Labels ====\n",
      "Trying Google TPU v3\n",
      "Could not find hardware model after soft matching: Google TPU v3\n",
      "\n",
      "\n",
      "==== System: MSA Transformer ====\n",
      "Trying NVIDIA Tesla V100 DGXS 32 GB\n",
      "Found price: 21793.960000000003\n",
      "\n",
      "==== System: Switch ====\n",
      "Trying Google TPU v3\n",
      "Could not find hardware model after soft matching: Google TPU v3\n",
      "\n",
      "\n",
      "==== System: DALL-E ====\n",
      "Trying NVIDIA Tesla V100 DGXS 16 GB\n",
      "Soft matching NVIDIA Tesla V100 DGXS 16 GB to NVIDIA V100\n",
      "Found price: 17937.5\n",
      "\n",
      "==== System: CLIP (ViT L/14@336px) ====\n",
      "Trying NVIDIA V100\n",
      "Found price: 17937.5\n",
      "\n",
      "==== System: AlphaFold 2 ====\n",
      "Trying Google TPU v3\n",
      "Could not find hardware model after soft matching: Google TPU v3\n",
      "\n",
      "\n",
      "==== System: ViT-Huge/14 ====\n",
      "Trying Google TPU v3\n",
      "Could not find hardware model after soft matching: Google TPU v3\n",
      "\n",
      "\n",
      "==== System: wave2vec 2.0 LARGE ====\n",
      "Trying NVIDIA Tesla V100 DGXS 32 GB\n",
      "Found price: 21793.960000000003\n",
      "\n",
      "==== System: GBERT-Large ====\n",
      "Trying Google TPU v3\n",
      "Could not find hardware model after soft matching: Google TPU v3\n",
      "\n",
      "\n",
      "==== System: Conformer + Wav2vec 2.0 + Noisy Student ====\n",
      "Trying Google TPU v3\n",
      "Could not find hardware model after soft matching: Google TPU v3\n",
      "\n",
      "\n",
      "==== System: mT5-XXL ====\n",
      "Could not find hardware model for mT5-XXL\n",
      "\n",
      "\n",
      "==== System: GShard (dense) ====\n",
      "Trying Google TPU v3\n",
      "Could not find hardware model after soft matching: Google TPU v3\n",
      "\n",
      "\n",
      "==== System: iGPT-XL ====\n",
      "Trying NVIDIA Tesla V100 DGXS 32 GB\n",
      "Found price: 21793.960000000003\n",
      "\n",
      "==== System: iGPT-L ====\n",
      "Trying NVIDIA Tesla V100 DGXS 32 GB\n",
      "Found price: 21793.960000000003\n",
      "\n",
      "==== System: GPT-3 175B (davinci) ====\n",
      "Trying NVIDIA Tesla V100 DGXS 32 GB\n",
      "Found price: 21793.960000000003\n",
      "\n",
      "==== System: Once for All ====\n",
      "Trying NVIDIA V100\n",
      "Found price: 17937.5\n",
      "\n",
      "==== System: ELECTRA ====\n",
      "Could not find hardware model for ELECTRA\n",
      "\n",
      "\n",
      "==== System: Turing-NLG ====\n",
      "Trying NVIDIA Tesla V100 DGXS 32 GB\n",
      "Found price: 21793.960000000003\n",
      "\n",
      "==== System: ALBERT-xxlarge ====\n",
      "Trying Google TPU v3\n",
      "Could not find hardware model after soft matching: Google TPU v3\n",
      "\n",
      "\n",
      "==== System: Meena ====\n",
      "Trying Google TPU v3\n",
      "Could not find hardware model after soft matching: Google TPU v3\n",
      "\n",
      "\n",
      "==== System: ContextNet + Noisy Student ====\n",
      "Trying Google TPU v3\n",
      "Could not find hardware model after soft matching: Google TPU v3\n",
      "\n",
      "\n",
      "==== System: DD-PPO ====\n",
      "Trying NVIDIA V100\n",
      "Found price: 17937.5\n",
      "\n",
      "==== System: OpenAI Five ====\n",
      "Could not find hardware model for OpenAI Five\n",
      "\n",
      "\n",
      "==== System: OpenAI Five Rerun ====\n",
      "Could not find hardware model for OpenAI Five Rerun\n",
      "\n",
      "\n",
      "==== System: Noisy Student (L2) ====\n",
      "Trying Google TPU v3\n",
      "Could not find hardware model after soft matching: Google TPU v3\n",
      "\n",
      "\n",
      "==== System: CamemBERT ====\n",
      "Trying NVIDIA V100\n",
      "Found price: 17937.5\n",
      "\n",
      "==== System: AlphaStar ====\n",
      "Trying Google TPU v3\n",
      "Could not find hardware model after soft matching: Google TPU v3\n",
      "\n",
      "\n",
      "==== System: T5-3B ====\n",
      "Trying Google TPU v3\n",
      "Could not find hardware model after soft matching: Google TPU v3\n",
      "\n",
      "\n",
      "==== System: T5-11B ====\n",
      "Trying Google TPU v3\n",
      "Could not find hardware model after soft matching: Google TPU v3\n",
      "\n",
      "\n",
      "==== System: Megatron-BERT ====\n",
      "Trying NVIDIA Tesla V100S PCIe 32 GB\n",
      "Soft matching NVIDIA Tesla V100S PCIe 32 GB to NVIDIA V100\n",
      "Found price: 17937.5\n",
      "\n",
      "==== System: Megatron-LM (8.3B) ====\n",
      "Trying NVIDIA Tesla V100 DGXS 32 GB\n",
      "Found price: 21793.960000000003\n",
      "\n",
      "==== System: Megatron-LM (355M) ====\n",
      "Could not find hardware model for Megatron-LM (355M)\n",
      "\n",
      "\n",
      "==== System: RoBERTa Large ====\n",
      "Trying NVIDIA Tesla V100 DGXS 32 GB\n",
      "Found price: 21793.960000000003\n",
      "\n",
      "==== System: MnasNet-A3 ====\n",
      "Trying Google TPU v3\n",
      "Could not find hardware model after soft matching: Google TPU v3\n",
      "\n",
      "\n",
      "==== System: MnasNet-A1 + SSDLite ====\n",
      "Trying Google TPU v3\n",
      "Could not find hardware model after soft matching: Google TPU v3\n",
      "\n",
      "\n",
      "==== System: BERT-Large-CAS (PTB+WT2+WT103) ====\n",
      "Could not find hardware model for BERT-Large-CAS (PTB+WT2+WT103)\n",
      "\n",
      "\n",
      "==== System: SciBERT ====\n",
      "Trying Google TPU v3\n",
      "Could not find hardware model after soft matching: Google TPU v3\n",
      "\n",
      "\n",
      "==== System: GPT-2 (1.5B) ====\n",
      "Could not find hardware model for GPT-2 (1.5B)\n",
      "\n",
      "\n",
      "==== System: Mesh-TensorFlow Transformer 4.9B (language modelling) ====\n",
      "Trying Google TPU v2\n",
      "Could not find hardware model after soft matching: Google TPU v2\n",
      "\n",
      "\n",
      "==== System: Mesh-TensorFlow Transformer 2.9B (translation) ====\n",
      "Trying Google TPU v2\n",
      "Could not find hardware model after soft matching: Google TPU v2\n",
      "\n",
      "\n",
      "==== System: BERT-Large ====\n",
      "Trying Google TPU v2\n",
      "Could not find hardware model after soft matching: Google TPU v2\n",
      "\n",
      "\n",
      "==== System: BigGAN-deep 512x512 ====\n",
      "Trying Google TPU v3\n",
      "Could not find hardware model after soft matching: Google TPU v3\n",
      "\n",
      "\n",
      "==== System: Transformer (Adaptive Input Embeddings) ====\n",
      "Trying NVIDIA V100\n",
      "Found price: 17937.5\n",
      "\n",
      "==== System: Big Transformer for Back-Translation ====\n",
      "Trying NVIDIA V100\n",
      "Found price: 17937.5\n",
      "\n",
      "==== System: FTW ====\n",
      "Could not find hardware model for FTW\n",
      "\n",
      "\n",
      "==== System: Population-based DRL ====\n",
      "Could not find hardware model for Population-based DRL\n",
      "\n",
      "\n",
      "==== System: GPT ====\n",
      "Trying NVIDIA Quadro P600\n",
      "Could not find hardware model after soft matching: NVIDIA Quadro P600\n",
      "\n",
      "\n",
      "==== System: ResNeXt-101 32x48d ====\n",
      "Could not find hardware model for ResNeXt-101 32x48d\n",
      "\n",
      "\n",
      "==== System: YOLOv3 ====\n",
      "Trying NVIDIA M40,NVIDIA GTX Titan X\n",
      "Could not find hardware model after soft matching: NVIDIA M40,NVIDIA GTX Titan X\n",
      "\n",
      "\n",
      "==== System: LSTM (Hebbian, Cache, MbPA) ====\n",
      "Trying NVIDIA P100\n",
      "Could not find hardware model after soft matching: NVIDIA P100\n",
      "\n",
      "\n",
      "==== System: AmoebaNet-A (F=448) ====\n",
      "Trying NVIDIA Tesla K40s\n",
      "Found price: 5332.342857142858\n",
      "\n",
      "==== System: IMPALA ====\n",
      "Trying NVIDIA P100\n",
      "Could not find hardware model after soft matching: NVIDIA P100\n",
      "\n",
      "\n",
      "==== System: AlphaZero ====\n",
      "Trying Google TPU v2\n",
      "Could not find hardware model after soft matching: Google TPU v2\n",
      "\n",
      "\n",
      "==== System: PNASNet-5 ====\n",
      "Could not find hardware model for PNASNet-5\n",
      "\n",
      "\n",
      "==== System: AlphaGo Zero ====\n",
      "Trying Google TPU v1\n",
      "Could not find hardware model after soft matching: Google TPU v1\n",
      "\n",
      "\n",
      "==== System: OpenAI TI7 DOTA 1v1 ====\n",
      "Could not find hardware model for OpenAI TI7 DOTA 1v1\n",
      "\n",
      "\n",
      "==== System: JFT ====\n",
      "Trying NVIDIA Tesla K80\n",
      "Found price: 4024.0\n",
      "\n",
      "==== System: Transformer ====\n",
      "Trying NVIDIA P100\n",
      "Could not find hardware model after soft matching: NVIDIA P100\n",
      "\n",
      "\n",
      "==== System: MoE ====\n",
      "Trying NVIDIA Tesla K40t\n",
      "Could not find hardware model after soft matching: NVIDIA Tesla K40t\n",
      "\n",
      "\n",
      "==== System: DeepStack ====\n",
      "Could not find hardware model for DeepStack\n",
      "\n",
      "\n",
      "==== System: Libratus ====\n",
      "Could not find hardware model for Libratus\n",
      "\n",
      "\n",
      "==== System: AlphaGo Master ====\n",
      "Trying Google TPU v1\n",
      "Could not find hardware model after soft matching: Google TPU v1\n",
      "\n",
      "\n",
      "==== System: PolyNet ====\n",
      "Trying NVIDIA GTX Titan X\n",
      "Found price: 1598.4\n",
      "\n",
      "==== System: NASv3 (CIFAR-10) ====\n",
      "Could not find hardware model for NASv3 (CIFAR-10)\n",
      "\n",
      "\n",
      "==== System: BIDAF ====\n",
      "Trying NVIDIA GTX Titan X\n",
      "Found price: 1598.4\n",
      "\n",
      "==== System: Xception ====\n",
      "Trying NVIDIA Tesla K80\n",
      "Found price: 4024.0\n",
      "\n",
      "==== System: GNMT ====\n",
      "Trying NVIDIA Tesla K80\n",
      "Found price: 4024.0\n",
      "\n",
      "==== System: AlphaGo Lee ====\n",
      "Could not find hardware model for AlphaGo Lee\n",
      "\n",
      "\n",
      "==== System: ResNet-152 (ImageNet) ====\n",
      "Could not find hardware model for ResNet-152 (ImageNet)\n",
      "\n",
      "\n",
      "==== System: DeepSpeech2 (English) ====\n",
      "Trying NVIDIA GTX Titan X\n",
      "Found price: 1598.4\n",
      "\n",
      "==== System: AlphaGo Fan ====\n",
      "Could not find hardware model for AlphaGo Fan\n",
      "\n",
      "\n",
      "==== System: Gemini Ultra ====\n",
      "Unable to estimate cost\n",
      "==== System: Qwen-72B ====\n",
      "Unable to estimate cost\n",
      "==== System: Inflection-2 ====\n",
      "Imputing training time from compute and hardware\n",
      "Found NVIDIA H100 SXM5 at 989000000000000.0 FLOP/s\n",
      "Estimated cost: 14410203.63173034\n",
      "==== System: Nemotron-3-8B ====\n",
      "Estimated cost: 506559.25277846213\n",
      "==== System: Yi-34B ====\n",
      "Unable to estimate cost\n",
      "==== System: Skywork-13B ====\n",
      "Unable to estimate cost\n",
      "==== System: ChatGLM3 ====\n",
      "Unable to estimate cost\n",
      "==== System: XGen-7B ====\n",
      "Unable to estimate cost\n",
      "==== System: Falcon 180B ====\n",
      "Estimated cost: 19937470.988966458\n",
      "==== System: Llama 2-70B ====\n",
      "Estimated cost: 2655363.5690965094\n",
      "==== System: Llama 2-34B ====\n",
      "Imputing training time from compute and hardware\n",
      "Found NVIDIA A100 SXM4 80 GB at 312000000000000.0 FLOP/s\n",
      "Estimated cost: 1190808.818050033\n",
      "==== System: Llama 2-7B ====\n",
      "Imputing training time from compute and hardware\n",
      "Found NVIDIA A100 SXM4 80 GB at 312000000000000.0 FLOP/s\n",
      "Estimated cost: 245166.52136324206\n",
      "==== System: Llama 2-13B ====\n",
      "Imputing training time from compute and hardware\n",
      "Found NVIDIA A100 SXM4 80 GB at 312000000000000.0 FLOP/s\n",
      "Estimated cost: 466983.8502156993\n",
      "==== System: Claude 2 ====\n",
      "Unable to estimate cost\n",
      "==== System: xTrimoPGLM -100B ====\n",
      "Estimated cost: 3385216.42833493\n",
      "==== System: Pangu-Weather ====\n",
      "Estimated cost: nan\n",
      "==== System: PaLM 2 ====\n",
      "Unable to estimate cost\n",
      "==== System: StarCoder ====\n",
      "Estimated cost: 398420.7772580424\n",
      "==== System: WizardLM-7B ====\n",
      "Imputing training time from compute and hardware\n",
      "Found NVIDIA A100 at 312000000000000.0 FLOP/s\n",
      "Estimated cost: nan\n",
      "==== System: BloombergGPT ====\n",
      "Estimated cost: 705405.9770050955\n",
      "==== System: PanGu-Σ ====\n",
      "Unable to estimate cost\n",
      "==== System: GPT-4 ====\n",
      "Estimated cost: 64224573.5660744\n",
      "==== System: Falcon-40B ====\n",
      "Estimated cost: 599872.7993429159\n",
      "==== System: LLaMA-13B ====\n",
      "Imputing training time from compute and hardware\n",
      "Found NVIDIA A100 at 312000000000000.0 FLOP/s\n",
      "Estimated cost: 115597.73221045418\n",
      "==== System: LLaMA-65B ====\n",
      "Estimated cost: 1095787.234338733\n",
      "==== System: LLaMA-7B ====\n",
      "Imputing training time from compute and hardware\n",
      "Found NVIDIA A100 at 312000000000000.0 FLOP/s\n",
      "Estimated cost: 89069.04232418079\n",
      "==== System: ViT-22B ====\n",
      "Unable to estimate cost\n",
      "==== System: GPT-3.5 (text-davinci-003) ====\n",
      "Imputing training time from compute and hardware\n",
      "Found NVIDIA A100 SXM4 40 GB at 312000000000000.0 FLOP/s\n",
      "Estimated cost: 6920619.223905584\n",
      "==== System: Galactica ====\n",
      "Imputing training time from compute and hardware\n",
      "Found NVIDIA A100 SXM4 80 GB at 312000000000000.0 FLOP/s\n",
      "Estimated cost: 948323.5466867911\n",
      "==== System: BLOOM-176B ====\n",
      "Estimated cost: 1345716.4626529773\n",
      "==== System: Taiyi-Stable Diffusion ====\n",
      "Estimated cost: 166793.76052907444\n",
      "==== System: U-PaLM (540B) ====\n",
      "Unable to estimate cost\n",
      "==== System: Whisper ====\n",
      "Unable to estimate cost\n",
      "==== System: PaLI ====\n",
      "Unable to estimate cost\n",
      "==== System: BlenderBot 3 ====\n",
      "Imputing training time from compute and hardware\n",
      "Found NVIDIA A100 SXM4 40 GB at 312000000000000.0 FLOP/s\n",
      "Estimated cost: 2140524.5803523147\n",
      "==== System: GLM-130B ====\n",
      "Estimated cost: 1250472.4168104036\n",
      "==== System: AlexaTM 20B ====\n",
      "Estimated cost: 395768.3451619439\n",
      "==== System: ESM2-15B ====\n",
      "Estimated cost: nan\n",
      "==== System: ESM2-3B ====\n",
      "Unable to estimate cost\n",
      "==== System: NLLB ====\n",
      "Imputing training time from compute and hardware\n",
      "Found NVIDIA A100 SXM4 80 GB at 312000000000000.0 FLOP/s\n",
      "Estimated cost: 51253.77719718791\n",
      "==== System: Minerva (540B) ====\n",
      "Unable to estimate cost\n",
      "==== System: Parti ====\n",
      "Unable to estimate cost\n",
      "==== System: CoCa ====\n",
      "Unable to estimate cost\n",
      "==== System: Imagen ====\n",
      "Unable to estimate cost\n",
      "==== System: UL2 ====\n",
      "Unable to estimate cost\n",
      "==== System: OPT-175B ====\n",
      "Estimated cost: 1001720.9902947935\n",
      "==== System: Flamingo ====\n",
      "Unable to estimate cost\n",
      "==== System: Stable Diffusion (LDM-KL-8-G) ====\n",
      "Estimated cost: 163309.5994217659\n",
      "==== System: PaLM (540B) ====\n",
      "Unable to estimate cost\n",
      "==== System: Chinchilla ====\n",
      "Unable to estimate cost\n",
      "==== System: LaMDA ====\n",
      "Unable to estimate cost\n",
      "==== System: GPT-NeoX-20B ====\n",
      "Estimated cost: 234463.57815195067\n",
      "==== System: AlphaCode ====\n",
      "Unable to estimate cost\n",
      "==== System: ERNIE 3.0 Titan ====\n",
      "Unable to estimate cost\n",
      "==== System: XGLM-7.5B ====\n",
      "Estimated cost: 136547.03088668035\n",
      "==== System: GLaM ====\n",
      "Unable to estimate cost\n",
      "==== System: Gopher (280B) ====\n",
      "Unable to estimate cost\n",
      "==== System: Florence ====\n",
      "Estimated cost: 135194.3844456004\n",
      "==== System: BASIC-L ====\n",
      "Unable to estimate cost\n",
      "==== System: T0-XXL ====\n",
      "Unable to estimate cost\n",
      "==== System: Yuan 1.0 ====\n",
      "Unable to estimate cost\n",
      "==== System: Megatron-Turing NLG 530B ====\n",
      "Estimated cost: 4200017.310645981\n",
      "==== System: HyperCLOVA ====\n",
      "Estimated cost: 705685.306950673\n",
      "==== System: FLAN 137B ====\n",
      "Unable to estimate cost\n",
      "==== System: GOAT ====\n",
      "Unable to estimate cost\n",
      "==== System: HuBERT ====\n",
      "Unable to estimate cost\n",
      "==== System: ERNIE 3.0 ====\n",
      "Imputing training time from compute and hardware\n",
      "Found NVIDIA V100 at 125000000000000.0 FLOP/s\n",
      "Estimated cost: nan\n",
      "==== System: ALIGN ====\n",
      "Unable to estimate cost\n",
      "==== System: DeBERTa ====\n",
      "Estimated cost: nan\n",
      "==== System: CoAtNet ====\n",
      "Unable to estimate cost\n",
      "==== System: ByT5-XXL ====\n",
      "Unable to estimate cost\n",
      "==== System: CogView ====\n",
      "Imputing training time from compute and hardware\n",
      "Found NVIDIA Tesla V100 DGXS 16 GB at 125000000000000.0 FLOP/s\n",
      "Estimated cost: 135264.40473997462\n",
      "==== System: ProtT5-XXL ====\n",
      "Unable to estimate cost\n",
      "==== System: ProtT5-XXL-BFD ====\n",
      "Unable to estimate cost\n",
      "==== System: ProtBERT-BFD ====\n",
      "Unable to estimate cost\n",
      "==== System: PLUG ====\n",
      "Estimated cost: 115200.49320556696\n",
      "==== System: M6-T ====\n",
      "Imputing training time from compute and hardware\n",
      "Found NVIDIA Tesla V100 DGXS 32 GB at 125000000000000.0 FLOP/s\n",
      "Estimated cost: 33255.943347332424\n",
      "==== System: Meta Pseudo Labels ====\n",
      "Unable to estimate cost\n",
      "==== System: MSA Transformer ====\n",
      "Imputing training time from compute and hardware\n",
      "Found NVIDIA Tesla V100 DGXS 32 GB at 125000000000000.0 FLOP/s\n",
      "Estimated cost: 32932.68999579182\n",
      "==== System: Switch ====\n",
      "Unable to estimate cost\n",
      "==== System: DALL-E ====\n",
      "Imputing training time from compute and hardware\n",
      "Found NVIDIA Tesla V100 DGXS 16 GB at 125000000000000.0 FLOP/s\n",
      "Estimated cost: 237217.42622308977\n",
      "==== System: CLIP (ViT L/14@336px) ====\n",
      "Estimated cost: nan\n",
      "==== System: AlphaFold 2 ====\n",
      "Unable to estimate cost\n",
      "==== System: ViT-Huge/14 ====\n",
      "Unable to estimate cost\n",
      "==== System: wave2vec 2.0 LARGE ====\n",
      "Imputing training time from compute and hardware\n",
      "Found NVIDIA Tesla V100 DGXS 32 GB at 125000000000000.0 FLOP/s\n",
      "Estimated cost: 11350.096792714838\n",
      "==== System: GBERT-Large ====\n",
      "Unable to estimate cost\n",
      "==== System: Conformer + Wav2vec 2.0 + Noisy Student ====\n",
      "Unable to estimate cost\n",
      "==== System: mT5-XXL ====\n",
      "Unable to estimate cost\n",
      "==== System: GShard (dense) ====\n",
      "Unable to estimate cost\n",
      "==== System: iGPT-XL ====\n",
      "Imputing training time from compute and hardware\n",
      "Found NVIDIA Tesla V100 DGXS 32 GB at 125000000000000.0 FLOP/s\n",
      "Estimated cost: 198600.6600839946\n",
      "==== System: iGPT-L ====\n",
      "Imputing training time from compute and hardware\n",
      "Found NVIDIA Tesla V100 DGXS 32 GB at 125000000000000.0 FLOP/s\n",
      "Estimated cost: 53622.178222678536\n",
      "==== System: GPT-3 175B (davinci) ====\n",
      "Estimated cost: 3607310.171343829\n",
      "==== System: Once for All ====\n",
      "Imputing training time from compute and hardware\n",
      "Found NVIDIA V100 at 125000000000000.0 FLOP/s\n",
      "Estimated cost: nan\n",
      "==== System: ELECTRA ====\n",
      "Unable to estimate cost\n",
      "==== System: Turing-NLG ====\n",
      "Imputing training time from compute and hardware\n",
      "Found NVIDIA Tesla V100 DGXS 32 GB at 125000000000000.0 FLOP/s\n",
      "Estimated cost: 93787.64191874892\n",
      "==== System: ALBERT-xxlarge ====\n",
      "Unable to estimate cost\n",
      "==== System: Meena ====\n",
      "Unable to estimate cost\n",
      "==== System: ContextNet + Noisy Student ====\n",
      "Unable to estimate cost\n",
      "==== System: DD-PPO ====\n",
      "Estimated cost: nan\n",
      "==== System: OpenAI Five ====\n",
      "Unable to estimate cost\n",
      "==== System: OpenAI Five Rerun ====\n",
      "Unable to estimate cost\n",
      "==== System: Noisy Student (L2) ====\n",
      "Unable to estimate cost\n",
      "==== System: CamemBERT ====\n",
      "Imputing training time from compute and hardware\n",
      "Found NVIDIA V100 at 125000000000000.0 FLOP/s\n",
      "Estimated cost: nan\n",
      "==== System: AlphaStar ====\n",
      "Unable to estimate cost\n",
      "==== System: T5-3B ====\n",
      "Unable to estimate cost\n",
      "==== System: T5-11B ====\n",
      "Unable to estimate cost\n",
      "==== System: Megatron-BERT ====\n",
      "Estimated cost: 596962.3875519051\n",
      "==== System: Megatron-LM (8.3B) ====\n",
      "Estimated cost: 170250.79640063885\n",
      "==== System: Megatron-LM (355M) ====\n",
      "Unable to estimate cost\n",
      "==== System: RoBERTa Large ====\n",
      "Estimated cost: 124013.29855459732\n",
      "==== System: MnasNet-A3 ====\n",
      "Unable to estimate cost\n",
      "==== System: MnasNet-A1 + SSDLite ====\n",
      "Unable to estimate cost\n",
      "==== System: BERT-Large-CAS (PTB+WT2+WT103) ====\n",
      "Unable to estimate cost\n",
      "==== System: SciBERT ====\n",
      "Unable to estimate cost\n",
      "==== System: GPT-2 (1.5B) ====\n",
      "Unable to estimate cost\n",
      "==== System: Mesh-TensorFlow Transformer 4.9B (language modelling) ====\n",
      "Unable to estimate cost\n",
      "==== System: Mesh-TensorFlow Transformer 2.9B (translation) ====\n",
      "Unable to estimate cost\n",
      "==== System: BERT-Large ====\n",
      "Unable to estimate cost\n",
      "==== System: BigGAN-deep 512x512 ====\n",
      "Unable to estimate cost\n",
      "==== System: Transformer (Adaptive Input Embeddings) ====\n",
      "Estimated cost: nan\n",
      "==== System: Big Transformer for Back-Translation ====\n",
      "Estimated cost: nan\n",
      "==== System: FTW ====\n",
      "Unable to estimate cost\n",
      "==== System: Population-based DRL ====\n",
      "Unable to estimate cost\n",
      "==== System: GPT ====\n",
      "Unable to estimate cost\n",
      "==== System: ResNeXt-101 32x48d ====\n",
      "Unable to estimate cost\n",
      "==== System: YOLOv3 ====\n",
      "Unable to estimate cost\n",
      "==== System: LSTM (Hebbian, Cache, MbPA) ====\n",
      "Unable to estimate cost\n",
      "==== System: AmoebaNet-A (F=448) ====\n",
      "Estimated cost: 21435.200127589324\n",
      "==== System: IMPALA ====\n",
      "Unable to estimate cost\n",
      "==== System: AlphaZero ====\n",
      "Unable to estimate cost\n",
      "==== System: PNASNet-5 ====\n",
      "Unable to estimate cost\n",
      "==== System: AlphaGo Zero ====\n",
      "Unable to estimate cost\n",
      "==== System: OpenAI TI7 DOTA 1v1 ====\n",
      "Unable to estimate cost\n",
      "==== System: JFT ====\n",
      "Estimated cost: 17083.33590253251\n",
      "==== System: Transformer ====\n",
      "Unable to estimate cost\n",
      "==== System: MoE ====\n",
      "Unable to estimate cost\n",
      "==== System: DeepStack ====\n",
      "Unable to estimate cost\n",
      "==== System: Libratus ====\n",
      "Unable to estimate cost\n",
      "==== System: AlphaGo Master ====\n",
      "Unable to estimate cost\n",
      "==== System: PolyNet ====\n",
      "Imputing training time from compute and hardware\n",
      "Found NVIDIA GTX Titan X at 6690000000000.0 FLOP/s\n",
      "Estimated cost: 899.499436207815\n",
      "==== System: NASv3 (CIFAR-10) ====\n",
      "Unable to estimate cost\n",
      "==== System: BIDAF ====\n",
      "Estimated cost: 60.928718685831626\n",
      "==== System: Xception ====\n",
      "Estimated cost: 10203.812101519507\n",
      "==== System: GNMT ====\n",
      "Estimated cost: 97956.59617458726\n",
      "==== System: AlphaGo Lee ====\n",
      "Unable to estimate cost\n",
      "==== System: ResNet-152 (ImageNet) ====\n",
      "Unable to estimate cost\n",
      "==== System: DeepSpeech2 (English) ====\n",
      "Imputing training time from compute and hardware\n",
      "Found NVIDIA GTX Titan X at 6690000000000.0 FLOP/s\n",
      "Estimated cost: 307.5542864310604\n",
      "==== System: AlphaGo Fan ====\n",
      "Unable to estimate cost\n",
      "{'Inflection-2': 14410203.63173034, 'Nemotron-3-8B': 506559.25277846213, 'Falcon 180B': 19937470.988966458, 'Llama 2-70B': 2655363.5690965094, 'Llama 2-34B': 1190808.818050033, 'Llama 2-7B': 245166.52136324206, 'Llama 2-13B': 466983.8502156993, 'xTrimoPGLM -100B': 3385216.42833493, 'Pangu-Weather': nan, 'StarCoder': 398420.7772580424, 'WizardLM-7B': nan, 'BloombergGPT': 705405.9770050955, 'GPT-4': 64224573.5660744, 'Falcon-40B': 599872.7993429159, 'LLaMA-13B': 115597.73221045418, 'LLaMA-65B': 1095787.234338733, 'LLaMA-7B': 89069.04232418079, 'GPT-3.5 (text-davinci-003)': 6920619.223905584, 'Galactica': 948323.5466867911, 'BLOOM-176B': 1345716.4626529773, 'Taiyi-Stable Diffusion': 166793.76052907444, 'BlenderBot 3': 2140524.5803523147, 'GLM-130B': 1250472.4168104036, 'AlexaTM 20B': 395768.3451619439, 'ESM2-15B': nan, 'NLLB': 51253.77719718791, 'OPT-175B': 1001720.9902947935, 'Stable Diffusion (LDM-KL-8-G)': 163309.5994217659, 'GPT-NeoX-20B': 234463.57815195067, 'XGLM-7.5B': 136547.03088668035, 'Florence': 135194.3844456004, 'Megatron-Turing NLG 530B': 4200017.310645981, 'HyperCLOVA': 705685.306950673, 'ERNIE 3.0': nan, 'DeBERTa': nan, 'CogView': 135264.40473997462, 'PLUG': 115200.49320556696, 'M6-T': 33255.943347332424, 'MSA Transformer': 32932.68999579182, 'DALL-E': 237217.42622308977, 'CLIP (ViT L/14@336px)': nan, 'wave2vec 2.0 LARGE': 11350.096792714838, 'iGPT-XL': 198600.6600839946, 'iGPT-L': 53622.178222678536, 'GPT-3 175B (davinci)': 3607310.171343829, 'Once for All': nan, 'Turing-NLG': 93787.64191874892, 'DD-PPO': nan, 'CamemBERT': nan, 'Megatron-BERT': 596962.3875519051, 'Megatron-LM (8.3B)': 170250.79640063885, 'RoBERTa Large': 124013.29855459732, 'Transformer (Adaptive Input Embeddings)': nan, 'Big Transformer for Back-Translation': nan, 'AmoebaNet-A (F=448)': 21435.200127589324, 'JFT': 17083.33590253251, 'PolyNet': 899.499436207815, 'BIDAF': 60.928718685831626, 'Xception': 10203.812101519507, 'GNMT': 97956.59617458726, 'DeepSpeech2 (English)': 307.5542864310604}\n"
     ]
    }
   ],
   "source": [
    "cost_df = cost_estimation_function(frontier_pcd_df, hardware_df, price_df)"
   ]
  },
  {
   "cell_type": "code",
   "execution_count": 7,
   "metadata": {
    "ExecuteTime": {
     "end_time": "2024-03-08T01:54:57.967995500Z",
     "start_time": "2024-03-08T01:54:57.807954200Z"
    }
   },
   "outputs": [
    {
     "data": {
      "text/html": [
       "<div>\n",
       "<style scoped>\n",
       "    .dataframe tbody tr th:only-of-type {\n",
       "        vertical-align: middle;\n",
       "    }\n",
       "\n",
       "    .dataframe tbody tr th {\n",
       "        vertical-align: top;\n",
       "    }\n",
       "\n",
       "    .dataframe thead th {\n",
       "        text-align: right;\n",
       "    }\n",
       "</style>\n",
       "<table border=\"1\" class=\"dataframe\">\n",
       "  <thead>\n",
       "    <tr style=\"text-align: right;\">\n",
       "      <th></th>\n",
       "      <th>System</th>\n",
       "      <th>Domain</th>\n",
       "      <th>Task</th>\n",
       "      <th>Authors</th>\n",
       "      <th>Notability criteria</th>\n",
       "      <th>Notability criteria notes</th>\n",
       "      <th>Model accessibility</th>\n",
       "      <th>Link</th>\n",
       "      <th>Citations</th>\n",
       "      <th>Reference</th>\n",
       "      <th>...</th>\n",
       "      <th>Batch size notes</th>\n",
       "      <th>Organization categorization</th>\n",
       "      <th>Foundation model</th>\n",
       "      <th>Training compute lower bound</th>\n",
       "      <th>Training compute upper bound</th>\n",
       "      <th>Training chip-hours</th>\n",
       "      <th>Code accessibility</th>\n",
       "      <th>Dataset accessibility</th>\n",
       "      <th>Accessibility notes</th>\n",
       "      <th>Cost</th>\n",
       "    </tr>\n",
       "  </thead>\n",
       "  <tbody>\n",
       "    <tr>\n",
       "      <th>39</th>\n",
       "      <td>Gemini Ultra</td>\n",
       "      <td>Multimodal</td>\n",
       "      <td>Language modelling,Visual question answering,C...</td>\n",
       "      <td>Gemini Team</td>\n",
       "      <td>SOTA improvement</td>\n",
       "      <td>\" Evaluation on a broad range of benchmarks sh...</td>\n",
       "      <td>Hosted access (no API)</td>\n",
       "      <td>https://storage.googleapis.com/deepmind-media/...</td>\n",
       "      <td>252.0</td>\n",
       "      <td>Gemini: A Family of Highly Capable Multimodal ...</td>\n",
       "      <td>...</td>\n",
       "      <td>NaN</td>\n",
       "      <td>Industry</td>\n",
       "      <td>NaN</td>\n",
       "      <td>NaN</td>\n",
       "      <td>NaN</td>\n",
       "      <td>132000000.0</td>\n",
       "      <td>NaN</td>\n",
       "      <td>NaN</td>\n",
       "      <td>NaN</td>\n",
       "      <td>NaN</td>\n",
       "    </tr>\n",
       "    <tr>\n",
       "      <th>46</th>\n",
       "      <td>Qwen-72B</td>\n",
       "      <td>Language</td>\n",
       "      <td>Chat,Code generation</td>\n",
       "      <td>Jinze Bai, Shuai Bai, Yunfei Chu, Zeyu Cui, Ka...</td>\n",
       "      <td>SOTA improvement</td>\n",
       "      <td>SOTA on several Chinese benchmarks, with highe...</td>\n",
       "      <td>Permissive license (depr.)</td>\n",
       "      <td>https://huggingface.co/Qwen/Qwen-72B</td>\n",
       "      <td>NaN</td>\n",
       "      <td>NaN</td>\n",
       "      <td>...</td>\n",
       "      <td>Table 1 https://arxiv.org/abs/2309.16609\\n(thi...</td>\n",
       "      <td>Industry</td>\n",
       "      <td>NaN</td>\n",
       "      <td>NaN</td>\n",
       "      <td>NaN</td>\n",
       "      <td>NaN</td>\n",
       "      <td>NaN</td>\n",
       "      <td>NaN</td>\n",
       "      <td>NaN</td>\n",
       "      <td>NaN</td>\n",
       "    </tr>\n",
       "    <tr>\n",
       "      <th>54</th>\n",
       "      <td>Inflection-2</td>\n",
       "      <td>Language</td>\n",
       "      <td>Language modelling</td>\n",
       "      <td>NaN</td>\n",
       "      <td>Significant use</td>\n",
       "      <td>Inflection-2 either already powers Pi or soon ...</td>\n",
       "      <td>API access</td>\n",
       "      <td>https://inflection.ai/inflection-2</td>\n",
       "      <td>NaN</td>\n",
       "      <td>Inflection-2: The Next Step Up</td>\n",
       "      <td>...</td>\n",
       "      <td>NaN</td>\n",
       "      <td>Industry</td>\n",
       "      <td>checked</td>\n",
       "      <td>NaN</td>\n",
       "      <td>NaN</td>\n",
       "      <td>NaN</td>\n",
       "      <td>NaN</td>\n",
       "      <td>NaN</td>\n",
       "      <td>NaN</td>\n",
       "      <td>1.441020e+07</td>\n",
       "    </tr>\n",
       "    <tr>\n",
       "      <th>59</th>\n",
       "      <td>Nemotron-3-8B</td>\n",
       "      <td>Language</td>\n",
       "      <td>Chat,Language generation</td>\n",
       "      <td>NaN</td>\n",
       "      <td>SOTA improvement</td>\n",
       "      <td>\"The Nemotron-3-8B-QA model offers state-of-th...</td>\n",
       "      <td>Permissive license (depr.)</td>\n",
       "      <td>https://developer.nvidia.com/blog/nvidia-ai-fo...</td>\n",
       "      <td>NaN</td>\n",
       "      <td>NVIDIA AI Foundation Models: Build Custom Ente...</td>\n",
       "      <td>...</td>\n",
       "      <td>NaN</td>\n",
       "      <td>Industry</td>\n",
       "      <td>NaN</td>\n",
       "      <td>NaN</td>\n",
       "      <td>NaN</td>\n",
       "      <td>NaN</td>\n",
       "      <td>NaN</td>\n",
       "      <td>NaN</td>\n",
       "      <td>NaN</td>\n",
       "      <td>5.065593e+05</td>\n",
       "    </tr>\n",
       "    <tr>\n",
       "      <th>83</th>\n",
       "      <td>Yi-34B</td>\n",
       "      <td>Language</td>\n",
       "      <td>Chat</td>\n",
       "      <td>NaN</td>\n",
       "      <td>Significant use</td>\n",
       "      <td>2nd most popular model on HuggingFace: https:/...</td>\n",
       "      <td>Permissive license (depr.)</td>\n",
       "      <td>https://arxiv.org/abs/2403.04652</td>\n",
       "      <td>NaN</td>\n",
       "      <td>NaN</td>\n",
       "      <td>...</td>\n",
       "      <td>NaN</td>\n",
       "      <td>Industry</td>\n",
       "      <td>NaN</td>\n",
       "      <td>NaN</td>\n",
       "      <td>NaN</td>\n",
       "      <td>NaN</td>\n",
       "      <td>NaN</td>\n",
       "      <td>NaN</td>\n",
       "      <td>NaN</td>\n",
       "      <td>NaN</td>\n",
       "    </tr>\n",
       "    <tr>\n",
       "      <th>...</th>\n",
       "      <td>...</td>\n",
       "      <td>...</td>\n",
       "      <td>...</td>\n",
       "      <td>...</td>\n",
       "      <td>...</td>\n",
       "      <td>...</td>\n",
       "      <td>...</td>\n",
       "      <td>...</td>\n",
       "      <td>...</td>\n",
       "      <td>...</td>\n",
       "      <td>...</td>\n",
       "      <td>...</td>\n",
       "      <td>...</td>\n",
       "      <td>...</td>\n",
       "      <td>...</td>\n",
       "      <td>...</td>\n",
       "      <td>...</td>\n",
       "      <td>...</td>\n",
       "      <td>...</td>\n",
       "      <td>...</td>\n",
       "      <td>...</td>\n",
       "    </tr>\n",
       "    <tr>\n",
       "      <th>1095</th>\n",
       "      <td>GNMT</td>\n",
       "      <td>Language</td>\n",
       "      <td>Translation</td>\n",
       "      <td>Yonghui Wu, Mike Schuster, Zhifeng Chen, Quoc ...</td>\n",
       "      <td>Highly cited</td>\n",
       "      <td>NaN</td>\n",
       "      <td>NaN</td>\n",
       "      <td>https://arxiv.org/abs/1609.08144</td>\n",
       "      <td>6105.0</td>\n",
       "      <td>Google's Neural Machine Translation System: Br...</td>\n",
       "      <td>...</td>\n",
       "      <td>NaN</td>\n",
       "      <td>Industry</td>\n",
       "      <td>NaN</td>\n",
       "      <td>NaN</td>\n",
       "      <td>NaN</td>\n",
       "      <td>414720.0</td>\n",
       "      <td>NaN</td>\n",
       "      <td>NaN</td>\n",
       "      <td>NaN</td>\n",
       "      <td>9.795660e+04</td>\n",
       "    </tr>\n",
       "    <tr>\n",
       "      <th>1131</th>\n",
       "      <td>AlphaGo Lee</td>\n",
       "      <td>Games</td>\n",
       "      <td>Go</td>\n",
       "      <td>David Silver, Aja Huang, Chris J. Maddison, Ar...</td>\n",
       "      <td>Highly cited</td>\n",
       "      <td>NaN</td>\n",
       "      <td>NaN</td>\n",
       "      <td>https://www.nature.com/articles/nature16961</td>\n",
       "      <td>14733.0</td>\n",
       "      <td>Mastering the game of Go with deep neural netw...</td>\n",
       "      <td>...</td>\n",
       "      <td>NaN</td>\n",
       "      <td>Industry</td>\n",
       "      <td>NaN</td>\n",
       "      <td>NaN</td>\n",
       "      <td>NaN</td>\n",
       "      <td>NaN</td>\n",
       "      <td>NaN</td>\n",
       "      <td>NaN</td>\n",
       "      <td>NaN</td>\n",
       "      <td>NaN</td>\n",
       "    </tr>\n",
       "    <tr>\n",
       "      <th>1135</th>\n",
       "      <td>ResNet-152 (ImageNet)</td>\n",
       "      <td>Vision</td>\n",
       "      <td>Image classification</td>\n",
       "      <td>Kaiming He, Xiangyu Zhang, Shaoqing Ren, Jian Sun</td>\n",
       "      <td>Highly cited</td>\n",
       "      <td>NaN</td>\n",
       "      <td>NaN</td>\n",
       "      <td>https://arxiv.org/abs/1512.03385</td>\n",
       "      <td>154061.0</td>\n",
       "      <td>Deep Residual Learning for Image Recognition</td>\n",
       "      <td>...</td>\n",
       "      <td>NaN</td>\n",
       "      <td>Industry</td>\n",
       "      <td>NaN</td>\n",
       "      <td>NaN</td>\n",
       "      <td>NaN</td>\n",
       "      <td>NaN</td>\n",
       "      <td>NaN</td>\n",
       "      <td>NaN</td>\n",
       "      <td>NaN</td>\n",
       "      <td>NaN</td>\n",
       "    </tr>\n",
       "    <tr>\n",
       "      <th>1137</th>\n",
       "      <td>DeepSpeech2 (English)</td>\n",
       "      <td>Speech</td>\n",
       "      <td>Speech recognition</td>\n",
       "      <td>Dario Amodei, Rishita Anubhai, Eric Battenberg...</td>\n",
       "      <td>Highly cited</td>\n",
       "      <td>NaN</td>\n",
       "      <td>NaN</td>\n",
       "      <td>https://arxiv.org/abs/1512.02595</td>\n",
       "      <td>2741.0</td>\n",
       "      <td>Deep Speech 2: End-to-End Speech Recognition i...</td>\n",
       "      <td>...</td>\n",
       "      <td>NaN</td>\n",
       "      <td>Industry</td>\n",
       "      <td>NaN</td>\n",
       "      <td>NaN</td>\n",
       "      <td>NaN</td>\n",
       "      <td>301.0</td>\n",
       "      <td>NaN</td>\n",
       "      <td>NaN</td>\n",
       "      <td>NaN</td>\n",
       "      <td>3.075543e+02</td>\n",
       "    </tr>\n",
       "    <tr>\n",
       "      <th>1141</th>\n",
       "      <td>AlphaGo Fan</td>\n",
       "      <td>Games</td>\n",
       "      <td>Go</td>\n",
       "      <td>David Silver, Aja Huang, Chris J. Maddison, Ar...</td>\n",
       "      <td>Highly cited,SOTA improvement</td>\n",
       "      <td>NaN</td>\n",
       "      <td>NaN</td>\n",
       "      <td>https://www.nature.com/articles/nature24270.ep...</td>\n",
       "      <td>14733.0</td>\n",
       "      <td>Mastering the game of Go with deep neural netw...</td>\n",
       "      <td>...</td>\n",
       "      <td>NaN</td>\n",
       "      <td>Industry</td>\n",
       "      <td>NaN</td>\n",
       "      <td>NaN</td>\n",
       "      <td>NaN</td>\n",
       "      <td>NaN</td>\n",
       "      <td>NaN</td>\n",
       "      <td>NaN</td>\n",
       "      <td>NaN</td>\n",
       "      <td>NaN</td>\n",
       "    </tr>\n",
       "  </tbody>\n",
       "</table>\n",
       "<p>148 rows × 57 columns</p>\n",
       "</div>"
      ],
      "text/plain": [
       "                     System      Domain  \\\n",
       "39             Gemini Ultra  Multimodal   \n",
       "46                 Qwen-72B    Language   \n",
       "54             Inflection-2    Language   \n",
       "59            Nemotron-3-8B    Language   \n",
       "83                   Yi-34B    Language   \n",
       "...                     ...         ...   \n",
       "1095                   GNMT    Language   \n",
       "1131            AlphaGo Lee       Games   \n",
       "1135  ResNet-152 (ImageNet)      Vision   \n",
       "1137  DeepSpeech2 (English)      Speech   \n",
       "1141            AlphaGo Fan       Games   \n",
       "\n",
       "                                                   Task  \\\n",
       "39    Language modelling,Visual question answering,C...   \n",
       "46                                 Chat,Code generation   \n",
       "54                                   Language modelling   \n",
       "59                             Chat,Language generation   \n",
       "83                                                 Chat   \n",
       "...                                                 ...   \n",
       "1095                                        Translation   \n",
       "1131                                                 Go   \n",
       "1135                               Image classification   \n",
       "1137                                 Speech recognition   \n",
       "1141                                                 Go   \n",
       "\n",
       "                                                Authors  \\\n",
       "39                                          Gemini Team   \n",
       "46    Jinze Bai, Shuai Bai, Yunfei Chu, Zeyu Cui, Ka...   \n",
       "54                                                  NaN   \n",
       "59                                                  NaN   \n",
       "83                                                  NaN   \n",
       "...                                                 ...   \n",
       "1095  Yonghui Wu, Mike Schuster, Zhifeng Chen, Quoc ...   \n",
       "1131  David Silver, Aja Huang, Chris J. Maddison, Ar...   \n",
       "1135  Kaiming He, Xiangyu Zhang, Shaoqing Ren, Jian Sun   \n",
       "1137  Dario Amodei, Rishita Anubhai, Eric Battenberg...   \n",
       "1141  David Silver, Aja Huang, Chris J. Maddison, Ar...   \n",
       "\n",
       "                Notability criteria  \\\n",
       "39                 SOTA improvement   \n",
       "46                 SOTA improvement   \n",
       "54                  Significant use   \n",
       "59                 SOTA improvement   \n",
       "83                  Significant use   \n",
       "...                             ...   \n",
       "1095                   Highly cited   \n",
       "1131                   Highly cited   \n",
       "1135                   Highly cited   \n",
       "1137                   Highly cited   \n",
       "1141  Highly cited,SOTA improvement   \n",
       "\n",
       "                              Notability criteria notes  \\\n",
       "39    \" Evaluation on a broad range of benchmarks sh...   \n",
       "46    SOTA on several Chinese benchmarks, with highe...   \n",
       "54    Inflection-2 either already powers Pi or soon ...   \n",
       "59    \"The Nemotron-3-8B-QA model offers state-of-th...   \n",
       "83    2nd most popular model on HuggingFace: https:/...   \n",
       "...                                                 ...   \n",
       "1095                                                NaN   \n",
       "1131                                                NaN   \n",
       "1135                                                NaN   \n",
       "1137                                                NaN   \n",
       "1141                                                NaN   \n",
       "\n",
       "             Model accessibility  \\\n",
       "39        Hosted access (no API)   \n",
       "46    Permissive license (depr.)   \n",
       "54                    API access   \n",
       "59    Permissive license (depr.)   \n",
       "83    Permissive license (depr.)   \n",
       "...                          ...   \n",
       "1095                         NaN   \n",
       "1131                         NaN   \n",
       "1135                         NaN   \n",
       "1137                         NaN   \n",
       "1141                         NaN   \n",
       "\n",
       "                                                   Link  Citations  \\\n",
       "39    https://storage.googleapis.com/deepmind-media/...      252.0   \n",
       "46                 https://huggingface.co/Qwen/Qwen-72B        NaN   \n",
       "54                   https://inflection.ai/inflection-2        NaN   \n",
       "59    https://developer.nvidia.com/blog/nvidia-ai-fo...        NaN   \n",
       "83                     https://arxiv.org/abs/2403.04652        NaN   \n",
       "...                                                 ...        ...   \n",
       "1095                   https://arxiv.org/abs/1609.08144     6105.0   \n",
       "1131        https://www.nature.com/articles/nature16961    14733.0   \n",
       "1135                   https://arxiv.org/abs/1512.03385   154061.0   \n",
       "1137                   https://arxiv.org/abs/1512.02595     2741.0   \n",
       "1141  https://www.nature.com/articles/nature24270.ep...    14733.0   \n",
       "\n",
       "                                              Reference  ...  \\\n",
       "39    Gemini: A Family of Highly Capable Multimodal ...  ...   \n",
       "46                                                  NaN  ...   \n",
       "54                       Inflection-2: The Next Step Up  ...   \n",
       "59    NVIDIA AI Foundation Models: Build Custom Ente...  ...   \n",
       "83                                                  NaN  ...   \n",
       "...                                                 ...  ...   \n",
       "1095  Google's Neural Machine Translation System: Br...  ...   \n",
       "1131  Mastering the game of Go with deep neural netw...  ...   \n",
       "1135       Deep Residual Learning for Image Recognition  ...   \n",
       "1137  Deep Speech 2: End-to-End Speech Recognition i...  ...   \n",
       "1141  Mastering the game of Go with deep neural netw...  ...   \n",
       "\n",
       "                                       Batch size notes  \\\n",
       "39                                                  NaN   \n",
       "46    Table 1 https://arxiv.org/abs/2309.16609\\n(thi...   \n",
       "54                                                  NaN   \n",
       "59                                                  NaN   \n",
       "83                                                  NaN   \n",
       "...                                                 ...   \n",
       "1095                                                NaN   \n",
       "1131                                                NaN   \n",
       "1135                                                NaN   \n",
       "1137                                                NaN   \n",
       "1141                                                NaN   \n",
       "\n",
       "     Organization categorization  Foundation model  \\\n",
       "39                      Industry               NaN   \n",
       "46                      Industry               NaN   \n",
       "54                      Industry           checked   \n",
       "59                      Industry               NaN   \n",
       "83                      Industry               NaN   \n",
       "...                          ...               ...   \n",
       "1095                    Industry               NaN   \n",
       "1131                    Industry               NaN   \n",
       "1135                    Industry               NaN   \n",
       "1137                    Industry               NaN   \n",
       "1141                    Industry               NaN   \n",
       "\n",
       "     Training compute lower bound  Training compute upper bound  \\\n",
       "39                            NaN                           NaN   \n",
       "46                            NaN                           NaN   \n",
       "54                            NaN                           NaN   \n",
       "59                            NaN                           NaN   \n",
       "83                            NaN                           NaN   \n",
       "...                           ...                           ...   \n",
       "1095                          NaN                           NaN   \n",
       "1131                          NaN                           NaN   \n",
       "1135                          NaN                           NaN   \n",
       "1137                          NaN                           NaN   \n",
       "1141                          NaN                           NaN   \n",
       "\n",
       "     Training chip-hours Code accessibility Dataset accessibility  \\\n",
       "39           132000000.0                NaN                   NaN   \n",
       "46                   NaN                NaN                   NaN   \n",
       "54                   NaN                NaN                   NaN   \n",
       "59                   NaN                NaN                   NaN   \n",
       "83                   NaN                NaN                   NaN   \n",
       "...                  ...                ...                   ...   \n",
       "1095            414720.0                NaN                   NaN   \n",
       "1131                 NaN                NaN                   NaN   \n",
       "1135                 NaN                NaN                   NaN   \n",
       "1137               301.0                NaN                   NaN   \n",
       "1141                 NaN                NaN                   NaN   \n",
       "\n",
       "      Accessibility notes          Cost  \n",
       "39                    NaN           NaN  \n",
       "46                    NaN           NaN  \n",
       "54                    NaN  1.441020e+07  \n",
       "59                    NaN  5.065593e+05  \n",
       "83                    NaN           NaN  \n",
       "...                   ...           ...  \n",
       "1095                  NaN  9.795660e+04  \n",
       "1131                  NaN           NaN  \n",
       "1135                  NaN           NaN  \n",
       "1137                  NaN  3.075543e+02  \n",
       "1141                  NaN           NaN  \n",
       "\n",
       "[148 rows x 57 columns]"
      ]
     },
     "execution_count": 7,
     "metadata": {},
     "output_type": "execute_result"
    }
   ],
   "source": [
    "cost_df"
   ]
  },
  {
   "cell_type": "code",
   "execution_count": 8,
   "metadata": {
    "ExecuteTime": {
     "end_time": "2024-03-08T01:54:58.104807Z",
     "start_time": "2024-03-08T01:54:57.967995500Z"
    }
   },
   "outputs": [
    {
     "data": {
      "text/plain": [
       "50"
      ]
     },
     "execution_count": 8,
     "metadata": {},
     "output_type": "execute_result"
    }
   ],
   "source": [
    "cost_df['Cost'].notna().sum()"
   ]
  },
  {
   "cell_type": "markdown",
   "metadata": {},
   "source": [
    "Use the below to check data availability for specific systems"
   ]
  },
  {
   "cell_type": "code",
   "execution_count": 9,
   "metadata": {
    "ExecuteTime": {
     "end_time": "2024-03-08T01:54:58.418907200Z",
     "start_time": "2024-03-08T01:54:58.109807800Z"
    }
   },
   "outputs": [],
   "source": [
    "# system = 'WizardLM-7B'\n",
    "# row = cost_df.loc[cost_df['System'] == system]\n",
    "# print('Cost:', row['Cost'].values[0])\n",
    "# print('Training hardware:', row['Training hardware'].values[0])\n",
    "# print('Training time (hours):', row['Training time (hours)'].values[0])\n",
    "# print('Hardware quantity:', row['Hardware quantity'].values[0])\n",
    "# print('Hardware utilization:', row['Hardware utilization'].values[0])"
   ]
  },
  {
   "cell_type": "markdown",
   "metadata": {},
   "source": [
    "# Apply inflation adjustment"
   ]
  },
  {
   "cell_type": "code",
   "execution_count": 10,
   "metadata": {
    "ExecuteTime": {
     "end_time": "2024-03-08T01:54:58.434584400Z",
     "start_time": "2024-03-08T01:54:58.277972800Z"
    }
   },
   "outputs": [],
   "source": [
    "# TODO move to function"
   ]
  },
  {
   "cell_type": "code",
   "execution_count": 11,
   "metadata": {
    "ExecuteTime": {
     "end_time": "2024-03-08T01:54:58.565500700Z",
     "start_time": "2024-03-08T01:54:58.403286900Z"
    }
   },
   "outputs": [
    {
     "data": {
      "text/plain": [
       "39     2023-12-06\n",
       "46     2023-11-30\n",
       "54     2023-11-22\n",
       "59     2023-11-15\n",
       "83     2023-11-02\n",
       "          ...    \n",
       "1095   2016-09-26\n",
       "1131   2016-01-27\n",
       "1135   2015-12-10\n",
       "1137   2015-12-08\n",
       "1141   2015-10-01\n",
       "Name: Publication date, Length: 148, dtype: datetime64[ns]"
      ]
     },
     "execution_count": 11,
     "metadata": {},
     "output_type": "execute_result"
    }
   ],
   "source": [
    "cost_df['Publication date']"
   ]
  },
  {
   "cell_type": "code",
   "execution_count": 12,
   "metadata": {
    "ExecuteTime": {
     "end_time": "2024-03-08T01:54:58.726981500Z",
     "start_time": "2024-03-08T01:54:58.565500700Z"
    }
   },
   "outputs": [],
   "source": [
    "from_year_month = cost_df['Publication date'].apply(str)\n",
    "cost_df['Publication date'] = from_year_month"
   ]
  },
  {
   "cell_type": "code",
   "execution_count": 13,
   "metadata": {
    "ExecuteTime": {
     "end_time": "2024-03-08T01:54:58.913441700Z",
     "start_time": "2024-03-08T01:54:58.711492Z"
    }
   },
   "outputs": [
    {
     "data": {
      "text/plain": [
       "39      2023-12-06 00:00:00\n",
       "46      2023-11-30 00:00:00\n",
       "54      2023-11-22 00:00:00\n",
       "59      2023-11-15 00:00:00\n",
       "83      2023-11-02 00:00:00\n",
       "               ...         \n",
       "1095    2016-09-26 00:00:00\n",
       "1131    2016-01-27 00:00:00\n",
       "1135    2015-12-10 00:00:00\n",
       "1137    2015-12-08 00:00:00\n",
       "1141    2015-10-01 00:00:00\n",
       "Name: Publication date, Length: 148, dtype: object"
      ]
     },
     "execution_count": 13,
     "metadata": {},
     "output_type": "execute_result"
    }
   ],
   "source": [
    "cost_df['Publication date']"
   ]
  },
  {
   "cell_type": "code",
   "execution_count": 14,
   "metadata": {
    "ExecuteTime": {
     "end_time": "2024-03-08T01:54:59.049781600Z",
     "start_time": "2024-03-08T01:54:58.881981400Z"
    }
   },
   "outputs": [],
   "source": [
    "cost_df = adjust_column_for_inflation(cost_df, 'Cost', 'data/PCU518210518210.csv', '2023-12-01')"
   ]
  },
  {
   "cell_type": "code",
   "execution_count": 15,
   "metadata": {
    "ExecuteTime": {
     "end_time": "2024-03-08T01:54:59.177190500Z",
     "start_time": "2024-03-08T01:54:59.049781600Z"
    }
   },
   "outputs": [
    {
     "data": {
      "text/plain": [
       "54      1.444394e+07\n",
       "59      5.077451e+05\n",
       "135     2.006101e+07\n",
       "174     2.670508e+06\n",
       "175     1.197600e+06\n",
       "176     2.465648e+05\n",
       "177     4.696471e+05\n",
       "186     3.404523e+06\n",
       "225     4.025194e+05\n",
       "256     7.129772e+05\n",
       "263     6.491391e+07\n",
       "264     6.063113e+05\n",
       "277     1.170741e+05\n",
       "279     1.109782e+06\n",
       "280     9.020657e+04\n",
       "323     7.059762e+06\n",
       "329     9.673901e+05\n",
       "334     1.372773e+06\n",
       "340     1.701560e+05\n",
       "374     2.183224e+06\n",
       "375     1.275417e+06\n",
       "376     4.036632e+05\n",
       "389     5.224218e+04\n",
       "439     1.017571e+06\n",
       "443     1.660140e+05\n",
       "472     2.423933e+05\n",
       "495     1.409082e+05\n",
       "514     1.394772e+05\n",
       "542     4.332846e+06\n",
       "549     7.292925e+05\n",
       "593     1.398829e+05\n",
       "608     1.191339e+05\n",
       "630     3.436159e+04\n",
       "646     3.414615e+04\n",
       "655     2.461725e+05\n",
       "682     1.178885e+04\n",
       "717     2.071817e+05\n",
       "718     5.593907e+04\n",
       "724     3.786403e+06\n",
       "759     9.835721e+04\n",
       "809     6.367064e+05\n",
       "810     1.815856e+05\n",
       "835     1.334657e+05\n",
       "982     2.313175e+04\n",
       "1041    1.845217e+04\n",
       "1083    9.822699e+02\n",
       "1088    6.653528e+01\n",
       "1094    1.114275e+04\n",
       "1095    1.069704e+05\n",
       "1137    3.421326e+02\n",
       "Name: Cost (inflation-adjusted), dtype: float64"
      ]
     },
     "execution_count": 15,
     "metadata": {},
     "output_type": "execute_result"
    }
   ],
   "source": [
    "cost_df['Cost (inflation-adjusted)'].dropna()"
   ]
  },
  {
   "cell_type": "code",
   "execution_count": 16,
   "metadata": {
    "ExecuteTime": {
     "end_time": "2024-03-08T01:54:59.344452300Z",
     "start_time": "2024-03-08T01:54:59.182457200Z"
    }
   },
   "outputs": [
    {
     "data": {
      "text/plain": [
       "50"
      ]
     },
     "execution_count": 16,
     "metadata": {},
     "output_type": "execute_result"
    }
   ],
   "source": [
    "cost_df['Cost (inflation-adjusted)'].notna().sum()"
   ]
  },
  {
   "cell_type": "markdown",
   "metadata": {},
   "source": [
    "# Regression"
   ]
  },
  {
   "cell_type": "code",
   "execution_count": 17,
   "metadata": {
    "ExecuteTime": {
     "end_time": "2024-03-08T01:54:59.490722200Z",
     "start_time": "2024-03-08T01:54:59.337705700Z"
    }
   },
   "outputs": [],
   "source": [
    "cost_df['Publication date (float)'] = datetime_to_float_year(pd.to_datetime(cost_df['Publication date']))"
   ]
  },
  {
   "cell_type": "code",
   "execution_count": 18,
   "metadata": {
    "ExecuteTime": {
     "end_time": "2024-03-08T01:54:59.700207700Z",
     "start_time": "2024-03-08T01:54:59.462346300Z"
    }
   },
   "outputs": [
    {
     "data": {
      "text/html": [
       "<table class=\"simpletable\">\n",
       "<caption>OLS Regression Results</caption>\n",
       "<tr>\n",
       "  <th>Dep. Variable:</th>            <td>y</td>        <th>  R-squared:         </th> <td>   0.548</td>\n",
       "</tr>\n",
       "<tr>\n",
       "  <th>Model:</th>                   <td>OLS</td>       <th>  Adj. R-squared:    </th> <td>   0.539</td>\n",
       "</tr>\n",
       "<tr>\n",
       "  <th>Method:</th>             <td>Least Squares</td>  <th>  F-statistic:       </th> <td>   58.20</td>\n",
       "</tr>\n",
       "<tr>\n",
       "  <th>Date:</th>             <td>Tue, 30 Apr 2024</td> <th>  Prob (F-statistic):</th> <td>8.04e-10</td>\n",
       "</tr>\n",
       "<tr>\n",
       "  <th>Time:</th>                 <td>18:25:00</td>     <th>  Log-Likelihood:    </th> <td> -55.897</td>\n",
       "</tr>\n",
       "<tr>\n",
       "  <th>No. Observations:</th>      <td>    50</td>      <th>  AIC:               </th> <td>   115.8</td>\n",
       "</tr>\n",
       "<tr>\n",
       "  <th>Df Residuals:</th>          <td>    48</td>      <th>  BIC:               </th> <td>   119.6</td>\n",
       "</tr>\n",
       "<tr>\n",
       "  <th>Df Model:</th>              <td>     1</td>      <th>                     </th>     <td> </td>   \n",
       "</tr>\n",
       "<tr>\n",
       "  <th>Covariance Type:</th>      <td>nonrobust</td>    <th>                     </th>     <td> </td>   \n",
       "</tr>\n",
       "</table>\n",
       "<table class=\"simpletable\">\n",
       "<tr>\n",
       "    <td></td>       <th>coef</th>     <th>std err</th>      <th>t</th>      <th>P>|t|</th>  <th>[0.025</th>    <th>0.975]</th>  \n",
       "</tr>\n",
       "<tr>\n",
       "  <th>const</th> <td> -754.8357</td> <td>   99.647</td> <td>   -7.575</td> <td> 0.000</td> <td> -955.190</td> <td> -554.481</td>\n",
       "</tr>\n",
       "<tr>\n",
       "  <th>x1</th>    <td>    0.3761</td> <td>    0.049</td> <td>    7.629</td> <td> 0.000</td> <td>    0.277</td> <td>    0.475</td>\n",
       "</tr>\n",
       "</table>\n",
       "<table class=\"simpletable\">\n",
       "<tr>\n",
       "  <th>Omnibus:</th>       <td> 0.696</td> <th>  Durbin-Watson:     </th> <td>   2.089</td>\n",
       "</tr>\n",
       "<tr>\n",
       "  <th>Prob(Omnibus):</th> <td> 0.706</td> <th>  Jarque-Bera (JB):  </th> <td>   0.491</td>\n",
       "</tr>\n",
       "<tr>\n",
       "  <th>Skew:</th>          <td> 0.241</td> <th>  Prob(JB):          </th> <td>   0.782</td>\n",
       "</tr>\n",
       "<tr>\n",
       "  <th>Kurtosis:</th>      <td> 2.942</td> <th>  Cond. No.          </th> <td>1.89e+06</td>\n",
       "</tr>\n",
       "</table><br/><br/>Notes:<br/>[1] Standard Errors assume that the covariance matrix of the errors is correctly specified.<br/>[2] The condition number is large, 1.89e+06. This might indicate that there are<br/>strong multicollinearity or other numerical problems."
      ],
      "text/latex": [
       "\\begin{center}\n",
       "\\begin{tabular}{lclc}\n",
       "\\toprule\n",
       "\\textbf{Dep. Variable:}    &        y         & \\textbf{  R-squared:         } &     0.548   \\\\\n",
       "\\textbf{Model:}            &       OLS        & \\textbf{  Adj. R-squared:    } &     0.539   \\\\\n",
       "\\textbf{Method:}           &  Least Squares   & \\textbf{  F-statistic:       } &     58.20   \\\\\n",
       "\\textbf{Date:}             & Tue, 30 Apr 2024 & \\textbf{  Prob (F-statistic):} &  8.04e-10   \\\\\n",
       "\\textbf{Time:}             &     18:25:00     & \\textbf{  Log-Likelihood:    } &   -55.897   \\\\\n",
       "\\textbf{No. Observations:} &          50      & \\textbf{  AIC:               } &     115.8   \\\\\n",
       "\\textbf{Df Residuals:}     &          48      & \\textbf{  BIC:               } &     119.6   \\\\\n",
       "\\textbf{Df Model:}         &           1      & \\textbf{                     } &             \\\\\n",
       "\\textbf{Covariance Type:}  &    nonrobust     & \\textbf{                     } &             \\\\\n",
       "\\bottomrule\n",
       "\\end{tabular}\n",
       "\\begin{tabular}{lcccccc}\n",
       "               & \\textbf{coef} & \\textbf{std err} & \\textbf{t} & \\textbf{P$> |$t$|$} & \\textbf{[0.025} & \\textbf{0.975]}  \\\\\n",
       "\\midrule\n",
       "\\textbf{const} &    -754.8357  &       99.647     &    -7.575  &         0.000        &     -955.190    &     -554.481     \\\\\n",
       "\\textbf{x1}    &       0.3761  &        0.049     &     7.629  &         0.000        &        0.277    &        0.475     \\\\\n",
       "\\bottomrule\n",
       "\\end{tabular}\n",
       "\\begin{tabular}{lclc}\n",
       "\\textbf{Omnibus:}       &  0.696 & \\textbf{  Durbin-Watson:     } &    2.089  \\\\\n",
       "\\textbf{Prob(Omnibus):} &  0.706 & \\textbf{  Jarque-Bera (JB):  } &    0.491  \\\\\n",
       "\\textbf{Skew:}          &  0.241 & \\textbf{  Prob(JB):          } &    0.782  \\\\\n",
       "\\textbf{Kurtosis:}      &  2.942 & \\textbf{  Cond. No.          } & 1.89e+06  \\\\\n",
       "\\bottomrule\n",
       "\\end{tabular}\n",
       "%\\caption{OLS Regression Results}\n",
       "\\end{center}\n",
       "\n",
       "Notes: \\newline\n",
       " [1] Standard Errors assume that the covariance matrix of the errors is correctly specified. \\newline\n",
       " [2] The condition number is large, 1.89e+06. This might indicate that there are \\newline\n",
       " strong multicollinearity or other numerical problems."
      ],
      "text/plain": [
       "<class 'statsmodels.iolib.summary.Summary'>\n",
       "\"\"\"\n",
       "                            OLS Regression Results                            \n",
       "==============================================================================\n",
       "Dep. Variable:                      y   R-squared:                       0.548\n",
       "Model:                            OLS   Adj. R-squared:                  0.539\n",
       "Method:                 Least Squares   F-statistic:                     58.20\n",
       "Date:                Tue, 30 Apr 2024   Prob (F-statistic):           8.04e-10\n",
       "Time:                        18:25:00   Log-Likelihood:                -55.897\n",
       "No. Observations:                  50   AIC:                             115.8\n",
       "Df Residuals:                      48   BIC:                             119.6\n",
       "Df Model:                           1                                         \n",
       "Covariance Type:            nonrobust                                         \n",
       "==============================================================================\n",
       "                 coef    std err          t      P>|t|      [0.025      0.975]\n",
       "------------------------------------------------------------------------------\n",
       "const       -754.8357     99.647     -7.575      0.000    -955.190    -554.481\n",
       "x1             0.3761      0.049      7.629      0.000       0.277       0.475\n",
       "==============================================================================\n",
       "Omnibus:                        0.696   Durbin-Watson:                   2.089\n",
       "Prob(Omnibus):                  0.706   Jarque-Bera (JB):                0.491\n",
       "Skew:                           0.241   Prob(JB):                        0.782\n",
       "Kurtosis:                       2.942   Cond. No.                     1.89e+06\n",
       "==============================================================================\n",
       "\n",
       "Notes:\n",
       "[1] Standard Errors assume that the covariance matrix of the errors is correctly specified.\n",
       "[2] The condition number is large, 1.89e+06. This might indicate that there are\n",
       "strong multicollinearity or other numerical problems.\n",
       "\"\"\""
      ]
     },
     "execution_count": 18,
     "metadata": {},
     "output_type": "execute_result"
    }
   ],
   "source": [
    "reg_results = fit_ols_regression(cost_df, ['Publication date (float)'], 'Cost (inflation-adjusted)', logy=True)\n",
    "reg_results.summary()"
   ]
  },
  {
   "cell_type": "code",
   "execution_count": 19,
   "metadata": {
    "ExecuteTime": {
     "end_time": "2024-03-08T01:55:00.548785500Z",
     "start_time": "2024-03-08T01:54:59.700207700Z"
    }
   },
   "outputs": [
    {
     "name": "stdout",
     "output_type": "stream",
     "text": [
      "0.38 OOMs/year (95% CI: 0.28, 0.48)\n",
      "2.4x/year (95% CI: 1.9x, 3.0x)\n",
      "doubling time of 10 months (95% CI: 8, 13)\n"
     ]
    }
   ],
   "source": [
    "print_growth_rates(reg_results)"
   ]
  },
  {
   "cell_type": "code",
   "execution_count": 20,
   "metadata": {
    "ExecuteTime": {
     "end_time": "2024-03-08T01:55:00.548785500Z",
     "start_time": "2024-03-08T01:54:59.809703300Z"
    }
   },
   "outputs": [
    {
     "data": {
      "text/html": [
       "<div>\n",
       "<style scoped>\n",
       "    .dataframe tbody tr th:only-of-type {\n",
       "        vertical-align: middle;\n",
       "    }\n",
       "\n",
       "    .dataframe tbody tr th {\n",
       "        vertical-align: top;\n",
       "    }\n",
       "\n",
       "    .dataframe thead th {\n",
       "        text-align: right;\n",
       "    }\n",
       "</style>\n",
       "<table border=\"1\" class=\"dataframe\">\n",
       "  <thead>\n",
       "    <tr style=\"text-align: right;\">\n",
       "      <th></th>\n",
       "      <th>Publication date (float)</th>\n",
       "    </tr>\n",
       "  </thead>\n",
       "  <tbody>\n",
       "    <tr>\n",
       "      <th>0</th>\n",
       "      <td>2015.00000</td>\n",
       "    </tr>\n",
       "    <tr>\n",
       "      <th>1</th>\n",
       "      <td>2015.10101</td>\n",
       "    </tr>\n",
       "    <tr>\n",
       "      <th>2</th>\n",
       "      <td>2015.20202</td>\n",
       "    </tr>\n",
       "    <tr>\n",
       "      <th>3</th>\n",
       "      <td>2015.30303</td>\n",
       "    </tr>\n",
       "    <tr>\n",
       "      <th>4</th>\n",
       "      <td>2015.40404</td>\n",
       "    </tr>\n",
       "    <tr>\n",
       "      <th>...</th>\n",
       "      <td>...</td>\n",
       "    </tr>\n",
       "    <tr>\n",
       "      <th>95</th>\n",
       "      <td>2024.59596</td>\n",
       "    </tr>\n",
       "    <tr>\n",
       "      <th>96</th>\n",
       "      <td>2024.69697</td>\n",
       "    </tr>\n",
       "    <tr>\n",
       "      <th>97</th>\n",
       "      <td>2024.79798</td>\n",
       "    </tr>\n",
       "    <tr>\n",
       "      <th>98</th>\n",
       "      <td>2024.89899</td>\n",
       "    </tr>\n",
       "    <tr>\n",
       "      <th>99</th>\n",
       "      <td>2025.00000</td>\n",
       "    </tr>\n",
       "  </tbody>\n",
       "</table>\n",
       "<p>100 rows × 1 columns</p>\n",
       "</div>"
      ],
      "text/plain": [
       "    Publication date (float)\n",
       "0                 2015.00000\n",
       "1                 2015.10101\n",
       "2                 2015.20202\n",
       "3                 2015.30303\n",
       "4                 2015.40404\n",
       "..                       ...\n",
       "95                2024.59596\n",
       "96                2024.69697\n",
       "97                2024.79798\n",
       "98                2024.89899\n",
       "99                2025.00000\n",
       "\n",
       "[100 rows x 1 columns]"
      ]
     },
     "execution_count": 20,
     "metadata": {},
     "output_type": "execute_result"
    }
   ],
   "source": [
    "pred_start_year = 2015\n",
    "pred_end_year = 2025\n",
    "pred_start_date = f'{pred_start_year}-01-01'\n",
    "pred_end_date = f'{pred_end_year}-01-01'\n",
    "\n",
    "pred_years = pd.DataFrame({'Publication date (float)': np.linspace(pred_start_year, pred_end_year, 100)})\n",
    "pred_years"
   ]
  },
  {
   "cell_type": "code",
   "execution_count": 21,
   "metadata": {
    "ExecuteTime": {
     "end_time": "2024-03-08T01:55:00.564420400Z",
     "start_time": "2024-03-08T01:54:59.920051200Z"
    }
   },
   "outputs": [
    {
     "data": {
      "text/html": [
       "<div>\n",
       "<style scoped>\n",
       "    .dataframe tbody tr th:only-of-type {\n",
       "        vertical-align: middle;\n",
       "    }\n",
       "\n",
       "    .dataframe tbody tr th {\n",
       "        vertical-align: top;\n",
       "    }\n",
       "\n",
       "    .dataframe thead th {\n",
       "        text-align: right;\n",
       "    }\n",
       "</style>\n",
       "<table border=\"1\" class=\"dataframe\">\n",
       "  <thead>\n",
       "    <tr style=\"text-align: right;\">\n",
       "      <th></th>\n",
       "      <th>mean</th>\n",
       "      <th>mean_se</th>\n",
       "      <th>mean_ci_lower</th>\n",
       "      <th>mean_ci_upper</th>\n",
       "      <th>obs_ci_lower</th>\n",
       "      <th>obs_ci_upper</th>\n",
       "      <th>Publication date (float)</th>\n",
       "      <th>Publication date</th>\n",
       "    </tr>\n",
       "  </thead>\n",
       "  <tbody>\n",
       "    <tr>\n",
       "      <th>0</th>\n",
       "      <td>2.955732</td>\n",
       "      <td>0.336233</td>\n",
       "      <td>2.279690</td>\n",
       "      <td>3.631775</td>\n",
       "      <td>1.293355</td>\n",
       "      <td>4.618109</td>\n",
       "      <td>2015.00000</td>\n",
       "      <td>2015-01-01</td>\n",
       "    </tr>\n",
       "    <tr>\n",
       "      <th>1</th>\n",
       "      <td>2.993720</td>\n",
       "      <td>0.331516</td>\n",
       "      <td>2.327162</td>\n",
       "      <td>3.660277</td>\n",
       "      <td>1.335178</td>\n",
       "      <td>4.652262</td>\n",
       "      <td>2015.10101</td>\n",
       "      <td>2015-02-06</td>\n",
       "    </tr>\n",
       "    <tr>\n",
       "      <th>2</th>\n",
       "      <td>3.031707</td>\n",
       "      <td>0.326806</td>\n",
       "      <td>2.374619</td>\n",
       "      <td>3.688795</td>\n",
       "      <td>1.376948</td>\n",
       "      <td>4.686466</td>\n",
       "      <td>2015.20202</td>\n",
       "      <td>2015-03-15</td>\n",
       "    </tr>\n",
       "    <tr>\n",
       "      <th>3</th>\n",
       "      <td>3.069695</td>\n",
       "      <td>0.322105</td>\n",
       "      <td>2.422060</td>\n",
       "      <td>3.717329</td>\n",
       "      <td>1.418666</td>\n",
       "      <td>4.720723</td>\n",
       "      <td>2015.30303</td>\n",
       "      <td>2015-04-21</td>\n",
       "    </tr>\n",
       "    <tr>\n",
       "      <th>4</th>\n",
       "      <td>3.107682</td>\n",
       "      <td>0.317411</td>\n",
       "      <td>2.469483</td>\n",
       "      <td>3.745880</td>\n",
       "      <td>1.460332</td>\n",
       "      <td>4.755032</td>\n",
       "      <td>2015.40404</td>\n",
       "      <td>2015-05-28</td>\n",
       "    </tr>\n",
       "    <tr>\n",
       "      <th>...</th>\n",
       "      <td>...</td>\n",
       "      <td>...</td>\n",
       "      <td>...</td>\n",
       "      <td>...</td>\n",
       "      <td>...</td>\n",
       "      <td>...</td>\n",
       "      <td>...</td>\n",
       "      <td>...</td>\n",
       "    </tr>\n",
       "    <tr>\n",
       "      <th>95</th>\n",
       "      <td>6.564534</td>\n",
       "      <td>0.187597</td>\n",
       "      <td>6.187345</td>\n",
       "      <td>6.941723</td>\n",
       "      <td>4.999691</td>\n",
       "      <td>8.129378</td>\n",
       "      <td>2024.59596</td>\n",
       "      <td>2024-08-06</td>\n",
       "    </tr>\n",
       "    <tr>\n",
       "      <th>96</th>\n",
       "      <td>6.602522</td>\n",
       "      <td>0.191711</td>\n",
       "      <td>6.217060</td>\n",
       "      <td>6.987983</td>\n",
       "      <td>5.035664</td>\n",
       "      <td>8.169379</td>\n",
       "      <td>2024.69697</td>\n",
       "      <td>2024-09-12</td>\n",
       "    </tr>\n",
       "    <tr>\n",
       "      <th>97</th>\n",
       "      <td>6.640509</td>\n",
       "      <td>0.195866</td>\n",
       "      <td>6.246695</td>\n",
       "      <td>7.034323</td>\n",
       "      <td>5.071575</td>\n",
       "      <td>8.209443</td>\n",
       "      <td>2024.79798</td>\n",
       "      <td>2024-10-19</td>\n",
       "    </tr>\n",
       "    <tr>\n",
       "      <th>98</th>\n",
       "      <td>6.678496</td>\n",
       "      <td>0.200058</td>\n",
       "      <td>6.276254</td>\n",
       "      <td>7.080739</td>\n",
       "      <td>5.107426</td>\n",
       "      <td>8.249567</td>\n",
       "      <td>2024.89899</td>\n",
       "      <td>2024-11-25</td>\n",
       "    </tr>\n",
       "    <tr>\n",
       "      <th>99</th>\n",
       "      <td>6.716484</td>\n",
       "      <td>0.204285</td>\n",
       "      <td>6.305741</td>\n",
       "      <td>7.127226</td>\n",
       "      <td>5.143216</td>\n",
       "      <td>8.289752</td>\n",
       "      <td>2025.00000</td>\n",
       "      <td>2025-01-01</td>\n",
       "    </tr>\n",
       "  </tbody>\n",
       "</table>\n",
       "<p>100 rows × 8 columns</p>\n",
       "</div>"
      ],
      "text/plain": [
       "        mean   mean_se  mean_ci_lower  mean_ci_upper  obs_ci_lower  \\\n",
       "0   2.955732  0.336233       2.279690       3.631775      1.293355   \n",
       "1   2.993720  0.331516       2.327162       3.660277      1.335178   \n",
       "2   3.031707  0.326806       2.374619       3.688795      1.376948   \n",
       "3   3.069695  0.322105       2.422060       3.717329      1.418666   \n",
       "4   3.107682  0.317411       2.469483       3.745880      1.460332   \n",
       "..       ...       ...            ...            ...           ...   \n",
       "95  6.564534  0.187597       6.187345       6.941723      4.999691   \n",
       "96  6.602522  0.191711       6.217060       6.987983      5.035664   \n",
       "97  6.640509  0.195866       6.246695       7.034323      5.071575   \n",
       "98  6.678496  0.200058       6.276254       7.080739      5.107426   \n",
       "99  6.716484  0.204285       6.305741       7.127226      5.143216   \n",
       "\n",
       "    obs_ci_upper  Publication date (float) Publication date  \n",
       "0       4.618109                2015.00000       2015-01-01  \n",
       "1       4.652262                2015.10101       2015-02-06  \n",
       "2       4.686466                2015.20202       2015-03-15  \n",
       "3       4.720723                2015.30303       2015-04-21  \n",
       "4       4.755032                2015.40404       2015-05-28  \n",
       "..           ...                       ...              ...  \n",
       "95      8.129378                2024.59596       2024-08-06  \n",
       "96      8.169379                2024.69697       2024-09-12  \n",
       "97      8.209443                2024.79798       2024-10-19  \n",
       "98      8.249567                2024.89899       2024-11-25  \n",
       "99      8.289752                2025.00000       2025-01-01  \n",
       "\n",
       "[100 rows x 8 columns]"
      ]
     },
     "execution_count": 21,
     "metadata": {},
     "output_type": "execute_result"
    }
   ],
   "source": [
    "\n",
    "predicted_cost_df = get_predictions(reg_results, pred_years, ['Publication date (float)'])\n",
    "predicted_cost_df['Publication date'] = predicted_cost_df['Publication date (float)'].apply(float_year_to_datetime)\n",
    "predicted_cost_df"
   ]
  },
  {
   "cell_type": "markdown",
   "metadata": {},
   "source": [
    "# Plots"
   ]
  },
  {
   "cell_type": "code",
   "execution_count": 22,
   "metadata": {},
   "outputs": [],
   "source": [
    "plot_title_lookup = {\n",
    "    'cloud': 'Cloud compute cost to train large ML systems',\n",
    "    'amortized': 'Amortized cost of hardware to train large ML systems',\n",
    "    'up-front-server-capex': 'Acquisition cost of hardware to train large ML systems',\n",
    "    'hardware-capex-opex': 'Hardware CapEx + OpEx to train large ML systems',\n",
    "}"
   ]
  },
  {
   "cell_type": "code",
   "execution_count": 23,
   "metadata": {
    "ExecuteTime": {
     "end_time": "2024-03-08T01:55:04.230921600Z",
     "start_time": "2024-03-08T01:55:00.065485900Z"
    }
   },
   "outputs": [
    {
     "data": {
      "application/vnd.plotly.v1+json": {
       "config": {
        "plotlyServerURL": "https://plot.ly"
       },
       "data": [
        {
         "hovertemplate": "Publication date=%{x}<br>Cost (inflation-adjusted)=%{y}<br>System=%{text}<extra></extra>",
         "legendgroup": "",
         "marker": {
          "color": "#636efa",
          "symbol": "circle"
         },
         "mode": "markers+text",
         "name": "",
         "orientation": "v",
         "showlegend": false,
         "text": [
          "Gemini Ultra",
          "Qwen-72B",
          "Inflection-2",
          "Nemotron-3-8B",
          "Yi-34B",
          "Skywork-13B",
          "ChatGLM3",
          "XGen-7B",
          "Falcon 180B",
          "Llama 2-70B",
          "Llama 2-34B",
          "Llama 2-7B",
          "Llama 2-13B",
          "Claude 2",
          "xTrimoPGLM -100B",
          "Pangu-Weather",
          "PaLM 2",
          "StarCoder",
          "WizardLM-7B",
          "BloombergGPT",
          "PanGu-Σ",
          "GPT-4",
          "Falcon-40B",
          "LLaMA-13B",
          "LLaMA-65B",
          "LLaMA-7B",
          "ViT-22B",
          "GPT-3.5 (text-davinci-003)",
          "Galactica",
          "BLOOM-176B",
          "Taiyi-Stable Diffusion",
          "U-PaLM (540B)",
          "Whisper",
          "PaLI",
          "BlenderBot 3",
          "GLM-130B",
          "AlexaTM 20B",
          "ESM2-15B",
          "ESM2-3B",
          "NLLB",
          "Minerva (540B)",
          "Parti",
          "CoCa",
          "Imagen",
          "UL2",
          "OPT-175B",
          "Flamingo",
          "Stable Diffusion (LDM-KL-8-G)",
          "PaLM (540B)",
          "Chinchilla",
          "LaMDA",
          "GPT-NeoX-20B",
          "AlphaCode",
          "ERNIE 3.0 Titan",
          "XGLM-7.5B",
          "GLaM",
          "Gopher (280B)",
          "Florence",
          "BASIC-L",
          "T0-XXL",
          "Yuan 1.0",
          "Megatron-Turing NLG 530B",
          "HyperCLOVA",
          "FLAN 137B",
          "GOAT",
          "HuBERT",
          "ERNIE 3.0",
          "ALIGN",
          "DeBERTa",
          "CoAtNet",
          "ByT5-XXL",
          "CogView",
          "ProtT5-XXL",
          "ProtT5-XXL-BFD",
          "ProtBERT-BFD",
          "PLUG",
          "M6-T",
          "Meta Pseudo Labels",
          "MSA Transformer",
          "Switch",
          "DALL-E",
          "CLIP (ViT L/14@336px)",
          "AlphaFold 2",
          "ViT-Huge/14",
          "wave2vec 2.0 LARGE",
          "GBERT-Large",
          "Conformer + Wav2vec 2.0 + Noisy Student",
          "mT5-XXL",
          "GShard (dense)",
          "iGPT-XL",
          "iGPT-L",
          "GPT-3 175B (davinci)",
          "Once for All",
          "ELECTRA",
          "Turing-NLG",
          "ALBERT-xxlarge",
          "Meena",
          "ContextNet + Noisy Student",
          "DD-PPO",
          "OpenAI Five",
          "OpenAI Five Rerun",
          "Noisy Student (L2)",
          "CamemBERT",
          "AlphaStar",
          "T5-3B",
          "T5-11B",
          "Megatron-BERT",
          "Megatron-LM (8.3B)",
          "Megatron-LM (355M)",
          "RoBERTa Large",
          "MnasNet-A3",
          "MnasNet-A1 + SSDLite",
          "BERT-Large-CAS (PTB+WT2+WT103)",
          "SciBERT",
          "GPT-2 (1.5B)",
          "Mesh-TensorFlow Transformer 4.9B (language modelling)",
          "Mesh-TensorFlow Transformer 2.9B (translation)",
          "BERT-Large",
          "BigGAN-deep 512x512",
          "Transformer (Adaptive Input Embeddings)",
          "Big Transformer for Back-Translation",
          "FTW",
          "Population-based DRL",
          "GPT",
          "ResNeXt-101 32x48d",
          "YOLOv3",
          "LSTM (Hebbian, Cache, MbPA)",
          "AmoebaNet-A (F=448)",
          "IMPALA",
          "AlphaZero",
          "PNASNet-5",
          "AlphaGo Zero",
          "OpenAI TI7 DOTA 1v1",
          "JFT",
          "Transformer",
          "MoE",
          "DeepStack",
          "Libratus",
          "AlphaGo Master",
          "PolyNet",
          "NASv3 (CIFAR-10)",
          "BIDAF",
          "Xception",
          "GNMT",
          "AlphaGo Lee",
          "ResNet-152 (ImageNet)",
          "DeepSpeech2 (English)",
          "AlphaGo Fan"
         ],
         "textposition": "top center",
         "type": "scatter",
         "x": [
          "2023-12-06 00:00:00",
          "2023-11-30 00:00:00",
          "2023-11-22 00:00:00",
          "2023-11-15 00:00:00",
          "2023-11-02 00:00:00",
          "2023-10-30 00:00:00",
          "2023-10-27 00:00:00",
          "2023-09-07 00:00:00",
          "2023-09-06 00:00:00",
          "2023-07-18 00:00:00",
          "2023-07-18 00:00:00",
          "2023-07-18 00:00:00",
          "2023-07-18 00:00:00",
          "2023-07-11 00:00:00",
          "2023-07-06 00:00:00",
          "2023-07-05 00:00:00",
          "2023-05-10 00:00:00",
          "2023-05-09 00:00:00",
          "2023-04-24 00:00:00",
          "2023-03-30 00:00:00",
          "2023-03-20 00:00:00",
          "2023-03-15 00:00:00",
          "2023-03-15 00:00:00",
          "2023-02-27 00:00:00",
          "2023-02-24 00:00:00",
          "2023-02-24 00:00:00",
          "2023-02-10 00:00:00",
          "2022-11-28 00:00:00",
          "2022-11-16 00:00:00",
          "2022-11-08 00:00:00",
          "2022-10-31 00:00:00",
          "2022-10-20 00:00:00",
          "2022-09-21 00:00:00",
          "2022-09-14 00:00:00",
          "2022-08-10 00:00:00",
          "2022-08-04 00:00:00",
          "2022-08-02 00:00:00",
          "2022-07-21 00:00:00",
          "2022-07-21 00:00:00",
          "2022-07-06 00:00:00",
          "2022-06-29 00:00:00",
          "2022-06-22 00:00:00",
          "2022-06-14 00:00:00",
          "2022-05-23 00:00:00",
          "2022-05-10 00:00:00",
          "2022-05-02 00:00:00",
          "2022-04-29 00:00:00",
          "2022-04-13 00:00:00",
          "2022-04-04 00:00:00",
          "2022-03-29 00:00:00",
          "2022-02-10 00:00:00",
          "2022-02-09 00:00:00",
          "2022-02-02 00:00:00",
          "2021-12-23 00:00:00",
          "2021-12-20 00:00:00",
          "2021-12-13 00:00:00",
          "2021-12-08 00:00:00",
          "2021-11-22 00:00:00",
          "2021-11-19 00:00:00",
          "2021-10-15 00:00:00",
          "2021-10-12 00:00:00",
          "2021-10-11 00:00:00",
          "2021-09-10 00:00:00",
          "2021-09-03 00:00:00",
          "2021-07-27 00:00:00",
          "2021-07-27 00:00:00",
          "2021-07-05 00:00:00",
          "2021-06-11 00:00:00",
          "2021-06-10 00:00:00",
          "2021-06-09 00:00:00",
          "2021-05-28 00:00:00",
          "2021-05-26 00:00:00",
          "2021-05-04 00:00:00",
          "2021-05-04 00:00:00",
          "2021-05-04 00:00:00",
          "2021-04-19 00:00:00",
          "2021-03-05 00:00:00",
          "2021-03-01 00:00:00",
          "2021-02-13 00:00:00",
          "2021-01-11 00:00:00",
          "2021-01-05 00:00:00",
          "2021-01-05 00:00:00",
          "2020-11-30 00:00:00",
          "2020-10-22 00:00:00",
          "2020-10-22 00:00:00",
          "2020-10-21 00:00:00",
          "2020-10-20 00:00:00",
          "2020-10-20 00:00:00",
          "2020-06-30 00:00:00",
          "2020-06-17 00:00:00",
          "2020-06-17 00:00:00",
          "2020-05-28 00:00:00",
          "2020-04-29 00:00:00",
          "2020-03-23 00:00:00",
          "2020-02-13 00:00:00",
          "2020-02-09 00:00:00",
          "2020-01-28 00:00:00",
          "2020-01-19 00:00:00",
          "2019-12-19 00:00:00",
          "2019-12-13 00:00:00",
          "2019-12-13 00:00:00",
          "2019-11-11 00:00:00",
          "2019-11-10 00:00:00",
          "2019-10-30 00:00:00",
          "2019-10-23 00:00:00",
          "2019-10-23 00:00:00",
          "2019-09-17 00:00:00",
          "2019-09-17 00:00:00",
          "2019-09-17 00:00:00",
          "2019-07-01 00:00:00",
          "2019-05-29 00:00:00",
          "2019-05-29 00:00:00",
          "2019-04-20 00:00:00",
          "2019-03-26 00:00:00",
          "2019-02-14 00:00:00",
          "2018-11-05 00:00:00",
          "2018-11-05 00:00:00",
          "2018-10-11 00:00:00",
          "2018-09-28 00:00:00",
          "2018-09-28 00:00:00",
          "2018-08-28 00:00:00",
          "2018-07-03 00:00:00",
          "2018-07-03 00:00:00",
          "2018-06-01 00:00:00",
          "2018-05-02 00:00:00",
          "2018-04-08 00:00:00",
          "2018-03-27 00:00:00",
          "2018-02-05 00:00:00",
          "2018-02-05 00:00:00",
          "2017-12-05 00:00:00",
          "2017-12-02 00:00:00",
          "2017-10-18 00:00:00",
          "2017-08-11 00:00:00",
          "2017-07-10 00:00:00",
          "2017-06-12 00:00:00",
          "2017-01-23 00:00:00",
          "2017-01-06 00:00:00",
          "2017-01-01 00:00:00",
          "2017-01-01 00:00:00",
          "2016-11-17 00:00:00",
          "2016-11-05 00:00:00",
          "2016-11-05 00:00:00",
          "2016-10-07 00:00:00",
          "2016-09-26 00:00:00",
          "2016-01-27 00:00:00",
          "2015-12-10 00:00:00",
          "2015-12-08 00:00:00",
          "2015-10-01 00:00:00"
         ],
         "xaxis": "x",
         "y": [
          null,
          null,
          14443938.10870438,
          507745.11467781896,
          null,
          null,
          null,
          null,
          20061008.916681554,
          2670507.5884378143,
          1197600.2164039998,
          246564.7504361176,
          469647.14368784317,
          null,
          3404522.9307144326,
          null,
          null,
          402519.35287498333,
          null,
          712977.2043112316,
          null,
          64913905.46991352,
          606311.3233512837,
          117074.06737920312,
          1109781.879394357,
          90206.57121091169,
          null,
          7059762.317211286,
          967390.1457108838,
          1372772.8784544917,
          170155.99612416848,
          null,
          null,
          null,
          2183224.28749581,
          1275417.146003859,
          403663.22877608077,
          null,
          null,
          52242.178319386156,
          null,
          null,
          null,
          null,
          null,
          1017570.5731104431,
          null,
          166013.96878643785,
          null,
          null,
          null,
          242393.34098306947,
          null,
          null,
          140908.16401471713,
          null,
          null,
          139477.2488022519,
          null,
          null,
          null,
          4332845.620043084,
          729292.4983836929,
          null,
          null,
          null,
          null,
          null,
          null,
          null,
          null,
          139882.90266028827,
          null,
          null,
          null,
          119133.92446792907,
          34361.58799160572,
          null,
          34146.150611490426,
          null,
          246172.53917466762,
          null,
          null,
          null,
          11788.84835285207,
          null,
          null,
          null,
          null,
          207181.74031374126,
          55939.06988471014,
          3786403.260097495,
          null,
          null,
          98357.20720342454,
          null,
          null,
          null,
          null,
          null,
          null,
          null,
          null,
          null,
          null,
          null,
          636706.3888020006,
          181585.59404630863,
          null,
          133465.66841730307,
          null,
          null,
          null,
          null,
          null,
          null,
          null,
          null,
          null,
          null,
          null,
          null,
          null,
          null,
          null,
          null,
          null,
          23131.748605502788,
          null,
          null,
          null,
          null,
          null,
          18452.17307149224,
          null,
          null,
          null,
          null,
          null,
          982.2698889157452,
          null,
          66.53527876306916,
          11142.75004076942,
          106970.40039138644,
          null,
          null,
          342.13258611111326,
          null
         ],
         "yaxis": "y"
        }
       ],
       "layout": {
        "autosize": false,
        "font": {
         "size": 14
        },
        "height": 600,
        "legend": {
         "tracegroupgap": 0
        },
        "margin": {
         "b": 10,
         "l": 10,
         "r": 10,
         "t": 40
        },
        "showlegend": false,
        "template": {
         "data": {
          "bar": [
           {
            "error_x": {
             "color": "#2a3f5f"
            },
            "error_y": {
             "color": "#2a3f5f"
            },
            "marker": {
             "line": {
              "color": "#E5ECF6",
              "width": 0.5
             },
             "pattern": {
              "fillmode": "overlay",
              "size": 10,
              "solidity": 0.2
             }
            },
            "type": "bar"
           }
          ],
          "barpolar": [
           {
            "marker": {
             "line": {
              "color": "#E5ECF6",
              "width": 0.5
             },
             "pattern": {
              "fillmode": "overlay",
              "size": 10,
              "solidity": 0.2
             }
            },
            "type": "barpolar"
           }
          ],
          "carpet": [
           {
            "aaxis": {
             "endlinecolor": "#2a3f5f",
             "gridcolor": "white",
             "linecolor": "white",
             "minorgridcolor": "white",
             "startlinecolor": "#2a3f5f"
            },
            "baxis": {
             "endlinecolor": "#2a3f5f",
             "gridcolor": "white",
             "linecolor": "white",
             "minorgridcolor": "white",
             "startlinecolor": "#2a3f5f"
            },
            "type": "carpet"
           }
          ],
          "choropleth": [
           {
            "colorbar": {
             "outlinewidth": 0,
             "ticks": ""
            },
            "type": "choropleth"
           }
          ],
          "contour": [
           {
            "colorbar": {
             "outlinewidth": 0,
             "ticks": ""
            },
            "colorscale": [
             [
              0,
              "#0d0887"
             ],
             [
              0.1111111111111111,
              "#46039f"
             ],
             [
              0.2222222222222222,
              "#7201a8"
             ],
             [
              0.3333333333333333,
              "#9c179e"
             ],
             [
              0.4444444444444444,
              "#bd3786"
             ],
             [
              0.5555555555555556,
              "#d8576b"
             ],
             [
              0.6666666666666666,
              "#ed7953"
             ],
             [
              0.7777777777777778,
              "#fb9f3a"
             ],
             [
              0.8888888888888888,
              "#fdca26"
             ],
             [
              1,
              "#f0f921"
             ]
            ],
            "type": "contour"
           }
          ],
          "contourcarpet": [
           {
            "colorbar": {
             "outlinewidth": 0,
             "ticks": ""
            },
            "type": "contourcarpet"
           }
          ],
          "heatmap": [
           {
            "colorbar": {
             "outlinewidth": 0,
             "ticks": ""
            },
            "colorscale": [
             [
              0,
              "#0d0887"
             ],
             [
              0.1111111111111111,
              "#46039f"
             ],
             [
              0.2222222222222222,
              "#7201a8"
             ],
             [
              0.3333333333333333,
              "#9c179e"
             ],
             [
              0.4444444444444444,
              "#bd3786"
             ],
             [
              0.5555555555555556,
              "#d8576b"
             ],
             [
              0.6666666666666666,
              "#ed7953"
             ],
             [
              0.7777777777777778,
              "#fb9f3a"
             ],
             [
              0.8888888888888888,
              "#fdca26"
             ],
             [
              1,
              "#f0f921"
             ]
            ],
            "type": "heatmap"
           }
          ],
          "heatmapgl": [
           {
            "colorbar": {
             "outlinewidth": 0,
             "ticks": ""
            },
            "colorscale": [
             [
              0,
              "#0d0887"
             ],
             [
              0.1111111111111111,
              "#46039f"
             ],
             [
              0.2222222222222222,
              "#7201a8"
             ],
             [
              0.3333333333333333,
              "#9c179e"
             ],
             [
              0.4444444444444444,
              "#bd3786"
             ],
             [
              0.5555555555555556,
              "#d8576b"
             ],
             [
              0.6666666666666666,
              "#ed7953"
             ],
             [
              0.7777777777777778,
              "#fb9f3a"
             ],
             [
              0.8888888888888888,
              "#fdca26"
             ],
             [
              1,
              "#f0f921"
             ]
            ],
            "type": "heatmapgl"
           }
          ],
          "histogram": [
           {
            "marker": {
             "pattern": {
              "fillmode": "overlay",
              "size": 10,
              "solidity": 0.2
             }
            },
            "type": "histogram"
           }
          ],
          "histogram2d": [
           {
            "colorbar": {
             "outlinewidth": 0,
             "ticks": ""
            },
            "colorscale": [
             [
              0,
              "#0d0887"
             ],
             [
              0.1111111111111111,
              "#46039f"
             ],
             [
              0.2222222222222222,
              "#7201a8"
             ],
             [
              0.3333333333333333,
              "#9c179e"
             ],
             [
              0.4444444444444444,
              "#bd3786"
             ],
             [
              0.5555555555555556,
              "#d8576b"
             ],
             [
              0.6666666666666666,
              "#ed7953"
             ],
             [
              0.7777777777777778,
              "#fb9f3a"
             ],
             [
              0.8888888888888888,
              "#fdca26"
             ],
             [
              1,
              "#f0f921"
             ]
            ],
            "type": "histogram2d"
           }
          ],
          "histogram2dcontour": [
           {
            "colorbar": {
             "outlinewidth": 0,
             "ticks": ""
            },
            "colorscale": [
             [
              0,
              "#0d0887"
             ],
             [
              0.1111111111111111,
              "#46039f"
             ],
             [
              0.2222222222222222,
              "#7201a8"
             ],
             [
              0.3333333333333333,
              "#9c179e"
             ],
             [
              0.4444444444444444,
              "#bd3786"
             ],
             [
              0.5555555555555556,
              "#d8576b"
             ],
             [
              0.6666666666666666,
              "#ed7953"
             ],
             [
              0.7777777777777778,
              "#fb9f3a"
             ],
             [
              0.8888888888888888,
              "#fdca26"
             ],
             [
              1,
              "#f0f921"
             ]
            ],
            "type": "histogram2dcontour"
           }
          ],
          "mesh3d": [
           {
            "colorbar": {
             "outlinewidth": 0,
             "ticks": ""
            },
            "type": "mesh3d"
           }
          ],
          "parcoords": [
           {
            "line": {
             "colorbar": {
              "outlinewidth": 0,
              "ticks": ""
             }
            },
            "type": "parcoords"
           }
          ],
          "pie": [
           {
            "automargin": true,
            "type": "pie"
           }
          ],
          "scatter": [
           {
            "fillpattern": {
             "fillmode": "overlay",
             "size": 10,
             "solidity": 0.2
            },
            "type": "scatter"
           }
          ],
          "scatter3d": [
           {
            "line": {
             "colorbar": {
              "outlinewidth": 0,
              "ticks": ""
             }
            },
            "marker": {
             "colorbar": {
              "outlinewidth": 0,
              "ticks": ""
             }
            },
            "type": "scatter3d"
           }
          ],
          "scattercarpet": [
           {
            "marker": {
             "colorbar": {
              "outlinewidth": 0,
              "ticks": ""
             }
            },
            "type": "scattercarpet"
           }
          ],
          "scattergeo": [
           {
            "marker": {
             "colorbar": {
              "outlinewidth": 0,
              "ticks": ""
             }
            },
            "type": "scattergeo"
           }
          ],
          "scattergl": [
           {
            "marker": {
             "colorbar": {
              "outlinewidth": 0,
              "ticks": ""
             }
            },
            "type": "scattergl"
           }
          ],
          "scattermapbox": [
           {
            "marker": {
             "colorbar": {
              "outlinewidth": 0,
              "ticks": ""
             }
            },
            "type": "scattermapbox"
           }
          ],
          "scatterpolar": [
           {
            "marker": {
             "colorbar": {
              "outlinewidth": 0,
              "ticks": ""
             }
            },
            "type": "scatterpolar"
           }
          ],
          "scatterpolargl": [
           {
            "marker": {
             "colorbar": {
              "outlinewidth": 0,
              "ticks": ""
             }
            },
            "type": "scatterpolargl"
           }
          ],
          "scatterternary": [
           {
            "marker": {
             "colorbar": {
              "outlinewidth": 0,
              "ticks": ""
             }
            },
            "type": "scatterternary"
           }
          ],
          "surface": [
           {
            "colorbar": {
             "outlinewidth": 0,
             "ticks": ""
            },
            "colorscale": [
             [
              0,
              "#0d0887"
             ],
             [
              0.1111111111111111,
              "#46039f"
             ],
             [
              0.2222222222222222,
              "#7201a8"
             ],
             [
              0.3333333333333333,
              "#9c179e"
             ],
             [
              0.4444444444444444,
              "#bd3786"
             ],
             [
              0.5555555555555556,
              "#d8576b"
             ],
             [
              0.6666666666666666,
              "#ed7953"
             ],
             [
              0.7777777777777778,
              "#fb9f3a"
             ],
             [
              0.8888888888888888,
              "#fdca26"
             ],
             [
              1,
              "#f0f921"
             ]
            ],
            "type": "surface"
           }
          ],
          "table": [
           {
            "cells": {
             "fill": {
              "color": "#EBF0F8"
             },
             "line": {
              "color": "white"
             }
            },
            "header": {
             "fill": {
              "color": "#C8D4E3"
             },
             "line": {
              "color": "white"
             }
            },
            "type": "table"
           }
          ]
         },
         "layout": {
          "annotationdefaults": {
           "arrowcolor": "#2a3f5f",
           "arrowhead": 0,
           "arrowwidth": 1
          },
          "autotypenumbers": "strict",
          "coloraxis": {
           "colorbar": {
            "outlinewidth": 0,
            "ticks": ""
           }
          },
          "colorscale": {
           "diverging": [
            [
             0,
             "#8e0152"
            ],
            [
             0.1,
             "#c51b7d"
            ],
            [
             0.2,
             "#de77ae"
            ],
            [
             0.3,
             "#f1b6da"
            ],
            [
             0.4,
             "#fde0ef"
            ],
            [
             0.5,
             "#f7f7f7"
            ],
            [
             0.6,
             "#e6f5d0"
            ],
            [
             0.7,
             "#b8e186"
            ],
            [
             0.8,
             "#7fbc41"
            ],
            [
             0.9,
             "#4d9221"
            ],
            [
             1,
             "#276419"
            ]
           ],
           "sequential": [
            [
             0,
             "#0d0887"
            ],
            [
             0.1111111111111111,
             "#46039f"
            ],
            [
             0.2222222222222222,
             "#7201a8"
            ],
            [
             0.3333333333333333,
             "#9c179e"
            ],
            [
             0.4444444444444444,
             "#bd3786"
            ],
            [
             0.5555555555555556,
             "#d8576b"
            ],
            [
             0.6666666666666666,
             "#ed7953"
            ],
            [
             0.7777777777777778,
             "#fb9f3a"
            ],
            [
             0.8888888888888888,
             "#fdca26"
            ],
            [
             1,
             "#f0f921"
            ]
           ],
           "sequentialminus": [
            [
             0,
             "#0d0887"
            ],
            [
             0.1111111111111111,
             "#46039f"
            ],
            [
             0.2222222222222222,
             "#7201a8"
            ],
            [
             0.3333333333333333,
             "#9c179e"
            ],
            [
             0.4444444444444444,
             "#bd3786"
            ],
            [
             0.5555555555555556,
             "#d8576b"
            ],
            [
             0.6666666666666666,
             "#ed7953"
            ],
            [
             0.7777777777777778,
             "#fb9f3a"
            ],
            [
             0.8888888888888888,
             "#fdca26"
            ],
            [
             1,
             "#f0f921"
            ]
           ]
          },
          "colorway": [
           "#636efa",
           "#EF553B",
           "#00cc96",
           "#ab63fa",
           "#FFA15A",
           "#19d3f3",
           "#FF6692",
           "#B6E880",
           "#FF97FF",
           "#FECB52"
          ],
          "font": {
           "color": "#2a3f5f"
          },
          "geo": {
           "bgcolor": "white",
           "lakecolor": "white",
           "landcolor": "#E5ECF6",
           "showlakes": true,
           "showland": true,
           "subunitcolor": "white"
          },
          "hoverlabel": {
           "align": "left"
          },
          "hovermode": "closest",
          "mapbox": {
           "style": "light"
          },
          "paper_bgcolor": "white",
          "plot_bgcolor": "#E5ECF6",
          "polar": {
           "angularaxis": {
            "gridcolor": "white",
            "linecolor": "white",
            "ticks": ""
           },
           "bgcolor": "#E5ECF6",
           "radialaxis": {
            "gridcolor": "white",
            "linecolor": "white",
            "ticks": ""
           }
          },
          "scene": {
           "xaxis": {
            "backgroundcolor": "#E5ECF6",
            "gridcolor": "white",
            "gridwidth": 2,
            "linecolor": "white",
            "showbackground": true,
            "ticks": "",
            "zerolinecolor": "white"
           },
           "yaxis": {
            "backgroundcolor": "#E5ECF6",
            "gridcolor": "white",
            "gridwidth": 2,
            "linecolor": "white",
            "showbackground": true,
            "ticks": "",
            "zerolinecolor": "white"
           },
           "zaxis": {
            "backgroundcolor": "#E5ECF6",
            "gridcolor": "white",
            "gridwidth": 2,
            "linecolor": "white",
            "showbackground": true,
            "ticks": "",
            "zerolinecolor": "white"
           }
          },
          "shapedefaults": {
           "line": {
            "color": "#2a3f5f"
           }
          },
          "ternary": {
           "aaxis": {
            "gridcolor": "white",
            "linecolor": "white",
            "ticks": ""
           },
           "baxis": {
            "gridcolor": "white",
            "linecolor": "white",
            "ticks": ""
           },
           "bgcolor": "#E5ECF6",
           "caxis": {
            "gridcolor": "white",
            "linecolor": "white",
            "ticks": ""
           }
          },
          "title": {
           "x": 0.05
          },
          "xaxis": {
           "automargin": true,
           "gridcolor": "white",
           "linecolor": "white",
           "ticks": "",
           "title": {
            "standoff": 15
           },
           "zerolinecolor": "white",
           "zerolinewidth": 2
          },
          "yaxis": {
           "automargin": true,
           "gridcolor": "white",
           "linecolor": "white",
           "ticks": "",
           "title": {
            "standoff": 15
           },
           "zerolinecolor": "white",
           "zerolinewidth": 2
          }
         }
        },
        "title": {
         "text": "Hardware CapEx + OpEx to train large ML systems"
        },
        "width": 800,
        "xaxis": {
         "anchor": "y",
         "domain": [
          0,
          1
         ],
         "range": [
          "2015-01-01",
          "2025-01-01"
         ],
         "title": {
          "text": "Publication date"
         }
        },
        "yaxis": {
         "anchor": "x",
         "domain": [
          0,
          1
         ],
         "title": {
          "text": "Cost (2023 USD)"
         },
         "type": "log"
        }
       }
      }
     },
     "metadata": {},
     "output_type": "display_data"
    }
   ],
   "source": [
    "fig = px.scatter(\n",
    "    cost_df,\n",
    "    x='Publication date',\n",
    "    y='Cost (inflation-adjusted)',\n",
    "    text='System',\n",
    "    log_y=True,\n",
    ")\n",
    "fig.update_traces(textposition='top center')\n",
    "\n",
    "# no legend\n",
    "fig.update_layout(showlegend=False)\n",
    "\n",
    "# axis labels\n",
    "fig.update_xaxes(title_text='Publication date')\n",
    "fig.update_yaxes(title_text='Cost (2023 USD)')\n",
    "\n",
    "# title\n",
    "fig.update_layout(title_text=plot_title_lookup[estimation_method])\n",
    "\n",
    "# update size\n",
    "fig.update_layout(\n",
    "    autosize=False,\n",
    "    width=800,\n",
    "    height=600,\n",
    ")\n",
    "\n",
    "# font size\n",
    "fig.update_layout(\n",
    "    font=dict(\n",
    "        size=14,\n",
    "    )\n",
    ")\n",
    "\n",
    "# axis limits\n",
    "fig.update_xaxes(range=['2015-01-01', '2025-01-01'])\n",
    "\n",
    "# margins\n",
    "fig.update_layout(margin=dict(l=10, r=10, t=40, b=10))\n",
    "\n",
    "save_plot(fig, results_dir, 'cost_scatter')\n",
    "\n",
    "fig.show()"
   ]
  },
  {
   "cell_type": "code",
   "execution_count": 24,
   "metadata": {
    "ExecuteTime": {
     "end_time": "2024-03-08T01:55:04.855981900Z",
     "start_time": "2024-03-08T01:55:04.230921600Z"
    }
   },
   "outputs": [
    {
     "data": {
      "application/vnd.plotly.v1+json": {
       "config": {
        "plotlyServerURL": "https://plot.ly"
       },
       "data": [
        {
         "hovertemplate": "Publication date=%{x}<br>Cost (inflation-adjusted)=%{y}<br>System=%{text}<extra></extra>",
         "legendgroup": "",
         "marker": {
          "color": "#636efa",
          "symbol": "circle"
         },
         "mode": "markers+text",
         "name": "",
         "orientation": "v",
         "showlegend": false,
         "text": [
          "Gemini Ultra",
          "Falcon 180B",
          "Llama 2-70B",
          "GPT-4",
          "PaLM (540B)",
          "GPT-3 175B (davinci)",
          "Megatron-BERT",
          "GNMT"
         ],
         "textposition": "top center",
         "type": "scatter",
         "x": [
          "2023-12-06 00:00:00",
          "2023-09-06 00:00:00",
          "2023-07-18 00:00:00",
          "2023-03-15 00:00:00",
          "2022-04-04 00:00:00",
          "2020-05-28 00:00:00",
          "2019-09-17 00:00:00",
          "2016-09-26 00:00:00"
         ],
         "xaxis": "x",
         "y": [
          null,
          20061008.916681554,
          2670507.5884378143,
          64913905.46991352,
          null,
          3786403.260097495,
          636706.3888020006,
          106970.40039138644
         ],
         "yaxis": "y"
        },
        {
         "marker": {
          "color": "rgb(0,100,200)"
         },
         "mode": "markers",
         "showlegend": false,
         "textposition": "top center",
         "type": "scatter",
         "x": [
          "2023-12-06 00:00:00",
          "2023-11-30 00:00:00",
          "2023-11-22 00:00:00",
          "2023-11-15 00:00:00",
          "2023-11-02 00:00:00",
          "2023-10-30 00:00:00",
          "2023-10-27 00:00:00",
          "2023-09-07 00:00:00",
          "2023-09-06 00:00:00",
          "2023-07-18 00:00:00",
          "2023-07-18 00:00:00",
          "2023-07-18 00:00:00",
          "2023-07-18 00:00:00",
          "2023-07-11 00:00:00",
          "2023-07-06 00:00:00",
          "2023-07-05 00:00:00",
          "2023-05-10 00:00:00",
          "2023-05-09 00:00:00",
          "2023-04-24 00:00:00",
          "2023-03-30 00:00:00",
          "2023-03-20 00:00:00",
          "2023-03-15 00:00:00",
          "2023-03-15 00:00:00",
          "2023-02-27 00:00:00",
          "2023-02-24 00:00:00",
          "2023-02-24 00:00:00",
          "2023-02-10 00:00:00",
          "2022-11-28 00:00:00",
          "2022-11-16 00:00:00",
          "2022-11-08 00:00:00",
          "2022-10-31 00:00:00",
          "2022-10-20 00:00:00",
          "2022-09-21 00:00:00",
          "2022-09-14 00:00:00",
          "2022-08-10 00:00:00",
          "2022-08-04 00:00:00",
          "2022-08-02 00:00:00",
          "2022-07-21 00:00:00",
          "2022-07-21 00:00:00",
          "2022-07-06 00:00:00",
          "2022-06-29 00:00:00",
          "2022-06-22 00:00:00",
          "2022-06-14 00:00:00",
          "2022-05-23 00:00:00",
          "2022-05-10 00:00:00",
          "2022-05-02 00:00:00",
          "2022-04-29 00:00:00",
          "2022-04-13 00:00:00",
          "2022-04-04 00:00:00",
          "2022-03-29 00:00:00",
          "2022-02-10 00:00:00",
          "2022-02-09 00:00:00",
          "2022-02-02 00:00:00",
          "2021-12-23 00:00:00",
          "2021-12-20 00:00:00",
          "2021-12-13 00:00:00",
          "2021-12-08 00:00:00",
          "2021-11-22 00:00:00",
          "2021-11-19 00:00:00",
          "2021-10-15 00:00:00",
          "2021-10-12 00:00:00",
          "2021-10-11 00:00:00",
          "2021-09-10 00:00:00",
          "2021-09-03 00:00:00",
          "2021-07-27 00:00:00",
          "2021-07-27 00:00:00",
          "2021-07-05 00:00:00",
          "2021-06-11 00:00:00",
          "2021-06-10 00:00:00",
          "2021-06-09 00:00:00",
          "2021-05-28 00:00:00",
          "2021-05-26 00:00:00",
          "2021-05-04 00:00:00",
          "2021-05-04 00:00:00",
          "2021-05-04 00:00:00",
          "2021-04-19 00:00:00",
          "2021-03-05 00:00:00",
          "2021-03-01 00:00:00",
          "2021-02-13 00:00:00",
          "2021-01-11 00:00:00",
          "2021-01-05 00:00:00",
          "2021-01-05 00:00:00",
          "2020-11-30 00:00:00",
          "2020-10-22 00:00:00",
          "2020-10-22 00:00:00",
          "2020-10-21 00:00:00",
          "2020-10-20 00:00:00",
          "2020-10-20 00:00:00",
          "2020-06-30 00:00:00",
          "2020-06-17 00:00:00",
          "2020-06-17 00:00:00",
          "2020-05-28 00:00:00",
          "2020-04-29 00:00:00",
          "2020-03-23 00:00:00",
          "2020-02-13 00:00:00",
          "2020-02-09 00:00:00",
          "2020-01-28 00:00:00",
          "2020-01-19 00:00:00",
          "2019-12-19 00:00:00",
          "2019-12-13 00:00:00",
          "2019-12-13 00:00:00",
          "2019-11-11 00:00:00",
          "2019-11-10 00:00:00",
          "2019-10-30 00:00:00",
          "2019-10-23 00:00:00",
          "2019-10-23 00:00:00",
          "2019-09-17 00:00:00",
          "2019-09-17 00:00:00",
          "2019-09-17 00:00:00",
          "2019-07-01 00:00:00",
          "2019-05-29 00:00:00",
          "2019-05-29 00:00:00",
          "2019-04-20 00:00:00",
          "2019-03-26 00:00:00",
          "2019-02-14 00:00:00",
          "2018-11-05 00:00:00",
          "2018-11-05 00:00:00",
          "2018-10-11 00:00:00",
          "2018-09-28 00:00:00",
          "2018-09-28 00:00:00",
          "2018-08-28 00:00:00",
          "2018-07-03 00:00:00",
          "2018-07-03 00:00:00",
          "2018-06-01 00:00:00",
          "2018-05-02 00:00:00",
          "2018-04-08 00:00:00",
          "2018-03-27 00:00:00",
          "2018-02-05 00:00:00",
          "2018-02-05 00:00:00",
          "2017-12-05 00:00:00",
          "2017-12-02 00:00:00",
          "2017-10-18 00:00:00",
          "2017-08-11 00:00:00",
          "2017-07-10 00:00:00",
          "2017-06-12 00:00:00",
          "2017-01-23 00:00:00",
          "2017-01-06 00:00:00",
          "2017-01-01 00:00:00",
          "2017-01-01 00:00:00",
          "2016-11-17 00:00:00",
          "2016-11-05 00:00:00",
          "2016-11-05 00:00:00",
          "2016-10-07 00:00:00",
          "2016-09-26 00:00:00",
          "2016-01-27 00:00:00",
          "2015-12-10 00:00:00",
          "2015-12-08 00:00:00",
          "2015-10-01 00:00:00"
         ],
         "y": [
          null,
          null,
          14443938.10870438,
          507745.11467781896,
          null,
          null,
          null,
          null,
          20061008.916681554,
          2670507.5884378143,
          1197600.2164039998,
          246564.7504361176,
          469647.14368784317,
          null,
          3404522.9307144326,
          null,
          null,
          402519.35287498333,
          null,
          712977.2043112316,
          null,
          64913905.46991352,
          606311.3233512837,
          117074.06737920312,
          1109781.879394357,
          90206.57121091169,
          null,
          7059762.317211286,
          967390.1457108838,
          1372772.8784544917,
          170155.99612416848,
          null,
          null,
          null,
          2183224.28749581,
          1275417.146003859,
          403663.22877608077,
          null,
          null,
          52242.178319386156,
          null,
          null,
          null,
          null,
          null,
          1017570.5731104431,
          null,
          166013.96878643785,
          null,
          null,
          null,
          242393.34098306947,
          null,
          null,
          140908.16401471713,
          null,
          null,
          139477.2488022519,
          null,
          null,
          null,
          4332845.620043084,
          729292.4983836929,
          null,
          null,
          null,
          null,
          null,
          null,
          null,
          null,
          139882.90266028827,
          null,
          null,
          null,
          119133.92446792907,
          34361.58799160572,
          null,
          34146.150611490426,
          null,
          246172.53917466762,
          null,
          null,
          null,
          11788.84835285207,
          null,
          null,
          null,
          null,
          207181.74031374126,
          55939.06988471014,
          3786403.260097495,
          null,
          null,
          98357.20720342454,
          null,
          null,
          null,
          null,
          null,
          null,
          null,
          null,
          null,
          null,
          null,
          636706.3888020006,
          181585.59404630863,
          null,
          133465.66841730307,
          null,
          null,
          null,
          null,
          null,
          null,
          null,
          null,
          null,
          null,
          null,
          null,
          null,
          null,
          null,
          null,
          null,
          23131.748605502788,
          null,
          null,
          null,
          null,
          null,
          18452.17307149224,
          null,
          null,
          null,
          null,
          null,
          982.2698889157452,
          null,
          66.53527876306916,
          11142.75004076942,
          106970.40039138644,
          null,
          null,
          342.13258611111326,
          null
         ]
        },
        {
         "line": {
          "width": 0
         },
         "mode": "lines",
         "showlegend": false,
         "textposition": "top center",
         "type": "scatter",
         "x": [
          "2015-01-01T00:00:00",
          "2015-02-06T00:00:00",
          "2015-03-15T00:00:00",
          "2015-04-21T00:00:00",
          "2015-05-28T00:00:00",
          "2015-07-04T00:00:00",
          "2015-08-10T00:00:00",
          "2015-09-16T00:00:00",
          "2015-10-22T00:00:00",
          "2015-11-28T00:00:00",
          "2016-01-04T00:00:00",
          "2016-02-10T00:00:00",
          "2016-03-18T00:00:00",
          "2016-04-24T00:00:00",
          "2016-05-31T00:00:00",
          "2016-07-07T00:00:00",
          "2016-08-13T00:00:00",
          "2016-09-19T00:00:00",
          "2016-10-26T00:00:00",
          "2016-12-02T00:00:00",
          "2017-01-08T00:00:00",
          "2017-02-14T00:00:00",
          "2017-03-23T00:00:00",
          "2017-04-28T00:00:00",
          "2017-06-04T00:00:00",
          "2017-07-11T00:00:00",
          "2017-08-17T00:00:00",
          "2017-09-23T00:00:00",
          "2017-10-30T00:00:00",
          "2017-12-06T00:00:00",
          "2018-01-12T00:00:00",
          "2018-02-17T00:00:00",
          "2018-03-26T00:00:00",
          "2018-05-02T00:00:00",
          "2018-06-08T00:00:00",
          "2018-07-15T00:00:00",
          "2018-08-21T00:00:00",
          "2018-09-27T00:00:00",
          "2018-11-03T00:00:00",
          "2018-12-09T00:00:00",
          "2019-01-15T00:00:00",
          "2019-02-21T00:00:00",
          "2019-03-30T00:00:00",
          "2019-05-06T00:00:00",
          "2019-06-12T00:00:00",
          "2019-07-19T00:00:00",
          "2019-08-24T00:00:00",
          "2019-09-30T00:00:00",
          "2019-11-06T00:00:00",
          "2019-12-13T00:00:00",
          "2020-01-19T00:00:00",
          "2020-02-25T00:00:00",
          "2020-04-02T00:00:00",
          "2020-05-09T00:00:00",
          "2020-06-15T00:00:00",
          "2020-07-22T00:00:00",
          "2020-08-28T00:00:00",
          "2020-10-04T00:00:00",
          "2020-11-10T00:00:00",
          "2020-12-17T00:00:00",
          "2021-01-23T00:00:00",
          "2021-02-28T00:00:00",
          "2021-04-06T00:00:00",
          "2021-05-13T00:00:00",
          "2021-06-19T00:00:00",
          "2021-07-26T00:00:00",
          "2021-09-01T00:00:00",
          "2021-10-08T00:00:00",
          "2021-11-14T00:00:00",
          "2021-12-20T00:00:00",
          "2022-01-26T00:00:00",
          "2022-03-04T00:00:00",
          "2022-04-10T00:00:00",
          "2022-05-17T00:00:00",
          "2022-06-23T00:00:00",
          "2022-07-30T00:00:00",
          "2022-09-05T00:00:00",
          "2022-10-11T00:00:00",
          "2022-11-17T00:00:00",
          "2022-12-24T00:00:00",
          "2023-01-30T00:00:00",
          "2023-03-08T00:00:00",
          "2023-04-14T00:00:00",
          "2023-05-21T00:00:00",
          "2023-06-26T00:00:00",
          "2023-08-02T00:00:00",
          "2023-09-08T00:00:00",
          "2023-10-15T00:00:00",
          "2023-11-21T00:00:00",
          "2023-12-28T00:00:00",
          "2024-02-03T00:00:00",
          "2024-03-11T00:00:00",
          "2024-04-17T00:00:00",
          "2024-05-24T00:00:00",
          "2024-06-30T00:00:00",
          "2024-08-06T00:00:00",
          "2024-09-12T00:00:00",
          "2024-10-19T00:00:00",
          "2024-11-25T00:00:00",
          "2025-01-01T00:00:00"
         ],
         "y": [
          190.40997562293623,
          212.40379037890403,
          236.92954075595785,
          264.27730097900036,
          294.7701406427613,
          328.76783653503776,
          366.6709945875534,
          408.9256258848977,
          456.0282250967164,
          508.53140452960326,
          567.0501422376154,
          632.2687083138794,
          704.9483396186213,
          785.9357398084567,
          876.1724886090722,
          976.7054518371698,
          1088.6982916986797,
          1213.4441853689646,
          1352.3798687260582,
          1507.1011313269396,
          1679.3798981676327,
          1871.1830433614969,
          2084.693090391648,
          2322.3309628536854,
          2586.780958317308,
          2881.018125704079,
          3208.3382329837596,
          3572.390516431047,
          3977.2134045091507,
          4427.273407741623,
          4927.507359760581,
          5483.368182797438,
          6100.874331904965,
          6786.663044381438,
          7548.047482565555,
          8393.077807124453,
          9330.606152204475,
          10370.355390848397,
          11522.99147690548,
          12800.199026178747,
          14214.759653611036,
          15780.632414339227,
          17513.035505847773,
          19428.528179885492,
          21545.09159274643,
          23882.207102537453,
          26460.930318233975,
          29303.95904137574,
          32435.69314693523,
          35882.284463940174,
          39671.674882598236,
          43833.621281930464,
          48399.70648611509,
          53403.336356930624,
          58879.72432931295,
          64865.86618070338,
          71400.50952563173,
          78524.12432272237,
          86278.88238598942,
          94708.6552722347,
          103859.04071125854,
          113777.42771999926,
          124513.10953319659,
          136117.45146526082,
          148644.11792805002,
          162149.359380146,
          176692.35641702914,
          192335.61501799367,
          209145.4045909862,
          227192.22919879132,
          246551.32231516778,
          267303.15653953905,
          289533.96163054754,
          313336.2466400316,
          338809.3244782166,
          366059.8396045559,
          395202.30151222047,
          426359.6281503678,
          459663.70440432185,
          495255.9612791636,
          533287.9816131031,
          573922.1380780766,
          617332.2690196494,
          663704.3974149518,
          713237.4979569401,
          766144.3170471027,
          822652.2503118105,
          883004.2821733588,
          947459.9919953158,
          1016296.6313935521,
          1089810.2774354096,
          1168317.0666536489,
          1252154.515048373,
          1341682.9295605551,
          1437286.9168391991,
          1539376.99551593,
          1648391.3186166524,
          1764797.513207189,
          1889094.6448548522,
          2021815.3150216297
         ]
        },
        {
         "fill": "tonexty",
         "fillcolor": "rgba(0,100,200,0.2)",
         "line": {
          "width": 0
         },
         "mode": "lines",
         "name": "95% CI of mean",
         "textposition": "top center",
         "type": "scatter",
         "x": [
          "2015-01-01T00:00:00",
          "2015-02-06T00:00:00",
          "2015-03-15T00:00:00",
          "2015-04-21T00:00:00",
          "2015-05-28T00:00:00",
          "2015-07-04T00:00:00",
          "2015-08-10T00:00:00",
          "2015-09-16T00:00:00",
          "2015-10-22T00:00:00",
          "2015-11-28T00:00:00",
          "2016-01-04T00:00:00",
          "2016-02-10T00:00:00",
          "2016-03-18T00:00:00",
          "2016-04-24T00:00:00",
          "2016-05-31T00:00:00",
          "2016-07-07T00:00:00",
          "2016-08-13T00:00:00",
          "2016-09-19T00:00:00",
          "2016-10-26T00:00:00",
          "2016-12-02T00:00:00",
          "2017-01-08T00:00:00",
          "2017-02-14T00:00:00",
          "2017-03-23T00:00:00",
          "2017-04-28T00:00:00",
          "2017-06-04T00:00:00",
          "2017-07-11T00:00:00",
          "2017-08-17T00:00:00",
          "2017-09-23T00:00:00",
          "2017-10-30T00:00:00",
          "2017-12-06T00:00:00",
          "2018-01-12T00:00:00",
          "2018-02-17T00:00:00",
          "2018-03-26T00:00:00",
          "2018-05-02T00:00:00",
          "2018-06-08T00:00:00",
          "2018-07-15T00:00:00",
          "2018-08-21T00:00:00",
          "2018-09-27T00:00:00",
          "2018-11-03T00:00:00",
          "2018-12-09T00:00:00",
          "2019-01-15T00:00:00",
          "2019-02-21T00:00:00",
          "2019-03-30T00:00:00",
          "2019-05-06T00:00:00",
          "2019-06-12T00:00:00",
          "2019-07-19T00:00:00",
          "2019-08-24T00:00:00",
          "2019-09-30T00:00:00",
          "2019-11-06T00:00:00",
          "2019-12-13T00:00:00",
          "2020-01-19T00:00:00",
          "2020-02-25T00:00:00",
          "2020-04-02T00:00:00",
          "2020-05-09T00:00:00",
          "2020-06-15T00:00:00",
          "2020-07-22T00:00:00",
          "2020-08-28T00:00:00",
          "2020-10-04T00:00:00",
          "2020-11-10T00:00:00",
          "2020-12-17T00:00:00",
          "2021-01-23T00:00:00",
          "2021-02-28T00:00:00",
          "2021-04-06T00:00:00",
          "2021-05-13T00:00:00",
          "2021-06-19T00:00:00",
          "2021-07-26T00:00:00",
          "2021-09-01T00:00:00",
          "2021-10-08T00:00:00",
          "2021-11-14T00:00:00",
          "2021-12-20T00:00:00",
          "2022-01-26T00:00:00",
          "2022-03-04T00:00:00",
          "2022-04-10T00:00:00",
          "2022-05-17T00:00:00",
          "2022-06-23T00:00:00",
          "2022-07-30T00:00:00",
          "2022-09-05T00:00:00",
          "2022-10-11T00:00:00",
          "2022-11-17T00:00:00",
          "2022-12-24T00:00:00",
          "2023-01-30T00:00:00",
          "2023-03-08T00:00:00",
          "2023-04-14T00:00:00",
          "2023-05-21T00:00:00",
          "2023-06-26T00:00:00",
          "2023-08-02T00:00:00",
          "2023-09-08T00:00:00",
          "2023-10-15T00:00:00",
          "2023-11-21T00:00:00",
          "2023-12-28T00:00:00",
          "2024-02-03T00:00:00",
          "2024-03-11T00:00:00",
          "2024-04-17T00:00:00",
          "2024-05-24T00:00:00",
          "2024-06-30T00:00:00",
          "2024-08-06T00:00:00",
          "2024-09-12T00:00:00",
          "2024-10-19T00:00:00",
          "2024-11-25T00:00:00",
          "2025-01-01T00:00:00"
         ],
         "y": [
          4283.266511280427,
          4573.801437012596,
          4884.219020006193,
          5215.899975036439,
          5570.32330348704,
          5949.073592867389,
          6353.848898296348,
          6786.4692577787255,
          7248.8858984174185,
          7743.191196760664,
          8271.629463190064,
          8836.608627897516,
          9440.712914549109,
          10086.716597484883,
          10777.59894925619,
          11516.56049782121,
          12307.04072688558,
          13152.737369103184,
          14057.627460284377,
          15025.99034394083,
          16062.43283968333,
          17171.916816857225,
          18359.7894467751,
          19631.816443732918,
          20994.21864763204,
          22453.712350043086,
          24017.553822539794,
          25693.588571844448,
          27490.305922827294,
          29416.899618826028,
          31483.3352316907,
          33700.42529316596,
          36079.91319788088,
          38634.56708887717,
          41378.285122877496,
          44326.2137280405,
          47494.88071609585,
          50902.345397319994,
          54568.368176212905,
          58514.60248153546,
          62764.812312009184,
          67345.11916090312,
          72284.28262208561,
          77614.01957754882,
          83369.36751877474,
          89589.09825663848,
          96316.18901494432,
          103598.3586654831,
          111488.67762285,
          120046.26064648847,
          129337.0524583852,
          139434.7166410526,
          150421.63869348005,
          162390.05437034895,
          175443.31450684808,
          189697.29747303794,
          205281.98028739434,
          222343.17939455656,
          241044.47237984385,
          261569.31271556547,
          284123.35129120154,
          308936.98124298814,
          336268.12665663456,
          366405.30114036996,
          399670.9689492903,
          436425.249023753,
          477070.01059534936,
          522053.41747094045,
          571874.9863577522,
          627091.232400208,
          688321.9824498253,
          756257.4436602842,
          831666.1221714107,
          915403.694370585,
          1008422.942004058,
          1111784.8726759567,
          1226671.1594055288,
          1354398.0471610245,
          1496431.8908771328,
          1654406.508516127,
          1830142.5544167755,
          2025669.1426265934,
          2243247.9773501866,
          2485400.2782854615,
          2754936.822784034,
          3054991.464846919,
          3389058.5333322897,
          3761034.5589746116,
          4175264.8323912146,
          4636595.353905446,
          5150430.801363862,
          5722799.215057553,
          6360424.180193576,
          7070805.378178974,
          7862308.479269209,
          8744265.46226214,
          9727086.573127938,
          10822385.275459664,
          12043117.702903831,
          13403738.29944338
         ]
        },
        {
         "line": {
          "color": "rgb(0,100,200)"
         },
         "mode": "lines",
         "name": "Regression mean (growth rate: 2.4x per year)",
         "textposition": "top center",
         "type": "scatter",
         "x": [
          "2015-01-01T00:00:00",
          "2015-02-06T00:00:00",
          "2015-03-15T00:00:00",
          "2015-04-21T00:00:00",
          "2015-05-28T00:00:00",
          "2015-07-04T00:00:00",
          "2015-08-10T00:00:00",
          "2015-09-16T00:00:00",
          "2015-10-22T00:00:00",
          "2015-11-28T00:00:00",
          "2016-01-04T00:00:00",
          "2016-02-10T00:00:00",
          "2016-03-18T00:00:00",
          "2016-04-24T00:00:00",
          "2016-05-31T00:00:00",
          "2016-07-07T00:00:00",
          "2016-08-13T00:00:00",
          "2016-09-19T00:00:00",
          "2016-10-26T00:00:00",
          "2016-12-02T00:00:00",
          "2017-01-08T00:00:00",
          "2017-02-14T00:00:00",
          "2017-03-23T00:00:00",
          "2017-04-28T00:00:00",
          "2017-06-04T00:00:00",
          "2017-07-11T00:00:00",
          "2017-08-17T00:00:00",
          "2017-09-23T00:00:00",
          "2017-10-30T00:00:00",
          "2017-12-06T00:00:00",
          "2018-01-12T00:00:00",
          "2018-02-17T00:00:00",
          "2018-03-26T00:00:00",
          "2018-05-02T00:00:00",
          "2018-06-08T00:00:00",
          "2018-07-15T00:00:00",
          "2018-08-21T00:00:00",
          "2018-09-27T00:00:00",
          "2018-11-03T00:00:00",
          "2018-12-09T00:00:00",
          "2019-01-15T00:00:00",
          "2019-02-21T00:00:00",
          "2019-03-30T00:00:00",
          "2019-05-06T00:00:00",
          "2019-06-12T00:00:00",
          "2019-07-19T00:00:00",
          "2019-08-24T00:00:00",
          "2019-09-30T00:00:00",
          "2019-11-06T00:00:00",
          "2019-12-13T00:00:00",
          "2020-01-19T00:00:00",
          "2020-02-25T00:00:00",
          "2020-04-02T00:00:00",
          "2020-05-09T00:00:00",
          "2020-06-15T00:00:00",
          "2020-07-22T00:00:00",
          "2020-08-28T00:00:00",
          "2020-10-04T00:00:00",
          "2020-11-10T00:00:00",
          "2020-12-17T00:00:00",
          "2021-01-23T00:00:00",
          "2021-02-28T00:00:00",
          "2021-04-06T00:00:00",
          "2021-05-13T00:00:00",
          "2021-06-19T00:00:00",
          "2021-07-26T00:00:00",
          "2021-09-01T00:00:00",
          "2021-10-08T00:00:00",
          "2021-11-14T00:00:00",
          "2021-12-20T00:00:00",
          "2022-01-26T00:00:00",
          "2022-03-04T00:00:00",
          "2022-04-10T00:00:00",
          "2022-05-17T00:00:00",
          "2022-06-23T00:00:00",
          "2022-07-30T00:00:00",
          "2022-09-05T00:00:00",
          "2022-10-11T00:00:00",
          "2022-11-17T00:00:00",
          "2022-12-24T00:00:00",
          "2023-01-30T00:00:00",
          "2023-03-08T00:00:00",
          "2023-04-14T00:00:00",
          "2023-05-21T00:00:00",
          "2023-06-26T00:00:00",
          "2023-08-02T00:00:00",
          "2023-09-08T00:00:00",
          "2023-10-15T00:00:00",
          "2023-11-21T00:00:00",
          "2023-12-28T00:00:00",
          "2024-02-03T00:00:00",
          "2024-03-11T00:00:00",
          "2024-04-17T00:00:00",
          "2024-05-24T00:00:00",
          "2024-06-30T00:00:00",
          "2024-08-06T00:00:00",
          "2024-09-12T00:00:00",
          "2024-10-19T00:00:00",
          "2024-11-25T00:00:00",
          "2025-01-01T00:00:00"
         ],
         "y": [
          903.0928368664238,
          985.6433237545687,
          1075.7396382775814,
          1174.0715342682768,
          1281.3918150177662,
          1398.5220965414653,
          1526.3590976560372,
          1665.8815050254273,
          1818.1574657283984,
          1984.3527647144697,
          2165.739749748057,
          2363.7070721720247,
          2579.7703180569133,
          2815.583611133317,
          3072.9522763297687,
          3353.8466608708522,
          3660.4172187370104,
          3995.010973980341,
          4360.189488925822,
          4758.748474826222,
          5193.739195091703,
          5668.49182496697,
          6186.640946486029,
          6752.153373875706,
          7369.3585224526,
          8042.981553492439,
          8778.179548835828,
          9580.580992149606,
          10456.328859132449,
          11412.127646527319,
          12455.294700004713,
          13593.816233835456,
          14836.408471267925,
          16192.584373649504,
          17672.726469184523,
          19288.16633883771,
          21051.271367967827,
          22975.53942778982,
          25075.70221156611,
          27367.83801657315,
          29869.49483535363,
          32599.824698579065,
          35579.730297956456,
          38832.02501179396,
          42381.60755824797,
          46255.65261343328,
          50483.818853592034,
          55098.47601419726,
          60134.95270416654,
          65631.80687250357,
          71631.120997808,
          78178.82426077529,
          85325.0441659709,
          93124.49030496756,
          101636.87319857969,
          110927.36142506573,
          121067.08053368861,
          132133.65756342147,
          144211.81533512924,
          157394.02106742762,
          171781.19428148156,
          187483.47941461098,
          204621.0890571164,
          223325.22426852857,
          243739.07901876615,
          266018.93644348375,
          290335.3653070692,
          316874.52583241643,
          345839.59489517217,
          377452.32149242447,
          411954.7243952934,
          449610.94498123217,
          490709.26943171094,
          535564.3357753555,
          584519.5426747772,
          637949.6783967622,
          696263.7900937609,
          759908.3153612406,
          829370.5000476848,
          905182.1284811468,
          987923.5946717595,
          1078228.3456555197,
          1176787.7309996607,
          1284356.295594959,
          1401757.5562528374,
          1529890.3063356767,
          1669735.4966833077,
          1822363.7455175002,
          1988943.5348133198,
          2170750.1558929114,
          2369175.4727217294,
          2585738.5776570383,
          2822097.421219231,
          3080061.504929357,
          3361605.7343786666,
          3668885.538592177,
          4004253.371426026,
          4370276.721341718,
          4769757.767425124,
          5205754.832140734
         ]
        }
       ],
       "layout": {
        "autosize": false,
        "font": {
         "size": 14
        },
        "height": 600,
        "legend": {
         "orientation": "h",
         "tracegroupgap": 0,
         "x": 0.5,
         "xanchor": "center",
         "y": -0.15,
         "yanchor": "top"
        },
        "margin": {
         "b": 10,
         "l": 10,
         "r": 10,
         "t": 40
        },
        "template": {
         "data": {
          "bar": [
           {
            "error_x": {
             "color": "#2a3f5f"
            },
            "error_y": {
             "color": "#2a3f5f"
            },
            "marker": {
             "line": {
              "color": "#E5ECF6",
              "width": 0.5
             },
             "pattern": {
              "fillmode": "overlay",
              "size": 10,
              "solidity": 0.2
             }
            },
            "type": "bar"
           }
          ],
          "barpolar": [
           {
            "marker": {
             "line": {
              "color": "#E5ECF6",
              "width": 0.5
             },
             "pattern": {
              "fillmode": "overlay",
              "size": 10,
              "solidity": 0.2
             }
            },
            "type": "barpolar"
           }
          ],
          "carpet": [
           {
            "aaxis": {
             "endlinecolor": "#2a3f5f",
             "gridcolor": "white",
             "linecolor": "white",
             "minorgridcolor": "white",
             "startlinecolor": "#2a3f5f"
            },
            "baxis": {
             "endlinecolor": "#2a3f5f",
             "gridcolor": "white",
             "linecolor": "white",
             "minorgridcolor": "white",
             "startlinecolor": "#2a3f5f"
            },
            "type": "carpet"
           }
          ],
          "choropleth": [
           {
            "colorbar": {
             "outlinewidth": 0,
             "ticks": ""
            },
            "type": "choropleth"
           }
          ],
          "contour": [
           {
            "colorbar": {
             "outlinewidth": 0,
             "ticks": ""
            },
            "colorscale": [
             [
              0,
              "#0d0887"
             ],
             [
              0.1111111111111111,
              "#46039f"
             ],
             [
              0.2222222222222222,
              "#7201a8"
             ],
             [
              0.3333333333333333,
              "#9c179e"
             ],
             [
              0.4444444444444444,
              "#bd3786"
             ],
             [
              0.5555555555555556,
              "#d8576b"
             ],
             [
              0.6666666666666666,
              "#ed7953"
             ],
             [
              0.7777777777777778,
              "#fb9f3a"
             ],
             [
              0.8888888888888888,
              "#fdca26"
             ],
             [
              1,
              "#f0f921"
             ]
            ],
            "type": "contour"
           }
          ],
          "contourcarpet": [
           {
            "colorbar": {
             "outlinewidth": 0,
             "ticks": ""
            },
            "type": "contourcarpet"
           }
          ],
          "heatmap": [
           {
            "colorbar": {
             "outlinewidth": 0,
             "ticks": ""
            },
            "colorscale": [
             [
              0,
              "#0d0887"
             ],
             [
              0.1111111111111111,
              "#46039f"
             ],
             [
              0.2222222222222222,
              "#7201a8"
             ],
             [
              0.3333333333333333,
              "#9c179e"
             ],
             [
              0.4444444444444444,
              "#bd3786"
             ],
             [
              0.5555555555555556,
              "#d8576b"
             ],
             [
              0.6666666666666666,
              "#ed7953"
             ],
             [
              0.7777777777777778,
              "#fb9f3a"
             ],
             [
              0.8888888888888888,
              "#fdca26"
             ],
             [
              1,
              "#f0f921"
             ]
            ],
            "type": "heatmap"
           }
          ],
          "heatmapgl": [
           {
            "colorbar": {
             "outlinewidth": 0,
             "ticks": ""
            },
            "colorscale": [
             [
              0,
              "#0d0887"
             ],
             [
              0.1111111111111111,
              "#46039f"
             ],
             [
              0.2222222222222222,
              "#7201a8"
             ],
             [
              0.3333333333333333,
              "#9c179e"
             ],
             [
              0.4444444444444444,
              "#bd3786"
             ],
             [
              0.5555555555555556,
              "#d8576b"
             ],
             [
              0.6666666666666666,
              "#ed7953"
             ],
             [
              0.7777777777777778,
              "#fb9f3a"
             ],
             [
              0.8888888888888888,
              "#fdca26"
             ],
             [
              1,
              "#f0f921"
             ]
            ],
            "type": "heatmapgl"
           }
          ],
          "histogram": [
           {
            "marker": {
             "pattern": {
              "fillmode": "overlay",
              "size": 10,
              "solidity": 0.2
             }
            },
            "type": "histogram"
           }
          ],
          "histogram2d": [
           {
            "colorbar": {
             "outlinewidth": 0,
             "ticks": ""
            },
            "colorscale": [
             [
              0,
              "#0d0887"
             ],
             [
              0.1111111111111111,
              "#46039f"
             ],
             [
              0.2222222222222222,
              "#7201a8"
             ],
             [
              0.3333333333333333,
              "#9c179e"
             ],
             [
              0.4444444444444444,
              "#bd3786"
             ],
             [
              0.5555555555555556,
              "#d8576b"
             ],
             [
              0.6666666666666666,
              "#ed7953"
             ],
             [
              0.7777777777777778,
              "#fb9f3a"
             ],
             [
              0.8888888888888888,
              "#fdca26"
             ],
             [
              1,
              "#f0f921"
             ]
            ],
            "type": "histogram2d"
           }
          ],
          "histogram2dcontour": [
           {
            "colorbar": {
             "outlinewidth": 0,
             "ticks": ""
            },
            "colorscale": [
             [
              0,
              "#0d0887"
             ],
             [
              0.1111111111111111,
              "#46039f"
             ],
             [
              0.2222222222222222,
              "#7201a8"
             ],
             [
              0.3333333333333333,
              "#9c179e"
             ],
             [
              0.4444444444444444,
              "#bd3786"
             ],
             [
              0.5555555555555556,
              "#d8576b"
             ],
             [
              0.6666666666666666,
              "#ed7953"
             ],
             [
              0.7777777777777778,
              "#fb9f3a"
             ],
             [
              0.8888888888888888,
              "#fdca26"
             ],
             [
              1,
              "#f0f921"
             ]
            ],
            "type": "histogram2dcontour"
           }
          ],
          "mesh3d": [
           {
            "colorbar": {
             "outlinewidth": 0,
             "ticks": ""
            },
            "type": "mesh3d"
           }
          ],
          "parcoords": [
           {
            "line": {
             "colorbar": {
              "outlinewidth": 0,
              "ticks": ""
             }
            },
            "type": "parcoords"
           }
          ],
          "pie": [
           {
            "automargin": true,
            "type": "pie"
           }
          ],
          "scatter": [
           {
            "fillpattern": {
             "fillmode": "overlay",
             "size": 10,
             "solidity": 0.2
            },
            "type": "scatter"
           }
          ],
          "scatter3d": [
           {
            "line": {
             "colorbar": {
              "outlinewidth": 0,
              "ticks": ""
             }
            },
            "marker": {
             "colorbar": {
              "outlinewidth": 0,
              "ticks": ""
             }
            },
            "type": "scatter3d"
           }
          ],
          "scattercarpet": [
           {
            "marker": {
             "colorbar": {
              "outlinewidth": 0,
              "ticks": ""
             }
            },
            "type": "scattercarpet"
           }
          ],
          "scattergeo": [
           {
            "marker": {
             "colorbar": {
              "outlinewidth": 0,
              "ticks": ""
             }
            },
            "type": "scattergeo"
           }
          ],
          "scattergl": [
           {
            "marker": {
             "colorbar": {
              "outlinewidth": 0,
              "ticks": ""
             }
            },
            "type": "scattergl"
           }
          ],
          "scattermapbox": [
           {
            "marker": {
             "colorbar": {
              "outlinewidth": 0,
              "ticks": ""
             }
            },
            "type": "scattermapbox"
           }
          ],
          "scatterpolar": [
           {
            "marker": {
             "colorbar": {
              "outlinewidth": 0,
              "ticks": ""
             }
            },
            "type": "scatterpolar"
           }
          ],
          "scatterpolargl": [
           {
            "marker": {
             "colorbar": {
              "outlinewidth": 0,
              "ticks": ""
             }
            },
            "type": "scatterpolargl"
           }
          ],
          "scatterternary": [
           {
            "marker": {
             "colorbar": {
              "outlinewidth": 0,
              "ticks": ""
             }
            },
            "type": "scatterternary"
           }
          ],
          "surface": [
           {
            "colorbar": {
             "outlinewidth": 0,
             "ticks": ""
            },
            "colorscale": [
             [
              0,
              "#0d0887"
             ],
             [
              0.1111111111111111,
              "#46039f"
             ],
             [
              0.2222222222222222,
              "#7201a8"
             ],
             [
              0.3333333333333333,
              "#9c179e"
             ],
             [
              0.4444444444444444,
              "#bd3786"
             ],
             [
              0.5555555555555556,
              "#d8576b"
             ],
             [
              0.6666666666666666,
              "#ed7953"
             ],
             [
              0.7777777777777778,
              "#fb9f3a"
             ],
             [
              0.8888888888888888,
              "#fdca26"
             ],
             [
              1,
              "#f0f921"
             ]
            ],
            "type": "surface"
           }
          ],
          "table": [
           {
            "cells": {
             "fill": {
              "color": "#EBF0F8"
             },
             "line": {
              "color": "white"
             }
            },
            "header": {
             "fill": {
              "color": "#C8D4E3"
             },
             "line": {
              "color": "white"
             }
            },
            "type": "table"
           }
          ]
         },
         "layout": {
          "annotationdefaults": {
           "arrowcolor": "#2a3f5f",
           "arrowhead": 0,
           "arrowwidth": 1
          },
          "autotypenumbers": "strict",
          "coloraxis": {
           "colorbar": {
            "outlinewidth": 0,
            "ticks": ""
           }
          },
          "colorscale": {
           "diverging": [
            [
             0,
             "#8e0152"
            ],
            [
             0.1,
             "#c51b7d"
            ],
            [
             0.2,
             "#de77ae"
            ],
            [
             0.3,
             "#f1b6da"
            ],
            [
             0.4,
             "#fde0ef"
            ],
            [
             0.5,
             "#f7f7f7"
            ],
            [
             0.6,
             "#e6f5d0"
            ],
            [
             0.7,
             "#b8e186"
            ],
            [
             0.8,
             "#7fbc41"
            ],
            [
             0.9,
             "#4d9221"
            ],
            [
             1,
             "#276419"
            ]
           ],
           "sequential": [
            [
             0,
             "#0d0887"
            ],
            [
             0.1111111111111111,
             "#46039f"
            ],
            [
             0.2222222222222222,
             "#7201a8"
            ],
            [
             0.3333333333333333,
             "#9c179e"
            ],
            [
             0.4444444444444444,
             "#bd3786"
            ],
            [
             0.5555555555555556,
             "#d8576b"
            ],
            [
             0.6666666666666666,
             "#ed7953"
            ],
            [
             0.7777777777777778,
             "#fb9f3a"
            ],
            [
             0.8888888888888888,
             "#fdca26"
            ],
            [
             1,
             "#f0f921"
            ]
           ],
           "sequentialminus": [
            [
             0,
             "#0d0887"
            ],
            [
             0.1111111111111111,
             "#46039f"
            ],
            [
             0.2222222222222222,
             "#7201a8"
            ],
            [
             0.3333333333333333,
             "#9c179e"
            ],
            [
             0.4444444444444444,
             "#bd3786"
            ],
            [
             0.5555555555555556,
             "#d8576b"
            ],
            [
             0.6666666666666666,
             "#ed7953"
            ],
            [
             0.7777777777777778,
             "#fb9f3a"
            ],
            [
             0.8888888888888888,
             "#fdca26"
            ],
            [
             1,
             "#f0f921"
            ]
           ]
          },
          "colorway": [
           "#636efa",
           "#EF553B",
           "#00cc96",
           "#ab63fa",
           "#FFA15A",
           "#19d3f3",
           "#FF6692",
           "#B6E880",
           "#FF97FF",
           "#FECB52"
          ],
          "font": {
           "color": "#2a3f5f"
          },
          "geo": {
           "bgcolor": "white",
           "lakecolor": "white",
           "landcolor": "#E5ECF6",
           "showlakes": true,
           "showland": true,
           "subunitcolor": "white"
          },
          "hoverlabel": {
           "align": "left"
          },
          "hovermode": "closest",
          "mapbox": {
           "style": "light"
          },
          "paper_bgcolor": "white",
          "plot_bgcolor": "#E5ECF6",
          "polar": {
           "angularaxis": {
            "gridcolor": "white",
            "linecolor": "white",
            "ticks": ""
           },
           "bgcolor": "#E5ECF6",
           "radialaxis": {
            "gridcolor": "white",
            "linecolor": "white",
            "ticks": ""
           }
          },
          "scene": {
           "xaxis": {
            "backgroundcolor": "#E5ECF6",
            "gridcolor": "white",
            "gridwidth": 2,
            "linecolor": "white",
            "showbackground": true,
            "ticks": "",
            "zerolinecolor": "white"
           },
           "yaxis": {
            "backgroundcolor": "#E5ECF6",
            "gridcolor": "white",
            "gridwidth": 2,
            "linecolor": "white",
            "showbackground": true,
            "ticks": "",
            "zerolinecolor": "white"
           },
           "zaxis": {
            "backgroundcolor": "#E5ECF6",
            "gridcolor": "white",
            "gridwidth": 2,
            "linecolor": "white",
            "showbackground": true,
            "ticks": "",
            "zerolinecolor": "white"
           }
          },
          "shapedefaults": {
           "line": {
            "color": "#2a3f5f"
           }
          },
          "ternary": {
           "aaxis": {
            "gridcolor": "white",
            "linecolor": "white",
            "ticks": ""
           },
           "baxis": {
            "gridcolor": "white",
            "linecolor": "white",
            "ticks": ""
           },
           "bgcolor": "#E5ECF6",
           "caxis": {
            "gridcolor": "white",
            "linecolor": "white",
            "ticks": ""
           }
          },
          "title": {
           "x": 0.05
          },
          "xaxis": {
           "automargin": true,
           "gridcolor": "white",
           "linecolor": "white",
           "ticks": "",
           "title": {
            "standoff": 15
           },
           "zerolinecolor": "white",
           "zerolinewidth": 2
          },
          "yaxis": {
           "automargin": true,
           "gridcolor": "white",
           "linecolor": "white",
           "ticks": "",
           "title": {
            "standoff": 15
           },
           "zerolinecolor": "white",
           "zerolinewidth": 2
          }
         }
        },
        "title": {
         "text": "Hardware CapEx + OpEx to train large ML systems",
         "x": 0.5
        },
        "width": 800,
        "xaxis": {
         "anchor": "y",
         "domain": [
          0,
          1
         ],
         "range": [
          "2015-01-01",
          "2025-01-01"
         ],
         "title": {
          "text": "Publication date"
         }
        },
        "yaxis": {
         "anchor": "x",
         "domain": [
          0,
          1
         ],
         "title": {
          "text": "Cost (2023 USD)"
         },
         "type": "log"
        }
       }
      }
     },
     "metadata": {},
     "output_type": "display_data"
    }
   ],
   "source": [
    "label_systems = ['GNMT', 'Megatron-BERT', 'GPT-3 175B (davinci)', 'PaLM (540B)', 'Llama 2-70B', 'Falcon 180B', 'GPT-4', 'Gemini Ultra']\n",
    "\n",
    "fig = px.scatter(\n",
    "    cost_df.loc[cost_df['System'].isin(label_systems)],\n",
    "    x='Publication date',\n",
    "    y='Cost (inflation-adjusted)',\n",
    "    text='System',\n",
    "    log_y=True,\n",
    ")\n",
    "\n",
    "fig.add_scatter(\n",
    "    x=cost_df['Publication date'],\n",
    "    y=cost_df['Cost (inflation-adjusted)'],\n",
    "    mode='markers',\n",
    "    showlegend=False,\n",
    ")\n",
    "\n",
    "# Marker color\n",
    "fig.update_traces(\n",
    "    marker=dict(\n",
    "        color='rgb(0,100,200)',\n",
    "    ),\n",
    "    selector=dict(mode='markers'),\n",
    ")\n",
    "\n",
    "# Shade in CI\n",
    "fig.add_scatter(\n",
    "    x=predicted_cost_df['Publication date'],\n",
    "    y=10**predicted_cost_df['mean_ci_lower'],\n",
    "    mode='lines',\n",
    "    line=dict(width=0),\n",
    "    showlegend=False,\n",
    ")\n",
    "fig.add_scatter(\n",
    "    x=predicted_cost_df['Publication date'],\n",
    "    y=10**predicted_cost_df['mean_ci_upper'],\n",
    "    mode='lines',\n",
    "    fill='tonexty',\n",
    "    fillcolor='rgba(0,100,200,0.2)',\n",
    "    line=dict(width=0),\n",
    "    name='95% CI of mean',\n",
    ")\n",
    "fig.add_scatter(\n",
    "    x=predicted_cost_df['Publication date'],\n",
    "    y=10**predicted_cost_df['mean'],\n",
    "    mode='lines',\n",
    "    line=dict(color='rgb(0,100,200)'),\n",
    "    name=f'Regression mean (growth rate: {10**reg_results.params[1]:.1f}x per year)',\n",
    ")\n",
    "\n",
    "fig.update_traces(textposition='top center')\n",
    "\n",
    "# legend on top\n",
    "fig.update_layout(legend=dict(\n",
    "    orientation='h',\n",
    "    yanchor='top',\n",
    "    y=-0.15,\n",
    "    xanchor='center',\n",
    "    x=0.5,\n",
    "))\n",
    "\n",
    "# axis labels\n",
    "fig.update_xaxes(title_text='Publication date')\n",
    "fig.update_yaxes(title_text='Cost (2023 USD)')\n",
    "\n",
    "# title\n",
    "fig.update_layout(title_text=plot_title_lookup[estimation_method])\n",
    "\n",
    "# update size\n",
    "fig.update_layout(\n",
    "    autosize=False,\n",
    "    width=800,\n",
    "    height=600,\n",
    "    title_x=0.5,\n",
    ")\n",
    "\n",
    "# font size\n",
    "fig.update_layout(\n",
    "    font=dict(\n",
    "        size=14,\n",
    "    )\n",
    ")\n",
    "\n",
    "# axis limits\n",
    "fig.update_xaxes(range=[pred_start_date, pred_end_date])\n",
    "\n",
    "# margins\n",
    "fig.update_layout(margin=dict(l=10, r=10, t=40, b=10))\n",
    "\n",
    "save_plot(fig, results_dir, 'cost_regression')\n",
    "\n",
    "fig.show()"
   ]
  },
  {
   "cell_type": "markdown",
   "metadata": {},
   "source": [
    "# Export data"
   ]
  },
  {
   "cell_type": "code",
   "execution_count": 25,
   "metadata": {
    "ExecuteTime": {
     "end_time": "2024-03-08T01:55:05.122800400Z",
     "start_time": "2024-03-08T01:55:04.849972900Z"
    }
   },
   "outputs": [
    {
     "data": {
      "text/html": [
       "<div>\n",
       "<style scoped>\n",
       "    .dataframe tbody tr th:only-of-type {\n",
       "        vertical-align: middle;\n",
       "    }\n",
       "\n",
       "    .dataframe tbody tr th {\n",
       "        vertical-align: top;\n",
       "    }\n",
       "\n",
       "    .dataframe thead th {\n",
       "        text-align: right;\n",
       "    }\n",
       "</style>\n",
       "<table border=\"1\" class=\"dataframe\">\n",
       "  <thead>\n",
       "    <tr style=\"text-align: right;\">\n",
       "      <th></th>\n",
       "      <th>System</th>\n",
       "      <th>Domain</th>\n",
       "      <th>Task</th>\n",
       "      <th>Model accessibility</th>\n",
       "      <th>Reference</th>\n",
       "      <th>Publication date</th>\n",
       "      <th>Organization</th>\n",
       "      <th>Parameters</th>\n",
       "      <th>Training compute (FLOP)</th>\n",
       "      <th>Training dataset size (datapoints)</th>\n",
       "      <th>...</th>\n",
       "      <th>Training hardware</th>\n",
       "      <th>Country (from Organization)</th>\n",
       "      <th>Base model</th>\n",
       "      <th>Finetune compute (FLOP)</th>\n",
       "      <th>Hardware quantity</th>\n",
       "      <th>Hardware utilization</th>\n",
       "      <th>Training cloud compute vendor</th>\n",
       "      <th>Training data center</th>\n",
       "      <th>Cost</th>\n",
       "      <th>Cost (inflation-adjusted)</th>\n",
       "    </tr>\n",
       "  </thead>\n",
       "  <tbody>\n",
       "    <tr>\n",
       "      <th>39</th>\n",
       "      <td>Gemini Ultra</td>\n",
       "      <td>Multimodal</td>\n",
       "      <td>Language modelling,Visual question answering,C...</td>\n",
       "      <td>Hosted access (no API)</td>\n",
       "      <td>Gemini: A Family of Highly Capable Multimodal ...</td>\n",
       "      <td>2023-12-06 00:00:00</td>\n",
       "      <td>Google DeepMind</td>\n",
       "      <td>NaN</td>\n",
       "      <td>5.000000e+25</td>\n",
       "      <td>NaN</td>\n",
       "      <td>...</td>\n",
       "      <td>Google TPU v4</td>\n",
       "      <td>Multinational</td>\n",
       "      <td>NaN</td>\n",
       "      <td>NaN</td>\n",
       "      <td>55000.0</td>\n",
       "      <td>NaN</td>\n",
       "      <td>NaN</td>\n",
       "      <td>NaN</td>\n",
       "      <td>NaN</td>\n",
       "      <td>NaN</td>\n",
       "    </tr>\n",
       "    <tr>\n",
       "      <th>46</th>\n",
       "      <td>Qwen-72B</td>\n",
       "      <td>Language</td>\n",
       "      <td>Chat,Code generation</td>\n",
       "      <td>Permissive license (depr.)</td>\n",
       "      <td>NaN</td>\n",
       "      <td>2023-11-30 00:00:00</td>\n",
       "      <td>Alibaba</td>\n",
       "      <td>7.200000e+10</td>\n",
       "      <td>1.300000e+24</td>\n",
       "      <td>NaN</td>\n",
       "      <td>...</td>\n",
       "      <td>NaN</td>\n",
       "      <td>China</td>\n",
       "      <td>NaN</td>\n",
       "      <td>NaN</td>\n",
       "      <td>NaN</td>\n",
       "      <td>NaN</td>\n",
       "      <td>NaN</td>\n",
       "      <td>NaN</td>\n",
       "      <td>NaN</td>\n",
       "      <td>NaN</td>\n",
       "    </tr>\n",
       "    <tr>\n",
       "      <th>54</th>\n",
       "      <td>Inflection-2</td>\n",
       "      <td>Language</td>\n",
       "      <td>Language modelling</td>\n",
       "      <td>API access</td>\n",
       "      <td>Inflection-2: The Next Step Up</td>\n",
       "      <td>2023-11-22 00:00:00</td>\n",
       "      <td>Inflection AI</td>\n",
       "      <td>NaN</td>\n",
       "      <td>1.001000e+25</td>\n",
       "      <td>NaN</td>\n",
       "      <td>...</td>\n",
       "      <td>NVIDIA H100 SXM5</td>\n",
       "      <td>United States of America</td>\n",
       "      <td>NaN</td>\n",
       "      <td>NaN</td>\n",
       "      <td>5000.0</td>\n",
       "      <td>NaN</td>\n",
       "      <td>NaN</td>\n",
       "      <td>NaN</td>\n",
       "      <td>1.441020e+07</td>\n",
       "      <td>1.444394e+07</td>\n",
       "    </tr>\n",
       "    <tr>\n",
       "      <th>59</th>\n",
       "      <td>Nemotron-3-8B</td>\n",
       "      <td>Language</td>\n",
       "      <td>Chat,Language generation</td>\n",
       "      <td>Permissive license (depr.)</td>\n",
       "      <td>NVIDIA AI Foundation Models: Build Custom Ente...</td>\n",
       "      <td>2023-11-15 00:00:00</td>\n",
       "      <td>NVIDIA</td>\n",
       "      <td>8.000000e+09</td>\n",
       "      <td>1.800000e+23</td>\n",
       "      <td>NaN</td>\n",
       "      <td>...</td>\n",
       "      <td>NVIDIA A100</td>\n",
       "      <td>United States of America</td>\n",
       "      <td>NaN</td>\n",
       "      <td>NaN</td>\n",
       "      <td>1024.0</td>\n",
       "      <td>0.34</td>\n",
       "      <td>NaN</td>\n",
       "      <td>NaN</td>\n",
       "      <td>5.065593e+05</td>\n",
       "      <td>5.077451e+05</td>\n",
       "    </tr>\n",
       "    <tr>\n",
       "      <th>83</th>\n",
       "      <td>Yi-34B</td>\n",
       "      <td>Language</td>\n",
       "      <td>Chat</td>\n",
       "      <td>Permissive license (depr.)</td>\n",
       "      <td>NaN</td>\n",
       "      <td>2023-11-02 00:00:00</td>\n",
       "      <td>01.AI</td>\n",
       "      <td>3.400000e+10</td>\n",
       "      <td>6.100000e+23</td>\n",
       "      <td>NaN</td>\n",
       "      <td>...</td>\n",
       "      <td>NaN</td>\n",
       "      <td>China</td>\n",
       "      <td>NaN</td>\n",
       "      <td>NaN</td>\n",
       "      <td>NaN</td>\n",
       "      <td>NaN</td>\n",
       "      <td>NaN</td>\n",
       "      <td>NaN</td>\n",
       "      <td>NaN</td>\n",
       "      <td>NaN</td>\n",
       "    </tr>\n",
       "    <tr>\n",
       "      <th>...</th>\n",
       "      <td>...</td>\n",
       "      <td>...</td>\n",
       "      <td>...</td>\n",
       "      <td>...</td>\n",
       "      <td>...</td>\n",
       "      <td>...</td>\n",
       "      <td>...</td>\n",
       "      <td>...</td>\n",
       "      <td>...</td>\n",
       "      <td>...</td>\n",
       "      <td>...</td>\n",
       "      <td>...</td>\n",
       "      <td>...</td>\n",
       "      <td>...</td>\n",
       "      <td>...</td>\n",
       "      <td>...</td>\n",
       "      <td>...</td>\n",
       "      <td>...</td>\n",
       "      <td>...</td>\n",
       "      <td>...</td>\n",
       "      <td>...</td>\n",
       "    </tr>\n",
       "    <tr>\n",
       "      <th>1095</th>\n",
       "      <td>GNMT</td>\n",
       "      <td>Language</td>\n",
       "      <td>Translation</td>\n",
       "      <td>NaN</td>\n",
       "      <td>Google's Neural Machine Translation System: Br...</td>\n",
       "      <td>2016-09-26 00:00:00</td>\n",
       "      <td>Google</td>\n",
       "      <td>2.780000e+08</td>\n",
       "      <td>6.900000e+21</td>\n",
       "      <td>360000000.0</td>\n",
       "      <td>...</td>\n",
       "      <td>NVIDIA Tesla K80</td>\n",
       "      <td>United States of America</td>\n",
       "      <td>NaN</td>\n",
       "      <td>NaN</td>\n",
       "      <td>96.0</td>\n",
       "      <td>NaN</td>\n",
       "      <td>NaN</td>\n",
       "      <td>NaN</td>\n",
       "      <td>9.795660e+04</td>\n",
       "      <td>1.069704e+05</td>\n",
       "    </tr>\n",
       "    <tr>\n",
       "      <th>1131</th>\n",
       "      <td>AlphaGo Lee</td>\n",
       "      <td>Games</td>\n",
       "      <td>Go</td>\n",
       "      <td>NaN</td>\n",
       "      <td>Mastering the game of Go with deep neural netw...</td>\n",
       "      <td>2016-01-27 00:00:00</td>\n",
       "      <td>DeepMind</td>\n",
       "      <td>NaN</td>\n",
       "      <td>1.900000e+21</td>\n",
       "      <td>29400000.0</td>\n",
       "      <td>...</td>\n",
       "      <td>NaN</td>\n",
       "      <td>United Kingdom of Great Britain and Northern I...</td>\n",
       "      <td>NaN</td>\n",
       "      <td>NaN</td>\n",
       "      <td>NaN</td>\n",
       "      <td>NaN</td>\n",
       "      <td>NaN</td>\n",
       "      <td>NaN</td>\n",
       "      <td>NaN</td>\n",
       "      <td>NaN</td>\n",
       "    </tr>\n",
       "    <tr>\n",
       "      <th>1135</th>\n",
       "      <td>ResNet-152 (ImageNet)</td>\n",
       "      <td>Vision</td>\n",
       "      <td>Image classification</td>\n",
       "      <td>NaN</td>\n",
       "      <td>Deep Residual Learning for Image Recognition</td>\n",
       "      <td>2015-12-10 00:00:00</td>\n",
       "      <td>Microsoft</td>\n",
       "      <td>6.000000e+07</td>\n",
       "      <td>1.210000e+19</td>\n",
       "      <td>1280000.0</td>\n",
       "      <td>...</td>\n",
       "      <td>NaN</td>\n",
       "      <td>United States of America</td>\n",
       "      <td>NaN</td>\n",
       "      <td>NaN</td>\n",
       "      <td>NaN</td>\n",
       "      <td>NaN</td>\n",
       "      <td>NaN</td>\n",
       "      <td>NaN</td>\n",
       "      <td>NaN</td>\n",
       "      <td>NaN</td>\n",
       "    </tr>\n",
       "    <tr>\n",
       "      <th>1137</th>\n",
       "      <td>DeepSpeech2 (English)</td>\n",
       "      <td>Speech</td>\n",
       "      <td>Speech recognition</td>\n",
       "      <td>NaN</td>\n",
       "      <td>Deep Speech 2: End-to-End Speech Recognition i...</td>\n",
       "      <td>2015-12-08 00:00:00</td>\n",
       "      <td>Baidu Research - Silicon Valley AI Lab</td>\n",
       "      <td>3.800000e+07</td>\n",
       "      <td>2.600000e+19</td>\n",
       "      <td>163339200.0</td>\n",
       "      <td>...</td>\n",
       "      <td>NVIDIA GTX Titan X</td>\n",
       "      <td>United States of America</td>\n",
       "      <td>NaN</td>\n",
       "      <td>NaN</td>\n",
       "      <td>NaN</td>\n",
       "      <td>0.45</td>\n",
       "      <td>NaN</td>\n",
       "      <td>NaN</td>\n",
       "      <td>3.075543e+02</td>\n",
       "      <td>3.421326e+02</td>\n",
       "    </tr>\n",
       "    <tr>\n",
       "      <th>1141</th>\n",
       "      <td>AlphaGo Fan</td>\n",
       "      <td>Games</td>\n",
       "      <td>Go</td>\n",
       "      <td>NaN</td>\n",
       "      <td>Mastering the game of Go with deep neural netw...</td>\n",
       "      <td>2015-10-01 00:00:00</td>\n",
       "      <td>Google DeepMind</td>\n",
       "      <td>8.209984e+06</td>\n",
       "      <td>3.800000e+20</td>\n",
       "      <td>NaN</td>\n",
       "      <td>...</td>\n",
       "      <td>NaN</td>\n",
       "      <td>Multinational</td>\n",
       "      <td>NaN</td>\n",
       "      <td>NaN</td>\n",
       "      <td>NaN</td>\n",
       "      <td>NaN</td>\n",
       "      <td>NaN</td>\n",
       "      <td>NaN</td>\n",
       "      <td>NaN</td>\n",
       "      <td>NaN</td>\n",
       "    </tr>\n",
       "  </tbody>\n",
       "</table>\n",
       "<p>148 rows × 22 columns</p>\n",
       "</div>"
      ],
      "text/plain": [
       "                     System      Domain  \\\n",
       "39             Gemini Ultra  Multimodal   \n",
       "46                 Qwen-72B    Language   \n",
       "54             Inflection-2    Language   \n",
       "59            Nemotron-3-8B    Language   \n",
       "83                   Yi-34B    Language   \n",
       "...                     ...         ...   \n",
       "1095                   GNMT    Language   \n",
       "1131            AlphaGo Lee       Games   \n",
       "1135  ResNet-152 (ImageNet)      Vision   \n",
       "1137  DeepSpeech2 (English)      Speech   \n",
       "1141            AlphaGo Fan       Games   \n",
       "\n",
       "                                                   Task  \\\n",
       "39    Language modelling,Visual question answering,C...   \n",
       "46                                 Chat,Code generation   \n",
       "54                                   Language modelling   \n",
       "59                             Chat,Language generation   \n",
       "83                                                 Chat   \n",
       "...                                                 ...   \n",
       "1095                                        Translation   \n",
       "1131                                                 Go   \n",
       "1135                               Image classification   \n",
       "1137                                 Speech recognition   \n",
       "1141                                                 Go   \n",
       "\n",
       "             Model accessibility  \\\n",
       "39        Hosted access (no API)   \n",
       "46    Permissive license (depr.)   \n",
       "54                    API access   \n",
       "59    Permissive license (depr.)   \n",
       "83    Permissive license (depr.)   \n",
       "...                          ...   \n",
       "1095                         NaN   \n",
       "1131                         NaN   \n",
       "1135                         NaN   \n",
       "1137                         NaN   \n",
       "1141                         NaN   \n",
       "\n",
       "                                              Reference     Publication date  \\\n",
       "39    Gemini: A Family of Highly Capable Multimodal ...  2023-12-06 00:00:00   \n",
       "46                                                  NaN  2023-11-30 00:00:00   \n",
       "54                       Inflection-2: The Next Step Up  2023-11-22 00:00:00   \n",
       "59    NVIDIA AI Foundation Models: Build Custom Ente...  2023-11-15 00:00:00   \n",
       "83                                                  NaN  2023-11-02 00:00:00   \n",
       "...                                                 ...                  ...   \n",
       "1095  Google's Neural Machine Translation System: Br...  2016-09-26 00:00:00   \n",
       "1131  Mastering the game of Go with deep neural netw...  2016-01-27 00:00:00   \n",
       "1135       Deep Residual Learning for Image Recognition  2015-12-10 00:00:00   \n",
       "1137  Deep Speech 2: End-to-End Speech Recognition i...  2015-12-08 00:00:00   \n",
       "1141  Mastering the game of Go with deep neural netw...  2015-10-01 00:00:00   \n",
       "\n",
       "                                Organization    Parameters  \\\n",
       "39                           Google DeepMind           NaN   \n",
       "46                                   Alibaba  7.200000e+10   \n",
       "54                             Inflection AI           NaN   \n",
       "59                                    NVIDIA  8.000000e+09   \n",
       "83                                     01.AI  3.400000e+10   \n",
       "...                                      ...           ...   \n",
       "1095                                  Google  2.780000e+08   \n",
       "1131                                DeepMind           NaN   \n",
       "1135                               Microsoft  6.000000e+07   \n",
       "1137  Baidu Research - Silicon Valley AI Lab  3.800000e+07   \n",
       "1141                         Google DeepMind  8.209984e+06   \n",
       "\n",
       "      Training compute (FLOP)  Training dataset size (datapoints)  ...  \\\n",
       "39               5.000000e+25                                 NaN  ...   \n",
       "46               1.300000e+24                                 NaN  ...   \n",
       "54               1.001000e+25                                 NaN  ...   \n",
       "59               1.800000e+23                                 NaN  ...   \n",
       "83               6.100000e+23                                 NaN  ...   \n",
       "...                       ...                                 ...  ...   \n",
       "1095             6.900000e+21                         360000000.0  ...   \n",
       "1131             1.900000e+21                          29400000.0  ...   \n",
       "1135             1.210000e+19                           1280000.0  ...   \n",
       "1137             2.600000e+19                         163339200.0  ...   \n",
       "1141             3.800000e+20                                 NaN  ...   \n",
       "\n",
       "       Training hardware                        Country (from Organization)  \\\n",
       "39         Google TPU v4                                      Multinational   \n",
       "46                   NaN                                              China   \n",
       "54      NVIDIA H100 SXM5                           United States of America   \n",
       "59           NVIDIA A100                           United States of America   \n",
       "83                   NaN                                              China   \n",
       "...                  ...                                                ...   \n",
       "1095    NVIDIA Tesla K80                           United States of America   \n",
       "1131                 NaN  United Kingdom of Great Britain and Northern I...   \n",
       "1135                 NaN                           United States of America   \n",
       "1137  NVIDIA GTX Titan X                           United States of America   \n",
       "1141                 NaN                                      Multinational   \n",
       "\n",
       "     Base model Finetune compute (FLOP) Hardware quantity  \\\n",
       "39          NaN                     NaN           55000.0   \n",
       "46          NaN                     NaN               NaN   \n",
       "54          NaN                     NaN            5000.0   \n",
       "59          NaN                     NaN            1024.0   \n",
       "83          NaN                     NaN               NaN   \n",
       "...         ...                     ...               ...   \n",
       "1095        NaN                     NaN              96.0   \n",
       "1131        NaN                     NaN               NaN   \n",
       "1135        NaN                     NaN               NaN   \n",
       "1137        NaN                     NaN               NaN   \n",
       "1141        NaN                     NaN               NaN   \n",
       "\n",
       "     Hardware utilization  Training cloud compute vendor  \\\n",
       "39                    NaN                            NaN   \n",
       "46                    NaN                            NaN   \n",
       "54                    NaN                            NaN   \n",
       "59                   0.34                            NaN   \n",
       "83                    NaN                            NaN   \n",
       "...                   ...                            ...   \n",
       "1095                  NaN                            NaN   \n",
       "1131                  NaN                            NaN   \n",
       "1135                  NaN                            NaN   \n",
       "1137                 0.45                            NaN   \n",
       "1141                  NaN                            NaN   \n",
       "\n",
       "      Training data center          Cost Cost (inflation-adjusted)  \n",
       "39                     NaN           NaN                       NaN  \n",
       "46                     NaN           NaN                       NaN  \n",
       "54                     NaN  1.441020e+07              1.444394e+07  \n",
       "59                     NaN  5.065593e+05              5.077451e+05  \n",
       "83                     NaN           NaN                       NaN  \n",
       "...                    ...           ...                       ...  \n",
       "1095                   NaN  9.795660e+04              1.069704e+05  \n",
       "1131                   NaN           NaN                       NaN  \n",
       "1135                   NaN           NaN                       NaN  \n",
       "1137                   NaN  3.075543e+02              3.421326e+02  \n",
       "1141                   NaN           NaN                       NaN  \n",
       "\n",
       "[148 rows x 22 columns]"
      ]
     },
     "execution_count": 25,
     "metadata": {},
     "output_type": "execute_result"
    }
   ],
   "source": [
    "keep_cols = [\n",
    "    'System',\n",
    "    'Domain',\n",
    "    'Task',\n",
    "    'Model accessibility',\n",
    "    'Reference',\n",
    "    'Publication date',\n",
    "    'Organization',\n",
    "    'Parameters',\n",
    "    'Training compute (FLOP)',\n",
    "    'Training dataset size (datapoints)',\n",
    "    'Epochs',\n",
    "    'Training time (hours)',\n",
    "    'Training hardware',\n",
    "    'Country (from Organization)',\n",
    "    'Base model',\n",
    "    'Finetune compute (FLOP)',\n",
    "    'Hardware quantity',\n",
    "    'Hardware utilization',\n",
    "    'Training cloud compute vendor',\n",
    "    'Training data center',\n",
    "    # 'Training time (chip hours)',\n",
    "    'Cost',\n",
    "    'Cost (inflation-adjusted)',\n",
    "]\n",
    "cost_df[keep_cols]"
   ]
  },
  {
   "cell_type": "code",
   "execution_count": 26,
   "metadata": {
    "ExecuteTime": {
     "end_time": "2024-03-08T01:55:05.694336500Z",
     "start_time": "2024-03-08T01:55:05.094432200Z"
    }
   },
   "outputs": [],
   "source": [
    "cost_df[keep_cols].to_csv(results_dir + 'price dataset.csv', index=False)"
   ]
  },
  {
   "cell_type": "code",
   "execution_count": null,
   "metadata": {},
   "outputs": [],
   "source": []
  }
 ],
 "metadata": {
  "colab": {
   "provenance": []
  },
  "kernelspec": {
   "display_name": "Python 3 (ipykernel)",
   "language": "python",
   "name": "python3"
  },
  "language_info": {
   "codemirror_mode": {
    "name": "ipython",
    "version": 3
   },
   "file_extension": ".py",
   "mimetype": "text/x-python",
   "name": "python",
   "nbconvert_exporter": "python",
   "pygments_lexer": "ipython3",
   "version": "3.11.4"
  }
 },
 "nbformat": 4,
 "nbformat_minor": 1
}
