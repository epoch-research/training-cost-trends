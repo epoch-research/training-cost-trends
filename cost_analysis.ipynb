{
 "cells": [
  {
   "cell_type": "markdown",
   "metadata": {},
   "source": [
    "# Setup"
   ]
  },
  {
   "cell_type": "code",
   "execution_count": 1,
   "metadata": {
    "ExecuteTime": {
     "end_time": "2024-03-08T01:54:49.691298800Z",
     "start_time": "2024-03-08T01:54:49.634206900Z"
    }
   },
   "outputs": [],
   "source": [
    "%load_ext autoreload\n",
    "%autoreload 2"
   ]
  },
  {
   "cell_type": "code",
   "execution_count": 2,
   "metadata": {
    "ExecuteTime": {
     "end_time": "2024-03-08T01:54:56.468786200Z",
     "start_time": "2024-03-08T01:54:49.695864500Z"
    },
    "id": "qltoZ7TbdkHZ"
   },
   "outputs": [],
   "source": [
    "import numpy as np\n",
    "import os\n",
    "import pandas as pd\n",
    "import plotly.express as px\n",
    "\n",
    "from cost import *\n",
    "from plotting import *\n",
    "from prices import *\n",
    "from imputation import *\n",
    "from inflation import *\n",
    "from regression import *\n",
    "from utils import *"
   ]
  },
  {
   "cell_type": "code",
   "execution_count": 3,
   "metadata": {
    "ExecuteTime": {
     "end_time": "2024-03-08T01:54:56.578403700Z",
     "start_time": "2024-03-08T01:54:56.468786200Z"
    }
   },
   "outputs": [],
   "source": [
    "estimation_method = 'hardware-capex-opex'\n",
    "compute_percentile_threshold = 75  # select systems >= this percentile of training compute\n",
    "variant = 'linearly-adjust-to-release-price-and-tpu-versions-distinguished'\n",
    "\n",
    "estimation_method_lookup = {\n",
    "    'cloud': estimate_costs,\n",
    "    'amortized': estimate_amortized_hardware_costs,\n",
    "    'up-front-server-capex': estimate_upfront_server_capex,\n",
    "    'hardware-capex-opex': estimate_hardware_capex_opex,\n",
    "}\n",
    "cost_estimation_function = estimation_method_lookup[estimation_method]\n",
    "\n",
    "results_dir = f'results/{estimation_method}-{compute_percentile_threshold}th-{variant}/'\n",
    "os.makedirs(results_dir, exist_ok=True)"
   ]
  },
  {
   "cell_type": "markdown",
   "metadata": {},
   "source": [
    "# Load data"
   ]
  },
  {
   "cell_type": "code",
   "execution_count": 4,
   "metadata": {
    "ExecuteTime": {
     "end_time": "2024-03-08T01:54:57.129865300Z",
     "start_time": "2024-03-08T01:54:56.872275900Z"
    }
   },
   "outputs": [],
   "source": [
    "frontier_pcd_df, hardware_df, price_df = load_data_for_cost_estimation(\n",
    "    compute_percentile_threshold=compute_percentile_threshold\n",
    ")"
   ]
  },
  {
   "cell_type": "code",
   "execution_count": 5,
   "metadata": {
    "ExecuteTime": {
     "end_time": "2024-03-08T01:54:57.278230500Z",
     "start_time": "2024-03-08T01:54:57.129865300Z"
    }
   },
   "outputs": [
    {
     "data": {
      "text/plain": [
       "(76, 5510, 142)"
      ]
     },
     "execution_count": 5,
     "metadata": {},
     "output_type": "execute_result"
    }
   ],
   "source": [
    "len(frontier_pcd_df), len(hardware_df), len(price_df)"
   ]
  },
  {
   "cell_type": "markdown",
   "metadata": {},
   "source": [
    "# Cost estimation"
   ]
  },
  {
   "cell_type": "code",
   "execution_count": 11,
   "metadata": {
    "ExecuteTime": {
     "end_time": "2024-03-08T01:54:57.807954200Z",
     "start_time": "2024-03-08T01:54:57.278230500Z"
    }
   },
   "outputs": [
    {
     "name": "stdout",
     "output_type": "stream",
     "text": [
      "==== System: Gemini Ultra ====\n",
      "Estimated the server release price for Google TPU v4: 19390.4\n",
      "\n",
      "==== System: Qwen-72B ====\n",
      "Could not find hardware model for Qwen-72B\n",
      "\n",
      "\n",
      "==== System: Inflection-2 ====\n",
      "No training time found, assuming 32.083333333333336\n",
      "\n",
      "Estimated the server release price for NVIDIA H100 SXM5: 44238.96465099587\n",
      "\n",
      "==== System: Yi-34B ====\n",
      "Could not find hardware model for Yi-34B\n",
      "\n",
      "\n",
      "==== System: ChatGLM3 ====\n",
      "Could not find hardware model for ChatGLM3\n",
      "\n",
      "\n",
      "==== System: Falcon 180B ====\n",
      "Estimated the server release price for NVIDIA A100 SXM4 40 GB: 33819.444444444445\n",
      "\n",
      "==== System: Llama 2-70B ====\n",
      "Estimated the server release price for NVIDIA A100 SXM4 80 GB: 29581.35305528613\n",
      "\n",
      "==== System: Llama 2-34B ====\n",
      "No training time found, assuming 32.083333333333336\n",
      "\n",
      "Estimated the server release price for NVIDIA A100 SXM4 80 GB: 29581.35305528613\n",
      "\n",
      "==== System: Claude 2 ====\n",
      "Could not find hardware model for Claude 2\n",
      "\n",
      "\n",
      "==== System: xTrimoPGLM -100B ====\n",
      "Estimated the server release price for NVIDIA A100 SXM4 40 GB: 33819.444444444445\n",
      "\n",
      "==== System: PaLM 2 ====\n",
      "No training time found, assuming 32.083333333333336\n",
      "\n",
      "Estimated the server release price for Google TPU v4: 19390.4\n",
      "\n",
      "==== System: PanGu-Σ ====\n",
      "Could not find hardware model after soft matching: Huawei Ascend 910\n",
      "\n",
      "==== System: GPT-4 ====\n",
      "Estimated the server release price for NVIDIA A100 SXM4 40 GB: 33819.444444444445\n",
      "\n",
      "==== System: LLaMA-65B ====\n",
      "Soft matching NVIDIA A100 to NVIDIA A100\n",
      "Soft matching NVIDIA A100 to NVIDIA A100 PCIe\n",
      "Estimated the server release price for NVIDIA A100: 36987.3417721519\n",
      "\n",
      "==== System: ViT-22B ====\n",
      "No training time found, assuming 32.083333333333336\n",
      "\n",
      "Estimated the server release price for Google TPU v4: 19390.4\n",
      "\n",
      "==== System: GPT-3.5 (text-davinci-003) ====\n",
      "No training time found, assuming 32.083333333333336\n",
      "\n",
      "Estimated the server release price for NVIDIA A100 SXM4 40 GB: 33819.444444444445\n",
      "\n",
      "==== System: Galactica ====\n",
      "No training time found, assuming 32.083333333333336\n",
      "\n",
      "Estimated the server release price for NVIDIA A100 SXM4 80 GB: 29581.35305528613\n",
      "\n",
      "==== System: BLOOM-176B ====\n",
      "Estimated the server release price for NVIDIA A100 SXM4 80 GB: 29581.35305528613\n",
      "\n",
      "==== System: U-PaLM (540B) ====\n",
      "Estimated the server release price for Google TPU v4: 19390.4\n",
      "\n",
      "==== System: BlenderBot 3 ====\n",
      "No training time found, assuming 32.083333333333336\n",
      "\n",
      "Estimated the server release price for NVIDIA A100 SXM4 40 GB: 33819.444444444445\n",
      "\n",
      "==== System: GLM-130B ====\n",
      "Estimated the server release price for NVIDIA A100 SXM4 40 GB: 33819.444444444445\n",
      "\n",
      "==== System: Minerva (540B) ====\n",
      "Estimated the server release price for Google TPU v4: 19390.4\n",
      "\n",
      "==== System: Parti ====\n",
      "No training time found, assuming 32.083333333333336\n",
      "\n",
      "Estimated the server release price for Google TPU v4: 19390.4\n",
      "\n",
      "==== System: UL2 ====\n",
      "Estimated the server release price for Google TPU v4: 19390.4\n",
      "\n",
      "==== System: OPT-175B ====\n",
      "Estimated the server release price for NVIDIA A100 SXM4 80 GB: 29581.35305528613\n",
      "\n",
      "==== System: Flamingo ====\n",
      "Estimated the server release price for Google TPU v4: 19390.4\n",
      "\n",
      "==== System: PaLM (540B) ====\n",
      "Estimated the server release price for Google TPU v4: 19390.4\n",
      "\n",
      "==== System: Chinchilla ====\n",
      "No training time found, assuming 32.083333333333336\n",
      "\n",
      "Could not find price for Google TPU v4,Google TPU v3\n",
      "\n",
      "==== System: LaMDA ====\n",
      "Estimated the server release price for Google TPU v3: 17187.2\n",
      "\n",
      "==== System: GPT-NeoX-20B ====\n",
      "Estimated the server release price for NVIDIA A100 SXM4 40 GB: 25034.931113662456\n",
      "\n",
      "==== System: AlphaCode ====\n",
      "No training time found, assuming 32.083333333333336\n",
      "\n",
      "Could not find price for Google TPU v4,Google TPU v4i\n",
      "\n",
      "==== System: ERNIE 3.0 Titan ====\n",
      "No training time found, assuming 32.083333333333336\n",
      "\n",
      "Could not find hardware model after soft matching: Huawei Ascend 910,NVIDIA Tesla V100 DGXS 32 GB\n",
      "\n",
      "==== System: GLaM ====\n",
      "Estimated the server release price for Google TPU v4: 19390.4\n",
      "\n",
      "==== System: Gopher (280B) ====\n",
      "Estimated the server release price for Google TPU v3: 17187.2\n",
      "\n",
      "==== System: Yuan 1.0 ====\n",
      "Could not find hardware model for Yuan 1.0\n",
      "\n",
      "\n",
      "==== System: Megatron-Turing NLG 530B ====\n",
      "Estimated the server release price for NVIDIA A100 SXM4 80 GB: 44362.348178137654\n",
      "\n",
      "==== System: HyperCLOVA ====\n",
      "Soft matching NVIDIA A100 to NVIDIA A100\n",
      "Soft matching NVIDIA A100 to NVIDIA A100 PCIe\n",
      "Estimated the server release price for NVIDIA A100: 22754.05580791694\n",
      "\n",
      "==== System: GOAT ====\n",
      "No training time found, assuming 32.083333333333336\n",
      "\n",
      "Estimated the server release price for Google TPU v3: 17187.2\n",
      "\n",
      "==== System: ByT5-XXL ====\n",
      "No training time found, assuming 32.083333333333336\n",
      "\n",
      "Estimated the server release price for Google TPU v3: 17187.2\n",
      "\n",
      "==== System: ProtT5-XXL ====\n",
      "No training time found, assuming 32.083333333333336\n",
      "\n",
      "Estimated the server release price for Google TPU v3: 17187.2\n",
      "\n",
      "==== System: Meta Pseudo Labels ====\n",
      "Estimated the server release price for Google TPU v3: 17187.2\n",
      "\n",
      "==== System: Switch ====\n",
      "Estimated the server release price for Google TPU v3: 17187.2\n",
      "\n",
      "==== System: DALL-E ====\n",
      "No training time found, assuming 32.083333333333336\n",
      "\n",
      "Soft matching NVIDIA Tesla V100 DGXS 16 GB to NVIDIA V100\n",
      "Estimated the server release price for NVIDIA Tesla V100 DGXS 16 GB: 14953.906393112291\n",
      "\n",
      "==== System: mT5-XXL ====\n",
      "Could not find hardware model for mT5-XXL\n",
      "\n",
      "\n",
      "==== System: GShard (dense) ====\n",
      "Estimated the server release price for Google TPU v3: 17187.2\n",
      "\n",
      "==== System: iGPT-XL ====\n",
      "No training time found, assuming 32.083333333333336\n",
      "\n",
      "Estimated the server release price for NVIDIA Tesla V100 DGXS 32 GB: 25100.596493949735\n",
      "\n",
      "==== System: GPT-3 175B (davinci) ====\n",
      "Estimated the server release price for NVIDIA Tesla V100 DGXS 32 GB: 25100.596493949735\n",
      "\n",
      "==== System: Turing-NLG ====\n",
      "No training time found, assuming 32.083333333333336\n",
      "\n",
      "Estimated the server release price for NVIDIA Tesla V100 DGXS 32 GB: 25100.596493949735\n",
      "\n",
      "==== System: Meena ====\n",
      "Estimated the server release price for Google TPU v3: 17187.2\n",
      "\n",
      "==== System: ContextNet + Noisy Student ====\n",
      "Estimated the server release price for Google TPU v3: 17187.2\n",
      "\n",
      "==== System: OpenAI Five ====\n",
      "Could not find hardware model for OpenAI Five\n",
      "\n",
      "\n",
      "==== System: OpenAI Five Rerun ====\n",
      "Could not find hardware model for OpenAI Five Rerun\n",
      "\n",
      "\n",
      "==== System: AlphaStar ====\n",
      "Estimated the server release price for Google TPU v3: 17187.2\n",
      "\n",
      "==== System: T5-11B ====\n",
      "Estimated the server release price for Google TPU v3: 17187.2\n",
      "\n",
      "==== System: Megatron-BERT ====\n",
      "Soft matching NVIDIA Tesla V100S PCIe 32 GB to NVIDIA V100\n",
      "Estimated the server release price for NVIDIA Tesla V100S PCIe 32 GB: 10339.882837238758\n",
      "\n",
      "==== System: Megatron-LM (8.3B) ====\n",
      "Estimated the server release price for NVIDIA Tesla V100 DGXS 32 GB: 25100.596493949735\n",
      "\n",
      "==== System: RoBERTa Large ====\n",
      "Estimated the server release price for NVIDIA Tesla V100 DGXS 32 GB: 25100.596493949735\n",
      "\n",
      "==== System: GPT-2 (1.5B) ====\n",
      "Could not find hardware model for GPT-2 (1.5B)\n",
      "\n",
      "\n",
      "==== System: BERT-Large ====\n",
      "Estimated the server release price for Google TPU v2: 29732.800000000003\n",
      "\n",
      "==== System: BigGAN-deep 512x512 ====\n",
      "Estimated the server release price for Google TPU v3: 17187.2\n",
      "\n",
      "==== System: FTW ====\n",
      "Could not find hardware model for FTW\n",
      "\n",
      "\n",
      "==== System: ResNeXt-101 32x48d ====\n",
      "Could not find hardware model for ResNeXt-101 32x48d\n",
      "\n",
      "\n",
      "==== System: AmoebaNet-A (F=448) ====\n",
      "Estimated the server release price for NVIDIA Tesla K40s: 15607.92018419033\n",
      "\n",
      "==== System: IMPALA ====\n",
      "Could not find hardware model after soft matching: NVIDIA P100\n",
      "\n",
      "==== System: AlphaZero ====\n",
      "No training time found, assuming 32.083333333333336\n",
      "\n",
      "Estimated the server release price for Google TPU v2: 29732.800000000003\n",
      "\n",
      "==== System: AlphaGo Zero ====\n",
      "Estimated the server release price for Google TPU v1: 18020.8\n",
      "\n",
      "==== System: OpenAI TI7 DOTA 1v1 ====\n",
      "Could not find hardware model for OpenAI TI7 DOTA 1v1\n",
      "\n",
      "\n",
      "==== System: JFT ====\n",
      "Estimated the server release price for NVIDIA Tesla K80: 9459.48231862924\n",
      "\n",
      "==== System: Libratus ====\n",
      "Could not find hardware model for Libratus\n",
      "\n",
      "\n",
      "==== System: AlphaGo Master ====\n",
      "No training time found, assuming 32.083333333333336\n",
      "\n",
      "Estimated the server release price for Google TPU v1: 18020.8\n",
      "\n",
      "==== System: NASv3 (CIFAR-10) ====\n",
      "Could not find hardware model for NASv3 (CIFAR-10)\n",
      "\n",
      "\n",
      "==== System: Xception ====\n",
      "Estimated the server release price for NVIDIA Tesla K80: 9459.48231862924\n",
      "\n",
      "==== System: GNMT ====\n",
      "Estimated the server release price for NVIDIA Tesla K80: 9459.48231862924\n",
      "\n",
      "==== System: AlphaGo Lee ====\n",
      "Could not find hardware model for AlphaGo Lee\n",
      "\n",
      "\n",
      "==== System: DeepSpeech2 (English) ====\n",
      "No training time found, assuming 32.083333333333336\n",
      "\n",
      "Estimated the server release price for NVIDIA GTX Titan X: 1598.4\n",
      "\n",
      "==== System: AlphaGo Fan ====\n",
      "Could not find hardware model for AlphaGo Fan\n",
      "\n",
      "\n",
      "==== System: Gemini Ultra ====\n",
      "Overall cost per chip-hour for Google TPU v4: 0.6581337391213671\n",
      "Estimated cost: 86873653.56402045\n",
      "==== System: Qwen-72B ====\n",
      "Unable to estimate cost\n",
      "==== System: Inflection-2 ====\n",
      "Imputing training time from compute and hardware\n",
      "Found NVIDIA H100 SXM5 at 989000000000000.0 FLOP/s\n",
      "Overall cost per chip-hour for NVIDIA H100 SXM5: 1.5472550710456663\n",
      "Estimated cost: 11600212.156811683\n",
      "==== System: Yi-34B ====\n",
      "Unable to estimate cost\n",
      "==== System: ChatGLM3 ====\n",
      "Unable to estimate cost\n",
      "==== System: Falcon 180B ====\n",
      "Overall cost per chip-hour for NVIDIA A100 SXM4 40 GB: 1.540303996270576\n",
      "Estimated cost: 27255247.928888887\n",
      "==== System: Llama 2-70B ====\n",
      "Overall cost per chip-hour for NVIDIA A100 SXM4 80 GB: 1.3476067758177068\n",
      "Estimated cost: 2910830.635766247\n",
      "==== System: Llama 2-34B ====\n",
      "Imputing training time from compute and hardware\n",
      "Found NVIDIA A100 SXM4 80 GB at 312000000000000.0 FLOP/s\n",
      "Overall cost per chip-hour for NVIDIA A100 SXM4 80 GB: 1.3476067758177066\n",
      "Estimated cost: 1305374.0848376646\n",
      "==== System: Claude 2 ====\n",
      "Unable to estimate cost\n",
      "==== System: xTrimoPGLM -100B ====\n",
      "Overall cost per chip-hour for NVIDIA A100 SXM4 40 GB: 1.5403039962705762\n",
      "Estimated cost: 4627713.97125926\n",
      "==== System: PaLM 2 ====\n",
      "Imputing training time from compute and hardware\n",
      "Found Google TPU v4 at 275000000000000.0 FLOP/s\n",
      "Overall cost per chip-hour for Google TPU v4: 0.6581337391213671\n",
      "Estimated cost: 13011990.96336925\n",
      "==== System: PanGu-Σ ====\n",
      "Unable to estimate cost\n",
      "==== System: GPT-4 ====\n",
      "Overall cost per chip-hour for NVIDIA A100 SXM4 40 GB: 1.540303996270576\n",
      "Estimated cost: 87797327.78742284\n",
      "==== System: LLaMA-65B ====\n",
      "Overall cost per chip-hour for NVIDIA A100: 1.6714674125351618\n",
      "Estimated cost: 1711582.6304360058\n",
      "==== System: ViT-22B ====\n",
      "Imputing training time from compute and hardware\n",
      "Found Google TPU v4 at 275000000000000.0 FLOP/s\n",
      "Overall cost per chip-hour for Google TPU v4: 0.6581337391213671\n",
      "Estimated cost: 709118.0524873753\n",
      "==== System: GPT-3.5 (text-davinci-003) ====\n",
      "Imputing training time from compute and hardware\n",
      "Found NVIDIA A100 SXM4 40 GB at 312000000000000.0 FLOP/s\n",
      "Overall cost per chip-hour for NVIDIA A100 SXM4 40 GB: 1.5422844650205763\n",
      "Estimated cost: 9439718.306797354\n",
      "==== System: Galactica ====\n",
      "Imputing training time from compute and hardware\n",
      "Found NVIDIA A100 SXM4 80 GB at 312000000000000.0 FLOP/s\n",
      "Overall cost per chip-hour for NVIDIA A100 SXM4 80 GB: 1.3493495883177067\n",
      "Estimated cost: 1037961.2217828515\n",
      "==== System: BLOOM-176B ====\n",
      "Overall cost per chip-hour for NVIDIA A100 SXM4 80 GB: 1.3569545883177065\n",
      "Estimated cost: 1463166.13785451\n",
      "==== System: U-PaLM (540B) ====\n",
      "Overall cost per chip-hour for Google TPU v4: 0.6588493351453673\n",
      "Overall cost per chip-hour for Google TPU v4: 0.6588493351453673\n",
      "Estimated cost: 5578103.094253462\n",
      "==== System: BlenderBot 3 ====\n",
      "Imputing training time from compute and hardware\n",
      "Found NVIDIA A100 SXM4 40 GB at 312000000000000.0 FLOP/s\n",
      "Overall cost per chip-hour for NVIDIA A100 SXM4 40 GB: 1.5346794650205762\n",
      "Overall cost per chip-hour for NVIDIA A100 SXM4 80 GB: 1.3493495883177065\n",
      "Estimated cost: 2663148.95547703\n",
      "==== System: GLM-130B ====\n",
      "Overall cost per chip-hour for NVIDIA A100 SXM4 40 GB: 1.542284465020576\n",
      "Estimated cost: 1705643.2355555554\n",
      "==== System: Minerva (540B) ====\n",
      "Overall cost per chip-hour for Google TPU v4: 0.6588493351453671\n",
      "Overall cost per chip-hour for Google TPU v4: 0.6588493351453673\n",
      "Estimated cost: 6007187.947657574\n",
      "==== System: Parti ====\n",
      "Imputing training time from compute and hardware\n",
      "Found Google TPU v4 at 275000000000000.0 FLOP/s\n",
      "Overall cost per chip-hour for Google TPU v4: 0.6588493351453671\n",
      "Estimated cost: 703286.4602976881\n",
      "==== System: UL2 ====\n",
      "Overall cost per chip-hour for Google TPU v4: 0.6588493351453671\n",
      "Estimated cost: 250974.1595382544\n",
      "==== System: OPT-175B ====\n",
      "Overall cost per chip-hour for NVIDIA A100 SXM4 80 GB: 1.3493495883177065\n",
      "Estimated cost: 1096405.9118900225\n",
      "==== System: Flamingo ====\n",
      "Overall cost per chip-hour for Google TPU v4: 0.6588493351453671\n",
      "Estimated cost: 364317.3283619822\n",
      "==== System: PaLM (540B) ====\n",
      "Overall cost per chip-hour for Google TPU v4: 0.6588493351453673\n",
      "Estimated cost: 5537623.3911021305\n",
      "==== System: Chinchilla ====\n",
      "Unable to estimate cost\n",
      "==== System: LaMDA ====\n",
      "Overall cost per chip-hour for Google TPU v3: 0.7776211203706442\n",
      "Estimated cost: 1102853.3777544624\n",
      "==== System: GPT-NeoX-20B ====\n",
      "Overall cost per chip-hour for NVIDIA A100 SXM4 40 GB: 1.158141551856104\n",
      "Estimated cost: 240152.23219288173\n",
      "==== System: AlphaCode ====\n",
      "Unable to estimate cost\n",
      "==== System: ERNIE 3.0 Titan ====\n",
      "Unable to estimate cost\n",
      "==== System: GLaM ====\n",
      "Overall cost per chip-hour for Google TPU v4: 0.6557117218093671\n",
      "Estimated cost: 917199.0650793938\n",
      "==== System: Gopher (280B) ====\n",
      "Overall cost per chip-hour for Google TPU v3: 0.7740541800706442\n",
      "Estimated cost: 2916883.84784381\n",
      "==== System: Yuan 1.0 ====\n",
      "Unable to estimate cost\n",
      "==== System: Megatron-Turing NLG 530B ====\n",
      "Overall cost per chip-hour for NVIDIA A100 SXM4 80 GB: 1.9880744563933872\n",
      "Estimated cost: 6858061.644774629\n",
      "==== System: HyperCLOVA ====\n",
      "Overall cost per chip-hour for NVIDIA A100: 1.0497162818718906\n",
      "Estimated cost: 691381.7728\n",
      "==== System: GOAT ====\n",
      "Imputing training time from compute and hardware\n",
      "Found Google TPU v3 at 123000000000000.0 FLOP/s\n",
      "Overall cost per chip-hour for Google TPU v3: 0.7740541800706442\n",
      "Estimated cost: 363602.6862120461\n",
      "==== System: ByT5-XXL ====\n",
      "Imputing training time from compute and hardware\n",
      "Found Google TPU v3 at 123000000000000.0 FLOP/s\n",
      "Overall cost per chip-hour for Google TPU v3: 0.7740541800706442\n",
      "Estimated cost: 377587.4049125094\n",
      "==== System: ProtT5-XXL ====\n",
      "Imputing training time from compute and hardware\n",
      "Found Google TPU v3 at 123000000000000.0 FLOP/s\n",
      "Overall cost per chip-hour for Google TPU v3: 0.7740541800706442\n",
      "Estimated cost: 343557.92274138203\n",
      "==== System: Meta Pseudo Labels ====\n",
      "Overall cost per chip-hour for Google TPU v3: 0.7740541800706442\n",
      "Estimated cost: 209254.71082357768\n",
      "==== System: Switch ====\n",
      "Overall cost per chip-hour for Google TPU v3: 0.7740541800706442\n",
      "Estimated cost: 513625.1992942361\n",
      "==== System: DALL-E ====\n",
      "Imputing training time from compute and hardware\n",
      "Found NVIDIA Tesla V100 DGXS 16 GB at 125000000000000.0 FLOP/s\n",
      "Overall cost per chip-hour for NVIDIA Tesla V100 DGXS 16 GB: 0.6875840145478415\n",
      "Estimated cost: 191504.8810888803\n",
      "==== System: mT5-XXL ====\n",
      "Unable to estimate cost\n",
      "==== System: GShard (dense) ====\n",
      "Overall cost per chip-hour for Google TPU v3: 0.7724584436206441\n",
      "Estimated cost: 797325.4258376799\n",
      "==== System: iGPT-XL ====\n",
      "Imputing training time from compute and hardware\n",
      "Found NVIDIA Tesla V100 DGXS 32 GB at 125000000000000.0 FLOP/s\n",
      "Overall cost per chip-hour for NVIDIA Tesla V100 DGXS 32 GB: 1.128903695121005\n",
      "Estimated cost: 220763.38926810765\n",
      "==== System: GPT-3 175B (davinci) ====\n",
      "Overall cost per chip-hour for NVIDIA Tesla V100 DGXS 32 GB: 1.1289036951210052\n",
      "Estimated cost: 4009865.9250698104\n",
      "==== System: Turing-NLG ====\n",
      "Imputing training time from compute and hardware\n",
      "Found NVIDIA Tesla V100 DGXS 32 GB at 125000000000000.0 FLOP/s\n",
      "Overall cost per chip-hour for NVIDIA Tesla V100 DGXS 32 GB: 1.1251518201210051\n",
      "Estimated cost: 104680.79156088759\n",
      "==== System: Meena ====\n",
      "Overall cost per chip-hour for Google TPU v3: 0.772458443620644\n",
      "Estimated cost: 569518.1613126284\n",
      "==== System: ContextNet + Noisy Student ====\n",
      "Imputing training time from compute and hardware\n",
      "Found Google TPU v3 at 123000000000000.0 FLOP/s\n",
      "Overall cost per chip-hour for Google TPU v3: 0.7724584436206441\n",
      "Estimated cost: 25120.59979254127\n",
      "==== System: OpenAI Five ====\n",
      "Unable to estimate cost\n",
      "==== System: OpenAI Five Rerun ====\n",
      "Unable to estimate cost\n",
      "==== System: AlphaStar ====\n",
      "Overall cost per chip-hour for Google TPU v3: 0.7728964889206443\n",
      "Estimated cost: 313412.61784327694\n",
      "==== System: T5-11B ====\n",
      "Overall cost per chip-hour for Google TPU v3: 0.7728964889206442\n",
      "Estimated cost: 190698.9148215595\n",
      "==== System: Megatron-BERT ====\n",
      "Overall cost per chip-hour for NVIDIA Tesla V100S PCIe 32 GB: 0.4787601016598057\n",
      "Estimated cost: 341214.23949335015\n",
      "==== System: Megatron-LM (8.3B) ====\n",
      "Overall cost per chip-hour for NVIDIA Tesla V100 DGXS 32 GB: 1.1295599451210052\n",
      "Estimated cost: 189115.4442519392\n",
      "==== System: RoBERTa Large ====\n",
      "Overall cost per chip-hour for NVIDIA Tesla V100 DGXS 32 GB: 1.1257293201210052\n",
      "Estimated cost: 138329.6188564691\n",
      "==== System: GPT-2 (1.5B) ====\n",
      "Unable to estimate cost\n",
      "==== System: BERT-Large ====\n",
      "Overall cost per chip-hour for Google TPU v2: 1.315232647472605\n",
      "Estimated cost: 8080.789386071685\n",
      "==== System: BigGAN-deep 512x512 ====\n",
      "Overall cost per chip-hour for Google TPU v3: 0.7732406673706441\n",
      "Estimated cost: 9501.581320650475\n",
      "==== System: FTW ====\n",
      "Unable to estimate cost\n",
      "==== System: ResNeXt-101 32x48d ====\n",
      "Unable to estimate cost\n",
      "==== System: AmoebaNet-A (F=448) ====\n",
      "Overall cost per chip-hour for NVIDIA Tesla K40s: 0.7077041906395498\n",
      "Estimated cost: 53502.436812349966\n",
      "==== System: IMPALA ====\n",
      "Unable to estimate cost\n",
      "==== System: AlphaZero ====\n",
      "Imputing training time from compute and hardware\n",
      "Found Google TPU v2 at 45000000000000.0 FLOP/s\n",
      "Overall cost per chip-hour for Google TPU v2: 1.315145766832605\n",
      "Estimated cost: 794050.874446191\n",
      "==== System: AlphaGo Zero ====\n",
      "Imputing training time from compute and hardware\n",
      "Overall cost per chip-hour for Google TPU v1: 0.795192868573093\n",
      "Estimated cost: 2183259.0030871555\n",
      "==== System: OpenAI TI7 DOTA 1v1 ====\n",
      "Unable to estimate cost\n",
      "==== System: JFT ====\n",
      "Overall cost per chip-hour for NVIDIA Tesla K80: 0.4443094108154089\n",
      "Estimated cost: 31990.277578709443\n",
      "==== System: Libratus ====\n",
      "Unable to estimate cost\n",
      "==== System: AlphaGo Master ====\n",
      "Imputing training time from compute and hardware\n",
      "Overall cost per chip-hour for Google TPU v1: 0.795192868573093\n",
      "Estimated cost: 960377.8605955229\n",
      "==== System: NASv3 (CIFAR-10) ====\n",
      "Unable to estimate cost\n",
      "==== System: Xception ====\n",
      "Overall cost per chip-hour for NVIDIA Tesla K80: 0.443774810815409\n",
      "Estimated cost: 19171.071827225667\n",
      "==== System: GNMT ====\n",
      "Overall cost per chip-hour for NVIDIA Tesla K80: 0.4437748108154089\n",
      "Estimated cost: 184042.2895413664\n",
      "==== System: AlphaGo Lee ====\n",
      "Unable to estimate cost\n",
      "==== System: DeepSpeech2 (English) ====\n",
      "Imputing training time from compute and hardware\n",
      "Found NVIDIA GTX Titan X at 6690000000000.0 FLOP/s\n",
      "Overall cost per chip-hour for NVIDIA GTX Titan X: 0.09904889309548255\n",
      "Estimated cost: 237.619371134598\n",
      "==== System: AlphaGo Fan ====\n",
      "Unable to estimate cost\n",
      "{'Gemini Ultra': 86873653.56402045, 'Inflection-2': 11600212.156811683, 'Falcon 180B': 27255247.928888887, 'Llama 2-70B': 2910830.635766247, 'Llama 2-34B': 1305374.0848376646, 'xTrimoPGLM -100B': 4627713.97125926, 'PaLM 2': 13011990.96336925, 'GPT-4': 87797327.78742284, 'LLaMA-65B': 1711582.6304360058, 'ViT-22B': 709118.0524873753, 'GPT-3.5 (text-davinci-003)': 9439718.306797354, 'Galactica': 1037961.2217828515, 'BLOOM-176B': 1463166.13785451, 'U-PaLM (540B)': 5578103.094253462, 'BlenderBot 3': 2663148.95547703, 'GLM-130B': 1705643.2355555554, 'Minerva (540B)': 6007187.947657574, 'Parti': 703286.4602976881, 'UL2': 250974.1595382544, 'OPT-175B': 1096405.9118900225, 'Flamingo': 364317.3283619822, 'PaLM (540B)': 5537623.3911021305, 'LaMDA': 1102853.3777544624, 'GPT-NeoX-20B': 240152.23219288173, 'GLaM': 917199.0650793938, 'Gopher (280B)': 2916883.84784381, 'Megatron-Turing NLG 530B': 6858061.644774629, 'HyperCLOVA': 691381.7728, 'GOAT': 363602.6862120461, 'ByT5-XXL': 377587.4049125094, 'ProtT5-XXL': 343557.92274138203, 'Meta Pseudo Labels': 209254.71082357768, 'Switch': 513625.1992942361, 'DALL-E': 191504.8810888803, 'GShard (dense)': 797325.4258376799, 'iGPT-XL': 220763.38926810765, 'GPT-3 175B (davinci)': 4009865.9250698104, 'Turing-NLG': 104680.79156088759, 'Meena': 569518.1613126284, 'ContextNet + Noisy Student': 25120.59979254127, 'AlphaStar': 313412.61784327694, 'T5-11B': 190698.9148215595, 'Megatron-BERT': 341214.23949335015, 'Megatron-LM (8.3B)': 189115.4442519392, 'RoBERTa Large': 138329.6188564691, 'BERT-Large': 8080.789386071685, 'BigGAN-deep 512x512': 9501.581320650475, 'AmoebaNet-A (F=448)': 53502.436812349966, 'AlphaZero': 794050.874446191, 'AlphaGo Zero': 2183259.0030871555, 'JFT': 31990.277578709443, 'AlphaGo Master': 960377.8605955229, 'Xception': 19171.071827225667, 'GNMT': 184042.2895413664, 'DeepSpeech2 (English)': 237.619371134598}\n"
     ]
    }
   ],
   "source": [
    "cost_df = cost_estimation_function(frontier_pcd_df, hardware_df, price_df)"
   ]
  },
  {
   "cell_type": "code",
   "execution_count": 7,
   "metadata": {
    "ExecuteTime": {
     "end_time": "2024-03-08T01:54:57.967995500Z",
     "start_time": "2024-03-08T01:54:57.807954200Z"
    }
   },
   "outputs": [
    {
     "data": {
      "text/html": [
       "<div>\n",
       "<style scoped>\n",
       "    .dataframe tbody tr th:only-of-type {\n",
       "        vertical-align: middle;\n",
       "    }\n",
       "\n",
       "    .dataframe tbody tr th {\n",
       "        vertical-align: top;\n",
       "    }\n",
       "\n",
       "    .dataframe thead th {\n",
       "        text-align: right;\n",
       "    }\n",
       "</style>\n",
       "<table border=\"1\" class=\"dataframe\">\n",
       "  <thead>\n",
       "    <tr style=\"text-align: right;\">\n",
       "      <th></th>\n",
       "      <th>System</th>\n",
       "      <th>Domain</th>\n",
       "      <th>Task</th>\n",
       "      <th>Authors</th>\n",
       "      <th>Notability criteria</th>\n",
       "      <th>Notability criteria notes</th>\n",
       "      <th>Model accessibility</th>\n",
       "      <th>Link</th>\n",
       "      <th>Citations</th>\n",
       "      <th>Reference</th>\n",
       "      <th>...</th>\n",
       "      <th>Batch size notes</th>\n",
       "      <th>Organization categorization</th>\n",
       "      <th>Foundation model</th>\n",
       "      <th>Training compute lower bound</th>\n",
       "      <th>Training compute upper bound</th>\n",
       "      <th>Training chip-hours</th>\n",
       "      <th>Code accessibility</th>\n",
       "      <th>Dataset accessibility</th>\n",
       "      <th>Accessibility notes</th>\n",
       "      <th>Cost</th>\n",
       "    </tr>\n",
       "  </thead>\n",
       "  <tbody>\n",
       "    <tr>\n",
       "      <th>39</th>\n",
       "      <td>Gemini Ultra</td>\n",
       "      <td>Multimodal</td>\n",
       "      <td>Language modelling,Visual question answering,C...</td>\n",
       "      <td>Gemini Team</td>\n",
       "      <td>SOTA improvement</td>\n",
       "      <td>\" Evaluation on a broad range of benchmarks sh...</td>\n",
       "      <td>Hosted access (no API)</td>\n",
       "      <td>https://storage.googleapis.com/deepmind-media/...</td>\n",
       "      <td>252.0</td>\n",
       "      <td>Gemini: A Family of Highly Capable Multimodal ...</td>\n",
       "      <td>...</td>\n",
       "      <td>NaN</td>\n",
       "      <td>Industry</td>\n",
       "      <td>NaN</td>\n",
       "      <td>NaN</td>\n",
       "      <td>NaN</td>\n",
       "      <td>132000000.0</td>\n",
       "      <td>NaN</td>\n",
       "      <td>NaN</td>\n",
       "      <td>NaN</td>\n",
       "      <td>8.687365e+07</td>\n",
       "    </tr>\n",
       "    <tr>\n",
       "      <th>46</th>\n",
       "      <td>Qwen-72B</td>\n",
       "      <td>Language</td>\n",
       "      <td>Chat,Code generation</td>\n",
       "      <td>Jinze Bai, Shuai Bai, Yunfei Chu, Zeyu Cui, Ka...</td>\n",
       "      <td>SOTA improvement</td>\n",
       "      <td>SOTA on several Chinese benchmarks, with highe...</td>\n",
       "      <td>Permissive license (depr.)</td>\n",
       "      <td>https://huggingface.co/Qwen/Qwen-72B</td>\n",
       "      <td>NaN</td>\n",
       "      <td>NaN</td>\n",
       "      <td>...</td>\n",
       "      <td>Table 1 https://arxiv.org/abs/2309.16609\\n(thi...</td>\n",
       "      <td>Industry</td>\n",
       "      <td>NaN</td>\n",
       "      <td>NaN</td>\n",
       "      <td>NaN</td>\n",
       "      <td>NaN</td>\n",
       "      <td>NaN</td>\n",
       "      <td>NaN</td>\n",
       "      <td>NaN</td>\n",
       "      <td>NaN</td>\n",
       "    </tr>\n",
       "    <tr>\n",
       "      <th>54</th>\n",
       "      <td>Inflection-2</td>\n",
       "      <td>Language</td>\n",
       "      <td>Language modelling</td>\n",
       "      <td>NaN</td>\n",
       "      <td>Significant use</td>\n",
       "      <td>Inflection-2 either already powers Pi or soon ...</td>\n",
       "      <td>API access</td>\n",
       "      <td>https://inflection.ai/inflection-2</td>\n",
       "      <td>NaN</td>\n",
       "      <td>Inflection-2: The Next Step Up</td>\n",
       "      <td>...</td>\n",
       "      <td>NaN</td>\n",
       "      <td>Industry</td>\n",
       "      <td>checked</td>\n",
       "      <td>NaN</td>\n",
       "      <td>NaN</td>\n",
       "      <td>NaN</td>\n",
       "      <td>NaN</td>\n",
       "      <td>NaN</td>\n",
       "      <td>NaN</td>\n",
       "      <td>1.160021e+07</td>\n",
       "    </tr>\n",
       "    <tr>\n",
       "      <th>83</th>\n",
       "      <td>Yi-34B</td>\n",
       "      <td>Language</td>\n",
       "      <td>Chat</td>\n",
       "      <td>NaN</td>\n",
       "      <td>Significant use</td>\n",
       "      <td>2nd most popular model on HuggingFace: https:/...</td>\n",
       "      <td>Permissive license (depr.)</td>\n",
       "      <td>https://arxiv.org/abs/2403.04652</td>\n",
       "      <td>NaN</td>\n",
       "      <td>NaN</td>\n",
       "      <td>...</td>\n",
       "      <td>NaN</td>\n",
       "      <td>Industry</td>\n",
       "      <td>NaN</td>\n",
       "      <td>NaN</td>\n",
       "      <td>NaN</td>\n",
       "      <td>NaN</td>\n",
       "      <td>NaN</td>\n",
       "      <td>NaN</td>\n",
       "      <td>NaN</td>\n",
       "      <td>NaN</td>\n",
       "    </tr>\n",
       "    <tr>\n",
       "      <th>92</th>\n",
       "      <td>ChatGLM3</td>\n",
       "      <td>Multimodal</td>\n",
       "      <td>Chat,Visual question answering</td>\n",
       "      <td>NaN</td>\n",
       "      <td>SOTA improvement</td>\n",
       "      <td>Aiming at GPT-4V, ChatGLM3 has implemented ite...</td>\n",
       "      <td>NaN</td>\n",
       "      <td>https://www.zhipuai.cn/en/news/76</td>\n",
       "      <td>NaN</td>\n",
       "      <td>Zhipu AI launches third-generation base model</td>\n",
       "      <td>...</td>\n",
       "      <td>NaN</td>\n",
       "      <td>Industry</td>\n",
       "      <td>checked</td>\n",
       "      <td>NaN</td>\n",
       "      <td>NaN</td>\n",
       "      <td>NaN</td>\n",
       "      <td>NaN</td>\n",
       "      <td>NaN</td>\n",
       "      <td>NaN</td>\n",
       "      <td>NaN</td>\n",
       "    </tr>\n",
       "    <tr>\n",
       "      <th>...</th>\n",
       "      <td>...</td>\n",
       "      <td>...</td>\n",
       "      <td>...</td>\n",
       "      <td>...</td>\n",
       "      <td>...</td>\n",
       "      <td>...</td>\n",
       "      <td>...</td>\n",
       "      <td>...</td>\n",
       "      <td>...</td>\n",
       "      <td>...</td>\n",
       "      <td>...</td>\n",
       "      <td>...</td>\n",
       "      <td>...</td>\n",
       "      <td>...</td>\n",
       "      <td>...</td>\n",
       "      <td>...</td>\n",
       "      <td>...</td>\n",
       "      <td>...</td>\n",
       "      <td>...</td>\n",
       "      <td>...</td>\n",
       "      <td>...</td>\n",
       "    </tr>\n",
       "    <tr>\n",
       "      <th>1094</th>\n",
       "      <td>Xception</td>\n",
       "      <td>Vision</td>\n",
       "      <td>Image classification</td>\n",
       "      <td>François Chollet</td>\n",
       "      <td>Highly cited</td>\n",
       "      <td>NaN</td>\n",
       "      <td>NaN</td>\n",
       "      <td>https://arxiv.org/abs/1610.02357</td>\n",
       "      <td>11338.0</td>\n",
       "      <td>Xception: Deep Learning with Depthwise Separab...</td>\n",
       "      <td>...</td>\n",
       "      <td>NaN</td>\n",
       "      <td>Industry</td>\n",
       "      <td>NaN</td>\n",
       "      <td>NaN</td>\n",
       "      <td>NaN</td>\n",
       "      <td>43200.0</td>\n",
       "      <td>NaN</td>\n",
       "      <td>NaN</td>\n",
       "      <td>NaN</td>\n",
       "      <td>1.917107e+04</td>\n",
       "    </tr>\n",
       "    <tr>\n",
       "      <th>1095</th>\n",
       "      <td>GNMT</td>\n",
       "      <td>Language</td>\n",
       "      <td>Translation</td>\n",
       "      <td>Yonghui Wu, Mike Schuster, Zhifeng Chen, Quoc ...</td>\n",
       "      <td>Highly cited</td>\n",
       "      <td>NaN</td>\n",
       "      <td>NaN</td>\n",
       "      <td>https://arxiv.org/abs/1609.08144</td>\n",
       "      <td>6105.0</td>\n",
       "      <td>Google's Neural Machine Translation System: Br...</td>\n",
       "      <td>...</td>\n",
       "      <td>NaN</td>\n",
       "      <td>Industry</td>\n",
       "      <td>NaN</td>\n",
       "      <td>NaN</td>\n",
       "      <td>NaN</td>\n",
       "      <td>414720.0</td>\n",
       "      <td>NaN</td>\n",
       "      <td>NaN</td>\n",
       "      <td>NaN</td>\n",
       "      <td>1.840423e+05</td>\n",
       "    </tr>\n",
       "    <tr>\n",
       "      <th>1131</th>\n",
       "      <td>AlphaGo Lee</td>\n",
       "      <td>Games</td>\n",
       "      <td>Go</td>\n",
       "      <td>David Silver, Aja Huang, Chris J. Maddison, Ar...</td>\n",
       "      <td>Highly cited</td>\n",
       "      <td>NaN</td>\n",
       "      <td>NaN</td>\n",
       "      <td>https://www.nature.com/articles/nature16961</td>\n",
       "      <td>14733.0</td>\n",
       "      <td>Mastering the game of Go with deep neural netw...</td>\n",
       "      <td>...</td>\n",
       "      <td>NaN</td>\n",
       "      <td>Industry</td>\n",
       "      <td>NaN</td>\n",
       "      <td>NaN</td>\n",
       "      <td>NaN</td>\n",
       "      <td>NaN</td>\n",
       "      <td>NaN</td>\n",
       "      <td>NaN</td>\n",
       "      <td>NaN</td>\n",
       "      <td>NaN</td>\n",
       "    </tr>\n",
       "    <tr>\n",
       "      <th>1137</th>\n",
       "      <td>DeepSpeech2 (English)</td>\n",
       "      <td>Speech</td>\n",
       "      <td>Speech recognition</td>\n",
       "      <td>Dario Amodei, Rishita Anubhai, Eric Battenberg...</td>\n",
       "      <td>Highly cited</td>\n",
       "      <td>NaN</td>\n",
       "      <td>NaN</td>\n",
       "      <td>https://arxiv.org/abs/1512.02595</td>\n",
       "      <td>2741.0</td>\n",
       "      <td>Deep Speech 2: End-to-End Speech Recognition i...</td>\n",
       "      <td>...</td>\n",
       "      <td>NaN</td>\n",
       "      <td>Industry</td>\n",
       "      <td>NaN</td>\n",
       "      <td>NaN</td>\n",
       "      <td>NaN</td>\n",
       "      <td>301.0</td>\n",
       "      <td>NaN</td>\n",
       "      <td>NaN</td>\n",
       "      <td>NaN</td>\n",
       "      <td>2.376194e+02</td>\n",
       "    </tr>\n",
       "    <tr>\n",
       "      <th>1141</th>\n",
       "      <td>AlphaGo Fan</td>\n",
       "      <td>Games</td>\n",
       "      <td>Go</td>\n",
       "      <td>David Silver, Aja Huang, Chris J. Maddison, Ar...</td>\n",
       "      <td>Highly cited,SOTA improvement</td>\n",
       "      <td>NaN</td>\n",
       "      <td>NaN</td>\n",
       "      <td>https://www.nature.com/articles/nature24270.ep...</td>\n",
       "      <td>14733.0</td>\n",
       "      <td>Mastering the game of Go with deep neural netw...</td>\n",
       "      <td>...</td>\n",
       "      <td>NaN</td>\n",
       "      <td>Industry</td>\n",
       "      <td>NaN</td>\n",
       "      <td>NaN</td>\n",
       "      <td>NaN</td>\n",
       "      <td>NaN</td>\n",
       "      <td>NaN</td>\n",
       "      <td>NaN</td>\n",
       "      <td>NaN</td>\n",
       "      <td>NaN</td>\n",
       "    </tr>\n",
       "  </tbody>\n",
       "</table>\n",
       "<p>76 rows × 57 columns</p>\n",
       "</div>"
      ],
      "text/plain": [
       "                     System      Domain  \\\n",
       "39             Gemini Ultra  Multimodal   \n",
       "46                 Qwen-72B    Language   \n",
       "54             Inflection-2    Language   \n",
       "83                   Yi-34B    Language   \n",
       "92                 ChatGLM3  Multimodal   \n",
       "...                     ...         ...   \n",
       "1094               Xception      Vision   \n",
       "1095                   GNMT    Language   \n",
       "1131            AlphaGo Lee       Games   \n",
       "1137  DeepSpeech2 (English)      Speech   \n",
       "1141            AlphaGo Fan       Games   \n",
       "\n",
       "                                                   Task  \\\n",
       "39    Language modelling,Visual question answering,C...   \n",
       "46                                 Chat,Code generation   \n",
       "54                                   Language modelling   \n",
       "83                                                 Chat   \n",
       "92                       Chat,Visual question answering   \n",
       "...                                                 ...   \n",
       "1094                               Image classification   \n",
       "1095                                        Translation   \n",
       "1131                                                 Go   \n",
       "1137                                 Speech recognition   \n",
       "1141                                                 Go   \n",
       "\n",
       "                                                Authors  \\\n",
       "39                                          Gemini Team   \n",
       "46    Jinze Bai, Shuai Bai, Yunfei Chu, Zeyu Cui, Ka...   \n",
       "54                                                  NaN   \n",
       "83                                                  NaN   \n",
       "92                                                  NaN   \n",
       "...                                                 ...   \n",
       "1094                                   François Chollet   \n",
       "1095  Yonghui Wu, Mike Schuster, Zhifeng Chen, Quoc ...   \n",
       "1131  David Silver, Aja Huang, Chris J. Maddison, Ar...   \n",
       "1137  Dario Amodei, Rishita Anubhai, Eric Battenberg...   \n",
       "1141  David Silver, Aja Huang, Chris J. Maddison, Ar...   \n",
       "\n",
       "                Notability criteria  \\\n",
       "39                 SOTA improvement   \n",
       "46                 SOTA improvement   \n",
       "54                  Significant use   \n",
       "83                  Significant use   \n",
       "92                 SOTA improvement   \n",
       "...                             ...   \n",
       "1094                   Highly cited   \n",
       "1095                   Highly cited   \n",
       "1131                   Highly cited   \n",
       "1137                   Highly cited   \n",
       "1141  Highly cited,SOTA improvement   \n",
       "\n",
       "                              Notability criteria notes  \\\n",
       "39    \" Evaluation on a broad range of benchmarks sh...   \n",
       "46    SOTA on several Chinese benchmarks, with highe...   \n",
       "54    Inflection-2 either already powers Pi or soon ...   \n",
       "83    2nd most popular model on HuggingFace: https:/...   \n",
       "92    Aiming at GPT-4V, ChatGLM3 has implemented ite...   \n",
       "...                                                 ...   \n",
       "1094                                                NaN   \n",
       "1095                                                NaN   \n",
       "1131                                                NaN   \n",
       "1137                                                NaN   \n",
       "1141                                                NaN   \n",
       "\n",
       "             Model accessibility  \\\n",
       "39        Hosted access (no API)   \n",
       "46    Permissive license (depr.)   \n",
       "54                    API access   \n",
       "83    Permissive license (depr.)   \n",
       "92                           NaN   \n",
       "...                          ...   \n",
       "1094                         NaN   \n",
       "1095                         NaN   \n",
       "1131                         NaN   \n",
       "1137                         NaN   \n",
       "1141                         NaN   \n",
       "\n",
       "                                                   Link  Citations  \\\n",
       "39    https://storage.googleapis.com/deepmind-media/...      252.0   \n",
       "46                 https://huggingface.co/Qwen/Qwen-72B        NaN   \n",
       "54                   https://inflection.ai/inflection-2        NaN   \n",
       "83                     https://arxiv.org/abs/2403.04652        NaN   \n",
       "92                    https://www.zhipuai.cn/en/news/76        NaN   \n",
       "...                                                 ...        ...   \n",
       "1094                   https://arxiv.org/abs/1610.02357    11338.0   \n",
       "1095                   https://arxiv.org/abs/1609.08144     6105.0   \n",
       "1131        https://www.nature.com/articles/nature16961    14733.0   \n",
       "1137                   https://arxiv.org/abs/1512.02595     2741.0   \n",
       "1141  https://www.nature.com/articles/nature24270.ep...    14733.0   \n",
       "\n",
       "                                              Reference  ...  \\\n",
       "39    Gemini: A Family of Highly Capable Multimodal ...  ...   \n",
       "46                                                  NaN  ...   \n",
       "54                       Inflection-2: The Next Step Up  ...   \n",
       "83                                                  NaN  ...   \n",
       "92        Zhipu AI launches third-generation base model  ...   \n",
       "...                                                 ...  ...   \n",
       "1094  Xception: Deep Learning with Depthwise Separab...  ...   \n",
       "1095  Google's Neural Machine Translation System: Br...  ...   \n",
       "1131  Mastering the game of Go with deep neural netw...  ...   \n",
       "1137  Deep Speech 2: End-to-End Speech Recognition i...  ...   \n",
       "1141  Mastering the game of Go with deep neural netw...  ...   \n",
       "\n",
       "                                       Batch size notes  \\\n",
       "39                                                  NaN   \n",
       "46    Table 1 https://arxiv.org/abs/2309.16609\\n(thi...   \n",
       "54                                                  NaN   \n",
       "83                                                  NaN   \n",
       "92                                                  NaN   \n",
       "...                                                 ...   \n",
       "1094                                                NaN   \n",
       "1095                                                NaN   \n",
       "1131                                                NaN   \n",
       "1137                                                NaN   \n",
       "1141                                                NaN   \n",
       "\n",
       "     Organization categorization  Foundation model  \\\n",
       "39                      Industry               NaN   \n",
       "46                      Industry               NaN   \n",
       "54                      Industry           checked   \n",
       "83                      Industry               NaN   \n",
       "92                      Industry           checked   \n",
       "...                          ...               ...   \n",
       "1094                    Industry               NaN   \n",
       "1095                    Industry               NaN   \n",
       "1131                    Industry               NaN   \n",
       "1137                    Industry               NaN   \n",
       "1141                    Industry               NaN   \n",
       "\n",
       "     Training compute lower bound  Training compute upper bound  \\\n",
       "39                            NaN                           NaN   \n",
       "46                            NaN                           NaN   \n",
       "54                            NaN                           NaN   \n",
       "83                            NaN                           NaN   \n",
       "92                            NaN                           NaN   \n",
       "...                           ...                           ...   \n",
       "1094                          NaN                           NaN   \n",
       "1095                          NaN                           NaN   \n",
       "1131                          NaN                           NaN   \n",
       "1137                          NaN                           NaN   \n",
       "1141                          NaN                           NaN   \n",
       "\n",
       "     Training chip-hours Code accessibility Dataset accessibility  \\\n",
       "39           132000000.0                NaN                   NaN   \n",
       "46                   NaN                NaN                   NaN   \n",
       "54                   NaN                NaN                   NaN   \n",
       "83                   NaN                NaN                   NaN   \n",
       "92                   NaN                NaN                   NaN   \n",
       "...                  ...                ...                   ...   \n",
       "1094             43200.0                NaN                   NaN   \n",
       "1095            414720.0                NaN                   NaN   \n",
       "1131                 NaN                NaN                   NaN   \n",
       "1137               301.0                NaN                   NaN   \n",
       "1141                 NaN                NaN                   NaN   \n",
       "\n",
       "      Accessibility notes          Cost  \n",
       "39                    NaN  8.687365e+07  \n",
       "46                    NaN           NaN  \n",
       "54                    NaN  1.160021e+07  \n",
       "83                    NaN           NaN  \n",
       "92                    NaN           NaN  \n",
       "...                   ...           ...  \n",
       "1094                  NaN  1.917107e+04  \n",
       "1095                  NaN  1.840423e+05  \n",
       "1131                  NaN           NaN  \n",
       "1137                  NaN  2.376194e+02  \n",
       "1141                  NaN           NaN  \n",
       "\n",
       "[76 rows x 57 columns]"
      ]
     },
     "execution_count": 7,
     "metadata": {},
     "output_type": "execute_result"
    }
   ],
   "source": [
    "cost_df"
   ]
  },
  {
   "cell_type": "code",
   "execution_count": 8,
   "metadata": {
    "ExecuteTime": {
     "end_time": "2024-03-08T01:54:58.104807Z",
     "start_time": "2024-03-08T01:54:57.967995500Z"
    }
   },
   "outputs": [
    {
     "data": {
      "text/plain": [
       "55"
      ]
     },
     "execution_count": 8,
     "metadata": {},
     "output_type": "execute_result"
    }
   ],
   "source": [
    "cost_df['Cost'].notna().sum()"
   ]
  },
  {
   "cell_type": "markdown",
   "metadata": {},
   "source": [
    "Use the below to check data availability for specific systems"
   ]
  },
  {
   "cell_type": "code",
   "execution_count": 9,
   "metadata": {
    "ExecuteTime": {
     "end_time": "2024-03-08T01:54:58.418907200Z",
     "start_time": "2024-03-08T01:54:58.109807800Z"
    }
   },
   "outputs": [],
   "source": [
    "# system = 'WizardLM-7B'\n",
    "# row = cost_df.loc[cost_df['System'] == system]\n",
    "# print('Cost:', row['Cost'].values[0])\n",
    "# print('Training hardware:', row['Training hardware'].values[0])\n",
    "# print('Training time (hours):', row['Training time (hours)'].values[0])\n",
    "# print('Hardware quantity:', row['Hardware quantity'].values[0])\n",
    "# print('Hardware utilization:', row['Hardware utilization'].values[0])"
   ]
  },
  {
   "cell_type": "markdown",
   "metadata": {},
   "source": [
    "# Apply inflation adjustment"
   ]
  },
  {
   "cell_type": "code",
   "execution_count": 10,
   "metadata": {
    "ExecuteTime": {
     "end_time": "2024-03-08T01:54:58.434584400Z",
     "start_time": "2024-03-08T01:54:58.277972800Z"
    }
   },
   "outputs": [],
   "source": [
    "# TODO move to function"
   ]
  },
  {
   "cell_type": "code",
   "execution_count": 11,
   "metadata": {
    "ExecuteTime": {
     "end_time": "2024-03-08T01:54:58.565500700Z",
     "start_time": "2024-03-08T01:54:58.403286900Z"
    }
   },
   "outputs": [
    {
     "data": {
      "text/plain": [
       "39     2023-12-06\n",
       "46     2023-11-30\n",
       "54     2023-11-22\n",
       "83     2023-11-02\n",
       "92     2023-10-27\n",
       "          ...    \n",
       "1094   2016-10-07\n",
       "1095   2016-09-26\n",
       "1131   2016-01-27\n",
       "1137   2015-12-08\n",
       "1141   2015-10-01\n",
       "Name: Publication date, Length: 76, dtype: datetime64[ns]"
      ]
     },
     "execution_count": 11,
     "metadata": {},
     "output_type": "execute_result"
    }
   ],
   "source": [
    "cost_df['Publication date']"
   ]
  },
  {
   "cell_type": "code",
   "execution_count": 12,
   "metadata": {
    "ExecuteTime": {
     "end_time": "2024-03-08T01:54:58.726981500Z",
     "start_time": "2024-03-08T01:54:58.565500700Z"
    }
   },
   "outputs": [],
   "source": [
    "from_year_month = cost_df['Publication date'].apply(str)\n",
    "cost_df['Publication date'] = from_year_month"
   ]
  },
  {
   "cell_type": "code",
   "execution_count": 13,
   "metadata": {
    "ExecuteTime": {
     "end_time": "2024-03-08T01:54:58.913441700Z",
     "start_time": "2024-03-08T01:54:58.711492Z"
    }
   },
   "outputs": [
    {
     "data": {
      "text/plain": [
       "39      2023-12-06 00:00:00\n",
       "46      2023-11-30 00:00:00\n",
       "54      2023-11-22 00:00:00\n",
       "83      2023-11-02 00:00:00\n",
       "92      2023-10-27 00:00:00\n",
       "               ...         \n",
       "1094    2016-10-07 00:00:00\n",
       "1095    2016-09-26 00:00:00\n",
       "1131    2016-01-27 00:00:00\n",
       "1137    2015-12-08 00:00:00\n",
       "1141    2015-10-01 00:00:00\n",
       "Name: Publication date, Length: 76, dtype: object"
      ]
     },
     "execution_count": 13,
     "metadata": {},
     "output_type": "execute_result"
    }
   ],
   "source": [
    "cost_df['Publication date']"
   ]
  },
  {
   "cell_type": "code",
   "execution_count": 14,
   "metadata": {
    "ExecuteTime": {
     "end_time": "2024-03-08T01:54:59.049781600Z",
     "start_time": "2024-03-08T01:54:58.881981400Z"
    }
   },
   "outputs": [],
   "source": [
    "cost_df = adjust_column_for_inflation(cost_df, 'Cost', 'data/PCU518210518210.csv', '2023-12-01')"
   ]
  },
  {
   "cell_type": "code",
   "execution_count": 15,
   "metadata": {
    "ExecuteTime": {
     "end_time": "2024-03-08T01:54:59.177190500Z",
     "start_time": "2024-03-08T01:54:59.049781600Z"
    }
   },
   "outputs": [
    {
     "data": {
      "text/plain": [
       "39      8.687365e+07\n",
       "54      1.162737e+07\n",
       "135     2.742413e+07\n",
       "174     2.927432e+06\n",
       "175     1.312819e+06\n",
       "186     4.654107e+06\n",
       "224     1.314585e+07\n",
       "263     8.873967e+07\n",
       "279     1.733442e+06\n",
       "285     7.181744e+05\n",
       "323     9.629509e+06\n",
       "329     1.058830e+06\n",
       "334     1.492584e+06\n",
       "349     5.690547e+06\n",
       "374     2.716274e+06\n",
       "375     1.739668e+06\n",
       "396     6.120570e+06\n",
       "402     7.165606e+05\n",
       "436     2.549452e+05\n",
       "439     1.113754e+06\n",
       "440     3.703503e+05\n",
       "448     5.629325e+06\n",
       "470     1.140153e+06\n",
       "472     2.482744e+05\n",
       "499     9.464932e+05\n",
       "503     3.010045e+06\n",
       "542     7.074952e+06\n",
       "549     7.145105e+05\n",
       "569     3.751311e+05\n",
       "591     3.904798e+05\n",
       "599     3.552884e+05\n",
       "637     2.162117e+05\n",
       "652     5.330149e+05\n",
       "655     1.987343e+05\n",
       "715     8.317760e+05\n",
       "717     2.303021e+05\n",
       "724     4.208945e+06\n",
       "759     1.097811e+05\n",
       "764     5.983208e+05\n",
       "765     2.639104e+04\n",
       "791     3.339794e+05\n",
       "795     2.032130e+05\n",
       "809     3.639313e+05\n",
       "810     2.017062e+05\n",
       "835     1.488732e+05\n",
       "918     8.696712e+03\n",
       "921     1.023505e+04\n",
       "982     5.773704e+04\n",
       "992     8.584548e+05\n",
       "1008    2.360339e+06\n",
       "1041    3.455356e+04\n",
       "1067    1.048750e+06\n",
       "1094    2.093516e+04\n",
       "1095    2.009776e+05\n",
       "1137    2.643349e+02\n",
       "Name: Cost (inflation-adjusted), dtype: float64"
      ]
     },
     "execution_count": 15,
     "metadata": {},
     "output_type": "execute_result"
    }
   ],
   "source": [
    "cost_df['Cost (inflation-adjusted)'].dropna()"
   ]
  },
  {
   "cell_type": "code",
   "execution_count": 16,
   "metadata": {
    "ExecuteTime": {
     "end_time": "2024-03-08T01:54:59.344452300Z",
     "start_time": "2024-03-08T01:54:59.182457200Z"
    }
   },
   "outputs": [
    {
     "data": {
      "text/plain": [
       "55"
      ]
     },
     "execution_count": 16,
     "metadata": {},
     "output_type": "execute_result"
    }
   ],
   "source": [
    "cost_df['Cost (inflation-adjusted)'].notna().sum()"
   ]
  },
  {
   "cell_type": "markdown",
   "metadata": {},
   "source": [
    "# Regression"
   ]
  },
  {
   "cell_type": "code",
   "execution_count": 17,
   "metadata": {
    "ExecuteTime": {
     "end_time": "2024-03-08T01:54:59.490722200Z",
     "start_time": "2024-03-08T01:54:59.337705700Z"
    }
   },
   "outputs": [],
   "source": [
    "cost_df['Publication date (float)'] = datetime_to_float_year(pd.to_datetime(cost_df['Publication date']))"
   ]
  },
  {
   "cell_type": "code",
   "execution_count": 18,
   "metadata": {
    "ExecuteTime": {
     "end_time": "2024-03-08T01:54:59.700207700Z",
     "start_time": "2024-03-08T01:54:59.462346300Z"
    }
   },
   "outputs": [
    {
     "data": {
      "text/html": [
       "<table class=\"simpletable\">\n",
       "<caption>OLS Regression Results</caption>\n",
       "<tr>\n",
       "  <th>Dep. Variable:</th>            <td>y</td>        <th>  R-squared:         </th> <td>   0.517</td>\n",
       "</tr>\n",
       "<tr>\n",
       "  <th>Model:</th>                   <td>OLS</td>       <th>  Adj. R-squared:    </th> <td>   0.508</td>\n",
       "</tr>\n",
       "<tr>\n",
       "  <th>Method:</th>             <td>Least Squares</td>  <th>  F-statistic:       </th> <td>   56.74</td>\n",
       "</tr>\n",
       "<tr>\n",
       "  <th>Date:</th>             <td>Mon, 06 May 2024</td> <th>  Prob (F-statistic):</th> <td>6.27e-10</td>\n",
       "</tr>\n",
       "<tr>\n",
       "  <th>Time:</th>                 <td>12:58:47</td>     <th>  Log-Likelihood:    </th> <td> -56.629</td>\n",
       "</tr>\n",
       "<tr>\n",
       "  <th>No. Observations:</th>      <td>    55</td>      <th>  AIC:               </th> <td>   117.3</td>\n",
       "</tr>\n",
       "<tr>\n",
       "  <th>Df Residuals:</th>          <td>    53</td>      <th>  BIC:               </th> <td>   121.3</td>\n",
       "</tr>\n",
       "<tr>\n",
       "  <th>Df Model:</th>              <td>     1</td>      <th>                     </th>     <td> </td>   \n",
       "</tr>\n",
       "<tr>\n",
       "  <th>Covariance Type:</th>      <td>nonrobust</td>    <th>                     </th>     <td> </td>   \n",
       "</tr>\n",
       "</table>\n",
       "<table class=\"simpletable\">\n",
       "<tr>\n",
       "    <td></td>       <th>coef</th>     <th>std err</th>      <th>t</th>      <th>P>|t|</th>  <th>[0.025</th>    <th>0.975]</th>  \n",
       "</tr>\n",
       "<tr>\n",
       "  <th>const</th> <td> -674.6138</td> <td>   90.333</td> <td>   -7.468</td> <td> 0.000</td> <td> -855.798</td> <td> -493.430</td>\n",
       "</tr>\n",
       "<tr>\n",
       "  <th>x1</th>    <td>    0.3367</td> <td>    0.045</td> <td>    7.533</td> <td> 0.000</td> <td>    0.247</td> <td>    0.426</td>\n",
       "</tr>\n",
       "</table>\n",
       "<table class=\"simpletable\">\n",
       "<tr>\n",
       "  <th>Omnibus:</th>       <td> 1.990</td> <th>  Durbin-Watson:     </th> <td>   1.752</td>\n",
       "</tr>\n",
       "<tr>\n",
       "  <th>Prob(Omnibus):</th> <td> 0.370</td> <th>  Jarque-Bera (JB):  </th> <td>   1.336</td>\n",
       "</tr>\n",
       "<tr>\n",
       "  <th>Skew:</th>          <td> 0.368</td> <th>  Prob(JB):          </th> <td>   0.513</td>\n",
       "</tr>\n",
       "<tr>\n",
       "  <th>Kurtosis:</th>      <td> 3.206</td> <th>  Cond. No.          </th> <td>1.96e+06</td>\n",
       "</tr>\n",
       "</table><br/><br/>Notes:<br/>[1] Standard Errors assume that the covariance matrix of the errors is correctly specified.<br/>[2] The condition number is large, 1.96e+06. This might indicate that there are<br/>strong multicollinearity or other numerical problems."
      ],
      "text/latex": [
       "\\begin{center}\n",
       "\\begin{tabular}{lclc}\n",
       "\\toprule\n",
       "\\textbf{Dep. Variable:}    &        y         & \\textbf{  R-squared:         } &     0.517   \\\\\n",
       "\\textbf{Model:}            &       OLS        & \\textbf{  Adj. R-squared:    } &     0.508   \\\\\n",
       "\\textbf{Method:}           &  Least Squares   & \\textbf{  F-statistic:       } &     56.74   \\\\\n",
       "\\textbf{Date:}             & Mon, 06 May 2024 & \\textbf{  Prob (F-statistic):} &  6.27e-10   \\\\\n",
       "\\textbf{Time:}             &     12:58:47     & \\textbf{  Log-Likelihood:    } &   -56.629   \\\\\n",
       "\\textbf{No. Observations:} &          55      & \\textbf{  AIC:               } &     117.3   \\\\\n",
       "\\textbf{Df Residuals:}     &          53      & \\textbf{  BIC:               } &     121.3   \\\\\n",
       "\\textbf{Df Model:}         &           1      & \\textbf{                     } &             \\\\\n",
       "\\textbf{Covariance Type:}  &    nonrobust     & \\textbf{                     } &             \\\\\n",
       "\\bottomrule\n",
       "\\end{tabular}\n",
       "\\begin{tabular}{lcccccc}\n",
       "               & \\textbf{coef} & \\textbf{std err} & \\textbf{t} & \\textbf{P$> |$t$|$} & \\textbf{[0.025} & \\textbf{0.975]}  \\\\\n",
       "\\midrule\n",
       "\\textbf{const} &    -674.6138  &       90.333     &    -7.468  &         0.000        &     -855.798    &     -493.430     \\\\\n",
       "\\textbf{x1}    &       0.3367  &        0.045     &     7.533  &         0.000        &        0.247    &        0.426     \\\\\n",
       "\\bottomrule\n",
       "\\end{tabular}\n",
       "\\begin{tabular}{lclc}\n",
       "\\textbf{Omnibus:}       &  1.990 & \\textbf{  Durbin-Watson:     } &    1.752  \\\\\n",
       "\\textbf{Prob(Omnibus):} &  0.370 & \\textbf{  Jarque-Bera (JB):  } &    1.336  \\\\\n",
       "\\textbf{Skew:}          &  0.368 & \\textbf{  Prob(JB):          } &    0.513  \\\\\n",
       "\\textbf{Kurtosis:}      &  3.206 & \\textbf{  Cond. No.          } & 1.96e+06  \\\\\n",
       "\\bottomrule\n",
       "\\end{tabular}\n",
       "%\\caption{OLS Regression Results}\n",
       "\\end{center}\n",
       "\n",
       "Notes: \\newline\n",
       " [1] Standard Errors assume that the covariance matrix of the errors is correctly specified. \\newline\n",
       " [2] The condition number is large, 1.96e+06. This might indicate that there are \\newline\n",
       " strong multicollinearity or other numerical problems."
      ],
      "text/plain": [
       "<class 'statsmodels.iolib.summary.Summary'>\n",
       "\"\"\"\n",
       "                            OLS Regression Results                            \n",
       "==============================================================================\n",
       "Dep. Variable:                      y   R-squared:                       0.517\n",
       "Model:                            OLS   Adj. R-squared:                  0.508\n",
       "Method:                 Least Squares   F-statistic:                     56.74\n",
       "Date:                Mon, 06 May 2024   Prob (F-statistic):           6.27e-10\n",
       "Time:                        12:58:47   Log-Likelihood:                -56.629\n",
       "No. Observations:                  55   AIC:                             117.3\n",
       "Df Residuals:                      53   BIC:                             121.3\n",
       "Df Model:                           1                                         \n",
       "Covariance Type:            nonrobust                                         \n",
       "==============================================================================\n",
       "                 coef    std err          t      P>|t|      [0.025      0.975]\n",
       "------------------------------------------------------------------------------\n",
       "const       -674.6138     90.333     -7.468      0.000    -855.798    -493.430\n",
       "x1             0.3367      0.045      7.533      0.000       0.247       0.426\n",
       "==============================================================================\n",
       "Omnibus:                        1.990   Durbin-Watson:                   1.752\n",
       "Prob(Omnibus):                  0.370   Jarque-Bera (JB):                1.336\n",
       "Skew:                           0.368   Prob(JB):                        0.513\n",
       "Kurtosis:                       3.206   Cond. No.                     1.96e+06\n",
       "==============================================================================\n",
       "\n",
       "Notes:\n",
       "[1] Standard Errors assume that the covariance matrix of the errors is correctly specified.\n",
       "[2] The condition number is large, 1.96e+06. This might indicate that there are\n",
       "strong multicollinearity or other numerical problems.\n",
       "\"\"\""
      ]
     },
     "execution_count": 18,
     "metadata": {},
     "output_type": "execute_result"
    }
   ],
   "source": [
    "reg_results = fit_ols_regression(cost_df, ['Publication date (float)'], 'Cost (inflation-adjusted)', logy=True)\n",
    "reg_results.summary()"
   ]
  },
  {
   "cell_type": "code",
   "execution_count": 19,
   "metadata": {
    "ExecuteTime": {
     "end_time": "2024-03-08T01:55:00.548785500Z",
     "start_time": "2024-03-08T01:54:59.700207700Z"
    }
   },
   "outputs": [
    {
     "name": "stdout",
     "output_type": "stream",
     "text": [
      "0.34 OOMs/year (95% CI: 0.25, 0.43)\n",
      "2.2x/year (95% CI: 1.8x, 2.7x)\n",
      "doubling time of 11 months (95% CI: 8, 15)\n"
     ]
    }
   ],
   "source": [
    "print_growth_rates(reg_results)"
   ]
  },
  {
   "cell_type": "code",
   "execution_count": 20,
   "metadata": {
    "ExecuteTime": {
     "end_time": "2024-03-08T01:55:00.548785500Z",
     "start_time": "2024-03-08T01:54:59.809703300Z"
    }
   },
   "outputs": [
    {
     "data": {
      "text/html": [
       "<div>\n",
       "<style scoped>\n",
       "    .dataframe tbody tr th:only-of-type {\n",
       "        vertical-align: middle;\n",
       "    }\n",
       "\n",
       "    .dataframe tbody tr th {\n",
       "        vertical-align: top;\n",
       "    }\n",
       "\n",
       "    .dataframe thead th {\n",
       "        text-align: right;\n",
       "    }\n",
       "</style>\n",
       "<table border=\"1\" class=\"dataframe\">\n",
       "  <thead>\n",
       "    <tr style=\"text-align: right;\">\n",
       "      <th></th>\n",
       "      <th>Publication date (float)</th>\n",
       "    </tr>\n",
       "  </thead>\n",
       "  <tbody>\n",
       "    <tr>\n",
       "      <th>0</th>\n",
       "      <td>2015.00000</td>\n",
       "    </tr>\n",
       "    <tr>\n",
       "      <th>1</th>\n",
       "      <td>2015.10101</td>\n",
       "    </tr>\n",
       "    <tr>\n",
       "      <th>2</th>\n",
       "      <td>2015.20202</td>\n",
       "    </tr>\n",
       "    <tr>\n",
       "      <th>3</th>\n",
       "      <td>2015.30303</td>\n",
       "    </tr>\n",
       "    <tr>\n",
       "      <th>4</th>\n",
       "      <td>2015.40404</td>\n",
       "    </tr>\n",
       "    <tr>\n",
       "      <th>...</th>\n",
       "      <td>...</td>\n",
       "    </tr>\n",
       "    <tr>\n",
       "      <th>95</th>\n",
       "      <td>2024.59596</td>\n",
       "    </tr>\n",
       "    <tr>\n",
       "      <th>96</th>\n",
       "      <td>2024.69697</td>\n",
       "    </tr>\n",
       "    <tr>\n",
       "      <th>97</th>\n",
       "      <td>2024.79798</td>\n",
       "    </tr>\n",
       "    <tr>\n",
       "      <th>98</th>\n",
       "      <td>2024.89899</td>\n",
       "    </tr>\n",
       "    <tr>\n",
       "      <th>99</th>\n",
       "      <td>2025.00000</td>\n",
       "    </tr>\n",
       "  </tbody>\n",
       "</table>\n",
       "<p>100 rows × 1 columns</p>\n",
       "</div>"
      ],
      "text/plain": [
       "    Publication date (float)\n",
       "0                 2015.00000\n",
       "1                 2015.10101\n",
       "2                 2015.20202\n",
       "3                 2015.30303\n",
       "4                 2015.40404\n",
       "..                       ...\n",
       "95                2024.59596\n",
       "96                2024.69697\n",
       "97                2024.79798\n",
       "98                2024.89899\n",
       "99                2025.00000\n",
       "\n",
       "[100 rows x 1 columns]"
      ]
     },
     "execution_count": 20,
     "metadata": {},
     "output_type": "execute_result"
    }
   ],
   "source": [
    "pred_start_year = 2015\n",
    "pred_end_year = 2025\n",
    "pred_start_date = f'{pred_start_year}-01-01'\n",
    "pred_end_date = f'{pred_end_year}-01-01'\n",
    "\n",
    "pred_years = pd.DataFrame({'Publication date (float)': np.linspace(pred_start_year, pred_end_year, 100)})\n",
    "pred_years"
   ]
  },
  {
   "cell_type": "code",
   "execution_count": 21,
   "metadata": {
    "ExecuteTime": {
     "end_time": "2024-03-08T01:55:00.564420400Z",
     "start_time": "2024-03-08T01:54:59.920051200Z"
    }
   },
   "outputs": [
    {
     "data": {
      "text/html": [
       "<div>\n",
       "<style scoped>\n",
       "    .dataframe tbody tr th:only-of-type {\n",
       "        vertical-align: middle;\n",
       "    }\n",
       "\n",
       "    .dataframe tbody tr th {\n",
       "        vertical-align: top;\n",
       "    }\n",
       "\n",
       "    .dataframe thead th {\n",
       "        text-align: right;\n",
       "    }\n",
       "</style>\n",
       "<table border=\"1\" class=\"dataframe\">\n",
       "  <thead>\n",
       "    <tr style=\"text-align: right;\">\n",
       "      <th></th>\n",
       "      <th>mean</th>\n",
       "      <th>mean_se</th>\n",
       "      <th>mean_ci_lower</th>\n",
       "      <th>mean_ci_upper</th>\n",
       "      <th>obs_ci_lower</th>\n",
       "      <th>obs_ci_upper</th>\n",
       "      <th>Publication date (float)</th>\n",
       "      <th>Publication date</th>\n",
       "    </tr>\n",
       "  </thead>\n",
       "  <tbody>\n",
       "    <tr>\n",
       "      <th>0</th>\n",
       "      <td>3.787270</td>\n",
       "      <td>0.287979</td>\n",
       "      <td>3.209657</td>\n",
       "      <td>4.364884</td>\n",
       "      <td>2.287257</td>\n",
       "      <td>5.287284</td>\n",
       "      <td>2015.00000</td>\n",
       "      <td>2015-01-01</td>\n",
       "    </tr>\n",
       "    <tr>\n",
       "      <th>1</th>\n",
       "      <td>3.821278</td>\n",
       "      <td>0.283711</td>\n",
       "      <td>3.252226</td>\n",
       "      <td>4.390330</td>\n",
       "      <td>2.324540</td>\n",
       "      <td>5.318016</td>\n",
       "      <td>2015.10101</td>\n",
       "      <td>2015-02-06</td>\n",
       "    </tr>\n",
       "    <tr>\n",
       "      <th>2</th>\n",
       "      <td>3.855286</td>\n",
       "      <td>0.279450</td>\n",
       "      <td>3.294780</td>\n",
       "      <td>4.415791</td>\n",
       "      <td>2.361776</td>\n",
       "      <td>5.348795</td>\n",
       "      <td>2015.20202</td>\n",
       "      <td>2015-03-15</td>\n",
       "    </tr>\n",
       "    <tr>\n",
       "      <th>3</th>\n",
       "      <td>3.889293</td>\n",
       "      <td>0.275197</td>\n",
       "      <td>3.337318</td>\n",
       "      <td>4.441269</td>\n",
       "      <td>2.398964</td>\n",
       "      <td>5.379622</td>\n",
       "      <td>2015.30303</td>\n",
       "      <td>2015-04-21</td>\n",
       "    </tr>\n",
       "    <tr>\n",
       "      <th>4</th>\n",
       "      <td>3.923301</td>\n",
       "      <td>0.270953</td>\n",
       "      <td>3.379838</td>\n",
       "      <td>4.466763</td>\n",
       "      <td>2.436104</td>\n",
       "      <td>5.410498</td>\n",
       "      <td>2015.40404</td>\n",
       "      <td>2015-05-28</td>\n",
       "    </tr>\n",
       "    <tr>\n",
       "      <th>...</th>\n",
       "      <td>...</td>\n",
       "      <td>...</td>\n",
       "      <td>...</td>\n",
       "      <td>...</td>\n",
       "      <td>...</td>\n",
       "      <td>...</td>\n",
       "      <td>...</td>\n",
       "      <td>...</td>\n",
       "    </tr>\n",
       "    <tr>\n",
       "      <th>95</th>\n",
       "      <td>7.017994</td>\n",
       "      <td>0.181962</td>\n",
       "      <td>6.653025</td>\n",
       "      <td>7.382964</td>\n",
       "      <td>5.586350</td>\n",
       "      <td>8.449639</td>\n",
       "      <td>2024.59596</td>\n",
       "      <td>2024-08-06</td>\n",
       "    </tr>\n",
       "    <tr>\n",
       "      <th>96</th>\n",
       "      <td>7.052002</td>\n",
       "      <td>0.185856</td>\n",
       "      <td>6.679222</td>\n",
       "      <td>7.424782</td>\n",
       "      <td>5.618346</td>\n",
       "      <td>8.485658</td>\n",
       "      <td>2024.69697</td>\n",
       "      <td>2024-09-12</td>\n",
       "    </tr>\n",
       "    <tr>\n",
       "      <th>97</th>\n",
       "      <td>7.086010</td>\n",
       "      <td>0.189777</td>\n",
       "      <td>6.705365</td>\n",
       "      <td>7.466655</td>\n",
       "      <td>5.650289</td>\n",
       "      <td>8.521730</td>\n",
       "      <td>2024.79798</td>\n",
       "      <td>2024-10-19</td>\n",
       "    </tr>\n",
       "    <tr>\n",
       "      <th>98</th>\n",
       "      <td>7.120017</td>\n",
       "      <td>0.193724</td>\n",
       "      <td>6.731455</td>\n",
       "      <td>7.508579</td>\n",
       "      <td>5.682177</td>\n",
       "      <td>8.557857</td>\n",
       "      <td>2024.89899</td>\n",
       "      <td>2024-11-25</td>\n",
       "    </tr>\n",
       "    <tr>\n",
       "      <th>99</th>\n",
       "      <td>7.154025</td>\n",
       "      <td>0.197696</td>\n",
       "      <td>6.757497</td>\n",
       "      <td>7.550552</td>\n",
       "      <td>5.714012</td>\n",
       "      <td>8.594038</td>\n",
       "      <td>2025.00000</td>\n",
       "      <td>2025-01-01</td>\n",
       "    </tr>\n",
       "  </tbody>\n",
       "</table>\n",
       "<p>100 rows × 8 columns</p>\n",
       "</div>"
      ],
      "text/plain": [
       "        mean   mean_se  mean_ci_lower  mean_ci_upper  obs_ci_lower  \\\n",
       "0   3.787270  0.287979       3.209657       4.364884      2.287257   \n",
       "1   3.821278  0.283711       3.252226       4.390330      2.324540   \n",
       "2   3.855286  0.279450       3.294780       4.415791      2.361776   \n",
       "3   3.889293  0.275197       3.337318       4.441269      2.398964   \n",
       "4   3.923301  0.270953       3.379838       4.466763      2.436104   \n",
       "..       ...       ...            ...            ...           ...   \n",
       "95  7.017994  0.181962       6.653025       7.382964      5.586350   \n",
       "96  7.052002  0.185856       6.679222       7.424782      5.618346   \n",
       "97  7.086010  0.189777       6.705365       7.466655      5.650289   \n",
       "98  7.120017  0.193724       6.731455       7.508579      5.682177   \n",
       "99  7.154025  0.197696       6.757497       7.550552      5.714012   \n",
       "\n",
       "    obs_ci_upper  Publication date (float) Publication date  \n",
       "0       5.287284                2015.00000       2015-01-01  \n",
       "1       5.318016                2015.10101       2015-02-06  \n",
       "2       5.348795                2015.20202       2015-03-15  \n",
       "3       5.379622                2015.30303       2015-04-21  \n",
       "4       5.410498                2015.40404       2015-05-28  \n",
       "..           ...                       ...              ...  \n",
       "95      8.449639                2024.59596       2024-08-06  \n",
       "96      8.485658                2024.69697       2024-09-12  \n",
       "97      8.521730                2024.79798       2024-10-19  \n",
       "98      8.557857                2024.89899       2024-11-25  \n",
       "99      8.594038                2025.00000       2025-01-01  \n",
       "\n",
       "[100 rows x 8 columns]"
      ]
     },
     "execution_count": 21,
     "metadata": {},
     "output_type": "execute_result"
    }
   ],
   "source": [
    "\n",
    "predicted_cost_df = get_predictions(reg_results, pred_years, ['Publication date (float)'])\n",
    "predicted_cost_df['Publication date'] = predicted_cost_df['Publication date (float)'].apply(float_year_to_datetime)\n",
    "predicted_cost_df"
   ]
  },
  {
   "cell_type": "markdown",
   "metadata": {},
   "source": [
    "# Plots"
   ]
  },
  {
   "cell_type": "code",
   "execution_count": 22,
   "metadata": {},
   "outputs": [],
   "source": [
    "title_suffix = f' to train top {100 - compute_percentile_threshold}% most compute-intensive ML systems'\n",
    "plot_title_lookup = {\n",
    "    'cloud': 'Cloud compute cost' + title_suffix,\n",
    "    'amortized': 'Amortized cost of hardware' + title_suffix,\n",
    "    'up-front-server-capex': 'Acquisition cost of hardware' + title_suffix,\n",
    "    'hardware-capex-opex': 'Hardware CapEx + OpEx' + title_suffix,\n",
    "}"
   ]
  },
  {
   "cell_type": "code",
   "execution_count": 23,
   "metadata": {
    "ExecuteTime": {
     "end_time": "2024-03-08T01:55:04.230921600Z",
     "start_time": "2024-03-08T01:55:00.065485900Z"
    }
   },
   "outputs": [
    {
     "data": {
      "application/vnd.plotly.v1+json": {
       "config": {
        "plotlyServerURL": "https://plot.ly"
       },
       "data": [
        {
         "hovertemplate": "Publication date=%{x}<br>Cost (inflation-adjusted)=%{y}<br>System=%{text}<extra></extra>",
         "legendgroup": "",
         "marker": {
          "color": "#636efa",
          "symbol": "circle"
         },
         "mode": "markers+text",
         "name": "",
         "orientation": "v",
         "showlegend": false,
         "text": [
          "Gemini Ultra",
          "Qwen-72B",
          "Inflection-2",
          "Yi-34B",
          "ChatGLM3",
          "Falcon 180B",
          "Llama 2-70B",
          "Llama 2-34B",
          "Claude 2",
          "xTrimoPGLM -100B",
          "PaLM 2",
          "PanGu-Σ",
          "GPT-4",
          "LLaMA-65B",
          "ViT-22B",
          "GPT-3.5 (text-davinci-003)",
          "Galactica",
          "BLOOM-176B",
          "U-PaLM (540B)",
          "BlenderBot 3",
          "GLM-130B",
          "Minerva (540B)",
          "Parti",
          "UL2",
          "OPT-175B",
          "Flamingo",
          "PaLM (540B)",
          "Chinchilla",
          "LaMDA",
          "GPT-NeoX-20B",
          "AlphaCode",
          "ERNIE 3.0 Titan",
          "GLaM",
          "Gopher (280B)",
          "Yuan 1.0",
          "Megatron-Turing NLG 530B",
          "HyperCLOVA",
          "GOAT",
          "ByT5-XXL",
          "ProtT5-XXL",
          "Meta Pseudo Labels",
          "Switch",
          "DALL-E",
          "mT5-XXL",
          "GShard (dense)",
          "iGPT-XL",
          "GPT-3 175B (davinci)",
          "Turing-NLG",
          "Meena",
          "ContextNet + Noisy Student",
          "OpenAI Five",
          "OpenAI Five Rerun",
          "AlphaStar",
          "T5-11B",
          "Megatron-BERT",
          "Megatron-LM (8.3B)",
          "RoBERTa Large",
          "GPT-2 (1.5B)",
          "BERT-Large",
          "BigGAN-deep 512x512",
          "FTW",
          "ResNeXt-101 32x48d",
          "AmoebaNet-A (F=448)",
          "IMPALA",
          "AlphaZero",
          "AlphaGo Zero",
          "OpenAI TI7 DOTA 1v1",
          "JFT",
          "Libratus",
          "AlphaGo Master",
          "NASv3 (CIFAR-10)",
          "Xception",
          "GNMT",
          "AlphaGo Lee",
          "DeepSpeech2 (English)",
          "AlphaGo Fan"
         ],
         "textposition": "top center",
         "type": "scatter",
         "x": [
          "2023-12-06 00:00:00",
          "2023-11-30 00:00:00",
          "2023-11-22 00:00:00",
          "2023-11-02 00:00:00",
          "2023-10-27 00:00:00",
          "2023-09-06 00:00:00",
          "2023-07-18 00:00:00",
          "2023-07-18 00:00:00",
          "2023-07-11 00:00:00",
          "2023-07-06 00:00:00",
          "2023-05-10 00:00:00",
          "2023-03-20 00:00:00",
          "2023-03-15 00:00:00",
          "2023-02-24 00:00:00",
          "2023-02-10 00:00:00",
          "2022-11-28 00:00:00",
          "2022-11-16 00:00:00",
          "2022-11-08 00:00:00",
          "2022-10-20 00:00:00",
          "2022-08-10 00:00:00",
          "2022-08-04 00:00:00",
          "2022-06-29 00:00:00",
          "2022-06-22 00:00:00",
          "2022-05-10 00:00:00",
          "2022-05-02 00:00:00",
          "2022-04-29 00:00:00",
          "2022-04-04 00:00:00",
          "2022-03-29 00:00:00",
          "2022-02-10 00:00:00",
          "2022-02-09 00:00:00",
          "2022-02-02 00:00:00",
          "2021-12-23 00:00:00",
          "2021-12-13 00:00:00",
          "2021-12-08 00:00:00",
          "2021-10-12 00:00:00",
          "2021-10-11 00:00:00",
          "2021-09-10 00:00:00",
          "2021-07-27 00:00:00",
          "2021-05-28 00:00:00",
          "2021-05-04 00:00:00",
          "2021-03-01 00:00:00",
          "2021-01-11 00:00:00",
          "2021-01-05 00:00:00",
          "2020-10-20 00:00:00",
          "2020-06-30 00:00:00",
          "2020-06-17 00:00:00",
          "2020-05-28 00:00:00",
          "2020-02-13 00:00:00",
          "2020-01-28 00:00:00",
          "2020-01-19 00:00:00",
          "2019-12-13 00:00:00",
          "2019-12-13 00:00:00",
          "2019-10-30 00:00:00",
          "2019-10-23 00:00:00",
          "2019-09-17 00:00:00",
          "2019-09-17 00:00:00",
          "2019-07-01 00:00:00",
          "2019-02-14 00:00:00",
          "2018-10-11 00:00:00",
          "2018-09-28 00:00:00",
          "2018-07-03 00:00:00",
          "2018-05-02 00:00:00",
          "2018-02-05 00:00:00",
          "2018-02-05 00:00:00",
          "2017-12-05 00:00:00",
          "2017-10-18 00:00:00",
          "2017-08-11 00:00:00",
          "2017-07-10 00:00:00",
          "2017-01-01 00:00:00",
          "2017-01-01 00:00:00",
          "2016-11-05 00:00:00",
          "2016-10-07 00:00:00",
          "2016-09-26 00:00:00",
          "2016-01-27 00:00:00",
          "2015-12-08 00:00:00",
          "2015-10-01 00:00:00"
         ],
         "xaxis": "x",
         "y": [
          86873653.56402045,
          null,
          11627368.406639844,
          null,
          null,
          27424128.76890914,
          2927431.630055818,
          1312818.8696567717,
          null,
          4654106.662151912,
          13145846.002901439,
          null,
          88739669.56962909,
          1733441.793096153,
          718174.4232280739,
          9629509.35910741,
          1058830.038641226,
          1492583.9480033454,
          5690546.729537613,
          2716274.101304441,
          1739667.8234150037,
          6120569.924328534,
          716560.5595483313,
          254945.16120910787,
          1113753.6329305437,
          370350.3394362226,
          5629325.159430586,
          null,
          1140152.8414580466,
          248274.39026819335,
          null,
          null,
          946493.2005999362,
          3010045.2933682026,
          null,
          7074952.354178973,
          714510.4701145542,
          375131.12141438,
          390479.83324705466,
          355288.44086799916,
          216211.70337960462,
          533014.8864166776,
          198734.31557113706,
          null,
          831776.0336324193,
          230302.07032938526,
          4208944.806534916,
          109781.09796909649,
          598320.8008918108,
          26391.041423708626,
          null,
          null,
          333979.4440634311,
          203212.99759364573,
          363931.28070693073,
          201706.1947070638,
          148873.18745466112,
          null,
          8696.712121375342,
          10235.051806307929,
          null,
          null,
          57737.03584563932,
          null,
          858454.819121981,
          2360338.9567435435,
          null,
          34553.56388560604,
          null,
          1048750.2453824321,
          null,
          20935.16219811625,
          200977.557101916,
          null,
          264.33489482384294,
          null
         ],
         "yaxis": "y"
        }
       ],
       "layout": {
        "autosize": false,
        "font": {
         "size": 14
        },
        "height": 600,
        "legend": {
         "tracegroupgap": 0
        },
        "margin": {
         "b": 10,
         "l": 10,
         "r": 10,
         "t": 40
        },
        "showlegend": false,
        "template": {
         "data": {
          "bar": [
           {
            "error_x": {
             "color": "#2a3f5f"
            },
            "error_y": {
             "color": "#2a3f5f"
            },
            "marker": {
             "line": {
              "color": "#E5ECF6",
              "width": 0.5
             },
             "pattern": {
              "fillmode": "overlay",
              "size": 10,
              "solidity": 0.2
             }
            },
            "type": "bar"
           }
          ],
          "barpolar": [
           {
            "marker": {
             "line": {
              "color": "#E5ECF6",
              "width": 0.5
             },
             "pattern": {
              "fillmode": "overlay",
              "size": 10,
              "solidity": 0.2
             }
            },
            "type": "barpolar"
           }
          ],
          "carpet": [
           {
            "aaxis": {
             "endlinecolor": "#2a3f5f",
             "gridcolor": "white",
             "linecolor": "white",
             "minorgridcolor": "white",
             "startlinecolor": "#2a3f5f"
            },
            "baxis": {
             "endlinecolor": "#2a3f5f",
             "gridcolor": "white",
             "linecolor": "white",
             "minorgridcolor": "white",
             "startlinecolor": "#2a3f5f"
            },
            "type": "carpet"
           }
          ],
          "choropleth": [
           {
            "colorbar": {
             "outlinewidth": 0,
             "ticks": ""
            },
            "type": "choropleth"
           }
          ],
          "contour": [
           {
            "colorbar": {
             "outlinewidth": 0,
             "ticks": ""
            },
            "colorscale": [
             [
              0,
              "#0d0887"
             ],
             [
              0.1111111111111111,
              "#46039f"
             ],
             [
              0.2222222222222222,
              "#7201a8"
             ],
             [
              0.3333333333333333,
              "#9c179e"
             ],
             [
              0.4444444444444444,
              "#bd3786"
             ],
             [
              0.5555555555555556,
              "#d8576b"
             ],
             [
              0.6666666666666666,
              "#ed7953"
             ],
             [
              0.7777777777777778,
              "#fb9f3a"
             ],
             [
              0.8888888888888888,
              "#fdca26"
             ],
             [
              1,
              "#f0f921"
             ]
            ],
            "type": "contour"
           }
          ],
          "contourcarpet": [
           {
            "colorbar": {
             "outlinewidth": 0,
             "ticks": ""
            },
            "type": "contourcarpet"
           }
          ],
          "heatmap": [
           {
            "colorbar": {
             "outlinewidth": 0,
             "ticks": ""
            },
            "colorscale": [
             [
              0,
              "#0d0887"
             ],
             [
              0.1111111111111111,
              "#46039f"
             ],
             [
              0.2222222222222222,
              "#7201a8"
             ],
             [
              0.3333333333333333,
              "#9c179e"
             ],
             [
              0.4444444444444444,
              "#bd3786"
             ],
             [
              0.5555555555555556,
              "#d8576b"
             ],
             [
              0.6666666666666666,
              "#ed7953"
             ],
             [
              0.7777777777777778,
              "#fb9f3a"
             ],
             [
              0.8888888888888888,
              "#fdca26"
             ],
             [
              1,
              "#f0f921"
             ]
            ],
            "type": "heatmap"
           }
          ],
          "heatmapgl": [
           {
            "colorbar": {
             "outlinewidth": 0,
             "ticks": ""
            },
            "colorscale": [
             [
              0,
              "#0d0887"
             ],
             [
              0.1111111111111111,
              "#46039f"
             ],
             [
              0.2222222222222222,
              "#7201a8"
             ],
             [
              0.3333333333333333,
              "#9c179e"
             ],
             [
              0.4444444444444444,
              "#bd3786"
             ],
             [
              0.5555555555555556,
              "#d8576b"
             ],
             [
              0.6666666666666666,
              "#ed7953"
             ],
             [
              0.7777777777777778,
              "#fb9f3a"
             ],
             [
              0.8888888888888888,
              "#fdca26"
             ],
             [
              1,
              "#f0f921"
             ]
            ],
            "type": "heatmapgl"
           }
          ],
          "histogram": [
           {
            "marker": {
             "pattern": {
              "fillmode": "overlay",
              "size": 10,
              "solidity": 0.2
             }
            },
            "type": "histogram"
           }
          ],
          "histogram2d": [
           {
            "colorbar": {
             "outlinewidth": 0,
             "ticks": ""
            },
            "colorscale": [
             [
              0,
              "#0d0887"
             ],
             [
              0.1111111111111111,
              "#46039f"
             ],
             [
              0.2222222222222222,
              "#7201a8"
             ],
             [
              0.3333333333333333,
              "#9c179e"
             ],
             [
              0.4444444444444444,
              "#bd3786"
             ],
             [
              0.5555555555555556,
              "#d8576b"
             ],
             [
              0.6666666666666666,
              "#ed7953"
             ],
             [
              0.7777777777777778,
              "#fb9f3a"
             ],
             [
              0.8888888888888888,
              "#fdca26"
             ],
             [
              1,
              "#f0f921"
             ]
            ],
            "type": "histogram2d"
           }
          ],
          "histogram2dcontour": [
           {
            "colorbar": {
             "outlinewidth": 0,
             "ticks": ""
            },
            "colorscale": [
             [
              0,
              "#0d0887"
             ],
             [
              0.1111111111111111,
              "#46039f"
             ],
             [
              0.2222222222222222,
              "#7201a8"
             ],
             [
              0.3333333333333333,
              "#9c179e"
             ],
             [
              0.4444444444444444,
              "#bd3786"
             ],
             [
              0.5555555555555556,
              "#d8576b"
             ],
             [
              0.6666666666666666,
              "#ed7953"
             ],
             [
              0.7777777777777778,
              "#fb9f3a"
             ],
             [
              0.8888888888888888,
              "#fdca26"
             ],
             [
              1,
              "#f0f921"
             ]
            ],
            "type": "histogram2dcontour"
           }
          ],
          "mesh3d": [
           {
            "colorbar": {
             "outlinewidth": 0,
             "ticks": ""
            },
            "type": "mesh3d"
           }
          ],
          "parcoords": [
           {
            "line": {
             "colorbar": {
              "outlinewidth": 0,
              "ticks": ""
             }
            },
            "type": "parcoords"
           }
          ],
          "pie": [
           {
            "automargin": true,
            "type": "pie"
           }
          ],
          "scatter": [
           {
            "fillpattern": {
             "fillmode": "overlay",
             "size": 10,
             "solidity": 0.2
            },
            "type": "scatter"
           }
          ],
          "scatter3d": [
           {
            "line": {
             "colorbar": {
              "outlinewidth": 0,
              "ticks": ""
             }
            },
            "marker": {
             "colorbar": {
              "outlinewidth": 0,
              "ticks": ""
             }
            },
            "type": "scatter3d"
           }
          ],
          "scattercarpet": [
           {
            "marker": {
             "colorbar": {
              "outlinewidth": 0,
              "ticks": ""
             }
            },
            "type": "scattercarpet"
           }
          ],
          "scattergeo": [
           {
            "marker": {
             "colorbar": {
              "outlinewidth": 0,
              "ticks": ""
             }
            },
            "type": "scattergeo"
           }
          ],
          "scattergl": [
           {
            "marker": {
             "colorbar": {
              "outlinewidth": 0,
              "ticks": ""
             }
            },
            "type": "scattergl"
           }
          ],
          "scattermapbox": [
           {
            "marker": {
             "colorbar": {
              "outlinewidth": 0,
              "ticks": ""
             }
            },
            "type": "scattermapbox"
           }
          ],
          "scatterpolar": [
           {
            "marker": {
             "colorbar": {
              "outlinewidth": 0,
              "ticks": ""
             }
            },
            "type": "scatterpolar"
           }
          ],
          "scatterpolargl": [
           {
            "marker": {
             "colorbar": {
              "outlinewidth": 0,
              "ticks": ""
             }
            },
            "type": "scatterpolargl"
           }
          ],
          "scatterternary": [
           {
            "marker": {
             "colorbar": {
              "outlinewidth": 0,
              "ticks": ""
             }
            },
            "type": "scatterternary"
           }
          ],
          "surface": [
           {
            "colorbar": {
             "outlinewidth": 0,
             "ticks": ""
            },
            "colorscale": [
             [
              0,
              "#0d0887"
             ],
             [
              0.1111111111111111,
              "#46039f"
             ],
             [
              0.2222222222222222,
              "#7201a8"
             ],
             [
              0.3333333333333333,
              "#9c179e"
             ],
             [
              0.4444444444444444,
              "#bd3786"
             ],
             [
              0.5555555555555556,
              "#d8576b"
             ],
             [
              0.6666666666666666,
              "#ed7953"
             ],
             [
              0.7777777777777778,
              "#fb9f3a"
             ],
             [
              0.8888888888888888,
              "#fdca26"
             ],
             [
              1,
              "#f0f921"
             ]
            ],
            "type": "surface"
           }
          ],
          "table": [
           {
            "cells": {
             "fill": {
              "color": "#EBF0F8"
             },
             "line": {
              "color": "white"
             }
            },
            "header": {
             "fill": {
              "color": "#C8D4E3"
             },
             "line": {
              "color": "white"
             }
            },
            "type": "table"
           }
          ]
         },
         "layout": {
          "annotationdefaults": {
           "arrowcolor": "#2a3f5f",
           "arrowhead": 0,
           "arrowwidth": 1
          },
          "autotypenumbers": "strict",
          "coloraxis": {
           "colorbar": {
            "outlinewidth": 0,
            "ticks": ""
           }
          },
          "colorscale": {
           "diverging": [
            [
             0,
             "#8e0152"
            ],
            [
             0.1,
             "#c51b7d"
            ],
            [
             0.2,
             "#de77ae"
            ],
            [
             0.3,
             "#f1b6da"
            ],
            [
             0.4,
             "#fde0ef"
            ],
            [
             0.5,
             "#f7f7f7"
            ],
            [
             0.6,
             "#e6f5d0"
            ],
            [
             0.7,
             "#b8e186"
            ],
            [
             0.8,
             "#7fbc41"
            ],
            [
             0.9,
             "#4d9221"
            ],
            [
             1,
             "#276419"
            ]
           ],
           "sequential": [
            [
             0,
             "#0d0887"
            ],
            [
             0.1111111111111111,
             "#46039f"
            ],
            [
             0.2222222222222222,
             "#7201a8"
            ],
            [
             0.3333333333333333,
             "#9c179e"
            ],
            [
             0.4444444444444444,
             "#bd3786"
            ],
            [
             0.5555555555555556,
             "#d8576b"
            ],
            [
             0.6666666666666666,
             "#ed7953"
            ],
            [
             0.7777777777777778,
             "#fb9f3a"
            ],
            [
             0.8888888888888888,
             "#fdca26"
            ],
            [
             1,
             "#f0f921"
            ]
           ],
           "sequentialminus": [
            [
             0,
             "#0d0887"
            ],
            [
             0.1111111111111111,
             "#46039f"
            ],
            [
             0.2222222222222222,
             "#7201a8"
            ],
            [
             0.3333333333333333,
             "#9c179e"
            ],
            [
             0.4444444444444444,
             "#bd3786"
            ],
            [
             0.5555555555555556,
             "#d8576b"
            ],
            [
             0.6666666666666666,
             "#ed7953"
            ],
            [
             0.7777777777777778,
             "#fb9f3a"
            ],
            [
             0.8888888888888888,
             "#fdca26"
            ],
            [
             1,
             "#f0f921"
            ]
           ]
          },
          "colorway": [
           "#636efa",
           "#EF553B",
           "#00cc96",
           "#ab63fa",
           "#FFA15A",
           "#19d3f3",
           "#FF6692",
           "#B6E880",
           "#FF97FF",
           "#FECB52"
          ],
          "font": {
           "color": "#2a3f5f"
          },
          "geo": {
           "bgcolor": "white",
           "lakecolor": "white",
           "landcolor": "#E5ECF6",
           "showlakes": true,
           "showland": true,
           "subunitcolor": "white"
          },
          "hoverlabel": {
           "align": "left"
          },
          "hovermode": "closest",
          "mapbox": {
           "style": "light"
          },
          "paper_bgcolor": "white",
          "plot_bgcolor": "#E5ECF6",
          "polar": {
           "angularaxis": {
            "gridcolor": "white",
            "linecolor": "white",
            "ticks": ""
           },
           "bgcolor": "#E5ECF6",
           "radialaxis": {
            "gridcolor": "white",
            "linecolor": "white",
            "ticks": ""
           }
          },
          "scene": {
           "xaxis": {
            "backgroundcolor": "#E5ECF6",
            "gridcolor": "white",
            "gridwidth": 2,
            "linecolor": "white",
            "showbackground": true,
            "ticks": "",
            "zerolinecolor": "white"
           },
           "yaxis": {
            "backgroundcolor": "#E5ECF6",
            "gridcolor": "white",
            "gridwidth": 2,
            "linecolor": "white",
            "showbackground": true,
            "ticks": "",
            "zerolinecolor": "white"
           },
           "zaxis": {
            "backgroundcolor": "#E5ECF6",
            "gridcolor": "white",
            "gridwidth": 2,
            "linecolor": "white",
            "showbackground": true,
            "ticks": "",
            "zerolinecolor": "white"
           }
          },
          "shapedefaults": {
           "line": {
            "color": "#2a3f5f"
           }
          },
          "ternary": {
           "aaxis": {
            "gridcolor": "white",
            "linecolor": "white",
            "ticks": ""
           },
           "baxis": {
            "gridcolor": "white",
            "linecolor": "white",
            "ticks": ""
           },
           "bgcolor": "#E5ECF6",
           "caxis": {
            "gridcolor": "white",
            "linecolor": "white",
            "ticks": ""
           }
          },
          "title": {
           "x": 0.05
          },
          "xaxis": {
           "automargin": true,
           "gridcolor": "white",
           "linecolor": "white",
           "ticks": "",
           "title": {
            "standoff": 15
           },
           "zerolinecolor": "white",
           "zerolinewidth": 2
          },
          "yaxis": {
           "automargin": true,
           "gridcolor": "white",
           "linecolor": "white",
           "ticks": "",
           "title": {
            "standoff": 15
           },
           "zerolinecolor": "white",
           "zerolinewidth": 2
          }
         }
        },
        "title": {
         "text": "Hardware CapEx + OpEx to train top 25% most compute-intensive ML systems"
        },
        "width": 800,
        "xaxis": {
         "anchor": "y",
         "domain": [
          0,
          1
         ],
         "range": [
          "2015-01-01",
          "2025-01-01"
         ],
         "title": {
          "text": "Publication date"
         }
        },
        "yaxis": {
         "anchor": "x",
         "domain": [
          0,
          1
         ],
         "title": {
          "text": "Cost (2023 USD)"
         },
         "type": "log"
        }
       }
      }
     },
     "metadata": {},
     "output_type": "display_data"
    }
   ],
   "source": [
    "fig = px.scatter(\n",
    "    cost_df,\n",
    "    x='Publication date',\n",
    "    y='Cost (inflation-adjusted)',\n",
    "    text='System',\n",
    "    log_y=True,\n",
    ")\n",
    "fig.update_traces(textposition='top center')\n",
    "\n",
    "# no legend\n",
    "fig.update_layout(showlegend=False)\n",
    "\n",
    "# axis labels\n",
    "fig.update_xaxes(title_text='Publication date')\n",
    "fig.update_yaxes(title_text='Cost (2023 USD)')\n",
    "\n",
    "# title\n",
    "fig.update_layout(title_text=plot_title_lookup[estimation_method])\n",
    "\n",
    "# update size\n",
    "fig.update_layout(\n",
    "    autosize=False,\n",
    "    width=800,\n",
    "    height=600,\n",
    ")\n",
    "\n",
    "# font size\n",
    "fig.update_layout(\n",
    "    font=dict(\n",
    "        size=14,\n",
    "    )\n",
    ")\n",
    "\n",
    "# axis limits\n",
    "fig.update_xaxes(range=['2015-01-01', '2025-01-01'])\n",
    "\n",
    "# margins\n",
    "fig.update_layout(margin=dict(l=10, r=10, t=40, b=10))\n",
    "\n",
    "save_plot(fig, results_dir, 'cost_scatter')\n",
    "\n",
    "fig.show()"
   ]
  },
  {
   "cell_type": "code",
   "execution_count": 24,
   "metadata": {},
   "outputs": [
    {
     "data": {
      "text/plain": [
       "39       True\n",
       "46      False\n",
       "54      False\n",
       "83      False\n",
       "92      False\n",
       "        ...  \n",
       "1094    False\n",
       "1095    False\n",
       "1131    False\n",
       "1137    False\n",
       "1141    False\n",
       "Name: Training hardware, Length: 76, dtype: bool"
      ]
     },
     "execution_count": 24,
     "metadata": {},
     "output_type": "execute_result"
    }
   ],
   "source": [
    "cost_df['Training hardware'].str.contains('TPU', na=False)"
   ]
  },
  {
   "cell_type": "code",
   "execution_count": 25,
   "metadata": {
    "ExecuteTime": {
     "end_time": "2024-03-08T01:55:04.855981900Z",
     "start_time": "2024-03-08T01:55:04.230921600Z"
    }
   },
   "outputs": [
    {
     "data": {
      "application/vnd.plotly.v1+json": {
       "config": {
        "plotlyServerURL": "https://plot.ly"
       },
       "data": [
        {
         "hovertemplate": "Publication date=%{x}<br>Cost (inflation-adjusted)=%{y}<extra></extra>",
         "legendgroup": "",
         "marker": {
          "color": "rgb(0,100,200)",
          "symbol": "circle"
         },
         "mode": "markers",
         "name": "",
         "orientation": "v",
         "showlegend": false,
         "textposition": "top center",
         "type": "scatter",
         "x": [
          "2023-11-30 00:00:00",
          "2023-11-22 00:00:00",
          "2023-11-02 00:00:00",
          "2023-10-27 00:00:00",
          "2023-09-06 00:00:00",
          "2023-07-18 00:00:00",
          "2023-07-18 00:00:00",
          "2023-07-11 00:00:00",
          "2023-07-06 00:00:00",
          "2023-03-20 00:00:00",
          "2023-03-15 00:00:00",
          "2023-02-24 00:00:00",
          "2022-11-28 00:00:00",
          "2022-11-16 00:00:00",
          "2022-11-08 00:00:00",
          "2022-08-10 00:00:00",
          "2022-08-04 00:00:00",
          "2022-05-02 00:00:00",
          "2022-02-09 00:00:00",
          "2021-12-23 00:00:00",
          "2021-10-12 00:00:00",
          "2021-10-11 00:00:00",
          "2021-09-10 00:00:00",
          "2021-01-05 00:00:00",
          "2020-10-20 00:00:00",
          "2020-06-17 00:00:00",
          "2020-05-28 00:00:00",
          "2020-02-13 00:00:00",
          "2019-12-13 00:00:00",
          "2019-12-13 00:00:00",
          "2019-09-17 00:00:00",
          "2019-09-17 00:00:00",
          "2019-07-01 00:00:00",
          "2019-02-14 00:00:00",
          "2018-07-03 00:00:00",
          "2018-05-02 00:00:00",
          "2018-02-05 00:00:00",
          "2018-02-05 00:00:00",
          "2017-08-11 00:00:00",
          "2017-07-10 00:00:00",
          "2017-01-01 00:00:00",
          "2016-11-05 00:00:00",
          "2016-10-07 00:00:00",
          "2016-09-26 00:00:00",
          "2016-01-27 00:00:00",
          "2015-12-08 00:00:00",
          "2015-10-01 00:00:00"
         ],
         "xaxis": "x",
         "y": [
          null,
          11627368.406639844,
          null,
          null,
          27424128.76890914,
          2927431.630055818,
          1312818.8696567717,
          null,
          4654106.662151912,
          null,
          88739669.56962909,
          1733441.793096153,
          9629509.35910741,
          1058830.038641226,
          1492583.9480033454,
          2716274.101304441,
          1739667.8234150037,
          1113753.6329305437,
          248274.39026819335,
          null,
          null,
          7074952.354178973,
          714510.4701145542,
          198734.31557113706,
          null,
          230302.07032938526,
          4208944.806534916,
          109781.09796909649,
          null,
          null,
          363931.28070693073,
          201706.1947070638,
          148873.18745466112,
          null,
          null,
          null,
          57737.03584563932,
          null,
          null,
          34553.56388560604,
          null,
          null,
          20935.16219811625,
          200977.557101916,
          null,
          264.33489482384294,
          null
         ],
         "yaxis": "y"
        },
        {
         "marker": {
          "color": "rgb(0,100,200)",
          "symbol": "circle-open"
         },
         "mode": "markers",
         "name": "Using equivalent price of TPU",
         "textposition": "top center",
         "type": "scatter",
         "x": [
          "2023-12-06 00:00:00",
          "2023-05-10 00:00:00",
          "2023-02-10 00:00:00",
          "2022-10-20 00:00:00",
          "2022-06-29 00:00:00",
          "2022-06-22 00:00:00",
          "2022-05-10 00:00:00",
          "2022-04-29 00:00:00",
          "2022-04-04 00:00:00",
          "2022-03-29 00:00:00",
          "2022-02-10 00:00:00",
          "2022-02-02 00:00:00",
          "2021-12-13 00:00:00",
          "2021-12-08 00:00:00",
          "2021-07-27 00:00:00",
          "2021-05-28 00:00:00",
          "2021-05-04 00:00:00",
          "2021-03-01 00:00:00",
          "2021-01-11 00:00:00",
          "2020-06-30 00:00:00",
          "2020-01-28 00:00:00",
          "2020-01-19 00:00:00",
          "2019-10-30 00:00:00",
          "2019-10-23 00:00:00",
          "2018-10-11 00:00:00",
          "2018-09-28 00:00:00",
          "2017-12-05 00:00:00",
          "2017-10-18 00:00:00",
          "2017-01-01 00:00:00"
         ],
         "y": [
          86873653.56402045,
          13145846.002901439,
          718174.4232280739,
          5690546.729537613,
          6120569.924328534,
          716560.5595483313,
          254945.16120910787,
          370350.3394362226,
          5629325.159430586,
          null,
          1140152.8414580466,
          null,
          946493.2005999362,
          3010045.2933682026,
          375131.12141438,
          390479.83324705466,
          355288.44086799916,
          216211.70337960462,
          533014.8864166776,
          831776.0336324193,
          598320.8008918108,
          26391.041423708626,
          333979.4440634311,
          203212.99759364573,
          8696.712121375342,
          10235.051806307929,
          858454.819121981,
          2360338.9567435435,
          1048750.2453824321
         ]
        },
        {
         "mode": "text",
         "showlegend": false,
         "text": [
          "Falcon 180B",
          "Llama 2-70B",
          "GPT-4",
          "DALL-E",
          "GPT-3 175B (davinci)",
          "GNMT"
         ],
         "textposition": "top center",
         "type": "scatter",
         "x": [
          "2023-09-06 00:00:00",
          "2023-07-18 00:00:00",
          "2023-03-15 00:00:00",
          "2021-01-05 00:00:00",
          "2020-05-28 00:00:00",
          "2016-09-26 00:00:00"
         ],
         "y": [
          27424128.76890914,
          2927431.630055818,
          88739669.56962909,
          198734.31557113706,
          4208944.806534916,
          200977.557101916
         ]
        },
        {
         "mode": "text",
         "showlegend": false,
         "text": [
          "Gemini Ultra",
          "PaLM (540B)"
         ],
         "textposition": "top center",
         "type": "scatter",
         "x": [
          "2023-12-06 00:00:00",
          "2022-04-04 00:00:00"
         ],
         "y": [
          86873653.56402045,
          5629325.159430586
         ]
        },
        {
         "line": {
          "width": 0
         },
         "mode": "lines",
         "showlegend": false,
         "textposition": "top center",
         "type": "scatter",
         "x": [
          "2015-01-01T00:00:00",
          "2015-02-06T00:00:00",
          "2015-03-15T00:00:00",
          "2015-04-21T00:00:00",
          "2015-05-28T00:00:00",
          "2015-07-04T00:00:00",
          "2015-08-10T00:00:00",
          "2015-09-16T00:00:00",
          "2015-10-22T00:00:00",
          "2015-11-28T00:00:00",
          "2016-01-04T00:00:00",
          "2016-02-10T00:00:00",
          "2016-03-18T00:00:00",
          "2016-04-24T00:00:00",
          "2016-05-31T00:00:00",
          "2016-07-07T00:00:00",
          "2016-08-13T00:00:00",
          "2016-09-19T00:00:00",
          "2016-10-26T00:00:00",
          "2016-12-02T00:00:00",
          "2017-01-08T00:00:00",
          "2017-02-14T00:00:00",
          "2017-03-23T00:00:00",
          "2017-04-28T00:00:00",
          "2017-06-04T00:00:00",
          "2017-07-11T00:00:00",
          "2017-08-17T00:00:00",
          "2017-09-23T00:00:00",
          "2017-10-30T00:00:00",
          "2017-12-06T00:00:00",
          "2018-01-12T00:00:00",
          "2018-02-17T00:00:00",
          "2018-03-26T00:00:00",
          "2018-05-02T00:00:00",
          "2018-06-08T00:00:00",
          "2018-07-15T00:00:00",
          "2018-08-21T00:00:00",
          "2018-09-27T00:00:00",
          "2018-11-03T00:00:00",
          "2018-12-09T00:00:00",
          "2019-01-15T00:00:00",
          "2019-02-21T00:00:00",
          "2019-03-30T00:00:00",
          "2019-05-06T00:00:00",
          "2019-06-12T00:00:00",
          "2019-07-19T00:00:00",
          "2019-08-24T00:00:00",
          "2019-09-30T00:00:00",
          "2019-11-06T00:00:00",
          "2019-12-13T00:00:00",
          "2020-01-19T00:00:00",
          "2020-02-25T00:00:00",
          "2020-04-02T00:00:00",
          "2020-05-09T00:00:00",
          "2020-06-15T00:00:00",
          "2020-07-22T00:00:00",
          "2020-08-28T00:00:00",
          "2020-10-04T00:00:00",
          "2020-11-10T00:00:00",
          "2020-12-17T00:00:00",
          "2021-01-23T00:00:00",
          "2021-02-28T00:00:00",
          "2021-04-06T00:00:00",
          "2021-05-13T00:00:00",
          "2021-06-19T00:00:00",
          "2021-07-26T00:00:00",
          "2021-09-01T00:00:00",
          "2021-10-08T00:00:00",
          "2021-11-14T00:00:00",
          "2021-12-20T00:00:00",
          "2022-01-26T00:00:00",
          "2022-03-04T00:00:00",
          "2022-04-10T00:00:00",
          "2022-05-17T00:00:00",
          "2022-06-23T00:00:00",
          "2022-07-30T00:00:00",
          "2022-09-05T00:00:00",
          "2022-10-11T00:00:00",
          "2022-11-17T00:00:00",
          "2022-12-24T00:00:00",
          "2023-01-30T00:00:00",
          "2023-03-08T00:00:00",
          "2023-04-14T00:00:00",
          "2023-05-21T00:00:00",
          "2023-06-26T00:00:00",
          "2023-08-02T00:00:00",
          "2023-09-08T00:00:00",
          "2023-10-15T00:00:00",
          "2023-11-21T00:00:00",
          "2023-12-28T00:00:00",
          "2024-02-03T00:00:00",
          "2024-03-11T00:00:00",
          "2024-04-17T00:00:00",
          "2024-05-24T00:00:00",
          "2024-06-30T00:00:00",
          "2024-08-06T00:00:00",
          "2024-09-12T00:00:00",
          "2024-10-19T00:00:00",
          "2024-11-25T00:00:00",
          "2025-01-01T00:00:00"
         ],
         "y": [
          1620.5283725407658,
          1787.4176764882045,
          1971.4235935971062,
          2174.2907717772932,
          2397.9399481055325,
          2644.4854336495923,
          2916.254284724185,
          3215.807314248807,
          3545.9621091533772,
          3909.8182326993046,
          4310.784804058153,
          4752.610661472581,
          5239.417329675884,
          5775.7350268493465,
          6366.541960972742,
          7017.30717979267,
          7734.037252339426,
          8523.327072665634,
          9392.41508751109,
          10349.243258426923,
          11402.522074457234,
          12561.800932969301,
          13837.5442020836,
          15241.213267051526,
          16785.354843024106,
          18483.695805519226,
          20351.244745310334,
          22404.400393016305,
          24661.066977418668,
          27140.776475990715,
          29864.817582499647,
          32856.371049664405,
          36140.65086035176,
          39745.050433085125,
          43699.29277300815,
          48035.58313364444,
          52788.76235707831,
          57996.45861077741,
          63699.23474516084,
          69940.72796844353,
          76767.77799690662,
          84230.53932120283,
          92382.57278194392,
          101280.9113367398,
          110986.09481140395,
          121562.16866887629,
          133076.64252354435,
          145600.40541316973,
          159207.59684141615,
          173975.43542396493,
          189984.0106418799,
          207316.04766105776,
          226056.6601904699,
          246293.11152348644,
          268114.6086291164,
          291612.15767310746,
          316878.51081028604,
          344008.2327498045,
          373097.9109728452,
          404246.525583117,
          437555.98419095116,
          473131.815190003,
          511084.00092148583,
          551527.9223098934,
          594585.3800838011,
          640385.6555541402,
          689066.5761913079,
          740775.5572156004,
          795670.5988511138,
          853921.2283018511,
          915709.3845298402,
          981230.2515094118,
          1050693.051242638,
          1124321.8113019045,
          1202356.1232315332,
          1285051.9081720223,
          1372682.2050566948,
          1465537.9951004738,
          1563929.0744367759,
          1668184.9849111678,
          1778656.0113953913,
          1895714.2526142262,
          2019754.7714344757,
          2151196.82981118,
          2290485.2131114723,
          2438091.6483006966,
          2594516.3204141143,
          2760289.4918397027,
          2935973.229142682,
          3122163.242471882,
          3319490.8429442653,
          3528625.023829236,
          3750274.6717996774,
          3985190.9150203695,
          4234169.6153428,
          4498054.012426922,
          4777737.528158406,
          5074166.740337226,
          5388344.535201698,
          5721333.449007893
         ]
        },
        {
         "fill": "tonexty",
         "fillcolor": "rgba(0,100,200,0.2)",
         "line": {
          "width": 0
         },
         "mode": "lines",
         "name": "95% CI of mean",
         "textposition": "top center",
         "type": "scatter",
         "x": [
          "2015-01-01T00:00:00",
          "2015-02-06T00:00:00",
          "2015-03-15T00:00:00",
          "2015-04-21T00:00:00",
          "2015-05-28T00:00:00",
          "2015-07-04T00:00:00",
          "2015-08-10T00:00:00",
          "2015-09-16T00:00:00",
          "2015-10-22T00:00:00",
          "2015-11-28T00:00:00",
          "2016-01-04T00:00:00",
          "2016-02-10T00:00:00",
          "2016-03-18T00:00:00",
          "2016-04-24T00:00:00",
          "2016-05-31T00:00:00",
          "2016-07-07T00:00:00",
          "2016-08-13T00:00:00",
          "2016-09-19T00:00:00",
          "2016-10-26T00:00:00",
          "2016-12-02T00:00:00",
          "2017-01-08T00:00:00",
          "2017-02-14T00:00:00",
          "2017-03-23T00:00:00",
          "2017-04-28T00:00:00",
          "2017-06-04T00:00:00",
          "2017-07-11T00:00:00",
          "2017-08-17T00:00:00",
          "2017-09-23T00:00:00",
          "2017-10-30T00:00:00",
          "2017-12-06T00:00:00",
          "2018-01-12T00:00:00",
          "2018-02-17T00:00:00",
          "2018-03-26T00:00:00",
          "2018-05-02T00:00:00",
          "2018-06-08T00:00:00",
          "2018-07-15T00:00:00",
          "2018-08-21T00:00:00",
          "2018-09-27T00:00:00",
          "2018-11-03T00:00:00",
          "2018-12-09T00:00:00",
          "2019-01-15T00:00:00",
          "2019-02-21T00:00:00",
          "2019-03-30T00:00:00",
          "2019-05-06T00:00:00",
          "2019-06-12T00:00:00",
          "2019-07-19T00:00:00",
          "2019-08-24T00:00:00",
          "2019-09-30T00:00:00",
          "2019-11-06T00:00:00",
          "2019-12-13T00:00:00",
          "2020-01-19T00:00:00",
          "2020-02-25T00:00:00",
          "2020-04-02T00:00:00",
          "2020-05-09T00:00:00",
          "2020-06-15T00:00:00",
          "2020-07-22T00:00:00",
          "2020-08-28T00:00:00",
          "2020-10-04T00:00:00",
          "2020-11-10T00:00:00",
          "2020-12-17T00:00:00",
          "2021-01-23T00:00:00",
          "2021-02-28T00:00:00",
          "2021-04-06T00:00:00",
          "2021-05-13T00:00:00",
          "2021-06-19T00:00:00",
          "2021-07-26T00:00:00",
          "2021-09-01T00:00:00",
          "2021-10-08T00:00:00",
          "2021-11-14T00:00:00",
          "2021-12-20T00:00:00",
          "2022-01-26T00:00:00",
          "2022-03-04T00:00:00",
          "2022-04-10T00:00:00",
          "2022-05-17T00:00:00",
          "2022-06-23T00:00:00",
          "2022-07-30T00:00:00",
          "2022-09-05T00:00:00",
          "2022-10-11T00:00:00",
          "2022-11-17T00:00:00",
          "2022-12-24T00:00:00",
          "2023-01-30T00:00:00",
          "2023-03-08T00:00:00",
          "2023-04-14T00:00:00",
          "2023-05-21T00:00:00",
          "2023-06-26T00:00:00",
          "2023-08-02T00:00:00",
          "2023-09-08T00:00:00",
          "2023-10-15T00:00:00",
          "2023-11-21T00:00:00",
          "2023-12-28T00:00:00",
          "2024-02-03T00:00:00",
          "2024-03-11T00:00:00",
          "2024-04-17T00:00:00",
          "2024-05-24T00:00:00",
          "2024-06-30T00:00:00",
          "2024-08-06T00:00:00",
          "2024-09-12T00:00:00",
          "2024-10-19T00:00:00",
          "2024-11-25T00:00:00",
          "2025-01-01T00:00:00"
         ],
         "y": [
          23167.761472937018,
          24565.74313565586,
          26049.011522457127,
          27622.871154743967,
          29292.96819973655,
          31065.313907155683,
          32946.309836739754,
          34942.7750375143,
          37061.9753570693,
          39311.65507922189,
          41700.07111064307,
          44236.02996285966,
          46928.92780479798,
          49788.79389448705,
          52826.33773610072,
          56053.000352010204,
          59481.010108946255,
          63123.44359456607,
          66994.2921060356,
          71108.53438786216,
          75482.21634309244,
          80132.53854271861,
          85077.95247426121,
          90338.26660486875,
          95934.76349040617,
          101890.32934216798,
          108229.59767227723,
          114979.10888102498,
          122167.48793057156,
          129825.64257389813,
          137986.98498380947,
          146687.68005920044,
          155966.92418434093,
          165867.258786683,
          176434.92368973023,
          187720.2559943219,
          199778.14105216044,
          212668.52301931134,
          226456.9834964601,
          241215.3978667029,
          257022.68011769778,
          273965.62815291516,
          292139.8828165285,
          311651.01502130844,
          332615.7563952619,
          355163.3896587376,
          379437.3153889103,
          405596.81180428504,
          433819.00358590327,
          464301.05446268944,
          497262.5963018617,
          532948.4048522136,
          571631.3293212531,
          613615.4800589881,
          659239.6763884539,
          708881.1558641567,
          762959.5478057795,
          821941.1186428195,
          886343.3049120292,
          956739.5617239114,
          1033764.5695757174,
          1118119.859386164,
          1210579.9329457977,
          1311998.9719206693,
          1423318.2416567947,
          1545574.3055040634,
          1679908.17120731,
          1827575.493851221,
          1989957.9612657684,
          2168575.9892402454,
          2365102.8568748175,
          2581380.4180108765,
          2819436.533676092,
          3081504.383081601,
          3370043.826931262,
          3687765.0163504058,
          4037654.4634074797,
          4423003.814675631,
          4847441.597522863,
          5314968.239697437,
          5829994.696528805,
          6397385.056802506,
          7022503.5385214565,
          7711266.329603509,
          8470198.776611438,
          9306498.477415364,
          10228104.891640367,
          11243776.146673666,
          12363173.787327023,
          13596956.294951346,
          14956882.287347488,
          16455924.405390155,
          18108394.99650367,
          19930084.82038156,
          21938416.129346084,
          24152611.616172653,
          26593880.877014324,
          29285626.208259527,
          32253669.74483334,
          35526504.15606117
         ]
        },
        {
         "line": {
          "color": "rgb(0,100,200)"
         },
         "mode": "lines",
         "name": "Regression mean (growth rate: 2.2x per year)",
         "textposition": "top center",
         "type": "scatter",
         "x": [
          "2015-01-01T00:00:00",
          "2015-02-06T00:00:00",
          "2015-03-15T00:00:00",
          "2015-04-21T00:00:00",
          "2015-05-28T00:00:00",
          "2015-07-04T00:00:00",
          "2015-08-10T00:00:00",
          "2015-09-16T00:00:00",
          "2015-10-22T00:00:00",
          "2015-11-28T00:00:00",
          "2016-01-04T00:00:00",
          "2016-02-10T00:00:00",
          "2016-03-18T00:00:00",
          "2016-04-24T00:00:00",
          "2016-05-31T00:00:00",
          "2016-07-07T00:00:00",
          "2016-08-13T00:00:00",
          "2016-09-19T00:00:00",
          "2016-10-26T00:00:00",
          "2016-12-02T00:00:00",
          "2017-01-08T00:00:00",
          "2017-02-14T00:00:00",
          "2017-03-23T00:00:00",
          "2017-04-28T00:00:00",
          "2017-06-04T00:00:00",
          "2017-07-11T00:00:00",
          "2017-08-17T00:00:00",
          "2017-09-23T00:00:00",
          "2017-10-30T00:00:00",
          "2017-12-06T00:00:00",
          "2018-01-12T00:00:00",
          "2018-02-17T00:00:00",
          "2018-03-26T00:00:00",
          "2018-05-02T00:00:00",
          "2018-06-08T00:00:00",
          "2018-07-15T00:00:00",
          "2018-08-21T00:00:00",
          "2018-09-27T00:00:00",
          "2018-11-03T00:00:00",
          "2018-12-09T00:00:00",
          "2019-01-15T00:00:00",
          "2019-02-21T00:00:00",
          "2019-03-30T00:00:00",
          "2019-05-06T00:00:00",
          "2019-06-12T00:00:00",
          "2019-07-19T00:00:00",
          "2019-08-24T00:00:00",
          "2019-09-30T00:00:00",
          "2019-11-06T00:00:00",
          "2019-12-13T00:00:00",
          "2020-01-19T00:00:00",
          "2020-02-25T00:00:00",
          "2020-04-02T00:00:00",
          "2020-05-09T00:00:00",
          "2020-06-15T00:00:00",
          "2020-07-22T00:00:00",
          "2020-08-28T00:00:00",
          "2020-10-04T00:00:00",
          "2020-11-10T00:00:00",
          "2020-12-17T00:00:00",
          "2021-01-23T00:00:00",
          "2021-02-28T00:00:00",
          "2021-04-06T00:00:00",
          "2021-05-13T00:00:00",
          "2021-06-19T00:00:00",
          "2021-07-26T00:00:00",
          "2021-09-01T00:00:00",
          "2021-10-08T00:00:00",
          "2021-11-14T00:00:00",
          "2021-12-20T00:00:00",
          "2022-01-26T00:00:00",
          "2022-03-04T00:00:00",
          "2022-04-10T00:00:00",
          "2022-05-17T00:00:00",
          "2022-06-23T00:00:00",
          "2022-07-30T00:00:00",
          "2022-09-05T00:00:00",
          "2022-10-11T00:00:00",
          "2022-11-17T00:00:00",
          "2022-12-24T00:00:00",
          "2023-01-30T00:00:00",
          "2023-03-08T00:00:00",
          "2023-04-14T00:00:00",
          "2023-05-21T00:00:00",
          "2023-06-26T00:00:00",
          "2023-08-02T00:00:00",
          "2023-09-08T00:00:00",
          "2023-10-15T00:00:00",
          "2023-11-21T00:00:00",
          "2023-12-28T00:00:00",
          "2024-02-03T00:00:00",
          "2024-03-11T00:00:00",
          "2024-04-17T00:00:00",
          "2024-05-24T00:00:00",
          "2024-06-30T00:00:00",
          "2024-08-06T00:00:00",
          "2024-09-12T00:00:00",
          "2024-10-19T00:00:00",
          "2024-11-25T00:00:00",
          "2025-01-01T00:00:00"
         ],
         "y": [
          6127.317096017741,
          6626.405022087018,
          7166.145121699313,
          7749.8486334736235,
          8381.09650611024,
          9063.761367071913,
          9802.031280670495,
          10600.43544132925,
          11463.871959619226,
          12397.637911567186,
          13407.461835556518,
          14499.538876209388,
          15680.568790817735,
          16957.797051532725,
          18339.05929543289,
          19832.82939519932,
          21448.27144525563,
          23195.295982363474,
          25084.620785530216,
          27127.836628271732,
          29337.47838654625,
          31727.10193867573,
          34311.36732899692,
          37106.12870538455,
          40128.5315825045,
          43397.11802740826,
          46931.9404128466,
          50754.68443604689,
          54888.8021578064,
          59359.655877961704,
          64194.6737299956,
          69423.5179491759,
          75078.2668467328,
          81193.61160629756,
          87807.0691100715,
          94959.21210016575,
          102693.91808739876,
          111058.63853435559,
          120104.68996430583,
          129887.56878160028,
          140467.29173528394,
          151908.7641144913,
          164282.1779342072,
          177663.44255467443,
          192134.6503758533,
          207784.58046425218,
          224709.24320130527,
          243012.46929528742,
          262806.5467697663,
          284212.90983689047,
          307362.883880962,
          332398.49112357025,
          359473.3219122124,
          388753.47697828506,
          420418.58644412435,
          454662.91183178016,
          491696.5378332297,
          531746.6611542697,
          575058.9843376465,
          621899.2231180269,
          672554.7365549053,
          727336.2899452816,
          786579.9613295537,
          850649.2032889486,
          919937.0726825356,
          994868.6420014729,
          1075903.6071366349,
          1163539.1075555708,
          1258312.7761923405,
          1360806.0377577445,
          1471647.6757086276,
          1591517.6897560023,
          1721151.4675800905,
          1861344.2963409708,
          2012956.2416678192,
          2176917.424054279,
          2354233.7250339407,
          2545992.958136662,
          2753371.54249118,
          2977641.720009814,
          3220179.360436963,
          3482472.402136416,
          3766129.980410156,
          4072892.2993461,
          4404641.307750653,
          4763412.244673932,
          5151406.125347561,
          5571003.244143844,
          6024777.77738156,
          6515513.575582033,
          7046221.242044935,
          7620156.602531338,
          8240840.6793440515,
          8912081.292367678,
          9637996.419568934,
          10423039.4602877,
          11272026.556280175,
          12190166.138158195,
          13183090.878461434,
          14256892.247414608
         ]
        }
       ],
       "layout": {
        "autosize": false,
        "font": {
         "size": 14
        },
        "height": 600,
        "legend": {
         "orientation": "h",
         "tracegroupgap": 0,
         "x": 0.5,
         "xanchor": "center",
         "y": -0.15,
         "yanchor": "top"
        },
        "margin": {
         "b": 10,
         "l": 10,
         "r": 10,
         "t": 40
        },
        "template": {
         "data": {
          "bar": [
           {
            "error_x": {
             "color": "#2a3f5f"
            },
            "error_y": {
             "color": "#2a3f5f"
            },
            "marker": {
             "line": {
              "color": "#E5ECF6",
              "width": 0.5
             },
             "pattern": {
              "fillmode": "overlay",
              "size": 10,
              "solidity": 0.2
             }
            },
            "type": "bar"
           }
          ],
          "barpolar": [
           {
            "marker": {
             "line": {
              "color": "#E5ECF6",
              "width": 0.5
             },
             "pattern": {
              "fillmode": "overlay",
              "size": 10,
              "solidity": 0.2
             }
            },
            "type": "barpolar"
           }
          ],
          "carpet": [
           {
            "aaxis": {
             "endlinecolor": "#2a3f5f",
             "gridcolor": "white",
             "linecolor": "white",
             "minorgridcolor": "white",
             "startlinecolor": "#2a3f5f"
            },
            "baxis": {
             "endlinecolor": "#2a3f5f",
             "gridcolor": "white",
             "linecolor": "white",
             "minorgridcolor": "white",
             "startlinecolor": "#2a3f5f"
            },
            "type": "carpet"
           }
          ],
          "choropleth": [
           {
            "colorbar": {
             "outlinewidth": 0,
             "ticks": ""
            },
            "type": "choropleth"
           }
          ],
          "contour": [
           {
            "colorbar": {
             "outlinewidth": 0,
             "ticks": ""
            },
            "colorscale": [
             [
              0,
              "#0d0887"
             ],
             [
              0.1111111111111111,
              "#46039f"
             ],
             [
              0.2222222222222222,
              "#7201a8"
             ],
             [
              0.3333333333333333,
              "#9c179e"
             ],
             [
              0.4444444444444444,
              "#bd3786"
             ],
             [
              0.5555555555555556,
              "#d8576b"
             ],
             [
              0.6666666666666666,
              "#ed7953"
             ],
             [
              0.7777777777777778,
              "#fb9f3a"
             ],
             [
              0.8888888888888888,
              "#fdca26"
             ],
             [
              1,
              "#f0f921"
             ]
            ],
            "type": "contour"
           }
          ],
          "contourcarpet": [
           {
            "colorbar": {
             "outlinewidth": 0,
             "ticks": ""
            },
            "type": "contourcarpet"
           }
          ],
          "heatmap": [
           {
            "colorbar": {
             "outlinewidth": 0,
             "ticks": ""
            },
            "colorscale": [
             [
              0,
              "#0d0887"
             ],
             [
              0.1111111111111111,
              "#46039f"
             ],
             [
              0.2222222222222222,
              "#7201a8"
             ],
             [
              0.3333333333333333,
              "#9c179e"
             ],
             [
              0.4444444444444444,
              "#bd3786"
             ],
             [
              0.5555555555555556,
              "#d8576b"
             ],
             [
              0.6666666666666666,
              "#ed7953"
             ],
             [
              0.7777777777777778,
              "#fb9f3a"
             ],
             [
              0.8888888888888888,
              "#fdca26"
             ],
             [
              1,
              "#f0f921"
             ]
            ],
            "type": "heatmap"
           }
          ],
          "heatmapgl": [
           {
            "colorbar": {
             "outlinewidth": 0,
             "ticks": ""
            },
            "colorscale": [
             [
              0,
              "#0d0887"
             ],
             [
              0.1111111111111111,
              "#46039f"
             ],
             [
              0.2222222222222222,
              "#7201a8"
             ],
             [
              0.3333333333333333,
              "#9c179e"
             ],
             [
              0.4444444444444444,
              "#bd3786"
             ],
             [
              0.5555555555555556,
              "#d8576b"
             ],
             [
              0.6666666666666666,
              "#ed7953"
             ],
             [
              0.7777777777777778,
              "#fb9f3a"
             ],
             [
              0.8888888888888888,
              "#fdca26"
             ],
             [
              1,
              "#f0f921"
             ]
            ],
            "type": "heatmapgl"
           }
          ],
          "histogram": [
           {
            "marker": {
             "pattern": {
              "fillmode": "overlay",
              "size": 10,
              "solidity": 0.2
             }
            },
            "type": "histogram"
           }
          ],
          "histogram2d": [
           {
            "colorbar": {
             "outlinewidth": 0,
             "ticks": ""
            },
            "colorscale": [
             [
              0,
              "#0d0887"
             ],
             [
              0.1111111111111111,
              "#46039f"
             ],
             [
              0.2222222222222222,
              "#7201a8"
             ],
             [
              0.3333333333333333,
              "#9c179e"
             ],
             [
              0.4444444444444444,
              "#bd3786"
             ],
             [
              0.5555555555555556,
              "#d8576b"
             ],
             [
              0.6666666666666666,
              "#ed7953"
             ],
             [
              0.7777777777777778,
              "#fb9f3a"
             ],
             [
              0.8888888888888888,
              "#fdca26"
             ],
             [
              1,
              "#f0f921"
             ]
            ],
            "type": "histogram2d"
           }
          ],
          "histogram2dcontour": [
           {
            "colorbar": {
             "outlinewidth": 0,
             "ticks": ""
            },
            "colorscale": [
             [
              0,
              "#0d0887"
             ],
             [
              0.1111111111111111,
              "#46039f"
             ],
             [
              0.2222222222222222,
              "#7201a8"
             ],
             [
              0.3333333333333333,
              "#9c179e"
             ],
             [
              0.4444444444444444,
              "#bd3786"
             ],
             [
              0.5555555555555556,
              "#d8576b"
             ],
             [
              0.6666666666666666,
              "#ed7953"
             ],
             [
              0.7777777777777778,
              "#fb9f3a"
             ],
             [
              0.8888888888888888,
              "#fdca26"
             ],
             [
              1,
              "#f0f921"
             ]
            ],
            "type": "histogram2dcontour"
           }
          ],
          "mesh3d": [
           {
            "colorbar": {
             "outlinewidth": 0,
             "ticks": ""
            },
            "type": "mesh3d"
           }
          ],
          "parcoords": [
           {
            "line": {
             "colorbar": {
              "outlinewidth": 0,
              "ticks": ""
             }
            },
            "type": "parcoords"
           }
          ],
          "pie": [
           {
            "automargin": true,
            "type": "pie"
           }
          ],
          "scatter": [
           {
            "fillpattern": {
             "fillmode": "overlay",
             "size": 10,
             "solidity": 0.2
            },
            "type": "scatter"
           }
          ],
          "scatter3d": [
           {
            "line": {
             "colorbar": {
              "outlinewidth": 0,
              "ticks": ""
             }
            },
            "marker": {
             "colorbar": {
              "outlinewidth": 0,
              "ticks": ""
             }
            },
            "type": "scatter3d"
           }
          ],
          "scattercarpet": [
           {
            "marker": {
             "colorbar": {
              "outlinewidth": 0,
              "ticks": ""
             }
            },
            "type": "scattercarpet"
           }
          ],
          "scattergeo": [
           {
            "marker": {
             "colorbar": {
              "outlinewidth": 0,
              "ticks": ""
             }
            },
            "type": "scattergeo"
           }
          ],
          "scattergl": [
           {
            "marker": {
             "colorbar": {
              "outlinewidth": 0,
              "ticks": ""
             }
            },
            "type": "scattergl"
           }
          ],
          "scattermapbox": [
           {
            "marker": {
             "colorbar": {
              "outlinewidth": 0,
              "ticks": ""
             }
            },
            "type": "scattermapbox"
           }
          ],
          "scatterpolar": [
           {
            "marker": {
             "colorbar": {
              "outlinewidth": 0,
              "ticks": ""
             }
            },
            "type": "scatterpolar"
           }
          ],
          "scatterpolargl": [
           {
            "marker": {
             "colorbar": {
              "outlinewidth": 0,
              "ticks": ""
             }
            },
            "type": "scatterpolargl"
           }
          ],
          "scatterternary": [
           {
            "marker": {
             "colorbar": {
              "outlinewidth": 0,
              "ticks": ""
             }
            },
            "type": "scatterternary"
           }
          ],
          "surface": [
           {
            "colorbar": {
             "outlinewidth": 0,
             "ticks": ""
            },
            "colorscale": [
             [
              0,
              "#0d0887"
             ],
             [
              0.1111111111111111,
              "#46039f"
             ],
             [
              0.2222222222222222,
              "#7201a8"
             ],
             [
              0.3333333333333333,
              "#9c179e"
             ],
             [
              0.4444444444444444,
              "#bd3786"
             ],
             [
              0.5555555555555556,
              "#d8576b"
             ],
             [
              0.6666666666666666,
              "#ed7953"
             ],
             [
              0.7777777777777778,
              "#fb9f3a"
             ],
             [
              0.8888888888888888,
              "#fdca26"
             ],
             [
              1,
              "#f0f921"
             ]
            ],
            "type": "surface"
           }
          ],
          "table": [
           {
            "cells": {
             "fill": {
              "color": "#EBF0F8"
             },
             "line": {
              "color": "white"
             }
            },
            "header": {
             "fill": {
              "color": "#C8D4E3"
             },
             "line": {
              "color": "white"
             }
            },
            "type": "table"
           }
          ]
         },
         "layout": {
          "annotationdefaults": {
           "arrowcolor": "#2a3f5f",
           "arrowhead": 0,
           "arrowwidth": 1
          },
          "autotypenumbers": "strict",
          "coloraxis": {
           "colorbar": {
            "outlinewidth": 0,
            "ticks": ""
           }
          },
          "colorscale": {
           "diverging": [
            [
             0,
             "#8e0152"
            ],
            [
             0.1,
             "#c51b7d"
            ],
            [
             0.2,
             "#de77ae"
            ],
            [
             0.3,
             "#f1b6da"
            ],
            [
             0.4,
             "#fde0ef"
            ],
            [
             0.5,
             "#f7f7f7"
            ],
            [
             0.6,
             "#e6f5d0"
            ],
            [
             0.7,
             "#b8e186"
            ],
            [
             0.8,
             "#7fbc41"
            ],
            [
             0.9,
             "#4d9221"
            ],
            [
             1,
             "#276419"
            ]
           ],
           "sequential": [
            [
             0,
             "#0d0887"
            ],
            [
             0.1111111111111111,
             "#46039f"
            ],
            [
             0.2222222222222222,
             "#7201a8"
            ],
            [
             0.3333333333333333,
             "#9c179e"
            ],
            [
             0.4444444444444444,
             "#bd3786"
            ],
            [
             0.5555555555555556,
             "#d8576b"
            ],
            [
             0.6666666666666666,
             "#ed7953"
            ],
            [
             0.7777777777777778,
             "#fb9f3a"
            ],
            [
             0.8888888888888888,
             "#fdca26"
            ],
            [
             1,
             "#f0f921"
            ]
           ],
           "sequentialminus": [
            [
             0,
             "#0d0887"
            ],
            [
             0.1111111111111111,
             "#46039f"
            ],
            [
             0.2222222222222222,
             "#7201a8"
            ],
            [
             0.3333333333333333,
             "#9c179e"
            ],
            [
             0.4444444444444444,
             "#bd3786"
            ],
            [
             0.5555555555555556,
             "#d8576b"
            ],
            [
             0.6666666666666666,
             "#ed7953"
            ],
            [
             0.7777777777777778,
             "#fb9f3a"
            ],
            [
             0.8888888888888888,
             "#fdca26"
            ],
            [
             1,
             "#f0f921"
            ]
           ]
          },
          "colorway": [
           "#636efa",
           "#EF553B",
           "#00cc96",
           "#ab63fa",
           "#FFA15A",
           "#19d3f3",
           "#FF6692",
           "#B6E880",
           "#FF97FF",
           "#FECB52"
          ],
          "font": {
           "color": "#2a3f5f"
          },
          "geo": {
           "bgcolor": "white",
           "lakecolor": "white",
           "landcolor": "#E5ECF6",
           "showlakes": true,
           "showland": true,
           "subunitcolor": "white"
          },
          "hoverlabel": {
           "align": "left"
          },
          "hovermode": "closest",
          "mapbox": {
           "style": "light"
          },
          "paper_bgcolor": "white",
          "plot_bgcolor": "#E5ECF6",
          "polar": {
           "angularaxis": {
            "gridcolor": "white",
            "linecolor": "white",
            "ticks": ""
           },
           "bgcolor": "#E5ECF6",
           "radialaxis": {
            "gridcolor": "white",
            "linecolor": "white",
            "ticks": ""
           }
          },
          "scene": {
           "xaxis": {
            "backgroundcolor": "#E5ECF6",
            "gridcolor": "white",
            "gridwidth": 2,
            "linecolor": "white",
            "showbackground": true,
            "ticks": "",
            "zerolinecolor": "white"
           },
           "yaxis": {
            "backgroundcolor": "#E5ECF6",
            "gridcolor": "white",
            "gridwidth": 2,
            "linecolor": "white",
            "showbackground": true,
            "ticks": "",
            "zerolinecolor": "white"
           },
           "zaxis": {
            "backgroundcolor": "#E5ECF6",
            "gridcolor": "white",
            "gridwidth": 2,
            "linecolor": "white",
            "showbackground": true,
            "ticks": "",
            "zerolinecolor": "white"
           }
          },
          "shapedefaults": {
           "line": {
            "color": "#2a3f5f"
           }
          },
          "ternary": {
           "aaxis": {
            "gridcolor": "white",
            "linecolor": "white",
            "ticks": ""
           },
           "baxis": {
            "gridcolor": "white",
            "linecolor": "white",
            "ticks": ""
           },
           "bgcolor": "#E5ECF6",
           "caxis": {
            "gridcolor": "white",
            "linecolor": "white",
            "ticks": ""
           }
          },
          "title": {
           "x": 0.05
          },
          "xaxis": {
           "automargin": true,
           "gridcolor": "white",
           "linecolor": "white",
           "ticks": "",
           "title": {
            "standoff": 15
           },
           "zerolinecolor": "white",
           "zerolinewidth": 2
          },
          "yaxis": {
           "automargin": true,
           "gridcolor": "white",
           "linecolor": "white",
           "ticks": "",
           "title": {
            "standoff": 15
           },
           "zerolinecolor": "white",
           "zerolinewidth": 2
          }
         }
        },
        "title": {
         "text": "Hardware CapEx + OpEx to train top 25% most compute-intensive ML systems",
         "x": 0.5
        },
        "width": 800,
        "xaxis": {
         "anchor": "y",
         "domain": [
          0,
          1
         ],
         "range": [
          "2015-01-01",
          "2025-01-01"
         ],
         "title": {
          "text": "Publication date"
         }
        },
        "yaxis": {
         "anchor": "x",
         "domain": [
          0,
          1
         ],
         "range": [
          1,
          9
         ],
         "title": {
          "text": "Cost (2023 USD)"
         },
         "type": "log"
        }
       }
      }
     },
     "metadata": {},
     "output_type": "display_data"
    }
   ],
   "source": [
    "label_systems = ['GNMT', 'DALL-E', 'GPT-3 175B (davinci)', 'PaLM (540B)', 'Llama 2-70B', 'Falcon 180B', 'GPT-4', 'Gemini Ultra']\n",
    "\n",
    "tpu_mask = cost_df['Training hardware'].str.contains('TPU', na=False)\n",
    "tpu_cost_df = cost_df.loc[tpu_mask]\n",
    "gpu_cost_df = cost_df.loc[~tpu_mask]\n",
    "\n",
    "fig = px.scatter(\n",
    "    gpu_cost_df,\n",
    "    x='Publication date',\n",
    "    y='Cost (inflation-adjusted)',\n",
    "    log_y=True,\n",
    ")\n",
    "fig.add_scatter(\n",
    "    x=tpu_cost_df['Publication date'],\n",
    "    y=tpu_cost_df['Cost (inflation-adjusted)'],\n",
    "    mode='markers',\n",
    "    marker_symbol='circle-open',\n",
    "    name='Using equivalent price of TPU',\n",
    ")\n",
    "fig.add_scatter(\n",
    "    x=gpu_cost_df.loc[gpu_cost_df['System'].isin(label_systems)]['Publication date'],\n",
    "    y=gpu_cost_df.loc[gpu_cost_df['System'].isin(label_systems)]['Cost (inflation-adjusted)'],\n",
    "    text=gpu_cost_df.loc[gpu_cost_df['System'].isin(label_systems)]['System'],\n",
    "    mode='text',\n",
    "    showlegend=False,\n",
    ")\n",
    "fig.add_scatter(\n",
    "    x=tpu_cost_df.loc[tpu_cost_df['System'].isin(label_systems)]['Publication date'],\n",
    "    y=tpu_cost_df.loc[tpu_cost_df['System'].isin(label_systems)]['Cost (inflation-adjusted)'],\n",
    "    text=tpu_cost_df.loc[tpu_cost_df['System'].isin(label_systems)]['System'],\n",
    "    mode='text',\n",
    "    showlegend=False,\n",
    ")\n",
    "\n",
    "# Marker color\n",
    "fig.update_traces(\n",
    "    marker=dict(\n",
    "        color='rgb(0,100,200)',\n",
    "    ),\n",
    "    selector=dict(mode='markers'),\n",
    ")\n",
    "\n",
    "# Shade in CI\n",
    "fig.add_scatter(\n",
    "    x=predicted_cost_df['Publication date'],\n",
    "    y=10**predicted_cost_df['mean_ci_lower'],\n",
    "    mode='lines',\n",
    "    line=dict(width=0),\n",
    "    showlegend=False,\n",
    ")\n",
    "fig.add_scatter(\n",
    "    x=predicted_cost_df['Publication date'],\n",
    "    y=10**predicted_cost_df['mean_ci_upper'],\n",
    "    mode='lines',\n",
    "    fill='tonexty',\n",
    "    fillcolor='rgba(0,100,200,0.2)',\n",
    "    line=dict(width=0),\n",
    "    name='95% CI of mean',\n",
    ")\n",
    "fig.add_scatter(\n",
    "    x=predicted_cost_df['Publication date'],\n",
    "    y=10**predicted_cost_df['mean'],\n",
    "    mode='lines',\n",
    "    line=dict(color='rgb(0,100,200)'),\n",
    "    name=f'Regression mean (growth rate: {10**reg_results.params[1]:.1f}x per year)',\n",
    ")\n",
    "\n",
    "fig.update_traces(textposition='top center')\n",
    "\n",
    "# axis limits\n",
    "fig.update_xaxes(range=['2015-01-01', '2025-01-01'])\n",
    "fig.update_yaxes(range=[1, 9])\n",
    "\n",
    "# legend on top\n",
    "fig.update_layout(legend=dict(\n",
    "    orientation='h',\n",
    "    yanchor='top',\n",
    "    y=-0.15,\n",
    "    xanchor='center',\n",
    "    x=0.5,\n",
    "))\n",
    "\n",
    "# axis labels\n",
    "fig.update_xaxes(title_text='Publication date')\n",
    "fig.update_yaxes(title_text='Cost (2023 USD)')\n",
    "\n",
    "# title\n",
    "fig.update_layout(title_text=plot_title_lookup[estimation_method])\n",
    "\n",
    "# update size\n",
    "fig.update_layout(\n",
    "    autosize=False,\n",
    "    width=800,\n",
    "    height=600,\n",
    "    title_x=0.5,\n",
    ")\n",
    "\n",
    "# font size\n",
    "fig.update_layout(\n",
    "    font=dict(\n",
    "        size=14,\n",
    "    )\n",
    ")\n",
    "\n",
    "# axis limits\n",
    "fig.update_xaxes(range=[pred_start_date, pred_end_date])\n",
    "\n",
    "# margins\n",
    "fig.update_layout(margin=dict(l=10, r=10, t=40, b=10))\n",
    "\n",
    "save_plot(fig, results_dir, 'cost_regression')\n",
    "\n",
    "fig.show()"
   ]
  },
  {
   "cell_type": "markdown",
   "metadata": {},
   "source": [
    "# Export data"
   ]
  },
  {
   "cell_type": "code",
   "execution_count": 26,
   "metadata": {
    "ExecuteTime": {
     "end_time": "2024-03-08T01:55:05.122800400Z",
     "start_time": "2024-03-08T01:55:04.849972900Z"
    }
   },
   "outputs": [
    {
     "data": {
      "text/html": [
       "<div>\n",
       "<style scoped>\n",
       "    .dataframe tbody tr th:only-of-type {\n",
       "        vertical-align: middle;\n",
       "    }\n",
       "\n",
       "    .dataframe tbody tr th {\n",
       "        vertical-align: top;\n",
       "    }\n",
       "\n",
       "    .dataframe thead th {\n",
       "        text-align: right;\n",
       "    }\n",
       "</style>\n",
       "<table border=\"1\" class=\"dataframe\">\n",
       "  <thead>\n",
       "    <tr style=\"text-align: right;\">\n",
       "      <th></th>\n",
       "      <th>System</th>\n",
       "      <th>Domain</th>\n",
       "      <th>Task</th>\n",
       "      <th>Model accessibility</th>\n",
       "      <th>Reference</th>\n",
       "      <th>Publication date</th>\n",
       "      <th>Organization</th>\n",
       "      <th>Parameters</th>\n",
       "      <th>Training compute (FLOP)</th>\n",
       "      <th>Training dataset size (datapoints)</th>\n",
       "      <th>...</th>\n",
       "      <th>Training hardware</th>\n",
       "      <th>Country (from Organization)</th>\n",
       "      <th>Base model</th>\n",
       "      <th>Finetune compute (FLOP)</th>\n",
       "      <th>Hardware quantity</th>\n",
       "      <th>Hardware utilization</th>\n",
       "      <th>Training cloud compute vendor</th>\n",
       "      <th>Training data center</th>\n",
       "      <th>Cost</th>\n",
       "      <th>Cost (inflation-adjusted)</th>\n",
       "    </tr>\n",
       "  </thead>\n",
       "  <tbody>\n",
       "    <tr>\n",
       "      <th>39</th>\n",
       "      <td>Gemini Ultra</td>\n",
       "      <td>Multimodal</td>\n",
       "      <td>Language modelling,Visual question answering,C...</td>\n",
       "      <td>Hosted access (no API)</td>\n",
       "      <td>Gemini: A Family of Highly Capable Multimodal ...</td>\n",
       "      <td>2023-12-06 00:00:00</td>\n",
       "      <td>Google DeepMind</td>\n",
       "      <td>NaN</td>\n",
       "      <td>5.000000e+25</td>\n",
       "      <td>NaN</td>\n",
       "      <td>...</td>\n",
       "      <td>Google TPU v4</td>\n",
       "      <td>Multinational</td>\n",
       "      <td>NaN</td>\n",
       "      <td>NaN</td>\n",
       "      <td>55000.0</td>\n",
       "      <td>NaN</td>\n",
       "      <td>NaN</td>\n",
       "      <td>NaN</td>\n",
       "      <td>8.687365e+07</td>\n",
       "      <td>8.687365e+07</td>\n",
       "    </tr>\n",
       "    <tr>\n",
       "      <th>46</th>\n",
       "      <td>Qwen-72B</td>\n",
       "      <td>Language</td>\n",
       "      <td>Chat,Code generation</td>\n",
       "      <td>Permissive license (depr.)</td>\n",
       "      <td>NaN</td>\n",
       "      <td>2023-11-30 00:00:00</td>\n",
       "      <td>Alibaba</td>\n",
       "      <td>7.200000e+10</td>\n",
       "      <td>1.300000e+24</td>\n",
       "      <td>NaN</td>\n",
       "      <td>...</td>\n",
       "      <td>NaN</td>\n",
       "      <td>China</td>\n",
       "      <td>NaN</td>\n",
       "      <td>NaN</td>\n",
       "      <td>NaN</td>\n",
       "      <td>NaN</td>\n",
       "      <td>NaN</td>\n",
       "      <td>NaN</td>\n",
       "      <td>NaN</td>\n",
       "      <td>NaN</td>\n",
       "    </tr>\n",
       "    <tr>\n",
       "      <th>54</th>\n",
       "      <td>Inflection-2</td>\n",
       "      <td>Language</td>\n",
       "      <td>Language modelling</td>\n",
       "      <td>API access</td>\n",
       "      <td>Inflection-2: The Next Step Up</td>\n",
       "      <td>2023-11-22 00:00:00</td>\n",
       "      <td>Inflection AI</td>\n",
       "      <td>NaN</td>\n",
       "      <td>1.001000e+25</td>\n",
       "      <td>NaN</td>\n",
       "      <td>...</td>\n",
       "      <td>NVIDIA H100 SXM5</td>\n",
       "      <td>United States of America</td>\n",
       "      <td>NaN</td>\n",
       "      <td>NaN</td>\n",
       "      <td>5000.0</td>\n",
       "      <td>NaN</td>\n",
       "      <td>NaN</td>\n",
       "      <td>NaN</td>\n",
       "      <td>1.160021e+07</td>\n",
       "      <td>1.162737e+07</td>\n",
       "    </tr>\n",
       "    <tr>\n",
       "      <th>83</th>\n",
       "      <td>Yi-34B</td>\n",
       "      <td>Language</td>\n",
       "      <td>Chat</td>\n",
       "      <td>Permissive license (depr.)</td>\n",
       "      <td>NaN</td>\n",
       "      <td>2023-11-02 00:00:00</td>\n",
       "      <td>01.AI</td>\n",
       "      <td>3.400000e+10</td>\n",
       "      <td>6.100000e+23</td>\n",
       "      <td>NaN</td>\n",
       "      <td>...</td>\n",
       "      <td>NaN</td>\n",
       "      <td>China</td>\n",
       "      <td>NaN</td>\n",
       "      <td>NaN</td>\n",
       "      <td>NaN</td>\n",
       "      <td>NaN</td>\n",
       "      <td>NaN</td>\n",
       "      <td>NaN</td>\n",
       "      <td>NaN</td>\n",
       "      <td>NaN</td>\n",
       "    </tr>\n",
       "    <tr>\n",
       "      <th>92</th>\n",
       "      <td>ChatGLM3</td>\n",
       "      <td>Multimodal</td>\n",
       "      <td>Chat,Visual question answering</td>\n",
       "      <td>NaN</td>\n",
       "      <td>Zhipu AI launches third-generation base model</td>\n",
       "      <td>2023-10-27 00:00:00</td>\n",
       "      <td>Zhipu AI</td>\n",
       "      <td>1.300000e+11</td>\n",
       "      <td>1.092000e+24</td>\n",
       "      <td>1.050000e+12</td>\n",
       "      <td>...</td>\n",
       "      <td>NaN</td>\n",
       "      <td>China</td>\n",
       "      <td>NaN</td>\n",
       "      <td>NaN</td>\n",
       "      <td>NaN</td>\n",
       "      <td>NaN</td>\n",
       "      <td>NaN</td>\n",
       "      <td>NaN</td>\n",
       "      <td>NaN</td>\n",
       "      <td>NaN</td>\n",
       "    </tr>\n",
       "    <tr>\n",
       "      <th>...</th>\n",
       "      <td>...</td>\n",
       "      <td>...</td>\n",
       "      <td>...</td>\n",
       "      <td>...</td>\n",
       "      <td>...</td>\n",
       "      <td>...</td>\n",
       "      <td>...</td>\n",
       "      <td>...</td>\n",
       "      <td>...</td>\n",
       "      <td>...</td>\n",
       "      <td>...</td>\n",
       "      <td>...</td>\n",
       "      <td>...</td>\n",
       "      <td>...</td>\n",
       "      <td>...</td>\n",
       "      <td>...</td>\n",
       "      <td>...</td>\n",
       "      <td>...</td>\n",
       "      <td>...</td>\n",
       "      <td>...</td>\n",
       "      <td>...</td>\n",
       "    </tr>\n",
       "    <tr>\n",
       "      <th>1094</th>\n",
       "      <td>Xception</td>\n",
       "      <td>Vision</td>\n",
       "      <td>Image classification</td>\n",
       "      <td>NaN</td>\n",
       "      <td>Xception: Deep Learning with Depthwise Separab...</td>\n",
       "      <td>2016-10-07 00:00:00</td>\n",
       "      <td>Google</td>\n",
       "      <td>2.285595e+07</td>\n",
       "      <td>4.360000e+20</td>\n",
       "      <td>3.500000e+08</td>\n",
       "      <td>...</td>\n",
       "      <td>NVIDIA Tesla K80</td>\n",
       "      <td>United States of America</td>\n",
       "      <td>NaN</td>\n",
       "      <td>NaN</td>\n",
       "      <td>60.0</td>\n",
       "      <td>NaN</td>\n",
       "      <td>NaN</td>\n",
       "      <td>NaN</td>\n",
       "      <td>1.917107e+04</td>\n",
       "      <td>2.093516e+04</td>\n",
       "    </tr>\n",
       "    <tr>\n",
       "      <th>1095</th>\n",
       "      <td>GNMT</td>\n",
       "      <td>Language</td>\n",
       "      <td>Translation</td>\n",
       "      <td>NaN</td>\n",
       "      <td>Google's Neural Machine Translation System: Br...</td>\n",
       "      <td>2016-09-26 00:00:00</td>\n",
       "      <td>Google</td>\n",
       "      <td>2.780000e+08</td>\n",
       "      <td>6.900000e+21</td>\n",
       "      <td>3.600000e+08</td>\n",
       "      <td>...</td>\n",
       "      <td>NVIDIA Tesla K80</td>\n",
       "      <td>United States of America</td>\n",
       "      <td>NaN</td>\n",
       "      <td>NaN</td>\n",
       "      <td>96.0</td>\n",
       "      <td>NaN</td>\n",
       "      <td>NaN</td>\n",
       "      <td>NaN</td>\n",
       "      <td>1.840423e+05</td>\n",
       "      <td>2.009776e+05</td>\n",
       "    </tr>\n",
       "    <tr>\n",
       "      <th>1131</th>\n",
       "      <td>AlphaGo Lee</td>\n",
       "      <td>Games</td>\n",
       "      <td>Go</td>\n",
       "      <td>NaN</td>\n",
       "      <td>Mastering the game of Go with deep neural netw...</td>\n",
       "      <td>2016-01-27 00:00:00</td>\n",
       "      <td>DeepMind</td>\n",
       "      <td>NaN</td>\n",
       "      <td>1.900000e+21</td>\n",
       "      <td>2.940000e+07</td>\n",
       "      <td>...</td>\n",
       "      <td>NaN</td>\n",
       "      <td>United Kingdom of Great Britain and Northern I...</td>\n",
       "      <td>NaN</td>\n",
       "      <td>NaN</td>\n",
       "      <td>NaN</td>\n",
       "      <td>NaN</td>\n",
       "      <td>NaN</td>\n",
       "      <td>NaN</td>\n",
       "      <td>NaN</td>\n",
       "      <td>NaN</td>\n",
       "    </tr>\n",
       "    <tr>\n",
       "      <th>1137</th>\n",
       "      <td>DeepSpeech2 (English)</td>\n",
       "      <td>Speech</td>\n",
       "      <td>Speech recognition</td>\n",
       "      <td>NaN</td>\n",
       "      <td>Deep Speech 2: End-to-End Speech Recognition i...</td>\n",
       "      <td>2015-12-08 00:00:00</td>\n",
       "      <td>Baidu Research - Silicon Valley AI Lab</td>\n",
       "      <td>3.800000e+07</td>\n",
       "      <td>2.600000e+19</td>\n",
       "      <td>1.633392e+08</td>\n",
       "      <td>...</td>\n",
       "      <td>NVIDIA GTX Titan X</td>\n",
       "      <td>United States of America</td>\n",
       "      <td>NaN</td>\n",
       "      <td>NaN</td>\n",
       "      <td>NaN</td>\n",
       "      <td>0.45</td>\n",
       "      <td>NaN</td>\n",
       "      <td>NaN</td>\n",
       "      <td>2.376194e+02</td>\n",
       "      <td>2.643349e+02</td>\n",
       "    </tr>\n",
       "    <tr>\n",
       "      <th>1141</th>\n",
       "      <td>AlphaGo Fan</td>\n",
       "      <td>Games</td>\n",
       "      <td>Go</td>\n",
       "      <td>NaN</td>\n",
       "      <td>Mastering the game of Go with deep neural netw...</td>\n",
       "      <td>2015-10-01 00:00:00</td>\n",
       "      <td>Google DeepMind</td>\n",
       "      <td>8.209984e+06</td>\n",
       "      <td>3.800000e+20</td>\n",
       "      <td>NaN</td>\n",
       "      <td>...</td>\n",
       "      <td>NaN</td>\n",
       "      <td>Multinational</td>\n",
       "      <td>NaN</td>\n",
       "      <td>NaN</td>\n",
       "      <td>NaN</td>\n",
       "      <td>NaN</td>\n",
       "      <td>NaN</td>\n",
       "      <td>NaN</td>\n",
       "      <td>NaN</td>\n",
       "      <td>NaN</td>\n",
       "    </tr>\n",
       "  </tbody>\n",
       "</table>\n",
       "<p>76 rows × 22 columns</p>\n",
       "</div>"
      ],
      "text/plain": [
       "                     System      Domain  \\\n",
       "39             Gemini Ultra  Multimodal   \n",
       "46                 Qwen-72B    Language   \n",
       "54             Inflection-2    Language   \n",
       "83                   Yi-34B    Language   \n",
       "92                 ChatGLM3  Multimodal   \n",
       "...                     ...         ...   \n",
       "1094               Xception      Vision   \n",
       "1095                   GNMT    Language   \n",
       "1131            AlphaGo Lee       Games   \n",
       "1137  DeepSpeech2 (English)      Speech   \n",
       "1141            AlphaGo Fan       Games   \n",
       "\n",
       "                                                   Task  \\\n",
       "39    Language modelling,Visual question answering,C...   \n",
       "46                                 Chat,Code generation   \n",
       "54                                   Language modelling   \n",
       "83                                                 Chat   \n",
       "92                       Chat,Visual question answering   \n",
       "...                                                 ...   \n",
       "1094                               Image classification   \n",
       "1095                                        Translation   \n",
       "1131                                                 Go   \n",
       "1137                                 Speech recognition   \n",
       "1141                                                 Go   \n",
       "\n",
       "             Model accessibility  \\\n",
       "39        Hosted access (no API)   \n",
       "46    Permissive license (depr.)   \n",
       "54                    API access   \n",
       "83    Permissive license (depr.)   \n",
       "92                           NaN   \n",
       "...                          ...   \n",
       "1094                         NaN   \n",
       "1095                         NaN   \n",
       "1131                         NaN   \n",
       "1137                         NaN   \n",
       "1141                         NaN   \n",
       "\n",
       "                                              Reference     Publication date  \\\n",
       "39    Gemini: A Family of Highly Capable Multimodal ...  2023-12-06 00:00:00   \n",
       "46                                                  NaN  2023-11-30 00:00:00   \n",
       "54                       Inflection-2: The Next Step Up  2023-11-22 00:00:00   \n",
       "83                                                  NaN  2023-11-02 00:00:00   \n",
       "92        Zhipu AI launches third-generation base model  2023-10-27 00:00:00   \n",
       "...                                                 ...                  ...   \n",
       "1094  Xception: Deep Learning with Depthwise Separab...  2016-10-07 00:00:00   \n",
       "1095  Google's Neural Machine Translation System: Br...  2016-09-26 00:00:00   \n",
       "1131  Mastering the game of Go with deep neural netw...  2016-01-27 00:00:00   \n",
       "1137  Deep Speech 2: End-to-End Speech Recognition i...  2015-12-08 00:00:00   \n",
       "1141  Mastering the game of Go with deep neural netw...  2015-10-01 00:00:00   \n",
       "\n",
       "                                Organization    Parameters  \\\n",
       "39                           Google DeepMind           NaN   \n",
       "46                                   Alibaba  7.200000e+10   \n",
       "54                             Inflection AI           NaN   \n",
       "83                                     01.AI  3.400000e+10   \n",
       "92                                  Zhipu AI  1.300000e+11   \n",
       "...                                      ...           ...   \n",
       "1094                                  Google  2.285595e+07   \n",
       "1095                                  Google  2.780000e+08   \n",
       "1131                                DeepMind           NaN   \n",
       "1137  Baidu Research - Silicon Valley AI Lab  3.800000e+07   \n",
       "1141                         Google DeepMind  8.209984e+06   \n",
       "\n",
       "      Training compute (FLOP)  Training dataset size (datapoints)  ...  \\\n",
       "39               5.000000e+25                                 NaN  ...   \n",
       "46               1.300000e+24                                 NaN  ...   \n",
       "54               1.001000e+25                                 NaN  ...   \n",
       "83               6.100000e+23                                 NaN  ...   \n",
       "92               1.092000e+24                        1.050000e+12  ...   \n",
       "...                       ...                                 ...  ...   \n",
       "1094             4.360000e+20                        3.500000e+08  ...   \n",
       "1095             6.900000e+21                        3.600000e+08  ...   \n",
       "1131             1.900000e+21                        2.940000e+07  ...   \n",
       "1137             2.600000e+19                        1.633392e+08  ...   \n",
       "1141             3.800000e+20                                 NaN  ...   \n",
       "\n",
       "       Training hardware                        Country (from Organization)  \\\n",
       "39         Google TPU v4                                      Multinational   \n",
       "46                   NaN                                              China   \n",
       "54      NVIDIA H100 SXM5                           United States of America   \n",
       "83                   NaN                                              China   \n",
       "92                   NaN                                              China   \n",
       "...                  ...                                                ...   \n",
       "1094    NVIDIA Tesla K80                           United States of America   \n",
       "1095    NVIDIA Tesla K80                           United States of America   \n",
       "1131                 NaN  United Kingdom of Great Britain and Northern I...   \n",
       "1137  NVIDIA GTX Titan X                           United States of America   \n",
       "1141                 NaN                                      Multinational   \n",
       "\n",
       "     Base model Finetune compute (FLOP) Hardware quantity  \\\n",
       "39          NaN                     NaN           55000.0   \n",
       "46          NaN                     NaN               NaN   \n",
       "54          NaN                     NaN            5000.0   \n",
       "83          NaN                     NaN               NaN   \n",
       "92          NaN                     NaN               NaN   \n",
       "...         ...                     ...               ...   \n",
       "1094        NaN                     NaN              60.0   \n",
       "1095        NaN                     NaN              96.0   \n",
       "1131        NaN                     NaN               NaN   \n",
       "1137        NaN                     NaN               NaN   \n",
       "1141        NaN                     NaN               NaN   \n",
       "\n",
       "     Hardware utilization  Training cloud compute vendor  \\\n",
       "39                    NaN                            NaN   \n",
       "46                    NaN                            NaN   \n",
       "54                    NaN                            NaN   \n",
       "83                    NaN                            NaN   \n",
       "92                    NaN                            NaN   \n",
       "...                   ...                            ...   \n",
       "1094                  NaN                            NaN   \n",
       "1095                  NaN                            NaN   \n",
       "1131                  NaN                            NaN   \n",
       "1137                 0.45                            NaN   \n",
       "1141                  NaN                            NaN   \n",
       "\n",
       "      Training data center          Cost Cost (inflation-adjusted)  \n",
       "39                     NaN  8.687365e+07              8.687365e+07  \n",
       "46                     NaN           NaN                       NaN  \n",
       "54                     NaN  1.160021e+07              1.162737e+07  \n",
       "83                     NaN           NaN                       NaN  \n",
       "92                     NaN           NaN                       NaN  \n",
       "...                    ...           ...                       ...  \n",
       "1094                   NaN  1.917107e+04              2.093516e+04  \n",
       "1095                   NaN  1.840423e+05              2.009776e+05  \n",
       "1131                   NaN           NaN                       NaN  \n",
       "1137                   NaN  2.376194e+02              2.643349e+02  \n",
       "1141                   NaN           NaN                       NaN  \n",
       "\n",
       "[76 rows x 22 columns]"
      ]
     },
     "execution_count": 26,
     "metadata": {},
     "output_type": "execute_result"
    }
   ],
   "source": [
    "keep_cols = [\n",
    "    'System',\n",
    "    'Domain',\n",
    "    'Task',\n",
    "    'Model accessibility',\n",
    "    'Reference',\n",
    "    'Publication date',\n",
    "    'Organization',\n",
    "    'Parameters',\n",
    "    'Training compute (FLOP)',\n",
    "    'Training dataset size (datapoints)',\n",
    "    'Epochs',\n",
    "    'Training time (hours)',\n",
    "    'Training hardware',\n",
    "    'Country (from Organization)',\n",
    "    'Base model',\n",
    "    'Finetune compute (FLOP)',\n",
    "    'Hardware quantity',\n",
    "    'Hardware utilization',\n",
    "    'Training cloud compute vendor',\n",
    "    'Training data center',\n",
    "    # 'Training time (chip hours)',\n",
    "    'Cost',\n",
    "    'Cost (inflation-adjusted)',\n",
    "]\n",
    "cost_df[keep_cols]"
   ]
  },
  {
   "cell_type": "code",
   "execution_count": 27,
   "metadata": {
    "ExecuteTime": {
     "end_time": "2024-03-08T01:55:05.694336500Z",
     "start_time": "2024-03-08T01:55:05.094432200Z"
    }
   },
   "outputs": [],
   "source": [
    "cost_df[keep_cols].to_csv(results_dir + 'price dataset.csv', index=False)"
   ]
  },
  {
   "cell_type": "code",
   "execution_count": null,
   "metadata": {},
   "outputs": [],
   "source": []
  }
 ],
 "metadata": {
  "colab": {
   "provenance": []
  },
  "kernelspec": {
   "display_name": "Python 3 (ipykernel)",
   "language": "python",
   "name": "python3"
  },
  "language_info": {
   "codemirror_mode": {
    "name": "ipython",
    "version": 3
   },
   "file_extension": ".py",
   "mimetype": "text/x-python",
   "name": "python",
   "nbconvert_exporter": "python",
   "pygments_lexer": "ipython3",
   "version": "3.11.4"
  }
 },
 "nbformat": 4,
 "nbformat_minor": 1
}
